{
 "cells": [
  {
   "cell_type": "markdown",
   "metadata": {
    "deletable": true,
    "editable": true
   },
   "source": [
    "After dealing with a bunch of issues in trying to build out union selects for views in the PostgreSQL instance for the SGCN National List and others, I decided to come back to putting the main logic for what we need to get out of the data into code that writes values back into the database. I settled on the following common TIR concepts that I think should transcend multiple types of registrations:\n",
    "* Scientific Name - the core scientific name that the taxon is known by with the taxonomic authorities preferred\n",
    "* Common Name - a common name for a taxon that comes from one of multiple sources\n",
    "* Rank - taxonomic rank in the hierarchy for the supplied scientific name (applies in cases where the taxon was aligned with a taxonomic authority)\n",
    "* Taxonomic Group - a logical name for a group of taxa, not necessarily tied directly to official taxonomy\n",
    "* Match Method - the method that was successful in matching a scientific name to a taxonomic authority (helps tease out records that were not matched)\n",
    "* Taxonomic Authority ID - a unique identifier (usually a URL/URI) for the record"
   ]
  },
  {
   "cell_type": "code",
   "execution_count": 1,
   "metadata": {
    "collapsed": true,
    "deletable": true,
    "editable": true
   },
   "outputs": [],
   "source": [
    "import requests,json\n",
    "from IPython.display import display\n",
    "from datetime import datetime\n",
    "from bis2 import gc2\n",
    "from bis import bis\n",
    "from bis import sgcn"
   ]
  },
  {
   "cell_type": "code",
   "execution_count": 7,
   "metadata": {
    "collapsed": false,
    "deletable": true,
    "editable": true
   },
   "outputs": [
    {
     "data": {
      "text/plain": [
       "{'authorityid': 'http://services.itis.gov/?q=tsn:178339',\n",
       " 'cachedate': '2017-07-25T20:07:16.394792',\n",
       " 'commonname': 'Acadian Flycatcher',\n",
       " 'matchmethod': 'TSN Query',\n",
       " 'rank': 'Species',\n",
       " 'scientificname': 'Empidonax virescens',\n",
       " 'taxonomicgroup': 'birds'}"
      ]
     },
     "metadata": {},
     "output_type": "display_data"
    },
    {
     "name": "stdout",
     "output_type": "stream",
     "text": [
      "{'affected_rows': 1, 'success': True, 'auth_check': {'auth_level': None, 'session': None, 'success': True}, '_execution_time': 0.07}\n"
     ]
    },
    {
     "data": {
      "text/plain": [
       "{'authorityid': 'http://services.itis.gov/?q=tsn:180291',\n",
       " 'cachedate': '2017-07-25T20:33:14.467851',\n",
       " 'commonname': 'Palo Duro Deermouse',\n",
       " 'matchmethod': 'TSN Query',\n",
       " 'rank': 'Species',\n",
       " 'scientificname': 'Peromyscus truei comanche',\n",
       " 'taxonomicgroup': 'mammals'}"
      ]
     },
     "metadata": {},
     "output_type": "display_data"
    },
    {
     "name": "stdout",
     "output_type": "stream",
     "text": [
      "{'affected_rows': 1, 'success': True, 'auth_check': {'auth_level': None, 'session': None, 'success': True}, '_execution_time': 0.07}\n"
     ]
    },
    {
     "data": {
      "text/plain": [
       "{'authorityid': 'http://services.itis.gov/?q=tsn:180286',\n",
       " 'cachedate': '2017-07-25T20:34:31.146729',\n",
       " 'commonname': 'Cactus Deermouse',\n",
       " 'matchmethod': 'TSN Query',\n",
       " 'rank': 'Species',\n",
       " 'scientificname': 'Peromyscus eremicus',\n",
       " 'taxonomicgroup': 'mammals'}"
      ]
     },
     "metadata": {},
     "output_type": "display_data"
    },
    {
     "name": "stdout",
     "output_type": "stream",
     "text": [
      "{'affected_rows': 1, 'success': True, 'auth_check': {'auth_level': None, 'session': None, 'success': True}, '_execution_time': 0.07}\n"
     ]
    },
    {
     "data": {
      "text/plain": [
       "{'authorityid': 'http://services.itis.gov/?q=tsn:173725',\n",
       " 'cachedate': '2017-07-25T20:35:23.906014',\n",
       " 'commonname': 'Red Hills Salamander',\n",
       " 'matchmethod': 'TSN Query',\n",
       " 'rank': 'Species',\n",
       " 'scientificname': 'Phaeognathus hubrichti',\n",
       " 'taxonomicgroup': 'amphibians'}"
      ]
     },
     "metadata": {},
     "output_type": "display_data"
    },
    {
     "name": "stdout",
     "output_type": "stream",
     "text": [
      "{'affected_rows': 1, 'success': True, 'auth_check': {'auth_level': None, 'session': None, 'success': True}, '_execution_time': 0.07}\n"
     ]
    },
    {
     "data": {
      "text/plain": [
       "{'authorityid': 'http://services.itis.gov/?q=tsn:173687',\n",
       " 'cachedate': '2017-07-25T20:35:27.002883',\n",
       " 'commonname': 'Long-tailed Salamander',\n",
       " 'matchmethod': 'TSN Query',\n",
       " 'rank': 'Species',\n",
       " 'scientificname': 'Eurycea longicauda',\n",
       " 'taxonomicgroup': 'amphibians'}"
      ]
     },
     "metadata": {},
     "output_type": "display_data"
    },
    {
     "name": "stdout",
     "output_type": "stream",
     "text": [
      "{'affected_rows': 1, 'success': True, 'auth_check': {'auth_level': None, 'session': None, 'success': True}, '_execution_time': 0.076}\n"
     ]
    }
   ],
   "source": [
    "# Set up the actions/targets for this particular instance\n",
    "thisRun = {}\n",
    "thisRun[\"instance\"] = \"DataDistillery\"\n",
    "thisRun[\"db\"] = \"BCB\"\n",
    "thisRun[\"baseURL\"] = gc2.sqlAPI(thisRun[\"instance\"],thisRun[\"db\"])\n",
    "thisRun[\"commitToDB\"] = True\n",
    "thisRun[\"totalRecordsToProcess\"] = 5\n",
    "thisRun[\"totalRecordsProcessed\"] = 0\n",
    "\n",
    "numberWithoutTIRData = 1\n",
    "\n",
    "while numberWithoutTIRData == 1 and thisRun[\"totalRecordsProcessed\"] < thisRun[\"totalRecordsToProcess\"]:\n",
    "    q_recordToSearch = \"SELECT * \\\n",
    "        FROM tir.tir \\\n",
    "        WHERE scientificname IS NULL \\\n",
    "        AND itis IS NOT NULL \\\n",
    "        AND worms IS NOT NULL \\\n",
    "        LIMIT 1\"\n",
    "    recordToSearch = requests.get(thisRun[\"baseURL\"]+\"&q=\"+q_recordToSearch).json()\n",
    "\n",
    "    numberWithoutTIRData = len(recordToSearch[\"features\"])\n",
    "\n",
    "    if numberWithoutTIRData == 1:\n",
    "        tirRecord = recordToSearch[\"features\"][0]\n",
    "\n",
    "        thisRecord = {}\n",
    "        thisRecord[\"id\"] = tirRecord[\"properties\"][\"id\"]\n",
    "        thisRecord[\"registration\"] = json.loads(tirRecord[\"properties\"][\"registration\"])\n",
    "        thisRecord[\"itis\"] = json.loads(tirRecord[\"properties\"][\"itis\"])\n",
    "        thisRecord[\"worms\"] = json.loads(tirRecord[\"properties\"][\"worms\"])\n",
    "        if tirRecord[\"properties\"][\"sgcn\"] is not None:\n",
    "            thisRecord[\"sgcn\"] = json.loads(tirRecord[\"properties\"][\"sgcn\"])\n",
    "        _source = thisRecord[\"registration\"][\"source\"]\n",
    "\n",
    "        tirCommon = {}\n",
    "        tirCommon[\"commonname\"] = None\n",
    "        tirCommon[\"authorityid\"] = None\n",
    "        tirCommon[\"rank\"] = None\n",
    "        tirCommon[\"matchmethod\"] = None\n",
    "        tirCommon[\"taxonomicgroup\"] = None\n",
    "        tirCommon[\"cachedate\"] = datetime.utcnow().isoformat()\n",
    "\n",
    "        tirCommon[\"scientificname\"] = bis.stringCleaning(thisRecord[\"registration\"][\"scientificname\"])\n",
    "        tirCommon[\"source\"] = thisRecord[\"registration\"][\"source\"]\n",
    "        tirCommon[\"matchmethod\"] = \"Not Matched\"\n",
    "        tirCommon[\"authorityid\"] = \"Not Matched to Taxonomic Authority\"\n",
    "        tirCommon[\"rank\"] = \"Unknown Taxonomic Rank\"\n",
    "\n",
    "        if thisRecord[\"itis\"][\"MatchMethod\"] != \"Not Matched\":\n",
    "            tirCommon[\"scientificname\"] = thisRecord[\"itis\"][\"nameWInd\"]\n",
    "            tirCommon[\"matchmethod\"] = thisRecord[\"itis\"][\"MatchMethod\"]\n",
    "            tirCommon[\"authorityid\"] = \"http://services.itis.gov/?q=tsn:\"+str(thisRecord[\"itis\"][\"tsn\"])\n",
    "            tirCommon[\"rank\"] = thisRecord[\"itis\"][\"rank\"]\n",
    "            tirCommon[\"cachedate\"] = thisRecord[\"itis\"][\"cacheDate\"]\n",
    "        elif thisRecord[\"worms\"][\"MatchMethod\"] != \"Not Matched\":\n",
    "            tirCommon[\"scientificname\"] = thisRecord[\"worms\"][\"valid_name\"]\n",
    "            tirCommon[\"matchmethod\"] = thisRecord[\"worms\"][\"MatchMethod\"]\n",
    "            tirCommon[\"authorityid\"] = \"http://www.marinespecies.org/rest/AphiaRecordsByName/\"+str(thisRecord[\"worms\"][\"AphiaID\"])\n",
    "            tirCommon[\"rank\"] = thisRecord[\"worms\"][\"rank\"]\n",
    "            tirCommon[\"cachedate\"] = thisRecord[\"worms\"][\"cacheDate\"]\n",
    "            \n",
    "        if \"commonnames\" in list(thisRecord[\"itis\"].keys()):\n",
    "            for name in thisRecord[\"itis\"][\"commonnames\"]:\n",
    "                if name[\"language\"] == \"English\" or name[\"language\"] == \"unspecified\":\n",
    "                    tirCommon[\"commonname\"] = bis.stringCleaning(name[\"name\"])\n",
    "                    break\n",
    "        \n",
    "        if tirCommon[\"commonname\"] is None and _source == 'SGCN':\n",
    "            tirCommon[\"commonname\"] = bis.stringCleaning(sgcn.getSGCNCommonName(thisRun[\"baseURL\"],bis.stringCleaning(thisRecord[\"registration\"][\"scientificname\"])))\n",
    "\n",
    "        if tirCommon[\"commonname\"] is None:\n",
    "            tirCommon[\"commonname\"] = \"no common name\"\n",
    "\n",
    "        if _source == \"SGCN\" and \"sgcn\" in list(thisRecord.keys()):\n",
    "            tirCommon[\"taxonomicgroup\"] = thisRecord[\"sgcn\"][\"taxonomicgroup\"]\n",
    "            \n",
    "            if tirCommon[\"matchmethod\"] == \"Not Matched\" and \"swap2005\" in list(thisRecord[\"sgcn\"].keys()) and thisRecord[\"sgcn\"][\"swap2005\"] is True:\n",
    "                tirCommon[\"matchmethod\"] = \"Legacy Match\"\n",
    "                tirCommon[\"authorityid\"] = \"https://www.sciencebase.gov/catalog/file/get/56d720ece4b015c306f442d5?f=__disk__38%2F22%2F26%2F38222632f48bf0c893ad1017f6ba557d0f672432\"\n",
    "        elif _source == \"GAP Species\":\n",
    "            tirCommon[\"taxonomicgroup\"] = thisRecord[\"registration\"][\"taxonomicgroup\"]\n",
    "            \n",
    "            if tirCommon[\"scientificname\"] != thisRecord[\"registration\"][\"scientificname\"]:\n",
    "                tirCommon[\"scientificname\"] = thisRecord[\"registration\"][\"scientificname\"]\n",
    "            if tirCommon[\"commonname\"] != thisRecord[\"registration\"][\"commonname\"]:\n",
    "                tirCommon[\"commonname\"] = thisRecord[\"registration\"][\"commonname\"]\n",
    "            \n",
    "        else:\n",
    "            tirCommon[\"taxonomicgroup\"] = \"unknown\"\n",
    "\n",
    "        display (tirCommon)\n",
    "        if thisRun[\"commitToDB\"]:\n",
    "            q_tirCommon = \"UPDATE tir.tir SET \\\n",
    "                source='\"+tirCommon[\"source\"]+\"', \\\n",
    "                scientificname='\"+tirCommon[\"scientificname\"]+\"', \\\n",
    "                commonname='\"+tirCommon[\"commonname\"]+\"', \\\n",
    "                authorityid='\"+tirCommon[\"authorityid\"]+\"', \\\n",
    "                rank='\"+tirCommon[\"rank\"]+\"', \\\n",
    "                taxonomicgroup='\"+tirCommon[\"taxonomicgroup\"]+\"', \\\n",
    "                matchmethod='\"+tirCommon[\"matchmethod\"]+\"', \\\n",
    "                cachedate='\"+tirCommon[\"cachedate\"]+\"' \\\n",
    "                WHERE id = \"+str(thisRecord[\"id\"])\n",
    "            print (requests.get(thisRun[\"baseURL\"]+\"&q=\"+q_tirCommon).json())\n",
    "        thisRun[\"totalRecordsProcessed\"] = thisRun[\"totalRecordsProcessed\"] + 1\n",
    "        \n"
   ]
  },
  {
   "cell_type": "code",
   "execution_count": null,
   "metadata": {
    "collapsed": true,
    "deletable": true,
    "editable": true
   },
   "outputs": [],
   "source": []
  }
 ],
 "metadata": {
  "kernelspec": {
   "display_name": "Python 3",
   "language": "python",
   "name": "python3"
  },
  "language_info": {
   "codemirror_mode": {
    "name": "ipython",
    "version": 3
   },
   "file_extension": ".py",
   "mimetype": "text/x-python",
   "name": "python",
   "nbconvert_exporter": "python",
   "pygments_lexer": "ipython3",
   "version": "3.5.3"
  }
 },
 "nbformat": 4,
 "nbformat_minor": 0
}
