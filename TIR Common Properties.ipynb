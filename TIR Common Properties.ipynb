{
 "cells": [
  {
   "cell_type": "markdown",
   "metadata": {
    "deletable": true,
    "editable": true
   },
   "source": [
    "After dealing with a bunch of issues in trying to build out union selects for views in the PostgreSQL instance for the SGCN National List and others, I decided to come back to putting the main logic for what we need to get out of the data into code that writes values back into the database. I settled on the following common TIR concepts that I think should transcend multiple types of registrations:\n",
    "* Scientific Name - the core scientific name that the taxon is known by with the taxonomic authorities preferred\n",
    "* Common Name - a common name for a taxon that comes from one of multiple sources\n",
    "* Rank - taxonomic rank in the hierarchy for the supplied scientific name (applies in cases where the taxon was aligned with a taxonomic authority)\n",
    "* Taxonomic Group - a logical name for a group of taxa, not necessarily tied directly to official taxonomy\n",
    "* Match Method - the method that was successful in matching a scientific name to a taxonomic authority (helps tease out records that were not matched)\n",
    "* Taxonomic Authority ID - a unique identifier (usually a URL/URI) for the record"
   ]
  },
  {
   "cell_type": "code",
   "execution_count": 1,
   "metadata": {
    "collapsed": true,
    "deletable": true,
    "editable": true
   },
   "outputs": [],
   "source": [
    "import requests,json\n",
    "from IPython.display import display\n",
    "from bis2 import gc2\n",
    "from bis import bis\n",
    "from bis import sgcn"
   ]
  },
  {
   "cell_type": "code",
   "execution_count": 3,
   "metadata": {
    "collapsed": false,
    "deletable": true,
    "editable": true
   },
   "outputs": [
    {
     "data": {
      "text/plain": [
       "{'authorityid': 'http://services.itis.gov/?q=tsn:622021',\n",
       " 'commonname': 'Ribbon Seal',\n",
       " 'matchmethod': 'Exact Match',\n",
       " 'rank': 'Species',\n",
       " 'scientificname': 'Histriophoca fasciata',\n",
       " 'taxonomicgroup': 'Mammals'}"
      ]
     },
     "metadata": {},
     "output_type": "display_data"
    }
   ],
   "source": [
    "# Set up the actions/targets for this particular instance\n",
    "thisRun = {}\n",
    "thisRun[\"instance\"] = \"DataDistillery\"\n",
    "thisRun[\"db\"] = \"BCB\"\n",
    "thisRun[\"baseURL\"] = gc2.sqlAPI(thisRun[\"instance\"],thisRun[\"db\"])\n",
    "thisRun[\"commitToDB\"] = False\n",
    "thisRun[\"totalRecordsToProcess\"] = 1\n",
    "thisRun[\"totalRecordsProcessed\"] = 0\n",
    "\n",
    "numberWithoutTIRData = 1\n",
    "\n",
    "while numberWithoutTIRData == 1 and thisRun[\"totalRecordsProcessed\"] < thisRun[\"totalRecordsToProcess\"]:\n",
    "    q_recordToSearch = \"SELECT * \\\n",
    "        FROM tir.tir \\\n",
    "        WHERE scientificname IS NULL \\\n",
    "        AND itis IS NOT NULL \\\n",
    "        AND worms IS NOT NULL \\\n",
    "        LIMIT 1\"\n",
    "    recordToSearch = requests.get(thisRun[\"baseURL\"]+\"&q=\"+q_recordToSearch).json()\n",
    "\n",
    "    numberWithoutTIRData = len(recordToSearch[\"features\"])\n",
    "\n",
    "    if numberWithoutTIRData == 1:\n",
    "        tirRecord = recordToSearch[\"features\"][0]\n",
    "\n",
    "        thisRecord = {}\n",
    "        thisRecord[\"id\"] = tirRecord[\"properties\"][\"id\"]\n",
    "        thisRecord[\"registration\"] = json.loads(tirRecord[\"properties\"][\"registration\"])\n",
    "        thisRecord[\"itis\"] = json.loads(tirRecord[\"properties\"][\"itis\"])\n",
    "        thisRecord[\"worms\"] = json.loads(tirRecord[\"properties\"][\"worms\"])\n",
    "        if tirRecord[\"properties\"][\"sgcn\"] is not None:\n",
    "            thisRecord[\"sgcn\"] = json.loads(tirRecord[\"properties\"][\"sgcn\"])\n",
    "        _source = thisRecord[\"registration\"][\"source\"]\n",
    "\n",
    "        tirCommon = {}\n",
    "        tirCommon[\"scientificname\"] = None\n",
    "        tirCommon[\"commonname\"] = None\n",
    "        tirCommon[\"authorityid\"] = None\n",
    "        tirCommon[\"rank\"] = None\n",
    "        tirCommon[\"matchmethod\"] = None\n",
    "        tirCommon[\"taxonomicgroup\"] = None\n",
    "\n",
    "        if thisRecord[\"itis\"][\"MatchMethod\"] != \"Not Matched\":\n",
    "            tirCommon[\"scientificname\"] = thisRecord[\"itis\"][\"nameWInd\"]\n",
    "            tirCommon[\"matchmethod\"] = thisRecord[\"itis\"][\"MatchMethod\"]\n",
    "            tirCommon[\"authorityid\"] = \"http://services.itis.gov/?q=tsn:\"+str(thisRecord[\"itis\"][\"tsn\"])\n",
    "            tirCommon[\"rank\"] = thisRecord[\"itis\"][\"rank\"]\n",
    "        elif thisRecord[\"worms\"][\"MatchMethod\"] != \"Not Matched\":\n",
    "            tirCommon[\"scientificname\"] = thisRecord[\"worms\"][\"valid_name\"]\n",
    "            tirCommon[\"matchmethod\"] = thisRecord[\"worms\"][\"MatchMethod\"]\n",
    "            tirCommon[\"authorityid\"] = \"http://www.marinespecies.org/rest/AphiaRecordsByName/\"+str(thisRecord[\"worms\"][\"AphiaID\"])\n",
    "            tirCommon[\"rank\"] = thisRecord[\"worms\"][\"rank\"]\n",
    "        else:\n",
    "            tirCommon[\"scientificname\"] = bis.stringCleaning(thisRecord[\"registration\"][\"scientificname\"])\n",
    "            tirCommon[\"matchmethod\"] = \"Not Matched\"\n",
    "            tirCommon[\"authorityid\"] = \"Not Matched to Taxonomic Authority\"\n",
    "            tirCommon[\"rank\"] = \"Unknown Taxonomic Rank\"\n",
    "\n",
    "        if \"commonnames\" in list(thisRecord[\"itis\"].keys()):\n",
    "            for name in thisRecord[\"itis\"][\"commonnames\"]:\n",
    "                if name[\"language\"] == \"English\" or name[\"language\"] == \"unspecified\":\n",
    "                    tirCommon[\"commonname\"] = bis.stringCleaning(name[\"name\"])\n",
    "                    break\n",
    "        \n",
    "        if tirCommon[\"commonname\"] is None and _source == 'SGCN':\n",
    "            tirCommon[\"commonname\"] = bis.stringCleaning(sgcn.getSGCNCommonName(thisRun[\"baseURL\"],bis.stringCleaning(thisRecord[\"registration\"][\"scientificname\"])))\n",
    "\n",
    "        if tirCommon[\"commonname\"] is None:\n",
    "            tirCommon[\"commonname\"] = \"no common name\"\n",
    "\n",
    "        if _source == \"SGCN\" and \"sgcn\" in list(thisRecord.keys()):\n",
    "            tirCommon[\"taxonomicgroup\"] = thisRecord[\"sgcn\"][\"taxonomicgroup\"]\n",
    "        else:\n",
    "            tirCommon[\"taxonomicgroup\"] = \"unknown\"\n",
    "\n",
    "        display (tirCommon)\n",
    "        if thisRun[\"commitToDB\"]:\n",
    "            q_tirCommon = \"UPDATE tir.tir SET \\\n",
    "                scientificname='\"+tirCommon[\"scientificname\"]+\"', \\\n",
    "                commonname='\"+tirCommon[\"commonname\"]+\"', \\\n",
    "                authorityid='\"+tirCommon[\"authorityid\"]+\"', \\\n",
    "                rank='\"+tirCommon[\"rank\"]+\"', \\\n",
    "                taxonomicgroup='\"+tirCommon[\"taxonomicgroup\"]+\"', \\\n",
    "                matchmethod='\"+tirCommon[\"matchmethod\"]+\"' \\\n",
    "                WHERE id = \"+str(thisRecord[\"id\"])\n",
    "            print (requests.get(thisRun[\"baseURL\"]+\"&q=\"+q_tirCommon).json())\n",
    "        thisRun[\"totalRecordsProcessed\"] = thisRun[\"totalRecordsProcessed\"] + 1\n",
    "        \n"
   ]
  },
  {
   "cell_type": "code",
   "execution_count": null,
   "metadata": {
    "collapsed": true,
    "deletable": true,
    "editable": true
   },
   "outputs": [],
   "source": []
  }
 ],
 "metadata": {
  "kernelspec": {
   "display_name": "Python 3",
   "language": "python",
   "name": "python3"
  },
  "language_info": {
   "codemirror_mode": {
    "name": "ipython",
    "version": 3
   },
   "file_extension": ".py",
   "mimetype": "text/x-python",
   "name": "python",
   "nbconvert_exporter": "python",
   "pygments_lexer": "ipython3",
   "version": "3.5.3"
  }
 },
 "nbformat": 4,
 "nbformat_minor": 0
}
