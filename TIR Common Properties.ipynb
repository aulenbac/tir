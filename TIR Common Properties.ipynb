{
 "cells": [
  {
   "cell_type": "markdown",
   "metadata": {
    "deletable": true,
    "editable": true
   },
   "source": [
    "After dealing with a bunch of issues in trying to build out union selects for views in the PostgreSQL instance for the SGCN National List and others, I decided to come back to putting the main logic for what we need to get out of the data into code that writes values back into the database. I settled on the following common TIR concepts that I think should transcend multiple types of registrations:\n",
    "* Scientific Name - the core scientific name that the taxon is known by with the taxonomic authorities preferred\n",
    "* Common Name - a common name for a taxon that comes from one of multiple sources\n",
    "* Rank - taxonomic rank in the hierarchy for the supplied scientific name (applies in cases where the taxon was aligned with a taxonomic authority)\n",
    "* Taxonomic Group - a logical name for a group of taxa, not necessarily tied directly to official taxonomy\n",
    "* Match Method - the method that was successful in matching a scientific name to a taxonomic authority (helps tease out records that were not matched)\n",
    "* Taxonomic Authority ID - a unique identifier (usually a URL/URI) for the record\n",
    "* Source - the source of the original registration (used especially as a filtering parameter to tease out only certain records)"
   ]
  },
  {
   "cell_type": "code",
   "execution_count": 1,
   "metadata": {
    "collapsed": true,
    "deletable": true,
    "editable": true
   },
   "outputs": [],
   "source": [
    "import requests,json\n",
    "from IPython.display import display\n",
    "from datetime import datetime\n",
    "from bis2 import gc2\n",
    "from bis import bis\n",
    "from bis import sgcn"
   ]
  },
  {
   "cell_type": "code",
   "execution_count": 4,
   "metadata": {
    "collapsed": false,
    "deletable": true,
    "editable": true
   },
   "outputs": [
    {
     "data": {
      "text/plain": [
       "{'authorityid': 'http://services.itis.gov/?q=tsn:178041',\n",
       " 'cachedate': '2017-08-11T13:08:03.522326',\n",
       " 'commonname': \"Allen's Hummingbird\",\n",
       " 'matchmethod': 'TSN Query',\n",
       " 'rank': 'Species',\n",
       " 'scientificname': 'Selasphorus sasin',\n",
       " 'source': 'GAP Species',\n",
       " 'taxonomicgroup': 'Birds'}"
      ]
     },
     "metadata": {},
     "output_type": "display_data"
    },
    {
     "name": "stdout",
     "output_type": "stream",
     "text": [
      "{'success': True, 'affected_rows': 1, 'auth_check': {'success': True, 'checked_relations': ['tir.tir'], 'auth_level': 'Write', 'session': None}, '_execution_time': 0.08}\n"
     ]
    },
    {
     "data": {
      "text/plain": [
       "{'authorityid': 'http://www.marinespecies.org/rest/AphiaRecordsByName/159903',\n",
       " 'cachedate': '2017-08-11T13:08:05.182854',\n",
       " 'commonname': 'Wavy Lamellaria',\n",
       " 'matchmethod': 'Exact Match',\n",
       " 'rank': 'Species',\n",
       " 'scientificname': 'Limneria undata',\n",
       " 'source': 'SGCN',\n",
       " 'taxonomicgroup': 'Mollusks'}"
      ]
     },
     "metadata": {},
     "output_type": "display_data"
    },
    {
     "name": "stdout",
     "output_type": "stream",
     "text": [
      "{'success': True, 'affected_rows': 1, 'auth_check': {'success': True, 'checked_relations': ['tir.tir'], 'auth_level': 'Write', 'session': None}, '_execution_time': 0.081}\n"
     ]
    },
    {
     "data": {
      "text/plain": [
       "{'authorityid': 'http://services.itis.gov/?q=tsn:159062',\n",
       " 'cachedate': '2017-08-11T13:08:06.846290',\n",
       " 'commonname': 'Tunicates',\n",
       " 'matchmethod': 'Fuzzy Match',\n",
       " 'rank': 'Species',\n",
       " 'scientificname': 'Didemnum vanderhorsti',\n",
       " 'source': 'SGCN',\n",
       " 'taxonomicgroup': 'Other Invertebrates'}"
      ]
     },
     "metadata": {},
     "output_type": "display_data"
    },
    {
     "name": "stdout",
     "output_type": "stream",
     "text": [
      "{'success': True, 'affected_rows': 1, 'auth_check': {'success': True, 'checked_relations': ['tir.tir'], 'auth_level': 'Write', 'session': None}, '_execution_time': 0.08}\n"
     ]
    },
    {
     "data": {
      "text/plain": [
       "{'authorityid': 'http://services.itis.gov/?q=tsn:173721',\n",
       " 'cachedate': '2017-08-11T13:08:08.375897',\n",
       " 'commonname': 'Shasta Salamander',\n",
       " 'matchmethod': 'Exact Match',\n",
       " 'rank': 'Species',\n",
       " 'scientificname': 'Hydromantes shastae',\n",
       " 'source': 'SGCN',\n",
       " 'taxonomicgroup': 'Amphibians'}"
      ]
     },
     "metadata": {},
     "output_type": "display_data"
    },
    {
     "name": "stdout",
     "output_type": "stream",
     "text": [
      "{'success': True, 'affected_rows': 1, 'auth_check': {'success': True, 'checked_relations': ['tir.tir'], 'auth_level': 'Write', 'session': None}, '_execution_time': 0.079}\n"
     ]
    },
    {
     "data": {
      "text/plain": [
       "{'authorityid': 'http://services.itis.gov/?q=tsn:174165',\n",
       " 'cachedate': '2017-08-11T13:08:09.378541',\n",
       " 'commonname': 'Eastern Mud Snake',\n",
       " 'matchmethod': 'Exact Match',\n",
       " 'rank': 'Subspecies',\n",
       " 'scientificname': 'Farancia abacura abacura',\n",
       " 'source': 'SGCN',\n",
       " 'taxonomicgroup': 'Reptiles'}"
      ]
     },
     "metadata": {},
     "output_type": "display_data"
    },
    {
     "name": "stdout",
     "output_type": "stream",
     "text": [
      "{'success': True, 'affected_rows': 1, 'auth_check': {'success': True, 'checked_relations': ['tir.tir'], 'auth_level': 'Write', 'session': None}, '_execution_time': 0.08}\n"
     ]
    }
   ],
   "source": [
    "# Set up the actions/targets for this particular instance\n",
    "thisRun = {}\n",
    "thisRun[\"instance\"] = \"DataDistillery\"\n",
    "thisRun[\"db\"] = \"BCB\"\n",
    "thisRun[\"baseURL\"] = gc2.sqlAPI(thisRun[\"instance\"],thisRun[\"db\"])\n",
    "thisRun[\"commitToDB\"] = True\n",
    "thisRun[\"totalRecordsToProcess\"] = 5\n",
    "thisRun[\"totalRecordsProcessed\"] = 0\n",
    "\n",
    "numberWithoutTIRData = 1\n",
    "\n",
    "while numberWithoutTIRData == 1 and thisRun[\"totalRecordsProcessed\"] < thisRun[\"totalRecordsToProcess\"]:\n",
    "    q_recordToSearch = \"SELECT * \\\n",
    "        FROM tir.tir \\\n",
    "        WHERE itis IS NOT NULL \\\n",
    "        AND worms IS NOT NULL \\\n",
    "        AND (cachedate < (itis->>'cacheDate')::date \\\n",
    "        OR cachedate < (worms->>'cacheDate')::date \\\n",
    "        OR cachedate < (sgcn->>'cacheDate')::date) \\\n",
    "        LIMIT 1\"\n",
    "    recordToSearch = requests.get(thisRun[\"baseURL\"]+\"&q=\"+q_recordToSearch).json()\n",
    "\n",
    "    numberWithoutTIRData = len(recordToSearch[\"features\"])\n",
    "\n",
    "    if numberWithoutTIRData == 1:\n",
    "        tirRecord = recordToSearch[\"features\"][0]\n",
    "\n",
    "        thisRecord = {}\n",
    "        thisRecord[\"id\"] = tirRecord[\"properties\"][\"id\"]\n",
    "        thisRecord[\"registration\"] = json.loads(tirRecord[\"properties\"][\"registration\"])\n",
    "        thisRecord[\"itis\"] = json.loads(tirRecord[\"properties\"][\"itis\"])\n",
    "        thisRecord[\"worms\"] = json.loads(tirRecord[\"properties\"][\"worms\"])\n",
    "        if tirRecord[\"properties\"][\"sgcn\"] is not None:\n",
    "            thisRecord[\"sgcn\"] = json.loads(tirRecord[\"properties\"][\"sgcn\"])\n",
    "        _source = thisRecord[\"registration\"][\"source\"]\n",
    "\n",
    "        tirCommon = {}\n",
    "        tirCommon[\"commonname\"] = None\n",
    "        tirCommon[\"authorityid\"] = None\n",
    "        tirCommon[\"rank\"] = None\n",
    "        tirCommon[\"matchmethod\"] = None\n",
    "        tirCommon[\"taxonomicgroup\"] = None\n",
    "        tirCommon[\"cachedate\"] = datetime.utcnow().isoformat()\n",
    "        \n",
    "        tirCommon[\"scientificname\"] = bis.stringCleaning(thisRecord[\"registration\"][\"scientificname\"])\n",
    "        tirCommon[\"source\"] = thisRecord[\"registration\"][\"source\"]\n",
    "        tirCommon[\"matchmethod\"] = \"Not Matched\"\n",
    "        tirCommon[\"authorityid\"] = \"Not Matched to Taxonomic Authority\"\n",
    "        tirCommon[\"rank\"] = \"Unknown Taxonomic Rank\"\n",
    "\n",
    "        if thisRecord[\"itis\"][\"MatchMethod\"] != \"Not Matched\":\n",
    "            tirCommon[\"scientificname\"] = thisRecord[\"itis\"][\"nameWInd\"]\n",
    "            tirCommon[\"matchmethod\"] = thisRecord[\"itis\"][\"MatchMethod\"]\n",
    "            tirCommon[\"authorityid\"] = \"http://services.itis.gov/?q=tsn:\"+str(thisRecord[\"itis\"][\"tsn\"])\n",
    "            tirCommon[\"rank\"] = thisRecord[\"itis\"][\"rank\"]\n",
    "        elif thisRecord[\"worms\"][\"MatchMethod\"] != \"Not Matched\":\n",
    "            tirCommon[\"scientificname\"] = thisRecord[\"worms\"][\"valid_name\"]\n",
    "            tirCommon[\"matchmethod\"] = thisRecord[\"worms\"][\"MatchMethod\"]\n",
    "            tirCommon[\"authorityid\"] = \"http://www.marinespecies.org/rest/AphiaRecordsByName/\"+str(thisRecord[\"worms\"][\"AphiaID\"])\n",
    "            tirCommon[\"rank\"] = thisRecord[\"worms\"][\"rank\"]\n",
    "            \n",
    "        if \"commonnames\" in list(thisRecord[\"itis\"].keys()):\n",
    "            for name in thisRecord[\"itis\"][\"commonnames\"]:\n",
    "                if name[\"language\"] == \"English\" or name[\"language\"] == \"unspecified\":\n",
    "                    tirCommon[\"commonname\"] = name[\"name\"]\n",
    "                    break\n",
    "        \n",
    "        if tirCommon[\"commonname\"] is None and _source == 'SGCN':\n",
    "            tirCommon[\"commonname\"] = sgcn.getSGCNCommonName(thisRun[\"baseURL\"],bis.stringCleaning(thisRecord[\"registration\"][\"scientificname\"]))\n",
    "\n",
    "        if tirCommon[\"commonname\"] is None:\n",
    "            tirCommon[\"commonname\"] = \"no common name\"\n",
    "\n",
    "        if _source == \"SGCN\" and \"sgcn\" in list(thisRecord.keys()):\n",
    "            tirCommon[\"taxonomicgroup\"] = thisRecord[\"sgcn\"][\"taxonomicgroup\"]\n",
    "            \n",
    "            if tirCommon[\"matchmethod\"] == \"Not Matched\" and \"swap2005\" in list(thisRecord[\"sgcn\"].keys()) and thisRecord[\"sgcn\"][\"swap2005\"] is True:\n",
    "                tirCommon[\"matchmethod\"] = \"Legacy Match\"\n",
    "                tirCommon[\"authorityid\"] = \"https://www.sciencebase.gov/catalog/file/get/56d720ece4b015c306f442d5?f=__disk__38%2F22%2F26%2F38222632f48bf0c893ad1017f6ba557d0f672432\"\n",
    "        elif _source == \"GAP Species\":\n",
    "            tirCommon[\"taxonomicgroup\"] = thisRecord[\"registration\"][\"taxonomicgroup\"]\n",
    "            \n",
    "            if tirCommon[\"scientificname\"] != thisRecord[\"registration\"][\"scientificname\"]:\n",
    "                tirCommon[\"scientificname\"] = thisRecord[\"registration\"][\"scientificname\"]\n",
    "            if tirCommon[\"commonname\"] != thisRecord[\"registration\"][\"commonname\"]:\n",
    "                tirCommon[\"commonname\"] = thisRecord[\"registration\"][\"commonname\"]\n",
    "        else:\n",
    "            tirCommon[\"taxonomicgroup\"] = \"Other\"\n",
    "\n",
    "        display (tirCommon)\n",
    "        if thisRun[\"commitToDB\"]:\n",
    "            q_tirCommon = \"UPDATE tir.tir SET \\\n",
    "                source='\"+tirCommon[\"source\"]+\"', \\\n",
    "                scientificname='\"+tirCommon[\"scientificname\"]+\"', \\\n",
    "                commonname='\"+bis.stringCleaning(tirCommon[\"commonname\"])+\"', \\\n",
    "                authorityid='\"+tirCommon[\"authorityid\"]+\"', \\\n",
    "                rank='\"+tirCommon[\"rank\"]+\"', \\\n",
    "                taxonomicgroup='\"+tirCommon[\"taxonomicgroup\"]+\"', \\\n",
    "                matchmethod='\"+tirCommon[\"matchmethod\"]+\"', \\\n",
    "                cachedate='\"+tirCommon[\"cachedate\"]+\"' \\\n",
    "                WHERE id = \"+str(thisRecord[\"id\"])\n",
    "            print (requests.get(thisRun[\"baseURL\"]+\"&q=\"+q_tirCommon).json())\n",
    "        thisRun[\"totalRecordsProcessed\"] = thisRun[\"totalRecordsProcessed\"] + 1\n",
    "        \n"
   ]
  },
  {
   "cell_type": "code",
   "execution_count": null,
   "metadata": {
    "collapsed": true,
    "deletable": true,
    "editable": true
   },
   "outputs": [],
   "source": []
  }
 ],
 "metadata": {
  "kernelspec": {
   "display_name": "Python 3",
   "language": "python",
   "name": "python3"
  },
  "language_info": {
   "codemirror_mode": {
    "name": "ipython",
    "version": 3
   },
   "file_extension": ".py",
   "mimetype": "text/x-python",
   "name": "python",
   "nbconvert_exporter": "python",
   "pygments_lexer": "ipython3",
   "version": "3.5.3"
  }
 },
 "nbformat": 4,
 "nbformat_minor": 0
}
