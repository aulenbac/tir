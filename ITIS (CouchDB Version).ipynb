{
 "cells": [
  {
   "cell_type": "code",
   "execution_count": 7,
   "metadata": {
    "collapsed": true,
    "deletable": true,
    "editable": true
   },
   "outputs": [],
   "source": [
    "import requests,json\n",
    "from IPython.display import display\n",
    "from bis import bis\n",
    "from bis import itis\n",
    "from bis import tir\n",
    "from bis2 import couchconnect\n",
    "import time\n",
    "import couchdb"
   ]
  },
  {
   "cell_type": "code",
   "execution_count": 8,
   "metadata": {
    "collapsed": true,
    "deletable": true,
    "editable": true
   },
   "outputs": [],
   "source": [
    "couch = couchdb.Server()"
   ]
  },
  {
   "cell_type": "code",
   "execution_count": 9,
   "metadata": {
    "collapsed": true,
    "deletable": true,
    "editable": true
   },
   "outputs": [],
   "source": [
    "dbSource = couch[\"tir-gapspecies\"]\n",
    "dbTarget = couch[\"tir-itis\"]"
   ]
  },
  {
   "cell_type": "code",
   "execution_count": 16,
   "metadata": {
    "collapsed": false,
    "deletable": true,
    "editable": true
   },
   "outputs": [
    {
     "name": "stdout",
     "output_type": "stream",
     "text": [
      "http://services.itis.gov/?wt=json&rows=10&q=nameWOInd:Sceloporus\\%20uniformis\n"
     ]
    },
    {
     "data": {
      "text/plain": [
       "{'response': {'docs': [], 'numFound': 0, 'start': 0},\n",
       " 'responseHeader': {'QTime': 0,\n",
       "  'params': {'q': 'nameWOInd:Sceloporus\\\\ uniformis',\n",
       "   'rows': '10',\n",
       "   'wt': 'json'},\n",
       "  'status': 0}}"
      ]
     },
     "metadata": {},
     "output_type": "display_data"
    }
   ],
   "source": [
    "for id in dbSource:\n",
    "    gapSpecies = dbSource[id]\n",
    "    if \"ITIS_TSN\" in gapSpecies and gapSpecies[\"ITIS_TSN\"] not in dbTarget:\n",
    "        itisSearchURL = itis.getITISSearchURL(gapSpecies[\"ITIS_TSN\"],False,False)\n",
    "    else:\n",
    "        if \"ITIS_TSN\" not in gapSpecies:\n",
    "            itisSearchURL = itis.getITISSearchURL(gapSpecies[\"scientificname\"],False,False)\n",
    "\n",
    "    itisSearchResults = requests.get(itisSearchURL).json()\n",
    "    if len(itisSearchResults[\"response\"][\"docs\"]) == 1:\n",
    "        itisDoc = itisSearchResults[\"response\"][\"docs\"][0]\n",
    "        itisData = itis.packageITISJSON(\"TSN Query\",gapSpecies[\"ITIS_TSN\"],itisDoc)\n",
    "        display (itisData)\n",
    "        dbTarget[gapSpecies[\"ITIS_TSN\"]] = itisData\n",
    "    else:\n",
    "        print (itisSearchURL)\n",
    "        display (itisSearchResults)\n",
    "        break\n",
    "            "
   ]
  },
  {
   "cell_type": "code",
   "execution_count": 3,
   "metadata": {
    "collapsed": false,
    "deletable": true,
    "editable": true
   },
   "outputs": [
    {
     "data": {
      "text/plain": [
       "{'followTaxonomy': 'true',\n",
       " 'id': 7382,\n",
       " 'itisData': {'MatchMethod': 'Fuzzy Match',\n",
       "  'MatchString': 'Acipenser oxyrhinchus desotoi',\n",
       "  'cacheDate': '2017-08-14T18:20:23.660013',\n",
       "  'commonnames': [{'language': 'English', 'name': 'Gulf sturgeon'}],\n",
       "  'createDate': '2004-02-23 13:21:38',\n",
       "  'hierarchy': [{'name': 'Animalia', 'rank': 'Kingdom'},\n",
       "   {'name': 'Bilateria', 'rank': 'Subkingdom'},\n",
       "   {'name': 'Deuterostomia', 'rank': 'Infrakingdom'},\n",
       "   {'name': 'Chordata', 'rank': 'Phylum'},\n",
       "   {'name': 'Vertebrata', 'rank': 'Subphylum'},\n",
       "   {'name': 'Gnathostomata', 'rank': 'Infraphylum'},\n",
       "   {'name': 'Actinopterygii', 'rank': 'Superclass'},\n",
       "   {'name': 'Chondrostei', 'rank': 'Class'},\n",
       "   {'name': 'Acipenseriformes', 'rank': 'Order'},\n",
       "   {'name': 'Acipenseroidei', 'rank': 'Suborder'},\n",
       "   {'name': 'Acipenseridae', 'rank': 'Family'},\n",
       "   {'name': 'Acipenserinae', 'rank': 'Subfamily'},\n",
       "   {'name': 'Acipenser', 'rank': 'Genus'},\n",
       "   {'name': 'Acipenser oxyrinchus', 'rank': 'Species'},\n",
       "   {'name': 'Acipenser oxyrinchus desotoi', 'rank': 'Subspecies'}],\n",
       "  'kingdom': 'Animalia',\n",
       "  'nameWInd': 'Acipenser oxyrinchus desotoi',\n",
       "  'nameWOInd': 'Acipenser oxyrinchus desotoi',\n",
       "  'parentTSN': '553269',\n",
       "  'rank': 'Subspecies',\n",
       "  'synonymTSNs': ['624005:$201894$'],\n",
       "  'synonyms': ['624005:$Acipenser oxyrhynchus desotoi$'],\n",
       "  'tsn': '624005',\n",
       "  'unit1': 'Acipenser',\n",
       "  'unit2': 'oxyrinchus',\n",
       "  'unit3': 'desotoi',\n",
       "  'updateDate': '2004-02-23 00:00:00',\n",
       "  'usage': 'valid'},\n",
       " 'itisSearchURL': 'http://services.itis.gov/?wt=json&rows=10&q=nameWOInd:Acipenser\\\\%20oxyrhinchus\\\\%20desotoi~0.5%20AND%20(usage:accepted%20OR%20usage:valid)',\n",
       " 'matchMethod': 'Fuzzy Match',\n",
       " 'matchString': 'Acipenser oxyrhinchus desotoi',\n",
       " 'numResults': 1,\n",
       " 'scientificname': 'Acipenser oxyrhinchus desotoi',\n",
       " 'scientificname_search': 'Acipenser oxyrhinchus desotoi',\n",
       " 'source': 'SGCN',\n",
       " 'taxonomicLookupProperty': 'scientificname',\n",
       " 'tsn': None}"
      ]
     },
     "metadata": {},
     "output_type": "display_data"
    },
    {
     "name": "stdout",
     "output_type": "stream",
     "text": [
      "{'_execution_time': 0.083, 'affected_rows': 1, 'success': True, 'auth_check': {'success': True, 'auth_level': 'Write', 'checked_relations': ['tir.tir'], 'session': None}}\n"
     ]
    }
   ],
   "source": [
    "# Set up the actions/targets for this particular instance\n",
    "thisRun = {}\n",
    "thisRun[\"instance\"] = \"DataDistillery\"\n",
    "thisRun[\"db\"] = \"BCB\"\n",
    "thisRun[\"baseURL\"] = gc2.sqlAPI(thisRun[\"instance\"],thisRun[\"db\"])\n",
    "thisRun[\"commitToDB\"] = True\n",
    "thisRun[\"totalRecordsToProcess\"] = 5\n",
    "thisRun[\"totalRecordsProcessed\"] = 0\n",
    "\n",
    "numberWithoutTIRData = 1\n",
    "\n",
    "while numberWithoutTIRData == 1 and thisRun[\"totalRecordsProcessed\"] < thisRun[\"totalRecordsToProcess\"]:\n",
    "\n",
    "    q_recordToSearch = \"SELECT id, \\\n",
    "        registration->>'source' AS source, \\\n",
    "        registration->>'followTaxonomy' AS followtaxonomy, \\\n",
    "        registration->>'taxonomicLookupProperty' AS taxonomiclookupproperty, \\\n",
    "        registration->>'scientificname' AS scientificname, \\\n",
    "        registration->>'tsn' AS tsn \\\n",
    "        FROM tir.tir \\\n",
    "        WHERE itis IS NULL \\\n",
    "        LIMIT 1\"\n",
    "    recordToSearch  = requests.get(thisRun[\"baseURL\"]+\"&q=\"+q_recordToSearch).json()\n",
    "    \n",
    "    numberWithoutTIRData = len(recordToSearch[\"features\"])\n",
    "    \n",
    "    if numberWithoutTIRData == 1:\n",
    "        tirRecord = recordToSearch[\"features\"][0]\n",
    "        \n",
    "        # Set up a local data structure for storage and processing\n",
    "        thisRecord = {}\n",
    "\n",
    "        # Set data from query results\n",
    "        thisRecord[\"id\"] = tirRecord[\"properties\"][\"id\"]\n",
    "        thisRecord[\"source\"] = tirRecord[\"properties\"][\"source\"]\n",
    "        thisRecord[\"followTaxonomy\"] = tirRecord[\"properties\"][\"followtaxonomy\"]\n",
    "        thisRecord[\"taxonomicLookupProperty\"] = tirRecord[\"properties\"][\"taxonomiclookupproperty\"]\n",
    "        thisRecord[\"tsn\"] = tirRecord[\"properties\"][\"tsn\"]\n",
    "        thisRecord[\"scientificname\"] = tirRecord[\"properties\"][\"scientificname\"]\n",
    "        thisRecord[\"scientificname_search\"] = bis.cleanScientificName(thisRecord[\"scientificname\"])\n",
    "\n",
    "        # Set defaults for thisRecord\n",
    "        thisRecord[\"matchMethod\"] = \"Not Matched\"\n",
    "        thisRecord[\"matchString\"] = thisRecord[\"scientificname_search\"]\n",
    "        thisRecord[\"itisData\"] = itis.packageITISJSON(thisRecord[\"matchMethod\"],thisRecord[\"matchString\"],0)\n",
    "        thisRecord[\"numResults\"] = 0\n",
    "        itisDoc = {}\n",
    "\n",
    "        if thisRecord[\"taxonomicLookupProperty\"] == \"scientificname\" and len(thisRecord[\"scientificname_search\"]) != 0:\n",
    "\n",
    "            thisRecord[\"itisSearchURL\"] = itis.getITISSearchURL(thisRecord[\"scientificname_search\"],False,True)\n",
    "\n",
    "            # Try an exact match search\n",
    "            try:\n",
    "                itisSearchResults = requests.get(thisRecord[\"itisSearchURL\"]).json()\n",
    "                thisRecord[\"numResults\"] = len(itisSearchResults[\"response\"][\"docs\"])\n",
    "            except Exception as e:\n",
    "                print (e)\n",
    "                pass\n",
    "\n",
    "\n",
    "            # If we got only a single record on an exact match search, set the method and proceed\n",
    "            if thisRecord[\"numResults\"] == 1:\n",
    "                thisRecord[\"matchMethod\"] = \"Exact Match\"\n",
    "                itisDoc = itisSearchResults[\"response\"][\"docs\"][0]\n",
    "\n",
    "            # If we found nothing on an exact match search, try a fuzzy match\n",
    "            elif thisRecord[\"numResults\"] == 0:\n",
    "                try:\n",
    "                    thisRecord[\"itisSearchURL\"] = itis.getITISSearchURL(thisRecord[\"scientificname_search\"],True,True)\n",
    "                    itisSearchResults = requests.get(thisRecord[\"itisSearchURL\"]).json()\n",
    "                    thisRecord[\"numResults\"] = len(itisSearchResults[\"response\"][\"docs\"])\n",
    "                except Exception as e:\n",
    "                    print (e)\n",
    "                    pass\n",
    "                if thisRecord[\"numResults\"] == 1:\n",
    "                    thisRecord[\"matchMethod\"] = \"Fuzzy Match\"\n",
    "                    itisDoc = itisSearchResults[\"response\"][\"docs\"][0]\n",
    "\n",
    "            # If we got a result but the usage is not accepted/invalid and we should follow taxonomy for this record, then retrieve the record for the accepted TSN\n",
    "            if len(itisDoc) > 0 and itisDoc[\"usage\"] in [\"not accepted\",\"invalid\"] and thisRecord[\"followTaxonomy\"]:\n",
    "                thisRecord[\"itisSearchURL\"] = itis.getITISSearchURL(itisDoc[\"acceptedTSN\"][0],False,False)\n",
    "                try:\n",
    "                    itisSearchResults = requests.get(thisRecord[\"itisSearchURL\"]).json()\n",
    "                except Exception as e:\n",
    "                    print (e)\n",
    "                    pass\n",
    "                if thisRecord[\"numResults\"] == 1:\n",
    "                    thisRecord[\"matchMethod\"] = \"Followed Accepted TSN\"\n",
    "                    itisDoc = itisSearchResults[\"response\"][\"docs\"][0]\n",
    "\n",
    "            # If we got an ITIS Doc returned, package the results\n",
    "            if len(itisDoc) > 0:\n",
    "                thisRecord[\"itisData\"] = itis.packageITISJSON(thisRecord[\"matchMethod\"],thisRecord[\"matchString\"],itisDoc)\n",
    "\n",
    "        elif thisRecord[\"taxonomicLookupProperty\"] == \"tsn\" and thisRecord[\"tsn\"] is not None:\n",
    "            thisRecord[\"itisSearchURL\"] = itis.getITISSearchURL(thisRecord[\"tsn\"],False,False)\n",
    "            itisSearchResults = requests.get(thisRecord[\"itisSearchURL\"]).json()\n",
    "            thisRecord[\"matchMethod\"] = \"TSN Query\"\n",
    "            thisRecord[\"matchString\"] = thisRecord[\"tsn\"]\n",
    "            itisDoc = itisSearchResults[\"response\"][\"docs\"][0]\n",
    "            thisRecord[\"itisData\"] = itis.packageITISJSON(thisRecord[\"matchMethod\"],thisRecord[\"matchString\"],itisDoc)\n",
    "            \n",
    "        display (thisRecord)\n",
    "        if thisRun[\"commitToDB\"]:\n",
    "            print (tir.cacheToTIR(thisRun[\"baseURL\"],thisRecord[\"id\"],\"itis\",json.dumps(thisRecord[\"itisData\"])))\n",
    "        thisRun[\"totalRecordsProcessed\"] = thisRun[\"totalRecordsProcessed\"] + 1\n",
    "\n",
    "        "
   ]
  },
  {
   "cell_type": "code",
   "execution_count": null,
   "metadata": {
    "collapsed": true,
    "deletable": true,
    "editable": true
   },
   "outputs": [],
   "source": []
  }
 ],
 "metadata": {
  "kernelspec": {
   "display_name": "Python 3",
   "language": "python",
   "name": "python3"
  },
  "language_info": {
   "codemirror_mode": {
    "name": "ipython",
    "version": 3
   },
   "file_extension": ".py",
   "mimetype": "text/x-python",
   "name": "python",
   "nbconvert_exporter": "python",
   "pygments_lexer": "ipython3",
   "version": "3.5.3"
  }
 },
 "nbformat": 4,
 "nbformat_minor": 0
}
