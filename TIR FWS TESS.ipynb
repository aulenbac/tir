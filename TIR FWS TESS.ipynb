{
 "cells": [
  {
   "cell_type": "code",
   "execution_count": 25,
   "metadata": {
    "collapsed": false,
    "deletable": true,
    "editable": true
   },
   "outputs": [
    {
     "name": "stdout",
     "output_type": "stream",
     "text": [
      "The autoreload extension is already loaded. To reload it, use:\n",
      "  %reload_ext autoreload\n"
     ]
    }
   ],
   "source": [
    "%load_ext autoreload\n",
    "%autoreload 2\n",
    "\n",
    "import tirutils"
   ]
  },
  {
   "cell_type": "code",
   "execution_count": 67,
   "metadata": {
    "collapsed": true,
    "deletable": true,
    "editable": true
   },
   "outputs": [],
   "source": [
    "import requests,configparser,datetime\n",
    "from IPython.display import display\n",
    "\n",
    "config = configparser.RawConfigParser()\n",
    "config.read_file(open(r'../config/stuff.py'))\n",
    "dt = datetime.datetime.utcnow().isoformat()\n",
    "gc2APIKey = config.get('apiKeys','apiKey_GC2_BCB').replace('\"','')\n",
    "apiBaseURL = \"https://gc2.mapcentia.com/api/v1/sql/bcb?key=\"+gc2APIKey\n",
    "tessSpeciesQueryByTSNBaseURL = \"https://ecos.fws.gov/ecp0/TessQuery?request=query&xquery=/SPECIES_DETAIL[TSN=\""
   ]
  },
  {
   "cell_type": "code",
   "execution_count": 72,
   "metadata": {
    "collapsed": false,
    "deletable": true,
    "editable": true
   },
   "outputs": [
    {
     "name": "stdout",
     "output_type": "stream",
     "text": [
      "https://gc2.mapcentia.com/api/v1/sql/bcb?key=1c95cdb240f82acedec84299103e6d4e&q=UPDATE tir.tir SET tess = '\"cacheDate\"=>\"2017-05-01T20:20:04.771964\",\"entityId\"=>\"4353\",\"SpeciesCode\"=>\"Q06N\",\"CommonName\"=>\"Withered wooly milk-vetch\",\"PopulationDescription\"=>\"Wherever found\",\"Status\"=>\"SC\",\"StatusText\"=>\"Species of Concern\"' WHERE itis -> 'discoveredTSN' = '192642'\n"
     ]
    },
    {
     "data": {
      "text/plain": [
       "{'_execution_time': 0.076,\n",
       " 'affected_rows': 1,\n",
       " 'auth_check': {'auth_level': 'Write',\n",
       "  'checked_relations': ['tir.tir'],\n",
       "  'session': None,\n",
       "  'success': True},\n",
       " 'success': True}"
      ]
     },
     "metadata": {},
     "output_type": "display_data"
    },
    {
     "name": "stdout",
     "output_type": "stream",
     "text": [
      "https://gc2.mapcentia.com/api/v1/sql/bcb?key=1c95cdb240f82acedec84299103e6d4e&q=UPDATE tir.tir SET tess = '\"cacheDate\"=>\"2017-05-01T19:20:03.722793\",\"queryResult\"=>\"None\"' WHERE itis -> 'discoveredTSN' = '566199'\n"
     ]
    },
    {
     "data": {
      "text/plain": [
       "{'_execution_time': 0.075,\n",
       " 'affected_rows': 1,\n",
       " 'auth_check': {'auth_level': 'Write',\n",
       "  'checked_relations': ['tir.tir'],\n",
       "  'session': None,\n",
       "  'success': True},\n",
       " 'success': True}"
      ]
     },
     "metadata": {},
     "output_type": "display_data"
    },
    {
     "name": "stdout",
     "output_type": "stream",
     "text": [
      "https://gc2.mapcentia.com/api/v1/sql/bcb?key=1c95cdb240f82acedec84299103e6d4e&q=UPDATE tir.tir SET tess = '\"cacheDate\"=>\"2017-05-01T19:20:03.722793\",\"queryResult\"=>\"None\"' WHERE itis -> 'discoveredTSN' = '209454'\n"
     ]
    },
    {
     "data": {
      "text/plain": [
       "{'_execution_time': 0.075,\n",
       " 'affected_rows': 1,\n",
       " 'auth_check': {'auth_level': 'Write',\n",
       "  'checked_relations': ['tir.tir'],\n",
       "  'session': None,\n",
       "  'success': True},\n",
       " 'success': True}"
      ]
     },
     "metadata": {},
     "output_type": "display_data"
    },
    {
     "name": "stdout",
     "output_type": "stream",
     "text": [
      "https://gc2.mapcentia.com/api/v1/sql/bcb?key=1c95cdb240f82acedec84299103e6d4e&q=UPDATE tir.tir SET tess = '\"cacheDate\"=>\"2017-05-01T19:20:03.722793\",\"queryResult\"=>\"None\"' WHERE itis -> 'discoveredTSN' = '527024'\n"
     ]
    },
    {
     "data": {
      "text/plain": [
       "{'_execution_time': 0.076,\n",
       " 'affected_rows': 1,\n",
       " 'auth_check': {'auth_level': 'Write',\n",
       "  'checked_relations': ['tir.tir'],\n",
       "  'session': None,\n",
       "  'success': True},\n",
       " 'success': True}"
      ]
     },
     "metadata": {},
     "output_type": "display_data"
    },
    {
     "name": "stdout",
     "output_type": "stream",
     "text": [
      "https://gc2.mapcentia.com/api/v1/sql/bcb?key=1c95cdb240f82acedec84299103e6d4e&q=UPDATE tir.tir SET tess = '\"cacheDate\"=>\"2017-05-01T19:20:03.722793\",\"queryResult\"=>\"None\"' WHERE itis -> 'discoveredTSN' = '822893'\n"
     ]
    },
    {
     "data": {
      "text/plain": [
       "{'_execution_time': 0.076,\n",
       " 'affected_rows': 1,\n",
       " 'auth_check': {'auth_level': 'Write',\n",
       "  'checked_relations': ['tir.tir'],\n",
       "  'session': None,\n",
       "  'success': True},\n",
       " 'success': True}"
      ]
     },
     "metadata": {},
     "output_type": "display_data"
    },
    {
     "name": "stdout",
     "output_type": "stream",
     "text": [
      "https://gc2.mapcentia.com/api/v1/sql/bcb?key=1c95cdb240f82acedec84299103e6d4e&q=UPDATE tir.tir SET tess = '\"cacheDate\"=>\"2017-05-01T19:20:03.722793\",\"queryResult\"=>\"None\"' WHERE itis -> 'discoveredTSN' = '525291'\n"
     ]
    },
    {
     "data": {
      "text/plain": [
       "{'_execution_time': 0.074,\n",
       " 'affected_rows': 1,\n",
       " 'auth_check': {'auth_level': 'Write',\n",
       "  'checked_relations': ['tir.tir'],\n",
       "  'session': None,\n",
       "  'success': True},\n",
       " 'success': True}"
      ]
     },
     "metadata": {},
     "output_type": "display_data"
    },
    {
     "name": "stdout",
     "output_type": "stream",
     "text": [
      "https://gc2.mapcentia.com/api/v1/sql/bcb?key=1c95cdb240f82acedec84299103e6d4e&q=UPDATE tir.tir SET tess = '\"cacheDate\"=>\"2017-05-01T19:20:03.722793\",\"queryResult\"=>\"None\"' WHERE itis -> 'discoveredTSN' = '526979'\n"
     ]
    },
    {
     "data": {
      "text/plain": [
       "{'_execution_time': 0.074,\n",
       " 'affected_rows': 1,\n",
       " 'auth_check': {'auth_level': 'Write',\n",
       "  'checked_relations': ['tir.tir'],\n",
       "  'session': None,\n",
       "  'success': True},\n",
       " 'success': True}"
      ]
     },
     "metadata": {},
     "output_type": "display_data"
    },
    {
     "name": "stdout",
     "output_type": "stream",
     "text": [
      "https://gc2.mapcentia.com/api/v1/sql/bcb?key=1c95cdb240f82acedec84299103e6d4e&q=UPDATE tir.tir SET tess = '\"cacheDate\"=>\"2017-05-01T19:20:03.722793\",\"queryResult\"=>\"None\"' WHERE itis -> 'discoveredTSN' = '532527'\n"
     ]
    },
    {
     "data": {
      "text/plain": [
       "{'_execution_time': 0.123,\n",
       " 'affected_rows': 1,\n",
       " 'auth_check': {'auth_level': 'Write',\n",
       "  'checked_relations': ['tir.tir'],\n",
       "  'session': None,\n",
       "  'success': True},\n",
       " 'success': True}"
      ]
     },
     "metadata": {},
     "output_type": "display_data"
    },
    {
     "name": "stdout",
     "output_type": "stream",
     "text": [
      "https://gc2.mapcentia.com/api/v1/sql/bcb?key=1c95cdb240f82acedec84299103e6d4e&q=UPDATE tir.tir SET tess = '\"cacheDate\"=>\"2017-05-01T19:20:03.722793\",\"queryResult\"=>\"None\"' WHERE itis -> 'discoveredTSN' = '524890'\n"
     ]
    },
    {
     "data": {
      "text/plain": [
       "{'_execution_time': 0.076,\n",
       " 'affected_rows': 1,\n",
       " 'auth_check': {'auth_level': 'Write',\n",
       "  'checked_relations': ['tir.tir'],\n",
       "  'session': None,\n",
       "  'success': True},\n",
       " 'success': True}"
      ]
     },
     "metadata": {},
     "output_type": "display_data"
    },
    {
     "name": "stdout",
     "output_type": "stream",
     "text": [
      "https://gc2.mapcentia.com/api/v1/sql/bcb?key=1c95cdb240f82acedec84299103e6d4e&q=UPDATE tir.tir SET tess = '\"cacheDate\"=>\"2017-05-01T19:20:03.722793\",\"queryResult\"=>\"None\"' WHERE itis -> 'discoveredTSN' = '527040'\n"
     ]
    },
    {
     "data": {
      "text/plain": [
       "{'_execution_time': 0.073,\n",
       " 'affected_rows': 1,\n",
       " 'auth_check': {'auth_level': 'Write',\n",
       "  'checked_relations': ['tir.tir'],\n",
       "  'session': None,\n",
       "  'success': True},\n",
       " 'success': True}"
      ]
     },
     "metadata": {},
     "output_type": "display_data"
    },
    {
     "name": "stdout",
     "output_type": "stream",
     "text": [
      "https://gc2.mapcentia.com/api/v1/sql/bcb?key=1c95cdb240f82acedec84299103e6d4e&q=UPDATE tir.tir SET tess = '\"cacheDate\"=>\"2017-05-01T19:20:03.722793\",\"queryResult\"=>\"None\"' WHERE itis -> 'discoveredTSN' = '176642'\n"
     ]
    },
    {
     "data": {
      "text/plain": [
       "{'_execution_time': 0.11,\n",
       " 'affected_rows': 2,\n",
       " 'auth_check': {'auth_level': 'Write',\n",
       "  'checked_relations': ['tir.tir'],\n",
       "  'session': None,\n",
       "  'success': True},\n",
       " 'success': True}"
      ]
     },
     "metadata": {},
     "output_type": "display_data"
    },
    {
     "name": "stdout",
     "output_type": "stream",
     "text": [
      "https://gc2.mapcentia.com/api/v1/sql/bcb?key=1c95cdb240f82acedec84299103e6d4e&q=UPDATE tir.tir SET tess = '\"cacheDate\"=>\"2017-05-01T19:20:03.722793\",\"queryResult\"=>\"None\"' WHERE itis -> 'discoveredTSN' = '525319'\n"
     ]
    },
    {
     "data": {
      "text/plain": [
       "{'_execution_time': 0.077,\n",
       " 'affected_rows': 2,\n",
       " 'auth_check': {'auth_level': 'Write',\n",
       "  'checked_relations': ['tir.tir'],\n",
       "  'session': None,\n",
       "  'success': True},\n",
       " 'success': True}"
      ]
     },
     "metadata": {},
     "output_type": "display_data"
    },
    {
     "name": "stdout",
     "output_type": "stream",
     "text": [
      "https://gc2.mapcentia.com/api/v1/sql/bcb?key=1c95cdb240f82acedec84299103e6d4e&q=UPDATE tir.tir SET tess = '\"cacheDate\"=>\"2017-05-01T19:20:03.722793\",\"queryResult\"=>\"None\"' WHERE itis -> 'discoveredTSN' = '97337'\n"
     ]
    },
    {
     "data": {
      "text/plain": [
       "{'_execution_time': 0.073,\n",
       " 'affected_rows': 1,\n",
       " 'auth_check': {'auth_level': 'Write',\n",
       "  'checked_relations': ['tir.tir'],\n",
       "  'session': None,\n",
       "  'success': True},\n",
       " 'success': True}"
      ]
     },
     "metadata": {},
     "output_type": "display_data"
    },
    {
     "name": "stdout",
     "output_type": "stream",
     "text": [
      "https://gc2.mapcentia.com/api/v1/sql/bcb?key=1c95cdb240f82acedec84299103e6d4e&q=UPDATE tir.tir SET tess = '\"cacheDate\"=>\"2017-05-01T19:20:03.722793\",\"queryResult\"=>\"None\"' WHERE itis -> 'discoveredTSN' = '532945'\n"
     ]
    },
    {
     "data": {
      "text/plain": [
       "{'_execution_time': 0.074,\n",
       " 'affected_rows': 1,\n",
       " 'auth_check': {'auth_level': 'Write',\n",
       "  'checked_relations': ['tir.tir'],\n",
       "  'session': None,\n",
       "  'success': True},\n",
       " 'success': True}"
      ]
     },
     "metadata": {},
     "output_type": "display_data"
    },
    {
     "name": "stdout",
     "output_type": "stream",
     "text": [
      "https://gc2.mapcentia.com/api/v1/sql/bcb?key=1c95cdb240f82acedec84299103e6d4e&q=UPDATE tir.tir SET tess = '\"cacheDate\"=>\"2017-05-01T19:20:03.722793\",\"queryResult\"=>\"None\"' WHERE itis -> 'discoveredTSN' = '702575'\n"
     ]
    },
    {
     "data": {
      "text/plain": [
       "{'_execution_time': 0.075,\n",
       " 'affected_rows': 2,\n",
       " 'auth_check': {'auth_level': 'Write',\n",
       "  'checked_relations': ['tir.tir'],\n",
       "  'session': None,\n",
       "  'success': True},\n",
       " 'success': True}"
      ]
     },
     "metadata": {},
     "output_type": "display_data"
    },
    {
     "name": "stdout",
     "output_type": "stream",
     "text": [
      "https://gc2.mapcentia.com/api/v1/sql/bcb?key=1c95cdb240f82acedec84299103e6d4e&q=UPDATE tir.tir SET tess = '\"cacheDate\"=>\"2017-05-01T19:20:03.722793\",\"queryResult\"=>\"None\"' WHERE itis -> 'discoveredTSN' = '192944'\n"
     ]
    },
    {
     "data": {
      "text/plain": [
       "{'_execution_time': 0.075,\n",
       " 'affected_rows': 1,\n",
       " 'auth_check': {'auth_level': 'Write',\n",
       "  'checked_relations': ['tir.tir'],\n",
       "  'session': None,\n",
       "  'success': True},\n",
       " 'success': True}"
      ]
     },
     "metadata": {},
     "output_type": "display_data"
    },
    {
     "name": "stdout",
     "output_type": "stream",
     "text": [
      "https://gc2.mapcentia.com/api/v1/sql/bcb?key=1c95cdb240f82acedec84299103e6d4e&q=UPDATE tir.tir SET tess = '\"cacheDate\"=>\"2017-05-01T19:20:03.722793\",\"queryResult\"=>\"None\"' WHERE itis -> 'discoveredTSN' = '30691'\n"
     ]
    },
    {
     "data": {
      "text/plain": [
       "{'_execution_time': 0.076,\n",
       " 'affected_rows': 1,\n",
       " 'auth_check': {'auth_level': 'Write',\n",
       "  'checked_relations': ['tir.tir'],\n",
       "  'session': None,\n",
       "  'success': True},\n",
       " 'success': True}"
      ]
     },
     "metadata": {},
     "output_type": "display_data"
    },
    {
     "name": "stdout",
     "output_type": "stream",
     "text": [
      "https://gc2.mapcentia.com/api/v1/sql/bcb?key=1c95cdb240f82acedec84299103e6d4e&q=UPDATE tir.tir SET tess = '\"cacheDate\"=>\"2017-05-01T19:20:03.722793\",\"queryResult\"=>\"None\"' WHERE itis -> 'discoveredTSN' = '808588'\n"
     ]
    },
    {
     "data": {
      "text/plain": [
       "{'_execution_time': 0.074,\n",
       " 'affected_rows': 1,\n",
       " 'auth_check': {'auth_level': 'Write',\n",
       "  'checked_relations': ['tir.tir'],\n",
       "  'session': None,\n",
       "  'success': True},\n",
       " 'success': True}"
      ]
     },
     "metadata": {},
     "output_type": "display_data"
    },
    {
     "name": "stdout",
     "output_type": "stream",
     "text": [
      "https://gc2.mapcentia.com/api/v1/sql/bcb?key=1c95cdb240f82acedec84299103e6d4e&q=UPDATE tir.tir SET tess = '\"cacheDate\"=>\"2017-05-01T19:20:03.722793\",\"queryResult\"=>\"None\"' WHERE itis -> 'discoveredTSN' = '527083'\n"
     ]
    },
    {
     "data": {
      "text/plain": [
       "{'_execution_time': 0.074,\n",
       " 'affected_rows': 1,\n",
       " 'auth_check': {'auth_level': 'Write',\n",
       "  'checked_relations': ['tir.tir'],\n",
       "  'session': None,\n",
       "  'success': True},\n",
       " 'success': True}"
      ]
     },
     "metadata": {},
     "output_type": "display_data"
    },
    {
     "name": "stdout",
     "output_type": "stream",
     "text": [
      "https://gc2.mapcentia.com/api/v1/sql/bcb?key=1c95cdb240f82acedec84299103e6d4e&q=UPDATE tir.tir SET tess = '\"cacheDate\"=>\"2017-05-01T20:20:24.351235\",\"entityId\"=>\"10285\",\"SpeciesCode\"=>\"C00U\",\"CommonName\"=>\"Loggerhead sea turtle\",\"PopulationDescription\"=>\"Loggerhead sea turtles originating from the Southeast Indian Ocean south of the equator, north of 60 degrees S. Lat., and east of 80 degrees E. Long.| South Pacific Ocean south of the equator, north of 60degrees S. Lat., and west of 141 degrees E. Long\",\"Status\"=>\"T\",\"StatusText\"=>\"Threatened\",\"ListingDate\"=>\"1978-07-23\"' WHERE itis -> 'discoveredTSN' = '173830'\n"
     ]
    },
    {
     "data": {
      "text/plain": [
       "{'_execution_time': 0.074,\n",
       " 'affected_rows': 3,\n",
       " 'auth_check': {'auth_level': 'Write',\n",
       "  'checked_relations': ['tir.tir'],\n",
       "  'session': None,\n",
       "  'success': True},\n",
       " 'success': True}"
      ]
     },
     "metadata": {},
     "output_type": "display_data"
    },
    {
     "name": "stdout",
     "output_type": "stream",
     "text": [
      "https://gc2.mapcentia.com/api/v1/sql/bcb?key=1c95cdb240f82acedec84299103e6d4e&q=UPDATE tir.tir SET tess = '\"cacheDate\"=>\"2017-05-01T19:20:03.722793\",\"queryResult\"=>\"None\"' WHERE itis -> 'discoveredTSN' = '549336'\n"
     ]
    },
    {
     "data": {
      "text/plain": [
       "{'_execution_time': 0.077,\n",
       " 'affected_rows': 1,\n",
       " 'auth_check': {'auth_level': 'Write',\n",
       "  'checked_relations': ['tir.tir'],\n",
       "  'session': None,\n",
       "  'success': True},\n",
       " 'success': True}"
      ]
     },
     "metadata": {},
     "output_type": "display_data"
    },
    {
     "name": "stdout",
     "output_type": "stream",
     "text": [
      "https://gc2.mapcentia.com/api/v1/sql/bcb?key=1c95cdb240f82acedec84299103e6d4e&q=UPDATE tir.tir SET tess = '\"cacheDate\"=>\"2017-05-01T19:20:03.722793\",\"queryResult\"=>\"None\"' WHERE itis -> 'discoveredTSN' = '780825'\n"
     ]
    },
    {
     "data": {
      "text/plain": [
       "{'_execution_time': 0.074,\n",
       " 'affected_rows': 1,\n",
       " 'auth_check': {'auth_level': 'Write',\n",
       "  'checked_relations': ['tir.tir'],\n",
       "  'session': None,\n",
       "  'success': True},\n",
       " 'success': True}"
      ]
     },
     "metadata": {},
     "output_type": "display_data"
    },
    {
     "name": "stdout",
     "output_type": "stream",
     "text": [
      "https://gc2.mapcentia.com/api/v1/sql/bcb?key=1c95cdb240f82acedec84299103e6d4e&q=UPDATE tir.tir SET tess = '\"cacheDate\"=>\"2017-05-01T19:20:03.722793\",\"queryResult\"=>\"None\"' WHERE itis -> 'discoveredTSN' = '201897'\n"
     ]
    },
    {
     "data": {
      "text/plain": [
       "{'_execution_time': 0.074,\n",
       " 'affected_rows': 2,\n",
       " 'auth_check': {'auth_level': 'Write',\n",
       "  'checked_relations': ['tir.tir'],\n",
       "  'session': None,\n",
       "  'success': True},\n",
       " 'success': True}"
      ]
     },
     "metadata": {},
     "output_type": "display_data"
    },
    {
     "name": "stdout",
     "output_type": "stream",
     "text": [
      "https://gc2.mapcentia.com/api/v1/sql/bcb?key=1c95cdb240f82acedec84299103e6d4e&q=UPDATE tir.tir SET tess = '\"cacheDate\"=>\"2017-05-01T19:20:03.722793\",\"queryResult\"=>\"None\"' WHERE itis -> 'discoveredTSN' = '527007'\n"
     ]
    },
    {
     "data": {
      "text/plain": [
       "{'_execution_time': 0.073,\n",
       " 'affected_rows': 1,\n",
       " 'auth_check': {'auth_level': 'Write',\n",
       "  'checked_relations': ['tir.tir'],\n",
       "  'session': None,\n",
       "  'success': True},\n",
       " 'success': True}"
      ]
     },
     "metadata": {},
     "output_type": "display_data"
    },
    {
     "name": "stdout",
     "output_type": "stream",
     "text": [
      "https://gc2.mapcentia.com/api/v1/sql/bcb?key=1c95cdb240f82acedec84299103e6d4e&q=UPDATE tir.tir SET tess = '\"cacheDate\"=>\"2017-05-01T20:20:29.115509\",\"entityId\"=>\"2732\",\"SpeciesCode\"=>\"Q0BR\",\"CommonName\"=>\"[Unnamed] sedge\",\"PopulationDescription\"=>\"Wherever found\",\"Status\"=>\"SC\",\"StatusText\"=>\"Species of Concern\"' WHERE itis -> 'discoveredTSN' = '566211'\n"
     ]
    },
    {
     "data": {
      "text/plain": [
       "{'_execution_time': 0.077,\n",
       " 'affected_rows': 1,\n",
       " 'auth_check': {'auth_level': 'Write',\n",
       "  'checked_relations': ['tir.tir'],\n",
       "  'session': None,\n",
       "  'success': True},\n",
       " 'success': True}"
      ]
     },
     "metadata": {},
     "output_type": "display_data"
    },
    {
     "name": "stdout",
     "output_type": "stream",
     "text": [
      "https://gc2.mapcentia.com/api/v1/sql/bcb?key=1c95cdb240f82acedec84299103e6d4e&q=UPDATE tir.tir SET tess = '\"cacheDate\"=>\"2017-05-01T19:20:03.722793\",\"queryResult\"=>\"None\"' WHERE itis -> 'discoveredTSN' = '845432'\n"
     ]
    },
    {
     "data": {
      "text/plain": [
       "{'_execution_time': 0.074,\n",
       " 'affected_rows': 1,\n",
       " 'auth_check': {'auth_level': 'Write',\n",
       "  'checked_relations': ['tir.tir'],\n",
       "  'session': None,\n",
       "  'success': True},\n",
       " 'success': True}"
      ]
     },
     "metadata": {},
     "output_type": "display_data"
    },
    {
     "name": "stdout",
     "output_type": "stream",
     "text": [
      "https://gc2.mapcentia.com/api/v1/sql/bcb?key=1c95cdb240f82acedec84299103e6d4e&q=UPDATE tir.tir SET tess = '\"cacheDate\"=>\"2017-05-01T19:20:03.722793\",\"queryResult\"=>\"None\"' WHERE itis -> 'discoveredTSN' = '549344'\n"
     ]
    },
    {
     "data": {
      "text/plain": [
       "{'_execution_time': 0.075,\n",
       " 'affected_rows': 1,\n",
       " 'auth_check': {'auth_level': 'Write',\n",
       "  'checked_relations': ['tir.tir'],\n",
       "  'session': None,\n",
       "  'success': True},\n",
       " 'success': True}"
      ]
     },
     "metadata": {},
     "output_type": "display_data"
    },
    {
     "name": "stdout",
     "output_type": "stream",
     "text": [
      "https://gc2.mapcentia.com/api/v1/sql/bcb?key=1c95cdb240f82acedec84299103e6d4e&q=UPDATE tir.tir SET tess = '\"cacheDate\"=>\"2017-05-01T20:20:32.646482\",\"entityId\"=>\"4303\",\"SpeciesCode\"=>\"Q0A2\",\"CommonName\"=>\"Ofer Hollow reedgrass\",\"PopulationDescription\"=>\"Wherever found\",\"Status\"=>\"SC\",\"StatusText\"=>\"Species of Concern\"' WHERE itis -> 'discoveredTSN' = '523715'\n"
     ]
    },
    {
     "data": {
      "text/plain": [
       "{'_execution_time': 0.075,\n",
       " 'affected_rows': 1,\n",
       " 'auth_check': {'auth_level': 'Write',\n",
       "  'checked_relations': ['tir.tir'],\n",
       "  'session': None,\n",
       "  'success': True},\n",
       " 'success': True}"
      ]
     },
     "metadata": {},
     "output_type": "display_data"
    },
    {
     "name": "stdout",
     "output_type": "stream",
     "text": [
      "https://gc2.mapcentia.com/api/v1/sql/bcb?key=1c95cdb240f82acedec84299103e6d4e&q=UPDATE tir.tir SET tess = '\"cacheDate\"=>\"2017-05-01T19:20:03.722793\",\"queryResult\"=>\"None\"' WHERE itis -> 'discoveredTSN' = '35705'\n"
     ]
    },
    {
     "data": {
      "text/plain": [
       "{'_execution_time': 0.074,\n",
       " 'affected_rows': 1,\n",
       " 'auth_check': {'auth_level': 'Write',\n",
       "  'checked_relations': ['tir.tir'],\n",
       "  'session': None,\n",
       "  'success': True},\n",
       " 'success': True}"
      ]
     },
     "metadata": {},
     "output_type": "display_data"
    },
    {
     "name": "stdout",
     "output_type": "stream",
     "text": [
      "https://gc2.mapcentia.com/api/v1/sql/bcb?key=1c95cdb240f82acedec84299103e6d4e&q=UPDATE tir.tir SET tess = '\"cacheDate\"=>\"2017-05-01T20:20:34.363081\",\"entityId\"=>\"460\",\"SpeciesCode\"=>\"I0PT\",\"CommonName\"=>\"Helotes mold beetle\",\"PopulationDescription\"=>\"Wherever found\",\"Status\"=>\"E\",\"StatusText\"=>\"Endangered\",\"ListingDate\"=>\"2000-12-26\"' WHERE itis -> 'discoveredTSN' = '691442'\n"
     ]
    },
    {
     "data": {
      "text/plain": [
       "{'_execution_time': 0.075,\n",
       " 'affected_rows': 2,\n",
       " 'auth_check': {'auth_level': 'Write',\n",
       "  'checked_relations': ['tir.tir'],\n",
       "  'session': None,\n",
       "  'success': True},\n",
       " 'success': True}"
      ]
     },
     "metadata": {},
     "output_type": "display_data"
    },
    {
     "name": "stdout",
     "output_type": "stream",
     "text": [
      "https://gc2.mapcentia.com/api/v1/sql/bcb?key=1c95cdb240f82acedec84299103e6d4e&q=UPDATE tir.tir SET tess = '\"cacheDate\"=>\"2017-05-01T19:20:03.722793\",\"queryResult\"=>\"None\"' WHERE itis -> 'discoveredTSN' = '822905'\n"
     ]
    },
    {
     "data": {
      "text/plain": [
       "{'_execution_time': 0.073,\n",
       " 'affected_rows': 1,\n",
       " 'auth_check': {'auth_level': 'Write',\n",
       "  'checked_relations': ['tir.tir'],\n",
       "  'session': None,\n",
       "  'success': True},\n",
       " 'success': True}"
      ]
     },
     "metadata": {},
     "output_type": "display_data"
    },
    {
     "name": "stdout",
     "output_type": "stream",
     "text": [
      "https://gc2.mapcentia.com/api/v1/sql/bcb?key=1c95cdb240f82acedec84299103e6d4e&q=UPDATE tir.tir SET tess = '\"cacheDate\"=>\"2017-05-01T20:20:36.242047\",\"entityId\"=>\"2626\",\"SpeciesCode\"=>\"Q2Z9\",\"CommonName\"=>\"No common name\",\"PopulationDescription\"=>\"Wherever found\",\"Status\"=>\"SC\",\"StatusText\"=>\"Species of Concern\"' WHERE itis -> 'discoveredTSN' = '192415'\n"
     ]
    },
    {
     "data": {
      "text/plain": [
       "{'_execution_time': 0.076,\n",
       " 'affected_rows': 1,\n",
       " 'auth_check': {'auth_level': 'Write',\n",
       "  'checked_relations': ['tir.tir'],\n",
       "  'session': None,\n",
       "  'success': True},\n",
       " 'success': True}"
      ]
     },
     "metadata": {},
     "output_type": "display_data"
    },
    {
     "name": "stdout",
     "output_type": "stream",
     "text": [
      "https://gc2.mapcentia.com/api/v1/sql/bcb?key=1c95cdb240f82acedec84299103e6d4e&q=UPDATE tir.tir SET tess = '\"cacheDate\"=>\"2017-05-01T19:20:03.722793\",\"queryResult\"=>\"None\"' WHERE itis -> 'discoveredTSN' = '691447'\n"
     ]
    },
    {
     "data": {
      "text/plain": [
       "{'_execution_time': 0.073,\n",
       " 'affected_rows': 1,\n",
       " 'auth_check': {'auth_level': 'Write',\n",
       "  'checked_relations': ['tir.tir'],\n",
       "  'session': None,\n",
       "  'success': True},\n",
       " 'success': True}"
      ]
     },
     "metadata": {},
     "output_type": "display_data"
    },
    {
     "name": "stdout",
     "output_type": "stream",
     "text": [
      "https://gc2.mapcentia.com/api/v1/sql/bcb?key=1c95cdb240f82acedec84299103e6d4e&q=UPDATE tir.tir SET tess = '\"cacheDate\"=>\"2017-05-01T20:20:38.248994\",\"entityId\"=>\"2867\",\"SpeciesCode\"=>\"Q02C\",\"CommonName\"=>\"[Unnamed] columbine\",\"PopulationDescription\"=>\"Wherever found\",\"Status\"=>\"RT\",\"StatusText\"=>\"Resolved Taxon\"' WHERE itis -> 'discoveredTSN' = '184144'\n"
     ]
    },
    {
     "data": {
      "text/plain": [
       "{'_execution_time': 0.078,\n",
       " 'affected_rows': 1,\n",
       " 'auth_check': {'auth_level': 'Write',\n",
       "  'checked_relations': ['tir.tir'],\n",
       "  'session': None,\n",
       "  'success': True},\n",
       " 'success': True}"
      ]
     },
     "metadata": {},
     "output_type": "display_data"
    },
    {
     "name": "stdout",
     "output_type": "stream",
     "text": [
      "https://gc2.mapcentia.com/api/v1/sql/bcb?key=1c95cdb240f82acedec84299103e6d4e&q=UPDATE tir.tir SET tess = '\"cacheDate\"=>\"2017-05-01T19:20:03.722793\",\"queryResult\"=>\"None\"' WHERE itis -> 'discoveredTSN' = '532995'\n"
     ]
    },
    {
     "data": {
      "text/plain": [
       "{'_execution_time': 0.075,\n",
       " 'affected_rows': 1,\n",
       " 'auth_check': {'auth_level': 'Write',\n",
       "  'checked_relations': ['tir.tir'],\n",
       "  'session': None,\n",
       "  'success': True},\n",
       " 'success': True}"
      ]
     },
     "metadata": {},
     "output_type": "display_data"
    },
    {
     "name": "stdout",
     "output_type": "stream",
     "text": [
      "https://gc2.mapcentia.com/api/v1/sql/bcb?key=1c95cdb240f82acedec84299103e6d4e&q=UPDATE tir.tir SET tess = '\"cacheDate\"=>\"2017-05-01T20:20:41.053511\",\"entityId\"=>\"10296\",\"SpeciesCode\"=>\"B0HD\",\"CommonName\"=>\"Short-eared Owl\",\"PopulationDescription\"=>\"Wherever found\",\"Status\"=>\"SC\",\"StatusText\"=>\"Species of Concern\"' WHERE itis -> 'discoveredTSN' = '177935'\n"
     ]
    },
    {
     "data": {
      "text/plain": [
       "{'_execution_time': 0.076,\n",
       " 'affected_rows': 2,\n",
       " 'auth_check': {'auth_level': 'Write',\n",
       "  'checked_relations': ['tir.tir'],\n",
       "  'session': None,\n",
       "  'success': True},\n",
       " 'success': True}"
      ]
     },
     "metadata": {},
     "output_type": "display_data"
    },
    {
     "name": "stdout",
     "output_type": "stream",
     "text": [
      "https://gc2.mapcentia.com/api/v1/sql/bcb?key=1c95cdb240f82acedec84299103e6d4e&q=UPDATE tir.tir SET tess = '\"cacheDate\"=>\"2017-05-01T19:20:03.722793\",\"queryResult\"=>\"None\"' WHERE itis -> 'discoveredTSN' = '691260'\n"
     ]
    },
    {
     "data": {
      "text/plain": [
       "{'_execution_time': 0.076,\n",
       " 'affected_rows': 1,\n",
       " 'auth_check': {'auth_level': 'Write',\n",
       "  'checked_relations': ['tir.tir'],\n",
       "  'session': None,\n",
       "  'success': True},\n",
       " 'success': True}"
      ]
     },
     "metadata": {},
     "output_type": "display_data"
    },
    {
     "name": "stdout",
     "output_type": "stream",
     "text": [
      "https://gc2.mapcentia.com/api/v1/sql/bcb?key=1c95cdb240f82acedec84299103e6d4e&q=UPDATE tir.tir SET tess = '\"cacheDate\"=>\"2017-05-01T19:20:03.722793\",\"queryResult\"=>\"None\"' WHERE itis -> 'discoveredTSN' = '97370'\n"
     ]
    },
    {
     "data": {
      "text/plain": [
       "{'_execution_time': 0.076,\n",
       " 'affected_rows': 2,\n",
       " 'auth_check': {'auth_level': 'Write',\n",
       "  'checked_relations': ['tir.tir'],\n",
       "  'session': None,\n",
       "  'success': True},\n",
       " 'success': True}"
      ]
     },
     "metadata": {},
     "output_type": "display_data"
    },
    {
     "name": "stdout",
     "output_type": "stream",
     "text": [
      "https://gc2.mapcentia.com/api/v1/sql/bcb?key=1c95cdb240f82acedec84299103e6d4e&q=UPDATE tir.tir SET tess = '\"cacheDate\"=>\"2017-05-01T19:20:03.722793\",\"queryResult\"=>\"None\"' WHERE itis -> 'discoveredTSN' = '157215'\n"
     ]
    },
    {
     "data": {
      "text/plain": [
       "{'_execution_time': 0.075,\n",
       " 'affected_rows': 1,\n",
       " 'auth_check': {'auth_level': 'Write',\n",
       "  'checked_relations': ['tir.tir'],\n",
       "  'session': None,\n",
       "  'success': True},\n",
       " 'success': True}"
      ]
     },
     "metadata": {},
     "output_type": "display_data"
    },
    {
     "name": "stdout",
     "output_type": "stream",
     "text": [
      "https://gc2.mapcentia.com/api/v1/sql/bcb?key=1c95cdb240f82acedec84299103e6d4e&q=UPDATE tir.tir SET tess = '\"cacheDate\"=>\"2017-05-01T19:20:03.722793\",\"queryResult\"=>\"None\"' WHERE itis -> 'discoveredTSN' = '523717'\n"
     ]
    },
    {
     "data": {
      "text/plain": [
       "{'_execution_time': 0.074,\n",
       " 'affected_rows': 1,\n",
       " 'auth_check': {'auth_level': 'Write',\n",
       "  'checked_relations': ['tir.tir'],\n",
       "  'session': None,\n",
       "  'success': True},\n",
       " 'success': True}"
      ]
     },
     "metadata": {},
     "output_type": "display_data"
    },
    {
     "name": "stdout",
     "output_type": "stream",
     "text": [
      "https://gc2.mapcentia.com/api/v1/sql/bcb?key=1c95cdb240f82acedec84299103e6d4e&q=UPDATE tir.tir SET tess = '\"cacheDate\"=>\"2017-05-01T19:20:03.722793\",\"queryResult\"=>\"None\"' WHERE itis -> 'discoveredTSN' = '691448'\n"
     ]
    },
    {
     "data": {
      "text/plain": [
       "{'_execution_time': 0.075,\n",
       " 'affected_rows': 2,\n",
       " 'auth_check': {'auth_level': 'Write',\n",
       "  'checked_relations': ['tir.tir'],\n",
       "  'session': None,\n",
       "  'success': True},\n",
       " 'success': True}"
      ]
     },
     "metadata": {},
     "output_type": "display_data"
    },
    {
     "name": "stdout",
     "output_type": "stream",
     "text": [
      "https://gc2.mapcentia.com/api/v1/sql/bcb?key=1c95cdb240f82acedec84299103e6d4e&q=UPDATE tir.tir SET tess = '\"cacheDate\"=>\"2017-05-01T20:20:48.711272\",\"entityId\"=>\"10479\",\"SpeciesCode\"=>\"Q3OA\",\"CommonName\"=>\"kookoolau\",\"PopulationDescription\"=>\"Wherever found\",\"Status\"=>\"E\",\"StatusText\"=>\"Endangered\",\"ListingDate\"=>\"2013-11-29\"' WHERE itis -> 'discoveredTSN' = '523683'\n"
     ]
    },
    {
     "data": {
      "text/plain": [
       "{'_execution_time': 0.075,\n",
       " 'affected_rows': 1,\n",
       " 'auth_check': {'auth_level': 'Write',\n",
       "  'checked_relations': ['tir.tir'],\n",
       "  'session': None,\n",
       "  'success': True},\n",
       " 'success': True}"
      ]
     },
     "metadata": {},
     "output_type": "display_data"
    },
    {
     "name": "stdout",
     "output_type": "stream",
     "text": [
      "https://gc2.mapcentia.com/api/v1/sql/bcb?key=1c95cdb240f82acedec84299103e6d4e&q=UPDATE tir.tir SET tess = '\"cacheDate\"=>\"2017-05-01T19:20:03.722793\",\"queryResult\"=>\"None\"' WHERE itis -> 'discoveredTSN' = '549334'\n"
     ]
    },
    {
     "data": {
      "text/plain": [
       "{'_execution_time': 0.074,\n",
       " 'affected_rows': 2,\n",
       " 'auth_check': {'auth_level': 'Write',\n",
       "  'checked_relations': ['tir.tir'],\n",
       "  'session': None,\n",
       "  'success': True},\n",
       " 'success': True}"
      ]
     },
     "metadata": {},
     "output_type": "display_data"
    },
    {
     "name": "stdout",
     "output_type": "stream",
     "text": [
      "https://gc2.mapcentia.com/api/v1/sql/bcb?key=1c95cdb240f82acedec84299103e6d4e&q=UPDATE tir.tir SET tess = '\"cacheDate\"=>\"2017-05-01T20:20:51.094623\",\"entityId\"=>\"882\",\"SpeciesCode\"=>\"Q25I\",\"CommonName\"=>\"`Ahinahina\",\"PopulationDescription\"=>\"Wherever found\",\"Status\"=>\"E\",\"StatusText\"=>\"Endangered\",\"ListingDate\"=>\"1986-03-21\"' WHERE itis -> 'discoveredTSN' = '185197'\n"
     ]
    },
    {
     "data": {
      "text/plain": [
       "{'_execution_time': 0.078,\n",
       " 'affected_rows': 1,\n",
       " 'auth_check': {'auth_level': 'Write',\n",
       "  'checked_relations': ['tir.tir'],\n",
       "  'session': None,\n",
       "  'success': True},\n",
       " 'success': True}"
      ]
     },
     "metadata": {},
     "output_type": "display_data"
    },
    {
     "name": "stdout",
     "output_type": "stream",
     "text": [
      "https://gc2.mapcentia.com/api/v1/sql/bcb?key=1c95cdb240f82acedec84299103e6d4e&q=UPDATE tir.tir SET tess = '\"cacheDate\"=>\"2017-05-01T20:20:51.951413\",\"entityId\"=>\"9273\",\"SpeciesCode\"=>\"B0F3\",\"CommonName\"=>\"American bittern\",\"PopulationDescription\"=>\"Wherever found\",\"Status\"=>\"SC\",\"StatusText\"=>\"Species of Concern\"' WHERE itis -> 'discoveredTSN' = '174856'\n"
     ]
    },
    {
     "data": {
      "text/plain": [
       "{'_execution_time': 0.075,\n",
       " 'affected_rows': 5,\n",
       " 'auth_check': {'auth_level': 'Write',\n",
       "  'checked_relations': ['tir.tir'],\n",
       "  'session': None,\n",
       "  'success': True},\n",
       " 'success': True}"
      ]
     },
     "metadata": {},
     "output_type": "display_data"
    },
    {
     "name": "stdout",
     "output_type": "stream",
     "text": [
      "https://gc2.mapcentia.com/api/v1/sql/bcb?key=1c95cdb240f82acedec84299103e6d4e&q=UPDATE tir.tir SET tess = '\"cacheDate\"=>\"2017-05-01T19:20:03.722793\",\"queryResult\"=>\"None\"' WHERE itis -> 'discoveredTSN' = '526940'\n"
     ]
    },
    {
     "data": {
      "text/plain": [
       "{'_execution_time': 0.075,\n",
       " 'affected_rows': 1,\n",
       " 'auth_check': {'auth_level': 'Write',\n",
       "  'checked_relations': ['tir.tir'],\n",
       "  'session': None,\n",
       "  'success': True},\n",
       " 'success': True}"
      ]
     },
     "metadata": {},
     "output_type": "display_data"
    },
    {
     "name": "stdout",
     "output_type": "stream",
     "text": [
      "https://gc2.mapcentia.com/api/v1/sql/bcb?key=1c95cdb240f82acedec84299103e6d4e&q=UPDATE tir.tir SET tess = '\"cacheDate\"=>\"2017-05-01T19:20:03.722793\",\"queryResult\"=>\"None\"' WHERE itis -> 'discoveredTSN' = '30694'\n"
     ]
    },
    {
     "data": {
      "text/plain": [
       "{'_execution_time': 0.074,\n",
       " 'affected_rows': 1,\n",
       " 'auth_check': {'auth_level': 'Write',\n",
       "  'checked_relations': ['tir.tir'],\n",
       "  'session': None,\n",
       "  'success': True},\n",
       " 'success': True}"
      ]
     },
     "metadata": {},
     "output_type": "display_data"
    },
    {
     "name": "stdout",
     "output_type": "stream",
     "text": [
      "https://gc2.mapcentia.com/api/v1/sql/bcb?key=1c95cdb240f82acedec84299103e6d4e&q=UPDATE tir.tir SET tess = '\"cacheDate\"=>\"2017-05-01T19:20:03.722793\",\"queryResult\"=>\"None\"' WHERE itis -> 'discoveredTSN' = '527055'\n"
     ]
    },
    {
     "data": {
      "text/plain": [
       "{'_execution_time': 0.074,\n",
       " 'affected_rows': 1,\n",
       " 'auth_check': {'auth_level': 'Write',\n",
       "  'checked_relations': ['tir.tir'],\n",
       "  'session': None,\n",
       "  'success': True},\n",
       " 'success': True}"
      ]
     },
     "metadata": {},
     "output_type": "display_data"
    },
    {
     "name": "stdout",
     "output_type": "stream",
     "text": [
      "https://gc2.mapcentia.com/api/v1/sql/bcb?key=1c95cdb240f82acedec84299103e6d4e&q=UPDATE tir.tir SET tess = '\"cacheDate\"=>\"2017-05-01T19:20:03.722793\",\"queryResult\"=>\"None\"' WHERE itis -> 'discoveredTSN' = '932576'\n"
     ]
    },
    {
     "data": {
      "text/plain": [
       "{'_execution_time': 0.074,\n",
       " 'affected_rows': 2,\n",
       " 'auth_check': {'auth_level': 'Write',\n",
       "  'checked_relations': ['tir.tir'],\n",
       "  'session': None,\n",
       "  'success': True},\n",
       " 'success': True}"
      ]
     },
     "metadata": {},
     "output_type": "display_data"
    },
    {
     "name": "stdout",
     "output_type": "stream",
     "text": [
      "https://gc2.mapcentia.com/api/v1/sql/bcb?key=1c95cdb240f82acedec84299103e6d4e&q=UPDATE tir.tir SET tess = '\"cacheDate\"=>\"2017-05-01T19:20:03.722793\",\"queryResult\"=>\"None\"' WHERE itis -> 'discoveredTSN' = '929519'\n"
     ]
    },
    {
     "data": {
      "text/plain": [
       "{'_execution_time': 0.077,\n",
       " 'affected_rows': 2,\n",
       " 'auth_check': {'auth_level': 'Write',\n",
       "  'checked_relations': ['tir.tir'],\n",
       "  'session': None,\n",
       "  'success': True},\n",
       " 'success': True}"
      ]
     },
     "metadata": {},
     "output_type": "display_data"
    },
    {
     "name": "stdout",
     "output_type": "stream",
     "text": [
      "https://gc2.mapcentia.com/api/v1/sql/bcb?key=1c95cdb240f82acedec84299103e6d4e&q=UPDATE tir.tir SET tess = '\"cacheDate\"=>\"2017-05-01T19:20:03.722793\",\"queryResult\"=>\"None\"' WHERE itis -> 'discoveredTSN' = '702512'\n"
     ]
    },
    {
     "data": {
      "text/plain": [
       "{'_execution_time': 0.075,\n",
       " 'affected_rows': 1,\n",
       " 'auth_check': {'auth_level': 'Write',\n",
       "  'checked_relations': ['tir.tir'],\n",
       "  'session': None,\n",
       "  'success': True},\n",
       " 'success': True}"
      ]
     },
     "metadata": {},
     "output_type": "display_data"
    },
    {
     "name": "stdout",
     "output_type": "stream",
     "text": [
      "https://gc2.mapcentia.com/api/v1/sql/bcb?key=1c95cdb240f82acedec84299103e6d4e&q=UPDATE tir.tir SET tess = '\"cacheDate\"=>\"2017-05-01T19:20:03.722793\",\"queryResult\"=>\"None\"' WHERE itis -> 'discoveredTSN' = '808527'\n"
     ]
    },
    {
     "data": {
      "text/plain": [
       "{'_execution_time': 0.074,\n",
       " 'affected_rows': 1,\n",
       " 'auth_check': {'auth_level': 'Write',\n",
       "  'checked_relations': ['tir.tir'],\n",
       "  'session': None,\n",
       "  'success': True},\n",
       " 'success': True}"
      ]
     },
     "metadata": {},
     "output_type": "display_data"
    },
    {
     "name": "stdout",
     "output_type": "stream",
     "text": [
      "https://gc2.mapcentia.com/api/v1/sql/bcb?key=1c95cdb240f82acedec84299103e6d4e&q=UPDATE tir.tir SET tess = '\"cacheDate\"=>\"2017-05-01T19:20:03.722793\",\"queryResult\"=>\"None\"' WHERE itis -> 'discoveredTSN' = '74070'\n"
     ]
    },
    {
     "data": {
      "text/plain": [
       "{'_execution_time': 0.074,\n",
       " 'affected_rows': 1,\n",
       " 'auth_check': {'auth_level': 'Write',\n",
       "  'checked_relations': ['tir.tir'],\n",
       "  'session': None,\n",
       "  'success': True},\n",
       " 'success': True}"
      ]
     },
     "metadata": {},
     "output_type": "display_data"
    },
    {
     "name": "stdout",
     "output_type": "stream",
     "text": [
      "https://gc2.mapcentia.com/api/v1/sql/bcb?key=1c95cdb240f82acedec84299103e6d4e&q=UPDATE tir.tir SET tess = '\"cacheDate\"=>\"2017-05-01T19:20:03.722793\",\"queryResult\"=>\"None\"' WHERE itis -> 'discoveredTSN' = '566206'\n"
     ]
    },
    {
     "data": {
      "text/plain": [
       "{'_execution_time': 0.075,\n",
       " 'affected_rows': 1,\n",
       " 'auth_check': {'auth_level': 'Write',\n",
       "  'checked_relations': ['tir.tir'],\n",
       "  'session': None,\n",
       "  'success': True},\n",
       " 'success': True}"
      ]
     },
     "metadata": {},
     "output_type": "display_data"
    },
    {
     "name": "stdout",
     "output_type": "stream",
     "text": [
      "https://gc2.mapcentia.com/api/v1/sql/bcb?key=1c95cdb240f82acedec84299103e6d4e&q=UPDATE tir.tir SET tess = '\"cacheDate\"=>\"2017-05-01T19:20:03.722793\",\"queryResult\"=>\"None\"' WHERE itis -> 'discoveredTSN' = '527009'\n"
     ]
    },
    {
     "data": {
      "text/plain": [
       "{'_execution_time': 0.077,\n",
       " 'affected_rows': 1,\n",
       " 'auth_check': {'auth_level': 'Write',\n",
       "  'checked_relations': ['tir.tir'],\n",
       "  'session': None,\n",
       "  'success': True},\n",
       " 'success': True}"
      ]
     },
     "metadata": {},
     "output_type": "display_data"
    },
    {
     "name": "stdout",
     "output_type": "stream",
     "text": [
      "https://gc2.mapcentia.com/api/v1/sql/bcb?key=1c95cdb240f82acedec84299103e6d4e&q=UPDATE tir.tir SET tess = '\"cacheDate\"=>\"2017-05-01T20:21:03.167423\",\"entityId\"=>\"9131\",\"SpeciesCode\"=>\"B0DV\",\"CommonName\"=>\"Golden eagle\",\"PopulationDescription\"=>\"Wherever found\",\"Status\"=>\"SC\",\"StatusText\"=>\"Species of Concern\"' WHERE itis -> 'discoveredTSN' = '175407'\n"
     ]
    },
    {
     "data": {
      "text/plain": [
       "{'_execution_time': 0.077,\n",
       " 'affected_rows': 2,\n",
       " 'auth_check': {'auth_level': 'Write',\n",
       "  'checked_relations': ['tir.tir'],\n",
       "  'session': None,\n",
       "  'success': True},\n",
       " 'success': True}"
      ]
     },
     "metadata": {},
     "output_type": "display_data"
    },
    {
     "name": "stdout",
     "output_type": "stream",
     "text": [
      "https://gc2.mapcentia.com/api/v1/sql/bcb?key=1c95cdb240f82acedec84299103e6d4e&q=UPDATE tir.tir SET tess = '\"cacheDate\"=>\"2017-05-01T19:20:03.722793\",\"queryResult\"=>\"None\"' WHERE itis -> 'discoveredTSN' = '523748'\n"
     ]
    },
    {
     "data": {
      "text/plain": [
       "{'_execution_time': 0.076,\n",
       " 'affected_rows': 1,\n",
       " 'auth_check': {'auth_level': 'Write',\n",
       "  'checked_relations': ['tir.tir'],\n",
       "  'session': None,\n",
       "  'success': True},\n",
       " 'success': True}"
      ]
     },
     "metadata": {},
     "output_type": "display_data"
    },
    {
     "name": "stdout",
     "output_type": "stream",
     "text": [
      "https://gc2.mapcentia.com/api/v1/sql/bcb?key=1c95cdb240f82acedec84299103e6d4e&q=UPDATE tir.tir SET tess = '\"cacheDate\"=>\"2017-05-01T19:20:03.722793\",\"queryResult\"=>\"None\"' WHERE itis -> 'discoveredTSN' = '526958'\n"
     ]
    },
    {
     "data": {
      "text/plain": [
       "{'_execution_time': 0.074,\n",
       " 'affected_rows': 1,\n",
       " 'auth_check': {'auth_level': 'Write',\n",
       "  'checked_relations': ['tir.tir'],\n",
       "  'session': None,\n",
       "  'success': True},\n",
       " 'success': True}"
      ]
     },
     "metadata": {},
     "output_type": "display_data"
    },
    {
     "name": "stdout",
     "output_type": "stream",
     "text": [
      "https://gc2.mapcentia.com/api/v1/sql/bcb?key=1c95cdb240f82acedec84299103e6d4e&q=UPDATE tir.tir SET tess = '\"cacheDate\"=>\"2017-05-01T20:21:05.813847\",\"entityId\"=>\"95\",\"SpeciesCode\"=>\"B03Q\",\"CommonName\"=>\"Ivory-billed woodpecker\",\"PopulationDescription\"=>\"Wherever found\",\"Status\"=>\"E\",\"StatusText\"=>\"Endangered\",\"ListingDate\"=>\"1967-03-11\"' WHERE itis -> 'discoveredTSN' = '178264'\n"
     ]
    },
    {
     "data": {
      "text/plain": [
       "{'_execution_time': 0.115,\n",
       " 'affected_rows': 3,\n",
       " 'auth_check': {'auth_level': 'Write',\n",
       "  'checked_relations': ['tir.tir'],\n",
       "  'session': None,\n",
       "  'success': True},\n",
       " 'success': True}"
      ]
     },
     "metadata": {},
     "output_type": "display_data"
    },
    {
     "name": "stdout",
     "output_type": "stream",
     "text": [
      "https://gc2.mapcentia.com/api/v1/sql/bcb?key=1c95cdb240f82acedec84299103e6d4e&q=UPDATE tir.tir SET tess = '\"cacheDate\"=>\"2017-05-01T19:20:03.722793\",\"queryResult\"=>\"None\"' WHERE itis -> 'discoveredTSN' = '192931'\n"
     ]
    },
    {
     "data": {
      "text/plain": [
       "{'_execution_time': 0.076,\n",
       " 'affected_rows': 2,\n",
       " 'auth_check': {'auth_level': 'Write',\n",
       "  'checked_relations': ['tir.tir'],\n",
       "  'session': None,\n",
       "  'success': True},\n",
       " 'success': True}"
      ]
     },
     "metadata": {},
     "output_type": "display_data"
    },
    {
     "name": "stdout",
     "output_type": "stream",
     "text": [
      "https://gc2.mapcentia.com/api/v1/sql/bcb?key=1c95cdb240f82acedec84299103e6d4e&q=UPDATE tir.tir SET tess = '\"cacheDate\"=>\"2017-05-01T20:21:08.184645\",\"entityId\"=>\"5688\",\"SpeciesCode\"=>\"D02V\",\"CommonName\"=>\"Relictual slender salamander\",\"PopulationDescription\"=>\"Wherever found\",\"Status\"=>\"UR\",\"StatusText\"=>\"Under Review in the Candidate or Petition Process\"' WHERE itis -> 'discoveredTSN' = '208344'\n"
     ]
    },
    {
     "data": {
      "text/plain": [
       "{'_execution_time': 0.077,\n",
       " 'affected_rows': 1,\n",
       " 'auth_check': {'auth_level': 'Write',\n",
       "  'checked_relations': ['tir.tir'],\n",
       "  'session': None,\n",
       "  'success': True},\n",
       " 'success': True}"
      ]
     },
     "metadata": {},
     "output_type": "display_data"
    },
    {
     "name": "stdout",
     "output_type": "stream",
     "text": [
      "https://gc2.mapcentia.com/api/v1/sql/bcb?key=1c95cdb240f82acedec84299103e6d4e&q=UPDATE tir.tir SET tess = '\"cacheDate\"=>\"2017-05-01T19:20:03.722793\",\"queryResult\"=>\"None\"' WHERE itis -> 'discoveredTSN' = '176661'\n"
     ]
    },
    {
     "data": {
      "text/plain": [
       "{'_execution_time': 0.076,\n",
       " 'affected_rows': 2,\n",
       " 'auth_check': {'auth_level': 'Write',\n",
       "  'checked_relations': ['tir.tir'],\n",
       "  'session': None,\n",
       "  'success': True},\n",
       " 'success': True}"
      ]
     },
     "metadata": {},
     "output_type": "display_data"
    },
    {
     "name": "stdout",
     "output_type": "stream",
     "text": [
      "https://gc2.mapcentia.com/api/v1/sql/bcb?key=1c95cdb240f82acedec84299103e6d4e&q=UPDATE tir.tir SET tess = '\"cacheDate\"=>\"2017-05-01T19:20:03.722793\",\"queryResult\"=>\"None\"' WHERE itis -> 'discoveredTSN' = '526934'\n"
     ]
    },
    {
     "data": {
      "text/plain": [
       "{'_execution_time': 0.075,\n",
       " 'affected_rows': 1,\n",
       " 'auth_check': {'auth_level': 'Write',\n",
       "  'checked_relations': ['tir.tir'],\n",
       "  'session': None,\n",
       "  'success': True},\n",
       " 'success': True}"
      ]
     },
     "metadata": {},
     "output_type": "display_data"
    },
    {
     "name": "stdout",
     "output_type": "stream",
     "text": [
      "https://gc2.mapcentia.com/api/v1/sql/bcb?key=1c95cdb240f82acedec84299103e6d4e&q=UPDATE tir.tir SET tess = '\"cacheDate\"=>\"2017-05-01T19:20:03.722793\",\"queryResult\"=>\"None\"' WHERE itis -> 'discoveredTSN' = '532380'\n"
     ]
    },
    {
     "data": {
      "text/plain": [
       "{'_execution_time': 0.074,\n",
       " 'affected_rows': 1,\n",
       " 'auth_check': {'auth_level': 'Write',\n",
       "  'checked_relations': ['tir.tir'],\n",
       "  'session': None,\n",
       "  'success': True},\n",
       " 'success': True}"
      ]
     },
     "metadata": {},
     "output_type": "display_data"
    },
    {
     "name": "stdout",
     "output_type": "stream",
     "text": [
      "https://gc2.mapcentia.com/api/v1/sql/bcb?key=1c95cdb240f82acedec84299103e6d4e&q=UPDATE tir.tir SET tess = '\"cacheDate\"=>\"2017-05-01T19:20:03.722793\",\"queryResult\"=>\"None\"' WHERE itis -> 'discoveredTSN' = '185309'\n"
     ]
    },
    {
     "data": {
      "text/plain": [
       "{'_execution_time': 0.076,\n",
       " 'affected_rows': 1,\n",
       " 'auth_check': {'auth_level': 'Write',\n",
       "  'checked_relations': ['tir.tir'],\n",
       "  'session': None,\n",
       "  'success': True},\n",
       " 'success': True}"
      ]
     },
     "metadata": {},
     "output_type": "display_data"
    },
    {
     "name": "stdout",
     "output_type": "stream",
     "text": [
      "https://gc2.mapcentia.com/api/v1/sql/bcb?key=1c95cdb240f82acedec84299103e6d4e&q=UPDATE tir.tir SET tess = '\"cacheDate\"=>\"2017-05-01T19:20:03.722793\",\"queryResult\"=>\"None\"' WHERE itis -> 'discoveredTSN' = '532449'\n"
     ]
    },
    {
     "data": {
      "text/plain": [
       "{'_execution_time': 0.074,\n",
       " 'affected_rows': 1,\n",
       " 'auth_check': {'auth_level': 'Write',\n",
       "  'checked_relations': ['tir.tir'],\n",
       "  'session': None,\n",
       "  'success': True},\n",
       " 'success': True}"
      ]
     },
     "metadata": {},
     "output_type": "display_data"
    },
    {
     "name": "stdout",
     "output_type": "stream",
     "text": [
      "https://gc2.mapcentia.com/api/v1/sql/bcb?key=1c95cdb240f82acedec84299103e6d4e&q=UPDATE tir.tir SET tess = '\"cacheDate\"=>\"2017-05-01T20:21:13.662845\",\"entityId\"=>\"635\",\"SpeciesCode\"=>\"Q1T3\",\"CommonName\"=>\"`Ahinahina\",\"PopulationDescription\"=>\"Wherever found\",\"Status\"=>\"T\",\"StatusText\"=>\"Threatened\",\"ListingDate\"=>\"1992-05-15\"' WHERE itis -> 'discoveredTSN' = '185198'\n"
     ]
    },
    {
     "data": {
      "text/plain": [
       "{'_execution_time': 0.084,\n",
       " 'affected_rows': 1,\n",
       " 'auth_check': {'auth_level': 'Write',\n",
       "  'checked_relations': ['tir.tir'],\n",
       "  'session': None,\n",
       "  'success': True},\n",
       " 'success': True}"
      ]
     },
     "metadata": {},
     "output_type": "display_data"
    },
    {
     "name": "stdout",
     "output_type": "stream",
     "text": [
      "https://gc2.mapcentia.com/api/v1/sql/bcb?key=1c95cdb240f82acedec84299103e6d4e&q=UPDATE tir.tir SET tess = '\"cacheDate\"=>\"2017-05-01T19:20:03.722793\",\"queryResult\"=>\"None\"' WHERE itis -> 'discoveredTSN' = '897140'\n"
     ]
    },
    {
     "data": {
      "text/plain": [
       "{'_execution_time': 0.075,\n",
       " 'affected_rows': 1,\n",
       " 'auth_check': {'auth_level': 'Write',\n",
       "  'checked_relations': ['tir.tir'],\n",
       "  'session': None,\n",
       "  'success': True},\n",
       " 'success': True}"
      ]
     },
     "metadata": {},
     "output_type": "display_data"
    },
    {
     "name": "stdout",
     "output_type": "stream",
     "text": [
      "https://gc2.mapcentia.com/api/v1/sql/bcb?key=1c95cdb240f82acedec84299103e6d4e&q=UPDATE tir.tir SET tess = '\"cacheDate\"=>\"2017-05-01T19:20:03.722793\",\"queryResult\"=>\"None\"' WHERE itis -> 'discoveredTSN' = '80239'\n"
     ]
    },
    {
     "data": {
      "text/plain": [
       "{'_execution_time': 0.112,\n",
       " 'affected_rows': 2,\n",
       " 'auth_check': {'auth_level': 'Write',\n",
       "  'checked_relations': ['tir.tir'],\n",
       "  'session': None,\n",
       "  'success': True},\n",
       " 'success': True}"
      ]
     },
     "metadata": {},
     "output_type": "display_data"
    },
    {
     "name": "stdout",
     "output_type": "stream",
     "text": [
      "https://gc2.mapcentia.com/api/v1/sql/bcb?key=1c95cdb240f82acedec84299103e6d4e&q=UPDATE tir.tir SET tess = '\"cacheDate\"=>\"2017-05-01T19:20:03.722793\",\"queryResult\"=>\"None\"' WHERE itis -> 'discoveredTSN' = '523747'\n"
     ]
    },
    {
     "data": {
      "text/plain": [
       "{'_execution_time': 0.076,\n",
       " 'affected_rows': 2,\n",
       " 'auth_check': {'auth_level': 'Write',\n",
       "  'checked_relations': ['tir.tir'],\n",
       "  'session': None,\n",
       "  'success': True},\n",
       " 'success': True}"
      ]
     },
     "metadata": {},
     "output_type": "display_data"
    },
    {
     "name": "stdout",
     "output_type": "stream",
     "text": [
      "https://gc2.mapcentia.com/api/v1/sql/bcb?key=1c95cdb240f82acedec84299103e6d4e&q=UPDATE tir.tir SET tess = '\"cacheDate\"=>\"2017-05-01T19:20:03.722793\",\"queryResult\"=>\"None\"' WHERE itis -> 'discoveredTSN' = '30662'\n"
     ]
    },
    {
     "data": {
      "text/plain": [
       "{'_execution_time': 0.084,\n",
       " 'affected_rows': 1,\n",
       " 'auth_check': {'auth_level': 'Write',\n",
       "  'checked_relations': ['tir.tir'],\n",
       "  'session': None,\n",
       "  'success': True},\n",
       " 'success': True}"
      ]
     },
     "metadata": {},
     "output_type": "display_data"
    },
    {
     "name": "stdout",
     "output_type": "stream",
     "text": [
      "https://gc2.mapcentia.com/api/v1/sql/bcb?key=1c95cdb240f82acedec84299103e6d4e&q=UPDATE tir.tir SET tess = '\"cacheDate\"=>\"2017-05-01T20:21:19.288143\",\"entityId\"=>\"7664\",\"SpeciesCode\"=>\"Q07H\",\"CommonName\"=>\"Sterile milk-vetch\",\"PopulationDescription\"=>\"Wherever found\",\"Status\"=>\"RT\",\"StatusText\"=>\"Resolved Taxon\"' WHERE itis -> 'discoveredTSN' = '192448'\n"
     ]
    },
    {
     "data": {
      "text/plain": [
       "{'_execution_time': 0.076,\n",
       " 'affected_rows': 1,\n",
       " 'auth_check': {'auth_level': 'Write',\n",
       "  'checked_relations': ['tir.tir'],\n",
       "  'session': None,\n",
       "  'success': True},\n",
       " 'success': True}"
      ]
     },
     "metadata": {},
     "output_type": "display_data"
    },
    {
     "name": "stdout",
     "output_type": "stream",
     "text": [
      "https://gc2.mapcentia.com/api/v1/sql/bcb?key=1c95cdb240f82acedec84299103e6d4e&q=UPDATE tir.tir SET tess = '\"cacheDate\"=>\"2017-05-01T19:20:03.722793\",\"queryResult\"=>\"None\"' WHERE itis -> 'discoveredTSN' = '527066'\n"
     ]
    },
    {
     "data": {
      "text/plain": [
       "{'_execution_time': 0.074,\n",
       " 'affected_rows': 1,\n",
       " 'auth_check': {'auth_level': 'Write',\n",
       "  'checked_relations': ['tir.tir'],\n",
       "  'session': None,\n",
       "  'success': True},\n",
       " 'success': True}"
      ]
     },
     "metadata": {},
     "output_type": "display_data"
    },
    {
     "name": "stdout",
     "output_type": "stream",
     "text": [
      "https://gc2.mapcentia.com/api/v1/sql/bcb?key=1c95cdb240f82acedec84299103e6d4e&q=UPDATE tir.tir SET tess = '\"cacheDate\"=>\"2017-05-01T19:20:03.722793\",\"queryResult\"=>\"None\"' WHERE itis -> 'discoveredTSN' = '691451'\n"
     ]
    },
    {
     "data": {
      "text/plain": [
       "{'_execution_time': 0.078,\n",
       " 'affected_rows': 2,\n",
       " 'auth_check': {'auth_level': 'Write',\n",
       "  'checked_relations': ['tir.tir'],\n",
       "  'session': None,\n",
       "  'success': True},\n",
       " 'success': True}"
      ]
     },
     "metadata": {},
     "output_type": "display_data"
    },
    {
     "name": "stdout",
     "output_type": "stream",
     "text": [
      "https://gc2.mapcentia.com/api/v1/sql/bcb?key=1c95cdb240f82acedec84299103e6d4e&q=UPDATE tir.tir SET tess = '\"cacheDate\"=>\"2017-05-01T19:20:03.722793\",\"queryResult\"=>\"None\"' WHERE itis -> 'discoveredTSN' = '780824'\n"
     ]
    },
    {
     "data": {
      "text/plain": [
       "{'_execution_time': 0.075,\n",
       " 'affected_rows': 1,\n",
       " 'auth_check': {'auth_level': 'Write',\n",
       "  'checked_relations': ['tir.tir'],\n",
       "  'session': None,\n",
       "  'success': True},\n",
       " 'success': True}"
      ]
     },
     "metadata": {},
     "output_type": "display_data"
    },
    {
     "name": "stdout",
     "output_type": "stream",
     "text": [
      "https://gc2.mapcentia.com/api/v1/sql/bcb?key=1c95cdb240f82acedec84299103e6d4e&q=UPDATE tir.tir SET tess = '\"cacheDate\"=>\"2017-05-01T19:20:03.722793\",\"queryResult\"=>\"None\"' WHERE itis -> 'discoveredTSN' = '714828'\n"
     ]
    },
    {
     "data": {
      "text/plain": [
       "{'_execution_time': 0.074,\n",
       " 'affected_rows': 2,\n",
       " 'auth_check': {'auth_level': 'Write',\n",
       "  'checked_relations': ['tir.tir'],\n",
       "  'session': None,\n",
       "  'success': True},\n",
       " 'success': True}"
      ]
     },
     "metadata": {},
     "output_type": "display_data"
    },
    {
     "name": "stdout",
     "output_type": "stream",
     "text": [
      "https://gc2.mapcentia.com/api/v1/sql/bcb?key=1c95cdb240f82acedec84299103e6d4e&q=UPDATE tir.tir SET tess = '\"cacheDate\"=>\"2017-05-01T19:20:03.722793\",\"queryResult\"=>\"None\"' WHERE itis -> 'discoveredTSN' = '617458'\n"
     ]
    },
    {
     "data": {
      "text/plain": [
       "{'_execution_time': 0.072,\n",
       " 'affected_rows': 2,\n",
       " 'auth_check': {'auth_level': 'Write',\n",
       "  'checked_relations': ['tir.tir'],\n",
       "  'session': None,\n",
       "  'success': True},\n",
       " 'success': True}"
      ]
     },
     "metadata": {},
     "output_type": "display_data"
    },
    {
     "name": "stdout",
     "output_type": "stream",
     "text": [
      "https://gc2.mapcentia.com/api/v1/sql/bcb?key=1c95cdb240f82acedec84299103e6d4e&q=UPDATE tir.tir SET tess = '\"cacheDate\"=>\"2017-05-01T20:21:24.623047\",\"entityId\"=>\"645\",\"SpeciesCode\"=>\"Q1TK\",\"CommonName\"=>\"Ko`oko`olau\",\"PopulationDescription\"=>\"Wherever found\",\"Status\"=>\"E\",\"StatusText\"=>\"Endangered\",\"ListingDate\"=>\"1992-05-15\"' WHERE itis -> 'discoveredTSN' = '196220'\n"
     ]
    },
    {
     "data": {
      "text/plain": [
       "{'_execution_time': 0.077,\n",
       " 'affected_rows': 1,\n",
       " 'auth_check': {'auth_level': 'Write',\n",
       "  'checked_relations': ['tir.tir'],\n",
       "  'session': None,\n",
       "  'success': True},\n",
       " 'success': True}"
      ]
     },
     "metadata": {},
     "output_type": "display_data"
    },
    {
     "name": "stdout",
     "output_type": "stream",
     "text": [
      "https://gc2.mapcentia.com/api/v1/sql/bcb?key=1c95cdb240f82acedec84299103e6d4e&q=UPDATE tir.tir SET tess = '\"cacheDate\"=>\"2017-05-01T19:20:03.722793\",\"queryResult\"=>\"None\"' WHERE itis -> 'discoveredTSN' = '97401'\n"
     ]
    },
    {
     "data": {
      "text/plain": [
       "{'_execution_time': 0.075,\n",
       " 'affected_rows': 1,\n",
       " 'auth_check': {'auth_level': 'Write',\n",
       "  'checked_relations': ['tir.tir'],\n",
       "  'session': None,\n",
       "  'success': True},\n",
       " 'success': True}"
      ]
     },
     "metadata": {},
     "output_type": "display_data"
    },
    {
     "name": "stdout",
     "output_type": "stream",
     "text": [
      "https://gc2.mapcentia.com/api/v1/sql/bcb?key=1c95cdb240f82acedec84299103e6d4e&q=UPDATE tir.tir SET tess = '\"cacheDate\"=>\"2017-05-01T19:20:03.722793\",\"queryResult\"=>\"None\"' WHERE itis -> 'discoveredTSN' = '720212'\n"
     ]
    },
    {
     "data": {
      "text/plain": [
       "{'_execution_time': 0.074,\n",
       " 'affected_rows': 2,\n",
       " 'auth_check': {'auth_level': 'Write',\n",
       "  'checked_relations': ['tir.tir'],\n",
       "  'session': None,\n",
       "  'success': True},\n",
       " 'success': True}"
      ]
     },
     "metadata": {},
     "output_type": "display_data"
    },
    {
     "name": "stdout",
     "output_type": "stream",
     "text": [
      "https://gc2.mapcentia.com/api/v1/sql/bcb?key=1c95cdb240f82acedec84299103e6d4e&q=UPDATE tir.tir SET tess = '\"cacheDate\"=>\"2017-05-01T20:21:28.933445\",\"entityId\"=>\"4589\",\"SpeciesCode\"=>\"Q2XY\",\"CommonName\"=>\"Ko`oko`olau\",\"PopulationDescription\"=>\"Wherever found\",\"Status\"=>\"E\",\"StatusText\"=>\"Endangered\",\"ListingDate\"=>\"2013-11-29\"' WHERE itis -> 'discoveredTSN' = '523687'\n"
     ]
    },
    {
     "data": {
      "text/plain": [
       "{'_execution_time': 0.092,\n",
       " 'affected_rows': 1,\n",
       " 'auth_check': {'auth_level': 'Write',\n",
       "  'checked_relations': ['tir.tir'],\n",
       "  'session': None,\n",
       "  'success': True},\n",
       " 'success': True}"
      ]
     },
     "metadata": {},
     "output_type": "display_data"
    },
    {
     "name": "stdout",
     "output_type": "stream",
     "text": [
      "https://gc2.mapcentia.com/api/v1/sql/bcb?key=1c95cdb240f82acedec84299103e6d4e&q=UPDATE tir.tir SET tess = '\"cacheDate\"=>\"2017-05-01T20:21:29.810275\",\"entityId\"=>\"8277\",\"SpeciesCode\"=>\"Q269\",\"CommonName\"=>\"Ko`oko`olau\",\"PopulationDescription\"=>\"Wherever found\",\"Status\"=>\"E\",\"StatusText\"=>\"Endangered\",\"ListingDate\"=>\"2013-06-27\"' WHERE itis -> 'discoveredTSN' = '523680'\n"
     ]
    },
    {
     "data": {
      "text/plain": [
       "{'_execution_time': 0.08,\n",
       " 'affected_rows': 1,\n",
       " 'auth_check': {'auth_level': 'Write',\n",
       "  'checked_relations': ['tir.tir'],\n",
       "  'session': None,\n",
       "  'success': True},\n",
       " 'success': True}"
      ]
     },
     "metadata": {},
     "output_type": "display_data"
    },
    {
     "name": "stdout",
     "output_type": "stream",
     "text": [
      "https://gc2.mapcentia.com/api/v1/sql/bcb?key=1c95cdb240f82acedec84299103e6d4e&q=UPDATE tir.tir SET tess = '\"cacheDate\"=>\"2017-05-01T19:20:03.722793\",\"queryResult\"=>\"None\"' WHERE itis -> 'discoveredTSN' = '192395'\n"
     ]
    },
    {
     "data": {
      "text/plain": [
       "{'_execution_time': 0.074,\n",
       " 'affected_rows': 1,\n",
       " 'auth_check': {'auth_level': 'Write',\n",
       "  'checked_relations': ['tir.tir'],\n",
       "  'session': None,\n",
       "  'success': True},\n",
       " 'success': True}"
      ]
     },
     "metadata": {},
     "output_type": "display_data"
    },
    {
     "name": "stdout",
     "output_type": "stream",
     "text": [
      "https://gc2.mapcentia.com/api/v1/sql/bcb?key=1c95cdb240f82acedec84299103e6d4e&q=UPDATE tir.tir SET tess = '\"cacheDate\"=>\"2017-05-01T20:21:31.483510\",\"entityId\"=>\"447\",\"SpeciesCode\"=>\"I0I9\",\"CommonName\"=>\"Coffin Cave mold beetle\",\"PopulationDescription\"=>\"Wherever found\",\"Status\"=>\"E\",\"StatusText\"=>\"Endangered\",\"ListingDate\"=>\"1988-09-16\"' WHERE itis -> 'discoveredTSN' = '691423'\n"
     ]
    },
    {
     "data": {
      "text/plain": [
       "{'_execution_time': 0.074,\n",
       " 'affected_rows': 2,\n",
       " 'auth_check': {'auth_level': 'Write',\n",
       "  'checked_relations': ['tir.tir'],\n",
       "  'session': None,\n",
       "  'success': True},\n",
       " 'success': True}"
      ]
     },
     "metadata": {},
     "output_type": "display_data"
    },
    {
     "name": "stdout",
     "output_type": "stream",
     "text": [
      "https://gc2.mapcentia.com/api/v1/sql/bcb?key=1c95cdb240f82acedec84299103e6d4e&q=UPDATE tir.tir SET tess = '\"cacheDate\"=>\"2017-05-01T19:20:03.722793\",\"queryResult\"=>\"None\"' WHERE itis -> 'discoveredTSN' = '777851'\n"
     ]
    },
    {
     "data": {
      "text/plain": [
       "{'_execution_time': 0.075,\n",
       " 'affected_rows': 3,\n",
       " 'auth_check': {'auth_level': 'Write',\n",
       "  'checked_relations': ['tir.tir'],\n",
       "  'session': None,\n",
       "  'success': True},\n",
       " 'success': True}"
      ]
     },
     "metadata": {},
     "output_type": "display_data"
    },
    {
     "name": "stdout",
     "output_type": "stream",
     "text": [
      "https://gc2.mapcentia.com/api/v1/sql/bcb?key=1c95cdb240f82acedec84299103e6d4e&q=UPDATE tir.tir SET tess = '\"cacheDate\"=>\"2017-05-01T19:20:03.722793\",\"queryResult\"=>\"None\"' WHERE itis -> 'discoveredTSN' = '70311'\n"
     ]
    },
    {
     "data": {
      "text/plain": [
       "{'_execution_time': 0.074,\n",
       " 'affected_rows': 1,\n",
       " 'auth_check': {'auth_level': 'Write',\n",
       "  'checked_relations': ['tir.tir'],\n",
       "  'session': None,\n",
       "  'success': True},\n",
       " 'success': True}"
      ]
     },
     "metadata": {},
     "output_type": "display_data"
    },
    {
     "name": "stdout",
     "output_type": "stream",
     "text": [
      "https://gc2.mapcentia.com/api/v1/sql/bcb?key=1c95cdb240f82acedec84299103e6d4e&q=UPDATE tir.tir SET tess = '\"cacheDate\"=>\"2017-05-01T19:20:03.722793\",\"queryResult\"=>\"None\"' WHERE itis -> 'discoveredTSN' = '566212'\n"
     ]
    },
    {
     "data": {
      "text/plain": [
       "{'_execution_time': 0.077,\n",
       " 'affected_rows': 1,\n",
       " 'auth_check': {'auth_level': 'Write',\n",
       "  'checked_relations': ['tir.tir'],\n",
       "  'session': None,\n",
       "  'success': True},\n",
       " 'success': True}"
      ]
     },
     "metadata": {},
     "output_type": "display_data"
    },
    {
     "name": "stdout",
     "output_type": "stream",
     "text": [
      "https://gc2.mapcentia.com/api/v1/sql/bcb?key=1c95cdb240f82acedec84299103e6d4e&q=UPDATE tir.tir SET tess = '\"cacheDate\"=>\"2017-05-01T19:20:03.722793\",\"queryResult\"=>\"None\"' WHERE itis -> 'discoveredTSN' = '808533'\n"
     ]
    },
    {
     "data": {
      "text/plain": [
       "{'_execution_time': 0.074,\n",
       " 'affected_rows': 2,\n",
       " 'auth_check': {'auth_level': 'Write',\n",
       "  'checked_relations': ['tir.tir'],\n",
       "  'session': None,\n",
       "  'success': True},\n",
       " 'success': True}"
      ]
     },
     "metadata": {},
     "output_type": "display_data"
    },
    {
     "name": "stdout",
     "output_type": "stream",
     "text": [
      "https://gc2.mapcentia.com/api/v1/sql/bcb?key=1c95cdb240f82acedec84299103e6d4e&q=UPDATE tir.tir SET tess = '\"cacheDate\"=>\"2017-05-01T19:20:03.722793\",\"queryResult\"=>\"None\"' WHERE itis -> 'discoveredTSN' = '527059'\n"
     ]
    },
    {
     "data": {
      "text/plain": [
       "{'_execution_time': 0.074,\n",
       " 'affected_rows': 1,\n",
       " 'auth_check': {'auth_level': 'Write',\n",
       "  'checked_relations': ['tir.tir'],\n",
       "  'session': None,\n",
       "  'success': True},\n",
       " 'success': True}"
      ]
     },
     "metadata": {},
     "output_type": "display_data"
    },
    {
     "name": "stdout",
     "output_type": "stream",
     "text": [
      "https://gc2.mapcentia.com/api/v1/sql/bcb?key=1c95cdb240f82acedec84299103e6d4e&q=UPDATE tir.tir SET tess = '\"cacheDate\"=>\"2017-05-01T20:21:37.586277\",\"entityId\"=>\"1641\",\"SpeciesCode\"=>\"Q02B\",\"CommonName\"=>\"Hinckley''s columbine\",\"PopulationDescription\"=>\"Wherever found\",\"Status\"=>\"SC\",\"StatusText\"=>\"Species of Concern\"' WHERE itis -> 'discoveredTSN' = '184146'\n"
     ]
    },
    {
     "data": {
      "text/plain": [
       "{'_execution_time': 0.074,\n",
       " 'affected_rows': 1,\n",
       " 'auth_check': {'auth_level': 'Write',\n",
       "  'checked_relations': ['tir.tir'],\n",
       "  'session': None,\n",
       "  'success': True},\n",
       " 'success': True}"
      ]
     },
     "metadata": {},
     "output_type": "display_data"
    },
    {
     "name": "stdout",
     "output_type": "stream",
     "text": [
      "https://gc2.mapcentia.com/api/v1/sql/bcb?key=1c95cdb240f82acedec84299103e6d4e&q=UPDATE tir.tir SET tess = '\"cacheDate\"=>\"2017-05-01T19:20:03.722793\",\"queryResult\"=>\"None\"' WHERE itis -> 'discoveredTSN' = '798241'\n"
     ]
    },
    {
     "data": {
      "text/plain": [
       "{'_execution_time': 0.074,\n",
       " 'affected_rows': 1,\n",
       " 'auth_check': {'auth_level': 'Write',\n",
       "  'checked_relations': ['tir.tir'],\n",
       "  'session': None,\n",
       "  'success': True},\n",
       " 'success': True}"
      ]
     },
     "metadata": {},
     "output_type": "display_data"
    },
    {
     "name": "stdout",
     "output_type": "stream",
     "text": [
      "https://gc2.mapcentia.com/api/v1/sql/bcb?key=1c95cdb240f82acedec84299103e6d4e&q=UPDATE tir.tir SET tess = '\"cacheDate\"=>\"2017-05-01T20:21:39.304817\",\"entityId\"=>\"6172\",\"SpeciesCode\"=>\"J00J\",\"CommonName\"=>\"Guadalupe cave pseudoscorpion\",\"PopulationDescription\"=>\"Wherever found\",\"Status\"=>\"RT\",\"StatusText\"=>\"Resolved Taxon\"' WHERE itis -> 'discoveredTSN' = '749265'\n"
     ]
    },
    {
     "data": {
      "text/plain": [
       "{'_execution_time': 0.074,\n",
       " 'affected_rows': 2,\n",
       " 'auth_check': {'auth_level': 'Write',\n",
       "  'checked_relations': ['tir.tir'],\n",
       "  'session': None,\n",
       "  'success': True},\n",
       " 'success': True}"
      ]
     },
     "metadata": {},
     "output_type": "display_data"
    },
    {
     "name": "stdout",
     "output_type": "stream",
     "text": [
      "https://gc2.mapcentia.com/api/v1/sql/bcb?key=1c95cdb240f82acedec84299103e6d4e&q=UPDATE tir.tir SET tess = '\"cacheDate\"=>\"2017-05-01T19:20:03.722793\",\"queryResult\"=>\"None\"' WHERE itis -> 'discoveredTSN' = '30021'\n"
     ]
    },
    {
     "data": {
      "text/plain": [
       "{'_execution_time': 0.074,\n",
       " 'affected_rows': 1,\n",
       " 'auth_check': {'auth_level': 'Write',\n",
       "  'checked_relations': ['tir.tir'],\n",
       "  'session': None,\n",
       "  'success': True},\n",
       " 'success': True}"
      ]
     },
     "metadata": {},
     "output_type": "display_data"
    },
    {
     "name": "stdout",
     "output_type": "stream",
     "text": [
      "https://gc2.mapcentia.com/api/v1/sql/bcb?key=1c95cdb240f82acedec84299103e6d4e&q=UPDATE tir.tir SET tess = '\"cacheDate\"=>\"2017-05-01T19:20:03.722793\",\"queryResult\"=>\"None\"' WHERE itis -> 'discoveredTSN' = '192640'\n"
     ]
    },
    {
     "data": {
      "text/plain": [
       "{'_execution_time': 0.074,\n",
       " 'affected_rows': 1,\n",
       " 'auth_check': {'auth_level': 'Write',\n",
       "  'checked_relations': ['tir.tir'],\n",
       "  'session': None,\n",
       "  'success': True},\n",
       " 'success': True}"
      ]
     },
     "metadata": {},
     "output_type": "display_data"
    },
    {
     "name": "stdout",
     "output_type": "stream",
     "text": [
      "https://gc2.mapcentia.com/api/v1/sql/bcb?key=1c95cdb240f82acedec84299103e6d4e&q=UPDATE tir.tir SET tess = '\"cacheDate\"=>\"2017-05-01T20:21:41.888692\",\"entityId\"=>\"9934\",\"SpeciesCode\"=>\"B0G7\",\"CommonName\"=>\"Lesser scaup\",\"PopulationDescription\"=>\"Wherever found\",\"Status\"=>\"SC\",\"StatusText\"=>\"Species of Concern\"' WHERE itis -> 'discoveredTSN' = '175134'\n"
     ]
    },
    {
     "data": {
      "text/plain": [
       "{'_execution_time': 0.076,\n",
       " 'affected_rows': 2,\n",
       " 'auth_check': {'auth_level': 'Write',\n",
       "  'checked_relations': ['tir.tir'],\n",
       "  'session': None,\n",
       "  'success': True},\n",
       " 'success': True}"
      ]
     },
     "metadata": {},
     "output_type": "display_data"
    },
    {
     "name": "stdout",
     "output_type": "stream",
     "text": [
      "https://gc2.mapcentia.com/api/v1/sql/bcb?key=1c95cdb240f82acedec84299103e6d4e&q=UPDATE tir.tir SET tess = '\"cacheDate\"=>\"2017-05-01T20:21:42.720179\",\"entityId\"=>\"5212\",\"SpeciesCode\"=>\"Q2XG\",\"CommonName\"=>\"Northern Wormwood\",\"PopulationDescription\"=>\"Wherever found\",\"Status\"=>\"RT\",\"StatusText\"=>\"Resolved Taxon\"' WHERE itis -> 'discoveredTSN' = '566593'\n"
     ]
    },
    {
     "data": {
      "text/plain": [
       "{'_execution_time': 0.077,\n",
       " 'affected_rows': 1,\n",
       " 'auth_check': {'auth_level': 'Write',\n",
       "  'checked_relations': ['tir.tir'],\n",
       "  'session': None,\n",
       "  'success': True},\n",
       " 'success': True}"
      ]
     },
     "metadata": {},
     "output_type": "display_data"
    },
    {
     "name": "stdout",
     "output_type": "stream",
     "text": [
      "https://gc2.mapcentia.com/api/v1/sql/bcb?key=1c95cdb240f82acedec84299103e6d4e&q=UPDATE tir.tir SET tess = '\"cacheDate\"=>\"2017-05-01T20:21:43.540534\",\"entityId\"=>\"10753\",\"SpeciesCode\"=>\"K067\",\"CommonName\"=>\"Least crayfish\",\"PopulationDescription\"=>\"Wherever found\",\"Status\"=>\"SU\",\"StatusText\"=>\"Status Undefined\"' WHERE itis -> 'discoveredTSN' = '97620'\n"
     ]
    },
    {
     "data": {
      "text/plain": [
       "{'_execution_time': 0.076,\n",
       " 'affected_rows': 2,\n",
       " 'auth_check': {'auth_level': 'Write',\n",
       "  'checked_relations': ['tir.tir'],\n",
       "  'session': None,\n",
       "  'success': True},\n",
       " 'success': True}"
      ]
     },
     "metadata": {},
     "output_type": "display_data"
    },
    {
     "name": "stdout",
     "output_type": "stream",
     "text": [
      "https://gc2.mapcentia.com/api/v1/sql/bcb?key=1c95cdb240f82acedec84299103e6d4e&q=UPDATE tir.tir SET tess = '\"cacheDate\"=>\"2017-05-01T19:20:03.722793\",\"queryResult\"=>\"None\"' WHERE itis -> 'discoveredTSN' = '88224'\n"
     ]
    },
    {
     "data": {
      "text/plain": [
       "{'_execution_time': 0.074,\n",
       " 'affected_rows': 1,\n",
       " 'auth_check': {'auth_level': 'Write',\n",
       "  'checked_relations': ['tir.tir'],\n",
       "  'session': None,\n",
       "  'success': True},\n",
       " 'success': True}"
      ]
     },
     "metadata": {},
     "output_type": "display_data"
    },
    {
     "name": "stdout",
     "output_type": "stream",
     "text": [
      "https://gc2.mapcentia.com/api/v1/sql/bcb?key=1c95cdb240f82acedec84299103e6d4e&q=UPDATE tir.tir SET tess = '\"cacheDate\"=>\"2017-05-01T19:20:03.722793\",\"queryResult\"=>\"None\"' WHERE itis -> 'discoveredTSN' = '527006'\n"
     ]
    },
    {
     "data": {
      "text/plain": [
       "{'_execution_time': 0.073,\n",
       " 'affected_rows': 1,\n",
       " 'auth_check': {'auth_level': 'Write',\n",
       "  'checked_relations': ['tir.tir'],\n",
       "  'session': None,\n",
       "  'success': True},\n",
       " 'success': True}"
      ]
     },
     "metadata": {},
     "output_type": "display_data"
    },
    {
     "name": "stdout",
     "output_type": "stream",
     "text": [
      "https://gc2.mapcentia.com/api/v1/sql/bcb?key=1c95cdb240f82acedec84299103e6d4e&q=UPDATE tir.tir SET tess = '\"cacheDate\"=>\"2017-05-01T19:20:03.722793\",\"queryResult\"=>\"None\"' WHERE itis -> 'discoveredTSN' = '526935'\n"
     ]
    },
    {
     "data": {
      "text/plain": [
       "{'_execution_time': 0.075,\n",
       " 'affected_rows': 1,\n",
       " 'auth_check': {'auth_level': 'Write',\n",
       "  'checked_relations': ['tir.tir'],\n",
       "  'session': None,\n",
       "  'success': True},\n",
       " 'success': True}"
      ]
     },
     "metadata": {},
     "output_type": "display_data"
    },
    {
     "name": "stdout",
     "output_type": "stream",
     "text": [
      "https://gc2.mapcentia.com/api/v1/sql/bcb?key=1c95cdb240f82acedec84299103e6d4e&q=UPDATE tir.tir SET tess = '\"cacheDate\"=>\"2017-05-01T19:20:03.722793\",\"queryResult\"=>\"None\"' WHERE itis -> 'discoveredTSN' = '702546'\n"
     ]
    },
    {
     "data": {
      "text/plain": [
       "{'_execution_time': 0.084,\n",
       " 'affected_rows': 2,\n",
       " 'auth_check': {'auth_level': 'Write',\n",
       "  'checked_relations': ['tir.tir'],\n",
       "  'session': None,\n",
       "  'success': True},\n",
       " 'success': True}"
      ]
     },
     "metadata": {},
     "output_type": "display_data"
    },
    {
     "name": "stdout",
     "output_type": "stream",
     "text": [
      "https://gc2.mapcentia.com/api/v1/sql/bcb?key=1c95cdb240f82acedec84299103e6d4e&q=UPDATE tir.tir SET tess = '\"cacheDate\"=>\"2017-05-01T19:20:03.722793\",\"queryResult\"=>\"None\"' WHERE itis -> 'discoveredTSN' = '527091'\n"
     ]
    },
    {
     "data": {
      "text/plain": [
       "{'_execution_time': 0.072,\n",
       " 'affected_rows': 1,\n",
       " 'auth_check': {'auth_level': 'Write',\n",
       "  'checked_relations': ['tir.tir'],\n",
       "  'session': None,\n",
       "  'success': True},\n",
       " 'success': True}"
      ]
     },
     "metadata": {},
     "output_type": "display_data"
    },
    {
     "name": "stdout",
     "output_type": "stream",
     "text": [
      "https://gc2.mapcentia.com/api/v1/sql/bcb?key=1c95cdb240f82acedec84299103e6d4e&q=UPDATE tir.tir SET tess = '\"cacheDate\"=>\"2017-05-01T19:20:03.722793\",\"queryResult\"=>\"None\"' WHERE itis -> 'discoveredTSN' = '88234'\n"
     ]
    },
    {
     "data": {
      "text/plain": [
       "{'_execution_time': 0.075,\n",
       " 'affected_rows': 2,\n",
       " 'auth_check': {'auth_level': 'Write',\n",
       "  'checked_relations': ['tir.tir'],\n",
       "  'session': None,\n",
       "  'success': True},\n",
       " 'success': True}"
      ]
     },
     "metadata": {},
     "output_type": "display_data"
    },
    {
     "name": "stdout",
     "output_type": "stream",
     "text": [
      "https://gc2.mapcentia.com/api/v1/sql/bcb?key=1c95cdb240f82acedec84299103e6d4e&q=UPDATE tir.tir SET tess = '\"cacheDate\"=>\"2017-05-01T19:20:03.722793\",\"queryResult\"=>\"None\"' WHERE itis -> 'discoveredTSN' = '183750'\n"
     ]
    },
    {
     "data": {
      "text/plain": [
       "{'_execution_time': 0.075,\n",
       " 'affected_rows': 1,\n",
       " 'auth_check': {'auth_level': 'Write',\n",
       "  'checked_relations': ['tir.tir'],\n",
       "  'session': None,\n",
       "  'success': True},\n",
       " 'success': True}"
      ]
     },
     "metadata": {},
     "output_type": "display_data"
    },
    {
     "name": "stdout",
     "output_type": "stream",
     "text": [
      "https://gc2.mapcentia.com/api/v1/sql/bcb?key=1c95cdb240f82acedec84299103e6d4e&q=UPDATE tir.tir SET tess = '\"cacheDate\"=>\"2017-05-01T19:20:03.722793\",\"queryResult\"=>\"None\"' WHERE itis -> 'discoveredTSN' = '691443'\n"
     ]
    },
    {
     "data": {
      "text/plain": [
       "{'_execution_time': 0.074,\n",
       " 'affected_rows': 1,\n",
       " 'auth_check': {'auth_level': 'Write',\n",
       "  'checked_relations': ['tir.tir'],\n",
       "  'session': None,\n",
       "  'success': True},\n",
       " 'success': True}"
      ]
     },
     "metadata": {},
     "output_type": "display_data"
    },
    {
     "name": "stdout",
     "output_type": "stream",
     "text": [
      "https://gc2.mapcentia.com/api/v1/sql/bcb?key=1c95cdb240f82acedec84299103e6d4e&q=UPDATE tir.tir SET tess = '\"cacheDate\"=>\"2017-05-01T19:20:03.722793\",\"queryResult\"=>\"None\"' WHERE itis -> 'discoveredTSN' = '192749'\n"
     ]
    },
    {
     "data": {
      "text/plain": [
       "{'_execution_time': 0.117,\n",
       " 'affected_rows': 1,\n",
       " 'auth_check': {'auth_level': 'Write',\n",
       "  'checked_relations': ['tir.tir'],\n",
       "  'session': None,\n",
       "  'success': True},\n",
       " 'success': True}"
      ]
     },
     "metadata": {},
     "output_type": "display_data"
    },
    {
     "name": "stdout",
     "output_type": "stream",
     "text": [
      "https://gc2.mapcentia.com/api/v1/sql/bcb?key=1c95cdb240f82acedec84299103e6d4e&q=UPDATE tir.tir SET tess = '\"cacheDate\"=>\"2017-05-01T20:21:54.045867\",\"entityId\"=>\"8125\",\"SpeciesCode\"=>\"Q2RS\",\"CommonName\"=>\"No common name\",\"PopulationDescription\"=>\"Wherever found\",\"Status\"=>\"SC\",\"StatusText\"=>\"Species of Concern\"' WHERE itis -> 'discoveredTSN' = '192458'\n"
     ]
    },
    {
     "data": {
      "text/plain": [
       "{'_execution_time': 0.118,\n",
       " 'affected_rows': 1,\n",
       " 'auth_check': {'auth_level': 'Write',\n",
       "  'checked_relations': ['tir.tir'],\n",
       "  'session': None,\n",
       "  'success': True},\n",
       " 'success': True}"
      ]
     },
     "metadata": {},
     "output_type": "display_data"
    },
    {
     "name": "stdout",
     "output_type": "stream",
     "text": [
      "https://gc2.mapcentia.com/api/v1/sql/bcb?key=1c95cdb240f82acedec84299103e6d4e&q=UPDATE tir.tir SET tess = '\"cacheDate\"=>\"2017-05-01T19:20:03.722793\",\"queryResult\"=>\"None\"' WHERE itis -> 'discoveredTSN' = '527037'\n"
     ]
    },
    {
     "data": {
      "text/plain": [
       "{'_execution_time': 0.075,\n",
       " 'affected_rows': 1,\n",
       " 'auth_check': {'auth_level': 'Write',\n",
       "  'checked_relations': ['tir.tir'],\n",
       "  'session': None,\n",
       "  'success': True},\n",
       " 'success': True}"
      ]
     },
     "metadata": {},
     "output_type": "display_data"
    },
    {
     "name": "stdout",
     "output_type": "stream",
     "text": [
      "https://gc2.mapcentia.com/api/v1/sql/bcb?key=1c95cdb240f82acedec84299103e6d4e&q=UPDATE tir.tir SET tess = '\"cacheDate\"=>\"2017-05-01T19:20:03.722793\",\"queryResult\"=>\"None\"' WHERE itis -> 'discoveredTSN' = '527065'\n"
     ]
    },
    {
     "data": {
      "text/plain": [
       "{'_execution_time': 0.079,\n",
       " 'affected_rows': 1,\n",
       " 'auth_check': {'auth_level': 'Write',\n",
       "  'checked_relations': ['tir.tir'],\n",
       "  'session': None,\n",
       "  'success': True},\n",
       " 'success': True}"
      ]
     },
     "metadata": {},
     "output_type": "display_data"
    },
    {
     "name": "stdout",
     "output_type": "stream",
     "text": [
      "https://gc2.mapcentia.com/api/v1/sql/bcb?key=1c95cdb240f82acedec84299103e6d4e&q=UPDATE tir.tir SET tess = '\"cacheDate\"=>\"2017-05-01T19:20:03.722793\",\"queryResult\"=>\"None\"' WHERE itis -> 'discoveredTSN' = '176668'\n"
     ]
    },
    {
     "data": {
      "text/plain": [
       "{'_execution_time': 0.076,\n",
       " 'affected_rows': 2,\n",
       " 'auth_check': {'auth_level': 'Write',\n",
       "  'checked_relations': ['tir.tir'],\n",
       "  'session': None,\n",
       "  'success': True},\n",
       " 'success': True}"
      ]
     },
     "metadata": {},
     "output_type": "display_data"
    },
    {
     "name": "stdout",
     "output_type": "stream",
     "text": [
      "https://gc2.mapcentia.com/api/v1/sql/bcb?key=1c95cdb240f82acedec84299103e6d4e&q=UPDATE tir.tir SET tess = '\"cacheDate\"=>\"2017-05-01T20:21:58.205678\",\"entityId\"=>\"10754\",\"SpeciesCode\"=>\"K068\",\"CommonName\"=>\"Angular Dwarf crayfish\",\"PopulationDescription\"=>\"Wherever found\",\"Status\"=>\"RT\",\"StatusText\"=>\"Resolved Taxon\"' WHERE itis -> 'discoveredTSN' = '97621'\n"
     ]
    },
    {
     "data": {
      "text/plain": [
       "{'_execution_time': 0.075,\n",
       " 'affected_rows': 2,\n",
       " 'auth_check': {'auth_level': 'Write',\n",
       "  'checked_relations': ['tir.tir'],\n",
       "  'session': None,\n",
       "  'success': True},\n",
       " 'success': True}"
      ]
     },
     "metadata": {},
     "output_type": "display_data"
    },
    {
     "name": "stdout",
     "output_type": "stream",
     "text": [
      "https://gc2.mapcentia.com/api/v1/sql/bcb?key=1c95cdb240f82acedec84299103e6d4e&q=UPDATE tir.tir SET tess = '\"cacheDate\"=>\"2017-05-01T19:20:03.722793\",\"queryResult\"=>\"None\"' WHERE itis -> 'discoveredTSN' = '667899'\n"
     ]
    },
    {
     "data": {
      "text/plain": [
       "{'_execution_time': 0.083,\n",
       " 'affected_rows': 1,\n",
       " 'auth_check': {'auth_level': 'Write',\n",
       "  'checked_relations': ['tir.tir'],\n",
       "  'session': None,\n",
       "  'success': True},\n",
       " 'success': True}"
      ]
     },
     "metadata": {},
     "output_type": "display_data"
    },
    {
     "name": "stdout",
     "output_type": "stream",
     "text": [
      "https://gc2.mapcentia.com/api/v1/sql/bcb?key=1c95cdb240f82acedec84299103e6d4e&q=UPDATE tir.tir SET tess = '\"cacheDate\"=>\"2017-05-01T19:20:03.722793\",\"queryResult\"=>\"None\"' WHERE itis -> 'discoveredTSN' = '192747'\n"
     ]
    },
    {
     "data": {
      "text/plain": [
       "{'_execution_time': 0.075,\n",
       " 'affected_rows': 1,\n",
       " 'auth_check': {'auth_level': 'Write',\n",
       "  'checked_relations': ['tir.tir'],\n",
       "  'session': None,\n",
       "  'success': True},\n",
       " 'success': True}"
      ]
     },
     "metadata": {},
     "output_type": "display_data"
    }
   ],
   "source": [
    "tsnQ = \"SELECT DISTINCT itis -> 'discoveredTSN' AS discoveredtsn \\\n",
    "    FROM tir.tir \\\n",
    "    WHERE tess IS NULL \\\n",
    "    AND itis IS NOT NULL\"\n",
    "tsnR = requests.get(apiBaseURL+\"&q=\"+tsnQ).json()\n",
    "\n",
    "for feature in tsnR['features']:\n",
    "    discoveredtsn = feature['properties']['discoveredtsn']\n",
    "\n",
    "    tessQueryURL = tessSpeciesQueryByTSNBaseURL+discoveredtsn+\"]\"\n",
    "    tessData = requests.get(tessQueryURL).text\n",
    "\n",
    "    if tessData.find('<results/>') > 0:\n",
    "        tessPairs = '\"cacheDate\"=>\"'+dt+'\",\"queryResult\"=>\"None\"'\n",
    "    else:\n",
    "        tessPairs = tirutils.packageTESSPairs(tessData)\n",
    "\n",
    "    if tessPairs != \"error\":\n",
    "        q = apiBaseURL+\"&q=UPDATE tir.tir SET tess = '\"+tessPairs+\"' WHERE itis -> 'discoveredTSN' = '\"+discoveredtsn+\"'\"\n",
    "        r = requests.get(q).json()\n",
    "        print (q)\n",
    "        display (r)\n",
    "    else:\n",
    "        print (\"error: \"+tessQueryURL)\n",
    "        \n",
    "    "
   ]
  },
  {
   "cell_type": "code",
   "execution_count": null,
   "metadata": {
    "collapsed": true,
    "deletable": true,
    "editable": true
   },
   "outputs": [],
   "source": []
  },
  {
   "cell_type": "code",
   "execution_count": null,
   "metadata": {
    "collapsed": true
   },
   "outputs": [],
   "source": []
  }
 ],
 "metadata": {
  "kernelspec": {
   "display_name": "Python 3",
   "language": "python",
   "name": "python3"
  },
  "language_info": {
   "codemirror_mode": {
    "name": "ipython",
    "version": 3
   },
   "file_extension": ".py",
   "mimetype": "text/x-python",
   "name": "python",
   "nbconvert_exporter": "python",
   "pygments_lexer": "ipython3",
   "version": "3.5.3"
  }
 },
 "nbformat": 4,
 "nbformat_minor": 0
}
