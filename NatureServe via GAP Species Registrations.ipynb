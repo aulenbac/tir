{
 "cells": [
  {
   "cell_type": "markdown",
   "metadata": {
    "deletable": true,
    "editable": true
   },
   "source": [
    "This notebook presents an alternate way of retrieving NatureServe information where the NatureServe ID associated with a taxa registry is already present in the registration information. Eventually, this needs to be put together with the previous NatureServe notebook that looks up the Element Global ID for a name and then runs the code to retrieve it."
   ]
  },
  {
   "cell_type": "code",
   "execution_count": 1,
   "metadata": {
    "collapsed": true,
    "deletable": true,
    "editable": true
   },
   "outputs": [],
   "source": [
    "import requests,configparser,datetime,re\n",
    "from IPython.display import display\n",
    "from lxml import etree\n",
    "from io import StringIO"
   ]
  },
  {
   "cell_type": "code",
   "execution_count": 2,
   "metadata": {
    "collapsed": true,
    "deletable": true,
    "editable": true
   },
   "outputs": [],
   "source": [
    "# Get API keys and any other config details from a file that is external to the code.\n",
    "config = configparser.RawConfigParser()\n",
    "config.read_file(open(r'../config/stuff.py'))"
   ]
  },
  {
   "cell_type": "code",
   "execution_count": 3,
   "metadata": {
    "collapsed": true,
    "deletable": true,
    "editable": true
   },
   "outputs": [],
   "source": [
    "# Build base URL with API key using input from the external config.\n",
    "def getBaseURL():\n",
    "    gc2APIKey = config.get('apiKeys','apiKey_GC2_BCB').replace('\"','')\n",
    "    apiBaseURL = \"https://gc2.mapcentia.com/api/v1/sql/bcb?key=\"+gc2APIKey\n",
    "    return apiBaseURL"
   ]
  },
  {
   "cell_type": "code",
   "execution_count": 4,
   "metadata": {
    "collapsed": true,
    "deletable": true,
    "editable": true
   },
   "outputs": [],
   "source": [
    "def packageNatureServePairs(elementGlobalID):\n",
    "    import datetime\n",
    "    dt = datetime.datetime.utcnow().isoformat()\n",
    "    natureServePairs = '\"cacheDate\"=>\"'+dt+'\"'\n",
    "    natureServePairs = natureServePairs+',\"elementGlobalID\"=>\"'+elementGlobalID+'\"'\n",
    "    \n",
    "    if elementGlobalID == \"none\":\n",
    "        natureServePairs = natureServePairs+',\"status\"=>\"Not Found\"'\n",
    "        return natureServePairs\n",
    "    else:\n",
    "        baseURL_NatureServe = config.get('baseURLs', 'natureServeSpeciesQueryBaseURL').replace('\"','')\n",
    "        apiKey_NatureServe = config.get('apiKeys','apiKey_NatureServe').replace('\"','')\n",
    "        natureServeQueryURL = baseURL_NatureServe+\"?NSAccessKeyId=\"+apiKey_NatureServe+\"&uid=\"+elementGlobalID\n",
    "    \n",
    "        natureServeData = requests.get(natureServeQueryURL)\n",
    "\n",
    "        strNatureServeData = natureServeData.text\n",
    "        strNatureServeData = strNatureServeData.replace('<?xml version=\"1.0\" encoding=\"utf-8\"?>\\r\\n\\r\\n', '')\n",
    "        strNatureServeData = strNatureServeData.replace('\\r\\n    xsi:schemaLocation=\"http://services.natureserve.org/docs/schemas/biodiversityDataFlow/1 http://services.natureserve.org/docs/schemas/biodiversityDataFlow/1/\"\\r\\n    xmlns=\"http://services.natureserve.org/docs/schemas/biodiversityDataFlow/1\"\\r\\n    xmlns:xsi=\"http://www.w3.org/2001/XMLSchema-instance\"\\r\\n    schemaVersion=\"1.1\"', '')\n",
    "        f = StringIO(strNatureServeData)\n",
    "        tree = etree.parse(f)\n",
    "        root = tree.getroot()\n",
    "        docLength = len(root.getchildren())\n",
    "\n",
    "        # Test the response because I've found that not everything with a global element ID seems to come back with a response here\n",
    "        if docLength > 0:\n",
    "            # Grab out the specific elements we want to cache\n",
    "            natureServePairs = natureServePairs+',\"GlobalStatusRank\"=>\"'+tree.xpath('/globalSpeciesList/globalSpecies/conservationStatus/natureServeStatus/globalStatus/rank/code')[0].text+'\"'\n",
    "            natureServePairs = natureServePairs+',\"roundedGlobalStatusRankDescription\"=>\"'+tree.xpath('/globalSpeciesList/globalSpecies/conservationStatus/natureServeStatus/globalStatus/roundedRank/description')[0].text+'\"'\n",
    "            try:\n",
    "                natureServePairs = natureServePairs+',\"globalStatusLastReviewed\"=>\"'+tree.xpath('/globalSpeciesList/globalSpecies/conservationStatus/natureServeStatus/globalStatus/statusLastReviewed')[0].text+'\"'\n",
    "            except:\n",
    "                natureServePairs = natureServePairs+',\"globalStatusLastReviewed\"=>\"Unknown\"'\n",
    "\n",
    "            try:\n",
    "                natureServePairs = natureServePairs+',\"usNationalStatusRankCode\"=>\"'+tree.xpath(\"//nationalStatus[@nationCode='US']/rank/code\")[0].text+'\"'\n",
    "            except:\n",
    "                pass\n",
    "            try:\n",
    "                natureServePairs = natureServePairs+',\"usNationalStatusLastReviewed\"=>\"'+tree.xpath(\"//nationalStatus[@nationCode='US']/statusLastReviewed\")[0].text+'\"'\n",
    "            except:\n",
    "                natureServePairs = natureServePairs+',\"usNationalStatusLastReviewed\"=>\"Unknown\"'\n",
    "\n",
    "            try:\n",
    "                # Loop through US states in the \"subnationalStatuses\" and put state names and codes into the tircache\n",
    "                usStatesTree = etree.ElementTree(tree.xpath(\"//nationalStatus[@nationCode='US']/subnationalStatuses\")[0])\n",
    "                for elem in usStatesTree.iter():\n",
    "                    stateName = elem.attrib.get('subnationName')\n",
    "                    if isinstance(stateName, str):\n",
    "                        natureServePairs = natureServePairs+',\"StateCode:'+stateName+'\"=>\"'+tree.xpath(\"//subnationalStatus[@subnationName='\"+stateName+\"']/rank/code\")[0].text+'\"'\n",
    "            except:\n",
    "                pass\n",
    "        else:\n",
    "            natureServePairs = natureServePairs+',\"status\"=>\"error\"'\n",
    "\n",
    "        return natureServePairs\n",
    "    "
   ]
  },
  {
   "cell_type": "code",
   "execution_count": 5,
   "metadata": {
    "collapsed": true,
    "deletable": true,
    "editable": true
   },
   "outputs": [],
   "source": [
    "# Basic function to insert subject ID, property, and value into tircache\n",
    "def cacheToTIR(gid,infotype,pairs):\n",
    "    updateQ = \"UPDATE tir.tir2 SET \"+infotype+\" = '\"+pairs+\"' WHERE gid = \"+str(gid)\n",
    "    return requests.get(getBaseURL()+\"&q=\"+updateQ).json()"
   ]
  },
  {
   "cell_type": "code",
   "execution_count": 9,
   "metadata": {
    "collapsed": false,
    "deletable": true,
    "editable": true
   },
   "outputs": [
    {
     "name": "stdout",
     "output_type": "stream",
     "text": [
      "ELEMENT_GLOBAL.2.102430\n",
      "ELEMENT_GLOBAL.2.103930\n",
      "ELEMENT_GLOBAL.2.104386\n",
      "ELEMENT_GLOBAL.2.103509\n",
      "ELEMENT_GLOBAL.2.100341\n",
      "ELEMENT_GLOBAL.2.106127\n",
      "ELEMENT_GLOBAL.2.100814\n",
      "ELEMENT_GLOBAL.2.101660\n",
      "ELEMENT_GLOBAL.2.102973\n",
      "ELEMENT_GLOBAL.2.102753\n"
     ]
    }
   ],
   "source": [
    "q_gapSpecies = \"SELECT gid,registration->'EGTID' AS egtid\\\n",
    "    FROM tir.tir2 \\\n",
    "    WHERE exist(registration, 'EGTID') \\\n",
    "    AND natureserve IS NULL LIMIT 10\"\n",
    "r_gapSpecies = requests.get(getBaseURL()+\"&q=\"+q_gapSpecies).json()\n",
    "\n",
    "for feature in r_gapSpecies[\"features\"]:\n",
    "    print (\"ELEMENT_GLOBAL.2.\"+str(feature[\"properties\"][\"egtid\"]))\n",
    "#    print (cacheToTIR(feature[\"properties\"][\"gid\"],\"natureserve\",packageNatureServePairs(\"ELEMENT_GLOBAL.2.\"+str(feature[\"properties\"][\"egtid\"]))))\n",
    "\n"
   ]
  },
  {
   "cell_type": "code",
   "execution_count": null,
   "metadata": {
    "collapsed": true,
    "deletable": true,
    "editable": true
   },
   "outputs": [],
   "source": []
  }
 ],
 "metadata": {
  "kernelspec": {
   "display_name": "Python 3",
   "language": "python",
   "name": "python3"
  },
  "language_info": {
   "codemirror_mode": {
    "name": "ipython",
    "version": 3
   },
   "file_extension": ".py",
   "mimetype": "text/x-python",
   "name": "python",
   "nbconvert_exporter": "python",
   "pygments_lexer": "ipython3",
   "version": "3.5.3"
  }
 },
 "nbformat": 4,
 "nbformat_minor": 0
}
