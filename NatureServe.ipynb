{
 "cells": [
  {
   "cell_type": "markdown",
   "metadata": {
    "deletable": true,
    "editable": true
   },
   "source": [
    "This notebook uses taxon names from ITIS matches, looks for those names from the NatureServe species services, and returns key/value pairs for caching in the Taxonomic Information Registry and using in our systems."
   ]
  },
  {
   "cell_type": "code",
   "execution_count": 12,
   "metadata": {
    "collapsed": true,
    "deletable": true,
    "editable": true
   },
   "outputs": [],
   "source": [
    "import requests,configparser,re\n",
    "from IPython.display import display\n",
    "from lxml import etree\n",
    "from io import StringIO"
   ]
  },
  {
   "cell_type": "code",
   "execution_count": 2,
   "metadata": {
    "collapsed": true,
    "deletable": true,
    "editable": true
   },
   "outputs": [],
   "source": [
    "# Get API keys and any other config details from a file that is external to the code.\n",
    "config = configparser.RawConfigParser()\n",
    "config.read_file(open(r'../config/stuff.py'))"
   ]
  },
  {
   "cell_type": "code",
   "execution_count": 3,
   "metadata": {
    "collapsed": true,
    "deletable": true,
    "editable": true
   },
   "outputs": [],
   "source": [
    "# Build base URL with API key using input from the external config.\n",
    "def getBaseURL():\n",
    "    gc2APIKey = config.get('apiKeys','apiKey_GC2_BCB').replace('\"','')\n",
    "    apiBaseURL = \"https://gc2.mapcentia.com/api/v1/sql/bcb?key=\"+gc2APIKey\n",
    "    return apiBaseURL"
   ]
  },
  {
   "cell_type": "code",
   "execution_count": 4,
   "metadata": {
    "collapsed": true,
    "deletable": true,
    "editable": true
   },
   "outputs": [],
   "source": [
    "# Basic function to insert subject ID, property, and value into tircache\n",
    "def cacheToTIR(gid,infotype,pairs):\n",
    "    updateQ = \"UPDATE tir.tir2 SET \"+infotype+\" = '\"+pairs+\"' WHERE gid = \"+str(gid)\n",
    "    return requests.get(getBaseURL()+\"&q=\"+updateQ).json()"
   ]
  },
  {
   "cell_type": "markdown",
   "metadata": {
    "deletable": true,
    "editable": true
   },
   "source": [
    "### Query to get the NatureServe Element Global ID\n",
    "NatureServe provides an open public service to query on a taxon name and get back their own specific ID called the Element Global ID. (There are also nation-specific IDs, but I'm not messing with those right now.) This function grabs that ID and sends it back."
   ]
  },
  {
   "cell_type": "code",
   "execution_count": 9,
   "metadata": {
    "collapsed": true,
    "deletable": true,
    "editable": true
   },
   "outputs": [],
   "source": [
    "def queryNatureServeID(scientificname):\n",
    "    natureServeSpeciesQueryBaseURL = \"https://services.natureserve.org/idd/rest/v1/globalSpecies/list/nameSearch?name=\"\n",
    "    natureServeData = requests.get(natureServeSpeciesQueryBaseURL+scientificname).text\n",
    "\n",
    "    if natureServeData.find('<speciesSearchResultList>\\r\\n</speciesSearchResultList>') > 0:\n",
    "        return \"none\"\n",
    "    else:\n",
    "        rawXML = natureServeData.replace('<?xml version=\"1.0\" encoding=\"utf-8\"?>\\r\\n\\r\\n', '')\n",
    "        rawXML = rawXML.replace(' \\r\\n    xsi:schemaLocation=\"http://services.natureserve.org/docs/schemas/biodiversityDataFlow/1 http://services.natureserve.org/docs/schemas/biodiversityDataFlow/1/\" \\r\\n    xmlns=\"http://services.natureserve.org/docs/schemas/biodiversityDataFlow/1\" \\r\\n    xmlns:xsi=\"http://www.w3.org/2001/XMLSchema-instance\" \\r\\n    schemaVersion=\"1.1\"', '')\n",
    "        f = StringIO(rawXML)\n",
    "        tree = etree.parse(f)\n",
    "        return tree.xpath('/speciesSearchReport/speciesSearchResultList/speciesSearchResult/globalSpeciesUid')[0].text"
   ]
  },
  {
   "cell_type": "markdown",
   "metadata": {
    "deletable": true,
    "editable": true
   },
   "source": [
    "### Query for and package NatureServe key/value pairs\n",
    "This function uses the Element Global ID retrieved already and attempts to get the information we want to use in our systems. It will always return something as paired information. By default, it will return the date/time of the cache and a status value. Status can be \"none\" (for cases where we did not find an Element Global ID for the record being examined) or \"error\" (for cases where the search service comes back with no document). Otherwiase, it will return data in key/value pairs."
   ]
  },
  {
   "cell_type": "code",
   "execution_count": 1,
   "metadata": {
    "collapsed": false,
    "deletable": true,
    "editable": true
   },
   "outputs": [],
   "source": [
    "def packageNatureServePairs(elementGlobalID):\n",
    "    import datetime\n",
    "    dt = datetime.datetime.utcnow().isoformat()\n",
    "    natureServePairs = '\"cacheDate\"=>\"'+dt+'\"'\n",
    "    natureServePairs = natureServePairs+',\"elementGlobalID\"=>\"'+elementGlobalID+'\"'\n",
    "    \n",
    "    if elementGlobalID == \"none\":\n",
    "        natureServePairs = natureServePairs+',\"status\"=>\"Not Found\"'\n",
    "        return natureServePairs\n",
    "    else:\n",
    "        baseURL_NatureServe = config.get('baseURLs', 'natureServeSpeciesQueryBaseURL').replace('\"','')\n",
    "        apiKey_NatureServe = config.get('apiKeys','apiKey_NatureServe').replace('\"','')\n",
    "        natureServeQueryURL = baseURL_NatureServe+\"?NSAccessKeyId=\"+apiKey_NatureServe+\"&uid=\"+elementGlobalID\n",
    "    \n",
    "        natureServeData = requests.get(natureServeQueryURL)\n",
    "\n",
    "        strNatureServeData = natureServeData.text\n",
    "        strNatureServeData = strNatureServeData.replace('<?xml version=\"1.0\" encoding=\"utf-8\"?>\\r\\n\\r\\n', '')\n",
    "        strNatureServeData = strNatureServeData.replace('\\r\\n    xsi:schemaLocation=\"http://services.natureserve.org/docs/schemas/biodiversityDataFlow/1 http://services.natureserve.org/docs/schemas/biodiversityDataFlow/1/\"\\r\\n    xmlns=\"http://services.natureserve.org/docs/schemas/biodiversityDataFlow/1\"\\r\\n    xmlns:xsi=\"http://www.w3.org/2001/XMLSchema-instance\"\\r\\n    schemaVersion=\"1.1\"', '')\n",
    "        f = StringIO(strNatureServeData)\n",
    "        tree = etree.parse(f)\n",
    "        root = tree.getroot()\n",
    "        docLength = len(root.getchildren())\n",
    "\n",
    "        # Test the response because I've found that not everything with a global element ID seems to come back with a response here\n",
    "        if docLength > 0:\n",
    "            # Grab out the specific elements we want to cache\n",
    "            natureServePairs = natureServePairs+',\"GlobalStatusRank\"=>\"'+tree.xpath('/globalSpeciesList/globalSpecies/conservationStatus/natureServeStatus/globalStatus/rank/code')[0].text+'\"'\n",
    "            natureServePairs = natureServePairs+',\"roundedGlobalStatusRankDescription\"=>\"'+tree.xpath('/globalSpeciesList/globalSpecies/conservationStatus/natureServeStatus/globalStatus/roundedRank/description')[0].text+'\"'\n",
    "            try:\n",
    "                natureServePairs = natureServePairs+',\"globalStatusLastReviewed\"=>\"'+tree.xpath('/globalSpeciesList/globalSpecies/conservationStatus/natureServeStatus/globalStatus/statusLastReviewed')[0].text+'\"'\n",
    "            except:\n",
    "                natureServePairs = natureServePairs+',\"globalStatusLastReviewed\"=>\"Unknown\"'\n",
    "\n",
    "            try:\n",
    "                natureServePairs = natureServePairs+',\"usNationalStatusRankCode\"=>\"'+tree.xpath(\"//nationalStatus[@nationCode='US']/rank/code\")[0].text+'\"'\n",
    "            except:\n",
    "                pass\n",
    "            try:\n",
    "                natureServePairs = natureServePairs+',\"usNationalStatusLastReviewed\"=>\"'+tree.xpath(\"//nationalStatus[@nationCode='US']/statusLastReviewed\")[0].text+'\"'\n",
    "            except:\n",
    "                natureServePairs = natureServePairs+',\"usNationalStatusLastReviewed\"=>\"Unknown\"'\n",
    "\n",
    "            try:\n",
    "                # Loop through US states in the \"subnationalStatuses\" and put state names and codes into the tircache\n",
    "                usStatesTree = etree.ElementTree(tree.xpath(\"//nationalStatus[@nationCode='US']/subnationalStatuses\")[0])\n",
    "                for elem in usStatesTree.iter():\n",
    "                    stateName = elem.attrib.get('subnationName')\n",
    "                    if isinstance(stateName, str):\n",
    "                        natureServePairs = natureServePairs+',\"StateCode:'+stateName+'\"=>\"'+tree.xpath(\"//subnationalStatus[@subnationName='\"+stateName+\"']/rank/code\")[0].text+'\"'\n",
    "            except:\n",
    "                pass\n",
    "        else:\n",
    "            natureServePairs = natureServePairs+',\"status\"=>\"error\"'\n",
    "\n",
    "        return natureServePairs\n",
    "    "
   ]
  },
  {
   "cell_type": "markdown",
   "metadata": {
    "deletable": true,
    "editable": true
   },
   "source": [
    "### Get data to process\n",
    "Right now, we run this against ITIS names where the NatureServe information is null. In future, we need to work out how we run this periodically to refresh the cache and what we do with the previous data returned from the service."
   ]
  },
  {
   "cell_type": "code",
   "execution_count": 17,
   "metadata": {
    "collapsed": true,
    "deletable": true,
    "editable": true
   },
   "outputs": [],
   "source": [
    "itisNames = requests.get(getBaseURL()+\"&q=SELECT gid,itis->'nameWInd' AS namewind,itis->'nameWOInd' AS namewoind FROM tir.tir2 WHERE natureserve IS NULL AND itis->'itisMatchMethod' NOT LIKE 'NotMatched%' LIMIT 100\").json()\n"
   ]
  },
  {
   "cell_type": "markdown",
   "metadata": {
    "deletable": true,
    "editable": true
   },
   "source": [
    "### Loop through the names and run the functions\n",
    "We set up a local record to house everything, run the functions, and update results in the TIR. If necessary and applicable, we try both the nameWOInd and nameWInd values from ITIS."
   ]
  },
  {
   "cell_type": "code",
   "execution_count": 21,
   "metadata": {
    "collapsed": false,
    "deletable": true,
    "editable": true
   },
   "outputs": [
    {
     "data": {
      "text/plain": [
       "{'elementGlobalID': 'ELEMENT_GLOBAL.2.113542',\n",
       " 'gid': 2286,\n",
       " 'nameWInd': 'Holospira sherbrookei',\n",
       " 'nameWOInd': 'Holospira sherbrookei',\n",
       " 'natureServePairs': '\"cacheDate\"=>\"2017-05-07T18:10:05.596210\",\"elementGlobalID\"=>\"ELEMENT_GLOBAL.2.113542\",\"GlobalStatusRank\"=>\"G1\",\"roundedGlobalStatusRankDescription\"=>\"Critically Imperiled\",\"globalStatusLastReviewed\"=>\"2002-10-08\",\"usNationalStatusRankCode\"=>\"N1\",\"usNationalStatusLastReviewed\"=>\"2002-10-08\",\"StateCode:Arizona\"=>\"SNR\"'}"
      ]
     },
     "metadata": {},
     "output_type": "display_data"
    },
    {
     "data": {
      "text/plain": [
       "{'elementGlobalID': 'ELEMENT_GLOBAL.2.108284',\n",
       " 'gid': 1852,\n",
       " 'nameWInd': 'Euphilotes ancilla',\n",
       " 'nameWOInd': 'Euphilotes ancilla',\n",
       " 'natureServePairs': '\"cacheDate\"=>\"2017-05-07T18:10:08.295528\",\"elementGlobalID\"=>\"ELEMENT_GLOBAL.2.108284\",\"GlobalStatusRank\"=>\"G5\",\"roundedGlobalStatusRankDescription\"=>\"Secure\",\"globalStatusLastReviewed\"=>\"2016-02-14\",\"usNationalStatusRankCode\"=>\"N5\",\"usNationalStatusLastReviewed\"=>\"1998-09-30\",\"StateCode:California\"=>\"SNR\",\"StateCode:Colorado\"=>\"S5\",\"StateCode:Montana\"=>\"S5\",\"StateCode:Nebraska\"=>\"S1\",\"StateCode:Nevada\"=>\"SNR\",\"StateCode:New Mexico\"=>\"SNR\",\"StateCode:Oregon\"=>\"SNR\",\"StateCode:Utah\"=>\"SNR\",\"StateCode:Washington\"=>\"SNR\",\"StateCode:Wyoming\"=>\"SNR\"'}"
      ]
     },
     "metadata": {},
     "output_type": "display_data"
    },
    {
     "data": {
      "text/plain": [
       "{'elementGlobalID': 'ELEMENT_GLOBAL.2.112613',\n",
       " 'gid': 21,\n",
       " 'nameWInd': 'Abagrotis brunneipennis',\n",
       " 'nameWOInd': 'Abagrotis brunneipennis',\n",
       " 'natureServePairs': '\"cacheDate\"=>\"2017-05-07T18:10:11.335526\",\"elementGlobalID\"=>\"ELEMENT_GLOBAL.2.112613\",\"GlobalStatusRank\"=>\"G4\",\"roundedGlobalStatusRankDescription\"=>\"Apparently Secure\",\"globalStatusLastReviewed\"=>\"1999-02-24\",\"usNationalStatusRankCode\"=>\"N4\",\"usNationalStatusLastReviewed\"=>\"1999-02-24\",\"StateCode:Connecticut\"=>\"S1?\",\"StateCode:Maine\"=>\"SNR\",\"StateCode:Massachusetts\"=>\"S2S4\",\"StateCode:Michigan\"=>\"SNR\",\"StateCode:New Hampshire\"=>\"SNR\",\"StateCode:New Jersey\"=>\"SNR\",\"StateCode:New York\"=>\"SNR\",\"StateCode:North Carolina\"=>\"SNR\",\"StateCode:Pennsylvania\"=>\"SU\",\"StateCode:Rhode Island\"=>\"SNR\"'}"
      ]
     },
     "metadata": {},
     "output_type": "display_data"
    },
    {
     "data": {
      "text/plain": [
       "{'elementGlobalID': 'ELEMENT_GLOBAL.2.102241',\n",
       " 'gid': 6290,\n",
       " 'nameWInd': 'Gila robusta jordani',\n",
       " 'nameWOInd': 'Gila robusta jordani',\n",
       " 'natureServePairs': '\"cacheDate\"=>\"2017-05-07T18:10:14.655735\",\"elementGlobalID\"=>\"ELEMENT_GLOBAL.2.102241\",\"GlobalStatusRank\"=>\"G3T1\",\"roundedGlobalStatusRankDescription\"=>\"Critically Imperiled\",\"globalStatusLastReviewed\"=>\"2001-07-02\",\"usNationalStatusRankCode\"=>\"N1\",\"usNationalStatusLastReviewed\"=>\"2001-07-02\",\"StateCode:Nevada\"=>\"S1\"'}"
      ]
     },
     "metadata": {},
     "output_type": "display_data"
    },
    {
     "data": {
      "text/plain": [
       "{'elementGlobalID': 'ELEMENT_GLOBAL.2.117020',\n",
       " 'gid': 6145,\n",
       " 'nameWInd': 'Euxoa scandens',\n",
       " 'nameWOInd': 'Euxoa scandens',\n",
       " 'natureServePairs': '\"cacheDate\"=>\"2017-05-07T18:10:17.888491\",\"elementGlobalID\"=>\"ELEMENT_GLOBAL.2.117020\",\"GlobalStatusRank\"=>\"G5\",\"roundedGlobalStatusRankDescription\"=>\"Secure\",\"globalStatusLastReviewed\"=>\"2002-05-31\",\"usNationalStatusRankCode\"=>\"N4\",\"usNationalStatusLastReviewed\"=>\"2001-10-28\",\"StateCode:Massachusetts\"=>\"SU\",\"StateCode:Michigan\"=>\"SNR\",\"StateCode:Vermont\"=>\"SNR\"'}"
      ]
     },
     "metadata": {},
     "output_type": "display_data"
    },
    {
     "data": {
      "text/plain": [
       "{'elementGlobalID': 'ELEMENT_GLOBAL.2.117286',\n",
       " 'gid': 7510,\n",
       " 'nameWInd': 'Paraleptophlebia assimilis',\n",
       " 'nameWOInd': 'Paraleptophlebia assimilis',\n",
       " 'natureServePairs': '\"cacheDate\"=>\"2017-05-07T18:10:20.926927\",\"elementGlobalID\"=>\"ELEMENT_GLOBAL.2.117286\",\"GlobalStatusRank\"=>\"G4\",\"roundedGlobalStatusRankDescription\"=>\"Apparently Secure\",\"globalStatusLastReviewed\"=>\"2003-12-11\",\"usNationalStatusRankCode\"=>\"N4\",\"usNationalStatusLastReviewed\"=>\"2003-12-11\",\"StateCode:Connecticut\"=>\"SNR\",\"StateCode:Georgia\"=>\"SNR\",\"StateCode:Maryland\"=>\"SNR\",\"StateCode:North Carolina\"=>\"SNR\",\"StateCode:Pennsylvania\"=>\"SNR\",\"StateCode:South Carolina\"=>\"SNR\",\"StateCode:Tennessee\"=>\"SNR\",\"StateCode:Virginia\"=>\"S1S3\"'}"
      ]
     },
     "metadata": {},
     "output_type": "display_data"
    },
    {
     "data": {
      "text/plain": [
       "{'elementGlobalID': 'ELEMENT_GLOBAL.2.104049',\n",
       " 'gid': 10409,\n",
       " 'nameWInd': 'Cottus asper',\n",
       " 'nameWOInd': 'Cottus asper',\n",
       " 'natureServePairs': '\"cacheDate\"=>\"2017-05-07T18:10:24.031898\",\"elementGlobalID\"=>\"ELEMENT_GLOBAL.2.104049\",\"GlobalStatusRank\"=>\"G5\",\"roundedGlobalStatusRankDescription\"=>\"Secure\",\"globalStatusLastReviewed\"=>\"2015-09-22\",\"usNationalStatusRankCode\"=>\"N5\",\"usNationalStatusLastReviewed\"=>\"1996-12-05\",\"StateCode:Alaska\"=>\"S5\",\"StateCode:California\"=>\"SNR\",\"StateCode:Oregon\"=>\"S4\",\"StateCode:Washington\"=>\"S5\"'}"
      ]
     },
     "metadata": {},
     "output_type": "display_data"
    },
    {
     "data": {
      "text/plain": [
       "{'elementGlobalID': 'ELEMENT_GLOBAL.2.118128',\n",
       " 'gid': 22,\n",
       " 'nameWInd': 'Abagrotis nefascia',\n",
       " 'nameWOInd': 'Abagrotis nefascia',\n",
       " 'natureServePairs': '\"cacheDate\"=>\"2017-05-07T18:10:27.045180\",\"elementGlobalID\"=>\"ELEMENT_GLOBAL.2.118128\",\"GlobalStatusRank\"=>\"G4\",\"roundedGlobalStatusRankDescription\"=>\"Apparently Secure\",\"globalStatusLastReviewed\"=>\"1999-02-24\",\"usNationalStatusRankCode\"=>\"NNR\",\"usNationalStatusLastReviewed\"=>\"Unknown\",\"StateCode:Connecticut\"=>\"SNR\",\"StateCode:Massachusetts\"=>\"S3\",\"StateCode:New Jersey\"=>\"SNR\",\"StateCode:New York\"=>\"SNR\",\"StateCode:Rhode Island\"=>\"SNR\"'}"
      ]
     },
     "metadata": {},
     "output_type": "display_data"
    },
    {
     "data": {
      "text/plain": [
       "{'elementGlobalID': 'ELEMENT_GLOBAL.2.113728',\n",
       " 'gid': 59,\n",
       " 'nameWInd': 'Acroneuria arenosa',\n",
       " 'nameWOInd': 'Acroneuria arenosa',\n",
       " 'natureServePairs': '\"cacheDate\"=>\"2017-05-07T18:10:30.279581\",\"elementGlobalID\"=>\"ELEMENT_GLOBAL.2.113728\",\"GlobalStatusRank\"=>\"G5\",\"roundedGlobalStatusRankDescription\"=>\"Secure\",\"globalStatusLastReviewed\"=>\"2009-09-14\",\"usNationalStatusRankCode\"=>\"N5\",\"usNationalStatusLastReviewed\"=>\"2000-01-01\",\"StateCode:Alabama\"=>\"SNR\",\"StateCode:Connecticut\"=>\"SNR\",\"StateCode:Delaware\"=>\"SNR\",\"StateCode:District of Columbia\"=>\"SNR\",\"StateCode:Florida\"=>\"SNR\",\"StateCode:Georgia\"=>\"SNR\",\"StateCode:Louisiana\"=>\"SNR\",\"StateCode:Maine\"=>\"SNR\",\"StateCode:Maryland\"=>\"SNR\",\"StateCode:Massachusetts\"=>\"SNR\",\"StateCode:Mississippi\"=>\"SNR\",\"StateCode:New Jersey\"=>\"SNR\",\"StateCode:New York\"=>\"SNR\",\"StateCode:North Carolina\"=>\"SNR\",\"StateCode:Pennsylvania\"=>\"SNR\",\"StateCode:South Carolina\"=>\"SNR\",\"StateCode:Texas\"=>\"SNR\",\"StateCode:Virginia\"=>\"SNR\",\"StateCode:West Virginia\"=>\"SNR\"'}"
      ]
     },
     "metadata": {},
     "output_type": "display_data"
    },
    {
     "data": {
      "text/plain": [
       "{'elementGlobalID': 'ELEMENT_GLOBAL.2.102512',\n",
       " 'gid': 75,\n",
       " 'nameWInd': 'Adinia xenica',\n",
       " 'nameWOInd': 'Adinia xenica',\n",
       " 'natureServePairs': '\"cacheDate\"=>\"2017-05-07T18:10:33.455279\",\"elementGlobalID\"=>\"ELEMENT_GLOBAL.2.102512\",\"GlobalStatusRank\"=>\"G5\",\"roundedGlobalStatusRankDescription\"=>\"Secure\",\"globalStatusLastReviewed\"=>\"1996-09-20\",\"usNationalStatusRankCode\"=>\"N5\",\"usNationalStatusLastReviewed\"=>\"1996-09-05\",\"StateCode:Alabama\"=>\"SU\",\"StateCode:Florida\"=>\"SNR\",\"StateCode:Louisiana\"=>\"S4\",\"StateCode:Mississippi\"=>\"S4\"'}"
      ]
     },
     "metadata": {},
     "output_type": "display_data"
    },
    {
     "data": {
      "text/plain": [
       "{'elementGlobalID': 'ELEMENT_GLOBAL.2.105053',\n",
       " 'gid': 80,\n",
       " 'nameWInd': 'Aegolius funereus',\n",
       " 'nameWOInd': 'Aegolius funereus',\n",
       " 'natureServePairs': '\"cacheDate\"=>\"2017-05-07T18:10:36.733381\",\"elementGlobalID\"=>\"ELEMENT_GLOBAL.2.105053\",\"GlobalStatusRank\"=>\"G5\",\"roundedGlobalStatusRankDescription\"=>\"Secure\",\"globalStatusLastReviewed\"=>\"2016-04-06\",\"usNationalStatusRankCode\"=>\"N4\",\"usNationalStatusLastReviewed\"=>\"1997-01-05\",\"StateCode:Alaska\"=>\"S4\",\"StateCode:Colorado\"=>\"S2\",\"StateCode:Idaho\"=>\"S2\",\"StateCode:Maine\"=>\"SNA\",\"StateCode:Michigan\"=>\"SNRN\",\"StateCode:Minnesota\"=>\"SNRB,SNRN\",\"StateCode:Montana\"=>\"S4\",\"StateCode:New Mexico\"=>\"S2B,S2N\",\"StateCode:New York\"=>\"SNRN\",\"StateCode:Oregon\"=>\"S3?\",\"StateCode:Washington\"=>\"S3\",\"StateCode:Wisconsin\"=>\"SNA\",\"StateCode:Wyoming\"=>\"S2\"'}"
      ]
     },
     "metadata": {},
     "output_type": "display_data"
    },
    {
     "data": {
      "text/plain": [
       "{'elementGlobalID': 'ELEMENT_GLOBAL.2.112098',\n",
       " 'gid': 2288,\n",
       " 'nameWInd': 'Holospira whetstonensis',\n",
       " 'nameWOInd': 'Holospira whetstonensis',\n",
       " 'natureServePairs': '\"cacheDate\"=>\"2017-05-07T18:10:39.936000\",\"elementGlobalID\"=>\"ELEMENT_GLOBAL.2.112098\",\"GlobalStatusRank\"=>\"G1G2\",\"roundedGlobalStatusRankDescription\"=>\"Critically Imperiled\",\"globalStatusLastReviewed\"=>\"2002-10-08\",\"usNationalStatusRankCode\"=>\"N1N2\",\"usNationalStatusLastReviewed\"=>\"2002-10-08\",\"StateCode:Arizona\"=>\"SNR\"'}"
      ]
     },
     "metadata": {},
     "output_type": "display_data"
    },
    {
     "data": {
      "text/plain": [
       "{'elementGlobalID': 'ELEMENT_GLOBAL.2.118711',\n",
       " 'gid': 3808,\n",
       " 'nameWInd': 'Pyrgulopsis glandulosa',\n",
       " 'nameWOInd': 'Pyrgulopsis glandulosa',\n",
       " 'natureServePairs': '\"cacheDate\"=>\"2017-05-07T18:10:42.792387\",\"elementGlobalID\"=>\"ELEMENT_GLOBAL.2.118711\",\"GlobalStatusRank\"=>\"G1\",\"roundedGlobalStatusRankDescription\"=>\"Critically Imperiled\",\"globalStatusLastReviewed\"=>\"2011-11-10\",\"usNationalStatusRankCode\"=>\"N1\",\"usNationalStatusLastReviewed\"=>\"1999-09-14\",\"StateCode:Arizona\"=>\"S1\"'}"
      ]
     },
     "metadata": {},
     "output_type": "display_data"
    },
    {
     "data": {
      "text/plain": [
       "{'elementGlobalID': 'ELEMENT_GLOBAL.2.145857',\n",
       " 'gid': 6376,\n",
       " 'nameWInd': 'Helianthus neglectus',\n",
       " 'nameWOInd': 'Helianthus neglectus',\n",
       " 'natureServePairs': '\"cacheDate\"=>\"2017-05-07T18:10:45.742078\",\"elementGlobalID\"=>\"ELEMENT_GLOBAL.2.145857\",\"GlobalStatusRank\"=>\"G2Q\",\"roundedGlobalStatusRankDescription\"=>\"Imperiled\",\"globalStatusLastReviewed\"=>\"2002-01-16\",\"usNationalStatusRankCode\"=>\"N2\",\"usNationalStatusLastReviewed\"=>\"Unknown\",\"StateCode:New Mexico\"=>\"SNR\",\"StateCode:Texas\"=>\"S2\"'}"
      ]
     },
     "metadata": {},
     "output_type": "display_data"
    },
    {
     "data": {
      "text/plain": [
       "{'elementGlobalID': 'ELEMENT_GLOBAL.2.120983',\n",
       " 'gid': 2289,\n",
       " 'nameWInd': 'Holothuria floridana',\n",
       " 'nameWOInd': 'Holothuria floridana',\n",
       " 'natureServePairs': '\"cacheDate\"=>\"2017-05-07T18:10:48.609446\",\"elementGlobalID\"=>\"ELEMENT_GLOBAL.2.120983\",\"status\"=>\"error\"'}"
      ]
     },
     "metadata": {},
     "output_type": "display_data"
    },
    {
     "data": {
      "text/plain": [
       "{'elementGlobalID': 'none',\n",
       " 'gid': 10050,\n",
       " 'nameWInd': 'Caryophyllia octopali',\n",
       " 'nameWOInd': 'Caryophyllia octopali',\n",
       " 'natureServePairs': '\"cacheDate\"=>\"2017-05-07T18:10:51.101477\",\"elementGlobalID\"=>\"none\",\"status\"=>\"Not Found\"'}"
      ]
     },
     "metadata": {},
     "output_type": "display_data"
    },
    {
     "data": {
      "text/plain": [
       "{'elementGlobalID': 'ELEMENT_GLOBAL.2.132348',\n",
       " 'gid': 16963,\n",
       " 'nameWInd': 'Solanum nelsonii',\n",
       " 'nameWOInd': 'Solanum nelsonii',\n",
       " 'natureServePairs': '\"cacheDate\"=>\"2017-05-07T18:10:53.115220\",\"elementGlobalID\"=>\"ELEMENT_GLOBAL.2.132348\",\"GlobalStatusRank\"=>\"G2\",\"roundedGlobalStatusRankDescription\"=>\"Imperiled\",\"globalStatusLastReviewed\"=>\"2007-10-29\",\"usNationalStatusRankCode\"=>\"N2\",\"usNationalStatusLastReviewed\"=>\"Unknown\",\"StateCode:Hawaii\"=>\"S2\"'}"
      ]
     },
     "metadata": {},
     "output_type": "display_data"
    },
    {
     "data": {
      "text/plain": [
       "{'elementGlobalID': 'ELEMENT_GLOBAL.2.139066',\n",
       " 'gid': 17014,\n",
       " 'nameWInd': 'Stenotus armerioides',\n",
       " 'nameWOInd': 'Stenotus armerioides',\n",
       " 'natureServePairs': '\"cacheDate\"=>\"2017-05-07T18:10:56.393313\",\"elementGlobalID\"=>\"ELEMENT_GLOBAL.2.139066\",\"GlobalStatusRank\"=>\"G4G5\",\"roundedGlobalStatusRankDescription\"=>\"Apparently Secure\",\"globalStatusLastReviewed\"=>\"2016-07-25\",\"usNationalStatusRankCode\"=>\"NNR\",\"usNationalStatusLastReviewed\"=>\"Unknown\",\"StateCode:Arizona\"=>\"SNR\",\"StateCode:Colorado\"=>\"SNR\",\"StateCode:Kansas\"=>\"SNR\",\"StateCode:Montana\"=>\"SNR\",\"StateCode:Nebraska\"=>\"S2S4\",\"StateCode:New Mexico\"=>\"SNR\",\"StateCode:North Dakota\"=>\"SNR\",\"StateCode:South Dakota\"=>\"S4\",\"StateCode:Utah\"=>\"SNR\",\"StateCode:Wyoming\"=>\"S4\"'}"
      ]
     },
     "metadata": {},
     "output_type": "display_data"
    },
    {
     "data": {
      "text/plain": [
       "{'elementGlobalID': 'none',\n",
       " 'gid': 15289,\n",
       " 'nameWInd': 'Aligena elevata',\n",
       " 'nameWOInd': 'Aligena elevata',\n",
       " 'natureServePairs': '\"cacheDate\"=>\"2017-05-07T18:10:59.668149\",\"elementGlobalID\"=>\"none\",\"status\"=>\"Not Found\"'}"
      ]
     },
     "metadata": {},
     "output_type": "display_data"
    },
    {
     "data": {
      "text/plain": [
       "{'elementGlobalID': 'ELEMENT_GLOBAL.2.110802',\n",
       " 'gid': 7506,\n",
       " 'nameWInd': 'Paracloeodes minutus',\n",
       " 'nameWOInd': 'Paracloeodes minutus',\n",
       " 'natureServePairs': '\"cacheDate\"=>\"2017-05-07T18:11:01.716561\",\"elementGlobalID\"=>\"ELEMENT_GLOBAL.2.110802\",\"GlobalStatusRank\"=>\"G5\",\"roundedGlobalStatusRankDescription\"=>\"Secure\",\"globalStatusLastReviewed\"=>\"2009-03-13\",\"usNationalStatusRankCode\"=>\"N5\",\"usNationalStatusLastReviewed\"=>\"2005-11-30\",\"StateCode:Alabama\"=>\"SNR\",\"StateCode:California\"=>\"SNR\",\"StateCode:Colorado\"=>\"SNR\",\"StateCode:Georgia\"=>\"SNR\",\"StateCode:Idaho\"=>\"SNR\",\"StateCode:Illinois\"=>\"SNR\",\"StateCode:Indiana\"=>\"S2\",\"StateCode:Iowa\"=>\"SNR\",\"StateCode:Kentucky\"=>\"SNR\",\"StateCode:Louisiana\"=>\"SNR\",\"StateCode:Minnesota\"=>\"SNR\",\"StateCode:Mississippi\"=>\"SNR\",\"StateCode:Missouri\"=>\"SNR\",\"StateCode:Montana\"=>\"SNR\",\"StateCode:Nebraska\"=>\"SNR\",\"StateCode:New York\"=>\"SNR\",\"StateCode:North Carolina\"=>\"SNR\",\"StateCode:North Dakota\"=>\"SNR\",\"StateCode:Oregon\"=>\"SNR\",\"StateCode:South Carolina\"=>\"SNR\",\"StateCode:South Dakota\"=>\"SNR\",\"StateCode:Texas\"=>\"SNR\",\"StateCode:Wisconsin\"=>\"S1S2\",\"StateCode:Wyoming\"=>\"SNR\"'}"
      ]
     },
     "metadata": {},
     "output_type": "display_data"
    },
    {
     "data": {
      "text/plain": [
       "{'elementGlobalID': 'ELEMENT_GLOBAL.2.108087',\n",
       " 'gid': 11113,\n",
       " 'nameWInd': 'Gnaphosa fontinalis',\n",
       " 'nameWOInd': 'Gnaphosa fontinalis',\n",
       " 'natureServePairs': '\"cacheDate\"=>\"2017-05-07T18:11:05.304291\",\"elementGlobalID\"=>\"ELEMENT_GLOBAL.2.108087\",\"GlobalStatusRank\"=>\"G4?\",\"roundedGlobalStatusRankDescription\"=>\"Apparently Secure\",\"globalStatusLastReviewed\"=>\"1990-08-16\",\"usNationalStatusRankCode\"=>\"NNR\",\"usNationalStatusLastReviewed\"=>\"Unknown\",\"StateCode:Rhode Island\"=>\"SNR\",\"StateCode:Virginia\"=>\"S4S5\"'}"
      ]
     },
     "metadata": {},
     "output_type": "display_data"
    },
    {
     "data": {
      "text/plain": [
       "{'elementGlobalID': 'ELEMENT_GLOBAL.2.143297',\n",
       " 'gid': 2292,\n",
       " 'nameWInd': 'Hottonia inflata',\n",
       " 'nameWOInd': 'Hottonia inflata',\n",
       " 'natureServePairs': '\"cacheDate\"=>\"2017-05-07T18:11:08.381573\",\"elementGlobalID\"=>\"ELEMENT_GLOBAL.2.143297\",\"GlobalStatusRank\"=>\"G4\",\"roundedGlobalStatusRankDescription\"=>\"Apparently Secure\",\"globalStatusLastReviewed\"=>\"1994-08-02\",\"usNationalStatusRankCode\"=>\"N4\",\"usNationalStatusLastReviewed\"=>\"Unknown\",\"StateCode:Alabama\"=>\"S2\",\"StateCode:Arkansas\"=>\"SNR\",\"StateCode:Connecticut\"=>\"S3\",\"StateCode:Delaware\"=>\"S2\",\"StateCode:Florida\"=>\"SNR\",\"StateCode:Georgia\"=>\"S1\",\"StateCode:Illinois\"=>\"S2S3\",\"StateCode:Indiana\"=>\"S2\",\"StateCode:Kentucky\"=>\"S4?\",\"StateCode:Louisiana\"=>\"SNR\",\"StateCode:Maine\"=>\"S1\",\"StateCode:Maryland\"=>\"S1\",\"StateCode:Massachusetts\"=>\"S3\",\"StateCode:Mississippi\"=>\"S1S2\",\"StateCode:Missouri\"=>\"S2\",\"StateCode:New Hampshire\"=>\"S1\",\"StateCode:New Jersey\"=>\"S1\",\"StateCode:New York\"=>\"S2\",\"StateCode:North Carolina\"=>\"S1?\",\"StateCode:Ohio\"=>\"SH\",\"StateCode:Oklahoma\"=>\"S2\",\"StateCode:Pennsylvania\"=>\"SX\",\"StateCode:Rhode Island\"=>\"S1\",\"StateCode:South Carolina\"=>\"S1\",\"StateCode:Tennessee\"=>\"S2\",\"StateCode:Texas\"=>\"S3\",\"StateCode:Virginia\"=>\"S3\",\"StateCode:West Virginia\"=>\"S1\"'}"
      ]
     },
     "metadata": {},
     "output_type": "display_data"
    },
    {
     "data": {
      "text/plain": [
       "{'elementGlobalID': 'ELEMENT_GLOBAL.2.140209',\n",
       " 'gid': 3976,\n",
       " 'nameWInd': 'Saxifraga aizoides',\n",
       " 'nameWOInd': 'Saxifraga aizoides',\n",
       " 'natureServePairs': '\"cacheDate\"=>\"2017-05-07T18:11:12.216923\",\"elementGlobalID\"=>\"ELEMENT_GLOBAL.2.140209\",\"GlobalStatusRank\"=>\"G5\",\"roundedGlobalStatusRankDescription\"=>\"Secure\",\"globalStatusLastReviewed\"=>\"2015-08-04\",\"usNationalStatusRankCode\"=>\"NNR\",\"usNationalStatusLastReviewed\"=>\"Unknown\",\"StateCode:Alaska\"=>\"S1\",\"StateCode:New York\"=>\"S2\",\"StateCode:Vermont\"=>\"S1\"'}"
      ]
     },
     "metadata": {},
     "output_type": "display_data"
    },
    {
     "data": {
      "text/plain": [
       "{'elementGlobalID': 'ELEMENT_GLOBAL.2.119510',\n",
       " 'gid': 6146,\n",
       " 'nameWInd': 'Euxoa violaris',\n",
       " 'nameWOInd': 'Euxoa violaris',\n",
       " 'natureServePairs': '\"cacheDate\"=>\"2017-05-07T18:11:15.053712\",\"elementGlobalID\"=>\"ELEMENT_GLOBAL.2.119510\",\"GlobalStatusRank\"=>\"G4\",\"roundedGlobalStatusRankDescription\"=>\"Apparently Secure\",\"globalStatusLastReviewed\"=>\"2002-05-31\",\"usNationalStatusRankCode\"=>\"NNR\",\"usNationalStatusLastReviewed\"=>\"Unknown\",\"StateCode:Connecticut\"=>\"SNR\",\"StateCode:Massachusetts\"=>\"S3S4\",\"StateCode:New Jersey\"=>\"S4\",\"StateCode:New York\"=>\"SU\",\"StateCode:North Carolina\"=>\"S1S2\",\"StateCode:Pennsylvania\"=>\"SH\",\"StateCode:Virginia\"=>\"S1S3\"'}"
      ]
     },
     "metadata": {},
     "output_type": "display_data"
    },
    {
     "data": {
      "text/plain": [
       "{'elementGlobalID': 'ELEMENT_GLOBAL.2.100296',\n",
       " 'gid': 24,\n",
       " 'nameWInd': 'Abudefduf taurus',\n",
       " 'nameWOInd': 'Abudefduf taurus',\n",
       " 'natureServePairs': '\"cacheDate\"=>\"2017-05-07T18:11:17.808204\",\"elementGlobalID\"=>\"ELEMENT_GLOBAL.2.100296\",\"status\"=>\"error\"'}"
      ]
     },
     "metadata": {},
     "output_type": "display_data"
    },
    {
     "data": {
      "text/plain": [
       "{'elementGlobalID': 'ELEMENT_GLOBAL.2.119247',\n",
       " 'gid': 6419,\n",
       " 'nameWInd': 'Hesperia dacotae',\n",
       " 'nameWOInd': 'Hesperia dacotae',\n",
       " 'natureServePairs': '\"cacheDate\"=>\"2017-05-07T18:11:20.336906\",\"elementGlobalID\"=>\"ELEMENT_GLOBAL.2.119247\",\"GlobalStatusRank\"=>\"G2\",\"roundedGlobalStatusRankDescription\"=>\"Imperiled\",\"globalStatusLastReviewed\"=>\"2011-03-22\",\"usNationalStatusRankCode\"=>\"N2\",\"usNationalStatusLastReviewed\"=>\"2003-04-08\",\"StateCode:Illinois\"=>\"SX\",\"StateCode:Iowa\"=>\"S1\",\"StateCode:Minnesota\"=>\"S2\",\"StateCode:North Dakota\"=>\"S2\",\"StateCode:South Dakota\"=>\"S2\"'}"
      ]
     },
     "metadata": {},
     "output_type": "display_data"
    },
    {
     "data": {
      "text/plain": [
       "{'elementGlobalID': 'ELEMENT_GLOBAL.2.104709',\n",
       " 'gid': 8943,\n",
       " 'nameWInd': 'Tantilla relicta pamlica',\n",
       " 'nameWOInd': 'Tantilla relicta pamlica',\n",
       " 'natureServePairs': '\"cacheDate\"=>\"2017-05-07T18:11:23.425725\",\"elementGlobalID\"=>\"ELEMENT_GLOBAL.2.104709\",\"GlobalStatusRank\"=>\"G5T3\",\"roundedGlobalStatusRankDescription\"=>\"Vulnerable\",\"globalStatusLastReviewed\"=>\"1997-01-08\",\"usNationalStatusRankCode\"=>\"N3\",\"usNationalStatusLastReviewed\"=>\"1997-01-09\",\"StateCode:Florida\"=>\"SNR\"'}"
      ]
     },
     "metadata": {},
     "output_type": "display_data"
    },
    {
     "data": {
      "text/plain": [
       "{'elementGlobalID': 'ELEMENT_GLOBAL.2.149367',\n",
       " 'gid': 2293,\n",
       " 'nameWInd': 'Houstonia longifolia',\n",
       " 'nameWOInd': 'Houstonia longifolia',\n",
       " 'natureServePairs': '\"cacheDate\"=>\"2017-05-07T18:11:26.292794\",\"elementGlobalID\"=>\"ELEMENT_GLOBAL.2.149367\",\"GlobalStatusRank\"=>\"G5\",\"roundedGlobalStatusRankDescription\"=>\"Secure\",\"globalStatusLastReviewed\"=>\"2016-05-12\",\"usNationalStatusRankCode\"=>\"NNR\",\"usNationalStatusLastReviewed\"=>\"Unknown\",\"StateCode:Alabama\"=>\"SNR\",\"StateCode:Arkansas\"=>\"SNR\",\"StateCode:Connecticut\"=>\"S2\",\"StateCode:District of Columbia\"=>\"SNR\",\"StateCode:Florida\"=>\"SNR\",\"StateCode:Georgia\"=>\"SNR\",\"StateCode:Illinois\"=>\"SNR\",\"StateCode:Indiana\"=>\"SNR\",\"StateCode:Kansas\"=>\"SH\",\"StateCode:Kentucky\"=>\"S5\",\"StateCode:Louisiana\"=>\"SNR\",\"StateCode:Maine\"=>\"S2\",\"StateCode:Maryland\"=>\"SNR\",\"StateCode:Massachusetts\"=>\"S1\",\"StateCode:Michigan\"=>\"SNR\",\"StateCode:Minnesota\"=>\"SNR\",\"StateCode:Mississippi\"=>\"SNR\",\"StateCode:Missouri\"=>\"SNR\",\"StateCode:New Hampshire\"=>\"S1\",\"StateCode:New Jersey\"=>\"SX\",\"StateCode:New York\"=>\"S5\",\"StateCode:North Carolina\"=>\"SNR\",\"StateCode:North Dakota\"=>\"SNR\",\"StateCode:Ohio\"=>\"SNR\",\"StateCode:Oklahoma\"=>\"SNR\",\"StateCode:Pennsylvania\"=>\"S5\",\"StateCode:Rhode Island\"=>\"SH\",\"StateCode:South Carolina\"=>\"SNR\",\"StateCode:Tennessee\"=>\"SNR\",\"StateCode:Texas\"=>\"SNR\",\"StateCode:Vermont\"=>\"S2\",\"StateCode:Virginia\"=>\"S4S5\",\"StateCode:West Virginia\"=>\"S4\",\"StateCode:Wisconsin\"=>\"SNR\"'}"
      ]
     },
     "metadata": {},
     "output_type": "display_data"
    },
    {
     "data": {
      "text/plain": [
       "{'elementGlobalID': 'none',\n",
       " 'gid': 10099,\n",
       " 'nameWInd': 'Centropyge fisheri',\n",
       " 'nameWOInd': 'Centropyge fisheri',\n",
       " 'natureServePairs': '\"cacheDate\"=>\"2017-05-07T18:11:29.569940\",\"elementGlobalID\"=>\"none\",\"status\"=>\"Not Found\"'}"
      ]
     },
     "metadata": {},
     "output_type": "display_data"
    },
    {
     "data": {
      "text/plain": [
       "{'elementGlobalID': 'ELEMENT_GLOBAL.2.161473',\n",
       " 'gid': 17557,\n",
       " 'nameWInd': 'Eriochloa michauxii var. michauxii',\n",
       " 'nameWOInd': 'Eriochloa michauxii michauxii',\n",
       " 'natureServePairs': '\"cacheDate\"=>\"2017-05-07T18:11:33.495714\",\"elementGlobalID\"=>\"ELEMENT_GLOBAL.2.161473\",\"GlobalStatusRank\"=>\"G3G4T3T4\",\"roundedGlobalStatusRankDescription\"=>\"Vulnerable\",\"globalStatusLastReviewed\"=>\"2000-06-18\",\"usNationalStatusRankCode\"=>\"N3N4\",\"usNationalStatusLastReviewed\"=>\"Unknown\",\"StateCode:Alabama\"=>\"SNR\",\"StateCode:Florida\"=>\"SNR\",\"StateCode:Georgia\"=>\"S2?\",\"StateCode:South Carolina\"=>\"SNR\"'}"
      ]
     },
     "metadata": {},
     "output_type": "display_data"
    },
    {
     "data": {
      "text/plain": [
       "{'elementGlobalID': 'ELEMENT_GLOBAL.2.119150',\n",
       " 'gid': 4609,\n",
       " 'nameWInd': 'Vertigo tridentata',\n",
       " 'nameWOInd': 'Vertigo tridentata',\n",
       " 'natureServePairs': '\"cacheDate\"=>\"2017-05-07T18:11:36.534745\",\"elementGlobalID\"=>\"ELEMENT_GLOBAL.2.119150\",\"GlobalStatusRank\"=>\"G5\",\"roundedGlobalStatusRankDescription\"=>\"Secure\",\"globalStatusLastReviewed\"=>\"2010-04-13\",\"usNationalStatusRankCode\"=>\"N5\",\"usNationalStatusLastReviewed\"=>\"2002-10-08\",\"StateCode:Arkansas\"=>\"SX\",\"StateCode:Delaware\"=>\"S2S3\",\"StateCode:Illinois\"=>\"SNR\",\"StateCode:Indiana\"=>\"SNR\",\"StateCode:Iowa\"=>\"SNR\",\"StateCode:Kansas\"=>\"SNR\",\"StateCode:Kentucky\"=>\"S3\",\"StateCode:Louisiana\"=>\"SX\",\"StateCode:Maine\"=>\"SNR\",\"StateCode:Maryland\"=>\"SNR\",\"StateCode:Massachusetts\"=>\"SNR\",\"StateCode:Michigan\"=>\"SNR\",\"StateCode:Minnesota\"=>\"SNR\",\"StateCode:Mississippi\"=>\"SX\",\"StateCode:Missouri\"=>\"SNR\",\"StateCode:Nebraska\"=>\"SX\",\"StateCode:New Jersey\"=>\"SNR\",\"StateCode:New York\"=>\"SNR\",\"StateCode:Ohio\"=>\"SNR\",\"StateCode:Oklahoma\"=>\"SNR\",\"StateCode:Pennsylvania\"=>\"S2S3\",\"StateCode:South Dakota\"=>\"SNR\",\"StateCode:Tennessee\"=>\"S3?\",\"StateCode:Texas\"=>\"SNR\",\"StateCode:Vermont\"=>\"SNR\",\"StateCode:Virginia\"=>\"S3\",\"StateCode:West Virginia\"=>\"SNR\",\"StateCode:Wisconsin\"=>\"S3\"'}"
      ]
     },
     "metadata": {},
     "output_type": "display_data"
    },
    {
     "data": {
      "text/plain": [
       "{'elementGlobalID': 'ELEMENT_GLOBAL.2.794159',\n",
       " 'gid': 17315,\n",
       " 'nameWInd': 'Hesperocorixa lucida',\n",
       " 'nameWOInd': 'Hesperocorixa lucida',\n",
       " 'natureServePairs': '\"cacheDate\"=>\"2017-05-07T18:11:39.810627\",\"elementGlobalID\"=>\"ELEMENT_GLOBAL.2.794159\",\"GlobalStatusRank\"=>\"GNR\",\"roundedGlobalStatusRankDescription\"=>\"Not Yet Ranked\",\"globalStatusLastReviewed\"=>\"Unknown\",\"usNationalStatusRankCode\"=>\"NNR\",\"usNationalStatusLastReviewed\"=>\"Unknown\",\"StateCode:Rhode Island\"=>\"SNR\",\"StateCode:Wisconsin\"=>\"S3\"'}"
      ]
     },
     "metadata": {},
     "output_type": "display_data"
    },
    {
     "data": {
      "text/plain": [
       "{'elementGlobalID': 'ELEMENT_GLOBAL.2.161358',\n",
       " 'gid': 11296,\n",
       " 'nameWInd': 'Heuchera parviflora var. parviflora',\n",
       " 'nameWOInd': 'Heuchera parviflora parviflora',\n",
       " 'natureServePairs': '\"cacheDate\"=>\"2017-05-07T18:11:44.725522\",\"elementGlobalID\"=>\"ELEMENT_GLOBAL.2.161358\",\"GlobalStatusRank\"=>\"G4T4\",\"roundedGlobalStatusRankDescription\"=>\"Apparently Secure\",\"globalStatusLastReviewed\"=>\"1988-02-17\",\"usNationalStatusRankCode\"=>\"N4\",\"usNationalStatusLastReviewed\"=>\"Unknown\",\"StateCode:Alabama\"=>\"SNR\",\"StateCode:Arkansas\"=>\"SNR\",\"StateCode:Georgia\"=>\"SNR\",\"StateCode:Indiana\"=>\"SNR\",\"StateCode:Kentucky\"=>\"SNR\",\"StateCode:Missouri\"=>\"S1\",\"StateCode:North Carolina\"=>\"S3\",\"StateCode:Ohio\"=>\"SNR\",\"StateCode:South Carolina\"=>\"SNR\",\"StateCode:Tennessee\"=>\"SNR\",\"StateCode:Virginia\"=>\"S3\",\"StateCode:West Virginia\"=>\"S4\"'}"
      ]
     },
     "metadata": {},
     "output_type": "display_data"
    },
    {
     "data": {
      "text/plain": [
       "{'elementGlobalID': 'ELEMENT_GLOBAL.2.103280',\n",
       " 'gid': 11359,\n",
       " 'nameWInd': 'Hydromantes shastae',\n",
       " 'nameWOInd': 'Hydromantes shastae',\n",
       " 'natureServePairs': '\"cacheDate\"=>\"2017-05-07T18:11:47.518025\",\"elementGlobalID\"=>\"ELEMENT_GLOBAL.2.103280\",\"GlobalStatusRank\"=>\"G3\",\"roundedGlobalStatusRankDescription\"=>\"Vulnerable\",\"globalStatusLastReviewed\"=>\"2015-05-22\",\"usNationalStatusRankCode\"=>\"N1N2\",\"usNationalStatusLastReviewed\"=>\"1996-11-05\",\"StateCode:California\"=>\"S3\"'}"
      ]
     },
     "metadata": {},
     "output_type": "display_data"
    },
    {
     "data": {
      "text/plain": [
       "{'elementGlobalID': 'ELEMENT_GLOBAL.2.156923',\n",
       " 'gid': 2295,\n",
       " 'nameWInd': 'Houstonia pusilla',\n",
       " 'nameWOInd': 'Houstonia pusilla',\n",
       " 'natureServePairs': '\"cacheDate\"=>\"2017-05-07T18:11:50.151654\",\"elementGlobalID\"=>\"ELEMENT_GLOBAL.2.156923\",\"GlobalStatusRank\"=>\"G5\",\"roundedGlobalStatusRankDescription\"=>\"Secure\",\"globalStatusLastReviewed\"=>\"1993-07-03\",\"usNationalStatusRankCode\"=>\"NNR\",\"usNationalStatusLastReviewed\"=>\"Unknown\",\"StateCode:Alabama\"=>\"SNR\",\"StateCode:Arizona\"=>\"SNR\",\"StateCode:Arkansas\"=>\"SNR\",\"StateCode:Delaware\"=>\"SNA\",\"StateCode:Florida\"=>\"SNR\",\"StateCode:Georgia\"=>\"SNR\",\"StateCode:Illinois\"=>\"SNR\",\"StateCode:Indiana\"=>\"SNR\",\"StateCode:Iowa\"=>\"SNR\",\"StateCode:Kansas\"=>\"SNR\",\"StateCode:Kentucky\"=>\"S4?\",\"StateCode:Louisiana\"=>\"SNR\",\"StateCode:Maryland\"=>\"SNR\",\"StateCode:Mississippi\"=>\"SNR\",\"StateCode:Missouri\"=>\"SNR\",\"StateCode:Nebraska\"=>\"S1\",\"StateCode:North Carolina\"=>\"S4\",\"StateCode:Oklahoma\"=>\"SNR\",\"StateCode:South Carolina\"=>\"SNR\",\"StateCode:South Dakota\"=>\"SNR\",\"StateCode:Tennessee\"=>\"SNR\",\"StateCode:Texas\"=>\"SNR\",\"StateCode:Virginia\"=>\"S4\"'}"
      ]
     },
     "metadata": {},
     "output_type": "display_data"
    },
    {
     "data": {
      "text/plain": [
       "{'elementGlobalID': 'ELEMENT_GLOBAL.2.156668',\n",
       " 'gid': 6150,\n",
       " 'nameWInd': 'Eysenhardtia spinosa',\n",
       " 'nameWOInd': 'Eysenhardtia spinosa',\n",
       " 'natureServePairs': '\"cacheDate\"=>\"2017-05-07T18:11:53.034458\",\"elementGlobalID\"=>\"ELEMENT_GLOBAL.2.156668\",\"GlobalStatusRank\"=>\"G2\",\"roundedGlobalStatusRankDescription\"=>\"Imperiled\",\"globalStatusLastReviewed\"=>\"2002-01-16\",\"usNationalStatusRankCode\"=>\"N2\",\"usNationalStatusLastReviewed\"=>\"Unknown\",\"StateCode:Texas\"=>\"S2\"'}"
      ]
     },
     "metadata": {},
     "output_type": "display_data"
    },
    {
     "data": {
      "text/plain": [
       "{'elementGlobalID': 'ELEMENT_GLOBAL.2.100071',\n",
       " 'gid': 4759,\n",
       " 'nameWInd': 'Aimophila ruficeps',\n",
       " 'nameWOInd': 'Aimophila ruficeps',\n",
       " 'natureServePairs': '\"cacheDate\"=>\"2017-05-07T18:11:56.162272\",\"elementGlobalID\"=>\"ELEMENT_GLOBAL.2.100071\",\"GlobalStatusRank\"=>\"G5\",\"roundedGlobalStatusRankDescription\"=>\"Secure\",\"globalStatusLastReviewed\"=>\"1996-12-04\",\"usNationalStatusRankCode\"=>\"N5\",\"usNationalStatusLastReviewed\"=>\"1997-03-19\",\"StateCode:Arizona\"=>\"S4\",\"StateCode:Arkansas\"=>\"S1\",\"StateCode:California\"=>\"SNR\",\"StateCode:Colorado\"=>\"S2\",\"StateCode:Kansas\"=>\"S1\",\"StateCode:Navajo Nation\"=>\"S2\",\"StateCode:Nevada\"=>\"S1\",\"StateCode:New Mexico\"=>\"S5B,S5N\",\"StateCode:Oklahoma\"=>\"S4S5\",\"StateCode:Texas\"=>\"S4B\"'}"
      ]
     },
     "metadata": {},
     "output_type": "display_data"
    },
    {
     "data": {
      "text/plain": [
       "{'elementGlobalID': 'ELEMENT_GLOBAL.2.107486',\n",
       " 'gid': 4610,\n",
       " 'nameWInd': 'Vertigo ventricosa',\n",
       " 'nameWOInd': 'Vertigo ventricosa',\n",
       " 'natureServePairs': '\"cacheDate\"=>\"2017-05-07T18:11:59.318543\",\"elementGlobalID\"=>\"ELEMENT_GLOBAL.2.107486\",\"GlobalStatusRank\"=>\"G5\",\"roundedGlobalStatusRankDescription\"=>\"Secure\",\"globalStatusLastReviewed\"=>\"2010-04-13\",\"usNationalStatusRankCode\"=>\"N5\",\"usNationalStatusLastReviewed\"=>\"2004-10-01\",\"StateCode:Maine\"=>\"SNR\",\"StateCode:Maryland\"=>\"SU\",\"StateCode:Massachusetts\"=>\"SNR\",\"StateCode:Michigan\"=>\"SNR\",\"StateCode:Missouri\"=>\"SX\",\"StateCode:New York\"=>\"SNR\",\"StateCode:North Carolina\"=>\"SU\",\"StateCode:Pennsylvania\"=>\"S2\",\"StateCode:Vermont\"=>\"SNR\",\"StateCode:Virginia\"=>\"S1S3\",\"StateCode:West Virginia\"=>\"SH\"'}"
      ]
     },
     "metadata": {},
     "output_type": "display_data"
    },
    {
     "data": {
      "text/plain": [
       "{'elementGlobalID': 'ELEMENT_GLOBAL.2.127912',\n",
       " 'gid': 11297,\n",
       " 'nameWInd': 'Heuchera parviflora var. puberula',\n",
       " 'nameWOInd': 'Heuchera parviflora puberula',\n",
       " 'natureServePairs': '\"cacheDate\"=>\"2017-05-07T18:12:04.456348\",\"elementGlobalID\"=>\"ELEMENT_GLOBAL.2.127912\",\"GlobalStatusRank\"=>\"G4T3T4\",\"roundedGlobalStatusRankDescription\"=>\"Vulnerable\",\"globalStatusLastReviewed\"=>\"1995-11-16\",\"usNationalStatusRankCode\"=>\"N3N4\",\"usNationalStatusLastReviewed\"=>\"Unknown\",\"StateCode:Arkansas\"=>\"S3\",\"StateCode:Illinois\"=>\"SNR\",\"StateCode:Indiana\"=>\"SNR\",\"StateCode:Kentucky\"=>\"SNR\",\"StateCode:Missouri\"=>\"SNR\",\"StateCode:Tennessee\"=>\"SNR\"'}"
      ]
     },
     "metadata": {},
     "output_type": "display_data"
    },
    {
     "data": {
      "text/plain": [
       "{'elementGlobalID': 'ELEMENT_GLOBAL.2.108953',\n",
       " 'gid': 11367,\n",
       " 'nameWInd': 'Hydroptila alabama',\n",
       " 'nameWOInd': 'Hydroptila alabama',\n",
       " 'natureServePairs': '\"cacheDate\"=>\"2017-05-07T18:12:07.662496\",\"elementGlobalID\"=>\"ELEMENT_GLOBAL.2.108953\",\"GlobalStatusRank\"=>\"G4\",\"roundedGlobalStatusRankDescription\"=>\"Apparently Secure\",\"globalStatusLastReviewed\"=>\"2005-07-05\",\"usNationalStatusRankCode\"=>\"N4\",\"usNationalStatusLastReviewed\"=>\"2005-07-05\",\"StateCode:Alabama\"=>\"SNR\",\"StateCode:Florida\"=>\"S2\",\"StateCode:Georgia\"=>\"SNR\",\"StateCode:North Carolina\"=>\"SNR\",\"StateCode:Pennsylvania\"=>\"S1\",\"StateCode:Tennessee\"=>\"SNR\",\"StateCode:Texas\"=>\"SNR\"'}"
      ]
     },
     "metadata": {},
     "output_type": "display_data"
    },
    {
     "data": {
      "text/plain": [
       "{'elementGlobalID': 'ELEMENT_GLOBAL.2.103172',\n",
       " 'gid': 11399,\n",
       " 'nameWInd': 'Hypomesus transpacificus',\n",
       " 'nameWOInd': 'Hypomesus transpacificus',\n",
       " 'natureServePairs': '\"cacheDate\"=>\"2017-05-07T18:12:10.393722\",\"elementGlobalID\"=>\"ELEMENT_GLOBAL.2.103172\",\"GlobalStatusRank\"=>\"G1\",\"roundedGlobalStatusRankDescription\"=>\"Critically Imperiled\",\"globalStatusLastReviewed\"=>\"2012-02-17\",\"usNationalStatusRankCode\"=>\"N1\",\"usNationalStatusLastReviewed\"=>\"1996-12-05\",\"StateCode:California\"=>\"S1\"'}"
      ]
     },
     "metadata": {},
     "output_type": "display_data"
    },
    {
     "data": {
      "text/plain": [
       "{'elementGlobalID': 'ELEMENT_GLOBAL.2.147957',\n",
       " 'gid': 2296,\n",
       " 'nameWInd': 'Hudsonia ericoides',\n",
       " 'nameWOInd': 'Hudsonia ericoides',\n",
       " 'natureServePairs': '\"cacheDate\"=>\"2017-05-07T18:12:13.397776\",\"elementGlobalID\"=>\"ELEMENT_GLOBAL.2.147957\",\"GlobalStatusRank\"=>\"G4\",\"roundedGlobalStatusRankDescription\"=>\"Apparently Secure\",\"globalStatusLastReviewed\"=>\"1988-01-20\",\"usNationalStatusRankCode\"=>\"N4\",\"usNationalStatusLastReviewed\"=>\"Unknown\",\"StateCode:Connecticut\"=>\"S1\",\"StateCode:Delaware\"=>\"S1\",\"StateCode:Maine\"=>\"SNR\",\"StateCode:Maryland\"=>\"S1\",\"StateCode:Massachusetts\"=>\"SNR\",\"StateCode:New Hampshire\"=>\"S2\",\"StateCode:New Jersey\"=>\"S5\",\"StateCode:New York\"=>\"S4\",\"StateCode:Rhode Island\"=>\"S1\",\"StateCode:South Carolina\"=>\"S1\"'}"
      ]
     },
     "metadata": {},
     "output_type": "display_data"
    },
    {
     "data": {
      "text/plain": [
       "{'elementGlobalID': 'ELEMENT_GLOBAL.2.109742',\n",
       " 'gid': 7350,\n",
       " 'nameWInd': 'Orchelimum concinnum',\n",
       " 'nameWOInd': 'Orchelimum concinnum',\n",
       " 'natureServePairs': '\"cacheDate\"=>\"2017-05-07T18:12:16.265557\",\"elementGlobalID\"=>\"ELEMENT_GLOBAL.2.109742\",\"GlobalStatusRank\"=>\"GNR\",\"roundedGlobalStatusRankDescription\"=>\"Not Yet Ranked\",\"globalStatusLastReviewed\"=>\"Unknown\",\"usNationalStatusRankCode\"=>\"NNR\",\"usNationalStatusLastReviewed\"=>\"Unknown\",\"StateCode:Michigan\"=>\"S2S3\"'}"
      ]
     },
     "metadata": {},
     "output_type": "display_data"
    },
    {
     "data": {
      "text/plain": [
       "{'elementGlobalID': 'ELEMENT_GLOBAL.2.113359',\n",
       " 'gid': 11368,\n",
       " 'nameWInd': 'Hydroptila apalachicola',\n",
       " 'nameWOInd': 'Hydroptila apalachicola',\n",
       " 'natureServePairs': '\"cacheDate\"=>\"2017-05-07T18:12:19.133220\",\"elementGlobalID\"=>\"ELEMENT_GLOBAL.2.113359\",\"GlobalStatusRank\"=>\"G1\",\"roundedGlobalStatusRankDescription\"=>\"Critically Imperiled\",\"globalStatusLastReviewed\"=>\"2006-06-08\",\"usNationalStatusRankCode\"=>\"N1\",\"usNationalStatusLastReviewed\"=>\"2006-06-08\",\"StateCode:Florida\"=>\"S1\"'}"
      ]
     },
     "metadata": {},
     "output_type": "display_data"
    },
    {
     "data": {
      "text/plain": [
       "{'elementGlobalID': 'none',\n",
       " 'gid': 32,\n",
       " 'nameWInd': 'Acanthohaustorius intermedius',\n",
       " 'nameWOInd': 'Acanthohaustorius intermedius',\n",
       " 'natureServePairs': '\"cacheDate\"=>\"2017-05-07T18:12:21.998892\",\"elementGlobalID\"=>\"none\",\"status\"=>\"Not Found\"'}"
      ]
     },
     "metadata": {},
     "output_type": "display_data"
    },
    {
     "data": {
      "text/plain": [
       "{'elementGlobalID': 'ELEMENT_GLOBAL.2.106241',\n",
       " 'gid': 6151,\n",
       " 'nameWInd': 'Falco femoralis',\n",
       " 'nameWOInd': 'Falco femoralis',\n",
       " 'natureServePairs': '\"cacheDate\"=>\"2017-05-07T18:12:23.891729\",\"elementGlobalID\"=>\"ELEMENT_GLOBAL.2.106241\",\"GlobalStatusRank\"=>\"G4\",\"roundedGlobalStatusRankDescription\"=>\"Apparently Secure\",\"globalStatusLastReviewed\"=>\"1997-01-05\",\"usNationalStatusRankCode\"=>\"N1\",\"usNationalStatusLastReviewed\"=>\"1997-02-10\",\"StateCode:Arizona\"=>\"SH\",\"StateCode:New Mexico\"=>\"SHB,S1N\",\"StateCode:Texas\"=>\"S1\"'}"
      ]
     },
     "metadata": {},
     "output_type": "display_data"
    },
    {
     "data": {
      "text/plain": [
       "{'elementGlobalID': 'ELEMENT_GLOBAL.2.788590',\n",
       " 'gid': 11298,\n",
       " 'nameWInd': 'Hexanchus nakamurai',\n",
       " 'nameWOInd': 'Hexanchus nakamurai',\n",
       " 'natureServePairs': '\"cacheDate\"=>\"2017-05-07T18:12:26.429785\",\"elementGlobalID\"=>\"ELEMENT_GLOBAL.2.788590\",\"GlobalStatusRank\"=>\"GNR\",\"roundedGlobalStatusRankDescription\"=>\"Not Yet Ranked\",\"globalStatusLastReviewed\"=>\"Unknown\",\"usNationalStatusRankCode\"=>\"NNR\",\"usNationalStatusLastReviewed\"=>\"Unknown\",\"StateCode:Texas\"=>\"SNR\"'}"
      ]
     },
     "metadata": {},
     "output_type": "display_data"
    },
    {
     "data": {
      "text/plain": [
       "{'elementGlobalID': 'ELEMENT_GLOBAL.2.154454',\n",
       " 'gid': 2297,\n",
       " 'nameWInd': 'Hudsonia tomentosa',\n",
       " 'nameWOInd': 'Hudsonia tomentosa',\n",
       " 'natureServePairs': '\"cacheDate\"=>\"2017-05-07T18:12:29.372294\",\"elementGlobalID\"=>\"ELEMENT_GLOBAL.2.154454\",\"GlobalStatusRank\"=>\"G5\",\"roundedGlobalStatusRankDescription\"=>\"Secure\",\"globalStatusLastReviewed\"=>\"2016-07-27\",\"usNationalStatusRankCode\"=>\"N5\",\"usNationalStatusLastReviewed\"=>\"Unknown\",\"StateCode:Connecticut\"=>\"S2S3\",\"StateCode:Delaware\"=>\"S5\",\"StateCode:Illinois\"=>\"S1\",\"StateCode:Indiana\"=>\"S2\",\"StateCode:Iowa\"=>\"S1\",\"StateCode:Maine\"=>\"SNR\",\"StateCode:Maryland\"=>\"S4\",\"StateCode:Massachusetts\"=>\"SNR\",\"StateCode:Michigan\"=>\"SNR\",\"StateCode:Minnesota\"=>\"S3\",\"StateCode:New Hampshire\"=>\"SNR\",\"StateCode:New Jersey\"=>\"S4\",\"StateCode:New York\"=>\"S5\",\"StateCode:North Carolina\"=>\"S2\",\"StateCode:North Dakota\"=>\"S1\",\"StateCode:Ohio\"=>\"SH\",\"StateCode:Rhode Island\"=>\"S2\",\"StateCode:Vermont\"=>\"S1\",\"StateCode:Virginia\"=>\"S3S4\",\"StateCode:West Virginia\"=>\"S1\",\"StateCode:Wisconsin\"=>\"SNR\"'}"
      ]
     },
     "metadata": {},
     "output_type": "display_data"
    },
    {
     "data": {
      "text/plain": [
       "{'elementGlobalID': 'ELEMENT_GLOBAL.2.115164',\n",
       " 'gid': 4826,\n",
       " 'nameWInd': 'Amerigoniscus henroti',\n",
       " 'nameWOInd': 'Amerigoniscus henroti',\n",
       " 'natureServePairs': '\"cacheDate\"=>\"2017-05-07T18:12:32.649092\",\"elementGlobalID\"=>\"ELEMENT_GLOBAL.2.115164\",\"GlobalStatusRank\"=>\"G1G2\",\"roundedGlobalStatusRankDescription\"=>\"Critically Imperiled\",\"globalStatusLastReviewed\"=>\"1997-10-01\",\"usNationalStatusRankCode\"=>\"N1N2\",\"usNationalStatusLastReviewed\"=>\"1999-07-26\",\"StateCode:Virginia\"=>\"S1S2\"'}"
      ]
     },
     "metadata": {},
     "output_type": "display_data"
    },
    {
     "data": {
      "text/plain": [
       "{'elementGlobalID': 'none',\n",
       " 'gid': 34,\n",
       " 'nameWInd': 'Acanthohaustorius shoemakeri',\n",
       " 'nameWOInd': 'Acanthohaustorius shoemakeri',\n",
       " 'natureServePairs': '\"cacheDate\"=>\"2017-05-07T18:12:35.472326\",\"elementGlobalID\"=>\"none\",\"status\"=>\"Not Found\"'}"
      ]
     },
     "metadata": {},
     "output_type": "display_data"
    },
    {
     "data": {
      "text/plain": [
       "{'elementGlobalID': 'ELEMENT_GLOBAL.2.793317',\n",
       " 'gid': 7398,\n",
       " 'nameWInd': 'Orophe cabinetus',\n",
       " 'nameWOInd': 'Orophe cabinetus',\n",
       " 'natureServePairs': '\"cacheDate\"=>\"2017-05-07T18:12:37.564950\",\"elementGlobalID\"=>\"ELEMENT_GLOBAL.2.793317\",\"GlobalStatusRank\"=>\"G1G3\",\"roundedGlobalStatusRankDescription\"=>\"Imperiled\",\"globalStatusLastReviewed\"=>\"2006-06-02\",\"usNationalStatusRankCode\"=>\"N1N3\",\"usNationalStatusLastReviewed\"=>\"2006-06-02\",\"StateCode:Montana\"=>\"S1S3\"'}"
      ]
     },
     "metadata": {},
     "output_type": "display_data"
    },
    {
     "data": {
      "text/plain": [
       "{'elementGlobalID': 'ELEMENT_GLOBAL.2.112721',\n",
       " 'gid': 6214,\n",
       " 'nameWInd': 'Fumonelix wetherbyi',\n",
       " 'nameWOInd': 'Fumonelix wetherbyi',\n",
       " 'natureServePairs': '\"cacheDate\"=>\"2017-05-07T18:12:40.401339\",\"elementGlobalID\"=>\"ELEMENT_GLOBAL.2.112721\",\"GlobalStatusRank\"=>\"G2G3\",\"roundedGlobalStatusRankDescription\"=>\"Imperiled\",\"globalStatusLastReviewed\"=>\"2008-04-17\",\"usNationalStatusRankCode\"=>\"N2N3\",\"usNationalStatusLastReviewed\"=>\"2002-10-08\",\"StateCode:Kentucky\"=>\"S2\",\"StateCode:Tennessee\"=>\"S2S3\"'}"
      ]
     },
     "metadata": {},
     "output_type": "display_data"
    },
    {
     "data": {
      "text/plain": [
       "{'elementGlobalID': 'ELEMENT_GLOBAL.2.121204',\n",
       " 'gid': 12984,\n",
       " 'nameWInd': 'Pseudocopaeodes eunus eunus',\n",
       " 'nameWOInd': 'Pseudocopaeodes eunus eunus',\n",
       " 'natureServePairs': '\"cacheDate\"=>\"2017-05-07T18:12:43.298605\",\"elementGlobalID\"=>\"ELEMENT_GLOBAL.2.121204\",\"GlobalStatusRank\"=>\"G3G4T2\",\"roundedGlobalStatusRankDescription\"=>\"Imperiled\",\"globalStatusLastReviewed\"=>\"2013-01-29\",\"usNationalStatusRankCode\"=>\"N1N3\",\"usNationalStatusLastReviewed\"=>\"1998-09-30\",\"StateCode:California\"=>\"S2\"'}"
      ]
     },
     "metadata": {},
     "output_type": "display_data"
    },
    {
     "data": {
      "text/plain": [
       "{'elementGlobalID': 'ELEMENT_GLOBAL.2.100336',\n",
       " 'gid': 4896,\n",
       " 'nameWInd': 'Antilocapra americana',\n",
       " 'nameWOInd': 'Antilocapra americana',\n",
       " 'natureServePairs': '\"cacheDate\"=>\"2017-05-07T18:12:46.165812\",\"elementGlobalID\"=>\"ELEMENT_GLOBAL.2.100336\",\"GlobalStatusRank\"=>\"G5\",\"roundedGlobalStatusRankDescription\"=>\"Secure\",\"globalStatusLastReviewed\"=>\"2016-04-04\",\"usNationalStatusRankCode\"=>\"N5\",\"usNationalStatusLastReviewed\"=>\"1996-09-05\",\"StateCode:Arizona\"=>\"S5\",\"StateCode:California\"=>\"SNR\",\"StateCode:Colorado\"=>\"S4\",\"StateCode:Idaho\"=>\"S5\",\"StateCode:Iowa\"=>\"SX\",\"StateCode:Kansas\"=>\"S3\",\"StateCode:Minnesota\"=>\"SX\",\"StateCode:Montana\"=>\"S5\",\"StateCode:Navajo Nation\"=>\"S3\",\"StateCode:Nebraska\"=>\"S3\",\"StateCode:Nevada\"=>\"S5\",\"StateCode:New Mexico\"=>\"S5\",\"StateCode:North Dakota\"=>\"SNR\",\"StateCode:Oklahoma\"=>\"S3\",\"StateCode:Oregon\"=>\"S4\",\"StateCode:South Dakota\"=>\"S5\",\"StateCode:Texas\"=>\"S5\",\"StateCode:Utah\"=>\"S4\",\"StateCode:Washington\"=>\"SX\",\"StateCode:Wyoming\"=>\"S5\"'}"
      ]
     },
     "metadata": {},
     "output_type": "display_data"
    },
    {
     "data": {
      "text/plain": [
       "{'elementGlobalID': 'ELEMENT_GLOBAL.2.116627',\n",
       " 'gid': 16521,\n",
       " 'nameWInd': 'Oreohelix swopei',\n",
       " 'nameWOInd': 'Oreohelix swopei',\n",
       " 'natureServePairs': '\"cacheDate\"=>\"2017-05-07T18:12:49.033725\",\"elementGlobalID\"=>\"ELEMENT_GLOBAL.2.116627\",\"GlobalStatusRank\"=>\"G1\",\"roundedGlobalStatusRankDescription\"=>\"Critically Imperiled\",\"globalStatusLastReviewed\"=>\"2002-10-08\",\"usNationalStatusRankCode\"=>\"N1\",\"usNationalStatusLastReviewed\"=>\"2002-10-08\",\"StateCode:New Mexico\"=>\"S1\"'}"
      ]
     },
     "metadata": {},
     "output_type": "display_data"
    },
    {
     "data": {
      "text/plain": [
       "{'elementGlobalID': 'ELEMENT_GLOBAL.2.112021',\n",
       " 'gid': 4765,\n",
       " 'nameWInd': 'Alasmidonta viridis',\n",
       " 'nameWOInd': 'Alasmidonta viridis',\n",
       " 'natureServePairs': '\"cacheDate\"=>\"2017-05-07T18:12:51.686391\",\"elementGlobalID\"=>\"ELEMENT_GLOBAL.2.112021\",\"GlobalStatusRank\"=>\"G4G5\",\"roundedGlobalStatusRankDescription\"=>\"Apparently Secure\",\"globalStatusLastReviewed\"=>\"2009-01-26\",\"usNationalStatusRankCode\"=>\"N4\",\"usNationalStatusLastReviewed\"=>\"1998-07-16\",\"StateCode:Alabama\"=>\"S1\",\"StateCode:Arkansas\"=>\"S1\",\"StateCode:Illinois\"=>\"S2\",\"StateCode:Indiana\"=>\"S3\",\"StateCode:Iowa\"=>\"S1\",\"StateCode:Kansas\"=>\"SX\",\"StateCode:Kentucky\"=>\"S4S5\",\"StateCode:Michigan\"=>\"S2S3\",\"StateCode:Missouri\"=>\"S1\",\"StateCode:New York\"=>\"S1S2\",\"StateCode:North Carolina\"=>\"S1\",\"StateCode:Ohio\"=>\"S5\",\"StateCode:Tennessee\"=>\"S3S4\",\"StateCode:Virginia\"=>\"S1\",\"StateCode:Wisconsin\"=>\"S2\"'}"
      ]
     },
     "metadata": {},
     "output_type": "display_data"
    },
    {
     "data": {
      "text/plain": [
       "{'elementGlobalID': 'none',\n",
       " 'gid': 9806,\n",
       " 'nameWInd': 'Bothus thompsoni',\n",
       " 'nameWOInd': 'Bothus thompsoni',\n",
       " 'natureServePairs': '\"cacheDate\"=>\"2017-05-07T18:12:54.767906\",\"elementGlobalID\"=>\"none\",\"status\"=>\"Not Found\"'}"
      ]
     },
     "metadata": {},
     "output_type": "display_data"
    },
    {
     "data": {
      "text/plain": [
       "{'elementGlobalID': 'ELEMENT_GLOBAL.2.124183',\n",
       " 'gid': 1955,\n",
       " 'nameWInd': 'Frullania oakesiana',\n",
       " 'nameWOInd': 'Frullania oakesiana',\n",
       " 'natureServePairs': '\"cacheDate\"=>\"2017-05-07T18:12:56.689281\",\"elementGlobalID\"=>\"ELEMENT_GLOBAL.2.124183\",\"GlobalStatusRank\"=>\"G4\",\"roundedGlobalStatusRankDescription\"=>\"Apparently Secure\",\"globalStatusLastReviewed\"=>\"1997-10-22\",\"usNationalStatusRankCode\"=>\"NNR\",\"usNationalStatusLastReviewed\"=>\"Unknown\",\"StateCode:North Carolina\"=>\"SH\",\"StateCode:Tennessee\"=>\"S1\",\"StateCode:Vermont\"=>\"S2\",\"StateCode:Wisconsin\"=>\"S2\"'}"
      ]
     },
     "metadata": {},
     "output_type": "display_data"
    },
    {
     "data": {
      "text/plain": [
       "{'elementGlobalID': 'ELEMENT_GLOBAL.2.104465',\n",
       " 'gid': 2303,\n",
       " 'nameWInd': 'Hybognathus argyritis',\n",
       " 'nameWOInd': 'Hybognathus argyritis',\n",
       " 'natureServePairs': '\"cacheDate\"=>\"2017-05-07T18:12:59.515164\",\"elementGlobalID\"=>\"ELEMENT_GLOBAL.2.104465\",\"GlobalStatusRank\"=>\"G4\",\"roundedGlobalStatusRankDescription\"=>\"Apparently Secure\",\"globalStatusLastReviewed\"=>\"2012-02-14\",\"usNationalStatusRankCode\"=>\"N4\",\"usNationalStatusLastReviewed\"=>\"1998-08-28\",\"StateCode:Illinois\"=>\"S2\",\"StateCode:Iowa\"=>\"S1\",\"StateCode:Kansas\"=>\"S2\",\"StateCode:Missouri\"=>\"S2\",\"StateCode:Montana\"=>\"S4\",\"StateCode:Nebraska\"=>\"S5\",\"StateCode:North Dakota\"=>\"SNR\",\"StateCode:South Dakota\"=>\"S5\",\"StateCode:Wyoming\"=>\"S2\"'}"
      ]
     },
     "metadata": {},
     "output_type": "display_data"
    },
    {
     "data": {
      "text/plain": [
       "{'elementGlobalID': 'ELEMENT_GLOBAL.2.113702',\n",
       " 'gid': 7408,\n",
       " 'nameWInd': 'Orthotrichia instabilis',\n",
       " 'nameWOInd': 'Orthotrichia instabilis',\n",
       " 'natureServePairs': '\"cacheDate\"=>\"2017-05-07T18:13:02.133601\",\"elementGlobalID\"=>\"ELEMENT_GLOBAL.2.113702\",\"GlobalStatusRank\"=>\"G3\",\"roundedGlobalStatusRankDescription\"=>\"Vulnerable\",\"globalStatusLastReviewed\"=>\"2009-03-06\",\"usNationalStatusRankCode\"=>\"N3\",\"usNationalStatusLastReviewed\"=>\"2005-03-08\",\"StateCode:Alabama\"=>\"S1\",\"StateCode:Arkansas\"=>\"SNR\",\"StateCode:Florida\"=>\"S1\",\"StateCode:New Hampshire\"=>\"SNR\",\"StateCode:South Carolina\"=>\"SNR\",\"StateCode:Texas\"=>\"SNR\"'}"
      ]
     },
     "metadata": {},
     "output_type": "display_data"
    },
    {
     "data": {
      "text/plain": [
       "{'elementGlobalID': 'ELEMENT_GLOBAL.2.100936',\n",
       " 'gid': 4766,\n",
       " 'nameWInd': 'Alca torda',\n",
       " 'nameWOInd': 'Alca torda',\n",
       " 'natureServePairs': '\"cacheDate\"=>\"2017-05-07T18:13:05.007227\",\"elementGlobalID\"=>\"ELEMENT_GLOBAL.2.100936\",\"GlobalStatusRank\"=>\"G5\",\"roundedGlobalStatusRankDescription\"=>\"Secure\",\"globalStatusLastReviewed\"=>\"2016-04-06\",\"usNationalStatusRankCode\"=>\"N1B\",\"usNationalStatusLastReviewed\"=>\"1997-01-05\",\"StateCode:Maine\"=>\"S2B\",\"StateCode:Maryland\"=>\"SNA\",\"StateCode:Massachusetts\"=>\"S4N\",\"StateCode:New Hampshire\"=>\"SNA\",\"StateCode:New Jersey\"=>\"SNA\",\"StateCode:New York\"=>\"SNRN\",\"StateCode:North Carolina\"=>\"S2N\",\"StateCode:Rhode Island\"=>\"SNA\"'}"
      ]
     },
     "metadata": {},
     "output_type": "display_data"
    },
    {
     "data": {
      "text/plain": [
       "{'elementGlobalID': 'ELEMENT_GLOBAL.2.129907',\n",
       " 'gid': 5182,\n",
       " 'nameWInd': 'Brickellia hinckleyi var. terlinguensis',\n",
       " 'nameWOInd': 'Brickellia hinckleyi terlinguensis',\n",
       " 'natureServePairs': '\"cacheDate\"=>\"2017-05-07T18:13:09.922611\",\"elementGlobalID\"=>\"ELEMENT_GLOBAL.2.129907\",\"GlobalStatusRank\"=>\"G2TH\",\"roundedGlobalStatusRankDescription\"=>\"Possibly Extinct\",\"globalStatusLastReviewed\"=>\"2002-01-16\",\"usNationalStatusRankCode\"=>\"NH\",\"usNationalStatusLastReviewed\"=>\"Unknown\",\"StateCode:Texas\"=>\"SH\"'}"
      ]
     },
     "metadata": {},
     "output_type": "display_data"
    },
    {
     "data": {
      "text/plain": [
       "{'elementGlobalID': 'none',\n",
       " 'gid': 15682,\n",
       " 'nameWInd': 'Cumingia tellinoides',\n",
       " 'nameWOInd': 'Cumingia tellinoides',\n",
       " 'natureServePairs': '\"cacheDate\"=>\"2017-05-07T18:13:12.789609\",\"elementGlobalID\"=>\"none\",\"status\"=>\"Not Found\"'}"
      ]
     },
     "metadata": {},
     "output_type": "display_data"
    },
    {
     "data": {
      "text/plain": [
       "{'elementGlobalID': 'ELEMENT_GLOBAL.2.109237',\n",
       " 'gid': 7511,\n",
       " 'nameWInd': 'Paraleptophlebia kirchneri',\n",
       " 'nameWOInd': 'Paraleptophlebia kirchneri',\n",
       " 'natureServePairs': '\"cacheDate\"=>\"2017-05-07T18:13:14.839484\",\"elementGlobalID\"=>\"ELEMENT_GLOBAL.2.109237\",\"GlobalStatusRank\"=>\"G1G3\",\"roundedGlobalStatusRankDescription\"=>\"Imperiled\",\"globalStatusLastReviewed\"=>\"2003-12-11\",\"usNationalStatusRankCode\"=>\"N1N3\",\"usNationalStatusLastReviewed\"=>\"2003-12-11\",\"StateCode:Tennessee\"=>\"S1\"'}"
      ]
     },
     "metadata": {},
     "output_type": "display_data"
    },
    {
     "data": {
      "text/plain": [
       "{'elementGlobalID': 'ELEMENT_GLOBAL.2.119733',\n",
       " 'gid': 11369,\n",
       " 'nameWInd': 'Hydroptila berneri',\n",
       " 'nameWOInd': 'Hydroptila berneri',\n",
       " 'natureServePairs': '\"cacheDate\"=>\"2017-05-07T18:13:17.409280\",\"elementGlobalID\"=>\"ELEMENT_GLOBAL.2.119733\",\"GlobalStatusRank\"=>\"G4G5\",\"roundedGlobalStatusRankDescription\"=>\"Apparently Secure\",\"globalStatusLastReviewed\"=>\"2005-03-31\",\"usNationalStatusRankCode\"=>\"N4N5\",\"usNationalStatusLastReviewed\"=>\"2005-03-31\",\"StateCode:Alabama\"=>\"S1\",\"StateCode:Arkansas\"=>\"SNR\",\"StateCode:Florida\"=>\"S3\",\"StateCode:Louisiana\"=>\"SNR\",\"StateCode:Minnesota\"=>\"SNR\",\"StateCode:North Carolina\"=>\"SNR\",\"StateCode:South Carolina\"=>\"SNR\",\"StateCode:Texas\"=>\"SNR\",\"StateCode:Wisconsin\"=>\"SNR\"'}"
      ]
     },
     "metadata": {},
     "output_type": "display_data"
    },
    {
     "data": {
      "text/plain": [
       "{'elementGlobalID': 'ELEMENT_GLOBAL.2.101297',\n",
       " 'gid': 527,\n",
       " 'nameWInd': 'Baeolophus bicolor',\n",
       " 'nameWOInd': 'Baeolophus bicolor',\n",
       " 'natureServePairs': '\"cacheDate\"=>\"2017-05-07T18:13:20.451119\",\"elementGlobalID\"=>\"ELEMENT_GLOBAL.2.101297\",\"GlobalStatusRank\"=>\"G5\",\"roundedGlobalStatusRankDescription\"=>\"Secure\",\"globalStatusLastReviewed\"=>\"2016-04-06\",\"usNationalStatusRankCode\"=>\"N5\",\"usNationalStatusLastReviewed\"=>\"1997-01-05\",\"StateCode:Alabama\"=>\"S5\",\"StateCode:Arkansas\"=>\"S5\",\"StateCode:Connecticut\"=>\"S5\",\"StateCode:Delaware\"=>\"S5\",\"StateCode:District of Columbia\"=>\"S5\",\"StateCode:Florida\"=>\"SNR\",\"StateCode:Georgia\"=>\"S5\",\"StateCode:Illinois\"=>\"S5\",\"StateCode:Indiana\"=>\"S4\",\"StateCode:Iowa\"=>\"S4B\",\"StateCode:Kansas\"=>\"S5\",\"StateCode:Kentucky\"=>\"S5\",\"StateCode:Louisiana\"=>\"S5\",\"StateCode:Maine\"=>\"S4\",\"StateCode:Maryland\"=>\"S5\",\"StateCode:Massachusetts\"=>\"S5\",\"StateCode:Michigan\"=>\"S5\",\"StateCode:Minnesota\"=>\"SNR\",\"StateCode:Mississippi\"=>\"S5\",\"StateCode:Missouri\"=>\"SNR\",\"StateCode:Nebraska\"=>\"S3\",\"StateCode:New Hampshire\"=>\"S5\",\"StateCode:New Jersey\"=>\"S5B,S5N\",\"StateCode:New York\"=>\"S5\",\"StateCode:North Carolina\"=>\"S5\",\"StateCode:Ohio\"=>\"S5\",\"StateCode:Oklahoma\"=>\"S5\",\"StateCode:Pennsylvania\"=>\"S5\",\"StateCode:Rhode Island\"=>\"S5B\",\"StateCode:South Carolina\"=>\"SNR\",\"StateCode:South Dakota\"=>\"SUB\",\"StateCode:Tennessee\"=>\"S5\",\"StateCode:Texas\"=>\"S5B\",\"StateCode:Vermont\"=>\"S5\",\"StateCode:Virginia\"=>\"S5\",\"StateCode:West Virginia\"=>\"S5B,S5N\",\"StateCode:Wisconsin\"=>\"S4B\"'}"
      ]
     },
     "metadata": {},
     "output_type": "display_data"
    },
    {
     "data": {
      "text/plain": [
       "{'elementGlobalID': 'ELEMENT_GLOBAL.2.908345',\n",
       " 'gid': 11389,\n",
       " 'nameWInd': 'Hyperaspis rotunda',\n",
       " 'nameWOInd': 'Hyperaspis rotunda',\n",
       " 'natureServePairs': '\"cacheDate\"=>\"2017-05-07T18:13:24.259802\",\"elementGlobalID\"=>\"ELEMENT_GLOBAL.2.908345\",\"GlobalStatusRank\"=>\"GNR\",\"roundedGlobalStatusRankDescription\"=>\"Not Yet Ranked\",\"globalStatusLastReviewed\"=>\"Unknown\",\"usNationalStatusRankCode\"=>\"NNR\",\"usNationalStatusLastReviewed\"=>\"Unknown\",\"StateCode:Texas\"=>\"SNR\"'}"
      ]
     },
     "metadata": {},
     "output_type": "display_data"
    },
    {
     "data": {
      "text/plain": [
       "{'elementGlobalID': 'ELEMENT_GLOBAL.2.118692',\n",
       " 'gid': 11377,\n",
       " 'nameWInd': 'Hygrotus curvipes',\n",
       " 'nameWOInd': 'Hygrotus curvipes',\n",
       " 'natureServePairs': '\"cacheDate\"=>\"2017-05-07T18:13:27.535862\",\"elementGlobalID\"=>\"ELEMENT_GLOBAL.2.118692\",\"GlobalStatusRank\"=>\"G1\",\"roundedGlobalStatusRankDescription\"=>\"Critically Imperiled\",\"globalStatusLastReviewed\"=>\"1993-06-30\",\"usNationalStatusRankCode\"=>\"NNR\",\"usNationalStatusLastReviewed\"=>\"Unknown\",\"StateCode:California\"=>\"S1\"'}"
      ]
     },
     "metadata": {},
     "output_type": "display_data"
    },
    {
     "data": {
      "text/plain": [
       "{'elementGlobalID': 'ELEMENT_GLOBAL.2.792092',\n",
       " 'gid': 4768,\n",
       " 'nameWInd': 'Alces americanus',\n",
       " 'nameWOInd': 'Alces americanus',\n",
       " 'natureServePairs': '\"cacheDate\"=>\"2017-05-07T18:13:30.136836\",\"elementGlobalID\"=>\"ELEMENT_GLOBAL.2.792092\",\"GlobalStatusRank\"=>\"G5\",\"roundedGlobalStatusRankDescription\"=>\"Secure\",\"globalStatusLastReviewed\"=>\"2016-04-04\",\"usNationalStatusRankCode\"=>\"N5\",\"usNationalStatusLastReviewed\"=>\"2006-03-27\",\"StateCode:Alaska\"=>\"S5\",\"StateCode:Colorado\"=>\"SNA\",\"StateCode:Connecticut\"=>\"S4\",\"StateCode:Idaho\"=>\"S5\",\"StateCode:Maine\"=>\"S5\",\"StateCode:Massachusetts\"=>\"S4\",\"StateCode:Michigan\"=>\"S4\",\"StateCode:Minnesota\"=>\"SNR\",\"StateCode:Montana\"=>\"S5\",\"StateCode:New Hampshire\"=>\"S5\",\"StateCode:New York\"=>\"S3S4\",\"StateCode:North Dakota\"=>\"SNR\",\"StateCode:Pennsylvania\"=>\"SX\",\"StateCode:Utah\"=>\"S3S4\",\"StateCode:Vermont\"=>\"S5\",\"StateCode:Washington\"=>\"S2S3\",\"StateCode:Wyoming\"=>\"S5\"'}"
      ]
     },
     "metadata": {},
     "output_type": "display_data"
    },
    {
     "data": {
      "text/plain": [
       "{'elementGlobalID': 'none',\n",
       " 'gid': 16216,\n",
       " 'nameWInd': 'Lepidametria commensalis',\n",
       " 'nameWOInd': 'Lepidametria commensalis',\n",
       " 'natureServePairs': '\"cacheDate\"=>\"2017-05-07T18:13:32.871546\",\"elementGlobalID\"=>\"none\",\"status\"=>\"Not Found\"'}"
      ]
     },
     "metadata": {},
     "output_type": "display_data"
    },
    {
     "data": {
      "text/plain": [
       "{'elementGlobalID': 'ELEMENT_GLOBAL.2.112711',\n",
       " 'gid': 532,\n",
       " 'nameWInd': 'Baetisca rubescens',\n",
       " 'nameWOInd': 'Baetisca rubescens',\n",
       " 'natureServePairs': '\"cacheDate\"=>\"2017-05-07T18:13:34.720111\",\"elementGlobalID\"=>\"ELEMENT_GLOBAL.2.112711\",\"GlobalStatusRank\"=>\"G3G4\",\"roundedGlobalStatusRankDescription\"=>\"Vulnerable\",\"globalStatusLastReviewed\"=>\"2006-11-20\",\"usNationalStatusRankCode\"=>\"N3\",\"usNationalStatusLastReviewed\"=>\"2003-12-11\",\"StateCode:Maine\"=>\"SNR\",\"StateCode:New Hampshire\"=>\"SNR\",\"StateCode:Pennsylvania\"=>\"SNR\",\"StateCode:Vermont\"=>\"SNR\",\"StateCode:Virginia\"=>\"S1\",\"StateCode:West Virginia\"=>\"SNR\"'}"
      ]
     },
     "metadata": {},
     "output_type": "display_data"
    },
    {
     "data": {
      "text/plain": [
       "{'elementGlobalID': 'ELEMENT_GLOBAL.2.117720',\n",
       " 'gid': 11400,\n",
       " 'nameWInd': 'Hypotrichia spissipes',\n",
       " 'nameWOInd': 'Hypotrichia spissipes',\n",
       " 'natureServePairs': '\"cacheDate\"=>\"2017-05-07T18:13:37.776576\",\"elementGlobalID\"=>\"ELEMENT_GLOBAL.2.117720\",\"GlobalStatusRank\"=>\"G3G4\",\"roundedGlobalStatusRankDescription\"=>\"Vulnerable\",\"globalStatusLastReviewed\"=>\"2011-07-11\",\"usNationalStatusRankCode\"=>\"NNR\",\"usNationalStatusLastReviewed\"=>\"Unknown\",\"StateCode:Florida\"=>\"S3S4\"'}"
      ]
     },
     "metadata": {},
     "output_type": "display_data"
    },
    {
     "data": {
      "text/plain": [
       "{'elementGlobalID': 'none',\n",
       " 'gid': 16377,\n",
       " 'nameWInd': 'Micrura leidyi',\n",
       " 'nameWOInd': 'Micrura leidyi',\n",
       " 'natureServePairs': '\"cacheDate\"=>\"2017-05-07T18:13:40.498014\",\"elementGlobalID\"=>\"none\",\"status\"=>\"Not Found\"'}"
      ]
     },
     "metadata": {},
     "output_type": "display_data"
    },
    {
     "data": {
      "text/plain": [
       "{'elementGlobalID': 'ELEMENT_GLOBAL.2.107166',\n",
       " 'gid': 592,\n",
       " 'nameWInd': 'Boloria selene',\n",
       " 'nameWOInd': 'Boloria selene',\n",
       " 'natureServePairs': '\"cacheDate\"=>\"2017-05-07T18:13:42.691652\",\"elementGlobalID\"=>\"ELEMENT_GLOBAL.2.107166\",\"GlobalStatusRank\"=>\"G5\",\"roundedGlobalStatusRankDescription\"=>\"Secure\",\"globalStatusLastReviewed\"=>\"2016-02-10\",\"usNationalStatusRankCode\"=>\"N5\",\"usNationalStatusLastReviewed\"=>\"1998-09-01\",\"StateCode:Colorado\"=>\"SNR\",\"StateCode:Connecticut\"=>\"S3S4\",\"StateCode:Delaware\"=>\"S1\",\"StateCode:District of Columbia\"=>\"SH\",\"StateCode:Idaho\"=>\"SNR\",\"StateCode:Illinois\"=>\"SU\",\"StateCode:Indiana\"=>\"S3?\",\"StateCode:Iowa\"=>\"S3\",\"StateCode:Maine\"=>\"SNR\",\"StateCode:Maryland\"=>\"S3\",\"StateCode:Massachusetts\"=>\"S5\",\"StateCode:Michigan\"=>\"S4\",\"StateCode:Minnesota\"=>\"S4?\",\"StateCode:Montana\"=>\"S5\",\"StateCode:Nebraska\"=>\"S2\",\"StateCode:New Hampshire\"=>\"S5\",\"StateCode:New Jersey\"=>\"SNR\",\"StateCode:New Mexico\"=>\"SNR\",\"StateCode:New York\"=>\"SNR\",\"StateCode:North Dakota\"=>\"SNR\",\"StateCode:Ohio\"=>\"SU\",\"StateCode:Oregon\"=>\"S2\",\"StateCode:Pennsylvania\"=>\"S3\",\"StateCode:Rhode Island\"=>\"SNR\",\"StateCode:South Dakota\"=>\"SNR\",\"StateCode:Utah\"=>\"SNR\",\"StateCode:Vermont\"=>\"S5\",\"StateCode:Virginia\"=>\"S2\",\"StateCode:Washington\"=>\"S3\",\"StateCode:West Virginia\"=>\"S3\",\"StateCode:Wisconsin\"=>\"S4\",\"StateCode:Wyoming\"=>\"SNR\"'}"
      ]
     },
     "metadata": {},
     "output_type": "display_data"
    },
    {
     "data": {
      "text/plain": [
       "{'elementGlobalID': 'ELEMENT_GLOBAL.2.106124',\n",
       " 'gid': 2306,\n",
       " 'nameWInd': 'Hybognathus placitus',\n",
       " 'nameWOInd': 'Hybognathus placitus',\n",
       " 'natureServePairs': '\"cacheDate\"=>\"2017-05-07T18:13:45.672919\",\"elementGlobalID\"=>\"ELEMENT_GLOBAL.2.106124\",\"GlobalStatusRank\"=>\"G4\",\"roundedGlobalStatusRankDescription\"=>\"Apparently Secure\",\"globalStatusLastReviewed\"=>\"2012-02-15\",\"usNationalStatusRankCode\"=>\"N4\",\"usNationalStatusLastReviewed\"=>\"1998-08-28\",\"StateCode:Arkansas\"=>\"SX\",\"StateCode:Colorado\"=>\"SH\",\"StateCode:Illinois\"=>\"S2\",\"StateCode:Iowa\"=>\"S4\",\"StateCode:Kansas\"=>\"S2S3\",\"StateCode:Kentucky\"=>\"S1\",\"StateCode:Missouri\"=>\"S2\",\"StateCode:Montana\"=>\"S4\",\"StateCode:Nebraska\"=>\"S4\",\"StateCode:New Mexico\"=>\"S3\",\"StateCode:North Dakota\"=>\"SNR\",\"StateCode:Oklahoma\"=>\"S5\",\"StateCode:South Dakota\"=>\"S5\",\"StateCode:Tennessee\"=>\"S1\",\"StateCode:Texas\"=>\"S4\",\"StateCode:Utah\"=>\"SNA\",\"StateCode:Wyoming\"=>\"S3\"'}"
      ]
     },
     "metadata": {},
     "output_type": "display_data"
    },
    {
     "data": {
      "text/plain": [
       "{'elementGlobalID': 'ELEMENT_GLOBAL.2.103000',\n",
       " 'gid': 5205,\n",
       " 'nameWInd': 'Buteo jamaicensis',\n",
       " 'nameWOInd': 'Buteo jamaicensis',\n",
       " 'natureServePairs': '\"cacheDate\"=>\"2017-05-07T18:13:49.245655\",\"elementGlobalID\"=>\"ELEMENT_GLOBAL.2.103000\",\"GlobalStatusRank\"=>\"G5\",\"roundedGlobalStatusRankDescription\"=>\"Secure\",\"globalStatusLastReviewed\"=>\"2016-04-06\",\"usNationalStatusRankCode\"=>\"N5B,N5N\",\"usNationalStatusLastReviewed\"=>\"1997-01-05\",\"StateCode:Alabama\"=>\"S5\",\"StateCode:Alaska\"=>\"S4S5B\",\"StateCode:Arizona\"=>\"S5\",\"StateCode:Arkansas\"=>\"S5\",\"StateCode:California\"=>\"SNR\",\"StateCode:Colorado\"=>\"S5B,S5N\",\"StateCode:Connecticut\"=>\"S5\",\"StateCode:Delaware\"=>\"S5\",\"StateCode:District of Columbia\"=>\"S3N\",\"StateCode:Florida\"=>\"SNR\",\"StateCode:Georgia\"=>\"S5\",\"StateCode:Idaho\"=>\"S5B,S5N\",\"StateCode:Illinois\"=>\"S5\",\"StateCode:Indiana\"=>\"S4\",\"StateCode:Iowa\"=>\"S5B,S5N\",\"StateCode:Kansas\"=>\"S5\",\"StateCode:Kentucky\"=>\"S4S5B,S4S5N\",\"StateCode:Louisiana\"=>\"S4B,S5N\",\"StateCode:Maine\"=>\"S3N,S5B\",\"StateCode:Maryland\"=>\"S5B,S5N\",\"StateCode:Massachusetts\"=>\"S5B,S5N\",\"StateCode:Michigan\"=>\"S5\",\"StateCode:Minnesota\"=>\"SNRB,SNRN\",\"StateCode:Mississippi\"=>\"S5B\",\"StateCode:Missouri\"=>\"S5\",\"StateCode:Montana\"=>\"S5B\",\"StateCode:Navajo Nation\"=>\"S5\",\"StateCode:Nebraska\"=>\"S4\",\"StateCode:Nevada\"=>\"S5\",\"StateCode:New Hampshire\"=>\"S5\",\"StateCode:New Jersey\"=>\"S5B,S5N\",\"StateCode:New Mexico\"=>\"S5B,S5N\",\"StateCode:New York\"=>\"S5\",\"StateCode:North Carolina\"=>\"S5B,S5N\",\"StateCode:North Dakota\"=>\"SNRB,SNRN\",\"StateCode:Ohio\"=>\"S5\",\"StateCode:Oklahoma\"=>\"S5\",\"StateCode:Oregon\"=>\"S5\",\"StateCode:Pennsylvania\"=>\"S5B,S5N\",\"StateCode:Rhode Island\"=>\"S5B,S5N\",\"StateCode:South Carolina\"=>\"SNRB,SNRN\",\"StateCode:South Dakota\"=>\"S5B\",\"StateCode:Tennessee\"=>\"S5\",\"StateCode:Texas\"=>\"S5B\",\"StateCode:Utah\"=>\"S4S5\",\"StateCode:Vermont\"=>\"S3S4B,S5N\",\"StateCode:Virginia\"=>\"S4\",\"StateCode:Washington\"=>\"S5B,S5N\",\"StateCode:West Virginia\"=>\"S5B,S5N\",\"StateCode:Wisconsin\"=>\"S5B,S4N\",\"StateCode:Wyoming\"=>\"S5B\"'}"
      ]
     },
     "metadata": {},
     "output_type": "display_data"
    },
    {
     "data": {
      "text/plain": [
       "{'elementGlobalID': 'none',\n",
       " 'gid': 16052,\n",
       " 'nameWInd': 'Haplosyllis spongicola',\n",
       " 'nameWOInd': 'Haplosyllis spongicola',\n",
       " 'natureServePairs': '\"cacheDate\"=>\"2017-05-07T18:13:52.449873\",\"elementGlobalID\"=>\"none\",\"status\"=>\"Not Found\"'}"
      ]
     },
     "metadata": {},
     "output_type": "display_data"
    },
    {
     "data": {
      "text/plain": [
       "{'elementGlobalID': 'ELEMENT_GLOBAL.2.138622',\n",
       " 'gid': 4770,\n",
       " 'nameWInd': 'Allium canadense',\n",
       " 'nameWOInd': 'Allium canadense',\n",
       " 'natureServePairs': '\"cacheDate\"=>\"2017-05-07T18:13:54.573175\",\"elementGlobalID\"=>\"ELEMENT_GLOBAL.2.138622\",\"GlobalStatusRank\"=>\"G5T5\",\"roundedGlobalStatusRankDescription\"=>\"Secure\",\"globalStatusLastReviewed\"=>\"2015-08-06\",\"usNationalStatusRankCode\"=>\"N5\",\"usNationalStatusLastReviewed\"=>\"Unknown\",\"StateCode:Alabama\"=>\"SNR\",\"StateCode:Arkansas\"=>\"SNR\",\"StateCode:Connecticut\"=>\"SNR\",\"StateCode:Delaware\"=>\"S4\",\"StateCode:Florida\"=>\"SNR\",\"StateCode:Georgia\"=>\"S4\",\"StateCode:Illinois\"=>\"SNR\",\"StateCode:Indiana\"=>\"SNR\",\"StateCode:Iowa\"=>\"S5\",\"StateCode:Kansas\"=>\"SNR\",\"StateCode:Kentucky\"=>\"S4\",\"StateCode:Louisiana\"=>\"SNR\",\"StateCode:Maine\"=>\"SNR\",\"StateCode:Maryland\"=>\"SNR\",\"StateCode:Massachusetts\"=>\"SNR\",\"StateCode:Michigan\"=>\"SNR\",\"StateCode:Minnesota\"=>\"SNR\",\"StateCode:Mississippi\"=>\"SNR\",\"StateCode:Missouri\"=>\"SNR\",\"StateCode:Nebraska\"=>\"SNR\",\"StateCode:New Hampshire\"=>\"SNR\",\"StateCode:New Jersey\"=>\"S4\",\"StateCode:New York\"=>\"S5\",\"StateCode:North Carolina\"=>\"S5\",\"StateCode:North Dakota\"=>\"SNR\",\"StateCode:Ohio\"=>\"SNR\",\"StateCode:Oklahoma\"=>\"SNR\",\"StateCode:Pennsylvania\"=>\"SNR\",\"StateCode:Rhode Island\"=>\"SNR\",\"StateCode:South Carolina\"=>\"SNR\",\"StateCode:South Dakota\"=>\"SNR\",\"StateCode:Tennessee\"=>\"SNR\",\"StateCode:Texas\"=>\"SNR\",\"StateCode:Vermont\"=>\"SNR\",\"StateCode:Virginia\"=>\"S5\",\"StateCode:West Virginia\"=>\"S5\",\"StateCode:Wisconsin\"=>\"SNR\"'}"
      ]
     },
     "metadata": {},
     "output_type": "display_data"
    },
    {
     "data": {
      "text/plain": [
       "{'elementGlobalID': 'ELEMENT_GLOBAL.2.102821',\n",
       " 'gid': 7420,\n",
       " 'nameWInd': 'Otus asio',\n",
       " 'nameWOInd': 'Otus asio',\n",
       " 'natureServePairs': '\"cacheDate\"=>\"2017-05-07T18:13:57.755093\",\"elementGlobalID\"=>\"ELEMENT_GLOBAL.2.102821\",\"GlobalStatusRank\"=>\"G5\",\"roundedGlobalStatusRankDescription\"=>\"Secure\",\"globalStatusLastReviewed\"=>\"2016-04-09\",\"usNationalStatusRankCode\"=>\"N5\",\"usNationalStatusLastReviewed\"=>\"1997-01-05\",\"StateCode:Alabama\"=>\"S5\",\"StateCode:Arkansas\"=>\"S4\",\"StateCode:Colorado\"=>\"S4B\",\"StateCode:Connecticut\"=>\"S5\",\"StateCode:Delaware\"=>\"S5\",\"StateCode:District of Columbia\"=>\"S1\",\"StateCode:Florida\"=>\"SNR\",\"StateCode:Georgia\"=>\"S5\",\"StateCode:Illinois\"=>\"S5\",\"StateCode:Indiana\"=>\"S4\",\"StateCode:Iowa\"=>\"S4B,S4N\",\"StateCode:Kansas\"=>\"S5\",\"StateCode:Kentucky\"=>\"S5B,S5N\",\"StateCode:Louisiana\"=>\"S5\",\"StateCode:Maine\"=>\"S1S2B\",\"StateCode:Maryland\"=>\"S5\",\"StateCode:Massachusetts\"=>\"S5\",\"StateCode:Michigan\"=>\"S5\",\"StateCode:Minnesota\"=>\"SNR\",\"StateCode:Mississippi\"=>\"S5\",\"StateCode:Missouri\"=>\"SNR\",\"StateCode:Montana\"=>\"S3S4\",\"StateCode:Nebraska\"=>\"S4\",\"StateCode:New Hampshire\"=>\"S4\",\"StateCode:New Jersey\"=>\"S4B\",\"StateCode:New York\"=>\"S5\",\"StateCode:North Carolina\"=>\"S5\",\"StateCode:North Dakota\"=>\"SNR\",\"StateCode:Ohio\"=>\"S5\",\"StateCode:Oklahoma\"=>\"S4S5\",\"StateCode:Pennsylvania\"=>\"S5\",\"StateCode:Rhode Island\"=>\"S3B,S3N\",\"StateCode:South Carolina\"=>\"SNR\",\"StateCode:South Dakota\"=>\"S5\",\"StateCode:Tennessee\"=>\"S5\",\"StateCode:Texas\"=>\"S5B\",\"StateCode:Vermont\"=>\"S3\",\"StateCode:Virginia\"=>\"S5\",\"StateCode:West Virginia\"=>\"S5B,S5N\",\"StateCode:Wisconsin\"=>\"S5B\",\"StateCode:Wyoming\"=>\"S3\"'}"
      ]
     },
     "metadata": {},
     "output_type": "display_data"
    },
    {
     "data": {
      "text/plain": [
       "{'elementGlobalID': 'ELEMENT_GLOBAL.2.100559',\n",
       " 'gid': 2308,\n",
       " 'nameWInd': 'Hybopsis amnis',\n",
       " 'nameWOInd': 'Hybopsis amnis',\n",
       " 'natureServePairs': '\"cacheDate\"=>\"2017-05-07T18:14:01.123171\",\"elementGlobalID\"=>\"ELEMENT_GLOBAL.2.100559\",\"GlobalStatusRank\"=>\"G4\",\"roundedGlobalStatusRankDescription\"=>\"Apparently Secure\",\"globalStatusLastReviewed\"=>\"2012-02-15\",\"usNationalStatusRankCode\"=>\"N4\",\"usNationalStatusLastReviewed\"=>\"1996-12-05\",\"StateCode:Arkansas\"=>\"S3?\",\"StateCode:Illinois\"=>\"S1\",\"StateCode:Indiana\"=>\"S1\",\"StateCode:Iowa\"=>\"S3\",\"StateCode:Kentucky\"=>\"S1\",\"StateCode:Louisiana\"=>\"S4\",\"StateCode:Minnesota\"=>\"S3\",\"StateCode:Mississippi\"=>\"S3\",\"StateCode:Missouri\"=>\"SX\",\"StateCode:Oklahoma\"=>\"S1S2\",\"StateCode:Tennessee\"=>\"S3\",\"StateCode:Texas\"=>\"S4\",\"StateCode:Wisconsin\"=>\"S1\"'}"
      ]
     },
     "metadata": {},
     "output_type": "display_data"
    },
    {
     "data": {
      "text/plain": [
       "{'elementGlobalID': 'ELEMENT_GLOBAL.2.138869',\n",
       " 'gid': 7467,\n",
       " 'nameWInd': 'Panicum sphaerocarpon',\n",
       " 'nameWOInd': 'Panicum sphaerocarpon',\n",
       " 'natureServePairs': '\"cacheDate\"=>\"2017-05-07T18:14:04.154376\",\"elementGlobalID\"=>\"ELEMENT_GLOBAL.2.138869\",\"GlobalStatusRank\"=>\"G5T5\",\"roundedGlobalStatusRankDescription\"=>\"Secure\",\"globalStatusLastReviewed\"=>\"2016-07-06\",\"usNationalStatusRankCode\"=>\"N5\",\"usNationalStatusLastReviewed\"=>\"Unknown\",\"StateCode:Alabama\"=>\"SNR\",\"StateCode:Arkansas\"=>\"SNR\",\"StateCode:Delaware\"=>\"S4\",\"StateCode:District of Columbia\"=>\"SNR\",\"StateCode:Florida\"=>\"SNR\",\"StateCode:Georgia\"=>\"SNR\",\"StateCode:Illinois\"=>\"S3\",\"StateCode:Indiana\"=>\"SNR\",\"StateCode:Kansas\"=>\"SNR\",\"StateCode:Kentucky\"=>\"SNR\",\"StateCode:Louisiana\"=>\"SNR\",\"StateCode:Maine\"=>\"SNR\",\"StateCode:Maryland\"=>\"SNR\",\"StateCode:Massachusetts\"=>\"SNR\",\"StateCode:Michigan\"=>\"SNR\",\"StateCode:Mississippi\"=>\"SNR\",\"StateCode:Missouri\"=>\"SNR\",\"StateCode:Nebraska\"=>\"SNR\",\"StateCode:New Hampshire\"=>\"SNR\",\"StateCode:New Jersey\"=>\"S5\",\"StateCode:New York\"=>\"S4S5\",\"StateCode:North Carolina\"=>\"S5\",\"StateCode:Ohio\"=>\"SNR\",\"StateCode:Oklahoma\"=>\"SNR\",\"StateCode:Pennsylvania\"=>\"SNR\",\"StateCode:Rhode Island\"=>\"SNR\",\"StateCode:South Carolina\"=>\"SNR\",\"StateCode:Tennessee\"=>\"SNR\",\"StateCode:Texas\"=>\"SNR\",\"StateCode:Vermont\"=>\"SNR\",\"StateCode:Virginia\"=>\"SNR\",\"StateCode:West Virginia\"=>\"S3\"'}"
      ]
     },
     "metadata": {},
     "output_type": "display_data"
    },
    {
     "data": {
      "text/plain": [
       "{'elementGlobalID': 'ELEMENT_GLOBAL.2.142607',\n",
       " 'gid': 15604,\n",
       " 'nameWInd': 'Cirsium perplexans',\n",
       " 'nameWOInd': 'Cirsium perplexans',\n",
       " 'natureServePairs': '\"cacheDate\"=>\"2017-05-07T18:14:06.985940\",\"elementGlobalID\"=>\"ELEMENT_GLOBAL.2.142607\",\"GlobalStatusRank\"=>\"G2G3\",\"roundedGlobalStatusRankDescription\"=>\"Imperiled\",\"globalStatusLastReviewed\"=>\"2006-11-20\",\"usNationalStatusRankCode\"=>\"N2\",\"usNationalStatusLastReviewed\"=>\"Unknown\",\"StateCode:Colorado\"=>\"S2S3\"'}"
      ]
     },
     "metadata": {},
     "output_type": "display_data"
    },
    {
     "data": {
      "text/plain": [
       "{'elementGlobalID': 'ELEMENT_GLOBAL.2.120770',\n",
       " 'gid': 9098,\n",
       " 'nameWInd': 'Triaenodes florida',\n",
       " 'nameWOInd': 'Triaenodes florida',\n",
       " 'natureServePairs': '\"cacheDate\"=>\"2017-05-07T18:14:09.784017\",\"elementGlobalID\"=>\"ELEMENT_GLOBAL.2.120770\",\"GlobalStatusRank\"=>\"G2\",\"roundedGlobalStatusRankDescription\"=>\"Imperiled\",\"globalStatusLastReviewed\"=>\"2009-03-06\",\"usNationalStatusRankCode\"=>\"N2\",\"usNationalStatusLastReviewed\"=>\"2005-03-22\",\"StateCode:Alabama\"=>\"S1\",\"StateCode:Florida\"=>\"S2\",\"StateCode:Georgia\"=>\"SNR\"'}"
      ]
     },
     "metadata": {},
     "output_type": "display_data"
    },
    {
     "data": {
      "text/plain": [
       "{'elementGlobalID': 'ELEMENT_GLOBAL.2.102654',\n",
       " 'gid': 6153,\n",
       " 'nameWInd': 'Falco peregrinus',\n",
       " 'nameWOInd': 'Falco peregrinus',\n",
       " 'natureServePairs': '\"cacheDate\"=>\"2017-05-07T18:14:12.483391\",\"elementGlobalID\"=>\"ELEMENT_GLOBAL.2.102654\",\"GlobalStatusRank\"=>\"G4\",\"roundedGlobalStatusRankDescription\"=>\"Apparently Secure\",\"globalStatusLastReviewed\"=>\"2016-04-07\",\"usNationalStatusRankCode\"=>\"N4B,N4N\",\"usNationalStatusLastReviewed\"=>\"1997-03-19\",\"StateCode:Alabama\"=>\"SHB,S3N\",\"StateCode:Alaska\"=>\"S3B,S3N\",\"StateCode:Arizona\"=>\"S4\",\"StateCode:Arkansas\"=>\"S1N\",\"StateCode:California\"=>\"SNR\",\"StateCode:Colorado\"=>\"S2B\",\"StateCode:Connecticut\"=>\"S1B\",\"StateCode:Delaware\"=>\"S1B,S1N\",\"StateCode:District of Columbia\"=>\"S1B,S1N\",\"StateCode:Florida\"=>\"S2\",\"StateCode:Georgia\"=>\"S1\",\"StateCode:Idaho\"=>\"S2B\",\"StateCode:Illinois\"=>\"S1\",\"StateCode:Indiana\"=>\"S2B\",\"StateCode:Iowa\"=>\"S1B\",\"StateCode:Kansas\"=>\"S1B,S3N\",\"StateCode:Kentucky\"=>\"S1B\",\"StateCode:Louisiana\"=>\"S3N\",\"StateCode:Maine\"=>\"S1S2N,S2B\",\"StateCode:Maryland\"=>\"S2B,S3N\",\"StateCode:Massachusetts\"=>\"S2B,S3N\",\"StateCode:Michigan\"=>\"S1\",\"StateCode:Minnesota\"=>\"S2B\",\"StateCode:Mississippi\"=>\"SNA\",\"StateCode:Missouri\"=>\"S1\",\"StateCode:Montana\"=>\"S3\",\"StateCode:Navajo Nation\"=>\"S3S4\",\"StateCode:Nebraska\"=>\"S1\",\"StateCode:Nevada\"=>\"S2\",\"StateCode:New Hampshire\"=>\"SNR\",\"StateCode:New Jersey\"=>\"S1B,S1N\",\"StateCode:New Mexico\"=>\"S2B,S3N\",\"StateCode:New York\"=>\"S3B\",\"StateCode:North Carolina\"=>\"S1B,S2N\",\"StateCode:North Dakota\"=>\"SNR\",\"StateCode:Ohio\"=>\"S1\",\"StateCode:Oklahoma\"=>\"SU\",\"StateCode:Oregon\"=>\"S1\",\"StateCode:Pennsylvania\"=>\"S1B,S1N\",\"StateCode:Rhode Island\"=>\"S1B\",\"StateCode:South Carolina\"=>\"SHB,SNRN\",\"StateCode:South Dakota\"=>\"SXB\",\"StateCode:Tennessee\"=>\"S1B\",\"StateCode:Texas\"=>\"S3\",\"StateCode:Utah\"=>\"S3B\",\"StateCode:Vermont\"=>\"S3B\",\"StateCode:Virginia\"=>\"S1B,S2N\",\"StateCode:Washington\"=>\"S2B,S3N\",\"StateCode:West Virginia\"=>\"S1B,S2N\",\"StateCode:Wisconsin\"=>\"S1S2B\",\"StateCode:Wyoming\"=>\"S2\"'}"
      ]
     },
     "metadata": {},
     "output_type": "display_data"
    },
    {
     "data": {
      "text/plain": [
       "{'elementGlobalID': 'ELEMENT_GLOBAL.2.111027',\n",
       " 'gid': 7512,\n",
       " 'nameWInd': 'Paraleptophlebia sticta',\n",
       " 'nameWOInd': 'Paraleptophlebia sticta',\n",
       " 'natureServePairs': '\"cacheDate\"=>\"2017-05-07T18:14:17.098942\",\"elementGlobalID\"=>\"ELEMENT_GLOBAL.2.111027\",\"GlobalStatusRank\"=>\"G1G3\",\"roundedGlobalStatusRankDescription\"=>\"Imperiled\",\"globalStatusLastReviewed\"=>\"2003-12-11\",\"usNationalStatusRankCode\"=>\"N1N3\",\"usNationalStatusLastReviewed\"=>\"2003-12-11\",\"StateCode:Illinois\"=>\"SNR\",\"StateCode:Indiana\"=>\"SNR\"'}"
      ]
     },
     "metadata": {},
     "output_type": "display_data"
    },
    {
     "data": {
      "text/plain": [
       "{'elementGlobalID': 'ELEMENT_GLOBAL.2.107438',\n",
       " 'gid': 11378,\n",
       " 'nameWInd': 'Hygrotus fontinalis',\n",
       " 'nameWOInd': 'Hygrotus fontinalis',\n",
       " 'natureServePairs': '\"cacheDate\"=>\"2017-05-07T18:14:19.967550\",\"elementGlobalID\"=>\"ELEMENT_GLOBAL.2.107438\",\"GlobalStatusRank\"=>\"G1\",\"roundedGlobalStatusRankDescription\"=>\"Critically Imperiled\",\"globalStatusLastReviewed\"=>\"1989-04-28\",\"usNationalStatusRankCode\"=>\"NNR\",\"usNationalStatusLastReviewed\"=>\"Unknown\",\"StateCode:California\"=>\"S1\"'}"
      ]
     },
     "metadata": {},
     "output_type": "display_data"
    },
    {
     "data": {
      "text/plain": [
       "{'elementGlobalID': 'ELEMENT_GLOBAL.2.104443',\n",
       " 'gid': 690,\n",
       " 'nameWInd': 'Calamospiza melanocorys',\n",
       " 'nameWOInd': 'Calamospiza melanocorys',\n",
       " 'natureServePairs': '\"cacheDate\"=>\"2017-05-07T18:14:22.835179\",\"elementGlobalID\"=>\"ELEMENT_GLOBAL.2.104443\",\"GlobalStatusRank\"=>\"G5\",\"roundedGlobalStatusRankDescription\"=>\"Secure\",\"globalStatusLastReviewed\"=>\"2016-04-06\",\"usNationalStatusRankCode\"=>\"N5B,N5N\",\"usNationalStatusLastReviewed\"=>\"1997-01-05\",\"StateCode:Arizona\"=>\"S1B,S5N\",\"StateCode:California\"=>\"SNRN\",\"StateCode:Colorado\"=>\"S4\",\"StateCode:Idaho\"=>\"S2B\",\"StateCode:Kansas\"=>\"S5B\",\"StateCode:Minnesota\"=>\"SHB,SNRM\",\"StateCode:Montana\"=>\"S4B\",\"StateCode:Nebraska\"=>\"S5\",\"StateCode:New Mexico\"=>\"S3B,S5N\",\"StateCode:New York\"=>\"SNRN\",\"StateCode:North Dakota\"=>\"SNRB\",\"StateCode:Oklahoma\"=>\"S1S2\",\"StateCode:South Dakota\"=>\"S5B\",\"StateCode:Texas\"=>\"S4B\",\"StateCode:Utah\"=>\"S2S3B\",\"StateCode:Washington\"=>\"SNA\",\"StateCode:Wyoming\"=>\"S4B\"'}"
      ]
     },
     "metadata": {},
     "output_type": "display_data"
    },
    {
     "data": {
      "text/plain": [
       "{'elementGlobalID': 'ELEMENT_GLOBAL.2.101492',\n",
       " 'gid': 6062,\n",
       " 'nameWInd': 'Etheostoma rupestre',\n",
       " 'nameWOInd': 'Etheostoma rupestre',\n",
       " 'natureServePairs': '\"cacheDate\"=>\"2017-05-07T18:14:26.951078\",\"elementGlobalID\"=>\"ELEMENT_GLOBAL.2.101492\",\"GlobalStatusRank\"=>\"G4\",\"roundedGlobalStatusRankDescription\"=>\"Apparently Secure\",\"globalStatusLastReviewed\"=>\"2012-01-19\",\"usNationalStatusRankCode\"=>\"N4\",\"usNationalStatusLastReviewed\"=>\"1996-12-05\",\"StateCode:Alabama\"=>\"S4\",\"StateCode:Georgia\"=>\"S2\",\"StateCode:Mississippi\"=>\"S3\",\"StateCode:Tennessee\"=>\"S3\"'}"
      ]
     },
     "metadata": {},
     "output_type": "display_data"
    },
    {
     "data": {
      "text/plain": [
       "{'elementGlobalID': 'ELEMENT_GLOBAL.2.145444',\n",
       " 'gid': 16151,\n",
       " 'nameWInd': 'Isodendrion pyrifolium',\n",
       " 'nameWOInd': 'Isodendrion pyrifolium',\n",
       " 'natureServePairs': '\"cacheDate\"=>\"2017-05-07T18:14:29.795975\",\"elementGlobalID\"=>\"ELEMENT_GLOBAL.2.145444\",\"GlobalStatusRank\"=>\"G1\",\"roundedGlobalStatusRankDescription\"=>\"Critically Imperiled\",\"globalStatusLastReviewed\"=>\"1995-01-24\",\"usNationalStatusRankCode\"=>\"N1\",\"usNationalStatusLastReviewed\"=>\"Unknown\",\"StateCode:Hawaii\"=>\"S1\"'}"
      ]
     },
     "metadata": {},
     "output_type": "display_data"
    },
    {
     "data": {
      "text/plain": [
       "{'elementGlobalID': 'ELEMENT_GLOBAL.2.104886',\n",
       " 'gid': 2309,\n",
       " 'nameWInd': 'Hybopsis hypsinotus',\n",
       " 'nameWOInd': 'Hybopsis hypsinotus',\n",
       " 'natureServePairs': '\"cacheDate\"=>\"2017-05-07T18:14:32.529705\",\"elementGlobalID\"=>\"ELEMENT_GLOBAL.2.104886\",\"GlobalStatusRank\"=>\"G4\",\"roundedGlobalStatusRankDescription\"=>\"Apparently Secure\",\"globalStatusLastReviewed\"=>\"2012-02-16\",\"usNationalStatusRankCode\"=>\"N4\",\"usNationalStatusLastReviewed\"=>\"1996-12-05\",\"StateCode:North Carolina\"=>\"S4\",\"StateCode:South Carolina\"=>\"SNR\",\"StateCode:Virginia\"=>\"S2\"'}"
      ]
     },
     "metadata": {},
     "output_type": "display_data"
    },
    {
     "data": {
      "text/plain": [
       "{'elementGlobalID': 'none',\n",
       " 'gid': 5246,\n",
       " 'nameWInd': 'Calidris ptilocnemis tschuktschorum',\n",
       " 'nameWOInd': 'Calidris ptilocnemis tschuktschorum',\n",
       " 'natureServePairs': '\"cacheDate\"=>\"2017-05-07T18:14:35.530331\",\"elementGlobalID\"=>\"none\",\"status\"=>\"Not Found\"'}"
      ]
     },
     "metadata": {},
     "output_type": "display_data"
    },
    {
     "data": {
      "text/plain": [
       "{'elementGlobalID': 'ELEMENT_GLOBAL.2.112072',\n",
       " 'gid': 2311,\n",
       " 'nameWInd': 'Hydraecia immanis',\n",
       " 'nameWOInd': 'Hydraecia immanis',\n",
       " 'natureServePairs': '\"cacheDate\"=>\"2017-05-07T18:14:37.577983\",\"elementGlobalID\"=>\"ELEMENT_GLOBAL.2.112072\",\"GlobalStatusRank\"=>\"G4\",\"roundedGlobalStatusRankDescription\"=>\"Apparently Secure\",\"globalStatusLastReviewed\"=>\"2002-05-31\",\"usNationalStatusRankCode\"=>\"NNR\",\"usNationalStatusLastReviewed\"=>\"Unknown\",\"StateCode:Connecticut\"=>\"SH\",\"StateCode:Illinois\"=>\"SNR\",\"StateCode:Massachusetts\"=>\"SX\",\"StateCode:New Hampshire\"=>\"SU\",\"StateCode:New Jersey\"=>\"SU\",\"StateCode:Pennsylvania\"=>\"SU\",\"StateCode:Wisconsin\"=>\"SNR\"'}"
      ]
     },
     "metadata": {},
     "output_type": "display_data"
    },
    {
     "data": {
      "text/plain": [
       "{'elementGlobalID': 'ELEMENT_GLOBAL.2.135261',\n",
       " 'gid': 7612,\n",
       " 'nameWInd': 'Penstemon guadalupensis',\n",
       " 'nameWOInd': 'Penstemon guadalupensis',\n",
       " 'natureServePairs': '\"cacheDate\"=>\"2017-05-07T18:14:40.600055\",\"elementGlobalID\"=>\"ELEMENT_GLOBAL.2.135261\",\"GlobalStatusRank\"=>\"G3\",\"roundedGlobalStatusRankDescription\"=>\"Vulnerable\",\"globalStatusLastReviewed\"=>\"1999-03-25\",\"usNationalStatusRankCode\"=>\"N3\",\"usNationalStatusLastReviewed\"=>\"Unknown\",\"StateCode:Texas\"=>\"S3\"'}"
      ]
     },
     "metadata": {},
     "output_type": "display_data"
    },
    {
     "data": {
      "text/plain": [
       "{'elementGlobalID': 'ELEMENT_GLOBAL.2.130151',\n",
       " 'gid': 16601,\n",
       " 'nameWInd': 'Perrottetia sandwicensis',\n",
       " 'nameWOInd': 'Perrottetia sandwicensis',\n",
       " 'natureServePairs': '\"cacheDate\"=>\"2017-05-07T18:14:43.300836\",\"elementGlobalID\"=>\"ELEMENT_GLOBAL.2.130151\",\"GlobalStatusRank\"=>\"G3\",\"roundedGlobalStatusRankDescription\"=>\"Vulnerable\",\"globalStatusLastReviewed\"=>\"2004-05-07\",\"usNationalStatusRankCode\"=>\"N3\",\"usNationalStatusLastReviewed\"=>\"2004-01-05\",\"StateCode:Hawaii\"=>\"S3\"'}"
      ]
     },
     "metadata": {},
     "output_type": "display_data"
    },
    {
     "data": {
      "text/plain": [
       "{'elementGlobalID': 'ELEMENT_GLOBAL.2.101815',\n",
       " 'gid': 5452,\n",
       " 'nameWInd': 'Chen caerulescens',\n",
       " 'nameWOInd': 'Chen caerulescens',\n",
       " 'natureServePairs': '\"cacheDate\"=>\"2017-05-07T18:14:46.180402\",\"elementGlobalID\"=>\"ELEMENT_GLOBAL.2.101815\",\"GlobalStatusRank\"=>\"G5\",\"roundedGlobalStatusRankDescription\"=>\"Secure\",\"globalStatusLastReviewed\"=>\"2016-04-07\",\"usNationalStatusRankCode\"=>\"N5B,N5N\",\"usNationalStatusLastReviewed\"=>\"1997-03-19\",\"StateCode:Alabama\"=>\"S3N\",\"StateCode:Alaska\"=>\"S5B\",\"StateCode:Arizona\"=>\"S3N\",\"StateCode:Arkansas\"=>\"S5N\",\"StateCode:California\"=>\"SNRN\",\"StateCode:Colorado\"=>\"S4N\",\"StateCode:Connecticut\"=>\"SNA\",\"StateCode:Delaware\"=>\"S5N\",\"StateCode:District of Columbia\"=>\"S2N\",\"StateCode:Florida\"=>\"SNRN\",\"StateCode:Georgia\"=>\"S3\",\"StateCode:Idaho\"=>\"SNA\",\"StateCode:Illinois\"=>\"SNA\",\"StateCode:Indiana\"=>\"SNA\",\"StateCode:Iowa\"=>\"S5N\",\"StateCode:Kansas\"=>\"S4N\",\"StateCode:Kentucky\"=>\"S3S4N\",\"StateCode:Louisiana\"=>\"S5N\",\"StateCode:Maine\"=>\"S3N\",\"StateCode:Maryland\"=>\"S4N\",\"StateCode:Massachusetts\"=>\"S4N\",\"StateCode:Michigan\"=>\"SNRN\",\"StateCode:Minnesota\"=>\"SNRM\",\"StateCode:Mississippi\"=>\"SNA\",\"StateCode:Missouri\"=>\"SNRN,SNRM\",\"StateCode:Montana\"=>\"S4N\",\"StateCode:Navajo Nation\"=>\"S3N\",\"StateCode:Nebraska\"=>\"SNRN\",\"StateCode:Nevada\"=>\"S4N\",\"StateCode:New Hampshire\"=>\"SNA\",\"StateCode:New Jersey\"=>\"S4N\",\"StateCode:New Mexico\"=>\"S5N\",\"StateCode:New York\"=>\"SNRN\",\"StateCode:North Carolina\"=>\"S4N\",\"StateCode:North Dakota\"=>\"SNRM\",\"StateCode:Ohio\"=>\"SNRN\",\"StateCode:Oklahoma\"=>\"S5N\",\"StateCode:Oregon\"=>\"S4N\",\"StateCode:Pennsylvania\"=>\"S2N\",\"StateCode:Rhode Island\"=>\"SNA\",\"StateCode:South Carolina\"=>\"SNRN\",\"StateCode:South Dakota\"=>\"SNA\",\"StateCode:Tennessee\"=>\"S4N\",\"StateCode:Texas\"=>\"S5\",\"StateCode:Utah\"=>\"SNA\",\"StateCode:Vermont\"=>\"SNA\",\"StateCode:Virginia\"=>\"SNRN\",\"StateCode:Washington\"=>\"S3N\",\"StateCode:West Virginia\"=>\"S2N\",\"StateCode:Wisconsin\"=>\"SNA\",\"StateCode:Wyoming\"=>\"S5N\"'}"
      ]
     },
     "metadata": {},
     "output_type": "display_data"
    },
    {
     "data": {
      "text/plain": [
       "{'elementGlobalID': 'ELEMENT_GLOBAL.2.111841',\n",
       " 'gid': 16658,\n",
       " 'nameWInd': 'Physella gyrina',\n",
       " 'nameWOInd': 'Physella gyrina',\n",
       " 'natureServePairs': '\"cacheDate\"=>\"2017-05-07T18:14:49.458292\",\"elementGlobalID\"=>\"ELEMENT_GLOBAL.2.111841\",\"status\"=>\"error\"'}"
      ]
     },
     "metadata": {},
     "output_type": "display_data"
    },
    {
     "data": {
      "text/plain": [
       "{'elementGlobalID': 'ELEMENT_GLOBAL.2.103928',\n",
       " 'gid': 7513,\n",
       " 'nameWInd': 'Paralichthys albigutta',\n",
       " 'nameWOInd': 'Paralichthys albigutta',\n",
       " 'natureServePairs': '\"cacheDate\"=>\"2017-05-07T18:14:51.914830\",\"elementGlobalID\"=>\"ELEMENT_GLOBAL.2.103928\",\"GlobalStatusRank\"=>\"G5\",\"roundedGlobalStatusRankDescription\"=>\"Secure\",\"globalStatusLastReviewed\"=>\"1997-01-01\",\"usNationalStatusRankCode\"=>\"N5\",\"usNationalStatusLastReviewed\"=>\"1996-09-05\",\"StateCode:Louisiana\"=>\"S4\"'}"
      ]
     },
     "metadata": {},
     "output_type": "display_data"
    },
    {
     "data": {
      "text/plain": [
       "{'elementGlobalID': 'ELEMENT_GLOBAL.23.30707',\n",
       " 'gid': 11381,\n",
       " 'nameWInd': 'Hylaeus formosus',\n",
       " 'nameWOInd': 'Hylaeus formosus',\n",
       " 'natureServePairs': '\"cacheDate\"=>\"2017-05-07T18:14:54.467095\",\"elementGlobalID\"=>\"ELEMENT_GLOBAL.23.30707\",\"GlobalStatusRank\"=>\"G2G4\",\"roundedGlobalStatusRankDescription\"=>\"Vulnerable\",\"globalStatusLastReviewed\"=>\"2009-05-05\",\"usNationalStatusRankCode\"=>\"N1\",\"usNationalStatusLastReviewed\"=>\"2009-05-05\",\"StateCode:Florida\"=>\"S1\"'}"
      ]
     },
     "metadata": {},
     "output_type": "display_data"
    },
    {
     "data": {
      "text/plain": [
       "{'elementGlobalID': 'ELEMENT_GLOBAL.2.110131',\n",
       " 'gid': 2312,\n",
       " 'nameWInd': 'Hydraecia stramentosa',\n",
       " 'nameWOInd': 'Hydraecia stramentosa',\n",
       " 'natureServePairs': '\"cacheDate\"=>\"2017-05-07T18:14:57.240421\",\"elementGlobalID\"=>\"ELEMENT_GLOBAL.2.110131\",\"GlobalStatusRank\"=>\"G4\",\"roundedGlobalStatusRankDescription\"=>\"Apparently Secure\",\"globalStatusLastReviewed\"=>\"2002-05-31\",\"usNationalStatusRankCode\"=>\"NNR\",\"usNationalStatusLastReviewed\"=>\"Unknown\",\"StateCode:New Jersey\"=>\"SU\",\"StateCode:New York\"=>\"S1S3\",\"StateCode:Pennsylvania\"=>\"SU\",\"StateCode:Virginia\"=>\"S2S4\",\"StateCode:Wisconsin\"=>\"SNR\"'}"
      ]
     },
     "metadata": {},
     "output_type": "display_data"
    },
    {
     "data": {
      "text/plain": [
       "{'elementGlobalID': 'ELEMENT_GLOBAL.2.107247',\n",
       " 'gid': 11464,\n",
       " 'nameWInd': 'Isoperla szczytkoi',\n",
       " 'nameWOInd': 'Isoperla szczytkoi',\n",
       " 'natureServePairs': '\"cacheDate\"=>\"2017-05-07T18:15:00.516592\",\"elementGlobalID\"=>\"ELEMENT_GLOBAL.2.107247\",\"GlobalStatusRank\"=>\"G1\",\"roundedGlobalStatusRankDescription\"=>\"Critically Imperiled\",\"globalStatusLastReviewed\"=>\"1999-09-20\",\"usNationalStatusRankCode\"=>\"N1\",\"usNationalStatusLastReviewed\"=>\"1999-09-20\",\"StateCode:Arkansas\"=>\"S1\"'}"
      ]
     },
     "metadata": {},
     "output_type": "display_data"
    }
   ],
   "source": [
    "for feature in itisNames[\"features\"]:\n",
    "    thisRecord = {}\n",
    "    thisRecord[\"gid\"] = feature[\"properties\"][\"gid\"]\n",
    "    thisRecord[\"nameWOInd\"] = feature[\"properties\"][\"namewoind\"]\n",
    "    thisRecord[\"nameWInd\"] = feature[\"properties\"][\"namewind\"]\n",
    "    \n",
    "    # Try to find a NatureServe ID with nameWOInd\n",
    "    thisRecord[\"elementGlobalID\"] = queryNatureServeID(thisRecord[\"nameWOInd\"])\n",
    "    \n",
    "    # Try to find a NatureServe ID with nameWInd if possible\n",
    "    if thisRecord[\"elementGlobalID\"] == \"none\" and thisRecord[\"nameWInd\"] != thisRecord[\"nameWOInd\"]:\n",
    "        thisRecord[\"elementGlobalID\"] = queryNatureServeID(thisRecord[\"nameWInd\"])\n",
    "\n",
    "    # Run the function to query and pacage NatureServe key/value pairs\n",
    "    thisRecord[\"natureServePairs\"] = packageNatureServePairs(thisRecord[\"elementGlobalID\"])\n",
    "\n",
    "    # Display the record, cache results, and show query status\n",
    "    display (thisRecord)\n",
    "    print (cacheToTIR(thisRecord[\"gid\"],\"natureserve\",thisRecord[\"natureServePairs\"]))"
   ]
  },
  {
   "cell_type": "code",
   "execution_count": null,
   "metadata": {
    "collapsed": true,
    "deletable": true,
    "editable": true
   },
   "outputs": [],
   "source": []
  }
 ],
 "metadata": {
  "kernelspec": {
   "display_name": "Python 3",
   "language": "python",
   "name": "python3"
  },
  "language_info": {
   "codemirror_mode": {
    "name": "ipython",
    "version": 3
   },
   "file_extension": ".py",
   "mimetype": "text/x-python",
   "name": "python",
   "nbconvert_exporter": "python",
   "pygments_lexer": "ipython3",
   "version": "3.5.3"
  }
 },
 "nbformat": 4,
 "nbformat_minor": 0
}
