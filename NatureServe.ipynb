{
 "cells": [
  {
   "cell_type": "markdown",
   "metadata": {
    "deletable": true,
    "editable": true
   },
   "source": [
    "This notebook uses submitted scientific names and taxon-mathed names from ITIS, looks for those names from the NatureServe species services, and returns key/value pairs for caching in the Taxonomic Information Registry and use within our systems. It is set up to loop the entire TIR for everything without NatureServe data until finished (with a safeguard on total records processed). We eventually need to deal with the issue of whether or not we need to cache this information over time or flush and rebuild our cache periodically."
   ]
  },
  {
   "cell_type": "code",
   "execution_count": 6,
   "metadata": {
    "collapsed": true,
    "deletable": true,
    "editable": true
   },
   "outputs": [],
   "source": [
    "import requests\n",
    "from IPython.display import display\n",
    "from bis import natureserve\n",
    "from bis import tir\n",
    "from bis2 import gc2\n",
    "from bis2 import natureserve as natureservekeys"
   ]
  },
  {
   "cell_type": "code",
   "execution_count": 7,
   "metadata": {
    "collapsed": false,
    "deletable": true,
    "editable": true
   },
   "outputs": [
    {
     "data": {
      "text/plain": [
       "{'elementGlobalID': 'ELEMENT_GLOBAL.2.100745',\n",
       " 'id': 20993,\n",
       " 'nameWInd': 'Ammocrypta pellucida',\n",
       " 'nameWOInd': 'Ammocrypta pellucida',\n",
       " 'natureServePairs': '\"cacheDate\"=>\"2017-06-28T16:49:10.279026\",\"elementGlobalID\"=>\"ELEMENT_GLOBAL.2.100745\",\"GlobalStatusRank\"=>\"G4\",\"roundedGlobalStatusRankDescription\"=>\"Apparently Secure\",\"globalStatusLastReviewed\"=>\"2011-10-19\",\"usNationalStatusRankCode\"=>\"N4\",\"usNationalStatusRoundedRankDescription\"=>\"Apparently Secure\",\"usNationalStatusLastReviewed\"=>\"2009-08-30\",\"StateCode:Illinois\"=>\"S1\",\"StateStatus:Illinois\"=>\"Critically Imperiled\",\"StateCode:Indiana\"=>\"S4\",\"StateStatus:Indiana\"=>\"Apparently Secure\",\"StateCode:Kentucky\"=>\"S4\",\"StateStatus:Kentucky\"=>\"Apparently Secure\",\"StateCode:Michigan\"=>\"S1S2\",\"StateStatus:Michigan\"=>\"Critically Imperiled\",\"StateCode:New York\"=>\"S2\",\"StateStatus:New York\"=>\"Imperiled\",\"StateCode:Ohio\"=>\"S3\",\"StateStatus:Ohio\"=>\"Vulnerable\",\"StateCode:Pennsylvania\"=>\"S1\",\"StateStatus:Pennsylvania\"=>\"Critically Imperiled\",\"StateCode:Vermont\"=>\"S1\",\"StateStatus:Vermont\"=>\"Critically Imperiled\",\"StateCode:West Virginia\"=>\"S3\",\"StateStatus:West Virginia\"=>\"Vulnerable\"',\n",
       " 'scientificname': 'Ammocrypta pellucidum',\n",
       " 'tryNames': ['Ammocrypta pellucidum', 'Ammocrypta pellucida']}"
      ]
     },
     "metadata": {},
     "output_type": "display_data"
    },
    {
     "name": "stdout",
     "output_type": "stream",
     "text": [
      "{'success': True, 'auth_check': {'success': True, 'auth_level': None, 'session': None}, '_execution_time': 0.068, 'affected_rows': 1}\n"
     ]
    },
    {
     "data": {
      "text/plain": [
       "{'elementGlobalID': 'ELEMENT_GLOBAL.2.106359',\n",
       " 'id': 35808,\n",
       " 'nameWInd': 'Spilogale putorius interrupta',\n",
       " 'nameWOInd': 'Spilogale putorius interrupta',\n",
       " 'natureServePairs': '\"cacheDate\"=>\"2017-06-28T16:49:16.162741\",\"elementGlobalID\"=>\"ELEMENT_GLOBAL.2.106359\",\"GlobalStatusRank\"=>\"G4T4\",\"roundedGlobalStatusRankDescription\"=>\"Apparently Secure\",\"globalStatusLastReviewed\"=>\"1996-11-18\",\"usNationalStatusRankCode\"=>\"N4\",\"usNationalStatusRoundedRankDescription\"=>\"Apparently Secure\",\"usNationalStatusLastReviewed\"=>\"1997-01-15\",\"StateCode:Arkansas\"=>\"S2?\",\"StateStatus:Arkansas\"=>\"Imperiled\",\"StateCode:Colorado\"=>\"S2\",\"StateStatus:Colorado\"=>\"Imperiled\",\"StateCode:Minnesota\"=>\"S2\",\"StateStatus:Minnesota\"=>\"Imperiled\",\"StateCode:Missouri\"=>\"S1\",\"StateStatus:Missouri\"=>\"Critically Imperiled\"',\n",
       " 'scientificname': 'Spilogale putorius interrupta',\n",
       " 'tryNames': ['Spilogale putorius interrupta']}"
      ]
     },
     "metadata": {},
     "output_type": "display_data"
    },
    {
     "name": "stdout",
     "output_type": "stream",
     "text": [
      "{'success': True, 'auth_check': {'success': True, 'auth_level': None, 'session': None}, '_execution_time': 0.068, 'affected_rows': 1}\n"
     ]
    },
    {
     "data": {
      "text/plain": [
       "{'elementGlobalID': 'ELEMENT_GLOBAL.2.131565',\n",
       " 'id': 30164,\n",
       " 'nameWInd': 'Microseris howellii',\n",
       " 'nameWOInd': 'Microseris howellii',\n",
       " 'natureServePairs': '\"cacheDate\"=>\"2017-06-28T16:49:21.096402\",\"elementGlobalID\"=>\"ELEMENT_GLOBAL.2.131565\",\"GlobalStatusRank\"=>\"G3\",\"roundedGlobalStatusRankDescription\"=>\"Vulnerable\",\"globalStatusLastReviewed\"=>\"1997-11-18\",\"usNationalStatusRankCode\"=>\"N3\",\"usNationalStatusRoundedRankDescription\"=>\"Vulnerable\",\"usNationalStatusLastReviewed\"=>\"Unknown\",\"StateCode:Oregon\"=>\"S3\",\"StateStatus:Oregon\"=>\"Vulnerable\"',\n",
       " 'scientificname': 'Microseris howellii',\n",
       " 'tryNames': ['Microseris howellii']}"
      ]
     },
     "metadata": {},
     "output_type": "display_data"
    },
    {
     "name": "stdout",
     "output_type": "stream",
     "text": [
      "{'success': True, 'auth_check': {'success': True, 'auth_level': None, 'session': None}, '_execution_time': 0.066, 'affected_rows': 1}\n"
     ]
    },
    {
     "data": {
      "text/plain": [
       "{'elementGlobalID': 'ELEMENT_GLOBAL.2.104195',\n",
       " 'id': 34418,\n",
       " 'nameWInd': 'Relictus solitarius',\n",
       " 'nameWOInd': 'Relictus solitarius',\n",
       " 'natureServePairs': '\"cacheDate\"=>\"2017-06-28T16:49:25.379730\",\"elementGlobalID\"=>\"ELEMENT_GLOBAL.2.104195\",\"GlobalStatusRank\"=>\"G2G3\",\"roundedGlobalStatusRankDescription\"=>\"Imperiled\",\"globalStatusLastReviewed\"=>\"2012-04-25\",\"usNationalStatusRankCode\"=>\"N2N3\",\"usNationalStatusRoundedRankDescription\"=>\"Imperiled\",\"usNationalStatusLastReviewed\"=>\"1998-08-06\",\"StateCode:Nevada\"=>\"S2S3\",\"StateStatus:Nevada\"=>\"Imperiled\"',\n",
       " 'scientificname': 'Relictus solitarius',\n",
       " 'tryNames': ['Relictus solitarius']}"
      ]
     },
     "metadata": {},
     "output_type": "display_data"
    },
    {
     "name": "stdout",
     "output_type": "stream",
     "text": [
      "{'success': True, 'auth_check': {'success': True, 'auth_level': None, 'session': None}, '_execution_time': 0.066, 'affected_rows': 1}\n"
     ]
    },
    {
     "data": {
      "text/plain": [
       "{'elementGlobalID': 'ELEMENT_GLOBAL.2.108859',\n",
       " 'id': 31199,\n",
       " 'nameWInd': 'Oligia bridghamii',\n",
       " 'nameWOInd': 'Oligia bridghamii',\n",
       " 'natureServePairs': '\"cacheDate\"=>\"2017-06-28T16:49:29.171758\",\"elementGlobalID\"=>\"ELEMENT_GLOBAL.2.108859\",\"GlobalStatusRank\"=>\"G4\",\"roundedGlobalStatusRankDescription\"=>\"Apparently Secure\",\"globalStatusLastReviewed\"=>\"2002-05-31\",\"usNationalStatusLastReviewed\"=>\"Unknown\",\"StateCode:Indiana\"=>\"S1\",\"StateStatus:Indiana\"=>\"Critically Imperiled\"',\n",
       " 'scientificname': 'Oligia bridghami',\n",
       " 'tryNames': ['Oligia bridghami', 'Oligia bridghamii']}"
      ]
     },
     "metadata": {},
     "output_type": "display_data"
    },
    {
     "name": "stdout",
     "output_type": "stream",
     "text": [
      "{'success': True, 'auth_check': {'success': True, 'auth_level': None, 'session': None}, '_execution_time': 0.066, 'affected_rows': 1}\n"
     ]
    },
    {
     "data": {
      "text/plain": [
       "{'elementGlobalID': 'ELEMENT_GLOBAL.2.816980',\n",
       " 'id': 22113,\n",
       " 'nameWInd': None,\n",
       " 'nameWOInd': None,\n",
       " 'natureServePairs': '\"cacheDate\"=>\"2017-06-28T16:49:33.549576\",\"elementGlobalID\"=>\"ELEMENT_GLOBAL.2.816980\",\"status\"=>\"error\"',\n",
       " 'scientificname': 'Berula erecta var. incisum',\n",
       " 'tryNames': ['Berula erecta var. incisum']}"
      ]
     },
     "metadata": {},
     "output_type": "display_data"
    },
    {
     "name": "stdout",
     "output_type": "stream",
     "text": [
      "{'success': True, 'auth_check': {'success': True, 'auth_level': None, 'session': None}, '_execution_time': 0.065, 'affected_rows': 1}\n"
     ]
    }
   ],
   "source": [
    "# Set up the actions/targets for this particular instance\n",
    "thisRun = {}\n",
    "thisRun[\"instance\"] = \"DataDistillery\"\n",
    "thisRun[\"db\"] = \"BCB\"\n",
    "thisRun[\"baseURL\"] = gc2.sqlAPI(thisRun[\"instance\"],thisRun[\"db\"])\n",
    "thisRun[\"commitToDB\"] = True\n",
    "thisRun[\"totalRecordsToProcess\"] = 5\n",
    "thisRun[\"totalRecordsProcessed\"] = 0\n",
    "\n",
    "numberWithoutTIRData = 1\n",
    "\n",
    "while numberWithoutTIRData == 1 and thisRun[\"totalRecordsProcessed\"] <= thisRun[\"totalRecordsToProcess\"]:\n",
    "\n",
    "    q_recordToSearch = \"SELECT id, \\\n",
    "        registration->'scientificname' AS scientificname, \\\n",
    "        itis->'nameWInd' AS namewind, \\\n",
    "        itis->'nameWOInd' AS namewoind \\\n",
    "        FROM tir.tir \\\n",
    "        WHERE natureserve IS NULL \\\n",
    "        LIMIT 1\"\n",
    "    recordToSearch  = requests.get(thisRun[\"baseURL\"]+\"&q=\"+q_recordToSearch).json()\n",
    "    \n",
    "    numberWithoutTIRData = len(recordToSearch[\"features\"])\n",
    "    \n",
    "    if numberWithoutTIRData == 1:\n",
    "        tirRecord = recordToSearch[\"features\"][0]\n",
    "\n",
    "        thisRecord = {}\n",
    "        thisRecord[\"id\"] = tirRecord[\"properties\"][\"id\"]\n",
    "        thisRecord[\"scientificname\"] = tirRecord[\"properties\"][\"scientificname\"]\n",
    "        thisRecord[\"nameWOInd\"] = tirRecord[\"properties\"][\"namewoind\"]\n",
    "        thisRecord[\"nameWInd\"] = tirRecord[\"properties\"][\"namewind\"]\n",
    "\n",
    "        thisRecord[\"tryNames\"] = []\n",
    "        thisRecord[\"tryNames\"].append(thisRecord[\"scientificname\"])\n",
    "        if thisRecord[\"nameWInd\"] is not None and thisRecord[\"nameWInd\"] not in thisRecord[\"tryNames\"]:\n",
    "            thisRecord[\"tryNames\"].append(thisRecord[\"nameWInd\"])\n",
    "        if thisRecord[\"nameWOInd\"] is not None and thisRecord[\"nameWOInd\"] not in thisRecord[\"tryNames\"]:\n",
    "            thisRecord[\"tryNames\"].append(thisRecord[\"nameWOInd\"])\n",
    "        \n",
    "        for name in thisRecord[\"tryNames\"]:\n",
    "            thisRecord[\"elementGlobalID\"] = natureserve.queryNatureServeID(name)\n",
    "            if thisRecord[\"elementGlobalID\"] != \"none\":\n",
    "                break\n",
    "\n",
    "        # Run the function to query and pacage NatureServe key/value pairs\n",
    "        thisRecord[\"natureServePairs\"] = natureserve.packageNatureServePairs(natureservekeys.speciesAPI(),thisRecord[\"elementGlobalID\"])\n",
    "\n",
    "        # Display the record, cache results, and show query status\n",
    "        display (thisRecord)\n",
    "        if thisRun[\"commitToDB\"]:\n",
    "            print (tir.cacheToTIR(thisRun[\"baseURL\"],thisRecord[\"id\"],\"natureserve\",thisRecord[\"natureServePairs\"]))\n",
    "        thisRun[\"totalRecordsProcessed\"] = thisRun[\"totalRecordsProcessed\"] + 1\n"
   ]
  },
  {
   "cell_type": "code",
   "execution_count": null,
   "metadata": {
    "collapsed": true,
    "deletable": true,
    "editable": true
   },
   "outputs": [],
   "source": []
  }
 ],
 "metadata": {
  "kernelspec": {
   "display_name": "Python 3",
   "language": "python",
   "name": "python3"
  },
  "language_info": {
   "codemirror_mode": {
    "name": "ipython",
    "version": 3
   },
   "file_extension": ".py",
   "mimetype": "text/x-python",
   "name": "python",
   "nbconvert_exporter": "python",
   "pygments_lexer": "ipython3",
   "version": "3.5.3"
  }
 },
 "nbformat": 4,
 "nbformat_minor": 0
}
