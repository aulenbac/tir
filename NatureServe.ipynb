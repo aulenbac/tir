{
 "cells": [
  {
   "cell_type": "markdown",
   "metadata": {
    "deletable": true,
    "editable": true
   },
   "source": [
    "This notebook uses taxon names from ITIS matches, looks for those names from the NatureServe species services, and returns key/value pairs for caching in the Taxonomic Information Registry and using in our systems."
   ]
  },
  {
   "cell_type": "code",
   "execution_count": 1,
   "metadata": {
    "collapsed": true,
    "deletable": true,
    "editable": true
   },
   "outputs": [],
   "source": [
    "import requests\n",
    "from IPython.display import display\n",
    "from bis import natureserve\n",
    "from bis import tir\n",
    "from bis2 import gc2\n",
    "from bis2 import natureserve as natureservekeys"
   ]
  },
  {
   "cell_type": "markdown",
   "metadata": {
    "deletable": true,
    "editable": true
   },
   "source": [
    "### Get data to process\n",
    "Right now, we run this against ITIS names where the NatureServe information is null. In future, we need to work out how we run this periodically to refresh the cache and what we do with the previous data returned from the service."
   ]
  },
  {
   "cell_type": "code",
   "execution_count": 2,
   "metadata": {
    "collapsed": false,
    "deletable": true,
    "editable": true
   },
   "outputs": [],
   "source": [
    "q_itisNames = \"SELECT id, \\\n",
    "    itis->'nameWInd' AS namewind, \\\n",
    "    itis->'nameWOInd' AS namewoind \\\n",
    "    FROM tir.tir \\\n",
    "    WHERE natureserve IS NULL AND itis->'itisMatchMethod' NOT LIKE 'NotMatched%' \\\n",
    "    LIMIT 10\"\n",
    "itisNames = requests.get(gc2.sqlAPI(\"DataDistillery\",\"BCB\")+\"&q=\"+q_itisNames).json()\n"
   ]
  },
  {
   "cell_type": "markdown",
   "metadata": {
    "deletable": true,
    "editable": true
   },
   "source": [
    "### Loop through the names and run the functions\n",
    "We set up a local record to house everything, run the functions, and update results in the TIR. If necessary and applicable, we try both the nameWOInd and nameWInd values from ITIS."
   ]
  },
  {
   "cell_type": "code",
   "execution_count": 3,
   "metadata": {
    "collapsed": false,
    "deletable": true,
    "editable": true
   },
   "outputs": [
    {
     "data": {
      "text/plain": [
       "{'elementGlobalID': 'ELEMENT_GLOBAL.2.104998',\n",
       " 'id': 944,\n",
       " 'nameWInd': 'Otus flammeolus',\n",
       " 'nameWOInd': 'Otus flammeolus',\n",
       " 'natureServePairs': '\"cacheDate\"=>\"2017-06-22T13:47:24.852430\",\"elementGlobalID\"=>\"ELEMENT_GLOBAL.2.104998\",\"GlobalStatusRank\"=>\"G4\",\"roundedGlobalStatusRankDescription\"=>\"Apparently Secure\",\"globalStatusLastReviewed\"=>\"2016-04-09\",\"usNationalStatusRankCode\"=>\"N4B\",\"usNationalStatusLastReviewed\"=>\"1997-03-19\",\"StateCode:Arizona\"=>\"S4\",\"StateCode:California\"=>\"S2S4\",\"StateCode:Colorado\"=>\"S4\",\"StateCode:Idaho\"=>\"S3B\",\"StateCode:Montana\"=>\"S3B\",\"StateCode:Navajo Nation\"=>\"S4B\",\"StateCode:Nevada\"=>\"S4B\",\"StateCode:New Mexico\"=>\"S3B,S3N\",\"StateCode:Oregon\"=>\"S3B\",\"StateCode:South Dakota\"=>\"S1B\",\"StateCode:Texas\"=>\"S3B\",\"StateCode:Utah\"=>\"S3S4B\",\"StateCode:Washington\"=>\"S3B\",\"StateCode:Wyoming\"=>\"S1?\"'}"
      ]
     },
     "metadata": {},
     "output_type": "display_data"
    },
    {
     "data": {
      "text/plain": [
       "{'elementGlobalID': 'none',\n",
       " 'id': 649,\n",
       " 'nameWInd': 'Catostomus',\n",
       " 'nameWOInd': 'Catostomus',\n",
       " 'natureServePairs': '\"cacheDate\"=>\"2017-06-22T13:47:28.273311\",\"elementGlobalID\"=>\"none\",\"status\"=>\"Not Found\"'}"
      ]
     },
     "metadata": {},
     "output_type": "display_data"
    },
    {
     "data": {
      "text/plain": [
       "{'elementGlobalID': 'ELEMENT_GLOBAL.2.104930',\n",
       " 'id': 1141,\n",
       " 'nameWInd': 'Spea intermontana',\n",
       " 'nameWOInd': 'Spea intermontana',\n",
       " 'natureServePairs': '\"cacheDate\"=>\"2017-06-22T13:47:30.346633\",\"elementGlobalID\"=>\"ELEMENT_GLOBAL.2.104930\",\"GlobalStatusRank\"=>\"G5\",\"roundedGlobalStatusRankDescription\"=>\"Secure\",\"globalStatusLastReviewed\"=>\"2016-08-02\",\"usNationalStatusRankCode\"=>\"N5\",\"usNationalStatusLastReviewed\"=>\"1996-11-05\",\"StateCode:Arizona\"=>\"S3\",\"StateCode:California\"=>\"SNR\",\"StateCode:Colorado\"=>\"S3\",\"StateCode:Idaho\"=>\"S4\",\"StateCode:Nevada\"=>\"S4\",\"StateCode:Oregon\"=>\"S5\",\"StateCode:Utah\"=>\"S5\",\"StateCode:Washington\"=>\"S5\",\"StateCode:Wyoming\"=>\"S3\"'}"
      ]
     },
     "metadata": {},
     "output_type": "display_data"
    },
    {
     "data": {
      "text/plain": [
       "{'elementGlobalID': 'ELEMENT_GLOBAL.2.106154',\n",
       " 'id': 865,\n",
       " 'nameWInd': 'Leucosticte australis',\n",
       " 'nameWOInd': 'Leucosticte australis',\n",
       " 'natureServePairs': '\"cacheDate\"=>\"2017-06-22T13:47:34.511005\",\"elementGlobalID\"=>\"ELEMENT_GLOBAL.2.106154\",\"GlobalStatusRank\"=>\"G4\",\"roundedGlobalStatusRankDescription\"=>\"Apparently Secure\",\"globalStatusLastReviewed\"=>\"1996-12-04\",\"usNationalStatusRankCode\"=>\"N4B,N4N\",\"usNationalStatusLastReviewed\"=>\"1997-01-05\",\"StateCode:Colorado\"=>\"S3B,S4N\",\"StateCode:New Mexico\"=>\"S1B,S3N\",\"StateCode:Wyoming\"=>\"S1\"'}"
      ]
     },
     "metadata": {},
     "output_type": "display_data"
    },
    {
     "data": {
      "text/plain": [
       "{'elementGlobalID': 'ELEMENT_GLOBAL.2.101454',\n",
       " 'id': 868,\n",
       " 'nameWInd': 'Lithobates pipiens',\n",
       " 'nameWOInd': 'Lithobates pipiens',\n",
       " 'natureServePairs': '\"cacheDate\"=>\"2017-06-22T13:47:37.688797\",\"elementGlobalID\"=>\"ELEMENT_GLOBAL.2.101454\",\"GlobalStatusRank\"=>\"G5\",\"roundedGlobalStatusRankDescription\"=>\"Secure\",\"globalStatusLastReviewed\"=>\"2016-05-10\",\"usNationalStatusRankCode\"=>\"N5\",\"usNationalStatusLastReviewed\"=>\"1996-11-05\",\"StateCode:Arizona\"=>\"S2\",\"StateCode:California\"=>\"S2\",\"StateCode:Colorado\"=>\"S3\",\"StateCode:Connecticut\"=>\"S2\",\"StateCode:Idaho\"=>\"S2\",\"StateCode:Illinois\"=>\"S5\",\"StateCode:Indiana\"=>\"S2\",\"StateCode:Iowa\"=>\"S5\",\"StateCode:Kentucky\"=>\"S3\",\"StateCode:Maine\"=>\"S3\",\"StateCode:Maryland\"=>\"S4\",\"StateCode:Massachusetts\"=>\"S3S4\",\"StateCode:Michigan\"=>\"S5\",\"StateCode:Minnesota\"=>\"S4\",\"StateCode:Missouri\"=>\"S2\",\"StateCode:Montana\"=>\"S1,S4\",\"StateCode:Navajo Nation\"=>\"S2\",\"StateCode:Nebraska\"=>\"S5\",\"StateCode:Nevada\"=>\"S2S3\",\"StateCode:New Hampshire\"=>\"S3\",\"StateCode:New Jersey\"=>\"SNR\",\"StateCode:New Mexico\"=>\"S1\",\"StateCode:New York\"=>\"S5\",\"StateCode:North Dakota\"=>\"SNR\",\"StateCode:Ohio\"=>\"SNR\",\"StateCode:Oregon\"=>\"S1S2\",\"StateCode:Pennsylvania\"=>\"S2S3\",\"StateCode:Rhode Island\"=>\"S2\",\"StateCode:South Dakota\"=>\"S5\",\"StateCode:Texas\"=>\"S1\",\"StateCode:Utah\"=>\"S3\",\"StateCode:Vermont\"=>\"S4\",\"StateCode:Washington\"=>\"S1\",\"StateCode:West Virginia\"=>\"S1\",\"StateCode:Wisconsin\"=>\"S4?\",\"StateCode:Wyoming\"=>\"S3\"'}"
      ]
     },
     "metadata": {},
     "output_type": "display_data"
    },
    {
     "data": {
      "text/plain": [
       "{'elementGlobalID': 'ELEMENT_GLOBAL.2.103108',\n",
       " 'id': 827,\n",
       " 'nameWInd': 'Hyla wrightorum',\n",
       " 'nameWOInd': 'Hyla wrightorum',\n",
       " 'natureServePairs': '\"cacheDate\"=>\"2017-06-22T13:47:40.630596\",\"elementGlobalID\"=>\"ELEMENT_GLOBAL.2.103108\",\"GlobalStatusRank\"=>\"G4\",\"roundedGlobalStatusRankDescription\"=>\"Apparently Secure\",\"globalStatusLastReviewed\"=>\"2008-07-07\",\"usNationalStatusRankCode\"=>\"N4\",\"usNationalStatusLastReviewed\"=>\"2001-10-26\",\"StateCode:Arizona\"=>\"S4\",\"StateCode:New Mexico\"=>\"S3\"'}"
      ]
     },
     "metadata": {},
     "output_type": "display_data"
    },
    {
     "data": {
      "text/plain": [
       "{'elementGlobalID': 'ELEMENT_GLOBAL.2.105750',\n",
       " 'id': 1071,\n",
       " 'nameWInd': 'Smilisca fodiens',\n",
       " 'nameWOInd': 'Smilisca fodiens',\n",
       " 'natureServePairs': '\"cacheDate\"=>\"2017-06-22T13:47:43.781090\",\"elementGlobalID\"=>\"ELEMENT_GLOBAL.2.105750\",\"GlobalStatusRank\"=>\"G4\",\"roundedGlobalStatusRankDescription\"=>\"Apparently Secure\",\"globalStatusLastReviewed\"=>\"2002-04-02\",\"usNationalStatusRankCode\"=>\"N1N2\",\"usNationalStatusLastReviewed\"=>\"1996-11-01\",\"StateCode:Arizona\"=>\"S2\"'}"
      ]
     },
     "metadata": {},
     "output_type": "display_data"
    },
    {
     "data": {
      "text/plain": [
       "{'elementGlobalID': 'ELEMENT_GLOBAL.2.104784',\n",
       " 'id': 1197,\n",
       " 'nameWInd': 'Tyrannus crassirostris',\n",
       " 'nameWOInd': 'Tyrannus crassirostris',\n",
       " 'natureServePairs': '\"cacheDate\"=>\"2017-06-22T13:47:46.500154\",\"elementGlobalID\"=>\"ELEMENT_GLOBAL.2.104784\",\"GlobalStatusRank\"=>\"G5\",\"roundedGlobalStatusRankDescription\"=>\"Secure\",\"globalStatusLastReviewed\"=>\"1996-12-02\",\"usNationalStatusRankCode\"=>\"N2B\",\"usNationalStatusLastReviewed\"=>\"1997-03-19\",\"StateCode:Arizona\"=>\"S2\",\"StateCode:New Mexico\"=>\"S1B,S1N\",\"StateCode:Texas\"=>\"S1B\"'}"
      ]
     },
     "metadata": {},
     "output_type": "display_data"
    },
    {
     "data": {
      "text/plain": [
       "{'elementGlobalID': 'ELEMENT_GLOBAL.2.101291',\n",
       " 'id': 798,\n",
       " 'nameWInd': 'Gymnorhinus cyanocephalus',\n",
       " 'nameWOInd': 'Gymnorhinus cyanocephalus',\n",
       " 'natureServePairs': '\"cacheDate\"=>\"2017-06-22T13:47:49.176811\",\"elementGlobalID\"=>\"ELEMENT_GLOBAL.2.101291\",\"GlobalStatusRank\"=>\"G5\",\"roundedGlobalStatusRankDescription\"=>\"Secure\",\"globalStatusLastReviewed\"=>\"1996-12-02\",\"usNationalStatusRankCode\"=>\"N5\",\"usNationalStatusLastReviewed\"=>\"1997-01-05\",\"StateCode:Arizona\"=>\"S5\",\"StateCode:California\"=>\"SNR\",\"StateCode:Colorado\"=>\"S5\",\"StateCode:Idaho\"=>\"S1\",\"StateCode:Montana\"=>\"S3\",\"StateCode:Navajo Nation\"=>\"S5\",\"StateCode:Nebraska\"=>\"S3\",\"StateCode:Nevada\"=>\"S3S4\",\"StateCode:New Mexico\"=>\"S3B,S3N\",\"StateCode:Oklahoma\"=>\"S2\",\"StateCode:Oregon\"=>\"S3S4\",\"StateCode:South Dakota\"=>\"S4B,S4N\",\"StateCode:Texas\"=>\"SNA\",\"StateCode:Utah\"=>\"S4\",\"StateCode:Washington\"=>\"SNA\",\"StateCode:Wyoming\"=>\"S5B,S5N\"'}"
      ]
     },
     "metadata": {},
     "output_type": "display_data"
    },
    {
     "data": {
      "text/plain": [
       "{'elementGlobalID': 'ELEMENT_GLOBAL.2.106046',\n",
       " 'id': 657,\n",
       " 'nameWInd': 'Charadrius melodus',\n",
       " 'nameWOInd': 'Charadrius melodus',\n",
       " 'natureServePairs': '\"cacheDate\"=>\"2017-06-22T13:47:53.481258\",\"elementGlobalID\"=>\"ELEMENT_GLOBAL.2.106046\",\"GlobalStatusRank\"=>\"G3\",\"roundedGlobalStatusRankDescription\"=>\"Vulnerable\",\"globalStatusLastReviewed\"=>\"2016-04-07\",\"usNationalStatusRankCode\"=>\"N3B,N3N\",\"usNationalStatusLastReviewed\"=>\"1997-01-05\",\"StateCode:Alabama\"=>\"S1N\",\"StateCode:Arkansas\"=>\"SNA\",\"StateCode:Colorado\"=>\"S1B\",\"StateCode:Connecticut\"=>\"S1B\",\"StateCode:Delaware\"=>\"S1B\",\"StateCode:Florida\"=>\"S2\",\"StateCode:Georgia\"=>\"S1\",\"StateCode:Illinois\"=>\"SH\",\"StateCode:Indiana\"=>\"SXB\",\"StateCode:Iowa\"=>\"S1B\",\"StateCode:Kansas\"=>\"S1B,S2N\",\"StateCode:Kentucky\"=>\"SNA\",\"StateCode:Louisiana\"=>\"S2N\",\"StateCode:Maine\"=>\"S2B\",\"StateCode:Maryland\"=>\"S1B\",\"StateCode:Massachusetts\"=>\"S2B\",\"StateCode:Michigan\"=>\"S1\",\"StateCode:Minnesota\"=>\"S1B\",\"StateCode:Mississippi\"=>\"S2N\",\"StateCode:Missouri\"=>\"SNA\",\"StateCode:Montana\"=>\"S2B\",\"StateCode:Nebraska\"=>\"S2\",\"StateCode:New Hampshire\"=>\"S1B\",\"StateCode:New Jersey\"=>\"S1B,S1N\",\"StateCode:New York\"=>\"S3B\",\"StateCode:North Carolina\"=>\"S1B,S1N\",\"StateCode:North Dakota\"=>\"S1S2\",\"StateCode:Ohio\"=>\"SX\",\"StateCode:Oklahoma\"=>\"SU\",\"StateCode:Pennsylvania\"=>\"SX\",\"StateCode:Rhode Island\"=>\"S1B,S1N\",\"StateCode:South Carolina\"=>\"SNRN\",\"StateCode:South Dakota\"=>\"S2B\",\"StateCode:Tennessee\"=>\"S2N\",\"StateCode:Texas\"=>\"S2\",\"StateCode:Virginia\"=>\"S2B,S1N\",\"StateCode:Wisconsin\"=>\"S1\",\"StateCode:Wyoming\"=>\"SNA\"'}"
      ]
     },
     "metadata": {},
     "output_type": "display_data"
    }
   ],
   "source": [
    "for feature in itisNames[\"features\"]:\n",
    "    thisRecord = {}\n",
    "    thisRecord[\"id\"] = feature[\"properties\"][\"id\"]\n",
    "    thisRecord[\"nameWOInd\"] = feature[\"properties\"][\"namewoind\"]\n",
    "    thisRecord[\"nameWInd\"] = feature[\"properties\"][\"namewind\"]\n",
    "    \n",
    "    # Try to find a NatureServe ID with nameWOInd\n",
    "    thisRecord[\"elementGlobalID\"] = natureserve.queryNatureServeID(thisRecord[\"nameWOInd\"])\n",
    "    \n",
    "    # Try to find a NatureServe ID with nameWInd if possible\n",
    "    if thisRecord[\"elementGlobalID\"] == \"none\" and thisRecord[\"nameWInd\"] != thisRecord[\"nameWOInd\"]:\n",
    "        thisRecord[\"elementGlobalID\"] = natureserve.queryNatureServeID(natureservekeys.speciesAPI(),thisRecord[\"nameWInd\"])\n",
    "\n",
    "    # Run the function to query and pacage NatureServe key/value pairs\n",
    "    thisRecord[\"natureServePairs\"] = natureserve.packageNatureServePairs(natureservekeys.speciesAPI(),thisRecord[\"elementGlobalID\"])\n",
    "\n",
    "    # Display the record, cache results, and show query status\n",
    "    display (thisRecord)\n",
    "#    print (gc2.sqlAPI(\"DataDistillery\",\"BCB\"),tir.cacheToTIR(thisRecord[\"id\"],\"natureserve\",thisRecord[\"natureServePairs\"]))"
   ]
  },
  {
   "cell_type": "code",
   "execution_count": null,
   "metadata": {
    "collapsed": true,
    "deletable": true,
    "editable": true
   },
   "outputs": [],
   "source": []
  }
 ],
 "metadata": {
  "kernelspec": {
   "display_name": "Python 3",
   "language": "python",
   "name": "python3"
  },
  "language_info": {
   "codemirror_mode": {
    "name": "ipython",
    "version": 3
   },
   "file_extension": ".py",
   "mimetype": "text/x-python",
   "name": "python",
   "nbconvert_exporter": "python",
   "pygments_lexer": "ipython3",
   "version": "3.5.3"
  }
 },
 "nbformat": 4,
 "nbformat_minor": 0
}
