{
 "cells": [
  {
   "cell_type": "markdown",
   "metadata": {
    "deletable": true,
    "editable": true
   },
   "source": [
    "This notebook uses registered scientific names and taxon-mathed names from ITIS and/or WoRMS, looks for those names from the NatureServe species service, and returns a simplified data structure for caching in the Taxonomic Information Registry and use within our systems. It is set up to loop the entire TIR for everything without NatureServe data until finished (with a safeguard on total records processed).\n",
    "\n",
    "There is a lot of complexity to the species details returned from the NatureServe service. What we are interested right now for the TIR is only the conservation status information - global, US national, and US state. We pull these specific codes into the TIR so that we can use them as facets/filters in applications of the Biogeographic Information System such as comparing State SGCN listings to State Heritage Society listings."
   ]
  },
  {
   "cell_type": "code",
   "execution_count": 1,
   "metadata": {
    "collapsed": false,
    "deletable": true,
    "editable": true,
    "scrolled": false
   },
   "outputs": [],
   "source": [
    "import requests,json\n",
    "from IPython.display import display\n",
    "from bis import natureserve\n",
    "from bis import tir\n",
    "from bis2 import gc2\n",
    "from bis2 import natureserve as natureservekeys"
   ]
  },
  {
   "cell_type": "code",
   "execution_count": 2,
   "metadata": {
    "collapsed": false,
    "deletable": true,
    "editable": true
   },
   "outputs": [
    {
     "data": {
      "text/plain": [
       "{'elementGlobalID': 'ELEMENT_GLOBAL.2.106597',\n",
       " 'id': 1609,\n",
       " 'name_itis': 'Agnorisma bollii',\n",
       " 'name_registered': 'Agnorisma bollii',\n",
       " 'name_worms': None,\n",
       " 'natureServeData': {'dateCached': '2017-07-18T15:55:40.227196',\n",
       "  'elementGlobalID': 'ELEMENT_GLOBAL.2.106597',\n",
       "  'result': True,\n",
       "  'roundedGlobalRankCode': 'G4',\n",
       "  'roundedGlobalRankDescription': 'Apparently Secure',\n",
       "  'stateStatus': [{'roundedRankCode': 'S2',\n",
       "    'roundedRankDescription': 'Imperiled',\n",
       "    'stateCode': 'DE',\n",
       "    'stateName': 'Delaware'},\n",
       "   {'roundedRankCode': 'SU',\n",
       "    'roundedRankDescription': 'SU',\n",
       "    'stateCode': 'MD',\n",
       "    'stateName': 'Maryland'},\n",
       "   {'roundedRankCode': 'SNR',\n",
       "    'roundedRankDescription': 'SNR',\n",
       "    'stateCode': 'PA',\n",
       "    'stateName': 'Pennsylvania'}],\n",
       "  'usNationalStatusCode': 'NNR',\n",
       "  'usNationalStatusDescription': 'NNR'},\n",
       " 'tryNames': ['Agnorisma bollii']}"
      ]
     },
     "metadata": {},
     "output_type": "display_data"
    },
    {
     "name": "stdout",
     "output_type": "stream",
     "text": [
      "{'affected_rows': 1, 'success': True, '_execution_time': 0.069, 'auth_check': {'session': None, 'success': True, 'auth_level': None}}\n"
     ]
    },
    {
     "data": {
      "text/plain": [
       "{'elementGlobalID': 'ELEMENT_GLOBAL.2.154129',\n",
       " 'id': 17513,\n",
       " 'name_itis': 'Rhynchospora latifolia',\n",
       " 'name_registered': 'Rhynchospora latifolia',\n",
       " 'name_worms': None,\n",
       " 'natureServeData': {'dateCached': '2017-07-18T15:55:54.915221',\n",
       "  'elementGlobalID': 'ELEMENT_GLOBAL.2.154129',\n",
       "  'result': True,\n",
       "  'roundedGlobalRankCode': 'G5',\n",
       "  'roundedGlobalRankDescription': 'Secure',\n",
       "  'stateStatus': [{'roundedRankCode': 'SNR',\n",
       "    'roundedRankDescription': 'SNR',\n",
       "    'stateCode': 'AL',\n",
       "    'stateName': 'Alabama'},\n",
       "   {'roundedRankCode': 'SNR',\n",
       "    'roundedRankDescription': 'SNR',\n",
       "    'stateCode': 'FL',\n",
       "    'stateName': 'Florida'},\n",
       "   {'roundedRankCode': 'SNR',\n",
       "    'roundedRankDescription': 'SNR',\n",
       "    'stateCode': 'GA',\n",
       "    'stateName': 'Georgia'},\n",
       "   {'roundedRankCode': 'SNR',\n",
       "    'roundedRankDescription': 'SNR',\n",
       "    'stateCode': 'LA',\n",
       "    'stateName': 'Louisiana'},\n",
       "   {'roundedRankCode': 'S4',\n",
       "    'roundedRankDescription': 'Apparently Secure',\n",
       "    'stateCode': 'MS',\n",
       "    'stateName': 'Mississippi'},\n",
       "   {'roundedRankCode': 'S3',\n",
       "    'roundedRankDescription': 'Vulnerable',\n",
       "    'stateCode': 'NC',\n",
       "    'stateName': 'North Carolina'},\n",
       "   {'roundedRankCode': 'SU',\n",
       "    'roundedRankDescription': 'SU',\n",
       "    'stateCode': 'OK',\n",
       "    'stateName': 'Oklahoma'},\n",
       "   {'roundedRankCode': 'SNR',\n",
       "    'roundedRankDescription': 'SNR',\n",
       "    'stateCode': 'SC',\n",
       "    'stateName': 'South Carolina'},\n",
       "   {'roundedRankCode': 'SH',\n",
       "    'roundedRankDescription': 'Possibly Extinct',\n",
       "    'stateCode': 'TN',\n",
       "    'stateName': 'Tennessee'},\n",
       "   {'roundedRankCode': 'SNR',\n",
       "    'roundedRankDescription': 'SNR',\n",
       "    'stateCode': 'TX',\n",
       "    'stateName': 'Texas'}],\n",
       "  'usNationalStatusCode': 'NNR',\n",
       "  'usNationalStatusDescription': 'NNR'},\n",
       " 'tryNames': ['Rhynchospora latifolia']}"
      ]
     },
     "metadata": {},
     "output_type": "display_data"
    },
    {
     "name": "stdout",
     "output_type": "stream",
     "text": [
      "{'affected_rows': 1, 'success': True, '_execution_time': 0.07, 'auth_check': {'session': None, 'success': True, 'auth_level': None}}\n"
     ]
    }
   ],
   "source": [
    "# Set up the actions/targets for this particular instance\n",
    "thisRun = {}\n",
    "thisRun[\"instance\"] = \"DataDistillery\"\n",
    "thisRun[\"db\"] = \"BCB\"\n",
    "thisRun[\"baseURL\"] = gc2.sqlAPI(thisRun[\"instance\"],thisRun[\"db\"])\n",
    "thisRun[\"commitToDB\"] = True\n",
    "thisRun[\"totalRecordsToProcess\"] = 2\n",
    "thisRun[\"totalRecordsProcessed\"] = 0\n",
    "\n",
    "numberWithoutTIRData = 1\n",
    "\n",
    "while numberWithoutTIRData == 1 and thisRun[\"totalRecordsProcessed\"] < thisRun[\"totalRecordsToProcess\"]:\n",
    "\n",
    "    q_recordToSearch = \"SELECT id, \\\n",
    "        registration->>'scientificname' AS name_registered, \\\n",
    "        itis->>'nameWInd' AS name_itis, \\\n",
    "        worms->>'valid_name' AS name_worms \\\n",
    "        FROM tir.tir \\\n",
    "        WHERE natureserve IS NULL \\\n",
    "        LIMIT 1\"\n",
    "    recordToSearch  = requests.get(thisRun[\"baseURL\"]+\"&q=\"+q_recordToSearch).json()\n",
    "    \n",
    "    numberWithoutTIRData = len(recordToSearch[\"features\"])\n",
    "    \n",
    "    if numberWithoutTIRData == 1:\n",
    "        tirRecord = recordToSearch[\"features\"][0]\n",
    "\n",
    "        thisRecord = {}\n",
    "        thisRecord[\"id\"] = tirRecord[\"properties\"][\"id\"]\n",
    "        thisRecord[\"name_registered\"] = tirRecord[\"properties\"][\"name_registered\"]\n",
    "        thisRecord[\"name_itis\"] = tirRecord[\"properties\"][\"name_itis\"]\n",
    "        thisRecord[\"name_worms\"] = tirRecord[\"properties\"][\"name_worms\"]\n",
    "\n",
    "        thisRecord[\"tryNames\"] = []\n",
    "        thisRecord[\"tryNames\"].append(thisRecord[\"name_registered\"])\n",
    "        if thisRecord[\"name_itis\"] is not None and thisRecord[\"name_itis\"] not in thisRecord[\"tryNames\"]:\n",
    "            thisRecord[\"tryNames\"].append(thisRecord[\"name_itis\"])\n",
    "        if thisRecord[\"name_worms\"] is not None and thisRecord[\"name_worms\"] not in thisRecord[\"tryNames\"]:\n",
    "            thisRecord[\"tryNames\"].append(thisRecord[\"name_worms\"])\n",
    "        \n",
    "        for name in thisRecord[\"tryNames\"]:\n",
    "            thisRecord[\"elementGlobalID\"] = natureserve.queryNatureServeID(name)\n",
    "            if thisRecord[\"elementGlobalID\"] is not None:\n",
    "                break\n",
    "\n",
    "        # Run the function to query and package NatureServe data\n",
    "        thisRecord[\"natureServeData\"] = natureserve.packageNatureServeJSON(natureservekeys.speciesAPI(),thisRecord[\"elementGlobalID\"])\n",
    "\n",
    "        # Display the record, cache results, and show query status\n",
    "        display (thisRecord)\n",
    "        if thisRun[\"commitToDB\"]:\n",
    "            print (tir.cacheToTIR(thisRun[\"baseURL\"],thisRecord[\"id\"],\"natureserve\",json.dumps(thisRecord[\"natureServeData\"])))\n",
    "        thisRun[\"totalRecordsProcessed\"] = thisRun[\"totalRecordsProcessed\"] + 1\n"
   ]
  },
  {
   "cell_type": "code",
   "execution_count": null,
   "metadata": {
    "collapsed": true,
    "deletable": true,
    "editable": true
   },
   "outputs": [],
   "source": []
  }
 ],
 "metadata": {
  "kernelspec": {
   "display_name": "Python 3",
   "language": "python",
   "name": "python3"
  },
  "language_info": {
   "codemirror_mode": {
    "name": "ipython",
    "version": 3
   },
   "file_extension": ".py",
   "mimetype": "text/x-python",
   "name": "python",
   "nbconvert_exporter": "python",
   "pygments_lexer": "ipython3",
   "version": "3.5.3"
  }
 },
 "nbformat": 4,
 "nbformat_minor": 0
}
