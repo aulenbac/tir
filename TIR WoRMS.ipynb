{
 "cells": [
  {
   "cell_type": "code",
   "execution_count": 4,
   "metadata": {
    "collapsed": false,
    "deletable": true,
    "editable": true
   },
   "outputs": [],
   "source": [
    "%reload_ext autoreload\n",
    "%autoreload 2\n",
    "\n",
    "import tirutils,requests,configparser,re\n",
    "from IPython.display import display\n",
    "\n",
    "config = configparser.RawConfigParser()\n",
    "config.read_file(open(r'../config/stuff.py'))\n",
    "gc2APIKey = config.get('apiKeys','apiKey_GC2_BCB').replace('\"','')\n",
    "apiBaseURL = \"https://gc2.mapcentia.com/api/v1/sql/bcb?key=\"+gc2APIKey\n",
    "\n",
    "wormsRecordsByNameBaseURL = \"http://www.marinespecies.org/rest/AphiaRecordsByName/\"\n",
    "wormsRecordByAphiaIDBaseURL = \"http://www.marinespecies.org/rest/AphiaRecordByAphiaID/\""
   ]
  },
  {
   "cell_type": "code",
   "execution_count": 5,
   "metadata": {
    "collapsed": true,
    "deletable": true,
    "editable": true
   },
   "outputs": [],
   "source": [
    "def wormsPairEverything(wormsMatchMethod,wormsData):\n",
    "    import re\n",
    "    wormsPairingRules = {\"{\": \"\", \"}\": \"\", \"'\": '\"', \": \": \"=>\", '=>None,': '=>\"None\",'}\n",
    "    wormsPairs = wormsData\n",
    "    for i, j in wormsPairingRules.items():\n",
    "        wormsPairs = wormsPairs.replace(i, j)\n",
    "    wormsPairs = re.sub(r'=>([0-9]+),', r'=>\"\\1\",', wormsPairs)\n",
    "    wormsPairs = wormsPairs+\",\"+wormsMatchMethod\n",
    "    return wormsPairs"
   ]
  },
  {
   "cell_type": "code",
   "execution_count": 6,
   "metadata": {
    "collapsed": true,
    "deletable": true,
    "editable": true
   },
   "outputs": [],
   "source": [
    "targetDataSQL = \"SELECT gid, \\\n",
    "    registrationinfo -> 'SGCN_ScientificName_Submitted' AS scientificname \\\n",
    "    FROM tir.tir \\\n",
    "    WHERE itis IS NULL \\\n",
    "    AND worms IS NULL \\\n",
    "    ORDER BY gid LIMIT 100\"\n",
    "\n",
    "targetData = requests.get(apiBaseURL+\"&q=\"+targetDataSQL).json()"
   ]
  },
  {
   "cell_type": "code",
   "execution_count": 12,
   "metadata": {
    "collapsed": false,
    "deletable": true,
    "editable": true,
    "scrolled": true
   },
   "outputs": [
    {
     "name": "stdout",
     "output_type": "stream",
     "text": [
      "282 \"url\"=>\"http://www.marinespecies.org/aphia.php?p=taxdetails&id=944219\", \"phylum\"=>\"Arthropoda\", \"isBrackish\"=>\"0\", \"kingdom\"=>\"Animalia\", \"scientificname\"=>\"Abacion wilhelminae\", \"family\"=>\"Abacionidae\", \"match_type\"=>\"like\", \"citation\"=>\"Sierwald, P. (2017). Abacion wilhelminae Shelley, McAllister & Hollis, 2003. In=>Sierwald, P. MilliBase. Accessed through=> World Register of Marine Species at http://www.marinespecies.org/aphia.php?p=taxdetails&id=944219 on 2017-05-02\", \"modified\"=>\"2017-01-20T10:14:02Z\", \"isMarine\"=>\"0\", \"rank\"=>\"Species\", \"unacceptreason\"=>None, \"class\"=>\"Diplopoda\", \"lsid\"=>\"urn:lsid:marinespecies.org:taxname:944219\", \"isExtinct\"=>None, \"authority\"=>\"Shelley, McAllister & Hollis, 2003\", \"valid_name\"=>\"Abacion wilhelminae\", \"valid_authority\"=>\"Shelley, McAllister & Hollis, 2003\", \"isFreshwater\"=>\"0\", \"AphiaID\"=>\"944219\", \"isTerrestrial\"=>\"1\", \"order\"=>\"Callipodida\", \"genus\"=>\"Abacion\", \"status\"=>\"accepted\", \"valid_AphiaID\"=>944219,\"wormsMatchMethod\"=>\"found match on scientific name\"\n",
      "300 \"url\"=>\"http://www.marinespecies.org/aphia.php?p=taxdetails&id=746484\", \"phylum\"=>\"Cnidaria\", \"isBrackish\"=>None, \"kingdom\"=>\"Animalia\", \"scientificname\"=>\"Melithaea bicolor\", \"family\"=>\"Melithaeidae\", \"match_type\"=>\"exact\", \"citation\"=>\"van Ofwegen, L. (2014). Melithaea bicolor (Nutting, 1908). Accessed through=> World Register of Marine Species at http://marinespecies.org/aphia.php?p=taxdetails&id=746484 on 2017-05-02\", \"modified\"=>\"2014-01-10T10:03:39Z\", \"isMarine\"=>\"1\", \"rank\"=>\"Species\", \"unacceptreason\"=>None, \"class\"=>\"Anthozoa\", \"lsid\"=>\"urn:lsid:marinespecies.org:taxname:746484\", \"isExtinct\"=>None, \"authority\"=>\"(Nutting, 1908)\", \"valid_name\"=>\"Melithaea bicolor\", \"valid_authority\"=>\"(Nutting, 1908)\", \"isFreshwater\"=>\"0\", \"AphiaID\"=>\"746484\", \"isTerrestrial\"=>\"0\", \"order\"=>\"Alcyonacea\", \"genus\"=>\"Melithaea\", \"status\"=>\"accepted\", \"valid_AphiaID\"=>746484,\"wormsMatchMethod\"=>\"found match by following valid aphiaid\"\n",
      "382 \"url\"=>\"http://www.marinespecies.org/aphia.php?p=taxdetails&id=374547\", \"phylum\"=>\"Rhodophyta\", \"isBrackish\"=>None, \"kingdom\"=>\"Plantae\", \"scientificname\"=>\"Acrochaetium dotyi\", \"family\"=>\"Acrochaetiaceae\", \"match_type\"=>\"like\", \"citation\"=>\"Guiry, Michael D. (2017). Acrochaetium dotyi I.A.Abbott, 1962. In=>Guiry, M.D. & Guiry, G.M. (2017). AlgaeBase. World-wide electronic publication, National University of Ireland, Galway (taxonomic information republished from AlgaeBase with permission of M.D. Guiry). Accessed through=> World Register of Marine Species at http://www.marinespecies.org/aphia.php?p=taxdetails&id=374547 on 2017-05-02\", \"modified\"=>\"2015-06-26T14:00:51Z\", \"isMarine\"=>\"1\", \"rank\"=>\"Species\", \"unacceptreason\"=>None, \"class\"=>\"Florideophyceae\", \"lsid\"=>\"urn:lsid:marinespecies.org:taxname:374547\", \"isExtinct\"=>None, \"authority\"=>\"I.A.Abbott, 1962\", \"valid_name\"=>\"Acrochaetium dotyi\", \"valid_authority\"=>\"I.A.Abbott, 1962\", \"isFreshwater\"=>None, \"AphiaID\"=>\"374547\", \"isTerrestrial\"=>None, \"order\"=>None, \"genus\"=>\"Acrochaetium\", \"status\"=>\"accepted\", \"valid_AphiaID\"=>374547,\"wormsMatchMethod\"=>\"found match on scientific name\"\n",
      "427 \"url\"=>\"http://www.marinespecies.org/aphia.php?p=taxdetails&id=513493\", \"phylum\"=>\"Echinodermata\", \"isBrackish\"=>\"0\", \"kingdom\"=>\"Animalia\", \"scientificname\"=>\"Prionocidaris thomasi\", \"family\"=>\"Cidaridae\", \"match_type\"=>\"exact\", \"citation\"=>\"Kroh, A. (2013). Prionocidaris thomasi. In=>Kroh, A. & Mooi, R. (2017). World Echinoidea Database. Accessed through=> World Register of Marine Species at http://marinespecies.org/aphia.php?p=taxdetails&id=513493 on 2017-05-02\", \"modified\"=>\"2013-08-26T20:24:18Z\", \"isMarine\"=>\"1\", \"rank\"=>\"Species\", \"unacceptreason\"=>None, \"class\"=>\"Echinoidea\", \"lsid\"=>\"urn:lsid:marinespecies.org:taxname:513493\", \"isExtinct\"=>\"0\", \"authority\"=>\"(A. Agassiz & H.L. Clark, 1907)\", \"valid_name\"=>\"Prionocidaris thomasi\", \"valid_authority\"=>\"(A. Agassiz & H.L. Clark, 1907)\", \"isFreshwater\"=>\"0\", \"AphiaID\"=>\"513493\", \"isTerrestrial\"=>\"0\", \"order\"=>\"Cidaroida\", \"genus\"=>\"Prionocidaris\", \"status\"=>\"accepted\", \"valid_AphiaID\"=>513493,\"wormsMatchMethod\"=>\"found match by following valid aphiaid\"\n",
      "433 \"url\"=>\"http://www.marinespecies.org/aphia.php?p=taxdetails&id=208956\", \"phylum\"=>\"Echinodermata\", \"isBrackish\"=>\"0\", \"kingdom\"=>\"Animalia\", \"scientificname\"=>\"Actinopyga mauritiana\", \"family\"=>\"Holothuriidae\", \"match_type\"=>\"like\", \"citation\"=>\"Paulay, G. (2010). Actinopyga mauritiana (Quoy & Gaimard, 1834). Accessed through=> World Register of Marine Species at http://www.marinespecies.org/aphia.php?p=taxdetails&id=208956 on 2017-05-02\", \"modified\"=>\"2010-10-14T16:30:08Z\", \"isMarine\"=>\"1\", \"rank\"=>\"Species\", \"unacceptreason\"=>None, \"class\"=>\"Holothuroidea\", \"lsid\"=>\"urn:lsid:marinespecies.org:taxname:208956\", \"isExtinct\"=>None, \"authority\"=>\"(Quoy & Gaimard, 1834)\", \"valid_name\"=>\"Actinopyga mauritiana\", \"valid_authority\"=>\"(Quoy & Gaimard, 1834)\", \"isFreshwater\"=>\"0\", \"AphiaID\"=>\"208956\", \"isTerrestrial\"=>\"0\", \"order\"=>\"Aspidochirotida\", \"genus\"=>\"Actinopyga\", \"status\"=>\"accepted\", \"valid_AphiaID\"=>208956,\"wormsMatchMethod\"=>\"found match on scientific name\"\n",
      "638 \"url\"=>\"http://www.marinespecies.org/aphia.php?p=taxdetails&id=470630\", \"phylum\"=>\"Bryozoa\", \"isBrackish\"=>\"0\", \"kingdom\"=>\"Animalia\", \"scientificname\"=>\"Alcyonidium hauffi\", \"family\"=>\"Alcyonidiidae\", \"match_type\"=>\"like\", \"citation\"=>\"Bock, P. (2010). Alcyonidium hauffi. In=>Bock, P.; Gordon, D. (2017). World List of Bryozoa. Accessed through=> World Register of Marine Species at http://www.marinespecies.org/aphia.php?p=taxdetails&id=470630 on 2017-05-02\", \"modified\"=>\"2010-04-27T09:35:26Z\", \"isMarine\"=>\"1\", \"rank\"=>\"Species\", \"unacceptreason\"=>None, \"class\"=>\"Gymnolaemata\", \"lsid\"=>\"urn:lsid:marinespecies.org:taxname:470630\", \"isExtinct\"=>None, \"authority\"=>\"Marcus, 1939\", \"valid_name\"=>\"Alcyonidium hauffi\", \"valid_authority\"=>\"Marcus, 1939\", \"isFreshwater\"=>\"0\", \"AphiaID\"=>\"470630\", \"isTerrestrial\"=>\"0\", \"order\"=>\"Ctenostomatida\", \"genus\"=>\"Alcyonidium\", \"status\"=>\"accepted\", \"valid_AphiaID\"=>470630,\"wormsMatchMethod\"=>\"found match on scientific name\"\n",
      "640 \"url\"=>\"http://www.marinespecies.org/aphia.php?p=taxdetails&id=599491\", \"phylum\"=>\"Mollusca\", \"isBrackish\"=>None, \"kingdom\"=>\"Animalia\", \"scientificname\"=>\"Aldisa pikokai\", \"family\"=>\"Cadlinidae\", \"match_type\"=>\"like\", \"citation\"=>\"Bouchet, P.; Rosenberg, G. (2017). Aldisa pikokai Bertsch & S. Johnson, 1982. In=> MolluscaBase (2017). Accessed through=> World Register of Marine Species at http://marinespecies.org/aphia.php?p=taxdetails&id=599491 on 2017-05-02\", \"modified\"=>\"2016-03-20T05:03:15Z\", \"isMarine\"=>\"1\", \"rank\"=>\"Species\", \"unacceptreason\"=>None, \"class\"=>\"Gastropoda\", \"lsid\"=>\"urn:lsid:marinespecies.org:taxname:599491\", \"isExtinct\"=>None, \"authority\"=>\"Bertsch & S. Johnson, 1982\", \"valid_name\"=>\"Aldisa pikokai\", \"valid_authority\"=>\"Bertsch & S. Johnson, 1982\", \"isFreshwater\"=>None, \"AphiaID\"=>\"599491\", \"isTerrestrial\"=>None, \"order\"=>\"Nudibranchia\", \"genus\"=>\"Aldisa\", \"status\"=>\"accepted\", \"valid_AphiaID\"=>599491,\"wormsMatchMethod\"=>\"found match on scientific name\"\n",
      "737 \"url\"=>\"http://www.marinespecies.org/aphia.php?p=taxdetails&id=374665\", \"phylum\"=>\"Rhodophyta\", \"isBrackish\"=>None, \"kingdom\"=>\"Plantae\", \"scientificname\"=>\"Alsidium cymatophilum\", \"family\"=>\"Rhodomelaceae\", \"match_type\"=>\"like\", \"citation\"=>\"Guiry, Michael D. (2017). Alsidium cymatophilum R.E.Norris, 1994. In=>Guiry, M.D. & Guiry, G.M. (2017). AlgaeBase. World-wide electronic publication, National University of Ireland, Galway (taxonomic information republished from AlgaeBase with permission of M.D. Guiry). Accessed through=> World Register of Marine Species at http://marinespecies.org/aphia.php?p=taxdetails&id=374665 on 2017-05-02\", \"modified\"=>\"2015-06-26T14:00:51Z\", \"isMarine\"=>\"1\", \"rank\"=>\"Species\", \"unacceptreason\"=>None, \"class\"=>\"Florideophyceae\", \"lsid\"=>\"urn:lsid:marinespecies.org:taxname:374665\", \"isExtinct\"=>None, \"authority\"=>\"R.E.Norris, 1994\", \"valid_name\"=>\"Alsidium cymatophilum\", \"valid_authority\"=>\"R.E.Norris, 1994\", \"isFreshwater\"=>None, \"AphiaID\"=>\"374665\", \"isTerrestrial\"=>None, \"order\"=>\"Ceramiales\", \"genus\"=>\"Alsidium\", \"status\"=>\"accepted\", \"valid_AphiaID\"=>374665,\"wormsMatchMethod\"=>\"found match on scientific name\"\n",
      "1188 \"url\"=>\"http://www.marinespecies.org/aphia.php?p=taxdetails&id=589903\", \"phylum\"=>\"Cnidaria\", \"isBrackish\"=>None, \"kingdom\"=>\"Animalia\", \"scientificname\"=>\"Dendropathes intermedia\", \"family\"=>\"Schizopathidae\", \"match_type\"=>\"exact\", \"citation\"=>\"Molodtsova, T. (2013). Dendropathes intermedia (Brook, 1889). In=>Fautin, Daphne G. (2013). Hexacorallians of the World. Accessed through=> World Register of Marine Species at http://www.marinespecies.org/aphia.php?p=taxdetails&id=589903 on 2017-05-02\", \"modified\"=>\"2013-09-13T11:14:30Z\", \"isMarine\"=>\"1\", \"rank\"=>\"Species\", \"unacceptreason\"=>None, \"class\"=>\"Anthozoa\", \"lsid\"=>\"urn:lsid:marinespecies.org:taxname:589903\", \"isExtinct\"=>\"0\", \"authority\"=>\"(Brook, 1889)\", \"valid_name\"=>\"Dendropathes intermedia\", \"valid_authority\"=>\"(Brook, 1889)\", \"isFreshwater\"=>None, \"AphiaID\"=>\"589903\", \"isTerrestrial\"=>None, \"order\"=>\"Antipatharia\", \"genus\"=>\"Dendropathes\", \"status\"=>\"accepted\", \"valid_AphiaID\"=>589903,\"wormsMatchMethod\"=>\"found match by following valid aphiaid\"\n",
      "1190 \"url\"=>\"http://www.marinespecies.org/aphia.php?p=taxdetails&id=291112\", \"phylum\"=>\"Cnidaria\", \"isBrackish\"=>None, \"kingdom\"=>\"Animalia\", \"scientificname\"=>\"Stauropathes punctata\", \"family\"=>\"Schizopathidae\", \"match_type\"=>\"exact\", \"citation\"=>\"Molodtsova, T. (2011). Stauropathes punctata (Roule, 1905). In=>Fautin, Daphne G. (2013). Hexacorallians of the World. Accessed through=> World Register of Marine Species at http://marinespecies.org/aphia.php/aphia.php?p=taxdetails&id=291112 on 2017-05-02\", \"modified\"=>\"2011-12-02T07:03:28Z\", \"isMarine\"=>\"1\", \"rank\"=>\"Species\", \"unacceptreason\"=>None, \"class\"=>\"Anthozoa\", \"lsid\"=>\"urn:lsid:marinespecies.org:taxname:291112\", \"isExtinct\"=>None, \"authority\"=>\"(Roule, 1905)\", \"valid_name\"=>\"Stauropathes punctata\", \"valid_authority\"=>\"(Roule, 1905)\", \"isFreshwater\"=>None, \"AphiaID\"=>\"291112\", \"isTerrestrial\"=>\"0\", \"order\"=>\"Antipatharia\", \"genus\"=>\"Stauropathes\", \"status\"=>\"accepted\", \"valid_AphiaID\"=>291112,\"wormsMatchMethod\"=>\"found match by following valid aphiaid\"\n",
      "1194 \"url\"=>\"http://www.marinespecies.org/aphia.php?p=taxdetails&id=374606\", \"phylum\"=>\"Rhodophyta\", \"isBrackish\"=>None, \"kingdom\"=>\"Plantae\", \"scientificname\"=>\"Antithamnion erucacladellum\", \"family\"=>\"Ceramiaceae\", \"match_type\"=>\"like\", \"citation\"=>\"Guiry, Michael D. (2015). Antithamnion erucacladellum. In=>Guiry, M.D. & Guiry, G.M. (2017). AlgaeBase. World-wide electronic publication, National University of Ireland, Galway (taxonomic information republished from AlgaeBase with permission of M.D. Guiry). Accessed through=> World Register of Marine Species at http://www.marinespecies.org/aphia.php?p=taxdetails&id=374606 on 2017-05-02\", \"modified\"=>\"2015-06-26T14:00:51Z\", \"isMarine\"=>\"1\", \"rank\"=>\"Species\", \"unacceptreason\"=>None, \"class\"=>\"Florideophyceae\", \"lsid\"=>\"urn:lsid:marinespecies.org:taxname:374606\", \"isExtinct\"=>None, \"authority\"=>\"R.E.Norris, 1993\", \"valid_name\"=>\"Antithamnion erucacladellum\", \"valid_authority\"=>\"R.E.Norris, 1993\", \"isFreshwater\"=>None, \"AphiaID\"=>\"374606\", \"isTerrestrial\"=>None, \"order\"=>\"Ceramiales\", \"genus\"=>\"Antithamnion\", \"status\"=>\"accepted\", \"valid_AphiaID\"=>374606,\"wormsMatchMethod\"=>\"found match on scientific name\"\n",
      "1288 \"url\"=>\"http://www.marinespecies.org/aphia.php?p=taxdetails&id=249841\", \"phylum\"=>\"Chordata\", \"isBrackish\"=>None, \"kingdom\"=>\"Animalia\", \"scientificname\"=>\"Aplidium crateriferum\", \"family\"=>\"Polyclinidae\", \"match_type\"=>\"like\", \"citation\"=>\"Sanamyan, K. (2007). Aplidium crateriferum (Sluiter, 1909). In=>Shenkar, N.;  Gittenberger, A.; Lambert, G.; Rius, M.; Moreira Da Rocha, R.; Swalla, B.J.; Turon, X. (2017). Ascidiacea World Database. Accessed through=> World Register of Marine Species at http://www.marinespecies.org/aphia.php/aphia.php?p=taxdetails&id=249841 on 2017-05-02\", \"modified\"=>\"2007-12-05T13:32:01Z\", \"isMarine\"=>\"1\", \"rank\"=>\"Species\", \"unacceptreason\"=>None, \"class\"=>\"Ascidiacea\", \"lsid\"=>\"urn:lsid:marinespecies.org:taxname:249841\", \"isExtinct\"=>None, \"authority\"=>\"(Sluiter, 1909)\", \"valid_name\"=>\"Aplidium crateriferum\", \"valid_authority\"=>\"(Sluiter, 1909)\", \"isFreshwater\"=>\"0\", \"AphiaID\"=>\"249841\", \"isTerrestrial\"=>\"0\", \"order\"=>\"Aplousobranchia\", \"genus\"=>\"Aplidium\", \"status\"=>\"accepted\", \"valid_AphiaID\"=>249841,\"wormsMatchMethod\"=>\"found match on scientific name\"\n",
      "1371 \"url\"=>\"http://www.marinespecies.org/aphia.php?p=taxdetails&id=118084\", \"phylum\"=>\"Arthropoda\", \"isBrackish\"=>None, \"kingdom\"=>\"Animalia\", \"scientificname\"=>\"Archaeognatha\", \"family\"=>None, \"match_type\"=>\"like\", \"citation\"=>\"Legakis, A. (2004). Archaeognatha. Accessed through=> World Register of Marine Species at http://www.marinespecies.org/aphia.php?p=taxdetails&id=118084 on 2017-05-02\", \"modified\"=>\"2004-12-21T16:54:05Z\", \"isMarine\"=>\"1\", \"rank\"=>\"Order\", \"unacceptreason\"=>None, \"class\"=>\"Insecta\", \"lsid\"=>\"urn:lsid:marinespecies.org:taxname:118084\", \"isExtinct\"=>None, \"authority\"=>None, \"valid_name\"=>\"Archaeognatha\", \"valid_authority\"=>None, \"isFreshwater\"=>None, \"AphiaID\"=>\"118084\", \"isTerrestrial\"=>None, \"order\"=>\"Archaeognatha\", \"genus\"=>None, \"status\"=>\"accepted\", \"valid_AphiaID\"=>118084,\"wormsMatchMethod\"=>\"found match on scientific name\"\n"
     ]
    }
   ],
   "source": [
    "commitData = True\n",
    "\n",
    "for feature in targetData['features']:\n",
    "    gid = feature['properties']['gid']\n",
    "    scientificname = feature['properties']['scientificname']\n",
    "    numFoundExact = 0\n",
    "    numFoundFuzzy = 0\n",
    "\n",
    "    if scientificname.find(\"pop.\"):\n",
    "        nameParts = scientificname.split()\n",
    "        regex = re.compile(r'pop\\.[0-9]')\n",
    "        scientificname = ' '.join([i for i in nameParts if not regex.search(i)])\n",
    "    \n",
    "    if scientificname.find(\"spp.\"):\n",
    "        nameParts = scientificname.split()\n",
    "        regex = re.compile(r'spp\\.')\n",
    "        scientificname = ' '.join([i for i in nameParts if not regex.search(i)])\n",
    "    \n",
    "    if scientificname.find(\"(\") and scientificname.find(\")\"):\n",
    "        nameParts = scientificname.split()\n",
    "        regex = re.compile(r'\\(')\n",
    "        scientificname = ' '.join([i for i in nameParts if not regex.search(i)])\n",
    "    \n",
    "    if any(x.isupper() for x in scientificname[-(len(scientificname)-1):]):\n",
    "        scientificname = scientificname.lower().capitalize()\n",
    "    \n",
    "    wormsFuzzyMatchURL = wormsRecordsByNameBaseURL+scientificname+\"?like=true&marine_only=false\"\n",
    "    try:\n",
    "        wormsFuzzyMatchR = requests.get(wormsFuzzyMatchURL).json()\n",
    "    except:\n",
    "        continue\n",
    "    if len(wormsFuzzyMatchR) == 1:\n",
    "        if wormsFuzzyMatchR[0]['AphiaID'] == wormsFuzzyMatchR[0]['valid_AphiaID']:\n",
    "            wormsMatchMethod = '\"wormsMatchMethod\"=>\"found match on scientific name\"'\n",
    "            worms = wormsPairEverything(wormsMatchMethod,str(wormsFuzzyMatchR[0]))\n",
    "        else:\n",
    "            aphiaIDURL = wormsRecordByAphiaIDBaseURL+str(wormsFuzzyMatchR[0]['valid_AphiaID'])\n",
    "            try:\n",
    "                aphiaR = requests.get(aphiaIDURL).json()\n",
    "            except:\n",
    "                continue\n",
    "            wormsMatchMethod = '\"wormsMatchMethod\"=>\"found match by following valid aphiaid\"'\n",
    "            worms = wormsPairEverything(wormsMatchMethod,str(aphiaR))\n",
    "    \n",
    "    print (gid, worms)"
   ]
  },
  {
   "cell_type": "code",
   "execution_count": null,
   "metadata": {
    "collapsed": true,
    "deletable": true,
    "editable": true
   },
   "outputs": [],
   "source": []
  }
 ],
 "metadata": {
  "kernelspec": {
   "display_name": "Python 3",
   "language": "python",
   "name": "python3"
  },
  "language_info": {
   "codemirror_mode": {
    "name": "ipython",
    "version": 3
   },
   "file_extension": ".py",
   "mimetype": "text/x-python",
   "name": "python",
   "nbconvert_exporter": "python",
   "pygments_lexer": "ipython3",
   "version": "3.5.3"
  }
 },
 "nbformat": 4,
 "nbformat_minor": 0
}
