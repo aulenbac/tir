{
 "cells": [
  {
   "cell_type": "markdown",
   "metadata": {
    "deletable": true,
    "editable": true
   },
   "source": [
    "Like all of the current thinking for the TIR, this code works through every registered taxa in the Taxa Information Registry and attempts to find and cache information from the World Register of Marine Species (WoRMS). It does this with a while loop to find something processable in the TIR with a safeguard on the number of records to process at a time that can be set for \"thisRun\".\n",
    "\n",
    "I also recently changed the whole data model for the TIR to accommodate JSON data structures in the different \"buckets\" of information we are caching rather than the key/value pairs in hstore columns. This lets us run a much more simple process here where we simply package a little bit of additional information and the eliminate (pop) a couple of properties from the WoRMS service response that we don't need/want to store. That is all handled in the worms module of the bis package with the packageWoRMSJSON function.\n",
    "\n",
    "The query that runs here does try to get an ITIS name from the TIR for the registered taxa, and if it exists, it will potentially use that name to query if it is different from the registered name. That way, we take advantage of having run an ITIS match previously. I made this independent of whether or not an ITIS match has been found, so we can opt to run the process again once ITIS processing is completed or updated over time."
   ]
  },
  {
   "cell_type": "code",
   "execution_count": 1,
   "metadata": {
    "collapsed": false,
    "deletable": true,
    "editable": true
   },
   "outputs": [],
   "source": [
    "import requests,re,json\n",
    "from IPython.display import display\n",
    "from bis import worms\n",
    "from bis import bis\n",
    "from bis import tir\n",
    "from bis2 import gc2"
   ]
  },
  {
   "cell_type": "code",
   "execution_count": 7,
   "metadata": {
    "collapsed": false,
    "deletable": true,
    "editable": true,
    "scrolled": true
   },
   "outputs": [
    {
     "data": {
      "text/plain": [
       "{'baseQueryURL': 'http://www.marinespecies.org/rest/AphiaRecordsByName/Viola sororia sororia',\n",
       " 'followTaxonomy': 'true',\n",
       " 'id': 20753,\n",
       " 'matchMethod': 'Not Matched',\n",
       " 'matchString': 'Viola sororia sororia',\n",
       " 'tryNames': ['Viola septentrionalis',\n",
       "  'Viola sororia var. sororia',\n",
       "  'Viola sororia sororia'],\n",
       " 'wormsJSON': {'MatchMethod': 'Not Matched',\n",
       "  'MatchString': 'Viola sororia sororia',\n",
       "  'cacheDate': '2017-09-08T13:14:20.160905'}}"
      ]
     },
     "metadata": {},
     "output_type": "display_data"
    },
    {
     "name": "stdout",
     "output_type": "stream",
     "text": [
      "{'affected_rows': 1, '_execution_time': 0.077, 'success': True, 'auth_check': {'session': None, 'auth_level': 'Write', 'success': True, 'checked_relations': ['tir.tir']}}\n"
     ]
    },
    {
     "data": {
      "text/plain": [
       "{'baseQueryURL': 'http://www.marinespecies.org/rest/AphiaRecordsByName/Geum rivale',\n",
       " 'followTaxonomy': 'true',\n",
       " 'id': 20755,\n",
       " 'matchMethod': 'Not Matched',\n",
       " 'matchString': 'Geum rivale',\n",
       " 'tryNames': ['Geum rivale'],\n",
       " 'wormsJSON': {'MatchMethod': 'Not Matched',\n",
       "  'MatchString': 'Geum rivale',\n",
       "  'cacheDate': '2017-09-08T13:14:21.764660'}}"
      ]
     },
     "metadata": {},
     "output_type": "display_data"
    },
    {
     "name": "stdout",
     "output_type": "stream",
     "text": [
      "{'affected_rows': 1, '_execution_time': 0.076, 'success': True, 'auth_check': {'session': None, 'auth_level': 'Write', 'success': True, 'checked_relations': ['tir.tir']}}\n"
     ]
    },
    {
     "data": {
      "text/plain": [
       "{'baseQueryURL': 'http://www.marinespecies.org/rest/AphiaRecordsByName/Lechea pulchella var pulchella',\n",
       " 'followTaxonomy': 'true',\n",
       " 'id': 20756,\n",
       " 'matchMethod': 'Not Matched',\n",
       " 'matchString': 'Lechea pulchella var pulchella',\n",
       " 'tryNames': ['Lechea pulchella var pulchella'],\n",
       " 'wormsJSON': {'MatchMethod': 'Not Matched',\n",
       "  'MatchString': 'Lechea pulchella var pulchella',\n",
       "  'cacheDate': '2017-09-08T13:14:23.579764'}}"
      ]
     },
     "metadata": {},
     "output_type": "display_data"
    },
    {
     "name": "stdout",
     "output_type": "stream",
     "text": [
      "{'affected_rows': 1, '_execution_time': 0.078, 'success': True, 'auth_check': {'session': None, 'auth_level': 'Write', 'success': True, 'checked_relations': ['tir.tir']}}\n"
     ]
    },
    {
     "data": {
      "text/plain": [
       "{'baseQueryURL': 'http://www.marinespecies.org/rest/AphiaRecordsByName/Stenanthium gramineum var robustum',\n",
       " 'followTaxonomy': 'true',\n",
       " 'id': 20757,\n",
       " 'matchMethod': 'Not Matched',\n",
       " 'matchString': 'Stenanthium gramineum var robustum',\n",
       " 'tryNames': ['Stenanthium gramineum var robustum'],\n",
       " 'wormsJSON': {'MatchMethod': 'Not Matched',\n",
       "  'MatchString': 'Stenanthium gramineum var robustum',\n",
       "  'cacheDate': '2017-09-08T13:14:26.523938'}}"
      ]
     },
     "metadata": {},
     "output_type": "display_data"
    },
    {
     "name": "stdout",
     "output_type": "stream",
     "text": [
      "{'affected_rows': 1, '_execution_time': 0.077, 'success': True, 'auth_check': {'session': None, 'auth_level': 'Write', 'success': True, 'checked_relations': ['tir.tir']}}\n"
     ]
    },
    {
     "data": {
      "text/plain": [
       "{'baseQueryURL': 'http://www.marinespecies.org/rest/AphiaRecordsByName/Dichanthelium acuminatum acuminatum',\n",
       " 'followTaxonomy': 'true',\n",
       " 'id': 20759,\n",
       " 'matchMethod': 'Not Matched',\n",
       " 'matchString': 'Dichanthelium acuminatum acuminatum',\n",
       " 'tryNames': ['Dichanthelium meridionale',\n",
       "  'Dichanthelium acuminatum var. acuminatum',\n",
       "  'Dichanthelium acuminatum acuminatum'],\n",
       " 'wormsJSON': {'MatchMethod': 'Not Matched',\n",
       "  'MatchString': 'Dichanthelium acuminatum acuminatum',\n",
       "  'cacheDate': '2017-09-08T13:14:32.407902'}}"
      ]
     },
     "metadata": {},
     "output_type": "display_data"
    },
    {
     "name": "stdout",
     "output_type": "stream",
     "text": [
      "{'affected_rows': 1, '_execution_time': 0.076, 'success': True, 'auth_check': {'session': None, 'auth_level': 'Write', 'success': True, 'checked_relations': ['tir.tir']}}\n"
     ]
    },
    {
     "data": {
      "text/plain": [
       "{'baseQueryURL': 'http://www.marinespecies.org/rest/AphiaRecordsByName/Stenotrema macgregori',\n",
       " 'followTaxonomy': 'true',\n",
       " 'id': 20761,\n",
       " 'matchMethod': 'Not Matched',\n",
       " 'matchString': 'Stenotrema macgregori',\n",
       " 'tryNames': ['Stenotrema macgregori'],\n",
       " 'wormsJSON': {'MatchMethod': 'Not Matched',\n",
       "  'MatchString': 'Stenotrema macgregori',\n",
       "  'cacheDate': '2017-09-08T13:14:34.102523'}}"
      ]
     },
     "metadata": {},
     "output_type": "display_data"
    },
    {
     "name": "stdout",
     "output_type": "stream",
     "text": [
      "{'affected_rows': 1, '_execution_time': 0.076, 'success': True, 'auth_check': {'session': None, 'auth_level': 'Write', 'success': True, 'checked_relations': ['tir.tir']}}\n"
     ]
    },
    {
     "data": {
      "text/plain": [
       "{'baseQueryURL': 'http://www.marinespecies.org/rest/AphiaRecordsByName/Prunus angustifolia var angustifolia',\n",
       " 'followTaxonomy': 'true',\n",
       " 'id': 20762,\n",
       " 'matchMethod': 'Not Matched',\n",
       " 'matchString': 'Prunus angustifolia var angustifolia',\n",
       " 'tryNames': ['Prunus angustifolia var angustifolia'],\n",
       " 'wormsJSON': {'MatchMethod': 'Not Matched',\n",
       "  'MatchString': 'Prunus angustifolia var angustifolia',\n",
       "  'cacheDate': '2017-09-08T13:14:35.969261'}}"
      ]
     },
     "metadata": {},
     "output_type": "display_data"
    },
    {
     "name": "stdout",
     "output_type": "stream",
     "text": [
      "{'affected_rows': 1, '_execution_time': 0.077, 'success': True, 'auth_check': {'session': None, 'auth_level': 'Write', 'success': True, 'checked_relations': ['tir.tir']}}\n"
     ]
    },
    {
     "data": {
      "text/plain": [
       "{'baseQueryURL': 'http://www.marinespecies.org/rest/AphiaRecordsByName/Juncus brachycarpus',\n",
       " 'followTaxonomy': 'true',\n",
       " 'id': 20763,\n",
       " 'matchMethod': 'Not Matched',\n",
       " 'matchString': 'Juncus brachycarpus',\n",
       " 'tryNames': ['Juncus brachycarpus'],\n",
       " 'wormsJSON': {'MatchMethod': 'Not Matched',\n",
       "  'MatchString': 'Juncus brachycarpus',\n",
       "  'cacheDate': '2017-09-08T13:14:38.887651'}}"
      ]
     },
     "metadata": {},
     "output_type": "display_data"
    },
    {
     "name": "stdout",
     "output_type": "stream",
     "text": [
      "{'affected_rows': 1, '_execution_time': 0.075, 'success': True, 'auth_check': {'session': None, 'auth_level': 'Write', 'success': True, 'checked_relations': ['tir.tir']}}\n"
     ]
    },
    {
     "data": {
      "text/plain": [
       "{'baseQueryURL': 'http://www.marinespecies.org/rest/AphiaRecordsByName/Melothria pendula var pendula',\n",
       " 'followTaxonomy': 'true',\n",
       " 'id': 20765,\n",
       " 'matchMethod': 'Not Matched',\n",
       " 'matchString': 'Melothria pendula var pendula',\n",
       " 'tryNames': ['Melothria pendula var pendula'],\n",
       " 'wormsJSON': {'MatchMethod': 'Not Matched',\n",
       "  'MatchString': 'Melothria pendula var pendula',\n",
       "  'cacheDate': '2017-09-08T13:14:40.584107'}}"
      ]
     },
     "metadata": {},
     "output_type": "display_data"
    },
    {
     "name": "stdout",
     "output_type": "stream",
     "text": [
      "{'affected_rows': 1, '_execution_time': 0.078, 'success': True, 'auth_check': {'session': None, 'auth_level': 'Write', 'success': True, 'checked_relations': ['tir.tir']}}\n"
     ]
    },
    {
     "data": {
      "text/plain": [
       "{'baseQueryURL': 'http://www.marinespecies.org/rest/AphiaRecordsByName/Dichanthelium boreale',\n",
       " 'followTaxonomy': 'true',\n",
       " 'id': 20767,\n",
       " 'matchMethod': 'Not Matched',\n",
       " 'matchString': 'Dichanthelium boreale',\n",
       " 'tryNames': ['Dichanthelium boreale'],\n",
       " 'wormsJSON': {'MatchMethod': 'Not Matched',\n",
       "  'MatchString': 'Dichanthelium boreale',\n",
       "  'cacheDate': '2017-09-08T13:14:42.190761'}}"
      ]
     },
     "metadata": {},
     "output_type": "display_data"
    },
    {
     "name": "stdout",
     "output_type": "stream",
     "text": [
      "{'affected_rows': 1, '_execution_time': 0.077, 'success': True, 'auth_check': {'session': None, 'auth_level': 'Write', 'success': True, 'checked_relations': ['tir.tir']}}\n"
     ]
    },
    {
     "data": {
      "text/plain": [
       "{'baseQueryURL': 'http://www.marinespecies.org/rest/AphiaRecordsByName/Eupatorium maculatum var maculatum',\n",
       " 'followTaxonomy': 'true',\n",
       " 'id': 20768,\n",
       " 'matchMethod': 'Not Matched',\n",
       " 'matchString': 'Eupatorium maculatum var maculatum',\n",
       " 'tryNames': ['Eupatorium maculatum var maculatum'],\n",
       " 'wormsJSON': {'MatchMethod': 'Not Matched',\n",
       "  'MatchString': 'Eupatorium maculatum var maculatum',\n",
       "  'cacheDate': '2017-09-08T13:14:43.893727'}}"
      ]
     },
     "metadata": {},
     "output_type": "display_data"
    },
    {
     "name": "stdout",
     "output_type": "stream",
     "text": [
      "{'affected_rows': 1, '_execution_time': 0.076, 'success': True, 'auth_check': {'session': None, 'auth_level': 'Write', 'success': True, 'checked_relations': ['tir.tir']}}\n"
     ]
    },
    {
     "data": {
      "text/plain": [
       "{'baseQueryURL': 'http://www.marinespecies.org/rest/AphiaRecordsByName/Eleocharis quadrangulata',\n",
       " 'followTaxonomy': 'true',\n",
       " 'id': 20769,\n",
       " 'matchMethod': 'Not Matched',\n",
       " 'matchString': 'Eleocharis quadrangulata',\n",
       " 'tryNames': ['Eleocharis quadrangulata'],\n",
       " 'wormsJSON': {'MatchMethod': 'Not Matched',\n",
       "  'MatchString': 'Eleocharis quadrangulata',\n",
       "  'cacheDate': '2017-09-08T13:14:47.030410'}}"
      ]
     },
     "metadata": {},
     "output_type": "display_data"
    },
    {
     "name": "stdout",
     "output_type": "stream",
     "text": [
      "{'affected_rows': 1, '_execution_time': 0.083, 'success': True, 'auth_check': {'session': None, 'auth_level': 'Write', 'success': True, 'checked_relations': ['tir.tir']}}\n"
     ]
    },
    {
     "data": {
      "text/plain": [
       "{'baseQueryURL': 'http://www.marinespecies.org/rest/AphiaRecordsByName/Solidago simplex ssp randii',\n",
       " 'followTaxonomy': 'true',\n",
       " 'id': 20770,\n",
       " 'matchMethod': 'Not Matched',\n",
       " 'matchString': 'Solidago simplex ssp randii',\n",
       " 'tryNames': ['Solidago simplex ssp randii'],\n",
       " 'wormsJSON': {'MatchMethod': 'Not Matched',\n",
       "  'MatchString': 'Solidago simplex ssp randii',\n",
       "  'cacheDate': '2017-09-08T13:14:50.035072'}}"
      ]
     },
     "metadata": {},
     "output_type": "display_data"
    },
    {
     "name": "stdout",
     "output_type": "stream",
     "text": [
      "{'affected_rows': 1, '_execution_time': 0.078, 'success': True, 'auth_check': {'session': None, 'auth_level': 'Write', 'success': True, 'checked_relations': ['tir.tir']}}\n"
     ]
    },
    {
     "data": {
      "text/plain": [
       "{'baseQueryURL': 'http://www.marinespecies.org/rest/AphiaRecordsByName/Isoetes riparia var riparia',\n",
       " 'followTaxonomy': 'true',\n",
       " 'id': 20771,\n",
       " 'matchMethod': 'Not Matched',\n",
       " 'matchString': 'Isoetes riparia var riparia',\n",
       " 'tryNames': ['Isoetes riparia var riparia'],\n",
       " 'wormsJSON': {'MatchMethod': 'Not Matched',\n",
       "  'MatchString': 'Isoetes riparia var riparia',\n",
       "  'cacheDate': '2017-09-08T13:14:51.673313'}}"
      ]
     },
     "metadata": {},
     "output_type": "display_data"
    },
    {
     "name": "stdout",
     "output_type": "stream",
     "text": [
      "{'affected_rows': 1, '_execution_time': 0.08, 'success': True, 'auth_check': {'session': None, 'auth_level': 'Write', 'success': True, 'checked_relations': ['tir.tir']}}\n"
     ]
    },
    {
     "data": {
      "text/plain": [
       "{'baseQueryURL': 'http://www.marinespecies.org/rest/AphiaRecordsByName/Amorpha fruticosa',\n",
       " 'followTaxonomy': 'true',\n",
       " 'id': 20772,\n",
       " 'matchMethod': 'Not Matched',\n",
       " 'matchString': 'Amorpha fruticosa',\n",
       " 'tryNames': ['Amorpha fruticosa'],\n",
       " 'wormsJSON': {'MatchMethod': 'Not Matched',\n",
       "  'MatchString': 'Amorpha fruticosa',\n",
       "  'cacheDate': '2017-09-08T13:14:53.310426'}}"
      ]
     },
     "metadata": {},
     "output_type": "display_data"
    },
    {
     "name": "stdout",
     "output_type": "stream",
     "text": [
      "{'affected_rows': 1, '_execution_time': 0.076, 'success': True, 'auth_check': {'session': None, 'auth_level': 'Write', 'success': True, 'checked_relations': ['tir.tir']}}\n"
     ]
    },
    {
     "data": {
      "text/plain": [
       "{'baseQueryURL': 'http://www.marinespecies.org/rest/AphiaRecordsByName/Dalibarda repens',\n",
       " 'followTaxonomy': 'true',\n",
       " 'id': 20773,\n",
       " 'matchMethod': 'Not Matched',\n",
       " 'matchString': 'Dalibarda repens',\n",
       " 'tryNames': ['Dalibarda repens'],\n",
       " 'wormsJSON': {'MatchMethod': 'Not Matched',\n",
       "  'MatchString': 'Dalibarda repens',\n",
       "  'cacheDate': '2017-09-08T13:14:54.998917'}}"
      ]
     },
     "metadata": {},
     "output_type": "display_data"
    },
    {
     "name": "stdout",
     "output_type": "stream",
     "text": [
      "{'affected_rows': 1, '_execution_time': 0.077, 'success': True, 'auth_check': {'session': None, 'auth_level': 'Write', 'success': True, 'checked_relations': ['tir.tir']}}\n"
     ]
    },
    {
     "data": {
      "text/plain": [
       "{'baseQueryURL': 'http://www.marinespecies.org/rest/AphiaRecordsByName/Pseudanophthalmus senecae',\n",
       " 'followTaxonomy': 'true',\n",
       " 'id': 20775,\n",
       " 'matchMethod': 'Not Matched',\n",
       " 'matchString': 'Pseudanophthalmus senecae',\n",
       " 'tryNames': ['Pseudanophthalmus senecae'],\n",
       " 'wormsJSON': {'MatchMethod': 'Not Matched',\n",
       "  'MatchString': 'Pseudanophthalmus senecae',\n",
       "  'cacheDate': '2017-09-08T13:14:57.755463'}}"
      ]
     },
     "metadata": {},
     "output_type": "display_data"
    },
    {
     "name": "stdout",
     "output_type": "stream",
     "text": [
      "{'affected_rows': 1, '_execution_time': 0.079, 'success': True, 'auth_check': {'session': None, 'auth_level': 'Write', 'success': True, 'checked_relations': ['tir.tir']}}\n"
     ]
    },
    {
     "data": {
      "text/plain": [
       "{'baseQueryURL': 'http://www.marinespecies.org/rest/AphiaRecordsByName/Euconulus polygyratus',\n",
       " 'followTaxonomy': 'true',\n",
       " 'id': 20776,\n",
       " 'matchMethod': 'Not Matched',\n",
       " 'matchString': 'Euconulus polygyratus',\n",
       " 'tryNames': ['Euconulus polygyratus'],\n",
       " 'wormsJSON': {'MatchMethod': 'Not Matched',\n",
       "  'MatchString': 'Euconulus polygyratus',\n",
       "  'cacheDate': '2017-09-08T13:15:00.393333'}}"
      ]
     },
     "metadata": {},
     "output_type": "display_data"
    },
    {
     "name": "stdout",
     "output_type": "stream",
     "text": [
      "{'affected_rows': 1, '_execution_time': 0.077, 'success': True, 'auth_check': {'session': None, 'auth_level': 'Write', 'success': True, 'checked_relations': ['tir.tir']}}\n"
     ]
    },
    {
     "data": {
      "text/plain": [
       "{'baseQueryURL': 'http://www.marinespecies.org/rest/AphiaRecordsByName/Glyphyalinia lewisiana',\n",
       " 'followTaxonomy': 'true',\n",
       " 'id': 20777,\n",
       " 'matchMethod': 'Not Matched',\n",
       " 'matchString': 'Glyphyalinia lewisiana',\n",
       " 'tryNames': ['Glyphyalinia lewisiana'],\n",
       " 'wormsJSON': {'MatchMethod': 'Not Matched',\n",
       "  'MatchString': 'Glyphyalinia lewisiana',\n",
       "  'cacheDate': '2017-09-08T13:15:02.684612'}}"
      ]
     },
     "metadata": {},
     "output_type": "display_data"
    },
    {
     "name": "stdout",
     "output_type": "stream",
     "text": [
      "{'affected_rows': 1, '_execution_time': 0.078, 'success': True, 'auth_check': {'session': None, 'auth_level': 'Write', 'success': True, 'checked_relations': ['tir.tir']}}\n"
     ]
    },
    {
     "data": {
      "text/plain": [
       "{'baseQueryURL': 'http://www.marinespecies.org/rest/AphiaRecordsByName/Carex emoryi',\n",
       " 'followTaxonomy': 'true',\n",
       " 'id': 20778,\n",
       " 'matchMethod': 'Not Matched',\n",
       " 'matchString': 'Carex emoryi',\n",
       " 'tryNames': ['Carex emoryi'],\n",
       " 'wormsJSON': {'MatchMethod': 'Not Matched',\n",
       "  'MatchString': 'Carex emoryi',\n",
       "  'cacheDate': '2017-09-08T13:15:04.373343'}}"
      ]
     },
     "metadata": {},
     "output_type": "display_data"
    },
    {
     "name": "stdout",
     "output_type": "stream",
     "text": [
      "{'affected_rows': 1, '_execution_time': 0.084, 'success': True, 'auth_check': {'session': None, 'auth_level': 'Write', 'success': True, 'checked_relations': ['tir.tir']}}\n"
     ]
    },
    {
     "data": {
      "text/plain": [
       "{'baseQueryURL': 'http://www.marinespecies.org/rest/AphiaRecordsByName/Pyrgus wyandot',\n",
       " 'followTaxonomy': 'true',\n",
       " 'id': 20779,\n",
       " 'matchMethod': 'Not Matched',\n",
       " 'matchString': 'Pyrgus wyandot',\n",
       " 'tryNames': ['Pyrgus wyandot'],\n",
       " 'wormsJSON': {'MatchMethod': 'Not Matched',\n",
       "  'MatchString': 'Pyrgus wyandot',\n",
       "  'cacheDate': '2017-09-08T13:15:07.188277'}}"
      ]
     },
     "metadata": {},
     "output_type": "display_data"
    },
    {
     "name": "stdout",
     "output_type": "stream",
     "text": [
      "{'affected_rows': 1, '_execution_time': 0.085, 'success': True, 'auth_check': {'session': None, 'auth_level': 'Write', 'success': True, 'checked_relations': ['tir.tir']}}\n"
     ]
    },
    {
     "data": {
      "text/plain": [
       "{'baseQueryURL': 'http://www.marinespecies.org/rest/AphiaRecordsByName/Anguispira clarki',\n",
       " 'followTaxonomy': 'true',\n",
       " 'id': 20780,\n",
       " 'matchMethod': 'Not Matched',\n",
       " 'matchString': 'Anguispira clarki',\n",
       " 'tryNames': ['Anguispira clarki'],\n",
       " 'wormsJSON': {'MatchMethod': 'Not Matched',\n",
       "  'MatchString': 'Anguispira clarki',\n",
       "  'cacheDate': '2017-09-08T13:15:09.443979'}}"
      ]
     },
     "metadata": {},
     "output_type": "display_data"
    },
    {
     "name": "stdout",
     "output_type": "stream",
     "text": [
      "{'affected_rows': 1, '_execution_time': 0.082, 'success': True, 'auth_check': {'session': None, 'auth_level': 'Write', 'success': True, 'checked_relations': ['tir.tir']}}\n"
     ]
    },
    {
     "data": {
      "text/plain": [
       "{'baseQueryURL': 'http://www.marinespecies.org/rest/AphiaRecordsByName/Carex lucorum var austrolucorum',\n",
       " 'followTaxonomy': 'true',\n",
       " 'id': 20781,\n",
       " 'matchMethod': 'Not Matched',\n",
       " 'matchString': 'Carex lucorum var austrolucorum',\n",
       " 'tryNames': ['Carex lucorum var austrolucorum'],\n",
       " 'wormsJSON': {'MatchMethod': 'Not Matched',\n",
       "  'MatchString': 'Carex lucorum var austrolucorum',\n",
       "  'cacheDate': '2017-09-08T13:15:10.999950'}}"
      ]
     },
     "metadata": {},
     "output_type": "display_data"
    },
    {
     "name": "stdout",
     "output_type": "stream",
     "text": [
      "{'affected_rows': 1, '_execution_time': 0.08, 'success': True, 'auth_check': {'session': None, 'auth_level': 'Write', 'success': True, 'checked_relations': ['tir.tir']}}\n"
     ]
    },
    {
     "data": {
      "text/plain": [
       "{'baseQueryURL': 'http://www.marinespecies.org/rest/AphiaRecordsByName/Tramea onusta',\n",
       " 'followTaxonomy': 'true',\n",
       " 'id': 20782,\n",
       " 'matchMethod': 'Not Matched',\n",
       " 'matchString': 'Tramea onusta',\n",
       " 'tryNames': ['Tramea onusta'],\n",
       " 'wormsJSON': {'MatchMethod': 'Not Matched',\n",
       "  'MatchString': 'Tramea onusta',\n",
       "  'cacheDate': '2017-09-08T13:15:12.642003'}}"
      ]
     },
     "metadata": {},
     "output_type": "display_data"
    },
    {
     "name": "stdout",
     "output_type": "stream",
     "text": [
      "{'affected_rows': 1, '_execution_time': 0.077, 'success': True, 'auth_check': {'session': None, 'auth_level': 'Write', 'success': True, 'checked_relations': ['tir.tir']}}\n"
     ]
    },
    {
     "data": {
      "text/plain": [
       "{'baseQueryURL': 'http://www.marinespecies.org/rest/AphiaRecordsByName/Ageratina aromatica var aromatica',\n",
       " 'followTaxonomy': 'true',\n",
       " 'id': 20783,\n",
       " 'matchMethod': 'Not Matched',\n",
       " 'matchString': 'Ageratina aromatica var aromatica',\n",
       " 'tryNames': ['Ageratina aromatica var aromatica'],\n",
       " 'wormsJSON': {'MatchMethod': 'Not Matched',\n",
       "  'MatchString': 'Ageratina aromatica var aromatica',\n",
       "  'cacheDate': '2017-09-08T13:15:14.210575'}}"
      ]
     },
     "metadata": {},
     "output_type": "display_data"
    },
    {
     "name": "stdout",
     "output_type": "stream",
     "text": [
      "{'affected_rows': 1, '_execution_time': 0.08, 'success': True, 'auth_check': {'session': None, 'auth_level': 'Write', 'success': True, 'checked_relations': ['tir.tir']}}\n"
     ]
    },
    {
     "data": {
      "text/plain": [
       "{'baseQueryURL': 'http://www.marinespecies.org/rest/AphiaRecordsByName/Nuttallanthus canadensis',\n",
       " 'followTaxonomy': 'true',\n",
       " 'id': 20784,\n",
       " 'matchMethod': 'Not Matched',\n",
       " 'matchString': 'Nuttallanthus canadensis',\n",
       " 'tryNames': ['Nuttallanthus canadensis'],\n",
       " 'wormsJSON': {'MatchMethod': 'Not Matched',\n",
       "  'MatchString': 'Nuttallanthus canadensis',\n",
       "  'cacheDate': '2017-09-08T13:15:18.356313'}}"
      ]
     },
     "metadata": {},
     "output_type": "display_data"
    },
    {
     "name": "stdout",
     "output_type": "stream",
     "text": [
      "{'affected_rows': 1, '_execution_time': 0.078, 'success': True, 'auth_check': {'session': None, 'auth_level': 'Write', 'success': True, 'checked_relations': ['tir.tir']}}\n"
     ]
    },
    {
     "data": {
      "text/plain": [
       "{'baseQueryURL': 'http://www.marinespecies.org/rest/AphiaRecordsByName/Viola tripartita',\n",
       " 'followTaxonomy': 'true',\n",
       " 'id': 20785,\n",
       " 'matchMethod': 'Not Matched',\n",
       " 'matchString': 'Viola tripartita',\n",
       " 'tryNames': ['Viola tripartita'],\n",
       " 'wormsJSON': {'MatchMethod': 'Not Matched',\n",
       "  'MatchString': 'Viola tripartita',\n",
       "  'cacheDate': '2017-09-08T13:15:20.025547'}}"
      ]
     },
     "metadata": {},
     "output_type": "display_data"
    },
    {
     "name": "stdout",
     "output_type": "stream",
     "text": [
      "{'affected_rows': 1, '_execution_time': 0.078, 'success': True, 'auth_check': {'session': None, 'auth_level': 'Write', 'success': True, 'checked_relations': ['tir.tir']}}\n"
     ]
    },
    {
     "data": {
      "text/plain": [
       "{'baseQueryURL': 'http://www.marinespecies.org/rest/AphiaRecordsByName/Cottus',\n",
       " 'followTaxonomy': 'true',\n",
       " 'id': 20786,\n",
       " 'matchMethod': 'Exact Match',\n",
       " 'matchString': 'Cottus',\n",
       " 'tryNames': ['Cottus'],\n",
       " 'wormsJSON': {'AphiaID': 126148,\n",
       "  'MatchMethod': 'Exact Match',\n",
       "  'MatchString': 'Cottus',\n",
       "  'cacheDate': '2017-09-08T13:15:21.253109',\n",
       "  'class': 'Actinopterygii',\n",
       "  'family': 'Cottidae',\n",
       "  'genus': 'Cottus',\n",
       "  'isBrackish': 0,\n",
       "  'isExtinct': None,\n",
       "  'isFreshwater': 0,\n",
       "  'isMarine': 1,\n",
       "  'isTerrestrial': None,\n",
       "  'kingdom': 'Animalia',\n",
       "  'lsid': 'urn:lsid:marinespecies.org:taxname:126148',\n",
       "  'match_type': 'exact',\n",
       "  'modified': '2014-11-21T14:09:38Z',\n",
       "  'order': 'Scorpaeniformes',\n",
       "  'phylum': 'Chordata',\n",
       "  'rank': 'Genus',\n",
       "  'scientificname': 'Cottus',\n",
       "  'status': 'accepted',\n",
       "  'unacceptreason': None,\n",
       "  'valid_AphiaID': 126148,\n",
       "  'valid_name': 'Cottus'}}"
      ]
     },
     "metadata": {},
     "output_type": "display_data"
    },
    {
     "name": "stdout",
     "output_type": "stream",
     "text": [
      "{'affected_rows': 1, '_execution_time': 0.078, 'success': True, 'auth_check': {'session': None, 'auth_level': 'Write', 'success': True, 'checked_relations': ['tir.tir']}}\n"
     ]
    },
    {
     "data": {
      "text/plain": [
       "{'baseQueryURL': 'http://www.marinespecies.org/rest/AphiaRecordsByName/Mesodon normalis',\n",
       " 'followTaxonomy': 'true',\n",
       " 'id': 20787,\n",
       " 'matchMethod': 'Not Matched',\n",
       " 'matchString': 'Mesodon normalis',\n",
       " 'tryNames': ['Mesodon normalis'],\n",
       " 'wormsJSON': {'MatchMethod': 'Not Matched',\n",
       "  'MatchString': 'Mesodon normalis',\n",
       "  'cacheDate': '2017-09-08T13:15:22.854263'}}"
      ]
     },
     "metadata": {},
     "output_type": "display_data"
    },
    {
     "name": "stdout",
     "output_type": "stream",
     "text": [
      "{'affected_rows': 1, '_execution_time': 0.077, 'success': True, 'auth_check': {'session': None, 'auth_level': 'Write', 'success': True, 'checked_relations': ['tir.tir']}}\n"
     ]
    },
    {
     "data": {
      "text/plain": [
       "{'baseQueryURL': 'http://www.marinespecies.org/rest/AphiaRecordsByName/Silene virginica var robusta',\n",
       " 'followTaxonomy': 'true',\n",
       " 'id': 20788,\n",
       " 'matchMethod': 'Not Matched',\n",
       " 'matchString': 'Silene virginica var robusta',\n",
       " 'tryNames': ['Silene virginica var robusta'],\n",
       " 'wormsJSON': {'MatchMethod': 'Not Matched',\n",
       "  'MatchString': 'Silene virginica var robusta',\n",
       "  'cacheDate': '2017-09-08T13:15:24.779621'}}"
      ]
     },
     "metadata": {},
     "output_type": "display_data"
    },
    {
     "name": "stdout",
     "output_type": "stream",
     "text": [
      "{'affected_rows': 1, '_execution_time': 0.078, 'success': True, 'auth_check': {'session': None, 'auth_level': 'Write', 'success': True, 'checked_relations': ['tir.tir']}}\n"
     ]
    },
    {
     "data": {
      "text/plain": [
       "{'baseQueryURL': 'http://www.marinespecies.org/rest/AphiaRecordsByName/Cottus kanawhae',\n",
       " 'followTaxonomy': 'true',\n",
       " 'id': 20789,\n",
       " 'matchMethod': 'Exact Match',\n",
       " 'matchString': 'Cottus kanawhae',\n",
       " 'tryNames': ['Cottus kanawhae'],\n",
       " 'wormsJSON': {'AphiaID': 1009295,\n",
       "  'MatchMethod': 'Exact Match',\n",
       "  'MatchString': 'Cottus kanawhae',\n",
       "  'cacheDate': '2017-09-08T13:15:26.724551',\n",
       "  'class': 'Actinopterygii',\n",
       "  'family': 'Cottidae',\n",
       "  'genus': 'Cottus',\n",
       "  'isBrackish': 0,\n",
       "  'isExtinct': None,\n",
       "  'isFreshwater': 1,\n",
       "  'isMarine': 0,\n",
       "  'isTerrestrial': 0,\n",
       "  'kingdom': 'Animalia',\n",
       "  'lsid': 'urn:lsid:marinespecies.org:taxname:1009295',\n",
       "  'match_type': 'exact',\n",
       "  'modified': '2017-07-05T09:11:59Z',\n",
       "  'order': 'Scorpaeniformes',\n",
       "  'phylum': 'Chordata',\n",
       "  'rank': 'Species',\n",
       "  'scientificname': 'Cottus kanawhae',\n",
       "  'status': 'accepted',\n",
       "  'unacceptreason': None,\n",
       "  'valid_AphiaID': 1009295,\n",
       "  'valid_name': 'Cottus kanawhae'}}"
      ]
     },
     "metadata": {},
     "output_type": "display_data"
    },
    {
     "name": "stdout",
     "output_type": "stream",
     "text": [
      "{'affected_rows': 1, '_execution_time': 0.084, 'success': True, 'auth_check': {'session': None, 'auth_level': 'Write', 'success': True, 'checked_relations': ['tir.tir']}}\n"
     ]
    },
    {
     "data": {
      "text/plain": [
       "{'baseQueryURL': 'http://www.marinespecies.org/rest/AphiaRecordsByName/Oenothera argillicola',\n",
       " 'followTaxonomy': 'true',\n",
       " 'id': 20791,\n",
       " 'matchMethod': 'Not Matched',\n",
       " 'matchString': 'Oenothera argillicola',\n",
       " 'tryNames': ['Oenothera argillicola'],\n",
       " 'wormsJSON': {'MatchMethod': 'Not Matched',\n",
       "  'MatchString': 'Oenothera argillicola',\n",
       "  'cacheDate': '2017-09-08T13:15:28.994631'}}"
      ]
     },
     "metadata": {},
     "output_type": "display_data"
    },
    {
     "name": "stdout",
     "output_type": "stream",
     "text": [
      "{'affected_rows': 1, '_execution_time': 0.077, 'success': True, 'auth_check': {'session': None, 'auth_level': 'Write', 'success': True, 'checked_relations': ['tir.tir']}}\n"
     ]
    },
    {
     "data": {
      "text/plain": [
       "{'baseQueryURL': 'http://www.marinespecies.org/rest/AphiaRecordsByName/Triodopsis fallax',\n",
       " 'followTaxonomy': 'true',\n",
       " 'id': 20793,\n",
       " 'matchMethod': 'Not Matched',\n",
       " 'matchString': 'Triodopsis fallax',\n",
       " 'tryNames': ['Triodopsis fallax'],\n",
       " 'wormsJSON': {'MatchMethod': 'Not Matched',\n",
       "  'MatchString': 'Triodopsis fallax',\n",
       "  'cacheDate': '2017-09-08T13:15:30.630181'}}"
      ]
     },
     "metadata": {},
     "output_type": "display_data"
    },
    {
     "name": "stdout",
     "output_type": "stream",
     "text": [
      "{'affected_rows': 1, '_execution_time': 0.077, 'success': True, 'auth_check': {'session': None, 'auth_level': 'Write', 'success': True, 'checked_relations': ['tir.tir']}}\n"
     ]
    },
    {
     "data": {
      "text/plain": [
       "{'baseQueryURL': 'http://www.marinespecies.org/rest/AphiaRecordsByName/Calystegia spithamaea ssp purshiana',\n",
       " 'followTaxonomy': 'true',\n",
       " 'id': 20795,\n",
       " 'matchMethod': 'Not Matched',\n",
       " 'matchString': 'Calystegia spithamaea ssp purshiana',\n",
       " 'tryNames': ['Calystegia spithamaea ssp purshiana'],\n",
       " 'wormsJSON': {'MatchMethod': 'Not Matched',\n",
       "  'MatchString': 'Calystegia spithamaea ssp purshiana',\n",
       "  'cacheDate': '2017-09-08T13:15:32.227602'}}"
      ]
     },
     "metadata": {},
     "output_type": "display_data"
    },
    {
     "name": "stdout",
     "output_type": "stream",
     "text": [
      "{'affected_rows': 1, '_execution_time': 0.078, 'success': True, 'auth_check': {'session': None, 'auth_level': 'Write', 'success': True, 'checked_relations': ['tir.tir']}}\n"
     ]
    },
    {
     "data": {
      "text/plain": [
       "{'baseQueryURL': 'http://www.marinespecies.org/rest/AphiaRecordsByName/Vaccinium oxycoccos',\n",
       " 'followTaxonomy': 'true',\n",
       " 'id': 20796,\n",
       " 'matchMethod': 'Not Matched',\n",
       " 'matchString': 'Vaccinium oxycoccos',\n",
       " 'tryNames': ['Vaccinium oxycoccos'],\n",
       " 'wormsJSON': {'MatchMethod': 'Not Matched',\n",
       "  'MatchString': 'Vaccinium oxycoccos',\n",
       "  'cacheDate': '2017-09-08T13:15:33.800924'}}"
      ]
     },
     "metadata": {},
     "output_type": "display_data"
    },
    {
     "name": "stdout",
     "output_type": "stream",
     "text": [
      "{'affected_rows': 1, '_execution_time': 0.077, 'success': True, 'auth_check': {'session': None, 'auth_level': 'Write', 'success': True, 'checked_relations': ['tir.tir']}}\n"
     ]
    },
    {
     "data": {
      "text/plain": [
       "{'baseQueryURL': 'http://www.marinespecies.org/rest/AphiaRecordsByName/Andropogon glomeratus var glomeratus',\n",
       " 'followTaxonomy': 'true',\n",
       " 'id': 20797,\n",
       " 'matchMethod': 'Not Matched',\n",
       " 'matchString': 'Andropogon glomeratus var glomeratus',\n",
       " 'tryNames': ['Andropogon glomeratus var glomeratus'],\n",
       " 'wormsJSON': {'MatchMethod': 'Not Matched',\n",
       "  'MatchString': 'Andropogon glomeratus var glomeratus',\n",
       "  'cacheDate': '2017-09-08T13:15:38.001896'}}"
      ]
     },
     "metadata": {},
     "output_type": "display_data"
    },
    {
     "name": "stdout",
     "output_type": "stream",
     "text": [
      "{'affected_rows': 1, '_execution_time': 0.078, 'success': True, 'auth_check': {'session': None, 'auth_level': 'Write', 'success': True, 'checked_relations': ['tir.tir']}}\n"
     ]
    },
    {
     "data": {
      "text/plain": [
       "{'baseQueryURL': 'http://www.marinespecies.org/rest/AphiaRecordsByName/Allium allegheniense',\n",
       " 'followTaxonomy': 'true',\n",
       " 'id': 20798,\n",
       " 'matchMethod': 'Not Matched',\n",
       " 'matchString': 'Allium allegheniense',\n",
       " 'tryNames': ['Allium allegheniense'],\n",
       " 'wormsJSON': {'MatchMethod': 'Not Matched',\n",
       "  'MatchString': 'Allium allegheniense',\n",
       "  'cacheDate': '2017-09-08T13:15:39.584726'}}"
      ]
     },
     "metadata": {},
     "output_type": "display_data"
    },
    {
     "name": "stdout",
     "output_type": "stream",
     "text": [
      "{'affected_rows': 1, '_execution_time': 0.078, 'success': True, 'auth_check': {'session': None, 'auth_level': 'Write', 'success': True, 'checked_relations': ['tir.tir']}}\n"
     ]
    },
    {
     "data": {
      "text/plain": [
       "{'baseQueryURL': 'http://www.marinespecies.org/rest/AphiaRecordsByName/Camberus callainus',\n",
       " 'followTaxonomy': 'true',\n",
       " 'id': 20799,\n",
       " 'matchMethod': 'Not Matched',\n",
       " 'matchString': 'Camberus callainus',\n",
       " 'tryNames': ['Camberus callainus'],\n",
       " 'wormsJSON': {'MatchMethod': 'Not Matched',\n",
       "  'MatchString': 'Camberus callainus',\n",
       "  'cacheDate': '2017-09-08T13:15:41.130910'}}"
      ]
     },
     "metadata": {},
     "output_type": "display_data"
    },
    {
     "name": "stdout",
     "output_type": "stream",
     "text": [
      "{'affected_rows': 1, '_execution_time': 0.078, 'success': True, 'auth_check': {'session': None, 'auth_level': 'Write', 'success': True, 'checked_relations': ['tir.tir']}}\n"
     ]
    },
    {
     "data": {
      "text/plain": [
       "{'baseQueryURL': 'http://www.marinespecies.org/rest/AphiaRecordsByName/Dubius b',\n",
       " 'followTaxonomy': 'true',\n",
       " 'id': 20800,\n",
       " 'matchMethod': 'Not Matched',\n",
       " 'matchString': 'Dubius b',\n",
       " 'tryNames': ['Dubius b'],\n",
       " 'wormsJSON': {'MatchMethod': 'Not Matched',\n",
       "  'MatchString': 'Dubius b',\n",
       "  'cacheDate': '2017-09-08T13:15:42.741984'}}"
      ]
     },
     "metadata": {},
     "output_type": "display_data"
    },
    {
     "name": "stdout",
     "output_type": "stream",
     "text": [
      "{'affected_rows': 1, '_execution_time': 0.077, 'success': True, 'auth_check': {'session': None, 'auth_level': 'Write', 'success': True, 'checked_relations': ['tir.tir']}}\n"
     ]
    },
    {
     "data": {
      "text/plain": [
       "{'baseQueryURL': 'http://www.marinespecies.org/rest/AphiaRecordsByName/Thalictrum clavatum',\n",
       " 'followTaxonomy': 'true',\n",
       " 'id': 20801,\n",
       " 'matchMethod': 'Not Matched',\n",
       " 'matchString': 'Thalictrum clavatum',\n",
       " 'tryNames': ['Thalictrum clavatum'],\n",
       " 'wormsJSON': {'MatchMethod': 'Not Matched',\n",
       "  'MatchString': 'Thalictrum clavatum',\n",
       "  'cacheDate': '2017-09-08T13:15:44.784974'}}"
      ]
     },
     "metadata": {},
     "output_type": "display_data"
    },
    {
     "name": "stdout",
     "output_type": "stream",
     "text": [
      "{'affected_rows': 1, '_execution_time': 0.08, 'success': True, 'auth_check': {'session': None, 'auth_level': 'Write', 'success': True, 'checked_relations': ['tir.tir']}}\n"
     ]
    },
    {
     "data": {
      "text/plain": [
       "{'baseQueryURL': 'http://www.marinespecies.org/rest/AphiaRecordsByName/Arabis hirsuta ssp pycnocarpa',\n",
       " 'followTaxonomy': 'true',\n",
       " 'id': 20803,\n",
       " 'matchMethod': 'Not Matched',\n",
       " 'matchString': 'Arabis hirsuta ssp pycnocarpa',\n",
       " 'tryNames': ['Arabis hirsuta ssp pycnocarpa'],\n",
       " 'wormsJSON': {'MatchMethod': 'Not Matched',\n",
       "  'MatchString': 'Arabis hirsuta ssp pycnocarpa',\n",
       "  'cacheDate': '2017-09-08T13:15:48.789509'}}"
      ]
     },
     "metadata": {},
     "output_type": "display_data"
    },
    {
     "name": "stdout",
     "output_type": "stream",
     "text": [
      "{'affected_rows': 1, '_execution_time': 0.077, 'success': True, 'auth_check': {'session': None, 'auth_level': 'Write', 'success': True, 'checked_relations': ['tir.tir']}}\n"
     ]
    },
    {
     "data": {
      "text/plain": [
       "{'baseQueryURL': 'http://www.marinespecies.org/rest/AphiaRecordsByName/Vallonia pulchella',\n",
       " 'followTaxonomy': 'true',\n",
       " 'id': 20804,\n",
       " 'matchMethod': 'Exact Match',\n",
       " 'matchString': 'Vallonia pulchella',\n",
       " 'tryNames': ['Vallonia pulchella'],\n",
       " 'wormsJSON': {'AphiaID': 875635,\n",
       "  'MatchMethod': 'Exact Match',\n",
       "  'MatchString': 'Vallonia pulchella',\n",
       "  'cacheDate': '2017-09-08T13:15:50.026897',\n",
       "  'class': 'Gastropoda',\n",
       "  'family': 'Valloniidae',\n",
       "  'genus': 'Vallonia',\n",
       "  'isBrackish': 0,\n",
       "  'isExtinct': None,\n",
       "  'isFreshwater': 0,\n",
       "  'isMarine': 0,\n",
       "  'isTerrestrial': 1,\n",
       "  'kingdom': 'Animalia',\n",
       "  'lsid': 'urn:lsid:marinespecies.org:taxname:875635',\n",
       "  'match_type': 'exact',\n",
       "  'modified': '2016-05-09T21:18:49Z',\n",
       "  'order': 'Stylommatophora',\n",
       "  'phylum': 'Mollusca',\n",
       "  'rank': 'Species',\n",
       "  'scientificname': 'Vallonia pulchella',\n",
       "  'status': 'accepted',\n",
       "  'unacceptreason': None,\n",
       "  'valid_AphiaID': 875635,\n",
       "  'valid_name': 'Vallonia pulchella'}}"
      ]
     },
     "metadata": {},
     "output_type": "display_data"
    },
    {
     "name": "stdout",
     "output_type": "stream",
     "text": [
      "{'affected_rows': 1, '_execution_time': 0.078, 'success': True, 'auth_check': {'session': None, 'auth_level': 'Write', 'success': True, 'checked_relations': ['tir.tir']}}\n"
     ]
    },
    {
     "data": {
      "text/plain": [
       "{'baseQueryURL': 'http://www.marinespecies.org/rest/AphiaRecordsByName/Salix lucida ssp lucida',\n",
       " 'followTaxonomy': 'true',\n",
       " 'id': 20805,\n",
       " 'matchMethod': 'Not Matched',\n",
       " 'matchString': 'Salix lucida ssp lucida',\n",
       " 'tryNames': ['Salix lucida ssp lucida'],\n",
       " 'wormsJSON': {'MatchMethod': 'Not Matched',\n",
       "  'MatchString': 'Salix lucida ssp lucida',\n",
       "  'cacheDate': '2017-09-08T13:15:51.595544'}}"
      ]
     },
     "metadata": {},
     "output_type": "display_data"
    },
    {
     "name": "stdout",
     "output_type": "stream",
     "text": [
      "{'affected_rows': 1, '_execution_time': 0.078, 'success': True, 'auth_check': {'session': None, 'auth_level': 'Write', 'success': True, 'checked_relations': ['tir.tir']}}\n"
     ]
    },
    {
     "data": {
      "text/plain": [
       "{'baseQueryURL': 'http://www.marinespecies.org/rest/AphiaRecordsByName/Allium oxyphilum',\n",
       " 'followTaxonomy': 'true',\n",
       " 'id': 20807,\n",
       " 'matchMethod': 'Not Matched',\n",
       " 'matchString': 'Allium oxyphilum',\n",
       " 'tryNames': ['Allium oxyphilum'],\n",
       " 'wormsJSON': {'MatchMethod': 'Not Matched',\n",
       "  'MatchString': 'Allium oxyphilum',\n",
       "  'cacheDate': '2017-09-08T13:15:53.258401'}}"
      ]
     },
     "metadata": {},
     "output_type": "display_data"
    },
    {
     "name": "stdout",
     "output_type": "stream",
     "text": [
      "{'affected_rows': 1, '_execution_time': 0.077, 'success': True, 'auth_check': {'session': None, 'auth_level': 'Write', 'success': True, 'checked_relations': ['tir.tir']}}\n"
     ]
    },
    {
     "data": {
      "text/plain": [
       "{'baseQueryURL': 'http://www.marinespecies.org/rest/AphiaRecordsByName/Corallorhiza trifida',\n",
       " 'followTaxonomy': 'true',\n",
       " 'id': 20808,\n",
       " 'matchMethod': 'Not Matched',\n",
       " 'matchString': 'Corallorhiza trifida',\n",
       " 'tryNames': ['Corallorhiza trifida'],\n",
       " 'wormsJSON': {'MatchMethod': 'Not Matched',\n",
       "  'MatchString': 'Corallorhiza trifida',\n",
       "  'cacheDate': '2017-09-08T13:15:57.268501'}}"
      ]
     },
     "metadata": {},
     "output_type": "display_data"
    },
    {
     "name": "stdout",
     "output_type": "stream",
     "text": [
      "{'affected_rows': 1, '_execution_time': 0.077, 'success': True, 'auth_check': {'session': None, 'auth_level': 'Write', 'success': True, 'checked_relations': ['tir.tir']}}\n"
     ]
    },
    {
     "data": {
      "text/plain": [
       "{'baseQueryURL': 'http://www.marinespecies.org/rest/AphiaRecordsByName/Juncus nodosus var nodosus',\n",
       " 'followTaxonomy': 'true',\n",
       " 'id': 20809,\n",
       " 'matchMethod': 'Not Matched',\n",
       " 'matchString': 'Juncus nodosus var nodosus',\n",
       " 'tryNames': ['Juncus nodosus var nodosus'],\n",
       " 'wormsJSON': {'MatchMethod': 'Not Matched',\n",
       "  'MatchString': 'Juncus nodosus var nodosus',\n",
       "  'cacheDate': '2017-09-08T13:15:58.899899'}}"
      ]
     },
     "metadata": {},
     "output_type": "display_data"
    },
    {
     "name": "stdout",
     "output_type": "stream",
     "text": [
      "{'affected_rows': 1, '_execution_time': 0.078, 'success': True, 'auth_check': {'session': None, 'auth_level': 'Write', 'success': True, 'checked_relations': ['tir.tir']}}\n"
     ]
    },
    {
     "data": {
      "text/plain": [
       "{'baseQueryURL': 'http://www.marinespecies.org/rest/AphiaRecordsByName/Pseudosinella',\n",
       " 'followTaxonomy': 'true',\n",
       " 'id': 20812,\n",
       " 'matchMethod': 'Exact Match',\n",
       " 'matchString': 'Pseudosinella',\n",
       " 'tryNames': ['Pseudosinella'],\n",
       " 'wormsJSON': {'AphiaID': 118112,\n",
       "  'MatchMethod': 'Exact Match',\n",
       "  'MatchString': 'Pseudosinella',\n",
       "  'cacheDate': '2017-09-08T13:16:00.146741',\n",
       "  'class': 'Collembola',\n",
       "  'family': 'Entomobryidae',\n",
       "  'genus': 'Pseudosinella',\n",
       "  'isBrackish': None,\n",
       "  'isExtinct': None,\n",
       "  'isFreshwater': None,\n",
       "  'isMarine': 1,\n",
       "  'isTerrestrial': None,\n",
       "  'kingdom': 'Animalia',\n",
       "  'lsid': 'urn:lsid:marinespecies.org:taxname:118112',\n",
       "  'match_type': 'exact',\n",
       "  'modified': '2004-12-21T16:54:05Z',\n",
       "  'order': None,\n",
       "  'phylum': 'Arthropoda',\n",
       "  'rank': 'Genus',\n",
       "  'scientificname': 'Pseudosinella',\n",
       "  'status': 'accepted',\n",
       "  'unacceptreason': None,\n",
       "  'valid_AphiaID': 118112,\n",
       "  'valid_name': 'Pseudosinella'}}"
      ]
     },
     "metadata": {},
     "output_type": "display_data"
    },
    {
     "name": "stdout",
     "output_type": "stream",
     "text": [
      "{'affected_rows': 1, '_execution_time': 0.079, 'success': True, 'auth_check': {'session': None, 'auth_level': 'Write', 'success': True, 'checked_relations': ['tir.tir']}}\n"
     ]
    },
    {
     "data": {
      "text/plain": [
       "{'baseQueryURL': 'http://www.marinespecies.org/rest/AphiaRecordsByName/Lycopodium lagopus',\n",
       " 'followTaxonomy': 'true',\n",
       " 'id': 20813,\n",
       " 'matchMethod': 'Not Matched',\n",
       " 'matchString': 'Lycopodium lagopus',\n",
       " 'tryNames': ['Lycopodium lagopus'],\n",
       " 'wormsJSON': {'MatchMethod': 'Not Matched',\n",
       "  'MatchString': 'Lycopodium lagopus',\n",
       "  'cacheDate': '2017-09-08T13:16:01.757279'}}"
      ]
     },
     "metadata": {},
     "output_type": "display_data"
    },
    {
     "name": "stdout",
     "output_type": "stream",
     "text": [
      "{'affected_rows': 1, '_execution_time': 0.077, 'success': True, 'auth_check': {'session': None, 'auth_level': 'Write', 'success': True, 'checked_relations': ['tir.tir']}}\n"
     ]
    },
    {
     "data": {
      "text/plain": [
       "{'baseQueryURL': 'http://www.marinespecies.org/rest/AphiaRecordsByName/Celastrina serotina',\n",
       " 'followTaxonomy': 'true',\n",
       " 'id': 20814,\n",
       " 'matchMethod': 'Not Matched',\n",
       " 'matchString': 'Celastrina serotina',\n",
       " 'tryNames': ['Celastrina serotina'],\n",
       " 'wormsJSON': {'MatchMethod': 'Not Matched',\n",
       "  'MatchString': 'Celastrina serotina',\n",
       "  'cacheDate': '2017-09-08T13:16:03.340483'}}"
      ]
     },
     "metadata": {},
     "output_type": "display_data"
    },
    {
     "name": "stdout",
     "output_type": "stream",
     "text": [
      "{'affected_rows': 1, '_execution_time': 0.079, 'success': True, 'auth_check': {'session': None, 'auth_level': 'Write', 'success': True, 'checked_relations': ['tir.tir']}}\n"
     ]
    },
    {
     "data": {
      "text/plain": [
       "{'baseQueryURL': 'http://www.marinespecies.org/rest/AphiaRecordsByName/Oenothera pilosella ssp pilosella',\n",
       " 'followTaxonomy': 'true',\n",
       " 'id': 20816,\n",
       " 'matchMethod': 'Not Matched',\n",
       " 'matchString': 'Oenothera pilosella ssp pilosella',\n",
       " 'tryNames': ['Oenothera pilosella ssp pilosella'],\n",
       " 'wormsJSON': {'MatchMethod': 'Not Matched',\n",
       "  'MatchString': 'Oenothera pilosella ssp pilosella',\n",
       "  'cacheDate': '2017-09-08T13:16:06.773469'}}"
      ]
     },
     "metadata": {},
     "output_type": "display_data"
    },
    {
     "name": "stdout",
     "output_type": "stream",
     "text": [
      "{'affected_rows': 1, '_execution_time': 0.078, 'success': True, 'auth_check': {'session': None, 'auth_level': 'Write', 'success': True, 'checked_relations': ['tir.tir']}}\n"
     ]
    },
    {
     "data": {
      "text/plain": [
       "{'baseQueryURL': 'http://www.marinespecies.org/rest/AphiaRecordsByName/Carex projecta',\n",
       " 'followTaxonomy': 'true',\n",
       " 'id': 20817,\n",
       " 'matchMethod': 'Not Matched',\n",
       " 'matchString': 'Carex projecta',\n",
       " 'tryNames': ['Carex projecta'],\n",
       " 'wormsJSON': {'MatchMethod': 'Not Matched',\n",
       "  'MatchString': 'Carex projecta',\n",
       "  'cacheDate': '2017-09-08T13:16:08.573576'}}"
      ]
     },
     "metadata": {},
     "output_type": "display_data"
    },
    {
     "name": "stdout",
     "output_type": "stream",
     "text": [
      "{'affected_rows': 1, '_execution_time': 0.086, 'success': True, 'auth_check': {'session': None, 'auth_level': 'Write', 'success': True, 'checked_relations': ['tir.tir']}}\n"
     ]
    },
    {
     "data": {
      "text/plain": [
       "{'baseQueryURL': 'http://www.marinespecies.org/rest/AphiaRecordsByName/Zygonopus whitei',\n",
       " 'followTaxonomy': 'true',\n",
       " 'id': 20818,\n",
       " 'matchMethod': 'Followed Accepted AphiaID',\n",
       " 'matchString': '945051',\n",
       " 'tryNames': ['Zygonopus whitei'],\n",
       " 'wormsJSON': {'AphiaID': 945051,\n",
       "  'MatchMethod': 'Followed Accepted AphiaID',\n",
       "  'MatchString': '945051',\n",
       "  'cacheDate': '2017-09-08T13:16:10.287862',\n",
       "  'class': 'Diplopoda',\n",
       "  'family': 'Trichopetalidae',\n",
       "  'genus': 'Trichopetalum',\n",
       "  'isBrackish': 0,\n",
       "  'isExtinct': None,\n",
       "  'isFreshwater': 0,\n",
       "  'isMarine': 0,\n",
       "  'isTerrestrial': 1,\n",
       "  'kingdom': 'Animalia',\n",
       "  'lsid': 'urn:lsid:marinespecies.org:taxname:945051',\n",
       "  'match_type': 'exact',\n",
       "  'modified': '2017-01-23T15:56:15Z',\n",
       "  'order': 'Chordeumatida',\n",
       "  'phylum': 'Arthropoda',\n",
       "  'rank': 'Species',\n",
       "  'scientificname': 'Trichopetalum whitei',\n",
       "  'status': 'accepted',\n",
       "  'unacceptreason': None,\n",
       "  'valid_AphiaID': 945051,\n",
       "  'valid_name': 'Trichopetalum whitei'}}"
      ]
     },
     "metadata": {},
     "output_type": "display_data"
    },
    {
     "name": "stdout",
     "output_type": "stream",
     "text": [
      "{'affected_rows': 1, '_execution_time': 0.079, 'success': True, 'auth_check': {'session': None, 'auth_level': 'Write', 'success': True, 'checked_relations': ['tir.tir']}}\n"
     ]
    },
    {
     "data": {
      "text/plain": [
       "{'baseQueryURL': 'http://www.marinespecies.org/rest/AphiaRecordsByName/Lysimachia tonsa',\n",
       " 'followTaxonomy': 'true',\n",
       " 'id': 20820,\n",
       " 'matchMethod': 'Not Matched',\n",
       " 'matchString': 'Lysimachia tonsa',\n",
       " 'tryNames': ['Lysimachia tonsa'],\n",
       " 'wormsJSON': {'MatchMethod': 'Not Matched',\n",
       "  'MatchString': 'Lysimachia tonsa',\n",
       "  'cacheDate': '2017-09-08T13:16:11.956949'}}"
      ]
     },
     "metadata": {},
     "output_type": "display_data"
    },
    {
     "name": "stdout",
     "output_type": "stream",
     "text": [
      "{'affected_rows': 1, '_execution_time': 0.079, 'success': True, 'auth_check': {'session': None, 'auth_level': 'Write', 'success': True, 'checked_relations': ['tir.tir']}}\n"
     ]
    },
    {
     "data": {
      "text/plain": [
       "{'baseQueryURL': 'http://www.marinespecies.org/rest/AphiaRecordsByName/Drosera rotundifolia var rotundifolia',\n",
       " 'followTaxonomy': 'true',\n",
       " 'id': 20821,\n",
       " 'matchMethod': 'Not Matched',\n",
       " 'matchString': 'Drosera rotundifolia var rotundifolia',\n",
       " 'tryNames': ['Drosera rotundifolia var rotundifolia'],\n",
       " 'wormsJSON': {'MatchMethod': 'Not Matched',\n",
       "  'MatchString': 'Drosera rotundifolia var rotundifolia',\n",
       "  'cacheDate': '2017-09-08T13:16:14.095192'}}"
      ]
     },
     "metadata": {},
     "output_type": "display_data"
    },
    {
     "name": "stdout",
     "output_type": "stream",
     "text": [
      "{'affected_rows': 1, '_execution_time': 0.077, 'success': True, 'auth_check': {'session': None, 'auth_level': 'Write', 'success': True, 'checked_relations': ['tir.tir']}}\n"
     ]
    },
    {
     "data": {
      "text/plain": [
       "{'baseQueryURL': 'http://www.marinespecies.org/rest/AphiaRecordsByName/Triodopsis juxtidens robinae',\n",
       " 'followTaxonomy': 'true',\n",
       " 'id': 20822,\n",
       " 'matchMethod': 'Not Matched',\n",
       " 'matchString': 'Triodopsis juxtidens robinae',\n",
       " 'tryNames': ['Triodopsis juxtidens robinae'],\n",
       " 'wormsJSON': {'MatchMethod': 'Not Matched',\n",
       "  'MatchString': 'Triodopsis juxtidens robinae',\n",
       "  'cacheDate': '2017-09-08T13:16:17.512154'}}"
      ]
     },
     "metadata": {},
     "output_type": "display_data"
    },
    {
     "name": "stdout",
     "output_type": "stream",
     "text": [
      "{'affected_rows': 1, '_execution_time': 0.078, 'success': True, 'auth_check': {'session': None, 'auth_level': 'Write', 'success': True, 'checked_relations': ['tir.tir']}}\n"
     ]
    },
    {
     "data": {
      "text/plain": [
       "{'baseQueryURL': 'http://www.marinespecies.org/rest/AphiaRecordsByName/Pseudotremia',\n",
       " 'followTaxonomy': 'true',\n",
       " 'id': 20824,\n",
       " 'matchMethod': 'Exact Match',\n",
       " 'matchString': 'Pseudotremia',\n",
       " 'tryNames': ['Pseudotremia'],\n",
       " 'wormsJSON': {'AphiaID': 892443,\n",
       "  'MatchMethod': 'Exact Match',\n",
       "  'MatchString': 'Pseudotremia',\n",
       "  'cacheDate': '2017-09-08T13:16:18.784018',\n",
       "  'class': 'Diplopoda',\n",
       "  'family': 'Cleidogonidae',\n",
       "  'genus': 'Pseudotremia',\n",
       "  'isBrackish': 0,\n",
       "  'isExtinct': None,\n",
       "  'isFreshwater': 0,\n",
       "  'isMarine': 0,\n",
       "  'isTerrestrial': 1,\n",
       "  'kingdom': 'Animalia',\n",
       "  'lsid': 'urn:lsid:marinespecies.org:taxname:892443',\n",
       "  'match_type': 'exact',\n",
       "  'modified': '2017-09-01T14:54:16Z',\n",
       "  'order': 'Chordeumatida',\n",
       "  'phylum': 'Arthropoda',\n",
       "  'rank': 'Genus',\n",
       "  'scientificname': 'Pseudotremia',\n",
       "  'status': 'accepted',\n",
       "  'unacceptreason': None,\n",
       "  'valid_AphiaID': 892443,\n",
       "  'valid_name': 'Pseudotremia'}}"
      ]
     },
     "metadata": {},
     "output_type": "display_data"
    },
    {
     "name": "stdout",
     "output_type": "stream",
     "text": [
      "{'affected_rows': 1, '_execution_time': 0.079, 'success': True, 'auth_check': {'session': None, 'auth_level': 'Write', 'success': True, 'checked_relations': ['tir.tir']}}\n"
     ]
    },
    {
     "data": {
      "text/plain": [
       "{'baseQueryURL': 'http://www.marinespecies.org/rest/AphiaRecordsByName/Vittaria appalachiana',\n",
       " 'followTaxonomy': 'true',\n",
       " 'id': 20825,\n",
       " 'matchMethod': 'Not Matched',\n",
       " 'matchString': 'Vittaria appalachiana',\n",
       " 'tryNames': ['Vittaria appalachiana'],\n",
       " 'wormsJSON': {'MatchMethod': 'Not Matched',\n",
       "  'MatchString': 'Vittaria appalachiana',\n",
       "  'cacheDate': '2017-09-08T13:16:20.440300'}}"
      ]
     },
     "metadata": {},
     "output_type": "display_data"
    },
    {
     "name": "stdout",
     "output_type": "stream",
     "text": [
      "{'affected_rows': 1, '_execution_time': 0.08, 'success': True, 'auth_check': {'session': None, 'auth_level': 'Write', 'success': True, 'checked_relations': ['tir.tir']}}\n"
     ]
    },
    {
     "data": {
      "text/plain": [
       "{'baseQueryURL': 'http://www.marinespecies.org/rest/AphiaRecordsByName/Coptis trifolia',\n",
       " 'followTaxonomy': 'true',\n",
       " 'id': 20826,\n",
       " 'matchMethod': 'Not Matched',\n",
       " 'matchString': 'Coptis trifolia',\n",
       " 'tryNames': ['Coptis trifolia'],\n",
       " 'wormsJSON': {'MatchMethod': 'Not Matched',\n",
       "  'MatchString': 'Coptis trifolia',\n",
       "  'cacheDate': '2017-09-08T13:16:22.053266'}}"
      ]
     },
     "metadata": {},
     "output_type": "display_data"
    },
    {
     "name": "stdout",
     "output_type": "stream",
     "text": [
      "{'affected_rows': 1, '_execution_time': 0.077, 'success': True, 'auth_check': {'session': None, 'auth_level': 'Write', 'success': True, 'checked_relations': ['tir.tir']}}\n"
     ]
    },
    {
     "data": {
      "text/plain": [
       "{'baseQueryURL': 'http://www.marinespecies.org/rest/AphiaRecordsByName/Inflectarius inflectus',\n",
       " 'followTaxonomy': 'true',\n",
       " 'id': 20828,\n",
       " 'matchMethod': 'Not Matched',\n",
       " 'matchString': 'Inflectarius inflectus',\n",
       " 'tryNames': ['Inflectarius inflectus'],\n",
       " 'wormsJSON': {'MatchMethod': 'Not Matched',\n",
       "  'MatchString': 'Inflectarius inflectus',\n",
       "  'cacheDate': '2017-09-08T13:16:23.739321'}}"
      ]
     },
     "metadata": {},
     "output_type": "display_data"
    },
    {
     "name": "stdout",
     "output_type": "stream",
     "text": [
      "{'affected_rows': 1, '_execution_time': 0.077, 'success': True, 'auth_check': {'session': None, 'auth_level': 'Write', 'success': True, 'checked_relations': ['tir.tir']}}\n"
     ]
    },
    {
     "data": {
      "text/plain": [
       "{'baseQueryURL': 'http://www.marinespecies.org/rest/AphiaRecordsByName/Polygonum parryi',\n",
       " 'followTaxonomy': 'true',\n",
       " 'id': 20830,\n",
       " 'matchMethod': 'Not Matched',\n",
       " 'matchString': 'Polygonum parryi',\n",
       " 'tryNames': ['Polygonum careyi', 'Polygonum parryi'],\n",
       " 'wormsJSON': {'MatchMethod': 'Not Matched',\n",
       "  'MatchString': 'Polygonum parryi',\n",
       "  'cacheDate': '2017-09-08T13:16:27.405069'}}"
      ]
     },
     "metadata": {},
     "output_type": "display_data"
    },
    {
     "name": "stdout",
     "output_type": "stream",
     "text": [
      "{'affected_rows': 1, '_execution_time': 0.076, 'success': True, 'auth_check': {'session': None, 'auth_level': 'Write', 'success': True, 'checked_relations': ['tir.tir']}}\n"
     ]
    },
    {
     "data": {
      "text/plain": [
       "{'baseQueryURL': 'http://www.marinespecies.org/rest/AphiaRecordsByName/Spiranthes ovalis var erostellata',\n",
       " 'followTaxonomy': 'true',\n",
       " 'id': 20831,\n",
       " 'matchMethod': 'Not Matched',\n",
       " 'matchString': 'Spiranthes ovalis var erostellata',\n",
       " 'tryNames': ['Spiranthes ovalis var erostellata'],\n",
       " 'wormsJSON': {'MatchMethod': 'Not Matched',\n",
       "  'MatchString': 'Spiranthes ovalis var erostellata',\n",
       "  'cacheDate': '2017-09-08T13:16:29.005729'}}"
      ]
     },
     "metadata": {},
     "output_type": "display_data"
    },
    {
     "name": "stdout",
     "output_type": "stream",
     "text": [
      "{'affected_rows': 1, '_execution_time': 0.082, 'success': True, 'auth_check': {'session': None, 'auth_level': 'Write', 'success': True, 'checked_relations': ['tir.tir']}}\n"
     ]
    },
    {
     "data": {
      "text/plain": [
       "{'baseQueryURL': 'http://www.marinespecies.org/rest/AphiaRecordsByName/Piptatherum canadense',\n",
       " 'followTaxonomy': 'true',\n",
       " 'id': 20834,\n",
       " 'matchMethod': 'Not Matched',\n",
       " 'matchString': 'Piptatherum canadense',\n",
       " 'tryNames': ['Piptatherum canadense'],\n",
       " 'wormsJSON': {'MatchMethod': 'Not Matched',\n",
       "  'MatchString': 'Piptatherum canadense',\n",
       "  'cacheDate': '2017-09-08T13:16:31.217618'}}"
      ]
     },
     "metadata": {},
     "output_type": "display_data"
    },
    {
     "name": "stdout",
     "output_type": "stream",
     "text": [
      "{'affected_rows': 1, '_execution_time': 0.079, 'success': True, 'auth_check': {'session': None, 'auth_level': 'Write', 'success': True, 'checked_relations': ['tir.tir']}}\n"
     ]
    },
    {
     "data": {
      "text/plain": [
       "{'baseQueryURL': 'http://www.marinespecies.org/rest/AphiaRecordsByName/Isoetes valida',\n",
       " 'followTaxonomy': 'true',\n",
       " 'id': 20835,\n",
       " 'matchMethod': 'Not Matched',\n",
       " 'matchString': 'Isoetes valida',\n",
       " 'tryNames': ['Isoetes valida'],\n",
       " 'wormsJSON': {'MatchMethod': 'Not Matched',\n",
       "  'MatchString': 'Isoetes valida',\n",
       "  'cacheDate': '2017-09-08T13:16:34.453531'}}"
      ]
     },
     "metadata": {},
     "output_type": "display_data"
    },
    {
     "name": "stdout",
     "output_type": "stream",
     "text": [
      "{'affected_rows': 1, '_execution_time': 0.076, 'success': True, 'auth_check': {'session': None, 'auth_level': 'Write', 'success': True, 'checked_relations': ['tir.tir']}}\n"
     ]
    },
    {
     "data": {
      "text/plain": [
       "{'baseQueryURL': 'http://www.marinespecies.org/rest/AphiaRecordsByName/Hypericum virgatum',\n",
       " 'followTaxonomy': 'true',\n",
       " 'id': 20837,\n",
       " 'matchMethod': 'Not Matched',\n",
       " 'matchString': 'Hypericum virgatum',\n",
       " 'tryNames': ['Hypericum virgatum'],\n",
       " 'wormsJSON': {'MatchMethod': 'Not Matched',\n",
       "  'MatchString': 'Hypericum virgatum',\n",
       "  'cacheDate': '2017-09-08T13:16:37.189627'}}"
      ]
     },
     "metadata": {},
     "output_type": "display_data"
    },
    {
     "name": "stdout",
     "output_type": "stream",
     "text": [
      "{'affected_rows': 1, '_execution_time': 0.077, 'success': True, 'auth_check': {'session': None, 'auth_level': 'Write', 'success': True, 'checked_relations': ['tir.tir']}}\n"
     ]
    },
    {
     "data": {
      "text/plain": [
       "{'baseQueryURL': 'http://www.marinespecies.org/rest/AphiaRecordsByName/Juncus biflorus',\n",
       " 'followTaxonomy': 'true',\n",
       " 'id': 20838,\n",
       " 'matchMethod': 'Not Matched',\n",
       " 'matchString': 'Juncus biflorus',\n",
       " 'tryNames': ['Juncus biflorus'],\n",
       " 'wormsJSON': {'MatchMethod': 'Not Matched',\n",
       "  'MatchString': 'Juncus biflorus',\n",
       "  'cacheDate': '2017-09-08T13:16:38.727040'}}"
      ]
     },
     "metadata": {},
     "output_type": "display_data"
    },
    {
     "name": "stdout",
     "output_type": "stream",
     "text": [
      "{'affected_rows': 1, '_execution_time': 0.089, 'success': True, 'auth_check': {'session': None, 'auth_level': 'Write', 'success': True, 'checked_relations': ['tir.tir']}}\n"
     ]
    },
    {
     "data": {
      "text/plain": [
       "{'baseQueryURL': 'http://www.marinespecies.org/rest/AphiaRecordsByName/Luzula bulbosa',\n",
       " 'followTaxonomy': 'true',\n",
       " 'id': 20839,\n",
       " 'matchMethod': 'Not Matched',\n",
       " 'matchString': 'Luzula bulbosa',\n",
       " 'tryNames': ['Luzula bulbosa'],\n",
       " 'wormsJSON': {'MatchMethod': 'Not Matched',\n",
       "  'MatchString': 'Luzula bulbosa',\n",
       "  'cacheDate': '2017-09-08T13:16:40.371525'}}"
      ]
     },
     "metadata": {},
     "output_type": "display_data"
    },
    {
     "name": "stdout",
     "output_type": "stream",
     "text": [
      "{'affected_rows': 1, '_execution_time': 0.077, 'success': True, 'auth_check': {'session': None, 'auth_level': 'Write', 'success': True, 'checked_relations': ['tir.tir']}}\n"
     ]
    },
    {
     "data": {
      "text/plain": [
       "{'baseQueryURL': 'http://www.marinespecies.org/rest/AphiaRecordsByName/Digitaria filiformis',\n",
       " 'followTaxonomy': 'true',\n",
       " 'id': 20840,\n",
       " 'matchMethod': 'Not Matched',\n",
       " 'matchString': 'Digitaria filiformis',\n",
       " 'tryNames': ['Digitaria filiformis'],\n",
       " 'wormsJSON': {'MatchMethod': 'Not Matched',\n",
       "  'MatchString': 'Digitaria filiformis',\n",
       "  'cacheDate': '2017-09-08T13:16:42.091772'}}"
      ]
     },
     "metadata": {},
     "output_type": "display_data"
    },
    {
     "name": "stdout",
     "output_type": "stream",
     "text": [
      "{'affected_rows': 1, '_execution_time': 0.077, 'success': True, 'auth_check': {'session': None, 'auth_level': 'Write', 'success': True, 'checked_relations': ['tir.tir']}}\n"
     ]
    },
    {
     "data": {
      "text/plain": [
       "{'baseQueryURL': 'http://www.marinespecies.org/rest/AphiaRecordsByName/Samolus valerandi ssp parviflorus',\n",
       " 'followTaxonomy': 'true',\n",
       " 'id': 20841,\n",
       " 'matchMethod': 'Not Matched',\n",
       " 'matchString': 'Samolus valerandi ssp parviflorus',\n",
       " 'tryNames': ['Samolus valerandi ssp parviflorus'],\n",
       " 'wormsJSON': {'MatchMethod': 'Not Matched',\n",
       "  'MatchString': 'Samolus valerandi ssp parviflorus',\n",
       "  'cacheDate': '2017-09-08T13:16:44.875378'}}"
      ]
     },
     "metadata": {},
     "output_type": "display_data"
    },
    {
     "name": "stdout",
     "output_type": "stream",
     "text": [
      "{'affected_rows': 1, '_execution_time': 0.083, 'success': True, 'auth_check': {'session': None, 'auth_level': 'Write', 'success': True, 'checked_relations': ['tir.tir']}}\n"
     ]
    },
    {
     "data": {
      "text/plain": [
       "{'baseQueryURL': 'http://www.marinespecies.org/rest/AphiaRecordsByName/Crataegus pringlei',\n",
       " 'followTaxonomy': 'true',\n",
       " 'id': 20842,\n",
       " 'matchMethod': 'Not Matched',\n",
       " 'matchString': 'Crataegus pringlei',\n",
       " 'tryNames': ['Crataegus pringlei'],\n",
       " 'wormsJSON': {'MatchMethod': 'Not Matched',\n",
       "  'MatchString': 'Crataegus pringlei',\n",
       "  'cacheDate': '2017-09-08T13:16:47.787873'}}"
      ]
     },
     "metadata": {},
     "output_type": "display_data"
    },
    {
     "name": "stdout",
     "output_type": "stream",
     "text": [
      "{'affected_rows': 1, '_execution_time': 0.077, 'success': True, 'auth_check': {'session': None, 'auth_level': 'Write', 'success': True, 'checked_relations': ['tir.tir']}}\n"
     ]
    },
    {
     "data": {
      "text/plain": [
       "{'baseQueryURL': 'http://www.marinespecies.org/rest/AphiaRecordsByName/Torreyochloa pallida var fernaldii',\n",
       " 'followTaxonomy': 'true',\n",
       " 'id': 20843,\n",
       " 'matchMethod': 'Not Matched',\n",
       " 'matchString': 'Torreyochloa pallida var fernaldii',\n",
       " 'tryNames': ['Torreyochloa pallida var fernaldii'],\n",
       " 'wormsJSON': {'MatchMethod': 'Not Matched',\n",
       "  'MatchString': 'Torreyochloa pallida var fernaldii',\n",
       "  'cacheDate': '2017-09-08T13:16:49.371529'}}"
      ]
     },
     "metadata": {},
     "output_type": "display_data"
    },
    {
     "name": "stdout",
     "output_type": "stream",
     "text": [
      "{'affected_rows': 1, '_execution_time': 0.077, 'success': True, 'auth_check': {'session': None, 'auth_level': 'Write', 'success': True, 'checked_relations': ['tir.tir']}}\n"
     ]
    },
    {
     "data": {
      "text/plain": [
       "{'baseQueryURL': 'http://www.marinespecies.org/rest/AphiaRecordsByName/Zygonopus krekeleri',\n",
       " 'followTaxonomy': 'true',\n",
       " 'id': 20844,\n",
       " 'matchMethod': 'Followed Accepted AphiaID',\n",
       " 'matchString': '945049',\n",
       " 'tryNames': ['Zygonopus krekeleri'],\n",
       " 'wormsJSON': {'AphiaID': 945049,\n",
       "  'MatchMethod': 'Followed Accepted AphiaID',\n",
       "  'MatchString': '945049',\n",
       "  'cacheDate': '2017-09-08T13:16:51.026757',\n",
       "  'class': 'Diplopoda',\n",
       "  'family': 'Trichopetalidae',\n",
       "  'genus': 'Trichopetalum',\n",
       "  'isBrackish': 0,\n",
       "  'isExtinct': None,\n",
       "  'isFreshwater': 0,\n",
       "  'isMarine': 0,\n",
       "  'isTerrestrial': 1,\n",
       "  'kingdom': 'Animalia',\n",
       "  'lsid': 'urn:lsid:marinespecies.org:taxname:945049',\n",
       "  'match_type': 'exact',\n",
       "  'modified': '2017-01-23T15:56:15Z',\n",
       "  'order': 'Chordeumatida',\n",
       "  'phylum': 'Arthropoda',\n",
       "  'rank': 'Species',\n",
       "  'scientificname': 'Trichopetalum krekeleri',\n",
       "  'status': 'accepted',\n",
       "  'unacceptreason': None,\n",
       "  'valid_AphiaID': 945049,\n",
       "  'valid_name': 'Trichopetalum krekeleri'}}"
      ]
     },
     "metadata": {},
     "output_type": "display_data"
    },
    {
     "name": "stdout",
     "output_type": "stream",
     "text": [
      "{'affected_rows': 1, '_execution_time': 0.078, 'success': True, 'auth_check': {'session': None, 'auth_level': 'Write', 'success': True, 'checked_relations': ['tir.tir']}}\n"
     ]
    },
    {
     "data": {
      "text/plain": [
       "{'baseQueryURL': 'http://www.marinespecies.org/rest/AphiaRecordsByName/Rhynchospora recognita',\n",
       " 'followTaxonomy': 'true',\n",
       " 'id': 20847,\n",
       " 'matchMethod': 'Not Matched',\n",
       " 'matchString': 'Rhynchospora recognita',\n",
       " 'tryNames': ['Rhynchospora recognita'],\n",
       " 'wormsJSON': {'MatchMethod': 'Not Matched',\n",
       "  'MatchString': 'Rhynchospora recognita',\n",
       "  'cacheDate': '2017-09-08T13:16:53.219795'}}"
      ]
     },
     "metadata": {},
     "output_type": "display_data"
    },
    {
     "name": "stdout",
     "output_type": "stream",
     "text": [
      "{'affected_rows': 1, '_execution_time': 0.085, 'success': True, 'auth_check': {'session': None, 'auth_level': 'Write', 'success': True, 'checked_relations': ['tir.tir']}}\n"
     ]
    },
    {
     "data": {
      "text/plain": [
       "{'baseQueryURL': 'http://www.marinespecies.org/rest/AphiaRecordsByName/Stellaria borealis ssp borealis',\n",
       " 'followTaxonomy': 'true',\n",
       " 'id': 20848,\n",
       " 'matchMethod': 'Not Matched',\n",
       " 'matchString': 'Stellaria borealis ssp borealis',\n",
       " 'tryNames': ['Stellaria borealis ssp borealis'],\n",
       " 'wormsJSON': {'MatchMethod': 'Not Matched',\n",
       "  'MatchString': 'Stellaria borealis ssp borealis',\n",
       "  'cacheDate': '2017-09-08T13:16:56.783219'}}"
      ]
     },
     "metadata": {},
     "output_type": "display_data"
    },
    {
     "name": "stdout",
     "output_type": "stream",
     "text": [
      "{'affected_rows': 1, '_execution_time': 0.078, 'success': True, 'auth_check': {'session': None, 'auth_level': 'Write', 'success': True, 'checked_relations': ['tir.tir']}}\n"
     ]
    },
    {
     "data": {
      "text/plain": [
       "{'baseQueryURL': 'http://www.marinespecies.org/rest/AphiaRecordsByName/Silene nivea',\n",
       " 'followTaxonomy': 'true',\n",
       " 'id': 20850,\n",
       " 'matchMethod': 'Not Matched',\n",
       " 'matchString': 'Silene nivea',\n",
       " 'tryNames': ['Silene nivea'],\n",
       " 'wormsJSON': {'MatchMethod': 'Not Matched',\n",
       "  'MatchString': 'Silene nivea',\n",
       "  'cacheDate': '2017-09-08T13:16:58.398006'}}"
      ]
     },
     "metadata": {},
     "output_type": "display_data"
    },
    {
     "name": "stdout",
     "output_type": "stream",
     "text": [
      "{'affected_rows': 1, '_execution_time': 0.077, 'success': True, 'auth_check': {'session': None, 'auth_level': 'Write', 'success': True, 'checked_relations': ['tir.tir']}}\n"
     ]
    },
    {
     "data": {
      "text/plain": [
       "{'baseQueryURL': 'http://www.marinespecies.org/rest/AphiaRecordsByName/Papilio appalachiensis',\n",
       " 'followTaxonomy': 'true',\n",
       " 'id': 20851,\n",
       " 'matchMethod': 'Not Matched',\n",
       " 'matchString': 'Papilio appalachiensis',\n",
       " 'tryNames': ['Papilio appalachiensis'],\n",
       " 'wormsJSON': {'MatchMethod': 'Not Matched',\n",
       "  'MatchString': 'Papilio appalachiensis',\n",
       "  'cacheDate': '2017-09-08T13:17:00.075592'}}"
      ]
     },
     "metadata": {},
     "output_type": "display_data"
    },
    {
     "name": "stdout",
     "output_type": "stream",
     "text": [
      "{'affected_rows': 1, '_execution_time': 0.078, 'success': True, 'auth_check': {'session': None, 'auth_level': 'Write', 'success': True, 'checked_relations': ['tir.tir']}}\n"
     ]
    },
    {
     "data": {
      "text/plain": [
       "{'baseQueryURL': 'http://www.marinespecies.org/rest/AphiaRecordsByName/Calamagrostis stricta ssp stricta var stricta',\n",
       " 'followTaxonomy': 'true',\n",
       " 'id': 20852,\n",
       " 'matchMethod': 'Not Matched',\n",
       " 'matchString': 'Calamagrostis stricta ssp stricta var stricta',\n",
       " 'tryNames': ['Calamagrostis stricta ssp stricta var stricta'],\n",
       " 'wormsJSON': {'MatchMethod': 'Not Matched',\n",
       "  'MatchString': 'Calamagrostis stricta ssp stricta var stricta',\n",
       "  'cacheDate': '2017-09-08T13:17:01.729767'}}"
      ]
     },
     "metadata": {},
     "output_type": "display_data"
    },
    {
     "name": "stdout",
     "output_type": "stream",
     "text": [
      "{'affected_rows': 1, '_execution_time': 0.077, 'success': True, 'auth_check': {'session': None, 'auth_level': 'Write', 'success': True, 'checked_relations': ['tir.tir']}}\n"
     ]
    },
    {
     "data": {
      "text/plain": [
       "{'baseQueryURL': 'http://www.marinespecies.org/rest/AphiaRecordsByName/Rhododendron viscosum',\n",
       " 'followTaxonomy': 'true',\n",
       " 'id': 20853,\n",
       " 'matchMethod': 'Not Matched',\n",
       " 'matchString': 'Rhododendron viscosum',\n",
       " 'tryNames': ['Rhododendron viscosum'],\n",
       " 'wormsJSON': {'MatchMethod': 'Not Matched',\n",
       "  'MatchString': 'Rhododendron viscosum',\n",
       "  'cacheDate': '2017-09-08T13:17:07.055673'}}"
      ]
     },
     "metadata": {},
     "output_type": "display_data"
    },
    {
     "name": "stdout",
     "output_type": "stream",
     "text": [
      "{'affected_rows': 1, '_execution_time': 0.083, 'success': True, 'auth_check': {'session': None, 'auth_level': 'Write', 'success': True, 'checked_relations': ['tir.tir']}}\n"
     ]
    },
    {
     "data": {
      "text/plain": [
       "{'baseQueryURL': 'http://www.marinespecies.org/rest/AphiaRecordsByName/Ranunculus sceleratus var sceleratus',\n",
       " 'followTaxonomy': 'true',\n",
       " 'id': 20854,\n",
       " 'matchMethod': 'Not Matched',\n",
       " 'matchString': 'Ranunculus sceleratus var sceleratus',\n",
       " 'tryNames': ['Ranunculus sceleratus var sceleratus'],\n",
       " 'wormsJSON': {'MatchMethod': 'Not Matched',\n",
       "  'MatchString': 'Ranunculus sceleratus var sceleratus',\n",
       "  'cacheDate': '2017-09-08T13:17:08.629530'}}"
      ]
     },
     "metadata": {},
     "output_type": "display_data"
    },
    {
     "name": "stdout",
     "output_type": "stream",
     "text": [
      "{'affected_rows': 1, '_execution_time': 0.077, 'success': True, 'auth_check': {'session': None, 'auth_level': 'Write', 'success': True, 'checked_relations': ['tir.tir']}}\n"
     ]
    },
    {
     "data": {
      "text/plain": [
       "{'baseQueryURL': 'http://www.marinespecies.org/rest/AphiaRecordsByName/Pseudanophthalmus',\n",
       " 'followTaxonomy': 'true',\n",
       " 'id': 20856,\n",
       " 'matchMethod': 'Not Matched',\n",
       " 'matchString': 'Pseudanophthalmus',\n",
       " 'tryNames': ['Pseudanophthalmus'],\n",
       " 'wormsJSON': {'MatchMethod': 'Not Matched',\n",
       "  'MatchString': 'Pseudanophthalmus',\n",
       "  'cacheDate': '2017-09-08T13:17:10.194727'}}"
      ]
     },
     "metadata": {},
     "output_type": "display_data"
    },
    {
     "name": "stdout",
     "output_type": "stream",
     "text": [
      "{'affected_rows': 1, '_execution_time': 0.077, 'success': True, 'auth_check': {'session': None, 'auth_level': 'Write', 'success': True, 'checked_relations': ['tir.tir']}}\n"
     ]
    },
    {
     "data": {
      "text/plain": [
       "{'baseQueryURL': 'http://www.marinespecies.org/rest/AphiaRecordsByName/Phyciodes cocyta selenis',\n",
       " 'followTaxonomy': 'true',\n",
       " 'id': 20859,\n",
       " 'matchMethod': 'Not Matched',\n",
       " 'matchString': 'Phyciodes cocyta selenis',\n",
       " 'tryNames': ['Phyciodes cocyta selene', 'Phyciodes cocyta selenis'],\n",
       " 'wormsJSON': {'MatchMethod': 'Not Matched',\n",
       "  'MatchString': 'Phyciodes cocyta selenis',\n",
       "  'cacheDate': '2017-09-08T13:17:14.204527'}}"
      ]
     },
     "metadata": {},
     "output_type": "display_data"
    },
    {
     "name": "stdout",
     "output_type": "stream",
     "text": [
      "{'affected_rows': 1, '_execution_time': 0.085, 'success': True, 'auth_check': {'session': None, 'auth_level': 'Write', 'success': True, 'checked_relations': ['tir.tir']}}\n"
     ]
    },
    {
     "data": {
      "text/plain": [
       "{'baseQueryURL': 'http://www.marinespecies.org/rest/AphiaRecordsByName/Onychiurus janus',\n",
       " 'followTaxonomy': 'true',\n",
       " 'id': 20860,\n",
       " 'matchMethod': 'Not Matched',\n",
       " 'matchString': 'Onychiurus janus',\n",
       " 'tryNames': ['Onychiurus janus'],\n",
       " 'wormsJSON': {'MatchMethod': 'Not Matched',\n",
       "  'MatchString': 'Onychiurus janus',\n",
       "  'cacheDate': '2017-09-08T13:17:16.555403'}}"
      ]
     },
     "metadata": {},
     "output_type": "display_data"
    },
    {
     "name": "stdout",
     "output_type": "stream",
     "text": [
      "{'affected_rows': 1, '_execution_time': 0.084, 'success': True, 'auth_check': {'session': None, 'auth_level': 'Write', 'success': True, 'checked_relations': ['tir.tir']}}\n"
     ]
    },
    {
     "data": {
      "text/plain": [
       "{'baseQueryURL': 'http://www.marinespecies.org/rest/AphiaRecordsByName/Commelina erecta',\n",
       " 'followTaxonomy': 'true',\n",
       " 'id': 20861,\n",
       " 'matchMethod': 'Not Matched',\n",
       " 'matchString': 'Commelina erecta',\n",
       " 'tryNames': ['Commelina erecta'],\n",
       " 'wormsJSON': {'MatchMethod': 'Not Matched',\n",
       "  'MatchString': 'Commelina erecta',\n",
       "  'cacheDate': '2017-09-08T13:17:18.252731'}}"
      ]
     },
     "metadata": {},
     "output_type": "display_data"
    },
    {
     "name": "stdout",
     "output_type": "stream",
     "text": [
      "{'affected_rows': 1, '_execution_time': 0.077, 'success': True, 'auth_check': {'session': None, 'auth_level': 'Write', 'success': True, 'checked_relations': ['tir.tir']}}\n"
     ]
    },
    {
     "data": {
      "text/plain": [
       "{'baseQueryURL': 'http://www.marinespecies.org/rest/AphiaRecordsByName/Lupinus perennis ssp perennis',\n",
       " 'followTaxonomy': 'true',\n",
       " 'id': 20862,\n",
       " 'matchMethod': 'Not Matched',\n",
       " 'matchString': 'Lupinus perennis ssp perennis',\n",
       " 'tryNames': ['Lupinus perennis ssp perennis'],\n",
       " 'wormsJSON': {'MatchMethod': 'Not Matched',\n",
       "  'MatchString': 'Lupinus perennis ssp perennis',\n",
       "  'cacheDate': '2017-09-08T13:17:19.801899'}}"
      ]
     },
     "metadata": {},
     "output_type": "display_data"
    },
    {
     "name": "stdout",
     "output_type": "stream",
     "text": [
      "{'affected_rows': 1, '_execution_time': 0.077, 'success': True, 'auth_check': {'session': None, 'auth_level': 'Write', 'success': True, 'checked_relations': ['tir.tir']}}\n"
     ]
    },
    {
     "data": {
      "text/plain": [
       "{'baseQueryURL': 'http://www.marinespecies.org/rest/AphiaRecordsByName/Desmodium pauciflorum',\n",
       " 'followTaxonomy': 'true',\n",
       " 'id': 20863,\n",
       " 'matchMethod': 'Not Matched',\n",
       " 'matchString': 'Desmodium pauciflorum',\n",
       " 'tryNames': ['Desmodium pauciflorum'],\n",
       " 'wormsJSON': {'MatchMethod': 'Not Matched',\n",
       "  'MatchString': 'Desmodium pauciflorum',\n",
       "  'cacheDate': '2017-09-08T13:17:21.549573'}}"
      ]
     },
     "metadata": {},
     "output_type": "display_data"
    },
    {
     "name": "stdout",
     "output_type": "stream",
     "text": [
      "{'affected_rows': 1, '_execution_time': 0.079, 'success': True, 'auth_check': {'session': None, 'auth_level': 'Write', 'success': True, 'checked_relations': ['tir.tir']}}\n"
     ]
    },
    {
     "data": {
      "text/plain": [
       "{'baseQueryURL': 'http://www.marinespecies.org/rest/AphiaRecordsByName/Ranunculus macounii',\n",
       " 'followTaxonomy': 'true',\n",
       " 'id': 20865,\n",
       " 'matchMethod': 'Not Matched',\n",
       " 'matchString': 'Ranunculus macounii',\n",
       " 'tryNames': ['Ranunculus macounii'],\n",
       " 'wormsJSON': {'MatchMethod': 'Not Matched',\n",
       "  'MatchString': 'Ranunculus macounii',\n",
       "  'cacheDate': '2017-09-08T13:17:25.694938'}}"
      ]
     },
     "metadata": {},
     "output_type": "display_data"
    },
    {
     "name": "stdout",
     "output_type": "stream",
     "text": [
      "{'affected_rows': 1, '_execution_time': 0.076, 'success': True, 'auth_check': {'session': None, 'auth_level': 'Write', 'success': True, 'checked_relations': ['tir.tir']}}\n"
     ]
    },
    {
     "data": {
      "text/plain": [
       "{'baseQueryURL': 'http://www.marinespecies.org/rest/AphiaRecordsByName/Rhexia mariana var mariana',\n",
       " 'followTaxonomy': 'true',\n",
       " 'id': 20866,\n",
       " 'matchMethod': 'Not Matched',\n",
       " 'matchString': 'Rhexia mariana var mariana',\n",
       " 'tryNames': ['Rhexia mariana var mariana'],\n",
       " 'wormsJSON': {'MatchMethod': 'Not Matched',\n",
       "  'MatchString': 'Rhexia mariana var mariana',\n",
       "  'cacheDate': '2017-09-08T13:17:27.323684'}}"
      ]
     },
     "metadata": {},
     "output_type": "display_data"
    },
    {
     "name": "stdout",
     "output_type": "stream",
     "text": [
      "{'affected_rows': 1, '_execution_time': 0.077, 'success': True, 'auth_check': {'session': None, 'auth_level': 'Write', 'success': True, 'checked_relations': ['tir.tir']}}\n"
     ]
    },
    {
     "data": {
      "text/plain": [
       "{'baseQueryURL': 'http://www.marinespecies.org/rest/AphiaRecordsByName/Potamogeton pusillus var tenuissimus',\n",
       " 'followTaxonomy': 'true',\n",
       " 'id': 20869,\n",
       " 'matchMethod': 'Not Matched',\n",
       " 'matchString': 'Potamogeton pusillus var tenuissimus',\n",
       " 'tryNames': ['Potamogeton pusillus var tenuissimus'],\n",
       " 'wormsJSON': {'MatchMethod': 'Not Matched',\n",
       "  'MatchString': 'Potamogeton pusillus var tenuissimus',\n",
       "  'cacheDate': '2017-09-08T13:17:29.026726'}}"
      ]
     },
     "metadata": {},
     "output_type": "display_data"
    },
    {
     "name": "stdout",
     "output_type": "stream",
     "text": [
      "{'affected_rows': 1, '_execution_time': 0.077, 'success': True, 'auth_check': {'session': None, 'auth_level': 'Write', 'success': True, 'checked_relations': ['tir.tir']}}\n"
     ]
    },
    {
     "data": {
      "text/plain": [
       "{'baseQueryURL': 'http://www.marinespecies.org/rest/AphiaRecordsByName/Lucilla singleyana',\n",
       " 'followTaxonomy': 'true',\n",
       " 'id': 20870,\n",
       " 'matchMethod': 'Exact Match',\n",
       " 'matchString': 'Lucilla singleyana',\n",
       " 'tryNames': ['Lucilla singleyana'],\n",
       " 'wormsJSON': {'AphiaID': 820004,\n",
       "  'MatchMethod': 'Exact Match',\n",
       "  'MatchString': 'Lucilla singleyana',\n",
       "  'cacheDate': '2017-09-08T13:17:30.369705',\n",
       "  'class': 'Gastropoda',\n",
       "  'family': 'Helicodiscidae',\n",
       "  'genus': 'Lucilla',\n",
       "  'isBrackish': 0,\n",
       "  'isExtinct': None,\n",
       "  'isFreshwater': 0,\n",
       "  'isMarine': 0,\n",
       "  'isTerrestrial': 1,\n",
       "  'kingdom': 'Animalia',\n",
       "  'lsid': 'urn:lsid:marinespecies.org:taxname:820004',\n",
       "  'match_type': 'exact',\n",
       "  'modified': '2014-10-24T21:50:19Z',\n",
       "  'order': 'Stylommatophora',\n",
       "  'phylum': 'Mollusca',\n",
       "  'rank': 'Species',\n",
       "  'scientificname': 'Lucilla singleyana',\n",
       "  'status': 'accepted',\n",
       "  'unacceptreason': None,\n",
       "  'valid_AphiaID': 820004,\n",
       "  'valid_name': 'Lucilla singleyana'}}"
      ]
     },
     "metadata": {},
     "output_type": "display_data"
    },
    {
     "name": "stdout",
     "output_type": "stream",
     "text": [
      "{'affected_rows': 1, '_execution_time': 0.08, 'success': True, 'auth_check': {'session': None, 'auth_level': 'Write', 'success': True, 'checked_relations': ['tir.tir']}}\n"
     ]
    },
    {
     "data": {
      "text/plain": [
       "{'baseQueryURL': 'http://www.marinespecies.org/rest/AphiaRecordsByName/Liatris turgida',\n",
       " 'followTaxonomy': 'true',\n",
       " 'id': 20872,\n",
       " 'matchMethod': 'Not Matched',\n",
       " 'matchString': 'Liatris turgida',\n",
       " 'tryNames': ['Liatris turgida'],\n",
       " 'wormsJSON': {'MatchMethod': 'Not Matched',\n",
       "  'MatchString': 'Liatris turgida',\n",
       "  'cacheDate': '2017-09-08T13:17:32.291850'}}"
      ]
     },
     "metadata": {},
     "output_type": "display_data"
    },
    {
     "name": "stdout",
     "output_type": "stream",
     "text": [
      "{'affected_rows': 1, '_execution_time': 0.076, 'success': True, 'auth_check': {'session': None, 'auth_level': 'Write', 'success': True, 'checked_relations': ['tir.tir']}}\n"
     ]
    },
    {
     "data": {
      "text/plain": [
       "{'baseQueryURL': 'http://www.marinespecies.org/rest/AphiaRecordsByName/Zygonopus packardi',\n",
       " 'followTaxonomy': 'true',\n",
       " 'id': 20873,\n",
       " 'matchMethod': 'Followed Accepted AphiaID',\n",
       " 'matchString': '945048',\n",
       " 'tryNames': ['Zygonopus packardi'],\n",
       " 'wormsJSON': {'AphiaID': 945048,\n",
       "  'MatchMethod': 'Followed Accepted AphiaID',\n",
       "  'MatchString': '945048',\n",
       "  'cacheDate': '2017-09-08T13:17:35.257017',\n",
       "  'class': 'Diplopoda',\n",
       "  'family': 'Trichopetalidae',\n",
       "  'genus': 'Trichopetalum',\n",
       "  'isBrackish': 0,\n",
       "  'isExtinct': None,\n",
       "  'isFreshwater': 0,\n",
       "  'isMarine': 0,\n",
       "  'isTerrestrial': 1,\n",
       "  'kingdom': 'Animalia',\n",
       "  'lsid': 'urn:lsid:marinespecies.org:taxname:945048',\n",
       "  'match_type': 'exact',\n",
       "  'modified': '2017-01-23T15:56:15Z',\n",
       "  'order': 'Chordeumatida',\n",
       "  'phylum': 'Arthropoda',\n",
       "  'rank': 'Species',\n",
       "  'scientificname': 'Trichopetalum packardi',\n",
       "  'status': 'accepted',\n",
       "  'unacceptreason': None,\n",
       "  'valid_AphiaID': 945048,\n",
       "  'valid_name': 'Trichopetalum packardi'}}"
      ]
     },
     "metadata": {},
     "output_type": "display_data"
    },
    {
     "name": "stdout",
     "output_type": "stream",
     "text": [
      "{'affected_rows': 1, '_execution_time': 0.08, 'success': True, 'auth_check': {'session': None, 'auth_level': 'Write', 'success': True, 'checked_relations': ['tir.tir']}}\n"
     ]
    },
    {
     "data": {
      "text/plain": [
       "{'baseQueryURL': 'http://www.marinespecies.org/rest/AphiaRecordsByName/Ranunculus flammula var filiformis',\n",
       " 'followTaxonomy': 'true',\n",
       " 'id': 20875,\n",
       " 'matchMethod': 'Not Matched',\n",
       " 'matchString': 'Ranunculus flammula var filiformis',\n",
       " 'tryNames': ['Ranunculus flammula var filiformis'],\n",
       " 'wormsJSON': {'MatchMethod': 'Not Matched',\n",
       "  'MatchString': 'Ranunculus flammula var filiformis',\n",
       "  'cacheDate': '2017-09-08T13:17:36.847839'}}"
      ]
     },
     "metadata": {},
     "output_type": "display_data"
    },
    {
     "name": "stdout",
     "output_type": "stream",
     "text": [
      "{'affected_rows': 1, '_execution_time': 0.078, 'success': True, 'auth_check': {'session': None, 'auth_level': 'Write', 'success': True, 'checked_relations': ['tir.tir']}}\n"
     ]
    },
    {
     "data": {
      "text/plain": [
       "{'baseQueryURL': 'http://www.marinespecies.org/rest/AphiaRecordsByName/Baptisia australis var australis',\n",
       " 'followTaxonomy': 'true',\n",
       " 'id': 20877,\n",
       " 'matchMethod': 'Not Matched',\n",
       " 'matchString': 'Baptisia australis var australis',\n",
       " 'tryNames': ['Baptisia australis var australis'],\n",
       " 'wormsJSON': {'MatchMethod': 'Not Matched',\n",
       "  'MatchString': 'Baptisia australis var australis',\n",
       "  'cacheDate': '2017-09-08T13:17:38.440675'}}"
      ]
     },
     "metadata": {},
     "output_type": "display_data"
    },
    {
     "name": "stdout",
     "output_type": "stream",
     "text": [
      "{'affected_rows': 1, '_execution_time': 0.077, 'success': True, 'auth_check': {'session': None, 'auth_level': 'Write', 'success': True, 'checked_relations': ['tir.tir']}}\n"
     ]
    },
    {
     "data": {
      "text/plain": [
       "{'baseQueryURL': 'http://www.marinespecies.org/rest/AphiaRecordsByName/Rosa blanda var blanda',\n",
       " 'followTaxonomy': 'true',\n",
       " 'id': 20878,\n",
       " 'matchMethod': 'Not Matched',\n",
       " 'matchString': 'Rosa blanda var blanda',\n",
       " 'tryNames': ['Rosa blanda var blanda'],\n",
       " 'wormsJSON': {'MatchMethod': 'Not Matched',\n",
       "  'MatchString': 'Rosa blanda var blanda',\n",
       "  'cacheDate': '2017-09-08T13:17:40.056185'}}"
      ]
     },
     "metadata": {},
     "output_type": "display_data"
    },
    {
     "name": "stdout",
     "output_type": "stream",
     "text": [
      "{'affected_rows': 1, '_execution_time': 0.077, 'success': True, 'auth_check': {'session': None, 'auth_level': 'Write', 'success': True, 'checked_relations': ['tir.tir']}}\n"
     ]
    },
    {
     "data": {
      "text/plain": [
       "{'baseQueryURL': 'http://www.marinespecies.org/rest/AphiaRecordsByName/Saxifraga michauxii',\n",
       " 'followTaxonomy': 'true',\n",
       " 'id': 20879,\n",
       " 'matchMethod': 'Not Matched',\n",
       " 'matchString': 'Saxifraga michauxii',\n",
       " 'tryNames': ['Saxifraga michauxii'],\n",
       " 'wormsJSON': {'MatchMethod': 'Not Matched',\n",
       "  'MatchString': 'Saxifraga michauxii',\n",
       "  'cacheDate': '2017-09-08T13:17:42.884647'}}"
      ]
     },
     "metadata": {},
     "output_type": "display_data"
    },
    {
     "name": "stdout",
     "output_type": "stream",
     "text": [
      "{'affected_rows': 1, '_execution_time': 0.076, 'success': True, 'auth_check': {'session': None, 'auth_level': 'Write', 'success': True, 'checked_relations': ['tir.tir']}}\n"
     ]
    },
    {
     "data": {
      "text/plain": [
       "{'baseQueryURL': 'http://www.marinespecies.org/rest/AphiaRecordsByName/Helianthus occidentalis ssp occidentalis',\n",
       " 'followTaxonomy': 'true',\n",
       " 'id': 20880,\n",
       " 'matchMethod': 'Not Matched',\n",
       " 'matchString': 'Helianthus occidentalis ssp occidentalis',\n",
       " 'tryNames': ['Helianthus occidentalis ssp occidentalis'],\n",
       " 'wormsJSON': {'MatchMethod': 'Not Matched',\n",
       "  'MatchString': 'Helianthus occidentalis ssp occidentalis',\n",
       "  'cacheDate': '2017-09-08T13:17:46.114982'}}"
      ]
     },
     "metadata": {},
     "output_type": "display_data"
    },
    {
     "name": "stdout",
     "output_type": "stream",
     "text": [
      "{'affected_rows': 1, '_execution_time': 0.077, 'success': True, 'auth_check': {'session': None, 'auth_level': 'Write', 'success': True, 'checked_relations': ['tir.tir']}}\n"
     ]
    },
    {
     "data": {
      "text/plain": [
       "{'baseQueryURL': 'http://www.marinespecies.org/rest/AphiaRecordsByName/Scutellaria ovata ssp virginiana',\n",
       " 'followTaxonomy': 'true',\n",
       " 'id': 20887,\n",
       " 'matchMethod': 'Not Matched',\n",
       " 'matchString': 'Scutellaria ovata ssp virginiana',\n",
       " 'tryNames': ['Scutellaria ovata ssp virginiana'],\n",
       " 'wormsJSON': {'MatchMethod': 'Not Matched',\n",
       "  'MatchString': 'Scutellaria ovata ssp virginiana',\n",
       "  'cacheDate': '2017-09-08T13:17:47.735484'}}"
      ]
     },
     "metadata": {},
     "output_type": "display_data"
    },
    {
     "name": "stdout",
     "output_type": "stream",
     "text": [
      "{'affected_rows': 1, '_execution_time': 0.077, 'success': True, 'auth_check': {'session': None, 'auth_level': 'Write', 'success': True, 'checked_relations': ['tir.tir']}}\n"
     ]
    },
    {
     "data": {
      "text/plain": [
       "{'baseQueryURL': 'http://www.marinespecies.org/rest/AphiaRecordsByName/Carex canescens',\n",
       " 'followTaxonomy': 'true',\n",
       " 'id': 20889,\n",
       " 'matchMethod': 'Not Matched',\n",
       " 'matchString': 'Carex canescens',\n",
       " 'tryNames': ['Carex canescens'],\n",
       " 'wormsJSON': {'MatchMethod': 'Not Matched',\n",
       "  'MatchString': 'Carex canescens',\n",
       "  'cacheDate': '2017-09-08T13:17:49.387987'}}"
      ]
     },
     "metadata": {},
     "output_type": "display_data"
    },
    {
     "name": "stdout",
     "output_type": "stream",
     "text": [
      "{'affected_rows': 1, '_execution_time': 0.076, 'success': True, 'auth_check': {'session': None, 'auth_level': 'Write', 'success': True, 'checked_relations': ['tir.tir']}}\n"
     ]
    },
    {
     "data": {
      "text/plain": [
       "{'baseQueryURL': 'http://www.marinespecies.org/rest/AphiaRecordsByName/Mesomphix luisant',\n",
       " 'followTaxonomy': 'true',\n",
       " 'id': 20890,\n",
       " 'matchMethod': 'Exact Match',\n",
       " 'matchString': 'Mesomphix luisant',\n",
       " 'tryNames': ['Mesomphix luisant'],\n",
       " 'wormsJSON': {'AphiaID': 1027829,\n",
       "  'MatchMethod': 'Exact Match',\n",
       "  'MatchString': 'Mesomphix luisant',\n",
       "  'cacheDate': '2017-09-08T13:17:50.827253',\n",
       "  'class': 'Gastropoda',\n",
       "  'family': 'Gastrodontidae',\n",
       "  'genus': 'Mesomphix',\n",
       "  'isBrackish': 0,\n",
       "  'isExtinct': 0,\n",
       "  'isFreshwater': 0,\n",
       "  'isMarine': 0,\n",
       "  'isTerrestrial': 1,\n",
       "  'kingdom': 'Animalia',\n",
       "  'lsid': 'urn:lsid:marinespecies.org:taxname:1027829',\n",
       "  'match_type': 'exact',\n",
       "  'modified': '2017-08-22T18:59:30Z',\n",
       "  'order': 'Stylommatophora',\n",
       "  'phylum': 'Mollusca',\n",
       "  'rank': 'Species',\n",
       "  'scientificname': 'Mesomphix luisant',\n",
       "  'status': 'accepted',\n",
       "  'unacceptreason': None,\n",
       "  'valid_AphiaID': 1027829,\n",
       "  'valid_name': 'Mesomphix luisant'}}"
      ]
     },
     "metadata": {},
     "output_type": "display_data"
    },
    {
     "name": "stdout",
     "output_type": "stream",
     "text": [
      "{'affected_rows': 1, '_execution_time': 0.079, 'success': True, 'auth_check': {'session': None, 'auth_level': 'Write', 'success': True, 'checked_relations': ['tir.tir']}}\n"
     ]
    },
    {
     "data": {
      "text/plain": [
       "{'baseQueryURL': 'http://www.marinespecies.org/rest/AphiaRecordsByName/Gymnopogon ambiguus',\n",
       " 'followTaxonomy': 'true',\n",
       " 'id': 20891,\n",
       " 'matchMethod': 'Not Matched',\n",
       " 'matchString': 'Gymnopogon ambiguus',\n",
       " 'tryNames': ['Gymnopogon ambiguus'],\n",
       " 'wormsJSON': {'MatchMethod': 'Not Matched',\n",
       "  'MatchString': 'Gymnopogon ambiguus',\n",
       "  'cacheDate': '2017-09-08T13:17:53.274676'}}"
      ]
     },
     "metadata": {},
     "output_type": "display_data"
    },
    {
     "name": "stdout",
     "output_type": "stream",
     "text": [
      "{'affected_rows': 1, '_execution_time': 0.078, 'success': True, 'auth_check': {'session': None, 'auth_level': 'Write', 'success': True, 'checked_relations': ['tir.tir']}}\n"
     ]
    },
    {
     "data": {
      "text/plain": [
       "{'baseQueryURL': 'http://www.marinespecies.org/rest/AphiaRecordsByName/Ranunculus pusillus var pusillus',\n",
       " 'followTaxonomy': 'true',\n",
       " 'id': 20892,\n",
       " 'matchMethod': 'Not Matched',\n",
       " 'matchString': 'Ranunculus pusillus var pusillus',\n",
       " 'tryNames': ['Ranunculus pusillus var pusillus'],\n",
       " 'wormsJSON': {'MatchMethod': 'Not Matched',\n",
       "  'MatchString': 'Ranunculus pusillus var pusillus',\n",
       "  'cacheDate': '2017-09-08T13:17:56.110320'}}"
      ]
     },
     "metadata": {},
     "output_type": "display_data"
    },
    {
     "name": "stdout",
     "output_type": "stream",
     "text": [
      "{'affected_rows': 1, '_execution_time': 0.078, 'success': True, 'auth_check': {'session': None, 'auth_level': 'Write', 'success': True, 'checked_relations': ['tir.tir']}}\n"
     ]
    },
    {
     "data": {
      "text/plain": [
       "{'baseQueryURL': 'http://www.marinespecies.org/rest/AphiaRecordsByName/Carex seorsa',\n",
       " 'followTaxonomy': 'true',\n",
       " 'id': 20894,\n",
       " 'matchMethod': 'Not Matched',\n",
       " 'matchString': 'Carex seorsa',\n",
       " 'tryNames': ['Carex seorsa'],\n",
       " 'wormsJSON': {'MatchMethod': 'Not Matched',\n",
       "  'MatchString': 'Carex seorsa',\n",
       "  'cacheDate': '2017-09-08T13:17:57.800844'}}"
      ]
     },
     "metadata": {},
     "output_type": "display_data"
    },
    {
     "name": "stdout",
     "output_type": "stream",
     "text": [
      "{'affected_rows': 1, '_execution_time': 0.077, 'success': True, 'auth_check': {'session': None, 'auth_level': 'Write', 'success': True, 'checked_relations': ['tir.tir']}}\n"
     ]
    },
    {
     "data": {
      "text/plain": [
       "{'baseQueryURL': 'http://www.marinespecies.org/rest/AphiaRecordsByName/Gammarus minus tenuipes',\n",
       " 'followTaxonomy': 'true',\n",
       " 'id': 20895,\n",
       " 'matchMethod': 'Not Matched',\n",
       " 'matchString': 'Gammarus minus tenuipes',\n",
       " 'tryNames': ['Gammarus minus tenuipes'],\n",
       " 'wormsJSON': {'MatchMethod': 'Not Matched',\n",
       "  'MatchString': 'Gammarus minus tenuipes',\n",
       "  'cacheDate': '2017-09-08T13:17:59.460759'}}"
      ]
     },
     "metadata": {},
     "output_type": "display_data"
    },
    {
     "name": "stdout",
     "output_type": "stream",
     "text": [
      "{'affected_rows': 1, '_execution_time': 0.077, 'success': True, 'auth_check': {'session': None, 'auth_level': 'Write', 'success': True, 'checked_relations': ['tir.tir']}}\n"
     ]
    },
    {
     "data": {
      "text/plain": [
       "{'baseQueryURL': 'http://www.marinespecies.org/rest/AphiaRecordsByName/Trillium pusillum var virginianum',\n",
       " 'followTaxonomy': 'true',\n",
       " 'id': 20896,\n",
       " 'matchMethod': 'Not Matched',\n",
       " 'matchString': 'Trillium pusillum var virginianum',\n",
       " 'tryNames': ['Trillium pusillum var virginianum'],\n",
       " 'wormsJSON': {'MatchMethod': 'Not Matched',\n",
       "  'MatchString': 'Trillium pusillum var virginianum',\n",
       "  'cacheDate': '2017-09-08T13:18:03.705375'}}"
      ]
     },
     "metadata": {},
     "output_type": "display_data"
    },
    {
     "name": "stdout",
     "output_type": "stream",
     "text": [
      "{'affected_rows': 1, '_execution_time': 0.077, 'success': True, 'auth_check': {'session': None, 'auth_level': 'Write', 'success': True, 'checked_relations': ['tir.tir']}}\n"
     ]
    },
    {
     "data": {
      "text/plain": [
       "{'baseQueryURL': 'http://www.marinespecies.org/rest/AphiaRecordsByName/Polygonum amphibium',\n",
       " 'followTaxonomy': 'true',\n",
       " 'id': 20897,\n",
       " 'matchMethod': 'Not Matched',\n",
       " 'matchString': 'Polygonum amphibium',\n",
       " 'tryNames': ['Polygonum amphibium'],\n",
       " 'wormsJSON': {'MatchMethod': 'Not Matched',\n",
       "  'MatchString': 'Polygonum amphibium',\n",
       "  'cacheDate': '2017-09-08T13:18:05.629080'}}"
      ]
     },
     "metadata": {},
     "output_type": "display_data"
    },
    {
     "name": "stdout",
     "output_type": "stream",
     "text": [
      "{'affected_rows': 1, '_execution_time': 0.077, 'success': True, 'auth_check': {'session': None, 'auth_level': 'Write', 'success': True, 'checked_relations': ['tir.tir']}}\n"
     ]
    },
    {
     "data": {
      "text/plain": [
       "{'baseQueryURL': 'http://www.marinespecies.org/rest/AphiaRecordsByName/Bouteloua curtipendula var curtipendula',\n",
       " 'followTaxonomy': 'true',\n",
       " 'id': 20898,\n",
       " 'matchMethod': 'Not Matched',\n",
       " 'matchString': 'Bouteloua curtipendula var curtipendula',\n",
       " 'tryNames': ['Bouteloua curtipendula var curtipendula'],\n",
       " 'wormsJSON': {'MatchMethod': 'Not Matched',\n",
       "  'MatchString': 'Bouteloua curtipendula var curtipendula',\n",
       "  'cacheDate': '2017-09-08T13:18:07.267890'}}"
      ]
     },
     "metadata": {},
     "output_type": "display_data"
    },
    {
     "name": "stdout",
     "output_type": "stream",
     "text": [
      "{'affected_rows': 1, '_execution_time': 0.084, 'success': True, 'auth_check': {'session': None, 'auth_level': 'Write', 'success': True, 'checked_relations': ['tir.tir']}}\n"
     ]
    },
    {
     "data": {
      "text/plain": [
       "{'baseQueryURL': 'http://www.marinespecies.org/rest/AphiaRecordsByName/Certhia familiaris',\n",
       " 'followTaxonomy': 'true',\n",
       " 'id': 20901,\n",
       " 'matchMethod': 'Not Matched',\n",
       " 'matchString': 'Certhia familiaris',\n",
       " 'tryNames': ['Certhia familiaris'],\n",
       " 'wormsJSON': {'MatchMethod': 'Not Matched',\n",
       "  'MatchString': 'Certhia familiaris',\n",
       "  'cacheDate': '2017-09-08T13:18:08.938935'}}"
      ]
     },
     "metadata": {},
     "output_type": "display_data"
    },
    {
     "name": "stdout",
     "output_type": "stream",
     "text": [
      "{'affected_rows': 1, '_execution_time': 0.077, 'success': True, 'auth_check': {'session': None, 'auth_level': 'Write', 'success': True, 'checked_relations': ['tir.tir']}}\n"
     ]
    },
    {
     "data": {
      "text/plain": [
       "{'baseQueryURL': 'http://www.marinespecies.org/rest/AphiaRecordsByName/Satyrium caryaevorus',\n",
       " 'followTaxonomy': 'true',\n",
       " 'id': 20902,\n",
       " 'matchMethod': 'Not Matched',\n",
       " 'matchString': 'Satyrium caryaevorus',\n",
       " 'tryNames': ['Satyrium caryaevorus'],\n",
       " 'wormsJSON': {'MatchMethod': 'Not Matched',\n",
       "  'MatchString': 'Satyrium caryaevorus',\n",
       "  'cacheDate': '2017-09-08T13:18:10.828211'}}"
      ]
     },
     "metadata": {},
     "output_type": "display_data"
    },
    {
     "name": "stdout",
     "output_type": "stream",
     "text": [
      "{'affected_rows': 1, '_execution_time': 0.078, 'success': True, 'auth_check': {'session': None, 'auth_level': 'Write', 'success': True, 'checked_relations': ['tir.tir']}}\n"
     ]
    },
    {
     "data": {
      "text/plain": [
       "{'baseQueryURL': 'http://www.marinespecies.org/rest/AphiaRecordsByName/Lilium philadelphicum var philadelphicum',\n",
       " 'followTaxonomy': 'true',\n",
       " 'id': 20904,\n",
       " 'matchMethod': 'Not Matched',\n",
       " 'matchString': 'Lilium philadelphicum var philadelphicum',\n",
       " 'tryNames': ['Lilium philadelphicum var philadelphicum'],\n",
       " 'wormsJSON': {'MatchMethod': 'Not Matched',\n",
       "  'MatchString': 'Lilium philadelphicum var philadelphicum',\n",
       "  'cacheDate': '2017-09-08T13:18:13.755721'}}"
      ]
     },
     "metadata": {},
     "output_type": "display_data"
    },
    {
     "name": "stdout",
     "output_type": "stream",
     "text": [
      "{'affected_rows': 1, '_execution_time': 0.077, 'success': True, 'auth_check': {'session': None, 'auth_level': 'Write', 'success': True, 'checked_relations': ['tir.tir']}}\n"
     ]
    },
    {
     "data": {
      "text/plain": [
       "{'baseQueryURL': 'http://www.marinespecies.org/rest/AphiaRecordsByName/Astranthium integrifolium ssp integrifolium',\n",
       " 'followTaxonomy': 'true',\n",
       " 'id': 20906,\n",
       " 'matchMethod': 'Not Matched',\n",
       " 'matchString': 'Astranthium integrifolium ssp integrifolium',\n",
       " 'tryNames': ['Astranthium integrifolium ssp integrifolium'],\n",
       " 'wormsJSON': {'MatchMethod': 'Not Matched',\n",
       "  'MatchString': 'Astranthium integrifolium ssp integrifolium',\n",
       "  'cacheDate': '2017-09-08T13:18:15.458577'}}"
      ]
     },
     "metadata": {},
     "output_type": "display_data"
    },
    {
     "name": "stdout",
     "output_type": "stream",
     "text": [
      "{'affected_rows': 1, '_execution_time': 0.077, 'success': True, 'auth_check': {'session': None, 'auth_level': 'Write', 'success': True, 'checked_relations': ['tir.tir']}}\n"
     ]
    },
    {
     "data": {
      "text/plain": [
       "{'baseQueryURL': 'http://www.marinespecies.org/rest/AphiaRecordsByName/Eriogonum allenii',\n",
       " 'followTaxonomy': 'true',\n",
       " 'id': 20908,\n",
       " 'matchMethod': 'Not Matched',\n",
       " 'matchString': 'Eriogonum allenii',\n",
       " 'tryNames': ['Eriogonum allenii'],\n",
       " 'wormsJSON': {'MatchMethod': 'Not Matched',\n",
       "  'MatchString': 'Eriogonum allenii',\n",
       "  'cacheDate': '2017-09-08T13:18:17.081391'}}"
      ]
     },
     "metadata": {},
     "output_type": "display_data"
    },
    {
     "name": "stdout",
     "output_type": "stream",
     "text": [
      "{'affected_rows': 1, '_execution_time': 0.077, 'success': True, 'auth_check': {'session': None, 'auth_level': 'Write', 'success': True, 'checked_relations': ['tir.tir']}}\n"
     ]
    },
    {
     "data": {
      "text/plain": [
       "{'baseQueryURL': 'http://www.marinespecies.org/rest/AphiaRecordsByName/Trifolium virginicum',\n",
       " 'followTaxonomy': 'true',\n",
       " 'id': 20909,\n",
       " 'matchMethod': 'Not Matched',\n",
       " 'matchString': 'Trifolium virginicum',\n",
       " 'tryNames': ['Trifolium virginicum'],\n",
       " 'wormsJSON': {'MatchMethod': 'Not Matched',\n",
       "  'MatchString': 'Trifolium virginicum',\n",
       "  'cacheDate': '2017-09-08T13:18:18.793909'}}"
      ]
     },
     "metadata": {},
     "output_type": "display_data"
    },
    {
     "name": "stdout",
     "output_type": "stream",
     "text": [
      "{'affected_rows': 1, '_execution_time': 0.076, 'success': True, 'auth_check': {'session': None, 'auth_level': 'Write', 'success': True, 'checked_relations': ['tir.tir']}}\n"
     ]
    },
    {
     "data": {
      "text/plain": [
       "{'baseQueryURL': 'http://www.marinespecies.org/rest/AphiaRecordsByName/Stenanthium gramineum var micranthum',\n",
       " 'followTaxonomy': 'true',\n",
       " 'id': 20911,\n",
       " 'matchMethod': 'Not Matched',\n",
       " 'matchString': 'Stenanthium gramineum var micranthum',\n",
       " 'tryNames': ['Stenanthium gramineum var micranthum'],\n",
       " 'wormsJSON': {'MatchMethod': 'Not Matched',\n",
       "  'MatchString': 'Stenanthium gramineum var micranthum',\n",
       "  'cacheDate': '2017-09-08T13:18:21.762055'}}"
      ]
     },
     "metadata": {},
     "output_type": "display_data"
    },
    {
     "name": "stdout",
     "output_type": "stream",
     "text": [
      "{'affected_rows': 1, '_execution_time': 0.077, 'success': True, 'auth_check': {'session': None, 'auth_level': 'Write', 'success': True, 'checked_relations': ['tir.tir']}}\n"
     ]
    },
    {
     "data": {
      "text/plain": [
       "{'baseQueryURL': 'http://www.marinespecies.org/rest/AphiaRecordsByName/Parnassia asarifolia',\n",
       " 'followTaxonomy': 'true',\n",
       " 'id': 20912,\n",
       " 'matchMethod': 'Not Matched',\n",
       " 'matchString': 'Parnassia asarifolia',\n",
       " 'tryNames': ['Parnassia asarifolia'],\n",
       " 'wormsJSON': {'MatchMethod': 'Not Matched',\n",
       "  'MatchString': 'Parnassia asarifolia',\n",
       "  'cacheDate': '2017-09-08T13:18:24.406830'}}"
      ]
     },
     "metadata": {},
     "output_type": "display_data"
    },
    {
     "name": "stdout",
     "output_type": "stream",
     "text": [
      "{'affected_rows': 1, '_execution_time': 0.077, 'success': True, 'auth_check': {'session': None, 'auth_level': 'Write', 'success': True, 'checked_relations': ['tir.tir']}}\n"
     ]
    },
    {
     "data": {
      "text/plain": [
       "{'baseQueryURL': 'http://www.marinespecies.org/rest/AphiaRecordsByName/Descurainia pinnata ssp brachycarpa',\n",
       " 'followTaxonomy': 'true',\n",
       " 'id': 20914,\n",
       " 'matchMethod': 'Not Matched',\n",
       " 'matchString': 'Descurainia pinnata ssp brachycarpa',\n",
       " 'tryNames': ['Descurainia pinnata ssp brachycarpa'],\n",
       " 'wormsJSON': {'MatchMethod': 'Not Matched',\n",
       "  'MatchString': 'Descurainia pinnata ssp brachycarpa',\n",
       "  'cacheDate': '2017-09-08T13:18:26.060971'}}"
      ]
     },
     "metadata": {},
     "output_type": "display_data"
    },
    {
     "name": "stdout",
     "output_type": "stream",
     "text": [
      "{'affected_rows': 1, '_execution_time': 0.077, 'success': True, 'auth_check': {'session': None, 'auth_level': 'Write', 'success': True, 'checked_relations': ['tir.tir']}}\n"
     ]
    },
    {
     "data": {
      "text/plain": [
       "{'baseQueryURL': 'http://www.marinespecies.org/rest/AphiaRecordsByName/Triodopsis hopetonensis',\n",
       " 'followTaxonomy': 'true',\n",
       " 'id': 20915,\n",
       " 'matchMethod': 'Not Matched',\n",
       " 'matchString': 'Triodopsis hopetonensis',\n",
       " 'tryNames': ['Triodopsis hopetonensis'],\n",
       " 'wormsJSON': {'MatchMethod': 'Not Matched',\n",
       "  'MatchString': 'Triodopsis hopetonensis',\n",
       "  'cacheDate': '2017-09-08T13:18:27.625259'}}"
      ]
     },
     "metadata": {},
     "output_type": "display_data"
    },
    {
     "name": "stdout",
     "output_type": "stream",
     "text": [
      "{'affected_rows': 1, '_execution_time': 0.077, 'success': True, 'auth_check': {'session': None, 'auth_level': 'Write', 'success': True, 'checked_relations': ['tir.tir']}}\n"
     ]
    },
    {
     "data": {
      "text/plain": [
       "{'baseQueryURL': 'http://www.marinespecies.org/rest/AphiaRecordsByName/Anguispira stihleri',\n",
       " 'followTaxonomy': 'true',\n",
       " 'id': 20916,\n",
       " 'matchMethod': 'Exact Match',\n",
       " 'matchString': 'Anguispira stihleri',\n",
       " 'tryNames': ['Anguispira stihleri'],\n",
       " 'wormsJSON': {'AphiaID': 1027830,\n",
       "  'MatchMethod': 'Exact Match',\n",
       "  'MatchString': 'Anguispira stihleri',\n",
       "  'cacheDate': '2017-09-08T13:18:28.934386',\n",
       "  'class': 'Gastropoda',\n",
       "  'family': 'Discidae',\n",
       "  'genus': 'Anguispira',\n",
       "  'isBrackish': 0,\n",
       "  'isExtinct': 0,\n",
       "  'isFreshwater': 0,\n",
       "  'isMarine': 0,\n",
       "  'isTerrestrial': 1,\n",
       "  'kingdom': 'Animalia',\n",
       "  'lsid': 'urn:lsid:marinespecies.org:taxname:1027830',\n",
       "  'match_type': 'exact',\n",
       "  'modified': '2017-08-22T18:59:30Z',\n",
       "  'order': 'Stylommatophora',\n",
       "  'phylum': 'Mollusca',\n",
       "  'rank': 'Species',\n",
       "  'scientificname': 'Anguispira stihleri',\n",
       "  'status': 'accepted',\n",
       "  'unacceptreason': None,\n",
       "  'valid_AphiaID': 1027830,\n",
       "  'valid_name': 'Anguispira stihleri'}}"
      ]
     },
     "metadata": {},
     "output_type": "display_data"
    },
    {
     "name": "stdout",
     "output_type": "stream",
     "text": [
      "{'affected_rows': 1, '_execution_time': 0.077, 'success': True, 'auth_check': {'session': None, 'auth_level': 'Write', 'success': True, 'checked_relations': ['tir.tir']}}\n"
     ]
    },
    {
     "data": {
      "text/plain": [
       "{'baseQueryURL': 'http://www.marinespecies.org/rest/AphiaRecordsByName/Triodopsis',\n",
       " 'followTaxonomy': 'true',\n",
       " 'id': 20917,\n",
       " 'matchMethod': 'Exact Match',\n",
       " 'matchString': 'Triodopsis',\n",
       " 'tryNames': ['Triodopsis'],\n",
       " 'wormsJSON': {'AphiaID': 996675,\n",
       "  'MatchMethod': 'Exact Match',\n",
       "  'MatchString': 'Triodopsis',\n",
       "  'cacheDate': '2017-09-08T13:18:30.341039',\n",
       "  'class': 'Gastropoda',\n",
       "  'family': 'Polygyridae',\n",
       "  'genus': 'Triodopsis',\n",
       "  'isBrackish': 0,\n",
       "  'isExtinct': None,\n",
       "  'isFreshwater': 0,\n",
       "  'isMarine': 0,\n",
       "  'isTerrestrial': 1,\n",
       "  'kingdom': 'Animalia',\n",
       "  'lsid': 'urn:lsid:marinespecies.org:taxname:996675',\n",
       "  'match_type': 'exact',\n",
       "  'modified': '2017-06-15T09:29:09Z',\n",
       "  'order': 'Stylommatophora',\n",
       "  'phylum': 'Mollusca',\n",
       "  'rank': 'Genus',\n",
       "  'scientificname': 'Triodopsis',\n",
       "  'status': 'accepted',\n",
       "  'unacceptreason': None,\n",
       "  'valid_AphiaID': 996675,\n",
       "  'valid_name': 'Triodopsis'}}"
      ]
     },
     "metadata": {},
     "output_type": "display_data"
    },
    {
     "name": "stdout",
     "output_type": "stream",
     "text": [
      "{'affected_rows': 1, '_execution_time': 0.078, 'success': True, 'auth_check': {'session': None, 'auth_level': 'Write', 'success': True, 'checked_relations': ['tir.tir']}}\n"
     ]
    },
    {
     "data": {
      "text/plain": [
       "{'baseQueryURL': 'http://www.marinespecies.org/rest/AphiaRecordsByName/Spiranthes lacera var lacera',\n",
       " 'followTaxonomy': 'true',\n",
       " 'id': 20918,\n",
       " 'matchMethod': 'Not Matched',\n",
       " 'matchString': 'Spiranthes lacera var lacera',\n",
       " 'tryNames': ['Spiranthes lacera var lacera'],\n",
       " 'wormsJSON': {'MatchMethod': 'Not Matched',\n",
       "  'MatchString': 'Spiranthes lacera var lacera',\n",
       "  'cacheDate': '2017-09-08T13:18:33.275974'}}"
      ]
     },
     "metadata": {},
     "output_type": "display_data"
    },
    {
     "name": "stdout",
     "output_type": "stream",
     "text": [
      "{'affected_rows': 1, '_execution_time': 0.08, 'success': True, 'auth_check': {'session': None, 'auth_level': 'Write', 'success': True, 'checked_relations': ['tir.tir']}}\n"
     ]
    },
    {
     "data": {
      "text/plain": [
       "{'baseQueryURL': 'http://www.marinespecies.org/rest/AphiaRecordsByName/Clematis occidentalis var occidentalis',\n",
       " 'followTaxonomy': 'true',\n",
       " 'id': 20919,\n",
       " 'matchMethod': 'Not Matched',\n",
       " 'matchString': 'Clematis occidentalis var occidentalis',\n",
       " 'tryNames': ['Clematis occidentalis var occidentalis'],\n",
       " 'wormsJSON': {'MatchMethod': 'Not Matched',\n",
       "  'MatchString': 'Clematis occidentalis var occidentalis',\n",
       "  'cacheDate': '2017-09-08T13:18:35.020663'}}"
      ]
     },
     "metadata": {},
     "output_type": "display_data"
    },
    {
     "name": "stdout",
     "output_type": "stream",
     "text": [
      "{'affected_rows': 1, '_execution_time': 0.077, 'success': True, 'auth_check': {'session': None, 'auth_level': 'Write', 'success': True, 'checked_relations': ['tir.tir']}}\n"
     ]
    },
    {
     "data": {
      "text/plain": [
       "{'baseQueryURL': 'http://www.marinespecies.org/rest/AphiaRecordsByName/Polygala cruciata var aquilonia',\n",
       " 'followTaxonomy': 'true',\n",
       " 'id': 20920,\n",
       " 'matchMethod': 'Not Matched',\n",
       " 'matchString': 'Polygala cruciata var aquilonia',\n",
       " 'tryNames': ['Polygala cruciata var aquilonia'],\n",
       " 'wormsJSON': {'MatchMethod': 'Not Matched',\n",
       "  'MatchString': 'Polygala cruciata var aquilonia',\n",
       "  'cacheDate': '2017-09-08T13:18:36.619437'}}"
      ]
     },
     "metadata": {},
     "output_type": "display_data"
    },
    {
     "name": "stdout",
     "output_type": "stream",
     "text": [
      "{'affected_rows': 1, '_execution_time': 0.077, 'success': True, 'auth_check': {'session': None, 'auth_level': 'Write', 'success': True, 'checked_relations': ['tir.tir']}}\n"
     ]
    },
    {
     "data": {
      "text/plain": [
       "{'baseQueryURL': 'http://www.marinespecies.org/rest/AphiaRecordsByName/Eupatorium godfreyanum',\n",
       " 'followTaxonomy': 'true',\n",
       " 'id': 20921,\n",
       " 'matchMethod': 'Not Matched',\n",
       " 'matchString': 'Eupatorium godfreyanum',\n",
       " 'tryNames': ['Eupatorium godfreyanum'],\n",
       " 'wormsJSON': {'MatchMethod': 'Not Matched',\n",
       "  'MatchString': 'Eupatorium godfreyanum',\n",
       "  'cacheDate': '2017-09-08T13:18:38.270579'}}"
      ]
     },
     "metadata": {},
     "output_type": "display_data"
    },
    {
     "name": "stdout",
     "output_type": "stream",
     "text": [
      "{'affected_rows': 1, '_execution_time': 0.077, 'success': True, 'auth_check': {'session': None, 'auth_level': 'Write', 'success': True, 'checked_relations': ['tir.tir']}}\n"
     ]
    },
    {
     "data": {
      "text/plain": [
       "{'baseQueryURL': 'http://www.marinespecies.org/rest/AphiaRecordsByName/Carex aggregata',\n",
       " 'followTaxonomy': 'true',\n",
       " 'id': 20922,\n",
       " 'matchMethod': 'Not Matched',\n",
       " 'matchString': 'Carex aggregata',\n",
       " 'tryNames': ['Carex aggregata'],\n",
       " 'wormsJSON': {'MatchMethod': 'Not Matched',\n",
       "  'MatchString': 'Carex aggregata',\n",
       "  'cacheDate': '2017-09-08T13:18:40.099932'}}"
      ]
     },
     "metadata": {},
     "output_type": "display_data"
    },
    {
     "name": "stdout",
     "output_type": "stream",
     "text": [
      "{'affected_rows': 1, '_execution_time': 0.077, 'success': True, 'auth_check': {'session': None, 'auth_level': 'Write', 'success': True, 'checked_relations': ['tir.tir']}}\n"
     ]
    },
    {
     "data": {
      "text/plain": [
       "{'baseQueryURL': 'http://www.marinespecies.org/rest/AphiaRecordsByName/Rubus pubescens var pubescens',\n",
       " 'followTaxonomy': 'true',\n",
       " 'id': 20923,\n",
       " 'matchMethod': 'Not Matched',\n",
       " 'matchString': 'Rubus pubescens var pubescens',\n",
       " 'tryNames': ['Rubus pubescens var pubescens'],\n",
       " 'wormsJSON': {'MatchMethod': 'Not Matched',\n",
       "  'MatchString': 'Rubus pubescens var pubescens',\n",
       "  'cacheDate': '2017-09-08T13:18:43.060619'}}"
      ]
     },
     "metadata": {},
     "output_type": "display_data"
    },
    {
     "name": "stdout",
     "output_type": "stream",
     "text": [
      "{'affected_rows': 1, '_execution_time': 0.078, 'success': True, 'auth_check': {'session': None, 'auth_level': 'Write', 'success': True, 'checked_relations': ['tir.tir']}}\n"
     ]
    },
    {
     "data": {
      "text/plain": [
       "{'baseQueryURL': 'http://www.marinespecies.org/rest/AphiaRecordsByName/Dichanthelium acuminatum ssp acuminatum',\n",
       " 'followTaxonomy': 'true',\n",
       " 'id': 20924,\n",
       " 'matchMethod': 'Not Matched',\n",
       " 'matchString': 'Dichanthelium acuminatum ssp acuminatum',\n",
       " 'tryNames': ['Dichanthelium acuminatum ssp acuminatum'],\n",
       " 'wormsJSON': {'MatchMethod': 'Not Matched',\n",
       "  'MatchString': 'Dichanthelium acuminatum ssp acuminatum',\n",
       "  'cacheDate': '2017-09-08T13:18:44.735151'}}"
      ]
     },
     "metadata": {},
     "output_type": "display_data"
    },
    {
     "name": "stdout",
     "output_type": "stream",
     "text": [
      "{'affected_rows': 1, '_execution_time': 0.076, 'success': True, 'auth_check': {'session': None, 'auth_level': 'Write', 'success': True, 'checked_relations': ['tir.tir']}}\n"
     ]
    },
    {
     "data": {
      "text/plain": [
       "{'baseQueryURL': 'http://www.marinespecies.org/rest/AphiaRecordsByName/Galactia volubilis',\n",
       " 'followTaxonomy': 'true',\n",
       " 'id': 20925,\n",
       " 'matchMethod': 'Not Matched',\n",
       " 'matchString': 'Galactia volubilis',\n",
       " 'tryNames': ['Galactia volubilis'],\n",
       " 'wormsJSON': {'MatchMethod': 'Not Matched',\n",
       "  'MatchString': 'Galactia volubilis',\n",
       "  'cacheDate': '2017-09-08T13:18:46.302263'}}"
      ]
     },
     "metadata": {},
     "output_type": "display_data"
    },
    {
     "name": "stdout",
     "output_type": "stream",
     "text": [
      "{'affected_rows': 1, '_execution_time': 0.078, 'success': True, 'auth_check': {'session': None, 'auth_level': 'Write', 'success': True, 'checked_relations': ['tir.tir']}}\n"
     ]
    },
    {
     "data": {
      "text/plain": [
       "{'baseQueryURL': 'http://www.marinespecies.org/rest/AphiaRecordsByName/Lycopodiella inundata',\n",
       " 'followTaxonomy': 'true',\n",
       " 'id': 20926,\n",
       " 'matchMethod': 'Not Matched',\n",
       " 'matchString': 'Lycopodiella inundata',\n",
       " 'tryNames': ['Lycopodiella inundata'],\n",
       " 'wormsJSON': {'MatchMethod': 'Not Matched',\n",
       "  'MatchString': 'Lycopodiella inundata',\n",
       "  'cacheDate': '2017-09-08T13:18:47.911670'}}"
      ]
     },
     "metadata": {},
     "output_type": "display_data"
    },
    {
     "name": "stdout",
     "output_type": "stream",
     "text": [
      "{'affected_rows': 1, '_execution_time': 0.077, 'success': True, 'auth_check': {'session': None, 'auth_level': 'Write', 'success': True, 'checked_relations': ['tir.tir']}}\n"
     ]
    },
    {
     "data": {
      "text/plain": [
       "{'baseQueryURL': 'http://www.marinespecies.org/rest/AphiaRecordsByName/Hierochloe hirta ssp arctica',\n",
       " 'followTaxonomy': 'true',\n",
       " 'id': 20927,\n",
       " 'matchMethod': 'Not Matched',\n",
       " 'matchString': 'Hierochloe hirta ssp arctica',\n",
       " 'tryNames': ['Hierochloe hirta ssp arctica'],\n",
       " 'wormsJSON': {'MatchMethod': 'Not Matched',\n",
       "  'MatchString': 'Hierochloe hirta ssp arctica',\n",
       "  'cacheDate': '2017-09-08T13:18:49.642017'}}"
      ]
     },
     "metadata": {},
     "output_type": "display_data"
    },
    {
     "name": "stdout",
     "output_type": "stream",
     "text": [
      "{'affected_rows': 1, '_execution_time': 0.079, 'success': True, 'auth_check': {'session': None, 'auth_level': 'Write', 'success': True, 'checked_relations': ['tir.tir']}}\n"
     ]
    },
    {
     "data": {
      "text/plain": [
       "{'baseQueryURL': 'http://www.marinespecies.org/rest/AphiaRecordsByName/Platanthera shriveri',\n",
       " 'followTaxonomy': 'true',\n",
       " 'id': 20928,\n",
       " 'matchMethod': 'Not Matched',\n",
       " 'matchString': 'Platanthera shriveri',\n",
       " 'tryNames': ['Platanthera shriveri'],\n",
       " 'wormsJSON': {'MatchMethod': 'Not Matched',\n",
       "  'MatchString': 'Platanthera shriveri',\n",
       "  'cacheDate': '2017-09-08T13:18:52.323137'}}"
      ]
     },
     "metadata": {},
     "output_type": "display_data"
    },
    {
     "name": "stdout",
     "output_type": "stream",
     "text": [
      "{'affected_rows': 1, '_execution_time': 0.079, 'success': True, 'auth_check': {'session': None, 'auth_level': 'Write', 'success': True, 'checked_relations': ['tir.tir']}}\n"
     ]
    },
    {
     "data": {
      "text/plain": [
       "{'baseQueryURL': 'http://www.marinespecies.org/rest/AphiaRecordsByName/Ranunculus trichophyllus var trichophyllus',\n",
       " 'followTaxonomy': 'true',\n",
       " 'id': 20929,\n",
       " 'matchMethod': 'Not Matched',\n",
       " 'matchString': 'Ranunculus trichophyllus var trichophyllus',\n",
       " 'tryNames': ['Ranunculus trichophyllus var trichophyllus'],\n",
       " 'wormsJSON': {'MatchMethod': 'Not Matched',\n",
       "  'MatchString': 'Ranunculus trichophyllus var trichophyllus',\n",
       "  'cacheDate': '2017-09-08T13:18:54.353222'}}"
      ]
     },
     "metadata": {},
     "output_type": "display_data"
    },
    {
     "name": "stdout",
     "output_type": "stream",
     "text": [
      "{'affected_rows': 1, '_execution_time': 0.084, 'success': True, 'auth_check': {'session': None, 'auth_level': 'Write', 'success': True, 'checked_relations': ['tir.tir']}}\n"
     ]
    },
    {
     "data": {
      "text/plain": [
       "{'baseQueryURL': 'http://www.marinespecies.org/rest/AphiaRecordsByName/Carex oligosperma var oligosperma',\n",
       " 'followTaxonomy': 'true',\n",
       " 'id': 20931,\n",
       " 'matchMethod': 'Not Matched',\n",
       " 'matchString': 'Carex oligosperma var oligosperma',\n",
       " 'tryNames': ['Carex oligosperma var oligosperma'],\n",
       " 'wormsJSON': {'MatchMethod': 'Not Matched',\n",
       "  'MatchString': 'Carex oligosperma var oligosperma',\n",
       "  'cacheDate': '2017-09-08T13:18:55.953668'}}"
      ]
     },
     "metadata": {},
     "output_type": "display_data"
    },
    {
     "name": "stdout",
     "output_type": "stream",
     "text": [
      "{'affected_rows': 1, '_execution_time': 0.079, 'success': True, 'auth_check': {'session': None, 'auth_level': 'Write', 'success': True, 'checked_relations': ['tir.tir']}}\n"
     ]
    },
    {
     "data": {
      "text/plain": [
       "{'baseQueryURL': 'http://www.marinespecies.org/rest/AphiaRecordsByName/Erebomaster nr acanthina',\n",
       " 'followTaxonomy': 'true',\n",
       " 'id': 20932,\n",
       " 'matchMethod': 'Not Matched',\n",
       " 'matchString': 'Erebomaster nr acanthina',\n",
       " 'tryNames': ['Erebomaster nr acanthina'],\n",
       " 'wormsJSON': {'MatchMethod': 'Not Matched',\n",
       "  'MatchString': 'Erebomaster nr acanthina',\n",
       "  'cacheDate': '2017-09-08T13:18:57.530526'}}"
      ]
     },
     "metadata": {},
     "output_type": "display_data"
    },
    {
     "name": "stdout",
     "output_type": "stream",
     "text": [
      "{'affected_rows': 1, '_execution_time': 0.079, 'success': True, 'auth_check': {'session': None, 'auth_level': 'Write', 'success': True, 'checked_relations': ['tir.tir']}}\n"
     ]
    },
    {
     "data": {
      "text/plain": [
       "{'baseQueryURL': 'http://www.marinespecies.org/rest/AphiaRecordsByName/Mesomphix perlaevis',\n",
       " 'followTaxonomy': 'true',\n",
       " 'id': 20933,\n",
       " 'matchMethod': 'Not Matched',\n",
       " 'matchString': 'Mesomphix perlaevis',\n",
       " 'tryNames': ['Mesomphix perlaevis'],\n",
       " 'wormsJSON': {'MatchMethod': 'Not Matched',\n",
       "  'MatchString': 'Mesomphix perlaevis',\n",
       "  'cacheDate': '2017-09-08T13:18:59.626891'}}"
      ]
     },
     "metadata": {},
     "output_type": "display_data"
    },
    {
     "name": "stdout",
     "output_type": "stream",
     "text": [
      "{'affected_rows': 1, '_execution_time': 0.079, 'success': True, 'auth_check': {'session': None, 'auth_level': 'Write', 'success': True, 'checked_relations': ['tir.tir']}}\n"
     ]
    },
    {
     "data": {
      "text/plain": [
       "{'baseQueryURL': 'http://www.marinespecies.org/rest/AphiaRecordsByName/Asplenium septentrionale',\n",
       " 'followTaxonomy': 'true',\n",
       " 'id': 20934,\n",
       " 'matchMethod': 'Not Matched',\n",
       " 'matchString': 'Asplenium septentrionale',\n",
       " 'tryNames': ['Asplenium septentrionale'],\n",
       " 'wormsJSON': {'MatchMethod': 'Not Matched',\n",
       "  'MatchString': 'Asplenium septentrionale',\n",
       "  'cacheDate': '2017-09-08T13:19:03.773095'}}"
      ]
     },
     "metadata": {},
     "output_type": "display_data"
    },
    {
     "name": "stdout",
     "output_type": "stream",
     "text": [
      "{'affected_rows': 1, '_execution_time': 0.078, 'success': True, 'auth_check': {'session': None, 'auth_level': 'Write', 'success': True, 'checked_relations': ['tir.tir']}}\n"
     ]
    },
    {
     "data": {
      "text/plain": [
       "{'baseQueryURL': 'http://www.marinespecies.org/rest/AphiaRecordsByName/Lucilla scintilla',\n",
       " 'followTaxonomy': 'true',\n",
       " 'id': 20936,\n",
       " 'matchMethod': 'Exact Match',\n",
       " 'matchString': 'Lucilla scintilla',\n",
       " 'tryNames': ['Lucilla scintilla'],\n",
       " 'wormsJSON': {'AphiaID': 875556,\n",
       "  'MatchMethod': 'Exact Match',\n",
       "  'MatchString': 'Lucilla scintilla',\n",
       "  'cacheDate': '2017-09-08T13:19:05.068377',\n",
       "  'class': 'Gastropoda',\n",
       "  'family': 'Helicodiscidae',\n",
       "  'genus': 'Lucilla',\n",
       "  'isBrackish': 0,\n",
       "  'isExtinct': None,\n",
       "  'isFreshwater': 0,\n",
       "  'isMarine': 0,\n",
       "  'isTerrestrial': 1,\n",
       "  'kingdom': 'Animalia',\n",
       "  'lsid': 'urn:lsid:marinespecies.org:taxname:875556',\n",
       "  'match_type': 'exact',\n",
       "  'modified': '2017-06-26T15:24:29Z',\n",
       "  'order': 'Stylommatophora',\n",
       "  'phylum': 'Mollusca',\n",
       "  'rank': 'Species',\n",
       "  'scientificname': 'Lucilla scintilla',\n",
       "  'status': 'accepted',\n",
       "  'unacceptreason': None,\n",
       "  'valid_AphiaID': 875556,\n",
       "  'valid_name': 'Lucilla scintilla'}}"
      ]
     },
     "metadata": {},
     "output_type": "display_data"
    },
    {
     "name": "stdout",
     "output_type": "stream",
     "text": [
      "{'affected_rows': 1, '_execution_time': 0.082, 'success': True, 'auth_check': {'session': None, 'auth_level': 'Write', 'success': True, 'checked_relations': ['tir.tir']}}\n"
     ]
    },
    {
     "data": {
      "text/plain": [
       "{'baseQueryURL': 'http://www.marinespecies.org/rest/AphiaRecordsByName/Prunus alleghaniensis var alleghaniensis',\n",
       " 'followTaxonomy': 'true',\n",
       " 'id': 20938,\n",
       " 'matchMethod': 'Not Matched',\n",
       " 'matchString': 'Prunus alleghaniensis var alleghaniensis',\n",
       " 'tryNames': ['Prunus alleghaniensis var alleghaniensis'],\n",
       " 'wormsJSON': {'MatchMethod': 'Not Matched',\n",
       "  'MatchString': 'Prunus alleghaniensis var alleghaniensis',\n",
       "  'cacheDate': '2017-09-08T13:19:06.717654'}}"
      ]
     },
     "metadata": {},
     "output_type": "display_data"
    },
    {
     "name": "stdout",
     "output_type": "stream",
     "text": [
      "{'affected_rows': 1, '_execution_time': 0.078, 'success': True, 'auth_check': {'session': None, 'auth_level': 'Write', 'success': True, 'checked_relations': ['tir.tir']}}\n"
     ]
    },
    {
     "data": {
      "text/plain": [
       "{'baseQueryURL': 'http://www.marinespecies.org/rest/AphiaRecordsByName/Carex arctata',\n",
       " 'followTaxonomy': 'true',\n",
       " 'id': 20941,\n",
       " 'matchMethod': 'Not Matched',\n",
       " 'matchString': 'Carex arctata',\n",
       " 'tryNames': ['Carex arctata'],\n",
       " 'wormsJSON': {'MatchMethod': 'Not Matched',\n",
       "  'MatchString': 'Carex arctata',\n",
       "  'cacheDate': '2017-09-08T13:19:08.365475'}}"
      ]
     },
     "metadata": {},
     "output_type": "display_data"
    },
    {
     "name": "stdout",
     "output_type": "stream",
     "text": [
      "{'affected_rows': 1, '_execution_time': 0.079, 'success': True, 'auth_check': {'session': None, 'auth_level': 'Write', 'success': True, 'checked_relations': ['tir.tir']}}\n"
     ]
    },
    {
     "data": {
      "text/plain": [
       "{'baseQueryURL': 'http://www.marinespecies.org/rest/AphiaRecordsByName/Ampelopsis cordata',\n",
       " 'followTaxonomy': 'true',\n",
       " 'id': 20943,\n",
       " 'matchMethod': 'Not Matched',\n",
       " 'matchString': 'Ampelopsis cordata',\n",
       " 'tryNames': ['Ampelopsis cordata'],\n",
       " 'wormsJSON': {'MatchMethod': 'Not Matched',\n",
       "  'MatchString': 'Ampelopsis cordata',\n",
       "  'cacheDate': '2017-09-08T13:19:10.536579'}}"
      ]
     },
     "metadata": {},
     "output_type": "display_data"
    },
    {
     "name": "stdout",
     "output_type": "stream",
     "text": [
      "{'affected_rows': 1, '_execution_time': 0.087, 'success': True, 'auth_check': {'session': None, 'auth_level': 'Write', 'success': True, 'checked_relations': ['tir.tir']}}\n"
     ]
    },
    {
     "data": {
      "text/plain": [
       "{'baseQueryURL': 'http://www.marinespecies.org/rest/AphiaRecordsByName/Scutellaria ovata ssp ovata',\n",
       " 'followTaxonomy': 'true',\n",
       " 'id': 20944,\n",
       " 'matchMethod': 'Not Matched',\n",
       " 'matchString': 'Scutellaria ovata ssp ovata',\n",
       " 'tryNames': ['Scutellaria ovata ssp ovata'],\n",
       " 'wormsJSON': {'MatchMethod': 'Not Matched',\n",
       "  'MatchString': 'Scutellaria ovata ssp ovata',\n",
       "  'cacheDate': '2017-09-08T13:19:13.663690'}}"
      ]
     },
     "metadata": {},
     "output_type": "display_data"
    },
    {
     "name": "stdout",
     "output_type": "stream",
     "text": [
      "{'affected_rows': 1, '_execution_time': 0.079, 'success': True, 'auth_check': {'session': None, 'auth_level': 'Write', 'success': True, 'checked_relations': ['tir.tir']}}\n"
     ]
    },
    {
     "data": {
      "text/plain": [
       "{'baseQueryURL': 'http://www.marinespecies.org/rest/AphiaRecordsByName/Scleria oligantha',\n",
       " 'followTaxonomy': 'true',\n",
       " 'id': 20946,\n",
       " 'matchMethod': 'Not Matched',\n",
       " 'matchString': 'Scleria oligantha',\n",
       " 'tryNames': ['Scleria oligantha'],\n",
       " 'wormsJSON': {'MatchMethod': 'Not Matched',\n",
       "  'MatchString': 'Scleria oligantha',\n",
       "  'cacheDate': '2017-09-08T13:19:15.261676'}}"
      ]
     },
     "metadata": {},
     "output_type": "display_data"
    },
    {
     "name": "stdout",
     "output_type": "stream",
     "text": [
      "{'affected_rows': 1, '_execution_time': 0.078, 'success': True, 'auth_check': {'session': None, 'auth_level': 'Write', 'success': True, 'checked_relations': ['tir.tir']}}\n"
     ]
    },
    {
     "data": {
      "text/plain": [
       "{'baseQueryURL': 'http://www.marinespecies.org/rest/AphiaRecordsByName/Leucothoe recurva',\n",
       " 'followTaxonomy': 'true',\n",
       " 'id': 20947,\n",
       " 'matchMethod': 'Not Matched',\n",
       " 'matchString': 'Leucothoe recurva',\n",
       " 'tryNames': ['Leucothoe recurva'],\n",
       " 'wormsJSON': {'MatchMethod': 'Not Matched',\n",
       "  'MatchString': 'Leucothoe recurva',\n",
       "  'cacheDate': '2017-09-08T13:19:17.650370'}}"
      ]
     },
     "metadata": {},
     "output_type": "display_data"
    },
    {
     "name": "stdout",
     "output_type": "stream",
     "text": [
      "{'affected_rows': 1, '_execution_time': 0.084, 'success': True, 'auth_check': {'session': None, 'auth_level': 'Write', 'success': True, 'checked_relations': ['tir.tir']}}\n"
     ]
    },
    {
     "data": {
      "text/plain": [
       "{'baseQueryURL': 'http://www.marinespecies.org/rest/AphiaRecordsByName/Ptilimnium fluviatile',\n",
       " 'followTaxonomy': 'true',\n",
       " 'id': 20948,\n",
       " 'matchMethod': 'Not Matched',\n",
       " 'matchString': 'Ptilimnium fluviatile',\n",
       " 'tryNames': ['Ptilimnium fluviatile'],\n",
       " 'wormsJSON': {'MatchMethod': 'Not Matched',\n",
       "  'MatchString': 'Ptilimnium fluviatile',\n",
       "  'cacheDate': '2017-09-08T13:19:20.840661'}}"
      ]
     },
     "metadata": {},
     "output_type": "display_data"
    },
    {
     "name": "stdout",
     "output_type": "stream",
     "text": [
      "{'affected_rows': 1, '_execution_time': 0.077, 'success': True, 'auth_check': {'session': None, 'auth_level': 'Write', 'success': True, 'checked_relations': ['tir.tir']}}\n"
     ]
    },
    {
     "data": {
      "text/plain": [
       "{'baseQueryURL': 'http://www.marinespecies.org/rest/AphiaRecordsByName/Chamaesyce vermiculata',\n",
       " 'followTaxonomy': 'true',\n",
       " 'id': 20949,\n",
       " 'matchMethod': 'Not Matched',\n",
       " 'matchString': 'Chamaesyce vermiculata',\n",
       " 'tryNames': ['Chamaesyce vermiculata'],\n",
       " 'wormsJSON': {'MatchMethod': 'Not Matched',\n",
       "  'MatchString': 'Chamaesyce vermiculata',\n",
       "  'cacheDate': '2017-09-08T13:19:23.271074'}}"
      ]
     },
     "metadata": {},
     "output_type": "display_data"
    },
    {
     "name": "stdout",
     "output_type": "stream",
     "text": [
      "{'affected_rows': 1, '_execution_time': 0.081, 'success': True, 'auth_check': {'session': None, 'auth_level': 'Write', 'success': True, 'checked_relations': ['tir.tir']}}\n"
     ]
    },
    {
     "data": {
      "text/plain": [
       "{'baseQueryURL': 'http://www.marinespecies.org/rest/AphiaRecordsByName/Euphorbia pubentissima',\n",
       " 'followTaxonomy': 'true',\n",
       " 'id': 20951,\n",
       " 'matchMethod': 'Not Matched',\n",
       " 'matchString': 'Euphorbia pubentissima',\n",
       " 'tryNames': ['Euphorbia pubentissima'],\n",
       " 'wormsJSON': {'MatchMethod': 'Not Matched',\n",
       "  'MatchString': 'Euphorbia pubentissima',\n",
       "  'cacheDate': '2017-09-08T13:19:24.970010'}}"
      ]
     },
     "metadata": {},
     "output_type": "display_data"
    },
    {
     "name": "stdout",
     "output_type": "stream",
     "text": [
      "{'affected_rows': 1, '_execution_time': 0.078, 'success': True, 'auth_check': {'session': None, 'auth_level': 'Write', 'success': True, 'checked_relations': ['tir.tir']}}\n"
     ]
    },
    {
     "data": {
      "text/plain": [
       "{'baseQueryURL': 'http://www.marinespecies.org/rest/AphiaRecordsByName/Cheilanthes eatonii',\n",
       " 'followTaxonomy': 'true',\n",
       " 'id': 20954,\n",
       " 'matchMethod': 'Not Matched',\n",
       " 'matchString': 'Cheilanthes eatonii',\n",
       " 'tryNames': ['Cheilanthes eatonii'],\n",
       " 'wormsJSON': {'MatchMethod': 'Not Matched',\n",
       "  'MatchString': 'Cheilanthes eatonii',\n",
       "  'cacheDate': '2017-09-08T13:19:26.563812'}}"
      ]
     },
     "metadata": {},
     "output_type": "display_data"
    },
    {
     "name": "stdout",
     "output_type": "stream",
     "text": [
      "{'affected_rows': 1, '_execution_time': 0.077, 'success': True, 'auth_check': {'session': None, 'auth_level': 'Write', 'success': True, 'checked_relations': ['tir.tir']}}\n"
     ]
    },
    {
     "data": {
      "text/plain": [
       "{'baseQueryURL': 'http://www.marinespecies.org/rest/AphiaRecordsByName/Lindernia dubia var anagallidea',\n",
       " 'followTaxonomy': 'true',\n",
       " 'id': 20958,\n",
       " 'matchMethod': 'Not Matched',\n",
       " 'matchString': 'Lindernia dubia var anagallidea',\n",
       " 'tryNames': ['Lindernia dubia var anagallidea'],\n",
       " 'wormsJSON': {'MatchMethod': 'Not Matched',\n",
       "  'MatchString': 'Lindernia dubia var anagallidea',\n",
       "  'cacheDate': '2017-09-08T13:19:28.259924'}}"
      ]
     },
     "metadata": {},
     "output_type": "display_data"
    },
    {
     "name": "stdout",
     "output_type": "stream",
     "text": [
      "{'affected_rows': 1, '_execution_time': 0.076, 'success': True, 'auth_check': {'session': None, 'auth_level': 'Write', 'success': True, 'checked_relations': ['tir.tir']}}\n"
     ]
    },
    {
     "data": {
      "text/plain": [
       "{'baseQueryURL': 'http://www.marinespecies.org/rest/AphiaRecordsByName/Glyphyalinia cumberlandiana',\n",
       " 'followTaxonomy': 'true',\n",
       " 'id': 20959,\n",
       " 'matchMethod': 'Not Matched',\n",
       " 'matchString': 'Glyphyalinia cumberlandiana',\n",
       " 'tryNames': ['Glyphyalinia cumberlandiana'],\n",
       " 'wormsJSON': {'MatchMethod': 'Not Matched',\n",
       "  'MatchString': 'Glyphyalinia cumberlandiana',\n",
       "  'cacheDate': '2017-09-08T13:19:31.588406'}}"
      ]
     },
     "metadata": {},
     "output_type": "display_data"
    },
    {
     "name": "stdout",
     "output_type": "stream",
     "text": [
      "{'affected_rows': 1, '_execution_time': 0.077, 'success': True, 'auth_check': {'session': None, 'auth_level': 'Write', 'success': True, 'checked_relations': ['tir.tir']}}\n"
     ]
    },
    {
     "data": {
      "text/plain": [
       "{'baseQueryURL': 'http://www.marinespecies.org/rest/AphiaRecordsByName/Cyperus squarrosus',\n",
       " 'followTaxonomy': 'true',\n",
       " 'id': 20960,\n",
       " 'matchMethod': 'Not Matched',\n",
       " 'matchString': 'Cyperus squarrosus',\n",
       " 'tryNames': ['Cyperus squarrosus'],\n",
       " 'wormsJSON': {'MatchMethod': 'Not Matched',\n",
       "  'MatchString': 'Cyperus squarrosus',\n",
       "  'cacheDate': '2017-09-08T13:19:33.490511'}}"
      ]
     },
     "metadata": {},
     "output_type": "display_data"
    },
    {
     "name": "stdout",
     "output_type": "stream",
     "text": [
      "{'affected_rows': 1, '_execution_time': 0.077, 'success': True, 'auth_check': {'session': None, 'auth_level': 'Write', 'success': True, 'checked_relations': ['tir.tir']}}\n"
     ]
    },
    {
     "data": {
      "text/plain": [
       "{'baseQueryURL': 'http://www.marinespecies.org/rest/AphiaRecordsByName/Stenanthium gramineum var gramineum',\n",
       " 'followTaxonomy': 'true',\n",
       " 'id': 20961,\n",
       " 'matchMethod': 'Not Matched',\n",
       " 'matchString': 'Stenanthium gramineum var gramineum',\n",
       " 'tryNames': ['Stenanthium gramineum var gramineum'],\n",
       " 'wormsJSON': {'MatchMethod': 'Not Matched',\n",
       "  'MatchString': 'Stenanthium gramineum var gramineum',\n",
       "  'cacheDate': '2017-09-08T13:19:35.121536'}}"
      ]
     },
     "metadata": {},
     "output_type": "display_data"
    },
    {
     "name": "stdout",
     "output_type": "stream",
     "text": [
      "{'affected_rows': 1, '_execution_time': 0.077, 'success': True, 'auth_check': {'session': None, 'auth_level': 'Write', 'success': True, 'checked_relations': ['tir.tir']}}\n"
     ]
    },
    {
     "data": {
      "text/plain": [
       "{'baseQueryURL': 'http://www.marinespecies.org/rest/AphiaRecordsByName/Silene caroliniana ssp wherryi',\n",
       " 'followTaxonomy': 'true',\n",
       " 'id': 20963,\n",
       " 'matchMethod': 'Not Matched',\n",
       " 'matchString': 'Silene caroliniana ssp wherryi',\n",
       " 'tryNames': ['Silene caroliniana ssp wherryi'],\n",
       " 'wormsJSON': {'MatchMethod': 'Not Matched',\n",
       "  'MatchString': 'Silene caroliniana ssp wherryi',\n",
       "  'cacheDate': '2017-09-08T13:19:36.776821'}}"
      ]
     },
     "metadata": {},
     "output_type": "display_data"
    },
    {
     "name": "stdout",
     "output_type": "stream",
     "text": [
      "{'affected_rows': 1, '_execution_time': 0.077, 'success': True, 'auth_check': {'session': None, 'auth_level': 'Write', 'success': True, 'checked_relations': ['tir.tir']}}\n"
     ]
    },
    {
     "data": {
      "text/plain": [
       "{'baseQueryURL': 'http://www.marinespecies.org/rest/AphiaRecordsByName/Melanelia stygia',\n",
       " 'followTaxonomy': 'true',\n",
       " 'id': 20965,\n",
       " 'matchMethod': 'Not Matched',\n",
       " 'matchString': 'Melanelia stygia',\n",
       " 'tryNames': ['Melanelia stygia'],\n",
       " 'wormsJSON': {'MatchMethod': 'Not Matched',\n",
       "  'MatchString': 'Melanelia stygia',\n",
       "  'cacheDate': '2017-09-08T13:19:38.556014'}}"
      ]
     },
     "metadata": {},
     "output_type": "display_data"
    },
    {
     "name": "stdout",
     "output_type": "stream",
     "text": [
      "{'affected_rows': 1, '_execution_time': 0.076, 'success': True, 'auth_check': {'session': None, 'auth_level': 'Write', 'success': True, 'checked_relations': ['tir.tir']}}\n"
     ]
    },
    {
     "data": {
      "text/plain": [
       "{'baseQueryURL': 'http://www.marinespecies.org/rest/AphiaRecordsByName/Viburnum opulus var americanum',\n",
       " 'followTaxonomy': 'true',\n",
       " 'id': 20966,\n",
       " 'matchMethod': 'Not Matched',\n",
       " 'matchString': 'Viburnum opulus var americanum',\n",
       " 'tryNames': ['Viburnum opulus var americanum'],\n",
       " 'wormsJSON': {'MatchMethod': 'Not Matched',\n",
       "  'MatchString': 'Viburnum opulus var americanum',\n",
       "  'cacheDate': '2017-09-08T13:19:41.334138'}}"
      ]
     },
     "metadata": {},
     "output_type": "display_data"
    },
    {
     "name": "stdout",
     "output_type": "stream",
     "text": [
      "{'affected_rows': 1, '_execution_time': 0.077, 'success': True, 'auth_check': {'session': None, 'auth_level': 'Write', 'success': True, 'checked_relations': ['tir.tir']}}\n"
     ]
    },
    {
     "data": {
      "text/plain": [
       "{'baseQueryURL': 'http://www.marinespecies.org/rest/AphiaRecordsByName/Cuscuta indecora var neuropetala',\n",
       " 'followTaxonomy': 'true',\n",
       " 'id': 20967,\n",
       " 'matchMethod': 'Not Matched',\n",
       " 'matchString': 'Cuscuta indecora var neuropetala',\n",
       " 'tryNames': ['Cuscuta indecora var neuropetala'],\n",
       " 'wormsJSON': {'MatchMethod': 'Not Matched',\n",
       "  'MatchString': 'Cuscuta indecora var neuropetala',\n",
       "  'cacheDate': '2017-09-08T13:19:43.406164'}}"
      ]
     },
     "metadata": {},
     "output_type": "display_data"
    },
    {
     "name": "stdout",
     "output_type": "stream",
     "text": [
      "{'affected_rows': 1, '_execution_time': 0.077, 'success': True, 'auth_check': {'session': None, 'auth_level': 'Write', 'success': True, 'checked_relations': ['tir.tir']}}\n"
     ]
    },
    {
     "data": {
      "text/plain": [
       "{'baseQueryURL': 'http://www.marinespecies.org/rest/AphiaRecordsByName/Cuscuta rostrata',\n",
       " 'followTaxonomy': 'true',\n",
       " 'id': 20970,\n",
       " 'matchMethod': 'Not Matched',\n",
       " 'matchString': 'Cuscuta rostrata',\n",
       " 'tryNames': ['Cuscuta rostrata'],\n",
       " 'wormsJSON': {'MatchMethod': 'Not Matched',\n",
       "  'MatchString': 'Cuscuta rostrata',\n",
       "  'cacheDate': '2017-09-08T13:19:45.721083'}}"
      ]
     },
     "metadata": {},
     "output_type": "display_data"
    },
    {
     "name": "stdout",
     "output_type": "stream",
     "text": [
      "{'affected_rows': 1, '_execution_time': 0.081, 'success': True, 'auth_check': {'session': None, 'auth_level': 'Write', 'success': True, 'checked_relations': ['tir.tir']}}\n"
     ]
    },
    {
     "data": {
      "text/plain": [
       "{'baseQueryURL': 'http://www.marinespecies.org/rest/AphiaRecordsByName/Campylopus flexuosus',\n",
       " 'followTaxonomy': 'true',\n",
       " 'id': 20974,\n",
       " 'matchMethod': 'Not Matched',\n",
       " 'matchString': 'Campylopus flexuosus',\n",
       " 'tryNames': ['Campylopus flexuosus'],\n",
       " 'wormsJSON': {'MatchMethod': 'Not Matched',\n",
       "  'MatchString': 'Campylopus flexuosus',\n",
       "  'cacheDate': '2017-09-08T13:19:47.595720'}}"
      ]
     },
     "metadata": {},
     "output_type": "display_data"
    },
    {
     "name": "stdout",
     "output_type": "stream",
     "text": [
      "{'affected_rows': 1, '_execution_time': 0.078, 'success': True, 'auth_check': {'session': None, 'auth_level': 'Write', 'success': True, 'checked_relations': ['tir.tir']}}\n"
     ]
    },
    {
     "data": {
      "text/plain": [
       "{'baseQueryURL': 'http://www.marinespecies.org/rest/AphiaRecordsByName/Hypericum drummondii',\n",
       " 'followTaxonomy': 'true',\n",
       " 'id': 20975,\n",
       " 'matchMethod': 'Not Matched',\n",
       " 'matchString': 'Hypericum drummondii',\n",
       " 'tryNames': ['Hypericum drummondii'],\n",
       " 'wormsJSON': {'MatchMethod': 'Not Matched',\n",
       "  'MatchString': 'Hypericum drummondii',\n",
       "  'cacheDate': '2017-09-08T13:19:50.441271'}}"
      ]
     },
     "metadata": {},
     "output_type": "display_data"
    },
    {
     "name": "stdout",
     "output_type": "stream",
     "text": [
      "{'affected_rows': 1, '_execution_time': 0.077, 'success': True, 'auth_check': {'session': None, 'auth_level': 'Write', 'success': True, 'checked_relations': ['tir.tir']}}\n"
     ]
    },
    {
     "data": {
      "text/plain": [
       "{'baseQueryURL': 'http://www.marinespecies.org/rest/AphiaRecordsByName/Helianthus laevigatus',\n",
       " 'followTaxonomy': 'true',\n",
       " 'id': 20976,\n",
       " 'matchMethod': 'Not Matched',\n",
       " 'matchString': 'Helianthus laevigatus',\n",
       " 'tryNames': ['Helianthus laevigatus'],\n",
       " 'wormsJSON': {'MatchMethod': 'Not Matched',\n",
       "  'MatchString': 'Helianthus laevigatus',\n",
       "  'cacheDate': '2017-09-08T13:19:53.416682'}}"
      ]
     },
     "metadata": {},
     "output_type": "display_data"
    },
    {
     "name": "stdout",
     "output_type": "stream",
     "text": [
      "{'affected_rows': 1, '_execution_time': 0.078, 'success': True, 'auth_check': {'session': None, 'auth_level': 'Write', 'success': True, 'checked_relations': ['tir.tir']}}\n"
     ]
    },
    {
     "data": {
      "text/plain": [
       "{'baseQueryURL': 'http://www.marinespecies.org/rest/AphiaRecordsByName/Rudbeckia fulgida var fulgida',\n",
       " 'followTaxonomy': 'true',\n",
       " 'id': 20977,\n",
       " 'matchMethod': 'Not Matched',\n",
       " 'matchString': 'Rudbeckia fulgida var fulgida',\n",
       " 'tryNames': ['Rudbeckia fulgida var fulgida'],\n",
       " 'wormsJSON': {'MatchMethod': 'Not Matched',\n",
       "  'MatchString': 'Rudbeckia fulgida var fulgida',\n",
       "  'cacheDate': '2017-09-08T13:19:55.134960'}}"
      ]
     },
     "metadata": {},
     "output_type": "display_data"
    },
    {
     "name": "stdout",
     "output_type": "stream",
     "text": [
      "{'affected_rows': 1, '_execution_time': 0.078, 'success': True, 'auth_check': {'session': None, 'auth_level': 'Write', 'success': True, 'checked_relations': ['tir.tir']}}\n"
     ]
    },
    {
     "data": {
      "text/plain": [
       "{'baseQueryURL': 'http://www.marinespecies.org/rest/AphiaRecordsByName/Dichanthelium acuminatum ssp columbianum',\n",
       " 'followTaxonomy': 'true',\n",
       " 'id': 20978,\n",
       " 'matchMethod': 'Not Matched',\n",
       " 'matchString': 'Dichanthelium acuminatum ssp columbianum',\n",
       " 'tryNames': ['Dichanthelium acuminatum ssp columbianum'],\n",
       " 'wormsJSON': {'MatchMethod': 'Not Matched',\n",
       "  'MatchString': 'Dichanthelium acuminatum ssp columbianum',\n",
       "  'cacheDate': '2017-09-08T13:19:57.506452'}}"
      ]
     },
     "metadata": {},
     "output_type": "display_data"
    },
    {
     "name": "stdout",
     "output_type": "stream",
     "text": [
      "{'affected_rows': 1, '_execution_time': 0.077, 'success': True, 'auth_check': {'session': None, 'auth_level': 'Write', 'success': True, 'checked_relations': ['tir.tir']}}\n"
     ]
    },
    {
     "data": {
      "text/plain": [
       "{'baseQueryURL': 'http://www.marinespecies.org/rest/AphiaRecordsByName/Pinus resinosa',\n",
       " 'followTaxonomy': 'true',\n",
       " 'id': 20979,\n",
       " 'matchMethod': 'Not Matched',\n",
       " 'matchString': 'Pinus resinosa',\n",
       " 'tryNames': ['Pinus resinosa'],\n",
       " 'wormsJSON': {'MatchMethod': 'Not Matched',\n",
       "  'MatchString': 'Pinus resinosa',\n",
       "  'cacheDate': '2017-09-08T13:20:01.397974'}}"
      ]
     },
     "metadata": {},
     "output_type": "display_data"
    },
    {
     "name": "stdout",
     "output_type": "stream",
     "text": [
      "{'affected_rows': 1, '_execution_time': 0.078, 'success': True, 'auth_check': {'session': None, 'auth_level': 'Write', 'success': True, 'checked_relations': ['tir.tir']}}\n"
     ]
    },
    {
     "data": {
      "text/plain": [
       "{'baseQueryURL': 'http://www.marinespecies.org/rest/AphiaRecordsByName/Eupatorium hyssopifolium var hyssopifolium',\n",
       " 'followTaxonomy': 'true',\n",
       " 'id': 20980,\n",
       " 'matchMethod': 'Not Matched',\n",
       " 'matchString': 'Eupatorium hyssopifolium var hyssopifolium',\n",
       " 'tryNames': ['Eupatorium hyssopifolium var hyssopifolium'],\n",
       " 'wormsJSON': {'MatchMethod': 'Not Matched',\n",
       "  'MatchString': 'Eupatorium hyssopifolium var hyssopifolium',\n",
       "  'cacheDate': '2017-09-08T13:20:02.965590'}}"
      ]
     },
     "metadata": {},
     "output_type": "display_data"
    },
    {
     "name": "stdout",
     "output_type": "stream",
     "text": [
      "{'affected_rows': 1, '_execution_time': 0.085, 'success': True, 'auth_check': {'session': None, 'auth_level': 'Write', 'success': True, 'checked_relations': ['tir.tir']}}\n"
     ]
    },
    {
     "data": {
      "text/plain": [
       "{'baseQueryURL': 'http://www.marinespecies.org/rest/AphiaRecordsByName/Pellaea glabella ssp glabella',\n",
       " 'followTaxonomy': 'true',\n",
       " 'id': 20982,\n",
       " 'matchMethod': 'Not Matched',\n",
       " 'matchString': 'Pellaea glabella ssp glabella',\n",
       " 'tryNames': ['Pellaea glabella ssp glabella'],\n",
       " 'wormsJSON': {'MatchMethod': 'Not Matched',\n",
       "  'MatchString': 'Pellaea glabella ssp glabella',\n",
       "  'cacheDate': '2017-09-08T13:20:04.702112'}}"
      ]
     },
     "metadata": {},
     "output_type": "display_data"
    },
    {
     "name": "stdout",
     "output_type": "stream",
     "text": [
      "{'affected_rows': 1, '_execution_time': 0.077, 'success': True, 'auth_check': {'session': None, 'auth_level': 'Write', 'success': True, 'checked_relations': ['tir.tir']}}\n"
     ]
    },
    {
     "data": {
      "text/plain": [
       "{'baseQueryURL': 'http://www.marinespecies.org/rest/AphiaRecordsByName/Calycanthus floridus var glaucus',\n",
       " 'followTaxonomy': 'true',\n",
       " 'id': 20984,\n",
       " 'matchMethod': 'Not Matched',\n",
       " 'matchString': 'Calycanthus floridus var glaucus',\n",
       " 'tryNames': ['Calycanthus floridus var glaucus'],\n",
       " 'wormsJSON': {'MatchMethod': 'Not Matched',\n",
       "  'MatchString': 'Calycanthus floridus var glaucus',\n",
       "  'cacheDate': '2017-09-08T13:20:06.437415'}}"
      ]
     },
     "metadata": {},
     "output_type": "display_data"
    },
    {
     "name": "stdout",
     "output_type": "stream",
     "text": [
      "{'affected_rows': 1, '_execution_time': 0.077, 'success': True, 'auth_check': {'session': None, 'auth_level': 'Write', 'success': True, 'checked_relations': ['tir.tir']}}\n"
     ]
    },
    {
     "data": {
      "text/plain": [
       "{'baseQueryURL': 'http://www.marinespecies.org/rest/AphiaRecordsByName/Polygala curtissii',\n",
       " 'followTaxonomy': 'true',\n",
       " 'id': 20985,\n",
       " 'matchMethod': 'Not Matched',\n",
       " 'matchString': 'Polygala curtissii',\n",
       " 'tryNames': ['Polygala curtissii'],\n",
       " 'wormsJSON': {'MatchMethod': 'Not Matched',\n",
       "  'MatchString': 'Polygala curtissii',\n",
       "  'cacheDate': '2017-09-08T13:20:09.202667'}}"
      ]
     },
     "metadata": {},
     "output_type": "display_data"
    },
    {
     "name": "stdout",
     "output_type": "stream",
     "text": [
      "{'affected_rows': 1, '_execution_time': 0.077, 'success': True, 'auth_check': {'session': None, 'auth_level': 'Write', 'success': True, 'checked_relations': ['tir.tir']}}\n"
     ]
    },
    {
     "data": {
      "text/plain": [
       "{'baseQueryURL': 'http://www.marinespecies.org/rest/AphiaRecordsByName/Heuchera americana var hispida',\n",
       " 'followTaxonomy': 'true',\n",
       " 'id': 20987,\n",
       " 'matchMethod': 'Not Matched',\n",
       " 'matchString': 'Heuchera americana var hispida',\n",
       " 'tryNames': ['Heuchera americana var hispida'],\n",
       " 'wormsJSON': {'MatchMethod': 'Not Matched',\n",
       "  'MatchString': 'Heuchera americana var hispida',\n",
       "  'cacheDate': '2017-09-08T13:20:13.053314'}}"
      ]
     },
     "metadata": {},
     "output_type": "display_data"
    },
    {
     "name": "stdout",
     "output_type": "stream",
     "text": [
      "{'affected_rows': 1, '_execution_time': 0.078, 'success': True, 'auth_check': {'session': None, 'auth_level': 'Write', 'success': True, 'checked_relations': ['tir.tir']}}\n"
     ]
    },
    {
     "data": {
      "text/plain": [
       "{'baseQueryURL': 'http://www.marinespecies.org/rest/AphiaRecordsByName/Solidago arguta var harrisii',\n",
       " 'followTaxonomy': 'true',\n",
       " 'id': 20989,\n",
       " 'matchMethod': 'Not Matched',\n",
       " 'matchString': 'Solidago arguta var harrisii',\n",
       " 'tryNames': ['Solidago arguta var harrisii'],\n",
       " 'wormsJSON': {'MatchMethod': 'Not Matched',\n",
       "  'MatchString': 'Solidago arguta var harrisii',\n",
       "  'cacheDate': '2017-09-08T13:20:14.629604'}}"
      ]
     },
     "metadata": {},
     "output_type": "display_data"
    },
    {
     "name": "stdout",
     "output_type": "stream",
     "text": [
      "{'affected_rows': 1, '_execution_time': 0.079, 'success': True, 'auth_check': {'session': None, 'auth_level': 'Write', 'success': True, 'checked_relations': ['tir.tir']}}\n"
     ]
    },
    {
     "data": {
      "text/plain": [
       "{'baseQueryURL': 'http://www.marinespecies.org/rest/AphiaRecordsByName/Mesodon aff andrewsae',\n",
       " 'followTaxonomy': 'true',\n",
       " 'id': 20991,\n",
       " 'matchMethod': 'Not Matched',\n",
       " 'matchString': 'Mesodon aff andrewsae',\n",
       " 'tryNames': ['Mesodon aff andrewsae'],\n",
       " 'wormsJSON': {'MatchMethod': 'Not Matched',\n",
       "  'MatchString': 'Mesodon aff andrewsae',\n",
       "  'cacheDate': '2017-09-08T13:20:16.238587'}}"
      ]
     },
     "metadata": {},
     "output_type": "display_data"
    },
    {
     "name": "stdout",
     "output_type": "stream",
     "text": [
      "{'affected_rows': 1, '_execution_time': 0.076, 'success': True, 'auth_check': {'session': None, 'auth_level': 'Write', 'success': True, 'checked_relations': ['tir.tir']}}\n"
     ]
    },
    {
     "data": {
      "text/plain": [
       "{'baseQueryURL': 'http://www.marinespecies.org/rest/AphiaRecordsByName/Cornus canadensis',\n",
       " 'followTaxonomy': 'true',\n",
       " 'id': 20992,\n",
       " 'matchMethod': 'Not Matched',\n",
       " 'matchString': 'Cornus canadensis',\n",
       " 'tryNames': ['Cornus canadensis'],\n",
       " 'wormsJSON': {'MatchMethod': 'Not Matched',\n",
       "  'MatchString': 'Cornus canadensis',\n",
       "  'cacheDate': '2017-09-08T13:20:19.270094'}}"
      ]
     },
     "metadata": {},
     "output_type": "display_data"
    },
    {
     "name": "stdout",
     "output_type": "stream",
     "text": [
      "{'affected_rows': 1, '_execution_time': 0.077, 'success': True, 'auth_check': {'session': None, 'auth_level': 'Write', 'success': True, 'checked_relations': ['tir.tir']}}\n"
     ]
    },
    {
     "data": {
      "text/plain": [
       "{'baseQueryURL': 'http://www.marinespecies.org/rest/AphiaRecordsByName/Symphyotrichum laeve var concinnum',\n",
       " 'followTaxonomy': 'true',\n",
       " 'id': 20993,\n",
       " 'matchMethod': 'Not Matched',\n",
       " 'matchString': 'Symphyotrichum laeve var concinnum',\n",
       " 'tryNames': ['Symphyotrichum laeve var concinnum'],\n",
       " 'wormsJSON': {'MatchMethod': 'Not Matched',\n",
       "  'MatchString': 'Symphyotrichum laeve var concinnum',\n",
       "  'cacheDate': '2017-09-08T13:20:21.802344'}}"
      ]
     },
     "metadata": {},
     "output_type": "display_data"
    },
    {
     "name": "stdout",
     "output_type": "stream",
     "text": [
      "{'affected_rows': 1, '_execution_time': 0.083, 'success': True, 'auth_check': {'session': None, 'auth_level': 'Write', 'success': True, 'checked_relations': ['tir.tir']}}\n"
     ]
    },
    {
     "data": {
      "text/plain": [
       "{'baseQueryURL': 'http://www.marinespecies.org/rest/AphiaRecordsByName/Eupatorium hyssopifolium var laciniatum',\n",
       " 'followTaxonomy': 'true',\n",
       " 'id': 20995,\n",
       " 'matchMethod': 'Not Matched',\n",
       " 'matchString': 'Eupatorium hyssopifolium var laciniatum',\n",
       " 'tryNames': ['Eupatorium hyssopifolium var laciniatum'],\n",
       " 'wormsJSON': {'MatchMethod': 'Not Matched',\n",
       "  'MatchString': 'Eupatorium hyssopifolium var laciniatum',\n",
       "  'cacheDate': '2017-09-08T13:20:23.435670'}}"
      ]
     },
     "metadata": {},
     "output_type": "display_data"
    },
    {
     "name": "stdout",
     "output_type": "stream",
     "text": [
      "{'affected_rows': 1, '_execution_time': 0.077, 'success': True, 'auth_check': {'session': None, 'auth_level': 'Write', 'success': True, 'checked_relations': ['tir.tir']}}\n"
     ]
    },
    {
     "data": {
      "text/plain": [
       "{'baseQueryURL': 'http://www.marinespecies.org/rest/AphiaRecordsByName/Monarda fistulosa ssp brevis',\n",
       " 'followTaxonomy': 'true',\n",
       " 'id': 20997,\n",
       " 'matchMethod': 'Not Matched',\n",
       " 'matchString': 'Monarda fistulosa ssp brevis',\n",
       " 'tryNames': ['Monarda fistulosa ssp brevis'],\n",
       " 'wormsJSON': {'MatchMethod': 'Not Matched',\n",
       "  'MatchString': 'Monarda fistulosa ssp brevis',\n",
       "  'cacheDate': '2017-09-08T13:20:25.076709'}}"
      ]
     },
     "metadata": {},
     "output_type": "display_data"
    },
    {
     "name": "stdout",
     "output_type": "stream",
     "text": [
      "{'affected_rows': 1, '_execution_time': 0.078, 'success': True, 'auth_check': {'session': None, 'auth_level': 'Write', 'success': True, 'checked_relations': ['tir.tir']}}\n"
     ]
    },
    {
     "data": {
      "text/plain": [
       "{'baseQueryURL': 'http://www.marinespecies.org/rest/AphiaRecordsByName/Astragalus distortus var distortus',\n",
       " 'followTaxonomy': 'true',\n",
       " 'id': 20998,\n",
       " 'matchMethod': 'Not Matched',\n",
       " 'matchString': 'Astragalus distortus var distortus',\n",
       " 'tryNames': ['Astragalus distortus var distortus'],\n",
       " 'wormsJSON': {'MatchMethod': 'Not Matched',\n",
       "  'MatchString': 'Astragalus distortus var distortus',\n",
       "  'cacheDate': '2017-09-08T13:20:26.681214'}}"
      ]
     },
     "metadata": {},
     "output_type": "display_data"
    },
    {
     "name": "stdout",
     "output_type": "stream",
     "text": [
      "{'affected_rows': 1, '_execution_time': 0.077, 'success': True, 'auth_check': {'session': None, 'auth_level': 'Write', 'success': True, 'checked_relations': ['tir.tir']}}\n"
     ]
    },
    {
     "data": {
      "text/plain": [
       "{'baseQueryURL': 'http://www.marinespecies.org/rest/AphiaRecordsByName/Glyphyalinia',\n",
       " 'followTaxonomy': 'true',\n",
       " 'id': 21000,\n",
       " 'matchMethod': 'Exact Match',\n",
       " 'matchString': 'Glyphyalinia',\n",
       " 'tryNames': ['Glyphyalinia'],\n",
       " 'wormsJSON': {'AphiaID': 995270,\n",
       "  'MatchMethod': 'Exact Match',\n",
       "  'MatchString': 'Glyphyalinia',\n",
       "  'cacheDate': '2017-09-08T13:20:29.076846',\n",
       "  'class': 'Gastropoda',\n",
       "  'family': 'Gastrodontidae',\n",
       "  'genus': 'Glyphyalinia',\n",
       "  'isBrackish': 0,\n",
       "  'isExtinct': None,\n",
       "  'isFreshwater': 0,\n",
       "  'isMarine': 0,\n",
       "  'isTerrestrial': 1,\n",
       "  'kingdom': 'Animalia',\n",
       "  'lsid': 'urn:lsid:marinespecies.org:taxname:995270',\n",
       "  'match_type': 'exact',\n",
       "  'modified': '2017-06-15T09:29:09Z',\n",
       "  'order': 'Stylommatophora',\n",
       "  'phylum': 'Mollusca',\n",
       "  'rank': 'Genus',\n",
       "  'scientificname': 'Glyphyalinia',\n",
       "  'status': 'accepted',\n",
       "  'unacceptreason': None,\n",
       "  'valid_AphiaID': 995270,\n",
       "  'valid_name': 'Glyphyalinia'}}"
      ]
     },
     "metadata": {},
     "output_type": "display_data"
    },
    {
     "name": "stdout",
     "output_type": "stream",
     "text": [
      "{'affected_rows': 1, '_execution_time': 0.079, 'success': True, 'auth_check': {'session': None, 'auth_level': 'Write', 'success': True, 'checked_relations': ['tir.tir']}}\n"
     ]
    },
    {
     "data": {
      "text/plain": [
       "{'baseQueryURL': 'http://www.marinespecies.org/rest/AphiaRecordsByName/Cambarus smilax',\n",
       " 'followTaxonomy': 'true',\n",
       " 'id': 21002,\n",
       " 'matchMethod': 'Exact Match',\n",
       " 'matchString': 'Cambarus smilax',\n",
       " 'tryNames': ['Cambarus smilax'],\n",
       " 'wormsJSON': {'AphiaID': 885228,\n",
       "  'MatchMethod': 'Exact Match',\n",
       "  'MatchString': 'Cambarus smilax',\n",
       "  'cacheDate': '2017-09-08T13:20:32.575477',\n",
       "  'class': 'Malacostraca',\n",
       "  'family': 'Cambaridae',\n",
       "  'genus': 'Cambarus',\n",
       "  'isBrackish': 0,\n",
       "  'isExtinct': None,\n",
       "  'isFreshwater': 1,\n",
       "  'isMarine': 0,\n",
       "  'isTerrestrial': 0,\n",
       "  'kingdom': 'Animalia',\n",
       "  'lsid': 'urn:lsid:marinespecies.org:taxname:885228',\n",
       "  'match_type': 'exact',\n",
       "  'modified': '2016-09-19T14:37:06Z',\n",
       "  'order': 'Decapoda',\n",
       "  'phylum': 'Arthropoda',\n",
       "  'rank': 'Species',\n",
       "  'scientificname': 'Cambarus smilax',\n",
       "  'status': 'accepted',\n",
       "  'unacceptreason': None,\n",
       "  'valid_AphiaID': 885228,\n",
       "  'valid_name': 'Cambarus smilax'}}"
      ]
     },
     "metadata": {},
     "output_type": "display_data"
    },
    {
     "name": "stdout",
     "output_type": "stream",
     "text": [
      "{'affected_rows': 1, '_execution_time': 0.078, 'success': True, 'auth_check': {'session': None, 'auth_level': 'Write', 'success': True, 'checked_relations': ['tir.tir']}}\n"
     ]
    },
    {
     "data": {
      "text/plain": [
       "{'baseQueryURL': 'http://www.marinespecies.org/rest/AphiaRecordsByName/Dichanthelium xanthophysum',\n",
       " 'followTaxonomy': 'true',\n",
       " 'id': 21004,\n",
       " 'matchMethod': 'Not Matched',\n",
       " 'matchString': 'Dichanthelium xanthophysum',\n",
       " 'tryNames': ['Dichanthelium xanthophysum'],\n",
       " 'wormsJSON': {'MatchMethod': 'Not Matched',\n",
       "  'MatchString': 'Dichanthelium xanthophysum',\n",
       "  'cacheDate': '2017-09-08T13:20:34.198615'}}"
      ]
     },
     "metadata": {},
     "output_type": "display_data"
    },
    {
     "name": "stdout",
     "output_type": "stream",
     "text": [
      "{'affected_rows': 1, '_execution_time': 0.077, 'success': True, 'auth_check': {'session': None, 'auth_level': 'Write', 'success': True, 'checked_relations': ['tir.tir']}}\n"
     ]
    },
    {
     "data": {
      "text/plain": [
       "{'baseQueryURL': 'http://www.marinespecies.org/rest/AphiaRecordsByName/Anemone quinquefolia var minima',\n",
       " 'followTaxonomy': 'true',\n",
       " 'id': 21005,\n",
       " 'matchMethod': 'Not Matched',\n",
       " 'matchString': 'Anemone quinquefolia var minima',\n",
       " 'tryNames': ['Anemone quinquefolia var minima'],\n",
       " 'wormsJSON': {'MatchMethod': 'Not Matched',\n",
       "  'MatchString': 'Anemone quinquefolia var minima',\n",
       "  'cacheDate': '2017-09-08T13:20:35.844067'}}"
      ]
     },
     "metadata": {},
     "output_type": "display_data"
    },
    {
     "name": "stdout",
     "output_type": "stream",
     "text": [
      "{'affected_rows': 1, '_execution_time': 0.08, 'success': True, 'auth_check': {'session': None, 'auth_level': 'Write', 'success': True, 'checked_relations': ['tir.tir']}}\n"
     ]
    },
    {
     "data": {
      "text/plain": [
       "{'baseQueryURL': 'http://www.marinespecies.org/rest/AphiaRecordsByName/Populus balsamifera ssp balsamifera',\n",
       " 'followTaxonomy': 'true',\n",
       " 'id': 21006,\n",
       " 'matchMethod': 'Not Matched',\n",
       " 'matchString': 'Populus balsamifera ssp balsamifera',\n",
       " 'tryNames': ['Populus balsamifera ssp balsamifera'],\n",
       " 'wormsJSON': {'MatchMethod': 'Not Matched',\n",
       "  'MatchString': 'Populus balsamifera ssp balsamifera',\n",
       "  'cacheDate': '2017-09-08T13:20:40.720643'}}"
      ]
     },
     "metadata": {},
     "output_type": "display_data"
    },
    {
     "name": "stdout",
     "output_type": "stream",
     "text": [
      "{'affected_rows': 1, '_execution_time': 0.078, 'success': True, 'auth_check': {'session': None, 'auth_level': 'Write', 'success': True, 'checked_relations': ['tir.tir']}}\n"
     ]
    },
    {
     "data": {
      "text/plain": [
       "{'baseQueryURL': 'http://www.marinespecies.org/rest/AphiaRecordsByName/Zonitoides elliotti',\n",
       " 'followTaxonomy': 'true',\n",
       " 'id': 21007,\n",
       " 'matchMethod': 'Not Matched',\n",
       " 'matchString': 'Zonitoides elliotti',\n",
       " 'tryNames': ['Zonitoides elliotti'],\n",
       " 'wormsJSON': {'MatchMethod': 'Not Matched',\n",
       "  'MatchString': 'Zonitoides elliotti',\n",
       "  'cacheDate': '2017-09-08T13:20:42.342468'}}"
      ]
     },
     "metadata": {},
     "output_type": "display_data"
    },
    {
     "name": "stdout",
     "output_type": "stream",
     "text": [
      "{'affected_rows': 1, '_execution_time': 0.076, 'success': True, 'auth_check': {'session': None, 'auth_level': 'Write', 'success': True, 'checked_relations': ['tir.tir']}}\n"
     ]
    },
    {
     "data": {
      "text/plain": [
       "{'baseQueryURL': 'http://www.marinespecies.org/rest/AphiaRecordsByName/Mesomphix',\n",
       " 'followTaxonomy': 'true',\n",
       " 'id': 21008,\n",
       " 'matchMethod': 'Exact Match',\n",
       " 'matchString': 'Mesomphix',\n",
       " 'tryNames': ['Mesomphix'],\n",
       " 'wormsJSON': {'AphiaID': 995272,\n",
       "  'MatchMethod': 'Exact Match',\n",
       "  'MatchString': 'Mesomphix',\n",
       "  'cacheDate': '2017-09-08T13:20:44.222943',\n",
       "  'class': 'Gastropoda',\n",
       "  'family': 'Gastrodontidae',\n",
       "  'genus': 'Mesomphix',\n",
       "  'isBrackish': 0,\n",
       "  'isExtinct': None,\n",
       "  'isFreshwater': 0,\n",
       "  'isMarine': 0,\n",
       "  'isTerrestrial': 1,\n",
       "  'kingdom': 'Animalia',\n",
       "  'lsid': 'urn:lsid:marinespecies.org:taxname:995272',\n",
       "  'match_type': 'exact',\n",
       "  'modified': '2017-06-15T09:29:09Z',\n",
       "  'order': 'Stylommatophora',\n",
       "  'phylum': 'Mollusca',\n",
       "  'rank': 'Genus',\n",
       "  'scientificname': 'Mesomphix',\n",
       "  'status': 'accepted',\n",
       "  'unacceptreason': None,\n",
       "  'valid_AphiaID': 995272,\n",
       "  'valid_name': 'Mesomphix'}}"
      ]
     },
     "metadata": {},
     "output_type": "display_data"
    },
    {
     "name": "stdout",
     "output_type": "stream",
     "text": [
      "{'affected_rows': 1, '_execution_time': 0.079, 'success': True, 'auth_check': {'session': None, 'auth_level': 'Write', 'success': True, 'checked_relations': ['tir.tir']}}\n"
     ]
    },
    {
     "data": {
      "text/plain": [
       "{'baseQueryURL': 'http://www.marinespecies.org/rest/AphiaRecordsByName/Arundinaria gigantea ssp gigantea',\n",
       " 'followTaxonomy': 'true',\n",
       " 'id': 21010,\n",
       " 'matchMethod': 'Not Matched',\n",
       " 'matchString': 'Arundinaria gigantea ssp gigantea',\n",
       " 'tryNames': ['Arundinaria gigantea ssp gigantea'],\n",
       " 'wormsJSON': {'MatchMethod': 'Not Matched',\n",
       "  'MatchString': 'Arundinaria gigantea ssp gigantea',\n",
       "  'cacheDate': '2017-09-08T13:20:45.847329'}}"
      ]
     },
     "metadata": {},
     "output_type": "display_data"
    },
    {
     "name": "stdout",
     "output_type": "stream",
     "text": [
      "{'affected_rows': 1, '_execution_time': 0.078, 'success': True, 'auth_check': {'session': None, 'auth_level': 'Write', 'success': True, 'checked_relations': ['tir.tir']}}\n"
     ]
    },
    {
     "data": {
      "text/plain": [
       "{'baseQueryURL': 'http://www.marinespecies.org/rest/AphiaRecordsByName/Silphium perfoliatum var connatum',\n",
       " 'followTaxonomy': 'true',\n",
       " 'id': 21012,\n",
       " 'matchMethod': 'Not Matched',\n",
       " 'matchString': 'Silphium perfoliatum var connatum',\n",
       " 'tryNames': ['Silphium perfoliatum var connatum'],\n",
       " 'wormsJSON': {'MatchMethod': 'Not Matched',\n",
       "  'MatchString': 'Silphium perfoliatum var connatum',\n",
       "  'cacheDate': '2017-09-08T13:20:48.384317'}}"
      ]
     },
     "metadata": {},
     "output_type": "display_data"
    },
    {
     "name": "stdout",
     "output_type": "stream",
     "text": [
      "{'affected_rows': 1, '_execution_time': 0.076, 'success': True, 'auth_check': {'session': None, 'auth_level': 'Write', 'success': True, 'checked_relations': ['tir.tir']}}\n"
     ]
    },
    {
     "data": {
      "text/plain": [
       "{'baseQueryURL': 'http://www.marinespecies.org/rest/AphiaRecordsByName/Carex nigromarginata',\n",
       " 'followTaxonomy': 'true',\n",
       " 'id': 21014,\n",
       " 'matchMethod': 'Not Matched',\n",
       " 'matchString': 'Carex nigromarginata',\n",
       " 'tryNames': ['Carex nigromarginata'],\n",
       " 'wormsJSON': {'MatchMethod': 'Not Matched',\n",
       "  'MatchString': 'Carex nigromarginata',\n",
       "  'cacheDate': '2017-09-08T13:20:51.143978'}}"
      ]
     },
     "metadata": {},
     "output_type": "display_data"
    },
    {
     "name": "stdout",
     "output_type": "stream",
     "text": [
      "{'affected_rows': 1, '_execution_time': 0.076, 'success': True, 'auth_check': {'session': None, 'auth_level': 'Write', 'success': True, 'checked_relations': ['tir.tir']}}\n"
     ]
    },
    {
     "data": {
      "text/plain": [
       "{'baseQueryURL': 'http://www.marinespecies.org/rest/AphiaRecordsByName/Arabis serotina',\n",
       " 'followTaxonomy': 'true',\n",
       " 'id': 21016,\n",
       " 'matchMethod': 'Not Matched',\n",
       " 'matchString': 'Arabis serotina',\n",
       " 'tryNames': ['Arabis serotina'],\n",
       " 'wormsJSON': {'MatchMethod': 'Not Matched',\n",
       "  'MatchString': 'Arabis serotina',\n",
       "  'cacheDate': '2017-09-08T13:20:52.892007'}}"
      ]
     },
     "metadata": {},
     "output_type": "display_data"
    },
    {
     "name": "stdout",
     "output_type": "stream",
     "text": [
      "{'affected_rows': 1, '_execution_time': 0.085, 'success': True, 'auth_check': {'session': None, 'auth_level': 'Write', 'success': True, 'checked_relations': ['tir.tir']}}\n"
     ]
    },
    {
     "data": {
      "text/plain": [
       "{'baseQueryURL': 'http://www.marinespecies.org/rest/AphiaRecordsByName/Hexalectris spicata var spicata',\n",
       " 'followTaxonomy': 'true',\n",
       " 'id': 21019,\n",
       " 'matchMethod': 'Not Matched',\n",
       " 'matchString': 'Hexalectris spicata var spicata',\n",
       " 'tryNames': ['Hexalectris spicata var spicata'],\n",
       " 'wormsJSON': {'MatchMethod': 'Not Matched',\n",
       "  'MatchString': 'Hexalectris spicata var spicata',\n",
       "  'cacheDate': '2017-09-08T13:20:54.523042'}}"
      ]
     },
     "metadata": {},
     "output_type": "display_data"
    },
    {
     "name": "stdout",
     "output_type": "stream",
     "text": [
      "{'affected_rows': 1, '_execution_time': 0.077, 'success': True, 'auth_check': {'session': None, 'auth_level': 'Write', 'success': True, 'checked_relations': ['tir.tir']}}\n"
     ]
    },
    {
     "data": {
      "text/plain": [
       "{'baseQueryURL': 'http://www.marinespecies.org/rest/AphiaRecordsByName/Botrychium lanceolatum var angustisegmentum',\n",
       " 'followTaxonomy': 'true',\n",
       " 'id': 21024,\n",
       " 'matchMethod': 'Not Matched',\n",
       " 'matchString': 'Botrychium lanceolatum var angustisegmentum',\n",
       " 'tryNames': ['Botrychium lanceolatum var angustisegmentum'],\n",
       " 'wormsJSON': {'MatchMethod': 'Not Matched',\n",
       "  'MatchString': 'Botrychium lanceolatum var angustisegmentum',\n",
       "  'cacheDate': '2017-09-08T13:20:56.163884'}}"
      ]
     },
     "metadata": {},
     "output_type": "display_data"
    },
    {
     "name": "stdout",
     "output_type": "stream",
     "text": [
      "{'affected_rows': 1, '_execution_time': 0.076, 'success': True, 'auth_check': {'session': None, 'auth_level': 'Write', 'success': True, 'checked_relations': ['tir.tir']}}\n"
     ]
    },
    {
     "data": {
      "text/plain": [
       "{'baseQueryURL': 'http://www.marinespecies.org/rest/AphiaRecordsByName/Stachys nuttallii',\n",
       " 'followTaxonomy': 'true',\n",
       " 'id': 21025,\n",
       " 'matchMethod': 'Not Matched',\n",
       " 'matchString': 'Stachys nuttallii',\n",
       " 'tryNames': ['Stachys nuttallii'],\n",
       " 'wormsJSON': {'MatchMethod': 'Not Matched',\n",
       "  'MatchString': 'Stachys nuttallii',\n",
       "  'cacheDate': '2017-09-08T13:21:00.990513'}}"
      ]
     },
     "metadata": {},
     "output_type": "display_data"
    },
    {
     "name": "stdout",
     "output_type": "stream",
     "text": [
      "{'affected_rows': 1, '_execution_time': 0.077, 'success': True, 'auth_check': {'session': None, 'auth_level': 'Write', 'success': True, 'checked_relations': ['tir.tir']}}\n"
     ]
    },
    {
     "data": {
      "text/plain": [
       "{'baseQueryURL': 'http://www.marinespecies.org/rest/AphiaRecordsByName/Croton glandulosus var septentrionalis',\n",
       " 'followTaxonomy': 'true',\n",
       " 'id': 21026,\n",
       " 'matchMethod': 'Not Matched',\n",
       " 'matchString': 'Croton glandulosus var septentrionalis',\n",
       " 'tryNames': ['Croton glandulosus var septentrionalis'],\n",
       " 'wormsJSON': {'MatchMethod': 'Not Matched',\n",
       "  'MatchString': 'Croton glandulosus var septentrionalis',\n",
       "  'cacheDate': '2017-09-08T13:21:02.580857'}}"
      ]
     },
     "metadata": {},
     "output_type": "display_data"
    },
    {
     "name": "stdout",
     "output_type": "stream",
     "text": [
      "{'affected_rows': 1, '_execution_time': 0.085, 'success': True, 'auth_check': {'session': None, 'auth_level': 'Write', 'success': True, 'checked_relations': ['tir.tir']}}\n"
     ]
    },
    {
     "data": {
      "text/plain": [
       "{'baseQueryURL': 'http://www.marinespecies.org/rest/AphiaRecordsByName/Islandiana',\n",
       " 'followTaxonomy': 'true',\n",
       " 'id': 21027,\n",
       " 'matchMethod': 'Not Matched',\n",
       " 'matchString': 'Islandiana',\n",
       " 'tryNames': ['Islandiana'],\n",
       " 'wormsJSON': {'MatchMethod': 'Not Matched',\n",
       "  'MatchString': 'Islandiana',\n",
       "  'cacheDate': '2017-09-08T13:21:04.193300'}}"
      ]
     },
     "metadata": {},
     "output_type": "display_data"
    },
    {
     "name": "stdout",
     "output_type": "stream",
     "text": [
      "{'affected_rows': 1, '_execution_time': 0.076, 'success': True, 'auth_check': {'session': None, 'auth_level': 'Write', 'success': True, 'checked_relations': ['tir.tir']}}\n"
     ]
    },
    {
     "data": {
      "text/plain": [
       "{'baseQueryURL': 'http://www.marinespecies.org/rest/AphiaRecordsByName/Helicodiscus villosus',\n",
       " 'followTaxonomy': 'true',\n",
       " 'id': 21028,\n",
       " 'matchMethod': 'Exact Match',\n",
       " 'matchString': 'Helicodiscus villosus',\n",
       " 'tryNames': ['Helicodiscus villosus'],\n",
       " 'wormsJSON': {'AphiaID': 1027826,\n",
       "  'MatchMethod': 'Exact Match',\n",
       "  'MatchString': 'Helicodiscus villosus',\n",
       "  'cacheDate': '2017-09-08T13:21:05.441445',\n",
       "  'class': 'Gastropoda',\n",
       "  'family': 'Helicodiscidae',\n",
       "  'genus': 'Helicodiscus',\n",
       "  'isBrackish': 0,\n",
       "  'isExtinct': 0,\n",
       "  'isFreshwater': 0,\n",
       "  'isMarine': 0,\n",
       "  'isTerrestrial': 1,\n",
       "  'kingdom': 'Animalia',\n",
       "  'lsid': 'urn:lsid:marinespecies.org:taxname:1027826',\n",
       "  'match_type': 'exact',\n",
       "  'modified': '2017-08-22T18:59:30Z',\n",
       "  'order': 'Stylommatophora',\n",
       "  'phylum': 'Mollusca',\n",
       "  'rank': 'Species',\n",
       "  'scientificname': 'Helicodiscus villosus',\n",
       "  'status': 'accepted',\n",
       "  'unacceptreason': None,\n",
       "  'valid_AphiaID': 1027826,\n",
       "  'valid_name': 'Helicodiscus villosus'}}"
      ]
     },
     "metadata": {},
     "output_type": "display_data"
    },
    {
     "name": "stdout",
     "output_type": "stream",
     "text": [
      "{'affected_rows': 1, '_execution_time': 0.078, 'success': True, 'auth_check': {'session': None, 'auth_level': 'Write', 'success': True, 'checked_relations': ['tir.tir']}}\n"
     ]
    },
    {
     "data": {
      "text/plain": [
       "{'baseQueryURL': 'http://www.marinespecies.org/rest/AphiaRecordsByName/Pseudanophthalmus',\n",
       " 'followTaxonomy': 'true',\n",
       " 'id': 21031,\n",
       " 'matchMethod': 'Not Matched',\n",
       " 'matchString': 'Pseudanophthalmus',\n",
       " 'tryNames': ['Pseudanophthalmus'],\n",
       " 'wormsJSON': {'MatchMethod': 'Not Matched',\n",
       "  'MatchString': 'Pseudanophthalmus',\n",
       "  'cacheDate': '2017-09-08T13:21:07.949770'}}"
      ]
     },
     "metadata": {},
     "output_type": "display_data"
    },
    {
     "name": "stdout",
     "output_type": "stream",
     "text": [
      "{'affected_rows': 1, '_execution_time': 0.078, 'success': True, 'auth_check': {'session': None, 'auth_level': 'Write', 'success': True, 'checked_relations': ['tir.tir']}}\n"
     ]
    },
    {
     "data": {
      "text/plain": [
       "{'baseQueryURL': 'http://www.marinespecies.org/rest/AphiaRecordsByName/Schoenoplectus acutus var acutus',\n",
       " 'followTaxonomy': 'true',\n",
       " 'id': 21032,\n",
       " 'matchMethod': 'Not Matched',\n",
       " 'matchString': 'Schoenoplectus acutus var acutus',\n",
       " 'tryNames': ['Schoenoplectus acutus var acutus'],\n",
       " 'wormsJSON': {'MatchMethod': 'Not Matched',\n",
       "  'MatchString': 'Schoenoplectus acutus var acutus',\n",
       "  'cacheDate': '2017-09-08T13:21:11.372955'}}"
      ]
     },
     "metadata": {},
     "output_type": "display_data"
    },
    {
     "name": "stdout",
     "output_type": "stream",
     "text": [
      "{'affected_rows': 1, '_execution_time': 0.079, 'success': True, 'auth_check': {'session': None, 'auth_level': 'Write', 'success': True, 'checked_relations': ['tir.tir']}}\n"
     ]
    },
    {
     "data": {
      "text/plain": [
       "{'baseQueryURL': 'http://www.marinespecies.org/rest/AphiaRecordsByName/Zygonopus weyeriensis',\n",
       " 'followTaxonomy': 'true',\n",
       " 'id': 21035,\n",
       " 'matchMethod': 'Followed Accepted AphiaID',\n",
       " 'matchString': '945050',\n",
       " 'tryNames': ['Zygonopus weyeriensis'],\n",
       " 'wormsJSON': {'AphiaID': 945050,\n",
       "  'MatchMethod': 'Followed Accepted AphiaID',\n",
       "  'MatchString': '945050',\n",
       "  'cacheDate': '2017-09-08T13:21:13.055825',\n",
       "  'class': 'Diplopoda',\n",
       "  'family': 'Trichopetalidae',\n",
       "  'genus': 'Trichopetalum',\n",
       "  'isBrackish': 0,\n",
       "  'isExtinct': None,\n",
       "  'isFreshwater': 0,\n",
       "  'isMarine': 0,\n",
       "  'isTerrestrial': 1,\n",
       "  'kingdom': 'Animalia',\n",
       "  'lsid': 'urn:lsid:marinespecies.org:taxname:945050',\n",
       "  'match_type': 'exact',\n",
       "  'modified': '2017-01-23T15:56:15Z',\n",
       "  'order': 'Chordeumatida',\n",
       "  'phylum': 'Arthropoda',\n",
       "  'rank': 'Species',\n",
       "  'scientificname': 'Trichopetalum weyeriensis',\n",
       "  'status': 'accepted',\n",
       "  'unacceptreason': None,\n",
       "  'valid_AphiaID': 945050,\n",
       "  'valid_name': 'Trichopetalum weyeriensis'}}"
      ]
     },
     "metadata": {},
     "output_type": "display_data"
    },
    {
     "name": "stdout",
     "output_type": "stream",
     "text": [
      "{'affected_rows': 1, '_execution_time': 0.086, 'success': True, 'auth_check': {'session': None, 'auth_level': 'Write', 'success': True, 'checked_relations': ['tir.tir']}}\n"
     ]
    },
    {
     "data": {
      "text/plain": [
       "{'baseQueryURL': 'http://www.marinespecies.org/rest/AphiaRecordsByName/Arrhopalites',\n",
       " 'followTaxonomy': 'true',\n",
       " 'id': 21038,\n",
       " 'matchMethod': 'Not Matched',\n",
       " 'matchString': 'Arrhopalites',\n",
       " 'tryNames': ['Arrhopalites'],\n",
       " 'wormsJSON': {'MatchMethod': 'Not Matched',\n",
       "  'MatchString': 'Arrhopalites',\n",
       "  'cacheDate': '2017-09-08T13:21:14.651799'}}"
      ]
     },
     "metadata": {},
     "output_type": "display_data"
    },
    {
     "name": "stdout",
     "output_type": "stream",
     "text": [
      "{'affected_rows': 1, '_execution_time': 0.077, 'success': True, 'auth_check': {'session': None, 'auth_level': 'Write', 'success': True, 'checked_relations': ['tir.tir']}}\n"
     ]
    },
    {
     "data": {
      "text/plain": [
       "{'baseQueryURL': 'http://www.marinespecies.org/rest/AphiaRecordsByName/Muhlenbergia capillaris var capillaris',\n",
       " 'followTaxonomy': 'true',\n",
       " 'id': 21039,\n",
       " 'matchMethod': 'Not Matched',\n",
       " 'matchString': 'Muhlenbergia capillaris var capillaris',\n",
       " 'tryNames': ['Muhlenbergia capillaris var capillaris'],\n",
       " 'wormsJSON': {'MatchMethod': 'Not Matched',\n",
       "  'MatchString': 'Muhlenbergia capillaris var capillaris',\n",
       "  'cacheDate': '2017-09-08T13:21:19.847605'}}"
      ]
     },
     "metadata": {},
     "output_type": "display_data"
    },
    {
     "name": "stdout",
     "output_type": "stream",
     "text": [
      "{'affected_rows': 1, '_execution_time': 0.078, 'success': True, 'auth_check': {'session': None, 'auth_level': 'Write', 'success': True, 'checked_relations': ['tir.tir']}}\n"
     ]
    },
    {
     "data": {
      "text/plain": [
       "{'baseQueryURL': 'http://www.marinespecies.org/rest/AphiaRecordsByName/Sparganium angustifolium',\n",
       " 'followTaxonomy': 'true',\n",
       " 'id': 21040,\n",
       " 'matchMethod': 'Not Matched',\n",
       " 'matchString': 'Sparganium angustifolium',\n",
       " 'tryNames': ['Sparganium angustifolium'],\n",
       " 'wormsJSON': {'MatchMethod': 'Not Matched',\n",
       "  'MatchString': 'Sparganium angustifolium',\n",
       "  'cacheDate': '2017-09-08T13:21:21.496730'}}"
      ]
     },
     "metadata": {},
     "output_type": "display_data"
    },
    {
     "name": "stdout",
     "output_type": "stream",
     "text": [
      "{'affected_rows': 1, '_execution_time': 0.077, 'success': True, 'auth_check': {'session': None, 'auth_level': 'Write', 'success': True, 'checked_relations': ['tir.tir']}}\n"
     ]
    },
    {
     "data": {
      "text/plain": [
       "{'baseQueryURL': 'http://www.marinespecies.org/rest/AphiaRecordsByName/Scleria pauciflora var pauciflora',\n",
       " 'followTaxonomy': 'true',\n",
       " 'id': 21041,\n",
       " 'matchMethod': 'Not Matched',\n",
       " 'matchString': 'Scleria pauciflora var pauciflora',\n",
       " 'tryNames': ['Scleria pauciflora var pauciflora'],\n",
       " 'wormsJSON': {'MatchMethod': 'Not Matched',\n",
       "  'MatchString': 'Scleria pauciflora var pauciflora',\n",
       "  'cacheDate': '2017-09-08T13:21:23.088110'}}"
      ]
     },
     "metadata": {},
     "output_type": "display_data"
    },
    {
     "name": "stdout",
     "output_type": "stream",
     "text": [
      "{'affected_rows': 1, '_execution_time': 0.077, 'success': True, 'auth_check': {'session': None, 'auth_level': 'Write', 'success': True, 'checked_relations': ['tir.tir']}}\n"
     ]
    },
    {
     "data": {
      "text/plain": [
       "{'baseQueryURL': 'http://www.marinespecies.org/rest/AphiaRecordsByName/Eleocharis engelmannii',\n",
       " 'followTaxonomy': 'true',\n",
       " 'id': 21042,\n",
       " 'matchMethod': 'Not Matched',\n",
       " 'matchString': 'Eleocharis engelmannii',\n",
       " 'tryNames': ['Eleocharis engelmannii'],\n",
       " 'wormsJSON': {'MatchMethod': 'Not Matched',\n",
       "  'MatchString': 'Eleocharis engelmannii',\n",
       "  'cacheDate': '2017-09-08T13:21:24.701292'}}"
      ]
     },
     "metadata": {},
     "output_type": "display_data"
    },
    {
     "name": "stdout",
     "output_type": "stream",
     "text": [
      "{'affected_rows': 1, '_execution_time': 0.077, 'success': True, 'auth_check': {'session': None, 'auth_level': 'Write', 'success': True, 'checked_relations': ['tir.tir']}}\n"
     ]
    },
    {
     "data": {
      "text/plain": [
       "{'baseQueryURL': 'http://www.marinespecies.org/rest/AphiaRecordsByName/Pseudosinella gisini gisini',\n",
       " 'followTaxonomy': 'true',\n",
       " 'id': 21046,\n",
       " 'matchMethod': 'Not Matched',\n",
       " 'matchString': 'Pseudosinella gisini gisini',\n",
       " 'tryNames': ['Pseudosinella gisini gisini'],\n",
       " 'wormsJSON': {'MatchMethod': 'Not Matched',\n",
       "  'MatchString': 'Pseudosinella gisini gisini',\n",
       "  'cacheDate': '2017-09-08T13:21:27.686651'}}"
      ]
     },
     "metadata": {},
     "output_type": "display_data"
    },
    {
     "name": "stdout",
     "output_type": "stream",
     "text": [
      "{'affected_rows': 1, '_execution_time': 0.077, 'success': True, 'auth_check': {'session': None, 'auth_level': 'Write', 'success': True, 'checked_relations': ['tir.tir']}}\n"
     ]
    },
    {
     "data": {
      "text/plain": [
       "{'baseQueryURL': 'http://www.marinespecies.org/rest/AphiaRecordsByName/Rhynchospora fusca',\n",
       " 'followTaxonomy': 'true',\n",
       " 'id': 21047,\n",
       " 'matchMethod': 'Not Matched',\n",
       " 'matchString': 'Rhynchospora fusca',\n",
       " 'tryNames': ['Rhynchospora fusca'],\n",
       " 'wormsJSON': {'MatchMethod': 'Not Matched',\n",
       "  'MatchString': 'Rhynchospora fusca',\n",
       "  'cacheDate': '2017-09-08T13:21:30.279954'}}"
      ]
     },
     "metadata": {},
     "output_type": "display_data"
    },
    {
     "name": "stdout",
     "output_type": "stream",
     "text": [
      "{'affected_rows': 1, '_execution_time': 0.077, 'success': True, 'auth_check': {'session': None, 'auth_level': 'Write', 'success': True, 'checked_relations': ['tir.tir']}}\n"
     ]
    },
    {
     "data": {
      "text/plain": [
       "{'baseQueryURL': 'http://www.marinespecies.org/rest/AphiaRecordsByName/Rhamnus lanceolata ssp lanceolata',\n",
       " 'followTaxonomy': 'true',\n",
       " 'id': 21049,\n",
       " 'matchMethod': 'Not Matched',\n",
       " 'matchString': 'Rhamnus lanceolata ssp lanceolata',\n",
       " 'tryNames': ['Rhamnus lanceolata ssp lanceolata'],\n",
       " 'wormsJSON': {'MatchMethod': 'Not Matched',\n",
       "  'MatchString': 'Rhamnus lanceolata ssp lanceolata',\n",
       "  'cacheDate': '2017-09-08T13:21:31.949729'}}"
      ]
     },
     "metadata": {},
     "output_type": "display_data"
    },
    {
     "name": "stdout",
     "output_type": "stream",
     "text": [
      "{'affected_rows': 1, '_execution_time': 0.078, 'success': True, 'auth_check': {'session': None, 'auth_level': 'Write', 'success': True, 'checked_relations': ['tir.tir']}}\n"
     ]
    },
    {
     "data": {
      "text/plain": [
       "{'baseQueryURL': 'http://www.marinespecies.org/rest/AphiaRecordsByName/Myosotis macrosperma',\n",
       " 'followTaxonomy': 'true',\n",
       " 'id': 21050,\n",
       " 'matchMethod': 'Not Matched',\n",
       " 'matchString': 'Myosotis macrosperma',\n",
       " 'tryNames': ['Myosotis macrosperma'],\n",
       " 'wormsJSON': {'MatchMethod': 'Not Matched',\n",
       "  'MatchString': 'Myosotis macrosperma',\n",
       "  'cacheDate': '2017-09-08T13:21:33.557317'}}"
      ]
     },
     "metadata": {},
     "output_type": "display_data"
    },
    {
     "name": "stdout",
     "output_type": "stream",
     "text": [
      "{'affected_rows': 1, '_execution_time': 0.076, 'success': True, 'auth_check': {'session': None, 'auth_level': 'Write', 'success': True, 'checked_relations': ['tir.tir']}}\n"
     ]
    },
    {
     "data": {
      "text/plain": [
       "{'baseQueryURL': 'http://www.marinespecies.org/rest/AphiaRecordsByName/Inflectarius rugeli',\n",
       " 'followTaxonomy': 'true',\n",
       " 'id': 21052,\n",
       " 'matchMethod': 'Not Matched',\n",
       " 'matchString': 'Inflectarius rugeli',\n",
       " 'tryNames': ['Inflectarius rugeli'],\n",
       " 'wormsJSON': {'MatchMethod': 'Not Matched',\n",
       "  'MatchString': 'Inflectarius rugeli',\n",
       "  'cacheDate': '2017-09-08T13:21:35.183895'}}"
      ]
     },
     "metadata": {},
     "output_type": "display_data"
    },
    {
     "name": "stdout",
     "output_type": "stream",
     "text": [
      "{'affected_rows': 1, '_execution_time': 0.077, 'success': True, 'auth_check': {'session': None, 'auth_level': 'Write', 'success': True, 'checked_relations': ['tir.tir']}}\n"
     ]
    },
    {
     "data": {
      "text/plain": [
       "{'baseQueryURL': 'http://www.marinespecies.org/rest/AphiaRecordsByName/Calamagrostis porteri ssp porteri',\n",
       " 'followTaxonomy': 'true',\n",
       " 'id': 21055,\n",
       " 'matchMethod': 'Not Matched',\n",
       " 'matchString': 'Calamagrostis porteri ssp porteri',\n",
       " 'tryNames': ['Calamagrostis porteri ssp porteri'],\n",
       " 'wormsJSON': {'MatchMethod': 'Not Matched',\n",
       "  'MatchString': 'Calamagrostis porteri ssp porteri',\n",
       "  'cacheDate': '2017-09-08T13:21:39.131277'}}"
      ]
     },
     "metadata": {},
     "output_type": "display_data"
    },
    {
     "name": "stdout",
     "output_type": "stream",
     "text": [
      "{'affected_rows': 1, '_execution_time': 0.077, 'success': True, 'auth_check': {'session': None, 'auth_level': 'Write', 'success': True, 'checked_relations': ['tir.tir']}}\n"
     ]
    },
    {
     "data": {
      "text/plain": [
       "{'baseQueryURL': 'http://www.marinespecies.org/rest/AphiaRecordsByName/Lythrum alatum var alatum',\n",
       " 'followTaxonomy': 'true',\n",
       " 'id': 21057,\n",
       " 'matchMethod': 'Not Matched',\n",
       " 'matchString': 'Lythrum alatum var alatum',\n",
       " 'tryNames': ['Lythrum alatum var alatum'],\n",
       " 'wormsJSON': {'MatchMethod': 'Not Matched',\n",
       "  'MatchString': 'Lythrum alatum var alatum',\n",
       "  'cacheDate': '2017-09-08T13:21:40.749049'}}"
      ]
     },
     "metadata": {},
     "output_type": "display_data"
    },
    {
     "name": "stdout",
     "output_type": "stream",
     "text": [
      "{'affected_rows': 1, '_execution_time': 0.076, 'success': True, 'auth_check': {'session': None, 'auth_level': 'Write', 'success': True, 'checked_relations': ['tir.tir']}}\n"
     ]
    },
    {
     "data": {
      "text/plain": [
       "{'baseQueryURL': 'http://www.marinespecies.org/rest/AphiaRecordsByName/Liatris squarrulosa',\n",
       " 'followTaxonomy': 'true',\n",
       " 'id': 21058,\n",
       " 'matchMethod': 'Not Matched',\n",
       " 'matchString': 'Liatris squarrulosa',\n",
       " 'tryNames': ['Liatris squarrulosa'],\n",
       " 'wormsJSON': {'MatchMethod': 'Not Matched',\n",
       "  'MatchString': 'Liatris squarrulosa',\n",
       "  'cacheDate': '2017-09-08T13:21:42.369211'}}"
      ]
     },
     "metadata": {},
     "output_type": "display_data"
    },
    {
     "name": "stdout",
     "output_type": "stream",
     "text": [
      "{'affected_rows': 1, '_execution_time': 0.078, 'success': True, 'auth_check': {'session': None, 'auth_level': 'Write', 'success': True, 'checked_relations': ['tir.tir']}}\n"
     ]
    },
    {
     "data": {
      "text/plain": [
       "{'baseQueryURL': 'http://www.marinespecies.org/rest/AphiaRecordsByName/Carex laxiculmis var copulata',\n",
       " 'followTaxonomy': 'true',\n",
       " 'id': 21061,\n",
       " 'matchMethod': 'Not Matched',\n",
       " 'matchString': 'Carex laxiculmis var copulata',\n",
       " 'tryNames': ['Carex laxiculmis var copulata'],\n",
       " 'wormsJSON': {'MatchMethod': 'Not Matched',\n",
       "  'MatchString': 'Carex laxiculmis var copulata',\n",
       "  'cacheDate': '2017-09-08T13:21:43.992006'}}"
      ]
     },
     "metadata": {},
     "output_type": "display_data"
    },
    {
     "name": "stdout",
     "output_type": "stream",
     "text": [
      "{'affected_rows': 1, '_execution_time': 0.076, 'success': True, 'auth_check': {'session': None, 'auth_level': 'Write', 'success': True, 'checked_relations': ['tir.tir']}}\n"
     ]
    },
    {
     "data": {
      "text/plain": [
       "{'baseQueryURL': 'http://www.marinespecies.org/rest/AphiaRecordsByName/Woodsia appalachiana',\n",
       " 'followTaxonomy': 'true',\n",
       " 'id': 21062,\n",
       " 'matchMethod': 'Not Matched',\n",
       " 'matchString': 'Woodsia appalachiana',\n",
       " 'tryNames': ['Woodsia appalachiana'],\n",
       " 'wormsJSON': {'MatchMethod': 'Not Matched',\n",
       "  'MatchString': 'Woodsia appalachiana',\n",
       "  'cacheDate': '2017-09-08T13:21:46.883314'}}"
      ]
     },
     "metadata": {},
     "output_type": "display_data"
    },
    {
     "name": "stdout",
     "output_type": "stream",
     "text": [
      "{'affected_rows': 1, '_execution_time': 0.077, 'success': True, 'auth_check': {'session': None, 'auth_level': 'Write', 'success': True, 'checked_relations': ['tir.tir']}}\n"
     ]
    },
    {
     "data": {
      "text/plain": [
       "{'baseQueryURL': 'http://www.marinespecies.org/rest/AphiaRecordsByName/Plethodon cylindraceus',\n",
       " 'followTaxonomy': 'true',\n",
       " 'id': 21063,\n",
       " 'matchMethod': 'Not Matched',\n",
       " 'matchString': 'Plethodon cylindraceus',\n",
       " 'tryNames': ['Plethodon cylindraceus'],\n",
       " 'wormsJSON': {'MatchMethod': 'Not Matched',\n",
       "  'MatchString': 'Plethodon cylindraceus',\n",
       "  'cacheDate': '2017-09-08T13:21:50.541121'}}"
      ]
     },
     "metadata": {},
     "output_type": "display_data"
    },
    {
     "name": "stdout",
     "output_type": "stream",
     "text": [
      "{'affected_rows': 1, '_execution_time': 0.077, 'success': True, 'auth_check': {'session': None, 'auth_level': 'Write', 'success': True, 'checked_relations': ['tir.tir']}}\n"
     ]
    },
    {
     "data": {
      "text/plain": [
       "{'baseQueryURL': 'http://www.marinespecies.org/rest/AphiaRecordsByName/Cardamine flagellifera var flagellifera',\n",
       " 'followTaxonomy': 'true',\n",
       " 'id': 21064,\n",
       " 'matchMethod': 'Not Matched',\n",
       " 'matchString': 'Cardamine flagellifera var flagellifera',\n",
       " 'tryNames': ['Cardamine flagellifera var flagellifera'],\n",
       " 'wormsJSON': {'MatchMethod': 'Not Matched',\n",
       "  'MatchString': 'Cardamine flagellifera var flagellifera',\n",
       "  'cacheDate': '2017-09-08T13:21:52.179246'}}"
      ]
     },
     "metadata": {},
     "output_type": "display_data"
    },
    {
     "name": "stdout",
     "output_type": "stream",
     "text": [
      "{'affected_rows': 1, '_execution_time': 0.077, 'success': True, 'auth_check': {'session': None, 'auth_level': 'Write', 'success': True, 'checked_relations': ['tir.tir']}}\n"
     ]
    },
    {
     "data": {
      "text/plain": [
       "{'baseQueryURL': 'http://www.marinespecies.org/rest/AphiaRecordsByName/Sagittaria calycina var calycina',\n",
       " 'followTaxonomy': 'true',\n",
       " 'id': 21066,\n",
       " 'matchMethod': 'Not Matched',\n",
       " 'matchString': 'Sagittaria calycina var calycina',\n",
       " 'tryNames': ['Sagittaria calycina var calycina'],\n",
       " 'wormsJSON': {'MatchMethod': 'Not Matched',\n",
       "  'MatchString': 'Sagittaria calycina var calycina',\n",
       "  'cacheDate': '2017-09-08T13:21:53.832522'}}"
      ]
     },
     "metadata": {},
     "output_type": "display_data"
    },
    {
     "name": "stdout",
     "output_type": "stream",
     "text": [
      "{'affected_rows': 1, '_execution_time': 0.078, 'success': True, 'auth_check': {'session': None, 'auth_level': 'Write', 'success': True, 'checked_relations': ['tir.tir']}}\n"
     ]
    },
    {
     "data": {
      "text/plain": [
       "{'baseQueryURL': 'http://www.marinespecies.org/rest/AphiaRecordsByName/Stachys eplingii',\n",
       " 'followTaxonomy': 'true',\n",
       " 'id': 21067,\n",
       " 'matchMethod': 'Not Matched',\n",
       " 'matchString': 'Stachys eplingii',\n",
       " 'tryNames': ['Stachys eplingii'],\n",
       " 'wormsJSON': {'MatchMethod': 'Not Matched',\n",
       "  'MatchString': 'Stachys eplingii',\n",
       "  'cacheDate': '2017-09-08T13:21:55.858656'}}"
      ]
     },
     "metadata": {},
     "output_type": "display_data"
    },
    {
     "name": "stdout",
     "output_type": "stream",
     "text": [
      "{'affected_rows': 1, '_execution_time': 0.078, 'success': True, 'auth_check': {'session': None, 'auth_level': 'Write', 'success': True, 'checked_relations': ['tir.tir']}}\n"
     ]
    },
    {
     "data": {
      "text/plain": [
       "{'baseQueryURL': 'http://www.marinespecies.org/rest/AphiaRecordsByName/Silphium compositum var reniforme',\n",
       " 'followTaxonomy': 'true',\n",
       " 'id': 21070,\n",
       " 'matchMethod': 'Not Matched',\n",
       " 'matchString': 'Silphium compositum var reniforme',\n",
       " 'tryNames': ['Silphium compositum var reniforme'],\n",
       " 'wormsJSON': {'MatchMethod': 'Not Matched',\n",
       "  'MatchString': 'Silphium compositum var reniforme',\n",
       "  'cacheDate': '2017-09-08T13:22:00.170123'}}"
      ]
     },
     "metadata": {},
     "output_type": "display_data"
    },
    {
     "name": "stdout",
     "output_type": "stream",
     "text": [
      "{'affected_rows': 1, '_execution_time': 0.078, 'success': True, 'auth_check': {'session': None, 'auth_level': 'Write', 'success': True, 'checked_relations': ['tir.tir']}}\n"
     ]
    },
    {
     "data": {
      "text/plain": [
       "{'baseQueryURL': 'http://www.marinespecies.org/rest/AphiaRecordsByName/Carex suberecta',\n",
       " 'followTaxonomy': 'true',\n",
       " 'id': 21071,\n",
       " 'matchMethod': 'Not Matched',\n",
       " 'matchString': 'Carex suberecta',\n",
       " 'tryNames': ['Carex suberecta'],\n",
       " 'wormsJSON': {'MatchMethod': 'Not Matched',\n",
       "  'MatchString': 'Carex suberecta',\n",
       "  'cacheDate': '2017-09-08T13:22:01.786518'}}"
      ]
     },
     "metadata": {},
     "output_type": "display_data"
    },
    {
     "name": "stdout",
     "output_type": "stream",
     "text": [
      "{'affected_rows': 1, '_execution_time': 0.077, 'success': True, 'auth_check': {'session': None, 'auth_level': 'Write', 'success': True, 'checked_relations': ['tir.tir']}}\n"
     ]
    },
    {
     "data": {
      "text/plain": [
       "{'baseQueryURL': 'http://www.marinespecies.org/rest/AphiaRecordsByName/Fimbristylis dichotoma dichotoma',\n",
       " 'followTaxonomy': 'true',\n",
       " 'id': 20751,\n",
       " 'matchMethod': 'Not Matched',\n",
       " 'matchString': 'Fimbristylis dichotoma dichotoma',\n",
       " 'tryNames': ['Fimbristylis annua',\n",
       "  'Fimbristylis dichotoma ssp. dichotoma',\n",
       "  'Fimbristylis dichotoma dichotoma'],\n",
       " 'wormsJSON': {'MatchMethod': 'Not Matched',\n",
       "  'MatchString': 'Fimbristylis dichotoma dichotoma',\n",
       "  'cacheDate': '2017-09-08T13:22:05.283314'}}"
      ]
     },
     "metadata": {},
     "output_type": "display_data"
    },
    {
     "name": "stdout",
     "output_type": "stream",
     "text": [
      "{'affected_rows': 1, '_execution_time': 0.083, 'success': True, 'auth_check': {'session': None, 'auth_level': 'Write', 'success': True, 'checked_relations': ['tir.tir']}}\n"
     ]
    },
    {
     "data": {
      "text/plain": [
       "{'baseQueryURL': 'http://www.marinespecies.org/rest/AphiaRecordsByName/Scirpus atrocinctus',\n",
       " 'followTaxonomy': 'true',\n",
       " 'id': 20752,\n",
       " 'matchMethod': 'Not Matched',\n",
       " 'matchString': 'Scirpus atrocinctus',\n",
       " 'tryNames': ['Scirpus atrocinctus'],\n",
       " 'wormsJSON': {'MatchMethod': 'Not Matched',\n",
       "  'MatchString': 'Scirpus atrocinctus',\n",
       "  'cacheDate': '2017-09-08T13:22:09.335587'}}"
      ]
     },
     "metadata": {},
     "output_type": "display_data"
    },
    {
     "name": "stdout",
     "output_type": "stream",
     "text": [
      "{'affected_rows': 1, '_execution_time': 0.077, 'success': True, 'auth_check': {'session': None, 'auth_level': 'Write', 'success': True, 'checked_relations': ['tir.tir']}}\n"
     ]
    },
    {
     "data": {
      "text/plain": [
       "{'baseQueryURL': 'http://www.marinespecies.org/rest/AphiaRecordsByName/Fraxinus nigra',\n",
       " 'followTaxonomy': 'true',\n",
       " 'id': 20754,\n",
       " 'matchMethod': 'Not Matched',\n",
       " 'matchString': 'Fraxinus nigra',\n",
       " 'tryNames': ['Fraxinus nigra'],\n",
       " 'wormsJSON': {'MatchMethod': 'Not Matched',\n",
       "  'MatchString': 'Fraxinus nigra',\n",
       "  'cacheDate': '2017-09-08T13:22:10.912631'}}"
      ]
     },
     "metadata": {},
     "output_type": "display_data"
    },
    {
     "name": "stdout",
     "output_type": "stream",
     "text": [
      "{'affected_rows': 1, '_execution_time': 0.079, 'success': True, 'auth_check': {'session': None, 'auth_level': 'Write', 'success': True, 'checked_relations': ['tir.tir']}}\n"
     ]
    },
    {
     "data": {
      "text/plain": [
       "{'baseQueryURL': 'http://www.marinespecies.org/rest/AphiaRecordsByName/Carex styloflexa',\n",
       " 'followTaxonomy': 'true',\n",
       " 'id': 20758,\n",
       " 'matchMethod': 'Not Matched',\n",
       " 'matchString': 'Carex styloflexa',\n",
       " 'tryNames': ['Carex styloflexa'],\n",
       " 'wormsJSON': {'MatchMethod': 'Not Matched',\n",
       "  'MatchString': 'Carex styloflexa',\n",
       "  'cacheDate': '2017-09-08T13:22:12.573648'}}"
      ]
     },
     "metadata": {},
     "output_type": "display_data"
    },
    {
     "name": "stdout",
     "output_type": "stream",
     "text": [
      "{'affected_rows': 1, '_execution_time': 0.077, 'success': True, 'auth_check': {'session': None, 'auth_level': 'Write', 'success': True, 'checked_relations': ['tir.tir']}}\n"
     ]
    },
    {
     "data": {
      "text/plain": [
       "{'baseQueryURL': 'http://www.marinespecies.org/rest/AphiaRecordsByName/Potamogeton illinoensis',\n",
       " 'followTaxonomy': 'true',\n",
       " 'id': 20760,\n",
       " 'matchMethod': 'Not Matched',\n",
       " 'matchString': 'Potamogeton illinoensis',\n",
       " 'tryNames': ['Potamogeton illinoensis'],\n",
       " 'wormsJSON': {'MatchMethod': 'Not Matched',\n",
       "  'MatchString': 'Potamogeton illinoensis',\n",
       "  'cacheDate': '2017-09-08T13:22:14.151432'}}"
      ]
     },
     "metadata": {},
     "output_type": "display_data"
    },
    {
     "name": "stdout",
     "output_type": "stream",
     "text": [
      "{'affected_rows': 1, '_execution_time': 0.086, 'success': True, 'auth_check': {'session': None, 'auth_level': 'Write', 'success': True, 'checked_relations': ['tir.tir']}}\n"
     ]
    },
    {
     "data": {
      "text/plain": [
       "{'baseQueryURL': 'http://www.marinespecies.org/rest/AphiaRecordsByName/Euphagus carolinus',\n",
       " 'followTaxonomy': 'true',\n",
       " 'id': 20764,\n",
       " 'matchMethod': 'Not Matched',\n",
       " 'matchString': 'Euphagus carolinus',\n",
       " 'tryNames': ['Euphagus carolinus'],\n",
       " 'wormsJSON': {'MatchMethod': 'Not Matched',\n",
       "  'MatchString': 'Euphagus carolinus',\n",
       "  'cacheDate': '2017-09-08T13:22:16.572576'}}"
      ]
     },
     "metadata": {},
     "output_type": "display_data"
    },
    {
     "name": "stdout",
     "output_type": "stream",
     "text": [
      "{'affected_rows': 1, '_execution_time': 0.082, 'success': True, 'auth_check': {'session': None, 'auth_level': 'Write', 'success': True, 'checked_relations': ['tir.tir']}}\n"
     ]
    },
    {
     "data": {
      "text/plain": [
       "{'baseQueryURL': 'http://www.marinespecies.org/rest/AphiaRecordsByName/Juncus dichotomus',\n",
       " 'followTaxonomy': 'true',\n",
       " 'id': 20766,\n",
       " 'matchMethod': 'Not Matched',\n",
       " 'matchString': 'Juncus dichotomus',\n",
       " 'tryNames': ['Juncus dichotomus'],\n",
       " 'wormsJSON': {'MatchMethod': 'Not Matched',\n",
       "  'MatchString': 'Juncus dichotomus',\n",
       "  'cacheDate': '2017-09-08T13:22:19.892794'}}"
      ]
     },
     "metadata": {},
     "output_type": "display_data"
    },
    {
     "name": "stdout",
     "output_type": "stream",
     "text": [
      "{'affected_rows': 1, '_execution_time': 0.077, 'success': True, 'auth_check': {'session': None, 'auth_level': 'Write', 'success': True, 'checked_relations': ['tir.tir']}}\n"
     ]
    },
    {
     "data": {
      "text/plain": [
       "{'baseQueryURL': 'http://www.marinespecies.org/rest/AphiaRecordsByName/Silene rotundifolia',\n",
       " 'followTaxonomy': 'true',\n",
       " 'id': 20774,\n",
       " 'matchMethod': 'Not Matched',\n",
       " 'matchString': 'Silene rotundifolia',\n",
       " 'tryNames': ['Silene rotundifolia'],\n",
       " 'wormsJSON': {'MatchMethod': 'Not Matched',\n",
       "  'MatchString': 'Silene rotundifolia',\n",
       "  'cacheDate': '2017-09-08T13:22:21.537709'}}"
      ]
     },
     "metadata": {},
     "output_type": "display_data"
    },
    {
     "name": "stdout",
     "output_type": "stream",
     "text": [
      "{'affected_rows': 1, '_execution_time': 0.077, 'success': True, 'auth_check': {'session': None, 'auth_level': 'Write', 'success': True, 'checked_relations': ['tir.tir']}}\n"
     ]
    },
    {
     "data": {
      "text/plain": [
       "{'baseQueryURL': 'http://www.marinespecies.org/rest/AphiaRecordsByName/Anguispira mordax',\n",
       " 'followTaxonomy': 'true',\n",
       " 'id': 20790,\n",
       " 'matchMethod': 'Not Matched',\n",
       " 'matchString': 'Anguispira mordax',\n",
       " 'tryNames': ['Anguispira mordax'],\n",
       " 'wormsJSON': {'MatchMethod': 'Not Matched',\n",
       "  'MatchString': 'Anguispira mordax',\n",
       "  'cacheDate': '2017-09-08T13:22:23.173389'}}"
      ]
     },
     "metadata": {},
     "output_type": "display_data"
    },
    {
     "name": "stdout",
     "output_type": "stream",
     "text": [
      "{'affected_rows': 1, '_execution_time': 0.077, 'success': True, 'auth_check': {'session': None, 'auth_level': 'Write', 'success': True, 'checked_relations': ['tir.tir']}}\n"
     ]
    },
    {
     "data": {
      "text/plain": [
       "{'baseQueryURL': 'http://www.marinespecies.org/rest/AphiaRecordsByName/Clematis albicoma',\n",
       " 'followTaxonomy': 'true',\n",
       " 'id': 20792,\n",
       " 'matchMethod': 'Not Matched',\n",
       " 'matchString': 'Clematis albicoma',\n",
       " 'tryNames': ['Clematis albicoma'],\n",
       " 'wormsJSON': {'MatchMethod': 'Not Matched',\n",
       "  'MatchString': 'Clematis albicoma',\n",
       "  'cacheDate': '2017-09-08T13:22:25.190919'}}"
      ]
     },
     "metadata": {},
     "output_type": "display_data"
    },
    {
     "name": "stdout",
     "output_type": "stream",
     "text": [
      "{'affected_rows': 1, '_execution_time': 0.076, 'success': True, 'auth_check': {'session': None, 'auth_level': 'Write', 'success': True, 'checked_relations': ['tir.tir']}}\n"
     ]
    },
    {
     "data": {
      "text/plain": [
       "{'baseQueryURL': 'http://www.marinespecies.org/rest/AphiaRecordsByName/Carex planispicata',\n",
       " 'followTaxonomy': 'true',\n",
       " 'id': 20794,\n",
       " 'matchMethod': 'Not Matched',\n",
       " 'matchString': 'Carex planispicata',\n",
       " 'tryNames': ['Carex planispicata'],\n",
       " 'wormsJSON': {'MatchMethod': 'Not Matched',\n",
       "  'MatchString': 'Carex planispicata',\n",
       "  'cacheDate': '2017-09-08T13:22:28.421946'}}"
      ]
     },
     "metadata": {},
     "output_type": "display_data"
    },
    {
     "name": "stdout",
     "output_type": "stream",
     "text": [
      "{'affected_rows': 1, '_execution_time': 0.077, 'success': True, 'auth_check': {'session': None, 'auth_level': 'Write', 'success': True, 'checked_relations': ['tir.tir']}}\n"
     ]
    },
    {
     "data": {
      "text/plain": [
       "{'baseQueryURL': 'http://www.marinespecies.org/rest/AphiaRecordsByName/Heuchera longiflora',\n",
       " 'followTaxonomy': 'true',\n",
       " 'id': 20802,\n",
       " 'matchMethod': 'Not Matched',\n",
       " 'matchString': 'Heuchera longiflora',\n",
       " 'tryNames': ['Heuchera longiflora'],\n",
       " 'wormsJSON': {'MatchMethod': 'Not Matched',\n",
       "  'MatchString': 'Heuchera longiflora',\n",
       "  'cacheDate': '2017-09-08T13:22:30.383769'}}"
      ]
     },
     "metadata": {},
     "output_type": "display_data"
    },
    {
     "name": "stdout",
     "output_type": "stream",
     "text": [
      "{'affected_rows': 1, '_execution_time': 0.077, 'success': True, 'auth_check': {'session': None, 'auth_level': 'Write', 'success': True, 'checked_relations': ['tir.tir']}}\n"
     ]
    },
    {
     "data": {
      "text/plain": [
       "{'baseQueryURL': 'http://www.marinespecies.org/rest/AphiaRecordsByName/Manfreda virginica',\n",
       " 'followTaxonomy': 'true',\n",
       " 'id': 20806,\n",
       " 'matchMethod': 'Not Matched',\n",
       " 'matchString': 'Manfreda virginica',\n",
       " 'tryNames': ['Manfreda virginica'],\n",
       " 'wormsJSON': {'MatchMethod': 'Not Matched',\n",
       "  'MatchString': 'Manfreda virginica',\n",
       "  'cacheDate': '2017-09-08T13:22:32.007406'}}"
      ]
     },
     "metadata": {},
     "output_type": "display_data"
    },
    {
     "name": "stdout",
     "output_type": "stream",
     "text": [
      "{'affected_rows': 1, '_execution_time': 0.076, 'success': True, 'auth_check': {'session': None, 'auth_level': 'Write', 'success': True, 'checked_relations': ['tir.tir']}}\n"
     ]
    },
    {
     "data": {
      "text/plain": [
       "{'baseQueryURL': 'http://www.marinespecies.org/rest/AphiaRecordsByName/Pseudanophthalmus potomacus',\n",
       " 'followTaxonomy': 'true',\n",
       " 'id': 20810,\n",
       " 'matchMethod': 'Not Matched',\n",
       " 'matchString': 'Pseudanophthalmus potomacus',\n",
       " 'tryNames': ['Pseudanophthalmus potomaca', 'Pseudanophthalmus potomacus'],\n",
       " 'wormsJSON': {'MatchMethod': 'Not Matched',\n",
       "  'MatchString': 'Pseudanophthalmus potomacus',\n",
       "  'cacheDate': '2017-09-08T13:22:34.668312'}}"
      ]
     },
     "metadata": {},
     "output_type": "display_data"
    },
    {
     "name": "stdout",
     "output_type": "stream",
     "text": [
      "{'affected_rows': 1, '_execution_time': 0.078, 'success': True, 'auth_check': {'session': None, 'auth_level': 'Write', 'success': True, 'checked_relations': ['tir.tir']}}\n"
     ]
    },
    {
     "data": {
      "text/plain": [
       "{'baseQueryURL': 'http://www.marinespecies.org/rest/AphiaRecordsByName/Punctum smithi',\n",
       " 'followTaxonomy': 'true',\n",
       " 'id': 20811,\n",
       " 'matchMethod': 'Not Matched',\n",
       " 'matchString': 'Punctum smithi',\n",
       " 'tryNames': ['Punctum smithi'],\n",
       " 'wormsJSON': {'MatchMethod': 'Not Matched',\n",
       "  'MatchString': 'Punctum smithi',\n",
       "  'cacheDate': '2017-09-08T13:22:39.335476'}}"
      ]
     },
     "metadata": {},
     "output_type": "display_data"
    },
    {
     "name": "stdout",
     "output_type": "stream",
     "text": [
      "{'affected_rows': 1, '_execution_time': 0.077, 'success': True, 'auth_check': {'session': None, 'auth_level': 'Write', 'success': True, 'checked_relations': ['tir.tir']}}\n"
     ]
    },
    {
     "data": {
      "text/plain": [
       "{'baseQueryURL': 'http://www.marinespecies.org/rest/AphiaRecordsByName/Ilex collina',\n",
       " 'followTaxonomy': 'true',\n",
       " 'id': 20815,\n",
       " 'matchMethod': 'Not Matched',\n",
       " 'matchString': 'Ilex collina',\n",
       " 'tryNames': ['Ilex collina'],\n",
       " 'wormsJSON': {'MatchMethod': 'Not Matched',\n",
       "  'MatchString': 'Ilex collina',\n",
       "  'cacheDate': '2017-09-08T13:22:40.930087'}}"
      ]
     },
     "metadata": {},
     "output_type": "display_data"
    },
    {
     "name": "stdout",
     "output_type": "stream",
     "text": [
      "{'affected_rows': 1, '_execution_time': 0.077, 'success': True, 'auth_check': {'session': None, 'auth_level': 'Write', 'success': True, 'checked_relations': ['tir.tir']}}\n"
     ]
    },
    {
     "data": {
      "text/plain": [
       "{'baseQueryURL': 'http://www.marinespecies.org/rest/AphiaRecordsByName/Poa paludigena',\n",
       " 'followTaxonomy': 'true',\n",
       " 'id': 20819,\n",
       " 'matchMethod': 'Not Matched',\n",
       " 'matchString': 'Poa paludigena',\n",
       " 'tryNames': ['Poa paludigena'],\n",
       " 'wormsJSON': {'MatchMethod': 'Not Matched',\n",
       "  'MatchString': 'Poa paludigena',\n",
       "  'cacheDate': '2017-09-08T13:22:43.199121'}}"
      ]
     },
     "metadata": {},
     "output_type": "display_data"
    },
    {
     "name": "stdout",
     "output_type": "stream",
     "text": [
      "{'affected_rows': 1, '_execution_time': 0.081, 'success': True, 'auth_check': {'session': None, 'auth_level': 'Write', 'success': True, 'checked_relations': ['tir.tir']}}\n"
     ]
    },
    {
     "data": {
      "text/plain": [
       "{'baseQueryURL': 'http://www.marinespecies.org/rest/AphiaRecordsByName/Woodsia ilvensis',\n",
       " 'followTaxonomy': 'true',\n",
       " 'id': 20823,\n",
       " 'matchMethod': 'Not Matched',\n",
       " 'matchString': 'Woodsia ilvensis',\n",
       " 'tryNames': ['Woodsia ilvensis'],\n",
       " 'wormsJSON': {'MatchMethod': 'Not Matched',\n",
       "  'MatchString': 'Woodsia ilvensis',\n",
       "  'cacheDate': '2017-09-08T13:22:45.331913'}}"
      ]
     },
     "metadata": {},
     "output_type": "display_data"
    },
    {
     "name": "stdout",
     "output_type": "stream",
     "text": [
      "{'affected_rows': 1, '_execution_time': 0.078, 'success': True, 'auth_check': {'session': None, 'auth_level': 'Write', 'success': True, 'checked_relations': ['tir.tir']}}\n"
     ]
    },
    {
     "data": {
      "text/plain": [
       "{'baseQueryURL': 'http://www.marinespecies.org/rest/AphiaRecordsByName/Sinella hoffmani',\n",
       " 'followTaxonomy': 'true',\n",
       " 'id': 20827,\n",
       " 'matchMethod': 'Not Matched',\n",
       " 'matchString': 'Sinella hoffmani',\n",
       " 'tryNames': ['Sinella hoffmani'],\n",
       " 'wormsJSON': {'MatchMethod': 'Not Matched',\n",
       "  'MatchString': 'Sinella hoffmani',\n",
       "  'cacheDate': '2017-09-08T13:22:48.384934'}}"
      ]
     },
     "metadata": {},
     "output_type": "display_data"
    },
    {
     "name": "stdout",
     "output_type": "stream",
     "text": [
      "{'affected_rows': 1, '_execution_time': 0.082, 'success': True, 'auth_check': {'session': None, 'auth_level': 'Write', 'success': True, 'checked_relations': ['tir.tir']}}\n"
     ]
    },
    {
     "data": {
      "text/plain": [
       "{'baseQueryURL': 'http://www.marinespecies.org/rest/AphiaRecordsByName/Pseudohermonassa tenuicula',\n",
       " 'followTaxonomy': 'true',\n",
       " 'id': 20829,\n",
       " 'matchMethod': 'Not Matched',\n",
       " 'matchString': 'Pseudohermonassa tenuicula',\n",
       " 'tryNames': ['Pseudohermonassa tenuicula'],\n",
       " 'wormsJSON': {'MatchMethod': 'Not Matched',\n",
       "  'MatchString': 'Pseudohermonassa tenuicula',\n",
       "  'cacheDate': '2017-09-08T13:22:49.984726'}}"
      ]
     },
     "metadata": {},
     "output_type": "display_data"
    },
    {
     "name": "stdout",
     "output_type": "stream",
     "text": [
      "{'affected_rows': 1, '_execution_time': 0.082, 'success': True, 'auth_check': {'session': None, 'auth_level': 'Write', 'success': True, 'checked_relations': ['tir.tir']}}\n"
     ]
    },
    {
     "data": {
      "text/plain": [
       "{'baseQueryURL': 'http://www.marinespecies.org/rest/AphiaRecordsByName/Synandra hispidula',\n",
       " 'followTaxonomy': 'true',\n",
       " 'id': 20832,\n",
       " 'matchMethod': 'Not Matched',\n",
       " 'matchString': 'Synandra hispidula',\n",
       " 'tryNames': ['Synandra hispidula'],\n",
       " 'wormsJSON': {'MatchMethod': 'Not Matched',\n",
       "  'MatchString': 'Synandra hispidula',\n",
       "  'cacheDate': '2017-09-08T13:22:51.671653'}}"
      ]
     },
     "metadata": {},
     "output_type": "display_data"
    },
    {
     "name": "stdout",
     "output_type": "stream",
     "text": [
      "{'affected_rows': 1, '_execution_time': 0.077, 'success': True, 'auth_check': {'session': None, 'auth_level': 'Write', 'success': True, 'checked_relations': ['tir.tir']}}\n"
     ]
    },
    {
     "data": {
      "text/plain": [
       "{'baseQueryURL': 'http://www.marinespecies.org/rest/AphiaRecordsByName/Heuchera alba',\n",
       " 'followTaxonomy': 'true',\n",
       " 'id': 20833,\n",
       " 'matchMethod': 'Not Matched',\n",
       " 'matchString': 'Heuchera alba',\n",
       " 'tryNames': ['Heuchera alba'],\n",
       " 'wormsJSON': {'MatchMethod': 'Not Matched',\n",
       "  'MatchString': 'Heuchera alba',\n",
       "  'cacheDate': '2017-09-08T13:22:53.213155'}}"
      ]
     },
     "metadata": {},
     "output_type": "display_data"
    },
    {
     "name": "stdout",
     "output_type": "stream",
     "text": [
      "{'affected_rows': 1, '_execution_time': 0.077, 'success': True, 'auth_check': {'session': None, 'auth_level': 'Write', 'success': True, 'checked_relations': ['tir.tir']}}\n"
     ]
    },
    {
     "data": {
      "text/plain": [
       "{'baseQueryURL': 'http://www.marinespecies.org/rest/AphiaRecordsByName/Spiranthes tuberosa',\n",
       " 'followTaxonomy': 'true',\n",
       " 'id': 20836,\n",
       " 'matchMethod': 'Not Matched',\n",
       " 'matchString': 'Spiranthes tuberosa',\n",
       " 'tryNames': ['Spiranthes tuberosa'],\n",
       " 'wormsJSON': {'MatchMethod': 'Not Matched',\n",
       "  'MatchString': 'Spiranthes tuberosa',\n",
       "  'cacheDate': '2017-09-08T13:22:57.040973'}}"
      ]
     },
     "metadata": {},
     "output_type": "display_data"
    },
    {
     "name": "stdout",
     "output_type": "stream",
     "text": [
      "{'affected_rows': 1, '_execution_time': 0.077, 'success': True, 'auth_check': {'session': None, 'auth_level': 'Write', 'success': True, 'checked_relations': ['tir.tir']}}\n"
     ]
    },
    {
     "data": {
      "text/plain": [
       "{'baseQueryURL': 'http://www.marinespecies.org/rest/AphiaRecordsByName/Spermacoce glabra',\n",
       " 'followTaxonomy': 'true',\n",
       " 'id': 20845,\n",
       " 'matchMethod': 'Not Matched',\n",
       " 'matchString': 'Spermacoce glabra',\n",
       " 'tryNames': ['Spermacoce glabra'],\n",
       " 'wormsJSON': {'MatchMethod': 'Not Matched',\n",
       "  'MatchString': 'Spermacoce glabra',\n",
       "  'cacheDate': '2017-09-08T13:22:58.837406'}}"
      ]
     },
     "metadata": {},
     "output_type": "display_data"
    },
    {
     "name": "stdout",
     "output_type": "stream",
     "text": [
      "{'affected_rows': 1, '_execution_time': 0.079, 'success': True, 'auth_check': {'session': None, 'auth_level': 'Write', 'success': True, 'checked_relations': ['tir.tir']}}\n"
     ]
    },
    {
     "data": {
      "text/plain": [
       "{'baseQueryURL': 'http://www.marinespecies.org/rest/AphiaRecordsByName/Carex cephaloidea',\n",
       " 'followTaxonomy': 'true',\n",
       " 'id': 20846,\n",
       " 'matchMethod': 'Not Matched',\n",
       " 'matchString': 'Carex cephaloidea',\n",
       " 'tryNames': ['Carex cephaloidea'],\n",
       " 'wormsJSON': {'MatchMethod': 'Not Matched',\n",
       "  'MatchString': 'Carex cephaloidea',\n",
       "  'cacheDate': '2017-09-08T13:23:00.427773'}}"
      ]
     },
     "metadata": {},
     "output_type": "display_data"
    },
    {
     "name": "stdout",
     "output_type": "stream",
     "text": [
      "{'affected_rows': 1, '_execution_time': 0.077, 'success': True, 'auth_check': {'session': None, 'auth_level': 'Write', 'success': True, 'checked_relations': ['tir.tir']}}\n"
     ]
    },
    {
     "data": {
      "text/plain": [
       "{'baseQueryURL': 'http://www.marinespecies.org/rest/AphiaRecordsByName/Sporobolus clandestinus',\n",
       " 'followTaxonomy': 'true',\n",
       " 'id': 20849,\n",
       " 'matchMethod': 'Not Matched',\n",
       " 'matchString': 'Sporobolus clandestinus',\n",
       " 'tryNames': ['Sporobolus clandestinus'],\n",
       " 'wormsJSON': {'MatchMethod': 'Not Matched',\n",
       "  'MatchString': 'Sporobolus clandestinus',\n",
       "  'cacheDate': '2017-09-08T13:23:02.316185'}}"
      ]
     },
     "metadata": {},
     "output_type": "display_data"
    },
    {
     "name": "stdout",
     "output_type": "stream",
     "text": [
      "{'affected_rows': 1, '_execution_time': 0.077, 'success': True, 'auth_check': {'session': None, 'auth_level': 'Write', 'success': True, 'checked_relations': ['tir.tir']}}\n"
     ]
    },
    {
     "data": {
      "text/plain": [
       "{'baseQueryURL': 'http://www.marinespecies.org/rest/AphiaRecordsByName/Anguispira strongyloides',\n",
       " 'followTaxonomy': 'true',\n",
       " 'id': 20855,\n",
       " 'matchMethod': 'Not Matched',\n",
       " 'matchString': 'Anguispira strongyloides',\n",
       " 'tryNames': ['Anguispira strongylodes', 'Anguispira strongyloides'],\n",
       " 'wormsJSON': {'MatchMethod': 'Not Matched',\n",
       "  'MatchString': 'Anguispira strongyloides',\n",
       "  'cacheDate': '2017-09-08T13:23:05.350206'}}"
      ]
     },
     "metadata": {},
     "output_type": "display_data"
    },
    {
     "name": "stdout",
     "output_type": "stream",
     "text": [
      "{'affected_rows': 1, '_execution_time': 0.077, 'success': True, 'auth_check': {'session': None, 'auth_level': 'Write', 'success': True, 'checked_relations': ['tir.tir']}}\n"
     ]
    },
    {
     "data": {
      "text/plain": [
       "{'baseQueryURL': 'http://www.marinespecies.org/rest/AphiaRecordsByName/Astragalus neglectus',\n",
       " 'followTaxonomy': 'true',\n",
       " 'id': 20857,\n",
       " 'matchMethod': 'Not Matched',\n",
       " 'matchString': 'Astragalus neglectus',\n",
       " 'tryNames': ['Astragalus neglectus'],\n",
       " 'wormsJSON': {'MatchMethod': 'Not Matched',\n",
       "  'MatchString': 'Astragalus neglectus',\n",
       "  'cacheDate': '2017-09-08T13:23:08.664996'}}"
      ]
     },
     "metadata": {},
     "output_type": "display_data"
    },
    {
     "name": "stdout",
     "output_type": "stream",
     "text": [
      "{'affected_rows': 1, '_execution_time': 0.078, 'success': True, 'auth_check': {'session': None, 'auth_level': 'Write', 'success': True, 'checked_relations': ['tir.tir']}}\n"
     ]
    },
    {
     "data": {
      "text/plain": [
       "{'baseQueryURL': 'http://www.marinespecies.org/rest/AphiaRecordsByName/Eragrostis hirsuta',\n",
       " 'followTaxonomy': 'true',\n",
       " 'id': 20858,\n",
       " 'matchMethod': 'Not Matched',\n",
       " 'matchString': 'Eragrostis hirsuta',\n",
       " 'tryNames': ['Eragrostis hirsuta'],\n",
       " 'wormsJSON': {'MatchMethod': 'Not Matched',\n",
       "  'MatchString': 'Eragrostis hirsuta',\n",
       "  'cacheDate': '2017-09-08T13:23:10.271158'}}"
      ]
     },
     "metadata": {},
     "output_type": "display_data"
    },
    {
     "name": "stdout",
     "output_type": "stream",
     "text": [
      "{'affected_rows': 1, '_execution_time': 0.077, 'success': True, 'auth_check': {'session': None, 'auth_level': 'Write', 'success': True, 'checked_relations': ['tir.tir']}}\n"
     ]
    },
    {
     "data": {
      "text/plain": [
       "{'baseQueryURL': 'http://www.marinespecies.org/rest/AphiaRecordsByName/Potamogeton zosteriformis',\n",
       " 'followTaxonomy': 'true',\n",
       " 'id': 20864,\n",
       " 'matchMethod': 'Not Matched',\n",
       " 'matchString': 'Potamogeton zosteriformis',\n",
       " 'tryNames': ['Potamogeton zosteriformis'],\n",
       " 'wormsJSON': {'MatchMethod': 'Not Matched',\n",
       "  'MatchString': 'Potamogeton zosteriformis',\n",
       "  'cacheDate': '2017-09-08T13:23:11.940708'}}"
      ]
     },
     "metadata": {},
     "output_type": "display_data"
    },
    {
     "name": "stdout",
     "output_type": "stream",
     "text": [
      "{'affected_rows': 1, '_execution_time': 0.079, 'success': True, 'auth_check': {'session': None, 'auth_level': 'Write', 'success': True, 'checked_relations': ['tir.tir']}}\n"
     ]
    },
    {
     "data": {
      "text/plain": [
       "{'baseQueryURL': 'http://www.marinespecies.org/rest/AphiaRecordsByName/Pseudanophthalmus henroti',\n",
       " 'followTaxonomy': 'true',\n",
       " 'id': 20867,\n",
       " 'matchMethod': 'Not Matched',\n",
       " 'matchString': 'Pseudanophthalmus henroti',\n",
       " 'tryNames': ['Pseudanophthalmus henroti'],\n",
       " 'wormsJSON': {'MatchMethod': 'Not Matched',\n",
       "  'MatchString': 'Pseudanophthalmus henroti',\n",
       "  'cacheDate': '2017-09-08T13:23:15.081066'}}"
      ]
     },
     "metadata": {},
     "output_type": "display_data"
    },
    {
     "name": "stdout",
     "output_type": "stream",
     "text": [
      "{'affected_rows': 1, '_execution_time': 0.077, 'success': True, 'auth_check': {'session': None, 'auth_level': 'Write', 'success': True, 'checked_relations': ['tir.tir']}}\n"
     ]
    },
    {
     "data": {
      "text/plain": [
       "{'baseQueryURL': 'http://www.marinespecies.org/rest/AphiaRecordsByName/Betula papyrifera',\n",
       " 'followTaxonomy': 'true',\n",
       " 'id': 20868,\n",
       " 'matchMethod': 'Not Matched',\n",
       " 'matchString': 'Betula papyrifera',\n",
       " 'tryNames': ['Betula papyrifera'],\n",
       " 'wormsJSON': {'MatchMethod': 'Not Matched',\n",
       "  'MatchString': 'Betula papyrifera',\n",
       "  'cacheDate': '2017-09-08T13:23:17.595306'}}"
      ]
     },
     "metadata": {},
     "output_type": "display_data"
    },
    {
     "name": "stdout",
     "output_type": "stream",
     "text": [
      "{'affected_rows': 1, '_execution_time': 0.076, 'success': True, 'auth_check': {'session': None, 'auth_level': 'Write', 'success': True, 'checked_relations': ['tir.tir']}}\n"
     ]
    },
    {
     "data": {
      "text/plain": [
       "{'baseQueryURL': 'http://www.marinespecies.org/rest/AphiaRecordsByName/Equisetum sylvaticum',\n",
       " 'followTaxonomy': 'true',\n",
       " 'id': 20871,\n",
       " 'matchMethod': 'Not Matched',\n",
       " 'matchString': 'Equisetum sylvaticum',\n",
       " 'tryNames': ['Equisetum sylvaticum'],\n",
       " 'wormsJSON': {'MatchMethod': 'Not Matched',\n",
       "  'MatchString': 'Equisetum sylvaticum',\n",
       "  'cacheDate': '2017-09-08T13:23:19.234125'}}"
      ]
     },
     "metadata": {},
     "output_type": "display_data"
    },
    {
     "name": "stdout",
     "output_type": "stream",
     "text": [
      "{'affected_rows': 1, '_execution_time': 0.084, 'success': True, 'auth_check': {'session': None, 'auth_level': 'Write', 'success': True, 'checked_relations': ['tir.tir']}}\n"
     ]
    },
    {
     "data": {
      "text/plain": [
       "{'baseQueryURL': 'http://www.marinespecies.org/rest/AphiaRecordsByName/Trillium flexipes',\n",
       " 'followTaxonomy': 'true',\n",
       " 'id': 20874,\n",
       " 'matchMethod': 'Not Matched',\n",
       " 'matchString': 'Trillium flexipes',\n",
       " 'tryNames': ['Trillium flexipes'],\n",
       " 'wormsJSON': {'MatchMethod': 'Not Matched',\n",
       "  'MatchString': 'Trillium flexipes',\n",
       "  'cacheDate': '2017-09-08T13:23:20.911897'}}"
      ]
     },
     "metadata": {},
     "output_type": "display_data"
    },
    {
     "name": "stdout",
     "output_type": "stream",
     "text": [
      "{'affected_rows': 1, '_execution_time': 0.077, 'success': True, 'auth_check': {'session': None, 'auth_level': 'Write', 'success': True, 'checked_relations': ['tir.tir']}}\n"
     ]
    },
    {
     "data": {
      "text/plain": [
       "{'baseQueryURL': 'http://www.marinespecies.org/rest/AphiaRecordsByName/Pycnanthemum loomisii',\n",
       " 'followTaxonomy': 'true',\n",
       " 'id': 20876,\n",
       " 'matchMethod': 'Not Matched',\n",
       " 'matchString': 'Pycnanthemum loomisii',\n",
       " 'tryNames': ['Pycnanthemum loomisii'],\n",
       " 'wormsJSON': {'MatchMethod': 'Not Matched',\n",
       "  'MatchString': 'Pycnanthemum loomisii',\n",
       "  'cacheDate': '2017-09-08T13:23:22.484674'}}"
      ]
     },
     "metadata": {},
     "output_type": "display_data"
    },
    {
     "name": "stdout",
     "output_type": "stream",
     "text": [
      "{'affected_rows': 1, '_execution_time': 0.079, 'success': True, 'auth_check': {'session': None, 'auth_level': 'Write', 'success': True, 'checked_relations': ['tir.tir']}}\n"
     ]
    },
    {
     "data": {
      "text/plain": [
       "{'baseQueryURL': 'http://www.marinespecies.org/rest/AphiaRecordsByName/Quercus shumardii',\n",
       " 'followTaxonomy': 'true',\n",
       " 'id': 20881,\n",
       " 'matchMethod': 'Not Matched',\n",
       " 'matchString': 'Quercus shumardii',\n",
       " 'tryNames': ['Quercus shumardii'],\n",
       " 'wormsJSON': {'MatchMethod': 'Not Matched',\n",
       "  'MatchString': 'Quercus shumardii',\n",
       "  'cacheDate': '2017-09-08T13:23:25.014711'}}"
      ]
     },
     "metadata": {},
     "output_type": "display_data"
    },
    {
     "name": "stdout",
     "output_type": "stream",
     "text": [
      "{'affected_rows': 1, '_execution_time': 0.083, 'success': True, 'auth_check': {'session': None, 'auth_level': 'Write', 'success': True, 'checked_relations': ['tir.tir']}}\n"
     ]
    },
    {
     "data": {
      "text/plain": [
       "{'baseQueryURL': 'http://www.marinespecies.org/rest/AphiaRecordsByName/Dubusia',\n",
       " 'followTaxonomy': 'true',\n",
       " 'id': 20882,\n",
       " 'matchMethod': 'Not Matched',\n",
       " 'matchString': 'Dubusia',\n",
       " 'tryNames': ['Dubius a', 'Dubusia'],\n",
       " 'wormsJSON': {'MatchMethod': 'Not Matched',\n",
       "  'MatchString': 'Dubusia',\n",
       "  'cacheDate': '2017-09-08T13:23:28.146683'}}"
      ]
     },
     "metadata": {},
     "output_type": "display_data"
    },
    {
     "name": "stdout",
     "output_type": "stream",
     "text": [
      "{'affected_rows': 1, '_execution_time': 0.077, 'success': True, 'auth_check': {'session': None, 'auth_level': 'Write', 'success': True, 'checked_relations': ['tir.tir']}}\n"
     ]
    },
    {
     "data": {
      "text/plain": [
       "{'baseQueryURL': 'http://www.marinespecies.org/rest/AphiaRecordsByName/Glaucopsyche',\n",
       " 'followTaxonomy': 'true',\n",
       " 'id': 20883,\n",
       " 'matchMethod': 'Not Matched',\n",
       " 'matchString': 'Glaucopsyche',\n",
       " 'tryNames': ['Glaucopsyche'],\n",
       " 'wormsJSON': {'MatchMethod': 'Not Matched',\n",
       "  'MatchString': 'Glaucopsyche',\n",
       "  'cacheDate': '2017-09-08T13:23:29.761127'}}"
      ]
     },
     "metadata": {},
     "output_type": "display_data"
    },
    {
     "name": "stdout",
     "output_type": "stream",
     "text": [
      "{'affected_rows': 1, '_execution_time': 0.078, 'success': True, 'auth_check': {'session': None, 'auth_level': 'Write', 'success': True, 'checked_relations': ['tir.tir']}}\n"
     ]
    },
    {
     "data": {
      "text/plain": [
       "{'baseQueryURL': 'http://www.marinespecies.org/rest/AphiaRecordsByName/Calycopis cecrops',\n",
       " 'followTaxonomy': 'true',\n",
       " 'id': 20884,\n",
       " 'matchMethod': 'Not Matched',\n",
       " 'matchString': 'Calycopis cecrops',\n",
       " 'tryNames': ['Calycopis cecrops'],\n",
       " 'wormsJSON': {'MatchMethod': 'Not Matched',\n",
       "  'MatchString': 'Calycopis cecrops',\n",
       "  'cacheDate': '2017-09-08T13:23:31.404685'}}"
      ]
     },
     "metadata": {},
     "output_type": "display_data"
    },
    {
     "name": "stdout",
     "output_type": "stream",
     "text": [
      "{'affected_rows': 1, '_execution_time': 0.077, 'success': True, 'auth_check': {'session': None, 'auth_level': 'Write', 'success': True, 'checked_relations': ['tir.tir']}}\n"
     ]
    },
    {
     "data": {
      "text/plain": [
       "{'baseQueryURL': 'http://www.marinespecies.org/rest/AphiaRecordsByName/Coreopsis pubescens',\n",
       " 'followTaxonomy': 'true',\n",
       " 'id': 20885,\n",
       " 'matchMethod': 'Not Matched',\n",
       " 'matchString': 'Coreopsis pubescens',\n",
       " 'tryNames': ['Coreopsis pubescens'],\n",
       " 'wormsJSON': {'MatchMethod': 'Not Matched',\n",
       "  'MatchString': 'Coreopsis pubescens',\n",
       "  'cacheDate': '2017-09-08T13:23:34.492601'}}"
      ]
     },
     "metadata": {},
     "output_type": "display_data"
    },
    {
     "name": "stdout",
     "output_type": "stream",
     "text": [
      "{'affected_rows': 1, '_execution_time': 0.078, 'success': True, 'auth_check': {'session': None, 'auth_level': 'Write', 'success': True, 'checked_relations': ['tir.tir']}}\n"
     ]
    },
    {
     "data": {
      "text/plain": [
       "{'baseQueryURL': 'http://www.marinespecies.org/rest/AphiaRecordsByName/Utricularia geminiscapa',\n",
       " 'followTaxonomy': 'true',\n",
       " 'id': 20886,\n",
       " 'matchMethod': 'Not Matched',\n",
       " 'matchString': 'Utricularia geminiscapa',\n",
       " 'tryNames': ['Utricularia geminiscapa'],\n",
       " 'wormsJSON': {'MatchMethod': 'Not Matched',\n",
       "  'MatchString': 'Utricularia geminiscapa',\n",
       "  'cacheDate': '2017-09-08T13:23:38.373915'}}"
      ]
     },
     "metadata": {},
     "output_type": "display_data"
    },
    {
     "name": "stdout",
     "output_type": "stream",
     "text": [
      "{'affected_rows': 1, '_execution_time': 0.077, 'success': True, 'auth_check': {'session': None, 'auth_level': 'Write', 'success': True, 'checked_relations': ['tir.tir']}}\n"
     ]
    },
    {
     "data": {
      "text/plain": [
       "{'baseQueryURL': 'http://www.marinespecies.org/rest/AphiaRecordsByName/Crangonyx',\n",
       " 'followTaxonomy': 'true',\n",
       " 'id': 20888,\n",
       " 'matchMethod': 'Exact Match',\n",
       " 'matchString': 'Crangonyx',\n",
       " 'tryNames': ['Crangonyx'],\n",
       " 'wormsJSON': {'AphiaID': 431462,\n",
       "  'MatchMethod': 'Exact Match',\n",
       "  'MatchString': 'Crangonyx',\n",
       "  'cacheDate': '2017-09-08T13:23:39.646489',\n",
       "  'class': 'Malacostraca',\n",
       "  'family': 'Crangonyctidae',\n",
       "  'genus': 'Crangonyx',\n",
       "  'isBrackish': 0,\n",
       "  'isExtinct': None,\n",
       "  'isFreshwater': 1,\n",
       "  'isMarine': 0,\n",
       "  'isTerrestrial': 0,\n",
       "  'kingdom': 'Animalia',\n",
       "  'lsid': 'urn:lsid:marinespecies.org:taxname:431462',\n",
       "  'match_type': 'exact',\n",
       "  'modified': '2016-05-11T15:24:28Z',\n",
       "  'order': 'Amphipoda',\n",
       "  'phylum': 'Arthropoda',\n",
       "  'rank': 'Genus',\n",
       "  'scientificname': 'Crangonyx',\n",
       "  'status': 'accepted',\n",
       "  'unacceptreason': None,\n",
       "  'valid_AphiaID': 431462,\n",
       "  'valid_name': 'Crangonyx'}}"
      ]
     },
     "metadata": {},
     "output_type": "display_data"
    },
    {
     "name": "stdout",
     "output_type": "stream",
     "text": [
      "{'affected_rows': 1, '_execution_time': 0.079, 'success': True, 'auth_check': {'session': None, 'auth_level': 'Write', 'success': True, 'checked_relations': ['tir.tir']}}\n"
     ]
    },
    {
     "data": {
      "text/plain": [
       "{'baseQueryURL': 'http://www.marinespecies.org/rest/AphiaRecordsByName/Astilbe biternata',\n",
       " 'followTaxonomy': 'true',\n",
       " 'id': 20893,\n",
       " 'matchMethod': 'Not Matched',\n",
       " 'matchString': 'Astilbe biternata',\n",
       " 'tryNames': ['Astilbe biternata'],\n",
       " 'wormsJSON': {'MatchMethod': 'Not Matched',\n",
       "  'MatchString': 'Astilbe biternata',\n",
       "  'cacheDate': '2017-09-08T13:23:41.238340'}}"
      ]
     },
     "metadata": {},
     "output_type": "display_data"
    },
    {
     "name": "stdout",
     "output_type": "stream",
     "text": [
      "{'affected_rows': 1, '_execution_time': 0.078, 'success': True, 'auth_check': {'session': None, 'auth_level': 'Write', 'success': True, 'checked_relations': ['tir.tir']}}\n"
     ]
    },
    {
     "data": {
      "text/plain": [
       "{'baseQueryURL': 'http://www.marinespecies.org/rest/AphiaRecordsByName/Dichanthelium scoparium',\n",
       " 'followTaxonomy': 'true',\n",
       " 'id': 20899,\n",
       " 'matchMethod': 'Not Matched',\n",
       " 'matchString': 'Dichanthelium scoparium',\n",
       " 'tryNames': ['Dichanthelium scoparium'],\n",
       " 'wormsJSON': {'MatchMethod': 'Not Matched',\n",
       "  'MatchString': 'Dichanthelium scoparium',\n",
       "  'cacheDate': '2017-09-08T13:23:44.559559'}}"
      ]
     },
     "metadata": {},
     "output_type": "display_data"
    },
    {
     "name": "stdout",
     "output_type": "stream",
     "text": [
      "{'affected_rows': 1, '_execution_time': 0.077, 'success': True, 'auth_check': {'session': None, 'auth_level': 'Write', 'success': True, 'checked_relations': ['tir.tir']}}\n"
     ]
    },
    {
     "data": {
      "text/plain": [
       "{'baseQueryURL': 'http://www.marinespecies.org/rest/AphiaRecordsByName/Toxicodendron vernix',\n",
       " 'followTaxonomy': 'true',\n",
       " 'id': 20900,\n",
       " 'matchMethod': 'Not Matched',\n",
       " 'matchString': 'Toxicodendron vernix',\n",
       " 'tryNames': ['Toxicodendron vernix'],\n",
       " 'wormsJSON': {'MatchMethod': 'Not Matched',\n",
       "  'MatchString': 'Toxicodendron vernix',\n",
       "  'cacheDate': '2017-09-08T13:23:46.962610'}}"
      ]
     },
     "metadata": {},
     "output_type": "display_data"
    },
    {
     "name": "stdout",
     "output_type": "stream",
     "text": [
      "{'affected_rows': 1, '_execution_time': 0.085, 'success': True, 'auth_check': {'session': None, 'auth_level': 'Write', 'success': True, 'checked_relations': ['tir.tir']}}\n"
     ]
    },
    {
     "data": {
      "text/plain": [
       "{'baseQueryURL': 'http://www.marinespecies.org/rest/AphiaRecordsByName/Pseudanophthalmus orthosulcatus',\n",
       " 'followTaxonomy': 'true',\n",
       " 'id': 20903,\n",
       " 'matchMethod': 'Not Matched',\n",
       " 'matchString': 'Pseudanophthalmus orthosulcatus',\n",
       " 'tryNames': ['Pseudanophthalmus orthosulcatus'],\n",
       " 'wormsJSON': {'MatchMethod': 'Not Matched',\n",
       "  'MatchString': 'Pseudanophthalmus orthosulcatus',\n",
       "  'cacheDate': '2017-09-08T13:23:48.556650'}}"
      ]
     },
     "metadata": {},
     "output_type": "display_data"
    },
    {
     "name": "stdout",
     "output_type": "stream",
     "text": [
      "{'affected_rows': 1, '_execution_time': 0.078, 'success': True, 'auth_check': {'session': None, 'auth_level': 'Write', 'success': True, 'checked_relations': ['tir.tir']}}\n"
     ]
    },
    {
     "data": {
      "text/plain": [
       "{'baseQueryURL': 'http://www.marinespecies.org/rest/AphiaRecordsByName/Symphyotrichum novi-belgii',\n",
       " 'followTaxonomy': 'true',\n",
       " 'id': 20905,\n",
       " 'matchMethod': 'Not Matched',\n",
       " 'matchString': 'Symphyotrichum novi-belgii',\n",
       " 'tryNames': ['Symphyotrichum novi-belgii'],\n",
       " 'wormsJSON': {'MatchMethod': 'Not Matched',\n",
       "  'MatchString': 'Symphyotrichum novi-belgii',\n",
       "  'cacheDate': '2017-09-08T13:23:50.144289'}}"
      ]
     },
     "metadata": {},
     "output_type": "display_data"
    },
    {
     "name": "stdout",
     "output_type": "stream",
     "text": [
      "{'affected_rows': 1, '_execution_time': 0.082, 'success': True, 'auth_check': {'session': None, 'auth_level': 'Write', 'success': True, 'checked_relations': ['tir.tir']}}\n"
     ]
    },
    {
     "data": {
      "text/plain": [
       "{'baseQueryURL': 'http://www.marinespecies.org/rest/AphiaRecordsByName/Chenopodium standleyanum',\n",
       " 'followTaxonomy': 'true',\n",
       " 'id': 20907,\n",
       " 'matchMethod': 'Not Matched',\n",
       " 'matchString': 'Chenopodium standleyanum',\n",
       " 'tryNames': ['Chenopodium standleyanum'],\n",
       " 'wormsJSON': {'MatchMethod': 'Not Matched',\n",
       "  'MatchString': 'Chenopodium standleyanum',\n",
       "  'cacheDate': '2017-09-08T13:23:51.799321'}}"
      ]
     },
     "metadata": {},
     "output_type": "display_data"
    },
    {
     "name": "stdout",
     "output_type": "stream",
     "text": [
      "{'affected_rows': 1, '_execution_time': 0.087, 'success': True, 'auth_check': {'session': None, 'auth_level': 'Write', 'success': True, 'checked_relations': ['tir.tir']}}\n"
     ]
    },
    {
     "data": {
      "text/plain": [
       "{'baseQueryURL': 'http://www.marinespecies.org/rest/AphiaRecordsByName/Cornus rugosa',\n",
       " 'followTaxonomy': 'true',\n",
       " 'id': 20910,\n",
       " 'matchMethod': 'Not Matched',\n",
       " 'matchString': 'Cornus rugosa',\n",
       " 'tryNames': ['Cornus rugosa'],\n",
       " 'wormsJSON': {'MatchMethod': 'Not Matched',\n",
       "  'MatchString': 'Cornus rugosa',\n",
       "  'cacheDate': '2017-09-08T13:23:54.340170'}}"
      ]
     },
     "metadata": {},
     "output_type": "display_data"
    },
    {
     "name": "stdout",
     "output_type": "stream",
     "text": [
      "{'affected_rows': 1, '_execution_time': 0.083, 'success': True, 'auth_check': {'session': None, 'auth_level': 'Write', 'success': True, 'checked_relations': ['tir.tir']}}\n"
     ]
    },
    {
     "data": {
      "text/plain": [
       "{'baseQueryURL': 'http://www.marinespecies.org/rest/AphiaRecordsByName/Carex interior',\n",
       " 'followTaxonomy': 'true',\n",
       " 'id': 20913,\n",
       " 'matchMethod': 'Not Matched',\n",
       " 'matchString': 'Carex interior',\n",
       " 'tryNames': ['Carex interior'],\n",
       " 'wormsJSON': {'MatchMethod': 'Not Matched',\n",
       "  'MatchString': 'Carex interior',\n",
       "  'cacheDate': '2017-09-08T13:23:56.870645'}}"
      ]
     },
     "metadata": {},
     "output_type": "display_data"
    },
    {
     "name": "stdout",
     "output_type": "stream",
     "text": [
      "{'affected_rows': 1, '_execution_time': 0.077, 'success': True, 'auth_check': {'session': None, 'auth_level': 'Write', 'success': True, 'checked_relations': ['tir.tir']}}\n"
     ]
    },
    {
     "data": {
      "text/plain": [
       "{'baseQueryURL': 'http://www.marinespecies.org/rest/AphiaRecordsByName/Gymnocarpium dryopteris',\n",
       " 'followTaxonomy': 'true',\n",
       " 'id': 20930,\n",
       " 'matchMethod': 'Not Matched',\n",
       " 'matchString': 'Gymnocarpium dryopteris',\n",
       " 'tryNames': ['Gymnocarpium dryopteris'],\n",
       " 'wormsJSON': {'MatchMethod': 'Not Matched',\n",
       "  'MatchString': 'Gymnocarpium dryopteris',\n",
       "  'cacheDate': '2017-09-08T13:23:58.489631'}}"
      ]
     },
     "metadata": {},
     "output_type": "display_data"
    },
    {
     "name": "stdout",
     "output_type": "stream",
     "text": [
      "{'affected_rows': 1, '_execution_time': 0.077, 'success': True, 'auth_check': {'session': None, 'auth_level': 'Write', 'success': True, 'checked_relations': ['tir.tir']}}\n"
     ]
    },
    {
     "data": {
      "text/plain": [
       "{'baseQueryURL': 'http://www.marinespecies.org/rest/AphiaRecordsByName/Phlox buckleyi',\n",
       " 'followTaxonomy': 'true',\n",
       " 'id': 20935,\n",
       " 'matchMethod': 'Not Matched',\n",
       " 'matchString': 'Phlox buckleyi',\n",
       " 'tryNames': ['Phlox buckleyi'],\n",
       " 'wormsJSON': {'MatchMethod': 'Not Matched',\n",
       "  'MatchString': 'Phlox buckleyi',\n",
       "  'cacheDate': '2017-09-08T13:24:00.096349'}}"
      ]
     },
     "metadata": {},
     "output_type": "display_data"
    },
    {
     "name": "stdout",
     "output_type": "stream",
     "text": [
      "{'affected_rows': 1, '_execution_time': 0.076, 'success': True, 'auth_check': {'session': None, 'auth_level': 'Write', 'success': True, 'checked_relations': ['tir.tir']}}\n"
     ]
    },
    {
     "data": {
      "text/plain": [
       "{'baseQueryURL': 'http://www.marinespecies.org/rest/AphiaRecordsByName/Pseudanophthalmus grandis',\n",
       " 'followTaxonomy': 'true',\n",
       " 'id': 20937,\n",
       " 'matchMethod': 'Not Matched',\n",
       " 'matchString': 'Pseudanophthalmus grandis',\n",
       " 'tryNames': ['Pseudanophthalmus grandis'],\n",
       " 'wormsJSON': {'MatchMethod': 'Not Matched',\n",
       "  'MatchString': 'Pseudanophthalmus grandis',\n",
       "  'cacheDate': '2017-09-08T13:24:01.718325'}}"
      ]
     },
     "metadata": {},
     "output_type": "display_data"
    },
    {
     "name": "stdout",
     "output_type": "stream",
     "text": [
      "{'affected_rows': 1, '_execution_time': 0.077, 'success': True, 'auth_check': {'session': None, 'auth_level': 'Write', 'success': True, 'checked_relations': ['tir.tir']}}\n"
     ]
    },
    {
     "data": {
      "text/plain": [
       "{'baseQueryURL': 'http://www.marinespecies.org/rest/AphiaRecordsByName/Hibiscus laevis',\n",
       " 'followTaxonomy': 'true',\n",
       " 'id': 20939,\n",
       " 'matchMethod': 'Not Matched',\n",
       " 'matchString': 'Hibiscus laevis',\n",
       " 'tryNames': ['Hibiscus laevis'],\n",
       " 'wormsJSON': {'MatchMethod': 'Not Matched',\n",
       "  'MatchString': 'Hibiscus laevis',\n",
       "  'cacheDate': '2017-09-08T13:24:04.228556'}}"
      ]
     },
     "metadata": {},
     "output_type": "display_data"
    },
    {
     "name": "stdout",
     "output_type": "stream",
     "text": [
      "{'affected_rows': 1, '_execution_time': 0.077, 'success': True, 'auth_check': {'session': None, 'auth_level': 'Write', 'success': True, 'checked_relations': ['tir.tir']}}\n"
     ]
    },
    {
     "data": {
      "text/plain": [
       "{'baseQueryURL': 'http://www.marinespecies.org/rest/AphiaRecordsByName/Coreopsis verticillata',\n",
       " 'followTaxonomy': 'true',\n",
       " 'id': 20940,\n",
       " 'matchMethod': 'Not Matched',\n",
       " 'matchString': 'Coreopsis verticillata',\n",
       " 'tryNames': ['Coreopsis verticillata'],\n",
       " 'wormsJSON': {'MatchMethod': 'Not Matched',\n",
       "  'MatchString': 'Coreopsis verticillata',\n",
       "  'cacheDate': '2017-09-08T13:24:06.622321'}}"
      ]
     },
     "metadata": {},
     "output_type": "display_data"
    },
    {
     "name": "stdout",
     "output_type": "stream",
     "text": [
      "{'affected_rows': 1, '_execution_time': 0.077, 'success': True, 'auth_check': {'session': None, 'auth_level': 'Write', 'success': True, 'checked_relations': ['tir.tir']}}\n"
     ]
    },
    {
     "data": {
      "text/plain": [
       "{'baseQueryURL': 'http://www.marinespecies.org/rest/AphiaRecordsByName/Danthonia sericea',\n",
       " 'followTaxonomy': 'true',\n",
       " 'id': 20942,\n",
       " 'matchMethod': 'Not Matched',\n",
       " 'matchString': 'Danthonia sericea',\n",
       " 'tryNames': ['Danthonia sericea'],\n",
       " 'wormsJSON': {'MatchMethod': 'Not Matched',\n",
       "  'MatchString': 'Danthonia sericea',\n",
       "  'cacheDate': '2017-09-08T13:24:09.023485'}}"
      ]
     },
     "metadata": {},
     "output_type": "display_data"
    },
    {
     "name": "stdout",
     "output_type": "stream",
     "text": [
      "{'affected_rows': 1, '_execution_time': 0.076, 'success': True, 'auth_check': {'session': None, 'auth_level': 'Write', 'success': True, 'checked_relations': ['tir.tir']}}\n"
     ]
    },
    {
     "data": {
      "text/plain": [
       "{'baseQueryURL': 'http://www.marinespecies.org/rest/AphiaRecordsByName/Agrimonia microcarpa',\n",
       " 'followTaxonomy': 'true',\n",
       " 'id': 20945,\n",
       " 'matchMethod': 'Not Matched',\n",
       " 'matchString': 'Agrimonia microcarpa',\n",
       " 'tryNames': ['Agrimonia microcarpa'],\n",
       " 'wormsJSON': {'MatchMethod': 'Not Matched',\n",
       "  'MatchString': 'Agrimonia microcarpa',\n",
       "  'cacheDate': '2017-09-08T13:24:10.639336'}}"
      ]
     },
     "metadata": {},
     "output_type": "display_data"
    },
    {
     "name": "stdout",
     "output_type": "stream",
     "text": [
      "{'affected_rows': 1, '_execution_time': 0.078, 'success': True, 'auth_check': {'session': None, 'auth_level': 'Write', 'success': True, 'checked_relations': ['tir.tir']}}\n"
     ]
    },
    {
     "data": {
      "text/plain": [
       "{'baseQueryURL': 'http://www.marinespecies.org/rest/AphiaRecordsByName/Triadenum walteri',\n",
       " 'followTaxonomy': 'true',\n",
       " 'id': 20950,\n",
       " 'matchMethod': 'Not Matched',\n",
       " 'matchString': 'Triadenum walteri',\n",
       " 'tryNames': ['Triadenum walteri'],\n",
       " 'wormsJSON': {'MatchMethod': 'Not Matched',\n",
       "  'MatchString': 'Triadenum walteri',\n",
       "  'cacheDate': '2017-09-08T13:24:13.172401'}}"
      ]
     },
     "metadata": {},
     "output_type": "display_data"
    },
    {
     "name": "stdout",
     "output_type": "stream",
     "text": [
      "{'affected_rows': 1, '_execution_time': 0.078, 'success': True, 'auth_check': {'session': None, 'auth_level': 'Write', 'success': True, 'checked_relations': ['tir.tir']}}\n"
     ]
    },
    {
     "data": {
      "text/plain": [
       "{'baseQueryURL': 'http://www.marinespecies.org/rest/AphiaRecordsByName/Taenidia montana',\n",
       " 'followTaxonomy': 'true',\n",
       " 'id': 20952,\n",
       " 'matchMethod': 'Not Matched',\n",
       " 'matchString': 'Taenidia montana',\n",
       " 'tryNames': ['Taenidia montana'],\n",
       " 'wormsJSON': {'MatchMethod': 'Not Matched',\n",
       "  'MatchString': 'Taenidia montana',\n",
       "  'cacheDate': '2017-09-08T13:24:16.504330'}}"
      ]
     },
     "metadata": {},
     "output_type": "display_data"
    },
    {
     "name": "stdout",
     "output_type": "stream",
     "text": [
      "{'affected_rows': 1, '_execution_time': 0.078, 'success': True, 'auth_check': {'session': None, 'auth_level': 'Write', 'success': True, 'checked_relations': ['tir.tir']}}\n"
     ]
    },
    {
     "data": {
      "text/plain": [
       "{'baseQueryURL': 'http://www.marinespecies.org/rest/AphiaRecordsByName/Phyciodes cocyta diminutor',\n",
       " 'followTaxonomy': 'true',\n",
       " 'id': 20953,\n",
       " 'matchMethod': 'Not Matched',\n",
       " 'matchString': 'Phyciodes cocyta diminutor',\n",
       " 'tryNames': ['Phyciodes cocyta diminutor'],\n",
       " 'wormsJSON': {'MatchMethod': 'Not Matched',\n",
       "  'MatchString': 'Phyciodes cocyta diminutor',\n",
       "  'cacheDate': '2017-09-08T13:24:18.122128'}}"
      ]
     },
     "metadata": {},
     "output_type": "display_data"
    },
    {
     "name": "stdout",
     "output_type": "stream",
     "text": [
      "{'affected_rows': 1, '_execution_time': 0.076, 'success': True, 'auth_check': {'session': None, 'auth_level': 'Write', 'success': True, 'checked_relations': ['tir.tir']}}\n"
     ]
    },
    {
     "data": {
      "text/plain": [
       "{'baseQueryURL': 'http://www.marinespecies.org/rest/AphiaRecordsByName/Carex kraliana',\n",
       " 'followTaxonomy': 'true',\n",
       " 'id': 20955,\n",
       " 'matchMethod': 'Not Matched',\n",
       " 'matchString': 'Carex kraliana',\n",
       " 'tryNames': ['Carex kraliana'],\n",
       " 'wormsJSON': {'MatchMethod': 'Not Matched',\n",
       "  'MatchString': 'Carex kraliana',\n",
       "  'cacheDate': '2017-09-08T13:24:19.757774'}}"
      ]
     },
     "metadata": {},
     "output_type": "display_data"
    },
    {
     "name": "stdout",
     "output_type": "stream",
     "text": [
      "{'affected_rows': 1, '_execution_time': 0.079, 'success': True, 'auth_check': {'session': None, 'auth_level': 'Write', 'success': True, 'checked_relations': ['tir.tir']}}\n"
     ]
    },
    {
     "data": {
      "text/plain": [
       "{'baseQueryURL': 'http://www.marinespecies.org/rest/AphiaRecordsByName/Ventridens theloides',\n",
       " 'followTaxonomy': 'true',\n",
       " 'id': 20956,\n",
       " 'matchMethod': 'Not Matched',\n",
       " 'matchString': 'Ventridens theloides',\n",
       " 'tryNames': ['Ventridens theloides'],\n",
       " 'wormsJSON': {'MatchMethod': 'Not Matched',\n",
       "  'MatchString': 'Ventridens theloides',\n",
       "  'cacheDate': '2017-09-08T13:24:21.404574'}}"
      ]
     },
     "metadata": {},
     "output_type": "display_data"
    },
    {
     "name": "stdout",
     "output_type": "stream",
     "text": [
      "{'affected_rows': 1, '_execution_time': 0.079, 'success': True, 'auth_check': {'session': None, 'auth_level': 'Write', 'success': True, 'checked_relations': ['tir.tir']}}\n"
     ]
    },
    {
     "data": {
      "text/plain": [
       "{'baseQueryURL': 'http://www.marinespecies.org/rest/AphiaRecordsByName/Lemna valdiviana',\n",
       " 'followTaxonomy': 'true',\n",
       " 'id': 20957,\n",
       " 'matchMethod': 'Not Matched',\n",
       " 'matchString': 'Lemna valdiviana',\n",
       " 'tryNames': ['Lemna valdiviana'],\n",
       " 'wormsJSON': {'MatchMethod': 'Not Matched',\n",
       "  'MatchString': 'Lemna valdiviana',\n",
       "  'cacheDate': '2017-09-08T13:24:25.079098'}}"
      ]
     },
     "metadata": {},
     "output_type": "display_data"
    },
    {
     "name": "stdout",
     "output_type": "stream",
     "text": [
      "{'affected_rows': 1, '_execution_time': 0.077, 'success': True, 'auth_check': {'session': None, 'auth_level': 'Write', 'success': True, 'checked_relations': ['tir.tir']}}\n"
     ]
    },
    {
     "data": {
      "text/plain": [
       "{'baseQueryURL': 'http://www.marinespecies.org/rest/AphiaRecordsByName/Prosartes maculata',\n",
       " 'followTaxonomy': 'true',\n",
       " 'id': 20962,\n",
       " 'matchMethod': 'Not Matched',\n",
       " 'matchString': 'Prosartes maculata',\n",
       " 'tryNames': ['Prosartes maculata'],\n",
       " 'wormsJSON': {'MatchMethod': 'Not Matched',\n",
       "  'MatchString': 'Prosartes maculata',\n",
       "  'cacheDate': '2017-09-08T13:24:26.791856'}}"
      ]
     },
     "metadata": {},
     "output_type": "display_data"
    },
    {
     "name": "stdout",
     "output_type": "stream",
     "text": [
      "{'affected_rows': 1, '_execution_time': 0.076, 'success': True, 'auth_check': {'session': None, 'auth_level': 'Write', 'success': True, 'checked_relations': ['tir.tir']}}\n"
     ]
    },
    {
     "data": {
      "text/plain": [
       "{'baseQueryURL': 'http://www.marinespecies.org/rest/AphiaRecordsByName/Lithobates pipiens',\n",
       " 'followTaxonomy': 'true',\n",
       " 'id': 20964,\n",
       " 'matchMethod': 'Not Matched',\n",
       " 'matchString': 'Lithobates pipiens',\n",
       " 'tryNames': ['Lithobates pipiens'],\n",
       " 'wormsJSON': {'MatchMethod': 'Not Matched',\n",
       "  'MatchString': 'Lithobates pipiens',\n",
       "  'cacheDate': '2017-09-08T13:24:28.452063'}}"
      ]
     },
     "metadata": {},
     "output_type": "display_data"
    },
    {
     "name": "stdout",
     "output_type": "stream",
     "text": [
      "{'affected_rows': 1, '_execution_time': 0.077, 'success': True, 'auth_check': {'session': None, 'auth_level': 'Write', 'success': True, 'checked_relations': ['tir.tir']}}\n"
     ]
    },
    {
     "data": {
      "text/plain": [
       "{'baseQueryURL': 'http://www.marinespecies.org/rest/AphiaRecordsByName/Anthrobia coylei',\n",
       " 'followTaxonomy': 'true',\n",
       " 'id': 20968,\n",
       " 'matchMethod': 'Not Matched',\n",
       " 'matchString': 'Anthrobia coylei',\n",
       " 'tryNames': ['Anthrobia coylei'],\n",
       " 'wormsJSON': {'MatchMethod': 'Not Matched',\n",
       "  'MatchString': 'Anthrobia coylei',\n",
       "  'cacheDate': '2017-09-08T13:24:30.339676'}}"
      ]
     },
     "metadata": {},
     "output_type": "display_data"
    },
    {
     "name": "stdout",
     "output_type": "stream",
     "text": [
      "{'affected_rows': 1, '_execution_time': 0.076, 'success': True, 'auth_check': {'session': None, 'auth_level': 'Write', 'success': True, 'checked_relations': ['tir.tir']}}\n"
     ]
    },
    {
     "data": {
      "text/plain": [
       "{'baseQueryURL': 'http://www.marinespecies.org/rest/AphiaRecordsByName/Gaultheria hispidula',\n",
       " 'followTaxonomy': 'true',\n",
       " 'id': 20969,\n",
       " 'matchMethod': 'Not Matched',\n",
       " 'matchString': 'Gaultheria hispidula',\n",
       " 'tryNames': ['Gaultheria hispidula'],\n",
       " 'wormsJSON': {'MatchMethod': 'Not Matched',\n",
       "  'MatchString': 'Gaultheria hispidula',\n",
       "  'cacheDate': '2017-09-08T13:24:32.429198'}}"
      ]
     },
     "metadata": {},
     "output_type": "display_data"
    },
    {
     "name": "stdout",
     "output_type": "stream",
     "text": [
      "{'affected_rows': 1, '_execution_time': 0.076, 'success': True, 'auth_check': {'session': None, 'auth_level': 'Write', 'success': True, 'checked_relations': ['tir.tir']}}\n"
     ]
    },
    {
     "data": {
      "text/plain": [
       "{'baseQueryURL': 'http://www.marinespecies.org/rest/AphiaRecordsByName/Corallorhiza bentleyi',\n",
       " 'followTaxonomy': 'true',\n",
       " 'id': 20971,\n",
       " 'matchMethod': 'Not Matched',\n",
       " 'matchString': 'Corallorhiza bentleyi',\n",
       " 'tryNames': ['Corallorhiza bentleyi'],\n",
       " 'wormsJSON': {'MatchMethod': 'Not Matched',\n",
       "  'MatchString': 'Corallorhiza bentleyi',\n",
       "  'cacheDate': '2017-09-08T13:24:36.553452'}}"
      ]
     },
     "metadata": {},
     "output_type": "display_data"
    },
    {
     "name": "stdout",
     "output_type": "stream",
     "text": [
      "{'affected_rows': 1, '_execution_time': 0.077, 'success': True, 'auth_check': {'session': None, 'auth_level': 'Write', 'success': True, 'checked_relations': ['tir.tir']}}\n"
     ]
    },
    {
     "data": {
      "text/plain": [
       "{'baseQueryURL': 'http://www.marinespecies.org/rest/AphiaRecordsByName/Ventridens collisella',\n",
       " 'followTaxonomy': 'true',\n",
       " 'id': 20972,\n",
       " 'matchMethod': 'Not Matched',\n",
       " 'matchString': 'Ventridens collisella',\n",
       " 'tryNames': ['Ventridens collisella'],\n",
       " 'wormsJSON': {'MatchMethod': 'Not Matched',\n",
       "  'MatchString': 'Ventridens collisella',\n",
       "  'cacheDate': '2017-09-08T13:24:38.128796'}}"
      ]
     },
     "metadata": {},
     "output_type": "display_data"
    },
    {
     "name": "stdout",
     "output_type": "stream",
     "text": [
      "{'affected_rows': 1, '_execution_time': 0.077, 'success': True, 'auth_check': {'session': None, 'auth_level': 'Write', 'success': True, 'checked_relations': ['tir.tir']}}\n"
     ]
    },
    {
     "data": {
      "text/plain": [
       "{'baseQueryURL': 'http://www.marinespecies.org/rest/AphiaRecordsByName/Cerastis salicarum',\n",
       " 'followTaxonomy': 'true',\n",
       " 'id': 20973,\n",
       " 'matchMethod': 'Not Matched',\n",
       " 'matchString': 'Cerastis salicarum',\n",
       " 'tryNames': ['Cerastis salicarum'],\n",
       " 'wormsJSON': {'MatchMethod': 'Not Matched',\n",
       "  'MatchString': 'Cerastis salicarum',\n",
       "  'cacheDate': '2017-09-08T13:24:39.776754'}}"
      ]
     },
     "metadata": {},
     "output_type": "display_data"
    },
    {
     "name": "stdout",
     "output_type": "stream",
     "text": [
      "{'affected_rows': 1, '_execution_time': 0.082, 'success': True, 'auth_check': {'session': None, 'auth_level': 'Write', 'success': True, 'checked_relations': ['tir.tir']}}\n"
     ]
    },
    {
     "data": {
      "text/plain": [
       "{'baseQueryURL': 'http://www.marinespecies.org/rest/AphiaRecordsByName/Larix laricina',\n",
       " 'followTaxonomy': 'true',\n",
       " 'id': 20981,\n",
       " 'matchMethod': 'Not Matched',\n",
       " 'matchString': 'Larix laricina',\n",
       " 'tryNames': ['Larix laricina'],\n",
       " 'wormsJSON': {'MatchMethod': 'Not Matched',\n",
       "  'MatchString': 'Larix laricina',\n",
       "  'cacheDate': '2017-09-08T13:24:41.496492'}}"
      ]
     },
     "metadata": {},
     "output_type": "display_data"
    },
    {
     "name": "stdout",
     "output_type": "stream",
     "text": [
      "{'affected_rows': 1, '_execution_time': 0.078, 'success': True, 'auth_check': {'session': None, 'auth_level': 'Write', 'success': True, 'checked_relations': ['tir.tir']}}\n"
     ]
    },
    {
     "data": {
      "text/plain": [
       "{'baseQueryURL': 'http://www.marinespecies.org/rest/AphiaRecordsByName/Vernonia glauca',\n",
       " 'followTaxonomy': 'true',\n",
       " 'id': 20983,\n",
       " 'matchMethod': 'Not Matched',\n",
       " 'matchString': 'Vernonia glauca',\n",
       " 'tryNames': ['Vernonia glauca'],\n",
       " 'wormsJSON': {'MatchMethod': 'Not Matched',\n",
       "  'MatchString': 'Vernonia glauca',\n",
       "  'cacheDate': '2017-09-08T13:24:44.180225'}}"
      ]
     },
     "metadata": {},
     "output_type": "display_data"
    },
    {
     "name": "stdout",
     "output_type": "stream",
     "text": [
      "{'affected_rows': 1, '_execution_time': 0.078, 'success': True, 'auth_check': {'session': None, 'auth_level': 'Write', 'success': True, 'checked_relations': ['tir.tir']}}\n"
     ]
    },
    {
     "data": {
      "text/plain": [
       "{'baseQueryURL': 'http://www.marinespecies.org/rest/AphiaRecordsByName/Viola appalachiensis',\n",
       " 'followTaxonomy': 'true',\n",
       " 'id': 20986,\n",
       " 'matchMethod': 'Not Matched',\n",
       " 'matchString': 'Viola appalachiensis',\n",
       " 'tryNames': ['Viola appalachiensis'],\n",
       " 'wormsJSON': {'MatchMethod': 'Not Matched',\n",
       "  'MatchString': 'Viola appalachiensis',\n",
       "  'cacheDate': '2017-09-08T13:24:46.154086'}}"
      ]
     },
     "metadata": {},
     "output_type": "display_data"
    },
    {
     "name": "stdout",
     "output_type": "stream",
     "text": [
      "{'affected_rows': 1, '_execution_time': 0.077, 'success': True, 'auth_check': {'session': None, 'auth_level': 'Write', 'success': True, 'checked_relations': ['tir.tir']}}\n"
     ]
    },
    {
     "data": {
      "text/plain": [
       "{'baseQueryURL': 'http://www.marinespecies.org/rest/AphiaRecordsByName/Carex eburnea',\n",
       " 'followTaxonomy': 'true',\n",
       " 'id': 20988,\n",
       " 'matchMethod': 'Not Matched',\n",
       " 'matchString': 'Carex eburnea',\n",
       " 'tryNames': ['Carex eburnea'],\n",
       " 'wormsJSON': {'MatchMethod': 'Not Matched',\n",
       "  'MatchString': 'Carex eburnea',\n",
       "  'cacheDate': '2017-09-08T13:24:47.747216'}}"
      ]
     },
     "metadata": {},
     "output_type": "display_data"
    },
    {
     "name": "stdout",
     "output_type": "stream",
     "text": [
      "{'affected_rows': 1, '_execution_time': 0.084, 'success': True, 'auth_check': {'session': None, 'auth_level': 'Write', 'success': True, 'checked_relations': ['tir.tir']}}\n"
     ]
    },
    {
     "data": {
      "text/plain": [
       "{'baseQueryURL': 'http://www.marinespecies.org/rest/AphiaRecordsByName/Ribes triste',\n",
       " 'followTaxonomy': 'true',\n",
       " 'id': 20990,\n",
       " 'matchMethod': 'Not Matched',\n",
       " 'matchString': 'Ribes triste',\n",
       " 'tryNames': ['Ribes triste'],\n",
       " 'wormsJSON': {'MatchMethod': 'Not Matched',\n",
       "  'MatchString': 'Ribes triste',\n",
       "  'cacheDate': '2017-09-08T13:24:49.351070'}}"
      ]
     },
     "metadata": {},
     "output_type": "display_data"
    },
    {
     "name": "stdout",
     "output_type": "stream",
     "text": [
      "{'affected_rows': 1, '_execution_time': 0.078, 'success': True, 'auth_check': {'session': None, 'auth_level': 'Write', 'success': True, 'checked_relations': ['tir.tir']}}\n"
     ]
    },
    {
     "data": {
      "text/plain": [
       "{'baseQueryURL': 'http://www.marinespecies.org/rest/AphiaRecordsByName/Lilium michauxii',\n",
       " 'followTaxonomy': 'true',\n",
       " 'id': 20994,\n",
       " 'matchMethod': 'Not Matched',\n",
       " 'matchString': 'Lilium michauxii',\n",
       " 'tryNames': ['Lilium michauxii'],\n",
       " 'wormsJSON': {'MatchMethod': 'Not Matched',\n",
       "  'MatchString': 'Lilium michauxii',\n",
       "  'cacheDate': '2017-09-08T13:24:51.331635'}}"
      ]
     },
     "metadata": {},
     "output_type": "display_data"
    },
    {
     "name": "stdout",
     "output_type": "stream",
     "text": [
      "{'affected_rows': 1, '_execution_time': 0.077, 'success': True, 'auth_check': {'session': None, 'auth_level': 'Write', 'success': True, 'checked_relations': ['tir.tir']}}\n"
     ]
    },
    {
     "data": {
      "text/plain": [
       "{'baseQueryURL': 'http://www.marinespecies.org/rest/AphiaRecordsByName/Utricularia gibba',\n",
       " 'followTaxonomy': 'true',\n",
       " 'id': 20996,\n",
       " 'matchMethod': 'Not Matched',\n",
       " 'matchString': 'Utricularia gibba',\n",
       " 'tryNames': ['Utricularia gibba'],\n",
       " 'wormsJSON': {'MatchMethod': 'Not Matched',\n",
       "  'MatchString': 'Utricularia gibba',\n",
       "  'cacheDate': '2017-09-08T13:24:54.433404'}}"
      ]
     },
     "metadata": {},
     "output_type": "display_data"
    },
    {
     "name": "stdout",
     "output_type": "stream",
     "text": [
      "{'affected_rows': 1, '_execution_time': 0.077, 'success': True, 'auth_check': {'session': None, 'auth_level': 'Write', 'success': True, 'checked_relations': ['tir.tir']}}\n"
     ]
    },
    {
     "data": {
      "text/plain": [
       "{'baseQueryURL': 'http://www.marinespecies.org/rest/AphiaRecordsByName/Potamogeton spirillus',\n",
       " 'followTaxonomy': 'true',\n",
       " 'id': 20999,\n",
       " 'matchMethod': 'Not Matched',\n",
       " 'matchString': 'Potamogeton spirillus',\n",
       " 'tryNames': ['Potamogeton spirillus'],\n",
       " 'wormsJSON': {'MatchMethod': 'Not Matched',\n",
       "  'MatchString': 'Potamogeton spirillus',\n",
       "  'cacheDate': '2017-09-08T13:24:56.171632'}}"
      ]
     },
     "metadata": {},
     "output_type": "display_data"
    },
    {
     "name": "stdout",
     "output_type": "stream",
     "text": [
      "{'affected_rows': 1, '_execution_time': 0.078, 'success': True, 'auth_check': {'session': None, 'auth_level': 'Write', 'success': True, 'checked_relations': ['tir.tir']}}\n"
     ]
    },
    {
     "data": {
      "text/plain": [
       "{'baseQueryURL': 'http://www.marinespecies.org/rest/AphiaRecordsByName/Cyperus refractus',\n",
       " 'followTaxonomy': 'true',\n",
       " 'id': 21001,\n",
       " 'matchMethod': 'Not Matched',\n",
       " 'matchString': 'Cyperus refractus',\n",
       " 'tryNames': ['Cyperus refractus'],\n",
       " 'wormsJSON': {'MatchMethod': 'Not Matched',\n",
       "  'MatchString': 'Cyperus refractus',\n",
       "  'cacheDate': '2017-09-08T13:24:57.845625'}}"
      ]
     },
     "metadata": {},
     "output_type": "display_data"
    },
    {
     "name": "stdout",
     "output_type": "stream",
     "text": [
      "{'affected_rows': 1, '_execution_time': 0.083, 'success': True, 'auth_check': {'session': None, 'auth_level': 'Write', 'success': True, 'checked_relations': ['tir.tir']}}\n"
     ]
    },
    {
     "data": {
      "text/plain": [
       "{'baseQueryURL': 'http://www.marinespecies.org/rest/AphiaRecordsByName/Carex deflexa',\n",
       " 'followTaxonomy': 'true',\n",
       " 'id': 21003,\n",
       " 'matchMethod': 'Not Matched',\n",
       " 'matchString': 'Carex deflexa',\n",
       " 'tryNames': ['Carex deflexa'],\n",
       " 'wormsJSON': {'MatchMethod': 'Not Matched',\n",
       "  'MatchString': 'Carex deflexa',\n",
       "  'cacheDate': '2017-09-08T13:24:59.417056'}}"
      ]
     },
     "metadata": {},
     "output_type": "display_data"
    },
    {
     "name": "stdout",
     "output_type": "stream",
     "text": [
      "{'affected_rows': 1, '_execution_time': 0.077, 'success': True, 'auth_check': {'session': None, 'auth_level': 'Write', 'success': True, 'checked_relations': ['tir.tir']}}\n"
     ]
    },
    {
     "data": {
      "text/plain": [
       "{'baseQueryURL': 'http://www.marinespecies.org/rest/AphiaRecordsByName/Polygonia faunus smythi',\n",
       " 'followTaxonomy': 'true',\n",
       " 'id': 21009,\n",
       " 'matchMethod': 'Not Matched',\n",
       " 'matchString': 'Polygonia faunus smythi',\n",
       " 'tryNames': ['Polygonia faunus symthi', 'Polygonia faunus smythi'],\n",
       " 'wormsJSON': {'MatchMethod': 'Not Matched',\n",
       "  'MatchString': 'Polygonia faunus smythi',\n",
       "  'cacheDate': '2017-09-08T13:25:02.578990'}}"
      ]
     },
     "metadata": {},
     "output_type": "display_data"
    },
    {
     "name": "stdout",
     "output_type": "stream",
     "text": [
      "{'affected_rows': 1, '_execution_time': 0.078, 'success': True, 'auth_check': {'session': None, 'auth_level': 'Write', 'success': True, 'checked_relations': ['tir.tir']}}\n"
     ]
    },
    {
     "data": {
      "text/plain": [
       "{'baseQueryURL': 'http://www.marinespecies.org/rest/AphiaRecordsByName/Solidago patula var patula',\n",
       " 'followTaxonomy': 'true',\n",
       " 'id': 21011,\n",
       " 'matchMethod': 'Not Matched',\n",
       " 'matchString': 'Solidago patula var patula',\n",
       " 'tryNames': ['Solidago patula var patula'],\n",
       " 'wormsJSON': {'MatchMethod': 'Not Matched',\n",
       "  'MatchString': 'Solidago patula var patula',\n",
       "  'cacheDate': '2017-09-08T13:25:05.329410'}}"
      ]
     },
     "metadata": {},
     "output_type": "display_data"
    },
    {
     "name": "stdout",
     "output_type": "stream",
     "text": [
      "{'affected_rows': 1, '_execution_time': 0.077, 'success': True, 'auth_check': {'session': None, 'auth_level': 'Write', 'success': True, 'checked_relations': ['tir.tir']}}\n"
     ]
    },
    {
     "data": {
      "text/plain": [
       "{'baseQueryURL': 'http://www.marinespecies.org/rest/AphiaRecordsByName/Gaylussacia brachycera',\n",
       " 'followTaxonomy': 'true',\n",
       " 'id': 21013,\n",
       " 'matchMethod': 'Not Matched',\n",
       " 'matchString': 'Gaylussacia brachycera',\n",
       " 'tryNames': ['Gaylussacia brachycera'],\n",
       " 'wormsJSON': {'MatchMethod': 'Not Matched',\n",
       "  'MatchString': 'Gaylussacia brachycera',\n",
       "  'cacheDate': '2017-09-08T13:25:06.900080'}}"
      ]
     },
     "metadata": {},
     "output_type": "display_data"
    },
    {
     "name": "stdout",
     "output_type": "stream",
     "text": [
      "{'affected_rows': 1, '_execution_time': 0.077, 'success': True, 'auth_check': {'session': None, 'auth_level': 'Write', 'success': True, 'checked_relations': ['tir.tir']}}\n"
     ]
    },
    {
     "data": {
      "text/plain": [
       "{'baseQueryURL': 'http://www.marinespecies.org/rest/AphiaRecordsByName/Vallonia costata',\n",
       " 'followTaxonomy': 'true',\n",
       " 'id': 21015,\n",
       " 'matchMethod': 'Exact Match',\n",
       " 'matchString': 'Vallonia costata',\n",
       " 'tryNames': ['Vallonia costata'],\n",
       " 'wormsJSON': {'AphiaID': 819969,\n",
       "  'MatchMethod': 'Exact Match',\n",
       "  'MatchString': 'Vallonia costata',\n",
       "  'cacheDate': '2017-09-08T13:25:08.134981',\n",
       "  'class': 'Gastropoda',\n",
       "  'family': 'Valloniidae',\n",
       "  'genus': 'Vallonia',\n",
       "  'isBrackish': 0,\n",
       "  'isExtinct': None,\n",
       "  'isFreshwater': 0,\n",
       "  'isMarine': 0,\n",
       "  'isTerrestrial': 1,\n",
       "  'kingdom': 'Animalia',\n",
       "  'lsid': 'urn:lsid:marinespecies.org:taxname:819969',\n",
       "  'match_type': 'exact',\n",
       "  'modified': '2014-10-24T21:50:19Z',\n",
       "  'order': 'Stylommatophora',\n",
       "  'phylum': 'Mollusca',\n",
       "  'rank': 'Species',\n",
       "  'scientificname': 'Vallonia costata',\n",
       "  'status': 'accepted',\n",
       "  'unacceptreason': None,\n",
       "  'valid_AphiaID': 819969,\n",
       "  'valid_name': 'Vallonia costata'}}"
      ]
     },
     "metadata": {},
     "output_type": "display_data"
    },
    {
     "name": "stdout",
     "output_type": "stream",
     "text": [
      "{'affected_rows': 1, '_execution_time': 0.079, 'success': True, 'auth_check': {'session': None, 'auth_level': 'Write', 'success': True, 'checked_relations': ['tir.tir']}}\n"
     ]
    },
    {
     "data": {
      "text/plain": [
       "{'baseQueryURL': 'http://www.marinespecies.org/rest/AphiaRecordsByName/Ruellia humilis',\n",
       " 'followTaxonomy': 'true',\n",
       " 'id': 21017,\n",
       " 'matchMethod': 'Not Matched',\n",
       " 'matchString': 'Ruellia humilis',\n",
       " 'tryNames': ['Ruellia humilis'],\n",
       " 'wormsJSON': {'MatchMethod': 'Not Matched',\n",
       "  'MatchString': 'Ruellia humilis',\n",
       "  'cacheDate': '2017-09-08T13:25:09.713342'}}"
      ]
     },
     "metadata": {},
     "output_type": "display_data"
    },
    {
     "name": "stdout",
     "output_type": "stream",
     "text": [
      "{'affected_rows': 1, '_execution_time': 0.077, 'success': True, 'auth_check': {'session': None, 'auth_level': 'Write', 'success': True, 'checked_relations': ['tir.tir']}}\n"
     ]
    },
    {
     "data": {
      "text/plain": [
       "{'baseQueryURL': 'http://www.marinespecies.org/rest/AphiaRecordsByName/Paspalum pubiflorum',\n",
       " 'followTaxonomy': 'true',\n",
       " 'id': 21018,\n",
       " 'matchMethod': 'Not Matched',\n",
       " 'matchString': 'Paspalum pubiflorum',\n",
       " 'tryNames': ['Paspalum pubiflorum'],\n",
       " 'wormsJSON': {'MatchMethod': 'Not Matched',\n",
       "  'MatchString': 'Paspalum pubiflorum',\n",
       "  'cacheDate': '2017-09-08T13:25:11.392414'}}"
      ]
     },
     "metadata": {},
     "output_type": "display_data"
    },
    {
     "name": "stdout",
     "output_type": "stream",
     "text": [
      "{'affected_rows': 1, '_execution_time': 0.079, 'success': True, 'auth_check': {'session': None, 'auth_level': 'Write', 'success': True, 'checked_relations': ['tir.tir']}}\n"
     ]
    },
    {
     "data": {
      "text/plain": [
       "{'baseQueryURL': 'http://www.marinespecies.org/rest/AphiaRecordsByName/Punctum blandianum',\n",
       " 'followTaxonomy': 'true',\n",
       " 'id': 21020,\n",
       " 'matchMethod': 'Not Matched',\n",
       " 'matchString': 'Punctum blandianum',\n",
       " 'tryNames': ['Punctum blandianum'],\n",
       " 'wormsJSON': {'MatchMethod': 'Not Matched',\n",
       "  'MatchString': 'Punctum blandianum',\n",
       "  'cacheDate': '2017-09-08T13:25:14.878519'}}"
      ]
     },
     "metadata": {},
     "output_type": "display_data"
    },
    {
     "name": "stdout",
     "output_type": "stream",
     "text": [
      "{'affected_rows': 1, '_execution_time': 0.077, 'success': True, 'auth_check': {'session': None, 'auth_level': 'Write', 'success': True, 'checked_relations': ['tir.tir']}}\n"
     ]
    },
    {
     "data": {
      "text/plain": [
       "{'baseQueryURL': 'http://www.marinespecies.org/rest/AphiaRecordsByName/Packera paupercula',\n",
       " 'followTaxonomy': 'true',\n",
       " 'id': 21021,\n",
       " 'matchMethod': 'Not Matched',\n",
       " 'matchString': 'Packera paupercula',\n",
       " 'tryNames': ['Packera paupercula'],\n",
       " 'wormsJSON': {'MatchMethod': 'Not Matched',\n",
       "  'MatchString': 'Packera paupercula',\n",
       "  'cacheDate': '2017-09-08T13:25:16.570629'}}"
      ]
     },
     "metadata": {},
     "output_type": "display_data"
    },
    {
     "name": "stdout",
     "output_type": "stream",
     "text": [
      "{'affected_rows': 1, '_execution_time': 0.077, 'success': True, 'auth_check': {'session': None, 'auth_level': 'Write', 'success': True, 'checked_relations': ['tir.tir']}}\n"
     ]
    },
    {
     "data": {
      "text/plain": [
       "{'baseQueryURL': 'http://www.marinespecies.org/rest/AphiaRecordsByName/Hudsonia tomentosa var tomentosa',\n",
       " 'followTaxonomy': 'true',\n",
       " 'id': 21022,\n",
       " 'matchMethod': 'Not Matched',\n",
       " 'matchString': 'Hudsonia tomentosa var tomentosa',\n",
       " 'tryNames': ['Hudsonia tomentosa var tomentosa'],\n",
       " 'wormsJSON': {'MatchMethod': 'Not Matched',\n",
       "  'MatchString': 'Hudsonia tomentosa var tomentosa',\n",
       "  'cacheDate': '2017-09-08T13:25:18.176458'}}"
      ]
     },
     "metadata": {},
     "output_type": "display_data"
    },
    {
     "name": "stdout",
     "output_type": "stream",
     "text": [
      "{'affected_rows': 1, '_execution_time': 0.076, 'success': True, 'auth_check': {'session': None, 'auth_level': 'Write', 'success': True, 'checked_relations': ['tir.tir']}}\n"
     ]
    },
    {
     "data": {
      "text/plain": [
       "{'baseQueryURL': 'http://www.marinespecies.org/rest/AphiaRecordsByName/Elymus trachycaulus ssp trachycaulus',\n",
       " 'followTaxonomy': 'true',\n",
       " 'id': 21023,\n",
       " 'matchMethod': 'Not Matched',\n",
       " 'matchString': 'Elymus trachycaulus ssp trachycaulus',\n",
       " 'tryNames': ['Elymus trachycaulus ssp trachycaulus'],\n",
       " 'wormsJSON': {'MatchMethod': 'Not Matched',\n",
       "  'MatchString': 'Elymus trachycaulus ssp trachycaulus',\n",
       "  'cacheDate': '2017-09-08T13:25:19.787795'}}"
      ]
     },
     "metadata": {},
     "output_type": "display_data"
    },
    {
     "name": "stdout",
     "output_type": "stream",
     "text": [
      "{'affected_rows': 1, '_execution_time': 0.078, 'success': True, 'auth_check': {'session': None, 'auth_level': 'Write', 'success': True, 'checked_relations': ['tir.tir']}}\n"
     ]
    },
    {
     "data": {
      "text/plain": [
       "{'baseQueryURL': 'http://www.marinespecies.org/rest/AphiaRecordsByName/Ventridens acerra',\n",
       " 'followTaxonomy': 'true',\n",
       " 'id': 21029,\n",
       " 'matchMethod': 'Not Matched',\n",
       " 'matchString': 'Ventridens acerra',\n",
       " 'tryNames': ['Ventridens acerra'],\n",
       " 'wormsJSON': {'MatchMethod': 'Not Matched',\n",
       "  'MatchString': 'Ventridens acerra',\n",
       "  'cacheDate': '2017-09-08T13:25:23.119761'}}"
      ]
     },
     "metadata": {},
     "output_type": "display_data"
    },
    {
     "name": "stdout",
     "output_type": "stream",
     "text": [
      "{'affected_rows': 1, '_execution_time': 0.077, 'success': True, 'auth_check': {'session': None, 'auth_level': 'Write', 'success': True, 'checked_relations': ['tir.tir']}}\n"
     ]
    },
    {
     "data": {
      "text/plain": [
       "{'baseQueryURL': 'http://www.marinespecies.org/rest/AphiaRecordsByName/Lobelia kalmii',\n",
       " 'followTaxonomy': 'true',\n",
       " 'id': 21030,\n",
       " 'matchMethod': 'Not Matched',\n",
       " 'matchString': 'Lobelia kalmii',\n",
       " 'tryNames': ['Lobelia kalmii'],\n",
       " 'wormsJSON': {'MatchMethod': 'Not Matched',\n",
       "  'MatchString': 'Lobelia kalmii',\n",
       "  'cacheDate': '2017-09-08T13:25:25.230415'}}"
      ]
     },
     "metadata": {},
     "output_type": "display_data"
    },
    {
     "name": "stdout",
     "output_type": "stream",
     "text": [
      "{'affected_rows': 1, '_execution_time': 0.076, 'success': True, 'auth_check': {'session': None, 'auth_level': 'Write', 'success': True, 'checked_relations': ['tir.tir']}}\n"
     ]
    },
    {
     "data": {
      "text/plain": [
       "{'baseQueryURL': 'http://www.marinespecies.org/rest/AphiaRecordsByName/Gymnocarpium appalachianum',\n",
       " 'followTaxonomy': 'true',\n",
       " 'id': 21033,\n",
       " 'matchMethod': 'Not Matched',\n",
       " 'matchString': 'Gymnocarpium appalachianum',\n",
       " 'tryNames': ['Gymnocarpium appalachianum'],\n",
       " 'wormsJSON': {'MatchMethod': 'Not Matched',\n",
       "  'MatchString': 'Gymnocarpium appalachianum',\n",
       "  'cacheDate': '2017-09-08T13:25:26.805617'}}"
      ]
     },
     "metadata": {},
     "output_type": "display_data"
    },
    {
     "name": "stdout",
     "output_type": "stream",
     "text": [
      "{'affected_rows': 1, '_execution_time': 0.084, 'success': True, 'auth_check': {'session': None, 'auth_level': 'Write', 'success': True, 'checked_relations': ['tir.tir']}}\n"
     ]
    },
    {
     "data": {
      "text/plain": [
       "{'baseQueryURL': 'http://www.marinespecies.org/rest/AphiaRecordsByName/Carex vesicaria',\n",
       " 'followTaxonomy': 'true',\n",
       " 'id': 21034,\n",
       " 'matchMethod': 'Not Matched',\n",
       " 'matchString': 'Carex vesicaria',\n",
       " 'tryNames': ['Carex vesicaria'],\n",
       " 'wormsJSON': {'MatchMethod': 'Not Matched',\n",
       "  'MatchString': 'Carex vesicaria',\n",
       "  'cacheDate': '2017-09-08T13:25:28.669627'}}"
      ]
     },
     "metadata": {},
     "output_type": "display_data"
    },
    {
     "name": "stdout",
     "output_type": "stream",
     "text": [
      "{'affected_rows': 1, '_execution_time': 0.078, 'success': True, 'auth_check': {'session': None, 'auth_level': 'Write', 'success': True, 'checked_relations': ['tir.tir']}}\n"
     ]
    },
    {
     "data": {
      "text/plain": [
       "{'baseQueryURL': 'http://www.marinespecies.org/rest/AphiaRecordsByName/Fraxinus quadrangulata',\n",
       " 'followTaxonomy': 'true',\n",
       " 'id': 21036,\n",
       " 'matchMethod': 'Not Matched',\n",
       " 'matchString': 'Fraxinus quadrangulata',\n",
       " 'tryNames': ['Fraxinus quadrangulata'],\n",
       " 'wormsJSON': {'MatchMethod': 'Not Matched',\n",
       "  'MatchString': 'Fraxinus quadrangulata',\n",
       "  'cacheDate': '2017-09-08T13:25:30.331370'}}"
      ]
     },
     "metadata": {},
     "output_type": "display_data"
    },
    {
     "name": "stdout",
     "output_type": "stream",
     "text": [
      "{'affected_rows': 1, '_execution_time': 0.078, 'success': True, 'auth_check': {'session': None, 'auth_level': 'Write', 'success': True, 'checked_relations': ['tir.tir']}}\n"
     ]
    },
    {
     "data": {
      "text/plain": [
       "{'baseQueryURL': 'http://www.marinespecies.org/rest/AphiaRecordsByName/Pycnanthemum clinopodioides',\n",
       " 'followTaxonomy': 'true',\n",
       " 'id': 21037,\n",
       " 'matchMethod': 'Not Matched',\n",
       " 'matchString': 'Pycnanthemum clinopodioides',\n",
       " 'tryNames': ['Pycnanthemum clinopodioides'],\n",
       " 'wormsJSON': {'MatchMethod': 'Not Matched',\n",
       "  'MatchString': 'Pycnanthemum clinopodioides',\n",
       "  'cacheDate': '2017-09-08T13:25:34.108033'}}"
      ]
     },
     "metadata": {},
     "output_type": "display_data"
    },
    {
     "name": "stdout",
     "output_type": "stream",
     "text": [
      "{'affected_rows': 1, '_execution_time': 0.077, 'success': True, 'auth_check': {'session': None, 'auth_level': 'Write', 'success': True, 'checked_relations': ['tir.tir']}}\n"
     ]
    },
    {
     "data": {
      "text/plain": [
       "{'baseQueryURL': 'http://www.marinespecies.org/rest/AphiaRecordsByName/Colias interior',\n",
       " 'followTaxonomy': 'true',\n",
       " 'id': 21043,\n",
       " 'matchMethod': 'Not Matched',\n",
       " 'matchString': 'Colias interior',\n",
       " 'tryNames': ['Colias interior'],\n",
       " 'wormsJSON': {'MatchMethod': 'Not Matched',\n",
       "  'MatchString': 'Colias interior',\n",
       "  'cacheDate': '2017-09-08T13:25:35.723899'}}"
      ]
     },
     "metadata": {},
     "output_type": "display_data"
    },
    {
     "name": "stdout",
     "output_type": "stream",
     "text": [
      "{'affected_rows': 1, '_execution_time': 0.077, 'success': True, 'auth_check': {'session': None, 'auth_level': 'Write', 'success': True, 'checked_relations': ['tir.tir']}}\n"
     ]
    },
    {
     "data": {
      "text/plain": [
       "{'baseQueryURL': 'http://www.marinespecies.org/rest/AphiaRecordsByName/Pseudanophthalmus',\n",
       " 'followTaxonomy': 'true',\n",
       " 'id': 21044,\n",
       " 'matchMethod': 'Not Matched',\n",
       " 'matchString': 'Pseudanophthalmus',\n",
       " 'tryNames': ['Pseudanophthalmus'],\n",
       " 'wormsJSON': {'MatchMethod': 'Not Matched',\n",
       "  'MatchString': 'Pseudanophthalmus',\n",
       "  'cacheDate': '2017-09-08T13:25:37.326244'}}"
      ]
     },
     "metadata": {},
     "output_type": "display_data"
    },
    {
     "name": "stdout",
     "output_type": "stream",
     "text": [
      "{'affected_rows': 1, '_execution_time': 0.077, 'success': True, 'auth_check': {'session': None, 'auth_level': 'Write', 'success': True, 'checked_relations': ['tir.tir']}}\n"
     ]
    },
    {
     "data": {
      "text/plain": [
       "{'baseQueryURL': 'http://www.marinespecies.org/rest/AphiaRecordsByName/Rorippa sessiliflora',\n",
       " 'followTaxonomy': 'true',\n",
       " 'id': 21045,\n",
       " 'matchMethod': 'Not Matched',\n",
       " 'matchString': 'Rorippa sessiliflora',\n",
       " 'tryNames': ['Rorippa sessiliflora'],\n",
       " 'wormsJSON': {'MatchMethod': 'Not Matched',\n",
       "  'MatchString': 'Rorippa sessiliflora',\n",
       "  'cacheDate': '2017-09-08T13:25:38.978120'}}"
      ]
     },
     "metadata": {},
     "output_type": "display_data"
    },
    {
     "name": "stdout",
     "output_type": "stream",
     "text": [
      "{'affected_rows': 1, '_execution_time': 0.077, 'success': True, 'auth_check': {'session': None, 'auth_level': 'Write', 'success': True, 'checked_relations': ['tir.tir']}}\n"
     ]
    },
    {
     "data": {
      "text/plain": [
       "{'baseQueryURL': 'http://www.marinespecies.org/rest/AphiaRecordsByName/Eupatorium pilosum',\n",
       " 'followTaxonomy': 'true',\n",
       " 'id': 21048,\n",
       " 'matchMethod': 'Not Matched',\n",
       " 'matchString': 'Eupatorium pilosum',\n",
       " 'tryNames': ['Eupatorium pilosum'],\n",
       " 'wormsJSON': {'MatchMethod': 'Not Matched',\n",
       "  'MatchString': 'Eupatorium pilosum',\n",
       "  'cacheDate': '2017-09-08T13:25:42.010674'}}"
      ]
     },
     "metadata": {},
     "output_type": "display_data"
    },
    {
     "name": "stdout",
     "output_type": "stream",
     "text": [
      "{'affected_rows': 1, '_execution_time': 0.083, 'success': True, 'auth_check': {'session': None, 'auth_level': 'Write', 'success': True, 'checked_relations': ['tir.tir']}}\n"
     ]
    },
    {
     "data": {
      "text/plain": [
       "{'baseQueryURL': 'http://www.marinespecies.org/rest/AphiaRecordsByName/Abies balsamea',\n",
       " 'followTaxonomy': 'true',\n",
       " 'id': 21051,\n",
       " 'matchMethod': 'Not Matched',\n",
       " 'matchString': 'Abies balsamea',\n",
       " 'tryNames': ['Abies balsamea'],\n",
       " 'wormsJSON': {'MatchMethod': 'Not Matched',\n",
       "  'MatchString': 'Abies balsamea',\n",
       "  'cacheDate': '2017-09-08T13:25:44.549519'}}"
      ]
     },
     "metadata": {},
     "output_type": "display_data"
    },
    {
     "name": "stdout",
     "output_type": "stream",
     "text": [
      "{'affected_rows': 1, '_execution_time': 0.078, 'success': True, 'auth_check': {'session': None, 'auth_level': 'Write', 'success': True, 'checked_relations': ['tir.tir']}}\n"
     ]
    },
    {
     "data": {
      "text/plain": [
       "{'baseQueryURL': 'http://www.marinespecies.org/rest/AphiaRecordsByName/Oryzopsis asperifolia',\n",
       " 'followTaxonomy': 'true',\n",
       " 'id': 21053,\n",
       " 'matchMethod': 'Not Matched',\n",
       " 'matchString': 'Oryzopsis asperifolia',\n",
       " 'tryNames': ['Oryzopsis asperifolia'],\n",
       " 'wormsJSON': {'MatchMethod': 'Not Matched',\n",
       "  'MatchString': 'Oryzopsis asperifolia',\n",
       "  'cacheDate': '2017-09-08T13:25:46.222075'}}"
      ]
     },
     "metadata": {},
     "output_type": "display_data"
    },
    {
     "name": "stdout",
     "output_type": "stream",
     "text": [
      "{'affected_rows': 1, '_execution_time': 0.078, 'success': True, 'auth_check': {'session': None, 'auth_level': 'Write', 'success': True, 'checked_relations': ['tir.tir']}}\n"
     ]
    },
    {
     "data": {
      "text/plain": [
       "{'baseQueryURL': 'http://www.marinespecies.org/rest/AphiaRecordsByName/Sibara virginica',\n",
       " 'followTaxonomy': 'true',\n",
       " 'id': 21054,\n",
       " 'matchMethod': 'Not Matched',\n",
       " 'matchString': 'Sibara virginica',\n",
       " 'tryNames': ['Sibara virginica'],\n",
       " 'wormsJSON': {'MatchMethod': 'Not Matched',\n",
       "  'MatchString': 'Sibara virginica',\n",
       "  'cacheDate': '2017-09-08T13:25:47.842232'}}"
      ]
     },
     "metadata": {},
     "output_type": "display_data"
    },
    {
     "name": "stdout",
     "output_type": "stream",
     "text": [
      "{'affected_rows': 1, '_execution_time': 0.081, 'success': True, 'auth_check': {'session': None, 'auth_level': 'Write', 'success': True, 'checked_relations': ['tir.tir']}}\n"
     ]
    },
    {
     "data": {
      "text/plain": [
       "{'baseQueryURL': 'http://www.marinespecies.org/rest/AphiaRecordsByName/Packera antennariifolia',\n",
       " 'followTaxonomy': 'true',\n",
       " 'id': 21056,\n",
       " 'matchMethod': 'Not Matched',\n",
       " 'matchString': 'Packera antennariifolia',\n",
       " 'tryNames': ['Packera antennariifolia'],\n",
       " 'wormsJSON': {'MatchMethod': 'Not Matched',\n",
       "  'MatchString': 'Packera antennariifolia',\n",
       "  'cacheDate': '2017-09-08T13:25:49.395059'}}"
      ]
     },
     "metadata": {},
     "output_type": "display_data"
    },
    {
     "name": "stdout",
     "output_type": "stream",
     "text": [
      "{'affected_rows': 1, '_execution_time': 0.077, 'success': True, 'auth_check': {'session': None, 'auth_level': 'Write', 'success': True, 'checked_relations': ['tir.tir']}}\n"
     ]
    },
    {
     "data": {
      "text/plain": [
       "{'baseQueryURL': 'http://www.marinespecies.org/rest/AphiaRecordsByName/Celastrina lucia',\n",
       " 'followTaxonomy': 'true',\n",
       " 'id': 21059,\n",
       " 'matchMethod': 'Not Matched',\n",
       " 'matchString': 'Celastrina lucia',\n",
       " 'tryNames': ['Celastrina lucia'],\n",
       " 'wormsJSON': {'MatchMethod': 'Not Matched',\n",
       "  'MatchString': 'Celastrina lucia',\n",
       "  'cacheDate': '2017-09-08T13:25:52.051870'}}"
      ]
     },
     "metadata": {},
     "output_type": "display_data"
    },
    {
     "name": "stdout",
     "output_type": "stream",
     "text": [
      "{'affected_rows': 1, '_execution_time': 0.083, 'success': True, 'auth_check': {'session': None, 'auth_level': 'Write', 'success': True, 'checked_relations': ['tir.tir']}}\n"
     ]
    },
    {
     "data": {
      "text/plain": [
       "{'baseQueryURL': 'http://www.marinespecies.org/rest/AphiaRecordsByName/Carex novae-angliae',\n",
       " 'followTaxonomy': 'true',\n",
       " 'id': 21060,\n",
       " 'matchMethod': 'Not Matched',\n",
       " 'matchString': 'Carex novae-angliae',\n",
       " 'tryNames': ['Carex novae-angliae'],\n",
       " 'wormsJSON': {'MatchMethod': 'Not Matched',\n",
       "  'MatchString': 'Carex novae-angliae',\n",
       "  'cacheDate': '2017-09-08T13:25:54.911713'}}"
      ]
     },
     "metadata": {},
     "output_type": "display_data"
    },
    {
     "name": "stdout",
     "output_type": "stream",
     "text": [
      "{'affected_rows': 1, '_execution_time': 0.077, 'success': True, 'auth_check': {'session': None, 'auth_level': 'Write', 'success': True, 'checked_relations': ['tir.tir']}}\n"
     ]
    },
    {
     "data": {
      "text/plain": [
       "{'baseQueryURL': 'http://www.marinespecies.org/rest/AphiaRecordsByName/Asclepias hirtella',\n",
       " 'followTaxonomy': 'true',\n",
       " 'id': 21065,\n",
       " 'matchMethod': 'Not Matched',\n",
       " 'matchString': 'Asclepias hirtella',\n",
       " 'tryNames': ['Asclepias hirtella'],\n",
       " 'wormsJSON': {'MatchMethod': 'Not Matched',\n",
       "  'MatchString': 'Asclepias hirtella',\n",
       "  'cacheDate': '2017-09-08T13:25:56.545484'}}"
      ]
     },
     "metadata": {},
     "output_type": "display_data"
    },
    {
     "name": "stdout",
     "output_type": "stream",
     "text": [
      "{'affected_rows': 1, '_execution_time': 0.077, 'success': True, 'auth_check': {'session': None, 'auth_level': 'Write', 'success': True, 'checked_relations': ['tir.tir']}}\n"
     ]
    },
    {
     "data": {
      "text/plain": [
       "{'baseQueryURL': 'http://www.marinespecies.org/rest/AphiaRecordsByName/Desmodium lineatum',\n",
       " 'followTaxonomy': 'true',\n",
       " 'id': 21068,\n",
       " 'matchMethod': 'Not Matched',\n",
       " 'matchString': 'Desmodium lineatum',\n",
       " 'tryNames': ['Desmodium lineatum'],\n",
       " 'wormsJSON': {'MatchMethod': 'Not Matched',\n",
       "  'MatchString': 'Desmodium lineatum',\n",
       "  'cacheDate': '2017-09-08T13:25:58.143615'}}"
      ]
     },
     "metadata": {},
     "output_type": "display_data"
    },
    {
     "name": "stdout",
     "output_type": "stream",
     "text": [
      "{'affected_rows': 1, '_execution_time': 0.078, 'success': True, 'auth_check': {'session': None, 'auth_level': 'Write', 'success': True, 'checked_relations': ['tir.tir']}}\n"
     ]
    },
    {
     "data": {
      "text/plain": [
       "{'baseQueryURL': 'http://www.marinespecies.org/rest/AphiaRecordsByName/Carex careyana',\n",
       " 'followTaxonomy': 'true',\n",
       " 'id': 21069,\n",
       " 'matchMethod': 'Not Matched',\n",
       " 'matchString': 'Carex careyana',\n",
       " 'tryNames': ['Carex careyana'],\n",
       " 'wormsJSON': {'MatchMethod': 'Not Matched',\n",
       "  'MatchString': 'Carex careyana',\n",
       "  'cacheDate': '2017-09-08T13:26:01.199002'}}"
      ]
     },
     "metadata": {},
     "output_type": "display_data"
    },
    {
     "name": "stdout",
     "output_type": "stream",
     "text": [
      "{'affected_rows': 1, '_execution_time': 0.077, 'success': True, 'auth_check': {'session': None, 'auth_level': 'Write', 'success': True, 'checked_relations': ['tir.tir']}}\n"
     ]
    },
    {
     "data": {
      "text/plain": [
       "{'baseQueryURL': 'http://www.marinespecies.org/rest/AphiaRecordsByName/Piptochaetium avenaceum',\n",
       " 'followTaxonomy': 'true',\n",
       " 'id': 21072,\n",
       " 'matchMethod': 'Not Matched',\n",
       " 'matchString': 'Piptochaetium avenaceum',\n",
       " 'tryNames': ['Piptochaetium avenaceum'],\n",
       " 'wormsJSON': {'MatchMethod': 'Not Matched',\n",
       "  'MatchString': 'Piptochaetium avenaceum',\n",
       "  'cacheDate': '2017-09-08T13:26:04.132761'}}"
      ]
     },
     "metadata": {},
     "output_type": "display_data"
    },
    {
     "name": "stdout",
     "output_type": "stream",
     "text": [
      "{'affected_rows': 1, '_execution_time': 0.077, 'success': True, 'auth_check': {'session': None, 'auth_level': 'Write', 'success': True, 'checked_relations': ['tir.tir']}}\n"
     ]
    }
   ],
   "source": [
    "# Set up the actions/targets for this particular instance\n",
    "thisRun = {}\n",
    "thisRun[\"instance\"] = \"DataDistillery\"\n",
    "thisRun[\"db\"] = \"BCB\"\n",
    "thisRun[\"baseURL\"] = gc2.sqlAPI(thisRun[\"instance\"],thisRun[\"db\"])\n",
    "thisRun[\"commitToDB\"] = True\n",
    "thisRun[\"totalRecordsToProcess\"] = 500\n",
    "thisRun[\"totalRecordsProcessed\"] = 0\n",
    "thisRun[\"wormsNameService\"] = \"http://www.marinespecies.org/rest/AphiaRecordsByName/\"\n",
    "thisRun[\"wormsIDService\"] = \"http://www.marinespecies.org/rest/AphiaRecordByAphiaID/\"\n",
    "\n",
    "numberWithoutTIRData = 1\n",
    "\n",
    "while numberWithoutTIRData == 1 and thisRun[\"totalRecordsProcessed\"] < thisRun[\"totalRecordsToProcess\"]:\n",
    "    q_recordToSearch = \"SELECT id, \\\n",
    "        registration->>'source' AS source, \\\n",
    "        registration->>'followTaxonomy' AS followtaxonomy, \\\n",
    "        registration->>'taxonomicLookupProperty' AS taxonomiclookupproperty, \\\n",
    "        registration->>'scientificname' AS scientificname, \\\n",
    "        itis->>'nameWInd' AS nameWInd, \\\n",
    "        itis->>'nameWOInd' AS nameWOInd \\\n",
    "        FROM tir.tir \\\n",
    "        WHERE worms IS NULL \\\n",
    "        LIMIT 1\"\n",
    "    recordToSearch  = requests.get(gc2.sqlAPI(\"DataDistillery\",\"BCB\")+\"&q=\"+q_recordToSearch).json()\n",
    "    \n",
    "    numberWithoutTIRData = len(recordToSearch[\"features\"])\n",
    "\n",
    "    if numberWithoutTIRData == 1:\n",
    "        tirRecord = recordToSearch[\"features\"][0]\n",
    "\n",
    "        # Set up a local data structure for storage and processing\n",
    "        thisRecord = {}\n",
    "        \n",
    "        # Set data from query results\n",
    "        thisRecord[\"id\"] = tirRecord[\"properties\"][\"id\"]\n",
    "        thisRecord[\"followTaxonomy\"] = tirRecord[\"properties\"][\"followtaxonomy\"]\n",
    "\n",
    "        thisRecord[\"tryNames\"] = []\n",
    "        thisRecord[\"tryNames\"].append(bis.cleanScientificName(tirRecord[\"properties\"][\"scientificname\"]))\n",
    "        if tirRecord[\"properties\"][\"namewind\"] is not None and tirRecord[\"properties\"][\"namewind\"] not in thisRecord[\"tryNames\"]:\n",
    "            thisRecord[\"tryNames\"].append(tirRecord[\"properties\"][\"namewind\"])\n",
    "        if tirRecord[\"properties\"][\"namewoind\"] is not None and tirRecord[\"properties\"][\"namewoind\"] not in thisRecord[\"tryNames\"]:\n",
    "            thisRecord[\"tryNames\"].append(tirRecord[\"properties\"][\"namewoind\"])\n",
    "        \n",
    "        # Set defaults for thisRecord\n",
    "        thisRecord[\"matchMethod\"] = \"Not Matched\"\n",
    "        wormsData = 0\n",
    "\n",
    "        # Handle cases where cleaning the Scientific Name resulted in a single blank value to search on\n",
    "        if len(thisRecord[\"tryNames\"]) == 1 and len(thisRecord[\"tryNames\"][0]) == 0:\n",
    "            thisRecord[\"matchString\"] = tirRecord[\"properties\"][\"scientificname\"]\n",
    "            thisRecord[\"tryNames\"] = []\n",
    "\n",
    "        for name in thisRecord[\"tryNames\"]:\n",
    "            # Handle the cases where there is enough interesting stuff in the scientific name string that it comes back blank from the cleaners\n",
    "            if len(name) != 0:\n",
    "                thisRecord[\"matchString\"] = name\n",
    "                thisRecord[\"baseQueryURL\"] = thisRun[\"wormsNameService\"]+name\n",
    "                wormsSearchResults = requests.get(thisRecord[\"baseQueryURL\"]+\"?like=false&marine_only=false&offset=1\")\n",
    "                if wormsSearchResults.status_code == 204 or wormsSearchResults.json()[0][\"valid_name\"] is None:\n",
    "                    wormsSearchResults = requests.get(thisRecord[\"baseQueryURL\"]+\"?like=true&marine_only=false&offset=1\")\n",
    "                    if wormsSearchResults.status_code != 204 and wormsSearchResults.json()[0][\"valid_name\"] is not None:\n",
    "                        wormsData = wormsSearchResults.json()[0]\n",
    "                        thisRecord[\"matchMethod\"] = \"Fuzzy Match\"\n",
    "                else:\n",
    "                    wormsData = wormsSearchResults.json()[0]\n",
    "                    thisRecord[\"matchMethod\"] = \"Exact Match\"\n",
    "                    break\n",
    "        \n",
    "        if not type(wormsData) == int and wormsData[\"status\"] != \"accepted\" and thisRecord[\"followTaxonomy\"] == \"true\":\n",
    "            validAphiaID = str(wormsData[\"valid_AphiaID\"])\n",
    "            wormsSearchResults = requests.get(thisRun[\"wormsIDService\"]+validAphiaID)\n",
    "            if wormsSearchResults.status_code != 204 and wormsSearchResults.json()[\"valid_name\"] is not None:\n",
    "                wormsData = wormsSearchResults.json()\n",
    "                thisRecord[\"matchString\"] = validAphiaID\n",
    "                thisRecord[\"matchMethod\"] = \"Followed Accepted AphiaID\"\n",
    "        \n",
    "        thisRecord[\"wormsJSON\"] = worms.packageWoRMSJSON(thisRecord[\"matchMethod\"],thisRecord[\"matchString\"],wormsData)\n",
    "        display (thisRecord)\n",
    "        if thisRun[\"commitToDB\"]:\n",
    "            print (tir.cacheToTIR(gc2.sqlAPI(\"DataDistillery\",\"BCB\"),thisRecord[\"id\"],\"worms\",json.dumps(thisRecord[\"wormsJSON\"])))\n",
    "        thisRun[\"totalRecordsProcessed\"] = thisRun[\"totalRecordsProcessed\"] + 1\n"
   ]
  },
  {
   "cell_type": "code",
   "execution_count": 8,
   "metadata": {
    "collapsed": false,
    "deletable": true,
    "editable": true,
    "scrolled": false
   },
   "outputs": [
    {
     "name": "stdout",
     "output_type": "stream",
     "text": [
      "Number without WoRMS: 0\n"
     ]
    }
   ],
   "source": [
    "print (\"Number without WoRMS: \"+str(requests.get(gc2.sqlAPI(\"DataDistillery\",\"BCB\")+\"&q=SELECT count(*) AS num FROM tir.tir WHERE worms IS NULL\").json()[\"features\"][0][\"properties\"][\"num\"]))"
   ]
  },
  {
   "cell_type": "code",
   "execution_count": null,
   "metadata": {
    "collapsed": true,
    "deletable": true,
    "editable": true
   },
   "outputs": [],
   "source": []
  }
 ],
 "metadata": {
  "kernelspec": {
   "display_name": "Python 3",
   "language": "python",
   "name": "python3"
  },
  "language_info": {
   "codemirror_mode": {
    "name": "ipython",
    "version": 3
   },
   "file_extension": ".py",
   "mimetype": "text/x-python",
   "name": "python",
   "nbconvert_exporter": "python",
   "pygments_lexer": "ipython3",
   "version": "3.5.3"
  }
 },
 "nbformat": 4,
 "nbformat_minor": 0
}
