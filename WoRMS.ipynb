{
 "cells": [
  {
   "cell_type": "code",
   "execution_count": 1,
   "metadata": {
    "collapsed": true,
    "deletable": true,
    "editable": true
   },
   "outputs": [],
   "source": [
    "import requests,configparser,re\n",
    "from IPython.display import display"
   ]
  },
  {
   "cell_type": "code",
   "execution_count": 2,
   "metadata": {
    "collapsed": true,
    "deletable": true,
    "editable": true
   },
   "outputs": [],
   "source": [
    "# Get API keys and any other config details from a file that is external to the code.\n",
    "config = configparser.RawConfigParser()\n",
    "config.read_file(open(r'../config/stuff.py'))"
   ]
  },
  {
   "cell_type": "code",
   "execution_count": 3,
   "metadata": {
    "collapsed": true,
    "deletable": true,
    "editable": true
   },
   "outputs": [],
   "source": [
    "# Build base URL with API key using input from the external config.\n",
    "def getBaseURL():\n",
    "    gc2APIKey = config.get('apiKeys','apiKey_GC2_BCB').replace('\"','')\n",
    "    apiBaseURL = \"https://gc2.mapcentia.com/api/v1/sql/bcb?key=\"+gc2APIKey\n",
    "    return apiBaseURL"
   ]
  },
  {
   "cell_type": "code",
   "execution_count": 4,
   "metadata": {
    "collapsed": true,
    "deletable": true,
    "editable": true
   },
   "outputs": [],
   "source": [
    "# There are a few things that we've found in the name strings that, if removed or modified, will result in a valid taxon name string for the ITIS service\n",
    "def cleanScientificName(scientificname):\n",
    "    # Get rid of \"pop.\" from the string to enable the search to find a match without whatever population indicator is in the string\n",
    "    if scientificname.find(\"pop.\"):\n",
    "        nameParts = scientificname.split()\n",
    "        regex = re.compile(r'pop\\.[0-9]')\n",
    "        scientificname = ' '.join([i for i in nameParts if not regex.search(i)])\n",
    "\n",
    "    # Get rid of \"spp.\" from the string, and it should find a genus match\n",
    "    if scientificname.find(\"spp.\"):\n",
    "        nameParts = scientificname.split()\n",
    "        regex = re.compile(r'spp\\.')\n",
    "        scientificname = ' '.join([i for i in nameParts if not regex.search(i)])\n",
    "    \n",
    "    # Clean up all upper case strings because the ITIS service doesn't like them\n",
    "    if any(x.isupper() for x in scientificname[-(len(scientificname)-1):]):\n",
    "        scientificname = scientificname.lower().capitalize()\n",
    "    \n",
    "    # Get rid of text in parens and brackets; this is a design decision to potentially do away with information that might be important, but it gets retained in the original records\n",
    "    scientificname = re.sub(\"[\\(\\[].*?[\\)\\]]\", \"\", scientificname)\n",
    "    scientificname = scientificname.replace(\"  \",\" \")\n",
    "\n",
    "    return scientificname"
   ]
  },
  {
   "cell_type": "code",
   "execution_count": 12,
   "metadata": {
    "collapsed": true,
    "deletable": true,
    "editable": true
   },
   "outputs": [],
   "source": [
    "def getWoRMSSearchURL(searchType,target):\n",
    "    if searchType == \"ExactName\":\n",
    "        return  \"http://www.marinespecies.org/rest/AphiaRecordsByName/\"+target+\"?like=false\"\n",
    "    elif searchType == \"FuzzyName\":\n",
    "        return  \"http://www.marinespecies.org/rest/AphiaRecordsByName/\"+target+\"?like=true\"\n",
    "    elif searchType == \"AphiaID\":\n",
    "        return \"http://www.marinespecies.org/rest/AphiaRecordByAphiaID/\"+target"
   ]
  },
  {
   "cell_type": "code",
   "execution_count": 5,
   "metadata": {
    "collapsed": true,
    "deletable": true,
    "editable": true
   },
   "outputs": [],
   "source": [
    "# Pair worms properties that we want to cache\n",
    "def packageWoRMSPairs(matchMethod,wormsData):\n",
    "    import datetime\n",
    "    dt = datetime.datetime.utcnow().isoformat()\n",
    "    wormsPairs = '\"cacheDate\"=>\"'+dt+'\"'\n",
    "    wormsPairs = wormsPairs+',\"wormsMatchMethod\"=>\"'+matchMethod+'\"'\n",
    "\n",
    "    if type(wormsData) is int:\n",
    "        return wormsPairs\n",
    "    else:\n",
    "        try:\n",
    "            wormsPairs = wormsPairs+',\"AphiaID\"=>\"'+str(wormsData['AphiaID'])+'\"'\n",
    "            wormsPairs = wormsPairs+',\"scientificname\"=>\"'+wormsData['scientificname']+'\"'\n",
    "            wormsPairs = wormsPairs+',\"status\"=>\"'+wormsData['status']+'\"'\n",
    "            wormsPairs = wormsPairs+',\"rank\"=>\"'+wormsData['rank']+'\"'\n",
    "            wormsPairs = wormsPairs+',\"valid_name\"=>\"'+wormsData['valid_name']+'\"'\n",
    "            try:\n",
    "                wormsPairs = wormsPairs+',\"valid_AphiaID\"=>\"'+str(wormsData['valid_AphiaID'])+'\"'\n",
    "            except:\n",
    "                pass\n",
    "            wormsPairs = wormsPairs+',\"kingdom\"=>\"'+wormsData['kingdom']+'\"'\n",
    "            wormsPairs = wormsPairs+',\"phylum\"=>\"'+wormsData['phylum']+'\"'\n",
    "            wormsPairs = wormsPairs+',\"class\"=>\"'+wormsData['class']+'\"'\n",
    "            wormsPairs = wormsPairs+',\"order\"=>\"'+wormsData['order']+'\"'\n",
    "            wormsPairs = wormsPairs+',\"family\"=>\"'+wormsData['family']+'\"'\n",
    "            wormsPairs = wormsPairs+',\"genus\"=>\"'+wormsData['genus']+'\"'\n",
    "            wormsPairs = wormsPairs+',\"lsid\"=>\"'+wormsData['lsid']+'\"'\n",
    "            wormsPairs = wormsPairs+',\"isMarine\"=>\"'+str(wormsData['isMarine'])+'\"'\n",
    "            wormsPairs = wormsPairs+',\"isBrackish\"=>\"'+str(wormsData['isBrackish'])+'\"'\n",
    "            wormsPairs = wormsPairs+',\"isFreshwater\"=>\"'+str(wormsData['isFreshwater'])+'\"'\n",
    "            wormsPairs = wormsPairs+',\"isTerrestrial\"=>\"'+str(wormsData['isTerrestrial'])+'\"'\n",
    "            wormsPairs = wormsPairs+',\"isExtinct\"=>\"'+str(wormsData['isExtinct'])+'\"'\n",
    "            wormsPairs = wormsPairs+',\"match_type\"=>\"'+wormsData['match_type']+'\"'\n",
    "            wormsPairs = wormsPairs+',\"modified\"=>\"'+wormsData['modified']+'\"'\n",
    "        except:\n",
    "            display (wormsData)\n",
    "\n",
    "        return wormsPairs"
   ]
  },
  {
   "cell_type": "code",
   "execution_count": 6,
   "metadata": {
    "collapsed": true,
    "deletable": true,
    "editable": true
   },
   "outputs": [],
   "source": [
    "# Basic function to insert subject ID, property, and value into tircache\n",
    "def cacheToTIR(gid,infotype,pairs):\n",
    "    import requests\n",
    "    updateQ = \"UPDATE tir.tir2 SET \"+infotype+\" = '\"+pairs+\"' WHERE gid = \"+str(gid)\n",
    "    r = requests.get(getBaseURL()+\"&q=\"+updateQ).json()\n",
    "    return r"
   ]
  },
  {
   "cell_type": "code",
   "execution_count": 10,
   "metadata": {
    "collapsed": false,
    "deletable": true,
    "editable": true
   },
   "outputs": [],
   "source": [
    "# Query for the registered names we want to run through the system\n",
    "uniqueNames  = requests.get(getBaseURL()+\"&q=SELECT gid,registration->'SGCN_ScientificName_Submitted' AS scientificname,itis->'nameWOInd' AS itisNameWOInd,itis->'nameWInd' AS itisNameWInd FROM tir.tir2 WHERE worms IS NULL AND itis->'itisMatchMethod' NOT LIKE 'NotMatched%' LIMIT 25\").json()\n",
    "\n"
   ]
  },
  {
   "cell_type": "code",
   "execution_count": 13,
   "metadata": {
    "collapsed": false,
    "deletable": true,
    "editable": true
   },
   "outputs": [
    {
     "name": "stdout",
     "output_type": "stream",
     "text": [
      "http://www.marinespecies.org/rest/AphiaRecordsByName/Batrachoseps stebbinsi?like=false\n"
     ]
    },
    {
     "ename": "JSONDecodeError",
     "evalue": "Expecting value: line 1 column 1 (char 0)",
     "output_type": "error",
     "traceback": [
      "\u001b[0;31m---------------------------------------------------------------------------\u001b[0m",
      "\u001b[0;31mJSONDecodeError\u001b[0m                           Traceback (most recent call last)",
      "\u001b[0;32m<ipython-input-13-31ceb5d3a53a>\u001b[0m in \u001b[0;36m<module>\u001b[0;34m()\u001b[0m\n\u001b[1;32m     19\u001b[0m         \u001b[0mprint\u001b[0m \u001b[0;34m(\u001b[0m\u001b[0mthisRecord\u001b[0m\u001b[0;34m[\u001b[0m\u001b[0;34m\"wormsExactSearchURL\"\u001b[0m\u001b[0;34m]\u001b[0m\u001b[0;34m)\u001b[0m\u001b[0;34m\u001b[0m\u001b[0m\n\u001b[1;32m     20\u001b[0m \u001b[0;34m\u001b[0m\u001b[0m\n\u001b[0;32m---> 21\u001b[0;31m         \u001b[0mwormsSearchResults\u001b[0m \u001b[0;34m=\u001b[0m \u001b[0mrequests\u001b[0m\u001b[0;34m.\u001b[0m\u001b[0mget\u001b[0m\u001b[0;34m(\u001b[0m\u001b[0mthisRecord\u001b[0m\u001b[0;34m[\u001b[0m\u001b[0;34m\"wormsExactSearchURL\"\u001b[0m\u001b[0;34m]\u001b[0m\u001b[0;34m)\u001b[0m\u001b[0;34m.\u001b[0m\u001b[0mjson\u001b[0m\u001b[0;34m(\u001b[0m\u001b[0;34m)\u001b[0m\u001b[0;34m\u001b[0m\u001b[0m\n\u001b[0m\u001b[1;32m     22\u001b[0m         \u001b[0mdisplay\u001b[0m \u001b[0;34m(\u001b[0m\u001b[0mwormsSearchResults\u001b[0m\u001b[0;34m)\u001b[0m\u001b[0;34m\u001b[0m\u001b[0m\n\u001b[1;32m     23\u001b[0m \u001b[0;34m\u001b[0m\u001b[0m\n",
      "\u001b[0;32m/Users/sky/anaconda/lib/python3.5/site-packages/requests/models.py\u001b[0m in \u001b[0;36mjson\u001b[0;34m(self, **kwargs)\u001b[0m\n\u001b[1;32m    864\u001b[0m                     \u001b[0;31m# used.\u001b[0m\u001b[0;34m\u001b[0m\u001b[0;34m\u001b[0m\u001b[0m\n\u001b[1;32m    865\u001b[0m                     \u001b[0;32mpass\u001b[0m\u001b[0;34m\u001b[0m\u001b[0m\n\u001b[0;32m--> 866\u001b[0;31m         \u001b[0;32mreturn\u001b[0m \u001b[0mcomplexjson\u001b[0m\u001b[0;34m.\u001b[0m\u001b[0mloads\u001b[0m\u001b[0;34m(\u001b[0m\u001b[0mself\u001b[0m\u001b[0;34m.\u001b[0m\u001b[0mtext\u001b[0m\u001b[0;34m,\u001b[0m \u001b[0;34m**\u001b[0m\u001b[0mkwargs\u001b[0m\u001b[0;34m)\u001b[0m\u001b[0;34m\u001b[0m\u001b[0m\n\u001b[0m\u001b[1;32m    867\u001b[0m \u001b[0;34m\u001b[0m\u001b[0m\n\u001b[1;32m    868\u001b[0m     \u001b[0;34m@\u001b[0m\u001b[0mproperty\u001b[0m\u001b[0;34m\u001b[0m\u001b[0m\n",
      "\u001b[0;32m/Users/sky/anaconda/lib/python3.5/json/__init__.py\u001b[0m in \u001b[0;36mloads\u001b[0;34m(s, encoding, cls, object_hook, parse_float, parse_int, parse_constant, object_pairs_hook, **kw)\u001b[0m\n\u001b[1;32m    317\u001b[0m             \u001b[0mparse_int\u001b[0m \u001b[0;32mis\u001b[0m \u001b[0;32mNone\u001b[0m \u001b[0;32mand\u001b[0m \u001b[0mparse_float\u001b[0m \u001b[0;32mis\u001b[0m \u001b[0;32mNone\u001b[0m \u001b[0;32mand\u001b[0m\u001b[0;34m\u001b[0m\u001b[0m\n\u001b[1;32m    318\u001b[0m             parse_constant is None and object_pairs_hook is None and not kw):\n\u001b[0;32m--> 319\u001b[0;31m         \u001b[0;32mreturn\u001b[0m \u001b[0m_default_decoder\u001b[0m\u001b[0;34m.\u001b[0m\u001b[0mdecode\u001b[0m\u001b[0;34m(\u001b[0m\u001b[0ms\u001b[0m\u001b[0;34m)\u001b[0m\u001b[0;34m\u001b[0m\u001b[0m\n\u001b[0m\u001b[1;32m    320\u001b[0m     \u001b[0;32mif\u001b[0m \u001b[0mcls\u001b[0m \u001b[0;32mis\u001b[0m \u001b[0;32mNone\u001b[0m\u001b[0;34m:\u001b[0m\u001b[0;34m\u001b[0m\u001b[0m\n\u001b[1;32m    321\u001b[0m         \u001b[0mcls\u001b[0m \u001b[0;34m=\u001b[0m \u001b[0mJSONDecoder\u001b[0m\u001b[0;34m\u001b[0m\u001b[0m\n",
      "\u001b[0;32m/Users/sky/anaconda/lib/python3.5/json/decoder.py\u001b[0m in \u001b[0;36mdecode\u001b[0;34m(self, s, _w)\u001b[0m\n\u001b[1;32m    337\u001b[0m \u001b[0;34m\u001b[0m\u001b[0m\n\u001b[1;32m    338\u001b[0m         \"\"\"\n\u001b[0;32m--> 339\u001b[0;31m         \u001b[0mobj\u001b[0m\u001b[0;34m,\u001b[0m \u001b[0mend\u001b[0m \u001b[0;34m=\u001b[0m \u001b[0mself\u001b[0m\u001b[0;34m.\u001b[0m\u001b[0mraw_decode\u001b[0m\u001b[0;34m(\u001b[0m\u001b[0ms\u001b[0m\u001b[0;34m,\u001b[0m \u001b[0midx\u001b[0m\u001b[0;34m=\u001b[0m\u001b[0m_w\u001b[0m\u001b[0;34m(\u001b[0m\u001b[0ms\u001b[0m\u001b[0;34m,\u001b[0m \u001b[0;36m0\u001b[0m\u001b[0;34m)\u001b[0m\u001b[0;34m.\u001b[0m\u001b[0mend\u001b[0m\u001b[0;34m(\u001b[0m\u001b[0;34m)\u001b[0m\u001b[0;34m)\u001b[0m\u001b[0;34m\u001b[0m\u001b[0m\n\u001b[0m\u001b[1;32m    340\u001b[0m         \u001b[0mend\u001b[0m \u001b[0;34m=\u001b[0m \u001b[0m_w\u001b[0m\u001b[0;34m(\u001b[0m\u001b[0ms\u001b[0m\u001b[0;34m,\u001b[0m \u001b[0mend\u001b[0m\u001b[0;34m)\u001b[0m\u001b[0;34m.\u001b[0m\u001b[0mend\u001b[0m\u001b[0;34m(\u001b[0m\u001b[0;34m)\u001b[0m\u001b[0;34m\u001b[0m\u001b[0m\n\u001b[1;32m    341\u001b[0m         \u001b[0;32mif\u001b[0m \u001b[0mend\u001b[0m \u001b[0;34m!=\u001b[0m \u001b[0mlen\u001b[0m\u001b[0;34m(\u001b[0m\u001b[0ms\u001b[0m\u001b[0;34m)\u001b[0m\u001b[0;34m:\u001b[0m\u001b[0;34m\u001b[0m\u001b[0m\n",
      "\u001b[0;32m/Users/sky/anaconda/lib/python3.5/json/decoder.py\u001b[0m in \u001b[0;36mraw_decode\u001b[0;34m(self, s, idx)\u001b[0m\n\u001b[1;32m    355\u001b[0m             \u001b[0mobj\u001b[0m\u001b[0;34m,\u001b[0m \u001b[0mend\u001b[0m \u001b[0;34m=\u001b[0m \u001b[0mself\u001b[0m\u001b[0;34m.\u001b[0m\u001b[0mscan_once\u001b[0m\u001b[0;34m(\u001b[0m\u001b[0ms\u001b[0m\u001b[0;34m,\u001b[0m \u001b[0midx\u001b[0m\u001b[0;34m)\u001b[0m\u001b[0;34m\u001b[0m\u001b[0m\n\u001b[1;32m    356\u001b[0m         \u001b[0;32mexcept\u001b[0m \u001b[0mStopIteration\u001b[0m \u001b[0;32mas\u001b[0m \u001b[0merr\u001b[0m\u001b[0;34m:\u001b[0m\u001b[0;34m\u001b[0m\u001b[0m\n\u001b[0;32m--> 357\u001b[0;31m             \u001b[0;32mraise\u001b[0m \u001b[0mJSONDecodeError\u001b[0m\u001b[0;34m(\u001b[0m\u001b[0;34m\"Expecting value\"\u001b[0m\u001b[0;34m,\u001b[0m \u001b[0ms\u001b[0m\u001b[0;34m,\u001b[0m \u001b[0merr\u001b[0m\u001b[0;34m.\u001b[0m\u001b[0mvalue\u001b[0m\u001b[0;34m)\u001b[0m \u001b[0;32mfrom\u001b[0m \u001b[0;32mNone\u001b[0m\u001b[0;34m\u001b[0m\u001b[0m\n\u001b[0m\u001b[1;32m    358\u001b[0m         \u001b[0;32mreturn\u001b[0m \u001b[0mobj\u001b[0m\u001b[0;34m,\u001b[0m \u001b[0mend\u001b[0m\u001b[0;34m\u001b[0m\u001b[0m\n",
      "\u001b[0;31mJSONDecodeError\u001b[0m: Expecting value: line 1 column 1 (char 0)"
     ]
    }
   ],
   "source": [
    "for feature in uniqueNames[\"features\"]:\n",
    "    # Set up a local data structure for storage and processing\n",
    "    thisRecord = {}\n",
    "    \n",
    "    # Set data from query results\n",
    "    thisRecord[\"gid\"] = feature[\"properties\"][\"gid\"]\n",
    "    thisRecord[\"scientificname_submitted\"] = feature[\"properties\"][\"scientificname\"]\n",
    "    thisRecord[\"scientificname_search\"] = cleanScientificName(thisRecord[\"scientificname_submitted\"])\n",
    "    thisRecord[\"itisNameWOInd\"] = feature[\"properties\"][\"itisnamewoind\"]\n",
    "    thisRecord[\"itisNameWInd\"] = feature[\"properties\"][\"itisnamewind\"]\n",
    "    \n",
    "    # Set defaults for thisRecord\n",
    "    thisRecord[\"matchMethod\"] = \"NotMatched:\"+thisRecord[\"scientificname_search\"]\n",
    "    thisRecord[\"wormsPairs\"] = packageWoRMSPairs(thisRecord[\"matchMethod\"],0)\n",
    "\n",
    "    # Handle the cases where there is enough interesting stuff in the scientific name string that it comes back blank from the cleaners\n",
    "    if len(thisRecord[\"scientificname_search\"]) != 0:\n",
    "        thisRecord[\"wormsExactSearchURL\"] = getWoRMSSearchURL(\"ExactName\",thisRecord[\"scientificname_search\"])\n",
    "        print (thisRecord[\"wormsExactSearchURL\"])\n",
    "        \n",
    "        wormsSearchResults = requests.get(thisRecord[\"wormsExactSearchURL\"]).json()\n",
    "        display (wormsSearchResults)\n",
    "\n",
    "    display (thisRecord)\n"
   ]
  },
  {
   "cell_type": "code",
   "execution_count": null,
   "metadata": {
    "collapsed": true,
    "deletable": true,
    "editable": true
   },
   "outputs": [],
   "source": []
  }
 ],
 "metadata": {
  "kernelspec": {
   "display_name": "Python 3",
   "language": "python",
   "name": "python3"
  },
  "language_info": {
   "codemirror_mode": {
    "name": "ipython",
    "version": 3
   },
   "file_extension": ".py",
   "mimetype": "text/x-python",
   "name": "python",
   "nbconvert_exporter": "python",
   "pygments_lexer": "ipython3",
   "version": "3.5.3"
  }
 },
 "nbformat": 4,
 "nbformat_minor": 0
}
