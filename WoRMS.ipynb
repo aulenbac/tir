{
 "cells": [
  {
   "cell_type": "markdown",
   "metadata": {
    "deletable": true,
    "editable": true
   },
   "source": [
    "I'm experimenting with a new, smaller increment method here of working through the TIR registrations on WoRMS matching. In this process, we work on WoRMS matching until there is nothing left to work on by using a while loop on the number of possible records to work on. I also threw in a safeguard total number to process and include that in the check so the loop doesn't run away on us.\n",
    "\n",
    "This might be a little less efficient than grabbing up a whole batch of records at once that meet some criteria and then processing through all of those. It has to execute the following three API interactions:\n",
    "\n",
    "1) Get a single TIR registration that does not currently have any WoRMS data and has been processed by ITIS (so we have an alternative name to work against)\n",
    "2) Check the TIR registered name against the WoRMS REST service\n",
    "3) If we find a match, insert the WoRMS information into the TIR\n",
    "\n",
    "However, that is only a single additional API interaction per record, and it allows us to simply kick off this process whenever and have it run until there's nothing left to do. It seems like that might be conducive to processing on the Kafka/microservices architecture."
   ]
  },
  {
   "cell_type": "code",
   "execution_count": 1,
   "metadata": {
    "collapsed": false,
    "deletable": true,
    "editable": true
   },
   "outputs": [],
   "source": [
    "import requests,re\n",
    "from IPython.display import display\n",
    "from bis import worms\n",
    "from bis import bis\n",
    "from bis import tir\n",
    "from bis2 import gc2"
   ]
  },
  {
   "cell_type": "code",
   "execution_count": 2,
   "metadata": {
    "collapsed": true,
    "deletable": true,
    "editable": true
   },
   "outputs": [],
   "source": [
    "# Set up the actions/targets for this particular instance\n",
    "thisRun = {}\n",
    "thisRun[\"instance\"] = \"DataDistillery\"\n",
    "thisRun[\"db\"] = \"BCB\"\n",
    "thisRun[\"baseURL\"] = gc2.sqlAPI(thisRun[\"instance\"],thisRun[\"db\"])\n",
    "thisRun[\"commitToDB\"] = True\n",
    "thisRun[\"totalRecordsToProcess\"] = 5\n",
    "thisRun[\"totalRecordsProcessed\"] = 0"
   ]
  },
  {
   "cell_type": "code",
   "execution_count": 3,
   "metadata": {
    "collapsed": false,
    "deletable": true,
    "editable": true,
    "scrolled": false
   },
   "outputs": [
    {
     "data": {
      "text/plain": [
       "{'id': 26041,\n",
       " 'itisNameWInd': 'Erigeron strigosus var. calcicola',\n",
       " 'matchMethod': 'Not Matched',\n",
       " 'matchString': 'Erigeron strigosus var. calcicola',\n",
       " 'scientificname_search': 'Erigeron strigosus var. calcicola',\n",
       " 'scientificname_submitted': 'Erigeron strigosus var. calcicola',\n",
       " 'wormsPairs': '\"cacheDate\"=>\"2017-06-27T13:57:09.826488\",\"wormsMatchMethod\"=>\"Not Matched\"'}"
      ]
     },
     "metadata": {},
     "output_type": "display_data"
    },
    {
     "name": "stdout",
     "output_type": "stream",
     "text": [
      "{'success': True, 'auth_check': {'session': None, 'success': True, 'auth_level': None}, '_execution_time': 0.079, 'affected_rows': 1}\n"
     ]
    },
    {
     "data": {
      "text/plain": [
       "{'id': 28617,\n",
       " 'itisNameWInd': None,\n",
       " 'matchMethod': 'Not Matched',\n",
       " 'matchString': 'Laevicephalus vannus',\n",
       " 'scientificname_search': 'Laevicephalus vannus',\n",
       " 'scientificname_submitted': 'Laevicephalus vannus',\n",
       " 'wormsPairs': '\"cacheDate\"=>\"2017-06-27T13:57:11.700979\",\"wormsMatchMethod\"=>\"Not Matched\"'}"
      ]
     },
     "metadata": {},
     "output_type": "display_data"
    },
    {
     "name": "stdout",
     "output_type": "stream",
     "text": [
      "{'success': True, 'auth_check': {'session': None, 'success': True, 'auth_level': None}, '_execution_time': 0.065, 'affected_rows': 1}\n"
     ]
    },
    {
     "data": {
      "text/plain": [
       "{'id': 26042,\n",
       " 'itisNameWInd': 'Erigeron subtrinervis',\n",
       " 'matchMethod': 'Not Matched',\n",
       " 'matchString': 'Erigeron subtrinervis',\n",
       " 'scientificname_search': 'Erigeron subtrinervis',\n",
       " 'scientificname_submitted': 'Erigeron subtrinervis',\n",
       " 'wormsPairs': '\"cacheDate\"=>\"2017-06-27T13:57:13.376283\",\"wormsMatchMethod\"=>\"Not Matched\"'}"
      ]
     },
     "metadata": {},
     "output_type": "display_data"
    },
    {
     "name": "stdout",
     "output_type": "stream",
     "text": [
      "{'success': True, 'auth_check': {'session': None, 'success': True, 'auth_level': None}, '_execution_time': 0.065, 'affected_rows': 1}\n"
     ]
    },
    {
     "data": {
      "text/plain": [
       "{'id': 28640,\n",
       " 'itisNameWInd': None,\n",
       " 'matchMethod': 'Not Matched',\n",
       " 'matchString': 'Lampetra kessleri',\n",
       " 'scientificname_search': 'Lampetra kessleri',\n",
       " 'scientificname_submitted': 'Lampetra kessleri',\n",
       " 'wormsPairs': '\"cacheDate\"=>\"2017-06-27T13:57:15.055133\",\"wormsMatchMethod\"=>\"Not Matched\"'}"
      ]
     },
     "metadata": {},
     "output_type": "display_data"
    },
    {
     "name": "stdout",
     "output_type": "stream",
     "text": [
      "{'success': True, 'auth_check': {'session': None, 'success': True, 'auth_level': None}, '_execution_time': 0.066, 'affected_rows': 1}\n"
     ]
    },
    {
     "data": {
      "text/plain": [
       "{'id': 26043,\n",
       " 'itisNameWInd': 'Erigeron vetensis',\n",
       " 'matchMethod': 'Not Matched',\n",
       " 'matchString': 'Erigeron vetensis',\n",
       " 'scientificname_search': 'Erigeron vetensis',\n",
       " 'scientificname_submitted': 'Erigeron vetensis',\n",
       " 'wormsPairs': '\"cacheDate\"=>\"2017-06-27T13:57:16.674628\",\"wormsMatchMethod\"=>\"Not Matched\"'}"
      ]
     },
     "metadata": {},
     "output_type": "display_data"
    },
    {
     "name": "stdout",
     "output_type": "stream",
     "text": [
      "{'success': True, 'auth_check': {'session': None, 'success': True, 'auth_level': None}, '_execution_time': 0.08, 'affected_rows': 1}\n"
     ]
    },
    {
     "data": {
      "text/plain": [
       "{'id': 26477,\n",
       " 'itisNameWInd': 'Eupseudomorpha brillians',\n",
       " 'matchMethod': 'Not Matched',\n",
       " 'matchString': 'Eupseudomorpha brillians',\n",
       " 'scientificname_search': 'Eupseudomorpha brillians',\n",
       " 'scientificname_submitted': 'Eupseudomorpha brillians',\n",
       " 'wormsPairs': '\"cacheDate\"=>\"2017-06-27T13:57:18.464775\",\"wormsMatchMethod\"=>\"Not Matched\"'}"
      ]
     },
     "metadata": {},
     "output_type": "display_data"
    },
    {
     "name": "stdout",
     "output_type": "stream",
     "text": [
      "{'success': True, 'auth_check': {'session': None, 'success': True, 'auth_level': None}, '_execution_time': 0.064, 'affected_rows': 1}\n"
     ]
    }
   ],
   "source": [
    "numberWithoutTIRData = 1\n",
    "\n",
    "while numberWithoutTIRData == 1 and thisRun[\"totalRecordsProcessed\"] <= thisRun[\"totalRecordsToProcess\"]:\n",
    "    q_recordToSearch = \"SELECT id, \\\n",
    "        registration->'scientificname' AS scientificname, \\\n",
    "        itis->'nameWInd' AS itisNameWInd \\\n",
    "        FROM tir.tir \\\n",
    "        WHERE worms IS NULL \\\n",
    "        AND itis IS NOT NULL \\\n",
    "        LIMIT 1\"\n",
    "    recordToSearch  = requests.get(gc2.sqlAPI(\"DataDistillery\",\"BCB\")+\"&q=\"+q_recordToSearch).json()\n",
    "    \n",
    "    numberWithoutTIRData = len(recordToSearch[\"features\"])\n",
    "\n",
    "    if numberWithoutTIRData == 1:\n",
    "        tirRecord = recordToSearch[\"features\"][0]\n",
    "\n",
    "        # Set up a local data structure for storage and processing\n",
    "        thisRecord = {}\n",
    "        \n",
    "        # Set data from query results\n",
    "        thisRecord[\"id\"] = tirRecord[\"properties\"][\"id\"]\n",
    "        thisRecord[\"scientificname_submitted\"] = tirRecord[\"properties\"][\"scientificname\"]\n",
    "        thisRecord[\"scientificname_search\"] = bis.cleanScientificName(thisRecord[\"scientificname_submitted\"])\n",
    "        thisRecord[\"itisNameWInd\"] = tirRecord[\"properties\"][\"itisnamewind\"]\n",
    "\n",
    "        # Set defaults for thisRecord\n",
    "        thisRecord[\"matchMethod\"] = \"Not Matched\"\n",
    "        thisRecord[\"matchString\"] = thisRecord[\"scientificname_search\"]\n",
    "        wormsData = 0\n",
    "\n",
    "        # Handle the cases where there is enough interesting stuff in the scientific name string that it comes back blank from the cleaners\n",
    "        if len(thisRecord[\"scientificname_search\"]) != 0:\n",
    "            try:\n",
    "                wormsSearchResults = requests.get(\"http://www.marinespecies.org/rest/AphiaRecordsByName/\"+thisRecord[\"scientificname_search\"]+\"?like=false&marine_only=false&offset=1\").json()\n",
    "                thisRecord[\"matchMethod\"] = \"Exact Match\"\n",
    "                wormsData = wormsSearchResults[0]\n",
    "            except:\n",
    "                try:\n",
    "                    wormsSearchResults = requests.get(\"http://www.marinespecies.org/rest/AphiaRecordsByName/\"+thisRecord[\"scientificname_search\"]+\"?like=true&marine_only=false&offset=1\").json()\n",
    "                    thisRecord[\"matchMethod\"] = \"Fuzzy Match\"\n",
    "                    wormsData = wormsSearchResults[0]\n",
    "                except:\n",
    "                    if thisRecord[\"itisNameWInd\"] != None and thisRecord[\"itisNameWInd\"] != thisRecord[\"scientificname_search\"]:\n",
    "                        try:\n",
    "                            wormsSearchResults = requests.get(\"http://www.marinespecies.org/rest/AphiaRecordsByName/\"+thisRecord[\"itisNameWInd\"]+\"?like=false&marine_only=false&offset=1\").json()\n",
    "                            thisRecord[\"matchMethod\"] = \"ITIS Name Match\"\n",
    "                            wormsData = wormsSearchResults[0]\n",
    "                        except:\n",
    "                            pass\n",
    "\n",
    "        thisRecord[\"wormsPairs\"] = worms.packageWoRMSPairs(thisRecord[\"matchMethod\"],wormsData)\n",
    "        display (thisRecord)\n",
    "        if thisRun[\"commitToDB\"]:\n",
    "            print (tir.cacheToTIR(gc2.sqlAPI(\"DataDistillery\",\"BCB\"),thisRecord[\"id\"],\"worms\",thisRecord[\"wormsPairs\"]))\n",
    "        thisRun[\"totalRecordsProcessed\"] = thisRun[\"totalRecordsProcessed\"] + 1\n"
   ]
  },
  {
   "cell_type": "code",
   "execution_count": null,
   "metadata": {
    "collapsed": true,
    "deletable": true,
    "editable": true
   },
   "outputs": [],
   "source": []
  }
 ],
 "metadata": {
  "kernelspec": {
   "display_name": "Python 3",
   "language": "python",
   "name": "python3"
  },
  "language_info": {
   "codemirror_mode": {
    "name": "ipython",
    "version": 3
   },
   "file_extension": ".py",
   "mimetype": "text/x-python",
   "name": "python",
   "nbconvert_exporter": "python",
   "pygments_lexer": "ipython3",
   "version": "3.5.3"
  }
 },
 "nbformat": 4,
 "nbformat_minor": 0
}
