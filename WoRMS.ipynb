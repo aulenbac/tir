{
 "cells": [
  {
   "cell_type": "markdown",
   "metadata": {},
   "source": [
    "I'm experimenting with a new, smaller increment method here of working through the TIR registrations on WoRMS matching. In this process, we work on WoRMS matching until there is nothing left to work on by using a while loop on the number of possible records to work on. I also threw in a safeguard total number to process and include that in the check so the loop doesn't run away on us.\n",
    "\n",
    "This might be a little less efficient than grabbing up a whole batch of records at once that meet some criteria and then processing through all of those. It has to execute the following three API interactions:\n",
    "\n",
    "1) Get a single TIR registration that does not currently have any WoRMS data and has been processed by ITIS (so we have an alternative name to work against)\n",
    "2) Check the TIR registered name against the WoRMS REST service\n",
    "3) If we find a match, insert the WoRMS information into the TIR\n",
    "\n",
    "However, that is only a single additional API interaction per record, and it allows us to simply kick off this process whenever and have it run until there's nothing left to do. It seems like that might be conducive to processing on the Kafka/microservices architecture."
   ]
  },
  {
   "cell_type": "code",
   "execution_count": 14,
   "metadata": {
    "collapsed": false,
    "deletable": true,
    "editable": true
   },
   "outputs": [],
   "source": [
    "import requests,re\n",
    "from IPython.display import display\n",
    "from bis import worms\n",
    "from bis import bis\n",
    "from bis import tir\n",
    "from bis2 import gc2"
   ]
  },
  {
   "cell_type": "code",
   "execution_count": 19,
   "metadata": {
    "collapsed": false,
    "deletable": true,
    "editable": true,
    "scrolled": false
   },
   "outputs": [
    {
     "data": {
      "text/plain": [
       "{'id': 20402,\n",
       " 'itisNameWInd': 'Acaena exigua',\n",
       " 'matchMethod': 'Not Matched',\n",
       " 'matchString': 'Acaena exigua',\n",
       " 'scientificname_search': 'Acaena exigua',\n",
       " 'scientificname_submitted': 'Acaena exigua',\n",
       " 'wormsPairs': '\"cacheDate\"=>\"2017-06-26T13:53:49.507084\",\"wormsMatchMethod\"=>\"Not Matched\"'}"
      ]
     },
     "metadata": {},
     "output_type": "display_data"
    },
    {
     "name": "stdout",
     "output_type": "stream",
     "text": [
      "{'_execution_time': 0.067, 'affected_rows': 1, 'success': True, 'auth_check': {'success': True, 'session': None, 'auth_level': None}}\n"
     ]
    },
    {
     "data": {
      "text/plain": [
       "{'id': 20381,\n",
       " 'itisNameWInd': None,\n",
       " 'matchMethod': 'Exact Match',\n",
       " 'matchString': 'Abacion wilhelminae',\n",
       " 'scientificname_search': 'Abacion wilhelminae',\n",
       " 'scientificname_submitted': 'Abacion wilhelminae',\n",
       " 'wormsPairs': '\"cacheDate\"=>\"2017-06-26T13:53:51.147335\",\"wormsMatchMethod\"=>\"Exact Match\",\"AphiaID\"=>\"944219\",\"scientificname\"=>\"Abacion wilhelminae\",\"status\"=>\"accepted\",\"rank\"=>\"Species\",\"valid_name\"=>\"Abacion wilhelminae\",\"valid_AphiaID\"=>\"944219\",\"kingdom\"=>\"Animalia\",\"phylum\"=>\"Arthropoda\",\"class\"=>\"Diplopoda\",\"order\"=>\"Callipodida\",\"family\"=>\"Abacionidae\",\"genus\"=>\"Abacion\",\"lsid\"=>\"urn:lsid:marinespecies.org:taxname:944219\",\"isMarine\"=>\"0\",\"isBrackish\"=>\"0\",\"isFreshwater\"=>\"0\",\"isTerrestrial\"=>\"1\",\"isExtinct\"=>\"None\",\"match_type\"=>\"exact\",\"modified\"=>\"2017-01-20T10:14:02Z\"'}"
      ]
     },
     "metadata": {},
     "output_type": "display_data"
    },
    {
     "name": "stdout",
     "output_type": "stream",
     "text": [
      "{'_execution_time': 0.069, 'affected_rows': 1, 'success': True, 'auth_check': {'success': True, 'session': None, 'auth_level': None}}\n"
     ]
    },
    {
     "data": {
      "text/plain": [
       "{'id': 20382,\n",
       " 'itisNameWInd': None,\n",
       " 'matchMethod': 'Not Matched',\n",
       " 'matchString': 'Abagrotis barnesi',\n",
       " 'scientificname_search': 'Abagrotis barnesi',\n",
       " 'scientificname_submitted': 'Abagrotis barnesi',\n",
       " 'wormsPairs': '\"cacheDate\"=>\"2017-06-26T13:53:52.939201\",\"wormsMatchMethod\"=>\"Not Matched\"'}"
      ]
     },
     "metadata": {},
     "output_type": "display_data"
    },
    {
     "name": "stdout",
     "output_type": "stream",
     "text": [
      "{'_execution_time': 0.065, 'affected_rows': 1, 'success': True, 'auth_check': {'success': True, 'session': None, 'auth_level': None}}\n"
     ]
    },
    {
     "data": {
      "text/plain": [
       "{'id': 20384,\n",
       " 'itisNameWInd': None,\n",
       " 'matchMethod': 'Not Matched',\n",
       " 'matchString': 'Abagrotis crumbi benjamini',\n",
       " 'scientificname_search': 'Abagrotis crumbi benjamini',\n",
       " 'scientificname_submitted': 'Abagrotis crumbi benjamini',\n",
       " 'wormsPairs': '\"cacheDate\"=>\"2017-06-26T13:53:54.619917\",\"wormsMatchMethod\"=>\"Not Matched\"'}"
      ]
     },
     "metadata": {},
     "output_type": "display_data"
    },
    {
     "name": "stdout",
     "output_type": "stream",
     "text": [
      "{'_execution_time': 0.071, 'affected_rows': 1, 'success': True, 'auth_check': {'success': True, 'session': None, 'auth_level': None}}\n"
     ]
    },
    {
     "data": {
      "text/plain": [
       "{'id': 21961,\n",
       " 'itisNameWInd': 'Balanus venustus',\n",
       " 'matchMethod': 'Exact Match',\n",
       " 'matchString': 'Balanus venustus',\n",
       " 'scientificname_search': 'Balanus venustus',\n",
       " 'scientificname_submitted': 'Balanus venustus',\n",
       " 'wormsPairs': '\"cacheDate\"=>\"2017-06-26T13:53:56.023657\",\"wormsMatchMethod\"=>\"Exact Match\",\"AphiaID\"=>\"882390\",\"scientificname\"=>\"Balanus venustus\",\"status\"=>\"unaccepted\",\"rank\"=>\"Species\",\"valid_name\"=>\"Amphibalanus venustus\",\"valid_AphiaID\"=>\"421142\",\"kingdom\"=>\"Animalia\",\"phylum\"=>\"Arthropoda\",\"class\"=>\"Hexanauplia\",\"order\"=>\"Sessilia\",\"family\"=>\"Balanidae\",\"genus\"=>\"Balanus\",\"lsid\"=>\"urn:lsid:marinespecies.org:taxname:882390\",\"isMarine\"=>\"1\",\"isBrackish\"=>\"None\",\"isFreshwater\"=>\"None\",\"isTerrestrial\"=>\"None\",\"isExtinct\"=>\"None\",\"match_type\"=>\"exact\",\"modified\"=>\"2016-07-27T22:13:01Z\"'}"
      ]
     },
     "metadata": {},
     "output_type": "display_data"
    },
    {
     "name": "stdout",
     "output_type": "stream",
     "text": [
      "{'_execution_time': 0.068, 'affected_rows': 1, 'success': True, 'auth_check': {'success': True, 'session': None, 'auth_level': None}}\n"
     ]
    },
    {
     "data": {
      "text/plain": [
       "{'id': 20415,\n",
       " 'itisNameWInd': 'Acanthocyclops columbiensis',\n",
       " 'matchMethod': 'Exact Match',\n",
       " 'matchString': 'Acanthocyclops columbiensis',\n",
       " 'scientificname_search': 'Acanthocyclops columbiensis',\n",
       " 'scientificname_submitted': 'Acanthocyclops columbiensis',\n",
       " 'wormsPairs': '\"cacheDate\"=>\"2017-06-26T13:53:57.391416\",\"wormsMatchMethod\"=>\"Exact Match\",\"AphiaID\"=>\"348400\",\"scientificname\"=>\"Acanthocyclops columbiensis\",\"status\"=>\"accepted\",\"rank\"=>\"Species\",\"valid_name\"=>\"Acanthocyclops columbiensis\",\"valid_AphiaID\"=>\"348400\",\"kingdom\"=>\"Animalia\",\"phylum\"=>\"Arthropoda\",\"class\"=>\"Hexanauplia\",\"order\"=>\"Cyclopoida\",\"family\"=>\"Cyclopidae\",\"genus\"=>\"Acanthocyclops\",\"lsid\"=>\"urn:lsid:marinespecies.org:taxname:348400\",\"isMarine\"=>\"0\",\"isBrackish\"=>\"0\",\"isFreshwater\"=>\"1\",\"isTerrestrial\"=>\"0\",\"isExtinct\"=>\"None\",\"match_type\"=>\"exact\",\"modified\"=>\"2008-07-15T16:41:49Z\"'}"
      ]
     },
     "metadata": {},
     "output_type": "display_data"
    },
    {
     "name": "stdout",
     "output_type": "stream",
     "text": [
      "{'_execution_time': 0.071, 'affected_rows': 1, 'success': True, 'auth_check': {'success': True, 'session': None, 'auth_level': None}}\n"
     ]
    },
    {
     "data": {
      "text/plain": [
       "{'id': 20419,\n",
       " 'itisNameWInd': 'Acanthohaustorius millsi',\n",
       " 'matchMethod': 'Exact Match',\n",
       " 'matchString': 'Acanthohaustorius millsi',\n",
       " 'scientificname_search': 'Acanthohaustorius millsi',\n",
       " 'scientificname_submitted': 'Acanthohaustorius millsi',\n",
       " 'wormsPairs': '\"cacheDate\"=>\"2017-06-26T13:53:58.991656\",\"wormsMatchMethod\"=>\"Exact Match\",\"AphiaID\"=>\"158015\",\"scientificname\"=>\"Acanthohaustorius millsi\",\"status\"=>\"accepted\",\"rank\"=>\"Species\",\"valid_name\"=>\"Acanthohaustorius millsi\",\"valid_AphiaID\"=>\"158015\",\"kingdom\"=>\"Animalia\",\"phylum\"=>\"Arthropoda\",\"class\"=>\"Malacostraca\",\"order\"=>\"Amphipoda\",\"family\"=>\"Haustoriidae\",\"genus\"=>\"Acanthohaustorius\",\"lsid\"=>\"urn:lsid:marinespecies.org:taxname:158015\",\"isMarine\"=>\"1\",\"isBrackish\"=>\"None\",\"isFreshwater\"=>\"None\",\"isTerrestrial\"=>\"None\",\"isExtinct\"=>\"None\",\"match_type\"=>\"exact\",\"modified\"=>\"2010-07-20T09:01:42Z\"'}"
      ]
     },
     "metadata": {},
     "output_type": "display_data"
    },
    {
     "name": "stdout",
     "output_type": "stream",
     "text": [
      "{'_execution_time': 0.109, 'affected_rows': 1, 'success': True, 'auth_check': {'success': True, 'session': None, 'auth_level': None}}\n"
     ]
    },
    {
     "data": {
      "text/plain": [
       "{'id': 20422,\n",
       " 'itisNameWInd': 'Acanthuridae',\n",
       " 'matchMethod': 'Exact Match',\n",
       " 'matchString': 'Acanthuridae',\n",
       " 'scientificname_search': 'Acanthuridae',\n",
       " 'scientificname_submitted': 'Acanthuridae',\n",
       " 'wormsPairs': '\"cacheDate\"=>\"2017-06-26T13:54:00.388444\",\"wormsMatchMethod\"=>\"Exact Match\",\"AphiaID\"=>\"125515\",\"scientificname\"=>\"Acanthuridae\",\"status\"=>\"accepted\",\"rank\"=>\"Family\",\"valid_name\"=>\"Acanthuridae\",\"valid_AphiaID\"=>\"125515\",\"kingdom\"=>\"Animalia\",\"phylum\"=>\"Chordata\",\"class\"=>\"Actinopterygii\",\"order\"=>\"Perciformes\",\"family\"=>\"Acanthuridae\"'}"
      ]
     },
     "metadata": {},
     "output_type": "display_data"
    },
    {
     "name": "stdout",
     "output_type": "stream",
     "text": [
      "{'_execution_time': 0.096, 'affected_rows': 1, 'success': True, 'auth_check': {'success': True, 'session': None, 'auth_level': None}}\n"
     ]
    },
    {
     "data": {
      "text/plain": [
       "{'id': 20425,\n",
       " 'itisNameWInd': 'Acanthurus coeruleus',\n",
       " 'matchMethod': 'Exact Match',\n",
       " 'matchString': 'Acanthurus coeruleus',\n",
       " 'scientificname_search': 'Acanthurus coeruleus',\n",
       " 'scientificname_submitted': 'Acanthurus coeruleus',\n",
       " 'wormsPairs': '\"cacheDate\"=>\"2017-06-26T13:54:01.846624\",\"wormsMatchMethod\"=>\"Exact Match\",\"AphiaID\"=>\"159581\",\"scientificname\"=>\"Acanthurus coeruleus\",\"status\"=>\"accepted\",\"rank\"=>\"Species\",\"valid_name\"=>\"Acanthurus coeruleus\",\"valid_AphiaID\"=>\"159581\",\"kingdom\"=>\"Animalia\",\"phylum\"=>\"Chordata\",\"class\"=>\"Actinopterygii\",\"order\"=>\"Perciformes\",\"family\"=>\"Acanthuridae\",\"genus\"=>\"Acanthurus\",\"lsid\"=>\"urn:lsid:marinespecies.org:taxname:159581\",\"isMarine\"=>\"1\",\"isBrackish\"=>\"0\",\"isFreshwater\"=>\"0\",\"isTerrestrial\"=>\"0\",\"isExtinct\"=>\"None\",\"match_type\"=>\"exact\",\"modified\"=>\"2008-01-15T18:27:08Z\"'}"
      ]
     },
     "metadata": {},
     "output_type": "display_data"
    },
    {
     "name": "stdout",
     "output_type": "stream",
     "text": [
      "{'_execution_time': 0.067, 'affected_rows': 1, 'success': True, 'auth_check': {'success': True, 'session': None, 'auth_level': None}}\n"
     ]
    },
    {
     "data": {
      "text/plain": [
       "{'id': 20413,\n",
       " 'itisNameWInd': None,\n",
       " 'matchMethod': 'Not Matched',\n",
       " 'matchString': 'Acanthochiton viridis',\n",
       " 'scientificname_search': 'Acanthochiton viridis',\n",
       " 'scientificname_submitted': 'Acanthochiton viridis',\n",
       " 'wormsPairs': '\"cacheDate\"=>\"2017-06-26T13:54:03.561364\",\"wormsMatchMethod\"=>\"Not Matched\"'}"
      ]
     },
     "metadata": {},
     "output_type": "display_data"
    },
    {
     "name": "stdout",
     "output_type": "stream",
     "text": [
      "{'_execution_time': 0.065, 'affected_rows': 1, 'success': True, 'auth_check': {'success': True, 'session': None, 'auth_level': None}}\n"
     ]
    },
    {
     "data": {
      "text/plain": [
       "{'id': 20410,\n",
       " 'itisNameWInd': 'Acantharchus pomotis',\n",
       " 'matchMethod': 'ITIS Name Match',\n",
       " 'matchString': 'Acantharcus pomotis',\n",
       " 'scientificname_search': 'Acantharcus pomotis',\n",
       " 'scientificname_submitted': 'Acantharcus pomotis',\n",
       " 'wormsPairs': '\"cacheDate\"=>\"2017-06-26T13:54:05.675504\",\"wormsMatchMethod\"=>\"ITIS Name Match\",\"AphiaID\"=>\"293694\",\"scientificname\"=>\"Acantharchus pomotis\",\"status\"=>\"accepted\",\"rank\"=>\"Species\",\"valid_name\"=>\"Acantharchus pomotis\",\"valid_AphiaID\"=>\"293694\",\"kingdom\"=>\"Animalia\",\"phylum\"=>\"Chordata\",\"class\"=>\"Actinopterygii\",\"order\"=>\"Perciformes\",\"family\"=>\"Centrarchidae\",\"genus\"=>\"Acantharchus\",\"lsid\"=>\"urn:lsid:marinespecies.org:taxname:293694\",\"isMarine\"=>\"0\",\"isBrackish\"=>\"0\",\"isFreshwater\"=>\"1\",\"isTerrestrial\"=>\"0\",\"isExtinct\"=>\"None\",\"match_type\"=>\"exact\",\"modified\"=>\"2010-03-23T11:02:09Z\"'}"
      ]
     },
     "metadata": {},
     "output_type": "display_data"
    },
    {
     "name": "stdout",
     "output_type": "stream",
     "text": [
      "{'_execution_time': 0.089, 'affected_rows': 1, 'success': True, 'auth_check': {'success': True, 'session': None, 'auth_level': None}}\n"
     ]
    },
    {
     "data": {
      "text/plain": [
       "{'id': 20417,\n",
       " 'itisNameWInd': None,\n",
       " 'matchMethod': 'Not Matched',\n",
       " 'matchString': 'Acanthocyclops villosipes',\n",
       " 'scientificname_search': 'Acanthocyclops villosipes',\n",
       " 'scientificname_submitted': 'Acanthocyclops Villosipes',\n",
       " 'wormsPairs': '\"cacheDate\"=>\"2017-06-26T13:54:07.490279\",\"wormsMatchMethod\"=>\"Not Matched\"'}"
      ]
     },
     "metadata": {},
     "output_type": "display_data"
    },
    {
     "name": "stdout",
     "output_type": "stream",
     "text": [
      "{'_execution_time': 0.065, 'affected_rows': 1, 'success': True, 'auth_check': {'success': True, 'session': None, 'auth_level': None}}\n"
     ]
    },
    {
     "data": {
      "text/plain": [
       "{'id': 21968,\n",
       " 'itisNameWInd': 'Bankia gouldi',\n",
       " 'matchMethod': 'ITIS Name Match',\n",
       " 'matchString': 'Bankia gouldii',\n",
       " 'scientificname_search': 'Bankia gouldii',\n",
       " 'scientificname_submitted': 'Bankia gouldii',\n",
       " 'wormsPairs': '\"cacheDate\"=>\"2017-06-26T13:54:09.643079\",\"wormsMatchMethod\"=>\"ITIS Name Match\",\"AphiaID\"=>\"156749\",\"scientificname\"=>\"Bankia gouldi\",\"status\"=>\"accepted\",\"rank\"=>\"Species\",\"valid_name\"=>\"Bankia gouldi\",\"valid_AphiaID\"=>\"156749\",\"kingdom\"=>\"Animalia\",\"phylum\"=>\"Mollusca\",\"class\"=>\"Bivalvia\",\"order\"=>\"Myida\",\"family\"=>\"Teredinidae\",\"genus\"=>\"Bankia\",\"lsid\"=>\"urn:lsid:marinespecies.org:taxname:156749\",\"isMarine\"=>\"1\",\"isBrackish\"=>\"None\",\"isFreshwater\"=>\"None\",\"isTerrestrial\"=>\"None\",\"isExtinct\"=>\"None\",\"match_type\"=>\"exact\",\"modified\"=>\"2010-03-31T08:40:43Z\"'}"
      ]
     },
     "metadata": {},
     "output_type": "display_data"
    },
    {
     "name": "stdout",
     "output_type": "stream",
     "text": [
      "{'_execution_time': 0.067, 'affected_rows': 1, 'success': True, 'auth_check': {'success': True, 'session': None, 'auth_level': None}}\n"
     ]
    },
    {
     "data": {
      "text/plain": [
       "{'id': 20433,\n",
       " 'itisNameWInd': 'Accipiter gentilis apache',\n",
       " 'matchMethod': 'Not Matched',\n",
       " 'matchString': 'Accipiter gentilis apache',\n",
       " 'scientificname_search': 'Accipiter gentilis apache',\n",
       " 'scientificname_submitted': 'Accipiter gentilis apache',\n",
       " 'wormsPairs': '\"cacheDate\"=>\"2017-06-26T13:54:11.951637\",\"wormsMatchMethod\"=>\"Not Matched\"'}"
      ]
     },
     "metadata": {},
     "output_type": "display_data"
    },
    {
     "name": "stdout",
     "output_type": "stream",
     "text": [
      "{'_execution_time': 0.066, 'affected_rows': 1, 'success': True, 'auth_check': {'success': True, 'session': None, 'auth_level': None}}\n"
     ]
    },
    {
     "data": {
      "text/plain": [
       "{'id': 20439,\n",
       " 'itisNameWInd': 'Accipiter striatus venator',\n",
       " 'matchMethod': 'Not Matched',\n",
       " 'matchString': 'Accipiter striatus venator',\n",
       " 'scientificname_search': 'Accipiter striatus venator',\n",
       " 'scientificname_submitted': 'Accipiter striatus venator',\n",
       " 'wormsPairs': '\"cacheDate\"=>\"2017-06-26T13:54:14.379477\",\"wormsMatchMethod\"=>\"Not Matched\"'}"
      ]
     },
     "metadata": {},
     "output_type": "display_data"
    },
    {
     "name": "stdout",
     "output_type": "stream",
     "text": [
      "{'_execution_time': 0.07, 'affected_rows': 1, 'success': True, 'auth_check': {'success': True, 'session': None, 'auth_level': None}}\n"
     ]
    },
    {
     "data": {
      "text/plain": [
       "{'id': 20442,\n",
       " 'itisNameWInd': 'Acentrella parvula',\n",
       " 'matchMethod': 'Not Matched',\n",
       " 'matchString': 'Acentrella parvula',\n",
       " 'scientificname_search': 'Acentrella parvula',\n",
       " 'scientificname_submitted': 'Acentrella parvula',\n",
       " 'wormsPairs': '\"cacheDate\"=>\"2017-06-26T13:54:16.416080\",\"wormsMatchMethod\"=>\"Not Matched\"'}"
      ]
     },
     "metadata": {},
     "output_type": "display_data"
    },
    {
     "name": "stdout",
     "output_type": "stream",
     "text": [
      "{'_execution_time': 0.064, 'affected_rows': 1, 'success': True, 'auth_check': {'success': True, 'session': None, 'auth_level': None}}\n"
     ]
    },
    {
     "data": {
      "text/plain": [
       "{'id': 20444,\n",
       " 'itisNameWInd': None,\n",
       " 'matchMethod': 'Not Matched',\n",
       " 'matchString': 'Aceria chrondriphora',\n",
       " 'scientificname_search': 'Aceria chrondriphora',\n",
       " 'scientificname_submitted': 'Aceria chrondriphora',\n",
       " 'wormsPairs': '\"cacheDate\"=>\"2017-06-26T13:54:17.996124\",\"wormsMatchMethod\"=>\"Not Matched\"'}"
      ]
     },
     "metadata": {},
     "output_type": "display_data"
    },
    {
     "name": "stdout",
     "output_type": "stream",
     "text": [
      "{'_execution_time': 0.064, 'affected_rows': 1, 'success': True, 'auth_check': {'success': True, 'session': None, 'auth_level': None}}\n"
     ]
    },
    {
     "data": {
      "text/plain": [
       "{'id': 20445,\n",
       " 'itisNameWInd': None,\n",
       " 'matchMethod': 'Not Matched',\n",
       " 'matchString': 'Aceria fraxiniflora',\n",
       " 'scientificname_search': 'Aceria fraxiniflora',\n",
       " 'scientificname_submitted': 'Aceria fraxiniflora',\n",
       " 'wormsPairs': '\"cacheDate\"=>\"2017-06-26T13:54:19.648063\",\"wormsMatchMethod\"=>\"Not Matched\"'}"
      ]
     },
     "metadata": {},
     "output_type": "display_data"
    },
    {
     "name": "stdout",
     "output_type": "stream",
     "text": [
      "{'_execution_time': 0.108, 'affected_rows': 1, 'success': True, 'auth_check': {'success': True, 'session': None, 'auth_level': None}}\n"
     ]
    },
    {
     "data": {
      "text/plain": [
       "{'id': 20448,\n",
       " 'itisNameWInd': 'Acer spicatum',\n",
       " 'matchMethod': 'Not Matched',\n",
       " 'matchString': 'Acer spicatum',\n",
       " 'scientificname_search': 'Acer spicatum',\n",
       " 'scientificname_submitted': 'Acer spicatum',\n",
       " 'wormsPairs': '\"cacheDate\"=>\"2017-06-26T13:54:21.747997\",\"wormsMatchMethod\"=>\"Not Matched\"'}"
      ]
     },
     "metadata": {},
     "output_type": "display_data"
    },
    {
     "name": "stdout",
     "output_type": "stream",
     "text": [
      "{'_execution_time': 0.065, 'affected_rows': 1, 'success': True, 'auth_check': {'success': True, 'session': None, 'auth_level': None}}\n"
     ]
    },
    {
     "data": {
      "text/plain": [
       "{'id': 20437,\n",
       " 'itisNameWInd': 'Accipiter gentilis laingi',\n",
       " 'matchMethod': 'Not Matched',\n",
       " 'matchString': 'Accipiter gentilus laingi',\n",
       " 'scientificname_search': 'Accipiter gentilus laingi',\n",
       " 'scientificname_submitted': 'Accipiter gentilus laingi',\n",
       " 'wormsPairs': '\"cacheDate\"=>\"2017-06-26T13:54:24.171291\",\"wormsMatchMethod\"=>\"Not Matched\"'}"
      ]
     },
     "metadata": {},
     "output_type": "display_data"
    },
    {
     "name": "stdout",
     "output_type": "stream",
     "text": [
      "{'_execution_time': 0.07, 'affected_rows': 1, 'success': True, 'auth_check': {'success': True, 'session': None, 'auth_level': None}}\n"
     ]
    },
    {
     "data": {
      "text/plain": [
       "{'id': 20446,\n",
       " 'itisNameWInd': None,\n",
       " 'matchMethod': 'Not Matched',\n",
       " 'matchString': 'Aceria fraxinivorus',\n",
       " 'scientificname_search': 'Aceria fraxinivorus',\n",
       " 'scientificname_submitted': 'Aceria fraxinivorus',\n",
       " 'wormsPairs': '\"cacheDate\"=>\"2017-06-26T13:54:25.787298\",\"wormsMatchMethod\"=>\"Not Matched\"'}"
      ]
     },
     "metadata": {},
     "output_type": "display_data"
    },
    {
     "name": "stdout",
     "output_type": "stream",
     "text": [
      "{'_execution_time': 0.065, 'affected_rows': 1, 'success': True, 'auth_check': {'success': True, 'session': None, 'auth_level': None}}\n"
     ]
    },
    {
     "data": {
      "text/plain": [
       "{'id': 20453,\n",
       " 'itisNameWInd': None,\n",
       " 'matchMethod': 'Not Matched',\n",
       " 'matchString': 'Achatinella bulimoides',\n",
       " 'scientificname_search': 'Achatinella bulimoides',\n",
       " 'scientificname_submitted': 'Achatinella bulimoides',\n",
       " 'wormsPairs': '\"cacheDate\"=>\"2017-06-26T13:54:27.444868\",\"wormsMatchMethod\"=>\"Not Matched\"'}"
      ]
     },
     "metadata": {},
     "output_type": "display_data"
    },
    {
     "name": "stdout",
     "output_type": "stream",
     "text": [
      "{'_execution_time': 0.063, 'affected_rows': 1, 'success': True, 'auth_check': {'success': True, 'session': None, 'auth_level': None}}\n"
     ]
    },
    {
     "data": {
      "text/plain": [
       "{'id': 20454,\n",
       " 'itisNameWInd': None,\n",
       " 'matchMethod': 'Not Matched',\n",
       " 'matchString': 'Achatinella byronii/ decepiens',\n",
       " 'scientificname_search': 'Achatinella byronii/ decepiens',\n",
       " 'scientificname_submitted': 'Achatinella byronii/ decepiens',\n",
       " 'wormsPairs': '\"cacheDate\"=>\"2017-06-26T13:54:29.513024\",\"wormsMatchMethod\"=>\"Not Matched\"'}"
      ]
     },
     "metadata": {},
     "output_type": "display_data"
    },
    {
     "name": "stdout",
     "output_type": "stream",
     "text": [
      "{'_execution_time': 0.07, 'affected_rows': 1, 'success': True, 'auth_check': {'success': True, 'session': None, 'auth_level': None}}\n"
     ]
    },
    {
     "data": {
      "text/plain": [
       "{'id': 20456,\n",
       " 'itisNameWInd': None,\n",
       " 'matchMethod': 'Not Matched',\n",
       " 'matchString': 'Achatinella fulgens',\n",
       " 'scientificname_search': 'Achatinella fulgens',\n",
       " 'scientificname_submitted': 'Achatinella fulgens',\n",
       " 'wormsPairs': '\"cacheDate\"=>\"2017-06-26T13:54:32.220631\",\"wormsMatchMethod\"=>\"Not Matched\"'}"
      ]
     },
     "metadata": {},
     "output_type": "display_data"
    },
    {
     "name": "stdout",
     "output_type": "stream",
     "text": [
      "{'_execution_time': 0.064, 'affected_rows': 1, 'success': True, 'auth_check': {'success': True, 'session': None, 'auth_level': None}}\n"
     ]
    },
    {
     "data": {
      "text/plain": [
       "{'id': 20457,\n",
       " 'itisNameWInd': None,\n",
       " 'matchMethod': 'Not Matched',\n",
       " 'matchString': 'Achatinella fuscobasis',\n",
       " 'scientificname_search': 'Achatinella fuscobasis',\n",
       " 'scientificname_submitted': 'Achatinella fuscobasis',\n",
       " 'wormsPairs': '\"cacheDate\"=>\"2017-06-26T13:54:34.135714\",\"wormsMatchMethod\"=>\"Not Matched\"'}"
      ]
     },
     "metadata": {},
     "output_type": "display_data"
    },
    {
     "name": "stdout",
     "output_type": "stream",
     "text": [
      "{'_execution_time': 0.064, 'affected_rows': 1, 'success': True, 'auth_check': {'success': True, 'session': None, 'auth_level': None}}\n"
     ]
    },
    {
     "data": {
      "text/plain": [
       "{'id': 20458,\n",
       " 'itisNameWInd': None,\n",
       " 'matchMethod': 'Not Matched',\n",
       " 'matchString': 'Achatinella lila',\n",
       " 'scientificname_search': 'Achatinella lila',\n",
       " 'scientificname_submitted': 'Achatinella lila',\n",
       " 'wormsPairs': '\"cacheDate\"=>\"2017-06-26T13:54:36.025479\",\"wormsMatchMethod\"=>\"Not Matched\"'}"
      ]
     },
     "metadata": {},
     "output_type": "display_data"
    },
    {
     "name": "stdout",
     "output_type": "stream",
     "text": [
      "{'_execution_time': 0.065, 'affected_rows': 1, 'success': True, 'auth_check': {'success': True, 'session': None, 'auth_level': None}}\n"
     ]
    },
    {
     "data": {
      "text/plain": [
       "{'id': 20460,\n",
       " 'itisNameWInd': None,\n",
       " 'matchMethod': 'Not Matched',\n",
       " 'matchString': 'Achatinella mustelina',\n",
       " 'scientificname_search': 'Achatinella mustelina',\n",
       " 'scientificname_submitted': 'Achatinella mustelina',\n",
       " 'wormsPairs': '\"cacheDate\"=>\"2017-06-26T13:54:38.322385\",\"wormsMatchMethod\"=>\"Not Matched\"'}"
      ]
     },
     "metadata": {},
     "output_type": "display_data"
    },
    {
     "name": "stdout",
     "output_type": "stream",
     "text": [
      "{'_execution_time': 0.064, 'affected_rows': 1, 'success': True, 'auth_check': {'success': True, 'session': None, 'auth_level': None}}\n"
     ]
    },
    {
     "data": {
      "text/plain": [
       "{'id': 20461,\n",
       " 'itisNameWInd': None,\n",
       " 'matchMethod': 'Not Matched',\n",
       " 'matchString': 'Achatinella pupukanioe',\n",
       " 'scientificname_search': 'Achatinella pupukanioe',\n",
       " 'scientificname_submitted': 'Achatinella pupukanioe',\n",
       " 'wormsPairs': '\"cacheDate\"=>\"2017-06-26T13:54:40.077295\",\"wormsMatchMethod\"=>\"Not Matched\"'}"
      ]
     },
     "metadata": {},
     "output_type": "display_data"
    },
    {
     "name": "stdout",
     "output_type": "stream",
     "text": [
      "{'_execution_time': 0.064, 'affected_rows': 1, 'success': True, 'auth_check': {'success': True, 'session': None, 'auth_level': None}}\n"
     ]
    },
    {
     "data": {
      "text/plain": [
       "{'id': 20462,\n",
       " 'itisNameWInd': None,\n",
       " 'matchMethod': 'Not Matched',\n",
       " 'matchString': 'Achatinella sowerbyana',\n",
       " 'scientificname_search': 'Achatinella sowerbyana',\n",
       " 'scientificname_submitted': 'Achatinella sowerbyana',\n",
       " 'wormsPairs': '\"cacheDate\"=>\"2017-06-26T13:54:41.703689\",\"wormsMatchMethod\"=>\"Not Matched\"'}"
      ]
     },
     "metadata": {},
     "output_type": "display_data"
    },
    {
     "name": "stdout",
     "output_type": "stream",
     "text": [
      "{'_execution_time': 0.066, 'affected_rows': 1, 'success': True, 'auth_check': {'success': True, 'session': None, 'auth_level': None}}\n"
     ]
    },
    {
     "data": {
      "text/plain": [
       "{'id': 20465,\n",
       " 'itisNameWInd': 'Achnatherum curvifolium',\n",
       " 'matchMethod': 'Not Matched',\n",
       " 'matchString': 'Achnatherum curvifolium',\n",
       " 'scientificname_search': 'Achnatherum curvifolium',\n",
       " 'scientificname_submitted': 'Achnatherum curvifolium',\n",
       " 'wormsPairs': '\"cacheDate\"=>\"2017-06-26T13:54:43.714691\",\"wormsMatchMethod\"=>\"Not Matched\"'}"
      ]
     },
     "metadata": {},
     "output_type": "display_data"
    },
    {
     "name": "stdout",
     "output_type": "stream",
     "text": [
      "{'_execution_time': 0.064, 'affected_rows': 1, 'success': True, 'auth_check': {'success': True, 'session': None, 'auth_level': None}}\n"
     ]
    },
    {
     "data": {
      "text/plain": [
       "{'id': 20468,\n",
       " 'itisNameWInd': 'Acilius mediatus',\n",
       " 'matchMethod': 'Not Matched',\n",
       " 'matchString': 'Acilius mediatus',\n",
       " 'scientificname_search': 'Acilius mediatus',\n",
       " 'scientificname_submitted': 'Acilius mediatus',\n",
       " 'wormsPairs': '\"cacheDate\"=>\"2017-06-26T13:54:46.708587\",\"wormsMatchMethod\"=>\"Not Matched\"'}"
      ]
     },
     "metadata": {},
     "output_type": "display_data"
    },
    {
     "name": "stdout",
     "output_type": "stream",
     "text": [
      "{'_execution_time': 0.064, 'affected_rows': 1, 'success': True, 'auth_check': {'success': True, 'session': None, 'auth_level': None}}\n"
     ]
    },
    {
     "data": {
      "text/plain": [
       "{'id': 20471,\n",
       " 'itisNameWInd': 'Acipenser medirostris',\n",
       " 'matchMethod': 'Exact Match',\n",
       " 'matchString': 'Acipenser medirostris',\n",
       " 'scientificname_search': 'Acipenser medirostris',\n",
       " 'scientificname_submitted': 'Acipenser medirostris',\n",
       " 'wormsPairs': '\"cacheDate\"=>\"2017-06-26T13:54:48.185772\",\"wormsMatchMethod\"=>\"Exact Match\",\"AphiaID\"=>\"271695\",\"scientificname\"=>\"Acipenser medirostris\",\"status\"=>\"accepted\",\"rank\"=>\"Species\",\"valid_name\"=>\"Acipenser medirostris\",\"valid_AphiaID\"=>\"271695\",\"kingdom\"=>\"Animalia\",\"phylum\"=>\"Chordata\",\"class\"=>\"Actinopterygii\",\"order\"=>\"Acipenseriformes\",\"family\"=>\"Acipenseridae\",\"genus\"=>\"Acipenser\",\"lsid\"=>\"urn:lsid:marinespecies.org:taxname:271695\",\"isMarine\"=>\"1\",\"isBrackish\"=>\"1\",\"isFreshwater\"=>\"1\",\"isTerrestrial\"=>\"0\",\"isExtinct\"=>\"None\",\"match_type\"=>\"exact\",\"modified\"=>\"2008-01-15T18:27:08Z\"'}"
      ]
     },
     "metadata": {},
     "output_type": "display_data"
    },
    {
     "name": "stdout",
     "output_type": "stream",
     "text": [
      "{'_execution_time': 0.066, 'affected_rows': 1, 'success': True, 'auth_check': {'success': True, 'session': None, 'auth_level': None}}\n"
     ]
    },
    {
     "data": {
      "text/plain": [
       "{'id': 20472,\n",
       " 'itisNameWInd': None,\n",
       " 'matchMethod': 'Not Matched',\n",
       " 'matchString': 'Acipenser medirostris 36',\n",
       " 'scientificname_search': 'Acipenser medirostris 36',\n",
       " 'scientificname_submitted': 'Acipenser medirostris 36',\n",
       " 'wormsPairs': '\"cacheDate\"=>\"2017-06-26T13:54:50.022193\",\"wormsMatchMethod\"=>\"Not Matched\"'}"
      ]
     },
     "metadata": {},
     "output_type": "display_data"
    },
    {
     "name": "stdout",
     "output_type": "stream",
     "text": [
      "{'_execution_time': 0.064, 'affected_rows': 1, 'success': True, 'auth_check': {'success': True, 'session': None, 'auth_level': None}}\n"
     ]
    },
    {
     "data": {
      "text/plain": [
       "{'id': 20473,\n",
       " 'itisNameWInd': None,\n",
       " 'matchMethod': 'Not Matched',\n",
       " 'matchString': 'Acipenser medirostris 37',\n",
       " 'scientificname_search': 'Acipenser medirostris 37',\n",
       " 'scientificname_submitted': 'Acipenser medirostris 37',\n",
       " 'wormsPairs': '\"cacheDate\"=>\"2017-06-26T13:54:51.900629\",\"wormsMatchMethod\"=>\"Not Matched\"'}"
      ]
     },
     "metadata": {},
     "output_type": "display_data"
    },
    {
     "name": "stdout",
     "output_type": "stream",
     "text": [
      "{'_execution_time': 0.065, 'affected_rows': 1, 'success': True, 'auth_check': {'success': True, 'session': None, 'auth_level': None}}\n"
     ]
    },
    {
     "data": {
      "text/plain": [
       "{'id': 20452,\n",
       " 'itisNameWInd': None,\n",
       " 'matchMethod': 'Not Matched',\n",
       " 'matchString': 'Achatinella apexfulva',\n",
       " 'scientificname_search': 'Achatinella apexfulva',\n",
       " 'scientificname_submitted': 'Achatinella apexfulva',\n",
       " 'wormsPairs': '\"cacheDate\"=>\"2017-06-26T13:54:53.680253\",\"wormsMatchMethod\"=>\"Not Matched\"'}"
      ]
     },
     "metadata": {},
     "output_type": "display_data"
    },
    {
     "name": "stdout",
     "output_type": "stream",
     "text": [
      "{'_execution_time': 0.065, 'affected_rows': 1, 'success': True, 'auth_check': {'success': True, 'session': None, 'auth_level': None}}\n"
     ]
    },
    {
     "data": {
      "text/plain": [
       "{'id': 20478,\n",
       " 'itisNameWInd': 'Acipenser oxyrinchus desotoi',\n",
       " 'matchMethod': 'Exact Match',\n",
       " 'matchString': 'Acipenser oxyrinchus desotoi',\n",
       " 'scientificname_search': 'Acipenser oxyrinchus desotoi',\n",
       " 'scientificname_submitted': 'Acipenser oxyrinchus desotoi',\n",
       " 'wormsPairs': '\"cacheDate\"=>\"2017-06-26T13:54:55.033922\",\"wormsMatchMethod\"=>\"Exact Match\",\"AphiaID\"=>\"293537\",\"scientificname\"=>\"Acipenser oxyrinchus desotoi\",\"status\"=>\"unaccepted\",\"rank\"=>\"Subspecies\",\"valid_name\"=>\"Acipenser oxyrinchus\",\"valid_AphiaID\"=>\"151802\",\"kingdom\"=>\"Animalia\",\"phylum\"=>\"Chordata\",\"class\"=>\"Actinopterygii\",\"order\"=>\"Acipenseriformes\",\"family\"=>\"Acipenseridae\",\"genus\"=>\"Acipenser\",\"lsid\"=>\"urn:lsid:marinespecies.org:taxname:293537\",\"isMarine\"=>\"1\",\"isBrackish\"=>\"1\",\"isFreshwater\"=>\"1\",\"isTerrestrial\"=>\"0\",\"isExtinct\"=>\"None\",\"match_type\"=>\"exact\",\"modified\"=>\"2013-01-08T15:26:19Z\"'}"
      ]
     },
     "metadata": {},
     "output_type": "display_data"
    },
    {
     "name": "stdout",
     "output_type": "stream",
     "text": [
      "{'_execution_time': 0.066, 'affected_rows': 1, 'success': True, 'auth_check': {'success': True, 'session': None, 'auth_level': None}}\n"
     ]
    },
    {
     "data": {
      "text/plain": [
       "{'id': 20481,\n",
       " 'itisNameWInd': 'Acipenser transmontanus',\n",
       " 'matchMethod': 'ITIS Name Match',\n",
       " 'matchString': 'Acipenser transmontanus 1',\n",
       " 'scientificname_search': 'Acipenser transmontanus 1',\n",
       " 'scientificname_submitted': 'Acipenser transmontanus 1',\n",
       " 'wormsPairs': '\"cacheDate\"=>\"2017-06-26T13:54:57.138608\",\"wormsMatchMethod\"=>\"ITIS Name Match\",\"AphiaID\"=>\"238345\",\"scientificname\"=>\"Acipenser transmontanus\",\"status\"=>\"accepted\",\"rank\"=>\"Species\",\"valid_name\"=>\"Acipenser transmontanus\",\"valid_AphiaID\"=>\"238345\",\"kingdom\"=>\"Animalia\",\"phylum\"=>\"Chordata\",\"class\"=>\"Actinopterygii\",\"order\"=>\"Acipenseriformes\",\"family\"=>\"Acipenseridae\",\"genus\"=>\"Acipenser\",\"lsid\"=>\"urn:lsid:marinespecies.org:taxname:238345\",\"isMarine\"=>\"1\",\"isBrackish\"=>\"1\",\"isFreshwater\"=>\"1\",\"isTerrestrial\"=>\"0\",\"isExtinct\"=>\"None\",\"match_type\"=>\"exact\",\"modified\"=>\"2008-01-15T18:27:08Z\"'}"
      ]
     },
     "metadata": {},
     "output_type": "display_data"
    },
    {
     "name": "stdout",
     "output_type": "stream",
     "text": [
      "{'_execution_time': 0.065, 'affected_rows': 1, 'success': True, 'auth_check': {'success': True, 'session': None, 'auth_level': None}}\n"
     ]
    },
    {
     "data": {
      "text/plain": [
       "{'id': 20484,\n",
       " 'itisNameWInd': 'Acleisanthes acutifolia',\n",
       " 'matchMethod': 'Not Matched',\n",
       " 'matchString': 'Acleisanthes acutifolia',\n",
       " 'scientificname_search': 'Acleisanthes acutifolia',\n",
       " 'scientificname_submitted': 'Acleisanthes acutifolia',\n",
       " 'wormsPairs': '\"cacheDate\"=>\"2017-06-26T13:54:59.326524\",\"wormsMatchMethod\"=>\"Not Matched\"'}"
      ]
     },
     "metadata": {},
     "output_type": "display_data"
    },
    {
     "name": "stdout",
     "output_type": "stream",
     "text": [
      "{'_execution_time': 0.065, 'affected_rows': 1, 'success': True, 'auth_check': {'success': True, 'session': None, 'auth_level': None}}\n"
     ]
    },
    {
     "data": {
      "text/plain": [
       "{'id': 20487,\n",
       " 'itisNameWInd': 'Aconitum uncinatum',\n",
       " 'matchMethod': 'Not Matched',\n",
       " 'matchString': 'Aconitum uncinatum',\n",
       " 'scientificname_search': 'Aconitum uncinatum',\n",
       " 'scientificname_submitted': 'Aconitum uncinatum',\n",
       " 'wormsPairs': '\"cacheDate\"=>\"2017-06-26T13:55:02.079077\",\"wormsMatchMethod\"=>\"Not Matched\"'}"
      ]
     },
     "metadata": {},
     "output_type": "display_data"
    },
    {
     "name": "stdout",
     "output_type": "stream",
     "text": [
      "{'_execution_time': 0.067, 'affected_rows': 1, 'success': True, 'auth_check': {'success': True, 'session': None, 'auth_level': None}}\n"
     ]
    },
    {
     "data": {
      "text/plain": [
       "{'id': 20488,\n",
       " 'itisNameWInd': None,\n",
       " 'matchMethod': 'Not Matched',\n",
       " 'matchString': 'Acontia delecta',\n",
       " 'scientificname_search': 'Acontia delecta',\n",
       " 'scientificname_submitted': 'Acontia delecta',\n",
       " 'wormsPairs': '\"cacheDate\"=>\"2017-06-26T13:55:03.783550\",\"wormsMatchMethod\"=>\"Not Matched\"'}"
      ]
     },
     "metadata": {},
     "output_type": "display_data"
    },
    {
     "name": "stdout",
     "output_type": "stream",
     "text": [
      "{'_execution_time': 0.065, 'affected_rows': 1, 'success': True, 'auth_check': {'success': True, 'session': None, 'auth_level': None}}\n"
     ]
    },
    {
     "data": {
      "text/plain": [
       "{'id': 20489,\n",
       " 'itisNameWInd': None,\n",
       " 'matchMethod': 'Not Matched',\n",
       " 'matchString': 'Acontia lactipennis',\n",
       " 'scientificname_search': 'Acontia lactipennis',\n",
       " 'scientificname_submitted': 'Acontia lactipennis',\n",
       " 'wormsPairs': '\"cacheDate\"=>\"2017-06-26T13:55:05.705211\",\"wormsMatchMethod\"=>\"Not Matched\"'}"
      ]
     },
     "metadata": {},
     "output_type": "display_data"
    },
    {
     "name": "stdout",
     "output_type": "stream",
     "text": [
      "{'_execution_time': 0.065, 'affected_rows': 1, 'success': True, 'auth_check': {'success': True, 'session': None, 'auth_level': None}}\n"
     ]
    },
    {
     "data": {
      "text/plain": [
       "{'id': 20492,\n",
       " 'itisNameWInd': 'Acris blanchardi',\n",
       " 'matchMethod': 'Not Matched',\n",
       " 'matchString': 'Acris blanchardi',\n",
       " 'scientificname_search': 'Acris blanchardi',\n",
       " 'scientificname_submitted': 'Acris blanchardi',\n",
       " 'wormsPairs': '\"cacheDate\"=>\"2017-06-26T13:55:07.910100\",\"wormsMatchMethod\"=>\"Not Matched\"'}"
      ]
     },
     "metadata": {},
     "output_type": "display_data"
    },
    {
     "name": "stdout",
     "output_type": "stream",
     "text": [
      "{'_execution_time': 0.065, 'affected_rows': 1, 'success': True, 'auth_check': {'success': True, 'session': None, 'auth_level': None}}\n"
     ]
    },
    {
     "data": {
      "text/plain": [
       "{'id': 20494,\n",
       " 'itisNameWInd': None,\n",
       " 'matchMethod': 'Not Matched',\n",
       " 'matchString': 'Acris crepitans blanchardi',\n",
       " 'scientificname_search': 'Acris crepitans blanchardi',\n",
       " 'scientificname_submitted': 'Acris crepitans blanchardi',\n",
       " 'wormsPairs': '\"cacheDate\"=>\"2017-06-26T13:55:09.720240\",\"wormsMatchMethod\"=>\"Not Matched\"'}"
      ]
     },
     "metadata": {},
     "output_type": "display_data"
    },
    {
     "name": "stdout",
     "output_type": "stream",
     "text": [
      "{'_execution_time': 0.065, 'affected_rows': 1, 'success': True, 'auth_check': {'success': True, 'session': None, 'auth_level': None}}\n"
     ]
    },
    {
     "data": {
      "text/plain": [
       "{'id': 20495,\n",
       " 'itisNameWInd': None,\n",
       " 'matchMethod': 'Not Matched',\n",
       " 'matchString': 'Acris crepitans crepitans',\n",
       " 'scientificname_search': 'Acris crepitans crepitans',\n",
       " 'scientificname_submitted': 'Acris crepitans crepitans',\n",
       " 'wormsPairs': '\"cacheDate\"=>\"2017-06-26T13:55:11.494350\",\"wormsMatchMethod\"=>\"Not Matched\"'}"
      ]
     },
     "metadata": {},
     "output_type": "display_data"
    },
    {
     "name": "stdout",
     "output_type": "stream",
     "text": [
      "{'_execution_time': 0.064, 'affected_rows': 1, 'success': True, 'auth_check': {'success': True, 'session': None, 'auth_level': None}}\n"
     ]
    },
    {
     "data": {
      "text/plain": [
       "{'id': 20499,\n",
       " 'itisNameWInd': None,\n",
       " 'matchMethod': 'Not Matched',\n",
       " 'matchString': 'Acrocephalus luscinia luscinia',\n",
       " 'scientificname_search': 'Acrocephalus luscinia luscinia',\n",
       " 'scientificname_submitted': 'Acrocephalus luscinia luscinia',\n",
       " 'wormsPairs': '\"cacheDate\"=>\"2017-06-26T13:55:13.234376\",\"wormsMatchMethod\"=>\"Not Matched\"'}"
      ]
     },
     "metadata": {},
     "output_type": "display_data"
    },
    {
     "name": "stdout",
     "output_type": "stream",
     "text": [
      "{'_execution_time': 0.101, 'affected_rows': 1, 'success': True, 'auth_check': {'success': True, 'session': None, 'auth_level': None}}\n"
     ]
    },
    {
     "data": {
      "text/plain": [
       "{'id': 20500,\n",
       " 'itisNameWInd': None,\n",
       " 'matchMethod': 'Exact Match',\n",
       " 'matchString': 'Acrochaetium dotyi',\n",
       " 'scientificname_search': 'Acrochaetium dotyi',\n",
       " 'scientificname_submitted': 'Acrochaetium dotyi',\n",
       " 'wormsPairs': '\"cacheDate\"=>\"2017-06-26T13:55:14.577082\",\"wormsMatchMethod\"=>\"Exact Match\",\"AphiaID\"=>\"374547\",\"scientificname\"=>\"Acrochaetium dotyi\",\"status\"=>\"accepted\",\"rank\"=>\"Species\",\"valid_name\"=>\"Acrochaetium dotyi\",\"valid_AphiaID\"=>\"374547\",\"kingdom\"=>\"Plantae\",\"phylum\"=>\"Rhodophyta\",\"class\"=>\"Florideophyceae\"'}"
      ]
     },
     "metadata": {},
     "output_type": "display_data"
    },
    {
     "name": "stdout",
     "output_type": "stream",
     "text": [
      "{'_execution_time': 0.066, 'affected_rows': 1, 'success': True, 'auth_check': {'success': True, 'session': None, 'auth_level': None}}\n"
     ]
    },
    {
     "data": {
      "text/plain": [
       "{'id': 20501,\n",
       " 'itisNameWInd': None,\n",
       " 'matchMethod': 'Not Matched',\n",
       " 'matchString': 'Acrolepiopsis leucoscia',\n",
       " 'scientificname_search': 'Acrolepiopsis leucoscia',\n",
       " 'scientificname_submitted': 'Acrolepiopsis leucoscia',\n",
       " 'wormsPairs': '\"cacheDate\"=>\"2017-06-26T13:55:16.291844\",\"wormsMatchMethod\"=>\"Not Matched\"'}"
      ]
     },
     "metadata": {},
     "output_type": "display_data"
    },
    {
     "name": "stdout",
     "output_type": "stream",
     "text": [
      "{'_execution_time': 0.066, 'affected_rows': 1, 'success': True, 'auth_check': {'success': True, 'session': None, 'auth_level': None}}\n"
     ]
    },
    {
     "data": {
      "text/plain": [
       "{'id': 20504,\n",
       " 'itisNameWInd': 'Acrolophitus pulchellus',\n",
       " 'matchMethod': 'Not Matched',\n",
       " 'matchString': 'Acrolophitus pulchellus',\n",
       " 'scientificname_search': 'Acrolophitus pulchellus',\n",
       " 'scientificname_submitted': 'Acrolophitus pulchellus',\n",
       " 'wormsPairs': '\"cacheDate\"=>\"2017-06-26T13:55:18.328185\",\"wormsMatchMethod\"=>\"Not Matched\"'}"
      ]
     },
     "metadata": {},
     "output_type": "display_data"
    },
    {
     "name": "stdout",
     "output_type": "stream",
     "text": [
      "{'_execution_time': 0.128, 'affected_rows': 1, 'success': True, 'auth_check': {'success': True, 'session': None, 'auth_level': None}}\n"
     ]
    },
    {
     "data": {
      "text/plain": [
       "{'id': 20505,\n",
       " 'itisNameWInd': None,\n",
       " 'matchMethod': 'Not Matched',\n",
       " 'matchString': 'Acrolophus pholeter',\n",
       " 'scientificname_search': 'Acrolophus pholeter',\n",
       " 'scientificname_submitted': 'Acrolophus pholeter',\n",
       " 'wormsPairs': '\"cacheDate\"=>\"2017-06-26T13:55:20.176860\",\"wormsMatchMethod\"=>\"Not Matched\"'}"
      ]
     },
     "metadata": {},
     "output_type": "display_data"
    },
    {
     "name": "stdout",
     "output_type": "stream",
     "text": [
      "{'_execution_time': 0.067, 'affected_rows': 1, 'success': True, 'auth_check': {'success': True, 'session': None, 'auth_level': None}}\n"
     ]
    },
    {
     "data": {
      "text/plain": [
       "{'id': 20508,\n",
       " 'itisNameWInd': 'Acroneuria arenosa',\n",
       " 'matchMethod': 'Not Matched',\n",
       " 'matchString': 'Acroneuria arenosa',\n",
       " 'scientificname_search': 'Acroneuria arenosa',\n",
       " 'scientificname_submitted': 'Acroneuria arenosa',\n",
       " 'wormsPairs': '\"cacheDate\"=>\"2017-06-26T13:55:22.191710\",\"wormsMatchMethod\"=>\"Not Matched\"'}"
      ]
     },
     "metadata": {},
     "output_type": "display_data"
    },
    {
     "name": "stdout",
     "output_type": "stream",
     "text": [
      "{'_execution_time': 0.067, 'affected_rows': 1, 'success': True, 'auth_check': {'success': True, 'session': None, 'auth_level': None}}\n"
     ]
    },
    {
     "data": {
      "text/plain": [
       "{'id': 20511,\n",
       " 'itisNameWInd': 'Acroneuria flinti',\n",
       " 'matchMethod': 'Not Matched',\n",
       " 'matchString': 'Acroneuria flinti',\n",
       " 'scientificname_search': 'Acroneuria flinti',\n",
       " 'scientificname_submitted': 'Acroneuria flinti',\n",
       " 'wormsPairs': '\"cacheDate\"=>\"2017-06-26T13:55:24.178278\",\"wormsMatchMethod\"=>\"Not Matched\"'}"
      ]
     },
     "metadata": {},
     "output_type": "display_data"
    },
    {
     "name": "stdout",
     "output_type": "stream",
     "text": [
      "{'_execution_time': 0.064, 'affected_rows': 1, 'success': True, 'auth_check': {'success': True, 'session': None, 'auth_level': None}}\n"
     ]
    }
   ],
   "source": [
    "numberWithoutWoRMS = 1\n",
    "totalRecordsToProcess = 50\n",
    "totalRecordsProcessed = 0\n",
    "\n",
    "while numberWithoutWoRMS == 1 and totalRecordsProcessed <= totalRecordsToProcess:\n",
    "    q_recordToSearch = \"SELECT id, \\\n",
    "        registration->'scientificname' AS scientificname, \\\n",
    "        itis->'nameWInd' AS itisNameWInd \\\n",
    "        FROM tir.tir \\\n",
    "        WHERE worms IS NULL \\\n",
    "        AND itis IS NOT NULL \\\n",
    "        LIMIT 1\"\n",
    "    recordToSearch  = requests.get(gc2.sqlAPI(\"DataDistillery\",\"BCB\")+\"&q=\"+q_recordToSearch).json()\n",
    "    \n",
    "    numberWithoutWoRMS = len(recordToSearch[\"features\"])\n",
    "\n",
    "    if numberWithoutWoRMS == 1:\n",
    "        tirRecord = recordToSearch[\"features\"][0]\n",
    "\n",
    "        # Set up a local data structure for storage and processing\n",
    "        thisRecord = {}\n",
    "        \n",
    "        # Set data from query results\n",
    "        thisRecord[\"id\"] = tirRecord[\"properties\"][\"id\"]\n",
    "        thisRecord[\"scientificname_submitted\"] = tirRecord[\"properties\"][\"scientificname\"]\n",
    "        thisRecord[\"scientificname_search\"] = bis.cleanScientificName(thisRecord[\"scientificname_submitted\"])\n",
    "        thisRecord[\"itisNameWInd\"] = tirRecord[\"properties\"][\"itisnamewind\"]\n",
    "\n",
    "        # Set defaults for thisRecord\n",
    "        thisRecord[\"matchMethod\"] = \"Not Matched\"\n",
    "        thisRecord[\"matchString\"] = thisRecord[\"scientificname_search\"]\n",
    "        wormsData = 0\n",
    "\n",
    "        # Handle the cases where there is enough interesting stuff in the scientific name string that it comes back blank from the cleaners\n",
    "        if len(thisRecord[\"scientificname_search\"]) != 0:\n",
    "            try:\n",
    "                wormsSearchResults = requests.get(\"http://www.marinespecies.org/rest/AphiaRecordsByName/\"+thisRecord[\"scientificname_search\"]+\"?like=false&marine_only=false&offset=1\").json()\n",
    "                thisRecord[\"matchMethod\"] = \"Exact Match\"\n",
    "                wormsData = wormsSearchResults[0]\n",
    "            except:\n",
    "                try:\n",
    "                    wormsSearchResults = requests.get(\"http://www.marinespecies.org/rest/AphiaRecordsByName/\"+thisRecord[\"scientificname_search\"]+\"?like=true&marine_only=false&offset=1\").json()\n",
    "                    thisRecord[\"matchMethod\"] = \"Fuzzy Match\"\n",
    "                    wormsData = wormsSearchResults[0]\n",
    "                except:\n",
    "                    if thisRecord[\"itisNameWInd\"] != None and thisRecord[\"itisNameWInd\"] != thisRecord[\"scientificname_search\"]:\n",
    "                        try:\n",
    "                            wormsSearchResults = requests.get(\"http://www.marinespecies.org/rest/AphiaRecordsByName/\"+thisRecord[\"itisNameWInd\"]+\"?like=false&marine_only=false&offset=1\").json()\n",
    "                            thisRecord[\"matchMethod\"] = \"ITIS Name Match\"\n",
    "                            wormsData = wormsSearchResults[0]\n",
    "                        except:\n",
    "                            pass\n",
    "\n",
    "        thisRecord[\"wormsPairs\"] = worms.packageWoRMSPairs(thisRecord[\"matchMethod\"],wormsData)\n",
    "        display (thisRecord)\n",
    "        print (tir.cacheToTIR(gc2.sqlAPI(\"DataDistillery\",\"BCB\"),thisRecord[\"id\"],\"worms\",thisRecord[\"wormsPairs\"]))\n",
    "        totalRecordsProcessed = totalRecordsProcessed + 1\n"
   ]
  },
  {
   "cell_type": "code",
   "execution_count": null,
   "metadata": {
    "collapsed": true,
    "deletable": true,
    "editable": true
   },
   "outputs": [],
   "source": []
  }
 ],
 "metadata": {
  "kernelspec": {
   "display_name": "Python 3",
   "language": "python",
   "name": "python3"
  },
  "language_info": {
   "codemirror_mode": {
    "name": "ipython",
    "version": 3
   },
   "file_extension": ".py",
   "mimetype": "text/x-python",
   "name": "python",
   "nbconvert_exporter": "python",
   "pygments_lexer": "ipython3",
   "version": "3.5.3"
  }
 },
 "nbformat": 4,
 "nbformat_minor": 0
}
