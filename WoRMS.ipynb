{
 "cells": [
  {
   "cell_type": "code",
   "execution_count": 3,
   "metadata": {
    "collapsed": false,
    "deletable": true,
    "editable": true
   },
   "outputs": [],
   "source": [
    "import requests,re\n",
    "from IPython.display import display\n",
    "from bis import worms\n",
    "from bis import bis\n",
    "from bis import tir\n",
    "from bis2 import gc2"
   ]
  },
  {
   "cell_type": "code",
   "execution_count": 4,
   "metadata": {
    "collapsed": false,
    "deletable": true,
    "editable": true
   },
   "outputs": [],
   "source": [
    "q_uniqueNames = \"SELECT id, \\\n",
    "    registration->'scientificname' AS scientificname, \\\n",
    "    itis->'nameWOInd' AS itisNameWOInd, \\\n",
    "    itis->'nameWInd' AS itisNameWInd \\\n",
    "    FROM tir.tir \\\n",
    "    WHERE worms IS NULL \\\n",
    "    LIMIT 25\"\n",
    "uniqueNames  = requests.get(gc2.sqlAPI(\"DataDistillery\",\"BCB\")+\"&q=\"+q_uniqueNames).json()\n"
   ]
  },
  {
   "cell_type": "code",
   "execution_count": 13,
   "metadata": {
    "collapsed": false,
    "deletable": true,
    "editable": true,
    "scrolled": false
   },
   "outputs": [
    {
     "data": {
      "text/plain": [
       "{'id': 944,\n",
       " 'itisNameWInd': 'Otus flammeolus',\n",
       " 'itisNameWOInd': 'Otus flammeolus',\n",
       " 'matchMethod': 'Not Matched',\n",
       " 'matchString': 'Otus flammeolus',\n",
       " 'scientificname_search': 'Otus flammeolus',\n",
       " 'scientificname_submitted': 'Otus flammeolus',\n",
       " 'wormsPairs': '\"cacheDate\"=>\"2017-06-22T15:35:35.516355\",\"wormsMatchMethod\"=>\"Not Matched\"'}"
      ]
     },
     "metadata": {},
     "output_type": "display_data"
    },
    {
     "data": {
      "text/plain": [
       "{'id': 649,\n",
       " 'itisNameWInd': 'Catostomus',\n",
       " 'itisNameWOInd': 'Catostomus',\n",
       " 'matchMethod': 'Exact Match',\n",
       " 'matchString': 'Catostomus',\n",
       " 'scientificname_search': 'Catostomus',\n",
       " 'scientificname_submitted': 'Catostomus sp.',\n",
       " 'wormsPairs': '\"cacheDate\"=>\"2017-06-22T15:35:36.787582\",\"wormsMatchMethod\"=>\"Exact Match\",\"AphiaID\"=>\"158705\",\"scientificname\"=>\"Catostomus\",\"status\"=>\"accepted\",\"rank\"=>\"Genus\",\"valid_name\"=>\"Catostomus\",\"valid_AphiaID\"=>\"158705\",\"kingdom\"=>\"Animalia\",\"phylum\"=>\"Chordata\",\"class\"=>\"Actinopterygii\",\"order\"=>\"Cypriniformes\",\"family\"=>\"Catostomidae\",\"genus\"=>\"Catostomus\",\"lsid\"=>\"urn:lsid:marinespecies.org:taxname:158705\",\"isMarine\"=>\"0\",\"isBrackish\"=>\"0\",\"isFreshwater\"=>\"1\",\"isTerrestrial\"=>\"None\",\"isExtinct\"=>\"None\",\"match_type\"=>\"exact\",\"modified\"=>\"2014-11-21T14:09:38Z\"'}"
      ]
     },
     "metadata": {},
     "output_type": "display_data"
    },
    {
     "data": {
      "text/plain": [
       "{'id': 1141,\n",
       " 'itisNameWInd': 'Spea intermontana',\n",
       " 'itisNameWOInd': 'Spea intermontana',\n",
       " 'matchMethod': 'Not Matched',\n",
       " 'matchString': 'Spea intermontana',\n",
       " 'scientificname_search': 'Spea intermontana',\n",
       " 'scientificname_submitted': 'Spea intermontana',\n",
       " 'wormsPairs': '\"cacheDate\"=>\"2017-06-22T15:35:39.294743\",\"wormsMatchMethod\"=>\"Not Matched\"'}"
      ]
     },
     "metadata": {},
     "output_type": "display_data"
    },
    {
     "data": {
      "text/plain": [
       "{'id': 1039,\n",
       " 'itisNameWInd': None,\n",
       " 'itisNameWOInd': None,\n",
       " 'matchMethod': 'Not Matched',\n",
       " 'matchString': 'Rana pipiens',\n",
       " 'scientificname_search': 'Rana pipiens',\n",
       " 'scientificname_submitted': 'Rana pipiens',\n",
       " 'wormsPairs': '\"cacheDate\"=>\"2017-06-22T15:35:41.755905\",\"wormsMatchMethod\"=>\"Not Matched\"'}"
      ]
     },
     "metadata": {},
     "output_type": "display_data"
    },
    {
     "data": {
      "text/plain": [
       "{'id': 865,\n",
       " 'itisNameWInd': 'Leucosticte australis',\n",
       " 'itisNameWOInd': 'Leucosticte australis',\n",
       " 'matchMethod': 'Not Matched',\n",
       " 'matchString': 'Leucosticte australis',\n",
       " 'scientificname_search': 'Leucosticte australis',\n",
       " 'scientificname_submitted': 'Leucosticte australis',\n",
       " 'wormsPairs': '\"cacheDate\"=>\"2017-06-22T15:35:44.238075\",\"wormsMatchMethod\"=>\"Not Matched\"'}"
      ]
     },
     "metadata": {},
     "output_type": "display_data"
    },
    {
     "data": {
      "text/plain": [
       "{'id': 868,\n",
       " 'itisNameWInd': 'Lithobates pipiens',\n",
       " 'itisNameWOInd': 'Lithobates pipiens',\n",
       " 'matchMethod': 'Not Matched',\n",
       " 'matchString': 'Lithobates pipiens',\n",
       " 'scientificname_search': 'Lithobates pipiens',\n",
       " 'scientificname_submitted': 'Lithobates pipiens',\n",
       " 'wormsPairs': '\"cacheDate\"=>\"2017-06-22T15:35:46.512720\",\"wormsMatchMethod\"=>\"Not Matched\"'}"
      ]
     },
     "metadata": {},
     "output_type": "display_data"
    },
    {
     "data": {
      "text/plain": [
       "{'id': 827,\n",
       " 'itisNameWInd': 'Hyla wrightorum',\n",
       " 'itisNameWOInd': 'Hyla wrightorum',\n",
       " 'matchMethod': 'Not Matched',\n",
       " 'matchString': 'Hyla wrightorum',\n",
       " 'scientificname_search': 'Hyla wrightorum',\n",
       " 'scientificname_submitted': 'Hyla wrightorum (Huachuca-Canelo Hills DPS)',\n",
       " 'wormsPairs': '\"cacheDate\"=>\"2017-06-22T15:35:48.767478\",\"wormsMatchMethod\"=>\"Not Matched\"'}"
      ]
     },
     "metadata": {},
     "output_type": "display_data"
    },
    {
     "data": {
      "text/plain": [
       "{'id': 574,\n",
       " 'itisNameWInd': None,\n",
       " 'itisNameWOInd': None,\n",
       " 'matchMethod': 'Not Matched',\n",
       " 'matchString': 'Arsapnia arapahoe',\n",
       " 'scientificname_search': 'Arsapnia arapahoe',\n",
       " 'scientificname_submitted': 'Arsapnia [=Capnia] arapahoe',\n",
       " 'wormsPairs': '\"cacheDate\"=>\"2017-06-22T15:35:51.030032\",\"wormsMatchMethod\"=>\"Not Matched\"'}"
      ]
     },
     "metadata": {},
     "output_type": "display_data"
    },
    {
     "data": {
      "text/plain": [
       "{'id': 998,\n",
       " 'itisNameWInd': None,\n",
       " 'itisNameWOInd': None,\n",
       " 'matchMethod': 'Not Matched',\n",
       " 'matchString': 'Plestiodon gilberti arizonensis',\n",
       " 'scientificname_search': 'Plestiodon gilberti arizonensis',\n",
       " 'scientificname_submitted': 'Plestiodon gilberti arizonensis',\n",
       " 'wormsPairs': '\"cacheDate\"=>\"2017-06-22T15:35:53.528111\",\"wormsMatchMethod\"=>\"Not Matched\"'}"
      ]
     },
     "metadata": {},
     "output_type": "display_data"
    },
    {
     "data": {
      "text/plain": [
       "{'id': 585,\n",
       " 'itisNameWInd': None,\n",
       " 'itisNameWOInd': None,\n",
       " 'matchMethod': 'Not Matched',\n",
       " 'matchString': 'Aspidoscelis burti',\n",
       " 'scientificname_search': 'Aspidoscelis burti',\n",
       " 'scientificname_submitted': 'Aspidoscelis burti',\n",
       " 'wormsPairs': '\"cacheDate\"=>\"2017-06-22T15:35:56.143704\",\"wormsMatchMethod\"=>\"Not Matched\"'}"
      ]
     },
     "metadata": {},
     "output_type": "display_data"
    },
    {
     "data": {
      "text/plain": [
       "{'id': 1071,\n",
       " 'itisNameWInd': 'Smilisca fodiens',\n",
       " 'itisNameWOInd': 'Smilisca fodiens',\n",
       " 'matchMethod': 'Not Matched',\n",
       " 'matchString': 'Smilisca fodiens',\n",
       " 'scientificname_search': 'Smilisca fodiens',\n",
       " 'scientificname_submitted': 'Smilisca fodiens',\n",
       " 'wormsPairs': '\"cacheDate\"=>\"2017-06-22T15:35:58.460275\",\"wormsMatchMethod\"=>\"Not Matched\"'}"
      ]
     },
     "metadata": {},
     "output_type": "display_data"
    },
    {
     "data": {
      "text/plain": [
       "{'id': 1197,\n",
       " 'itisNameWInd': 'Tyrannus crassirostris',\n",
       " 'itisNameWOInd': 'Tyrannus crassirostris',\n",
       " 'matchMethod': 'Not Matched',\n",
       " 'matchString': 'Tyrannus crassirostris',\n",
       " 'scientificname_search': 'Tyrannus crassirostris',\n",
       " 'scientificname_submitted': 'Tyrannus crassirostris',\n",
       " 'wormsPairs': '\"cacheDate\"=>\"2017-06-22T15:36:01.002682\",\"wormsMatchMethod\"=>\"Not Matched\"'}"
      ]
     },
     "metadata": {},
     "output_type": "display_data"
    },
    {
     "data": {
      "text/plain": [
       "{'id': 798,\n",
       " 'itisNameWInd': 'Gymnorhinus cyanocephalus',\n",
       " 'itisNameWOInd': 'Gymnorhinus cyanocephalus',\n",
       " 'matchMethod': 'Not Matched',\n",
       " 'matchString': 'Gymnorhinus cyanocephalus',\n",
       " 'scientificname_search': 'Gymnorhinus cyanocephalus',\n",
       " 'scientificname_submitted': 'Gymnorhinus cyanocephalus',\n",
       " 'wormsPairs': '\"cacheDate\"=>\"2017-06-22T15:36:03.389159\",\"wormsMatchMethod\"=>\"Not Matched\"'}"
      ]
     },
     "metadata": {},
     "output_type": "display_data"
    },
    {
     "data": {
      "text/plain": [
       "{'id': 657,\n",
       " 'itisNameWInd': 'Charadrius melodus',\n",
       " 'itisNameWOInd': 'Charadrius melodus',\n",
       " 'matchMethod': 'Exact Match',\n",
       " 'matchString': 'Charadrius melodus',\n",
       " 'scientificname_search': 'Charadrius melodus',\n",
       " 'scientificname_submitted': 'Charadrius melodus',\n",
       " 'wormsPairs': '\"cacheDate\"=>\"2017-06-22T15:36:04.482470\",\"wormsMatchMethod\"=>\"Exact Match\",\"AphiaID\"=>\"159125\",\"scientificname\"=>\"Charadrius melodus\",\"status\"=>\"accepted\",\"rank\"=>\"Species\",\"valid_name\"=>\"Charadrius melodus\",\"valid_AphiaID\"=>\"159125\",\"kingdom\"=>\"Animalia\",\"phylum\"=>\"Chordata\",\"class\"=>\"Aves\",\"order\"=>\"Charadriiformes\",\"family\"=>\"Charadriidae\",\"genus\"=>\"Charadrius\",\"lsid\"=>\"urn:lsid:marinespecies.org:taxname:159125\",\"isMarine\"=>\"1\",\"isBrackish\"=>\"None\",\"isFreshwater\"=>\"None\",\"isTerrestrial\"=>\"None\",\"isExtinct\"=>\"None\",\"match_type\"=>\"exact\",\"modified\"=>\"2011-04-08T08:18:06Z\"'}"
      ]
     },
     "metadata": {},
     "output_type": "display_data"
    },
    {
     "data": {
      "text/plain": [
       "{'id': 587,\n",
       " 'itisNameWInd': None,\n",
       " 'itisNameWOInd': None,\n",
       " 'matchMethod': 'Not Matched',\n",
       " 'matchString': 'Aspidoscelis flagellicauda',\n",
       " 'scientificname_search': 'Aspidoscelis flagellicauda',\n",
       " 'scientificname_submitted': 'Aspidoscelis flagellicauda',\n",
       " 'wormsPairs': '\"cacheDate\"=>\"2017-06-22T15:36:06.976478\",\"wormsMatchMethod\"=>\"Not Matched\"'}"
      ]
     },
     "metadata": {},
     "output_type": "display_data"
    },
    {
     "data": {
      "text/plain": [
       "{'id': 620,\n",
       " 'itisNameWInd': 'Calcarius ornatus',\n",
       " 'itisNameWOInd': 'Calcarius ornatus',\n",
       " 'matchMethod': 'Not Matched',\n",
       " 'matchString': 'Calcarius ornatus',\n",
       " 'scientificname_search': 'Calcarius ornatus',\n",
       " 'scientificname_submitted': 'Calcarius ornatus',\n",
       " 'wormsPairs': '\"cacheDate\"=>\"2017-06-22T15:36:09.322868\",\"wormsMatchMethod\"=>\"Not Matched\"'}"
      ]
     },
     "metadata": {},
     "output_type": "display_data"
    },
    {
     "data": {
      "text/plain": [
       "{'id': 987,\n",
       " 'itisNameWInd': 'Pica hudsonia',\n",
       " 'itisNameWOInd': 'Pica hudsonia',\n",
       " 'matchMethod': 'Not Matched',\n",
       " 'matchString': 'Pica hudsonia',\n",
       " 'scientificname_search': 'Pica hudsonia',\n",
       " 'scientificname_submitted': 'Pica hudsonia',\n",
       " 'wormsPairs': '\"cacheDate\"=>\"2017-06-22T15:36:11.774153\",\"wormsMatchMethod\"=>\"Not Matched\"'}"
      ]
     },
     "metadata": {},
     "output_type": "display_data"
    },
    {
     "data": {
      "text/plain": [
       "{'id': 622,\n",
       " 'itisNameWInd': None,\n",
       " 'itisNameWOInd': None,\n",
       " 'matchMethod': 'Not Matched',\n",
       " 'matchString': 'Callophrys comstocki',\n",
       " 'scientificname_search': 'Callophrys comstocki',\n",
       " 'scientificname_submitted': 'Callophrys comstocki',\n",
       " 'wormsPairs': '\"cacheDate\"=>\"2017-06-22T15:36:14.279152\",\"wormsMatchMethod\"=>\"Not Matched\"'}"
      ]
     },
     "metadata": {},
     "output_type": "display_data"
    },
    {
     "data": {
      "text/plain": [
       "{'id': 640,\n",
       " 'itisNameWInd': 'Catinella vermeta',\n",
       " 'itisNameWOInd': 'Catinella vermeta',\n",
       " 'matchMethod': 'Not Matched',\n",
       " 'matchString': 'Catinella vermeta',\n",
       " 'scientificname_search': 'Catinella vermeta',\n",
       " 'scientificname_submitted': 'Catinella vermeta',\n",
       " 'wormsPairs': '\"cacheDate\"=>\"2017-06-22T15:36:16.818169\",\"wormsMatchMethod\"=>\"Not Matched\"'}"
      ]
     },
     "metadata": {},
     "output_type": "display_data"
    },
    {
     "data": {
      "text/plain": [
       "{'id': 955,\n",
       " 'itisNameWInd': 'Passerculus sandwichensis',\n",
       " 'itisNameWOInd': 'Passerculus sandwichensis',\n",
       " 'matchMethod': 'Exact Match',\n",
       " 'matchString': 'Passerculus sandwichensis',\n",
       " 'scientificname_search': 'Passerculus sandwichensis',\n",
       " 'scientificname_submitted': 'Passerculus sandwichensis',\n",
       " 'wormsPairs': '\"cacheDate\"=>\"2017-06-22T15:36:18.159331\",\"wormsMatchMethod\"=>\"Exact Match\",\"AphiaID\"=>\"422665\",\"scientificname\"=>\"Passerculus sandwichensis\",\"status\"=>\"accepted\",\"rank\"=>\"Species\",\"valid_name\"=>\"Passerculus sandwichensis\",\"valid_AphiaID\"=>\"422665\",\"kingdom\"=>\"Animalia\",\"phylum\"=>\"Chordata\",\"class\"=>\"Aves\",\"order\"=>\"Passeriformes\",\"family\"=>\"Emberizidae\",\"genus\"=>\"Passerculus\",\"lsid\"=>\"urn:lsid:marinespecies.org:taxname:422665\",\"isMarine\"=>\"0\",\"isBrackish\"=>\"0\",\"isFreshwater\"=>\"None\",\"isTerrestrial\"=>\"None\",\"isExtinct\"=>\"None\",\"match_type\"=>\"exact\",\"modified\"=>\"2011-04-08T08:18:06Z\"'}"
      ]
     },
     "metadata": {},
     "output_type": "display_data"
    },
    {
     "data": {
      "text/plain": [
       "{'id': 959,\n",
       " 'itisNameWInd': 'Pelecanus erythrorhynchos',\n",
       " 'itisNameWOInd': 'Pelecanus erythrorhynchos',\n",
       " 'matchMethod': 'Exact Match',\n",
       " 'matchString': 'Pelecanus erythrorhynchos',\n",
       " 'scientificname_search': 'Pelecanus erythrorhynchos',\n",
       " 'scientificname_submitted': 'Pelecanus erythrorhynchos',\n",
       " 'wormsPairs': '\"cacheDate\"=>\"2017-06-22T15:36:19.364484\",\"wormsMatchMethod\"=>\"Exact Match\",\"AphiaID\"=>\"159058\",\"scientificname\"=>\"Pelecanus erythrorhynchos\",\"status\"=>\"accepted\",\"rank\"=>\"Species\",\"valid_name\"=>\"Pelecanus erythrorhynchos\",\"valid_AphiaID\"=>\"159058\",\"kingdom\"=>\"Animalia\",\"phylum\"=>\"Chordata\",\"class\"=>\"Aves\",\"order\"=>\"Pelecaniformes\",\"family\"=>\"Pelecanidae\",\"genus\"=>\"Pelecanus\",\"lsid\"=>\"urn:lsid:marinespecies.org:taxname:159058\",\"isMarine\"=>\"1\",\"isBrackish\"=>\"None\",\"isFreshwater\"=>\"None\",\"isTerrestrial\"=>\"None\",\"isExtinct\"=>\"None\",\"match_type\"=>\"exact\",\"modified\"=>\"2011-04-27T11:01:37Z\"'}"
      ]
     },
     "metadata": {},
     "output_type": "display_data"
    },
    {
     "data": {
      "text/plain": [
       "{'id': 824,\n",
       " 'itisNameWInd': 'Hybognathus placitus',\n",
       " 'itisNameWOInd': 'Hybognathus placitus',\n",
       " 'matchMethod': 'Not Matched',\n",
       " 'matchString': 'Hybognathus placitus',\n",
       " 'scientificname_search': 'Hybognathus placitus',\n",
       " 'scientificname_submitted': 'Hybognathus placitus',\n",
       " 'wormsPairs': '\"cacheDate\"=>\"2017-06-22T15:36:21.646972\",\"wormsMatchMethod\"=>\"Not Matched\"'}"
      ]
     },
     "metadata": {},
     "output_type": "display_data"
    },
    {
     "data": {
      "text/plain": [
       "{'id': 642,\n",
       " 'itisNameWInd': None,\n",
       " 'itisNameWOInd': None,\n",
       " 'matchMethod': 'Not Matched',\n",
       " 'matchString': 'Catostomus clarki',\n",
       " 'scientificname_search': 'Catostomus clarki',\n",
       " 'scientificname_submitted': 'Catostomus clarki',\n",
       " 'wormsPairs': '\"cacheDate\"=>\"2017-06-22T15:36:24.189483\",\"wormsMatchMethod\"=>\"Not Matched\"'}"
      ]
     },
     "metadata": {},
     "output_type": "display_data"
    },
    {
     "data": {
      "text/plain": [
       "{'id': 1013,\n",
       " 'itisNameWInd': 'Pseudacris triseriata',\n",
       " 'itisNameWOInd': 'Pseudacris triseriata',\n",
       " 'matchMethod': 'Not Matched',\n",
       " 'matchString': 'Pseudacris triseriata',\n",
       " 'scientificname_search': 'Pseudacris triseriata',\n",
       " 'scientificname_submitted': 'Pseudacris triseriata',\n",
       " 'wormsPairs': '\"cacheDate\"=>\"2017-06-22T15:36:26.145796\",\"wormsMatchMethod\"=>\"Not Matched\"'}"
      ]
     },
     "metadata": {},
     "output_type": "display_data"
    },
    {
     "data": {
      "text/plain": [
       "{'id': 644,\n",
       " 'itisNameWInd': None,\n",
       " 'itisNameWOInd': None,\n",
       " 'matchMethod': 'Not Matched',\n",
       " 'matchString': 'Catostomus discobolus yarrowi',\n",
       " 'scientificname_search': 'Catostomus discobolus yarrowi',\n",
       " 'scientificname_submitted': 'Catostomus discobolus yarrowi',\n",
       " 'wormsPairs': '\"cacheDate\"=>\"2017-06-22T15:36:28.510746\",\"wormsMatchMethod\"=>\"Not Matched\"'}"
      ]
     },
     "metadata": {},
     "output_type": "display_data"
    }
   ],
   "source": [
    "for feature in uniqueNames[\"features\"]:\n",
    "    # Set up a local data structure for storage and processing\n",
    "    thisRecord = {}\n",
    "    \n",
    "    # Set data from query results\n",
    "    thisRecord[\"id\"] = feature[\"properties\"][\"id\"]\n",
    "    thisRecord[\"scientificname_submitted\"] = feature[\"properties\"][\"scientificname\"]\n",
    "    thisRecord[\"scientificname_search\"] = bis.cleanScientificName(thisRecord[\"scientificname_submitted\"])\n",
    "    thisRecord[\"itisNameWOInd\"] = feature[\"properties\"][\"itisnamewoind\"]\n",
    "    thisRecord[\"itisNameWInd\"] = feature[\"properties\"][\"itisnamewind\"]\n",
    "    \n",
    "    # Set defaults for thisRecord\n",
    "    thisRecord[\"matchMethod\"] = \"Not Matched\"\n",
    "    thisRecord[\"matchString\"] = thisRecord[\"scientificname_search\"]\n",
    "\n",
    "    # Handle the cases where there is enough interesting stuff in the scientific name string that it comes back blank from the cleaners\n",
    "    if len(thisRecord[\"scientificname_search\"]) != 0:\n",
    "        try:\n",
    "            wormsSearchResults = requests.get(\"http://www.marinespecies.org/rest/AphiaRecordsByName/\"+thisRecord[\"scientificname_search\"]+\"?like=false&marine_only=false&offset=1\").json()\n",
    "            thisRecord[\"matchMethod\"] = \"Exact Match\"\n",
    "            wormsData = wormsSearchResults[0]\n",
    "        except:\n",
    "            try:\n",
    "                wormsSearchResults = requests.get(\"http://www.marinespecies.org/rest/AphiaRecordsByName/\"+thisRecord[\"scientificname_search\"]+\"?like=true&marine_only=false&offset=1\").json()\n",
    "                thisRecord[\"matchMethod\"] = \"Fuzzy Match\"\n",
    "                wormsData = wormsSearchResults[0]\n",
    "            except:\n",
    "                wormsData = 0\n",
    "\n",
    "    thisRecord[\"wormsPairs\"] = worms.packageWoRMSPairs(thisRecord[\"matchMethod\"],wormsData)\n",
    "    display (thisRecord)\n",
    "    # print (tir.cacheToTIR(gc2.sqlAPI(\"DataDistillery\",\"BCB\"),thisRecord[\"id\"],\"worms\",thisRecord[\"wormsPairs\"]))\n"
   ]
  },
  {
   "cell_type": "code",
   "execution_count": null,
   "metadata": {
    "collapsed": true,
    "deletable": true,
    "editable": true
   },
   "outputs": [],
   "source": []
  }
 ],
 "metadata": {
  "kernelspec": {
   "display_name": "Python 3",
   "language": "python",
   "name": "python3"
  },
  "language_info": {
   "codemirror_mode": {
    "name": "ipython",
    "version": 3
   },
   "file_extension": ".py",
   "mimetype": "text/x-python",
   "name": "python",
   "nbconvert_exporter": "python",
   "pygments_lexer": "ipython3",
   "version": "3.5.3"
  }
 },
 "nbformat": 4,
 "nbformat_minor": 0
}
