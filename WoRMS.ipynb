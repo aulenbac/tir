{
 "cells": [
  {
   "cell_type": "markdown",
   "metadata": {
    "deletable": true,
    "editable": true
   },
   "source": [
    "Like all of the current thinking for the TIR, this code works through every registered taxa in the Taxa Information Registry and attempts to find and cache information from the World Register of Marine Species (WoRMS). It does this with a while loop to find something processable in the TIR with a safeguard on the number of records to process at a time that can be set for \"thisRun\".\n",
    "\n",
    "I also recently changed the whole data model for the TIR to accommodate JSON data structures in the different \"buckets\" of information we are caching rather than the key/value pairs in hstore columns. This lets us run a much more simple process here where we simply package a little bit of additional information and the eliminate (pop) a couple of properties from the WoRMS service response that we don't need/want to store. That is all handled in the worms module of the bis package with the packageWoRMSJSON function.\n",
    "\n",
    "The query that runs here does try to get an ITIS name from the TIR for the registered taxa, and if it exists, it will potentially use that name to query if it is different from the registered name. That way, we take advantage of having run an ITIS match previously. I made this independent of whether or not an ITIS match has been found, so we can opt to run the process again once ITIS processing is completed or updated over time."
   ]
  },
  {
   "cell_type": "code",
   "execution_count": 1,
   "metadata": {
    "collapsed": false,
    "deletable": true,
    "editable": true
   },
   "outputs": [],
   "source": [
    "import requests,re,json\n",
    "from IPython.display import display\n",
    "from bis import worms\n",
    "from bis import bis\n",
    "from bis import tir\n",
    "from bis2 import gc2"
   ]
  },
  {
   "cell_type": "code",
   "execution_count": 3,
   "metadata": {
    "collapsed": false,
    "deletable": true,
    "editable": true,
    "scrolled": true
   },
   "outputs": [
    {
     "data": {
      "text/plain": [
       "{'baseQueryURL': 'http://www.marinespecies.org/rest/AphiaRecordsByName/Carex communis amplisquama',\n",
       " 'followTaxonomy': 'true',\n",
       " 'id': 2678,\n",
       " 'matchMethod': 'Not Matched',\n",
       " 'matchString': 'Carex communis amplisquama',\n",
       " 'tryNames': ['Carex communis var. amplisquama', 'Carex communis amplisquama'],\n",
       " 'wormsJSON': {'MatchMethod': 'Not Matched',\n",
       "  'MatchString': 'Carex communis amplisquama',\n",
       "  'cacheDate': '2017-07-05T20:54:55.785517'}}"
      ]
     },
     "metadata": {},
     "output_type": "display_data"
    },
    {
     "name": "stdout",
     "output_type": "stream",
     "text": [
      "{'success': True, '_execution_time': 0.098, 'auth_check': {'success': True, 'session': None, 'auth_level': None}, 'affected_rows': 1}\n"
     ]
    },
    {
     "data": {
      "text/plain": [
       "{'baseQueryURL': 'http://www.marinespecies.org/rest/AphiaRecordsByName/Gomphus geminatus',\n",
       " 'followTaxonomy': 'true',\n",
       " 'id': 6824,\n",
       " 'matchMethod': 'Not Matched',\n",
       " 'matchString': 'Gomphus geminatus',\n",
       " 'tryNames': ['Gomphus geminatus'],\n",
       " 'wormsJSON': {'MatchMethod': 'Not Matched',\n",
       "  'MatchString': 'Gomphus geminatus',\n",
       "  'cacheDate': '2017-07-05T20:54:57.559431'}}"
      ]
     },
     "metadata": {},
     "output_type": "display_data"
    },
    {
     "name": "stdout",
     "output_type": "stream",
     "text": [
      "{'success': True, '_execution_time': 0.103, 'auth_check': {'success': True, 'session': None, 'auth_level': None}, 'affected_rows': 1}\n"
     ]
    },
    {
     "data": {
      "text/plain": [
       "{'baseQueryURL': 'http://www.marinespecies.org/rest/AphiaRecordsByName/Holomelina laeta',\n",
       " 'followTaxonomy': 'true',\n",
       " 'id': 7487,\n",
       " 'matchMethod': 'Not Matched',\n",
       " 'matchString': 'Holomelina laeta',\n",
       " 'tryNames': ['Holomelina laeta'],\n",
       " 'wormsJSON': {'MatchMethod': 'Not Matched',\n",
       "  'MatchString': 'Holomelina laeta',\n",
       "  'cacheDate': '2017-07-05T20:54:59.352474'}}"
      ]
     },
     "metadata": {},
     "output_type": "display_data"
    },
    {
     "name": "stdout",
     "output_type": "stream",
     "text": [
      "{'success': True, '_execution_time': 0.104, 'auth_check': {'success': True, 'session': None, 'auth_level': None}, 'affected_rows': 1}\n"
     ]
    },
    {
     "data": {
      "text/plain": [
       "{'baseQueryURL': 'http://www.marinespecies.org/rest/AphiaRecordsByName/Eurycea chisholmensis',\n",
       " 'followTaxonomy': 'true',\n",
       " 'id': 6117,\n",
       " 'matchMethod': 'Not Matched',\n",
       " 'matchString': 'Eurycea chisholmensis',\n",
       " 'tryNames': ['Eurycea chisolmensis', 'Eurycea chisholmensis'],\n",
       " 'wormsJSON': {'MatchMethod': 'Not Matched',\n",
       "  'MatchString': 'Eurycea chisholmensis',\n",
       "  'cacheDate': '2017-07-05T20:55:01.960422'}}"
      ]
     },
     "metadata": {},
     "output_type": "display_data"
    },
    {
     "name": "stdout",
     "output_type": "stream",
     "text": [
      "{'success': True, '_execution_time': 0.118, 'auth_check': {'success': True, 'session': None, 'auth_level': None}, 'affected_rows': 1}\n"
     ]
    },
    {
     "data": {
      "text/plain": [
       "{'baseQueryURL': 'http://www.marinespecies.org/rest/AphiaRecordsByName/Cellana melanostoma',\n",
       " 'followTaxonomy': 'true',\n",
       " 'id': 2987,\n",
       " 'matchMethod': 'Exact Match',\n",
       " 'matchString': 'Cellana melanostoma',\n",
       " 'tryNames': ['Cellana melanostoma'],\n",
       " 'wormsJSON': {'AphiaID': 742903,\n",
       "  'MatchMethod': 'Exact Match',\n",
       "  'MatchString': 'Cellana melanostoma',\n",
       "  'cacheDate': '2017-07-05T20:55:03.482279',\n",
       "  'class': 'Gastropoda',\n",
       "  'family': 'Nacellidae',\n",
       "  'genus': 'Cellana',\n",
       "  'isBrackish': None,\n",
       "  'isExtinct': None,\n",
       "  'isFreshwater': None,\n",
       "  'isMarine': 1,\n",
       "  'isTerrestrial': None,\n",
       "  'kingdom': 'Animalia',\n",
       "  'lsid': 'urn:lsid:marinespecies.org:taxname:742903',\n",
       "  'match_type': 'exact',\n",
       "  'modified': '2013-10-21T22:39:27Z',\n",
       "  'order': None,\n",
       "  'phylum': 'Mollusca',\n",
       "  'rank': 'Species',\n",
       "  'scientificname': 'Cellana melanostoma',\n",
       "  'status': 'accepted',\n",
       "  'unacceptreason': None,\n",
       "  'valid_AphiaID': 742903,\n",
       "  'valid_name': 'Cellana melanostoma'}}"
      ]
     },
     "metadata": {},
     "output_type": "display_data"
    },
    {
     "name": "stdout",
     "output_type": "stream",
     "text": [
      "{'success': True, '_execution_time': 0.122, 'auth_check': {'success': True, 'session': None, 'auth_level': None}, 'affected_rows': 1}\n"
     ]
    }
   ],
   "source": [
    "# Set up the actions/targets for this particular instance\n",
    "thisRun = {}\n",
    "thisRun[\"instance\"] = \"DataDistillery\"\n",
    "thisRun[\"db\"] = \"BCB\"\n",
    "thisRun[\"baseURL\"] = gc2.sqlAPI(thisRun[\"instance\"],thisRun[\"db\"])\n",
    "thisRun[\"commitToDB\"] = True\n",
    "thisRun[\"totalRecordsToProcess\"] = 5\n",
    "thisRun[\"totalRecordsProcessed\"] = 0\n",
    "thisRun[\"wormsNameService\"] = \"http://www.marinespecies.org/rest/AphiaRecordsByName/\"\n",
    "thisRun[\"wormsIDService\"] = \"http://www.marinespecies.org/rest/AphiaRecordByAphiaID/\"\n",
    "\n",
    "numberWithoutTIRData = 1\n",
    "\n",
    "while numberWithoutTIRData == 1 and thisRun[\"totalRecordsProcessed\"] < thisRun[\"totalRecordsToProcess\"]:\n",
    "    q_recordToSearch = \"SELECT id, \\\n",
    "        registration->>'source' AS source, \\\n",
    "        registration->>'followTaxonomy' AS followtaxonomy, \\\n",
    "        registration->>'taxonomicLookupProperty' AS taxonomiclookupproperty, \\\n",
    "        registration->>'scientificname' AS scientificname, \\\n",
    "        itis->>'nameWInd' AS nameWInd, \\\n",
    "        itis->>'nameWOInd' AS nameWOInd \\\n",
    "        FROM tir.tir \\\n",
    "        WHERE worms IS NULL \\\n",
    "        LIMIT 1\"\n",
    "    recordToSearch  = requests.get(gc2.sqlAPI(\"DataDistillery\",\"BCB\")+\"&q=\"+q_recordToSearch).json()\n",
    "    \n",
    "    numberWithoutTIRData = len(recordToSearch[\"features\"])\n",
    "\n",
    "    if numberWithoutTIRData == 1:\n",
    "        tirRecord = recordToSearch[\"features\"][0]\n",
    "\n",
    "        # Set up a local data structure for storage and processing\n",
    "        thisRecord = {}\n",
    "        \n",
    "        # Set data from query results\n",
    "        thisRecord[\"id\"] = tirRecord[\"properties\"][\"id\"]\n",
    "        thisRecord[\"followTaxonomy\"] = tirRecord[\"properties\"][\"followtaxonomy\"]\n",
    "\n",
    "        thisRecord[\"tryNames\"] = []\n",
    "        thisRecord[\"tryNames\"].append(bis.cleanScientificName(tirRecord[\"properties\"][\"scientificname\"]))\n",
    "        if tirRecord[\"properties\"][\"namewind\"] is not None and tirRecord[\"properties\"][\"namewind\"] not in thisRecord[\"tryNames\"]:\n",
    "            thisRecord[\"tryNames\"].append(tirRecord[\"properties\"][\"namewind\"])\n",
    "        if tirRecord[\"properties\"][\"namewoind\"] is not None and tirRecord[\"properties\"][\"namewoind\"] not in thisRecord[\"tryNames\"]:\n",
    "            thisRecord[\"tryNames\"].append(tirRecord[\"properties\"][\"namewoind\"])\n",
    "        \n",
    "        # Set defaults for thisRecord\n",
    "        thisRecord[\"matchMethod\"] = \"Not Matched\"\n",
    "        wormsData = 0\n",
    "\n",
    "        # Handle cases where cleaning the Scientific Name resulted in a single blank value to search on\n",
    "        if len(thisRecord[\"tryNames\"]) == 1 and len(thisRecord[\"tryNames\"][0]) == 0:\n",
    "            thisRecord[\"matchString\"] = tirRecord[\"properties\"][\"scientificname\"]\n",
    "            thisRecord[\"tryNames\"] = []\n",
    "\n",
    "        for name in thisRecord[\"tryNames\"]:\n",
    "            # Handle the cases where there is enough interesting stuff in the scientific name string that it comes back blank from the cleaners\n",
    "            if len(name) != 0:\n",
    "                thisRecord[\"matchString\"] = name\n",
    "                thisRecord[\"baseQueryURL\"] = thisRun[\"wormsNameService\"]+name\n",
    "                wormsSearchResults = requests.get(thisRecord[\"baseQueryURL\"]+\"?like=false&marine_only=false&offset=1\")\n",
    "                if wormsSearchResults.status_code == 204 or wormsSearchResults.json()[0][\"valid_name\"] is None:\n",
    "                    wormsSearchResults = requests.get(thisRecord[\"baseQueryURL\"]+\"?like=true&marine_only=false&offset=1\")\n",
    "                    if wormsSearchResults.status_code != 204 and wormsSearchResults.json()[0][\"valid_name\"] is not None:\n",
    "                        wormsData = wormsSearchResults.json()[0]\n",
    "                        thisRecord[\"matchMethod\"] = \"Fuzzy Match\"\n",
    "                else:\n",
    "                    wormsData = wormsSearchResults.json()[0]\n",
    "                    thisRecord[\"matchMethod\"] = \"Exact Match\"\n",
    "                    break\n",
    "        \n",
    "        if not type(wormsData) == int and wormsData[\"status\"] != \"accepted\" and thisRecord[\"followTaxonomy\"] == \"true\":\n",
    "            validAphiaID = str(wormsData[\"valid_AphiaID\"])\n",
    "            wormsSearchResults = requests.get(thisRun[\"wormsIDService\"]+validAphiaID)\n",
    "            if wormsSearchResults.status_code != 204 and wormsSearchResults.json()[\"valid_name\"] is not None:\n",
    "                wormsData = wormsSearchResults.json()\n",
    "                thisRecord[\"matchString\"] = validAphiaID\n",
    "                thisRecord[\"matchMethod\"] = \"Followed Accepted AphiaID\"\n",
    "        \n",
    "        thisRecord[\"wormsJSON\"] = worms.packageWoRMSJSON(thisRecord[\"matchMethod\"],thisRecord[\"matchString\"],wormsData)\n",
    "        display (thisRecord)\n",
    "        if thisRun[\"commitToDB\"]:\n",
    "            print (tir.cacheToTIR(gc2.sqlAPI(\"DataDistillery\",\"BCB\"),thisRecord[\"id\"],\"worms\",json.dumps(thisRecord[\"wormsJSON\"])))\n",
    "        thisRun[\"totalRecordsProcessed\"] = thisRun[\"totalRecordsProcessed\"] + 1\n"
   ]
  },
  {
   "cell_type": "code",
   "execution_count": 4,
   "metadata": {
    "collapsed": false,
    "deletable": true,
    "editable": true,
    "scrolled": false
   },
   "outputs": [
    {
     "name": "stdout",
     "output_type": "stream",
     "text": [
      "Number without WoRMS: 7764\n"
     ]
    }
   ],
   "source": [
    "print (\"Number without WoRMS: \"+str(requests.get(gc2.sqlAPI(\"DataDistillery\",\"BCB\")+\"&q=SELECT count(*) AS num FROM tir.tir WHERE worms IS NULL\").json()[\"features\"][0][\"properties\"][\"num\"]))"
   ]
  },
  {
   "cell_type": "code",
   "execution_count": null,
   "metadata": {
    "collapsed": true,
    "deletable": true,
    "editable": true
   },
   "outputs": [],
   "source": []
  }
 ],
 "metadata": {
  "kernelspec": {
   "display_name": "Python 3",
   "language": "python",
   "name": "python3"
  },
  "language_info": {
   "codemirror_mode": {
    "name": "ipython",
    "version": 3
   },
   "file_extension": ".py",
   "mimetype": "text/x-python",
   "name": "python",
   "nbconvert_exporter": "python",
   "pygments_lexer": "ipython3",
   "version": "3.5.3"
  }
 },
 "nbformat": 4,
 "nbformat_minor": 0
}
