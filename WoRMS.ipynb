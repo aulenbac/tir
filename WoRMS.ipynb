{
 "cells": [
  {
   "cell_type": "markdown",
   "metadata": {
    "deletable": true,
    "editable": true
   },
   "source": [
    "I'm experimenting with a new, smaller increment method here of working through the TIR registrations on WoRMS matching. In this process, we work on WoRMS matching until there is nothing left to work on by using a while loop on the number of possible records to work on. I also threw in a safeguard total number to process and include that in the check so the loop doesn't run away on us.\n",
    "\n",
    "This might be a little less efficient than grabbing up a whole batch of records at once that meet some criteria and then processing through all of those. It has to execute the following three API interactions:\n",
    "\n",
    "1) Get a single TIR registration that does not currently have any WoRMS data and has been processed by ITIS (so we have an alternative name to work against)\n",
    "2) Check the TIR registered name against the WoRMS REST service\n",
    "3) If we find a match, insert the WoRMS information into the TIR\n",
    "\n",
    "However, that is only a single additional API interaction per record, and it allows us to simply kick off this process whenever and have it run until there's nothing left to do. It seems like that might be conducive to processing on the Kafka/microservices architecture."
   ]
  },
  {
   "cell_type": "code",
   "execution_count": 2,
   "metadata": {
    "collapsed": false,
    "deletable": true,
    "editable": true
   },
   "outputs": [],
   "source": [
    "import requests,re\n",
    "from IPython.display import display\n",
    "from bis import worms\n",
    "from bis import bis\n",
    "from bis import tir\n",
    "from bis2 import gc2"
   ]
  },
  {
   "cell_type": "code",
   "execution_count": 19,
   "metadata": {
    "collapsed": false,
    "deletable": true,
    "editable": true,
    "scrolled": true
   },
   "outputs": [
    {
     "data": {
      "text/plain": [
       "{'baseQueryURL': 'http://www.marinespecies.org/rest/AphiaRecordsByName/Sciurus aberti chuscensis',\n",
       " 'followTaxonomy': 'true',\n",
       " 'id': 35023,\n",
       " 'matchMethod': 'Not Matched',\n",
       " 'matchString': 'Sciurus aberti chuscensis',\n",
       " 'tryNames': ['Sciurus aberti chuscensis'],\n",
       " 'wormsPairs': '\"cacheDate\"=>\"2017-06-28T18:20:07.532613\",\"wormsMatchMethod\"=>\"Not Matched\"'}"
      ]
     },
     "metadata": {},
     "output_type": "display_data"
    },
    {
     "name": "stdout",
     "output_type": "stream",
     "text": [
      "{'auth_check': {'auth_level': None, 'success': True, 'session': None}, 'success': True, '_execution_time': 0.066, 'affected_rows': 1}\n"
     ]
    },
    {
     "data": {
      "text/plain": [
       "{'baseQueryURL': 'http://www.marinespecies.org/rest/AphiaRecordsByName/Lethe eurydice',\n",
       " 'followTaxonomy': 'true',\n",
       " 'id': 29036,\n",
       " 'matchMethod': 'Not Matched',\n",
       " 'matchString': 'Lethe eurydice',\n",
       " 'tryNames': ['Lethe eurydice'],\n",
       " 'wormsPairs': '\"cacheDate\"=>\"2017-06-28T18:20:09.395903\",\"wormsMatchMethod\"=>\"Not Matched\"'}"
      ]
     },
     "metadata": {},
     "output_type": "display_data"
    },
    {
     "name": "stdout",
     "output_type": "stream",
     "text": [
      "{'auth_check': {'auth_level': None, 'success': True, 'session': None}, 'success': True, '_execution_time': 0.066, 'affected_rows': 1}\n"
     ]
    },
    {
     "data": {
      "text/plain": [
       "{'baseQueryURL': 'http://www.marinespecies.org/rest/AphiaRecordsByName/Tripterocalyx micranthus',\n",
       " 'followTaxonomy': 'true',\n",
       " 'id': 37056,\n",
       " 'matchMethod': 'Not Matched',\n",
       " 'matchString': 'Tripterocalyx micranthus',\n",
       " 'tryNames': ['Tripterocalyx micranthus'],\n",
       " 'wormsPairs': '\"cacheDate\"=>\"2017-06-28T18:20:11.182096\",\"wormsMatchMethod\"=>\"Not Matched\"'}"
      ]
     },
     "metadata": {},
     "output_type": "display_data"
    },
    {
     "name": "stdout",
     "output_type": "stream",
     "text": [
      "{'auth_check': {'auth_level': None, 'success': True, 'session': None}, 'success': True, '_execution_time': 0.065, 'affected_rows': 1}\n"
     ]
    },
    {
     "data": {
      "text/plain": [
       "{'baseQueryURL': 'http://www.marinespecies.org/rest/AphiaRecordsByName/Nyssa biflora',\n",
       " 'followTaxonomy': 'true',\n",
       " 'id': 31043,\n",
       " 'matchMethod': 'Not Matched',\n",
       " 'matchString': 'Nyssa biflora',\n",
       " 'tryNames': ['Nyssa biflora'],\n",
       " 'wormsPairs': '\"cacheDate\"=>\"2017-06-28T18:20:12.839538\",\"wormsMatchMethod\"=>\"Not Matched\"'}"
      ]
     },
     "metadata": {},
     "output_type": "display_data"
    },
    {
     "name": "stdout",
     "output_type": "stream",
     "text": [
      "{'auth_check': {'auth_level': None, 'success': True, 'session': None}, 'success': True, '_execution_time': 0.066, 'affected_rows': 1}\n"
     ]
    },
    {
     "data": {
      "text/plain": [
       "{'baseQueryURL': 'http://www.marinespecies.org/rest/AphiaRecordsByName/Palaemonidae',\n",
       " 'followTaxonomy': 'true',\n",
       " 'id': 31784,\n",
       " 'matchMethod': 'Exact Match',\n",
       " 'matchString': 'Palaemonidae',\n",
       " 'tryNames': ['Palaemonidae'],\n",
       " 'wormsPairs': '\"cacheDate\"=>\"2017-06-28T18:20:14.116914\",\"wormsMatchMethod\"=>\"Exact Match\",\"AphiaID\"=>\"106788\",\"scientificname\"=>\"Palaemonidae\",\"status\"=>\"accepted\",\"rank\"=>\"Family\",\"valid_name\"=>\"Palaemonidae\",\"lsid\"=>\"urn:lsid:marinespecies.org:taxname:106788\",\"isMarine\"=>\"1\",\"isBrackish\"=>\"None\",\"isFreshwater\"=>\"None\",\"isTerrestrial\"=>\"None\",\"isExtinct\"=>\"None\",\"match_type\"=>\"exact\",\"modified\"=>\"2004-12-21T16:54:05Z\",\"valid_AphiaID\"=>\"106788\",\"kingdom\"=>\"Animalia\",\"phylum\"=>\"Arthropoda\",\"class\"=>\"Malacostraca\",\"order\"=>\"Decapoda\",\"family\"=>\"Palaemonidae\"'}"
      ]
     },
     "metadata": {},
     "output_type": "display_data"
    },
    {
     "name": "stdout",
     "output_type": "stream",
     "text": [
      "{'auth_check': {'auth_level': None, 'success': True, 'session': None}, 'success': True, '_execution_time': 0.067, 'affected_rows': 1}\n"
     ]
    },
    {
     "data": {
      "text/plain": [
       "{'baseQueryURL': 'http://www.marinespecies.org/rest/AphiaRecordsByName/Salvelinus confluentus',\n",
       " 'followTaxonomy': 'true',\n",
       " 'id': 34744,\n",
       " 'matchMethod': 'Exact Match',\n",
       " 'matchString': 'Salvelinus confluentus',\n",
       " 'tryNames': ['Salvelinus confluentus'],\n",
       " 'wormsPairs': '\"cacheDate\"=>\"2017-06-28T18:20:15.394127\",\"wormsMatchMethod\"=>\"Exact Match\",\"AphiaID\"=>\"274352\",\"scientificname\"=>\"Salvelinus confluentus\",\"status\"=>\"accepted\",\"rank\"=>\"Species\",\"valid_name\"=>\"Salvelinus confluentus\",\"lsid\"=>\"urn:lsid:marinespecies.org:taxname:274352\",\"isMarine\"=>\"1\",\"isBrackish\"=>\"1\",\"isFreshwater\"=>\"1\",\"isTerrestrial\"=>\"0\",\"isExtinct\"=>\"None\",\"match_type\"=>\"exact\",\"modified\"=>\"2008-01-15T18:27:08Z\",\"valid_AphiaID\"=>\"274352\",\"kingdom\"=>\"Animalia\",\"phylum\"=>\"Chordata\",\"class\"=>\"Actinopterygii\",\"order\"=>\"Salmoniformes\",\"family\"=>\"Salmonidae\",\"genus\"=>\"Salvelinus\"'}"
      ]
     },
     "metadata": {},
     "output_type": "display_data"
    },
    {
     "name": "stdout",
     "output_type": "stream",
     "text": [
      "{'auth_check': {'auth_level': None, 'success': True, 'session': None}, 'success': True, '_execution_time': 0.068, 'affected_rows': 1}\n"
     ]
    },
    {
     "data": {
      "text/plain": [
       "{'baseQueryURL': 'http://www.marinespecies.org/rest/AphiaRecordsByName/Sanicula trifoliata',\n",
       " 'followTaxonomy': 'true',\n",
       " 'id': 34781,\n",
       " 'matchMethod': 'Not Matched',\n",
       " 'matchString': 'Sanicula trifoliata',\n",
       " 'tryNames': ['Sanicula trifoliata'],\n",
       " 'wormsPairs': '\"cacheDate\"=>\"2017-06-28T18:20:17.583222\",\"wormsMatchMethod\"=>\"Not Matched\"'}"
      ]
     },
     "metadata": {},
     "output_type": "display_data"
    },
    {
     "name": "stdout",
     "output_type": "stream",
     "text": [
      "{'auth_check': {'auth_level': None, 'success': True, 'session': None}, 'success': True, '_execution_time': 0.065, 'affected_rows': 1}\n"
     ]
    },
    {
     "data": {
      "text/plain": [
       "{'baseQueryURL': 'http://www.marinespecies.org/rest/AphiaRecordsByName/Ammospiza maritime',\n",
       " 'followTaxonomy': 'true',\n",
       " 'id': 21026,\n",
       " 'matchMethod': 'Not Matched',\n",
       " 'matchString': 'Ammospiza maritime',\n",
       " 'tryNames': ['Ammospiza maritime'],\n",
       " 'wormsPairs': '\"cacheDate\"=>\"2017-06-28T18:20:19.470872\",\"wormsMatchMethod\"=>\"Not Matched\"'}"
      ]
     },
     "metadata": {},
     "output_type": "display_data"
    },
    {
     "name": "stdout",
     "output_type": "stream",
     "text": [
      "{'auth_check': {'auth_level': None, 'success': True, 'session': None}, 'success': True, '_execution_time': 0.066, 'affected_rows': 1}\n"
     ]
    },
    {
     "data": {
      "text/plain": [
       "{'baseQueryURL': 'http://www.marinespecies.org/rest/AphiaRecordsByName/Phyllorhynchus decurtatus',\n",
       " 'followTaxonomy': 'true',\n",
       " 'id': 32644,\n",
       " 'matchMethod': 'Not Matched',\n",
       " 'matchString': 'Phyllorhynchus decurtatus',\n",
       " 'tryNames': ['Phyllorhynchus decurtatus'],\n",
       " 'wormsPairs': '\"cacheDate\"=>\"2017-06-28T18:20:21.095502\",\"wormsMatchMethod\"=>\"Not Matched\"'}"
      ]
     },
     "metadata": {},
     "output_type": "display_data"
    },
    {
     "name": "stdout",
     "output_type": "stream",
     "text": [
      "{'auth_check': {'auth_level': None, 'success': True, 'session': None}, 'success': True, '_execution_time': 0.065, 'affected_rows': 1}\n"
     ]
    },
    {
     "data": {
      "text/plain": [
       "{'baseQueryURL': 'http://www.marinespecies.org/rest/AphiaRecordsByName/Scytonema pulvinatum',\n",
       " 'followTaxonomy': 'true',\n",
       " 'id': 35103,\n",
       " 'matchMethod': 'Exact Match',\n",
       " 'matchString': 'Scytonema pulvinatum',\n",
       " 'tryNames': ['Scytonema pulvinatum'],\n",
       " 'wormsPairs': '\"cacheDate\"=>\"2017-06-28T18:20:22.353739\",\"wormsMatchMethod\"=>\"Exact Match\",\"AphiaID\"=>\"618345\",\"scientificname\"=>\"Scytonema pulvinatum\",\"status\"=>\"accepted\",\"rank\"=>\"Species\",\"valid_name\"=>\"Scytonema pulvinatum\",\"lsid\"=>\"urn:lsid:marinespecies.org:taxname:618345\",\"isMarine\"=>\"0\",\"isBrackish\"=>\"0\",\"isFreshwater\"=>\"None\",\"isTerrestrial\"=>\"1\",\"isExtinct\"=>\"None\",\"match_type\"=>\"exact\",\"modified\"=>\"2015-06-26T14:00:51Z\",\"valid_AphiaID\"=>\"618345\",\"kingdom\"=>\"Bacteria\",\"phylum\"=>\"Cyanobacteria\",\"class\"=>\"Cyanophyceae\",\"order\"=>\"Nostocales\",\"family\"=>\"Scytonemataceae\",\"genus\"=>\"Scytonema\"'}"
      ]
     },
     "metadata": {},
     "output_type": "display_data"
    },
    {
     "name": "stdout",
     "output_type": "stream",
     "text": [
      "{'auth_check': {'auth_level': None, 'success': True, 'session': None}, 'success': True, '_execution_time': 0.067, 'affected_rows': 1}\n"
     ]
    },
    {
     "data": {
      "text/plain": [
       "{'baseQueryURL': 'http://www.marinespecies.org/rest/AphiaRecordsByName/Lampsilis fasciola',\n",
       " 'followTaxonomy': 'true',\n",
       " 'id': 28693,\n",
       " 'matchMethod': 'Exact Match',\n",
       " 'matchString': 'Lampsilis fasciola',\n",
       " 'tryNames': ['Lampsilis fasciola'],\n",
       " 'wormsPairs': '\"cacheDate\"=>\"2017-06-28T18:20:23.638117\",\"wormsMatchMethod\"=>\"Exact Match\",\"AphiaID\"=>\"857237\",\"scientificname\"=>\"Lampsilis fasciola\",\"status\"=>\"accepted\",\"rank\"=>\"Species\",\"valid_name\"=>\"Lampsilis fasciola\",\"lsid\"=>\"urn:lsid:marinespecies.org:taxname:857237\",\"isMarine\"=>\"0\",\"isBrackish\"=>\"0\",\"isFreshwater\"=>\"1\",\"isTerrestrial\"=>\"0\",\"isExtinct\"=>\"None\",\"match_type\"=>\"exact\",\"modified\"=>\"2015-10-16T13:46:27Z\",\"valid_AphiaID\"=>\"857237\",\"kingdom\"=>\"Animalia\",\"phylum\"=>\"Mollusca\",\"class\"=>\"Bivalvia\",\"order\"=>\"Unionida\",\"family\"=>\"Unionidae\",\"genus\"=>\"Lampsilis\"'}"
      ]
     },
     "metadata": {},
     "output_type": "display_data"
    },
    {
     "name": "stdout",
     "output_type": "stream",
     "text": [
      "{'auth_check': {'auth_level': None, 'success': True, 'session': None}, 'success': True, '_execution_time': 0.068, 'affected_rows': 1}\n"
     ]
    },
    {
     "data": {
      "text/plain": [
       "{'baseQueryURL': 'http://www.marinespecies.org/rest/AphiaRecordsByName/Noturus munitus',\n",
       " 'followTaxonomy': 'true',\n",
       " 'id': 30983,\n",
       " 'matchMethod': 'Not Matched',\n",
       " 'matchString': 'Noturus munitus',\n",
       " 'tryNames': ['Noturus munitus'],\n",
       " 'wormsPairs': '\"cacheDate\"=>\"2017-06-28T18:20:25.325571\",\"wormsMatchMethod\"=>\"Not Matched\"'}"
      ]
     },
     "metadata": {},
     "output_type": "display_data"
    },
    {
     "name": "stdout",
     "output_type": "stream",
     "text": [
      "{'auth_check': {'auth_level': None, 'success': True, 'session': None}, 'success': True, '_execution_time': 0.065, 'affected_rows': 1}\n"
     ]
    },
    {
     "data": {
      "text/plain": [
       "{'baseQueryURL': 'http://www.marinespecies.org/rest/AphiaRecordsByName/Lampsilis hydiana',\n",
       " 'followTaxonomy': 'true',\n",
       " 'id': 28698,\n",
       " 'matchMethod': 'Exact Match',\n",
       " 'matchString': 'Lampsilis hydiana',\n",
       " 'tryNames': ['Lampsilis hydiana'],\n",
       " 'wormsPairs': '\"cacheDate\"=>\"2017-06-28T18:20:26.580296\",\"wormsMatchMethod\"=>\"Exact Match\",\"AphiaID\"=>\"857321\",\"scientificname\"=>\"Lampsilis hydiana\",\"status\"=>\"accepted\",\"rank\"=>\"Species\",\"valid_name\"=>\"Lampsilis hydiana\",\"lsid\"=>\"urn:lsid:marinespecies.org:taxname:857321\",\"isMarine\"=>\"0\",\"isBrackish\"=>\"0\",\"isFreshwater\"=>\"1\",\"isTerrestrial\"=>\"0\",\"isExtinct\"=>\"None\",\"match_type\"=>\"exact\",\"modified\"=>\"2016-11-15T17:28:43Z\",\"valid_AphiaID\"=>\"857321\",\"kingdom\"=>\"Animalia\",\"phylum\"=>\"Mollusca\",\"class\"=>\"Bivalvia\",\"order\"=>\"Unionida\",\"family\"=>\"Unionidae\",\"genus\"=>\"Lampsilis\"'}"
      ]
     },
     "metadata": {},
     "output_type": "display_data"
    },
    {
     "name": "stdout",
     "output_type": "stream",
     "text": [
      "{'auth_check': {'auth_level': None, 'success': True, 'session': None}, 'success': True, '_execution_time': 0.066, 'affected_rows': 1}\n"
     ]
    },
    {
     "data": {
      "text/plain": [
       "{'baseQueryURL': 'http://www.marinespecies.org/rest/AphiaRecordsByName/Sebastes diaconus',\n",
       " 'followTaxonomy': 'true',\n",
       " 'id': 35107,\n",
       " 'matchMethod': 'Not Matched',\n",
       " 'matchString': 'Sebastes diaconus',\n",
       " 'tryNames': ['Sebastes diaconus'],\n",
       " 'wormsPairs': '\"cacheDate\"=>\"2017-06-28T18:20:28.144941\",\"wormsMatchMethod\"=>\"Not Matched\"'}"
      ]
     },
     "metadata": {},
     "output_type": "display_data"
    },
    {
     "name": "stdout",
     "output_type": "stream",
     "text": [
      "{'auth_check': {'auth_level': None, 'success': True, 'session': None}, 'success': True, '_execution_time': 0.065, 'affected_rows': 1}\n"
     ]
    },
    {
     "data": {
      "text/plain": [
       "{'baseQueryURL': 'http://www.marinespecies.org/rest/AphiaRecordsByName/Sphalloplana hypogea',\n",
       " 'followTaxonomy': 'true',\n",
       " 'id': 35760,\n",
       " 'matchMethod': 'Not Matched',\n",
       " 'matchString': 'Sphalloplana hypogea',\n",
       " 'tryNames': ['Sphalloplana hypogea'],\n",
       " 'wormsPairs': '\"cacheDate\"=>\"2017-06-28T18:20:29.725736\",\"wormsMatchMethod\"=>\"Not Matched\"'}"
      ]
     },
     "metadata": {},
     "output_type": "display_data"
    },
    {
     "name": "stdout",
     "output_type": "stream",
     "text": [
      "{'auth_check': {'auth_level': None, 'success': True, 'session': None}, 'success': True, '_execution_time': 0.066, 'affected_rows': 1}\n"
     ]
    },
    {
     "data": {
      "text/plain": [
       "{'baseQueryURL': 'http://www.marinespecies.org/rest/AphiaRecordsByName/Charonia tritonis variegata',\n",
       " 'followTaxonomy': 'true',\n",
       " 'id': 23589,\n",
       " 'matchMethod': 'Followed Accepted AphiaID',\n",
       " 'matchString': 'Charonia tritonis variegata',\n",
       " 'tryNames': ['Charonia tritonis variegata'],\n",
       " 'wormsPairs': '\"cacheDate\"=>\"2017-06-28T18:20:31.654137\",\"wormsMatchMethod\"=>\"Followed Accepted AphiaID\",\"AphiaID\"=>\"181006\",\"scientificname\"=>\"Charonia variegata\",\"status\"=>\"accepted\",\"rank\"=>\"Species\",\"valid_name\"=>\"Charonia variegata\",\"lsid\"=>\"urn:lsid:marinespecies.org:taxname:181006\",\"isMarine\"=>\"1\",\"isBrackish\"=>\"None\",\"isFreshwater\"=>\"None\",\"isTerrestrial\"=>\"None\",\"isExtinct\"=>\"None\",\"match_type\"=>\"exact\",\"modified\"=>\"2005-09-07T12:14:56Z\",\"valid_AphiaID\"=>\"181006\",\"kingdom\"=>\"Animalia\",\"phylum\"=>\"Mollusca\",\"class\"=>\"Gastropoda\",\"order\"=>\"Littorinimorpha\",\"family\"=>\"Ranellidae\",\"genus\"=>\"Charonia\"'}"
      ]
     },
     "metadata": {},
     "output_type": "display_data"
    },
    {
     "name": "stdout",
     "output_type": "stream",
     "text": [
      "{'auth_check': {'auth_level': None, 'success': True, 'session': None}, 'success': True, '_execution_time': 0.072, 'affected_rows': 1}\n"
     ]
    },
    {
     "data": {
      "text/plain": [
       "{'baseQueryURL': 'http://www.marinespecies.org/rest/AphiaRecordsByName/Seiurus montacilla',\n",
       " 'followTaxonomy': 'true',\n",
       " 'id': 35133,\n",
       " 'matchMethod': 'Not Matched',\n",
       " 'matchString': 'Seiurus montacilla',\n",
       " 'tryNames': ['Seiurus montacilla'],\n",
       " 'wormsPairs': '\"cacheDate\"=>\"2017-06-28T18:20:33.391490\",\"wormsMatchMethod\"=>\"Not Matched\"'}"
      ]
     },
     "metadata": {},
     "output_type": "display_data"
    },
    {
     "name": "stdout",
     "output_type": "stream",
     "text": [
      "{'auth_check': {'auth_level': None, 'success': True, 'session': None}, 'success': True, '_execution_time': 0.066, 'affected_rows': 1}\n"
     ]
    },
    {
     "data": {
      "text/plain": [
       "{'baseQueryURL': 'http://www.marinespecies.org/rest/AphiaRecordsByName/Salvelinus confluentus',\n",
       " 'followTaxonomy': 'true',\n",
       " 'id': 34747,\n",
       " 'matchMethod': 'Exact Match',\n",
       " 'matchString': 'Salvelinus confluentus',\n",
       " 'tryNames': ['Salvelinus confluentus'],\n",
       " 'wormsPairs': '\"cacheDate\"=>\"2017-06-28T18:20:35.068314\",\"wormsMatchMethod\"=>\"Exact Match\",\"AphiaID\"=>\"274352\",\"scientificname\"=>\"Salvelinus confluentus\",\"status\"=>\"accepted\",\"rank\"=>\"Species\",\"valid_name\"=>\"Salvelinus confluentus\",\"lsid\"=>\"urn:lsid:marinespecies.org:taxname:274352\",\"isMarine\"=>\"1\",\"isBrackish\"=>\"1\",\"isFreshwater\"=>\"1\",\"isTerrestrial\"=>\"0\",\"isExtinct\"=>\"None\",\"match_type\"=>\"exact\",\"modified\"=>\"2008-01-15T18:27:08Z\",\"valid_AphiaID\"=>\"274352\",\"kingdom\"=>\"Animalia\",\"phylum\"=>\"Chordata\",\"class\"=>\"Actinopterygii\",\"order\"=>\"Salmoniformes\",\"family\"=>\"Salmonidae\",\"genus\"=>\"Salvelinus\"'}"
      ]
     },
     "metadata": {},
     "output_type": "display_data"
    },
    {
     "name": "stdout",
     "output_type": "stream",
     "text": [
      "{'auth_check': {'auth_level': None, 'success': True, 'session': None}, 'success': True, '_execution_time': 0.068, 'affected_rows': 1}\n"
     ]
    },
    {
     "data": {
      "text/plain": [
       "{'baseQueryURL': 'http://www.marinespecies.org/rest/AphiaRecordsByName/Sematophyllum demissum',\n",
       " 'followTaxonomy': 'true',\n",
       " 'id': 35159,\n",
       " 'matchMethod': 'Not Matched',\n",
       " 'matchString': 'Sematophyllum demissum',\n",
       " 'tryNames': ['Sematophyllum demissum'],\n",
       " 'wormsPairs': '\"cacheDate\"=>\"2017-06-28T18:20:37.136068\",\"wormsMatchMethod\"=>\"Not Matched\"'}"
      ]
     },
     "metadata": {},
     "output_type": "display_data"
    },
    {
     "name": "stdout",
     "output_type": "stream",
     "text": [
      "{'auth_check': {'auth_level': None, 'success': True, 'session': None}, 'success': True, '_execution_time': 0.066, 'affected_rows': 1}\n"
     ]
    },
    {
     "data": {
      "text/plain": [
       "{'baseQueryURL': 'http://www.marinespecies.org/rest/AphiaRecordsByName/Sander',\n",
       " 'followTaxonomy': 'true',\n",
       " 'id': 34769,\n",
       " 'matchMethod': 'Exact Match',\n",
       " 'matchString': 'Sander',\n",
       " 'tryNames': ['Sander'],\n",
       " 'wormsPairs': '\"cacheDate\"=>\"2017-06-28T18:20:38.528749\",\"wormsMatchMethod\"=>\"Exact Match\",\"AphiaID\"=>\"151307\",\"scientificname\"=>\"Sander\",\"status\"=>\"accepted\",\"rank\"=>\"Genus\",\"valid_name\"=>\"Sander\",\"lsid\"=>\"urn:lsid:marinespecies.org:taxname:151307\",\"isMarine\"=>\"1\",\"isBrackish\"=>\"0\",\"isFreshwater\"=>\"0\",\"isTerrestrial\"=>\"None\",\"isExtinct\"=>\"None\",\"match_type\"=>\"exact\",\"modified\"=>\"2014-12-02T13:48:55Z\",\"valid_AphiaID\"=>\"151307\",\"kingdom\"=>\"Animalia\",\"phylum\"=>\"Chordata\",\"class\"=>\"Actinopterygii\",\"order\"=>\"Perciformes\",\"family\"=>\"Percidae\",\"genus\"=>\"Sander\"'}"
      ]
     },
     "metadata": {},
     "output_type": "display_data"
    },
    {
     "name": "stdout",
     "output_type": "stream",
     "text": [
      "{'auth_check': {'auth_level': None, 'success': True, 'session': None}, 'success': True, '_execution_time': 0.068, 'affected_rows': 1}\n"
     ]
    },
    {
     "data": {
      "text/plain": [
       "{'baseQueryURL': 'http://www.marinespecies.org/rest/AphiaRecordsByName/Gambelia wislizenii',\n",
       " 'followTaxonomy': 'true',\n",
       " 'id': 26905,\n",
       " 'matchMethod': 'Not Matched',\n",
       " 'matchString': 'Gambelia wislizenii',\n",
       " 'tryNames': ['Gambelia wislizenii'],\n",
       " 'wormsPairs': '\"cacheDate\"=>\"2017-06-28T18:20:40.107143\",\"wormsMatchMethod\"=>\"Not Matched\"'}"
      ]
     },
     "metadata": {},
     "output_type": "display_data"
    },
    {
     "name": "stdout",
     "output_type": "stream",
     "text": [
      "{'auth_check': {'auth_level': None, 'success': True, 'session': None}, 'success': True, '_execution_time': 0.066, 'affected_rows': 1}\n"
     ]
    },
    {
     "data": {
      "text/plain": [
       "{'baseQueryURL': 'http://www.marinespecies.org/rest/AphiaRecordsByName/Amblema plicata',\n",
       " 'followTaxonomy': 'true',\n",
       " 'id': 20885,\n",
       " 'matchMethod': 'Exact Match',\n",
       " 'matchString': 'Amblema plicata',\n",
       " 'tryNames': ['Amblema plicata'],\n",
       " 'wormsPairs': '\"cacheDate\"=>\"2017-06-28T18:20:41.449817\",\"wormsMatchMethod\"=>\"Exact Match\",\"AphiaID\"=>\"857254\",\"scientificname\"=>\"Amblema plicata\",\"status\"=>\"accepted\",\"rank\"=>\"Species\",\"valid_name\"=>\"Amblema plicata\",\"lsid\"=>\"urn:lsid:marinespecies.org:taxname:857254\",\"isMarine\"=>\"0\",\"isBrackish\"=>\"0\",\"isFreshwater\"=>\"1\",\"isTerrestrial\"=>\"0\",\"isExtinct\"=>\"None\",\"match_type\"=>\"exact\",\"modified\"=>\"2015-10-16T13:46:27Z\",\"valid_AphiaID\"=>\"857254\",\"kingdom\"=>\"Animalia\",\"phylum\"=>\"Mollusca\",\"class\"=>\"Bivalvia\",\"order\"=>\"Unionida\",\"family\"=>\"Unionidae\",\"genus\"=>\"Amblema\"'}"
      ]
     },
     "metadata": {},
     "output_type": "display_data"
    },
    {
     "name": "stdout",
     "output_type": "stream",
     "text": [
      "{'auth_check': {'auth_level': None, 'success': True, 'session': None}, 'success': True, '_execution_time': 0.07, 'affected_rows': 1}\n"
     ]
    },
    {
     "data": {
      "text/plain": [
       "{'baseQueryURL': 'http://www.marinespecies.org/rest/AphiaRecordsByName/Syrrhopodon texanus',\n",
       " 'followTaxonomy': 'true',\n",
       " 'id': 36397,\n",
       " 'matchMethod': 'Not Matched',\n",
       " 'matchString': 'Syrrhopodon texanus',\n",
       " 'tryNames': ['Syrrhopodon texanus'],\n",
       " 'wormsPairs': '\"cacheDate\"=>\"2017-06-28T18:20:43.138083\",\"wormsMatchMethod\"=>\"Not Matched\"'}"
      ]
     },
     "metadata": {},
     "output_type": "display_data"
    },
    {
     "name": "stdout",
     "output_type": "stream",
     "text": [
      "{'auth_check': {'auth_level': None, 'success': True, 'session': None}, 'success': True, '_execution_time': 0.065, 'affected_rows': 1}\n"
     ]
    },
    {
     "data": {
      "text/plain": [
       "{'baseQueryURL': 'http://www.marinespecies.org/rest/AphiaRecordsByName/Gopherus berlandieri',\n",
       " 'followTaxonomy': 'true',\n",
       " 'id': 27239,\n",
       " 'matchMethod': 'Not Matched',\n",
       " 'matchString': 'Gopherus berlandieri',\n",
       " 'tryNames': ['Gopherus berlandieri'],\n",
       " 'wormsPairs': '\"cacheDate\"=>\"2017-06-28T18:20:44.699883\",\"wormsMatchMethod\"=>\"Not Matched\"'}"
      ]
     },
     "metadata": {},
     "output_type": "display_data"
    },
    {
     "name": "stdout",
     "output_type": "stream",
     "text": [
      "{'auth_check': {'auth_level': None, 'success': True, 'session': None}, 'success': True, '_execution_time': 0.066, 'affected_rows': 1}\n"
     ]
    },
    {
     "data": {
      "text/plain": [
       "{'baseQueryURL': 'http://www.marinespecies.org/rest/AphiaRecordsByName/Thamnophis rufipunctatus',\n",
       " 'followTaxonomy': 'true',\n",
       " 'id': 36674,\n",
       " 'matchMethod': 'Not Matched',\n",
       " 'matchString': 'Thamnophis rufipunctatus',\n",
       " 'tryNames': ['Thamnophis rufipunctatus'],\n",
       " 'wormsPairs': '\"cacheDate\"=>\"2017-06-28T18:20:46.318950\",\"wormsMatchMethod\"=>\"Not Matched\"'}"
      ]
     },
     "metadata": {},
     "output_type": "display_data"
    },
    {
     "name": "stdout",
     "output_type": "stream",
     "text": [
      "{'auth_check': {'auth_level': None, 'success': True, 'session': None}, 'success': True, '_execution_time': 0.078, 'affected_rows': 1}\n"
     ]
    },
    {
     "data": {
      "text/plain": [
       "{'baseQueryURL': 'http://www.marinespecies.org/rest/AphiaRecordsByName/Phrynosoma modestum',\n",
       " 'followTaxonomy': 'true',\n",
       " 'id': 32609,\n",
       " 'matchMethod': 'Not Matched',\n",
       " 'matchString': 'Phrynosoma modestum',\n",
       " 'tryNames': ['Phrynosoma modestum'],\n",
       " 'wormsPairs': '\"cacheDate\"=>\"2017-06-28T18:20:47.950098\",\"wormsMatchMethod\"=>\"Not Matched\"'}"
      ]
     },
     "metadata": {},
     "output_type": "display_data"
    },
    {
     "name": "stdout",
     "output_type": "stream",
     "text": [
      "{'auth_check': {'auth_level': None, 'success': True, 'session': None}, 'success': True, '_execution_time': 0.065, 'affected_rows': 1}\n"
     ]
    },
    {
     "data": {
      "text/plain": [
       "{'baseQueryURL': 'http://www.marinespecies.org/rest/AphiaRecordsByName/Lepidochelys kempii',\n",
       " 'followTaxonomy': 'true',\n",
       " 'id': 28874,\n",
       " 'matchMethod': 'Exact Match',\n",
       " 'matchString': 'Lepidochelys kempii',\n",
       " 'tryNames': ['Lepidochelys kempi', 'Lepidochelys kempii'],\n",
       " 'wormsPairs': '\"cacheDate\"=>\"2017-06-28T18:20:49.979769\",\"wormsMatchMethod\"=>\"Exact Match\",\"AphiaID\"=>\"137208\",\"scientificname\"=>\"Lepidochelys kempii\",\"status\"=>\"accepted\",\"rank\"=>\"Species\",\"valid_name\"=>\"Lepidochelys kempii\",\"lsid\"=>\"urn:lsid:marinespecies.org:taxname:137208\",\"isMarine\"=>\"1\",\"isBrackish\"=>\"None\",\"isFreshwater\"=>\"None\",\"isTerrestrial\"=>\"None\",\"isExtinct\"=>\"None\",\"match_type\"=>\"exact\",\"modified\"=>\"2009-06-30T08:57:17Z\",\"valid_AphiaID\"=>\"137208\",\"kingdom\"=>\"Animalia\",\"phylum\"=>\"Chordata\",\"class\"=>\"Reptilia\",\"order\"=>\"Testudines\",\"family\"=>\"Cheloniidae\",\"genus\"=>\"Lepidochelys\"'}"
      ]
     },
     "metadata": {},
     "output_type": "display_data"
    },
    {
     "name": "stdout",
     "output_type": "stream",
     "text": [
      "{'auth_check': {'auth_level': None, 'success': True, 'session': None}, 'success': True, '_execution_time': 0.067, 'affected_rows': 1}\n"
     ]
    },
    {
     "data": {
      "text/plain": [
       "{'baseQueryURL': 'http://www.marinespecies.org/rest/AphiaRecordsByName/Serratella sordida',\n",
       " 'followTaxonomy': 'true',\n",
       " 'id': 35211,\n",
       " 'matchMethod': 'Not Matched',\n",
       " 'matchString': 'Serratella sordida',\n",
       " 'tryNames': ['Serratella sordida'],\n",
       " 'wormsPairs': '\"cacheDate\"=>\"2017-06-28T18:20:51.705739\",\"wormsMatchMethod\"=>\"Not Matched\"'}"
      ]
     },
     "metadata": {},
     "output_type": "display_data"
    },
    {
     "name": "stdout",
     "output_type": "stream",
     "text": [
      "{'auth_check': {'auth_level': None, 'success': True, 'session': None}, 'success': True, '_execution_time': 0.065, 'affected_rows': 1}\n"
     ]
    },
    {
     "data": {
      "text/plain": [
       "{'baseQueryURL': 'http://www.marinespecies.org/rest/AphiaRecordsByName/Lepidochelys kempii',\n",
       " 'followTaxonomy': 'true',\n",
       " 'id': 28876,\n",
       " 'matchMethod': 'Exact Match',\n",
       " 'matchString': 'Lepidochelys kempii',\n",
       " 'tryNames': ['Lepidochelys kempii'],\n",
       " 'wormsPairs': '\"cacheDate\"=>\"2017-06-28T18:20:53.008249\",\"wormsMatchMethod\"=>\"Exact Match\",\"AphiaID\"=>\"137208\",\"scientificname\"=>\"Lepidochelys kempii\",\"status\"=>\"accepted\",\"rank\"=>\"Species\",\"valid_name\"=>\"Lepidochelys kempii\",\"lsid\"=>\"urn:lsid:marinespecies.org:taxname:137208\",\"isMarine\"=>\"1\",\"isBrackish\"=>\"None\",\"isFreshwater\"=>\"None\",\"isTerrestrial\"=>\"None\",\"isExtinct\"=>\"None\",\"match_type\"=>\"exact\",\"modified\"=>\"2009-06-30T08:57:17Z\",\"valid_AphiaID\"=>\"137208\",\"kingdom\"=>\"Animalia\",\"phylum\"=>\"Chordata\",\"class\"=>\"Reptilia\",\"order\"=>\"Testudines\",\"family\"=>\"Cheloniidae\",\"genus\"=>\"Lepidochelys\"'}"
      ]
     },
     "metadata": {},
     "output_type": "display_data"
    },
    {
     "name": "stdout",
     "output_type": "stream",
     "text": [
      "{'auth_check': {'auth_level': None, 'success': True, 'session': None}, 'success': True, '_execution_time': 0.067, 'affected_rows': 1}\n"
     ]
    },
    {
     "data": {
      "text/plain": [
       "{'baseQueryURL': 'http://www.marinespecies.org/rest/AphiaRecordsByName/Paracapnia opis',\n",
       " 'followTaxonomy': 'true',\n",
       " 'id': 31923,\n",
       " 'matchMethod': 'Not Matched',\n",
       " 'matchString': 'Paracapnia opis',\n",
       " 'tryNames': ['Paracapnia opis'],\n",
       " 'wormsPairs': '\"cacheDate\"=>\"2017-06-28T18:20:55.231580\",\"wormsMatchMethod\"=>\"Not Matched\"'}"
      ]
     },
     "metadata": {},
     "output_type": "display_data"
    },
    {
     "name": "stdout",
     "output_type": "stream",
     "text": [
      "{'auth_check': {'auth_level': None, 'success': True, 'session': None}, 'success': True, '_execution_time': 0.065, 'affected_rows': 1}\n"
     ]
    },
    {
     "data": {
      "text/plain": [
       "{'baseQueryURL': 'http://www.marinespecies.org/rest/AphiaRecordsByName/Pseudemys nelsoni',\n",
       " 'followTaxonomy': 'true',\n",
       " 'id': 33828,\n",
       " 'matchMethod': 'Not Matched',\n",
       " 'matchString': 'Pseudemys nelsoni',\n",
       " 'tryNames': ['Pseudemys nelsoni'],\n",
       " 'wormsPairs': '\"cacheDate\"=>\"2017-06-28T18:20:57.286302\",\"wormsMatchMethod\"=>\"Not Matched\"'}"
      ]
     },
     "metadata": {},
     "output_type": "display_data"
    },
    {
     "name": "stdout",
     "output_type": "stream",
     "text": [
      "{'auth_check': {'auth_level': None, 'success': True, 'session': None}, 'success': True, '_execution_time': 0.065, 'affected_rows': 1}\n"
     ]
    },
    {
     "data": {
      "text/plain": [
       "{'baseQueryURL': 'http://www.marinespecies.org/rest/AphiaRecordsByName/Cyerce cristallina',\n",
       " 'followTaxonomy': 'true',\n",
       " 'id': 24765,\n",
       " 'matchMethod': 'Exact Match',\n",
       " 'matchString': 'Cyerce cristallina',\n",
       " 'tryNames': ['Cyerce cristallina'],\n",
       " 'wormsPairs': '\"cacheDate\"=>\"2017-06-28T18:20:58.597770\",\"wormsMatchMethod\"=>\"Exact Match\",\"AphiaID\"=>\"140090\",\"scientificname\"=>\"Cyerce cristallina\",\"status\"=>\"accepted\",\"rank\"=>\"Species\",\"valid_name\"=>\"Cyerce cristallina\",\"lsid\"=>\"urn:lsid:marinespecies.org:taxname:140090\",\"isMarine\"=>\"1\",\"isBrackish\"=>\"None\",\"isFreshwater\"=>\"0\",\"isTerrestrial\"=>\"0\",\"isExtinct\"=>\"None\",\"match_type\"=>\"exact\",\"modified\"=>\"2013-09-11T10:48:12Z\",\"valid_AphiaID\"=>\"140090\",\"kingdom\"=>\"Animalia\",\"phylum\"=>\"Mollusca\",\"class\"=>\"Gastropoda\",\"order\"=>\"Sacoglossa\",\"family\"=>\"Caliphyllidae\",\"genus\"=>\"Cyerce\"'}"
      ]
     },
     "metadata": {},
     "output_type": "display_data"
    },
    {
     "name": "stdout",
     "output_type": "stream",
     "text": [
      "{'auth_check': {'auth_level': None, 'success': True, 'session': None}, 'success': True, '_execution_time': 0.067, 'affected_rows': 1}\n"
     ]
    },
    {
     "data": {
      "text/plain": [
       "{'baseQueryURL': 'http://www.marinespecies.org/rest/AphiaRecordsByName/Agkistrodon contortrix pictigaster',\n",
       " 'followTaxonomy': 'true',\n",
       " 'id': 20684,\n",
       " 'matchMethod': 'Not Matched',\n",
       " 'matchString': 'Agkistrodon contortrix pictigaster',\n",
       " 'tryNames': ['Agkistrodon contortrix pictigaster'],\n",
       " 'wormsPairs': '\"cacheDate\"=>\"2017-06-28T18:21:00.561203\",\"wormsMatchMethod\"=>\"Not Matched\"'}"
      ]
     },
     "metadata": {},
     "output_type": "display_data"
    },
    {
     "name": "stdout",
     "output_type": "stream",
     "text": [
      "{'auth_check': {'auth_level': None, 'success': True, 'session': None}, 'success': True, '_execution_time': 0.065, 'affected_rows': 1}\n"
     ]
    },
    {
     "data": {
      "text/plain": [
       "{'baseQueryURL': 'http://www.marinespecies.org/rest/AphiaRecordsByName/Sarracenia minor okefenokeense',\n",
       " 'followTaxonomy': 'true',\n",
       " 'id': 34798,\n",
       " 'matchMethod': 'Not Matched',\n",
       " 'matchString': 'Sarracenia minor okefenokeense',\n",
       " 'tryNames': ['Sarracenia minor var. okefenokeense',\n",
       "  'Sarracenia minor okefenokeense'],\n",
       " 'wormsPairs': '\"cacheDate\"=>\"2017-06-28T18:21:04.272019\",\"wormsMatchMethod\"=>\"Not Matched\"'}"
      ]
     },
     "metadata": {},
     "output_type": "display_data"
    },
    {
     "name": "stdout",
     "output_type": "stream",
     "text": [
      "{'auth_check': {'auth_level': None, 'success': True, 'session': None}, 'success': True, '_execution_time': 0.066, 'affected_rows': 1}\n"
     ]
    },
    {
     "data": {
      "text/plain": [
       "{'baseQueryURL': 'http://www.marinespecies.org/rest/AphiaRecordsByName/Agkistrodon piscivorus leucostoma',\n",
       " 'followTaxonomy': 'true',\n",
       " 'id': 20686,\n",
       " 'matchMethod': 'Not Matched',\n",
       " 'matchString': 'Agkistrodon piscivorus leucostoma',\n",
       " 'tryNames': ['Agkistrodon piscivorus leucostoma'],\n",
       " 'wormsPairs': '\"cacheDate\"=>\"2017-06-28T18:21:06.545131\",\"wormsMatchMethod\"=>\"Not Matched\"'}"
      ]
     },
     "metadata": {},
     "output_type": "display_data"
    },
    {
     "name": "stdout",
     "output_type": "stream",
     "text": [
      "{'auth_check': {'auth_level': None, 'success': True, 'session': None}, 'success': True, '_execution_time': 0.068, 'affected_rows': 1}\n"
     ]
    },
    {
     "data": {
      "text/plain": [
       "{'baseQueryURL': 'http://www.marinespecies.org/rest/AphiaRecordsByName/Chionactis occipitalis occipitalis',\n",
       " 'followTaxonomy': 'true',\n",
       " 'id': 23656,\n",
       " 'matchMethod': 'Not Matched',\n",
       " 'matchString': 'Chionactis occipitalis occipitalis',\n",
       " 'tryNames': ['Chionactis occipitalis occipitalis'],\n",
       " 'wormsPairs': '\"cacheDate\"=>\"2017-06-28T18:21:08.444271\",\"wormsMatchMethod\"=>\"Not Matched\"'}"
      ]
     },
     "metadata": {},
     "output_type": "display_data"
    },
    {
     "name": "stdout",
     "output_type": "stream",
     "text": [
      "{'auth_check': {'auth_level': None, 'success': True, 'session': None}, 'success': True, '_execution_time': 0.065, 'affected_rows': 1}\n"
     ]
    },
    {
     "data": {
      "text/plain": [
       "{'baseQueryURL': 'http://www.marinespecies.org/rest/AphiaRecordsByName/Eumeces callicephalus',\n",
       " 'followTaxonomy': 'true',\n",
       " 'id': 26379,\n",
       " 'matchMethod': 'Not Matched',\n",
       " 'matchString': 'Eumeces callicephalus',\n",
       " 'tryNames': ['Eumeces callicephalus'],\n",
       " 'wormsPairs': '\"cacheDate\"=>\"2017-06-28T18:21:10.183347\",\"wormsMatchMethod\"=>\"Not Matched\"'}"
      ]
     },
     "metadata": {},
     "output_type": "display_data"
    },
    {
     "name": "stdout",
     "output_type": "stream",
     "text": [
      "{'auth_check': {'auth_level': None, 'success': True, 'session': None}, 'success': True, '_execution_time': 0.066, 'affected_rows': 1}\n"
     ]
    },
    {
     "data": {
      "text/plain": [
       "{'baseQueryURL': 'http://www.marinespecies.org/rest/AphiaRecordsByName/Apalone mutica',\n",
       " 'followTaxonomy': 'true',\n",
       " 'id': 21324,\n",
       " 'matchMethod': 'Not Matched',\n",
       " 'matchString': 'Apalone mutica',\n",
       " 'tryNames': ['Apalone mutica'],\n",
       " 'wormsPairs': '\"cacheDate\"=>\"2017-06-28T18:21:12.064096\",\"wormsMatchMethod\"=>\"Not Matched\"'}"
      ]
     },
     "metadata": {},
     "output_type": "display_data"
    },
    {
     "name": "stdout",
     "output_type": "stream",
     "text": [
      "{'auth_check': {'auth_level': None, 'success': True, 'session': None}, 'success': True, '_execution_time': 0.067, 'affected_rows': 1}\n"
     ]
    },
    {
     "data": {
      "text/plain": [
       "{'baseQueryURL': 'http://www.marinespecies.org/rest/AphiaRecordsByName/Satyrium polingi',\n",
       " 'followTaxonomy': 'true',\n",
       " 'id': 34819,\n",
       " 'matchMethod': 'Not Matched',\n",
       " 'matchString': 'Satyrium polingi',\n",
       " 'tryNames': ['Satyrium polingi'],\n",
       " 'wormsPairs': '\"cacheDate\"=>\"2017-06-28T18:21:14.133031\",\"wormsMatchMethod\"=>\"Not Matched\"'}"
      ]
     },
     "metadata": {},
     "output_type": "display_data"
    },
    {
     "name": "stdout",
     "output_type": "stream",
     "text": [
      "{'auth_check': {'auth_level': None, 'success': True, 'session': None}, 'success': True, '_execution_time': 0.065, 'affected_rows': 1}\n"
     ]
    },
    {
     "data": {
      "text/plain": [
       "{'baseQueryURL': 'http://www.marinespecies.org/rest/AphiaRecordsByName/Sidalcea neomexicana var. neomexicana',\n",
       " 'followTaxonomy': 'true',\n",
       " 'id': 35270,\n",
       " 'matchMethod': 'Not Matched',\n",
       " 'matchString': 'Sidalcea neomexicana var. neomexicana',\n",
       " 'tryNames': ['Sidalcea neomexicana var. neomexicana'],\n",
       " 'wormsPairs': '\"cacheDate\"=>\"2017-06-28T18:21:15.774562\",\"wormsMatchMethod\"=>\"Not Matched\"'}"
      ]
     },
     "metadata": {},
     "output_type": "display_data"
    },
    {
     "name": "stdout",
     "output_type": "stream",
     "text": [
      "{'auth_check': {'auth_level': None, 'success': True, 'session': None}, 'success': True, '_execution_time': 0.066, 'affected_rows': 1}\n"
     ]
    },
    {
     "data": {
      "text/plain": [
       "{'baseQueryURL': 'http://www.marinespecies.org/rest/AphiaRecordsByName/Apalone spinifera spinifera',\n",
       " 'followTaxonomy': 'true',\n",
       " 'id': 21330,\n",
       " 'matchMethod': 'Not Matched',\n",
       " 'matchString': 'Apalone spinifera spinifera',\n",
       " 'tryNames': ['Apalone spinifera spinifera'],\n",
       " 'wormsPairs': '\"cacheDate\"=>\"2017-06-28T18:21:17.655635\",\"wormsMatchMethod\"=>\"Not Matched\"'}"
      ]
     },
     "metadata": {},
     "output_type": "display_data"
    },
    {
     "name": "stdout",
     "output_type": "stream",
     "text": [
      "{'auth_check': {'auth_level': None, 'success': True, 'session': None}, 'success': True, '_execution_time': 0.067, 'affected_rows': 1}\n"
     ]
    },
    {
     "data": {
      "text/plain": [
       "{'baseQueryURL': 'http://www.marinespecies.org/rest/AphiaRecordsByName/Coleonyx switaki',\n",
       " 'followTaxonomy': 'true',\n",
       " 'id': 24183,\n",
       " 'matchMethod': 'Not Matched',\n",
       " 'matchString': 'Coleonyx switaki',\n",
       " 'tryNames': ['Coleonyx switaki'],\n",
       " 'wormsPairs': '\"cacheDate\"=>\"2017-06-28T18:21:19.381892\",\"wormsMatchMethod\"=>\"Not Matched\"'}"
      ]
     },
     "metadata": {},
     "output_type": "display_data"
    },
    {
     "name": "stdout",
     "output_type": "stream",
     "text": [
      "{'auth_check': {'auth_level': None, 'success': True, 'session': None}, 'success': True, '_execution_time': 0.066, 'affected_rows': 1}\n"
     ]
    },
    {
     "data": {
      "text/plain": [
       "{'baseQueryURL': 'http://www.marinespecies.org/rest/AphiaRecordsByName/Oxytropis lambertii',\n",
       " 'followTaxonomy': 'true',\n",
       " 'id': 31732,\n",
       " 'matchMethod': 'Not Matched',\n",
       " 'matchString': 'Oxytropis lambertii',\n",
       " 'tryNames': ['Oxytropis lambertii'],\n",
       " 'wormsPairs': '\"cacheDate\"=>\"2017-06-28T18:21:20.965166\",\"wormsMatchMethod\"=>\"Not Matched\"'}"
      ]
     },
     "metadata": {},
     "output_type": "display_data"
    },
    {
     "name": "stdout",
     "output_type": "stream",
     "text": [
      "{'auth_check': {'auth_level': None, 'success': True, 'session': None}, 'success': True, '_execution_time': 0.065, 'affected_rows': 1}\n"
     ]
    },
    {
     "data": {
      "text/plain": [
       "{'baseQueryURL': 'http://www.marinespecies.org/rest/AphiaRecordsByName/Mnemiopsis mccradyi',\n",
       " 'followTaxonomy': 'true',\n",
       " 'id': 30274,\n",
       " 'matchMethod': 'Followed Accepted AphiaID',\n",
       " 'matchString': 'Mnemiopsis mccradyi',\n",
       " 'tryNames': ['Mnemiopsis mccradyi'],\n",
       " 'wormsPairs': '\"cacheDate\"=>\"2017-06-28T18:21:22.623975\",\"wormsMatchMethod\"=>\"Followed Accepted AphiaID\",\"AphiaID\"=>\"106401\",\"scientificname\"=>\"Mnemiopsis leidyi\",\"status\"=>\"accepted\",\"rank\"=>\"Species\",\"valid_name\"=>\"Mnemiopsis leidyi\",\"lsid\"=>\"urn:lsid:marinespecies.org:taxname:106401\",\"isMarine\"=>\"1\",\"isBrackish\"=>\"1\",\"isFreshwater\"=>\"0\",\"isTerrestrial\"=>\"0\",\"isExtinct\"=>\"None\",\"match_type\"=>\"exact\",\"modified\"=>\"2011-02-09T13:41:25Z\",\"valid_AphiaID\"=>\"106401\",\"kingdom\"=>\"Animalia\",\"phylum\"=>\"Ctenophora\",\"class\"=>\"Tentaculata\",\"order\"=>\"Lobata\",\"family\"=>\"Bolinopsidae\",\"genus\"=>\"Mnemiopsis\"'}"
      ]
     },
     "metadata": {},
     "output_type": "display_data"
    },
    {
     "name": "stdout",
     "output_type": "stream",
     "text": [
      "{'auth_check': {'auth_level': None, 'success': True, 'session': None}, 'success': True, '_execution_time': 0.067, 'affected_rows': 1}\n"
     ]
    },
    {
     "data": {
      "text/plain": [
       "{'baseQueryURL': 'http://www.marinespecies.org/rest/AphiaRecordsByName/Crotalus viridis viridis',\n",
       " 'followTaxonomy': 'true',\n",
       " 'id': 24571,\n",
       " 'matchMethod': 'Not Matched',\n",
       " 'matchString': 'Crotalus viridis viridis',\n",
       " 'tryNames': ['Crotalus viridis viridis'],\n",
       " 'wormsPairs': '\"cacheDate\"=>\"2017-06-28T18:21:24.369357\",\"wormsMatchMethod\"=>\"Not Matched\"'}"
      ]
     },
     "metadata": {},
     "output_type": "display_data"
    },
    {
     "name": "stdout",
     "output_type": "stream",
     "text": [
      "{'auth_check': {'auth_level': None, 'success': True, 'session': None}, 'success': True, '_execution_time': 0.065, 'affected_rows': 1}\n"
     ]
    },
    {
     "data": {
      "text/plain": [
       "{'baseQueryURL': 'http://www.marinespecies.org/rest/AphiaRecordsByName/Linnaea borealis ssp. americana',\n",
       " 'followTaxonomy': 'true',\n",
       " 'id': 29217,\n",
       " 'matchMethod': 'Not Matched',\n",
       " 'matchString': 'Linnaea borealis ssp. americana',\n",
       " 'tryNames': ['Linnaea borealis ssp. americana'],\n",
       " 'wormsPairs': '\"cacheDate\"=>\"2017-06-28T18:21:26.006948\",\"wormsMatchMethod\"=>\"Not Matched\"'}"
      ]
     },
     "metadata": {},
     "output_type": "display_data"
    },
    {
     "name": "stdout",
     "output_type": "stream",
     "text": [
      "{'auth_check': {'auth_level': None, 'success': True, 'session': None}, 'success': True, '_execution_time': 0.065, 'affected_rows': 1}\n"
     ]
    },
    {
     "data": {
      "text/plain": [
       "{'baseQueryURL': 'http://www.marinespecies.org/rest/AphiaRecordsByName/Eumeces anthracinus anthracinus',\n",
       " 'followTaxonomy': 'true',\n",
       " 'id': 26376,\n",
       " 'matchMethod': 'Not Matched',\n",
       " 'matchString': 'Eumeces anthracinus anthracinus',\n",
       " 'tryNames': ['Eumeces anthracinus anthracinus'],\n",
       " 'wormsPairs': '\"cacheDate\"=>\"2017-06-28T18:21:27.576329\",\"wormsMatchMethod\"=>\"Not Matched\"'}"
      ]
     },
     "metadata": {},
     "output_type": "display_data"
    },
    {
     "name": "stdout",
     "output_type": "stream",
     "text": [
      "{'auth_check': {'auth_level': None, 'success': True, 'session': None}, 'success': True, '_execution_time': 0.066, 'affected_rows': 1}\n"
     ]
    },
    {
     "data": {
      "text/plain": [
       "{'baseQueryURL': 'http://www.marinespecies.org/rest/AphiaRecordsByName/Pseudotremia valga',\n",
       " 'followTaxonomy': 'true',\n",
       " 'id': 33930,\n",
       " 'matchMethod': 'Exact Match',\n",
       " 'matchString': 'Pseudotremia valga',\n",
       " 'tryNames': ['Pseudotremia valga'],\n",
       " 'wormsPairs': '\"cacheDate\"=>\"2017-06-28T18:21:28.808770\",\"wormsMatchMethod\"=>\"Exact Match\",\"AphiaID\"=>\"935372\",\"scientificname\"=>\"Pseudotremia valga\",\"status\"=>\"accepted\",\"rank\"=>\"Species\",\"valid_name\"=>\"Pseudotremia valga\",\"lsid\"=>\"urn:lsid:marinespecies.org:taxname:935372\",\"isMarine\"=>\"0\",\"isBrackish\"=>\"0\",\"isFreshwater\"=>\"0\",\"isTerrestrial\"=>\"1\",\"isExtinct\"=>\"None\",\"match_type\"=>\"exact\",\"modified\"=>\"2017-01-19T10:46:04Z\",\"valid_AphiaID\"=>\"935372\",\"kingdom\"=>\"Animalia\",\"phylum\"=>\"Arthropoda\",\"class\"=>\"Diplopoda\",\"order\"=>\"Chordeumatida\",\"family\"=>\"Cleidogonidae\",\"genus\"=>\"Pseudotremia\"'}"
      ]
     },
     "metadata": {},
     "output_type": "display_data"
    },
    {
     "name": "stdout",
     "output_type": "stream",
     "text": [
      "{'auth_check': {'auth_level': None, 'success': True, 'session': None}, 'success': True, '_execution_time': 0.068, 'affected_rows': 1}\n"
     ]
    },
    {
     "data": {
      "text/plain": [
       "{'baseQueryURL': 'http://www.marinespecies.org/rest/AphiaRecordsByName/Sinularia molokaiensis',\n",
       " 'followTaxonomy': 'true',\n",
       " 'id': 35325,\n",
       " 'matchMethod': 'Exact Match',\n",
       " 'matchString': 'Sinularia molokaiensis',\n",
       " 'tryNames': ['Sinularia molokaiensis'],\n",
       " 'wormsPairs': '\"cacheDate\"=>\"2017-06-28T18:21:29.979620\",\"wormsMatchMethod\"=>\"Exact Match\",\"AphiaID\"=>\"288555\",\"scientificname\"=>\"Sinularia molokaiensis\",\"status\"=>\"accepted\",\"rank\"=>\"Species\",\"valid_name\"=>\"Sinularia molokaiensis\",\"lsid\"=>\"urn:lsid:marinespecies.org:taxname:288555\",\"isMarine\"=>\"1\",\"isBrackish\"=>\"None\",\"isFreshwater\"=>\"0\",\"isTerrestrial\"=>\"0\",\"isExtinct\"=>\"None\",\"match_type\"=>\"exact\",\"modified\"=>\"2010-09-17T08:17:46Z\",\"valid_AphiaID\"=>\"288555\",\"kingdom\"=>\"Animalia\",\"phylum\"=>\"Cnidaria\",\"class\"=>\"Anthozoa\",\"order\"=>\"Alcyonacea\",\"family\"=>\"Alcyoniidae\",\"genus\"=>\"Sinularia\"'}"
      ]
     },
     "metadata": {},
     "output_type": "display_data"
    },
    {
     "name": "stdout",
     "output_type": "stream",
     "text": [
      "{'auth_check': {'auth_level': None, 'success': True, 'session': None}, 'success': True, '_execution_time': 0.068, 'affected_rows': 1}\n"
     ]
    },
    {
     "data": {
      "text/plain": [
       "{'baseQueryURL': 'http://www.marinespecies.org/rest/AphiaRecordsByName/Eumeces egregius lividus',\n",
       " 'followTaxonomy': 'true',\n",
       " 'id': 26383,\n",
       " 'matchMethod': 'Not Matched',\n",
       " 'matchString': 'Eumeces egregius lividus',\n",
       " 'tryNames': ['Eumeces egregius lividus'],\n",
       " 'wormsPairs': '\"cacheDate\"=>\"2017-06-28T18:21:31.528980\",\"wormsMatchMethod\"=>\"Not Matched\"'}"
      ]
     },
     "metadata": {},
     "output_type": "display_data"
    },
    {
     "name": "stdout",
     "output_type": "stream",
     "text": [
      "{'auth_check': {'auth_level': None, 'success': True, 'session': None}, 'success': True, '_execution_time': 0.065, 'affected_rows': 1}\n"
     ]
    },
    {
     "data": {
      "text/plain": [
       "{'baseQueryURL': 'http://www.marinespecies.org/rest/AphiaRecordsByName/Eumeces gilberti arizonensis',\n",
       " 'followTaxonomy': 'true',\n",
       " 'id': 26386,\n",
       " 'matchMethod': 'Not Matched',\n",
       " 'matchString': 'Eumeces gilberti arizonensis',\n",
       " 'tryNames': ['Eumeces gilberti arizonensis'],\n",
       " 'wormsPairs': '\"cacheDate\"=>\"2017-06-28T18:21:33.231984\",\"wormsMatchMethod\"=>\"Not Matched\"'}"
      ]
     },
     "metadata": {},
     "output_type": "display_data"
    },
    {
     "name": "stdout",
     "output_type": "stream",
     "text": [
      "{'auth_check': {'auth_level': None, 'success': True, 'session': None}, 'success': True, '_execution_time': 0.066, 'affected_rows': 1}\n"
     ]
    }
   ],
   "source": [
    "# Set up the actions/targets for this particular instance\n",
    "thisRun = {}\n",
    "thisRun[\"instance\"] = \"DataDistillery\"\n",
    "thisRun[\"db\"] = \"BCB\"\n",
    "thisRun[\"baseURL\"] = gc2.sqlAPI(thisRun[\"instance\"],thisRun[\"db\"])\n",
    "thisRun[\"commitToDB\"] = True\n",
    "thisRun[\"totalRecordsToProcess\"] = 50\n",
    "thisRun[\"totalRecordsProcessed\"] = 0\n",
    "thisRun[\"wormsService\"] = \"http://www.marinespecies.org/rest/AphiaRecordsByName/\"\n",
    "\n",
    "numberWithoutTIRData = 1\n",
    "\n",
    "while numberWithoutTIRData == 1 and thisRun[\"totalRecordsProcessed\"] <= thisRun[\"totalRecordsToProcess\"]:\n",
    "    q_recordToSearch = \"SELECT id, \\\n",
    "        registration->'source' AS source, \\\n",
    "        registration->'followTaxonomy' AS followtaxonomy, \\\n",
    "        registration->'taxonomicLookupProperty' AS taxonomiclookupproperty, \\\n",
    "        registration->'scientificname' AS scientificname, \\\n",
    "        itis->'nameWInd' AS nameWInd, \\\n",
    "        itis->'nameWOInd' AS nameWOInd \\\n",
    "        FROM tir.tir \\\n",
    "        WHERE worms IS NULL \\\n",
    "        LIMIT 1\"\n",
    "    recordToSearch  = requests.get(gc2.sqlAPI(\"DataDistillery\",\"BCB\")+\"&q=\"+q_recordToSearch).json()\n",
    "    \n",
    "    numberWithoutTIRData = len(recordToSearch[\"features\"])\n",
    "\n",
    "    if numberWithoutTIRData == 1:\n",
    "        tirRecord = recordToSearch[\"features\"][0]\n",
    "\n",
    "        # Set up a local data structure for storage and processing\n",
    "        thisRecord = {}\n",
    "        \n",
    "        # Set data from query results\n",
    "        thisRecord[\"id\"] = tirRecord[\"properties\"][\"id\"]\n",
    "        thisRecord[\"followTaxonomy\"] = tirRecord[\"properties\"][\"followtaxonomy\"]\n",
    "\n",
    "        thisRecord[\"tryNames\"] = []\n",
    "        thisRecord[\"tryNames\"].append(bis.cleanScientificName(tirRecord[\"properties\"][\"scientificname\"]))\n",
    "        if tirRecord[\"properties\"][\"namewind\"] is not None and tirRecord[\"properties\"][\"namewind\"] not in thisRecord[\"tryNames\"]:\n",
    "            thisRecord[\"tryNames\"].append(tirRecord[\"properties\"][\"namewind\"])\n",
    "        if tirRecord[\"properties\"][\"namewoind\"] is not None and tirRecord[\"properties\"][\"namewoind\"] not in thisRecord[\"tryNames\"]:\n",
    "            thisRecord[\"tryNames\"].append(tirRecord[\"properties\"][\"namewoind\"])\n",
    "        \n",
    "        # Set defaults for thisRecord\n",
    "        thisRecord[\"matchMethod\"] = \"Not Matched\"\n",
    "        wormsData = 0\n",
    "\n",
    "        for name in thisRecord[\"tryNames\"]:\n",
    "            # Handle the cases where there is enough interesting stuff in the scientific name string that it comes back blank from the cleaners\n",
    "            if len(name) != 0:\n",
    "                thisRecord[\"matchString\"] = name\n",
    "                thisRecord[\"baseQueryURL\"] = \"http://www.marinespecies.org/rest/AphiaRecordsByName/\"+name\n",
    "                wormsSearchResults = requests.get(thisRecord[\"baseQueryURL\"]+\"?like=false&marine_only=false&offset=1\")\n",
    "                if wormsSearchResults.status_code == 204:\n",
    "                    wormsSearchResults = requests.get(thisRecord[\"baseQueryURL\"]+\"?like=true&marine_only=false&offset=1\")\n",
    "                    if wormsSearchResults.status_code != 204:\n",
    "                        wormsData = wormsSearchResults.json()[0]\n",
    "                        thisRecord[\"matchMethod\"] = \"Fuzzy Match\"\n",
    "                else:\n",
    "                    wormsData = wormsSearchResults.json()[0]\n",
    "                    thisRecord[\"matchMethod\"] = \"Exact Match\"\n",
    "        \n",
    "        if not type(wormsData) == int and wormsData[\"status\"] != \"accepted\" and thisRecord[\"followTaxonomy\"] == \"true\":\n",
    "            wormsSearchResults = requests.get(\"http://www.marinespecies.org/rest/AphiaRecordByAphiaID/\"+str(wormsData[\"valid_AphiaID\"]))\n",
    "            if wormsSearchResults.status_code != 204:\n",
    "                wormsData = wormsSearchResults.json()\n",
    "                thisRecord[\"matchMethod\"] = \"Followed Accepted AphiaID\"\n",
    "        \n",
    "        thisRecord[\"wormsPairs\"] = worms.packageWoRMSPairs(thisRecord[\"matchMethod\"],wormsData)\n",
    "        display (thisRecord)\n",
    "        if thisRun[\"commitToDB\"]:\n",
    "            print (tir.cacheToTIR(gc2.sqlAPI(\"DataDistillery\",\"BCB\"),thisRecord[\"id\"],\"worms\",thisRecord[\"wormsPairs\"]))\n",
    "        thisRun[\"totalRecordsProcessed\"] = thisRun[\"totalRecordsProcessed\"] + 1\n"
   ]
  },
  {
   "cell_type": "code",
   "execution_count": null,
   "metadata": {
    "collapsed": true,
    "deletable": true,
    "editable": true
   },
   "outputs": [],
   "source": []
  }
 ],
 "metadata": {
  "kernelspec": {
   "display_name": "Python 3",
   "language": "python",
   "name": "python3"
  },
  "language_info": {
   "codemirror_mode": {
    "name": "ipython",
    "version": 3
   },
   "file_extension": ".py",
   "mimetype": "text/x-python",
   "name": "python",
   "nbconvert_exporter": "python",
   "pygments_lexer": "ipython3",
   "version": "3.5.3"
  }
 },
 "nbformat": 4,
 "nbformat_minor": 0
}
