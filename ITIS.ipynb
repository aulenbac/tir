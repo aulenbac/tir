{
 "cells": [
  {
   "cell_type": "markdown",
   "metadata": {
    "deletable": true,
    "editable": true
   },
   "source": [
    "This notebook works with the Taxonomic Information Registry. It picks up scientific names (currently only looking for those submitted by the SGCN process), queries the ITIS Solr service for matches, and caches a few specific properties in a key/value store. A lot of what was originally all in context here as functions has been moved out to a set of modules in a package. The following notes still make sense as to what this process is doing, but they reference what are now those modularized functions.\n",
    "\n",
    "### Clean the scientific name string for use in searches (bis.bis.cleanScientificName(name string))\n",
    "Note: I moved this function into the bis.bis module.\n",
    "\n",
    "This is one of the more tricky areas of the process. People encode a lot of different signals into scientific names. If we clean too much out of the name string, we run the risk of not finding the taxon that they intended to provide. If we clean up too little, we won't find anything with the search. So far, for the SGCN case, we've decided to do the following in this code block for the purposes of finding the taxon in ITIS:\n",
    "\n",
    "* Ignore population designations\n",
    "* Ignore strings after an \"spp.\" designation\n",
    "* Set case for what appear to be species name strings to uppercase genus but lowercase everything else\n",
    "* Ignore text in between parentheses and brackets; these are often synonyms or alternate names that should be picked up from the ITIS record if we find a match\n",
    "\n",
    "One thing that I deliberately did not do here was change cases where the name string includes signals like \"sp.\" or \"sp. 4\". Those are seeming to indicate that the genus is known but species is not yet determined. Rather than strip this text and run the query, potentially resulting in a genus match, I opted to leave those strings in place, likely resulting in no match with ITIS. We may end up making a different design decision for the SGCN case and allow for matching to genus.\n",
    "\n",
    "### Package up the specific attributes we want to cache from ITIS (bis.itis.packageITISPairs(ITIS Solr JSON Doc))\n",
    "Note: I moved this and other ITIS functions into the bis.itis module.\n",
    "\n",
    "This function takes the data coming from the ITIS service as JSON and pairs up the attributes and values we want to cache and use. The date/time stamp here for when the information is cached is vital metadata for determining usability. As soon as the information comes out of ITIS, it is potentially stale. The information we collect and use from ITIS through this process includes the following:\n",
    "* Discovered and accepted TSNs for the taxon\n",
    "* Taxonomic rank of the discovered taxon\n",
    "* Names with and without indicators for the discovered taxon\n",
    "* Taxonomic hierarchy with ranks (in the ITIS Solr service, this is always the accepted taxonomic hierarchy)\n",
    "* Vernacular names for the discovered taxon\n",
    "\n",
    "### Run the process for all supplied names\n",
    "The main process run below should eventually be the substance of a microservice on name matching. I set this up to create a local data structure (dictionary) for each record. The main point here is to set up the search, execute the search and package ITIS results, and then submit those for the record back to the Taxonomic Information Registry.\n",
    "\n",
    "One of the major things we still need to work out here is what to do with updates over time. This script puts some record into the ITIS pairs whether we find a match or not. The query that gets names to run from the registration property looks for cases where the ITIS information is null (mostly because I needed to pick up where I left off when I found a few remaining issues that failed the script). We can then use cases where the \"matchMethod\" is \"NotMatched\" to go back and see if we can find name matches. This is particularly going to be the case where we find more than one match on a fuzzy search, which I still haven't dealt with.\n",
    "\n",
    "We also need to figure out what to do when we want to update the information over time. With ITIS, once we have a matched TSN, we can then use that TSN to grab updates as they occur, including changes in taxonomy. But we need to figure out if we should change the structure of the TIR cache to keep all the old versions of what we found over time so that it can always be referred back to."
   ]
  },
  {
   "cell_type": "code",
   "execution_count": 23,
   "metadata": {
    "collapsed": true,
    "deletable": true,
    "editable": true
   },
   "outputs": [],
   "source": [
    "import requests,re\n",
    "from IPython.display import display\n",
    "from bis import bis\n",
    "from bis import itis\n",
    "from bis import tir\n",
    "from bis2 import gc2"
   ]
  },
  {
   "cell_type": "code",
   "execution_count": 24,
   "metadata": {
    "collapsed": true,
    "deletable": true,
    "editable": true
   },
   "outputs": [],
   "source": [
    "# Set up the actions/targets for this particular instance\n",
    "thisRun = {}\n",
    "thisRun[\"instance\"] = \"DataDistillery\"\n",
    "thisRun[\"db\"] = \"BCB\"\n",
    "thisRun[\"baseURL\"] = gc2.sqlAPI(thisRun[\"instance\"],thisRun[\"db\"])\n",
    "thisRun[\"commitToDB\"] = True\n",
    "thisRun[\"fuzzyLevel\"] = \"~0.5\""
   ]
  },
  {
   "cell_type": "code",
   "execution_count": 25,
   "metadata": {
    "collapsed": false,
    "deletable": true,
    "editable": true
   },
   "outputs": [
    {
     "data": {
      "text/plain": [
       "{'followTaxonomy': 'true',\n",
       " 'id': 25044,\n",
       " 'itisPairs': '\"cacheDate\"=>\"2017-06-26T19:19:27.093378\",\"itisMatchMethod\"=>\"Not Matched\"',\n",
       " 'itisSearchURL': 'http://services.itis.gov/?wt=json&rows=10&q=(usage:accepted%20OR%20usage:valid)%20AND%20nameWOInd:Dendroica\\\\%20discolor\\\\%20paludicola',\n",
       " 'matchMethod': 'Not Matched',\n",
       " 'matchString': 'Dendroica discolor paludicola',\n",
       " 'numResults': 0,\n",
       " 'scientificname': 'Dendroica discolor paludicola',\n",
       " 'scientificname_search': 'Dendroica discolor paludicola',\n",
       " 'source': 'SGCN',\n",
       " 'taxonomicLookupProperty': 'scientificname',\n",
       " 'tsn': None}"
      ]
     },
     "metadata": {},
     "output_type": "display_data"
    },
    {
     "name": "stdout",
     "output_type": "stream",
     "text": [
      "{'_execution_time': 0.109, 'auth_check': {'auth_level': None, 'session': None, 'success': True}, 'affected_rows': 1, 'success': True}\n"
     ]
    },
    {
     "data": {
      "text/plain": [
       "{'followTaxonomy': 'true',\n",
       " 'id': 25073,\n",
       " 'itisPairs': '\"cacheDate\"=>\"2017-06-26T19:19:33.987398\",\"itisMatchMethod\"=>\"Exact Match:\",\"createDate\"=>\"1996-06-13 14:51:08\",\"updateDate\"=>\"1996-06-24 00:00:00\",\"tsn\"=>\"65859\",\"rank\"=>\"Species\",\"nameWInd\"=>\"Dentatisyllis carolinae\",\"nameWOInd\"=>\"Dentatisyllis carolinae\",\"usage\"=>\"valid\",\"Kingdom\"=>\"Animalia\",\"Subkingdom\"=>\"Bilateria\",\"Infrakingdom\"=>\"Protostomia\",\"Superphylum\"=>\"Lophozoa\",\"Phylum\"=>\"Annelida\",\"Subphylum\"=>\"Polychaeta\",\"Class\"=>\"Errantia\",\"Subclass\"=>\"Aciculata\",\"Order\"=>\"Phyllodocida\",\"Family\"=>\"Syllidae\",\"Genus\"=>\"Dentatisyllis\",\"Species\"=>\"Dentatisyllis carolinae\"',\n",
       " 'itisSearchURL': 'http://services.itis.gov/?wt=json&rows=10&q=(usage:accepted%20OR%20usage:valid)%20AND%20nameWOInd:Dentatisyllis\\\\%20carolinae',\n",
       " 'matchMethod': 'Exact Match:',\n",
       " 'matchString': 'Dentatisyllis carolinae',\n",
       " 'numResults': 1,\n",
       " 'scientificname': 'Dentatisyllis carolinae',\n",
       " 'scientificname_search': 'Dentatisyllis carolinae',\n",
       " 'source': 'SGCN',\n",
       " 'taxonomicLookupProperty': 'scientificname',\n",
       " 'tsn': None}"
      ]
     },
     "metadata": {},
     "output_type": "display_data"
    },
    {
     "name": "stdout",
     "output_type": "stream",
     "text": [
      "{'_execution_time': 0.067, 'auth_check': {'auth_level': None, 'session': None, 'success': True}, 'affected_rows': 1, 'success': True}\n"
     ]
    },
    {
     "data": {
      "text/plain": [
       "{'followTaxonomy': 'true',\n",
       " 'id': 25113,\n",
       " 'itisPairs': '\"cacheDate\"=>\"2017-06-26T19:19:39.780982\",\"itisMatchMethod\"=>\"Exact Match:\",\"createDate\"=>\"2005-03-28 16:02:51\",\"updateDate\"=>\"2009-09-01 00:00:00\",\"tsn\"=>\"668241\",\"rank\"=>\"Species\",\"nameWInd\"=>\"Desmognathus folkertsi\",\"nameWOInd\"=>\"Desmognathus folkertsi\",\"usage\"=>\"valid\",\"Kingdom\"=>\"Animalia\",\"Subkingdom\"=>\"Bilateria\",\"Infrakingdom\"=>\"Deuterostomia\",\"Phylum\"=>\"Chordata\",\"Subphylum\"=>\"Vertebrata\",\"Infraphylum\"=>\"Gnathostomata\",\"Superclass\"=>\"Tetrapoda\",\"Class\"=>\"Amphibia\",\"Order\"=>\"Caudata\",\"Family\"=>\"Plethodontidae\",\"Subfamily\"=>\"Plethodontinae\",\"Genus\"=>\"Desmognathus\",\"Species\"=>\"Desmognathus folkertsi\",\"vernacular:English\"=>\"Dwarf Black-bellied Salamander\",\"vernacular:English\"=>\"Dwarf Blackbellied Salamander\"',\n",
       " 'itisSearchURL': 'http://services.itis.gov/?wt=json&rows=10&q=(usage:accepted%20OR%20usage:valid)%20AND%20nameWOInd:Desmognathus\\\\%20folkertsi',\n",
       " 'matchMethod': 'Exact Match:',\n",
       " 'matchString': 'Desmognathus folkertsi',\n",
       " 'numResults': 1,\n",
       " 'scientificname': 'Desmognathus folkertsi',\n",
       " 'scientificname_search': 'Desmognathus folkertsi',\n",
       " 'source': 'SGCN',\n",
       " 'taxonomicLookupProperty': 'scientificname',\n",
       " 'tsn': None}"
      ]
     },
     "metadata": {},
     "output_type": "display_data"
    },
    {
     "name": "stdout",
     "output_type": "stream",
     "text": [
      "{'_execution_time': 0.068, 'auth_check': {'auth_level': None, 'session': None, 'success': True}, 'affected_rows': 1, 'success': True}\n"
     ]
    },
    {
     "data": {
      "text/plain": [
       "{'followTaxonomy': 'true',\n",
       " 'id': 25119,\n",
       " 'itisPairs': '\"cacheDate\"=>\"2017-06-26T19:19:45.220840\",\"itisMatchMethod\"=>\"Exact Match:\",\"createDate\"=>\"1996-06-13 14:51:08\",\"updateDate\"=>\"2009-09-01 00:00:00\",\"tsn\"=>\"173640\",\"rank\"=>\"Species\",\"nameWInd\"=>\"Desmognathus monticola\",\"nameWOInd\"=>\"Desmognathus monticola\",\"usage\"=>\"valid\",\"Kingdom\"=>\"Animalia\",\"Subkingdom\"=>\"Bilateria\",\"Infrakingdom\"=>\"Deuterostomia\",\"Phylum\"=>\"Chordata\",\"Subphylum\"=>\"Vertebrata\",\"Infraphylum\"=>\"Gnathostomata\",\"Superclass\"=>\"Tetrapoda\",\"Class\"=>\"Amphibia\",\"Order\"=>\"Caudata\",\"Family\"=>\"Plethodontidae\",\"Subfamily\"=>\"Plethodontinae\",\"Genus\"=>\"Desmognathus\",\"Species\"=>\"Desmognathus monticola\",\"vernacular:English\"=>\"Seal Salamander\"',\n",
       " 'itisSearchURL': 'http://services.itis.gov/?wt=json&rows=10&q=(usage:accepted%20OR%20usage:valid)%20AND%20nameWOInd:Desmognathus\\\\%20monticola',\n",
       " 'matchMethod': 'Exact Match:',\n",
       " 'matchString': 'Desmognathus monticola',\n",
       " 'numResults': 1,\n",
       " 'scientificname': 'Desmognathus monticola',\n",
       " 'scientificname_search': 'Desmognathus monticola',\n",
       " 'source': 'SGCN',\n",
       " 'taxonomicLookupProperty': 'scientificname',\n",
       " 'tsn': None}"
      ]
     },
     "metadata": {},
     "output_type": "display_data"
    },
    {
     "name": "stdout",
     "output_type": "stream",
     "text": [
      "{'_execution_time': 0.067, 'auth_check': {'auth_level': None, 'session': None, 'success': True}, 'affected_rows': 1, 'success': True}\n"
     ]
    },
    {
     "data": {
      "text/plain": [
       "{'followTaxonomy': 'true',\n",
       " 'id': 25045,\n",
       " 'itisPairs': '\"cacheDate\"=>\"2017-06-26T19:19:50.682493\",\"itisMatchMethod\"=>\"Not Matched\"',\n",
       " 'itisSearchURL': 'http://services.itis.gov/?wt=json&rows=10&q=(usage:accepted%20OR%20usage:valid)%20AND%20nameWOInd:Dendroica\\\\%20dominica',\n",
       " 'matchMethod': 'Not Matched',\n",
       " 'matchString': 'Dendroica dominica',\n",
       " 'numResults': 0,\n",
       " 'scientificname': 'Dendroica dominica',\n",
       " 'scientificname_search': 'Dendroica dominica',\n",
       " 'source': 'SGCN',\n",
       " 'taxonomicLookupProperty': 'scientificname',\n",
       " 'tsn': None}"
      ]
     },
     "metadata": {},
     "output_type": "display_data"
    },
    {
     "name": "stdout",
     "output_type": "stream",
     "text": [
      "{'_execution_time': 0.065, 'auth_check': {'auth_level': None, 'session': None, 'success': True}, 'affected_rows': 1, 'success': True}\n"
     ]
    },
    {
     "data": {
      "text/plain": [
       "{'followTaxonomy': 'true',\n",
       " 'id': 25074,\n",
       " 'itisPairs': '\"cacheDate\"=>\"2017-06-26T19:20:04.371667\",\"itisMatchMethod\"=>\"Exact Match:\",\"createDate\"=>\"1996-11-04 17:57:08\",\"updateDate\"=>\"2012-10-26 00:00:00\",\"tsn\"=>\"501997\",\"rank\"=>\"Species\",\"nameWInd\"=>\"Deparia kaalaana\",\"nameWOInd\"=>\"Deparia kaalaana\",\"usage\"=>\"accepted\",\"Kingdom\"=>\"Plantae\",\"Subkingdom\"=>\"Viridiplantae\",\"Infrakingdom\"=>\"Streptophyta\",\"Superdivision\"=>\"Embryophyta\",\"Division\"=>\"Tracheophyta\",\"Subdivision\"=>\"Polypodiophytina\",\"Class\"=>\"Polypodiopsida\",\"Subclass\"=>\"Polypodiidae\",\"Order\"=>\"Polypodiales\",\"Family\"=>\"Woodsiaceae\",\"Genus\"=>\"Deparia\",\"Species\"=>\"Deparia kaalaana\",\"vernacular:English\"=>\"serpent fern\"',\n",
       " 'itisSearchURL': 'http://services.itis.gov/?wt=json&rows=10&q=(usage:accepted%20OR%20usage:valid)%20AND%20nameWOInd:Deparia\\\\%20kaalaana',\n",
       " 'matchMethod': 'Exact Match:',\n",
       " 'matchString': 'Deparia kaalaana',\n",
       " 'numResults': 1,\n",
       " 'scientificname': 'Deparia kaalaana',\n",
       " 'scientificname_search': 'Deparia kaalaana',\n",
       " 'source': 'SGCN',\n",
       " 'taxonomicLookupProperty': 'scientificname',\n",
       " 'tsn': None}"
      ]
     },
     "metadata": {},
     "output_type": "display_data"
    },
    {
     "name": "stdout",
     "output_type": "stream",
     "text": [
      "{'_execution_time': 0.067, 'auth_check': {'auth_level': None, 'session': None, 'success': True}, 'affected_rows': 1, 'success': True}\n"
     ]
    }
   ],
   "source": [
    "numberWithoutITIS = 1\n",
    "totalRecordsToProcess = 5\n",
    "totalRecordsProcessed = 0\n",
    "\n",
    "while numberWithoutITIS == 1 and totalRecordsProcessed <= totalRecordsToProcess:\n",
    "\n",
    "    q_recordToSearch = \"SELECT id, \\\n",
    "        registration->'source' AS source, \\\n",
    "        registration->'followTaxonomy' AS followtaxonomy, \\\n",
    "        registration->'taxonomicLookupProperty' AS taxonomiclookupproperty, \\\n",
    "        registration->'scientificname' AS scientificname, \\\n",
    "        registration->'tsn' AS tsn \\\n",
    "        FROM tir.tir \\\n",
    "        WHERE itis IS NULL \\\n",
    "        LIMIT 1\"\n",
    "    recordToSearch  = requests.get(thisRun[\"baseURL\"]+\"&q=\"+q_recordToSearch).json()\n",
    "    \n",
    "    numberWithoutITIS = len(recordToSearch[\"features\"])\n",
    "    \n",
    "    if numberWithoutITIS == 1:\n",
    "        tirRecord = recordToSearch[\"features\"][0]\n",
    "        \n",
    "        # Set up a local data structure for storage and processing\n",
    "        thisRecord = {}\n",
    "\n",
    "        # Set data from query results\n",
    "        thisRecord[\"id\"] = tirRecord[\"properties\"][\"id\"]\n",
    "        thisRecord[\"source\"] = tirRecord[\"properties\"][\"source\"]\n",
    "        thisRecord[\"followTaxonomy\"] = tirRecord[\"properties\"][\"followtaxonomy\"]\n",
    "        thisRecord[\"taxonomicLookupProperty\"] = tirRecord[\"properties\"][\"taxonomiclookupproperty\"]\n",
    "        thisRecord[\"tsn\"] = tirRecord[\"properties\"][\"tsn\"]\n",
    "        thisRecord[\"scientificname\"] = tirRecord[\"properties\"][\"scientificname\"]\n",
    "        thisRecord[\"scientificname_search\"] = bis.cleanScientificName(thisRecord[\"scientificname\"])\n",
    "\n",
    "        # Set defaults for thisRecord\n",
    "        thisRecord[\"matchMethod\"] = \"Not Matched\"\n",
    "        thisRecord[\"matchString\"] = thisRecord[\"scientificname_search\"]\n",
    "        thisRecord[\"itisPairs\"] = itis.packageITISPairs(thisRecord[\"matchMethod\"],0)\n",
    "\n",
    "        if thisRecord[\"taxonomicLookupProperty\"] == \"scientificname\" and len(thisRecord[\"scientificname_search\"]) != 0:\n",
    "\n",
    "            # The ITIS Solr service does not fail in an elegant way, and so we need to try this whole section and except it out if the query fails\n",
    "            try:\n",
    "                thisRecord[\"itisSearchURL\"] = itis.getITISSearchURL(thisRecord[\"scientificname_search\"])\n",
    "\n",
    "                # Try an exact match search\n",
    "                itisSearchResults = requests.get(thisRecord[\"itisSearchURL\"]).json()\n",
    "                thisRecord[\"numResults\"] = len(itisSearchResults[\"response\"][\"docs\"])\n",
    "\n",
    "                # If we got only a single match on an exact match search, set the method and proceed\n",
    "                if thisRecord[\"numResults\"] == 1:\n",
    "                    thisRecord[\"matchMethod\"] = \"Exact Match:\"\n",
    "\n",
    "                # If we found nothing on an exact match search, try a fuzzy match\n",
    "                elif thisRecord[\"numResults\"] == 0:\n",
    "                    itisSearchResults = requests.get(thisRecord[\"itisSearchURL\"]+thisRun[\"fuzzyLevel\"]).json()\n",
    "                    thisRecord[\"numResults\"] = len(itisSearchResults[\"response\"][\"docs\"])\n",
    "                    if thisRecord[\"numResults\"] == 1:\n",
    "                        thisRecord[\"matchMethod\"] = \"Fuzzy Match\"\n",
    "\n",
    "                # If there are results from exact or fuzzy match search, package the ITIS properties we want\n",
    "                if thisRecord[\"numResults\"] == 1:\n",
    "                    thisRecord[\"itisPairs\"] = itis.packageITISPairs(thisRecord[\"matchMethod\"],itisSearchResults[\"response\"][\"docs\"][0])\n",
    "\n",
    "                # Handle cases where discovered TSN usage is invalid by following accepted TSN\n",
    "                if (thisRecord[\"itisPairs\"].find('\"usage\"=>\"valid\"') == -1 or thisRecord[\"itisPairs\"].find('\"usage\"=>\"accepted\"') == -1) and thisRecord[\"itisPairs\"].find('\"acceptedTSN\"') > 0 and thisRecord[\"followTaxonomy\"] == \"True\":\n",
    "                    thisRecord[\"acceptedTSN\"] = re.search('\\\"acceptedTSN\"\\=\\>\\\"(.+?)\\\"', thisRecord[\"itisPairs\"]).group(1)\n",
    "                    thisRecord[\"discoveredTSN\"] = re.search('\\\"tsn\"\\=\\>\\\"(.+?)\\\"', thisRecord[\"itisPairs\"]).group(1)\n",
    "\n",
    "                    thisRecord[\"itisSearchURL\"] = itis.getITISSearchURL(thisRecord[\"acceptedTSN\"])\n",
    "                    itisSearchResults = requests.get(thisRecord[\"itisSearchURL\"]).json()\n",
    "                    thisRecord[\"numResults\"] = len(itisSearchResults[\"response\"][\"docs\"])\n",
    "                    if thisRecord[\"numResults\"] == 1:\n",
    "                        thisRecord[\"matchMethod\"] = \"Followed Accepted TSN\"\n",
    "                        thisRecord[\"itisPairs\"] = itis.packageITISPairs(thisRecord[\"matchMethod\"],itisSearchResults[\"response\"][\"docs\"][0])\n",
    "                        thisRecord[\"itisPairs\"] = thisRecord[\"itisPairs\"]+',\"discoveredTSN\"=>\"'+thisRecord[\"discoveredTSN\"]+'\"'\n",
    "\n",
    "            except Exception as e:\n",
    "                print (e)\n",
    "                pass\n",
    "\n",
    "        elif thisRecord[\"taxonomicLookupProperty\"] == \"tsn\" and thisRecord[\"tsn\"] is not None:\n",
    "\n",
    "            thisRecord[\"itisSearchURL\"] = itis.getITISSearchURL(thisRecord[\"tsn\"])\n",
    "\n",
    "        display (thisRecord)\n",
    "        if thisRun[\"commitToDB\"]:\n",
    "            print (tir.cacheToTIR(thisRun[\"baseURL\"],thisRecord[\"id\"],\"itis\",thisRecord[\"itisPairs\"]))\n",
    "        totalRecordsProcessed = totalRecordsProcessed + 1\n",
    "\n",
    "        "
   ]
  },
  {
   "cell_type": "code",
   "execution_count": null,
   "metadata": {
    "collapsed": true,
    "deletable": true,
    "editable": true
   },
   "outputs": [],
   "source": []
  }
 ],
 "metadata": {
  "kernelspec": {
   "display_name": "Python 3",
   "language": "python",
   "name": "python3"
  },
  "language_info": {
   "codemirror_mode": {
    "name": "ipython",
    "version": 3
   },
   "file_extension": ".py",
   "mimetype": "text/x-python",
   "name": "python",
   "nbconvert_exporter": "python",
   "pygments_lexer": "ipython3",
   "version": "3.5.3"
  }
 },
 "nbformat": 4,
 "nbformat_minor": 0
}
