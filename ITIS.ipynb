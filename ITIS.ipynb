{
 "cells": [
  {
   "cell_type": "markdown",
   "metadata": {
    "deletable": true,
    "editable": true
   },
   "source": [
    "This notebook works with the Taxonomic Information Registry. It picks up scientific names (currently only looking for those submitted by the SGCN process), queries the ITIS Solr service for matches, and caches a few specific properties in a key/value store."
   ]
  },
  {
   "cell_type": "code",
   "execution_count": 1,
   "metadata": {
    "collapsed": true,
    "deletable": true,
    "editable": true
   },
   "outputs": [],
   "source": [
    "import requests,configparser,re\n",
    "from IPython.display import display"
   ]
  },
  {
   "cell_type": "code",
   "execution_count": 2,
   "metadata": {
    "collapsed": true,
    "deletable": true,
    "editable": true
   },
   "outputs": [],
   "source": [
    "# Get API keys and any other config details from a file that is external to the code.\n",
    "config = configparser.RawConfigParser()\n",
    "config.read_file(open(r'../config/stuff.py'))"
   ]
  },
  {
   "cell_type": "code",
   "execution_count": 3,
   "metadata": {
    "collapsed": true,
    "deletable": true,
    "editable": true
   },
   "outputs": [],
   "source": [
    "# Build base URL with API key using input from the external config.\n",
    "def getBaseURL():\n",
    "    gc2APIKey = config.get('apiKeys','apiKey_GC2_BCB').replace('\"','')\n",
    "    apiBaseURL = \"https://gc2.mapcentia.com/api/v1/sql/bcb?key=\"+gc2APIKey\n",
    "    return apiBaseURL"
   ]
  },
  {
   "cell_type": "markdown",
   "metadata": {
    "deletable": true,
    "editable": true
   },
   "source": [
    "### Clean the scientific name string for use in searches\n",
    "This is one of the more tricky areas of the process. People encode a lot of different signals into scientific names. If we clean too much out of the name string, we run the risk of not finding the taxon that they intended to provide. If we clean up too little, we won't find anything with the search. So far, for the SGCN case, we've decided to do the following in this code block for the purposes of finding the taxon in ITIS:\n",
    "\n",
    "* Ignore population designations\n",
    "* Ignore strings after an \"spp.\" designation\n",
    "* Set case for what appear to be species name strings to uppercase genus but lowercase everything else\n",
    "* Ignore text in between parentheses and brackets; these are often synonyms or alternate names that should be picked up from the ITIS record if we find a match\n",
    "\n",
    "One thing that I deliberately did not do here was change cases where the name string includes signals like \"sp.\" or \"sp. 4\". Those are seeming to indicate that the genus is known but species is not yet determined. Rather than strip this text and run the query, potentially resulting in a genus match, I opted to leave those strings in place, likely resulting in no match with ITIS. We may end up making a different design decision for the SGCN case and allow for matching to genus. "
   ]
  },
  {
   "cell_type": "code",
   "execution_count": 4,
   "metadata": {
    "collapsed": true,
    "deletable": true,
    "editable": true
   },
   "outputs": [],
   "source": [
    "# There are a few things that we've found in the name strings that, if removed or modified, will result in a valid taxon name string for the ITIS service\n",
    "def cleanScientificName(scientificname):\n",
    "    # Get rid of ? - they might mean something, but...\n",
    "    scientificname = scientificname.replace(\"?\", \"\")\n",
    "\n",
    "    # Get rid of text in parens and brackets; this is a design decision to potentially do away with information that might be important, but it gets retained in the original records\n",
    "    scientificname = re.sub(\"[\\(\\[].*?[\\)\\]]\", \"\", scientificname)\n",
    "    \n",
    "    # Clean up all upper case strings because the ITIS service doesn't like them\n",
    "    if any(x.isupper() for x in scientificname[-(len(scientificname)-1):]):\n",
    "        scientificname = scientificname.lower().capitalize()\n",
    "\n",
    "    # Replace \"subsp.\" with \"ssp.\" in order to make the subspecies search work\n",
    "    scientificname = scientificname.replace(\"subsp.\", \"ssp.\")\n",
    "    \n",
    "    # Get rid of characters after certain characters to produce a shorter (and sometimes higher taxonomy) name string compatible with the ITIS service\n",
    "    afterChars = [\"(\", \" sp.\", \" spp.\", \" sp \", \" spp \", \" n.\", \" pop.\", \"l.\"]\n",
    "    # Add a space at the end for this step to help tease out issues with split characters ending the string (could probably be better as re)\n",
    "    scientificname = scientificname+\" \"\n",
    "    for char in afterChars:\n",
    "        scientificname = scientificname.split(char, 1)[0]\n",
    "\n",
    "    # Final cleanup of extra spaces\n",
    "    scientificname = \" \".join(scientificname.split())\n",
    "\n",
    "    return scientificname"
   ]
  },
  {
   "cell_type": "code",
   "execution_count": 5,
   "metadata": {
    "collapsed": true,
    "deletable": true,
    "editable": true
   },
   "outputs": [],
   "source": [
    "def getITISSearchURL(searchstr):\n",
    "    # Default to using name without indicator as the search term\n",
    "    itisTerm = \"nameWOInd\"\n",
    "    \n",
    "    # \"var.\" and \"ssp.\" indicate that the string has population and variation indicators and should use the WInd service\n",
    "    if searchstr.find(\"var.\") > 0 or searchstr.find(\"ssp.\") > 0:\n",
    "        itisTerm = \"nameWInd\"\n",
    "    \n",
    "    try:\n",
    "        int(searchstr)\n",
    "        itisTerm = \"tsn\"\n",
    "    except:\n",
    "        pass\n",
    "    \n",
    "    # Put the search term together with the scientific name value including the escape character sequence that ITIS needs in the name criteria\n",
    "    # \"valid\" and \"accepted\" usage values will further constrain the search and handle cases where the search returns more than one possible record on name\n",
    "    return \"http://services.itis.gov/?wt=json&rows=10&q=(usage:accepted%20OR%20usage:valid)%20AND%20\"+itisTerm+\":\"+searchstr.replace(\" \",\"\\%20\")"
   ]
  },
  {
   "cell_type": "markdown",
   "metadata": {
    "deletable": true,
    "editable": true
   },
   "source": [
    "### Package up the specific attributes we want to cache from ITIS\n",
    "This function takes the data coming from the ITIS service as JSON and pairs up the attributes and values we want to cache and use. The date/time stamp here for when the information is cached is vital metadata for determining usability. As soon as the information comes out of ITIS, it is potentially stale. The information we collect and use from ITIS through this process includes the following:\n",
    "* Discovered and accepted TSNs for the taxon\n",
    "* Taxonomic rank of the discovered taxon\n",
    "* Names with and without indicators for the discovered taxon\n",
    "* Taxonomic hierarchy with ranks (in the ITIS Solr service, this is always the accepted taxonomic hierarchy)\n",
    "* Vernacular names for the discovered taxon"
   ]
  },
  {
   "cell_type": "code",
   "execution_count": 6,
   "metadata": {
    "collapsed": true,
    "deletable": true,
    "editable": true
   },
   "outputs": [],
   "source": [
    "def packageITISPairs(matchMethod,itisDoc):\n",
    "    import datetime\n",
    "    dt = datetime.datetime.utcnow().isoformat()\n",
    "    itisPairs = '\"cacheDate\"=>\"'+dt+'\"'\n",
    "    itisPairs = itisPairs+',\"itisMatchMethod\"=>\"'+matchMethod+'\"'\n",
    "\n",
    "    if type(itisDoc) is int:\n",
    "        return itisPairs\n",
    "    else:\n",
    "        itisPairs = itisPairs+',\"createDate\"=>\"'+itisDoc['createDate']+'\"'\n",
    "        itisPairs = itisPairs+',\"updateDate\"=>\"'+itisDoc['updateDate']+'\"'\n",
    "        itisPairs = itisPairs+',\"tsn\"=>\"'+itisDoc['tsn']+'\"'\n",
    "        itisPairs = itisPairs+',\"rank\"=>\"'+itisDoc['rank']+'\"'\n",
    "        itisPairs = itisPairs+',\"nameWInd\"=>\"'+itisDoc['nameWInd']+'\"'\n",
    "        itisPairs = itisPairs+',\"nameWOInd\"=>\"'+itisDoc['nameWOInd']+'\"'\n",
    "        itisPairs = itisPairs+',\"usage\"=>\"'+itisDoc['usage']+'\"'\n",
    "\n",
    "        if 'acceptedTSN' in itisDoc:\n",
    "            itisPairs = itisPairs+',\"acceptedTSN\"=>\"'+itisDoc['acceptedTSN'][0]+'\"'\n",
    "\n",
    "        hierarchy = itisDoc['hierarchySoFarWRanks'][0]\n",
    "        hierarchy = hierarchy[hierarchy.find(':$')+2:-1]\n",
    "        hierarchy = '\"'+hierarchy.replace(':', '\"=>\"').replace('$', '\",\"')+'\"'\n",
    "        itisPairs = itisPairs+','+hierarchy\n",
    "\n",
    "        if \"vernacular\" in itisDoc:\n",
    "            vernacularList = []\n",
    "            for commonName in itisDoc['vernacular']:\n",
    "                commonNameElements = commonName.split('$')\n",
    "                vernacularList.append('\"vernacular:'+commonNameElements[2]+'\"=>\"'+commonNameElements[1]+'\"')\n",
    "            strVernacularList = ''.join(vernacularList).replace(\"\\'\", \"''\").replace('\"\"','\",\"')\n",
    "            itisPairs = itisPairs+','+strVernacularList\n",
    "\n",
    "        return itisPairs"
   ]
  },
  {
   "cell_type": "code",
   "execution_count": 7,
   "metadata": {
    "collapsed": true,
    "deletable": true,
    "editable": true
   },
   "outputs": [],
   "source": [
    "# Basic function to insert subject ID, property, and value into tircache\n",
    "def cacheToTIR(gid,infotype,pairs):\n",
    "    import requests\n",
    "    updateQ = \"UPDATE tir.tir2 SET \"+infotype+\" = '\"+pairs+\"' WHERE gid = \"+str(gid)\n",
    "    r = requests.get(getBaseURL()+\"&q=\"+updateQ).json()\n",
    "    return r"
   ]
  },
  {
   "cell_type": "code",
   "execution_count": 8,
   "metadata": {
    "collapsed": false,
    "deletable": true,
    "editable": true
   },
   "outputs": [],
   "source": [
    "# Query for the registered names we want to run through the system\n",
    "#uniqueNames  = requests.get(getBaseURL()+\"&q=SELECT gid,registration->'SGCN_ScientificName_Submitted' AS scientificname FROM tir.tir2 WHERE itis IS NULL\").json()\n",
    "uniqueNames  = requests.get(getBaseURL()+\"&q=SELECT gid,registration->'GAP_ScientificName' AS scientificname FROM tir.tir2 WHERE itis IS NULL\").json()"
   ]
  },
  {
   "cell_type": "markdown",
   "metadata": {
    "deletable": true,
    "editable": true
   },
   "source": [
    "### Run the process for all supplied names\n",
    "This is the process that should eventually be the substance of a microservice on name matching. I set this up to create a local data structure (dictionary) for each record. The main point here is to set up the search, execute the search and package ITIS results, and then submit those for the record back to the Taxonomic Information Registry.\n",
    "\n",
    "One of the major things we still need to work out here is what to do with updates over time. This script puts some record into the ITIS pairs whether we find a match or not. The query that gets names to run from the registration property looks for cases where the ITIS information is null (mostly because I needed to pick up where I left off when I found a few remaining issues that failed the script). We can then use cases where the \"matchMethod\" is \"NotMatched\" to go back and see if we can find name matches. This is particularly going to be the case where we find more than one match on a fuzzy search, which I still haven't dealt with.\n",
    "\n",
    "We also need to figure out what to do when we want to update the information over time. With ITIS, once we have a matched TSN, we can then use that TSN to grab updates as they occur, including changes in taxonomy. But we need to figure out if we should change the structure of the TIR cache to keep all the old versions of what we found over time so that it can always be referred back to."
   ]
  },
  {
   "cell_type": "code",
   "execution_count": 9,
   "metadata": {
    "collapsed": false,
    "deletable": true,
    "editable": true
   },
   "outputs": [
    {
     "data": {
      "text/plain": [
       "{'gid': 18902,\n",
       " 'itisPairs': '\"cacheDate\"=>\"2017-05-16T15:58:03.269128\",\"itisMatchMethod\"=>\"ExactMatch:Urocitellus elegans elegans\",\"createDate\"=>\"2013-11-26 10:56:42\",\"updateDate\"=>\"2013-11-26 00:00:00\",\"tsn\"=>\"931052\",\"rank\"=>\"Subspecies\",\"nameWInd\"=>\"Urocitellus elegans elegans\",\"nameWOInd\"=>\"Urocitellus elegans elegans\",\"usage\"=>\"valid\",\"Kingdom\"=>\"Animalia\",\"Subkingdom\"=>\"Bilateria\",\"Infrakingdom\"=>\"Deuterostomia\",\"Phylum\"=>\"Chordata\",\"Subphylum\"=>\"Vertebrata\",\"Infraphylum\"=>\"Gnathostomata\",\"Superclass\"=>\"Tetrapoda\",\"Class\"=>\"Mammalia\",\"Subclass\"=>\"Theria\",\"Infraclass\"=>\"Eutheria\",\"Order\"=>\"Rodentia\",\"Suborder\"=>\"Sciuromorpha\",\"Family\"=>\"Sciuridae\",\"Subfamily\"=>\"Xerinae\",\"Tribe\"=>\"Marmotini\",\"Genus\"=>\"Urocitellus\",\"Species\"=>\"Urocitellus elegans\",\"Subspecies\"=>\"Urocitellus elegans elegans\"',\n",
       " 'itisSearchURL': 'http://services.itis.gov/?wt=json&rows=10&q=(usage:accepted%20OR%20usage:valid)%20AND%20nameWOInd:Urocitellus\\\\%20elegans\\\\%20elegans',\n",
       " 'matchMethod': 'ExactMatch:Urocitellus elegans elegans',\n",
       " 'numResults': 1,\n",
       " 'scientificname_search': 'Urocitellus elegans elegans',\n",
       " 'scientificname_submitted': 'Urocitellus elegans elegans'}"
      ]
     },
     "metadata": {},
     "output_type": "display_data"
    },
    {
     "name": "stdout",
     "output_type": "stream",
     "text": [
      "{'affected_rows': 1, 'success': True, '_execution_time': 0.068, 'auth_check': {'checked_relations': ['tir.tir2'], 'session': None, 'auth_level': 'Write', 'success': True}}\n"
     ]
    },
    {
     "data": {
      "text/plain": [
       "{'gid': 18970,\n",
       " 'itisPairs': '\"cacheDate\"=>\"2017-05-16T15:58:04.124856\",\"itisMatchMethod\"=>\"ExactMatch:Corynorhinus townsendii ingens\",\"createDate\"=>\"2004-06-08 09:39:57\",\"updateDate\"=>\"2014-08-27 00:00:00\",\"tsn\"=>\"632276\",\"rank\"=>\"Subspecies\",\"nameWInd\"=>\"Corynorhinus townsendii ingens\",\"nameWOInd\"=>\"Corynorhinus townsendii ingens\",\"usage\"=>\"valid\",\"Kingdom\"=>\"Animalia\",\"Subkingdom\"=>\"Bilateria\",\"Infrakingdom\"=>\"Deuterostomia\",\"Phylum\"=>\"Chordata\",\"Subphylum\"=>\"Vertebrata\",\"Infraphylum\"=>\"Gnathostomata\",\"Superclass\"=>\"Tetrapoda\",\"Class\"=>\"Mammalia\",\"Subclass\"=>\"Theria\",\"Infraclass\"=>\"Eutheria\",\"Order\"=>\"Chiroptera\",\"Suborder\"=>\"Yangochiroptera\",\"Superfamily\"=>\"Vespertilionoidea\",\"Family\"=>\"Vespertilionidae\",\"Subfamily\"=>\"Vespertilioninae\",\"Tribe\"=>\"Plecotini\",\"Genus\"=>\"Corynorhinus\",\"Species\"=>\"Corynorhinus townsendii\",\"Subspecies\"=>\"Corynorhinus townsendii ingens\",\"vernacular:English\"=>\"Ozark big-eared bat\"',\n",
       " 'itisSearchURL': 'http://services.itis.gov/?wt=json&rows=10&q=(usage:accepted%20OR%20usage:valid)%20AND%20nameWOInd:Corynorhinus\\\\%20townsendii\\\\%20ingens',\n",
       " 'matchMethod': 'ExactMatch:Corynorhinus townsendii ingens',\n",
       " 'numResults': 1,\n",
       " 'scientificname_search': 'Corynorhinus townsendii ingens',\n",
       " 'scientificname_submitted': 'Corynorhinus townsendii ingens'}"
      ]
     },
     "metadata": {},
     "output_type": "display_data"
    },
    {
     "name": "stdout",
     "output_type": "stream",
     "text": [
      "{'affected_rows': 1, 'success': True, '_execution_time': 0.068, 'auth_check': {'checked_relations': ['tir.tir2'], 'session': None, 'auth_level': 'Write', 'success': True}}\n"
     ]
    },
    {
     "data": {
      "text/plain": [
       "{'gid': 19125,\n",
       " 'itisPairs': '\"cacheDate\"=>\"2017-05-16T15:58:04.801939\",\"itisMatchMethod\"=>\"NotMatched:Sceloporus uniformis\"',\n",
       " 'itisSearchURL': 'http://services.itis.gov/?wt=json&rows=10&q=(usage:accepted%20OR%20usage:valid)%20AND%20nameWOInd:Sceloporus\\\\%20uniformis',\n",
       " 'matchMethod': 'NotMatched:Sceloporus uniformis',\n",
       " 'numResults': 1,\n",
       " 'scientificname_search': 'Sceloporus uniformis',\n",
       " 'scientificname_submitted': 'Sceloporus uniformis'}"
      ]
     },
     "metadata": {},
     "output_type": "display_data"
    },
    {
     "name": "stdout",
     "output_type": "stream",
     "text": [
      "{'affected_rows': 1, 'success': True, '_execution_time': 0.068, 'auth_check': {'checked_relations': ['tir.tir2'], 'session': None, 'auth_level': 'Write', 'success': True}}\n"
     ]
    },
    {
     "data": {
      "text/plain": [
       "{'gid': 19264,\n",
       " 'itisPairs': '\"cacheDate\"=>\"2017-05-16T15:58:05.816311\",\"itisMatchMethod\"=>\"ExactMatch:Tamias minimus chuskaensis\",\"createDate\"=>\"2013-11-26 10:57:21\",\"updateDate\"=>\"2013-11-26 00:00:00\",\"tsn\"=>\"931310\",\"rank\"=>\"Subspecies\",\"nameWInd\"=>\"Tamias minimus chuskaensis\",\"nameWOInd\"=>\"Tamias minimus chuskaensis\",\"usage\"=>\"valid\",\"Kingdom\"=>\"Animalia\",\"Subkingdom\"=>\"Bilateria\",\"Infrakingdom\"=>\"Deuterostomia\",\"Phylum\"=>\"Chordata\",\"Subphylum\"=>\"Vertebrata\",\"Infraphylum\"=>\"Gnathostomata\",\"Superclass\"=>\"Tetrapoda\",\"Class\"=>\"Mammalia\",\"Subclass\"=>\"Theria\",\"Infraclass\"=>\"Eutheria\",\"Order\"=>\"Rodentia\",\"Suborder\"=>\"Sciuromorpha\",\"Family\"=>\"Sciuridae\",\"Subfamily\"=>\"Xerinae\",\"Tribe\"=>\"Marmotini\",\"Genus\"=>\"Tamias\",\"Subgenus\"=>\"Tamias (Neotamias)\",\"Species\"=>\"Tamias minimus\",\"Subspecies\"=>\"Tamias minimus chuskaensis\"',\n",
       " 'itisSearchURL': 'http://services.itis.gov/?wt=json&rows=10&q=(usage:accepted%20OR%20usage:valid)%20AND%20nameWOInd:Tamias\\\\%20minimus\\\\%20chuskaensis',\n",
       " 'matchMethod': 'ExactMatch:Tamias minimus chuskaensis',\n",
       " 'numResults': 1,\n",
       " 'scientificname_search': 'Tamias minimus chuskaensis',\n",
       " 'scientificname_submitted': 'Tamias minimus chuskaensis'}"
      ]
     },
     "metadata": {},
     "output_type": "display_data"
    },
    {
     "name": "stdout",
     "output_type": "stream",
     "text": [
      "{'affected_rows': 1, 'success': True, '_execution_time': 0.068, 'auth_check': {'checked_relations': ['tir.tir2'], 'session': None, 'auth_level': 'Write', 'success': True}}\n"
     ]
    },
    {
     "data": {
      "text/plain": [
       "{'gid': 19265,\n",
       " 'itisPairs': '\"cacheDate\"=>\"2017-05-16T15:58:06.542119\",\"itisMatchMethod\"=>\"NotMatched:Amphispiza belli canescens\"',\n",
       " 'itisSearchURL': 'http://services.itis.gov/?wt=json&rows=10&q=(usage:accepted%20OR%20usage:valid)%20AND%20nameWOInd:Amphispiza\\\\%20belli\\\\%20canescens',\n",
       " 'matchMethod': 'NotMatched:Amphispiza belli canescens',\n",
       " 'numResults': 0,\n",
       " 'scientificname_search': 'Amphispiza belli canescens',\n",
       " 'scientificname_submitted': 'Amphispiza belli canescens'}"
      ]
     },
     "metadata": {},
     "output_type": "display_data"
    },
    {
     "name": "stdout",
     "output_type": "stream",
     "text": [
      "{'affected_rows': 1, 'success': True, '_execution_time': 0.065, 'auth_check': {'checked_relations': ['tir.tir2'], 'session': None, 'auth_level': 'Write', 'success': True}}\n"
     ]
    },
    {
     "data": {
      "text/plain": [
       "{'gid': 19291,\n",
       " 'itisPairs': '\"cacheDate\"=>\"2017-05-16T15:58:08.868720\",\"itisMatchMethod\"=>\"ExactMatch:Aplodontia rufa humboldtiana\",\"createDate\"=>\"1996-06-13 14:51:08\",\"updateDate\"=>\"2015-04-08 00:00:00\",\"tsn\"=>\"203473\",\"rank\"=>\"Subspecies\",\"nameWInd\"=>\"Aplodontia rufa humboldtiana\",\"nameWOInd\"=>\"Aplodontia rufa humboldtiana\",\"usage\"=>\"valid\",\"Kingdom\"=>\"Animalia\",\"Subkingdom\"=>\"Bilateria\",\"Infrakingdom\"=>\"Deuterostomia\",\"Phylum\"=>\"Chordata\",\"Subphylum\"=>\"Vertebrata\",\"Infraphylum\"=>\"Gnathostomata\",\"Superclass\"=>\"Tetrapoda\",\"Class\"=>\"Mammalia\",\"Subclass\"=>\"Theria\",\"Infraclass\"=>\"Eutheria\",\"Order\"=>\"Rodentia\",\"Suborder\"=>\"Sciuromorpha\",\"Family\"=>\"Aplodontiidae\",\"Genus\"=>\"Aplodontia\",\"Species\"=>\"Aplodontia rufa\",\"Subspecies\"=>\"Aplodontia rufa humboldtiana\"',\n",
       " 'itisSearchURL': 'http://services.itis.gov/?wt=json&rows=10&q=(usage:accepted%20OR%20usage:valid)%20AND%20nameWOInd:Aplodontia\\\\%20rufa\\\\%20humboldtiana',\n",
       " 'matchMethod': 'ExactMatch:Aplodontia rufa humboldtiana',\n",
       " 'numResults': 1,\n",
       " 'scientificname_search': 'Aplodontia rufa humboldtiana',\n",
       " 'scientificname_submitted': 'Aplodontia rufa humboldtiana'}"
      ]
     },
     "metadata": {},
     "output_type": "display_data"
    },
    {
     "name": "stdout",
     "output_type": "stream",
     "text": [
      "{'affected_rows': 1, 'success': True, '_execution_time': 0.07, 'auth_check': {'checked_relations': ['tir.tir2'], 'session': None, 'auth_level': 'Write', 'success': True}}\n"
     ]
    },
    {
     "data": {
      "text/plain": [
       "{'gid': 19348,\n",
       " 'itisPairs': '\"cacheDate\"=>\"2017-05-16T15:58:09.727325\",\"itisMatchMethod\"=>\"ExactMatch:Lepus townsendii\",\"createDate\"=>\"1996-06-13 14:51:08\",\"updateDate\"=>\"2013-03-01 00:00:00\",\"tsn\"=>\"180118\",\"rank\"=>\"Species\",\"nameWInd\"=>\"Lepus townsendii\",\"nameWOInd\"=>\"Lepus townsendii\",\"usage\"=>\"valid\",\"Kingdom\"=>\"Animalia\",\"Subkingdom\"=>\"Bilateria\",\"Infrakingdom\"=>\"Deuterostomia\",\"Phylum\"=>\"Chordata\",\"Subphylum\"=>\"Vertebrata\",\"Infraphylum\"=>\"Gnathostomata\",\"Superclass\"=>\"Tetrapoda\",\"Class\"=>\"Mammalia\",\"Subclass\"=>\"Theria\",\"Infraclass\"=>\"Eutheria\",\"Order\"=>\"Lagomorpha\",\"Family\"=>\"Leporidae\",\"Genus\"=>\"Lepus\",\"Species\"=>\"Lepus townsendii\",\"vernacular:English\"=>\"white-tailed jack rabbit\",\"vernacular:English\"=>\"White-tailed Jackrabbit\"',\n",
       " 'itisSearchURL': 'http://services.itis.gov/?wt=json&rows=10&q=(usage:accepted%20OR%20usage:valid)%20AND%20nameWOInd:Lepus\\\\%20townsendii',\n",
       " 'matchMethod': 'ExactMatch:Lepus townsendii',\n",
       " 'numResults': 1,\n",
       " 'scientificname_search': 'Lepus townsendii',\n",
       " 'scientificname_submitted': 'Lepus townsendii'}"
      ]
     },
     "metadata": {},
     "output_type": "display_data"
    },
    {
     "name": "stdout",
     "output_type": "stream",
     "text": [
      "{'affected_rows': 1, 'success': True, '_execution_time': 0.07, 'auth_check': {'checked_relations': ['tir.tir2'], 'session': None, 'auth_level': 'Write', 'success': True}}\n"
     ]
    },
    {
     "data": {
      "text/plain": [
       "{'gid': 19349,\n",
       " 'itisPairs': '\"cacheDate\"=>\"2017-05-16T15:58:10.411599\",\"itisMatchMethod\"=>\"NotMatched:Aspidoscelis dixoni\"',\n",
       " 'itisSearchURL': 'http://services.itis.gov/?wt=json&rows=10&q=(usage:accepted%20OR%20usage:valid)%20AND%20nameWOInd:Aspidoscelis\\\\%20dixoni',\n",
       " 'matchMethod': 'NotMatched:Aspidoscelis dixoni',\n",
       " 'numResults': 0,\n",
       " 'scientificname_search': 'Aspidoscelis dixoni',\n",
       " 'scientificname_submitted': 'Aspidoscelis dixoni'}"
      ]
     },
     "metadata": {},
     "output_type": "display_data"
    },
    {
     "name": "stdout",
     "output_type": "stream",
     "text": [
      "{'affected_rows': 1, 'success': True, '_execution_time': 0.067, 'auth_check': {'checked_relations': ['tir.tir2'], 'session': None, 'auth_level': 'Write', 'success': True}}\n"
     ]
    },
    {
     "data": {
      "text/plain": [
       "{'gid': 19350,\n",
       " 'itisPairs': '\"cacheDate\"=>\"2017-05-16T15:58:11.483142\",\"itisMatchMethod\"=>\"ExactMatch:Xantusia vigilis\",\"createDate\"=>\"1996-06-13 14:51:08\",\"updateDate\"=>\"2005-07-29 00:00:00\",\"tsn\"=>\"174092\",\"rank\"=>\"Species\",\"nameWInd\"=>\"Xantusia vigilis\",\"nameWOInd\"=>\"Xantusia vigilis\",\"usage\"=>\"valid\",\"Kingdom\"=>\"Animalia\",\"Subkingdom\"=>\"Bilateria\",\"Infrakingdom\"=>\"Deuterostomia\",\"Phylum\"=>\"Chordata\",\"Subphylum\"=>\"Vertebrata\",\"Infraphylum\"=>\"Gnathostomata\",\"Superclass\"=>\"Tetrapoda\",\"Class\"=>\"Reptilia\",\"Order\"=>\"Squamata\",\"Suborder\"=>\"Autarchoglossa\",\"Family\"=>\"Xantusiidae\",\"Genus\"=>\"Xantusia\",\"Species\"=>\"Xantusia vigilis\",\"vernacular:English\"=>\"Desert Night Lizard\",\"vernacular:Spanish\"=>\"Lagartija-escofina de desierto\"',\n",
       " 'itisSearchURL': 'http://services.itis.gov/?wt=json&rows=10&q=(usage:accepted%20OR%20usage:valid)%20AND%20nameWOInd:Xantusia\\\\%20vigilis',\n",
       " 'matchMethod': 'ExactMatch:Xantusia vigilis',\n",
       " 'numResults': 1,\n",
       " 'scientificname_search': 'Xantusia vigilis',\n",
       " 'scientificname_submitted': 'Xantusia vigilis'}"
      ]
     },
     "metadata": {},
     "output_type": "display_data"
    },
    {
     "name": "stdout",
     "output_type": "stream",
     "text": [
      "{'affected_rows': 1, 'success': True, '_execution_time': 0.067, 'auth_check': {'checked_relations': ['tir.tir2'], 'session': None, 'auth_level': 'Write', 'success': True}}\n"
     ]
    },
    {
     "data": {
      "text/plain": [
       "{'gid': 19445,\n",
       " 'itisPairs': '\"cacheDate\"=>\"2017-05-16T15:58:12.324979\",\"itisMatchMethod\"=>\"ExactMatch:Corynorhinus townsendii australis\",\"createDate\"=>\"2004-06-08 09:39:57\",\"updateDate\"=>\"2014-08-27 00:00:00\",\"tsn\"=>\"632279\",\"rank\"=>\"Subspecies\",\"nameWInd\"=>\"Corynorhinus townsendii australis\",\"nameWOInd\"=>\"Corynorhinus townsendii australis\",\"usage\"=>\"valid\",\"Kingdom\"=>\"Animalia\",\"Subkingdom\"=>\"Bilateria\",\"Infrakingdom\"=>\"Deuterostomia\",\"Phylum\"=>\"Chordata\",\"Subphylum\"=>\"Vertebrata\",\"Infraphylum\"=>\"Gnathostomata\",\"Superclass\"=>\"Tetrapoda\",\"Class\"=>\"Mammalia\",\"Subclass\"=>\"Theria\",\"Infraclass\"=>\"Eutheria\",\"Order\"=>\"Chiroptera\",\"Suborder\"=>\"Yangochiroptera\",\"Superfamily\"=>\"Vespertilionoidea\",\"Family\"=>\"Vespertilionidae\",\"Subfamily\"=>\"Vespertilioninae\",\"Tribe\"=>\"Plecotini\",\"Genus\"=>\"Corynorhinus\",\"Species\"=>\"Corynorhinus townsendii\",\"Subspecies\"=>\"Corynorhinus townsendii australis\"',\n",
       " 'itisSearchURL': 'http://services.itis.gov/?wt=json&rows=10&q=(usage:accepted%20OR%20usage:valid)%20AND%20nameWOInd:Corynorhinus\\\\%20townsendii\\\\%20australis',\n",
       " 'matchMethod': 'ExactMatch:Corynorhinus townsendii australis',\n",
       " 'numResults': 1,\n",
       " 'scientificname_search': 'Corynorhinus townsendii australis',\n",
       " 'scientificname_submitted': 'Corynorhinus townsendii australis'}"
      ]
     },
     "metadata": {},
     "output_type": "display_data"
    },
    {
     "name": "stdout",
     "output_type": "stream",
     "text": [
      "{'affected_rows': 1, 'success': True, '_execution_time': 0.068, 'auth_check': {'checked_relations': ['tir.tir2'], 'session': None, 'auth_level': 'Write', 'success': True}}\n"
     ]
    },
    {
     "data": {
      "text/plain": [
       "{'gid': 17897,\n",
       " 'itisPairs': '\"cacheDate\"=>\"2017-05-16T15:58:13.114641\",\"itisMatchMethod\"=>\"ExactMatch:Aplodontia rufa pacifica\",\"createDate\"=>\"1996-06-13 14:51:08\",\"updateDate\"=>\"2015-04-08 00:00:00\",\"tsn\"=>\"203475\",\"rank\"=>\"Subspecies\",\"nameWInd\"=>\"Aplodontia rufa pacifica\",\"nameWOInd\"=>\"Aplodontia rufa pacifica\",\"usage\"=>\"valid\",\"Kingdom\"=>\"Animalia\",\"Subkingdom\"=>\"Bilateria\",\"Infrakingdom\"=>\"Deuterostomia\",\"Phylum\"=>\"Chordata\",\"Subphylum\"=>\"Vertebrata\",\"Infraphylum\"=>\"Gnathostomata\",\"Superclass\"=>\"Tetrapoda\",\"Class\"=>\"Mammalia\",\"Subclass\"=>\"Theria\",\"Infraclass\"=>\"Eutheria\",\"Order\"=>\"Rodentia\",\"Suborder\"=>\"Sciuromorpha\",\"Family\"=>\"Aplodontiidae\",\"Genus\"=>\"Aplodontia\",\"Species\"=>\"Aplodontia rufa\",\"Subspecies\"=>\"Aplodontia rufa pacifica\"',\n",
       " 'itisSearchURL': 'http://services.itis.gov/?wt=json&rows=10&q=(usage:accepted%20OR%20usage:valid)%20AND%20nameWOInd:Aplodontia\\\\%20rufa\\\\%20pacifica',\n",
       " 'matchMethod': 'ExactMatch:Aplodontia rufa pacifica',\n",
       " 'numResults': 1,\n",
       " 'scientificname_search': 'Aplodontia rufa pacifica',\n",
       " 'scientificname_submitted': 'Aplodontia rufa pacifica'}"
      ]
     },
     "metadata": {},
     "output_type": "display_data"
    },
    {
     "name": "stdout",
     "output_type": "stream",
     "text": [
      "{'affected_rows': 1, 'success': True, '_execution_time': 0.07, 'auth_check': {'checked_relations': ['tir.tir2'], 'session': None, 'auth_level': 'Write', 'success': True}}\n"
     ]
    },
    {
     "data": {
      "text/plain": [
       "{'gid': 17919,\n",
       " 'itisPairs': '\"cacheDate\"=>\"2017-05-16T15:58:13.786887\",\"itisMatchMethod\"=>\"NotMatched:Heterodon kennerlyi\"',\n",
       " 'itisSearchURL': 'http://services.itis.gov/?wt=json&rows=10&q=(usage:accepted%20OR%20usage:valid)%20AND%20nameWOInd:Heterodon\\\\%20kennerlyi',\n",
       " 'matchMethod': 'NotMatched:Heterodon kennerlyi',\n",
       " 'numResults': 0,\n",
       " 'scientificname_search': 'Heterodon kennerlyi',\n",
       " 'scientificname_submitted': 'Heterodon kennerlyi'}"
      ]
     },
     "metadata": {},
     "output_type": "display_data"
    },
    {
     "name": "stdout",
     "output_type": "stream",
     "text": [
      "{'affected_rows': 1, 'success': True, '_execution_time': 0.066, 'auth_check': {'checked_relations': ['tir.tir2'], 'session': None, 'auth_level': 'Write', 'success': True}}\n"
     ]
    },
    {
     "data": {
      "text/plain": [
       "{'gid': 17933,\n",
       " 'itisPairs': '\"cacheDate\"=>\"2017-05-16T15:58:14.803714\",\"itisMatchMethod\"=>\"ExactMatch:Urocitellus elegans aureus\",\"createDate\"=>\"2013-11-26 10:56:42\",\"updateDate\"=>\"2013-11-26 00:00:00\",\"tsn\"=>\"931053\",\"rank\"=>\"Subspecies\",\"nameWInd\"=>\"Urocitellus elegans aureus\",\"nameWOInd\"=>\"Urocitellus elegans aureus\",\"usage\"=>\"valid\",\"Kingdom\"=>\"Animalia\",\"Subkingdom\"=>\"Bilateria\",\"Infrakingdom\"=>\"Deuterostomia\",\"Phylum\"=>\"Chordata\",\"Subphylum\"=>\"Vertebrata\",\"Infraphylum\"=>\"Gnathostomata\",\"Superclass\"=>\"Tetrapoda\",\"Class\"=>\"Mammalia\",\"Subclass\"=>\"Theria\",\"Infraclass\"=>\"Eutheria\",\"Order\"=>\"Rodentia\",\"Suborder\"=>\"Sciuromorpha\",\"Family\"=>\"Sciuridae\",\"Subfamily\"=>\"Xerinae\",\"Tribe\"=>\"Marmotini\",\"Genus\"=>\"Urocitellus\",\"Species\"=>\"Urocitellus elegans\",\"Subspecies\"=>\"Urocitellus elegans aureus\"',\n",
       " 'itisSearchURL': 'http://services.itis.gov/?wt=json&rows=10&q=(usage:accepted%20OR%20usage:valid)%20AND%20nameWOInd:Urocitellus\\\\%20elegans\\\\%20aureus',\n",
       " 'matchMethod': 'ExactMatch:Urocitellus elegans aureus',\n",
       " 'numResults': 1,\n",
       " 'scientificname_search': 'Urocitellus elegans aureus',\n",
       " 'scientificname_submitted': 'Urocitellus elegans aureus'}"
      ]
     },
     "metadata": {},
     "output_type": "display_data"
    },
    {
     "name": "stdout",
     "output_type": "stream",
     "text": [
      "{'affected_rows': 1, 'success': True, '_execution_time': 0.069, 'auth_check': {'checked_relations': ['tir.tir2'], 'session': None, 'auth_level': 'Write', 'success': True}}\n"
     ]
    },
    {
     "data": {
      "text/plain": [
       "{'gid': 17951,\n",
       " 'itisPairs': '\"cacheDate\"=>\"2017-05-16T15:58:15.479688\",\"itisMatchMethod\"=>\"NotMatched:Amphispiza belli nevadensis\"',\n",
       " 'itisSearchURL': 'http://services.itis.gov/?wt=json&rows=10&q=(usage:accepted%20OR%20usage:valid)%20AND%20nameWOInd:Amphispiza\\\\%20belli\\\\%20nevadensis',\n",
       " 'matchMethod': 'NotMatched:Amphispiza belli nevadensis',\n",
       " 'numResults': 0,\n",
       " 'scientificname_search': 'Amphispiza belli nevadensis',\n",
       " 'scientificname_submitted': 'Amphispiza belli nevadensis'}"
      ]
     },
     "metadata": {},
     "output_type": "display_data"
    },
    {
     "name": "stdout",
     "output_type": "stream",
     "text": [
      "{'affected_rows': 1, 'success': True, '_execution_time': 0.066, 'auth_check': {'checked_relations': ['tir.tir2'], 'session': None, 'auth_level': 'Write', 'success': True}}\n"
     ]
    },
    {
     "data": {
      "text/plain": [
       "{'gid': 17974,\n",
       " 'itisPairs': '\"cacheDate\"=>\"2017-05-16T15:58:16.417214\",\"itisMatchMethod\"=>\"NotMatched:Heterodon gloydi\"',\n",
       " 'itisSearchURL': 'http://services.itis.gov/?wt=json&rows=10&q=(usage:accepted%20OR%20usage:valid)%20AND%20nameWOInd:Heterodon\\\\%20gloydi',\n",
       " 'matchMethod': 'NotMatched:Heterodon gloydi',\n",
       " 'numResults': 0,\n",
       " 'scientificname_search': 'Heterodon gloydi',\n",
       " 'scientificname_submitted': 'Heterodon gloydi'}"
      ]
     },
     "metadata": {},
     "output_type": "display_data"
    },
    {
     "name": "stdout",
     "output_type": "stream",
     "text": [
      "{'affected_rows': 1, 'success': True, '_execution_time': 0.066, 'auth_check': {'checked_relations': ['tir.tir2'], 'session': None, 'auth_level': 'Write', 'success': True}}\n"
     ]
    },
    {
     "data": {
      "text/plain": [
       "{'gid': 18268,\n",
       " 'itisPairs': '\"cacheDate\"=>\"2017-05-16T15:58:17.329841\",\"itisMatchMethod\"=>\"NotMatched:Taricha sierrea\"',\n",
       " 'itisSearchURL': 'http://services.itis.gov/?wt=json&rows=10&q=(usage:accepted%20OR%20usage:valid)%20AND%20nameWOInd:Taricha\\\\%20sierrea',\n",
       " 'matchMethod': 'NotMatched:Taricha sierrea',\n",
       " 'numResults': 1,\n",
       " 'scientificname_search': 'Taricha sierrea',\n",
       " 'scientificname_submitted': 'Taricha sierrea'}"
      ]
     },
     "metadata": {},
     "output_type": "display_data"
    },
    {
     "name": "stdout",
     "output_type": "stream",
     "text": [
      "{'affected_rows': 1, 'success': True, '_execution_time': 0.065, 'auth_check': {'checked_relations': ['tir.tir2'], 'session': None, 'auth_level': 'Write', 'success': True}}\n"
     ]
    },
    {
     "data": {
      "text/plain": [
       "{'gid': 18375,\n",
       " 'itisPairs': '\"cacheDate\"=>\"2017-05-16T15:58:18.294429\",\"itisMatchMethod\"=>\"NotMatched:Aplodontia rufa olympica\"',\n",
       " 'itisSearchURL': 'http://services.itis.gov/?wt=json&rows=10&q=(usage:accepted%20OR%20usage:valid)%20AND%20nameWOInd:Aplodontia\\\\%20rufa\\\\%20olympica',\n",
       " 'matchMethod': 'NotMatched:Aplodontia rufa olympica',\n",
       " 'numResults': 0,\n",
       " 'scientificname_search': 'Aplodontia rufa olympica',\n",
       " 'scientificname_submitted': 'Aplodontia rufa olympica'}"
      ]
     },
     "metadata": {},
     "output_type": "display_data"
    },
    {
     "name": "stdout",
     "output_type": "stream",
     "text": [
      "{'affected_rows': 1, 'success': True, '_execution_time': 0.066, 'auth_check': {'checked_relations': ['tir.tir2'], 'session': None, 'auth_level': 'Write', 'success': True}}\n"
     ]
    },
    {
     "data": {
      "text/plain": [
       "{'gid': 18413,\n",
       " 'itisPairs': '\"cacheDate\"=>\"2017-05-16T15:58:19.346300\",\"itisMatchMethod\"=>\"ExactMatch:Tympanuchus phasianellus campestris\",\"createDate\"=>\"1996-06-13 14:51:08\",\"updateDate\"=>\"2005-06-08 00:00:00\",\"tsn\"=>\"175851\",\"rank\"=>\"Subspecies\",\"nameWInd\"=>\"Tympanuchus phasianellus campestris\",\"nameWOInd\"=>\"Tympanuchus phasianellus campestris\",\"usage\"=>\"valid\",\"Kingdom\"=>\"Animalia\",\"Subkingdom\"=>\"Bilateria\",\"Infrakingdom\"=>\"Deuterostomia\",\"Phylum\"=>\"Chordata\",\"Subphylum\"=>\"Vertebrata\",\"Infraphylum\"=>\"Gnathostomata\",\"Superclass\"=>\"Tetrapoda\",\"Class\"=>\"Aves\",\"Order\"=>\"Galliformes\",\"Family\"=>\"Phasianidae\",\"Subfamily\"=>\"Tetraoninae\",\"Genus\"=>\"Tympanuchus\",\"Species\"=>\"Tympanuchus phasianellus\",\"Subspecies\"=>\"Tympanuchus phasianellus campestris\"',\n",
       " 'itisSearchURL': 'http://services.itis.gov/?wt=json&rows=10&q=(usage:accepted%20OR%20usage:valid)%20AND%20nameWOInd:Tympanuchus\\\\%20phasianellus\\\\%20campestris',\n",
       " 'matchMethod': 'ExactMatch:Tympanuchus phasianellus campestris',\n",
       " 'numResults': 1,\n",
       " 'scientificname_search': 'Tympanuchus phasianellus campestris',\n",
       " 'scientificname_submitted': 'Tympanuchus phasianellus campestris'}"
      ]
     },
     "metadata": {},
     "output_type": "display_data"
    },
    {
     "name": "stdout",
     "output_type": "stream",
     "text": [
      "{'affected_rows': 1, 'success': True, '_execution_time': 0.067, 'auth_check': {'checked_relations': ['tir.tir2'], 'session': None, 'auth_level': 'Write', 'success': True}}\n"
     ]
    },
    {
     "data": {
      "text/plain": [
       "{'gid': 18482,\n",
       " 'itisPairs': '\"cacheDate\"=>\"2017-05-16T15:58:20.209227\",\"itisMatchMethod\"=>\"ExactMatch:Aplodontia rufa rufa\",\"createDate\"=>\"1996-06-13 14:51:08\",\"updateDate\"=>\"2015-04-08 00:00:00\",\"tsn\"=>\"202350\",\"rank\"=>\"Subspecies\",\"nameWInd\"=>\"Aplodontia rufa rufa\",\"nameWOInd\"=>\"Aplodontia rufa rufa\",\"usage\"=>\"valid\",\"Kingdom\"=>\"Animalia\",\"Subkingdom\"=>\"Bilateria\",\"Infrakingdom\"=>\"Deuterostomia\",\"Phylum\"=>\"Chordata\",\"Subphylum\"=>\"Vertebrata\",\"Infraphylum\"=>\"Gnathostomata\",\"Superclass\"=>\"Tetrapoda\",\"Class\"=>\"Mammalia\",\"Subclass\"=>\"Theria\",\"Infraclass\"=>\"Eutheria\",\"Order\"=>\"Rodentia\",\"Suborder\"=>\"Sciuromorpha\",\"Family\"=>\"Aplodontiidae\",\"Genus\"=>\"Aplodontia\",\"Species\"=>\"Aplodontia rufa\",\"Subspecies\"=>\"Aplodontia rufa rufa\"',\n",
       " 'itisSearchURL': 'http://services.itis.gov/?wt=json&rows=10&q=(usage:accepted%20OR%20usage:valid)%20AND%20nameWOInd:Aplodontia\\\\%20rufa\\\\%20rufa',\n",
       " 'matchMethod': 'ExactMatch:Aplodontia rufa rufa',\n",
       " 'numResults': 1,\n",
       " 'scientificname_search': 'Aplodontia rufa rufa',\n",
       " 'scientificname_submitted': 'Aplodontia rufa rufa'}"
      ]
     },
     "metadata": {},
     "output_type": "display_data"
    },
    {
     "name": "stdout",
     "output_type": "stream",
     "text": [
      "{'affected_rows': 1, 'success': True, '_execution_time': 0.067, 'auth_check': {'checked_relations': ['tir.tir2'], 'session': None, 'auth_level': 'Write', 'success': True}}\n"
     ]
    },
    {
     "data": {
      "text/plain": [
       "{'gid': 18508,\n",
       " 'itisPairs': '\"cacheDate\"=>\"2017-05-16T15:58:21.003394\",\"itisMatchMethod\"=>\"ExactMatch:Tamias minimus atristriatus\",\"createDate\"=>\"2004-06-08 13:14:30\",\"updateDate\"=>\"2013-11-26 00:00:00\",\"tsn\"=>\"632531\",\"rank\"=>\"Subspecies\",\"nameWInd\"=>\"Tamias minimus atristriatus\",\"nameWOInd\"=>\"Tamias minimus atristriatus\",\"usage\"=>\"valid\",\"Kingdom\"=>\"Animalia\",\"Subkingdom\"=>\"Bilateria\",\"Infrakingdom\"=>\"Deuterostomia\",\"Phylum\"=>\"Chordata\",\"Subphylum\"=>\"Vertebrata\",\"Infraphylum\"=>\"Gnathostomata\",\"Superclass\"=>\"Tetrapoda\",\"Class\"=>\"Mammalia\",\"Subclass\"=>\"Theria\",\"Infraclass\"=>\"Eutheria\",\"Order\"=>\"Rodentia\",\"Suborder\"=>\"Sciuromorpha\",\"Family\"=>\"Sciuridae\",\"Subfamily\"=>\"Xerinae\",\"Tribe\"=>\"Marmotini\",\"Genus\"=>\"Tamias\",\"Subgenus\"=>\"Tamias (Neotamias)\",\"Species\"=>\"Tamias minimus\",\"Subspecies\"=>\"Tamias minimus atristriatus\",\"vernacular:English\"=>\"Penñasco least chipmunk\"',\n",
       " 'itisSearchURL': 'http://services.itis.gov/?wt=json&rows=10&q=(usage:accepted%20OR%20usage:valid)%20AND%20nameWOInd:Tamias\\\\%20minimus\\\\%20atristriatus',\n",
       " 'matchMethod': 'ExactMatch:Tamias minimus atristriatus',\n",
       " 'numResults': 1,\n",
       " 'scientificname_search': 'Tamias minimus atristriatus',\n",
       " 'scientificname_submitted': 'Tamias minimus atristriatus'}"
      ]
     },
     "metadata": {},
     "output_type": "display_data"
    },
    {
     "name": "stdout",
     "output_type": "stream",
     "text": [
      "{'affected_rows': 1, 'success': True, '_execution_time': 0.067, 'auth_check': {'checked_relations': ['tir.tir2'], 'session': None, 'auth_level': 'Write', 'success': True}}\n"
     ]
    },
    {
     "data": {
      "text/plain": [
       "{'gid': 18595,\n",
       " 'itisPairs': '\"cacheDate\"=>\"2017-05-16T15:58:21.666195\",\"itisMatchMethod\"=>\"NotMatched:Cervus elaphus nannodes roosevelti\"',\n",
       " 'itisSearchURL': 'http://services.itis.gov/?wt=json&rows=10&q=(usage:accepted%20OR%20usage:valid)%20AND%20nameWOInd:Cervus\\\\%20elaphus\\\\%20nannodes\\\\%20roosevelti',\n",
       " 'matchMethod': 'NotMatched:Cervus elaphus nannodes roosevelti',\n",
       " 'numResults': 0,\n",
       " 'scientificname_search': 'Cervus elaphus nannodes roosevelti',\n",
       " 'scientificname_submitted': 'Cervus elaphus nannodes roosevelti'}"
      ]
     },
     "metadata": {},
     "output_type": "display_data"
    },
    {
     "name": "stdout",
     "output_type": "stream",
     "text": [
      "{'affected_rows': 1, 'success': True, '_execution_time': 0.066, 'auth_check': {'checked_relations': ['tir.tir2'], 'session': None, 'auth_level': 'Write', 'success': True}}\n"
     ]
    },
    {
     "data": {
      "text/plain": [
       "{'gid': 18601,\n",
       " 'itisPairs': '\"cacheDate\"=>\"2017-05-16T15:58:22.555431\",\"itisMatchMethod\"=>\"NotMatched:Oryzomys palustris natator\"',\n",
       " 'itisSearchURL': 'http://services.itis.gov/?wt=json&rows=10&q=(usage:accepted%20OR%20usage:valid)%20AND%20nameWOInd:Oryzomys\\\\%20palustris\\\\%20natator',\n",
       " 'matchMethod': 'NotMatched:Oryzomys palustris natator',\n",
       " 'numResults': 0,\n",
       " 'scientificname_search': 'Oryzomys palustris natator',\n",
       " 'scientificname_submitted': 'Oryzomys palustris natator'}"
      ]
     },
     "metadata": {},
     "output_type": "display_data"
    },
    {
     "name": "stdout",
     "output_type": "stream",
     "text": [
      "{'affected_rows': 1, 'success': True, '_execution_time': 0.067, 'auth_check': {'checked_relations': ['tir.tir2'], 'session': None, 'auth_level': 'Write', 'success': True}}\n"
     ]
    },
    {
     "data": {
      "text/plain": [
       "{'gid': 18602,\n",
       " 'itisPairs': '\"cacheDate\"=>\"2017-05-16T15:58:23.595312\",\"itisMatchMethod\"=>\"ExactMatch:Eleutherodactylus guttilatus\",\"createDate\"=>\"1997-05-06 15:49:08\",\"updateDate\"=>\"2009-09-01 00:00:00\",\"tsn\"=>\"550239\",\"rank\"=>\"Species\",\"nameWInd\"=>\"Eleutherodactylus guttilatus\",\"nameWOInd\"=>\"Eleutherodactylus guttilatus\",\"usage\"=>\"valid\",\"Kingdom\"=>\"Animalia\",\"Subkingdom\"=>\"Bilateria\",\"Infrakingdom\"=>\"Deuterostomia\",\"Phylum\"=>\"Chordata\",\"Subphylum\"=>\"Vertebrata\",\"Infraphylum\"=>\"Gnathostomata\",\"Superclass\"=>\"Tetrapoda\",\"Class\"=>\"Amphibia\",\"Order\"=>\"Anura\",\"Family\"=>\"Eleutherodactylidae\",\"Subfamily\"=>\"Eleutherodactylinae\",\"Genus\"=>\"Eleutherodactylus\",\"Species\"=>\"Eleutherodactylus guttilatus\",\"vernacular:English\"=>\"Spotted Chirping Frog\",\"vernacular:Spanish\"=>\"Rana-chirriadora punteada\"',\n",
       " 'itisSearchURL': 'http://services.itis.gov/?wt=json&rows=10&q=(usage:accepted%20OR%20usage:valid)%20AND%20nameWOInd:Eleutherodactylus\\\\%20guttilatus',\n",
       " 'matchMethod': 'ExactMatch:Eleutherodactylus guttilatus',\n",
       " 'numResults': 1,\n",
       " 'scientificname_search': 'Eleutherodactylus guttilatus',\n",
       " 'scientificname_submitted': 'Eleutherodactylus guttilatus'}"
      ]
     },
     "metadata": {},
     "output_type": "display_data"
    },
    {
     "name": "stdout",
     "output_type": "stream",
     "text": [
      "{'affected_rows': 1, 'success': True, '_execution_time': 0.068, 'auth_check': {'checked_relations': ['tir.tir2'], 'session': None, 'auth_level': 'Write', 'success': True}}\n"
     ]
    },
    {
     "data": {
      "text/plain": [
       "{'gid': 18709,\n",
       " 'itisPairs': '\"cacheDate\"=>\"2017-05-16T15:58:24.361467\",\"itisMatchMethod\"=>\"ExactMatch:Tamias minimus arizonensis\",\"createDate\"=>\"2013-11-26 10:57:21\",\"updateDate\"=>\"2013-11-26 00:00:00\",\"tsn\"=>\"931309\",\"rank\"=>\"Subspecies\",\"nameWInd\"=>\"Tamias minimus arizonensis\",\"nameWOInd\"=>\"Tamias minimus arizonensis\",\"usage\"=>\"valid\",\"Kingdom\"=>\"Animalia\",\"Subkingdom\"=>\"Bilateria\",\"Infrakingdom\"=>\"Deuterostomia\",\"Phylum\"=>\"Chordata\",\"Subphylum\"=>\"Vertebrata\",\"Infraphylum\"=>\"Gnathostomata\",\"Superclass\"=>\"Tetrapoda\",\"Class\"=>\"Mammalia\",\"Subclass\"=>\"Theria\",\"Infraclass\"=>\"Eutheria\",\"Order\"=>\"Rodentia\",\"Suborder\"=>\"Sciuromorpha\",\"Family\"=>\"Sciuridae\",\"Subfamily\"=>\"Xerinae\",\"Tribe\"=>\"Marmotini\",\"Genus\"=>\"Tamias\",\"Subgenus\"=>\"Tamias (Neotamias)\",\"Species\"=>\"Tamias minimus\",\"Subspecies\"=>\"Tamias minimus arizonensis\"',\n",
       " 'itisSearchURL': 'http://services.itis.gov/?wt=json&rows=10&q=(usage:accepted%20OR%20usage:valid)%20AND%20nameWOInd:Tamias\\\\%20minimus\\\\%20arizonensis',\n",
       " 'matchMethod': 'ExactMatch:Tamias minimus arizonensis',\n",
       " 'numResults': 1,\n",
       " 'scientificname_search': 'Tamias minimus arizonensis',\n",
       " 'scientificname_submitted': 'Tamias minimus arizonensis'}"
      ]
     },
     "metadata": {},
     "output_type": "display_data"
    },
    {
     "name": "stdout",
     "output_type": "stream",
     "text": [
      "{'affected_rows': 1, 'success': True, '_execution_time': 0.07, 'auth_check': {'checked_relations': ['tir.tir2'], 'session': None, 'auth_level': 'Write', 'success': True}}\n"
     ]
    },
    {
     "data": {
      "text/plain": [
       "{'gid': 18736,\n",
       " 'itisPairs': '\"cacheDate\"=>\"2017-05-16T15:58:25.042343\",\"itisMatchMethod\"=>\"NotMatched:Sylvilagus palustris heferni\"',\n",
       " 'itisSearchURL': 'http://services.itis.gov/?wt=json&rows=10&q=(usage:accepted%20OR%20usage:valid)%20AND%20nameWOInd:Sylvilagus\\\\%20palustris\\\\%20heferni',\n",
       " 'matchMethod': 'NotMatched:Sylvilagus palustris heferni',\n",
       " 'numResults': 1,\n",
       " 'scientificname_search': 'Sylvilagus palustris heferni',\n",
       " 'scientificname_submitted': 'Sylvilagus palustris heferni'}"
      ]
     },
     "metadata": {},
     "output_type": "display_data"
    },
    {
     "name": "stdout",
     "output_type": "stream",
     "text": [
      "{'affected_rows': 1, 'success': True, '_execution_time': 0.068, 'auth_check': {'checked_relations': ['tir.tir2'], 'session': None, 'auth_level': 'Write', 'success': True}}\n"
     ]
    }
   ],
   "source": [
    "# Set the level for a fuzzy match search\n",
    "fuzzyLevel = \"~0.5\"\n",
    "\n",
    "for feature in uniqueNames[\"features\"]:\n",
    "    # Set up a local data structure for storage and processing\n",
    "    thisRecord = {}\n",
    "    \n",
    "    # Set data from query results\n",
    "    thisRecord[\"gid\"] = feature[\"properties\"][\"gid\"]\n",
    "    thisRecord[\"scientificname_submitted\"] = feature[\"properties\"][\"scientificname\"]\n",
    "    thisRecord[\"scientificname_search\"] = cleanScientificName(thisRecord[\"scientificname_submitted\"])\n",
    "    \n",
    "    # Set defaults for thisRecord\n",
    "    thisRecord[\"matchMethod\"] = \"NotMatched:\"+thisRecord[\"scientificname_search\"]\n",
    "    thisRecord[\"itisPairs\"] = packageITISPairs(thisRecord[\"matchMethod\"],0)\n",
    "\n",
    "    # Handle the cases where there is enough interesting stuff in the scientific name string that it comes back blank from the cleaners\n",
    "    if len(thisRecord[\"scientificname_search\"]) != 0:\n",
    "        # The ITIS Solr service does not fail in an elegant way, and so we need to try this whole section and except it out if the query fails\n",
    "        try:\n",
    "            thisRecord[\"itisSearchURL\"] = getITISSearchURL(thisRecord[\"scientificname_search\"])\n",
    "\n",
    "            # Try an exact match search\n",
    "            itisSearchResults = requests.get(thisRecord[\"itisSearchURL\"]).json()\n",
    "            thisRecord[\"numResults\"] = len(itisSearchResults[\"response\"][\"docs\"])\n",
    "\n",
    "            # If we got only a single match on an exact match search, set the method and proceed\n",
    "            if thisRecord[\"numResults\"] == 1:\n",
    "                thisRecord[\"matchMethod\"] = \"ExactMatch:\"+thisRecord[\"scientificname_search\"]\n",
    "\n",
    "            # If we found nothing on an exact match search, try a fuzzy match\n",
    "            elif thisRecord[\"numResults\"] == 0:\n",
    "                itisSearchResults = requests.get(thisRecord[\"itisSearchURL\"]+fuzzyLevel).json()\n",
    "                thisRecord[\"numResults\"] = len(itisSearchResults[\"response\"][\"docs\"])\n",
    "                if thisRecord[\"itisFoundFromFuzzy\"] == 1:\n",
    "                    thisRecord[\"matchMethod\"] = \"FuzzyMatch:\"+thisRecord[\"scientificname_search\"]\n",
    "\n",
    "            # If there are results from exact or fuzzy match search, package the ITIS properties we want\n",
    "            if thisRecord[\"numResults\"] == 1:\n",
    "                thisRecord[\"itisPairs\"] = packageITISPairs(thisRecord[\"matchMethod\"],itisSearchResults[\"response\"][\"docs\"][0])\n",
    "\n",
    "            # If no match can be made, then package a failed search\n",
    "            else:\n",
    "                thisRecord[\"itisPairs\"] = packageITISPairs(thisRecord[\"matchMethod\"],0)\n",
    "            \n",
    "            # Handle cases where discovered TSN usage is invalid by following accepted TSN\n",
    "            if (thisRecord[\"itisPairs\"].find('\"usage\"=>\"valid\"') == -1 or thisRecord[\"itisPairs\"].find('\"usage\"=>\"accepted\"') == -1) and thisRecord[\"itisPairs\"].find('\"acceptedTSN\"') > 0:\n",
    "                thisRecord[\"acceptedTSN\"] = re.search('\\\"acceptedTSN\"\\=\\>\\\"(.+?)\\\"', thisRecord[\"itisPairs\"]).group(1)\n",
    "                thisRecord[\"discoveredTSN\"] = re.search('\\\"tsn\"\\=\\>\\\"(.+?)\\\"', thisRecord[\"itisPairs\"]).group(1)\n",
    "\n",
    "                thisRecord[\"itisSearchURL\"] = getITISSearchURL(thisRecord[\"acceptedTSN\"])\n",
    "                itisSearchResults = requests.get(thisRecord[\"itisSearchURL\"]).json()\n",
    "                thisRecord[\"numResults\"] = len(itisSearchResults[\"response\"][\"docs\"])\n",
    "                if thisRecord[\"numResults\"] == 1:\n",
    "                    thisRecord[\"matchMethod\"] = \"AcceptedTSNFollow:\"+thisRecord[\"scientificname_search\"]\n",
    "                    thisRecord[\"itisPairs\"] = packageITISPairs(thisRecord[\"matchMethod\"],itisSearchResults[\"response\"][\"docs\"][0])\n",
    "                    thisRecord[\"itisPairs\"] = thisRecord[\"itisPairs\"]+',\"discoveredTSN\"=>\"'+thisRecord[\"discoveredTSN\"]+'\"'\n",
    "            \n",
    "        except:\n",
    "            pass\n",
    "    \n",
    "    display (thisRecord)\n",
    "    print (cacheToTIR(thisRecord[\"gid\"],\"itis\",thisRecord[\"itisPairs\"].replace(\"'\",\"''\")))\n"
   ]
  },
  {
   "cell_type": "code",
   "execution_count": null,
   "metadata": {
    "collapsed": true,
    "deletable": true,
    "editable": true
   },
   "outputs": [],
   "source": []
  }
 ],
 "metadata": {
  "kernelspec": {
   "display_name": "Python 3",
   "language": "python",
   "name": "python3"
  },
  "language_info": {
   "codemirror_mode": {
    "name": "ipython",
    "version": 3
   },
   "file_extension": ".py",
   "mimetype": "text/x-python",
   "name": "python",
   "nbconvert_exporter": "python",
   "pygments_lexer": "ipython3",
   "version": "3.5.3"
  }
 },
 "nbformat": 4,
 "nbformat_minor": 0
}
