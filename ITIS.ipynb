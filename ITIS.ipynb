{
 "cells": [
  {
   "cell_type": "markdown",
   "metadata": {
    "deletable": true,
    "editable": true
   },
   "source": [
    "This notebook works with the Taxonomic Information Registry. It picks up scientific names (currently only looking for those submitted by the SGCN process), queries the ITIS Solr service for matches, and caches a few specific properties in a key/value store. A lot of what was originally all in context here as functions has been moved out to a set of modules in a package. The following notes still make sense as to what this process is doing, but they reference what are now those modularized functions.\n",
    "\n",
    "### Clean the scientific name string for use in searches (bis.bis.cleanScientificName(name string))\n",
    "Note: I moved this function into the bis.bis module.\n",
    "\n",
    "This is one of the more tricky areas of the process. People encode a lot of different signals into scientific names. If we clean too much out of the name string, we run the risk of not finding the taxon that they intended to provide. If we clean up too little, we won't find anything with the search. So far, for the SGCN case, we've decided to do the following in this code block for the purposes of finding the taxon in ITIS:\n",
    "\n",
    "* Ignore population designations\n",
    "* Ignore strings after an \"spp.\" designation\n",
    "* Set case for what appear to be species name strings to uppercase genus but lowercase everything else\n",
    "* Ignore text in between parentheses and brackets; these are often synonyms or alternate names that should be picked up from the ITIS record if we find a match\n",
    "\n",
    "One thing that I deliberately did not do here was change cases where the name string includes signals like \"sp.\" or \"sp. 4\". Those are seeming to indicate that the genus is known but species is not yet determined. Rather than strip this text and run the query, potentially resulting in a genus match, I opted to leave those strings in place, likely resulting in no match with ITIS. We may end up making a different design decision for the SGCN case and allow for matching to genus.\n",
    "\n",
    "### Package up the specific attributes we want to cache from ITIS (bis.itis.packageITISPairs(ITIS Solr JSON Doc))\n",
    "Note: I moved this and other ITIS functions into the bis.itis module.\n",
    "\n",
    "This function takes the data coming from the ITIS service as JSON and pairs up the attributes and values we want to cache and use. The date/time stamp here for when the information is cached is vital metadata for determining usability. As soon as the information comes out of ITIS, it is potentially stale. The information we collect and use from ITIS through this process includes the following:\n",
    "* Discovered and accepted TSNs for the taxon\n",
    "* Taxonomic rank of the discovered taxon\n",
    "* Names with and without indicators for the discovered taxon\n",
    "* Taxonomic hierarchy with ranks (in the ITIS Solr service, this is always the accepted taxonomic hierarchy)\n",
    "* Vernacular names for the discovered taxon\n",
    "\n",
    "### Run the process for all supplied names\n",
    "The main process run below should eventually be the substance of a microservice on name matching. I set this up to create a local data structure (dictionary) for each record. The main point here is to set up the search, execute the search and package ITIS results, and then submit those for the record back to the Taxonomic Information Registry.\n",
    "\n",
    "One of the major things we still need to work out here is what to do with updates over time. This script puts some record into the ITIS pairs whether we find a match or not. The query that gets names to run from the registration property looks for cases where the ITIS information is null (mostly because I needed to pick up where I left off when I found a few remaining issues that failed the script). We can then use cases where the \"matchMethod\" is \"NotMatched\" to go back and see if we can find name matches. This is particularly going to be the case where we find more than one match on a fuzzy search, which I still haven't dealt with.\n",
    "\n",
    "We also need to figure out what to do when we want to update the information over time. With ITIS, once we have a matched TSN, we can then use that TSN to grab updates as they occur, including changes in taxonomy. But we need to figure out if we should change the structure of the TIR cache to keep all the old versions of what we found over time so that it can always be referred back to."
   ]
  },
  {
   "cell_type": "code",
   "execution_count": 5,
   "metadata": {
    "collapsed": true,
    "deletable": true,
    "editable": true
   },
   "outputs": [],
   "source": [
    "import requests,re\n",
    "from IPython.display import display\n",
    "from bis import bis\n",
    "from bis import itis\n",
    "from bis import tir\n",
    "from bis2 import gc2"
   ]
  },
  {
   "cell_type": "code",
   "execution_count": 6,
   "metadata": {
    "collapsed": true,
    "deletable": true,
    "editable": true
   },
   "outputs": [],
   "source": [
    "# Set up the actions/targets for this particular instance\n",
    "thisRun = {}\n",
    "thisRun[\"instance\"] = \"DataDistillery\"\n",
    "thisRun[\"db\"] = \"BCB\"\n",
    "thisRun[\"baseURL\"] = gc2.sqlAPI(thisRun[\"instance\"],thisRun[\"db\"])"
   ]
  },
  {
   "cell_type": "markdown",
   "metadata": {},
   "source": [
    "### Get data to process\n",
    "Right now, this just gets everything registered in the TIR where where is no ITIS information. Eventually, we need to figure out a time threshold where we should re-run ITIS processing, and we'll then need to figure out how to deal with older information that may have developed into dependencies."
   ]
  },
  {
   "cell_type": "code",
   "execution_count": 9,
   "metadata": {
    "collapsed": false,
    "deletable": true,
    "editable": true
   },
   "outputs": [],
   "source": [
    "q_tirRecords = \"SELECT id, \\\n",
    "    registration->'source' AS source, \\\n",
    "    registration->'followTaxonomy' AS followtaxonomy, \\\n",
    "    registration->'taxonomicLookupProperty' AS taxonomiclookupproperty, \\\n",
    "    registration->'scientificname' AS scientificname, \\\n",
    "    registration->'tsn' AS tsn \\\n",
    "    FROM tir.tir LIMIT 10\"\n",
    "#    WHERE tir.itis IS NULL\"\n",
    "tirRecords  = requests.get(thisRun[\"baseURL\"]+\"&q=\"+q_tirRecords).json()"
   ]
  },
  {
   "cell_type": "code",
   "execution_count": 10,
   "metadata": {
    "collapsed": false,
    "deletable": true,
    "editable": true
   },
   "outputs": [
    {
     "data": {
      "text/plain": [
       "{'followTaxonomy': 'true',\n",
       " 'id': 944,\n",
       " 'itisPairs': '\"cacheDate\"=>\"2017-06-22T14:10:57.434422\",\"itisMatchMethod\"=>\"Exact Match:\",\"createDate\"=>\"1996-06-13 14:51:08\",\"updateDate\"=>\"2005-09-28 00:00:00\",\"tsn\"=>\"177878\",\"rank\"=>\"Species\",\"nameWInd\"=>\"Otus flammeolus\",\"nameWOInd\"=>\"Otus flammeolus\",\"usage\"=>\"valid\",\"Kingdom\"=>\"Animalia\",\"Subkingdom\"=>\"Bilateria\",\"Infrakingdom\"=>\"Deuterostomia\",\"Phylum\"=>\"Chordata\",\"Subphylum\"=>\"Vertebrata\",\"Infraphylum\"=>\"Gnathostomata\",\"Superclass\"=>\"Tetrapoda\",\"Class\"=>\"Aves\",\"Order\"=>\"Strigiformes\",\"Family\"=>\"Strigidae\",\"Subfamily\"=>\"Striginae\",\"Genus\"=>\"Otus\",\"Species\"=>\"Otus flammeolus\",\"vernacular:English\"=>\"Flammulated Owl\",\"vernacular:Spanish\"=>\"Tecolote ojo oscuro\"',\n",
       " 'itisSearchURL': 'http://services.itis.gov/?wt=json&rows=10&q=(usage:accepted%20OR%20usage:valid)%20AND%20nameWOInd:Otus\\\\%20flammeolus',\n",
       " 'matchMethod': 'Exact Match:',\n",
       " 'matchString': 'Otus flammeolus',\n",
       " 'numResults': 1,\n",
       " 'scientificname': 'Otus flammeolus',\n",
       " 'scientificname_search': 'Otus flammeolus',\n",
       " 'source': 'SGCN',\n",
       " 'taxonomicLookupProperty': 'scientificname',\n",
       " 'tsn': None}"
      ]
     },
     "metadata": {},
     "output_type": "display_data"
    },
    {
     "data": {
      "text/plain": [
       "{'followTaxonomy': 'true',\n",
       " 'id': 649,\n",
       " 'itisPairs': '\"cacheDate\"=>\"2017-06-22T14:10:57.902132\",\"itisMatchMethod\"=>\"Exact Match:\",\"createDate\"=>\"1996-06-13 14:51:08\",\"updateDate\"=>\"2010-10-05 00:00:00\",\"tsn\"=>\"163893\",\"rank\"=>\"Genus\",\"nameWInd\"=>\"Catostomus\",\"nameWOInd\"=>\"Catostomus\",\"usage\"=>\"valid\",\"Kingdom\"=>\"Animalia\",\"Subkingdom\"=>\"Bilateria\",\"Infrakingdom\"=>\"Deuterostomia\",\"Phylum\"=>\"Chordata\",\"Subphylum\"=>\"Vertebrata\",\"Infraphylum\"=>\"Gnathostomata\",\"Superclass\"=>\"Actinopterygii\",\"Class\"=>\"Teleostei\",\"Superorder\"=>\"Ostariophysi\",\"Order\"=>\"Cypriniformes\",\"Superfamily\"=>\"Cobitoidea\",\"Family\"=>\"Catostomidae\",\"Subfamily\"=>\"Catostominae\",\"Tribe\"=>\"Catostomini\",\"Genus\"=>\"Catostomus\",\"vernacular:English\"=>\"common suckers\"',\n",
       " 'itisSearchURL': 'http://services.itis.gov/?wt=json&rows=10&q=(usage:accepted%20OR%20usage:valid)%20AND%20nameWOInd:Catostomus',\n",
       " 'matchMethod': 'Exact Match:',\n",
       " 'matchString': 'Catostomus',\n",
       " 'numResults': 1,\n",
       " 'scientificname': 'Catostomus sp.',\n",
       " 'scientificname_search': 'Catostomus',\n",
       " 'source': 'SGCN',\n",
       " 'taxonomicLookupProperty': 'scientificname',\n",
       " 'tsn': None}"
      ]
     },
     "metadata": {},
     "output_type": "display_data"
    },
    {
     "data": {
      "text/plain": [
       "{'followTaxonomy': 'true',\n",
       " 'id': 1141,\n",
       " 'itisPairs': '\"cacheDate\"=>\"2017-06-22T14:10:58.348265\",\"itisMatchMethod\"=>\"Exact Match:\",\"createDate\"=>\"1996-06-13 14:51:08\",\"updateDate\"=>\"2009-09-01 00:00:00\",\"tsn\"=>\"206991\",\"rank\"=>\"Species\",\"nameWInd\"=>\"Spea intermontana\",\"nameWOInd\"=>\"Spea intermontana\",\"usage\"=>\"valid\",\"Kingdom\"=>\"Animalia\",\"Subkingdom\"=>\"Bilateria\",\"Infrakingdom\"=>\"Deuterostomia\",\"Phylum\"=>\"Chordata\",\"Subphylum\"=>\"Vertebrata\",\"Infraphylum\"=>\"Gnathostomata\",\"Superclass\"=>\"Tetrapoda\",\"Class\"=>\"Amphibia\",\"Order\"=>\"Anura\",\"Family\"=>\"Scaphiopodidae\",\"Genus\"=>\"Spea\",\"Species\"=>\"Spea intermontana\",\"vernacular:English\"=>\"Great Basin Spadefoot\"',\n",
       " 'itisSearchURL': 'http://services.itis.gov/?wt=json&rows=10&q=(usage:accepted%20OR%20usage:valid)%20AND%20nameWOInd:Spea\\\\%20intermontana',\n",
       " 'matchMethod': 'Exact Match:',\n",
       " 'matchString': 'Spea intermontana',\n",
       " 'numResults': 1,\n",
       " 'scientificname': 'Spea intermontana',\n",
       " 'scientificname_search': 'Spea intermontana',\n",
       " 'source': 'SGCN',\n",
       " 'taxonomicLookupProperty': 'scientificname',\n",
       " 'tsn': None}"
      ]
     },
     "metadata": {},
     "output_type": "display_data"
    },
    {
     "data": {
      "text/plain": [
       "{'followTaxonomy': 'true',\n",
       " 'id': 1039,\n",
       " 'itisPairs': '\"cacheDate\"=>\"2017-06-22T14:10:58.350254\",\"itisMatchMethod\"=>\"Not Matched\"',\n",
       " 'itisSearchURL': 'http://services.itis.gov/?wt=json&rows=10&q=(usage:accepted%20OR%20usage:valid)%20AND%20nameWOInd:Rana\\\\%20pipiens',\n",
       " 'matchMethod': 'Not Matched',\n",
       " 'matchString': 'Rana pipiens',\n",
       " 'numResults': 0,\n",
       " 'scientificname': 'Rana pipiens',\n",
       " 'scientificname_search': 'Rana pipiens',\n",
       " 'source': 'SGCN',\n",
       " 'taxonomicLookupProperty': 'scientificname',\n",
       " 'tsn': None}"
      ]
     },
     "metadata": {},
     "output_type": "display_data"
    },
    {
     "data": {
      "text/plain": [
       "{'followTaxonomy': 'true',\n",
       " 'id': 865,\n",
       " 'itisPairs': '\"cacheDate\"=>\"2017-06-22T14:10:59.149627\",\"itisMatchMethod\"=>\"Exact Match:\",\"createDate\"=>\"1996-06-13 14:51:08\",\"updateDate\"=>\"2015-10-28 00:00:00\",\"tsn\"=>\"179223\",\"rank\"=>\"Species\",\"nameWInd\"=>\"Leucosticte australis\",\"nameWOInd\"=>\"Leucosticte australis\",\"usage\"=>\"valid\",\"Kingdom\"=>\"Animalia\",\"Subkingdom\"=>\"Bilateria\",\"Infrakingdom\"=>\"Deuterostomia\",\"Phylum\"=>\"Chordata\",\"Subphylum\"=>\"Vertebrata\",\"Infraphylum\"=>\"Gnathostomata\",\"Superclass\"=>\"Tetrapoda\",\"Class\"=>\"Aves\",\"Order\"=>\"Passeriformes\",\"Family\"=>\"Fringillidae\",\"Genus\"=>\"Leucosticte\",\"Species\"=>\"Leucosticte australis\",\"vernacular:English\"=>\"Brown-capped Rosy Finch\",\"vernacular:English\"=>\"Brown-capped Rosy-Finch\"',\n",
       " 'itisSearchURL': 'http://services.itis.gov/?wt=json&rows=10&q=(usage:accepted%20OR%20usage:valid)%20AND%20nameWOInd:Leucosticte\\\\%20australis',\n",
       " 'matchMethod': 'Exact Match:',\n",
       " 'matchString': 'Leucosticte australis',\n",
       " 'numResults': 1,\n",
       " 'scientificname': 'Leucosticte australis',\n",
       " 'scientificname_search': 'Leucosticte australis',\n",
       " 'source': 'SGCN',\n",
       " 'taxonomicLookupProperty': 'scientificname',\n",
       " 'tsn': None}"
      ]
     },
     "metadata": {},
     "output_type": "display_data"
    },
    {
     "data": {
      "text/plain": [
       "{'followTaxonomy': 'true',\n",
       " 'id': 868,\n",
       " 'itisPairs': '\"cacheDate\"=>\"2017-06-22T14:10:59.773288\",\"itisMatchMethod\"=>\"Exact Match:\",\"createDate\"=>\"2009-09-01 16:05:19\",\"updateDate\"=>\"2009-09-01 00:00:00\",\"tsn\"=>\"775108\",\"rank\"=>\"Species\",\"nameWInd\"=>\"Lithobates pipiens\",\"nameWOInd\"=>\"Lithobates pipiens\",\"usage\"=>\"valid\",\"Kingdom\"=>\"Animalia\",\"Subkingdom\"=>\"Bilateria\",\"Infrakingdom\"=>\"Deuterostomia\",\"Phylum\"=>\"Chordata\",\"Subphylum\"=>\"Vertebrata\",\"Infraphylum\"=>\"Gnathostomata\",\"Superclass\"=>\"Tetrapoda\",\"Class\"=>\"Amphibia\",\"Order\"=>\"Anura\",\"Family\"=>\"Ranidae\",\"Genus\"=>\"Lithobates\",\"Species\"=>\"Lithobates pipiens\",\"vernacular:English\"=>\"Northern Leopard Frog\"',\n",
       " 'itisSearchURL': 'http://services.itis.gov/?wt=json&rows=10&q=(usage:accepted%20OR%20usage:valid)%20AND%20nameWOInd:Lithobates\\\\%20pipiens',\n",
       " 'matchMethod': 'Exact Match:',\n",
       " 'matchString': 'Lithobates pipiens',\n",
       " 'numResults': 1,\n",
       " 'scientificname': 'Lithobates pipiens',\n",
       " 'scientificname_search': 'Lithobates pipiens',\n",
       " 'source': 'SGCN',\n",
       " 'taxonomicLookupProperty': 'scientificname',\n",
       " 'tsn': None}"
      ]
     },
     "metadata": {},
     "output_type": "display_data"
    },
    {
     "data": {
      "text/plain": [
       "{'followTaxonomy': 'true',\n",
       " 'id': 827,\n",
       " 'itisPairs': '\"cacheDate\"=>\"2017-06-22T14:11:00.613755\",\"itisMatchMethod\"=>\"Exact Match:\",\"createDate\"=>\"1996-06-13 14:51:08\",\"updateDate\"=>\"2009-09-01 00:00:00\",\"tsn\"=>\"207283\",\"rank\"=>\"Species\",\"nameWInd\"=>\"Hyla wrightorum\",\"nameWOInd\"=>\"Hyla wrightorum\",\"usage\"=>\"valid\",\"Kingdom\"=>\"Animalia\",\"Subkingdom\"=>\"Bilateria\",\"Infrakingdom\"=>\"Deuterostomia\",\"Phylum\"=>\"Chordata\",\"Subphylum\"=>\"Vertebrata\",\"Infraphylum\"=>\"Gnathostomata\",\"Superclass\"=>\"Tetrapoda\",\"Class\"=>\"Amphibia\",\"Order\"=>\"Anura\",\"Family\"=>\"Hylidae\",\"Subfamily\"=>\"Hylinae\",\"Genus\"=>\"Hyla\",\"Species\"=>\"Hyla wrightorum\",\"vernacular:English\"=>\"Arizona Treefrog\",\"vernacular:English\"=>\"Mountain Treefrog\"',\n",
       " 'itisSearchURL': 'http://services.itis.gov/?wt=json&rows=10&q=(usage:accepted%20OR%20usage:valid)%20AND%20nameWOInd:Hyla\\\\%20wrightorum',\n",
       " 'matchMethod': 'Exact Match:',\n",
       " 'matchString': 'Hyla wrightorum',\n",
       " 'numResults': 1,\n",
       " 'scientificname': 'Hyla wrightorum (Huachuca-Canelo Hills DPS)',\n",
       " 'scientificname_search': 'Hyla wrightorum',\n",
       " 'source': 'SGCN',\n",
       " 'taxonomicLookupProperty': 'scientificname',\n",
       " 'tsn': None}"
      ]
     },
     "metadata": {},
     "output_type": "display_data"
    },
    {
     "data": {
      "text/plain": [
       "{'followTaxonomy': 'true',\n",
       " 'id': 574,\n",
       " 'itisPairs': '\"cacheDate\"=>\"2017-06-22T14:11:00.616131\",\"itisMatchMethod\"=>\"Not Matched\"',\n",
       " 'itisSearchURL': 'http://services.itis.gov/?wt=json&rows=10&q=(usage:accepted%20OR%20usage:valid)%20AND%20nameWOInd:Arsapnia\\\\%20arapahoe',\n",
       " 'matchMethod': 'Not Matched',\n",
       " 'matchString': 'Arsapnia arapahoe',\n",
       " 'numResults': 0,\n",
       " 'scientificname': 'Arsapnia [=Capnia] arapahoe',\n",
       " 'scientificname_search': 'Arsapnia arapahoe',\n",
       " 'source': 'SGCN',\n",
       " 'taxonomicLookupProperty': 'scientificname',\n",
       " 'tsn': None}"
      ]
     },
     "metadata": {},
     "output_type": "display_data"
    },
    {
     "data": {
      "text/plain": [
       "{'followTaxonomy': 'true',\n",
       " 'id': 998,\n",
       " 'itisPairs': '\"cacheDate\"=>\"2017-06-22T14:11:01.220065\",\"itisMatchMethod\"=>\"Not Matched\"',\n",
       " 'itisSearchURL': 'http://services.itis.gov/?wt=json&rows=10&q=(usage:accepted%20OR%20usage:valid)%20AND%20nameWOInd:Plestiodon\\\\%20gilberti\\\\%20arizonensis',\n",
       " 'matchMethod': 'Not Matched',\n",
       " 'matchString': 'Plestiodon gilberti arizonensis',\n",
       " 'numResults': 0,\n",
       " 'scientificname': 'Plestiodon gilberti arizonensis',\n",
       " 'scientificname_search': 'Plestiodon gilberti arizonensis',\n",
       " 'source': 'SGCN',\n",
       " 'taxonomicLookupProperty': 'scientificname',\n",
       " 'tsn': None}"
      ]
     },
     "metadata": {},
     "output_type": "display_data"
    },
    {
     "data": {
      "text/plain": [
       "{'followTaxonomy': 'true',\n",
       " 'id': 585,\n",
       " 'itisPairs': '\"cacheDate\"=>\"2017-06-22T14:11:01.605050\",\"itisMatchMethod\"=>\"Not Matched\"',\n",
       " 'itisSearchURL': 'http://services.itis.gov/?wt=json&rows=10&q=(usage:accepted%20OR%20usage:valid)%20AND%20nameWOInd:Aspidoscelis\\\\%20burti',\n",
       " 'matchMethod': 'Not Matched',\n",
       " 'matchString': 'Aspidoscelis burti',\n",
       " 'numResults': 0,\n",
       " 'scientificname': 'Aspidoscelis burti',\n",
       " 'scientificname_search': 'Aspidoscelis burti',\n",
       " 'source': 'SGCN',\n",
       " 'taxonomicLookupProperty': 'scientificname',\n",
       " 'tsn': None}"
      ]
     },
     "metadata": {},
     "output_type": "display_data"
    }
   ],
   "source": [
    "for feature in tirRecords[\"features\"]:\n",
    "    # Set up a local data structure for storage and processing\n",
    "    thisRecord = {}\n",
    "    \n",
    "    # Set data from query results\n",
    "    thisRecord[\"id\"] = feature[\"properties\"][\"id\"]\n",
    "    thisRecord[\"source\"] = feature[\"properties\"][\"source\"]\n",
    "    thisRecord[\"followTaxonomy\"] = feature[\"properties\"][\"followtaxonomy\"]\n",
    "    thisRecord[\"taxonomicLookupProperty\"] = feature[\"properties\"][\"taxonomiclookupproperty\"]\n",
    "    thisRecord[\"tsn\"] = feature[\"properties\"][\"tsn\"]\n",
    "    thisRecord[\"scientificname\"] = feature[\"properties\"][\"scientificname\"]\n",
    "    thisRecord[\"scientificname_search\"] = bis.cleanScientificName(thisRecord[\"scientificname\"])\n",
    "    \n",
    "    # Set defaults for thisRecord\n",
    "    thisRecord[\"matchMethod\"] = \"Not Matched\"\n",
    "    thisRecord[\"matchString\"] = thisRecord[\"scientificname_search\"]\n",
    "    thisRecord[\"itisPairs\"] = itis.packageITISPairs(thisRecord[\"matchMethod\"],0)\n",
    "    \n",
    "    if thisRecord[\"taxonomicLookupProperty\"] == \"scientificname\" and len(thisRecord[\"scientificname_search\"]) != 0:\n",
    "        \n",
    "        # The ITIS Solr service does not fail in an elegant way, and so we need to try this whole section and except it out if the query fails\n",
    "        try:\n",
    "            thisRecord[\"itisSearchURL\"] = itis.getITISSearchURL(thisRecord[\"scientificname_search\"])\n",
    "\n",
    "            # Try an exact match search\n",
    "            itisSearchResults = requests.get(thisRecord[\"itisSearchURL\"]).json()\n",
    "            thisRecord[\"numResults\"] = len(itisSearchResults[\"response\"][\"docs\"])\n",
    "\n",
    "            # If we got only a single match on an exact match search, set the method and proceed\n",
    "            if thisRecord[\"numResults\"] == 1:\n",
    "                thisRecord[\"matchMethod\"] = \"Exact Match:\"\n",
    "\n",
    "            # If we found nothing on an exact match search, try a fuzzy match\n",
    "            elif thisRecord[\"numResults\"] == 0:\n",
    "                itisSearchResults = requests.get(thisRecord[\"itisSearchURL\"]+fuzzyLevel).json()\n",
    "                thisRecord[\"numResults\"] = len(itisSearchResults[\"response\"][\"docs\"])\n",
    "                if thisRecord[\"numResults\"] == 1:\n",
    "                    thisRecord[\"matchMethod\"] = \"Fuzzy Match\"\n",
    "\n",
    "            # If there are results from exact or fuzzy match search, package the ITIS properties we want\n",
    "            if thisRecord[\"numResults\"] == 1:\n",
    "                thisRecord[\"itisPairs\"] = itis.packageITISPairs(thisRecord[\"matchMethod\"],itisSearchResults[\"response\"][\"docs\"][0])\n",
    "\n",
    "            # Handle cases where discovered TSN usage is invalid by following accepted TSN\n",
    "            if (thisRecord[\"itisPairs\"].find('\"usage\"=>\"valid\"') == -1 or thisRecord[\"itisPairs\"].find('\"usage\"=>\"accepted\"') == -1) and thisRecord[\"itisPairs\"].find('\"acceptedTSN\"') > 0 and thisRecord[\"followTaxonomy\"] == \"True\":\n",
    "                thisRecord[\"acceptedTSN\"] = re.search('\\\"acceptedTSN\"\\=\\>\\\"(.+?)\\\"', thisRecord[\"itisPairs\"]).group(1)\n",
    "                thisRecord[\"discoveredTSN\"] = re.search('\\\"tsn\"\\=\\>\\\"(.+?)\\\"', thisRecord[\"itisPairs\"]).group(1)\n",
    "\n",
    "                thisRecord[\"itisSearchURL\"] = itis.getITISSearchURL(thisRecord[\"acceptedTSN\"])\n",
    "                itisSearchResults = requests.get(thisRecord[\"itisSearchURL\"]).json()\n",
    "                thisRecord[\"numResults\"] = len(itisSearchResults[\"response\"][\"docs\"])\n",
    "                if thisRecord[\"numResults\"] == 1:\n",
    "                    thisRecord[\"matchMethod\"] = \"Followed Accepted TSN\"\n",
    "                    thisRecord[\"itisPairs\"] = itis.packageITISPairs(thisRecord[\"matchMethod\"],itisSearchResults[\"response\"][\"docs\"][0])\n",
    "                    thisRecord[\"itisPairs\"] = thisRecord[\"itisPairs\"]+',\"discoveredTSN\"=>\"'+thisRecord[\"discoveredTSN\"]+'\"'\n",
    "            \n",
    "        except:\n",
    "            pass\n",
    "    \n",
    "    elif thisRecord[\"taxonomicLookupProperty\"] == \"tsn\" and thisRecord[\"tsn\"] is not None:\n",
    "        \n",
    "        thisRecord[\"itisSearchURL\"] = itis.getITISSearchURL(thisRecord[\"tsn\"])\n",
    "\n",
    "    display (thisRecord)\n",
    "    print (tir.cacheToTIR(thisRun[\"baseURL\"],thisRecord[\"id\"],\"itis\",thisRecord[\"itisPairs\"]))\n",
    "\n",
    "        "
   ]
  },
  {
   "cell_type": "code",
   "execution_count": null,
   "metadata": {
    "collapsed": true,
    "deletable": true,
    "editable": true
   },
   "outputs": [],
   "source": []
  }
 ],
 "metadata": {
  "kernelspec": {
   "display_name": "Python 3",
   "language": "python",
   "name": "python3"
  },
  "language_info": {
   "codemirror_mode": {
    "name": "ipython",
    "version": 3
   },
   "file_extension": ".py",
   "mimetype": "text/x-python",
   "name": "python",
   "nbconvert_exporter": "python",
   "pygments_lexer": "ipython3",
   "version": "3.5.3"
  }
 },
 "nbformat": 4,
 "nbformat_minor": 0
}
