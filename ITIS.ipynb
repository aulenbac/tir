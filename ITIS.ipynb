{
 "cells": [
  {
   "cell_type": "markdown",
   "metadata": {
    "deletable": true,
    "editable": true
   },
   "source": [
    "This notebook works with the Taxonomic Information Registry. It picks up scientific names (currently only looking for those submitted by the SGCN process), queries the ITIS Solr service for matches, and caches a few specific properties in a key/value store."
   ]
  },
  {
   "cell_type": "code",
   "execution_count": 47,
   "metadata": {
    "collapsed": true,
    "deletable": true,
    "editable": true
   },
   "outputs": [],
   "source": [
    "import requests,configparser,re\n",
    "from IPython.display import display"
   ]
  },
  {
   "cell_type": "code",
   "execution_count": 48,
   "metadata": {
    "collapsed": true,
    "deletable": true,
    "editable": true
   },
   "outputs": [],
   "source": [
    "# Get API keys and any other config details from a file that is external to the code.\n",
    "config = configparser.RawConfigParser()\n",
    "config.read_file(open(r'../config/stuff.py'))"
   ]
  },
  {
   "cell_type": "code",
   "execution_count": 49,
   "metadata": {
    "collapsed": true,
    "deletable": true,
    "editable": true
   },
   "outputs": [],
   "source": [
    "# Build base URL with API key using input from the external config.\n",
    "def getBaseURL():\n",
    "    gc2APIKey = config.get('apiKeys','apiKey_GC2_BCB').replace('\"','')\n",
    "    apiBaseURL = \"https://gc2.mapcentia.com/api/v1/sql/bcb?key=\"+gc2APIKey\n",
    "    return apiBaseURL"
   ]
  },
  {
   "cell_type": "markdown",
   "metadata": {
    "deletable": true,
    "editable": true
   },
   "source": [
    "### Clean the scientific name string for use in searches\n",
    "This is one of the more tricky areas of the process. People encode a lot of different signals into scientific names. If we clean too much out of the name string, we run the risk of not finding the taxon that they intended to provide. If we clean up too little, we won't find anything with the search. So far, for the SGCN case, we've decided to do the following in this code block for the purposes of finding the taxon in ITIS:\n",
    "\n",
    "* Ignore population designations\n",
    "* Ignore strings after an \"spp.\" designation\n",
    "* Set case for what appear to be species name strings to uppercase genus but lowercase everything else\n",
    "* Ignore text in between parentheses and brackets; these are often synonyms or alternate names that should be picked up from the ITIS record if we find a match\n",
    "\n",
    "One thing that I deliberately did not do here was change cases where the name string includes signals like \"sp.\" or \"sp. 4\". Those are seeming to indicate that the genus is known but species is not yet determined. Rather than strip this text and run the query, potentially resulting in a genus match, I opted to leave those strings in place, likely resulting in no match with ITIS. We may end up making a different design decision for the SGCN case and allow for matching to genus. "
   ]
  },
  {
   "cell_type": "code",
   "execution_count": 77,
   "metadata": {
    "collapsed": true,
    "deletable": true,
    "editable": true
   },
   "outputs": [],
   "source": [
    "# There are a few things that we've found in the name strings that, if removed or modified, will result in a valid taxon name string for the ITIS service\n",
    "def cleanScientificName(scientificname):\n",
    "    # Get rid of ? - they might mean something, but...\n",
    "    scientificname = scientificname.replace(\"?\", \"\")\n",
    "\n",
    "    # Get rid of text in parens and brackets; this is a design decision to potentially do away with information that might be important, but it gets retained in the original records\n",
    "    scientificname = re.sub(\"[\\(\\[].*?[\\)\\]]\", \"\", scientificname)\n",
    "    \n",
    "    # Clean up all upper case strings because the ITIS service doesn't like them\n",
    "    if any(x.isupper() for x in scientificname[-(len(scientificname)-1):]):\n",
    "        scientificname = scientificname.lower().capitalize()\n",
    "\n",
    "    # Replace \"subsp.\" with \"ssp.\" in order to make the subspecies search work\n",
    "    scientificname = scientificname.replace(\"subsp.\", \"ssp.\")\n",
    "    \n",
    "    # Get rid of characters after certain characters to produce a shorter (and sometimes higher taxonomy) name string compatible with the ITIS service\n",
    "    afterChars = [\"(\", \" sp.\", \" spp.\", \" sp \", \" spp \", \" n.\", \" pop.\", \"l.\"]\n",
    "    # Add a space at the end for this step to help tease out issues with split characters ending the string (could probably be better as re)\n",
    "    scientificname = scientificname+\" \"\n",
    "    for char in afterChars:\n",
    "        scientificname = scientificname.split(char, 1)[0]\n",
    "\n",
    "    # Final cleanup of extra spaces\n",
    "    scientificname = \" \".join(scientificname.split())\n",
    "\n",
    "    return scientificname"
   ]
  },
  {
   "cell_type": "code",
   "execution_count": 68,
   "metadata": {
    "collapsed": true,
    "deletable": true,
    "editable": true
   },
   "outputs": [],
   "source": [
    "def getITISSearchURL(searchstr):\n",
    "    # Default to using name without indicator as the search term\n",
    "    itisTerm = \"nameWOInd\"\n",
    "    \n",
    "    # \"var.\" and \"ssp.\" indicate that the string has population and variation indicators and should use the WInd service\n",
    "    if searchstr.find(\"var.\") > 0 or searchstr.find(\"ssp.\") > 0:\n",
    "        itisTerm = \"nameWInd\"\n",
    "    \n",
    "    try:\n",
    "        int(searchstr)\n",
    "        itisTerm = \"tsn\"\n",
    "    except:\n",
    "        pass\n",
    "    \n",
    "    # Put the search term together with the scientific name value including the escape character sequence that ITIS needs in the name criteria\n",
    "    # \"valid\" and \"accepted\" usage values will further constrain the search and handle cases where the search returns more than one possible record on name\n",
    "    return \"http://services.itis.gov/?wt=json&rows=10&q=(usage:accepted%20OR%20usage:valid)%20AND%20\"+itisTerm+\":\"+searchstr.replace(\" \",\"\\%20\")"
   ]
  },
  {
   "cell_type": "markdown",
   "metadata": {
    "deletable": true,
    "editable": true
   },
   "source": [
    "### Package up the specific attributes we want to cache from ITIS\n",
    "This function takes the data coming from the ITIS service as JSON and pairs up the attributes and values we want to cache and use. The date/time stamp here for when the information is cached is vital metadata for determining usability. As soon as the information comes out of ITIS, it is potentially stale. The information we collect and use from ITIS through this process includes the following:\n",
    "* Discovered and accepted TSNs for the taxon\n",
    "* Taxonomic rank of the discovered taxon\n",
    "* Names with and without indicators for the discovered taxon\n",
    "* Taxonomic hierarchy with ranks (in the ITIS Solr service, this is always the accepted taxonomic hierarchy)\n",
    "* Vernacular names for the discovered taxon"
   ]
  },
  {
   "cell_type": "code",
   "execution_count": 57,
   "metadata": {
    "collapsed": true,
    "deletable": true,
    "editable": true
   },
   "outputs": [],
   "source": [
    "def packageITISPairs(matchMethod,itisDoc):\n",
    "    import datetime\n",
    "    dt = datetime.datetime.utcnow().isoformat()\n",
    "    itisPairs = '\"cacheDate\"=>\"'+dt+'\"'\n",
    "    itisPairs = itisPairs+',\"itisMatchMethod\"=>\"'+matchMethod+'\"'\n",
    "\n",
    "    if type(itisDoc) is int:\n",
    "        return itisPairs\n",
    "    else:\n",
    "        itisPairs = itisPairs+',\"createDate\"=>\"'+itisDoc['createDate']+'\"'\n",
    "        itisPairs = itisPairs+',\"updateDate\"=>\"'+itisDoc['updateDate']+'\"'\n",
    "        itisPairs = itisPairs+',\"tsn\"=>\"'+itisDoc['tsn']+'\"'\n",
    "        itisPairs = itisPairs+',\"rank\"=>\"'+itisDoc['rank']+'\"'\n",
    "        itisPairs = itisPairs+',\"nameWInd\"=>\"'+itisDoc['nameWInd']+'\"'\n",
    "        itisPairs = itisPairs+',\"nameWOInd\"=>\"'+itisDoc['nameWOInd']+'\"'\n",
    "        itisPairs = itisPairs+',\"usage\"=>\"'+itisDoc['usage']+'\"'\n",
    "\n",
    "        if 'acceptedTSN' in itisDoc:\n",
    "            itisPairs = itisPairs+',\"acceptedTSN\"=>\"'+itisDoc['acceptedTSN'][0]+'\"'\n",
    "\n",
    "        hierarchy = itisDoc['hierarchySoFarWRanks'][0]\n",
    "        hierarchy = hierarchy[hierarchy.find(':$')+2:-1]\n",
    "        hierarchy = '\"'+hierarchy.replace(':', '\"=>\"').replace('$', '\",\"')+'\"'\n",
    "        itisPairs = itisPairs+','+hierarchy\n",
    "\n",
    "        if \"vernacular\" in itisDoc:\n",
    "            vernacularList = []\n",
    "            for commonName in itisDoc['vernacular']:\n",
    "                commonNameElements = commonName.split('$')\n",
    "                vernacularList.append('\"vernacular:'+commonNameElements[2]+'\"=>\"'+commonNameElements[1]+'\"')\n",
    "            strVernacularList = ''.join(vernacularList).replace(\"\\'\", \"''\").replace('\"\"','\",\"')\n",
    "            itisPairs = itisPairs+','+strVernacularList\n",
    "\n",
    "        return itisPairs"
   ]
  },
  {
   "cell_type": "code",
   "execution_count": 53,
   "metadata": {
    "collapsed": true,
    "deletable": true,
    "editable": true
   },
   "outputs": [],
   "source": [
    "# Basic function to insert subject ID, property, and value into tircache\n",
    "def cacheToTIR(gid,infotype,pairs):\n",
    "    import requests\n",
    "    updateQ = \"UPDATE tir.tir2 SET \"+infotype+\" = '\"+pairs+\"' WHERE gid = \"+str(gid)\n",
    "    r = requests.get(getBaseURL()+\"&q=\"+updateQ).json()\n",
    "    return r"
   ]
  },
  {
   "cell_type": "code",
   "execution_count": 78,
   "metadata": {
    "collapsed": false,
    "deletable": true,
    "editable": true
   },
   "outputs": [],
   "source": [
    "# Query for the registered names we want to run through the system\n",
    "uniqueNames  = requests.get(getBaseURL()+\"&q=SELECT gid,registration->'SGCN_ScientificName_Submitted' AS scientificname FROM tir.tir2 WHERE itis IS NULL\").json()"
   ]
  },
  {
   "cell_type": "markdown",
   "metadata": {
    "deletable": true,
    "editable": true
   },
   "source": [
    "### Run the process for all supplied names\n",
    "This is the process that should eventually be the substance of a microservice on name matching. I set this up to create a local data structure (dictionary) for each record. The main point here is to set up the search, execute the search and package ITIS results, and then submit those for the record back to the Taxonomic Information Registry.\n",
    "\n",
    "One of the major things we still need to work out here is what to do with updates over time. This script puts some record into the ITIS pairs whether we find a match or not. The query that gets names to run from the registration property looks for cases where the ITIS information is null (mostly because I needed to pick up where I left off when I found a few remaining issues that failed the script). We can then use cases where the \"matchMethod\" is \"NotMatched\" to go back and see if we can find name matches. This is particularly going to be the case where we find more than one match on a fuzzy search, which I still haven't dealt with.\n",
    "\n",
    "We also need to figure out what to do when we want to update the information over time. With ITIS, once we have a matched TSN, we can then use that TSN to grab updates as they occur, including changes in taxonomy. But we need to figure out if we should change the structure of the TIR cache to keep all the old versions of what we found over time so that it can always be referred back to."
   ]
  },
  {
   "cell_type": "code",
   "execution_count": 79,
   "metadata": {
    "collapsed": false,
    "deletable": true,
    "editable": true
   },
   "outputs": [
    {
     "data": {
      "text/plain": [
       "{'gid': 6778,\n",
       " 'itisPairs': '\"cacheDate\"=>\"2017-05-13T13:27:33.987398\",\"itisMatchMethod\"=>\"ExactMatch:Lithophane\",\"createDate\"=>\"1996-06-13 14:51:08\",\"updateDate\"=>\"2014-05-28 00:00:00\",\"tsn\"=>\"117408\",\"rank\"=>\"Genus\",\"nameWInd\"=>\"Lithophane\",\"nameWOInd\"=>\"Lithophane\",\"usage\"=>\"valid\",\"Kingdom\"=>\"Animalia\",\"Subkingdom\"=>\"Bilateria\",\"Infrakingdom\"=>\"Protostomia\",\"Superphylum\"=>\"Ecdysozoa\",\"Phylum\"=>\"Arthropoda\",\"Subphylum\"=>\"Hexapoda\",\"Class\"=>\"Insecta\",\"Subclass\"=>\"Pterygota\",\"Infraclass\"=>\"Neoptera\",\"Superorder\"=>\"Holometabola\",\"Order\"=>\"Lepidoptera\",\"Superfamily\"=>\"Noctuoidea\",\"Family\"=>\"Noctuidae\",\"Subfamily\"=>\"Noctuinae\",\"Tribe\"=>\"Xylenini\",\"Subtribe\"=>\"Xylenina\",\"Genus\"=>\"Lithophane\"',\n",
       " 'itisSearchURL': 'http://services.itis.gov/?wt=json&rows=10&q=(usage:accepted%20OR%20usage:valid)%20AND%20nameWOInd:Lithophane',\n",
       " 'matchMethod': 'ExactMatch:Lithophane',\n",
       " 'numResults': 1,\n",
       " 'scientificname_search': 'Lithophane',\n",
       " 'scientificname_submitted': 'Lithophane l. lepida'}"
      ]
     },
     "metadata": {},
     "output_type": "display_data"
    },
    {
     "name": "stdout",
     "output_type": "stream",
     "text": [
      "{'affected_rows': 1, 'auth_check': {'auth_level': 'Write', 'session': None, 'checked_relations': ['tir.tir2'], 'success': True}, '_execution_time': 0.069, 'success': True}\n"
     ]
    }
   ],
   "source": [
    "# Set the level for a fuzzy match search\n",
    "fuzzyLevel = \"~0.5\"\n",
    "\n",
    "for feature in uniqueNames[\"features\"]:\n",
    "    # Set up a local data structure for storage and processing\n",
    "    thisRecord = {}\n",
    "    \n",
    "    # Set data from query results\n",
    "    thisRecord[\"gid\"] = feature[\"properties\"][\"gid\"]\n",
    "    thisRecord[\"scientificname_submitted\"] = feature[\"properties\"][\"scientificname\"]\n",
    "    thisRecord[\"scientificname_search\"] = cleanScientificName(thisRecord[\"scientificname_submitted\"])\n",
    "    \n",
    "    # Set defaults for thisRecord\n",
    "    thisRecord[\"matchMethod\"] = \"NotMatched:\"+thisRecord[\"scientificname_search\"]\n",
    "    thisRecord[\"itisPairs\"] = packageITISPairs(thisRecord[\"matchMethod\"],0)\n",
    "\n",
    "    # Handle the cases where there is enough interesting stuff in the scientific name string that it comes back blank from the cleaners\n",
    "    if len(thisRecord[\"scientificname_search\"]) != 0:\n",
    "        # The ITIS Solr service does not fail in an elegant way, and so we need to try this whole section and except it out if the query fails\n",
    "        try:\n",
    "            thisRecord[\"itisSearchURL\"] = getITISSearchURL(thisRecord[\"scientificname_search\"])\n",
    "\n",
    "            # Try an exact match search\n",
    "            itisSearchResults = requests.get(thisRecord[\"itisSearchURL\"]).json()\n",
    "            thisRecord[\"numResults\"] = len(itisSearchResults[\"response\"][\"docs\"])\n",
    "\n",
    "            # If we got only a single match on an exact match search, set the method and proceed\n",
    "            if thisRecord[\"numResults\"] == 1:\n",
    "                thisRecord[\"matchMethod\"] = \"ExactMatch:\"+thisRecord[\"scientificname_search\"]\n",
    "\n",
    "            # If we found nothing on an exact match search, try a fuzzy match\n",
    "            elif thisRecord[\"numResults\"] == 0:\n",
    "                itisSearchResults = requests.get(thisRecord[\"itisSearchURL\"]+fuzzyLevel).json()\n",
    "                thisRecord[\"numResults\"] = len(itisSearchResults[\"response\"][\"docs\"])\n",
    "                if thisRecord[\"itisFoundFromFuzzy\"] == 1:\n",
    "                    thisRecord[\"matchMethod\"] = \"FuzzyMatch:\"+thisRecord[\"scientificname_search\"]\n",
    "\n",
    "            # If there are results from exact or fuzzy match search, package the ITIS properties we want\n",
    "            if thisRecord[\"numResults\"] == 1:\n",
    "                thisRecord[\"itisPairs\"] = packageITISPairs(thisRecord[\"matchMethod\"],itisSearchResults[\"response\"][\"docs\"][0])\n",
    "\n",
    "            # If no match can be made, then package a failed search\n",
    "            else:\n",
    "                thisRecord[\"itisPairs\"] = packageITISPairs(thisRecord[\"matchMethod\"],0)\n",
    "            \n",
    "            # Handle cases where discovered TSN usage is invalid by following accepted TSN\n",
    "            if (thisRecord[\"itisPairs\"].find('\"usage\"=>\"valid\"') == -1 or thisRecord[\"itisPairs\"].find('\"usage\"=>\"accepted\"') == -1) and thisRecord[\"itisPairs\"].find('\"acceptedTSN\"') > 0:\n",
    "                thisRecord[\"acceptedTSN\"] = re.search('\\\"acceptedTSN\"\\=\\>\\\"(.+?)\\\"', thisRecord[\"itisPairs\"]).group(1)\n",
    "                thisRecord[\"discoveredTSN\"] = re.search('\\\"tsn\"\\=\\>\\\"(.+?)\\\"', thisRecord[\"itisPairs\"]).group(1)\n",
    "\n",
    "                thisRecord[\"itisSearchURL\"] = getITISSearchURL(thisRecord[\"acceptedTSN\"])\n",
    "                itisSearchResults = requests.get(thisRecord[\"itisSearchURL\"]).json()\n",
    "                thisRecord[\"numResults\"] = len(itisSearchResults[\"response\"][\"docs\"])\n",
    "                if thisRecord[\"numResults\"] == 1:\n",
    "                    thisRecord[\"matchMethod\"] = \"AcceptedTSNFollow:\"+thisRecord[\"scientificname_search\"]\n",
    "                    thisRecord[\"itisPairs\"] = packageITISPairs(thisRecord[\"matchMethod\"],itisSearchResults[\"response\"][\"docs\"][0])\n",
    "                    thisRecord[\"itisPairs\"] = thisRecord[\"itisPairs\"]+',\"discoveredTSN\"=>\"'+thisRecord[\"discoveredTSN\"]+'\"'\n",
    "            \n",
    "        except:\n",
    "            pass\n",
    "    \n",
    "    display (thisRecord)\n",
    "    print (cacheToTIR(thisRecord[\"gid\"],\"itis\",thisRecord[\"itisPairs\"].replace(\"'\",\"''\")))\n"
   ]
  },
  {
   "cell_type": "code",
   "execution_count": null,
   "metadata": {
    "collapsed": true,
    "deletable": true,
    "editable": true
   },
   "outputs": [],
   "source": []
  }
 ],
 "metadata": {
  "kernelspec": {
   "display_name": "Python 3",
   "language": "python",
   "name": "python3"
  },
  "language_info": {
   "codemirror_mode": {
    "name": "ipython",
    "version": 3
   },
   "file_extension": ".py",
   "mimetype": "text/x-python",
   "name": "python",
   "nbconvert_exporter": "python",
   "pygments_lexer": "ipython3",
   "version": "3.5.3"
  }
 },
 "nbformat": 4,
 "nbformat_minor": 0
}
