{
 "cells": [
  {
   "cell_type": "markdown",
   "metadata": {},
   "source": [
    "This notebook works with the Taxonomic Information Registry. It picks up scientific names (currently only looking for those submitted by the SGCN process), queries the ITIS Solr service for matches, and caches a few specific properties in a key/value store."
   ]
  },
  {
   "cell_type": "code",
   "execution_count": 15,
   "metadata": {
    "collapsed": true
   },
   "outputs": [],
   "source": [
    "import requests,configparser,re\n",
    "from IPython.display import display"
   ]
  },
  {
   "cell_type": "code",
   "execution_count": 5,
   "metadata": {
    "collapsed": true
   },
   "outputs": [],
   "source": [
    "# Get API keys and any other config details from a file that is external to the code.\n",
    "config = configparser.RawConfigParser()\n",
    "config.read_file(open(r'../config/stuff.py'))"
   ]
  },
  {
   "cell_type": "code",
   "execution_count": 6,
   "metadata": {
    "collapsed": true
   },
   "outputs": [],
   "source": [
    "# Build base URL with API key using input from the external config.\n",
    "def getBaseURL():\n",
    "    gc2APIKey = config.get('apiKeys','apiKey_GC2_BCB').replace('\"','')\n",
    "    apiBaseURL = \"https://gc2.mapcentia.com/api/v1/sql/bcb?key=\"+gc2APIKey\n",
    "    return apiBaseURL"
   ]
  },
  {
   "cell_type": "markdown",
   "metadata": {},
   "source": [
    "### Clean the scientific name string for use in searches\n",
    "This is one of the more tricky areas of the process. People encode a lot of different signals into scientific names. If we clean too much out of the name string, we run the risk of not finding the taxon that they intended to provide. If we clean up too little, we won't find anything with the search. So far, for the SGCN case, we've decided to do the following in this code block for the purposes of finding the taxon in ITIS:\n",
    "\n",
    "* Ignore population designations\n",
    "* Ignore strings after an \"spp.\" designation\n",
    "* Set case for what appear to be species name strings to uppercase genus but lowercase everything else\n",
    "* Ignore text in between parentheses and brackets; these are often synonyms or alternate names that should be picked up from the ITIS record if we find a match\n",
    "\n",
    "One thing that I deliberately did not do here was change cases where the name string includes signals like \"sp.\" or \"sp. 4\". Those are seeming to indicate that the genus is known but species is not yet determined. Rather than strip this text and run the query, potentially resulting in a genus match, I opted to leave those strings in place, likely resulting in no match with ITIS. We may end up making a different design decision for the SGCN case and allow for matching to genus. "
   ]
  },
  {
   "cell_type": "code",
   "execution_count": 16,
   "metadata": {
    "collapsed": true
   },
   "outputs": [],
   "source": [
    "# There are a few things that we've found in the name strings that, if removed or modified, will result in a valid taxon name string for the ITIS service\n",
    "def cleanScientificName(scientificname):\n",
    "    # Get rid of \"pop.\" from the string to enable the search to find a match without whatever population indicator is in the string\n",
    "    if scientificname.find(\"pop.\"):\n",
    "        nameParts = scientificname.split()\n",
    "        regex = re.compile(r'pop\\.[0-9]')\n",
    "        scientificname = ' '.join([i for i in nameParts if not regex.search(i)])\n",
    "\n",
    "    # Get rid of \"spp.\" from the string, and it should find a genus match\n",
    "    if scientificname.find(\"spp.\"):\n",
    "        nameParts = scientificname.split()\n",
    "        regex = re.compile(r'spp\\.')\n",
    "        scientificname = ' '.join([i for i in nameParts if not regex.search(i)])\n",
    "    \n",
    "    # Clean up all upper case strings because the ITIS service doesn't like them\n",
    "    if any(x.isupper() for x in scientificname[-(len(scientificname)-1):]):\n",
    "        scientificname = scientificname.lower().capitalize()\n",
    "    \n",
    "    # Get rid of text in parens and brackets; this is a design decision to potentially do away with information that might be important, but it gets retained in the original records\n",
    "    scientificname = re.sub(\"[\\(\\[].*?[\\)\\]]\", \"\", scientificname)\n",
    "    scientificname = scientificname.replace(\"  \",\" \")\n",
    "\n",
    "    return scientificname"
   ]
  },
  {
   "cell_type": "code",
   "execution_count": 23,
   "metadata": {
    "collapsed": true
   },
   "outputs": [],
   "source": [
    "def getITISSearchURL(scientificname):\n",
    "    # Default to using name without indicator as the search term\n",
    "    itisTerm = \"nameWOInd\"\n",
    "    \n",
    "    # \"var.\" and \"ssp.\" indicate that the string has population and variation indicators and should use the WInd service\n",
    "    if scientificname.find(\"var.\") > 0 or scientificname.find(\"ssp.\") > 0:\n",
    "        itisTerm = \"nameWInd\"\n",
    "    \n",
    "    # Put the search term together with the scientific name value including the weird escape character sequence that ITIS wants\n",
    "    return \"http://services.itis.gov/?wt=json&rows=10&q=\"+itisTerm+\":\"+scientificname.replace(\" \",\"\\%20\")"
   ]
  },
  {
   "cell_type": "markdown",
   "metadata": {},
   "source": [
    "### Package up the specific attributes we want to cache from ITIS\n",
    "This function takes the data coming from the ITIS service as JSON and pairs up the attributes and values we want to cache and use. The date/time stamp here for when the information is cached is vital metadata for determining usability. As soon as the information comes out of ITIS, it is potentially stale. The information we collect and use from ITIS through this process includes the following:\n",
    "* Discovered and accepted TSNs for the taxon\n",
    "* Taxonomic rank of the discovered taxon\n",
    "* Names with and without indicators for the discovered taxon\n",
    "* Taxonomic hierarchy with ranks (in the ITIS Solr service, this is always the accepted taxonomic hierarchy)\n",
    "* Vernacular names for the discovered taxon"
   ]
  },
  {
   "cell_type": "code",
   "execution_count": 44,
   "metadata": {
    "collapsed": true
   },
   "outputs": [],
   "source": [
    "def packageITISPairs(matchMethod,itisJSON):\n",
    "    import datetime\n",
    "    dt = datetime.datetime.utcnow().isoformat()\n",
    "    itisPairs = '\"cacheDate\"=>\"'+dt+'\"'\n",
    "    itisPairs = itisPairs+',\"itisMatchMethod\"=>\"'+matchMethod+'\"'\n",
    "\n",
    "    if type(itisJSON) is int:\n",
    "        return itisPairs\n",
    "    else:\n",
    "        itisPairs = itisPairs+',\"createDate\"=>\"'+itisJSON['response']['docs'][0]['createDate']+'\"'\n",
    "        itisPairs = itisPairs+',\"updateDate\"=>\"'+itisJSON['response']['docs'][0]['updateDate']+'\"'\n",
    "        itisPairs = itisPairs+',\"discoveredTSN\"=>\"'+itisJSON['response']['docs'][0]['tsn']+'\"'\n",
    "        itisPairs = itisPairs+',\"rank\"=>\"'+itisJSON['response']['docs'][0]['rank']+'\"'\n",
    "        itisPairs = itisPairs+',\"nameWInd\"=>\"'+itisJSON['response']['docs'][0]['nameWInd']+'\"'\n",
    "        itisPairs = itisPairs+',\"nameWOInd\"=>\"'+itisJSON['response']['docs'][0]['nameWOInd']+'\"'\n",
    "\n",
    "        if 'acceptedTSN' in itisJSON['response']['docs'][0]:\n",
    "            itisPairs = itisPairs+',\"acceptedTSN\"=>\"'+''.join(str(e) for e in itisJSON['response']['docs'][0]['acceptedTSN'])+'\"'\n",
    "\n",
    "        hierarchy = itisJSON['response']['docs'][0]['hierarchySoFarWRanks'][0]\n",
    "        hierarchy = hierarchy[hierarchy.find(':$')+2:-1]\n",
    "        hierarchy = '\"'+hierarchy.replace(':', '\"=>\"').replace('$', '\",\"')+'\"'\n",
    "        itisPairs = itisPairs+','+hierarchy\n",
    "\n",
    "        if \"vernacular\" in itisJSON['response']['docs'][0]:\n",
    "            vernacularList = []\n",
    "            for commonName in itisJSON['response']['docs'][0]['vernacular']:\n",
    "                commonNameElements = commonName.split('$')\n",
    "                vernacularList.append('\"vernacular:'+commonNameElements[2]+'\"=>\"'+commonNameElements[1]+'\"')\n",
    "            strVernacularList = ''.join(vernacularList).replace(\"\\'\", \"''\").replace('\"\"','\",\"')\n",
    "            itisPairs = itisPairs+','+strVernacularList\n",
    "\n",
    "        return itisPairs"
   ]
  },
  {
   "cell_type": "code",
   "execution_count": 45,
   "metadata": {
    "collapsed": true
   },
   "outputs": [],
   "source": [
    "# Basic function to insert subject ID, property, and value into tircache\n",
    "def cacheToTIR(gid,infotype,pairs):\n",
    "    import requests\n",
    "    updateQ = \"UPDATE tir.tir2 SET \"+infotype+\" = '\"+pairs+\"' WHERE gid = \"+str(gid)\n",
    "    r = requests.get(getBaseURL()+\"&q=\"+updateQ).json()\n",
    "    return r"
   ]
  },
  {
   "cell_type": "code",
   "execution_count": 46,
   "metadata": {
    "collapsed": false
   },
   "outputs": [],
   "source": [
    "# Query for the registered names we want to run through the system\n",
    "uniqueNames  = requests.get(getBaseURL()+\"&q=SELECT gid,registration->'SGCN_ScientificName_Submitted' AS scientificname FROM tir.tir2 WHERE itis IS NULL LIMIT 100\").json()"
   ]
  },
  {
   "cell_type": "markdown",
   "metadata": {},
   "source": [
    "### Run the process for all supplied names\n",
    "This is the process that should eventually be the substance of a microservice on name matching. I set this up to create a local data structure (dictionary) for each record. The main point here is to set up the search, execute the search and package ITIS results, and then submit those for the record back to the Taxonomic Information Registry.\n",
    "\n",
    "One of the major things we still need to work out here is what to do with updates over time. This script puts some record into the ITIS pairs whether we find a match or not. The query that gets names to run from the registration property looks for cases where the ITIS information is null (mostly because I needed to pick up where I left off when I found a few remaining issues that failed the script). We can then use cases where the \"matchMethod\" is \"NotMatched\" to go back and see if we can find name matches. This is particularly going to be the case where we find more than one match on a fuzzy search, which I still haven't dealt with.\n",
    "\n",
    "We also need to figure out what to do when we want to update the information over time. With ITIS, once we have a matched TSN, we can then use that TSN to grab updates as they occur, including changes in taxonomy. But we need to figure out if we should change the structure of the TIR cache to keep all the old versions of what we found over time so that it can always be referred back to."
   ]
  },
  {
   "cell_type": "code",
   "execution_count": 48,
   "metadata": {
    "collapsed": false
   },
   "outputs": [
    {
     "data": {
      "text/plain": [
       "{'gid': 21,\n",
       " 'itisFoundFromExact': 1,\n",
       " 'itisFoundFromFuzzy': 0,\n",
       " 'itisPairs': '\"cacheDate\"=>\"2017-05-06T15:54:05.316282\",\"itisMatchMethod\"=>\"ExactMatch:Abagrotis brunneipennis\",\"createDate\"=>\"2008-12-05 14:44:10\",\"updateDate\"=>\"2014-05-28 00:00:00\",\"discoveredTSN\"=>\"771341\",\"rank\"=>\"Species\",\"nameWInd\"=>\"Abagrotis brunneipennis\",\"nameWOInd\"=>\"Abagrotis brunneipennis\",\"Kingdom\"=>\"Animalia\",\"Subkingdom\"=>\"Bilateria\",\"Infrakingdom\"=>\"Protostomia\",\"Superphylum\"=>\"Ecdysozoa\",\"Phylum\"=>\"Arthropoda\",\"Subphylum\"=>\"Hexapoda\",\"Class\"=>\"Insecta\",\"Subclass\"=>\"Pterygota\",\"Infraclass\"=>\"Neoptera\",\"Superorder\"=>\"Holometabola\",\"Order\"=>\"Lepidoptera\",\"Superfamily\"=>\"Noctuoidea\",\"Family\"=>\"Noctuidae\",\"Subfamily\"=>\"Noctuinae\",\"Tribe\"=>\"Noctuini\",\"Subtribe\"=>\"Noctuina\",\"Genus\"=>\"Abagrotis\",\"Species\"=>\"Abagrotis brunneipennis\"',\n",
       " 'itisSearchURL': 'http://services.itis.gov/?wt=json&rows=10&q=nameWOInd:Abagrotis\\\\%20brunneipennis',\n",
       " 'matchMethod': 'ExactMatch:Abagrotis brunneipennis',\n",
       " 'scientificname_search': 'Abagrotis brunneipennis',\n",
       " 'scientificname_submitted': 'Abagrotis brunneipennis'}"
      ]
     },
     "metadata": {},
     "output_type": "display_data"
    },
    {
     "name": "stdout",
     "output_type": "stream",
     "text": [
      "{'success': True, 'auth_check': {'success': True, 'auth_level': None, 'session': None}, '_execution_time': 0.071, 'affected_rows': 1}\n"
     ]
    },
    {
     "data": {
      "text/plain": [
       "{'gid': 2286,\n",
       " 'itisFoundFromExact': 1,\n",
       " 'itisFoundFromFuzzy': 0,\n",
       " 'itisPairs': '\"cacheDate\"=>\"2017-05-06T15:54:06.132705\",\"itisMatchMethod\"=>\"ExactMatch:Holospira sherbrookei\",\"createDate\"=>\"2000-03-31 10:19:42\",\"updateDate\"=>\"2001-10-17 00:00:00\",\"discoveredTSN\"=>\"567703\",\"rank\"=>\"Species\",\"nameWInd\"=>\"Holospira sherbrookei\",\"nameWOInd\"=>\"Holospira sherbrookei\",\"Kingdom\"=>\"Animalia\",\"Subkingdom\"=>\"Bilateria\",\"Infrakingdom\"=>\"Protostomia\",\"Superphylum\"=>\"Lophozoa\",\"Phylum\"=>\"Mollusca\",\"Class\"=>\"Gastropoda\",\"Order\"=>\"Stylommatophora\",\"Family\"=>\"Urocoptidae\",\"Genus\"=>\"Holospira\",\"Species\"=>\"Holospira sherbrookei\",\"vernacular:English\"=>\"Silver Creek holospira\"',\n",
       " 'itisSearchURL': 'http://services.itis.gov/?wt=json&rows=10&q=nameWOInd:Holospira\\\\%20sherbrookei',\n",
       " 'matchMethod': 'ExactMatch:Holospira sherbrookei',\n",
       " 'scientificname_search': 'Holospira sherbrookei',\n",
       " 'scientificname_submitted': 'Holospira sherbrookei'}"
      ]
     },
     "metadata": {},
     "output_type": "display_data"
    },
    {
     "name": "stdout",
     "output_type": "stream",
     "text": [
      "{'success': True, 'auth_check': {'success': True, 'auth_level': None, 'session': None}, '_execution_time': 0.068, 'affected_rows': 1}\n"
     ]
    },
    {
     "data": {
      "text/plain": [
       "{'gid': 11729,\n",
       " 'itisFoundFromExact': 0,\n",
       " 'itisFoundFromFuzzy': 1,\n",
       " 'itisPairs': '\"cacheDate\"=>\"2017-05-06T15:54:07.071556\",\"itisMatchMethod\"=>\"FuzzyMatch:Lithobimorpha\",\"createDate\"=>\"1998-05-14 13:57:58\",\"updateDate\"=>\"2013-07-25 00:00:00\",\"discoveredTSN\"=>\"553110\",\"rank\"=>\"Order\",\"nameWInd\"=>\"Lithobiomorpha\",\"nameWOInd\"=>\"Lithobiomorpha\",\"Kingdom\"=>\"Animalia\",\"Subkingdom\"=>\"Bilateria\",\"Infrakingdom\"=>\"Protostomia\",\"Superphylum\"=>\"Ecdysozoa\",\"Phylum\"=>\"Arthropoda\",\"Subphylum\"=>\"Myriapoda\",\"Class\"=>\"Chilopoda\",\"Subclass\"=>\"Pleurostigmophora\",\"Order\"=>\"Lithobiomorpha\"',\n",
       " 'itisSearchURL': 'http://services.itis.gov/?wt=json&rows=10&q=nameWOInd:Lithobimorpha',\n",
       " 'matchMethod': 'FuzzyMatch:Lithobimorpha',\n",
       " 'scientificname_search': 'Lithobimorpha',\n",
       " 'scientificname_submitted': 'Lithobimorpha'}"
      ]
     },
     "metadata": {},
     "output_type": "display_data"
    },
    {
     "name": "stdout",
     "output_type": "stream",
     "text": [
      "{'success': True, 'auth_check': {'success': True, 'auth_level': None, 'session': None}, '_execution_time': 0.068, 'affected_rows': 1}\n"
     ]
    },
    {
     "data": {
      "text/plain": [
       "{'gid': 7010,\n",
       " 'itisFoundFromExact': 1,\n",
       " 'itisFoundFromFuzzy': 0,\n",
       " 'itisPairs': '\"cacheDate\"=>\"2017-05-06T15:54:07.879465\",\"itisMatchMethod\"=>\"ExactMatch:Mimulus dentilobus\",\"createDate\"=>\"1996-06-13 14:51:08\",\"updateDate\"=>\"2011-09-22 00:00:00\",\"discoveredTSN\"=>\"33306\",\"rank\"=>\"Species\",\"nameWInd\"=>\"Mimulus dentilobus\",\"nameWOInd\"=>\"Mimulus dentilobus\",\"Kingdom\"=>\"Plantae\",\"Subkingdom\"=>\"Viridiplantae\",\"Infrakingdom\"=>\"Streptophyta\",\"Superdivision\"=>\"Embryophyta\",\"Division\"=>\"Tracheophyta\",\"Subdivision\"=>\"Spermatophytina\",\"Class\"=>\"Magnoliopsida\",\"Superorder\"=>\"Asteranae\",\"Order\"=>\"Lamiales\",\"Family\"=>\"Phrymaceae\",\"Genus\"=>\"Mimulus\",\"Species\"=>\"Mimulus dentilobus\",\"vernacular:unspecified\"=>\"sharpwing monkeyflower\",\"vernacular:unspecified\"=>\"tooth-petal monkey-flower\",\"vernacular:English\"=>\"toothpetal monkeyflower\"',\n",
       " 'itisSearchURL': 'http://services.itis.gov/?wt=json&rows=10&q=nameWOInd:Mimulus\\\\%20dentilobus',\n",
       " 'matchMethod': 'ExactMatch:Mimulus dentilobus',\n",
       " 'scientificname_search': 'Mimulus dentilobus',\n",
       " 'scientificname_submitted': 'Mimulus dentilobus'}"
      ]
     },
     "metadata": {},
     "output_type": "display_data"
    },
    {
     "name": "stdout",
     "output_type": "stream",
     "text": [
      "{'success': True, 'auth_check': {'success': True, 'auth_level': None, 'session': None}, '_execution_time': 0.068, 'affected_rows': 1}\n"
     ]
    },
    {
     "data": {
      "text/plain": [
       "{'gid': 69,\n",
       " 'itisFoundFromExact': 0,\n",
       " 'itisFoundFromFuzzy': 0,\n",
       " 'itisPairs': '\"cacheDate\"=>\"2017-05-06T15:54:08.828545\",\"itisMatchMethod\"=>\"NotMatched:Actinopyga mauritiana\"',\n",
       " 'itisSearchURL': 'http://services.itis.gov/?wt=json&rows=10&q=nameWOInd:Actinopyga\\\\%20mauritiana',\n",
       " 'matchMethod': 'NotMatched:Actinopyga mauritiana',\n",
       " 'scientificname_search': 'Actinopyga mauritiana',\n",
       " 'scientificname_submitted': 'Actinopyga mauritiana'}"
      ]
     },
     "metadata": {},
     "output_type": "display_data"
    },
    {
     "name": "stdout",
     "output_type": "stream",
     "text": [
      "{'success': True, 'auth_check': {'success': True, 'auth_level': None, 'session': None}, '_execution_time': 0.076, 'affected_rows': 1}\n"
     ]
    },
    {
     "data": {
      "text/plain": [
       "{'gid': 22,\n",
       " 'itisFoundFromExact': 1,\n",
       " 'itisFoundFromFuzzy': 0,\n",
       " 'itisPairs': '\"cacheDate\"=>\"2017-05-06T15:54:09.665344\",\"itisMatchMethod\"=>\"ExactMatch:Abagrotis nefascia\",\"createDate\"=>\"2008-12-05 14:44:10\",\"updateDate\"=>\"2014-05-28 00:00:00\",\"discoveredTSN\"=>\"771359\",\"rank\"=>\"Species\",\"nameWInd\"=>\"Abagrotis nefascia\",\"nameWOInd\"=>\"Abagrotis nefascia\",\"Kingdom\"=>\"Animalia\",\"Subkingdom\"=>\"Bilateria\",\"Infrakingdom\"=>\"Protostomia\",\"Superphylum\"=>\"Ecdysozoa\",\"Phylum\"=>\"Arthropoda\",\"Subphylum\"=>\"Hexapoda\",\"Class\"=>\"Insecta\",\"Subclass\"=>\"Pterygota\",\"Infraclass\"=>\"Neoptera\",\"Superorder\"=>\"Holometabola\",\"Order\"=>\"Lepidoptera\",\"Superfamily\"=>\"Noctuoidea\",\"Family\"=>\"Noctuidae\",\"Subfamily\"=>\"Noctuinae\",\"Tribe\"=>\"Noctuini\",\"Subtribe\"=>\"Noctuina\",\"Genus\"=>\"Abagrotis\",\"Species\"=>\"Abagrotis nefascia\",\"vernacular:English\"=>\"Coastal Heathland Cutworm\"',\n",
       " 'itisSearchURL': 'http://services.itis.gov/?wt=json&rows=10&q=nameWOInd:Abagrotis\\\\%20nefascia',\n",
       " 'matchMethod': 'ExactMatch:Abagrotis nefascia',\n",
       " 'scientificname_search': 'Abagrotis nefascia',\n",
       " 'scientificname_submitted': 'Abagrotis nefascia'}"
      ]
     },
     "metadata": {},
     "output_type": "display_data"
    },
    {
     "name": "stdout",
     "output_type": "stream",
     "text": [
      "{'success': True, 'auth_check': {'success': True, 'auth_level': None, 'session': None}, '_execution_time': 0.068, 'affected_rows': 1}\n"
     ]
    },
    {
     "data": {
      "text/plain": [
       "{'gid': 59,\n",
       " 'itisFoundFromExact': 1,\n",
       " 'itisFoundFromFuzzy': 0,\n",
       " 'itisPairs': '\"cacheDate\"=>\"2017-05-06T15:54:10.494607\",\"itisMatchMethod\"=>\"ExactMatch:Acroneuria arenosa\",\"createDate\"=>\"1996-06-13 14:51:08\",\"updateDate\"=>\"2002-02-08 00:00:00\",\"discoveredTSN\"=>\"102920\",\"rank\"=>\"Species\",\"nameWInd\"=>\"Acroneuria arenosa\",\"nameWOInd\"=>\"Acroneuria arenosa\",\"Kingdom\"=>\"Animalia\",\"Subkingdom\"=>\"Bilateria\",\"Infrakingdom\"=>\"Protostomia\",\"Superphylum\"=>\"Ecdysozoa\",\"Phylum\"=>\"Arthropoda\",\"Subphylum\"=>\"Hexapoda\",\"Class\"=>\"Insecta\",\"Subclass\"=>\"Pterygota\",\"Infraclass\"=>\"Neoptera\",\"Superorder\"=>\"Polyneoptera\",\"Order\"=>\"Plecoptera\",\"Suborder\"=>\"Systellognatha\",\"Family\"=>\"Perlidae\",\"Subfamily\"=>\"Acroneuriinae\",\"Tribe\"=>\"Acroneuriini\",\"Genus\"=>\"Acroneuria\",\"Species\"=>\"Acroneuria arenosa\"',\n",
       " 'itisSearchURL': 'http://services.itis.gov/?wt=json&rows=10&q=nameWOInd:Acroneuria\\\\%20arenosa',\n",
       " 'matchMethod': 'ExactMatch:Acroneuria arenosa',\n",
       " 'scientificname_search': 'Acroneuria arenosa',\n",
       " 'scientificname_submitted': 'Acroneuria arenosa'}"
      ]
     },
     "metadata": {},
     "output_type": "display_data"
    },
    {
     "name": "stdout",
     "output_type": "stream",
     "text": [
      "{'success': True, 'auth_check': {'success': True, 'auth_level': None, 'session': None}, '_execution_time': 0.061, 'affected_rows': 1}\n"
     ]
    },
    {
     "data": {
      "text/plain": [
       "{'gid': 75,\n",
       " 'itisFoundFromExact': 1,\n",
       " 'itisFoundFromFuzzy': 0,\n",
       " 'itisPairs': '\"cacheDate\"=>\"2017-05-06T15:54:11.352188\",\"itisMatchMethod\"=>\"ExactMatch:Adinia xenica\",\"createDate\"=>\"1996-06-13 14:51:08\",\"updateDate\"=>\"2004-09-27 00:00:00\",\"discoveredTSN\"=>\"165682\",\"rank\"=>\"Species\",\"nameWInd\"=>\"Adinia xenica\",\"nameWOInd\"=>\"Adinia xenica\",\"Kingdom\"=>\"Animalia\",\"Subkingdom\"=>\"Bilateria\",\"Infrakingdom\"=>\"Deuterostomia\",\"Phylum\"=>\"Chordata\",\"Subphylum\"=>\"Vertebrata\",\"Infraphylum\"=>\"Gnathostomata\",\"Superclass\"=>\"Actinopterygii\",\"Class\"=>\"Teleostei\",\"Superorder\"=>\"Acanthopterygii\",\"Order\"=>\"Cyprinodontiformes\",\"Suborder\"=>\"Cyprinodontoidei\",\"Family\"=>\"Fundulidae\",\"Genus\"=>\"Adinia\",\"Species\"=>\"Adinia xenica\",\"vernacular:English\"=>\"diamond killifish\"',\n",
       " 'itisSearchURL': 'http://services.itis.gov/?wt=json&rows=10&q=nameWOInd:Adinia\\\\%20xenica',\n",
       " 'matchMethod': 'ExactMatch:Adinia xenica',\n",
       " 'scientificname_search': 'Adinia xenica',\n",
       " 'scientificname_submitted': 'Adinia xenica'}"
      ]
     },
     "metadata": {},
     "output_type": "display_data"
    },
    {
     "name": "stdout",
     "output_type": "stream",
     "text": [
      "{'success': True, 'auth_check': {'success': True, 'auth_level': None, 'session': None}, '_execution_time': 0.06, 'affected_rows': 1}\n"
     ]
    },
    {
     "data": {
      "text/plain": [
       "{'gid': 80,\n",
       " 'itisFoundFromExact': 1,\n",
       " 'itisFoundFromFuzzy': 0,\n",
       " 'itisPairs': '\"cacheDate\"=>\"2017-05-06T15:54:12.160828\",\"itisMatchMethod\"=>\"ExactMatch:Aegolius funereus\",\"createDate\"=>\"1996-06-13 14:51:08\",\"updateDate\"=>\"2005-09-28 00:00:00\",\"discoveredTSN\"=>\"177938\",\"rank\"=>\"Species\",\"nameWInd\"=>\"Aegolius funereus\",\"nameWOInd\"=>\"Aegolius funereus\",\"Kingdom\"=>\"Animalia\",\"Subkingdom\"=>\"Bilateria\",\"Infrakingdom\"=>\"Deuterostomia\",\"Phylum\"=>\"Chordata\",\"Subphylum\"=>\"Vertebrata\",\"Infraphylum\"=>\"Gnathostomata\",\"Superclass\"=>\"Tetrapoda\",\"Class\"=>\"Aves\",\"Order\"=>\"Strigiformes\",\"Family\"=>\"Strigidae\",\"Subfamily\"=>\"Surniinae\",\"Genus\"=>\"Aegolius\",\"Species\"=>\"Aegolius funereus\",\"vernacular:English\"=>\"Boreal Owl\",\"vernacular:French\"=>\"nyctale de Tengmalm\"',\n",
       " 'itisSearchURL': 'http://services.itis.gov/?wt=json&rows=10&q=nameWOInd:Aegolius\\\\%20funereus',\n",
       " 'matchMethod': 'ExactMatch:Aegolius funereus',\n",
       " 'scientificname_search': 'Aegolius funereus',\n",
       " 'scientificname_submitted': 'Aegolius funereus'}"
      ]
     },
     "metadata": {},
     "output_type": "display_data"
    },
    {
     "name": "stdout",
     "output_type": "stream",
     "text": [
      "{'success': True, 'auth_check': {'success': True, 'auth_level': None, 'session': None}, '_execution_time': 0.061, 'affected_rows': 1}\n"
     ]
    },
    {
     "data": {
      "text/plain": [
       "{'gid': 2288,\n",
       " 'itisFoundFromExact': 1,\n",
       " 'itisFoundFromFuzzy': 0,\n",
       " 'itisPairs': '\"cacheDate\"=>\"2017-05-06T15:54:12.992524\",\"itisMatchMethod\"=>\"ExactMatch:Holospira whetstonensis\",\"createDate\"=>\"1996-06-13 14:51:08\",\"updateDate\"=>\"2001-10-17 00:00:00\",\"discoveredTSN\"=>\"77051\",\"rank\"=>\"Species\",\"nameWInd\"=>\"Holospira whetstonensis\",\"nameWOInd\"=>\"Holospira whetstonensis\",\"Kingdom\"=>\"Animalia\",\"Subkingdom\"=>\"Bilateria\",\"Infrakingdom\"=>\"Protostomia\",\"Superphylum\"=>\"Lophozoa\",\"Phylum\"=>\"Mollusca\",\"Class\"=>\"Gastropoda\",\"Order\"=>\"Stylommatophora\",\"Family\"=>\"Urocoptidae\",\"Genus\"=>\"Holospira\",\"Species\"=>\"Holospira whetstonensis\",\"vernacular:English\"=>\"Whetstone holospira\"',\n",
       " 'itisSearchURL': 'http://services.itis.gov/?wt=json&rows=10&q=nameWOInd:Holospira\\\\%20whetstonensis',\n",
       " 'matchMethod': 'ExactMatch:Holospira whetstonensis',\n",
       " 'scientificname_search': 'Holospira whetstonensis',\n",
       " 'scientificname_submitted': 'Holospira whetstonensis'}"
      ]
     },
     "metadata": {},
     "output_type": "display_data"
    },
    {
     "name": "stdout",
     "output_type": "stream",
     "text": [
      "{'success': True, 'auth_check': {'success': True, 'auth_level': None, 'session': None}, '_execution_time': 0.064, 'affected_rows': 1}\n"
     ]
    },
    {
     "data": {
      "text/plain": [
       "{'gid': 23,\n",
       " 'itisFoundFromExact': 1,\n",
       " 'itisFoundFromFuzzy': 0,\n",
       " 'itisPairs': '\"cacheDate\"=>\"2017-05-06T15:54:13.869704\",\"itisMatchMethod\"=>\"ExactMatch:Abudefduf saxatilis\",\"createDate\"=>\"1996-06-13 14:51:08\",\"updateDate\"=>\"2004-09-27 00:00:00\",\"discoveredTSN\"=>\"170046\",\"rank\"=>\"Species\",\"nameWInd\"=>\"Abudefduf saxatilis\",\"nameWOInd\"=>\"Abudefduf saxatilis\",\"Kingdom\"=>\"Animalia\",\"Subkingdom\"=>\"Bilateria\",\"Infrakingdom\"=>\"Deuterostomia\",\"Phylum\"=>\"Chordata\",\"Subphylum\"=>\"Vertebrata\",\"Infraphylum\"=>\"Gnathostomata\",\"Superclass\"=>\"Actinopterygii\",\"Class\"=>\"Teleostei\",\"Superorder\"=>\"Acanthopterygii\",\"Order\"=>\"Perciformes\",\"Suborder\"=>\"Labroidei\",\"Family\"=>\"Pomacentridae\",\"Genus\"=>\"Abudefduf\",\"Species\"=>\"Abudefduf saxatilis\",\"vernacular:English\"=>\"sergeant major\",\"vernacular:Spanish\"=>\"píntano\",\"vernacular:Spanish\"=>\"petaca rayada\"',\n",
       " 'itisSearchURL': 'http://services.itis.gov/?wt=json&rows=10&q=nameWOInd:Abudefduf\\\\%20saxatilis',\n",
       " 'matchMethod': 'ExactMatch:Abudefduf saxatilis',\n",
       " 'scientificname_search': 'Abudefduf saxatilis',\n",
       " 'scientificname_submitted': 'Abudefduf saxatilis'}"
      ]
     },
     "metadata": {},
     "output_type": "display_data"
    },
    {
     "name": "stdout",
     "output_type": "stream",
     "text": [
      "{'success': True, 'auth_check': {'success': True, 'auth_level': None, 'session': None}, '_execution_time': 0.07, 'affected_rows': 1}\n"
     ]
    },
    {
     "data": {
      "text/plain": [
       "{'gid': 2289,\n",
       " 'itisFoundFromExact': 1,\n",
       " 'itisFoundFromFuzzy': 0,\n",
       " 'itisPairs': '\"cacheDate\"=>\"2017-05-06T15:54:14.709269\",\"itisMatchMethod\"=>\"ExactMatch:Holothuria floridana\",\"createDate\"=>\"1996-06-13 14:51:08\",\"updateDate\"=>\"1996-06-24 00:00:00\",\"discoveredTSN\"=>\"158323\",\"rank\"=>\"Species\",\"nameWInd\"=>\"Holothuria floridana\",\"nameWOInd\"=>\"Holothuria floridana\",\"Kingdom\"=>\"Animalia\",\"Subkingdom\"=>\"Bilateria\",\"Infrakingdom\"=>\"Deuterostomia\",\"Phylum\"=>\"Echinodermata\",\"Subphylum\"=>\"Echinozoa\",\"Class\"=>\"Holothuroidea\",\"Subclass\"=>\"Aspidochirotacea\",\"Order\"=>\"Aspidochirotida\",\"Family\"=>\"Holothuriidae\",\"Genus\"=>\"Holothuria\",\"Species\"=>\"Holothuria floridana\",\"vernacular:unspecified\"=>\"florida sea cucumber\"',\n",
       " 'itisSearchURL': 'http://services.itis.gov/?wt=json&rows=10&q=nameWOInd:Holothuria\\\\%20floridana',\n",
       " 'matchMethod': 'ExactMatch:Holothuria floridana',\n",
       " 'scientificname_search': 'Holothuria floridana',\n",
       " 'scientificname_submitted': 'Holothuria floridana'}"
      ]
     },
     "metadata": {},
     "output_type": "display_data"
    },
    {
     "name": "stdout",
     "output_type": "stream",
     "text": [
      "{'success': True, 'auth_check': {'success': True, 'auth_level': None, 'session': None}, '_execution_time': 0.068, 'affected_rows': 1}\n"
     ]
    },
    {
     "data": {
      "text/plain": [
       "{'gid': 15289,\n",
       " 'itisFoundFromExact': 1,\n",
       " 'itisFoundFromFuzzy': 0,\n",
       " 'itisPairs': '\"cacheDate\"=>\"2017-05-06T15:54:15.540635\",\"itisMatchMethod\"=>\"ExactMatch:Aligena elevata\",\"createDate\"=>\"1996-06-13 14:51:08\",\"updateDate\"=>\"2001-10-17 00:00:00\",\"discoveredTSN\"=>\"80685\",\"rank\"=>\"Species\",\"nameWInd\"=>\"Aligena elevata\",\"nameWOInd\"=>\"Aligena elevata\",\"Kingdom\"=>\"Animalia\",\"Subkingdom\"=>\"Bilateria\",\"Infrakingdom\"=>\"Protostomia\",\"Superphylum\"=>\"Lophozoa\",\"Phylum\"=>\"Mollusca\",\"Class\"=>\"Bivalvia\",\"Subclass\"=>\"Heterodonta\",\"Order\"=>\"Veneroida\",\"Superfamily\"=>\"Galeommatoidea\",\"Family\"=>\"Lasaeidae\",\"Genus\"=>\"Aligena\",\"Species\"=>\"Aligena elevata\",\"vernacular:English\"=>\"eastern aligena\"',\n",
       " 'itisSearchURL': 'http://services.itis.gov/?wt=json&rows=10&q=nameWOInd:Aligena\\\\%20elevata',\n",
       " 'matchMethod': 'ExactMatch:Aligena elevata',\n",
       " 'scientificname_search': 'Aligena elevata',\n",
       " 'scientificname_submitted': 'Aligena elevata'}"
      ]
     },
     "metadata": {},
     "output_type": "display_data"
    },
    {
     "name": "stdout",
     "output_type": "stream",
     "text": [
      "{'success': True, 'auth_check': {'success': True, 'auth_level': None, 'session': None}, '_execution_time': 0.066, 'affected_rows': 1}\n"
     ]
    },
    {
     "data": {
      "text/plain": [
       "{'gid': 3653,\n",
       " 'itisFoundFromExact': 2,\n",
       " 'itisFoundFromFuzzy': 0,\n",
       " 'itisPairs': '\"cacheDate\"=>\"2017-05-06T15:54:16.408675\",\"itisMatchMethod\"=>\"NotMatched:Potamilus alatus\"',\n",
       " 'itisSearchURL': 'http://services.itis.gov/?wt=json&rows=10&q=nameWOInd:Potamilus\\\\%20alatus',\n",
       " 'matchMethod': 'NotMatched:Potamilus alatus',\n",
       " 'scientificname_search': 'Potamilus alatus',\n",
       " 'scientificname_submitted': 'Potamilus alatus'}"
      ]
     },
     "metadata": {},
     "output_type": "display_data"
    },
    {
     "name": "stdout",
     "output_type": "stream",
     "text": [
      "{'success': True, 'auth_check': {'success': True, 'auth_level': None, 'session': None}, '_execution_time': 0.061, 'affected_rows': 1}\n"
     ]
    },
    {
     "data": {
      "text/plain": [
       "{'gid': 24,\n",
       " 'itisFoundFromExact': 1,\n",
       " 'itisFoundFromFuzzy': 0,\n",
       " 'itisPairs': '\"cacheDate\"=>\"2017-05-06T15:54:17.249671\",\"itisMatchMethod\"=>\"ExactMatch:Abudefduf taurus\",\"createDate\"=>\"1996-06-13 14:51:08\",\"updateDate\"=>\"2004-09-27 00:00:00\",\"discoveredTSN\"=>\"170047\",\"rank\"=>\"Species\",\"nameWInd\"=>\"Abudefduf taurus\",\"nameWOInd\"=>\"Abudefduf taurus\",\"Kingdom\"=>\"Animalia\",\"Subkingdom\"=>\"Bilateria\",\"Infrakingdom\"=>\"Deuterostomia\",\"Phylum\"=>\"Chordata\",\"Subphylum\"=>\"Vertebrata\",\"Infraphylum\"=>\"Gnathostomata\",\"Superclass\"=>\"Actinopterygii\",\"Class\"=>\"Teleostei\",\"Superorder\"=>\"Acanthopterygii\",\"Order\"=>\"Perciformes\",\"Suborder\"=>\"Labroidei\",\"Family\"=>\"Pomacentridae\",\"Genus\"=>\"Abudefduf\",\"Species\"=>\"Abudefduf taurus\",\"vernacular:English\"=>\"night sergeant\",\"vernacular:Spanish\"=>\"píntano toro\",\"vernacular:Spanish\"=>\"petaca toro\"',\n",
       " 'itisSearchURL': 'http://services.itis.gov/?wt=json&rows=10&q=nameWOInd:Abudefduf\\\\%20taurus',\n",
       " 'matchMethod': 'ExactMatch:Abudefduf taurus',\n",
       " 'scientificname_search': 'Abudefduf taurus',\n",
       " 'scientificname_submitted': 'Abudefduf taurus'}"
      ]
     },
     "metadata": {},
     "output_type": "display_data"
    },
    {
     "name": "stdout",
     "output_type": "stream",
     "text": [
      "{'success': True, 'auth_check': {'success': True, 'auth_level': None, 'session': None}, '_execution_time': 0.071, 'affected_rows': 1}\n"
     ]
    },
    {
     "data": {
      "text/plain": [
       "{'gid': 2292,\n",
       " 'itisFoundFromExact': 1,\n",
       " 'itisFoundFromFuzzy': 0,\n",
       " 'itisPairs': '\"cacheDate\"=>\"2017-05-06T15:54:18.093640\",\"itisMatchMethod\"=>\"ExactMatch:Hottonia inflata\",\"createDate\"=>\"1996-06-13 14:51:08\",\"updateDate\"=>\"2011-12-08 00:00:00\",\"discoveredTSN\"=>\"24048\",\"rank\"=>\"Species\",\"nameWInd\"=>\"Hottonia inflata\",\"nameWOInd\"=>\"Hottonia inflata\",\"Kingdom\"=>\"Plantae\",\"Subkingdom\"=>\"Viridiplantae\",\"Infrakingdom\"=>\"Streptophyta\",\"Superdivision\"=>\"Embryophyta\",\"Division\"=>\"Tracheophyta\",\"Subdivision\"=>\"Spermatophytina\",\"Class\"=>\"Magnoliopsida\",\"Superorder\"=>\"Asteranae\",\"Order\"=>\"Ericales\",\"Family\"=>\"Primulaceae\",\"Genus\"=>\"Hottonia\",\"Species\"=>\"Hottonia inflata\",\"vernacular:English\"=>\"American featherfoil\"',\n",
       " 'itisSearchURL': 'http://services.itis.gov/?wt=json&rows=10&q=nameWOInd:Hottonia\\\\%20inflata',\n",
       " 'matchMethod': 'ExactMatch:Hottonia inflata',\n",
       " 'scientificname_search': 'Hottonia inflata',\n",
       " 'scientificname_submitted': 'Hottonia inflata'}"
      ]
     },
     "metadata": {},
     "output_type": "display_data"
    },
    {
     "name": "stdout",
     "output_type": "stream",
     "text": [
      "{'success': True, 'auth_check': {'success': True, 'auth_level': None, 'session': None}, '_execution_time': 0.07, 'affected_rows': 1}\n"
     ]
    },
    {
     "data": {
      "text/plain": [
       "{'gid': 29,\n",
       " 'itisFoundFromExact': 1,\n",
       " 'itisFoundFromFuzzy': 0,\n",
       " 'itisPairs': '\"cacheDate\"=>\"2017-05-06T15:54:18.939941\",\"itisMatchMethod\"=>\"ExactMatch:Acanthemblemaria aspera\",\"createDate\"=>\"1996-06-13 14:51:08\",\"updateDate\"=>\"2004-09-08 00:00:00\",\"discoveredTSN\"=>\"171450\",\"rank\"=>\"Species\",\"nameWInd\"=>\"Acanthemblemaria aspera\",\"nameWOInd\"=>\"Acanthemblemaria aspera\",\"Kingdom\"=>\"Animalia\",\"Subkingdom\"=>\"Bilateria\",\"Infrakingdom\"=>\"Deuterostomia\",\"Phylum\"=>\"Chordata\",\"Subphylum\"=>\"Vertebrata\",\"Infraphylum\"=>\"Gnathostomata\",\"Superclass\"=>\"Actinopterygii\",\"Class\"=>\"Teleostei\",\"Superorder\"=>\"Acanthopterygii\",\"Order\"=>\"Perciformes\",\"Suborder\"=>\"Blennioidei\",\"Family\"=>\"Chaenopsidae\",\"Genus\"=>\"Acanthemblemaria\",\"Species\"=>\"Acanthemblemaria aspera\",\"vernacular:English\"=>\"roughhead blenny\"',\n",
       " 'itisSearchURL': 'http://services.itis.gov/?wt=json&rows=10&q=nameWOInd:Acanthemblemaria\\\\%20aspera',\n",
       " 'matchMethod': 'ExactMatch:Acanthemblemaria aspera',\n",
       " 'scientificname_search': 'Acanthemblemaria aspera',\n",
       " 'scientificname_submitted': 'Acanthemblemaria aspera'}"
      ]
     },
     "metadata": {},
     "output_type": "display_data"
    },
    {
     "name": "stdout",
     "output_type": "stream",
     "text": [
      "{'success': True, 'auth_check': {'success': True, 'auth_level': None, 'session': None}, '_execution_time': 0.068, 'affected_rows': 1}\n"
     ]
    },
    {
     "data": {
      "text/plain": [
       "{'gid': 2293,\n",
       " 'itisFoundFromExact': 1,\n",
       " 'itisFoundFromFuzzy': 0,\n",
       " 'itisPairs': '\"cacheDate\"=>\"2017-05-06T15:54:19.767859\",\"itisMatchMethod\"=>\"ExactMatch:Houstonia longifolia\",\"createDate\"=>\"1996-06-13 14:51:08\",\"updateDate\"=>\"2012-02-27 00:00:00\",\"discoveredTSN\"=>\"35045\",\"rank\"=>\"Species\",\"nameWInd\"=>\"Houstonia longifolia\",\"nameWOInd\"=>\"Houstonia longifolia\",\"Kingdom\"=>\"Plantae\",\"Subkingdom\"=>\"Viridiplantae\",\"Infrakingdom\"=>\"Streptophyta\",\"Superdivision\"=>\"Embryophyta\",\"Division\"=>\"Tracheophyta\",\"Subdivision\"=>\"Spermatophytina\",\"Class\"=>\"Magnoliopsida\",\"Superorder\"=>\"Asteranae\",\"Order\"=>\"Gentianales\",\"Family\"=>\"Rubiaceae\",\"Genus\"=>\"Houstonia\",\"Species\"=>\"Houstonia longifolia\",\"vernacular:English\"=>\"longleaf bluet\",\"vernacular:French\"=>\"houstonie à longues feuilles\",\"vernacular:unspecified\"=>\"long-leaf summer bluet\",\"vernacular:English\"=>\"longleaf summer bluet\"',\n",
       " 'itisSearchURL': 'http://services.itis.gov/?wt=json&rows=10&q=nameWOInd:Houstonia\\\\%20longifolia',\n",
       " 'matchMethod': 'ExactMatch:Houstonia longifolia',\n",
       " 'scientificname_search': 'Houstonia longifolia',\n",
       " 'scientificname_submitted': 'Houstonia longifolia'}"
      ]
     },
     "metadata": {},
     "output_type": "display_data"
    },
    {
     "name": "stdout",
     "output_type": "stream",
     "text": [
      "{'success': True, 'auth_check': {'success': True, 'auth_level': None, 'session': None}, '_execution_time': 0.069, 'affected_rows': 1}\n"
     ]
    },
    {
     "data": {
      "text/plain": [
       "{'gid': 30,\n",
       " 'itisFoundFromExact': 1,\n",
       " 'itisFoundFromFuzzy': 0,\n",
       " 'itisPairs': '\"cacheDate\"=>\"2017-05-06T15:54:20.776929\",\"itisMatchMethod\"=>\"ExactMatch:Acanthemblemaria chaplini\",\"createDate\"=>\"1996-06-13 14:51:08\",\"updateDate\"=>\"2004-09-08 00:00:00\",\"discoveredTSN\"=>\"171452\",\"rank\"=>\"Species\",\"nameWInd\"=>\"Acanthemblemaria chaplini\",\"nameWOInd\"=>\"Acanthemblemaria chaplini\",\"Kingdom\"=>\"Animalia\",\"Subkingdom\"=>\"Bilateria\",\"Infrakingdom\"=>\"Deuterostomia\",\"Phylum\"=>\"Chordata\",\"Subphylum\"=>\"Vertebrata\",\"Infraphylum\"=>\"Gnathostomata\",\"Superclass\"=>\"Actinopterygii\",\"Class\"=>\"Teleostei\",\"Superorder\"=>\"Acanthopterygii\",\"Order\"=>\"Perciformes\",\"Suborder\"=>\"Blennioidei\",\"Family\"=>\"Chaenopsidae\",\"Genus\"=>\"Acanthemblemaria\",\"Species\"=>\"Acanthemblemaria chaplini\",\"vernacular:English\"=>\"papillose blenny\",\"vernacular:Spanish\"=>\"sapito papiloso\"',\n",
       " 'itisSearchURL': 'http://services.itis.gov/?wt=json&rows=10&q=nameWOInd:Acanthemblemaria\\\\%20chaplini',\n",
       " 'matchMethod': 'ExactMatch:Acanthemblemaria chaplini',\n",
       " 'scientificname_search': 'Acanthemblemaria chaplini',\n",
       " 'scientificname_submitted': 'Acanthemblemaria chaplini'}"
      ]
     },
     "metadata": {},
     "output_type": "display_data"
    },
    {
     "name": "stdout",
     "output_type": "stream",
     "text": [
      "{'success': True, 'auth_check': {'success': True, 'auth_level': None, 'session': None}, '_execution_time': 0.066, 'affected_rows': 1}\n"
     ]
    },
    {
     "data": {
      "text/plain": [
       "{'gid': 2295,\n",
       " 'itisFoundFromExact': 1,\n",
       " 'itisFoundFromFuzzy': 0,\n",
       " 'itisPairs': '\"cacheDate\"=>\"2017-05-06T15:54:21.687162\",\"itisMatchMethod\"=>\"ExactMatch:Houstonia pusilla\",\"createDate\"=>\"1996-06-13 14:51:08\",\"updateDate\"=>\"2012-02-27 00:00:00\",\"discoveredTSN\"=>\"35052\",\"rank\"=>\"Species\",\"nameWInd\"=>\"Houstonia pusilla\",\"nameWOInd\"=>\"Houstonia pusilla\",\"Kingdom\"=>\"Plantae\",\"Subkingdom\"=>\"Viridiplantae\",\"Infrakingdom\"=>\"Streptophyta\",\"Superdivision\"=>\"Embryophyta\",\"Division\"=>\"Tracheophyta\",\"Subdivision\"=>\"Spermatophytina\",\"Class\"=>\"Magnoliopsida\",\"Superorder\"=>\"Asteranae\",\"Order\"=>\"Gentianales\",\"Family\"=>\"Rubiaceae\",\"Genus\"=>\"Houstonia\",\"Species\"=>\"Houstonia pusilla\",\"vernacular:English\"=>\"tiny bluet\"',\n",
       " 'itisSearchURL': 'http://services.itis.gov/?wt=json&rows=10&q=nameWOInd:Houstonia\\\\%20pusilla',\n",
       " 'matchMethod': 'ExactMatch:Houstonia pusilla',\n",
       " 'scientificname_search': 'Houstonia pusilla',\n",
       " 'scientificname_submitted': 'Houstonia pusilla'}"
      ]
     },
     "metadata": {},
     "output_type": "display_data"
    },
    {
     "name": "stdout",
     "output_type": "stream",
     "text": [
      "{'success': True, 'auth_check': {'success': True, 'auth_level': None, 'session': None}, '_execution_time': 0.06, 'affected_rows': 1}\n"
     ]
    },
    {
     "data": {
      "text/plain": [
       "{'gid': 32,\n",
       " 'itisFoundFromExact': 1,\n",
       " 'itisFoundFromFuzzy': 0,\n",
       " 'itisPairs': '\"cacheDate\"=>\"2017-05-06T15:54:23.035803\",\"itisMatchMethod\"=>\"ExactMatch:Acanthohaustorius intermedius\",\"createDate\"=>\"1996-06-13 14:51:08\",\"updateDate\"=>\"2004-12-30 00:00:00\",\"discoveredTSN\"=>\"93981\",\"rank\"=>\"Species\",\"nameWInd\"=>\"Acanthohaustorius intermedius\",\"nameWOInd\"=>\"Acanthohaustorius intermedius\",\"Kingdom\"=>\"Animalia\",\"Subkingdom\"=>\"Bilateria\",\"Infrakingdom\"=>\"Protostomia\",\"Superphylum\"=>\"Ecdysozoa\",\"Phylum\"=>\"Arthropoda\",\"Subphylum\"=>\"Crustacea\",\"Class\"=>\"Malacostraca\",\"Subclass\"=>\"Eumalacostraca\",\"Superorder\"=>\"Peracarida\",\"Order\"=>\"Amphipoda\",\"Suborder\"=>\"Gammaridea\",\"Family\"=>\"Haustoriidae\",\"Genus\"=>\"Acanthohaustorius\",\"Species\"=>\"Acanthohaustorius intermedius\"',\n",
       " 'itisSearchURL': 'http://services.itis.gov/?wt=json&rows=10&q=nameWOInd:Acanthohaustorius\\\\%20intermedius',\n",
       " 'matchMethod': 'ExactMatch:Acanthohaustorius intermedius',\n",
       " 'scientificname_search': 'Acanthohaustorius intermedius',\n",
       " 'scientificname_submitted': 'Acanthohaustorius intermedius'}"
      ]
     },
     "metadata": {},
     "output_type": "display_data"
    },
    {
     "name": "stdout",
     "output_type": "stream",
     "text": [
      "{'success': True, 'auth_check': {'success': True, 'auth_level': None, 'session': None}, '_execution_time': 0.06, 'affected_rows': 1}\n"
     ]
    },
    {
     "data": {
      "text/plain": [
       "{'gid': 2296,\n",
       " 'itisFoundFromExact': 1,\n",
       " 'itisFoundFromFuzzy': 0,\n",
       " 'itisPairs': '\"cacheDate\"=>\"2017-05-06T15:54:23.843268\",\"itisMatchMethod\"=>\"ExactMatch:Hudsonia ericoides\",\"createDate\"=>\"1996-06-13 14:51:08\",\"updateDate\"=>\"2011-10-27 00:00:00\",\"discoveredTSN\"=>\"22275\",\"rank\"=>\"Species\",\"nameWInd\"=>\"Hudsonia ericoides\",\"nameWOInd\"=>\"Hudsonia ericoides\",\"Kingdom\"=>\"Plantae\",\"Subkingdom\"=>\"Viridiplantae\",\"Infrakingdom\"=>\"Streptophyta\",\"Superdivision\"=>\"Embryophyta\",\"Division\"=>\"Tracheophyta\",\"Subdivision\"=>\"Spermatophytina\",\"Class\"=>\"Magnoliopsida\",\"Superorder\"=>\"Rosanae\",\"Order\"=>\"Malvales\",\"Family\"=>\"Cistaceae\",\"Genus\"=>\"Hudsonia\",\"Species\"=>\"Hudsonia ericoides\",\"vernacular:English\"=>\"pinebarren goldenheather\",\"vernacular:English\"=>\"pine barren goldenheather\"',\n",
       " 'itisSearchURL': 'http://services.itis.gov/?wt=json&rows=10&q=nameWOInd:Hudsonia\\\\%20ericoides',\n",
       " 'matchMethod': 'ExactMatch:Hudsonia ericoides',\n",
       " 'scientificname_search': 'Hudsonia ericoides',\n",
       " 'scientificname_submitted': 'Hudsonia ericoides'}"
      ]
     },
     "metadata": {},
     "output_type": "display_data"
    },
    {
     "name": "stdout",
     "output_type": "stream",
     "text": [
      "{'success': True, 'auth_check': {'success': True, 'auth_level': None, 'session': None}, '_execution_time': 0.06, 'affected_rows': 1}\n"
     ]
    },
    {
     "data": {
      "text/plain": [
       "{'gid': 34,\n",
       " 'itisFoundFromExact': 1,\n",
       " 'itisFoundFromFuzzy': 0,\n",
       " 'itisPairs': '\"cacheDate\"=>\"2017-05-06T15:54:24.655603\",\"itisMatchMethod\"=>\"ExactMatch:Acanthohaustorius shoemakeri\",\"createDate\"=>\"1996-06-13 14:51:08\",\"updateDate\"=>\"2004-12-30 00:00:00\",\"discoveredTSN\"=>\"93984\",\"rank\"=>\"Species\",\"nameWInd\"=>\"Acanthohaustorius shoemakeri\",\"nameWOInd\"=>\"Acanthohaustorius shoemakeri\",\"Kingdom\"=>\"Animalia\",\"Subkingdom\"=>\"Bilateria\",\"Infrakingdom\"=>\"Protostomia\",\"Superphylum\"=>\"Ecdysozoa\",\"Phylum\"=>\"Arthropoda\",\"Subphylum\"=>\"Crustacea\",\"Class\"=>\"Malacostraca\",\"Subclass\"=>\"Eumalacostraca\",\"Superorder\"=>\"Peracarida\",\"Order\"=>\"Amphipoda\",\"Suborder\"=>\"Gammaridea\",\"Family\"=>\"Haustoriidae\",\"Genus\"=>\"Acanthohaustorius\",\"Species\"=>\"Acanthohaustorius shoemakeri\"',\n",
       " 'itisSearchURL': 'http://services.itis.gov/?wt=json&rows=10&q=nameWOInd:Acanthohaustorius\\\\%20shoemakeri',\n",
       " 'matchMethod': 'ExactMatch:Acanthohaustorius shoemakeri',\n",
       " 'scientificname_search': 'Acanthohaustorius shoemakeri',\n",
       " 'scientificname_submitted': 'Acanthohaustorius shoemakeri'}"
      ]
     },
     "metadata": {},
     "output_type": "display_data"
    },
    {
     "name": "stdout",
     "output_type": "stream",
     "text": [
      "{'success': True, 'auth_check': {'success': True, 'auth_level': None, 'session': None}, '_execution_time': 0.062, 'affected_rows': 1}\n"
     ]
    },
    {
     "data": {
      "text/plain": [
       "{'gid': 2297,\n",
       " 'itisFoundFromExact': 1,\n",
       " 'itisFoundFromFuzzy': 0,\n",
       " 'itisPairs': '\"cacheDate\"=>\"2017-05-06T15:54:25.458798\",\"itisMatchMethod\"=>\"ExactMatch:Hudsonia tomentosa\",\"createDate\"=>\"1996-06-13 14:51:08\",\"updateDate\"=>\"2011-10-27 00:00:00\",\"discoveredTSN\"=>\"22274\",\"rank\"=>\"Species\",\"nameWInd\"=>\"Hudsonia tomentosa\",\"nameWOInd\"=>\"Hudsonia tomentosa\",\"Kingdom\"=>\"Plantae\",\"Subkingdom\"=>\"Viridiplantae\",\"Infrakingdom\"=>\"Streptophyta\",\"Superdivision\"=>\"Embryophyta\",\"Division\"=>\"Tracheophyta\",\"Subdivision\"=>\"Spermatophytina\",\"Class\"=>\"Magnoliopsida\",\"Superorder\"=>\"Rosanae\",\"Order\"=>\"Malvales\",\"Family\"=>\"Cistaceae\",\"Genus\"=>\"Hudsonia\",\"Species\"=>\"Hudsonia tomentosa\",\"vernacular:English\"=>\"sand golden-heather\",\"vernacular:English\"=>\"sand-heather\",\"vernacular:French\"=>\"hudsonie tomenteuse\",\"vernacular:English\"=>\"woolly beachheather\"',\n",
       " 'itisSearchURL': 'http://services.itis.gov/?wt=json&rows=10&q=nameWOInd:Hudsonia\\\\%20tomentosa',\n",
       " 'matchMethod': 'ExactMatch:Hudsonia tomentosa',\n",
       " 'scientificname_search': 'Hudsonia tomentosa',\n",
       " 'scientificname_submitted': 'Hudsonia tomentosa'}"
      ]
     },
     "metadata": {},
     "output_type": "display_data"
    },
    {
     "name": "stdout",
     "output_type": "stream",
     "text": [
      "{'success': True, 'auth_check': {'success': True, 'auth_level': None, 'session': None}, '_execution_time': 0.061, 'affected_rows': 1}\n"
     ]
    },
    {
     "data": {
      "text/plain": [
       "{'gid': 3629,\n",
       " 'itisFoundFromExact': 0,\n",
       " 'itisFoundFromFuzzy': 0,\n",
       " 'itisPairs': '\"cacheDate\"=>\"2017-05-06T15:54:26.406776\",\"itisMatchMethod\"=>\"NotMatched:Polygonum sawatchense ssp. sawatchense g4g5tnrs1s3\"',\n",
       " 'itisSearchURL': 'http://services.itis.gov/?wt=json&rows=10&q=nameWInd:Polygonum\\\\%20sawatchense\\\\%20ssp.\\\\%20sawatchense\\\\%20g4g5tnrs1s3',\n",
       " 'matchMethod': 'NotMatched:Polygonum sawatchense ssp. sawatchense g4g5tnrs1s3',\n",
       " 'scientificname_search': 'Polygonum sawatchense ssp. sawatchense g4g5tnrs1s3',\n",
       " 'scientificname_submitted': 'Polygonum sawatchense ssp. sawatchense       G4G5TNRS1S3'}"
      ]
     },
     "metadata": {},
     "output_type": "display_data"
    },
    {
     "name": "stdout",
     "output_type": "stream",
     "text": [
      "{'success': True, 'auth_check': {'success': True, 'auth_level': None, 'session': None}, '_execution_time': 0.068, 'affected_rows': 1}\n"
     ]
    },
    {
     "data": {
      "text/plain": [
       "{'gid': 430,\n",
       " 'itisFoundFromExact': 0,\n",
       " 'itisFoundFromFuzzy': 0,\n",
       " 'itisPairs': '\"cacheDate\"=>\"2017-05-06T15:54:27.459772\",\"itisMatchMethod\"=>\"NotMatched:Artace cribraria\"',\n",
       " 'itisSearchURL': 'http://services.itis.gov/?wt=json&rows=10&q=nameWOInd:Artace\\\\%20cribraria',\n",
       " 'matchMethod': 'NotMatched:Artace cribraria',\n",
       " 'scientificname_search': 'Artace cribraria',\n",
       " 'scientificname_submitted': 'Artace cribraria'}"
      ]
     },
     "metadata": {},
     "output_type": "display_data"
    },
    {
     "name": "stdout",
     "output_type": "stream",
     "text": [
      "{'success': True, 'auth_check': {'success': True, 'auth_level': None, 'session': None}, '_execution_time': 0.067, 'affected_rows': 1}\n"
     ]
    },
    {
     "data": {
      "text/plain": [
       "{'gid': 456,\n",
       " 'itisFoundFromExact': 0,\n",
       " 'itisFoundFromFuzzy': 0,\n",
       " 'itisPairs': '\"cacheDate\"=>\"2017-05-06T15:54:28.606600\",\"itisMatchMethod\"=>\"NotMatched:Aspidoscelis burti\"',\n",
       " 'itisSearchURL': 'http://services.itis.gov/?wt=json&rows=10&q=nameWOInd:Aspidoscelis\\\\%20burti',\n",
       " 'matchMethod': 'NotMatched:Aspidoscelis burti',\n",
       " 'scientificname_search': 'Aspidoscelis burti',\n",
       " 'scientificname_submitted': 'Aspidoscelis burti'}"
      ]
     },
     "metadata": {},
     "output_type": "display_data"
    },
    {
     "name": "stdout",
     "output_type": "stream",
     "text": [
      "{'success': True, 'auth_check': {'success': True, 'auth_level': None, 'session': None}, '_execution_time': 0.068, 'affected_rows': 1}\n"
     ]
    },
    {
     "data": {
      "text/plain": [
       "{'gid': 457,\n",
       " 'itisFoundFromExact': 0,\n",
       " 'itisFoundFromFuzzy': 0,\n",
       " 'itisPairs': '\"cacheDate\"=>\"2017-05-06T15:54:29.816198\",\"itisMatchMethod\"=>\"NotMatched:Aspidoscelis exsanguis\"',\n",
       " 'itisSearchURL': 'http://services.itis.gov/?wt=json&rows=10&q=nameWOInd:Aspidoscelis\\\\%20exsanguis',\n",
       " 'matchMethod': 'NotMatched:Aspidoscelis exsanguis',\n",
       " 'scientificname_search': 'Aspidoscelis exsanguis',\n",
       " 'scientificname_submitted': 'Aspidoscelis exsanguis'}"
      ]
     },
     "metadata": {},
     "output_type": "display_data"
    },
    {
     "name": "stdout",
     "output_type": "stream",
     "text": [
      "{'success': True, 'auth_check': {'success': True, 'auth_level': None, 'session': None}, '_execution_time': 0.067, 'affected_rows': 1}\n"
     ]
    },
    {
     "data": {
      "text/plain": [
       "{'gid': 458,\n",
       " 'itisFoundFromExact': 0,\n",
       " 'itisFoundFromFuzzy': 0,\n",
       " 'itisPairs': '\"cacheDate\"=>\"2017-05-06T15:54:31.004107\",\"itisMatchMethod\"=>\"NotMatched:Aspidoscelis flagellicauda\"',\n",
       " 'itisSearchURL': 'http://services.itis.gov/?wt=json&rows=10&q=nameWOInd:Aspidoscelis\\\\%20flagellicauda',\n",
       " 'matchMethod': 'NotMatched:Aspidoscelis flagellicauda',\n",
       " 'scientificname_search': 'Aspidoscelis flagellicauda',\n",
       " 'scientificname_submitted': 'Aspidoscelis flagellicauda'}"
      ]
     },
     "metadata": {},
     "output_type": "display_data"
    },
    {
     "name": "stdout",
     "output_type": "stream",
     "text": [
      "{'success': True, 'auth_check': {'success': True, 'auth_level': None, 'session': None}, '_execution_time': 0.067, 'affected_rows': 1}\n"
     ]
    },
    {
     "data": {
      "text/plain": [
       "{'gid': 460,\n",
       " 'itisFoundFromExact': 0,\n",
       " 'itisFoundFromFuzzy': 0,\n",
       " 'itisPairs': '\"cacheDate\"=>\"2017-05-06T15:54:32.167464\",\"itisMatchMethod\"=>\"NotMatched:Aspidoscelis xanthonota\"',\n",
       " 'itisSearchURL': 'http://services.itis.gov/?wt=json&rows=10&q=nameWOInd:Aspidoscelis\\\\%20xanthonota',\n",
       " 'matchMethod': 'NotMatched:Aspidoscelis xanthonota',\n",
       " 'scientificname_search': 'Aspidoscelis xanthonota',\n",
       " 'scientificname_submitted': 'Aspidoscelis xanthonota'}"
      ]
     },
     "metadata": {},
     "output_type": "display_data"
    },
    {
     "name": "stdout",
     "output_type": "stream",
     "text": [
      "{'success': True, 'auth_check': {'success': True, 'auth_level': None, 'session': None}, '_execution_time': 0.068, 'affected_rows': 1}\n"
     ]
    },
    {
     "data": {
      "text/plain": [
       "{'gid': 469,\n",
       " 'itisFoundFromExact': 0,\n",
       " 'itisFoundFromFuzzy': 2,\n",
       " 'itisPairs': '\"cacheDate\"=>\"2017-05-06T15:54:33.365838\",\"itisMatchMethod\"=>\"NotMatched:Asterias forbesii\"',\n",
       " 'itisSearchURL': 'http://services.itis.gov/?wt=json&rows=10&q=nameWOInd:Asterias\\\\%20forbesii',\n",
       " 'matchMethod': 'NotMatched:Asterias forbesii',\n",
       " 'scientificname_search': 'Asterias forbesii',\n",
       " 'scientificname_submitted': 'Asterias forbesii'}"
      ]
     },
     "metadata": {},
     "output_type": "display_data"
    },
    {
     "name": "stdout",
     "output_type": "stream",
     "text": [
      "{'success': True, 'auth_check': {'success': True, 'auth_level': None, 'session': None}, '_execution_time': 0.068, 'affected_rows': 1}\n"
     ]
    },
    {
     "data": {
      "text/plain": [
       "{'gid': 423,\n",
       " 'itisFoundFromExact': 1,\n",
       " 'itisFoundFromFuzzy': 0,\n",
       " 'itisPairs': '\"cacheDate\"=>\"2017-05-06T15:54:34.496280\",\"itisMatchMethod\"=>\"ExactMatch:Aristida mohrii\",\"createDate\"=>\"1996-06-13 14:51:08\",\"updateDate\"=>\"2010-11-30 00:00:00\",\"discoveredTSN\"=>\"41424\",\"rank\"=>\"Species\",\"nameWInd\"=>\"Aristida mohrii\",\"nameWOInd\"=>\"Aristida mohrii\",\"Kingdom\"=>\"Plantae\",\"Subkingdom\"=>\"Viridiplantae\",\"Infrakingdom\"=>\"Streptophyta\",\"Superdivision\"=>\"Embryophyta\",\"Division\"=>\"Tracheophyta\",\"Subdivision\"=>\"Spermatophytina\",\"Class\"=>\"Magnoliopsida\",\"Superorder\"=>\"Lilianae\",\"Order\"=>\"Poales\",\"Family\"=>\"Poaceae\",\"Genus\"=>\"Aristida\",\"Species\"=>\"Aristida mohrii\",\"vernacular:unspecified\"=>\"Mohr\\'\\'s threeawn\"',\n",
       " 'itisSearchURL': 'http://services.itis.gov/?wt=json&rows=10&q=nameWOInd:Aristida\\\\%20mohrii',\n",
       " 'matchMethod': 'ExactMatch:Aristida mohrii',\n",
       " 'scientificname_search': 'Aristida mohrii',\n",
       " 'scientificname_submitted': 'Aristida mohrii'}"
      ]
     },
     "metadata": {},
     "output_type": "display_data"
    },
    {
     "name": "stdout",
     "output_type": "stream",
     "text": [
      "{'success': True, 'auth_check': {'success': True, 'auth_level': None, 'session': None}, '_execution_time': 0.068, 'affected_rows': 1}\n"
     ]
    },
    {
     "data": {
      "text/plain": [
       "{'gid': 38,\n",
       " 'itisFoundFromExact': 1,\n",
       " 'itisFoundFromFuzzy': 0,\n",
       " 'itisPairs': '\"cacheDate\"=>\"2017-05-06T15:54:35.443757\",\"itisMatchMethod\"=>\"ExactMatch:Acanthurus coeruleus\",\"createDate\"=>\"1996-06-13 14:51:08\",\"updateDate\"=>\"2004-01-22 00:00:00\",\"discoveredTSN\"=>\"172254\",\"rank\"=>\"Species\",\"nameWInd\"=>\"Acanthurus coeruleus\",\"nameWOInd\"=>\"Acanthurus coeruleus\",\"Kingdom\"=>\"Animalia\",\"Subkingdom\"=>\"Bilateria\",\"Infrakingdom\"=>\"Deuterostomia\",\"Phylum\"=>\"Chordata\",\"Subphylum\"=>\"Vertebrata\",\"Infraphylum\"=>\"Gnathostomata\",\"Superclass\"=>\"Actinopterygii\",\"Class\"=>\"Teleostei\",\"Superorder\"=>\"Acanthopterygii\",\"Order\"=>\"Perciformes\",\"Suborder\"=>\"Acanthuroidei\",\"Family\"=>\"Acanthuridae\",\"Genus\"=>\"Acanthurus\",\"Species\"=>\"Acanthurus coeruleus\",\"vernacular:English\"=>\"blue tang\",\"vernacular:Spanish\"=>\"barbero azul\",\"vernacular:Spanish\"=>\"cirujano azul\"',\n",
       " 'itisSearchURL': 'http://services.itis.gov/?wt=json&rows=10&q=nameWOInd:Acanthurus\\\\%20coeruleus',\n",
       " 'matchMethod': 'ExactMatch:Acanthurus coeruleus',\n",
       " 'scientificname_search': 'Acanthurus coeruleus',\n",
       " 'scientificname_submitted': 'Acanthurus coeruleus'}"
      ]
     },
     "metadata": {},
     "output_type": "display_data"
    },
    {
     "name": "stdout",
     "output_type": "stream",
     "text": [
      "{'success': True, 'auth_check': {'success': True, 'auth_level': None, 'session': None}, '_execution_time': 0.07, 'affected_rows': 1}\n"
     ]
    },
    {
     "data": {
      "text/plain": [
       "{'gid': 2303,\n",
       " 'itisFoundFromExact': 1,\n",
       " 'itisFoundFromFuzzy': 0,\n",
       " 'itisPairs': '\"cacheDate\"=>\"2017-05-06T15:54:36.368401\",\"itisMatchMethod\"=>\"ExactMatch:Hybognathus argyritis\",\"createDate\"=>\"1996-06-13 14:51:08\",\"updateDate\"=>\"2013-08-14 00:00:00\",\"discoveredTSN\"=>\"163362\",\"rank\"=>\"Species\",\"nameWInd\"=>\"Hybognathus argyritis\",\"nameWOInd\"=>\"Hybognathus argyritis\",\"Kingdom\"=>\"Animalia\",\"Subkingdom\"=>\"Bilateria\",\"Infrakingdom\"=>\"Deuterostomia\",\"Phylum\"=>\"Chordata\",\"Subphylum\"=>\"Vertebrata\",\"Infraphylum\"=>\"Gnathostomata\",\"Superclass\"=>\"Actinopterygii\",\"Class\"=>\"Teleostei\",\"Superorder\"=>\"Ostariophysi\",\"Order\"=>\"Cypriniformes\",\"Superfamily\"=>\"Cyprinoidea\",\"Family\"=>\"Cyprinidae\",\"Genus\"=>\"Hybognathus\",\"Species\"=>\"Hybognathus argyritis\",\"vernacular:English\"=>\"western silvery minnow\"',\n",
       " 'itisSearchURL': 'http://services.itis.gov/?wt=json&rows=10&q=nameWOInd:Hybognathus\\\\%20argyritis',\n",
       " 'matchMethod': 'ExactMatch:Hybognathus argyritis',\n",
       " 'scientificname_search': 'Hybognathus argyritis',\n",
       " 'scientificname_submitted': 'Hybognathus argyritis'}"
      ]
     },
     "metadata": {},
     "output_type": "display_data"
    },
    {
     "name": "stdout",
     "output_type": "stream",
     "text": [
      "{'success': True, 'auth_check': {'success': True, 'auth_level': None, 'session': None}, '_execution_time': 0.068, 'affected_rows': 1}\n"
     ]
    },
    {
     "data": {
      "text/plain": [
       "{'gid': 39,\n",
       " 'itisFoundFromExact': 1,\n",
       " 'itisFoundFromFuzzy': 0,\n",
       " 'itisPairs': '\"cacheDate\"=>\"2017-05-06T15:54:37.181650\",\"itisMatchMethod\"=>\"ExactMatch:Accipiter gentilis\",\"createDate\"=>\"1996-06-13 14:51:08\",\"updateDate\"=>\"2011-09-22 00:00:00\",\"discoveredTSN\"=>\"175300\",\"rank\"=>\"Species\",\"nameWInd\"=>\"Accipiter gentilis\",\"nameWOInd\"=>\"Accipiter gentilis\",\"Kingdom\"=>\"Animalia\",\"Subkingdom\"=>\"Bilateria\",\"Infrakingdom\"=>\"Deuterostomia\",\"Phylum\"=>\"Chordata\",\"Subphylum\"=>\"Vertebrata\",\"Infraphylum\"=>\"Gnathostomata\",\"Superclass\"=>\"Tetrapoda\",\"Class\"=>\"Aves\",\"Order\"=>\"Accipitriformes\",\"Family\"=>\"Accipitridae\",\"Genus\"=>\"Accipiter\",\"Species\"=>\"Accipiter gentilis\",\"vernacular:Spanish\"=>\"Gavilán azor\",\"vernacular:English\"=>\"Northern Goshawk\",\"vernacular:French\"=>\"Autour des palombes\"',\n",
       " 'itisSearchURL': 'http://services.itis.gov/?wt=json&rows=10&q=nameWOInd:Accipiter\\\\%20gentilis',\n",
       " 'matchMethod': 'ExactMatch:Accipiter gentilis',\n",
       " 'scientificname_search': 'Accipiter gentilis',\n",
       " 'scientificname_submitted': 'Accipiter gentilis'}"
      ]
     },
     "metadata": {},
     "output_type": "display_data"
    },
    {
     "name": "stdout",
     "output_type": "stream",
     "text": [
      "{'success': True, 'auth_check': {'success': True, 'auth_level': None, 'session': None}, '_execution_time': 0.068, 'affected_rows': 1}\n"
     ]
    },
    {
     "data": {
      "text/plain": [
       "{'gid': 527,\n",
       " 'itisFoundFromExact': 1,\n",
       " 'itisFoundFromFuzzy': 0,\n",
       " 'itisPairs': '\"cacheDate\"=>\"2017-05-06T15:54:37.996627\",\"itisMatchMethod\"=>\"ExactMatch:Baeolophus bicolor\",\"createDate\"=>\"1998-09-16 14:57:03\",\"updateDate\"=>\"2013-11-04 00:00:00\",\"discoveredTSN\"=>\"554138\",\"rank\"=>\"Species\",\"nameWInd\"=>\"Baeolophus bicolor\",\"nameWOInd\"=>\"Baeolophus bicolor\",\"Kingdom\"=>\"Animalia\",\"Subkingdom\"=>\"Bilateria\",\"Infrakingdom\"=>\"Deuterostomia\",\"Phylum\"=>\"Chordata\",\"Subphylum\"=>\"Vertebrata\",\"Infraphylum\"=>\"Gnathostomata\",\"Superclass\"=>\"Tetrapoda\",\"Class\"=>\"Aves\",\"Order\"=>\"Passeriformes\",\"Family\"=>\"Paridae\",\"Genus\"=>\"Baeolophus\",\"Species\"=>\"Baeolophus bicolor\",\"vernacular:English\"=>\"Tufted Titmouse\",\"vernacular:Spanish\"=>\"Carbonero cresta negra\"',\n",
       " 'itisSearchURL': 'http://services.itis.gov/?wt=json&rows=10&q=nameWOInd:Baeolophus\\\\%20bicolor',\n",
       " 'matchMethod': 'ExactMatch:Baeolophus bicolor',\n",
       " 'scientificname_search': 'Baeolophus bicolor',\n",
       " 'scientificname_submitted': 'Baeolophus bicolor'}"
      ]
     },
     "metadata": {},
     "output_type": "display_data"
    },
    {
     "name": "stdout",
     "output_type": "stream",
     "text": [
      "{'success': True, 'auth_check': {'success': True, 'auth_level': None, 'session': None}, '_execution_time': 0.065, 'affected_rows': 1}\n"
     ]
    },
    {
     "data": {
      "text/plain": [
       "{'gid': 532,\n",
       " 'itisFoundFromExact': 1,\n",
       " 'itisFoundFromFuzzy': 0,\n",
       " 'itisPairs': '\"cacheDate\"=>\"2017-05-06T15:54:38.785351\",\"itisMatchMethod\"=>\"ExactMatch:Baetisca rubescens\",\"createDate\"=>\"1996-06-13 14:51:08\",\"updateDate\"=>\"2009-09-24 00:00:00\",\"discoveredTSN\"=>\"101507\",\"rank\"=>\"Species\",\"nameWInd\"=>\"Baetisca rubescens\",\"nameWOInd\"=>\"Baetisca rubescens\",\"Kingdom\"=>\"Animalia\",\"Subkingdom\"=>\"Bilateria\",\"Infrakingdom\"=>\"Protostomia\",\"Superphylum\"=>\"Ecdysozoa\",\"Phylum\"=>\"Arthropoda\",\"Subphylum\"=>\"Hexapoda\",\"Class\"=>\"Insecta\",\"Subclass\"=>\"Pterygota\",\"Infraclass\"=>\"Palaeoptera\",\"Order\"=>\"Ephemeroptera\",\"Suborder\"=>\"Carapacea\",\"Family\"=>\"Baetiscidae\",\"Genus\"=>\"Baetisca\",\"Species\"=>\"Baetisca rubescens\"',\n",
       " 'itisSearchURL': 'http://services.itis.gov/?wt=json&rows=10&q=nameWOInd:Baetisca\\\\%20rubescens',\n",
       " 'matchMethod': 'ExactMatch:Baetisca rubescens',\n",
       " 'scientificname_search': 'Baetisca rubescens',\n",
       " 'scientificname_submitted': 'Baetisca rubescens'}"
      ]
     },
     "metadata": {},
     "output_type": "display_data"
    },
    {
     "name": "stdout",
     "output_type": "stream",
     "text": [
      "{'success': True, 'auth_check': {'success': True, 'auth_level': None, 'session': None}, '_execution_time': 0.069, 'affected_rows': 1}\n"
     ]
    },
    {
     "data": {
      "text/plain": [
       "{'gid': 17755,\n",
       " 'itisFoundFromExact': 0,\n",
       " 'itisFoundFromFuzzy': 0,\n",
       " 'itisPairs': '\"cacheDate\"=>\"2017-05-06T15:54:39.720216\",\"itisMatchMethod\"=>\"NotMatched:Stauroneus maunakeensis\"',\n",
       " 'itisSearchURL': 'http://services.itis.gov/?wt=json&rows=10&q=nameWOInd:Stauroneus\\\\%20maunakeensis',\n",
       " 'matchMethod': 'NotMatched:Stauroneus maunakeensis',\n",
       " 'scientificname_search': 'Stauroneus maunakeensis',\n",
       " 'scientificname_submitted': 'Stauroneus maunakeensis'}"
      ]
     },
     "metadata": {},
     "output_type": "display_data"
    },
    {
     "name": "stdout",
     "output_type": "stream",
     "text": [
      "{'success': True, 'auth_check': {'success': True, 'auth_level': None, 'session': None}, '_execution_time': 0.057, 'affected_rows': 1}\n"
     ]
    },
    {
     "data": {
      "text/plain": [
       "{'gid': 574,\n",
       " 'itisFoundFromExact': 0,\n",
       " 'itisFoundFromFuzzy': 0,\n",
       " 'itisPairs': '\"cacheDate\"=>\"2017-05-06T15:54:40.733045\",\"itisMatchMethod\"=>\"NotMatched:Birgus latro\"',\n",
       " 'itisSearchURL': 'http://services.itis.gov/?wt=json&rows=10&q=nameWOInd:Birgus\\\\%20latro',\n",
       " 'matchMethod': 'NotMatched:Birgus latro',\n",
       " 'scientificname_search': 'Birgus latro',\n",
       " 'scientificname_submitted': 'Birgus latro'}"
      ]
     },
     "metadata": {},
     "output_type": "display_data"
    },
    {
     "name": "stdout",
     "output_type": "stream",
     "text": [
      "{'success': True, 'auth_check': {'success': True, 'auth_level': None, 'session': None}, '_execution_time': 0.07, 'affected_rows': 1}\n"
     ]
    },
    {
     "data": {
      "text/plain": [
       "{'gid': 607,\n",
       " 'itisFoundFromExact': 0,\n",
       " 'itisFoundFromFuzzy': 0,\n",
       " 'itisPairs': '\"cacheDate\"=>\"2017-05-06T15:54:41.918875\",\"itisMatchMethod\"=>\"NotMatched:Borodinia missouriensis\"',\n",
       " 'itisSearchURL': 'http://services.itis.gov/?wt=json&rows=10&q=nameWOInd:Borodinia\\\\%20missouriensis',\n",
       " 'matchMethod': 'NotMatched:Borodinia missouriensis',\n",
       " 'scientificname_search': 'Borodinia missouriensis',\n",
       " 'scientificname_submitted': 'Borodinia missouriensis'}"
      ]
     },
     "metadata": {},
     "output_type": "display_data"
    },
    {
     "name": "stdout",
     "output_type": "stream",
     "text": [
      "{'success': True, 'auth_check': {'success': True, 'auth_level': None, 'session': None}, '_execution_time': 0.07, 'affected_rows': 1}\n"
     ]
    },
    {
     "data": {
      "text/plain": [
       "{'gid': 580,\n",
       " 'itisFoundFromExact': 1,\n",
       " 'itisFoundFromFuzzy': 0,\n",
       " 'itisPairs': '\"cacheDate\"=>\"2017-05-06T15:54:42.828385\",\"itisMatchMethod\"=>\"ExactMatch:Blephilia hirsuta var. hirsuta\",\"createDate\"=>\"1996-11-04 17:57:08\",\"updateDate\"=>\"2011-09-22 00:00:00\",\"discoveredTSN\"=>\"526935\",\"rank\"=>\"Variety\",\"nameWInd\"=>\"Blephilia hirsuta var. hirsuta\",\"nameWOInd\"=>\"Blephilia hirsuta hirsuta\",\"Kingdom\"=>\"Plantae\",\"Subkingdom\"=>\"Viridiplantae\",\"Infrakingdom\"=>\"Streptophyta\",\"Superdivision\"=>\"Embryophyta\",\"Division\"=>\"Tracheophyta\",\"Subdivision\"=>\"Spermatophytina\",\"Class\"=>\"Magnoliopsida\",\"Superorder\"=>\"Asteranae\",\"Order\"=>\"Lamiales\",\"Family\"=>\"Lamiaceae\",\"Genus\"=>\"Blephilia\",\"Species\"=>\"Blephilia hirsuta\",\"Variety\"=>\"Blephilia hirsuta var. hirsuta\",\"vernacular:English\"=>\"hairy pagoda-plant\"',\n",
       " 'itisSearchURL': 'http://services.itis.gov/?wt=json&rows=10&q=nameWInd:Blephilia\\\\%20hirsuta\\\\%20var.\\\\%20hirsuta',\n",
       " 'matchMethod': 'ExactMatch:Blephilia hirsuta var. hirsuta',\n",
       " 'scientificname_search': 'Blephilia hirsuta var. hirsuta',\n",
       " 'scientificname_submitted': 'Blephilia hirsuta var. hirsuta'}"
      ]
     },
     "metadata": {},
     "output_type": "display_data"
    },
    {
     "name": "stdout",
     "output_type": "stream",
     "text": [
      "{'success': True, 'auth_check': {'success': True, 'auth_level': None, 'session': None}, '_execution_time': 0.068, 'affected_rows': 1}\n"
     ]
    },
    {
     "data": {
      "text/plain": [
       "{'gid': 585,\n",
       " 'itisFoundFromExact': 1,\n",
       " 'itisFoundFromFuzzy': 0,\n",
       " 'itisPairs': '\"cacheDate\"=>\"2017-05-06T15:54:43.963727\",\"itisMatchMethod\"=>\"ExactMatch:Bodianus pulchellus\",\"createDate\"=>\"1996-06-13 14:51:08\",\"updateDate\"=>\"2004-09-27 00:00:00\",\"discoveredTSN\"=>\"170483\",\"rank\"=>\"Species\",\"nameWInd\"=>\"Bodianus pulchellus\",\"nameWOInd\"=>\"Bodianus pulchellus\",\"Kingdom\"=>\"Animalia\",\"Subkingdom\"=>\"Bilateria\",\"Infrakingdom\"=>\"Deuterostomia\",\"Phylum\"=>\"Chordata\",\"Subphylum\"=>\"Vertebrata\",\"Infraphylum\"=>\"Gnathostomata\",\"Superclass\"=>\"Actinopterygii\",\"Class\"=>\"Teleostei\",\"Superorder\"=>\"Acanthopterygii\",\"Order\"=>\"Perciformes\",\"Suborder\"=>\"Labroidei\",\"Family\"=>\"Labridae\",\"Genus\"=>\"Bodianus\",\"Species\"=>\"Bodianus pulchellus\",\"vernacular:English\"=>\"spotfin hogfish\",\"vernacular:Spanish\"=>\"pez perro de cola amarilla\",\"vernacular:Spanish\"=>\"vieja lomo negro\"',\n",
       " 'itisSearchURL': 'http://services.itis.gov/?wt=json&rows=10&q=nameWOInd:Bodianus\\\\%20pulchellus',\n",
       " 'matchMethod': 'ExactMatch:Bodianus pulchellus',\n",
       " 'scientificname_search': 'Bodianus pulchellus',\n",
       " 'scientificname_submitted': 'Bodianus pulchellus'}"
      ]
     },
     "metadata": {},
     "output_type": "display_data"
    },
    {
     "name": "stdout",
     "output_type": "stream",
     "text": [
      "{'success': True, 'auth_check': {'success': True, 'auth_level': None, 'session': None}, '_execution_time': 0.069, 'affected_rows': 1}\n"
     ]
    },
    {
     "data": {
      "text/plain": [
       "{'gid': 592,\n",
       " 'itisFoundFromExact': 1,\n",
       " 'itisFoundFromFuzzy': 0,\n",
       " 'itisPairs': '\"cacheDate\"=>\"2017-05-06T15:54:44.873331\",\"itisMatchMethod\"=>\"ExactMatch:Boloria selene\",\"createDate\"=>\"1996-06-13 14:51:08\",\"updateDate\"=>\"2010-01-14 00:00:00\",\"discoveredTSN\"=>\"188567\",\"rank\"=>\"Species\",\"nameWInd\"=>\"Boloria selene\",\"nameWOInd\"=>\"Boloria selene\",\"Kingdom\"=>\"Animalia\",\"Subkingdom\"=>\"Bilateria\",\"Infrakingdom\"=>\"Protostomia\",\"Superphylum\"=>\"Ecdysozoa\",\"Phylum\"=>\"Arthropoda\",\"Subphylum\"=>\"Hexapoda\",\"Class\"=>\"Insecta\",\"Subclass\"=>\"Pterygota\",\"Infraclass\"=>\"Neoptera\",\"Superorder\"=>\"Holometabola\",\"Order\"=>\"Lepidoptera\",\"Superfamily\"=>\"Papilionoidea\",\"Family\"=>\"Nymphalidae\",\"Subfamily\"=>\"Heliconiinae\",\"Tribe\"=>\"Argynnini\",\"Subtribe\"=>\"Boloriina\",\"Genus\"=>\"Boloria\",\"Subgenus\"=>\"Boloria (Clossiana)\",\"Species\"=>\"Boloria selene\",\"vernacular:English\"=>\"Silver-bordered Fritillary\",\"vernacular:French\"=>\"boloria à taches argentées\",\"vernacular:English\"=>\"silverbordered fritillary\"',\n",
       " 'itisSearchURL': 'http://services.itis.gov/?wt=json&rows=10&q=nameWOInd:Boloria\\\\%20selene',\n",
       " 'matchMethod': 'ExactMatch:Boloria selene',\n",
       " 'scientificname_search': 'Boloria selene',\n",
       " 'scientificname_submitted': 'Boloria selene'}"
      ]
     },
     "metadata": {},
     "output_type": "display_data"
    },
    {
     "name": "stdout",
     "output_type": "stream",
     "text": [
      "{'success': True, 'auth_check': {'success': True, 'auth_level': None, 'session': None}, '_execution_time': 0.068, 'affected_rows': 1}\n"
     ]
    },
    {
     "data": {
      "text/plain": [
       "{'gid': 2306,\n",
       " 'itisFoundFromExact': 1,\n",
       " 'itisFoundFromFuzzy': 0,\n",
       " 'itisPairs': '\"cacheDate\"=>\"2017-05-06T15:54:45.837490\",\"itisMatchMethod\"=>\"ExactMatch:Hybognathus placitus\",\"createDate\"=>\"1996-06-13 14:51:08\",\"updateDate\"=>\"2013-08-14 00:00:00\",\"discoveredTSN\"=>\"163361\",\"rank\"=>\"Species\",\"nameWInd\"=>\"Hybognathus placitus\",\"nameWOInd\"=>\"Hybognathus placitus\",\"Kingdom\"=>\"Animalia\",\"Subkingdom\"=>\"Bilateria\",\"Infrakingdom\"=>\"Deuterostomia\",\"Phylum\"=>\"Chordata\",\"Subphylum\"=>\"Vertebrata\",\"Infraphylum\"=>\"Gnathostomata\",\"Superclass\"=>\"Actinopterygii\",\"Class\"=>\"Teleostei\",\"Superorder\"=>\"Ostariophysi\",\"Order\"=>\"Cypriniformes\",\"Superfamily\"=>\"Cyprinoidea\",\"Family\"=>\"Cyprinidae\",\"Genus\"=>\"Hybognathus\",\"Species\"=>\"Hybognathus placitus\",\"vernacular:English\"=>\"plains minnow\"',\n",
       " 'itisSearchURL': 'http://services.itis.gov/?wt=json&rows=10&q=nameWOInd:Hybognathus\\\\%20placitus',\n",
       " 'matchMethod': 'ExactMatch:Hybognathus placitus',\n",
       " 'scientificname_search': 'Hybognathus placitus',\n",
       " 'scientificname_submitted': 'Hybognathus placitus'}"
      ]
     },
     "metadata": {},
     "output_type": "display_data"
    },
    {
     "name": "stdout",
     "output_type": "stream",
     "text": [
      "{'success': True, 'auth_check': {'success': True, 'auth_level': None, 'session': None}, '_execution_time': 0.065, 'affected_rows': 1}\n"
     ]
    },
    {
     "data": {
      "text/plain": [
       "{'gid': 41,\n",
       " 'itisFoundFromExact': 1,\n",
       " 'itisFoundFromFuzzy': 0,\n",
       " 'itisPairs': '\"cacheDate\"=>\"2017-05-06T15:54:46.783595\",\"itisMatchMethod\"=>\"ExactMatch:Accipiter striatus\",\"createDate\"=>\"1996-06-13 14:51:08\",\"updateDate\"=>\"2011-09-22 00:00:00\",\"discoveredTSN\"=>\"175304\",\"rank\"=>\"Species\",\"nameWInd\"=>\"Accipiter striatus\",\"nameWOInd\"=>\"Accipiter striatus\",\"Kingdom\"=>\"Animalia\",\"Subkingdom\"=>\"Bilateria\",\"Infrakingdom\"=>\"Deuterostomia\",\"Phylum\"=>\"Chordata\",\"Subphylum\"=>\"Vertebrata\",\"Infraphylum\"=>\"Gnathostomata\",\"Superclass\"=>\"Tetrapoda\",\"Class\"=>\"Aves\",\"Order\"=>\"Accipitriformes\",\"Family\"=>\"Accipitridae\",\"Genus\"=>\"Accipiter\",\"Species\"=>\"Accipiter striatus\",\"vernacular:Spanish\"=>\"Gavilán pecho rufo\",\"vernacular:English\"=>\"Sharp-shinned Hawk\",\"vernacular:French\"=>\"epervier brun\",\"vernacular:French\"=>\"Épervier brun\"',\n",
       " 'itisSearchURL': 'http://services.itis.gov/?wt=json&rows=10&q=nameWOInd:Accipiter\\\\%20striatus',\n",
       " 'matchMethod': 'ExactMatch:Accipiter striatus',\n",
       " 'scientificname_search': 'Accipiter striatus',\n",
       " 'scientificname_submitted': 'Accipiter striatus'}"
      ]
     },
     "metadata": {},
     "output_type": "display_data"
    },
    {
     "name": "stdout",
     "output_type": "stream",
     "text": [
      "{'success': True, 'auth_check': {'success': True, 'auth_level': None, 'session': None}, '_execution_time': 0.07, 'affected_rows': 1}\n"
     ]
    },
    {
     "data": {
      "text/plain": [
       "{'gid': 2308,\n",
       " 'itisFoundFromExact': 1,\n",
       " 'itisFoundFromFuzzy': 0,\n",
       " 'itisPairs': '\"cacheDate\"=>\"2017-05-06T15:54:47.629705\",\"itisMatchMethod\"=>\"ExactMatch:Hybopsis amnis\",\"createDate\"=>\"1996-06-13 14:51:08\",\"updateDate\"=>\"2005-09-29 00:00:00\",\"discoveredTSN\"=>\"201917\",\"rank\"=>\"Species\",\"nameWInd\"=>\"Hybopsis amnis\",\"nameWOInd\"=>\"Hybopsis amnis\",\"Kingdom\"=>\"Animalia\",\"Subkingdom\"=>\"Bilateria\",\"Infrakingdom\"=>\"Deuterostomia\",\"Phylum\"=>\"Chordata\",\"Subphylum\"=>\"Vertebrata\",\"Infraphylum\"=>\"Gnathostomata\",\"Superclass\"=>\"Actinopterygii\",\"Class\"=>\"Teleostei\",\"Superorder\"=>\"Ostariophysi\",\"Order\"=>\"Cypriniformes\",\"Superfamily\"=>\"Cyprinoidea\",\"Family\"=>\"Cyprinidae\",\"Genus\"=>\"Hybopsis\",\"Species\"=>\"Hybopsis amnis\",\"vernacular:English\"=>\"pallid shiner\",\"vernacular:English\"=>\"pallid chub\"',\n",
       " 'itisSearchURL': 'http://services.itis.gov/?wt=json&rows=10&q=nameWOInd:Hybopsis\\\\%20amnis',\n",
       " 'matchMethod': 'ExactMatch:Hybopsis amnis',\n",
       " 'scientificname_search': 'Hybopsis amnis',\n",
       " 'scientificname_submitted': 'Hybopsis amnis'}"
      ]
     },
     "metadata": {},
     "output_type": "display_data"
    },
    {
     "name": "stdout",
     "output_type": "stream",
     "text": [
      "{'success': True, 'auth_check': {'success': True, 'auth_level': None, 'session': None}, '_execution_time': 0.069, 'affected_rows': 1}\n"
     ]
    },
    {
     "data": {
      "text/plain": [
       "{'gid': 8172,\n",
       " 'itisFoundFromExact': 0,\n",
       " 'itisFoundFromFuzzy': 0,\n",
       " 'itisPairs': '\"cacheDate\"=>\"2017-05-06T15:54:48.652727\",\"itisMatchMethod\"=>\"NotMatched:Pyganodon subgibbosa\"',\n",
       " 'itisSearchURL': 'http://services.itis.gov/?wt=json&rows=10&q=nameWOInd:Pyganodon\\\\%20subgibbosa',\n",
       " 'matchMethod': 'NotMatched:Pyganodon subgibbosa',\n",
       " 'scientificname_search': 'Pyganodon subgibbosa',\n",
       " 'scientificname_submitted': 'Pyganodon subgibbosa'}"
      ]
     },
     "metadata": {},
     "output_type": "display_data"
    },
    {
     "name": "stdout",
     "output_type": "stream",
     "text": [
      "{'success': True, 'auth_check': {'success': True, 'auth_level': None, 'session': None}, '_execution_time': 0.069, 'affected_rows': 1}\n"
     ]
    },
    {
     "data": {
      "text/plain": [
       "{'gid': 681,\n",
       " 'itisFoundFromExact': 0,\n",
       " 'itisFoundFromFuzzy': 0,\n",
       " 'itisPairs': '\"cacheDate\"=>\"2017-05-06T15:54:49.614100\",\"itisMatchMethod\"=>\"NotMatched:Caecidotea sp. 1\"',\n",
       " 'itisSearchURL': 'http://services.itis.gov/?wt=json&rows=10&q=nameWOInd:Caecidotea\\\\%20sp.\\\\%201',\n",
       " 'matchMethod': 'NotMatched:Caecidotea sp. 1',\n",
       " 'scientificname_search': 'Caecidotea sp. 1',\n",
       " 'scientificname_submitted': 'Caecidotea sp. 1'}"
      ]
     },
     "metadata": {},
     "output_type": "display_data"
    },
    {
     "name": "stdout",
     "output_type": "stream",
     "text": [
      "{'success': True, 'auth_check': {'success': True, 'auth_level': None, 'session': None}, '_execution_time': 0.067, 'affected_rows': 1}\n"
     ]
    },
    {
     "data": {
      "text/plain": [
       "{'gid': 682,\n",
       " 'itisFoundFromExact': 0,\n",
       " 'itisFoundFromFuzzy': 0,\n",
       " 'itisPairs': '\"cacheDate\"=>\"2017-05-06T15:54:50.560568\",\"itisMatchMethod\"=>\"NotMatched:Caecidotea sp. 8\"',\n",
       " 'itisSearchURL': 'http://services.itis.gov/?wt=json&rows=10&q=nameWOInd:Caecidotea\\\\%20sp.\\\\%208',\n",
       " 'matchMethod': 'NotMatched:Caecidotea sp. 8',\n",
       " 'scientificname_search': 'Caecidotea sp. 8',\n",
       " 'scientificname_submitted': 'Caecidotea sp. 8'}"
      ]
     },
     "metadata": {},
     "output_type": "display_data"
    },
    {
     "name": "stdout",
     "output_type": "stream",
     "text": [
      "{'success': True, 'auth_check': {'success': True, 'auth_level': None, 'session': None}, '_execution_time': 0.068, 'affected_rows': 1}\n"
     ]
    },
    {
     "data": {
      "text/plain": [
       "{'gid': 716,\n",
       " 'itisFoundFromExact': 0,\n",
       " 'itisFoundFromFuzzy': 0,\n",
       " 'itisPairs': '\"cacheDate\"=>\"2017-05-06T15:54:51.508568\",\"itisMatchMethod\"=>\"NotMatched:Calidris subruficollis\"',\n",
       " 'itisSearchURL': 'http://services.itis.gov/?wt=json&rows=10&q=nameWOInd:Calidris\\\\%20subruficollis',\n",
       " 'matchMethod': 'NotMatched:Calidris subruficollis',\n",
       " 'scientificname_search': 'Calidris subruficollis',\n",
       " 'scientificname_submitted': 'Calidris  subruficollis'}"
      ]
     },
     "metadata": {},
     "output_type": "display_data"
    },
    {
     "name": "stdout",
     "output_type": "stream",
     "text": [
      "{'success': True, 'auth_check': {'success': True, 'auth_level': None, 'session': None}, '_execution_time': 0.063, 'affected_rows': 1}\n"
     ]
    },
    {
     "data": {
      "text/plain": [
       "{'gid': 42,\n",
       " 'itisFoundFromExact': 1,\n",
       " 'itisFoundFromFuzzy': 0,\n",
       " 'itisPairs': '\"cacheDate\"=>\"2017-05-06T15:54:52.402072\",\"itisMatchMethod\"=>\"ExactMatch:Acella haldemani\",\"createDate\"=>\"1996-06-13 14:51:08\",\"updateDate\"=>\"2001-10-17 00:00:00\",\"discoveredTSN\"=>\"76531\",\"rank\"=>\"Species\",\"nameWInd\"=>\"Acella haldemani\",\"nameWOInd\"=>\"Acella haldemani\",\"Kingdom\"=>\"Animalia\",\"Subkingdom\"=>\"Bilateria\",\"Infrakingdom\"=>\"Protostomia\",\"Superphylum\"=>\"Lophozoa\",\"Phylum\"=>\"Mollusca\",\"Class\"=>\"Gastropoda\",\"Order\"=>\"Basommatophora\",\"Family\"=>\"Lymnaeidae\",\"Genus\"=>\"Acella\",\"Species\"=>\"Acella haldemani\",\"vernacular:English\"=>\"spindle lymnaea\"',\n",
       " 'itisSearchURL': 'http://services.itis.gov/?wt=json&rows=10&q=nameWOInd:Acella\\\\%20haldemani',\n",
       " 'matchMethod': 'ExactMatch:Acella haldemani',\n",
       " 'scientificname_search': 'Acella haldemani',\n",
       " 'scientificname_submitted': 'Acella haldemani'}"
      ]
     },
     "metadata": {},
     "output_type": "display_data"
    },
    {
     "name": "stdout",
     "output_type": "stream",
     "text": [
      "{'success': True, 'auth_check': {'success': True, 'auth_level': None, 'session': None}, '_execution_time': 0.063, 'affected_rows': 1}\n"
     ]
    },
    {
     "data": {
      "text/plain": [
       "{'gid': 690,\n",
       " 'itisFoundFromExact': 1,\n",
       " 'itisFoundFromFuzzy': 0,\n",
       " 'itisPairs': '\"cacheDate\"=>\"2017-05-06T15:54:53.273080\",\"itisMatchMethod\"=>\"ExactMatch:Calamospiza melanocorys\",\"createDate\"=>\"1996-06-13 14:51:08\",\"updateDate\"=>\"2015-10-28 00:00:00\",\"discoveredTSN\"=>\"179312\",\"rank\"=>\"Species\",\"nameWInd\"=>\"Calamospiza melanocorys\",\"nameWOInd\"=>\"Calamospiza melanocorys\",\"Kingdom\"=>\"Animalia\",\"Subkingdom\"=>\"Bilateria\",\"Infrakingdom\"=>\"Deuterostomia\",\"Phylum\"=>\"Chordata\",\"Subphylum\"=>\"Vertebrata\",\"Infraphylum\"=>\"Gnathostomata\",\"Superclass\"=>\"Tetrapoda\",\"Class\"=>\"Aves\",\"Order\"=>\"Passeriformes\",\"Family\"=>\"Emberizidae\",\"Genus\"=>\"Calamospiza\",\"Species\"=>\"Calamospiza melanocorys\",\"vernacular:English\"=>\"Lark Bunting\",\"vernacular:French\"=>\"bruant noir et blanc\",\"vernacular:Spanish\"=>\"Gorrión ala blanca\"',\n",
       " 'itisSearchURL': 'http://services.itis.gov/?wt=json&rows=10&q=nameWOInd:Calamospiza\\\\%20melanocorys',\n",
       " 'matchMethod': 'ExactMatch:Calamospiza melanocorys',\n",
       " 'scientificname_search': 'Calamospiza melanocorys',\n",
       " 'scientificname_submitted': 'Calamospiza melanocorys'}"
      ]
     },
     "metadata": {},
     "output_type": "display_data"
    },
    {
     "name": "stdout",
     "output_type": "stream",
     "text": [
      "{'success': True, 'auth_check': {'success': True, 'auth_level': None, 'session': None}, '_execution_time': 0.069, 'affected_rows': 1}\n"
     ]
    },
    {
     "data": {
      "text/plain": [
       "{'gid': 2309,\n",
       " 'itisFoundFromExact': 1,\n",
       " 'itisFoundFromFuzzy': 0,\n",
       " 'itisPairs': '\"cacheDate\"=>\"2017-05-06T15:54:54.619318\",\"itisMatchMethod\"=>\"ExactMatch:Hybopsis hypsinotus\",\"createDate\"=>\"1996-06-13 14:51:08\",\"updateDate\"=>\"2005-09-29 00:00:00\",\"discoveredTSN\"=>\"163482\",\"rank\"=>\"Species\",\"nameWInd\"=>\"Hybopsis hypsinotus\",\"nameWOInd\"=>\"Hybopsis hypsinotus\",\"Kingdom\"=>\"Animalia\",\"Subkingdom\"=>\"Bilateria\",\"Infrakingdom\"=>\"Deuterostomia\",\"Phylum\"=>\"Chordata\",\"Subphylum\"=>\"Vertebrata\",\"Infraphylum\"=>\"Gnathostomata\",\"Superclass\"=>\"Actinopterygii\",\"Class\"=>\"Teleostei\",\"Superorder\"=>\"Ostariophysi\",\"Order\"=>\"Cypriniformes\",\"Superfamily\"=>\"Cyprinoidea\",\"Family\"=>\"Cyprinidae\",\"Genus\"=>\"Hybopsis\",\"Species\"=>\"Hybopsis hypsinotus\",\"vernacular:English\"=>\"highback chub\"',\n",
       " 'itisSearchURL': 'http://services.itis.gov/?wt=json&rows=10&q=nameWOInd:Hybopsis\\\\%20hypsinotus',\n",
       " 'matchMethod': 'ExactMatch:Hybopsis hypsinotus',\n",
       " 'scientificname_search': 'Hybopsis hypsinotus',\n",
       " 'scientificname_submitted': 'Hybopsis hypsinotus'}"
      ]
     },
     "metadata": {},
     "output_type": "display_data"
    },
    {
     "name": "stdout",
     "output_type": "stream",
     "text": [
      "{'success': True, 'auth_check': {'success': True, 'auth_level': None, 'session': None}, '_execution_time': 0.068, 'affected_rows': 1}\n"
     ]
    },
    {
     "data": {
      "text/plain": [
       "{'gid': 45,\n",
       " 'itisFoundFromExact': 1,\n",
       " 'itisFoundFromFuzzy': 0,\n",
       " 'itisPairs': '\"cacheDate\"=>\"2017-05-06T15:54:55.865573\",\"itisMatchMethod\"=>\"ExactMatch:Acipenser brevirostrum\",\"createDate\"=>\"1996-06-13 14:51:08\",\"updateDate\"=>\"2004-02-23 00:00:00\",\"discoveredTSN\"=>\"161069\",\"rank\"=>\"Species\",\"nameWInd\"=>\"Acipenser brevirostrum\",\"nameWOInd\"=>\"Acipenser brevirostrum\",\"Kingdom\"=>\"Animalia\",\"Subkingdom\"=>\"Bilateria\",\"Infrakingdom\"=>\"Deuterostomia\",\"Phylum\"=>\"Chordata\",\"Subphylum\"=>\"Vertebrata\",\"Infraphylum\"=>\"Gnathostomata\",\"Superclass\"=>\"Actinopterygii\",\"Class\"=>\"Chondrostei\",\"Order\"=>\"Acipenseriformes\",\"Suborder\"=>\"Acipenseroidei\",\"Family\"=>\"Acipenseridae\",\"Subfamily\"=>\"Acipenserinae\",\"Genus\"=>\"Acipenser\",\"Species\"=>\"Acipenser brevirostrum\",\"vernacular:English\"=>\"shortnose sturgeon\"',\n",
       " 'itisSearchURL': 'http://services.itis.gov/?wt=json&rows=10&q=nameWOInd:Acipenser\\\\%20brevirostrum',\n",
       " 'matchMethod': 'ExactMatch:Acipenser brevirostrum',\n",
       " 'scientificname_search': 'Acipenser brevirostrum',\n",
       " 'scientificname_submitted': 'Acipenser brevirostrum'}"
      ]
     },
     "metadata": {},
     "output_type": "display_data"
    },
    {
     "name": "stdout",
     "output_type": "stream",
     "text": [
      "{'success': True, 'auth_check': {'success': True, 'auth_level': None, 'session': None}, '_execution_time': 0.069, 'affected_rows': 1}\n"
     ]
    },
    {
     "data": {
      "text/plain": [
       "{'gid': 2311,\n",
       " 'itisFoundFromExact': 1,\n",
       " 'itisFoundFromFuzzy': 0,\n",
       " 'itisPairs': '\"cacheDate\"=>\"2017-05-06T15:54:56.800796\",\"itisMatchMethod\"=>\"ExactMatch:Hydraecia immanis\",\"createDate\"=>\"2014-05-28 13:57:17\",\"updateDate\"=>\"2014-05-28 00:00:00\",\"discoveredTSN\"=>\"939059\",\"rank\"=>\"Species\",\"nameWInd\"=>\"Hydraecia immanis\",\"nameWOInd\"=>\"Hydraecia immanis\",\"Kingdom\"=>\"Animalia\",\"Subkingdom\"=>\"Bilateria\",\"Infrakingdom\"=>\"Protostomia\",\"Superphylum\"=>\"Ecdysozoa\",\"Phylum\"=>\"Arthropoda\",\"Subphylum\"=>\"Hexapoda\",\"Class\"=>\"Insecta\",\"Subclass\"=>\"Pterygota\",\"Infraclass\"=>\"Neoptera\",\"Superorder\"=>\"Holometabola\",\"Order\"=>\"Lepidoptera\",\"Superfamily\"=>\"Noctuoidea\",\"Family\"=>\"Noctuidae\",\"Subfamily\"=>\"Noctuinae\",\"Tribe\"=>\"Apameini\",\"Genus\"=>\"Hydraecia\",\"Species\"=>\"Hydraecia immanis\",\"vernacular:English\"=>\"Hop Vine Borer Moth\"',\n",
       " 'itisSearchURL': 'http://services.itis.gov/?wt=json&rows=10&q=nameWOInd:Hydraecia\\\\%20immanis',\n",
       " 'matchMethod': 'ExactMatch:Hydraecia immanis',\n",
       " 'scientificname_search': 'Hydraecia immanis',\n",
       " 'scientificname_submitted': 'Hydraecia immanis'}"
      ]
     },
     "metadata": {},
     "output_type": "display_data"
    },
    {
     "name": "stdout",
     "output_type": "stream",
     "text": [
      "{'success': True, 'auth_check': {'success': True, 'auth_level': None, 'session': None}, '_execution_time': 0.07, 'affected_rows': 1}\n"
     ]
    },
    {
     "data": {
      "text/plain": [
       "{'gid': 46,\n",
       " 'itisFoundFromExact': 1,\n",
       " 'itisFoundFromFuzzy': 0,\n",
       " 'itisPairs': '\"cacheDate\"=>\"2017-05-06T15:54:57.784776\",\"itisMatchMethod\"=>\"ExactMatch:Acipenser fulvescens\",\"createDate\"=>\"1996-06-13 14:51:08\",\"updateDate\"=>\"2004-02-23 00:00:00\",\"discoveredTSN\"=>\"161071\",\"rank\"=>\"Species\",\"nameWInd\"=>\"Acipenser fulvescens\",\"nameWOInd\"=>\"Acipenser fulvescens\",\"Kingdom\"=>\"Animalia\",\"Subkingdom\"=>\"Bilateria\",\"Infrakingdom\"=>\"Deuterostomia\",\"Phylum\"=>\"Chordata\",\"Subphylum\"=>\"Vertebrata\",\"Infraphylum\"=>\"Gnathostomata\",\"Superclass\"=>\"Actinopterygii\",\"Class\"=>\"Chondrostei\",\"Order\"=>\"Acipenseriformes\",\"Suborder\"=>\"Acipenseroidei\",\"Family\"=>\"Acipenseridae\",\"Subfamily\"=>\"Acipenserinae\",\"Genus\"=>\"Acipenser\",\"Species\"=>\"Acipenser fulvescens\",\"vernacular:English\"=>\"lake sturgeon\",\"vernacular:French\"=>\"esturgeon jaune\"',\n",
       " 'itisSearchURL': 'http://services.itis.gov/?wt=json&rows=10&q=nameWOInd:Acipenser\\\\%20fulvescens',\n",
       " 'matchMethod': 'ExactMatch:Acipenser fulvescens',\n",
       " 'scientificname_search': 'Acipenser fulvescens',\n",
       " 'scientificname_submitted': 'Acipenser fulvescens'}"
      ]
     },
     "metadata": {},
     "output_type": "display_data"
    },
    {
     "name": "stdout",
     "output_type": "stream",
     "text": [
      "{'success': True, 'auth_check': {'success': True, 'auth_level': None, 'session': None}, '_execution_time': 0.068, 'affected_rows': 1}\n"
     ]
    },
    {
     "data": {
      "text/plain": [
       "{'gid': 2312,\n",
       " 'itisFoundFromExact': 1,\n",
       " 'itisFoundFromFuzzy': 0,\n",
       " 'itisPairs': '\"cacheDate\"=>\"2017-05-06T15:54:58.660926\",\"itisMatchMethod\"=>\"ExactMatch:Hydraecia stramentosa\",\"createDate\"=>\"2014-05-28 13:57:21\",\"updateDate\"=>\"2014-05-28 00:00:00\",\"discoveredTSN\"=>\"939065\",\"rank\"=>\"Species\",\"nameWInd\"=>\"Hydraecia stramentosa\",\"nameWOInd\"=>\"Hydraecia stramentosa\",\"Kingdom\"=>\"Animalia\",\"Subkingdom\"=>\"Bilateria\",\"Infrakingdom\"=>\"Protostomia\",\"Superphylum\"=>\"Ecdysozoa\",\"Phylum\"=>\"Arthropoda\",\"Subphylum\"=>\"Hexapoda\",\"Class\"=>\"Insecta\",\"Subclass\"=>\"Pterygota\",\"Infraclass\"=>\"Neoptera\",\"Superorder\"=>\"Holometabola\",\"Order\"=>\"Lepidoptera\",\"Superfamily\"=>\"Noctuoidea\",\"Family\"=>\"Noctuidae\",\"Subfamily\"=>\"Noctuinae\",\"Tribe\"=>\"Apameini\",\"Genus\"=>\"Hydraecia\",\"Species\"=>\"Hydraecia stramentosa\"',\n",
       " 'itisSearchURL': 'http://services.itis.gov/?wt=json&rows=10&q=nameWOInd:Hydraecia\\\\%20stramentosa',\n",
       " 'matchMethod': 'ExactMatch:Hydraecia stramentosa',\n",
       " 'scientificname_search': 'Hydraecia stramentosa',\n",
       " 'scientificname_submitted': 'Hydraecia stramentosa'}"
      ]
     },
     "metadata": {},
     "output_type": "display_data"
    },
    {
     "name": "stdout",
     "output_type": "stream",
     "text": [
      "{'success': True, 'auth_check': {'success': True, 'auth_level': None, 'session': None}, '_execution_time': 0.059, 'affected_rows': 1}\n"
     ]
    },
    {
     "data": {
      "text/plain": [
       "{'gid': 50,\n",
       " 'itisFoundFromExact': 1,\n",
       " 'itisFoundFromFuzzy': 0,\n",
       " 'itisPairs': '\"cacheDate\"=>\"2017-05-06T15:54:59.515863\",\"itisMatchMethod\"=>\"ExactMatch:Acipenser oxyrhynchus\",\"createDate\"=>\"2000-09-18 16:39:17\",\"updateDate\"=>\"2004-02-23 00:00:00\",\"discoveredTSN\"=>\"573257\",\"rank\"=>\"Species\",\"nameWInd\"=>\"Acipenser oxyrhynchus\",\"nameWOInd\"=>\"Acipenser oxyrhynchus\",\"acceptedTSN\"=>\"553269\",\"Kingdom\"=>\"Animalia\",\"Subkingdom\"=>\"Bilateria\",\"Infrakingdom\"=>\"Deuterostomia\",\"Phylum\"=>\"Chordata\",\"Subphylum\"=>\"Vertebrata\",\"Infraphylum\"=>\"Gnathostomata\",\"Superclass\"=>\"Actinopterygii\",\"Class\"=>\"Chondrostei\",\"Order\"=>\"Acipenseriformes\",\"Suborder\"=>\"Acipenseroidei\",\"Family\"=>\"Acipenseridae\",\"Subfamily\"=>\"Acipenserinae\",\"Genus\"=>\"Acipenser\",\"Species\"=>\"Acipenser oxyrinchus\",\"vernacular:English\"=>\"Atlantic sturgeon\"',\n",
       " 'itisSearchURL': 'http://services.itis.gov/?wt=json&rows=10&q=nameWOInd:Acipenser\\\\%20oxyrhynchus',\n",
       " 'matchMethod': 'ExactMatch:Acipenser oxyrhynchus',\n",
       " 'scientificname_search': 'Acipenser oxyrhynchus',\n",
       " 'scientificname_submitted': 'Acipenser oxyrhynchus'}"
      ]
     },
     "metadata": {},
     "output_type": "display_data"
    },
    {
     "name": "stdout",
     "output_type": "stream",
     "text": [
      "{'success': True, 'auth_check': {'success': True, 'auth_level': None, 'session': None}, '_execution_time': 0.063, 'affected_rows': 1}\n"
     ]
    },
    {
     "data": {
      "text/plain": [
       "{'gid': 2314,\n",
       " 'itisFoundFromExact': 1,\n",
       " 'itisFoundFromFuzzy': 0,\n",
       " 'itisPairs': '\"cacheDate\"=>\"2017-05-06T15:55:00.372874\",\"itisMatchMethod\"=>\"ExactMatch:Hydrastis canadensis\",\"createDate\"=>\"1996-06-13 14:51:08\",\"updateDate\"=>\"2011-06-29 00:00:00\",\"discoveredTSN\"=>\"18781\",\"rank\"=>\"Species\",\"nameWInd\"=>\"Hydrastis canadensis\",\"nameWOInd\"=>\"Hydrastis canadensis\",\"Kingdom\"=>\"Plantae\",\"Subkingdom\"=>\"Viridiplantae\",\"Infrakingdom\"=>\"Streptophyta\",\"Superdivision\"=>\"Embryophyta\",\"Division\"=>\"Tracheophyta\",\"Subdivision\"=>\"Spermatophytina\",\"Class\"=>\"Magnoliopsida\",\"Superorder\"=>\"Ranunculanae\",\"Order\"=>\"Ranunculales\",\"Family\"=>\"Ranunculaceae\",\"Genus\"=>\"Hydrastis\",\"Species\"=>\"Hydrastis canadensis\",\"vernacular:English\"=>\"goldenseal\"',\n",
       " 'itisSearchURL': 'http://services.itis.gov/?wt=json&rows=10&q=nameWOInd:Hydrastis\\\\%20canadensis',\n",
       " 'matchMethod': 'ExactMatch:Hydrastis canadensis',\n",
       " 'scientificname_search': 'Hydrastis canadensis',\n",
       " 'scientificname_submitted': 'Hydrastis canadensis'}"
      ]
     },
     "metadata": {},
     "output_type": "display_data"
    },
    {
     "name": "stdout",
     "output_type": "stream",
     "text": [
      "{'success': True, 'auth_check': {'success': True, 'auth_level': None, 'session': None}, '_execution_time': 0.069, 'affected_rows': 1}\n"
     ]
    },
    {
     "data": {
      "text/plain": [
       "{'gid': 52,\n",
       " 'itisFoundFromExact': 1,\n",
       " 'itisFoundFromFuzzy': 0,\n",
       " 'itisPairs': '\"cacheDate\"=>\"2017-05-06T15:55:01.348141\",\"itisMatchMethod\"=>\"ExactMatch:Acipenser oxyrinchus desotoi\",\"createDate\"=>\"2004-02-23 13:21:38\",\"updateDate\"=>\"2004-02-23 00:00:00\",\"discoveredTSN\"=>\"624005\",\"rank\"=>\"Subspecies\",\"nameWInd\"=>\"Acipenser oxyrinchus desotoi\",\"nameWOInd\"=>\"Acipenser oxyrinchus desotoi\",\"Kingdom\"=>\"Animalia\",\"Subkingdom\"=>\"Bilateria\",\"Infrakingdom\"=>\"Deuterostomia\",\"Phylum\"=>\"Chordata\",\"Subphylum\"=>\"Vertebrata\",\"Infraphylum\"=>\"Gnathostomata\",\"Superclass\"=>\"Actinopterygii\",\"Class\"=>\"Chondrostei\",\"Order\"=>\"Acipenseriformes\",\"Suborder\"=>\"Acipenseroidei\",\"Family\"=>\"Acipenseridae\",\"Subfamily\"=>\"Acipenserinae\",\"Genus\"=>\"Acipenser\",\"Species\"=>\"Acipenser oxyrinchus\",\"Subspecies\"=>\"Acipenser oxyrinchus desotoi\",\"vernacular:English\"=>\"Gulf sturgeon\"',\n",
       " 'itisSearchURL': 'http://services.itis.gov/?wt=json&rows=10&q=nameWOInd:Acipenser\\\\%20oxyrinchus\\\\%20desotoi',\n",
       " 'matchMethod': 'ExactMatch:Acipenser oxyrinchus desotoi',\n",
       " 'scientificname_search': 'Acipenser oxyrinchus desotoi',\n",
       " 'scientificname_submitted': 'Acipenser oxyrinchus desotoi'}"
      ]
     },
     "metadata": {},
     "output_type": "display_data"
    },
    {
     "name": "stdout",
     "output_type": "stream",
     "text": [
      "{'success': True, 'auth_check': {'success': True, 'auth_level': None, 'session': None}, '_execution_time': 0.062, 'affected_rows': 1}\n"
     ]
    },
    {
     "data": {
      "text/plain": [
       "{'gid': 2315,\n",
       " 'itisFoundFromExact': 1,\n",
       " 'itisFoundFromFuzzy': 0,\n",
       " 'itisPairs': '\"cacheDate\"=>\"2017-05-06T15:55:02.224498\",\"itisMatchMethod\"=>\"ExactMatch:Hydrocotyle americana\",\"createDate\"=>\"1996-06-13 14:51:08\",\"updateDate\"=>\"2011-07-25 00:00:00\",\"discoveredTSN\"=>\"29519\",\"rank\"=>\"Species\",\"nameWInd\"=>\"Hydrocotyle americana\",\"nameWOInd\"=>\"Hydrocotyle americana\",\"Kingdom\"=>\"Plantae\",\"Subkingdom\"=>\"Viridiplantae\",\"Infrakingdom\"=>\"Streptophyta\",\"Superdivision\"=>\"Embryophyta\",\"Division\"=>\"Tracheophyta\",\"Subdivision\"=>\"Spermatophytina\",\"Class\"=>\"Magnoliopsida\",\"Superorder\"=>\"Asteranae\",\"Order\"=>\"Apiales\",\"Family\"=>\"Araliaceae\",\"Genus\"=>\"Hydrocotyle\",\"Species\"=>\"Hydrocotyle americana\",\"vernacular:English\"=>\"American marshpennywort\"',\n",
       " 'itisSearchURL': 'http://services.itis.gov/?wt=json&rows=10&q=nameWOInd:Hydrocotyle\\\\%20americana',\n",
       " 'matchMethod': 'ExactMatch:Hydrocotyle americana',\n",
       " 'scientificname_search': 'Hydrocotyle americana',\n",
       " 'scientificname_submitted': 'Hydrocotyle americana'}"
      ]
     },
     "metadata": {},
     "output_type": "display_data"
    },
    {
     "name": "stdout",
     "output_type": "stream",
     "text": [
      "{'success': True, 'auth_check': {'success': True, 'auth_level': None, 'session': None}, '_execution_time': 0.071, 'affected_rows': 1}\n"
     ]
    },
    {
     "data": {
      "text/plain": [
       "{'gid': 54,\n",
       " 'itisFoundFromExact': 1,\n",
       " 'itisFoundFromFuzzy': 0,\n",
       " 'itisPairs': '\"cacheDate\"=>\"2017-05-06T15:55:03.244219\",\"itisMatchMethod\"=>\"ExactMatch:Acipenser transmontanus\",\"createDate\"=>\"1996-06-13 14:51:08\",\"updateDate\"=>\"2004-02-23 00:00:00\",\"discoveredTSN\"=>\"161068\",\"rank\"=>\"Species\",\"nameWInd\"=>\"Acipenser transmontanus\",\"nameWOInd\"=>\"Acipenser transmontanus\",\"Kingdom\"=>\"Animalia\",\"Subkingdom\"=>\"Bilateria\",\"Infrakingdom\"=>\"Deuterostomia\",\"Phylum\"=>\"Chordata\",\"Subphylum\"=>\"Vertebrata\",\"Infraphylum\"=>\"Gnathostomata\",\"Superclass\"=>\"Actinopterygii\",\"Class\"=>\"Chondrostei\",\"Order\"=>\"Acipenseriformes\",\"Suborder\"=>\"Acipenseroidei\",\"Family\"=>\"Acipenseridae\",\"Subfamily\"=>\"Acipenserinae\",\"Genus\"=>\"Acipenser\",\"Species\"=>\"Acipenser transmontanus\",\"vernacular:Spanish\"=>\"esturión blanco\",\"vernacular:English\"=>\"white sturgeon\"',\n",
       " 'itisSearchURL': 'http://services.itis.gov/?wt=json&rows=10&q=nameWOInd:Acipenser\\\\%20transmontanus',\n",
       " 'matchMethod': 'ExactMatch:Acipenser transmontanus',\n",
       " 'scientificname_search': 'Acipenser transmontanus',\n",
       " 'scientificname_submitted': 'Acipenser transmontanus'}"
      ]
     },
     "metadata": {},
     "output_type": "display_data"
    },
    {
     "name": "stdout",
     "output_type": "stream",
     "text": [
      "{'success': True, 'auth_check': {'success': True, 'auth_level': None, 'session': None}, '_execution_time': 0.07, 'affected_rows': 1}\n"
     ]
    },
    {
     "data": {
      "text/plain": [
       "{'gid': 2316,\n",
       " 'itisFoundFromExact': 1,\n",
       " 'itisFoundFromFuzzy': 0,\n",
       " 'itisPairs': '\"cacheDate\"=>\"2017-05-06T15:55:04.138234\",\"itisMatchMethod\"=>\"ExactMatch:Hydrolea corymbosa\",\"createDate\"=>\"1996-06-13 14:51:08\",\"updateDate\"=>\"2011-12-08 00:00:00\",\"discoveredTSN\"=>\"31383\",\"rank\"=>\"Species\",\"nameWInd\"=>\"Hydrolea corymbosa\",\"nameWOInd\"=>\"Hydrolea corymbosa\",\"Kingdom\"=>\"Plantae\",\"Subkingdom\"=>\"Viridiplantae\",\"Infrakingdom\"=>\"Streptophyta\",\"Superdivision\"=>\"Embryophyta\",\"Division\"=>\"Tracheophyta\",\"Subdivision\"=>\"Spermatophytina\",\"Class\"=>\"Magnoliopsida\",\"Superorder\"=>\"Asteranae\",\"Order\"=>\"Solanales\",\"Family\"=>\"Hydroleaceae\",\"Genus\"=>\"Hydrolea\",\"Species\"=>\"Hydrolea corymbosa\",\"vernacular:English\"=>\"skyflower\"',\n",
       " 'itisSearchURL': 'http://services.itis.gov/?wt=json&rows=10&q=nameWOInd:Hydrolea\\\\%20corymbosa',\n",
       " 'matchMethod': 'ExactMatch:Hydrolea corymbosa',\n",
       " 'scientificname_search': 'Hydrolea corymbosa',\n",
       " 'scientificname_submitted': 'Hydrolea corymbosa'}"
      ]
     },
     "metadata": {},
     "output_type": "display_data"
    },
    {
     "name": "stdout",
     "output_type": "stream",
     "text": [
      "{'success': True, 'auth_check': {'success': True, 'auth_level': None, 'session': None}, '_execution_time': 0.069, 'affected_rows': 1}\n"
     ]
    },
    {
     "data": {
      "text/plain": [
       "{'gid': 57,\n",
       " 'itisFoundFromExact': 1,\n",
       " 'itisFoundFromFuzzy': 0,\n",
       " 'itisPairs': '\"cacheDate\"=>\"2017-05-06T15:55:05.006113\",\"itisMatchMethod\"=>\"ExactMatch:Acrocephalus luscinia\",\"createDate\"=>\"1996-06-13 14:51:08\",\"updateDate\"=>\"2013-11-04 00:00:00\",\"discoveredTSN\"=>\"178669\",\"rank\"=>\"Species\",\"nameWInd\"=>\"Acrocephalus luscinia\",\"nameWOInd\"=>\"Acrocephalus luscinia\",\"acceptedTSN\"=>\"916778\",\"Kingdom\"=>\"Animalia\",\"Subkingdom\"=>\"Bilateria\",\"Infrakingdom\"=>\"Deuterostomia\",\"Phylum\"=>\"Chordata\",\"Subphylum\"=>\"Vertebrata\",\"Infraphylum\"=>\"Gnathostomata\",\"Superclass\"=>\"Tetrapoda\",\"Class\"=>\"Aves\",\"Order\"=>\"Passeriformes\",\"Family\"=>\"Acrocephalidae\",\"Genus\"=>\"Acrocephalus\",\"Species\"=>\"Acrocephalus luscinius\",\"vernacular:English\"=>\"Nightingale Reed-Warbler\"',\n",
       " 'itisSearchURL': 'http://services.itis.gov/?wt=json&rows=10&q=nameWOInd:Acrocephalus\\\\%20luscinia',\n",
       " 'matchMethod': 'ExactMatch:Acrocephalus luscinia',\n",
       " 'scientificname_search': 'Acrocephalus luscinia',\n",
       " 'scientificname_submitted': 'Acrocephalus luscinia'}"
      ]
     },
     "metadata": {},
     "output_type": "display_data"
    },
    {
     "name": "stdout",
     "output_type": "stream",
     "text": [
      "{'success': True, 'auth_check': {'success': True, 'auth_level': None, 'session': None}, '_execution_time': 0.07, 'affected_rows': 1}\n"
     ]
    },
    {
     "data": {
      "text/plain": [
       "{'gid': 2317,\n",
       " 'itisFoundFromExact': 1,\n",
       " 'itisFoundFromFuzzy': 0,\n",
       " 'itisPairs': '\"cacheDate\"=>\"2017-05-06T15:55:05.941362\",\"itisMatchMethod\"=>\"ExactMatch:Hydroperla fugitans\",\"createDate\"=>\"1996-06-13 14:51:08\",\"updateDate\"=>\"2002-02-08 00:00:00\",\"discoveredTSN\"=>\"103107\",\"rank\"=>\"Species\",\"nameWInd\"=>\"Hydroperla fugitans\",\"nameWOInd\"=>\"Hydroperla fugitans\",\"Kingdom\"=>\"Animalia\",\"Subkingdom\"=>\"Bilateria\",\"Infrakingdom\"=>\"Protostomia\",\"Superphylum\"=>\"Ecdysozoa\",\"Phylum\"=>\"Arthropoda\",\"Subphylum\"=>\"Hexapoda\",\"Class\"=>\"Insecta\",\"Subclass\"=>\"Pterygota\",\"Infraclass\"=>\"Neoptera\",\"Superorder\"=>\"Polyneoptera\",\"Order\"=>\"Plecoptera\",\"Suborder\"=>\"Systellognatha\",\"Family\"=>\"Perlodidae\",\"Subfamily\"=>\"Perlodinae\",\"Tribe\"=>\"Perlodini\",\"Genus\"=>\"Hydroperla\",\"Species\"=>\"Hydroperla fugitans\"',\n",
       " 'itisSearchURL': 'http://services.itis.gov/?wt=json&rows=10&q=nameWOInd:Hydroperla\\\\%20fugitans',\n",
       " 'matchMethod': 'ExactMatch:Hydroperla fugitans',\n",
       " 'scientificname_search': 'Hydroperla fugitans',\n",
       " 'scientificname_submitted': 'Hydroperla fugitans'}"
      ]
     },
     "metadata": {},
     "output_type": "display_data"
    },
    {
     "name": "stdout",
     "output_type": "stream",
     "text": [
      "{'success': True, 'auth_check': {'success': True, 'auth_level': None, 'session': None}, '_execution_time': 0.065, 'affected_rows': 1}\n"
     ]
    },
    {
     "data": {
      "text/plain": [
       "{'gid': 58,\n",
       " 'itisFoundFromExact': 1,\n",
       " 'itisFoundFromFuzzy': 0,\n",
       " 'itisPairs': '\"cacheDate\"=>\"2017-05-06T15:55:06.835107\",\"itisMatchMethod\"=>\"ExactMatch:Acrolophitus pulchellus\",\"createDate\"=>\"2005-01-06 09:01:28\",\"updateDate\"=>\"2005-01-06 00:00:00\",\"discoveredTSN\"=>\"657829\",\"rank\"=>\"Species\",\"nameWInd\"=>\"Acrolophitus pulchellus\",\"nameWOInd\"=>\"Acrolophitus pulchellus\",\"Kingdom\"=>\"Animalia\",\"Subkingdom\"=>\"Bilateria\",\"Infrakingdom\"=>\"Protostomia\",\"Superphylum\"=>\"Ecdysozoa\",\"Phylum\"=>\"Arthropoda\",\"Subphylum\"=>\"Hexapoda\",\"Class\"=>\"Insecta\",\"Subclass\"=>\"Pterygota\",\"Infraclass\"=>\"Neoptera\",\"Superorder\"=>\"Polyneoptera\",\"Order\"=>\"Orthoptera\",\"Suborder\"=>\"Caelifera\",\"Infraorder\"=>\"Acrididea\",\"Superfamily\"=>\"Acridoidea\",\"Family\"=>\"Acrididae\",\"Subfamily\"=>\"Gomphocerinae\",\"Genus\"=>\"Acrolophitus\",\"Species\"=>\"Acrolophitus pulchellus\"',\n",
       " 'itisSearchURL': 'http://services.itis.gov/?wt=json&rows=10&q=nameWOInd:Acrolophitus\\\\%20pulchellus',\n",
       " 'matchMethod': 'ExactMatch:Acrolophitus pulchellus',\n",
       " 'scientificname_search': 'Acrolophitus pulchellus',\n",
       " 'scientificname_submitted': 'Acrolophitus pulchellus'}"
      ]
     },
     "metadata": {},
     "output_type": "display_data"
    },
    {
     "name": "stdout",
     "output_type": "stream",
     "text": [
      "{'success': True, 'auth_check': {'success': True, 'auth_level': None, 'session': None}, '_execution_time': 0.061, 'affected_rows': 1}\n"
     ]
    },
    {
     "data": {
      "text/plain": [
       "{'gid': 2318,\n",
       " 'itisFoundFromExact': 1,\n",
       " 'itisFoundFromFuzzy': 0,\n",
       " 'itisPairs': '\"cacheDate\"=>\"2017-05-06T15:55:07.872075\",\"itisMatchMethod\"=>\"ExactMatch:Hydrophyllum appendiculatum\",\"createDate\"=>\"1996-06-13 14:51:08\",\"updateDate\"=>\"2011-12-08 00:00:00\",\"discoveredTSN\"=>\"31389\",\"rank\"=>\"Species\",\"nameWInd\"=>\"Hydrophyllum appendiculatum\",\"nameWOInd\"=>\"Hydrophyllum appendiculatum\",\"Kingdom\"=>\"Plantae\",\"Subkingdom\"=>\"Viridiplantae\",\"Infrakingdom\"=>\"Streptophyta\",\"Superdivision\"=>\"Embryophyta\",\"Division\"=>\"Tracheophyta\",\"Subdivision\"=>\"Spermatophytina\",\"Class\"=>\"Magnoliopsida\",\"Superorder\"=>\"Asteranae\",\"Order\"=>\"Boraginales\",\"Family\"=>\"Hydrophyllaceae\",\"Genus\"=>\"Hydrophyllum\",\"Species\"=>\"Hydrophyllum appendiculatum\",\"vernacular:English\"=>\"great waterleaf\"',\n",
       " 'itisSearchURL': 'http://services.itis.gov/?wt=json&rows=10&q=nameWOInd:Hydrophyllum\\\\%20appendiculatum',\n",
       " 'matchMethod': 'ExactMatch:Hydrophyllum appendiculatum',\n",
       " 'scientificname_search': 'Hydrophyllum appendiculatum',\n",
       " 'scientificname_submitted': 'Hydrophyllum appendiculatum'}"
      ]
     },
     "metadata": {},
     "output_type": "display_data"
    },
    {
     "name": "stdout",
     "output_type": "stream",
     "text": [
      "{'success': True, 'auth_check': {'success': True, 'auth_level': None, 'session': None}, '_execution_time': 0.07, 'affected_rows': 1}\n"
     ]
    },
    {
     "data": {
      "text/plain": [
       "{'gid': 11466,\n",
       " 'itisFoundFromExact': 1,\n",
       " 'itisFoundFromFuzzy': 0,\n",
       " 'itisPairs': '\"cacheDate\"=>\"2017-05-06T15:55:08.767151\",\"itisMatchMethod\"=>\"ExactMatch:Isophyllia sinuosa\",\"createDate\"=>\"1996-06-13 14:51:08\",\"updateDate\"=>\"2000-05-23 00:00:00\",\"discoveredTSN\"=>\"53476\",\"rank\"=>\"Species\",\"nameWInd\"=>\"Isophyllia sinuosa\",\"nameWOInd\"=>\"Isophyllia sinuosa\",\"Kingdom\"=>\"Animalia\",\"Subkingdom\"=>\"Radiata\",\"Phylum\"=>\"Cnidaria\",\"Subphylum\"=>\"Anthozoa\",\"Class\"=>\"Anthozoa\",\"Subclass\"=>\"Hexacorallia\",\"Order\"=>\"Scleractinia\",\"Suborder\"=>\"Faviina\",\"Family\"=>\"Mussidae\",\"Genus\"=>\"Isophyllia\",\"Species\"=>\"Isophyllia sinuosa\",\"vernacular:unspecified\"=>\"lesser cactus coral\",\"vernacular:unspecified\"=>\"sinuous cactus coral\"',\n",
       " 'itisSearchURL': 'http://services.itis.gov/?wt=json&rows=10&q=nameWOInd:Isophyllia\\\\%20sinuosa',\n",
       " 'matchMethod': 'ExactMatch:Isophyllia sinuosa',\n",
       " 'scientificname_search': 'Isophyllia sinuosa',\n",
       " 'scientificname_submitted': 'Isophyllia sinuosa '}"
      ]
     },
     "metadata": {},
     "output_type": "display_data"
    },
    {
     "name": "stdout",
     "output_type": "stream",
     "text": [
      "{'success': True, 'auth_check': {'success': True, 'auth_level': None, 'session': None}, '_execution_time': 0.061, 'affected_rows': 1}\n"
     ]
    },
    {
     "data": {
      "text/plain": [
       "{'gid': 1105,\n",
       " 'itisFoundFromExact': 0,\n",
       " 'itisFoundFromFuzzy': 0,\n",
       " 'itisPairs': '\"cacheDate\"=>\"2017-05-06T15:55:09.798705\",\"itisMatchMethod\"=>\"NotMatched:Cicinnus melsheimeri\"',\n",
       " 'itisSearchURL': 'http://services.itis.gov/?wt=json&rows=10&q=nameWOInd:Cicinnus\\\\%20melsheimeri',\n",
       " 'matchMethod': 'NotMatched:Cicinnus melsheimeri',\n",
       " 'scientificname_search': 'Cicinnus melsheimeri',\n",
       " 'scientificname_submitted': 'Cicinnus melsheimeri'}"
      ]
     },
     "metadata": {},
     "output_type": "display_data"
    },
    {
     "name": "stdout",
     "output_type": "stream",
     "text": [
      "{'success': True, 'auth_check': {'success': True, 'auth_level': None, 'session': None}, '_execution_time': 0.067, 'affected_rows': 1}\n"
     ]
    },
    {
     "data": {
      "text/plain": [
       "{'gid': 63,\n",
       " 'itisFoundFromExact': 1,\n",
       " 'itisFoundFromFuzzy': 0,\n",
       " 'itisPairs': '\"cacheDate\"=>\"2017-05-06T15:55:10.755636\",\"itisMatchMethod\"=>\"ExactMatch:Acronicta dolli\",\"createDate\"=>\"2014-05-28 13:39:33\",\"updateDate\"=>\"2014-05-28 00:00:00\",\"discoveredTSN\"=>\"937602\",\"rank\"=>\"Species\",\"nameWInd\"=>\"Acronicta dolli\",\"nameWOInd\"=>\"Acronicta dolli\",\"Kingdom\"=>\"Animalia\",\"Subkingdom\"=>\"Bilateria\",\"Infrakingdom\"=>\"Protostomia\",\"Superphylum\"=>\"Ecdysozoa\",\"Phylum\"=>\"Arthropoda\",\"Subphylum\"=>\"Hexapoda\",\"Class\"=>\"Insecta\",\"Subclass\"=>\"Pterygota\",\"Infraclass\"=>\"Neoptera\",\"Superorder\"=>\"Holometabola\",\"Order\"=>\"Lepidoptera\",\"Superfamily\"=>\"Noctuoidea\",\"Family\"=>\"Noctuidae\",\"Subfamily\"=>\"Acronictinae\",\"Genus\"=>\"Acronicta\",\"Species\"=>\"Acronicta dolli\",\"vernacular:English\"=>\"Doll\\'\\'s Dagger Moth\"',\n",
       " 'itisSearchURL': 'http://services.itis.gov/?wt=json&rows=10&q=nameWOInd:Acronicta\\\\%20dolli',\n",
       " 'matchMethod': 'ExactMatch:Acronicta dolli',\n",
       " 'scientificname_search': 'Acronicta dolli',\n",
       " 'scientificname_submitted': 'Acronicta dolli'}"
      ]
     },
     "metadata": {},
     "output_type": "display_data"
    },
    {
     "name": "stdout",
     "output_type": "stream",
     "text": [
      "{'success': True, 'auth_check': {'success': True, 'auth_level': None, 'session': None}, '_execution_time': 0.069, 'affected_rows': 1}\n"
     ]
    },
    {
     "data": {
      "text/plain": [
       "{'gid': 1100,\n",
       " 'itisFoundFromExact': 1,\n",
       " 'itisFoundFromFuzzy': 0,\n",
       " 'itisPairs': '\"cacheDate\"=>\"2017-05-06T15:55:11.741744\",\"itisMatchMethod\"=>\"ExactMatch:Cicindela splendida\",\"createDate\"=>\"2006-01-17 13:48:59\",\"updateDate\"=>\"2013-12-23 00:00:00\",\"discoveredTSN\"=>\"697740\",\"rank\"=>\"Species\",\"nameWInd\"=>\"Cicindela splendida\",\"nameWOInd\"=>\"Cicindela splendida\",\"Kingdom\"=>\"Animalia\",\"Subkingdom\"=>\"Bilateria\",\"Infrakingdom\"=>\"Protostomia\",\"Superphylum\"=>\"Ecdysozoa\",\"Phylum\"=>\"Arthropoda\",\"Subphylum\"=>\"Hexapoda\",\"Class\"=>\"Insecta\",\"Subclass\"=>\"Pterygota\",\"Infraclass\"=>\"Neoptera\",\"Superorder\"=>\"Holometabola\",\"Order\"=>\"Coleoptera\",\"Suborder\"=>\"Adephaga\",\"Family\"=>\"Carabidae\",\"Subfamily\"=>\"Cicindelinae\",\"Tribe\"=>\"Cicindelini\",\"Genus\"=>\"Cicindela\",\"Subgenus\"=>\"Cicindela (Cicindela)\",\"Species\"=>\"Cicindela splendida\",\"vernacular:English\"=>\"Splendid Tiger Beetle\"',\n",
       " 'itisSearchURL': 'http://services.itis.gov/?wt=json&rows=10&q=nameWOInd:Cicindela\\\\%20splendida',\n",
       " 'matchMethod': 'ExactMatch:Cicindela splendida',\n",
       " 'scientificname_search': 'Cicindela splendida',\n",
       " 'scientificname_submitted': 'Cicindela splendida'}"
      ]
     },
     "metadata": {},
     "output_type": "display_data"
    },
    {
     "name": "stdout",
     "output_type": "stream",
     "text": [
      "{'success': True, 'auth_check': {'success': True, 'auth_level': None, 'session': None}, '_execution_time': 0.063, 'affected_rows': 1}\n"
     ]
    },
    {
     "data": {
      "text/plain": [
       "{'gid': 1106,\n",
       " 'itisFoundFromExact': 1,\n",
       " 'itisFoundFromFuzzy': 0,\n",
       " 'itisPairs': '\"cacheDate\"=>\"2017-05-06T15:55:13.000228\",\"itisMatchMethod\"=>\"ExactMatch:Cicuta maculata var. bolanderi\",\"createDate\"=>\"1996-06-13 14:51:08\",\"updateDate\"=>\"2011-07-25 00:00:00\",\"discoveredTSN\"=>\"182153\",\"rank\"=>\"Variety\",\"nameWInd\"=>\"Cicuta maculata var. bolanderi\",\"nameWOInd\"=>\"Cicuta maculata bolanderi\",\"Kingdom\"=>\"Plantae\",\"Subkingdom\"=>\"Viridiplantae\",\"Infrakingdom\"=>\"Streptophyta\",\"Superdivision\"=>\"Embryophyta\",\"Division\"=>\"Tracheophyta\",\"Subdivision\"=>\"Spermatophytina\",\"Class\"=>\"Magnoliopsida\",\"Superorder\"=>\"Asteranae\",\"Order\"=>\"Apiales\",\"Family\"=>\"Apiaceae\",\"Genus\"=>\"Cicuta\",\"Species\"=>\"Cicuta maculata\",\"Variety\"=>\"Cicuta maculata var. bolanderi\",\"vernacular:English\"=>\"water hemlock\",\"vernacular:English\"=>\"common water hemlock\",\"vernacular:English\"=>\"poison parsnip\",\"vernacular:English\"=>\"spotted cowbane\",\"vernacular:English\"=>\"spotted parsley\",\"vernacular:English\"=>\"Bolander cicuta\",\"vernacular:English\"=>\"spotted water hemlock\"',\n",
       " 'itisSearchURL': 'http://services.itis.gov/?wt=json&rows=10&q=nameWInd:Cicuta\\\\%20maculata\\\\%20var.\\\\%20bolanderi',\n",
       " 'matchMethod': 'ExactMatch:Cicuta maculata var. bolanderi',\n",
       " 'scientificname_search': 'Cicuta maculata var. bolanderi',\n",
       " 'scientificname_submitted': 'Cicuta maculata var. bolanderi'}"
      ]
     },
     "metadata": {},
     "output_type": "display_data"
    },
    {
     "name": "stdout",
     "output_type": "stream",
     "text": [
      "{'success': True, 'auth_check': {'success': True, 'auth_level': None, 'session': None}, '_execution_time': 0.064, 'affected_rows': 1}\n"
     ]
    },
    {
     "data": {
      "text/plain": [
       "{'gid': 1111,\n",
       " 'itisFoundFromExact': 1,\n",
       " 'itisFoundFromFuzzy': 0,\n",
       " 'itisPairs': '\"cacheDate\"=>\"2017-05-06T15:55:13.983945\",\"itisMatchMethod\"=>\"ExactMatch:Cincinnatia ponderosa\",\"createDate\"=>\"1996-06-13 14:51:08\",\"updateDate\"=>\"2001-10-17 00:00:00\",\"discoveredTSN\"=>\"70524\",\"rank\"=>\"Species\",\"nameWInd\"=>\"Cincinnatia ponderosa\",\"nameWOInd\"=>\"Cincinnatia ponderosa\",\"Kingdom\"=>\"Animalia\",\"Subkingdom\"=>\"Bilateria\",\"Infrakingdom\"=>\"Protostomia\",\"Superphylum\"=>\"Lophozoa\",\"Phylum\"=>\"Mollusca\",\"Class\"=>\"Gastropoda\",\"Order\"=>\"Neotaenioglossa\",\"Family\"=>\"Hydrobiidae\",\"Genus\"=>\"Cincinnatia\",\"Species\"=>\"Cincinnatia ponderosa\",\"vernacular:English\"=>\"ponderous siltsnail\"',\n",
       " 'itisSearchURL': 'http://services.itis.gov/?wt=json&rows=10&q=nameWOInd:Cincinnatia\\\\%20ponderosa',\n",
       " 'matchMethod': 'ExactMatch:Cincinnatia ponderosa',\n",
       " 'scientificname_search': 'Cincinnatia ponderosa',\n",
       " 'scientificname_submitted': 'Cincinnatia ponderosa'}"
      ]
     },
     "metadata": {},
     "output_type": "display_data"
    },
    {
     "name": "stdout",
     "output_type": "stream",
     "text": [
      "{'success': True, 'auth_check': {'success': True, 'auth_level': None, 'session': None}, '_execution_time': 0.06, 'affected_rows': 1}\n"
     ]
    },
    {
     "data": {
      "text/plain": [
       "{'gid': 2321,\n",
       " 'itisFoundFromExact': 1,\n",
       " 'itisFoundFromFuzzy': 0,\n",
       " 'itisPairs': '\"cacheDate\"=>\"2017-05-06T15:55:14.839678\",\"itisMatchMethod\"=>\"ExactMatch:Hydroptila molsonae\",\"createDate\"=>\"2001-12-20 15:42:56\",\"updateDate\"=>\"2001-12-20 00:00:00\",\"discoveredTSN\"=>\"606572\",\"rank\"=>\"Species\",\"nameWInd\"=>\"Hydroptila molsonae\",\"nameWOInd\"=>\"Hydroptila molsonae\",\"Kingdom\"=>\"Animalia\",\"Subkingdom\"=>\"Bilateria\",\"Infrakingdom\"=>\"Protostomia\",\"Superphylum\"=>\"Ecdysozoa\",\"Phylum\"=>\"Arthropoda\",\"Subphylum\"=>\"Hexapoda\",\"Class\"=>\"Insecta\",\"Subclass\"=>\"Pterygota\",\"Infraclass\"=>\"Neoptera\",\"Superorder\"=>\"Holometabola\",\"Order\"=>\"Trichoptera\",\"Superfamily\"=>\"Hydroptiloidea\",\"Family\"=>\"Hydroptilidae\",\"Subfamily\"=>\"Hydroptilinae\",\"Tribe\"=>\"Hydroptilini\",\"Genus\"=>\"Hydroptila\",\"Species\"=>\"Hydroptila molsonae\"',\n",
       " 'itisSearchURL': 'http://services.itis.gov/?wt=json&rows=10&q=nameWOInd:Hydroptila\\\\%20molsonae',\n",
       " 'matchMethod': 'ExactMatch:Hydroptila molsonae',\n",
       " 'scientificname_search': 'Hydroptila molsonae',\n",
       " 'scientificname_submitted': 'Hydroptila molsonae'}"
      ]
     },
     "metadata": {},
     "output_type": "display_data"
    },
    {
     "name": "stdout",
     "output_type": "stream",
     "text": [
      "{'success': True, 'auth_check': {'success': True, 'auth_level': None, 'session': None}, '_execution_time': 0.06, 'affected_rows': 1}\n"
     ]
    },
    {
     "data": {
      "text/plain": [
       "{'gid': 64,\n",
       " 'itisFoundFromExact': 1,\n",
       " 'itisFoundFromFuzzy': 0,\n",
       " 'itisPairs': '\"cacheDate\"=>\"2017-05-06T15:55:15.796658\",\"itisMatchMethod\"=>\"ExactMatch:Acropora cervicornis\",\"createDate\"=>\"1996-06-13 14:51:08\",\"updateDate\"=>\"2000-05-23 00:00:00\",\"discoveredTSN\"=>\"52862\",\"rank\"=>\"Species\",\"nameWInd\"=>\"Acropora cervicornis\",\"nameWOInd\"=>\"Acropora cervicornis\",\"Kingdom\"=>\"Animalia\",\"Subkingdom\"=>\"Radiata\",\"Phylum\"=>\"Cnidaria\",\"Subphylum\"=>\"Anthozoa\",\"Class\"=>\"Anthozoa\",\"Subclass\"=>\"Hexacorallia\",\"Order\"=>\"Scleractinia\",\"Suborder\"=>\"Astrocoeniina\",\"Family\"=>\"Acroporidae\",\"Genus\"=>\"Acropora\",\"Species\"=>\"Acropora cervicornis\",\"vernacular:unspecified\"=>\"staghorn coral\"',\n",
       " 'itisSearchURL': 'http://services.itis.gov/?wt=json&rows=10&q=nameWOInd:Acropora\\\\%20cervicornis',\n",
       " 'matchMethod': 'ExactMatch:Acropora cervicornis',\n",
       " 'scientificname_search': 'Acropora cervicornis',\n",
       " 'scientificname_submitted': 'Acropora cervicornis'}"
      ]
     },
     "metadata": {},
     "output_type": "display_data"
    },
    {
     "name": "stdout",
     "output_type": "stream",
     "text": [
      "{'success': True, 'auth_check': {'success': True, 'auth_level': None, 'session': None}, '_execution_time': 0.068, 'affected_rows': 1}\n"
     ]
    },
    {
     "data": {
      "text/plain": [
       "{'gid': 2322,\n",
       " 'itisFoundFromExact': 1,\n",
       " 'itisFoundFromFuzzy': 0,\n",
       " 'itisPairs': '\"cacheDate\"=>\"2017-05-06T15:55:16.938969\",\"itisMatchMethod\"=>\"ExactMatch:Hydroptila wakulla\",\"createDate\"=>\"1996-06-13 14:51:08\",\"updateDate\"=>\"2001-12-20 00:00:00\",\"discoveredTSN\"=>\"115693\",\"rank\"=>\"Species\",\"nameWInd\"=>\"Hydroptila wakulla\",\"nameWOInd\"=>\"Hydroptila wakulla\",\"Kingdom\"=>\"Animalia\",\"Subkingdom\"=>\"Bilateria\",\"Infrakingdom\"=>\"Protostomia\",\"Superphylum\"=>\"Ecdysozoa\",\"Phylum\"=>\"Arthropoda\",\"Subphylum\"=>\"Hexapoda\",\"Class\"=>\"Insecta\",\"Subclass\"=>\"Pterygota\",\"Infraclass\"=>\"Neoptera\",\"Superorder\"=>\"Holometabola\",\"Order\"=>\"Trichoptera\",\"Superfamily\"=>\"Hydroptiloidea\",\"Family\"=>\"Hydroptilidae\",\"Subfamily\"=>\"Hydroptilinae\",\"Tribe\"=>\"Hydroptilini\",\"Genus\"=>\"Hydroptila\",\"Species\"=>\"Hydroptila wakulla\"',\n",
       " 'itisSearchURL': 'http://services.itis.gov/?wt=json&rows=10&q=nameWOInd:Hydroptila\\\\%20wakulla',\n",
       " 'matchMethod': 'ExactMatch:Hydroptila wakulla',\n",
       " 'scientificname_search': 'Hydroptila wakulla',\n",
       " 'scientificname_submitted': 'Hydroptila wakulla'}"
      ]
     },
     "metadata": {},
     "output_type": "display_data"
    },
    {
     "name": "stdout",
     "output_type": "stream",
     "text": [
      "{'success': True, 'auth_check': {'success': True, 'auth_level': None, 'session': None}, '_execution_time': 0.067, 'affected_rows': 1}\n"
     ]
    },
    {
     "data": {
      "text/plain": [
       "{'gid': 65,\n",
       " 'itisFoundFromExact': 1,\n",
       " 'itisFoundFromFuzzy': 0,\n",
       " 'itisPairs': '\"cacheDate\"=>\"2017-05-06T15:55:17.831669\",\"itisMatchMethod\"=>\"ExactMatch:Acropora palmata\",\"createDate\"=>\"1996-06-13 14:51:08\",\"updateDate\"=>\"2000-05-23 00:00:00\",\"discoveredTSN\"=>\"52861\",\"rank\"=>\"Species\",\"nameWInd\"=>\"Acropora palmata\",\"nameWOInd\"=>\"Acropora palmata\",\"Kingdom\"=>\"Animalia\",\"Subkingdom\"=>\"Radiata\",\"Phylum\"=>\"Cnidaria\",\"Subphylum\"=>\"Anthozoa\",\"Class\"=>\"Anthozoa\",\"Subclass\"=>\"Hexacorallia\",\"Order\"=>\"Scleractinia\",\"Suborder\"=>\"Astrocoeniina\",\"Family\"=>\"Acroporidae\",\"Genus\"=>\"Acropora\",\"Species\"=>\"Acropora palmata\",\"vernacular:unspecified\"=>\"elkhorn coral\"',\n",
       " 'itisSearchURL': 'http://services.itis.gov/?wt=json&rows=10&q=nameWOInd:Acropora\\\\%20palmata',\n",
       " 'matchMethod': 'ExactMatch:Acropora palmata',\n",
       " 'scientificname_search': 'Acropora palmata',\n",
       " 'scientificname_submitted': 'Acropora palmata'}"
      ]
     },
     "metadata": {},
     "output_type": "display_data"
    },
    {
     "name": "stdout",
     "output_type": "stream",
     "text": [
      "{'success': True, 'auth_check': {'success': True, 'auth_level': None, 'session': None}, '_execution_time': 0.059, 'affected_rows': 1}\n"
     ]
    },
    {
     "data": {
      "text/plain": [
       "{'gid': 2323,\n",
       " 'itisFoundFromExact': 1,\n",
       " 'itisFoundFromFuzzy': 0,\n",
       " 'itisPairs': '\"cacheDate\"=>\"2017-05-06T15:55:18.862472\",\"itisMatchMethod\"=>\"ExactMatch:Hygrohypnum closteri\",\"createDate\"=>\"1996-06-13 14:51:08\",\"updateDate\"=>\"2001-10-17 00:00:00\",\"discoveredTSN\"=>\"16208\",\"rank\"=>\"Species\",\"nameWInd\"=>\"Hygrohypnum closteri\",\"nameWOInd\"=>\"Hygrohypnum closteri\",\"Kingdom\"=>\"Plantae\",\"Subkingdom\"=>\"Viridiplantae\",\"Infrakingdom\"=>\"Streptophyta\",\"Superdivision\"=>\"Embryophyta\",\"Division\"=>\"Bryophyta\",\"Class\"=>\"Bryopsida\",\"Subclass\"=>\"Bryidae\",\"Order\"=>\"Hypnales\",\"Family\"=>\"Amblystegiaceae\",\"Genus\"=>\"Hygrohypnum\",\"Species\"=>\"Hygrohypnum closteri\",\"vernacular:unspecified\"=>\"hygrohypnum moss\"',\n",
       " 'itisSearchURL': 'http://services.itis.gov/?wt=json&rows=10&q=nameWOInd:Hygrohypnum\\\\%20closteri',\n",
       " 'matchMethod': 'ExactMatch:Hygrohypnum closteri',\n",
       " 'scientificname_search': 'Hygrohypnum closteri',\n",
       " 'scientificname_submitted': 'Hygrohypnum closteri'}"
      ]
     },
     "metadata": {},
     "output_type": "display_data"
    },
    {
     "name": "stdout",
     "output_type": "stream",
     "text": [
      "{'success': True, 'auth_check': {'success': True, 'auth_level': None, 'session': None}, '_execution_time': 0.065, 'affected_rows': 1}\n"
     ]
    },
    {
     "data": {
      "text/plain": [
       "{'gid': 66,\n",
       " 'itisFoundFromExact': 1,\n",
       " 'itisFoundFromFuzzy': 0,\n",
       " 'itisPairs': '\"cacheDate\"=>\"2017-05-06T15:55:19.771406\",\"itisMatchMethod\"=>\"ExactMatch:Actaea pachypoda\",\"createDate\"=>\"1996-06-13 14:51:08\",\"updateDate\"=>\"2011-06-29 00:00:00\",\"discoveredTSN\"=>\"18722\",\"rank\"=>\"Species\",\"nameWInd\"=>\"Actaea pachypoda\",\"nameWOInd\"=>\"Actaea pachypoda\",\"Kingdom\"=>\"Plantae\",\"Subkingdom\"=>\"Viridiplantae\",\"Infrakingdom\"=>\"Streptophyta\",\"Superdivision\"=>\"Embryophyta\",\"Division\"=>\"Tracheophyta\",\"Subdivision\"=>\"Spermatophytina\",\"Class\"=>\"Magnoliopsida\",\"Superorder\"=>\"Ranunculanae\",\"Order\"=>\"Ranunculales\",\"Family\"=>\"Ranunculaceae\",\"Genus\"=>\"Actaea\",\"Species\"=>\"Actaea pachypoda\",\"vernacular:unspecified\"=>\"baneberry\",\"vernacular:English\"=>\"white baneberry\"',\n",
       " 'itisSearchURL': 'http://services.itis.gov/?wt=json&rows=10&q=nameWOInd:Actaea\\\\%20pachypoda',\n",
       " 'matchMethod': 'ExactMatch:Actaea pachypoda',\n",
       " 'scientificname_search': 'Actaea pachypoda',\n",
       " 'scientificname_submitted': 'Actaea pachypoda'}"
      ]
     },
     "metadata": {},
     "output_type": "display_data"
    },
    {
     "name": "stdout",
     "output_type": "stream",
     "text": [
      "{'success': True, 'auth_check': {'success': True, 'auth_level': None, 'session': None}, '_execution_time': 0.07, 'affected_rows': 1}\n"
     ]
    },
    {
     "data": {
      "text/plain": [
       "{'gid': 2325,\n",
       " 'itisFoundFromExact': 1,\n",
       " 'itisFoundFromFuzzy': 0,\n",
       " 'itisPairs': '\"cacheDate\"=>\"2017-05-06T15:55:20.688805\",\"itisMatchMethod\"=>\"ExactMatch:Hygrohypnum luridum\",\"createDate\"=>\"1996-06-13 14:51:08\",\"updateDate\"=>\"2001-10-17 00:00:00\",\"discoveredTSN\"=>\"16201\",\"rank\"=>\"Species\",\"nameWInd\"=>\"Hygrohypnum luridum\",\"nameWOInd\"=>\"Hygrohypnum luridum\",\"Kingdom\"=>\"Plantae\",\"Subkingdom\"=>\"Viridiplantae\",\"Infrakingdom\"=>\"Streptophyta\",\"Superdivision\"=>\"Embryophyta\",\"Division\"=>\"Bryophyta\",\"Class\"=>\"Bryopsida\",\"Subclass\"=>\"Bryidae\",\"Order\"=>\"Hypnales\",\"Family\"=>\"Amblystegiaceae\",\"Genus\"=>\"Hygrohypnum\",\"Species\"=>\"Hygrohypnum luridum\",\"vernacular:unspecified\"=>\"hygrohypnum moss\"',\n",
       " 'itisSearchURL': 'http://services.itis.gov/?wt=json&rows=10&q=nameWOInd:Hygrohypnum\\\\%20luridum',\n",
       " 'matchMethod': 'ExactMatch:Hygrohypnum luridum',\n",
       " 'scientificname_search': 'Hygrohypnum luridum',\n",
       " 'scientificname_submitted': 'Hygrohypnum luridum'}"
      ]
     },
     "metadata": {},
     "output_type": "display_data"
    },
    {
     "name": "stdout",
     "output_type": "stream",
     "text": [
      "{'success': True, 'auth_check': {'success': True, 'auth_level': None, 'session': None}, '_execution_time': 0.068, 'affected_rows': 1}\n"
     ]
    },
    {
     "data": {
      "text/plain": [
       "{'gid': 70,\n",
       " 'itisFoundFromExact': 1,\n",
       " 'itisFoundFromFuzzy': 0,\n",
       " 'itisPairs': '\"cacheDate\"=>\"2017-05-06T15:55:21.683667\",\"itisMatchMethod\"=>\"ExactMatch:Actitis macularia\",\"createDate\"=>\"1996-06-13 14:51:08\",\"updateDate\"=>\"2011-09-22 00:00:00\",\"discoveredTSN\"=>\"176612\",\"rank\"=>\"Species\",\"nameWInd\"=>\"Actitis macularia\",\"nameWOInd\"=>\"Actitis macularia\",\"acceptedTSN\"=>\"726049\",\"Kingdom\"=>\"Animalia\",\"Subkingdom\"=>\"Bilateria\",\"Infrakingdom\"=>\"Deuterostomia\",\"Phylum\"=>\"Chordata\",\"Subphylum\"=>\"Vertebrata\",\"Infraphylum\"=>\"Gnathostomata\",\"Superclass\"=>\"Tetrapoda\",\"Class\"=>\"Aves\",\"Order\"=>\"Charadriiformes\",\"Family\"=>\"Scolopacidae\",\"Genus\"=>\"Actitis\",\"Species\"=>\"Actitis macularius\",\"vernacular:Spanish\"=>\"Playero alzacolita\",\"vernacular:English\"=>\"Spotted Sandpiper\",\"vernacular:French\"=>\"chevalier grivelé\"',\n",
       " 'itisSearchURL': 'http://services.itis.gov/?wt=json&rows=10&q=nameWOInd:Actitis\\\\%20macularia',\n",
       " 'matchMethod': 'ExactMatch:Actitis macularia',\n",
       " 'scientificname_search': 'Actitis macularia',\n",
       " 'scientificname_submitted': 'Actitis macularia'}"
      ]
     },
     "metadata": {},
     "output_type": "display_data"
    },
    {
     "name": "stdout",
     "output_type": "stream",
     "text": [
      "{'success': True, 'auth_check': {'success': True, 'auth_level': None, 'session': None}, '_execution_time': 0.068, 'affected_rows': 1}\n"
     ]
    },
    {
     "data": {
      "text/plain": [
       "{'gid': 2327,\n",
       " 'itisFoundFromExact': 1,\n",
       " 'itisFoundFromFuzzy': 0,\n",
       " 'itisPairs': '\"cacheDate\"=>\"2017-05-06T15:55:22.575018\",\"itisMatchMethod\"=>\"ExactMatch:Hygrohypnum molle\",\"createDate\"=>\"1996-06-13 14:51:08\",\"updateDate\"=>\"2001-10-17 00:00:00\",\"discoveredTSN\"=>\"16205\",\"rank\"=>\"Species\",\"nameWInd\"=>\"Hygrohypnum molle\",\"nameWOInd\"=>\"Hygrohypnum molle\",\"Kingdom\"=>\"Plantae\",\"Subkingdom\"=>\"Viridiplantae\",\"Infrakingdom\"=>\"Streptophyta\",\"Superdivision\"=>\"Embryophyta\",\"Division\"=>\"Bryophyta\",\"Class\"=>\"Bryopsida\",\"Subclass\"=>\"Bryidae\",\"Order\"=>\"Hypnales\",\"Family\"=>\"Amblystegiaceae\",\"Genus\"=>\"Hygrohypnum\",\"Species\"=>\"Hygrohypnum molle\",\"vernacular:unspecified\"=>\"hygrohypnum moss\"',\n",
       " 'itisSearchURL': 'http://services.itis.gov/?wt=json&rows=10&q=nameWOInd:Hygrohypnum\\\\%20molle',\n",
       " 'matchMethod': 'ExactMatch:Hygrohypnum molle',\n",
       " 'scientificname_search': 'Hygrohypnum molle',\n",
       " 'scientificname_submitted': 'Hygrohypnum molle'}"
      ]
     },
     "metadata": {},
     "output_type": "display_data"
    },
    {
     "name": "stdout",
     "output_type": "stream",
     "text": [
      "{'success': True, 'auth_check': {'success': True, 'auth_level': None, 'session': None}, '_execution_time': 0.065, 'affected_rows': 1}\n"
     ]
    },
    {
     "data": {
      "text/plain": [
       "{'gid': 71,\n",
       " 'itisFoundFromExact': 1,\n",
       " 'itisFoundFromFuzzy': 0,\n",
       " 'itisPairs': '\"cacheDate\"=>\"2017-05-06T15:55:23.566851\",\"itisMatchMethod\"=>\"ExactMatch:Actitis macularius\",\"createDate\"=>\"2007-07-17 15:30:15\",\"updateDate\"=>\"2011-09-22 00:00:00\",\"discoveredTSN\"=>\"726049\",\"rank\"=>\"Species\",\"nameWInd\"=>\"Actitis macularius\",\"nameWOInd\"=>\"Actitis macularius\",\"Kingdom\"=>\"Animalia\",\"Subkingdom\"=>\"Bilateria\",\"Infrakingdom\"=>\"Deuterostomia\",\"Phylum\"=>\"Chordata\",\"Subphylum\"=>\"Vertebrata\",\"Infraphylum\"=>\"Gnathostomata\",\"Superclass\"=>\"Tetrapoda\",\"Class\"=>\"Aves\",\"Order\"=>\"Charadriiformes\",\"Family\"=>\"Scolopacidae\",\"Genus\"=>\"Actitis\",\"Species\"=>\"Actitis macularius\",\"vernacular:French\"=>\"Chevalier grivelé\",\"vernacular:English\"=>\"Spotted Sandpiper\"',\n",
       " 'itisSearchURL': 'http://services.itis.gov/?wt=json&rows=10&q=nameWOInd:Actitis\\\\%20macularius',\n",
       " 'matchMethod': 'ExactMatch:Actitis macularius',\n",
       " 'scientificname_search': 'Actitis macularius',\n",
       " 'scientificname_submitted': 'Actitis macularius'}"
      ]
     },
     "metadata": {},
     "output_type": "display_data"
    },
    {
     "name": "stdout",
     "output_type": "stream",
     "text": [
      "{'success': True, 'auth_check': {'success': True, 'auth_level': None, 'session': None}, '_execution_time': 0.07, 'affected_rows': 1}\n"
     ]
    },
    {
     "data": {
      "text/plain": [
       "{'gid': 2328,\n",
       " 'itisFoundFromExact': 1,\n",
       " 'itisFoundFromFuzzy': 0,\n",
       " 'itisPairs': '\"cacheDate\"=>\"2017-05-06T15:55:24.915406\",\"itisMatchMethod\"=>\"ExactMatch:Hygrohypnum montanum\",\"createDate\"=>\"1996-06-13 14:51:08\",\"updateDate\"=>\"2001-10-17 00:00:00\",\"discoveredTSN\"=>\"16200\",\"rank\"=>\"Species\",\"nameWInd\"=>\"Hygrohypnum montanum\",\"nameWOInd\"=>\"Hygrohypnum montanum\",\"Kingdom\"=>\"Plantae\",\"Subkingdom\"=>\"Viridiplantae\",\"Infrakingdom\"=>\"Streptophyta\",\"Superdivision\"=>\"Embryophyta\",\"Division\"=>\"Bryophyta\",\"Class\"=>\"Bryopsida\",\"Subclass\"=>\"Bryidae\",\"Order\"=>\"Hypnales\",\"Family\"=>\"Amblystegiaceae\",\"Genus\"=>\"Hygrohypnum\",\"Species\"=>\"Hygrohypnum montanum\",\"vernacular:unspecified\"=>\"montane hygrohypnum moss\"',\n",
       " 'itisSearchURL': 'http://services.itis.gov/?wt=json&rows=10&q=nameWOInd:Hygrohypnum\\\\%20montanum',\n",
       " 'matchMethod': 'ExactMatch:Hygrohypnum montanum',\n",
       " 'scientificname_search': 'Hygrohypnum montanum',\n",
       " 'scientificname_submitted': 'Hygrohypnum montanum'}"
      ]
     },
     "metadata": {},
     "output_type": "display_data"
    },
    {
     "name": "stdout",
     "output_type": "stream",
     "text": [
      "{'success': True, 'auth_check': {'success': True, 'auth_level': None, 'session': None}, '_execution_time': 0.07, 'affected_rows': 1}\n"
     ]
    },
    {
     "data": {
      "text/plain": [
       "{'gid': 72,\n",
       " 'itisFoundFromExact': 1,\n",
       " 'itisFoundFromFuzzy': 0,\n",
       " 'itisPairs': '\"cacheDate\"=>\"2017-05-06T15:55:25.987530\",\"itisMatchMethod\"=>\"ExactMatch:Acyrtops beryllinus\",\"createDate\"=>\"1996-06-13 14:51:08\",\"updateDate\"=>\"2004-09-20 00:00:00\",\"discoveredTSN\"=>\"164472\",\"rank\"=>\"Species\",\"nameWInd\"=>\"Acyrtops beryllinus\",\"nameWOInd\"=>\"Acyrtops beryllinus\",\"Kingdom\"=>\"Animalia\",\"Subkingdom\"=>\"Bilateria\",\"Infrakingdom\"=>\"Deuterostomia\",\"Phylum\"=>\"Chordata\",\"Subphylum\"=>\"Vertebrata\",\"Infraphylum\"=>\"Gnathostomata\",\"Superclass\"=>\"Actinopterygii\",\"Class\"=>\"Teleostei\",\"Superorder\"=>\"Acanthopterygii\",\"Order\"=>\"Perciformes\",\"Suborder\"=>\"Gobiesocoidei\",\"Family\"=>\"Gobiesocidae\",\"Genus\"=>\"Acyrtops\",\"Species\"=>\"Acyrtops beryllinus\",\"vernacular:Spanish\"=>\"pequita esmerilada\",\"vernacular:English\"=>\"emerald clingfish\"',\n",
       " 'itisSearchURL': 'http://services.itis.gov/?wt=json&rows=10&q=nameWOInd:Acyrtops\\\\%20beryllinus',\n",
       " 'matchMethod': 'ExactMatch:Acyrtops beryllinus',\n",
       " 'scientificname_search': 'Acyrtops beryllinus',\n",
       " 'scientificname_submitted': 'Acyrtops beryllinus'}"
      ]
     },
     "metadata": {},
     "output_type": "display_data"
    },
    {
     "name": "stdout",
     "output_type": "stream",
     "text": [
      "{'success': True, 'auth_check': {'success': True, 'auth_level': None, 'session': None}, '_execution_time': 0.069, 'affected_rows': 1}\n"
     ]
    },
    {
     "data": {
      "text/plain": [
       "{'gid': 10928,\n",
       " 'itisFoundFromExact': 0,\n",
       " 'itisFoundFromFuzzy': 0,\n",
       " 'itisPairs': '\"cacheDate\"=>\"2017-05-06T15:55:27.170350\",\"itisMatchMethod\"=>\"NotMatched:Eutamias cinereicollis\"',\n",
       " 'itisSearchURL': 'http://services.itis.gov/?wt=json&rows=10&q=nameWOInd:Eutamias\\\\%20cinereicollis',\n",
       " 'matchMethod': 'NotMatched:Eutamias cinereicollis',\n",
       " 'scientificname_search': 'Eutamias cinereicollis',\n",
       " 'scientificname_submitted': 'Eutamias cinereicollis'}"
      ]
     },
     "metadata": {},
     "output_type": "display_data"
    },
    {
     "name": "stdout",
     "output_type": "stream",
     "text": [
      "{'success': True, 'auth_check': {'success': True, 'auth_level': None, 'session': None}, '_execution_time': 0.067, 'affected_rows': 1}\n"
     ]
    },
    {
     "data": {
      "text/plain": [
       "{'gid': 1433,\n",
       " 'itisFoundFromExact': 2,\n",
       " 'itisFoundFromFuzzy': 0,\n",
       " 'itisPairs': '\"cacheDate\"=>\"2017-05-06T15:55:28.224221\",\"itisMatchMethod\"=>\"NotMatched:Deschampsia flexuosa\"',\n",
       " 'itisSearchURL': 'http://services.itis.gov/?wt=json&rows=10&q=nameWOInd:Deschampsia\\\\%20flexuosa',\n",
       " 'matchMethod': 'NotMatched:Deschampsia flexuosa',\n",
       " 'scientificname_search': 'Deschampsia flexuosa',\n",
       " 'scientificname_submitted': 'Deschampsia flexuosa'}"
      ]
     },
     "metadata": {},
     "output_type": "display_data"
    },
    {
     "name": "stdout",
     "output_type": "stream",
     "text": [
      "{'success': True, 'auth_check': {'success': True, 'auth_level': None, 'session': None}, '_execution_time': 0.07, 'affected_rows': 1}\n"
     ]
    },
    {
     "data": {
      "text/plain": [
       "{'gid': 1444,\n",
       " 'itisFoundFromExact': 0,\n",
       " 'itisFoundFromFuzzy': 0,\n",
       " 'itisPairs': '\"cacheDate\"=>\"2017-05-06T15:55:29.409913\",\"itisMatchMethod\"=>\"NotMatched:Desmognathus cf. conanti\"',\n",
       " 'itisSearchURL': 'http://services.itis.gov/?wt=json&rows=10&q=nameWOInd:Desmognathus\\\\%20cf.\\\\%20conanti',\n",
       " 'matchMethod': 'NotMatched:Desmognathus cf. conanti',\n",
       " 'scientificname_search': 'Desmognathus cf. conanti',\n",
       " 'scientificname_submitted': 'Desmognathus cf. conanti'}"
      ]
     },
     "metadata": {},
     "output_type": "display_data"
    },
    {
     "name": "stdout",
     "output_type": "stream",
     "text": [
      "{'success': True, 'auth_check': {'success': True, 'auth_level': None, 'session': None}, '_execution_time': 0.067, 'affected_rows': 1}\n"
     ]
    },
    {
     "data": {
      "text/plain": [
       "{'gid': 1451,\n",
       " 'itisFoundFromExact': 0,\n",
       " 'itisFoundFromFuzzy': 0,\n",
       " 'itisPairs': '\"cacheDate\"=>\"2017-05-06T15:55:30.693724\",\"itisMatchMethod\"=>\"NotMatched:Diapensia lapponica ssp. lapponica\"',\n",
       " 'itisSearchURL': 'http://services.itis.gov/?wt=json&rows=10&q=nameWInd:Diapensia\\\\%20lapponica\\\\%20ssp.\\\\%20lapponica',\n",
       " 'matchMethod': 'NotMatched:Diapensia lapponica ssp. lapponica',\n",
       " 'scientificname_search': 'Diapensia lapponica ssp. lapponica',\n",
       " 'scientificname_submitted': 'Diapensia lapponica ssp. lapponica'}"
      ]
     },
     "metadata": {},
     "output_type": "display_data"
    },
    {
     "name": "stdout",
     "output_type": "stream",
     "text": [
      "{'success': True, 'auth_check': {'success': True, 'auth_level': None, 'session': None}, '_execution_time': 0.071, 'affected_rows': 1}\n"
     ]
    },
    {
     "data": {
      "text/plain": [
       "{'gid': 1410,\n",
       " 'itisFoundFromExact': 0,\n",
       " 'itisFoundFromFuzzy': 1,\n",
       " 'itisPairs': '\"cacheDate\"=>\"2017-05-06T15:55:31.837084\",\"itisMatchMethod\"=>\"FuzzyMatch:Demochelys coriacea\",\"createDate\"=>\"1996-06-13 14:51:08\",\"updateDate\"=>\"2014-08-27 00:00:00\",\"discoveredTSN\"=>\"173843\",\"rank\"=>\"Species\",\"nameWInd\"=>\"Dermochelys coriacea\",\"nameWOInd\"=>\"Dermochelys coriacea\",\"Kingdom\"=>\"Animalia\",\"Subkingdom\"=>\"Bilateria\",\"Infrakingdom\"=>\"Deuterostomia\",\"Phylum\"=>\"Chordata\",\"Subphylum\"=>\"Vertebrata\",\"Infraphylum\"=>\"Gnathostomata\",\"Superclass\"=>\"Tetrapoda\",\"Class\"=>\"Reptilia\",\"Order\"=>\"Testudines\",\"Suborder\"=>\"Cryptodira\",\"Superfamily\"=>\"Chelonioidea\",\"Family\"=>\"Dermochelyidae\",\"Genus\"=>\"Dermochelys\",\"Species\"=>\"Dermochelys coriacea\",\"vernacular:English\"=>\"leatherback turtle\",\"vernacular:English\"=>\"Leatherback\",\"vernacular:Spanish\"=>\"Tortuga-marina laúd\",\"vernacular:English\"=>\"tinglar\",\"vernacular:French\"=>\"tortue luth\",\"vernacular:English\"=>\"Leatherback Sea Turtle\"',\n",
       " 'itisSearchURL': 'http://services.itis.gov/?wt=json&rows=10&q=nameWOInd:Demochelys\\\\%20coriacea',\n",
       " 'matchMethod': 'FuzzyMatch:Demochelys coriacea',\n",
       " 'scientificname_search': 'Demochelys coriacea',\n",
       " 'scientificname_submitted': 'Demochelys coriacea'}"
      ]
     },
     "metadata": {},
     "output_type": "display_data"
    },
    {
     "name": "stdout",
     "output_type": "stream",
     "text": [
      "{'success': True, 'auth_check': {'success': True, 'auth_level': None, 'session': None}, '_execution_time': 0.072, 'affected_rows': 1}\n"
     ]
    },
    {
     "data": {
      "text/plain": [
       "{'gid': 1421,\n",
       " 'itisFoundFromExact': 1,\n",
       " 'itisFoundFromFuzzy': 0,\n",
       " 'itisPairs': '\"cacheDate\"=>\"2017-05-06T15:55:32.712009\",\"itisMatchMethod\"=>\"ExactMatch:Dendroica dominica stoddardi\",\"createDate\"=>\"1996-06-13 14:51:08\",\"updateDate\"=>\"2014-09-17 00:00:00\",\"discoveredTSN\"=>\"178908\",\"rank\"=>\"Subspecies\",\"nameWInd\"=>\"Dendroica dominica stoddardi\",\"nameWOInd\"=>\"Dendroica dominica stoddardi\",\"acceptedTSN\"=>\"950195\",\"Kingdom\"=>\"Animalia\",\"Subkingdom\"=>\"Bilateria\",\"Infrakingdom\"=>\"Deuterostomia\",\"Phylum\"=>\"Chordata\",\"Subphylum\"=>\"Vertebrata\",\"Infraphylum\"=>\"Gnathostomata\",\"Superclass\"=>\"Tetrapoda\",\"Class\"=>\"Aves\",\"Order\"=>\"Passeriformes\",\"Family\"=>\"Parulidae\",\"Genus\"=>\"Setophaga\",\"Species\"=>\"Setophaga dominica\",\"Subspecies\"=>\"Setophaga dominica stoddardi\"',\n",
       " 'itisSearchURL': 'http://services.itis.gov/?wt=json&rows=10&q=nameWOInd:Dendroica\\\\%20dominica\\\\%20stoddardi',\n",
       " 'matchMethod': 'ExactMatch:Dendroica dominica stoddardi',\n",
       " 'scientificname_search': 'Dendroica dominica stoddardi',\n",
       " 'scientificname_submitted': 'Dendroica dominica stoddardi'}"
      ]
     },
     "metadata": {},
     "output_type": "display_data"
    },
    {
     "name": "stdout",
     "output_type": "stream",
     "text": [
      "{'success': True, 'auth_check': {'success': True, 'auth_level': None, 'session': None}, '_execution_time': 0.067, 'affected_rows': 1}\n"
     ]
    },
    {
     "data": {
      "text/plain": [
       "{'gid': 82,\n",
       " 'itisFoundFromExact': 1,\n",
       " 'itisFoundFromFuzzy': 0,\n",
       " 'itisPairs': '\"cacheDate\"=>\"2017-05-06T15:55:33.582313\",\"itisMatchMethod\"=>\"ExactMatch:Aerodramus vanikorensis bartschi\",\"createDate\"=>\"1996-06-13 14:51:08\",\"updateDate\"=>\"2007-06-13 00:00:00\",\"discoveredTSN\"=>\"202275\",\"rank\"=>\"Subspecies\",\"nameWInd\"=>\"Aerodramus vanikorensis bartschi\",\"nameWOInd\"=>\"Aerodramus vanikorensis bartschi\",\"acceptedTSN\"=>\"554964\",\"Kingdom\"=>\"Animalia\",\"Subkingdom\"=>\"Bilateria\",\"Infrakingdom\"=>\"Deuterostomia\",\"Phylum\"=>\"Chordata\",\"Subphylum\"=>\"Vertebrata\",\"Infraphylum\"=>\"Gnathostomata\",\"Superclass\"=>\"Tetrapoda\",\"Class\"=>\"Aves\",\"Order\"=>\"Apodiformes\",\"Family\"=>\"Apodidae\",\"Subfamily\"=>\"Apodinae\",\"Genus\"=>\"Aerodramus\",\"Species\"=>\"Aerodramus bartschi\",\"vernacular:English\"=>\"Mariana Gray Swiftlet\",\"vernacular:unspecified\"=>\"Vanikoro\"',\n",
       " 'itisSearchURL': 'http://services.itis.gov/?wt=json&rows=10&q=nameWOInd:Aerodramus\\\\%20vanikorensis\\\\%20bartschi',\n",
       " 'matchMethod': 'ExactMatch:Aerodramus vanikorensis bartschi',\n",
       " 'scientificname_search': 'Aerodramus vanikorensis bartschi',\n",
       " 'scientificname_submitted': 'Aerodramus vanikorensis bartschi'}"
      ]
     },
     "metadata": {},
     "output_type": "display_data"
    },
    {
     "name": "stdout",
     "output_type": "stream",
     "text": [
      "{'success': True, 'auth_check': {'success': True, 'auth_level': None, 'session': None}, '_execution_time': 0.066, 'affected_rows': 1}\n"
     ]
    },
    {
     "data": {
      "text/plain": [
       "{'gid': 2331,\n",
       " 'itisFoundFromExact': 1,\n",
       " 'itisFoundFromFuzzy': 0,\n",
       " 'itisPairs': '\"cacheDate\"=>\"2017-05-06T15:55:34.563215\",\"itisMatchMethod\"=>\"ExactMatch:Hyla andersonii\",\"createDate\"=>\"1996-06-13 14:51:08\",\"updateDate\"=>\"2009-09-01 00:00:00\",\"discoveredTSN\"=>\"173509\",\"rank\"=>\"Species\",\"nameWInd\"=>\"Hyla andersonii\",\"nameWOInd\"=>\"Hyla andersonii\",\"Kingdom\"=>\"Animalia\",\"Subkingdom\"=>\"Bilateria\",\"Infrakingdom\"=>\"Deuterostomia\",\"Phylum\"=>\"Chordata\",\"Subphylum\"=>\"Vertebrata\",\"Infraphylum\"=>\"Gnathostomata\",\"Superclass\"=>\"Tetrapoda\",\"Class\"=>\"Amphibia\",\"Order\"=>\"Anura\",\"Family\"=>\"Hylidae\",\"Subfamily\"=>\"Hylinae\",\"Genus\"=>\"Hyla\",\"Species\"=>\"Hyla andersonii\",\"vernacular:English\"=>\"Pine Barrens Treefrog\"',\n",
       " 'itisSearchURL': 'http://services.itis.gov/?wt=json&rows=10&q=nameWOInd:Hyla\\\\%20andersonii',\n",
       " 'matchMethod': 'ExactMatch:Hyla andersonii',\n",
       " 'scientificname_search': 'Hyla andersonii',\n",
       " 'scientificname_submitted': 'Hyla andersonii'}"
      ]
     },
     "metadata": {},
     "output_type": "display_data"
    },
    {
     "name": "stdout",
     "output_type": "stream",
     "text": [
      "{'success': True, 'auth_check': {'success': True, 'auth_level': None, 'session': None}, '_execution_time': 0.06, 'affected_rows': 1}\n"
     ]
    },
    {
     "data": {
      "text/plain": [
       "{'gid': 90,\n",
       " 'itisFoundFromExact': 1,\n",
       " 'itisFoundFromFuzzy': 0,\n",
       " 'itisPairs': '\"cacheDate\"=>\"2017-05-06T15:55:36.012920\",\"itisMatchMethod\"=>\"ExactMatch:Aeshna sitchensis\",\"createDate\"=>\"1996-06-13 14:51:08\",\"updateDate\"=>\"2007-04-11 00:00:00\",\"discoveredTSN\"=>\"185983\",\"rank\"=>\"Species\",\"nameWInd\"=>\"Aeshna sitchensis\",\"nameWOInd\"=>\"Aeshna sitchensis\",\"Kingdom\"=>\"Animalia\",\"Subkingdom\"=>\"Bilateria\",\"Infrakingdom\"=>\"Protostomia\",\"Superphylum\"=>\"Ecdysozoa\",\"Phylum\"=>\"Arthropoda\",\"Subphylum\"=>\"Hexapoda\",\"Class\"=>\"Insecta\",\"Subclass\"=>\"Pterygota\",\"Infraclass\"=>\"Palaeoptera\",\"Order\"=>\"Odonata\",\"Suborder\"=>\"Anisoptera\",\"Family\"=>\"Aeshnidae\",\"Genus\"=>\"Aeshna\",\"Species\"=>\"Aeshna sitchensis\",\"vernacular:English\"=>\"Zigzag Darner\"',\n",
       " 'itisSearchURL': 'http://services.itis.gov/?wt=json&rows=10&q=nameWOInd:Aeshna\\\\%20sitchensis',\n",
       " 'matchMethod': 'ExactMatch:Aeshna sitchensis',\n",
       " 'scientificname_search': 'Aeshna sitchensis',\n",
       " 'scientificname_submitted': 'Aeshna sitchensis'}"
      ]
     },
     "metadata": {},
     "output_type": "display_data"
    },
    {
     "name": "stdout",
     "output_type": "stream",
     "text": [
      "{'success': True, 'auth_check': {'success': True, 'auth_level': None, 'session': None}, '_execution_time': 0.065, 'affected_rows': 1}\n"
     ]
    },
    {
     "data": {
      "text/plain": [
       "{'gid': 2332,\n",
       " 'itisFoundFromExact': 1,\n",
       " 'itisFoundFromFuzzy': 0,\n",
       " 'itisPairs': '\"cacheDate\"=>\"2017-05-06T15:55:37.284079\",\"itisMatchMethod\"=>\"ExactMatch:Hyla avivoca\",\"createDate\"=>\"1996-06-13 14:51:08\",\"updateDate\"=>\"2009-09-01 00:00:00\",\"discoveredTSN\"=>\"173511\",\"rank\"=>\"Species\",\"nameWInd\"=>\"Hyla avivoca\",\"nameWOInd\"=>\"Hyla avivoca\",\"Kingdom\"=>\"Animalia\",\"Subkingdom\"=>\"Bilateria\",\"Infrakingdom\"=>\"Deuterostomia\",\"Phylum\"=>\"Chordata\",\"Subphylum\"=>\"Vertebrata\",\"Infraphylum\"=>\"Gnathostomata\",\"Superclass\"=>\"Tetrapoda\",\"Class\"=>\"Amphibia\",\"Order\"=>\"Anura\",\"Family\"=>\"Hylidae\",\"Subfamily\"=>\"Hylinae\",\"Genus\"=>\"Hyla\",\"Species\"=>\"Hyla avivoca\",\"vernacular:English\"=>\"Bird-voiced Treefrog\"',\n",
       " 'itisSearchURL': 'http://services.itis.gov/?wt=json&rows=10&q=nameWOInd:Hyla\\\\%20avivoca',\n",
       " 'matchMethod': 'ExactMatch:Hyla avivoca',\n",
       " 'scientificname_search': 'Hyla avivoca',\n",
       " 'scientificname_submitted': 'Hyla avivoca'}"
      ]
     },
     "metadata": {},
     "output_type": "display_data"
    },
    {
     "name": "stdout",
     "output_type": "stream",
     "text": [
      "{'success': True, 'auth_check': {'success': True, 'auth_level': None, 'session': None}, '_execution_time': 0.069, 'affected_rows': 1}\n"
     ]
    },
    {
     "data": {
      "text/plain": [
       "{'gid': 96,\n",
       " 'itisFoundFromExact': 1,\n",
       " 'itisFoundFromFuzzy': 0,\n",
       " 'itisPairs': '\"cacheDate\"=>\"2017-05-06T15:55:38.378073\",\"itisMatchMethod\"=>\"ExactMatch:Agalinis maritima\",\"createDate\"=>\"1996-06-13 14:51:08\",\"updateDate\"=>\"2011-09-22 00:00:00\",\"discoveredTSN\"=>\"33008\",\"rank\"=>\"Species\",\"nameWInd\"=>\"Agalinis maritima\",\"nameWOInd\"=>\"Agalinis maritima\",\"Kingdom\"=>\"Plantae\",\"Subkingdom\"=>\"Viridiplantae\",\"Infrakingdom\"=>\"Streptophyta\",\"Superdivision\"=>\"Embryophyta\",\"Division\"=>\"Tracheophyta\",\"Subdivision\"=>\"Spermatophytina\",\"Class\"=>\"Magnoliopsida\",\"Superorder\"=>\"Asteranae\",\"Order\"=>\"Lamiales\",\"Family\"=>\"Orobanchaceae\",\"Genus\"=>\"Agalinis\",\"Species\"=>\"Agalinis maritima\",\"vernacular:unspecified\"=>\"seaside gerardia\",\"vernacular:English\"=>\"saltmarsh false foxglove\"',\n",
       " 'itisSearchURL': 'http://services.itis.gov/?wt=json&rows=10&q=nameWOInd:Agalinis\\\\%20maritima',\n",
       " 'matchMethod': 'ExactMatch:Agalinis maritima',\n",
       " 'scientificname_search': 'Agalinis maritima',\n",
       " 'scientificname_submitted': 'Agalinis maritima'}"
      ]
     },
     "metadata": {},
     "output_type": "display_data"
    },
    {
     "name": "stdout",
     "output_type": "stream",
     "text": [
      "{'success': True, 'auth_check': {'success': True, 'auth_level': None, 'session': None}, '_execution_time': 0.069, 'affected_rows': 1}\n"
     ]
    },
    {
     "data": {
      "text/plain": [
       "{'gid': 2341,\n",
       " 'itisFoundFromExact': 1,\n",
       " 'itisFoundFromFuzzy': 0,\n",
       " 'itisPairs': '\"cacheDate\"=>\"2017-05-06T15:55:39.399570\",\"itisMatchMethod\"=>\"ExactMatch:Hymenocallis coronaria\",\"createDate\"=>\"1996-11-04 17:57:08\",\"updateDate\"=>\"2011-02-24 00:00:00\",\"discoveredTSN\"=>\"514958\",\"rank\"=>\"Species\",\"nameWInd\"=>\"Hymenocallis coronaria\",\"nameWOInd\"=>\"Hymenocallis coronaria\",\"Kingdom\"=>\"Plantae\",\"Subkingdom\"=>\"Viridiplantae\",\"Infrakingdom\"=>\"Streptophyta\",\"Superdivision\"=>\"Embryophyta\",\"Division\"=>\"Tracheophyta\",\"Subdivision\"=>\"Spermatophytina\",\"Class\"=>\"Magnoliopsida\",\"Superorder\"=>\"Lilianae\",\"Order\"=>\"Asparagales\",\"Family\"=>\"Amaryllidaceae\",\"Genus\"=>\"Hymenocallis\",\"Species\"=>\"Hymenocallis coronaria\",\"vernacular:English\"=>\"shoals spiderlily\",\"vernacular:English\"=>\"cahaba-lily\",\"vernacular:English\"=>\"Shoals spider-lily\"',\n",
       " 'itisSearchURL': 'http://services.itis.gov/?wt=json&rows=10&q=nameWOInd:Hymenocallis\\\\%20coronaria',\n",
       " 'matchMethod': 'ExactMatch:Hymenocallis coronaria',\n",
       " 'scientificname_search': 'Hymenocallis coronaria',\n",
       " 'scientificname_submitted': 'Hymenocallis coronaria'}"
      ]
     },
     "metadata": {},
     "output_type": "display_data"
    },
    {
     "name": "stdout",
     "output_type": "stream",
     "text": [
      "{'success': True, 'auth_check': {'success': True, 'auth_level': None, 'session': None}, '_execution_time': 0.068, 'affected_rows': 1}\n"
     ]
    },
    {
     "data": {
      "text/plain": [
       "{'gid': 98,\n",
       " 'itisFoundFromExact': 1,\n",
       " 'itisFoundFromFuzzy': 0,\n",
       " 'itisPairs': '\"cacheDate\"=>\"2017-05-06T15:55:40.485198\",\"itisMatchMethod\"=>\"ExactMatch:Agalinis tenuifolia var. macrophylla\",\"createDate\"=>\"1996-06-13 14:51:08\",\"updateDate\"=>\"2011-09-22 00:00:00\",\"discoveredTSN\"=>\"184871\",\"rank\"=>\"Variety\",\"nameWInd\"=>\"Agalinis tenuifolia var. macrophylla\",\"nameWOInd\"=>\"Agalinis tenuifolia macrophylla\",\"acceptedTSN\"=>\"33036\",\"Kingdom\"=>\"Plantae\",\"Subkingdom\"=>\"Viridiplantae\",\"Infrakingdom\"=>\"Streptophyta\",\"Superdivision\"=>\"Embryophyta\",\"Division\"=>\"Tracheophyta\",\"Subdivision\"=>\"Spermatophytina\",\"Class\"=>\"Magnoliopsida\",\"Superorder\"=>\"Asteranae\",\"Order\"=>\"Lamiales\",\"Family\"=>\"Orobanchaceae\",\"Genus\"=>\"Agalinis\",\"Species\"=>\"Agalinis tenuifolia\",\"vernacular:English\"=>\"slenderleaf false foxglove\"',\n",
       " 'itisSearchURL': 'http://services.itis.gov/?wt=json&rows=10&q=nameWInd:Agalinis\\\\%20tenuifolia\\\\%20var.\\\\%20macrophylla',\n",
       " 'matchMethod': 'ExactMatch:Agalinis tenuifolia var. macrophylla',\n",
       " 'scientificname_search': 'Agalinis tenuifolia var. macrophylla',\n",
       " 'scientificname_submitted': 'Agalinis tenuifolia var. macrophylla'}"
      ]
     },
     "metadata": {},
     "output_type": "display_data"
    },
    {
     "name": "stdout",
     "output_type": "stream",
     "text": [
      "{'success': True, 'auth_check': {'success': True, 'auth_level': None, 'session': None}, '_execution_time': 0.069, 'affected_rows': 1}\n"
     ]
    },
    {
     "data": {
      "text/plain": [
       "{'gid': 2342,\n",
       " 'itisFoundFromExact': 1,\n",
       " 'itisFoundFromFuzzy': 0,\n",
       " 'itisPairs': '\"cacheDate\"=>\"2017-05-06T15:55:41.411792\",\"itisMatchMethod\"=>\"ExactMatch:Hymenophyllum tayloriae\",\"createDate\"=>\"1996-11-04 17:57:08\",\"updateDate\"=>\"2011-05-27 00:00:00\",\"discoveredTSN\"=>\"507015\",\"rank\"=>\"Species\",\"nameWInd\"=>\"Hymenophyllum tayloriae\",\"nameWOInd\"=>\"Hymenophyllum tayloriae\",\"Kingdom\"=>\"Plantae\",\"Subkingdom\"=>\"Viridiplantae\",\"Infrakingdom\"=>\"Streptophyta\",\"Superdivision\"=>\"Embryophyta\",\"Division\"=>\"Tracheophyta\",\"Subdivision\"=>\"Polypodiophytina\",\"Class\"=>\"Polypodiopsida\",\"Subclass\"=>\"Polypodiidae\",\"Order\"=>\"Hymenophyllales\",\"Family\"=>\"Hymenophyllaceae\",\"Genus\"=>\"Hymenophyllum\",\"Species\"=>\"Hymenophyllum tayloriae\",\"vernacular:English\"=>\"Taylor\\'\\'s filmy fern\"',\n",
       " 'itisSearchURL': 'http://services.itis.gov/?wt=json&rows=10&q=nameWOInd:Hymenophyllum\\\\%20tayloriae',\n",
       " 'matchMethod': 'ExactMatch:Hymenophyllum tayloriae',\n",
       " 'scientificname_search': 'Hymenophyllum tayloriae',\n",
       " 'scientificname_submitted': 'Hymenophyllum tayloriae'}"
      ]
     },
     "metadata": {},
     "output_type": "display_data"
    },
    {
     "name": "stdout",
     "output_type": "stream",
     "text": [
      "{'success': True, 'auth_check': {'success': True, 'auth_level': None, 'session': None}, '_execution_time': 0.069, 'affected_rows': 1}\n"
     ]
    },
    {
     "data": {
      "text/plain": [
       "{'gid': 111,\n",
       " 'itisFoundFromExact': 1,\n",
       " 'itisFoundFromFuzzy': 0,\n",
       " 'itisPairs': '\"cacheDate\"=>\"2017-05-06T15:55:42.396299\",\"itisMatchMethod\"=>\"ExactMatch:Agkistrodon piscivorus\",\"createDate\"=>\"1996-06-13 14:51:08\",\"updateDate\"=>\"2005-07-29 00:00:00\",\"discoveredTSN\"=>\"174299\",\"rank\"=>\"Species\",\"nameWInd\"=>\"Agkistrodon piscivorus\",\"nameWOInd\"=>\"Agkistrodon piscivorus\",\"Kingdom\"=>\"Animalia\",\"Subkingdom\"=>\"Bilateria\",\"Infrakingdom\"=>\"Deuterostomia\",\"Phylum\"=>\"Chordata\",\"Subphylum\"=>\"Vertebrata\",\"Infraphylum\"=>\"Gnathostomata\",\"Superclass\"=>\"Tetrapoda\",\"Class\"=>\"Reptilia\",\"Order\"=>\"Squamata\",\"Suborder\"=>\"Serpentes\",\"Infraorder\"=>\"Alethinophidia\",\"Family\"=>\"Viperidae\",\"Subfamily\"=>\"Crotalinae\",\"Genus\"=>\"Agkistrodon\",\"Species\"=>\"Agkistrodon piscivorus\",\"vernacular:English\"=>\"Cottonmouth\"',\n",
       " 'itisSearchURL': 'http://services.itis.gov/?wt=json&rows=10&q=nameWOInd:Agkistrodon\\\\%20piscivorus',\n",
       " 'matchMethod': 'ExactMatch:Agkistrodon piscivorus',\n",
       " 'scientificname_search': 'Agkistrodon piscivorus',\n",
       " 'scientificname_submitted': 'Agkistrodon piscivorus'}"
      ]
     },
     "metadata": {},
     "output_type": "display_data"
    },
    {
     "name": "stdout",
     "output_type": "stream",
     "text": [
      "{'success': True, 'auth_check': {'success': True, 'auth_level': None, 'session': None}, '_execution_time': 0.068, 'affected_rows': 1}\n"
     ]
    }
   ],
   "source": [
    "for feature in uniqueNames[\"features\"]:\n",
    "    # Set up a local data structure for storage and processing\n",
    "    thisRecord = {}\n",
    "    \n",
    "    # Set data from query results\n",
    "    thisRecord[\"gid\"] = feature[\"properties\"][\"gid\"]\n",
    "    thisRecord[\"scientificname_submitted\"] = feature[\"properties\"][\"scientificname\"]\n",
    "    thisRecord[\"scientificname_search\"] = cleanScientificName(thisRecord[\"scientificname_submitted\"])\n",
    "    \n",
    "    # Set defaults for thisRecord\n",
    "    thisRecord[\"itisFoundFromFuzzy\"] = 0\n",
    "    thisRecord[\"matchMethod\"] = \"NotMatched:\"+thisRecord[\"scientificname_search\"]\n",
    "    thisRecord[\"itisPairs\"] = packageITISPairs(thisRecord[\"matchMethod\"],0)\n",
    "\n",
    "    # Handle the cases where there is enough interesting stuff in the scientific name string that it comes back blank from the cleaners\n",
    "    if len(thisRecord[\"scientificname_search\"]) != 0:\n",
    "        # The ITIS Solr service does not fail in an elegant way, and so we need to try this whole section and except it out if the query fails\n",
    "        try:\n",
    "            thisRecord[\"itisSearchURL\"] = getITISSearchURL(thisRecord[\"scientificname_search\"])\n",
    "\n",
    "            # Try an exact match search\n",
    "            itisSearchResults = requests.get(thisRecord[\"itisSearchURL\"]).json()\n",
    "            thisRecord[\"itisFoundFromExact\"] = itisSearchResults[\"response\"][\"numFound\"]\n",
    "\n",
    "            # Try a fuzzy match search and set match method\n",
    "            if thisRecord[\"itisFoundFromExact\"] == 0:\n",
    "                itisSearchResults = requests.get(thisRecord[\"itisSearchURL\"]+\"~0.5\").json()\n",
    "                thisRecord[\"itisFoundFromFuzzy\"] = itisSearchResults[\"response\"][\"numFound\"]\n",
    "                if thisRecord[\"itisFoundFromFuzzy\"] == 1:\n",
    "                    thisRecord[\"matchMethod\"] = \"FuzzyMatch:\"+thisRecord[\"scientificname_search\"]\n",
    "            elif thisRecord[\"itisFoundFromExact\"] == 1:\n",
    "                thisRecord[\"matchMethod\"] = \"ExactMatch:\"+thisRecord[\"scientificname_search\"]\n",
    "\n",
    "            # If there are results from exact or fuzzy match search, package the ITIS properties we want\n",
    "            if itisSearchResults[\"response\"][\"numFound\"] == 1:\n",
    "                thisRecord[\"itisPairs\"] = packageITISPairs(thisRecord[\"matchMethod\"],itisSearchResults)\n",
    "            else:\n",
    "                thisRecord[\"itisPairs\"] = packageITISPairs(thisRecord[\"matchMethod\"],0)\n",
    "        except:\n",
    "            pass\n",
    "    \n",
    "    display (thisRecord)\n",
    "    print (cacheToTIR(thisRecord[\"gid\"],\"itis\",thisRecord[\"itisPairs\"]))\n"
   ]
  },
  {
   "cell_type": "code",
   "execution_count": null,
   "metadata": {
    "collapsed": true
   },
   "outputs": [],
   "source": []
  }
 ],
 "metadata": {
  "kernelspec": {
   "display_name": "Python 3",
   "language": "python",
   "name": "python3"
  },
  "language_info": {
   "codemirror_mode": {
    "name": "ipython",
    "version": 3
   },
   "file_extension": ".py",
   "mimetype": "text/x-python",
   "name": "python",
   "nbconvert_exporter": "python",
   "pygments_lexer": "ipython3",
   "version": "3.5.3"
  }
 },
 "nbformat": 4,
 "nbformat_minor": 0
}
