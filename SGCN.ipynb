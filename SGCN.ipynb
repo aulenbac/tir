{
 "cells": [
  {
   "cell_type": "markdown",
   "metadata": {
    "deletable": true,
    "editable": true
   },
   "source": [
    "This notebook builds out a set of SGCN-specific annotations in the TIR based on configuration files housed on the SGCN source repository item in ScienceBase. It aligns taxonomic groups with a logical set of higher taxonomy names, setting all others to \"other\" if not found in the config file. It then uses a cached list of the original species names identified for the 2005 SWAP exercise to flag taxa that should be included in that list. We use the preferred taxonomic group in the national and state lists for display and filtering, and we use the hard list of 2005 species to flag them to the \"National List\" for consistency when our current process of checking taxonomic authorities (ITIS and WoRMS) does not turn up the names.\n",
    "\n",
    "Note that this entire script needs to run in sequence. Because we are coming into this from the standpoint of external config files, it is much more efficient to use targeted SQL statements to update a whole set of records at a time in the TIR as opposed to looping every TIR record and pulling information from the config files."
   ]
  },
  {
   "cell_type": "code",
   "execution_count": 1,
   "metadata": {
    "collapsed": true,
    "deletable": true,
    "editable": true
   },
   "outputs": [],
   "source": [
    "import requests,json\n",
    "from IPython.display import display\n",
    "import pandas as pd\n",
    "from bis2 import gc2"
   ]
  },
  {
   "cell_type": "code",
   "execution_count": 2,
   "metadata": {
    "collapsed": true,
    "deletable": true,
    "editable": true
   },
   "outputs": [],
   "source": [
    "# Set up the actions/targets for this particular instance\n",
    "thisRun = {}\n",
    "thisRun[\"instance\"] = \"DataDistillery\"\n",
    "thisRun[\"db\"] = \"BCB\"\n",
    "thisRun[\"baseURL\"] = gc2.sqlAPI(thisRun[\"instance\"],thisRun[\"db\"])\n",
    "thisRun[\"commitToDB\"] = True\n",
    "thisRun[\"resetSGCN\"] = False"
   ]
  },
  {
   "cell_type": "code",
   "execution_count": 3,
   "metadata": {
    "collapsed": false,
    "deletable": true,
    "editable": true
   },
   "outputs": [],
   "source": [
    "# Reset SGCN annotation in TIR\n",
    "if thisRun[\"resetSGCN\"]:\n",
    "    print (requests.get(gc2.sqlAPI(\"DataDistillery\",\"BCB\")+\"&q=UPDATE tir.tir SET sgcn = NULL\").json())"
   ]
  },
  {
   "cell_type": "code",
   "execution_count": 4,
   "metadata": {
    "collapsed": false,
    "deletable": true,
    "editable": true
   },
   "outputs": [],
   "source": [
    "# Retrieve information from stored files on the SGCN base repository item\n",
    "sb_sgcnCollectionItem = requests.get(\"https://www.sciencebase.gov/catalog/item/56d720ece4b015c306f442d5?format=json&fields=files\").json()\n",
    "\n",
    "for file in sb_sgcnCollectionItem[\"files\"]:\n",
    "    if file[\"title\"] == \"Configuration:Taxonomic Group Mappings\":\n",
    "        tgMappings = pd.read_table(file[\"url\"], sep=\",\", encoding=\"utf-8\")\n",
    "    elif file[\"title\"] == \"Original 2005 SWAP National List for reference\":\n",
    "        swap2005 = pd.read_table(file[\"url\"])"
   ]
  },
  {
   "cell_type": "code",
   "execution_count": 5,
   "metadata": {
    "collapsed": false,
    "deletable": true,
    "editable": true
   },
   "outputs": [],
   "source": [
    "# Insert the tax group name we want to use for any cases where the corresponding names are found from submitted data\n",
    "if thisRun[\"resetSGCN\"]:\n",
    "    for index, row in tgMappings.iterrows():\n",
    "        providedName = str(row[\"ProvidedName\"])\n",
    "        preferredName = str(row[\"PreferredName\"])\n",
    "        sgcnAnnotationDict = {}\n",
    "        sgcnAnnotationDict[\"taxonomicgroup\"] = preferredName\n",
    "        print (providedName, preferredName)\n",
    "        q_updateGroups = \"UPDATE tir.tir SET sgcn = '\"+json.dumps(sgcnAnnotationDict)+\"' WHERE registration->>'taxonomicgroups' LIKE '%\"+providedName+\"%' OR registration->>'taxonomicgroups' LIKE '%\"+preferredName+\"%'\"\n",
    "        r = requests.get(gc2.sqlAPI(\"DataDistillery\",\"BCB\")+\"&q=\"+q_updateGroups).json()\n",
    "\n",
    "        # Deal with really stupid problem with \"Ec\" and \"Ce\" are throwing a fit with PostgreSQL\n",
    "        # Strip first character from the provided name and try the query again\n",
    "        while \"message\" in r.keys():\n",
    "            providedName = providedName[1:]\n",
    "            print (providedName, preferredName)\n",
    "            q_updateGroups = \"UPDATE tir.tir SET sgcn = '\"+json.dumps(sgcnAnnotationDict)+\"' WHERE registration->>'taxonomicgroups' LIKE '%\"+providedName+\"%' OR registration->>'taxonomicgroups' LIKE '%\"+preferredName+\"%'\"\n",
    "            r =  requests.get(gc2.sqlAPI(\"DataDistillery\",\"BCB\")+\"&q=\"+q_updateGroups).json()"
   ]
  },
  {
   "cell_type": "code",
   "execution_count": 6,
   "metadata": {
    "collapsed": false,
    "deletable": true,
    "editable": true
   },
   "outputs": [],
   "source": [
    "# Add \"other\" as the taxonomic group for anything left over\n",
    "if thisRun[\"resetSGCN\"]:\n",
    "    sgcnAnnotationDict = {}\n",
    "    sgcnAnnotationDict[\"taxonomicgroup\"] = \"other\"\n",
    "    q_updateOther = \"UPDATE tir.tir SET sgcn = '\"+json.dumps(sgcnAnnotationDict)+\"' WHERE sgcn IS NULL\"\n",
    "    r = requests.get(gc2.sqlAPI(\"DataDistillery\",\"BCB\")+\"&q=\"+q_updateOther).json()\n",
    "    print (\"Other\", r[\"affected_rows\"])"
   ]
  },
  {
   "cell_type": "code",
   "execution_count": 7,
   "metadata": {
    "collapsed": false,
    "deletable": true,
    "editable": true,
    "scrolled": true
   },
   "outputs": [
    {
     "data": {
      "text/plain": [
       "{'id': 27489,\n",
       " 'kv_swap2005': '\"swap2005\"=>\"false\"',\n",
       " 'scientificname_tir': 'Harpanthus scutatus'}"
      ]
     },
     "metadata": {},
     "output_type": "display_data"
    },
    {
     "name": "stdout",
     "output_type": "stream",
     "text": [
      "{'affected_rows': 1, 'success': True, 'auth_check': {'session': None, 'auth_level': None, 'success': True}, '_execution_time': 0.072}\n"
     ]
    },
    {
     "data": {
      "text/plain": [
       "{'id': 26090,\n",
       " 'kv_swap2005': '\"swap2005\"=>\"true\"',\n",
       " 'scientificname_tir': 'Erophylla sezekorni'}"
      ]
     },
     "metadata": {},
     "output_type": "display_data"
    },
    {
     "name": "stdout",
     "output_type": "stream",
     "text": [
      "{'affected_rows': 1, 'success': True, 'auth_check': {'session': None, 'auth_level': None, 'success': True}, '_execution_time': 0.064}\n"
     ]
    },
    {
     "data": {
      "text/plain": [
       "{'id': 21168,\n",
       " 'kv_swap2005': '\"swap2005\"=>\"true\"',\n",
       " 'scientificname_tir': 'Andrena blennospermatis'}"
      ]
     },
     "metadata": {},
     "output_type": "display_data"
    },
    {
     "name": "stdout",
     "output_type": "stream",
     "text": [
      "{'affected_rows': 1, 'success': True, 'auth_check': {'session': None, 'auth_level': None, 'success': True}, '_execution_time': 0.065}\n"
     ]
    },
    {
     "data": {
      "text/plain": [
       "{'id': 36772,\n",
       " 'kv_swap2005': '\"swap2005\"=>\"false\"',\n",
       " 'scientificname_tir': 'Thysanophoridae'}"
      ]
     },
     "metadata": {},
     "output_type": "display_data"
    },
    {
     "name": "stdout",
     "output_type": "stream",
     "text": [
      "{'affected_rows': 1, 'success': True, 'auth_check': {'session': None, 'auth_level': None, 'success': True}, '_execution_time': 0.066}\n"
     ]
    },
    {
     "data": {
      "text/plain": [
       "{'id': 26099,\n",
       " 'kv_swap2005': '\"swap2005\"=>\"false\"',\n",
       " 'scientificname_tir': 'Eryngium aquaticum var. ravenelii'}"
      ]
     },
     "metadata": {},
     "output_type": "display_data"
    },
    {
     "name": "stdout",
     "output_type": "stream",
     "text": [
      "{'affected_rows': 1, 'success': True, 'auth_check': {'session': None, 'auth_level': None, 'success': True}, '_execution_time': 0.066}\n"
     ]
    },
    {
     "data": {
      "text/plain": [
       "{'id': 27164,\n",
       " 'kv_swap2005': '\"swap2005\"=>\"true\"',\n",
       " 'scientificname_tir': 'Glyphyalinia virginica'}"
      ]
     },
     "metadata": {},
     "output_type": "display_data"
    },
    {
     "name": "stdout",
     "output_type": "stream",
     "text": [
      "{'affected_rows': 1, 'success': True, 'auth_check': {'session': None, 'auth_level': None, 'success': True}, '_execution_time': 0.066}\n"
     ]
    },
    {
     "data": {
      "text/plain": [
       "{'id': 25735,\n",
       " 'kv_swap2005': '\"swap2005\"=>\"true\"',\n",
       " 'scientificname_tir': 'Elliptio roanokensis'}"
      ]
     },
     "metadata": {},
     "output_type": "display_data"
    },
    {
     "name": "stdout",
     "output_type": "stream",
     "text": [
      "{'affected_rows': 1, 'success': True, 'auth_check': {'session': None, 'auth_level': None, 'success': True}, '_execution_time': 0.065}\n"
     ]
    },
    {
     "data": {
      "text/plain": [
       "{'id': 33096,\n",
       " 'kv_swap2005': '\"swap2005\"=>\"true\"',\n",
       " 'scientificname_tir': 'Pleurobema taitianum'}"
      ]
     },
     "metadata": {},
     "output_type": "display_data"
    },
    {
     "name": "stdout",
     "output_type": "stream",
     "text": [
      "{'affected_rows': 1, 'success': True, 'auth_check': {'session': None, 'auth_level': None, 'success': True}, '_execution_time': 0.071}\n"
     ]
    },
    {
     "data": {
      "text/plain": [
       "{'id': 25045,\n",
       " 'kv_swap2005': '\"swap2005\"=>\"true\"',\n",
       " 'scientificname_tir': 'Dendroica dominica'}"
      ]
     },
     "metadata": {},
     "output_type": "display_data"
    },
    {
     "name": "stdout",
     "output_type": "stream",
     "text": [
      "{'affected_rows': 1, 'success': True, 'auth_check': {'session': None, 'auth_level': None, 'success': True}, '_execution_time': 0.066}\n"
     ]
    },
    {
     "data": {
      "text/plain": [
       "{'id': 22144,\n",
       " 'kv_swap2005': '\"swap2005\"=>\"true\"',\n",
       " 'scientificname_tir': 'Birgella subglobosus'}"
      ]
     },
     "metadata": {},
     "output_type": "display_data"
    },
    {
     "name": "stdout",
     "output_type": "stream",
     "text": [
      "{'affected_rows': 1, 'success': True, 'auth_check': {'session': None, 'auth_level': None, 'success': True}, '_execution_time': 0.066}\n"
     ]
    },
    {
     "data": {
      "text/plain": [
       "{'id': 23655,\n",
       " 'kv_swap2005': '\"swap2005\"=>\"true\"',\n",
       " 'scientificname_tir': 'Chionactis occipitalis klauberi'}"
      ]
     },
     "metadata": {},
     "output_type": "display_data"
    },
    {
     "name": "stdout",
     "output_type": "stream",
     "text": [
      "{'affected_rows': 1, 'success': True, 'auth_check': {'session': None, 'auth_level': None, 'success': True}, '_execution_time': 0.064}\n"
     ]
    },
    {
     "data": {
      "text/plain": [
       "{'id': 31346,\n",
       " 'kv_swap2005': '\"swap2005\"=>\"false\"',\n",
       " 'scientificname_tir': 'Oncorhynchus tshawytscha 36'}"
      ]
     },
     "metadata": {},
     "output_type": "display_data"
    },
    {
     "name": "stdout",
     "output_type": "stream",
     "text": [
      "{'affected_rows': 1, 'success': True, 'auth_check': {'session': None, 'auth_level': None, 'success': True}, '_execution_time': 0.068}\n"
     ]
    },
    {
     "data": {
      "text/plain": [
       "{'id': 23393,\n",
       " 'kv_swap2005': '\"swap2005\"=>\"true\"',\n",
       " 'scientificname_tir': 'Centropomus undecimalis'}"
      ]
     },
     "metadata": {},
     "output_type": "display_data"
    },
    {
     "name": "stdout",
     "output_type": "stream",
     "text": [
      "{'affected_rows': 1, 'success': True, 'auth_check': {'session': None, 'auth_level': None, 'success': True}, '_execution_time': 0.066}\n"
     ]
    },
    {
     "data": {
      "text/plain": [
       "{'id': 27931,\n",
       " 'kv_swap2005': '\"swap2005\"=>\"true\"',\n",
       " 'scientificname_tir': 'Humboldtiana texana'}"
      ]
     },
     "metadata": {},
     "output_type": "display_data"
    },
    {
     "name": "stdout",
     "output_type": "stream",
     "text": [
      "{'affected_rows': 1, 'success': True, 'auth_check': {'session': None, 'auth_level': None, 'success': True}, '_execution_time': 0.064}\n"
     ]
    },
    {
     "data": {
      "text/plain": [
       "{'id': 26789,\n",
       " 'kv_swap2005': '\"swap2005\"=>\"false\"',\n",
       " 'scientificname_tir': 'Fregata minor palmerstoni'}"
      ]
     },
     "metadata": {},
     "output_type": "display_data"
    },
    {
     "name": "stdout",
     "output_type": "stream",
     "text": [
      "{'affected_rows': 1, 'success': True, 'auth_check': {'session': None, 'auth_level': None, 'success': True}, '_execution_time': 0.07}\n"
     ]
    },
    {
     "data": {
      "text/plain": [
       "{'id': 33094,\n",
       " 'kv_swap2005': '\"swap2005\"=>\"true\"',\n",
       " 'scientificname_tir': 'Pleurobema sintoxia'}"
      ]
     },
     "metadata": {},
     "output_type": "display_data"
    },
    {
     "name": "stdout",
     "output_type": "stream",
     "text": [
      "{'affected_rows': 1, 'success': True, 'auth_check': {'session': None, 'auth_level': None, 'success': True}, '_execution_time': 0.066}\n"
     ]
    },
    {
     "data": {
      "text/plain": [
       "{'id': 23616,\n",
       " 'kv_swap2005': '\"swap2005\"=>\"true\"',\n",
       " 'scientificname_tir': 'Chelonibia patula'}"
      ]
     },
     "metadata": {},
     "output_type": "display_data"
    },
    {
     "name": "stdout",
     "output_type": "stream",
     "text": [
      "{'affected_rows': 1, 'success': True, 'auth_check': {'session': None, 'auth_level': None, 'success': True}, '_execution_time': 0.064}\n"
     ]
    },
    {
     "data": {
      "text/plain": [
       "{'id': 26774,\n",
       " 'kv_swap2005': '\"swap2005\"=>\"true\"',\n",
       " 'scientificname_tir': 'Fossaria truncatula'}"
      ]
     },
     "metadata": {},
     "output_type": "display_data"
    },
    {
     "name": "stdout",
     "output_type": "stream",
     "text": [
      "{'affected_rows': 1, 'success': True, 'auth_check': {'session': None, 'auth_level': None, 'success': True}, '_execution_time': 0.066}\n"
     ]
    },
    {
     "data": {
      "text/plain": [
       "{'id': 32594,\n",
       " 'kv_swap2005': '\"swap2005\"=>\"false\"',\n",
       " 'scientificname_tir': 'Phreatodrobia punctata'}"
      ]
     },
     "metadata": {},
     "output_type": "display_data"
    },
    {
     "name": "stdout",
     "output_type": "stream",
     "text": [
      "{'affected_rows': 1, 'success': True, 'auth_check': {'session': None, 'auth_level': None, 'success': True}, '_execution_time': 0.074}\n"
     ]
    },
    {
     "data": {
      "text/plain": [
       "{'id': 24765,\n",
       " 'kv_swap2005': '\"swap2005\"=>\"false\"',\n",
       " 'scientificname_tir': 'Cyerce cristallina'}"
      ]
     },
     "metadata": {},
     "output_type": "display_data"
    },
    {
     "name": "stdout",
     "output_type": "stream",
     "text": [
      "{'affected_rows': 1, 'success': True, 'auth_check': {'session': None, 'auth_level': None, 'success': True}, '_execution_time': 0.066}\n"
     ]
    },
    {
     "data": {
      "text/plain": [
       "{'id': 22546,\n",
       " 'kv_swap2005': '\"swap2005\"=>\"true\"',\n",
       " 'scientificname_tir': 'Caecidotea sp 3'}"
      ]
     },
     "metadata": {},
     "output_type": "display_data"
    },
    {
     "name": "stdout",
     "output_type": "stream",
     "text": [
      "{'affected_rows': 1, 'success': True, 'auth_check': {'session': None, 'auth_level': None, 'success': True}, '_execution_time': 0.081}\n"
     ]
    },
    {
     "data": {
      "text/plain": [
       "{'id': 29474,\n",
       " 'kv_swap2005': '\"swap2005\"=>\"true\"',\n",
       " 'scientificname_tir': 'Luxilus cardinalis'}"
      ]
     },
     "metadata": {},
     "output_type": "display_data"
    },
    {
     "name": "stdout",
     "output_type": "stream",
     "text": [
      "{'affected_rows': 1, 'success': True, 'auth_check': {'session': None, 'auth_level': None, 'success': True}, '_execution_time': 0.093}\n"
     ]
    },
    {
     "data": {
      "text/plain": [
       "{'id': 24361,\n",
       " 'kv_swap2005': '\"swap2005\"=>\"true\"',\n",
       " 'scientificname_tir': 'Coronis excavatrix'}"
      ]
     },
     "metadata": {},
     "output_type": "display_data"
    },
    {
     "name": "stdout",
     "output_type": "stream",
     "text": [
      "{'affected_rows': 1, 'success': True, 'auth_check': {'session': None, 'auth_level': None, 'success': True}, '_execution_time': 0.065}\n"
     ]
    },
    {
     "data": {
      "text/plain": [
       "{'id': 25446,\n",
       " 'kv_swap2005': '\"swap2005\"=>\"false\"',\n",
       " 'scientificname_tir': 'Drunella cornuta'}"
      ]
     },
     "metadata": {},
     "output_type": "display_data"
    },
    {
     "name": "stdout",
     "output_type": "stream",
     "text": [
      "{'affected_rows': 1, 'success': True, 'auth_check': {'session': None, 'auth_level': None, 'success': True}, '_execution_time': 0.066}\n"
     ]
    },
    {
     "data": {
      "text/plain": [
       "{'id': 34257,\n",
       " 'kv_swap2005': '\"swap2005\"=>\"false\"',\n",
       " 'scientificname_tir': 'Quadrula refulgens'}"
      ]
     },
     "metadata": {},
     "output_type": "display_data"
    },
    {
     "name": "stdout",
     "output_type": "stream",
     "text": [
      "{'affected_rows': 1, 'success': True, 'auth_check': {'session': None, 'auth_level': None, 'success': True}, '_execution_time': 0.098}\n"
     ]
    },
    {
     "data": {
      "text/plain": [
       "{'id': 23986,\n",
       " 'kv_swap2005': '\"swap2005\"=>\"true\"',\n",
       " 'scientificname_tir': 'Cinygma dimicki'}"
      ]
     },
     "metadata": {},
     "output_type": "display_data"
    },
    {
     "name": "stdout",
     "output_type": "stream",
     "text": [
      "{'affected_rows': 1, 'success': True, 'auth_check': {'session': None, 'auth_level': None, 'success': True}, '_execution_time': 0.063}\n"
     ]
    },
    {
     "data": {
      "text/plain": [
       "{'id': 33079,\n",
       " 'kv_swap2005': '\"swap2005\"=>\"true\"',\n",
       " 'scientificname_tir': 'Pleurobema cordatum'}"
      ]
     },
     "metadata": {},
     "output_type": "display_data"
    },
    {
     "name": "stdout",
     "output_type": "stream",
     "text": [
      "{'affected_rows': 1, 'success': True, 'auth_check': {'session': None, 'auth_level': None, 'success': True}, '_execution_time': 0.065}\n"
     ]
    },
    {
     "data": {
      "text/plain": [
       "{'id': 25968,\n",
       " 'kv_swap2005': '\"swap2005\"=>\"false\"',\n",
       " 'scientificname_tir': 'Epirrita autumnata henshawi'}"
      ]
     },
     "metadata": {},
     "output_type": "display_data"
    },
    {
     "name": "stdout",
     "output_type": "stream",
     "text": [
      "{'affected_rows': 1, 'success': True, 'auth_check': {'session': None, 'auth_level': None, 'success': True}, '_execution_time': 0.064}\n"
     ]
    },
    {
     "data": {
      "text/plain": [
       "{'id': 26807,\n",
       " 'kv_swap2005': '\"swap2005\"=>\"true\"',\n",
       " 'scientificname_tir': 'Fumonelix archeri'}"
      ]
     },
     "metadata": {},
     "output_type": "display_data"
    },
    {
     "name": "stdout",
     "output_type": "stream",
     "text": [
      "{'affected_rows': 1, 'success': True, 'auth_check': {'session': None, 'auth_level': None, 'success': True}, '_execution_time': 0.096}\n"
     ]
    },
    {
     "data": {
      "text/plain": [
       "{'id': 25966,\n",
       " 'kv_swap2005': '\"swap2005\"=>\"true\"',\n",
       " 'scientificname_tir': 'Epipaschiinae'}"
      ]
     },
     "metadata": {},
     "output_type": "display_data"
    },
    {
     "name": "stdout",
     "output_type": "stream",
     "text": [
      "{'affected_rows': 1, 'success': True, 'auth_check': {'session': None, 'auth_level': None, 'success': True}, '_execution_time': 0.109}\n"
     ]
    },
    {
     "data": {
      "text/plain": [
       "{'id': 25970,\n",
       " 'kv_swap2005': '\"swap2005\"=>\"true\"',\n",
       " 'scientificname_tir': 'Epitheca costalis'}"
      ]
     },
     "metadata": {},
     "output_type": "display_data"
    },
    {
     "name": "stdout",
     "output_type": "stream",
     "text": [
      "{'affected_rows': 1, 'success': True, 'auth_check': {'session': None, 'auth_level': None, 'success': True}, '_execution_time': 0.065}\n"
     ]
    },
    {
     "data": {
      "text/plain": [
       "{'id': 34019,\n",
       " 'kv_swap2005': '\"swap2005\"=>\"true\"',\n",
       " 'scientificname_tir': 'Ptomaphagus chromolithus'}"
      ]
     },
     "metadata": {},
     "output_type": "display_data"
    },
    {
     "name": "stdout",
     "output_type": "stream",
     "text": [
      "{'affected_rows': 1, 'success': True, 'auth_check': {'session': None, 'auth_level': None, 'success': True}, '_execution_time': 0.072}\n"
     ]
    },
    {
     "data": {
      "text/plain": [
       "{'id': 33435,\n",
       " 'kv_swap2005': '\"swap2005\"=>\"false\"',\n",
       " 'scientificname_tir': 'Praticolella lawae'}"
      ]
     },
     "metadata": {},
     "output_type": "display_data"
    },
    {
     "name": "stdout",
     "output_type": "stream",
     "text": [
      "{'affected_rows': 1, 'success': True, 'auth_check': {'session': None, 'auth_level': None, 'success': True}, '_execution_time': 0.065}\n"
     ]
    },
    {
     "data": {
      "text/plain": [
       "{'id': 33095,\n",
       " 'kv_swap2005': '\"swap2005\"=>\"true\"',\n",
       " 'scientificname_tir': 'Pleurobema strodeanum'}"
      ]
     },
     "metadata": {},
     "output_type": "display_data"
    },
    {
     "name": "stdout",
     "output_type": "stream",
     "text": [
      "{'affected_rows': 1, 'success': True, 'auth_check': {'session': None, 'auth_level': None, 'success': True}, '_execution_time': 0.065}\n"
     ]
    },
    {
     "data": {
      "text/plain": [
       "{'id': 25972,\n",
       " 'kv_swap2005': '\"swap2005\"=>\"true\"',\n",
       " 'scientificname_tir': 'Epitheca semiaquea'}"
      ]
     },
     "metadata": {},
     "output_type": "display_data"
    },
    {
     "name": "stdout",
     "output_type": "stream",
     "text": [
      "{'affected_rows': 1, 'success': True, 'auth_check': {'session': None, 'auth_level': None, 'success': True}, '_execution_time': 0.113}\n"
     ]
    },
    {
     "data": {
      "text/plain": [
       "{'id': 31564,\n",
       " 'kv_swap2005': '\"swap2005\"=>\"true\"',\n",
       " 'scientificname_tir': 'Oreohelix haydeni'}"
      ]
     },
     "metadata": {},
     "output_type": "display_data"
    },
    {
     "name": "stdout",
     "output_type": "stream",
     "text": [
      "{'affected_rows': 1, 'success': True, 'auth_check': {'session': None, 'auth_level': None, 'success': True}, '_execution_time': 0.067}\n"
     ]
    },
    {
     "data": {
      "text/plain": [
       "{'id': 21028,\n",
       " 'kv_swap2005': '\"swap2005\"=>\"true\"',\n",
       " 'scientificname_tir': 'Amnicola decisus'}"
      ]
     },
     "metadata": {},
     "output_type": "display_data"
    },
    {
     "name": "stdout",
     "output_type": "stream",
     "text": [
      "{'affected_rows': 1, 'success': True, 'auth_check': {'session': None, 'auth_level': None, 'success': True}, '_execution_time': 0.066}\n"
     ]
    },
    {
     "data": {
      "text/plain": [
       "{'id': 34175,\n",
       " 'kv_swap2005': '\"swap2005\"=>\"true\"',\n",
       " 'scientificname_tir': 'Pyrgulopsis nanus'}"
      ]
     },
     "metadata": {},
     "output_type": "display_data"
    },
    {
     "name": "stdout",
     "output_type": "stream",
     "text": [
      "{'affected_rows': 1, 'success': True, 'auth_check': {'session': None, 'auth_level': None, 'success': True}, '_execution_time': 0.065}\n"
     ]
    },
    {
     "data": {
      "text/plain": [
       "{'id': 24482,\n",
       " 'kv_swap2005': '\"swap2005\"=>\"true\"',\n",
       " 'scientificname_tir': 'Crangonyx sp. 1'}"
      ]
     },
     "metadata": {},
     "output_type": "display_data"
    },
    {
     "name": "stdout",
     "output_type": "stream",
     "text": [
      "{'affected_rows': 1, 'success': True, 'auth_check': {'session': None, 'auth_level': None, 'success': True}, '_execution_time': 0.065}\n"
     ]
    },
    {
     "data": {
      "text/plain": [
       "{'id': 21569,\n",
       " 'kv_swap2005': '\"swap2005\"=>\"true\"',\n",
       " 'scientificname_tir': 'Arigomphus villosipes'}"
      ]
     },
     "metadata": {},
     "output_type": "display_data"
    },
    {
     "name": "stdout",
     "output_type": "stream",
     "text": [
      "{'affected_rows': 1, 'success': True, 'auth_check': {'session': None, 'auth_level': None, 'success': True}, '_execution_time': 0.069}\n"
     ]
    },
    {
     "data": {
      "text/plain": [
       "{'id': 24623,\n",
       " 'kv_swap2005': '\"swap2005\"=>\"true\"',\n",
       " 'scientificname_tir': 'Cryptotis parva'}"
      ]
     },
     "metadata": {},
     "output_type": "display_data"
    },
    {
     "name": "stdout",
     "output_type": "stream",
     "text": [
      "{'affected_rows': 1, 'success': True, 'auth_check': {'session': None, 'auth_level': None, 'success': True}, '_execution_time': 0.065}\n"
     ]
    },
    {
     "data": {
      "text/plain": [
       "{'id': 37259,\n",
       " 'kv_swap2005': '\"swap2005\"=>\"true\"',\n",
       " 'scientificname_tir': 'Utterbackia imbecillis'}"
      ]
     },
     "metadata": {},
     "output_type": "display_data"
    },
    {
     "name": "stdout",
     "output_type": "stream",
     "text": [
      "{'affected_rows': 1, 'success': True, 'auth_check': {'session': None, 'auth_level': None, 'success': True}, '_execution_time': 0.065}\n"
     ]
    },
    {
     "data": {
      "text/plain": [
       "{'id': 25167,\n",
       " 'kv_swap2005': '\"swap2005\"=>\"false\"',\n",
       " 'scientificname_tir': 'Dicentra eximia'}"
      ]
     },
     "metadata": {},
     "output_type": "display_data"
    },
    {
     "name": "stdout",
     "output_type": "stream",
     "text": [
      "{'affected_rows': 1, 'success': True, 'auth_check': {'session': None, 'auth_level': None, 'success': True}, '_execution_time': 0.064}\n"
     ]
    },
    {
     "data": {
      "text/plain": [
       "{'id': 20884,\n",
       " 'kv_swap2005': '\"swap2005\"=>\"true\"',\n",
       " 'scientificname_tir': 'Amblema neislerii'}"
      ]
     },
     "metadata": {},
     "output_type": "display_data"
    },
    {
     "name": "stdout",
     "output_type": "stream",
     "text": [
      "{'affected_rows': 1, 'success': True, 'auth_check': {'session': None, 'auth_level': None, 'success': True}, '_execution_time': 0.066}\n"
     ]
    },
    {
     "data": {
      "text/plain": [
       "{'id': 24488,\n",
       " 'kv_swap2005': '\"swap2005\"=>\"true\"',\n",
       " 'scientificname_tir': 'Crassostrea virginica'}"
      ]
     },
     "metadata": {},
     "output_type": "display_data"
    },
    {
     "name": "stdout",
     "output_type": "stream",
     "text": [
      "{'affected_rows': 1, 'success': True, 'auth_check': {'session': None, 'auth_level': None, 'success': True}, '_execution_time': 0.065}\n"
     ]
    },
    {
     "data": {
      "text/plain": [
       "{'id': 34463,\n",
       " 'kv_swap2005': '\"swap2005\"=>\"false\"',\n",
       " 'scientificname_tir': 'Rhexia mariana'}"
      ]
     },
     "metadata": {},
     "output_type": "display_data"
    },
    {
     "name": "stdout",
     "output_type": "stream",
     "text": [
      "{'affected_rows': 1, 'success': True, 'auth_check': {'session': None, 'auth_level': None, 'success': True}, '_execution_time': 0.067}\n"
     ]
    },
    {
     "data": {
      "text/plain": [
       "{'id': 34153,\n",
       " 'kv_swap2005': '\"swap2005\"=>\"true\"',\n",
       " 'scientificname_tir': 'Pyrgulopsis intermedia'}"
      ]
     },
     "metadata": {},
     "output_type": "display_data"
    },
    {
     "name": "stdout",
     "output_type": "stream",
     "text": [
      "{'affected_rows': 1, 'success': True, 'auth_check': {'session': None, 'auth_level': None, 'success': True}, '_execution_time': 0.067}\n"
     ]
    },
    {
     "data": {
      "text/plain": [
       "{'id': 20793,\n",
       " 'kv_swap2005': '\"swap2005\"=>\"true\"',\n",
       " 'scientificname_tir': 'Allocapnia frumi'}"
      ]
     },
     "metadata": {},
     "output_type": "display_data"
    },
    {
     "name": "stdout",
     "output_type": "stream",
     "text": [
      "{'affected_rows': 1, 'success': True, 'auth_check': {'session': None, 'auth_level': None, 'success': True}, '_execution_time': 0.071}\n"
     ]
    },
    {
     "data": {
      "text/plain": [
       "{'id': 37299,\n",
       " 'kv_swap2005': '\"swap2005\"=>\"true\"',\n",
       " 'scientificname_tir': 'Valvata tricarinata'}"
      ]
     },
     "metadata": {},
     "output_type": "display_data"
    },
    {
     "name": "stdout",
     "output_type": "stream",
     "text": [
      "{'affected_rows': 1, 'success': True, 'auth_check': {'session': None, 'auth_level': None, 'success': True}, '_execution_time': 0.063}\n"
     ]
    },
    {
     "data": {
      "text/plain": [
       "{'id': 24150,\n",
       " 'kv_swap2005': '\"swap2005\"=>\"true\"',\n",
       " 'scientificname_tir': 'Codium extricatum'}"
      ]
     },
     "metadata": {},
     "output_type": "display_data"
    },
    {
     "name": "stdout",
     "output_type": "stream",
     "text": [
      "{'affected_rows': 1, 'success': True, 'auth_check': {'session': None, 'auth_level': None, 'success': True}, '_execution_time': 0.072}\n"
     ]
    },
    {
     "data": {
      "text/plain": [
       "{'id': 25119,\n",
       " 'kv_swap2005': '\"swap2005\"=>\"true\"',\n",
       " 'scientificname_tir': 'Desmognathus monticola'}"
      ]
     },
     "metadata": {},
     "output_type": "display_data"
    },
    {
     "name": "stdout",
     "output_type": "stream",
     "text": [
      "{'affected_rows': 1, 'success': True, 'auth_check': {'session': None, 'auth_level': None, 'success': True}, '_execution_time': 0.066}\n"
     ]
    },
    {
     "data": {
      "text/plain": [
       "{'id': 21238,\n",
       " 'kv_swap2005': '\"swap2005\"=>\"true\"',\n",
       " 'scientificname_tir': 'Anodontoides ferussacianus'}"
      ]
     },
     "metadata": {},
     "output_type": "display_data"
    },
    {
     "name": "stdout",
     "output_type": "stream",
     "text": [
      "{'affected_rows': 1, 'success': True, 'auth_check': {'session': None, 'auth_level': None, 'success': True}, '_execution_time': 0.065}\n"
     ]
    },
    {
     "data": {
      "text/plain": [
       "{'id': 23589,\n",
       " 'kv_swap2005': '\"swap2005\"=>\"true\"',\n",
       " 'scientificname_tir': 'Charonia tritonis variegata'}"
      ]
     },
     "metadata": {},
     "output_type": "display_data"
    },
    {
     "name": "stdout",
     "output_type": "stream",
     "text": [
      "{'affected_rows': 1, 'success': True, 'auth_check': {'session': None, 'auth_level': None, 'success': True}, '_execution_time': 0.09}\n"
     ]
    },
    {
     "data": {
      "text/plain": [
       "{'id': 29877,\n",
       " 'kv_swap2005': '\"swap2005\"=>\"true\"',\n",
       " 'scientificname_tir': 'Megomphix hemphilli'}"
      ]
     },
     "metadata": {},
     "output_type": "display_data"
    },
    {
     "name": "stdout",
     "output_type": "stream",
     "text": [
      "{'affected_rows': 1, 'success': True, 'auth_check': {'session': None, 'auth_level': None, 'success': True}, '_execution_time': 0.109}\n"
     ]
    },
    {
     "data": {
      "text/plain": [
       "{'id': 34107,\n",
       " 'kv_swap2005': '\"swap2005\"=>\"true\"',\n",
       " 'scientificname_tir': 'Pyrgulopsis archimedis'}"
      ]
     },
     "metadata": {},
     "output_type": "display_data"
    },
    {
     "name": "stdout",
     "output_type": "stream",
     "text": [
      "{'affected_rows': 1, 'success': True, 'auth_check': {'session': None, 'auth_level': None, 'success': True}, '_execution_time': 0.066}\n"
     ]
    },
    {
     "data": {
      "text/plain": [
       "{'id': 20938,\n",
       " 'kv_swap2005': '\"swap2005\"=>\"true\"',\n",
       " 'scientificname_tir': 'Ambystoma texanum'}"
      ]
     },
     "metadata": {},
     "output_type": "display_data"
    },
    {
     "name": "stdout",
     "output_type": "stream",
     "text": [
      "{'affected_rows': 1, 'success': True, 'auth_check': {'session': None, 'auth_level': None, 'success': True}, '_execution_time': 0.065}\n"
     ]
    },
    {
     "data": {
      "text/plain": [
       "{'id': 26947,\n",
       " 'kv_swap2005': '\"swap2005\"=>\"true\"',\n",
       " 'scientificname_tir': 'Gastrocopta ashmuni'}"
      ]
     },
     "metadata": {},
     "output_type": "display_data"
    },
    {
     "name": "stdout",
     "output_type": "stream",
     "text": [
      "{'affected_rows': 1, 'success': True, 'auth_check': {'session': None, 'auth_level': None, 'success': True}, '_execution_time': 0.066}\n"
     ]
    },
    {
     "data": {
      "text/plain": [
       "{'id': 35994,\n",
       " 'kv_swap2005': '\"swap2005\"=>\"true\"',\n",
       " 'scientificname_tir': 'Stenotrema pilula'}"
      ]
     },
     "metadata": {},
     "output_type": "display_data"
    },
    {
     "name": "stdout",
     "output_type": "stream",
     "text": [
      "{'affected_rows': 1, 'success': True, 'auth_check': {'session': None, 'auth_level': None, 'success': True}, '_execution_time': 0.091}\n"
     ]
    },
    {
     "data": {
      "text/plain": [
       "{'id': 31717,\n",
       " 'kv_swap2005': '\"swap2005\"=>\"false\"',\n",
       " 'scientificname_tir': 'Oxyloma effusum'}"
      ]
     },
     "metadata": {},
     "output_type": "display_data"
    },
    {
     "name": "stdout",
     "output_type": "stream",
     "text": [
      "{'affected_rows': 1, 'success': True, 'auth_check': {'session': None, 'auth_level': None, 'success': True}, '_execution_time': 0.066}\n"
     ]
    },
    {
     "data": {
      "text/plain": [
       "{'id': 22879,\n",
       " 'kv_swap2005': '\"swap2005\"=>\"false\"',\n",
       " 'scientificname_tir': 'Campeloma decisum'}"
      ]
     },
     "metadata": {},
     "output_type": "display_data"
    },
    {
     "name": "stdout",
     "output_type": "stream",
     "text": [
      "{'affected_rows': 1, 'success': True, 'auth_check': {'session': None, 'auth_level': None, 'success': True}, '_execution_time': 0.077}\n"
     ]
    },
    {
     "data": {
      "text/plain": [
       "{'id': 28786,\n",
       " 'kv_swap2005': '\"swap2005\"=>\"true\"',\n",
       " 'scientificname_tir': 'Lasmigona complanata alabamensis'}"
      ]
     },
     "metadata": {},
     "output_type": "display_data"
    },
    {
     "name": "stdout",
     "output_type": "stream",
     "text": [
      "{'affected_rows': 1, 'success': True, 'auth_check': {'session': None, 'auth_level': None, 'success': True}, '_execution_time': 0.065}\n"
     ]
    },
    {
     "data": {
      "text/plain": [
       "{'id': 20489,\n",
       " 'kv_swap2005': '\"swap2005\"=>\"true\"',\n",
       " 'scientificname_tir': 'Acontia lactipennis'}"
      ]
     },
     "metadata": {},
     "output_type": "display_data"
    },
    {
     "name": "stdout",
     "output_type": "stream",
     "text": [
      "{'affected_rows': 1, 'success': True, 'auth_check': {'session': None, 'auth_level': None, 'success': True}, '_execution_time': 0.108}\n"
     ]
    },
    {
     "data": {
      "text/plain": [
       "{'id': 35311,\n",
       " 'kv_swap2005': '\"swap2005\"=>\"false\"',\n",
       " 'scientificname_tir': 'Siliqua patula'}"
      ]
     },
     "metadata": {},
     "output_type": "display_data"
    },
    {
     "name": "stdout",
     "output_type": "stream",
     "text": [
      "{'affected_rows': 1, 'success': True, 'auth_check': {'session': None, 'auth_level': None, 'success': True}, '_execution_time': 0.064}\n"
     ]
    },
    {
     "data": {
      "text/plain": [
       "{'id': 21252,\n",
       " 'kv_swap2005': '\"swap2005\"=>\"true\"',\n",
       " 'scientificname_tir': 'Anomala exigua'}"
      ]
     },
     "metadata": {},
     "output_type": "display_data"
    },
    {
     "name": "stdout",
     "output_type": "stream",
     "text": [
      "{'affected_rows': 1, 'success': True, 'auth_check': {'session': None, 'auth_level': None, 'success': True}, '_execution_time': 0.081}\n"
     ]
    },
    {
     "data": {
      "text/plain": [
       "{'id': 21586,\n",
       " 'kv_swap2005': '\"swap2005\"=>\"true\"',\n",
       " 'scientificname_tir': 'Arkansia wheeleri'}"
      ]
     },
     "metadata": {},
     "output_type": "display_data"
    },
    {
     "name": "stdout",
     "output_type": "stream",
     "text": [
      "{'affected_rows': 1, 'success': True, 'auth_check': {'session': None, 'auth_level': None, 'success': True}, '_execution_time': 0.066}\n"
     ]
    },
    {
     "data": {
      "text/plain": [
       "{'id': 25650,\n",
       " 'kv_swap2005': '\"swap2005\"=>\"true\"',\n",
       " 'scientificname_tir': 'Eleutherodactylus brittoni'}"
      ]
     },
     "metadata": {},
     "output_type": "display_data"
    },
    {
     "name": "stdout",
     "output_type": "stream",
     "text": [
      "{'affected_rows': 1, 'success': True, 'auth_check': {'session': None, 'auth_level': None, 'success': True}, '_execution_time': 0.104}\n"
     ]
    },
    {
     "data": {
      "text/plain": [
       "{'id': 33396,\n",
       " 'kv_swap2005': '\"swap2005\"=>\"true\"',\n",
       " 'scientificname_tir': 'Potamilus amphichaenus'}"
      ]
     },
     "metadata": {},
     "output_type": "display_data"
    },
    {
     "name": "stdout",
     "output_type": "stream",
     "text": [
      "{'affected_rows': 1, 'success': True, 'auth_check': {'session': None, 'auth_level': None, 'success': True}, '_execution_time': 0.113}\n"
     ]
    },
    {
     "data": {
      "text/plain": [
       "{'id': 20456,\n",
       " 'kv_swap2005': '\"swap2005\"=>\"false\"',\n",
       " 'scientificname_tir': 'Achatinella fulgens'}"
      ]
     },
     "metadata": {},
     "output_type": "display_data"
    },
    {
     "name": "stdout",
     "output_type": "stream",
     "text": [
      "{'affected_rows': 1, 'success': True, 'auth_check': {'session': None, 'auth_level': None, 'success': True}, '_execution_time': 0.066}\n"
     ]
    },
    {
     "data": {
      "text/plain": [
       "{'id': 34784,\n",
       " 'kv_swap2005': '\"swap2005\"=>\"true\"',\n",
       " 'scientificname_tir': 'Santalum freycinetianum var. lanaiense'}"
      ]
     },
     "metadata": {},
     "output_type": "display_data"
    },
    {
     "name": "stdout",
     "output_type": "stream",
     "text": [
      "{'affected_rows': 1, 'success': True, 'auth_check': {'session': None, 'auth_level': None, 'success': True}, '_execution_time': 0.08}\n"
     ]
    },
    {
     "data": {
      "text/plain": [
       "{'id': 36105,\n",
       " 'kv_swap2005': '\"swap2005\"=>\"true\"',\n",
       " 'scientificname_tir': 'Striatura ferrea'}"
      ]
     },
     "metadata": {},
     "output_type": "display_data"
    },
    {
     "name": "stdout",
     "output_type": "stream",
     "text": [
      "{'affected_rows': 1, 'success': True, 'auth_check': {'session': None, 'auth_level': None, 'success': True}, '_execution_time': 0.085}\n"
     ]
    },
    {
     "data": {
      "text/plain": [
       "{'id': 32635,\n",
       " 'kv_swap2005': '\"swap2005\"=>\"false\"',\n",
       " 'scientificname_tir': 'Phyllophaga elongata'}"
      ]
     },
     "metadata": {},
     "output_type": "display_data"
    },
    {
     "name": "stdout",
     "output_type": "stream",
     "text": [
      "{'affected_rows': 1, 'success': True, 'auth_check': {'session': None, 'auth_level': None, 'success': True}, '_execution_time': 0.102}\n"
     ]
    },
    {
     "data": {
      "text/plain": [
       "{'id': 32021,\n",
       " 'kv_swap2005': '\"swap2005\"=>\"true\"',\n",
       " 'scientificname_tir': 'Paravitrea dentilla'}"
      ]
     },
     "metadata": {},
     "output_type": "display_data"
    },
    {
     "name": "stdout",
     "output_type": "stream",
     "text": [
      "{'affected_rows': 1, 'success': True, 'auth_check': {'session': None, 'auth_level': None, 'success': True}, '_execution_time': 0.066}\n"
     ]
    },
    {
     "data": {
      "text/plain": [
       "{'id': 26718,\n",
       " 'kv_swap2005': '\"swap2005\"=>\"false\"',\n",
       " 'scientificname_tir': 'Floridobia leptospira'}"
      ]
     },
     "metadata": {},
     "output_type": "display_data"
    },
    {
     "name": "stdout",
     "output_type": "stream",
     "text": [
      "{'affected_rows': 1, 'success': True, 'auth_check': {'session': None, 'auth_level': None, 'success': True}, '_execution_time': 0.101}\n"
     ]
    },
    {
     "data": {
      "text/plain": [
       "{'id': 35702,\n",
       " 'kv_swap2005': '\"swap2005\"=>\"false\"',\n",
       " 'scientificname_tir': 'Sphaerium simile'}"
      ]
     },
     "metadata": {},
     "output_type": "display_data"
    },
    {
     "name": "stdout",
     "output_type": "stream",
     "text": [
      "{'affected_rows': 1, 'success': True, 'auth_check': {'session': None, 'auth_level': None, 'success': True}, '_execution_time': 0.064}\n"
     ]
    },
    {
     "data": {
      "text/plain": [
       "{'id': 26848,\n",
       " 'kv_swap2005': '\"swap2005\"=>\"true\"',\n",
       " 'scientificname_tir': 'Fusconaia askewi'}"
      ]
     },
     "metadata": {},
     "output_type": "display_data"
    },
    {
     "name": "stdout",
     "output_type": "stream",
     "text": [
      "{'affected_rows': 1, 'success': True, 'auth_check': {'session': None, 'auth_level': None, 'success': True}, '_execution_time': 0.109}\n"
     ]
    },
    {
     "data": {
      "text/plain": [
       "{'id': 32016,\n",
       " 'kv_swap2005': '\"swap2005\"=>\"true\"',\n",
       " 'scientificname_tir': 'Paravitrea blarina'}"
      ]
     },
     "metadata": {},
     "output_type": "display_data"
    },
    {
     "name": "stdout",
     "output_type": "stream",
     "text": [
      "{'affected_rows': 1, 'success': True, 'auth_check': {'session': None, 'auth_level': None, 'success': True}, '_execution_time': 0.066}\n"
     ]
    },
    {
     "data": {
      "text/plain": [
       "{'id': 37418,\n",
       " 'kv_swap2005': '\"swap2005\"=>\"true\"',\n",
       " 'scientificname_tir': 'Villosa perpurpurea'}"
      ]
     },
     "metadata": {},
     "output_type": "display_data"
    },
    {
     "name": "stdout",
     "output_type": "stream",
     "text": [
      "{'affected_rows': 1, 'success': True, 'auth_check': {'session': None, 'auth_level': None, 'success': True}, '_execution_time': 0.079}\n"
     ]
    },
    {
     "data": {
      "text/plain": [
       "{'id': 22239,\n",
       " 'kv_swap2005': '\"swap2005\"=>\"true\"',\n",
       " 'scientificname_tir': 'Bonasa umbellus'}"
      ]
     },
     "metadata": {},
     "output_type": "display_data"
    },
    {
     "name": "stdout",
     "output_type": "stream",
     "text": [
      "{'affected_rows': 1, 'success': True, 'auth_check': {'session': None, 'auth_level': None, 'success': True}, '_execution_time': 0.11}\n"
     ]
    },
    {
     "data": {
      "text/plain": [
       "{'id': 23231,\n",
       " 'kv_swap2005': '\"swap2005\"=>\"true\"',\n",
       " 'scientificname_tir': 'Cataetyx hawaiiensis'}"
      ]
     },
     "metadata": {},
     "output_type": "display_data"
    },
    {
     "name": "stdout",
     "output_type": "stream",
     "text": [
      "{'affected_rows': 1, 'success': True, 'auth_check': {'session': None, 'auth_level': None, 'success': True}, '_execution_time': 0.066}\n"
     ]
    },
    {
     "data": {
      "text/plain": [
       "{'id': 21372,\n",
       " 'kv_swap2005': '\"swap2005\"=>\"false\"',\n",
       " 'scientificname_tir': 'Aphodius bakeri'}"
      ]
     },
     "metadata": {},
     "output_type": "display_data"
    },
    {
     "name": "stdout",
     "output_type": "stream",
     "text": [
      "{'affected_rows': 1, 'success': True, 'auth_check': {'session': None, 'auth_level': None, 'success': True}, '_execution_time': 0.066}\n"
     ]
    },
    {
     "data": {
      "text/plain": [
       "{'id': 25813,\n",
       " 'kv_swap2005': '\"swap2005\"=>\"false\"',\n",
       " 'scientificname_tir': 'Enallagma cyathigerum(different name in Explorer)'}"
      ]
     },
     "metadata": {},
     "output_type": "display_data"
    },
    {
     "name": "stdout",
     "output_type": "stream",
     "text": [
      "{'affected_rows': 1, 'success': True, 'auth_check': {'session': None, 'auth_level': None, 'success': True}, '_execution_time': 0.107}\n"
     ]
    },
    {
     "data": {
      "text/plain": [
       "{'id': 21747,\n",
       " 'kv_swap2005': '\"swap2005\"=>\"true\"',\n",
       " 'scientificname_tir': 'Astragalus agrestis'}"
      ]
     },
     "metadata": {},
     "output_type": "display_data"
    },
    {
     "name": "stdout",
     "output_type": "stream",
     "text": [
      "{'affected_rows': 1, 'success': True, 'auth_check': {'session': None, 'auth_level': None, 'success': True}, '_execution_time': 0.103}\n"
     ]
    },
    {
     "data": {
      "text/plain": [
       "{'id': 27827,\n",
       " 'kv_swap2005': '\"swap2005\"=>\"true\"',\n",
       " 'scientificname_tir': 'Hippoporina verrilli'}"
      ]
     },
     "metadata": {},
     "output_type": "display_data"
    },
    {
     "name": "stdout",
     "output_type": "stream",
     "text": [
      "{'affected_rows': 1, 'success': True, 'auth_check': {'session': None, 'auth_level': None, 'success': True}, '_execution_time': 0.065}\n"
     ]
    },
    {
     "data": {
      "text/plain": [
       "{'id': 26136,\n",
       " 'kv_swap2005': '\"swap2005\"=>\"false\"',\n",
       " 'scientificname_tir': 'Escobaria dasyacantha var. chaffeyi'}"
      ]
     },
     "metadata": {},
     "output_type": "display_data"
    },
    {
     "name": "stdout",
     "output_type": "stream",
     "text": [
      "{'affected_rows': 1, 'success': True, 'auth_check': {'session': None, 'auth_level': None, 'success': True}, '_execution_time': 0.078}\n"
     ]
    },
    {
     "data": {
      "text/plain": [
       "{'id': 23232,\n",
       " 'kv_swap2005': '\"swap2005\"=>\"true\"',\n",
       " 'scientificname_tir': 'Catesbaea melanocarpa'}"
      ]
     },
     "metadata": {},
     "output_type": "display_data"
    },
    {
     "name": "stdout",
     "output_type": "stream",
     "text": [
      "{'affected_rows': 1, 'success': True, 'auth_check': {'session': None, 'auth_level': None, 'success': True}, '_execution_time': 0.068}\n"
     ]
    },
    {
     "data": {
      "text/plain": [
       "{'id': 21356,\n",
       " 'kv_swap2005': '\"swap2005\"=>\"false\"',\n",
       " 'scientificname_tir': 'Aphaostracon pycnus'}"
      ]
     },
     "metadata": {},
     "output_type": "display_data"
    },
    {
     "name": "stdout",
     "output_type": "stream",
     "text": [
      "{'affected_rows': 1, 'success': True, 'auth_check': {'session': None, 'auth_level': None, 'success': True}, '_execution_time': 0.066}\n"
     ]
    },
    {
     "data": {
      "text/plain": [
       "{'id': 27028,\n",
       " 'kv_swap2005': '\"swap2005\"=>\"true\"',\n",
       " 'scientificname_tir': 'Geophilomorpha'}"
      ]
     },
     "metadata": {},
     "output_type": "display_data"
    },
    {
     "name": "stdout",
     "output_type": "stream",
     "text": [
      "{'affected_rows': 1, 'success': True, 'auth_check': {'session': None, 'auth_level': None, 'success': True}, '_execution_time': 0.066}\n"
     ]
    },
    {
     "data": {
      "text/plain": [
       "{'id': 25711,\n",
       " 'kv_swap2005': '\"swap2005\"=>\"true\"',\n",
       " 'scientificname_tir': 'Elliptio arca'}"
      ]
     },
     "metadata": {},
     "output_type": "display_data"
    },
    {
     "name": "stdout",
     "output_type": "stream",
     "text": [
      "{'affected_rows': 1, 'success': True, 'auth_check': {'session': None, 'auth_level': None, 'success': True}, '_execution_time': 0.109}\n"
     ]
    },
    {
     "data": {
      "text/plain": [
       "{'id': 27073,\n",
       " 'kv_swap2005': '\"swap2005\"=>\"true\"',\n",
       " 'scientificname_tir': 'Gila bicolor ssp. 1'}"
      ]
     },
     "metadata": {},
     "output_type": "display_data"
    },
    {
     "name": "stdout",
     "output_type": "stream",
     "text": [
      "{'affected_rows': 1, 'success': True, 'auth_check': {'session': None, 'auth_level': None, 'success': True}, '_execution_time': 0.137}\n"
     ]
    },
    {
     "data": {
      "text/plain": [
       "{'id': 35507,\n",
       " 'kv_swap2005': '\"swap2005\"=>\"false\"',\n",
       " 'scientificname_tir': 'Sonorella huecoensis'}"
      ]
     },
     "metadata": {},
     "output_type": "display_data"
    },
    {
     "name": "stdout",
     "output_type": "stream",
     "text": [
      "{'affected_rows': 1, 'success': True, 'auth_check': {'session': None, 'auth_level': None, 'success': True}, '_execution_time': 0.066}\n"
     ]
    },
    {
     "data": {
      "text/plain": [
       "{'id': 21203,\n",
       " 'kv_swap2005': '\"swap2005\"=>\"true\"',\n",
       " 'scientificname_tir': 'Anguispira fergusoni'}"
      ]
     },
     "metadata": {},
     "output_type": "display_data"
    },
    {
     "name": "stdout",
     "output_type": "stream",
     "text": [
      "{'affected_rows': 1, 'success': True, 'auth_check': {'session': None, 'auth_level': None, 'success': True}, '_execution_time': 0.096}\n"
     ]
    },
    {
     "data": {
      "text/plain": [
       "{'id': 22008,\n",
       " 'kv_swap2005': '\"swap2005\"=>\"true\"',\n",
       " 'scientificname_tir': 'Batea catharinensis'}"
      ]
     },
     "metadata": {},
     "output_type": "display_data"
    },
    {
     "name": "stdout",
     "output_type": "stream",
     "text": [
      "{'affected_rows': 1, 'success': True, 'auth_check': {'session': None, 'auth_level': None, 'success': True}, '_execution_time': 0.134}\n"
     ]
    },
    {
     "data": {
      "text/plain": [
       "{'id': 27408,\n",
       " 'kv_swap2005': '\"swap2005\"=>\"true\"',\n",
       " 'scientificname_tir': 'Halgerda terramtuentis'}"
      ]
     },
     "metadata": {},
     "output_type": "display_data"
    },
    {
     "name": "stdout",
     "output_type": "stream",
     "text": [
      "{'affected_rows': 1, 'success': True, 'auth_check': {'session': None, 'auth_level': None, 'success': True}, '_execution_time': 0.066}\n"
     ]
    },
    {
     "data": {
      "text/plain": [
       "{'id': 25760,\n",
       " 'kv_swap2005': '\"swap2005\"=>\"true\"',\n",
       " 'scientificname_tir': 'Elysia crispata'}"
      ]
     },
     "metadata": {},
     "output_type": "display_data"
    },
    {
     "name": "stdout",
     "output_type": "stream",
     "text": [
      "{'affected_rows': 1, 'success': True, 'auth_check': {'session': None, 'auth_level': None, 'success': True}, '_execution_time': 0.065}\n"
     ]
    },
    {
     "data": {
      "text/plain": [
       "{'id': 26641,\n",
       " 'kv_swap2005': '\"swap2005\"=>\"true\"',\n",
       " 'scientificname_tir': 'Fargoa dianthophila'}"
      ]
     },
     "metadata": {},
     "output_type": "display_data"
    },
    {
     "name": "stdout",
     "output_type": "stream",
     "text": [
      "{'affected_rows': 1, 'success': True, 'auth_check': {'session': None, 'auth_level': None, 'success': True}, '_execution_time': 0.106}\n"
     ]
    },
    {
     "data": {
      "text/plain": [
       "{'id': 29214,\n",
       " 'kv_swap2005': '\"swap2005\"=>\"true\"',\n",
       " 'scientificname_tir': 'Lineus sp. A'}"
      ]
     },
     "metadata": {},
     "output_type": "display_data"
    },
    {
     "name": "stdout",
     "output_type": "stream",
     "text": [
      "{'affected_rows': 1, 'success': True, 'auth_check': {'session': None, 'auth_level': None, 'success': True}, '_execution_time': 0.075}\n"
     ]
    },
    {
     "data": {
      "text/plain": [
       "{'id': 37287,\n",
       " 'kv_swap2005': '\"swap2005\"=>\"false\"',\n",
       " 'scientificname_tir': 'Vallonia excentrica'}"
      ]
     },
     "metadata": {},
     "output_type": "display_data"
    },
    {
     "name": "stdout",
     "output_type": "stream",
     "text": [
      "{'affected_rows': 1, 'success': True, 'auth_check': {'session': None, 'auth_level': None, 'success': True}, '_execution_time': 0.065}\n"
     ]
    },
    {
     "data": {
      "text/plain": [
       "{'id': 33031,\n",
       " 'kv_swap2005': '\"swap2005\"=>\"false\"',\n",
       " 'scientificname_tir': 'Plethodon cheoah'}"
      ]
     },
     "metadata": {},
     "output_type": "display_data"
    },
    {
     "name": "stdout",
     "output_type": "stream",
     "text": [
      "{'affected_rows': 1, 'success': True, 'auth_check': {'session': None, 'auth_level': None, 'success': True}, '_execution_time': 0.065}\n"
     ]
    },
    {
     "data": {
      "text/plain": [
       "{'id': 25097,\n",
       " 'kv_swap2005': '\"swap2005\"=>\"true\"',\n",
       " 'scientificname_tir': 'Desmodium cuspidatum'}"
      ]
     },
     "metadata": {},
     "output_type": "display_data"
    },
    {
     "name": "stdout",
     "output_type": "stream",
     "text": [
      "{'affected_rows': 1, 'success': True, 'auth_check': {'session': None, 'auth_level': None, 'success': True}, '_execution_time': 0.069}\n"
     ]
    },
    {
     "data": {
      "text/plain": [
       "{'id': 30789,\n",
       " 'kv_swap2005': '\"swap2005\"=>\"false\"',\n",
       " 'scientificname_tir': 'Nerodia sipedon sipedon'}"
      ]
     },
     "metadata": {},
     "output_type": "display_data"
    },
    {
     "name": "stdout",
     "output_type": "stream",
     "text": [
      "{'affected_rows': 1, 'success': True, 'auth_check': {'session': None, 'auth_level': None, 'success': True}, '_execution_time': 0.065}\n"
     ]
    },
    {
     "data": {
      "text/plain": [
       "{'id': 25321,\n",
       " 'kv_swap2005': '\"swap2005\"=>\"true\"',\n",
       " 'scientificname_tir': 'Discus catskillensis'}"
      ]
     },
     "metadata": {},
     "output_type": "display_data"
    },
    {
     "name": "stdout",
     "output_type": "stream",
     "text": [
      "{'affected_rows': 1, 'success': True, 'auth_check': {'session': None, 'auth_level': None, 'success': True}, '_execution_time': 0.064}\n"
     ]
    },
    {
     "data": {
      "text/plain": [
       "{'id': 23614,\n",
       " 'kv_swap2005': '\"swap2005\"=>\"true\"',\n",
       " 'scientificname_tir': 'Chelonia mydas'}"
      ]
     },
     "metadata": {},
     "output_type": "display_data"
    },
    {
     "name": "stdout",
     "output_type": "stream",
     "text": [
      "{'affected_rows': 1, 'success': True, 'auth_check': {'session': None, 'auth_level': None, 'success': True}, '_execution_time': 0.066}\n"
     ]
    },
    {
     "data": {
      "text/plain": [
       "{'id': 22070,\n",
       " 'kv_swap2005': '\"swap2005\"=>\"true\"',\n",
       " 'scientificname_tir': 'Beameria venosa'}"
      ]
     },
     "metadata": {},
     "output_type": "display_data"
    },
    {
     "name": "stdout",
     "output_type": "stream",
     "text": [
      "{'affected_rows': 1, 'success': True, 'auth_check': {'session': None, 'auth_level': None, 'success': True}, '_execution_time': 0.065}\n"
     ]
    },
    {
     "data": {
      "text/plain": [
       "{'id': 22651,\n",
       " 'kv_swap2005': '\"swap2005\"=>\"false\"',\n",
       " 'scientificname_tir': 'Caliphyllidae'}"
      ]
     },
     "metadata": {},
     "output_type": "display_data"
    },
    {
     "name": "stdout",
     "output_type": "stream",
     "text": [
      "{'affected_rows': 1, 'success': True, 'auth_check': {'session': None, 'auth_level': None, 'success': True}, '_execution_time': 0.066}\n"
     ]
    },
    {
     "data": {
      "text/plain": [
       "{'id': 24875,\n",
       " 'kv_swap2005': '\"swap2005\"=>\"true\"',\n",
       " 'scientificname_tir': 'Cyprinodon eximius'}"
      ]
     },
     "metadata": {},
     "output_type": "display_data"
    },
    {
     "name": "stdout",
     "output_type": "stream",
     "text": [
      "{'affected_rows': 1, 'success': True, 'auth_check': {'session': None, 'auth_level': None, 'success': True}, '_execution_time': 0.121}\n"
     ]
    },
    {
     "data": {
      "text/plain": [
       "{'id': 25861,\n",
       " 'kv_swap2005': '\"swap2005\"=>\"true\"',\n",
       " 'scientificname_tir': 'Enochrus fimbriatus'}"
      ]
     },
     "metadata": {},
     "output_type": "display_data"
    },
    {
     "name": "stdout",
     "output_type": "stream",
     "text": [
      "{'affected_rows': 1, 'success': True, 'auth_check': {'session': None, 'auth_level': None, 'success': True}, '_execution_time': 0.066}\n"
     ]
    },
    {
     "data": {
      "text/plain": [
       "{'id': 23215,\n",
       " 'kv_swap2005': '\"swap2005\"=>\"false\"',\n",
       " 'scientificname_tir': 'Cassidae'}"
      ]
     },
     "metadata": {},
     "output_type": "display_data"
    },
    {
     "name": "stdout",
     "output_type": "stream",
     "text": [
      "{'affected_rows': 1, 'success': True, 'auth_check': {'session': None, 'auth_level': None, 'success': True}, '_execution_time': 0.107}\n"
     ]
    },
    {
     "data": {
      "text/plain": [
       "{'id': 33433,\n",
       " 'kv_swap2005': '\"swap2005\"=>\"true\"',\n",
       " 'scientificname_tir': 'Praticolella bakeri'}"
      ]
     },
     "metadata": {},
     "output_type": "display_data"
    },
    {
     "name": "stdout",
     "output_type": "stream",
     "text": [
      "{'affected_rows': 1, 'success': True, 'auth_check': {'session': None, 'auth_level': None, 'success': True}, '_execution_time': 0.067}\n"
     ]
    },
    {
     "data": {
      "text/plain": [
       "{'id': 26207,\n",
       " 'kv_swap2005': '\"swap2005\"=>\"true\"',\n",
       " 'scientificname_tir': 'Etheostoma jessiae'}"
      ]
     },
     "metadata": {},
     "output_type": "display_data"
    },
    {
     "name": "stdout",
     "output_type": "stream",
     "text": [
      "{'affected_rows': 1, 'success': True, 'auth_check': {'session': None, 'auth_level': None, 'success': True}, '_execution_time': 0.066}\n"
     ]
    },
    {
     "data": {
      "text/plain": [
       "{'id': 27068,\n",
       " 'kv_swap2005': '\"swap2005\"=>\"true\"',\n",
       " 'scientificname_tir': 'Gila bicolor eutysoma'}"
      ]
     },
     "metadata": {},
     "output_type": "display_data"
    },
    {
     "name": "stdout",
     "output_type": "stream",
     "text": [
      "{'affected_rows': 1, 'success': True, 'auth_check': {'session': None, 'auth_level': None, 'success': True}, '_execution_time': 0.064}\n"
     ]
    },
    {
     "data": {
      "text/plain": [
       "{'id': 34137,\n",
       " 'kv_swap2005': '\"swap2005\"=>\"true\"',\n",
       " 'scientificname_tir': 'Pyrgulopsis fairbanksensis'}"
      ]
     },
     "metadata": {},
     "output_type": "display_data"
    },
    {
     "name": "stdout",
     "output_type": "stream",
     "text": [
      "{'affected_rows': 1, 'success': True, 'auth_check': {'session': None, 'auth_level': None, 'success': True}, '_execution_time': 0.064}\n"
     ]
    },
    {
     "data": {
      "text/plain": [
       "{'id': 23388,\n",
       " 'kv_swap2005': '\"swap2005\"=>\"false\"',\n",
       " 'scientificname_tir': 'Centromerus latidens'}"
      ]
     },
     "metadata": {},
     "output_type": "display_data"
    },
    {
     "name": "stdout",
     "output_type": "stream",
     "text": [
      "{'affected_rows': 1, 'success': True, 'auth_check': {'session': None, 'auth_level': None, 'success': True}, '_execution_time': 0.066}\n"
     ]
    },
    {
     "data": {
      "text/plain": [
       "{'id': 24292,\n",
       " 'kv_swap2005': '\"swap2005\"=>\"true\"',\n",
       " 'scientificname_tir': 'Copelatus glyphicus'}"
      ]
     },
     "metadata": {},
     "output_type": "display_data"
    },
    {
     "name": "stdout",
     "output_type": "stream",
     "text": [
      "{'affected_rows': 1, 'success': True, 'auth_check': {'session': None, 'auth_level': None, 'success': True}, '_execution_time': 0.067}\n"
     ]
    },
    {
     "data": {
      "text/plain": [
       "{'id': 34237,\n",
       " 'kv_swap2005': '\"swap2005\"=>\"true\"',\n",
       " 'scientificname_tir': 'Quadrula apiculata'}"
      ]
     },
     "metadata": {},
     "output_type": "display_data"
    },
    {
     "name": "stdout",
     "output_type": "stream",
     "text": [
      "{'affected_rows': 1, 'success': True, 'auth_check': {'session': None, 'auth_level': None, 'success': True}, '_execution_time': 0.067}\n"
     ]
    },
    {
     "data": {
      "text/plain": [
       "{'id': 22134,\n",
       " 'kv_swap2005': '\"swap2005\"=>\"true\"',\n",
       " 'scientificname_tir': 'Bidens micrantha subsp. ctenophylla'}"
      ]
     },
     "metadata": {},
     "output_type": "display_data"
    },
    {
     "name": "stdout",
     "output_type": "stream",
     "text": [
      "{'affected_rows': 1, 'success': True, 'auth_check': {'session': None, 'auth_level': None, 'success': True}, '_execution_time': 0.065}\n"
     ]
    },
    {
     "data": {
      "text/plain": [
       "{'id': 34674,\n",
       " 'kv_swap2005': '\"swap2005\"=>\"true\"',\n",
       " 'scientificname_tir': 'Rupellaria typica'}"
      ]
     },
     "metadata": {},
     "output_type": "display_data"
    },
    {
     "name": "stdout",
     "output_type": "stream",
     "text": [
      "{'affected_rows': 1, 'success': True, 'auth_check': {'session': None, 'auth_level': None, 'success': True}, '_execution_time': 0.072}\n"
     ]
    },
    {
     "data": {
      "text/plain": [
       "{'id': 34101,\n",
       " 'kv_swap2005': '\"swap2005\"=>\"true\"',\n",
       " 'scientificname_tir': 'Pyreferra ceromatica'}"
      ]
     },
     "metadata": {},
     "output_type": "display_data"
    },
    {
     "name": "stdout",
     "output_type": "stream",
     "text": [
      "{'affected_rows': 1, 'success': True, 'auth_check': {'session': None, 'auth_level': None, 'success': True}, '_execution_time': 0.113}\n"
     ]
    },
    {
     "data": {
      "text/plain": [
       "{'id': 34168,\n",
       " 'kv_swap2005': '\"swap2005\"=>\"true\"',\n",
       " 'scientificname_tir': 'Pyrgulopsis metcalfi'}"
      ]
     },
     "metadata": {},
     "output_type": "display_data"
    },
    {
     "name": "stdout",
     "output_type": "stream",
     "text": [
      "{'affected_rows': 1, 'success': True, 'auth_check': {'session': None, 'auth_level': None, 'success': True}, '_execution_time': 0.067}\n"
     ]
    },
    {
     "data": {
      "text/plain": [
       "{'id': 24387,\n",
       " 'kv_swap2005': '\"swap2005\"=>\"true\"',\n",
       " 'scientificname_tir': 'Coryphaena hippurus'}"
      ]
     },
     "metadata": {},
     "output_type": "display_data"
    },
    {
     "name": "stdout",
     "output_type": "stream",
     "text": [
      "{'affected_rows': 1, 'success': True, 'auth_check': {'session': None, 'auth_level': None, 'success': True}, '_execution_time': 0.109}\n"
     ]
    },
    {
     "data": {
      "text/plain": [
       "{'id': 21430,\n",
       " 'kv_swap2005': '\"swap2005\"=>\"true\"',\n",
       " 'scientificname_tir': 'Apocorophium acutum'}"
      ]
     },
     "metadata": {},
     "output_type": "display_data"
    },
    {
     "name": "stdout",
     "output_type": "stream",
     "text": [
      "{'affected_rows': 1, 'success': True, 'auth_check': {'session': None, 'auth_level': None, 'success': True}, '_execution_time': 0.066}\n"
     ]
    },
    {
     "data": {
      "text/plain": [
       "{'id': 24461,\n",
       " 'kv_swap2005': '\"swap2005\"=>\"true\"',\n",
       " 'scientificname_tir': 'Crambidia pura'}"
      ]
     },
     "metadata": {},
     "output_type": "display_data"
    },
    {
     "name": "stdout",
     "output_type": "stream",
     "text": [
      "{'affected_rows': 1, 'success': True, 'auth_check': {'session': None, 'auth_level': None, 'success': True}, '_execution_time': 0.115}\n"
     ]
    },
    {
     "data": {
      "text/plain": [
       "{'id': 28847,\n",
       " 'kv_swap2005': '\"swap2005\"=>\"true\"',\n",
       " 'scientificname_tir': 'Lemiox rimosus'}"
      ]
     },
     "metadata": {},
     "output_type": "display_data"
    },
    {
     "name": "stdout",
     "output_type": "stream",
     "text": [
      "{'affected_rows': 1, 'success': True, 'auth_check': {'session': None, 'auth_level': None, 'success': True}, '_execution_time': 0.068}\n"
     ]
    },
    {
     "data": {
      "text/plain": [
       "{'id': 28691,\n",
       " 'kv_swap2005': '\"swap2005\"=>\"true\"',\n",
       " 'scientificname_tir': 'Lampsilis cardium'}"
      ]
     },
     "metadata": {},
     "output_type": "display_data"
    },
    {
     "name": "stdout",
     "output_type": "stream",
     "text": [
      "{'affected_rows': 1, 'success': True, 'auth_check': {'session': None, 'auth_level': None, 'success': True}, '_execution_time': 0.07}\n"
     ]
    },
    {
     "data": {
      "text/plain": [
       "{'id': 30011,\n",
       " 'kv_swap2005': '\"swap2005\"=>\"true\"',\n",
       " 'scientificname_tir': 'Menidia beryllina'}"
      ]
     },
     "metadata": {},
     "output_type": "display_data"
    },
    {
     "name": "stdout",
     "output_type": "stream",
     "text": [
      "{'affected_rows': 1, 'success': True, 'auth_check': {'session': None, 'auth_level': None, 'success': True}, '_execution_time': 0.067}\n"
     ]
    },
    {
     "data": {
      "text/plain": [
       "{'id': 36251,\n",
       " 'kv_swap2005': '\"swap2005\"=>\"false\"',\n",
       " 'scientificname_tir': 'Stygopyrgus bartonensis'}"
      ]
     },
     "metadata": {},
     "output_type": "display_data"
    },
    {
     "name": "stdout",
     "output_type": "stream",
     "text": [
      "{'affected_rows': 1, 'success': True, 'auth_check': {'session': None, 'auth_level': None, 'success': True}, '_execution_time': 0.074}\n"
     ]
    },
    {
     "data": {
      "text/plain": [
       "{'id': 26850,\n",
       " 'kv_swap2005': '\"swap2005\"=>\"true\"',\n",
       " 'scientificname_tir': 'Fusconaia burkei'}"
      ]
     },
     "metadata": {},
     "output_type": "display_data"
    },
    {
     "name": "stdout",
     "output_type": "stream",
     "text": [
      "{'affected_rows': 1, 'success': True, 'auth_check': {'session': None, 'auth_level': None, 'success': True}, '_execution_time': 0.067}\n"
     ]
    },
    {
     "data": {
      "text/plain": [
       "{'id': 31350,\n",
       " 'kv_swap2005': '\"swap2005\"=>\"false\"',\n",
       " 'scientificname_tir': 'Oncorhynchus tshawytscha pop. 1'}"
      ]
     },
     "metadata": {},
     "output_type": "display_data"
    },
    {
     "name": "stdout",
     "output_type": "stream",
     "text": [
      "{'affected_rows': 1, 'success': True, 'auth_check': {'session': None, 'auth_level': None, 'success': True}, '_execution_time': 0.099}\n"
     ]
    },
    {
     "data": {
      "text/plain": [
       "{'id': 36116,\n",
       " 'kv_swap2005': '\"swap2005\"=>\"false\"',\n",
       " 'scientificname_tir': 'Strobilops labyrinthicus'}"
      ]
     },
     "metadata": {},
     "output_type": "display_data"
    },
    {
     "name": "stdout",
     "output_type": "stream",
     "text": [
      "{'affected_rows': 1, 'success': True, 'auth_check': {'session': None, 'auth_level': None, 'success': True}, '_execution_time': 0.067}\n"
     ]
    },
    {
     "data": {
      "text/plain": [
       "{'id': 25718,\n",
       " 'kv_swap2005': '\"swap2005\"=>\"true\"',\n",
       " 'scientificname_tir': 'Elliptio congaraea'}"
      ]
     },
     "metadata": {},
     "output_type": "display_data"
    },
    {
     "name": "stdout",
     "output_type": "stream",
     "text": [
      "{'affected_rows': 1, 'success': True, 'auth_check': {'session': None, 'auth_level': None, 'success': True}, '_execution_time': 0.085}\n"
     ]
    },
    {
     "data": {
      "text/plain": [
       "{'id': 35193,\n",
       " 'kv_swap2005': '\"swap2005\"=>\"false\"',\n",
       " 'scientificname_tir': 'Serica pusilla'}"
      ]
     },
     "metadata": {},
     "output_type": "display_data"
    },
    {
     "name": "stdout",
     "output_type": "stream",
     "text": [
      "{'affected_rows': 1, 'success': True, 'auth_check': {'session': None, 'auth_level': None, 'success': True}, '_execution_time': 0.096}\n"
     ]
    },
    {
     "data": {
      "text/plain": [
       "{'id': 20530,\n",
       " 'kv_swap2005': '\"swap2005\"=>\"false\"',\n",
       " 'scientificname_tir': 'Acropora globiceps'}"
      ]
     },
     "metadata": {},
     "output_type": "display_data"
    },
    {
     "name": "stdout",
     "output_type": "stream",
     "text": [
      "{'affected_rows': 1, 'success': True, 'auth_check': {'session': None, 'auth_level': None, 'success': True}, '_execution_time': 0.099}\n"
     ]
    },
    {
     "data": {
      "text/plain": [
       "{'id': 32176,\n",
       " 'kv_swap2005': '\"swap2005\"=>\"true\"',\n",
       " 'scientificname_tir': 'Pelicanus occidentalis carolinensis'}"
      ]
     },
     "metadata": {},
     "output_type": "display_data"
    },
    {
     "name": "stdout",
     "output_type": "stream",
     "text": [
      "{'affected_rows': 1, 'success': True, 'auth_check': {'session': None, 'auth_level': None, 'success': True}, '_execution_time': 0.089}\n"
     ]
    },
    {
     "data": {
      "text/plain": [
       "{'id': 31898,\n",
       " 'kv_swap2005': '\"swap2005\"=>\"true\"',\n",
       " 'scientificname_tir': 'Papaipema sp. 10'}"
      ]
     },
     "metadata": {},
     "output_type": "display_data"
    },
    {
     "name": "stdout",
     "output_type": "stream",
     "text": [
      "{'affected_rows': 1, 'success': True, 'auth_check': {'session': None, 'auth_level': None, 'success': True}, '_execution_time': 0.067}\n"
     ]
    },
    {
     "data": {
      "text/plain": [
       "{'id': 29849,\n",
       " 'kv_swap2005': '\"swap2005\"=>\"true\"',\n",
       " 'scientificname_tir': 'Megalonaias nervosa'}"
      ]
     },
     "metadata": {},
     "output_type": "display_data"
    },
    {
     "name": "stdout",
     "output_type": "stream",
     "text": [
      "{'affected_rows': 1, 'success': True, 'auth_check': {'session': None, 'auth_level': None, 'success': True}, '_execution_time': 0.095}\n"
     ]
    },
    {
     "data": {
      "text/plain": [
       "{'id': 33112,\n",
       " 'kv_swap2005': '\"swap2005\"=>\"true\"',\n",
       " 'scientificname_tir': 'Pleuronaia dolabelloides'}"
      ]
     },
     "metadata": {},
     "output_type": "display_data"
    },
    {
     "name": "stdout",
     "output_type": "stream",
     "text": [
      "{'affected_rows': 1, 'success': True, 'auth_check': {'session': None, 'auth_level': None, 'success': True}, '_execution_time': 0.067}\n"
     ]
    },
    {
     "data": {
      "text/plain": [
       "{'id': 24857,\n",
       " 'kv_swap2005': '\"swap2005\"=>\"false\"',\n",
       " 'scientificname_tir': 'Cyprinella monacha'}"
      ]
     },
     "metadata": {},
     "output_type": "display_data"
    },
    {
     "name": "stdout",
     "output_type": "stream",
     "text": [
      "{'affected_rows': 1, 'success': True, 'auth_check': {'session': None, 'auth_level': None, 'success': True}, '_execution_time': 0.07}\n"
     ]
    },
    {
     "data": {
      "text/plain": [
       "{'id': 25732,\n",
       " 'kv_swap2005': '\"swap2005\"=>\"true\"',\n",
       " 'scientificname_tir': 'Elliptio mcmichaeli'}"
      ]
     },
     "metadata": {},
     "output_type": "display_data"
    },
    {
     "name": "stdout",
     "output_type": "stream",
     "text": [
      "{'affected_rows': 1, 'success': True, 'auth_check': {'session': None, 'auth_level': None, 'success': True}, '_execution_time': 0.067}\n"
     ]
    },
    {
     "data": {
      "text/plain": [
       "{'id': 32128,\n",
       " 'kv_swap2005': '\"swap2005\"=>\"false\"',\n",
       " 'scientificname_tir': 'Patera clarki clarki'}"
      ]
     },
     "metadata": {},
     "output_type": "display_data"
    },
    {
     "name": "stdout",
     "output_type": "stream",
     "text": [
      "{'affected_rows': 1, 'success': True, 'auth_check': {'session': None, 'auth_level': None, 'success': True}, '_execution_time': 0.083}\n"
     ]
    },
    {
     "data": {
      "text/plain": [
       "{'id': 31676,\n",
       " 'kv_swap2005': '\"swap2005\"=>\"false\"',\n",
       " 'scientificname_tir': 'Ostreidae'}"
      ]
     },
     "metadata": {},
     "output_type": "display_data"
    },
    {
     "name": "stdout",
     "output_type": "stream",
     "text": [
      "{'affected_rows': 1, 'success': True, 'auth_check': {'session': None, 'auth_level': None, 'success': True}, '_execution_time': 0.066}\n"
     ]
    },
    {
     "data": {
      "text/plain": [
       "{'id': 32041,\n",
       " 'kv_swap2005': '\"swap2005\"=>\"true\"',\n",
       " 'scientificname_tir': 'Paravitrea umbilicaris'}"
      ]
     },
     "metadata": {},
     "output_type": "display_data"
    },
    {
     "name": "stdout",
     "output_type": "stream",
     "text": [
      "{'affected_rows': 1, 'success': True, 'auth_check': {'session': None, 'auth_level': None, 'success': True}, '_execution_time': 0.067}\n"
     ]
    },
    {
     "data": {
      "text/plain": [
       "{'id': 37323,\n",
       " 'kv_swap2005': '\"swap2005\"=>\"true\"',\n",
       " 'scientificname_tir': 'Venustaconcha ellipsiformis'}"
      ]
     },
     "metadata": {},
     "output_type": "display_data"
    },
    {
     "name": "stdout",
     "output_type": "stream",
     "text": [
      "{'affected_rows': 1, 'success': True, 'auth_check': {'session': None, 'auth_level': None, 'success': True}, '_execution_time': 0.067}\n"
     ]
    },
    {
     "data": {
      "text/plain": [
       "{'id': 32526,\n",
       " 'kv_swap2005': '\"swap2005\"=>\"true\"',\n",
       " 'scientificname_tir': 'Philomycus virginicus'}"
      ]
     },
     "metadata": {},
     "output_type": "display_data"
    },
    {
     "name": "stdout",
     "output_type": "stream",
     "text": [
      "{'affected_rows': 1, 'success': True, 'auth_check': {'session': None, 'auth_level': None, 'success': True}, '_execution_time': 0.068}\n"
     ]
    },
    {
     "data": {
      "text/plain": [
       "{'id': 21232,\n",
       " 'kv_swap2005': '\"swap2005\"=>\"true\"',\n",
       " 'scientificname_tir': 'Anodonta nuttalliana'}"
      ]
     },
     "metadata": {},
     "output_type": "display_data"
    },
    {
     "name": "stdout",
     "output_type": "stream",
     "text": [
      "{'affected_rows': 1, 'success': True, 'auth_check': {'session': None, 'auth_level': None, 'success': True}, '_execution_time': 0.078}\n"
     ]
    },
    {
     "data": {
      "text/plain": [
       "{'id': 29033,\n",
       " 'kv_swap2005': '\"swap2005\"=>\"false\"',\n",
       " 'scientificname_tir': 'Lestidae'}"
      ]
     },
     "metadata": {},
     "output_type": "display_data"
    },
    {
     "name": "stdout",
     "output_type": "stream",
     "text": [
      "{'affected_rows': 1, 'success': True, 'auth_check': {'session': None, 'auth_level': None, 'success': True}, '_execution_time': 0.067}\n"
     ]
    },
    {
     "data": {
      "text/plain": [
       "{'id': 25449,\n",
       " 'kv_swap2005': '\"swap2005\"=>\"true\"',\n",
       " 'scientificname_tir': 'Drymarchon corais'}"
      ]
     },
     "metadata": {},
     "output_type": "display_data"
    },
    {
     "name": "stdout",
     "output_type": "stream",
     "text": [
      "{'affected_rows': 1, 'success': True, 'auth_check': {'session': None, 'auth_level': None, 'success': True}, '_execution_time': 0.108}\n"
     ]
    },
    {
     "data": {
      "text/plain": [
       "{'id': 37324,\n",
       " 'kv_swap2005': '\"swap2005\"=>\"false\"',\n",
       " 'scientificname_tir': 'Venustaconcha  ellipsiformis'}"
      ]
     },
     "metadata": {},
     "output_type": "display_data"
    },
    {
     "name": "stdout",
     "output_type": "stream",
     "text": [
      "{'affected_rows': 1, 'success': True, 'auth_check': {'session': None, 'auth_level': None, 'success': True}, '_execution_time': 0.071}\n"
     ]
    },
    {
     "data": {
      "text/plain": [
       "{'id': 25424,\n",
       " 'kv_swap2005': '\"swap2005\"=>\"true\"',\n",
       " 'scientificname_tir': 'Dromia dormia'}"
      ]
     },
     "metadata": {},
     "output_type": "display_data"
    },
    {
     "name": "stdout",
     "output_type": "stream",
     "text": [
      "{'affected_rows': 1, 'success': True, 'auth_check': {'session': None, 'auth_level': None, 'success': True}, '_execution_time': 0.066}\n"
     ]
    },
    {
     "data": {
      "text/plain": [
       "{'id': 28223,\n",
       " 'kv_swap2005': '\"swap2005\"=>\"false\"',\n",
       " 'scientificname_tir': 'Icteria virens auricollis'}"
      ]
     },
     "metadata": {},
     "output_type": "display_data"
    },
    {
     "name": "stdout",
     "output_type": "stream",
     "text": [
      "{'affected_rows': 1, 'success': True, 'auth_check': {'session': None, 'auth_level': None, 'success': True}, '_execution_time': 0.108}\n"
     ]
    },
    {
     "data": {
      "text/plain": [
       "{'id': 33902,\n",
       " 'kv_swap2005': '\"swap2005\"=>\"true\"',\n",
       " 'scientificname_tir': 'Pseudosinella spinosa'}"
      ]
     },
     "metadata": {},
     "output_type": "display_data"
    },
    {
     "name": "stdout",
     "output_type": "stream",
     "text": [
      "{'affected_rows': 1, 'success': True, 'auth_check': {'session': None, 'auth_level': None, 'success': True}, '_execution_time': 0.07}\n"
     ]
    },
    {
     "data": {
      "text/plain": [
       "{'id': 25450,\n",
       " 'kv_swap2005': '\"swap2005\"=>\"true\"',\n",
       " 'scientificname_tir': 'Drymarchon couperi'}"
      ]
     },
     "metadata": {},
     "output_type": "display_data"
    },
    {
     "name": "stdout",
     "output_type": "stream",
     "text": [
      "{'affected_rows': 1, 'success': True, 'auth_check': {'session': None, 'auth_level': None, 'success': True}, '_execution_time': 0.103}\n"
     ]
    },
    {
     "data": {
      "text/plain": [
       "{'id': 31442,\n",
       " 'kv_swap2005': '\"swap2005\"=>\"true\"',\n",
       " 'scientificname_tir': 'Oporornis philadelphia'}"
      ]
     },
     "metadata": {},
     "output_type": "display_data"
    },
    {
     "name": "stdout",
     "output_type": "stream",
     "text": [
      "{'affected_rows': 1, 'success': True, 'auth_check': {'session': None, 'auth_level': None, 'success': True}, '_execution_time': 0.075}\n"
     ]
    },
    {
     "data": {
      "text/plain": [
       "{'id': 25676,\n",
       " 'kv_swap2005': '\"swap2005\"=>\"true\"',\n",
       " 'scientificname_tir': 'Elimia annettae'}"
      ]
     },
     "metadata": {},
     "output_type": "display_data"
    },
    {
     "name": "stdout",
     "output_type": "stream",
     "text": [
      "{'affected_rows': 1, 'success': True, 'auth_check': {'session': None, 'auth_level': None, 'success': True}, '_execution_time': 0.087}\n"
     ]
    },
    {
     "data": {
      "text/plain": [
       "{'id': 25320,\n",
       " 'kv_swap2005': '\"swap2005\"=>\"true\"',\n",
       " 'scientificname_tir': 'Discus bryanti'}"
      ]
     },
     "metadata": {},
     "output_type": "display_data"
    },
    {
     "name": "stdout",
     "output_type": "stream",
     "text": [
      "{'affected_rows': 1, 'success': True, 'auth_check': {'session': None, 'auth_level': None, 'success': True}, '_execution_time': 0.065}\n"
     ]
    },
    {
     "data": {
      "text/plain": [
       "{'id': 32816,\n",
       " 'kv_swap2005': '\"swap2005\"=>\"false\"',\n",
       " 'scientificname_tir': 'Pisidium fallax'}"
      ]
     },
     "metadata": {},
     "output_type": "display_data"
    },
    {
     "name": "stdout",
     "output_type": "stream",
     "text": [
      "{'affected_rows': 1, 'success': True, 'auth_check': {'session': None, 'auth_level': None, 'success': True}, '_execution_time': 0.096}\n"
     ]
    },
    {
     "data": {
      "text/plain": [
       "{'id': 37031,\n",
       " 'kv_swap2005': '\"swap2005\"=>\"false\"',\n",
       " 'scientificname_tir': 'Triodopsis fraudulenta'}"
      ]
     },
     "metadata": {},
     "output_type": "display_data"
    },
    {
     "name": "stdout",
     "output_type": "stream",
     "text": [
      "{'affected_rows': 1, 'success': True, 'auth_check': {'session': None, 'auth_level': None, 'success': True}, '_execution_time': 0.066}\n"
     ]
    },
    {
     "data": {
      "text/plain": [
       "{'id': 37039,\n",
       " 'kv_swap2005': '\"swap2005\"=>\"true\"',\n",
       " 'scientificname_tir': 'Triodopsis tennesseensis'}"
      ]
     },
     "metadata": {},
     "output_type": "display_data"
    },
    {
     "name": "stdout",
     "output_type": "stream",
     "text": [
      "{'affected_rows': 1, 'success': True, 'auth_check': {'session': None, 'auth_level': None, 'success': True}, '_execution_time': 0.074}\n"
     ]
    },
    {
     "data": {
      "text/plain": [
       "{'id': 34506,\n",
       " 'kv_swap2005': '\"swap2005\"=>\"false\"',\n",
       " 'scientificname_tir': 'Rhipidura rufifrons mariae'}"
      ]
     },
     "metadata": {},
     "output_type": "display_data"
    },
    {
     "name": "stdout",
     "output_type": "stream",
     "text": [
      "{'affected_rows': 1, 'success': True, 'auth_check': {'session': None, 'auth_level': None, 'success': True}, '_execution_time': 0.1}\n"
     ]
    },
    {
     "data": {
      "text/plain": [
       "{'id': 35135,\n",
       " 'kv_swap2005': '\"swap2005\"=>\"false\"',\n",
       " 'scientificname_tir': 'Seiurus novaboracensis'}"
      ]
     },
     "metadata": {},
     "output_type": "display_data"
    },
    {
     "name": "stdout",
     "output_type": "stream",
     "text": [
      "{'affected_rows': 1, 'success': True, 'auth_check': {'session': None, 'auth_level': None, 'success': True}, '_execution_time': 0.065}\n"
     ]
    },
    {
     "data": {
      "text/plain": [
       "{'id': 27309,\n",
       " 'kv_swap2005': '\"swap2005\"=>\"false\"',\n",
       " 'scientificname_tir': 'Gronocarus autumnalis'}"
      ]
     },
     "metadata": {},
     "output_type": "display_data"
    },
    {
     "name": "stdout",
     "output_type": "stream",
     "text": [
      "{'affected_rows': 1, 'success': True, 'auth_check': {'session': None, 'auth_level': None, 'success': True}, '_execution_time': 0.073}\n"
     ]
    },
    {
     "data": {
      "text/plain": [
       "{'id': 28434,\n",
       " 'kv_swap2005': '\"swap2005\"=>\"false\"',\n",
       " 'scientificname_tir': 'Juga sp. 7'}"
      ]
     },
     "metadata": {},
     "output_type": "display_data"
    },
    {
     "name": "stdout",
     "output_type": "stream",
     "text": [
      "{'affected_rows': 1, 'success': True, 'auth_check': {'session': None, 'auth_level': None, 'success': True}, '_execution_time': 0.064}\n"
     ]
    },
    {
     "data": {
      "text/plain": [
       "{'id': 26029,\n",
       " 'kv_swap2005': '\"swap2005\"=>\"true\"',\n",
       " 'scientificname_tir': 'Ericthonius brasiliensis'}"
      ]
     },
     "metadata": {},
     "output_type": "display_data"
    },
    {
     "name": "stdout",
     "output_type": "stream",
     "text": [
      "{'affected_rows': 1, 'success': True, 'auth_check': {'session': None, 'auth_level': None, 'success': True}, '_execution_time': 0.065}\n"
     ]
    },
    {
     "data": {
      "text/plain": [
       "{'id': 33743,\n",
       " 'kv_swap2005': '\"swap2005\"=>\"true\"',\n",
       " 'scientificname_tir': 'Pseudanophthalmus hubrichti'}"
      ]
     },
     "metadata": {},
     "output_type": "display_data"
    },
    {
     "name": "stdout",
     "output_type": "stream",
     "text": [
      "{'affected_rows': 1, 'success': True, 'auth_check': {'session': None, 'auth_level': None, 'success': True}, '_execution_time': 0.065}\n"
     ]
    },
    {
     "data": {
      "text/plain": [
       "{'id': 37345,\n",
       " 'kv_swap2005': '\"swap2005\"=>\"false\"',\n",
       " 'scientificname_tir': 'Vertiginidae'}"
      ]
     },
     "metadata": {},
     "output_type": "display_data"
    },
    {
     "name": "stdout",
     "output_type": "stream",
     "text": [
      "{'affected_rows': 1, 'success': True, 'auth_check': {'session': None, 'auth_level': None, 'success': True}, '_execution_time': 0.066}\n"
     ]
    },
    {
     "data": {
      "text/plain": [
       "{'id': 34129,\n",
       " 'kv_swap2005': '\"swap2005\"=>\"true\"',\n",
       " 'scientificname_tir': 'Pyrgulopsis crystalis'}"
      ]
     },
     "metadata": {},
     "output_type": "display_data"
    },
    {
     "name": "stdout",
     "output_type": "stream",
     "text": [
      "{'affected_rows': 1, 'success': True, 'auth_check': {'session': None, 'auth_level': None, 'success': True}, '_execution_time': 0.098}\n"
     ]
    },
    {
     "data": {
      "text/plain": [
       "{'id': 26895,\n",
       " 'kv_swap2005': '\"swap2005\"=>\"true\"',\n",
       " 'scientificname_tir': 'Gallinago gallinago'}"
      ]
     },
     "metadata": {},
     "output_type": "display_data"
    },
    {
     "name": "stdout",
     "output_type": "stream",
     "text": [
      "{'affected_rows': 1, 'success': True, 'auth_check': {'session': None, 'auth_level': None, 'success': True}, '_execution_time': 0.066}\n"
     ]
    },
    {
     "data": {
      "text/plain": [
       "{'id': 27407,\n",
       " 'kv_swap2005': '\"swap2005\"=>\"false\"',\n",
       " 'scientificname_tir': 'Halesia diptera'}"
      ]
     },
     "metadata": {},
     "output_type": "display_data"
    },
    {
     "name": "stdout",
     "output_type": "stream",
     "text": [
      "{'affected_rows': 1, 'success': True, 'auth_check': {'session': None, 'auth_level': None, 'success': True}, '_execution_time': 0.078}\n"
     ]
    },
    {
     "data": {
      "text/plain": [
       "{'id': 27416,\n",
       " 'kv_swap2005': '\"swap2005\"=>\"true\"',\n",
       " 'scientificname_tir': 'Halichoeres bivittatus'}"
      ]
     },
     "metadata": {},
     "output_type": "display_data"
    },
    {
     "name": "stdout",
     "output_type": "stream",
     "text": [
      "{'affected_rows': 1, 'success': True, 'auth_check': {'session': None, 'auth_level': None, 'success': True}, '_execution_time': 0.101}\n"
     ]
    },
    {
     "data": {
      "text/plain": [
       "{'id': 30182,\n",
       " 'kv_swap2005': '\"swap2005\"=>\"true\"',\n",
       " 'scientificname_tir': 'Microtus longicaudus coronarius'}"
      ]
     },
     "metadata": {},
     "output_type": "display_data"
    },
    {
     "name": "stdout",
     "output_type": "stream",
     "text": [
      "{'affected_rows': 1, 'success': True, 'auth_check': {'session': None, 'auth_level': None, 'success': True}, '_execution_time': 0.11}\n"
     ]
    },
    {
     "data": {
      "text/plain": [
       "{'id': 32396,\n",
       " 'kv_swap2005': '\"swap2005\"=>\"true\"',\n",
       " 'scientificname_tir': 'Peromyscus keeni hylaeus'}"
      ]
     },
     "metadata": {},
     "output_type": "display_data"
    },
    {
     "name": "stdout",
     "output_type": "stream",
     "text": [
      "{'affected_rows': 1, 'success': True, 'auth_check': {'session': None, 'auth_level': None, 'success': True}, '_execution_time': 0.066}\n"
     ]
    },
    {
     "data": {
      "text/plain": [
       "{'id': 31582,\n",
       " 'kv_swap2005': '\"swap2005\"=>\"false\"',\n",
       " 'scientificname_tir': 'Oreohelix sp. 18 (O. idahoensis baileyi)'}"
      ]
     },
     "metadata": {},
     "output_type": "display_data"
    },
    {
     "name": "stdout",
     "output_type": "stream",
     "text": [
      "{'affected_rows': 1, 'success': True, 'auth_check': {'session': None, 'auth_level': None, 'success': True}, '_execution_time': 0.086}\n"
     ]
    },
    {
     "data": {
      "text/plain": [
       "{'id': 23907,\n",
       " 'kv_swap2005': '\"swap2005\"=>\"false\"',\n",
       " 'scientificname_tir': 'Cicurina pablo'}"
      ]
     },
     "metadata": {},
     "output_type": "display_data"
    },
    {
     "name": "stdout",
     "output_type": "stream",
     "text": [
      "{'affected_rows': 1, 'success': True, 'auth_check': {'session': None, 'auth_level': None, 'success': True}, '_execution_time': 0.066}\n"
     ]
    },
    {
     "data": {
      "text/plain": [
       "{'id': 30069,\n",
       " 'kv_swap2005': '\"swap2005\"=>\"false\"',\n",
       " 'scientificname_tir': 'Mesomphix capnodes'}"
      ]
     },
     "metadata": {},
     "output_type": "display_data"
    },
    {
     "name": "stdout",
     "output_type": "stream",
     "text": [
      "{'affected_rows': 1, 'success': True, 'auth_check': {'session': None, 'auth_level': None, 'success': True}, '_execution_time': 0.065}\n"
     ]
    },
    {
     "data": {
      "text/plain": [
       "{'id': 21450,\n",
       " 'kv_swap2005': '\"swap2005\"=>\"true\"',\n",
       " 'scientificname_tir': 'Appaleptoneta sp. 1'}"
      ]
     },
     "metadata": {},
     "output_type": "display_data"
    },
    {
     "name": "stdout",
     "output_type": "stream",
     "text": [
      "{'affected_rows': 1, 'success': True, 'auth_check': {'session': None, 'auth_level': None, 'success': True}, '_execution_time': 0.066}\n"
     ]
    },
    {
     "data": {
      "text/plain": [
       "{'id': 27420,\n",
       " 'kv_swap2005': '\"swap2005\"=>\"true\"',\n",
       " 'scientificname_tir': 'Halichoeres maculipinna'}"
      ]
     },
     "metadata": {},
     "output_type": "display_data"
    },
    {
     "name": "stdout",
     "output_type": "stream",
     "text": [
      "{'affected_rows': 1, 'success': True, 'auth_check': {'session': None, 'auth_level': None, 'success': True}, '_execution_time': 0.066}\n"
     ]
    },
    {
     "data": {
      "text/plain": [
       "{'id': 27502,\n",
       " 'kv_swap2005': '\"swap2005\"=>\"true\"',\n",
       " 'scientificname_tir': 'Hebrus buenoi'}"
      ]
     },
     "metadata": {},
     "output_type": "display_data"
    },
    {
     "name": "stdout",
     "output_type": "stream",
     "text": [
      "{'affected_rows': 1, 'success': True, 'auth_check': {'session': None, 'auth_level': None, 'success': True}, '_execution_time': 0.142}\n"
     ]
    },
    {
     "data": {
      "text/plain": [
       "{'id': 28440,\n",
       " 'kv_swap2005': '\"swap2005\"=>\"true\"',\n",
       " 'scientificname_tir': 'Junco phaeonotus'}"
      ]
     },
     "metadata": {},
     "output_type": "display_data"
    },
    {
     "name": "stdout",
     "output_type": "stream",
     "text": [
      "{'affected_rows': 1, 'success': True, 'auth_check': {'session': None, 'auth_level': None, 'success': True}, '_execution_time': 0.096}\n"
     ]
    },
    {
     "data": {
      "text/plain": [
       "{'id': 28693,\n",
       " 'kv_swap2005': '\"swap2005\"=>\"true\"',\n",
       " 'scientificname_tir': 'Lampsilis fasciola'}"
      ]
     },
     "metadata": {},
     "output_type": "display_data"
    },
    {
     "name": "stdout",
     "output_type": "stream",
     "text": [
      "{'affected_rows': 1, 'success': True, 'auth_check': {'session': None, 'auth_level': None, 'success': True}, '_execution_time': 0.068}\n"
     ]
    },
    {
     "data": {
      "text/plain": [
       "{'id': 28915,\n",
       " 'kv_swap2005': '\"swap2005\"=>\"true\"',\n",
       " 'scientificname_tir': 'Lepomis marginatus'}"
      ]
     },
     "metadata": {},
     "output_type": "display_data"
    },
    {
     "name": "stdout",
     "output_type": "stream",
     "text": [
      "{'affected_rows': 1, 'success': True, 'auth_check': {'session': None, 'auth_level': None, 'success': True}, '_execution_time': 0.064}\n"
     ]
    },
    {
     "data": {
      "text/plain": [
       "{'id': 27530,\n",
       " 'kv_swap2005': '\"swap2005\"=>\"false\"',\n",
       " 'scientificname_tir': 'Helianthus eggertii'}"
      ]
     },
     "metadata": {},
     "output_type": "display_data"
    },
    {
     "name": "stdout",
     "output_type": "stream",
     "text": [
      "{'affected_rows': 1, 'success': True, 'auth_check': {'session': None, 'auth_level': None, 'success': True}, '_execution_time': 0.065}\n"
     ]
    },
    {
     "data": {
      "text/plain": [
       "{'id': 27747,\n",
       " 'kv_swap2005': '\"swap2005\"=>\"true\"',\n",
       " 'scientificname_tir': 'Heterodon nasicus'}"
      ]
     },
     "metadata": {},
     "output_type": "display_data"
    },
    {
     "name": "stdout",
     "output_type": "stream",
     "text": [
      "{'affected_rows': 1, 'success': True, 'auth_check': {'session': None, 'auth_level': None, 'success': True}, '_execution_time': 0.065}\n"
     ]
    },
    {
     "data": {
      "text/plain": [
       "{'id': 30031,\n",
       " 'kv_swap2005': '\"swap2005\"=>\"true\"',\n",
       " 'scientificname_tir': 'Mercenaria campechiensis'}"
      ]
     },
     "metadata": {},
     "output_type": "display_data"
    },
    {
     "name": "stdout",
     "output_type": "stream",
     "text": [
      "{'affected_rows': 1, 'success': True, 'auth_check': {'session': None, 'auth_level': None, 'success': True}, '_execution_time': 0.082}\n"
     ]
    },
    {
     "data": {
      "text/plain": [
       "{'id': 37321,\n",
       " 'kv_swap2005': '\"swap2005\"=>\"true\"',\n",
       " 'scientificname_tir': 'Ventridens virginicus'}"
      ]
     },
     "metadata": {},
     "output_type": "display_data"
    },
    {
     "name": "stdout",
     "output_type": "stream",
     "text": [
      "{'affected_rows': 1, 'success': True, 'auth_check': {'session': None, 'auth_level': None, 'success': True}, '_execution_time': 0.079}\n"
     ]
    },
    {
     "data": {
      "text/plain": [
       "{'id': 21661,\n",
       " 'kv_swap2005': '\"swap2005\"=>\"false\"',\n",
       " 'scientificname_tir': 'Ashmunella bequaerti'}"
      ]
     },
     "metadata": {},
     "output_type": "display_data"
    },
    {
     "name": "stdout",
     "output_type": "stream",
     "text": [
      "{'affected_rows': 1, 'success': True, 'auth_check': {'session': None, 'auth_level': None, 'success': True}, '_execution_time': 0.066}\n"
     ]
    },
    {
     "data": {
      "text/plain": [
       "{'id': 31268,\n",
       " 'kv_swap2005': '\"swap2005\"=>\"false\"',\n",
       " 'scientificname_tir': 'Oncorhynchus kisutch 26'}"
      ]
     },
     "metadata": {},
     "output_type": "display_data"
    },
    {
     "name": "stdout",
     "output_type": "stream",
     "text": [
      "{'affected_rows': 1, 'success': True, 'auth_check': {'session': None, 'auth_level': None, 'success': True}, '_execution_time': 0.065}\n"
     ]
    },
    {
     "data": {
      "text/plain": [
       "{'id': 36768,\n",
       " 'kv_swap2005': '\"swap2005\"=>\"true\"',\n",
       " 'scientificname_tir': 'Thyonella gemmata'}"
      ]
     },
     "metadata": {},
     "output_type": "display_data"
    },
    {
     "name": "stdout",
     "output_type": "stream",
     "text": [
      "{'affected_rows': 1, 'success': True, 'auth_check': {'session': None, 'auth_level': None, 'success': True}, '_execution_time': 0.07}\n"
     ]
    },
    {
     "data": {
      "text/plain": [
       "{'id': 28790,\n",
       " 'kv_swap2005': '\"swap2005\"=>\"true\"',\n",
       " 'scientificname_tir': 'Lasmigona decorata'}"
      ]
     },
     "metadata": {},
     "output_type": "display_data"
    },
    {
     "name": "stdout",
     "output_type": "stream",
     "text": [
      "{'affected_rows': 1, 'success': True, 'auth_check': {'session': None, 'auth_level': None, 'success': True}, '_execution_time': 0.066}\n"
     ]
    },
    {
     "data": {
      "text/plain": [
       "{'id': 26809,\n",
       " 'kv_swap2005': '\"swap2005\"=>\"true\"',\n",
       " 'scientificname_tir': 'Fumonelix christyi'}"
      ]
     },
     "metadata": {},
     "output_type": "display_data"
    },
    {
     "name": "stdout",
     "output_type": "stream",
     "text": [
      "{'affected_rows': 1, 'success': True, 'auth_check': {'session': None, 'auth_level': None, 'success': True}, '_execution_time': 0.066}\n"
     ]
    },
    {
     "data": {
      "text/plain": [
       "{'id': 26737,\n",
       " 'kv_swap2005': '\"swap2005\"=>\"true\"',\n",
       " 'scientificname_tir': 'Fluminicola turbiniformis'}"
      ]
     },
     "metadata": {},
     "output_type": "display_data"
    },
    {
     "name": "stdout",
     "output_type": "stream",
     "text": [
      "{'affected_rows': 1, 'success': True, 'auth_check': {'session': None, 'auth_level': None, 'success': True}, '_execution_time': 0.106}\n"
     ]
    },
    {
     "data": {
      "text/plain": [
       "{'id': 28798,\n",
       " 'kv_swap2005': '\"swap2005\"=>\"true\"',\n",
       " 'scientificname_tir': 'Laterallus jamaicensis coturniculus'}"
      ]
     },
     "metadata": {},
     "output_type": "display_data"
    },
    {
     "name": "stdout",
     "output_type": "stream",
     "text": [
      "{'affected_rows': 1, 'success': True, 'auth_check': {'session': None, 'auth_level': None, 'success': True}, '_execution_time': 0.089}\n"
     ]
    },
    {
     "data": {
      "text/plain": [
       "{'id': 22466,\n",
       " 'kv_swap2005': '\"swap2005\"=>\"true\"',\n",
       " 'scientificname_tir': 'Busycon sinistrum'}"
      ]
     },
     "metadata": {},
     "output_type": "display_data"
    },
    {
     "name": "stdout",
     "output_type": "stream",
     "text": [
      "{'affected_rows': 1, 'success': True, 'auth_check': {'session': None, 'auth_level': None, 'success': True}, '_execution_time': 0.072}\n"
     ]
    },
    {
     "data": {
      "text/plain": [
       "{'id': 26840,\n",
       " 'kv_swap2005': '\"swap2005\"=>\"true\"',\n",
       " 'scientificname_tir': 'Fundulus sciadicus'}"
      ]
     },
     "metadata": {},
     "output_type": "display_data"
    },
    {
     "name": "stdout",
     "output_type": "stream",
     "text": [
      "{'affected_rows': 1, 'success': True, 'auth_check': {'session': None, 'auth_level': None, 'success': True}, '_execution_time': 0.068}\n"
     ]
    },
    {
     "data": {
      "text/plain": [
       "{'id': 29047,\n",
       " 'kv_swap2005': '\"swap2005\"=>\"false\"',\n",
       " 'scientificname_tir': 'Leucophaeus atricilla'}"
      ]
     },
     "metadata": {},
     "output_type": "display_data"
    },
    {
     "name": "stdout",
     "output_type": "stream",
     "text": [
      "{'affected_rows': 1, 'success': True, 'auth_check': {'session': None, 'auth_level': None, 'success': True}, '_execution_time': 0.066}\n"
     ]
    },
    {
     "data": {
      "text/plain": [
       "{'id': 27773,\n",
       " 'kv_swap2005': '\"swap2005\"=>\"true\"',\n",
       " 'scientificname_tir': 'Hexagenia bilineata'}"
      ]
     },
     "metadata": {},
     "output_type": "display_data"
    },
    {
     "name": "stdout",
     "output_type": "stream",
     "text": [
      "{'affected_rows': 1, 'success': True, 'auth_check': {'session': None, 'auth_level': None, 'success': True}, '_execution_time': 0.065}\n"
     ]
    },
    {
     "data": {
      "text/plain": [
       "{'id': 30381,\n",
       " 'kv_swap2005': '\"swap2005\"=>\"true\"',\n",
       " 'scientificname_tir': 'Moxostoma spp 2'}"
      ]
     },
     "metadata": {},
     "output_type": "display_data"
    },
    {
     "name": "stdout",
     "output_type": "stream",
     "text": [
      "{'affected_rows': 1, 'success': True, 'auth_check': {'session': None, 'auth_level': None, 'success': True}, '_execution_time': 0.067}\n"
     ]
    },
    {
     "data": {
      "text/plain": [
       "{'id': 22469,\n",
       " 'kv_swap2005': '\"swap2005\"=>\"true\"',\n",
       " 'scientificname_tir': 'Busycotypus canaliculatus'}"
      ]
     },
     "metadata": {},
     "output_type": "display_data"
    },
    {
     "name": "stdout",
     "output_type": "stream",
     "text": [
      "{'affected_rows': 1, 'success': True, 'auth_check': {'session': None, 'auth_level': None, 'success': True}, '_execution_time': 0.065}\n"
     ]
    },
    {
     "data": {
      "text/plain": [
       "{'id': 23207,\n",
       " 'kv_swap2005': '\"swap2005\"=>\"true\"',\n",
       " 'scientificname_tir': 'Carychium nannodes'}"
      ]
     },
     "metadata": {},
     "output_type": "display_data"
    },
    {
     "name": "stdout",
     "output_type": "stream",
     "text": [
      "{'affected_rows': 1, 'success': True, 'auth_check': {'session': None, 'auth_level': None, 'success': True}, '_execution_time': 0.066}\n"
     ]
    },
    {
     "data": {
      "text/plain": [
       "{'id': 27823,\n",
       " 'kv_swap2005': '\"swap2005\"=>\"true\"',\n",
       " 'scientificname_tir': 'Hippolyte spp.'}"
      ]
     },
     "metadata": {},
     "output_type": "display_data"
    },
    {
     "name": "stdout",
     "output_type": "stream",
     "text": [
      "{'affected_rows': 1, 'success': True, 'auth_check': {'session': None, 'auth_level': None, 'success': True}, '_execution_time': 0.066}\n"
     ]
    },
    {
     "data": {
      "text/plain": [
       "{'id': 27859,\n",
       " 'kv_swap2005': '\"swap2005\"=>\"false\"',\n",
       " 'scientificname_tir': 'Holcopasites (Holcopasites) jerryrozeni (Neff)'}"
      ]
     },
     "metadata": {},
     "output_type": "display_data"
    },
    {
     "name": "stdout",
     "output_type": "stream",
     "text": [
      "{'affected_rows': 1, 'success': True, 'auth_check': {'session': None, 'auth_level': None, 'success': True}, '_execution_time': 0.066}\n"
     ]
    },
    {
     "data": {
      "text/plain": [
       "{'id': 26723,\n",
       " 'kv_swap2005': '\"swap2005\"=>\"false\"',\n",
       " 'scientificname_tir': 'Floridobia ponderosa'}"
      ]
     },
     "metadata": {},
     "output_type": "display_data"
    },
    {
     "name": "stdout",
     "output_type": "stream",
     "text": [
      "{'affected_rows': 1, 'success': True, 'auth_check': {'session': None, 'auth_level': None, 'success': True}, '_execution_time': 0.09}\n"
     ]
    },
    {
     "data": {
      "text/plain": [
       "{'id': 29174,\n",
       " 'kv_swap2005': '\"swap2005\"=>\"true\"',\n",
       " 'scientificname_tir': 'Limnodromus griseus'}"
      ]
     },
     "metadata": {},
     "output_type": "display_data"
    },
    {
     "name": "stdout",
     "output_type": "stream",
     "text": [
      "{'affected_rows': 1, 'success': True, 'auth_check': {'session': None, 'auth_level': None, 'success': True}, '_execution_time': 0.066}\n"
     ]
    },
    {
     "data": {
      "text/plain": [
       "{'id': 23218,\n",
       " 'kv_swap2005': '\"swap2005\"=>\"true\"',\n",
       " 'scientificname_tir': 'Cassis flammea'}"
      ]
     },
     "metadata": {},
     "output_type": "display_data"
    },
    {
     "name": "stdout",
     "output_type": "stream",
     "text": [
      "{'affected_rows': 1, 'success': True, 'auth_check': {'session': None, 'auth_level': None, 'success': True}, '_execution_time': 0.1}\n"
     ]
    },
    {
     "data": {
      "text/plain": [
       "{'id': 23027,\n",
       " 'kv_swap2005': '\"swap2005\"=>\"true\"',\n",
       " 'scientificname_tir': 'Carex atlantica'}"
      ]
     },
     "metadata": {},
     "output_type": "display_data"
    },
    {
     "name": "stdout",
     "output_type": "stream",
     "text": [
      "{'affected_rows': 1, 'success': True, 'auth_check': {'session': None, 'auth_level': None, 'success': True}, '_execution_time': 0.064}\n"
     ]
    },
    {
     "data": {
      "text/plain": [
       "{'id': 31287,\n",
       " 'kv_swap2005': '\"swap2005\"=>\"false\"',\n",
       " 'scientificname_tir': 'Oncorhynchus mykiss 24'}"
      ]
     },
     "metadata": {},
     "output_type": "display_data"
    },
    {
     "name": "stdout",
     "output_type": "stream",
     "text": [
      "{'affected_rows': 1, 'success': True, 'auth_check': {'session': None, 'auth_level': None, 'success': True}, '_execution_time': 0.11}\n"
     ]
    },
    {
     "data": {
      "text/plain": [
       "{'id': 33780,\n",
       " 'kv_swap2005': '\"swap2005\"=>\"true\"',\n",
       " 'scientificname_tir': 'Pseudanophthalmus pusio'}"
      ]
     },
     "metadata": {},
     "output_type": "display_data"
    },
    {
     "name": "stdout",
     "output_type": "stream",
     "text": [
      "{'affected_rows': 1, 'success': True, 'auth_check': {'session': None, 'auth_level': None, 'success': True}, '_execution_time': 0.066}\n"
     ]
    },
    {
     "data": {
      "text/plain": [
       "{'id': 20998,\n",
       " 'kv_swap2005': '\"swap2005\"=>\"true\"',\n",
       " 'scientificname_tir': 'Ammodramus leconteii'}"
      ]
     },
     "metadata": {},
     "output_type": "display_data"
    },
    {
     "name": "stdout",
     "output_type": "stream",
     "text": [
      "{'affected_rows': 1, 'success': True, 'auth_check': {'session': None, 'auth_level': None, 'success': True}, '_execution_time': 0.109}\n"
     ]
    },
    {
     "data": {
      "text/plain": [
       "{'id': 27903,\n",
       " 'kv_swap2005': '\"swap2005\"=>\"true\"',\n",
       " 'scientificname_tir': 'Homoleptohyphes mirus'}"
      ]
     },
     "metadata": {},
     "output_type": "display_data"
    },
    {
     "name": "stdout",
     "output_type": "stream",
     "text": [
      "{'affected_rows': 1, 'success': True, 'auth_check': {'session': None, 'auth_level': None, 'success': True}, '_execution_time': 0.064}\n"
     ]
    },
    {
     "data": {
      "text/plain": [
       "{'id': 30115,\n",
       " 'kv_swap2005': '\"swap2005\"=>\"true\"',\n",
       " 'scientificname_tir': 'Micrathene whitneyi'}"
      ]
     },
     "metadata": {},
     "output_type": "display_data"
    },
    {
     "name": "stdout",
     "output_type": "stream",
     "text": [
      "{'affected_rows': 1, 'success': True, 'auth_check': {'session': None, 'auth_level': None, 'success': True}, '_execution_time': 0.099}\n"
     ]
    },
    {
     "data": {
      "text/plain": [
       "{'id': 23220,\n",
       " 'kv_swap2005': '\"swap2005\"=>\"true\"',\n",
       " 'scientificname_tir': 'Cassis tuberosa'}"
      ]
     },
     "metadata": {},
     "output_type": "display_data"
    },
    {
     "name": "stdout",
     "output_type": "stream",
     "text": [
      "{'affected_rows': 1, 'success': True, 'auth_check': {'session': None, 'auth_level': None, 'success': True}, '_execution_time': 0.065}\n"
     ]
    },
    {
     "data": {
      "text/plain": [
       "{'id': 30677,\n",
       " 'kv_swap2005': '\"swap2005\"=>\"true\"',\n",
       " 'scientificname_tir': 'Neonympha areolata areolata'}"
      ]
     },
     "metadata": {},
     "output_type": "display_data"
    },
    {
     "name": "stdout",
     "output_type": "stream",
     "text": [
      "{'affected_rows': 1, 'success': True, 'auth_check': {'session': None, 'auth_level': None, 'success': True}, '_execution_time': 0.065}\n"
     ]
    },
    {
     "data": {
      "text/plain": [
       "{'id': 30465,\n",
       " 'kv_swap2005': '\"swap2005\"=>\"true\"',\n",
       " 'scientificname_tir': 'Myiarchus cinerascens'}"
      ]
     },
     "metadata": {},
     "output_type": "display_data"
    },
    {
     "name": "stdout",
     "output_type": "stream",
     "text": [
      "{'affected_rows': 1, 'success': True, 'auth_check': {'session': None, 'auth_level': None, 'success': True}, '_execution_time': 0.065}\n"
     ]
    },
    {
     "data": {
      "text/plain": [
       "{'id': 21823,\n",
       " 'kv_swap2005': '\"swap2005\"=>\"true\"',\n",
       " 'scientificname_tir': 'Athene cunicularia floridana'}"
      ]
     },
     "metadata": {},
     "output_type": "display_data"
    },
    {
     "name": "stdout",
     "output_type": "stream",
     "text": [
      "{'affected_rows': 1, 'success': True, 'auth_check': {'session': None, 'auth_level': None, 'success': True}, '_execution_time': 0.065}\n"
     ]
    },
    {
     "data": {
      "text/plain": [
       "{'id': 24230,\n",
       " 'kv_swap2005': '\"swap2005\"=>\"false\"',\n",
       " 'scientificname_tir': 'Columella columella'}"
      ]
     },
     "metadata": {},
     "output_type": "display_data"
    },
    {
     "name": "stdout",
     "output_type": "stream",
     "text": [
      "{'affected_rows': 1, 'success': True, 'auth_check': {'session': None, 'auth_level': None, 'success': True}, '_execution_time': 0.067}\n"
     ]
    },
    {
     "data": {
      "text/plain": [
       "{'id': 23029,\n",
       " 'kv_swap2005': '\"swap2005\"=>\"true\"',\n",
       " 'scientificname_tir': 'Carex atlantica ssp. atlantica'}"
      ]
     },
     "metadata": {},
     "output_type": "display_data"
    },
    {
     "name": "stdout",
     "output_type": "stream",
     "text": [
      "{'affected_rows': 1, 'success': True, 'auth_check': {'session': None, 'auth_level': None, 'success': True}, '_execution_time': 0.067}\n"
     ]
    },
    {
     "data": {
      "text/plain": [
       "{'id': 21887,\n",
       " 'kv_swap2005': '\"swap2005\"=>\"true\"',\n",
       " 'scientificname_tir': 'Autolytus prolifera'}"
      ]
     },
     "metadata": {},
     "output_type": "display_data"
    },
    {
     "name": "stdout",
     "output_type": "stream",
     "text": [
      "{'affected_rows': 1, 'success': True, 'auth_check': {'session': None, 'auth_level': None, 'success': True}, '_execution_time': 0.067}\n"
     ]
    },
    {
     "data": {
      "text/plain": [
       "{'id': 25081,\n",
       " 'kv_swap2005': '\"swap2005\"=>\"false\"',\n",
       " 'scientificname_tir': 'Deroceras laeve'}"
      ]
     },
     "metadata": {},
     "output_type": "display_data"
    },
    {
     "name": "stdout",
     "output_type": "stream",
     "text": [
      "{'affected_rows': 1, 'success': True, 'auth_check': {'session': None, 'auth_level': None, 'success': True}, '_execution_time': 0.066}\n"
     ]
    },
    {
     "data": {
      "text/plain": [
       "{'id': 30234,\n",
       " 'kv_swap2005': '\"swap2005\"=>\"true\"',\n",
       " 'scientificname_tir': 'Millerelix plicata'}"
      ]
     },
     "metadata": {},
     "output_type": "display_data"
    },
    {
     "name": "stdout",
     "output_type": "stream",
     "text": [
      "{'affected_rows': 1, 'success': True, 'auth_check': {'session': None, 'auth_level': None, 'success': True}, '_execution_time': 0.066}\n"
     ]
    },
    {
     "data": {
      "text/plain": [
       "{'id': 26745,\n",
       " 'kv_swap2005': '\"swap2005\"=>\"true\"',\n",
       " 'scientificname_tir': 'Fontigens antroecetes'}"
      ]
     },
     "metadata": {},
     "output_type": "display_data"
    },
    {
     "name": "stdout",
     "output_type": "stream",
     "text": [
      "{'affected_rows': 1, 'success': True, 'auth_check': {'session': None, 'auth_level': None, 'success': True}, '_execution_time': 0.114}\n"
     ]
    },
    {
     "data": {
      "text/plain": [
       "{'id': 27959,\n",
       " 'kv_swap2005': '\"swap2005\"=>\"true\"',\n",
       " 'scientificname_tir': 'Hybopsis amnis'}"
      ]
     },
     "metadata": {},
     "output_type": "display_data"
    },
    {
     "name": "stdout",
     "output_type": "stream",
     "text": [
      "{'affected_rows': 1, 'success': True, 'auth_check': {'session': None, 'auth_level': None, 'success': True}, '_execution_time': 0.064}\n"
     ]
    },
    {
     "data": {
      "text/plain": [
       "{'id': 28007,\n",
       " 'kv_swap2005': '\"swap2005\"=>\"true\"',\n",
       " 'scientificname_tir': 'Hydrometra martini'}"
      ]
     },
     "metadata": {},
     "output_type": "display_data"
    },
    {
     "name": "stdout",
     "output_type": "stream",
     "text": [
      "{'affected_rows': 1, 'success': True, 'auth_check': {'session': None, 'auth_level': None, 'success': True}, '_execution_time': 0.096}\n"
     ]
    },
    {
     "data": {
      "text/plain": [
       "{'id': 37346,\n",
       " 'kv_swap2005': '\"swap2005\"=>\"false\"',\n",
       " 'scientificname_tir': 'Vertigo andrusiana'}"
      ]
     },
     "metadata": {},
     "output_type": "display_data"
    },
    {
     "name": "stdout",
     "output_type": "stream",
     "text": [
      "{'affected_rows': 1, 'success': True, 'auth_check': {'session': None, 'auth_level': None, 'success': True}, '_execution_time': 0.065}\n"
     ]
    },
    {
     "data": {
      "text/plain": [
       "{'id': 25677,\n",
       " 'kv_swap2005': '\"swap2005\"=>\"true\"',\n",
       " 'scientificname_tir': 'Elimia arachnoidea'}"
      ]
     },
     "metadata": {},
     "output_type": "display_data"
    },
    {
     "name": "stdout",
     "output_type": "stream",
     "text": [
      "{'affected_rows': 1, 'success': True, 'auth_check': {'session': None, 'auth_level': None, 'success': True}, '_execution_time': 0.092}\n"
     ]
    },
    {
     "data": {
      "text/plain": [
       "{'id': 31334,\n",
       " 'kv_swap2005': '\"swap2005\"=>\"false\"',\n",
       " 'scientificname_tir': 'Oncorhynchus tshawytscha 15'}"
      ]
     },
     "metadata": {},
     "output_type": "display_data"
    },
    {
     "name": "stdout",
     "output_type": "stream",
     "text": [
      "{'affected_rows': 1, 'success': True, 'auth_check': {'session': None, 'auth_level': None, 'success': True}, '_execution_time': 0.125}\n"
     ]
    },
    {
     "data": {
      "text/plain": [
       "{'id': 22281,\n",
       " 'kv_swap2005': '\"swap2005\"=>\"true\"',\n",
       " 'scientificname_tir': 'Bowmaniella dissimilis'}"
      ]
     },
     "metadata": {},
     "output_type": "display_data"
    },
    {
     "name": "stdout",
     "output_type": "stream",
     "text": [
      "{'affected_rows': 1, 'success': True, 'auth_check': {'session': None, 'auth_level': None, 'success': True}, '_execution_time': 0.073}\n"
     ]
    },
    {
     "data": {
      "text/plain": [
       "{'id': 34496,\n",
       " 'kv_swap2005': '\"swap2005\"=>\"true\"',\n",
       " 'scientificname_tir': 'Rhinichthys umatilla'}"
      ]
     },
     "metadata": {},
     "output_type": "display_data"
    },
    {
     "name": "stdout",
     "output_type": "stream",
     "text": [
      "{'affected_rows': 1, 'success': True, 'auth_check': {'session': None, 'auth_level': None, 'success': True}, '_execution_time': 0.105}\n"
     ]
    },
    {
     "data": {
      "text/plain": [
       "{'id': 28011,\n",
       " 'kv_swap2005': '\"swap2005\"=>\"true\"',\n",
       " 'scientificname_tir': 'Hydrophyllum appendiculatum'}"
      ]
     },
     "metadata": {},
     "output_type": "display_data"
    },
    {
     "name": "stdout",
     "output_type": "stream",
     "text": [
      "{'affected_rows': 1, 'success': True, 'auth_check': {'session': None, 'auth_level': None, 'success': True}, '_execution_time': 0.079}\n"
     ]
    },
    {
     "data": {
      "text/plain": [
       "{'id': 30679,\n",
       " 'kv_swap2005': '\"swap2005\"=>\"false\"',\n",
       " 'scientificname_tir': 'Neonympha helicta dadeensis'}"
      ]
     },
     "metadata": {},
     "output_type": "display_data"
    },
    {
     "name": "stdout",
     "output_type": "stream",
     "text": [
      "{'affected_rows': 1, 'success': True, 'auth_check': {'session': None, 'auth_level': None, 'success': True}, '_execution_time': 0.066}\n"
     ]
    },
    {
     "data": {
      "text/plain": [
       "{'id': 28113,\n",
       " 'kv_swap2005': '\"swap2005\"=>\"true\"',\n",
       " 'scientificname_tir': 'Hymenocera picta'}"
      ]
     },
     "metadata": {},
     "output_type": "display_data"
    },
    {
     "name": "stdout",
     "output_type": "stream",
     "text": [
      "{'affected_rows': 1, 'success': True, 'auth_check': {'session': None, 'auth_level': None, 'success': True}, '_execution_time': 0.065}\n"
     ]
    },
    {
     "data": {
      "text/plain": [
       "{'id': 28125,\n",
       " 'kv_swap2005': '\"swap2005\"=>\"true\"',\n",
       " 'scientificname_tir': 'Hypentelium etowanum'}"
      ]
     },
     "metadata": {},
     "output_type": "display_data"
    },
    {
     "name": "stdout",
     "output_type": "stream",
     "text": [
      "{'affected_rows': 1, 'success': True, 'auth_check': {'session': None, 'auth_level': None, 'success': True}, '_execution_time': 0.065}\n"
     ]
    },
    {
     "data": {
      "text/plain": [
       "{'id': 36852,\n",
       " 'kv_swap2005': '\"swap2005\"=>\"false\"',\n",
       " 'scientificname_tir': 'Toxostoma curcirostre'}"
      ]
     },
     "metadata": {},
     "output_type": "display_data"
    },
    {
     "name": "stdout",
     "output_type": "stream",
     "text": [
      "{'affected_rows': 1, 'success': True, 'auth_check': {'session': None, 'auth_level': None, 'success': True}, '_execution_time': 0.066}\n"
     ]
    },
    {
     "data": {
      "text/plain": [
       "{'id': 28697,\n",
       " 'kv_swap2005': '\"swap2005\"=>\"true\"',\n",
       " 'scientificname_tir': 'Lampsilis higginsii'}"
      ]
     },
     "metadata": {},
     "output_type": "display_data"
    },
    {
     "name": "stdout",
     "output_type": "stream",
     "text": [
      "{'affected_rows': 1, 'success': True, 'auth_check': {'session': None, 'auth_level': None, 'success': True}, '_execution_time': 0.067}\n"
     ]
    },
    {
     "data": {
      "text/plain": [
       "{'id': 26946,\n",
       " 'kv_swap2005': '\"swap2005\"=>\"true\"',\n",
       " 'scientificname_tir': 'Gastrocopta armifera'}"
      ]
     },
     "metadata": {},
     "output_type": "display_data"
    },
    {
     "name": "stdout",
     "output_type": "stream",
     "text": [
      "{'affected_rows': 1, 'success': True, 'auth_check': {'session': None, 'auth_level': None, 'success': True}, '_execution_time': 0.066}\n"
     ]
    },
    {
     "data": {
      "text/plain": [
       "{'id': 22332,\n",
       " 'kv_swap2005': '\"swap2005\"=>\"true\"',\n",
       " 'scientificname_tir': 'Brackenridgia ashleyi'}"
      ]
     },
     "metadata": {},
     "output_type": "display_data"
    },
    {
     "name": "stdout",
     "output_type": "stream",
     "text": [
      "{'affected_rows': 1, 'success': True, 'auth_check': {'session': None, 'auth_level': None, 'success': True}, '_execution_time': 0.066}\n"
     ]
    },
    {
     "data": {
      "text/plain": [
       "{'id': 37325,\n",
       " 'kv_swap2005': '\"swap2005\"=>\"true\"',\n",
       " 'scientificname_tir': 'Venustaconcha pleasii'}"
      ]
     },
     "metadata": {},
     "output_type": "display_data"
    },
    {
     "name": "stdout",
     "output_type": "stream",
     "text": [
      "{'affected_rows': 1, 'success': True, 'auth_check': {'session': None, 'auth_level': None, 'success': True}, '_execution_time': 0.073}\n"
     ]
    },
    {
     "data": {
      "text/plain": [
       "{'id': 36067,\n",
       " 'kv_swap2005': '\"swap2005\"=>\"true\"',\n",
       " 'scientificname_tir': 'Stonemyia isabellina'}"
      ]
     },
     "metadata": {},
     "output_type": "display_data"
    },
    {
     "name": "stdout",
     "output_type": "stream",
     "text": [
      "{'affected_rows': 1, 'success': True, 'auth_check': {'session': None, 'auth_level': None, 'success': True}, '_execution_time': 0.135}\n"
     ]
    },
    {
     "data": {
      "text/plain": [
       "{'id': 28136,\n",
       " 'kv_swap2005': '\"swap2005\"=>\"false\"',\n",
       " 'scientificname_tir': 'Hypericum harperi'}"
      ]
     },
     "metadata": {},
     "output_type": "display_data"
    },
    {
     "name": "stdout",
     "output_type": "stream",
     "text": [
      "{'affected_rows': 1, 'success': True, 'auth_check': {'session': None, 'auth_level': None, 'success': True}, '_execution_time': 0.074}\n"
     ]
    },
    {
     "data": {
      "text/plain": [
       "{'id': 28192,\n",
       " 'kv_swap2005': '\"swap2005\"=>\"true\"',\n",
       " 'scientificname_tir': 'Hypsiglena torquata'}"
      ]
     },
     "metadata": {},
     "output_type": "display_data"
    },
    {
     "name": "stdout",
     "output_type": "stream",
     "text": [
      "{'affected_rows': 1, 'success': True, 'auth_check': {'session': None, 'auth_level': None, 'success': True}, '_execution_time': 0.066}\n"
     ]
    },
    {
     "data": {
      "text/plain": [
       "{'id': 33341,\n",
       " 'kv_swap2005': '\"swap2005\"=>\"false\"',\n",
       " 'scientificname_tir': 'Popenaias popeii'}"
      ]
     },
     "metadata": {},
     "output_type": "display_data"
    },
    {
     "name": "stdout",
     "output_type": "stream",
     "text": [
      "{'affected_rows': 1, 'success': True, 'auth_check': {'session': None, 'auth_level': None, 'success': True}, '_execution_time': 0.066}\n"
     ]
    },
    {
     "data": {
      "text/plain": [
       "{'id': 34474,\n",
       " 'kv_swap2005': '\"swap2005\"=>\"true\"',\n",
       " 'scientificname_tir': 'Rhinichthys obtusus'}"
      ]
     },
     "metadata": {},
     "output_type": "display_data"
    },
    {
     "name": "stdout",
     "output_type": "stream",
     "text": [
      "{'affected_rows': 1, 'success': True, 'auth_check': {'session': None, 'auth_level': None, 'success': True}, '_execution_time': 0.066}\n"
     ]
    },
    {
     "data": {
      "text/plain": [
       "{'id': 28164,\n",
       " 'kv_swap2005': '\"swap2005\"=>\"true\"',\n",
       " 'scientificname_tir': 'Hypoconcha arcuata'}"
      ]
     },
     "metadata": {},
     "output_type": "display_data"
    },
    {
     "name": "stdout",
     "output_type": "stream",
     "text": [
      "{'affected_rows': 1, 'success': True, 'auth_check': {'session': None, 'auth_level': None, 'success': True}, '_execution_time': 0.109}\n"
     ]
    },
    {
     "data": {
      "text/plain": [
       "{'id': 26247,\n",
       " 'kv_swap2005': '\"swap2005\"=>\"true\"',\n",
       " 'scientificname_tir': 'Etheostoma raneyi'}"
      ]
     },
     "metadata": {},
     "output_type": "display_data"
    },
    {
     "name": "stdout",
     "output_type": "stream",
     "text": [
      "{'affected_rows': 1, 'success': True, 'auth_check': {'session': None, 'auth_level': None, 'success': True}, '_execution_time': 0.065}\n"
     ]
    },
    {
     "data": {
      "text/plain": [
       "{'id': 34678,\n",
       " 'kv_swap2005': '\"swap2005\"=>\"true\"',\n",
       " 'scientificname_tir': 'Rypticus bistrispinus'}"
      ]
     },
     "metadata": {},
     "output_type": "display_data"
    },
    {
     "name": "stdout",
     "output_type": "stream",
     "text": [
      "{'affected_rows': 1, 'success': True, 'auth_check': {'session': None, 'auth_level': None, 'success': True}, '_execution_time': 0.066}\n"
     ]
    },
    {
     "data": {
      "text/plain": [
       "{'id': 26180,\n",
       " 'kv_swap2005': '\"swap2005\"=>\"true\"',\n",
       " 'scientificname_tir': 'Etheostoma collis'}"
      ]
     },
     "metadata": {},
     "output_type": "display_data"
    },
    {
     "name": "stdout",
     "output_type": "stream",
     "text": [
      "{'affected_rows': 1, 'success': True, 'auth_check': {'session': None, 'auth_level': None, 'success': True}, '_execution_time': 0.074}\n"
     ]
    },
    {
     "data": {
      "text/plain": [
       "{'id': 24366,\n",
       " 'kv_swap2005': '\"swap2005\"=>\"true\"',\n",
       " 'scientificname_tir': 'Corvus cryptoleucus'}"
      ]
     },
     "metadata": {},
     "output_type": "display_data"
    },
    {
     "name": "stdout",
     "output_type": "stream",
     "text": [
      "{'affected_rows': 1, 'success': True, 'auth_check': {'session': None, 'auth_level': None, 'success': True}, '_execution_time': 0.067}\n"
     ]
    },
    {
     "data": {
      "text/plain": [
       "{'id': 23072,\n",
       " 'kv_swap2005': '\"swap2005\"=>\"true\"',\n",
       " 'scientificname_tir': 'Carex exilis'}"
      ]
     },
     "metadata": {},
     "output_type": "display_data"
    },
    {
     "name": "stdout",
     "output_type": "stream",
     "text": [
      "{'affected_rows': 1, 'success': True, 'auth_check': {'session': None, 'auth_level': None, 'success': True}, '_execution_time': 0.107}\n"
     ]
    },
    {
     "data": {
      "text/plain": [
       "{'id': 37033,\n",
       " 'kv_swap2005': '\"swap2005\"=>\"true\"',\n",
       " 'scientificname_tir': 'Triodopsis messana'}"
      ]
     },
     "metadata": {},
     "output_type": "display_data"
    },
    {
     "name": "stdout",
     "output_type": "stream",
     "text": [
      "{'affected_rows': 1, 'success': True, 'auth_check': {'session': None, 'auth_level': None, 'success': True}, '_execution_time': 0.066}\n"
     ]
    },
    {
     "data": {
      "text/plain": [
       "{'id': 37582,\n",
       " 'kv_swap2005': '\"swap2005\"=>\"false\"',\n",
       " 'scientificname_tir': 'Xolotrema caroliniense'}"
      ]
     },
     "metadata": {},
     "output_type": "display_data"
    },
    {
     "name": "stdout",
     "output_type": "stream",
     "text": [
      "{'affected_rows': 1, 'success': True, 'auth_check': {'session': None, 'auth_level': None, 'success': True}, '_execution_time': 0.066}\n"
     ]
    },
    {
     "data": {
      "text/plain": [
       "{'id': 28279,\n",
       " 'kv_swap2005': '\"swap2005\"=>\"true\"',\n",
       " 'scientificname_tir': 'Incisocalliope aestuarius'}"
      ]
     },
     "metadata": {},
     "output_type": "display_data"
    },
    {
     "name": "stdout",
     "output_type": "stream",
     "text": [
      "{'affected_rows': 1, 'success': True, 'auth_check': {'session': None, 'auth_level': None, 'success': True}, '_execution_time': 0.066}\n"
     ]
    },
    {
     "data": {
      "text/plain": [
       "{'id': 31791,\n",
       " 'kv_swap2005': '\"swap2005\"=>\"true\"',\n",
       " 'scientificname_tir': 'Pallifera varia'}"
      ]
     },
     "metadata": {},
     "output_type": "display_data"
    },
    {
     "name": "stdout",
     "output_type": "stream",
     "text": [
      "{'affected_rows': 1, 'success': True, 'auth_check': {'session': None, 'auth_level': None, 'success': True}, '_execution_time': 0.064}\n"
     ]
    },
    {
     "data": {
      "text/plain": [
       "{'id': 32992,\n",
       " 'kv_swap2005': '\"swap2005\"=>\"false\"',\n",
       " 'scientificname_tir': 'Pleruobema decisum'}"
      ]
     },
     "metadata": {},
     "output_type": "display_data"
    },
    {
     "name": "stdout",
     "output_type": "stream",
     "text": [
      "{'affected_rows': 1, 'success': True, 'auth_check': {'session': None, 'auth_level': None, 'success': True}, '_execution_time': 0.066}\n"
     ]
    },
    {
     "data": {
      "text/plain": [
       "{'id': 26184,\n",
       " 'kv_swap2005': '\"swap2005\"=>\"true\"',\n",
       " 'scientificname_tir': 'Etheostoma cragini'}"
      ]
     },
     "metadata": {},
     "output_type": "display_data"
    },
    {
     "name": "stdout",
     "output_type": "stream",
     "text": [
      "{'affected_rows': 1, 'success': True, 'auth_check': {'session': None, 'auth_level': None, 'success': True}, '_execution_time': 0.066}\n"
     ]
    },
    {
     "data": {
      "text/plain": [
       "{'id': 28738,\n",
       " 'kv_swap2005': '\"swap2005\"=>\"true\"',\n",
       " 'scientificname_tir': 'Lanx klamathensis'}"
      ]
     },
     "metadata": {},
     "output_type": "display_data"
    },
    {
     "name": "stdout",
     "output_type": "stream",
     "text": [
      "{'affected_rows': 1, 'success': True, 'auth_check': {'session': None, 'auth_level': None, 'success': True}, '_execution_time': 0.099}\n"
     ]
    },
    {
     "data": {
      "text/plain": [
       "{'id': 23081,\n",
       " 'kv_swap2005': '\"swap2005\"=>\"true\"',\n",
       " 'scientificname_tir': 'Carex gigantea'}"
      ]
     },
     "metadata": {},
     "output_type": "display_data"
    },
    {
     "name": "stdout",
     "output_type": "stream",
     "text": [
      "{'affected_rows': 1, 'success': True, 'auth_check': {'session': None, 'auth_level': None, 'success': True}, '_execution_time': 0.065}\n"
     ]
    },
    {
     "data": {
      "text/plain": [
       "{'id': 28407,\n",
       " 'kv_swap2005': '\"swap2005\"=>\"true\"',\n",
       " 'scientificname_tir': 'Ivesia rhypara var. rhypara'}"
      ]
     },
     "metadata": {},
     "output_type": "display_data"
    },
    {
     "name": "stdout",
     "output_type": "stream",
     "text": [
      "{'affected_rows': 1, 'success': True, 'auth_check': {'session': None, 'auth_level': None, 'success': True}, '_execution_time': 0.076}\n"
     ]
    },
    {
     "data": {
      "text/plain": [
       "{'id': 28402,\n",
       " 'kv_swap2005': '\"swap2005\"=>\"true\"',\n",
       " 'scientificname_tir': 'Itame sp.'}"
      ]
     },
     "metadata": {},
     "output_type": "display_data"
    },
    {
     "name": "stdout",
     "output_type": "stream",
     "text": [
      "{'affected_rows': 1, 'success': True, 'auth_check': {'session': None, 'auth_level': None, 'success': True}, '_execution_time': 0.066}\n"
     ]
    },
    {
     "data": {
      "text/plain": [
       "{'id': 28395,\n",
       " 'kv_swap2005': '\"swap2005\"=>\"true\"',\n",
       " 'scientificname_tir': 'Istiblennius zebra'}"
      ]
     },
     "metadata": {},
     "output_type": "display_data"
    },
    {
     "name": "stdout",
     "output_type": "stream",
     "text": [
      "{'affected_rows': 1, 'success': True, 'auth_check': {'session': None, 'auth_level': None, 'success': True}, '_execution_time': 0.115}\n"
     ]
    },
    {
     "data": {
      "text/plain": [
       "{'id': 27811,\n",
       " 'kv_swap2005': '\"swap2005\"=>\"true\"',\n",
       " 'scientificname_tir': 'Himantopus mexicanus'}"
      ]
     },
     "metadata": {},
     "output_type": "display_data"
    },
    {
     "name": "stdout",
     "output_type": "stream",
     "text": [
      "{'affected_rows': 1, 'success': True, 'auth_check': {'session': None, 'auth_level': None, 'success': True}, '_execution_time': 0.093}\n"
     ]
    },
    {
     "data": {
      "text/plain": [
       "{'id': 25364,\n",
       " 'kv_swap2005': '\"swap2005\"=>\"false\"',\n",
       " 'scientificname_tir': 'Dolabrifera dolabrifera'}"
      ]
     },
     "metadata": {},
     "output_type": "display_data"
    },
    {
     "name": "stdout",
     "output_type": "stream",
     "text": [
      "{'affected_rows': 1, 'success': True, 'auth_check': {'session': None, 'auth_level': None, 'success': True}, '_execution_time': 0.066}\n"
     ]
    },
    {
     "data": {
      "text/plain": [
       "{'id': 27847,\n",
       " 'kv_swap2005': '\"swap2005\"=>\"false\"',\n",
       " 'scientificname_tir': 'Hojeda inaguensis'}"
      ]
     },
     "metadata": {},
     "output_type": "display_data"
    },
    {
     "name": "stdout",
     "output_type": "stream",
     "text": [
      "{'affected_rows': 1, 'success': True, 'auth_check': {'session': None, 'auth_level': None, 'success': True}, '_execution_time': 0.083}\n"
     ]
    },
    {
     "data": {
      "text/plain": [
       "{'id': 27885,\n",
       " 'kv_swap2005': '\"swap2005\"=>\"false\"',\n",
       " 'scientificname_tir': 'Holospira yucatanensis'}"
      ]
     },
     "metadata": {},
     "output_type": "display_data"
    },
    {
     "name": "stdout",
     "output_type": "stream",
     "text": [
      "{'affected_rows': 1, 'success': True, 'auth_check': {'session': None, 'auth_level': None, 'success': True}, '_execution_time': 0.066}\n"
     ]
    },
    {
     "data": {
      "text/plain": [
       "{'id': 25325,\n",
       " 'kv_swap2005': '\"swap2005\"=>\"true\"',\n",
       " 'scientificname_tir': 'Discus nigrimontanus'}"
      ]
     },
     "metadata": {},
     "output_type": "display_data"
    },
    {
     "name": "stdout",
     "output_type": "stream",
     "text": [
      "{'affected_rows': 1, 'success': True, 'auth_check': {'session': None, 'auth_level': None, 'success': True}, '_execution_time': 0.066}\n"
     ]
    },
    {
     "data": {
      "text/plain": [
       "{'id': 28741,\n",
       " 'kv_swap2005': '\"swap2005\"=>\"true\"',\n",
       " 'scientificname_tir': 'Lanx subrotunda'}"
      ]
     },
     "metadata": {},
     "output_type": "display_data"
    },
    {
     "name": "stdout",
     "output_type": "stream",
     "text": [
      "{'affected_rows': 1, 'success': True, 'auth_check': {'session': None, 'auth_level': None, 'success': True}, '_execution_time': 0.066}\n"
     ]
    },
    {
     "data": {
      "text/plain": [
       "{'id': 29139,\n",
       " 'kv_swap2005': '\"swap2005\"=>\"true\"',\n",
       " 'scientificname_tir': 'Ligumia recta'}"
      ]
     },
     "metadata": {},
     "output_type": "display_data"
    },
    {
     "name": "stdout",
     "output_type": "stream",
     "text": [
      "{'affected_rows': 1, 'success': True, 'auth_check': {'session': None, 'auth_level': None, 'success': True}, '_execution_time': 0.066}\n"
     ]
    },
    {
     "data": {
      "text/plain": [
       "{'id': 27702,\n",
       " 'kv_swap2005': '\"swap2005\"=>\"true\"',\n",
       " 'scientificname_tir': 'Hesperia sassacus'}"
      ]
     },
     "metadata": {},
     "output_type": "display_data"
    },
    {
     "name": "stdout",
     "output_type": "stream",
     "text": [
      "{'affected_rows': 1, 'success': True, 'auth_check': {'session': None, 'auth_level': None, 'success': True}, '_execution_time': 0.096}\n"
     ]
    },
    {
     "data": {
      "text/plain": [
       "{'id': 28418,\n",
       " 'kv_swap2005': '\"swap2005\"=>\"true\"',\n",
       " 'scientificname_tir': 'Jassa marmorata'}"
      ]
     },
     "metadata": {},
     "output_type": "display_data"
    },
    {
     "name": "stdout",
     "output_type": "stream",
     "text": [
      "{'affected_rows': 1, 'success': True, 'auth_check': {'session': None, 'auth_level': None, 'success': True}, '_execution_time': 0.066}\n"
     ]
    },
    {
     "data": {
      "text/plain": [
       "{'id': 28497,\n",
       " 'kv_swap2005': '\"swap2005\"=>\"false\"',\n",
       " 'scientificname_tir': 'Kalmia cuneata'}"
      ]
     },
     "metadata": {},
     "output_type": "display_data"
    },
    {
     "name": "stdout",
     "output_type": "stream",
     "text": [
      "{'affected_rows': 1, 'success': True, 'auth_check': {'session': None, 'auth_level': None, 'success': True}, '_execution_time': 0.066}\n"
     ]
    },
    {
     "data": {
      "text/plain": [
       "{'id': 25092,\n",
       " 'kv_swap2005': '\"swap2005\"=>\"false\"',\n",
       " 'scientificname_tir': 'Descurainia pinnata var. osmiarum'}"
      ]
     },
     "metadata": {},
     "output_type": "display_data"
    },
    {
     "name": "stdout",
     "output_type": "stream",
     "text": [
      "{'affected_rows': 1, 'success': True, 'auth_check': {'session': None, 'auth_level': None, 'success': True}, '_execution_time': 0.065}\n"
     ]
    },
    {
     "data": {
      "text/plain": [
       "{'id': 28422,\n",
       " 'kv_swap2005': '\"swap2005\"=>\"true\"',\n",
       " 'scientificname_tir': 'Joturus pichardi'}"
      ]
     },
     "metadata": {},
     "output_type": "display_data"
    },
    {
     "name": "stdout",
     "output_type": "stream",
     "text": [
      "{'affected_rows': 1, 'success': True, 'auth_check': {'session': None, 'auth_level': None, 'success': True}, '_execution_time': 0.065}\n"
     ]
    },
    {
     "data": {
      "text/plain": [
       "{'id': 27270,\n",
       " 'kv_swap2005': '\"swap2005\"=>\"false\"',\n",
       " 'scientificname_tir': 'Grapsidae'}"
      ]
     },
     "metadata": {},
     "output_type": "display_data"
    },
    {
     "name": "stdout",
     "output_type": "stream",
     "text": [
      "{'affected_rows': 1, 'success': True, 'auth_check': {'session': None, 'auth_level': None, 'success': True}, '_execution_time': 0.108}\n"
     ]
    },
    {
     "data": {
      "text/plain": [
       "{'id': 28554,\n",
       " 'kv_swap2005': '\"swap2005\"=>\"false\"',\n",
       " 'scientificname_tir': 'Kricogonia lyside'}"
      ]
     },
     "metadata": {},
     "output_type": "display_data"
    },
    {
     "name": "stdout",
     "output_type": "stream",
     "text": [
      "{'affected_rows': 1, 'success': True, 'auth_check': {'session': None, 'auth_level': None, 'success': True}, '_execution_time': 0.065}\n"
     ]
    },
    {
     "data": {
      "text/plain": [
       "{'id': 28544,\n",
       " 'kv_swap2005': '\"swap2005\"=>\"true\"',\n",
       " 'scientificname_tir': 'Kogia breviceps'}"
      ]
     },
     "metadata": {},
     "output_type": "display_data"
    },
    {
     "name": "stdout",
     "output_type": "stream",
     "text": [
      "{'affected_rows': 1, 'success': True, 'auth_check': {'session': None, 'auth_level': None, 'success': True}, '_execution_time': 0.114}\n"
     ]
    },
    {
     "data": {
      "text/plain": [
       "{'id': 35470,\n",
       " 'kv_swap2005': '\"swap2005\"=>\"true\"',\n",
       " 'scientificname_tir': 'Somatogyrus virginicus'}"
      ]
     },
     "metadata": {},
     "output_type": "display_data"
    },
    {
     "name": "stdout",
     "output_type": "stream",
     "text": [
      "{'affected_rows': 1, 'success': True, 'auth_check': {'session': None, 'auth_level': None, 'success': True}, '_execution_time': 0.066}\n"
     ]
    },
    {
     "data": {
      "text/plain": [
       "{'id': 29702,\n",
       " 'kv_swap2005': '\"swap2005\"=>\"true\"',\n",
       " 'scientificname_tir': 'Malacocephalus hawaiiensis'}"
      ]
     },
     "metadata": {},
     "output_type": "display_data"
    },
    {
     "name": "stdout",
     "output_type": "stream",
     "text": [
      "{'affected_rows': 1, 'success': True, 'auth_check': {'session': None, 'auth_level': None, 'success': True}, '_execution_time': 0.108}\n"
     ]
    },
    {
     "data": {
      "text/plain": [
       "{'id': 28234,\n",
       " 'kv_swap2005': '\"swap2005\"=>\"true\"',\n",
       " 'scientificname_tir': 'Ictinia mississippiensis'}"
      ]
     },
     "metadata": {},
     "output_type": "display_data"
    },
    {
     "name": "stdout",
     "output_type": "stream",
     "text": [
      "{'affected_rows': 1, 'success': True, 'auth_check': {'session': None, 'auth_level': None, 'success': True}, '_execution_time': 0.147}\n"
     ]
    },
    {
     "data": {
      "text/plain": [
       "{'id': 35904,\n",
       " 'kv_swap2005': '\"swap2005\"=>\"true\"',\n",
       " 'scientificname_tir': 'Staphylus hayhurstii'}"
      ]
     },
     "metadata": {},
     "output_type": "display_data"
    },
    {
     "name": "stdout",
     "output_type": "stream",
     "text": [
      "{'affected_rows': 1, 'success': True, 'auth_check': {'session': None, 'auth_level': None, 'success': True}, '_execution_time': 0.065}\n"
     ]
    },
    {
     "data": {
      "text/plain": [
       "{'id': 24773,\n",
       " 'kv_swap2005': '\"swap2005\"=>\"false\"',\n",
       " 'scientificname_tir': 'Cymatium femorale'}"
      ]
     },
     "metadata": {},
     "output_type": "display_data"
    },
    {
     "name": "stdout",
     "output_type": "stream",
     "text": [
      "{'affected_rows': 1, 'success': True, 'auth_check': {'session': None, 'auth_level': None, 'success': True}, '_execution_time': 0.065}\n"
     ]
    },
    {
     "data": {
      "text/plain": [
       "{'id': 28521,\n",
       " 'kv_swap2005': '\"swap2005\"=>\"true\"',\n",
       " 'scientificname_tir': 'Kleptochthonius barri'}"
      ]
     },
     "metadata": {},
     "output_type": "display_data"
    },
    {
     "name": "stdout",
     "output_type": "stream",
     "text": [
      "{'affected_rows': 1, 'success': True, 'auth_check': {'session': None, 'auth_level': None, 'success': True}, '_execution_time': 0.065}\n"
     ]
    },
    {
     "data": {
      "text/plain": [
       "{'id': 29705,\n",
       " 'kv_swap2005': '\"swap2005\"=>\"true\"',\n",
       " 'scientificname_tir': 'Malacoctenus triangulatus'}"
      ]
     },
     "metadata": {},
     "output_type": "display_data"
    },
    {
     "name": "stdout",
     "output_type": "stream",
     "text": [
      "{'affected_rows': 1, 'success': True, 'auth_check': {'session': None, 'auth_level': None, 'success': True}, '_execution_time': 0.085}\n"
     ]
    },
    {
     "data": {
      "text/plain": [
       "{'id': 30000,\n",
       " 'kv_swap2005': '\"swap2005\"=>\"true\"',\n",
       " 'scientificname_tir': 'Melospiza melodia maxillaris'}"
      ]
     },
     "metadata": {},
     "output_type": "display_data"
    },
    {
     "name": "stdout",
     "output_type": "stream",
     "text": [
      "{'affected_rows': 1, 'success': True, 'auth_check': {'session': None, 'auth_level': None, 'success': True}, '_execution_time': 0.107}\n"
     ]
    },
    {
     "data": {
      "text/plain": [
       "{'id': 23180,\n",
       " 'kv_swap2005': '\"swap2005\"=>\"true\"',\n",
       " 'scientificname_tir': 'Carmenta anthrasipennis'}"
      ]
     },
     "metadata": {},
     "output_type": "display_data"
    },
    {
     "name": "stdout",
     "output_type": "stream",
     "text": [
      "{'affected_rows': 1, 'success': True, 'auth_check': {'session': None, 'auth_level': None, 'success': True}, '_execution_time': 0.065}\n"
     ]
    },
    {
     "data": {
      "text/plain": [
       "{'id': 28618,\n",
       " 'kv_swap2005': '\"swap2005\"=>\"true\"',\n",
       " 'scientificname_tir': 'Lagenodelphis hosei'}"
      ]
     },
     "metadata": {},
     "output_type": "display_data"
    },
    {
     "name": "stdout",
     "output_type": "stream",
     "text": [
      "{'affected_rows': 1, 'success': True, 'auth_check': {'session': None, 'auth_level': None, 'success': True}, '_execution_time': 0.066}\n"
     ]
    },
    {
     "data": {
      "text/plain": [
       "{'id': 28557,\n",
       " 'kv_swap2005': '\"swap2005\"=>\"false\"',\n",
       " 'scientificname_tir': 'Krigia montana'}"
      ]
     },
     "metadata": {},
     "output_type": "display_data"
    },
    {
     "name": "stdout",
     "output_type": "stream",
     "text": [
      "{'affected_rows': 1, 'success': True, 'auth_check': {'session': None, 'auth_level': None, 'success': True}, '_execution_time': 0.067}\n"
     ]
    },
    {
     "data": {
      "text/plain": [
       "{'id': 28019,\n",
       " 'kv_swap2005': '\"swap2005\"=>\"true\"',\n",
       " 'scientificname_tir': 'Hydroporus obscurus'}"
      ]
     },
     "metadata": {},
     "output_type": "display_data"
    },
    {
     "name": "stdout",
     "output_type": "stream",
     "text": [
      "{'affected_rows': 1, 'success': True, 'auth_check': {'session': None, 'auth_level': None, 'success': True}, '_execution_time': 0.113}\n"
     ]
    },
    {
     "data": {
      "text/plain": [
       "{'id': 29140,\n",
       " 'kv_swap2005': '\"swap2005\"=>\"true\"',\n",
       " 'scientificname_tir': 'Ligumia subrostrata'}"
      ]
     },
     "metadata": {},
     "output_type": "display_data"
    },
    {
     "name": "stdout",
     "output_type": "stream",
     "text": [
      "{'affected_rows': 1, 'success': True, 'auth_check': {'session': None, 'auth_level': None, 'success': True}, '_execution_time': 0.067}\n"
     ]
    },
    {
     "data": {
      "text/plain": [
       "{'id': 21354,\n",
       " 'kv_swap2005': '\"swap2005\"=>\"true\"',\n",
       " 'scientificname_tir': 'Aphaostracon monas'}"
      ]
     },
     "metadata": {},
     "output_type": "display_data"
    },
    {
     "name": "stdout",
     "output_type": "stream",
     "text": [
      "{'affected_rows': 1, 'success': True, 'auth_check': {'session': None, 'auth_level': None, 'success': True}, '_execution_time': 0.064}\n"
     ]
    },
    {
     "data": {
      "text/plain": [
       "{'id': 34169,\n",
       " 'kv_swap2005': '\"swap2005\"=>\"true\"',\n",
       " 'scientificname_tir': 'Pyrgulopsis micrococcus'}"
      ]
     },
     "metadata": {},
     "output_type": "display_data"
    },
    {
     "name": "stdout",
     "output_type": "stream",
     "text": [
      "{'affected_rows': 1, 'success': True, 'auth_check': {'session': None, 'auth_level': None, 'success': True}, '_execution_time': 0.065}\n"
     ]
    },
    {
     "data": {
      "text/plain": [
       "{'id': 30798,\n",
       " 'kv_swap2005': '\"swap2005\"=>\"false\"',\n",
       " 'scientificname_tir': 'Nesovitrea suzannae'}"
      ]
     },
     "metadata": {},
     "output_type": "display_data"
    },
    {
     "name": "stdout",
     "output_type": "stream",
     "text": [
      "{'affected_rows': 1, 'success': True, 'auth_check': {'session': None, 'auth_level': None, 'success': True}, '_execution_time': 0.064}\n"
     ]
    },
    {
     "data": {
      "text/plain": [
       "{'id': 22877,\n",
       " 'kv_swap2005': '\"swap2005\"=>\"false\"',\n",
       " 'scientificname_tir': 'Campeloma crassulum'}"
      ]
     },
     "metadata": {},
     "output_type": "display_data"
    },
    {
     "name": "stdout",
     "output_type": "stream",
     "text": [
      "{'affected_rows': 1, 'success': True, 'auth_check': {'session': None, 'auth_level': None, 'success': True}, '_execution_time': 0.071}\n"
     ]
    },
    {
     "data": {
      "text/plain": [
       "{'id': 27154,\n",
       " 'kv_swap2005': '\"swap2005\"=>\"false\"',\n",
       " 'scientificname_tir': 'Glyphyalinia luticola'}"
      ]
     },
     "metadata": {},
     "output_type": "display_data"
    },
    {
     "name": "stdout",
     "output_type": "stream",
     "text": [
      "{'affected_rows': 1, 'success': True, 'auth_check': {'session': None, 'auth_level': None, 'success': True}, '_execution_time': 0.065}\n"
     ]
    },
    {
     "data": {
      "text/plain": [
       "{'id': 35072,\n",
       " 'kv_swap2005': '\"swap2005\"=>\"true\"',\n",
       " 'scientificname_tir': 'Scorpaenopsis altirostris'}"
      ]
     },
     "metadata": {},
     "output_type": "display_data"
    },
    {
     "name": "stdout",
     "output_type": "stream",
     "text": [
      "{'affected_rows': 1, 'success': True, 'auth_check': {'session': None, 'auth_level': None, 'success': True}, '_execution_time': 0.065}\n"
     ]
    },
    {
     "data": {
      "text/plain": [
       "{'id': 28735,\n",
       " 'kv_swap2005': '\"swap2005\"=>\"true\"',\n",
       " 'scientificname_tir': 'Lanthus parvulus'}"
      ]
     },
     "metadata": {},
     "output_type": "display_data"
    },
    {
     "name": "stdout",
     "output_type": "stream",
     "text": [
      "{'affected_rows': 1, 'success': True, 'auth_check': {'session': None, 'auth_level': None, 'success': True}, '_execution_time': 0.066}\n"
     ]
    },
    {
     "data": {
      "text/plain": [
       "{'id': 25509,\n",
       " 'kv_swap2005': '\"swap2005\"=>\"true\"',\n",
       " 'scientificname_tir': 'Dytiscus dauricus'}"
      ]
     },
     "metadata": {},
     "output_type": "display_data"
    },
    {
     "name": "stdout",
     "output_type": "stream",
     "text": [
      "{'affected_rows': 1, 'success': True, 'auth_check': {'session': None, 'auth_level': None, 'success': True}, '_execution_time': 0.066}\n"
     ]
    },
    {
     "data": {
      "text/plain": [
       "{'id': 28758,\n",
       " 'kv_swap2005': '\"swap2005\"=>\"true\"',\n",
       " 'scientificname_tir': 'Lasiodiamesa sp. or spp.'}"
      ]
     },
     "metadata": {},
     "output_type": "display_data"
    },
    {
     "name": "stdout",
     "output_type": "stream",
     "text": [
      "{'affected_rows': 1, 'success': True, 'auth_check': {'session': None, 'auth_level': None, 'success': True}, '_execution_time': 0.065}\n"
     ]
    },
    {
     "data": {
      "text/plain": [
       "{'id': 23441,\n",
       " 'kv_swap2005': '\"swap2005\"=>\"true\"',\n",
       " 'scientificname_tir': 'Ceramium tranquillum'}"
      ]
     },
     "metadata": {},
     "output_type": "display_data"
    },
    {
     "name": "stdout",
     "output_type": "stream",
     "text": [
      "{'affected_rows': 1, 'success': True, 'auth_check': {'session': None, 'auth_level': None, 'success': True}, '_execution_time': 0.108}\n"
     ]
    },
    {
     "data": {
      "text/plain": [
       "{'id': 33163,\n",
       " 'kv_swap2005': '\"swap2005\"=>\"true\"',\n",
       " 'scientificname_tir': 'Podiceps auritus'}"
      ]
     },
     "metadata": {},
     "output_type": "display_data"
    },
    {
     "name": "stdout",
     "output_type": "stream",
     "text": [
      "{'affected_rows': 1, 'success': True, 'auth_check': {'session': None, 'auth_level': None, 'success': True}, '_execution_time': 0.066}\n"
     ]
    },
    {
     "data": {
      "text/plain": [
       "{'id': 29805,\n",
       " 'kv_swap2005': '\"swap2005\"=>\"false\"',\n",
       " 'scientificname_tir': 'Matelea sagittifolia'}"
      ]
     },
     "metadata": {},
     "output_type": "display_data"
    },
    {
     "name": "stdout",
     "output_type": "stream",
     "text": [
      "{'affected_rows': 1, 'success': True, 'auth_check': {'session': None, 'auth_level': None, 'success': True}, '_execution_time': 0.084}\n"
     ]
    },
    {
     "data": {
      "text/plain": [
       "{'id': 37384,\n",
       " 'kv_swap2005': '\"swap2005\"=>\"true\"',\n",
       " 'scientificname_tir': 'Vertigo ventricosa'}"
      ]
     },
     "metadata": {},
     "output_type": "display_data"
    },
    {
     "name": "stdout",
     "output_type": "stream",
     "text": [
      "{'affected_rows': 1, 'success': True, 'auth_check': {'session': None, 'auth_level': None, 'success': True}, '_execution_time': 0.065}\n"
     ]
    },
    {
     "data": {
      "text/plain": [
       "{'id': 26160,\n",
       " 'kv_swap2005': '\"swap2005\"=>\"true\"',\n",
       " 'scientificname_tir': 'Etheostoma barrenense'}"
      ]
     },
     "metadata": {},
     "output_type": "display_data"
    },
    {
     "name": "stdout",
     "output_type": "stream",
     "text": [
      "{'affected_rows': 1, 'success': True, 'auth_check': {'session': None, 'auth_level': None, 'success': True}, '_execution_time': 0.066}\n"
     ]
    },
    {
     "data": {
      "text/plain": [
       "{'id': 28774,\n",
       " 'kv_swap2005': '\"swap2005\"=>\"true\"',\n",
       " 'scientificname_tir': 'Lasiurus borealis'}"
      ]
     },
     "metadata": {},
     "output_type": "display_data"
    },
    {
     "name": "stdout",
     "output_type": "stream",
     "text": [
      "{'affected_rows': 1, 'success': True, 'auth_check': {'session': None, 'auth_level': None, 'success': True}, '_execution_time': 0.066}\n"
     ]
    },
    {
     "data": {
      "text/plain": [
       "{'id': 33370,\n",
       " 'kv_swap2005': '\"swap2005\"=>\"true\"',\n",
       " 'scientificname_tir': 'Porphyrio martinica'}"
      ]
     },
     "metadata": {},
     "output_type": "display_data"
    },
    {
     "name": "stdout",
     "output_type": "stream",
     "text": [
      "{'affected_rows': 1, 'success': True, 'auth_check': {'session': None, 'auth_level': None, 'success': True}, '_execution_time': 0.065}\n"
     ]
    },
    {
     "data": {
      "text/plain": [
       "{'id': 28810,\n",
       " 'kv_swap2005': '\"swap2005\"=>\"true\"',\n",
       " 'scientificname_tir': 'Lavinia exilicauda chi'}"
      ]
     },
     "metadata": {},
     "output_type": "display_data"
    },
    {
     "name": "stdout",
     "output_type": "stream",
     "text": [
      "{'affected_rows': 1, 'success': True, 'auth_check': {'session': None, 'auth_level': None, 'success': True}, '_execution_time': 0.109}\n"
     ]
    },
    {
     "data": {
      "text/plain": [
       "{'id': 22461,\n",
       " 'kv_swap2005': '\"swap2005\"=>\"false\"',\n",
       " 'scientificname_tir': 'Bulimulidae'}"
      ]
     },
     "metadata": {},
     "output_type": "display_data"
    },
    {
     "name": "stdout",
     "output_type": "stream",
     "text": [
      "{'affected_rows': 1, 'success': True, 'auth_check': {'session': None, 'auth_level': None, 'success': True}, '_execution_time': 0.066}\n"
     ]
    },
    {
     "data": {
      "text/plain": [
       "{'id': 22286,\n",
       " 'kv_swap2005': '\"swap2005\"=>\"true\"',\n",
       " 'scientificname_tir': 'Brachidontes exustus'}"
      ]
     },
     "metadata": {},
     "output_type": "display_data"
    },
    {
     "name": "stdout",
     "output_type": "stream",
     "text": [
      "{'affected_rows': 1, 'success': True, 'auth_check': {'session': None, 'auth_level': None, 'success': True}, '_execution_time': 0.081}\n"
     ]
    },
    {
     "data": {
      "text/plain": [
       "{'id': 28928,\n",
       " 'kv_swap2005': '\"swap2005\"=>\"true\"',\n",
       " 'scientificname_tir': 'Leptobasis melinogaster'}"
      ]
     },
     "metadata": {},
     "output_type": "display_data"
    },
    {
     "name": "stdout",
     "output_type": "stream",
     "text": [
      "{'affected_rows': 1, 'success': True, 'auth_check': {'session': None, 'auth_level': None, 'success': True}, '_execution_time': 0.066}\n"
     ]
    },
    {
     "data": {
      "text/plain": [
       "{'id': 28707,\n",
       " 'kv_swap2005': '\"swap2005\"=>\"true\"',\n",
       " 'scientificname_tir': 'Lampsilis rafinesqueana'}"
      ]
     },
     "metadata": {},
     "output_type": "display_data"
    },
    {
     "name": "stdout",
     "output_type": "stream",
     "text": [
      "{'affected_rows': 1, 'success': True, 'auth_check': {'session': None, 'auth_level': None, 'success': True}, '_execution_time': 0.066}\n"
     ]
    },
    {
     "data": {
      "text/plain": [
       "{'id': 36836,\n",
       " 'kv_swap2005': '\"swap2005\"=>\"false\"',\n",
       " 'scientificname_tir': 'Toxolasma parvum'}"
      ]
     },
     "metadata": {},
     "output_type": "display_data"
    },
    {
     "name": "stdout",
     "output_type": "stream",
     "text": [
      "{'affected_rows': 1, 'success': True, 'auth_check': {'session': None, 'auth_level': None, 'success': True}, '_execution_time': 0.064}\n"
     ]
    },
    {
     "data": {
      "text/plain": [
       "{'id': 28944,\n",
       " 'kv_swap2005': '\"swap2005\"=>\"true\"',\n",
       " 'scientificname_tir': 'Leptolucania ommata'}"
      ]
     },
     "metadata": {},
     "output_type": "display_data"
    },
    {
     "name": "stdout",
     "output_type": "stream",
     "text": [
      "{'affected_rows': 1, 'success': True, 'auth_check': {'session': None, 'auth_level': None, 'success': True}, '_execution_time': 0.065}\n"
     ]
    },
    {
     "data": {
      "text/plain": [
       "{'id': 28805,\n",
       " 'kv_swap2005': '\"swap2005\"=>\"true\"',\n",
       " 'scientificname_tir': 'Latreutes fucorum'}"
      ]
     },
     "metadata": {},
     "output_type": "display_data"
    },
    {
     "name": "stdout",
     "output_type": "stream",
     "text": [
      "{'affected_rows': 1, 'success': True, 'auth_check': {'session': None, 'auth_level': None, 'success': True}, '_execution_time': 0.065}\n"
     ]
    },
    {
     "data": {
      "text/plain": [
       "{'id': 37086,\n",
       " 'kv_swap2005': '\"swap2005\"=>\"true\"',\n",
       " 'scientificname_tir': 'Trogon elegans'}"
      ]
     },
     "metadata": {},
     "output_type": "display_data"
    },
    {
     "name": "stdout",
     "output_type": "stream",
     "text": [
      "{'affected_rows': 1, 'success': True, 'auth_check': {'session': None, 'auth_level': None, 'success': True}, '_execution_time': 0.066}\n"
     ]
    },
    {
     "data": {
      "text/plain": [
       "{'id': 29971,\n",
       " 'kv_swap2005': '\"swap2005\"=>\"true\"',\n",
       " 'scientificname_tir': 'Melicope macropus'}"
      ]
     },
     "metadata": {},
     "output_type": "display_data"
    },
    {
     "name": "stdout",
     "output_type": "stream",
     "text": [
      "{'affected_rows': 1, 'success': True, 'auth_check': {'session': None, 'auth_level': None, 'success': True}, '_execution_time': 0.066}\n"
     ]
    },
    {
     "data": {
      "text/plain": [
       "{'id': 37210,\n",
       " 'kv_swap2005': '\"swap2005\"=>\"true\"',\n",
       " 'scientificname_tir': 'Uniomerus declivis'}"
      ]
     },
     "metadata": {},
     "output_type": "display_data"
    },
    {
     "name": "stdout",
     "output_type": "stream",
     "text": [
      "{'affected_rows': 1, 'success': True, 'auth_check': {'session': None, 'auth_level': None, 'success': True}, '_execution_time': 0.111}\n"
     ]
    },
    {
     "data": {
      "text/plain": [
       "{'id': 28921,\n",
       " 'kv_swap2005': '\"swap2005\"=>\"true\"',\n",
       " 'scientificname_tir': 'Leptalpheus forceps'}"
      ]
     },
     "metadata": {},
     "output_type": "display_data"
    },
    {
     "name": "stdout",
     "output_type": "stream",
     "text": [
      "{'affected_rows': 1, 'success': True, 'auth_check': {'session': None, 'auth_level': None, 'success': True}, '_execution_time': 0.065}\n"
     ]
    },
    {
     "data": {
      "text/plain": [
       "{'id': 26728,\n",
       " 'kv_swap2005': '\"swap2005\"=>\"false\"',\n",
       " 'scientificname_tir': 'Floridobia winkleyi'}"
      ]
     },
     "metadata": {},
     "output_type": "display_data"
    },
    {
     "name": "stdout",
     "output_type": "stream",
     "text": [
      "{'affected_rows': 1, 'success': True, 'auth_check': {'session': None, 'auth_level': None, 'success': True}, '_execution_time': 0.066}\n"
     ]
    },
    {
     "data": {
      "text/plain": [
       "{'id': 33620,\n",
       " 'kv_swap2005': '\"swap2005\"=>\"true\"',\n",
       " 'scientificname_tir': 'Prophysaon coeruleum'}"
      ]
     },
     "metadata": {},
     "output_type": "display_data"
    },
    {
     "name": "stdout",
     "output_type": "stream",
     "text": [
      "{'affected_rows': 1, 'success': True, 'auth_check': {'session': None, 'auth_level': None, 'success': True}, '_execution_time': 0.065}\n"
     ]
    },
    {
     "data": {
      "text/plain": [
       "{'id': 37347,\n",
       " 'kv_swap2005': '\"swap2005\"=>\"true\"',\n",
       " 'scientificname_tir': 'Vertigo arthuri'}"
      ]
     },
     "metadata": {},
     "output_type": "display_data"
    },
    {
     "name": "stdout",
     "output_type": "stream",
     "text": [
      "{'affected_rows': 1, 'success': True, 'auth_check': {'session': None, 'auth_level': None, 'success': True}, '_execution_time': 0.066}\n"
     ]
    },
    {
     "data": {
      "text/plain": [
       "{'id': 24242,\n",
       " 'kv_swap2005': '\"swap2005\"=>\"false\"',\n",
       " 'scientificname_tir': 'Combined account 6'}"
      ]
     },
     "metadata": {},
     "output_type": "display_data"
    },
    {
     "name": "stdout",
     "output_type": "stream",
     "text": [
      "{'affected_rows': 1, 'success': True, 'auth_check': {'session': None, 'auth_level': None, 'success': True}, '_execution_time': 0.065}\n"
     ]
    },
    {
     "data": {
      "text/plain": [
       "{'id': 22289,\n",
       " 'kv_swap2005': '\"swap2005\"=>\"true\"',\n",
       " 'scientificname_tir': 'Brachinus medius'}"
      ]
     },
     "metadata": {},
     "output_type": "display_data"
    },
    {
     "name": "stdout",
     "output_type": "stream",
     "text": [
      "{'affected_rows': 1, 'success': True, 'auth_check': {'session': None, 'auth_level': None, 'success': True}, '_execution_time': 0.109}\n"
     ]
    },
    {
     "data": {
      "text/plain": [
       "{'id': 29034,\n",
       " 'kv_swap2005': '\"swap2005\"=>\"true\"',\n",
       " 'scientificname_tir': 'Lethe appalachia'}"
      ]
     },
     "metadata": {},
     "output_type": "display_data"
    },
    {
     "name": "stdout",
     "output_type": "stream",
     "text": [
      "{'affected_rows': 1, 'success': True, 'auth_check': {'session': None, 'auth_level': None, 'success': True}, '_execution_time': 0.081}\n"
     ]
    },
    {
     "data": {
      "text/plain": [
       "{'id': 29119,\n",
       " 'kv_swap2005': '\"swap2005\"=>\"true\"',\n",
       " 'scientificname_tir': 'Libellula quadrimaculata'}"
      ]
     },
     "metadata": {},
     "output_type": "display_data"
    },
    {
     "name": "stdout",
     "output_type": "stream",
     "text": [
      "{'affected_rows': 1, 'success': True, 'auth_check': {'session': None, 'auth_level': None, 'success': True}, '_execution_time': 0.066}\n"
     ]
    },
    {
     "data": {
      "text/plain": [
       "{'id': 29143,\n",
       " 'kv_swap2005': '\"swap2005\"=>\"false\"',\n",
       " 'scientificname_tir': 'Lilaeopsis carolinensis'}"
      ]
     },
     "metadata": {},
     "output_type": "display_data"
    },
    {
     "name": "stdout",
     "output_type": "stream",
     "text": [
      "{'affected_rows': 1, 'success': True, 'auth_check': {'session': None, 'auth_level': None, 'success': True}, '_execution_time': 0.07}\n"
     ]
    },
    {
     "data": {
      "text/plain": [
       "{'id': 32882,\n",
       " 'kv_swap2005': '\"swap2005\"=>\"true\"',\n",
       " 'scientificname_tir': 'Planorbella magnifica'}"
      ]
     },
     "metadata": {},
     "output_type": "display_data"
    },
    {
     "name": "stdout",
     "output_type": "stream",
     "text": [
      "{'affected_rows': 1, 'success': True, 'auth_check': {'session': None, 'auth_level': None, 'success': True}, '_execution_time': 0.067}\n"
     ]
    },
    {
     "data": {
      "text/plain": [
       "{'id': 29052,\n",
       " 'kv_swap2005': '\"swap2005\"=>\"true\"',\n",
       " 'scientificname_tir': 'Leucoraja garmani virginica'}"
      ]
     },
     "metadata": {},
     "output_type": "display_data"
    },
    {
     "name": "stdout",
     "output_type": "stream",
     "text": [
      "{'affected_rows': 1, 'success': True, 'auth_check': {'session': None, 'auth_level': None, 'success': True}, '_execution_time': 0.067}\n"
     ]
    },
    {
     "data": {
      "text/plain": [
       "{'id': 20396,\n",
       " 'kv_swap2005': '\"swap2005\"=>\"true\"',\n",
       " 'scientificname_tir': 'Abutilon eremitopetalum'}"
      ]
     },
     "metadata": {},
     "output_type": "display_data"
    },
    {
     "name": "stdout",
     "output_type": "stream",
     "text": [
      "{'affected_rows': 1, 'success': True, 'auth_check': {'session': None, 'auth_level': None, 'success': True}, '_execution_time': 0.066}\n"
     ]
    },
    {
     "data": {
      "text/plain": [
       "{'id': 29083,\n",
       " 'kv_swap2005': '\"swap2005\"=>\"true\"',\n",
       " 'scientificname_tir': 'Levicaris mammilata'}"
      ]
     },
     "metadata": {},
     "output_type": "display_data"
    },
    {
     "name": "stdout",
     "output_type": "stream",
     "text": [
      "{'affected_rows': 1, 'success': True, 'auth_check': {'session': None, 'auth_level': None, 'success': True}, '_execution_time': 0.067}\n"
     ]
    },
    {
     "data": {
      "text/plain": [
       "{'id': 31624,\n",
       " 'kv_swap2005': '\"swap2005\"=>\"true\"',\n",
       " 'scientificname_tir': 'Orthalicus floridensis'}"
      ]
     },
     "metadata": {},
     "output_type": "display_data"
    },
    {
     "name": "stdout",
     "output_type": "stream",
     "text": [
      "{'affected_rows': 1, 'success': True, 'auth_check': {'session': None, 'auth_level': None, 'success': True}, '_execution_time': 0.069}\n"
     ]
    },
    {
     "data": {
      "text/plain": [
       "{'id': 36834,\n",
       " 'kv_swap2005': '\"swap2005\"=>\"false\"',\n",
       " 'scientificname_tir': 'Toxolasma lividum'}"
      ]
     },
     "metadata": {},
     "output_type": "display_data"
    },
    {
     "name": "stdout",
     "output_type": "stream",
     "text": [
      "{'affected_rows': 1, 'success': True, 'auth_check': {'session': None, 'auth_level': None, 'success': True}, '_execution_time': 0.067}\n"
     ]
    },
    {
     "data": {
      "text/plain": [
       "{'id': 25984,\n",
       " 'kv_swap2005': '\"swap2005\"=>\"true\"',\n",
       " 'scientificname_tir': 'Equetus punctatus'}"
      ]
     },
     "metadata": {},
     "output_type": "display_data"
    },
    {
     "name": "stdout",
     "output_type": "stream",
     "text": [
      "{'affected_rows': 1, 'success': True, 'auth_check': {'session': None, 'auth_level': None, 'success': True}, '_execution_time': 0.106}\n"
     ]
    },
    {
     "data": {
      "text/plain": [
       "{'id': 36110,\n",
       " 'kv_swap2005': '\"swap2005\"=>\"true\"',\n",
       " 'scientificname_tir': 'Strix occidentalis caurina'}"
      ]
     },
     "metadata": {},
     "output_type": "display_data"
    },
    {
     "name": "stdout",
     "output_type": "stream",
     "text": [
      "{'affected_rows': 1, 'success': True, 'auth_check': {'session': None, 'auth_level': None, 'success': True}, '_execution_time': 0.067}\n"
     ]
    },
    {
     "data": {
      "text/plain": [
       "{'id': 33905,\n",
       " 'kv_swap2005': '\"swap2005\"=>\"false\"',\n",
       " 'scientificname_tir': 'Pseudosubulina cheatumi'}"
      ]
     },
     "metadata": {},
     "output_type": "display_data"
    },
    {
     "name": "stdout",
     "output_type": "stream",
     "text": [
      "{'affected_rows': 1, 'success': True, 'auth_check': {'session': None, 'auth_level': None, 'success': True}, '_execution_time': 0.067}\n"
     ]
    },
    {
     "data": {
      "text/plain": [
       "{'id': 34256,\n",
       " 'kv_swap2005': '\"swap2005\"=>\"true\"',\n",
       " 'scientificname_tir': 'Quadrula quadrula'}"
      ]
     },
     "metadata": {},
     "output_type": "display_data"
    },
    {
     "name": "stdout",
     "output_type": "stream",
     "text": [
      "{'affected_rows': 1, 'success': True, 'auth_check': {'session': None, 'auth_level': None, 'success': True}, '_execution_time': 0.066}\n"
     ]
    },
    {
     "data": {
      "text/plain": [
       "{'id': 36108,\n",
       " 'kv_swap2005': '\"swap2005\"=>\"true\"',\n",
       " 'scientificname_tir': 'Strix nebulosa'}"
      ]
     },
     "metadata": {},
     "output_type": "display_data"
    },
    {
     "name": "stdout",
     "output_type": "stream",
     "text": [
      "{'affected_rows': 1, 'success': True, 'auth_check': {'session': None, 'auth_level': None, 'success': True}, '_execution_time': 0.067}\n"
     ]
    },
    {
     "data": {
      "text/plain": [
       "{'id': 36113,\n",
       " 'kv_swap2005': '\"swap2005\"=>\"true\"',\n",
       " 'scientificname_tir': 'Strix varia'}"
      ]
     },
     "metadata": {},
     "output_type": "display_data"
    },
    {
     "name": "stdout",
     "output_type": "stream",
     "text": [
      "{'affected_rows': 1, 'success': True, 'auth_check': {'session': None, 'auth_level': None, 'success': True}, '_execution_time': 0.068}\n"
     ]
    },
    {
     "data": {
      "text/plain": [
       "{'id': 32023,\n",
       " 'kv_swap2005': '\"swap2005\"=>\"true\"',\n",
       " 'scientificname_tir': 'Paravitrea lacteodens'}"
      ]
     },
     "metadata": {},
     "output_type": "display_data"
    },
    {
     "name": "stdout",
     "output_type": "stream",
     "text": [
      "{'affected_rows': 1, 'success': True, 'auth_check': {'session': None, 'auth_level': None, 'success': True}, '_execution_time': 0.071}\n"
     ]
    },
    {
     "data": {
      "text/plain": [
       "{'id': 37677,\n",
       " 'kv_swap2005': '\"swap2005\"=>\"true\"',\n",
       " 'scientificname_tir': 'Zomaria interuptolineana'}"
      ]
     },
     "metadata": {},
     "output_type": "display_data"
    },
    {
     "name": "stdout",
     "output_type": "stream",
     "text": [
      "{'affected_rows': 1, 'success': True, 'auth_check': {'session': None, 'auth_level': None, 'success': True}, '_execution_time': 0.067}\n"
     ]
    },
    {
     "data": {
      "text/plain": [
       "{'id': 29124,\n",
       " 'kv_swap2005': '\"swap2005\"=>\"true\"',\n",
       " 'scientificname_tir': 'Libinia emarginata'}"
      ]
     },
     "metadata": {},
     "output_type": "display_data"
    },
    {
     "name": "stdout",
     "output_type": "stream",
     "text": [
      "{'affected_rows': 1, 'success': True, 'auth_check': {'session': None, 'auth_level': None, 'success': True}, '_execution_time': 0.067}\n"
     ]
    },
    {
     "data": {
      "text/plain": [
       "{'id': 20787,\n",
       " 'kv_swap2005': '\"swap2005\"=>\"true\"',\n",
       " 'scientificname_tir': 'Allium tricoccum'}"
      ]
     },
     "metadata": {},
     "output_type": "display_data"
    },
    {
     "name": "stdout",
     "output_type": "stream",
     "text": [
      "{'affected_rows': 1, 'success': True, 'auth_check': {'session': None, 'auth_level': None, 'success': True}, '_execution_time': 0.091}\n"
     ]
    },
    {
     "data": {
      "text/plain": [
       "{'id': 26011,\n",
       " 'kv_swap2005': '\"swap2005\"=>\"true\"',\n",
       " 'scientificname_tir': 'Eremichthys acros'}"
      ]
     },
     "metadata": {},
     "output_type": "display_data"
    },
    {
     "name": "stdout",
     "output_type": "stream",
     "text": [
      "{'affected_rows': 1, 'success': True, 'auth_check': {'session': None, 'auth_level': None, 'success': True}, '_execution_time': 0.066}\n"
     ]
    },
    {
     "data": {
      "text/plain": [
       "{'id': 29218,\n",
       " 'kv_swap2005': '\"swap2005\"=>\"true\"',\n",
       " 'scientificname_tir': 'Linophryne escaramosa'}"
      ]
     },
     "metadata": {},
     "output_type": "display_data"
    },
    {
     "name": "stdout",
     "output_type": "stream",
     "text": [
      "{'affected_rows': 1, 'success': True, 'auth_check': {'session': None, 'auth_level': None, 'success': True}, '_execution_time': 0.067}\n"
     ]
    },
    {
     "data": {
      "text/plain": [
       "{'id': 29135,\n",
       " 'kv_swap2005': '\"swap2005\"=>\"true\"',\n",
       " 'scientificname_tir': 'Ligidium elrodii hancockensis'}"
      ]
     },
     "metadata": {},
     "output_type": "display_data"
    },
    {
     "name": "stdout",
     "output_type": "stream",
     "text": [
      "{'affected_rows': 1, 'success': True, 'auth_check': {'session': None, 'auth_level': None, 'success': True}, '_execution_time': 0.067}\n"
     ]
    },
    {
     "data": {
      "text/plain": [
       "{'id': 37691,\n",
       " 'kv_swap2005': '\"swap2005\"=>\"true\"',\n",
       " 'scientificname_tir': 'Zosterops conspicillatus saypani'}"
      ]
     },
     "metadata": {},
     "output_type": "display_data"
    },
    {
     "name": "stdout",
     "output_type": "stream",
     "text": [
      "{'affected_rows': 1, 'success': True, 'auth_check': {'session': None, 'auth_level': None, 'success': True}, '_execution_time': 0.066}\n"
     ]
    },
    {
     "data": {
      "text/plain": [
       "{'id': 29240,\n",
       " 'kv_swap2005': '\"swap2005\"=>\"true\"',\n",
       " 'scientificname_tir': 'Lioplax cyclostomaformis'}"
      ]
     },
     "metadata": {},
     "output_type": "display_data"
    },
    {
     "name": "stdout",
     "output_type": "stream",
     "text": [
      "{'affected_rows': 1, 'success': True, 'auth_check': {'session': None, 'auth_level': None, 'success': True}, '_execution_time': 0.115}\n"
     ]
    },
    {
     "data": {
      "text/plain": [
       "{'id': 29209,\n",
       " 'kv_swap2005': '\"swap2005\"=>\"true\"',\n",
       " 'scientificname_tir': 'Linderiella occidentalis'}"
      ]
     },
     "metadata": {},
     "output_type": "display_data"
    },
    {
     "name": "stdout",
     "output_type": "stream",
     "text": [
      "{'affected_rows': 1, 'success': True, 'auth_check': {'session': None, 'auth_level': None, 'success': True}, '_execution_time': 0.081}\n"
     ]
    },
    {
     "data": {
      "text/plain": [
       "{'id': 25751,\n",
       " 'kv_swap2005': '\"swap2005\"=>\"true\"',\n",
       " 'scientificname_tir': 'Elymus spicatus'}"
      ]
     },
     "metadata": {},
     "output_type": "display_data"
    },
    {
     "name": "stdout",
     "output_type": "stream",
     "text": [
      "{'affected_rows': 1, 'success': True, 'auth_check': {'session': None, 'auth_level': None, 'success': True}, '_execution_time': 0.11}\n"
     ]
    },
    {
     "data": {
      "text/plain": [
       "{'id': 27342,\n",
       " 'kv_swap2005': '\"swap2005\"=>\"true\"',\n",
       " 'scientificname_tir': 'Gymnothorax miliaris'}"
      ]
     },
     "metadata": {},
     "output_type": "display_data"
    },
    {
     "name": "stdout",
     "output_type": "stream",
     "text": [
      "{'affected_rows': 1, 'success': True, 'auth_check': {'session': None, 'auth_level': None, 'success': True}, '_execution_time': 0.096}\n"
     ]
    },
    {
     "data": {
      "text/plain": [
       "{'id': 27158,\n",
       " 'kv_swap2005': '\"swap2005\"=>\"true\"',\n",
       " 'scientificname_tir': 'Glyphyalinia praecox'}"
      ]
     },
     "metadata": {},
     "output_type": "display_data"
    },
    {
     "name": "stdout",
     "output_type": "stream",
     "text": [
      "{'affected_rows': 1, 'success': True, 'auth_check': {'session': None, 'auth_level': None, 'success': True}, '_execution_time': 0.114}\n"
     ]
    },
    {
     "data": {
      "text/plain": [
       "{'id': 29278,\n",
       " 'kv_swap2005': '\"swap2005\"=>\"true\"',\n",
       " 'scientificname_tir': 'Lithasia curta'}"
      ]
     },
     "metadata": {},
     "output_type": "display_data"
    },
    {
     "name": "stdout",
     "output_type": "stream",
     "text": [
      "{'affected_rows': 1, 'success': True, 'auth_check': {'session': None, 'auth_level': None, 'success': True}, '_execution_time': 0.065}\n"
     ]
    },
    {
     "data": {
      "text/plain": [
       "{'id': 32090,\n",
       " 'kv_swap2005': '\"swap2005\"=>\"false\"',\n",
       " 'scientificname_tir': 'Partulina proxima'}"
      ]
     },
     "metadata": {},
     "output_type": "display_data"
    },
    {
     "name": "stdout",
     "output_type": "stream",
     "text": [
      "{'affected_rows': 1, 'success': True, 'auth_check': {'session': None, 'auth_level': None, 'success': True}, '_execution_time': 0.065}\n"
     ]
    },
    {
     "data": {
      "text/plain": [
       "{'id': 37378,\n",
       " 'kv_swap2005': '\"swap2005\"=>\"true\"',\n",
       " 'scientificname_tir': 'Vertigo pygmaea'}"
      ]
     },
     "metadata": {},
     "output_type": "display_data"
    },
    {
     "name": "stdout",
     "output_type": "stream",
     "text": [
      "{'affected_rows': 1, 'success': True, 'auth_check': {'session': None, 'auth_level': None, 'success': True}, '_execution_time': 0.065}\n"
     ]
    },
    {
     "data": {
      "text/plain": [
       "{'id': 29265,\n",
       " 'kv_swap2005': '\"swap2005\"=>\"true\"',\n",
       " 'scientificname_tir': 'Lirceus lineatus'}"
      ]
     },
     "metadata": {},
     "output_type": "display_data"
    },
    {
     "name": "stdout",
     "output_type": "stream",
     "text": [
      "{'affected_rows': 1, 'success': True, 'auth_check': {'session': None, 'auth_level': None, 'success': True}, '_execution_time': 0.087}\n"
     ]
    },
    {
     "data": {
      "text/plain": [
       "{'id': 20577,\n",
       " 'kv_swap2005': '\"swap2005\"=>\"false\"',\n",
       " 'scientificname_tir': 'Aegalius acadicus'}"
      ]
     },
     "metadata": {},
     "output_type": "display_data"
    },
    {
     "name": "stdout",
     "output_type": "stream",
     "text": [
      "{'affected_rows': 1, 'success': True, 'auth_check': {'session': None, 'auth_level': None, 'success': True}, '_execution_time': 0.083}\n"
     ]
    },
    {
     "data": {
      "text/plain": [
       "{'id': 35012,\n",
       " 'kv_swap2005': '\"swap2005\"=>\"true\"',\n",
       " 'scientificname_tir': 'Scirpus divaricatus'}"
      ]
     },
     "metadata": {},
     "output_type": "display_data"
    },
    {
     "name": "stdout",
     "output_type": "stream",
     "text": [
      "{'affected_rows': 1, 'success': True, 'auth_check': {'session': None, 'auth_level': None, 'success': True}, '_execution_time': 0.067}\n"
     ]
    },
    {
     "data": {
      "text/plain": [
       "{'id': 30064,\n",
       " 'kv_swap2005': '\"swap2005\"=>\"true\"',\n",
       " 'scientificname_tir': 'Mesodon elevatus'}"
      ]
     },
     "metadata": {},
     "output_type": "display_data"
    },
    {
     "name": "stdout",
     "output_type": "stream",
     "text": [
      "{'affected_rows': 1, 'success': True, 'auth_check': {'session': None, 'auth_level': None, 'success': True}, '_execution_time': 0.11}\n"
     ]
    },
    {
     "data": {
      "text/plain": [
       "{'id': 26671,\n",
       " 'kv_swap2005': '\"swap2005\"=>\"true\"',\n",
       " 'scientificname_tir': 'Ferrissia walkeri'}"
      ]
     },
     "metadata": {},
     "output_type": "display_data"
    },
    {
     "name": "stdout",
     "output_type": "stream",
     "text": [
      "{'affected_rows': 1, 'success': True, 'auth_check': {'session': None, 'auth_level': None, 'success': True}, '_execution_time': 0.064}\n"
     ]
    },
    {
     "data": {
      "text/plain": [
       "{'id': 31683,\n",
       " 'kv_swap2005': '\"swap2005\"=>\"true\"',\n",
       " 'scientificname_tir': 'Otus flammeolus'}"
      ]
     },
     "metadata": {},
     "output_type": "display_data"
    },
    {
     "name": "stdout",
     "output_type": "stream",
     "text": [
      "{'affected_rows': 1, 'success': True, 'auth_check': {'session': None, 'auth_level': None, 'success': True}, '_execution_time': 0.086}\n"
     ]
    },
    {
     "data": {
      "text/plain": [
       "{'id': 35652,\n",
       " 'kv_swap2005': '\"swap2005\"=>\"true\"',\n",
       " 'scientificname_tir': 'Spermophilus elegans nevadensis'}"
      ]
     },
     "metadata": {},
     "output_type": "display_data"
    },
    {
     "name": "stdout",
     "output_type": "stream",
     "text": [
      "{'affected_rows': 1, 'success': True, 'auth_check': {'session': None, 'auth_level': None, 'success': True}, '_execution_time': 0.065}\n"
     ]
    },
    {
     "data": {
      "text/plain": [
       "{'id': 29340,\n",
       " 'kv_swap2005': '\"swap2005\"=>\"false\"',\n",
       " 'scientificname_tir': 'Lobelia boykinii'}"
      ]
     },
     "metadata": {},
     "output_type": "display_data"
    },
    {
     "name": "stdout",
     "output_type": "stream",
     "text": [
      "{'affected_rows': 1, 'success': True, 'auth_check': {'session': None, 'auth_level': None, 'success': True}, '_execution_time': 0.064}\n"
     ]
    },
    {
     "data": {
      "text/plain": [
       "{'id': 28183,\n",
       " 'kv_swap2005': '\"swap2005\"=>\"true\"',\n",
       " 'scientificname_tir': 'Hyporhamphus meeki'}"
      ]
     },
     "metadata": {},
     "output_type": "display_data"
    },
    {
     "name": "stdout",
     "output_type": "stream",
     "text": [
      "{'affected_rows': 1, 'success': True, 'auth_check': {'session': None, 'auth_level': None, 'success': True}, '_execution_time': 0.065}\n"
     ]
    },
    {
     "data": {
      "text/plain": [
       "{'id': 28237,\n",
       " 'kv_swap2005': '\"swap2005\"=>\"true\"',\n",
       " 'scientificname_tir': 'Ictiobus niger'}"
      ]
     },
     "metadata": {},
     "output_type": "display_data"
    },
    {
     "name": "stdout",
     "output_type": "stream",
     "text": [
      "{'affected_rows': 1, 'success': True, 'auth_check': {'session': None, 'auth_level': None, 'success': True}, '_execution_time': 0.066}\n"
     ]
    },
    {
     "data": {
      "text/plain": [
       "{'id': 29354,\n",
       " 'kv_swap2005': '\"swap2005\"=>\"false\"',\n",
       " 'scientificname_tir': 'Loberus ornatus'}"
      ]
     },
     "metadata": {},
     "output_type": "display_data"
    },
    {
     "name": "stdout",
     "output_type": "stream",
     "text": [
      "{'affected_rows': 1, 'success': True, 'auth_check': {'session': None, 'auth_level': None, 'success': True}, '_execution_time': 0.086}\n"
     ]
    },
    {
     "data": {
      "text/plain": [
       "{'id': 35843,\n",
       " 'kv_swap2005': '\"swap2005\"=>\"true\"',\n",
       " 'scientificname_tir': 'Spiza americana'}"
      ]
     },
     "metadata": {},
     "output_type": "display_data"
    },
    {
     "name": "stdout",
     "output_type": "stream",
     "text": [
      "{'affected_rows': 1, 'success': True, 'auth_check': {'session': None, 'auth_level': None, 'success': True}, '_execution_time': 0.09}\n"
     ]
    },
    {
     "data": {
      "text/plain": [
       "{'id': 30443,\n",
       " 'kv_swap2005': '\"swap2005\"=>\"false\"',\n",
       " 'scientificname_tir': 'Mya truncata'}"
      ]
     },
     "metadata": {},
     "output_type": "display_data"
    },
    {
     "name": "stdout",
     "output_type": "stream",
     "text": [
      "{'affected_rows': 1, 'success': True, 'auth_check': {'session': None, 'auth_level': None, 'success': True}, '_execution_time': 0.066}\n"
     ]
    },
    {
     "data": {
      "text/plain": [
       "{'id': 37015,\n",
       " 'kv_swap2005': '\"swap2005\"=>\"true\"',\n",
       " 'scientificname_tir': 'Tringa nebularia'}"
      ]
     },
     "metadata": {},
     "output_type": "display_data"
    },
    {
     "name": "stdout",
     "output_type": "stream",
     "text": [
      "{'affected_rows': 1, 'success': True, 'auth_check': {'session': None, 'auth_level': None, 'success': True}, '_execution_time': 0.064}\n"
     ]
    },
    {
     "data": {
      "text/plain": [
       "{'id': 29381,\n",
       " 'kv_swap2005': '\"swap2005\"=>\"true\"',\n",
       " 'scientificname_tir': 'Lontra canadensis sonora'}"
      ]
     },
     "metadata": {},
     "output_type": "display_data"
    },
    {
     "name": "stdout",
     "output_type": "stream",
     "text": [
      "{'affected_rows': 1, 'success': True, 'auth_check': {'session': None, 'auth_level': None, 'success': True}, '_execution_time': 0.064}\n"
     ]
    },
    {
     "data": {
      "text/plain": [
       "{'id': 32533,\n",
       " 'kv_swap2005': '\"swap2005\"=>\"false\"',\n",
       " 'scientificname_tir': 'Philotiella leona'}"
      ]
     },
     "metadata": {},
     "output_type": "display_data"
    },
    {
     "name": "stdout",
     "output_type": "stream",
     "text": [
      "{'affected_rows': 1, 'success': True, 'auth_check': {'session': None, 'auth_level': None, 'success': True}, '_execution_time': 0.071}\n"
     ]
    },
    {
     "data": {
      "text/plain": [
       "{'id': 29393,\n",
       " 'kv_swap2005': '\"swap2005\"=>\"true\"',\n",
       " 'scientificname_tir': 'Lophomus laxus'}"
      ]
     },
     "metadata": {},
     "output_type": "display_data"
    },
    {
     "name": "stdout",
     "output_type": "stream",
     "text": [
      "{'affected_rows': 1, 'success': True, 'auth_check': {'session': None, 'auth_level': None, 'success': True}, '_execution_time': 0.064}\n"
     ]
    },
    {
     "data": {
      "text/plain": [
       "{'id': 21836,\n",
       " 'kv_swap2005': '\"swap2005\"=>\"true\"',\n",
       " 'scientificname_tir': 'Atractosteus spatula'}"
      ]
     },
     "metadata": {},
     "output_type": "display_data"
    },
    {
     "name": "stdout",
     "output_type": "stream",
     "text": [
      "{'affected_rows': 1, 'success': True, 'auth_check': {'session': None, 'auth_level': None, 'success': True}, '_execution_time': 0.066}\n"
     ]
    },
    {
     "data": {
      "text/plain": [
       "{'id': 29437,\n",
       " 'kv_swap2005': '\"swap2005\"=>\"false\"',\n",
       " 'scientificname_tir': 'Ludwigia brevipes'}"
      ]
     },
     "metadata": {},
     "output_type": "display_data"
    },
    {
     "name": "stdout",
     "output_type": "stream",
     "text": [
      "{'affected_rows': 1, 'success': True, 'auth_check': {'session': None, 'auth_level': None, 'success': True}, '_execution_time': 0.097}\n"
     ]
    },
    {
     "data": {
      "text/plain": [
       "{'id': 33401,\n",
       " 'kv_swap2005': '\"swap2005\"=>\"true\"',\n",
       " 'scientificname_tir': 'Potamilus purpuratus'}"
      ]
     },
     "metadata": {},
     "output_type": "display_data"
    },
    {
     "name": "stdout",
     "output_type": "stream",
     "text": [
      "{'affected_rows': 1, 'success': True, 'auth_check': {'session': None, 'auth_level': None, 'success': True}, '_execution_time': 0.099}\n"
     ]
    },
    {
     "data": {
      "text/plain": [
       "{'id': 29409,\n",
       " 'kv_swap2005': '\"swap2005\"=>\"true\"',\n",
       " 'scientificname_tir': 'Lota lota'}"
      ]
     },
     "metadata": {},
     "output_type": "display_data"
    },
    {
     "name": "stdout",
     "output_type": "stream",
     "text": [
      "{'affected_rows': 1, 'success': True, 'auth_check': {'session': None, 'auth_level': None, 'success': True}, '_execution_time': 0.066}\n"
     ]
    },
    {
     "data": {
      "text/plain": [
       "{'id': 29434,\n",
       " 'kv_swap2005': '\"swap2005\"=>\"true\"',\n",
       " 'scientificname_tir': 'Lucifer faxoni'}"
      ]
     },
     "metadata": {},
     "output_type": "display_data"
    },
    {
     "name": "stdout",
     "output_type": "stream",
     "text": [
      "{'affected_rows': 1, 'success': True, 'auth_check': {'session': None, 'auth_level': None, 'success': True}, '_execution_time': 0.073}\n"
     ]
    },
    {
     "data": {
      "text/plain": [
       "{'id': 24175,\n",
       " 'kv_swap2005': '\"swap2005\"=>\"false\"',\n",
       " 'scientificname_tir': 'Colapte auratus'}"
      ]
     },
     "metadata": {},
     "output_type": "display_data"
    },
    {
     "name": "stdout",
     "output_type": "stream",
     "text": [
      "{'affected_rows': 1, 'success': True, 'auth_check': {'session': None, 'auth_level': None, 'success': True}, '_execution_time': 0.085}\n"
     ]
    },
    {
     "data": {
      "text/plain": [
       "{'id': 37417,\n",
       " 'kv_swap2005': '\"swap2005\"=>\"true\"',\n",
       " 'scientificname_tir': 'Villosa ortmanni'}"
      ]
     },
     "metadata": {},
     "output_type": "display_data"
    },
    {
     "name": "stdout",
     "output_type": "stream",
     "text": [
      "{'affected_rows': 1, 'success': True, 'auth_check': {'session': None, 'auth_level': None, 'success': True}, '_execution_time': 0.065}\n"
     ]
    },
    {
     "data": {
      "text/plain": [
       "{'id': 30437,\n",
       " 'kv_swap2005': '\"swap2005\"=>\"true\"',\n",
       " 'scientificname_tir': 'Mya arenaria'}"
      ]
     },
     "metadata": {},
     "output_type": "display_data"
    },
    {
     "name": "stdout",
     "output_type": "stream",
     "text": [
      "{'affected_rows': 1, 'success': True, 'auth_check': {'session': None, 'auth_level': None, 'success': True}, '_execution_time': 0.065}\n"
     ]
    },
    {
     "data": {
      "text/plain": [
       "{'id': 28580,\n",
       " 'kv_swap2005': '\"swap2005\"=>\"true\"',\n",
       " 'scientificname_tir': 'Labrisomus gobio'}"
      ]
     },
     "metadata": {},
     "output_type": "display_data"
    },
    {
     "name": "stdout",
     "output_type": "stream",
     "text": [
      "{'affected_rows': 1, 'success': True, 'auth_check': {'session': None, 'auth_level': None, 'success': True}, '_execution_time': 0.089}\n"
     ]
    },
    {
     "data": {
      "text/plain": [
       "{'id': 29548,\n",
       " 'kv_swap2005': '\"swap2005\"=>\"true\"',\n",
       " 'scientificname_tir': 'Lysidice ninetta'}"
      ]
     },
     "metadata": {},
     "output_type": "display_data"
    },
    {
     "name": "stdout",
     "output_type": "stream",
     "text": [
      "{'affected_rows': 1, 'success': True, 'auth_check': {'session': None, 'auth_level': None, 'success': True}, '_execution_time': 0.065}\n"
     ]
    },
    {
     "data": {
      "text/plain": [
       "{'id': 27156,\n",
       " 'kv_swap2005': '\"swap2005\"=>\"true\"',\n",
       " 'scientificname_tir': 'Glyphyalinia pentadelphia'}"
      ]
     },
     "metadata": {},
     "output_type": "display_data"
    },
    {
     "name": "stdout",
     "output_type": "stream",
     "text": [
      "{'affected_rows': 1, 'success': True, 'auth_check': {'session': None, 'auth_level': None, 'success': True}, '_execution_time': 0.107}\n"
     ]
    },
    {
     "data": {
      "text/plain": [
       "{'id': 26668,\n",
       " 'kv_swap2005': '\"swap2005\"=>\"true\"',\n",
       " 'scientificname_tir': 'Ferrissia parallelus'}"
      ]
     },
     "metadata": {},
     "output_type": "display_data"
    },
    {
     "name": "stdout",
     "output_type": "stream",
     "text": [
      "{'affected_rows': 1, 'success': True, 'auth_check': {'session': None, 'auth_level': None, 'success': True}, '_execution_time': 0.09}\n"
     ]
    },
    {
     "data": {
      "text/plain": [
       "{'id': 29827,\n",
       " 'kv_swap2005': '\"swap2005\"=>\"true\"',\n",
       " 'scientificname_tir': 'Medionidus walkeri'}"
      ]
     },
     "metadata": {},
     "output_type": "display_data"
    },
    {
     "name": "stdout",
     "output_type": "stream",
     "text": [
      "{'affected_rows': 1, 'success': True, 'auth_check': {'session': None, 'auth_level': None, 'success': True}, '_execution_time': 0.066}\n"
     ]
    },
    {
     "data": {
      "text/plain": [
       "{'id': 31739,\n",
       " 'kv_swap2005': '\"swap2005\"=>\"true\"',\n",
       " 'scientificname_tir': 'Ozyptila modesta'}"
      ]
     },
     "metadata": {},
     "output_type": "display_data"
    },
    {
     "name": "stdout",
     "output_type": "stream",
     "text": [
      "{'affected_rows': 1, 'success': True, 'auth_check': {'session': None, 'auth_level': None, 'success': True}, '_execution_time': 0.064}\n"
     ]
    },
    {
     "data": {
      "text/plain": [
       "{'id': 28811,\n",
       " 'kv_swap2005': '\"swap2005\"=>\"true\"',\n",
       " 'scientificname_tir': 'Lavinia exilicauda exilicauda'}"
      ]
     },
     "metadata": {},
     "output_type": "display_data"
    },
    {
     "name": "stdout",
     "output_type": "stream",
     "text": [
      "{'affected_rows': 1, 'success': True, 'auth_check': {'session': None, 'auth_level': None, 'success': True}, '_execution_time': 0.065}\n"
     ]
    },
    {
     "data": {
      "text/plain": [
       "{'id': 29596,\n",
       " 'kv_swap2005': '\"swap2005\"=>\"true\"',\n",
       " 'scientificname_tir': 'Mabuya sloanii'}"
      ]
     },
     "metadata": {},
     "output_type": "display_data"
    },
    {
     "name": "stdout",
     "output_type": "stream",
     "text": [
      "{'affected_rows': 1, 'success': True, 'auth_check': {'session': None, 'auth_level': None, 'success': True}, '_execution_time': 0.066}\n"
     ]
    },
    {
     "data": {
      "text/plain": [
       "{'id': 29567,\n",
       " 'kv_swap2005': '\"swap2005\"=>\"true\"',\n",
       " 'scientificname_tir': 'Lysmata wurdemanni'}"
      ]
     },
     "metadata": {},
     "output_type": "display_data"
    },
    {
     "name": "stdout",
     "output_type": "stream",
     "text": [
      "{'affected_rows': 1, 'success': True, 'auth_check': {'session': None, 'auth_level': None, 'success': True}, '_execution_time': 0.066}\n"
     ]
    },
    {
     "data": {
      "text/plain": [
       "{'id': 25674,\n",
       " 'kv_swap2005': '\"swap2005\"=>\"true\"',\n",
       " 'scientificname_tir': 'Elimia albanyensis'}"
      ]
     },
     "metadata": {},
     "output_type": "display_data"
    },
    {
     "name": "stdout",
     "output_type": "stream",
     "text": [
      "{'affected_rows': 1, 'success': True, 'auth_check': {'session': None, 'auth_level': None, 'success': True}, '_execution_time': 0.065}\n"
     ]
    },
    {
     "data": {
      "text/plain": [
       "{'id': 20436,\n",
       " 'kv_swap2005': '\"swap2005\"=>\"false\"',\n",
       " 'scientificname_tir': 'Accipiter gentilus atricapillus'}"
      ]
     },
     "metadata": {},
     "output_type": "display_data"
    },
    {
     "name": "stdout",
     "output_type": "stream",
     "text": [
      "{'affected_rows': 1, 'success': True, 'auth_check': {'session': None, 'auth_level': None, 'success': True}, '_execution_time': 0.065}\n"
     ]
    },
    {
     "data": {
      "text/plain": [
       "{'id': 29593,\n",
       " 'kv_swap2005': '\"swap2005\"=>\"true\"',\n",
       " 'scientificname_tir': 'Lytta molesta'}"
      ]
     },
     "metadata": {},
     "output_type": "display_data"
    },
    {
     "name": "stdout",
     "output_type": "stream",
     "text": [
      "{'affected_rows': 1, 'success': True, 'auth_check': {'session': None, 'auth_level': None, 'success': True}, '_execution_time': 0.066}\n"
     ]
    },
    {
     "data": {
      "text/plain": [
       "{'id': 29583,\n",
       " 'kv_swap2005': '\"swap2005\"=>\"true\"',\n",
       " 'scientificname_tir': 'Lythrypnus nesiotes'}"
      ]
     },
     "metadata": {},
     "output_type": "display_data"
    },
    {
     "name": "stdout",
     "output_type": "stream",
     "text": [
      "{'affected_rows': 1, 'success': True, 'auth_check': {'session': None, 'auth_level': None, 'success': True}, '_execution_time': 0.066}\n"
     ]
    },
    {
     "data": {
      "text/plain": [
       "{'id': 32402,\n",
       " 'kv_swap2005': '\"swap2005\"=>\"true\"',\n",
       " 'scientificname_tir': 'Peromyscus leucopus easti'}"
      ]
     },
     "metadata": {},
     "output_type": "display_data"
    },
    {
     "name": "stdout",
     "output_type": "stream",
     "text": [
      "{'affected_rows': 1, 'success': True, 'auth_check': {'session': None, 'auth_level': None, 'success': True}, '_execution_time': 0.071}\n"
     ]
    },
    {
     "data": {
      "text/plain": [
       "{'id': 26855,\n",
       " 'kv_swap2005': '\"swap2005\"=>\"true\"',\n",
       " 'scientificname_tir': 'Fusconaia escambia'}"
      ]
     },
     "metadata": {},
     "output_type": "display_data"
    },
    {
     "name": "stdout",
     "output_type": "stream",
     "text": [
      "{'affected_rows': 1, 'success': True, 'auth_check': {'session': None, 'auth_level': None, 'success': True}, '_execution_time': 0.065}\n"
     ]
    },
    {
     "data": {
      "text/plain": [
       "{'id': 24826,\n",
       " 'kv_swap2005': '\"swap2005\"=>\"true\"',\n",
       " 'scientificname_tir': 'Cyperus trachysanthos'}"
      ]
     },
     "metadata": {},
     "output_type": "display_data"
    },
    {
     "name": "stdout",
     "output_type": "stream",
     "text": [
      "{'affected_rows': 1, 'success': True, 'auth_check': {'session': None, 'auth_level': None, 'success': True}, '_execution_time': 0.098}\n"
     ]
    },
    {
     "data": {
      "text/plain": [
       "{'id': 29641,\n",
       " 'kv_swap2005': '\"swap2005\"=>\"true\"',\n",
       " 'scientificname_tir': 'Macrochelys temminckii'}"
      ]
     },
     "metadata": {},
     "output_type": "display_data"
    },
    {
     "name": "stdout",
     "output_type": "stream",
     "text": [
      "{'affected_rows': 1, 'success': True, 'auth_check': {'session': None, 'auth_level': None, 'success': True}, '_execution_time': 0.064}\n"
     ]
    },
    {
     "data": {
      "text/plain": [
       "{'id': 29731,\n",
       " 'kv_swap2005': '\"swap2005\"=>\"true\"',\n",
       " 'scientificname_tir': 'Manayunkia speciosa'}"
      ]
     },
     "metadata": {},
     "output_type": "display_data"
    },
    {
     "name": "stdout",
     "output_type": "stream",
     "text": [
      "{'affected_rows': 1, 'success': True, 'auth_check': {'session': None, 'auth_level': None, 'success': True}, '_execution_time': 0.065}\n"
     ]
    },
    {
     "data": {
      "text/plain": [
       "{'id': 32983,\n",
       " 'kv_swap2005': '\"swap2005\"=>\"true\"',\n",
       " 'scientificname_tir': 'Plectrophenax hyperboreus'}"
      ]
     },
     "metadata": {},
     "output_type": "display_data"
    },
    {
     "name": "stdout",
     "output_type": "stream",
     "text": [
      "{'affected_rows': 1, 'success': True, 'auth_check': {'session': None, 'auth_level': None, 'success': True}, '_execution_time': 0.065}\n"
     ]
    },
    {
     "data": {
      "text/plain": [
       "{'id': 29037,\n",
       " 'kv_swap2005': '\"swap2005\"=>\"false\"',\n",
       " 'scientificname_tir': 'Lethenteron appendix'}"
      ]
     },
     "metadata": {},
     "output_type": "display_data"
    },
    {
     "name": "stdout",
     "output_type": "stream",
     "text": [
      "{'affected_rows': 1, 'success': True, 'auth_check': {'session': None, 'auth_level': None, 'success': True}, '_execution_time': 0.065}\n"
     ]
    },
    {
     "data": {
      "text/plain": [
       "{'id': 29634,\n",
       " 'kv_swap2005': '\"swap2005\"=>\"true\"',\n",
       " 'scientificname_tir': 'Macrobrachium grandimanus'}"
      ]
     },
     "metadata": {},
     "output_type": "display_data"
    },
    {
     "name": "stdout",
     "output_type": "stream",
     "text": [
      "{'affected_rows': 1, 'success': True, 'auth_check': {'session': None, 'auth_level': None, 'success': True}, '_execution_time': 0.065}\n"
     ]
    },
    {
     "data": {
      "text/plain": [
       "{'id': 32169,\n",
       " 'kv_swap2005': '\"swap2005\"=>\"true\"',\n",
       " 'scientificname_tir': 'Pelecanus occidentalis'}"
      ]
     },
     "metadata": {},
     "output_type": "display_data"
    },
    {
     "name": "stdout",
     "output_type": "stream",
     "text": [
      "{'affected_rows': 1, 'success': True, 'auth_check': {'session': None, 'auth_level': None, 'success': True}, '_execution_time': 0.066}\n"
     ]
    },
    {
     "data": {
      "text/plain": [
       "{'id': 26103,\n",
       " 'kv_swap2005': '\"swap2005\"=>\"true\"',\n",
       " 'scientificname_tir': 'Erynnis baptisiae'}"
      ]
     },
     "metadata": {},
     "output_type": "display_data"
    },
    {
     "name": "stdout",
     "output_type": "stream",
     "text": [
      "{'affected_rows': 1, 'success': True, 'auth_check': {'session': None, 'auth_level': None, 'success': True}, '_execution_time': 0.098}\n"
     ]
    },
    {
     "data": {
      "text/plain": [
       "{'id': 32577,\n",
       " 'kv_swap2005': '\"swap2005\"=>\"true\"',\n",
       " 'scientificname_tir': 'Phoxinus cumberlandensis'}"
      ]
     },
     "metadata": {},
     "output_type": "display_data"
    },
    {
     "name": "stdout",
     "output_type": "stream",
     "text": [
      "{'affected_rows': 1, 'success': True, 'auth_check': {'session': None, 'auth_level': None, 'success': True}, '_execution_time': 0.071}\n"
     ]
    },
    {
     "data": {
      "text/plain": [
       "{'id': 34665,\n",
       " 'kv_swap2005': '\"swap2005\"=>\"false\"',\n",
       " 'scientificname_tir': 'Rudbeckia scabrifolia'}"
      ]
     },
     "metadata": {},
     "output_type": "display_data"
    },
    {
     "name": "stdout",
     "output_type": "stream",
     "text": [
      "{'affected_rows': 1, 'success': True, 'auth_check': {'session': None, 'auth_level': None, 'success': True}, '_execution_time': 0.109}\n"
     ]
    },
    {
     "data": {
      "text/plain": [
       "{'id': 30795,\n",
       " 'kv_swap2005': '\"swap2005\"=>\"true\"',\n",
       " 'scientificname_tir': 'Nesovitrea binneyana'}"
      ]
     },
     "metadata": {},
     "output_type": "display_data"
    },
    {
     "name": "stdout",
     "output_type": "stream",
     "text": [
      "{'affected_rows': 1, 'success': True, 'auth_check': {'session': None, 'auth_level': None, 'success': True}, '_execution_time': 0.064}\n"
     ]
    },
    {
     "data": {
      "text/plain": [
       "{'id': 29809,\n",
       " 'kv_swap2005': '\"swap2005\"=>\"true\"',\n",
       " 'scientificname_tir': 'Matus bicarinatus'}"
      ]
     },
     "metadata": {},
     "output_type": "display_data"
    },
    {
     "name": "stdout",
     "output_type": "stream",
     "text": [
      "{'affected_rows': 1, 'success': True, 'auth_check': {'session': None, 'auth_level': None, 'success': True}, '_execution_time': 0.065}\n"
     ]
    },
    {
     "data": {
      "text/plain": [
       "{'id': 29810,\n",
       " 'kv_swap2005': '\"swap2005\"=>\"true\"',\n",
       " 'scientificname_tir': 'Matus ovatus'}"
      ]
     },
     "metadata": {},
     "output_type": "display_data"
    },
    {
     "name": "stdout",
     "output_type": "stream",
     "text": [
      "{'affected_rows': 1, 'success': True, 'auth_check': {'session': None, 'auth_level': None, 'success': True}, '_execution_time': 0.065}\n"
     ]
    },
    {
     "data": {
      "text/plain": [
       "{'id': 37167,\n",
       " 'kv_swap2005': '\"swap2005\"=>\"true\"',\n",
       " 'scientificname_tir': 'Tyrannus caudifasciatus'}"
      ]
     },
     "metadata": {},
     "output_type": "display_data"
    },
    {
     "name": "stdout",
     "output_type": "stream",
     "text": [
      "{'affected_rows': 1, 'success': True, 'auth_check': {'session': None, 'auth_level': None, 'success': True}, '_execution_time': 0.064}\n"
     ]
    },
    {
     "data": {
      "text/plain": [
       "{'id': 29852,\n",
       " 'kv_swap2005': '\"swap2005\"=>\"true\"',\n",
       " 'scientificname_tir': 'Megapallifera ragsdalei'}"
      ]
     },
     "metadata": {},
     "output_type": "display_data"
    },
    {
     "name": "stdout",
     "output_type": "stream",
     "text": [
      "{'affected_rows': 1, 'success': True, 'auth_check': {'session': None, 'auth_level': None, 'success': True}, '_execution_time': 0.066}\n"
     ]
    },
    {
     "data": {
      "text/plain": [
       "{'id': 29986,\n",
       " 'kv_swap2005': '\"swap2005\"=>\"true\"',\n",
       " 'scientificname_tir': 'Melissodes intorta'}"
      ]
     },
     "metadata": {},
     "output_type": "display_data"
    },
    {
     "name": "stdout",
     "output_type": "stream",
     "text": [
      "{'affected_rows': 1, 'success': True, 'auth_check': {'session': None, 'auth_level': None, 'success': True}, '_execution_time': 0.087}\n"
     ]
    },
    {
     "data": {
      "text/plain": [
       "{'id': 30030,\n",
       " 'kv_swap2005': '\"swap2005\"=>\"true\"',\n",
       " 'scientificname_tir': 'Mephitis mephitis'}"
      ]
     },
     "metadata": {},
     "output_type": "display_data"
    },
    {
     "name": "stdout",
     "output_type": "stream",
     "text": [
      "{'affected_rows': 1, 'success': True, 'auth_check': {'session': None, 'auth_level': None, 'success': True}, '_execution_time': 0.093}\n"
     ]
    },
    {
     "data": {
      "text/plain": [
       "{'id': 30016,\n",
       " 'kv_swap2005': '\"swap2005\"=>\"true\"',\n",
       " 'scientificname_tir': 'Menippe mercenaria'}"
      ]
     },
     "metadata": {},
     "output_type": "display_data"
    },
    {
     "name": "stdout",
     "output_type": "stream",
     "text": [
      "{'affected_rows': 1, 'success': True, 'auth_check': {'session': None, 'auth_level': None, 'success': True}, '_execution_time': 0.066}\n"
     ]
    },
    {
     "data": {
      "text/plain": [
       "{'id': 23566,\n",
       " 'kv_swap2005': '\"swap2005\"=>\"true\"',\n",
       " 'scientificname_tir': 'Charadrius alexandrinus'}"
      ]
     },
     "metadata": {},
     "output_type": "display_data"
    },
    {
     "name": "stdout",
     "output_type": "stream",
     "text": [
      "{'affected_rows': 1, 'success': True, 'auth_check': {'session': None, 'auth_level': None, 'success': True}, '_execution_time': 0.065}\n"
     ]
    },
    {
     "data": {
      "text/plain": [
       "{'id': 23246,\n",
       " 'kv_swap2005': '\"swap2005\"=>\"false\"',\n",
       " 'scientificname_tir': 'Catinella pugilator'}"
      ]
     },
     "metadata": {},
     "output_type": "display_data"
    },
    {
     "name": "stdout",
     "output_type": "stream",
     "text": [
      "{'affected_rows': 1, 'success': True, 'auth_check': {'session': None, 'auth_level': None, 'success': True}, '_execution_time': 0.09}\n"
     ]
    },
    {
     "data": {
      "text/plain": [
       "{'id': 26950,\n",
       " 'kv_swap2005': '\"swap2005\"=>\"true\"',\n",
       " 'scientificname_tir': 'Gastrocopta corticaria'}"
      ]
     },
     "metadata": {},
     "output_type": "display_data"
    },
    {
     "name": "stdout",
     "output_type": "stream",
     "text": [
      "{'affected_rows': 1, 'success': True, 'auth_check': {'session': None, 'auth_level': None, 'success': True}, '_execution_time': 0.098}\n"
     ]
    },
    {
     "data": {
      "text/plain": [
       "{'id': 36633,\n",
       " 'kv_swap2005': '\"swap2005\"=>\"false\"',\n",
       " 'scientificname_tir': 'Thalasseus maximus'}"
      ]
     },
     "metadata": {},
     "output_type": "display_data"
    },
    {
     "name": "stdout",
     "output_type": "stream",
     "text": [
      "{'affected_rows': 1, 'success': True, 'auth_check': {'session': None, 'auth_level': None, 'success': True}, '_execution_time': 0.108}\n"
     ]
    },
    {
     "data": {
      "text/plain": [
       "{'id': 21670,\n",
       " 'kv_swap2005': '\"swap2005\"=>\"true\"',\n",
       " 'scientificname_tir': 'Ashmunella mearnsii'}"
      ]
     },
     "metadata": {},
     "output_type": "display_data"
    },
    {
     "name": "stdout",
     "output_type": "stream",
     "text": [
      "{'affected_rows': 1, 'success': True, 'auth_check': {'session': None, 'auth_level': None, 'success': True}, '_execution_time': 0.066}\n"
     ]
    },
    {
     "data": {
      "text/plain": [
       "{'id': 22037,\n",
       " 'kv_swap2005': '\"swap2005\"=>\"true\"',\n",
       " 'scientificname_tir': 'Batrisodes barri'}"
      ]
     },
     "metadata": {},
     "output_type": "display_data"
    },
    {
     "name": "stdout",
     "output_type": "stream",
     "text": [
      "{'affected_rows': 1, 'success': True, 'auth_check': {'session': None, 'auth_level': None, 'success': True}, '_execution_time': 0.067}\n"
     ]
    },
    {
     "data": {
      "text/plain": [
       "{'id': 21664,\n",
       " 'kv_swap2005': '\"swap2005\"=>\"false\"',\n",
       " 'scientificname_tir': 'Ashmunella edithae'}"
      ]
     },
     "metadata": {},
     "output_type": "display_data"
    },
    {
     "name": "stdout",
     "output_type": "stream",
     "text": [
      "{'affected_rows': 1, 'success': True, 'auth_check': {'session': None, 'auth_level': None, 'success': True}, '_execution_time': 0.065}\n"
     ]
    },
    {
     "data": {
      "text/plain": [
       "{'id': 27162,\n",
       " 'kv_swap2005': '\"swap2005\"=>\"true\"',\n",
       " 'scientificname_tir': 'Glyphyalinia sculptilis'}"
      ]
     },
     "metadata": {},
     "output_type": "display_data"
    },
    {
     "name": "stdout",
     "output_type": "stream",
     "text": [
      "{'affected_rows': 1, 'success': True, 'auth_check': {'session': None, 'auth_level': None, 'success': True}, '_execution_time': 0.096}\n"
     ]
    },
    {
     "data": {
      "text/plain": [
       "{'id': 23579,\n",
       " 'kv_swap2005': '\"swap2005\"=>\"true\"',\n",
       " 'scientificname_tir': 'Charadrius semipalmatus'}"
      ]
     },
     "metadata": {},
     "output_type": "display_data"
    },
    {
     "name": "stdout",
     "output_type": "stream",
     "text": [
      "{'affected_rows': 1, 'success': True, 'auth_check': {'session': None, 'auth_level': None, 'success': True}, '_execution_time': 0.16}\n"
     ]
    },
    {
     "data": {
      "text/plain": [
       "{'id': 21925,\n",
       " 'kv_swap2005': '\"swap2005\"=>\"true\"',\n",
       " 'scientificname_tir': 'Baetisca rubescens'}"
      ]
     },
     "metadata": {},
     "output_type": "display_data"
    },
    {
     "name": "stdout",
     "output_type": "stream",
     "text": [
      "{'affected_rows': 1, 'success': True, 'auth_check': {'session': None, 'auth_level': None, 'success': True}, '_execution_time': 0.065}\n"
     ]
    },
    {
     "data": {
      "text/plain": [
       "{'id': 34258,\n",
       " 'kv_swap2005': '\"swap2005\"=>\"true\"',\n",
       " 'scientificname_tir': 'Quadrula rumphiana'}"
      ]
     },
     "metadata": {},
     "output_type": "display_data"
    },
    {
     "name": "stdout",
     "output_type": "stream",
     "text": [
      "{'affected_rows': 1, 'success': True, 'auth_check': {'session': None, 'auth_level': None, 'success': True}, '_execution_time': 0.065}\n"
     ]
    },
    {
     "data": {
      "text/plain": [
       "{'id': 30079,\n",
       " 'kv_swap2005': '\"swap2005\"=>\"true\"',\n",
       " 'scientificname_tir': 'Metabetaeus lohena'}"
      ]
     },
     "metadata": {},
     "output_type": "display_data"
    },
    {
     "name": "stdout",
     "output_type": "stream",
     "text": [
      "{'affected_rows': 1, 'success': True, 'auth_check': {'session': None, 'auth_level': None, 'success': True}, '_execution_time': 0.065}\n"
     ]
    },
    {
     "data": {
      "text/plain": [
       "{'id': 26786,\n",
       " 'kv_swap2005': '\"swap2005\"=>\"true\"',\n",
       " 'scientificname_tir': 'Fregata magnificens'}"
      ]
     },
     "metadata": {},
     "output_type": "display_data"
    },
    {
     "name": "stdout",
     "output_type": "stream",
     "text": [
      "{'affected_rows': 1, 'success': True, 'auth_check': {'session': None, 'auth_level': None, 'success': True}, '_execution_time': 0.065}\n"
     ]
    },
    {
     "data": {
      "text/plain": [
       "{'id': 30075,\n",
       " 'kv_swap2005': '\"swap2005\"=>\"true\"',\n",
       " 'scientificname_tir': 'Mesoplodon densirostris'}"
      ]
     },
     "metadata": {},
     "output_type": "display_data"
    },
    {
     "name": "stdout",
     "output_type": "stream",
     "text": [
      "{'affected_rows': 1, 'success': True, 'auth_check': {'session': None, 'auth_level': None, 'success': True}, '_execution_time': 0.066}\n"
     ]
    },
    {
     "data": {
      "text/plain": [
       "{'id': 26416,\n",
       " 'kv_swap2005': '\"swap2005\"=>\"false\"',\n",
       " 'scientificname_tir': 'Eupatorium recurvans'}"
      ]
     },
     "metadata": {},
     "output_type": "display_data"
    },
    {
     "name": "stdout",
     "output_type": "stream",
     "text": [
      "{'affected_rows': 1, 'success': True, 'auth_check': {'session': None, 'auth_level': None, 'success': True}, '_execution_time': 0.108}\n"
     ]
    },
    {
     "data": {
      "text/plain": [
       "{'id': 30386,\n",
       " 'kv_swap2005': '\"swap2005\"=>\"true\"',\n",
       " 'scientificname_tir': 'Mugil gyrans'}"
      ]
     },
     "metadata": {},
     "output_type": "display_data"
    },
    {
     "name": "stdout",
     "output_type": "stream",
     "text": [
      "{'affected_rows': 1, 'success': True, 'auth_check': {'session': None, 'auth_level': None, 'success': True}, '_execution_time': 0.067}\n"
     ]
    },
    {
     "data": {
      "text/plain": [
       "{'id': 30099,\n",
       " 'kv_swap2005': '\"swap2005\"=>\"true\"',\n",
       " 'scientificname_tir': 'Metoporhaphis calcarata'}"
      ]
     },
     "metadata": {},
     "output_type": "display_data"
    },
    {
     "name": "stdout",
     "output_type": "stream",
     "text": [
      "{'affected_rows': 1, 'success': True, 'auth_check': {'session': None, 'auth_level': None, 'success': True}, '_execution_time': 0.075}\n"
     ]
    },
    {
     "data": {
      "text/plain": [
       "{'id': 21011,\n",
       " 'kv_swap2005': '\"swap2005\"=>\"false\"',\n",
       " 'scientificname_tir': 'Ammodramus savannarum pratensis'}"
      ]
     },
     "metadata": {},
     "output_type": "display_data"
    },
    {
     "name": "stdout",
     "output_type": "stream",
     "text": [
      "{'affected_rows': 1, 'success': True, 'auth_check': {'session': None, 'auth_level': None, 'success': True}, '_execution_time': 0.107}\n"
     ]
    },
    {
     "data": {
      "text/plain": [
       "{'id': 30107,\n",
       " 'kv_swap2005': '\"swap2005\"=>\"false\"',\n",
       " 'scientificname_tir': 'Mexistenasellus coahuila'}"
      ]
     },
     "metadata": {},
     "output_type": "display_data"
    },
    {
     "name": "stdout",
     "output_type": "stream",
     "text": [
      "{'affected_rows': 1, 'success': True, 'auth_check': {'session': None, 'auth_level': None, 'success': True}, '_execution_time': 0.083}\n"
     ]
    },
    {
     "data": {
      "text/plain": [
       "{'id': 32593,\n",
       " 'kv_swap2005': '\"swap2005\"=>\"false\"',\n",
       " 'scientificname_tir': 'Phreatodrobia plana'}"
      ]
     },
     "metadata": {},
     "output_type": "display_data"
    },
    {
     "name": "stdout",
     "output_type": "stream",
     "text": [
      "{'affected_rows': 1, 'success': True, 'auth_check': {'session': None, 'auth_level': None, 'success': True}, '_execution_time': 0.064}\n"
     ]
    },
    {
     "data": {
      "text/plain": [
       "{'id': 31574,\n",
       " 'kv_swap2005': '\"swap2005\"=>\"false\"',\n",
       " 'scientificname_tir': 'Oreohelix n. spp.  1'}"
      ]
     },
     "metadata": {},
     "output_type": "display_data"
    },
    {
     "name": "stdout",
     "output_type": "stream",
     "text": [
      "{'affected_rows': 1, 'success': True, 'auth_check': {'session': None, 'auth_level': None, 'success': True}, '_execution_time': 0.065}\n"
     ]
    },
    {
     "data": {
      "text/plain": [
       "{'id': 30141,\n",
       " 'kv_swap2005': '\"swap2005\"=>\"true\"',\n",
       " 'scientificname_tir': 'Microhexura montivaga'}"
      ]
     },
     "metadata": {},
     "output_type": "display_data"
    },
    {
     "name": "stdout",
     "output_type": "stream",
     "text": [
      "{'affected_rows': 1, 'success': True, 'auth_check': {'session': None, 'auth_level': None, 'success': True}, '_execution_time': 0.065}\n"
     ]
    },
    {
     "data": {
      "text/plain": [
       "{'id': 22563,\n",
       " 'kv_swap2005': '\"swap2005\"=>\"false\"',\n",
       " 'scientificname_tir': 'Caenidae'}"
      ]
     },
     "metadata": {},
     "output_type": "display_data"
    },
    {
     "name": "stdout",
     "output_type": "stream",
     "text": [
      "{'affected_rows': 1, 'success': True, 'auth_check': {'session': None, 'auth_level': None, 'success': True}, '_execution_time': 0.066}\n"
     ]
    },
    {
     "data": {
      "text/plain": [
       "{'id': 30220,\n",
       " 'kv_swap2005': '\"swap2005\"=>\"false\"',\n",
       " 'scientificname_tir': 'Micruroides euryxanthus'}"
      ]
     },
     "metadata": {},
     "output_type": "display_data"
    },
    {
     "name": "stdout",
     "output_type": "stream",
     "text": [
      "{'affected_rows': 1, 'success': True, 'auth_check': {'session': None, 'auth_level': None, 'success': True}, '_execution_time': 0.136}\n"
     ]
    },
    {
     "data": {
      "text/plain": [
       "{'id': 30160,\n",
       " 'kv_swap2005': '\"swap2005\"=>\"true\"',\n",
       " 'scientificname_tir': 'Micropterus salmoides'}"
      ]
     },
     "metadata": {},
     "output_type": "display_data"
    },
    {
     "name": "stdout",
     "output_type": "stream",
     "text": [
      "{'affected_rows': 1, 'success': True, 'auth_check': {'session': None, 'auth_level': None, 'success': True}, '_execution_time': 0.101}\n"
     ]
    },
    {
     "data": {
      "text/plain": [
       "{'id': 30156,\n",
       " 'kv_swap2005': '\"swap2005\"=>\"true\"',\n",
       " 'scientificname_tir': 'Micropterus coosae'}"
      ]
     },
     "metadata": {},
     "output_type": "display_data"
    },
    {
     "name": "stdout",
     "output_type": "stream",
     "text": [
      "{'affected_rows': 1, 'success': True, 'auth_check': {'session': None, 'auth_level': None, 'success': True}, '_execution_time': 0.065}\n"
     ]
    },
    {
     "data": {
      "text/plain": [
       "{'id': 30257,\n",
       " 'kv_swap2005': '\"swap2005\"=>\"true\"',\n",
       " 'scientificname_tir': 'Mirounga angustirostris'}"
      ]
     },
     "metadata": {},
     "output_type": "display_data"
    },
    {
     "name": "stdout",
     "output_type": "stream",
     "text": [
      "{'affected_rows': 1, 'success': True, 'auth_check': {'session': None, 'auth_level': None, 'success': True}, '_execution_time': 0.069}\n"
     ]
    },
    {
     "data": {
      "text/plain": [
       "{'id': 30244,\n",
       " 'kv_swap2005': '\"swap2005\"=>\"false\"',\n",
       " 'scientificname_tir': 'Minuartia godfreyi'}"
      ]
     },
     "metadata": {},
     "output_type": "display_data"
    },
    {
     "name": "stdout",
     "output_type": "stream",
     "text": [
      "{'affected_rows': 1, 'success': True, 'auth_check': {'session': None, 'auth_level': None, 'success': True}, '_execution_time': 0.064}\n"
     ]
    },
    {
     "data": {
      "text/plain": [
       "{'id': 24173,\n",
       " 'kv_swap2005': '\"swap2005\"=>\"true\"',\n",
       " 'scientificname_tir': 'Coereba flaveola'}"
      ]
     },
     "metadata": {},
     "output_type": "display_data"
    },
    {
     "name": "stdout",
     "output_type": "stream",
     "text": [
      "{'affected_rows': 1, 'success': True, 'auth_check': {'session': None, 'auth_level': None, 'success': True}, '_execution_time': 0.088}\n"
     ]
    },
    {
     "data": {
      "text/plain": [
       "{'id': 37032,\n",
       " 'kv_swap2005': '\"swap2005\"=>\"false\"',\n",
       " 'scientificname_tir': 'Triodopsis juxtidens'}"
      ]
     },
     "metadata": {},
     "output_type": "display_data"
    },
    {
     "name": "stdout",
     "output_type": "stream",
     "text": [
      "{'affected_rows': 1, 'success': True, 'auth_check': {'session': None, 'auth_level': None, 'success': True}, '_execution_time': 0.105}\n"
     ]
    },
    {
     "data": {
      "text/plain": [
       "{'id': 30225,\n",
       " 'kv_swap2005': '\"swap2005\"=>\"true\"',\n",
       " 'scientificname_tir': 'Miktoniscus barri'}"
      ]
     },
     "metadata": {},
     "output_type": "display_data"
    },
    {
     "name": "stdout",
     "output_type": "stream",
     "text": [
      "{'affected_rows': 1, 'success': True, 'auth_check': {'session': None, 'auth_level': None, 'success': True}, '_execution_time': 0.079}\n"
     ]
    },
    {
     "data": {
      "text/plain": [
       "{'id': 24178,\n",
       " 'kv_swap2005': '\"swap2005\"=>\"true\"',\n",
       " 'scientificname_tir': 'Colaptes chrysoides'}"
      ]
     },
     "metadata": {},
     "output_type": "display_data"
    },
    {
     "name": "stdout",
     "output_type": "stream",
     "text": [
      "{'affected_rows': 1, 'success': True, 'auth_check': {'session': None, 'auth_level': None, 'success': True}, '_execution_time': 0.065}\n"
     ]
    },
    {
     "data": {
      "text/plain": [
       "{'id': 30222,\n",
       " 'kv_swap2005': '\"swap2005\"=>\"false\"',\n",
       " 'scientificname_tir': 'Micrurus tener'}"
      ]
     },
     "metadata": {},
     "output_type": "display_data"
    },
    {
     "name": "stdout",
     "output_type": "stream",
     "text": [
      "{'affected_rows': 1, 'success': True, 'auth_check': {'session': None, 'auth_level': None, 'success': True}, '_execution_time': 0.064}\n"
     ]
    },
    {
     "data": {
      "text/plain": [
       "{'id': 37515,\n",
       " 'kv_swap2005': '\"swap2005\"=>\"true\"',\n",
       " 'scientificname_tir': 'Webbhelix multilineata'}"
      ]
     },
     "metadata": {},
     "output_type": "display_data"
    },
    {
     "name": "stdout",
     "output_type": "stream",
     "text": [
      "{'affected_rows': 1, 'success': True, 'auth_check': {'session': None, 'auth_level': None, 'success': True}, '_execution_time': 0.066}\n"
     ]
    },
    {
     "data": {
      "text/plain": [
       "{'id': 30252,\n",
       " 'kv_swap2005': '\"swap2005\"=>\"true\"',\n",
       " 'scientificname_tir': 'Minytrema melanops'}"
      ]
     },
     "metadata": {},
     "output_type": "display_data"
    },
    {
     "name": "stdout",
     "output_type": "stream",
     "text": [
      "{'affected_rows': 1, 'success': True, 'auth_check': {'session': None, 'auth_level': None, 'success': True}, '_execution_time': 0.066}\n"
     ]
    },
    {
     "data": {
      "text/plain": [
       "{'id': 30226,\n",
       " 'kv_swap2005': '\"swap2005\"=>\"true\"',\n",
       " 'scientificname_tir': 'Miktoniscus racovitzai'}"
      ]
     },
     "metadata": {},
     "output_type": "display_data"
    },
    {
     "name": "stdout",
     "output_type": "stream",
     "text": [
      "{'affected_rows': 1, 'success': True, 'auth_check': {'session': None, 'auth_level': None, 'success': True}, '_execution_time': 0.109}\n"
     ]
    },
    {
     "data": {
      "text/plain": [
       "{'id': 30463,\n",
       " 'kv_swap2005': '\"swap2005\"=>\"true\"',\n",
       " 'scientificname_tir': 'Myctophidae'}"
      ]
     },
     "metadata": {},
     "output_type": "display_data"
    },
    {
     "name": "stdout",
     "output_type": "stream",
     "text": [
      "{'affected_rows': 1, 'success': True, 'auth_check': {'session': None, 'auth_level': None, 'success': True}, '_execution_time': 0.065}\n"
     ]
    },
    {
     "data": {
      "text/plain": [
       "{'id': 30295,\n",
       " 'kv_swap2005': '\"swap2005\"=>\"true\"',\n",
       " 'scientificname_tir': 'Monadenia callipeplus'}"
      ]
     },
     "metadata": {},
     "output_type": "display_data"
    },
    {
     "name": "stdout",
     "output_type": "stream",
     "text": [
      "{'affected_rows': 1, 'success': True, 'auth_check': {'session': None, 'auth_level': None, 'success': True}, '_execution_time': 0.064}\n"
     ]
    },
    {
     "data": {
      "text/plain": [
       "{'id': 34739,\n",
       " 'kv_swap2005': '\"swap2005\"=>\"true\"',\n",
       " 'scientificname_tir': 'Salvelinus aureolus'}"
      ]
     },
     "metadata": {},
     "output_type": "display_data"
    },
    {
     "name": "stdout",
     "output_type": "stream",
     "text": [
      "{'affected_rows': 1, 'success': True, 'auth_check': {'session': None, 'auth_level': None, 'success': True}, '_execution_time': 0.066}\n"
     ]
    },
    {
     "data": {
      "text/plain": [
       "{'id': 28282,\n",
       " 'kv_swap2005': '\"swap2005\"=>\"true\"',\n",
       " 'scientificname_tir': 'Inflectarius ferrissi'}"
      ]
     },
     "metadata": {},
     "output_type": "display_data"
    },
    {
     "name": "stdout",
     "output_type": "stream",
     "text": [
      "{'affected_rows': 1, 'success': True, 'auth_check': {'session': None, 'auth_level': None, 'success': True}, '_execution_time': 0.09}\n"
     ]
    },
    {
     "data": {
      "text/plain": [
       "{'id': 21296,\n",
       " 'kv_swap2005': '\"swap2005\"=>\"true\"',\n",
       " 'scientificname_tir': 'Antidesma platyphyllum'}"
      ]
     },
     "metadata": {},
     "output_type": "display_data"
    },
    {
     "name": "stdout",
     "output_type": "stream",
     "text": [
      "{'affected_rows': 1, 'success': True, 'auth_check': {'session': None, 'auth_level': None, 'success': True}, '_execution_time': 0.065}\n"
     ]
    },
    {
     "data": {
      "text/plain": [
       "{'id': 21900,\n",
       " 'kv_swap2005': '\"swap2005\"=>\"true\"',\n",
       " 'scientificname_tir': 'Aythya marila'}"
      ]
     },
     "metadata": {},
     "output_type": "display_data"
    },
    {
     "name": "stdout",
     "output_type": "stream",
     "text": [
      "{'affected_rows': 1, 'success': True, 'auth_check': {'session': None, 'auth_level': None, 'success': True}, '_execution_time': 0.124}\n"
     ]
    },
    {
     "data": {
      "text/plain": [
       "{'id': 23637,\n",
       " 'kv_swap2005': '\"swap2005\"=>\"true\"',\n",
       " 'scientificname_tir': 'Cheumatopsyche vannotei'}"
      ]
     },
     "metadata": {},
     "output_type": "display_data"
    },
    {
     "name": "stdout",
     "output_type": "stream",
     "text": [
      "{'affected_rows': 1, 'success': True, 'auth_check': {'session': None, 'auth_level': None, 'success': True}, '_execution_time': 0.083}\n"
     ]
    },
    {
     "data": {
      "text/plain": [
       "{'id': 21401,\n",
       " 'kv_swap2005': '\"swap2005\"=>\"false\"',\n",
       " 'scientificname_tir': 'Aplexa hypnorum'}"
      ]
     },
     "metadata": {},
     "output_type": "display_data"
    },
    {
     "name": "stdout",
     "output_type": "stream",
     "text": [
      "{'affected_rows': 1, 'success': True, 'auth_check': {'session': None, 'auth_level': None, 'success': True}, '_execution_time': 0.102}\n"
     ]
    },
    {
     "data": {
      "text/plain": [
       "{'id': 24904,\n",
       " 'kv_swap2005': '\"swap2005\"=>\"true\"',\n",
       " 'scientificname_tir': 'Cyprogenia stegaria'}"
      ]
     },
     "metadata": {},
     "output_type": "display_data"
    },
    {
     "name": "stdout",
     "output_type": "stream",
     "text": [
      "{'affected_rows': 1, 'success': True, 'auth_check': {'session': None, 'auth_level': None, 'success': True}, '_execution_time': 0.111}\n"
     ]
    },
    {
     "data": {
      "text/plain": [
       "{'id': 32488,\n",
       " 'kv_swap2005': '\"swap2005\"=>\"true\"',\n",
       " 'scientificname_tir': 'Phallocryptis subletti'}"
      ]
     },
     "metadata": {},
     "output_type": "display_data"
    },
    {
     "name": "stdout",
     "output_type": "stream",
     "text": [
      "{'affected_rows': 1, 'success': True, 'auth_check': {'session': None, 'auth_level': None, 'success': True}, '_execution_time': 0.065}\n"
     ]
    },
    {
     "data": {
      "text/plain": [
       "{'id': 24802,\n",
       " 'kv_swap2005': '\"swap2005\"=>\"true\"',\n",
       " 'scientificname_tir': 'Cyperus engelmannii'}"
      ]
     },
     "metadata": {},
     "output_type": "display_data"
    },
    {
     "name": "stdout",
     "output_type": "stream",
     "text": [
      "{'affected_rows': 1, 'success': True, 'auth_check': {'session': None, 'auth_level': None, 'success': True}, '_execution_time': 0.174}\n"
     ]
    },
    {
     "data": {
      "text/plain": [
       "{'id': 20491,\n",
       " 'kv_swap2005': '\"swap2005\"=>\"false\"',\n",
       " 'scientificname_tir': 'Acrididae'}"
      ]
     },
     "metadata": {},
     "output_type": "display_data"
    },
    {
     "name": "stdout",
     "output_type": "stream",
     "text": [
      "{'affected_rows': 1, 'success': True, 'auth_check': {'session': None, 'auth_level': None, 'success': True}, '_execution_time': 0.065}\n"
     ]
    },
    {
     "data": {
      "text/plain": [
       "{'id': 30294,\n",
       " 'kv_swap2005': '\"swap2005\"=>\"true\"',\n",
       " 'scientificname_tir': 'Monachus schauinslandi'}"
      ]
     },
     "metadata": {},
     "output_type": "display_data"
    },
    {
     "name": "stdout",
     "output_type": "stream",
     "text": [
      "{'affected_rows': 1, 'success': True, 'auth_check': {'session': None, 'auth_level': None, 'success': True}, '_execution_time': 0.064}\n"
     ]
    },
    {
     "data": {
      "text/plain": [
       "{'id': 27458,\n",
       " 'kv_swap2005': '\"swap2005\"=>\"true\"',\n",
       " 'scientificname_tir': 'Hamiota australis'}"
      ]
     },
     "metadata": {},
     "output_type": "display_data"
    },
    {
     "name": "stdout",
     "output_type": "stream",
     "text": [
      "{'affected_rows': 1, 'success': True, 'auth_check': {'session': None, 'auth_level': None, 'success': True}, '_execution_time': 0.065}\n"
     ]
    },
    {
     "data": {
      "text/plain": [
       "{'id': 25723,\n",
       " 'kv_swap2005': '\"swap2005\"=>\"true\"',\n",
       " 'scientificname_tir': 'Elliptio fisheriana'}"
      ]
     },
     "metadata": {},
     "output_type": "display_data"
    },
    {
     "name": "stdout",
     "output_type": "stream",
     "text": [
      "{'affected_rows': 1, 'success': True, 'auth_check': {'session': None, 'auth_level': None, 'success': True}, '_execution_time': 0.065}\n"
     ]
    },
    {
     "data": {
      "text/plain": [
       "{'id': 37094,\n",
       " 'kv_swap2005': '\"swap2005\"=>\"true\"',\n",
       " 'scientificname_tir': 'Truncilla truncata'}"
      ]
     },
     "metadata": {},
     "output_type": "display_data"
    },
    {
     "name": "stdout",
     "output_type": "stream",
     "text": [
      "{'affected_rows': 1, 'success': True, 'auth_check': {'session': None, 'auth_level': None, 'success': True}, '_execution_time': 0.065}\n"
     ]
    },
    {
     "data": {
      "text/plain": [
       "{'id': 28792,\n",
       " 'kv_swap2005': '\"swap2005\"=>\"true\"',\n",
       " 'scientificname_tir': 'Lasmigona subviridis'}"
      ]
     },
     "metadata": {},
     "output_type": "display_data"
    },
    {
     "name": "stdout",
     "output_type": "stream",
     "text": [
      "{'affected_rows': 1, 'success': True, 'auth_check': {'session': None, 'auth_level': None, 'success': True}, '_execution_time': 0.066}\n"
     ]
    },
    {
     "data": {
      "text/plain": [
       "{'id': 25323,\n",
       " 'kv_swap2005': '\"swap2005\"=>\"true\"',\n",
       " 'scientificname_tir': 'Discus macclintocki'}"
      ]
     },
     "metadata": {},
     "output_type": "display_data"
    },
    {
     "name": "stdout",
     "output_type": "stream",
     "text": [
      "{'affected_rows': 1, 'success': True, 'auth_check': {'session': None, 'auth_level': None, 'success': True}, '_execution_time': 0.104}\n"
     ]
    },
    {
     "data": {
      "text/plain": [
       "{'id': 22560,\n",
       " 'kv_swap2005': '\"swap2005\"=>\"true\"',\n",
       " 'scientificname_tir': 'Caelorinchus doryssus'}"
      ]
     },
     "metadata": {},
     "output_type": "display_data"
    },
    {
     "name": "stdout",
     "output_type": "stream",
     "text": [
      "{'affected_rows': 1, 'success': True, 'auth_check': {'session': None, 'auth_level': None, 'success': True}, '_execution_time': 0.092}\n"
     ]
    },
    {
     "data": {
      "text/plain": [
       "{'id': 32989,\n",
       " 'kv_swap2005': '\"swap2005\"=>\"true\"',\n",
       " 'scientificname_tir': 'Pleonosporium intricatum'}"
      ]
     },
     "metadata": {},
     "output_type": "display_data"
    },
    {
     "name": "stdout",
     "output_type": "stream",
     "text": [
      "{'affected_rows': 1, 'success': True, 'auth_check': {'session': None, 'auth_level': None, 'success': True}, '_execution_time': 0.065}\n"
     ]
    },
    {
     "data": {
      "text/plain": [
       "{'id': 25471,\n",
       " 'kv_swap2005': '\"swap2005\"=>\"false\"',\n",
       " 'scientificname_tir': 'Dubautia imbricata var. imbricata'}"
      ]
     },
     "metadata": {},
     "output_type": "display_data"
    },
    {
     "name": "stdout",
     "output_type": "stream",
     "text": [
      "{'affected_rows': 1, 'success': True, 'auth_check': {'session': None, 'auth_level': None, 'success': True}, '_execution_time': 0.088}\n"
     ]
    },
    {
     "data": {
      "text/plain": [
       "{'id': 22370,\n",
       " 'kv_swap2005': '\"swap2005\"=>\"true\"',\n",
       " 'scientificname_tir': 'Brennania belkini'}"
      ]
     },
     "metadata": {},
     "output_type": "display_data"
    },
    {
     "name": "stdout",
     "output_type": "stream",
     "text": [
      "{'affected_rows': 1, 'success': True, 'auth_check': {'session': None, 'auth_level': None, 'success': True}, '_execution_time': 0.064}\n"
     ]
    },
    {
     "data": {
      "text/plain": [
       "{'id': 27459,\n",
       " 'kv_swap2005': '\"swap2005\"=>\"true\"',\n",
       " 'scientificname_tir': 'Hamiota perovalis'}"
      ]
     },
     "metadata": {},
     "output_type": "display_data"
    },
    {
     "name": "stdout",
     "output_type": "stream",
     "text": [
      "{'affected_rows': 1, 'success': True, 'auth_check': {'session': None, 'auth_level': None, 'success': True}, '_execution_time': 0.065}\n"
     ]
    },
    {
     "data": {
      "text/plain": [
       "{'id': 22603,\n",
       " 'kv_swap2005': '\"swap2005\"=>\"true\"',\n",
       " 'scientificname_tir': 'Calcinus hazletti'}"
      ]
     },
     "metadata": {},
     "output_type": "display_data"
    },
    {
     "name": "stdout",
     "output_type": "stream",
     "text": [
      "{'affected_rows': 1, 'success': True, 'auth_check': {'session': None, 'auth_level': None, 'success': True}, '_execution_time': 0.068}\n"
     ]
    },
    {
     "data": {
      "text/plain": [
       "{'id': 30577,\n",
       " 'kv_swap2005': '\"swap2005\"=>\"true\"',\n",
       " 'scientificname_tir': 'Nassarius obsoletus'}"
      ]
     },
     "metadata": {},
     "output_type": "display_data"
    },
    {
     "name": "stdout",
     "output_type": "stream",
     "text": [
      "{'affected_rows': 1, 'success': True, 'auth_check': {'session': None, 'auth_level': None, 'success': True}, '_execution_time': 0.067}\n"
     ]
    },
    {
     "data": {
      "text/plain": [
       "{'id': 30553,\n",
       " 'kv_swap2005': '\"swap2005\"=>\"true\"',\n",
       " 'scientificname_tir': 'Nactus pelagicus'}"
      ]
     },
     "metadata": {},
     "output_type": "display_data"
    },
    {
     "name": "stdout",
     "output_type": "stream",
     "text": [
      "{'affected_rows': 1, 'success': True, 'auth_check': {'session': None, 'auth_level': None, 'success': True}, '_execution_time': 0.131}\n"
     ]
    },
    {
     "data": {
      "text/plain": [
       "{'id': 31004,\n",
       " 'kv_swap2005': '\"swap2005\"=>\"true\"',\n",
       " 'scientificname_tir': 'Novisuccinea chittenangoensis'}"
      ]
     },
     "metadata": {},
     "output_type": "display_data"
    },
    {
     "name": "stdout",
     "output_type": "stream",
     "text": [
      "{'affected_rows': 1, 'success': True, 'auth_check': {'session': None, 'auth_level': None, 'success': True}, '_execution_time': 0.107}\n"
     ]
    },
    {
     "data": {
      "text/plain": [
       "{'id': 29334,\n",
       " 'kv_swap2005': '\"swap2005\"=>\"true\"',\n",
       " 'scientificname_tir': 'Littoraria irrorata'}"
      ]
     },
     "metadata": {},
     "output_type": "display_data"
    },
    {
     "name": "stdout",
     "output_type": "stream",
     "text": [
      "{'affected_rows': 1, 'success': True, 'auth_check': {'session': None, 'auth_level': None, 'success': True}, '_execution_time': 0.067}\n"
     ]
    },
    {
     "data": {
      "text/plain": [
       "{'id': 30512,\n",
       " 'kv_swap2005': '\"swap2005\"=>\"true\"',\n",
       " 'scientificname_tir': 'Myoxocephalus thompsonii'}"
      ]
     },
     "metadata": {},
     "output_type": "display_data"
    },
    {
     "name": "stdout",
     "output_type": "stream",
     "text": [
      "{'affected_rows': 1, 'success': True, 'auth_check': {'session': None, 'auth_level': None, 'success': True}, '_execution_time': 0.066}\n"
     ]
    },
    {
     "data": {
      "text/plain": [
       "{'id': 21511,\n",
       " 'kv_swap2005': '\"swap2005\"=>\"true\"',\n",
       " 'scientificname_tir': 'Ardea alba'}"
      ]
     },
     "metadata": {},
     "output_type": "display_data"
    },
    {
     "name": "stdout",
     "output_type": "stream",
     "text": [
      "{'affected_rows': 1, 'success': True, 'auth_check': {'session': None, 'auth_level': None, 'success': True}, '_execution_time': 0.065}\n"
     ]
    },
    {
     "data": {
      "text/plain": [
       "{'id': 36976,\n",
       " 'kv_swap2005': '\"swap2005\"=>\"false\"',\n",
       " 'scientificname_tir': 'Trigonopeltastes floridana'}"
      ]
     },
     "metadata": {},
     "output_type": "display_data"
    },
    {
     "name": "stdout",
     "output_type": "stream",
     "text": [
      "{'affected_rows': 1, 'success': True, 'auth_check': {'session': None, 'auth_level': None, 'success': True}, '_execution_time': 0.066}\n"
     ]
    },
    {
     "data": {
      "text/plain": [
       "{'id': 30573,\n",
       " 'kv_swap2005': '\"swap2005\"=>\"false\"',\n",
       " 'scientificname_tir': 'Narthecium americanum'}"
      ]
     },
     "metadata": {},
     "output_type": "display_data"
    },
    {
     "name": "stdout",
     "output_type": "stream",
     "text": [
      "{'affected_rows': 1, 'success': True, 'auth_check': {'session': None, 'auth_level': None, 'success': True}, '_execution_time': 0.065}\n"
     ]
    },
    {
     "data": {
      "text/plain": [
       "{'id': 24569,\n",
       " 'kv_swap2005': '\"swap2005\"=>\"false\"',\n",
       " 'scientificname_tir': 'Crotalus viridis concolor'}"
      ]
     },
     "metadata": {},
     "output_type": "display_data"
    },
    {
     "name": "stdout",
     "output_type": "stream",
     "text": [
      "{'affected_rows': 1, 'success': True, 'auth_check': {'session': None, 'auth_level': None, 'success': True}, '_execution_time': 0.127}\n"
     ]
    },
    {
     "data": {
      "text/plain": [
       "{'id': 30616,\n",
       " 'kv_swap2005': '\"swap2005\"=>\"true\"',\n",
       " 'scientificname_tir': 'Nehalennia gracilis'}"
      ]
     },
     "metadata": {},
     "output_type": "display_data"
    },
    {
     "name": "stdout",
     "output_type": "stream",
     "text": [
      "{'affected_rows': 1, 'success': True, 'auth_check': {'session': None, 'auth_level': None, 'success': True}, '_execution_time': 0.065}\n"
     ]
    },
    {
     "data": {
      "text/plain": [
       "{'id': 30639,\n",
       " 'kv_swap2005': '\"swap2005\"=>\"true\"',\n",
       " 'scientificname_tir': 'Neoallochernes incertus'}"
      ]
     },
     "metadata": {},
     "output_type": "display_data"
    },
    {
     "name": "stdout",
     "output_type": "stream",
     "text": [
      "{'affected_rows': 1, 'success': True, 'auth_check': {'session': None, 'auth_level': None, 'success': True}, '_execution_time': 0.095}\n"
     ]
    },
    {
     "data": {
      "text/plain": [
       "{'id': 30615,\n",
       " 'kv_swap2005': '\"swap2005\"=>\"true\"',\n",
       " 'scientificname_tir': 'Negaprion brevirostris'}"
      ]
     },
     "metadata": {},
     "output_type": "display_data"
    },
    {
     "name": "stdout",
     "output_type": "stream",
     "text": [
      "{'affected_rows': 1, 'success': True, 'auth_check': {'session': None, 'auth_level': None, 'success': True}, '_execution_time': 0.064}\n"
     ]
    },
    {
     "data": {
      "text/plain": [
       "{'id': 25033,\n",
       " 'kv_swap2005': '\"swap2005\"=>\"true\"',\n",
       " 'scientificname_tir': 'Dendrocygna bicolor'}"
      ]
     },
     "metadata": {},
     "output_type": "display_data"
    },
    {
     "name": "stdout",
     "output_type": "stream",
     "text": [
      "{'affected_rows': 1, 'success': True, 'auth_check': {'session': None, 'auth_level': None, 'success': True}, '_execution_time': 0.105}\n"
     ]
    },
    {
     "data": {
      "text/plain": [
       "{'id': 24466,\n",
       " 'kv_swap2005': '\"swap2005\"=>\"true\"',\n",
       " 'scientificname_tir': 'Crambus watsonellus'}"
      ]
     },
     "metadata": {},
     "output_type": "display_data"
    },
    {
     "name": "stdout",
     "output_type": "stream",
     "text": [
      "{'affected_rows': 1, 'success': True, 'auth_check': {'session': None, 'auth_level': None, 'success': True}, '_execution_time': 0.066}\n"
     ]
    },
    {
     "data": {
      "text/plain": [
       "{'id': 30938,\n",
       " 'kv_swap2005': '\"swap2005\"=>\"true\"',\n",
       " 'scientificname_tir': 'Notropis melanostomus'}"
      ]
     },
     "metadata": {},
     "output_type": "display_data"
    },
    {
     "name": "stdout",
     "output_type": "stream",
     "text": [
      "{'affected_rows': 1, 'success': True, 'auth_check': {'session': None, 'auth_level': None, 'success': True}, '_execution_time': 0.065}\n"
     ]
    },
    {
     "data": {
      "text/plain": [
       "{'id': 35078,\n",
       " 'kv_swap2005': '\"swap2005\"=>\"true\"',\n",
       " 'scientificname_tir': 'Scoterpes ventus'}"
      ]
     },
     "metadata": {},
     "output_type": "display_data"
    },
    {
     "name": "stdout",
     "output_type": "stream",
     "text": [
      "{'affected_rows': 1, 'success': True, 'auth_check': {'session': None, 'auth_level': None, 'success': True}, '_execution_time': 0.118}\n"
     ]
    },
    {
     "data": {
      "text/plain": [
       "{'id': 30658,\n",
       " 'kv_swap2005': '\"swap2005\"=>\"true\"',\n",
       " 'scientificname_tir': 'Neogonodactylus oerstedii'}"
      ]
     },
     "metadata": {},
     "output_type": "display_data"
    },
    {
     "name": "stdout",
     "output_type": "stream",
     "text": [
      "{'affected_rows': 1, 'success': True, 'auth_check': {'session': None, 'auth_level': None, 'success': True}, '_execution_time': 0.066}\n"
     ]
    },
    {
     "data": {
      "text/plain": [
       "{'id': 30442,\n",
       " 'kv_swap2005': '\"swap2005\"=>\"true\"',\n",
       " 'scientificname_tir': 'Myadestes townsendi'}"
      ]
     },
     "metadata": {},
     "output_type": "display_data"
    },
    {
     "name": "stdout",
     "output_type": "stream",
     "text": [
      "{'affected_rows': 1, 'success': True, 'auth_check': {'session': None, 'auth_level': None, 'success': True}, '_execution_time': 0.091}\n"
     ]
    },
    {
     "data": {
      "text/plain": [
       "{'id': 28040,\n",
       " 'kv_swap2005': '\"swap2005\"=>\"false\"',\n",
       " 'scientificname_tir': 'Hydroptila bribriae'}"
      ]
     },
     "metadata": {},
     "output_type": "display_data"
    },
    {
     "name": "stdout",
     "output_type": "stream",
     "text": [
      "{'affected_rows': 1, 'success': True, 'auth_check': {'session': None, 'auth_level': None, 'success': True}, '_execution_time': 0.066}\n"
     ]
    },
    {
     "data": {
      "text/plain": [
       "{'id': 27025,\n",
       " 'kv_swap2005': '\"swap2005\"=>\"true\"',\n",
       " 'scientificname_tir': 'Geomys streckerii'}"
      ]
     },
     "metadata": {},
     "output_type": "display_data"
    },
    {
     "name": "stdout",
     "output_type": "stream",
     "text": [
      "{'affected_rows': 1, 'success': True, 'auth_check': {'session': None, 'auth_level': None, 'success': True}, '_execution_time': 0.116}\n"
     ]
    },
    {
     "data": {
      "text/plain": [
       "{'id': 26229,\n",
       " 'kv_swap2005': '\"swap2005\"=>\"true\"',\n",
       " 'scientificname_tir': 'Etheostoma olivaceum'}"
      ]
     },
     "metadata": {},
     "output_type": "display_data"
    },
    {
     "name": "stdout",
     "output_type": "stream",
     "text": [
      "{'affected_rows': 1, 'success': True, 'auth_check': {'session': None, 'auth_level': None, 'success': True}, '_execution_time': 0.072}\n"
     ]
    },
    {
     "data": {
      "text/plain": [
       "{'id': 35376,\n",
       " 'kv_swap2005': '\"swap2005\"=>\"true\"',\n",
       " 'scientificname_tir': 'Sitta carolinensis aculeata'}"
      ]
     },
     "metadata": {},
     "output_type": "display_data"
    },
    {
     "name": "stdout",
     "output_type": "stream",
     "text": [
      "{'affected_rows': 1, 'success': True, 'auth_check': {'session': None, 'auth_level': None, 'success': True}, '_execution_time': 0.065}\n"
     ]
    },
    {
     "data": {
      "text/plain": [
       "{'id': 23061,\n",
       " 'kv_swap2005': '\"swap2005\"=>\"true\"',\n",
       " 'scientificname_tir': 'Carex cumberlandensis'}"
      ]
     },
     "metadata": {},
     "output_type": "display_data"
    },
    {
     "name": "stdout",
     "output_type": "stream",
     "text": [
      "{'affected_rows': 1, 'success': True, 'auth_check': {'session': None, 'auth_level': None, 'success': True}, '_execution_time': 0.072}\n"
     ]
    },
    {
     "data": {
      "text/plain": [
       "{'id': 31060,\n",
       " 'kv_swap2005': '\"swap2005\"=>\"false\"',\n",
       " 'scientificname_tir': 'Obovaria  subrotunda'}"
      ]
     },
     "metadata": {},
     "output_type": "display_data"
    },
    {
     "name": "stdout",
     "output_type": "stream",
     "text": [
      "{'affected_rows': 1, 'success': True, 'auth_check': {'session': None, 'auth_level': None, 'success': True}, '_execution_time': 0.067}\n"
     ]
    },
    {
     "data": {
      "text/plain": [
       "{'id': 37099,\n",
       " 'kv_swap2005': '\"swap2005\"=>\"true\"',\n",
       " 'scientificname_tir': 'Tryonia cheatumi'}"
      ]
     },
     "metadata": {},
     "output_type": "display_data"
    },
    {
     "name": "stdout",
     "output_type": "stream",
     "text": [
      "{'affected_rows': 1, 'success': True, 'auth_check': {'session': None, 'auth_level': None, 'success': True}, '_execution_time': 0.066}\n"
     ]
    },
    {
     "data": {
      "text/plain": [
       "{'id': 21998,\n",
       " 'kv_swap2005': '\"swap2005\"=>\"true\"',\n",
       " 'scientificname_tir': 'Bartramia longicauda'}"
      ]
     },
     "metadata": {},
     "output_type": "display_data"
    },
    {
     "name": "stdout",
     "output_type": "stream",
     "text": [
      "{'affected_rows': 1, 'success': True, 'auth_check': {'session': None, 'auth_level': None, 'success': True}, '_execution_time': 0.091}\n"
     ]
    },
    {
     "data": {
      "text/plain": [
       "{'id': 26817,\n",
       " 'kv_swap2005': '\"swap2005\"=>\"true\"',\n",
       " 'scientificname_tir': 'Funaria americana'}"
      ]
     },
     "metadata": {},
     "output_type": "display_data"
    },
    {
     "name": "stdout",
     "output_type": "stream",
     "text": [
      "{'affected_rows': 1, 'success': True, 'auth_check': {'session': None, 'auth_level': None, 'success': True}, '_execution_time': 0.12}\n"
     ]
    },
    {
     "data": {
      "text/plain": [
       "{'id': 26733,\n",
       " 'kv_swap2005': '\"swap2005\"=>\"true\"',\n",
       " 'scientificname_tir': 'Fluminicola fuscus'}"
      ]
     },
     "metadata": {},
     "output_type": "display_data"
    },
    {
     "name": "stdout",
     "output_type": "stream",
     "text": [
      "{'affected_rows': 1, 'success': True, 'auth_check': {'session': None, 'auth_level': None, 'success': True}, '_execution_time': 0.066}\n"
     ]
    },
    {
     "data": {
      "text/plain": [
       "{'id': 23777,\n",
       " 'kv_swap2005': '\"swap2005\"=>\"true\"',\n",
       " 'scientificname_tir': 'Cicindela duodecimguttata'}"
      ]
     },
     "metadata": {},
     "output_type": "display_data"
    },
    {
     "name": "stdout",
     "output_type": "stream",
     "text": [
      "{'affected_rows': 1, 'success': True, 'auth_check': {'session': None, 'auth_level': None, 'success': True}, '_execution_time': 0.127}\n"
     ]
    },
    {
     "data": {
      "text/plain": [
       "{'id': 34195,\n",
       " 'kv_swap2005': '\"swap2005\"=>\"true\"',\n",
       " 'scientificname_tir': 'Pyrgulopsis ruinosa'}"
      ]
     },
     "metadata": {},
     "output_type": "display_data"
    },
    {
     "name": "stdout",
     "output_type": "stream",
     "text": [
      "{'affected_rows': 1, 'success': True, 'auth_check': {'session': None, 'auth_level': None, 'success': True}, '_execution_time': 0.071}\n"
     ]
    },
    {
     "data": {
      "text/plain": [
       "{'id': 34189,\n",
       " 'kv_swap2005': '\"swap2005\"=>\"true\"',\n",
       " 'scientificname_tir': 'Pyrgulopsis pilsbryana'}"
      ]
     },
     "metadata": {},
     "output_type": "display_data"
    },
    {
     "name": "stdout",
     "output_type": "stream",
     "text": [
      "{'affected_rows': 1, 'success': True, 'auth_check': {'session': None, 'auth_level': None, 'success': True}, '_execution_time': 0.066}\n"
     ]
    },
    {
     "data": {
      "text/plain": [
       "{'id': 35888,\n",
       " 'kv_swap2005': '\"swap2005\"=>\"true\"',\n",
       " 'scientificname_tir': 'Stagnicola hinkleyi'}"
      ]
     },
     "metadata": {},
     "output_type": "display_data"
    },
    {
     "name": "stdout",
     "output_type": "stream",
     "text": [
      "{'affected_rows': 1, 'success': True, 'auth_check': {'session': None, 'auth_level': None, 'success': True}, '_execution_time': 0.09}\n"
     ]
    },
    {
     "data": {
      "text/plain": [
       "{'id': 33395,\n",
       " 'kv_swap2005': '\"swap2005\"=>\"true\"',\n",
       " 'scientificname_tir': 'Potamilus alatus'}"
      ]
     },
     "metadata": {},
     "output_type": "display_data"
    },
    {
     "name": "stdout",
     "output_type": "stream",
     "text": [
      "{'affected_rows': 1, 'success': True, 'auth_check': {'session': None, 'auth_level': None, 'success': True}, '_execution_time': 0.087}\n"
     ]
    },
    {
     "data": {
      "text/plain": [
       "{'id': 24888,\n",
       " 'kv_swap2005': '\"swap2005\"=>\"true\"',\n",
       " 'scientificname_tir': 'Cyprinodon tularosa'}"
      ]
     },
     "metadata": {},
     "output_type": "display_data"
    },
    {
     "name": "stdout",
     "output_type": "stream",
     "text": [
      "{'affected_rows': 1, 'success': True, 'auth_check': {'session': None, 'auth_level': None, 'success': True}, '_execution_time': 0.128}\n"
     ]
    },
    {
     "data": {
      "text/plain": [
       "{'id': 25053,\n",
       " 'kv_swap2005': '\"swap2005\"=>\"true\"',\n",
       " 'scientificname_tir': 'Dendroica palmarum'}"
      ]
     },
     "metadata": {},
     "output_type": "display_data"
    },
    {
     "name": "stdout",
     "output_type": "stream",
     "text": [
      "{'affected_rows': 1, 'success': True, 'auth_check': {'session': None, 'auth_level': None, 'success': True}, '_execution_time': 0.067}\n"
     ]
    },
    {
     "data": {
      "text/plain": [
       "{'id': 21177,\n",
       " 'kv_swap2005': '\"swap2005\"=>\"true\"',\n",
       " 'scientificname_tir': 'Andrena subapasta'}"
      ]
     },
     "metadata": {},
     "output_type": "display_data"
    },
    {
     "name": "stdout",
     "output_type": "stream",
     "text": [
      "{'affected_rows': 1, 'success': True, 'auth_check': {'session': None, 'auth_level': None, 'success': True}, '_execution_time': 0.065}\n"
     ]
    }
   ],
   "source": [
    "thisRun[\"totalRecordsToProcess\"] = 500\n",
    "thisRun[\"totalRecordsProcessed\"] = 0\n",
    "\n",
    "numberWithoutTIRData = 1\n",
    "\n",
    "while numberWithoutTIRData == 1 and thisRun[\"totalRecordsProcessed\"] <= thisRun[\"totalRecordsToProcess\"]:\n",
    "\n",
    "    q_recordToSearch = \"SELECT id, \\\n",
    "        registration->>'scientificname' AS scientificname \\\n",
    "        FROM tir.tir \\\n",
    "        WHERE NOT exist(sgcn, 'swap2005') \\\n",
    "        LIMIT 1\"\n",
    "    recordToSearch  = requests.get(thisRun[\"baseURL\"]+\"&q=\"+q_recordToSearch).json()\n",
    "\n",
    "    numberWithoutTIRData = len(recordToSearch[\"features\"])\n",
    "    \n",
    "    if numberWithoutTIRData == 1:\n",
    "        tirRecord = recordToSearch[\"features\"][0]\n",
    "    \n",
    "        thisRecord = {}\n",
    "        thisRecord[\"id\"] = tirRecord[\"properties\"][\"id\"]\n",
    "        thisRecord[\"scientificname_tir\"] = tirRecord[\"properties\"][\"scientificname\"]\n",
    "        thisRecord[\"kv_swap2005\"] = '\"swap2005\"=>\"false\"'\n",
    "        \n",
    "        if any(swap2005.scientificname == thisRecord[\"scientificname_tir\"]):\n",
    "            thisRecord[\"kv_swap2005\"] = '\"swap2005\"=>\"true\"'\n",
    "\n",
    "        display (thisRecord)\n",
    "        if thisRun[\"commitToDB\"]:\n",
    "            q_updateSWAP2005 = \"UPDATE tir.tir \\\n",
    "                SET sgcn = sgcn || '\"+thisRecord[\"kv_swap2005\"]+\"' :: hstore \\\n",
    "                WHERE id = \"+str(thisRecord[\"id\"])\n",
    "            print (requests.get(gc2.sqlAPI(\"DataDistillery\",\"BCB\")+\"&q=\"+q_updateSWAP2005).json())\n",
    "            \n",
    "        thisRun[\"totalRecordsProcessed\"] = thisRun[\"totalRecordsProcessed\"] + 1\n"
   ]
  },
  {
   "cell_type": "code",
   "execution_count": null,
   "metadata": {
    "collapsed": true,
    "deletable": true,
    "editable": true
   },
   "outputs": [],
   "source": []
  }
 ],
 "metadata": {
  "kernelspec": {
   "display_name": "Python 3",
   "language": "python",
   "name": "python3"
  },
  "language_info": {
   "codemirror_mode": {
    "name": "ipython",
    "version": 3
   },
   "file_extension": ".py",
   "mimetype": "text/x-python",
   "name": "python",
   "nbconvert_exporter": "python",
   "pygments_lexer": "ipython3",
   "version": "3.5.3"
  }
 },
 "nbformat": 4,
 "nbformat_minor": 0
}
