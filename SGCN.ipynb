{
 "cells": [
  {
   "cell_type": "markdown",
   "metadata": {
    "deletable": true,
    "editable": true
   },
   "source": [
    "This notebook builds out a set of SGCN-specific annotations in the TIR based on configuration files housed on the SGCN source repository item in ScienceBase. It aligns taxonomic groups with a logical set of higher taxonomy names, setting all others to \"other\" if not found in the config file. It then uses a cached list of the original species names identified for the 2005 SWAP exercise to flag taxa that should be included in that list. We use the preferred taxonomic group in the national and state lists for display and filtering, and we use the hard list of 2005 species to flag them to the \"National List\" for consistency when our current process of checking taxonomic authorities (ITIS and WoRMS) does not turn up the names."
   ]
  },
  {
   "cell_type": "code",
   "execution_count": 1,
   "metadata": {
    "collapsed": true,
    "deletable": true,
    "editable": true
   },
   "outputs": [],
   "source": [
    "import requests,json\n",
    "from IPython.display import display\n",
    "from datetime import datetime\n",
    "import pandas as pd\n",
    "from bis import tir\n",
    "from bis2 import gc2\n",
    "from bis import sgcn"
   ]
  },
  {
   "cell_type": "code",
   "execution_count": 2,
   "metadata": {
    "collapsed": false,
    "deletable": true,
    "editable": true
   },
   "outputs": [],
   "source": [
    "# Retrieve information from stored files on the SGCN base repository item\n",
    "sb_sgcnCollectionItem = requests.get(\"https://www.sciencebase.gov/catalog/item/56d720ece4b015c306f442d5?format=json&fields=files\").json()\n",
    "\n",
    "for file in sb_sgcnCollectionItem[\"files\"]:\n",
    "    if file[\"title\"] == \"Configuration:Taxonomic Group Mappings\":\n",
    "        tgMappings = pd.read_table(file[\"url\"], sep=\",\", encoding=\"utf-8\")\n",
    "    elif file[\"title\"] == \"Original 2005 SWAP National List for reference\":\n",
    "        swap2005 = pd.read_table(file[\"url\"])\n",
    "\n",
    "tgDict = {}\n",
    "for index, row in tgMappings.iterrows():\n",
    "    providedName = str(row[\"ProvidedName\"])\n",
    "    preferredName = str(row[\"PreferredName\"])\n",
    "    tgDict[providedName] = preferredName"
   ]
  },
  {
   "cell_type": "code",
   "execution_count": 6,
   "metadata": {
    "collapsed": false,
    "deletable": true,
    "editable": true,
    "scrolled": true
   },
   "outputs": [],
   "source": [
    "# Set up the actions/targets for this particular instance\n",
    "thisRun = {}\n",
    "thisRun[\"instance\"] = \"DataDistillery\"\n",
    "thisRun[\"db\"] = \"BCB\"\n",
    "thisRun[\"baseURL\"] = gc2.sqlAPI(thisRun[\"instance\"],thisRun[\"db\"])\n",
    "thisRun[\"commitToDB\"] = True\n",
    "thisRun[\"totalRecordsToProcess\"] = 500\n",
    "thisRun[\"totalRecordsProcessed\"] = 0\n",
    "\n",
    "numberWithoutTIRData = 1\n",
    "\n",
    "while numberWithoutTIRData == 1 and thisRun[\"totalRecordsProcessed\"] < thisRun[\"totalRecordsToProcess\"]:\n",
    "\n",
    "    q_recordToSearch = \"SELECT id, \\\n",
    "        registration->>'scientificname' AS name_submitted, \\\n",
    "        itis->>'nameWInd' AS name_itis, \\\n",
    "        worms->>'valid_name' AS name_worms \\\n",
    "        FROM tir.tir \\\n",
    "        WHERE registration->>'source' = 'SGCN' \\\n",
    "        AND sgcn IS NULL \\\n",
    "        LIMIT 1\"\n",
    "    recordToSearch  = requests.get(thisRun[\"baseURL\"]+\"&q=\"+q_recordToSearch).json()\n",
    "\n",
    "    numberWithoutTIRData = len(recordToSearch[\"features\"])\n",
    "    \n",
    "    if numberWithoutTIRData == 1:\n",
    "        tirRecord = recordToSearch[\"features\"][0]\n",
    "    \n",
    "        thisRecord = {}\n",
    "        thisRecord[\"id\"] = tirRecord[\"properties\"][\"id\"]\n",
    "        \n",
    "        thisRecord[\"names\"] = [tirRecord[\"properties\"][\"name_submitted\"]]\n",
    "        if tirRecord[\"properties\"][\"name_itis\"] is not None and tirRecord[\"properties\"][\"name_itis\"] not in thisRecord[\"names\"]:\n",
    "            thisRecord[\"names\"].append(tirRecord[\"properties\"][\"name_itis\"])\n",
    "        if tirRecord[\"properties\"][\"name_worms\"] is not None and tirRecord[\"properties\"][\"name_worms\"] not in thisRecord[\"names\"]:\n",
    "            thisRecord[\"names\"].append(tirRecord[\"properties\"][\"name_worms\"])\n",
    "        \n",
    "        thisRecord[\"annotation\"] = {}\n",
    "        thisRecord[\"annotation\"][\"swap2005\"] = False\n",
    "\n",
    "        taxonomicgroup_submitted = sgcn.getSGCNTaxonomicGroup(thisRun[\"baseURL\"],tirRecord[\"properties\"][\"name_submitted\"])\n",
    "        if taxonomicgroup_submitted in tgDict.keys():\n",
    "            thisRecord[\"annotation\"][\"taxonomicgroup\"] = tgDict[taxonomicgroup_submitted]\n",
    "        elif taxonomicgroup_submitted in tgDict.values():\n",
    "            thisRecord[\"annotation\"][\"taxonomicgroup\"] = taxonomicgroup_submitted\n",
    "        else:\n",
    "            thisRecord[\"annotation\"][\"taxonomicgroup\"] = \"Other\"\n",
    "\n",
    "        for name in thisRecord[\"names\"]:\n",
    "            if name in list(swap2005[\"scientificname\"]):\n",
    "                thisRecord[\"annotation\"][\"swap2005\"] = True\n",
    "                break\n",
    "                \n",
    "        thisRecord[\"annotation\"][\"stateLists\"] = sgcn.getSGCNStatesByYear(thisRun[\"baseURL\"],tirRecord[\"properties\"][\"name_submitted\"])\n",
    "        thisRecord[\"annotation\"][\"dateCached\"] = datetime.utcnow().isoformat()\n",
    "        \n",
    "        display (thisRecord)\n",
    "        if thisRun[\"commitToDB\"]:\n",
    "            print (tir.cacheToTIR(thisRun[\"baseURL\"],thisRecord[\"id\"],\"sgcn\",json.dumps(thisRecord[\"annotation\"])))\n",
    "        thisRun[\"totalRecordsProcessed\"] = thisRun[\"totalRecordsProcessed\"] + 1\n"
   ]
  },
  {
   "cell_type": "code",
   "execution_count": null,
   "metadata": {
    "collapsed": true,
    "deletable": true,
    "editable": true
   },
   "outputs": [],
   "source": []
  }
 ],
 "metadata": {
  "kernelspec": {
   "display_name": "Python 3",
   "language": "python",
   "name": "python3"
  },
  "language_info": {
   "codemirror_mode": {
    "name": "ipython",
    "version": 3
   },
   "file_extension": ".py",
   "mimetype": "text/x-python",
   "name": "python",
   "nbconvert_exporter": "python",
   "pygments_lexer": "ipython3",
   "version": "3.5.3"
  }
 },
 "nbformat": 4,
 "nbformat_minor": 0
}
