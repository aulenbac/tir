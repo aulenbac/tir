{
 "cells": [
  {
   "cell_type": "markdown",
   "metadata": {
    "deletable": true,
    "editable": true
   },
   "source": [
    "This notebook works with the Taxonomic Information Registry. It handles registrations where there is an explicit ITIS TSN identified for a taxon."
   ]
  },
  {
   "cell_type": "code",
   "execution_count": 1,
   "metadata": {
    "collapsed": true,
    "deletable": true,
    "editable": true
   },
   "outputs": [],
   "source": [
    "import requests,configparser,re\n",
    "from IPython.display import display"
   ]
  },
  {
   "cell_type": "code",
   "execution_count": 2,
   "metadata": {
    "collapsed": true,
    "deletable": true,
    "editable": true
   },
   "outputs": [],
   "source": [
    "# Get API keys and any other config details from a file that is external to the code.\n",
    "config = configparser.RawConfigParser()\n",
    "config.read_file(open(r'../config/stuff.py'))"
   ]
  },
  {
   "cell_type": "code",
   "execution_count": 3,
   "metadata": {
    "collapsed": true,
    "deletable": true,
    "editable": true
   },
   "outputs": [],
   "source": [
    "# Build base URL with API key using input from the external config.\n",
    "def getBaseURL():\n",
    "    gc2APIKey = config.get('apiKeys','apiKey_GC2_BCB').replace('\"','')\n",
    "    apiBaseURL = \"https://gc2.mapcentia.com/api/v1/sql/bcb?key=\"+gc2APIKey\n",
    "    return apiBaseURL"
   ]
  },
  {
   "cell_type": "markdown",
   "metadata": {
    "deletable": true,
    "editable": true
   },
   "source": [
    "### Package up the specific attributes we want to cache from ITIS\n",
    "This function takes the data coming from the ITIS service as JSON and pairs up the attributes and values we want to cache and use. The date/time stamp here for when the information is cached is vital metadata for determining usability. As soon as the information comes out of ITIS, it is potentially stale. The information we collect and use from ITIS through this process includes the following:\n",
    "* Discovered and accepted TSNs for the taxon\n",
    "* Taxonomic rank of the discovered taxon\n",
    "* Names with and without indicators for the discovered taxon\n",
    "* Taxonomic hierarchy with ranks (in the ITIS Solr service, this is always the accepted taxonomic hierarchy)\n",
    "* Vernacular names for the discovered taxon"
   ]
  },
  {
   "cell_type": "code",
   "execution_count": 4,
   "metadata": {
    "collapsed": true,
    "deletable": true,
    "editable": true
   },
   "outputs": [],
   "source": [
    "def packageITISPairs(matchMethod,itisDoc):\n",
    "    import datetime\n",
    "    dt = datetime.datetime.utcnow().isoformat()\n",
    "    itisPairs = '\"cacheDate\"=>\"'+dt+'\"'\n",
    "    itisPairs = itisPairs+',\"itisMatchMethod\"=>\"'+matchMethod+'\"'\n",
    "\n",
    "    if type(itisDoc) is int:\n",
    "        return itisPairs\n",
    "    else:\n",
    "        itisPairs = itisPairs+',\"createDate\"=>\"'+itisDoc['createDate']+'\"'\n",
    "        itisPairs = itisPairs+',\"updateDate\"=>\"'+itisDoc['updateDate']+'\"'\n",
    "        itisPairs = itisPairs+',\"tsn\"=>\"'+itisDoc['tsn']+'\"'\n",
    "        itisPairs = itisPairs+',\"rank\"=>\"'+itisDoc['rank']+'\"'\n",
    "        itisPairs = itisPairs+',\"nameWInd\"=>\"'+itisDoc['nameWInd']+'\"'\n",
    "        itisPairs = itisPairs+',\"nameWOInd\"=>\"'+itisDoc['nameWOInd']+'\"'\n",
    "        itisPairs = itisPairs+',\"usage\"=>\"'+itisDoc['usage']+'\"'\n",
    "\n",
    "        if 'acceptedTSN' in itisDoc:\n",
    "            itisPairs = itisPairs+',\"acceptedTSN\"=>\"'+itisDoc['acceptedTSN'][0]+'\"'\n",
    "\n",
    "        hierarchy = itisDoc['hierarchySoFarWRanks'][0]\n",
    "        hierarchy = hierarchy[hierarchy.find(':$')+2:-1]\n",
    "        hierarchy = '\"'+hierarchy.replace(':', '\"=>\"').replace('$', '\",\"')+'\"'\n",
    "        itisPairs = itisPairs+','+hierarchy\n",
    "\n",
    "        if \"vernacular\" in itisDoc:\n",
    "            vernacularList = []\n",
    "            for commonName in itisDoc['vernacular']:\n",
    "                commonNameElements = commonName.split('$')\n",
    "                vernacularList.append('\"vernacular:'+commonNameElements[2]+'\"=>\"'+commonNameElements[1]+'\"')\n",
    "            strVernacularList = ''.join(vernacularList).replace(\"\\'\", \"''\").replace('\"\"','\",\"')\n",
    "            itisPairs = itisPairs+','+strVernacularList\n",
    "\n",
    "        return itisPairs"
   ]
  },
  {
   "cell_type": "code",
   "execution_count": 5,
   "metadata": {
    "collapsed": true,
    "deletable": true,
    "editable": true
   },
   "outputs": [],
   "source": [
    "# Basic function to insert subject ID, property, and value into tircache\n",
    "def cacheToTIR(gid,infotype,pairs):\n",
    "    import requests\n",
    "    updateQ = \"UPDATE tir.tir2 SET \"+infotype+\" = '\"+pairs+\"' WHERE gid = \"+str(gid)\n",
    "    r = requests.get(getBaseURL()+\"&q=\"+updateQ).json()\n",
    "    return r"
   ]
  },
  {
   "cell_type": "code",
   "execution_count": 6,
   "metadata": {
    "collapsed": false,
    "deletable": true,
    "editable": true
   },
   "outputs": [],
   "source": [
    "# Query for the registered names we want to run through the system\n",
    "tsns  = requests.get(getBaseURL()+\"&q=SELECT gid,registration->'ITIS_TSN' AS tsn,registration->'GAP_SpeciesCode' AS gapcode FROM tir.tir2 WHERE itis IS NULL LIMIT 25\").json()"
   ]
  },
  {
   "cell_type": "markdown",
   "metadata": {
    "deletable": true,
    "editable": true
   },
   "source": [
    "### Run the process for all supplied TSNs\n",
    "This is the process that should eventually be the substance of a microservice on ITIS info retrieval."
   ]
  },
  {
   "cell_type": "code",
   "execution_count": 7,
   "metadata": {
    "collapsed": false,
    "deletable": true,
    "editable": true
   },
   "outputs": [
    {
     "name": "stdout",
     "output_type": "stream",
     "text": [
      "{'success': True, 'auth_check': {'checked_relations': ['tir.tir2'], 'session': None, 'auth_level': 'Write', 'success': True}, '_execution_time': 0.073, 'affected_rows': 1}\n"
     ]
    },
    {
     "data": {
      "text/plain": [
       "{'GAP_SpeciesCode': 'mGTVOx',\n",
       " 'gid': 19512,\n",
       " 'itisPairs': '\"cacheDate\"=>\"2017-05-22T15:02:20.002985\",\"itisMatchMethod\"=>\"TSNRetrival:180306\",\"createDate\"=>\"1996-06-13 14:51:08\",\"updateDate\"=>\"2015-04-30 00:00:00\",\"tsn\"=>\"180306\",\"rank\"=>\"Species\",\"nameWInd\"=>\"Microtus canicaudus\",\"nameWOInd\"=>\"Microtus canicaudus\",\"usage\"=>\"valid\",\"Kingdom\"=>\"Animalia\",\"Subkingdom\"=>\"Bilateria\",\"Infrakingdom\"=>\"Deuterostomia\",\"Phylum\"=>\"Chordata\",\"Subphylum\"=>\"Vertebrata\",\"Infraphylum\"=>\"Gnathostomata\",\"Superclass\"=>\"Tetrapoda\",\"Class\"=>\"Mammalia\",\"Subclass\"=>\"Theria\",\"Infraclass\"=>\"Eutheria\",\"Order\"=>\"Rodentia\",\"Suborder\"=>\"Myomorpha\",\"Superfamily\"=>\"Muroidea\",\"Family\"=>\"Cricetidae\",\"Subfamily\"=>\"Arvicolinae\",\"Genus\"=>\"Microtus\",\"Subgenus\"=>\"Microtus (Mynomes)\",\"Species\"=>\"Microtus canicaudus\",\"vernacular:English\"=>\"Gray-tailed Vole\"',\n",
       " 'itisSearchURL': 'http://services.itis.gov/?wt=json&q=tsn:180306',\n",
       " 'matchMethod': 'TSNRetrival:180306',\n",
       " 'numResults': 1,\n",
       " 'tsn': '180306'}"
      ]
     },
     "metadata": {},
     "output_type": "display_data"
    }
   ],
   "source": [
    "for feature in tsns[\"features\"]:\n",
    "    # Set up a local data structure for storage and processing\n",
    "    thisRecord = {}\n",
    "    \n",
    "    # Set data from query results\n",
    "    thisRecord[\"gid\"] = feature[\"properties\"][\"gid\"]\n",
    "    thisRecord[\"tsn\"] = feature[\"properties\"][\"tsn\"]\n",
    "    thisRecord[\"GAP_SpeciesCode\"] = feature[\"properties\"][\"gapcode\"]\n",
    "    thisRecord[\"itisSearchURL\"] = \"http://services.itis.gov/?wt=json&q=tsn:\"+str(thisRecord[\"tsn\"])\n",
    "    \n",
    "    if thisRecord[\"GAP_SpeciesCode\"] is not None and thisRecord[\"tsn\"] is not None:\n",
    "        itisSearchResults = requests.get(thisRecord[\"itisSearchURL\"]).json()\n",
    "        thisRecord[\"numResults\"] = len(itisSearchResults[\"response\"][\"docs\"])\n",
    "        \n",
    "        if thisRecord[\"numResults\"] == 1:\n",
    "            thisRecord[\"matchMethod\"] = \"TSNRetrival:\"+str(thisRecord[\"tsn\"])\n",
    "            thisRecord[\"itisPairs\"] = packageITISPairs(thisRecord[\"matchMethod\"],itisSearchResults[\"response\"][\"docs\"][0])\n",
    "            print (cacheToTIR(thisRecord[\"gid\"],\"itis\",thisRecord[\"itisPairs\"].replace(\"'\",\"''\")))\n",
    "        else:\n",
    "            print (\"Something went wrong\")\n",
    "\n",
    "        display (thisRecord)\n"
   ]
  },
  {
   "cell_type": "code",
   "execution_count": null,
   "metadata": {
    "collapsed": true,
    "deletable": true,
    "editable": true
   },
   "outputs": [],
   "source": []
  }
 ],
 "metadata": {
  "kernelspec": {
   "display_name": "Python 3",
   "language": "python",
   "name": "python3"
  },
  "language_info": {
   "codemirror_mode": {
    "name": "ipython",
    "version": 3
   },
   "file_extension": ".py",
   "mimetype": "text/x-python",
   "name": "python",
   "nbconvert_exporter": "python",
   "pygments_lexer": "ipython3",
   "version": "3.5.3"
  }
 },
 "nbformat": 4,
 "nbformat_minor": 0
}
