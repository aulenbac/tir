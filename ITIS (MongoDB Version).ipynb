{
 "cells": [
  {
   "cell_type": "code",
   "execution_count": 1,
   "metadata": {
    "collapsed": true,
    "deletable": true,
    "editable": true
   },
   "outputs": [],
   "source": [
    "import requests\n",
    "from IPython.display import display\n",
    "from bis import itis\n",
    "from bis2 import mlab"
   ]
  },
  {
   "cell_type": "code",
   "execution_count": 2,
   "metadata": {
    "collapsed": true,
    "deletable": true,
    "editable": true
   },
   "outputs": [],
   "source": [
    "bisDB = mlab.getDB(\"bis\")\n",
    "itiscache = bisDB[\"itiscache\"]"
   ]
  },
  {
   "cell_type": "code",
   "execution_count": 5,
   "metadata": {
    "collapsed": false,
    "deletable": true,
    "editable": true,
    "scrolled": true
   },
   "outputs": [
    {
     "data": {
      "text/plain": [
       "{'electionId': ObjectId('7fffffff0000000000000002'),\n",
       " 'n': 1,\n",
       " 'nModified': 1,\n",
       " 'ok': 1.0,\n",
       " 'opTime': {'t': 2, 'ts': Timestamp(1505936591, 1)},\n",
       " 'updatedExisting': True}"
      ]
     },
     "metadata": {},
     "output_type": "display_data"
    },
    {
     "data": {
      "text/plain": [
       "{'electionId': ObjectId('7fffffff0000000000000002'),\n",
       " 'n': 1,\n",
       " 'nModified': 1,\n",
       " 'ok': 1.0,\n",
       " 'opTime': {'t': 2, 'ts': Timestamp(1505936592, 1)},\n",
       " 'updatedExisting': True}"
      ]
     },
     "metadata": {},
     "output_type": "display_data"
    },
    {
     "data": {
      "text/plain": [
       "{'electionId': ObjectId('7fffffff0000000000000002'),\n",
       " 'n': 1,\n",
       " 'nModified': 1,\n",
       " 'ok': 1.0,\n",
       " 'opTime': {'t': 2, 'ts': Timestamp(1505936594, 1)},\n",
       " 'updatedExisting': True}"
      ]
     },
     "metadata": {},
     "output_type": "display_data"
    },
    {
     "data": {
      "text/plain": [
       "{'electionId': ObjectId('7fffffff0000000000000002'),\n",
       " 'n': 1,\n",
       " 'nModified': 1,\n",
       " 'ok': 1.0,\n",
       " 'opTime': {'t': 2, 'ts': Timestamp(1505936595, 1)},\n",
       " 'updatedExisting': True}"
      ]
     },
     "metadata": {},
     "output_type": "display_data"
    },
    {
     "data": {
      "text/plain": [
       "{'electionId': ObjectId('7fffffff0000000000000002'),\n",
       " 'n': 1,\n",
       " 'nModified': 1,\n",
       " 'ok': 1.0,\n",
       " 'opTime': {'t': 2, 'ts': Timestamp(1505936596, 1)},\n",
       " 'updatedExisting': True}"
      ]
     },
     "metadata": {},
     "output_type": "display_data"
    },
    {
     "data": {
      "text/plain": [
       "{'electionId': ObjectId('7fffffff0000000000000002'),\n",
       " 'n': 1,\n",
       " 'nModified': 1,\n",
       " 'ok': 1.0,\n",
       " 'opTime': {'t': 2, 'ts': Timestamp(1505936598, 1)},\n",
       " 'updatedExisting': True}"
      ]
     },
     "metadata": {},
     "output_type": "display_data"
    },
    {
     "data": {
      "text/plain": [
       "{'electionId': ObjectId('7fffffff0000000000000002'),\n",
       " 'n': 1,\n",
       " 'nModified': 1,\n",
       " 'ok': 1.0,\n",
       " 'opTime': {'t': 2, 'ts': Timestamp(1505936599, 1)},\n",
       " 'updatedExisting': True}"
      ]
     },
     "metadata": {},
     "output_type": "display_data"
    },
    {
     "data": {
      "text/plain": [
       "{'electionId': ObjectId('7fffffff0000000000000002'),\n",
       " 'n': 1,\n",
       " 'nModified': 1,\n",
       " 'ok': 1.0,\n",
       " 'opTime': {'t': 2, 'ts': Timestamp(1505936600, 1)},\n",
       " 'updatedExisting': True}"
      ]
     },
     "metadata": {},
     "output_type": "display_data"
    },
    {
     "data": {
      "text/plain": [
       "{'electionId': ObjectId('7fffffff0000000000000002'),\n",
       " 'n': 1,\n",
       " 'nModified': 1,\n",
       " 'ok': 1.0,\n",
       " 'opTime': {'t': 2, 'ts': Timestamp(1505936600, 2)},\n",
       " 'updatedExisting': True}"
      ]
     },
     "metadata": {},
     "output_type": "display_data"
    },
    {
     "data": {
      "text/plain": [
       "{'electionId': ObjectId('7fffffff0000000000000002'),\n",
       " 'n': 1,\n",
       " 'nModified': 1,\n",
       " 'ok': 1.0,\n",
       " 'opTime': {'t': 2, 'ts': Timestamp(1505936601, 1)},\n",
       " 'updatedExisting': True}"
      ]
     },
     "metadata": {},
     "output_type": "display_data"
    },
    {
     "data": {
      "text/plain": [
       "{'electionId': ObjectId('7fffffff0000000000000002'),\n",
       " 'n': 1,\n",
       " 'nModified': 1,\n",
       " 'ok': 1.0,\n",
       " 'opTime': {'t': 2, 'ts': Timestamp(1505936602, 1)},\n",
       " 'updatedExisting': True}"
      ]
     },
     "metadata": {},
     "output_type": "display_data"
    },
    {
     "data": {
      "text/plain": [
       "{'electionId': ObjectId('7fffffff0000000000000002'),\n",
       " 'n': 1,\n",
       " 'nModified': 1,\n",
       " 'ok': 1.0,\n",
       " 'opTime': {'t': 2, 'ts': Timestamp(1505936603, 1)},\n",
       " 'updatedExisting': True}"
      ]
     },
     "metadata": {},
     "output_type": "display_data"
    },
    {
     "data": {
      "text/plain": [
       "{'electionId': ObjectId('7fffffff0000000000000002'),\n",
       " 'n': 1,\n",
       " 'nModified': 1,\n",
       " 'ok': 1.0,\n",
       " 'opTime': {'t': 2, 'ts': Timestamp(1505936604, 2)},\n",
       " 'updatedExisting': True}"
      ]
     },
     "metadata": {},
     "output_type": "display_data"
    },
    {
     "data": {
      "text/plain": [
       "{'electionId': ObjectId('7fffffff0000000000000002'),\n",
       " 'n': 1,\n",
       " 'nModified': 1,\n",
       " 'ok': 1.0,\n",
       " 'opTime': {'t': 2, 'ts': Timestamp(1505936605, 1)},\n",
       " 'updatedExisting': True}"
      ]
     },
     "metadata": {},
     "output_type": "display_data"
    },
    {
     "data": {
      "text/plain": [
       "{'electionId': ObjectId('7fffffff0000000000000002'),\n",
       " 'n': 1,\n",
       " 'nModified': 1,\n",
       " 'ok': 1.0,\n",
       " 'opTime': {'t': 2, 'ts': Timestamp(1505936607, 1)},\n",
       " 'updatedExisting': True}"
      ]
     },
     "metadata": {},
     "output_type": "display_data"
    },
    {
     "data": {
      "text/plain": [
       "{'electionId': ObjectId('7fffffff0000000000000002'),\n",
       " 'n': 1,\n",
       " 'nModified': 1,\n",
       " 'ok': 1.0,\n",
       " 'opTime': {'t': 2, 'ts': Timestamp(1505936608, 1)},\n",
       " 'updatedExisting': True}"
      ]
     },
     "metadata": {},
     "output_type": "display_data"
    },
    {
     "data": {
      "text/plain": [
       "{'electionId': ObjectId('7fffffff0000000000000002'),\n",
       " 'n': 1,\n",
       " 'nModified': 1,\n",
       " 'ok': 1.0,\n",
       " 'opTime': {'t': 2, 'ts': Timestamp(1505936609, 1)},\n",
       " 'updatedExisting': True}"
      ]
     },
     "metadata": {},
     "output_type": "display_data"
    },
    {
     "data": {
      "text/plain": [
       "{'electionId': ObjectId('7fffffff0000000000000002'),\n",
       " 'n': 1,\n",
       " 'nModified': 1,\n",
       " 'ok': 1.0,\n",
       " 'opTime': {'t': 2, 'ts': Timestamp(1505936610, 1)},\n",
       " 'updatedExisting': True}"
      ]
     },
     "metadata": {},
     "output_type": "display_data"
    },
    {
     "data": {
      "text/plain": [
       "{'electionId': ObjectId('7fffffff0000000000000002'),\n",
       " 'n': 1,\n",
       " 'nModified': 1,\n",
       " 'ok': 1.0,\n",
       " 'opTime': {'t': 2, 'ts': Timestamp(1505936611, 1)},\n",
       " 'updatedExisting': True}"
      ]
     },
     "metadata": {},
     "output_type": "display_data"
    },
    {
     "data": {
      "text/plain": [
       "{'electionId': ObjectId('7fffffff0000000000000002'),\n",
       " 'n': 1,\n",
       " 'nModified': 1,\n",
       " 'ok': 1.0,\n",
       " 'opTime': {'t': 2, 'ts': Timestamp(1505936613, 1)},\n",
       " 'updatedExisting': True}"
      ]
     },
     "metadata": {},
     "output_type": "display_data"
    },
    {
     "data": {
      "text/plain": [
       "{'electionId': ObjectId('7fffffff0000000000000002'),\n",
       " 'n': 1,\n",
       " 'nModified': 1,\n",
       " 'ok': 1.0,\n",
       " 'opTime': {'t': 2, 'ts': Timestamp(1505936614, 1)},\n",
       " 'updatedExisting': True}"
      ]
     },
     "metadata": {},
     "output_type": "display_data"
    },
    {
     "data": {
      "text/plain": [
       "{'electionId': ObjectId('7fffffff0000000000000002'),\n",
       " 'n': 1,\n",
       " 'nModified': 1,\n",
       " 'ok': 1.0,\n",
       " 'opTime': {'t': 2, 'ts': Timestamp(1505936615, 1)},\n",
       " 'updatedExisting': True}"
      ]
     },
     "metadata": {},
     "output_type": "display_data"
    },
    {
     "data": {
      "text/plain": [
       "{'electionId': ObjectId('7fffffff0000000000000002'),\n",
       " 'n': 1,\n",
       " 'nModified': 1,\n",
       " 'ok': 1.0,\n",
       " 'opTime': {'t': 2, 'ts': Timestamp(1505936616, 1)},\n",
       " 'updatedExisting': True}"
      ]
     },
     "metadata": {},
     "output_type": "display_data"
    },
    {
     "data": {
      "text/plain": [
       "{'electionId': ObjectId('7fffffff0000000000000002'),\n",
       " 'n': 1,\n",
       " 'nModified': 1,\n",
       " 'ok': 1.0,\n",
       " 'opTime': {'t': 2, 'ts': Timestamp(1505936617, 1)},\n",
       " 'updatedExisting': True}"
      ]
     },
     "metadata": {},
     "output_type": "display_data"
    },
    {
     "data": {
      "text/plain": [
       "{'electionId': ObjectId('7fffffff0000000000000002'),\n",
       " 'n': 1,\n",
       " 'nModified': 1,\n",
       " 'ok': 1.0,\n",
       " 'opTime': {'t': 2, 'ts': Timestamp(1505936619, 1)},\n",
       " 'updatedExisting': True}"
      ]
     },
     "metadata": {},
     "output_type": "display_data"
    },
    {
     "data": {
      "text/plain": [
       "{'electionId': ObjectId('7fffffff0000000000000002'),\n",
       " 'n': 1,\n",
       " 'nModified': 1,\n",
       " 'ok': 1.0,\n",
       " 'opTime': {'t': 2, 'ts': Timestamp(1505936620, 1)},\n",
       " 'updatedExisting': True}"
      ]
     },
     "metadata": {},
     "output_type": "display_data"
    },
    {
     "data": {
      "text/plain": [
       "{'electionId': ObjectId('7fffffff0000000000000002'),\n",
       " 'n': 1,\n",
       " 'nModified': 1,\n",
       " 'ok': 1.0,\n",
       " 'opTime': {'t': 2, 'ts': Timestamp(1505936621, 1)},\n",
       " 'updatedExisting': True}"
      ]
     },
     "metadata": {},
     "output_type": "display_data"
    },
    {
     "data": {
      "text/plain": [
       "{'electionId': ObjectId('7fffffff0000000000000002'),\n",
       " 'n': 1,\n",
       " 'nModified': 1,\n",
       " 'ok': 1.0,\n",
       " 'opTime': {'t': 2, 'ts': Timestamp(1505936623, 1)},\n",
       " 'updatedExisting': True}"
      ]
     },
     "metadata": {},
     "output_type": "display_data"
    },
    {
     "data": {
      "text/plain": [
       "{'electionId': ObjectId('7fffffff0000000000000002'),\n",
       " 'n': 1,\n",
       " 'nModified': 1,\n",
       " 'ok': 1.0,\n",
       " 'opTime': {'t': 2, 'ts': Timestamp(1505936624, 1)},\n",
       " 'updatedExisting': True}"
      ]
     },
     "metadata": {},
     "output_type": "display_data"
    },
    {
     "data": {
      "text/plain": [
       "{'electionId': ObjectId('7fffffff0000000000000002'),\n",
       " 'n': 1,\n",
       " 'nModified': 1,\n",
       " 'ok': 1.0,\n",
       " 'opTime': {'t': 2, 'ts': Timestamp(1505936626, 1)},\n",
       " 'updatedExisting': True}"
      ]
     },
     "metadata": {},
     "output_type": "display_data"
    },
    {
     "data": {
      "text/plain": [
       "{'electionId': ObjectId('7fffffff0000000000000002'),\n",
       " 'n': 1,\n",
       " 'nModified': 1,\n",
       " 'ok': 1.0,\n",
       " 'opTime': {'t': 2, 'ts': Timestamp(1505936628, 1)},\n",
       " 'updatedExisting': True}"
      ]
     },
     "metadata": {},
     "output_type": "display_data"
    },
    {
     "data": {
      "text/plain": [
       "{'electionId': ObjectId('7fffffff0000000000000002'),\n",
       " 'n': 1,\n",
       " 'nModified': 1,\n",
       " 'ok': 1.0,\n",
       " 'opTime': {'t': 2, 'ts': Timestamp(1505936629, 1)},\n",
       " 'updatedExisting': True}"
      ]
     },
     "metadata": {},
     "output_type": "display_data"
    },
    {
     "data": {
      "text/plain": [
       "{'electionId': ObjectId('7fffffff0000000000000002'),\n",
       " 'n': 1,\n",
       " 'nModified': 1,\n",
       " 'ok': 1.0,\n",
       " 'opTime': {'t': 2, 'ts': Timestamp(1505936632, 1)},\n",
       " 'updatedExisting': True}"
      ]
     },
     "metadata": {},
     "output_type": "display_data"
    },
    {
     "data": {
      "text/plain": [
       "{'electionId': ObjectId('7fffffff0000000000000002'),\n",
       " 'n': 1,\n",
       " 'nModified': 1,\n",
       " 'ok': 1.0,\n",
       " 'opTime': {'t': 2, 'ts': Timestamp(1505936634, 1)},\n",
       " 'updatedExisting': True}"
      ]
     },
     "metadata": {},
     "output_type": "display_data"
    },
    {
     "data": {
      "text/plain": [
       "{'electionId': ObjectId('7fffffff0000000000000002'),\n",
       " 'n': 1,\n",
       " 'nModified': 1,\n",
       " 'ok': 1.0,\n",
       " 'opTime': {'t': 2, 'ts': Timestamp(1505936635, 1)},\n",
       " 'updatedExisting': True}"
      ]
     },
     "metadata": {},
     "output_type": "display_data"
    },
    {
     "data": {
      "text/plain": [
       "{'electionId': ObjectId('7fffffff0000000000000002'),\n",
       " 'n': 1,\n",
       " 'nModified': 1,\n",
       " 'ok': 1.0,\n",
       " 'opTime': {'t': 2, 'ts': Timestamp(1505936637, 1)},\n",
       " 'updatedExisting': True}"
      ]
     },
     "metadata": {},
     "output_type": "display_data"
    },
    {
     "data": {
      "text/plain": [
       "{'electionId': ObjectId('7fffffff0000000000000002'),\n",
       " 'n': 1,\n",
       " 'nModified': 1,\n",
       " 'ok': 1.0,\n",
       " 'opTime': {'t': 2, 'ts': Timestamp(1505936638, 1)},\n",
       " 'updatedExisting': True}"
      ]
     },
     "metadata": {},
     "output_type": "display_data"
    },
    {
     "data": {
      "text/plain": [
       "{'electionId': ObjectId('7fffffff0000000000000002'),\n",
       " 'n': 1,\n",
       " 'nModified': 1,\n",
       " 'ok': 1.0,\n",
       " 'opTime': {'t': 2, 'ts': Timestamp(1505936640, 1)},\n",
       " 'updatedExisting': True}"
      ]
     },
     "metadata": {},
     "output_type": "display_data"
    },
    {
     "data": {
      "text/plain": [
       "{'electionId': ObjectId('7fffffff0000000000000002'),\n",
       " 'n': 1,\n",
       " 'nModified': 1,\n",
       " 'ok': 1.0,\n",
       " 'opTime': {'t': 2, 'ts': Timestamp(1505936641, 1)},\n",
       " 'updatedExisting': True}"
      ]
     },
     "metadata": {},
     "output_type": "display_data"
    },
    {
     "data": {
      "text/plain": [
       "{'electionId': ObjectId('7fffffff0000000000000002'),\n",
       " 'n': 1,\n",
       " 'nModified': 1,\n",
       " 'ok': 1.0,\n",
       " 'opTime': {'t': 2, 'ts': Timestamp(1505936642, 1)},\n",
       " 'updatedExisting': True}"
      ]
     },
     "metadata": {},
     "output_type": "display_data"
    },
    {
     "data": {
      "text/plain": [
       "{'electionId': ObjectId('7fffffff0000000000000002'),\n",
       " 'n': 1,\n",
       " 'nModified': 1,\n",
       " 'ok': 1.0,\n",
       " 'opTime': {'t': 2, 'ts': Timestamp(1505936643, 1)},\n",
       " 'updatedExisting': True}"
      ]
     },
     "metadata": {},
     "output_type": "display_data"
    },
    {
     "data": {
      "text/plain": [
       "{'electionId': ObjectId('7fffffff0000000000000002'),\n",
       " 'n': 1,\n",
       " 'nModified': 1,\n",
       " 'ok': 1.0,\n",
       " 'opTime': {'t': 2, 'ts': Timestamp(1505936645, 1)},\n",
       " 'updatedExisting': True}"
      ]
     },
     "metadata": {},
     "output_type": "display_data"
    },
    {
     "data": {
      "text/plain": [
       "{'electionId': ObjectId('7fffffff0000000000000002'),\n",
       " 'n': 1,\n",
       " 'nModified': 1,\n",
       " 'ok': 1.0,\n",
       " 'opTime': {'t': 2, 'ts': Timestamp(1505936646, 1)},\n",
       " 'updatedExisting': True}"
      ]
     },
     "metadata": {},
     "output_type": "display_data"
    },
    {
     "data": {
      "text/plain": [
       "{'electionId': ObjectId('7fffffff0000000000000002'),\n",
       " 'n': 1,\n",
       " 'nModified': 1,\n",
       " 'ok': 1.0,\n",
       " 'opTime': {'t': 2, 'ts': Timestamp(1505936649, 1)},\n",
       " 'updatedExisting': True}"
      ]
     },
     "metadata": {},
     "output_type": "display_data"
    },
    {
     "data": {
      "text/plain": [
       "{'electionId': ObjectId('7fffffff0000000000000002'),\n",
       " 'n': 1,\n",
       " 'nModified': 1,\n",
       " 'ok': 1.0,\n",
       " 'opTime': {'t': 2, 'ts': Timestamp(1505936650, 1)},\n",
       " 'updatedExisting': True}"
      ]
     },
     "metadata": {},
     "output_type": "display_data"
    },
    {
     "data": {
      "text/plain": [
       "{'electionId': ObjectId('7fffffff0000000000000002'),\n",
       " 'n': 1,\n",
       " 'nModified': 1,\n",
       " 'ok': 1.0,\n",
       " 'opTime': {'t': 2, 'ts': Timestamp(1505936652, 1)},\n",
       " 'updatedExisting': True}"
      ]
     },
     "metadata": {},
     "output_type": "display_data"
    },
    {
     "data": {
      "text/plain": [
       "{'electionId': ObjectId('7fffffff0000000000000002'),\n",
       " 'n': 1,\n",
       " 'nModified': 1,\n",
       " 'ok': 1.0,\n",
       " 'opTime': {'t': 2, 'ts': Timestamp(1505936653, 1)},\n",
       " 'updatedExisting': True}"
      ]
     },
     "metadata": {},
     "output_type": "display_data"
    },
    {
     "data": {
      "text/plain": [
       "{'electionId': ObjectId('7fffffff0000000000000002'),\n",
       " 'n': 1,\n",
       " 'nModified': 1,\n",
       " 'ok': 1.0,\n",
       " 'opTime': {'t': 2, 'ts': Timestamp(1505936654, 1)},\n",
       " 'updatedExisting': True}"
      ]
     },
     "metadata": {},
     "output_type": "display_data"
    },
    {
     "data": {
      "text/plain": [
       "{'electionId': ObjectId('7fffffff0000000000000002'),\n",
       " 'n': 1,\n",
       " 'nModified': 1,\n",
       " 'ok': 1.0,\n",
       " 'opTime': {'t': 2, 'ts': Timestamp(1505936656, 1)},\n",
       " 'updatedExisting': True}"
      ]
     },
     "metadata": {},
     "output_type": "display_data"
    },
    {
     "data": {
      "text/plain": [
       "{'electionId': ObjectId('7fffffff0000000000000002'),\n",
       " 'n': 1,\n",
       " 'nModified': 1,\n",
       " 'ok': 1.0,\n",
       " 'opTime': {'t': 2, 'ts': Timestamp(1505936658, 1)},\n",
       " 'updatedExisting': True}"
      ]
     },
     "metadata": {},
     "output_type": "display_data"
    },
    {
     "data": {
      "text/plain": [
       "{'electionId': ObjectId('7fffffff0000000000000002'),\n",
       " 'n': 1,\n",
       " 'nModified': 1,\n",
       " 'ok': 1.0,\n",
       " 'opTime': {'t': 2, 'ts': Timestamp(1505936659, 1)},\n",
       " 'updatedExisting': True}"
      ]
     },
     "metadata": {},
     "output_type": "display_data"
    },
    {
     "data": {
      "text/plain": [
       "{'electionId': ObjectId('7fffffff0000000000000002'),\n",
       " 'n': 1,\n",
       " 'nModified': 1,\n",
       " 'ok': 1.0,\n",
       " 'opTime': {'t': 2, 'ts': Timestamp(1505936663, 1)},\n",
       " 'updatedExisting': True}"
      ]
     },
     "metadata": {},
     "output_type": "display_data"
    },
    {
     "data": {
      "text/plain": [
       "{'electionId': ObjectId('7fffffff0000000000000002'),\n",
       " 'n': 1,\n",
       " 'nModified': 1,\n",
       " 'ok': 1.0,\n",
       " 'opTime': {'t': 2, 'ts': Timestamp(1505936665, 1)},\n",
       " 'updatedExisting': True}"
      ]
     },
     "metadata": {},
     "output_type": "display_data"
    },
    {
     "data": {
      "text/plain": [
       "{'electionId': ObjectId('7fffffff0000000000000002'),\n",
       " 'n': 1,\n",
       " 'nModified': 1,\n",
       " 'ok': 1.0,\n",
       " 'opTime': {'t': 2, 'ts': Timestamp(1505936666, 1)},\n",
       " 'updatedExisting': True}"
      ]
     },
     "metadata": {},
     "output_type": "display_data"
    },
    {
     "data": {
      "text/plain": [
       "{'electionId': ObjectId('7fffffff0000000000000002'),\n",
       " 'n': 1,\n",
       " 'nModified': 1,\n",
       " 'ok': 1.0,\n",
       " 'opTime': {'t': 2, 'ts': Timestamp(1505936667, 1)},\n",
       " 'updatedExisting': True}"
      ]
     },
     "metadata": {},
     "output_type": "display_data"
    },
    {
     "data": {
      "text/plain": [
       "{'electionId': ObjectId('7fffffff0000000000000002'),\n",
       " 'n': 1,\n",
       " 'nModified': 1,\n",
       " 'ok': 1.0,\n",
       " 'opTime': {'t': 2, 'ts': Timestamp(1505936668, 1)},\n",
       " 'updatedExisting': True}"
      ]
     },
     "metadata": {},
     "output_type": "display_data"
    },
    {
     "data": {
      "text/plain": [
       "{'electionId': ObjectId('7fffffff0000000000000002'),\n",
       " 'n': 1,\n",
       " 'nModified': 1,\n",
       " 'ok': 1.0,\n",
       " 'opTime': {'t': 2, 'ts': Timestamp(1505936670, 1)},\n",
       " 'updatedExisting': True}"
      ]
     },
     "metadata": {},
     "output_type": "display_data"
    },
    {
     "data": {
      "text/plain": [
       "{'electionId': ObjectId('7fffffff0000000000000002'),\n",
       " 'n': 1,\n",
       " 'nModified': 1,\n",
       " 'ok': 1.0,\n",
       " 'opTime': {'t': 2, 'ts': Timestamp(1505936671, 1)},\n",
       " 'updatedExisting': True}"
      ]
     },
     "metadata": {},
     "output_type": "display_data"
    },
    {
     "data": {
      "text/plain": [
       "{'electionId': ObjectId('7fffffff0000000000000002'),\n",
       " 'n': 1,\n",
       " 'nModified': 1,\n",
       " 'ok': 1.0,\n",
       " 'opTime': {'t': 2, 'ts': Timestamp(1505936673, 1)},\n",
       " 'updatedExisting': True}"
      ]
     },
     "metadata": {},
     "output_type": "display_data"
    },
    {
     "data": {
      "text/plain": [
       "{'electionId': ObjectId('7fffffff0000000000000002'),\n",
       " 'n': 1,\n",
       " 'nModified': 1,\n",
       " 'ok': 1.0,\n",
       " 'opTime': {'t': 2, 'ts': Timestamp(1505936674, 1)},\n",
       " 'updatedExisting': True}"
      ]
     },
     "metadata": {},
     "output_type": "display_data"
    },
    {
     "data": {
      "text/plain": [
       "{'electionId': ObjectId('7fffffff0000000000000002'),\n",
       " 'n': 1,\n",
       " 'nModified': 1,\n",
       " 'ok': 1.0,\n",
       " 'opTime': {'t': 2, 'ts': Timestamp(1505936675, 1)},\n",
       " 'updatedExisting': True}"
      ]
     },
     "metadata": {},
     "output_type": "display_data"
    },
    {
     "data": {
      "text/plain": [
       "{'electionId': ObjectId('7fffffff0000000000000002'),\n",
       " 'n': 1,\n",
       " 'nModified': 1,\n",
       " 'ok': 1.0,\n",
       " 'opTime': {'t': 2, 'ts': Timestamp(1505936676, 1)},\n",
       " 'updatedExisting': True}"
      ]
     },
     "metadata": {},
     "output_type": "display_data"
    },
    {
     "data": {
      "text/plain": [
       "{'electionId': ObjectId('7fffffff0000000000000002'),\n",
       " 'n': 1,\n",
       " 'nModified': 1,\n",
       " 'ok': 1.0,\n",
       " 'opTime': {'t': 2, 'ts': Timestamp(1505936678, 1)},\n",
       " 'updatedExisting': True}"
      ]
     },
     "metadata": {},
     "output_type": "display_data"
    },
    {
     "data": {
      "text/plain": [
       "{'electionId': ObjectId('7fffffff0000000000000002'),\n",
       " 'n': 1,\n",
       " 'nModified': 1,\n",
       " 'ok': 1.0,\n",
       " 'opTime': {'t': 2, 'ts': Timestamp(1505936678, 2)},\n",
       " 'updatedExisting': True}"
      ]
     },
     "metadata": {},
     "output_type": "display_data"
    },
    {
     "data": {
      "text/plain": [
       "{'electionId': ObjectId('7fffffff0000000000000002'),\n",
       " 'n': 1,\n",
       " 'nModified': 1,\n",
       " 'ok': 1.0,\n",
       " 'opTime': {'t': 2, 'ts': Timestamp(1505936680, 1)},\n",
       " 'updatedExisting': True}"
      ]
     },
     "metadata": {},
     "output_type": "display_data"
    },
    {
     "data": {
      "text/plain": [
       "{'electionId': ObjectId('7fffffff0000000000000002'),\n",
       " 'n': 1,\n",
       " 'nModified': 1,\n",
       " 'ok': 1.0,\n",
       " 'opTime': {'t': 2, 'ts': Timestamp(1505936682, 1)},\n",
       " 'updatedExisting': True}"
      ]
     },
     "metadata": {},
     "output_type": "display_data"
    },
    {
     "data": {
      "text/plain": [
       "{'electionId': ObjectId('7fffffff0000000000000002'),\n",
       " 'n': 1,\n",
       " 'nModified': 1,\n",
       " 'ok': 1.0,\n",
       " 'opTime': {'t': 2, 'ts': Timestamp(1505936683, 1)},\n",
       " 'updatedExisting': True}"
      ]
     },
     "metadata": {},
     "output_type": "display_data"
    },
    {
     "data": {
      "text/plain": [
       "{'electionId': ObjectId('7fffffff0000000000000002'),\n",
       " 'n': 1,\n",
       " 'nModified': 1,\n",
       " 'ok': 1.0,\n",
       " 'opTime': {'t': 2, 'ts': Timestamp(1505936684, 1)},\n",
       " 'updatedExisting': True}"
      ]
     },
     "metadata": {},
     "output_type": "display_data"
    },
    {
     "data": {
      "text/plain": [
       "{'electionId': ObjectId('7fffffff0000000000000002'),\n",
       " 'n': 1,\n",
       " 'nModified': 1,\n",
       " 'ok': 1.0,\n",
       " 'opTime': {'t': 2, 'ts': Timestamp(1505936686, 1)},\n",
       " 'updatedExisting': True}"
      ]
     },
     "metadata": {},
     "output_type": "display_data"
    },
    {
     "data": {
      "text/plain": [
       "{'electionId': ObjectId('7fffffff0000000000000002'),\n",
       " 'n': 1,\n",
       " 'nModified': 1,\n",
       " 'ok': 1.0,\n",
       " 'opTime': {'t': 2, 'ts': Timestamp(1505936687, 1)},\n",
       " 'updatedExisting': True}"
      ]
     },
     "metadata": {},
     "output_type": "display_data"
    },
    {
     "data": {
      "text/plain": [
       "{'electionId': ObjectId('7fffffff0000000000000002'),\n",
       " 'n': 1,\n",
       " 'nModified': 1,\n",
       " 'ok': 1.0,\n",
       " 'opTime': {'t': 2, 'ts': Timestamp(1505936688, 1)},\n",
       " 'updatedExisting': True}"
      ]
     },
     "metadata": {},
     "output_type": "display_data"
    },
    {
     "data": {
      "text/plain": [
       "{'electionId': ObjectId('7fffffff0000000000000002'),\n",
       " 'n': 1,\n",
       " 'nModified': 1,\n",
       " 'ok': 1.0,\n",
       " 'opTime': {'t': 2, 'ts': Timestamp(1505936689, 2)},\n",
       " 'updatedExisting': True}"
      ]
     },
     "metadata": {},
     "output_type": "display_data"
    },
    {
     "data": {
      "text/plain": [
       "{'electionId': ObjectId('7fffffff0000000000000002'),\n",
       " 'n': 1,\n",
       " 'nModified': 1,\n",
       " 'ok': 1.0,\n",
       " 'opTime': {'t': 2, 'ts': Timestamp(1505936690, 2)},\n",
       " 'updatedExisting': True}"
      ]
     },
     "metadata": {},
     "output_type": "display_data"
    },
    {
     "data": {
      "text/plain": [
       "{'electionId': ObjectId('7fffffff0000000000000002'),\n",
       " 'n': 1,\n",
       " 'nModified': 1,\n",
       " 'ok': 1.0,\n",
       " 'opTime': {'t': 2, 'ts': Timestamp(1505936692, 2)},\n",
       " 'updatedExisting': True}"
      ]
     },
     "metadata": {},
     "output_type": "display_data"
    },
    {
     "data": {
      "text/plain": [
       "{'electionId': ObjectId('7fffffff0000000000000002'),\n",
       " 'n': 1,\n",
       " 'nModified': 1,\n",
       " 'ok': 1.0,\n",
       " 'opTime': {'t': 2, 'ts': Timestamp(1505936693, 2)},\n",
       " 'updatedExisting': True}"
      ]
     },
     "metadata": {},
     "output_type": "display_data"
    },
    {
     "data": {
      "text/plain": [
       "{'electionId': ObjectId('7fffffff0000000000000002'),\n",
       " 'n': 1,\n",
       " 'nModified': 1,\n",
       " 'ok': 1.0,\n",
       " 'opTime': {'t': 2, 'ts': Timestamp(1505936695, 1)},\n",
       " 'updatedExisting': True}"
      ]
     },
     "metadata": {},
     "output_type": "display_data"
    },
    {
     "data": {
      "text/plain": [
       "{'electionId': ObjectId('7fffffff0000000000000002'),\n",
       " 'n': 1,\n",
       " 'nModified': 1,\n",
       " 'ok': 1.0,\n",
       " 'opTime': {'t': 2, 'ts': Timestamp(1505936696, 2)},\n",
       " 'updatedExisting': True}"
      ]
     },
     "metadata": {},
     "output_type": "display_data"
    },
    {
     "data": {
      "text/plain": [
       "{'electionId': ObjectId('7fffffff0000000000000002'),\n",
       " 'n': 1,\n",
       " 'nModified': 1,\n",
       " 'ok': 1.0,\n",
       " 'opTime': {'t': 2, 'ts': Timestamp(1505936698, 1)},\n",
       " 'updatedExisting': True}"
      ]
     },
     "metadata": {},
     "output_type": "display_data"
    },
    {
     "data": {
      "text/plain": [
       "{'electionId': ObjectId('7fffffff0000000000000002'),\n",
       " 'n': 1,\n",
       " 'nModified': 1,\n",
       " 'ok': 1.0,\n",
       " 'opTime': {'t': 2, 'ts': Timestamp(1505936699, 1)},\n",
       " 'updatedExisting': True}"
      ]
     },
     "metadata": {},
     "output_type": "display_data"
    },
    {
     "data": {
      "text/plain": [
       "{'electionId': ObjectId('7fffffff0000000000000002'),\n",
       " 'n': 1,\n",
       " 'nModified': 1,\n",
       " 'ok': 1.0,\n",
       " 'opTime': {'t': 2, 'ts': Timestamp(1505936699, 4)},\n",
       " 'updatedExisting': True}"
      ]
     },
     "metadata": {},
     "output_type": "display_data"
    },
    {
     "data": {
      "text/plain": [
       "{'electionId': ObjectId('7fffffff0000000000000002'),\n",
       " 'n': 1,\n",
       " 'nModified': 1,\n",
       " 'ok': 1.0,\n",
       " 'opTime': {'t': 2, 'ts': Timestamp(1505936701, 1)},\n",
       " 'updatedExisting': True}"
      ]
     },
     "metadata": {},
     "output_type": "display_data"
    },
    {
     "data": {
      "text/plain": [
       "{'electionId': ObjectId('7fffffff0000000000000002'),\n",
       " 'n': 1,\n",
       " 'nModified': 1,\n",
       " 'ok': 1.0,\n",
       " 'opTime': {'t': 2, 'ts': Timestamp(1505936701, 4)},\n",
       " 'updatedExisting': True}"
      ]
     },
     "metadata": {},
     "output_type": "display_data"
    },
    {
     "data": {
      "text/plain": [
       "{'electionId': ObjectId('7fffffff0000000000000002'),\n",
       " 'n': 1,\n",
       " 'nModified': 1,\n",
       " 'ok': 1.0,\n",
       " 'opTime': {'t': 2, 'ts': Timestamp(1505936703, 1)},\n",
       " 'updatedExisting': True}"
      ]
     },
     "metadata": {},
     "output_type": "display_data"
    },
    {
     "data": {
      "text/plain": [
       "{'electionId': ObjectId('7fffffff0000000000000002'),\n",
       " 'n': 1,\n",
       " 'nModified': 1,\n",
       " 'ok': 1.0,\n",
       " 'opTime': {'t': 2, 'ts': Timestamp(1505936704, 1)},\n",
       " 'updatedExisting': True}"
      ]
     },
     "metadata": {},
     "output_type": "display_data"
    },
    {
     "data": {
      "text/plain": [
       "{'electionId': ObjectId('7fffffff0000000000000002'),\n",
       " 'n': 1,\n",
       " 'nModified': 1,\n",
       " 'ok': 1.0,\n",
       " 'opTime': {'t': 2, 'ts': Timestamp(1505936706, 1)},\n",
       " 'updatedExisting': True}"
      ]
     },
     "metadata": {},
     "output_type": "display_data"
    },
    {
     "data": {
      "text/plain": [
       "{'electionId': ObjectId('7fffffff0000000000000002'),\n",
       " 'n': 1,\n",
       " 'nModified': 1,\n",
       " 'ok': 1.0,\n",
       " 'opTime': {'t': 2, 'ts': Timestamp(1505936707, 1)},\n",
       " 'updatedExisting': True}"
      ]
     },
     "metadata": {},
     "output_type": "display_data"
    },
    {
     "data": {
      "text/plain": [
       "{'electionId': ObjectId('7fffffff0000000000000002'),\n",
       " 'n': 1,\n",
       " 'nModified': 1,\n",
       " 'ok': 1.0,\n",
       " 'opTime': {'t': 2, 'ts': Timestamp(1505936709, 1)},\n",
       " 'updatedExisting': True}"
      ]
     },
     "metadata": {},
     "output_type": "display_data"
    },
    {
     "data": {
      "text/plain": [
       "{'electionId': ObjectId('7fffffff0000000000000002'),\n",
       " 'n': 1,\n",
       " 'nModified': 1,\n",
       " 'ok': 1.0,\n",
       " 'opTime': {'t': 2, 'ts': Timestamp(1505936710, 2)},\n",
       " 'updatedExisting': True}"
      ]
     },
     "metadata": {},
     "output_type": "display_data"
    },
    {
     "data": {
      "text/plain": [
       "{'electionId': ObjectId('7fffffff0000000000000002'),\n",
       " 'n': 1,\n",
       " 'nModified': 1,\n",
       " 'ok': 1.0,\n",
       " 'opTime': {'t': 2, 'ts': Timestamp(1505936710, 4)},\n",
       " 'updatedExisting': True}"
      ]
     },
     "metadata": {},
     "output_type": "display_data"
    },
    {
     "data": {
      "text/plain": [
       "{'electionId': ObjectId('7fffffff0000000000000002'),\n",
       " 'n': 1,\n",
       " 'nModified': 1,\n",
       " 'ok': 1.0,\n",
       " 'opTime': {'t': 2, 'ts': Timestamp(1505936711, 1)},\n",
       " 'updatedExisting': True}"
      ]
     },
     "metadata": {},
     "output_type": "display_data"
    },
    {
     "data": {
      "text/plain": [
       "{'electionId': ObjectId('7fffffff0000000000000002'),\n",
       " 'n': 1,\n",
       " 'nModified': 1,\n",
       " 'ok': 1.0,\n",
       " 'opTime': {'t': 2, 'ts': Timestamp(1505936712, 1)},\n",
       " 'updatedExisting': True}"
      ]
     },
     "metadata": {},
     "output_type": "display_data"
    },
    {
     "data": {
      "text/plain": [
       "{'electionId': ObjectId('7fffffff0000000000000002'),\n",
       " 'n': 1,\n",
       " 'nModified': 1,\n",
       " 'ok': 1.0,\n",
       " 'opTime': {'t': 2, 'ts': Timestamp(1505936712, 4)},\n",
       " 'updatedExisting': True}"
      ]
     },
     "metadata": {},
     "output_type": "display_data"
    },
    {
     "data": {
      "text/plain": [
       "{'electionId': ObjectId('7fffffff0000000000000002'),\n",
       " 'n': 1,\n",
       " 'nModified': 1,\n",
       " 'ok': 1.0,\n",
       " 'opTime': {'t': 2, 'ts': Timestamp(1505936713, 2)},\n",
       " 'updatedExisting': True}"
      ]
     },
     "metadata": {},
     "output_type": "display_data"
    },
    {
     "data": {
      "text/plain": [
       "{'electionId': ObjectId('7fffffff0000000000000002'),\n",
       " 'n': 1,\n",
       " 'nModified': 1,\n",
       " 'ok': 1.0,\n",
       " 'opTime': {'t': 2, 'ts': Timestamp(1505936714, 2)},\n",
       " 'updatedExisting': True}"
      ]
     },
     "metadata": {},
     "output_type": "display_data"
    },
    {
     "data": {
      "text/plain": [
       "{'electionId': ObjectId('7fffffff0000000000000002'),\n",
       " 'n': 1,\n",
       " 'nModified': 1,\n",
       " 'ok': 1.0,\n",
       " 'opTime': {'t': 2, 'ts': Timestamp(1505936715, 2)},\n",
       " 'updatedExisting': True}"
      ]
     },
     "metadata": {},
     "output_type": "display_data"
    },
    {
     "data": {
      "text/plain": [
       "{'electionId': ObjectId('7fffffff0000000000000002'),\n",
       " 'n': 1,\n",
       " 'nModified': 1,\n",
       " 'ok': 1.0,\n",
       " 'opTime': {'t': 2, 'ts': Timestamp(1505936715, 5)},\n",
       " 'updatedExisting': True}"
      ]
     },
     "metadata": {},
     "output_type": "display_data"
    },
    {
     "data": {
      "text/plain": [
       "{'electionId': ObjectId('7fffffff0000000000000002'),\n",
       " 'n': 1,\n",
       " 'nModified': 1,\n",
       " 'ok': 1.0,\n",
       " 'opTime': {'t': 2, 'ts': Timestamp(1505936717, 1)},\n",
       " 'updatedExisting': True}"
      ]
     },
     "metadata": {},
     "output_type": "display_data"
    },
    {
     "data": {
      "text/plain": [
       "{'electionId': ObjectId('7fffffff0000000000000002'),\n",
       " 'n': 1,\n",
       " 'nModified': 1,\n",
       " 'ok': 1.0,\n",
       " 'opTime': {'t': 2, 'ts': Timestamp(1505936718, 2)},\n",
       " 'updatedExisting': True}"
      ]
     },
     "metadata": {},
     "output_type": "display_data"
    },
    {
     "data": {
      "text/plain": [
       "{'electionId': ObjectId('7fffffff0000000000000002'),\n",
       " 'n': 1,\n",
       " 'nModified': 1,\n",
       " 'ok': 1.0,\n",
       " 'opTime': {'t': 2, 'ts': Timestamp(1505936719, 3)},\n",
       " 'updatedExisting': True}"
      ]
     },
     "metadata": {},
     "output_type": "display_data"
    },
    {
     "data": {
      "text/plain": [
       "{'electionId': ObjectId('7fffffff0000000000000002'),\n",
       " 'n': 1,\n",
       " 'nModified': 1,\n",
       " 'ok': 1.0,\n",
       " 'opTime': {'t': 2, 'ts': Timestamp(1505936721, 1)},\n",
       " 'updatedExisting': True}"
      ]
     },
     "metadata": {},
     "output_type": "display_data"
    },
    {
     "data": {
      "text/plain": [
       "{'electionId': ObjectId('7fffffff0000000000000002'),\n",
       " 'n': 1,\n",
       " 'nModified': 1,\n",
       " 'ok': 1.0,\n",
       " 'opTime': {'t': 2, 'ts': Timestamp(1505936722, 2)},\n",
       " 'updatedExisting': True}"
      ]
     },
     "metadata": {},
     "output_type": "display_data"
    },
    {
     "data": {
      "text/plain": [
       "{'electionId': ObjectId('7fffffff0000000000000002'),\n",
       " 'n': 1,\n",
       " 'nModified': 1,\n",
       " 'ok': 1.0,\n",
       " 'opTime': {'t': 2, 'ts': Timestamp(1505936734, 2)},\n",
       " 'updatedExisting': True}"
      ]
     },
     "metadata": {},
     "output_type": "display_data"
    },
    {
     "data": {
      "text/plain": [
       "{'electionId': ObjectId('7fffffff0000000000000002'),\n",
       " 'n': 1,\n",
       " 'nModified': 1,\n",
       " 'ok': 1.0,\n",
       " 'opTime': {'t': 2, 'ts': Timestamp(1505936735, 2)},\n",
       " 'updatedExisting': True}"
      ]
     },
     "metadata": {},
     "output_type": "display_data"
    },
    {
     "data": {
      "text/plain": [
       "{'electionId': ObjectId('7fffffff0000000000000002'),\n",
       " 'n': 1,\n",
       " 'nModified': 1,\n",
       " 'ok': 1.0,\n",
       " 'opTime': {'t': 2, 'ts': Timestamp(1505936737, 1)},\n",
       " 'updatedExisting': True}"
      ]
     },
     "metadata": {},
     "output_type": "display_data"
    },
    {
     "data": {
      "text/plain": [
       "{'electionId': ObjectId('7fffffff0000000000000002'),\n",
       " 'n': 1,\n",
       " 'nModified': 1,\n",
       " 'ok': 1.0,\n",
       " 'opTime': {'t': 2, 'ts': Timestamp(1505936738, 2)},\n",
       " 'updatedExisting': True}"
      ]
     },
     "metadata": {},
     "output_type": "display_data"
    },
    {
     "data": {
      "text/plain": [
       "{'electionId': ObjectId('7fffffff0000000000000002'),\n",
       " 'n': 1,\n",
       " 'nModified': 1,\n",
       " 'ok': 1.0,\n",
       " 'opTime': {'t': 2, 'ts': Timestamp(1505936740, 1)},\n",
       " 'updatedExisting': True}"
      ]
     },
     "metadata": {},
     "output_type": "display_data"
    },
    {
     "data": {
      "text/plain": [
       "{'electionId': ObjectId('7fffffff0000000000000002'),\n",
       " 'n': 1,\n",
       " 'nModified': 1,\n",
       " 'ok': 1.0,\n",
       " 'opTime': {'t': 2, 'ts': Timestamp(1505936741, 1)},\n",
       " 'updatedExisting': True}"
      ]
     },
     "metadata": {},
     "output_type": "display_data"
    },
    {
     "data": {
      "text/plain": [
       "{'electionId': ObjectId('7fffffff0000000000000002'),\n",
       " 'n': 1,\n",
       " 'nModified': 1,\n",
       " 'ok': 1.0,\n",
       " 'opTime': {'t': 2, 'ts': Timestamp(1505936742, 2)},\n",
       " 'updatedExisting': True}"
      ]
     },
     "metadata": {},
     "output_type": "display_data"
    },
    {
     "data": {
      "text/plain": [
       "{'electionId': ObjectId('7fffffff0000000000000002'),\n",
       " 'n': 1,\n",
       " 'nModified': 1,\n",
       " 'ok': 1.0,\n",
       " 'opTime': {'t': 2, 'ts': Timestamp(1505936743, 1)},\n",
       " 'updatedExisting': True}"
      ]
     },
     "metadata": {},
     "output_type": "display_data"
    },
    {
     "data": {
      "text/plain": [
       "{'electionId': ObjectId('7fffffff0000000000000002'),\n",
       " 'n': 1,\n",
       " 'nModified': 1,\n",
       " 'ok': 1.0,\n",
       " 'opTime': {'t': 2, 'ts': Timestamp(1505936744, 3)},\n",
       " 'updatedExisting': True}"
      ]
     },
     "metadata": {},
     "output_type": "display_data"
    },
    {
     "data": {
      "text/plain": [
       "{'electionId': ObjectId('7fffffff0000000000000002'),\n",
       " 'n': 1,\n",
       " 'nModified': 1,\n",
       " 'ok': 1.0,\n",
       " 'opTime': {'t': 2, 'ts': Timestamp(1505936745, 3)},\n",
       " 'updatedExisting': True}"
      ]
     },
     "metadata": {},
     "output_type": "display_data"
    },
    {
     "data": {
      "text/plain": [
       "{'electionId': ObjectId('7fffffff0000000000000002'),\n",
       " 'n': 1,\n",
       " 'nModified': 1,\n",
       " 'ok': 1.0,\n",
       " 'opTime': {'t': 2, 'ts': Timestamp(1505936746, 2)},\n",
       " 'updatedExisting': True}"
      ]
     },
     "metadata": {},
     "output_type": "display_data"
    },
    {
     "data": {
      "text/plain": [
       "{'electionId': ObjectId('7fffffff0000000000000002'),\n",
       " 'n': 1,\n",
       " 'nModified': 1,\n",
       " 'ok': 1.0,\n",
       " 'opTime': {'t': 2, 'ts': Timestamp(1505936748, 1)},\n",
       " 'updatedExisting': True}"
      ]
     },
     "metadata": {},
     "output_type": "display_data"
    },
    {
     "data": {
      "text/plain": [
       "{'electionId': ObjectId('7fffffff0000000000000002'),\n",
       " 'n': 1,\n",
       " 'nModified': 1,\n",
       " 'ok': 1.0,\n",
       " 'opTime': {'t': 2, 'ts': Timestamp(1505936750, 1)},\n",
       " 'updatedExisting': True}"
      ]
     },
     "metadata": {},
     "output_type": "display_data"
    },
    {
     "data": {
      "text/plain": [
       "{'electionId': ObjectId('7fffffff0000000000000002'),\n",
       " 'n': 1,\n",
       " 'nModified': 1,\n",
       " 'ok': 1.0,\n",
       " 'opTime': {'t': 2, 'ts': Timestamp(1505936751, 2)},\n",
       " 'updatedExisting': True}"
      ]
     },
     "metadata": {},
     "output_type": "display_data"
    },
    {
     "data": {
      "text/plain": [
       "{'electionId': ObjectId('7fffffff0000000000000002'),\n",
       " 'n': 1,\n",
       " 'nModified': 1,\n",
       " 'ok': 1.0,\n",
       " 'opTime': {'t': 2, 'ts': Timestamp(1505936752, 2)},\n",
       " 'updatedExisting': True}"
      ]
     },
     "metadata": {},
     "output_type": "display_data"
    },
    {
     "data": {
      "text/plain": [
       "{'electionId': ObjectId('7fffffff0000000000000002'),\n",
       " 'n': 1,\n",
       " 'nModified': 1,\n",
       " 'ok': 1.0,\n",
       " 'opTime': {'t': 2, 'ts': Timestamp(1505936754, 3)},\n",
       " 'updatedExisting': True}"
      ]
     },
     "metadata": {},
     "output_type": "display_data"
    },
    {
     "data": {
      "text/plain": [
       "{'electionId': ObjectId('7fffffff0000000000000002'),\n",
       " 'n': 1,\n",
       " 'nModified': 1,\n",
       " 'ok': 1.0,\n",
       " 'opTime': {'t': 2, 'ts': Timestamp(1505936755, 3)},\n",
       " 'updatedExisting': True}"
      ]
     },
     "metadata": {},
     "output_type": "display_data"
    },
    {
     "data": {
      "text/plain": [
       "{'electionId': ObjectId('7fffffff0000000000000002'),\n",
       " 'n': 1,\n",
       " 'nModified': 1,\n",
       " 'ok': 1.0,\n",
       " 'opTime': {'t': 2, 'ts': Timestamp(1505936756, 3)},\n",
       " 'updatedExisting': True}"
      ]
     },
     "metadata": {},
     "output_type": "display_data"
    },
    {
     "data": {
      "text/plain": [
       "{'electionId': ObjectId('7fffffff0000000000000002'),\n",
       " 'n': 1,\n",
       " 'nModified': 1,\n",
       " 'ok': 1.0,\n",
       " 'opTime': {'t': 2, 'ts': Timestamp(1505936757, 3)},\n",
       " 'updatedExisting': True}"
      ]
     },
     "metadata": {},
     "output_type": "display_data"
    },
    {
     "data": {
      "text/plain": [
       "{'electionId': ObjectId('7fffffff0000000000000002'),\n",
       " 'n': 1,\n",
       " 'nModified': 1,\n",
       " 'ok': 1.0,\n",
       " 'opTime': {'t': 2, 'ts': Timestamp(1505936758, 2)},\n",
       " 'updatedExisting': True}"
      ]
     },
     "metadata": {},
     "output_type": "display_data"
    },
    {
     "data": {
      "text/plain": [
       "{'electionId': ObjectId('7fffffff0000000000000002'),\n",
       " 'n': 1,\n",
       " 'nModified': 1,\n",
       " 'ok': 1.0,\n",
       " 'opTime': {'t': 2, 'ts': Timestamp(1505936758, 5)},\n",
       " 'updatedExisting': True}"
      ]
     },
     "metadata": {},
     "output_type": "display_data"
    },
    {
     "data": {
      "text/plain": [
       "{'electionId': ObjectId('7fffffff0000000000000002'),\n",
       " 'n': 1,\n",
       " 'nModified': 1,\n",
       " 'ok': 1.0,\n",
       " 'opTime': {'t': 2, 'ts': Timestamp(1505936760, 1)},\n",
       " 'updatedExisting': True}"
      ]
     },
     "metadata": {},
     "output_type": "display_data"
    },
    {
     "data": {
      "text/plain": [
       "{'electionId': ObjectId('7fffffff0000000000000002'),\n",
       " 'n': 1,\n",
       " 'nModified': 1,\n",
       " 'ok': 1.0,\n",
       " 'opTime': {'t': 2, 'ts': Timestamp(1505936761, 1)},\n",
       " 'updatedExisting': True}"
      ]
     },
     "metadata": {},
     "output_type": "display_data"
    },
    {
     "data": {
      "text/plain": [
       "{'electionId': ObjectId('7fffffff0000000000000002'),\n",
       " 'n': 1,\n",
       " 'nModified': 1,\n",
       " 'ok': 1.0,\n",
       " 'opTime': {'t': 2, 'ts': Timestamp(1505936762, 2)},\n",
       " 'updatedExisting': True}"
      ]
     },
     "metadata": {},
     "output_type": "display_data"
    },
    {
     "data": {
      "text/plain": [
       "{'electionId': ObjectId('7fffffff0000000000000002'),\n",
       " 'n': 1,\n",
       " 'nModified': 1,\n",
       " 'ok': 1.0,\n",
       " 'opTime': {'t': 2, 'ts': Timestamp(1505936763, 2)},\n",
       " 'updatedExisting': True}"
      ]
     },
     "metadata": {},
     "output_type": "display_data"
    },
    {
     "data": {
      "text/plain": [
       "{'electionId': ObjectId('7fffffff0000000000000002'),\n",
       " 'n': 1,\n",
       " 'nModified': 1,\n",
       " 'ok': 1.0,\n",
       " 'opTime': {'t': 2, 'ts': Timestamp(1505936764, 2)},\n",
       " 'updatedExisting': True}"
      ]
     },
     "metadata": {},
     "output_type": "display_data"
    },
    {
     "data": {
      "text/plain": [
       "{'electionId': ObjectId('7fffffff0000000000000002'),\n",
       " 'n': 1,\n",
       " 'nModified': 1,\n",
       " 'ok': 1.0,\n",
       " 'opTime': {'t': 2, 'ts': Timestamp(1505936765, 4)},\n",
       " 'updatedExisting': True}"
      ]
     },
     "metadata": {},
     "output_type": "display_data"
    },
    {
     "data": {
      "text/plain": [
       "{'electionId': ObjectId('7fffffff0000000000000002'),\n",
       " 'n': 1,\n",
       " 'nModified': 1,\n",
       " 'ok': 1.0,\n",
       " 'opTime': {'t': 2, 'ts': Timestamp(1505936766, 3)},\n",
       " 'updatedExisting': True}"
      ]
     },
     "metadata": {},
     "output_type": "display_data"
    },
    {
     "data": {
      "text/plain": [
       "{'electionId': ObjectId('7fffffff0000000000000002'),\n",
       " 'n': 1,\n",
       " 'nModified': 1,\n",
       " 'ok': 1.0,\n",
       " 'opTime': {'t': 2, 'ts': Timestamp(1505936767, 3)},\n",
       " 'updatedExisting': True}"
      ]
     },
     "metadata": {},
     "output_type": "display_data"
    },
    {
     "data": {
      "text/plain": [
       "{'electionId': ObjectId('7fffffff0000000000000002'),\n",
       " 'n': 1,\n",
       " 'nModified': 1,\n",
       " 'ok': 1.0,\n",
       " 'opTime': {'t': 2, 'ts': Timestamp(1505936769, 1)},\n",
       " 'updatedExisting': True}"
      ]
     },
     "metadata": {},
     "output_type": "display_data"
    },
    {
     "data": {
      "text/plain": [
       "{'electionId': ObjectId('7fffffff0000000000000002'),\n",
       " 'n': 1,\n",
       " 'nModified': 1,\n",
       " 'ok': 1.0,\n",
       " 'opTime': {'t': 2, 'ts': Timestamp(1505936770, 1)},\n",
       " 'updatedExisting': True}"
      ]
     },
     "metadata": {},
     "output_type": "display_data"
    },
    {
     "data": {
      "text/plain": [
       "{'electionId': ObjectId('7fffffff0000000000000002'),\n",
       " 'n': 1,\n",
       " 'nModified': 1,\n",
       " 'ok': 1.0,\n",
       " 'opTime': {'t': 2, 'ts': Timestamp(1505936771, 1)},\n",
       " 'updatedExisting': True}"
      ]
     },
     "metadata": {},
     "output_type": "display_data"
    },
    {
     "data": {
      "text/plain": [
       "{'electionId': ObjectId('7fffffff0000000000000002'),\n",
       " 'n': 1,\n",
       " 'nModified': 1,\n",
       " 'ok': 1.0,\n",
       " 'opTime': {'t': 2, 'ts': Timestamp(1505936772, 2)},\n",
       " 'updatedExisting': True}"
      ]
     },
     "metadata": {},
     "output_type": "display_data"
    },
    {
     "data": {
      "text/plain": [
       "{'electionId': ObjectId('7fffffff0000000000000002'),\n",
       " 'n': 1,\n",
       " 'nModified': 1,\n",
       " 'ok': 1.0,\n",
       " 'opTime': {'t': 2, 'ts': Timestamp(1505936773, 2)},\n",
       " 'updatedExisting': True}"
      ]
     },
     "metadata": {},
     "output_type": "display_data"
    },
    {
     "data": {
      "text/plain": [
       "{'electionId': ObjectId('7fffffff0000000000000002'),\n",
       " 'n': 1,\n",
       " 'nModified': 1,\n",
       " 'ok': 1.0,\n",
       " 'opTime': {'t': 2, 'ts': Timestamp(1505936775, 2)},\n",
       " 'updatedExisting': True}"
      ]
     },
     "metadata": {},
     "output_type": "display_data"
    },
    {
     "data": {
      "text/plain": [
       "{'electionId': ObjectId('7fffffff0000000000000002'),\n",
       " 'n': 1,\n",
       " 'nModified': 1,\n",
       " 'ok': 1.0,\n",
       " 'opTime': {'t': 2, 'ts': Timestamp(1505936776, 3)},\n",
       " 'updatedExisting': True}"
      ]
     },
     "metadata": {},
     "output_type": "display_data"
    },
    {
     "data": {
      "text/plain": [
       "{'electionId': ObjectId('7fffffff0000000000000002'),\n",
       " 'n': 1,\n",
       " 'nModified': 1,\n",
       " 'ok': 1.0,\n",
       " 'opTime': {'t': 2, 'ts': Timestamp(1505936777, 3)},\n",
       " 'updatedExisting': True}"
      ]
     },
     "metadata": {},
     "output_type": "display_data"
    },
    {
     "data": {
      "text/plain": [
       "{'electionId': ObjectId('7fffffff0000000000000002'),\n",
       " 'n': 1,\n",
       " 'nModified': 1,\n",
       " 'ok': 1.0,\n",
       " 'opTime': {'t': 2, 'ts': Timestamp(1505936780, 2)},\n",
       " 'updatedExisting': True}"
      ]
     },
     "metadata": {},
     "output_type": "display_data"
    },
    {
     "data": {
      "text/plain": [
       "{'electionId': ObjectId('7fffffff0000000000000002'),\n",
       " 'n': 1,\n",
       " 'nModified': 1,\n",
       " 'ok': 1.0,\n",
       " 'opTime': {'t': 2, 'ts': Timestamp(1505936781, 2)},\n",
       " 'updatedExisting': True}"
      ]
     },
     "metadata": {},
     "output_type": "display_data"
    },
    {
     "data": {
      "text/plain": [
       "{'electionId': ObjectId('7fffffff0000000000000002'),\n",
       " 'n': 1,\n",
       " 'nModified': 1,\n",
       " 'ok': 1.0,\n",
       " 'opTime': {'t': 2, 'ts': Timestamp(1505936783, 2)},\n",
       " 'updatedExisting': True}"
      ]
     },
     "metadata": {},
     "output_type": "display_data"
    },
    {
     "data": {
      "text/plain": [
       "{'electionId': ObjectId('7fffffff0000000000000002'),\n",
       " 'n': 1,\n",
       " 'nModified': 1,\n",
       " 'ok': 1.0,\n",
       " 'opTime': {'t': 2, 'ts': Timestamp(1505936784, 2)},\n",
       " 'updatedExisting': True}"
      ]
     },
     "metadata": {},
     "output_type": "display_data"
    },
    {
     "data": {
      "text/plain": [
       "{'electionId': ObjectId('7fffffff0000000000000002'),\n",
       " 'n': 1,\n",
       " 'nModified': 1,\n",
       " 'ok': 1.0,\n",
       " 'opTime': {'t': 2, 'ts': Timestamp(1505936785, 3)},\n",
       " 'updatedExisting': True}"
      ]
     },
     "metadata": {},
     "output_type": "display_data"
    },
    {
     "data": {
      "text/plain": [
       "{'electionId': ObjectId('7fffffff0000000000000002'),\n",
       " 'n': 1,\n",
       " 'nModified': 1,\n",
       " 'ok': 1.0,\n",
       " 'opTime': {'t': 2, 'ts': Timestamp(1505936787, 2)},\n",
       " 'updatedExisting': True}"
      ]
     },
     "metadata": {},
     "output_type": "display_data"
    },
    {
     "data": {
      "text/plain": [
       "{'electionId': ObjectId('7fffffff0000000000000002'),\n",
       " 'n': 1,\n",
       " 'nModified': 1,\n",
       " 'ok': 1.0,\n",
       " 'opTime': {'t': 2, 'ts': Timestamp(1505936788, 3)},\n",
       " 'updatedExisting': True}"
      ]
     },
     "metadata": {},
     "output_type": "display_data"
    },
    {
     "data": {
      "text/plain": [
       "{'electionId': ObjectId('7fffffff0000000000000002'),\n",
       " 'n': 1,\n",
       " 'nModified': 1,\n",
       " 'ok': 1.0,\n",
       " 'opTime': {'t': 2, 'ts': Timestamp(1505936796, 4)},\n",
       " 'updatedExisting': True}"
      ]
     },
     "metadata": {},
     "output_type": "display_data"
    },
    {
     "data": {
      "text/plain": [
       "{'electionId': ObjectId('7fffffff0000000000000002'),\n",
       " 'n': 1,\n",
       " 'nModified': 1,\n",
       " 'ok': 1.0,\n",
       " 'opTime': {'t': 2, 'ts': Timestamp(1505936797, 3)},\n",
       " 'updatedExisting': True}"
      ]
     },
     "metadata": {},
     "output_type": "display_data"
    },
    {
     "data": {
      "text/plain": [
       "{'electionId': ObjectId('7fffffff0000000000000002'),\n",
       " 'n': 1,\n",
       " 'nModified': 1,\n",
       " 'ok': 1.0,\n",
       " 'opTime': {'t': 2, 'ts': Timestamp(1505936798, 2)},\n",
       " 'updatedExisting': True}"
      ]
     },
     "metadata": {},
     "output_type": "display_data"
    },
    {
     "data": {
      "text/plain": [
       "{'electionId': ObjectId('7fffffff0000000000000002'),\n",
       " 'n': 1,\n",
       " 'nModified': 1,\n",
       " 'ok': 1.0,\n",
       " 'opTime': {'t': 2, 'ts': Timestamp(1505936798, 5)},\n",
       " 'updatedExisting': True}"
      ]
     },
     "metadata": {},
     "output_type": "display_data"
    },
    {
     "data": {
      "text/plain": [
       "{'electionId': ObjectId('7fffffff0000000000000002'),\n",
       " 'n': 1,\n",
       " 'nModified': 1,\n",
       " 'ok': 1.0,\n",
       " 'opTime': {'t': 2, 'ts': Timestamp(1505936799, 2)},\n",
       " 'updatedExisting': True}"
      ]
     },
     "metadata": {},
     "output_type": "display_data"
    },
    {
     "data": {
      "text/plain": [
       "{'electionId': ObjectId('7fffffff0000000000000002'),\n",
       " 'n': 1,\n",
       " 'nModified': 1,\n",
       " 'ok': 1.0,\n",
       " 'opTime': {'t': 2, 'ts': Timestamp(1505936800, 1)},\n",
       " 'updatedExisting': True}"
      ]
     },
     "metadata": {},
     "output_type": "display_data"
    },
    {
     "data": {
      "text/plain": [
       "{'electionId': ObjectId('7fffffff0000000000000002'),\n",
       " 'n': 1,\n",
       " 'nModified': 1,\n",
       " 'ok': 1.0,\n",
       " 'opTime': {'t': 2, 'ts': Timestamp(1505936801, 1)},\n",
       " 'updatedExisting': True}"
      ]
     },
     "metadata": {},
     "output_type": "display_data"
    },
    {
     "data": {
      "text/plain": [
       "{'electionId': ObjectId('7fffffff0000000000000002'),\n",
       " 'n': 1,\n",
       " 'nModified': 1,\n",
       " 'ok': 1.0,\n",
       " 'opTime': {'t': 2, 'ts': Timestamp(1505936801, 4)},\n",
       " 'updatedExisting': True}"
      ]
     },
     "metadata": {},
     "output_type": "display_data"
    },
    {
     "data": {
      "text/plain": [
       "{'electionId': ObjectId('7fffffff0000000000000002'),\n",
       " 'n': 1,\n",
       " 'nModified': 1,\n",
       " 'ok': 1.0,\n",
       " 'opTime': {'t': 2, 'ts': Timestamp(1505936802, 3)},\n",
       " 'updatedExisting': True}"
      ]
     },
     "metadata": {},
     "output_type": "display_data"
    },
    {
     "data": {
      "text/plain": [
       "{'electionId': ObjectId('7fffffff0000000000000002'),\n",
       " 'n': 1,\n",
       " 'nModified': 1,\n",
       " 'ok': 1.0,\n",
       " 'opTime': {'t': 2, 'ts': Timestamp(1505936803, 2)},\n",
       " 'updatedExisting': True}"
      ]
     },
     "metadata": {},
     "output_type": "display_data"
    },
    {
     "data": {
      "text/plain": [
       "{'electionId': ObjectId('7fffffff0000000000000002'),\n",
       " 'n': 1,\n",
       " 'nModified': 1,\n",
       " 'ok': 1.0,\n",
       " 'opTime': {'t': 2, 'ts': Timestamp(1505936804, 2)},\n",
       " 'updatedExisting': True}"
      ]
     },
     "metadata": {},
     "output_type": "display_data"
    },
    {
     "data": {
      "text/plain": [
       "{'electionId': ObjectId('7fffffff0000000000000002'),\n",
       " 'n': 1,\n",
       " 'nModified': 1,\n",
       " 'ok': 1.0,\n",
       " 'opTime': {'t': 2, 'ts': Timestamp(1505936805, 3)},\n",
       " 'updatedExisting': True}"
      ]
     },
     "metadata": {},
     "output_type": "display_data"
    },
    {
     "data": {
      "text/plain": [
       "{'electionId': ObjectId('7fffffff0000000000000002'),\n",
       " 'n': 1,\n",
       " 'nModified': 1,\n",
       " 'ok': 1.0,\n",
       " 'opTime': {'t': 2, 'ts': Timestamp(1505936806, 3)},\n",
       " 'updatedExisting': True}"
      ]
     },
     "metadata": {},
     "output_type": "display_data"
    },
    {
     "data": {
      "text/plain": [
       "{'electionId': ObjectId('7fffffff0000000000000002'),\n",
       " 'n': 1,\n",
       " 'nModified': 1,\n",
       " 'ok': 1.0,\n",
       " 'opTime': {'t': 2, 'ts': Timestamp(1505936807, 2)},\n",
       " 'updatedExisting': True}"
      ]
     },
     "metadata": {},
     "output_type": "display_data"
    },
    {
     "data": {
      "text/plain": [
       "{'electionId': ObjectId('7fffffff0000000000000002'),\n",
       " 'n': 1,\n",
       " 'nModified': 1,\n",
       " 'ok': 1.0,\n",
       " 'opTime': {'t': 2, 'ts': Timestamp(1505936809, 1)},\n",
       " 'updatedExisting': True}"
      ]
     },
     "metadata": {},
     "output_type": "display_data"
    },
    {
     "data": {
      "text/plain": [
       "{'electionId': ObjectId('7fffffff0000000000000002'),\n",
       " 'n': 1,\n",
       " 'nModified': 1,\n",
       " 'ok': 1.0,\n",
       " 'opTime': {'t': 2, 'ts': Timestamp(1505936810, 2)},\n",
       " 'updatedExisting': True}"
      ]
     },
     "metadata": {},
     "output_type": "display_data"
    },
    {
     "data": {
      "text/plain": [
       "{'electionId': ObjectId('7fffffff0000000000000002'),\n",
       " 'n': 1,\n",
       " 'nModified': 1,\n",
       " 'ok': 1.0,\n",
       " 'opTime': {'t': 2, 'ts': Timestamp(1505936811, 1)},\n",
       " 'updatedExisting': True}"
      ]
     },
     "metadata": {},
     "output_type": "display_data"
    },
    {
     "data": {
      "text/plain": [
       "{'electionId': ObjectId('7fffffff0000000000000002'),\n",
       " 'n': 1,\n",
       " 'nModified': 1,\n",
       " 'ok': 1.0,\n",
       " 'opTime': {'t': 2, 'ts': Timestamp(1505936812, 3)},\n",
       " 'updatedExisting': True}"
      ]
     },
     "metadata": {},
     "output_type": "display_data"
    },
    {
     "data": {
      "text/plain": [
       "{'electionId': ObjectId('7fffffff0000000000000002'),\n",
       " 'n': 1,\n",
       " 'nModified': 1,\n",
       " 'ok': 1.0,\n",
       " 'opTime': {'t': 2, 'ts': Timestamp(1505936814, 2)},\n",
       " 'updatedExisting': True}"
      ]
     },
     "metadata": {},
     "output_type": "display_data"
    },
    {
     "data": {
      "text/plain": [
       "{'electionId': ObjectId('7fffffff0000000000000002'),\n",
       " 'n': 1,\n",
       " 'nModified': 1,\n",
       " 'ok': 1.0,\n",
       " 'opTime': {'t': 2, 'ts': Timestamp(1505936815, 3)},\n",
       " 'updatedExisting': True}"
      ]
     },
     "metadata": {},
     "output_type": "display_data"
    },
    {
     "data": {
      "text/plain": [
       "{'electionId': ObjectId('7fffffff0000000000000002'),\n",
       " 'n': 1,\n",
       " 'nModified': 1,\n",
       " 'ok': 1.0,\n",
       " 'opTime': {'t': 2, 'ts': Timestamp(1505936817, 1)},\n",
       " 'updatedExisting': True}"
      ]
     },
     "metadata": {},
     "output_type": "display_data"
    },
    {
     "data": {
      "text/plain": [
       "{'electionId': ObjectId('7fffffff0000000000000002'),\n",
       " 'n': 1,\n",
       " 'nModified': 1,\n",
       " 'ok': 1.0,\n",
       " 'opTime': {'t': 2, 'ts': Timestamp(1505936818, 1)},\n",
       " 'updatedExisting': True}"
      ]
     },
     "metadata": {},
     "output_type": "display_data"
    },
    {
     "data": {
      "text/plain": [
       "{'electionId': ObjectId('7fffffff0000000000000002'),\n",
       " 'n': 1,\n",
       " 'nModified': 1,\n",
       " 'ok': 1.0,\n",
       " 'opTime': {'t': 2, 'ts': Timestamp(1505936822, 3)},\n",
       " 'updatedExisting': True}"
      ]
     },
     "metadata": {},
     "output_type": "display_data"
    },
    {
     "data": {
      "text/plain": [
       "{'electionId': ObjectId('7fffffff0000000000000002'),\n",
       " 'n': 1,\n",
       " 'nModified': 1,\n",
       " 'ok': 1.0,\n",
       " 'opTime': {'t': 2, 'ts': Timestamp(1505936823, 3)},\n",
       " 'updatedExisting': True}"
      ]
     },
     "metadata": {},
     "output_type": "display_data"
    },
    {
     "data": {
      "text/plain": [
       "{'electionId': ObjectId('7fffffff0000000000000002'),\n",
       " 'n': 1,\n",
       " 'nModified': 1,\n",
       " 'ok': 1.0,\n",
       " 'opTime': {'t': 2, 'ts': Timestamp(1505936824, 3)},\n",
       " 'updatedExisting': True}"
      ]
     },
     "metadata": {},
     "output_type": "display_data"
    },
    {
     "data": {
      "text/plain": [
       "{'electionId': ObjectId('7fffffff0000000000000002'),\n",
       " 'n': 1,\n",
       " 'nModified': 1,\n",
       " 'ok': 1.0,\n",
       " 'opTime': {'t': 2, 'ts': Timestamp(1505936826, 1)},\n",
       " 'updatedExisting': True}"
      ]
     },
     "metadata": {},
     "output_type": "display_data"
    },
    {
     "data": {
      "text/plain": [
       "{'electionId': ObjectId('7fffffff0000000000000002'),\n",
       " 'n': 1,\n",
       " 'nModified': 1,\n",
       " 'ok': 1.0,\n",
       " 'opTime': {'t': 2, 'ts': Timestamp(1505936827, 3)},\n",
       " 'updatedExisting': True}"
      ]
     },
     "metadata": {},
     "output_type": "display_data"
    },
    {
     "data": {
      "text/plain": [
       "{'electionId': ObjectId('7fffffff0000000000000002'),\n",
       " 'n': 1,\n",
       " 'nModified': 1,\n",
       " 'ok': 1.0,\n",
       " 'opTime': {'t': 2, 'ts': Timestamp(1505936828, 2)},\n",
       " 'updatedExisting': True}"
      ]
     },
     "metadata": {},
     "output_type": "display_data"
    },
    {
     "data": {
      "text/plain": [
       "{'electionId': ObjectId('7fffffff0000000000000002'),\n",
       " 'n': 1,\n",
       " 'nModified': 1,\n",
       " 'ok': 1.0,\n",
       " 'opTime': {'t': 2, 'ts': Timestamp(1505936829, 1)},\n",
       " 'updatedExisting': True}"
      ]
     },
     "metadata": {},
     "output_type": "display_data"
    },
    {
     "data": {
      "text/plain": [
       "{'electionId': ObjectId('7fffffff0000000000000002'),\n",
       " 'n': 1,\n",
       " 'nModified': 1,\n",
       " 'ok': 1.0,\n",
       " 'opTime': {'t': 2, 'ts': Timestamp(1505936829, 4)},\n",
       " 'updatedExisting': True}"
      ]
     },
     "metadata": {},
     "output_type": "display_data"
    },
    {
     "data": {
      "text/plain": [
       "{'electionId': ObjectId('7fffffff0000000000000002'),\n",
       " 'n': 1,\n",
       " 'nModified': 1,\n",
       " 'ok': 1.0,\n",
       " 'opTime': {'t': 2, 'ts': Timestamp(1505936830, 2)},\n",
       " 'updatedExisting': True}"
      ]
     },
     "metadata": {},
     "output_type": "display_data"
    },
    {
     "data": {
      "text/plain": [
       "{'electionId': ObjectId('7fffffff0000000000000002'),\n",
       " 'n': 1,\n",
       " 'nModified': 1,\n",
       " 'ok': 1.0,\n",
       " 'opTime': {'t': 2, 'ts': Timestamp(1505936830, 5)},\n",
       " 'updatedExisting': True}"
      ]
     },
     "metadata": {},
     "output_type": "display_data"
    },
    {
     "data": {
      "text/plain": [
       "{'electionId': ObjectId('7fffffff0000000000000002'),\n",
       " 'n': 1,\n",
       " 'nModified': 1,\n",
       " 'ok': 1.0,\n",
       " 'opTime': {'t': 2, 'ts': Timestamp(1505936831, 2)},\n",
       " 'updatedExisting': True}"
      ]
     },
     "metadata": {},
     "output_type": "display_data"
    },
    {
     "data": {
      "text/plain": [
       "{'electionId': ObjectId('7fffffff0000000000000002'),\n",
       " 'n': 1,\n",
       " 'nModified': 1,\n",
       " 'ok': 1.0,\n",
       " 'opTime': {'t': 2, 'ts': Timestamp(1505936831, 5)},\n",
       " 'updatedExisting': True}"
      ]
     },
     "metadata": {},
     "output_type": "display_data"
    },
    {
     "data": {
      "text/plain": [
       "{'electionId': ObjectId('7fffffff0000000000000002'),\n",
       " 'n': 1,\n",
       " 'nModified': 1,\n",
       " 'ok': 1.0,\n",
       " 'opTime': {'t': 2, 'ts': Timestamp(1505936832, 2)},\n",
       " 'updatedExisting': True}"
      ]
     },
     "metadata": {},
     "output_type": "display_data"
    },
    {
     "data": {
      "text/plain": [
       "{'electionId': ObjectId('7fffffff0000000000000002'),\n",
       " 'n': 1,\n",
       " 'nModified': 1,\n",
       " 'ok': 1.0,\n",
       " 'opTime': {'t': 2, 'ts': Timestamp(1505936833, 2)},\n",
       " 'updatedExisting': True}"
      ]
     },
     "metadata": {},
     "output_type": "display_data"
    },
    {
     "data": {
      "text/plain": [
       "{'electionId': ObjectId('7fffffff0000000000000002'),\n",
       " 'n': 1,\n",
       " 'nModified': 1,\n",
       " 'ok': 1.0,\n",
       " 'opTime': {'t': 2, 'ts': Timestamp(1505936834, 2)},\n",
       " 'updatedExisting': True}"
      ]
     },
     "metadata": {},
     "output_type": "display_data"
    },
    {
     "data": {
      "text/plain": [
       "{'electionId': ObjectId('7fffffff0000000000000002'),\n",
       " 'n': 1,\n",
       " 'nModified': 1,\n",
       " 'ok': 1.0,\n",
       " 'opTime': {'t': 2, 'ts': Timestamp(1505936835, 2)},\n",
       " 'updatedExisting': True}"
      ]
     },
     "metadata": {},
     "output_type": "display_data"
    },
    {
     "data": {
      "text/plain": [
       "{'electionId': ObjectId('7fffffff0000000000000002'),\n",
       " 'n': 1,\n",
       " 'nModified': 1,\n",
       " 'ok': 1.0,\n",
       " 'opTime': {'t': 2, 'ts': Timestamp(1505936836, 2)},\n",
       " 'updatedExisting': True}"
      ]
     },
     "metadata": {},
     "output_type": "display_data"
    },
    {
     "data": {
      "text/plain": [
       "{'electionId': ObjectId('7fffffff0000000000000002'),\n",
       " 'n': 1,\n",
       " 'nModified': 1,\n",
       " 'ok': 1.0,\n",
       " 'opTime': {'t': 2, 'ts': Timestamp(1505936837, 3)},\n",
       " 'updatedExisting': True}"
      ]
     },
     "metadata": {},
     "output_type": "display_data"
    },
    {
     "data": {
      "text/plain": [
       "{'electionId': ObjectId('7fffffff0000000000000002'),\n",
       " 'n': 1,\n",
       " 'nModified': 1,\n",
       " 'ok': 1.0,\n",
       " 'opTime': {'t': 2, 'ts': Timestamp(1505936838, 3)},\n",
       " 'updatedExisting': True}"
      ]
     },
     "metadata": {},
     "output_type": "display_data"
    },
    {
     "data": {
      "text/plain": [
       "{'electionId': ObjectId('7fffffff0000000000000002'),\n",
       " 'n': 1,\n",
       " 'nModified': 1,\n",
       " 'ok': 1.0,\n",
       " 'opTime': {'t': 2, 'ts': Timestamp(1505936839, 2)},\n",
       " 'updatedExisting': True}"
      ]
     },
     "metadata": {},
     "output_type": "display_data"
    },
    {
     "data": {
      "text/plain": [
       "{'electionId': ObjectId('7fffffff0000000000000002'),\n",
       " 'n': 1,\n",
       " 'nModified': 1,\n",
       " 'ok': 1.0,\n",
       " 'opTime': {'t': 2, 'ts': Timestamp(1505936840, 2)},\n",
       " 'updatedExisting': True}"
      ]
     },
     "metadata": {},
     "output_type": "display_data"
    },
    {
     "data": {
      "text/plain": [
       "{'electionId': ObjectId('7fffffff0000000000000002'),\n",
       " 'n': 1,\n",
       " 'nModified': 1,\n",
       " 'ok': 1.0,\n",
       " 'opTime': {'t': 2, 'ts': Timestamp(1505936841, 1)},\n",
       " 'updatedExisting': True}"
      ]
     },
     "metadata": {},
     "output_type": "display_data"
    },
    {
     "data": {
      "text/plain": [
       "{'electionId': ObjectId('7fffffff0000000000000002'),\n",
       " 'n': 1,\n",
       " 'nModified': 1,\n",
       " 'ok': 1.0,\n",
       " 'opTime': {'t': 2, 'ts': Timestamp(1505936841, 4)},\n",
       " 'updatedExisting': True}"
      ]
     },
     "metadata": {},
     "output_type": "display_data"
    },
    {
     "data": {
      "text/plain": [
       "{'electionId': ObjectId('7fffffff0000000000000002'),\n",
       " 'n': 1,\n",
       " 'nModified': 1,\n",
       " 'ok': 1.0,\n",
       " 'opTime': {'t': 2, 'ts': Timestamp(1505936842, 3)},\n",
       " 'updatedExisting': True}"
      ]
     },
     "metadata": {},
     "output_type": "display_data"
    },
    {
     "data": {
      "text/plain": [
       "{'electionId': ObjectId('7fffffff0000000000000002'),\n",
       " 'n': 1,\n",
       " 'nModified': 1,\n",
       " 'ok': 1.0,\n",
       " 'opTime': {'t': 2, 'ts': Timestamp(1505936843, 2)},\n",
       " 'updatedExisting': True}"
      ]
     },
     "metadata": {},
     "output_type": "display_data"
    },
    {
     "data": {
      "text/plain": [
       "{'electionId': ObjectId('7fffffff0000000000000002'),\n",
       " 'n': 1,\n",
       " 'nModified': 1,\n",
       " 'ok': 1.0,\n",
       " 'opTime': {'t': 2, 'ts': Timestamp(1505936843, 4)},\n",
       " 'updatedExisting': True}"
      ]
     },
     "metadata": {},
     "output_type": "display_data"
    },
    {
     "data": {
      "text/plain": [
       "{'electionId': ObjectId('7fffffff0000000000000002'),\n",
       " 'n': 1,\n",
       " 'nModified': 1,\n",
       " 'ok': 1.0,\n",
       " 'opTime': {'t': 2, 'ts': Timestamp(1505936844, 1)},\n",
       " 'updatedExisting': True}"
      ]
     },
     "metadata": {},
     "output_type": "display_data"
    },
    {
     "data": {
      "text/plain": [
       "{'electionId': ObjectId('7fffffff0000000000000002'),\n",
       " 'n': 1,\n",
       " 'nModified': 1,\n",
       " 'ok': 1.0,\n",
       " 'opTime': {'t': 2, 'ts': Timestamp(1505936844, 4)},\n",
       " 'updatedExisting': True}"
      ]
     },
     "metadata": {},
     "output_type": "display_data"
    },
    {
     "data": {
      "text/plain": [
       "{'electionId': ObjectId('7fffffff0000000000000002'),\n",
       " 'n': 1,\n",
       " 'nModified': 1,\n",
       " 'ok': 1.0,\n",
       " 'opTime': {'t': 2, 'ts': Timestamp(1505936845, 1)},\n",
       " 'updatedExisting': True}"
      ]
     },
     "metadata": {},
     "output_type": "display_data"
    },
    {
     "data": {
      "text/plain": [
       "{'electionId': ObjectId('7fffffff0000000000000002'),\n",
       " 'n': 1,\n",
       " 'nModified': 1,\n",
       " 'ok': 1.0,\n",
       " 'opTime': {'t': 2, 'ts': Timestamp(1505936845, 4)},\n",
       " 'updatedExisting': True}"
      ]
     },
     "metadata": {},
     "output_type": "display_data"
    },
    {
     "data": {
      "text/plain": [
       "{'electionId': ObjectId('7fffffff0000000000000002'),\n",
       " 'n': 1,\n",
       " 'nModified': 1,\n",
       " 'ok': 1.0,\n",
       " 'opTime': {'t': 2, 'ts': Timestamp(1505936845, 7)},\n",
       " 'updatedExisting': True}"
      ]
     },
     "metadata": {},
     "output_type": "display_data"
    },
    {
     "data": {
      "text/plain": [
       "{'electionId': ObjectId('7fffffff0000000000000002'),\n",
       " 'n': 1,\n",
       " 'nModified': 1,\n",
       " 'ok': 1.0,\n",
       " 'opTime': {'t': 2, 'ts': Timestamp(1505936846, 2)},\n",
       " 'updatedExisting': True}"
      ]
     },
     "metadata": {},
     "output_type": "display_data"
    },
    {
     "data": {
      "text/plain": [
       "{'electionId': ObjectId('7fffffff0000000000000002'),\n",
       " 'n': 1,\n",
       " 'nModified': 1,\n",
       " 'ok': 1.0,\n",
       " 'opTime': {'t': 2, 'ts': Timestamp(1505936846, 5)},\n",
       " 'updatedExisting': True}"
      ]
     },
     "metadata": {},
     "output_type": "display_data"
    },
    {
     "data": {
      "text/plain": [
       "{'electionId': ObjectId('7fffffff0000000000000002'),\n",
       " 'n': 1,\n",
       " 'nModified': 1,\n",
       " 'ok': 1.0,\n",
       " 'opTime': {'t': 2, 'ts': Timestamp(1505936847, 4)},\n",
       " 'updatedExisting': True}"
      ]
     },
     "metadata": {},
     "output_type": "display_data"
    },
    {
     "data": {
      "text/plain": [
       "{'electionId': ObjectId('7fffffff0000000000000002'),\n",
       " 'n': 1,\n",
       " 'nModified': 1,\n",
       " 'ok': 1.0,\n",
       " 'opTime': {'t': 2, 'ts': Timestamp(1505936848, 2)},\n",
       " 'updatedExisting': True}"
      ]
     },
     "metadata": {},
     "output_type": "display_data"
    },
    {
     "data": {
      "text/plain": [
       "{'electionId': ObjectId('7fffffff0000000000000002'),\n",
       " 'n': 1,\n",
       " 'nModified': 1,\n",
       " 'ok': 1.0,\n",
       " 'opTime': {'t': 2, 'ts': Timestamp(1505936848, 6)},\n",
       " 'updatedExisting': True}"
      ]
     },
     "metadata": {},
     "output_type": "display_data"
    },
    {
     "data": {
      "text/plain": [
       "{'electionId': ObjectId('7fffffff0000000000000002'),\n",
       " 'n': 1,\n",
       " 'nModified': 1,\n",
       " 'ok': 1.0,\n",
       " 'opTime': {'t': 2, 'ts': Timestamp(1505936849, 3)},\n",
       " 'updatedExisting': True}"
      ]
     },
     "metadata": {},
     "output_type": "display_data"
    },
    {
     "data": {
      "text/plain": [
       "{'electionId': ObjectId('7fffffff0000000000000002'),\n",
       " 'n': 1,\n",
       " 'nModified': 1,\n",
       " 'ok': 1.0,\n",
       " 'opTime': {'t': 2, 'ts': Timestamp(1505936850, 2)},\n",
       " 'updatedExisting': True}"
      ]
     },
     "metadata": {},
     "output_type": "display_data"
    },
    {
     "data": {
      "text/plain": [
       "{'electionId': ObjectId('7fffffff0000000000000002'),\n",
       " 'n': 1,\n",
       " 'nModified': 1,\n",
       " 'ok': 1.0,\n",
       " 'opTime': {'t': 2, 'ts': Timestamp(1505936851, 2)},\n",
       " 'updatedExisting': True}"
      ]
     },
     "metadata": {},
     "output_type": "display_data"
    },
    {
     "data": {
      "text/plain": [
       "{'electionId': ObjectId('7fffffff0000000000000002'),\n",
       " 'n': 1,\n",
       " 'nModified': 1,\n",
       " 'ok': 1.0,\n",
       " 'opTime': {'t': 2, 'ts': Timestamp(1505936852, 3)},\n",
       " 'updatedExisting': True}"
      ]
     },
     "metadata": {},
     "output_type": "display_data"
    },
    {
     "data": {
      "text/plain": [
       "{'electionId': ObjectId('7fffffff0000000000000002'),\n",
       " 'n': 1,\n",
       " 'nModified': 1,\n",
       " 'ok': 1.0,\n",
       " 'opTime': {'t': 2, 'ts': Timestamp(1505936854, 2)},\n",
       " 'updatedExisting': True}"
      ]
     },
     "metadata": {},
     "output_type": "display_data"
    },
    {
     "data": {
      "text/plain": [
       "{'electionId': ObjectId('7fffffff0000000000000002'),\n",
       " 'n': 1,\n",
       " 'nModified': 1,\n",
       " 'ok': 1.0,\n",
       " 'opTime': {'t': 2, 'ts': Timestamp(1505936855, 2)},\n",
       " 'updatedExisting': True}"
      ]
     },
     "metadata": {},
     "output_type": "display_data"
    },
    {
     "data": {
      "text/plain": [
       "{'electionId': ObjectId('7fffffff0000000000000002'),\n",
       " 'n': 1,\n",
       " 'nModified': 1,\n",
       " 'ok': 1.0,\n",
       " 'opTime': {'t': 2, 'ts': Timestamp(1505936857, 1)},\n",
       " 'updatedExisting': True}"
      ]
     },
     "metadata": {},
     "output_type": "display_data"
    },
    {
     "data": {
      "text/plain": [
       "{'electionId': ObjectId('7fffffff0000000000000002'),\n",
       " 'n': 1,\n",
       " 'nModified': 1,\n",
       " 'ok': 1.0,\n",
       " 'opTime': {'t': 2, 'ts': Timestamp(1505936858, 2)},\n",
       " 'updatedExisting': True}"
      ]
     },
     "metadata": {},
     "output_type": "display_data"
    },
    {
     "data": {
      "text/plain": [
       "{'electionId': ObjectId('7fffffff0000000000000002'),\n",
       " 'n': 1,\n",
       " 'nModified': 1,\n",
       " 'ok': 1.0,\n",
       " 'opTime': {'t': 2, 'ts': Timestamp(1505936859, 3)},\n",
       " 'updatedExisting': True}"
      ]
     },
     "metadata": {},
     "output_type": "display_data"
    },
    {
     "data": {
      "text/plain": [
       "{'electionId': ObjectId('7fffffff0000000000000002'),\n",
       " 'n': 1,\n",
       " 'nModified': 1,\n",
       " 'ok': 1.0,\n",
       " 'opTime': {'t': 2, 'ts': Timestamp(1505936861, 2)},\n",
       " 'updatedExisting': True}"
      ]
     },
     "metadata": {},
     "output_type": "display_data"
    },
    {
     "data": {
      "text/plain": [
       "{'electionId': ObjectId('7fffffff0000000000000002'),\n",
       " 'n': 1,\n",
       " 'nModified': 1,\n",
       " 'ok': 1.0,\n",
       " 'opTime': {'t': 2, 'ts': Timestamp(1505936862, 1)},\n",
       " 'updatedExisting': True}"
      ]
     },
     "metadata": {},
     "output_type": "display_data"
    },
    {
     "data": {
      "text/plain": [
       "{'electionId': ObjectId('7fffffff0000000000000002'),\n",
       " 'n': 1,\n",
       " 'nModified': 1,\n",
       " 'ok': 1.0,\n",
       " 'opTime': {'t': 2, 'ts': Timestamp(1505936862, 4)},\n",
       " 'updatedExisting': True}"
      ]
     },
     "metadata": {},
     "output_type": "display_data"
    },
    {
     "data": {
      "text/plain": [
       "{'electionId': ObjectId('7fffffff0000000000000002'),\n",
       " 'n': 1,\n",
       " 'nModified': 1,\n",
       " 'ok': 1.0,\n",
       " 'opTime': {'t': 2, 'ts': Timestamp(1505936863, 1)},\n",
       " 'updatedExisting': True}"
      ]
     },
     "metadata": {},
     "output_type": "display_data"
    },
    {
     "data": {
      "text/plain": [
       "{'electionId': ObjectId('7fffffff0000000000000002'),\n",
       " 'n': 1,\n",
       " 'nModified': 1,\n",
       " 'ok': 1.0,\n",
       " 'opTime': {'t': 2, 'ts': Timestamp(1505936864, 1)},\n",
       " 'updatedExisting': True}"
      ]
     },
     "metadata": {},
     "output_type": "display_data"
    },
    {
     "data": {
      "text/plain": [
       "{'electionId': ObjectId('7fffffff0000000000000002'),\n",
       " 'n': 1,\n",
       " 'nModified': 1,\n",
       " 'ok': 1.0,\n",
       " 'opTime': {'t': 2, 'ts': Timestamp(1505936865, 1)},\n",
       " 'updatedExisting': True}"
      ]
     },
     "metadata": {},
     "output_type": "display_data"
    },
    {
     "data": {
      "text/plain": [
       "{'electionId': ObjectId('7fffffff0000000000000002'),\n",
       " 'n': 1,\n",
       " 'nModified': 1,\n",
       " 'ok': 1.0,\n",
       " 'opTime': {'t': 2, 'ts': Timestamp(1505936866, 1)},\n",
       " 'updatedExisting': True}"
      ]
     },
     "metadata": {},
     "output_type": "display_data"
    },
    {
     "data": {
      "text/plain": [
       "{'electionId': ObjectId('7fffffff0000000000000002'),\n",
       " 'n': 1,\n",
       " 'nModified': 1,\n",
       " 'ok': 1.0,\n",
       " 'opTime': {'t': 2, 'ts': Timestamp(1505936867, 3)},\n",
       " 'updatedExisting': True}"
      ]
     },
     "metadata": {},
     "output_type": "display_data"
    },
    {
     "data": {
      "text/plain": [
       "{'electionId': ObjectId('7fffffff0000000000000002'),\n",
       " 'n': 1,\n",
       " 'nModified': 1,\n",
       " 'ok': 1.0,\n",
       " 'opTime': {'t': 2, 'ts': Timestamp(1505936868, 3)},\n",
       " 'updatedExisting': True}"
      ]
     },
     "metadata": {},
     "output_type": "display_data"
    },
    {
     "data": {
      "text/plain": [
       "{'electionId': ObjectId('7fffffff0000000000000002'),\n",
       " 'n': 1,\n",
       " 'nModified': 1,\n",
       " 'ok': 1.0,\n",
       " 'opTime': {'t': 2, 'ts': Timestamp(1505936869, 3)},\n",
       " 'updatedExisting': True}"
      ]
     },
     "metadata": {},
     "output_type": "display_data"
    },
    {
     "data": {
      "text/plain": [
       "{'electionId': ObjectId('7fffffff0000000000000002'),\n",
       " 'n': 1,\n",
       " 'nModified': 1,\n",
       " 'ok': 1.0,\n",
       " 'opTime': {'t': 2, 'ts': Timestamp(1505936870, 3)},\n",
       " 'updatedExisting': True}"
      ]
     },
     "metadata": {},
     "output_type": "display_data"
    },
    {
     "data": {
      "text/plain": [
       "{'electionId': ObjectId('7fffffff0000000000000002'),\n",
       " 'n': 1,\n",
       " 'nModified': 1,\n",
       " 'ok': 1.0,\n",
       " 'opTime': {'t': 2, 'ts': Timestamp(1505936872, 1)},\n",
       " 'updatedExisting': True}"
      ]
     },
     "metadata": {},
     "output_type": "display_data"
    },
    {
     "data": {
      "text/plain": [
       "{'electionId': ObjectId('7fffffff0000000000000002'),\n",
       " 'n': 1,\n",
       " 'nModified': 1,\n",
       " 'ok': 1.0,\n",
       " 'opTime': {'t': 2, 'ts': Timestamp(1505936873, 1)},\n",
       " 'updatedExisting': True}"
      ]
     },
     "metadata": {},
     "output_type": "display_data"
    },
    {
     "data": {
      "text/plain": [
       "{'electionId': ObjectId('7fffffff0000000000000002'),\n",
       " 'n': 1,\n",
       " 'nModified': 1,\n",
       " 'ok': 1.0,\n",
       " 'opTime': {'t': 2, 'ts': Timestamp(1505936874, 3)},\n",
       " 'updatedExisting': True}"
      ]
     },
     "metadata": {},
     "output_type": "display_data"
    },
    {
     "data": {
      "text/plain": [
       "{'electionId': ObjectId('7fffffff0000000000000002'),\n",
       " 'n': 1,\n",
       " 'nModified': 1,\n",
       " 'ok': 1.0,\n",
       " 'opTime': {'t': 2, 'ts': Timestamp(1505936876, 1)},\n",
       " 'updatedExisting': True}"
      ]
     },
     "metadata": {},
     "output_type": "display_data"
    },
    {
     "data": {
      "text/plain": [
       "{'electionId': ObjectId('7fffffff0000000000000002'),\n",
       " 'n': 1,\n",
       " 'nModified': 1,\n",
       " 'ok': 1.0,\n",
       " 'opTime': {'t': 2, 'ts': Timestamp(1505936877, 2)},\n",
       " 'updatedExisting': True}"
      ]
     },
     "metadata": {},
     "output_type": "display_data"
    },
    {
     "data": {
      "text/plain": [
       "{'electionId': ObjectId('7fffffff0000000000000002'),\n",
       " 'n': 1,\n",
       " 'nModified': 1,\n",
       " 'ok': 1.0,\n",
       " 'opTime': {'t': 2, 'ts': Timestamp(1505936879, 1)},\n",
       " 'updatedExisting': True}"
      ]
     },
     "metadata": {},
     "output_type": "display_data"
    },
    {
     "data": {
      "text/plain": [
       "{'electionId': ObjectId('7fffffff0000000000000002'),\n",
       " 'n': 1,\n",
       " 'nModified': 1,\n",
       " 'ok': 1.0,\n",
       " 'opTime': {'t': 2, 'ts': Timestamp(1505936879, 4)},\n",
       " 'updatedExisting': True}"
      ]
     },
     "metadata": {},
     "output_type": "display_data"
    },
    {
     "data": {
      "text/plain": [
       "{'electionId': ObjectId('7fffffff0000000000000002'),\n",
       " 'n': 1,\n",
       " 'nModified': 1,\n",
       " 'ok': 1.0,\n",
       " 'opTime': {'t': 2, 'ts': Timestamp(1505936881, 1)},\n",
       " 'updatedExisting': True}"
      ]
     },
     "metadata": {},
     "output_type": "display_data"
    },
    {
     "data": {
      "text/plain": [
       "{'electionId': ObjectId('7fffffff0000000000000002'),\n",
       " 'n': 1,\n",
       " 'nModified': 1,\n",
       " 'ok': 1.0,\n",
       " 'opTime': {'t': 2, 'ts': Timestamp(1505936882, 2)},\n",
       " 'updatedExisting': True}"
      ]
     },
     "metadata": {},
     "output_type": "display_data"
    },
    {
     "data": {
      "text/plain": [
       "{'electionId': ObjectId('7fffffff0000000000000002'),\n",
       " 'n': 1,\n",
       " 'nModified': 1,\n",
       " 'ok': 1.0,\n",
       " 'opTime': {'t': 2, 'ts': Timestamp(1505936883, 2)},\n",
       " 'updatedExisting': True}"
      ]
     },
     "metadata": {},
     "output_type": "display_data"
    },
    {
     "data": {
      "text/plain": [
       "{'electionId': ObjectId('7fffffff0000000000000002'),\n",
       " 'n': 1,\n",
       " 'nModified': 1,\n",
       " 'ok': 1.0,\n",
       " 'opTime': {'t': 2, 'ts': Timestamp(1505936884, 1)},\n",
       " 'updatedExisting': True}"
      ]
     },
     "metadata": {},
     "output_type": "display_data"
    },
    {
     "data": {
      "text/plain": [
       "{'electionId': ObjectId('7fffffff0000000000000002'),\n",
       " 'n': 1,\n",
       " 'nModified': 1,\n",
       " 'ok': 1.0,\n",
       " 'opTime': {'t': 2, 'ts': Timestamp(1505936885, 2)},\n",
       " 'updatedExisting': True}"
      ]
     },
     "metadata": {},
     "output_type": "display_data"
    },
    {
     "data": {
      "text/plain": [
       "{'electionId': ObjectId('7fffffff0000000000000002'),\n",
       " 'n': 1,\n",
       " 'nModified': 1,\n",
       " 'ok': 1.0,\n",
       " 'opTime': {'t': 2, 'ts': Timestamp(1505936886, 2)},\n",
       " 'updatedExisting': True}"
      ]
     },
     "metadata": {},
     "output_type": "display_data"
    },
    {
     "data": {
      "text/plain": [
       "{'electionId': ObjectId('7fffffff0000000000000002'),\n",
       " 'n': 1,\n",
       " 'nModified': 1,\n",
       " 'ok': 1.0,\n",
       " 'opTime': {'t': 2, 'ts': Timestamp(1505936887, 2)},\n",
       " 'updatedExisting': True}"
      ]
     },
     "metadata": {},
     "output_type": "display_data"
    },
    {
     "data": {
      "text/plain": [
       "{'electionId': ObjectId('7fffffff0000000000000002'),\n",
       " 'n': 1,\n",
       " 'nModified': 1,\n",
       " 'ok': 1.0,\n",
       " 'opTime': {'t': 2, 'ts': Timestamp(1505936888, 2)},\n",
       " 'updatedExisting': True}"
      ]
     },
     "metadata": {},
     "output_type": "display_data"
    },
    {
     "data": {
      "text/plain": [
       "{'electionId': ObjectId('7fffffff0000000000000002'),\n",
       " 'n': 1,\n",
       " 'nModified': 1,\n",
       " 'ok': 1.0,\n",
       " 'opTime': {'t': 2, 'ts': Timestamp(1505936889, 3)},\n",
       " 'updatedExisting': True}"
      ]
     },
     "metadata": {},
     "output_type": "display_data"
    },
    {
     "data": {
      "text/plain": [
       "{'electionId': ObjectId('7fffffff0000000000000002'),\n",
       " 'n': 1,\n",
       " 'nModified': 1,\n",
       " 'ok': 1.0,\n",
       " 'opTime': {'t': 2, 'ts': Timestamp(1505936891, 2)},\n",
       " 'updatedExisting': True}"
      ]
     },
     "metadata": {},
     "output_type": "display_data"
    },
    {
     "data": {
      "text/plain": [
       "{'electionId': ObjectId('7fffffff0000000000000002'),\n",
       " 'n': 1,\n",
       " 'nModified': 1,\n",
       " 'ok': 1.0,\n",
       " 'opTime': {'t': 2, 'ts': Timestamp(1505936892, 3)},\n",
       " 'updatedExisting': True}"
      ]
     },
     "metadata": {},
     "output_type": "display_data"
    },
    {
     "data": {
      "text/plain": [
       "{'electionId': ObjectId('7fffffff0000000000000002'),\n",
       " 'n': 1,\n",
       " 'nModified': 1,\n",
       " 'ok': 1.0,\n",
       " 'opTime': {'t': 2, 'ts': Timestamp(1505936899, 2)},\n",
       " 'updatedExisting': True}"
      ]
     },
     "metadata": {},
     "output_type": "display_data"
    },
    {
     "data": {
      "text/plain": [
       "{'electionId': ObjectId('7fffffff0000000000000002'),\n",
       " 'n': 1,\n",
       " 'nModified': 1,\n",
       " 'ok': 1.0,\n",
       " 'opTime': {'t': 2, 'ts': Timestamp(1505936900, 2)},\n",
       " 'updatedExisting': True}"
      ]
     },
     "metadata": {},
     "output_type": "display_data"
    },
    {
     "data": {
      "text/plain": [
       "{'electionId': ObjectId('7fffffff0000000000000002'),\n",
       " 'n': 1,\n",
       " 'nModified': 1,\n",
       " 'ok': 1.0,\n",
       " 'opTime': {'t': 2, 'ts': Timestamp(1505936901, 3)},\n",
       " 'updatedExisting': True}"
      ]
     },
     "metadata": {},
     "output_type": "display_data"
    },
    {
     "data": {
      "text/plain": [
       "{'electionId': ObjectId('7fffffff0000000000000002'),\n",
       " 'n': 1,\n",
       " 'nModified': 1,\n",
       " 'ok': 1.0,\n",
       " 'opTime': {'t': 2, 'ts': Timestamp(1505936902, 3)},\n",
       " 'updatedExisting': True}"
      ]
     },
     "metadata": {},
     "output_type": "display_data"
    },
    {
     "data": {
      "text/plain": [
       "{'electionId': ObjectId('7fffffff0000000000000002'),\n",
       " 'n': 1,\n",
       " 'nModified': 1,\n",
       " 'ok': 1.0,\n",
       " 'opTime': {'t': 2, 'ts': Timestamp(1505936903, 3)},\n",
       " 'updatedExisting': True}"
      ]
     },
     "metadata": {},
     "output_type": "display_data"
    },
    {
     "data": {
      "text/plain": [
       "{'electionId': ObjectId('7fffffff0000000000000002'),\n",
       " 'n': 1,\n",
       " 'nModified': 1,\n",
       " 'ok': 1.0,\n",
       " 'opTime': {'t': 2, 'ts': Timestamp(1505936905, 1)},\n",
       " 'updatedExisting': True}"
      ]
     },
     "metadata": {},
     "output_type": "display_data"
    },
    {
     "data": {
      "text/plain": [
       "{'electionId': ObjectId('7fffffff0000000000000002'),\n",
       " 'n': 1,\n",
       " 'nModified': 1,\n",
       " 'ok': 1.0,\n",
       " 'opTime': {'t': 2, 'ts': Timestamp(1505936906, 2)},\n",
       " 'updatedExisting': True}"
      ]
     },
     "metadata": {},
     "output_type": "display_data"
    },
    {
     "data": {
      "text/plain": [
       "{'electionId': ObjectId('7fffffff0000000000000002'),\n",
       " 'n': 1,\n",
       " 'nModified': 1,\n",
       " 'ok': 1.0,\n",
       " 'opTime': {'t': 2, 'ts': Timestamp(1505936907, 2)},\n",
       " 'updatedExisting': True}"
      ]
     },
     "metadata": {},
     "output_type": "display_data"
    },
    {
     "data": {
      "text/plain": [
       "{'electionId': ObjectId('7fffffff0000000000000002'),\n",
       " 'n': 1,\n",
       " 'nModified': 1,\n",
       " 'ok': 1.0,\n",
       " 'opTime': {'t': 2, 'ts': Timestamp(1505936908, 3)},\n",
       " 'updatedExisting': True}"
      ]
     },
     "metadata": {},
     "output_type": "display_data"
    },
    {
     "data": {
      "text/plain": [
       "{'electionId': ObjectId('7fffffff0000000000000002'),\n",
       " 'n': 1,\n",
       " 'nModified': 1,\n",
       " 'ok': 1.0,\n",
       " 'opTime': {'t': 2, 'ts': Timestamp(1505936909, 2)},\n",
       " 'updatedExisting': True}"
      ]
     },
     "metadata": {},
     "output_type": "display_data"
    },
    {
     "data": {
      "text/plain": [
       "{'electionId': ObjectId('7fffffff0000000000000002'),\n",
       " 'n': 1,\n",
       " 'nModified': 1,\n",
       " 'ok': 1.0,\n",
       " 'opTime': {'t': 2, 'ts': Timestamp(1505936910, 2)},\n",
       " 'updatedExisting': True}"
      ]
     },
     "metadata": {},
     "output_type": "display_data"
    },
    {
     "data": {
      "text/plain": [
       "{'electionId': ObjectId('7fffffff0000000000000002'),\n",
       " 'n': 1,\n",
       " 'nModified': 1,\n",
       " 'ok': 1.0,\n",
       " 'opTime': {'t': 2, 'ts': Timestamp(1505936911, 2)},\n",
       " 'updatedExisting': True}"
      ]
     },
     "metadata": {},
     "output_type": "display_data"
    },
    {
     "data": {
      "text/plain": [
       "{'electionId': ObjectId('7fffffff0000000000000002'),\n",
       " 'n': 1,\n",
       " 'nModified': 1,\n",
       " 'ok': 1.0,\n",
       " 'opTime': {'t': 2, 'ts': Timestamp(1505936912, 2)},\n",
       " 'updatedExisting': True}"
      ]
     },
     "metadata": {},
     "output_type": "display_data"
    },
    {
     "data": {
      "text/plain": [
       "{'electionId': ObjectId('7fffffff0000000000000002'),\n",
       " 'n': 1,\n",
       " 'nModified': 1,\n",
       " 'ok': 1.0,\n",
       " 'opTime': {'t': 2, 'ts': Timestamp(1505936913, 2)},\n",
       " 'updatedExisting': True}"
      ]
     },
     "metadata": {},
     "output_type": "display_data"
    },
    {
     "data": {
      "text/plain": [
       "{'electionId': ObjectId('7fffffff0000000000000002'),\n",
       " 'n': 1,\n",
       " 'nModified': 1,\n",
       " 'ok': 1.0,\n",
       " 'opTime': {'t': 2, 'ts': Timestamp(1505936914, 2)},\n",
       " 'updatedExisting': True}"
      ]
     },
     "metadata": {},
     "output_type": "display_data"
    },
    {
     "data": {
      "text/plain": [
       "{'electionId': ObjectId('7fffffff0000000000000002'),\n",
       " 'n': 1,\n",
       " 'nModified': 1,\n",
       " 'ok': 1.0,\n",
       " 'opTime': {'t': 2, 'ts': Timestamp(1505936915, 1)},\n",
       " 'updatedExisting': True}"
      ]
     },
     "metadata": {},
     "output_type": "display_data"
    },
    {
     "data": {
      "text/plain": [
       "{'electionId': ObjectId('7fffffff0000000000000002'),\n",
       " 'n': 1,\n",
       " 'nModified': 1,\n",
       " 'ok': 1.0,\n",
       " 'opTime': {'t': 2, 'ts': Timestamp(1505936916, 2)},\n",
       " 'updatedExisting': True}"
      ]
     },
     "metadata": {},
     "output_type": "display_data"
    },
    {
     "data": {
      "text/plain": [
       "{'electionId': ObjectId('7fffffff0000000000000002'),\n",
       " 'n': 1,\n",
       " 'nModified': 1,\n",
       " 'ok': 1.0,\n",
       " 'opTime': {'t': 2, 'ts': Timestamp(1505936917, 2)},\n",
       " 'updatedExisting': True}"
      ]
     },
     "metadata": {},
     "output_type": "display_data"
    },
    {
     "data": {
      "text/plain": [
       "{'electionId': ObjectId('7fffffff0000000000000002'),\n",
       " 'n': 1,\n",
       " 'nModified': 1,\n",
       " 'ok': 1.0,\n",
       " 'opTime': {'t': 2, 'ts': Timestamp(1505936918, 1)},\n",
       " 'updatedExisting': True}"
      ]
     },
     "metadata": {},
     "output_type": "display_data"
    },
    {
     "data": {
      "text/plain": [
       "{'electionId': ObjectId('7fffffff0000000000000002'),\n",
       " 'n': 1,\n",
       " 'nModified': 1,\n",
       " 'ok': 1.0,\n",
       " 'opTime': {'t': 2, 'ts': Timestamp(1505936919, 2)},\n",
       " 'updatedExisting': True}"
      ]
     },
     "metadata": {},
     "output_type": "display_data"
    },
    {
     "data": {
      "text/plain": [
       "{'electionId': ObjectId('7fffffff0000000000000002'),\n",
       " 'n': 1,\n",
       " 'nModified': 1,\n",
       " 'ok': 1.0,\n",
       " 'opTime': {'t': 2, 'ts': Timestamp(1505936920, 2)},\n",
       " 'updatedExisting': True}"
      ]
     },
     "metadata": {},
     "output_type": "display_data"
    },
    {
     "data": {
      "text/plain": [
       "{'electionId': ObjectId('7fffffff0000000000000002'),\n",
       " 'n': 1,\n",
       " 'nModified': 1,\n",
       " 'ok': 1.0,\n",
       " 'opTime': {'t': 2, 'ts': Timestamp(1505936921, 1)},\n",
       " 'updatedExisting': True}"
      ]
     },
     "metadata": {},
     "output_type": "display_data"
    },
    {
     "data": {
      "text/plain": [
       "{'electionId': ObjectId('7fffffff0000000000000002'),\n",
       " 'n': 1,\n",
       " 'nModified': 1,\n",
       " 'ok': 1.0,\n",
       " 'opTime': {'t': 2, 'ts': Timestamp(1505936922, 1)},\n",
       " 'updatedExisting': True}"
      ]
     },
     "metadata": {},
     "output_type": "display_data"
    },
    {
     "data": {
      "text/plain": [
       "{'electionId': ObjectId('7fffffff0000000000000002'),\n",
       " 'n': 1,\n",
       " 'nModified': 1,\n",
       " 'ok': 1.0,\n",
       " 'opTime': {'t': 2, 'ts': Timestamp(1505936923, 1)},\n",
       " 'updatedExisting': True}"
      ]
     },
     "metadata": {},
     "output_type": "display_data"
    },
    {
     "data": {
      "text/plain": [
       "{'electionId': ObjectId('7fffffff0000000000000002'),\n",
       " 'n': 1,\n",
       " 'nModified': 1,\n",
       " 'ok': 1.0,\n",
       " 'opTime': {'t': 2, 'ts': Timestamp(1505936924, 2)},\n",
       " 'updatedExisting': True}"
      ]
     },
     "metadata": {},
     "output_type": "display_data"
    },
    {
     "data": {
      "text/plain": [
       "{'electionId': ObjectId('7fffffff0000000000000002'),\n",
       " 'n': 1,\n",
       " 'nModified': 1,\n",
       " 'ok': 1.0,\n",
       " 'opTime': {'t': 2, 'ts': Timestamp(1505936925, 2)},\n",
       " 'updatedExisting': True}"
      ]
     },
     "metadata": {},
     "output_type": "display_data"
    },
    {
     "data": {
      "text/plain": [
       "{'electionId': ObjectId('7fffffff0000000000000002'),\n",
       " 'n': 1,\n",
       " 'nModified': 1,\n",
       " 'ok': 1.0,\n",
       " 'opTime': {'t': 2, 'ts': Timestamp(1505936927, 2)},\n",
       " 'updatedExisting': True}"
      ]
     },
     "metadata": {},
     "output_type": "display_data"
    },
    {
     "data": {
      "text/plain": [
       "{'electionId': ObjectId('7fffffff0000000000000002'),\n",
       " 'n': 1,\n",
       " 'nModified': 1,\n",
       " 'ok': 1.0,\n",
       " 'opTime': {'t': 2, 'ts': Timestamp(1505936929, 3)},\n",
       " 'updatedExisting': True}"
      ]
     },
     "metadata": {},
     "output_type": "display_data"
    },
    {
     "data": {
      "text/plain": [
       "{'electionId': ObjectId('7fffffff0000000000000002'),\n",
       " 'n': 1,\n",
       " 'nModified': 1,\n",
       " 'ok': 1.0,\n",
       " 'opTime': {'t': 2, 'ts': Timestamp(1505936931, 2)},\n",
       " 'updatedExisting': True}"
      ]
     },
     "metadata": {},
     "output_type": "display_data"
    },
    {
     "data": {
      "text/plain": [
       "{'electionId': ObjectId('7fffffff0000000000000002'),\n",
       " 'n': 1,\n",
       " 'nModified': 1,\n",
       " 'ok': 1.0,\n",
       " 'opTime': {'t': 2, 'ts': Timestamp(1505936933, 2)},\n",
       " 'updatedExisting': True}"
      ]
     },
     "metadata": {},
     "output_type": "display_data"
    },
    {
     "data": {
      "text/plain": [
       "{'electionId': ObjectId('7fffffff0000000000000002'),\n",
       " 'n': 1,\n",
       " 'nModified': 1,\n",
       " 'ok': 1.0,\n",
       " 'opTime': {'t': 2, 'ts': Timestamp(1505936934, 2)},\n",
       " 'updatedExisting': True}"
      ]
     },
     "metadata": {},
     "output_type": "display_data"
    },
    {
     "data": {
      "text/plain": [
       "{'electionId': ObjectId('7fffffff0000000000000002'),\n",
       " 'n': 1,\n",
       " 'nModified': 1,\n",
       " 'ok': 1.0,\n",
       " 'opTime': {'t': 2, 'ts': Timestamp(1505936935, 2)},\n",
       " 'updatedExisting': True}"
      ]
     },
     "metadata": {},
     "output_type": "display_data"
    },
    {
     "data": {
      "text/plain": [
       "{'electionId': ObjectId('7fffffff0000000000000002'),\n",
       " 'n': 1,\n",
       " 'nModified': 1,\n",
       " 'ok': 1.0,\n",
       " 'opTime': {'t': 2, 'ts': Timestamp(1505936937, 3)},\n",
       " 'updatedExisting': True}"
      ]
     },
     "metadata": {},
     "output_type": "display_data"
    },
    {
     "data": {
      "text/plain": [
       "{'electionId': ObjectId('7fffffff0000000000000002'),\n",
       " 'n': 1,\n",
       " 'nModified': 1,\n",
       " 'ok': 1.0,\n",
       " 'opTime': {'t': 2, 'ts': Timestamp(1505936939, 1)},\n",
       " 'updatedExisting': True}"
      ]
     },
     "metadata": {},
     "output_type": "display_data"
    },
    {
     "data": {
      "text/plain": [
       "{'electionId': ObjectId('7fffffff0000000000000002'),\n",
       " 'n': 1,\n",
       " 'nModified': 1,\n",
       " 'ok': 1.0,\n",
       " 'opTime': {'t': 2, 'ts': Timestamp(1505936940, 2)},\n",
       " 'updatedExisting': True}"
      ]
     },
     "metadata": {},
     "output_type": "display_data"
    },
    {
     "data": {
      "text/plain": [
       "{'electionId': ObjectId('7fffffff0000000000000002'),\n",
       " 'n': 1,\n",
       " 'nModified': 1,\n",
       " 'ok': 1.0,\n",
       " 'opTime': {'t': 2, 'ts': Timestamp(1505936941, 2)},\n",
       " 'updatedExisting': True}"
      ]
     },
     "metadata": {},
     "output_type": "display_data"
    },
    {
     "data": {
      "text/plain": [
       "{'electionId': ObjectId('7fffffff0000000000000002'),\n",
       " 'n': 1,\n",
       " 'nModified': 1,\n",
       " 'ok': 1.0,\n",
       " 'opTime': {'t': 2, 'ts': Timestamp(1505936943, 1)},\n",
       " 'updatedExisting': True}"
      ]
     },
     "metadata": {},
     "output_type": "display_data"
    },
    {
     "data": {
      "text/plain": [
       "{'electionId': ObjectId('7fffffff0000000000000002'),\n",
       " 'n': 1,\n",
       " 'nModified': 1,\n",
       " 'ok': 1.0,\n",
       " 'opTime': {'t': 2, 'ts': Timestamp(1505936944, 2)},\n",
       " 'updatedExisting': True}"
      ]
     },
     "metadata": {},
     "output_type": "display_data"
    },
    {
     "data": {
      "text/plain": [
       "{'electionId': ObjectId('7fffffff0000000000000002'),\n",
       " 'n': 1,\n",
       " 'nModified': 1,\n",
       " 'ok': 1.0,\n",
       " 'opTime': {'t': 2, 'ts': Timestamp(1505936945, 2)},\n",
       " 'updatedExisting': True}"
      ]
     },
     "metadata": {},
     "output_type": "display_data"
    },
    {
     "data": {
      "text/plain": [
       "{'electionId': ObjectId('7fffffff0000000000000002'),\n",
       " 'n': 1,\n",
       " 'nModified': 1,\n",
       " 'ok': 1.0,\n",
       " 'opTime': {'t': 2, 'ts': Timestamp(1505936947, 1)},\n",
       " 'updatedExisting': True}"
      ]
     },
     "metadata": {},
     "output_type": "display_data"
    },
    {
     "data": {
      "text/plain": [
       "{'electionId': ObjectId('7fffffff0000000000000002'),\n",
       " 'n': 1,\n",
       " 'nModified': 1,\n",
       " 'ok': 1.0,\n",
       " 'opTime': {'t': 2, 'ts': Timestamp(1505936948, 2)},\n",
       " 'updatedExisting': True}"
      ]
     },
     "metadata": {},
     "output_type": "display_data"
    },
    {
     "data": {
      "text/plain": [
       "{'electionId': ObjectId('7fffffff0000000000000002'),\n",
       " 'n': 1,\n",
       " 'nModified': 1,\n",
       " 'ok': 1.0,\n",
       " 'opTime': {'t': 2, 'ts': Timestamp(1505936949, 2)},\n",
       " 'updatedExisting': True}"
      ]
     },
     "metadata": {},
     "output_type": "display_data"
    },
    {
     "data": {
      "text/plain": [
       "{'electionId': ObjectId('7fffffff0000000000000002'),\n",
       " 'n': 1,\n",
       " 'nModified': 1,\n",
       " 'ok': 1.0,\n",
       " 'opTime': {'t': 2, 'ts': Timestamp(1505936950, 2)},\n",
       " 'updatedExisting': True}"
      ]
     },
     "metadata": {},
     "output_type": "display_data"
    },
    {
     "data": {
      "text/plain": [
       "{'electionId': ObjectId('7fffffff0000000000000002'),\n",
       " 'n': 1,\n",
       " 'nModified': 1,\n",
       " 'ok': 1.0,\n",
       " 'opTime': {'t': 2, 'ts': Timestamp(1505936951, 3)},\n",
       " 'updatedExisting': True}"
      ]
     },
     "metadata": {},
     "output_type": "display_data"
    },
    {
     "data": {
      "text/plain": [
       "{'electionId': ObjectId('7fffffff0000000000000002'),\n",
       " 'n': 1,\n",
       " 'nModified': 1,\n",
       " 'ok': 1.0,\n",
       " 'opTime': {'t': 2, 'ts': Timestamp(1505936953, 1)},\n",
       " 'updatedExisting': True}"
      ]
     },
     "metadata": {},
     "output_type": "display_data"
    },
    {
     "data": {
      "text/plain": [
       "{'electionId': ObjectId('7fffffff0000000000000002'),\n",
       " 'n': 1,\n",
       " 'nModified': 1,\n",
       " 'ok': 1.0,\n",
       " 'opTime': {'t': 2, 'ts': Timestamp(1505936954, 2)},\n",
       " 'updatedExisting': True}"
      ]
     },
     "metadata": {},
     "output_type": "display_data"
    },
    {
     "data": {
      "text/plain": [
       "{'electionId': ObjectId('7fffffff0000000000000002'),\n",
       " 'n': 1,\n",
       " 'nModified': 1,\n",
       " 'ok': 1.0,\n",
       " 'opTime': {'t': 2, 'ts': Timestamp(1505936955, 2)},\n",
       " 'updatedExisting': True}"
      ]
     },
     "metadata": {},
     "output_type": "display_data"
    },
    {
     "data": {
      "text/plain": [
       "{'electionId': ObjectId('7fffffff0000000000000002'),\n",
       " 'n': 1,\n",
       " 'nModified': 1,\n",
       " 'ok': 1.0,\n",
       " 'opTime': {'t': 2, 'ts': Timestamp(1505936957, 2)},\n",
       " 'updatedExisting': True}"
      ]
     },
     "metadata": {},
     "output_type": "display_data"
    },
    {
     "data": {
      "text/plain": [
       "{'electionId': ObjectId('7fffffff0000000000000002'),\n",
       " 'n': 1,\n",
       " 'nModified': 1,\n",
       " 'ok': 1.0,\n",
       " 'opTime': {'t': 2, 'ts': Timestamp(1505936958, 2)},\n",
       " 'updatedExisting': True}"
      ]
     },
     "metadata": {},
     "output_type": "display_data"
    },
    {
     "data": {
      "text/plain": [
       "{'electionId': ObjectId('7fffffff0000000000000002'),\n",
       " 'n': 1,\n",
       " 'nModified': 1,\n",
       " 'ok': 1.0,\n",
       " 'opTime': {'t': 2, 'ts': Timestamp(1505936959, 3)},\n",
       " 'updatedExisting': True}"
      ]
     },
     "metadata": {},
     "output_type": "display_data"
    },
    {
     "data": {
      "text/plain": [
       "{'electionId': ObjectId('7fffffff0000000000000002'),\n",
       " 'n': 1,\n",
       " 'nModified': 1,\n",
       " 'ok': 1.0,\n",
       " 'opTime': {'t': 2, 'ts': Timestamp(1505936960, 3)},\n",
       " 'updatedExisting': True}"
      ]
     },
     "metadata": {},
     "output_type": "display_data"
    },
    {
     "data": {
      "text/plain": [
       "{'electionId': ObjectId('7fffffff0000000000000002'),\n",
       " 'n': 1,\n",
       " 'nModified': 1,\n",
       " 'ok': 1.0,\n",
       " 'opTime': {'t': 2, 'ts': Timestamp(1505936962, 1)},\n",
       " 'updatedExisting': True}"
      ]
     },
     "metadata": {},
     "output_type": "display_data"
    },
    {
     "data": {
      "text/plain": [
       "{'electionId': ObjectId('7fffffff0000000000000002'),\n",
       " 'n': 1,\n",
       " 'nModified': 1,\n",
       " 'ok': 1.0,\n",
       " 'opTime': {'t': 2, 'ts': Timestamp(1505936964, 2)},\n",
       " 'updatedExisting': True}"
      ]
     },
     "metadata": {},
     "output_type": "display_data"
    },
    {
     "data": {
      "text/plain": [
       "{'electionId': ObjectId('7fffffff0000000000000002'),\n",
       " 'n': 1,\n",
       " 'nModified': 1,\n",
       " 'ok': 1.0,\n",
       " 'opTime': {'t': 2, 'ts': Timestamp(1505936965, 2)},\n",
       " 'updatedExisting': True}"
      ]
     },
     "metadata": {},
     "output_type": "display_data"
    },
    {
     "data": {
      "text/plain": [
       "{'electionId': ObjectId('7fffffff0000000000000002'),\n",
       " 'n': 1,\n",
       " 'nModified': 1,\n",
       " 'ok': 1.0,\n",
       " 'opTime': {'t': 2, 'ts': Timestamp(1505936966, 2)},\n",
       " 'updatedExisting': True}"
      ]
     },
     "metadata": {},
     "output_type": "display_data"
    },
    {
     "data": {
      "text/plain": [
       "{'electionId': ObjectId('7fffffff0000000000000002'),\n",
       " 'n': 1,\n",
       " 'nModified': 1,\n",
       " 'ok': 1.0,\n",
       " 'opTime': {'t': 2, 'ts': Timestamp(1505936966, 5)},\n",
       " 'updatedExisting': True}"
      ]
     },
     "metadata": {},
     "output_type": "display_data"
    },
    {
     "data": {
      "text/plain": [
       "{'electionId': ObjectId('7fffffff0000000000000002'),\n",
       " 'n': 1,\n",
       " 'nModified': 1,\n",
       " 'ok': 1.0,\n",
       " 'opTime': {'t': 2, 'ts': Timestamp(1505936967, 3)},\n",
       " 'updatedExisting': True}"
      ]
     },
     "metadata": {},
     "output_type": "display_data"
    },
    {
     "data": {
      "text/plain": [
       "{'electionId': ObjectId('7fffffff0000000000000002'),\n",
       " 'n': 1,\n",
       " 'nModified': 1,\n",
       " 'ok': 1.0,\n",
       " 'opTime': {'t': 2, 'ts': Timestamp(1505936968, 3)},\n",
       " 'updatedExisting': True}"
      ]
     },
     "metadata": {},
     "output_type": "display_data"
    },
    {
     "data": {
      "text/plain": [
       "{'electionId': ObjectId('7fffffff0000000000000002'),\n",
       " 'n': 1,\n",
       " 'nModified': 1,\n",
       " 'ok': 1.0,\n",
       " 'opTime': {'t': 2, 'ts': Timestamp(1505936970, 2)},\n",
       " 'updatedExisting': True}"
      ]
     },
     "metadata": {},
     "output_type": "display_data"
    },
    {
     "data": {
      "text/plain": [
       "{'electionId': ObjectId('7fffffff0000000000000002'),\n",
       " 'n': 1,\n",
       " 'nModified': 1,\n",
       " 'ok': 1.0,\n",
       " 'opTime': {'t': 2, 'ts': Timestamp(1505936971, 2)},\n",
       " 'updatedExisting': True}"
      ]
     },
     "metadata": {},
     "output_type": "display_data"
    },
    {
     "data": {
      "text/plain": [
       "{'electionId': ObjectId('7fffffff0000000000000002'),\n",
       " 'n': 1,\n",
       " 'nModified': 1,\n",
       " 'ok': 1.0,\n",
       " 'opTime': {'t': 2, 'ts': Timestamp(1505936972, 2)},\n",
       " 'updatedExisting': True}"
      ]
     },
     "metadata": {},
     "output_type": "display_data"
    },
    {
     "data": {
      "text/plain": [
       "{'electionId': ObjectId('7fffffff0000000000000002'),\n",
       " 'n': 1,\n",
       " 'nModified': 1,\n",
       " 'ok': 1.0,\n",
       " 'opTime': {'t': 2, 'ts': Timestamp(1505936974, 2)},\n",
       " 'updatedExisting': True}"
      ]
     },
     "metadata": {},
     "output_type": "display_data"
    },
    {
     "data": {
      "text/plain": [
       "{'electionId': ObjectId('7fffffff0000000000000002'),\n",
       " 'n': 1,\n",
       " 'nModified': 1,\n",
       " 'ok': 1.0,\n",
       " 'opTime': {'t': 2, 'ts': Timestamp(1505936975, 2)},\n",
       " 'updatedExisting': True}"
      ]
     },
     "metadata": {},
     "output_type": "display_data"
    },
    {
     "data": {
      "text/plain": [
       "{'electionId': ObjectId('7fffffff0000000000000002'),\n",
       " 'n': 1,\n",
       " 'nModified': 1,\n",
       " 'ok': 1.0,\n",
       " 'opTime': {'t': 2, 'ts': Timestamp(1505936977, 1)},\n",
       " 'updatedExisting': True}"
      ]
     },
     "metadata": {},
     "output_type": "display_data"
    },
    {
     "data": {
      "text/plain": [
       "{'electionId': ObjectId('7fffffff0000000000000002'),\n",
       " 'n': 1,\n",
       " 'nModified': 1,\n",
       " 'ok': 1.0,\n",
       " 'opTime': {'t': 2, 'ts': Timestamp(1505936978, 2)},\n",
       " 'updatedExisting': True}"
      ]
     },
     "metadata": {},
     "output_type": "display_data"
    },
    {
     "data": {
      "text/plain": [
       "{'electionId': ObjectId('7fffffff0000000000000002'),\n",
       " 'n': 1,\n",
       " 'nModified': 1,\n",
       " 'ok': 1.0,\n",
       " 'opTime': {'t': 2, 'ts': Timestamp(1505936979, 1)},\n",
       " 'updatedExisting': True}"
      ]
     },
     "metadata": {},
     "output_type": "display_data"
    },
    {
     "data": {
      "text/plain": [
       "{'electionId': ObjectId('7fffffff0000000000000002'),\n",
       " 'n': 1,\n",
       " 'nModified': 1,\n",
       " 'ok': 1.0,\n",
       " 'opTime': {'t': 2, 'ts': Timestamp(1505936980, 1)},\n",
       " 'updatedExisting': True}"
      ]
     },
     "metadata": {},
     "output_type": "display_data"
    },
    {
     "data": {
      "text/plain": [
       "{'electionId': ObjectId('7fffffff0000000000000002'),\n",
       " 'n': 1,\n",
       " 'nModified': 1,\n",
       " 'ok': 1.0,\n",
       " 'opTime': {'t': 2, 'ts': Timestamp(1505936981, 2)},\n",
       " 'updatedExisting': True}"
      ]
     },
     "metadata": {},
     "output_type": "display_data"
    },
    {
     "data": {
      "text/plain": [
       "{'electionId': ObjectId('7fffffff0000000000000002'),\n",
       " 'n': 1,\n",
       " 'nModified': 1,\n",
       " 'ok': 1.0,\n",
       " 'opTime': {'t': 2, 'ts': Timestamp(1505936981, 5)},\n",
       " 'updatedExisting': True}"
      ]
     },
     "metadata": {},
     "output_type": "display_data"
    },
    {
     "data": {
      "text/plain": [
       "{'electionId': ObjectId('7fffffff0000000000000002'),\n",
       " 'n': 1,\n",
       " 'nModified': 1,\n",
       " 'ok': 1.0,\n",
       " 'opTime': {'t': 2, 'ts': Timestamp(1505936982, 3)},\n",
       " 'updatedExisting': True}"
      ]
     },
     "metadata": {},
     "output_type": "display_data"
    },
    {
     "data": {
      "text/plain": [
       "{'electionId': ObjectId('7fffffff0000000000000002'),\n",
       " 'n': 1,\n",
       " 'nModified': 1,\n",
       " 'ok': 1.0,\n",
       " 'opTime': {'t': 2, 'ts': Timestamp(1505936983, 3)},\n",
       " 'updatedExisting': True}"
      ]
     },
     "metadata": {},
     "output_type": "display_data"
    },
    {
     "data": {
      "text/plain": [
       "{'electionId': ObjectId('7fffffff0000000000000002'),\n",
       " 'n': 1,\n",
       " 'nModified': 1,\n",
       " 'ok': 1.0,\n",
       " 'opTime': {'t': 2, 'ts': Timestamp(1505936985, 1)},\n",
       " 'updatedExisting': True}"
      ]
     },
     "metadata": {},
     "output_type": "display_data"
    },
    {
     "data": {
      "text/plain": [
       "{'electionId': ObjectId('7fffffff0000000000000002'),\n",
       " 'n': 1,\n",
       " 'nModified': 1,\n",
       " 'ok': 1.0,\n",
       " 'opTime': {'t': 2, 'ts': Timestamp(1505936986, 3)},\n",
       " 'updatedExisting': True}"
      ]
     },
     "metadata": {},
     "output_type": "display_data"
    },
    {
     "data": {
      "text/plain": [
       "{'electionId': ObjectId('7fffffff0000000000000002'),\n",
       " 'n': 1,\n",
       " 'nModified': 1,\n",
       " 'ok': 1.0,\n",
       " 'opTime': {'t': 2, 'ts': Timestamp(1505936988, 1)},\n",
       " 'updatedExisting': True}"
      ]
     },
     "metadata": {},
     "output_type": "display_data"
    },
    {
     "data": {
      "text/plain": [
       "{'electionId': ObjectId('7fffffff0000000000000002'),\n",
       " 'n': 1,\n",
       " 'nModified': 1,\n",
       " 'ok': 1.0,\n",
       " 'opTime': {'t': 2, 'ts': Timestamp(1505936989, 1)},\n",
       " 'updatedExisting': True}"
      ]
     },
     "metadata": {},
     "output_type": "display_data"
    },
    {
     "data": {
      "text/plain": [
       "{'electionId': ObjectId('7fffffff0000000000000002'),\n",
       " 'n': 1,\n",
       " 'nModified': 1,\n",
       " 'ok': 1.0,\n",
       " 'opTime': {'t': 2, 'ts': Timestamp(1505936990, 3)},\n",
       " 'updatedExisting': True}"
      ]
     },
     "metadata": {},
     "output_type": "display_data"
    },
    {
     "data": {
      "text/plain": [
       "{'electionId': ObjectId('7fffffff0000000000000002'),\n",
       " 'n': 1,\n",
       " 'nModified': 1,\n",
       " 'ok': 1.0,\n",
       " 'opTime': {'t': 2, 'ts': Timestamp(1505936992, 1)},\n",
       " 'updatedExisting': True}"
      ]
     },
     "metadata": {},
     "output_type": "display_data"
    },
    {
     "data": {
      "text/plain": [
       "{'electionId': ObjectId('7fffffff0000000000000002'),\n",
       " 'n': 1,\n",
       " 'nModified': 1,\n",
       " 'ok': 1.0,\n",
       " 'opTime': {'t': 2, 'ts': Timestamp(1505936993, 2)},\n",
       " 'updatedExisting': True}"
      ]
     },
     "metadata": {},
     "output_type": "display_data"
    },
    {
     "data": {
      "text/plain": [
       "{'electionId': ObjectId('7fffffff0000000000000002'),\n",
       " 'n': 1,\n",
       " 'nModified': 1,\n",
       " 'ok': 1.0,\n",
       " 'opTime': {'t': 2, 'ts': Timestamp(1505936994, 3)},\n",
       " 'updatedExisting': True}"
      ]
     },
     "metadata": {},
     "output_type": "display_data"
    },
    {
     "data": {
      "text/plain": [
       "{'electionId': ObjectId('7fffffff0000000000000002'),\n",
       " 'n': 1,\n",
       " 'nModified': 1,\n",
       " 'ok': 1.0,\n",
       " 'opTime': {'t': 2, 'ts': Timestamp(1505936996, 1)},\n",
       " 'updatedExisting': True}"
      ]
     },
     "metadata": {},
     "output_type": "display_data"
    },
    {
     "data": {
      "text/plain": [
       "{'electionId': ObjectId('7fffffff0000000000000002'),\n",
       " 'n': 1,\n",
       " 'nModified': 1,\n",
       " 'ok': 1.0,\n",
       " 'opTime': {'t': 2, 'ts': Timestamp(1505936996, 5)},\n",
       " 'updatedExisting': True}"
      ]
     },
     "metadata": {},
     "output_type": "display_data"
    },
    {
     "data": {
      "text/plain": [
       "{'electionId': ObjectId('7fffffff0000000000000002'),\n",
       " 'n': 1,\n",
       " 'nModified': 1,\n",
       " 'ok': 1.0,\n",
       " 'opTime': {'t': 2, 'ts': Timestamp(1505936998, 1)},\n",
       " 'updatedExisting': True}"
      ]
     },
     "metadata": {},
     "output_type": "display_data"
    },
    {
     "data": {
      "text/plain": [
       "{'electionId': ObjectId('7fffffff0000000000000002'),\n",
       " 'n': 1,\n",
       " 'nModified': 1,\n",
       " 'ok': 1.0,\n",
       " 'opTime': {'t': 2, 'ts': Timestamp(1505936999, 1)},\n",
       " 'updatedExisting': True}"
      ]
     },
     "metadata": {},
     "output_type": "display_data"
    },
    {
     "data": {
      "text/plain": [
       "{'electionId': ObjectId('7fffffff0000000000000002'),\n",
       " 'n': 1,\n",
       " 'nModified': 1,\n",
       " 'ok': 1.0,\n",
       " 'opTime': {'t': 2, 'ts': Timestamp(1505936999, 4)},\n",
       " 'updatedExisting': True}"
      ]
     },
     "metadata": {},
     "output_type": "display_data"
    },
    {
     "data": {
      "text/plain": [
       "{'electionId': ObjectId('7fffffff0000000000000002'),\n",
       " 'n': 1,\n",
       " 'nModified': 1,\n",
       " 'ok': 1.0,\n",
       " 'opTime': {'t': 2, 'ts': Timestamp(1505937000, 3)},\n",
       " 'updatedExisting': True}"
      ]
     },
     "metadata": {},
     "output_type": "display_data"
    },
    {
     "data": {
      "text/plain": [
       "{'electionId': ObjectId('7fffffff0000000000000002'),\n",
       " 'n': 1,\n",
       " 'nModified': 1,\n",
       " 'ok': 1.0,\n",
       " 'opTime': {'t': 2, 'ts': Timestamp(1505937001, 2)},\n",
       " 'updatedExisting': True}"
      ]
     },
     "metadata": {},
     "output_type": "display_data"
    },
    {
     "data": {
      "text/plain": [
       "{'electionId': ObjectId('7fffffff0000000000000002'),\n",
       " 'n': 1,\n",
       " 'nModified': 1,\n",
       " 'ok': 1.0,\n",
       " 'opTime': {'t': 2, 'ts': Timestamp(1505937002, 2)},\n",
       " 'updatedExisting': True}"
      ]
     },
     "metadata": {},
     "output_type": "display_data"
    },
    {
     "data": {
      "text/plain": [
       "{'electionId': ObjectId('7fffffff0000000000000002'),\n",
       " 'n': 1,\n",
       " 'nModified': 1,\n",
       " 'ok': 1.0,\n",
       " 'opTime': {'t': 2, 'ts': Timestamp(1505937003, 3)},\n",
       " 'updatedExisting': True}"
      ]
     },
     "metadata": {},
     "output_type": "display_data"
    },
    {
     "data": {
      "text/plain": [
       "{'electionId': ObjectId('7fffffff0000000000000002'),\n",
       " 'n': 1,\n",
       " 'nModified': 1,\n",
       " 'ok': 1.0,\n",
       " 'opTime': {'t': 2, 'ts': Timestamp(1505937004, 2)},\n",
       " 'updatedExisting': True}"
      ]
     },
     "metadata": {},
     "output_type": "display_data"
    },
    {
     "data": {
      "text/plain": [
       "{'electionId': ObjectId('7fffffff0000000000000002'),\n",
       " 'n': 1,\n",
       " 'nModified': 1,\n",
       " 'ok': 1.0,\n",
       " 'opTime': {'t': 2, 'ts': Timestamp(1505937005, 2)},\n",
       " 'updatedExisting': True}"
      ]
     },
     "metadata": {},
     "output_type": "display_data"
    },
    {
     "data": {
      "text/plain": [
       "{'electionId': ObjectId('7fffffff0000000000000002'),\n",
       " 'n': 1,\n",
       " 'nModified': 1,\n",
       " 'ok': 1.0,\n",
       " 'opTime': {'t': 2, 'ts': Timestamp(1505937006, 2)},\n",
       " 'updatedExisting': True}"
      ]
     },
     "metadata": {},
     "output_type": "display_data"
    },
    {
     "data": {
      "text/plain": [
       "{'electionId': ObjectId('7fffffff0000000000000002'),\n",
       " 'n': 1,\n",
       " 'nModified': 1,\n",
       " 'ok': 1.0,\n",
       " 'opTime': {'t': 2, 'ts': Timestamp(1505937007, 2)},\n",
       " 'updatedExisting': True}"
      ]
     },
     "metadata": {},
     "output_type": "display_data"
    },
    {
     "data": {
      "text/plain": [
       "{'electionId': ObjectId('7fffffff0000000000000002'),\n",
       " 'n': 1,\n",
       " 'nModified': 1,\n",
       " 'ok': 1.0,\n",
       " 'opTime': {'t': 2, 'ts': Timestamp(1505937008, 2)},\n",
       " 'updatedExisting': True}"
      ]
     },
     "metadata": {},
     "output_type": "display_data"
    },
    {
     "data": {
      "text/plain": [
       "{'electionId': ObjectId('7fffffff0000000000000002'),\n",
       " 'n': 1,\n",
       " 'nModified': 1,\n",
       " 'ok': 1.0,\n",
       " 'opTime': {'t': 2, 'ts': Timestamp(1505937009, 3)},\n",
       " 'updatedExisting': True}"
      ]
     },
     "metadata": {},
     "output_type": "display_data"
    },
    {
     "data": {
      "text/plain": [
       "{'electionId': ObjectId('7fffffff0000000000000002'),\n",
       " 'n': 1,\n",
       " 'nModified': 1,\n",
       " 'ok': 1.0,\n",
       " 'opTime': {'t': 2, 'ts': Timestamp(1505937010, 2)},\n",
       " 'updatedExisting': True}"
      ]
     },
     "metadata": {},
     "output_type": "display_data"
    },
    {
     "data": {
      "text/plain": [
       "{'electionId': ObjectId('7fffffff0000000000000002'),\n",
       " 'n': 1,\n",
       " 'nModified': 1,\n",
       " 'ok': 1.0,\n",
       " 'opTime': {'t': 2, 'ts': Timestamp(1505937011, 2)},\n",
       " 'updatedExisting': True}"
      ]
     },
     "metadata": {},
     "output_type": "display_data"
    },
    {
     "data": {
      "text/plain": [
       "{'electionId': ObjectId('7fffffff0000000000000002'),\n",
       " 'n': 1,\n",
       " 'nModified': 1,\n",
       " 'ok': 1.0,\n",
       " 'opTime': {'t': 2, 'ts': Timestamp(1505937012, 2)},\n",
       " 'updatedExisting': True}"
      ]
     },
     "metadata": {},
     "output_type": "display_data"
    },
    {
     "data": {
      "text/plain": [
       "{'electionId': ObjectId('7fffffff0000000000000002'),\n",
       " 'n': 1,\n",
       " 'nModified': 1,\n",
       " 'ok': 1.0,\n",
       " 'opTime': {'t': 2, 'ts': Timestamp(1505937014, 2)},\n",
       " 'updatedExisting': True}"
      ]
     },
     "metadata": {},
     "output_type": "display_data"
    },
    {
     "data": {
      "text/plain": [
       "{'electionId': ObjectId('7fffffff0000000000000002'),\n",
       " 'n': 1,\n",
       " 'nModified': 1,\n",
       " 'ok': 1.0,\n",
       " 'opTime': {'t': 2, 'ts': Timestamp(1505937015, 1)},\n",
       " 'updatedExisting': True}"
      ]
     },
     "metadata": {},
     "output_type": "display_data"
    },
    {
     "data": {
      "text/plain": [
       "{'electionId': ObjectId('7fffffff0000000000000002'),\n",
       " 'n': 1,\n",
       " 'nModified': 1,\n",
       " 'ok': 1.0,\n",
       " 'opTime': {'t': 2, 'ts': Timestamp(1505937017, 2)},\n",
       " 'updatedExisting': True}"
      ]
     },
     "metadata": {},
     "output_type": "display_data"
    },
    {
     "data": {
      "text/plain": [
       "{'electionId': ObjectId('7fffffff0000000000000002'),\n",
       " 'n': 1,\n",
       " 'nModified': 1,\n",
       " 'ok': 1.0,\n",
       " 'opTime': {'t': 2, 'ts': Timestamp(1505937018, 2)},\n",
       " 'updatedExisting': True}"
      ]
     },
     "metadata": {},
     "output_type": "display_data"
    },
    {
     "data": {
      "text/plain": [
       "{'electionId': ObjectId('7fffffff0000000000000002'),\n",
       " 'n': 1,\n",
       " 'nModified': 1,\n",
       " 'ok': 1.0,\n",
       " 'opTime': {'t': 2, 'ts': Timestamp(1505937019, 2)},\n",
       " 'updatedExisting': True}"
      ]
     },
     "metadata": {},
     "output_type": "display_data"
    },
    {
     "data": {
      "text/plain": [
       "{'electionId': ObjectId('7fffffff0000000000000002'),\n",
       " 'n': 1,\n",
       " 'nModified': 1,\n",
       " 'ok': 1.0,\n",
       " 'opTime': {'t': 2, 'ts': Timestamp(1505937021, 2)},\n",
       " 'updatedExisting': True}"
      ]
     },
     "metadata": {},
     "output_type": "display_data"
    },
    {
     "data": {
      "text/plain": [
       "{'electionId': ObjectId('7fffffff0000000000000002'),\n",
       " 'n': 1,\n",
       " 'nModified': 1,\n",
       " 'ok': 1.0,\n",
       " 'opTime': {'t': 2, 'ts': Timestamp(1505937022, 3)},\n",
       " 'updatedExisting': True}"
      ]
     },
     "metadata": {},
     "output_type": "display_data"
    },
    {
     "data": {
      "text/plain": [
       "{'electionId': ObjectId('7fffffff0000000000000002'),\n",
       " 'n': 1,\n",
       " 'nModified': 1,\n",
       " 'ok': 1.0,\n",
       " 'opTime': {'t': 2, 'ts': Timestamp(1505937023, 3)},\n",
       " 'updatedExisting': True}"
      ]
     },
     "metadata": {},
     "output_type": "display_data"
    },
    {
     "data": {
      "text/plain": [
       "{'electionId': ObjectId('7fffffff0000000000000002'),\n",
       " 'n': 1,\n",
       " 'nModified': 1,\n",
       " 'ok': 1.0,\n",
       " 'opTime': {'t': 2, 'ts': Timestamp(1505937025, 1)},\n",
       " 'updatedExisting': True}"
      ]
     },
     "metadata": {},
     "output_type": "display_data"
    },
    {
     "data": {
      "text/plain": [
       "{'electionId': ObjectId('7fffffff0000000000000002'),\n",
       " 'n': 1,\n",
       " 'nModified': 1,\n",
       " 'ok': 1.0,\n",
       " 'opTime': {'t': 2, 'ts': Timestamp(1505937026, 2)},\n",
       " 'updatedExisting': True}"
      ]
     },
     "metadata": {},
     "output_type": "display_data"
    },
    {
     "data": {
      "text/plain": [
       "{'electionId': ObjectId('7fffffff0000000000000002'),\n",
       " 'n': 1,\n",
       " 'nModified': 1,\n",
       " 'ok': 1.0,\n",
       " 'opTime': {'t': 2, 'ts': Timestamp(1505937027, 2)},\n",
       " 'updatedExisting': True}"
      ]
     },
     "metadata": {},
     "output_type": "display_data"
    },
    {
     "data": {
      "text/plain": [
       "{'electionId': ObjectId('7fffffff0000000000000002'),\n",
       " 'n': 1,\n",
       " 'nModified': 1,\n",
       " 'ok': 1.0,\n",
       " 'opTime': {'t': 2, 'ts': Timestamp(1505937029, 1)},\n",
       " 'updatedExisting': True}"
      ]
     },
     "metadata": {},
     "output_type": "display_data"
    },
    {
     "data": {
      "text/plain": [
       "{'electionId': ObjectId('7fffffff0000000000000002'),\n",
       " 'n': 1,\n",
       " 'nModified': 1,\n",
       " 'ok': 1.0,\n",
       " 'opTime': {'t': 2, 'ts': Timestamp(1505937031, 1)},\n",
       " 'updatedExisting': True}"
      ]
     },
     "metadata": {},
     "output_type": "display_data"
    },
    {
     "data": {
      "text/plain": [
       "{'electionId': ObjectId('7fffffff0000000000000002'),\n",
       " 'n': 1,\n",
       " 'nModified': 1,\n",
       " 'ok': 1.0,\n",
       " 'opTime': {'t': 2, 'ts': Timestamp(1505937032, 2)},\n",
       " 'updatedExisting': True}"
      ]
     },
     "metadata": {},
     "output_type": "display_data"
    },
    {
     "data": {
      "text/plain": [
       "{'electionId': ObjectId('7fffffff0000000000000002'),\n",
       " 'n': 1,\n",
       " 'nModified': 1,\n",
       " 'ok': 1.0,\n",
       " 'opTime': {'t': 2, 'ts': Timestamp(1505937034, 2)},\n",
       " 'updatedExisting': True}"
      ]
     },
     "metadata": {},
     "output_type": "display_data"
    },
    {
     "data": {
      "text/plain": [
       "{'electionId': ObjectId('7fffffff0000000000000002'),\n",
       " 'n': 1,\n",
       " 'nModified': 1,\n",
       " 'ok': 1.0,\n",
       " 'opTime': {'t': 2, 'ts': Timestamp(1505937037, 2)},\n",
       " 'updatedExisting': True}"
      ]
     },
     "metadata": {},
     "output_type": "display_data"
    },
    {
     "data": {
      "text/plain": [
       "{'electionId': ObjectId('7fffffff0000000000000002'),\n",
       " 'n': 1,\n",
       " 'nModified': 1,\n",
       " 'ok': 1.0,\n",
       " 'opTime': {'t': 2, 'ts': Timestamp(1505937038, 2)},\n",
       " 'updatedExisting': True}"
      ]
     },
     "metadata": {},
     "output_type": "display_data"
    },
    {
     "data": {
      "text/plain": [
       "{'electionId': ObjectId('7fffffff0000000000000002'),\n",
       " 'n': 1,\n",
       " 'nModified': 1,\n",
       " 'ok': 1.0,\n",
       " 'opTime': {'t': 2, 'ts': Timestamp(1505937039, 2)},\n",
       " 'updatedExisting': True}"
      ]
     },
     "metadata": {},
     "output_type": "display_data"
    },
    {
     "data": {
      "text/plain": [
       "{'electionId': ObjectId('7fffffff0000000000000002'),\n",
       " 'n': 1,\n",
       " 'nModified': 1,\n",
       " 'ok': 1.0,\n",
       " 'opTime': {'t': 2, 'ts': Timestamp(1505937041, 2)},\n",
       " 'updatedExisting': True}"
      ]
     },
     "metadata": {},
     "output_type": "display_data"
    },
    {
     "data": {
      "text/plain": [
       "{'electionId': ObjectId('7fffffff0000000000000002'),\n",
       " 'n': 1,\n",
       " 'nModified': 1,\n",
       " 'ok': 1.0,\n",
       " 'opTime': {'t': 2, 'ts': Timestamp(1505937043, 1)},\n",
       " 'updatedExisting': True}"
      ]
     },
     "metadata": {},
     "output_type": "display_data"
    },
    {
     "data": {
      "text/plain": [
       "{'electionId': ObjectId('7fffffff0000000000000002'),\n",
       " 'n': 1,\n",
       " 'nModified': 1,\n",
       " 'ok': 1.0,\n",
       " 'opTime': {'t': 2, 'ts': Timestamp(1505937045, 1)},\n",
       " 'updatedExisting': True}"
      ]
     },
     "metadata": {},
     "output_type": "display_data"
    },
    {
     "data": {
      "text/plain": [
       "{'electionId': ObjectId('7fffffff0000000000000002'),\n",
       " 'n': 1,\n",
       " 'nModified': 1,\n",
       " 'ok': 1.0,\n",
       " 'opTime': {'t': 2, 'ts': Timestamp(1505937046, 2)},\n",
       " 'updatedExisting': True}"
      ]
     },
     "metadata": {},
     "output_type": "display_data"
    },
    {
     "data": {
      "text/plain": [
       "{'electionId': ObjectId('7fffffff0000000000000002'),\n",
       " 'n': 1,\n",
       " 'nModified': 1,\n",
       " 'ok': 1.0,\n",
       " 'opTime': {'t': 2, 'ts': Timestamp(1505937048, 1)},\n",
       " 'updatedExisting': True}"
      ]
     },
     "metadata": {},
     "output_type": "display_data"
    },
    {
     "data": {
      "text/plain": [
       "{'electionId': ObjectId('7fffffff0000000000000002'),\n",
       " 'n': 1,\n",
       " 'nModified': 1,\n",
       " 'ok': 1.0,\n",
       " 'opTime': {'t': 2, 'ts': Timestamp(1505937049, 2)},\n",
       " 'updatedExisting': True}"
      ]
     },
     "metadata": {},
     "output_type": "display_data"
    },
    {
     "data": {
      "text/plain": [
       "{'electionId': ObjectId('7fffffff0000000000000002'),\n",
       " 'n': 1,\n",
       " 'nModified': 1,\n",
       " 'ok': 1.0,\n",
       " 'opTime': {'t': 2, 'ts': Timestamp(1505937051, 1)},\n",
       " 'updatedExisting': True}"
      ]
     },
     "metadata": {},
     "output_type": "display_data"
    },
    {
     "data": {
      "text/plain": [
       "{'electionId': ObjectId('7fffffff0000000000000002'),\n",
       " 'n': 1,\n",
       " 'nModified': 1,\n",
       " 'ok': 1.0,\n",
       " 'opTime': {'t': 2, 'ts': Timestamp(1505937053, 1)},\n",
       " 'updatedExisting': True}"
      ]
     },
     "metadata": {},
     "output_type": "display_data"
    },
    {
     "data": {
      "text/plain": [
       "{'electionId': ObjectId('7fffffff0000000000000002'),\n",
       " 'n': 1,\n",
       " 'nModified': 1,\n",
       " 'ok': 1.0,\n",
       " 'opTime': {'t': 2, 'ts': Timestamp(1505937054, 2)},\n",
       " 'updatedExisting': True}"
      ]
     },
     "metadata": {},
     "output_type": "display_data"
    },
    {
     "data": {
      "text/plain": [
       "{'electionId': ObjectId('7fffffff0000000000000002'),\n",
       " 'n': 1,\n",
       " 'nModified': 1,\n",
       " 'ok': 1.0,\n",
       " 'opTime': {'t': 2, 'ts': Timestamp(1505937057, 2)},\n",
       " 'updatedExisting': True}"
      ]
     },
     "metadata": {},
     "output_type": "display_data"
    },
    {
     "data": {
      "text/plain": [
       "{'electionId': ObjectId('7fffffff0000000000000002'),\n",
       " 'n': 1,\n",
       " 'nModified': 1,\n",
       " 'ok': 1.0,\n",
       " 'opTime': {'t': 2, 'ts': Timestamp(1505937058, 2)},\n",
       " 'updatedExisting': True}"
      ]
     },
     "metadata": {},
     "output_type": "display_data"
    },
    {
     "data": {
      "text/plain": [
       "{'electionId': ObjectId('7fffffff0000000000000002'),\n",
       " 'n': 1,\n",
       " 'nModified': 1,\n",
       " 'ok': 1.0,\n",
       " 'opTime': {'t': 2, 'ts': Timestamp(1505937060, 1)},\n",
       " 'updatedExisting': True}"
      ]
     },
     "metadata": {},
     "output_type": "display_data"
    },
    {
     "data": {
      "text/plain": [
       "{'electionId': ObjectId('7fffffff0000000000000002'),\n",
       " 'n': 1,\n",
       " 'nModified': 1,\n",
       " 'ok': 1.0,\n",
       " 'opTime': {'t': 2, 'ts': Timestamp(1505937061, 3)},\n",
       " 'updatedExisting': True}"
      ]
     },
     "metadata": {},
     "output_type": "display_data"
    },
    {
     "data": {
      "text/plain": [
       "{'electionId': ObjectId('7fffffff0000000000000002'),\n",
       " 'n': 1,\n",
       " 'nModified': 1,\n",
       " 'ok': 1.0,\n",
       " 'opTime': {'t': 2, 'ts': Timestamp(1505937063, 1)},\n",
       " 'updatedExisting': True}"
      ]
     },
     "metadata": {},
     "output_type": "display_data"
    },
    {
     "data": {
      "text/plain": [
       "{'electionId': ObjectId('7fffffff0000000000000002'),\n",
       " 'n': 1,\n",
       " 'nModified': 1,\n",
       " 'ok': 1.0,\n",
       " 'opTime': {'t': 2, 'ts': Timestamp(1505937065, 1)},\n",
       " 'updatedExisting': True}"
      ]
     },
     "metadata": {},
     "output_type": "display_data"
    },
    {
     "data": {
      "text/plain": [
       "{'electionId': ObjectId('7fffffff0000000000000002'),\n",
       " 'n': 1,\n",
       " 'nModified': 1,\n",
       " 'ok': 1.0,\n",
       " 'opTime': {'t': 2, 'ts': Timestamp(1505937067, 2)},\n",
       " 'updatedExisting': True}"
      ]
     },
     "metadata": {},
     "output_type": "display_data"
    },
    {
     "data": {
      "text/plain": [
       "{'electionId': ObjectId('7fffffff0000000000000002'),\n",
       " 'n': 1,\n",
       " 'nModified': 1,\n",
       " 'ok': 1.0,\n",
       " 'opTime': {'t': 2, 'ts': Timestamp(1505937068, 2)},\n",
       " 'updatedExisting': True}"
      ]
     },
     "metadata": {},
     "output_type": "display_data"
    },
    {
     "data": {
      "text/plain": [
       "{'electionId': ObjectId('7fffffff0000000000000002'),\n",
       " 'n': 1,\n",
       " 'nModified': 1,\n",
       " 'ok': 1.0,\n",
       " 'opTime': {'t': 2, 'ts': Timestamp(1505937069, 3)},\n",
       " 'updatedExisting': True}"
      ]
     },
     "metadata": {},
     "output_type": "display_data"
    },
    {
     "data": {
      "text/plain": [
       "{'electionId': ObjectId('7fffffff0000000000000002'),\n",
       " 'n': 1,\n",
       " 'nModified': 1,\n",
       " 'ok': 1.0,\n",
       " 'opTime': {'t': 2, 'ts': Timestamp(1505937071, 2)},\n",
       " 'updatedExisting': True}"
      ]
     },
     "metadata": {},
     "output_type": "display_data"
    },
    {
     "data": {
      "text/plain": [
       "{'electionId': ObjectId('7fffffff0000000000000002'),\n",
       " 'n': 1,\n",
       " 'nModified': 1,\n",
       " 'ok': 1.0,\n",
       " 'opTime': {'t': 2, 'ts': Timestamp(1505937072, 2)},\n",
       " 'updatedExisting': True}"
      ]
     },
     "metadata": {},
     "output_type": "display_data"
    },
    {
     "data": {
      "text/plain": [
       "{'electionId': ObjectId('7fffffff0000000000000002'),\n",
       " 'n': 1,\n",
       " 'nModified': 1,\n",
       " 'ok': 1.0,\n",
       " 'opTime': {'t': 2, 'ts': Timestamp(1505937074, 2)},\n",
       " 'updatedExisting': True}"
      ]
     },
     "metadata": {},
     "output_type": "display_data"
    },
    {
     "data": {
      "text/plain": [
       "{'electionId': ObjectId('7fffffff0000000000000002'),\n",
       " 'n': 1,\n",
       " 'nModified': 1,\n",
       " 'ok': 1.0,\n",
       " 'opTime': {'t': 2, 'ts': Timestamp(1505937075, 3)},\n",
       " 'updatedExisting': True}"
      ]
     },
     "metadata": {},
     "output_type": "display_data"
    },
    {
     "data": {
      "text/plain": [
       "{'electionId': ObjectId('7fffffff0000000000000002'),\n",
       " 'n': 1,\n",
       " 'nModified': 1,\n",
       " 'ok': 1.0,\n",
       " 'opTime': {'t': 2, 'ts': Timestamp(1505937076, 3)},\n",
       " 'updatedExisting': True}"
      ]
     },
     "metadata": {},
     "output_type": "display_data"
    },
    {
     "data": {
      "text/plain": [
       "{'electionId': ObjectId('7fffffff0000000000000002'),\n",
       " 'n': 1,\n",
       " 'nModified': 1,\n",
       " 'ok': 1.0,\n",
       " 'opTime': {'t': 2, 'ts': Timestamp(1505937078, 2)},\n",
       " 'updatedExisting': True}"
      ]
     },
     "metadata": {},
     "output_type": "display_data"
    },
    {
     "data": {
      "text/plain": [
       "{'electionId': ObjectId('7fffffff0000000000000002'),\n",
       " 'n': 1,\n",
       " 'nModified': 1,\n",
       " 'ok': 1.0,\n",
       " 'opTime': {'t': 2, 'ts': Timestamp(1505937080, 2)},\n",
       " 'updatedExisting': True}"
      ]
     },
     "metadata": {},
     "output_type": "display_data"
    },
    {
     "data": {
      "text/plain": [
       "{'electionId': ObjectId('7fffffff0000000000000002'),\n",
       " 'n': 1,\n",
       " 'nModified': 1,\n",
       " 'ok': 1.0,\n",
       " 'opTime': {'t': 2, 'ts': Timestamp(1505937082, 1)},\n",
       " 'updatedExisting': True}"
      ]
     },
     "metadata": {},
     "output_type": "display_data"
    },
    {
     "data": {
      "text/plain": [
       "{'electionId': ObjectId('7fffffff0000000000000002'),\n",
       " 'n': 1,\n",
       " 'nModified': 1,\n",
       " 'ok': 1.0,\n",
       " 'opTime': {'t': 2, 'ts': Timestamp(1505937083, 2)},\n",
       " 'updatedExisting': True}"
      ]
     },
     "metadata": {},
     "output_type": "display_data"
    },
    {
     "data": {
      "text/plain": [
       "{'electionId': ObjectId('7fffffff0000000000000002'),\n",
       " 'n': 1,\n",
       " 'nModified': 1,\n",
       " 'ok': 1.0,\n",
       " 'opTime': {'t': 2, 'ts': Timestamp(1505937085, 1)},\n",
       " 'updatedExisting': True}"
      ]
     },
     "metadata": {},
     "output_type": "display_data"
    },
    {
     "data": {
      "text/plain": [
       "{'electionId': ObjectId('7fffffff0000000000000002'),\n",
       " 'n': 1,\n",
       " 'nModified': 1,\n",
       " 'ok': 1.0,\n",
       " 'opTime': {'t': 2, 'ts': Timestamp(1505937086, 2)},\n",
       " 'updatedExisting': True}"
      ]
     },
     "metadata": {},
     "output_type": "display_data"
    },
    {
     "data": {
      "text/plain": [
       "{'electionId': ObjectId('7fffffff0000000000000002'),\n",
       " 'n': 1,\n",
       " 'nModified': 1,\n",
       " 'ok': 1.0,\n",
       " 'opTime': {'t': 2, 'ts': Timestamp(1505937089, 1)},\n",
       " 'updatedExisting': True}"
      ]
     },
     "metadata": {},
     "output_type": "display_data"
    },
    {
     "data": {
      "text/plain": [
       "{'electionId': ObjectId('7fffffff0000000000000002'),\n",
       " 'n': 1,\n",
       " 'nModified': 1,\n",
       " 'ok': 1.0,\n",
       " 'opTime': {'t': 2, 'ts': Timestamp(1505937090, 2)},\n",
       " 'updatedExisting': True}"
      ]
     },
     "metadata": {},
     "output_type": "display_data"
    },
    {
     "data": {
      "text/plain": [
       "{'electionId': ObjectId('7fffffff0000000000000002'),\n",
       " 'n': 1,\n",
       " 'nModified': 1,\n",
       " 'ok': 1.0,\n",
       " 'opTime': {'t': 2, 'ts': Timestamp(1505937092, 2)},\n",
       " 'updatedExisting': True}"
      ]
     },
     "metadata": {},
     "output_type": "display_data"
    },
    {
     "data": {
      "text/plain": [
       "{'electionId': ObjectId('7fffffff0000000000000002'),\n",
       " 'n': 1,\n",
       " 'nModified': 1,\n",
       " 'ok': 1.0,\n",
       " 'opTime': {'t': 2, 'ts': Timestamp(1505937094, 1)},\n",
       " 'updatedExisting': True}"
      ]
     },
     "metadata": {},
     "output_type": "display_data"
    },
    {
     "data": {
      "text/plain": [
       "{'electionId': ObjectId('7fffffff0000000000000002'),\n",
       " 'n': 1,\n",
       " 'nModified': 1,\n",
       " 'ok': 1.0,\n",
       " 'opTime': {'t': 2, 'ts': Timestamp(1505937096, 1)},\n",
       " 'updatedExisting': True}"
      ]
     },
     "metadata": {},
     "output_type": "display_data"
    },
    {
     "data": {
      "text/plain": [
       "{'electionId': ObjectId('7fffffff0000000000000002'),\n",
       " 'n': 1,\n",
       " 'nModified': 1,\n",
       " 'ok': 1.0,\n",
       " 'opTime': {'t': 2, 'ts': Timestamp(1505937098, 1)},\n",
       " 'updatedExisting': True}"
      ]
     },
     "metadata": {},
     "output_type": "display_data"
    },
    {
     "data": {
      "text/plain": [
       "{'electionId': ObjectId('7fffffff0000000000000002'),\n",
       " 'n': 1,\n",
       " 'nModified': 1,\n",
       " 'ok': 1.0,\n",
       " 'opTime': {'t': 2, 'ts': Timestamp(1505937099, 2)},\n",
       " 'updatedExisting': True}"
      ]
     },
     "metadata": {},
     "output_type": "display_data"
    },
    {
     "data": {
      "text/plain": [
       "{'electionId': ObjectId('7fffffff0000000000000002'),\n",
       " 'n': 1,\n",
       " 'nModified': 1,\n",
       " 'ok': 1.0,\n",
       " 'opTime': {'t': 2, 'ts': Timestamp(1505937101, 1)},\n",
       " 'updatedExisting': True}"
      ]
     },
     "metadata": {},
     "output_type": "display_data"
    },
    {
     "data": {
      "text/plain": [
       "{'electionId': ObjectId('7fffffff0000000000000002'),\n",
       " 'n': 1,\n",
       " 'nModified': 1,\n",
       " 'ok': 1.0,\n",
       " 'opTime': {'t': 2, 'ts': Timestamp(1505937103, 1)},\n",
       " 'updatedExisting': True}"
      ]
     },
     "metadata": {},
     "output_type": "display_data"
    },
    {
     "data": {
      "text/plain": [
       "{'electionId': ObjectId('7fffffff0000000000000002'),\n",
       " 'n': 1,\n",
       " 'nModified': 1,\n",
       " 'ok': 1.0,\n",
       " 'opTime': {'t': 2, 'ts': Timestamp(1505937104, 2)},\n",
       " 'updatedExisting': True}"
      ]
     },
     "metadata": {},
     "output_type": "display_data"
    },
    {
     "data": {
      "text/plain": [
       "{'electionId': ObjectId('7fffffff0000000000000002'),\n",
       " 'n': 1,\n",
       " 'nModified': 1,\n",
       " 'ok': 1.0,\n",
       " 'opTime': {'t': 2, 'ts': Timestamp(1505937106, 2)},\n",
       " 'updatedExisting': True}"
      ]
     },
     "metadata": {},
     "output_type": "display_data"
    },
    {
     "data": {
      "text/plain": [
       "{'electionId': ObjectId('7fffffff0000000000000002'),\n",
       " 'n': 1,\n",
       " 'nModified': 1,\n",
       " 'ok': 1.0,\n",
       " 'opTime': {'t': 2, 'ts': Timestamp(1505937108, 1)},\n",
       " 'updatedExisting': True}"
      ]
     },
     "metadata": {},
     "output_type": "display_data"
    },
    {
     "data": {
      "text/plain": [
       "{'electionId': ObjectId('7fffffff0000000000000002'),\n",
       " 'n': 1,\n",
       " 'nModified': 1,\n",
       " 'ok': 1.0,\n",
       " 'opTime': {'t': 2, 'ts': Timestamp(1505937109, 2)},\n",
       " 'updatedExisting': True}"
      ]
     },
     "metadata": {},
     "output_type": "display_data"
    },
    {
     "data": {
      "text/plain": [
       "{'electionId': ObjectId('7fffffff0000000000000002'),\n",
       " 'n': 1,\n",
       " 'nModified': 1,\n",
       " 'ok': 1.0,\n",
       " 'opTime': {'t': 2, 'ts': Timestamp(1505937109, 5)},\n",
       " 'updatedExisting': True}"
      ]
     },
     "metadata": {},
     "output_type": "display_data"
    },
    {
     "data": {
      "text/plain": [
       "{'electionId': ObjectId('7fffffff0000000000000002'),\n",
       " 'n': 1,\n",
       " 'nModified': 1,\n",
       " 'ok': 1.0,\n",
       " 'opTime': {'t': 2, 'ts': Timestamp(1505937110, 3)},\n",
       " 'updatedExisting': True}"
      ]
     },
     "metadata": {},
     "output_type": "display_data"
    },
    {
     "data": {
      "text/plain": [
       "{'electionId': ObjectId('7fffffff0000000000000002'),\n",
       " 'n': 1,\n",
       " 'nModified': 1,\n",
       " 'ok': 1.0,\n",
       " 'opTime': {'t': 2, 'ts': Timestamp(1505937111, 3)},\n",
       " 'updatedExisting': True}"
      ]
     },
     "metadata": {},
     "output_type": "display_data"
    },
    {
     "data": {
      "text/plain": [
       "{'electionId': ObjectId('7fffffff0000000000000002'),\n",
       " 'n': 1,\n",
       " 'nModified': 1,\n",
       " 'ok': 1.0,\n",
       " 'opTime': {'t': 2, 'ts': Timestamp(1505937112, 3)},\n",
       " 'updatedExisting': True}"
      ]
     },
     "metadata": {},
     "output_type": "display_data"
    },
    {
     "data": {
      "text/plain": [
       "{'electionId': ObjectId('7fffffff0000000000000002'),\n",
       " 'n': 1,\n",
       " 'nModified': 1,\n",
       " 'ok': 1.0,\n",
       " 'opTime': {'t': 2, 'ts': Timestamp(1505937113, 4)},\n",
       " 'updatedExisting': True}"
      ]
     },
     "metadata": {},
     "output_type": "display_data"
    },
    {
     "data": {
      "text/plain": [
       "{'electionId': ObjectId('7fffffff0000000000000002'),\n",
       " 'n': 1,\n",
       " 'nModified': 1,\n",
       " 'ok': 1.0,\n",
       " 'opTime': {'t': 2, 'ts': Timestamp(1505937115, 1)},\n",
       " 'updatedExisting': True}"
      ]
     },
     "metadata": {},
     "output_type": "display_data"
    },
    {
     "data": {
      "text/plain": [
       "{'electionId': ObjectId('7fffffff0000000000000002'),\n",
       " 'n': 1,\n",
       " 'nModified': 1,\n",
       " 'ok': 1.0,\n",
       " 'opTime': {'t': 2, 'ts': Timestamp(1505937116, 2)},\n",
       " 'updatedExisting': True}"
      ]
     },
     "metadata": {},
     "output_type": "display_data"
    },
    {
     "data": {
      "text/plain": [
       "{'electionId': ObjectId('7fffffff0000000000000002'),\n",
       " 'n': 1,\n",
       " 'nModified': 1,\n",
       " 'ok': 1.0,\n",
       " 'opTime': {'t': 2, 'ts': Timestamp(1505937117, 3)},\n",
       " 'updatedExisting': True}"
      ]
     },
     "metadata": {},
     "output_type": "display_data"
    },
    {
     "data": {
      "text/plain": [
       "{'electionId': ObjectId('7fffffff0000000000000002'),\n",
       " 'n': 1,\n",
       " 'nModified': 1,\n",
       " 'ok': 1.0,\n",
       " 'opTime': {'t': 2, 'ts': Timestamp(1505937119, 2)},\n",
       " 'updatedExisting': True}"
      ]
     },
     "metadata": {},
     "output_type": "display_data"
    },
    {
     "data": {
      "text/plain": [
       "{'electionId': ObjectId('7fffffff0000000000000002'),\n",
       " 'n': 1,\n",
       " 'nModified': 1,\n",
       " 'ok': 1.0,\n",
       " 'opTime': {'t': 2, 'ts': Timestamp(1505937121, 1)},\n",
       " 'updatedExisting': True}"
      ]
     },
     "metadata": {},
     "output_type": "display_data"
    },
    {
     "data": {
      "text/plain": [
       "{'electionId': ObjectId('7fffffff0000000000000002'),\n",
       " 'n': 1,\n",
       " 'nModified': 1,\n",
       " 'ok': 1.0,\n",
       " 'opTime': {'t': 2, 'ts': Timestamp(1505937122, 2)},\n",
       " 'updatedExisting': True}"
      ]
     },
     "metadata": {},
     "output_type": "display_data"
    },
    {
     "data": {
      "text/plain": [
       "{'electionId': ObjectId('7fffffff0000000000000002'),\n",
       " 'n': 1,\n",
       " 'nModified': 1,\n",
       " 'ok': 1.0,\n",
       " 'opTime': {'t': 2, 'ts': Timestamp(1505937124, 1)},\n",
       " 'updatedExisting': True}"
      ]
     },
     "metadata": {},
     "output_type": "display_data"
    },
    {
     "data": {
      "text/plain": [
       "{'electionId': ObjectId('7fffffff0000000000000002'),\n",
       " 'n': 1,\n",
       " 'nModified': 1,\n",
       " 'ok': 1.0,\n",
       " 'opTime': {'t': 2, 'ts': Timestamp(1505937125, 2)},\n",
       " 'updatedExisting': True}"
      ]
     },
     "metadata": {},
     "output_type": "display_data"
    },
    {
     "data": {
      "text/plain": [
       "{'electionId': ObjectId('7fffffff0000000000000002'),\n",
       " 'n': 1,\n",
       " 'nModified': 1,\n",
       " 'ok': 1.0,\n",
       " 'opTime': {'t': 2, 'ts': Timestamp(1505937127, 1)},\n",
       " 'updatedExisting': True}"
      ]
     },
     "metadata": {},
     "output_type": "display_data"
    },
    {
     "data": {
      "text/plain": [
       "{'electionId': ObjectId('7fffffff0000000000000002'),\n",
       " 'n': 1,\n",
       " 'nModified': 1,\n",
       " 'ok': 1.0,\n",
       " 'opTime': {'t': 2, 'ts': Timestamp(1505937129, 1)},\n",
       " 'updatedExisting': True}"
      ]
     },
     "metadata": {},
     "output_type": "display_data"
    },
    {
     "data": {
      "text/plain": [
       "{'electionId': ObjectId('7fffffff0000000000000002'),\n",
       " 'n': 1,\n",
       " 'nModified': 1,\n",
       " 'ok': 1.0,\n",
       " 'opTime': {'t': 2, 'ts': Timestamp(1505937130, 3)},\n",
       " 'updatedExisting': True}"
      ]
     },
     "metadata": {},
     "output_type": "display_data"
    },
    {
     "data": {
      "text/plain": [
       "{'electionId': ObjectId('7fffffff0000000000000002'),\n",
       " 'n': 1,\n",
       " 'nModified': 1,\n",
       " 'ok': 1.0,\n",
       " 'opTime': {'t': 2, 'ts': Timestamp(1505937132, 1)},\n",
       " 'updatedExisting': True}"
      ]
     },
     "metadata": {},
     "output_type": "display_data"
    },
    {
     "data": {
      "text/plain": [
       "{'electionId': ObjectId('7fffffff0000000000000002'),\n",
       " 'n': 1,\n",
       " 'nModified': 1,\n",
       " 'ok': 1.0,\n",
       " 'opTime': {'t': 2, 'ts': Timestamp(1505937133, 2)},\n",
       " 'updatedExisting': True}"
      ]
     },
     "metadata": {},
     "output_type": "display_data"
    },
    {
     "data": {
      "text/plain": [
       "{'electionId': ObjectId('7fffffff0000000000000002'),\n",
       " 'n': 1,\n",
       " 'nModified': 1,\n",
       " 'ok': 1.0,\n",
       " 'opTime': {'t': 2, 'ts': Timestamp(1505937136, 1)},\n",
       " 'updatedExisting': True}"
      ]
     },
     "metadata": {},
     "output_type": "display_data"
    },
    {
     "data": {
      "text/plain": [
       "{'electionId': ObjectId('7fffffff0000000000000002'),\n",
       " 'n': 1,\n",
       " 'nModified': 1,\n",
       " 'ok': 1.0,\n",
       " 'opTime': {'t': 2, 'ts': Timestamp(1505937137, 2)},\n",
       " 'updatedExisting': True}"
      ]
     },
     "metadata": {},
     "output_type": "display_data"
    },
    {
     "data": {
      "text/plain": [
       "{'electionId': ObjectId('7fffffff0000000000000002'),\n",
       " 'n': 1,\n",
       " 'nModified': 1,\n",
       " 'ok': 1.0,\n",
       " 'opTime': {'t': 2, 'ts': Timestamp(1505937138, 2)},\n",
       " 'updatedExisting': True}"
      ]
     },
     "metadata": {},
     "output_type": "display_data"
    },
    {
     "data": {
      "text/plain": [
       "{'electionId': ObjectId('7fffffff0000000000000002'),\n",
       " 'n': 1,\n",
       " 'nModified': 1,\n",
       " 'ok': 1.0,\n",
       " 'opTime': {'t': 2, 'ts': Timestamp(1505937140, 2)},\n",
       " 'updatedExisting': True}"
      ]
     },
     "metadata": {},
     "output_type": "display_data"
    },
    {
     "data": {
      "text/plain": [
       "{'electionId': ObjectId('7fffffff0000000000000002'),\n",
       " 'n': 1,\n",
       " 'nModified': 1,\n",
       " 'ok': 1.0,\n",
       " 'opTime': {'t': 2, 'ts': Timestamp(1505937142, 2)},\n",
       " 'updatedExisting': True}"
      ]
     },
     "metadata": {},
     "output_type": "display_data"
    },
    {
     "data": {
      "text/plain": [
       "{'electionId': ObjectId('7fffffff0000000000000002'),\n",
       " 'n': 1,\n",
       " 'nModified': 1,\n",
       " 'ok': 1.0,\n",
       " 'opTime': {'t': 2, 'ts': Timestamp(1505937143, 3)},\n",
       " 'updatedExisting': True}"
      ]
     },
     "metadata": {},
     "output_type": "display_data"
    },
    {
     "data": {
      "text/plain": [
       "{'electionId': ObjectId('7fffffff0000000000000002'),\n",
       " 'n': 1,\n",
       " 'nModified': 1,\n",
       " 'ok': 1.0,\n",
       " 'opTime': {'t': 2, 'ts': Timestamp(1505937145, 1)},\n",
       " 'updatedExisting': True}"
      ]
     },
     "metadata": {},
     "output_type": "display_data"
    },
    {
     "data": {
      "text/plain": [
       "{'electionId': ObjectId('7fffffff0000000000000002'),\n",
       " 'n': 1,\n",
       " 'nModified': 1,\n",
       " 'ok': 1.0,\n",
       " 'opTime': {'t': 2, 'ts': Timestamp(1505937146, 2)},\n",
       " 'updatedExisting': True}"
      ]
     },
     "metadata": {},
     "output_type": "display_data"
    },
    {
     "data": {
      "text/plain": [
       "{'electionId': ObjectId('7fffffff0000000000000002'),\n",
       " 'n': 1,\n",
       " 'nModified': 1,\n",
       " 'ok': 1.0,\n",
       " 'opTime': {'t': 2, 'ts': Timestamp(1505937148, 2)},\n",
       " 'updatedExisting': True}"
      ]
     },
     "metadata": {},
     "output_type": "display_data"
    },
    {
     "data": {
      "text/plain": [
       "{'electionId': ObjectId('7fffffff0000000000000002'),\n",
       " 'n': 1,\n",
       " 'nModified': 1,\n",
       " 'ok': 1.0,\n",
       " 'opTime': {'t': 2, 'ts': Timestamp(1505937149, 2)},\n",
       " 'updatedExisting': True}"
      ]
     },
     "metadata": {},
     "output_type": "display_data"
    },
    {
     "data": {
      "text/plain": [
       "{'electionId': ObjectId('7fffffff0000000000000002'),\n",
       " 'n': 1,\n",
       " 'nModified': 1,\n",
       " 'ok': 1.0,\n",
       " 'opTime': {'t': 2, 'ts': Timestamp(1505937150, 2)},\n",
       " 'updatedExisting': True}"
      ]
     },
     "metadata": {},
     "output_type": "display_data"
    },
    {
     "data": {
      "text/plain": [
       "{'electionId': ObjectId('7fffffff0000000000000002'),\n",
       " 'n': 1,\n",
       " 'nModified': 1,\n",
       " 'ok': 1.0,\n",
       " 'opTime': {'t': 2, 'ts': Timestamp(1505937152, 2)},\n",
       " 'updatedExisting': True}"
      ]
     },
     "metadata": {},
     "output_type": "display_data"
    },
    {
     "data": {
      "text/plain": [
       "{'electionId': ObjectId('7fffffff0000000000000002'),\n",
       " 'n': 1,\n",
       " 'nModified': 1,\n",
       " 'ok': 1.0,\n",
       " 'opTime': {'t': 2, 'ts': Timestamp(1505937153, 3)},\n",
       " 'updatedExisting': True}"
      ]
     },
     "metadata": {},
     "output_type": "display_data"
    },
    {
     "data": {
      "text/plain": [
       "{'electionId': ObjectId('7fffffff0000000000000002'),\n",
       " 'n': 1,\n",
       " 'nModified': 1,\n",
       " 'ok': 1.0,\n",
       " 'opTime': {'t': 2, 'ts': Timestamp(1505937155, 2)},\n",
       " 'updatedExisting': True}"
      ]
     },
     "metadata": {},
     "output_type": "display_data"
    },
    {
     "data": {
      "text/plain": [
       "{'electionId': ObjectId('7fffffff0000000000000002'),\n",
       " 'n': 1,\n",
       " 'nModified': 1,\n",
       " 'ok': 1.0,\n",
       " 'opTime': {'t': 2, 'ts': Timestamp(1505937156, 3)},\n",
       " 'updatedExisting': True}"
      ]
     },
     "metadata": {},
     "output_type": "display_data"
    },
    {
     "data": {
      "text/plain": [
       "{'electionId': ObjectId('7fffffff0000000000000002'),\n",
       " 'n': 1,\n",
       " 'nModified': 1,\n",
       " 'ok': 1.0,\n",
       " 'opTime': {'t': 2, 'ts': Timestamp(1505937158, 1)},\n",
       " 'updatedExisting': True}"
      ]
     },
     "metadata": {},
     "output_type": "display_data"
    },
    {
     "data": {
      "text/plain": [
       "{'electionId': ObjectId('7fffffff0000000000000002'),\n",
       " 'n': 1,\n",
       " 'nModified': 1,\n",
       " 'ok': 1.0,\n",
       " 'opTime': {'t': 2, 'ts': Timestamp(1505937159, 2)},\n",
       " 'updatedExisting': True}"
      ]
     },
     "metadata": {},
     "output_type": "display_data"
    },
    {
     "data": {
      "text/plain": [
       "{'electionId': ObjectId('7fffffff0000000000000002'),\n",
       " 'n': 1,\n",
       " 'nModified': 1,\n",
       " 'ok': 1.0,\n",
       " 'opTime': {'t': 2, 'ts': Timestamp(1505937160, 3)},\n",
       " 'updatedExisting': True}"
      ]
     },
     "metadata": {},
     "output_type": "display_data"
    },
    {
     "data": {
      "text/plain": [
       "{'electionId': ObjectId('7fffffff0000000000000002'),\n",
       " 'n': 1,\n",
       " 'nModified': 1,\n",
       " 'ok': 1.0,\n",
       " 'opTime': {'t': 2, 'ts': Timestamp(1505937162, 2)},\n",
       " 'updatedExisting': True}"
      ]
     },
     "metadata": {},
     "output_type": "display_data"
    },
    {
     "data": {
      "text/plain": [
       "{'electionId': ObjectId('7fffffff0000000000000002'),\n",
       " 'n': 1,\n",
       " 'nModified': 1,\n",
       " 'ok': 1.0,\n",
       " 'opTime': {'t': 2, 'ts': Timestamp(1505937163, 2)},\n",
       " 'updatedExisting': True}"
      ]
     },
     "metadata": {},
     "output_type": "display_data"
    },
    {
     "data": {
      "text/plain": [
       "{'electionId': ObjectId('7fffffff0000000000000002'),\n",
       " 'n': 1,\n",
       " 'nModified': 1,\n",
       " 'ok': 1.0,\n",
       " 'opTime': {'t': 2, 'ts': Timestamp(1505937164, 2)},\n",
       " 'updatedExisting': True}"
      ]
     },
     "metadata": {},
     "output_type": "display_data"
    },
    {
     "data": {
      "text/plain": [
       "{'electionId': ObjectId('7fffffff0000000000000002'),\n",
       " 'n': 1,\n",
       " 'nModified': 1,\n",
       " 'ok': 1.0,\n",
       " 'opTime': {'t': 2, 'ts': Timestamp(1505937166, 1)},\n",
       " 'updatedExisting': True}"
      ]
     },
     "metadata": {},
     "output_type": "display_data"
    },
    {
     "data": {
      "text/plain": [
       "{'electionId': ObjectId('7fffffff0000000000000002'),\n",
       " 'n': 1,\n",
       " 'nModified': 1,\n",
       " 'ok': 1.0,\n",
       " 'opTime': {'t': 2, 'ts': Timestamp(1505937167, 2)},\n",
       " 'updatedExisting': True}"
      ]
     },
     "metadata": {},
     "output_type": "display_data"
    },
    {
     "data": {
      "text/plain": [
       "{'electionId': ObjectId('7fffffff0000000000000002'),\n",
       " 'n': 1,\n",
       " 'nModified': 1,\n",
       " 'ok': 1.0,\n",
       " 'opTime': {'t': 2, 'ts': Timestamp(1505937168, 2)},\n",
       " 'updatedExisting': True}"
      ]
     },
     "metadata": {},
     "output_type": "display_data"
    },
    {
     "data": {
      "text/plain": [
       "{'electionId': ObjectId('7fffffff0000000000000002'),\n",
       " 'n': 1,\n",
       " 'nModified': 1,\n",
       " 'ok': 1.0,\n",
       " 'opTime': {'t': 2, 'ts': Timestamp(1505937169, 2)},\n",
       " 'updatedExisting': True}"
      ]
     },
     "metadata": {},
     "output_type": "display_data"
    },
    {
     "data": {
      "text/plain": [
       "{'electionId': ObjectId('7fffffff0000000000000002'),\n",
       " 'n': 1,\n",
       " 'nModified': 1,\n",
       " 'ok': 1.0,\n",
       " 'opTime': {'t': 2, 'ts': Timestamp(1505937170, 2)},\n",
       " 'updatedExisting': True}"
      ]
     },
     "metadata": {},
     "output_type": "display_data"
    },
    {
     "data": {
      "text/plain": [
       "{'electionId': ObjectId('7fffffff0000000000000002'),\n",
       " 'n': 1,\n",
       " 'nModified': 1,\n",
       " 'ok': 1.0,\n",
       " 'opTime': {'t': 2, 'ts': Timestamp(1505937171, 3)},\n",
       " 'updatedExisting': True}"
      ]
     },
     "metadata": {},
     "output_type": "display_data"
    },
    {
     "data": {
      "text/plain": [
       "{'electionId': ObjectId('7fffffff0000000000000002'),\n",
       " 'n': 1,\n",
       " 'nModified': 1,\n",
       " 'ok': 1.0,\n",
       " 'opTime': {'t': 2, 'ts': Timestamp(1505937173, 1)},\n",
       " 'updatedExisting': True}"
      ]
     },
     "metadata": {},
     "output_type": "display_data"
    },
    {
     "data": {
      "text/plain": [
       "{'electionId': ObjectId('7fffffff0000000000000002'),\n",
       " 'n': 1,\n",
       " 'nModified': 1,\n",
       " 'ok': 1.0,\n",
       " 'opTime': {'t': 2, 'ts': Timestamp(1505937174, 3)},\n",
       " 'updatedExisting': True}"
      ]
     },
     "metadata": {},
     "output_type": "display_data"
    },
    {
     "data": {
      "text/plain": [
       "{'electionId': ObjectId('7fffffff0000000000000002'),\n",
       " 'n': 1,\n",
       " 'nModified': 1,\n",
       " 'ok': 1.0,\n",
       " 'opTime': {'t': 2, 'ts': Timestamp(1505937176, 2)},\n",
       " 'updatedExisting': True}"
      ]
     },
     "metadata": {},
     "output_type": "display_data"
    },
    {
     "data": {
      "text/plain": [
       "{'electionId': ObjectId('7fffffff0000000000000002'),\n",
       " 'n': 1,\n",
       " 'nModified': 1,\n",
       " 'ok': 1.0,\n",
       " 'opTime': {'t': 2, 'ts': Timestamp(1505937177, 2)},\n",
       " 'updatedExisting': True}"
      ]
     },
     "metadata": {},
     "output_type": "display_data"
    },
    {
     "data": {
      "text/plain": [
       "{'electionId': ObjectId('7fffffff0000000000000002'),\n",
       " 'n': 1,\n",
       " 'nModified': 1,\n",
       " 'ok': 1.0,\n",
       " 'opTime': {'t': 2, 'ts': Timestamp(1505937179, 2)},\n",
       " 'updatedExisting': True}"
      ]
     },
     "metadata": {},
     "output_type": "display_data"
    },
    {
     "data": {
      "text/plain": [
       "{'electionId': ObjectId('7fffffff0000000000000002'),\n",
       " 'n': 1,\n",
       " 'nModified': 1,\n",
       " 'ok': 1.0,\n",
       " 'opTime': {'t': 2, 'ts': Timestamp(1505937180, 2)},\n",
       " 'updatedExisting': True}"
      ]
     },
     "metadata": {},
     "output_type": "display_data"
    },
    {
     "data": {
      "text/plain": [
       "{'electionId': ObjectId('7fffffff0000000000000002'),\n",
       " 'n': 1,\n",
       " 'nModified': 1,\n",
       " 'ok': 1.0,\n",
       " 'opTime': {'t': 2, 'ts': Timestamp(1505937182, 1)},\n",
       " 'updatedExisting': True}"
      ]
     },
     "metadata": {},
     "output_type": "display_data"
    },
    {
     "data": {
      "text/plain": [
       "{'electionId': ObjectId('7fffffff0000000000000002'),\n",
       " 'n': 1,\n",
       " 'nModified': 1,\n",
       " 'ok': 1.0,\n",
       " 'opTime': {'t': 2, 'ts': Timestamp(1505937183, 3)},\n",
       " 'updatedExisting': True}"
      ]
     },
     "metadata": {},
     "output_type": "display_data"
    },
    {
     "data": {
      "text/plain": [
       "{'electionId': ObjectId('7fffffff0000000000000002'),\n",
       " 'n': 1,\n",
       " 'nModified': 1,\n",
       " 'ok': 1.0,\n",
       " 'opTime': {'t': 2, 'ts': Timestamp(1505937185, 1)},\n",
       " 'updatedExisting': True}"
      ]
     },
     "metadata": {},
     "output_type": "display_data"
    },
    {
     "data": {
      "text/plain": [
       "{'electionId': ObjectId('7fffffff0000000000000002'),\n",
       " 'n': 1,\n",
       " 'nModified': 1,\n",
       " 'ok': 1.0,\n",
       " 'opTime': {'t': 2, 'ts': Timestamp(1505937186, 2)},\n",
       " 'updatedExisting': True}"
      ]
     },
     "metadata": {},
     "output_type": "display_data"
    },
    {
     "data": {
      "text/plain": [
       "{'electionId': ObjectId('7fffffff0000000000000002'),\n",
       " 'n': 1,\n",
       " 'nModified': 1,\n",
       " 'ok': 1.0,\n",
       " 'opTime': {'t': 2, 'ts': Timestamp(1505937188, 1)},\n",
       " 'updatedExisting': True}"
      ]
     },
     "metadata": {},
     "output_type": "display_data"
    },
    {
     "data": {
      "text/plain": [
       "{'electionId': ObjectId('7fffffff0000000000000002'),\n",
       " 'n': 1,\n",
       " 'nModified': 1,\n",
       " 'ok': 1.0,\n",
       " 'opTime': {'t': 2, 'ts': Timestamp(1505937189, 2)},\n",
       " 'updatedExisting': True}"
      ]
     },
     "metadata": {},
     "output_type": "display_data"
    },
    {
     "data": {
      "text/plain": [
       "{'electionId': ObjectId('7fffffff0000000000000002'),\n",
       " 'n': 1,\n",
       " 'nModified': 1,\n",
       " 'ok': 1.0,\n",
       " 'opTime': {'t': 2, 'ts': Timestamp(1505937192, 1)},\n",
       " 'updatedExisting': True}"
      ]
     },
     "metadata": {},
     "output_type": "display_data"
    },
    {
     "data": {
      "text/plain": [
       "{'electionId': ObjectId('7fffffff0000000000000002'),\n",
       " 'n': 1,\n",
       " 'nModified': 1,\n",
       " 'ok': 1.0,\n",
       " 'opTime': {'t': 2, 'ts': Timestamp(1505937193, 3)},\n",
       " 'updatedExisting': True}"
      ]
     },
     "metadata": {},
     "output_type": "display_data"
    },
    {
     "data": {
      "text/plain": [
       "{'electionId': ObjectId('7fffffff0000000000000002'),\n",
       " 'n': 1,\n",
       " 'nModified': 1,\n",
       " 'ok': 1.0,\n",
       " 'opTime': {'t': 2, 'ts': Timestamp(1505937196, 1)},\n",
       " 'updatedExisting': True}"
      ]
     },
     "metadata": {},
     "output_type": "display_data"
    },
    {
     "data": {
      "text/plain": [
       "{'electionId': ObjectId('7fffffff0000000000000002'),\n",
       " 'n': 1,\n",
       " 'nModified': 1,\n",
       " 'ok': 1.0,\n",
       " 'opTime': {'t': 2, 'ts': Timestamp(1505937197, 2)},\n",
       " 'updatedExisting': True}"
      ]
     },
     "metadata": {},
     "output_type": "display_data"
    },
    {
     "data": {
      "text/plain": [
       "{'electionId': ObjectId('7fffffff0000000000000002'),\n",
       " 'n': 1,\n",
       " 'nModified': 1,\n",
       " 'ok': 1.0,\n",
       " 'opTime': {'t': 2, 'ts': Timestamp(1505937199, 1)},\n",
       " 'updatedExisting': True}"
      ]
     },
     "metadata": {},
     "output_type": "display_data"
    },
    {
     "data": {
      "text/plain": [
       "{'electionId': ObjectId('7fffffff0000000000000002'),\n",
       " 'n': 1,\n",
       " 'nModified': 1,\n",
       " 'ok': 1.0,\n",
       " 'opTime': {'t': 2, 'ts': Timestamp(1505937200, 3)},\n",
       " 'updatedExisting': True}"
      ]
     },
     "metadata": {},
     "output_type": "display_data"
    },
    {
     "data": {
      "text/plain": [
       "{'electionId': ObjectId('7fffffff0000000000000002'),\n",
       " 'n': 1,\n",
       " 'nModified': 1,\n",
       " 'ok': 1.0,\n",
       " 'opTime': {'t': 2, 'ts': Timestamp(1505937202, 2)},\n",
       " 'updatedExisting': True}"
      ]
     },
     "metadata": {},
     "output_type": "display_data"
    },
    {
     "data": {
      "text/plain": [
       "{'electionId': ObjectId('7fffffff0000000000000002'),\n",
       " 'n': 1,\n",
       " 'nModified': 1,\n",
       " 'ok': 1.0,\n",
       " 'opTime': {'t': 2, 'ts': Timestamp(1505937203, 3)},\n",
       " 'updatedExisting': True}"
      ]
     },
     "metadata": {},
     "output_type": "display_data"
    },
    {
     "data": {
      "text/plain": [
       "{'electionId': ObjectId('7fffffff0000000000000002'),\n",
       " 'n': 1,\n",
       " 'nModified': 1,\n",
       " 'ok': 1.0,\n",
       " 'opTime': {'t': 2, 'ts': Timestamp(1505937205, 2)},\n",
       " 'updatedExisting': True}"
      ]
     },
     "metadata": {},
     "output_type": "display_data"
    },
    {
     "data": {
      "text/plain": [
       "{'electionId': ObjectId('7fffffff0000000000000002'),\n",
       " 'n': 1,\n",
       " 'nModified': 1,\n",
       " 'ok': 1.0,\n",
       " 'opTime': {'t': 2, 'ts': Timestamp(1505937206, 2)},\n",
       " 'updatedExisting': True}"
      ]
     },
     "metadata": {},
     "output_type": "display_data"
    },
    {
     "data": {
      "text/plain": [
       "{'electionId': ObjectId('7fffffff0000000000000002'),\n",
       " 'n': 1,\n",
       " 'nModified': 1,\n",
       " 'ok': 1.0,\n",
       " 'opTime': {'t': 2, 'ts': Timestamp(1505937206, 5)},\n",
       " 'updatedExisting': True}"
      ]
     },
     "metadata": {},
     "output_type": "display_data"
    },
    {
     "data": {
      "text/plain": [
       "{'electionId': ObjectId('7fffffff0000000000000002'),\n",
       " 'n': 1,\n",
       " 'nModified': 1,\n",
       " 'ok': 1.0,\n",
       " 'opTime': {'t': 2, 'ts': Timestamp(1505937207, 3)},\n",
       " 'updatedExisting': True}"
      ]
     },
     "metadata": {},
     "output_type": "display_data"
    },
    {
     "data": {
      "text/plain": [
       "{'electionId': ObjectId('7fffffff0000000000000002'),\n",
       " 'n': 1,\n",
       " 'nModified': 1,\n",
       " 'ok': 1.0,\n",
       " 'opTime': {'t': 2, 'ts': Timestamp(1505937208, 2)},\n",
       " 'updatedExisting': True}"
      ]
     },
     "metadata": {},
     "output_type": "display_data"
    },
    {
     "data": {
      "text/plain": [
       "{'electionId': ObjectId('7fffffff0000000000000002'),\n",
       " 'n': 1,\n",
       " 'nModified': 1,\n",
       " 'ok': 1.0,\n",
       " 'opTime': {'t': 2, 'ts': Timestamp(1505937209, 3)},\n",
       " 'updatedExisting': True}"
      ]
     },
     "metadata": {},
     "output_type": "display_data"
    },
    {
     "data": {
      "text/plain": [
       "{'electionId': ObjectId('7fffffff0000000000000002'),\n",
       " 'n': 1,\n",
       " 'nModified': 1,\n",
       " 'ok': 1.0,\n",
       " 'opTime': {'t': 2, 'ts': Timestamp(1505937210, 2)},\n",
       " 'updatedExisting': True}"
      ]
     },
     "metadata": {},
     "output_type": "display_data"
    },
    {
     "data": {
      "text/plain": [
       "{'electionId': ObjectId('7fffffff0000000000000002'),\n",
       " 'n': 1,\n",
       " 'nModified': 1,\n",
       " 'ok': 1.0,\n",
       " 'opTime': {'t': 2, 'ts': Timestamp(1505937211, 3)},\n",
       " 'updatedExisting': True}"
      ]
     },
     "metadata": {},
     "output_type": "display_data"
    },
    {
     "data": {
      "text/plain": [
       "{'electionId': ObjectId('7fffffff0000000000000002'),\n",
       " 'n': 1,\n",
       " 'nModified': 1,\n",
       " 'ok': 1.0,\n",
       " 'opTime': {'t': 2, 'ts': Timestamp(1505937212, 2)},\n",
       " 'updatedExisting': True}"
      ]
     },
     "metadata": {},
     "output_type": "display_data"
    },
    {
     "data": {
      "text/plain": [
       "{'electionId': ObjectId('7fffffff0000000000000002'),\n",
       " 'n': 1,\n",
       " 'nModified': 1,\n",
       " 'ok': 1.0,\n",
       " 'opTime': {'t': 2, 'ts': Timestamp(1505937213, 2)},\n",
       " 'updatedExisting': True}"
      ]
     },
     "metadata": {},
     "output_type": "display_data"
    },
    {
     "data": {
      "text/plain": [
       "{'electionId': ObjectId('7fffffff0000000000000002'),\n",
       " 'n': 1,\n",
       " 'nModified': 1,\n",
       " 'ok': 1.0,\n",
       " 'opTime': {'t': 2, 'ts': Timestamp(1505937214, 1)},\n",
       " 'updatedExisting': True}"
      ]
     },
     "metadata": {},
     "output_type": "display_data"
    },
    {
     "data": {
      "text/plain": [
       "{'electionId': ObjectId('7fffffff0000000000000002'),\n",
       " 'n': 1,\n",
       " 'nModified': 1,\n",
       " 'ok': 1.0,\n",
       " 'opTime': {'t': 2, 'ts': Timestamp(1505937215, 1)},\n",
       " 'updatedExisting': True}"
      ]
     },
     "metadata": {},
     "output_type": "display_data"
    },
    {
     "data": {
      "text/plain": [
       "{'electionId': ObjectId('7fffffff0000000000000002'),\n",
       " 'n': 1,\n",
       " 'nModified': 1,\n",
       " 'ok': 1.0,\n",
       " 'opTime': {'t': 2, 'ts': Timestamp(1505937215, 4)},\n",
       " 'updatedExisting': True}"
      ]
     },
     "metadata": {},
     "output_type": "display_data"
    },
    {
     "data": {
      "text/plain": [
       "{'electionId': ObjectId('7fffffff0000000000000002'),\n",
       " 'n': 1,\n",
       " 'nModified': 1,\n",
       " 'ok': 1.0,\n",
       " 'opTime': {'t': 2, 'ts': Timestamp(1505937216, 4)},\n",
       " 'updatedExisting': True}"
      ]
     },
     "metadata": {},
     "output_type": "display_data"
    },
    {
     "data": {
      "text/plain": [
       "{'electionId': ObjectId('7fffffff0000000000000002'),\n",
       " 'n': 1,\n",
       " 'nModified': 1,\n",
       " 'ok': 1.0,\n",
       " 'opTime': {'t': 2, 'ts': Timestamp(1505937217, 3)},\n",
       " 'updatedExisting': True}"
      ]
     },
     "metadata": {},
     "output_type": "display_data"
    },
    {
     "data": {
      "text/plain": [
       "{'electionId': ObjectId('7fffffff0000000000000002'),\n",
       " 'n': 1,\n",
       " 'nModified': 1,\n",
       " 'ok': 1.0,\n",
       " 'opTime': {'t': 2, 'ts': Timestamp(1505937219, 2)},\n",
       " 'updatedExisting': True}"
      ]
     },
     "metadata": {},
     "output_type": "display_data"
    },
    {
     "data": {
      "text/plain": [
       "{'electionId': ObjectId('7fffffff0000000000000002'),\n",
       " 'n': 1,\n",
       " 'nModified': 1,\n",
       " 'ok': 1.0,\n",
       " 'opTime': {'t': 2, 'ts': Timestamp(1505937220, 1)},\n",
       " 'updatedExisting': True}"
      ]
     },
     "metadata": {},
     "output_type": "display_data"
    },
    {
     "data": {
      "text/plain": [
       "{'electionId': ObjectId('7fffffff0000000000000002'),\n",
       " 'n': 1,\n",
       " 'nModified': 1,\n",
       " 'ok': 1.0,\n",
       " 'opTime': {'t': 2, 'ts': Timestamp(1505937220, 3)},\n",
       " 'updatedExisting': True}"
      ]
     },
     "metadata": {},
     "output_type": "display_data"
    },
    {
     "data": {
      "text/plain": [
       "{'electionId': ObjectId('7fffffff0000000000000002'),\n",
       " 'n': 1,\n",
       " 'nModified': 1,\n",
       " 'ok': 1.0,\n",
       " 'opTime': {'t': 2, 'ts': Timestamp(1505937222, 2)},\n",
       " 'updatedExisting': True}"
      ]
     },
     "metadata": {},
     "output_type": "display_data"
    },
    {
     "data": {
      "text/plain": [
       "{'electionId': ObjectId('7fffffff0000000000000002'),\n",
       " 'n': 1,\n",
       " 'nModified': 1,\n",
       " 'ok': 1.0,\n",
       " 'opTime': {'t': 2, 'ts': Timestamp(1505937223, 2)},\n",
       " 'updatedExisting': True}"
      ]
     },
     "metadata": {},
     "output_type": "display_data"
    },
    {
     "data": {
      "text/plain": [
       "{'electionId': ObjectId('7fffffff0000000000000002'),\n",
       " 'n': 1,\n",
       " 'nModified': 1,\n",
       " 'ok': 1.0,\n",
       " 'opTime': {'t': 2, 'ts': Timestamp(1505937224, 4)},\n",
       " 'updatedExisting': True}"
      ]
     },
     "metadata": {},
     "output_type": "display_data"
    },
    {
     "data": {
      "text/plain": [
       "{'electionId': ObjectId('7fffffff0000000000000002'),\n",
       " 'n': 1,\n",
       " 'nModified': 1,\n",
       " 'ok': 1.0,\n",
       " 'opTime': {'t': 2, 'ts': Timestamp(1505937225, 3)},\n",
       " 'updatedExisting': True}"
      ]
     },
     "metadata": {},
     "output_type": "display_data"
    },
    {
     "data": {
      "text/plain": [
       "{'electionId': ObjectId('7fffffff0000000000000002'),\n",
       " 'n': 1,\n",
       " 'nModified': 1,\n",
       " 'ok': 1.0,\n",
       " 'opTime': {'t': 2, 'ts': Timestamp(1505937226, 1)},\n",
       " 'updatedExisting': True}"
      ]
     },
     "metadata": {},
     "output_type": "display_data"
    },
    {
     "data": {
      "text/plain": [
       "{'electionId': ObjectId('7fffffff0000000000000002'),\n",
       " 'n': 1,\n",
       " 'nModified': 1,\n",
       " 'ok': 1.0,\n",
       " 'opTime': {'t': 2, 'ts': Timestamp(1505937226, 4)},\n",
       " 'updatedExisting': True}"
      ]
     },
     "metadata": {},
     "output_type": "display_data"
    },
    {
     "data": {
      "text/plain": [
       "{'electionId': ObjectId('7fffffff0000000000000002'),\n",
       " 'n': 1,\n",
       " 'nModified': 1,\n",
       " 'ok': 1.0,\n",
       " 'opTime': {'t': 2, 'ts': Timestamp(1505937228, 3)},\n",
       " 'updatedExisting': True}"
      ]
     },
     "metadata": {},
     "output_type": "display_data"
    },
    {
     "data": {
      "text/plain": [
       "{'electionId': ObjectId('7fffffff0000000000000002'),\n",
       " 'n': 1,\n",
       " 'nModified': 1,\n",
       " 'ok': 1.0,\n",
       " 'opTime': {'t': 2, 'ts': Timestamp(1505937230, 1)},\n",
       " 'updatedExisting': True}"
      ]
     },
     "metadata": {},
     "output_type": "display_data"
    },
    {
     "data": {
      "text/plain": [
       "{'electionId': ObjectId('7fffffff0000000000000002'),\n",
       " 'n': 1,\n",
       " 'nModified': 1,\n",
       " 'ok': 1.0,\n",
       " 'opTime': {'t': 2, 'ts': Timestamp(1505937230, 5)},\n",
       " 'updatedExisting': True}"
      ]
     },
     "metadata": {},
     "output_type": "display_data"
    },
    {
     "data": {
      "text/plain": [
       "{'electionId': ObjectId('7fffffff0000000000000002'),\n",
       " 'n': 1,\n",
       " 'nModified': 1,\n",
       " 'ok': 1.0,\n",
       " 'opTime': {'t': 2, 'ts': Timestamp(1505937232, 3)},\n",
       " 'updatedExisting': True}"
      ]
     },
     "metadata": {},
     "output_type": "display_data"
    },
    {
     "data": {
      "text/plain": [
       "{'electionId': ObjectId('7fffffff0000000000000002'),\n",
       " 'n': 1,\n",
       " 'nModified': 1,\n",
       " 'ok': 1.0,\n",
       " 'opTime': {'t': 2, 'ts': Timestamp(1505937233, 4)},\n",
       " 'updatedExisting': True}"
      ]
     },
     "metadata": {},
     "output_type": "display_data"
    },
    {
     "data": {
      "text/plain": [
       "{'electionId': ObjectId('7fffffff0000000000000002'),\n",
       " 'n': 1,\n",
       " 'nModified': 1,\n",
       " 'ok': 1.0,\n",
       " 'opTime': {'t': 2, 'ts': Timestamp(1505937234, 2)},\n",
       " 'updatedExisting': True}"
      ]
     },
     "metadata": {},
     "output_type": "display_data"
    },
    {
     "data": {
      "text/plain": [
       "{'electionId': ObjectId('7fffffff0000000000000002'),\n",
       " 'n': 1,\n",
       " 'nModified': 1,\n",
       " 'ok': 1.0,\n",
       " 'opTime': {'t': 2, 'ts': Timestamp(1505937234, 4)},\n",
       " 'updatedExisting': True}"
      ]
     },
     "metadata": {},
     "output_type": "display_data"
    },
    {
     "data": {
      "text/plain": [
       "{'electionId': ObjectId('7fffffff0000000000000002'),\n",
       " 'n': 1,\n",
       " 'nModified': 1,\n",
       " 'ok': 1.0,\n",
       " 'opTime': {'t': 2, 'ts': Timestamp(1505937235, 4)},\n",
       " 'updatedExisting': True}"
      ]
     },
     "metadata": {},
     "output_type": "display_data"
    },
    {
     "data": {
      "text/plain": [
       "{'electionId': ObjectId('7fffffff0000000000000002'),\n",
       " 'n': 1,\n",
       " 'nModified': 1,\n",
       " 'ok': 1.0,\n",
       " 'opTime': {'t': 2, 'ts': Timestamp(1505937236, 2)},\n",
       " 'updatedExisting': True}"
      ]
     },
     "metadata": {},
     "output_type": "display_data"
    },
    {
     "data": {
      "text/plain": [
       "{'electionId': ObjectId('7fffffff0000000000000002'),\n",
       " 'n': 1,\n",
       " 'nModified': 1,\n",
       " 'ok': 1.0,\n",
       " 'opTime': {'t': 2, 'ts': Timestamp(1505937237, 1)},\n",
       " 'updatedExisting': True}"
      ]
     },
     "metadata": {},
     "output_type": "display_data"
    },
    {
     "data": {
      "text/plain": [
       "{'electionId': ObjectId('7fffffff0000000000000002'),\n",
       " 'n': 1,\n",
       " 'nModified': 1,\n",
       " 'ok': 1.0,\n",
       " 'opTime': {'t': 2, 'ts': Timestamp(1505937237, 4)},\n",
       " 'updatedExisting': True}"
      ]
     },
     "metadata": {},
     "output_type": "display_data"
    },
    {
     "data": {
      "text/plain": [
       "{'electionId': ObjectId('7fffffff0000000000000002'),\n",
       " 'n': 1,\n",
       " 'nModified': 1,\n",
       " 'ok': 1.0,\n",
       " 'opTime': {'t': 2, 'ts': Timestamp(1505937238, 2)},\n",
       " 'updatedExisting': True}"
      ]
     },
     "metadata": {},
     "output_type": "display_data"
    },
    {
     "data": {
      "text/plain": [
       "{'electionId': ObjectId('7fffffff0000000000000002'),\n",
       " 'n': 1,\n",
       " 'nModified': 1,\n",
       " 'ok': 1.0,\n",
       " 'opTime': {'t': 2, 'ts': Timestamp(1505937239, 1)},\n",
       " 'updatedExisting': True}"
      ]
     },
     "metadata": {},
     "output_type": "display_data"
    },
    {
     "data": {
      "text/plain": [
       "{'electionId': ObjectId('7fffffff0000000000000002'),\n",
       " 'n': 1,\n",
       " 'nModified': 1,\n",
       " 'ok': 1.0,\n",
       " 'opTime': {'t': 2, 'ts': Timestamp(1505937239, 4)},\n",
       " 'updatedExisting': True}"
      ]
     },
     "metadata": {},
     "output_type": "display_data"
    },
    {
     "data": {
      "text/plain": [
       "{'electionId': ObjectId('7fffffff0000000000000002'),\n",
       " 'n': 1,\n",
       " 'nModified': 1,\n",
       " 'ok': 1.0,\n",
       " 'opTime': {'t': 2, 'ts': Timestamp(1505937240, 2)},\n",
       " 'updatedExisting': True}"
      ]
     },
     "metadata": {},
     "output_type": "display_data"
    },
    {
     "data": {
      "text/plain": [
       "{'electionId': ObjectId('7fffffff0000000000000002'),\n",
       " 'n': 1,\n",
       " 'nModified': 1,\n",
       " 'ok': 1.0,\n",
       " 'opTime': {'t': 2, 'ts': Timestamp(1505937241, 2)},\n",
       " 'updatedExisting': True}"
      ]
     },
     "metadata": {},
     "output_type": "display_data"
    },
    {
     "data": {
      "text/plain": [
       "{'electionId': ObjectId('7fffffff0000000000000002'),\n",
       " 'n': 1,\n",
       " 'nModified': 1,\n",
       " 'ok': 1.0,\n",
       " 'opTime': {'t': 2, 'ts': Timestamp(1505937242, 2)},\n",
       " 'updatedExisting': True}"
      ]
     },
     "metadata": {},
     "output_type": "display_data"
    },
    {
     "data": {
      "text/plain": [
       "{'electionId': ObjectId('7fffffff0000000000000002'),\n",
       " 'n': 1,\n",
       " 'nModified': 1,\n",
       " 'ok': 1.0,\n",
       " 'opTime': {'t': 2, 'ts': Timestamp(1505937244, 2)},\n",
       " 'updatedExisting': True}"
      ]
     },
     "metadata": {},
     "output_type": "display_data"
    },
    {
     "data": {
      "text/plain": [
       "{'electionId': ObjectId('7fffffff0000000000000002'),\n",
       " 'n': 1,\n",
       " 'nModified': 1,\n",
       " 'ok': 1.0,\n",
       " 'opTime': {'t': 2, 'ts': Timestamp(1505937245, 1)},\n",
       " 'updatedExisting': True}"
      ]
     },
     "metadata": {},
     "output_type": "display_data"
    },
    {
     "data": {
      "text/plain": [
       "{'electionId': ObjectId('7fffffff0000000000000002'),\n",
       " 'n': 1,\n",
       " 'nModified': 1,\n",
       " 'ok': 1.0,\n",
       " 'opTime': {'t': 2, 'ts': Timestamp(1505937245, 4)},\n",
       " 'updatedExisting': True}"
      ]
     },
     "metadata": {},
     "output_type": "display_data"
    },
    {
     "data": {
      "text/plain": [
       "{'electionId': ObjectId('7fffffff0000000000000002'),\n",
       " 'n': 1,\n",
       " 'nModified': 1,\n",
       " 'ok': 1.0,\n",
       " 'opTime': {'t': 2, 'ts': Timestamp(1505937246, 3)},\n",
       " 'updatedExisting': True}"
      ]
     },
     "metadata": {},
     "output_type": "display_data"
    },
    {
     "data": {
      "text/plain": [
       "{'electionId': ObjectId('7fffffff0000000000000002'),\n",
       " 'n': 1,\n",
       " 'nModified': 1,\n",
       " 'ok': 1.0,\n",
       " 'opTime': {'t': 2, 'ts': Timestamp(1505937247, 2)},\n",
       " 'updatedExisting': True}"
      ]
     },
     "metadata": {},
     "output_type": "display_data"
    },
    {
     "data": {
      "text/plain": [
       "{'electionId': ObjectId('7fffffff0000000000000002'),\n",
       " 'n': 1,\n",
       " 'nModified': 1,\n",
       " 'ok': 1.0,\n",
       " 'opTime': {'t': 2, 'ts': Timestamp(1505937248, 2)},\n",
       " 'updatedExisting': True}"
      ]
     },
     "metadata": {},
     "output_type": "display_data"
    },
    {
     "data": {
      "text/plain": [
       "{'electionId': ObjectId('7fffffff0000000000000002'),\n",
       " 'n': 1,\n",
       " 'nModified': 1,\n",
       " 'ok': 1.0,\n",
       " 'opTime': {'t': 2, 'ts': Timestamp(1505937249, 1)},\n",
       " 'updatedExisting': True}"
      ]
     },
     "metadata": {},
     "output_type": "display_data"
    },
    {
     "data": {
      "text/plain": [
       "{'electionId': ObjectId('7fffffff0000000000000002'),\n",
       " 'n': 1,\n",
       " 'nModified': 1,\n",
       " 'ok': 1.0,\n",
       " 'opTime': {'t': 2, 'ts': Timestamp(1505937250, 1)},\n",
       " 'updatedExisting': True}"
      ]
     },
     "metadata": {},
     "output_type": "display_data"
    },
    {
     "data": {
      "text/plain": [
       "{'electionId': ObjectId('7fffffff0000000000000002'),\n",
       " 'n': 1,\n",
       " 'nModified': 1,\n",
       " 'ok': 1.0,\n",
       " 'opTime': {'t': 2, 'ts': Timestamp(1505937251, 3)},\n",
       " 'updatedExisting': True}"
      ]
     },
     "metadata": {},
     "output_type": "display_data"
    },
    {
     "data": {
      "text/plain": [
       "{'electionId': ObjectId('7fffffff0000000000000002'),\n",
       " 'n': 1,\n",
       " 'nModified': 1,\n",
       " 'ok': 1.0,\n",
       " 'opTime': {'t': 2, 'ts': Timestamp(1505937252, 2)},\n",
       " 'updatedExisting': True}"
      ]
     },
     "metadata": {},
     "output_type": "display_data"
    },
    {
     "data": {
      "text/plain": [
       "{'electionId': ObjectId('7fffffff0000000000000002'),\n",
       " 'n': 1,\n",
       " 'nModified': 1,\n",
       " 'ok': 1.0,\n",
       " 'opTime': {'t': 2, 'ts': Timestamp(1505937253, 2)},\n",
       " 'updatedExisting': True}"
      ]
     },
     "metadata": {},
     "output_type": "display_data"
    },
    {
     "data": {
      "text/plain": [
       "{'electionId': ObjectId('7fffffff0000000000000002'),\n",
       " 'n': 1,\n",
       " 'nModified': 1,\n",
       " 'ok': 1.0,\n",
       " 'opTime': {'t': 2, 'ts': Timestamp(1505937254, 3)},\n",
       " 'updatedExisting': True}"
      ]
     },
     "metadata": {},
     "output_type": "display_data"
    },
    {
     "data": {
      "text/plain": [
       "{'electionId': ObjectId('7fffffff0000000000000002'),\n",
       " 'n': 1,\n",
       " 'nModified': 1,\n",
       " 'ok': 1.0,\n",
       " 'opTime': {'t': 2, 'ts': Timestamp(1505937255, 1)},\n",
       " 'updatedExisting': True}"
      ]
     },
     "metadata": {},
     "output_type": "display_data"
    },
    {
     "data": {
      "text/plain": [
       "{'electionId': ObjectId('7fffffff0000000000000002'),\n",
       " 'n': 1,\n",
       " 'nModified': 1,\n",
       " 'ok': 1.0,\n",
       " 'opTime': {'t': 2, 'ts': Timestamp(1505937256, 2)},\n",
       " 'updatedExisting': True}"
      ]
     },
     "metadata": {},
     "output_type": "display_data"
    },
    {
     "data": {
      "text/plain": [
       "{'electionId': ObjectId('7fffffff0000000000000002'),\n",
       " 'n': 1,\n",
       " 'nModified': 1,\n",
       " 'ok': 1.0,\n",
       " 'opTime': {'t': 2, 'ts': Timestamp(1505937257, 2)},\n",
       " 'updatedExisting': True}"
      ]
     },
     "metadata": {},
     "output_type": "display_data"
    },
    {
     "data": {
      "text/plain": [
       "{'electionId': ObjectId('7fffffff0000000000000002'),\n",
       " 'n': 1,\n",
       " 'nModified': 1,\n",
       " 'ok': 1.0,\n",
       " 'opTime': {'t': 2, 'ts': Timestamp(1505937258, 1)},\n",
       " 'updatedExisting': True}"
      ]
     },
     "metadata": {},
     "output_type": "display_data"
    },
    {
     "data": {
      "text/plain": [
       "{'electionId': ObjectId('7fffffff0000000000000002'),\n",
       " 'n': 1,\n",
       " 'nModified': 1,\n",
       " 'ok': 1.0,\n",
       " 'opTime': {'t': 2, 'ts': Timestamp(1505937259, 2)},\n",
       " 'updatedExisting': True}"
      ]
     },
     "metadata": {},
     "output_type": "display_data"
    },
    {
     "data": {
      "text/plain": [
       "{'electionId': ObjectId('7fffffff0000000000000002'),\n",
       " 'n': 1,\n",
       " 'nModified': 1,\n",
       " 'ok': 1.0,\n",
       " 'opTime': {'t': 2, 'ts': Timestamp(1505937260, 2)},\n",
       " 'updatedExisting': True}"
      ]
     },
     "metadata": {},
     "output_type": "display_data"
    },
    {
     "data": {
      "text/plain": [
       "{'electionId': ObjectId('7fffffff0000000000000002'),\n",
       " 'n': 1,\n",
       " 'nModified': 1,\n",
       " 'ok': 1.0,\n",
       " 'opTime': {'t': 2, 'ts': Timestamp(1505937261, 2)},\n",
       " 'updatedExisting': True}"
      ]
     },
     "metadata": {},
     "output_type": "display_data"
    },
    {
     "data": {
      "text/plain": [
       "{'electionId': ObjectId('7fffffff0000000000000002'),\n",
       " 'n': 1,\n",
       " 'nModified': 1,\n",
       " 'ok': 1.0,\n",
       " 'opTime': {'t': 2, 'ts': Timestamp(1505937262, 2)},\n",
       " 'updatedExisting': True}"
      ]
     },
     "metadata": {},
     "output_type": "display_data"
    },
    {
     "data": {
      "text/plain": [
       "{'electionId': ObjectId('7fffffff0000000000000002'),\n",
       " 'n': 1,\n",
       " 'nModified': 1,\n",
       " 'ok': 1.0,\n",
       " 'opTime': {'t': 2, 'ts': Timestamp(1505937264, 2)},\n",
       " 'updatedExisting': True}"
      ]
     },
     "metadata": {},
     "output_type": "display_data"
    },
    {
     "data": {
      "text/plain": [
       "{'electionId': ObjectId('7fffffff0000000000000002'),\n",
       " 'n': 1,\n",
       " 'nModified': 1,\n",
       " 'ok': 1.0,\n",
       " 'opTime': {'t': 2, 'ts': Timestamp(1505937266, 2)},\n",
       " 'updatedExisting': True}"
      ]
     },
     "metadata": {},
     "output_type": "display_data"
    },
    {
     "data": {
      "text/plain": [
       "{'electionId': ObjectId('7fffffff0000000000000002'),\n",
       " 'n': 1,\n",
       " 'nModified': 1,\n",
       " 'ok': 1.0,\n",
       " 'opTime': {'t': 2, 'ts': Timestamp(1505937267, 2)},\n",
       " 'updatedExisting': True}"
      ]
     },
     "metadata": {},
     "output_type": "display_data"
    },
    {
     "data": {
      "text/plain": [
       "{'electionId': ObjectId('7fffffff0000000000000002'),\n",
       " 'n': 1,\n",
       " 'nModified': 1,\n",
       " 'ok': 1.0,\n",
       " 'opTime': {'t': 2, 'ts': Timestamp(1505937269, 1)},\n",
       " 'updatedExisting': True}"
      ]
     },
     "metadata": {},
     "output_type": "display_data"
    },
    {
     "data": {
      "text/plain": [
       "{'electionId': ObjectId('7fffffff0000000000000002'),\n",
       " 'n': 1,\n",
       " 'nModified': 1,\n",
       " 'ok': 1.0,\n",
       " 'opTime': {'t': 2, 'ts': Timestamp(1505937270, 2)},\n",
       " 'updatedExisting': True}"
      ]
     },
     "metadata": {},
     "output_type": "display_data"
    },
    {
     "data": {
      "text/plain": [
       "{'electionId': ObjectId('7fffffff0000000000000002'),\n",
       " 'n': 1,\n",
       " 'nModified': 1,\n",
       " 'ok': 1.0,\n",
       " 'opTime': {'t': 2, 'ts': Timestamp(1505937272, 1)},\n",
       " 'updatedExisting': True}"
      ]
     },
     "metadata": {},
     "output_type": "display_data"
    },
    {
     "data": {
      "text/plain": [
       "{'electionId': ObjectId('7fffffff0000000000000002'),\n",
       " 'n': 1,\n",
       " 'nModified': 1,\n",
       " 'ok': 1.0,\n",
       " 'opTime': {'t': 2, 'ts': Timestamp(1505937273, 1)},\n",
       " 'updatedExisting': True}"
      ]
     },
     "metadata": {},
     "output_type": "display_data"
    },
    {
     "data": {
      "text/plain": [
       "{'electionId': ObjectId('7fffffff0000000000000002'),\n",
       " 'n': 1,\n",
       " 'nModified': 1,\n",
       " 'ok': 1.0,\n",
       " 'opTime': {'t': 2, 'ts': Timestamp(1505937274, 3)},\n",
       " 'updatedExisting': True}"
      ]
     },
     "metadata": {},
     "output_type": "display_data"
    },
    {
     "data": {
      "text/plain": [
       "{'electionId': ObjectId('7fffffff0000000000000002'),\n",
       " 'n': 1,\n",
       " 'nModified': 1,\n",
       " 'ok': 1.0,\n",
       " 'opTime': {'t': 2, 'ts': Timestamp(1505937276, 1)},\n",
       " 'updatedExisting': True}"
      ]
     },
     "metadata": {},
     "output_type": "display_data"
    },
    {
     "data": {
      "text/plain": [
       "{'electionId': ObjectId('7fffffff0000000000000002'),\n",
       " 'n': 1,\n",
       " 'nModified': 1,\n",
       " 'ok': 1.0,\n",
       " 'opTime': {'t': 2, 'ts': Timestamp(1505937277, 2)},\n",
       " 'updatedExisting': True}"
      ]
     },
     "metadata": {},
     "output_type": "display_data"
    },
    {
     "data": {
      "text/plain": [
       "{'electionId': ObjectId('7fffffff0000000000000002'),\n",
       " 'n': 1,\n",
       " 'nModified': 1,\n",
       " 'ok': 1.0,\n",
       " 'opTime': {'t': 2, 'ts': Timestamp(1505937279, 3)},\n",
       " 'updatedExisting': True}"
      ]
     },
     "metadata": {},
     "output_type": "display_data"
    },
    {
     "data": {
      "text/plain": [
       "{'electionId': ObjectId('7fffffff0000000000000002'),\n",
       " 'n': 1,\n",
       " 'nModified': 1,\n",
       " 'ok': 1.0,\n",
       " 'opTime': {'t': 2, 'ts': Timestamp(1505937281, 2)},\n",
       " 'updatedExisting': True}"
      ]
     },
     "metadata": {},
     "output_type": "display_data"
    },
    {
     "data": {
      "text/plain": [
       "{'electionId': ObjectId('7fffffff0000000000000002'),\n",
       " 'n': 1,\n",
       " 'nModified': 1,\n",
       " 'ok': 1.0,\n",
       " 'opTime': {'t': 2, 'ts': Timestamp(1505937282, 2)},\n",
       " 'updatedExisting': True}"
      ]
     },
     "metadata": {},
     "output_type": "display_data"
    },
    {
     "data": {
      "text/plain": [
       "{'electionId': ObjectId('7fffffff0000000000000002'),\n",
       " 'n': 1,\n",
       " 'nModified': 1,\n",
       " 'ok': 1.0,\n",
       " 'opTime': {'t': 2, 'ts': Timestamp(1505937284, 1)},\n",
       " 'updatedExisting': True}"
      ]
     },
     "metadata": {},
     "output_type": "display_data"
    },
    {
     "data": {
      "text/plain": [
       "{'electionId': ObjectId('7fffffff0000000000000002'),\n",
       " 'n': 1,\n",
       " 'nModified': 1,\n",
       " 'ok': 1.0,\n",
       " 'opTime': {'t': 2, 'ts': Timestamp(1505937285, 3)},\n",
       " 'updatedExisting': True}"
      ]
     },
     "metadata": {},
     "output_type": "display_data"
    },
    {
     "data": {
      "text/plain": [
       "{'electionId': ObjectId('7fffffff0000000000000002'),\n",
       " 'n': 1,\n",
       " 'nModified': 1,\n",
       " 'ok': 1.0,\n",
       " 'opTime': {'t': 2, 'ts': Timestamp(1505937287, 2)},\n",
       " 'updatedExisting': True}"
      ]
     },
     "metadata": {},
     "output_type": "display_data"
    },
    {
     "data": {
      "text/plain": [
       "{'electionId': ObjectId('7fffffff0000000000000002'),\n",
       " 'n': 1,\n",
       " 'nModified': 1,\n",
       " 'ok': 1.0,\n",
       " 'opTime': {'t': 2, 'ts': Timestamp(1505937289, 1)},\n",
       " 'updatedExisting': True}"
      ]
     },
     "metadata": {},
     "output_type": "display_data"
    },
    {
     "data": {
      "text/plain": [
       "{'electionId': ObjectId('7fffffff0000000000000002'),\n",
       " 'n': 1,\n",
       " 'nModified': 1,\n",
       " 'ok': 1.0,\n",
       " 'opTime': {'t': 2, 'ts': Timestamp(1505937290, 2)},\n",
       " 'updatedExisting': True}"
      ]
     },
     "metadata": {},
     "output_type": "display_data"
    },
    {
     "data": {
      "text/plain": [
       "{'electionId': ObjectId('7fffffff0000000000000002'),\n",
       " 'n': 1,\n",
       " 'nModified': 1,\n",
       " 'ok': 1.0,\n",
       " 'opTime': {'t': 2, 'ts': Timestamp(1505937292, 2)},\n",
       " 'updatedExisting': True}"
      ]
     },
     "metadata": {},
     "output_type": "display_data"
    },
    {
     "data": {
      "text/plain": [
       "{'electionId': ObjectId('7fffffff0000000000000002'),\n",
       " 'n': 1,\n",
       " 'nModified': 1,\n",
       " 'ok': 1.0,\n",
       " 'opTime': {'t': 2, 'ts': Timestamp(1505937293, 2)},\n",
       " 'updatedExisting': True}"
      ]
     },
     "metadata": {},
     "output_type": "display_data"
    },
    {
     "data": {
      "text/plain": [
       "{'electionId': ObjectId('7fffffff0000000000000002'),\n",
       " 'n': 1,\n",
       " 'nModified': 1,\n",
       " 'ok': 1.0,\n",
       " 'opTime': {'t': 2, 'ts': Timestamp(1505937294, 2)},\n",
       " 'updatedExisting': True}"
      ]
     },
     "metadata": {},
     "output_type": "display_data"
    },
    {
     "data": {
      "text/plain": [
       "{'electionId': ObjectId('7fffffff0000000000000002'),\n",
       " 'n': 1,\n",
       " 'nModified': 1,\n",
       " 'ok': 1.0,\n",
       " 'opTime': {'t': 2, 'ts': Timestamp(1505937295, 3)},\n",
       " 'updatedExisting': True}"
      ]
     },
     "metadata": {},
     "output_type": "display_data"
    },
    {
     "data": {
      "text/plain": [
       "{'electionId': ObjectId('7fffffff0000000000000002'),\n",
       " 'n': 1,\n",
       " 'nModified': 1,\n",
       " 'ok': 1.0,\n",
       " 'opTime': {'t': 2, 'ts': Timestamp(1505937296, 2)},\n",
       " 'updatedExisting': True}"
      ]
     },
     "metadata": {},
     "output_type": "display_data"
    },
    {
     "data": {
      "text/plain": [
       "{'electionId': ObjectId('7fffffff0000000000000002'),\n",
       " 'n': 1,\n",
       " 'nModified': 1,\n",
       " 'ok': 1.0,\n",
       " 'opTime': {'t': 2, 'ts': Timestamp(1505937297, 2)},\n",
       " 'updatedExisting': True}"
      ]
     },
     "metadata": {},
     "output_type": "display_data"
    },
    {
     "data": {
      "text/plain": [
       "{'electionId': ObjectId('7fffffff0000000000000002'),\n",
       " 'n': 1,\n",
       " 'nModified': 1,\n",
       " 'ok': 1.0,\n",
       " 'opTime': {'t': 2, 'ts': Timestamp(1505937298, 2)},\n",
       " 'updatedExisting': True}"
      ]
     },
     "metadata": {},
     "output_type": "display_data"
    },
    {
     "data": {
      "text/plain": [
       "{'electionId': ObjectId('7fffffff0000000000000002'),\n",
       " 'n': 1,\n",
       " 'nModified': 1,\n",
       " 'ok': 1.0,\n",
       " 'opTime': {'t': 2, 'ts': Timestamp(1505937299, 2)},\n",
       " 'updatedExisting': True}"
      ]
     },
     "metadata": {},
     "output_type": "display_data"
    },
    {
     "data": {
      "text/plain": [
       "{'electionId': ObjectId('7fffffff0000000000000002'),\n",
       " 'n': 1,\n",
       " 'nModified': 1,\n",
       " 'ok': 1.0,\n",
       " 'opTime': {'t': 2, 'ts': Timestamp(1505937299, 5)},\n",
       " 'updatedExisting': True}"
      ]
     },
     "metadata": {},
     "output_type": "display_data"
    },
    {
     "data": {
      "text/plain": [
       "{'electionId': ObjectId('7fffffff0000000000000002'),\n",
       " 'n': 1,\n",
       " 'nModified': 1,\n",
       " 'ok': 1.0,\n",
       " 'opTime': {'t': 2, 'ts': Timestamp(1505937300, 3)},\n",
       " 'updatedExisting': True}"
      ]
     },
     "metadata": {},
     "output_type": "display_data"
    },
    {
     "data": {
      "text/plain": [
       "{'electionId': ObjectId('7fffffff0000000000000002'),\n",
       " 'n': 1,\n",
       " 'nModified': 1,\n",
       " 'ok': 1.0,\n",
       " 'opTime': {'t': 2, 'ts': Timestamp(1505937302, 1)},\n",
       " 'updatedExisting': True}"
      ]
     },
     "metadata": {},
     "output_type": "display_data"
    },
    {
     "data": {
      "text/plain": [
       "{'electionId': ObjectId('7fffffff0000000000000002'),\n",
       " 'n': 1,\n",
       " 'nModified': 1,\n",
       " 'ok': 1.0,\n",
       " 'opTime': {'t': 2, 'ts': Timestamp(1505937302, 4)},\n",
       " 'updatedExisting': True}"
      ]
     },
     "metadata": {},
     "output_type": "display_data"
    },
    {
     "data": {
      "text/plain": [
       "{'electionId': ObjectId('7fffffff0000000000000002'),\n",
       " 'n': 1,\n",
       " 'nModified': 1,\n",
       " 'ok': 1.0,\n",
       " 'opTime': {'t': 2, 'ts': Timestamp(1505937303, 2)},\n",
       " 'updatedExisting': True}"
      ]
     },
     "metadata": {},
     "output_type": "display_data"
    },
    {
     "data": {
      "text/plain": [
       "{'electionId': ObjectId('7fffffff0000000000000002'),\n",
       " 'n': 1,\n",
       " 'nModified': 1,\n",
       " 'ok': 1.0,\n",
       " 'opTime': {'t': 2, 'ts': Timestamp(1505937304, 1)},\n",
       " 'updatedExisting': True}"
      ]
     },
     "metadata": {},
     "output_type": "display_data"
    },
    {
     "data": {
      "text/plain": [
       "{'electionId': ObjectId('7fffffff0000000000000002'),\n",
       " 'n': 1,\n",
       " 'nModified': 1,\n",
       " 'ok': 1.0,\n",
       " 'opTime': {'t': 2, 'ts': Timestamp(1505937304, 4)},\n",
       " 'updatedExisting': True}"
      ]
     },
     "metadata": {},
     "output_type": "display_data"
    },
    {
     "data": {
      "text/plain": [
       "{'electionId': ObjectId('7fffffff0000000000000002'),\n",
       " 'n': 1,\n",
       " 'nModified': 1,\n",
       " 'ok': 1.0,\n",
       " 'opTime': {'t': 2, 'ts': Timestamp(1505937305, 3)},\n",
       " 'updatedExisting': True}"
      ]
     },
     "metadata": {},
     "output_type": "display_data"
    },
    {
     "data": {
      "text/plain": [
       "{'electionId': ObjectId('7fffffff0000000000000002'),\n",
       " 'n': 1,\n",
       " 'nModified': 1,\n",
       " 'ok': 1.0,\n",
       " 'opTime': {'t': 2, 'ts': Timestamp(1505937306, 3)},\n",
       " 'updatedExisting': True}"
      ]
     },
     "metadata": {},
     "output_type": "display_data"
    },
    {
     "data": {
      "text/plain": [
       "{'electionId': ObjectId('7fffffff0000000000000002'),\n",
       " 'n': 1,\n",
       " 'nModified': 1,\n",
       " 'ok': 1.0,\n",
       " 'opTime': {'t': 2, 'ts': Timestamp(1505937307, 3)},\n",
       " 'updatedExisting': True}"
      ]
     },
     "metadata": {},
     "output_type": "display_data"
    },
    {
     "data": {
      "text/plain": [
       "{'electionId': ObjectId('7fffffff0000000000000002'),\n",
       " 'n': 1,\n",
       " 'nModified': 1,\n",
       " 'ok': 1.0,\n",
       " 'opTime': {'t': 2, 'ts': Timestamp(1505937308, 3)},\n",
       " 'updatedExisting': True}"
      ]
     },
     "metadata": {},
     "output_type": "display_data"
    },
    {
     "data": {
      "text/plain": [
       "{'electionId': ObjectId('7fffffff0000000000000002'),\n",
       " 'n': 1,\n",
       " 'nModified': 1,\n",
       " 'ok': 1.0,\n",
       " 'opTime': {'t': 2, 'ts': Timestamp(1505937309, 2)},\n",
       " 'updatedExisting': True}"
      ]
     },
     "metadata": {},
     "output_type": "display_data"
    },
    {
     "data": {
      "text/plain": [
       "{'electionId': ObjectId('7fffffff0000000000000002'),\n",
       " 'n': 1,\n",
       " 'nModified': 1,\n",
       " 'ok': 1.0,\n",
       " 'opTime': {'t': 2, 'ts': Timestamp(1505937311, 1)},\n",
       " 'updatedExisting': True}"
      ]
     },
     "metadata": {},
     "output_type": "display_data"
    },
    {
     "data": {
      "text/plain": [
       "{'electionId': ObjectId('7fffffff0000000000000002'),\n",
       " 'n': 1,\n",
       " 'nModified': 1,\n",
       " 'ok': 1.0,\n",
       " 'opTime': {'t': 2, 'ts': Timestamp(1505937311, 4)},\n",
       " 'updatedExisting': True}"
      ]
     },
     "metadata": {},
     "output_type": "display_data"
    },
    {
     "data": {
      "text/plain": [
       "{'electionId': ObjectId('7fffffff0000000000000002'),\n",
       " 'n': 1,\n",
       " 'nModified': 1,\n",
       " 'ok': 1.0,\n",
       " 'opTime': {'t': 2, 'ts': Timestamp(1505937312, 3)},\n",
       " 'updatedExisting': True}"
      ]
     },
     "metadata": {},
     "output_type": "display_data"
    },
    {
     "data": {
      "text/plain": [
       "{'electionId': ObjectId('7fffffff0000000000000002'),\n",
       " 'n': 1,\n",
       " 'nModified': 1,\n",
       " 'ok': 1.0,\n",
       " 'opTime': {'t': 2, 'ts': Timestamp(1505937313, 3)},\n",
       " 'updatedExisting': True}"
      ]
     },
     "metadata": {},
     "output_type": "display_data"
    },
    {
     "data": {
      "text/plain": [
       "{'electionId': ObjectId('7fffffff0000000000000002'),\n",
       " 'n': 1,\n",
       " 'nModified': 1,\n",
       " 'ok': 1.0,\n",
       " 'opTime': {'t': 2, 'ts': Timestamp(1505937314, 2)},\n",
       " 'updatedExisting': True}"
      ]
     },
     "metadata": {},
     "output_type": "display_data"
    },
    {
     "data": {
      "text/plain": [
       "{'electionId': ObjectId('7fffffff0000000000000002'),\n",
       " 'n': 1,\n",
       " 'nModified': 1,\n",
       " 'ok': 1.0,\n",
       " 'opTime': {'t': 2, 'ts': Timestamp(1505937315, 2)},\n",
       " 'updatedExisting': True}"
      ]
     },
     "metadata": {},
     "output_type": "display_data"
    },
    {
     "data": {
      "text/plain": [
       "{'electionId': ObjectId('7fffffff0000000000000002'),\n",
       " 'n': 1,\n",
       " 'nModified': 1,\n",
       " 'ok': 1.0,\n",
       " 'opTime': {'t': 2, 'ts': Timestamp(1505937317, 1)},\n",
       " 'updatedExisting': True}"
      ]
     },
     "metadata": {},
     "output_type": "display_data"
    },
    {
     "data": {
      "text/plain": [
       "{'electionId': ObjectId('7fffffff0000000000000002'),\n",
       " 'n': 1,\n",
       " 'nModified': 1,\n",
       " 'ok': 1.0,\n",
       " 'opTime': {'t': 2, 'ts': Timestamp(1505937318, 2)},\n",
       " 'updatedExisting': True}"
      ]
     },
     "metadata": {},
     "output_type": "display_data"
    },
    {
     "data": {
      "text/plain": [
       "{'electionId': ObjectId('7fffffff0000000000000002'),\n",
       " 'n': 1,\n",
       " 'nModified': 1,\n",
       " 'ok': 1.0,\n",
       " 'opTime': {'t': 2, 'ts': Timestamp(1505937320, 2)},\n",
       " 'updatedExisting': True}"
      ]
     },
     "metadata": {},
     "output_type": "display_data"
    },
    {
     "data": {
      "text/plain": [
       "{'electionId': ObjectId('7fffffff0000000000000002'),\n",
       " 'n': 1,\n",
       " 'nModified': 1,\n",
       " 'ok': 1.0,\n",
       " 'opTime': {'t': 2, 'ts': Timestamp(1505937321, 2)},\n",
       " 'updatedExisting': True}"
      ]
     },
     "metadata": {},
     "output_type": "display_data"
    },
    {
     "data": {
      "text/plain": [
       "{'electionId': ObjectId('7fffffff0000000000000002'),\n",
       " 'n': 1,\n",
       " 'nModified': 1,\n",
       " 'ok': 1.0,\n",
       " 'opTime': {'t': 2, 'ts': Timestamp(1505937323, 2)},\n",
       " 'updatedExisting': True}"
      ]
     },
     "metadata": {},
     "output_type": "display_data"
    },
    {
     "data": {
      "text/plain": [
       "{'electionId': ObjectId('7fffffff0000000000000002'),\n",
       " 'n': 1,\n",
       " 'nModified': 1,\n",
       " 'ok': 1.0,\n",
       " 'opTime': {'t': 2, 'ts': Timestamp(1505937324, 2)},\n",
       " 'updatedExisting': True}"
      ]
     },
     "metadata": {},
     "output_type": "display_data"
    },
    {
     "data": {
      "text/plain": [
       "{'electionId': ObjectId('7fffffff0000000000000002'),\n",
       " 'n': 1,\n",
       " 'nModified': 1,\n",
       " 'ok': 1.0,\n",
       " 'opTime': {'t': 2, 'ts': Timestamp(1505937326, 2)},\n",
       " 'updatedExisting': True}"
      ]
     },
     "metadata": {},
     "output_type": "display_data"
    },
    {
     "data": {
      "text/plain": [
       "{'electionId': ObjectId('7fffffff0000000000000002'),\n",
       " 'n': 1,\n",
       " 'nModified': 1,\n",
       " 'ok': 1.0,\n",
       " 'opTime': {'t': 2, 'ts': Timestamp(1505937327, 2)},\n",
       " 'updatedExisting': True}"
      ]
     },
     "metadata": {},
     "output_type": "display_data"
    },
    {
     "data": {
      "text/plain": [
       "{'electionId': ObjectId('7fffffff0000000000000002'),\n",
       " 'n': 1,\n",
       " 'nModified': 1,\n",
       " 'ok': 1.0,\n",
       " 'opTime': {'t': 2, 'ts': Timestamp(1505937329, 2)},\n",
       " 'updatedExisting': True}"
      ]
     },
     "metadata": {},
     "output_type": "display_data"
    },
    {
     "data": {
      "text/plain": [
       "{'electionId': ObjectId('7fffffff0000000000000002'),\n",
       " 'n': 1,\n",
       " 'nModified': 1,\n",
       " 'ok': 1.0,\n",
       " 'opTime': {'t': 2, 'ts': Timestamp(1505937332, 2)},\n",
       " 'updatedExisting': True}"
      ]
     },
     "metadata": {},
     "output_type": "display_data"
    },
    {
     "data": {
      "text/plain": [
       "{'electionId': ObjectId('7fffffff0000000000000002'),\n",
       " 'n': 1,\n",
       " 'nModified': 1,\n",
       " 'ok': 1.0,\n",
       " 'opTime': {'t': 2, 'ts': Timestamp(1505937334, 1)},\n",
       " 'updatedExisting': True}"
      ]
     },
     "metadata": {},
     "output_type": "display_data"
    },
    {
     "data": {
      "text/plain": [
       "{'electionId': ObjectId('7fffffff0000000000000002'),\n",
       " 'n': 1,\n",
       " 'nModified': 1,\n",
       " 'ok': 1.0,\n",
       " 'opTime': {'t': 2, 'ts': Timestamp(1505937335, 2)},\n",
       " 'updatedExisting': True}"
      ]
     },
     "metadata": {},
     "output_type": "display_data"
    },
    {
     "data": {
      "text/plain": [
       "{'electionId': ObjectId('7fffffff0000000000000002'),\n",
       " 'n': 1,\n",
       " 'nModified': 1,\n",
       " 'ok': 1.0,\n",
       " 'opTime': {'t': 2, 'ts': Timestamp(1505937337, 2)},\n",
       " 'updatedExisting': True}"
      ]
     },
     "metadata": {},
     "output_type": "display_data"
    },
    {
     "data": {
      "text/plain": [
       "{'electionId': ObjectId('7fffffff0000000000000002'),\n",
       " 'n': 1,\n",
       " 'nModified': 1,\n",
       " 'ok': 1.0,\n",
       " 'opTime': {'t': 2, 'ts': Timestamp(1505937338, 1)},\n",
       " 'updatedExisting': True}"
      ]
     },
     "metadata": {},
     "output_type": "display_data"
    },
    {
     "data": {
      "text/plain": [
       "{'electionId': ObjectId('7fffffff0000000000000002'),\n",
       " 'n': 1,\n",
       " 'nModified': 1,\n",
       " 'ok': 1.0,\n",
       " 'opTime': {'t': 2, 'ts': Timestamp(1505937339, 2)},\n",
       " 'updatedExisting': True}"
      ]
     },
     "metadata": {},
     "output_type": "display_data"
    },
    {
     "data": {
      "text/plain": [
       "{'electionId': ObjectId('7fffffff0000000000000002'),\n",
       " 'n': 1,\n",
       " 'nModified': 1,\n",
       " 'ok': 1.0,\n",
       " 'opTime': {'t': 2, 'ts': Timestamp(1505937341, 1)},\n",
       " 'updatedExisting': True}"
      ]
     },
     "metadata": {},
     "output_type": "display_data"
    },
    {
     "data": {
      "text/plain": [
       "{'electionId': ObjectId('7fffffff0000000000000002'),\n",
       " 'n': 1,\n",
       " 'nModified': 1,\n",
       " 'ok': 1.0,\n",
       " 'opTime': {'t': 2, 'ts': Timestamp(1505937343, 1)},\n",
       " 'updatedExisting': True}"
      ]
     },
     "metadata": {},
     "output_type": "display_data"
    },
    {
     "data": {
      "text/plain": [
       "{'electionId': ObjectId('7fffffff0000000000000002'),\n",
       " 'n': 1,\n",
       " 'nModified': 1,\n",
       " 'ok': 1.0,\n",
       " 'opTime': {'t': 2, 'ts': Timestamp(1505937344, 1)},\n",
       " 'updatedExisting': True}"
      ]
     },
     "metadata": {},
     "output_type": "display_data"
    },
    {
     "data": {
      "text/plain": [
       "{'electionId': ObjectId('7fffffff0000000000000002'),\n",
       " 'n': 1,\n",
       " 'nModified': 1,\n",
       " 'ok': 1.0,\n",
       " 'opTime': {'t': 2, 'ts': Timestamp(1505937345, 1)},\n",
       " 'updatedExisting': True}"
      ]
     },
     "metadata": {},
     "output_type": "display_data"
    },
    {
     "data": {
      "text/plain": [
       "{'electionId': ObjectId('7fffffff0000000000000002'),\n",
       " 'n': 1,\n",
       " 'nModified': 1,\n",
       " 'ok': 1.0,\n",
       " 'opTime': {'t': 2, 'ts': Timestamp(1505937346, 1)},\n",
       " 'updatedExisting': True}"
      ]
     },
     "metadata": {},
     "output_type": "display_data"
    },
    {
     "data": {
      "text/plain": [
       "{'electionId': ObjectId('7fffffff0000000000000002'),\n",
       " 'n': 1,\n",
       " 'nModified': 1,\n",
       " 'ok': 1.0,\n",
       " 'opTime': {'t': 2, 'ts': Timestamp(1505937347, 1)},\n",
       " 'updatedExisting': True}"
      ]
     },
     "metadata": {},
     "output_type": "display_data"
    },
    {
     "data": {
      "text/plain": [
       "{'electionId': ObjectId('7fffffff0000000000000002'),\n",
       " 'n': 1,\n",
       " 'nModified': 1,\n",
       " 'ok': 1.0,\n",
       " 'opTime': {'t': 2, 'ts': Timestamp(1505937348, 1)},\n",
       " 'updatedExisting': True}"
      ]
     },
     "metadata": {},
     "output_type": "display_data"
    },
    {
     "data": {
      "text/plain": [
       "{'electionId': ObjectId('7fffffff0000000000000002'),\n",
       " 'n': 1,\n",
       " 'nModified': 1,\n",
       " 'ok': 1.0,\n",
       " 'opTime': {'t': 2, 'ts': Timestamp(1505937349, 2)},\n",
       " 'updatedExisting': True}"
      ]
     },
     "metadata": {},
     "output_type": "display_data"
    },
    {
     "data": {
      "text/plain": [
       "{'electionId': ObjectId('7fffffff0000000000000002'),\n",
       " 'n': 1,\n",
       " 'nModified': 1,\n",
       " 'ok': 1.0,\n",
       " 'opTime': {'t': 2, 'ts': Timestamp(1505937350, 2)},\n",
       " 'updatedExisting': True}"
      ]
     },
     "metadata": {},
     "output_type": "display_data"
    },
    {
     "data": {
      "text/plain": [
       "{'electionId': ObjectId('7fffffff0000000000000002'),\n",
       " 'n': 1,\n",
       " 'nModified': 1,\n",
       " 'ok': 1.0,\n",
       " 'opTime': {'t': 2, 'ts': Timestamp(1505937351, 3)},\n",
       " 'updatedExisting': True}"
      ]
     },
     "metadata": {},
     "output_type": "display_data"
    },
    {
     "data": {
      "text/plain": [
       "{'electionId': ObjectId('7fffffff0000000000000002'),\n",
       " 'n': 1,\n",
       " 'nModified': 1,\n",
       " 'ok': 1.0,\n",
       " 'opTime': {'t': 2, 'ts': Timestamp(1505937353, 3)},\n",
       " 'updatedExisting': True}"
      ]
     },
     "metadata": {},
     "output_type": "display_data"
    },
    {
     "data": {
      "text/plain": [
       "{'electionId': ObjectId('7fffffff0000000000000002'),\n",
       " 'n': 1,\n",
       " 'nModified': 1,\n",
       " 'ok': 1.0,\n",
       " 'opTime': {'t': 2, 'ts': Timestamp(1505937354, 3)},\n",
       " 'updatedExisting': True}"
      ]
     },
     "metadata": {},
     "output_type": "display_data"
    },
    {
     "data": {
      "text/plain": [
       "{'electionId': ObjectId('7fffffff0000000000000002'),\n",
       " 'n': 1,\n",
       " 'nModified': 1,\n",
       " 'ok': 1.0,\n",
       " 'opTime': {'t': 2, 'ts': Timestamp(1505937357, 1)},\n",
       " 'updatedExisting': True}"
      ]
     },
     "metadata": {},
     "output_type": "display_data"
    },
    {
     "data": {
      "text/plain": [
       "{'electionId': ObjectId('7fffffff0000000000000002'),\n",
       " 'n': 1,\n",
       " 'nModified': 1,\n",
       " 'ok': 1.0,\n",
       " 'opTime': {'t': 2, 'ts': Timestamp(1505937358, 2)},\n",
       " 'updatedExisting': True}"
      ]
     },
     "metadata": {},
     "output_type": "display_data"
    },
    {
     "data": {
      "text/plain": [
       "{'electionId': ObjectId('7fffffff0000000000000002'),\n",
       " 'n': 1,\n",
       " 'nModified': 1,\n",
       " 'ok': 1.0,\n",
       " 'opTime': {'t': 2, 'ts': Timestamp(1505937359, 2)},\n",
       " 'updatedExisting': True}"
      ]
     },
     "metadata": {},
     "output_type": "display_data"
    },
    {
     "data": {
      "text/plain": [
       "{'electionId': ObjectId('7fffffff0000000000000002'),\n",
       " 'n': 1,\n",
       " 'nModified': 1,\n",
       " 'ok': 1.0,\n",
       " 'opTime': {'t': 2, 'ts': Timestamp(1505937360, 3)},\n",
       " 'updatedExisting': True}"
      ]
     },
     "metadata": {},
     "output_type": "display_data"
    },
    {
     "data": {
      "text/plain": [
       "{'electionId': ObjectId('7fffffff0000000000000002'),\n",
       " 'n': 1,\n",
       " 'nModified': 1,\n",
       " 'ok': 1.0,\n",
       " 'opTime': {'t': 2, 'ts': Timestamp(1505937362, 2)},\n",
       " 'updatedExisting': True}"
      ]
     },
     "metadata": {},
     "output_type": "display_data"
    },
    {
     "data": {
      "text/plain": [
       "{'electionId': ObjectId('7fffffff0000000000000002'),\n",
       " 'n': 1,\n",
       " 'nModified': 1,\n",
       " 'ok': 1.0,\n",
       " 'opTime': {'t': 2, 'ts': Timestamp(1505937363, 2)},\n",
       " 'updatedExisting': True}"
      ]
     },
     "metadata": {},
     "output_type": "display_data"
    },
    {
     "data": {
      "text/plain": [
       "{'electionId': ObjectId('7fffffff0000000000000002'),\n",
       " 'n': 1,\n",
       " 'nModified': 1,\n",
       " 'ok': 1.0,\n",
       " 'opTime': {'t': 2, 'ts': Timestamp(1505937364, 2)},\n",
       " 'updatedExisting': True}"
      ]
     },
     "metadata": {},
     "output_type": "display_data"
    },
    {
     "data": {
      "text/plain": [
       "{'electionId': ObjectId('7fffffff0000000000000002'),\n",
       " 'n': 1,\n",
       " 'nModified': 1,\n",
       " 'ok': 1.0,\n",
       " 'opTime': {'t': 2, 'ts': Timestamp(1505937366, 1)},\n",
       " 'updatedExisting': True}"
      ]
     },
     "metadata": {},
     "output_type": "display_data"
    },
    {
     "data": {
      "text/plain": [
       "{'electionId': ObjectId('7fffffff0000000000000002'),\n",
       " 'n': 1,\n",
       " 'nModified': 1,\n",
       " 'ok': 1.0,\n",
       " 'opTime': {'t': 2, 'ts': Timestamp(1505937367, 1)},\n",
       " 'updatedExisting': True}"
      ]
     },
     "metadata": {},
     "output_type": "display_data"
    },
    {
     "data": {
      "text/plain": [
       "{'electionId': ObjectId('7fffffff0000000000000002'),\n",
       " 'n': 1,\n",
       " 'nModified': 1,\n",
       " 'ok': 1.0,\n",
       " 'opTime': {'t': 2, 'ts': Timestamp(1505937368, 2)},\n",
       " 'updatedExisting': True}"
      ]
     },
     "metadata": {},
     "output_type": "display_data"
    },
    {
     "data": {
      "text/plain": [
       "{'electionId': ObjectId('7fffffff0000000000000002'),\n",
       " 'n': 1,\n",
       " 'nModified': 1,\n",
       " 'ok': 1.0,\n",
       " 'opTime': {'t': 2, 'ts': Timestamp(1505937369, 3)},\n",
       " 'updatedExisting': True}"
      ]
     },
     "metadata": {},
     "output_type": "display_data"
    },
    {
     "data": {
      "text/plain": [
       "{'electionId': ObjectId('7fffffff0000000000000002'),\n",
       " 'n': 1,\n",
       " 'nModified': 1,\n",
       " 'ok': 1.0,\n",
       " 'opTime': {'t': 2, 'ts': Timestamp(1505937371, 1)},\n",
       " 'updatedExisting': True}"
      ]
     },
     "metadata": {},
     "output_type": "display_data"
    },
    {
     "data": {
      "text/plain": [
       "{'electionId': ObjectId('7fffffff0000000000000002'),\n",
       " 'n': 1,\n",
       " 'nModified': 1,\n",
       " 'ok': 1.0,\n",
       " 'opTime': {'t': 2, 'ts': Timestamp(1505937371, 4)},\n",
       " 'updatedExisting': True}"
      ]
     },
     "metadata": {},
     "output_type": "display_data"
    },
    {
     "data": {
      "text/plain": [
       "{'electionId': ObjectId('7fffffff0000000000000002'),\n",
       " 'n': 1,\n",
       " 'nModified': 1,\n",
       " 'ok': 1.0,\n",
       " 'opTime': {'t': 2, 'ts': Timestamp(1505937372, 4)},\n",
       " 'updatedExisting': True}"
      ]
     },
     "metadata": {},
     "output_type": "display_data"
    },
    {
     "data": {
      "text/plain": [
       "{'electionId': ObjectId('7fffffff0000000000000002'),\n",
       " 'n': 1,\n",
       " 'nModified': 1,\n",
       " 'ok': 1.0,\n",
       " 'opTime': {'t': 2, 'ts': Timestamp(1505937373, 3)},\n",
       " 'updatedExisting': True}"
      ]
     },
     "metadata": {},
     "output_type": "display_data"
    },
    {
     "data": {
      "text/plain": [
       "{'electionId': ObjectId('7fffffff0000000000000002'),\n",
       " 'n': 1,\n",
       " 'nModified': 1,\n",
       " 'ok': 1.0,\n",
       " 'opTime': {'t': 2, 'ts': Timestamp(1505937374, 3)},\n",
       " 'updatedExisting': True}"
      ]
     },
     "metadata": {},
     "output_type": "display_data"
    },
    {
     "data": {
      "text/plain": [
       "{'electionId': ObjectId('7fffffff0000000000000002'),\n",
       " 'n': 1,\n",
       " 'nModified': 1,\n",
       " 'ok': 1.0,\n",
       " 'opTime': {'t': 2, 'ts': Timestamp(1505937375, 3)},\n",
       " 'updatedExisting': True}"
      ]
     },
     "metadata": {},
     "output_type": "display_data"
    },
    {
     "data": {
      "text/plain": [
       "{'electionId': ObjectId('7fffffff0000000000000002'),\n",
       " 'n': 1,\n",
       " 'nModified': 1,\n",
       " 'ok': 1.0,\n",
       " 'opTime': {'t': 2, 'ts': Timestamp(1505937376, 3)},\n",
       " 'updatedExisting': True}"
      ]
     },
     "metadata": {},
     "output_type": "display_data"
    },
    {
     "data": {
      "text/plain": [
       "{'electionId': ObjectId('7fffffff0000000000000002'),\n",
       " 'n': 1,\n",
       " 'nModified': 1,\n",
       " 'ok': 1.0,\n",
       " 'opTime': {'t': 2, 'ts': Timestamp(1505937377, 3)},\n",
       " 'updatedExisting': True}"
      ]
     },
     "metadata": {},
     "output_type": "display_data"
    },
    {
     "data": {
      "text/plain": [
       "{'electionId': ObjectId('7fffffff0000000000000002'),\n",
       " 'n': 1,\n",
       " 'nModified': 1,\n",
       " 'ok': 1.0,\n",
       " 'opTime': {'t': 2, 'ts': Timestamp(1505937379, 1)},\n",
       " 'updatedExisting': True}"
      ]
     },
     "metadata": {},
     "output_type": "display_data"
    },
    {
     "data": {
      "text/plain": [
       "{'electionId': ObjectId('7fffffff0000000000000002'),\n",
       " 'n': 1,\n",
       " 'nModified': 1,\n",
       " 'ok': 1.0,\n",
       " 'opTime': {'t': 2, 'ts': Timestamp(1505937379, 5)},\n",
       " 'updatedExisting': True}"
      ]
     },
     "metadata": {},
     "output_type": "display_data"
    },
    {
     "data": {
      "text/plain": [
       "{'electionId': ObjectId('7fffffff0000000000000002'),\n",
       " 'n': 1,\n",
       " 'nModified': 1,\n",
       " 'ok': 1.0,\n",
       " 'opTime': {'t': 2, 'ts': Timestamp(1505937382, 2)},\n",
       " 'updatedExisting': True}"
      ]
     },
     "metadata": {},
     "output_type": "display_data"
    },
    {
     "data": {
      "text/plain": [
       "{'electionId': ObjectId('7fffffff0000000000000002'),\n",
       " 'n': 1,\n",
       " 'nModified': 1,\n",
       " 'ok': 1.0,\n",
       " 'opTime': {'t': 2, 'ts': Timestamp(1505937383, 2)},\n",
       " 'updatedExisting': True}"
      ]
     },
     "metadata": {},
     "output_type": "display_data"
    },
    {
     "data": {
      "text/plain": [
       "{'electionId': ObjectId('7fffffff0000000000000002'),\n",
       " 'n': 1,\n",
       " 'nModified': 1,\n",
       " 'ok': 1.0,\n",
       " 'opTime': {'t': 2, 'ts': Timestamp(1505937384, 3)},\n",
       " 'updatedExisting': True}"
      ]
     },
     "metadata": {},
     "output_type": "display_data"
    },
    {
     "data": {
      "text/plain": [
       "{'electionId': ObjectId('7fffffff0000000000000002'),\n",
       " 'n': 1,\n",
       " 'nModified': 1,\n",
       " 'ok': 1.0,\n",
       " 'opTime': {'t': 2, 'ts': Timestamp(1505937386, 2)},\n",
       " 'updatedExisting': True}"
      ]
     },
     "metadata": {},
     "output_type": "display_data"
    },
    {
     "data": {
      "text/plain": [
       "{'electionId': ObjectId('7fffffff0000000000000002'),\n",
       " 'n': 1,\n",
       " 'nModified': 1,\n",
       " 'ok': 1.0,\n",
       " 'opTime': {'t': 2, 'ts': Timestamp(1505937387, 2)},\n",
       " 'updatedExisting': True}"
      ]
     },
     "metadata": {},
     "output_type": "display_data"
    },
    {
     "data": {
      "text/plain": [
       "{'electionId': ObjectId('7fffffff0000000000000002'),\n",
       " 'n': 1,\n",
       " 'nModified': 1,\n",
       " 'ok': 1.0,\n",
       " 'opTime': {'t': 2, 'ts': Timestamp(1505937389, 2)},\n",
       " 'updatedExisting': True}"
      ]
     },
     "metadata": {},
     "output_type": "display_data"
    },
    {
     "data": {
      "text/plain": [
       "{'electionId': ObjectId('7fffffff0000000000000002'),\n",
       " 'n': 1,\n",
       " 'nModified': 1,\n",
       " 'ok': 1.0,\n",
       " 'opTime': {'t': 2, 'ts': Timestamp(1505937391, 2)},\n",
       " 'updatedExisting': True}"
      ]
     },
     "metadata": {},
     "output_type": "display_data"
    },
    {
     "data": {
      "text/plain": [
       "{'electionId': ObjectId('7fffffff0000000000000002'),\n",
       " 'n': 1,\n",
       " 'nModified': 1,\n",
       " 'ok': 1.0,\n",
       " 'opTime': {'t': 2, 'ts': Timestamp(1505937392, 2)},\n",
       " 'updatedExisting': True}"
      ]
     },
     "metadata": {},
     "output_type": "display_data"
    },
    {
     "data": {
      "text/plain": [
       "{'electionId': ObjectId('7fffffff0000000000000002'),\n",
       " 'n': 1,\n",
       " 'nModified': 1,\n",
       " 'ok': 1.0,\n",
       " 'opTime': {'t': 2, 'ts': Timestamp(1505937393, 2)},\n",
       " 'updatedExisting': True}"
      ]
     },
     "metadata": {},
     "output_type": "display_data"
    },
    {
     "data": {
      "text/plain": [
       "{'electionId': ObjectId('7fffffff0000000000000002'),\n",
       " 'n': 1,\n",
       " 'nModified': 1,\n",
       " 'ok': 1.0,\n",
       " 'opTime': {'t': 2, 'ts': Timestamp(1505937394, 2)},\n",
       " 'updatedExisting': True}"
      ]
     },
     "metadata": {},
     "output_type": "display_data"
    },
    {
     "data": {
      "text/plain": [
       "{'electionId': ObjectId('7fffffff0000000000000002'),\n",
       " 'n': 1,\n",
       " 'nModified': 1,\n",
       " 'ok': 1.0,\n",
       " 'opTime': {'t': 2, 'ts': Timestamp(1505937396, 1)},\n",
       " 'updatedExisting': True}"
      ]
     },
     "metadata": {},
     "output_type": "display_data"
    },
    {
     "data": {
      "text/plain": [
       "{'electionId': ObjectId('7fffffff0000000000000002'),\n",
       " 'n': 1,\n",
       " 'nModified': 1,\n",
       " 'ok': 1.0,\n",
       " 'opTime': {'t': 2, 'ts': Timestamp(1505937397, 1)},\n",
       " 'updatedExisting': True}"
      ]
     },
     "metadata": {},
     "output_type": "display_data"
    },
    {
     "data": {
      "text/plain": [
       "{'electionId': ObjectId('7fffffff0000000000000002'),\n",
       " 'n': 1,\n",
       " 'nModified': 1,\n",
       " 'ok': 1.0,\n",
       " 'opTime': {'t': 2, 'ts': Timestamp(1505937398, 2)},\n",
       " 'updatedExisting': True}"
      ]
     },
     "metadata": {},
     "output_type": "display_data"
    },
    {
     "data": {
      "text/plain": [
       "{'electionId': ObjectId('7fffffff0000000000000002'),\n",
       " 'n': 1,\n",
       " 'nModified': 1,\n",
       " 'ok': 1.0,\n",
       " 'opTime': {'t': 2, 'ts': Timestamp(1505937399, 2)},\n",
       " 'updatedExisting': True}"
      ]
     },
     "metadata": {},
     "output_type": "display_data"
    },
    {
     "data": {
      "text/plain": [
       "{'electionId': ObjectId('7fffffff0000000000000002'),\n",
       " 'n': 1,\n",
       " 'nModified': 1,\n",
       " 'ok': 1.0,\n",
       " 'opTime': {'t': 2, 'ts': Timestamp(1505937401, 1)},\n",
       " 'updatedExisting': True}"
      ]
     },
     "metadata": {},
     "output_type": "display_data"
    },
    {
     "data": {
      "text/plain": [
       "{'electionId': ObjectId('7fffffff0000000000000002'),\n",
       " 'n': 1,\n",
       " 'nModified': 1,\n",
       " 'ok': 1.0,\n",
       " 'opTime': {'t': 2, 'ts': Timestamp(1505937404, 2)},\n",
       " 'updatedExisting': True}"
      ]
     },
     "metadata": {},
     "output_type": "display_data"
    },
    {
     "data": {
      "text/plain": [
       "{'electionId': ObjectId('7fffffff0000000000000002'),\n",
       " 'n': 1,\n",
       " 'nModified': 1,\n",
       " 'ok': 1.0,\n",
       " 'opTime': {'t': 2, 'ts': Timestamp(1505937405, 2)},\n",
       " 'updatedExisting': True}"
      ]
     },
     "metadata": {},
     "output_type": "display_data"
    },
    {
     "data": {
      "text/plain": [
       "{'electionId': ObjectId('7fffffff0000000000000002'),\n",
       " 'n': 1,\n",
       " 'nModified': 1,\n",
       " 'ok': 1.0,\n",
       " 'opTime': {'t': 2, 'ts': Timestamp(1505937407, 2)},\n",
       " 'updatedExisting': True}"
      ]
     },
     "metadata": {},
     "output_type": "display_data"
    },
    {
     "data": {
      "text/plain": [
       "{'electionId': ObjectId('7fffffff0000000000000002'),\n",
       " 'n': 1,\n",
       " 'nModified': 1,\n",
       " 'ok': 1.0,\n",
       " 'opTime': {'t': 2, 'ts': Timestamp(1505937408, 2)},\n",
       " 'updatedExisting': True}"
      ]
     },
     "metadata": {},
     "output_type": "display_data"
    },
    {
     "data": {
      "text/plain": [
       "{'electionId': ObjectId('7fffffff0000000000000002'),\n",
       " 'n': 1,\n",
       " 'nModified': 1,\n",
       " 'ok': 1.0,\n",
       " 'opTime': {'t': 2, 'ts': Timestamp(1505937410, 1)},\n",
       " 'updatedExisting': True}"
      ]
     },
     "metadata": {},
     "output_type": "display_data"
    },
    {
     "data": {
      "text/plain": [
       "{'electionId': ObjectId('7fffffff0000000000000002'),\n",
       " 'n': 1,\n",
       " 'nModified': 1,\n",
       " 'ok': 1.0,\n",
       " 'opTime': {'t': 2, 'ts': Timestamp(1505937411, 2)},\n",
       " 'updatedExisting': True}"
      ]
     },
     "metadata": {},
     "output_type": "display_data"
    },
    {
     "data": {
      "text/plain": [
       "{'electionId': ObjectId('7fffffff0000000000000002'),\n",
       " 'n': 1,\n",
       " 'nModified': 1,\n",
       " 'ok': 1.0,\n",
       " 'opTime': {'t': 2, 'ts': Timestamp(1505937414, 3)},\n",
       " 'updatedExisting': True}"
      ]
     },
     "metadata": {},
     "output_type": "display_data"
    },
    {
     "data": {
      "text/plain": [
       "{'electionId': ObjectId('7fffffff0000000000000002'),\n",
       " 'n': 1,\n",
       " 'nModified': 1,\n",
       " 'ok': 1.0,\n",
       " 'opTime': {'t': 2, 'ts': Timestamp(1505937416, 1)},\n",
       " 'updatedExisting': True}"
      ]
     },
     "metadata": {},
     "output_type": "display_data"
    },
    {
     "data": {
      "text/plain": [
       "{'electionId': ObjectId('7fffffff0000000000000002'),\n",
       " 'n': 1,\n",
       " 'nModified': 1,\n",
       " 'ok': 1.0,\n",
       " 'opTime': {'t': 2, 'ts': Timestamp(1505937417, 2)},\n",
       " 'updatedExisting': True}"
      ]
     },
     "metadata": {},
     "output_type": "display_data"
    },
    {
     "data": {
      "text/plain": [
       "{'electionId': ObjectId('7fffffff0000000000000002'),\n",
       " 'n': 1,\n",
       " 'nModified': 1,\n",
       " 'ok': 1.0,\n",
       " 'opTime': {'t': 2, 'ts': Timestamp(1505937418, 3)},\n",
       " 'updatedExisting': True}"
      ]
     },
     "metadata": {},
     "output_type": "display_data"
    },
    {
     "data": {
      "text/plain": [
       "{'electionId': ObjectId('7fffffff0000000000000002'),\n",
       " 'n': 1,\n",
       " 'nModified': 1,\n",
       " 'ok': 1.0,\n",
       " 'opTime': {'t': 2, 'ts': Timestamp(1505937421, 2)},\n",
       " 'updatedExisting': True}"
      ]
     },
     "metadata": {},
     "output_type": "display_data"
    },
    {
     "data": {
      "text/plain": [
       "{'electionId': ObjectId('7fffffff0000000000000002'),\n",
       " 'n': 1,\n",
       " 'nModified': 1,\n",
       " 'ok': 1.0,\n",
       " 'opTime': {'t': 2, 'ts': Timestamp(1505937422, 2)},\n",
       " 'updatedExisting': True}"
      ]
     },
     "metadata": {},
     "output_type": "display_data"
    },
    {
     "data": {
      "text/plain": [
       "{'electionId': ObjectId('7fffffff0000000000000002'),\n",
       " 'n': 1,\n",
       " 'nModified': 1,\n",
       " 'ok': 1.0,\n",
       " 'opTime': {'t': 2, 'ts': Timestamp(1505937424, 2)},\n",
       " 'updatedExisting': True}"
      ]
     },
     "metadata": {},
     "output_type": "display_data"
    },
    {
     "data": {
      "text/plain": [
       "{'electionId': ObjectId('7fffffff0000000000000002'),\n",
       " 'n': 1,\n",
       " 'nModified': 1,\n",
       " 'ok': 1.0,\n",
       " 'opTime': {'t': 2, 'ts': Timestamp(1505937426, 1)},\n",
       " 'updatedExisting': True}"
      ]
     },
     "metadata": {},
     "output_type": "display_data"
    },
    {
     "data": {
      "text/plain": [
       "{'electionId': ObjectId('7fffffff0000000000000002'),\n",
       " 'n': 1,\n",
       " 'nModified': 1,\n",
       " 'ok': 1.0,\n",
       " 'opTime': {'t': 2, 'ts': Timestamp(1505937427, 2)},\n",
       " 'updatedExisting': True}"
      ]
     },
     "metadata": {},
     "output_type": "display_data"
    },
    {
     "data": {
      "text/plain": [
       "{'electionId': ObjectId('7fffffff0000000000000002'),\n",
       " 'n': 1,\n",
       " 'nModified': 1,\n",
       " 'ok': 1.0,\n",
       " 'opTime': {'t': 2, 'ts': Timestamp(1505937428, 3)},\n",
       " 'updatedExisting': True}"
      ]
     },
     "metadata": {},
     "output_type": "display_data"
    },
    {
     "data": {
      "text/plain": [
       "{'electionId': ObjectId('7fffffff0000000000000002'),\n",
       " 'n': 1,\n",
       " 'nModified': 1,\n",
       " 'ok': 1.0,\n",
       " 'opTime': {'t': 2, 'ts': Timestamp(1505937430, 1)},\n",
       " 'updatedExisting': True}"
      ]
     },
     "metadata": {},
     "output_type": "display_data"
    },
    {
     "data": {
      "text/plain": [
       "{'electionId': ObjectId('7fffffff0000000000000002'),\n",
       " 'n': 1,\n",
       " 'nModified': 1,\n",
       " 'ok': 1.0,\n",
       " 'opTime': {'t': 2, 'ts': Timestamp(1505937431, 2)},\n",
       " 'updatedExisting': True}"
      ]
     },
     "metadata": {},
     "output_type": "display_data"
    },
    {
     "data": {
      "text/plain": [
       "{'electionId': ObjectId('7fffffff0000000000000002'),\n",
       " 'n': 1,\n",
       " 'nModified': 1,\n",
       " 'ok': 1.0,\n",
       " 'opTime': {'t': 2, 'ts': Timestamp(1505937432, 2)},\n",
       " 'updatedExisting': True}"
      ]
     },
     "metadata": {},
     "output_type": "display_data"
    },
    {
     "data": {
      "text/plain": [
       "{'electionId': ObjectId('7fffffff0000000000000002'),\n",
       " 'n': 1,\n",
       " 'nModified': 1,\n",
       " 'ok': 1.0,\n",
       " 'opTime': {'t': 2, 'ts': Timestamp(1505937434, 2)},\n",
       " 'updatedExisting': True}"
      ]
     },
     "metadata": {},
     "output_type": "display_data"
    },
    {
     "data": {
      "text/plain": [
       "{'electionId': ObjectId('7fffffff0000000000000002'),\n",
       " 'n': 1,\n",
       " 'nModified': 1,\n",
       " 'ok': 1.0,\n",
       " 'opTime': {'t': 2, 'ts': Timestamp(1505937435, 3)},\n",
       " 'updatedExisting': True}"
      ]
     },
     "metadata": {},
     "output_type": "display_data"
    },
    {
     "data": {
      "text/plain": [
       "{'electionId': ObjectId('7fffffff0000000000000002'),\n",
       " 'n': 1,\n",
       " 'nModified': 1,\n",
       " 'ok': 1.0,\n",
       " 'opTime': {'t': 2, 'ts': Timestamp(1505937437, 3)},\n",
       " 'updatedExisting': True}"
      ]
     },
     "metadata": {},
     "output_type": "display_data"
    },
    {
     "data": {
      "text/plain": [
       "{'electionId': ObjectId('7fffffff0000000000000002'),\n",
       " 'n': 1,\n",
       " 'nModified': 1,\n",
       " 'ok': 1.0,\n",
       " 'opTime': {'t': 2, 'ts': Timestamp(1505937439, 2)},\n",
       " 'updatedExisting': True}"
      ]
     },
     "metadata": {},
     "output_type": "display_data"
    },
    {
     "data": {
      "text/plain": [
       "{'electionId': ObjectId('7fffffff0000000000000002'),\n",
       " 'n': 1,\n",
       " 'nModified': 1,\n",
       " 'ok': 1.0,\n",
       " 'opTime': {'t': 2, 'ts': Timestamp(1505937440, 3)},\n",
       " 'updatedExisting': True}"
      ]
     },
     "metadata": {},
     "output_type": "display_data"
    },
    {
     "data": {
      "text/plain": [
       "{'electionId': ObjectId('7fffffff0000000000000002'),\n",
       " 'n': 1,\n",
       " 'nModified': 1,\n",
       " 'ok': 1.0,\n",
       " 'opTime': {'t': 2, 'ts': Timestamp(1505937442, 2)},\n",
       " 'updatedExisting': True}"
      ]
     },
     "metadata": {},
     "output_type": "display_data"
    },
    {
     "data": {
      "text/plain": [
       "{'electionId': ObjectId('7fffffff0000000000000002'),\n",
       " 'n': 1,\n",
       " 'nModified': 1,\n",
       " 'ok': 1.0,\n",
       " 'opTime': {'t': 2, 'ts': Timestamp(1505937444, 1)},\n",
       " 'updatedExisting': True}"
      ]
     },
     "metadata": {},
     "output_type": "display_data"
    },
    {
     "data": {
      "text/plain": [
       "{'electionId': ObjectId('7fffffff0000000000000002'),\n",
       " 'n': 1,\n",
       " 'nModified': 1,\n",
       " 'ok': 1.0,\n",
       " 'opTime': {'t': 2, 'ts': Timestamp(1505937445, 2)},\n",
       " 'updatedExisting': True}"
      ]
     },
     "metadata": {},
     "output_type": "display_data"
    },
    {
     "data": {
      "text/plain": [
       "{'electionId': ObjectId('7fffffff0000000000000002'),\n",
       " 'n': 1,\n",
       " 'nModified': 1,\n",
       " 'ok': 1.0,\n",
       " 'opTime': {'t': 2, 'ts': Timestamp(1505937447, 2)},\n",
       " 'updatedExisting': True}"
      ]
     },
     "metadata": {},
     "output_type": "display_data"
    },
    {
     "data": {
      "text/plain": [
       "{'electionId': ObjectId('7fffffff0000000000000002'),\n",
       " 'n': 1,\n",
       " 'nModified': 1,\n",
       " 'ok': 1.0,\n",
       " 'opTime': {'t': 2, 'ts': Timestamp(1505937449, 2)},\n",
       " 'updatedExisting': True}"
      ]
     },
     "metadata": {},
     "output_type": "display_data"
    },
    {
     "data": {
      "text/plain": [
       "{'electionId': ObjectId('7fffffff0000000000000002'),\n",
       " 'n': 1,\n",
       " 'nModified': 1,\n",
       " 'ok': 1.0,\n",
       " 'opTime': {'t': 2, 'ts': Timestamp(1505937454, 2)},\n",
       " 'updatedExisting': True}"
      ]
     },
     "metadata": {},
     "output_type": "display_data"
    },
    {
     "data": {
      "text/plain": [
       "{'electionId': ObjectId('7fffffff0000000000000002'),\n",
       " 'n': 1,\n",
       " 'nModified': 1,\n",
       " 'ok': 1.0,\n",
       " 'opTime': {'t': 2, 'ts': Timestamp(1505937456, 1)},\n",
       " 'updatedExisting': True}"
      ]
     },
     "metadata": {},
     "output_type": "display_data"
    },
    {
     "data": {
      "text/plain": [
       "{'electionId': ObjectId('7fffffff0000000000000002'),\n",
       " 'n': 1,\n",
       " 'nModified': 1,\n",
       " 'ok': 1.0,\n",
       " 'opTime': {'t': 2, 'ts': Timestamp(1505937457, 2)},\n",
       " 'updatedExisting': True}"
      ]
     },
     "metadata": {},
     "output_type": "display_data"
    },
    {
     "data": {
      "text/plain": [
       "{'electionId': ObjectId('7fffffff0000000000000002'),\n",
       " 'n': 1,\n",
       " 'nModified': 1,\n",
       " 'ok': 1.0,\n",
       " 'opTime': {'t': 2, 'ts': Timestamp(1505937459, 2)},\n",
       " 'updatedExisting': True}"
      ]
     },
     "metadata": {},
     "output_type": "display_data"
    },
    {
     "data": {
      "text/plain": [
       "{'electionId': ObjectId('7fffffff0000000000000002'),\n",
       " 'n': 1,\n",
       " 'nModified': 1,\n",
       " 'ok': 1.0,\n",
       " 'opTime': {'t': 2, 'ts': Timestamp(1505937461, 1)},\n",
       " 'updatedExisting': True}"
      ]
     },
     "metadata": {},
     "output_type": "display_data"
    },
    {
     "data": {
      "text/plain": [
       "{'electionId': ObjectId('7fffffff0000000000000002'),\n",
       " 'n': 1,\n",
       " 'nModified': 1,\n",
       " 'ok': 1.0,\n",
       " 'opTime': {'t': 2, 'ts': Timestamp(1505937463, 2)},\n",
       " 'updatedExisting': True}"
      ]
     },
     "metadata": {},
     "output_type": "display_data"
    },
    {
     "data": {
      "text/plain": [
       "{'electionId': ObjectId('7fffffff0000000000000002'),\n",
       " 'n': 1,\n",
       " 'nModified': 1,\n",
       " 'ok': 1.0,\n",
       " 'opTime': {'t': 2, 'ts': Timestamp(1505937465, 1)},\n",
       " 'updatedExisting': True}"
      ]
     },
     "metadata": {},
     "output_type": "display_data"
    },
    {
     "data": {
      "text/plain": [
       "{'electionId': ObjectId('7fffffff0000000000000002'),\n",
       " 'n': 1,\n",
       " 'nModified': 1,\n",
       " 'ok': 1.0,\n",
       " 'opTime': {'t': 2, 'ts': Timestamp(1505937466, 2)},\n",
       " 'updatedExisting': True}"
      ]
     },
     "metadata": {},
     "output_type": "display_data"
    },
    {
     "data": {
      "text/plain": [
       "{'electionId': ObjectId('7fffffff0000000000000002'),\n",
       " 'n': 1,\n",
       " 'nModified': 1,\n",
       " 'ok': 1.0,\n",
       " 'opTime': {'t': 2, 'ts': Timestamp(1505937467, 1)},\n",
       " 'updatedExisting': True}"
      ]
     },
     "metadata": {},
     "output_type": "display_data"
    },
    {
     "data": {
      "text/plain": [
       "{'electionId': ObjectId('7fffffff0000000000000002'),\n",
       " 'n': 1,\n",
       " 'nModified': 1,\n",
       " 'ok': 1.0,\n",
       " 'opTime': {'t': 2, 'ts': Timestamp(1505937468, 3)},\n",
       " 'updatedExisting': True}"
      ]
     },
     "metadata": {},
     "output_type": "display_data"
    },
    {
     "data": {
      "text/plain": [
       "{'electionId': ObjectId('7fffffff0000000000000002'),\n",
       " 'n': 1,\n",
       " 'nModified': 1,\n",
       " 'ok': 1.0,\n",
       " 'opTime': {'t': 2, 'ts': Timestamp(1505937469, 3)},\n",
       " 'updatedExisting': True}"
      ]
     },
     "metadata": {},
     "output_type": "display_data"
    },
    {
     "data": {
      "text/plain": [
       "{'electionId': ObjectId('7fffffff0000000000000002'),\n",
       " 'n': 1,\n",
       " 'nModified': 1,\n",
       " 'ok': 1.0,\n",
       " 'opTime': {'t': 2, 'ts': Timestamp(1505937470, 2)},\n",
       " 'updatedExisting': True}"
      ]
     },
     "metadata": {},
     "output_type": "display_data"
    },
    {
     "data": {
      "text/plain": [
       "{'electionId': ObjectId('7fffffff0000000000000002'),\n",
       " 'n': 1,\n",
       " 'nModified': 1,\n",
       " 'ok': 1.0,\n",
       " 'opTime': {'t': 2, 'ts': Timestamp(1505937471, 1)},\n",
       " 'updatedExisting': True}"
      ]
     },
     "metadata": {},
     "output_type": "display_data"
    },
    {
     "data": {
      "text/plain": [
       "{'electionId': ObjectId('7fffffff0000000000000002'),\n",
       " 'n': 1,\n",
       " 'nModified': 1,\n",
       " 'ok': 1.0,\n",
       " 'opTime': {'t': 2, 'ts': Timestamp(1505937472, 4)},\n",
       " 'updatedExisting': True}"
      ]
     },
     "metadata": {},
     "output_type": "display_data"
    },
    {
     "data": {
      "text/plain": [
       "{'electionId': ObjectId('7fffffff0000000000000002'),\n",
       " 'n': 1,\n",
       " 'nModified': 1,\n",
       " 'ok': 1.0,\n",
       " 'opTime': {'t': 2, 'ts': Timestamp(1505937475, 2)},\n",
       " 'updatedExisting': True}"
      ]
     },
     "metadata": {},
     "output_type": "display_data"
    },
    {
     "data": {
      "text/plain": [
       "{'electionId': ObjectId('7fffffff0000000000000002'),\n",
       " 'n': 1,\n",
       " 'nModified': 1,\n",
       " 'ok': 1.0,\n",
       " 'opTime': {'t': 2, 'ts': Timestamp(1505937476, 2)},\n",
       " 'updatedExisting': True}"
      ]
     },
     "metadata": {},
     "output_type": "display_data"
    },
    {
     "data": {
      "text/plain": [
       "{'electionId': ObjectId('7fffffff0000000000000002'),\n",
       " 'n': 1,\n",
       " 'nModified': 1,\n",
       " 'ok': 1.0,\n",
       " 'opTime': {'t': 2, 'ts': Timestamp(1505937477, 2)},\n",
       " 'updatedExisting': True}"
      ]
     },
     "metadata": {},
     "output_type": "display_data"
    },
    {
     "data": {
      "text/plain": [
       "{'electionId': ObjectId('7fffffff0000000000000002'),\n",
       " 'n': 1,\n",
       " 'nModified': 1,\n",
       " 'ok': 1.0,\n",
       " 'opTime': {'t': 2, 'ts': Timestamp(1505937478, 2)},\n",
       " 'updatedExisting': True}"
      ]
     },
     "metadata": {},
     "output_type": "display_data"
    },
    {
     "data": {
      "text/plain": [
       "{'electionId': ObjectId('7fffffff0000000000000002'),\n",
       " 'n': 1,\n",
       " 'nModified': 1,\n",
       " 'ok': 1.0,\n",
       " 'opTime': {'t': 2, 'ts': Timestamp(1505937479, 3)},\n",
       " 'updatedExisting': True}"
      ]
     },
     "metadata": {},
     "output_type": "display_data"
    },
    {
     "data": {
      "text/plain": [
       "{'electionId': ObjectId('7fffffff0000000000000002'),\n",
       " 'n': 1,\n",
       " 'nModified': 1,\n",
       " 'ok': 1.0,\n",
       " 'opTime': {'t': 2, 'ts': Timestamp(1505937480, 2)},\n",
       " 'updatedExisting': True}"
      ]
     },
     "metadata": {},
     "output_type": "display_data"
    },
    {
     "data": {
      "text/plain": [
       "{'electionId': ObjectId('7fffffff0000000000000002'),\n",
       " 'n': 1,\n",
       " 'nModified': 1,\n",
       " 'ok': 1.0,\n",
       " 'opTime': {'t': 2, 'ts': Timestamp(1505937481, 2)},\n",
       " 'updatedExisting': True}"
      ]
     },
     "metadata": {},
     "output_type": "display_data"
    },
    {
     "data": {
      "text/plain": [
       "{'electionId': ObjectId('7fffffff0000000000000002'),\n",
       " 'n': 1,\n",
       " 'nModified': 1,\n",
       " 'ok': 1.0,\n",
       " 'opTime': {'t': 2, 'ts': Timestamp(1505937482, 3)},\n",
       " 'updatedExisting': True}"
      ]
     },
     "metadata": {},
     "output_type": "display_data"
    },
    {
     "data": {
      "text/plain": [
       "{'electionId': ObjectId('7fffffff0000000000000002'),\n",
       " 'n': 1,\n",
       " 'nModified': 1,\n",
       " 'ok': 1.0,\n",
       " 'opTime': {'t': 2, 'ts': Timestamp(1505937483, 2)},\n",
       " 'updatedExisting': True}"
      ]
     },
     "metadata": {},
     "output_type": "display_data"
    },
    {
     "data": {
      "text/plain": [
       "{'electionId': ObjectId('7fffffff0000000000000002'),\n",
       " 'n': 1,\n",
       " 'nModified': 1,\n",
       " 'ok': 1.0,\n",
       " 'opTime': {'t': 2, 'ts': Timestamp(1505937484, 1)},\n",
       " 'updatedExisting': True}"
      ]
     },
     "metadata": {},
     "output_type": "display_data"
    },
    {
     "data": {
      "text/plain": [
       "{'electionId': ObjectId('7fffffff0000000000000002'),\n",
       " 'n': 1,\n",
       " 'nModified': 1,\n",
       " 'ok': 1.0,\n",
       " 'opTime': {'t': 2, 'ts': Timestamp(1505937484, 4)},\n",
       " 'updatedExisting': True}"
      ]
     },
     "metadata": {},
     "output_type": "display_data"
    },
    {
     "data": {
      "text/plain": [
       "{'electionId': ObjectId('7fffffff0000000000000002'),\n",
       " 'n': 1,\n",
       " 'nModified': 1,\n",
       " 'ok': 1.0,\n",
       " 'opTime': {'t': 2, 'ts': Timestamp(1505937486, 2)},\n",
       " 'updatedExisting': True}"
      ]
     },
     "metadata": {},
     "output_type": "display_data"
    },
    {
     "data": {
      "text/plain": [
       "{'electionId': ObjectId('7fffffff0000000000000002'),\n",
       " 'n': 1,\n",
       " 'nModified': 1,\n",
       " 'ok': 1.0,\n",
       " 'opTime': {'t': 2, 'ts': Timestamp(1505937487, 1)},\n",
       " 'updatedExisting': True}"
      ]
     },
     "metadata": {},
     "output_type": "display_data"
    },
    {
     "data": {
      "text/plain": [
       "{'electionId': ObjectId('7fffffff0000000000000002'),\n",
       " 'n': 1,\n",
       " 'nModified': 1,\n",
       " 'ok': 1.0,\n",
       " 'opTime': {'t': 2, 'ts': Timestamp(1505937487, 4)},\n",
       " 'updatedExisting': True}"
      ]
     },
     "metadata": {},
     "output_type": "display_data"
    },
    {
     "data": {
      "text/plain": [
       "{'electionId': ObjectId('7fffffff0000000000000002'),\n",
       " 'n': 1,\n",
       " 'nModified': 1,\n",
       " 'ok': 1.0,\n",
       " 'opTime': {'t': 2, 'ts': Timestamp(1505937488, 3)},\n",
       " 'updatedExisting': True}"
      ]
     },
     "metadata": {},
     "output_type": "display_data"
    },
    {
     "data": {
      "text/plain": [
       "{'electionId': ObjectId('7fffffff0000000000000002'),\n",
       " 'n': 1,\n",
       " 'nModified': 1,\n",
       " 'ok': 1.0,\n",
       " 'opTime': {'t': 2, 'ts': Timestamp(1505937489, 3)},\n",
       " 'updatedExisting': True}"
      ]
     },
     "metadata": {},
     "output_type": "display_data"
    },
    {
     "data": {
      "text/plain": [
       "{'electionId': ObjectId('7fffffff0000000000000002'),\n",
       " 'n': 1,\n",
       " 'nModified': 1,\n",
       " 'ok': 1.0,\n",
       " 'opTime': {'t': 2, 'ts': Timestamp(1505937490, 3)},\n",
       " 'updatedExisting': True}"
      ]
     },
     "metadata": {},
     "output_type": "display_data"
    },
    {
     "data": {
      "text/plain": [
       "{'electionId': ObjectId('7fffffff0000000000000002'),\n",
       " 'n': 1,\n",
       " 'nModified': 1,\n",
       " 'ok': 1.0,\n",
       " 'opTime': {'t': 2, 'ts': Timestamp(1505937491, 3)},\n",
       " 'updatedExisting': True}"
      ]
     },
     "metadata": {},
     "output_type": "display_data"
    },
    {
     "data": {
      "text/plain": [
       "{'electionId': ObjectId('7fffffff0000000000000002'),\n",
       " 'n': 1,\n",
       " 'nModified': 1,\n",
       " 'ok': 1.0,\n",
       " 'opTime': {'t': 2, 'ts': Timestamp(1505937492, 3)},\n",
       " 'updatedExisting': True}"
      ]
     },
     "metadata": {},
     "output_type": "display_data"
    },
    {
     "data": {
      "text/plain": [
       "{'electionId': ObjectId('7fffffff0000000000000002'),\n",
       " 'n': 1,\n",
       " 'nModified': 1,\n",
       " 'ok': 1.0,\n",
       " 'opTime': {'t': 2, 'ts': Timestamp(1505937494, 2)},\n",
       " 'updatedExisting': True}"
      ]
     },
     "metadata": {},
     "output_type": "display_data"
    },
    {
     "data": {
      "text/plain": [
       "{'electionId': ObjectId('7fffffff0000000000000002'),\n",
       " 'n': 1,\n",
       " 'nModified': 1,\n",
       " 'ok': 1.0,\n",
       " 'opTime': {'t': 2, 'ts': Timestamp(1505937495, 1)},\n",
       " 'updatedExisting': True}"
      ]
     },
     "metadata": {},
     "output_type": "display_data"
    },
    {
     "data": {
      "text/plain": [
       "{'electionId': ObjectId('7fffffff0000000000000002'),\n",
       " 'n': 1,\n",
       " 'nModified': 1,\n",
       " 'ok': 1.0,\n",
       " 'opTime': {'t': 2, 'ts': Timestamp(1505937495, 4)},\n",
       " 'updatedExisting': True}"
      ]
     },
     "metadata": {},
     "output_type": "display_data"
    },
    {
     "data": {
      "text/plain": [
       "{'electionId': ObjectId('7fffffff0000000000000002'),\n",
       " 'n': 1,\n",
       " 'nModified': 1,\n",
       " 'ok': 1.0,\n",
       " 'opTime': {'t': 2, 'ts': Timestamp(1505937496, 2)},\n",
       " 'updatedExisting': True}"
      ]
     },
     "metadata": {},
     "output_type": "display_data"
    },
    {
     "data": {
      "text/plain": [
       "{'electionId': ObjectId('7fffffff0000000000000002'),\n",
       " 'n': 1,\n",
       " 'nModified': 1,\n",
       " 'ok': 1.0,\n",
       " 'opTime': {'t': 2, 'ts': Timestamp(1505937498, 2)},\n",
       " 'updatedExisting': True}"
      ]
     },
     "metadata": {},
     "output_type": "display_data"
    },
    {
     "data": {
      "text/plain": [
       "{'electionId': ObjectId('7fffffff0000000000000002'),\n",
       " 'n': 1,\n",
       " 'nModified': 1,\n",
       " 'ok': 1.0,\n",
       " 'opTime': {'t': 2, 'ts': Timestamp(1505937500, 1)},\n",
       " 'updatedExisting': True}"
      ]
     },
     "metadata": {},
     "output_type": "display_data"
    },
    {
     "data": {
      "text/plain": [
       "{'electionId': ObjectId('7fffffff0000000000000002'),\n",
       " 'n': 1,\n",
       " 'nModified': 1,\n",
       " 'ok': 1.0,\n",
       " 'opTime': {'t': 2, 'ts': Timestamp(1505937501, 2)},\n",
       " 'updatedExisting': True}"
      ]
     },
     "metadata": {},
     "output_type": "display_data"
    },
    {
     "data": {
      "text/plain": [
       "{'electionId': ObjectId('7fffffff0000000000000002'),\n",
       " 'n': 1,\n",
       " 'nModified': 1,\n",
       " 'ok': 1.0,\n",
       " 'opTime': {'t': 2, 'ts': Timestamp(1505937502, 2)},\n",
       " 'updatedExisting': True}"
      ]
     },
     "metadata": {},
     "output_type": "display_data"
    },
    {
     "data": {
      "text/plain": [
       "{'electionId': ObjectId('7fffffff0000000000000002'),\n",
       " 'n': 1,\n",
       " 'nModified': 1,\n",
       " 'ok': 1.0,\n",
       " 'opTime': {'t': 2, 'ts': Timestamp(1505937506, 2)},\n",
       " 'updatedExisting': True}"
      ]
     },
     "metadata": {},
     "output_type": "display_data"
    },
    {
     "data": {
      "text/plain": [
       "{'electionId': ObjectId('7fffffff0000000000000002'),\n",
       " 'n': 1,\n",
       " 'nModified': 1,\n",
       " 'ok': 1.0,\n",
       " 'opTime': {'t': 2, 'ts': Timestamp(1505937508, 2)},\n",
       " 'updatedExisting': True}"
      ]
     },
     "metadata": {},
     "output_type": "display_data"
    },
    {
     "data": {
      "text/plain": [
       "{'electionId': ObjectId('7fffffff0000000000000002'),\n",
       " 'n': 1,\n",
       " 'nModified': 1,\n",
       " 'ok': 1.0,\n",
       " 'opTime': {'t': 2, 'ts': Timestamp(1505937509, 2)},\n",
       " 'updatedExisting': True}"
      ]
     },
     "metadata": {},
     "output_type": "display_data"
    },
    {
     "data": {
      "text/plain": [
       "{'electionId': ObjectId('7fffffff0000000000000002'),\n",
       " 'n': 1,\n",
       " 'nModified': 1,\n",
       " 'ok': 1.0,\n",
       " 'opTime': {'t': 2, 'ts': Timestamp(1505937510, 2)},\n",
       " 'updatedExisting': True}"
      ]
     },
     "metadata": {},
     "output_type": "display_data"
    },
    {
     "data": {
      "text/plain": [
       "{'electionId': ObjectId('7fffffff0000000000000002'),\n",
       " 'n': 1,\n",
       " 'nModified': 1,\n",
       " 'ok': 1.0,\n",
       " 'opTime': {'t': 2, 'ts': Timestamp(1505937511, 2)},\n",
       " 'updatedExisting': True}"
      ]
     },
     "metadata": {},
     "output_type": "display_data"
    },
    {
     "data": {
      "text/plain": [
       "{'electionId': ObjectId('7fffffff0000000000000002'),\n",
       " 'n': 1,\n",
       " 'nModified': 1,\n",
       " 'ok': 1.0,\n",
       " 'opTime': {'t': 2, 'ts': Timestamp(1505937513, 2)},\n",
       " 'updatedExisting': True}"
      ]
     },
     "metadata": {},
     "output_type": "display_data"
    },
    {
     "data": {
      "text/plain": [
       "{'electionId': ObjectId('7fffffff0000000000000002'),\n",
       " 'n': 1,\n",
       " 'nModified': 1,\n",
       " 'ok': 1.0,\n",
       " 'opTime': {'t': 2, 'ts': Timestamp(1505937514, 2)},\n",
       " 'updatedExisting': True}"
      ]
     },
     "metadata": {},
     "output_type": "display_data"
    },
    {
     "data": {
      "text/plain": [
       "{'electionId': ObjectId('7fffffff0000000000000002'),\n",
       " 'n': 1,\n",
       " 'nModified': 1,\n",
       " 'ok': 1.0,\n",
       " 'opTime': {'t': 2, 'ts': Timestamp(1505937515, 1)},\n",
       " 'updatedExisting': True}"
      ]
     },
     "metadata": {},
     "output_type": "display_data"
    },
    {
     "data": {
      "text/plain": [
       "{'electionId': ObjectId('7fffffff0000000000000002'),\n",
       " 'n': 1,\n",
       " 'nModified': 1,\n",
       " 'ok': 1.0,\n",
       " 'opTime': {'t': 2, 'ts': Timestamp(1505937516, 3)},\n",
       " 'updatedExisting': True}"
      ]
     },
     "metadata": {},
     "output_type": "display_data"
    },
    {
     "data": {
      "text/plain": [
       "{'electionId': ObjectId('7fffffff0000000000000002'),\n",
       " 'n': 1,\n",
       " 'nModified': 1,\n",
       " 'ok': 1.0,\n",
       " 'opTime': {'t': 2, 'ts': Timestamp(1505937518, 1)},\n",
       " 'updatedExisting': True}"
      ]
     },
     "metadata": {},
     "output_type": "display_data"
    },
    {
     "data": {
      "text/plain": [
       "{'electionId': ObjectId('7fffffff0000000000000002'),\n",
       " 'n': 1,\n",
       " 'nModified': 1,\n",
       " 'ok': 1.0,\n",
       " 'opTime': {'t': 2, 'ts': Timestamp(1505937520, 1)},\n",
       " 'updatedExisting': True}"
      ]
     },
     "metadata": {},
     "output_type": "display_data"
    },
    {
     "data": {
      "text/plain": [
       "{'electionId': ObjectId('7fffffff0000000000000002'),\n",
       " 'n': 1,\n",
       " 'nModified': 1,\n",
       " 'ok': 1.0,\n",
       " 'opTime': {'t': 2, 'ts': Timestamp(1505937521, 3)},\n",
       " 'updatedExisting': True}"
      ]
     },
     "metadata": {},
     "output_type": "display_data"
    },
    {
     "data": {
      "text/plain": [
       "{'electionId': ObjectId('7fffffff0000000000000002'),\n",
       " 'n': 1,\n",
       " 'nModified': 1,\n",
       " 'ok': 1.0,\n",
       " 'opTime': {'t': 2, 'ts': Timestamp(1505937522, 3)},\n",
       " 'updatedExisting': True}"
      ]
     },
     "metadata": {},
     "output_type": "display_data"
    },
    {
     "data": {
      "text/plain": [
       "{'electionId': ObjectId('7fffffff0000000000000002'),\n",
       " 'n': 1,\n",
       " 'nModified': 1,\n",
       " 'ok': 1.0,\n",
       " 'opTime': {'t': 2, 'ts': Timestamp(1505937523, 2)},\n",
       " 'updatedExisting': True}"
      ]
     },
     "metadata": {},
     "output_type": "display_data"
    },
    {
     "data": {
      "text/plain": [
       "{'electionId': ObjectId('7fffffff0000000000000002'),\n",
       " 'n': 1,\n",
       " 'nModified': 1,\n",
       " 'ok': 1.0,\n",
       " 'opTime': {'t': 2, 'ts': Timestamp(1505937524, 3)},\n",
       " 'updatedExisting': True}"
      ]
     },
     "metadata": {},
     "output_type": "display_data"
    },
    {
     "data": {
      "text/plain": [
       "{'electionId': ObjectId('7fffffff0000000000000002'),\n",
       " 'n': 1,\n",
       " 'nModified': 1,\n",
       " 'ok': 1.0,\n",
       " 'opTime': {'t': 2, 'ts': Timestamp(1505937525, 3)},\n",
       " 'updatedExisting': True}"
      ]
     },
     "metadata": {},
     "output_type": "display_data"
    },
    {
     "data": {
      "text/plain": [
       "{'electionId': ObjectId('7fffffff0000000000000002'),\n",
       " 'n': 1,\n",
       " 'nModified': 1,\n",
       " 'ok': 1.0,\n",
       " 'opTime': {'t': 2, 'ts': Timestamp(1505937527, 2)},\n",
       " 'updatedExisting': True}"
      ]
     },
     "metadata": {},
     "output_type": "display_data"
    },
    {
     "data": {
      "text/plain": [
       "{'electionId': ObjectId('7fffffff0000000000000002'),\n",
       " 'n': 1,\n",
       " 'nModified': 1,\n",
       " 'ok': 1.0,\n",
       " 'opTime': {'t': 2, 'ts': Timestamp(1505937529, 2)},\n",
       " 'updatedExisting': True}"
      ]
     },
     "metadata": {},
     "output_type": "display_data"
    },
    {
     "data": {
      "text/plain": [
       "{'electionId': ObjectId('7fffffff0000000000000002'),\n",
       " 'n': 1,\n",
       " 'nModified': 1,\n",
       " 'ok': 1.0,\n",
       " 'opTime': {'t': 2, 'ts': Timestamp(1505937531, 2)},\n",
       " 'updatedExisting': True}"
      ]
     },
     "metadata": {},
     "output_type": "display_data"
    },
    {
     "data": {
      "text/plain": [
       "{'electionId': ObjectId('7fffffff0000000000000002'),\n",
       " 'n': 1,\n",
       " 'nModified': 1,\n",
       " 'ok': 1.0,\n",
       " 'opTime': {'t': 2, 'ts': Timestamp(1505937532, 2)},\n",
       " 'updatedExisting': True}"
      ]
     },
     "metadata": {},
     "output_type": "display_data"
    },
    {
     "data": {
      "text/plain": [
       "{'electionId': ObjectId('7fffffff0000000000000002'),\n",
       " 'n': 1,\n",
       " 'nModified': 1,\n",
       " 'ok': 1.0,\n",
       " 'opTime': {'t': 2, 'ts': Timestamp(1505937533, 2)},\n",
       " 'updatedExisting': True}"
      ]
     },
     "metadata": {},
     "output_type": "display_data"
    },
    {
     "data": {
      "text/plain": [
       "{'electionId': ObjectId('7fffffff0000000000000002'),\n",
       " 'n': 1,\n",
       " 'nModified': 1,\n",
       " 'ok': 1.0,\n",
       " 'opTime': {'t': 2, 'ts': Timestamp(1505937534, 1)},\n",
       " 'updatedExisting': True}"
      ]
     },
     "metadata": {},
     "output_type": "display_data"
    },
    {
     "data": {
      "text/plain": [
       "{'electionId': ObjectId('7fffffff0000000000000002'),\n",
       " 'n': 1,\n",
       " 'nModified': 1,\n",
       " 'ok': 1.0,\n",
       " 'opTime': {'t': 2, 'ts': Timestamp(1505937535, 1)},\n",
       " 'updatedExisting': True}"
      ]
     },
     "metadata": {},
     "output_type": "display_data"
    },
    {
     "data": {
      "text/plain": [
       "{'electionId': ObjectId('7fffffff0000000000000002'),\n",
       " 'n': 1,\n",
       " 'nModified': 1,\n",
       " 'ok': 1.0,\n",
       " 'opTime': {'t': 2, 'ts': Timestamp(1505937536, 3)},\n",
       " 'updatedExisting': True}"
      ]
     },
     "metadata": {},
     "output_type": "display_data"
    },
    {
     "data": {
      "text/plain": [
       "{'electionId': ObjectId('7fffffff0000000000000002'),\n",
       " 'n': 1,\n",
       " 'nModified': 1,\n",
       " 'ok': 1.0,\n",
       " 'opTime': {'t': 2, 'ts': Timestamp(1505937537, 2)},\n",
       " 'updatedExisting': True}"
      ]
     },
     "metadata": {},
     "output_type": "display_data"
    },
    {
     "data": {
      "text/plain": [
       "{'electionId': ObjectId('7fffffff0000000000000002'),\n",
       " 'n': 1,\n",
       " 'nModified': 1,\n",
       " 'ok': 1.0,\n",
       " 'opTime': {'t': 2, 'ts': Timestamp(1505937539, 2)},\n",
       " 'updatedExisting': True}"
      ]
     },
     "metadata": {},
     "output_type": "display_data"
    },
    {
     "data": {
      "text/plain": [
       "{'electionId': ObjectId('7fffffff0000000000000002'),\n",
       " 'n': 1,\n",
       " 'nModified': 1,\n",
       " 'ok': 1.0,\n",
       " 'opTime': {'t': 2, 'ts': Timestamp(1505937540, 1)},\n",
       " 'updatedExisting': True}"
      ]
     },
     "metadata": {},
     "output_type": "display_data"
    },
    {
     "data": {
      "text/plain": [
       "{'electionId': ObjectId('7fffffff0000000000000002'),\n",
       " 'n': 1,\n",
       " 'nModified': 1,\n",
       " 'ok': 1.0,\n",
       " 'opTime': {'t': 2, 'ts': Timestamp(1505937540, 3)},\n",
       " 'updatedExisting': True}"
      ]
     },
     "metadata": {},
     "output_type": "display_data"
    },
    {
     "data": {
      "text/plain": [
       "{'electionId': ObjectId('7fffffff0000000000000002'),\n",
       " 'n': 1,\n",
       " 'nModified': 1,\n",
       " 'ok': 1.0,\n",
       " 'opTime': {'t': 2, 'ts': Timestamp(1505937541, 1)},\n",
       " 'updatedExisting': True}"
      ]
     },
     "metadata": {},
     "output_type": "display_data"
    },
    {
     "data": {
      "text/plain": [
       "{'electionId': ObjectId('7fffffff0000000000000002'),\n",
       " 'n': 1,\n",
       " 'nModified': 1,\n",
       " 'ok': 1.0,\n",
       " 'opTime': {'t': 2, 'ts': Timestamp(1505937541, 4)},\n",
       " 'updatedExisting': True}"
      ]
     },
     "metadata": {},
     "output_type": "display_data"
    },
    {
     "data": {
      "text/plain": [
       "{'electionId': ObjectId('7fffffff0000000000000002'),\n",
       " 'n': 1,\n",
       " 'nModified': 1,\n",
       " 'ok': 1.0,\n",
       " 'opTime': {'t': 2, 'ts': Timestamp(1505937542, 1)},\n",
       " 'updatedExisting': True}"
      ]
     },
     "metadata": {},
     "output_type": "display_data"
    },
    {
     "data": {
      "text/plain": [
       "{'electionId': ObjectId('7fffffff0000000000000002'),\n",
       " 'n': 1,\n",
       " 'nModified': 1,\n",
       " 'ok': 1.0,\n",
       " 'opTime': {'t': 2, 'ts': Timestamp(1505937543, 1)},\n",
       " 'updatedExisting': True}"
      ]
     },
     "metadata": {},
     "output_type": "display_data"
    },
    {
     "data": {
      "text/plain": [
       "{'electionId': ObjectId('7fffffff0000000000000002'),\n",
       " 'n': 1,\n",
       " 'nModified': 1,\n",
       " 'ok': 1.0,\n",
       " 'opTime': {'t': 2, 'ts': Timestamp(1505937543, 2)},\n",
       " 'updatedExisting': True}"
      ]
     },
     "metadata": {},
     "output_type": "display_data"
    },
    {
     "data": {
      "text/plain": [
       "{'electionId': ObjectId('7fffffff0000000000000002'),\n",
       " 'n': 1,\n",
       " 'nModified': 1,\n",
       " 'ok': 1.0,\n",
       " 'opTime': {'t': 2, 'ts': Timestamp(1505937544, 3)},\n",
       " 'updatedExisting': True}"
      ]
     },
     "metadata": {},
     "output_type": "display_data"
    },
    {
     "data": {
      "text/plain": [
       "{'electionId': ObjectId('7fffffff0000000000000002'),\n",
       " 'n': 1,\n",
       " 'nModified': 1,\n",
       " 'ok': 1.0,\n",
       " 'opTime': {'t': 2, 'ts': Timestamp(1505937545, 4)},\n",
       " 'updatedExisting': True}"
      ]
     },
     "metadata": {},
     "output_type": "display_data"
    },
    {
     "data": {
      "text/plain": [
       "{'electionId': ObjectId('7fffffff0000000000000002'),\n",
       " 'n': 1,\n",
       " 'nModified': 1,\n",
       " 'ok': 1.0,\n",
       " 'opTime': {'t': 2, 'ts': Timestamp(1505937546, 2)},\n",
       " 'updatedExisting': True}"
      ]
     },
     "metadata": {},
     "output_type": "display_data"
    },
    {
     "data": {
      "text/plain": [
       "{'electionId': ObjectId('7fffffff0000000000000002'),\n",
       " 'n': 1,\n",
       " 'nModified': 1,\n",
       " 'ok': 1.0,\n",
       " 'opTime': {'t': 2, 'ts': Timestamp(1505937547, 1)},\n",
       " 'updatedExisting': True}"
      ]
     },
     "metadata": {},
     "output_type": "display_data"
    },
    {
     "data": {
      "text/plain": [
       "{'electionId': ObjectId('7fffffff0000000000000002'),\n",
       " 'n': 1,\n",
       " 'nModified': 1,\n",
       " 'ok': 1.0,\n",
       " 'opTime': {'t': 2, 'ts': Timestamp(1505937547, 4)},\n",
       " 'updatedExisting': True}"
      ]
     },
     "metadata": {},
     "output_type": "display_data"
    },
    {
     "data": {
      "text/plain": [
       "{'electionId': ObjectId('7fffffff0000000000000002'),\n",
       " 'n': 1,\n",
       " 'nModified': 1,\n",
       " 'ok': 1.0,\n",
       " 'opTime': {'t': 2, 'ts': Timestamp(1505937548, 2)},\n",
       " 'updatedExisting': True}"
      ]
     },
     "metadata": {},
     "output_type": "display_data"
    },
    {
     "data": {
      "text/plain": [
       "{'electionId': ObjectId('7fffffff0000000000000002'),\n",
       " 'n': 1,\n",
       " 'nModified': 1,\n",
       " 'ok': 1.0,\n",
       " 'opTime': {'t': 2, 'ts': Timestamp(1505937549, 1)},\n",
       " 'updatedExisting': True}"
      ]
     },
     "metadata": {},
     "output_type": "display_data"
    },
    {
     "data": {
      "text/plain": [
       "{'electionId': ObjectId('7fffffff0000000000000002'),\n",
       " 'n': 1,\n",
       " 'nModified': 1,\n",
       " 'ok': 1.0,\n",
       " 'opTime': {'t': 2, 'ts': Timestamp(1505937549, 4)},\n",
       " 'updatedExisting': True}"
      ]
     },
     "metadata": {},
     "output_type": "display_data"
    },
    {
     "data": {
      "text/plain": [
       "{'electionId': ObjectId('7fffffff0000000000000002'),\n",
       " 'n': 1,\n",
       " 'nModified': 1,\n",
       " 'ok': 1.0,\n",
       " 'opTime': {'t': 2, 'ts': Timestamp(1505937550, 3)},\n",
       " 'updatedExisting': True}"
      ]
     },
     "metadata": {},
     "output_type": "display_data"
    },
    {
     "data": {
      "text/plain": [
       "{'electionId': ObjectId('7fffffff0000000000000002'),\n",
       " 'n': 1,\n",
       " 'nModified': 1,\n",
       " 'ok': 1.0,\n",
       " 'opTime': {'t': 2, 'ts': Timestamp(1505937551, 2)},\n",
       " 'updatedExisting': True}"
      ]
     },
     "metadata": {},
     "output_type": "display_data"
    },
    {
     "data": {
      "text/plain": [
       "{'electionId': ObjectId('7fffffff0000000000000002'),\n",
       " 'n': 1,\n",
       " 'nModified': 1,\n",
       " 'ok': 1.0,\n",
       " 'opTime': {'t': 2, 'ts': Timestamp(1505937552, 1)},\n",
       " 'updatedExisting': True}"
      ]
     },
     "metadata": {},
     "output_type": "display_data"
    },
    {
     "data": {
      "text/plain": [
       "{'electionId': ObjectId('7fffffff0000000000000002'),\n",
       " 'n': 1,\n",
       " 'nModified': 1,\n",
       " 'ok': 1.0,\n",
       " 'opTime': {'t': 2, 'ts': Timestamp(1505937552, 5)},\n",
       " 'updatedExisting': True}"
      ]
     },
     "metadata": {},
     "output_type": "display_data"
    },
    {
     "data": {
      "text/plain": [
       "{'electionId': ObjectId('7fffffff0000000000000002'),\n",
       " 'n': 1,\n",
       " 'nModified': 1,\n",
       " 'ok': 1.0,\n",
       " 'opTime': {'t': 2, 'ts': Timestamp(1505937553, 7)},\n",
       " 'updatedExisting': True}"
      ]
     },
     "metadata": {},
     "output_type": "display_data"
    },
    {
     "data": {
      "text/plain": [
       "{'electionId': ObjectId('7fffffff0000000000000002'),\n",
       " 'n': 1,\n",
       " 'nModified': 1,\n",
       " 'ok': 1.0,\n",
       " 'opTime': {'t': 2, 'ts': Timestamp(1505937554, 2)},\n",
       " 'updatedExisting': True}"
      ]
     },
     "metadata": {},
     "output_type": "display_data"
    },
    {
     "data": {
      "text/plain": [
       "{'electionId': ObjectId('7fffffff0000000000000002'),\n",
       " 'n': 1,\n",
       " 'nModified': 1,\n",
       " 'ok': 1.0,\n",
       " 'opTime': {'t': 2, 'ts': Timestamp(1505937555, 3)},\n",
       " 'updatedExisting': True}"
      ]
     },
     "metadata": {},
     "output_type": "display_data"
    },
    {
     "data": {
      "text/plain": [
       "{'electionId': ObjectId('7fffffff0000000000000002'),\n",
       " 'n': 1,\n",
       " 'nModified': 1,\n",
       " 'ok': 1.0,\n",
       " 'opTime': {'t': 2, 'ts': Timestamp(1505937558, 1)},\n",
       " 'updatedExisting': True}"
      ]
     },
     "metadata": {},
     "output_type": "display_data"
    },
    {
     "data": {
      "text/plain": [
       "{'electionId': ObjectId('7fffffff0000000000000002'),\n",
       " 'n': 1,\n",
       " 'nModified': 1,\n",
       " 'ok': 1.0,\n",
       " 'opTime': {'t': 2, 'ts': Timestamp(1505937559, 2)},\n",
       " 'updatedExisting': True}"
      ]
     },
     "metadata": {},
     "output_type": "display_data"
    },
    {
     "data": {
      "text/plain": [
       "{'electionId': ObjectId('7fffffff0000000000000002'),\n",
       " 'n': 1,\n",
       " 'nModified': 1,\n",
       " 'ok': 1.0,\n",
       " 'opTime': {'t': 2, 'ts': Timestamp(1505937561, 1)},\n",
       " 'updatedExisting': True}"
      ]
     },
     "metadata": {},
     "output_type": "display_data"
    },
    {
     "data": {
      "text/plain": [
       "{'electionId': ObjectId('7fffffff0000000000000002'),\n",
       " 'n': 1,\n",
       " 'nModified': 1,\n",
       " 'ok': 1.0,\n",
       " 'opTime': {'t': 2, 'ts': Timestamp(1505937562, 1)},\n",
       " 'updatedExisting': True}"
      ]
     },
     "metadata": {},
     "output_type": "display_data"
    },
    {
     "data": {
      "text/plain": [
       "{'electionId': ObjectId('7fffffff0000000000000002'),\n",
       " 'n': 1,\n",
       " 'nModified': 1,\n",
       " 'ok': 1.0,\n",
       " 'opTime': {'t': 2, 'ts': Timestamp(1505937563, 2)},\n",
       " 'updatedExisting': True}"
      ]
     },
     "metadata": {},
     "output_type": "display_data"
    },
    {
     "data": {
      "text/plain": [
       "{'electionId': ObjectId('7fffffff0000000000000002'),\n",
       " 'n': 1,\n",
       " 'nModified': 1,\n",
       " 'ok': 1.0,\n",
       " 'opTime': {'t': 2, 'ts': Timestamp(1505937564, 2)},\n",
       " 'updatedExisting': True}"
      ]
     },
     "metadata": {},
     "output_type": "display_data"
    },
    {
     "data": {
      "text/plain": [
       "{'electionId': ObjectId('7fffffff0000000000000002'),\n",
       " 'n': 1,\n",
       " 'nModified': 1,\n",
       " 'ok': 1.0,\n",
       " 'opTime': {'t': 2, 'ts': Timestamp(1505937565, 1)},\n",
       " 'updatedExisting': True}"
      ]
     },
     "metadata": {},
     "output_type": "display_data"
    },
    {
     "data": {
      "text/plain": [
       "{'electionId': ObjectId('7fffffff0000000000000002'),\n",
       " 'n': 1,\n",
       " 'nModified': 1,\n",
       " 'ok': 1.0,\n",
       " 'opTime': {'t': 2, 'ts': Timestamp(1505937566, 2)},\n",
       " 'updatedExisting': True}"
      ]
     },
     "metadata": {},
     "output_type": "display_data"
    },
    {
     "data": {
      "text/plain": [
       "{'electionId': ObjectId('7fffffff0000000000000002'),\n",
       " 'n': 1,\n",
       " 'nModified': 1,\n",
       " 'ok': 1.0,\n",
       " 'opTime': {'t': 2, 'ts': Timestamp(1505937567, 2)},\n",
       " 'updatedExisting': True}"
      ]
     },
     "metadata": {},
     "output_type": "display_data"
    },
    {
     "data": {
      "text/plain": [
       "{'electionId': ObjectId('7fffffff0000000000000002'),\n",
       " 'n': 1,\n",
       " 'nModified': 1,\n",
       " 'ok': 1.0,\n",
       " 'opTime': {'t': 2, 'ts': Timestamp(1505937568, 1)},\n",
       " 'updatedExisting': True}"
      ]
     },
     "metadata": {},
     "output_type": "display_data"
    },
    {
     "data": {
      "text/plain": [
       "{'electionId': ObjectId('7fffffff0000000000000002'),\n",
       " 'n': 1,\n",
       " 'nModified': 1,\n",
       " 'ok': 1.0,\n",
       " 'opTime': {'t': 2, 'ts': Timestamp(1505937569, 1)},\n",
       " 'updatedExisting': True}"
      ]
     },
     "metadata": {},
     "output_type": "display_data"
    },
    {
     "data": {
      "text/plain": [
       "{'electionId': ObjectId('7fffffff0000000000000002'),\n",
       " 'n': 1,\n",
       " 'nModified': 1,\n",
       " 'ok': 1.0,\n",
       " 'opTime': {'t': 2, 'ts': Timestamp(1505937570, 2)},\n",
       " 'updatedExisting': True}"
      ]
     },
     "metadata": {},
     "output_type": "display_data"
    },
    {
     "data": {
      "text/plain": [
       "{'electionId': ObjectId('7fffffff0000000000000002'),\n",
       " 'n': 1,\n",
       " 'nModified': 1,\n",
       " 'ok': 1.0,\n",
       " 'opTime': {'t': 2, 'ts': Timestamp(1505937571, 2)},\n",
       " 'updatedExisting': True}"
      ]
     },
     "metadata": {},
     "output_type": "display_data"
    },
    {
     "data": {
      "text/plain": [
       "{'electionId': ObjectId('7fffffff0000000000000002'),\n",
       " 'n': 1,\n",
       " 'nModified': 1,\n",
       " 'ok': 1.0,\n",
       " 'opTime': {'t': 2, 'ts': Timestamp(1505937572, 2)},\n",
       " 'updatedExisting': True}"
      ]
     },
     "metadata": {},
     "output_type": "display_data"
    },
    {
     "data": {
      "text/plain": [
       "{'electionId': ObjectId('7fffffff0000000000000002'),\n",
       " 'n': 1,\n",
       " 'nModified': 1,\n",
       " 'ok': 1.0,\n",
       " 'opTime': {'t': 2, 'ts': Timestamp(1505937573, 1)},\n",
       " 'updatedExisting': True}"
      ]
     },
     "metadata": {},
     "output_type": "display_data"
    },
    {
     "data": {
      "text/plain": [
       "{'electionId': ObjectId('7fffffff0000000000000002'),\n",
       " 'n': 1,\n",
       " 'nModified': 1,\n",
       " 'ok': 1.0,\n",
       " 'opTime': {'t': 2, 'ts': Timestamp(1505937574, 1)},\n",
       " 'updatedExisting': True}"
      ]
     },
     "metadata": {},
     "output_type": "display_data"
    },
    {
     "data": {
      "text/plain": [
       "{'electionId': ObjectId('7fffffff0000000000000002'),\n",
       " 'n': 1,\n",
       " 'nModified': 1,\n",
       " 'ok': 1.0,\n",
       " 'opTime': {'t': 2, 'ts': Timestamp(1505937574, 4)},\n",
       " 'updatedExisting': True}"
      ]
     },
     "metadata": {},
     "output_type": "display_data"
    },
    {
     "data": {
      "text/plain": [
       "{'electionId': ObjectId('7fffffff0000000000000002'),\n",
       " 'n': 1,\n",
       " 'nModified': 1,\n",
       " 'ok': 1.0,\n",
       " 'opTime': {'t': 2, 'ts': Timestamp(1505937576, 2)},\n",
       " 'updatedExisting': True}"
      ]
     },
     "metadata": {},
     "output_type": "display_data"
    },
    {
     "data": {
      "text/plain": [
       "{'electionId': ObjectId('7fffffff0000000000000002'),\n",
       " 'n': 1,\n",
       " 'nModified': 1,\n",
       " 'ok': 1.0,\n",
       " 'opTime': {'t': 2, 'ts': Timestamp(1505937577, 1)},\n",
       " 'updatedExisting': True}"
      ]
     },
     "metadata": {},
     "output_type": "display_data"
    },
    {
     "data": {
      "text/plain": [
       "{'electionId': ObjectId('7fffffff0000000000000002'),\n",
       " 'n': 1,\n",
       " 'nModified': 1,\n",
       " 'ok': 1.0,\n",
       " 'opTime': {'t': 2, 'ts': Timestamp(1505937578, 2)},\n",
       " 'updatedExisting': True}"
      ]
     },
     "metadata": {},
     "output_type": "display_data"
    },
    {
     "data": {
      "text/plain": [
       "{'electionId': ObjectId('7fffffff0000000000000002'),\n",
       " 'n': 1,\n",
       " 'nModified': 1,\n",
       " 'ok': 1.0,\n",
       " 'opTime': {'t': 2, 'ts': Timestamp(1505937579, 2)},\n",
       " 'updatedExisting': True}"
      ]
     },
     "metadata": {},
     "output_type": "display_data"
    },
    {
     "data": {
      "text/plain": [
       "{'electionId': ObjectId('7fffffff0000000000000002'),\n",
       " 'n': 1,\n",
       " 'nModified': 1,\n",
       " 'ok': 1.0,\n",
       " 'opTime': {'t': 2, 'ts': Timestamp(1505937580, 2)},\n",
       " 'updatedExisting': True}"
      ]
     },
     "metadata": {},
     "output_type": "display_data"
    },
    {
     "data": {
      "text/plain": [
       "{'electionId': ObjectId('7fffffff0000000000000002'),\n",
       " 'n': 1,\n",
       " 'nModified': 1,\n",
       " 'ok': 1.0,\n",
       " 'opTime': {'t': 2, 'ts': Timestamp(1505937581, 2)},\n",
       " 'updatedExisting': True}"
      ]
     },
     "metadata": {},
     "output_type": "display_data"
    },
    {
     "data": {
      "text/plain": [
       "{'electionId': ObjectId('7fffffff0000000000000002'),\n",
       " 'n': 1,\n",
       " 'nModified': 1,\n",
       " 'ok': 1.0,\n",
       " 'opTime': {'t': 2, 'ts': Timestamp(1505937582, 2)},\n",
       " 'updatedExisting': True}"
      ]
     },
     "metadata": {},
     "output_type": "display_data"
    },
    {
     "data": {
      "text/plain": [
       "{'electionId': ObjectId('7fffffff0000000000000002'),\n",
       " 'n': 1,\n",
       " 'nModified': 1,\n",
       " 'ok': 1.0,\n",
       " 'opTime': {'t': 2, 'ts': Timestamp(1505937583, 1)},\n",
       " 'updatedExisting': True}"
      ]
     },
     "metadata": {},
     "output_type": "display_data"
    },
    {
     "data": {
      "text/plain": [
       "{'electionId': ObjectId('7fffffff0000000000000002'),\n",
       " 'n': 1,\n",
       " 'nModified': 1,\n",
       " 'ok': 1.0,\n",
       " 'opTime': {'t': 2, 'ts': Timestamp(1505937584, 1)},\n",
       " 'updatedExisting': True}"
      ]
     },
     "metadata": {},
     "output_type": "display_data"
    },
    {
     "data": {
      "text/plain": [
       "{'electionId': ObjectId('7fffffff0000000000000002'),\n",
       " 'n': 1,\n",
       " 'nModified': 1,\n",
       " 'ok': 1.0,\n",
       " 'opTime': {'t': 2, 'ts': Timestamp(1505937585, 1)},\n",
       " 'updatedExisting': True}"
      ]
     },
     "metadata": {},
     "output_type": "display_data"
    },
    {
     "data": {
      "text/plain": [
       "{'electionId': ObjectId('7fffffff0000000000000002'),\n",
       " 'n': 1,\n",
       " 'nModified': 1,\n",
       " 'ok': 1.0,\n",
       " 'opTime': {'t': 2, 'ts': Timestamp(1505937586, 1)},\n",
       " 'updatedExisting': True}"
      ]
     },
     "metadata": {},
     "output_type": "display_data"
    },
    {
     "data": {
      "text/plain": [
       "{'electionId': ObjectId('7fffffff0000000000000002'),\n",
       " 'n': 1,\n",
       " 'nModified': 1,\n",
       " 'ok': 1.0,\n",
       " 'opTime': {'t': 2, 'ts': Timestamp(1505937588, 1)},\n",
       " 'updatedExisting': True}"
      ]
     },
     "metadata": {},
     "output_type": "display_data"
    },
    {
     "data": {
      "text/plain": [
       "{'electionId': ObjectId('7fffffff0000000000000002'),\n",
       " 'n': 1,\n",
       " 'nModified': 1,\n",
       " 'ok': 1.0,\n",
       " 'opTime': {'t': 2, 'ts': Timestamp(1505937590, 1)},\n",
       " 'updatedExisting': True}"
      ]
     },
     "metadata": {},
     "output_type": "display_data"
    },
    {
     "data": {
      "text/plain": [
       "{'electionId': ObjectId('7fffffff0000000000000002'),\n",
       " 'n': 1,\n",
       " 'nModified': 1,\n",
       " 'ok': 1.0,\n",
       " 'opTime': {'t': 2, 'ts': Timestamp(1505937591, 1)},\n",
       " 'updatedExisting': True}"
      ]
     },
     "metadata": {},
     "output_type": "display_data"
    },
    {
     "data": {
      "text/plain": [
       "{'electionId': ObjectId('7fffffff0000000000000002'),\n",
       " 'n': 1,\n",
       " 'nModified': 1,\n",
       " 'ok': 1.0,\n",
       " 'opTime': {'t': 2, 'ts': Timestamp(1505937592, 1)},\n",
       " 'updatedExisting': True}"
      ]
     },
     "metadata": {},
     "output_type": "display_data"
    },
    {
     "data": {
      "text/plain": [
       "{'electionId': ObjectId('7fffffff0000000000000002'),\n",
       " 'n': 1,\n",
       " 'nModified': 1,\n",
       " 'ok': 1.0,\n",
       " 'opTime': {'t': 2, 'ts': Timestamp(1505937593, 1)},\n",
       " 'updatedExisting': True}"
      ]
     },
     "metadata": {},
     "output_type": "display_data"
    },
    {
     "data": {
      "text/plain": [
       "{'electionId': ObjectId('7fffffff0000000000000002'),\n",
       " 'n': 1,\n",
       " 'nModified': 1,\n",
       " 'ok': 1.0,\n",
       " 'opTime': {'t': 2, 'ts': Timestamp(1505937594, 1)},\n",
       " 'updatedExisting': True}"
      ]
     },
     "metadata": {},
     "output_type": "display_data"
    },
    {
     "data": {
      "text/plain": [
       "{'electionId': ObjectId('7fffffff0000000000000002'),\n",
       " 'n': 1,\n",
       " 'nModified': 1,\n",
       " 'ok': 1.0,\n",
       " 'opTime': {'t': 2, 'ts': Timestamp(1505937595, 1)},\n",
       " 'updatedExisting': True}"
      ]
     },
     "metadata": {},
     "output_type": "display_data"
    },
    {
     "data": {
      "text/plain": [
       "{'electionId': ObjectId('7fffffff0000000000000002'),\n",
       " 'n': 1,\n",
       " 'nModified': 1,\n",
       " 'ok': 1.0,\n",
       " 'opTime': {'t': 2, 'ts': Timestamp(1505937597, 1)},\n",
       " 'updatedExisting': True}"
      ]
     },
     "metadata": {},
     "output_type": "display_data"
    },
    {
     "data": {
      "text/plain": [
       "{'electionId': ObjectId('7fffffff0000000000000002'),\n",
       " 'n': 1,\n",
       " 'nModified': 1,\n",
       " 'ok': 1.0,\n",
       " 'opTime': {'t': 2, 'ts': Timestamp(1505937598, 1)},\n",
       " 'updatedExisting': True}"
      ]
     },
     "metadata": {},
     "output_type": "display_data"
    },
    {
     "data": {
      "text/plain": [
       "{'electionId': ObjectId('7fffffff0000000000000002'),\n",
       " 'n': 1,\n",
       " 'nModified': 1,\n",
       " 'ok': 1.0,\n",
       " 'opTime': {'t': 2, 'ts': Timestamp(1505937600, 1)},\n",
       " 'updatedExisting': True}"
      ]
     },
     "metadata": {},
     "output_type": "display_data"
    },
    {
     "data": {
      "text/plain": [
       "{'electionId': ObjectId('7fffffff0000000000000002'),\n",
       " 'n': 1,\n",
       " 'nModified': 1,\n",
       " 'ok': 1.0,\n",
       " 'opTime': {'t': 2, 'ts': Timestamp(1505937601, 1)},\n",
       " 'updatedExisting': True}"
      ]
     },
     "metadata": {},
     "output_type": "display_data"
    },
    {
     "data": {
      "text/plain": [
       "{'electionId': ObjectId('7fffffff0000000000000002'),\n",
       " 'n': 1,\n",
       " 'nModified': 1,\n",
       " 'ok': 1.0,\n",
       " 'opTime': {'t': 2, 'ts': Timestamp(1505937602, 1)},\n",
       " 'updatedExisting': True}"
      ]
     },
     "metadata": {},
     "output_type": "display_data"
    },
    {
     "data": {
      "text/plain": [
       "{'electionId': ObjectId('7fffffff0000000000000002'),\n",
       " 'n': 1,\n",
       " 'nModified': 1,\n",
       " 'ok': 1.0,\n",
       " 'opTime': {'t': 2, 'ts': Timestamp(1505937604, 1)},\n",
       " 'updatedExisting': True}"
      ]
     },
     "metadata": {},
     "output_type": "display_data"
    },
    {
     "data": {
      "text/plain": [
       "{'electionId': ObjectId('7fffffff0000000000000002'),\n",
       " 'n': 1,\n",
       " 'nModified': 1,\n",
       " 'ok': 1.0,\n",
       " 'opTime': {'t': 2, 'ts': Timestamp(1505937605, 1)},\n",
       " 'updatedExisting': True}"
      ]
     },
     "metadata": {},
     "output_type": "display_data"
    },
    {
     "data": {
      "text/plain": [
       "{'electionId': ObjectId('7fffffff0000000000000002'),\n",
       " 'n': 1,\n",
       " 'nModified': 1,\n",
       " 'ok': 1.0,\n",
       " 'opTime': {'t': 2, 'ts': Timestamp(1505937606, 1)},\n",
       " 'updatedExisting': True}"
      ]
     },
     "metadata": {},
     "output_type": "display_data"
    },
    {
     "data": {
      "text/plain": [
       "{'electionId': ObjectId('7fffffff0000000000000002'),\n",
       " 'n': 1,\n",
       " 'nModified': 1,\n",
       " 'ok': 1.0,\n",
       " 'opTime': {'t': 2, 'ts': Timestamp(1505937607, 1)},\n",
       " 'updatedExisting': True}"
      ]
     },
     "metadata": {},
     "output_type": "display_data"
    },
    {
     "data": {
      "text/plain": [
       "{'electionId': ObjectId('7fffffff0000000000000002'),\n",
       " 'n': 1,\n",
       " 'nModified': 1,\n",
       " 'ok': 1.0,\n",
       " 'opTime': {'t': 2, 'ts': Timestamp(1505937609, 1)},\n",
       " 'updatedExisting': True}"
      ]
     },
     "metadata": {},
     "output_type": "display_data"
    },
    {
     "data": {
      "text/plain": [
       "{'electionId': ObjectId('7fffffff0000000000000002'),\n",
       " 'n': 1,\n",
       " 'nModified': 1,\n",
       " 'ok': 1.0,\n",
       " 'opTime': {'t': 2, 'ts': Timestamp(1505937610, 1)},\n",
       " 'updatedExisting': True}"
      ]
     },
     "metadata": {},
     "output_type": "display_data"
    },
    {
     "data": {
      "text/plain": [
       "{'electionId': ObjectId('7fffffff0000000000000002'),\n",
       " 'n': 1,\n",
       " 'nModified': 1,\n",
       " 'ok': 1.0,\n",
       " 'opTime': {'t': 2, 'ts': Timestamp(1505937612, 1)},\n",
       " 'updatedExisting': True}"
      ]
     },
     "metadata": {},
     "output_type": "display_data"
    },
    {
     "data": {
      "text/plain": [
       "{'electionId': ObjectId('7fffffff0000000000000002'),\n",
       " 'n': 1,\n",
       " 'nModified': 1,\n",
       " 'ok': 1.0,\n",
       " 'opTime': {'t': 2, 'ts': Timestamp(1505937613, 1)},\n",
       " 'updatedExisting': True}"
      ]
     },
     "metadata": {},
     "output_type": "display_data"
    },
    {
     "data": {
      "text/plain": [
       "{'electionId': ObjectId('7fffffff0000000000000002'),\n",
       " 'n': 1,\n",
       " 'nModified': 1,\n",
       " 'ok': 1.0,\n",
       " 'opTime': {'t': 2, 'ts': Timestamp(1505937613, 2)},\n",
       " 'updatedExisting': True}"
      ]
     },
     "metadata": {},
     "output_type": "display_data"
    },
    {
     "data": {
      "text/plain": [
       "{'electionId': ObjectId('7fffffff0000000000000002'),\n",
       " 'n': 1,\n",
       " 'nModified': 1,\n",
       " 'ok': 1.0,\n",
       " 'opTime': {'t': 2, 'ts': Timestamp(1505937614, 1)},\n",
       " 'updatedExisting': True}"
      ]
     },
     "metadata": {},
     "output_type": "display_data"
    },
    {
     "data": {
      "text/plain": [
       "{'electionId': ObjectId('7fffffff0000000000000002'),\n",
       " 'n': 1,\n",
       " 'nModified': 1,\n",
       " 'ok': 1.0,\n",
       " 'opTime': {'t': 2, 'ts': Timestamp(1505937615, 1)},\n",
       " 'updatedExisting': True}"
      ]
     },
     "metadata": {},
     "output_type": "display_data"
    },
    {
     "data": {
      "text/plain": [
       "{'electionId': ObjectId('7fffffff0000000000000002'),\n",
       " 'n': 1,\n",
       " 'nModified': 1,\n",
       " 'ok': 1.0,\n",
       " 'opTime': {'t': 2, 'ts': Timestamp(1505937616, 1)},\n",
       " 'updatedExisting': True}"
      ]
     },
     "metadata": {},
     "output_type": "display_data"
    },
    {
     "data": {
      "text/plain": [
       "{'electionId': ObjectId('7fffffff0000000000000002'),\n",
       " 'n': 1,\n",
       " 'nModified': 1,\n",
       " 'ok': 1.0,\n",
       " 'opTime': {'t': 2, 'ts': Timestamp(1505937617, 1)},\n",
       " 'updatedExisting': True}"
      ]
     },
     "metadata": {},
     "output_type": "display_data"
    },
    {
     "data": {
      "text/plain": [
       "{'electionId': ObjectId('7fffffff0000000000000002'),\n",
       " 'n': 1,\n",
       " 'nModified': 1,\n",
       " 'ok': 1.0,\n",
       " 'opTime': {'t': 2, 'ts': Timestamp(1505937617, 2)},\n",
       " 'updatedExisting': True}"
      ]
     },
     "metadata": {},
     "output_type": "display_data"
    },
    {
     "data": {
      "text/plain": [
       "{'electionId': ObjectId('7fffffff0000000000000002'),\n",
       " 'n': 1,\n",
       " 'nModified': 1,\n",
       " 'ok': 1.0,\n",
       " 'opTime': {'t': 2, 'ts': Timestamp(1505937618, 1)},\n",
       " 'updatedExisting': True}"
      ]
     },
     "metadata": {},
     "output_type": "display_data"
    },
    {
     "data": {
      "text/plain": [
       "{'electionId': ObjectId('7fffffff0000000000000002'),\n",
       " 'n': 1,\n",
       " 'nModified': 1,\n",
       " 'ok': 1.0,\n",
       " 'opTime': {'t': 2, 'ts': Timestamp(1505937619, 1)},\n",
       " 'updatedExisting': True}"
      ]
     },
     "metadata": {},
     "output_type": "display_data"
    },
    {
     "data": {
      "text/plain": [
       "{'electionId': ObjectId('7fffffff0000000000000002'),\n",
       " 'n': 1,\n",
       " 'nModified': 1,\n",
       " 'ok': 1.0,\n",
       " 'opTime': {'t': 2, 'ts': Timestamp(1505937621, 1)},\n",
       " 'updatedExisting': True}"
      ]
     },
     "metadata": {},
     "output_type": "display_data"
    },
    {
     "data": {
      "text/plain": [
       "{'electionId': ObjectId('7fffffff0000000000000002'),\n",
       " 'n': 1,\n",
       " 'nModified': 1,\n",
       " 'ok': 1.0,\n",
       " 'opTime': {'t': 2, 'ts': Timestamp(1505937622, 1)},\n",
       " 'updatedExisting': True}"
      ]
     },
     "metadata": {},
     "output_type": "display_data"
    },
    {
     "data": {
      "text/plain": [
       "{'electionId': ObjectId('7fffffff0000000000000002'),\n",
       " 'n': 1,\n",
       " 'nModified': 1,\n",
       " 'ok': 1.0,\n",
       " 'opTime': {'t': 2, 'ts': Timestamp(1505937624, 1)},\n",
       " 'updatedExisting': True}"
      ]
     },
     "metadata": {},
     "output_type": "display_data"
    },
    {
     "data": {
      "text/plain": [
       "{'electionId': ObjectId('7fffffff0000000000000002'),\n",
       " 'n': 1,\n",
       " 'nModified': 1,\n",
       " 'ok': 1.0,\n",
       " 'opTime': {'t': 2, 'ts': Timestamp(1505937625, 1)},\n",
       " 'updatedExisting': True}"
      ]
     },
     "metadata": {},
     "output_type": "display_data"
    },
    {
     "data": {
      "text/plain": [
       "{'electionId': ObjectId('7fffffff0000000000000002'),\n",
       " 'n': 1,\n",
       " 'nModified': 1,\n",
       " 'ok': 1.0,\n",
       " 'opTime': {'t': 2, 'ts': Timestamp(1505937626, 1)},\n",
       " 'updatedExisting': True}"
      ]
     },
     "metadata": {},
     "output_type": "display_data"
    },
    {
     "data": {
      "text/plain": [
       "{'electionId': ObjectId('7fffffff0000000000000002'),\n",
       " 'n': 1,\n",
       " 'nModified': 1,\n",
       " 'ok': 1.0,\n",
       " 'opTime': {'t': 2, 'ts': Timestamp(1505937627, 1)},\n",
       " 'updatedExisting': True}"
      ]
     },
     "metadata": {},
     "output_type": "display_data"
    },
    {
     "data": {
      "text/plain": [
       "{'electionId': ObjectId('7fffffff0000000000000002'),\n",
       " 'n': 1,\n",
       " 'nModified': 1,\n",
       " 'ok': 1.0,\n",
       " 'opTime': {'t': 2, 'ts': Timestamp(1505937628, 1)},\n",
       " 'updatedExisting': True}"
      ]
     },
     "metadata": {},
     "output_type": "display_data"
    },
    {
     "data": {
      "text/plain": [
       "{'electionId': ObjectId('7fffffff0000000000000002'),\n",
       " 'n': 1,\n",
       " 'nModified': 1,\n",
       " 'ok': 1.0,\n",
       " 'opTime': {'t': 2, 'ts': Timestamp(1505937629, 1)},\n",
       " 'updatedExisting': True}"
      ]
     },
     "metadata": {},
     "output_type": "display_data"
    },
    {
     "data": {
      "text/plain": [
       "{'electionId': ObjectId('7fffffff0000000000000002'),\n",
       " 'n': 1,\n",
       " 'nModified': 1,\n",
       " 'ok': 1.0,\n",
       " 'opTime': {'t': 2, 'ts': Timestamp(1505937630, 1)},\n",
       " 'updatedExisting': True}"
      ]
     },
     "metadata": {},
     "output_type": "display_data"
    },
    {
     "data": {
      "text/plain": [
       "{'electionId': ObjectId('7fffffff0000000000000002'),\n",
       " 'n': 1,\n",
       " 'nModified': 1,\n",
       " 'ok': 1.0,\n",
       " 'opTime': {'t': 2, 'ts': Timestamp(1505937631, 1)},\n",
       " 'updatedExisting': True}"
      ]
     },
     "metadata": {},
     "output_type": "display_data"
    },
    {
     "data": {
      "text/plain": [
       "{'electionId': ObjectId('7fffffff0000000000000002'),\n",
       " 'n': 1,\n",
       " 'nModified': 1,\n",
       " 'ok': 1.0,\n",
       " 'opTime': {'t': 2, 'ts': Timestamp(1505937632, 1)},\n",
       " 'updatedExisting': True}"
      ]
     },
     "metadata": {},
     "output_type": "display_data"
    },
    {
     "data": {
      "text/plain": [
       "{'electionId': ObjectId('7fffffff0000000000000002'),\n",
       " 'n': 1,\n",
       " 'nModified': 1,\n",
       " 'ok': 1.0,\n",
       " 'opTime': {'t': 2, 'ts': Timestamp(1505937633, 1)},\n",
       " 'updatedExisting': True}"
      ]
     },
     "metadata": {},
     "output_type": "display_data"
    },
    {
     "data": {
      "text/plain": [
       "{'electionId': ObjectId('7fffffff0000000000000002'),\n",
       " 'n': 1,\n",
       " 'nModified': 1,\n",
       " 'ok': 1.0,\n",
       " 'opTime': {'t': 2, 'ts': Timestamp(1505937635, 1)},\n",
       " 'updatedExisting': True}"
      ]
     },
     "metadata": {},
     "output_type": "display_data"
    },
    {
     "data": {
      "text/plain": [
       "{'electionId': ObjectId('7fffffff0000000000000002'),\n",
       " 'n': 1,\n",
       " 'nModified': 1,\n",
       " 'ok': 1.0,\n",
       " 'opTime': {'t': 2, 'ts': Timestamp(1505937636, 1)},\n",
       " 'updatedExisting': True}"
      ]
     },
     "metadata": {},
     "output_type": "display_data"
    },
    {
     "data": {
      "text/plain": [
       "{'electionId': ObjectId('7fffffff0000000000000002'),\n",
       " 'n': 1,\n",
       " 'nModified': 1,\n",
       " 'ok': 1.0,\n",
       " 'opTime': {'t': 2, 'ts': Timestamp(1505937637, 1)},\n",
       " 'updatedExisting': True}"
      ]
     },
     "metadata": {},
     "output_type": "display_data"
    },
    {
     "data": {
      "text/plain": [
       "{'electionId': ObjectId('7fffffff0000000000000002'),\n",
       " 'n': 1,\n",
       " 'nModified': 1,\n",
       " 'ok': 1.0,\n",
       " 'opTime': {'t': 2, 'ts': Timestamp(1505937638, 1)},\n",
       " 'updatedExisting': True}"
      ]
     },
     "metadata": {},
     "output_type": "display_data"
    },
    {
     "data": {
      "text/plain": [
       "{'electionId': ObjectId('7fffffff0000000000000002'),\n",
       " 'n': 1,\n",
       " 'nModified': 1,\n",
       " 'ok': 1.0,\n",
       " 'opTime': {'t': 2, 'ts': Timestamp(1505937639, 1)},\n",
       " 'updatedExisting': True}"
      ]
     },
     "metadata": {},
     "output_type": "display_data"
    },
    {
     "data": {
      "text/plain": [
       "{'electionId': ObjectId('7fffffff0000000000000002'),\n",
       " 'n': 1,\n",
       " 'nModified': 1,\n",
       " 'ok': 1.0,\n",
       " 'opTime': {'t': 2, 'ts': Timestamp(1505937641, 1)},\n",
       " 'updatedExisting': True}"
      ]
     },
     "metadata": {},
     "output_type": "display_data"
    },
    {
     "data": {
      "text/plain": [
       "{'electionId': ObjectId('7fffffff0000000000000002'),\n",
       " 'n': 1,\n",
       " 'nModified': 1,\n",
       " 'ok': 1.0,\n",
       " 'opTime': {'t': 2, 'ts': Timestamp(1505937642, 1)},\n",
       " 'updatedExisting': True}"
      ]
     },
     "metadata": {},
     "output_type": "display_data"
    },
    {
     "data": {
      "text/plain": [
       "{'electionId': ObjectId('7fffffff0000000000000002'),\n",
       " 'n': 1,\n",
       " 'nModified': 1,\n",
       " 'ok': 1.0,\n",
       " 'opTime': {'t': 2, 'ts': Timestamp(1505937643, 1)},\n",
       " 'updatedExisting': True}"
      ]
     },
     "metadata": {},
     "output_type": "display_data"
    },
    {
     "data": {
      "text/plain": [
       "{'electionId': ObjectId('7fffffff0000000000000002'),\n",
       " 'n': 1,\n",
       " 'nModified': 1,\n",
       " 'ok': 1.0,\n",
       " 'opTime': {'t': 2, 'ts': Timestamp(1505937644, 1)},\n",
       " 'updatedExisting': True}"
      ]
     },
     "metadata": {},
     "output_type": "display_data"
    },
    {
     "data": {
      "text/plain": [
       "{'electionId': ObjectId('7fffffff0000000000000002'),\n",
       " 'n': 1,\n",
       " 'nModified': 1,\n",
       " 'ok': 1.0,\n",
       " 'opTime': {'t': 2, 'ts': Timestamp(1505937646, 1)},\n",
       " 'updatedExisting': True}"
      ]
     },
     "metadata": {},
     "output_type": "display_data"
    },
    {
     "data": {
      "text/plain": [
       "{'electionId': ObjectId('7fffffff0000000000000002'),\n",
       " 'n': 1,\n",
       " 'nModified': 1,\n",
       " 'ok': 1.0,\n",
       " 'opTime': {'t': 2, 'ts': Timestamp(1505937647, 1)},\n",
       " 'updatedExisting': True}"
      ]
     },
     "metadata": {},
     "output_type": "display_data"
    },
    {
     "data": {
      "text/plain": [
       "{'electionId': ObjectId('7fffffff0000000000000002'),\n",
       " 'n': 1,\n",
       " 'nModified': 1,\n",
       " 'ok': 1.0,\n",
       " 'opTime': {'t': 2, 'ts': Timestamp(1505937649, 1)},\n",
       " 'updatedExisting': True}"
      ]
     },
     "metadata": {},
     "output_type": "display_data"
    },
    {
     "data": {
      "text/plain": [
       "{'electionId': ObjectId('7fffffff0000000000000002'),\n",
       " 'n': 1,\n",
       " 'nModified': 1,\n",
       " 'ok': 1.0,\n",
       " 'opTime': {'t': 2, 'ts': Timestamp(1505937650, 1)},\n",
       " 'updatedExisting': True}"
      ]
     },
     "metadata": {},
     "output_type": "display_data"
    },
    {
     "data": {
      "text/plain": [
       "{'electionId': ObjectId('7fffffff0000000000000002'),\n",
       " 'n': 1,\n",
       " 'nModified': 1,\n",
       " 'ok': 1.0,\n",
       " 'opTime': {'t': 2, 'ts': Timestamp(1505937651, 1)},\n",
       " 'updatedExisting': True}"
      ]
     },
     "metadata": {},
     "output_type": "display_data"
    },
    {
     "data": {
      "text/plain": [
       "{'electionId': ObjectId('7fffffff0000000000000002'),\n",
       " 'n': 1,\n",
       " 'nModified': 1,\n",
       " 'ok': 1.0,\n",
       " 'opTime': {'t': 2, 'ts': Timestamp(1505937652, 1)},\n",
       " 'updatedExisting': True}"
      ]
     },
     "metadata": {},
     "output_type": "display_data"
    },
    {
     "data": {
      "text/plain": [
       "{'electionId': ObjectId('7fffffff0000000000000002'),\n",
       " 'n': 1,\n",
       " 'nModified': 1,\n",
       " 'ok': 1.0,\n",
       " 'opTime': {'t': 2, 'ts': Timestamp(1505937654, 1)},\n",
       " 'updatedExisting': True}"
      ]
     },
     "metadata": {},
     "output_type": "display_data"
    },
    {
     "data": {
      "text/plain": [
       "{'electionId': ObjectId('7fffffff0000000000000002'),\n",
       " 'n': 1,\n",
       " 'nModified': 1,\n",
       " 'ok': 1.0,\n",
       " 'opTime': {'t': 2, 'ts': Timestamp(1505937655, 1)},\n",
       " 'updatedExisting': True}"
      ]
     },
     "metadata": {},
     "output_type": "display_data"
    },
    {
     "data": {
      "text/plain": [
       "{'electionId': ObjectId('7fffffff0000000000000002'),\n",
       " 'n': 1,\n",
       " 'nModified': 1,\n",
       " 'ok': 1.0,\n",
       " 'opTime': {'t': 2, 'ts': Timestamp(1505937656, 1)},\n",
       " 'updatedExisting': True}"
      ]
     },
     "metadata": {},
     "output_type": "display_data"
    },
    {
     "data": {
      "text/plain": [
       "{'electionId': ObjectId('7fffffff0000000000000002'),\n",
       " 'n': 1,\n",
       " 'nModified': 1,\n",
       " 'ok': 1.0,\n",
       " 'opTime': {'t': 2, 'ts': Timestamp(1505937657, 1)},\n",
       " 'updatedExisting': True}"
      ]
     },
     "metadata": {},
     "output_type": "display_data"
    },
    {
     "data": {
      "text/plain": [
       "{'electionId': ObjectId('7fffffff0000000000000002'),\n",
       " 'n': 1,\n",
       " 'nModified': 1,\n",
       " 'ok': 1.0,\n",
       " 'opTime': {'t': 2, 'ts': Timestamp(1505937657, 2)},\n",
       " 'updatedExisting': True}"
      ]
     },
     "metadata": {},
     "output_type": "display_data"
    },
    {
     "data": {
      "text/plain": [
       "{'electionId': ObjectId('7fffffff0000000000000002'),\n",
       " 'n': 1,\n",
       " 'nModified': 1,\n",
       " 'ok': 1.0,\n",
       " 'opTime': {'t': 2, 'ts': Timestamp(1505937658, 1)},\n",
       " 'updatedExisting': True}"
      ]
     },
     "metadata": {},
     "output_type": "display_data"
    },
    {
     "data": {
      "text/plain": [
       "{'electionId': ObjectId('7fffffff0000000000000002'),\n",
       " 'n': 1,\n",
       " 'nModified': 1,\n",
       " 'ok': 1.0,\n",
       " 'opTime': {'t': 2, 'ts': Timestamp(1505937659, 1)},\n",
       " 'updatedExisting': True}"
      ]
     },
     "metadata": {},
     "output_type": "display_data"
    },
    {
     "data": {
      "text/plain": [
       "{'electionId': ObjectId('7fffffff0000000000000002'),\n",
       " 'n': 1,\n",
       " 'nModified': 1,\n",
       " 'ok': 1.0,\n",
       " 'opTime': {'t': 2, 'ts': Timestamp(1505937660, 1)},\n",
       " 'updatedExisting': True}"
      ]
     },
     "metadata": {},
     "output_type": "display_data"
    },
    {
     "data": {
      "text/plain": [
       "{'electionId': ObjectId('7fffffff0000000000000002'),\n",
       " 'n': 1,\n",
       " 'nModified': 1,\n",
       " 'ok': 1.0,\n",
       " 'opTime': {'t': 2, 'ts': Timestamp(1505937661, 1)},\n",
       " 'updatedExisting': True}"
      ]
     },
     "metadata": {},
     "output_type": "display_data"
    },
    {
     "data": {
      "text/plain": [
       "{'electionId': ObjectId('7fffffff0000000000000002'),\n",
       " 'n': 1,\n",
       " 'nModified': 1,\n",
       " 'ok': 1.0,\n",
       " 'opTime': {'t': 2, 'ts': Timestamp(1505937662, 1)},\n",
       " 'updatedExisting': True}"
      ]
     },
     "metadata": {},
     "output_type": "display_data"
    },
    {
     "data": {
      "text/plain": [
       "{'electionId': ObjectId('7fffffff0000000000000002'),\n",
       " 'n': 1,\n",
       " 'nModified': 1,\n",
       " 'ok': 1.0,\n",
       " 'opTime': {'t': 2, 'ts': Timestamp(1505937662, 2)},\n",
       " 'updatedExisting': True}"
      ]
     },
     "metadata": {},
     "output_type": "display_data"
    },
    {
     "data": {
      "text/plain": [
       "{'electionId': ObjectId('7fffffff0000000000000002'),\n",
       " 'n': 1,\n",
       " 'nModified': 1,\n",
       " 'ok': 1.0,\n",
       " 'opTime': {'t': 2, 'ts': Timestamp(1505937663, 1)},\n",
       " 'updatedExisting': True}"
      ]
     },
     "metadata": {},
     "output_type": "display_data"
    },
    {
     "data": {
      "text/plain": [
       "{'electionId': ObjectId('7fffffff0000000000000002'),\n",
       " 'n': 1,\n",
       " 'nModified': 1,\n",
       " 'ok': 1.0,\n",
       " 'opTime': {'t': 2, 'ts': Timestamp(1505937664, 1)},\n",
       " 'updatedExisting': True}"
      ]
     },
     "metadata": {},
     "output_type": "display_data"
    },
    {
     "data": {
      "text/plain": [
       "{'electionId': ObjectId('7fffffff0000000000000002'),\n",
       " 'n': 1,\n",
       " 'nModified': 1,\n",
       " 'ok': 1.0,\n",
       " 'opTime': {'t': 2, 'ts': Timestamp(1505937664, 2)},\n",
       " 'updatedExisting': True}"
      ]
     },
     "metadata": {},
     "output_type": "display_data"
    },
    {
     "data": {
      "text/plain": [
       "{'electionId': ObjectId('7fffffff0000000000000002'),\n",
       " 'n': 1,\n",
       " 'nModified': 1,\n",
       " 'ok': 1.0,\n",
       " 'opTime': {'t': 2, 'ts': Timestamp(1505937665, 1)},\n",
       " 'updatedExisting': True}"
      ]
     },
     "metadata": {},
     "output_type": "display_data"
    },
    {
     "data": {
      "text/plain": [
       "{'electionId': ObjectId('7fffffff0000000000000002'),\n",
       " 'n': 1,\n",
       " 'nModified': 1,\n",
       " 'ok': 1.0,\n",
       " 'opTime': {'t': 2, 'ts': Timestamp(1505937666, 1)},\n",
       " 'updatedExisting': True}"
      ]
     },
     "metadata": {},
     "output_type": "display_data"
    },
    {
     "data": {
      "text/plain": [
       "{'electionId': ObjectId('7fffffff0000000000000002'),\n",
       " 'n': 1,\n",
       " 'nModified': 1,\n",
       " 'ok': 1.0,\n",
       " 'opTime': {'t': 2, 'ts': Timestamp(1505937667, 1)},\n",
       " 'updatedExisting': True}"
      ]
     },
     "metadata": {},
     "output_type": "display_data"
    },
    {
     "data": {
      "text/plain": [
       "{'electionId': ObjectId('7fffffff0000000000000002'),\n",
       " 'n': 1,\n",
       " 'nModified': 1,\n",
       " 'ok': 1.0,\n",
       " 'opTime': {'t': 2, 'ts': Timestamp(1505937667, 2)},\n",
       " 'updatedExisting': True}"
      ]
     },
     "metadata": {},
     "output_type": "display_data"
    },
    {
     "data": {
      "text/plain": [
       "{'electionId': ObjectId('7fffffff0000000000000002'),\n",
       " 'n': 1,\n",
       " 'nModified': 1,\n",
       " 'ok': 1.0,\n",
       " 'opTime': {'t': 2, 'ts': Timestamp(1505937668, 1)},\n",
       " 'updatedExisting': True}"
      ]
     },
     "metadata": {},
     "output_type": "display_data"
    },
    {
     "data": {
      "text/plain": [
       "{'electionId': ObjectId('7fffffff0000000000000002'),\n",
       " 'n': 1,\n",
       " 'nModified': 1,\n",
       " 'ok': 1.0,\n",
       " 'opTime': {'t': 2, 'ts': Timestamp(1505937669, 1)},\n",
       " 'updatedExisting': True}"
      ]
     },
     "metadata": {},
     "output_type": "display_data"
    },
    {
     "data": {
      "text/plain": [
       "{'electionId': ObjectId('7fffffff0000000000000002'),\n",
       " 'n': 1,\n",
       " 'nModified': 1,\n",
       " 'ok': 1.0,\n",
       " 'opTime': {'t': 2, 'ts': Timestamp(1505937669, 2)},\n",
       " 'updatedExisting': True}"
      ]
     },
     "metadata": {},
     "output_type": "display_data"
    },
    {
     "data": {
      "text/plain": [
       "{'electionId': ObjectId('7fffffff0000000000000002'),\n",
       " 'n': 1,\n",
       " 'nModified': 1,\n",
       " 'ok': 1.0,\n",
       " 'opTime': {'t': 2, 'ts': Timestamp(1505937671, 1)},\n",
       " 'updatedExisting': True}"
      ]
     },
     "metadata": {},
     "output_type": "display_data"
    },
    {
     "data": {
      "text/plain": [
       "{'electionId': ObjectId('7fffffff0000000000000002'),\n",
       " 'n': 1,\n",
       " 'nModified': 1,\n",
       " 'ok': 1.0,\n",
       " 'opTime': {'t': 2, 'ts': Timestamp(1505937671, 2)},\n",
       " 'updatedExisting': True}"
      ]
     },
     "metadata": {},
     "output_type": "display_data"
    },
    {
     "data": {
      "text/plain": [
       "{'electionId': ObjectId('7fffffff0000000000000002'),\n",
       " 'n': 1,\n",
       " 'nModified': 1,\n",
       " 'ok': 1.0,\n",
       " 'opTime': {'t': 2, 'ts': Timestamp(1505937672, 1)},\n",
       " 'updatedExisting': True}"
      ]
     },
     "metadata": {},
     "output_type": "display_data"
    },
    {
     "data": {
      "text/plain": [
       "{'electionId': ObjectId('7fffffff0000000000000002'),\n",
       " 'n': 1,\n",
       " 'nModified': 1,\n",
       " 'ok': 1.0,\n",
       " 'opTime': {'t': 2, 'ts': Timestamp(1505937673, 1)},\n",
       " 'updatedExisting': True}"
      ]
     },
     "metadata": {},
     "output_type": "display_data"
    },
    {
     "data": {
      "text/plain": [
       "{'electionId': ObjectId('7fffffff0000000000000002'),\n",
       " 'n': 1,\n",
       " 'nModified': 1,\n",
       " 'ok': 1.0,\n",
       " 'opTime': {'t': 2, 'ts': Timestamp(1505937673, 2)},\n",
       " 'updatedExisting': True}"
      ]
     },
     "metadata": {},
     "output_type": "display_data"
    },
    {
     "data": {
      "text/plain": [
       "{'electionId': ObjectId('7fffffff0000000000000002'),\n",
       " 'n': 1,\n",
       " 'nModified': 1,\n",
       " 'ok': 1.0,\n",
       " 'opTime': {'t': 2, 'ts': Timestamp(1505937674, 1)},\n",
       " 'updatedExisting': True}"
      ]
     },
     "metadata": {},
     "output_type": "display_data"
    },
    {
     "data": {
      "text/plain": [
       "{'electionId': ObjectId('7fffffff0000000000000002'),\n",
       " 'n': 1,\n",
       " 'nModified': 1,\n",
       " 'ok': 1.0,\n",
       " 'opTime': {'t': 2, 'ts': Timestamp(1505937674, 2)},\n",
       " 'updatedExisting': True}"
      ]
     },
     "metadata": {},
     "output_type": "display_data"
    },
    {
     "data": {
      "text/plain": [
       "{'electionId': ObjectId('7fffffff0000000000000002'),\n",
       " 'n': 1,\n",
       " 'nModified': 1,\n",
       " 'ok': 1.0,\n",
       " 'opTime': {'t': 2, 'ts': Timestamp(1505937675, 1)},\n",
       " 'updatedExisting': True}"
      ]
     },
     "metadata": {},
     "output_type": "display_data"
    },
    {
     "data": {
      "text/plain": [
       "{'electionId': ObjectId('7fffffff0000000000000002'),\n",
       " 'n': 1,\n",
       " 'nModified': 1,\n",
       " 'ok': 1.0,\n",
       " 'opTime': {'t': 2, 'ts': Timestamp(1505937677, 1)},\n",
       " 'updatedExisting': True}"
      ]
     },
     "metadata": {},
     "output_type": "display_data"
    },
    {
     "data": {
      "text/plain": [
       "{'electionId': ObjectId('7fffffff0000000000000002'),\n",
       " 'n': 1,\n",
       " 'nModified': 1,\n",
       " 'ok': 1.0,\n",
       " 'opTime': {'t': 2, 'ts': Timestamp(1505937678, 1)},\n",
       " 'updatedExisting': True}"
      ]
     },
     "metadata": {},
     "output_type": "display_data"
    },
    {
     "data": {
      "text/plain": [
       "{'electionId': ObjectId('7fffffff0000000000000002'),\n",
       " 'n': 1,\n",
       " 'nModified': 1,\n",
       " 'ok': 1.0,\n",
       " 'opTime': {'t': 2, 'ts': Timestamp(1505937678, 2)},\n",
       " 'updatedExisting': True}"
      ]
     },
     "metadata": {},
     "output_type": "display_data"
    },
    {
     "data": {
      "text/plain": [
       "{'electionId': ObjectId('7fffffff0000000000000002'),\n",
       " 'n': 1,\n",
       " 'nModified': 1,\n",
       " 'ok': 1.0,\n",
       " 'opTime': {'t': 2, 'ts': Timestamp(1505937679, 1)},\n",
       " 'updatedExisting': True}"
      ]
     },
     "metadata": {},
     "output_type": "display_data"
    },
    {
     "data": {
      "text/plain": [
       "{'electionId': ObjectId('7fffffff0000000000000002'),\n",
       " 'n': 1,\n",
       " 'nModified': 1,\n",
       " 'ok': 1.0,\n",
       " 'opTime': {'t': 2, 'ts': Timestamp(1505937679, 2)},\n",
       " 'updatedExisting': True}"
      ]
     },
     "metadata": {},
     "output_type": "display_data"
    },
    {
     "data": {
      "text/plain": [
       "{'electionId': ObjectId('7fffffff0000000000000002'),\n",
       " 'n': 1,\n",
       " 'nModified': 1,\n",
       " 'ok': 1.0,\n",
       " 'opTime': {'t': 2, 'ts': Timestamp(1505937680, 1)},\n",
       " 'updatedExisting': True}"
      ]
     },
     "metadata": {},
     "output_type": "display_data"
    },
    {
     "data": {
      "text/plain": [
       "{'electionId': ObjectId('7fffffff0000000000000002'),\n",
       " 'n': 1,\n",
       " 'nModified': 1,\n",
       " 'ok': 1.0,\n",
       " 'opTime': {'t': 2, 'ts': Timestamp(1505937681, 1)},\n",
       " 'updatedExisting': True}"
      ]
     },
     "metadata": {},
     "output_type": "display_data"
    },
    {
     "data": {
      "text/plain": [
       "{'electionId': ObjectId('7fffffff0000000000000002'),\n",
       " 'n': 1,\n",
       " 'nModified': 1,\n",
       " 'ok': 1.0,\n",
       " 'opTime': {'t': 2, 'ts': Timestamp(1505937681, 2)},\n",
       " 'updatedExisting': True}"
      ]
     },
     "metadata": {},
     "output_type": "display_data"
    },
    {
     "data": {
      "text/plain": [
       "{'electionId': ObjectId('7fffffff0000000000000002'),\n",
       " 'n': 1,\n",
       " 'nModified': 1,\n",
       " 'ok': 1.0,\n",
       " 'opTime': {'t': 2, 'ts': Timestamp(1505937682, 1)},\n",
       " 'updatedExisting': True}"
      ]
     },
     "metadata": {},
     "output_type": "display_data"
    },
    {
     "data": {
      "text/plain": [
       "{'electionId': ObjectId('7fffffff0000000000000002'),\n",
       " 'n': 1,\n",
       " 'nModified': 1,\n",
       " 'ok': 1.0,\n",
       " 'opTime': {'t': 2, 'ts': Timestamp(1505937682, 2)},\n",
       " 'updatedExisting': True}"
      ]
     },
     "metadata": {},
     "output_type": "display_data"
    },
    {
     "data": {
      "text/plain": [
       "{'electionId': ObjectId('7fffffff0000000000000002'),\n",
       " 'n': 1,\n",
       " 'nModified': 1,\n",
       " 'ok': 1.0,\n",
       " 'opTime': {'t': 2, 'ts': Timestamp(1505937683, 1)},\n",
       " 'updatedExisting': True}"
      ]
     },
     "metadata": {},
     "output_type": "display_data"
    },
    {
     "data": {
      "text/plain": [
       "{'electionId': ObjectId('7fffffff0000000000000002'),\n",
       " 'n': 1,\n",
       " 'nModified': 1,\n",
       " 'ok': 1.0,\n",
       " 'opTime': {'t': 2, 'ts': Timestamp(1505937683, 2)},\n",
       " 'updatedExisting': True}"
      ]
     },
     "metadata": {},
     "output_type": "display_data"
    },
    {
     "data": {
      "text/plain": [
       "{'electionId': ObjectId('7fffffff0000000000000002'),\n",
       " 'n': 1,\n",
       " 'nModified': 1,\n",
       " 'ok': 1.0,\n",
       " 'opTime': {'t': 2, 'ts': Timestamp(1505937684, 1)},\n",
       " 'updatedExisting': True}"
      ]
     },
     "metadata": {},
     "output_type": "display_data"
    },
    {
     "data": {
      "text/plain": [
       "{'electionId': ObjectId('7fffffff0000000000000002'),\n",
       " 'n': 1,\n",
       " 'nModified': 1,\n",
       " 'ok': 1.0,\n",
       " 'opTime': {'t': 2, 'ts': Timestamp(1505937684, 2)},\n",
       " 'updatedExisting': True}"
      ]
     },
     "metadata": {},
     "output_type": "display_data"
    },
    {
     "data": {
      "text/plain": [
       "{'electionId': ObjectId('7fffffff0000000000000002'),\n",
       " 'n': 1,\n",
       " 'nModified': 1,\n",
       " 'ok': 1.0,\n",
       " 'opTime': {'t': 2, 'ts': Timestamp(1505937685, 1)},\n",
       " 'updatedExisting': True}"
      ]
     },
     "metadata": {},
     "output_type": "display_data"
    },
    {
     "data": {
      "text/plain": [
       "{'electionId': ObjectId('7fffffff0000000000000002'),\n",
       " 'n': 1,\n",
       " 'nModified': 1,\n",
       " 'ok': 1.0,\n",
       " 'opTime': {'t': 2, 'ts': Timestamp(1505937685, 2)},\n",
       " 'updatedExisting': True}"
      ]
     },
     "metadata": {},
     "output_type": "display_data"
    },
    {
     "data": {
      "text/plain": [
       "{'electionId': ObjectId('7fffffff0000000000000002'),\n",
       " 'n': 1,\n",
       " 'nModified': 1,\n",
       " 'ok': 1.0,\n",
       " 'opTime': {'t': 2, 'ts': Timestamp(1505937686, 1)},\n",
       " 'updatedExisting': True}"
      ]
     },
     "metadata": {},
     "output_type": "display_data"
    },
    {
     "data": {
      "text/plain": [
       "{'electionId': ObjectId('7fffffff0000000000000002'),\n",
       " 'n': 1,\n",
       " 'nModified': 1,\n",
       " 'ok': 1.0,\n",
       " 'opTime': {'t': 2, 'ts': Timestamp(1505937687, 1)},\n",
       " 'updatedExisting': True}"
      ]
     },
     "metadata": {},
     "output_type": "display_data"
    },
    {
     "data": {
      "text/plain": [
       "{'electionId': ObjectId('7fffffff0000000000000002'),\n",
       " 'n': 1,\n",
       " 'nModified': 1,\n",
       " 'ok': 1.0,\n",
       " 'opTime': {'t': 2, 'ts': Timestamp(1505937687, 2)},\n",
       " 'updatedExisting': True}"
      ]
     },
     "metadata": {},
     "output_type": "display_data"
    },
    {
     "data": {
      "text/plain": [
       "{'electionId': ObjectId('7fffffff0000000000000002'),\n",
       " 'n': 1,\n",
       " 'nModified': 1,\n",
       " 'ok': 1.0,\n",
       " 'opTime': {'t': 2, 'ts': Timestamp(1505937687, 3)},\n",
       " 'updatedExisting': True}"
      ]
     },
     "metadata": {},
     "output_type": "display_data"
    },
    {
     "data": {
      "text/plain": [
       "{'electionId': ObjectId('7fffffff0000000000000002'),\n",
       " 'n': 1,\n",
       " 'nModified': 1,\n",
       " 'ok': 1.0,\n",
       " 'opTime': {'t': 2, 'ts': Timestamp(1505937688, 1)},\n",
       " 'updatedExisting': True}"
      ]
     },
     "metadata": {},
     "output_type": "display_data"
    },
    {
     "data": {
      "text/plain": [
       "{'electionId': ObjectId('7fffffff0000000000000002'),\n",
       " 'n': 1,\n",
       " 'nModified': 1,\n",
       " 'ok': 1.0,\n",
       " 'opTime': {'t': 2, 'ts': Timestamp(1505937688, 2)},\n",
       " 'updatedExisting': True}"
      ]
     },
     "metadata": {},
     "output_type": "display_data"
    },
    {
     "data": {
      "text/plain": [
       "{'electionId': ObjectId('7fffffff0000000000000002'),\n",
       " 'n': 1,\n",
       " 'nModified': 1,\n",
       " 'ok': 1.0,\n",
       " 'opTime': {'t': 2, 'ts': Timestamp(1505937689, 1)},\n",
       " 'updatedExisting': True}"
      ]
     },
     "metadata": {},
     "output_type": "display_data"
    },
    {
     "data": {
      "text/plain": [
       "{'electionId': ObjectId('7fffffff0000000000000002'),\n",
       " 'n': 1,\n",
       " 'nModified': 1,\n",
       " 'ok': 1.0,\n",
       " 'opTime': {'t': 2, 'ts': Timestamp(1505937690, 1)},\n",
       " 'updatedExisting': True}"
      ]
     },
     "metadata": {},
     "output_type": "display_data"
    },
    {
     "data": {
      "text/plain": [
       "{'electionId': ObjectId('7fffffff0000000000000002'),\n",
       " 'n': 1,\n",
       " 'nModified': 1,\n",
       " 'ok': 1.0,\n",
       " 'opTime': {'t': 2, 'ts': Timestamp(1505937690, 2)},\n",
       " 'updatedExisting': True}"
      ]
     },
     "metadata": {},
     "output_type": "display_data"
    },
    {
     "data": {
      "text/plain": [
       "{'electionId': ObjectId('7fffffff0000000000000002'),\n",
       " 'n': 1,\n",
       " 'nModified': 1,\n",
       " 'ok': 1.0,\n",
       " 'opTime': {'t': 2, 'ts': Timestamp(1505937690, 3)},\n",
       " 'updatedExisting': True}"
      ]
     },
     "metadata": {},
     "output_type": "display_data"
    },
    {
     "data": {
      "text/plain": [
       "{'electionId': ObjectId('7fffffff0000000000000002'),\n",
       " 'n': 1,\n",
       " 'nModified': 1,\n",
       " 'ok': 1.0,\n",
       " 'opTime': {'t': 2, 'ts': Timestamp(1505937691, 1)},\n",
       " 'updatedExisting': True}"
      ]
     },
     "metadata": {},
     "output_type": "display_data"
    },
    {
     "data": {
      "text/plain": [
       "{'electionId': ObjectId('7fffffff0000000000000002'),\n",
       " 'n': 1,\n",
       " 'nModified': 1,\n",
       " 'ok': 1.0,\n",
       " 'opTime': {'t': 2, 'ts': Timestamp(1505937691, 2)},\n",
       " 'updatedExisting': True}"
      ]
     },
     "metadata": {},
     "output_type": "display_data"
    },
    {
     "data": {
      "text/plain": [
       "{'electionId': ObjectId('7fffffff0000000000000002'),\n",
       " 'n': 1,\n",
       " 'nModified': 1,\n",
       " 'ok': 1.0,\n",
       " 'opTime': {'t': 2, 'ts': Timestamp(1505937691, 3)},\n",
       " 'updatedExisting': True}"
      ]
     },
     "metadata": {},
     "output_type": "display_data"
    },
    {
     "data": {
      "text/plain": [
       "{'electionId': ObjectId('7fffffff0000000000000002'),\n",
       " 'n': 1,\n",
       " 'nModified': 1,\n",
       " 'ok': 1.0,\n",
       " 'opTime': {'t': 2, 'ts': Timestamp(1505937691, 4)},\n",
       " 'updatedExisting': True}"
      ]
     },
     "metadata": {},
     "output_type": "display_data"
    },
    {
     "data": {
      "text/plain": [
       "{'electionId': ObjectId('7fffffff0000000000000002'),\n",
       " 'n': 1,\n",
       " 'nModified': 1,\n",
       " 'ok': 1.0,\n",
       " 'opTime': {'t': 2, 'ts': Timestamp(1505937694, 1)},\n",
       " 'updatedExisting': True}"
      ]
     },
     "metadata": {},
     "output_type": "display_data"
    },
    {
     "data": {
      "text/plain": [
       "{'electionId': ObjectId('7fffffff0000000000000002'),\n",
       " 'n': 1,\n",
       " 'nModified': 1,\n",
       " 'ok': 1.0,\n",
       " 'opTime': {'t': 2, 'ts': Timestamp(1505937695, 1)},\n",
       " 'updatedExisting': True}"
      ]
     },
     "metadata": {},
     "output_type": "display_data"
    },
    {
     "data": {
      "text/plain": [
       "{'electionId': ObjectId('7fffffff0000000000000002'),\n",
       " 'n': 1,\n",
       " 'nModified': 1,\n",
       " 'ok': 1.0,\n",
       " 'opTime': {'t': 2, 'ts': Timestamp(1505937695, 2)},\n",
       " 'updatedExisting': True}"
      ]
     },
     "metadata": {},
     "output_type": "display_data"
    },
    {
     "data": {
      "text/plain": [
       "{'electionId': ObjectId('7fffffff0000000000000002'),\n",
       " 'n': 1,\n",
       " 'nModified': 1,\n",
       " 'ok': 1.0,\n",
       " 'opTime': {'t': 2, 'ts': Timestamp(1505937696, 1)},\n",
       " 'updatedExisting': True}"
      ]
     },
     "metadata": {},
     "output_type": "display_data"
    },
    {
     "data": {
      "text/plain": [
       "{'electionId': ObjectId('7fffffff0000000000000002'),\n",
       " 'n': 1,\n",
       " 'nModified': 1,\n",
       " 'ok': 1.0,\n",
       " 'opTime': {'t': 2, 'ts': Timestamp(1505937697, 1)},\n",
       " 'updatedExisting': True}"
      ]
     },
     "metadata": {},
     "output_type": "display_data"
    },
    {
     "data": {
      "text/plain": [
       "{'electionId': ObjectId('7fffffff0000000000000002'),\n",
       " 'n': 1,\n",
       " 'nModified': 1,\n",
       " 'ok': 1.0,\n",
       " 'opTime': {'t': 2, 'ts': Timestamp(1505937697, 2)},\n",
       " 'updatedExisting': True}"
      ]
     },
     "metadata": {},
     "output_type": "display_data"
    },
    {
     "data": {
      "text/plain": [
       "{'electionId': ObjectId('7fffffff0000000000000002'),\n",
       " 'n': 1,\n",
       " 'nModified': 1,\n",
       " 'ok': 1.0,\n",
       " 'opTime': {'t': 2, 'ts': Timestamp(1505937698, 1)},\n",
       " 'updatedExisting': True}"
      ]
     },
     "metadata": {},
     "output_type": "display_data"
    },
    {
     "data": {
      "text/plain": [
       "{'electionId': ObjectId('7fffffff0000000000000002'),\n",
       " 'n': 1,\n",
       " 'nModified': 1,\n",
       " 'ok': 1.0,\n",
       " 'opTime': {'t': 2, 'ts': Timestamp(1505937699, 1)},\n",
       " 'updatedExisting': True}"
      ]
     },
     "metadata": {},
     "output_type": "display_data"
    },
    {
     "data": {
      "text/plain": [
       "{'electionId': ObjectId('7fffffff0000000000000002'),\n",
       " 'n': 1,\n",
       " 'nModified': 1,\n",
       " 'ok': 1.0,\n",
       " 'opTime': {'t': 2, 'ts': Timestamp(1505937699, 2)},\n",
       " 'updatedExisting': True}"
      ]
     },
     "metadata": {},
     "output_type": "display_data"
    },
    {
     "data": {
      "text/plain": [
       "{'electionId': ObjectId('7fffffff0000000000000002'),\n",
       " 'n': 1,\n",
       " 'nModified': 1,\n",
       " 'ok': 1.0,\n",
       " 'opTime': {'t': 2, 'ts': Timestamp(1505937700, 1)},\n",
       " 'updatedExisting': True}"
      ]
     },
     "metadata": {},
     "output_type": "display_data"
    },
    {
     "data": {
      "text/plain": [
       "{'electionId': ObjectId('7fffffff0000000000000002'),\n",
       " 'n': 1,\n",
       " 'nModified': 1,\n",
       " 'ok': 1.0,\n",
       " 'opTime': {'t': 2, 'ts': Timestamp(1505937701, 1)},\n",
       " 'updatedExisting': True}"
      ]
     },
     "metadata": {},
     "output_type": "display_data"
    },
    {
     "data": {
      "text/plain": [
       "{'electionId': ObjectId('7fffffff0000000000000002'),\n",
       " 'n': 1,\n",
       " 'nModified': 1,\n",
       " 'ok': 1.0,\n",
       " 'opTime': {'t': 2, 'ts': Timestamp(1505937702, 1)},\n",
       " 'updatedExisting': True}"
      ]
     },
     "metadata": {},
     "output_type": "display_data"
    },
    {
     "data": {
      "text/plain": [
       "{'electionId': ObjectId('7fffffff0000000000000002'),\n",
       " 'n': 1,\n",
       " 'nModified': 1,\n",
       " 'ok': 1.0,\n",
       " 'opTime': {'t': 2, 'ts': Timestamp(1505937703, 1)},\n",
       " 'updatedExisting': True}"
      ]
     },
     "metadata": {},
     "output_type": "display_data"
    },
    {
     "data": {
      "text/plain": [
       "{'electionId': ObjectId('7fffffff0000000000000002'),\n",
       " 'n': 1,\n",
       " 'nModified': 1,\n",
       " 'ok': 1.0,\n",
       " 'opTime': {'t': 2, 'ts': Timestamp(1505937704, 1)},\n",
       " 'updatedExisting': True}"
      ]
     },
     "metadata": {},
     "output_type": "display_data"
    },
    {
     "data": {
      "text/plain": [
       "{'electionId': ObjectId('7fffffff0000000000000002'),\n",
       " 'n': 1,\n",
       " 'nModified': 1,\n",
       " 'ok': 1.0,\n",
       " 'opTime': {'t': 2, 'ts': Timestamp(1505937704, 2)},\n",
       " 'updatedExisting': True}"
      ]
     },
     "metadata": {},
     "output_type": "display_data"
    },
    {
     "data": {
      "text/plain": [
       "{'electionId': ObjectId('7fffffff0000000000000002'),\n",
       " 'n': 1,\n",
       " 'nModified': 1,\n",
       " 'ok': 1.0,\n",
       " 'opTime': {'t': 2, 'ts': Timestamp(1505937705, 1)},\n",
       " 'updatedExisting': True}"
      ]
     },
     "metadata": {},
     "output_type": "display_data"
    },
    {
     "data": {
      "text/plain": [
       "{'electionId': ObjectId('7fffffff0000000000000002'),\n",
       " 'n': 1,\n",
       " 'nModified': 1,\n",
       " 'ok': 1.0,\n",
       " 'opTime': {'t': 2, 'ts': Timestamp(1505937705, 2)},\n",
       " 'updatedExisting': True}"
      ]
     },
     "metadata": {},
     "output_type": "display_data"
    },
    {
     "data": {
      "text/plain": [
       "{'electionId': ObjectId('7fffffff0000000000000002'),\n",
       " 'n': 1,\n",
       " 'nModified': 1,\n",
       " 'ok': 1.0,\n",
       " 'opTime': {'t': 2, 'ts': Timestamp(1505937706, 1)},\n",
       " 'updatedExisting': True}"
      ]
     },
     "metadata": {},
     "output_type": "display_data"
    },
    {
     "data": {
      "text/plain": [
       "{'electionId': ObjectId('7fffffff0000000000000002'),\n",
       " 'n': 1,\n",
       " 'nModified': 1,\n",
       " 'ok': 1.0,\n",
       " 'opTime': {'t': 2, 'ts': Timestamp(1505937706, 2)},\n",
       " 'updatedExisting': True}"
      ]
     },
     "metadata": {},
     "output_type": "display_data"
    },
    {
     "data": {
      "text/plain": [
       "{'electionId': ObjectId('7fffffff0000000000000002'),\n",
       " 'n': 1,\n",
       " 'nModified': 1,\n",
       " 'ok': 1.0,\n",
       " 'opTime': {'t': 2, 'ts': Timestamp(1505937707, 1)},\n",
       " 'updatedExisting': True}"
      ]
     },
     "metadata": {},
     "output_type": "display_data"
    },
    {
     "data": {
      "text/plain": [
       "{'electionId': ObjectId('7fffffff0000000000000002'),\n",
       " 'n': 1,\n",
       " 'nModified': 1,\n",
       " 'ok': 1.0,\n",
       " 'opTime': {'t': 2, 'ts': Timestamp(1505937707, 2)},\n",
       " 'updatedExisting': True}"
      ]
     },
     "metadata": {},
     "output_type": "display_data"
    },
    {
     "data": {
      "text/plain": [
       "{'electionId': ObjectId('7fffffff0000000000000002'),\n",
       " 'n': 1,\n",
       " 'nModified': 1,\n",
       " 'ok': 1.0,\n",
       " 'opTime': {'t': 2, 'ts': Timestamp(1505937707, 3)},\n",
       " 'updatedExisting': True}"
      ]
     },
     "metadata": {},
     "output_type": "display_data"
    },
    {
     "data": {
      "text/plain": [
       "{'electionId': ObjectId('7fffffff0000000000000002'),\n",
       " 'n': 1,\n",
       " 'nModified': 1,\n",
       " 'ok': 1.0,\n",
       " 'opTime': {'t': 2, 'ts': Timestamp(1505937708, 1)},\n",
       " 'updatedExisting': True}"
      ]
     },
     "metadata": {},
     "output_type": "display_data"
    },
    {
     "data": {
      "text/plain": [
       "{'electionId': ObjectId('7fffffff0000000000000002'),\n",
       " 'n': 1,\n",
       " 'nModified': 1,\n",
       " 'ok': 1.0,\n",
       " 'opTime': {'t': 2, 'ts': Timestamp(1505937708, 2)},\n",
       " 'updatedExisting': True}"
      ]
     },
     "metadata": {},
     "output_type": "display_data"
    },
    {
     "data": {
      "text/plain": [
       "{'electionId': ObjectId('7fffffff0000000000000002'),\n",
       " 'n': 1,\n",
       " 'nModified': 1,\n",
       " 'ok': 1.0,\n",
       " 'opTime': {'t': 2, 'ts': Timestamp(1505937709, 1)},\n",
       " 'updatedExisting': True}"
      ]
     },
     "metadata": {},
     "output_type": "display_data"
    },
    {
     "data": {
      "text/plain": [
       "{'electionId': ObjectId('7fffffff0000000000000002'),\n",
       " 'n': 1,\n",
       " 'nModified': 1,\n",
       " 'ok': 1.0,\n",
       " 'opTime': {'t': 2, 'ts': Timestamp(1505937709, 2)},\n",
       " 'updatedExisting': True}"
      ]
     },
     "metadata": {},
     "output_type": "display_data"
    },
    {
     "data": {
      "text/plain": [
       "{'electionId': ObjectId('7fffffff0000000000000002'),\n",
       " 'n': 1,\n",
       " 'nModified': 1,\n",
       " 'ok': 1.0,\n",
       " 'opTime': {'t': 2, 'ts': Timestamp(1505937710, 1)},\n",
       " 'updatedExisting': True}"
      ]
     },
     "metadata": {},
     "output_type": "display_data"
    },
    {
     "data": {
      "text/plain": [
       "{'electionId': ObjectId('7fffffff0000000000000002'),\n",
       " 'n': 1,\n",
       " 'nModified': 1,\n",
       " 'ok': 1.0,\n",
       " 'opTime': {'t': 2, 'ts': Timestamp(1505937711, 1)},\n",
       " 'updatedExisting': True}"
      ]
     },
     "metadata": {},
     "output_type": "display_data"
    },
    {
     "data": {
      "text/plain": [
       "{'electionId': ObjectId('7fffffff0000000000000002'),\n",
       " 'n': 1,\n",
       " 'nModified': 1,\n",
       " 'ok': 1.0,\n",
       " 'opTime': {'t': 2, 'ts': Timestamp(1505937712, 1)},\n",
       " 'updatedExisting': True}"
      ]
     },
     "metadata": {},
     "output_type": "display_data"
    },
    {
     "data": {
      "text/plain": [
       "{'electionId': ObjectId('7fffffff0000000000000002'),\n",
       " 'n': 1,\n",
       " 'nModified': 1,\n",
       " 'ok': 1.0,\n",
       " 'opTime': {'t': 2, 'ts': Timestamp(1505937713, 1)},\n",
       " 'updatedExisting': True}"
      ]
     },
     "metadata": {},
     "output_type": "display_data"
    },
    {
     "data": {
      "text/plain": [
       "{'electionId': ObjectId('7fffffff0000000000000002'),\n",
       " 'n': 1,\n",
       " 'nModified': 1,\n",
       " 'ok': 1.0,\n",
       " 'opTime': {'t': 2, 'ts': Timestamp(1505937714, 1)},\n",
       " 'updatedExisting': True}"
      ]
     },
     "metadata": {},
     "output_type": "display_data"
    },
    {
     "data": {
      "text/plain": [
       "{'electionId': ObjectId('7fffffff0000000000000002'),\n",
       " 'n': 1,\n",
       " 'nModified': 1,\n",
       " 'ok': 1.0,\n",
       " 'opTime': {'t': 2, 'ts': Timestamp(1505937714, 2)},\n",
       " 'updatedExisting': True}"
      ]
     },
     "metadata": {},
     "output_type": "display_data"
    },
    {
     "data": {
      "text/plain": [
       "{'electionId': ObjectId('7fffffff0000000000000002'),\n",
       " 'n': 1,\n",
       " 'nModified': 1,\n",
       " 'ok': 1.0,\n",
       " 'opTime': {'t': 2, 'ts': Timestamp(1505937715, 1)},\n",
       " 'updatedExisting': True}"
      ]
     },
     "metadata": {},
     "output_type": "display_data"
    },
    {
     "data": {
      "text/plain": [
       "{'electionId': ObjectId('7fffffff0000000000000002'),\n",
       " 'n': 1,\n",
       " 'nModified': 1,\n",
       " 'ok': 1.0,\n",
       " 'opTime': {'t': 2, 'ts': Timestamp(1505937716, 1)},\n",
       " 'updatedExisting': True}"
      ]
     },
     "metadata": {},
     "output_type": "display_data"
    },
    {
     "data": {
      "text/plain": [
       "{'electionId': ObjectId('7fffffff0000000000000002'),\n",
       " 'n': 1,\n",
       " 'nModified': 1,\n",
       " 'ok': 1.0,\n",
       " 'opTime': {'t': 2, 'ts': Timestamp(1505937717, 1)},\n",
       " 'updatedExisting': True}"
      ]
     },
     "metadata": {},
     "output_type": "display_data"
    },
    {
     "data": {
      "text/plain": [
       "{'electionId': ObjectId('7fffffff0000000000000002'),\n",
       " 'n': 1,\n",
       " 'nModified': 1,\n",
       " 'ok': 1.0,\n",
       " 'opTime': {'t': 2, 'ts': Timestamp(1505937718, 1)},\n",
       " 'updatedExisting': True}"
      ]
     },
     "metadata": {},
     "output_type": "display_data"
    },
    {
     "data": {
      "text/plain": [
       "{'electionId': ObjectId('7fffffff0000000000000002'),\n",
       " 'n': 1,\n",
       " 'nModified': 1,\n",
       " 'ok': 1.0,\n",
       " 'opTime': {'t': 2, 'ts': Timestamp(1505937719, 1)},\n",
       " 'updatedExisting': True}"
      ]
     },
     "metadata": {},
     "output_type": "display_data"
    },
    {
     "data": {
      "text/plain": [
       "{'electionId': ObjectId('7fffffff0000000000000002'),\n",
       " 'n': 1,\n",
       " 'nModified': 1,\n",
       " 'ok': 1.0,\n",
       " 'opTime': {'t': 2, 'ts': Timestamp(1505937720, 1)},\n",
       " 'updatedExisting': True}"
      ]
     },
     "metadata": {},
     "output_type": "display_data"
    },
    {
     "data": {
      "text/plain": [
       "{'electionId': ObjectId('7fffffff0000000000000002'),\n",
       " 'n': 1,\n",
       " 'nModified': 1,\n",
       " 'ok': 1.0,\n",
       " 'opTime': {'t': 2, 'ts': Timestamp(1505937721, 1)},\n",
       " 'updatedExisting': True}"
      ]
     },
     "metadata": {},
     "output_type": "display_data"
    },
    {
     "data": {
      "text/plain": [
       "{'electionId': ObjectId('7fffffff0000000000000002'),\n",
       " 'n': 1,\n",
       " 'nModified': 1,\n",
       " 'ok': 1.0,\n",
       " 'opTime': {'t': 2, 'ts': Timestamp(1505937725, 1)},\n",
       " 'updatedExisting': True}"
      ]
     },
     "metadata": {},
     "output_type": "display_data"
    },
    {
     "data": {
      "text/plain": [
       "{'electionId': ObjectId('7fffffff0000000000000002'),\n",
       " 'n': 1,\n",
       " 'nModified': 1,\n",
       " 'ok': 1.0,\n",
       " 'opTime': {'t': 2, 'ts': Timestamp(1505937726, 1)},\n",
       " 'updatedExisting': True}"
      ]
     },
     "metadata": {},
     "output_type": "display_data"
    },
    {
     "data": {
      "text/plain": [
       "{'electionId': ObjectId('7fffffff0000000000000002'),\n",
       " 'n': 1,\n",
       " 'nModified': 1,\n",
       " 'ok': 1.0,\n",
       " 'opTime': {'t': 2, 'ts': Timestamp(1505937727, 1)},\n",
       " 'updatedExisting': True}"
      ]
     },
     "metadata": {},
     "output_type": "display_data"
    },
    {
     "data": {
      "text/plain": [
       "{'electionId': ObjectId('7fffffff0000000000000002'),\n",
       " 'n': 1,\n",
       " 'nModified': 1,\n",
       " 'ok': 1.0,\n",
       " 'opTime': {'t': 2, 'ts': Timestamp(1505937728, 1)},\n",
       " 'updatedExisting': True}"
      ]
     },
     "metadata": {},
     "output_type": "display_data"
    },
    {
     "data": {
      "text/plain": [
       "{'electionId': ObjectId('7fffffff0000000000000002'),\n",
       " 'n': 1,\n",
       " 'nModified': 1,\n",
       " 'ok': 1.0,\n",
       " 'opTime': {'t': 2, 'ts': Timestamp(1505937729, 1)},\n",
       " 'updatedExisting': True}"
      ]
     },
     "metadata": {},
     "output_type": "display_data"
    },
    {
     "data": {
      "text/plain": [
       "{'electionId': ObjectId('7fffffff0000000000000002'),\n",
       " 'n': 1,\n",
       " 'nModified': 1,\n",
       " 'ok': 1.0,\n",
       " 'opTime': {'t': 2, 'ts': Timestamp(1505937730, 1)},\n",
       " 'updatedExisting': True}"
      ]
     },
     "metadata": {},
     "output_type": "display_data"
    },
    {
     "data": {
      "text/plain": [
       "{'electionId': ObjectId('7fffffff0000000000000002'),\n",
       " 'n': 1,\n",
       " 'nModified': 1,\n",
       " 'ok': 1.0,\n",
       " 'opTime': {'t': 2, 'ts': Timestamp(1505937731, 1)},\n",
       " 'updatedExisting': True}"
      ]
     },
     "metadata": {},
     "output_type": "display_data"
    },
    {
     "data": {
      "text/plain": [
       "{'electionId': ObjectId('7fffffff0000000000000002'),\n",
       " 'n': 1,\n",
       " 'nModified': 1,\n",
       " 'ok': 1.0,\n",
       " 'opTime': {'t': 2, 'ts': Timestamp(1505937732, 1)},\n",
       " 'updatedExisting': True}"
      ]
     },
     "metadata": {},
     "output_type": "display_data"
    },
    {
     "data": {
      "text/plain": [
       "{'electionId': ObjectId('7fffffff0000000000000002'),\n",
       " 'n': 1,\n",
       " 'nModified': 1,\n",
       " 'ok': 1.0,\n",
       " 'opTime': {'t': 2, 'ts': Timestamp(1505937733, 1)},\n",
       " 'updatedExisting': True}"
      ]
     },
     "metadata": {},
     "output_type": "display_data"
    },
    {
     "data": {
      "text/plain": [
       "{'electionId': ObjectId('7fffffff0000000000000002'),\n",
       " 'n': 1,\n",
       " 'nModified': 1,\n",
       " 'ok': 1.0,\n",
       " 'opTime': {'t': 2, 'ts': Timestamp(1505937734, 1)},\n",
       " 'updatedExisting': True}"
      ]
     },
     "metadata": {},
     "output_type": "display_data"
    },
    {
     "data": {
      "text/plain": [
       "{'electionId': ObjectId('7fffffff0000000000000002'),\n",
       " 'n': 1,\n",
       " 'nModified': 1,\n",
       " 'ok': 1.0,\n",
       " 'opTime': {'t': 2, 'ts': Timestamp(1505937735, 1)},\n",
       " 'updatedExisting': True}"
      ]
     },
     "metadata": {},
     "output_type": "display_data"
    },
    {
     "data": {
      "text/plain": [
       "{'electionId': ObjectId('7fffffff0000000000000002'),\n",
       " 'n': 1,\n",
       " 'nModified': 1,\n",
       " 'ok': 1.0,\n",
       " 'opTime': {'t': 2, 'ts': Timestamp(1505937736, 1)},\n",
       " 'updatedExisting': True}"
      ]
     },
     "metadata": {},
     "output_type": "display_data"
    },
    {
     "data": {
      "text/plain": [
       "{'electionId': ObjectId('7fffffff0000000000000002'),\n",
       " 'n': 1,\n",
       " 'nModified': 1,\n",
       " 'ok': 1.0,\n",
       " 'opTime': {'t': 2, 'ts': Timestamp(1505937738, 1)},\n",
       " 'updatedExisting': True}"
      ]
     },
     "metadata": {},
     "output_type": "display_data"
    },
    {
     "data": {
      "text/plain": [
       "{'electionId': ObjectId('7fffffff0000000000000002'),\n",
       " 'n': 1,\n",
       " 'nModified': 1,\n",
       " 'ok': 1.0,\n",
       " 'opTime': {'t': 2, 'ts': Timestamp(1505937739, 1)},\n",
       " 'updatedExisting': True}"
      ]
     },
     "metadata": {},
     "output_type": "display_data"
    },
    {
     "data": {
      "text/plain": [
       "{'electionId': ObjectId('7fffffff0000000000000002'),\n",
       " 'n': 1,\n",
       " 'nModified': 1,\n",
       " 'ok': 1.0,\n",
       " 'opTime': {'t': 2, 'ts': Timestamp(1505937739, 2)},\n",
       " 'updatedExisting': True}"
      ]
     },
     "metadata": {},
     "output_type": "display_data"
    },
    {
     "data": {
      "text/plain": [
       "{'electionId': ObjectId('7fffffff0000000000000002'),\n",
       " 'n': 1,\n",
       " 'nModified': 1,\n",
       " 'ok': 1.0,\n",
       " 'opTime': {'t': 2, 'ts': Timestamp(1505937740, 1)},\n",
       " 'updatedExisting': True}"
      ]
     },
     "metadata": {},
     "output_type": "display_data"
    },
    {
     "data": {
      "text/plain": [
       "{'electionId': ObjectId('7fffffff0000000000000002'),\n",
       " 'n': 1,\n",
       " 'nModified': 1,\n",
       " 'ok': 1.0,\n",
       " 'opTime': {'t': 2, 'ts': Timestamp(1505937741, 1)},\n",
       " 'updatedExisting': True}"
      ]
     },
     "metadata": {},
     "output_type": "display_data"
    },
    {
     "data": {
      "text/plain": [
       "{'electionId': ObjectId('7fffffff0000000000000002'),\n",
       " 'n': 1,\n",
       " 'nModified': 1,\n",
       " 'ok': 1.0,\n",
       " 'opTime': {'t': 2, 'ts': Timestamp(1505937742, 1)},\n",
       " 'updatedExisting': True}"
      ]
     },
     "metadata": {},
     "output_type": "display_data"
    },
    {
     "data": {
      "text/plain": [
       "{'electionId': ObjectId('7fffffff0000000000000002'),\n",
       " 'n': 1,\n",
       " 'nModified': 1,\n",
       " 'ok': 1.0,\n",
       " 'opTime': {'t': 2, 'ts': Timestamp(1505937743, 1)},\n",
       " 'updatedExisting': True}"
      ]
     },
     "metadata": {},
     "output_type": "display_data"
    },
    {
     "data": {
      "text/plain": [
       "{'electionId': ObjectId('7fffffff0000000000000002'),\n",
       " 'n': 1,\n",
       " 'nModified': 1,\n",
       " 'ok': 1.0,\n",
       " 'opTime': {'t': 2, 'ts': Timestamp(1505937744, 1)},\n",
       " 'updatedExisting': True}"
      ]
     },
     "metadata": {},
     "output_type": "display_data"
    },
    {
     "data": {
      "text/plain": [
       "{'electionId': ObjectId('7fffffff0000000000000002'),\n",
       " 'n': 1,\n",
       " 'nModified': 1,\n",
       " 'ok': 1.0,\n",
       " 'opTime': {'t': 2, 'ts': Timestamp(1505937745, 1)},\n",
       " 'updatedExisting': True}"
      ]
     },
     "metadata": {},
     "output_type": "display_data"
    },
    {
     "data": {
      "text/plain": [
       "{'electionId': ObjectId('7fffffff0000000000000002'),\n",
       " 'n': 1,\n",
       " 'nModified': 1,\n",
       " 'ok': 1.0,\n",
       " 'opTime': {'t': 2, 'ts': Timestamp(1505937746, 1)},\n",
       " 'updatedExisting': True}"
      ]
     },
     "metadata": {},
     "output_type": "display_data"
    },
    {
     "data": {
      "text/plain": [
       "{'electionId': ObjectId('7fffffff0000000000000002'),\n",
       " 'n': 1,\n",
       " 'nModified': 1,\n",
       " 'ok': 1.0,\n",
       " 'opTime': {'t': 2, 'ts': Timestamp(1505937747, 1)},\n",
       " 'updatedExisting': True}"
      ]
     },
     "metadata": {},
     "output_type": "display_data"
    },
    {
     "data": {
      "text/plain": [
       "{'electionId': ObjectId('7fffffff0000000000000002'),\n",
       " 'n': 1,\n",
       " 'nModified': 1,\n",
       " 'ok': 1.0,\n",
       " 'opTime': {'t': 2, 'ts': Timestamp(1505937747, 2)},\n",
       " 'updatedExisting': True}"
      ]
     },
     "metadata": {},
     "output_type": "display_data"
    },
    {
     "data": {
      "text/plain": [
       "{'electionId': ObjectId('7fffffff0000000000000002'),\n",
       " 'n': 1,\n",
       " 'nModified': 1,\n",
       " 'ok': 1.0,\n",
       " 'opTime': {'t': 2, 'ts': Timestamp(1505937748, 1)},\n",
       " 'updatedExisting': True}"
      ]
     },
     "metadata": {},
     "output_type": "display_data"
    },
    {
     "data": {
      "text/plain": [
       "{'electionId': ObjectId('7fffffff0000000000000002'),\n",
       " 'n': 1,\n",
       " 'nModified': 1,\n",
       " 'ok': 1.0,\n",
       " 'opTime': {'t': 2, 'ts': Timestamp(1505937749, 1)},\n",
       " 'updatedExisting': True}"
      ]
     },
     "metadata": {},
     "output_type": "display_data"
    },
    {
     "data": {
      "text/plain": [
       "{'electionId': ObjectId('7fffffff0000000000000002'),\n",
       " 'n': 1,\n",
       " 'nModified': 1,\n",
       " 'ok': 1.0,\n",
       " 'opTime': {'t': 2, 'ts': Timestamp(1505937750, 1)},\n",
       " 'updatedExisting': True}"
      ]
     },
     "metadata": {},
     "output_type": "display_data"
    },
    {
     "data": {
      "text/plain": [
       "{'electionId': ObjectId('7fffffff0000000000000002'),\n",
       " 'n': 1,\n",
       " 'nModified': 1,\n",
       " 'ok': 1.0,\n",
       " 'opTime': {'t': 2, 'ts': Timestamp(1505937751, 1)},\n",
       " 'updatedExisting': True}"
      ]
     },
     "metadata": {},
     "output_type": "display_data"
    },
    {
     "data": {
      "text/plain": [
       "{'electionId': ObjectId('7fffffff0000000000000002'),\n",
       " 'n': 1,\n",
       " 'nModified': 1,\n",
       " 'ok': 1.0,\n",
       " 'opTime': {'t': 2, 'ts': Timestamp(1505937751, 2)},\n",
       " 'updatedExisting': True}"
      ]
     },
     "metadata": {},
     "output_type": "display_data"
    },
    {
     "data": {
      "text/plain": [
       "{'electionId': ObjectId('7fffffff0000000000000002'),\n",
       " 'n': 1,\n",
       " 'nModified': 1,\n",
       " 'ok': 1.0,\n",
       " 'opTime': {'t': 2, 'ts': Timestamp(1505937752, 1)},\n",
       " 'updatedExisting': True}"
      ]
     },
     "metadata": {},
     "output_type": "display_data"
    },
    {
     "data": {
      "text/plain": [
       "{'electionId': ObjectId('7fffffff0000000000000002'),\n",
       " 'n': 1,\n",
       " 'nModified': 1,\n",
       " 'ok': 1.0,\n",
       " 'opTime': {'t': 2, 'ts': Timestamp(1505937753, 1)},\n",
       " 'updatedExisting': True}"
      ]
     },
     "metadata": {},
     "output_type": "display_data"
    },
    {
     "data": {
      "text/plain": [
       "{'electionId': ObjectId('7fffffff0000000000000002'),\n",
       " 'n': 1,\n",
       " 'nModified': 1,\n",
       " 'ok': 1.0,\n",
       " 'opTime': {'t': 2, 'ts': Timestamp(1505937755, 1)},\n",
       " 'updatedExisting': True}"
      ]
     },
     "metadata": {},
     "output_type": "display_data"
    },
    {
     "data": {
      "text/plain": [
       "{'electionId': ObjectId('7fffffff0000000000000002'),\n",
       " 'n': 1,\n",
       " 'nModified': 1,\n",
       " 'ok': 1.0,\n",
       " 'opTime': {'t': 2, 'ts': Timestamp(1505937757, 1)},\n",
       " 'updatedExisting': True}"
      ]
     },
     "metadata": {},
     "output_type": "display_data"
    },
    {
     "data": {
      "text/plain": [
       "{'electionId': ObjectId('7fffffff0000000000000002'),\n",
       " 'n': 1,\n",
       " 'nModified': 1,\n",
       " 'ok': 1.0,\n",
       " 'opTime': {'t': 2, 'ts': Timestamp(1505937759, 1)},\n",
       " 'updatedExisting': True}"
      ]
     },
     "metadata": {},
     "output_type": "display_data"
    },
    {
     "data": {
      "text/plain": [
       "{'electionId': ObjectId('7fffffff0000000000000002'),\n",
       " 'n': 1,\n",
       " 'nModified': 1,\n",
       " 'ok': 1.0,\n",
       " 'opTime': {'t': 2, 'ts': Timestamp(1505937760, 1)},\n",
       " 'updatedExisting': True}"
      ]
     },
     "metadata": {},
     "output_type": "display_data"
    },
    {
     "data": {
      "text/plain": [
       "{'electionId': ObjectId('7fffffff0000000000000002'),\n",
       " 'n': 1,\n",
       " 'nModified': 1,\n",
       " 'ok': 1.0,\n",
       " 'opTime': {'t': 2, 'ts': Timestamp(1505937761, 1)},\n",
       " 'updatedExisting': True}"
      ]
     },
     "metadata": {},
     "output_type": "display_data"
    },
    {
     "data": {
      "text/plain": [
       "{'electionId': ObjectId('7fffffff0000000000000002'),\n",
       " 'n': 1,\n",
       " 'nModified': 1,\n",
       " 'ok': 1.0,\n",
       " 'opTime': {'t': 2, 'ts': Timestamp(1505937762, 1)},\n",
       " 'updatedExisting': True}"
      ]
     },
     "metadata": {},
     "output_type": "display_data"
    },
    {
     "data": {
      "text/plain": [
       "{'electionId': ObjectId('7fffffff0000000000000002'),\n",
       " 'n': 1,\n",
       " 'nModified': 1,\n",
       " 'ok': 1.0,\n",
       " 'opTime': {'t': 2, 'ts': Timestamp(1505937763, 1)},\n",
       " 'updatedExisting': True}"
      ]
     },
     "metadata": {},
     "output_type": "display_data"
    },
    {
     "data": {
      "text/plain": [
       "{'electionId': ObjectId('7fffffff0000000000000002'),\n",
       " 'n': 1,\n",
       " 'nModified': 1,\n",
       " 'ok': 1.0,\n",
       " 'opTime': {'t': 2, 'ts': Timestamp(1505937764, 1)},\n",
       " 'updatedExisting': True}"
      ]
     },
     "metadata": {},
     "output_type": "display_data"
    },
    {
     "data": {
      "text/plain": [
       "{'electionId': ObjectId('7fffffff0000000000000002'),\n",
       " 'n': 1,\n",
       " 'nModified': 1,\n",
       " 'ok': 1.0,\n",
       " 'opTime': {'t': 2, 'ts': Timestamp(1505937765, 1)},\n",
       " 'updatedExisting': True}"
      ]
     },
     "metadata": {},
     "output_type": "display_data"
    },
    {
     "data": {
      "text/plain": [
       "{'electionId': ObjectId('7fffffff0000000000000002'),\n",
       " 'n': 1,\n",
       " 'nModified': 1,\n",
       " 'ok': 1.0,\n",
       " 'opTime': {'t': 2, 'ts': Timestamp(1505937766, 1)},\n",
       " 'updatedExisting': True}"
      ]
     },
     "metadata": {},
     "output_type": "display_data"
    },
    {
     "data": {
      "text/plain": [
       "{'electionId': ObjectId('7fffffff0000000000000002'),\n",
       " 'n': 1,\n",
       " 'nModified': 1,\n",
       " 'ok': 1.0,\n",
       " 'opTime': {'t': 2, 'ts': Timestamp(1505937767, 1)},\n",
       " 'updatedExisting': True}"
      ]
     },
     "metadata": {},
     "output_type": "display_data"
    },
    {
     "data": {
      "text/plain": [
       "{'electionId': ObjectId('7fffffff0000000000000002'),\n",
       " 'n': 1,\n",
       " 'nModified': 1,\n",
       " 'ok': 1.0,\n",
       " 'opTime': {'t': 2, 'ts': Timestamp(1505937768, 1)},\n",
       " 'updatedExisting': True}"
      ]
     },
     "metadata": {},
     "output_type": "display_data"
    },
    {
     "data": {
      "text/plain": [
       "{'electionId': ObjectId('7fffffff0000000000000002'),\n",
       " 'n': 1,\n",
       " 'nModified': 1,\n",
       " 'ok': 1.0,\n",
       " 'opTime': {'t': 2, 'ts': Timestamp(1505937768, 2)},\n",
       " 'updatedExisting': True}"
      ]
     },
     "metadata": {},
     "output_type": "display_data"
    },
    {
     "data": {
      "text/plain": [
       "{'electionId': ObjectId('7fffffff0000000000000002'),\n",
       " 'n': 1,\n",
       " 'nModified': 1,\n",
       " 'ok': 1.0,\n",
       " 'opTime': {'t': 2, 'ts': Timestamp(1505937769, 1)},\n",
       " 'updatedExisting': True}"
      ]
     },
     "metadata": {},
     "output_type": "display_data"
    },
    {
     "data": {
      "text/plain": [
       "{'electionId': ObjectId('7fffffff0000000000000002'),\n",
       " 'n': 1,\n",
       " 'nModified': 1,\n",
       " 'ok': 1.0,\n",
       " 'opTime': {'t': 2, 'ts': Timestamp(1505937771, 1)},\n",
       " 'updatedExisting': True}"
      ]
     },
     "metadata": {},
     "output_type": "display_data"
    },
    {
     "data": {
      "text/plain": [
       "{'electionId': ObjectId('7fffffff0000000000000002'),\n",
       " 'n': 1,\n",
       " 'nModified': 1,\n",
       " 'ok': 1.0,\n",
       " 'opTime': {'t': 2, 'ts': Timestamp(1505937772, 1)},\n",
       " 'updatedExisting': True}"
      ]
     },
     "metadata": {},
     "output_type": "display_data"
    },
    {
     "data": {
      "text/plain": [
       "{'electionId': ObjectId('7fffffff0000000000000002'),\n",
       " 'n': 1,\n",
       " 'nModified': 1,\n",
       " 'ok': 1.0,\n",
       " 'opTime': {'t': 2, 'ts': Timestamp(1505937773, 1)},\n",
       " 'updatedExisting': True}"
      ]
     },
     "metadata": {},
     "output_type": "display_data"
    },
    {
     "data": {
      "text/plain": [
       "{'electionId': ObjectId('7fffffff0000000000000002'),\n",
       " 'n': 1,\n",
       " 'nModified': 1,\n",
       " 'ok': 1.0,\n",
       " 'opTime': {'t': 2, 'ts': Timestamp(1505937774, 1)},\n",
       " 'updatedExisting': True}"
      ]
     },
     "metadata": {},
     "output_type": "display_data"
    },
    {
     "data": {
      "text/plain": [
       "{'electionId': ObjectId('7fffffff0000000000000002'),\n",
       " 'n': 1,\n",
       " 'nModified': 1,\n",
       " 'ok': 1.0,\n",
       " 'opTime': {'t': 2, 'ts': Timestamp(1505937776, 1)},\n",
       " 'updatedExisting': True}"
      ]
     },
     "metadata": {},
     "output_type": "display_data"
    },
    {
     "data": {
      "text/plain": [
       "{'electionId': ObjectId('7fffffff0000000000000002'),\n",
       " 'n': 1,\n",
       " 'nModified': 1,\n",
       " 'ok': 1.0,\n",
       " 'opTime': {'t': 2, 'ts': Timestamp(1505937777, 1)},\n",
       " 'updatedExisting': True}"
      ]
     },
     "metadata": {},
     "output_type": "display_data"
    },
    {
     "data": {
      "text/plain": [
       "{'electionId': ObjectId('7fffffff0000000000000002'),\n",
       " 'n': 1,\n",
       " 'nModified': 1,\n",
       " 'ok': 1.0,\n",
       " 'opTime': {'t': 2, 'ts': Timestamp(1505937778, 1)},\n",
       " 'updatedExisting': True}"
      ]
     },
     "metadata": {},
     "output_type": "display_data"
    },
    {
     "data": {
      "text/plain": [
       "{'electionId': ObjectId('7fffffff0000000000000002'),\n",
       " 'n': 1,\n",
       " 'nModified': 1,\n",
       " 'ok': 1.0,\n",
       " 'opTime': {'t': 2, 'ts': Timestamp(1505937779, 1)},\n",
       " 'updatedExisting': True}"
      ]
     },
     "metadata": {},
     "output_type": "display_data"
    },
    {
     "data": {
      "text/plain": [
       "{'electionId': ObjectId('7fffffff0000000000000002'),\n",
       " 'n': 1,\n",
       " 'nModified': 1,\n",
       " 'ok': 1.0,\n",
       " 'opTime': {'t': 2, 'ts': Timestamp(1505937781, 1)},\n",
       " 'updatedExisting': True}"
      ]
     },
     "metadata": {},
     "output_type": "display_data"
    },
    {
     "data": {
      "text/plain": [
       "{'electionId': ObjectId('7fffffff0000000000000002'),\n",
       " 'n': 1,\n",
       " 'nModified': 1,\n",
       " 'ok': 1.0,\n",
       " 'opTime': {'t': 2, 'ts': Timestamp(1505937783, 1)},\n",
       " 'updatedExisting': True}"
      ]
     },
     "metadata": {},
     "output_type": "display_data"
    },
    {
     "data": {
      "text/plain": [
       "{'electionId': ObjectId('7fffffff0000000000000002'),\n",
       " 'n': 1,\n",
       " 'nModified': 1,\n",
       " 'ok': 1.0,\n",
       " 'opTime': {'t': 2, 'ts': Timestamp(1505937784, 1)},\n",
       " 'updatedExisting': True}"
      ]
     },
     "metadata": {},
     "output_type": "display_data"
    },
    {
     "data": {
      "text/plain": [
       "{'electionId': ObjectId('7fffffff0000000000000002'),\n",
       " 'n': 1,\n",
       " 'nModified': 1,\n",
       " 'ok': 1.0,\n",
       " 'opTime': {'t': 2, 'ts': Timestamp(1505937785, 1)},\n",
       " 'updatedExisting': True}"
      ]
     },
     "metadata": {},
     "output_type": "display_data"
    },
    {
     "data": {
      "text/plain": [
       "{'electionId': ObjectId('7fffffff0000000000000002'),\n",
       " 'n': 1,\n",
       " 'nModified': 1,\n",
       " 'ok': 1.0,\n",
       " 'opTime': {'t': 2, 'ts': Timestamp(1505937786, 1)},\n",
       " 'updatedExisting': True}"
      ]
     },
     "metadata": {},
     "output_type": "display_data"
    },
    {
     "data": {
      "text/plain": [
       "{'electionId': ObjectId('7fffffff0000000000000002'),\n",
       " 'n': 1,\n",
       " 'nModified': 1,\n",
       " 'ok': 1.0,\n",
       " 'opTime': {'t': 2, 'ts': Timestamp(1505937788, 1)},\n",
       " 'updatedExisting': True}"
      ]
     },
     "metadata": {},
     "output_type": "display_data"
    },
    {
     "data": {
      "text/plain": [
       "{'electionId': ObjectId('7fffffff0000000000000002'),\n",
       " 'n': 1,\n",
       " 'nModified': 1,\n",
       " 'ok': 1.0,\n",
       " 'opTime': {'t': 2, 'ts': Timestamp(1505937789, 1)},\n",
       " 'updatedExisting': True}"
      ]
     },
     "metadata": {},
     "output_type": "display_data"
    },
    {
     "data": {
      "text/plain": [
       "{'electionId': ObjectId('7fffffff0000000000000002'),\n",
       " 'n': 1,\n",
       " 'nModified': 1,\n",
       " 'ok': 1.0,\n",
       " 'opTime': {'t': 2, 'ts': Timestamp(1505937790, 1)},\n",
       " 'updatedExisting': True}"
      ]
     },
     "metadata": {},
     "output_type": "display_data"
    },
    {
     "data": {
      "text/plain": [
       "{'electionId': ObjectId('7fffffff0000000000000002'),\n",
       " 'n': 1,\n",
       " 'nModified': 1,\n",
       " 'ok': 1.0,\n",
       " 'opTime': {'t': 2, 'ts': Timestamp(1505937792, 1)},\n",
       " 'updatedExisting': True}"
      ]
     },
     "metadata": {},
     "output_type": "display_data"
    },
    {
     "data": {
      "text/plain": [
       "{'electionId': ObjectId('7fffffff0000000000000002'),\n",
       " 'n': 1,\n",
       " 'nModified': 1,\n",
       " 'ok': 1.0,\n",
       " 'opTime': {'t': 2, 'ts': Timestamp(1505937792, 2)},\n",
       " 'updatedExisting': True}"
      ]
     },
     "metadata": {},
     "output_type": "display_data"
    },
    {
     "data": {
      "text/plain": [
       "{'electionId': ObjectId('7fffffff0000000000000002'),\n",
       " 'n': 1,\n",
       " 'nModified': 1,\n",
       " 'ok': 1.0,\n",
       " 'opTime': {'t': 2, 'ts': Timestamp(1505937793, 1)},\n",
       " 'updatedExisting': True}"
      ]
     },
     "metadata": {},
     "output_type": "display_data"
    },
    {
     "data": {
      "text/plain": [
       "{'electionId': ObjectId('7fffffff0000000000000002'),\n",
       " 'n': 1,\n",
       " 'nModified': 1,\n",
       " 'ok': 1.0,\n",
       " 'opTime': {'t': 2, 'ts': Timestamp(1505937794, 1)},\n",
       " 'updatedExisting': True}"
      ]
     },
     "metadata": {},
     "output_type": "display_data"
    },
    {
     "data": {
      "text/plain": [
       "{'electionId': ObjectId('7fffffff0000000000000002'),\n",
       " 'n': 1,\n",
       " 'nModified': 1,\n",
       " 'ok': 1.0,\n",
       " 'opTime': {'t': 2, 'ts': Timestamp(1505937795, 1)},\n",
       " 'updatedExisting': True}"
      ]
     },
     "metadata": {},
     "output_type": "display_data"
    },
    {
     "data": {
      "text/plain": [
       "{'electionId': ObjectId('7fffffff0000000000000002'),\n",
       " 'n': 1,\n",
       " 'nModified': 1,\n",
       " 'ok': 1.0,\n",
       " 'opTime': {'t': 2, 'ts': Timestamp(1505937795, 2)},\n",
       " 'updatedExisting': True}"
      ]
     },
     "metadata": {},
     "output_type": "display_data"
    },
    {
     "data": {
      "text/plain": [
       "{'electionId': ObjectId('7fffffff0000000000000002'),\n",
       " 'n': 1,\n",
       " 'nModified': 1,\n",
       " 'ok': 1.0,\n",
       " 'opTime': {'t': 2, 'ts': Timestamp(1505937796, 1)},\n",
       " 'updatedExisting': True}"
      ]
     },
     "metadata": {},
     "output_type": "display_data"
    },
    {
     "data": {
      "text/plain": [
       "{'electionId': ObjectId('7fffffff0000000000000002'),\n",
       " 'n': 1,\n",
       " 'nModified': 1,\n",
       " 'ok': 1.0,\n",
       " 'opTime': {'t': 2, 'ts': Timestamp(1505937796, 2)},\n",
       " 'updatedExisting': True}"
      ]
     },
     "metadata": {},
     "output_type": "display_data"
    },
    {
     "data": {
      "text/plain": [
       "{'electionId': ObjectId('7fffffff0000000000000002'),\n",
       " 'n': 1,\n",
       " 'nModified': 1,\n",
       " 'ok': 1.0,\n",
       " 'opTime': {'t': 2, 'ts': Timestamp(1505937797, 1)},\n",
       " 'updatedExisting': True}"
      ]
     },
     "metadata": {},
     "output_type": "display_data"
    },
    {
     "data": {
      "text/plain": [
       "{'electionId': ObjectId('7fffffff0000000000000002'),\n",
       " 'n': 1,\n",
       " 'nModified': 1,\n",
       " 'ok': 1.0,\n",
       " 'opTime': {'t': 2, 'ts': Timestamp(1505937798, 1)},\n",
       " 'updatedExisting': True}"
      ]
     },
     "metadata": {},
     "output_type": "display_data"
    },
    {
     "data": {
      "text/plain": [
       "{'electionId': ObjectId('7fffffff0000000000000002'),\n",
       " 'n': 1,\n",
       " 'nModified': 1,\n",
       " 'ok': 1.0,\n",
       " 'opTime': {'t': 2, 'ts': Timestamp(1505937799, 1)},\n",
       " 'updatedExisting': True}"
      ]
     },
     "metadata": {},
     "output_type": "display_data"
    },
    {
     "data": {
      "text/plain": [
       "{'electionId': ObjectId('7fffffff0000000000000002'),\n",
       " 'n': 1,\n",
       " 'nModified': 1,\n",
       " 'ok': 1.0,\n",
       " 'opTime': {'t': 2, 'ts': Timestamp(1505937799, 2)},\n",
       " 'updatedExisting': True}"
      ]
     },
     "metadata": {},
     "output_type": "display_data"
    },
    {
     "data": {
      "text/plain": [
       "{'electionId': ObjectId('7fffffff0000000000000002'),\n",
       " 'n': 1,\n",
       " 'nModified': 1,\n",
       " 'ok': 1.0,\n",
       " 'opTime': {'t': 2, 'ts': Timestamp(1505937800, 1)},\n",
       " 'updatedExisting': True}"
      ]
     },
     "metadata": {},
     "output_type": "display_data"
    },
    {
     "data": {
      "text/plain": [
       "{'electionId': ObjectId('7fffffff0000000000000002'),\n",
       " 'n': 1,\n",
       " 'nModified': 1,\n",
       " 'ok': 1.0,\n",
       " 'opTime': {'t': 2, 'ts': Timestamp(1505937801, 1)},\n",
       " 'updatedExisting': True}"
      ]
     },
     "metadata": {},
     "output_type": "display_data"
    },
    {
     "data": {
      "text/plain": [
       "{'electionId': ObjectId('7fffffff0000000000000002'),\n",
       " 'n': 1,\n",
       " 'nModified': 1,\n",
       " 'ok': 1.0,\n",
       " 'opTime': {'t': 2, 'ts': Timestamp(1505937802, 1)},\n",
       " 'updatedExisting': True}"
      ]
     },
     "metadata": {},
     "output_type": "display_data"
    },
    {
     "data": {
      "text/plain": [
       "{'electionId': ObjectId('7fffffff0000000000000002'),\n",
       " 'n': 1,\n",
       " 'nModified': 1,\n",
       " 'ok': 1.0,\n",
       " 'opTime': {'t': 2, 'ts': Timestamp(1505937803, 1)},\n",
       " 'updatedExisting': True}"
      ]
     },
     "metadata": {},
     "output_type": "display_data"
    },
    {
     "data": {
      "text/plain": [
       "{'electionId': ObjectId('7fffffff0000000000000002'),\n",
       " 'n': 1,\n",
       " 'nModified': 1,\n",
       " 'ok': 1.0,\n",
       " 'opTime': {'t': 2, 'ts': Timestamp(1505937804, 1)},\n",
       " 'updatedExisting': True}"
      ]
     },
     "metadata": {},
     "output_type": "display_data"
    },
    {
     "data": {
      "text/plain": [
       "{'electionId': ObjectId('7fffffff0000000000000002'),\n",
       " 'n': 1,\n",
       " 'nModified': 1,\n",
       " 'ok': 1.0,\n",
       " 'opTime': {'t': 2, 'ts': Timestamp(1505937805, 1)},\n",
       " 'updatedExisting': True}"
      ]
     },
     "metadata": {},
     "output_type": "display_data"
    },
    {
     "data": {
      "text/plain": [
       "{'electionId': ObjectId('7fffffff0000000000000002'),\n",
       " 'n': 1,\n",
       " 'nModified': 1,\n",
       " 'ok': 1.0,\n",
       " 'opTime': {'t': 2, 'ts': Timestamp(1505937806, 1)},\n",
       " 'updatedExisting': True}"
      ]
     },
     "metadata": {},
     "output_type": "display_data"
    },
    {
     "data": {
      "text/plain": [
       "{'electionId': ObjectId('7fffffff0000000000000002'),\n",
       " 'n': 1,\n",
       " 'nModified': 1,\n",
       " 'ok': 1.0,\n",
       " 'opTime': {'t': 2, 'ts': Timestamp(1505937806, 2)},\n",
       " 'updatedExisting': True}"
      ]
     },
     "metadata": {},
     "output_type": "display_data"
    },
    {
     "data": {
      "text/plain": [
       "{'electionId': ObjectId('7fffffff0000000000000002'),\n",
       " 'n': 1,\n",
       " 'nModified': 1,\n",
       " 'ok': 1.0,\n",
       " 'opTime': {'t': 2, 'ts': Timestamp(1505937807, 1)},\n",
       " 'updatedExisting': True}"
      ]
     },
     "metadata": {},
     "output_type": "display_data"
    },
    {
     "data": {
      "text/plain": [
       "{'electionId': ObjectId('7fffffff0000000000000002'),\n",
       " 'n': 1,\n",
       " 'nModified': 1,\n",
       " 'ok': 1.0,\n",
       " 'opTime': {'t': 2, 'ts': Timestamp(1505937807, 2)},\n",
       " 'updatedExisting': True}"
      ]
     },
     "metadata": {},
     "output_type": "display_data"
    },
    {
     "data": {
      "text/plain": [
       "{'electionId': ObjectId('7fffffff0000000000000002'),\n",
       " 'n': 1,\n",
       " 'nModified': 1,\n",
       " 'ok': 1.0,\n",
       " 'opTime': {'t': 2, 'ts': Timestamp(1505937808, 1)},\n",
       " 'updatedExisting': True}"
      ]
     },
     "metadata": {},
     "output_type": "display_data"
    },
    {
     "data": {
      "text/plain": [
       "{'electionId': ObjectId('7fffffff0000000000000002'),\n",
       " 'n': 1,\n",
       " 'nModified': 1,\n",
       " 'ok': 1.0,\n",
       " 'opTime': {'t': 2, 'ts': Timestamp(1505937809, 1)},\n",
       " 'updatedExisting': True}"
      ]
     },
     "metadata": {},
     "output_type": "display_data"
    },
    {
     "data": {
      "text/plain": [
       "{'electionId': ObjectId('7fffffff0000000000000002'),\n",
       " 'n': 1,\n",
       " 'nModified': 1,\n",
       " 'ok': 1.0,\n",
       " 'opTime': {'t': 2, 'ts': Timestamp(1505937809, 2)},\n",
       " 'updatedExisting': True}"
      ]
     },
     "metadata": {},
     "output_type": "display_data"
    },
    {
     "data": {
      "text/plain": [
       "{'electionId': ObjectId('7fffffff0000000000000002'),\n",
       " 'n': 1,\n",
       " 'nModified': 1,\n",
       " 'ok': 1.0,\n",
       " 'opTime': {'t': 2, 'ts': Timestamp(1505937810, 1)},\n",
       " 'updatedExisting': True}"
      ]
     },
     "metadata": {},
     "output_type": "display_data"
    },
    {
     "data": {
      "text/plain": [
       "{'electionId': ObjectId('7fffffff0000000000000002'),\n",
       " 'n': 1,\n",
       " 'nModified': 1,\n",
       " 'ok': 1.0,\n",
       " 'opTime': {'t': 2, 'ts': Timestamp(1505937810, 2)},\n",
       " 'updatedExisting': True}"
      ]
     },
     "metadata": {},
     "output_type": "display_data"
    },
    {
     "data": {
      "text/plain": [
       "{'electionId': ObjectId('7fffffff0000000000000002'),\n",
       " 'n': 1,\n",
       " 'nModified': 1,\n",
       " 'ok': 1.0,\n",
       " 'opTime': {'t': 2, 'ts': Timestamp(1505937811, 1)},\n",
       " 'updatedExisting': True}"
      ]
     },
     "metadata": {},
     "output_type": "display_data"
    },
    {
     "data": {
      "text/plain": [
       "{'electionId': ObjectId('7fffffff0000000000000002'),\n",
       " 'n': 1,\n",
       " 'nModified': 1,\n",
       " 'ok': 1.0,\n",
       " 'opTime': {'t': 2, 'ts': Timestamp(1505937811, 2)},\n",
       " 'updatedExisting': True}"
      ]
     },
     "metadata": {},
     "output_type": "display_data"
    },
    {
     "data": {
      "text/plain": [
       "{'electionId': ObjectId('7fffffff0000000000000002'),\n",
       " 'n': 1,\n",
       " 'nModified': 1,\n",
       " 'ok': 1.0,\n",
       " 'opTime': {'t': 2, 'ts': Timestamp(1505937812, 1)},\n",
       " 'updatedExisting': True}"
      ]
     },
     "metadata": {},
     "output_type": "display_data"
    },
    {
     "data": {
      "text/plain": [
       "{'electionId': ObjectId('7fffffff0000000000000002'),\n",
       " 'n': 1,\n",
       " 'nModified': 1,\n",
       " 'ok': 1.0,\n",
       " 'opTime': {'t': 2, 'ts': Timestamp(1505937813, 1)},\n",
       " 'updatedExisting': True}"
      ]
     },
     "metadata": {},
     "output_type": "display_data"
    },
    {
     "data": {
      "text/plain": [
       "{'electionId': ObjectId('7fffffff0000000000000002'),\n",
       " 'n': 1,\n",
       " 'nModified': 1,\n",
       " 'ok': 1.0,\n",
       " 'opTime': {'t': 2, 'ts': Timestamp(1505937813, 2)},\n",
       " 'updatedExisting': True}"
      ]
     },
     "metadata": {},
     "output_type": "display_data"
    },
    {
     "data": {
      "text/plain": [
       "{'electionId': ObjectId('7fffffff0000000000000002'),\n",
       " 'n': 1,\n",
       " 'nModified': 1,\n",
       " 'ok': 1.0,\n",
       " 'opTime': {'t': 2, 'ts': Timestamp(1505937814, 1)},\n",
       " 'updatedExisting': True}"
      ]
     },
     "metadata": {},
     "output_type": "display_data"
    },
    {
     "data": {
      "text/plain": [
       "{'electionId': ObjectId('7fffffff0000000000000002'),\n",
       " 'n': 1,\n",
       " 'nModified': 1,\n",
       " 'ok': 1.0,\n",
       " 'opTime': {'t': 2, 'ts': Timestamp(1505937815, 1)},\n",
       " 'updatedExisting': True}"
      ]
     },
     "metadata": {},
     "output_type": "display_data"
    },
    {
     "data": {
      "text/plain": [
       "{'electionId': ObjectId('7fffffff0000000000000002'),\n",
       " 'n': 1,\n",
       " 'nModified': 1,\n",
       " 'ok': 1.0,\n",
       " 'opTime': {'t': 2, 'ts': Timestamp(1505937816, 1)},\n",
       " 'updatedExisting': True}"
      ]
     },
     "metadata": {},
     "output_type": "display_data"
    },
    {
     "data": {
      "text/plain": [
       "{'electionId': ObjectId('7fffffff0000000000000002'),\n",
       " 'n': 1,\n",
       " 'nModified': 1,\n",
       " 'ok': 1.0,\n",
       " 'opTime': {'t': 2, 'ts': Timestamp(1505937816, 2)},\n",
       " 'updatedExisting': True}"
      ]
     },
     "metadata": {},
     "output_type": "display_data"
    },
    {
     "data": {
      "text/plain": [
       "{'electionId': ObjectId('7fffffff0000000000000002'),\n",
       " 'n': 1,\n",
       " 'nModified': 1,\n",
       " 'ok': 1.0,\n",
       " 'opTime': {'t': 2, 'ts': Timestamp(1505937817, 1)},\n",
       " 'updatedExisting': True}"
      ]
     },
     "metadata": {},
     "output_type": "display_data"
    },
    {
     "data": {
      "text/plain": [
       "{'electionId': ObjectId('7fffffff0000000000000002'),\n",
       " 'n': 1,\n",
       " 'nModified': 1,\n",
       " 'ok': 1.0,\n",
       " 'opTime': {'t': 2, 'ts': Timestamp(1505937818, 1)},\n",
       " 'updatedExisting': True}"
      ]
     },
     "metadata": {},
     "output_type": "display_data"
    },
    {
     "data": {
      "text/plain": [
       "{'electionId': ObjectId('7fffffff0000000000000002'),\n",
       " 'n': 1,\n",
       " 'nModified': 1,\n",
       " 'ok': 1.0,\n",
       " 'opTime': {'t': 2, 'ts': Timestamp(1505937818, 2)},\n",
       " 'updatedExisting': True}"
      ]
     },
     "metadata": {},
     "output_type": "display_data"
    },
    {
     "data": {
      "text/plain": [
       "{'electionId': ObjectId('7fffffff0000000000000002'),\n",
       " 'n': 1,\n",
       " 'nModified': 1,\n",
       " 'ok': 1.0,\n",
       " 'opTime': {'t': 2, 'ts': Timestamp(1505937819, 1)},\n",
       " 'updatedExisting': True}"
      ]
     },
     "metadata": {},
     "output_type": "display_data"
    },
    {
     "data": {
      "text/plain": [
       "{'electionId': ObjectId('7fffffff0000000000000002'),\n",
       " 'n': 1,\n",
       " 'nModified': 1,\n",
       " 'ok': 1.0,\n",
       " 'opTime': {'t': 2, 'ts': Timestamp(1505937820, 1)},\n",
       " 'updatedExisting': True}"
      ]
     },
     "metadata": {},
     "output_type": "display_data"
    },
    {
     "data": {
      "text/plain": [
       "{'electionId': ObjectId('7fffffff0000000000000002'),\n",
       " 'n': 1,\n",
       " 'nModified': 1,\n",
       " 'ok': 1.0,\n",
       " 'opTime': {'t': 2, 'ts': Timestamp(1505937821, 1)},\n",
       " 'updatedExisting': True}"
      ]
     },
     "metadata": {},
     "output_type": "display_data"
    },
    {
     "data": {
      "text/plain": [
       "{'electionId': ObjectId('7fffffff0000000000000002'),\n",
       " 'n': 1,\n",
       " 'nModified': 1,\n",
       " 'ok': 1.0,\n",
       " 'opTime': {'t': 2, 'ts': Timestamp(1505937822, 1)},\n",
       " 'updatedExisting': True}"
      ]
     },
     "metadata": {},
     "output_type": "display_data"
    },
    {
     "data": {
      "text/plain": [
       "{'electionId': ObjectId('7fffffff0000000000000002'),\n",
       " 'n': 1,\n",
       " 'nModified': 1,\n",
       " 'ok': 1.0,\n",
       " 'opTime': {'t': 2, 'ts': Timestamp(1505937823, 1)},\n",
       " 'updatedExisting': True}"
      ]
     },
     "metadata": {},
     "output_type": "display_data"
    },
    {
     "data": {
      "text/plain": [
       "{'electionId': ObjectId('7fffffff0000000000000002'),\n",
       " 'n': 1,\n",
       " 'nModified': 1,\n",
       " 'ok': 1.0,\n",
       " 'opTime': {'t': 2, 'ts': Timestamp(1505937824, 1)},\n",
       " 'updatedExisting': True}"
      ]
     },
     "metadata": {},
     "output_type": "display_data"
    },
    {
     "data": {
      "text/plain": [
       "{'electionId': ObjectId('7fffffff0000000000000002'),\n",
       " 'n': 1,\n",
       " 'nModified': 1,\n",
       " 'ok': 1.0,\n",
       " 'opTime': {'t': 2, 'ts': Timestamp(1505937825, 1)},\n",
       " 'updatedExisting': True}"
      ]
     },
     "metadata": {},
     "output_type": "display_data"
    },
    {
     "data": {
      "text/plain": [
       "{'electionId': ObjectId('7fffffff0000000000000002'),\n",
       " 'n': 1,\n",
       " 'nModified': 1,\n",
       " 'ok': 1.0,\n",
       " 'opTime': {'t': 2, 'ts': Timestamp(1505937826, 1)},\n",
       " 'updatedExisting': True}"
      ]
     },
     "metadata": {},
     "output_type": "display_data"
    },
    {
     "data": {
      "text/plain": [
       "{'electionId': ObjectId('7fffffff0000000000000002'),\n",
       " 'n': 1,\n",
       " 'nModified': 1,\n",
       " 'ok': 1.0,\n",
       " 'opTime': {'t': 2, 'ts': Timestamp(1505937827, 1)},\n",
       " 'updatedExisting': True}"
      ]
     },
     "metadata": {},
     "output_type": "display_data"
    },
    {
     "data": {
      "text/plain": [
       "{'electionId': ObjectId('7fffffff0000000000000002'),\n",
       " 'n': 1,\n",
       " 'nModified': 1,\n",
       " 'ok': 1.0,\n",
       " 'opTime': {'t': 2, 'ts': Timestamp(1505937828, 1)},\n",
       " 'updatedExisting': True}"
      ]
     },
     "metadata": {},
     "output_type": "display_data"
    },
    {
     "data": {
      "text/plain": [
       "{'electionId': ObjectId('7fffffff0000000000000002'),\n",
       " 'n': 1,\n",
       " 'nModified': 1,\n",
       " 'ok': 1.0,\n",
       " 'opTime': {'t': 2, 'ts': Timestamp(1505937828, 2)},\n",
       " 'updatedExisting': True}"
      ]
     },
     "metadata": {},
     "output_type": "display_data"
    },
    {
     "data": {
      "text/plain": [
       "{'electionId': ObjectId('7fffffff0000000000000002'),\n",
       " 'n': 1,\n",
       " 'nModified': 1,\n",
       " 'ok': 1.0,\n",
       " 'opTime': {'t': 2, 'ts': Timestamp(1505937829, 1)},\n",
       " 'updatedExisting': True}"
      ]
     },
     "metadata": {},
     "output_type": "display_data"
    },
    {
     "data": {
      "text/plain": [
       "{'electionId': ObjectId('7fffffff0000000000000002'),\n",
       " 'n': 1,\n",
       " 'nModified': 1,\n",
       " 'ok': 1.0,\n",
       " 'opTime': {'t': 2, 'ts': Timestamp(1505937829, 2)},\n",
       " 'updatedExisting': True}"
      ]
     },
     "metadata": {},
     "output_type": "display_data"
    },
    {
     "data": {
      "text/plain": [
       "{'electionId': ObjectId('7fffffff0000000000000002'),\n",
       " 'n': 1,\n",
       " 'nModified': 1,\n",
       " 'ok': 1.0,\n",
       " 'opTime': {'t': 2, 'ts': Timestamp(1505937829, 3)},\n",
       " 'updatedExisting': True}"
      ]
     },
     "metadata": {},
     "output_type": "display_data"
    },
    {
     "data": {
      "text/plain": [
       "{'electionId': ObjectId('7fffffff0000000000000002'),\n",
       " 'n': 1,\n",
       " 'nModified': 1,\n",
       " 'ok': 1.0,\n",
       " 'opTime': {'t': 2, 'ts': Timestamp(1505937830, 1)},\n",
       " 'updatedExisting': True}"
      ]
     },
     "metadata": {},
     "output_type": "display_data"
    },
    {
     "data": {
      "text/plain": [
       "{'electionId': ObjectId('7fffffff0000000000000002'),\n",
       " 'n': 1,\n",
       " 'nModified': 1,\n",
       " 'ok': 1.0,\n",
       " 'opTime': {'t': 2, 'ts': Timestamp(1505937830, 2)},\n",
       " 'updatedExisting': True}"
      ]
     },
     "metadata": {},
     "output_type": "display_data"
    },
    {
     "data": {
      "text/plain": [
       "{'electionId': ObjectId('7fffffff0000000000000002'),\n",
       " 'n': 1,\n",
       " 'nModified': 1,\n",
       " 'ok': 1.0,\n",
       " 'opTime': {'t': 2, 'ts': Timestamp(1505937831, 1)},\n",
       " 'updatedExisting': True}"
      ]
     },
     "metadata": {},
     "output_type": "display_data"
    },
    {
     "data": {
      "text/plain": [
       "{'electionId': ObjectId('7fffffff0000000000000002'),\n",
       " 'n': 1,\n",
       " 'nModified': 1,\n",
       " 'ok': 1.0,\n",
       " 'opTime': {'t': 2, 'ts': Timestamp(1505937832, 1)},\n",
       " 'updatedExisting': True}"
      ]
     },
     "metadata": {},
     "output_type": "display_data"
    },
    {
     "data": {
      "text/plain": [
       "{'electionId': ObjectId('7fffffff0000000000000002'),\n",
       " 'n': 1,\n",
       " 'nModified': 1,\n",
       " 'ok': 1.0,\n",
       " 'opTime': {'t': 2, 'ts': Timestamp(1505937833, 1)},\n",
       " 'updatedExisting': True}"
      ]
     },
     "metadata": {},
     "output_type": "display_data"
    },
    {
     "data": {
      "text/plain": [
       "{'electionId': ObjectId('7fffffff0000000000000002'),\n",
       " 'n': 1,\n",
       " 'nModified': 1,\n",
       " 'ok': 1.0,\n",
       " 'opTime': {'t': 2, 'ts': Timestamp(1505937834, 1)},\n",
       " 'updatedExisting': True}"
      ]
     },
     "metadata": {},
     "output_type": "display_data"
    },
    {
     "data": {
      "text/plain": [
       "{'electionId': ObjectId('7fffffff0000000000000002'),\n",
       " 'n': 1,\n",
       " 'nModified': 1,\n",
       " 'ok': 1.0,\n",
       " 'opTime': {'t': 2, 'ts': Timestamp(1505937834, 2)},\n",
       " 'updatedExisting': True}"
      ]
     },
     "metadata": {},
     "output_type": "display_data"
    },
    {
     "data": {
      "text/plain": [
       "{'electionId': ObjectId('7fffffff0000000000000002'),\n",
       " 'n': 1,\n",
       " 'nModified': 1,\n",
       " 'ok': 1.0,\n",
       " 'opTime': {'t': 2, 'ts': Timestamp(1505937835, 1)},\n",
       " 'updatedExisting': True}"
      ]
     },
     "metadata": {},
     "output_type": "display_data"
    },
    {
     "data": {
      "text/plain": [
       "{'electionId': ObjectId('7fffffff0000000000000002'),\n",
       " 'n': 1,\n",
       " 'nModified': 1,\n",
       " 'ok': 1.0,\n",
       " 'opTime': {'t': 2, 'ts': Timestamp(1505937836, 1)},\n",
       " 'updatedExisting': True}"
      ]
     },
     "metadata": {},
     "output_type": "display_data"
    },
    {
     "data": {
      "text/plain": [
       "{'electionId': ObjectId('7fffffff0000000000000002'),\n",
       " 'n': 1,\n",
       " 'nModified': 1,\n",
       " 'ok': 1.0,\n",
       " 'opTime': {'t': 2, 'ts': Timestamp(1505937837, 1)},\n",
       " 'updatedExisting': True}"
      ]
     },
     "metadata": {},
     "output_type": "display_data"
    },
    {
     "data": {
      "text/plain": [
       "{'electionId': ObjectId('7fffffff0000000000000002'),\n",
       " 'n': 1,\n",
       " 'nModified': 1,\n",
       " 'ok': 1.0,\n",
       " 'opTime': {'t': 2, 'ts': Timestamp(1505937837, 2)},\n",
       " 'updatedExisting': True}"
      ]
     },
     "metadata": {},
     "output_type": "display_data"
    },
    {
     "data": {
      "text/plain": [
       "{'electionId': ObjectId('7fffffff0000000000000002'),\n",
       " 'n': 1,\n",
       " 'nModified': 1,\n",
       " 'ok': 1.0,\n",
       " 'opTime': {'t': 2, 'ts': Timestamp(1505937838, 1)},\n",
       " 'updatedExisting': True}"
      ]
     },
     "metadata": {},
     "output_type": "display_data"
    },
    {
     "data": {
      "text/plain": [
       "{'electionId': ObjectId('7fffffff0000000000000002'),\n",
       " 'n': 1,\n",
       " 'nModified': 1,\n",
       " 'ok': 1.0,\n",
       " 'opTime': {'t': 2, 'ts': Timestamp(1505937839, 1)},\n",
       " 'updatedExisting': True}"
      ]
     },
     "metadata": {},
     "output_type": "display_data"
    },
    {
     "data": {
      "text/plain": [
       "{'electionId': ObjectId('7fffffff0000000000000002'),\n",
       " 'n': 1,\n",
       " 'nModified': 1,\n",
       " 'ok': 1.0,\n",
       " 'opTime': {'t': 2, 'ts': Timestamp(1505937840, 1)},\n",
       " 'updatedExisting': True}"
      ]
     },
     "metadata": {},
     "output_type": "display_data"
    },
    {
     "data": {
      "text/plain": [
       "{'electionId': ObjectId('7fffffff0000000000000002'),\n",
       " 'n': 1,\n",
       " 'nModified': 1,\n",
       " 'ok': 1.0,\n",
       " 'opTime': {'t': 2, 'ts': Timestamp(1505937842, 1)},\n",
       " 'updatedExisting': True}"
      ]
     },
     "metadata": {},
     "output_type": "display_data"
    },
    {
     "data": {
      "text/plain": [
       "{'electionId': ObjectId('7fffffff0000000000000002'),\n",
       " 'n': 1,\n",
       " 'nModified': 1,\n",
       " 'ok': 1.0,\n",
       " 'opTime': {'t': 2, 'ts': Timestamp(1505937843, 1)},\n",
       " 'updatedExisting': True}"
      ]
     },
     "metadata": {},
     "output_type": "display_data"
    },
    {
     "data": {
      "text/plain": [
       "{'electionId': ObjectId('7fffffff0000000000000002'),\n",
       " 'n': 1,\n",
       " 'nModified': 1,\n",
       " 'ok': 1.0,\n",
       " 'opTime': {'t': 2, 'ts': Timestamp(1505937844, 1)},\n",
       " 'updatedExisting': True}"
      ]
     },
     "metadata": {},
     "output_type": "display_data"
    },
    {
     "data": {
      "text/plain": [
       "{'electionId': ObjectId('7fffffff0000000000000002'),\n",
       " 'n': 1,\n",
       " 'nModified': 1,\n",
       " 'ok': 1.0,\n",
       " 'opTime': {'t': 2, 'ts': Timestamp(1505937845, 1)},\n",
       " 'updatedExisting': True}"
      ]
     },
     "metadata": {},
     "output_type": "display_data"
    },
    {
     "data": {
      "text/plain": [
       "{'electionId': ObjectId('7fffffff0000000000000002'),\n",
       " 'n': 1,\n",
       " 'nModified': 1,\n",
       " 'ok': 1.0,\n",
       " 'opTime': {'t': 2, 'ts': Timestamp(1505937845, 2)},\n",
       " 'updatedExisting': True}"
      ]
     },
     "metadata": {},
     "output_type": "display_data"
    },
    {
     "data": {
      "text/plain": [
       "{'electionId': ObjectId('7fffffff0000000000000002'),\n",
       " 'n': 1,\n",
       " 'nModified': 1,\n",
       " 'ok': 1.0,\n",
       " 'opTime': {'t': 2, 'ts': Timestamp(1505937846, 1)},\n",
       " 'updatedExisting': True}"
      ]
     },
     "metadata": {},
     "output_type": "display_data"
    },
    {
     "data": {
      "text/plain": [
       "{'electionId': ObjectId('7fffffff0000000000000002'),\n",
       " 'n': 1,\n",
       " 'nModified': 1,\n",
       " 'ok': 1.0,\n",
       " 'opTime': {'t': 2, 'ts': Timestamp(1505937848, 1)},\n",
       " 'updatedExisting': True}"
      ]
     },
     "metadata": {},
     "output_type": "display_data"
    },
    {
     "data": {
      "text/plain": [
       "{'electionId': ObjectId('7fffffff0000000000000002'),\n",
       " 'n': 1,\n",
       " 'nModified': 1,\n",
       " 'ok': 1.0,\n",
       " 'opTime': {'t': 2, 'ts': Timestamp(1505937849, 1)},\n",
       " 'updatedExisting': True}"
      ]
     },
     "metadata": {},
     "output_type": "display_data"
    },
    {
     "data": {
      "text/plain": [
       "{'electionId': ObjectId('7fffffff0000000000000002'),\n",
       " 'n': 1,\n",
       " 'nModified': 1,\n",
       " 'ok': 1.0,\n",
       " 'opTime': {'t': 2, 'ts': Timestamp(1505937849, 2)},\n",
       " 'updatedExisting': True}"
      ]
     },
     "metadata": {},
     "output_type": "display_data"
    },
    {
     "data": {
      "text/plain": [
       "{'electionId': ObjectId('7fffffff0000000000000002'),\n",
       " 'n': 1,\n",
       " 'nModified': 1,\n",
       " 'ok': 1.0,\n",
       " 'opTime': {'t': 2, 'ts': Timestamp(1505937850, 1)},\n",
       " 'updatedExisting': True}"
      ]
     },
     "metadata": {},
     "output_type": "display_data"
    },
    {
     "data": {
      "text/plain": [
       "{'electionId': ObjectId('7fffffff0000000000000002'),\n",
       " 'n': 1,\n",
       " 'nModified': 1,\n",
       " 'ok': 1.0,\n",
       " 'opTime': {'t': 2, 'ts': Timestamp(1505937851, 1)},\n",
       " 'updatedExisting': True}"
      ]
     },
     "metadata": {},
     "output_type": "display_data"
    },
    {
     "data": {
      "text/plain": [
       "{'electionId': ObjectId('7fffffff0000000000000002'),\n",
       " 'n': 1,\n",
       " 'nModified': 1,\n",
       " 'ok': 1.0,\n",
       " 'opTime': {'t': 2, 'ts': Timestamp(1505937852, 1)},\n",
       " 'updatedExisting': True}"
      ]
     },
     "metadata": {},
     "output_type": "display_data"
    },
    {
     "data": {
      "text/plain": [
       "{'electionId': ObjectId('7fffffff0000000000000002'),\n",
       " 'n': 1,\n",
       " 'nModified': 1,\n",
       " 'ok': 1.0,\n",
       " 'opTime': {'t': 2, 'ts': Timestamp(1505937852, 2)},\n",
       " 'updatedExisting': True}"
      ]
     },
     "metadata": {},
     "output_type": "display_data"
    },
    {
     "data": {
      "text/plain": [
       "{'electionId': ObjectId('7fffffff0000000000000002'),\n",
       " 'n': 1,\n",
       " 'nModified': 1,\n",
       " 'ok': 1.0,\n",
       " 'opTime': {'t': 2, 'ts': Timestamp(1505937853, 1)},\n",
       " 'updatedExisting': True}"
      ]
     },
     "metadata": {},
     "output_type": "display_data"
    },
    {
     "data": {
      "text/plain": [
       "{'electionId': ObjectId('7fffffff0000000000000002'),\n",
       " 'n': 1,\n",
       " 'nModified': 1,\n",
       " 'ok': 1.0,\n",
       " 'opTime': {'t': 2, 'ts': Timestamp(1505937854, 1)},\n",
       " 'updatedExisting': True}"
      ]
     },
     "metadata": {},
     "output_type": "display_data"
    },
    {
     "data": {
      "text/plain": [
       "{'electionId': ObjectId('7fffffff0000000000000002'),\n",
       " 'n': 1,\n",
       " 'nModified': 1,\n",
       " 'ok': 1.0,\n",
       " 'opTime': {'t': 2, 'ts': Timestamp(1505937855, 1)},\n",
       " 'updatedExisting': True}"
      ]
     },
     "metadata": {},
     "output_type": "display_data"
    },
    {
     "data": {
      "text/plain": [
       "{'electionId': ObjectId('7fffffff0000000000000002'),\n",
       " 'n': 1,\n",
       " 'nModified': 1,\n",
       " 'ok': 1.0,\n",
       " 'opTime': {'t': 2, 'ts': Timestamp(1505937855, 2)},\n",
       " 'updatedExisting': True}"
      ]
     },
     "metadata": {},
     "output_type": "display_data"
    },
    {
     "data": {
      "text/plain": [
       "{'electionId': ObjectId('7fffffff0000000000000002'),\n",
       " 'n': 1,\n",
       " 'nModified': 1,\n",
       " 'ok': 1.0,\n",
       " 'opTime': {'t': 2, 'ts': Timestamp(1505937856, 1)},\n",
       " 'updatedExisting': True}"
      ]
     },
     "metadata": {},
     "output_type": "display_data"
    },
    {
     "data": {
      "text/plain": [
       "{'electionId': ObjectId('7fffffff0000000000000002'),\n",
       " 'n': 1,\n",
       " 'nModified': 1,\n",
       " 'ok': 1.0,\n",
       " 'opTime': {'t': 2, 'ts': Timestamp(1505937858, 1)},\n",
       " 'updatedExisting': True}"
      ]
     },
     "metadata": {},
     "output_type": "display_data"
    },
    {
     "data": {
      "text/plain": [
       "{'electionId': ObjectId('7fffffff0000000000000002'),\n",
       " 'n': 1,\n",
       " 'nModified': 1,\n",
       " 'ok': 1.0,\n",
       " 'opTime': {'t': 2, 'ts': Timestamp(1505937859, 1)},\n",
       " 'updatedExisting': True}"
      ]
     },
     "metadata": {},
     "output_type": "display_data"
    },
    {
     "data": {
      "text/plain": [
       "{'electionId': ObjectId('7fffffff0000000000000002'),\n",
       " 'n': 1,\n",
       " 'nModified': 1,\n",
       " 'ok': 1.0,\n",
       " 'opTime': {'t': 2, 'ts': Timestamp(1505937859, 2)},\n",
       " 'updatedExisting': True}"
      ]
     },
     "metadata": {},
     "output_type": "display_data"
    },
    {
     "data": {
      "text/plain": [
       "{'electionId': ObjectId('7fffffff0000000000000002'),\n",
       " 'n': 1,\n",
       " 'nModified': 1,\n",
       " 'ok': 1.0,\n",
       " 'opTime': {'t': 2, 'ts': Timestamp(1505937860, 1)},\n",
       " 'updatedExisting': True}"
      ]
     },
     "metadata": {},
     "output_type": "display_data"
    },
    {
     "data": {
      "text/plain": [
       "{'electionId': ObjectId('7fffffff0000000000000002'),\n",
       " 'n': 1,\n",
       " 'nModified': 1,\n",
       " 'ok': 1.0,\n",
       " 'opTime': {'t': 2, 'ts': Timestamp(1505937861, 1)},\n",
       " 'updatedExisting': True}"
      ]
     },
     "metadata": {},
     "output_type": "display_data"
    },
    {
     "data": {
      "text/plain": [
       "{'electionId': ObjectId('7fffffff0000000000000002'),\n",
       " 'n': 1,\n",
       " 'nModified': 1,\n",
       " 'ok': 1.0,\n",
       " 'opTime': {'t': 2, 'ts': Timestamp(1505937862, 1)},\n",
       " 'updatedExisting': True}"
      ]
     },
     "metadata": {},
     "output_type": "display_data"
    },
    {
     "data": {
      "text/plain": [
       "{'electionId': ObjectId('7fffffff0000000000000002'),\n",
       " 'n': 1,\n",
       " 'nModified': 1,\n",
       " 'ok': 1.0,\n",
       " 'opTime': {'t': 2, 'ts': Timestamp(1505937863, 1)},\n",
       " 'updatedExisting': True}"
      ]
     },
     "metadata": {},
     "output_type": "display_data"
    },
    {
     "data": {
      "text/plain": [
       "{'electionId': ObjectId('7fffffff0000000000000002'),\n",
       " 'n': 1,\n",
       " 'nModified': 1,\n",
       " 'ok': 1.0,\n",
       " 'opTime': {'t': 2, 'ts': Timestamp(1505937864, 1)},\n",
       " 'updatedExisting': True}"
      ]
     },
     "metadata": {},
     "output_type": "display_data"
    },
    {
     "data": {
      "text/plain": [
       "{'electionId': ObjectId('7fffffff0000000000000002'),\n",
       " 'n': 1,\n",
       " 'nModified': 1,\n",
       " 'ok': 1.0,\n",
       " 'opTime': {'t': 2, 'ts': Timestamp(1505937865, 1)},\n",
       " 'updatedExisting': True}"
      ]
     },
     "metadata": {},
     "output_type": "display_data"
    },
    {
     "data": {
      "text/plain": [
       "{'electionId': ObjectId('7fffffff0000000000000002'),\n",
       " 'n': 1,\n",
       " 'nModified': 1,\n",
       " 'ok': 1.0,\n",
       " 'opTime': {'t': 2, 'ts': Timestamp(1505937866, 1)},\n",
       " 'updatedExisting': True}"
      ]
     },
     "metadata": {},
     "output_type": "display_data"
    },
    {
     "data": {
      "text/plain": [
       "{'electionId': ObjectId('7fffffff0000000000000002'),\n",
       " 'n': 1,\n",
       " 'nModified': 1,\n",
       " 'ok': 1.0,\n",
       " 'opTime': {'t': 2, 'ts': Timestamp(1505937866, 2)},\n",
       " 'updatedExisting': True}"
      ]
     },
     "metadata": {},
     "output_type": "display_data"
    },
    {
     "data": {
      "text/plain": [
       "{'electionId': ObjectId('7fffffff0000000000000002'),\n",
       " 'n': 1,\n",
       " 'nModified': 1,\n",
       " 'ok': 1.0,\n",
       " 'opTime': {'t': 2, 'ts': Timestamp(1505937867, 1)},\n",
       " 'updatedExisting': True}"
      ]
     },
     "metadata": {},
     "output_type": "display_data"
    },
    {
     "data": {
      "text/plain": [
       "{'electionId': ObjectId('7fffffff0000000000000002'),\n",
       " 'n': 1,\n",
       " 'nModified': 1,\n",
       " 'ok': 1.0,\n",
       " 'opTime': {'t': 2, 'ts': Timestamp(1505937868, 1)},\n",
       " 'updatedExisting': True}"
      ]
     },
     "metadata": {},
     "output_type": "display_data"
    },
    {
     "data": {
      "text/plain": [
       "{'electionId': ObjectId('7fffffff0000000000000002'),\n",
       " 'n': 1,\n",
       " 'nModified': 1,\n",
       " 'ok': 1.0,\n",
       " 'opTime': {'t': 2, 'ts': Timestamp(1505937868, 2)},\n",
       " 'updatedExisting': True}"
      ]
     },
     "metadata": {},
     "output_type": "display_data"
    },
    {
     "data": {
      "text/plain": [
       "{'electionId': ObjectId('7fffffff0000000000000002'),\n",
       " 'n': 1,\n",
       " 'nModified': 1,\n",
       " 'ok': 1.0,\n",
       " 'opTime': {'t': 2, 'ts': Timestamp(1505937869, 1)},\n",
       " 'updatedExisting': True}"
      ]
     },
     "metadata": {},
     "output_type": "display_data"
    },
    {
     "data": {
      "text/plain": [
       "{'electionId': ObjectId('7fffffff0000000000000002'),\n",
       " 'n': 1,\n",
       " 'nModified': 1,\n",
       " 'ok': 1.0,\n",
       " 'opTime': {'t': 2, 'ts': Timestamp(1505937870, 1)},\n",
       " 'updatedExisting': True}"
      ]
     },
     "metadata": {},
     "output_type": "display_data"
    },
    {
     "data": {
      "text/plain": [
       "{'electionId': ObjectId('7fffffff0000000000000002'),\n",
       " 'n': 1,\n",
       " 'nModified': 1,\n",
       " 'ok': 1.0,\n",
       " 'opTime': {'t': 2, 'ts': Timestamp(1505937871, 1)},\n",
       " 'updatedExisting': True}"
      ]
     },
     "metadata": {},
     "output_type": "display_data"
    },
    {
     "data": {
      "text/plain": [
       "{'electionId': ObjectId('7fffffff0000000000000002'),\n",
       " 'n': 1,\n",
       " 'nModified': 1,\n",
       " 'ok': 1.0,\n",
       " 'opTime': {'t': 2, 'ts': Timestamp(1505937872, 1)},\n",
       " 'updatedExisting': True}"
      ]
     },
     "metadata": {},
     "output_type": "display_data"
    },
    {
     "data": {
      "text/plain": [
       "{'electionId': ObjectId('7fffffff0000000000000002'),\n",
       " 'n': 1,\n",
       " 'nModified': 1,\n",
       " 'ok': 1.0,\n",
       " 'opTime': {'t': 2, 'ts': Timestamp(1505937873, 1)},\n",
       " 'updatedExisting': True}"
      ]
     },
     "metadata": {},
     "output_type": "display_data"
    },
    {
     "data": {
      "text/plain": [
       "{'electionId': ObjectId('7fffffff0000000000000002'),\n",
       " 'n': 1,\n",
       " 'nModified': 1,\n",
       " 'ok': 1.0,\n",
       " 'opTime': {'t': 2, 'ts': Timestamp(1505937874, 1)},\n",
       " 'updatedExisting': True}"
      ]
     },
     "metadata": {},
     "output_type": "display_data"
    },
    {
     "data": {
      "text/plain": [
       "{'electionId': ObjectId('7fffffff0000000000000002'),\n",
       " 'n': 1,\n",
       " 'nModified': 1,\n",
       " 'ok': 1.0,\n",
       " 'opTime': {'t': 2, 'ts': Timestamp(1505937875, 1)},\n",
       " 'updatedExisting': True}"
      ]
     },
     "metadata": {},
     "output_type": "display_data"
    },
    {
     "data": {
      "text/plain": [
       "{'electionId': ObjectId('7fffffff0000000000000002'),\n",
       " 'n': 1,\n",
       " 'nModified': 1,\n",
       " 'ok': 1.0,\n",
       " 'opTime': {'t': 2, 'ts': Timestamp(1505937876, 1)},\n",
       " 'updatedExisting': True}"
      ]
     },
     "metadata": {},
     "output_type": "display_data"
    },
    {
     "data": {
      "text/plain": [
       "{'electionId': ObjectId('7fffffff0000000000000002'),\n",
       " 'n': 1,\n",
       " 'nModified': 1,\n",
       " 'ok': 1.0,\n",
       " 'opTime': {'t': 2, 'ts': Timestamp(1505937877, 1)},\n",
       " 'updatedExisting': True}"
      ]
     },
     "metadata": {},
     "output_type": "display_data"
    },
    {
     "data": {
      "text/plain": [
       "{'electionId': ObjectId('7fffffff0000000000000002'),\n",
       " 'n': 1,\n",
       " 'nModified': 1,\n",
       " 'ok': 1.0,\n",
       " 'opTime': {'t': 2, 'ts': Timestamp(1505937877, 2)},\n",
       " 'updatedExisting': True}"
      ]
     },
     "metadata": {},
     "output_type": "display_data"
    },
    {
     "data": {
      "text/plain": [
       "{'electionId': ObjectId('7fffffff0000000000000002'),\n",
       " 'n': 1,\n",
       " 'nModified': 1,\n",
       " 'ok': 1.0,\n",
       " 'opTime': {'t': 2, 'ts': Timestamp(1505937878, 1)},\n",
       " 'updatedExisting': True}"
      ]
     },
     "metadata": {},
     "output_type": "display_data"
    },
    {
     "data": {
      "text/plain": [
       "{'electionId': ObjectId('7fffffff0000000000000002'),\n",
       " 'n': 1,\n",
       " 'nModified': 1,\n",
       " 'ok': 1.0,\n",
       " 'opTime': {'t': 2, 'ts': Timestamp(1505937879, 1)},\n",
       " 'updatedExisting': True}"
      ]
     },
     "metadata": {},
     "output_type": "display_data"
    },
    {
     "data": {
      "text/plain": [
       "{'electionId': ObjectId('7fffffff0000000000000002'),\n",
       " 'n': 1,\n",
       " 'nModified': 1,\n",
       " 'ok': 1.0,\n",
       " 'opTime': {'t': 2, 'ts': Timestamp(1505937880, 1)},\n",
       " 'updatedExisting': True}"
      ]
     },
     "metadata": {},
     "output_type": "display_data"
    },
    {
     "data": {
      "text/plain": [
       "{'electionId': ObjectId('7fffffff0000000000000002'),\n",
       " 'n': 1,\n",
       " 'nModified': 1,\n",
       " 'ok': 1.0,\n",
       " 'opTime': {'t': 2, 'ts': Timestamp(1505937883, 1)},\n",
       " 'updatedExisting': True}"
      ]
     },
     "metadata": {},
     "output_type": "display_data"
    },
    {
     "data": {
      "text/plain": [
       "{'electionId': ObjectId('7fffffff0000000000000002'),\n",
       " 'n': 1,\n",
       " 'nModified': 1,\n",
       " 'ok': 1.0,\n",
       " 'opTime': {'t': 2, 'ts': Timestamp(1505937884, 1)},\n",
       " 'updatedExisting': True}"
      ]
     },
     "metadata": {},
     "output_type": "display_data"
    },
    {
     "data": {
      "text/plain": [
       "{'electionId': ObjectId('7fffffff0000000000000002'),\n",
       " 'n': 1,\n",
       " 'nModified': 1,\n",
       " 'ok': 1.0,\n",
       " 'opTime': {'t': 2, 'ts': Timestamp(1505937885, 1)},\n",
       " 'updatedExisting': True}"
      ]
     },
     "metadata": {},
     "output_type": "display_data"
    },
    {
     "data": {
      "text/plain": [
       "{'electionId': ObjectId('7fffffff0000000000000002'),\n",
       " 'n': 1,\n",
       " 'nModified': 1,\n",
       " 'ok': 1.0,\n",
       " 'opTime': {'t': 2, 'ts': Timestamp(1505937886, 1)},\n",
       " 'updatedExisting': True}"
      ]
     },
     "metadata": {},
     "output_type": "display_data"
    },
    {
     "data": {
      "text/plain": [
       "{'electionId': ObjectId('7fffffff0000000000000002'),\n",
       " 'n': 1,\n",
       " 'nModified': 1,\n",
       " 'ok': 1.0,\n",
       " 'opTime': {'t': 2, 'ts': Timestamp(1505937887, 1)},\n",
       " 'updatedExisting': True}"
      ]
     },
     "metadata": {},
     "output_type": "display_data"
    },
    {
     "data": {
      "text/plain": [
       "{'electionId': ObjectId('7fffffff0000000000000002'),\n",
       " 'n': 1,\n",
       " 'nModified': 1,\n",
       " 'ok': 1.0,\n",
       " 'opTime': {'t': 2, 'ts': Timestamp(1505937888, 1)},\n",
       " 'updatedExisting': True}"
      ]
     },
     "metadata": {},
     "output_type": "display_data"
    },
    {
     "data": {
      "text/plain": [
       "{'electionId': ObjectId('7fffffff0000000000000002'),\n",
       " 'n': 1,\n",
       " 'nModified': 1,\n",
       " 'ok': 1.0,\n",
       " 'opTime': {'t': 2, 'ts': Timestamp(1505937889, 1)},\n",
       " 'updatedExisting': True}"
      ]
     },
     "metadata": {},
     "output_type": "display_data"
    },
    {
     "data": {
      "text/plain": [
       "{'electionId': ObjectId('7fffffff0000000000000002'),\n",
       " 'n': 1,\n",
       " 'nModified': 1,\n",
       " 'ok': 1.0,\n",
       " 'opTime': {'t': 2, 'ts': Timestamp(1505937891, 1)},\n",
       " 'updatedExisting': True}"
      ]
     },
     "metadata": {},
     "output_type": "display_data"
    },
    {
     "data": {
      "text/plain": [
       "{'electionId': ObjectId('7fffffff0000000000000002'),\n",
       " 'n': 1,\n",
       " 'nModified': 1,\n",
       " 'ok': 1.0,\n",
       " 'opTime': {'t': 2, 'ts': Timestamp(1505937893, 1)},\n",
       " 'updatedExisting': True}"
      ]
     },
     "metadata": {},
     "output_type": "display_data"
    },
    {
     "data": {
      "text/plain": [
       "{'electionId': ObjectId('7fffffff0000000000000002'),\n",
       " 'n': 1,\n",
       " 'nModified': 1,\n",
       " 'ok': 1.0,\n",
       " 'opTime': {'t': 2, 'ts': Timestamp(1505937895, 1)},\n",
       " 'updatedExisting': True}"
      ]
     },
     "metadata": {},
     "output_type": "display_data"
    },
    {
     "data": {
      "text/plain": [
       "{'electionId': ObjectId('7fffffff0000000000000002'),\n",
       " 'n': 1,\n",
       " 'nModified': 1,\n",
       " 'ok': 1.0,\n",
       " 'opTime': {'t': 2, 'ts': Timestamp(1505937897, 1)},\n",
       " 'updatedExisting': True}"
      ]
     },
     "metadata": {},
     "output_type": "display_data"
    },
    {
     "data": {
      "text/plain": [
       "{'electionId': ObjectId('7fffffff0000000000000002'),\n",
       " 'n': 1,\n",
       " 'nModified': 1,\n",
       " 'ok': 1.0,\n",
       " 'opTime': {'t': 2, 'ts': Timestamp(1505937898, 1)},\n",
       " 'updatedExisting': True}"
      ]
     },
     "metadata": {},
     "output_type": "display_data"
    },
    {
     "data": {
      "text/plain": [
       "{'electionId': ObjectId('7fffffff0000000000000002'),\n",
       " 'n': 1,\n",
       " 'nModified': 1,\n",
       " 'ok': 1.0,\n",
       " 'opTime': {'t': 2, 'ts': Timestamp(1505937899, 1)},\n",
       " 'updatedExisting': True}"
      ]
     },
     "metadata": {},
     "output_type": "display_data"
    },
    {
     "data": {
      "text/plain": [
       "{'electionId': ObjectId('7fffffff0000000000000002'),\n",
       " 'n': 1,\n",
       " 'nModified': 1,\n",
       " 'ok': 1.0,\n",
       " 'opTime': {'t': 2, 'ts': Timestamp(1505937901, 1)},\n",
       " 'updatedExisting': True}"
      ]
     },
     "metadata": {},
     "output_type": "display_data"
    },
    {
     "data": {
      "text/plain": [
       "{'electionId': ObjectId('7fffffff0000000000000002'),\n",
       " 'n': 1,\n",
       " 'nModified': 1,\n",
       " 'ok': 1.0,\n",
       " 'opTime': {'t': 2, 'ts': Timestamp(1505937902, 1)},\n",
       " 'updatedExisting': True}"
      ]
     },
     "metadata": {},
     "output_type": "display_data"
    },
    {
     "data": {
      "text/plain": [
       "{'electionId': ObjectId('7fffffff0000000000000002'),\n",
       " 'n': 1,\n",
       " 'nModified': 1,\n",
       " 'ok': 1.0,\n",
       " 'opTime': {'t': 2, 'ts': Timestamp(1505937903, 1)},\n",
       " 'updatedExisting': True}"
      ]
     },
     "metadata": {},
     "output_type": "display_data"
    },
    {
     "data": {
      "text/plain": [
       "{'electionId': ObjectId('7fffffff0000000000000002'),\n",
       " 'n': 1,\n",
       " 'nModified': 1,\n",
       " 'ok': 1.0,\n",
       " 'opTime': {'t': 2, 'ts': Timestamp(1505937904, 1)},\n",
       " 'updatedExisting': True}"
      ]
     },
     "metadata": {},
     "output_type": "display_data"
    },
    {
     "data": {
      "text/plain": [
       "{'electionId': ObjectId('7fffffff0000000000000002'),\n",
       " 'n': 1,\n",
       " 'nModified': 1,\n",
       " 'ok': 1.0,\n",
       " 'opTime': {'t': 2, 'ts': Timestamp(1505937905, 1)},\n",
       " 'updatedExisting': True}"
      ]
     },
     "metadata": {},
     "output_type": "display_data"
    },
    {
     "data": {
      "text/plain": [
       "{'electionId': ObjectId('7fffffff0000000000000002'),\n",
       " 'n': 1,\n",
       " 'nModified': 1,\n",
       " 'ok': 1.0,\n",
       " 'opTime': {'t': 2, 'ts': Timestamp(1505937906, 1)},\n",
       " 'updatedExisting': True}"
      ]
     },
     "metadata": {},
     "output_type": "display_data"
    },
    {
     "data": {
      "text/plain": [
       "{'electionId': ObjectId('7fffffff0000000000000002'),\n",
       " 'n': 1,\n",
       " 'nModified': 1,\n",
       " 'ok': 1.0,\n",
       " 'opTime': {'t': 2, 'ts': Timestamp(1505937907, 1)},\n",
       " 'updatedExisting': True}"
      ]
     },
     "metadata": {},
     "output_type": "display_data"
    },
    {
     "data": {
      "text/plain": [
       "{'electionId': ObjectId('7fffffff0000000000000002'),\n",
       " 'n': 1,\n",
       " 'nModified': 1,\n",
       " 'ok': 1.0,\n",
       " 'opTime': {'t': 2, 'ts': Timestamp(1505937909, 1)},\n",
       " 'updatedExisting': True}"
      ]
     },
     "metadata": {},
     "output_type": "display_data"
    },
    {
     "data": {
      "text/plain": [
       "{'electionId': ObjectId('7fffffff0000000000000002'),\n",
       " 'n': 1,\n",
       " 'nModified': 1,\n",
       " 'ok': 1.0,\n",
       " 'opTime': {'t': 2, 'ts': Timestamp(1505937910, 1)},\n",
       " 'updatedExisting': True}"
      ]
     },
     "metadata": {},
     "output_type": "display_data"
    },
    {
     "data": {
      "text/plain": [
       "{'electionId': ObjectId('7fffffff0000000000000002'),\n",
       " 'n': 1,\n",
       " 'nModified': 1,\n",
       " 'ok': 1.0,\n",
       " 'opTime': {'t': 2, 'ts': Timestamp(1505937911, 1)},\n",
       " 'updatedExisting': True}"
      ]
     },
     "metadata": {},
     "output_type": "display_data"
    },
    {
     "data": {
      "text/plain": [
       "{'electionId': ObjectId('7fffffff0000000000000002'),\n",
       " 'n': 1,\n",
       " 'nModified': 1,\n",
       " 'ok': 1.0,\n",
       " 'opTime': {'t': 2, 'ts': Timestamp(1505937912, 1)},\n",
       " 'updatedExisting': True}"
      ]
     },
     "metadata": {},
     "output_type": "display_data"
    },
    {
     "data": {
      "text/plain": [
       "{'electionId': ObjectId('7fffffff0000000000000002'),\n",
       " 'n': 1,\n",
       " 'nModified': 1,\n",
       " 'ok': 1.0,\n",
       " 'opTime': {'t': 2, 'ts': Timestamp(1505937913, 1)},\n",
       " 'updatedExisting': True}"
      ]
     },
     "metadata": {},
     "output_type": "display_data"
    },
    {
     "data": {
      "text/plain": [
       "{'electionId': ObjectId('7fffffff0000000000000002'),\n",
       " 'n': 1,\n",
       " 'nModified': 1,\n",
       " 'ok': 1.0,\n",
       " 'opTime': {'t': 2, 'ts': Timestamp(1505937914, 1)},\n",
       " 'updatedExisting': True}"
      ]
     },
     "metadata": {},
     "output_type": "display_data"
    },
    {
     "data": {
      "text/plain": [
       "{'electionId': ObjectId('7fffffff0000000000000002'),\n",
       " 'n': 1,\n",
       " 'nModified': 1,\n",
       " 'ok': 1.0,\n",
       " 'opTime': {'t': 2, 'ts': Timestamp(1505937915, 1)},\n",
       " 'updatedExisting': True}"
      ]
     },
     "metadata": {},
     "output_type": "display_data"
    },
    {
     "data": {
      "text/plain": [
       "{'electionId': ObjectId('7fffffff0000000000000002'),\n",
       " 'n': 1,\n",
       " 'nModified': 1,\n",
       " 'ok': 1.0,\n",
       " 'opTime': {'t': 2, 'ts': Timestamp(1505937916, 1)},\n",
       " 'updatedExisting': True}"
      ]
     },
     "metadata": {},
     "output_type": "display_data"
    },
    {
     "data": {
      "text/plain": [
       "{'electionId': ObjectId('7fffffff0000000000000002'),\n",
       " 'n': 1,\n",
       " 'nModified': 1,\n",
       " 'ok': 1.0,\n",
       " 'opTime': {'t': 2, 'ts': Timestamp(1505937917, 1)},\n",
       " 'updatedExisting': True}"
      ]
     },
     "metadata": {},
     "output_type": "display_data"
    },
    {
     "data": {
      "text/plain": [
       "{'electionId': ObjectId('7fffffff0000000000000002'),\n",
       " 'n': 1,\n",
       " 'nModified': 1,\n",
       " 'ok': 1.0,\n",
       " 'opTime': {'t': 2, 'ts': Timestamp(1505937918, 1)},\n",
       " 'updatedExisting': True}"
      ]
     },
     "metadata": {},
     "output_type": "display_data"
    },
    {
     "data": {
      "text/plain": [
       "{'electionId': ObjectId('7fffffff0000000000000002'),\n",
       " 'n': 1,\n",
       " 'nModified': 1,\n",
       " 'ok': 1.0,\n",
       " 'opTime': {'t': 2, 'ts': Timestamp(1505937919, 1)},\n",
       " 'updatedExisting': True}"
      ]
     },
     "metadata": {},
     "output_type": "display_data"
    },
    {
     "data": {
      "text/plain": [
       "{'electionId': ObjectId('7fffffff0000000000000002'),\n",
       " 'n': 1,\n",
       " 'nModified': 1,\n",
       " 'ok': 1.0,\n",
       " 'opTime': {'t': 2, 'ts': Timestamp(1505937920, 1)},\n",
       " 'updatedExisting': True}"
      ]
     },
     "metadata": {},
     "output_type": "display_data"
    },
    {
     "data": {
      "text/plain": [
       "{'electionId': ObjectId('7fffffff0000000000000002'),\n",
       " 'n': 1,\n",
       " 'nModified': 1,\n",
       " 'ok': 1.0,\n",
       " 'opTime': {'t': 2, 'ts': Timestamp(1505937921, 1)},\n",
       " 'updatedExisting': True}"
      ]
     },
     "metadata": {},
     "output_type": "display_data"
    },
    {
     "data": {
      "text/plain": [
       "{'electionId': ObjectId('7fffffff0000000000000002'),\n",
       " 'n': 1,\n",
       " 'nModified': 1,\n",
       " 'ok': 1.0,\n",
       " 'opTime': {'t': 2, 'ts': Timestamp(1505937922, 1)},\n",
       " 'updatedExisting': True}"
      ]
     },
     "metadata": {},
     "output_type": "display_data"
    },
    {
     "data": {
      "text/plain": [
       "{'electionId': ObjectId('7fffffff0000000000000002'),\n",
       " 'n': 1,\n",
       " 'nModified': 1,\n",
       " 'ok': 1.0,\n",
       " 'opTime': {'t': 2, 'ts': Timestamp(1505937923, 1)},\n",
       " 'updatedExisting': True}"
      ]
     },
     "metadata": {},
     "output_type": "display_data"
    },
    {
     "data": {
      "text/plain": [
       "{'electionId': ObjectId('7fffffff0000000000000002'),\n",
       " 'n': 1,\n",
       " 'nModified': 1,\n",
       " 'ok': 1.0,\n",
       " 'opTime': {'t': 2, 'ts': Timestamp(1505937924, 1)},\n",
       " 'updatedExisting': True}"
      ]
     },
     "metadata": {},
     "output_type": "display_data"
    },
    {
     "data": {
      "text/plain": [
       "{'electionId': ObjectId('7fffffff0000000000000002'),\n",
       " 'n': 1,\n",
       " 'nModified': 1,\n",
       " 'ok': 1.0,\n",
       " 'opTime': {'t': 2, 'ts': Timestamp(1505937925, 1)},\n",
       " 'updatedExisting': True}"
      ]
     },
     "metadata": {},
     "output_type": "display_data"
    },
    {
     "data": {
      "text/plain": [
       "{'electionId': ObjectId('7fffffff0000000000000002'),\n",
       " 'n': 1,\n",
       " 'nModified': 1,\n",
       " 'ok': 1.0,\n",
       " 'opTime': {'t': 2, 'ts': Timestamp(1505937926, 1)},\n",
       " 'updatedExisting': True}"
      ]
     },
     "metadata": {},
     "output_type": "display_data"
    },
    {
     "data": {
      "text/plain": [
       "{'electionId': ObjectId('7fffffff0000000000000002'),\n",
       " 'n': 1,\n",
       " 'nModified': 1,\n",
       " 'ok': 1.0,\n",
       " 'opTime': {'t': 2, 'ts': Timestamp(1505937926, 2)},\n",
       " 'updatedExisting': True}"
      ]
     },
     "metadata": {},
     "output_type": "display_data"
    },
    {
     "data": {
      "text/plain": [
       "{'electionId': ObjectId('7fffffff0000000000000002'),\n",
       " 'n': 1,\n",
       " 'nModified': 1,\n",
       " 'ok': 1.0,\n",
       " 'opTime': {'t': 2, 'ts': Timestamp(1505937928, 1)},\n",
       " 'updatedExisting': True}"
      ]
     },
     "metadata": {},
     "output_type": "display_data"
    },
    {
     "data": {
      "text/plain": [
       "{'electionId': ObjectId('7fffffff0000000000000002'),\n",
       " 'n': 1,\n",
       " 'nModified': 1,\n",
       " 'ok': 1.0,\n",
       " 'opTime': {'t': 2, 'ts': Timestamp(1505937928, 2)},\n",
       " 'updatedExisting': True}"
      ]
     },
     "metadata": {},
     "output_type": "display_data"
    },
    {
     "data": {
      "text/plain": [
       "{'electionId': ObjectId('7fffffff0000000000000002'),\n",
       " 'n': 1,\n",
       " 'nModified': 1,\n",
       " 'ok': 1.0,\n",
       " 'opTime': {'t': 2, 'ts': Timestamp(1505937929, 1)},\n",
       " 'updatedExisting': True}"
      ]
     },
     "metadata": {},
     "output_type": "display_data"
    },
    {
     "data": {
      "text/plain": [
       "{'electionId': ObjectId('7fffffff0000000000000002'),\n",
       " 'n': 1,\n",
       " 'nModified': 1,\n",
       " 'ok': 1.0,\n",
       " 'opTime': {'t': 2, 'ts': Timestamp(1505937929, 2)},\n",
       " 'updatedExisting': True}"
      ]
     },
     "metadata": {},
     "output_type": "display_data"
    },
    {
     "data": {
      "text/plain": [
       "{'electionId': ObjectId('7fffffff0000000000000002'),\n",
       " 'n': 1,\n",
       " 'nModified': 1,\n",
       " 'ok': 1.0,\n",
       " 'opTime': {'t': 2, 'ts': Timestamp(1505937930, 1)},\n",
       " 'updatedExisting': True}"
      ]
     },
     "metadata": {},
     "output_type": "display_data"
    },
    {
     "data": {
      "text/plain": [
       "{'electionId': ObjectId('7fffffff0000000000000002'),\n",
       " 'n': 1,\n",
       " 'nModified': 1,\n",
       " 'ok': 1.0,\n",
       " 'opTime': {'t': 2, 'ts': Timestamp(1505937931, 1)},\n",
       " 'updatedExisting': True}"
      ]
     },
     "metadata": {},
     "output_type": "display_data"
    },
    {
     "data": {
      "text/plain": [
       "{'electionId': ObjectId('7fffffff0000000000000002'),\n",
       " 'n': 1,\n",
       " 'nModified': 1,\n",
       " 'ok': 1.0,\n",
       " 'opTime': {'t': 2, 'ts': Timestamp(1505937932, 1)},\n",
       " 'updatedExisting': True}"
      ]
     },
     "metadata": {},
     "output_type": "display_data"
    },
    {
     "data": {
      "text/plain": [
       "{'electionId': ObjectId('7fffffff0000000000000002'),\n",
       " 'n': 1,\n",
       " 'nModified': 1,\n",
       " 'ok': 1.0,\n",
       " 'opTime': {'t': 2, 'ts': Timestamp(1505937933, 1)},\n",
       " 'updatedExisting': True}"
      ]
     },
     "metadata": {},
     "output_type": "display_data"
    },
    {
     "data": {
      "text/plain": [
       "{'electionId': ObjectId('7fffffff0000000000000002'),\n",
       " 'n': 1,\n",
       " 'nModified': 1,\n",
       " 'ok': 1.0,\n",
       " 'opTime': {'t': 2, 'ts': Timestamp(1505937934, 1)},\n",
       " 'updatedExisting': True}"
      ]
     },
     "metadata": {},
     "output_type": "display_data"
    },
    {
     "data": {
      "text/plain": [
       "{'electionId': ObjectId('7fffffff0000000000000002'),\n",
       " 'n': 1,\n",
       " 'nModified': 1,\n",
       " 'ok': 1.0,\n",
       " 'opTime': {'t': 2, 'ts': Timestamp(1505937935, 1)},\n",
       " 'updatedExisting': True}"
      ]
     },
     "metadata": {},
     "output_type": "display_data"
    },
    {
     "data": {
      "text/plain": [
       "{'electionId': ObjectId('7fffffff0000000000000002'),\n",
       " 'n': 1,\n",
       " 'nModified': 1,\n",
       " 'ok': 1.0,\n",
       " 'opTime': {'t': 2, 'ts': Timestamp(1505937936, 1)},\n",
       " 'updatedExisting': True}"
      ]
     },
     "metadata": {},
     "output_type": "display_data"
    },
    {
     "data": {
      "text/plain": [
       "{'electionId': ObjectId('7fffffff0000000000000002'),\n",
       " 'n': 1,\n",
       " 'nModified': 1,\n",
       " 'ok': 1.0,\n",
       " 'opTime': {'t': 2, 'ts': Timestamp(1505937936, 2)},\n",
       " 'updatedExisting': True}"
      ]
     },
     "metadata": {},
     "output_type": "display_data"
    },
    {
     "data": {
      "text/plain": [
       "{'electionId': ObjectId('7fffffff0000000000000002'),\n",
       " 'n': 1,\n",
       " 'nModified': 1,\n",
       " 'ok': 1.0,\n",
       " 'opTime': {'t': 2, 'ts': Timestamp(1505937937, 1)},\n",
       " 'updatedExisting': True}"
      ]
     },
     "metadata": {},
     "output_type": "display_data"
    },
    {
     "data": {
      "text/plain": [
       "{'electionId': ObjectId('7fffffff0000000000000002'),\n",
       " 'n': 1,\n",
       " 'nModified': 1,\n",
       " 'ok': 1.0,\n",
       " 'opTime': {'t': 2, 'ts': Timestamp(1505937938, 1)},\n",
       " 'updatedExisting': True}"
      ]
     },
     "metadata": {},
     "output_type": "display_data"
    },
    {
     "data": {
      "text/plain": [
       "{'electionId': ObjectId('7fffffff0000000000000002'),\n",
       " 'n': 1,\n",
       " 'nModified': 1,\n",
       " 'ok': 1.0,\n",
       " 'opTime': {'t': 2, 'ts': Timestamp(1505937939, 1)},\n",
       " 'updatedExisting': True}"
      ]
     },
     "metadata": {},
     "output_type": "display_data"
    },
    {
     "data": {
      "text/plain": [
       "{'electionId': ObjectId('7fffffff0000000000000002'),\n",
       " 'n': 1,\n",
       " 'nModified': 1,\n",
       " 'ok': 1.0,\n",
       " 'opTime': {'t': 2, 'ts': Timestamp(1505937940, 1)},\n",
       " 'updatedExisting': True}"
      ]
     },
     "metadata": {},
     "output_type": "display_data"
    },
    {
     "data": {
      "text/plain": [
       "{'electionId': ObjectId('7fffffff0000000000000002'),\n",
       " 'n': 1,\n",
       " 'nModified': 1,\n",
       " 'ok': 1.0,\n",
       " 'opTime': {'t': 2, 'ts': Timestamp(1505937941, 1)},\n",
       " 'updatedExisting': True}"
      ]
     },
     "metadata": {},
     "output_type": "display_data"
    },
    {
     "data": {
      "text/plain": [
       "{'electionId': ObjectId('7fffffff0000000000000002'),\n",
       " 'n': 1,\n",
       " 'nModified': 1,\n",
       " 'ok': 1.0,\n",
       " 'opTime': {'t': 2, 'ts': Timestamp(1505937942, 1)},\n",
       " 'updatedExisting': True}"
      ]
     },
     "metadata": {},
     "output_type": "display_data"
    },
    {
     "data": {
      "text/plain": [
       "{'electionId': ObjectId('7fffffff0000000000000002'),\n",
       " 'n': 1,\n",
       " 'nModified': 1,\n",
       " 'ok': 1.0,\n",
       " 'opTime': {'t': 2, 'ts': Timestamp(1505937943, 1)},\n",
       " 'updatedExisting': True}"
      ]
     },
     "metadata": {},
     "output_type": "display_data"
    },
    {
     "data": {
      "text/plain": [
       "{'electionId': ObjectId('7fffffff0000000000000002'),\n",
       " 'n': 1,\n",
       " 'nModified': 1,\n",
       " 'ok': 1.0,\n",
       " 'opTime': {'t': 2, 'ts': Timestamp(1505937945, 1)},\n",
       " 'updatedExisting': True}"
      ]
     },
     "metadata": {},
     "output_type": "display_data"
    },
    {
     "data": {
      "text/plain": [
       "{'electionId': ObjectId('7fffffff0000000000000002'),\n",
       " 'n': 1,\n",
       " 'nModified': 1,\n",
       " 'ok': 1.0,\n",
       " 'opTime': {'t': 2, 'ts': Timestamp(1505937946, 1)},\n",
       " 'updatedExisting': True}"
      ]
     },
     "metadata": {},
     "output_type": "display_data"
    },
    {
     "data": {
      "text/plain": [
       "{'electionId': ObjectId('7fffffff0000000000000002'),\n",
       " 'n': 1,\n",
       " 'nModified': 1,\n",
       " 'ok': 1.0,\n",
       " 'opTime': {'t': 2, 'ts': Timestamp(1505937947, 1)},\n",
       " 'updatedExisting': True}"
      ]
     },
     "metadata": {},
     "output_type": "display_data"
    },
    {
     "data": {
      "text/plain": [
       "{'electionId': ObjectId('7fffffff0000000000000002'),\n",
       " 'n': 1,\n",
       " 'nModified': 1,\n",
       " 'ok': 1.0,\n",
       " 'opTime': {'t': 2, 'ts': Timestamp(1505937948, 1)},\n",
       " 'updatedExisting': True}"
      ]
     },
     "metadata": {},
     "output_type": "display_data"
    },
    {
     "data": {
      "text/plain": [
       "{'electionId': ObjectId('7fffffff0000000000000002'),\n",
       " 'n': 1,\n",
       " 'nModified': 1,\n",
       " 'ok': 1.0,\n",
       " 'opTime': {'t': 2, 'ts': Timestamp(1505937949, 1)},\n",
       " 'updatedExisting': True}"
      ]
     },
     "metadata": {},
     "output_type": "display_data"
    },
    {
     "data": {
      "text/plain": [
       "{'electionId': ObjectId('7fffffff0000000000000002'),\n",
       " 'n': 1,\n",
       " 'nModified': 1,\n",
       " 'ok': 1.0,\n",
       " 'opTime': {'t': 2, 'ts': Timestamp(1505937950, 1)},\n",
       " 'updatedExisting': True}"
      ]
     },
     "metadata": {},
     "output_type": "display_data"
    },
    {
     "data": {
      "text/plain": [
       "{'electionId': ObjectId('7fffffff0000000000000002'),\n",
       " 'n': 1,\n",
       " 'nModified': 1,\n",
       " 'ok': 1.0,\n",
       " 'opTime': {'t': 2, 'ts': Timestamp(1505937950, 2)},\n",
       " 'updatedExisting': True}"
      ]
     },
     "metadata": {},
     "output_type": "display_data"
    },
    {
     "data": {
      "text/plain": [
       "{'electionId': ObjectId('7fffffff0000000000000002'),\n",
       " 'n': 1,\n",
       " 'nModified': 1,\n",
       " 'ok': 1.0,\n",
       " 'opTime': {'t': 2, 'ts': Timestamp(1505937951, 1)},\n",
       " 'updatedExisting': True}"
      ]
     },
     "metadata": {},
     "output_type": "display_data"
    },
    {
     "data": {
      "text/plain": [
       "{'electionId': ObjectId('7fffffff0000000000000002'),\n",
       " 'n': 1,\n",
       " 'nModified': 1,\n",
       " 'ok': 1.0,\n",
       " 'opTime': {'t': 2, 'ts': Timestamp(1505937952, 1)},\n",
       " 'updatedExisting': True}"
      ]
     },
     "metadata": {},
     "output_type": "display_data"
    },
    {
     "data": {
      "text/plain": [
       "{'electionId': ObjectId('7fffffff0000000000000002'),\n",
       " 'n': 1,\n",
       " 'nModified': 1,\n",
       " 'ok': 1.0,\n",
       " 'opTime': {'t': 2, 'ts': Timestamp(1505937952, 2)},\n",
       " 'updatedExisting': True}"
      ]
     },
     "metadata": {},
     "output_type": "display_data"
    },
    {
     "data": {
      "text/plain": [
       "{'electionId': ObjectId('7fffffff0000000000000002'),\n",
       " 'n': 1,\n",
       " 'nModified': 1,\n",
       " 'ok': 1.0,\n",
       " 'opTime': {'t': 2, 'ts': Timestamp(1505937953, 1)},\n",
       " 'updatedExisting': True}"
      ]
     },
     "metadata": {},
     "output_type": "display_data"
    },
    {
     "data": {
      "text/plain": [
       "{'electionId': ObjectId('7fffffff0000000000000002'),\n",
       " 'n': 1,\n",
       " 'nModified': 1,\n",
       " 'ok': 1.0,\n",
       " 'opTime': {'t': 2, 'ts': Timestamp(1505937954, 1)},\n",
       " 'updatedExisting': True}"
      ]
     },
     "metadata": {},
     "output_type": "display_data"
    },
    {
     "data": {
      "text/plain": [
       "{'electionId': ObjectId('7fffffff0000000000000002'),\n",
       " 'n': 1,\n",
       " 'nModified': 1,\n",
       " 'ok': 1.0,\n",
       " 'opTime': {'t': 2, 'ts': Timestamp(1505937955, 1)},\n",
       " 'updatedExisting': True}"
      ]
     },
     "metadata": {},
     "output_type": "display_data"
    },
    {
     "data": {
      "text/plain": [
       "{'electionId': ObjectId('7fffffff0000000000000002'),\n",
       " 'n': 1,\n",
       " 'nModified': 1,\n",
       " 'ok': 1.0,\n",
       " 'opTime': {'t': 2, 'ts': Timestamp(1505937956, 1)},\n",
       " 'updatedExisting': True}"
      ]
     },
     "metadata": {},
     "output_type": "display_data"
    },
    {
     "data": {
      "text/plain": [
       "{'electionId': ObjectId('7fffffff0000000000000002'),\n",
       " 'n': 1,\n",
       " 'nModified': 1,\n",
       " 'ok': 1.0,\n",
       " 'opTime': {'t': 2, 'ts': Timestamp(1505937957, 1)},\n",
       " 'updatedExisting': True}"
      ]
     },
     "metadata": {},
     "output_type": "display_data"
    },
    {
     "data": {
      "text/plain": [
       "{'electionId': ObjectId('7fffffff0000000000000002'),\n",
       " 'n': 1,\n",
       " 'nModified': 1,\n",
       " 'ok': 1.0,\n",
       " 'opTime': {'t': 2, 'ts': Timestamp(1505937958, 1)},\n",
       " 'updatedExisting': True}"
      ]
     },
     "metadata": {},
     "output_type": "display_data"
    },
    {
     "data": {
      "text/plain": [
       "{'electionId': ObjectId('7fffffff0000000000000002'),\n",
       " 'n': 1,\n",
       " 'nModified': 1,\n",
       " 'ok': 1.0,\n",
       " 'opTime': {'t': 2, 'ts': Timestamp(1505937959, 1)},\n",
       " 'updatedExisting': True}"
      ]
     },
     "metadata": {},
     "output_type": "display_data"
    },
    {
     "data": {
      "text/plain": [
       "{'electionId': ObjectId('7fffffff0000000000000002'),\n",
       " 'n': 1,\n",
       " 'nModified': 1,\n",
       " 'ok': 1.0,\n",
       " 'opTime': {'t': 2, 'ts': Timestamp(1505937960, 1)},\n",
       " 'updatedExisting': True}"
      ]
     },
     "metadata": {},
     "output_type": "display_data"
    },
    {
     "data": {
      "text/plain": [
       "{'electionId': ObjectId('7fffffff0000000000000002'),\n",
       " 'n': 1,\n",
       " 'nModified': 1,\n",
       " 'ok': 1.0,\n",
       " 'opTime': {'t': 2, 'ts': Timestamp(1505937961, 1)},\n",
       " 'updatedExisting': True}"
      ]
     },
     "metadata": {},
     "output_type": "display_data"
    },
    {
     "data": {
      "text/plain": [
       "{'electionId': ObjectId('7fffffff0000000000000002'),\n",
       " 'n': 1,\n",
       " 'nModified': 1,\n",
       " 'ok': 1.0,\n",
       " 'opTime': {'t': 2, 'ts': Timestamp(1505937962, 1)},\n",
       " 'updatedExisting': True}"
      ]
     },
     "metadata": {},
     "output_type": "display_data"
    },
    {
     "data": {
      "text/plain": [
       "{'electionId': ObjectId('7fffffff0000000000000002'),\n",
       " 'n': 1,\n",
       " 'nModified': 1,\n",
       " 'ok': 1.0,\n",
       " 'opTime': {'t': 2, 'ts': Timestamp(1505937963, 1)},\n",
       " 'updatedExisting': True}"
      ]
     },
     "metadata": {},
     "output_type": "display_data"
    },
    {
     "data": {
      "text/plain": [
       "{'electionId': ObjectId('7fffffff0000000000000002'),\n",
       " 'n': 1,\n",
       " 'nModified': 1,\n",
       " 'ok': 1.0,\n",
       " 'opTime': {'t': 2, 'ts': Timestamp(1505937964, 1)},\n",
       " 'updatedExisting': True}"
      ]
     },
     "metadata": {},
     "output_type": "display_data"
    },
    {
     "data": {
      "text/plain": [
       "{'electionId': ObjectId('7fffffff0000000000000002'),\n",
       " 'n': 1,\n",
       " 'nModified': 1,\n",
       " 'ok': 1.0,\n",
       " 'opTime': {'t': 2, 'ts': Timestamp(1505937965, 1)},\n",
       " 'updatedExisting': True}"
      ]
     },
     "metadata": {},
     "output_type": "display_data"
    },
    {
     "data": {
      "text/plain": [
       "{'electionId': ObjectId('7fffffff0000000000000002'),\n",
       " 'n': 1,\n",
       " 'nModified': 1,\n",
       " 'ok': 1.0,\n",
       " 'opTime': {'t': 2, 'ts': Timestamp(1505937966, 1)},\n",
       " 'updatedExisting': True}"
      ]
     },
     "metadata": {},
     "output_type": "display_data"
    },
    {
     "data": {
      "text/plain": [
       "{'electionId': ObjectId('7fffffff0000000000000002'),\n",
       " 'n': 1,\n",
       " 'nModified': 1,\n",
       " 'ok': 1.0,\n",
       " 'opTime': {'t': 2, 'ts': Timestamp(1505937967, 1)},\n",
       " 'updatedExisting': True}"
      ]
     },
     "metadata": {},
     "output_type": "display_data"
    },
    {
     "data": {
      "text/plain": [
       "{'electionId': ObjectId('7fffffff0000000000000002'),\n",
       " 'n': 1,\n",
       " 'nModified': 1,\n",
       " 'ok': 1.0,\n",
       " 'opTime': {'t': 2, 'ts': Timestamp(1505937967, 2)},\n",
       " 'updatedExisting': True}"
      ]
     },
     "metadata": {},
     "output_type": "display_data"
    },
    {
     "data": {
      "text/plain": [
       "{'electionId': ObjectId('7fffffff0000000000000002'),\n",
       " 'n': 1,\n",
       " 'nModified': 1,\n",
       " 'ok': 1.0,\n",
       " 'opTime': {'t': 2, 'ts': Timestamp(1505937968, 1)},\n",
       " 'updatedExisting': True}"
      ]
     },
     "metadata": {},
     "output_type": "display_data"
    },
    {
     "data": {
      "text/plain": [
       "{'electionId': ObjectId('7fffffff0000000000000002'),\n",
       " 'n': 1,\n",
       " 'nModified': 1,\n",
       " 'ok': 1.0,\n",
       " 'opTime': {'t': 2, 'ts': Timestamp(1505937969, 1)},\n",
       " 'updatedExisting': True}"
      ]
     },
     "metadata": {},
     "output_type": "display_data"
    },
    {
     "data": {
      "text/plain": [
       "{'electionId': ObjectId('7fffffff0000000000000002'),\n",
       " 'n': 1,\n",
       " 'nModified': 1,\n",
       " 'ok': 1.0,\n",
       " 'opTime': {'t': 2, 'ts': Timestamp(1505937970, 1)},\n",
       " 'updatedExisting': True}"
      ]
     },
     "metadata": {},
     "output_type": "display_data"
    },
    {
     "data": {
      "text/plain": [
       "{'electionId': ObjectId('7fffffff0000000000000002'),\n",
       " 'n': 1,\n",
       " 'nModified': 1,\n",
       " 'ok': 1.0,\n",
       " 'opTime': {'t': 2, 'ts': Timestamp(1505937971, 1)},\n",
       " 'updatedExisting': True}"
      ]
     },
     "metadata": {},
     "output_type": "display_data"
    },
    {
     "data": {
      "text/plain": [
       "{'electionId': ObjectId('7fffffff0000000000000002'),\n",
       " 'n': 1,\n",
       " 'nModified': 1,\n",
       " 'ok': 1.0,\n",
       " 'opTime': {'t': 2, 'ts': Timestamp(1505937971, 2)},\n",
       " 'updatedExisting': True}"
      ]
     },
     "metadata": {},
     "output_type": "display_data"
    },
    {
     "data": {
      "text/plain": [
       "{'electionId': ObjectId('7fffffff0000000000000002'),\n",
       " 'n': 1,\n",
       " 'nModified': 1,\n",
       " 'ok': 1.0,\n",
       " 'opTime': {'t': 2, 'ts': Timestamp(1505937972, 1)},\n",
       " 'updatedExisting': True}"
      ]
     },
     "metadata": {},
     "output_type": "display_data"
    },
    {
     "data": {
      "text/plain": [
       "{'electionId': ObjectId('7fffffff0000000000000002'),\n",
       " 'n': 1,\n",
       " 'nModified': 1,\n",
       " 'ok': 1.0,\n",
       " 'opTime': {'t': 2, 'ts': Timestamp(1505937973, 1)},\n",
       " 'updatedExisting': True}"
      ]
     },
     "metadata": {},
     "output_type": "display_data"
    },
    {
     "data": {
      "text/plain": [
       "{'electionId': ObjectId('7fffffff0000000000000002'),\n",
       " 'n': 1,\n",
       " 'nModified': 1,\n",
       " 'ok': 1.0,\n",
       " 'opTime': {'t': 2, 'ts': Timestamp(1505937974, 1)},\n",
       " 'updatedExisting': True}"
      ]
     },
     "metadata": {},
     "output_type": "display_data"
    },
    {
     "data": {
      "text/plain": [
       "{'electionId': ObjectId('7fffffff0000000000000002'),\n",
       " 'n': 1,\n",
       " 'nModified': 1,\n",
       " 'ok': 1.0,\n",
       " 'opTime': {'t': 2, 'ts': Timestamp(1505937974, 2)},\n",
       " 'updatedExisting': True}"
      ]
     },
     "metadata": {},
     "output_type": "display_data"
    },
    {
     "data": {
      "text/plain": [
       "{'electionId': ObjectId('7fffffff0000000000000002'),\n",
       " 'n': 1,\n",
       " 'nModified': 1,\n",
       " 'ok': 1.0,\n",
       " 'opTime': {'t': 2, 'ts': Timestamp(1505937975, 1)},\n",
       " 'updatedExisting': True}"
      ]
     },
     "metadata": {},
     "output_type": "display_data"
    },
    {
     "data": {
      "text/plain": [
       "{'electionId': ObjectId('7fffffff0000000000000002'),\n",
       " 'n': 1,\n",
       " 'nModified': 1,\n",
       " 'ok': 1.0,\n",
       " 'opTime': {'t': 2, 'ts': Timestamp(1505937976, 1)},\n",
       " 'updatedExisting': True}"
      ]
     },
     "metadata": {},
     "output_type": "display_data"
    },
    {
     "data": {
      "text/plain": [
       "{'electionId': ObjectId('7fffffff0000000000000002'),\n",
       " 'n': 1,\n",
       " 'nModified': 1,\n",
       " 'ok': 1.0,\n",
       " 'opTime': {'t': 2, 'ts': Timestamp(1505937977, 1)},\n",
       " 'updatedExisting': True}"
      ]
     },
     "metadata": {},
     "output_type": "display_data"
    },
    {
     "data": {
      "text/plain": [
       "{'electionId': ObjectId('7fffffff0000000000000002'),\n",
       " 'n': 1,\n",
       " 'nModified': 1,\n",
       " 'ok': 1.0,\n",
       " 'opTime': {'t': 2, 'ts': Timestamp(1505937977, 2)},\n",
       " 'updatedExisting': True}"
      ]
     },
     "metadata": {},
     "output_type": "display_data"
    },
    {
     "data": {
      "text/plain": [
       "{'electionId': ObjectId('7fffffff0000000000000002'),\n",
       " 'n': 1,\n",
       " 'nModified': 1,\n",
       " 'ok': 1.0,\n",
       " 'opTime': {'t': 2, 'ts': Timestamp(1505937978, 1)},\n",
       " 'updatedExisting': True}"
      ]
     },
     "metadata": {},
     "output_type": "display_data"
    },
    {
     "data": {
      "text/plain": [
       "{'electionId': ObjectId('7fffffff0000000000000002'),\n",
       " 'n': 1,\n",
       " 'nModified': 1,\n",
       " 'ok': 1.0,\n",
       " 'opTime': {'t': 2, 'ts': Timestamp(1505937979, 1)},\n",
       " 'updatedExisting': True}"
      ]
     },
     "metadata": {},
     "output_type": "display_data"
    },
    {
     "data": {
      "text/plain": [
       "{'electionId': ObjectId('7fffffff0000000000000002'),\n",
       " 'n': 1,\n",
       " 'nModified': 1,\n",
       " 'ok': 1.0,\n",
       " 'opTime': {'t': 2, 'ts': Timestamp(1505937980, 1)},\n",
       " 'updatedExisting': True}"
      ]
     },
     "metadata": {},
     "output_type": "display_data"
    },
    {
     "data": {
      "text/plain": [
       "{'electionId': ObjectId('7fffffff0000000000000002'),\n",
       " 'n': 1,\n",
       " 'nModified': 1,\n",
       " 'ok': 1.0,\n",
       " 'opTime': {'t': 2, 'ts': Timestamp(1505937980, 2)},\n",
       " 'updatedExisting': True}"
      ]
     },
     "metadata": {},
     "output_type": "display_data"
    },
    {
     "data": {
      "text/plain": [
       "{'electionId': ObjectId('7fffffff0000000000000002'),\n",
       " 'n': 1,\n",
       " 'nModified': 1,\n",
       " 'ok': 1.0,\n",
       " 'opTime': {'t': 2, 'ts': Timestamp(1505937981, 1)},\n",
       " 'updatedExisting': True}"
      ]
     },
     "metadata": {},
     "output_type": "display_data"
    },
    {
     "data": {
      "text/plain": [
       "{'electionId': ObjectId('7fffffff0000000000000002'),\n",
       " 'n': 1,\n",
       " 'nModified': 1,\n",
       " 'ok': 1.0,\n",
       " 'opTime': {'t': 2, 'ts': Timestamp(1505937982, 1)},\n",
       " 'updatedExisting': True}"
      ]
     },
     "metadata": {},
     "output_type": "display_data"
    },
    {
     "data": {
      "text/plain": [
       "{'electionId': ObjectId('7fffffff0000000000000002'),\n",
       " 'n': 1,\n",
       " 'nModified': 1,\n",
       " 'ok': 1.0,\n",
       " 'opTime': {'t': 2, 'ts': Timestamp(1505937982, 2)},\n",
       " 'updatedExisting': True}"
      ]
     },
     "metadata": {},
     "output_type": "display_data"
    },
    {
     "data": {
      "text/plain": [
       "{'electionId': ObjectId('7fffffff0000000000000002'),\n",
       " 'n': 1,\n",
       " 'nModified': 1,\n",
       " 'ok': 1.0,\n",
       " 'opTime': {'t': 2, 'ts': Timestamp(1505937983, 1)},\n",
       " 'updatedExisting': True}"
      ]
     },
     "metadata": {},
     "output_type": "display_data"
    },
    {
     "data": {
      "text/plain": [
       "{'electionId': ObjectId('7fffffff0000000000000002'),\n",
       " 'n': 1,\n",
       " 'nModified': 1,\n",
       " 'ok': 1.0,\n",
       " 'opTime': {'t': 2, 'ts': Timestamp(1505937984, 1)},\n",
       " 'updatedExisting': True}"
      ]
     },
     "metadata": {},
     "output_type": "display_data"
    },
    {
     "data": {
      "text/plain": [
       "{'electionId': ObjectId('7fffffff0000000000000002'),\n",
       " 'n': 1,\n",
       " 'nModified': 1,\n",
       " 'ok': 1.0,\n",
       " 'opTime': {'t': 2, 'ts': Timestamp(1505937985, 1)},\n",
       " 'updatedExisting': True}"
      ]
     },
     "metadata": {},
     "output_type": "display_data"
    },
    {
     "data": {
      "text/plain": [
       "{'electionId': ObjectId('7fffffff0000000000000002'),\n",
       " 'n': 1,\n",
       " 'nModified': 1,\n",
       " 'ok': 1.0,\n",
       " 'opTime': {'t': 2, 'ts': Timestamp(1505937986, 1)},\n",
       " 'updatedExisting': True}"
      ]
     },
     "metadata": {},
     "output_type": "display_data"
    },
    {
     "data": {
      "text/plain": [
       "{'electionId': ObjectId('7fffffff0000000000000002'),\n",
       " 'n': 1,\n",
       " 'nModified': 1,\n",
       " 'ok': 1.0,\n",
       " 'opTime': {'t': 2, 'ts': Timestamp(1505937988, 1)},\n",
       " 'updatedExisting': True}"
      ]
     },
     "metadata": {},
     "output_type": "display_data"
    },
    {
     "data": {
      "text/plain": [
       "{'electionId': ObjectId('7fffffff0000000000000002'),\n",
       " 'n': 1,\n",
       " 'nModified': 1,\n",
       " 'ok': 1.0,\n",
       " 'opTime': {'t': 2, 'ts': Timestamp(1505937989, 1)},\n",
       " 'updatedExisting': True}"
      ]
     },
     "metadata": {},
     "output_type": "display_data"
    },
    {
     "data": {
      "text/plain": [
       "{'electionId': ObjectId('7fffffff0000000000000002'),\n",
       " 'n': 1,\n",
       " 'nModified': 1,\n",
       " 'ok': 1.0,\n",
       " 'opTime': {'t': 2, 'ts': Timestamp(1505937990, 1)},\n",
       " 'updatedExisting': True}"
      ]
     },
     "metadata": {},
     "output_type": "display_data"
    },
    {
     "data": {
      "text/plain": [
       "{'electionId': ObjectId('7fffffff0000000000000002'),\n",
       " 'n': 1,\n",
       " 'nModified': 1,\n",
       " 'ok': 1.0,\n",
       " 'opTime': {'t': 2, 'ts': Timestamp(1505937991, 1)},\n",
       " 'updatedExisting': True}"
      ]
     },
     "metadata": {},
     "output_type": "display_data"
    },
    {
     "data": {
      "text/plain": [
       "{'electionId': ObjectId('7fffffff0000000000000002'),\n",
       " 'n': 1,\n",
       " 'nModified': 1,\n",
       " 'ok': 1.0,\n",
       " 'opTime': {'t': 2, 'ts': Timestamp(1505937991, 2)},\n",
       " 'updatedExisting': True}"
      ]
     },
     "metadata": {},
     "output_type": "display_data"
    },
    {
     "data": {
      "text/plain": [
       "{'electionId': ObjectId('7fffffff0000000000000002'),\n",
       " 'n': 1,\n",
       " 'nModified': 1,\n",
       " 'ok': 1.0,\n",
       " 'opTime': {'t': 2, 'ts': Timestamp(1505937992, 1)},\n",
       " 'updatedExisting': True}"
      ]
     },
     "metadata": {},
     "output_type": "display_data"
    },
    {
     "data": {
      "text/plain": [
       "{'electionId': ObjectId('7fffffff0000000000000002'),\n",
       " 'n': 1,\n",
       " 'nModified': 1,\n",
       " 'ok': 1.0,\n",
       " 'opTime': {'t': 2, 'ts': Timestamp(1505937993, 1)},\n",
       " 'updatedExisting': True}"
      ]
     },
     "metadata": {},
     "output_type": "display_data"
    },
    {
     "data": {
      "text/plain": [
       "{'electionId': ObjectId('7fffffff0000000000000002'),\n",
       " 'n': 1,\n",
       " 'nModified': 1,\n",
       " 'ok': 1.0,\n",
       " 'opTime': {'t': 2, 'ts': Timestamp(1505937994, 1)},\n",
       " 'updatedExisting': True}"
      ]
     },
     "metadata": {},
     "output_type": "display_data"
    },
    {
     "data": {
      "text/plain": [
       "{'electionId': ObjectId('7fffffff0000000000000002'),\n",
       " 'n': 1,\n",
       " 'nModified': 1,\n",
       " 'ok': 1.0,\n",
       " 'opTime': {'t': 2, 'ts': Timestamp(1505937995, 1)},\n",
       " 'updatedExisting': True}"
      ]
     },
     "metadata": {},
     "output_type": "display_data"
    },
    {
     "data": {
      "text/plain": [
       "{'electionId': ObjectId('7fffffff0000000000000002'),\n",
       " 'n': 1,\n",
       " 'nModified': 1,\n",
       " 'ok': 1.0,\n",
       " 'opTime': {'t': 2, 'ts': Timestamp(1505937996, 1)},\n",
       " 'updatedExisting': True}"
      ]
     },
     "metadata": {},
     "output_type": "display_data"
    },
    {
     "data": {
      "text/plain": [
       "{'electionId': ObjectId('7fffffff0000000000000002'),\n",
       " 'n': 1,\n",
       " 'nModified': 1,\n",
       " 'ok': 1.0,\n",
       " 'opTime': {'t': 2, 'ts': Timestamp(1505937998, 1)},\n",
       " 'updatedExisting': True}"
      ]
     },
     "metadata": {},
     "output_type": "display_data"
    },
    {
     "data": {
      "text/plain": [
       "{'electionId': ObjectId('7fffffff0000000000000002'),\n",
       " 'n': 1,\n",
       " 'nModified': 1,\n",
       " 'ok': 1.0,\n",
       " 'opTime': {'t': 2, 'ts': Timestamp(1505937999, 1)},\n",
       " 'updatedExisting': True}"
      ]
     },
     "metadata": {},
     "output_type": "display_data"
    },
    {
     "data": {
      "text/plain": [
       "{'electionId': ObjectId('7fffffff0000000000000002'),\n",
       " 'n': 1,\n",
       " 'nModified': 1,\n",
       " 'ok': 1.0,\n",
       " 'opTime': {'t': 2, 'ts': Timestamp(1505938000, 1)},\n",
       " 'updatedExisting': True}"
      ]
     },
     "metadata": {},
     "output_type": "display_data"
    },
    {
     "data": {
      "text/plain": [
       "{'electionId': ObjectId('7fffffff0000000000000002'),\n",
       " 'n': 1,\n",
       " 'nModified': 1,\n",
       " 'ok': 1.0,\n",
       " 'opTime': {'t': 2, 'ts': Timestamp(1505938000, 2)},\n",
       " 'updatedExisting': True}"
      ]
     },
     "metadata": {},
     "output_type": "display_data"
    },
    {
     "data": {
      "text/plain": [
       "{'electionId': ObjectId('7fffffff0000000000000002'),\n",
       " 'n': 1,\n",
       " 'nModified': 1,\n",
       " 'ok': 1.0,\n",
       " 'opTime': {'t': 2, 'ts': Timestamp(1505938001, 1)},\n",
       " 'updatedExisting': True}"
      ]
     },
     "metadata": {},
     "output_type": "display_data"
    },
    {
     "data": {
      "text/plain": [
       "{'electionId': ObjectId('7fffffff0000000000000002'),\n",
       " 'n': 1,\n",
       " 'nModified': 1,\n",
       " 'ok': 1.0,\n",
       " 'opTime': {'t': 2, 'ts': Timestamp(1505938002, 1)},\n",
       " 'updatedExisting': True}"
      ]
     },
     "metadata": {},
     "output_type": "display_data"
    },
    {
     "data": {
      "text/plain": [
       "{'electionId': ObjectId('7fffffff0000000000000002'),\n",
       " 'n': 1,\n",
       " 'nModified': 1,\n",
       " 'ok': 1.0,\n",
       " 'opTime': {'t': 2, 'ts': Timestamp(1505938004, 1)},\n",
       " 'updatedExisting': True}"
      ]
     },
     "metadata": {},
     "output_type": "display_data"
    },
    {
     "data": {
      "text/plain": [
       "{'electionId': ObjectId('7fffffff0000000000000002'),\n",
       " 'n': 1,\n",
       " 'nModified': 1,\n",
       " 'ok': 1.0,\n",
       " 'opTime': {'t': 2, 'ts': Timestamp(1505938004, 2)},\n",
       " 'updatedExisting': True}"
      ]
     },
     "metadata": {},
     "output_type": "display_data"
    },
    {
     "data": {
      "text/plain": [
       "{'electionId': ObjectId('7fffffff0000000000000002'),\n",
       " 'n': 1,\n",
       " 'nModified': 1,\n",
       " 'ok': 1.0,\n",
       " 'opTime': {'t': 2, 'ts': Timestamp(1505938005, 1)},\n",
       " 'updatedExisting': True}"
      ]
     },
     "metadata": {},
     "output_type": "display_data"
    },
    {
     "data": {
      "text/plain": [
       "{'electionId': ObjectId('7fffffff0000000000000002'),\n",
       " 'n': 1,\n",
       " 'nModified': 1,\n",
       " 'ok': 1.0,\n",
       " 'opTime': {'t': 2, 'ts': Timestamp(1505938006, 1)},\n",
       " 'updatedExisting': True}"
      ]
     },
     "metadata": {},
     "output_type": "display_data"
    },
    {
     "data": {
      "text/plain": [
       "{'electionId': ObjectId('7fffffff0000000000000002'),\n",
       " 'n': 1,\n",
       " 'nModified': 1,\n",
       " 'ok': 1.0,\n",
       " 'opTime': {'t': 2, 'ts': Timestamp(1505938008, 1)},\n",
       " 'updatedExisting': True}"
      ]
     },
     "metadata": {},
     "output_type": "display_data"
    },
    {
     "data": {
      "text/plain": [
       "{'electionId': ObjectId('7fffffff0000000000000002'),\n",
       " 'n': 1,\n",
       " 'nModified': 1,\n",
       " 'ok': 1.0,\n",
       " 'opTime': {'t': 2, 'ts': Timestamp(1505938009, 1)},\n",
       " 'updatedExisting': True}"
      ]
     },
     "metadata": {},
     "output_type": "display_data"
    },
    {
     "data": {
      "text/plain": [
       "{'electionId': ObjectId('7fffffff0000000000000002'),\n",
       " 'n': 1,\n",
       " 'nModified': 1,\n",
       " 'ok': 1.0,\n",
       " 'opTime': {'t': 2, 'ts': Timestamp(1505938010, 1)},\n",
       " 'updatedExisting': True}"
      ]
     },
     "metadata": {},
     "output_type": "display_data"
    },
    {
     "data": {
      "text/plain": [
       "{'electionId': ObjectId('7fffffff0000000000000002'),\n",
       " 'n': 1,\n",
       " 'nModified': 1,\n",
       " 'ok': 1.0,\n",
       " 'opTime': {'t': 2, 'ts': Timestamp(1505938011, 1)},\n",
       " 'updatedExisting': True}"
      ]
     },
     "metadata": {},
     "output_type": "display_data"
    },
    {
     "data": {
      "text/plain": [
       "{'electionId': ObjectId('7fffffff0000000000000002'),\n",
       " 'n': 1,\n",
       " 'nModified': 1,\n",
       " 'ok': 1.0,\n",
       " 'opTime': {'t': 2, 'ts': Timestamp(1505938013, 1)},\n",
       " 'updatedExisting': True}"
      ]
     },
     "metadata": {},
     "output_type": "display_data"
    },
    {
     "data": {
      "text/plain": [
       "{'electionId': ObjectId('7fffffff0000000000000002'),\n",
       " 'n': 1,\n",
       " 'nModified': 1,\n",
       " 'ok': 1.0,\n",
       " 'opTime': {'t': 2, 'ts': Timestamp(1505938015, 1)},\n",
       " 'updatedExisting': True}"
      ]
     },
     "metadata": {},
     "output_type": "display_data"
    },
    {
     "data": {
      "text/plain": [
       "{'electionId': ObjectId('7fffffff0000000000000002'),\n",
       " 'n': 1,\n",
       " 'nModified': 1,\n",
       " 'ok': 1.0,\n",
       " 'opTime': {'t': 2, 'ts': Timestamp(1505938016, 1)},\n",
       " 'updatedExisting': True}"
      ]
     },
     "metadata": {},
     "output_type": "display_data"
    },
    {
     "data": {
      "text/plain": [
       "{'electionId': ObjectId('7fffffff0000000000000002'),\n",
       " 'n': 1,\n",
       " 'nModified': 1,\n",
       " 'ok': 1.0,\n",
       " 'opTime': {'t': 2, 'ts': Timestamp(1505938017, 1)},\n",
       " 'updatedExisting': True}"
      ]
     },
     "metadata": {},
     "output_type": "display_data"
    },
    {
     "data": {
      "text/plain": [
       "{'electionId': ObjectId('7fffffff0000000000000002'),\n",
       " 'n': 1,\n",
       " 'nModified': 1,\n",
       " 'ok': 1.0,\n",
       " 'opTime': {'t': 2, 'ts': Timestamp(1505938017, 2)},\n",
       " 'updatedExisting': True}"
      ]
     },
     "metadata": {},
     "output_type": "display_data"
    },
    {
     "data": {
      "text/plain": [
       "{'electionId': ObjectId('7fffffff0000000000000002'),\n",
       " 'n': 1,\n",
       " 'nModified': 1,\n",
       " 'ok': 1.0,\n",
       " 'opTime': {'t': 2, 'ts': Timestamp(1505938018, 1)},\n",
       " 'updatedExisting': True}"
      ]
     },
     "metadata": {},
     "output_type": "display_data"
    },
    {
     "data": {
      "text/plain": [
       "{'electionId': ObjectId('7fffffff0000000000000002'),\n",
       " 'n': 1,\n",
       " 'nModified': 1,\n",
       " 'ok': 1.0,\n",
       " 'opTime': {'t': 2, 'ts': Timestamp(1505938019, 1)},\n",
       " 'updatedExisting': True}"
      ]
     },
     "metadata": {},
     "output_type": "display_data"
    },
    {
     "data": {
      "text/plain": [
       "{'electionId': ObjectId('7fffffff0000000000000002'),\n",
       " 'n': 1,\n",
       " 'nModified': 1,\n",
       " 'ok': 1.0,\n",
       " 'opTime': {'t': 2, 'ts': Timestamp(1505938020, 1)},\n",
       " 'updatedExisting': True}"
      ]
     },
     "metadata": {},
     "output_type": "display_data"
    },
    {
     "data": {
      "text/plain": [
       "{'electionId': ObjectId('7fffffff0000000000000002'),\n",
       " 'n': 1,\n",
       " 'nModified': 1,\n",
       " 'ok': 1.0,\n",
       " 'opTime': {'t': 2, 'ts': Timestamp(1505938021, 1)},\n",
       " 'updatedExisting': True}"
      ]
     },
     "metadata": {},
     "output_type": "display_data"
    },
    {
     "data": {
      "text/plain": [
       "{'electionId': ObjectId('7fffffff0000000000000002'),\n",
       " 'n': 1,\n",
       " 'nModified': 1,\n",
       " 'ok': 1.0,\n",
       " 'opTime': {'t': 2, 'ts': Timestamp(1505938022, 1)},\n",
       " 'updatedExisting': True}"
      ]
     },
     "metadata": {},
     "output_type": "display_data"
    },
    {
     "data": {
      "text/plain": [
       "{'electionId': ObjectId('7fffffff0000000000000002'),\n",
       " 'n': 1,\n",
       " 'nModified': 1,\n",
       " 'ok': 1.0,\n",
       " 'opTime': {'t': 2, 'ts': Timestamp(1505938023, 1)},\n",
       " 'updatedExisting': True}"
      ]
     },
     "metadata": {},
     "output_type": "display_data"
    },
    {
     "data": {
      "text/plain": [
       "{'electionId': ObjectId('7fffffff0000000000000002'),\n",
       " 'n': 1,\n",
       " 'nModified': 1,\n",
       " 'ok': 1.0,\n",
       " 'opTime': {'t': 2, 'ts': Timestamp(1505938024, 1)},\n",
       " 'updatedExisting': True}"
      ]
     },
     "metadata": {},
     "output_type": "display_data"
    },
    {
     "data": {
      "text/plain": [
       "{'electionId': ObjectId('7fffffff0000000000000002'),\n",
       " 'n': 1,\n",
       " 'nModified': 1,\n",
       " 'ok': 1.0,\n",
       " 'opTime': {'t': 2, 'ts': Timestamp(1505938025, 1)},\n",
       " 'updatedExisting': True}"
      ]
     },
     "metadata": {},
     "output_type": "display_data"
    },
    {
     "data": {
      "text/plain": [
       "{'electionId': ObjectId('7fffffff0000000000000002'),\n",
       " 'n': 1,\n",
       " 'nModified': 1,\n",
       " 'ok': 1.0,\n",
       " 'opTime': {'t': 2, 'ts': Timestamp(1505938025, 2)},\n",
       " 'updatedExisting': True}"
      ]
     },
     "metadata": {},
     "output_type": "display_data"
    },
    {
     "data": {
      "text/plain": [
       "{'electionId': ObjectId('7fffffff0000000000000002'),\n",
       " 'n': 1,\n",
       " 'nModified': 1,\n",
       " 'ok': 1.0,\n",
       " 'opTime': {'t': 2, 'ts': Timestamp(1505938026, 1)},\n",
       " 'updatedExisting': True}"
      ]
     },
     "metadata": {},
     "output_type": "display_data"
    },
    {
     "data": {
      "text/plain": [
       "{'electionId': ObjectId('7fffffff0000000000000002'),\n",
       " 'n': 1,\n",
       " 'nModified': 1,\n",
       " 'ok': 1.0,\n",
       " 'opTime': {'t': 2, 'ts': Timestamp(1505938027, 1)},\n",
       " 'updatedExisting': True}"
      ]
     },
     "metadata": {},
     "output_type": "display_data"
    },
    {
     "data": {
      "text/plain": [
       "{'electionId': ObjectId('7fffffff0000000000000002'),\n",
       " 'n': 1,\n",
       " 'nModified': 1,\n",
       " 'ok': 1.0,\n",
       " 'opTime': {'t': 2, 'ts': Timestamp(1505938028, 1)},\n",
       " 'updatedExisting': True}"
      ]
     },
     "metadata": {},
     "output_type": "display_data"
    },
    {
     "data": {
      "text/plain": [
       "{'electionId': ObjectId('7fffffff0000000000000002'),\n",
       " 'n': 1,\n",
       " 'nModified': 1,\n",
       " 'ok': 1.0,\n",
       " 'opTime': {'t': 2, 'ts': Timestamp(1505938029, 1)},\n",
       " 'updatedExisting': True}"
      ]
     },
     "metadata": {},
     "output_type": "display_data"
    },
    {
     "data": {
      "text/plain": [
       "{'electionId': ObjectId('7fffffff0000000000000002'),\n",
       " 'n': 1,\n",
       " 'nModified': 1,\n",
       " 'ok': 1.0,\n",
       " 'opTime': {'t': 2, 'ts': Timestamp(1505938030, 1)},\n",
       " 'updatedExisting': True}"
      ]
     },
     "metadata": {},
     "output_type": "display_data"
    },
    {
     "data": {
      "text/plain": [
       "{'electionId': ObjectId('7fffffff0000000000000002'),\n",
       " 'n': 1,\n",
       " 'nModified': 1,\n",
       " 'ok': 1.0,\n",
       " 'opTime': {'t': 2, 'ts': Timestamp(1505938031, 1)},\n",
       " 'updatedExisting': True}"
      ]
     },
     "metadata": {},
     "output_type": "display_data"
    },
    {
     "data": {
      "text/plain": [
       "{'electionId': ObjectId('7fffffff0000000000000002'),\n",
       " 'n': 1,\n",
       " 'nModified': 1,\n",
       " 'ok': 1.0,\n",
       " 'opTime': {'t': 2, 'ts': Timestamp(1505938032, 1)},\n",
       " 'updatedExisting': True}"
      ]
     },
     "metadata": {},
     "output_type": "display_data"
    },
    {
     "data": {
      "text/plain": [
       "{'electionId': ObjectId('7fffffff0000000000000002'),\n",
       " 'n': 1,\n",
       " 'nModified': 1,\n",
       " 'ok': 1.0,\n",
       " 'opTime': {'t': 2, 'ts': Timestamp(1505938033, 1)},\n",
       " 'updatedExisting': True}"
      ]
     },
     "metadata": {},
     "output_type": "display_data"
    },
    {
     "data": {
      "text/plain": [
       "{'electionId': ObjectId('7fffffff0000000000000002'),\n",
       " 'n': 1,\n",
       " 'nModified': 1,\n",
       " 'ok': 1.0,\n",
       " 'opTime': {'t': 2, 'ts': Timestamp(1505938034, 1)},\n",
       " 'updatedExisting': True}"
      ]
     },
     "metadata": {},
     "output_type": "display_data"
    },
    {
     "data": {
      "text/plain": [
       "{'electionId': ObjectId('7fffffff0000000000000002'),\n",
       " 'n': 1,\n",
       " 'nModified': 1,\n",
       " 'ok': 1.0,\n",
       " 'opTime': {'t': 2, 'ts': Timestamp(1505938035, 1)},\n",
       " 'updatedExisting': True}"
      ]
     },
     "metadata": {},
     "output_type": "display_data"
    },
    {
     "data": {
      "text/plain": [
       "{'electionId': ObjectId('7fffffff0000000000000002'),\n",
       " 'n': 1,\n",
       " 'nModified': 1,\n",
       " 'ok': 1.0,\n",
       " 'opTime': {'t': 2, 'ts': Timestamp(1505938035, 2)},\n",
       " 'updatedExisting': True}"
      ]
     },
     "metadata": {},
     "output_type": "display_data"
    },
    {
     "data": {
      "text/plain": [
       "{'electionId': ObjectId('7fffffff0000000000000002'),\n",
       " 'n': 1,\n",
       " 'nModified': 1,\n",
       " 'ok': 1.0,\n",
       " 'opTime': {'t': 2, 'ts': Timestamp(1505938036, 1)},\n",
       " 'updatedExisting': True}"
      ]
     },
     "metadata": {},
     "output_type": "display_data"
    },
    {
     "data": {
      "text/plain": [
       "{'electionId': ObjectId('7fffffff0000000000000002'),\n",
       " 'n': 1,\n",
       " 'nModified': 1,\n",
       " 'ok': 1.0,\n",
       " 'opTime': {'t': 2, 'ts': Timestamp(1505938036, 2)},\n",
       " 'updatedExisting': True}"
      ]
     },
     "metadata": {},
     "output_type": "display_data"
    },
    {
     "data": {
      "text/plain": [
       "{'electionId': ObjectId('7fffffff0000000000000002'),\n",
       " 'n': 1,\n",
       " 'nModified': 1,\n",
       " 'ok': 1.0,\n",
       " 'opTime': {'t': 2, 'ts': Timestamp(1505938037, 1)},\n",
       " 'updatedExisting': True}"
      ]
     },
     "metadata": {},
     "output_type": "display_data"
    },
    {
     "data": {
      "text/plain": [
       "{'electionId': ObjectId('7fffffff0000000000000002'),\n",
       " 'n': 1,\n",
       " 'nModified': 1,\n",
       " 'ok': 1.0,\n",
       " 'opTime': {'t': 2, 'ts': Timestamp(1505938038, 1)},\n",
       " 'updatedExisting': True}"
      ]
     },
     "metadata": {},
     "output_type": "display_data"
    },
    {
     "data": {
      "text/plain": [
       "{'electionId': ObjectId('7fffffff0000000000000002'),\n",
       " 'n': 1,\n",
       " 'nModified': 1,\n",
       " 'ok': 1.0,\n",
       " 'opTime': {'t': 2, 'ts': Timestamp(1505938040, 1)},\n",
       " 'updatedExisting': True}"
      ]
     },
     "metadata": {},
     "output_type": "display_data"
    },
    {
     "data": {
      "text/plain": [
       "{'electionId': ObjectId('7fffffff0000000000000002'),\n",
       " 'n': 1,\n",
       " 'nModified': 1,\n",
       " 'ok': 1.0,\n",
       " 'opTime': {'t': 2, 'ts': Timestamp(1505938041, 1)},\n",
       " 'updatedExisting': True}"
      ]
     },
     "metadata": {},
     "output_type": "display_data"
    },
    {
     "data": {
      "text/plain": [
       "{'electionId': ObjectId('7fffffff0000000000000002'),\n",
       " 'n': 1,\n",
       " 'nModified': 1,\n",
       " 'ok': 1.0,\n",
       " 'opTime': {'t': 2, 'ts': Timestamp(1505938042, 1)},\n",
       " 'updatedExisting': True}"
      ]
     },
     "metadata": {},
     "output_type": "display_data"
    },
    {
     "data": {
      "text/plain": [
       "{'electionId': ObjectId('7fffffff0000000000000002'),\n",
       " 'n': 1,\n",
       " 'nModified': 1,\n",
       " 'ok': 1.0,\n",
       " 'opTime': {'t': 2, 'ts': Timestamp(1505938043, 1)},\n",
       " 'updatedExisting': True}"
      ]
     },
     "metadata": {},
     "output_type": "display_data"
    },
    {
     "data": {
      "text/plain": [
       "{'electionId': ObjectId('7fffffff0000000000000002'),\n",
       " 'n': 1,\n",
       " 'nModified': 1,\n",
       " 'ok': 1.0,\n",
       " 'opTime': {'t': 2, 'ts': Timestamp(1505938044, 1)},\n",
       " 'updatedExisting': True}"
      ]
     },
     "metadata": {},
     "output_type": "display_data"
    },
    {
     "data": {
      "text/plain": [
       "{'electionId': ObjectId('7fffffff0000000000000002'),\n",
       " 'n': 1,\n",
       " 'nModified': 1,\n",
       " 'ok': 1.0,\n",
       " 'opTime': {'t': 2, 'ts': Timestamp(1505938044, 2)},\n",
       " 'updatedExisting': True}"
      ]
     },
     "metadata": {},
     "output_type": "display_data"
    },
    {
     "data": {
      "text/plain": [
       "{'electionId': ObjectId('7fffffff0000000000000002'),\n",
       " 'n': 1,\n",
       " 'nModified': 1,\n",
       " 'ok': 1.0,\n",
       " 'opTime': {'t': 2, 'ts': Timestamp(1505938045, 1)},\n",
       " 'updatedExisting': True}"
      ]
     },
     "metadata": {},
     "output_type": "display_data"
    },
    {
     "data": {
      "text/plain": [
       "{'electionId': ObjectId('7fffffff0000000000000002'),\n",
       " 'n': 1,\n",
       " 'nModified': 1,\n",
       " 'ok': 1.0,\n",
       " 'opTime': {'t': 2, 'ts': Timestamp(1505938046, 1)},\n",
       " 'updatedExisting': True}"
      ]
     },
     "metadata": {},
     "output_type": "display_data"
    },
    {
     "data": {
      "text/plain": [
       "{'electionId': ObjectId('7fffffff0000000000000002'),\n",
       " 'n': 1,\n",
       " 'nModified': 1,\n",
       " 'ok': 1.0,\n",
       " 'opTime': {'t': 2, 'ts': Timestamp(1505938047, 1)},\n",
       " 'updatedExisting': True}"
      ]
     },
     "metadata": {},
     "output_type": "display_data"
    },
    {
     "data": {
      "text/plain": [
       "{'electionId': ObjectId('7fffffff0000000000000002'),\n",
       " 'n': 1,\n",
       " 'nModified': 1,\n",
       " 'ok': 1.0,\n",
       " 'opTime': {'t': 2, 'ts': Timestamp(1505938048, 1)},\n",
       " 'updatedExisting': True}"
      ]
     },
     "metadata": {},
     "output_type": "display_data"
    },
    {
     "data": {
      "text/plain": [
       "{'electionId': ObjectId('7fffffff0000000000000002'),\n",
       " 'n': 1,\n",
       " 'nModified': 1,\n",
       " 'ok': 1.0,\n",
       " 'opTime': {'t': 2, 'ts': Timestamp(1505938048, 2)},\n",
       " 'updatedExisting': True}"
      ]
     },
     "metadata": {},
     "output_type": "display_data"
    },
    {
     "data": {
      "text/plain": [
       "{'electionId': ObjectId('7fffffff0000000000000002'),\n",
       " 'n': 1,\n",
       " 'nModified': 1,\n",
       " 'ok': 1.0,\n",
       " 'opTime': {'t': 2, 'ts': Timestamp(1505938049, 1)},\n",
       " 'updatedExisting': True}"
      ]
     },
     "metadata": {},
     "output_type": "display_data"
    },
    {
     "data": {
      "text/plain": [
       "{'electionId': ObjectId('7fffffff0000000000000002'),\n",
       " 'n': 1,\n",
       " 'nModified': 1,\n",
       " 'ok': 1.0,\n",
       " 'opTime': {'t': 2, 'ts': Timestamp(1505938050, 1)},\n",
       " 'updatedExisting': True}"
      ]
     },
     "metadata": {},
     "output_type": "display_data"
    },
    {
     "data": {
      "text/plain": [
       "{'electionId': ObjectId('7fffffff0000000000000002'),\n",
       " 'n': 1,\n",
       " 'nModified': 1,\n",
       " 'ok': 1.0,\n",
       " 'opTime': {'t': 2, 'ts': Timestamp(1505938051, 1)},\n",
       " 'updatedExisting': True}"
      ]
     },
     "metadata": {},
     "output_type": "display_data"
    },
    {
     "data": {
      "text/plain": [
       "{'electionId': ObjectId('7fffffff0000000000000002'),\n",
       " 'n': 1,\n",
       " 'nModified': 1,\n",
       " 'ok': 1.0,\n",
       " 'opTime': {'t': 2, 'ts': Timestamp(1505938052, 1)},\n",
       " 'updatedExisting': True}"
      ]
     },
     "metadata": {},
     "output_type": "display_data"
    },
    {
     "data": {
      "text/plain": [
       "{'electionId': ObjectId('7fffffff0000000000000002'),\n",
       " 'n': 1,\n",
       " 'nModified': 1,\n",
       " 'ok': 1.0,\n",
       " 'opTime': {'t': 2, 'ts': Timestamp(1505938052, 2)},\n",
       " 'updatedExisting': True}"
      ]
     },
     "metadata": {},
     "output_type": "display_data"
    },
    {
     "data": {
      "text/plain": [
       "{'electionId': ObjectId('7fffffff0000000000000002'),\n",
       " 'n': 1,\n",
       " 'nModified': 1,\n",
       " 'ok': 1.0,\n",
       " 'opTime': {'t': 2, 'ts': Timestamp(1505938053, 1)},\n",
       " 'updatedExisting': True}"
      ]
     },
     "metadata": {},
     "output_type": "display_data"
    },
    {
     "data": {
      "text/plain": [
       "{'electionId': ObjectId('7fffffff0000000000000002'),\n",
       " 'n': 1,\n",
       " 'nModified': 1,\n",
       " 'ok': 1.0,\n",
       " 'opTime': {'t': 2, 'ts': Timestamp(1505938053, 2)},\n",
       " 'updatedExisting': True}"
      ]
     },
     "metadata": {},
     "output_type": "display_data"
    },
    {
     "data": {
      "text/plain": [
       "{'electionId': ObjectId('7fffffff0000000000000002'),\n",
       " 'n': 1,\n",
       " 'nModified': 1,\n",
       " 'ok': 1.0,\n",
       " 'opTime': {'t': 2, 'ts': Timestamp(1505938054, 1)},\n",
       " 'updatedExisting': True}"
      ]
     },
     "metadata": {},
     "output_type": "display_data"
    },
    {
     "data": {
      "text/plain": [
       "{'electionId': ObjectId('7fffffff0000000000000002'),\n",
       " 'n': 1,\n",
       " 'nModified': 1,\n",
       " 'ok': 1.0,\n",
       " 'opTime': {'t': 2, 'ts': Timestamp(1505938055, 1)},\n",
       " 'updatedExisting': True}"
      ]
     },
     "metadata": {},
     "output_type": "display_data"
    },
    {
     "data": {
      "text/plain": [
       "{'electionId': ObjectId('7fffffff0000000000000002'),\n",
       " 'n': 1,\n",
       " 'nModified': 1,\n",
       " 'ok': 1.0,\n",
       " 'opTime': {'t': 2, 'ts': Timestamp(1505938056, 1)},\n",
       " 'updatedExisting': True}"
      ]
     },
     "metadata": {},
     "output_type": "display_data"
    },
    {
     "data": {
      "text/plain": [
       "{'electionId': ObjectId('7fffffff0000000000000002'),\n",
       " 'n': 1,\n",
       " 'nModified': 1,\n",
       " 'ok': 1.0,\n",
       " 'opTime': {'t': 2, 'ts': Timestamp(1505938057, 1)},\n",
       " 'updatedExisting': True}"
      ]
     },
     "metadata": {},
     "output_type": "display_data"
    },
    {
     "data": {
      "text/plain": [
       "{'electionId': ObjectId('7fffffff0000000000000002'),\n",
       " 'n': 1,\n",
       " 'nModified': 1,\n",
       " 'ok': 1.0,\n",
       " 'opTime': {'t': 2, 'ts': Timestamp(1505938058, 1)},\n",
       " 'updatedExisting': True}"
      ]
     },
     "metadata": {},
     "output_type": "display_data"
    },
    {
     "data": {
      "text/plain": [
       "{'electionId': ObjectId('7fffffff0000000000000002'),\n",
       " 'n': 1,\n",
       " 'nModified': 1,\n",
       " 'ok': 1.0,\n",
       " 'opTime': {'t': 2, 'ts': Timestamp(1505938058, 2)},\n",
       " 'updatedExisting': True}"
      ]
     },
     "metadata": {},
     "output_type": "display_data"
    },
    {
     "data": {
      "text/plain": [
       "{'electionId': ObjectId('7fffffff0000000000000002'),\n",
       " 'n': 1,\n",
       " 'nModified': 1,\n",
       " 'ok': 1.0,\n",
       " 'opTime': {'t': 2, 'ts': Timestamp(1505938059, 1)},\n",
       " 'updatedExisting': True}"
      ]
     },
     "metadata": {},
     "output_type": "display_data"
    },
    {
     "data": {
      "text/plain": [
       "{'electionId': ObjectId('7fffffff0000000000000002'),\n",
       " 'n': 1,\n",
       " 'nModified': 1,\n",
       " 'ok': 1.0,\n",
       " 'opTime': {'t': 2, 'ts': Timestamp(1505938060, 1)},\n",
       " 'updatedExisting': True}"
      ]
     },
     "metadata": {},
     "output_type": "display_data"
    },
    {
     "data": {
      "text/plain": [
       "{'electionId': ObjectId('7fffffff0000000000000002'),\n",
       " 'n': 1,\n",
       " 'nModified': 1,\n",
       " 'ok': 1.0,\n",
       " 'opTime': {'t': 2, 'ts': Timestamp(1505938062, 1)},\n",
       " 'updatedExisting': True}"
      ]
     },
     "metadata": {},
     "output_type": "display_data"
    },
    {
     "data": {
      "text/plain": [
       "{'electionId': ObjectId('7fffffff0000000000000002'),\n",
       " 'n': 1,\n",
       " 'nModified': 1,\n",
       " 'ok': 1.0,\n",
       " 'opTime': {'t': 2, 'ts': Timestamp(1505938063, 1)},\n",
       " 'updatedExisting': True}"
      ]
     },
     "metadata": {},
     "output_type": "display_data"
    },
    {
     "data": {
      "text/plain": [
       "{'electionId': ObjectId('7fffffff0000000000000002'),\n",
       " 'n': 1,\n",
       " 'nModified': 1,\n",
       " 'ok': 1.0,\n",
       " 'opTime': {'t': 2, 'ts': Timestamp(1505938064, 1)},\n",
       " 'updatedExisting': True}"
      ]
     },
     "metadata": {},
     "output_type": "display_data"
    },
    {
     "data": {
      "text/plain": [
       "{'electionId': ObjectId('7fffffff0000000000000002'),\n",
       " 'n': 1,\n",
       " 'nModified': 1,\n",
       " 'ok': 1.0,\n",
       " 'opTime': {'t': 2, 'ts': Timestamp(1505938065, 1)},\n",
       " 'updatedExisting': True}"
      ]
     },
     "metadata": {},
     "output_type": "display_data"
    },
    {
     "data": {
      "text/plain": [
       "{'electionId': ObjectId('7fffffff0000000000000002'),\n",
       " 'n': 1,\n",
       " 'nModified': 1,\n",
       " 'ok': 1.0,\n",
       " 'opTime': {'t': 2, 'ts': Timestamp(1505938066, 1)},\n",
       " 'updatedExisting': True}"
      ]
     },
     "metadata": {},
     "output_type": "display_data"
    },
    {
     "data": {
      "text/plain": [
       "{'electionId': ObjectId('7fffffff0000000000000002'),\n",
       " 'n': 1,\n",
       " 'nModified': 1,\n",
       " 'ok': 1.0,\n",
       " 'opTime': {'t': 2, 'ts': Timestamp(1505938067, 1)},\n",
       " 'updatedExisting': True}"
      ]
     },
     "metadata": {},
     "output_type": "display_data"
    },
    {
     "data": {
      "text/plain": [
       "{'electionId': ObjectId('7fffffff0000000000000002'),\n",
       " 'n': 1,\n",
       " 'nModified': 1,\n",
       " 'ok': 1.0,\n",
       " 'opTime': {'t': 2, 'ts': Timestamp(1505938068, 1)},\n",
       " 'updatedExisting': True}"
      ]
     },
     "metadata": {},
     "output_type": "display_data"
    },
    {
     "data": {
      "text/plain": [
       "{'electionId': ObjectId('7fffffff0000000000000002'),\n",
       " 'n': 1,\n",
       " 'nModified': 1,\n",
       " 'ok': 1.0,\n",
       " 'opTime': {'t': 2, 'ts': Timestamp(1505938069, 1)},\n",
       " 'updatedExisting': True}"
      ]
     },
     "metadata": {},
     "output_type": "display_data"
    },
    {
     "data": {
      "text/plain": [
       "{'electionId': ObjectId('7fffffff0000000000000002'),\n",
       " 'n': 1,\n",
       " 'nModified': 1,\n",
       " 'ok': 1.0,\n",
       " 'opTime': {'t': 2, 'ts': Timestamp(1505938070, 1)},\n",
       " 'updatedExisting': True}"
      ]
     },
     "metadata": {},
     "output_type": "display_data"
    },
    {
     "data": {
      "text/plain": [
       "{'electionId': ObjectId('7fffffff0000000000000002'),\n",
       " 'n': 1,\n",
       " 'nModified': 1,\n",
       " 'ok': 1.0,\n",
       " 'opTime': {'t': 2, 'ts': Timestamp(1505938071, 1)},\n",
       " 'updatedExisting': True}"
      ]
     },
     "metadata": {},
     "output_type": "display_data"
    },
    {
     "data": {
      "text/plain": [
       "{'electionId': ObjectId('7fffffff0000000000000002'),\n",
       " 'n': 1,\n",
       " 'nModified': 1,\n",
       " 'ok': 1.0,\n",
       " 'opTime': {'t': 2, 'ts': Timestamp(1505938072, 1)},\n",
       " 'updatedExisting': True}"
      ]
     },
     "metadata": {},
     "output_type": "display_data"
    },
    {
     "data": {
      "text/plain": [
       "{'electionId': ObjectId('7fffffff0000000000000002'),\n",
       " 'n': 1,\n",
       " 'nModified': 1,\n",
       " 'ok': 1.0,\n",
       " 'opTime': {'t': 2, 'ts': Timestamp(1505938073, 1)},\n",
       " 'updatedExisting': True}"
      ]
     },
     "metadata": {},
     "output_type": "display_data"
    },
    {
     "data": {
      "text/plain": [
       "{'electionId': ObjectId('7fffffff0000000000000002'),\n",
       " 'n': 1,\n",
       " 'nModified': 1,\n",
       " 'ok': 1.0,\n",
       " 'opTime': {'t': 2, 'ts': Timestamp(1505938074, 1)},\n",
       " 'updatedExisting': True}"
      ]
     },
     "metadata": {},
     "output_type": "display_data"
    },
    {
     "data": {
      "text/plain": [
       "{'electionId': ObjectId('7fffffff0000000000000002'),\n",
       " 'n': 1,\n",
       " 'nModified': 1,\n",
       " 'ok': 1.0,\n",
       " 'opTime': {'t': 2, 'ts': Timestamp(1505938075, 1)},\n",
       " 'updatedExisting': True}"
      ]
     },
     "metadata": {},
     "output_type": "display_data"
    },
    {
     "data": {
      "text/plain": [
       "{'electionId': ObjectId('7fffffff0000000000000002'),\n",
       " 'n': 1,\n",
       " 'nModified': 1,\n",
       " 'ok': 1.0,\n",
       " 'opTime': {'t': 2, 'ts': Timestamp(1505938076, 1)},\n",
       " 'updatedExisting': True}"
      ]
     },
     "metadata": {},
     "output_type": "display_data"
    },
    {
     "data": {
      "text/plain": [
       "{'electionId': ObjectId('7fffffff0000000000000002'),\n",
       " 'n': 1,\n",
       " 'nModified': 1,\n",
       " 'ok': 1.0,\n",
       " 'opTime': {'t': 2, 'ts': Timestamp(1505938077, 1)},\n",
       " 'updatedExisting': True}"
      ]
     },
     "metadata": {},
     "output_type": "display_data"
    },
    {
     "data": {
      "text/plain": [
       "{'electionId': ObjectId('7fffffff0000000000000002'),\n",
       " 'n': 1,\n",
       " 'nModified': 1,\n",
       " 'ok': 1.0,\n",
       " 'opTime': {'t': 2, 'ts': Timestamp(1505938077, 2)},\n",
       " 'updatedExisting': True}"
      ]
     },
     "metadata": {},
     "output_type": "display_data"
    },
    {
     "data": {
      "text/plain": [
       "{'electionId': ObjectId('7fffffff0000000000000002'),\n",
       " 'n': 1,\n",
       " 'nModified': 1,\n",
       " 'ok': 1.0,\n",
       " 'opTime': {'t': 2, 'ts': Timestamp(1505938078, 1)},\n",
       " 'updatedExisting': True}"
      ]
     },
     "metadata": {},
     "output_type": "display_data"
    },
    {
     "data": {
      "text/plain": [
       "{'electionId': ObjectId('7fffffff0000000000000002'),\n",
       " 'n': 1,\n",
       " 'nModified': 1,\n",
       " 'ok': 1.0,\n",
       " 'opTime': {'t': 2, 'ts': Timestamp(1505938079, 1)},\n",
       " 'updatedExisting': True}"
      ]
     },
     "metadata": {},
     "output_type": "display_data"
    },
    {
     "data": {
      "text/plain": [
       "{'electionId': ObjectId('7fffffff0000000000000002'),\n",
       " 'n': 1,\n",
       " 'nModified': 1,\n",
       " 'ok': 1.0,\n",
       " 'opTime': {'t': 2, 'ts': Timestamp(1505938080, 1)},\n",
       " 'updatedExisting': True}"
      ]
     },
     "metadata": {},
     "output_type": "display_data"
    },
    {
     "data": {
      "text/plain": [
       "{'electionId': ObjectId('7fffffff0000000000000002'),\n",
       " 'n': 1,\n",
       " 'nModified': 1,\n",
       " 'ok': 1.0,\n",
       " 'opTime': {'t': 2, 'ts': Timestamp(1505938081, 1)},\n",
       " 'updatedExisting': True}"
      ]
     },
     "metadata": {},
     "output_type": "display_data"
    },
    {
     "data": {
      "text/plain": [
       "{'electionId': ObjectId('7fffffff0000000000000002'),\n",
       " 'n': 1,\n",
       " 'nModified': 1,\n",
       " 'ok': 1.0,\n",
       " 'opTime': {'t': 2, 'ts': Timestamp(1505938082, 1)},\n",
       " 'updatedExisting': True}"
      ]
     },
     "metadata": {},
     "output_type": "display_data"
    },
    {
     "data": {
      "text/plain": [
       "{'electionId': ObjectId('7fffffff0000000000000002'),\n",
       " 'n': 1,\n",
       " 'nModified': 1,\n",
       " 'ok': 1.0,\n",
       " 'opTime': {'t': 2, 'ts': Timestamp(1505938083, 1)},\n",
       " 'updatedExisting': True}"
      ]
     },
     "metadata": {},
     "output_type": "display_data"
    },
    {
     "data": {
      "text/plain": [
       "{'electionId': ObjectId('7fffffff0000000000000002'),\n",
       " 'n': 1,\n",
       " 'nModified': 1,\n",
       " 'ok': 1.0,\n",
       " 'opTime': {'t': 2, 'ts': Timestamp(1505938084, 1)},\n",
       " 'updatedExisting': True}"
      ]
     },
     "metadata": {},
     "output_type": "display_data"
    },
    {
     "data": {
      "text/plain": [
       "{'electionId': ObjectId('7fffffff0000000000000002'),\n",
       " 'n': 1,\n",
       " 'nModified': 1,\n",
       " 'ok': 1.0,\n",
       " 'opTime': {'t': 2, 'ts': Timestamp(1505938085, 1)},\n",
       " 'updatedExisting': True}"
      ]
     },
     "metadata": {},
     "output_type": "display_data"
    },
    {
     "data": {
      "text/plain": [
       "{'electionId': ObjectId('7fffffff0000000000000002'),\n",
       " 'n': 1,\n",
       " 'nModified': 1,\n",
       " 'ok': 1.0,\n",
       " 'opTime': {'t': 2, 'ts': Timestamp(1505938086, 1)},\n",
       " 'updatedExisting': True}"
      ]
     },
     "metadata": {},
     "output_type": "display_data"
    },
    {
     "data": {
      "text/plain": [
       "{'electionId': ObjectId('7fffffff0000000000000002'),\n",
       " 'n': 1,\n",
       " 'nModified': 1,\n",
       " 'ok': 1.0,\n",
       " 'opTime': {'t': 2, 'ts': Timestamp(1505938087, 1)},\n",
       " 'updatedExisting': True}"
      ]
     },
     "metadata": {},
     "output_type": "display_data"
    },
    {
     "data": {
      "text/plain": [
       "{'electionId': ObjectId('7fffffff0000000000000002'),\n",
       " 'n': 1,\n",
       " 'nModified': 1,\n",
       " 'ok': 1.0,\n",
       " 'opTime': {'t': 2, 'ts': Timestamp(1505938089, 1)},\n",
       " 'updatedExisting': True}"
      ]
     },
     "metadata": {},
     "output_type": "display_data"
    },
    {
     "data": {
      "text/plain": [
       "{'electionId': ObjectId('7fffffff0000000000000002'),\n",
       " 'n': 1,\n",
       " 'nModified': 1,\n",
       " 'ok': 1.0,\n",
       " 'opTime': {'t': 2, 'ts': Timestamp(1505938090, 1)},\n",
       " 'updatedExisting': True}"
      ]
     },
     "metadata": {},
     "output_type": "display_data"
    },
    {
     "data": {
      "text/plain": [
       "{'electionId': ObjectId('7fffffff0000000000000002'),\n",
       " 'n': 1,\n",
       " 'nModified': 1,\n",
       " 'ok': 1.0,\n",
       " 'opTime': {'t': 2, 'ts': Timestamp(1505938091, 1)},\n",
       " 'updatedExisting': True}"
      ]
     },
     "metadata": {},
     "output_type": "display_data"
    },
    {
     "data": {
      "text/plain": [
       "{'electionId': ObjectId('7fffffff0000000000000002'),\n",
       " 'n': 1,\n",
       " 'nModified': 1,\n",
       " 'ok': 1.0,\n",
       " 'opTime': {'t': 2, 'ts': Timestamp(1505938092, 1)},\n",
       " 'updatedExisting': True}"
      ]
     },
     "metadata": {},
     "output_type": "display_data"
    },
    {
     "data": {
      "text/plain": [
       "{'electionId': ObjectId('7fffffff0000000000000002'),\n",
       " 'n': 1,\n",
       " 'nModified': 1,\n",
       " 'ok': 1.0,\n",
       " 'opTime': {'t': 2, 'ts': Timestamp(1505938093, 1)},\n",
       " 'updatedExisting': True}"
      ]
     },
     "metadata": {},
     "output_type": "display_data"
    },
    {
     "data": {
      "text/plain": [
       "{'electionId': ObjectId('7fffffff0000000000000002'),\n",
       " 'n': 1,\n",
       " 'nModified': 1,\n",
       " 'ok': 1.0,\n",
       " 'opTime': {'t': 2, 'ts': Timestamp(1505938095, 1)},\n",
       " 'updatedExisting': True}"
      ]
     },
     "metadata": {},
     "output_type": "display_data"
    },
    {
     "data": {
      "text/plain": [
       "{'electionId': ObjectId('7fffffff0000000000000002'),\n",
       " 'n': 1,\n",
       " 'nModified': 1,\n",
       " 'ok': 1.0,\n",
       " 'opTime': {'t': 2, 'ts': Timestamp(1505938096, 1)},\n",
       " 'updatedExisting': True}"
      ]
     },
     "metadata": {},
     "output_type": "display_data"
    },
    {
     "data": {
      "text/plain": [
       "{'electionId': ObjectId('7fffffff0000000000000002'),\n",
       " 'n': 1,\n",
       " 'nModified': 1,\n",
       " 'ok': 1.0,\n",
       " 'opTime': {'t': 2, 'ts': Timestamp(1505938097, 1)},\n",
       " 'updatedExisting': True}"
      ]
     },
     "metadata": {},
     "output_type": "display_data"
    },
    {
     "data": {
      "text/plain": [
       "{'electionId': ObjectId('7fffffff0000000000000002'),\n",
       " 'n': 1,\n",
       " 'nModified': 1,\n",
       " 'ok': 1.0,\n",
       " 'opTime': {'t': 2, 'ts': Timestamp(1505938098, 1)},\n",
       " 'updatedExisting': True}"
      ]
     },
     "metadata": {},
     "output_type": "display_data"
    },
    {
     "data": {
      "text/plain": [
       "{'electionId': ObjectId('7fffffff0000000000000002'),\n",
       " 'n': 1,\n",
       " 'nModified': 1,\n",
       " 'ok': 1.0,\n",
       " 'opTime': {'t': 2, 'ts': Timestamp(1505938099, 1)},\n",
       " 'updatedExisting': True}"
      ]
     },
     "metadata": {},
     "output_type": "display_data"
    },
    {
     "data": {
      "text/plain": [
       "{'electionId': ObjectId('7fffffff0000000000000002'),\n",
       " 'n': 1,\n",
       " 'nModified': 1,\n",
       " 'ok': 1.0,\n",
       " 'opTime': {'t': 2, 'ts': Timestamp(1505938100, 1)},\n",
       " 'updatedExisting': True}"
      ]
     },
     "metadata": {},
     "output_type": "display_data"
    },
    {
     "data": {
      "text/plain": [
       "{'electionId': ObjectId('7fffffff0000000000000002'),\n",
       " 'n': 1,\n",
       " 'nModified': 1,\n",
       " 'ok': 1.0,\n",
       " 'opTime': {'t': 2, 'ts': Timestamp(1505938102, 1)},\n",
       " 'updatedExisting': True}"
      ]
     },
     "metadata": {},
     "output_type": "display_data"
    },
    {
     "data": {
      "text/plain": [
       "{'electionId': ObjectId('7fffffff0000000000000002'),\n",
       " 'n': 1,\n",
       " 'nModified': 1,\n",
       " 'ok': 1.0,\n",
       " 'opTime': {'t': 2, 'ts': Timestamp(1505938103, 1)},\n",
       " 'updatedExisting': True}"
      ]
     },
     "metadata": {},
     "output_type": "display_data"
    },
    {
     "data": {
      "text/plain": [
       "{'electionId': ObjectId('7fffffff0000000000000002'),\n",
       " 'n': 1,\n",
       " 'nModified': 1,\n",
       " 'ok': 1.0,\n",
       " 'opTime': {'t': 2, 'ts': Timestamp(1505938104, 1)},\n",
       " 'updatedExisting': True}"
      ]
     },
     "metadata": {},
     "output_type": "display_data"
    },
    {
     "data": {
      "text/plain": [
       "{'electionId': ObjectId('7fffffff0000000000000002'),\n",
       " 'n': 1,\n",
       " 'nModified': 1,\n",
       " 'ok': 1.0,\n",
       " 'opTime': {'t': 2, 'ts': Timestamp(1505938106, 1)},\n",
       " 'updatedExisting': True}"
      ]
     },
     "metadata": {},
     "output_type": "display_data"
    },
    {
     "data": {
      "text/plain": [
       "{'electionId': ObjectId('7fffffff0000000000000002'),\n",
       " 'n': 1,\n",
       " 'nModified': 1,\n",
       " 'ok': 1.0,\n",
       " 'opTime': {'t': 2, 'ts': Timestamp(1505938108, 1)},\n",
       " 'updatedExisting': True}"
      ]
     },
     "metadata": {},
     "output_type": "display_data"
    },
    {
     "data": {
      "text/plain": [
       "{'electionId': ObjectId('7fffffff0000000000000002'),\n",
       " 'n': 1,\n",
       " 'nModified': 1,\n",
       " 'ok': 1.0,\n",
       " 'opTime': {'t': 2, 'ts': Timestamp(1505938111, 1)},\n",
       " 'updatedExisting': True}"
      ]
     },
     "metadata": {},
     "output_type": "display_data"
    },
    {
     "data": {
      "text/plain": [
       "{'electionId': ObjectId('7fffffff0000000000000002'),\n",
       " 'n': 1,\n",
       " 'nModified': 1,\n",
       " 'ok': 1.0,\n",
       " 'opTime': {'t': 2, 'ts': Timestamp(1505938113, 1)},\n",
       " 'updatedExisting': True}"
      ]
     },
     "metadata": {},
     "output_type": "display_data"
    },
    {
     "data": {
      "text/plain": [
       "{'electionId': ObjectId('7fffffff0000000000000002'),\n",
       " 'n': 1,\n",
       " 'nModified': 1,\n",
       " 'ok': 1.0,\n",
       " 'opTime': {'t': 2, 'ts': Timestamp(1505938114, 1)},\n",
       " 'updatedExisting': True}"
      ]
     },
     "metadata": {},
     "output_type": "display_data"
    },
    {
     "data": {
      "text/plain": [
       "{'electionId': ObjectId('7fffffff0000000000000002'),\n",
       " 'n': 1,\n",
       " 'nModified': 1,\n",
       " 'ok': 1.0,\n",
       " 'opTime': {'t': 2, 'ts': Timestamp(1505938116, 1)},\n",
       " 'updatedExisting': True}"
      ]
     },
     "metadata": {},
     "output_type": "display_data"
    },
    {
     "data": {
      "text/plain": [
       "{'electionId': ObjectId('7fffffff0000000000000002'),\n",
       " 'n': 1,\n",
       " 'nModified': 1,\n",
       " 'ok': 1.0,\n",
       " 'opTime': {'t': 2, 'ts': Timestamp(1505938117, 1)},\n",
       " 'updatedExisting': True}"
      ]
     },
     "metadata": {},
     "output_type": "display_data"
    },
    {
     "data": {
      "text/plain": [
       "{'electionId': ObjectId('7fffffff0000000000000002'),\n",
       " 'n': 1,\n",
       " 'nModified': 1,\n",
       " 'ok': 1.0,\n",
       " 'opTime': {'t': 2, 'ts': Timestamp(1505938118, 1)},\n",
       " 'updatedExisting': True}"
      ]
     },
     "metadata": {},
     "output_type": "display_data"
    },
    {
     "data": {
      "text/plain": [
       "{'electionId': ObjectId('7fffffff0000000000000002'),\n",
       " 'n': 1,\n",
       " 'nModified': 1,\n",
       " 'ok': 1.0,\n",
       " 'opTime': {'t': 2, 'ts': Timestamp(1505938121, 1)},\n",
       " 'updatedExisting': True}"
      ]
     },
     "metadata": {},
     "output_type": "display_data"
    },
    {
     "data": {
      "text/plain": [
       "{'electionId': ObjectId('7fffffff0000000000000002'),\n",
       " 'n': 1,\n",
       " 'nModified': 1,\n",
       " 'ok': 1.0,\n",
       " 'opTime': {'t': 2, 'ts': Timestamp(1505938122, 1)},\n",
       " 'updatedExisting': True}"
      ]
     },
     "metadata": {},
     "output_type": "display_data"
    },
    {
     "data": {
      "text/plain": [
       "{'electionId': ObjectId('7fffffff0000000000000002'),\n",
       " 'n': 1,\n",
       " 'nModified': 1,\n",
       " 'ok': 1.0,\n",
       " 'opTime': {'t': 2, 'ts': Timestamp(1505938123, 1)},\n",
       " 'updatedExisting': True}"
      ]
     },
     "metadata": {},
     "output_type": "display_data"
    },
    {
     "data": {
      "text/plain": [
       "{'electionId': ObjectId('7fffffff0000000000000002'),\n",
       " 'n': 1,\n",
       " 'nModified': 1,\n",
       " 'ok': 1.0,\n",
       " 'opTime': {'t': 2, 'ts': Timestamp(1505938123, 2)},\n",
       " 'updatedExisting': True}"
      ]
     },
     "metadata": {},
     "output_type": "display_data"
    },
    {
     "data": {
      "text/plain": [
       "{'electionId': ObjectId('7fffffff0000000000000002'),\n",
       " 'n': 1,\n",
       " 'nModified': 1,\n",
       " 'ok': 1.0,\n",
       " 'opTime': {'t': 2, 'ts': Timestamp(1505938124, 1)},\n",
       " 'updatedExisting': True}"
      ]
     },
     "metadata": {},
     "output_type": "display_data"
    },
    {
     "data": {
      "text/plain": [
       "{'electionId': ObjectId('7fffffff0000000000000002'),\n",
       " 'n': 1,\n",
       " 'nModified': 1,\n",
       " 'ok': 1.0,\n",
       " 'opTime': {'t': 2, 'ts': Timestamp(1505938125, 1)},\n",
       " 'updatedExisting': True}"
      ]
     },
     "metadata": {},
     "output_type": "display_data"
    },
    {
     "data": {
      "text/plain": [
       "{'electionId': ObjectId('7fffffff0000000000000002'),\n",
       " 'n': 1,\n",
       " 'nModified': 1,\n",
       " 'ok': 1.0,\n",
       " 'opTime': {'t': 2, 'ts': Timestamp(1505938126, 1)},\n",
       " 'updatedExisting': True}"
      ]
     },
     "metadata": {},
     "output_type": "display_data"
    },
    {
     "data": {
      "text/plain": [
       "{'electionId': ObjectId('7fffffff0000000000000002'),\n",
       " 'n': 1,\n",
       " 'nModified': 1,\n",
       " 'ok': 1.0,\n",
       " 'opTime': {'t': 2, 'ts': Timestamp(1505938127, 1)},\n",
       " 'updatedExisting': True}"
      ]
     },
     "metadata": {},
     "output_type": "display_data"
    },
    {
     "data": {
      "text/plain": [
       "{'electionId': ObjectId('7fffffff0000000000000002'),\n",
       " 'n': 1,\n",
       " 'nModified': 1,\n",
       " 'ok': 1.0,\n",
       " 'opTime': {'t': 2, 'ts': Timestamp(1505938128, 1)},\n",
       " 'updatedExisting': True}"
      ]
     },
     "metadata": {},
     "output_type": "display_data"
    },
    {
     "data": {
      "text/plain": [
       "{'electionId': ObjectId('7fffffff0000000000000002'),\n",
       " 'n': 1,\n",
       " 'nModified': 1,\n",
       " 'ok': 1.0,\n",
       " 'opTime': {'t': 2, 'ts': Timestamp(1505938129, 1)},\n",
       " 'updatedExisting': True}"
      ]
     },
     "metadata": {},
     "output_type": "display_data"
    },
    {
     "data": {
      "text/plain": [
       "{'electionId': ObjectId('7fffffff0000000000000002'),\n",
       " 'n': 1,\n",
       " 'nModified': 1,\n",
       " 'ok': 1.0,\n",
       " 'opTime': {'t': 2, 'ts': Timestamp(1505938130, 1)},\n",
       " 'updatedExisting': True}"
      ]
     },
     "metadata": {},
     "output_type": "display_data"
    },
    {
     "data": {
      "text/plain": [
       "{'electionId': ObjectId('7fffffff0000000000000002'),\n",
       " 'n': 1,\n",
       " 'nModified': 1,\n",
       " 'ok': 1.0,\n",
       " 'opTime': {'t': 2, 'ts': Timestamp(1505938131, 1)},\n",
       " 'updatedExisting': True}"
      ]
     },
     "metadata": {},
     "output_type": "display_data"
    },
    {
     "data": {
      "text/plain": [
       "{'electionId': ObjectId('7fffffff0000000000000002'),\n",
       " 'n': 1,\n",
       " 'nModified': 1,\n",
       " 'ok': 1.0,\n",
       " 'opTime': {'t': 2, 'ts': Timestamp(1505938132, 1)},\n",
       " 'updatedExisting': True}"
      ]
     },
     "metadata": {},
     "output_type": "display_data"
    },
    {
     "data": {
      "text/plain": [
       "{'electionId': ObjectId('7fffffff0000000000000002'),\n",
       " 'n': 1,\n",
       " 'nModified': 1,\n",
       " 'ok': 1.0,\n",
       " 'opTime': {'t': 2, 'ts': Timestamp(1505938134, 1)},\n",
       " 'updatedExisting': True}"
      ]
     },
     "metadata": {},
     "output_type": "display_data"
    },
    {
     "data": {
      "text/plain": [
       "{'electionId': ObjectId('7fffffff0000000000000002'),\n",
       " 'n': 1,\n",
       " 'nModified': 1,\n",
       " 'ok': 1.0,\n",
       " 'opTime': {'t': 2, 'ts': Timestamp(1505938135, 1)},\n",
       " 'updatedExisting': True}"
      ]
     },
     "metadata": {},
     "output_type": "display_data"
    },
    {
     "data": {
      "text/plain": [
       "{'electionId': ObjectId('7fffffff0000000000000002'),\n",
       " 'n': 1,\n",
       " 'nModified': 1,\n",
       " 'ok': 1.0,\n",
       " 'opTime': {'t': 2, 'ts': Timestamp(1505938136, 1)},\n",
       " 'updatedExisting': True}"
      ]
     },
     "metadata": {},
     "output_type": "display_data"
    },
    {
     "data": {
      "text/plain": [
       "{'electionId': ObjectId('7fffffff0000000000000002'),\n",
       " 'n': 1,\n",
       " 'nModified': 1,\n",
       " 'ok': 1.0,\n",
       " 'opTime': {'t': 2, 'ts': Timestamp(1505938137, 1)},\n",
       " 'updatedExisting': True}"
      ]
     },
     "metadata": {},
     "output_type": "display_data"
    },
    {
     "data": {
      "text/plain": [
       "{'electionId': ObjectId('7fffffff0000000000000002'),\n",
       " 'n': 1,\n",
       " 'nModified': 1,\n",
       " 'ok': 1.0,\n",
       " 'opTime': {'t': 2, 'ts': Timestamp(1505938138, 1)},\n",
       " 'updatedExisting': True}"
      ]
     },
     "metadata": {},
     "output_type": "display_data"
    },
    {
     "data": {
      "text/plain": [
       "{'electionId': ObjectId('7fffffff0000000000000002'),\n",
       " 'n': 1,\n",
       " 'nModified': 1,\n",
       " 'ok': 1.0,\n",
       " 'opTime': {'t': 2, 'ts': Timestamp(1505938138, 2)},\n",
       " 'updatedExisting': True}"
      ]
     },
     "metadata": {},
     "output_type": "display_data"
    },
    {
     "data": {
      "text/plain": [
       "{'electionId': ObjectId('7fffffff0000000000000002'),\n",
       " 'n': 1,\n",
       " 'nModified': 1,\n",
       " 'ok': 1.0,\n",
       " 'opTime': {'t': 2, 'ts': Timestamp(1505938139, 1)},\n",
       " 'updatedExisting': True}"
      ]
     },
     "metadata": {},
     "output_type": "display_data"
    },
    {
     "data": {
      "text/plain": [
       "{'electionId': ObjectId('7fffffff0000000000000002'),\n",
       " 'n': 1,\n",
       " 'nModified': 1,\n",
       " 'ok': 1.0,\n",
       " 'opTime': {'t': 2, 'ts': Timestamp(1505938141, 1)},\n",
       " 'updatedExisting': True}"
      ]
     },
     "metadata": {},
     "output_type": "display_data"
    },
    {
     "data": {
      "text/plain": [
       "{'electionId': ObjectId('7fffffff0000000000000002'),\n",
       " 'n': 1,\n",
       " 'nModified': 1,\n",
       " 'ok': 1.0,\n",
       " 'opTime': {'t': 2, 'ts': Timestamp(1505938142, 1)},\n",
       " 'updatedExisting': True}"
      ]
     },
     "metadata": {},
     "output_type": "display_data"
    },
    {
     "data": {
      "text/plain": [
       "{'electionId': ObjectId('7fffffff0000000000000002'),\n",
       " 'n': 1,\n",
       " 'nModified': 1,\n",
       " 'ok': 1.0,\n",
       " 'opTime': {'t': 2, 'ts': Timestamp(1505938144, 1)},\n",
       " 'updatedExisting': True}"
      ]
     },
     "metadata": {},
     "output_type": "display_data"
    },
    {
     "data": {
      "text/plain": [
       "{'electionId': ObjectId('7fffffff0000000000000002'),\n",
       " 'n': 1,\n",
       " 'nModified': 1,\n",
       " 'ok': 1.0,\n",
       " 'opTime': {'t': 2, 'ts': Timestamp(1505938145, 1)},\n",
       " 'updatedExisting': True}"
      ]
     },
     "metadata": {},
     "output_type": "display_data"
    },
    {
     "data": {
      "text/plain": [
       "{'electionId': ObjectId('7fffffff0000000000000002'),\n",
       " 'n': 1,\n",
       " 'nModified': 1,\n",
       " 'ok': 1.0,\n",
       " 'opTime': {'t': 2, 'ts': Timestamp(1505938146, 1)},\n",
       " 'updatedExisting': True}"
      ]
     },
     "metadata": {},
     "output_type": "display_data"
    },
    {
     "data": {
      "text/plain": [
       "{'electionId': ObjectId('7fffffff0000000000000002'),\n",
       " 'n': 1,\n",
       " 'nModified': 1,\n",
       " 'ok': 1.0,\n",
       " 'opTime': {'t': 2, 'ts': Timestamp(1505938147, 1)},\n",
       " 'updatedExisting': True}"
      ]
     },
     "metadata": {},
     "output_type": "display_data"
    },
    {
     "data": {
      "text/plain": [
       "{'electionId': ObjectId('7fffffff0000000000000002'),\n",
       " 'n': 1,\n",
       " 'nModified': 1,\n",
       " 'ok': 1.0,\n",
       " 'opTime': {'t': 2, 'ts': Timestamp(1505938147, 2)},\n",
       " 'updatedExisting': True}"
      ]
     },
     "metadata": {},
     "output_type": "display_data"
    },
    {
     "data": {
      "text/plain": [
       "{'electionId': ObjectId('7fffffff0000000000000002'),\n",
       " 'n': 1,\n",
       " 'nModified': 1,\n",
       " 'ok': 1.0,\n",
       " 'opTime': {'t': 2, 'ts': Timestamp(1505938148, 1)},\n",
       " 'updatedExisting': True}"
      ]
     },
     "metadata": {},
     "output_type": "display_data"
    },
    {
     "data": {
      "text/plain": [
       "{'electionId': ObjectId('7fffffff0000000000000002'),\n",
       " 'n': 1,\n",
       " 'nModified': 1,\n",
       " 'ok': 1.0,\n",
       " 'opTime': {'t': 2, 'ts': Timestamp(1505938149, 1)},\n",
       " 'updatedExisting': True}"
      ]
     },
     "metadata": {},
     "output_type": "display_data"
    },
    {
     "data": {
      "text/plain": [
       "{'electionId': ObjectId('7fffffff0000000000000002'),\n",
       " 'n': 1,\n",
       " 'nModified': 1,\n",
       " 'ok': 1.0,\n",
       " 'opTime': {'t': 2, 'ts': Timestamp(1505938150, 1)},\n",
       " 'updatedExisting': True}"
      ]
     },
     "metadata": {},
     "output_type": "display_data"
    },
    {
     "data": {
      "text/plain": [
       "{'electionId': ObjectId('7fffffff0000000000000002'),\n",
       " 'n': 1,\n",
       " 'nModified': 1,\n",
       " 'ok': 1.0,\n",
       " 'opTime': {'t': 2, 'ts': Timestamp(1505938150, 2)},\n",
       " 'updatedExisting': True}"
      ]
     },
     "metadata": {},
     "output_type": "display_data"
    },
    {
     "data": {
      "text/plain": [
       "{'electionId': ObjectId('7fffffff0000000000000002'),\n",
       " 'n': 1,\n",
       " 'nModified': 1,\n",
       " 'ok': 1.0,\n",
       " 'opTime': {'t': 2, 'ts': Timestamp(1505938151, 1)},\n",
       " 'updatedExisting': True}"
      ]
     },
     "metadata": {},
     "output_type": "display_data"
    },
    {
     "data": {
      "text/plain": [
       "{'electionId': ObjectId('7fffffff0000000000000002'),\n",
       " 'n': 1,\n",
       " 'nModified': 1,\n",
       " 'ok': 1.0,\n",
       " 'opTime': {'t': 2, 'ts': Timestamp(1505938152, 1)},\n",
       " 'updatedExisting': True}"
      ]
     },
     "metadata": {},
     "output_type": "display_data"
    },
    {
     "data": {
      "text/plain": [
       "{'electionId': ObjectId('7fffffff0000000000000002'),\n",
       " 'n': 1,\n",
       " 'nModified': 1,\n",
       " 'ok': 1.0,\n",
       " 'opTime': {'t': 2, 'ts': Timestamp(1505938153, 1)},\n",
       " 'updatedExisting': True}"
      ]
     },
     "metadata": {},
     "output_type": "display_data"
    },
    {
     "data": {
      "text/plain": [
       "{'electionId': ObjectId('7fffffff0000000000000002'),\n",
       " 'n': 1,\n",
       " 'nModified': 1,\n",
       " 'ok': 1.0,\n",
       " 'opTime': {'t': 2, 'ts': Timestamp(1505938153, 2)},\n",
       " 'updatedExisting': True}"
      ]
     },
     "metadata": {},
     "output_type": "display_data"
    },
    {
     "data": {
      "text/plain": [
       "{'electionId': ObjectId('7fffffff0000000000000002'),\n",
       " 'n': 1,\n",
       " 'nModified': 1,\n",
       " 'ok': 1.0,\n",
       " 'opTime': {'t': 2, 'ts': Timestamp(1505938154, 1)},\n",
       " 'updatedExisting': True}"
      ]
     },
     "metadata": {},
     "output_type": "display_data"
    },
    {
     "data": {
      "text/plain": [
       "{'electionId': ObjectId('7fffffff0000000000000002'),\n",
       " 'n': 1,\n",
       " 'nModified': 1,\n",
       " 'ok': 1.0,\n",
       " 'opTime': {'t': 2, 'ts': Timestamp(1505938155, 1)},\n",
       " 'updatedExisting': True}"
      ]
     },
     "metadata": {},
     "output_type": "display_data"
    },
    {
     "data": {
      "text/plain": [
       "{'electionId': ObjectId('7fffffff0000000000000002'),\n",
       " 'n': 1,\n",
       " 'nModified': 1,\n",
       " 'ok': 1.0,\n",
       " 'opTime': {'t': 2, 'ts': Timestamp(1505938156, 1)},\n",
       " 'updatedExisting': True}"
      ]
     },
     "metadata": {},
     "output_type": "display_data"
    },
    {
     "data": {
      "text/plain": [
       "{'electionId': ObjectId('7fffffff0000000000000002'),\n",
       " 'n': 1,\n",
       " 'nModified': 1,\n",
       " 'ok': 1.0,\n",
       " 'opTime': {'t': 2, 'ts': Timestamp(1505938157, 1)},\n",
       " 'updatedExisting': True}"
      ]
     },
     "metadata": {},
     "output_type": "display_data"
    },
    {
     "data": {
      "text/plain": [
       "{'electionId': ObjectId('7fffffff0000000000000002'),\n",
       " 'n': 1,\n",
       " 'nModified': 1,\n",
       " 'ok': 1.0,\n",
       " 'opTime': {'t': 2, 'ts': Timestamp(1505938158, 1)},\n",
       " 'updatedExisting': True}"
      ]
     },
     "metadata": {},
     "output_type": "display_data"
    },
    {
     "data": {
      "text/plain": [
       "{'electionId': ObjectId('7fffffff0000000000000002'),\n",
       " 'n': 1,\n",
       " 'nModified': 1,\n",
       " 'ok': 1.0,\n",
       " 'opTime': {'t': 2, 'ts': Timestamp(1505938158, 2)},\n",
       " 'updatedExisting': True}"
      ]
     },
     "metadata": {},
     "output_type": "display_data"
    },
    {
     "data": {
      "text/plain": [
       "{'electionId': ObjectId('7fffffff0000000000000002'),\n",
       " 'n': 1,\n",
       " 'nModified': 1,\n",
       " 'ok': 1.0,\n",
       " 'opTime': {'t': 2, 'ts': Timestamp(1505938159, 1)},\n",
       " 'updatedExisting': True}"
      ]
     },
     "metadata": {},
     "output_type": "display_data"
    },
    {
     "data": {
      "text/plain": [
       "{'electionId': ObjectId('7fffffff0000000000000002'),\n",
       " 'n': 1,\n",
       " 'nModified': 1,\n",
       " 'ok': 1.0,\n",
       " 'opTime': {'t': 2, 'ts': Timestamp(1505938159, 2)},\n",
       " 'updatedExisting': True}"
      ]
     },
     "metadata": {},
     "output_type": "display_data"
    },
    {
     "data": {
      "text/plain": [
       "{'electionId': ObjectId('7fffffff0000000000000002'),\n",
       " 'n': 1,\n",
       " 'nModified': 1,\n",
       " 'ok': 1.0,\n",
       " 'opTime': {'t': 2, 'ts': Timestamp(1505938160, 1)},\n",
       " 'updatedExisting': True}"
      ]
     },
     "metadata": {},
     "output_type": "display_data"
    },
    {
     "data": {
      "text/plain": [
       "{'electionId': ObjectId('7fffffff0000000000000002'),\n",
       " 'n': 1,\n",
       " 'nModified': 1,\n",
       " 'ok': 1.0,\n",
       " 'opTime': {'t': 2, 'ts': Timestamp(1505938160, 2)},\n",
       " 'updatedExisting': True}"
      ]
     },
     "metadata": {},
     "output_type": "display_data"
    },
    {
     "data": {
      "text/plain": [
       "{'electionId': ObjectId('7fffffff0000000000000002'),\n",
       " 'n': 1,\n",
       " 'nModified': 1,\n",
       " 'ok': 1.0,\n",
       " 'opTime': {'t': 2, 'ts': Timestamp(1505938161, 1)},\n",
       " 'updatedExisting': True}"
      ]
     },
     "metadata": {},
     "output_type": "display_data"
    },
    {
     "data": {
      "text/plain": [
       "{'electionId': ObjectId('7fffffff0000000000000002'),\n",
       " 'n': 1,\n",
       " 'nModified': 1,\n",
       " 'ok': 1.0,\n",
       " 'opTime': {'t': 2, 'ts': Timestamp(1505938162, 1)},\n",
       " 'updatedExisting': True}"
      ]
     },
     "metadata": {},
     "output_type": "display_data"
    },
    {
     "data": {
      "text/plain": [
       "{'electionId': ObjectId('7fffffff0000000000000002'),\n",
       " 'n': 1,\n",
       " 'nModified': 1,\n",
       " 'ok': 1.0,\n",
       " 'opTime': {'t': 2, 'ts': Timestamp(1505938162, 2)},\n",
       " 'updatedExisting': True}"
      ]
     },
     "metadata": {},
     "output_type": "display_data"
    },
    {
     "data": {
      "text/plain": [
       "{'electionId': ObjectId('7fffffff0000000000000002'),\n",
       " 'n': 1,\n",
       " 'nModified': 1,\n",
       " 'ok': 1.0,\n",
       " 'opTime': {'t': 2, 'ts': Timestamp(1505938163, 1)},\n",
       " 'updatedExisting': True}"
      ]
     },
     "metadata": {},
     "output_type": "display_data"
    },
    {
     "data": {
      "text/plain": [
       "{'electionId': ObjectId('7fffffff0000000000000002'),\n",
       " 'n': 1,\n",
       " 'nModified': 1,\n",
       " 'ok': 1.0,\n",
       " 'opTime': {'t': 2, 'ts': Timestamp(1505938163, 2)},\n",
       " 'updatedExisting': True}"
      ]
     },
     "metadata": {},
     "output_type": "display_data"
    },
    {
     "data": {
      "text/plain": [
       "{'electionId': ObjectId('7fffffff0000000000000002'),\n",
       " 'n': 1,\n",
       " 'nModified': 1,\n",
       " 'ok': 1.0,\n",
       " 'opTime': {'t': 2, 'ts': Timestamp(1505938165, 1)},\n",
       " 'updatedExisting': True}"
      ]
     },
     "metadata": {},
     "output_type": "display_data"
    },
    {
     "data": {
      "text/plain": [
       "{'electionId': ObjectId('7fffffff0000000000000002'),\n",
       " 'n': 1,\n",
       " 'nModified': 1,\n",
       " 'ok': 1.0,\n",
       " 'opTime': {'t': 2, 'ts': Timestamp(1505938166, 1)},\n",
       " 'updatedExisting': True}"
      ]
     },
     "metadata": {},
     "output_type": "display_data"
    },
    {
     "data": {
      "text/plain": [
       "{'electionId': ObjectId('7fffffff0000000000000002'),\n",
       " 'n': 1,\n",
       " 'nModified': 1,\n",
       " 'ok': 1.0,\n",
       " 'opTime': {'t': 2, 'ts': Timestamp(1505938167, 1)},\n",
       " 'updatedExisting': True}"
      ]
     },
     "metadata": {},
     "output_type": "display_data"
    },
    {
     "data": {
      "text/plain": [
       "{'electionId': ObjectId('7fffffff0000000000000002'),\n",
       " 'n': 1,\n",
       " 'nModified': 1,\n",
       " 'ok': 1.0,\n",
       " 'opTime': {'t': 2, 'ts': Timestamp(1505938167, 2)},\n",
       " 'updatedExisting': True}"
      ]
     },
     "metadata": {},
     "output_type": "display_data"
    },
    {
     "data": {
      "text/plain": [
       "{'electionId': ObjectId('7fffffff0000000000000002'),\n",
       " 'n': 1,\n",
       " 'nModified': 1,\n",
       " 'ok': 1.0,\n",
       " 'opTime': {'t': 2, 'ts': Timestamp(1505938168, 1)},\n",
       " 'updatedExisting': True}"
      ]
     },
     "metadata": {},
     "output_type": "display_data"
    },
    {
     "data": {
      "text/plain": [
       "{'electionId': ObjectId('7fffffff0000000000000002'),\n",
       " 'n': 1,\n",
       " 'nModified': 1,\n",
       " 'ok': 1.0,\n",
       " 'opTime': {'t': 2, 'ts': Timestamp(1505938168, 2)},\n",
       " 'updatedExisting': True}"
      ]
     },
     "metadata": {},
     "output_type": "display_data"
    },
    {
     "data": {
      "text/plain": [
       "{'electionId': ObjectId('7fffffff0000000000000002'),\n",
       " 'n': 1,\n",
       " 'nModified': 1,\n",
       " 'ok': 1.0,\n",
       " 'opTime': {'t': 2, 'ts': Timestamp(1505938169, 1)},\n",
       " 'updatedExisting': True}"
      ]
     },
     "metadata": {},
     "output_type": "display_data"
    },
    {
     "data": {
      "text/plain": [
       "{'electionId': ObjectId('7fffffff0000000000000002'),\n",
       " 'n': 1,\n",
       " 'nModified': 1,\n",
       " 'ok': 1.0,\n",
       " 'opTime': {'t': 2, 'ts': Timestamp(1505938170, 1)},\n",
       " 'updatedExisting': True}"
      ]
     },
     "metadata": {},
     "output_type": "display_data"
    },
    {
     "data": {
      "text/plain": [
       "{'electionId': ObjectId('7fffffff0000000000000002'),\n",
       " 'n': 1,\n",
       " 'nModified': 1,\n",
       " 'ok': 1.0,\n",
       " 'opTime': {'t': 2, 'ts': Timestamp(1505938170, 2)},\n",
       " 'updatedExisting': True}"
      ]
     },
     "metadata": {},
     "output_type": "display_data"
    },
    {
     "data": {
      "text/plain": [
       "{'electionId': ObjectId('7fffffff0000000000000002'),\n",
       " 'n': 1,\n",
       " 'nModified': 1,\n",
       " 'ok': 1.0,\n",
       " 'opTime': {'t': 2, 'ts': Timestamp(1505938171, 1)},\n",
       " 'updatedExisting': True}"
      ]
     },
     "metadata": {},
     "output_type": "display_data"
    },
    {
     "data": {
      "text/plain": [
       "{'electionId': ObjectId('7fffffff0000000000000002'),\n",
       " 'n': 1,\n",
       " 'nModified': 1,\n",
       " 'ok': 1.0,\n",
       " 'opTime': {'t': 2, 'ts': Timestamp(1505938172, 1)},\n",
       " 'updatedExisting': True}"
      ]
     },
     "metadata": {},
     "output_type": "display_data"
    },
    {
     "data": {
      "text/plain": [
       "{'electionId': ObjectId('7fffffff0000000000000002'),\n",
       " 'n': 1,\n",
       " 'nModified': 1,\n",
       " 'ok': 1.0,\n",
       " 'opTime': {'t': 2, 'ts': Timestamp(1505938173, 1)},\n",
       " 'updatedExisting': True}"
      ]
     },
     "metadata": {},
     "output_type": "display_data"
    },
    {
     "data": {
      "text/plain": [
       "{'electionId': ObjectId('7fffffff0000000000000002'),\n",
       " 'n': 1,\n",
       " 'nModified': 1,\n",
       " 'ok': 1.0,\n",
       " 'opTime': {'t': 2, 'ts': Timestamp(1505938174, 1)},\n",
       " 'updatedExisting': True}"
      ]
     },
     "metadata": {},
     "output_type": "display_data"
    },
    {
     "data": {
      "text/plain": [
       "{'electionId': ObjectId('7fffffff0000000000000002'),\n",
       " 'n': 1,\n",
       " 'nModified': 1,\n",
       " 'ok': 1.0,\n",
       " 'opTime': {'t': 2, 'ts': Timestamp(1505938175, 1)},\n",
       " 'updatedExisting': True}"
      ]
     },
     "metadata": {},
     "output_type": "display_data"
    },
    {
     "data": {
      "text/plain": [
       "{'electionId': ObjectId('7fffffff0000000000000002'),\n",
       " 'n': 1,\n",
       " 'nModified': 1,\n",
       " 'ok': 1.0,\n",
       " 'opTime': {'t': 2, 'ts': Timestamp(1505938177, 1)},\n",
       " 'updatedExisting': True}"
      ]
     },
     "metadata": {},
     "output_type": "display_data"
    },
    {
     "data": {
      "text/plain": [
       "{'electionId': ObjectId('7fffffff0000000000000002'),\n",
       " 'n': 1,\n",
       " 'nModified': 1,\n",
       " 'ok': 1.0,\n",
       " 'opTime': {'t': 2, 'ts': Timestamp(1505938178, 1)},\n",
       " 'updatedExisting': True}"
      ]
     },
     "metadata": {},
     "output_type": "display_data"
    },
    {
     "data": {
      "text/plain": [
       "{'electionId': ObjectId('7fffffff0000000000000002'),\n",
       " 'n': 1,\n",
       " 'nModified': 1,\n",
       " 'ok': 1.0,\n",
       " 'opTime': {'t': 2, 'ts': Timestamp(1505938179, 1)},\n",
       " 'updatedExisting': True}"
      ]
     },
     "metadata": {},
     "output_type": "display_data"
    },
    {
     "data": {
      "text/plain": [
       "{'electionId': ObjectId('7fffffff0000000000000002'),\n",
       " 'n': 1,\n",
       " 'nModified': 1,\n",
       " 'ok': 1.0,\n",
       " 'opTime': {'t': 2, 'ts': Timestamp(1505938180, 1)},\n",
       " 'updatedExisting': True}"
      ]
     },
     "metadata": {},
     "output_type": "display_data"
    },
    {
     "data": {
      "text/plain": [
       "{'electionId': ObjectId('7fffffff0000000000000002'),\n",
       " 'n': 1,\n",
       " 'nModified': 1,\n",
       " 'ok': 1.0,\n",
       " 'opTime': {'t': 2, 'ts': Timestamp(1505938181, 1)},\n",
       " 'updatedExisting': True}"
      ]
     },
     "metadata": {},
     "output_type": "display_data"
    },
    {
     "data": {
      "text/plain": [
       "{'electionId': ObjectId('7fffffff0000000000000002'),\n",
       " 'n': 1,\n",
       " 'nModified': 1,\n",
       " 'ok': 1.0,\n",
       " 'opTime': {'t': 2, 'ts': Timestamp(1505938182, 1)},\n",
       " 'updatedExisting': True}"
      ]
     },
     "metadata": {},
     "output_type": "display_data"
    },
    {
     "data": {
      "text/plain": [
       "{'electionId': ObjectId('7fffffff0000000000000002'),\n",
       " 'n': 1,\n",
       " 'nModified': 1,\n",
       " 'ok': 1.0,\n",
       " 'opTime': {'t': 2, 'ts': Timestamp(1505938183, 1)},\n",
       " 'updatedExisting': True}"
      ]
     },
     "metadata": {},
     "output_type": "display_data"
    },
    {
     "data": {
      "text/plain": [
       "{'electionId': ObjectId('7fffffff0000000000000002'),\n",
       " 'n': 1,\n",
       " 'nModified': 1,\n",
       " 'ok': 1.0,\n",
       " 'opTime': {'t': 2, 'ts': Timestamp(1505938185, 1)},\n",
       " 'updatedExisting': True}"
      ]
     },
     "metadata": {},
     "output_type": "display_data"
    },
    {
     "data": {
      "text/plain": [
       "{'electionId': ObjectId('7fffffff0000000000000002'),\n",
       " 'n': 1,\n",
       " 'nModified': 1,\n",
       " 'ok': 1.0,\n",
       " 'opTime': {'t': 2, 'ts': Timestamp(1505938187, 1)},\n",
       " 'updatedExisting': True}"
      ]
     },
     "metadata": {},
     "output_type": "display_data"
    },
    {
     "data": {
      "text/plain": [
       "{'electionId': ObjectId('7fffffff0000000000000002'),\n",
       " 'n': 1,\n",
       " 'nModified': 1,\n",
       " 'ok': 1.0,\n",
       " 'opTime': {'t': 2, 'ts': Timestamp(1505938188, 1)},\n",
       " 'updatedExisting': True}"
      ]
     },
     "metadata": {},
     "output_type": "display_data"
    },
    {
     "data": {
      "text/plain": [
       "{'electionId': ObjectId('7fffffff0000000000000002'),\n",
       " 'n': 1,\n",
       " 'nModified': 1,\n",
       " 'ok': 1.0,\n",
       " 'opTime': {'t': 2, 'ts': Timestamp(1505938189, 1)},\n",
       " 'updatedExisting': True}"
      ]
     },
     "metadata": {},
     "output_type": "display_data"
    },
    {
     "data": {
      "text/plain": [
       "{'electionId': ObjectId('7fffffff0000000000000002'),\n",
       " 'n': 1,\n",
       " 'nModified': 1,\n",
       " 'ok': 1.0,\n",
       " 'opTime': {'t': 2, 'ts': Timestamp(1505938190, 1)},\n",
       " 'updatedExisting': True}"
      ]
     },
     "metadata": {},
     "output_type": "display_data"
    },
    {
     "data": {
      "text/plain": [
       "{'electionId': ObjectId('7fffffff0000000000000002'),\n",
       " 'n': 1,\n",
       " 'nModified': 1,\n",
       " 'ok': 1.0,\n",
       " 'opTime': {'t': 2, 'ts': Timestamp(1505938192, 1)},\n",
       " 'updatedExisting': True}"
      ]
     },
     "metadata": {},
     "output_type": "display_data"
    },
    {
     "data": {
      "text/plain": [
       "{'electionId': ObjectId('7fffffff0000000000000002'),\n",
       " 'n': 1,\n",
       " 'nModified': 1,\n",
       " 'ok': 1.0,\n",
       " 'opTime': {'t': 2, 'ts': Timestamp(1505938193, 1)},\n",
       " 'updatedExisting': True}"
      ]
     },
     "metadata": {},
     "output_type": "display_data"
    },
    {
     "data": {
      "text/plain": [
       "{'electionId': ObjectId('7fffffff0000000000000002'),\n",
       " 'n': 1,\n",
       " 'nModified': 1,\n",
       " 'ok': 1.0,\n",
       " 'opTime': {'t': 2, 'ts': Timestamp(1505938196, 1)},\n",
       " 'updatedExisting': True}"
      ]
     },
     "metadata": {},
     "output_type": "display_data"
    },
    {
     "data": {
      "text/plain": [
       "{'electionId': ObjectId('7fffffff0000000000000002'),\n",
       " 'n': 1,\n",
       " 'nModified': 1,\n",
       " 'ok': 1.0,\n",
       " 'opTime': {'t': 2, 'ts': Timestamp(1505938197, 1)},\n",
       " 'updatedExisting': True}"
      ]
     },
     "metadata": {},
     "output_type": "display_data"
    },
    {
     "data": {
      "text/plain": [
       "{'electionId': ObjectId('7fffffff0000000000000002'),\n",
       " 'n': 1,\n",
       " 'nModified': 1,\n",
       " 'ok': 1.0,\n",
       " 'opTime': {'t': 2, 'ts': Timestamp(1505938199, 1)},\n",
       " 'updatedExisting': True}"
      ]
     },
     "metadata": {},
     "output_type": "display_data"
    },
    {
     "data": {
      "text/plain": [
       "{'electionId': ObjectId('7fffffff0000000000000002'),\n",
       " 'n': 1,\n",
       " 'nModified': 1,\n",
       " 'ok': 1.0,\n",
       " 'opTime': {'t': 2, 'ts': Timestamp(1505938200, 1)},\n",
       " 'updatedExisting': True}"
      ]
     },
     "metadata": {},
     "output_type": "display_data"
    },
    {
     "data": {
      "text/plain": [
       "{'electionId': ObjectId('7fffffff0000000000000002'),\n",
       " 'n': 1,\n",
       " 'nModified': 1,\n",
       " 'ok': 1.0,\n",
       " 'opTime': {'t': 2, 'ts': Timestamp(1505938202, 1)},\n",
       " 'updatedExisting': True}"
      ]
     },
     "metadata": {},
     "output_type": "display_data"
    },
    {
     "data": {
      "text/plain": [
       "{'electionId': ObjectId('7fffffff0000000000000002'),\n",
       " 'n': 1,\n",
       " 'nModified': 1,\n",
       " 'ok': 1.0,\n",
       " 'opTime': {'t': 2, 'ts': Timestamp(1505938203, 1)},\n",
       " 'updatedExisting': True}"
      ]
     },
     "metadata": {},
     "output_type": "display_data"
    },
    {
     "data": {
      "text/plain": [
       "{'electionId': ObjectId('7fffffff0000000000000002'),\n",
       " 'n': 1,\n",
       " 'nModified': 1,\n",
       " 'ok': 1.0,\n",
       " 'opTime': {'t': 2, 'ts': Timestamp(1505938204, 1)},\n",
       " 'updatedExisting': True}"
      ]
     },
     "metadata": {},
     "output_type": "display_data"
    },
    {
     "data": {
      "text/plain": [
       "{'electionId': ObjectId('7fffffff0000000000000002'),\n",
       " 'n': 1,\n",
       " 'nModified': 1,\n",
       " 'ok': 1.0,\n",
       " 'opTime': {'t': 2, 'ts': Timestamp(1505938205, 1)},\n",
       " 'updatedExisting': True}"
      ]
     },
     "metadata": {},
     "output_type": "display_data"
    },
    {
     "data": {
      "text/plain": [
       "{'electionId': ObjectId('7fffffff0000000000000002'),\n",
       " 'n': 1,\n",
       " 'nModified': 1,\n",
       " 'ok': 1.0,\n",
       " 'opTime': {'t': 2, 'ts': Timestamp(1505938206, 1)},\n",
       " 'updatedExisting': True}"
      ]
     },
     "metadata": {},
     "output_type": "display_data"
    },
    {
     "data": {
      "text/plain": [
       "{'electionId': ObjectId('7fffffff0000000000000002'),\n",
       " 'n': 1,\n",
       " 'nModified': 1,\n",
       " 'ok': 1.0,\n",
       " 'opTime': {'t': 2, 'ts': Timestamp(1505938207, 1)},\n",
       " 'updatedExisting': True}"
      ]
     },
     "metadata": {},
     "output_type": "display_data"
    },
    {
     "data": {
      "text/plain": [
       "{'electionId': ObjectId('7fffffff0000000000000002'),\n",
       " 'n': 1,\n",
       " 'nModified': 1,\n",
       " 'ok': 1.0,\n",
       " 'opTime': {'t': 2, 'ts': Timestamp(1505938209, 1)},\n",
       " 'updatedExisting': True}"
      ]
     },
     "metadata": {},
     "output_type": "display_data"
    },
    {
     "data": {
      "text/plain": [
       "{'electionId': ObjectId('7fffffff0000000000000002'),\n",
       " 'n': 1,\n",
       " 'nModified': 1,\n",
       " 'ok': 1.0,\n",
       " 'opTime': {'t': 2, 'ts': Timestamp(1505938211, 1)},\n",
       " 'updatedExisting': True}"
      ]
     },
     "metadata": {},
     "output_type": "display_data"
    },
    {
     "data": {
      "text/plain": [
       "{'electionId': ObjectId('7fffffff0000000000000002'),\n",
       " 'n': 1,\n",
       " 'nModified': 1,\n",
       " 'ok': 1.0,\n",
       " 'opTime': {'t': 2, 'ts': Timestamp(1505938212, 1)},\n",
       " 'updatedExisting': True}"
      ]
     },
     "metadata": {},
     "output_type": "display_data"
    },
    {
     "data": {
      "text/plain": [
       "{'electionId': ObjectId('7fffffff0000000000000002'),\n",
       " 'n': 1,\n",
       " 'nModified': 1,\n",
       " 'ok': 1.0,\n",
       " 'opTime': {'t': 2, 'ts': Timestamp(1505938213, 1)},\n",
       " 'updatedExisting': True}"
      ]
     },
     "metadata": {},
     "output_type": "display_data"
    },
    {
     "data": {
      "text/plain": [
       "{'electionId': ObjectId('7fffffff0000000000000002'),\n",
       " 'n': 1,\n",
       " 'nModified': 1,\n",
       " 'ok': 1.0,\n",
       " 'opTime': {'t': 2, 'ts': Timestamp(1505938215, 1)},\n",
       " 'updatedExisting': True}"
      ]
     },
     "metadata": {},
     "output_type": "display_data"
    },
    {
     "data": {
      "text/plain": [
       "{'electionId': ObjectId('7fffffff0000000000000002'),\n",
       " 'n': 1,\n",
       " 'nModified': 1,\n",
       " 'ok': 1.0,\n",
       " 'opTime': {'t': 2, 'ts': Timestamp(1505938215, 2)},\n",
       " 'updatedExisting': True}"
      ]
     },
     "metadata": {},
     "output_type": "display_data"
    },
    {
     "data": {
      "text/plain": [
       "{'electionId': ObjectId('7fffffff0000000000000002'),\n",
       " 'n': 1,\n",
       " 'nModified': 1,\n",
       " 'ok': 1.0,\n",
       " 'opTime': {'t': 2, 'ts': Timestamp(1505938216, 1)},\n",
       " 'updatedExisting': True}"
      ]
     },
     "metadata": {},
     "output_type": "display_data"
    },
    {
     "data": {
      "text/plain": [
       "{'electionId': ObjectId('7fffffff0000000000000002'),\n",
       " 'n': 1,\n",
       " 'nModified': 1,\n",
       " 'ok': 1.0,\n",
       " 'opTime': {'t': 2, 'ts': Timestamp(1505938217, 1)},\n",
       " 'updatedExisting': True}"
      ]
     },
     "metadata": {},
     "output_type": "display_data"
    },
    {
     "data": {
      "text/plain": [
       "{'electionId': ObjectId('7fffffff0000000000000002'),\n",
       " 'n': 1,\n",
       " 'nModified': 1,\n",
       " 'ok': 1.0,\n",
       " 'opTime': {'t': 2, 'ts': Timestamp(1505938218, 1)},\n",
       " 'updatedExisting': True}"
      ]
     },
     "metadata": {},
     "output_type": "display_data"
    },
    {
     "data": {
      "text/plain": [
       "{'electionId': ObjectId('7fffffff0000000000000002'),\n",
       " 'n': 1,\n",
       " 'nModified': 1,\n",
       " 'ok': 1.0,\n",
       " 'opTime': {'t': 2, 'ts': Timestamp(1505938219, 1)},\n",
       " 'updatedExisting': True}"
      ]
     },
     "metadata": {},
     "output_type": "display_data"
    },
    {
     "data": {
      "text/plain": [
       "{'electionId': ObjectId('7fffffff0000000000000002'),\n",
       " 'n': 1,\n",
       " 'nModified': 1,\n",
       " 'ok': 1.0,\n",
       " 'opTime': {'t': 2, 'ts': Timestamp(1505938220, 1)},\n",
       " 'updatedExisting': True}"
      ]
     },
     "metadata": {},
     "output_type": "display_data"
    },
    {
     "data": {
      "text/plain": [
       "{'electionId': ObjectId('7fffffff0000000000000002'),\n",
       " 'n': 1,\n",
       " 'nModified': 1,\n",
       " 'ok': 1.0,\n",
       " 'opTime': {'t': 2, 'ts': Timestamp(1505938221, 1)},\n",
       " 'updatedExisting': True}"
      ]
     },
     "metadata": {},
     "output_type": "display_data"
    },
    {
     "data": {
      "text/plain": [
       "{'electionId': ObjectId('7fffffff0000000000000002'),\n",
       " 'n': 1,\n",
       " 'nModified': 1,\n",
       " 'ok': 1.0,\n",
       " 'opTime': {'t': 2, 'ts': Timestamp(1505938222, 1)},\n",
       " 'updatedExisting': True}"
      ]
     },
     "metadata": {},
     "output_type": "display_data"
    },
    {
     "data": {
      "text/plain": [
       "{'electionId': ObjectId('7fffffff0000000000000002'),\n",
       " 'n': 1,\n",
       " 'nModified': 1,\n",
       " 'ok': 1.0,\n",
       " 'opTime': {'t': 2, 'ts': Timestamp(1505938224, 1)},\n",
       " 'updatedExisting': True}"
      ]
     },
     "metadata": {},
     "output_type": "display_data"
    },
    {
     "data": {
      "text/plain": [
       "{'electionId': ObjectId('7fffffff0000000000000002'),\n",
       " 'n': 1,\n",
       " 'nModified': 1,\n",
       " 'ok': 1.0,\n",
       " 'opTime': {'t': 2, 'ts': Timestamp(1505938225, 1)},\n",
       " 'updatedExisting': True}"
      ]
     },
     "metadata": {},
     "output_type": "display_data"
    },
    {
     "data": {
      "text/plain": [
       "{'electionId': ObjectId('7fffffff0000000000000002'),\n",
       " 'n': 1,\n",
       " 'nModified': 1,\n",
       " 'ok': 1.0,\n",
       " 'opTime': {'t': 2, 'ts': Timestamp(1505938226, 1)},\n",
       " 'updatedExisting': True}"
      ]
     },
     "metadata": {},
     "output_type": "display_data"
    },
    {
     "data": {
      "text/plain": [
       "{'electionId': ObjectId('7fffffff0000000000000002'),\n",
       " 'n': 1,\n",
       " 'nModified': 1,\n",
       " 'ok': 1.0,\n",
       " 'opTime': {'t': 2, 'ts': Timestamp(1505938227, 1)},\n",
       " 'updatedExisting': True}"
      ]
     },
     "metadata": {},
     "output_type": "display_data"
    },
    {
     "data": {
      "text/plain": [
       "{'electionId': ObjectId('7fffffff0000000000000002'),\n",
       " 'n': 1,\n",
       " 'nModified': 1,\n",
       " 'ok': 1.0,\n",
       " 'opTime': {'t': 2, 'ts': Timestamp(1505938228, 1)},\n",
       " 'updatedExisting': True}"
      ]
     },
     "metadata": {},
     "output_type": "display_data"
    },
    {
     "data": {
      "text/plain": [
       "{'electionId': ObjectId('7fffffff0000000000000002'),\n",
       " 'n': 1,\n",
       " 'nModified': 1,\n",
       " 'ok': 1.0,\n",
       " 'opTime': {'t': 2, 'ts': Timestamp(1505938229, 1)},\n",
       " 'updatedExisting': True}"
      ]
     },
     "metadata": {},
     "output_type": "display_data"
    },
    {
     "data": {
      "text/plain": [
       "{'electionId': ObjectId('7fffffff0000000000000002'),\n",
       " 'n': 1,\n",
       " 'nModified': 1,\n",
       " 'ok': 1.0,\n",
       " 'opTime': {'t': 2, 'ts': Timestamp(1505938231, 1)},\n",
       " 'updatedExisting': True}"
      ]
     },
     "metadata": {},
     "output_type": "display_data"
    },
    {
     "data": {
      "text/plain": [
       "{'electionId': ObjectId('7fffffff0000000000000002'),\n",
       " 'n': 1,\n",
       " 'nModified': 1,\n",
       " 'ok': 1.0,\n",
       " 'opTime': {'t': 2, 'ts': Timestamp(1505938232, 1)},\n",
       " 'updatedExisting': True}"
      ]
     },
     "metadata": {},
     "output_type": "display_data"
    },
    {
     "data": {
      "text/plain": [
       "{'electionId': ObjectId('7fffffff0000000000000002'),\n",
       " 'n': 1,\n",
       " 'nModified': 1,\n",
       " 'ok': 1.0,\n",
       " 'opTime': {'t': 2, 'ts': Timestamp(1505938233, 1)},\n",
       " 'updatedExisting': True}"
      ]
     },
     "metadata": {},
     "output_type": "display_data"
    },
    {
     "data": {
      "text/plain": [
       "{'electionId': ObjectId('7fffffff0000000000000002'),\n",
       " 'n': 1,\n",
       " 'nModified': 1,\n",
       " 'ok': 1.0,\n",
       " 'opTime': {'t': 2, 'ts': Timestamp(1505938234, 1)},\n",
       " 'updatedExisting': True}"
      ]
     },
     "metadata": {},
     "output_type": "display_data"
    },
    {
     "data": {
      "text/plain": [
       "{'electionId': ObjectId('7fffffff0000000000000002'),\n",
       " 'n': 1,\n",
       " 'nModified': 1,\n",
       " 'ok': 1.0,\n",
       " 'opTime': {'t': 2, 'ts': Timestamp(1505938235, 1)},\n",
       " 'updatedExisting': True}"
      ]
     },
     "metadata": {},
     "output_type": "display_data"
    },
    {
     "data": {
      "text/plain": [
       "{'electionId': ObjectId('7fffffff0000000000000002'),\n",
       " 'n': 1,\n",
       " 'nModified': 1,\n",
       " 'ok': 1.0,\n",
       " 'opTime': {'t': 2, 'ts': Timestamp(1505938236, 1)},\n",
       " 'updatedExisting': True}"
      ]
     },
     "metadata": {},
     "output_type": "display_data"
    },
    {
     "data": {
      "text/plain": [
       "{'electionId': ObjectId('7fffffff0000000000000002'),\n",
       " 'n': 1,\n",
       " 'nModified': 1,\n",
       " 'ok': 1.0,\n",
       " 'opTime': {'t': 2, 'ts': Timestamp(1505938237, 1)},\n",
       " 'updatedExisting': True}"
      ]
     },
     "metadata": {},
     "output_type": "display_data"
    },
    {
     "data": {
      "text/plain": [
       "{'electionId': ObjectId('7fffffff0000000000000002'),\n",
       " 'n': 1,\n",
       " 'nModified': 1,\n",
       " 'ok': 1.0,\n",
       " 'opTime': {'t': 2, 'ts': Timestamp(1505938238, 1)},\n",
       " 'updatedExisting': True}"
      ]
     },
     "metadata": {},
     "output_type": "display_data"
    },
    {
     "data": {
      "text/plain": [
       "{'electionId': ObjectId('7fffffff0000000000000002'),\n",
       " 'n': 1,\n",
       " 'nModified': 1,\n",
       " 'ok': 1.0,\n",
       " 'opTime': {'t': 2, 'ts': Timestamp(1505938239, 1)},\n",
       " 'updatedExisting': True}"
      ]
     },
     "metadata": {},
     "output_type": "display_data"
    },
    {
     "data": {
      "text/plain": [
       "{'electionId': ObjectId('7fffffff0000000000000002'),\n",
       " 'n': 1,\n",
       " 'nModified': 1,\n",
       " 'ok': 1.0,\n",
       " 'opTime': {'t': 2, 'ts': Timestamp(1505938239, 2)},\n",
       " 'updatedExisting': True}"
      ]
     },
     "metadata": {},
     "output_type": "display_data"
    },
    {
     "data": {
      "text/plain": [
       "{'electionId': ObjectId('7fffffff0000000000000002'),\n",
       " 'n': 1,\n",
       " 'nModified': 1,\n",
       " 'ok': 1.0,\n",
       " 'opTime': {'t': 2, 'ts': Timestamp(1505938240, 2)},\n",
       " 'updatedExisting': True}"
      ]
     },
     "metadata": {},
     "output_type": "display_data"
    },
    {
     "data": {
      "text/plain": [
       "{'electionId': ObjectId('7fffffff0000000000000002'),\n",
       " 'n': 1,\n",
       " 'nModified': 1,\n",
       " 'ok': 1.0,\n",
       " 'opTime': {'t': 2, 'ts': Timestamp(1505938241, 1)},\n",
       " 'updatedExisting': True}"
      ]
     },
     "metadata": {},
     "output_type": "display_data"
    },
    {
     "data": {
      "text/plain": [
       "{'electionId': ObjectId('7fffffff0000000000000002'),\n",
       " 'n': 1,\n",
       " 'nModified': 1,\n",
       " 'ok': 1.0,\n",
       " 'opTime': {'t': 2, 'ts': Timestamp(1505938242, 1)},\n",
       " 'updatedExisting': True}"
      ]
     },
     "metadata": {},
     "output_type": "display_data"
    },
    {
     "data": {
      "text/plain": [
       "{'electionId': ObjectId('7fffffff0000000000000002'),\n",
       " 'n': 1,\n",
       " 'nModified': 1,\n",
       " 'ok': 1.0,\n",
       " 'opTime': {'t': 2, 'ts': Timestamp(1505938243, 1)},\n",
       " 'updatedExisting': True}"
      ]
     },
     "metadata": {},
     "output_type": "display_data"
    },
    {
     "data": {
      "text/plain": [
       "{'electionId': ObjectId('7fffffff0000000000000002'),\n",
       " 'n': 1,\n",
       " 'nModified': 1,\n",
       " 'ok': 1.0,\n",
       " 'opTime': {'t': 2, 'ts': Timestamp(1505938244, 1)},\n",
       " 'updatedExisting': True}"
      ]
     },
     "metadata": {},
     "output_type": "display_data"
    },
    {
     "data": {
      "text/plain": [
       "{'electionId': ObjectId('7fffffff0000000000000002'),\n",
       " 'n': 1,\n",
       " 'nModified': 1,\n",
       " 'ok': 1.0,\n",
       " 'opTime': {'t': 2, 'ts': Timestamp(1505938244, 2)},\n",
       " 'updatedExisting': True}"
      ]
     },
     "metadata": {},
     "output_type": "display_data"
    },
    {
     "data": {
      "text/plain": [
       "{'electionId': ObjectId('7fffffff0000000000000002'),\n",
       " 'n': 1,\n",
       " 'nModified': 1,\n",
       " 'ok': 1.0,\n",
       " 'opTime': {'t': 2, 'ts': Timestamp(1505938245, 1)},\n",
       " 'updatedExisting': True}"
      ]
     },
     "metadata": {},
     "output_type": "display_data"
    },
    {
     "data": {
      "text/plain": [
       "{'electionId': ObjectId('7fffffff0000000000000002'),\n",
       " 'n': 1,\n",
       " 'nModified': 1,\n",
       " 'ok': 1.0,\n",
       " 'opTime': {'t': 2, 'ts': Timestamp(1505938247, 1)},\n",
       " 'updatedExisting': True}"
      ]
     },
     "metadata": {},
     "output_type": "display_data"
    },
    {
     "data": {
      "text/plain": [
       "{'electionId': ObjectId('7fffffff0000000000000002'),\n",
       " 'n': 1,\n",
       " 'nModified': 1,\n",
       " 'ok': 1.0,\n",
       " 'opTime': {'t': 2, 'ts': Timestamp(1505938248, 1)},\n",
       " 'updatedExisting': True}"
      ]
     },
     "metadata": {},
     "output_type": "display_data"
    },
    {
     "data": {
      "text/plain": [
       "{'electionId': ObjectId('7fffffff0000000000000002'),\n",
       " 'n': 1,\n",
       " 'nModified': 1,\n",
       " 'ok': 1.0,\n",
       " 'opTime': {'t': 2, 'ts': Timestamp(1505938249, 1)},\n",
       " 'updatedExisting': True}"
      ]
     },
     "metadata": {},
     "output_type": "display_data"
    },
    {
     "data": {
      "text/plain": [
       "{'electionId': ObjectId('7fffffff0000000000000002'),\n",
       " 'n': 1,\n",
       " 'nModified': 1,\n",
       " 'ok': 1.0,\n",
       " 'opTime': {'t': 2, 'ts': Timestamp(1505938250, 1)},\n",
       " 'updatedExisting': True}"
      ]
     },
     "metadata": {},
     "output_type": "display_data"
    },
    {
     "data": {
      "text/plain": [
       "{'electionId': ObjectId('7fffffff0000000000000002'),\n",
       " 'n': 1,\n",
       " 'nModified': 1,\n",
       " 'ok': 1.0,\n",
       " 'opTime': {'t': 2, 'ts': Timestamp(1505938250, 2)},\n",
       " 'updatedExisting': True}"
      ]
     },
     "metadata": {},
     "output_type": "display_data"
    },
    {
     "data": {
      "text/plain": [
       "{'electionId': ObjectId('7fffffff0000000000000002'),\n",
       " 'n': 1,\n",
       " 'nModified': 1,\n",
       " 'ok': 1.0,\n",
       " 'opTime': {'t': 2, 'ts': Timestamp(1505938252, 1)},\n",
       " 'updatedExisting': True}"
      ]
     },
     "metadata": {},
     "output_type": "display_data"
    },
    {
     "data": {
      "text/plain": [
       "{'electionId': ObjectId('7fffffff0000000000000002'),\n",
       " 'n': 1,\n",
       " 'nModified': 1,\n",
       " 'ok': 1.0,\n",
       " 'opTime': {'t': 2, 'ts': Timestamp(1505938252, 2)},\n",
       " 'updatedExisting': True}"
      ]
     },
     "metadata": {},
     "output_type": "display_data"
    },
    {
     "data": {
      "text/plain": [
       "{'electionId': ObjectId('7fffffff0000000000000002'),\n",
       " 'n': 1,\n",
       " 'nModified': 1,\n",
       " 'ok': 1.0,\n",
       " 'opTime': {'t': 2, 'ts': Timestamp(1505938257, 1)},\n",
       " 'updatedExisting': True}"
      ]
     },
     "metadata": {},
     "output_type": "display_data"
    },
    {
     "data": {
      "text/plain": [
       "{'electionId': ObjectId('7fffffff0000000000000002'),\n",
       " 'n': 1,\n",
       " 'nModified': 1,\n",
       " 'ok': 1.0,\n",
       " 'opTime': {'t': 2, 'ts': Timestamp(1505938258, 1)},\n",
       " 'updatedExisting': True}"
      ]
     },
     "metadata": {},
     "output_type": "display_data"
    },
    {
     "data": {
      "text/plain": [
       "{'electionId': ObjectId('7fffffff0000000000000002'),\n",
       " 'n': 1,\n",
       " 'nModified': 1,\n",
       " 'ok': 1.0,\n",
       " 'opTime': {'t': 2, 'ts': Timestamp(1505938259, 1)},\n",
       " 'updatedExisting': True}"
      ]
     },
     "metadata": {},
     "output_type": "display_data"
    },
    {
     "data": {
      "text/plain": [
       "{'electionId': ObjectId('7fffffff0000000000000002'),\n",
       " 'n': 1,\n",
       " 'nModified': 1,\n",
       " 'ok': 1.0,\n",
       " 'opTime': {'t': 2, 'ts': Timestamp(1505938259, 2)},\n",
       " 'updatedExisting': True}"
      ]
     },
     "metadata": {},
     "output_type": "display_data"
    },
    {
     "data": {
      "text/plain": [
       "{'electionId': ObjectId('7fffffff0000000000000002'),\n",
       " 'n': 1,\n",
       " 'nModified': 1,\n",
       " 'ok': 1.0,\n",
       " 'opTime': {'t': 2, 'ts': Timestamp(1505938260, 1)},\n",
       " 'updatedExisting': True}"
      ]
     },
     "metadata": {},
     "output_type": "display_data"
    },
    {
     "data": {
      "text/plain": [
       "{'electionId': ObjectId('7fffffff0000000000000002'),\n",
       " 'n': 1,\n",
       " 'nModified': 1,\n",
       " 'ok': 1.0,\n",
       " 'opTime': {'t': 2, 'ts': Timestamp(1505938261, 1)},\n",
       " 'updatedExisting': True}"
      ]
     },
     "metadata": {},
     "output_type": "display_data"
    },
    {
     "data": {
      "text/plain": [
       "{'electionId': ObjectId('7fffffff0000000000000002'),\n",
       " 'n': 1,\n",
       " 'nModified': 1,\n",
       " 'ok': 1.0,\n",
       " 'opTime': {'t': 2, 'ts': Timestamp(1505938262, 1)},\n",
       " 'updatedExisting': True}"
      ]
     },
     "metadata": {},
     "output_type": "display_data"
    },
    {
     "data": {
      "text/plain": [
       "{'electionId': ObjectId('7fffffff0000000000000002'),\n",
       " 'n': 1,\n",
       " 'nModified': 1,\n",
       " 'ok': 1.0,\n",
       " 'opTime': {'t': 2, 'ts': Timestamp(1505938263, 1)},\n",
       " 'updatedExisting': True}"
      ]
     },
     "metadata": {},
     "output_type": "display_data"
    },
    {
     "data": {
      "text/plain": [
       "{'electionId': ObjectId('7fffffff0000000000000002'),\n",
       " 'n': 1,\n",
       " 'nModified': 1,\n",
       " 'ok': 1.0,\n",
       " 'opTime': {'t': 2, 'ts': Timestamp(1505938263, 2)},\n",
       " 'updatedExisting': True}"
      ]
     },
     "metadata": {},
     "output_type": "display_data"
    },
    {
     "data": {
      "text/plain": [
       "{'electionId': ObjectId('7fffffff0000000000000002'),\n",
       " 'n': 1,\n",
       " 'nModified': 1,\n",
       " 'ok': 1.0,\n",
       " 'opTime': {'t': 2, 'ts': Timestamp(1505938264, 1)},\n",
       " 'updatedExisting': True}"
      ]
     },
     "metadata": {},
     "output_type": "display_data"
    },
    {
     "data": {
      "text/plain": [
       "{'electionId': ObjectId('7fffffff0000000000000002'),\n",
       " 'n': 1,\n",
       " 'nModified': 1,\n",
       " 'ok': 1.0,\n",
       " 'opTime': {'t': 2, 'ts': Timestamp(1505938264, 2)},\n",
       " 'updatedExisting': True}"
      ]
     },
     "metadata": {},
     "output_type": "display_data"
    },
    {
     "data": {
      "text/plain": [
       "{'electionId': ObjectId('7fffffff0000000000000002'),\n",
       " 'n': 1,\n",
       " 'nModified': 1,\n",
       " 'ok': 1.0,\n",
       " 'opTime': {'t': 2, 'ts': Timestamp(1505938265, 1)},\n",
       " 'updatedExisting': True}"
      ]
     },
     "metadata": {},
     "output_type": "display_data"
    },
    {
     "data": {
      "text/plain": [
       "{'electionId': ObjectId('7fffffff0000000000000002'),\n",
       " 'n': 1,\n",
       " 'nModified': 1,\n",
       " 'ok': 1.0,\n",
       " 'opTime': {'t': 2, 'ts': Timestamp(1505938266, 1)},\n",
       " 'updatedExisting': True}"
      ]
     },
     "metadata": {},
     "output_type": "display_data"
    },
    {
     "data": {
      "text/plain": [
       "{'electionId': ObjectId('7fffffff0000000000000002'),\n",
       " 'n': 1,\n",
       " 'nModified': 1,\n",
       " 'ok': 1.0,\n",
       " 'opTime': {'t': 2, 'ts': Timestamp(1505938266, 3)},\n",
       " 'updatedExisting': True}"
      ]
     },
     "metadata": {},
     "output_type": "display_data"
    },
    {
     "data": {
      "text/plain": [
       "{'electionId': ObjectId('7fffffff0000000000000002'),\n",
       " 'n': 1,\n",
       " 'nModified': 1,\n",
       " 'ok': 1.0,\n",
       " 'opTime': {'t': 2, 'ts': Timestamp(1505938267, 1)},\n",
       " 'updatedExisting': True}"
      ]
     },
     "metadata": {},
     "output_type": "display_data"
    },
    {
     "data": {
      "text/plain": [
       "{'electionId': ObjectId('7fffffff0000000000000002'),\n",
       " 'n': 1,\n",
       " 'nModified': 1,\n",
       " 'ok': 1.0,\n",
       " 'opTime': {'t': 2, 'ts': Timestamp(1505938267, 2)},\n",
       " 'updatedExisting': True}"
      ]
     },
     "metadata": {},
     "output_type": "display_data"
    },
    {
     "data": {
      "text/plain": [
       "{'electionId': ObjectId('7fffffff0000000000000002'),\n",
       " 'n': 1,\n",
       " 'nModified': 1,\n",
       " 'ok': 1.0,\n",
       " 'opTime': {'t': 2, 'ts': Timestamp(1505938268, 1)},\n",
       " 'updatedExisting': True}"
      ]
     },
     "metadata": {},
     "output_type": "display_data"
    },
    {
     "data": {
      "text/plain": [
       "{'electionId': ObjectId('7fffffff0000000000000002'),\n",
       " 'n': 1,\n",
       " 'nModified': 1,\n",
       " 'ok': 1.0,\n",
       " 'opTime': {'t': 2, 'ts': Timestamp(1505938269, 1)},\n",
       " 'updatedExisting': True}"
      ]
     },
     "metadata": {},
     "output_type": "display_data"
    },
    {
     "data": {
      "text/plain": [
       "{'electionId': ObjectId('7fffffff0000000000000002'),\n",
       " 'n': 1,\n",
       " 'nModified': 1,\n",
       " 'ok': 1.0,\n",
       " 'opTime': {'t': 2, 'ts': Timestamp(1505938270, 1)},\n",
       " 'updatedExisting': True}"
      ]
     },
     "metadata": {},
     "output_type": "display_data"
    },
    {
     "data": {
      "text/plain": [
       "{'electionId': ObjectId('7fffffff0000000000000002'),\n",
       " 'n': 1,\n",
       " 'nModified': 1,\n",
       " 'ok': 1.0,\n",
       " 'opTime': {'t': 2, 'ts': Timestamp(1505938270, 2)},\n",
       " 'updatedExisting': True}"
      ]
     },
     "metadata": {},
     "output_type": "display_data"
    },
    {
     "data": {
      "text/plain": [
       "{'electionId': ObjectId('7fffffff0000000000000002'),\n",
       " 'n': 1,\n",
       " 'nModified': 1,\n",
       " 'ok': 1.0,\n",
       " 'opTime': {'t': 2, 'ts': Timestamp(1505938271, 1)},\n",
       " 'updatedExisting': True}"
      ]
     },
     "metadata": {},
     "output_type": "display_data"
    },
    {
     "data": {
      "text/plain": [
       "{'electionId': ObjectId('7fffffff0000000000000002'),\n",
       " 'n': 1,\n",
       " 'nModified': 1,\n",
       " 'ok': 1.0,\n",
       " 'opTime': {'t': 2, 'ts': Timestamp(1505938272, 1)},\n",
       " 'updatedExisting': True}"
      ]
     },
     "metadata": {},
     "output_type": "display_data"
    },
    {
     "data": {
      "text/plain": [
       "{'electionId': ObjectId('7fffffff0000000000000002'),\n",
       " 'n': 1,\n",
       " 'nModified': 1,\n",
       " 'ok': 1.0,\n",
       " 'opTime': {'t': 2, 'ts': Timestamp(1505938272, 2)},\n",
       " 'updatedExisting': True}"
      ]
     },
     "metadata": {},
     "output_type": "display_data"
    },
    {
     "data": {
      "text/plain": [
       "{'electionId': ObjectId('7fffffff0000000000000002'),\n",
       " 'n': 1,\n",
       " 'nModified': 1,\n",
       " 'ok': 1.0,\n",
       " 'opTime': {'t': 2, 'ts': Timestamp(1505938273, 1)},\n",
       " 'updatedExisting': True}"
      ]
     },
     "metadata": {},
     "output_type": "display_data"
    },
    {
     "data": {
      "text/plain": [
       "{'electionId': ObjectId('7fffffff0000000000000002'),\n",
       " 'n': 1,\n",
       " 'nModified': 1,\n",
       " 'ok': 1.0,\n",
       " 'opTime': {'t': 2, 'ts': Timestamp(1505938273, 2)},\n",
       " 'updatedExisting': True}"
      ]
     },
     "metadata": {},
     "output_type": "display_data"
    },
    {
     "data": {
      "text/plain": [
       "{'electionId': ObjectId('7fffffff0000000000000002'),\n",
       " 'n': 1,\n",
       " 'nModified': 1,\n",
       " 'ok': 1.0,\n",
       " 'opTime': {'t': 2, 'ts': Timestamp(1505938274, 1)},\n",
       " 'updatedExisting': True}"
      ]
     },
     "metadata": {},
     "output_type": "display_data"
    },
    {
     "data": {
      "text/plain": [
       "{'electionId': ObjectId('7fffffff0000000000000002'),\n",
       " 'n': 1,\n",
       " 'nModified': 1,\n",
       " 'ok': 1.0,\n",
       " 'opTime': {'t': 2, 'ts': Timestamp(1505938275, 1)},\n",
       " 'updatedExisting': True}"
      ]
     },
     "metadata": {},
     "output_type": "display_data"
    },
    {
     "data": {
      "text/plain": [
       "{'electionId': ObjectId('7fffffff0000000000000002'),\n",
       " 'n': 1,\n",
       " 'nModified': 1,\n",
       " 'ok': 1.0,\n",
       " 'opTime': {'t': 2, 'ts': Timestamp(1505938275, 2)},\n",
       " 'updatedExisting': True}"
      ]
     },
     "metadata": {},
     "output_type": "display_data"
    },
    {
     "data": {
      "text/plain": [
       "{'electionId': ObjectId('7fffffff0000000000000002'),\n",
       " 'n': 1,\n",
       " 'nModified': 1,\n",
       " 'ok': 1.0,\n",
       " 'opTime': {'t': 2, 'ts': Timestamp(1505938276, 1)},\n",
       " 'updatedExisting': True}"
      ]
     },
     "metadata": {},
     "output_type": "display_data"
    },
    {
     "data": {
      "text/plain": [
       "{'electionId': ObjectId('7fffffff0000000000000002'),\n",
       " 'n': 1,\n",
       " 'nModified': 1,\n",
       " 'ok': 1.0,\n",
       " 'opTime': {'t': 2, 'ts': Timestamp(1505938277, 1)},\n",
       " 'updatedExisting': True}"
      ]
     },
     "metadata": {},
     "output_type": "display_data"
    },
    {
     "data": {
      "text/plain": [
       "{'electionId': ObjectId('7fffffff0000000000000002'),\n",
       " 'n': 1,\n",
       " 'nModified': 1,\n",
       " 'ok': 1.0,\n",
       " 'opTime': {'t': 2, 'ts': Timestamp(1505938278, 1)},\n",
       " 'updatedExisting': True}"
      ]
     },
     "metadata": {},
     "output_type": "display_data"
    },
    {
     "data": {
      "text/plain": [
       "{'electionId': ObjectId('7fffffff0000000000000002'),\n",
       " 'n': 1,\n",
       " 'nModified': 1,\n",
       " 'ok': 1.0,\n",
       " 'opTime': {'t': 2, 'ts': Timestamp(1505938278, 2)},\n",
       " 'updatedExisting': True}"
      ]
     },
     "metadata": {},
     "output_type": "display_data"
    },
    {
     "data": {
      "text/plain": [
       "{'electionId': ObjectId('7fffffff0000000000000002'),\n",
       " 'n': 1,\n",
       " 'nModified': 1,\n",
       " 'ok': 1.0,\n",
       " 'opTime': {'t': 2, 'ts': Timestamp(1505938280, 1)},\n",
       " 'updatedExisting': True}"
      ]
     },
     "metadata": {},
     "output_type": "display_data"
    },
    {
     "data": {
      "text/plain": [
       "{'electionId': ObjectId('7fffffff0000000000000002'),\n",
       " 'n': 1,\n",
       " 'nModified': 1,\n",
       " 'ok': 1.0,\n",
       " 'opTime': {'t': 2, 'ts': Timestamp(1505938281, 1)},\n",
       " 'updatedExisting': True}"
      ]
     },
     "metadata": {},
     "output_type": "display_data"
    },
    {
     "data": {
      "text/plain": [
       "{'electionId': ObjectId('7fffffff0000000000000002'),\n",
       " 'n': 1,\n",
       " 'nModified': 1,\n",
       " 'ok': 1.0,\n",
       " 'opTime': {'t': 2, 'ts': Timestamp(1505938282, 1)},\n",
       " 'updatedExisting': True}"
      ]
     },
     "metadata": {},
     "output_type": "display_data"
    },
    {
     "data": {
      "text/plain": [
       "{'electionId': ObjectId('7fffffff0000000000000002'),\n",
       " 'n': 1,\n",
       " 'nModified': 1,\n",
       " 'ok': 1.0,\n",
       " 'opTime': {'t': 2, 'ts': Timestamp(1505938284, 1)},\n",
       " 'updatedExisting': True}"
      ]
     },
     "metadata": {},
     "output_type": "display_data"
    },
    {
     "data": {
      "text/plain": [
       "{'electionId': ObjectId('7fffffff0000000000000002'),\n",
       " 'n': 1,\n",
       " 'nModified': 1,\n",
       " 'ok': 1.0,\n",
       " 'opTime': {'t': 2, 'ts': Timestamp(1505938284, 2)},\n",
       " 'updatedExisting': True}"
      ]
     },
     "metadata": {},
     "output_type": "display_data"
    },
    {
     "data": {
      "text/plain": [
       "{'electionId': ObjectId('7fffffff0000000000000002'),\n",
       " 'n': 1,\n",
       " 'nModified': 1,\n",
       " 'ok': 1.0,\n",
       " 'opTime': {'t': 2, 'ts': Timestamp(1505938285, 1)},\n",
       " 'updatedExisting': True}"
      ]
     },
     "metadata": {},
     "output_type": "display_data"
    },
    {
     "data": {
      "text/plain": [
       "{'electionId': ObjectId('7fffffff0000000000000002'),\n",
       " 'n': 1,\n",
       " 'nModified': 1,\n",
       " 'ok': 1.0,\n",
       " 'opTime': {'t': 2, 'ts': Timestamp(1505938286, 1)},\n",
       " 'updatedExisting': True}"
      ]
     },
     "metadata": {},
     "output_type": "display_data"
    },
    {
     "data": {
      "text/plain": [
       "{'electionId': ObjectId('7fffffff0000000000000002'),\n",
       " 'n': 1,\n",
       " 'nModified': 1,\n",
       " 'ok': 1.0,\n",
       " 'opTime': {'t': 2, 'ts': Timestamp(1505938287, 1)},\n",
       " 'updatedExisting': True}"
      ]
     },
     "metadata": {},
     "output_type": "display_data"
    },
    {
     "data": {
      "text/plain": [
       "{'electionId': ObjectId('7fffffff0000000000000002'),\n",
       " 'n': 1,\n",
       " 'nModified': 1,\n",
       " 'ok': 1.0,\n",
       " 'opTime': {'t': 2, 'ts': Timestamp(1505938288, 1)},\n",
       " 'updatedExisting': True}"
      ]
     },
     "metadata": {},
     "output_type": "display_data"
    },
    {
     "data": {
      "text/plain": [
       "{'electionId': ObjectId('7fffffff0000000000000002'),\n",
       " 'n': 1,\n",
       " 'nModified': 1,\n",
       " 'ok': 1.0,\n",
       " 'opTime': {'t': 2, 'ts': Timestamp(1505938290, 1)},\n",
       " 'updatedExisting': True}"
      ]
     },
     "metadata": {},
     "output_type": "display_data"
    },
    {
     "data": {
      "text/plain": [
       "{'electionId': ObjectId('7fffffff0000000000000002'),\n",
       " 'n': 1,\n",
       " 'nModified': 1,\n",
       " 'ok': 1.0,\n",
       " 'opTime': {'t': 2, 'ts': Timestamp(1505938291, 1)},\n",
       " 'updatedExisting': True}"
      ]
     },
     "metadata": {},
     "output_type": "display_data"
    },
    {
     "data": {
      "text/plain": [
       "{'electionId': ObjectId('7fffffff0000000000000002'),\n",
       " 'n': 1,\n",
       " 'nModified': 1,\n",
       " 'ok': 1.0,\n",
       " 'opTime': {'t': 2, 'ts': Timestamp(1505938293, 1)},\n",
       " 'updatedExisting': True}"
      ]
     },
     "metadata": {},
     "output_type": "display_data"
    },
    {
     "data": {
      "text/plain": [
       "{'electionId': ObjectId('7fffffff0000000000000002'),\n",
       " 'n': 1,\n",
       " 'nModified': 1,\n",
       " 'ok': 1.0,\n",
       " 'opTime': {'t': 2, 'ts': Timestamp(1505938294, 1)},\n",
       " 'updatedExisting': True}"
      ]
     },
     "metadata": {},
     "output_type": "display_data"
    },
    {
     "data": {
      "text/plain": [
       "{'electionId': ObjectId('7fffffff0000000000000002'),\n",
       " 'n': 1,\n",
       " 'nModified': 1,\n",
       " 'ok': 1.0,\n",
       " 'opTime': {'t': 2, 'ts': Timestamp(1505938297, 1)},\n",
       " 'updatedExisting': True}"
      ]
     },
     "metadata": {},
     "output_type": "display_data"
    },
    {
     "data": {
      "text/plain": [
       "{'electionId': ObjectId('7fffffff0000000000000002'),\n",
       " 'n': 1,\n",
       " 'nModified': 1,\n",
       " 'ok': 1.0,\n",
       " 'opTime': {'t': 2, 'ts': Timestamp(1505938299, 1)},\n",
       " 'updatedExisting': True}"
      ]
     },
     "metadata": {},
     "output_type": "display_data"
    },
    {
     "data": {
      "text/plain": [
       "{'electionId': ObjectId('7fffffff0000000000000002'),\n",
       " 'n': 1,\n",
       " 'nModified': 1,\n",
       " 'ok': 1.0,\n",
       " 'opTime': {'t': 2, 'ts': Timestamp(1505938301, 1)},\n",
       " 'updatedExisting': True}"
      ]
     },
     "metadata": {},
     "output_type": "display_data"
    },
    {
     "data": {
      "text/plain": [
       "{'electionId': ObjectId('7fffffff0000000000000002'),\n",
       " 'n': 1,\n",
       " 'nModified': 1,\n",
       " 'ok': 1.0,\n",
       " 'opTime': {'t': 2, 'ts': Timestamp(1505938302, 1)},\n",
       " 'updatedExisting': True}"
      ]
     },
     "metadata": {},
     "output_type": "display_data"
    },
    {
     "data": {
      "text/plain": [
       "{'electionId': ObjectId('7fffffff0000000000000002'),\n",
       " 'n': 1,\n",
       " 'nModified': 1,\n",
       " 'ok': 1.0,\n",
       " 'opTime': {'t': 2, 'ts': Timestamp(1505938305, 1)},\n",
       " 'updatedExisting': True}"
      ]
     },
     "metadata": {},
     "output_type": "display_data"
    },
    {
     "data": {
      "text/plain": [
       "{'electionId': ObjectId('7fffffff0000000000000002'),\n",
       " 'n': 1,\n",
       " 'nModified': 1,\n",
       " 'ok': 1.0,\n",
       " 'opTime': {'t': 2, 'ts': Timestamp(1505938306, 1)},\n",
       " 'updatedExisting': True}"
      ]
     },
     "metadata": {},
     "output_type": "display_data"
    },
    {
     "data": {
      "text/plain": [
       "{'electionId': ObjectId('7fffffff0000000000000002'),\n",
       " 'n': 1,\n",
       " 'nModified': 1,\n",
       " 'ok': 1.0,\n",
       " 'opTime': {'t': 2, 'ts': Timestamp(1505938308, 1)},\n",
       " 'updatedExisting': True}"
      ]
     },
     "metadata": {},
     "output_type": "display_data"
    },
    {
     "data": {
      "text/plain": [
       "{'electionId': ObjectId('7fffffff0000000000000002'),\n",
       " 'n': 1,\n",
       " 'nModified': 1,\n",
       " 'ok': 1.0,\n",
       " 'opTime': {'t': 2, 'ts': Timestamp(1505938309, 1)},\n",
       " 'updatedExisting': True}"
      ]
     },
     "metadata": {},
     "output_type": "display_data"
    },
    {
     "data": {
      "text/plain": [
       "{'electionId': ObjectId('7fffffff0000000000000002'),\n",
       " 'n': 1,\n",
       " 'nModified': 1,\n",
       " 'ok': 1.0,\n",
       " 'opTime': {'t': 2, 'ts': Timestamp(1505938311, 1)},\n",
       " 'updatedExisting': True}"
      ]
     },
     "metadata": {},
     "output_type": "display_data"
    },
    {
     "data": {
      "text/plain": [
       "{'electionId': ObjectId('7fffffff0000000000000002'),\n",
       " 'n': 1,\n",
       " 'nModified': 1,\n",
       " 'ok': 1.0,\n",
       " 'opTime': {'t': 2, 'ts': Timestamp(1505938313, 1)},\n",
       " 'updatedExisting': True}"
      ]
     },
     "metadata": {},
     "output_type": "display_data"
    },
    {
     "data": {
      "text/plain": [
       "{'electionId': ObjectId('7fffffff0000000000000002'),\n",
       " 'n': 1,\n",
       " 'nModified': 1,\n",
       " 'ok': 1.0,\n",
       " 'opTime': {'t': 2, 'ts': Timestamp(1505938315, 1)},\n",
       " 'updatedExisting': True}"
      ]
     },
     "metadata": {},
     "output_type": "display_data"
    },
    {
     "data": {
      "text/plain": [
       "{'electionId': ObjectId('7fffffff0000000000000002'),\n",
       " 'n': 1,\n",
       " 'nModified': 1,\n",
       " 'ok': 1.0,\n",
       " 'opTime': {'t': 2, 'ts': Timestamp(1505938316, 1)},\n",
       " 'updatedExisting': True}"
      ]
     },
     "metadata": {},
     "output_type": "display_data"
    },
    {
     "data": {
      "text/plain": [
       "{'electionId': ObjectId('7fffffff0000000000000002'),\n",
       " 'n': 1,\n",
       " 'nModified': 1,\n",
       " 'ok': 1.0,\n",
       " 'opTime': {'t': 2, 'ts': Timestamp(1505938318, 1)},\n",
       " 'updatedExisting': True}"
      ]
     },
     "metadata": {},
     "output_type": "display_data"
    },
    {
     "data": {
      "text/plain": [
       "{'electionId': ObjectId('7fffffff0000000000000002'),\n",
       " 'n': 1,\n",
       " 'nModified': 1,\n",
       " 'ok': 1.0,\n",
       " 'opTime': {'t': 2, 'ts': Timestamp(1505938319, 1)},\n",
       " 'updatedExisting': True}"
      ]
     },
     "metadata": {},
     "output_type": "display_data"
    },
    {
     "data": {
      "text/plain": [
       "{'electionId': ObjectId('7fffffff0000000000000002'),\n",
       " 'n': 1,\n",
       " 'nModified': 1,\n",
       " 'ok': 1.0,\n",
       " 'opTime': {'t': 2, 'ts': Timestamp(1505938321, 1)},\n",
       " 'updatedExisting': True}"
      ]
     },
     "metadata": {},
     "output_type": "display_data"
    },
    {
     "data": {
      "text/plain": [
       "{'electionId': ObjectId('7fffffff0000000000000002'),\n",
       " 'n': 1,\n",
       " 'nModified': 1,\n",
       " 'ok': 1.0,\n",
       " 'opTime': {'t': 2, 'ts': Timestamp(1505938322, 1)},\n",
       " 'updatedExisting': True}"
      ]
     },
     "metadata": {},
     "output_type": "display_data"
    },
    {
     "data": {
      "text/plain": [
       "{'electionId': ObjectId('7fffffff0000000000000002'),\n",
       " 'n': 1,\n",
       " 'nModified': 1,\n",
       " 'ok': 1.0,\n",
       " 'opTime': {'t': 2, 'ts': Timestamp(1505938324, 1)},\n",
       " 'updatedExisting': True}"
      ]
     },
     "metadata": {},
     "output_type": "display_data"
    },
    {
     "data": {
      "text/plain": [
       "{'electionId': ObjectId('7fffffff0000000000000002'),\n",
       " 'n': 1,\n",
       " 'nModified': 1,\n",
       " 'ok': 1.0,\n",
       " 'opTime': {'t': 2, 'ts': Timestamp(1505938326, 1)},\n",
       " 'updatedExisting': True}"
      ]
     },
     "metadata": {},
     "output_type": "display_data"
    },
    {
     "data": {
      "text/plain": [
       "{'electionId': ObjectId('7fffffff0000000000000002'),\n",
       " 'n': 1,\n",
       " 'nModified': 1,\n",
       " 'ok': 1.0,\n",
       " 'opTime': {'t': 2, 'ts': Timestamp(1505938327, 1)},\n",
       " 'updatedExisting': True}"
      ]
     },
     "metadata": {},
     "output_type": "display_data"
    },
    {
     "data": {
      "text/plain": [
       "{'electionId': ObjectId('7fffffff0000000000000002'),\n",
       " 'n': 1,\n",
       " 'nModified': 1,\n",
       " 'ok': 1.0,\n",
       " 'opTime': {'t': 2, 'ts': Timestamp(1505938329, 1)},\n",
       " 'updatedExisting': True}"
      ]
     },
     "metadata": {},
     "output_type": "display_data"
    },
    {
     "data": {
      "text/plain": [
       "{'electionId': ObjectId('7fffffff0000000000000002'),\n",
       " 'n': 1,\n",
       " 'nModified': 1,\n",
       " 'ok': 1.0,\n",
       " 'opTime': {'t': 2, 'ts': Timestamp(1505938331, 1)},\n",
       " 'updatedExisting': True}"
      ]
     },
     "metadata": {},
     "output_type": "display_data"
    },
    {
     "data": {
      "text/plain": [
       "{'electionId': ObjectId('7fffffff0000000000000002'),\n",
       " 'n': 1,\n",
       " 'nModified': 1,\n",
       " 'ok': 1.0,\n",
       " 'opTime': {'t': 2, 'ts': Timestamp(1505938332, 1)},\n",
       " 'updatedExisting': True}"
      ]
     },
     "metadata": {},
     "output_type": "display_data"
    },
    {
     "data": {
      "text/plain": [
       "{'electionId': ObjectId('7fffffff0000000000000002'),\n",
       " 'n': 1,\n",
       " 'nModified': 1,\n",
       " 'ok': 1.0,\n",
       " 'opTime': {'t': 2, 'ts': Timestamp(1505938333, 1)},\n",
       " 'updatedExisting': True}"
      ]
     },
     "metadata": {},
     "output_type": "display_data"
    },
    {
     "data": {
      "text/plain": [
       "{'electionId': ObjectId('7fffffff0000000000000002'),\n",
       " 'n': 1,\n",
       " 'nModified': 1,\n",
       " 'ok': 1.0,\n",
       " 'opTime': {'t': 2, 'ts': Timestamp(1505938335, 1)},\n",
       " 'updatedExisting': True}"
      ]
     },
     "metadata": {},
     "output_type": "display_data"
    },
    {
     "data": {
      "text/plain": [
       "{'electionId': ObjectId('7fffffff0000000000000002'),\n",
       " 'n': 1,\n",
       " 'nModified': 1,\n",
       " 'ok': 1.0,\n",
       " 'opTime': {'t': 2, 'ts': Timestamp(1505938337, 1)},\n",
       " 'updatedExisting': True}"
      ]
     },
     "metadata": {},
     "output_type": "display_data"
    },
    {
     "data": {
      "text/plain": [
       "{'electionId': ObjectId('7fffffff0000000000000002'),\n",
       " 'n': 1,\n",
       " 'nModified': 1,\n",
       " 'ok': 1.0,\n",
       " 'opTime': {'t': 2, 'ts': Timestamp(1505938338, 1)},\n",
       " 'updatedExisting': True}"
      ]
     },
     "metadata": {},
     "output_type": "display_data"
    },
    {
     "data": {
      "text/plain": [
       "{'electionId': ObjectId('7fffffff0000000000000002'),\n",
       " 'n': 1,\n",
       " 'nModified': 1,\n",
       " 'ok': 1.0,\n",
       " 'opTime': {'t': 2, 'ts': Timestamp(1505938340, 1)},\n",
       " 'updatedExisting': True}"
      ]
     },
     "metadata": {},
     "output_type": "display_data"
    },
    {
     "data": {
      "text/plain": [
       "{'electionId': ObjectId('7fffffff0000000000000002'),\n",
       " 'n': 1,\n",
       " 'nModified': 1,\n",
       " 'ok': 1.0,\n",
       " 'opTime': {'t': 2, 'ts': Timestamp(1505938342, 1)},\n",
       " 'updatedExisting': True}"
      ]
     },
     "metadata": {},
     "output_type": "display_data"
    },
    {
     "data": {
      "text/plain": [
       "{'electionId': ObjectId('7fffffff0000000000000002'),\n",
       " 'n': 1,\n",
       " 'nModified': 1,\n",
       " 'ok': 1.0,\n",
       " 'opTime': {'t': 2, 'ts': Timestamp(1505938343, 1)},\n",
       " 'updatedExisting': True}"
      ]
     },
     "metadata": {},
     "output_type": "display_data"
    },
    {
     "data": {
      "text/plain": [
       "{'electionId': ObjectId('7fffffff0000000000000002'),\n",
       " 'n': 1,\n",
       " 'nModified': 1,\n",
       " 'ok': 1.0,\n",
       " 'opTime': {'t': 2, 'ts': Timestamp(1505938345, 1)},\n",
       " 'updatedExisting': True}"
      ]
     },
     "metadata": {},
     "output_type": "display_data"
    },
    {
     "data": {
      "text/plain": [
       "{'electionId': ObjectId('7fffffff0000000000000002'),\n",
       " 'n': 1,\n",
       " 'nModified': 1,\n",
       " 'ok': 1.0,\n",
       " 'opTime': {'t': 2, 'ts': Timestamp(1505938346, 1)},\n",
       " 'updatedExisting': True}"
      ]
     },
     "metadata": {},
     "output_type": "display_data"
    },
    {
     "data": {
      "text/plain": [
       "{'electionId': ObjectId('7fffffff0000000000000002'),\n",
       " 'n': 1,\n",
       " 'nModified': 1,\n",
       " 'ok': 1.0,\n",
       " 'opTime': {'t': 2, 'ts': Timestamp(1505938349, 1)},\n",
       " 'updatedExisting': True}"
      ]
     },
     "metadata": {},
     "output_type": "display_data"
    },
    {
     "data": {
      "text/plain": [
       "{'electionId': ObjectId('7fffffff0000000000000002'),\n",
       " 'n': 1,\n",
       " 'nModified': 1,\n",
       " 'ok': 1.0,\n",
       " 'opTime': {'t': 2, 'ts': Timestamp(1505938351, 1)},\n",
       " 'updatedExisting': True}"
      ]
     },
     "metadata": {},
     "output_type": "display_data"
    },
    {
     "data": {
      "text/plain": [
       "{'electionId': ObjectId('7fffffff0000000000000002'),\n",
       " 'n': 1,\n",
       " 'nModified': 1,\n",
       " 'ok': 1.0,\n",
       " 'opTime': {'t': 2, 'ts': Timestamp(1505938353, 1)},\n",
       " 'updatedExisting': True}"
      ]
     },
     "metadata": {},
     "output_type": "display_data"
    },
    {
     "data": {
      "text/plain": [
       "{'electionId': ObjectId('7fffffff0000000000000002'),\n",
       " 'n': 1,\n",
       " 'nModified': 1,\n",
       " 'ok': 1.0,\n",
       " 'opTime': {'t': 2, 'ts': Timestamp(1505938354, 1)},\n",
       " 'updatedExisting': True}"
      ]
     },
     "metadata": {},
     "output_type": "display_data"
    },
    {
     "data": {
      "text/plain": [
       "{'electionId': ObjectId('7fffffff0000000000000002'),\n",
       " 'n': 1,\n",
       " 'nModified': 1,\n",
       " 'ok': 1.0,\n",
       " 'opTime': {'t': 2, 'ts': Timestamp(1505938356, 1)},\n",
       " 'updatedExisting': True}"
      ]
     },
     "metadata": {},
     "output_type": "display_data"
    },
    {
     "data": {
      "text/plain": [
       "{'electionId': ObjectId('7fffffff0000000000000002'),\n",
       " 'n': 1,\n",
       " 'nModified': 1,\n",
       " 'ok': 1.0,\n",
       " 'opTime': {'t': 2, 'ts': Timestamp(1505938358, 1)},\n",
       " 'updatedExisting': True}"
      ]
     },
     "metadata": {},
     "output_type": "display_data"
    },
    {
     "data": {
      "text/plain": [
       "{'electionId': ObjectId('7fffffff0000000000000002'),\n",
       " 'n': 1,\n",
       " 'nModified': 1,\n",
       " 'ok': 1.0,\n",
       " 'opTime': {'t': 2, 'ts': Timestamp(1505938359, 1)},\n",
       " 'updatedExisting': True}"
      ]
     },
     "metadata": {},
     "output_type": "display_data"
    },
    {
     "data": {
      "text/plain": [
       "{'electionId': ObjectId('7fffffff0000000000000002'),\n",
       " 'n': 1,\n",
       " 'nModified': 1,\n",
       " 'ok': 1.0,\n",
       " 'opTime': {'t': 2, 'ts': Timestamp(1505938362, 1)},\n",
       " 'updatedExisting': True}"
      ]
     },
     "metadata": {},
     "output_type": "display_data"
    },
    {
     "data": {
      "text/plain": [
       "{'electionId': ObjectId('7fffffff0000000000000002'),\n",
       " 'n': 1,\n",
       " 'nModified': 1,\n",
       " 'ok': 1.0,\n",
       " 'opTime': {'t': 2, 'ts': Timestamp(1505938364, 1)},\n",
       " 'updatedExisting': True}"
      ]
     },
     "metadata": {},
     "output_type": "display_data"
    },
    {
     "data": {
      "text/plain": [
       "{'electionId': ObjectId('7fffffff0000000000000002'),\n",
       " 'n': 1,\n",
       " 'nModified': 1,\n",
       " 'ok': 1.0,\n",
       " 'opTime': {'t': 2, 'ts': Timestamp(1505938366, 1)},\n",
       " 'updatedExisting': True}"
      ]
     },
     "metadata": {},
     "output_type": "display_data"
    },
    {
     "data": {
      "text/plain": [
       "{'electionId': ObjectId('7fffffff0000000000000002'),\n",
       " 'n': 1,\n",
       " 'nModified': 1,\n",
       " 'ok': 1.0,\n",
       " 'opTime': {'t': 2, 'ts': Timestamp(1505938367, 1)},\n",
       " 'updatedExisting': True}"
      ]
     },
     "metadata": {},
     "output_type": "display_data"
    },
    {
     "data": {
      "text/plain": [
       "{'electionId': ObjectId('7fffffff0000000000000002'),\n",
       " 'n': 1,\n",
       " 'nModified': 1,\n",
       " 'ok': 1.0,\n",
       " 'opTime': {'t': 2, 'ts': Timestamp(1505938369, 1)},\n",
       " 'updatedExisting': True}"
      ]
     },
     "metadata": {},
     "output_type": "display_data"
    },
    {
     "data": {
      "text/plain": [
       "{'electionId': ObjectId('7fffffff0000000000000002'),\n",
       " 'n': 1,\n",
       " 'nModified': 1,\n",
       " 'ok': 1.0,\n",
       " 'opTime': {'t': 2, 'ts': Timestamp(1505938372, 1)},\n",
       " 'updatedExisting': True}"
      ]
     },
     "metadata": {},
     "output_type": "display_data"
    },
    {
     "data": {
      "text/plain": [
       "{'electionId': ObjectId('7fffffff0000000000000002'),\n",
       " 'n': 1,\n",
       " 'nModified': 1,\n",
       " 'ok': 1.0,\n",
       " 'opTime': {'t': 2, 'ts': Timestamp(1505938374, 1)},\n",
       " 'updatedExisting': True}"
      ]
     },
     "metadata": {},
     "output_type": "display_data"
    },
    {
     "data": {
      "text/plain": [
       "{'electionId': ObjectId('7fffffff0000000000000002'),\n",
       " 'n': 1,\n",
       " 'nModified': 1,\n",
       " 'ok': 1.0,\n",
       " 'opTime': {'t': 2, 'ts': Timestamp(1505938376, 1)},\n",
       " 'updatedExisting': True}"
      ]
     },
     "metadata": {},
     "output_type": "display_data"
    },
    {
     "data": {
      "text/plain": [
       "{'electionId': ObjectId('7fffffff0000000000000002'),\n",
       " 'n': 1,\n",
       " 'nModified': 1,\n",
       " 'ok': 1.0,\n",
       " 'opTime': {'t': 2, 'ts': Timestamp(1505938378, 1)},\n",
       " 'updatedExisting': True}"
      ]
     },
     "metadata": {},
     "output_type": "display_data"
    },
    {
     "data": {
      "text/plain": [
       "{'electionId': ObjectId('7fffffff0000000000000002'),\n",
       " 'n': 1,\n",
       " 'nModified': 1,\n",
       " 'ok': 1.0,\n",
       " 'opTime': {'t': 2, 'ts': Timestamp(1505938379, 1)},\n",
       " 'updatedExisting': True}"
      ]
     },
     "metadata": {},
     "output_type": "display_data"
    },
    {
     "data": {
      "text/plain": [
       "{'electionId': ObjectId('7fffffff0000000000000002'),\n",
       " 'n': 1,\n",
       " 'nModified': 1,\n",
       " 'ok': 1.0,\n",
       " 'opTime': {'t': 2, 'ts': Timestamp(1505938381, 1)},\n",
       " 'updatedExisting': True}"
      ]
     },
     "metadata": {},
     "output_type": "display_data"
    },
    {
     "data": {
      "text/plain": [
       "{'electionId': ObjectId('7fffffff0000000000000002'),\n",
       " 'n': 1,\n",
       " 'nModified': 1,\n",
       " 'ok': 1.0,\n",
       " 'opTime': {'t': 2, 'ts': Timestamp(1505938382, 1)},\n",
       " 'updatedExisting': True}"
      ]
     },
     "metadata": {},
     "output_type": "display_data"
    },
    {
     "data": {
      "text/plain": [
       "{'electionId': ObjectId('7fffffff0000000000000002'),\n",
       " 'n': 1,\n",
       " 'nModified': 1,\n",
       " 'ok': 1.0,\n",
       " 'opTime': {'t': 2, 'ts': Timestamp(1505938383, 1)},\n",
       " 'updatedExisting': True}"
      ]
     },
     "metadata": {},
     "output_type": "display_data"
    },
    {
     "data": {
      "text/plain": [
       "{'electionId': ObjectId('7fffffff0000000000000002'),\n",
       " 'n': 1,\n",
       " 'nModified': 1,\n",
       " 'ok': 1.0,\n",
       " 'opTime': {'t': 2, 'ts': Timestamp(1505938385, 1)},\n",
       " 'updatedExisting': True}"
      ]
     },
     "metadata": {},
     "output_type": "display_data"
    },
    {
     "data": {
      "text/plain": [
       "{'electionId': ObjectId('7fffffff0000000000000002'),\n",
       " 'n': 1,\n",
       " 'nModified': 1,\n",
       " 'ok': 1.0,\n",
       " 'opTime': {'t': 2, 'ts': Timestamp(1505938387, 1)},\n",
       " 'updatedExisting': True}"
      ]
     },
     "metadata": {},
     "output_type": "display_data"
    },
    {
     "data": {
      "text/plain": [
       "{'electionId': ObjectId('7fffffff0000000000000002'),\n",
       " 'n': 1,\n",
       " 'nModified': 1,\n",
       " 'ok': 1.0,\n",
       " 'opTime': {'t': 2, 'ts': Timestamp(1505938388, 1)},\n",
       " 'updatedExisting': True}"
      ]
     },
     "metadata": {},
     "output_type": "display_data"
    },
    {
     "data": {
      "text/plain": [
       "{'electionId': ObjectId('7fffffff0000000000000002'),\n",
       " 'n': 1,\n",
       " 'nModified': 1,\n",
       " 'ok': 1.0,\n",
       " 'opTime': {'t': 2, 'ts': Timestamp(1505938390, 1)},\n",
       " 'updatedExisting': True}"
      ]
     },
     "metadata": {},
     "output_type": "display_data"
    },
    {
     "data": {
      "text/plain": [
       "{'electionId': ObjectId('7fffffff0000000000000002'),\n",
       " 'n': 1,\n",
       " 'nModified': 1,\n",
       " 'ok': 1.0,\n",
       " 'opTime': {'t': 2, 'ts': Timestamp(1505938392, 1)},\n",
       " 'updatedExisting': True}"
      ]
     },
     "metadata": {},
     "output_type": "display_data"
    },
    {
     "data": {
      "text/plain": [
       "{'electionId': ObjectId('7fffffff0000000000000002'),\n",
       " 'n': 1,\n",
       " 'nModified': 1,\n",
       " 'ok': 1.0,\n",
       " 'opTime': {'t': 2, 'ts': Timestamp(1505938393, 1)},\n",
       " 'updatedExisting': True}"
      ]
     },
     "metadata": {},
     "output_type": "display_data"
    },
    {
     "data": {
      "text/plain": [
       "{'electionId': ObjectId('7fffffff0000000000000002'),\n",
       " 'n': 1,\n",
       " 'nModified': 1,\n",
       " 'ok': 1.0,\n",
       " 'opTime': {'t': 2, 'ts': Timestamp(1505938395, 1)},\n",
       " 'updatedExisting': True}"
      ]
     },
     "metadata": {},
     "output_type": "display_data"
    },
    {
     "data": {
      "text/plain": [
       "{'electionId': ObjectId('7fffffff0000000000000002'),\n",
       " 'n': 1,\n",
       " 'nModified': 1,\n",
       " 'ok': 1.0,\n",
       " 'opTime': {'t': 2, 'ts': Timestamp(1505938397, 1)},\n",
       " 'updatedExisting': True}"
      ]
     },
     "metadata": {},
     "output_type": "display_data"
    },
    {
     "data": {
      "text/plain": [
       "{'electionId': ObjectId('7fffffff0000000000000002'),\n",
       " 'n': 1,\n",
       " 'nModified': 1,\n",
       " 'ok': 1.0,\n",
       " 'opTime': {'t': 2, 'ts': Timestamp(1505938399, 1)},\n",
       " 'updatedExisting': True}"
      ]
     },
     "metadata": {},
     "output_type": "display_data"
    },
    {
     "data": {
      "text/plain": [
       "{'electionId': ObjectId('7fffffff0000000000000002'),\n",
       " 'n': 1,\n",
       " 'nModified': 1,\n",
       " 'ok': 1.0,\n",
       " 'opTime': {'t': 2, 'ts': Timestamp(1505938401, 1)},\n",
       " 'updatedExisting': True}"
      ]
     },
     "metadata": {},
     "output_type": "display_data"
    },
    {
     "data": {
      "text/plain": [
       "{'electionId': ObjectId('7fffffff0000000000000002'),\n",
       " 'n': 1,\n",
       " 'nModified': 1,\n",
       " 'ok': 1.0,\n",
       " 'opTime': {'t': 2, 'ts': Timestamp(1505938403, 1)},\n",
       " 'updatedExisting': True}"
      ]
     },
     "metadata": {},
     "output_type": "display_data"
    },
    {
     "data": {
      "text/plain": [
       "{'electionId': ObjectId('7fffffff0000000000000002'),\n",
       " 'n': 1,\n",
       " 'nModified': 1,\n",
       " 'ok': 1.0,\n",
       " 'opTime': {'t': 2, 'ts': Timestamp(1505938404, 1)},\n",
       " 'updatedExisting': True}"
      ]
     },
     "metadata": {},
     "output_type": "display_data"
    },
    {
     "data": {
      "text/plain": [
       "{'electionId': ObjectId('7fffffff0000000000000002'),\n",
       " 'n': 1,\n",
       " 'nModified': 1,\n",
       " 'ok': 1.0,\n",
       " 'opTime': {'t': 2, 'ts': Timestamp(1505938405, 1)},\n",
       " 'updatedExisting': True}"
      ]
     },
     "metadata": {},
     "output_type": "display_data"
    },
    {
     "data": {
      "text/plain": [
       "{'electionId': ObjectId('7fffffff0000000000000002'),\n",
       " 'n': 1,\n",
       " 'nModified': 1,\n",
       " 'ok': 1.0,\n",
       " 'opTime': {'t': 2, 'ts': Timestamp(1505938407, 1)},\n",
       " 'updatedExisting': True}"
      ]
     },
     "metadata": {},
     "output_type": "display_data"
    },
    {
     "data": {
      "text/plain": [
       "{'electionId': ObjectId('7fffffff0000000000000002'),\n",
       " 'n': 1,\n",
       " 'nModified': 1,\n",
       " 'ok': 1.0,\n",
       " 'opTime': {'t': 2, 'ts': Timestamp(1505938409, 1)},\n",
       " 'updatedExisting': True}"
      ]
     },
     "metadata": {},
     "output_type": "display_data"
    },
    {
     "data": {
      "text/plain": [
       "{'electionId': ObjectId('7fffffff0000000000000002'),\n",
       " 'n': 1,\n",
       " 'nModified': 1,\n",
       " 'ok': 1.0,\n",
       " 'opTime': {'t': 2, 'ts': Timestamp(1505938411, 1)},\n",
       " 'updatedExisting': True}"
      ]
     },
     "metadata": {},
     "output_type": "display_data"
    },
    {
     "data": {
      "text/plain": [
       "{'electionId': ObjectId('7fffffff0000000000000002'),\n",
       " 'n': 1,\n",
       " 'nModified': 1,\n",
       " 'ok': 1.0,\n",
       " 'opTime': {'t': 2, 'ts': Timestamp(1505938413, 1)},\n",
       " 'updatedExisting': True}"
      ]
     },
     "metadata": {},
     "output_type": "display_data"
    },
    {
     "data": {
      "text/plain": [
       "{'electionId': ObjectId('7fffffff0000000000000002'),\n",
       " 'n': 1,\n",
       " 'nModified': 1,\n",
       " 'ok': 1.0,\n",
       " 'opTime': {'t': 2, 'ts': Timestamp(1505938414, 1)},\n",
       " 'updatedExisting': True}"
      ]
     },
     "metadata": {},
     "output_type": "display_data"
    },
    {
     "data": {
      "text/plain": [
       "{'electionId': ObjectId('7fffffff0000000000000002'),\n",
       " 'n': 1,\n",
       " 'nModified': 1,\n",
       " 'ok': 1.0,\n",
       " 'opTime': {'t': 2, 'ts': Timestamp(1505938416, 1)},\n",
       " 'updatedExisting': True}"
      ]
     },
     "metadata": {},
     "output_type": "display_data"
    },
    {
     "data": {
      "text/plain": [
       "{'electionId': ObjectId('7fffffff0000000000000002'),\n",
       " 'n': 1,\n",
       " 'nModified': 1,\n",
       " 'ok': 1.0,\n",
       " 'opTime': {'t': 2, 'ts': Timestamp(1505938418, 1)},\n",
       " 'updatedExisting': True}"
      ]
     },
     "metadata": {},
     "output_type": "display_data"
    },
    {
     "data": {
      "text/plain": [
       "{'electionId': ObjectId('7fffffff0000000000000002'),\n",
       " 'n': 1,\n",
       " 'nModified': 1,\n",
       " 'ok': 1.0,\n",
       " 'opTime': {'t': 2, 'ts': Timestamp(1505938419, 1)},\n",
       " 'updatedExisting': True}"
      ]
     },
     "metadata": {},
     "output_type": "display_data"
    },
    {
     "data": {
      "text/plain": [
       "{'electionId': ObjectId('7fffffff0000000000000002'),\n",
       " 'n': 1,\n",
       " 'nModified': 1,\n",
       " 'ok': 1.0,\n",
       " 'opTime': {'t': 2, 'ts': Timestamp(1505938421, 1)},\n",
       " 'updatedExisting': True}"
      ]
     },
     "metadata": {},
     "output_type": "display_data"
    },
    {
     "data": {
      "text/plain": [
       "{'electionId': ObjectId('7fffffff0000000000000002'),\n",
       " 'n': 1,\n",
       " 'nModified': 1,\n",
       " 'ok': 1.0,\n",
       " 'opTime': {'t': 2, 'ts': Timestamp(1505938422, 1)},\n",
       " 'updatedExisting': True}"
      ]
     },
     "metadata": {},
     "output_type": "display_data"
    },
    {
     "data": {
      "text/plain": [
       "{'electionId': ObjectId('7fffffff0000000000000002'),\n",
       " 'n': 1,\n",
       " 'nModified': 1,\n",
       " 'ok': 1.0,\n",
       " 'opTime': {'t': 2, 'ts': Timestamp(1505938425, 1)},\n",
       " 'updatedExisting': True}"
      ]
     },
     "metadata": {},
     "output_type": "display_data"
    },
    {
     "data": {
      "text/plain": [
       "{'electionId': ObjectId('7fffffff0000000000000002'),\n",
       " 'n': 1,\n",
       " 'nModified': 1,\n",
       " 'ok': 1.0,\n",
       " 'opTime': {'t': 2, 'ts': Timestamp(1505938426, 1)},\n",
       " 'updatedExisting': True}"
      ]
     },
     "metadata": {},
     "output_type": "display_data"
    },
    {
     "data": {
      "text/plain": [
       "{'electionId': ObjectId('7fffffff0000000000000002'),\n",
       " 'n': 1,\n",
       " 'nModified': 1,\n",
       " 'ok': 1.0,\n",
       " 'opTime': {'t': 2, 'ts': Timestamp(1505938427, 1)},\n",
       " 'updatedExisting': True}"
      ]
     },
     "metadata": {},
     "output_type": "display_data"
    },
    {
     "data": {
      "text/plain": [
       "{'electionId': ObjectId('7fffffff0000000000000002'),\n",
       " 'n': 1,\n",
       " 'nModified': 1,\n",
       " 'ok': 1.0,\n",
       " 'opTime': {'t': 2, 'ts': Timestamp(1505938429, 1)},\n",
       " 'updatedExisting': True}"
      ]
     },
     "metadata": {},
     "output_type": "display_data"
    },
    {
     "data": {
      "text/plain": [
       "{'electionId': ObjectId('7fffffff0000000000000002'),\n",
       " 'n': 1,\n",
       " 'nModified': 1,\n",
       " 'ok': 1.0,\n",
       " 'opTime': {'t': 2, 'ts': Timestamp(1505938431, 1)},\n",
       " 'updatedExisting': True}"
      ]
     },
     "metadata": {},
     "output_type": "display_data"
    },
    {
     "data": {
      "text/plain": [
       "{'electionId': ObjectId('7fffffff0000000000000002'),\n",
       " 'n': 1,\n",
       " 'nModified': 1,\n",
       " 'ok': 1.0,\n",
       " 'opTime': {'t': 2, 'ts': Timestamp(1505938433, 1)},\n",
       " 'updatedExisting': True}"
      ]
     },
     "metadata": {},
     "output_type": "display_data"
    },
    {
     "data": {
      "text/plain": [
       "{'electionId': ObjectId('7fffffff0000000000000002'),\n",
       " 'n': 1,\n",
       " 'nModified': 1,\n",
       " 'ok': 1.0,\n",
       " 'opTime': {'t': 2, 'ts': Timestamp(1505938435, 1)},\n",
       " 'updatedExisting': True}"
      ]
     },
     "metadata": {},
     "output_type": "display_data"
    },
    {
     "data": {
      "text/plain": [
       "{'electionId': ObjectId('7fffffff0000000000000002'),\n",
       " 'n': 1,\n",
       " 'nModified': 1,\n",
       " 'ok': 1.0,\n",
       " 'opTime': {'t': 2, 'ts': Timestamp(1505938437, 1)},\n",
       " 'updatedExisting': True}"
      ]
     },
     "metadata": {},
     "output_type": "display_data"
    },
    {
     "data": {
      "text/plain": [
       "{'electionId': ObjectId('7fffffff0000000000000002'),\n",
       " 'n': 1,\n",
       " 'nModified': 1,\n",
       " 'ok': 1.0,\n",
       " 'opTime': {'t': 2, 'ts': Timestamp(1505938439, 1)},\n",
       " 'updatedExisting': True}"
      ]
     },
     "metadata": {},
     "output_type": "display_data"
    },
    {
     "data": {
      "text/plain": [
       "{'electionId': ObjectId('7fffffff0000000000000002'),\n",
       " 'n': 1,\n",
       " 'nModified': 1,\n",
       " 'ok': 1.0,\n",
       " 'opTime': {'t': 2, 'ts': Timestamp(1505938441, 1)},\n",
       " 'updatedExisting': True}"
      ]
     },
     "metadata": {},
     "output_type": "display_data"
    },
    {
     "data": {
      "text/plain": [
       "{'electionId': ObjectId('7fffffff0000000000000002'),\n",
       " 'n': 1,\n",
       " 'nModified': 1,\n",
       " 'ok': 1.0,\n",
       " 'opTime': {'t': 2, 'ts': Timestamp(1505938443, 1)},\n",
       " 'updatedExisting': True}"
      ]
     },
     "metadata": {},
     "output_type": "display_data"
    },
    {
     "data": {
      "text/plain": [
       "{'electionId': ObjectId('7fffffff0000000000000002'),\n",
       " 'n': 1,\n",
       " 'nModified': 1,\n",
       " 'ok': 1.0,\n",
       " 'opTime': {'t': 2, 'ts': Timestamp(1505938444, 1)},\n",
       " 'updatedExisting': True}"
      ]
     },
     "metadata": {},
     "output_type": "display_data"
    },
    {
     "data": {
      "text/plain": [
       "{'electionId': ObjectId('7fffffff0000000000000002'),\n",
       " 'n': 1,\n",
       " 'nModified': 1,\n",
       " 'ok': 1.0,\n",
       " 'opTime': {'t': 2, 'ts': Timestamp(1505938446, 1)},\n",
       " 'updatedExisting': True}"
      ]
     },
     "metadata": {},
     "output_type": "display_data"
    },
    {
     "data": {
      "text/plain": [
       "{'electionId': ObjectId('7fffffff0000000000000002'),\n",
       " 'n': 1,\n",
       " 'nModified': 1,\n",
       " 'ok': 1.0,\n",
       " 'opTime': {'t': 2, 'ts': Timestamp(1505938448, 1)},\n",
       " 'updatedExisting': True}"
      ]
     },
     "metadata": {},
     "output_type": "display_data"
    },
    {
     "data": {
      "text/plain": [
       "{'electionId': ObjectId('7fffffff0000000000000002'),\n",
       " 'n': 1,\n",
       " 'nModified': 1,\n",
       " 'ok': 1.0,\n",
       " 'opTime': {'t': 2, 'ts': Timestamp(1505938450, 1)},\n",
       " 'updatedExisting': True}"
      ]
     },
     "metadata": {},
     "output_type": "display_data"
    },
    {
     "data": {
      "text/plain": [
       "{'electionId': ObjectId('7fffffff0000000000000002'),\n",
       " 'n': 1,\n",
       " 'nModified': 1,\n",
       " 'ok': 1.0,\n",
       " 'opTime': {'t': 2, 'ts': Timestamp(1505938451, 1)},\n",
       " 'updatedExisting': True}"
      ]
     },
     "metadata": {},
     "output_type": "display_data"
    },
    {
     "data": {
      "text/plain": [
       "{'electionId': ObjectId('7fffffff0000000000000002'),\n",
       " 'n': 1,\n",
       " 'nModified': 1,\n",
       " 'ok': 1.0,\n",
       " 'opTime': {'t': 2, 'ts': Timestamp(1505938452, 1)},\n",
       " 'updatedExisting': True}"
      ]
     },
     "metadata": {},
     "output_type": "display_data"
    },
    {
     "data": {
      "text/plain": [
       "{'electionId': ObjectId('7fffffff0000000000000002'),\n",
       " 'n': 1,\n",
       " 'nModified': 1,\n",
       " 'ok': 1.0,\n",
       " 'opTime': {'t': 2, 'ts': Timestamp(1505938453, 1)},\n",
       " 'updatedExisting': True}"
      ]
     },
     "metadata": {},
     "output_type": "display_data"
    },
    {
     "data": {
      "text/plain": [
       "{'electionId': ObjectId('7fffffff0000000000000002'),\n",
       " 'n': 1,\n",
       " 'nModified': 1,\n",
       " 'ok': 1.0,\n",
       " 'opTime': {'t': 2, 'ts': Timestamp(1505938454, 1)},\n",
       " 'updatedExisting': True}"
      ]
     },
     "metadata": {},
     "output_type": "display_data"
    },
    {
     "data": {
      "text/plain": [
       "{'electionId': ObjectId('7fffffff0000000000000002'),\n",
       " 'n': 1,\n",
       " 'nModified': 1,\n",
       " 'ok': 1.0,\n",
       " 'opTime': {'t': 2, 'ts': Timestamp(1505938456, 1)},\n",
       " 'updatedExisting': True}"
      ]
     },
     "metadata": {},
     "output_type": "display_data"
    },
    {
     "data": {
      "text/plain": [
       "{'electionId': ObjectId('7fffffff0000000000000002'),\n",
       " 'n': 1,\n",
       " 'nModified': 1,\n",
       " 'ok': 1.0,\n",
       " 'opTime': {'t': 2, 'ts': Timestamp(1505938457, 1)},\n",
       " 'updatedExisting': True}"
      ]
     },
     "metadata": {},
     "output_type": "display_data"
    },
    {
     "data": {
      "text/plain": [
       "{'electionId': ObjectId('7fffffff0000000000000002'),\n",
       " 'n': 1,\n",
       " 'nModified': 1,\n",
       " 'ok': 1.0,\n",
       " 'opTime': {'t': 2, 'ts': Timestamp(1505938458, 1)},\n",
       " 'updatedExisting': True}"
      ]
     },
     "metadata": {},
     "output_type": "display_data"
    },
    {
     "data": {
      "text/plain": [
       "{'electionId': ObjectId('7fffffff0000000000000002'),\n",
       " 'n': 1,\n",
       " 'nModified': 1,\n",
       " 'ok': 1.0,\n",
       " 'opTime': {'t': 2, 'ts': Timestamp(1505938460, 1)},\n",
       " 'updatedExisting': True}"
      ]
     },
     "metadata": {},
     "output_type": "display_data"
    },
    {
     "data": {
      "text/plain": [
       "{'electionId': ObjectId('7fffffff0000000000000002'),\n",
       " 'n': 1,\n",
       " 'nModified': 1,\n",
       " 'ok': 1.0,\n",
       " 'opTime': {'t': 2, 'ts': Timestamp(1505938461, 1)},\n",
       " 'updatedExisting': True}"
      ]
     },
     "metadata": {},
     "output_type": "display_data"
    },
    {
     "data": {
      "text/plain": [
       "{'electionId': ObjectId('7fffffff0000000000000002'),\n",
       " 'n': 1,\n",
       " 'nModified': 1,\n",
       " 'ok': 1.0,\n",
       " 'opTime': {'t': 2, 'ts': Timestamp(1505938463, 1)},\n",
       " 'updatedExisting': True}"
      ]
     },
     "metadata": {},
     "output_type": "display_data"
    },
    {
     "data": {
      "text/plain": [
       "{'electionId': ObjectId('7fffffff0000000000000002'),\n",
       " 'n': 1,\n",
       " 'nModified': 1,\n",
       " 'ok': 1.0,\n",
       " 'opTime': {'t': 2, 'ts': Timestamp(1505938464, 1)},\n",
       " 'updatedExisting': True}"
      ]
     },
     "metadata": {},
     "output_type": "display_data"
    },
    {
     "data": {
      "text/plain": [
       "{'electionId': ObjectId('7fffffff0000000000000002'),\n",
       " 'n': 1,\n",
       " 'nModified': 1,\n",
       " 'ok': 1.0,\n",
       " 'opTime': {'t': 2, 'ts': Timestamp(1505938467, 1)},\n",
       " 'updatedExisting': True}"
      ]
     },
     "metadata": {},
     "output_type": "display_data"
    },
    {
     "data": {
      "text/plain": [
       "{'electionId': ObjectId('7fffffff0000000000000002'),\n",
       " 'n': 1,\n",
       " 'nModified': 1,\n",
       " 'ok': 1.0,\n",
       " 'opTime': {'t': 2, 'ts': Timestamp(1505938468, 1)},\n",
       " 'updatedExisting': True}"
      ]
     },
     "metadata": {},
     "output_type": "display_data"
    },
    {
     "data": {
      "text/plain": [
       "{'electionId': ObjectId('7fffffff0000000000000002'),\n",
       " 'n': 1,\n",
       " 'nModified': 1,\n",
       " 'ok': 1.0,\n",
       " 'opTime': {'t': 2, 'ts': Timestamp(1505938470, 1)},\n",
       " 'updatedExisting': True}"
      ]
     },
     "metadata": {},
     "output_type": "display_data"
    },
    {
     "data": {
      "text/plain": [
       "{'electionId': ObjectId('7fffffff0000000000000002'),\n",
       " 'n': 1,\n",
       " 'nModified': 1,\n",
       " 'ok': 1.0,\n",
       " 'opTime': {'t': 2, 'ts': Timestamp(1505938472, 1)},\n",
       " 'updatedExisting': True}"
      ]
     },
     "metadata": {},
     "output_type": "display_data"
    },
    {
     "data": {
      "text/plain": [
       "{'electionId': ObjectId('7fffffff0000000000000002'),\n",
       " 'n': 1,\n",
       " 'nModified': 1,\n",
       " 'ok': 1.0,\n",
       " 'opTime': {'t': 2, 'ts': Timestamp(1505938474, 1)},\n",
       " 'updatedExisting': True}"
      ]
     },
     "metadata": {},
     "output_type": "display_data"
    },
    {
     "data": {
      "text/plain": [
       "{'electionId': ObjectId('7fffffff0000000000000002'),\n",
       " 'n': 1,\n",
       " 'nModified': 1,\n",
       " 'ok': 1.0,\n",
       " 'opTime': {'t': 2, 'ts': Timestamp(1505938476, 1)},\n",
       " 'updatedExisting': True}"
      ]
     },
     "metadata": {},
     "output_type": "display_data"
    },
    {
     "data": {
      "text/plain": [
       "{'electionId': ObjectId('7fffffff0000000000000002'),\n",
       " 'n': 1,\n",
       " 'nModified': 1,\n",
       " 'ok': 1.0,\n",
       " 'opTime': {'t': 2, 'ts': Timestamp(1505938477, 1)},\n",
       " 'updatedExisting': True}"
      ]
     },
     "metadata": {},
     "output_type": "display_data"
    }
   ],
   "source": [
    "for itisRecord in itiscache.find():\n",
    "    itisDocs = []\n",
    "    itisSearchResults = requests.get(itisRecord[\"searchURL\"]).json()\n",
    "    if len(itisSearchResults[\"response\"][\"docs\"]) == 1:\n",
    "        thisSearchURL = itisRecord[\"searchURL\"]\n",
    "        itisData = itis.packageITISJSON(itisSearchResults[\"response\"][\"docs\"][0])\n",
    "        itisData[\"searchURL\"] = thisSearchURL\n",
    "        itisDocs.append(itisData)\n",
    "        if itisData[\"usage\"] in [\"invalid\",\"not accepted\"]:\n",
    "            thisSearchURL = itis.getITISSearchURL(itisData[\"acceptedTSN\"][0],False,False)\n",
    "            itisSearchResults = requests.get(thisSearchURL).json()\n",
    "            if len(itisSearchResults[\"response\"][\"docs\"]) == 1:\n",
    "                itisData = itis.packageITISJSON(itisSearchResults[\"response\"][\"docs\"][0])\n",
    "                itisData[\"searchURL\"] = thisSearchURL\n",
    "                itisDocs.append(itisData)\n",
    "    else:\n",
    "        thisSearchURL = itisRecord[\"searchURL\"]+\"~0.5\"\n",
    "        itisSearchResults = requests.get(thisSearchURL).json()\n",
    "        if len(itisSearchResults[\"response\"][\"docs\"]) == 1:\n",
    "            itisData = itis.packageITISJSON(itisSearchResults[\"response\"][\"docs\"][0])\n",
    "            itisData[\"searchURL\"] = thisSearchURL\n",
    "            itisDocs.append(itisData)\n",
    "            if itisData[\"usage\"] in [\"invalid\",\"not accepted\"]:\n",
    "                thisSearchURL = itis.getITISSearchURL(itisData[\"acceptedTSN\"][0],False,False)\n",
    "                itisSearchResults = requests.get(thisSearchURL).json()\n",
    "                if len(itisSearchResults[\"response\"][\"docs\"]) == 1:\n",
    "                    itisData = itis.packageITISJSON(itisSearchResults[\"response\"][\"docs\"][0])\n",
    "                    itisData[\"searchURL\"] = thisSearchURL\n",
    "                    itisDocs.append(itisData)\n",
    "        else:\n",
    "            itisDocs.append(itisSearchResults)\n",
    "    \n",
    "    print (itiscache.update_one({\"_id\":itisRecord[\"_id\"]},{\"$set\":{\"itisData\":itisDocs}},upsert=True).raw_result)"
   ]
  },
  {
   "cell_type": "code",
   "execution_count": null,
   "metadata": {
    "collapsed": true
   },
   "outputs": [],
   "source": []
  }
 ],
 "metadata": {
  "kernelspec": {
   "display_name": "Python 3",
   "language": "python",
   "name": "python3"
  },
  "language_info": {
   "codemirror_mode": {
    "name": "ipython",
    "version": 3
   },
   "file_extension": ".py",
   "mimetype": "text/x-python",
   "name": "python",
   "nbconvert_exporter": "python",
   "pygments_lexer": "ipython3",
   "version": "3.5.3"
  }
 },
 "nbformat": 4,
 "nbformat_minor": 0
}
