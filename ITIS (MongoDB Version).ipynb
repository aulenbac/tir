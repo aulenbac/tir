{
 "cells": [
  {
   "cell_type": "code",
   "execution_count": 1,
   "metadata": {
    "collapsed": true,
    "deletable": true,
    "editable": true
   },
   "outputs": [],
   "source": [
    "import requests\n",
    "from IPython.display import display\n",
    "from bis import itis\n",
    "from bis2 import mlab"
   ]
  },
  {
   "cell_type": "code",
   "execution_count": 2,
   "metadata": {
    "collapsed": true,
    "deletable": true,
    "editable": true
   },
   "outputs": [],
   "source": [
    "bisDB = mlab.getDB(\"bis\")\n",
    "itiscache = bisDB[\"itiscache\"]"
   ]
  },
  {
   "cell_type": "code",
   "execution_count": 4,
   "metadata": {
    "collapsed": false,
    "deletable": true,
    "editable": true,
    "scrolled": true
   },
   "outputs": [
    {
     "data": {
      "text/plain": [
       "{'electionId': ObjectId('7fffffff0000000000000002'),\n",
       " 'n': 1,\n",
       " 'nModified': 1,\n",
       " 'ok': 1.0,\n",
       " 'opTime': {'t': 2, 'ts': Timestamp(1505748640, 1)},\n",
       " 'updatedExisting': True}"
      ]
     },
     "metadata": {},
     "output_type": "display_data"
    },
    {
     "data": {
      "text/plain": [
       "{'electionId': ObjectId('7fffffff0000000000000002'),\n",
       " 'n': 1,\n",
       " 'nModified': 1,\n",
       " 'ok': 1.0,\n",
       " 'opTime': {'t': 2, 'ts': Timestamp(1505748641, 1)},\n",
       " 'updatedExisting': True}"
      ]
     },
     "metadata": {},
     "output_type": "display_data"
    },
    {
     "data": {
      "text/plain": [
       "{'electionId': ObjectId('7fffffff0000000000000002'),\n",
       " 'n': 1,\n",
       " 'nModified': 1,\n",
       " 'ok': 1.0,\n",
       " 'opTime': {'t': 2, 'ts': Timestamp(1505748644, 1)},\n",
       " 'updatedExisting': True}"
      ]
     },
     "metadata": {},
     "output_type": "display_data"
    },
    {
     "data": {
      "text/plain": [
       "{'electionId': ObjectId('7fffffff0000000000000002'),\n",
       " 'n': 1,\n",
       " 'nModified': 1,\n",
       " 'ok': 1.0,\n",
       " 'opTime': {'t': 2, 'ts': Timestamp(1505748644, 2)},\n",
       " 'updatedExisting': True}"
      ]
     },
     "metadata": {},
     "output_type": "display_data"
    },
    {
     "data": {
      "text/plain": [
       "{'electionId': ObjectId('7fffffff0000000000000002'),\n",
       " 'n': 1,\n",
       " 'nModified': 1,\n",
       " 'ok': 1.0,\n",
       " 'opTime': {'t': 2, 'ts': Timestamp(1505748644, 3)},\n",
       " 'updatedExisting': True}"
      ]
     },
     "metadata": {},
     "output_type": "display_data"
    },
    {
     "data": {
      "text/plain": [
       "{'electionId': ObjectId('7fffffff0000000000000002'),\n",
       " 'n': 1,\n",
       " 'nModified': 1,\n",
       " 'ok': 1.0,\n",
       " 'opTime': {'t': 2, 'ts': Timestamp(1505748644, 4)},\n",
       " 'updatedExisting': True}"
      ]
     },
     "metadata": {},
     "output_type": "display_data"
    },
    {
     "data": {
      "text/plain": [
       "{'electionId': ObjectId('7fffffff0000000000000002'),\n",
       " 'n': 1,\n",
       " 'nModified': 1,\n",
       " 'ok': 1.0,\n",
       " 'opTime': {'t': 2, 'ts': Timestamp(1505748645, 1)},\n",
       " 'updatedExisting': True}"
      ]
     },
     "metadata": {},
     "output_type": "display_data"
    },
    {
     "data": {
      "text/plain": [
       "{'electionId': ObjectId('7fffffff0000000000000002'),\n",
       " 'n': 1,\n",
       " 'nModified': 1,\n",
       " 'ok': 1.0,\n",
       " 'opTime': {'t': 2, 'ts': Timestamp(1505748645, 2)},\n",
       " 'updatedExisting': True}"
      ]
     },
     "metadata": {},
     "output_type": "display_data"
    },
    {
     "data": {
      "text/plain": [
       "{'electionId': ObjectId('7fffffff0000000000000002'),\n",
       " 'n': 1,\n",
       " 'nModified': 1,\n",
       " 'ok': 1.0,\n",
       " 'opTime': {'t': 2, 'ts': Timestamp(1505748645, 3)},\n",
       " 'updatedExisting': True}"
      ]
     },
     "metadata": {},
     "output_type": "display_data"
    },
    {
     "data": {
      "text/plain": [
       "{'electionId': ObjectId('7fffffff0000000000000002'),\n",
       " 'n': 1,\n",
       " 'nModified': 1,\n",
       " 'ok': 1.0,\n",
       " 'opTime': {'t': 2, 'ts': Timestamp(1505748646, 1)},\n",
       " 'updatedExisting': True}"
      ]
     },
     "metadata": {},
     "output_type": "display_data"
    },
    {
     "data": {
      "text/plain": [
       "{'electionId': ObjectId('7fffffff0000000000000002'),\n",
       " 'n': 1,\n",
       " 'nModified': 1,\n",
       " 'ok': 1.0,\n",
       " 'opTime': {'t': 2, 'ts': Timestamp(1505748646, 2)},\n",
       " 'updatedExisting': True}"
      ]
     },
     "metadata": {},
     "output_type": "display_data"
    },
    {
     "data": {
      "text/plain": [
       "{'electionId': ObjectId('7fffffff0000000000000002'),\n",
       " 'n': 1,\n",
       " 'nModified': 1,\n",
       " 'ok': 1.0,\n",
       " 'opTime': {'t': 2, 'ts': Timestamp(1505748647, 1)},\n",
       " 'updatedExisting': True}"
      ]
     },
     "metadata": {},
     "output_type": "display_data"
    },
    {
     "data": {
      "text/plain": [
       "{'electionId': ObjectId('7fffffff0000000000000002'),\n",
       " 'n': 1,\n",
       " 'nModified': 1,\n",
       " 'ok': 1.0,\n",
       " 'opTime': {'t': 2, 'ts': Timestamp(1505748647, 2)},\n",
       " 'updatedExisting': True}"
      ]
     },
     "metadata": {},
     "output_type": "display_data"
    },
    {
     "data": {
      "text/plain": [
       "{'electionId': ObjectId('7fffffff0000000000000002'),\n",
       " 'n': 1,\n",
       " 'nModified': 1,\n",
       " 'ok': 1.0,\n",
       " 'opTime': {'t': 2, 'ts': Timestamp(1505748648, 1)},\n",
       " 'updatedExisting': True}"
      ]
     },
     "metadata": {},
     "output_type": "display_data"
    },
    {
     "data": {
      "text/plain": [
       "{'electionId': ObjectId('7fffffff0000000000000002'),\n",
       " 'n': 1,\n",
       " 'nModified': 1,\n",
       " 'ok': 1.0,\n",
       " 'opTime': {'t': 2, 'ts': Timestamp(1505748648, 2)},\n",
       " 'updatedExisting': True}"
      ]
     },
     "metadata": {},
     "output_type": "display_data"
    },
    {
     "data": {
      "text/plain": [
       "{'electionId': ObjectId('7fffffff0000000000000002'),\n",
       " 'n': 1,\n",
       " 'nModified': 1,\n",
       " 'ok': 1.0,\n",
       " 'opTime': {'t': 2, 'ts': Timestamp(1505748649, 1)},\n",
       " 'updatedExisting': True}"
      ]
     },
     "metadata": {},
     "output_type": "display_data"
    },
    {
     "data": {
      "text/plain": [
       "{'electionId': ObjectId('7fffffff0000000000000002'),\n",
       " 'n': 1,\n",
       " 'nModified': 1,\n",
       " 'ok': 1.0,\n",
       " 'opTime': {'t': 2, 'ts': Timestamp(1505748649, 2)},\n",
       " 'updatedExisting': True}"
      ]
     },
     "metadata": {},
     "output_type": "display_data"
    },
    {
     "data": {
      "text/plain": [
       "{'electionId': ObjectId('7fffffff0000000000000002'),\n",
       " 'n': 1,\n",
       " 'nModified': 1,\n",
       " 'ok': 1.0,\n",
       " 'opTime': {'t': 2, 'ts': Timestamp(1505748649, 3)},\n",
       " 'updatedExisting': True}"
      ]
     },
     "metadata": {},
     "output_type": "display_data"
    },
    {
     "data": {
      "text/plain": [
       "{'electionId': ObjectId('7fffffff0000000000000002'),\n",
       " 'n': 1,\n",
       " 'nModified': 1,\n",
       " 'ok': 1.0,\n",
       " 'opTime': {'t': 2, 'ts': Timestamp(1505748650, 1)},\n",
       " 'updatedExisting': True}"
      ]
     },
     "metadata": {},
     "output_type": "display_data"
    },
    {
     "data": {
      "text/plain": [
       "{'electionId': ObjectId('7fffffff0000000000000002'),\n",
       " 'n': 1,\n",
       " 'nModified': 1,\n",
       " 'ok': 1.0,\n",
       " 'opTime': {'t': 2, 'ts': Timestamp(1505748650, 2)},\n",
       " 'updatedExisting': True}"
      ]
     },
     "metadata": {},
     "output_type": "display_data"
    },
    {
     "data": {
      "text/plain": [
       "{'electionId': ObjectId('7fffffff0000000000000002'),\n",
       " 'n': 1,\n",
       " 'nModified': 1,\n",
       " 'ok': 1.0,\n",
       " 'opTime': {'t': 2, 'ts': Timestamp(1505748651, 1)},\n",
       " 'updatedExisting': True}"
      ]
     },
     "metadata": {},
     "output_type": "display_data"
    },
    {
     "data": {
      "text/plain": [
       "{'electionId': ObjectId('7fffffff0000000000000002'),\n",
       " 'n': 1,\n",
       " 'nModified': 1,\n",
       " 'ok': 1.0,\n",
       " 'opTime': {'t': 2, 'ts': Timestamp(1505748651, 2)},\n",
       " 'updatedExisting': True}"
      ]
     },
     "metadata": {},
     "output_type": "display_data"
    },
    {
     "data": {
      "text/plain": [
       "{'electionId': ObjectId('7fffffff0000000000000002'),\n",
       " 'n': 1,\n",
       " 'nModified': 1,\n",
       " 'ok': 1.0,\n",
       " 'opTime': {'t': 2, 'ts': Timestamp(1505748652, 1)},\n",
       " 'updatedExisting': True}"
      ]
     },
     "metadata": {},
     "output_type": "display_data"
    },
    {
     "data": {
      "text/plain": [
       "{'electionId': ObjectId('7fffffff0000000000000002'),\n",
       " 'n': 1,\n",
       " 'nModified': 1,\n",
       " 'ok': 1.0,\n",
       " 'opTime': {'t': 2, 'ts': Timestamp(1505748652, 2)},\n",
       " 'updatedExisting': True}"
      ]
     },
     "metadata": {},
     "output_type": "display_data"
    },
    {
     "data": {
      "text/plain": [
       "{'electionId': ObjectId('7fffffff0000000000000002'),\n",
       " 'n': 1,\n",
       " 'nModified': 1,\n",
       " 'ok': 1.0,\n",
       " 'opTime': {'t': 2, 'ts': Timestamp(1505748653, 1)},\n",
       " 'updatedExisting': True}"
      ]
     },
     "metadata": {},
     "output_type": "display_data"
    },
    {
     "data": {
      "text/plain": [
       "{'electionId': ObjectId('7fffffff0000000000000002'),\n",
       " 'n': 1,\n",
       " 'nModified': 1,\n",
       " 'ok': 1.0,\n",
       " 'opTime': {'t': 2, 'ts': Timestamp(1505748653, 2)},\n",
       " 'updatedExisting': True}"
      ]
     },
     "metadata": {},
     "output_type": "display_data"
    },
    {
     "data": {
      "text/plain": [
       "{'electionId': ObjectId('7fffffff0000000000000002'),\n",
       " 'n': 1,\n",
       " 'nModified': 1,\n",
       " 'ok': 1.0,\n",
       " 'opTime': {'t': 2, 'ts': Timestamp(1505748654, 1)},\n",
       " 'updatedExisting': True}"
      ]
     },
     "metadata": {},
     "output_type": "display_data"
    },
    {
     "data": {
      "text/plain": [
       "{'electionId': ObjectId('7fffffff0000000000000002'),\n",
       " 'n': 1,\n",
       " 'nModified': 1,\n",
       " 'ok': 1.0,\n",
       " 'opTime': {'t': 2, 'ts': Timestamp(1505748655, 1)},\n",
       " 'updatedExisting': True}"
      ]
     },
     "metadata": {},
     "output_type": "display_data"
    },
    {
     "data": {
      "text/plain": [
       "{'electionId': ObjectId('7fffffff0000000000000002'),\n",
       " 'n': 1,\n",
       " 'nModified': 1,\n",
       " 'ok': 1.0,\n",
       " 'opTime': {'t': 2, 'ts': Timestamp(1505748657, 1)},\n",
       " 'updatedExisting': True}"
      ]
     },
     "metadata": {},
     "output_type": "display_data"
    },
    {
     "data": {
      "text/plain": [
       "{'electionId': ObjectId('7fffffff0000000000000002'),\n",
       " 'n': 1,\n",
       " 'nModified': 1,\n",
       " 'ok': 1.0,\n",
       " 'opTime': {'t': 2, 'ts': Timestamp(1505748657, 2)},\n",
       " 'updatedExisting': True}"
      ]
     },
     "metadata": {},
     "output_type": "display_data"
    },
    {
     "data": {
      "text/plain": [
       "{'electionId': ObjectId('7fffffff0000000000000002'),\n",
       " 'n': 1,\n",
       " 'nModified': 1,\n",
       " 'ok': 1.0,\n",
       " 'opTime': {'t': 2, 'ts': Timestamp(1505748660, 1)},\n",
       " 'updatedExisting': True}"
      ]
     },
     "metadata": {},
     "output_type": "display_data"
    },
    {
     "data": {
      "text/plain": [
       "{'electionId': ObjectId('7fffffff0000000000000002'),\n",
       " 'n': 1,\n",
       " 'nModified': 1,\n",
       " 'ok': 1.0,\n",
       " 'opTime': {'t': 2, 'ts': Timestamp(1505748661, 1)},\n",
       " 'updatedExisting': True}"
      ]
     },
     "metadata": {},
     "output_type": "display_data"
    },
    {
     "data": {
      "text/plain": [
       "{'electionId': ObjectId('7fffffff0000000000000002'),\n",
       " 'n': 1,\n",
       " 'nModified': 1,\n",
       " 'ok': 1.0,\n",
       " 'opTime': {'t': 2, 'ts': Timestamp(1505748662, 1)},\n",
       " 'updatedExisting': True}"
      ]
     },
     "metadata": {},
     "output_type": "display_data"
    },
    {
     "data": {
      "text/plain": [
       "{'electionId': ObjectId('7fffffff0000000000000002'),\n",
       " 'n': 1,\n",
       " 'nModified': 1,\n",
       " 'ok': 1.0,\n",
       " 'opTime': {'t': 2, 'ts': Timestamp(1505748664, 1)},\n",
       " 'updatedExisting': True}"
      ]
     },
     "metadata": {},
     "output_type": "display_data"
    },
    {
     "data": {
      "text/plain": [
       "{'electionId': ObjectId('7fffffff0000000000000002'),\n",
       " 'n': 1,\n",
       " 'nModified': 1,\n",
       " 'ok': 1.0,\n",
       " 'opTime': {'t': 2, 'ts': Timestamp(1505748664, 2)},\n",
       " 'updatedExisting': True}"
      ]
     },
     "metadata": {},
     "output_type": "display_data"
    },
    {
     "data": {
      "text/plain": [
       "{'electionId': ObjectId('7fffffff0000000000000002'),\n",
       " 'n': 1,\n",
       " 'nModified': 1,\n",
       " 'ok': 1.0,\n",
       " 'opTime': {'t': 2, 'ts': Timestamp(1505748665, 1)},\n",
       " 'updatedExisting': True}"
      ]
     },
     "metadata": {},
     "output_type": "display_data"
    },
    {
     "data": {
      "text/plain": [
       "{'electionId': ObjectId('7fffffff0000000000000002'),\n",
       " 'n': 1,\n",
       " 'nModified': 1,\n",
       " 'ok': 1.0,\n",
       " 'opTime': {'t': 2, 'ts': Timestamp(1505748665, 2)},\n",
       " 'updatedExisting': True}"
      ]
     },
     "metadata": {},
     "output_type": "display_data"
    },
    {
     "data": {
      "text/plain": [
       "{'electionId': ObjectId('7fffffff0000000000000002'),\n",
       " 'n': 1,\n",
       " 'nModified': 1,\n",
       " 'ok': 1.0,\n",
       " 'opTime': {'t': 2, 'ts': Timestamp(1505748666, 1)},\n",
       " 'updatedExisting': True}"
      ]
     },
     "metadata": {},
     "output_type": "display_data"
    },
    {
     "data": {
      "text/plain": [
       "{'electionId': ObjectId('7fffffff0000000000000002'),\n",
       " 'n': 1,\n",
       " 'nModified': 1,\n",
       " 'ok': 1.0,\n",
       " 'opTime': {'t': 2, 'ts': Timestamp(1505748666, 2)},\n",
       " 'updatedExisting': True}"
      ]
     },
     "metadata": {},
     "output_type": "display_data"
    },
    {
     "data": {
      "text/plain": [
       "{'electionId': ObjectId('7fffffff0000000000000002'),\n",
       " 'n': 1,\n",
       " 'nModified': 1,\n",
       " 'ok': 1.0,\n",
       " 'opTime': {'t': 2, 'ts': Timestamp(1505748667, 1)},\n",
       " 'updatedExisting': True}"
      ]
     },
     "metadata": {},
     "output_type": "display_data"
    },
    {
     "data": {
      "text/plain": [
       "{'electionId': ObjectId('7fffffff0000000000000002'),\n",
       " 'n': 1,\n",
       " 'nModified': 1,\n",
       " 'ok': 1.0,\n",
       " 'opTime': {'t': 2, 'ts': Timestamp(1505748667, 2)},\n",
       " 'updatedExisting': True}"
      ]
     },
     "metadata": {},
     "output_type": "display_data"
    },
    {
     "data": {
      "text/plain": [
       "{'electionId': ObjectId('7fffffff0000000000000002'),\n",
       " 'n': 1,\n",
       " 'nModified': 1,\n",
       " 'ok': 1.0,\n",
       " 'opTime': {'t': 2, 'ts': Timestamp(1505748668, 1)},\n",
       " 'updatedExisting': True}"
      ]
     },
     "metadata": {},
     "output_type": "display_data"
    },
    {
     "data": {
      "text/plain": [
       "{'electionId': ObjectId('7fffffff0000000000000002'),\n",
       " 'n': 1,\n",
       " 'nModified': 1,\n",
       " 'ok': 1.0,\n",
       " 'opTime': {'t': 2, 'ts': Timestamp(1505748669, 1)},\n",
       " 'updatedExisting': True}"
      ]
     },
     "metadata": {},
     "output_type": "display_data"
    },
    {
     "data": {
      "text/plain": [
       "{'electionId': ObjectId('7fffffff0000000000000002'),\n",
       " 'n': 1,\n",
       " 'nModified': 1,\n",
       " 'ok': 1.0,\n",
       " 'opTime': {'t': 2, 'ts': Timestamp(1505748671, 1)},\n",
       " 'updatedExisting': True}"
      ]
     },
     "metadata": {},
     "output_type": "display_data"
    },
    {
     "data": {
      "text/plain": [
       "{'electionId': ObjectId('7fffffff0000000000000002'),\n",
       " 'n': 1,\n",
       " 'nModified': 1,\n",
       " 'ok': 1.0,\n",
       " 'opTime': {'t': 2, 'ts': Timestamp(1505748672, 1)},\n",
       " 'updatedExisting': True}"
      ]
     },
     "metadata": {},
     "output_type": "display_data"
    },
    {
     "data": {
      "text/plain": [
       "{'electionId': ObjectId('7fffffff0000000000000002'),\n",
       " 'n': 1,\n",
       " 'nModified': 1,\n",
       " 'ok': 1.0,\n",
       " 'opTime': {'t': 2, 'ts': Timestamp(1505748672, 2)},\n",
       " 'updatedExisting': True}"
      ]
     },
     "metadata": {},
     "output_type": "display_data"
    },
    {
     "data": {
      "text/plain": [
       "{'electionId': ObjectId('7fffffff0000000000000002'),\n",
       " 'n': 1,\n",
       " 'nModified': 1,\n",
       " 'ok': 1.0,\n",
       " 'opTime': {'t': 2, 'ts': Timestamp(1505748673, 1)},\n",
       " 'updatedExisting': True}"
      ]
     },
     "metadata": {},
     "output_type": "display_data"
    },
    {
     "data": {
      "text/plain": [
       "{'electionId': ObjectId('7fffffff0000000000000002'),\n",
       " 'n': 1,\n",
       " 'nModified': 1,\n",
       " 'ok': 1.0,\n",
       " 'opTime': {'t': 2, 'ts': Timestamp(1505748674, 1)},\n",
       " 'updatedExisting': True}"
      ]
     },
     "metadata": {},
     "output_type": "display_data"
    },
    {
     "data": {
      "text/plain": [
       "{'electionId': ObjectId('7fffffff0000000000000002'),\n",
       " 'n': 1,\n",
       " 'nModified': 1,\n",
       " 'ok': 1.0,\n",
       " 'opTime': {'t': 2, 'ts': Timestamp(1505748675, 1)},\n",
       " 'updatedExisting': True}"
      ]
     },
     "metadata": {},
     "output_type": "display_data"
    },
    {
     "data": {
      "text/plain": [
       "{'electionId': ObjectId('7fffffff0000000000000002'),\n",
       " 'n': 1,\n",
       " 'nModified': 1,\n",
       " 'ok': 1.0,\n",
       " 'opTime': {'t': 2, 'ts': Timestamp(1505748675, 2)},\n",
       " 'updatedExisting': True}"
      ]
     },
     "metadata": {},
     "output_type": "display_data"
    },
    {
     "data": {
      "text/plain": [
       "{'electionId': ObjectId('7fffffff0000000000000002'),\n",
       " 'n': 1,\n",
       " 'nModified': 1,\n",
       " 'ok': 1.0,\n",
       " 'opTime': {'t': 2, 'ts': Timestamp(1505748676, 1)},\n",
       " 'updatedExisting': True}"
      ]
     },
     "metadata": {},
     "output_type": "display_data"
    },
    {
     "data": {
      "text/plain": [
       "{'electionId': ObjectId('7fffffff0000000000000002'),\n",
       " 'n': 1,\n",
       " 'nModified': 1,\n",
       " 'ok': 1.0,\n",
       " 'opTime': {'t': 2, 'ts': Timestamp(1505748677, 1)},\n",
       " 'updatedExisting': True}"
      ]
     },
     "metadata": {},
     "output_type": "display_data"
    },
    {
     "data": {
      "text/plain": [
       "{'electionId': ObjectId('7fffffff0000000000000002'),\n",
       " 'n': 1,\n",
       " 'nModified': 1,\n",
       " 'ok': 1.0,\n",
       " 'opTime': {'t': 2, 'ts': Timestamp(1505748678, 1)},\n",
       " 'updatedExisting': True}"
      ]
     },
     "metadata": {},
     "output_type": "display_data"
    },
    {
     "data": {
      "text/plain": [
       "{'electionId': ObjectId('7fffffff0000000000000002'),\n",
       " 'n': 1,\n",
       " 'nModified': 1,\n",
       " 'ok': 1.0,\n",
       " 'opTime': {'t': 2, 'ts': Timestamp(1505748678, 2)},\n",
       " 'updatedExisting': True}"
      ]
     },
     "metadata": {},
     "output_type": "display_data"
    },
    {
     "data": {
      "text/plain": [
       "{'electionId': ObjectId('7fffffff0000000000000002'),\n",
       " 'n': 1,\n",
       " 'nModified': 1,\n",
       " 'ok': 1.0,\n",
       " 'opTime': {'t': 2, 'ts': Timestamp(1505748679, 1)},\n",
       " 'updatedExisting': True}"
      ]
     },
     "metadata": {},
     "output_type": "display_data"
    },
    {
     "data": {
      "text/plain": [
       "{'electionId': ObjectId('7fffffff0000000000000002'),\n",
       " 'n': 1,\n",
       " 'nModified': 1,\n",
       " 'ok': 1.0,\n",
       " 'opTime': {'t': 2, 'ts': Timestamp(1505748680, 1)},\n",
       " 'updatedExisting': True}"
      ]
     },
     "metadata": {},
     "output_type": "display_data"
    },
    {
     "data": {
      "text/plain": [
       "{'electionId': ObjectId('7fffffff0000000000000002'),\n",
       " 'n': 1,\n",
       " 'nModified': 1,\n",
       " 'ok': 1.0,\n",
       " 'opTime': {'t': 2, 'ts': Timestamp(1505748680, 2)},\n",
       " 'updatedExisting': True}"
      ]
     },
     "metadata": {},
     "output_type": "display_data"
    },
    {
     "data": {
      "text/plain": [
       "{'electionId': ObjectId('7fffffff0000000000000002'),\n",
       " 'n': 1,\n",
       " 'nModified': 1,\n",
       " 'ok': 1.0,\n",
       " 'opTime': {'t': 2, 'ts': Timestamp(1505748681, 1)},\n",
       " 'updatedExisting': True}"
      ]
     },
     "metadata": {},
     "output_type": "display_data"
    },
    {
     "data": {
      "text/plain": [
       "{'electionId': ObjectId('7fffffff0000000000000002'),\n",
       " 'n': 1,\n",
       " 'nModified': 1,\n",
       " 'ok': 1.0,\n",
       " 'opTime': {'t': 2, 'ts': Timestamp(1505748682, 1)},\n",
       " 'updatedExisting': True}"
      ]
     },
     "metadata": {},
     "output_type": "display_data"
    },
    {
     "data": {
      "text/plain": [
       "{'electionId': ObjectId('7fffffff0000000000000002'),\n",
       " 'n': 1,\n",
       " 'nModified': 1,\n",
       " 'ok': 1.0,\n",
       " 'opTime': {'t': 2, 'ts': Timestamp(1505748683, 1)},\n",
       " 'updatedExisting': True}"
      ]
     },
     "metadata": {},
     "output_type": "display_data"
    },
    {
     "data": {
      "text/plain": [
       "{'electionId': ObjectId('7fffffff0000000000000002'),\n",
       " 'n': 1,\n",
       " 'nModified': 1,\n",
       " 'ok': 1.0,\n",
       " 'opTime': {'t': 2, 'ts': Timestamp(1505748683, 2)},\n",
       " 'updatedExisting': True}"
      ]
     },
     "metadata": {},
     "output_type": "display_data"
    },
    {
     "data": {
      "text/plain": [
       "{'electionId': ObjectId('7fffffff0000000000000002'),\n",
       " 'n': 1,\n",
       " 'nModified': 1,\n",
       " 'ok': 1.0,\n",
       " 'opTime': {'t': 2, 'ts': Timestamp(1505748684, 1)},\n",
       " 'updatedExisting': True}"
      ]
     },
     "metadata": {},
     "output_type": "display_data"
    },
    {
     "data": {
      "text/plain": [
       "{'electionId': ObjectId('7fffffff0000000000000002'),\n",
       " 'n': 1,\n",
       " 'nModified': 1,\n",
       " 'ok': 1.0,\n",
       " 'opTime': {'t': 2, 'ts': Timestamp(1505748684, 2)},\n",
       " 'updatedExisting': True}"
      ]
     },
     "metadata": {},
     "output_type": "display_data"
    },
    {
     "data": {
      "text/plain": [
       "{'electionId': ObjectId('7fffffff0000000000000002'),\n",
       " 'n': 1,\n",
       " 'nModified': 1,\n",
       " 'ok': 1.0,\n",
       " 'opTime': {'t': 2, 'ts': Timestamp(1505748685, 1)},\n",
       " 'updatedExisting': True}"
      ]
     },
     "metadata": {},
     "output_type": "display_data"
    },
    {
     "data": {
      "text/plain": [
       "{'electionId': ObjectId('7fffffff0000000000000002'),\n",
       " 'n': 1,\n",
       " 'nModified': 1,\n",
       " 'ok': 1.0,\n",
       " 'opTime': {'t': 2, 'ts': Timestamp(1505748686, 1)},\n",
       " 'updatedExisting': True}"
      ]
     },
     "metadata": {},
     "output_type": "display_data"
    },
    {
     "data": {
      "text/plain": [
       "{'electionId': ObjectId('7fffffff0000000000000002'),\n",
       " 'n': 1,\n",
       " 'nModified': 1,\n",
       " 'ok': 1.0,\n",
       " 'opTime': {'t': 2, 'ts': Timestamp(1505748687, 1)},\n",
       " 'updatedExisting': True}"
      ]
     },
     "metadata": {},
     "output_type": "display_data"
    },
    {
     "data": {
      "text/plain": [
       "{'electionId': ObjectId('7fffffff0000000000000002'),\n",
       " 'n': 1,\n",
       " 'nModified': 1,\n",
       " 'ok': 1.0,\n",
       " 'opTime': {'t': 2, 'ts': Timestamp(1505748688, 1)},\n",
       " 'updatedExisting': True}"
      ]
     },
     "metadata": {},
     "output_type": "display_data"
    },
    {
     "data": {
      "text/plain": [
       "{'electionId': ObjectId('7fffffff0000000000000002'),\n",
       " 'n': 1,\n",
       " 'nModified': 1,\n",
       " 'ok': 1.0,\n",
       " 'opTime': {'t': 2, 'ts': Timestamp(1505748689, 1)},\n",
       " 'updatedExisting': True}"
      ]
     },
     "metadata": {},
     "output_type": "display_data"
    },
    {
     "data": {
      "text/plain": [
       "{'electionId': ObjectId('7fffffff0000000000000002'),\n",
       " 'n': 1,\n",
       " 'nModified': 1,\n",
       " 'ok': 1.0,\n",
       " 'opTime': {'t': 2, 'ts': Timestamp(1505748690, 1)},\n",
       " 'updatedExisting': True}"
      ]
     },
     "metadata": {},
     "output_type": "display_data"
    },
    {
     "data": {
      "text/plain": [
       "{'electionId': ObjectId('7fffffff0000000000000002'),\n",
       " 'n': 1,\n",
       " 'nModified': 1,\n",
       " 'ok': 1.0,\n",
       " 'opTime': {'t': 2, 'ts': Timestamp(1505748691, 1)},\n",
       " 'updatedExisting': True}"
      ]
     },
     "metadata": {},
     "output_type": "display_data"
    },
    {
     "data": {
      "text/plain": [
       "{'electionId': ObjectId('7fffffff0000000000000002'),\n",
       " 'n': 1,\n",
       " 'nModified': 1,\n",
       " 'ok': 1.0,\n",
       " 'opTime': {'t': 2, 'ts': Timestamp(1505748692, 1)},\n",
       " 'updatedExisting': True}"
      ]
     },
     "metadata": {},
     "output_type": "display_data"
    },
    {
     "data": {
      "text/plain": [
       "{'electionId': ObjectId('7fffffff0000000000000002'),\n",
       " 'n': 1,\n",
       " 'nModified': 1,\n",
       " 'ok': 1.0,\n",
       " 'opTime': {'t': 2, 'ts': Timestamp(1505748694, 1)},\n",
       " 'updatedExisting': True}"
      ]
     },
     "metadata": {},
     "output_type": "display_data"
    },
    {
     "data": {
      "text/plain": [
       "{'electionId': ObjectId('7fffffff0000000000000002'),\n",
       " 'n': 1,\n",
       " 'nModified': 1,\n",
       " 'ok': 1.0,\n",
       " 'opTime': {'t': 2, 'ts': Timestamp(1505748695, 1)},\n",
       " 'updatedExisting': True}"
      ]
     },
     "metadata": {},
     "output_type": "display_data"
    },
    {
     "data": {
      "text/plain": [
       "{'electionId': ObjectId('7fffffff0000000000000002'),\n",
       " 'n': 1,\n",
       " 'nModified': 1,\n",
       " 'ok': 1.0,\n",
       " 'opTime': {'t': 2, 'ts': Timestamp(1505748696, 1)},\n",
       " 'updatedExisting': True}"
      ]
     },
     "metadata": {},
     "output_type": "display_data"
    },
    {
     "data": {
      "text/plain": [
       "{'electionId': ObjectId('7fffffff0000000000000002'),\n",
       " 'n': 1,\n",
       " 'nModified': 1,\n",
       " 'ok': 1.0,\n",
       " 'opTime': {'t': 2, 'ts': Timestamp(1505748697, 1)},\n",
       " 'updatedExisting': True}"
      ]
     },
     "metadata": {},
     "output_type": "display_data"
    },
    {
     "data": {
      "text/plain": [
       "{'electionId': ObjectId('7fffffff0000000000000002'),\n",
       " 'n': 1,\n",
       " 'nModified': 1,\n",
       " 'ok': 1.0,\n",
       " 'opTime': {'t': 2, 'ts': Timestamp(1505748697, 2)},\n",
       " 'updatedExisting': True}"
      ]
     },
     "metadata": {},
     "output_type": "display_data"
    },
    {
     "data": {
      "text/plain": [
       "{'electionId': ObjectId('7fffffff0000000000000002'),\n",
       " 'n': 1,\n",
       " 'nModified': 1,\n",
       " 'ok': 1.0,\n",
       " 'opTime': {'t': 2, 'ts': Timestamp(1505748698, 1)},\n",
       " 'updatedExisting': True}"
      ]
     },
     "metadata": {},
     "output_type": "display_data"
    },
    {
     "data": {
      "text/plain": [
       "{'electionId': ObjectId('7fffffff0000000000000002'),\n",
       " 'n': 1,\n",
       " 'nModified': 1,\n",
       " 'ok': 1.0,\n",
       " 'opTime': {'t': 2, 'ts': Timestamp(1505748698, 2)},\n",
       " 'updatedExisting': True}"
      ]
     },
     "metadata": {},
     "output_type": "display_data"
    },
    {
     "data": {
      "text/plain": [
       "{'electionId': ObjectId('7fffffff0000000000000002'),\n",
       " 'n': 1,\n",
       " 'nModified': 1,\n",
       " 'ok': 1.0,\n",
       " 'opTime': {'t': 2, 'ts': Timestamp(1505748699, 1)},\n",
       " 'updatedExisting': True}"
      ]
     },
     "metadata": {},
     "output_type": "display_data"
    },
    {
     "data": {
      "text/plain": [
       "{'electionId': ObjectId('7fffffff0000000000000002'),\n",
       " 'n': 1,\n",
       " 'nModified': 1,\n",
       " 'ok': 1.0,\n",
       " 'opTime': {'t': 2, 'ts': Timestamp(1505748699, 2)},\n",
       " 'updatedExisting': True}"
      ]
     },
     "metadata": {},
     "output_type": "display_data"
    },
    {
     "data": {
      "text/plain": [
       "{'electionId': ObjectId('7fffffff0000000000000002'),\n",
       " 'n': 1,\n",
       " 'nModified': 1,\n",
       " 'ok': 1.0,\n",
       " 'opTime': {'t': 2, 'ts': Timestamp(1505748700, 1)},\n",
       " 'updatedExisting': True}"
      ]
     },
     "metadata": {},
     "output_type": "display_data"
    },
    {
     "data": {
      "text/plain": [
       "{'electionId': ObjectId('7fffffff0000000000000002'),\n",
       " 'n': 1,\n",
       " 'nModified': 1,\n",
       " 'ok': 1.0,\n",
       " 'opTime': {'t': 2, 'ts': Timestamp(1505748700, 2)},\n",
       " 'updatedExisting': True}"
      ]
     },
     "metadata": {},
     "output_type": "display_data"
    },
    {
     "data": {
      "text/plain": [
       "{'electionId': ObjectId('7fffffff0000000000000002'),\n",
       " 'n': 1,\n",
       " 'nModified': 1,\n",
       " 'ok': 1.0,\n",
       " 'opTime': {'t': 2, 'ts': Timestamp(1505748701, 1)},\n",
       " 'updatedExisting': True}"
      ]
     },
     "metadata": {},
     "output_type": "display_data"
    },
    {
     "data": {
      "text/plain": [
       "{'electionId': ObjectId('7fffffff0000000000000002'),\n",
       " 'n': 1,\n",
       " 'nModified': 1,\n",
       " 'ok': 1.0,\n",
       " 'opTime': {'t': 2, 'ts': Timestamp(1505748701, 2)},\n",
       " 'updatedExisting': True}"
      ]
     },
     "metadata": {},
     "output_type": "display_data"
    },
    {
     "data": {
      "text/plain": [
       "{'electionId': ObjectId('7fffffff0000000000000002'),\n",
       " 'n': 1,\n",
       " 'nModified': 1,\n",
       " 'ok': 1.0,\n",
       " 'opTime': {'t': 2, 'ts': Timestamp(1505748702, 1)},\n",
       " 'updatedExisting': True}"
      ]
     },
     "metadata": {},
     "output_type": "display_data"
    },
    {
     "data": {
      "text/plain": [
       "{'electionId': ObjectId('7fffffff0000000000000002'),\n",
       " 'n': 1,\n",
       " 'nModified': 1,\n",
       " 'ok': 1.0,\n",
       " 'opTime': {'t': 2, 'ts': Timestamp(1505748703, 1)},\n",
       " 'updatedExisting': True}"
      ]
     },
     "metadata": {},
     "output_type": "display_data"
    },
    {
     "data": {
      "text/plain": [
       "{'electionId': ObjectId('7fffffff0000000000000002'),\n",
       " 'n': 1,\n",
       " 'nModified': 1,\n",
       " 'ok': 1.0,\n",
       " 'opTime': {'t': 2, 'ts': Timestamp(1505748703, 2)},\n",
       " 'updatedExisting': True}"
      ]
     },
     "metadata": {},
     "output_type": "display_data"
    },
    {
     "data": {
      "text/plain": [
       "{'electionId': ObjectId('7fffffff0000000000000002'),\n",
       " 'n': 1,\n",
       " 'nModified': 1,\n",
       " 'ok': 1.0,\n",
       " 'opTime': {'t': 2, 'ts': Timestamp(1505748704, 1)},\n",
       " 'updatedExisting': True}"
      ]
     },
     "metadata": {},
     "output_type": "display_data"
    },
    {
     "data": {
      "text/plain": [
       "{'electionId': ObjectId('7fffffff0000000000000002'),\n",
       " 'n': 1,\n",
       " 'nModified': 1,\n",
       " 'ok': 1.0,\n",
       " 'opTime': {'t': 2, 'ts': Timestamp(1505748706, 1)},\n",
       " 'updatedExisting': True}"
      ]
     },
     "metadata": {},
     "output_type": "display_data"
    },
    {
     "data": {
      "text/plain": [
       "{'electionId': ObjectId('7fffffff0000000000000002'),\n",
       " 'n': 1,\n",
       " 'nModified': 1,\n",
       " 'ok': 1.0,\n",
       " 'opTime': {'t': 2, 'ts': Timestamp(1505748707, 1)},\n",
       " 'updatedExisting': True}"
      ]
     },
     "metadata": {},
     "output_type": "display_data"
    },
    {
     "data": {
      "text/plain": [
       "{'electionId': ObjectId('7fffffff0000000000000002'),\n",
       " 'n': 1,\n",
       " 'nModified': 1,\n",
       " 'ok': 1.0,\n",
       " 'opTime': {'t': 2, 'ts': Timestamp(1505748708, 1)},\n",
       " 'updatedExisting': True}"
      ]
     },
     "metadata": {},
     "output_type": "display_data"
    },
    {
     "data": {
      "text/plain": [
       "{'electionId': ObjectId('7fffffff0000000000000002'),\n",
       " 'n': 1,\n",
       " 'nModified': 1,\n",
       " 'ok': 1.0,\n",
       " 'opTime': {'t': 2, 'ts': Timestamp(1505748710, 1)},\n",
       " 'updatedExisting': True}"
      ]
     },
     "metadata": {},
     "output_type": "display_data"
    },
    {
     "data": {
      "text/plain": [
       "{'electionId': ObjectId('7fffffff0000000000000002'),\n",
       " 'n': 1,\n",
       " 'nModified': 1,\n",
       " 'ok': 1.0,\n",
       " 'opTime': {'t': 2, 'ts': Timestamp(1505748712, 1)},\n",
       " 'updatedExisting': True}"
      ]
     },
     "metadata": {},
     "output_type": "display_data"
    },
    {
     "data": {
      "text/plain": [
       "{'electionId': ObjectId('7fffffff0000000000000002'),\n",
       " 'n': 1,\n",
       " 'nModified': 1,\n",
       " 'ok': 1.0,\n",
       " 'opTime': {'t': 2, 'ts': Timestamp(1505748716, 1)},\n",
       " 'updatedExisting': True}"
      ]
     },
     "metadata": {},
     "output_type": "display_data"
    },
    {
     "data": {
      "text/plain": [
       "{'electionId': ObjectId('7fffffff0000000000000002'),\n",
       " 'n': 1,\n",
       " 'nModified': 1,\n",
       " 'ok': 1.0,\n",
       " 'opTime': {'t': 2, 'ts': Timestamp(1505748718, 1)},\n",
       " 'updatedExisting': True}"
      ]
     },
     "metadata": {},
     "output_type": "display_data"
    },
    {
     "data": {
      "text/plain": [
       "{'electionId': ObjectId('7fffffff0000000000000002'),\n",
       " 'n': 1,\n",
       " 'nModified': 1,\n",
       " 'ok': 1.0,\n",
       " 'opTime': {'t': 2, 'ts': Timestamp(1505748720, 1)},\n",
       " 'updatedExisting': True}"
      ]
     },
     "metadata": {},
     "output_type": "display_data"
    },
    {
     "data": {
      "text/plain": [
       "{'electionId': ObjectId('7fffffff0000000000000002'),\n",
       " 'n': 1,\n",
       " 'nModified': 1,\n",
       " 'ok': 1.0,\n",
       " 'opTime': {'t': 2, 'ts': Timestamp(1505748722, 1)},\n",
       " 'updatedExisting': True}"
      ]
     },
     "metadata": {},
     "output_type": "display_data"
    },
    {
     "data": {
      "text/plain": [
       "{'electionId': ObjectId('7fffffff0000000000000002'),\n",
       " 'n': 1,\n",
       " 'nModified': 1,\n",
       " 'ok': 1.0,\n",
       " 'opTime': {'t': 2, 'ts': Timestamp(1505748728, 1)},\n",
       " 'updatedExisting': True}"
      ]
     },
     "metadata": {},
     "output_type": "display_data"
    },
    {
     "data": {
      "text/plain": [
       "{'electionId': ObjectId('7fffffff0000000000000002'),\n",
       " 'n': 1,\n",
       " 'nModified': 1,\n",
       " 'ok': 1.0,\n",
       " 'opTime': {'t': 2, 'ts': Timestamp(1505748729, 1)},\n",
       " 'updatedExisting': True}"
      ]
     },
     "metadata": {},
     "output_type": "display_data"
    },
    {
     "data": {
      "text/plain": [
       "{'electionId': ObjectId('7fffffff0000000000000002'),\n",
       " 'n': 1,\n",
       " 'nModified': 1,\n",
       " 'ok': 1.0,\n",
       " 'opTime': {'t': 2, 'ts': Timestamp(1505748730, 1)},\n",
       " 'updatedExisting': True}"
      ]
     },
     "metadata": {},
     "output_type": "display_data"
    },
    {
     "data": {
      "text/plain": [
       "{'electionId': ObjectId('7fffffff0000000000000002'),\n",
       " 'n': 1,\n",
       " 'nModified': 1,\n",
       " 'ok': 1.0,\n",
       " 'opTime': {'t': 2, 'ts': Timestamp(1505748732, 1)},\n",
       " 'updatedExisting': True}"
      ]
     },
     "metadata": {},
     "output_type": "display_data"
    },
    {
     "data": {
      "text/plain": [
       "{'electionId': ObjectId('7fffffff0000000000000002'),\n",
       " 'n': 1,\n",
       " 'nModified': 1,\n",
       " 'ok': 1.0,\n",
       " 'opTime': {'t': 2, 'ts': Timestamp(1505748779, 1)},\n",
       " 'updatedExisting': True}"
      ]
     },
     "metadata": {},
     "output_type": "display_data"
    },
    {
     "data": {
      "text/plain": [
       "{'electionId': ObjectId('7fffffff0000000000000002'),\n",
       " 'n': 1,\n",
       " 'nModified': 1,\n",
       " 'ok': 1.0,\n",
       " 'opTime': {'t': 2, 'ts': Timestamp(1505748780, 1)},\n",
       " 'updatedExisting': True}"
      ]
     },
     "metadata": {},
     "output_type": "display_data"
    },
    {
     "data": {
      "text/plain": [
       "{'electionId': ObjectId('7fffffff0000000000000002'),\n",
       " 'n': 1,\n",
       " 'nModified': 1,\n",
       " 'ok': 1.0,\n",
       " 'opTime': {'t': 2, 'ts': Timestamp(1505748781, 1)},\n",
       " 'updatedExisting': True}"
      ]
     },
     "metadata": {},
     "output_type": "display_data"
    },
    {
     "data": {
      "text/plain": [
       "{'electionId': ObjectId('7fffffff0000000000000002'),\n",
       " 'n': 1,\n",
       " 'nModified': 1,\n",
       " 'ok': 1.0,\n",
       " 'opTime': {'t': 2, 'ts': Timestamp(1505748782, 1)},\n",
       " 'updatedExisting': True}"
      ]
     },
     "metadata": {},
     "output_type": "display_data"
    },
    {
     "data": {
      "text/plain": [
       "{'electionId': ObjectId('7fffffff0000000000000002'),\n",
       " 'n': 1,\n",
       " 'nModified': 1,\n",
       " 'ok': 1.0,\n",
       " 'opTime': {'t': 2, 'ts': Timestamp(1505748783, 1)},\n",
       " 'updatedExisting': True}"
      ]
     },
     "metadata": {},
     "output_type": "display_data"
    },
    {
     "data": {
      "text/plain": [
       "{'electionId': ObjectId('7fffffff0000000000000002'),\n",
       " 'n': 1,\n",
       " 'nModified': 1,\n",
       " 'ok': 1.0,\n",
       " 'opTime': {'t': 2, 'ts': Timestamp(1505748783, 2)},\n",
       " 'updatedExisting': True}"
      ]
     },
     "metadata": {},
     "output_type": "display_data"
    },
    {
     "data": {
      "text/plain": [
       "{'electionId': ObjectId('7fffffff0000000000000002'),\n",
       " 'n': 1,\n",
       " 'nModified': 1,\n",
       " 'ok': 1.0,\n",
       " 'opTime': {'t': 2, 'ts': Timestamp(1505748784, 1)},\n",
       " 'updatedExisting': True}"
      ]
     },
     "metadata": {},
     "output_type": "display_data"
    },
    {
     "data": {
      "text/plain": [
       "{'electionId': ObjectId('7fffffff0000000000000002'),\n",
       " 'n': 1,\n",
       " 'nModified': 1,\n",
       " 'ok': 1.0,\n",
       " 'opTime': {'t': 2, 'ts': Timestamp(1505748785, 1)},\n",
       " 'updatedExisting': True}"
      ]
     },
     "metadata": {},
     "output_type": "display_data"
    },
    {
     "data": {
      "text/plain": [
       "{'electionId': ObjectId('7fffffff0000000000000002'),\n",
       " 'n': 1,\n",
       " 'nModified': 0,\n",
       " 'ok': 1.0,\n",
       " 'opTime': {'t': 2, 'ts': Timestamp(1505748785, 1)},\n",
       " 'updatedExisting': True}"
      ]
     },
     "metadata": {},
     "output_type": "display_data"
    },
    {
     "data": {
      "text/plain": [
       "{'electionId': ObjectId('7fffffff0000000000000002'),\n",
       " 'n': 1,\n",
       " 'nModified': 0,\n",
       " 'ok': 1.0,\n",
       " 'opTime': {'t': 2, 'ts': Timestamp(1505748785, 1)},\n",
       " 'updatedExisting': True}"
      ]
     },
     "metadata": {},
     "output_type": "display_data"
    },
    {
     "data": {
      "text/plain": [
       "{'electionId': ObjectId('7fffffff0000000000000002'),\n",
       " 'n': 1,\n",
       " 'nModified': 1,\n",
       " 'ok': 1.0,\n",
       " 'opTime': {'t': 2, 'ts': Timestamp(1505748788, 1)},\n",
       " 'updatedExisting': True}"
      ]
     },
     "metadata": {},
     "output_type": "display_data"
    },
    {
     "data": {
      "text/plain": [
       "{'electionId': ObjectId('7fffffff0000000000000002'),\n",
       " 'n': 1,\n",
       " 'nModified': 1,\n",
       " 'ok': 1.0,\n",
       " 'opTime': {'t': 2, 'ts': Timestamp(1505748789, 1)},\n",
       " 'updatedExisting': True}"
      ]
     },
     "metadata": {},
     "output_type": "display_data"
    },
    {
     "data": {
      "text/plain": [
       "{'electionId': ObjectId('7fffffff0000000000000002'),\n",
       " 'n': 1,\n",
       " 'nModified': 1,\n",
       " 'ok': 1.0,\n",
       " 'opTime': {'t': 2, 'ts': Timestamp(1505748792, 1)},\n",
       " 'updatedExisting': True}"
      ]
     },
     "metadata": {},
     "output_type": "display_data"
    },
    {
     "data": {
      "text/plain": [
       "{'electionId': ObjectId('7fffffff0000000000000002'),\n",
       " 'n': 1,\n",
       " 'nModified': 1,\n",
       " 'ok': 1.0,\n",
       " 'opTime': {'t': 2, 'ts': Timestamp(1505748793, 1)},\n",
       " 'updatedExisting': True}"
      ]
     },
     "metadata": {},
     "output_type": "display_data"
    },
    {
     "data": {
      "text/plain": [
       "{'electionId': ObjectId('7fffffff0000000000000002'),\n",
       " 'n': 1,\n",
       " 'nModified': 1,\n",
       " 'ok': 1.0,\n",
       " 'opTime': {'t': 2, 'ts': Timestamp(1505748794, 1)},\n",
       " 'updatedExisting': True}"
      ]
     },
     "metadata": {},
     "output_type": "display_data"
    },
    {
     "data": {
      "text/plain": [
       "{'electionId': ObjectId('7fffffff0000000000000002'),\n",
       " 'n': 1,\n",
       " 'nModified': 1,\n",
       " 'ok': 1.0,\n",
       " 'opTime': {'t': 2, 'ts': Timestamp(1505748795, 1)},\n",
       " 'updatedExisting': True}"
      ]
     },
     "metadata": {},
     "output_type": "display_data"
    },
    {
     "data": {
      "text/plain": [
       "{'electionId': ObjectId('7fffffff0000000000000002'),\n",
       " 'n': 1,\n",
       " 'nModified': 1,\n",
       " 'ok': 1.0,\n",
       " 'opTime': {'t': 2, 'ts': Timestamp(1505748795, 2)},\n",
       " 'updatedExisting': True}"
      ]
     },
     "metadata": {},
     "output_type": "display_data"
    },
    {
     "data": {
      "text/plain": [
       "{'electionId': ObjectId('7fffffff0000000000000002'),\n",
       " 'n': 1,\n",
       " 'nModified': 1,\n",
       " 'ok': 1.0,\n",
       " 'opTime': {'t': 2, 'ts': Timestamp(1505748796, 1)},\n",
       " 'updatedExisting': True}"
      ]
     },
     "metadata": {},
     "output_type": "display_data"
    },
    {
     "data": {
      "text/plain": [
       "{'electionId': ObjectId('7fffffff0000000000000002'),\n",
       " 'n': 1,\n",
       " 'nModified': 1,\n",
       " 'ok': 1.0,\n",
       " 'opTime': {'t': 2, 'ts': Timestamp(1505748797, 1)},\n",
       " 'updatedExisting': True}"
      ]
     },
     "metadata": {},
     "output_type": "display_data"
    },
    {
     "data": {
      "text/plain": [
       "{'electionId': ObjectId('7fffffff0000000000000002'),\n",
       " 'n': 1,\n",
       " 'nModified': 1,\n",
       " 'ok': 1.0,\n",
       " 'opTime': {'t': 2, 'ts': Timestamp(1505748799, 1)},\n",
       " 'updatedExisting': True}"
      ]
     },
     "metadata": {},
     "output_type": "display_data"
    },
    {
     "data": {
      "text/plain": [
       "{'electionId': ObjectId('7fffffff0000000000000002'),\n",
       " 'n': 1,\n",
       " 'nModified': 1,\n",
       " 'ok': 1.0,\n",
       " 'opTime': {'t': 2, 'ts': Timestamp(1505748799, 3)},\n",
       " 'updatedExisting': True}"
      ]
     },
     "metadata": {},
     "output_type": "display_data"
    },
    {
     "data": {
      "text/plain": [
       "{'electionId': ObjectId('7fffffff0000000000000002'),\n",
       " 'n': 1,\n",
       " 'nModified': 1,\n",
       " 'ok': 1.0,\n",
       " 'opTime': {'t': 2, 'ts': Timestamp(1505748800, 1)},\n",
       " 'updatedExisting': True}"
      ]
     },
     "metadata": {},
     "output_type": "display_data"
    },
    {
     "data": {
      "text/plain": [
       "{'electionId': ObjectId('7fffffff0000000000000002'),\n",
       " 'n': 1,\n",
       " 'nModified': 1,\n",
       " 'ok': 1.0,\n",
       " 'opTime': {'t': 2, 'ts': Timestamp(1505748801, 1)},\n",
       " 'updatedExisting': True}"
      ]
     },
     "metadata": {},
     "output_type": "display_data"
    },
    {
     "data": {
      "text/plain": [
       "{'electionId': ObjectId('7fffffff0000000000000002'),\n",
       " 'n': 1,\n",
       " 'nModified': 1,\n",
       " 'ok': 1.0,\n",
       " 'opTime': {'t': 2, 'ts': Timestamp(1505748802, 1)},\n",
       " 'updatedExisting': True}"
      ]
     },
     "metadata": {},
     "output_type": "display_data"
    },
    {
     "data": {
      "text/plain": [
       "{'electionId': ObjectId('7fffffff0000000000000002'),\n",
       " 'n': 1,\n",
       " 'nModified': 1,\n",
       " 'ok': 1.0,\n",
       " 'opTime': {'t': 2, 'ts': Timestamp(1505748802, 2)},\n",
       " 'updatedExisting': True}"
      ]
     },
     "metadata": {},
     "output_type": "display_data"
    },
    {
     "data": {
      "text/plain": [
       "{'electionId': ObjectId('7fffffff0000000000000002'),\n",
       " 'n': 1,\n",
       " 'nModified': 1,\n",
       " 'ok': 1.0,\n",
       " 'opTime': {'t': 2, 'ts': Timestamp(1505748803, 1)},\n",
       " 'updatedExisting': True}"
      ]
     },
     "metadata": {},
     "output_type": "display_data"
    },
    {
     "data": {
      "text/plain": [
       "{'electionId': ObjectId('7fffffff0000000000000002'),\n",
       " 'n': 1,\n",
       " 'nModified': 1,\n",
       " 'ok': 1.0,\n",
       " 'opTime': {'t': 2, 'ts': Timestamp(1505748805, 1)},\n",
       " 'updatedExisting': True}"
      ]
     },
     "metadata": {},
     "output_type": "display_data"
    },
    {
     "data": {
      "text/plain": [
       "{'electionId': ObjectId('7fffffff0000000000000002'),\n",
       " 'n': 1,\n",
       " 'nModified': 1,\n",
       " 'ok': 1.0,\n",
       " 'opTime': {'t': 2, 'ts': Timestamp(1505748805, 2)},\n",
       " 'updatedExisting': True}"
      ]
     },
     "metadata": {},
     "output_type": "display_data"
    },
    {
     "data": {
      "text/plain": [
       "{'electionId': ObjectId('7fffffff0000000000000002'),\n",
       " 'n': 1,\n",
       " 'nModified': 1,\n",
       " 'ok': 1.0,\n",
       " 'opTime': {'t': 2, 'ts': Timestamp(1505748806, 1)},\n",
       " 'updatedExisting': True}"
      ]
     },
     "metadata": {},
     "output_type": "display_data"
    },
    {
     "data": {
      "text/plain": [
       "{'electionId': ObjectId('7fffffff0000000000000002'),\n",
       " 'n': 1,\n",
       " 'nModified': 1,\n",
       " 'ok': 1.0,\n",
       " 'opTime': {'t': 2, 'ts': Timestamp(1505748807, 1)},\n",
       " 'updatedExisting': True}"
      ]
     },
     "metadata": {},
     "output_type": "display_data"
    },
    {
     "data": {
      "text/plain": [
       "{'electionId': ObjectId('7fffffff0000000000000002'),\n",
       " 'n': 1,\n",
       " 'nModified': 1,\n",
       " 'ok': 1.0,\n",
       " 'opTime': {'t': 2, 'ts': Timestamp(1505748807, 2)},\n",
       " 'updatedExisting': True}"
      ]
     },
     "metadata": {},
     "output_type": "display_data"
    },
    {
     "data": {
      "text/plain": [
       "{'electionId': ObjectId('7fffffff0000000000000002'),\n",
       " 'n': 1,\n",
       " 'nModified': 1,\n",
       " 'ok': 1.0,\n",
       " 'opTime': {'t': 2, 'ts': Timestamp(1505748808, 1)},\n",
       " 'updatedExisting': True}"
      ]
     },
     "metadata": {},
     "output_type": "display_data"
    },
    {
     "data": {
      "text/plain": [
       "{'electionId': ObjectId('7fffffff0000000000000002'),\n",
       " 'n': 1,\n",
       " 'nModified': 1,\n",
       " 'ok': 1.0,\n",
       " 'opTime': {'t': 2, 'ts': Timestamp(1505748809, 1)},\n",
       " 'updatedExisting': True}"
      ]
     },
     "metadata": {},
     "output_type": "display_data"
    },
    {
     "data": {
      "text/plain": [
       "{'electionId': ObjectId('7fffffff0000000000000002'),\n",
       " 'n': 1,\n",
       " 'nModified': 1,\n",
       " 'ok': 1.0,\n",
       " 'opTime': {'t': 2, 'ts': Timestamp(1505748810, 1)},\n",
       " 'updatedExisting': True}"
      ]
     },
     "metadata": {},
     "output_type": "display_data"
    },
    {
     "data": {
      "text/plain": [
       "{'electionId': ObjectId('7fffffff0000000000000002'),\n",
       " 'n': 1,\n",
       " 'nModified': 1,\n",
       " 'ok': 1.0,\n",
       " 'opTime': {'t': 2, 'ts': Timestamp(1505748810, 2)},\n",
       " 'updatedExisting': True}"
      ]
     },
     "metadata": {},
     "output_type": "display_data"
    },
    {
     "data": {
      "text/plain": [
       "{'electionId': ObjectId('7fffffff0000000000000002'),\n",
       " 'n': 1,\n",
       " 'nModified': 1,\n",
       " 'ok': 1.0,\n",
       " 'opTime': {'t': 2, 'ts': Timestamp(1505748811, 1)},\n",
       " 'updatedExisting': True}"
      ]
     },
     "metadata": {},
     "output_type": "display_data"
    },
    {
     "data": {
      "text/plain": [
       "{'electionId': ObjectId('7fffffff0000000000000002'),\n",
       " 'n': 1,\n",
       " 'nModified': 1,\n",
       " 'ok': 1.0,\n",
       " 'opTime': {'t': 2, 'ts': Timestamp(1505748812, 1)},\n",
       " 'updatedExisting': True}"
      ]
     },
     "metadata": {},
     "output_type": "display_data"
    },
    {
     "data": {
      "text/plain": [
       "{'electionId': ObjectId('7fffffff0000000000000002'),\n",
       " 'n': 1,\n",
       " 'nModified': 1,\n",
       " 'ok': 1.0,\n",
       " 'opTime': {'t': 2, 'ts': Timestamp(1505748813, 2)},\n",
       " 'updatedExisting': True}"
      ]
     },
     "metadata": {},
     "output_type": "display_data"
    },
    {
     "data": {
      "text/plain": [
       "{'electionId': ObjectId('7fffffff0000000000000002'),\n",
       " 'n': 1,\n",
       " 'nModified': 1,\n",
       " 'ok': 1.0,\n",
       " 'opTime': {'t': 2, 'ts': Timestamp(1505748814, 2)},\n",
       " 'updatedExisting': True}"
      ]
     },
     "metadata": {},
     "output_type": "display_data"
    },
    {
     "data": {
      "text/plain": [
       "{'electionId': ObjectId('7fffffff0000000000000002'),\n",
       " 'n': 1,\n",
       " 'nModified': 1,\n",
       " 'ok': 1.0,\n",
       " 'opTime': {'t': 2, 'ts': Timestamp(1505748815, 1)},\n",
       " 'updatedExisting': True}"
      ]
     },
     "metadata": {},
     "output_type": "display_data"
    },
    {
     "data": {
      "text/plain": [
       "{'electionId': ObjectId('7fffffff0000000000000002'),\n",
       " 'n': 1,\n",
       " 'nModified': 1,\n",
       " 'ok': 1.0,\n",
       " 'opTime': {'t': 2, 'ts': Timestamp(1505748816, 1)},\n",
       " 'updatedExisting': True}"
      ]
     },
     "metadata": {},
     "output_type": "display_data"
    },
    {
     "data": {
      "text/plain": [
       "{'electionId': ObjectId('7fffffff0000000000000002'),\n",
       " 'n': 1,\n",
       " 'nModified': 1,\n",
       " 'ok': 1.0,\n",
       " 'opTime': {'t': 2, 'ts': Timestamp(1505748817, 1)},\n",
       " 'updatedExisting': True}"
      ]
     },
     "metadata": {},
     "output_type": "display_data"
    },
    {
     "data": {
      "text/plain": [
       "{'electionId': ObjectId('7fffffff0000000000000002'),\n",
       " 'n': 1,\n",
       " 'nModified': 1,\n",
       " 'ok': 1.0,\n",
       " 'opTime': {'t': 2, 'ts': Timestamp(1505748817, 2)},\n",
       " 'updatedExisting': True}"
      ]
     },
     "metadata": {},
     "output_type": "display_data"
    },
    {
     "data": {
      "text/plain": [
       "{'electionId': ObjectId('7fffffff0000000000000002'),\n",
       " 'n': 1,\n",
       " 'nModified': 1,\n",
       " 'ok': 1.0,\n",
       " 'opTime': {'t': 2, 'ts': Timestamp(1505748819, 1)},\n",
       " 'updatedExisting': True}"
      ]
     },
     "metadata": {},
     "output_type": "display_data"
    },
    {
     "data": {
      "text/plain": [
       "{'electionId': ObjectId('7fffffff0000000000000002'),\n",
       " 'n': 1,\n",
       " 'nModified': 1,\n",
       " 'ok': 1.0,\n",
       " 'opTime': {'t': 2, 'ts': Timestamp(1505748819, 2)},\n",
       " 'updatedExisting': True}"
      ]
     },
     "metadata": {},
     "output_type": "display_data"
    },
    {
     "data": {
      "text/plain": [
       "{'electionId': ObjectId('7fffffff0000000000000002'),\n",
       " 'n': 1,\n",
       " 'nModified': 1,\n",
       " 'ok': 1.0,\n",
       " 'opTime': {'t': 2, 'ts': Timestamp(1505748820, 1)},\n",
       " 'updatedExisting': True}"
      ]
     },
     "metadata": {},
     "output_type": "display_data"
    },
    {
     "data": {
      "text/plain": [
       "{'electionId': ObjectId('7fffffff0000000000000002'),\n",
       " 'n': 1,\n",
       " 'nModified': 1,\n",
       " 'ok': 1.0,\n",
       " 'opTime': {'t': 2, 'ts': Timestamp(1505748821, 1)},\n",
       " 'updatedExisting': True}"
      ]
     },
     "metadata": {},
     "output_type": "display_data"
    },
    {
     "data": {
      "text/plain": [
       "{'electionId': ObjectId('7fffffff0000000000000002'),\n",
       " 'n': 1,\n",
       " 'nModified': 1,\n",
       " 'ok': 1.0,\n",
       " 'opTime': {'t': 2, 'ts': Timestamp(1505748822, 1)},\n",
       " 'updatedExisting': True}"
      ]
     },
     "metadata": {},
     "output_type": "display_data"
    },
    {
     "data": {
      "text/plain": [
       "{'electionId': ObjectId('7fffffff0000000000000002'),\n",
       " 'n': 1,\n",
       " 'nModified': 1,\n",
       " 'ok': 1.0,\n",
       " 'opTime': {'t': 2, 'ts': Timestamp(1505748823, 1)},\n",
       " 'updatedExisting': True}"
      ]
     },
     "metadata": {},
     "output_type": "display_data"
    },
    {
     "data": {
      "text/plain": [
       "{'electionId': ObjectId('7fffffff0000000000000002'),\n",
       " 'n': 1,\n",
       " 'nModified': 1,\n",
       " 'ok': 1.0,\n",
       " 'opTime': {'t': 2, 'ts': Timestamp(1505748824, 1)},\n",
       " 'updatedExisting': True}"
      ]
     },
     "metadata": {},
     "output_type": "display_data"
    },
    {
     "data": {
      "text/plain": [
       "{'electionId': ObjectId('7fffffff0000000000000002'),\n",
       " 'n': 1,\n",
       " 'nModified': 1,\n",
       " 'ok': 1.0,\n",
       " 'opTime': {'t': 2, 'ts': Timestamp(1505748826, 1)},\n",
       " 'updatedExisting': True}"
      ]
     },
     "metadata": {},
     "output_type": "display_data"
    },
    {
     "data": {
      "text/plain": [
       "{'electionId': ObjectId('7fffffff0000000000000002'),\n",
       " 'n': 1,\n",
       " 'nModified': 1,\n",
       " 'ok': 1.0,\n",
       " 'opTime': {'t': 2, 'ts': Timestamp(1505748827, 1)},\n",
       " 'updatedExisting': True}"
      ]
     },
     "metadata": {},
     "output_type": "display_data"
    },
    {
     "data": {
      "text/plain": [
       "{'electionId': ObjectId('7fffffff0000000000000002'),\n",
       " 'n': 1,\n",
       " 'nModified': 1,\n",
       " 'ok': 1.0,\n",
       " 'opTime': {'t': 2, 'ts': Timestamp(1505748828, 1)},\n",
       " 'updatedExisting': True}"
      ]
     },
     "metadata": {},
     "output_type": "display_data"
    },
    {
     "data": {
      "text/plain": [
       "{'electionId': ObjectId('7fffffff0000000000000002'),\n",
       " 'n': 1,\n",
       " 'nModified': 1,\n",
       " 'ok': 1.0,\n",
       " 'opTime': {'t': 2, 'ts': Timestamp(1505748828, 2)},\n",
       " 'updatedExisting': True}"
      ]
     },
     "metadata": {},
     "output_type": "display_data"
    },
    {
     "data": {
      "text/plain": [
       "{'electionId': ObjectId('7fffffff0000000000000002'),\n",
       " 'n': 1,\n",
       " 'nModified': 1,\n",
       " 'ok': 1.0,\n",
       " 'opTime': {'t': 2, 'ts': Timestamp(1505748830, 1)},\n",
       " 'updatedExisting': True}"
      ]
     },
     "metadata": {},
     "output_type": "display_data"
    },
    {
     "data": {
      "text/plain": [
       "{'electionId': ObjectId('7fffffff0000000000000002'),\n",
       " 'n': 1,\n",
       " 'nModified': 1,\n",
       " 'ok': 1.0,\n",
       " 'opTime': {'t': 2, 'ts': Timestamp(1505748831, 1)},\n",
       " 'updatedExisting': True}"
      ]
     },
     "metadata": {},
     "output_type": "display_data"
    },
    {
     "data": {
      "text/plain": [
       "{'electionId': ObjectId('7fffffff0000000000000002'),\n",
       " 'n': 1,\n",
       " 'nModified': 1,\n",
       " 'ok': 1.0,\n",
       " 'opTime': {'t': 2, 'ts': Timestamp(1505748832, 1)},\n",
       " 'updatedExisting': True}"
      ]
     },
     "metadata": {},
     "output_type": "display_data"
    },
    {
     "data": {
      "text/plain": [
       "{'electionId': ObjectId('7fffffff0000000000000002'),\n",
       " 'n': 1,\n",
       " 'nModified': 1,\n",
       " 'ok': 1.0,\n",
       " 'opTime': {'t': 2, 'ts': Timestamp(1505748834, 1)},\n",
       " 'updatedExisting': True}"
      ]
     },
     "metadata": {},
     "output_type": "display_data"
    },
    {
     "data": {
      "text/plain": [
       "{'electionId': ObjectId('7fffffff0000000000000002'),\n",
       " 'n': 1,\n",
       " 'nModified': 1,\n",
       " 'ok': 1.0,\n",
       " 'opTime': {'t': 2, 'ts': Timestamp(1505748835, 1)},\n",
       " 'updatedExisting': True}"
      ]
     },
     "metadata": {},
     "output_type": "display_data"
    },
    {
     "data": {
      "text/plain": [
       "{'electionId': ObjectId('7fffffff0000000000000002'),\n",
       " 'n': 1,\n",
       " 'nModified': 1,\n",
       " 'ok': 1.0,\n",
       " 'opTime': {'t': 2, 'ts': Timestamp(1505748836, 1)},\n",
       " 'updatedExisting': True}"
      ]
     },
     "metadata": {},
     "output_type": "display_data"
    },
    {
     "data": {
      "text/plain": [
       "{'electionId': ObjectId('7fffffff0000000000000002'),\n",
       " 'n': 1,\n",
       " 'nModified': 1,\n",
       " 'ok': 1.0,\n",
       " 'opTime': {'t': 2, 'ts': Timestamp(1505748836, 2)},\n",
       " 'updatedExisting': True}"
      ]
     },
     "metadata": {},
     "output_type": "display_data"
    },
    {
     "data": {
      "text/plain": [
       "{'electionId': ObjectId('7fffffff0000000000000002'),\n",
       " 'n': 1,\n",
       " 'nModified': 1,\n",
       " 'ok': 1.0,\n",
       " 'opTime': {'t': 2, 'ts': Timestamp(1505748837, 1)},\n",
       " 'updatedExisting': True}"
      ]
     },
     "metadata": {},
     "output_type": "display_data"
    },
    {
     "data": {
      "text/plain": [
       "{'electionId': ObjectId('7fffffff0000000000000002'),\n",
       " 'n': 1,\n",
       " 'nModified': 1,\n",
       " 'ok': 1.0,\n",
       " 'opTime': {'t': 2, 'ts': Timestamp(1505748838, 1)},\n",
       " 'updatedExisting': True}"
      ]
     },
     "metadata": {},
     "output_type": "display_data"
    },
    {
     "data": {
      "text/plain": [
       "{'electionId': ObjectId('7fffffff0000000000000002'),\n",
       " 'n': 1,\n",
       " 'nModified': 1,\n",
       " 'ok': 1.0,\n",
       " 'opTime': {'t': 2, 'ts': Timestamp(1505748839, 1)},\n",
       " 'updatedExisting': True}"
      ]
     },
     "metadata": {},
     "output_type": "display_data"
    },
    {
     "data": {
      "text/plain": [
       "{'electionId': ObjectId('7fffffff0000000000000002'),\n",
       " 'n': 1,\n",
       " 'nModified': 1,\n",
       " 'ok': 1.0,\n",
       " 'opTime': {'t': 2, 'ts': Timestamp(1505748840, 1)},\n",
       " 'updatedExisting': True}"
      ]
     },
     "metadata": {},
     "output_type": "display_data"
    },
    {
     "data": {
      "text/plain": [
       "{'electionId': ObjectId('7fffffff0000000000000002'),\n",
       " 'n': 1,\n",
       " 'nModified': 1,\n",
       " 'ok': 1.0,\n",
       " 'opTime': {'t': 2, 'ts': Timestamp(1505748840, 2)},\n",
       " 'updatedExisting': True}"
      ]
     },
     "metadata": {},
     "output_type": "display_data"
    },
    {
     "data": {
      "text/plain": [
       "{'electionId': ObjectId('7fffffff0000000000000002'),\n",
       " 'n': 1,\n",
       " 'nModified': 1,\n",
       " 'ok': 1.0,\n",
       " 'opTime': {'t': 2, 'ts': Timestamp(1505748841, 1)},\n",
       " 'updatedExisting': True}"
      ]
     },
     "metadata": {},
     "output_type": "display_data"
    },
    {
     "data": {
      "text/plain": [
       "{'electionId': ObjectId('7fffffff0000000000000002'),\n",
       " 'n': 1,\n",
       " 'nModified': 1,\n",
       " 'ok': 1.0,\n",
       " 'opTime': {'t': 2, 'ts': Timestamp(1505748841, 2)},\n",
       " 'updatedExisting': True}"
      ]
     },
     "metadata": {},
     "output_type": "display_data"
    },
    {
     "data": {
      "text/plain": [
       "{'electionId': ObjectId('7fffffff0000000000000002'),\n",
       " 'n': 1,\n",
       " 'nModified': 1,\n",
       " 'ok': 1.0,\n",
       " 'opTime': {'t': 2, 'ts': Timestamp(1505748842, 1)},\n",
       " 'updatedExisting': True}"
      ]
     },
     "metadata": {},
     "output_type": "display_data"
    },
    {
     "data": {
      "text/plain": [
       "{'electionId': ObjectId('7fffffff0000000000000002'),\n",
       " 'n': 1,\n",
       " 'nModified': 1,\n",
       " 'ok': 1.0,\n",
       " 'opTime': {'t': 2, 'ts': Timestamp(1505748843, 1)},\n",
       " 'updatedExisting': True}"
      ]
     },
     "metadata": {},
     "output_type": "display_data"
    },
    {
     "data": {
      "text/plain": [
       "{'electionId': ObjectId('7fffffff0000000000000002'),\n",
       " 'n': 1,\n",
       " 'nModified': 1,\n",
       " 'ok': 1.0,\n",
       " 'opTime': {'t': 2, 'ts': Timestamp(1505748844, 1)},\n",
       " 'updatedExisting': True}"
      ]
     },
     "metadata": {},
     "output_type": "display_data"
    },
    {
     "data": {
      "text/plain": [
       "{'electionId': ObjectId('7fffffff0000000000000002'),\n",
       " 'n': 1,\n",
       " 'nModified': 1,\n",
       " 'ok': 1.0,\n",
       " 'opTime': {'t': 2, 'ts': Timestamp(1505748845, 1)},\n",
       " 'updatedExisting': True}"
      ]
     },
     "metadata": {},
     "output_type": "display_data"
    },
    {
     "data": {
      "text/plain": [
       "{'electionId': ObjectId('7fffffff0000000000000002'),\n",
       " 'n': 1,\n",
       " 'nModified': 1,\n",
       " 'ok': 1.0,\n",
       " 'opTime': {'t': 2, 'ts': Timestamp(1505748845, 2)},\n",
       " 'updatedExisting': True}"
      ]
     },
     "metadata": {},
     "output_type": "display_data"
    },
    {
     "data": {
      "text/plain": [
       "{'electionId': ObjectId('7fffffff0000000000000002'),\n",
       " 'n': 1,\n",
       " 'nModified': 1,\n",
       " 'ok': 1.0,\n",
       " 'opTime': {'t': 2, 'ts': Timestamp(1505748846, 1)},\n",
       " 'updatedExisting': True}"
      ]
     },
     "metadata": {},
     "output_type": "display_data"
    },
    {
     "data": {
      "text/plain": [
       "{'electionId': ObjectId('7fffffff0000000000000002'),\n",
       " 'n': 1,\n",
       " 'nModified': 1,\n",
       " 'ok': 1.0,\n",
       " 'opTime': {'t': 2, 'ts': Timestamp(1505748847, 1)},\n",
       " 'updatedExisting': True}"
      ]
     },
     "metadata": {},
     "output_type": "display_data"
    },
    {
     "data": {
      "text/plain": [
       "{'electionId': ObjectId('7fffffff0000000000000002'),\n",
       " 'n': 1,\n",
       " 'nModified': 1,\n",
       " 'ok': 1.0,\n",
       " 'opTime': {'t': 2, 'ts': Timestamp(1505748848, 1)},\n",
       " 'updatedExisting': True}"
      ]
     },
     "metadata": {},
     "output_type": "display_data"
    },
    {
     "data": {
      "text/plain": [
       "{'electionId': ObjectId('7fffffff0000000000000002'),\n",
       " 'n': 1,\n",
       " 'nModified': 1,\n",
       " 'ok': 1.0,\n",
       " 'opTime': {'t': 2, 'ts': Timestamp(1505748849, 1)},\n",
       " 'updatedExisting': True}"
      ]
     },
     "metadata": {},
     "output_type": "display_data"
    },
    {
     "data": {
      "text/plain": [
       "{'electionId': ObjectId('7fffffff0000000000000002'),\n",
       " 'n': 1,\n",
       " 'nModified': 1,\n",
       " 'ok': 1.0,\n",
       " 'opTime': {'t': 2, 'ts': Timestamp(1505748850, 1)},\n",
       " 'updatedExisting': True}"
      ]
     },
     "metadata": {},
     "output_type": "display_data"
    },
    {
     "data": {
      "text/plain": [
       "{'electionId': ObjectId('7fffffff0000000000000002'),\n",
       " 'n': 1,\n",
       " 'nModified': 1,\n",
       " 'ok': 1.0,\n",
       " 'opTime': {'t': 2, 'ts': Timestamp(1505748851, 1)},\n",
       " 'updatedExisting': True}"
      ]
     },
     "metadata": {},
     "output_type": "display_data"
    },
    {
     "data": {
      "text/plain": [
       "{'electionId': ObjectId('7fffffff0000000000000002'),\n",
       " 'n': 1,\n",
       " 'nModified': 1,\n",
       " 'ok': 1.0,\n",
       " 'opTime': {'t': 2, 'ts': Timestamp(1505748852, 1)},\n",
       " 'updatedExisting': True}"
      ]
     },
     "metadata": {},
     "output_type": "display_data"
    },
    {
     "data": {
      "text/plain": [
       "{'electionId': ObjectId('7fffffff0000000000000002'),\n",
       " 'n': 1,\n",
       " 'nModified': 1,\n",
       " 'ok': 1.0,\n",
       " 'opTime': {'t': 2, 'ts': Timestamp(1505748853, 1)},\n",
       " 'updatedExisting': True}"
      ]
     },
     "metadata": {},
     "output_type": "display_data"
    },
    {
     "data": {
      "text/plain": [
       "{'electionId': ObjectId('7fffffff0000000000000002'),\n",
       " 'n': 1,\n",
       " 'nModified': 1,\n",
       " 'ok': 1.0,\n",
       " 'opTime': {'t': 2, 'ts': Timestamp(1505748853, 2)},\n",
       " 'updatedExisting': True}"
      ]
     },
     "metadata": {},
     "output_type": "display_data"
    },
    {
     "data": {
      "text/plain": [
       "{'electionId': ObjectId('7fffffff0000000000000002'),\n",
       " 'n': 1,\n",
       " 'nModified': 1,\n",
       " 'ok': 1.0,\n",
       " 'opTime': {'t': 2, 'ts': Timestamp(1505748854, 1)},\n",
       " 'updatedExisting': True}"
      ]
     },
     "metadata": {},
     "output_type": "display_data"
    },
    {
     "data": {
      "text/plain": [
       "{'electionId': ObjectId('7fffffff0000000000000002'),\n",
       " 'n': 1,\n",
       " 'nModified': 1,\n",
       " 'ok': 1.0,\n",
       " 'opTime': {'t': 2, 'ts': Timestamp(1505748855, 1)},\n",
       " 'updatedExisting': True}"
      ]
     },
     "metadata": {},
     "output_type": "display_data"
    },
    {
     "data": {
      "text/plain": [
       "{'electionId': ObjectId('7fffffff0000000000000002'),\n",
       " 'n': 1,\n",
       " 'nModified': 1,\n",
       " 'ok': 1.0,\n",
       " 'opTime': {'t': 2, 'ts': Timestamp(1505748855, 2)},\n",
       " 'updatedExisting': True}"
      ]
     },
     "metadata": {},
     "output_type": "display_data"
    },
    {
     "data": {
      "text/plain": [
       "{'electionId': ObjectId('7fffffff0000000000000002'),\n",
       " 'n': 1,\n",
       " 'nModified': 1,\n",
       " 'ok': 1.0,\n",
       " 'opTime': {'t': 2, 'ts': Timestamp(1505748856, 1)},\n",
       " 'updatedExisting': True}"
      ]
     },
     "metadata": {},
     "output_type": "display_data"
    },
    {
     "data": {
      "text/plain": [
       "{'electionId': ObjectId('7fffffff0000000000000002'),\n",
       " 'n': 1,\n",
       " 'nModified': 1,\n",
       " 'ok': 1.0,\n",
       " 'opTime': {'t': 2, 'ts': Timestamp(1505748856, 2)},\n",
       " 'updatedExisting': True}"
      ]
     },
     "metadata": {},
     "output_type": "display_data"
    },
    {
     "data": {
      "text/plain": [
       "{'electionId': ObjectId('7fffffff0000000000000002'),\n",
       " 'n': 1,\n",
       " 'nModified': 1,\n",
       " 'ok': 1.0,\n",
       " 'opTime': {'t': 2, 'ts': Timestamp(1505748857, 1)},\n",
       " 'updatedExisting': True}"
      ]
     },
     "metadata": {},
     "output_type": "display_data"
    },
    {
     "data": {
      "text/plain": [
       "{'electionId': ObjectId('7fffffff0000000000000002'),\n",
       " 'n': 1,\n",
       " 'nModified': 1,\n",
       " 'ok': 1.0,\n",
       " 'opTime': {'t': 2, 'ts': Timestamp(1505748857, 2)},\n",
       " 'updatedExisting': True}"
      ]
     },
     "metadata": {},
     "output_type": "display_data"
    },
    {
     "data": {
      "text/plain": [
       "{'electionId': ObjectId('7fffffff0000000000000002'),\n",
       " 'n': 1,\n",
       " 'nModified': 1,\n",
       " 'ok': 1.0,\n",
       " 'opTime': {'t': 2, 'ts': Timestamp(1505748858, 1)},\n",
       " 'updatedExisting': True}"
      ]
     },
     "metadata": {},
     "output_type": "display_data"
    },
    {
     "data": {
      "text/plain": [
       "{'electionId': ObjectId('7fffffff0000000000000002'),\n",
       " 'n': 1,\n",
       " 'nModified': 1,\n",
       " 'ok': 1.0,\n",
       " 'opTime': {'t': 2, 'ts': Timestamp(1505748859, 1)},\n",
       " 'updatedExisting': True}"
      ]
     },
     "metadata": {},
     "output_type": "display_data"
    },
    {
     "data": {
      "text/plain": [
       "{'electionId': ObjectId('7fffffff0000000000000002'),\n",
       " 'n': 1,\n",
       " 'nModified': 1,\n",
       " 'ok': 1.0,\n",
       " 'opTime': {'t': 2, 'ts': Timestamp(1505748859, 2)},\n",
       " 'updatedExisting': True}"
      ]
     },
     "metadata": {},
     "output_type": "display_data"
    },
    {
     "data": {
      "text/plain": [
       "{'electionId': ObjectId('7fffffff0000000000000002'),\n",
       " 'n': 1,\n",
       " 'nModified': 1,\n",
       " 'ok': 1.0,\n",
       " 'opTime': {'t': 2, 'ts': Timestamp(1505748860, 1)},\n",
       " 'updatedExisting': True}"
      ]
     },
     "metadata": {},
     "output_type": "display_data"
    },
    {
     "data": {
      "text/plain": [
       "{'electionId': ObjectId('7fffffff0000000000000002'),\n",
       " 'n': 1,\n",
       " 'nModified': 1,\n",
       " 'ok': 1.0,\n",
       " 'opTime': {'t': 2, 'ts': Timestamp(1505748860, 2)},\n",
       " 'updatedExisting': True}"
      ]
     },
     "metadata": {},
     "output_type": "display_data"
    },
    {
     "data": {
      "text/plain": [
       "{'electionId': ObjectId('7fffffff0000000000000002'),\n",
       " 'n': 1,\n",
       " 'nModified': 1,\n",
       " 'ok': 1.0,\n",
       " 'opTime': {'t': 2, 'ts': Timestamp(1505748861, 1)},\n",
       " 'updatedExisting': True}"
      ]
     },
     "metadata": {},
     "output_type": "display_data"
    },
    {
     "data": {
      "text/plain": [
       "{'electionId': ObjectId('7fffffff0000000000000002'),\n",
       " 'n': 1,\n",
       " 'nModified': 1,\n",
       " 'ok': 1.0,\n",
       " 'opTime': {'t': 2, 'ts': Timestamp(1505748861, 2)},\n",
       " 'updatedExisting': True}"
      ]
     },
     "metadata": {},
     "output_type": "display_data"
    },
    {
     "data": {
      "text/plain": [
       "{'electionId': ObjectId('7fffffff0000000000000002'),\n",
       " 'n': 1,\n",
       " 'nModified': 1,\n",
       " 'ok': 1.0,\n",
       " 'opTime': {'t': 2, 'ts': Timestamp(1505748862, 1)},\n",
       " 'updatedExisting': True}"
      ]
     },
     "metadata": {},
     "output_type": "display_data"
    },
    {
     "data": {
      "text/plain": [
       "{'electionId': ObjectId('7fffffff0000000000000002'),\n",
       " 'n': 1,\n",
       " 'nModified': 1,\n",
       " 'ok': 1.0,\n",
       " 'opTime': {'t': 2, 'ts': Timestamp(1505748863, 1)},\n",
       " 'updatedExisting': True}"
      ]
     },
     "metadata": {},
     "output_type": "display_data"
    },
    {
     "data": {
      "text/plain": [
       "{'electionId': ObjectId('7fffffff0000000000000002'),\n",
       " 'n': 1,\n",
       " 'nModified': 1,\n",
       " 'ok': 1.0,\n",
       " 'opTime': {'t': 2, 'ts': Timestamp(1505748863, 2)},\n",
       " 'updatedExisting': True}"
      ]
     },
     "metadata": {},
     "output_type": "display_data"
    },
    {
     "data": {
      "text/plain": [
       "{'electionId': ObjectId('7fffffff0000000000000002'),\n",
       " 'n': 1,\n",
       " 'nModified': 1,\n",
       " 'ok': 1.0,\n",
       " 'opTime': {'t': 2, 'ts': Timestamp(1505748864, 1)},\n",
       " 'updatedExisting': True}"
      ]
     },
     "metadata": {},
     "output_type": "display_data"
    },
    {
     "data": {
      "text/plain": [
       "{'electionId': ObjectId('7fffffff0000000000000002'),\n",
       " 'n': 1,\n",
       " 'nModified': 1,\n",
       " 'ok': 1.0,\n",
       " 'opTime': {'t': 2, 'ts': Timestamp(1505748864, 2)},\n",
       " 'updatedExisting': True}"
      ]
     },
     "metadata": {},
     "output_type": "display_data"
    },
    {
     "data": {
      "text/plain": [
       "{'electionId': ObjectId('7fffffff0000000000000002'),\n",
       " 'n': 1,\n",
       " 'nModified': 1,\n",
       " 'ok': 1.0,\n",
       " 'opTime': {'t': 2, 'ts': Timestamp(1505748865, 1)},\n",
       " 'updatedExisting': True}"
      ]
     },
     "metadata": {},
     "output_type": "display_data"
    },
    {
     "data": {
      "text/plain": [
       "{'electionId': ObjectId('7fffffff0000000000000002'),\n",
       " 'n': 1,\n",
       " 'nModified': 1,\n",
       " 'ok': 1.0,\n",
       " 'opTime': {'t': 2, 'ts': Timestamp(1505748866, 1)},\n",
       " 'updatedExisting': True}"
      ]
     },
     "metadata": {},
     "output_type": "display_data"
    },
    {
     "data": {
      "text/plain": [
       "{'electionId': ObjectId('7fffffff0000000000000002'),\n",
       " 'n': 1,\n",
       " 'nModified': 1,\n",
       " 'ok': 1.0,\n",
       " 'opTime': {'t': 2, 'ts': Timestamp(1505748867, 1)},\n",
       " 'updatedExisting': True}"
      ]
     },
     "metadata": {},
     "output_type": "display_data"
    },
    {
     "data": {
      "text/plain": [
       "{'electionId': ObjectId('7fffffff0000000000000002'),\n",
       " 'n': 1,\n",
       " 'nModified': 1,\n",
       " 'ok': 1.0,\n",
       " 'opTime': {'t': 2, 'ts': Timestamp(1505748868, 1)},\n",
       " 'updatedExisting': True}"
      ]
     },
     "metadata": {},
     "output_type": "display_data"
    },
    {
     "data": {
      "text/plain": [
       "{'electionId': ObjectId('7fffffff0000000000000002'),\n",
       " 'n': 1,\n",
       " 'nModified': 1,\n",
       " 'ok': 1.0,\n",
       " 'opTime': {'t': 2, 'ts': Timestamp(1505748869, 1)},\n",
       " 'updatedExisting': True}"
      ]
     },
     "metadata": {},
     "output_type": "display_data"
    },
    {
     "data": {
      "text/plain": [
       "{'electionId': ObjectId('7fffffff0000000000000002'),\n",
       " 'n': 1,\n",
       " 'nModified': 1,\n",
       " 'ok': 1.0,\n",
       " 'opTime': {'t': 2, 'ts': Timestamp(1505748871, 1)},\n",
       " 'updatedExisting': True}"
      ]
     },
     "metadata": {},
     "output_type": "display_data"
    },
    {
     "data": {
      "text/plain": [
       "{'electionId': ObjectId('7fffffff0000000000000002'),\n",
       " 'n': 1,\n",
       " 'nModified': 1,\n",
       " 'ok': 1.0,\n",
       " 'opTime': {'t': 2, 'ts': Timestamp(1505748872, 1)},\n",
       " 'updatedExisting': True}"
      ]
     },
     "metadata": {},
     "output_type": "display_data"
    },
    {
     "data": {
      "text/plain": [
       "{'electionId': ObjectId('7fffffff0000000000000002'),\n",
       " 'n': 1,\n",
       " 'nModified': 1,\n",
       " 'ok': 1.0,\n",
       " 'opTime': {'t': 2, 'ts': Timestamp(1505748874, 1)},\n",
       " 'updatedExisting': True}"
      ]
     },
     "metadata": {},
     "output_type": "display_data"
    },
    {
     "data": {
      "text/plain": [
       "{'electionId': ObjectId('7fffffff0000000000000002'),\n",
       " 'n': 1,\n",
       " 'nModified': 1,\n",
       " 'ok': 1.0,\n",
       " 'opTime': {'t': 2, 'ts': Timestamp(1505748875, 1)},\n",
       " 'updatedExisting': True}"
      ]
     },
     "metadata": {},
     "output_type": "display_data"
    },
    {
     "data": {
      "text/plain": [
       "{'electionId': ObjectId('7fffffff0000000000000002'),\n",
       " 'n': 1,\n",
       " 'nModified': 1,\n",
       " 'ok': 1.0,\n",
       " 'opTime': {'t': 2, 'ts': Timestamp(1505748877, 1)},\n",
       " 'updatedExisting': True}"
      ]
     },
     "metadata": {},
     "output_type": "display_data"
    },
    {
     "data": {
      "text/plain": [
       "{'electionId': ObjectId('7fffffff0000000000000002'),\n",
       " 'n': 1,\n",
       " 'nModified': 1,\n",
       " 'ok': 1.0,\n",
       " 'opTime': {'t': 2, 'ts': Timestamp(1505748878, 1)},\n",
       " 'updatedExisting': True}"
      ]
     },
     "metadata": {},
     "output_type": "display_data"
    },
    {
     "data": {
      "text/plain": [
       "{'electionId': ObjectId('7fffffff0000000000000002'),\n",
       " 'n': 1,\n",
       " 'nModified': 1,\n",
       " 'ok': 1.0,\n",
       " 'opTime': {'t': 2, 'ts': Timestamp(1505748880, 1)},\n",
       " 'updatedExisting': True}"
      ]
     },
     "metadata": {},
     "output_type": "display_data"
    },
    {
     "data": {
      "text/plain": [
       "{'electionId': ObjectId('7fffffff0000000000000002'),\n",
       " 'n': 1,\n",
       " 'nModified': 1,\n",
       " 'ok': 1.0,\n",
       " 'opTime': {'t': 2, 'ts': Timestamp(1505748881, 1)},\n",
       " 'updatedExisting': True}"
      ]
     },
     "metadata": {},
     "output_type": "display_data"
    },
    {
     "data": {
      "text/plain": [
       "{'electionId': ObjectId('7fffffff0000000000000002'),\n",
       " 'n': 1,\n",
       " 'nModified': 1,\n",
       " 'ok': 1.0,\n",
       " 'opTime': {'t': 2, 'ts': Timestamp(1505748882, 1)},\n",
       " 'updatedExisting': True}"
      ]
     },
     "metadata": {},
     "output_type": "display_data"
    },
    {
     "data": {
      "text/plain": [
       "{'electionId': ObjectId('7fffffff0000000000000002'),\n",
       " 'n': 1,\n",
       " 'nModified': 1,\n",
       " 'ok': 1.0,\n",
       " 'opTime': {'t': 2, 'ts': Timestamp(1505748883, 1)},\n",
       " 'updatedExisting': True}"
      ]
     },
     "metadata": {},
     "output_type": "display_data"
    },
    {
     "data": {
      "text/plain": [
       "{'electionId': ObjectId('7fffffff0000000000000002'),\n",
       " 'n': 1,\n",
       " 'nModified': 1,\n",
       " 'ok': 1.0,\n",
       " 'opTime': {'t': 2, 'ts': Timestamp(1505748884, 1)},\n",
       " 'updatedExisting': True}"
      ]
     },
     "metadata": {},
     "output_type": "display_data"
    },
    {
     "data": {
      "text/plain": [
       "{'electionId': ObjectId('7fffffff0000000000000002'),\n",
       " 'n': 1,\n",
       " 'nModified': 1,\n",
       " 'ok': 1.0,\n",
       " 'opTime': {'t': 2, 'ts': Timestamp(1505748886, 1)},\n",
       " 'updatedExisting': True}"
      ]
     },
     "metadata": {},
     "output_type": "display_data"
    },
    {
     "data": {
      "text/plain": [
       "{'electionId': ObjectId('7fffffff0000000000000002'),\n",
       " 'n': 1,\n",
       " 'nModified': 1,\n",
       " 'ok': 1.0,\n",
       " 'opTime': {'t': 2, 'ts': Timestamp(1505748887, 1)},\n",
       " 'updatedExisting': True}"
      ]
     },
     "metadata": {},
     "output_type": "display_data"
    },
    {
     "data": {
      "text/plain": [
       "{'electionId': ObjectId('7fffffff0000000000000002'),\n",
       " 'n': 1,\n",
       " 'nModified': 1,\n",
       " 'ok': 1.0,\n",
       " 'opTime': {'t': 2, 'ts': Timestamp(1505748888, 1)},\n",
       " 'updatedExisting': True}"
      ]
     },
     "metadata": {},
     "output_type": "display_data"
    },
    {
     "data": {
      "text/plain": [
       "{'electionId': ObjectId('7fffffff0000000000000002'),\n",
       " 'n': 1,\n",
       " 'nModified': 1,\n",
       " 'ok': 1.0,\n",
       " 'opTime': {'t': 2, 'ts': Timestamp(1505748889, 1)},\n",
       " 'updatedExisting': True}"
      ]
     },
     "metadata": {},
     "output_type": "display_data"
    },
    {
     "data": {
      "text/plain": [
       "{'electionId': ObjectId('7fffffff0000000000000002'),\n",
       " 'n': 1,\n",
       " 'nModified': 1,\n",
       " 'ok': 1.0,\n",
       " 'opTime': {'t': 2, 'ts': Timestamp(1505748890, 1)},\n",
       " 'updatedExisting': True}"
      ]
     },
     "metadata": {},
     "output_type": "display_data"
    },
    {
     "data": {
      "text/plain": [
       "{'electionId': ObjectId('7fffffff0000000000000002'),\n",
       " 'n': 1,\n",
       " 'nModified': 1,\n",
       " 'ok': 1.0,\n",
       " 'opTime': {'t': 2, 'ts': Timestamp(1505748890, 2)},\n",
       " 'updatedExisting': True}"
      ]
     },
     "metadata": {},
     "output_type": "display_data"
    },
    {
     "data": {
      "text/plain": [
       "{'electionId': ObjectId('7fffffff0000000000000002'),\n",
       " 'n': 1,\n",
       " 'nModified': 1,\n",
       " 'ok': 1.0,\n",
       " 'opTime': {'t': 2, 'ts': Timestamp(1505748891, 1)},\n",
       " 'updatedExisting': True}"
      ]
     },
     "metadata": {},
     "output_type": "display_data"
    },
    {
     "data": {
      "text/plain": [
       "{'electionId': ObjectId('7fffffff0000000000000002'),\n",
       " 'n': 1,\n",
       " 'nModified': 1,\n",
       " 'ok': 1.0,\n",
       " 'opTime': {'t': 2, 'ts': Timestamp(1505748892, 1)},\n",
       " 'updatedExisting': True}"
      ]
     },
     "metadata": {},
     "output_type": "display_data"
    },
    {
     "data": {
      "text/plain": [
       "{'electionId': ObjectId('7fffffff0000000000000002'),\n",
       " 'n': 1,\n",
       " 'nModified': 1,\n",
       " 'ok': 1.0,\n",
       " 'opTime': {'t': 2, 'ts': Timestamp(1505748892, 2)},\n",
       " 'updatedExisting': True}"
      ]
     },
     "metadata": {},
     "output_type": "display_data"
    },
    {
     "data": {
      "text/plain": [
       "{'electionId': ObjectId('7fffffff0000000000000002'),\n",
       " 'n': 1,\n",
       " 'nModified': 1,\n",
       " 'ok': 1.0,\n",
       " 'opTime': {'t': 2, 'ts': Timestamp(1505748893, 1)},\n",
       " 'updatedExisting': True}"
      ]
     },
     "metadata": {},
     "output_type": "display_data"
    },
    {
     "data": {
      "text/plain": [
       "{'electionId': ObjectId('7fffffff0000000000000002'),\n",
       " 'n': 1,\n",
       " 'nModified': 1,\n",
       " 'ok': 1.0,\n",
       " 'opTime': {'t': 2, 'ts': Timestamp(1505748893, 2)},\n",
       " 'updatedExisting': True}"
      ]
     },
     "metadata": {},
     "output_type": "display_data"
    },
    {
     "data": {
      "text/plain": [
       "{'electionId': ObjectId('7fffffff0000000000000002'),\n",
       " 'n': 1,\n",
       " 'nModified': 1,\n",
       " 'ok': 1.0,\n",
       " 'opTime': {'t': 2, 'ts': Timestamp(1505748894, 1)},\n",
       " 'updatedExisting': True}"
      ]
     },
     "metadata": {},
     "output_type": "display_data"
    },
    {
     "data": {
      "text/plain": [
       "{'electionId': ObjectId('7fffffff0000000000000002'),\n",
       " 'n': 1,\n",
       " 'nModified': 1,\n",
       " 'ok': 1.0,\n",
       " 'opTime': {'t': 2, 'ts': Timestamp(1505748894, 2)},\n",
       " 'updatedExisting': True}"
      ]
     },
     "metadata": {},
     "output_type": "display_data"
    },
    {
     "data": {
      "text/plain": [
       "{'electionId': ObjectId('7fffffff0000000000000002'),\n",
       " 'n': 1,\n",
       " 'nModified': 1,\n",
       " 'ok': 1.0,\n",
       " 'opTime': {'t': 2, 'ts': Timestamp(1505748895, 1)},\n",
       " 'updatedExisting': True}"
      ]
     },
     "metadata": {},
     "output_type": "display_data"
    },
    {
     "data": {
      "text/plain": [
       "{'electionId': ObjectId('7fffffff0000000000000002'),\n",
       " 'n': 1,\n",
       " 'nModified': 1,\n",
       " 'ok': 1.0,\n",
       " 'opTime': {'t': 2, 'ts': Timestamp(1505748895, 2)},\n",
       " 'updatedExisting': True}"
      ]
     },
     "metadata": {},
     "output_type": "display_data"
    },
    {
     "data": {
      "text/plain": [
       "{'electionId': ObjectId('7fffffff0000000000000002'),\n",
       " 'n': 1,\n",
       " 'nModified': 1,\n",
       " 'ok': 1.0,\n",
       " 'opTime': {'t': 2, 'ts': Timestamp(1505748895, 3)},\n",
       " 'updatedExisting': True}"
      ]
     },
     "metadata": {},
     "output_type": "display_data"
    },
    {
     "data": {
      "text/plain": [
       "{'electionId': ObjectId('7fffffff0000000000000002'),\n",
       " 'n': 1,\n",
       " 'nModified': 1,\n",
       " 'ok': 1.0,\n",
       " 'opTime': {'t': 2, 'ts': Timestamp(1505748896, 1)},\n",
       " 'updatedExisting': True}"
      ]
     },
     "metadata": {},
     "output_type": "display_data"
    },
    {
     "data": {
      "text/plain": [
       "{'electionId': ObjectId('7fffffff0000000000000002'),\n",
       " 'n': 1,\n",
       " 'nModified': 1,\n",
       " 'ok': 1.0,\n",
       " 'opTime': {'t': 2, 'ts': Timestamp(1505748896, 2)},\n",
       " 'updatedExisting': True}"
      ]
     },
     "metadata": {},
     "output_type": "display_data"
    },
    {
     "data": {
      "text/plain": [
       "{'electionId': ObjectId('7fffffff0000000000000002'),\n",
       " 'n': 1,\n",
       " 'nModified': 1,\n",
       " 'ok': 1.0,\n",
       " 'opTime': {'t': 2, 'ts': Timestamp(1505748896, 3)},\n",
       " 'updatedExisting': True}"
      ]
     },
     "metadata": {},
     "output_type": "display_data"
    },
    {
     "data": {
      "text/plain": [
       "{'electionId': ObjectId('7fffffff0000000000000002'),\n",
       " 'n': 1,\n",
       " 'nModified': 1,\n",
       " 'ok': 1.0,\n",
       " 'opTime': {'t': 2, 'ts': Timestamp(1505748897, 1)},\n",
       " 'updatedExisting': True}"
      ]
     },
     "metadata": {},
     "output_type": "display_data"
    },
    {
     "data": {
      "text/plain": [
       "{'electionId': ObjectId('7fffffff0000000000000002'),\n",
       " 'n': 1,\n",
       " 'nModified': 1,\n",
       " 'ok': 1.0,\n",
       " 'opTime': {'t': 2, 'ts': Timestamp(1505748897, 2)},\n",
       " 'updatedExisting': True}"
      ]
     },
     "metadata": {},
     "output_type": "display_data"
    },
    {
     "data": {
      "text/plain": [
       "{'electionId': ObjectId('7fffffff0000000000000002'),\n",
       " 'n': 1,\n",
       " 'nModified': 1,\n",
       " 'ok': 1.0,\n",
       " 'opTime': {'t': 2, 'ts': Timestamp(1505748898, 1)},\n",
       " 'updatedExisting': True}"
      ]
     },
     "metadata": {},
     "output_type": "display_data"
    },
    {
     "data": {
      "text/plain": [
       "{'electionId': ObjectId('7fffffff0000000000000002'),\n",
       " 'n': 1,\n",
       " 'nModified': 1,\n",
       " 'ok': 1.0,\n",
       " 'opTime': {'t': 2, 'ts': Timestamp(1505748898, 2)},\n",
       " 'updatedExisting': True}"
      ]
     },
     "metadata": {},
     "output_type": "display_data"
    },
    {
     "data": {
      "text/plain": [
       "{'electionId': ObjectId('7fffffff0000000000000002'),\n",
       " 'n': 1,\n",
       " 'nModified': 1,\n",
       " 'ok': 1.0,\n",
       " 'opTime': {'t': 2, 'ts': Timestamp(1505748899, 1)},\n",
       " 'updatedExisting': True}"
      ]
     },
     "metadata": {},
     "output_type": "display_data"
    },
    {
     "data": {
      "text/plain": [
       "{'electionId': ObjectId('7fffffff0000000000000002'),\n",
       " 'n': 1,\n",
       " 'nModified': 1,\n",
       " 'ok': 1.0,\n",
       " 'opTime': {'t': 2, 'ts': Timestamp(1505748899, 2)},\n",
       " 'updatedExisting': True}"
      ]
     },
     "metadata": {},
     "output_type": "display_data"
    },
    {
     "data": {
      "text/plain": [
       "{'electionId': ObjectId('7fffffff0000000000000002'),\n",
       " 'n': 1,\n",
       " 'nModified': 1,\n",
       " 'ok': 1.0,\n",
       " 'opTime': {'t': 2, 'ts': Timestamp(1505748900, 1)},\n",
       " 'updatedExisting': True}"
      ]
     },
     "metadata": {},
     "output_type": "display_data"
    },
    {
     "data": {
      "text/plain": [
       "{'electionId': ObjectId('7fffffff0000000000000002'),\n",
       " 'n': 1,\n",
       " 'nModified': 1,\n",
       " 'ok': 1.0,\n",
       " 'opTime': {'t': 2, 'ts': Timestamp(1505748900, 2)},\n",
       " 'updatedExisting': True}"
      ]
     },
     "metadata": {},
     "output_type": "display_data"
    },
    {
     "data": {
      "text/plain": [
       "{'electionId': ObjectId('7fffffff0000000000000002'),\n",
       " 'n': 1,\n",
       " 'nModified': 1,\n",
       " 'ok': 1.0,\n",
       " 'opTime': {'t': 2, 'ts': Timestamp(1505748901, 1)},\n",
       " 'updatedExisting': True}"
      ]
     },
     "metadata": {},
     "output_type": "display_data"
    },
    {
     "data": {
      "text/plain": [
       "{'electionId': ObjectId('7fffffff0000000000000002'),\n",
       " 'n': 1,\n",
       " 'nModified': 1,\n",
       " 'ok': 1.0,\n",
       " 'opTime': {'t': 2, 'ts': Timestamp(1505748901, 2)},\n",
       " 'updatedExisting': True}"
      ]
     },
     "metadata": {},
     "output_type": "display_data"
    },
    {
     "data": {
      "text/plain": [
       "{'electionId': ObjectId('7fffffff0000000000000002'),\n",
       " 'n': 1,\n",
       " 'nModified': 1,\n",
       " 'ok': 1.0,\n",
       " 'opTime': {'t': 2, 'ts': Timestamp(1505748902, 1)},\n",
       " 'updatedExisting': True}"
      ]
     },
     "metadata": {},
     "output_type": "display_data"
    },
    {
     "data": {
      "text/plain": [
       "{'electionId': ObjectId('7fffffff0000000000000002'),\n",
       " 'n': 1,\n",
       " 'nModified': 1,\n",
       " 'ok': 1.0,\n",
       " 'opTime': {'t': 2, 'ts': Timestamp(1505748903, 1)},\n",
       " 'updatedExisting': True}"
      ]
     },
     "metadata": {},
     "output_type": "display_data"
    },
    {
     "data": {
      "text/plain": [
       "{'electionId': ObjectId('7fffffff0000000000000002'),\n",
       " 'n': 1,\n",
       " 'nModified': 1,\n",
       " 'ok': 1.0,\n",
       " 'opTime': {'t': 2, 'ts': Timestamp(1505748903, 2)},\n",
       " 'updatedExisting': True}"
      ]
     },
     "metadata": {},
     "output_type": "display_data"
    },
    {
     "data": {
      "text/plain": [
       "{'electionId': ObjectId('7fffffff0000000000000002'),\n",
       " 'n': 1,\n",
       " 'nModified': 1,\n",
       " 'ok': 1.0,\n",
       " 'opTime': {'t': 2, 'ts': Timestamp(1505748905, 1)},\n",
       " 'updatedExisting': True}"
      ]
     },
     "metadata": {},
     "output_type": "display_data"
    },
    {
     "data": {
      "text/plain": [
       "{'electionId': ObjectId('7fffffff0000000000000002'),\n",
       " 'n': 1,\n",
       " 'nModified': 1,\n",
       " 'ok': 1.0,\n",
       " 'opTime': {'t': 2, 'ts': Timestamp(1505748906, 1)},\n",
       " 'updatedExisting': True}"
      ]
     },
     "metadata": {},
     "output_type": "display_data"
    },
    {
     "data": {
      "text/plain": [
       "{'electionId': ObjectId('7fffffff0000000000000002'),\n",
       " 'n': 1,\n",
       " 'nModified': 1,\n",
       " 'ok': 1.0,\n",
       " 'opTime': {'t': 2, 'ts': Timestamp(1505748908, 1)},\n",
       " 'updatedExisting': True}"
      ]
     },
     "metadata": {},
     "output_type": "display_data"
    },
    {
     "data": {
      "text/plain": [
       "{'electionId': ObjectId('7fffffff0000000000000002'),\n",
       " 'n': 1,\n",
       " 'nModified': 1,\n",
       " 'ok': 1.0,\n",
       " 'opTime': {'t': 2, 'ts': Timestamp(1505748909, 1)},\n",
       " 'updatedExisting': True}"
      ]
     },
     "metadata": {},
     "output_type": "display_data"
    },
    {
     "data": {
      "text/plain": [
       "{'electionId': ObjectId('7fffffff0000000000000002'),\n",
       " 'n': 1,\n",
       " 'nModified': 1,\n",
       " 'ok': 1.0,\n",
       " 'opTime': {'t': 2, 'ts': Timestamp(1505748910, 1)},\n",
       " 'updatedExisting': True}"
      ]
     },
     "metadata": {},
     "output_type": "display_data"
    },
    {
     "data": {
      "text/plain": [
       "{'electionId': ObjectId('7fffffff0000000000000002'),\n",
       " 'n': 1,\n",
       " 'nModified': 1,\n",
       " 'ok': 1.0,\n",
       " 'opTime': {'t': 2, 'ts': Timestamp(1505748911, 1)},\n",
       " 'updatedExisting': True}"
      ]
     },
     "metadata": {},
     "output_type": "display_data"
    },
    {
     "data": {
      "text/plain": [
       "{'electionId': ObjectId('7fffffff0000000000000002'),\n",
       " 'n': 1,\n",
       " 'nModified': 1,\n",
       " 'ok': 1.0,\n",
       " 'opTime': {'t': 2, 'ts': Timestamp(1505748912, 1)},\n",
       " 'updatedExisting': True}"
      ]
     },
     "metadata": {},
     "output_type": "display_data"
    },
    {
     "data": {
      "text/plain": [
       "{'electionId': ObjectId('7fffffff0000000000000002'),\n",
       " 'n': 1,\n",
       " 'nModified': 1,\n",
       " 'ok': 1.0,\n",
       " 'opTime': {'t': 2, 'ts': Timestamp(1505748914, 1)},\n",
       " 'updatedExisting': True}"
      ]
     },
     "metadata": {},
     "output_type": "display_data"
    },
    {
     "data": {
      "text/plain": [
       "{'electionId': ObjectId('7fffffff0000000000000002'),\n",
       " 'n': 1,\n",
       " 'nModified': 1,\n",
       " 'ok': 1.0,\n",
       " 'opTime': {'t': 2, 'ts': Timestamp(1505748915, 1)},\n",
       " 'updatedExisting': True}"
      ]
     },
     "metadata": {},
     "output_type": "display_data"
    },
    {
     "data": {
      "text/plain": [
       "{'electionId': ObjectId('7fffffff0000000000000002'),\n",
       " 'n': 1,\n",
       " 'nModified': 1,\n",
       " 'ok': 1.0,\n",
       " 'opTime': {'t': 2, 'ts': Timestamp(1505748915, 2)},\n",
       " 'updatedExisting': True}"
      ]
     },
     "metadata": {},
     "output_type": "display_data"
    },
    {
     "data": {
      "text/plain": [
       "{'electionId': ObjectId('7fffffff0000000000000002'),\n",
       " 'n': 1,\n",
       " 'nModified': 1,\n",
       " 'ok': 1.0,\n",
       " 'opTime': {'t': 2, 'ts': Timestamp(1505748916, 1)},\n",
       " 'updatedExisting': True}"
      ]
     },
     "metadata": {},
     "output_type": "display_data"
    },
    {
     "data": {
      "text/plain": [
       "{'electionId': ObjectId('7fffffff0000000000000002'),\n",
       " 'n': 1,\n",
       " 'nModified': 1,\n",
       " 'ok': 1.0,\n",
       " 'opTime': {'t': 2, 'ts': Timestamp(1505748917, 1)},\n",
       " 'updatedExisting': True}"
      ]
     },
     "metadata": {},
     "output_type": "display_data"
    },
    {
     "data": {
      "text/plain": [
       "{'electionId': ObjectId('7fffffff0000000000000002'),\n",
       " 'n': 1,\n",
       " 'nModified': 1,\n",
       " 'ok': 1.0,\n",
       " 'opTime': {'t': 2, 'ts': Timestamp(1505748917, 2)},\n",
       " 'updatedExisting': True}"
      ]
     },
     "metadata": {},
     "output_type": "display_data"
    },
    {
     "data": {
      "text/plain": [
       "{'electionId': ObjectId('7fffffff0000000000000002'),\n",
       " 'n': 1,\n",
       " 'nModified': 1,\n",
       " 'ok': 1.0,\n",
       " 'opTime': {'t': 2, 'ts': Timestamp(1505748918, 1)},\n",
       " 'updatedExisting': True}"
      ]
     },
     "metadata": {},
     "output_type": "display_data"
    },
    {
     "data": {
      "text/plain": [
       "{'electionId': ObjectId('7fffffff0000000000000002'),\n",
       " 'n': 1,\n",
       " 'nModified': 1,\n",
       " 'ok': 1.0,\n",
       " 'opTime': {'t': 2, 'ts': Timestamp(1505748919, 1)},\n",
       " 'updatedExisting': True}"
      ]
     },
     "metadata": {},
     "output_type": "display_data"
    },
    {
     "data": {
      "text/plain": [
       "{'electionId': ObjectId('7fffffff0000000000000002'),\n",
       " 'n': 1,\n",
       " 'nModified': 1,\n",
       " 'ok': 1.0,\n",
       " 'opTime': {'t': 2, 'ts': Timestamp(1505748919, 2)},\n",
       " 'updatedExisting': True}"
      ]
     },
     "metadata": {},
     "output_type": "display_data"
    },
    {
     "data": {
      "text/plain": [
       "{'electionId': ObjectId('7fffffff0000000000000002'),\n",
       " 'n': 1,\n",
       " 'nModified': 1,\n",
       " 'ok': 1.0,\n",
       " 'opTime': {'t': 2, 'ts': Timestamp(1505748920, 1)},\n",
       " 'updatedExisting': True}"
      ]
     },
     "metadata": {},
     "output_type": "display_data"
    },
    {
     "data": {
      "text/plain": [
       "{'electionId': ObjectId('7fffffff0000000000000002'),\n",
       " 'n': 1,\n",
       " 'nModified': 1,\n",
       " 'ok': 1.0,\n",
       " 'opTime': {'t': 2, 'ts': Timestamp(1505748921, 1)},\n",
       " 'updatedExisting': True}"
      ]
     },
     "metadata": {},
     "output_type": "display_data"
    },
    {
     "data": {
      "text/plain": [
       "{'electionId': ObjectId('7fffffff0000000000000002'),\n",
       " 'n': 1,\n",
       " 'nModified': 1,\n",
       " 'ok': 1.0,\n",
       " 'opTime': {'t': 2, 'ts': Timestamp(1505748922, 1)},\n",
       " 'updatedExisting': True}"
      ]
     },
     "metadata": {},
     "output_type": "display_data"
    },
    {
     "data": {
      "text/plain": [
       "{'electionId': ObjectId('7fffffff0000000000000002'),\n",
       " 'n': 1,\n",
       " 'nModified': 1,\n",
       " 'ok': 1.0,\n",
       " 'opTime': {'t': 2, 'ts': Timestamp(1505748923, 1)},\n",
       " 'updatedExisting': True}"
      ]
     },
     "metadata": {},
     "output_type": "display_data"
    },
    {
     "data": {
      "text/plain": [
       "{'electionId': ObjectId('7fffffff0000000000000002'),\n",
       " 'n': 1,\n",
       " 'nModified': 1,\n",
       " 'ok': 1.0,\n",
       " 'opTime': {'t': 2, 'ts': Timestamp(1505748924, 1)},\n",
       " 'updatedExisting': True}"
      ]
     },
     "metadata": {},
     "output_type": "display_data"
    },
    {
     "data": {
      "text/plain": [
       "{'electionId': ObjectId('7fffffff0000000000000002'),\n",
       " 'n': 1,\n",
       " 'nModified': 1,\n",
       " 'ok': 1.0,\n",
       " 'opTime': {'t': 2, 'ts': Timestamp(1505748925, 1)},\n",
       " 'updatedExisting': True}"
      ]
     },
     "metadata": {},
     "output_type": "display_data"
    },
    {
     "data": {
      "text/plain": [
       "{'electionId': ObjectId('7fffffff0000000000000002'),\n",
       " 'n': 1,\n",
       " 'nModified': 1,\n",
       " 'ok': 1.0,\n",
       " 'opTime': {'t': 2, 'ts': Timestamp(1505748926, 1)},\n",
       " 'updatedExisting': True}"
      ]
     },
     "metadata": {},
     "output_type": "display_data"
    },
    {
     "data": {
      "text/plain": [
       "{'electionId': ObjectId('7fffffff0000000000000002'),\n",
       " 'n': 1,\n",
       " 'nModified': 1,\n",
       " 'ok': 1.0,\n",
       " 'opTime': {'t': 2, 'ts': Timestamp(1505748927, 1)},\n",
       " 'updatedExisting': True}"
      ]
     },
     "metadata": {},
     "output_type": "display_data"
    },
    {
     "data": {
      "text/plain": [
       "{'electionId': ObjectId('7fffffff0000000000000002'),\n",
       " 'n': 1,\n",
       " 'nModified': 1,\n",
       " 'ok': 1.0,\n",
       " 'opTime': {'t': 2, 'ts': Timestamp(1505748928, 1)},\n",
       " 'updatedExisting': True}"
      ]
     },
     "metadata": {},
     "output_type": "display_data"
    },
    {
     "data": {
      "text/plain": [
       "{'electionId': ObjectId('7fffffff0000000000000002'),\n",
       " 'n': 1,\n",
       " 'nModified': 1,\n",
       " 'ok': 1.0,\n",
       " 'opTime': {'t': 2, 'ts': Timestamp(1505748929, 1)},\n",
       " 'updatedExisting': True}"
      ]
     },
     "metadata": {},
     "output_type": "display_data"
    },
    {
     "data": {
      "text/plain": [
       "{'electionId': ObjectId('7fffffff0000000000000002'),\n",
       " 'n': 1,\n",
       " 'nModified': 1,\n",
       " 'ok': 1.0,\n",
       " 'opTime': {'t': 2, 'ts': Timestamp(1505748930, 1)},\n",
       " 'updatedExisting': True}"
      ]
     },
     "metadata": {},
     "output_type": "display_data"
    },
    {
     "data": {
      "text/plain": [
       "{'electionId': ObjectId('7fffffff0000000000000002'),\n",
       " 'n': 1,\n",
       " 'nModified': 1,\n",
       " 'ok': 1.0,\n",
       " 'opTime': {'t': 2, 'ts': Timestamp(1505748931, 1)},\n",
       " 'updatedExisting': True}"
      ]
     },
     "metadata": {},
     "output_type": "display_data"
    },
    {
     "data": {
      "text/plain": [
       "{'electionId': ObjectId('7fffffff0000000000000002'),\n",
       " 'n': 1,\n",
       " 'nModified': 1,\n",
       " 'ok': 1.0,\n",
       " 'opTime': {'t': 2, 'ts': Timestamp(1505748931, 2)},\n",
       " 'updatedExisting': True}"
      ]
     },
     "metadata": {},
     "output_type": "display_data"
    },
    {
     "data": {
      "text/plain": [
       "{'electionId': ObjectId('7fffffff0000000000000002'),\n",
       " 'n': 1,\n",
       " 'nModified': 1,\n",
       " 'ok': 1.0,\n",
       " 'opTime': {'t': 2, 'ts': Timestamp(1505748932, 1)},\n",
       " 'updatedExisting': True}"
      ]
     },
     "metadata": {},
     "output_type": "display_data"
    },
    {
     "data": {
      "text/plain": [
       "{'electionId': ObjectId('7fffffff0000000000000002'),\n",
       " 'n': 1,\n",
       " 'nModified': 1,\n",
       " 'ok': 1.0,\n",
       " 'opTime': {'t': 2, 'ts': Timestamp(1505748933, 1)},\n",
       " 'updatedExisting': True}"
      ]
     },
     "metadata": {},
     "output_type": "display_data"
    },
    {
     "data": {
      "text/plain": [
       "{'electionId': ObjectId('7fffffff0000000000000002'),\n",
       " 'n': 1,\n",
       " 'nModified': 1,\n",
       " 'ok': 1.0,\n",
       " 'opTime': {'t': 2, 'ts': Timestamp(1505748933, 2)},\n",
       " 'updatedExisting': True}"
      ]
     },
     "metadata": {},
     "output_type": "display_data"
    },
    {
     "data": {
      "text/plain": [
       "{'electionId': ObjectId('7fffffff0000000000000002'),\n",
       " 'n': 1,\n",
       " 'nModified': 1,\n",
       " 'ok': 1.0,\n",
       " 'opTime': {'t': 2, 'ts': Timestamp(1505748935, 1)},\n",
       " 'updatedExisting': True}"
      ]
     },
     "metadata": {},
     "output_type": "display_data"
    },
    {
     "data": {
      "text/plain": [
       "{'electionId': ObjectId('7fffffff0000000000000002'),\n",
       " 'n': 1,\n",
       " 'nModified': 1,\n",
       " 'ok': 1.0,\n",
       " 'opTime': {'t': 2, 'ts': Timestamp(1505748936, 1)},\n",
       " 'updatedExisting': True}"
      ]
     },
     "metadata": {},
     "output_type": "display_data"
    },
    {
     "data": {
      "text/plain": [
       "{'electionId': ObjectId('7fffffff0000000000000002'),\n",
       " 'n': 1,\n",
       " 'nModified': 1,\n",
       " 'ok': 1.0,\n",
       " 'opTime': {'t': 2, 'ts': Timestamp(1505748938, 1)},\n",
       " 'updatedExisting': True}"
      ]
     },
     "metadata": {},
     "output_type": "display_data"
    },
    {
     "data": {
      "text/plain": [
       "{'electionId': ObjectId('7fffffff0000000000000002'),\n",
       " 'n': 1,\n",
       " 'nModified': 1,\n",
       " 'ok': 1.0,\n",
       " 'opTime': {'t': 2, 'ts': Timestamp(1505748939, 1)},\n",
       " 'updatedExisting': True}"
      ]
     },
     "metadata": {},
     "output_type": "display_data"
    },
    {
     "data": {
      "text/plain": [
       "{'electionId': ObjectId('7fffffff0000000000000002'),\n",
       " 'n': 1,\n",
       " 'nModified': 1,\n",
       " 'ok': 1.0,\n",
       " 'opTime': {'t': 2, 'ts': Timestamp(1505748941, 1)},\n",
       " 'updatedExisting': True}"
      ]
     },
     "metadata": {},
     "output_type": "display_data"
    },
    {
     "data": {
      "text/plain": [
       "{'electionId': ObjectId('7fffffff0000000000000002'),\n",
       " 'n': 1,\n",
       " 'nModified': 1,\n",
       " 'ok': 1.0,\n",
       " 'opTime': {'t': 2, 'ts': Timestamp(1505748943, 1)},\n",
       " 'updatedExisting': True}"
      ]
     },
     "metadata": {},
     "output_type": "display_data"
    },
    {
     "data": {
      "text/plain": [
       "{'electionId': ObjectId('7fffffff0000000000000002'),\n",
       " 'n': 1,\n",
       " 'nModified': 1,\n",
       " 'ok': 1.0,\n",
       " 'opTime': {'t': 2, 'ts': Timestamp(1505748945, 1)},\n",
       " 'updatedExisting': True}"
      ]
     },
     "metadata": {},
     "output_type": "display_data"
    },
    {
     "data": {
      "text/plain": [
       "{'electionId': ObjectId('7fffffff0000000000000002'),\n",
       " 'n': 1,\n",
       " 'nModified': 1,\n",
       " 'ok': 1.0,\n",
       " 'opTime': {'t': 2, 'ts': Timestamp(1505748947, 1)},\n",
       " 'updatedExisting': True}"
      ]
     },
     "metadata": {},
     "output_type": "display_data"
    },
    {
     "data": {
      "text/plain": [
       "{'electionId': ObjectId('7fffffff0000000000000002'),\n",
       " 'n': 1,\n",
       " 'nModified': 1,\n",
       " 'ok': 1.0,\n",
       " 'opTime': {'t': 2, 'ts': Timestamp(1505748949, 1)},\n",
       " 'updatedExisting': True}"
      ]
     },
     "metadata": {},
     "output_type": "display_data"
    },
    {
     "data": {
      "text/plain": [
       "{'electionId': ObjectId('7fffffff0000000000000002'),\n",
       " 'n': 1,\n",
       " 'nModified': 1,\n",
       " 'ok': 1.0,\n",
       " 'opTime': {'t': 2, 'ts': Timestamp(1505748950, 1)},\n",
       " 'updatedExisting': True}"
      ]
     },
     "metadata": {},
     "output_type": "display_data"
    },
    {
     "data": {
      "text/plain": [
       "{'electionId': ObjectId('7fffffff0000000000000002'),\n",
       " 'n': 1,\n",
       " 'nModified': 1,\n",
       " 'ok': 1.0,\n",
       " 'opTime': {'t': 2, 'ts': Timestamp(1505748951, 1)},\n",
       " 'updatedExisting': True}"
      ]
     },
     "metadata": {},
     "output_type": "display_data"
    },
    {
     "data": {
      "text/plain": [
       "{'electionId': ObjectId('7fffffff0000000000000002'),\n",
       " 'n': 1,\n",
       " 'nModified': 1,\n",
       " 'ok': 1.0,\n",
       " 'opTime': {'t': 2, 'ts': Timestamp(1505748953, 1)},\n",
       " 'updatedExisting': True}"
      ]
     },
     "metadata": {},
     "output_type": "display_data"
    },
    {
     "data": {
      "text/plain": [
       "{'electionId': ObjectId('7fffffff0000000000000002'),\n",
       " 'n': 1,\n",
       " 'nModified': 1,\n",
       " 'ok': 1.0,\n",
       " 'opTime': {'t': 2, 'ts': Timestamp(1505748954, 1)},\n",
       " 'updatedExisting': True}"
      ]
     },
     "metadata": {},
     "output_type": "display_data"
    },
    {
     "data": {
      "text/plain": [
       "{'electionId': ObjectId('7fffffff0000000000000002'),\n",
       " 'n': 1,\n",
       " 'nModified': 1,\n",
       " 'ok': 1.0,\n",
       " 'opTime': {'t': 2, 'ts': Timestamp(1505748954, 2)},\n",
       " 'updatedExisting': True}"
      ]
     },
     "metadata": {},
     "output_type": "display_data"
    },
    {
     "data": {
      "text/plain": [
       "{'electionId': ObjectId('7fffffff0000000000000002'),\n",
       " 'n': 1,\n",
       " 'nModified': 1,\n",
       " 'ok': 1.0,\n",
       " 'opTime': {'t': 2, 'ts': Timestamp(1505748955, 1)},\n",
       " 'updatedExisting': True}"
      ]
     },
     "metadata": {},
     "output_type": "display_data"
    },
    {
     "data": {
      "text/plain": [
       "{'electionId': ObjectId('7fffffff0000000000000002'),\n",
       " 'n': 1,\n",
       " 'nModified': 1,\n",
       " 'ok': 1.0,\n",
       " 'opTime': {'t': 2, 'ts': Timestamp(1505748955, 2)},\n",
       " 'updatedExisting': True}"
      ]
     },
     "metadata": {},
     "output_type": "display_data"
    },
    {
     "data": {
      "text/plain": [
       "{'electionId': ObjectId('7fffffff0000000000000002'),\n",
       " 'n': 1,\n",
       " 'nModified': 1,\n",
       " 'ok': 1.0,\n",
       " 'opTime': {'t': 2, 'ts': Timestamp(1505748956, 1)},\n",
       " 'updatedExisting': True}"
      ]
     },
     "metadata": {},
     "output_type": "display_data"
    },
    {
     "data": {
      "text/plain": [
       "{'electionId': ObjectId('7fffffff0000000000000002'),\n",
       " 'n': 1,\n",
       " 'nModified': 1,\n",
       " 'ok': 1.0,\n",
       " 'opTime': {'t': 2, 'ts': Timestamp(1505748956, 2)},\n",
       " 'updatedExisting': True}"
      ]
     },
     "metadata": {},
     "output_type": "display_data"
    },
    {
     "data": {
      "text/plain": [
       "{'electionId': ObjectId('7fffffff0000000000000002'),\n",
       " 'n': 1,\n",
       " 'nModified': 1,\n",
       " 'ok': 1.0,\n",
       " 'opTime': {'t': 2, 'ts': Timestamp(1505748957, 1)},\n",
       " 'updatedExisting': True}"
      ]
     },
     "metadata": {},
     "output_type": "display_data"
    },
    {
     "data": {
      "text/plain": [
       "{'electionId': ObjectId('7fffffff0000000000000002'),\n",
       " 'n': 1,\n",
       " 'nModified': 1,\n",
       " 'ok': 1.0,\n",
       " 'opTime': {'t': 2, 'ts': Timestamp(1505748957, 2)},\n",
       " 'updatedExisting': True}"
      ]
     },
     "metadata": {},
     "output_type": "display_data"
    },
    {
     "data": {
      "text/plain": [
       "{'electionId': ObjectId('7fffffff0000000000000002'),\n",
       " 'n': 1,\n",
       " 'nModified': 1,\n",
       " 'ok': 1.0,\n",
       " 'opTime': {'t': 2, 'ts': Timestamp(1505748958, 1)},\n",
       " 'updatedExisting': True}"
      ]
     },
     "metadata": {},
     "output_type": "display_data"
    },
    {
     "data": {
      "text/plain": [
       "{'electionId': ObjectId('7fffffff0000000000000002'),\n",
       " 'n': 1,\n",
       " 'nModified': 1,\n",
       " 'ok': 1.0,\n",
       " 'opTime': {'t': 2, 'ts': Timestamp(1505748958, 2)},\n",
       " 'updatedExisting': True}"
      ]
     },
     "metadata": {},
     "output_type": "display_data"
    },
    {
     "data": {
      "text/plain": [
       "{'electionId': ObjectId('7fffffff0000000000000002'),\n",
       " 'n': 1,\n",
       " 'nModified': 1,\n",
       " 'ok': 1.0,\n",
       " 'opTime': {'t': 2, 'ts': Timestamp(1505748958, 3)},\n",
       " 'updatedExisting': True}"
      ]
     },
     "metadata": {},
     "output_type": "display_data"
    },
    {
     "data": {
      "text/plain": [
       "{'electionId': ObjectId('7fffffff0000000000000002'),\n",
       " 'n': 1,\n",
       " 'nModified': 1,\n",
       " 'ok': 1.0,\n",
       " 'opTime': {'t': 2, 'ts': Timestamp(1505748959, 1)},\n",
       " 'updatedExisting': True}"
      ]
     },
     "metadata": {},
     "output_type": "display_data"
    },
    {
     "data": {
      "text/plain": [
       "{'electionId': ObjectId('7fffffff0000000000000002'),\n",
       " 'n': 1,\n",
       " 'nModified': 1,\n",
       " 'ok': 1.0,\n",
       " 'opTime': {'t': 2, 'ts': Timestamp(1505748959, 2)},\n",
       " 'updatedExisting': True}"
      ]
     },
     "metadata": {},
     "output_type": "display_data"
    },
    {
     "data": {
      "text/plain": [
       "{'electionId': ObjectId('7fffffff0000000000000002'),\n",
       " 'n': 1,\n",
       " 'nModified': 1,\n",
       " 'ok': 1.0,\n",
       " 'opTime': {'t': 2, 'ts': Timestamp(1505748960, 1)},\n",
       " 'updatedExisting': True}"
      ]
     },
     "metadata": {},
     "output_type": "display_data"
    },
    {
     "data": {
      "text/plain": [
       "{'electionId': ObjectId('7fffffff0000000000000002'),\n",
       " 'n': 1,\n",
       " 'nModified': 1,\n",
       " 'ok': 1.0,\n",
       " 'opTime': {'t': 2, 'ts': Timestamp(1505748961, 1)},\n",
       " 'updatedExisting': True}"
      ]
     },
     "metadata": {},
     "output_type": "display_data"
    },
    {
     "data": {
      "text/plain": [
       "{'electionId': ObjectId('7fffffff0000000000000002'),\n",
       " 'n': 1,\n",
       " 'nModified': 1,\n",
       " 'ok': 1.0,\n",
       " 'opTime': {'t': 2, 'ts': Timestamp(1505748961, 2)},\n",
       " 'updatedExisting': True}"
      ]
     },
     "metadata": {},
     "output_type": "display_data"
    },
    {
     "data": {
      "text/plain": [
       "{'electionId': ObjectId('7fffffff0000000000000002'),\n",
       " 'n': 1,\n",
       " 'nModified': 1,\n",
       " 'ok': 1.0,\n",
       " 'opTime': {'t': 2, 'ts': Timestamp(1505748962, 1)},\n",
       " 'updatedExisting': True}"
      ]
     },
     "metadata": {},
     "output_type": "display_data"
    },
    {
     "data": {
      "text/plain": [
       "{'electionId': ObjectId('7fffffff0000000000000002'),\n",
       " 'n': 1,\n",
       " 'nModified': 1,\n",
       " 'ok': 1.0,\n",
       " 'opTime': {'t': 2, 'ts': Timestamp(1505748962, 2)},\n",
       " 'updatedExisting': True}"
      ]
     },
     "metadata": {},
     "output_type": "display_data"
    },
    {
     "data": {
      "text/plain": [
       "{'electionId': ObjectId('7fffffff0000000000000002'),\n",
       " 'n': 1,\n",
       " 'nModified': 1,\n",
       " 'ok': 1.0,\n",
       " 'opTime': {'t': 2, 'ts': Timestamp(1505748963, 1)},\n",
       " 'updatedExisting': True}"
      ]
     },
     "metadata": {},
     "output_type": "display_data"
    },
    {
     "data": {
      "text/plain": [
       "{'electionId': ObjectId('7fffffff0000000000000002'),\n",
       " 'n': 1,\n",
       " 'nModified': 1,\n",
       " 'ok': 1.0,\n",
       " 'opTime': {'t': 2, 'ts': Timestamp(1505748964, 1)},\n",
       " 'updatedExisting': True}"
      ]
     },
     "metadata": {},
     "output_type": "display_data"
    },
    {
     "data": {
      "text/plain": [
       "{'electionId': ObjectId('7fffffff0000000000000002'),\n",
       " 'n': 1,\n",
       " 'nModified': 1,\n",
       " 'ok': 1.0,\n",
       " 'opTime': {'t': 2, 'ts': Timestamp(1505748964, 2)},\n",
       " 'updatedExisting': True}"
      ]
     },
     "metadata": {},
     "output_type": "display_data"
    },
    {
     "data": {
      "text/plain": [
       "{'electionId': ObjectId('7fffffff0000000000000002'),\n",
       " 'n': 1,\n",
       " 'nModified': 1,\n",
       " 'ok': 1.0,\n",
       " 'opTime': {'t': 2, 'ts': Timestamp(1505748965, 1)},\n",
       " 'updatedExisting': True}"
      ]
     },
     "metadata": {},
     "output_type": "display_data"
    },
    {
     "data": {
      "text/plain": [
       "{'electionId': ObjectId('7fffffff0000000000000002'),\n",
       " 'n': 1,\n",
       " 'nModified': 1,\n",
       " 'ok': 1.0,\n",
       " 'opTime': {'t': 2, 'ts': Timestamp(1505748966, 1)},\n",
       " 'updatedExisting': True}"
      ]
     },
     "metadata": {},
     "output_type": "display_data"
    },
    {
     "data": {
      "text/plain": [
       "{'electionId': ObjectId('7fffffff0000000000000002'),\n",
       " 'n': 1,\n",
       " 'nModified': 1,\n",
       " 'ok': 1.0,\n",
       " 'opTime': {'t': 2, 'ts': Timestamp(1505748966, 2)},\n",
       " 'updatedExisting': True}"
      ]
     },
     "metadata": {},
     "output_type": "display_data"
    },
    {
     "data": {
      "text/plain": [
       "{'electionId': ObjectId('7fffffff0000000000000002'),\n",
       " 'n': 1,\n",
       " 'nModified': 1,\n",
       " 'ok': 1.0,\n",
       " 'opTime': {'t': 2, 'ts': Timestamp(1505748967, 1)},\n",
       " 'updatedExisting': True}"
      ]
     },
     "metadata": {},
     "output_type": "display_data"
    },
    {
     "data": {
      "text/plain": [
       "{'electionId': ObjectId('7fffffff0000000000000002'),\n",
       " 'n': 1,\n",
       " 'nModified': 1,\n",
       " 'ok': 1.0,\n",
       " 'opTime': {'t': 2, 'ts': Timestamp(1505748967, 2)},\n",
       " 'updatedExisting': True}"
      ]
     },
     "metadata": {},
     "output_type": "display_data"
    },
    {
     "data": {
      "text/plain": [
       "{'electionId': ObjectId('7fffffff0000000000000002'),\n",
       " 'n': 1,\n",
       " 'nModified': 1,\n",
       " 'ok': 1.0,\n",
       " 'opTime': {'t': 2, 'ts': Timestamp(1505748968, 1)},\n",
       " 'updatedExisting': True}"
      ]
     },
     "metadata": {},
     "output_type": "display_data"
    },
    {
     "data": {
      "text/plain": [
       "{'electionId': ObjectId('7fffffff0000000000000002'),\n",
       " 'n': 1,\n",
       " 'nModified': 1,\n",
       " 'ok': 1.0,\n",
       " 'opTime': {'t': 2, 'ts': Timestamp(1505748969, 1)},\n",
       " 'updatedExisting': True}"
      ]
     },
     "metadata": {},
     "output_type": "display_data"
    },
    {
     "data": {
      "text/plain": [
       "{'electionId': ObjectId('7fffffff0000000000000002'),\n",
       " 'n': 1,\n",
       " 'nModified': 1,\n",
       " 'ok': 1.0,\n",
       " 'opTime': {'t': 2, 'ts': Timestamp(1505748969, 2)},\n",
       " 'updatedExisting': True}"
      ]
     },
     "metadata": {},
     "output_type": "display_data"
    },
    {
     "data": {
      "text/plain": [
       "{'electionId': ObjectId('7fffffff0000000000000002'),\n",
       " 'n': 1,\n",
       " 'nModified': 1,\n",
       " 'ok': 1.0,\n",
       " 'opTime': {'t': 2, 'ts': Timestamp(1505748970, 1)},\n",
       " 'updatedExisting': True}"
      ]
     },
     "metadata": {},
     "output_type": "display_data"
    },
    {
     "data": {
      "text/plain": [
       "{'electionId': ObjectId('7fffffff0000000000000002'),\n",
       " 'n': 1,\n",
       " 'nModified': 1,\n",
       " 'ok': 1.0,\n",
       " 'opTime': {'t': 2, 'ts': Timestamp(1505748970, 2)},\n",
       " 'updatedExisting': True}"
      ]
     },
     "metadata": {},
     "output_type": "display_data"
    },
    {
     "data": {
      "text/plain": [
       "{'electionId': ObjectId('7fffffff0000000000000002'),\n",
       " 'n': 1,\n",
       " 'nModified': 1,\n",
       " 'ok': 1.0,\n",
       " 'opTime': {'t': 2, 'ts': Timestamp(1505748971, 1)},\n",
       " 'updatedExisting': True}"
      ]
     },
     "metadata": {},
     "output_type": "display_data"
    },
    {
     "data": {
      "text/plain": [
       "{'electionId': ObjectId('7fffffff0000000000000002'),\n",
       " 'n': 1,\n",
       " 'nModified': 1,\n",
       " 'ok': 1.0,\n",
       " 'opTime': {'t': 2, 'ts': Timestamp(1505748973, 1)},\n",
       " 'updatedExisting': True}"
      ]
     },
     "metadata": {},
     "output_type": "display_data"
    },
    {
     "data": {
      "text/plain": [
       "{'electionId': ObjectId('7fffffff0000000000000002'),\n",
       " 'n': 1,\n",
       " 'nModified': 1,\n",
       " 'ok': 1.0,\n",
       " 'opTime': {'t': 2, 'ts': Timestamp(1505748975, 1)},\n",
       " 'updatedExisting': True}"
      ]
     },
     "metadata": {},
     "output_type": "display_data"
    },
    {
     "data": {
      "text/plain": [
       "{'electionId': ObjectId('7fffffff0000000000000002'),\n",
       " 'n': 1,\n",
       " 'nModified': 1,\n",
       " 'ok': 1.0,\n",
       " 'opTime': {'t': 2, 'ts': Timestamp(1505748976, 1)},\n",
       " 'updatedExisting': True}"
      ]
     },
     "metadata": {},
     "output_type": "display_data"
    },
    {
     "data": {
      "text/plain": [
       "{'electionId': ObjectId('7fffffff0000000000000002'),\n",
       " 'n': 1,\n",
       " 'nModified': 1,\n",
       " 'ok': 1.0,\n",
       " 'opTime': {'t': 2, 'ts': Timestamp(1505748978, 1)},\n",
       " 'updatedExisting': True}"
      ]
     },
     "metadata": {},
     "output_type": "display_data"
    },
    {
     "data": {
      "text/plain": [
       "{'electionId': ObjectId('7fffffff0000000000000002'),\n",
       " 'n': 1,\n",
       " 'nModified': 1,\n",
       " 'ok': 1.0,\n",
       " 'opTime': {'t': 2, 'ts': Timestamp(1505748980, 1)},\n",
       " 'updatedExisting': True}"
      ]
     },
     "metadata": {},
     "output_type": "display_data"
    },
    {
     "data": {
      "text/plain": [
       "{'electionId': ObjectId('7fffffff0000000000000002'),\n",
       " 'n': 1,\n",
       " 'nModified': 1,\n",
       " 'ok': 1.0,\n",
       " 'opTime': {'t': 2, 'ts': Timestamp(1505748981, 1)},\n",
       " 'updatedExisting': True}"
      ]
     },
     "metadata": {},
     "output_type": "display_data"
    },
    {
     "data": {
      "text/plain": [
       "{'electionId': ObjectId('7fffffff0000000000000002'),\n",
       " 'n': 1,\n",
       " 'nModified': 1,\n",
       " 'ok': 1.0,\n",
       " 'opTime': {'t': 2, 'ts': Timestamp(1505748982, 1)},\n",
       " 'updatedExisting': True}"
      ]
     },
     "metadata": {},
     "output_type": "display_data"
    },
    {
     "data": {
      "text/plain": [
       "{'electionId': ObjectId('7fffffff0000000000000002'),\n",
       " 'n': 1,\n",
       " 'nModified': 1,\n",
       " 'ok': 1.0,\n",
       " 'opTime': {'t': 2, 'ts': Timestamp(1505748985, 1)},\n",
       " 'updatedExisting': True}"
      ]
     },
     "metadata": {},
     "output_type": "display_data"
    },
    {
     "data": {
      "text/plain": [
       "{'electionId': ObjectId('7fffffff0000000000000002'),\n",
       " 'n': 1,\n",
       " 'nModified': 1,\n",
       " 'ok': 1.0,\n",
       " 'opTime': {'t': 2, 'ts': Timestamp(1505748986, 1)},\n",
       " 'updatedExisting': True}"
      ]
     },
     "metadata": {},
     "output_type": "display_data"
    },
    {
     "data": {
      "text/plain": [
       "{'electionId': ObjectId('7fffffff0000000000000002'),\n",
       " 'n': 1,\n",
       " 'nModified': 1,\n",
       " 'ok': 1.0,\n",
       " 'opTime': {'t': 2, 'ts': Timestamp(1505748989, 1)},\n",
       " 'updatedExisting': True}"
      ]
     },
     "metadata": {},
     "output_type": "display_data"
    },
    {
     "data": {
      "text/plain": [
       "{'electionId': ObjectId('7fffffff0000000000000002'),\n",
       " 'n': 1,\n",
       " 'nModified': 1,\n",
       " 'ok': 1.0,\n",
       " 'opTime': {'t': 2, 'ts': Timestamp(1505748990, 1)},\n",
       " 'updatedExisting': True}"
      ]
     },
     "metadata": {},
     "output_type": "display_data"
    },
    {
     "data": {
      "text/plain": [
       "{'electionId': ObjectId('7fffffff0000000000000002'),\n",
       " 'n': 1,\n",
       " 'nModified': 1,\n",
       " 'ok': 1.0,\n",
       " 'opTime': {'t': 2, 'ts': Timestamp(1505748992, 1)},\n",
       " 'updatedExisting': True}"
      ]
     },
     "metadata": {},
     "output_type": "display_data"
    },
    {
     "data": {
      "text/plain": [
       "{'electionId': ObjectId('7fffffff0000000000000002'),\n",
       " 'n': 1,\n",
       " 'nModified': 1,\n",
       " 'ok': 1.0,\n",
       " 'opTime': {'t': 2, 'ts': Timestamp(1505748995, 1)},\n",
       " 'updatedExisting': True}"
      ]
     },
     "metadata": {},
     "output_type": "display_data"
    },
    {
     "data": {
      "text/plain": [
       "{'electionId': ObjectId('7fffffff0000000000000002'),\n",
       " 'n': 1,\n",
       " 'nModified': 1,\n",
       " 'ok': 1.0,\n",
       " 'opTime': {'t': 2, 'ts': Timestamp(1505748997, 1)},\n",
       " 'updatedExisting': True}"
      ]
     },
     "metadata": {},
     "output_type": "display_data"
    },
    {
     "data": {
      "text/plain": [
       "{'electionId': ObjectId('7fffffff0000000000000002'),\n",
       " 'n': 1,\n",
       " 'nModified': 1,\n",
       " 'ok': 1.0,\n",
       " 'opTime': {'t': 2, 'ts': Timestamp(1505748999, 1)},\n",
       " 'updatedExisting': True}"
      ]
     },
     "metadata": {},
     "output_type": "display_data"
    },
    {
     "data": {
      "text/plain": [
       "{'electionId': ObjectId('7fffffff0000000000000002'),\n",
       " 'n': 1,\n",
       " 'nModified': 1,\n",
       " 'ok': 1.0,\n",
       " 'opTime': {'t': 2, 'ts': Timestamp(1505749001, 1)},\n",
       " 'updatedExisting': True}"
      ]
     },
     "metadata": {},
     "output_type": "display_data"
    },
    {
     "data": {
      "text/plain": [
       "{'electionId': ObjectId('7fffffff0000000000000002'),\n",
       " 'n': 1,\n",
       " 'nModified': 1,\n",
       " 'ok': 1.0,\n",
       " 'opTime': {'t': 2, 'ts': Timestamp(1505749002, 1)},\n",
       " 'updatedExisting': True}"
      ]
     },
     "metadata": {},
     "output_type": "display_data"
    },
    {
     "data": {
      "text/plain": [
       "{'electionId': ObjectId('7fffffff0000000000000002'),\n",
       " 'n': 1,\n",
       " 'nModified': 1,\n",
       " 'ok': 1.0,\n",
       " 'opTime': {'t': 2, 'ts': Timestamp(1505749004, 1)},\n",
       " 'updatedExisting': True}"
      ]
     },
     "metadata": {},
     "output_type": "display_data"
    },
    {
     "data": {
      "text/plain": [
       "{'electionId': ObjectId('7fffffff0000000000000002'),\n",
       " 'n': 1,\n",
       " 'nModified': 1,\n",
       " 'ok': 1.0,\n",
       " 'opTime': {'t': 2, 'ts': Timestamp(1505749006, 1)},\n",
       " 'updatedExisting': True}"
      ]
     },
     "metadata": {},
     "output_type": "display_data"
    },
    {
     "data": {
      "text/plain": [
       "{'electionId': ObjectId('7fffffff0000000000000002'),\n",
       " 'n': 1,\n",
       " 'nModified': 1,\n",
       " 'ok': 1.0,\n",
       " 'opTime': {'t': 2, 'ts': Timestamp(1505749008, 1)},\n",
       " 'updatedExisting': True}"
      ]
     },
     "metadata": {},
     "output_type": "display_data"
    },
    {
     "data": {
      "text/plain": [
       "{'electionId': ObjectId('7fffffff0000000000000002'),\n",
       " 'n': 1,\n",
       " 'nModified': 1,\n",
       " 'ok': 1.0,\n",
       " 'opTime': {'t': 2, 'ts': Timestamp(1505749010, 1)},\n",
       " 'updatedExisting': True}"
      ]
     },
     "metadata": {},
     "output_type": "display_data"
    },
    {
     "data": {
      "text/plain": [
       "{'electionId': ObjectId('7fffffff0000000000000002'),\n",
       " 'n': 1,\n",
       " 'nModified': 1,\n",
       " 'ok': 1.0,\n",
       " 'opTime': {'t': 2, 'ts': Timestamp(1505749014, 1)},\n",
       " 'updatedExisting': True}"
      ]
     },
     "metadata": {},
     "output_type": "display_data"
    },
    {
     "data": {
      "text/plain": [
       "{'electionId': ObjectId('7fffffff0000000000000002'),\n",
       " 'n': 1,\n",
       " 'nModified': 1,\n",
       " 'ok': 1.0,\n",
       " 'opTime': {'t': 2, 'ts': Timestamp(1505749016, 1)},\n",
       " 'updatedExisting': True}"
      ]
     },
     "metadata": {},
     "output_type": "display_data"
    },
    {
     "data": {
      "text/plain": [
       "{'electionId': ObjectId('7fffffff0000000000000002'),\n",
       " 'n': 1,\n",
       " 'nModified': 1,\n",
       " 'ok': 1.0,\n",
       " 'opTime': {'t': 2, 'ts': Timestamp(1505749017, 1)},\n",
       " 'updatedExisting': True}"
      ]
     },
     "metadata": {},
     "output_type": "display_data"
    },
    {
     "data": {
      "text/plain": [
       "{'electionId': ObjectId('7fffffff0000000000000002'),\n",
       " 'n': 1,\n",
       " 'nModified': 1,\n",
       " 'ok': 1.0,\n",
       " 'opTime': {'t': 2, 'ts': Timestamp(1505749019, 1)},\n",
       " 'updatedExisting': True}"
      ]
     },
     "metadata": {},
     "output_type": "display_data"
    },
    {
     "data": {
      "text/plain": [
       "{'electionId': ObjectId('7fffffff0000000000000002'),\n",
       " 'n': 1,\n",
       " 'nModified': 1,\n",
       " 'ok': 1.0,\n",
       " 'opTime': {'t': 2, 'ts': Timestamp(1505749019, 2)},\n",
       " 'updatedExisting': True}"
      ]
     },
     "metadata": {},
     "output_type": "display_data"
    },
    {
     "data": {
      "text/plain": [
       "{'electionId': ObjectId('7fffffff0000000000000002'),\n",
       " 'n': 1,\n",
       " 'nModified': 1,\n",
       " 'ok': 1.0,\n",
       " 'opTime': {'t': 2, 'ts': Timestamp(1505749021, 1)},\n",
       " 'updatedExisting': True}"
      ]
     },
     "metadata": {},
     "output_type": "display_data"
    },
    {
     "data": {
      "text/plain": [
       "{'electionId': ObjectId('7fffffff0000000000000002'),\n",
       " 'n': 1,\n",
       " 'nModified': 1,\n",
       " 'ok': 1.0,\n",
       " 'opTime': {'t': 2, 'ts': Timestamp(1505749021, 2)},\n",
       " 'updatedExisting': True}"
      ]
     },
     "metadata": {},
     "output_type": "display_data"
    },
    {
     "data": {
      "text/plain": [
       "{'electionId': ObjectId('7fffffff0000000000000002'),\n",
       " 'n': 1,\n",
       " 'nModified': 1,\n",
       " 'ok': 1.0,\n",
       " 'opTime': {'t': 2, 'ts': Timestamp(1505749022, 1)},\n",
       " 'updatedExisting': True}"
      ]
     },
     "metadata": {},
     "output_type": "display_data"
    },
    {
     "data": {
      "text/plain": [
       "{'electionId': ObjectId('7fffffff0000000000000002'),\n",
       " 'n': 1,\n",
       " 'nModified': 1,\n",
       " 'ok': 1.0,\n",
       " 'opTime': {'t': 2, 'ts': Timestamp(1505749023, 1)},\n",
       " 'updatedExisting': True}"
      ]
     },
     "metadata": {},
     "output_type": "display_data"
    },
    {
     "data": {
      "text/plain": [
       "{'electionId': ObjectId('7fffffff0000000000000002'),\n",
       " 'n': 1,\n",
       " 'nModified': 1,\n",
       " 'ok': 1.0,\n",
       " 'opTime': {'t': 2, 'ts': Timestamp(1505749023, 2)},\n",
       " 'updatedExisting': True}"
      ]
     },
     "metadata": {},
     "output_type": "display_data"
    },
    {
     "data": {
      "text/plain": [
       "{'electionId': ObjectId('7fffffff0000000000000002'),\n",
       " 'n': 1,\n",
       " 'nModified': 1,\n",
       " 'ok': 1.0,\n",
       " 'opTime': {'t': 2, 'ts': Timestamp(1505749025, 1)},\n",
       " 'updatedExisting': True}"
      ]
     },
     "metadata": {},
     "output_type": "display_data"
    },
    {
     "data": {
      "text/plain": [
       "{'electionId': ObjectId('7fffffff0000000000000002'),\n",
       " 'n': 1,\n",
       " 'nModified': 1,\n",
       " 'ok': 1.0,\n",
       " 'opTime': {'t': 2, 'ts': Timestamp(1505749026, 1)},\n",
       " 'updatedExisting': True}"
      ]
     },
     "metadata": {},
     "output_type": "display_data"
    },
    {
     "data": {
      "text/plain": [
       "{'electionId': ObjectId('7fffffff0000000000000002'),\n",
       " 'n': 1,\n",
       " 'nModified': 1,\n",
       " 'ok': 1.0,\n",
       " 'opTime': {'t': 2, 'ts': Timestamp(1505749026, 2)},\n",
       " 'updatedExisting': True}"
      ]
     },
     "metadata": {},
     "output_type": "display_data"
    },
    {
     "data": {
      "text/plain": [
       "{'electionId': ObjectId('7fffffff0000000000000002'),\n",
       " 'n': 1,\n",
       " 'nModified': 1,\n",
       " 'ok': 1.0,\n",
       " 'opTime': {'t': 2, 'ts': Timestamp(1505749027, 1)},\n",
       " 'updatedExisting': True}"
      ]
     },
     "metadata": {},
     "output_type": "display_data"
    },
    {
     "data": {
      "text/plain": [
       "{'electionId': ObjectId('7fffffff0000000000000002'),\n",
       " 'n': 1,\n",
       " 'nModified': 1,\n",
       " 'ok': 1.0,\n",
       " 'opTime': {'t': 2, 'ts': Timestamp(1505749028, 1)},\n",
       " 'updatedExisting': True}"
      ]
     },
     "metadata": {},
     "output_type": "display_data"
    },
    {
     "data": {
      "text/plain": [
       "{'electionId': ObjectId('7fffffff0000000000000002'),\n",
       " 'n': 1,\n",
       " 'nModified': 1,\n",
       " 'ok': 1.0,\n",
       " 'opTime': {'t': 2, 'ts': Timestamp(1505749029, 1)},\n",
       " 'updatedExisting': True}"
      ]
     },
     "metadata": {},
     "output_type": "display_data"
    },
    {
     "data": {
      "text/plain": [
       "{'electionId': ObjectId('7fffffff0000000000000002'),\n",
       " 'n': 1,\n",
       " 'nModified': 1,\n",
       " 'ok': 1.0,\n",
       " 'opTime': {'t': 2, 'ts': Timestamp(1505749029, 2)},\n",
       " 'updatedExisting': True}"
      ]
     },
     "metadata": {},
     "output_type": "display_data"
    },
    {
     "data": {
      "text/plain": [
       "{'electionId': ObjectId('7fffffff0000000000000002'),\n",
       " 'n': 1,\n",
       " 'nModified': 1,\n",
       " 'ok': 1.0,\n",
       " 'opTime': {'t': 2, 'ts': Timestamp(1505749030, 1)},\n",
       " 'updatedExisting': True}"
      ]
     },
     "metadata": {},
     "output_type": "display_data"
    },
    {
     "data": {
      "text/plain": [
       "{'electionId': ObjectId('7fffffff0000000000000002'),\n",
       " 'n': 1,\n",
       " 'nModified': 1,\n",
       " 'ok': 1.0,\n",
       " 'opTime': {'t': 2, 'ts': Timestamp(1505749031, 1)},\n",
       " 'updatedExisting': True}"
      ]
     },
     "metadata": {},
     "output_type": "display_data"
    },
    {
     "data": {
      "text/plain": [
       "{'electionId': ObjectId('7fffffff0000000000000002'),\n",
       " 'n': 1,\n",
       " 'nModified': 1,\n",
       " 'ok': 1.0,\n",
       " 'opTime': {'t': 2, 'ts': Timestamp(1505749032, 1)},\n",
       " 'updatedExisting': True}"
      ]
     },
     "metadata": {},
     "output_type": "display_data"
    },
    {
     "data": {
      "text/plain": [
       "{'electionId': ObjectId('7fffffff0000000000000002'),\n",
       " 'n': 1,\n",
       " 'nModified': 1,\n",
       " 'ok': 1.0,\n",
       " 'opTime': {'t': 2, 'ts': Timestamp(1505749032, 2)},\n",
       " 'updatedExisting': True}"
      ]
     },
     "metadata": {},
     "output_type": "display_data"
    },
    {
     "data": {
      "text/plain": [
       "{'electionId': ObjectId('7fffffff0000000000000002'),\n",
       " 'n': 1,\n",
       " 'nModified': 1,\n",
       " 'ok': 1.0,\n",
       " 'opTime': {'t': 2, 'ts': Timestamp(1505749033, 1)},\n",
       " 'updatedExisting': True}"
      ]
     },
     "metadata": {},
     "output_type": "display_data"
    },
    {
     "data": {
      "text/plain": [
       "{'electionId': ObjectId('7fffffff0000000000000002'),\n",
       " 'n': 1,\n",
       " 'nModified': 1,\n",
       " 'ok': 1.0,\n",
       " 'opTime': {'t': 2, 'ts': Timestamp(1505749034, 1)},\n",
       " 'updatedExisting': True}"
      ]
     },
     "metadata": {},
     "output_type": "display_data"
    },
    {
     "data": {
      "text/plain": [
       "{'electionId': ObjectId('7fffffff0000000000000002'),\n",
       " 'n': 1,\n",
       " 'nModified': 1,\n",
       " 'ok': 1.0,\n",
       " 'opTime': {'t': 2, 'ts': Timestamp(1505749034, 2)},\n",
       " 'updatedExisting': True}"
      ]
     },
     "metadata": {},
     "output_type": "display_data"
    },
    {
     "data": {
      "text/plain": [
       "{'electionId': ObjectId('7fffffff0000000000000002'),\n",
       " 'n': 1,\n",
       " 'nModified': 1,\n",
       " 'ok': 1.0,\n",
       " 'opTime': {'t': 2, 'ts': Timestamp(1505749036, 1)},\n",
       " 'updatedExisting': True}"
      ]
     },
     "metadata": {},
     "output_type": "display_data"
    },
    {
     "data": {
      "text/plain": [
       "{'electionId': ObjectId('7fffffff0000000000000002'),\n",
       " 'n': 1,\n",
       " 'nModified': 1,\n",
       " 'ok': 1.0,\n",
       " 'opTime': {'t': 2, 'ts': Timestamp(1505749036, 2)},\n",
       " 'updatedExisting': True}"
      ]
     },
     "metadata": {},
     "output_type": "display_data"
    },
    {
     "data": {
      "text/plain": [
       "{'electionId': ObjectId('7fffffff0000000000000002'),\n",
       " 'n': 1,\n",
       " 'nModified': 1,\n",
       " 'ok': 1.0,\n",
       " 'opTime': {'t': 2, 'ts': Timestamp(1505749037, 1)},\n",
       " 'updatedExisting': True}"
      ]
     },
     "metadata": {},
     "output_type": "display_data"
    },
    {
     "data": {
      "text/plain": [
       "{'electionId': ObjectId('7fffffff0000000000000002'),\n",
       " 'n': 1,\n",
       " 'nModified': 1,\n",
       " 'ok': 1.0,\n",
       " 'opTime': {'t': 2, 'ts': Timestamp(1505749038, 1)},\n",
       " 'updatedExisting': True}"
      ]
     },
     "metadata": {},
     "output_type": "display_data"
    },
    {
     "data": {
      "text/plain": [
       "{'electionId': ObjectId('7fffffff0000000000000002'),\n",
       " 'n': 1,\n",
       " 'nModified': 1,\n",
       " 'ok': 1.0,\n",
       " 'opTime': {'t': 2, 'ts': Timestamp(1505749039, 1)},\n",
       " 'updatedExisting': True}"
      ]
     },
     "metadata": {},
     "output_type": "display_data"
    },
    {
     "data": {
      "text/plain": [
       "{'electionId': ObjectId('7fffffff0000000000000002'),\n",
       " 'n': 1,\n",
       " 'nModified': 1,\n",
       " 'ok': 1.0,\n",
       " 'opTime': {'t': 2, 'ts': Timestamp(1505749042, 1)},\n",
       " 'updatedExisting': True}"
      ]
     },
     "metadata": {},
     "output_type": "display_data"
    },
    {
     "data": {
      "text/plain": [
       "{'electionId': ObjectId('7fffffff0000000000000002'),\n",
       " 'n': 1,\n",
       " 'nModified': 1,\n",
       " 'ok': 1.0,\n",
       " 'opTime': {'t': 2, 'ts': Timestamp(1505749043, 1)},\n",
       " 'updatedExisting': True}"
      ]
     },
     "metadata": {},
     "output_type": "display_data"
    },
    {
     "data": {
      "text/plain": [
       "{'electionId': ObjectId('7fffffff0000000000000002'),\n",
       " 'n': 1,\n",
       " 'nModified': 1,\n",
       " 'ok': 1.0,\n",
       " 'opTime': {'t': 2, 'ts': Timestamp(1505749043, 2)},\n",
       " 'updatedExisting': True}"
      ]
     },
     "metadata": {},
     "output_type": "display_data"
    },
    {
     "data": {
      "text/plain": [
       "{'electionId': ObjectId('7fffffff0000000000000002'),\n",
       " 'n': 1,\n",
       " 'nModified': 1,\n",
       " 'ok': 1.0,\n",
       " 'opTime': {'t': 2, 'ts': Timestamp(1505749043, 3)},\n",
       " 'updatedExisting': True}"
      ]
     },
     "metadata": {},
     "output_type": "display_data"
    },
    {
     "data": {
      "text/plain": [
       "{'electionId': ObjectId('7fffffff0000000000000002'),\n",
       " 'n': 1,\n",
       " 'nModified': 1,\n",
       " 'ok': 1.0,\n",
       " 'opTime': {'t': 2, 'ts': Timestamp(1505749044, 1)},\n",
       " 'updatedExisting': True}"
      ]
     },
     "metadata": {},
     "output_type": "display_data"
    },
    {
     "data": {
      "text/plain": [
       "{'electionId': ObjectId('7fffffff0000000000000002'),\n",
       " 'n': 1,\n",
       " 'nModified': 1,\n",
       " 'ok': 1.0,\n",
       " 'opTime': {'t': 2, 'ts': Timestamp(1505749045, 1)},\n",
       " 'updatedExisting': True}"
      ]
     },
     "metadata": {},
     "output_type": "display_data"
    },
    {
     "data": {
      "text/plain": [
       "{'electionId': ObjectId('7fffffff0000000000000002'),\n",
       " 'n': 1,\n",
       " 'nModified': 1,\n",
       " 'ok': 1.0,\n",
       " 'opTime': {'t': 2, 'ts': Timestamp(1505749045, 2)},\n",
       " 'updatedExisting': True}"
      ]
     },
     "metadata": {},
     "output_type": "display_data"
    },
    {
     "data": {
      "text/plain": [
       "{'electionId': ObjectId('7fffffff0000000000000002'),\n",
       " 'n': 1,\n",
       " 'nModified': 1,\n",
       " 'ok': 1.0,\n",
       " 'opTime': {'t': 2, 'ts': Timestamp(1505749046, 1)},\n",
       " 'updatedExisting': True}"
      ]
     },
     "metadata": {},
     "output_type": "display_data"
    },
    {
     "data": {
      "text/plain": [
       "{'electionId': ObjectId('7fffffff0000000000000002'),\n",
       " 'n': 1,\n",
       " 'nModified': 1,\n",
       " 'ok': 1.0,\n",
       " 'opTime': {'t': 2, 'ts': Timestamp(1505749047, 1)},\n",
       " 'updatedExisting': True}"
      ]
     },
     "metadata": {},
     "output_type": "display_data"
    },
    {
     "data": {
      "text/plain": [
       "{'electionId': ObjectId('7fffffff0000000000000002'),\n",
       " 'n': 1,\n",
       " 'nModified': 1,\n",
       " 'ok': 1.0,\n",
       " 'opTime': {'t': 2, 'ts': Timestamp(1505749048, 1)},\n",
       " 'updatedExisting': True}"
      ]
     },
     "metadata": {},
     "output_type": "display_data"
    },
    {
     "data": {
      "text/plain": [
       "{'electionId': ObjectId('7fffffff0000000000000002'),\n",
       " 'n': 1,\n",
       " 'nModified': 1,\n",
       " 'ok': 1.0,\n",
       " 'opTime': {'t': 2, 'ts': Timestamp(1505749049, 1)},\n",
       " 'updatedExisting': True}"
      ]
     },
     "metadata": {},
     "output_type": "display_data"
    },
    {
     "data": {
      "text/plain": [
       "{'electionId': ObjectId('7fffffff0000000000000002'),\n",
       " 'n': 1,\n",
       " 'nModified': 1,\n",
       " 'ok': 1.0,\n",
       " 'opTime': {'t': 2, 'ts': Timestamp(1505749050, 1)},\n",
       " 'updatedExisting': True}"
      ]
     },
     "metadata": {},
     "output_type": "display_data"
    },
    {
     "data": {
      "text/plain": [
       "{'electionId': ObjectId('7fffffff0000000000000002'),\n",
       " 'n': 1,\n",
       " 'nModified': 1,\n",
       " 'ok': 1.0,\n",
       " 'opTime': {'t': 2, 'ts': Timestamp(1505749051, 1)},\n",
       " 'updatedExisting': True}"
      ]
     },
     "metadata": {},
     "output_type": "display_data"
    },
    {
     "data": {
      "text/plain": [
       "{'electionId': ObjectId('7fffffff0000000000000002'),\n",
       " 'n': 1,\n",
       " 'nModified': 1,\n",
       " 'ok': 1.0,\n",
       " 'opTime': {'t': 2, 'ts': Timestamp(1505749052, 1)},\n",
       " 'updatedExisting': True}"
      ]
     },
     "metadata": {},
     "output_type": "display_data"
    },
    {
     "data": {
      "text/plain": [
       "{'electionId': ObjectId('7fffffff0000000000000002'),\n",
       " 'n': 1,\n",
       " 'nModified': 1,\n",
       " 'ok': 1.0,\n",
       " 'opTime': {'t': 2, 'ts': Timestamp(1505749053, 1)},\n",
       " 'updatedExisting': True}"
      ]
     },
     "metadata": {},
     "output_type": "display_data"
    },
    {
     "data": {
      "text/plain": [
       "{'electionId': ObjectId('7fffffff0000000000000002'),\n",
       " 'n': 1,\n",
       " 'nModified': 1,\n",
       " 'ok': 1.0,\n",
       " 'opTime': {'t': 2, 'ts': Timestamp(1505749054, 1)},\n",
       " 'updatedExisting': True}"
      ]
     },
     "metadata": {},
     "output_type": "display_data"
    },
    {
     "data": {
      "text/plain": [
       "{'electionId': ObjectId('7fffffff0000000000000002'),\n",
       " 'n': 1,\n",
       " 'nModified': 1,\n",
       " 'ok': 1.0,\n",
       " 'opTime': {'t': 2, 'ts': Timestamp(1505749054, 4)},\n",
       " 'updatedExisting': True}"
      ]
     },
     "metadata": {},
     "output_type": "display_data"
    },
    {
     "data": {
      "text/plain": [
       "{'electionId': ObjectId('7fffffff0000000000000002'),\n",
       " 'n': 1,\n",
       " 'nModified': 1,\n",
       " 'ok': 1.0,\n",
       " 'opTime': {'t': 2, 'ts': Timestamp(1505749055, 1)},\n",
       " 'updatedExisting': True}"
      ]
     },
     "metadata": {},
     "output_type": "display_data"
    },
    {
     "data": {
      "text/plain": [
       "{'electionId': ObjectId('7fffffff0000000000000002'),\n",
       " 'n': 1,\n",
       " 'nModified': 1,\n",
       " 'ok': 1.0,\n",
       " 'opTime': {'t': 2, 'ts': Timestamp(1505749055, 2)},\n",
       " 'updatedExisting': True}"
      ]
     },
     "metadata": {},
     "output_type": "display_data"
    },
    {
     "data": {
      "text/plain": [
       "{'electionId': ObjectId('7fffffff0000000000000002'),\n",
       " 'n': 1,\n",
       " 'nModified': 1,\n",
       " 'ok': 1.0,\n",
       " 'opTime': {'t': 2, 'ts': Timestamp(1505749056, 1)},\n",
       " 'updatedExisting': True}"
      ]
     },
     "metadata": {},
     "output_type": "display_data"
    },
    {
     "data": {
      "text/plain": [
       "{'electionId': ObjectId('7fffffff0000000000000002'),\n",
       " 'n': 1,\n",
       " 'nModified': 1,\n",
       " 'ok': 1.0,\n",
       " 'opTime': {'t': 2, 'ts': Timestamp(1505749057, 3)},\n",
       " 'updatedExisting': True}"
      ]
     },
     "metadata": {},
     "output_type": "display_data"
    },
    {
     "data": {
      "text/plain": [
       "{'electionId': ObjectId('7fffffff0000000000000002'),\n",
       " 'n': 1,\n",
       " 'nModified': 1,\n",
       " 'ok': 1.0,\n",
       " 'opTime': {'t': 2, 'ts': Timestamp(1505749058, 1)},\n",
       " 'updatedExisting': True}"
      ]
     },
     "metadata": {},
     "output_type": "display_data"
    },
    {
     "data": {
      "text/plain": [
       "{'electionId': ObjectId('7fffffff0000000000000002'),\n",
       " 'n': 1,\n",
       " 'nModified': 1,\n",
       " 'ok': 1.0,\n",
       " 'opTime': {'t': 2, 'ts': Timestamp(1505749058, 2)},\n",
       " 'updatedExisting': True}"
      ]
     },
     "metadata": {},
     "output_type": "display_data"
    },
    {
     "data": {
      "text/plain": [
       "{'electionId': ObjectId('7fffffff0000000000000002'),\n",
       " 'n': 1,\n",
       " 'nModified': 1,\n",
       " 'ok': 1.0,\n",
       " 'opTime': {'t': 2, 'ts': Timestamp(1505749059, 1)},\n",
       " 'updatedExisting': True}"
      ]
     },
     "metadata": {},
     "output_type": "display_data"
    },
    {
     "data": {
      "text/plain": [
       "{'electionId': ObjectId('7fffffff0000000000000002'),\n",
       " 'n': 1,\n",
       " 'nModified': 1,\n",
       " 'ok': 1.0,\n",
       " 'opTime': {'t': 2, 'ts': Timestamp(1505749059, 2)},\n",
       " 'updatedExisting': True}"
      ]
     },
     "metadata": {},
     "output_type": "display_data"
    },
    {
     "data": {
      "text/plain": [
       "{'electionId': ObjectId('7fffffff0000000000000002'),\n",
       " 'n': 1,\n",
       " 'nModified': 1,\n",
       " 'ok': 1.0,\n",
       " 'opTime': {'t': 2, 'ts': Timestamp(1505749060, 1)},\n",
       " 'updatedExisting': True}"
      ]
     },
     "metadata": {},
     "output_type": "display_data"
    },
    {
     "data": {
      "text/plain": [
       "{'electionId': ObjectId('7fffffff0000000000000002'),\n",
       " 'n': 1,\n",
       " 'nModified': 1,\n",
       " 'ok': 1.0,\n",
       " 'opTime': {'t': 2, 'ts': Timestamp(1505749060, 2)},\n",
       " 'updatedExisting': True}"
      ]
     },
     "metadata": {},
     "output_type": "display_data"
    },
    {
     "data": {
      "text/plain": [
       "{'electionId': ObjectId('7fffffff0000000000000002'),\n",
       " 'n': 1,\n",
       " 'nModified': 1,\n",
       " 'ok': 1.0,\n",
       " 'opTime': {'t': 2, 'ts': Timestamp(1505749061, 1)},\n",
       " 'updatedExisting': True}"
      ]
     },
     "metadata": {},
     "output_type": "display_data"
    },
    {
     "data": {
      "text/plain": [
       "{'electionId': ObjectId('7fffffff0000000000000002'),\n",
       " 'n': 1,\n",
       " 'nModified': 1,\n",
       " 'ok': 1.0,\n",
       " 'opTime': {'t': 2, 'ts': Timestamp(1505749061, 2)},\n",
       " 'updatedExisting': True}"
      ]
     },
     "metadata": {},
     "output_type": "display_data"
    },
    {
     "data": {
      "text/plain": [
       "{'electionId': ObjectId('7fffffff0000000000000002'),\n",
       " 'n': 1,\n",
       " 'nModified': 1,\n",
       " 'ok': 1.0,\n",
       " 'opTime': {'t': 2, 'ts': Timestamp(1505749062, 1)},\n",
       " 'updatedExisting': True}"
      ]
     },
     "metadata": {},
     "output_type": "display_data"
    },
    {
     "data": {
      "text/plain": [
       "{'electionId': ObjectId('7fffffff0000000000000002'),\n",
       " 'n': 1,\n",
       " 'nModified': 1,\n",
       " 'ok': 1.0,\n",
       " 'opTime': {'t': 2, 'ts': Timestamp(1505749063, 1)},\n",
       " 'updatedExisting': True}"
      ]
     },
     "metadata": {},
     "output_type": "display_data"
    },
    {
     "data": {
      "text/plain": [
       "{'electionId': ObjectId('7fffffff0000000000000002'),\n",
       " 'n': 1,\n",
       " 'nModified': 1,\n",
       " 'ok': 1.0,\n",
       " 'opTime': {'t': 2, 'ts': Timestamp(1505749063, 2)},\n",
       " 'updatedExisting': True}"
      ]
     },
     "metadata": {},
     "output_type": "display_data"
    },
    {
     "data": {
      "text/plain": [
       "{'electionId': ObjectId('7fffffff0000000000000002'),\n",
       " 'n': 1,\n",
       " 'nModified': 1,\n",
       " 'ok': 1.0,\n",
       " 'opTime': {'t': 2, 'ts': Timestamp(1505749064, 1)},\n",
       " 'updatedExisting': True}"
      ]
     },
     "metadata": {},
     "output_type": "display_data"
    },
    {
     "data": {
      "text/plain": [
       "{'electionId': ObjectId('7fffffff0000000000000002'),\n",
       " 'n': 1,\n",
       " 'nModified': 1,\n",
       " 'ok': 1.0,\n",
       " 'opTime': {'t': 2, 'ts': Timestamp(1505749064, 2)},\n",
       " 'updatedExisting': True}"
      ]
     },
     "metadata": {},
     "output_type": "display_data"
    },
    {
     "data": {
      "text/plain": [
       "{'electionId': ObjectId('7fffffff0000000000000002'),\n",
       " 'n': 1,\n",
       " 'nModified': 1,\n",
       " 'ok': 1.0,\n",
       " 'opTime': {'t': 2, 'ts': Timestamp(1505749065, 1)},\n",
       " 'updatedExisting': True}"
      ]
     },
     "metadata": {},
     "output_type": "display_data"
    },
    {
     "data": {
      "text/plain": [
       "{'electionId': ObjectId('7fffffff0000000000000002'),\n",
       " 'n': 1,\n",
       " 'nModified': 1,\n",
       " 'ok': 1.0,\n",
       " 'opTime': {'t': 2, 'ts': Timestamp(1505749066, 1)},\n",
       " 'updatedExisting': True}"
      ]
     },
     "metadata": {},
     "output_type": "display_data"
    },
    {
     "data": {
      "text/plain": [
       "{'electionId': ObjectId('7fffffff0000000000000002'),\n",
       " 'n': 1,\n",
       " 'nModified': 1,\n",
       " 'ok': 1.0,\n",
       " 'opTime': {'t': 2, 'ts': Timestamp(1505749066, 2)},\n",
       " 'updatedExisting': True}"
      ]
     },
     "metadata": {},
     "output_type": "display_data"
    },
    {
     "data": {
      "text/plain": [
       "{'electionId': ObjectId('7fffffff0000000000000002'),\n",
       " 'n': 1,\n",
       " 'nModified': 1,\n",
       " 'ok': 1.0,\n",
       " 'opTime': {'t': 2, 'ts': Timestamp(1505749067, 1)},\n",
       " 'updatedExisting': True}"
      ]
     },
     "metadata": {},
     "output_type": "display_data"
    },
    {
     "data": {
      "text/plain": [
       "{'electionId': ObjectId('7fffffff0000000000000002'),\n",
       " 'n': 1,\n",
       " 'nModified': 1,\n",
       " 'ok': 1.0,\n",
       " 'opTime': {'t': 2, 'ts': Timestamp(1505749067, 2)},\n",
       " 'updatedExisting': True}"
      ]
     },
     "metadata": {},
     "output_type": "display_data"
    },
    {
     "data": {
      "text/plain": [
       "{'electionId': ObjectId('7fffffff0000000000000002'),\n",
       " 'n': 1,\n",
       " 'nModified': 1,\n",
       " 'ok': 1.0,\n",
       " 'opTime': {'t': 2, 'ts': Timestamp(1505749068, 1)},\n",
       " 'updatedExisting': True}"
      ]
     },
     "metadata": {},
     "output_type": "display_data"
    },
    {
     "data": {
      "text/plain": [
       "{'electionId': ObjectId('7fffffff0000000000000002'),\n",
       " 'n': 1,\n",
       " 'nModified': 1,\n",
       " 'ok': 1.0,\n",
       " 'opTime': {'t': 2, 'ts': Timestamp(1505749069, 1)},\n",
       " 'updatedExisting': True}"
      ]
     },
     "metadata": {},
     "output_type": "display_data"
    },
    {
     "data": {
      "text/plain": [
       "{'electionId': ObjectId('7fffffff0000000000000002'),\n",
       " 'n': 1,\n",
       " 'nModified': 1,\n",
       " 'ok': 1.0,\n",
       " 'opTime': {'t': 2, 'ts': Timestamp(1505749069, 2)},\n",
       " 'updatedExisting': True}"
      ]
     },
     "metadata": {},
     "output_type": "display_data"
    },
    {
     "data": {
      "text/plain": [
       "{'electionId': ObjectId('7fffffff0000000000000002'),\n",
       " 'n': 1,\n",
       " 'nModified': 1,\n",
       " 'ok': 1.0,\n",
       " 'opTime': {'t': 2, 'ts': Timestamp(1505749070, 1)},\n",
       " 'updatedExisting': True}"
      ]
     },
     "metadata": {},
     "output_type": "display_data"
    },
    {
     "data": {
      "text/plain": [
       "{'electionId': ObjectId('7fffffff0000000000000002'),\n",
       " 'n': 1,\n",
       " 'nModified': 1,\n",
       " 'ok': 1.0,\n",
       " 'opTime': {'t': 2, 'ts': Timestamp(1505749071, 1)},\n",
       " 'updatedExisting': True}"
      ]
     },
     "metadata": {},
     "output_type": "display_data"
    },
    {
     "data": {
      "text/plain": [
       "{'electionId': ObjectId('7fffffff0000000000000002'),\n",
       " 'n': 1,\n",
       " 'nModified': 1,\n",
       " 'ok': 1.0,\n",
       " 'opTime': {'t': 2, 'ts': Timestamp(1505749072, 1)},\n",
       " 'updatedExisting': True}"
      ]
     },
     "metadata": {},
     "output_type": "display_data"
    },
    {
     "data": {
      "text/plain": [
       "{'electionId': ObjectId('7fffffff0000000000000002'),\n",
       " 'n': 1,\n",
       " 'nModified': 1,\n",
       " 'ok': 1.0,\n",
       " 'opTime': {'t': 2, 'ts': Timestamp(1505749073, 1)},\n",
       " 'updatedExisting': True}"
      ]
     },
     "metadata": {},
     "output_type": "display_data"
    },
    {
     "data": {
      "text/plain": [
       "{'electionId': ObjectId('7fffffff0000000000000002'),\n",
       " 'n': 1,\n",
       " 'nModified': 1,\n",
       " 'ok': 1.0,\n",
       " 'opTime': {'t': 2, 'ts': Timestamp(1505749074, 1)},\n",
       " 'updatedExisting': True}"
      ]
     },
     "metadata": {},
     "output_type": "display_data"
    },
    {
     "data": {
      "text/plain": [
       "{'electionId': ObjectId('7fffffff0000000000000002'),\n",
       " 'n': 1,\n",
       " 'nModified': 1,\n",
       " 'ok': 1.0,\n",
       " 'opTime': {'t': 2, 'ts': Timestamp(1505749074, 2)},\n",
       " 'updatedExisting': True}"
      ]
     },
     "metadata": {},
     "output_type": "display_data"
    },
    {
     "data": {
      "text/plain": [
       "{'electionId': ObjectId('7fffffff0000000000000002'),\n",
       " 'n': 1,\n",
       " 'nModified': 1,\n",
       " 'ok': 1.0,\n",
       " 'opTime': {'t': 2, 'ts': Timestamp(1505749075, 1)},\n",
       " 'updatedExisting': True}"
      ]
     },
     "metadata": {},
     "output_type": "display_data"
    },
    {
     "data": {
      "text/plain": [
       "{'electionId': ObjectId('7fffffff0000000000000002'),\n",
       " 'n': 1,\n",
       " 'nModified': 1,\n",
       " 'ok': 1.0,\n",
       " 'opTime': {'t': 2, 'ts': Timestamp(1505749076, 1)},\n",
       " 'updatedExisting': True}"
      ]
     },
     "metadata": {},
     "output_type": "display_data"
    },
    {
     "data": {
      "text/plain": [
       "{'electionId': ObjectId('7fffffff0000000000000002'),\n",
       " 'n': 1,\n",
       " 'nModified': 1,\n",
       " 'ok': 1.0,\n",
       " 'opTime': {'t': 2, 'ts': Timestamp(1505749076, 2)},\n",
       " 'updatedExisting': True}"
      ]
     },
     "metadata": {},
     "output_type": "display_data"
    },
    {
     "data": {
      "text/plain": [
       "{'electionId': ObjectId('7fffffff0000000000000002'),\n",
       " 'n': 1,\n",
       " 'nModified': 1,\n",
       " 'ok': 1.0,\n",
       " 'opTime': {'t': 2, 'ts': Timestamp(1505749077, 1)},\n",
       " 'updatedExisting': True}"
      ]
     },
     "metadata": {},
     "output_type": "display_data"
    },
    {
     "data": {
      "text/plain": [
       "{'electionId': ObjectId('7fffffff0000000000000002'),\n",
       " 'n': 1,\n",
       " 'nModified': 1,\n",
       " 'ok': 1.0,\n",
       " 'opTime': {'t': 2, 'ts': Timestamp(1505749078, 1)},\n",
       " 'updatedExisting': True}"
      ]
     },
     "metadata": {},
     "output_type": "display_data"
    },
    {
     "data": {
      "text/plain": [
       "{'electionId': ObjectId('7fffffff0000000000000002'),\n",
       " 'n': 1,\n",
       " 'nModified': 1,\n",
       " 'ok': 1.0,\n",
       " 'opTime': {'t': 2, 'ts': Timestamp(1505749078, 2)},\n",
       " 'updatedExisting': True}"
      ]
     },
     "metadata": {},
     "output_type": "display_data"
    },
    {
     "data": {
      "text/plain": [
       "{'electionId': ObjectId('7fffffff0000000000000002'),\n",
       " 'n': 1,\n",
       " 'nModified': 1,\n",
       " 'ok': 1.0,\n",
       " 'opTime': {'t': 2, 'ts': Timestamp(1505749078, 3)},\n",
       " 'updatedExisting': True}"
      ]
     },
     "metadata": {},
     "output_type": "display_data"
    },
    {
     "data": {
      "text/plain": [
       "{'electionId': ObjectId('7fffffff0000000000000002'),\n",
       " 'n': 1,\n",
       " 'nModified': 1,\n",
       " 'ok': 1.0,\n",
       " 'opTime': {'t': 2, 'ts': Timestamp(1505749079, 1)},\n",
       " 'updatedExisting': True}"
      ]
     },
     "metadata": {},
     "output_type": "display_data"
    },
    {
     "data": {
      "text/plain": [
       "{'electionId': ObjectId('7fffffff0000000000000002'),\n",
       " 'n': 1,\n",
       " 'nModified': 1,\n",
       " 'ok': 1.0,\n",
       " 'opTime': {'t': 2, 'ts': Timestamp(1505749079, 2)},\n",
       " 'updatedExisting': True}"
      ]
     },
     "metadata": {},
     "output_type": "display_data"
    },
    {
     "data": {
      "text/plain": [
       "{'electionId': ObjectId('7fffffff0000000000000002'),\n",
       " 'n': 1,\n",
       " 'nModified': 1,\n",
       " 'ok': 1.0,\n",
       " 'opTime': {'t': 2, 'ts': Timestamp(1505749080, 1)},\n",
       " 'updatedExisting': True}"
      ]
     },
     "metadata": {},
     "output_type": "display_data"
    },
    {
     "data": {
      "text/plain": [
       "{'electionId': ObjectId('7fffffff0000000000000002'),\n",
       " 'n': 1,\n",
       " 'nModified': 1,\n",
       " 'ok': 1.0,\n",
       " 'opTime': {'t': 2, 'ts': Timestamp(1505749080, 2)},\n",
       " 'updatedExisting': True}"
      ]
     },
     "metadata": {},
     "output_type": "display_data"
    },
    {
     "data": {
      "text/plain": [
       "{'electionId': ObjectId('7fffffff0000000000000002'),\n",
       " 'n': 1,\n",
       " 'nModified': 1,\n",
       " 'ok': 1.0,\n",
       " 'opTime': {'t': 2, 'ts': Timestamp(1505749081, 1)},\n",
       " 'updatedExisting': True}"
      ]
     },
     "metadata": {},
     "output_type": "display_data"
    },
    {
     "data": {
      "text/plain": [
       "{'electionId': ObjectId('7fffffff0000000000000002'),\n",
       " 'n': 1,\n",
       " 'nModified': 1,\n",
       " 'ok': 1.0,\n",
       " 'opTime': {'t': 2, 'ts': Timestamp(1505749081, 2)},\n",
       " 'updatedExisting': True}"
      ]
     },
     "metadata": {},
     "output_type": "display_data"
    },
    {
     "data": {
      "text/plain": [
       "{'electionId': ObjectId('7fffffff0000000000000002'),\n",
       " 'n': 1,\n",
       " 'nModified': 1,\n",
       " 'ok': 1.0,\n",
       " 'opTime': {'t': 2, 'ts': Timestamp(1505749082, 1)},\n",
       " 'updatedExisting': True}"
      ]
     },
     "metadata": {},
     "output_type": "display_data"
    },
    {
     "data": {
      "text/plain": [
       "{'electionId': ObjectId('7fffffff0000000000000002'),\n",
       " 'n': 1,\n",
       " 'nModified': 1,\n",
       " 'ok': 1.0,\n",
       " 'opTime': {'t': 2, 'ts': Timestamp(1505749082, 2)},\n",
       " 'updatedExisting': True}"
      ]
     },
     "metadata": {},
     "output_type": "display_data"
    },
    {
     "data": {
      "text/plain": [
       "{'electionId': ObjectId('7fffffff0000000000000002'),\n",
       " 'n': 1,\n",
       " 'nModified': 1,\n",
       " 'ok': 1.0,\n",
       " 'opTime': {'t': 2, 'ts': Timestamp(1505749082, 3)},\n",
       " 'updatedExisting': True}"
      ]
     },
     "metadata": {},
     "output_type": "display_data"
    },
    {
     "data": {
      "text/plain": [
       "{'electionId': ObjectId('7fffffff0000000000000002'),\n",
       " 'n': 1,\n",
       " 'nModified': 1,\n",
       " 'ok': 1.0,\n",
       " 'opTime': {'t': 2, 'ts': Timestamp(1505749083, 1)},\n",
       " 'updatedExisting': True}"
      ]
     },
     "metadata": {},
     "output_type": "display_data"
    },
    {
     "data": {
      "text/plain": [
       "{'electionId': ObjectId('7fffffff0000000000000002'),\n",
       " 'n': 1,\n",
       " 'nModified': 1,\n",
       " 'ok': 1.0,\n",
       " 'opTime': {'t': 2, 'ts': Timestamp(1505749083, 2)},\n",
       " 'updatedExisting': True}"
      ]
     },
     "metadata": {},
     "output_type": "display_data"
    },
    {
     "data": {
      "text/plain": [
       "{'electionId': ObjectId('7fffffff0000000000000002'),\n",
       " 'n': 1,\n",
       " 'nModified': 1,\n",
       " 'ok': 1.0,\n",
       " 'opTime': {'t': 2, 'ts': Timestamp(1505749083, 3)},\n",
       " 'updatedExisting': True}"
      ]
     },
     "metadata": {},
     "output_type": "display_data"
    },
    {
     "data": {
      "text/plain": [
       "{'electionId': ObjectId('7fffffff0000000000000002'),\n",
       " 'n': 1,\n",
       " 'nModified': 1,\n",
       " 'ok': 1.0,\n",
       " 'opTime': {'t': 2, 'ts': Timestamp(1505749084, 1)},\n",
       " 'updatedExisting': True}"
      ]
     },
     "metadata": {},
     "output_type": "display_data"
    },
    {
     "data": {
      "text/plain": [
       "{'electionId': ObjectId('7fffffff0000000000000002'),\n",
       " 'n': 1,\n",
       " 'nModified': 1,\n",
       " 'ok': 1.0,\n",
       " 'opTime': {'t': 2, 'ts': Timestamp(1505749084, 2)},\n",
       " 'updatedExisting': True}"
      ]
     },
     "metadata": {},
     "output_type": "display_data"
    },
    {
     "data": {
      "text/plain": [
       "{'electionId': ObjectId('7fffffff0000000000000002'),\n",
       " 'n': 1,\n",
       " 'nModified': 1,\n",
       " 'ok': 1.0,\n",
       " 'opTime': {'t': 2, 'ts': Timestamp(1505749085, 1)},\n",
       " 'updatedExisting': True}"
      ]
     },
     "metadata": {},
     "output_type": "display_data"
    },
    {
     "data": {
      "text/plain": [
       "{'electionId': ObjectId('7fffffff0000000000000002'),\n",
       " 'n': 1,\n",
       " 'nModified': 1,\n",
       " 'ok': 1.0,\n",
       " 'opTime': {'t': 2, 'ts': Timestamp(1505749085, 2)},\n",
       " 'updatedExisting': True}"
      ]
     },
     "metadata": {},
     "output_type": "display_data"
    },
    {
     "data": {
      "text/plain": [
       "{'electionId': ObjectId('7fffffff0000000000000002'),\n",
       " 'n': 1,\n",
       " 'nModified': 1,\n",
       " 'ok': 1.0,\n",
       " 'opTime': {'t': 2, 'ts': Timestamp(1505749086, 1)},\n",
       " 'updatedExisting': True}"
      ]
     },
     "metadata": {},
     "output_type": "display_data"
    },
    {
     "data": {
      "text/plain": [
       "{'electionId': ObjectId('7fffffff0000000000000002'),\n",
       " 'n': 1,\n",
       " 'nModified': 1,\n",
       " 'ok': 1.0,\n",
       " 'opTime': {'t': 2, 'ts': Timestamp(1505749086, 2)},\n",
       " 'updatedExisting': True}"
      ]
     },
     "metadata": {},
     "output_type": "display_data"
    },
    {
     "data": {
      "text/plain": [
       "{'electionId': ObjectId('7fffffff0000000000000002'),\n",
       " 'n': 1,\n",
       " 'nModified': 1,\n",
       " 'ok': 1.0,\n",
       " 'opTime': {'t': 2, 'ts': Timestamp(1505749087, 1)},\n",
       " 'updatedExisting': True}"
      ]
     },
     "metadata": {},
     "output_type": "display_data"
    },
    {
     "data": {
      "text/plain": [
       "{'electionId': ObjectId('7fffffff0000000000000002'),\n",
       " 'n': 1,\n",
       " 'nModified': 1,\n",
       " 'ok': 1.0,\n",
       " 'opTime': {'t': 2, 'ts': Timestamp(1505749087, 2)},\n",
       " 'updatedExisting': True}"
      ]
     },
     "metadata": {},
     "output_type": "display_data"
    },
    {
     "data": {
      "text/plain": [
       "{'electionId': ObjectId('7fffffff0000000000000002'),\n",
       " 'n': 1,\n",
       " 'nModified': 1,\n",
       " 'ok': 1.0,\n",
       " 'opTime': {'t': 2, 'ts': Timestamp(1505749087, 3)},\n",
       " 'updatedExisting': True}"
      ]
     },
     "metadata": {},
     "output_type": "display_data"
    },
    {
     "data": {
      "text/plain": [
       "{'electionId': ObjectId('7fffffff0000000000000002'),\n",
       " 'n': 1,\n",
       " 'nModified': 1,\n",
       " 'ok': 1.0,\n",
       " 'opTime': {'t': 2, 'ts': Timestamp(1505749088, 1)},\n",
       " 'updatedExisting': True}"
      ]
     },
     "metadata": {},
     "output_type": "display_data"
    },
    {
     "data": {
      "text/plain": [
       "{'electionId': ObjectId('7fffffff0000000000000002'),\n",
       " 'n': 1,\n",
       " 'nModified': 1,\n",
       " 'ok': 1.0,\n",
       " 'opTime': {'t': 2, 'ts': Timestamp(1505749088, 2)},\n",
       " 'updatedExisting': True}"
      ]
     },
     "metadata": {},
     "output_type": "display_data"
    },
    {
     "data": {
      "text/plain": [
       "{'electionId': ObjectId('7fffffff0000000000000002'),\n",
       " 'n': 1,\n",
       " 'nModified': 1,\n",
       " 'ok': 1.0,\n",
       " 'opTime': {'t': 2, 'ts': Timestamp(1505749089, 1)},\n",
       " 'updatedExisting': True}"
      ]
     },
     "metadata": {},
     "output_type": "display_data"
    },
    {
     "data": {
      "text/plain": [
       "{'electionId': ObjectId('7fffffff0000000000000002'),\n",
       " 'n': 1,\n",
       " 'nModified': 1,\n",
       " 'ok': 1.0,\n",
       " 'opTime': {'t': 2, 'ts': Timestamp(1505749089, 2)},\n",
       " 'updatedExisting': True}"
      ]
     },
     "metadata": {},
     "output_type": "display_data"
    },
    {
     "data": {
      "text/plain": [
       "{'electionId': ObjectId('7fffffff0000000000000002'),\n",
       " 'n': 1,\n",
       " 'nModified': 1,\n",
       " 'ok': 1.0,\n",
       " 'opTime': {'t': 2, 'ts': Timestamp(1505749090, 1)},\n",
       " 'updatedExisting': True}"
      ]
     },
     "metadata": {},
     "output_type": "display_data"
    },
    {
     "data": {
      "text/plain": [
       "{'electionId': ObjectId('7fffffff0000000000000002'),\n",
       " 'n': 1,\n",
       " 'nModified': 1,\n",
       " 'ok': 1.0,\n",
       " 'opTime': {'t': 2, 'ts': Timestamp(1505749090, 2)},\n",
       " 'updatedExisting': True}"
      ]
     },
     "metadata": {},
     "output_type": "display_data"
    },
    {
     "data": {
      "text/plain": [
       "{'electionId': ObjectId('7fffffff0000000000000002'),\n",
       " 'n': 1,\n",
       " 'nModified': 1,\n",
       " 'ok': 1.0,\n",
       " 'opTime': {'t': 2, 'ts': Timestamp(1505749091, 1)},\n",
       " 'updatedExisting': True}"
      ]
     },
     "metadata": {},
     "output_type": "display_data"
    },
    {
     "data": {
      "text/plain": [
       "{'electionId': ObjectId('7fffffff0000000000000002'),\n",
       " 'n': 1,\n",
       " 'nModified': 1,\n",
       " 'ok': 1.0,\n",
       " 'opTime': {'t': 2, 'ts': Timestamp(1505749091, 2)},\n",
       " 'updatedExisting': True}"
      ]
     },
     "metadata": {},
     "output_type": "display_data"
    },
    {
     "data": {
      "text/plain": [
       "{'electionId': ObjectId('7fffffff0000000000000002'),\n",
       " 'n': 1,\n",
       " 'nModified': 1,\n",
       " 'ok': 1.0,\n",
       " 'opTime': {'t': 2, 'ts': Timestamp(1505749092, 1)},\n",
       " 'updatedExisting': True}"
      ]
     },
     "metadata": {},
     "output_type": "display_data"
    },
    {
     "data": {
      "text/plain": [
       "{'electionId': ObjectId('7fffffff0000000000000002'),\n",
       " 'n': 1,\n",
       " 'nModified': 1,\n",
       " 'ok': 1.0,\n",
       " 'opTime': {'t': 2, 'ts': Timestamp(1505749092, 2)},\n",
       " 'updatedExisting': True}"
      ]
     },
     "metadata": {},
     "output_type": "display_data"
    },
    {
     "data": {
      "text/plain": [
       "{'electionId': ObjectId('7fffffff0000000000000002'),\n",
       " 'n': 1,\n",
       " 'nModified': 1,\n",
       " 'ok': 1.0,\n",
       " 'opTime': {'t': 2, 'ts': Timestamp(1505749093, 1)},\n",
       " 'updatedExisting': True}"
      ]
     },
     "metadata": {},
     "output_type": "display_data"
    },
    {
     "data": {
      "text/plain": [
       "{'electionId': ObjectId('7fffffff0000000000000002'),\n",
       " 'n': 1,\n",
       " 'nModified': 1,\n",
       " 'ok': 1.0,\n",
       " 'opTime': {'t': 2, 'ts': Timestamp(1505749094, 1)},\n",
       " 'updatedExisting': True}"
      ]
     },
     "metadata": {},
     "output_type": "display_data"
    },
    {
     "data": {
      "text/plain": [
       "{'electionId': ObjectId('7fffffff0000000000000002'),\n",
       " 'n': 1,\n",
       " 'nModified': 1,\n",
       " 'ok': 1.0,\n",
       " 'opTime': {'t': 2, 'ts': Timestamp(1505749094, 2)},\n",
       " 'updatedExisting': True}"
      ]
     },
     "metadata": {},
     "output_type": "display_data"
    },
    {
     "data": {
      "text/plain": [
       "{'electionId': ObjectId('7fffffff0000000000000002'),\n",
       " 'n': 1,\n",
       " 'nModified': 1,\n",
       " 'ok': 1.0,\n",
       " 'opTime': {'t': 2, 'ts': Timestamp(1505749095, 1)},\n",
       " 'updatedExisting': True}"
      ]
     },
     "metadata": {},
     "output_type": "display_data"
    },
    {
     "data": {
      "text/plain": [
       "{'electionId': ObjectId('7fffffff0000000000000002'),\n",
       " 'n': 1,\n",
       " 'nModified': 1,\n",
       " 'ok': 1.0,\n",
       " 'opTime': {'t': 2, 'ts': Timestamp(1505749096, 1)},\n",
       " 'updatedExisting': True}"
      ]
     },
     "metadata": {},
     "output_type": "display_data"
    },
    {
     "data": {
      "text/plain": [
       "{'electionId': ObjectId('7fffffff0000000000000002'),\n",
       " 'n': 1,\n",
       " 'nModified': 1,\n",
       " 'ok': 1.0,\n",
       " 'opTime': {'t': 2, 'ts': Timestamp(1505749096, 2)},\n",
       " 'updatedExisting': True}"
      ]
     },
     "metadata": {},
     "output_type": "display_data"
    },
    {
     "data": {
      "text/plain": [
       "{'electionId': ObjectId('7fffffff0000000000000002'),\n",
       " 'n': 1,\n",
       " 'nModified': 1,\n",
       " 'ok': 1.0,\n",
       " 'opTime': {'t': 2, 'ts': Timestamp(1505749097, 1)},\n",
       " 'updatedExisting': True}"
      ]
     },
     "metadata": {},
     "output_type": "display_data"
    },
    {
     "data": {
      "text/plain": [
       "{'electionId': ObjectId('7fffffff0000000000000002'),\n",
       " 'n': 1,\n",
       " 'nModified': 1,\n",
       " 'ok': 1.0,\n",
       " 'opTime': {'t': 2, 'ts': Timestamp(1505749098, 1)},\n",
       " 'updatedExisting': True}"
      ]
     },
     "metadata": {},
     "output_type": "display_data"
    },
    {
     "data": {
      "text/plain": [
       "{'electionId': ObjectId('7fffffff0000000000000002'),\n",
       " 'n': 1,\n",
       " 'nModified': 1,\n",
       " 'ok': 1.0,\n",
       " 'opTime': {'t': 2, 'ts': Timestamp(1505749098, 2)},\n",
       " 'updatedExisting': True}"
      ]
     },
     "metadata": {},
     "output_type": "display_data"
    },
    {
     "data": {
      "text/plain": [
       "{'electionId': ObjectId('7fffffff0000000000000002'),\n",
       " 'n': 1,\n",
       " 'nModified': 1,\n",
       " 'ok': 1.0,\n",
       " 'opTime': {'t': 2, 'ts': Timestamp(1505749099, 1)},\n",
       " 'updatedExisting': True}"
      ]
     },
     "metadata": {},
     "output_type": "display_data"
    },
    {
     "data": {
      "text/plain": [
       "{'electionId': ObjectId('7fffffff0000000000000002'),\n",
       " 'n': 1,\n",
       " 'nModified': 1,\n",
       " 'ok': 1.0,\n",
       " 'opTime': {'t': 2, 'ts': Timestamp(1505749100, 1)},\n",
       " 'updatedExisting': True}"
      ]
     },
     "metadata": {},
     "output_type": "display_data"
    },
    {
     "data": {
      "text/plain": [
       "{'electionId': ObjectId('7fffffff0000000000000002'),\n",
       " 'n': 1,\n",
       " 'nModified': 1,\n",
       " 'ok': 1.0,\n",
       " 'opTime': {'t': 2, 'ts': Timestamp(1505749101, 1)},\n",
       " 'updatedExisting': True}"
      ]
     },
     "metadata": {},
     "output_type": "display_data"
    },
    {
     "data": {
      "text/plain": [
       "{'electionId': ObjectId('7fffffff0000000000000002'),\n",
       " 'n': 1,\n",
       " 'nModified': 1,\n",
       " 'ok': 1.0,\n",
       " 'opTime': {'t': 2, 'ts': Timestamp(1505749102, 1)},\n",
       " 'updatedExisting': True}"
      ]
     },
     "metadata": {},
     "output_type": "display_data"
    },
    {
     "data": {
      "text/plain": [
       "{'electionId': ObjectId('7fffffff0000000000000002'),\n",
       " 'n': 1,\n",
       " 'nModified': 1,\n",
       " 'ok': 1.0,\n",
       " 'opTime': {'t': 2, 'ts': Timestamp(1505749103, 1)},\n",
       " 'updatedExisting': True}"
      ]
     },
     "metadata": {},
     "output_type": "display_data"
    },
    {
     "data": {
      "text/plain": [
       "{'electionId': ObjectId('7fffffff0000000000000002'),\n",
       " 'n': 1,\n",
       " 'nModified': 1,\n",
       " 'ok': 1.0,\n",
       " 'opTime': {'t': 2, 'ts': Timestamp(1505749104, 1)},\n",
       " 'updatedExisting': True}"
      ]
     },
     "metadata": {},
     "output_type": "display_data"
    },
    {
     "data": {
      "text/plain": [
       "{'electionId': ObjectId('7fffffff0000000000000002'),\n",
       " 'n': 1,\n",
       " 'nModified': 1,\n",
       " 'ok': 1.0,\n",
       " 'opTime': {'t': 2, 'ts': Timestamp(1505749106, 1)},\n",
       " 'updatedExisting': True}"
      ]
     },
     "metadata": {},
     "output_type": "display_data"
    },
    {
     "data": {
      "text/plain": [
       "{'electionId': ObjectId('7fffffff0000000000000002'),\n",
       " 'n': 1,\n",
       " 'nModified': 1,\n",
       " 'ok': 1.0,\n",
       " 'opTime': {'t': 2, 'ts': Timestamp(1505749108, 1)},\n",
       " 'updatedExisting': True}"
      ]
     },
     "metadata": {},
     "output_type": "display_data"
    },
    {
     "data": {
      "text/plain": [
       "{'electionId': ObjectId('7fffffff0000000000000002'),\n",
       " 'n': 1,\n",
       " 'nModified': 1,\n",
       " 'ok': 1.0,\n",
       " 'opTime': {'t': 2, 'ts': Timestamp(1505749109, 1)},\n",
       " 'updatedExisting': True}"
      ]
     },
     "metadata": {},
     "output_type": "display_data"
    },
    {
     "data": {
      "text/plain": [
       "{'electionId': ObjectId('7fffffff0000000000000002'),\n",
       " 'n': 1,\n",
       " 'nModified': 1,\n",
       " 'ok': 1.0,\n",
       " 'opTime': {'t': 2, 'ts': Timestamp(1505749110, 1)},\n",
       " 'updatedExisting': True}"
      ]
     },
     "metadata": {},
     "output_type": "display_data"
    },
    {
     "data": {
      "text/plain": [
       "{'electionId': ObjectId('7fffffff0000000000000002'),\n",
       " 'n': 1,\n",
       " 'nModified': 1,\n",
       " 'ok': 1.0,\n",
       " 'opTime': {'t': 2, 'ts': Timestamp(1505749112, 1)},\n",
       " 'updatedExisting': True}"
      ]
     },
     "metadata": {},
     "output_type": "display_data"
    },
    {
     "data": {
      "text/plain": [
       "{'electionId': ObjectId('7fffffff0000000000000002'),\n",
       " 'n': 1,\n",
       " 'nModified': 1,\n",
       " 'ok': 1.0,\n",
       " 'opTime': {'t': 2, 'ts': Timestamp(1505749114, 1)},\n",
       " 'updatedExisting': True}"
      ]
     },
     "metadata": {},
     "output_type": "display_data"
    },
    {
     "data": {
      "text/plain": [
       "{'electionId': ObjectId('7fffffff0000000000000002'),\n",
       " 'n': 1,\n",
       " 'nModified': 1,\n",
       " 'ok': 1.0,\n",
       " 'opTime': {'t': 2, 'ts': Timestamp(1505749116, 1)},\n",
       " 'updatedExisting': True}"
      ]
     },
     "metadata": {},
     "output_type": "display_data"
    },
    {
     "data": {
      "text/plain": [
       "{'electionId': ObjectId('7fffffff0000000000000002'),\n",
       " 'n': 1,\n",
       " 'nModified': 1,\n",
       " 'ok': 1.0,\n",
       " 'opTime': {'t': 2, 'ts': Timestamp(1505749118, 1)},\n",
       " 'updatedExisting': True}"
      ]
     },
     "metadata": {},
     "output_type": "display_data"
    },
    {
     "data": {
      "text/plain": [
       "{'electionId': ObjectId('7fffffff0000000000000002'),\n",
       " 'n': 1,\n",
       " 'nModified': 1,\n",
       " 'ok': 1.0,\n",
       " 'opTime': {'t': 2, 'ts': Timestamp(1505749120, 1)},\n",
       " 'updatedExisting': True}"
      ]
     },
     "metadata": {},
     "output_type": "display_data"
    },
    {
     "data": {
      "text/plain": [
       "{'electionId': ObjectId('7fffffff0000000000000002'),\n",
       " 'n': 1,\n",
       " 'nModified': 1,\n",
       " 'ok': 1.0,\n",
       " 'opTime': {'t': 2, 'ts': Timestamp(1505749122, 1)},\n",
       " 'updatedExisting': True}"
      ]
     },
     "metadata": {},
     "output_type": "display_data"
    },
    {
     "data": {
      "text/plain": [
       "{'electionId': ObjectId('7fffffff0000000000000002'),\n",
       " 'n': 1,\n",
       " 'nModified': 1,\n",
       " 'ok': 1.0,\n",
       " 'opTime': {'t': 2, 'ts': Timestamp(1505749124, 1)},\n",
       " 'updatedExisting': True}"
      ]
     },
     "metadata": {},
     "output_type": "display_data"
    },
    {
     "data": {
      "text/plain": [
       "{'electionId': ObjectId('7fffffff0000000000000002'),\n",
       " 'n': 1,\n",
       " 'nModified': 1,\n",
       " 'ok': 1.0,\n",
       " 'opTime': {'t': 2, 'ts': Timestamp(1505749128, 1)},\n",
       " 'updatedExisting': True}"
      ]
     },
     "metadata": {},
     "output_type": "display_data"
    },
    {
     "data": {
      "text/plain": [
       "{'electionId': ObjectId('7fffffff0000000000000002'),\n",
       " 'n': 1,\n",
       " 'nModified': 1,\n",
       " 'ok': 1.0,\n",
       " 'opTime': {'t': 2, 'ts': Timestamp(1505749130, 1)},\n",
       " 'updatedExisting': True}"
      ]
     },
     "metadata": {},
     "output_type": "display_data"
    },
    {
     "data": {
      "text/plain": [
       "{'electionId': ObjectId('7fffffff0000000000000002'),\n",
       " 'n': 1,\n",
       " 'nModified': 1,\n",
       " 'ok': 1.0,\n",
       " 'opTime': {'t': 2, 'ts': Timestamp(1505749132, 1)},\n",
       " 'updatedExisting': True}"
      ]
     },
     "metadata": {},
     "output_type": "display_data"
    },
    {
     "data": {
      "text/plain": [
       "{'electionId': ObjectId('7fffffff0000000000000002'),\n",
       " 'n': 1,\n",
       " 'nModified': 1,\n",
       " 'ok': 1.0,\n",
       " 'opTime': {'t': 2, 'ts': Timestamp(1505749134, 1)},\n",
       " 'updatedExisting': True}"
      ]
     },
     "metadata": {},
     "output_type": "display_data"
    },
    {
     "data": {
      "text/plain": [
       "{'electionId': ObjectId('7fffffff0000000000000002'),\n",
       " 'n': 1,\n",
       " 'nModified': 1,\n",
       " 'ok': 1.0,\n",
       " 'opTime': {'t': 2, 'ts': Timestamp(1505749136, 1)},\n",
       " 'updatedExisting': True}"
      ]
     },
     "metadata": {},
     "output_type": "display_data"
    },
    {
     "data": {
      "text/plain": [
       "{'electionId': ObjectId('7fffffff0000000000000002'),\n",
       " 'n': 1,\n",
       " 'nModified': 1,\n",
       " 'ok': 1.0,\n",
       " 'opTime': {'t': 2, 'ts': Timestamp(1505749137, 1)},\n",
       " 'updatedExisting': True}"
      ]
     },
     "metadata": {},
     "output_type": "display_data"
    },
    {
     "data": {
      "text/plain": [
       "{'electionId': ObjectId('7fffffff0000000000000002'),\n",
       " 'n': 1,\n",
       " 'nModified': 1,\n",
       " 'ok': 1.0,\n",
       " 'opTime': {'t': 2, 'ts': Timestamp(1505749138, 1)},\n",
       " 'updatedExisting': True}"
      ]
     },
     "metadata": {},
     "output_type": "display_data"
    },
    {
     "data": {
      "text/plain": [
       "{'electionId': ObjectId('7fffffff0000000000000002'),\n",
       " 'n': 1,\n",
       " 'nModified': 1,\n",
       " 'ok': 1.0,\n",
       " 'opTime': {'t': 2, 'ts': Timestamp(1505749140, 1)},\n",
       " 'updatedExisting': True}"
      ]
     },
     "metadata": {},
     "output_type": "display_data"
    },
    {
     "data": {
      "text/plain": [
       "{'electionId': ObjectId('7fffffff0000000000000002'),\n",
       " 'n': 1,\n",
       " 'nModified': 1,\n",
       " 'ok': 1.0,\n",
       " 'opTime': {'t': 2, 'ts': Timestamp(1505749141, 1)},\n",
       " 'updatedExisting': True}"
      ]
     },
     "metadata": {},
     "output_type": "display_data"
    },
    {
     "data": {
      "text/plain": [
       "{'electionId': ObjectId('7fffffff0000000000000002'),\n",
       " 'n': 1,\n",
       " 'nModified': 1,\n",
       " 'ok': 1.0,\n",
       " 'opTime': {'t': 2, 'ts': Timestamp(1505749143, 1)},\n",
       " 'updatedExisting': True}"
      ]
     },
     "metadata": {},
     "output_type": "display_data"
    },
    {
     "data": {
      "text/plain": [
       "{'electionId': ObjectId('7fffffff0000000000000002'),\n",
       " 'n': 1,\n",
       " 'nModified': 1,\n",
       " 'ok': 1.0,\n",
       " 'opTime': {'t': 2, 'ts': Timestamp(1505749144, 1)},\n",
       " 'updatedExisting': True}"
      ]
     },
     "metadata": {},
     "output_type": "display_data"
    },
    {
     "data": {
      "text/plain": [
       "{'electionId': ObjectId('7fffffff0000000000000002'),\n",
       " 'n': 1,\n",
       " 'nModified': 1,\n",
       " 'ok': 1.0,\n",
       " 'opTime': {'t': 2, 'ts': Timestamp(1505749145, 1)},\n",
       " 'updatedExisting': True}"
      ]
     },
     "metadata": {},
     "output_type": "display_data"
    },
    {
     "data": {
      "text/plain": [
       "{'electionId': ObjectId('7fffffff0000000000000002'),\n",
       " 'n': 1,\n",
       " 'nModified': 1,\n",
       " 'ok': 1.0,\n",
       " 'opTime': {'t': 2, 'ts': Timestamp(1505749145, 2)},\n",
       " 'updatedExisting': True}"
      ]
     },
     "metadata": {},
     "output_type": "display_data"
    },
    {
     "data": {
      "text/plain": [
       "{'electionId': ObjectId('7fffffff0000000000000002'),\n",
       " 'n': 1,\n",
       " 'nModified': 1,\n",
       " 'ok': 1.0,\n",
       " 'opTime': {'t': 2, 'ts': Timestamp(1505749146, 1)},\n",
       " 'updatedExisting': True}"
      ]
     },
     "metadata": {},
     "output_type": "display_data"
    },
    {
     "data": {
      "text/plain": [
       "{'electionId': ObjectId('7fffffff0000000000000002'),\n",
       " 'n': 1,\n",
       " 'nModified': 1,\n",
       " 'ok': 1.0,\n",
       " 'opTime': {'t': 2, 'ts': Timestamp(1505749147, 1)},\n",
       " 'updatedExisting': True}"
      ]
     },
     "metadata": {},
     "output_type": "display_data"
    },
    {
     "data": {
      "text/plain": [
       "{'electionId': ObjectId('7fffffff0000000000000002'),\n",
       " 'n': 1,\n",
       " 'nModified': 1,\n",
       " 'ok': 1.0,\n",
       " 'opTime': {'t': 2, 'ts': Timestamp(1505749149, 1)},\n",
       " 'updatedExisting': True}"
      ]
     },
     "metadata": {},
     "output_type": "display_data"
    },
    {
     "data": {
      "text/plain": [
       "{'electionId': ObjectId('7fffffff0000000000000002'),\n",
       " 'n': 1,\n",
       " 'nModified': 1,\n",
       " 'ok': 1.0,\n",
       " 'opTime': {'t': 2, 'ts': Timestamp(1505749150, 1)},\n",
       " 'updatedExisting': True}"
      ]
     },
     "metadata": {},
     "output_type": "display_data"
    },
    {
     "data": {
      "text/plain": [
       "{'electionId': ObjectId('7fffffff0000000000000002'),\n",
       " 'n': 1,\n",
       " 'nModified': 1,\n",
       " 'ok': 1.0,\n",
       " 'opTime': {'t': 2, 'ts': Timestamp(1505749151, 1)},\n",
       " 'updatedExisting': True}"
      ]
     },
     "metadata": {},
     "output_type": "display_data"
    },
    {
     "data": {
      "text/plain": [
       "{'electionId': ObjectId('7fffffff0000000000000002'),\n",
       " 'n': 1,\n",
       " 'nModified': 1,\n",
       " 'ok': 1.0,\n",
       " 'opTime': {'t': 2, 'ts': Timestamp(1505749152, 1)},\n",
       " 'updatedExisting': True}"
      ]
     },
     "metadata": {},
     "output_type": "display_data"
    },
    {
     "data": {
      "text/plain": [
       "{'electionId': ObjectId('7fffffff0000000000000002'),\n",
       " 'n': 1,\n",
       " 'nModified': 1,\n",
       " 'ok': 1.0,\n",
       " 'opTime': {'t': 2, 'ts': Timestamp(1505749153, 1)},\n",
       " 'updatedExisting': True}"
      ]
     },
     "metadata": {},
     "output_type": "display_data"
    },
    {
     "data": {
      "text/plain": [
       "{'electionId': ObjectId('7fffffff0000000000000002'),\n",
       " 'n': 1,\n",
       " 'nModified': 1,\n",
       " 'ok': 1.0,\n",
       " 'opTime': {'t': 2, 'ts': Timestamp(1505749153, 2)},\n",
       " 'updatedExisting': True}"
      ]
     },
     "metadata": {},
     "output_type": "display_data"
    },
    {
     "data": {
      "text/plain": [
       "{'electionId': ObjectId('7fffffff0000000000000002'),\n",
       " 'n': 1,\n",
       " 'nModified': 1,\n",
       " 'ok': 1.0,\n",
       " 'opTime': {'t': 2, 'ts': Timestamp(1505749155, 1)},\n",
       " 'updatedExisting': True}"
      ]
     },
     "metadata": {},
     "output_type": "display_data"
    },
    {
     "data": {
      "text/plain": [
       "{'electionId': ObjectId('7fffffff0000000000000002'),\n",
       " 'n': 1,\n",
       " 'nModified': 1,\n",
       " 'ok': 1.0,\n",
       " 'opTime': {'t': 2, 'ts': Timestamp(1505749156, 1)},\n",
       " 'updatedExisting': True}"
      ]
     },
     "metadata": {},
     "output_type": "display_data"
    },
    {
     "data": {
      "text/plain": [
       "{'electionId': ObjectId('7fffffff0000000000000002'),\n",
       " 'n': 1,\n",
       " 'nModified': 1,\n",
       " 'ok': 1.0,\n",
       " 'opTime': {'t': 2, 'ts': Timestamp(1505749157, 1)},\n",
       " 'updatedExisting': True}"
      ]
     },
     "metadata": {},
     "output_type": "display_data"
    },
    {
     "data": {
      "text/plain": [
       "{'electionId': ObjectId('7fffffff0000000000000002'),\n",
       " 'n': 1,\n",
       " 'nModified': 1,\n",
       " 'ok': 1.0,\n",
       " 'opTime': {'t': 2, 'ts': Timestamp(1505749159, 1)},\n",
       " 'updatedExisting': True}"
      ]
     },
     "metadata": {},
     "output_type": "display_data"
    },
    {
     "data": {
      "text/plain": [
       "{'electionId': ObjectId('7fffffff0000000000000002'),\n",
       " 'n': 1,\n",
       " 'nModified': 1,\n",
       " 'ok': 1.0,\n",
       " 'opTime': {'t': 2, 'ts': Timestamp(1505749160, 1)},\n",
       " 'updatedExisting': True}"
      ]
     },
     "metadata": {},
     "output_type": "display_data"
    },
    {
     "data": {
      "text/plain": [
       "{'electionId': ObjectId('7fffffff0000000000000002'),\n",
       " 'n': 1,\n",
       " 'nModified': 1,\n",
       " 'ok': 1.0,\n",
       " 'opTime': {'t': 2, 'ts': Timestamp(1505749161, 1)},\n",
       " 'updatedExisting': True}"
      ]
     },
     "metadata": {},
     "output_type": "display_data"
    },
    {
     "data": {
      "text/plain": [
       "{'electionId': ObjectId('7fffffff0000000000000002'),\n",
       " 'n': 1,\n",
       " 'nModified': 1,\n",
       " 'ok': 1.0,\n",
       " 'opTime': {'t': 2, 'ts': Timestamp(1505749161, 2)},\n",
       " 'updatedExisting': True}"
      ]
     },
     "metadata": {},
     "output_type": "display_data"
    },
    {
     "data": {
      "text/plain": [
       "{'electionId': ObjectId('7fffffff0000000000000002'),\n",
       " 'n': 1,\n",
       " 'nModified': 1,\n",
       " 'ok': 1.0,\n",
       " 'opTime': {'t': 2, 'ts': Timestamp(1505749162, 1)},\n",
       " 'updatedExisting': True}"
      ]
     },
     "metadata": {},
     "output_type": "display_data"
    },
    {
     "data": {
      "text/plain": [
       "{'electionId': ObjectId('7fffffff0000000000000002'),\n",
       " 'n': 1,\n",
       " 'nModified': 1,\n",
       " 'ok': 1.0,\n",
       " 'opTime': {'t': 2, 'ts': Timestamp(1505749163, 1)},\n",
       " 'updatedExisting': True}"
      ]
     },
     "metadata": {},
     "output_type": "display_data"
    },
    {
     "data": {
      "text/plain": [
       "{'electionId': ObjectId('7fffffff0000000000000002'),\n",
       " 'n': 1,\n",
       " 'nModified': 1,\n",
       " 'ok': 1.0,\n",
       " 'opTime': {'t': 2, 'ts': Timestamp(1505749163, 2)},\n",
       " 'updatedExisting': True}"
      ]
     },
     "metadata": {},
     "output_type": "display_data"
    },
    {
     "data": {
      "text/plain": [
       "{'electionId': ObjectId('7fffffff0000000000000002'),\n",
       " 'n': 1,\n",
       " 'nModified': 1,\n",
       " 'ok': 1.0,\n",
       " 'opTime': {'t': 2, 'ts': Timestamp(1505749164, 1)},\n",
       " 'updatedExisting': True}"
      ]
     },
     "metadata": {},
     "output_type": "display_data"
    },
    {
     "data": {
      "text/plain": [
       "{'electionId': ObjectId('7fffffff0000000000000002'),\n",
       " 'n': 1,\n",
       " 'nModified': 1,\n",
       " 'ok': 1.0,\n",
       " 'opTime': {'t': 2, 'ts': Timestamp(1505749164, 2)},\n",
       " 'updatedExisting': True}"
      ]
     },
     "metadata": {},
     "output_type": "display_data"
    },
    {
     "data": {
      "text/plain": [
       "{'electionId': ObjectId('7fffffff0000000000000002'),\n",
       " 'n': 1,\n",
       " 'nModified': 1,\n",
       " 'ok': 1.0,\n",
       " 'opTime': {'t': 2, 'ts': Timestamp(1505749165, 1)},\n",
       " 'updatedExisting': True}"
      ]
     },
     "metadata": {},
     "output_type": "display_data"
    },
    {
     "data": {
      "text/plain": [
       "{'electionId': ObjectId('7fffffff0000000000000002'),\n",
       " 'n': 1,\n",
       " 'nModified': 1,\n",
       " 'ok': 1.0,\n",
       " 'opTime': {'t': 2, 'ts': Timestamp(1505749165, 2)},\n",
       " 'updatedExisting': True}"
      ]
     },
     "metadata": {},
     "output_type": "display_data"
    },
    {
     "data": {
      "text/plain": [
       "{'electionId': ObjectId('7fffffff0000000000000002'),\n",
       " 'n': 1,\n",
       " 'nModified': 1,\n",
       " 'ok': 1.0,\n",
       " 'opTime': {'t': 2, 'ts': Timestamp(1505749166, 1)},\n",
       " 'updatedExisting': True}"
      ]
     },
     "metadata": {},
     "output_type": "display_data"
    },
    {
     "data": {
      "text/plain": [
       "{'electionId': ObjectId('7fffffff0000000000000002'),\n",
       " 'n': 1,\n",
       " 'nModified': 1,\n",
       " 'ok': 1.0,\n",
       " 'opTime': {'t': 2, 'ts': Timestamp(1505749166, 2)},\n",
       " 'updatedExisting': True}"
      ]
     },
     "metadata": {},
     "output_type": "display_data"
    },
    {
     "data": {
      "text/plain": [
       "{'electionId': ObjectId('7fffffff0000000000000002'),\n",
       " 'n': 1,\n",
       " 'nModified': 1,\n",
       " 'ok': 1.0,\n",
       " 'opTime': {'t': 2, 'ts': Timestamp(1505749167, 1)},\n",
       " 'updatedExisting': True}"
      ]
     },
     "metadata": {},
     "output_type": "display_data"
    },
    {
     "data": {
      "text/plain": [
       "{'electionId': ObjectId('7fffffff0000000000000002'),\n",
       " 'n': 1,\n",
       " 'nModified': 1,\n",
       " 'ok': 1.0,\n",
       " 'opTime': {'t': 2, 'ts': Timestamp(1505749167, 2)},\n",
       " 'updatedExisting': True}"
      ]
     },
     "metadata": {},
     "output_type": "display_data"
    },
    {
     "data": {
      "text/plain": [
       "{'electionId': ObjectId('7fffffff0000000000000002'),\n",
       " 'n': 1,\n",
       " 'nModified': 1,\n",
       " 'ok': 1.0,\n",
       " 'opTime': {'t': 2, 'ts': Timestamp(1505749168, 1)},\n",
       " 'updatedExisting': True}"
      ]
     },
     "metadata": {},
     "output_type": "display_data"
    },
    {
     "data": {
      "text/plain": [
       "{'electionId': ObjectId('7fffffff0000000000000002'),\n",
       " 'n': 1,\n",
       " 'nModified': 1,\n",
       " 'ok': 1.0,\n",
       " 'opTime': {'t': 2, 'ts': Timestamp(1505749168, 2)},\n",
       " 'updatedExisting': True}"
      ]
     },
     "metadata": {},
     "output_type": "display_data"
    },
    {
     "data": {
      "text/plain": [
       "{'electionId': ObjectId('7fffffff0000000000000002'),\n",
       " 'n': 1,\n",
       " 'nModified': 1,\n",
       " 'ok': 1.0,\n",
       " 'opTime': {'t': 2, 'ts': Timestamp(1505749169, 1)},\n",
       " 'updatedExisting': True}"
      ]
     },
     "metadata": {},
     "output_type": "display_data"
    },
    {
     "data": {
      "text/plain": [
       "{'electionId': ObjectId('7fffffff0000000000000002'),\n",
       " 'n': 1,\n",
       " 'nModified': 1,\n",
       " 'ok': 1.0,\n",
       " 'opTime': {'t': 2, 'ts': Timestamp(1505749169, 2)},\n",
       " 'updatedExisting': True}"
      ]
     },
     "metadata": {},
     "output_type": "display_data"
    },
    {
     "data": {
      "text/plain": [
       "{'electionId': ObjectId('7fffffff0000000000000002'),\n",
       " 'n': 1,\n",
       " 'nModified': 1,\n",
       " 'ok': 1.0,\n",
       " 'opTime': {'t': 2, 'ts': Timestamp(1505749170, 1)},\n",
       " 'updatedExisting': True}"
      ]
     },
     "metadata": {},
     "output_type": "display_data"
    },
    {
     "data": {
      "text/plain": [
       "{'electionId': ObjectId('7fffffff0000000000000002'),\n",
       " 'n': 1,\n",
       " 'nModified': 1,\n",
       " 'ok': 1.0,\n",
       " 'opTime': {'t': 2, 'ts': Timestamp(1505749170, 2)},\n",
       " 'updatedExisting': True}"
      ]
     },
     "metadata": {},
     "output_type": "display_data"
    },
    {
     "data": {
      "text/plain": [
       "{'electionId': ObjectId('7fffffff0000000000000002'),\n",
       " 'n': 1,\n",
       " 'nModified': 1,\n",
       " 'ok': 1.0,\n",
       " 'opTime': {'t': 2, 'ts': Timestamp(1505749170, 3)},\n",
       " 'updatedExisting': True}"
      ]
     },
     "metadata": {},
     "output_type": "display_data"
    },
    {
     "data": {
      "text/plain": [
       "{'electionId': ObjectId('7fffffff0000000000000002'),\n",
       " 'n': 1,\n",
       " 'nModified': 1,\n",
       " 'ok': 1.0,\n",
       " 'opTime': {'t': 2, 'ts': Timestamp(1505749180, 1)},\n",
       " 'updatedExisting': True}"
      ]
     },
     "metadata": {},
     "output_type": "display_data"
    },
    {
     "data": {
      "text/plain": [
       "{'electionId': ObjectId('7fffffff0000000000000002'),\n",
       " 'n': 1,\n",
       " 'nModified': 1,\n",
       " 'ok': 1.0,\n",
       " 'opTime': {'t': 2, 'ts': Timestamp(1505749181, 1)},\n",
       " 'updatedExisting': True}"
      ]
     },
     "metadata": {},
     "output_type": "display_data"
    },
    {
     "data": {
      "text/plain": [
       "{'electionId': ObjectId('7fffffff0000000000000002'),\n",
       " 'n': 1,\n",
       " 'nModified': 1,\n",
       " 'ok': 1.0,\n",
       " 'opTime': {'t': 2, 'ts': Timestamp(1505749182, 1)},\n",
       " 'updatedExisting': True}"
      ]
     },
     "metadata": {},
     "output_type": "display_data"
    },
    {
     "data": {
      "text/plain": [
       "{'electionId': ObjectId('7fffffff0000000000000002'),\n",
       " 'n': 1,\n",
       " 'nModified': 1,\n",
       " 'ok': 1.0,\n",
       " 'opTime': {'t': 2, 'ts': Timestamp(1505749184, 1)},\n",
       " 'updatedExisting': True}"
      ]
     },
     "metadata": {},
     "output_type": "display_data"
    },
    {
     "data": {
      "text/plain": [
       "{'electionId': ObjectId('7fffffff0000000000000002'),\n",
       " 'n': 1,\n",
       " 'nModified': 1,\n",
       " 'ok': 1.0,\n",
       " 'opTime': {'t': 2, 'ts': Timestamp(1505749185, 1)},\n",
       " 'updatedExisting': True}"
      ]
     },
     "metadata": {},
     "output_type": "display_data"
    },
    {
     "data": {
      "text/plain": [
       "{'electionId': ObjectId('7fffffff0000000000000002'),\n",
       " 'n': 1,\n",
       " 'nModified': 1,\n",
       " 'ok': 1.0,\n",
       " 'opTime': {'t': 2, 'ts': Timestamp(1505749185, 2)},\n",
       " 'updatedExisting': True}"
      ]
     },
     "metadata": {},
     "output_type": "display_data"
    },
    {
     "data": {
      "text/plain": [
       "{'electionId': ObjectId('7fffffff0000000000000002'),\n",
       " 'n': 1,\n",
       " 'nModified': 1,\n",
       " 'ok': 1.0,\n",
       " 'opTime': {'t': 2, 'ts': Timestamp(1505749186, 1)},\n",
       " 'updatedExisting': True}"
      ]
     },
     "metadata": {},
     "output_type": "display_data"
    },
    {
     "data": {
      "text/plain": [
       "{'electionId': ObjectId('7fffffff0000000000000002'),\n",
       " 'n': 1,\n",
       " 'nModified': 1,\n",
       " 'ok': 1.0,\n",
       " 'opTime': {'t': 2, 'ts': Timestamp(1505749187, 1)},\n",
       " 'updatedExisting': True}"
      ]
     },
     "metadata": {},
     "output_type": "display_data"
    },
    {
     "data": {
      "text/plain": [
       "{'electionId': ObjectId('7fffffff0000000000000002'),\n",
       " 'n': 1,\n",
       " 'nModified': 1,\n",
       " 'ok': 1.0,\n",
       " 'opTime': {'t': 2, 'ts': Timestamp(1505749188, 1)},\n",
       " 'updatedExisting': True}"
      ]
     },
     "metadata": {},
     "output_type": "display_data"
    },
    {
     "data": {
      "text/plain": [
       "{'electionId': ObjectId('7fffffff0000000000000002'),\n",
       " 'n': 1,\n",
       " 'nModified': 1,\n",
       " 'ok': 1.0,\n",
       " 'opTime': {'t': 2, 'ts': Timestamp(1505749188, 2)},\n",
       " 'updatedExisting': True}"
      ]
     },
     "metadata": {},
     "output_type": "display_data"
    },
    {
     "data": {
      "text/plain": [
       "{'electionId': ObjectId('7fffffff0000000000000002'),\n",
       " 'n': 1,\n",
       " 'nModified': 1,\n",
       " 'ok': 1.0,\n",
       " 'opTime': {'t': 2, 'ts': Timestamp(1505749189, 1)},\n",
       " 'updatedExisting': True}"
      ]
     },
     "metadata": {},
     "output_type": "display_data"
    },
    {
     "data": {
      "text/plain": [
       "{'electionId': ObjectId('7fffffff0000000000000002'),\n",
       " 'n': 1,\n",
       " 'nModified': 1,\n",
       " 'ok': 1.0,\n",
       " 'opTime': {'t': 2, 'ts': Timestamp(1505749190, 1)},\n",
       " 'updatedExisting': True}"
      ]
     },
     "metadata": {},
     "output_type": "display_data"
    },
    {
     "data": {
      "text/plain": [
       "{'electionId': ObjectId('7fffffff0000000000000002'),\n",
       " 'n': 1,\n",
       " 'nModified': 1,\n",
       " 'ok': 1.0,\n",
       " 'opTime': {'t': 2, 'ts': Timestamp(1505749190, 2)},\n",
       " 'updatedExisting': True}"
      ]
     },
     "metadata": {},
     "output_type": "display_data"
    },
    {
     "data": {
      "text/plain": [
       "{'electionId': ObjectId('7fffffff0000000000000002'),\n",
       " 'n': 1,\n",
       " 'nModified': 1,\n",
       " 'ok': 1.0,\n",
       " 'opTime': {'t': 2, 'ts': Timestamp(1505749191, 1)},\n",
       " 'updatedExisting': True}"
      ]
     },
     "metadata": {},
     "output_type": "display_data"
    },
    {
     "data": {
      "text/plain": [
       "{'electionId': ObjectId('7fffffff0000000000000002'),\n",
       " 'n': 1,\n",
       " 'nModified': 1,\n",
       " 'ok': 1.0,\n",
       " 'opTime': {'t': 2, 'ts': Timestamp(1505749191, 2)},\n",
       " 'updatedExisting': True}"
      ]
     },
     "metadata": {},
     "output_type": "display_data"
    },
    {
     "data": {
      "text/plain": [
       "{'electionId': ObjectId('7fffffff0000000000000002'),\n",
       " 'n': 1,\n",
       " 'nModified': 1,\n",
       " 'ok': 1.0,\n",
       " 'opTime': {'t': 2, 'ts': Timestamp(1505749192, 1)},\n",
       " 'updatedExisting': True}"
      ]
     },
     "metadata": {},
     "output_type": "display_data"
    },
    {
     "data": {
      "text/plain": [
       "{'electionId': ObjectId('7fffffff0000000000000002'),\n",
       " 'n': 1,\n",
       " 'nModified': 1,\n",
       " 'ok': 1.0,\n",
       " 'opTime': {'t': 2, 'ts': Timestamp(1505749192, 2)},\n",
       " 'updatedExisting': True}"
      ]
     },
     "metadata": {},
     "output_type": "display_data"
    },
    {
     "data": {
      "text/plain": [
       "{'electionId': ObjectId('7fffffff0000000000000002'),\n",
       " 'n': 1,\n",
       " 'nModified': 1,\n",
       " 'ok': 1.0,\n",
       " 'opTime': {'t': 2, 'ts': Timestamp(1505749193, 1)},\n",
       " 'updatedExisting': True}"
      ]
     },
     "metadata": {},
     "output_type": "display_data"
    },
    {
     "data": {
      "text/plain": [
       "{'electionId': ObjectId('7fffffff0000000000000002'),\n",
       " 'n': 1,\n",
       " 'nModified': 1,\n",
       " 'ok': 1.0,\n",
       " 'opTime': {'t': 2, 'ts': Timestamp(1505749194, 1)},\n",
       " 'updatedExisting': True}"
      ]
     },
     "metadata": {},
     "output_type": "display_data"
    },
    {
     "data": {
      "text/plain": [
       "{'electionId': ObjectId('7fffffff0000000000000002'),\n",
       " 'n': 1,\n",
       " 'nModified': 1,\n",
       " 'ok': 1.0,\n",
       " 'opTime': {'t': 2, 'ts': Timestamp(1505749194, 2)},\n",
       " 'updatedExisting': True}"
      ]
     },
     "metadata": {},
     "output_type": "display_data"
    },
    {
     "data": {
      "text/plain": [
       "{'electionId': ObjectId('7fffffff0000000000000002'),\n",
       " 'n': 1,\n",
       " 'nModified': 1,\n",
       " 'ok': 1.0,\n",
       " 'opTime': {'t': 2, 'ts': Timestamp(1505749195, 1)},\n",
       " 'updatedExisting': True}"
      ]
     },
     "metadata": {},
     "output_type": "display_data"
    },
    {
     "data": {
      "text/plain": [
       "{'electionId': ObjectId('7fffffff0000000000000002'),\n",
       " 'n': 1,\n",
       " 'nModified': 1,\n",
       " 'ok': 1.0,\n",
       " 'opTime': {'t': 2, 'ts': Timestamp(1505749196, 1)},\n",
       " 'updatedExisting': True}"
      ]
     },
     "metadata": {},
     "output_type": "display_data"
    },
    {
     "data": {
      "text/plain": [
       "{'electionId': ObjectId('7fffffff0000000000000002'),\n",
       " 'n': 1,\n",
       " 'nModified': 1,\n",
       " 'ok': 1.0,\n",
       " 'opTime': {'t': 2, 'ts': Timestamp(1505749196, 2)},\n",
       " 'updatedExisting': True}"
      ]
     },
     "metadata": {},
     "output_type": "display_data"
    },
    {
     "data": {
      "text/plain": [
       "{'electionId': ObjectId('7fffffff0000000000000002'),\n",
       " 'n': 1,\n",
       " 'nModified': 1,\n",
       " 'ok': 1.0,\n",
       " 'opTime': {'t': 2, 'ts': Timestamp(1505749197, 1)},\n",
       " 'updatedExisting': True}"
      ]
     },
     "metadata": {},
     "output_type": "display_data"
    },
    {
     "data": {
      "text/plain": [
       "{'electionId': ObjectId('7fffffff0000000000000002'),\n",
       " 'n': 1,\n",
       " 'nModified': 1,\n",
       " 'ok': 1.0,\n",
       " 'opTime': {'t': 2, 'ts': Timestamp(1505749198, 1)},\n",
       " 'updatedExisting': True}"
      ]
     },
     "metadata": {},
     "output_type": "display_data"
    },
    {
     "data": {
      "text/plain": [
       "{'electionId': ObjectId('7fffffff0000000000000002'),\n",
       " 'n': 1,\n",
       " 'nModified': 1,\n",
       " 'ok': 1.0,\n",
       " 'opTime': {'t': 2, 'ts': Timestamp(1505749198, 2)},\n",
       " 'updatedExisting': True}"
      ]
     },
     "metadata": {},
     "output_type": "display_data"
    },
    {
     "data": {
      "text/plain": [
       "{'electionId': ObjectId('7fffffff0000000000000002'),\n",
       " 'n': 1,\n",
       " 'nModified': 1,\n",
       " 'ok': 1.0,\n",
       " 'opTime': {'t': 2, 'ts': Timestamp(1505749199, 1)},\n",
       " 'updatedExisting': True}"
      ]
     },
     "metadata": {},
     "output_type": "display_data"
    },
    {
     "data": {
      "text/plain": [
       "{'electionId': ObjectId('7fffffff0000000000000002'),\n",
       " 'n': 1,\n",
       " 'nModified': 1,\n",
       " 'ok': 1.0,\n",
       " 'opTime': {'t': 2, 'ts': Timestamp(1505749199, 2)},\n",
       " 'updatedExisting': True}"
      ]
     },
     "metadata": {},
     "output_type": "display_data"
    },
    {
     "data": {
      "text/plain": [
       "{'electionId': ObjectId('7fffffff0000000000000002'),\n",
       " 'n': 1,\n",
       " 'nModified': 1,\n",
       " 'ok': 1.0,\n",
       " 'opTime': {'t': 2, 'ts': Timestamp(1505749201, 1)},\n",
       " 'updatedExisting': True}"
      ]
     },
     "metadata": {},
     "output_type": "display_data"
    },
    {
     "data": {
      "text/plain": [
       "{'electionId': ObjectId('7fffffff0000000000000002'),\n",
       " 'n': 1,\n",
       " 'nModified': 1,\n",
       " 'ok': 1.0,\n",
       " 'opTime': {'t': 2, 'ts': Timestamp(1505749202, 1)},\n",
       " 'updatedExisting': True}"
      ]
     },
     "metadata": {},
     "output_type": "display_data"
    },
    {
     "data": {
      "text/plain": [
       "{'electionId': ObjectId('7fffffff0000000000000002'),\n",
       " 'n': 1,\n",
       " 'nModified': 1,\n",
       " 'ok': 1.0,\n",
       " 'opTime': {'t': 2, 'ts': Timestamp(1505749202, 2)},\n",
       " 'updatedExisting': True}"
      ]
     },
     "metadata": {},
     "output_type": "display_data"
    },
    {
     "data": {
      "text/plain": [
       "{'electionId': ObjectId('7fffffff0000000000000002'),\n",
       " 'n': 1,\n",
       " 'nModified': 1,\n",
       " 'ok': 1.0,\n",
       " 'opTime': {'t': 2, 'ts': Timestamp(1505749203, 1)},\n",
       " 'updatedExisting': True}"
      ]
     },
     "metadata": {},
     "output_type": "display_data"
    },
    {
     "data": {
      "text/plain": [
       "{'electionId': ObjectId('7fffffff0000000000000002'),\n",
       " 'n': 1,\n",
       " 'nModified': 1,\n",
       " 'ok': 1.0,\n",
       " 'opTime': {'t': 2, 'ts': Timestamp(1505749204, 1)},\n",
       " 'updatedExisting': True}"
      ]
     },
     "metadata": {},
     "output_type": "display_data"
    },
    {
     "data": {
      "text/plain": [
       "{'electionId': ObjectId('7fffffff0000000000000002'),\n",
       " 'n': 1,\n",
       " 'nModified': 1,\n",
       " 'ok': 1.0,\n",
       " 'opTime': {'t': 2, 'ts': Timestamp(1505749205, 1)},\n",
       " 'updatedExisting': True}"
      ]
     },
     "metadata": {},
     "output_type": "display_data"
    },
    {
     "data": {
      "text/plain": [
       "{'electionId': ObjectId('7fffffff0000000000000002'),\n",
       " 'n': 1,\n",
       " 'nModified': 1,\n",
       " 'ok': 1.0,\n",
       " 'opTime': {'t': 2, 'ts': Timestamp(1505749205, 2)},\n",
       " 'updatedExisting': True}"
      ]
     },
     "metadata": {},
     "output_type": "display_data"
    },
    {
     "data": {
      "text/plain": [
       "{'electionId': ObjectId('7fffffff0000000000000002'),\n",
       " 'n': 1,\n",
       " 'nModified': 1,\n",
       " 'ok': 1.0,\n",
       " 'opTime': {'t': 2, 'ts': Timestamp(1505749205, 3)},\n",
       " 'updatedExisting': True}"
      ]
     },
     "metadata": {},
     "output_type": "display_data"
    },
    {
     "data": {
      "text/plain": [
       "{'electionId': ObjectId('7fffffff0000000000000002'),\n",
       " 'n': 1,\n",
       " 'nModified': 1,\n",
       " 'ok': 1.0,\n",
       " 'opTime': {'t': 2, 'ts': Timestamp(1505749206, 1)},\n",
       " 'updatedExisting': True}"
      ]
     },
     "metadata": {},
     "output_type": "display_data"
    },
    {
     "data": {
      "text/plain": [
       "{'electionId': ObjectId('7fffffff0000000000000002'),\n",
       " 'n': 1,\n",
       " 'nModified': 1,\n",
       " 'ok': 1.0,\n",
       " 'opTime': {'t': 2, 'ts': Timestamp(1505749206, 2)},\n",
       " 'updatedExisting': True}"
      ]
     },
     "metadata": {},
     "output_type": "display_data"
    },
    {
     "data": {
      "text/plain": [
       "{'electionId': ObjectId('7fffffff0000000000000002'),\n",
       " 'n': 1,\n",
       " 'nModified': 1,\n",
       " 'ok': 1.0,\n",
       " 'opTime': {'t': 2, 'ts': Timestamp(1505749207, 1)},\n",
       " 'updatedExisting': True}"
      ]
     },
     "metadata": {},
     "output_type": "display_data"
    },
    {
     "data": {
      "text/plain": [
       "{'electionId': ObjectId('7fffffff0000000000000002'),\n",
       " 'n': 1,\n",
       " 'nModified': 1,\n",
       " 'ok': 1.0,\n",
       " 'opTime': {'t': 2, 'ts': Timestamp(1505749208, 1)},\n",
       " 'updatedExisting': True}"
      ]
     },
     "metadata": {},
     "output_type": "display_data"
    },
    {
     "data": {
      "text/plain": [
       "{'electionId': ObjectId('7fffffff0000000000000002'),\n",
       " 'n': 1,\n",
       " 'nModified': 1,\n",
       " 'ok': 1.0,\n",
       " 'opTime': {'t': 2, 'ts': Timestamp(1505749208, 2)},\n",
       " 'updatedExisting': True}"
      ]
     },
     "metadata": {},
     "output_type": "display_data"
    },
    {
     "data": {
      "text/plain": [
       "{'electionId': ObjectId('7fffffff0000000000000002'),\n",
       " 'n': 1,\n",
       " 'nModified': 1,\n",
       " 'ok': 1.0,\n",
       " 'opTime': {'t': 2, 'ts': Timestamp(1505749208, 3)},\n",
       " 'updatedExisting': True}"
      ]
     },
     "metadata": {},
     "output_type": "display_data"
    },
    {
     "data": {
      "text/plain": [
       "{'electionId': ObjectId('7fffffff0000000000000002'),\n",
       " 'n': 1,\n",
       " 'nModified': 1,\n",
       " 'ok': 1.0,\n",
       " 'opTime': {'t': 2, 'ts': Timestamp(1505749209, 1)},\n",
       " 'updatedExisting': True}"
      ]
     },
     "metadata": {},
     "output_type": "display_data"
    },
    {
     "data": {
      "text/plain": [
       "{'electionId': ObjectId('7fffffff0000000000000002'),\n",
       " 'n': 1,\n",
       " 'nModified': 1,\n",
       " 'ok': 1.0,\n",
       " 'opTime': {'t': 2, 'ts': Timestamp(1505749209, 2)},\n",
       " 'updatedExisting': True}"
      ]
     },
     "metadata": {},
     "output_type": "display_data"
    },
    {
     "data": {
      "text/plain": [
       "{'electionId': ObjectId('7fffffff0000000000000002'),\n",
       " 'n': 1,\n",
       " 'nModified': 1,\n",
       " 'ok': 1.0,\n",
       " 'opTime': {'t': 2, 'ts': Timestamp(1505749209, 3)},\n",
       " 'updatedExisting': True}"
      ]
     },
     "metadata": {},
     "output_type": "display_data"
    },
    {
     "data": {
      "text/plain": [
       "{'electionId': ObjectId('7fffffff0000000000000002'),\n",
       " 'n': 1,\n",
       " 'nModified': 1,\n",
       " 'ok': 1.0,\n",
       " 'opTime': {'t': 2, 'ts': Timestamp(1505749210, 1)},\n",
       " 'updatedExisting': True}"
      ]
     },
     "metadata": {},
     "output_type": "display_data"
    },
    {
     "data": {
      "text/plain": [
       "{'electionId': ObjectId('7fffffff0000000000000002'),\n",
       " 'n': 1,\n",
       " 'nModified': 1,\n",
       " 'ok': 1.0,\n",
       " 'opTime': {'t': 2, 'ts': Timestamp(1505749210, 2)},\n",
       " 'updatedExisting': True}"
      ]
     },
     "metadata": {},
     "output_type": "display_data"
    },
    {
     "data": {
      "text/plain": [
       "{'electionId': ObjectId('7fffffff0000000000000002'),\n",
       " 'n': 1,\n",
       " 'nModified': 1,\n",
       " 'ok': 1.0,\n",
       " 'opTime': {'t': 2, 'ts': Timestamp(1505749211, 1)},\n",
       " 'updatedExisting': True}"
      ]
     },
     "metadata": {},
     "output_type": "display_data"
    },
    {
     "data": {
      "text/plain": [
       "{'electionId': ObjectId('7fffffff0000000000000002'),\n",
       " 'n': 1,\n",
       " 'nModified': 1,\n",
       " 'ok': 1.0,\n",
       " 'opTime': {'t': 2, 'ts': Timestamp(1505749211, 2)},\n",
       " 'updatedExisting': True}"
      ]
     },
     "metadata": {},
     "output_type": "display_data"
    },
    {
     "data": {
      "text/plain": [
       "{'electionId': ObjectId('7fffffff0000000000000002'),\n",
       " 'n': 1,\n",
       " 'nModified': 1,\n",
       " 'ok': 1.0,\n",
       " 'opTime': {'t': 2, 'ts': Timestamp(1505749212, 1)},\n",
       " 'updatedExisting': True}"
      ]
     },
     "metadata": {},
     "output_type": "display_data"
    },
    {
     "data": {
      "text/plain": [
       "{'electionId': ObjectId('7fffffff0000000000000002'),\n",
       " 'n': 1,\n",
       " 'nModified': 1,\n",
       " 'ok': 1.0,\n",
       " 'opTime': {'t': 2, 'ts': Timestamp(1505749212, 2)},\n",
       " 'updatedExisting': True}"
      ]
     },
     "metadata": {},
     "output_type": "display_data"
    },
    {
     "data": {
      "text/plain": [
       "{'electionId': ObjectId('7fffffff0000000000000002'),\n",
       " 'n': 1,\n",
       " 'nModified': 1,\n",
       " 'ok': 1.0,\n",
       " 'opTime': {'t': 2, 'ts': Timestamp(1505749212, 3)},\n",
       " 'updatedExisting': True}"
      ]
     },
     "metadata": {},
     "output_type": "display_data"
    },
    {
     "data": {
      "text/plain": [
       "{'electionId': ObjectId('7fffffff0000000000000002'),\n",
       " 'n': 1,\n",
       " 'nModified': 1,\n",
       " 'ok': 1.0,\n",
       " 'opTime': {'t': 2, 'ts': Timestamp(1505749212, 4)},\n",
       " 'updatedExisting': True}"
      ]
     },
     "metadata": {},
     "output_type": "display_data"
    },
    {
     "data": {
      "text/plain": [
       "{'electionId': ObjectId('7fffffff0000000000000002'),\n",
       " 'n': 1,\n",
       " 'nModified': 1,\n",
       " 'ok': 1.0,\n",
       " 'opTime': {'t': 2, 'ts': Timestamp(1505749213, 1)},\n",
       " 'updatedExisting': True}"
      ]
     },
     "metadata": {},
     "output_type": "display_data"
    },
    {
     "data": {
      "text/plain": [
       "{'electionId': ObjectId('7fffffff0000000000000002'),\n",
       " 'n': 1,\n",
       " 'nModified': 1,\n",
       " 'ok': 1.0,\n",
       " 'opTime': {'t': 2, 'ts': Timestamp(1505749213, 2)},\n",
       " 'updatedExisting': True}"
      ]
     },
     "metadata": {},
     "output_type": "display_data"
    },
    {
     "data": {
      "text/plain": [
       "{'electionId': ObjectId('7fffffff0000000000000002'),\n",
       " 'n': 1,\n",
       " 'nModified': 1,\n",
       " 'ok': 1.0,\n",
       " 'opTime': {'t': 2, 'ts': Timestamp(1505749213, 3)},\n",
       " 'updatedExisting': True}"
      ]
     },
     "metadata": {},
     "output_type": "display_data"
    },
    {
     "data": {
      "text/plain": [
       "{'electionId': ObjectId('7fffffff0000000000000002'),\n",
       " 'n': 1,\n",
       " 'nModified': 1,\n",
       " 'ok': 1.0,\n",
       " 'opTime': {'t': 2, 'ts': Timestamp(1505749213, 4)},\n",
       " 'updatedExisting': True}"
      ]
     },
     "metadata": {},
     "output_type": "display_data"
    },
    {
     "data": {
      "text/plain": [
       "{'electionId': ObjectId('7fffffff0000000000000002'),\n",
       " 'n': 1,\n",
       " 'nModified': 1,\n",
       " 'ok': 1.0,\n",
       " 'opTime': {'t': 2, 'ts': Timestamp(1505749214, 1)},\n",
       " 'updatedExisting': True}"
      ]
     },
     "metadata": {},
     "output_type": "display_data"
    },
    {
     "data": {
      "text/plain": [
       "{'electionId': ObjectId('7fffffff0000000000000002'),\n",
       " 'n': 1,\n",
       " 'nModified': 1,\n",
       " 'ok': 1.0,\n",
       " 'opTime': {'t': 2, 'ts': Timestamp(1505749214, 2)},\n",
       " 'updatedExisting': True}"
      ]
     },
     "metadata": {},
     "output_type": "display_data"
    },
    {
     "data": {
      "text/plain": [
       "{'electionId': ObjectId('7fffffff0000000000000002'),\n",
       " 'n': 1,\n",
       " 'nModified': 1,\n",
       " 'ok': 1.0,\n",
       " 'opTime': {'t': 2, 'ts': Timestamp(1505749214, 3)},\n",
       " 'updatedExisting': True}"
      ]
     },
     "metadata": {},
     "output_type": "display_data"
    },
    {
     "data": {
      "text/plain": [
       "{'electionId': ObjectId('7fffffff0000000000000002'),\n",
       " 'n': 1,\n",
       " 'nModified': 1,\n",
       " 'ok': 1.0,\n",
       " 'opTime': {'t': 2, 'ts': Timestamp(1505749215, 1)},\n",
       " 'updatedExisting': True}"
      ]
     },
     "metadata": {},
     "output_type": "display_data"
    },
    {
     "data": {
      "text/plain": [
       "{'electionId': ObjectId('7fffffff0000000000000002'),\n",
       " 'n': 1,\n",
       " 'nModified': 1,\n",
       " 'ok': 1.0,\n",
       " 'opTime': {'t': 2, 'ts': Timestamp(1505749215, 2)},\n",
       " 'updatedExisting': True}"
      ]
     },
     "metadata": {},
     "output_type": "display_data"
    },
    {
     "data": {
      "text/plain": [
       "{'electionId': ObjectId('7fffffff0000000000000002'),\n",
       " 'n': 1,\n",
       " 'nModified': 1,\n",
       " 'ok': 1.0,\n",
       " 'opTime': {'t': 2, 'ts': Timestamp(1505749218, 1)},\n",
       " 'updatedExisting': True}"
      ]
     },
     "metadata": {},
     "output_type": "display_data"
    },
    {
     "data": {
      "text/plain": [
       "{'electionId': ObjectId('7fffffff0000000000000002'),\n",
       " 'n': 1,\n",
       " 'nModified': 1,\n",
       " 'ok': 1.0,\n",
       " 'opTime': {'t': 2, 'ts': Timestamp(1505749218, 2)},\n",
       " 'updatedExisting': True}"
      ]
     },
     "metadata": {},
     "output_type": "display_data"
    },
    {
     "data": {
      "text/plain": [
       "{'electionId': ObjectId('7fffffff0000000000000002'),\n",
       " 'n': 1,\n",
       " 'nModified': 1,\n",
       " 'ok': 1.0,\n",
       " 'opTime': {'t': 2, 'ts': Timestamp(1505749218, 3)},\n",
       " 'updatedExisting': True}"
      ]
     },
     "metadata": {},
     "output_type": "display_data"
    },
    {
     "data": {
      "text/plain": [
       "{'electionId': ObjectId('7fffffff0000000000000002'),\n",
       " 'n': 1,\n",
       " 'nModified': 1,\n",
       " 'ok': 1.0,\n",
       " 'opTime': {'t': 2, 'ts': Timestamp(1505749219, 1)},\n",
       " 'updatedExisting': True}"
      ]
     },
     "metadata": {},
     "output_type": "display_data"
    },
    {
     "data": {
      "text/plain": [
       "{'electionId': ObjectId('7fffffff0000000000000002'),\n",
       " 'n': 1,\n",
       " 'nModified': 1,\n",
       " 'ok': 1.0,\n",
       " 'opTime': {'t': 2, 'ts': Timestamp(1505749219, 2)},\n",
       " 'updatedExisting': True}"
      ]
     },
     "metadata": {},
     "output_type": "display_data"
    },
    {
     "data": {
      "text/plain": [
       "{'electionId': ObjectId('7fffffff0000000000000002'),\n",
       " 'n': 1,\n",
       " 'nModified': 1,\n",
       " 'ok': 1.0,\n",
       " 'opTime': {'t': 2, 'ts': Timestamp(1505749219, 3)},\n",
       " 'updatedExisting': True}"
      ]
     },
     "metadata": {},
     "output_type": "display_data"
    },
    {
     "data": {
      "text/plain": [
       "{'electionId': ObjectId('7fffffff0000000000000002'),\n",
       " 'n': 1,\n",
       " 'nModified': 1,\n",
       " 'ok': 1.0,\n",
       " 'opTime': {'t': 2, 'ts': Timestamp(1505749219, 4)},\n",
       " 'updatedExisting': True}"
      ]
     },
     "metadata": {},
     "output_type": "display_data"
    },
    {
     "data": {
      "text/plain": [
       "{'electionId': ObjectId('7fffffff0000000000000002'),\n",
       " 'n': 1,\n",
       " 'nModified': 1,\n",
       " 'ok': 1.0,\n",
       " 'opTime': {'t': 2, 'ts': Timestamp(1505749220, 1)},\n",
       " 'updatedExisting': True}"
      ]
     },
     "metadata": {},
     "output_type": "display_data"
    },
    {
     "data": {
      "text/plain": [
       "{'electionId': ObjectId('7fffffff0000000000000002'),\n",
       " 'n': 1,\n",
       " 'nModified': 1,\n",
       " 'ok': 1.0,\n",
       " 'opTime': {'t': 2, 'ts': Timestamp(1505749220, 2)},\n",
       " 'updatedExisting': True}"
      ]
     },
     "metadata": {},
     "output_type": "display_data"
    },
    {
     "data": {
      "text/plain": [
       "{'electionId': ObjectId('7fffffff0000000000000002'),\n",
       " 'n': 1,\n",
       " 'nModified': 1,\n",
       " 'ok': 1.0,\n",
       " 'opTime': {'t': 2, 'ts': Timestamp(1505749220, 3)},\n",
       " 'updatedExisting': True}"
      ]
     },
     "metadata": {},
     "output_type": "display_data"
    },
    {
     "data": {
      "text/plain": [
       "{'electionId': ObjectId('7fffffff0000000000000002'),\n",
       " 'n': 1,\n",
       " 'nModified': 1,\n",
       " 'ok': 1.0,\n",
       " 'opTime': {'t': 2, 'ts': Timestamp(1505749221, 1)},\n",
       " 'updatedExisting': True}"
      ]
     },
     "metadata": {},
     "output_type": "display_data"
    },
    {
     "data": {
      "text/plain": [
       "{'electionId': ObjectId('7fffffff0000000000000002'),\n",
       " 'n': 1,\n",
       " 'nModified': 1,\n",
       " 'ok': 1.0,\n",
       " 'opTime': {'t': 2, 'ts': Timestamp(1505749221, 2)},\n",
       " 'updatedExisting': True}"
      ]
     },
     "metadata": {},
     "output_type": "display_data"
    },
    {
     "data": {
      "text/plain": [
       "{'electionId': ObjectId('7fffffff0000000000000002'),\n",
       " 'n': 1,\n",
       " 'nModified': 1,\n",
       " 'ok': 1.0,\n",
       " 'opTime': {'t': 2, 'ts': Timestamp(1505749222, 1)},\n",
       " 'updatedExisting': True}"
      ]
     },
     "metadata": {},
     "output_type": "display_data"
    },
    {
     "data": {
      "text/plain": [
       "{'electionId': ObjectId('7fffffff0000000000000002'),\n",
       " 'n': 1,\n",
       " 'nModified': 1,\n",
       " 'ok': 1.0,\n",
       " 'opTime': {'t': 2, 'ts': Timestamp(1505749222, 2)},\n",
       " 'updatedExisting': True}"
      ]
     },
     "metadata": {},
     "output_type": "display_data"
    },
    {
     "data": {
      "text/plain": [
       "{'electionId': ObjectId('7fffffff0000000000000002'),\n",
       " 'n': 1,\n",
       " 'nModified': 1,\n",
       " 'ok': 1.0,\n",
       " 'opTime': {'t': 2, 'ts': Timestamp(1505749222, 3)},\n",
       " 'updatedExisting': True}"
      ]
     },
     "metadata": {},
     "output_type": "display_data"
    },
    {
     "data": {
      "text/plain": [
       "{'electionId': ObjectId('7fffffff0000000000000002'),\n",
       " 'n': 1,\n",
       " 'nModified': 1,\n",
       " 'ok': 1.0,\n",
       " 'opTime': {'t': 2, 'ts': Timestamp(1505749223, 1)},\n",
       " 'updatedExisting': True}"
      ]
     },
     "metadata": {},
     "output_type": "display_data"
    },
    {
     "data": {
      "text/plain": [
       "{'electionId': ObjectId('7fffffff0000000000000002'),\n",
       " 'n': 1,\n",
       " 'nModified': 1,\n",
       " 'ok': 1.0,\n",
       " 'opTime': {'t': 2, 'ts': Timestamp(1505749223, 2)},\n",
       " 'updatedExisting': True}"
      ]
     },
     "metadata": {},
     "output_type": "display_data"
    },
    {
     "data": {
      "text/plain": [
       "{'electionId': ObjectId('7fffffff0000000000000002'),\n",
       " 'n': 1,\n",
       " 'nModified': 1,\n",
       " 'ok': 1.0,\n",
       " 'opTime': {'t': 2, 'ts': Timestamp(1505749224, 1)},\n",
       " 'updatedExisting': True}"
      ]
     },
     "metadata": {},
     "output_type": "display_data"
    },
    {
     "data": {
      "text/plain": [
       "{'electionId': ObjectId('7fffffff0000000000000002'),\n",
       " 'n': 1,\n",
       " 'nModified': 1,\n",
       " 'ok': 1.0,\n",
       " 'opTime': {'t': 2, 'ts': Timestamp(1505749224, 2)},\n",
       " 'updatedExisting': True}"
      ]
     },
     "metadata": {},
     "output_type": "display_data"
    },
    {
     "data": {
      "text/plain": [
       "{'electionId': ObjectId('7fffffff0000000000000002'),\n",
       " 'n': 1,\n",
       " 'nModified': 1,\n",
       " 'ok': 1.0,\n",
       " 'opTime': {'t': 2, 'ts': Timestamp(1505749225, 1)},\n",
       " 'updatedExisting': True}"
      ]
     },
     "metadata": {},
     "output_type": "display_data"
    },
    {
     "data": {
      "text/plain": [
       "{'electionId': ObjectId('7fffffff0000000000000002'),\n",
       " 'n': 1,\n",
       " 'nModified': 1,\n",
       " 'ok': 1.0,\n",
       " 'opTime': {'t': 2, 'ts': Timestamp(1505749225, 2)},\n",
       " 'updatedExisting': True}"
      ]
     },
     "metadata": {},
     "output_type": "display_data"
    },
    {
     "data": {
      "text/plain": [
       "{'electionId': ObjectId('7fffffff0000000000000002'),\n",
       " 'n': 1,\n",
       " 'nModified': 1,\n",
       " 'ok': 1.0,\n",
       " 'opTime': {'t': 2, 'ts': Timestamp(1505749225, 3)},\n",
       " 'updatedExisting': True}"
      ]
     },
     "metadata": {},
     "output_type": "display_data"
    },
    {
     "data": {
      "text/plain": [
       "{'electionId': ObjectId('7fffffff0000000000000002'),\n",
       " 'n': 1,\n",
       " 'nModified': 1,\n",
       " 'ok': 1.0,\n",
       " 'opTime': {'t': 2, 'ts': Timestamp(1505749226, 1)},\n",
       " 'updatedExisting': True}"
      ]
     },
     "metadata": {},
     "output_type": "display_data"
    },
    {
     "data": {
      "text/plain": [
       "{'electionId': ObjectId('7fffffff0000000000000002'),\n",
       " 'n': 1,\n",
       " 'nModified': 1,\n",
       " 'ok': 1.0,\n",
       " 'opTime': {'t': 2, 'ts': Timestamp(1505749226, 2)},\n",
       " 'updatedExisting': True}"
      ]
     },
     "metadata": {},
     "output_type": "display_data"
    },
    {
     "data": {
      "text/plain": [
       "{'electionId': ObjectId('7fffffff0000000000000002'),\n",
       " 'n': 1,\n",
       " 'nModified': 1,\n",
       " 'ok': 1.0,\n",
       " 'opTime': {'t': 2, 'ts': Timestamp(1505749226, 3)},\n",
       " 'updatedExisting': True}"
      ]
     },
     "metadata": {},
     "output_type": "display_data"
    },
    {
     "data": {
      "text/plain": [
       "{'electionId': ObjectId('7fffffff0000000000000002'),\n",
       " 'n': 1,\n",
       " 'nModified': 1,\n",
       " 'ok': 1.0,\n",
       " 'opTime': {'t': 2, 'ts': Timestamp(1505749226, 4)},\n",
       " 'updatedExisting': True}"
      ]
     },
     "metadata": {},
     "output_type": "display_data"
    },
    {
     "data": {
      "text/plain": [
       "{'electionId': ObjectId('7fffffff0000000000000002'),\n",
       " 'n': 1,\n",
       " 'nModified': 1,\n",
       " 'ok': 1.0,\n",
       " 'opTime': {'t': 2, 'ts': Timestamp(1505749227, 1)},\n",
       " 'updatedExisting': True}"
      ]
     },
     "metadata": {},
     "output_type": "display_data"
    },
    {
     "data": {
      "text/plain": [
       "{'electionId': ObjectId('7fffffff0000000000000002'),\n",
       " 'n': 1,\n",
       " 'nModified': 1,\n",
       " 'ok': 1.0,\n",
       " 'opTime': {'t': 2, 'ts': Timestamp(1505749227, 2)},\n",
       " 'updatedExisting': True}"
      ]
     },
     "metadata": {},
     "output_type": "display_data"
    },
    {
     "data": {
      "text/plain": [
       "{'electionId': ObjectId('7fffffff0000000000000002'),\n",
       " 'n': 1,\n",
       " 'nModified': 1,\n",
       " 'ok': 1.0,\n",
       " 'opTime': {'t': 2, 'ts': Timestamp(1505749227, 3)},\n",
       " 'updatedExisting': True}"
      ]
     },
     "metadata": {},
     "output_type": "display_data"
    },
    {
     "data": {
      "text/plain": [
       "{'electionId': ObjectId('7fffffff0000000000000002'),\n",
       " 'n': 1,\n",
       " 'nModified': 1,\n",
       " 'ok': 1.0,\n",
       " 'opTime': {'t': 2, 'ts': Timestamp(1505749227, 4)},\n",
       " 'updatedExisting': True}"
      ]
     },
     "metadata": {},
     "output_type": "display_data"
    },
    {
     "data": {
      "text/plain": [
       "{'electionId': ObjectId('7fffffff0000000000000002'),\n",
       " 'n': 1,\n",
       " 'nModified': 1,\n",
       " 'ok': 1.0,\n",
       " 'opTime': {'t': 2, 'ts': Timestamp(1505749229, 1)},\n",
       " 'updatedExisting': True}"
      ]
     },
     "metadata": {},
     "output_type": "display_data"
    },
    {
     "data": {
      "text/plain": [
       "{'electionId': ObjectId('7fffffff0000000000000002'),\n",
       " 'n': 1,\n",
       " 'nModified': 1,\n",
       " 'ok': 1.0,\n",
       " 'opTime': {'t': 2, 'ts': Timestamp(1505749229, 2)},\n",
       " 'updatedExisting': True}"
      ]
     },
     "metadata": {},
     "output_type": "display_data"
    },
    {
     "data": {
      "text/plain": [
       "{'electionId': ObjectId('7fffffff0000000000000002'),\n",
       " 'n': 1,\n",
       " 'nModified': 1,\n",
       " 'ok': 1.0,\n",
       " 'opTime': {'t': 2, 'ts': Timestamp(1505749229, 3)},\n",
       " 'updatedExisting': True}"
      ]
     },
     "metadata": {},
     "output_type": "display_data"
    },
    {
     "data": {
      "text/plain": [
       "{'electionId': ObjectId('7fffffff0000000000000002'),\n",
       " 'n': 1,\n",
       " 'nModified': 1,\n",
       " 'ok': 1.0,\n",
       " 'opTime': {'t': 2, 'ts': Timestamp(1505749229, 4)},\n",
       " 'updatedExisting': True}"
      ]
     },
     "metadata": {},
     "output_type": "display_data"
    },
    {
     "data": {
      "text/plain": [
       "{'electionId': ObjectId('7fffffff0000000000000002'),\n",
       " 'n': 1,\n",
       " 'nModified': 1,\n",
       " 'ok': 1.0,\n",
       " 'opTime': {'t': 2, 'ts': Timestamp(1505749230, 1)},\n",
       " 'updatedExisting': True}"
      ]
     },
     "metadata": {},
     "output_type": "display_data"
    },
    {
     "data": {
      "text/plain": [
       "{'electionId': ObjectId('7fffffff0000000000000002'),\n",
       " 'n': 1,\n",
       " 'nModified': 1,\n",
       " 'ok': 1.0,\n",
       " 'opTime': {'t': 2, 'ts': Timestamp(1505749230, 2)},\n",
       " 'updatedExisting': True}"
      ]
     },
     "metadata": {},
     "output_type": "display_data"
    },
    {
     "data": {
      "text/plain": [
       "{'electionId': ObjectId('7fffffff0000000000000002'),\n",
       " 'n': 1,\n",
       " 'nModified': 1,\n",
       " 'ok': 1.0,\n",
       " 'opTime': {'t': 2, 'ts': Timestamp(1505749230, 3)},\n",
       " 'updatedExisting': True}"
      ]
     },
     "metadata": {},
     "output_type": "display_data"
    },
    {
     "data": {
      "text/plain": [
       "{'electionId': ObjectId('7fffffff0000000000000002'),\n",
       " 'n': 1,\n",
       " 'nModified': 1,\n",
       " 'ok': 1.0,\n",
       " 'opTime': {'t': 2, 'ts': Timestamp(1505749230, 4)},\n",
       " 'updatedExisting': True}"
      ]
     },
     "metadata": {},
     "output_type": "display_data"
    },
    {
     "data": {
      "text/plain": [
       "{'electionId': ObjectId('7fffffff0000000000000002'),\n",
       " 'n': 1,\n",
       " 'nModified': 1,\n",
       " 'ok': 1.0,\n",
       " 'opTime': {'t': 2, 'ts': Timestamp(1505749231, 1)},\n",
       " 'updatedExisting': True}"
      ]
     },
     "metadata": {},
     "output_type": "display_data"
    },
    {
     "data": {
      "text/plain": [
       "{'electionId': ObjectId('7fffffff0000000000000002'),\n",
       " 'n': 1,\n",
       " 'nModified': 1,\n",
       " 'ok': 1.0,\n",
       " 'opTime': {'t': 2, 'ts': Timestamp(1505749231, 2)},\n",
       " 'updatedExisting': True}"
      ]
     },
     "metadata": {},
     "output_type": "display_data"
    },
    {
     "data": {
      "text/plain": [
       "{'electionId': ObjectId('7fffffff0000000000000002'),\n",
       " 'n': 1,\n",
       " 'nModified': 1,\n",
       " 'ok': 1.0,\n",
       " 'opTime': {'t': 2, 'ts': Timestamp(1505749231, 3)},\n",
       " 'updatedExisting': True}"
      ]
     },
     "metadata": {},
     "output_type": "display_data"
    },
    {
     "data": {
      "text/plain": [
       "{'electionId': ObjectId('7fffffff0000000000000002'),\n",
       " 'n': 1,\n",
       " 'nModified': 1,\n",
       " 'ok': 1.0,\n",
       " 'opTime': {'t': 2, 'ts': Timestamp(1505749231, 4)},\n",
       " 'updatedExisting': True}"
      ]
     },
     "metadata": {},
     "output_type": "display_data"
    },
    {
     "data": {
      "text/plain": [
       "{'electionId': ObjectId('7fffffff0000000000000002'),\n",
       " 'n': 1,\n",
       " 'nModified': 1,\n",
       " 'ok': 1.0,\n",
       " 'opTime': {'t': 2, 'ts': Timestamp(1505749231, 5)},\n",
       " 'updatedExisting': True}"
      ]
     },
     "metadata": {},
     "output_type": "display_data"
    },
    {
     "data": {
      "text/plain": [
       "{'electionId': ObjectId('7fffffff0000000000000002'),\n",
       " 'n': 1,\n",
       " 'nModified': 1,\n",
       " 'ok': 1.0,\n",
       " 'opTime': {'t': 2, 'ts': Timestamp(1505749232, 1)},\n",
       " 'updatedExisting': True}"
      ]
     },
     "metadata": {},
     "output_type": "display_data"
    },
    {
     "data": {
      "text/plain": [
       "{'electionId': ObjectId('7fffffff0000000000000002'),\n",
       " 'n': 1,\n",
       " 'nModified': 1,\n",
       " 'ok': 1.0,\n",
       " 'opTime': {'t': 2, 'ts': Timestamp(1505749232, 2)},\n",
       " 'updatedExisting': True}"
      ]
     },
     "metadata": {},
     "output_type": "display_data"
    },
    {
     "data": {
      "text/plain": [
       "{'electionId': ObjectId('7fffffff0000000000000002'),\n",
       " 'n': 1,\n",
       " 'nModified': 1,\n",
       " 'ok': 1.0,\n",
       " 'opTime': {'t': 2, 'ts': Timestamp(1505749232, 3)},\n",
       " 'updatedExisting': True}"
      ]
     },
     "metadata": {},
     "output_type": "display_data"
    },
    {
     "data": {
      "text/plain": [
       "{'electionId': ObjectId('7fffffff0000000000000002'),\n",
       " 'n': 1,\n",
       " 'nModified': 1,\n",
       " 'ok': 1.0,\n",
       " 'opTime': {'t': 2, 'ts': Timestamp(1505749232, 4)},\n",
       " 'updatedExisting': True}"
      ]
     },
     "metadata": {},
     "output_type": "display_data"
    },
    {
     "data": {
      "text/plain": [
       "{'electionId': ObjectId('7fffffff0000000000000002'),\n",
       " 'n': 1,\n",
       " 'nModified': 1,\n",
       " 'ok': 1.0,\n",
       " 'opTime': {'t': 2, 'ts': Timestamp(1505749233, 1)},\n",
       " 'updatedExisting': True}"
      ]
     },
     "metadata": {},
     "output_type": "display_data"
    },
    {
     "data": {
      "text/plain": [
       "{'electionId': ObjectId('7fffffff0000000000000002'),\n",
       " 'n': 1,\n",
       " 'nModified': 1,\n",
       " 'ok': 1.0,\n",
       " 'opTime': {'t': 2, 'ts': Timestamp(1505749233, 2)},\n",
       " 'updatedExisting': True}"
      ]
     },
     "metadata": {},
     "output_type": "display_data"
    },
    {
     "data": {
      "text/plain": [
       "{'electionId': ObjectId('7fffffff0000000000000002'),\n",
       " 'n': 1,\n",
       " 'nModified': 1,\n",
       " 'ok': 1.0,\n",
       " 'opTime': {'t': 2, 'ts': Timestamp(1505749233, 3)},\n",
       " 'updatedExisting': True}"
      ]
     },
     "metadata": {},
     "output_type": "display_data"
    },
    {
     "data": {
      "text/plain": [
       "{'electionId': ObjectId('7fffffff0000000000000002'),\n",
       " 'n': 1,\n",
       " 'nModified': 1,\n",
       " 'ok': 1.0,\n",
       " 'opTime': {'t': 2, 'ts': Timestamp(1505749234, 1)},\n",
       " 'updatedExisting': True}"
      ]
     },
     "metadata": {},
     "output_type": "display_data"
    },
    {
     "data": {
      "text/plain": [
       "{'electionId': ObjectId('7fffffff0000000000000002'),\n",
       " 'n': 1,\n",
       " 'nModified': 1,\n",
       " 'ok': 1.0,\n",
       " 'opTime': {'t': 2, 'ts': Timestamp(1505749234, 2)},\n",
       " 'updatedExisting': True}"
      ]
     },
     "metadata": {},
     "output_type": "display_data"
    },
    {
     "data": {
      "text/plain": [
       "{'electionId': ObjectId('7fffffff0000000000000002'),\n",
       " 'n': 1,\n",
       " 'nModified': 1,\n",
       " 'ok': 1.0,\n",
       " 'opTime': {'t': 2, 'ts': Timestamp(1505749234, 3)},\n",
       " 'updatedExisting': True}"
      ]
     },
     "metadata": {},
     "output_type": "display_data"
    },
    {
     "data": {
      "text/plain": [
       "{'electionId': ObjectId('7fffffff0000000000000002'),\n",
       " 'n': 1,\n",
       " 'nModified': 1,\n",
       " 'ok': 1.0,\n",
       " 'opTime': {'t': 2, 'ts': Timestamp(1505749235, 1)},\n",
       " 'updatedExisting': True}"
      ]
     },
     "metadata": {},
     "output_type": "display_data"
    },
    {
     "data": {
      "text/plain": [
       "{'electionId': ObjectId('7fffffff0000000000000002'),\n",
       " 'n': 1,\n",
       " 'nModified': 1,\n",
       " 'ok': 1.0,\n",
       " 'opTime': {'t': 2, 'ts': Timestamp(1505749235, 2)},\n",
       " 'updatedExisting': True}"
      ]
     },
     "metadata": {},
     "output_type": "display_data"
    },
    {
     "data": {
      "text/plain": [
       "{'electionId': ObjectId('7fffffff0000000000000002'),\n",
       " 'n': 1,\n",
       " 'nModified': 1,\n",
       " 'ok': 1.0,\n",
       " 'opTime': {'t': 2, 'ts': Timestamp(1505749235, 3)},\n",
       " 'updatedExisting': True}"
      ]
     },
     "metadata": {},
     "output_type": "display_data"
    },
    {
     "data": {
      "text/plain": [
       "{'electionId': ObjectId('7fffffff0000000000000002'),\n",
       " 'n': 1,\n",
       " 'nModified': 1,\n",
       " 'ok': 1.0,\n",
       " 'opTime': {'t': 2, 'ts': Timestamp(1505749235, 4)},\n",
       " 'updatedExisting': True}"
      ]
     },
     "metadata": {},
     "output_type": "display_data"
    },
    {
     "data": {
      "text/plain": [
       "{'electionId': ObjectId('7fffffff0000000000000002'),\n",
       " 'n': 1,\n",
       " 'nModified': 1,\n",
       " 'ok': 1.0,\n",
       " 'opTime': {'t': 2, 'ts': Timestamp(1505749236, 1)},\n",
       " 'updatedExisting': True}"
      ]
     },
     "metadata": {},
     "output_type": "display_data"
    },
    {
     "data": {
      "text/plain": [
       "{'electionId': ObjectId('7fffffff0000000000000002'),\n",
       " 'n': 1,\n",
       " 'nModified': 1,\n",
       " 'ok': 1.0,\n",
       " 'opTime': {'t': 2, 'ts': Timestamp(1505749236, 2)},\n",
       " 'updatedExisting': True}"
      ]
     },
     "metadata": {},
     "output_type": "display_data"
    },
    {
     "data": {
      "text/plain": [
       "{'electionId': ObjectId('7fffffff0000000000000002'),\n",
       " 'n': 1,\n",
       " 'nModified': 1,\n",
       " 'ok': 1.0,\n",
       " 'opTime': {'t': 2, 'ts': Timestamp(1505749236, 3)},\n",
       " 'updatedExisting': True}"
      ]
     },
     "metadata": {},
     "output_type": "display_data"
    },
    {
     "data": {
      "text/plain": [
       "{'electionId': ObjectId('7fffffff0000000000000002'),\n",
       " 'n': 1,\n",
       " 'nModified': 1,\n",
       " 'ok': 1.0,\n",
       " 'opTime': {'t': 2, 'ts': Timestamp(1505749236, 4)},\n",
       " 'updatedExisting': True}"
      ]
     },
     "metadata": {},
     "output_type": "display_data"
    },
    {
     "data": {
      "text/plain": [
       "{'electionId': ObjectId('7fffffff0000000000000002'),\n",
       " 'n': 1,\n",
       " 'nModified': 1,\n",
       " 'ok': 1.0,\n",
       " 'opTime': {'t': 2, 'ts': Timestamp(1505749237, 1)},\n",
       " 'updatedExisting': True}"
      ]
     },
     "metadata": {},
     "output_type": "display_data"
    },
    {
     "data": {
      "text/plain": [
       "{'electionId': ObjectId('7fffffff0000000000000002'),\n",
       " 'n': 1,\n",
       " 'nModified': 1,\n",
       " 'ok': 1.0,\n",
       " 'opTime': {'t': 2, 'ts': Timestamp(1505749237, 2)},\n",
       " 'updatedExisting': True}"
      ]
     },
     "metadata": {},
     "output_type": "display_data"
    },
    {
     "data": {
      "text/plain": [
       "{'electionId': ObjectId('7fffffff0000000000000002'),\n",
       " 'n': 1,\n",
       " 'nModified': 1,\n",
       " 'ok': 1.0,\n",
       " 'opTime': {'t': 2, 'ts': Timestamp(1505749237, 3)},\n",
       " 'updatedExisting': True}"
      ]
     },
     "metadata": {},
     "output_type": "display_data"
    },
    {
     "data": {
      "text/plain": [
       "{'electionId': ObjectId('7fffffff0000000000000002'),\n",
       " 'n': 1,\n",
       " 'nModified': 1,\n",
       " 'ok': 1.0,\n",
       " 'opTime': {'t': 2, 'ts': Timestamp(1505749237, 4)},\n",
       " 'updatedExisting': True}"
      ]
     },
     "metadata": {},
     "output_type": "display_data"
    },
    {
     "data": {
      "text/plain": [
       "{'electionId': ObjectId('7fffffff0000000000000002'),\n",
       " 'n': 1,\n",
       " 'nModified': 1,\n",
       " 'ok': 1.0,\n",
       " 'opTime': {'t': 2, 'ts': Timestamp(1505749238, 1)},\n",
       " 'updatedExisting': True}"
      ]
     },
     "metadata": {},
     "output_type": "display_data"
    },
    {
     "data": {
      "text/plain": [
       "{'electionId': ObjectId('7fffffff0000000000000002'),\n",
       " 'n': 1,\n",
       " 'nModified': 1,\n",
       " 'ok': 1.0,\n",
       " 'opTime': {'t': 2, 'ts': Timestamp(1505749238, 2)},\n",
       " 'updatedExisting': True}"
      ]
     },
     "metadata": {},
     "output_type": "display_data"
    },
    {
     "data": {
      "text/plain": [
       "{'electionId': ObjectId('7fffffff0000000000000002'),\n",
       " 'n': 1,\n",
       " 'nModified': 1,\n",
       " 'ok': 1.0,\n",
       " 'opTime': {'t': 2, 'ts': Timestamp(1505749239, 1)},\n",
       " 'updatedExisting': True}"
      ]
     },
     "metadata": {},
     "output_type": "display_data"
    },
    {
     "data": {
      "text/plain": [
       "{'electionId': ObjectId('7fffffff0000000000000002'),\n",
       " 'n': 1,\n",
       " 'nModified': 1,\n",
       " 'ok': 1.0,\n",
       " 'opTime': {'t': 2, 'ts': Timestamp(1505749239, 2)},\n",
       " 'updatedExisting': True}"
      ]
     },
     "metadata": {},
     "output_type": "display_data"
    },
    {
     "data": {
      "text/plain": [
       "{'electionId': ObjectId('7fffffff0000000000000002'),\n",
       " 'n': 1,\n",
       " 'nModified': 1,\n",
       " 'ok': 1.0,\n",
       " 'opTime': {'t': 2, 'ts': Timestamp(1505749240, 1)},\n",
       " 'updatedExisting': True}"
      ]
     },
     "metadata": {},
     "output_type": "display_data"
    },
    {
     "data": {
      "text/plain": [
       "{'electionId': ObjectId('7fffffff0000000000000002'),\n",
       " 'n': 1,\n",
       " 'nModified': 1,\n",
       " 'ok': 1.0,\n",
       " 'opTime': {'t': 2, 'ts': Timestamp(1505749240, 2)},\n",
       " 'updatedExisting': True}"
      ]
     },
     "metadata": {},
     "output_type": "display_data"
    },
    {
     "data": {
      "text/plain": [
       "{'electionId': ObjectId('7fffffff0000000000000002'),\n",
       " 'n': 1,\n",
       " 'nModified': 1,\n",
       " 'ok': 1.0,\n",
       " 'opTime': {'t': 2, 'ts': Timestamp(1505749240, 3)},\n",
       " 'updatedExisting': True}"
      ]
     },
     "metadata": {},
     "output_type": "display_data"
    },
    {
     "data": {
      "text/plain": [
       "{'electionId': ObjectId('7fffffff0000000000000002'),\n",
       " 'n': 1,\n",
       " 'nModified': 1,\n",
       " 'ok': 1.0,\n",
       " 'opTime': {'t': 2, 'ts': Timestamp(1505749240, 4)},\n",
       " 'updatedExisting': True}"
      ]
     },
     "metadata": {},
     "output_type": "display_data"
    },
    {
     "data": {
      "text/plain": [
       "{'electionId': ObjectId('7fffffff0000000000000002'),\n",
       " 'n': 1,\n",
       " 'nModified': 1,\n",
       " 'ok': 1.0,\n",
       " 'opTime': {'t': 2, 'ts': Timestamp(1505749242, 1)},\n",
       " 'updatedExisting': True}"
      ]
     },
     "metadata": {},
     "output_type": "display_data"
    },
    {
     "data": {
      "text/plain": [
       "{'electionId': ObjectId('7fffffff0000000000000002'),\n",
       " 'n': 1,\n",
       " 'nModified': 1,\n",
       " 'ok': 1.0,\n",
       " 'opTime': {'t': 2, 'ts': Timestamp(1505749242, 2)},\n",
       " 'updatedExisting': True}"
      ]
     },
     "metadata": {},
     "output_type": "display_data"
    },
    {
     "data": {
      "text/plain": [
       "{'electionId': ObjectId('7fffffff0000000000000002'),\n",
       " 'n': 1,\n",
       " 'nModified': 1,\n",
       " 'ok': 1.0,\n",
       " 'opTime': {'t': 2, 'ts': Timestamp(1505749242, 3)},\n",
       " 'updatedExisting': True}"
      ]
     },
     "metadata": {},
     "output_type": "display_data"
    },
    {
     "data": {
      "text/plain": [
       "{'electionId': ObjectId('7fffffff0000000000000002'),\n",
       " 'n': 1,\n",
       " 'nModified': 1,\n",
       " 'ok': 1.0,\n",
       " 'opTime': {'t': 2, 'ts': Timestamp(1505749242, 4)},\n",
       " 'updatedExisting': True}"
      ]
     },
     "metadata": {},
     "output_type": "display_data"
    },
    {
     "data": {
      "text/plain": [
       "{'electionId': ObjectId('7fffffff0000000000000002'),\n",
       " 'n': 1,\n",
       " 'nModified': 1,\n",
       " 'ok': 1.0,\n",
       " 'opTime': {'t': 2, 'ts': Timestamp(1505749242, 5)},\n",
       " 'updatedExisting': True}"
      ]
     },
     "metadata": {},
     "output_type": "display_data"
    },
    {
     "data": {
      "text/plain": [
       "{'electionId': ObjectId('7fffffff0000000000000002'),\n",
       " 'n': 1,\n",
       " 'nModified': 1,\n",
       " 'ok': 1.0,\n",
       " 'opTime': {'t': 2, 'ts': Timestamp(1505749243, 1)},\n",
       " 'updatedExisting': True}"
      ]
     },
     "metadata": {},
     "output_type": "display_data"
    },
    {
     "data": {
      "text/plain": [
       "{'electionId': ObjectId('7fffffff0000000000000002'),\n",
       " 'n': 1,\n",
       " 'nModified': 1,\n",
       " 'ok': 1.0,\n",
       " 'opTime': {'t': 2, 'ts': Timestamp(1505749243, 2)},\n",
       " 'updatedExisting': True}"
      ]
     },
     "metadata": {},
     "output_type": "display_data"
    },
    {
     "data": {
      "text/plain": [
       "{'electionId': ObjectId('7fffffff0000000000000002'),\n",
       " 'n': 1,\n",
       " 'nModified': 1,\n",
       " 'ok': 1.0,\n",
       " 'opTime': {'t': 2, 'ts': Timestamp(1505749243, 3)},\n",
       " 'updatedExisting': True}"
      ]
     },
     "metadata": {},
     "output_type": "display_data"
    },
    {
     "data": {
      "text/plain": [
       "{'electionId': ObjectId('7fffffff0000000000000002'),\n",
       " 'n': 1,\n",
       " 'nModified': 1,\n",
       " 'ok': 1.0,\n",
       " 'opTime': {'t': 2, 'ts': Timestamp(1505749244, 1)},\n",
       " 'updatedExisting': True}"
      ]
     },
     "metadata": {},
     "output_type": "display_data"
    },
    {
     "data": {
      "text/plain": [
       "{'electionId': ObjectId('7fffffff0000000000000002'),\n",
       " 'n': 1,\n",
       " 'nModified': 1,\n",
       " 'ok': 1.0,\n",
       " 'opTime': {'t': 2, 'ts': Timestamp(1505749244, 2)},\n",
       " 'updatedExisting': True}"
      ]
     },
     "metadata": {},
     "output_type": "display_data"
    },
    {
     "data": {
      "text/plain": [
       "{'electionId': ObjectId('7fffffff0000000000000002'),\n",
       " 'n': 1,\n",
       " 'nModified': 1,\n",
       " 'ok': 1.0,\n",
       " 'opTime': {'t': 2, 'ts': Timestamp(1505749244, 3)},\n",
       " 'updatedExisting': True}"
      ]
     },
     "metadata": {},
     "output_type": "display_data"
    },
    {
     "data": {
      "text/plain": [
       "{'electionId': ObjectId('7fffffff0000000000000002'),\n",
       " 'n': 1,\n",
       " 'nModified': 1,\n",
       " 'ok': 1.0,\n",
       " 'opTime': {'t': 2, 'ts': Timestamp(1505749245, 1)},\n",
       " 'updatedExisting': True}"
      ]
     },
     "metadata": {},
     "output_type": "display_data"
    },
    {
     "data": {
      "text/plain": [
       "{'electionId': ObjectId('7fffffff0000000000000002'),\n",
       " 'n': 1,\n",
       " 'nModified': 1,\n",
       " 'ok': 1.0,\n",
       " 'opTime': {'t': 2, 'ts': Timestamp(1505749245, 2)},\n",
       " 'updatedExisting': True}"
      ]
     },
     "metadata": {},
     "output_type": "display_data"
    },
    {
     "data": {
      "text/plain": [
       "{'electionId': ObjectId('7fffffff0000000000000002'),\n",
       " 'n': 1,\n",
       " 'nModified': 1,\n",
       " 'ok': 1.0,\n",
       " 'opTime': {'t': 2, 'ts': Timestamp(1505749245, 3)},\n",
       " 'updatedExisting': True}"
      ]
     },
     "metadata": {},
     "output_type": "display_data"
    },
    {
     "data": {
      "text/plain": [
       "{'electionId': ObjectId('7fffffff0000000000000002'),\n",
       " 'n': 1,\n",
       " 'nModified': 1,\n",
       " 'ok': 1.0,\n",
       " 'opTime': {'t': 2, 'ts': Timestamp(1505749246, 1)},\n",
       " 'updatedExisting': True}"
      ]
     },
     "metadata": {},
     "output_type": "display_data"
    },
    {
     "data": {
      "text/plain": [
       "{'electionId': ObjectId('7fffffff0000000000000002'),\n",
       " 'n': 1,\n",
       " 'nModified': 1,\n",
       " 'ok': 1.0,\n",
       " 'opTime': {'t': 2, 'ts': Timestamp(1505749246, 2)},\n",
       " 'updatedExisting': True}"
      ]
     },
     "metadata": {},
     "output_type": "display_data"
    },
    {
     "data": {
      "text/plain": [
       "{'electionId': ObjectId('7fffffff0000000000000002'),\n",
       " 'n': 1,\n",
       " 'nModified': 1,\n",
       " 'ok': 1.0,\n",
       " 'opTime': {'t': 2, 'ts': Timestamp(1505749246, 3)},\n",
       " 'updatedExisting': True}"
      ]
     },
     "metadata": {},
     "output_type": "display_data"
    },
    {
     "data": {
      "text/plain": [
       "{'electionId': ObjectId('7fffffff0000000000000002'),\n",
       " 'n': 1,\n",
       " 'nModified': 1,\n",
       " 'ok': 1.0,\n",
       " 'opTime': {'t': 2, 'ts': Timestamp(1505749247, 1)},\n",
       " 'updatedExisting': True}"
      ]
     },
     "metadata": {},
     "output_type": "display_data"
    },
    {
     "data": {
      "text/plain": [
       "{'electionId': ObjectId('7fffffff0000000000000002'),\n",
       " 'n': 1,\n",
       " 'nModified': 1,\n",
       " 'ok': 1.0,\n",
       " 'opTime': {'t': 2, 'ts': Timestamp(1505749247, 2)},\n",
       " 'updatedExisting': True}"
      ]
     },
     "metadata": {},
     "output_type": "display_data"
    },
    {
     "data": {
      "text/plain": [
       "{'electionId': ObjectId('7fffffff0000000000000002'),\n",
       " 'n': 1,\n",
       " 'nModified': 1,\n",
       " 'ok': 1.0,\n",
       " 'opTime': {'t': 2, 'ts': Timestamp(1505749248, 1)},\n",
       " 'updatedExisting': True}"
      ]
     },
     "metadata": {},
     "output_type": "display_data"
    },
    {
     "data": {
      "text/plain": [
       "{'electionId': ObjectId('7fffffff0000000000000002'),\n",
       " 'n': 1,\n",
       " 'nModified': 1,\n",
       " 'ok': 1.0,\n",
       " 'opTime': {'t': 2, 'ts': Timestamp(1505749248, 2)},\n",
       " 'updatedExisting': True}"
      ]
     },
     "metadata": {},
     "output_type": "display_data"
    },
    {
     "data": {
      "text/plain": [
       "{'electionId': ObjectId('7fffffff0000000000000002'),\n",
       " 'n': 1,\n",
       " 'nModified': 1,\n",
       " 'ok': 1.0,\n",
       " 'opTime': {'t': 2, 'ts': Timestamp(1505749248, 3)},\n",
       " 'updatedExisting': True}"
      ]
     },
     "metadata": {},
     "output_type": "display_data"
    },
    {
     "data": {
      "text/plain": [
       "{'electionId': ObjectId('7fffffff0000000000000002'),\n",
       " 'n': 1,\n",
       " 'nModified': 1,\n",
       " 'ok': 1.0,\n",
       " 'opTime': {'t': 2, 'ts': Timestamp(1505749249, 1)},\n",
       " 'updatedExisting': True}"
      ]
     },
     "metadata": {},
     "output_type": "display_data"
    },
    {
     "data": {
      "text/plain": [
       "{'electionId': ObjectId('7fffffff0000000000000002'),\n",
       " 'n': 1,\n",
       " 'nModified': 1,\n",
       " 'ok': 1.0,\n",
       " 'opTime': {'t': 2, 'ts': Timestamp(1505749249, 2)},\n",
       " 'updatedExisting': True}"
      ]
     },
     "metadata": {},
     "output_type": "display_data"
    },
    {
     "data": {
      "text/plain": [
       "{'electionId': ObjectId('7fffffff0000000000000002'),\n",
       " 'n': 1,\n",
       " 'nModified': 1,\n",
       " 'ok': 1.0,\n",
       " 'opTime': {'t': 2, 'ts': Timestamp(1505749250, 1)},\n",
       " 'updatedExisting': True}"
      ]
     },
     "metadata": {},
     "output_type": "display_data"
    },
    {
     "data": {
      "text/plain": [
       "{'electionId': ObjectId('7fffffff0000000000000002'),\n",
       " 'n': 1,\n",
       " 'nModified': 1,\n",
       " 'ok': 1.0,\n",
       " 'opTime': {'t': 2, 'ts': Timestamp(1505749250, 2)},\n",
       " 'updatedExisting': True}"
      ]
     },
     "metadata": {},
     "output_type": "display_data"
    },
    {
     "data": {
      "text/plain": [
       "{'electionId': ObjectId('7fffffff0000000000000002'),\n",
       " 'n': 1,\n",
       " 'nModified': 1,\n",
       " 'ok': 1.0,\n",
       " 'opTime': {'t': 2, 'ts': Timestamp(1505749250, 3)},\n",
       " 'updatedExisting': True}"
      ]
     },
     "metadata": {},
     "output_type": "display_data"
    },
    {
     "data": {
      "text/plain": [
       "{'electionId': ObjectId('7fffffff0000000000000002'),\n",
       " 'n': 1,\n",
       " 'nModified': 1,\n",
       " 'ok': 1.0,\n",
       " 'opTime': {'t': 2, 'ts': Timestamp(1505749250, 4)},\n",
       " 'updatedExisting': True}"
      ]
     },
     "metadata": {},
     "output_type": "display_data"
    },
    {
     "data": {
      "text/plain": [
       "{'electionId': ObjectId('7fffffff0000000000000002'),\n",
       " 'n': 1,\n",
       " 'nModified': 1,\n",
       " 'ok': 1.0,\n",
       " 'opTime': {'t': 2, 'ts': Timestamp(1505749251, 1)},\n",
       " 'updatedExisting': True}"
      ]
     },
     "metadata": {},
     "output_type": "display_data"
    },
    {
     "data": {
      "text/plain": [
       "{'electionId': ObjectId('7fffffff0000000000000002'),\n",
       " 'n': 1,\n",
       " 'nModified': 1,\n",
       " 'ok': 1.0,\n",
       " 'opTime': {'t': 2, 'ts': Timestamp(1505749251, 2)},\n",
       " 'updatedExisting': True}"
      ]
     },
     "metadata": {},
     "output_type": "display_data"
    },
    {
     "data": {
      "text/plain": [
       "{'electionId': ObjectId('7fffffff0000000000000002'),\n",
       " 'n': 1,\n",
       " 'nModified': 1,\n",
       " 'ok': 1.0,\n",
       " 'opTime': {'t': 2, 'ts': Timestamp(1505749251, 3)},\n",
       " 'updatedExisting': True}"
      ]
     },
     "metadata": {},
     "output_type": "display_data"
    },
    {
     "data": {
      "text/plain": [
       "{'electionId': ObjectId('7fffffff0000000000000002'),\n",
       " 'n': 1,\n",
       " 'nModified': 1,\n",
       " 'ok': 1.0,\n",
       " 'opTime': {'t': 2, 'ts': Timestamp(1505749252, 1)},\n",
       " 'updatedExisting': True}"
      ]
     },
     "metadata": {},
     "output_type": "display_data"
    },
    {
     "data": {
      "text/plain": [
       "{'electionId': ObjectId('7fffffff0000000000000002'),\n",
       " 'n': 1,\n",
       " 'nModified': 1,\n",
       " 'ok': 1.0,\n",
       " 'opTime': {'t': 2, 'ts': Timestamp(1505749252, 2)},\n",
       " 'updatedExisting': True}"
      ]
     },
     "metadata": {},
     "output_type": "display_data"
    },
    {
     "data": {
      "text/plain": [
       "{'electionId': ObjectId('7fffffff0000000000000002'),\n",
       " 'n': 1,\n",
       " 'nModified': 1,\n",
       " 'ok': 1.0,\n",
       " 'opTime': {'t': 2, 'ts': Timestamp(1505749252, 3)},\n",
       " 'updatedExisting': True}"
      ]
     },
     "metadata": {},
     "output_type": "display_data"
    },
    {
     "data": {
      "text/plain": [
       "{'electionId': ObjectId('7fffffff0000000000000002'),\n",
       " 'n': 1,\n",
       " 'nModified': 1,\n",
       " 'ok': 1.0,\n",
       " 'opTime': {'t': 2, 'ts': Timestamp(1505749252, 4)},\n",
       " 'updatedExisting': True}"
      ]
     },
     "metadata": {},
     "output_type": "display_data"
    },
    {
     "data": {
      "text/plain": [
       "{'electionId': ObjectId('7fffffff0000000000000002'),\n",
       " 'n': 1,\n",
       " 'nModified': 1,\n",
       " 'ok': 1.0,\n",
       " 'opTime': {'t': 2, 'ts': Timestamp(1505749253, 1)},\n",
       " 'updatedExisting': True}"
      ]
     },
     "metadata": {},
     "output_type": "display_data"
    },
    {
     "data": {
      "text/plain": [
       "{'electionId': ObjectId('7fffffff0000000000000002'),\n",
       " 'n': 1,\n",
       " 'nModified': 1,\n",
       " 'ok': 1.0,\n",
       " 'opTime': {'t': 2, 'ts': Timestamp(1505749253, 2)},\n",
       " 'updatedExisting': True}"
      ]
     },
     "metadata": {},
     "output_type": "display_data"
    },
    {
     "data": {
      "text/plain": [
       "{'electionId': ObjectId('7fffffff0000000000000002'),\n",
       " 'n': 1,\n",
       " 'nModified': 1,\n",
       " 'ok': 1.0,\n",
       " 'opTime': {'t': 2, 'ts': Timestamp(1505749253, 3)},\n",
       " 'updatedExisting': True}"
      ]
     },
     "metadata": {},
     "output_type": "display_data"
    },
    {
     "data": {
      "text/plain": [
       "{'electionId': ObjectId('7fffffff0000000000000002'),\n",
       " 'n': 1,\n",
       " 'nModified': 1,\n",
       " 'ok': 1.0,\n",
       " 'opTime': {'t': 2, 'ts': Timestamp(1505749254, 1)},\n",
       " 'updatedExisting': True}"
      ]
     },
     "metadata": {},
     "output_type": "display_data"
    },
    {
     "data": {
      "text/plain": [
       "{'electionId': ObjectId('7fffffff0000000000000002'),\n",
       " 'n': 1,\n",
       " 'nModified': 1,\n",
       " 'ok': 1.0,\n",
       " 'opTime': {'t': 2, 'ts': Timestamp(1505749254, 2)},\n",
       " 'updatedExisting': True}"
      ]
     },
     "metadata": {},
     "output_type": "display_data"
    },
    {
     "data": {
      "text/plain": [
       "{'electionId': ObjectId('7fffffff0000000000000002'),\n",
       " 'n': 1,\n",
       " 'nModified': 1,\n",
       " 'ok': 1.0,\n",
       " 'opTime': {'t': 2, 'ts': Timestamp(1505749255, 1)},\n",
       " 'updatedExisting': True}"
      ]
     },
     "metadata": {},
     "output_type": "display_data"
    },
    {
     "data": {
      "text/plain": [
       "{'electionId': ObjectId('7fffffff0000000000000002'),\n",
       " 'n': 1,\n",
       " 'nModified': 1,\n",
       " 'ok': 1.0,\n",
       " 'opTime': {'t': 2, 'ts': Timestamp(1505749255, 2)},\n",
       " 'updatedExisting': True}"
      ]
     },
     "metadata": {},
     "output_type": "display_data"
    },
    {
     "data": {
      "text/plain": [
       "{'electionId': ObjectId('7fffffff0000000000000002'),\n",
       " 'n': 1,\n",
       " 'nModified': 1,\n",
       " 'ok': 1.0,\n",
       " 'opTime': {'t': 2, 'ts': Timestamp(1505749256, 1)},\n",
       " 'updatedExisting': True}"
      ]
     },
     "metadata": {},
     "output_type": "display_data"
    },
    {
     "data": {
      "text/plain": [
       "{'electionId': ObjectId('7fffffff0000000000000002'),\n",
       " 'n': 1,\n",
       " 'nModified': 1,\n",
       " 'ok': 1.0,\n",
       " 'opTime': {'t': 2, 'ts': Timestamp(1505749257, 1)},\n",
       " 'updatedExisting': True}"
      ]
     },
     "metadata": {},
     "output_type": "display_data"
    },
    {
     "data": {
      "text/plain": [
       "{'electionId': ObjectId('7fffffff0000000000000002'),\n",
       " 'n': 1,\n",
       " 'nModified': 1,\n",
       " 'ok': 1.0,\n",
       " 'opTime': {'t': 2, 'ts': Timestamp(1505749257, 2)},\n",
       " 'updatedExisting': True}"
      ]
     },
     "metadata": {},
     "output_type": "display_data"
    },
    {
     "data": {
      "text/plain": [
       "{'electionId': ObjectId('7fffffff0000000000000002'),\n",
       " 'n': 1,\n",
       " 'nModified': 1,\n",
       " 'ok': 1.0,\n",
       " 'opTime': {'t': 2, 'ts': Timestamp(1505749258, 1)},\n",
       " 'updatedExisting': True}"
      ]
     },
     "metadata": {},
     "output_type": "display_data"
    },
    {
     "data": {
      "text/plain": [
       "{'electionId': ObjectId('7fffffff0000000000000002'),\n",
       " 'n': 1,\n",
       " 'nModified': 1,\n",
       " 'ok': 1.0,\n",
       " 'opTime': {'t': 2, 'ts': Timestamp(1505749258, 2)},\n",
       " 'updatedExisting': True}"
      ]
     },
     "metadata": {},
     "output_type": "display_data"
    },
    {
     "data": {
      "text/plain": [
       "{'electionId': ObjectId('7fffffff0000000000000002'),\n",
       " 'n': 1,\n",
       " 'nModified': 1,\n",
       " 'ok': 1.0,\n",
       " 'opTime': {'t': 2, 'ts': Timestamp(1505749259, 1)},\n",
       " 'updatedExisting': True}"
      ]
     },
     "metadata": {},
     "output_type": "display_data"
    },
    {
     "data": {
      "text/plain": [
       "{'electionId': ObjectId('7fffffff0000000000000002'),\n",
       " 'n': 1,\n",
       " 'nModified': 1,\n",
       " 'ok': 1.0,\n",
       " 'opTime': {'t': 2, 'ts': Timestamp(1505749259, 2)},\n",
       " 'updatedExisting': True}"
      ]
     },
     "metadata": {},
     "output_type": "display_data"
    },
    {
     "data": {
      "text/plain": [
       "{'electionId': ObjectId('7fffffff0000000000000002'),\n",
       " 'n': 1,\n",
       " 'nModified': 1,\n",
       " 'ok': 1.0,\n",
       " 'opTime': {'t': 2, 'ts': Timestamp(1505749259, 3)},\n",
       " 'updatedExisting': True}"
      ]
     },
     "metadata": {},
     "output_type": "display_data"
    },
    {
     "data": {
      "text/plain": [
       "{'electionId': ObjectId('7fffffff0000000000000002'),\n",
       " 'n': 1,\n",
       " 'nModified': 1,\n",
       " 'ok': 1.0,\n",
       " 'opTime': {'t': 2, 'ts': Timestamp(1505749259, 4)},\n",
       " 'updatedExisting': True}"
      ]
     },
     "metadata": {},
     "output_type": "display_data"
    },
    {
     "data": {
      "text/plain": [
       "{'electionId': ObjectId('7fffffff0000000000000002'),\n",
       " 'n': 1,\n",
       " 'nModified': 1,\n",
       " 'ok': 1.0,\n",
       " 'opTime': {'t': 2, 'ts': Timestamp(1505749260, 1)},\n",
       " 'updatedExisting': True}"
      ]
     },
     "metadata": {},
     "output_type": "display_data"
    },
    {
     "data": {
      "text/plain": [
       "{'electionId': ObjectId('7fffffff0000000000000002'),\n",
       " 'n': 1,\n",
       " 'nModified': 1,\n",
       " 'ok': 1.0,\n",
       " 'opTime': {'t': 2, 'ts': Timestamp(1505749260, 2)},\n",
       " 'updatedExisting': True}"
      ]
     },
     "metadata": {},
     "output_type": "display_data"
    },
    {
     "data": {
      "text/plain": [
       "{'electionId': ObjectId('7fffffff0000000000000002'),\n",
       " 'n': 1,\n",
       " 'nModified': 1,\n",
       " 'ok': 1.0,\n",
       " 'opTime': {'t': 2, 'ts': Timestamp(1505749260, 3)},\n",
       " 'updatedExisting': True}"
      ]
     },
     "metadata": {},
     "output_type": "display_data"
    },
    {
     "data": {
      "text/plain": [
       "{'electionId': ObjectId('7fffffff0000000000000002'),\n",
       " 'n': 1,\n",
       " 'nModified': 1,\n",
       " 'ok': 1.0,\n",
       " 'opTime': {'t': 2, 'ts': Timestamp(1505749261, 1)},\n",
       " 'updatedExisting': True}"
      ]
     },
     "metadata": {},
     "output_type": "display_data"
    },
    {
     "data": {
      "text/plain": [
       "{'electionId': ObjectId('7fffffff0000000000000002'),\n",
       " 'n': 1,\n",
       " 'nModified': 1,\n",
       " 'ok': 1.0,\n",
       " 'opTime': {'t': 2, 'ts': Timestamp(1505749261, 2)},\n",
       " 'updatedExisting': True}"
      ]
     },
     "metadata": {},
     "output_type": "display_data"
    },
    {
     "data": {
      "text/plain": [
       "{'electionId': ObjectId('7fffffff0000000000000002'),\n",
       " 'n': 1,\n",
       " 'nModified': 1,\n",
       " 'ok': 1.0,\n",
       " 'opTime': {'t': 2, 'ts': Timestamp(1505749261, 3)},\n",
       " 'updatedExisting': True}"
      ]
     },
     "metadata": {},
     "output_type": "display_data"
    },
    {
     "data": {
      "text/plain": [
       "{'electionId': ObjectId('7fffffff0000000000000002'),\n",
       " 'n': 1,\n",
       " 'nModified': 1,\n",
       " 'ok': 1.0,\n",
       " 'opTime': {'t': 2, 'ts': Timestamp(1505749262, 1)},\n",
       " 'updatedExisting': True}"
      ]
     },
     "metadata": {},
     "output_type": "display_data"
    },
    {
     "data": {
      "text/plain": [
       "{'electionId': ObjectId('7fffffff0000000000000002'),\n",
       " 'n': 1,\n",
       " 'nModified': 1,\n",
       " 'ok': 1.0,\n",
       " 'opTime': {'t': 2, 'ts': Timestamp(1505749262, 2)},\n",
       " 'updatedExisting': True}"
      ]
     },
     "metadata": {},
     "output_type": "display_data"
    },
    {
     "data": {
      "text/plain": [
       "{'electionId': ObjectId('7fffffff0000000000000002'),\n",
       " 'n': 1,\n",
       " 'nModified': 1,\n",
       " 'ok': 1.0,\n",
       " 'opTime': {'t': 2, 'ts': Timestamp(1505749263, 1)},\n",
       " 'updatedExisting': True}"
      ]
     },
     "metadata": {},
     "output_type": "display_data"
    },
    {
     "data": {
      "text/plain": [
       "{'electionId': ObjectId('7fffffff0000000000000002'),\n",
       " 'n': 1,\n",
       " 'nModified': 1,\n",
       " 'ok': 1.0,\n",
       " 'opTime': {'t': 2, 'ts': Timestamp(1505749263, 2)},\n",
       " 'updatedExisting': True}"
      ]
     },
     "metadata": {},
     "output_type": "display_data"
    },
    {
     "data": {
      "text/plain": [
       "{'electionId': ObjectId('7fffffff0000000000000002'),\n",
       " 'n': 1,\n",
       " 'nModified': 1,\n",
       " 'ok': 1.0,\n",
       " 'opTime': {'t': 2, 'ts': Timestamp(1505749263, 3)},\n",
       " 'updatedExisting': True}"
      ]
     },
     "metadata": {},
     "output_type": "display_data"
    },
    {
     "data": {
      "text/plain": [
       "{'electionId': ObjectId('7fffffff0000000000000002'),\n",
       " 'n': 1,\n",
       " 'nModified': 1,\n",
       " 'ok': 1.0,\n",
       " 'opTime': {'t': 2, 'ts': Timestamp(1505749264, 1)},\n",
       " 'updatedExisting': True}"
      ]
     },
     "metadata": {},
     "output_type": "display_data"
    },
    {
     "data": {
      "text/plain": [
       "{'electionId': ObjectId('7fffffff0000000000000002'),\n",
       " 'n': 1,\n",
       " 'nModified': 1,\n",
       " 'ok': 1.0,\n",
       " 'opTime': {'t': 2, 'ts': Timestamp(1505749264, 2)},\n",
       " 'updatedExisting': True}"
      ]
     },
     "metadata": {},
     "output_type": "display_data"
    },
    {
     "data": {
      "text/plain": [
       "{'electionId': ObjectId('7fffffff0000000000000002'),\n",
       " 'n': 1,\n",
       " 'nModified': 1,\n",
       " 'ok': 1.0,\n",
       " 'opTime': {'t': 2, 'ts': Timestamp(1505749265, 1)},\n",
       " 'updatedExisting': True}"
      ]
     },
     "metadata": {},
     "output_type": "display_data"
    },
    {
     "data": {
      "text/plain": [
       "{'electionId': ObjectId('7fffffff0000000000000002'),\n",
       " 'n': 1,\n",
       " 'nModified': 1,\n",
       " 'ok': 1.0,\n",
       " 'opTime': {'t': 2, 'ts': Timestamp(1505749265, 2)},\n",
       " 'updatedExisting': True}"
      ]
     },
     "metadata": {},
     "output_type": "display_data"
    },
    {
     "data": {
      "text/plain": [
       "{'electionId': ObjectId('7fffffff0000000000000002'),\n",
       " 'n': 1,\n",
       " 'nModified': 1,\n",
       " 'ok': 1.0,\n",
       " 'opTime': {'t': 2, 'ts': Timestamp(1505749266, 1)},\n",
       " 'updatedExisting': True}"
      ]
     },
     "metadata": {},
     "output_type": "display_data"
    },
    {
     "data": {
      "text/plain": [
       "{'electionId': ObjectId('7fffffff0000000000000002'),\n",
       " 'n': 1,\n",
       " 'nModified': 1,\n",
       " 'ok': 1.0,\n",
       " 'opTime': {'t': 2, 'ts': Timestamp(1505749266, 2)},\n",
       " 'updatedExisting': True}"
      ]
     },
     "metadata": {},
     "output_type": "display_data"
    },
    {
     "data": {
      "text/plain": [
       "{'electionId': ObjectId('7fffffff0000000000000002'),\n",
       " 'n': 1,\n",
       " 'nModified': 1,\n",
       " 'ok': 1.0,\n",
       " 'opTime': {'t': 2, 'ts': Timestamp(1505749267, 1)},\n",
       " 'updatedExisting': True}"
      ]
     },
     "metadata": {},
     "output_type": "display_data"
    },
    {
     "data": {
      "text/plain": [
       "{'electionId': ObjectId('7fffffff0000000000000002'),\n",
       " 'n': 1,\n",
       " 'nModified': 1,\n",
       " 'ok': 1.0,\n",
       " 'opTime': {'t': 2, 'ts': Timestamp(1505749267, 2)},\n",
       " 'updatedExisting': True}"
      ]
     },
     "metadata": {},
     "output_type": "display_data"
    },
    {
     "data": {
      "text/plain": [
       "{'electionId': ObjectId('7fffffff0000000000000002'),\n",
       " 'n': 1,\n",
       " 'nModified': 1,\n",
       " 'ok': 1.0,\n",
       " 'opTime': {'t': 2, 'ts': Timestamp(1505749268, 1)},\n",
       " 'updatedExisting': True}"
      ]
     },
     "metadata": {},
     "output_type": "display_data"
    },
    {
     "data": {
      "text/plain": [
       "{'electionId': ObjectId('7fffffff0000000000000002'),\n",
       " 'n': 1,\n",
       " 'nModified': 1,\n",
       " 'ok': 1.0,\n",
       " 'opTime': {'t': 2, 'ts': Timestamp(1505749268, 2)},\n",
       " 'updatedExisting': True}"
      ]
     },
     "metadata": {},
     "output_type": "display_data"
    },
    {
     "data": {
      "text/plain": [
       "{'electionId': ObjectId('7fffffff0000000000000002'),\n",
       " 'n': 1,\n",
       " 'nModified': 1,\n",
       " 'ok': 1.0,\n",
       " 'opTime': {'t': 2, 'ts': Timestamp(1505749269, 1)},\n",
       " 'updatedExisting': True}"
      ]
     },
     "metadata": {},
     "output_type": "display_data"
    },
    {
     "data": {
      "text/plain": [
       "{'electionId': ObjectId('7fffffff0000000000000002'),\n",
       " 'n': 1,\n",
       " 'nModified': 1,\n",
       " 'ok': 1.0,\n",
       " 'opTime': {'t': 2, 'ts': Timestamp(1505749269, 2)},\n",
       " 'updatedExisting': True}"
      ]
     },
     "metadata": {},
     "output_type": "display_data"
    },
    {
     "data": {
      "text/plain": [
       "{'electionId': ObjectId('7fffffff0000000000000002'),\n",
       " 'n': 1,\n",
       " 'nModified': 1,\n",
       " 'ok': 1.0,\n",
       " 'opTime': {'t': 2, 'ts': Timestamp(1505749270, 1)},\n",
       " 'updatedExisting': True}"
      ]
     },
     "metadata": {},
     "output_type": "display_data"
    },
    {
     "data": {
      "text/plain": [
       "{'electionId': ObjectId('7fffffff0000000000000002'),\n",
       " 'n': 1,\n",
       " 'nModified': 1,\n",
       " 'ok': 1.0,\n",
       " 'opTime': {'t': 2, 'ts': Timestamp(1505749270, 2)},\n",
       " 'updatedExisting': True}"
      ]
     },
     "metadata": {},
     "output_type": "display_data"
    },
    {
     "data": {
      "text/plain": [
       "{'electionId': ObjectId('7fffffff0000000000000002'),\n",
       " 'n': 1,\n",
       " 'nModified': 1,\n",
       " 'ok': 1.0,\n",
       " 'opTime': {'t': 2, 'ts': Timestamp(1505749270, 3)},\n",
       " 'updatedExisting': True}"
      ]
     },
     "metadata": {},
     "output_type": "display_data"
    },
    {
     "data": {
      "text/plain": [
       "{'electionId': ObjectId('7fffffff0000000000000002'),\n",
       " 'n': 1,\n",
       " 'nModified': 1,\n",
       " 'ok': 1.0,\n",
       " 'opTime': {'t': 2, 'ts': Timestamp(1505749271, 1)},\n",
       " 'updatedExisting': True}"
      ]
     },
     "metadata": {},
     "output_type": "display_data"
    },
    {
     "data": {
      "text/plain": [
       "{'electionId': ObjectId('7fffffff0000000000000002'),\n",
       " 'n': 1,\n",
       " 'nModified': 1,\n",
       " 'ok': 1.0,\n",
       " 'opTime': {'t': 2, 'ts': Timestamp(1505749271, 2)},\n",
       " 'updatedExisting': True}"
      ]
     },
     "metadata": {},
     "output_type": "display_data"
    },
    {
     "data": {
      "text/plain": [
       "{'electionId': ObjectId('7fffffff0000000000000002'),\n",
       " 'n': 1,\n",
       " 'nModified': 1,\n",
       " 'ok': 1.0,\n",
       " 'opTime': {'t': 2, 'ts': Timestamp(1505749272, 1)},\n",
       " 'updatedExisting': True}"
      ]
     },
     "metadata": {},
     "output_type": "display_data"
    },
    {
     "data": {
      "text/plain": [
       "{'electionId': ObjectId('7fffffff0000000000000002'),\n",
       " 'n': 1,\n",
       " 'nModified': 1,\n",
       " 'ok': 1.0,\n",
       " 'opTime': {'t': 2, 'ts': Timestamp(1505749272, 2)},\n",
       " 'updatedExisting': True}"
      ]
     },
     "metadata": {},
     "output_type": "display_data"
    },
    {
     "data": {
      "text/plain": [
       "{'electionId': ObjectId('7fffffff0000000000000002'),\n",
       " 'n': 1,\n",
       " 'nModified': 1,\n",
       " 'ok': 1.0,\n",
       " 'opTime': {'t': 2, 'ts': Timestamp(1505749272, 3)},\n",
       " 'updatedExisting': True}"
      ]
     },
     "metadata": {},
     "output_type": "display_data"
    },
    {
     "data": {
      "text/plain": [
       "{'electionId': ObjectId('7fffffff0000000000000002'),\n",
       " 'n': 1,\n",
       " 'nModified': 1,\n",
       " 'ok': 1.0,\n",
       " 'opTime': {'t': 2, 'ts': Timestamp(1505749273, 1)},\n",
       " 'updatedExisting': True}"
      ]
     },
     "metadata": {},
     "output_type": "display_data"
    },
    {
     "data": {
      "text/plain": [
       "{'electionId': ObjectId('7fffffff0000000000000002'),\n",
       " 'n': 1,\n",
       " 'nModified': 1,\n",
       " 'ok': 1.0,\n",
       " 'opTime': {'t': 2, 'ts': Timestamp(1505749273, 2)},\n",
       " 'updatedExisting': True}"
      ]
     },
     "metadata": {},
     "output_type": "display_data"
    },
    {
     "data": {
      "text/plain": [
       "{'electionId': ObjectId('7fffffff0000000000000002'),\n",
       " 'n': 1,\n",
       " 'nModified': 1,\n",
       " 'ok': 1.0,\n",
       " 'opTime': {'t': 2, 'ts': Timestamp(1505749274, 1)},\n",
       " 'updatedExisting': True}"
      ]
     },
     "metadata": {},
     "output_type": "display_data"
    },
    {
     "data": {
      "text/plain": [
       "{'electionId': ObjectId('7fffffff0000000000000002'),\n",
       " 'n': 1,\n",
       " 'nModified': 1,\n",
       " 'ok': 1.0,\n",
       " 'opTime': {'t': 2, 'ts': Timestamp(1505749274, 2)},\n",
       " 'updatedExisting': True}"
      ]
     },
     "metadata": {},
     "output_type": "display_data"
    },
    {
     "data": {
      "text/plain": [
       "{'electionId': ObjectId('7fffffff0000000000000002'),\n",
       " 'n': 1,\n",
       " 'nModified': 1,\n",
       " 'ok': 1.0,\n",
       " 'opTime': {'t': 2, 'ts': Timestamp(1505749275, 1)},\n",
       " 'updatedExisting': True}"
      ]
     },
     "metadata": {},
     "output_type": "display_data"
    },
    {
     "data": {
      "text/plain": [
       "{'electionId': ObjectId('7fffffff0000000000000002'),\n",
       " 'n': 1,\n",
       " 'nModified': 1,\n",
       " 'ok': 1.0,\n",
       " 'opTime': {'t': 2, 'ts': Timestamp(1505749276, 1)},\n",
       " 'updatedExisting': True}"
      ]
     },
     "metadata": {},
     "output_type": "display_data"
    },
    {
     "data": {
      "text/plain": [
       "{'electionId': ObjectId('7fffffff0000000000000002'),\n",
       " 'n': 1,\n",
       " 'nModified': 1,\n",
       " 'ok': 1.0,\n",
       " 'opTime': {'t': 2, 'ts': Timestamp(1505749276, 2)},\n",
       " 'updatedExisting': True}"
      ]
     },
     "metadata": {},
     "output_type": "display_data"
    },
    {
     "data": {
      "text/plain": [
       "{'electionId': ObjectId('7fffffff0000000000000002'),\n",
       " 'n': 1,\n",
       " 'nModified': 1,\n",
       " 'ok': 1.0,\n",
       " 'opTime': {'t': 2, 'ts': Timestamp(1505749277, 1)},\n",
       " 'updatedExisting': True}"
      ]
     },
     "metadata": {},
     "output_type": "display_data"
    },
    {
     "data": {
      "text/plain": [
       "{'electionId': ObjectId('7fffffff0000000000000002'),\n",
       " 'n': 1,\n",
       " 'nModified': 1,\n",
       " 'ok': 1.0,\n",
       " 'opTime': {'t': 2, 'ts': Timestamp(1505749277, 2)},\n",
       " 'updatedExisting': True}"
      ]
     },
     "metadata": {},
     "output_type": "display_data"
    },
    {
     "data": {
      "text/plain": [
       "{'electionId': ObjectId('7fffffff0000000000000002'),\n",
       " 'n': 1,\n",
       " 'nModified': 1,\n",
       " 'ok': 1.0,\n",
       " 'opTime': {'t': 2, 'ts': Timestamp(1505749278, 1)},\n",
       " 'updatedExisting': True}"
      ]
     },
     "metadata": {},
     "output_type": "display_data"
    },
    {
     "data": {
      "text/plain": [
       "{'electionId': ObjectId('7fffffff0000000000000002'),\n",
       " 'n': 1,\n",
       " 'nModified': 1,\n",
       " 'ok': 1.0,\n",
       " 'opTime': {'t': 2, 'ts': Timestamp(1505749279, 1)},\n",
       " 'updatedExisting': True}"
      ]
     },
     "metadata": {},
     "output_type": "display_data"
    },
    {
     "data": {
      "text/plain": [
       "{'electionId': ObjectId('7fffffff0000000000000002'),\n",
       " 'n': 1,\n",
       " 'nModified': 1,\n",
       " 'ok': 1.0,\n",
       " 'opTime': {'t': 2, 'ts': Timestamp(1505749280, 1)},\n",
       " 'updatedExisting': True}"
      ]
     },
     "metadata": {},
     "output_type": "display_data"
    },
    {
     "data": {
      "text/plain": [
       "{'electionId': ObjectId('7fffffff0000000000000002'),\n",
       " 'n': 1,\n",
       " 'nModified': 1,\n",
       " 'ok': 1.0,\n",
       " 'opTime': {'t': 2, 'ts': Timestamp(1505749286, 1)},\n",
       " 'updatedExisting': True}"
      ]
     },
     "metadata": {},
     "output_type": "display_data"
    },
    {
     "data": {
      "text/plain": [
       "{'electionId': ObjectId('7fffffff0000000000000002'),\n",
       " 'n': 1,\n",
       " 'nModified': 1,\n",
       " 'ok': 1.0,\n",
       " 'opTime': {'t': 2, 'ts': Timestamp(1505749286, 2)},\n",
       " 'updatedExisting': True}"
      ]
     },
     "metadata": {},
     "output_type": "display_data"
    },
    {
     "data": {
      "text/plain": [
       "{'electionId': ObjectId('7fffffff0000000000000002'),\n",
       " 'n': 1,\n",
       " 'nModified': 1,\n",
       " 'ok': 1.0,\n",
       " 'opTime': {'t': 2, 'ts': Timestamp(1505749287, 1)},\n",
       " 'updatedExisting': True}"
      ]
     },
     "metadata": {},
     "output_type": "display_data"
    },
    {
     "data": {
      "text/plain": [
       "{'electionId': ObjectId('7fffffff0000000000000002'),\n",
       " 'n': 1,\n",
       " 'nModified': 1,\n",
       " 'ok': 1.0,\n",
       " 'opTime': {'t': 2, 'ts': Timestamp(1505749287, 2)},\n",
       " 'updatedExisting': True}"
      ]
     },
     "metadata": {},
     "output_type": "display_data"
    },
    {
     "data": {
      "text/plain": [
       "{'electionId': ObjectId('7fffffff0000000000000002'),\n",
       " 'n': 1,\n",
       " 'nModified': 1,\n",
       " 'ok': 1.0,\n",
       " 'opTime': {'t': 2, 'ts': Timestamp(1505749288, 1)},\n",
       " 'updatedExisting': True}"
      ]
     },
     "metadata": {},
     "output_type": "display_data"
    },
    {
     "data": {
      "text/plain": [
       "{'electionId': ObjectId('7fffffff0000000000000002'),\n",
       " 'n': 1,\n",
       " 'nModified': 1,\n",
       " 'ok': 1.0,\n",
       " 'opTime': {'t': 2, 'ts': Timestamp(1505749288, 2)},\n",
       " 'updatedExisting': True}"
      ]
     },
     "metadata": {},
     "output_type": "display_data"
    },
    {
     "data": {
      "text/plain": [
       "{'electionId': ObjectId('7fffffff0000000000000002'),\n",
       " 'n': 1,\n",
       " 'nModified': 1,\n",
       " 'ok': 1.0,\n",
       " 'opTime': {'t': 2, 'ts': Timestamp(1505749289, 1)},\n",
       " 'updatedExisting': True}"
      ]
     },
     "metadata": {},
     "output_type": "display_data"
    },
    {
     "data": {
      "text/plain": [
       "{'electionId': ObjectId('7fffffff0000000000000002'),\n",
       " 'n': 1,\n",
       " 'nModified': 1,\n",
       " 'ok': 1.0,\n",
       " 'opTime': {'t': 2, 'ts': Timestamp(1505749290, 1)},\n",
       " 'updatedExisting': True}"
      ]
     },
     "metadata": {},
     "output_type": "display_data"
    },
    {
     "data": {
      "text/plain": [
       "{'electionId': ObjectId('7fffffff0000000000000002'),\n",
       " 'n': 1,\n",
       " 'nModified': 1,\n",
       " 'ok': 1.0,\n",
       " 'opTime': {'t': 2, 'ts': Timestamp(1505749290, 2)},\n",
       " 'updatedExisting': True}"
      ]
     },
     "metadata": {},
     "output_type": "display_data"
    },
    {
     "data": {
      "text/plain": [
       "{'electionId': ObjectId('7fffffff0000000000000002'),\n",
       " 'n': 1,\n",
       " 'nModified': 1,\n",
       " 'ok': 1.0,\n",
       " 'opTime': {'t': 2, 'ts': Timestamp(1505749291, 1)},\n",
       " 'updatedExisting': True}"
      ]
     },
     "metadata": {},
     "output_type": "display_data"
    },
    {
     "data": {
      "text/plain": [
       "{'electionId': ObjectId('7fffffff0000000000000002'),\n",
       " 'n': 1,\n",
       " 'nModified': 1,\n",
       " 'ok': 1.0,\n",
       " 'opTime': {'t': 2, 'ts': Timestamp(1505749291, 2)},\n",
       " 'updatedExisting': True}"
      ]
     },
     "metadata": {},
     "output_type": "display_data"
    },
    {
     "data": {
      "text/plain": [
       "{'electionId': ObjectId('7fffffff0000000000000002'),\n",
       " 'n': 1,\n",
       " 'nModified': 1,\n",
       " 'ok': 1.0,\n",
       " 'opTime': {'t': 2, 'ts': Timestamp(1505749292, 1)},\n",
       " 'updatedExisting': True}"
      ]
     },
     "metadata": {},
     "output_type": "display_data"
    },
    {
     "data": {
      "text/plain": [
       "{'electionId': ObjectId('7fffffff0000000000000002'),\n",
       " 'n': 1,\n",
       " 'nModified': 1,\n",
       " 'ok': 1.0,\n",
       " 'opTime': {'t': 2, 'ts': Timestamp(1505749292, 2)},\n",
       " 'updatedExisting': True}"
      ]
     },
     "metadata": {},
     "output_type": "display_data"
    },
    {
     "data": {
      "text/plain": [
       "{'electionId': ObjectId('7fffffff0000000000000002'),\n",
       " 'n': 1,\n",
       " 'nModified': 1,\n",
       " 'ok': 1.0,\n",
       " 'opTime': {'t': 2, 'ts': Timestamp(1505749293, 1)},\n",
       " 'updatedExisting': True}"
      ]
     },
     "metadata": {},
     "output_type": "display_data"
    },
    {
     "data": {
      "text/plain": [
       "{'electionId': ObjectId('7fffffff0000000000000002'),\n",
       " 'n': 1,\n",
       " 'nModified': 1,\n",
       " 'ok': 1.0,\n",
       " 'opTime': {'t': 2, 'ts': Timestamp(1505749294, 1)},\n",
       " 'updatedExisting': True}"
      ]
     },
     "metadata": {},
     "output_type": "display_data"
    },
    {
     "data": {
      "text/plain": [
       "{'electionId': ObjectId('7fffffff0000000000000002'),\n",
       " 'n': 1,\n",
       " 'nModified': 1,\n",
       " 'ok': 1.0,\n",
       " 'opTime': {'t': 2, 'ts': Timestamp(1505749294, 2)},\n",
       " 'updatedExisting': True}"
      ]
     },
     "metadata": {},
     "output_type": "display_data"
    },
    {
     "data": {
      "text/plain": [
       "{'electionId': ObjectId('7fffffff0000000000000002'),\n",
       " 'n': 1,\n",
       " 'nModified': 1,\n",
       " 'ok': 1.0,\n",
       " 'opTime': {'t': 2, 'ts': Timestamp(1505749294, 3)},\n",
       " 'updatedExisting': True}"
      ]
     },
     "metadata": {},
     "output_type": "display_data"
    },
    {
     "data": {
      "text/plain": [
       "{'electionId': ObjectId('7fffffff0000000000000002'),\n",
       " 'n': 1,\n",
       " 'nModified': 1,\n",
       " 'ok': 1.0,\n",
       " 'opTime': {'t': 2, 'ts': Timestamp(1505749295, 1)},\n",
       " 'updatedExisting': True}"
      ]
     },
     "metadata": {},
     "output_type": "display_data"
    },
    {
     "data": {
      "text/plain": [
       "{'electionId': ObjectId('7fffffff0000000000000002'),\n",
       " 'n': 1,\n",
       " 'nModified': 1,\n",
       " 'ok': 1.0,\n",
       " 'opTime': {'t': 2, 'ts': Timestamp(1505749295, 2)},\n",
       " 'updatedExisting': True}"
      ]
     },
     "metadata": {},
     "output_type": "display_data"
    },
    {
     "data": {
      "text/plain": [
       "{'electionId': ObjectId('7fffffff0000000000000002'),\n",
       " 'n': 1,\n",
       " 'nModified': 1,\n",
       " 'ok': 1.0,\n",
       " 'opTime': {'t': 2, 'ts': Timestamp(1505749295, 3)},\n",
       " 'updatedExisting': True}"
      ]
     },
     "metadata": {},
     "output_type": "display_data"
    },
    {
     "data": {
      "text/plain": [
       "{'electionId': ObjectId('7fffffff0000000000000002'),\n",
       " 'n': 1,\n",
       " 'nModified': 1,\n",
       " 'ok': 1.0,\n",
       " 'opTime': {'t': 2, 'ts': Timestamp(1505749296, 1)},\n",
       " 'updatedExisting': True}"
      ]
     },
     "metadata": {},
     "output_type": "display_data"
    },
    {
     "data": {
      "text/plain": [
       "{'electionId': ObjectId('7fffffff0000000000000002'),\n",
       " 'n': 1,\n",
       " 'nModified': 1,\n",
       " 'ok': 1.0,\n",
       " 'opTime': {'t': 2, 'ts': Timestamp(1505749296, 2)},\n",
       " 'updatedExisting': True}"
      ]
     },
     "metadata": {},
     "output_type": "display_data"
    },
    {
     "data": {
      "text/plain": [
       "{'electionId': ObjectId('7fffffff0000000000000002'),\n",
       " 'n': 1,\n",
       " 'nModified': 1,\n",
       " 'ok': 1.0,\n",
       " 'opTime': {'t': 2, 'ts': Timestamp(1505749296, 3)},\n",
       " 'updatedExisting': True}"
      ]
     },
     "metadata": {},
     "output_type": "display_data"
    },
    {
     "data": {
      "text/plain": [
       "{'electionId': ObjectId('7fffffff0000000000000002'),\n",
       " 'n': 1,\n",
       " 'nModified': 1,\n",
       " 'ok': 1.0,\n",
       " 'opTime': {'t': 2, 'ts': Timestamp(1505749297, 1)},\n",
       " 'updatedExisting': True}"
      ]
     },
     "metadata": {},
     "output_type": "display_data"
    },
    {
     "data": {
      "text/plain": [
       "{'electionId': ObjectId('7fffffff0000000000000002'),\n",
       " 'n': 1,\n",
       " 'nModified': 1,\n",
       " 'ok': 1.0,\n",
       " 'opTime': {'t': 2, 'ts': Timestamp(1505749297, 2)},\n",
       " 'updatedExisting': True}"
      ]
     },
     "metadata": {},
     "output_type": "display_data"
    },
    {
     "data": {
      "text/plain": [
       "{'electionId': ObjectId('7fffffff0000000000000002'),\n",
       " 'n': 1,\n",
       " 'nModified': 1,\n",
       " 'ok': 1.0,\n",
       " 'opTime': {'t': 2, 'ts': Timestamp(1505749298, 1)},\n",
       " 'updatedExisting': True}"
      ]
     },
     "metadata": {},
     "output_type": "display_data"
    },
    {
     "data": {
      "text/plain": [
       "{'electionId': ObjectId('7fffffff0000000000000002'),\n",
       " 'n': 1,\n",
       " 'nModified': 1,\n",
       " 'ok': 1.0,\n",
       " 'opTime': {'t': 2, 'ts': Timestamp(1505749298, 2)},\n",
       " 'updatedExisting': True}"
      ]
     },
     "metadata": {},
     "output_type": "display_data"
    },
    {
     "data": {
      "text/plain": [
       "{'electionId': ObjectId('7fffffff0000000000000002'),\n",
       " 'n': 1,\n",
       " 'nModified': 1,\n",
       " 'ok': 1.0,\n",
       " 'opTime': {'t': 2, 'ts': Timestamp(1505749299, 1)},\n",
       " 'updatedExisting': True}"
      ]
     },
     "metadata": {},
     "output_type": "display_data"
    },
    {
     "data": {
      "text/plain": [
       "{'electionId': ObjectId('7fffffff0000000000000002'),\n",
       " 'n': 1,\n",
       " 'nModified': 1,\n",
       " 'ok': 1.0,\n",
       " 'opTime': {'t': 2, 'ts': Timestamp(1505749299, 2)},\n",
       " 'updatedExisting': True}"
      ]
     },
     "metadata": {},
     "output_type": "display_data"
    },
    {
     "data": {
      "text/plain": [
       "{'electionId': ObjectId('7fffffff0000000000000002'),\n",
       " 'n': 1,\n",
       " 'nModified': 1,\n",
       " 'ok': 1.0,\n",
       " 'opTime': {'t': 2, 'ts': Timestamp(1505749300, 1)},\n",
       " 'updatedExisting': True}"
      ]
     },
     "metadata": {},
     "output_type": "display_data"
    },
    {
     "data": {
      "text/plain": [
       "{'electionId': ObjectId('7fffffff0000000000000002'),\n",
       " 'n': 1,\n",
       " 'nModified': 1,\n",
       " 'ok': 1.0,\n",
       " 'opTime': {'t': 2, 'ts': Timestamp(1505749301, 1)},\n",
       " 'updatedExisting': True}"
      ]
     },
     "metadata": {},
     "output_type": "display_data"
    },
    {
     "data": {
      "text/plain": [
       "{'electionId': ObjectId('7fffffff0000000000000002'),\n",
       " 'n': 1,\n",
       " 'nModified': 1,\n",
       " 'ok': 1.0,\n",
       " 'opTime': {'t': 2, 'ts': Timestamp(1505749301, 2)},\n",
       " 'updatedExisting': True}"
      ]
     },
     "metadata": {},
     "output_type": "display_data"
    },
    {
     "data": {
      "text/plain": [
       "{'electionId': ObjectId('7fffffff0000000000000002'),\n",
       " 'n': 1,\n",
       " 'nModified': 1,\n",
       " 'ok': 1.0,\n",
       " 'opTime': {'t': 2, 'ts': Timestamp(1505749302, 1)},\n",
       " 'updatedExisting': True}"
      ]
     },
     "metadata": {},
     "output_type": "display_data"
    },
    {
     "data": {
      "text/plain": [
       "{'electionId': ObjectId('7fffffff0000000000000002'),\n",
       " 'n': 1,\n",
       " 'nModified': 1,\n",
       " 'ok': 1.0,\n",
       " 'opTime': {'t': 2, 'ts': Timestamp(1505749302, 2)},\n",
       " 'updatedExisting': True}"
      ]
     },
     "metadata": {},
     "output_type": "display_data"
    },
    {
     "data": {
      "text/plain": [
       "{'electionId': ObjectId('7fffffff0000000000000002'),\n",
       " 'n': 1,\n",
       " 'nModified': 1,\n",
       " 'ok': 1.0,\n",
       " 'opTime': {'t': 2, 'ts': Timestamp(1505749302, 3)},\n",
       " 'updatedExisting': True}"
      ]
     },
     "metadata": {},
     "output_type": "display_data"
    },
    {
     "data": {
      "text/plain": [
       "{'electionId': ObjectId('7fffffff0000000000000002'),\n",
       " 'n': 1,\n",
       " 'nModified': 1,\n",
       " 'ok': 1.0,\n",
       " 'opTime': {'t': 2, 'ts': Timestamp(1505749303, 1)},\n",
       " 'updatedExisting': True}"
      ]
     },
     "metadata": {},
     "output_type": "display_data"
    },
    {
     "data": {
      "text/plain": [
       "{'electionId': ObjectId('7fffffff0000000000000002'),\n",
       " 'n': 1,\n",
       " 'nModified': 1,\n",
       " 'ok': 1.0,\n",
       " 'opTime': {'t': 2, 'ts': Timestamp(1505749303, 2)},\n",
       " 'updatedExisting': True}"
      ]
     },
     "metadata": {},
     "output_type": "display_data"
    },
    {
     "data": {
      "text/plain": [
       "{'electionId': ObjectId('7fffffff0000000000000002'),\n",
       " 'n': 1,\n",
       " 'nModified': 1,\n",
       " 'ok': 1.0,\n",
       " 'opTime': {'t': 2, 'ts': Timestamp(1505749303, 3)},\n",
       " 'updatedExisting': True}"
      ]
     },
     "metadata": {},
     "output_type": "display_data"
    },
    {
     "data": {
      "text/plain": [
       "{'electionId': ObjectId('7fffffff0000000000000002'),\n",
       " 'n': 1,\n",
       " 'nModified': 1,\n",
       " 'ok': 1.0,\n",
       " 'opTime': {'t': 2, 'ts': Timestamp(1505749303, 4)},\n",
       " 'updatedExisting': True}"
      ]
     },
     "metadata": {},
     "output_type": "display_data"
    },
    {
     "data": {
      "text/plain": [
       "{'electionId': ObjectId('7fffffff0000000000000002'),\n",
       " 'n': 1,\n",
       " 'nModified': 1,\n",
       " 'ok': 1.0,\n",
       " 'opTime': {'t': 2, 'ts': Timestamp(1505749304, 1)},\n",
       " 'updatedExisting': True}"
      ]
     },
     "metadata": {},
     "output_type": "display_data"
    },
    {
     "data": {
      "text/plain": [
       "{'electionId': ObjectId('7fffffff0000000000000002'),\n",
       " 'n': 1,\n",
       " 'nModified': 1,\n",
       " 'ok': 1.0,\n",
       " 'opTime': {'t': 2, 'ts': Timestamp(1505749304, 2)},\n",
       " 'updatedExisting': True}"
      ]
     },
     "metadata": {},
     "output_type": "display_data"
    },
    {
     "data": {
      "text/plain": [
       "{'electionId': ObjectId('7fffffff0000000000000002'),\n",
       " 'n': 1,\n",
       " 'nModified': 1,\n",
       " 'ok': 1.0,\n",
       " 'opTime': {'t': 2, 'ts': Timestamp(1505749305, 1)},\n",
       " 'updatedExisting': True}"
      ]
     },
     "metadata": {},
     "output_type": "display_data"
    },
    {
     "data": {
      "text/plain": [
       "{'electionId': ObjectId('7fffffff0000000000000002'),\n",
       " 'n': 1,\n",
       " 'nModified': 1,\n",
       " 'ok': 1.0,\n",
       " 'opTime': {'t': 2, 'ts': Timestamp(1505749305, 2)},\n",
       " 'updatedExisting': True}"
      ]
     },
     "metadata": {},
     "output_type": "display_data"
    },
    {
     "data": {
      "text/plain": [
       "{'electionId': ObjectId('7fffffff0000000000000002'),\n",
       " 'n': 1,\n",
       " 'nModified': 1,\n",
       " 'ok': 1.0,\n",
       " 'opTime': {'t': 2, 'ts': Timestamp(1505749306, 1)},\n",
       " 'updatedExisting': True}"
      ]
     },
     "metadata": {},
     "output_type": "display_data"
    },
    {
     "data": {
      "text/plain": [
       "{'electionId': ObjectId('7fffffff0000000000000002'),\n",
       " 'n': 1,\n",
       " 'nModified': 1,\n",
       " 'ok': 1.0,\n",
       " 'opTime': {'t': 2, 'ts': Timestamp(1505749309, 1)},\n",
       " 'updatedExisting': True}"
      ]
     },
     "metadata": {},
     "output_type": "display_data"
    },
    {
     "data": {
      "text/plain": [
       "{'electionId': ObjectId('7fffffff0000000000000002'),\n",
       " 'n': 1,\n",
       " 'nModified': 1,\n",
       " 'ok': 1.0,\n",
       " 'opTime': {'t': 2, 'ts': Timestamp(1505749309, 2)},\n",
       " 'updatedExisting': True}"
      ]
     },
     "metadata": {},
     "output_type": "display_data"
    },
    {
     "data": {
      "text/plain": [
       "{'electionId': ObjectId('7fffffff0000000000000002'),\n",
       " 'n': 1,\n",
       " 'nModified': 1,\n",
       " 'ok': 1.0,\n",
       " 'opTime': {'t': 2, 'ts': Timestamp(1505749309, 3)},\n",
       " 'updatedExisting': True}"
      ]
     },
     "metadata": {},
     "output_type": "display_data"
    },
    {
     "data": {
      "text/plain": [
       "{'electionId': ObjectId('7fffffff0000000000000002'),\n",
       " 'n': 1,\n",
       " 'nModified': 1,\n",
       " 'ok': 1.0,\n",
       " 'opTime': {'t': 2, 'ts': Timestamp(1505749309, 4)},\n",
       " 'updatedExisting': True}"
      ]
     },
     "metadata": {},
     "output_type": "display_data"
    },
    {
     "data": {
      "text/plain": [
       "{'electionId': ObjectId('7fffffff0000000000000002'),\n",
       " 'n': 1,\n",
       " 'nModified': 1,\n",
       " 'ok': 1.0,\n",
       " 'opTime': {'t': 2, 'ts': Timestamp(1505749310, 1)},\n",
       " 'updatedExisting': True}"
      ]
     },
     "metadata": {},
     "output_type": "display_data"
    },
    {
     "data": {
      "text/plain": [
       "{'electionId': ObjectId('7fffffff0000000000000002'),\n",
       " 'n': 1,\n",
       " 'nModified': 1,\n",
       " 'ok': 1.0,\n",
       " 'opTime': {'t': 2, 'ts': Timestamp(1505749310, 2)},\n",
       " 'updatedExisting': True}"
      ]
     },
     "metadata": {},
     "output_type": "display_data"
    },
    {
     "data": {
      "text/plain": [
       "{'electionId': ObjectId('7fffffff0000000000000002'),\n",
       " 'n': 1,\n",
       " 'nModified': 1,\n",
       " 'ok': 1.0,\n",
       " 'opTime': {'t': 2, 'ts': Timestamp(1505749310, 3)},\n",
       " 'updatedExisting': True}"
      ]
     },
     "metadata": {},
     "output_type": "display_data"
    },
    {
     "data": {
      "text/plain": [
       "{'electionId': ObjectId('7fffffff0000000000000002'),\n",
       " 'n': 1,\n",
       " 'nModified': 1,\n",
       " 'ok': 1.0,\n",
       " 'opTime': {'t': 2, 'ts': Timestamp(1505749311, 1)},\n",
       " 'updatedExisting': True}"
      ]
     },
     "metadata": {},
     "output_type": "display_data"
    },
    {
     "data": {
      "text/plain": [
       "{'electionId': ObjectId('7fffffff0000000000000002'),\n",
       " 'n': 1,\n",
       " 'nModified': 1,\n",
       " 'ok': 1.0,\n",
       " 'opTime': {'t': 2, 'ts': Timestamp(1505749311, 2)},\n",
       " 'updatedExisting': True}"
      ]
     },
     "metadata": {},
     "output_type": "display_data"
    },
    {
     "data": {
      "text/plain": [
       "{'electionId': ObjectId('7fffffff0000000000000002'),\n",
       " 'n': 1,\n",
       " 'nModified': 1,\n",
       " 'ok': 1.0,\n",
       " 'opTime': {'t': 2, 'ts': Timestamp(1505749315, 1)},\n",
       " 'updatedExisting': True}"
      ]
     },
     "metadata": {},
     "output_type": "display_data"
    },
    {
     "data": {
      "text/plain": [
       "{'electionId': ObjectId('7fffffff0000000000000002'),\n",
       " 'n': 1,\n",
       " 'nModified': 1,\n",
       " 'ok': 1.0,\n",
       " 'opTime': {'t': 2, 'ts': Timestamp(1505749315, 2)},\n",
       " 'updatedExisting': True}"
      ]
     },
     "metadata": {},
     "output_type": "display_data"
    },
    {
     "data": {
      "text/plain": [
       "{'electionId': ObjectId('7fffffff0000000000000002'),\n",
       " 'n': 1,\n",
       " 'nModified': 1,\n",
       " 'ok': 1.0,\n",
       " 'opTime': {'t': 2, 'ts': Timestamp(1505749316, 1)},\n",
       " 'updatedExisting': True}"
      ]
     },
     "metadata": {},
     "output_type": "display_data"
    },
    {
     "data": {
      "text/plain": [
       "{'electionId': ObjectId('7fffffff0000000000000002'),\n",
       " 'n': 1,\n",
       " 'nModified': 1,\n",
       " 'ok': 1.0,\n",
       " 'opTime': {'t': 2, 'ts': Timestamp(1505749316, 2)},\n",
       " 'updatedExisting': True}"
      ]
     },
     "metadata": {},
     "output_type": "display_data"
    },
    {
     "data": {
      "text/plain": [
       "{'electionId': ObjectId('7fffffff0000000000000002'),\n",
       " 'n': 1,\n",
       " 'nModified': 1,\n",
       " 'ok': 1.0,\n",
       " 'opTime': {'t': 2, 'ts': Timestamp(1505749317, 1)},\n",
       " 'updatedExisting': True}"
      ]
     },
     "metadata": {},
     "output_type": "display_data"
    },
    {
     "data": {
      "text/plain": [
       "{'electionId': ObjectId('7fffffff0000000000000002'),\n",
       " 'n': 1,\n",
       " 'nModified': 1,\n",
       " 'ok': 1.0,\n",
       " 'opTime': {'t': 2, 'ts': Timestamp(1505749317, 2)},\n",
       " 'updatedExisting': True}"
      ]
     },
     "metadata": {},
     "output_type": "display_data"
    },
    {
     "data": {
      "text/plain": [
       "{'electionId': ObjectId('7fffffff0000000000000002'),\n",
       " 'n': 1,\n",
       " 'nModified': 1,\n",
       " 'ok': 1.0,\n",
       " 'opTime': {'t': 2, 'ts': Timestamp(1505749318, 1)},\n",
       " 'updatedExisting': True}"
      ]
     },
     "metadata": {},
     "output_type": "display_data"
    },
    {
     "data": {
      "text/plain": [
       "{'electionId': ObjectId('7fffffff0000000000000002'),\n",
       " 'n': 1,\n",
       " 'nModified': 1,\n",
       " 'ok': 1.0,\n",
       " 'opTime': {'t': 2, 'ts': Timestamp(1505749318, 2)},\n",
       " 'updatedExisting': True}"
      ]
     },
     "metadata": {},
     "output_type": "display_data"
    },
    {
     "data": {
      "text/plain": [
       "{'electionId': ObjectId('7fffffff0000000000000002'),\n",
       " 'n': 1,\n",
       " 'nModified': 1,\n",
       " 'ok': 1.0,\n",
       " 'opTime': {'t': 2, 'ts': Timestamp(1505749318, 3)},\n",
       " 'updatedExisting': True}"
      ]
     },
     "metadata": {},
     "output_type": "display_data"
    },
    {
     "data": {
      "text/plain": [
       "{'electionId': ObjectId('7fffffff0000000000000002'),\n",
       " 'n': 1,\n",
       " 'nModified': 1,\n",
       " 'ok': 1.0,\n",
       " 'opTime': {'t': 2, 'ts': Timestamp(1505749319, 1)},\n",
       " 'updatedExisting': True}"
      ]
     },
     "metadata": {},
     "output_type": "display_data"
    },
    {
     "data": {
      "text/plain": [
       "{'electionId': ObjectId('7fffffff0000000000000002'),\n",
       " 'n': 1,\n",
       " 'nModified': 1,\n",
       " 'ok': 1.0,\n",
       " 'opTime': {'t': 2, 'ts': Timestamp(1505749319, 2)},\n",
       " 'updatedExisting': True}"
      ]
     },
     "metadata": {},
     "output_type": "display_data"
    },
    {
     "data": {
      "text/plain": [
       "{'electionId': ObjectId('7fffffff0000000000000002'),\n",
       " 'n': 1,\n",
       " 'nModified': 1,\n",
       " 'ok': 1.0,\n",
       " 'opTime': {'t': 2, 'ts': Timestamp(1505749319, 3)},\n",
       " 'updatedExisting': True}"
      ]
     },
     "metadata": {},
     "output_type": "display_data"
    },
    {
     "data": {
      "text/plain": [
       "{'electionId': ObjectId('7fffffff0000000000000002'),\n",
       " 'n': 1,\n",
       " 'nModified': 1,\n",
       " 'ok': 1.0,\n",
       " 'opTime': {'t': 2, 'ts': Timestamp(1505749320, 1)},\n",
       " 'updatedExisting': True}"
      ]
     },
     "metadata": {},
     "output_type": "display_data"
    },
    {
     "data": {
      "text/plain": [
       "{'electionId': ObjectId('7fffffff0000000000000002'),\n",
       " 'n': 1,\n",
       " 'nModified': 1,\n",
       " 'ok': 1.0,\n",
       " 'opTime': {'t': 2, 'ts': Timestamp(1505749320, 2)},\n",
       " 'updatedExisting': True}"
      ]
     },
     "metadata": {},
     "output_type": "display_data"
    },
    {
     "data": {
      "text/plain": [
       "{'electionId': ObjectId('7fffffff0000000000000002'),\n",
       " 'n': 1,\n",
       " 'nModified': 1,\n",
       " 'ok': 1.0,\n",
       " 'opTime': {'t': 2, 'ts': Timestamp(1505749321, 1)},\n",
       " 'updatedExisting': True}"
      ]
     },
     "metadata": {},
     "output_type": "display_data"
    },
    {
     "data": {
      "text/plain": [
       "{'electionId': ObjectId('7fffffff0000000000000002'),\n",
       " 'n': 1,\n",
       " 'nModified': 1,\n",
       " 'ok': 1.0,\n",
       " 'opTime': {'t': 2, 'ts': Timestamp(1505749321, 2)},\n",
       " 'updatedExisting': True}"
      ]
     },
     "metadata": {},
     "output_type": "display_data"
    },
    {
     "data": {
      "text/plain": [
       "{'electionId': ObjectId('7fffffff0000000000000002'),\n",
       " 'n': 1,\n",
       " 'nModified': 1,\n",
       " 'ok': 1.0,\n",
       " 'opTime': {'t': 2, 'ts': Timestamp(1505749322, 1)},\n",
       " 'updatedExisting': True}"
      ]
     },
     "metadata": {},
     "output_type": "display_data"
    },
    {
     "data": {
      "text/plain": [
       "{'electionId': ObjectId('7fffffff0000000000000002'),\n",
       " 'n': 1,\n",
       " 'nModified': 1,\n",
       " 'ok': 1.0,\n",
       " 'opTime': {'t': 2, 'ts': Timestamp(1505749322, 2)},\n",
       " 'updatedExisting': True}"
      ]
     },
     "metadata": {},
     "output_type": "display_data"
    },
    {
     "data": {
      "text/plain": [
       "{'electionId': ObjectId('7fffffff0000000000000002'),\n",
       " 'n': 1,\n",
       " 'nModified': 1,\n",
       " 'ok': 1.0,\n",
       " 'opTime': {'t': 2, 'ts': Timestamp(1505749322, 3)},\n",
       " 'updatedExisting': True}"
      ]
     },
     "metadata": {},
     "output_type": "display_data"
    },
    {
     "data": {
      "text/plain": [
       "{'electionId': ObjectId('7fffffff0000000000000002'),\n",
       " 'n': 1,\n",
       " 'nModified': 1,\n",
       " 'ok': 1.0,\n",
       " 'opTime': {'t': 2, 'ts': Timestamp(1505749323, 1)},\n",
       " 'updatedExisting': True}"
      ]
     },
     "metadata": {},
     "output_type": "display_data"
    },
    {
     "data": {
      "text/plain": [
       "{'electionId': ObjectId('7fffffff0000000000000002'),\n",
       " 'n': 1,\n",
       " 'nModified': 1,\n",
       " 'ok': 1.0,\n",
       " 'opTime': {'t': 2, 'ts': Timestamp(1505749323, 2)},\n",
       " 'updatedExisting': True}"
      ]
     },
     "metadata": {},
     "output_type": "display_data"
    },
    {
     "data": {
      "text/plain": [
       "{'electionId': ObjectId('7fffffff0000000000000002'),\n",
       " 'n': 1,\n",
       " 'nModified': 1,\n",
       " 'ok': 1.0,\n",
       " 'opTime': {'t': 2, 'ts': Timestamp(1505749323, 3)},\n",
       " 'updatedExisting': True}"
      ]
     },
     "metadata": {},
     "output_type": "display_data"
    },
    {
     "data": {
      "text/plain": [
       "{'electionId': ObjectId('7fffffff0000000000000002'),\n",
       " 'n': 1,\n",
       " 'nModified': 1,\n",
       " 'ok': 1.0,\n",
       " 'opTime': {'t': 2, 'ts': Timestamp(1505749324, 1)},\n",
       " 'updatedExisting': True}"
      ]
     },
     "metadata": {},
     "output_type": "display_data"
    },
    {
     "data": {
      "text/plain": [
       "{'electionId': ObjectId('7fffffff0000000000000002'),\n",
       " 'n': 1,\n",
       " 'nModified': 1,\n",
       " 'ok': 1.0,\n",
       " 'opTime': {'t': 2, 'ts': Timestamp(1505749324, 2)},\n",
       " 'updatedExisting': True}"
      ]
     },
     "metadata": {},
     "output_type": "display_data"
    },
    {
     "data": {
      "text/plain": [
       "{'electionId': ObjectId('7fffffff0000000000000002'),\n",
       " 'n': 1,\n",
       " 'nModified': 1,\n",
       " 'ok': 1.0,\n",
       " 'opTime': {'t': 2, 'ts': Timestamp(1505749324, 3)},\n",
       " 'updatedExisting': True}"
      ]
     },
     "metadata": {},
     "output_type": "display_data"
    },
    {
     "data": {
      "text/plain": [
       "{'electionId': ObjectId('7fffffff0000000000000002'),\n",
       " 'n': 1,\n",
       " 'nModified': 1,\n",
       " 'ok': 1.0,\n",
       " 'opTime': {'t': 2, 'ts': Timestamp(1505749325, 1)},\n",
       " 'updatedExisting': True}"
      ]
     },
     "metadata": {},
     "output_type": "display_data"
    },
    {
     "data": {
      "text/plain": [
       "{'electionId': ObjectId('7fffffff0000000000000002'),\n",
       " 'n': 1,\n",
       " 'nModified': 1,\n",
       " 'ok': 1.0,\n",
       " 'opTime': {'t': 2, 'ts': Timestamp(1505749325, 2)},\n",
       " 'updatedExisting': True}"
      ]
     },
     "metadata": {},
     "output_type": "display_data"
    },
    {
     "data": {
      "text/plain": [
       "{'electionId': ObjectId('7fffffff0000000000000002'),\n",
       " 'n': 1,\n",
       " 'nModified': 1,\n",
       " 'ok': 1.0,\n",
       " 'opTime': {'t': 2, 'ts': Timestamp(1505749326, 1)},\n",
       " 'updatedExisting': True}"
      ]
     },
     "metadata": {},
     "output_type": "display_data"
    },
    {
     "data": {
      "text/plain": [
       "{'electionId': ObjectId('7fffffff0000000000000002'),\n",
       " 'n': 1,\n",
       " 'nModified': 1,\n",
       " 'ok': 1.0,\n",
       " 'opTime': {'t': 2, 'ts': Timestamp(1505749326, 2)},\n",
       " 'updatedExisting': True}"
      ]
     },
     "metadata": {},
     "output_type": "display_data"
    },
    {
     "data": {
      "text/plain": [
       "{'electionId': ObjectId('7fffffff0000000000000002'),\n",
       " 'n': 1,\n",
       " 'nModified': 1,\n",
       " 'ok': 1.0,\n",
       " 'opTime': {'t': 2, 'ts': Timestamp(1505749326, 3)},\n",
       " 'updatedExisting': True}"
      ]
     },
     "metadata": {},
     "output_type": "display_data"
    },
    {
     "data": {
      "text/plain": [
       "{'electionId': ObjectId('7fffffff0000000000000002'),\n",
       " 'n': 1,\n",
       " 'nModified': 1,\n",
       " 'ok': 1.0,\n",
       " 'opTime': {'t': 2, 'ts': Timestamp(1505749327, 1)},\n",
       " 'updatedExisting': True}"
      ]
     },
     "metadata": {},
     "output_type": "display_data"
    },
    {
     "data": {
      "text/plain": [
       "{'electionId': ObjectId('7fffffff0000000000000002'),\n",
       " 'n': 1,\n",
       " 'nModified': 1,\n",
       " 'ok': 1.0,\n",
       " 'opTime': {'t': 2, 'ts': Timestamp(1505749327, 2)},\n",
       " 'updatedExisting': True}"
      ]
     },
     "metadata": {},
     "output_type": "display_data"
    },
    {
     "data": {
      "text/plain": [
       "{'electionId': ObjectId('7fffffff0000000000000002'),\n",
       " 'n': 1,\n",
       " 'nModified': 1,\n",
       " 'ok': 1.0,\n",
       " 'opTime': {'t': 2, 'ts': Timestamp(1505749328, 1)},\n",
       " 'updatedExisting': True}"
      ]
     },
     "metadata": {},
     "output_type": "display_data"
    },
    {
     "data": {
      "text/plain": [
       "{'electionId': ObjectId('7fffffff0000000000000002'),\n",
       " 'n': 1,\n",
       " 'nModified': 1,\n",
       " 'ok': 1.0,\n",
       " 'opTime': {'t': 2, 'ts': Timestamp(1505749328, 2)},\n",
       " 'updatedExisting': True}"
      ]
     },
     "metadata": {},
     "output_type": "display_data"
    },
    {
     "data": {
      "text/plain": [
       "{'electionId': ObjectId('7fffffff0000000000000002'),\n",
       " 'n': 1,\n",
       " 'nModified': 1,\n",
       " 'ok': 1.0,\n",
       " 'opTime': {'t': 2, 'ts': Timestamp(1505749329, 1)},\n",
       " 'updatedExisting': True}"
      ]
     },
     "metadata": {},
     "output_type": "display_data"
    },
    {
     "data": {
      "text/plain": [
       "{'electionId': ObjectId('7fffffff0000000000000002'),\n",
       " 'n': 1,\n",
       " 'nModified': 1,\n",
       " 'ok': 1.0,\n",
       " 'opTime': {'t': 2, 'ts': Timestamp(1505749329, 2)},\n",
       " 'updatedExisting': True}"
      ]
     },
     "metadata": {},
     "output_type": "display_data"
    },
    {
     "data": {
      "text/plain": [
       "{'electionId': ObjectId('7fffffff0000000000000002'),\n",
       " 'n': 1,\n",
       " 'nModified': 1,\n",
       " 'ok': 1.0,\n",
       " 'opTime': {'t': 2, 'ts': Timestamp(1505749329, 3)},\n",
       " 'updatedExisting': True}"
      ]
     },
     "metadata": {},
     "output_type": "display_data"
    },
    {
     "data": {
      "text/plain": [
       "{'electionId': ObjectId('7fffffff0000000000000002'),\n",
       " 'n': 1,\n",
       " 'nModified': 1,\n",
       " 'ok': 1.0,\n",
       " 'opTime': {'t': 2, 'ts': Timestamp(1505749330, 1)},\n",
       " 'updatedExisting': True}"
      ]
     },
     "metadata": {},
     "output_type": "display_data"
    },
    {
     "data": {
      "text/plain": [
       "{'electionId': ObjectId('7fffffff0000000000000002'),\n",
       " 'n': 1,\n",
       " 'nModified': 1,\n",
       " 'ok': 1.0,\n",
       " 'opTime': {'t': 2, 'ts': Timestamp(1505749330, 2)},\n",
       " 'updatedExisting': True}"
      ]
     },
     "metadata": {},
     "output_type": "display_data"
    },
    {
     "data": {
      "text/plain": [
       "{'electionId': ObjectId('7fffffff0000000000000002'),\n",
       " 'n': 1,\n",
       " 'nModified': 1,\n",
       " 'ok': 1.0,\n",
       " 'opTime': {'t': 2, 'ts': Timestamp(1505749330, 3)},\n",
       " 'updatedExisting': True}"
      ]
     },
     "metadata": {},
     "output_type": "display_data"
    },
    {
     "data": {
      "text/plain": [
       "{'electionId': ObjectId('7fffffff0000000000000002'),\n",
       " 'n': 1,\n",
       " 'nModified': 1,\n",
       " 'ok': 1.0,\n",
       " 'opTime': {'t': 2, 'ts': Timestamp(1505749331, 1)},\n",
       " 'updatedExisting': True}"
      ]
     },
     "metadata": {},
     "output_type": "display_data"
    },
    {
     "data": {
      "text/plain": [
       "{'electionId': ObjectId('7fffffff0000000000000002'),\n",
       " 'n': 1,\n",
       " 'nModified': 1,\n",
       " 'ok': 1.0,\n",
       " 'opTime': {'t': 2, 'ts': Timestamp(1505749331, 2)},\n",
       " 'updatedExisting': True}"
      ]
     },
     "metadata": {},
     "output_type": "display_data"
    },
    {
     "data": {
      "text/plain": [
       "{'electionId': ObjectId('7fffffff0000000000000002'),\n",
       " 'n': 1,\n",
       " 'nModified': 1,\n",
       " 'ok': 1.0,\n",
       " 'opTime': {'t': 2, 'ts': Timestamp(1505749332, 1)},\n",
       " 'updatedExisting': True}"
      ]
     },
     "metadata": {},
     "output_type": "display_data"
    },
    {
     "data": {
      "text/plain": [
       "{'electionId': ObjectId('7fffffff0000000000000002'),\n",
       " 'n': 1,\n",
       " 'nModified': 1,\n",
       " 'ok': 1.0,\n",
       " 'opTime': {'t': 2, 'ts': Timestamp(1505749332, 2)},\n",
       " 'updatedExisting': True}"
      ]
     },
     "metadata": {},
     "output_type": "display_data"
    },
    {
     "data": {
      "text/plain": [
       "{'electionId': ObjectId('7fffffff0000000000000002'),\n",
       " 'n': 1,\n",
       " 'nModified': 1,\n",
       " 'ok': 1.0,\n",
       " 'opTime': {'t': 2, 'ts': Timestamp(1505749333, 1)},\n",
       " 'updatedExisting': True}"
      ]
     },
     "metadata": {},
     "output_type": "display_data"
    },
    {
     "data": {
      "text/plain": [
       "{'electionId': ObjectId('7fffffff0000000000000002'),\n",
       " 'n': 1,\n",
       " 'nModified': 1,\n",
       " 'ok': 1.0,\n",
       " 'opTime': {'t': 2, 'ts': Timestamp(1505749334, 1)},\n",
       " 'updatedExisting': True}"
      ]
     },
     "metadata": {},
     "output_type": "display_data"
    },
    {
     "data": {
      "text/plain": [
       "{'electionId': ObjectId('7fffffff0000000000000002'),\n",
       " 'n': 1,\n",
       " 'nModified': 1,\n",
       " 'ok': 1.0,\n",
       " 'opTime': {'t': 2, 'ts': Timestamp(1505749334, 2)},\n",
       " 'updatedExisting': True}"
      ]
     },
     "metadata": {},
     "output_type": "display_data"
    },
    {
     "data": {
      "text/plain": [
       "{'electionId': ObjectId('7fffffff0000000000000002'),\n",
       " 'n': 1,\n",
       " 'nModified': 1,\n",
       " 'ok': 1.0,\n",
       " 'opTime': {'t': 2, 'ts': Timestamp(1505749334, 3)},\n",
       " 'updatedExisting': True}"
      ]
     },
     "metadata": {},
     "output_type": "display_data"
    },
    {
     "data": {
      "text/plain": [
       "{'electionId': ObjectId('7fffffff0000000000000002'),\n",
       " 'n': 1,\n",
       " 'nModified': 1,\n",
       " 'ok': 1.0,\n",
       " 'opTime': {'t': 2, 'ts': Timestamp(1505749334, 4)},\n",
       " 'updatedExisting': True}"
      ]
     },
     "metadata": {},
     "output_type": "display_data"
    },
    {
     "data": {
      "text/plain": [
       "{'electionId': ObjectId('7fffffff0000000000000002'),\n",
       " 'n': 1,\n",
       " 'nModified': 1,\n",
       " 'ok': 1.0,\n",
       " 'opTime': {'t': 2, 'ts': Timestamp(1505749335, 1)},\n",
       " 'updatedExisting': True}"
      ]
     },
     "metadata": {},
     "output_type": "display_data"
    },
    {
     "data": {
      "text/plain": [
       "{'electionId': ObjectId('7fffffff0000000000000002'),\n",
       " 'n': 1,\n",
       " 'nModified': 1,\n",
       " 'ok': 1.0,\n",
       " 'opTime': {'t': 2, 'ts': Timestamp(1505749335, 2)},\n",
       " 'updatedExisting': True}"
      ]
     },
     "metadata": {},
     "output_type": "display_data"
    },
    {
     "data": {
      "text/plain": [
       "{'electionId': ObjectId('7fffffff0000000000000002'),\n",
       " 'n': 1,\n",
       " 'nModified': 1,\n",
       " 'ok': 1.0,\n",
       " 'opTime': {'t': 2, 'ts': Timestamp(1505749335, 3)},\n",
       " 'updatedExisting': True}"
      ]
     },
     "metadata": {},
     "output_type": "display_data"
    },
    {
     "data": {
      "text/plain": [
       "{'electionId': ObjectId('7fffffff0000000000000002'),\n",
       " 'n': 1,\n",
       " 'nModified': 1,\n",
       " 'ok': 1.0,\n",
       " 'opTime': {'t': 2, 'ts': Timestamp(1505749336, 1)},\n",
       " 'updatedExisting': True}"
      ]
     },
     "metadata": {},
     "output_type": "display_data"
    },
    {
     "data": {
      "text/plain": [
       "{'electionId': ObjectId('7fffffff0000000000000002'),\n",
       " 'n': 1,\n",
       " 'nModified': 1,\n",
       " 'ok': 1.0,\n",
       " 'opTime': {'t': 2, 'ts': Timestamp(1505749336, 2)},\n",
       " 'updatedExisting': True}"
      ]
     },
     "metadata": {},
     "output_type": "display_data"
    },
    {
     "data": {
      "text/plain": [
       "{'electionId': ObjectId('7fffffff0000000000000002'),\n",
       " 'n': 1,\n",
       " 'nModified': 1,\n",
       " 'ok': 1.0,\n",
       " 'opTime': {'t': 2, 'ts': Timestamp(1505749336, 3)},\n",
       " 'updatedExisting': True}"
      ]
     },
     "metadata": {},
     "output_type": "display_data"
    },
    {
     "data": {
      "text/plain": [
       "{'electionId': ObjectId('7fffffff0000000000000002'),\n",
       " 'n': 1,\n",
       " 'nModified': 1,\n",
       " 'ok': 1.0,\n",
       " 'opTime': {'t': 2, 'ts': Timestamp(1505749336, 4)},\n",
       " 'updatedExisting': True}"
      ]
     },
     "metadata": {},
     "output_type": "display_data"
    },
    {
     "data": {
      "text/plain": [
       "{'electionId': ObjectId('7fffffff0000000000000002'),\n",
       " 'n': 1,\n",
       " 'nModified': 1,\n",
       " 'ok': 1.0,\n",
       " 'opTime': {'t': 2, 'ts': Timestamp(1505749337, 1)},\n",
       " 'updatedExisting': True}"
      ]
     },
     "metadata": {},
     "output_type": "display_data"
    },
    {
     "data": {
      "text/plain": [
       "{'electionId': ObjectId('7fffffff0000000000000002'),\n",
       " 'n': 1,\n",
       " 'nModified': 1,\n",
       " 'ok': 1.0,\n",
       " 'opTime': {'t': 2, 'ts': Timestamp(1505749337, 2)},\n",
       " 'updatedExisting': True}"
      ]
     },
     "metadata": {},
     "output_type": "display_data"
    },
    {
     "data": {
      "text/plain": [
       "{'electionId': ObjectId('7fffffff0000000000000002'),\n",
       " 'n': 1,\n",
       " 'nModified': 1,\n",
       " 'ok': 1.0,\n",
       " 'opTime': {'t': 2, 'ts': Timestamp(1505749337, 3)},\n",
       " 'updatedExisting': True}"
      ]
     },
     "metadata": {},
     "output_type": "display_data"
    },
    {
     "data": {
      "text/plain": [
       "{'electionId': ObjectId('7fffffff0000000000000002'),\n",
       " 'n': 1,\n",
       " 'nModified': 1,\n",
       " 'ok': 1.0,\n",
       " 'opTime': {'t': 2, 'ts': Timestamp(1505749337, 4)},\n",
       " 'updatedExisting': True}"
      ]
     },
     "metadata": {},
     "output_type": "display_data"
    },
    {
     "data": {
      "text/plain": [
       "{'electionId': ObjectId('7fffffff0000000000000002'),\n",
       " 'n': 1,\n",
       " 'nModified': 1,\n",
       " 'ok': 1.0,\n",
       " 'opTime': {'t': 2, 'ts': Timestamp(1505749337, 5)},\n",
       " 'updatedExisting': True}"
      ]
     },
     "metadata": {},
     "output_type": "display_data"
    },
    {
     "data": {
      "text/plain": [
       "{'electionId': ObjectId('7fffffff0000000000000002'),\n",
       " 'n': 1,\n",
       " 'nModified': 1,\n",
       " 'ok': 1.0,\n",
       " 'opTime': {'t': 2, 'ts': Timestamp(1505749338, 1)},\n",
       " 'updatedExisting': True}"
      ]
     },
     "metadata": {},
     "output_type": "display_data"
    },
    {
     "data": {
      "text/plain": [
       "{'electionId': ObjectId('7fffffff0000000000000002'),\n",
       " 'n': 1,\n",
       " 'nModified': 1,\n",
       " 'ok': 1.0,\n",
       " 'opTime': {'t': 2, 'ts': Timestamp(1505749338, 2)},\n",
       " 'updatedExisting': True}"
      ]
     },
     "metadata": {},
     "output_type": "display_data"
    },
    {
     "data": {
      "text/plain": [
       "{'electionId': ObjectId('7fffffff0000000000000002'),\n",
       " 'n': 1,\n",
       " 'nModified': 1,\n",
       " 'ok': 1.0,\n",
       " 'opTime': {'t': 2, 'ts': Timestamp(1505749338, 3)},\n",
       " 'updatedExisting': True}"
      ]
     },
     "metadata": {},
     "output_type": "display_data"
    },
    {
     "data": {
      "text/plain": [
       "{'electionId': ObjectId('7fffffff0000000000000002'),\n",
       " 'n': 1,\n",
       " 'nModified': 1,\n",
       " 'ok': 1.0,\n",
       " 'opTime': {'t': 2, 'ts': Timestamp(1505749339, 1)},\n",
       " 'updatedExisting': True}"
      ]
     },
     "metadata": {},
     "output_type": "display_data"
    },
    {
     "data": {
      "text/plain": [
       "{'electionId': ObjectId('7fffffff0000000000000002'),\n",
       " 'n': 1,\n",
       " 'nModified': 1,\n",
       " 'ok': 1.0,\n",
       " 'opTime': {'t': 2, 'ts': Timestamp(1505749339, 2)},\n",
       " 'updatedExisting': True}"
      ]
     },
     "metadata": {},
     "output_type": "display_data"
    },
    {
     "data": {
      "text/plain": [
       "{'electionId': ObjectId('7fffffff0000000000000002'),\n",
       " 'n': 1,\n",
       " 'nModified': 1,\n",
       " 'ok': 1.0,\n",
       " 'opTime': {'t': 2, 'ts': Timestamp(1505749339, 3)},\n",
       " 'updatedExisting': True}"
      ]
     },
     "metadata": {},
     "output_type": "display_data"
    },
    {
     "data": {
      "text/plain": [
       "{'electionId': ObjectId('7fffffff0000000000000002'),\n",
       " 'n': 1,\n",
       " 'nModified': 1,\n",
       " 'ok': 1.0,\n",
       " 'opTime': {'t': 2, 'ts': Timestamp(1505749340, 1)},\n",
       " 'updatedExisting': True}"
      ]
     },
     "metadata": {},
     "output_type": "display_data"
    },
    {
     "data": {
      "text/plain": [
       "{'electionId': ObjectId('7fffffff0000000000000002'),\n",
       " 'n': 1,\n",
       " 'nModified': 1,\n",
       " 'ok': 1.0,\n",
       " 'opTime': {'t': 2, 'ts': Timestamp(1505749340, 2)},\n",
       " 'updatedExisting': True}"
      ]
     },
     "metadata": {},
     "output_type": "display_data"
    },
    {
     "data": {
      "text/plain": [
       "{'electionId': ObjectId('7fffffff0000000000000002'),\n",
       " 'n': 1,\n",
       " 'nModified': 1,\n",
       " 'ok': 1.0,\n",
       " 'opTime': {'t': 2, 'ts': Timestamp(1505749341, 1)},\n",
       " 'updatedExisting': True}"
      ]
     },
     "metadata": {},
     "output_type": "display_data"
    },
    {
     "data": {
      "text/plain": [
       "{'electionId': ObjectId('7fffffff0000000000000002'),\n",
       " 'n': 1,\n",
       " 'nModified': 1,\n",
       " 'ok': 1.0,\n",
       " 'opTime': {'t': 2, 'ts': Timestamp(1505749341, 2)},\n",
       " 'updatedExisting': True}"
      ]
     },
     "metadata": {},
     "output_type": "display_data"
    },
    {
     "data": {
      "text/plain": [
       "{'electionId': ObjectId('7fffffff0000000000000002'),\n",
       " 'n': 1,\n",
       " 'nModified': 1,\n",
       " 'ok': 1.0,\n",
       " 'opTime': {'t': 2, 'ts': Timestamp(1505749341, 3)},\n",
       " 'updatedExisting': True}"
      ]
     },
     "metadata": {},
     "output_type": "display_data"
    },
    {
     "data": {
      "text/plain": [
       "{'electionId': ObjectId('7fffffff0000000000000002'),\n",
       " 'n': 1,\n",
       " 'nModified': 1,\n",
       " 'ok': 1.0,\n",
       " 'opTime': {'t': 2, 'ts': Timestamp(1505749343, 1)},\n",
       " 'updatedExisting': True}"
      ]
     },
     "metadata": {},
     "output_type": "display_data"
    },
    {
     "data": {
      "text/plain": [
       "{'electionId': ObjectId('7fffffff0000000000000002'),\n",
       " 'n': 1,\n",
       " 'nModified': 1,\n",
       " 'ok': 1.0,\n",
       " 'opTime': {'t': 2, 'ts': Timestamp(1505749344, 1)},\n",
       " 'updatedExisting': True}"
      ]
     },
     "metadata": {},
     "output_type": "display_data"
    },
    {
     "data": {
      "text/plain": [
       "{'electionId': ObjectId('7fffffff0000000000000002'),\n",
       " 'n': 1,\n",
       " 'nModified': 1,\n",
       " 'ok': 1.0,\n",
       " 'opTime': {'t': 2, 'ts': Timestamp(1505749344, 2)},\n",
       " 'updatedExisting': True}"
      ]
     },
     "metadata": {},
     "output_type": "display_data"
    },
    {
     "data": {
      "text/plain": [
       "{'electionId': ObjectId('7fffffff0000000000000002'),\n",
       " 'n': 1,\n",
       " 'nModified': 1,\n",
       " 'ok': 1.0,\n",
       " 'opTime': {'t': 2, 'ts': Timestamp(1505749345, 1)},\n",
       " 'updatedExisting': True}"
      ]
     },
     "metadata": {},
     "output_type": "display_data"
    },
    {
     "data": {
      "text/plain": [
       "{'electionId': ObjectId('7fffffff0000000000000002'),\n",
       " 'n': 1,\n",
       " 'nModified': 1,\n",
       " 'ok': 1.0,\n",
       " 'opTime': {'t': 2, 'ts': Timestamp(1505749345, 2)},\n",
       " 'updatedExisting': True}"
      ]
     },
     "metadata": {},
     "output_type": "display_data"
    },
    {
     "data": {
      "text/plain": [
       "{'electionId': ObjectId('7fffffff0000000000000002'),\n",
       " 'n': 1,\n",
       " 'nModified': 1,\n",
       " 'ok': 1.0,\n",
       " 'opTime': {'t': 2, 'ts': Timestamp(1505749345, 3)},\n",
       " 'updatedExisting': True}"
      ]
     },
     "metadata": {},
     "output_type": "display_data"
    },
    {
     "data": {
      "text/plain": [
       "{'electionId': ObjectId('7fffffff0000000000000002'),\n",
       " 'n': 1,\n",
       " 'nModified': 1,\n",
       " 'ok': 1.0,\n",
       " 'opTime': {'t': 2, 'ts': Timestamp(1505749346, 1)},\n",
       " 'updatedExisting': True}"
      ]
     },
     "metadata": {},
     "output_type": "display_data"
    },
    {
     "data": {
      "text/plain": [
       "{'electionId': ObjectId('7fffffff0000000000000002'),\n",
       " 'n': 1,\n",
       " 'nModified': 1,\n",
       " 'ok': 1.0,\n",
       " 'opTime': {'t': 2, 'ts': Timestamp(1505749346, 2)},\n",
       " 'updatedExisting': True}"
      ]
     },
     "metadata": {},
     "output_type": "display_data"
    },
    {
     "data": {
      "text/plain": [
       "{'electionId': ObjectId('7fffffff0000000000000002'),\n",
       " 'n': 1,\n",
       " 'nModified': 1,\n",
       " 'ok': 1.0,\n",
       " 'opTime': {'t': 2, 'ts': Timestamp(1505749347, 1)},\n",
       " 'updatedExisting': True}"
      ]
     },
     "metadata": {},
     "output_type": "display_data"
    },
    {
     "data": {
      "text/plain": [
       "{'electionId': ObjectId('7fffffff0000000000000002'),\n",
       " 'n': 1,\n",
       " 'nModified': 1,\n",
       " 'ok': 1.0,\n",
       " 'opTime': {'t': 2, 'ts': Timestamp(1505749348, 1)},\n",
       " 'updatedExisting': True}"
      ]
     },
     "metadata": {},
     "output_type": "display_data"
    },
    {
     "data": {
      "text/plain": [
       "{'electionId': ObjectId('7fffffff0000000000000002'),\n",
       " 'n': 1,\n",
       " 'nModified': 1,\n",
       " 'ok': 1.0,\n",
       " 'opTime': {'t': 2, 'ts': Timestamp(1505749348, 2)},\n",
       " 'updatedExisting': True}"
      ]
     },
     "metadata": {},
     "output_type": "display_data"
    },
    {
     "data": {
      "text/plain": [
       "{'electionId': ObjectId('7fffffff0000000000000002'),\n",
       " 'n': 1,\n",
       " 'nModified': 1,\n",
       " 'ok': 1.0,\n",
       " 'opTime': {'t': 2, 'ts': Timestamp(1505749349, 1)},\n",
       " 'updatedExisting': True}"
      ]
     },
     "metadata": {},
     "output_type": "display_data"
    },
    {
     "data": {
      "text/plain": [
       "{'electionId': ObjectId('7fffffff0000000000000002'),\n",
       " 'n': 1,\n",
       " 'nModified': 1,\n",
       " 'ok': 1.0,\n",
       " 'opTime': {'t': 2, 'ts': Timestamp(1505749349, 2)},\n",
       " 'updatedExisting': True}"
      ]
     },
     "metadata": {},
     "output_type": "display_data"
    },
    {
     "data": {
      "text/plain": [
       "{'electionId': ObjectId('7fffffff0000000000000002'),\n",
       " 'n': 1,\n",
       " 'nModified': 1,\n",
       " 'ok': 1.0,\n",
       " 'opTime': {'t': 2, 'ts': Timestamp(1505749350, 1)},\n",
       " 'updatedExisting': True}"
      ]
     },
     "metadata": {},
     "output_type": "display_data"
    },
    {
     "data": {
      "text/plain": [
       "{'electionId': ObjectId('7fffffff0000000000000002'),\n",
       " 'n': 1,\n",
       " 'nModified': 1,\n",
       " 'ok': 1.0,\n",
       " 'opTime': {'t': 2, 'ts': Timestamp(1505749350, 2)},\n",
       " 'updatedExisting': True}"
      ]
     },
     "metadata": {},
     "output_type": "display_data"
    },
    {
     "data": {
      "text/plain": [
       "{'electionId': ObjectId('7fffffff0000000000000002'),\n",
       " 'n': 1,\n",
       " 'nModified': 1,\n",
       " 'ok': 1.0,\n",
       " 'opTime': {'t': 2, 'ts': Timestamp(1505749351, 1)},\n",
       " 'updatedExisting': True}"
      ]
     },
     "metadata": {},
     "output_type": "display_data"
    },
    {
     "data": {
      "text/plain": [
       "{'electionId': ObjectId('7fffffff0000000000000002'),\n",
       " 'n': 1,\n",
       " 'nModified': 1,\n",
       " 'ok': 1.0,\n",
       " 'opTime': {'t': 2, 'ts': Timestamp(1505749351, 2)},\n",
       " 'updatedExisting': True}"
      ]
     },
     "metadata": {},
     "output_type": "display_data"
    },
    {
     "data": {
      "text/plain": [
       "{'electionId': ObjectId('7fffffff0000000000000002'),\n",
       " 'n': 1,\n",
       " 'nModified': 1,\n",
       " 'ok': 1.0,\n",
       " 'opTime': {'t': 2, 'ts': Timestamp(1505749352, 1)},\n",
       " 'updatedExisting': True}"
      ]
     },
     "metadata": {},
     "output_type": "display_data"
    },
    {
     "data": {
      "text/plain": [
       "{'electionId': ObjectId('7fffffff0000000000000002'),\n",
       " 'n': 1,\n",
       " 'nModified': 1,\n",
       " 'ok': 1.0,\n",
       " 'opTime': {'t': 2, 'ts': Timestamp(1505749352, 2)},\n",
       " 'updatedExisting': True}"
      ]
     },
     "metadata": {},
     "output_type": "display_data"
    },
    {
     "data": {
      "text/plain": [
       "{'electionId': ObjectId('7fffffff0000000000000002'),\n",
       " 'n': 1,\n",
       " 'nModified': 1,\n",
       " 'ok': 1.0,\n",
       " 'opTime': {'t': 2, 'ts': Timestamp(1505749353, 1)},\n",
       " 'updatedExisting': True}"
      ]
     },
     "metadata": {},
     "output_type": "display_data"
    },
    {
     "data": {
      "text/plain": [
       "{'electionId': ObjectId('7fffffff0000000000000002'),\n",
       " 'n': 1,\n",
       " 'nModified': 1,\n",
       " 'ok': 1.0,\n",
       " 'opTime': {'t': 2, 'ts': Timestamp(1505749353, 2)},\n",
       " 'updatedExisting': True}"
      ]
     },
     "metadata": {},
     "output_type": "display_data"
    },
    {
     "data": {
      "text/plain": [
       "{'electionId': ObjectId('7fffffff0000000000000002'),\n",
       " 'n': 1,\n",
       " 'nModified': 1,\n",
       " 'ok': 1.0,\n",
       " 'opTime': {'t': 2, 'ts': Timestamp(1505749354, 1)},\n",
       " 'updatedExisting': True}"
      ]
     },
     "metadata": {},
     "output_type": "display_data"
    },
    {
     "data": {
      "text/plain": [
       "{'electionId': ObjectId('7fffffff0000000000000002'),\n",
       " 'n': 1,\n",
       " 'nModified': 1,\n",
       " 'ok': 1.0,\n",
       " 'opTime': {'t': 2, 'ts': Timestamp(1505749354, 2)},\n",
       " 'updatedExisting': True}"
      ]
     },
     "metadata": {},
     "output_type": "display_data"
    },
    {
     "data": {
      "text/plain": [
       "{'electionId': ObjectId('7fffffff0000000000000002'),\n",
       " 'n': 1,\n",
       " 'nModified': 1,\n",
       " 'ok': 1.0,\n",
       " 'opTime': {'t': 2, 'ts': Timestamp(1505749354, 3)},\n",
       " 'updatedExisting': True}"
      ]
     },
     "metadata": {},
     "output_type": "display_data"
    },
    {
     "data": {
      "text/plain": [
       "{'electionId': ObjectId('7fffffff0000000000000002'),\n",
       " 'n': 1,\n",
       " 'nModified': 1,\n",
       " 'ok': 1.0,\n",
       " 'opTime': {'t': 2, 'ts': Timestamp(1505749355, 1)},\n",
       " 'updatedExisting': True}"
      ]
     },
     "metadata": {},
     "output_type": "display_data"
    },
    {
     "data": {
      "text/plain": [
       "{'electionId': ObjectId('7fffffff0000000000000002'),\n",
       " 'n': 1,\n",
       " 'nModified': 1,\n",
       " 'ok': 1.0,\n",
       " 'opTime': {'t': 2, 'ts': Timestamp(1505749355, 2)},\n",
       " 'updatedExisting': True}"
      ]
     },
     "metadata": {},
     "output_type": "display_data"
    },
    {
     "data": {
      "text/plain": [
       "{'electionId': ObjectId('7fffffff0000000000000002'),\n",
       " 'n': 1,\n",
       " 'nModified': 1,\n",
       " 'ok': 1.0,\n",
       " 'opTime': {'t': 2, 'ts': Timestamp(1505749355, 3)},\n",
       " 'updatedExisting': True}"
      ]
     },
     "metadata": {},
     "output_type": "display_data"
    },
    {
     "data": {
      "text/plain": [
       "{'electionId': ObjectId('7fffffff0000000000000002'),\n",
       " 'n': 1,\n",
       " 'nModified': 1,\n",
       " 'ok': 1.0,\n",
       " 'opTime': {'t': 2, 'ts': Timestamp(1505749356, 1)},\n",
       " 'updatedExisting': True}"
      ]
     },
     "metadata": {},
     "output_type": "display_data"
    },
    {
     "data": {
      "text/plain": [
       "{'electionId': ObjectId('7fffffff0000000000000002'),\n",
       " 'n': 1,\n",
       " 'nModified': 1,\n",
       " 'ok': 1.0,\n",
       " 'opTime': {'t': 2, 'ts': Timestamp(1505749356, 2)},\n",
       " 'updatedExisting': True}"
      ]
     },
     "metadata": {},
     "output_type": "display_data"
    },
    {
     "data": {
      "text/plain": [
       "{'electionId': ObjectId('7fffffff0000000000000002'),\n",
       " 'n': 1,\n",
       " 'nModified': 1,\n",
       " 'ok': 1.0,\n",
       " 'opTime': {'t': 2, 'ts': Timestamp(1505749356, 3)},\n",
       " 'updatedExisting': True}"
      ]
     },
     "metadata": {},
     "output_type": "display_data"
    },
    {
     "data": {
      "text/plain": [
       "{'electionId': ObjectId('7fffffff0000000000000002'),\n",
       " 'n': 1,\n",
       " 'nModified': 1,\n",
       " 'ok': 1.0,\n",
       " 'opTime': {'t': 2, 'ts': Timestamp(1505749357, 1)},\n",
       " 'updatedExisting': True}"
      ]
     },
     "metadata": {},
     "output_type": "display_data"
    },
    {
     "data": {
      "text/plain": [
       "{'electionId': ObjectId('7fffffff0000000000000002'),\n",
       " 'n': 1,\n",
       " 'nModified': 1,\n",
       " 'ok': 1.0,\n",
       " 'opTime': {'t': 2, 'ts': Timestamp(1505749357, 2)},\n",
       " 'updatedExisting': True}"
      ]
     },
     "metadata": {},
     "output_type": "display_data"
    },
    {
     "data": {
      "text/plain": [
       "{'electionId': ObjectId('7fffffff0000000000000002'),\n",
       " 'n': 1,\n",
       " 'nModified': 1,\n",
       " 'ok': 1.0,\n",
       " 'opTime': {'t': 2, 'ts': Timestamp(1505749358, 1)},\n",
       " 'updatedExisting': True}"
      ]
     },
     "metadata": {},
     "output_type": "display_data"
    },
    {
     "data": {
      "text/plain": [
       "{'electionId': ObjectId('7fffffff0000000000000002'),\n",
       " 'n': 1,\n",
       " 'nModified': 1,\n",
       " 'ok': 1.0,\n",
       " 'opTime': {'t': 2, 'ts': Timestamp(1505749358, 2)},\n",
       " 'updatedExisting': True}"
      ]
     },
     "metadata": {},
     "output_type": "display_data"
    },
    {
     "data": {
      "text/plain": [
       "{'electionId': ObjectId('7fffffff0000000000000002'),\n",
       " 'n': 1,\n",
       " 'nModified': 1,\n",
       " 'ok': 1.0,\n",
       " 'opTime': {'t': 2, 'ts': Timestamp(1505749358, 3)},\n",
       " 'updatedExisting': True}"
      ]
     },
     "metadata": {},
     "output_type": "display_data"
    },
    {
     "data": {
      "text/plain": [
       "{'electionId': ObjectId('7fffffff0000000000000002'),\n",
       " 'n': 1,\n",
       " 'nModified': 1,\n",
       " 'ok': 1.0,\n",
       " 'opTime': {'t': 2, 'ts': Timestamp(1505749359, 1)},\n",
       " 'updatedExisting': True}"
      ]
     },
     "metadata": {},
     "output_type": "display_data"
    },
    {
     "data": {
      "text/plain": [
       "{'electionId': ObjectId('7fffffff0000000000000002'),\n",
       " 'n': 1,\n",
       " 'nModified': 1,\n",
       " 'ok': 1.0,\n",
       " 'opTime': {'t': 2, 'ts': Timestamp(1505749359, 2)},\n",
       " 'updatedExisting': True}"
      ]
     },
     "metadata": {},
     "output_type": "display_data"
    },
    {
     "data": {
      "text/plain": [
       "{'electionId': ObjectId('7fffffff0000000000000002'),\n",
       " 'n': 1,\n",
       " 'nModified': 1,\n",
       " 'ok': 1.0,\n",
       " 'opTime': {'t': 2, 'ts': Timestamp(1505749359, 3)},\n",
       " 'updatedExisting': True}"
      ]
     },
     "metadata": {},
     "output_type": "display_data"
    },
    {
     "data": {
      "text/plain": [
       "{'electionId': ObjectId('7fffffff0000000000000002'),\n",
       " 'n': 1,\n",
       " 'nModified': 1,\n",
       " 'ok': 1.0,\n",
       " 'opTime': {'t': 2, 'ts': Timestamp(1505749360, 2)},\n",
       " 'updatedExisting': True}"
      ]
     },
     "metadata": {},
     "output_type": "display_data"
    },
    {
     "data": {
      "text/plain": [
       "{'electionId': ObjectId('7fffffff0000000000000002'),\n",
       " 'n': 1,\n",
       " 'nModified': 1,\n",
       " 'ok': 1.0,\n",
       " 'opTime': {'t': 2, 'ts': Timestamp(1505749360, 4)},\n",
       " 'updatedExisting': True}"
      ]
     },
     "metadata": {},
     "output_type": "display_data"
    },
    {
     "data": {
      "text/plain": [
       "{'electionId': ObjectId('7fffffff0000000000000002'),\n",
       " 'n': 1,\n",
       " 'nModified': 1,\n",
       " 'ok': 1.0,\n",
       " 'opTime': {'t': 2, 'ts': Timestamp(1505749360, 6)},\n",
       " 'updatedExisting': True}"
      ]
     },
     "metadata": {},
     "output_type": "display_data"
    },
    {
     "data": {
      "text/plain": [
       "{'electionId': ObjectId('7fffffff0000000000000002'),\n",
       " 'n': 1,\n",
       " 'nModified': 1,\n",
       " 'ok': 1.0,\n",
       " 'opTime': {'t': 2, 'ts': Timestamp(1505749361, 1)},\n",
       " 'updatedExisting': True}"
      ]
     },
     "metadata": {},
     "output_type": "display_data"
    },
    {
     "data": {
      "text/plain": [
       "{'electionId': ObjectId('7fffffff0000000000000002'),\n",
       " 'n': 1,\n",
       " 'nModified': 1,\n",
       " 'ok': 1.0,\n",
       " 'opTime': {'t': 2, 'ts': Timestamp(1505749361, 2)},\n",
       " 'updatedExisting': True}"
      ]
     },
     "metadata": {},
     "output_type": "display_data"
    },
    {
     "data": {
      "text/plain": [
       "{'electionId': ObjectId('7fffffff0000000000000002'),\n",
       " 'n': 1,\n",
       " 'nModified': 1,\n",
       " 'ok': 1.0,\n",
       " 'opTime': {'t': 2, 'ts': Timestamp(1505749362, 1)},\n",
       " 'updatedExisting': True}"
      ]
     },
     "metadata": {},
     "output_type": "display_data"
    },
    {
     "data": {
      "text/plain": [
       "{'electionId': ObjectId('7fffffff0000000000000002'),\n",
       " 'n': 1,\n",
       " 'nModified': 1,\n",
       " 'ok': 1.0,\n",
       " 'opTime': {'t': 2, 'ts': Timestamp(1505749363, 1)},\n",
       " 'updatedExisting': True}"
      ]
     },
     "metadata": {},
     "output_type": "display_data"
    },
    {
     "data": {
      "text/plain": [
       "{'electionId': ObjectId('7fffffff0000000000000002'),\n",
       " 'n': 1,\n",
       " 'nModified': 1,\n",
       " 'ok': 1.0,\n",
       " 'opTime': {'t': 2, 'ts': Timestamp(1505749363, 2)},\n",
       " 'updatedExisting': True}"
      ]
     },
     "metadata": {},
     "output_type": "display_data"
    },
    {
     "data": {
      "text/plain": [
       "{'electionId': ObjectId('7fffffff0000000000000002'),\n",
       " 'n': 1,\n",
       " 'nModified': 1,\n",
       " 'ok': 1.0,\n",
       " 'opTime': {'t': 2, 'ts': Timestamp(1505749364, 1)},\n",
       " 'updatedExisting': True}"
      ]
     },
     "metadata": {},
     "output_type": "display_data"
    },
    {
     "data": {
      "text/plain": [
       "{'electionId': ObjectId('7fffffff0000000000000002'),\n",
       " 'n': 1,\n",
       " 'nModified': 1,\n",
       " 'ok': 1.0,\n",
       " 'opTime': {'t': 2, 'ts': Timestamp(1505749365, 1)},\n",
       " 'updatedExisting': True}"
      ]
     },
     "metadata": {},
     "output_type": "display_data"
    },
    {
     "data": {
      "text/plain": [
       "{'electionId': ObjectId('7fffffff0000000000000002'),\n",
       " 'n': 1,\n",
       " 'nModified': 1,\n",
       " 'ok': 1.0,\n",
       " 'opTime': {'t': 2, 'ts': Timestamp(1505749365, 2)},\n",
       " 'updatedExisting': True}"
      ]
     },
     "metadata": {},
     "output_type": "display_data"
    },
    {
     "data": {
      "text/plain": [
       "{'electionId': ObjectId('7fffffff0000000000000002'),\n",
       " 'n': 1,\n",
       " 'nModified': 1,\n",
       " 'ok': 1.0,\n",
       " 'opTime': {'t': 2, 'ts': Timestamp(1505749366, 1)},\n",
       " 'updatedExisting': True}"
      ]
     },
     "metadata": {},
     "output_type": "display_data"
    },
    {
     "data": {
      "text/plain": [
       "{'electionId': ObjectId('7fffffff0000000000000002'),\n",
       " 'n': 1,\n",
       " 'nModified': 1,\n",
       " 'ok': 1.0,\n",
       " 'opTime': {'t': 2, 'ts': Timestamp(1505749367, 1)},\n",
       " 'updatedExisting': True}"
      ]
     },
     "metadata": {},
     "output_type": "display_data"
    },
    {
     "data": {
      "text/plain": [
       "{'electionId': ObjectId('7fffffff0000000000000002'),\n",
       " 'n': 1,\n",
       " 'nModified': 1,\n",
       " 'ok': 1.0,\n",
       " 'opTime': {'t': 2, 'ts': Timestamp(1505749368, 1)},\n",
       " 'updatedExisting': True}"
      ]
     },
     "metadata": {},
     "output_type": "display_data"
    },
    {
     "data": {
      "text/plain": [
       "{'electionId': ObjectId('7fffffff0000000000000002'),\n",
       " 'n': 1,\n",
       " 'nModified': 1,\n",
       " 'ok': 1.0,\n",
       " 'opTime': {'t': 2, 'ts': Timestamp(1505749368, 2)},\n",
       " 'updatedExisting': True}"
      ]
     },
     "metadata": {},
     "output_type": "display_data"
    },
    {
     "data": {
      "text/plain": [
       "{'electionId': ObjectId('7fffffff0000000000000002'),\n",
       " 'n': 1,\n",
       " 'nModified': 0,\n",
       " 'ok': 1.0,\n",
       " 'opTime': {'t': 2, 'ts': Timestamp(1505749368, 2)},\n",
       " 'updatedExisting': True}"
      ]
     },
     "metadata": {},
     "output_type": "display_data"
    },
    {
     "data": {
      "text/plain": [
       "{'electionId': ObjectId('7fffffff0000000000000002'),\n",
       " 'n': 1,\n",
       " 'nModified': 1,\n",
       " 'ok': 1.0,\n",
       " 'opTime': {'t': 2, 'ts': Timestamp(1505749370, 1)},\n",
       " 'updatedExisting': True}"
      ]
     },
     "metadata": {},
     "output_type": "display_data"
    },
    {
     "data": {
      "text/plain": [
       "{'electionId': ObjectId('7fffffff0000000000000002'),\n",
       " 'n': 1,\n",
       " 'nModified': 1,\n",
       " 'ok': 1.0,\n",
       " 'opTime': {'t': 2, 'ts': Timestamp(1505749370, 2)},\n",
       " 'updatedExisting': True}"
      ]
     },
     "metadata": {},
     "output_type": "display_data"
    },
    {
     "data": {
      "text/plain": [
       "{'electionId': ObjectId('7fffffff0000000000000002'),\n",
       " 'n': 1,\n",
       " 'nModified': 1,\n",
       " 'ok': 1.0,\n",
       " 'opTime': {'t': 2, 'ts': Timestamp(1505749371, 1)},\n",
       " 'updatedExisting': True}"
      ]
     },
     "metadata": {},
     "output_type": "display_data"
    },
    {
     "data": {
      "text/plain": [
       "{'electionId': ObjectId('7fffffff0000000000000002'),\n",
       " 'n': 1,\n",
       " 'nModified': 1,\n",
       " 'ok': 1.0,\n",
       " 'opTime': {'t': 2, 'ts': Timestamp(1505749371, 2)},\n",
       " 'updatedExisting': True}"
      ]
     },
     "metadata": {},
     "output_type": "display_data"
    },
    {
     "data": {
      "text/plain": [
       "{'electionId': ObjectId('7fffffff0000000000000002'),\n",
       " 'n': 1,\n",
       " 'nModified': 1,\n",
       " 'ok': 1.0,\n",
       " 'opTime': {'t': 2, 'ts': Timestamp(1505749372, 1)},\n",
       " 'updatedExisting': True}"
      ]
     },
     "metadata": {},
     "output_type": "display_data"
    },
    {
     "data": {
      "text/plain": [
       "{'electionId': ObjectId('7fffffff0000000000000002'),\n",
       " 'n': 1,\n",
       " 'nModified': 1,\n",
       " 'ok': 1.0,\n",
       " 'opTime': {'t': 2, 'ts': Timestamp(1505749373, 1)},\n",
       " 'updatedExisting': True}"
      ]
     },
     "metadata": {},
     "output_type": "display_data"
    },
    {
     "data": {
      "text/plain": [
       "{'electionId': ObjectId('7fffffff0000000000000002'),\n",
       " 'n': 1,\n",
       " 'nModified': 1,\n",
       " 'ok': 1.0,\n",
       " 'opTime': {'t': 2, 'ts': Timestamp(1505749374, 1)},\n",
       " 'updatedExisting': True}"
      ]
     },
     "metadata": {},
     "output_type": "display_data"
    },
    {
     "data": {
      "text/plain": [
       "{'electionId': ObjectId('7fffffff0000000000000002'),\n",
       " 'n': 1,\n",
       " 'nModified': 1,\n",
       " 'ok': 1.0,\n",
       " 'opTime': {'t': 2, 'ts': Timestamp(1505749375, 1)},\n",
       " 'updatedExisting': True}"
      ]
     },
     "metadata": {},
     "output_type": "display_data"
    },
    {
     "data": {
      "text/plain": [
       "{'electionId': ObjectId('7fffffff0000000000000002'),\n",
       " 'n': 1,\n",
       " 'nModified': 1,\n",
       " 'ok': 1.0,\n",
       " 'opTime': {'t': 2, 'ts': Timestamp(1505749375, 2)},\n",
       " 'updatedExisting': True}"
      ]
     },
     "metadata": {},
     "output_type": "display_data"
    },
    {
     "data": {
      "text/plain": [
       "{'electionId': ObjectId('7fffffff0000000000000002'),\n",
       " 'n': 1,\n",
       " 'nModified': 1,\n",
       " 'ok': 1.0,\n",
       " 'opTime': {'t': 2, 'ts': Timestamp(1505749376, 1)},\n",
       " 'updatedExisting': True}"
      ]
     },
     "metadata": {},
     "output_type": "display_data"
    },
    {
     "data": {
      "text/plain": [
       "{'electionId': ObjectId('7fffffff0000000000000002'),\n",
       " 'n': 1,\n",
       " 'nModified': 1,\n",
       " 'ok': 1.0,\n",
       " 'opTime': {'t': 2, 'ts': Timestamp(1505749376, 2)},\n",
       " 'updatedExisting': True}"
      ]
     },
     "metadata": {},
     "output_type": "display_data"
    },
    {
     "data": {
      "text/plain": [
       "{'electionId': ObjectId('7fffffff0000000000000002'),\n",
       " 'n': 1,\n",
       " 'nModified': 1,\n",
       " 'ok': 1.0,\n",
       " 'opTime': {'t': 2, 'ts': Timestamp(1505749377, 1)},\n",
       " 'updatedExisting': True}"
      ]
     },
     "metadata": {},
     "output_type": "display_data"
    },
    {
     "data": {
      "text/plain": [
       "{'electionId': ObjectId('7fffffff0000000000000002'),\n",
       " 'n': 1,\n",
       " 'nModified': 1,\n",
       " 'ok': 1.0,\n",
       " 'opTime': {'t': 2, 'ts': Timestamp(1505749377, 2)},\n",
       " 'updatedExisting': True}"
      ]
     },
     "metadata": {},
     "output_type": "display_data"
    },
    {
     "data": {
      "text/plain": [
       "{'electionId': ObjectId('7fffffff0000000000000002'),\n",
       " 'n': 1,\n",
       " 'nModified': 1,\n",
       " 'ok': 1.0,\n",
       " 'opTime': {'t': 2, 'ts': Timestamp(1505749378, 1)},\n",
       " 'updatedExisting': True}"
      ]
     },
     "metadata": {},
     "output_type": "display_data"
    },
    {
     "data": {
      "text/plain": [
       "{'electionId': ObjectId('7fffffff0000000000000002'),\n",
       " 'n': 1,\n",
       " 'nModified': 1,\n",
       " 'ok': 1.0,\n",
       " 'opTime': {'t': 2, 'ts': Timestamp(1505749378, 2)},\n",
       " 'updatedExisting': True}"
      ]
     },
     "metadata": {},
     "output_type": "display_data"
    },
    {
     "data": {
      "text/plain": [
       "{'electionId': ObjectId('7fffffff0000000000000002'),\n",
       " 'n': 1,\n",
       " 'nModified': 1,\n",
       " 'ok': 1.0,\n",
       " 'opTime': {'t': 2, 'ts': Timestamp(1505749379, 1)},\n",
       " 'updatedExisting': True}"
      ]
     },
     "metadata": {},
     "output_type": "display_data"
    },
    {
     "data": {
      "text/plain": [
       "{'electionId': ObjectId('7fffffff0000000000000002'),\n",
       " 'n': 1,\n",
       " 'nModified': 1,\n",
       " 'ok': 1.0,\n",
       " 'opTime': {'t': 2, 'ts': Timestamp(1505749380, 1)},\n",
       " 'updatedExisting': True}"
      ]
     },
     "metadata": {},
     "output_type": "display_data"
    },
    {
     "data": {
      "text/plain": [
       "{'electionId': ObjectId('7fffffff0000000000000002'),\n",
       " 'n': 1,\n",
       " 'nModified': 1,\n",
       " 'ok': 1.0,\n",
       " 'opTime': {'t': 2, 'ts': Timestamp(1505749380, 2)},\n",
       " 'updatedExisting': True}"
      ]
     },
     "metadata": {},
     "output_type": "display_data"
    },
    {
     "data": {
      "text/plain": [
       "{'electionId': ObjectId('7fffffff0000000000000002'),\n",
       " 'n': 1,\n",
       " 'nModified': 1,\n",
       " 'ok': 1.0,\n",
       " 'opTime': {'t': 2, 'ts': Timestamp(1505749381, 1)},\n",
       " 'updatedExisting': True}"
      ]
     },
     "metadata": {},
     "output_type": "display_data"
    },
    {
     "data": {
      "text/plain": [
       "{'electionId': ObjectId('7fffffff0000000000000002'),\n",
       " 'n': 1,\n",
       " 'nModified': 1,\n",
       " 'ok': 1.0,\n",
       " 'opTime': {'t': 2, 'ts': Timestamp(1505749383, 1)},\n",
       " 'updatedExisting': True}"
      ]
     },
     "metadata": {},
     "output_type": "display_data"
    },
    {
     "data": {
      "text/plain": [
       "{'electionId': ObjectId('7fffffff0000000000000002'),\n",
       " 'n': 1,\n",
       " 'nModified': 1,\n",
       " 'ok': 1.0,\n",
       " 'opTime': {'t': 2, 'ts': Timestamp(1505749383, 2)},\n",
       " 'updatedExisting': True}"
      ]
     },
     "metadata": {},
     "output_type": "display_data"
    },
    {
     "data": {
      "text/plain": [
       "{'electionId': ObjectId('7fffffff0000000000000002'),\n",
       " 'n': 1,\n",
       " 'nModified': 1,\n",
       " 'ok': 1.0,\n",
       " 'opTime': {'t': 2, 'ts': Timestamp(1505749385, 1)},\n",
       " 'updatedExisting': True}"
      ]
     },
     "metadata": {},
     "output_type": "display_data"
    },
    {
     "data": {
      "text/plain": [
       "{'electionId': ObjectId('7fffffff0000000000000002'),\n",
       " 'n': 1,\n",
       " 'nModified': 1,\n",
       " 'ok': 1.0,\n",
       " 'opTime': {'t': 2, 'ts': Timestamp(1505749386, 1)},\n",
       " 'updatedExisting': True}"
      ]
     },
     "metadata": {},
     "output_type": "display_data"
    },
    {
     "data": {
      "text/plain": [
       "{'electionId': ObjectId('7fffffff0000000000000002'),\n",
       " 'n': 1,\n",
       " 'nModified': 1,\n",
       " 'ok': 1.0,\n",
       " 'opTime': {'t': 2, 'ts': Timestamp(1505749387, 1)},\n",
       " 'updatedExisting': True}"
      ]
     },
     "metadata": {},
     "output_type": "display_data"
    },
    {
     "data": {
      "text/plain": [
       "{'electionId': ObjectId('7fffffff0000000000000002'),\n",
       " 'n': 1,\n",
       " 'nModified': 1,\n",
       " 'ok': 1.0,\n",
       " 'opTime': {'t': 2, 'ts': Timestamp(1505749388, 1)},\n",
       " 'updatedExisting': True}"
      ]
     },
     "metadata": {},
     "output_type": "display_data"
    },
    {
     "data": {
      "text/plain": [
       "{'electionId': ObjectId('7fffffff0000000000000002'),\n",
       " 'n': 1,\n",
       " 'nModified': 1,\n",
       " 'ok': 1.0,\n",
       " 'opTime': {'t': 2, 'ts': Timestamp(1505749389, 1)},\n",
       " 'updatedExisting': True}"
      ]
     },
     "metadata": {},
     "output_type": "display_data"
    },
    {
     "data": {
      "text/plain": [
       "{'electionId': ObjectId('7fffffff0000000000000002'),\n",
       " 'n': 1,\n",
       " 'nModified': 1,\n",
       " 'ok': 1.0,\n",
       " 'opTime': {'t': 2, 'ts': Timestamp(1505749391, 1)},\n",
       " 'updatedExisting': True}"
      ]
     },
     "metadata": {},
     "output_type": "display_data"
    },
    {
     "data": {
      "text/plain": [
       "{'electionId': ObjectId('7fffffff0000000000000002'),\n",
       " 'n': 1,\n",
       " 'nModified': 1,\n",
       " 'ok': 1.0,\n",
       " 'opTime': {'t': 2, 'ts': Timestamp(1505749392, 1)},\n",
       " 'updatedExisting': True}"
      ]
     },
     "metadata": {},
     "output_type": "display_data"
    },
    {
     "data": {
      "text/plain": [
       "{'electionId': ObjectId('7fffffff0000000000000002'),\n",
       " 'n': 1,\n",
       " 'nModified': 1,\n",
       " 'ok': 1.0,\n",
       " 'opTime': {'t': 2, 'ts': Timestamp(1505749393, 1)},\n",
       " 'updatedExisting': True}"
      ]
     },
     "metadata": {},
     "output_type": "display_data"
    },
    {
     "data": {
      "text/plain": [
       "{'electionId': ObjectId('7fffffff0000000000000002'),\n",
       " 'n': 1,\n",
       " 'nModified': 1,\n",
       " 'ok': 1.0,\n",
       " 'opTime': {'t': 2, 'ts': Timestamp(1505749393, 3)},\n",
       " 'updatedExisting': True}"
      ]
     },
     "metadata": {},
     "output_type": "display_data"
    },
    {
     "data": {
      "text/plain": [
       "{'electionId': ObjectId('7fffffff0000000000000002'),\n",
       " 'n': 1,\n",
       " 'nModified': 1,\n",
       " 'ok': 1.0,\n",
       " 'opTime': {'t': 2, 'ts': Timestamp(1505749394, 1)},\n",
       " 'updatedExisting': True}"
      ]
     },
     "metadata": {},
     "output_type": "display_data"
    },
    {
     "data": {
      "text/plain": [
       "{'electionId': ObjectId('7fffffff0000000000000002'),\n",
       " 'n': 1,\n",
       " 'nModified': 1,\n",
       " 'ok': 1.0,\n",
       " 'opTime': {'t': 2, 'ts': Timestamp(1505749395, 1)},\n",
       " 'updatedExisting': True}"
      ]
     },
     "metadata": {},
     "output_type": "display_data"
    },
    {
     "data": {
      "text/plain": [
       "{'electionId': ObjectId('7fffffff0000000000000002'),\n",
       " 'n': 1,\n",
       " 'nModified': 1,\n",
       " 'ok': 1.0,\n",
       " 'opTime': {'t': 2, 'ts': Timestamp(1505749395, 2)},\n",
       " 'updatedExisting': True}"
      ]
     },
     "metadata": {},
     "output_type": "display_data"
    },
    {
     "data": {
      "text/plain": [
       "{'electionId': ObjectId('7fffffff0000000000000002'),\n",
       " 'n': 1,\n",
       " 'nModified': 1,\n",
       " 'ok': 1.0,\n",
       " 'opTime': {'t': 2, 'ts': Timestamp(1505749396, 1)},\n",
       " 'updatedExisting': True}"
      ]
     },
     "metadata": {},
     "output_type": "display_data"
    },
    {
     "data": {
      "text/plain": [
       "{'electionId': ObjectId('7fffffff0000000000000002'),\n",
       " 'n': 1,\n",
       " 'nModified': 1,\n",
       " 'ok': 1.0,\n",
       " 'opTime': {'t': 2, 'ts': Timestamp(1505749397, 1)},\n",
       " 'updatedExisting': True}"
      ]
     },
     "metadata": {},
     "output_type": "display_data"
    },
    {
     "data": {
      "text/plain": [
       "{'electionId': ObjectId('7fffffff0000000000000002'),\n",
       " 'n': 1,\n",
       " 'nModified': 1,\n",
       " 'ok': 1.0,\n",
       " 'opTime': {'t': 2, 'ts': Timestamp(1505749398, 1)},\n",
       " 'updatedExisting': True}"
      ]
     },
     "metadata": {},
     "output_type": "display_data"
    },
    {
     "data": {
      "text/plain": [
       "{'electionId': ObjectId('7fffffff0000000000000002'),\n",
       " 'n': 1,\n",
       " 'nModified': 1,\n",
       " 'ok': 1.0,\n",
       " 'opTime': {'t': 2, 'ts': Timestamp(1505749399, 1)},\n",
       " 'updatedExisting': True}"
      ]
     },
     "metadata": {},
     "output_type": "display_data"
    },
    {
     "data": {
      "text/plain": [
       "{'electionId': ObjectId('7fffffff0000000000000002'),\n",
       " 'n': 1,\n",
       " 'nModified': 1,\n",
       " 'ok': 1.0,\n",
       " 'opTime': {'t': 2, 'ts': Timestamp(1505749399, 2)},\n",
       " 'updatedExisting': True}"
      ]
     },
     "metadata": {},
     "output_type": "display_data"
    },
    {
     "data": {
      "text/plain": [
       "{'electionId': ObjectId('7fffffff0000000000000002'),\n",
       " 'n': 1,\n",
       " 'nModified': 1,\n",
       " 'ok': 1.0,\n",
       " 'opTime': {'t': 2, 'ts': Timestamp(1505749400, 1)},\n",
       " 'updatedExisting': True}"
      ]
     },
     "metadata": {},
     "output_type": "display_data"
    },
    {
     "data": {
      "text/plain": [
       "{'electionId': ObjectId('7fffffff0000000000000002'),\n",
       " 'n': 1,\n",
       " 'nModified': 1,\n",
       " 'ok': 1.0,\n",
       " 'opTime': {'t': 2, 'ts': Timestamp(1505749401, 1)},\n",
       " 'updatedExisting': True}"
      ]
     },
     "metadata": {},
     "output_type": "display_data"
    },
    {
     "data": {
      "text/plain": [
       "{'electionId': ObjectId('7fffffff0000000000000002'),\n",
       " 'n': 1,\n",
       " 'nModified': 1,\n",
       " 'ok': 1.0,\n",
       " 'opTime': {'t': 2, 'ts': Timestamp(1505749401, 2)},\n",
       " 'updatedExisting': True}"
      ]
     },
     "metadata": {},
     "output_type": "display_data"
    },
    {
     "data": {
      "text/plain": [
       "{'electionId': ObjectId('7fffffff0000000000000002'),\n",
       " 'n': 1,\n",
       " 'nModified': 1,\n",
       " 'ok': 1.0,\n",
       " 'opTime': {'t': 2, 'ts': Timestamp(1505749403, 1)},\n",
       " 'updatedExisting': True}"
      ]
     },
     "metadata": {},
     "output_type": "display_data"
    },
    {
     "data": {
      "text/plain": [
       "{'electionId': ObjectId('7fffffff0000000000000002'),\n",
       " 'n': 1,\n",
       " 'nModified': 1,\n",
       " 'ok': 1.0,\n",
       " 'opTime': {'t': 2, 'ts': Timestamp(1505749406, 1)},\n",
       " 'updatedExisting': True}"
      ]
     },
     "metadata": {},
     "output_type": "display_data"
    },
    {
     "data": {
      "text/plain": [
       "{'electionId': ObjectId('7fffffff0000000000000002'),\n",
       " 'n': 1,\n",
       " 'nModified': 1,\n",
       " 'ok': 1.0,\n",
       " 'opTime': {'t': 2, 'ts': Timestamp(1505749406, 2)},\n",
       " 'updatedExisting': True}"
      ]
     },
     "metadata": {},
     "output_type": "display_data"
    },
    {
     "data": {
      "text/plain": [
       "{'electionId': ObjectId('7fffffff0000000000000002'),\n",
       " 'n': 1,\n",
       " 'nModified': 1,\n",
       " 'ok': 1.0,\n",
       " 'opTime': {'t': 2, 'ts': Timestamp(1505749407, 1)},\n",
       " 'updatedExisting': True}"
      ]
     },
     "metadata": {},
     "output_type": "display_data"
    },
    {
     "data": {
      "text/plain": [
       "{'electionId': ObjectId('7fffffff0000000000000002'),\n",
       " 'n': 1,\n",
       " 'nModified': 1,\n",
       " 'ok': 1.0,\n",
       " 'opTime': {'t': 2, 'ts': Timestamp(1505749407, 2)},\n",
       " 'updatedExisting': True}"
      ]
     },
     "metadata": {},
     "output_type": "display_data"
    },
    {
     "data": {
      "text/plain": [
       "{'electionId': ObjectId('7fffffff0000000000000002'),\n",
       " 'n': 1,\n",
       " 'nModified': 1,\n",
       " 'ok': 1.0,\n",
       " 'opTime': {'t': 2, 'ts': Timestamp(1505749408, 1)},\n",
       " 'updatedExisting': True}"
      ]
     },
     "metadata": {},
     "output_type": "display_data"
    },
    {
     "data": {
      "text/plain": [
       "{'electionId': ObjectId('7fffffff0000000000000002'),\n",
       " 'n': 1,\n",
       " 'nModified': 1,\n",
       " 'ok': 1.0,\n",
       " 'opTime': {'t': 2, 'ts': Timestamp(1505749409, 1)},\n",
       " 'updatedExisting': True}"
      ]
     },
     "metadata": {},
     "output_type": "display_data"
    },
    {
     "data": {
      "text/plain": [
       "{'electionId': ObjectId('7fffffff0000000000000002'),\n",
       " 'n': 1,\n",
       " 'nModified': 1,\n",
       " 'ok': 1.0,\n",
       " 'opTime': {'t': 2, 'ts': Timestamp(1505749410, 1)},\n",
       " 'updatedExisting': True}"
      ]
     },
     "metadata": {},
     "output_type": "display_data"
    },
    {
     "data": {
      "text/plain": [
       "{'electionId': ObjectId('7fffffff0000000000000002'),\n",
       " 'n': 1,\n",
       " 'nModified': 1,\n",
       " 'ok': 1.0,\n",
       " 'opTime': {'t': 2, 'ts': Timestamp(1505749410, 2)},\n",
       " 'updatedExisting': True}"
      ]
     },
     "metadata": {},
     "output_type": "display_data"
    },
    {
     "data": {
      "text/plain": [
       "{'electionId': ObjectId('7fffffff0000000000000002'),\n",
       " 'n': 1,\n",
       " 'nModified': 1,\n",
       " 'ok': 1.0,\n",
       " 'opTime': {'t': 2, 'ts': Timestamp(1505749411, 1)},\n",
       " 'updatedExisting': True}"
      ]
     },
     "metadata": {},
     "output_type": "display_data"
    },
    {
     "data": {
      "text/plain": [
       "{'electionId': ObjectId('7fffffff0000000000000002'),\n",
       " 'n': 1,\n",
       " 'nModified': 1,\n",
       " 'ok': 1.0,\n",
       " 'opTime': {'t': 2, 'ts': Timestamp(1505749411, 2)},\n",
       " 'updatedExisting': True}"
      ]
     },
     "metadata": {},
     "output_type": "display_data"
    },
    {
     "data": {
      "text/plain": [
       "{'electionId': ObjectId('7fffffff0000000000000002'),\n",
       " 'n': 1,\n",
       " 'nModified': 1,\n",
       " 'ok': 1.0,\n",
       " 'opTime': {'t': 2, 'ts': Timestamp(1505749412, 1)},\n",
       " 'updatedExisting': True}"
      ]
     },
     "metadata": {},
     "output_type": "display_data"
    },
    {
     "data": {
      "text/plain": [
       "{'electionId': ObjectId('7fffffff0000000000000002'),\n",
       " 'n': 1,\n",
       " 'nModified': 1,\n",
       " 'ok': 1.0,\n",
       " 'opTime': {'t': 2, 'ts': Timestamp(1505749412, 2)},\n",
       " 'updatedExisting': True}"
      ]
     },
     "metadata": {},
     "output_type": "display_data"
    },
    {
     "data": {
      "text/plain": [
       "{'electionId': ObjectId('7fffffff0000000000000002'),\n",
       " 'n': 1,\n",
       " 'nModified': 1,\n",
       " 'ok': 1.0,\n",
       " 'opTime': {'t': 2, 'ts': Timestamp(1505749413, 2)},\n",
       " 'updatedExisting': True}"
      ]
     },
     "metadata": {},
     "output_type": "display_data"
    },
    {
     "data": {
      "text/plain": [
       "{'electionId': ObjectId('7fffffff0000000000000002'),\n",
       " 'n': 1,\n",
       " 'nModified': 1,\n",
       " 'ok': 1.0,\n",
       " 'opTime': {'t': 2, 'ts': Timestamp(1505749413, 3)},\n",
       " 'updatedExisting': True}"
      ]
     },
     "metadata": {},
     "output_type": "display_data"
    },
    {
     "data": {
      "text/plain": [
       "{'electionId': ObjectId('7fffffff0000000000000002'),\n",
       " 'n': 1,\n",
       " 'nModified': 1,\n",
       " 'ok': 1.0,\n",
       " 'opTime': {'t': 2, 'ts': Timestamp(1505749413, 4)},\n",
       " 'updatedExisting': True}"
      ]
     },
     "metadata": {},
     "output_type": "display_data"
    },
    {
     "data": {
      "text/plain": [
       "{'electionId': ObjectId('7fffffff0000000000000002'),\n",
       " 'n': 1,\n",
       " 'nModified': 1,\n",
       " 'ok': 1.0,\n",
       " 'opTime': {'t': 2, 'ts': Timestamp(1505749414, 1)},\n",
       " 'updatedExisting': True}"
      ]
     },
     "metadata": {},
     "output_type": "display_data"
    },
    {
     "data": {
      "text/plain": [
       "{'electionId': ObjectId('7fffffff0000000000000002'),\n",
       " 'n': 1,\n",
       " 'nModified': 1,\n",
       " 'ok': 1.0,\n",
       " 'opTime': {'t': 2, 'ts': Timestamp(1505749414, 2)},\n",
       " 'updatedExisting': True}"
      ]
     },
     "metadata": {},
     "output_type": "display_data"
    },
    {
     "data": {
      "text/plain": [
       "{'electionId': ObjectId('7fffffff0000000000000002'),\n",
       " 'n': 1,\n",
       " 'nModified': 1,\n",
       " 'ok': 1.0,\n",
       " 'opTime': {'t': 2, 'ts': Timestamp(1505749415, 1)},\n",
       " 'updatedExisting': True}"
      ]
     },
     "metadata": {},
     "output_type": "display_data"
    },
    {
     "data": {
      "text/plain": [
       "{'electionId': ObjectId('7fffffff0000000000000002'),\n",
       " 'n': 1,\n",
       " 'nModified': 1,\n",
       " 'ok': 1.0,\n",
       " 'opTime': {'t': 2, 'ts': Timestamp(1505749415, 2)},\n",
       " 'updatedExisting': True}"
      ]
     },
     "metadata": {},
     "output_type": "display_data"
    },
    {
     "data": {
      "text/plain": [
       "{'electionId': ObjectId('7fffffff0000000000000002'),\n",
       " 'n': 1,\n",
       " 'nModified': 1,\n",
       " 'ok': 1.0,\n",
       " 'opTime': {'t': 2, 'ts': Timestamp(1505749416, 1)},\n",
       " 'updatedExisting': True}"
      ]
     },
     "metadata": {},
     "output_type": "display_data"
    },
    {
     "data": {
      "text/plain": [
       "{'electionId': ObjectId('7fffffff0000000000000002'),\n",
       " 'n': 1,\n",
       " 'nModified': 1,\n",
       " 'ok': 1.0,\n",
       " 'opTime': {'t': 2, 'ts': Timestamp(1505749416, 2)},\n",
       " 'updatedExisting': True}"
      ]
     },
     "metadata": {},
     "output_type": "display_data"
    },
    {
     "data": {
      "text/plain": [
       "{'electionId': ObjectId('7fffffff0000000000000002'),\n",
       " 'n': 1,\n",
       " 'nModified': 1,\n",
       " 'ok': 1.0,\n",
       " 'opTime': {'t': 2, 'ts': Timestamp(1505749417, 1)},\n",
       " 'updatedExisting': True}"
      ]
     },
     "metadata": {},
     "output_type": "display_data"
    },
    {
     "data": {
      "text/plain": [
       "{'electionId': ObjectId('7fffffff0000000000000002'),\n",
       " 'n': 1,\n",
       " 'nModified': 1,\n",
       " 'ok': 1.0,\n",
       " 'opTime': {'t': 2, 'ts': Timestamp(1505749417, 2)},\n",
       " 'updatedExisting': True}"
      ]
     },
     "metadata": {},
     "output_type": "display_data"
    },
    {
     "data": {
      "text/plain": [
       "{'electionId': ObjectId('7fffffff0000000000000002'),\n",
       " 'n': 1,\n",
       " 'nModified': 1,\n",
       " 'ok': 1.0,\n",
       " 'opTime': {'t': 2, 'ts': Timestamp(1505749418, 1)},\n",
       " 'updatedExisting': True}"
      ]
     },
     "metadata": {},
     "output_type": "display_data"
    },
    {
     "data": {
      "text/plain": [
       "{'electionId': ObjectId('7fffffff0000000000000002'),\n",
       " 'n': 1,\n",
       " 'nModified': 1,\n",
       " 'ok': 1.0,\n",
       " 'opTime': {'t': 2, 'ts': Timestamp(1505749418, 2)},\n",
       " 'updatedExisting': True}"
      ]
     },
     "metadata": {},
     "output_type": "display_data"
    },
    {
     "data": {
      "text/plain": [
       "{'electionId': ObjectId('7fffffff0000000000000002'),\n",
       " 'n': 1,\n",
       " 'nModified': 1,\n",
       " 'ok': 1.0,\n",
       " 'opTime': {'t': 2, 'ts': Timestamp(1505749419, 1)},\n",
       " 'updatedExisting': True}"
      ]
     },
     "metadata": {},
     "output_type": "display_data"
    },
    {
     "data": {
      "text/plain": [
       "{'electionId': ObjectId('7fffffff0000000000000002'),\n",
       " 'n': 1,\n",
       " 'nModified': 1,\n",
       " 'ok': 1.0,\n",
       " 'opTime': {'t': 2, 'ts': Timestamp(1505749419, 2)},\n",
       " 'updatedExisting': True}"
      ]
     },
     "metadata": {},
     "output_type": "display_data"
    },
    {
     "data": {
      "text/plain": [
       "{'electionId': ObjectId('7fffffff0000000000000002'),\n",
       " 'n': 1,\n",
       " 'nModified': 1,\n",
       " 'ok': 1.0,\n",
       " 'opTime': {'t': 2, 'ts': Timestamp(1505749420, 1)},\n",
       " 'updatedExisting': True}"
      ]
     },
     "metadata": {},
     "output_type": "display_data"
    },
    {
     "data": {
      "text/plain": [
       "{'electionId': ObjectId('7fffffff0000000000000002'),\n",
       " 'n': 1,\n",
       " 'nModified': 1,\n",
       " 'ok': 1.0,\n",
       " 'opTime': {'t': 2, 'ts': Timestamp(1505749421, 1)},\n",
       " 'updatedExisting': True}"
      ]
     },
     "metadata": {},
     "output_type": "display_data"
    },
    {
     "data": {
      "text/plain": [
       "{'electionId': ObjectId('7fffffff0000000000000002'),\n",
       " 'n': 1,\n",
       " 'nModified': 1,\n",
       " 'ok': 1.0,\n",
       " 'opTime': {'t': 2, 'ts': Timestamp(1505749421, 2)},\n",
       " 'updatedExisting': True}"
      ]
     },
     "metadata": {},
     "output_type": "display_data"
    },
    {
     "data": {
      "text/plain": [
       "{'electionId': ObjectId('7fffffff0000000000000002'),\n",
       " 'n': 1,\n",
       " 'nModified': 1,\n",
       " 'ok': 1.0,\n",
       " 'opTime': {'t': 2, 'ts': Timestamp(1505749422, 1)},\n",
       " 'updatedExisting': True}"
      ]
     },
     "metadata": {},
     "output_type": "display_data"
    },
    {
     "data": {
      "text/plain": [
       "{'electionId': ObjectId('7fffffff0000000000000002'),\n",
       " 'n': 1,\n",
       " 'nModified': 1,\n",
       " 'ok': 1.0,\n",
       " 'opTime': {'t': 2, 'ts': Timestamp(1505749422, 2)},\n",
       " 'updatedExisting': True}"
      ]
     },
     "metadata": {},
     "output_type": "display_data"
    },
    {
     "data": {
      "text/plain": [
       "{'electionId': ObjectId('7fffffff0000000000000002'),\n",
       " 'n': 1,\n",
       " 'nModified': 1,\n",
       " 'ok': 1.0,\n",
       " 'opTime': {'t': 2, 'ts': Timestamp(1505749422, 3)},\n",
       " 'updatedExisting': True}"
      ]
     },
     "metadata": {},
     "output_type": "display_data"
    },
    {
     "data": {
      "text/plain": [
       "{'electionId': ObjectId('7fffffff0000000000000002'),\n",
       " 'n': 1,\n",
       " 'nModified': 1,\n",
       " 'ok': 1.0,\n",
       " 'opTime': {'t': 2, 'ts': Timestamp(1505749422, 4)},\n",
       " 'updatedExisting': True}"
      ]
     },
     "metadata": {},
     "output_type": "display_data"
    },
    {
     "data": {
      "text/plain": [
       "{'electionId': ObjectId('7fffffff0000000000000002'),\n",
       " 'n': 1,\n",
       " 'nModified': 1,\n",
       " 'ok': 1.0,\n",
       " 'opTime': {'t': 2, 'ts': Timestamp(1505749423, 1)},\n",
       " 'updatedExisting': True}"
      ]
     },
     "metadata": {},
     "output_type": "display_data"
    },
    {
     "data": {
      "text/plain": [
       "{'electionId': ObjectId('7fffffff0000000000000002'),\n",
       " 'n': 1,\n",
       " 'nModified': 1,\n",
       " 'ok': 1.0,\n",
       " 'opTime': {'t': 2, 'ts': Timestamp(1505749423, 2)},\n",
       " 'updatedExisting': True}"
      ]
     },
     "metadata": {},
     "output_type": "display_data"
    },
    {
     "data": {
      "text/plain": [
       "{'electionId': ObjectId('7fffffff0000000000000002'),\n",
       " 'n': 1,\n",
       " 'nModified': 1,\n",
       " 'ok': 1.0,\n",
       " 'opTime': {'t': 2, 'ts': Timestamp(1505749423, 3)},\n",
       " 'updatedExisting': True}"
      ]
     },
     "metadata": {},
     "output_type": "display_data"
    },
    {
     "data": {
      "text/plain": [
       "{'electionId': ObjectId('7fffffff0000000000000002'),\n",
       " 'n': 1,\n",
       " 'nModified': 1,\n",
       " 'ok': 1.0,\n",
       " 'opTime': {'t': 2, 'ts': Timestamp(1505749424, 1)},\n",
       " 'updatedExisting': True}"
      ]
     },
     "metadata": {},
     "output_type": "display_data"
    },
    {
     "data": {
      "text/plain": [
       "{'electionId': ObjectId('7fffffff0000000000000002'),\n",
       " 'n': 1,\n",
       " 'nModified': 1,\n",
       " 'ok': 1.0,\n",
       " 'opTime': {'t': 2, 'ts': Timestamp(1505749424, 2)},\n",
       " 'updatedExisting': True}"
      ]
     },
     "metadata": {},
     "output_type": "display_data"
    },
    {
     "data": {
      "text/plain": [
       "{'electionId': ObjectId('7fffffff0000000000000002'),\n",
       " 'n': 1,\n",
       " 'nModified': 1,\n",
       " 'ok': 1.0,\n",
       " 'opTime': {'t': 2, 'ts': Timestamp(1505749425, 1)},\n",
       " 'updatedExisting': True}"
      ]
     },
     "metadata": {},
     "output_type": "display_data"
    },
    {
     "data": {
      "text/plain": [
       "{'electionId': ObjectId('7fffffff0000000000000002'),\n",
       " 'n': 1,\n",
       " 'nModified': 1,\n",
       " 'ok': 1.0,\n",
       " 'opTime': {'t': 2, 'ts': Timestamp(1505749425, 2)},\n",
       " 'updatedExisting': True}"
      ]
     },
     "metadata": {},
     "output_type": "display_data"
    },
    {
     "data": {
      "text/plain": [
       "{'electionId': ObjectId('7fffffff0000000000000002'),\n",
       " 'n': 1,\n",
       " 'nModified': 1,\n",
       " 'ok': 1.0,\n",
       " 'opTime': {'t': 2, 'ts': Timestamp(1505749425, 3)},\n",
       " 'updatedExisting': True}"
      ]
     },
     "metadata": {},
     "output_type": "display_data"
    },
    {
     "data": {
      "text/plain": [
       "{'electionId': ObjectId('7fffffff0000000000000002'),\n",
       " 'n': 1,\n",
       " 'nModified': 1,\n",
       " 'ok': 1.0,\n",
       " 'opTime': {'t': 2, 'ts': Timestamp(1505749426, 1)},\n",
       " 'updatedExisting': True}"
      ]
     },
     "metadata": {},
     "output_type": "display_data"
    },
    {
     "data": {
      "text/plain": [
       "{'electionId': ObjectId('7fffffff0000000000000002'),\n",
       " 'n': 1,\n",
       " 'nModified': 1,\n",
       " 'ok': 1.0,\n",
       " 'opTime': {'t': 2, 'ts': Timestamp(1505749426, 2)},\n",
       " 'updatedExisting': True}"
      ]
     },
     "metadata": {},
     "output_type": "display_data"
    },
    {
     "data": {
      "text/plain": [
       "{'electionId': ObjectId('7fffffff0000000000000002'),\n",
       " 'n': 1,\n",
       " 'nModified': 1,\n",
       " 'ok': 1.0,\n",
       " 'opTime': {'t': 2, 'ts': Timestamp(1505749426, 3)},\n",
       " 'updatedExisting': True}"
      ]
     },
     "metadata": {},
     "output_type": "display_data"
    },
    {
     "data": {
      "text/plain": [
       "{'electionId': ObjectId('7fffffff0000000000000002'),\n",
       " 'n': 1,\n",
       " 'nModified': 1,\n",
       " 'ok': 1.0,\n",
       " 'opTime': {'t': 2, 'ts': Timestamp(1505749427, 1)},\n",
       " 'updatedExisting': True}"
      ]
     },
     "metadata": {},
     "output_type": "display_data"
    },
    {
     "data": {
      "text/plain": [
       "{'electionId': ObjectId('7fffffff0000000000000002'),\n",
       " 'n': 1,\n",
       " 'nModified': 1,\n",
       " 'ok': 1.0,\n",
       " 'opTime': {'t': 2, 'ts': Timestamp(1505749427, 2)},\n",
       " 'updatedExisting': True}"
      ]
     },
     "metadata": {},
     "output_type": "display_data"
    },
    {
     "data": {
      "text/plain": [
       "{'electionId': ObjectId('7fffffff0000000000000002'),\n",
       " 'n': 1,\n",
       " 'nModified': 1,\n",
       " 'ok': 1.0,\n",
       " 'opTime': {'t': 2, 'ts': Timestamp(1505749427, 3)},\n",
       " 'updatedExisting': True}"
      ]
     },
     "metadata": {},
     "output_type": "display_data"
    },
    {
     "data": {
      "text/plain": [
       "{'electionId': ObjectId('7fffffff0000000000000002'),\n",
       " 'n': 1,\n",
       " 'nModified': 1,\n",
       " 'ok': 1.0,\n",
       " 'opTime': {'t': 2, 'ts': Timestamp(1505749428, 1)},\n",
       " 'updatedExisting': True}"
      ]
     },
     "metadata": {},
     "output_type": "display_data"
    },
    {
     "data": {
      "text/plain": [
       "{'electionId': ObjectId('7fffffff0000000000000002'),\n",
       " 'n': 1,\n",
       " 'nModified': 1,\n",
       " 'ok': 1.0,\n",
       " 'opTime': {'t': 2, 'ts': Timestamp(1505749428, 2)},\n",
       " 'updatedExisting': True}"
      ]
     },
     "metadata": {},
     "output_type": "display_data"
    },
    {
     "data": {
      "text/plain": [
       "{'electionId': ObjectId('7fffffff0000000000000002'),\n",
       " 'n': 1,\n",
       " 'nModified': 1,\n",
       " 'ok': 1.0,\n",
       " 'opTime': {'t': 2, 'ts': Timestamp(1505749428, 3)},\n",
       " 'updatedExisting': True}"
      ]
     },
     "metadata": {},
     "output_type": "display_data"
    },
    {
     "data": {
      "text/plain": [
       "{'electionId': ObjectId('7fffffff0000000000000002'),\n",
       " 'n': 1,\n",
       " 'nModified': 1,\n",
       " 'ok': 1.0,\n",
       " 'opTime': {'t': 2, 'ts': Timestamp(1505749429, 1)},\n",
       " 'updatedExisting': True}"
      ]
     },
     "metadata": {},
     "output_type": "display_data"
    },
    {
     "data": {
      "text/plain": [
       "{'electionId': ObjectId('7fffffff0000000000000002'),\n",
       " 'n': 1,\n",
       " 'nModified': 1,\n",
       " 'ok': 1.0,\n",
       " 'opTime': {'t': 2, 'ts': Timestamp(1505749429, 2)},\n",
       " 'updatedExisting': True}"
      ]
     },
     "metadata": {},
     "output_type": "display_data"
    },
    {
     "data": {
      "text/plain": [
       "{'electionId': ObjectId('7fffffff0000000000000002'),\n",
       " 'n': 1,\n",
       " 'nModified': 1,\n",
       " 'ok': 1.0,\n",
       " 'opTime': {'t': 2, 'ts': Timestamp(1505749429, 3)},\n",
       " 'updatedExisting': True}"
      ]
     },
     "metadata": {},
     "output_type": "display_data"
    },
    {
     "data": {
      "text/plain": [
       "{'electionId': ObjectId('7fffffff0000000000000002'),\n",
       " 'n': 1,\n",
       " 'nModified': 1,\n",
       " 'ok': 1.0,\n",
       " 'opTime': {'t': 2, 'ts': Timestamp(1505749430, 1)},\n",
       " 'updatedExisting': True}"
      ]
     },
     "metadata": {},
     "output_type": "display_data"
    },
    {
     "data": {
      "text/plain": [
       "{'electionId': ObjectId('7fffffff0000000000000002'),\n",
       " 'n': 1,\n",
       " 'nModified': 1,\n",
       " 'ok': 1.0,\n",
       " 'opTime': {'t': 2, 'ts': Timestamp(1505749430, 2)},\n",
       " 'updatedExisting': True}"
      ]
     },
     "metadata": {},
     "output_type": "display_data"
    },
    {
     "data": {
      "text/plain": [
       "{'electionId': ObjectId('7fffffff0000000000000002'),\n",
       " 'n': 1,\n",
       " 'nModified': 1,\n",
       " 'ok': 1.0,\n",
       " 'opTime': {'t': 2, 'ts': Timestamp(1505749430, 3)},\n",
       " 'updatedExisting': True}"
      ]
     },
     "metadata": {},
     "output_type": "display_data"
    },
    {
     "data": {
      "text/plain": [
       "{'electionId': ObjectId('7fffffff0000000000000002'),\n",
       " 'n': 1,\n",
       " 'nModified': 1,\n",
       " 'ok': 1.0,\n",
       " 'opTime': {'t': 2, 'ts': Timestamp(1505749430, 4)},\n",
       " 'updatedExisting': True}"
      ]
     },
     "metadata": {},
     "output_type": "display_data"
    },
    {
     "data": {
      "text/plain": [
       "{'electionId': ObjectId('7fffffff0000000000000002'),\n",
       " 'n': 1,\n",
       " 'nModified': 1,\n",
       " 'ok': 1.0,\n",
       " 'opTime': {'t': 2, 'ts': Timestamp(1505749431, 1)},\n",
       " 'updatedExisting': True}"
      ]
     },
     "metadata": {},
     "output_type": "display_data"
    },
    {
     "data": {
      "text/plain": [
       "{'electionId': ObjectId('7fffffff0000000000000002'),\n",
       " 'n': 1,\n",
       " 'nModified': 1,\n",
       " 'ok': 1.0,\n",
       " 'opTime': {'t': 2, 'ts': Timestamp(1505749431, 2)},\n",
       " 'updatedExisting': True}"
      ]
     },
     "metadata": {},
     "output_type": "display_data"
    },
    {
     "data": {
      "text/plain": [
       "{'electionId': ObjectId('7fffffff0000000000000002'),\n",
       " 'n': 1,\n",
       " 'nModified': 1,\n",
       " 'ok': 1.0,\n",
       " 'opTime': {'t': 2, 'ts': Timestamp(1505749432, 1)},\n",
       " 'updatedExisting': True}"
      ]
     },
     "metadata": {},
     "output_type": "display_data"
    },
    {
     "data": {
      "text/plain": [
       "{'electionId': ObjectId('7fffffff0000000000000002'),\n",
       " 'n': 1,\n",
       " 'nModified': 1,\n",
       " 'ok': 1.0,\n",
       " 'opTime': {'t': 2, 'ts': Timestamp(1505749432, 2)},\n",
       " 'updatedExisting': True}"
      ]
     },
     "metadata": {},
     "output_type": "display_data"
    },
    {
     "data": {
      "text/plain": [
       "{'electionId': ObjectId('7fffffff0000000000000002'),\n",
       " 'n': 1,\n",
       " 'nModified': 1,\n",
       " 'ok': 1.0,\n",
       " 'opTime': {'t': 2, 'ts': Timestamp(1505749432, 3)},\n",
       " 'updatedExisting': True}"
      ]
     },
     "metadata": {},
     "output_type": "display_data"
    },
    {
     "data": {
      "text/plain": [
       "{'electionId': ObjectId('7fffffff0000000000000002'),\n",
       " 'n': 1,\n",
       " 'nModified': 1,\n",
       " 'ok': 1.0,\n",
       " 'opTime': {'t': 2, 'ts': Timestamp(1505749433, 1)},\n",
       " 'updatedExisting': True}"
      ]
     },
     "metadata": {},
     "output_type": "display_data"
    },
    {
     "data": {
      "text/plain": [
       "{'electionId': ObjectId('7fffffff0000000000000002'),\n",
       " 'n': 1,\n",
       " 'nModified': 1,\n",
       " 'ok': 1.0,\n",
       " 'opTime': {'t': 2, 'ts': Timestamp(1505749433, 2)},\n",
       " 'updatedExisting': True}"
      ]
     },
     "metadata": {},
     "output_type": "display_data"
    },
    {
     "data": {
      "text/plain": [
       "{'electionId': ObjectId('7fffffff0000000000000002'),\n",
       " 'n': 1,\n",
       " 'nModified': 1,\n",
       " 'ok': 1.0,\n",
       " 'opTime': {'t': 2, 'ts': Timestamp(1505749434, 1)},\n",
       " 'updatedExisting': True}"
      ]
     },
     "metadata": {},
     "output_type": "display_data"
    },
    {
     "data": {
      "text/plain": [
       "{'electionId': ObjectId('7fffffff0000000000000002'),\n",
       " 'n': 1,\n",
       " 'nModified': 1,\n",
       " 'ok': 1.0,\n",
       " 'opTime': {'t': 2, 'ts': Timestamp(1505749434, 2)},\n",
       " 'updatedExisting': True}"
      ]
     },
     "metadata": {},
     "output_type": "display_data"
    },
    {
     "data": {
      "text/plain": [
       "{'electionId': ObjectId('7fffffff0000000000000002'),\n",
       " 'n': 1,\n",
       " 'nModified': 1,\n",
       " 'ok': 1.0,\n",
       " 'opTime': {'t': 2, 'ts': Timestamp(1505749435, 1)},\n",
       " 'updatedExisting': True}"
      ]
     },
     "metadata": {},
     "output_type": "display_data"
    },
    {
     "data": {
      "text/plain": [
       "{'electionId': ObjectId('7fffffff0000000000000002'),\n",
       " 'n': 1,\n",
       " 'nModified': 1,\n",
       " 'ok': 1.0,\n",
       " 'opTime': {'t': 2, 'ts': Timestamp(1505749435, 2)},\n",
       " 'updatedExisting': True}"
      ]
     },
     "metadata": {},
     "output_type": "display_data"
    },
    {
     "data": {
      "text/plain": [
       "{'electionId': ObjectId('7fffffff0000000000000002'),\n",
       " 'n': 1,\n",
       " 'nModified': 1,\n",
       " 'ok': 1.0,\n",
       " 'opTime': {'t': 2, 'ts': Timestamp(1505749435, 3)},\n",
       " 'updatedExisting': True}"
      ]
     },
     "metadata": {},
     "output_type": "display_data"
    },
    {
     "data": {
      "text/plain": [
       "{'electionId': ObjectId('7fffffff0000000000000002'),\n",
       " 'n': 1,\n",
       " 'nModified': 1,\n",
       " 'ok': 1.0,\n",
       " 'opTime': {'t': 2, 'ts': Timestamp(1505749436, 1)},\n",
       " 'updatedExisting': True}"
      ]
     },
     "metadata": {},
     "output_type": "display_data"
    },
    {
     "data": {
      "text/plain": [
       "{'electionId': ObjectId('7fffffff0000000000000002'),\n",
       " 'n': 1,\n",
       " 'nModified': 1,\n",
       " 'ok': 1.0,\n",
       " 'opTime': {'t': 2, 'ts': Timestamp(1505749436, 2)},\n",
       " 'updatedExisting': True}"
      ]
     },
     "metadata": {},
     "output_type": "display_data"
    },
    {
     "data": {
      "text/plain": [
       "{'electionId': ObjectId('7fffffff0000000000000002'),\n",
       " 'n': 1,\n",
       " 'nModified': 1,\n",
       " 'ok': 1.0,\n",
       " 'opTime': {'t': 2, 'ts': Timestamp(1505749437, 1)},\n",
       " 'updatedExisting': True}"
      ]
     },
     "metadata": {},
     "output_type": "display_data"
    },
    {
     "data": {
      "text/plain": [
       "{'electionId': ObjectId('7fffffff0000000000000002'),\n",
       " 'n': 1,\n",
       " 'nModified': 1,\n",
       " 'ok': 1.0,\n",
       " 'opTime': {'t': 2, 'ts': Timestamp(1505749437, 2)},\n",
       " 'updatedExisting': True}"
      ]
     },
     "metadata": {},
     "output_type": "display_data"
    },
    {
     "data": {
      "text/plain": [
       "{'electionId': ObjectId('7fffffff0000000000000002'),\n",
       " 'n': 1,\n",
       " 'nModified': 1,\n",
       " 'ok': 1.0,\n",
       " 'opTime': {'t': 2, 'ts': Timestamp(1505749437, 3)},\n",
       " 'updatedExisting': True}"
      ]
     },
     "metadata": {},
     "output_type": "display_data"
    },
    {
     "data": {
      "text/plain": [
       "{'electionId': ObjectId('7fffffff0000000000000002'),\n",
       " 'n': 1,\n",
       " 'nModified': 1,\n",
       " 'ok': 1.0,\n",
       " 'opTime': {'t': 2, 'ts': Timestamp(1505749438, 1)},\n",
       " 'updatedExisting': True}"
      ]
     },
     "metadata": {},
     "output_type": "display_data"
    },
    {
     "data": {
      "text/plain": [
       "{'electionId': ObjectId('7fffffff0000000000000002'),\n",
       " 'n': 1,\n",
       " 'nModified': 1,\n",
       " 'ok': 1.0,\n",
       " 'opTime': {'t': 2, 'ts': Timestamp(1505749438, 2)},\n",
       " 'updatedExisting': True}"
      ]
     },
     "metadata": {},
     "output_type": "display_data"
    },
    {
     "data": {
      "text/plain": [
       "{'electionId': ObjectId('7fffffff0000000000000002'),\n",
       " 'n': 1,\n",
       " 'nModified': 1,\n",
       " 'ok': 1.0,\n",
       " 'opTime': {'t': 2, 'ts': Timestamp(1505749438, 3)},\n",
       " 'updatedExisting': True}"
      ]
     },
     "metadata": {},
     "output_type": "display_data"
    },
    {
     "data": {
      "text/plain": [
       "{'electionId': ObjectId('7fffffff0000000000000002'),\n",
       " 'n': 1,\n",
       " 'nModified': 1,\n",
       " 'ok': 1.0,\n",
       " 'opTime': {'t': 2, 'ts': Timestamp(1505749439, 1)},\n",
       " 'updatedExisting': True}"
      ]
     },
     "metadata": {},
     "output_type": "display_data"
    },
    {
     "data": {
      "text/plain": [
       "{'electionId': ObjectId('7fffffff0000000000000002'),\n",
       " 'n': 1,\n",
       " 'nModified': 1,\n",
       " 'ok': 1.0,\n",
       " 'opTime': {'t': 2, 'ts': Timestamp(1505749439, 2)},\n",
       " 'updatedExisting': True}"
      ]
     },
     "metadata": {},
     "output_type": "display_data"
    },
    {
     "data": {
      "text/plain": [
       "{'electionId': ObjectId('7fffffff0000000000000002'),\n",
       " 'n': 1,\n",
       " 'nModified': 1,\n",
       " 'ok': 1.0,\n",
       " 'opTime': {'t': 2, 'ts': Timestamp(1505749439, 3)},\n",
       " 'updatedExisting': True}"
      ]
     },
     "metadata": {},
     "output_type": "display_data"
    },
    {
     "data": {
      "text/plain": [
       "{'electionId': ObjectId('7fffffff0000000000000002'),\n",
       " 'n': 1,\n",
       " 'nModified': 1,\n",
       " 'ok': 1.0,\n",
       " 'opTime': {'t': 2, 'ts': Timestamp(1505749440, 1)},\n",
       " 'updatedExisting': True}"
      ]
     },
     "metadata": {},
     "output_type": "display_data"
    },
    {
     "data": {
      "text/plain": [
       "{'electionId': ObjectId('7fffffff0000000000000002'),\n",
       " 'n': 1,\n",
       " 'nModified': 1,\n",
       " 'ok': 1.0,\n",
       " 'opTime': {'t': 2, 'ts': Timestamp(1505749440, 2)},\n",
       " 'updatedExisting': True}"
      ]
     },
     "metadata": {},
     "output_type": "display_data"
    },
    {
     "data": {
      "text/plain": [
       "{'electionId': ObjectId('7fffffff0000000000000002'),\n",
       " 'n': 1,\n",
       " 'nModified': 1,\n",
       " 'ok': 1.0,\n",
       " 'opTime': {'t': 2, 'ts': Timestamp(1505749442, 1)},\n",
       " 'updatedExisting': True}"
      ]
     },
     "metadata": {},
     "output_type": "display_data"
    },
    {
     "data": {
      "text/plain": [
       "{'electionId': ObjectId('7fffffff0000000000000002'),\n",
       " 'n': 1,\n",
       " 'nModified': 1,\n",
       " 'ok': 1.0,\n",
       " 'opTime': {'t': 2, 'ts': Timestamp(1505749442, 2)},\n",
       " 'updatedExisting': True}"
      ]
     },
     "metadata": {},
     "output_type": "display_data"
    },
    {
     "data": {
      "text/plain": [
       "{'electionId': ObjectId('7fffffff0000000000000002'),\n",
       " 'n': 1,\n",
       " 'nModified': 1,\n",
       " 'ok': 1.0,\n",
       " 'opTime': {'t': 2, 'ts': Timestamp(1505749442, 3)},\n",
       " 'updatedExisting': True}"
      ]
     },
     "metadata": {},
     "output_type": "display_data"
    },
    {
     "data": {
      "text/plain": [
       "{'electionId': ObjectId('7fffffff0000000000000002'),\n",
       " 'n': 1,\n",
       " 'nModified': 1,\n",
       " 'ok': 1.0,\n",
       " 'opTime': {'t': 2, 'ts': Timestamp(1505749442, 4)},\n",
       " 'updatedExisting': True}"
      ]
     },
     "metadata": {},
     "output_type": "display_data"
    },
    {
     "data": {
      "text/plain": [
       "{'electionId': ObjectId('7fffffff0000000000000002'),\n",
       " 'n': 1,\n",
       " 'nModified': 1,\n",
       " 'ok': 1.0,\n",
       " 'opTime': {'t': 2, 'ts': Timestamp(1505749443, 1)},\n",
       " 'updatedExisting': True}"
      ]
     },
     "metadata": {},
     "output_type": "display_data"
    },
    {
     "data": {
      "text/plain": [
       "{'electionId': ObjectId('7fffffff0000000000000002'),\n",
       " 'n': 1,\n",
       " 'nModified': 1,\n",
       " 'ok': 1.0,\n",
       " 'opTime': {'t': 2, 'ts': Timestamp(1505749443, 2)},\n",
       " 'updatedExisting': True}"
      ]
     },
     "metadata": {},
     "output_type": "display_data"
    },
    {
     "data": {
      "text/plain": [
       "{'electionId': ObjectId('7fffffff0000000000000002'),\n",
       " 'n': 1,\n",
       " 'nModified': 1,\n",
       " 'ok': 1.0,\n",
       " 'opTime': {'t': 2, 'ts': Timestamp(1505749444, 1)},\n",
       " 'updatedExisting': True}"
      ]
     },
     "metadata": {},
     "output_type": "display_data"
    },
    {
     "data": {
      "text/plain": [
       "{'electionId': ObjectId('7fffffff0000000000000002'),\n",
       " 'n': 1,\n",
       " 'nModified': 1,\n",
       " 'ok': 1.0,\n",
       " 'opTime': {'t': 2, 'ts': Timestamp(1505749444, 2)},\n",
       " 'updatedExisting': True}"
      ]
     },
     "metadata": {},
     "output_type": "display_data"
    },
    {
     "data": {
      "text/plain": [
       "{'electionId': ObjectId('7fffffff0000000000000002'),\n",
       " 'n': 1,\n",
       " 'nModified': 1,\n",
       " 'ok': 1.0,\n",
       " 'opTime': {'t': 2, 'ts': Timestamp(1505749444, 3)},\n",
       " 'updatedExisting': True}"
      ]
     },
     "metadata": {},
     "output_type": "display_data"
    },
    {
     "data": {
      "text/plain": [
       "{'electionId': ObjectId('7fffffff0000000000000002'),\n",
       " 'n': 1,\n",
       " 'nModified': 1,\n",
       " 'ok': 1.0,\n",
       " 'opTime': {'t': 2, 'ts': Timestamp(1505749445, 1)},\n",
       " 'updatedExisting': True}"
      ]
     },
     "metadata": {},
     "output_type": "display_data"
    },
    {
     "data": {
      "text/plain": [
       "{'electionId': ObjectId('7fffffff0000000000000002'),\n",
       " 'n': 1,\n",
       " 'nModified': 1,\n",
       " 'ok': 1.0,\n",
       " 'opTime': {'t': 2, 'ts': Timestamp(1505749445, 2)},\n",
       " 'updatedExisting': True}"
      ]
     },
     "metadata": {},
     "output_type": "display_data"
    },
    {
     "data": {
      "text/plain": [
       "{'electionId': ObjectId('7fffffff0000000000000002'),\n",
       " 'n': 1,\n",
       " 'nModified': 1,\n",
       " 'ok': 1.0,\n",
       " 'opTime': {'t': 2, 'ts': Timestamp(1505749445, 3)},\n",
       " 'updatedExisting': True}"
      ]
     },
     "metadata": {},
     "output_type": "display_data"
    },
    {
     "data": {
      "text/plain": [
       "{'electionId': ObjectId('7fffffff0000000000000002'),\n",
       " 'n': 1,\n",
       " 'nModified': 1,\n",
       " 'ok': 1.0,\n",
       " 'opTime': {'t': 2, 'ts': Timestamp(1505749445, 4)},\n",
       " 'updatedExisting': True}"
      ]
     },
     "metadata": {},
     "output_type": "display_data"
    },
    {
     "data": {
      "text/plain": [
       "{'electionId': ObjectId('7fffffff0000000000000002'),\n",
       " 'n': 1,\n",
       " 'nModified': 1,\n",
       " 'ok': 1.0,\n",
       " 'opTime': {'t': 2, 'ts': Timestamp(1505749446, 1)},\n",
       " 'updatedExisting': True}"
      ]
     },
     "metadata": {},
     "output_type": "display_data"
    },
    {
     "data": {
      "text/plain": [
       "{'electionId': ObjectId('7fffffff0000000000000002'),\n",
       " 'n': 1,\n",
       " 'nModified': 1,\n",
       " 'ok': 1.0,\n",
       " 'opTime': {'t': 2, 'ts': Timestamp(1505749446, 2)},\n",
       " 'updatedExisting': True}"
      ]
     },
     "metadata": {},
     "output_type": "display_data"
    },
    {
     "data": {
      "text/plain": [
       "{'electionId': ObjectId('7fffffff0000000000000002'),\n",
       " 'n': 1,\n",
       " 'nModified': 1,\n",
       " 'ok': 1.0,\n",
       " 'opTime': {'t': 2, 'ts': Timestamp(1505749446, 3)},\n",
       " 'updatedExisting': True}"
      ]
     },
     "metadata": {},
     "output_type": "display_data"
    },
    {
     "data": {
      "text/plain": [
       "{'electionId': ObjectId('7fffffff0000000000000002'),\n",
       " 'n': 1,\n",
       " 'nModified': 1,\n",
       " 'ok': 1.0,\n",
       " 'opTime': {'t': 2, 'ts': Timestamp(1505749446, 4)},\n",
       " 'updatedExisting': True}"
      ]
     },
     "metadata": {},
     "output_type": "display_data"
    },
    {
     "data": {
      "text/plain": [
       "{'electionId': ObjectId('7fffffff0000000000000002'),\n",
       " 'n': 1,\n",
       " 'nModified': 1,\n",
       " 'ok': 1.0,\n",
       " 'opTime': {'t': 2, 'ts': Timestamp(1505749447, 1)},\n",
       " 'updatedExisting': True}"
      ]
     },
     "metadata": {},
     "output_type": "display_data"
    },
    {
     "data": {
      "text/plain": [
       "{'electionId': ObjectId('7fffffff0000000000000002'),\n",
       " 'n': 1,\n",
       " 'nModified': 1,\n",
       " 'ok': 1.0,\n",
       " 'opTime': {'t': 2, 'ts': Timestamp(1505749447, 2)},\n",
       " 'updatedExisting': True}"
      ]
     },
     "metadata": {},
     "output_type": "display_data"
    },
    {
     "data": {
      "text/plain": [
       "{'electionId': ObjectId('7fffffff0000000000000002'),\n",
       " 'n': 1,\n",
       " 'nModified': 1,\n",
       " 'ok': 1.0,\n",
       " 'opTime': {'t': 2, 'ts': Timestamp(1505749447, 3)},\n",
       " 'updatedExisting': True}"
      ]
     },
     "metadata": {},
     "output_type": "display_data"
    },
    {
     "data": {
      "text/plain": [
       "{'electionId': ObjectId('7fffffff0000000000000002'),\n",
       " 'n': 1,\n",
       " 'nModified': 1,\n",
       " 'ok': 1.0,\n",
       " 'opTime': {'t': 2, 'ts': Timestamp(1505749448, 1)},\n",
       " 'updatedExisting': True}"
      ]
     },
     "metadata": {},
     "output_type": "display_data"
    },
    {
     "data": {
      "text/plain": [
       "{'electionId': ObjectId('7fffffff0000000000000002'),\n",
       " 'n': 1,\n",
       " 'nModified': 1,\n",
       " 'ok': 1.0,\n",
       " 'opTime': {'t': 2, 'ts': Timestamp(1505749448, 2)},\n",
       " 'updatedExisting': True}"
      ]
     },
     "metadata": {},
     "output_type": "display_data"
    },
    {
     "data": {
      "text/plain": [
       "{'electionId': ObjectId('7fffffff0000000000000002'),\n",
       " 'n': 1,\n",
       " 'nModified': 1,\n",
       " 'ok': 1.0,\n",
       " 'opTime': {'t': 2, 'ts': Timestamp(1505749448, 3)},\n",
       " 'updatedExisting': True}"
      ]
     },
     "metadata": {},
     "output_type": "display_data"
    },
    {
     "data": {
      "text/plain": [
       "{'electionId': ObjectId('7fffffff0000000000000002'),\n",
       " 'n': 1,\n",
       " 'nModified': 1,\n",
       " 'ok': 1.0,\n",
       " 'opTime': {'t': 2, 'ts': Timestamp(1505749449, 1)},\n",
       " 'updatedExisting': True}"
      ]
     },
     "metadata": {},
     "output_type": "display_data"
    },
    {
     "data": {
      "text/plain": [
       "{'electionId': ObjectId('7fffffff0000000000000002'),\n",
       " 'n': 1,\n",
       " 'nModified': 1,\n",
       " 'ok': 1.0,\n",
       " 'opTime': {'t': 2, 'ts': Timestamp(1505749449, 2)},\n",
       " 'updatedExisting': True}"
      ]
     },
     "metadata": {},
     "output_type": "display_data"
    },
    {
     "data": {
      "text/plain": [
       "{'electionId': ObjectId('7fffffff0000000000000002'),\n",
       " 'n': 1,\n",
       " 'nModified': 1,\n",
       " 'ok': 1.0,\n",
       " 'opTime': {'t': 2, 'ts': Timestamp(1505749449, 3)},\n",
       " 'updatedExisting': True}"
      ]
     },
     "metadata": {},
     "output_type": "display_data"
    },
    {
     "data": {
      "text/plain": [
       "{'electionId': ObjectId('7fffffff0000000000000002'),\n",
       " 'n': 1,\n",
       " 'nModified': 1,\n",
       " 'ok': 1.0,\n",
       " 'opTime': {'t': 2, 'ts': Timestamp(1505749449, 4)},\n",
       " 'updatedExisting': True}"
      ]
     },
     "metadata": {},
     "output_type": "display_data"
    },
    {
     "data": {
      "text/plain": [
       "{'electionId': ObjectId('7fffffff0000000000000002'),\n",
       " 'n': 1,\n",
       " 'nModified': 1,\n",
       " 'ok': 1.0,\n",
       " 'opTime': {'t': 2, 'ts': Timestamp(1505749450, 1)},\n",
       " 'updatedExisting': True}"
      ]
     },
     "metadata": {},
     "output_type": "display_data"
    },
    {
     "data": {
      "text/plain": [
       "{'electionId': ObjectId('7fffffff0000000000000002'),\n",
       " 'n': 1,\n",
       " 'nModified': 1,\n",
       " 'ok': 1.0,\n",
       " 'opTime': {'t': 2, 'ts': Timestamp(1505749450, 2)},\n",
       " 'updatedExisting': True}"
      ]
     },
     "metadata": {},
     "output_type": "display_data"
    },
    {
     "data": {
      "text/plain": [
       "{'electionId': ObjectId('7fffffff0000000000000002'),\n",
       " 'n': 1,\n",
       " 'nModified': 1,\n",
       " 'ok': 1.0,\n",
       " 'opTime': {'t': 2, 'ts': Timestamp(1505749450, 3)},\n",
       " 'updatedExisting': True}"
      ]
     },
     "metadata": {},
     "output_type": "display_data"
    },
    {
     "data": {
      "text/plain": [
       "{'electionId': ObjectId('7fffffff0000000000000002'),\n",
       " 'n': 1,\n",
       " 'nModified': 1,\n",
       " 'ok': 1.0,\n",
       " 'opTime': {'t': 2, 'ts': Timestamp(1505749451, 1)},\n",
       " 'updatedExisting': True}"
      ]
     },
     "metadata": {},
     "output_type": "display_data"
    },
    {
     "data": {
      "text/plain": [
       "{'electionId': ObjectId('7fffffff0000000000000002'),\n",
       " 'n': 1,\n",
       " 'nModified': 1,\n",
       " 'ok': 1.0,\n",
       " 'opTime': {'t': 2, 'ts': Timestamp(1505749451, 2)},\n",
       " 'updatedExisting': True}"
      ]
     },
     "metadata": {},
     "output_type": "display_data"
    },
    {
     "data": {
      "text/plain": [
       "{'electionId': ObjectId('7fffffff0000000000000002'),\n",
       " 'n': 1,\n",
       " 'nModified': 1,\n",
       " 'ok': 1.0,\n",
       " 'opTime': {'t': 2, 'ts': Timestamp(1505749451, 3)},\n",
       " 'updatedExisting': True}"
      ]
     },
     "metadata": {},
     "output_type": "display_data"
    },
    {
     "data": {
      "text/plain": [
       "{'electionId': ObjectId('7fffffff0000000000000002'),\n",
       " 'n': 1,\n",
       " 'nModified': 1,\n",
       " 'ok': 1.0,\n",
       " 'opTime': {'t': 2, 'ts': Timestamp(1505749451, 4)},\n",
       " 'updatedExisting': True}"
      ]
     },
     "metadata": {},
     "output_type": "display_data"
    },
    {
     "data": {
      "text/plain": [
       "{'electionId': ObjectId('7fffffff0000000000000002'),\n",
       " 'n': 1,\n",
       " 'nModified': 1,\n",
       " 'ok': 1.0,\n",
       " 'opTime': {'t': 2, 'ts': Timestamp(1505749451, 5)},\n",
       " 'updatedExisting': True}"
      ]
     },
     "metadata": {},
     "output_type": "display_data"
    },
    {
     "data": {
      "text/plain": [
       "{'electionId': ObjectId('7fffffff0000000000000002'),\n",
       " 'n': 1,\n",
       " 'nModified': 1,\n",
       " 'ok': 1.0,\n",
       " 'opTime': {'t': 2, 'ts': Timestamp(1505749452, 1)},\n",
       " 'updatedExisting': True}"
      ]
     },
     "metadata": {},
     "output_type": "display_data"
    },
    {
     "data": {
      "text/plain": [
       "{'electionId': ObjectId('7fffffff0000000000000002'),\n",
       " 'n': 1,\n",
       " 'nModified': 1,\n",
       " 'ok': 1.0,\n",
       " 'opTime': {'t': 2, 'ts': Timestamp(1505749452, 2)},\n",
       " 'updatedExisting': True}"
      ]
     },
     "metadata": {},
     "output_type": "display_data"
    },
    {
     "data": {
      "text/plain": [
       "{'electionId': ObjectId('7fffffff0000000000000002'),\n",
       " 'n': 1,\n",
       " 'nModified': 1,\n",
       " 'ok': 1.0,\n",
       " 'opTime': {'t': 2, 'ts': Timestamp(1505749452, 3)},\n",
       " 'updatedExisting': True}"
      ]
     },
     "metadata": {},
     "output_type": "display_data"
    },
    {
     "data": {
      "text/plain": [
       "{'electionId': ObjectId('7fffffff0000000000000002'),\n",
       " 'n': 1,\n",
       " 'nModified': 1,\n",
       " 'ok': 1.0,\n",
       " 'opTime': {'t': 2, 'ts': Timestamp(1505749453, 1)},\n",
       " 'updatedExisting': True}"
      ]
     },
     "metadata": {},
     "output_type": "display_data"
    },
    {
     "data": {
      "text/plain": [
       "{'electionId': ObjectId('7fffffff0000000000000002'),\n",
       " 'n': 1,\n",
       " 'nModified': 1,\n",
       " 'ok': 1.0,\n",
       " 'opTime': {'t': 2, 'ts': Timestamp(1505749454, 1)},\n",
       " 'updatedExisting': True}"
      ]
     },
     "metadata": {},
     "output_type": "display_data"
    },
    {
     "data": {
      "text/plain": [
       "{'electionId': ObjectId('7fffffff0000000000000002'),\n",
       " 'n': 1,\n",
       " 'nModified': 1,\n",
       " 'ok': 1.0,\n",
       " 'opTime': {'t': 2, 'ts': Timestamp(1505749454, 2)},\n",
       " 'updatedExisting': True}"
      ]
     },
     "metadata": {},
     "output_type": "display_data"
    },
    {
     "data": {
      "text/plain": [
       "{'electionId': ObjectId('7fffffff0000000000000002'),\n",
       " 'n': 1,\n",
       " 'nModified': 1,\n",
       " 'ok': 1.0,\n",
       " 'opTime': {'t': 2, 'ts': Timestamp(1505749458, 1)},\n",
       " 'updatedExisting': True}"
      ]
     },
     "metadata": {},
     "output_type": "display_data"
    },
    {
     "data": {
      "text/plain": [
       "{'electionId': ObjectId('7fffffff0000000000000002'),\n",
       " 'n': 1,\n",
       " 'nModified': 1,\n",
       " 'ok': 1.0,\n",
       " 'opTime': {'t': 2, 'ts': Timestamp(1505749458, 2)},\n",
       " 'updatedExisting': True}"
      ]
     },
     "metadata": {},
     "output_type": "display_data"
    },
    {
     "data": {
      "text/plain": [
       "{'electionId': ObjectId('7fffffff0000000000000002'),\n",
       " 'n': 1,\n",
       " 'nModified': 1,\n",
       " 'ok': 1.0,\n",
       " 'opTime': {'t': 2, 'ts': Timestamp(1505749459, 1)},\n",
       " 'updatedExisting': True}"
      ]
     },
     "metadata": {},
     "output_type": "display_data"
    },
    {
     "data": {
      "text/plain": [
       "{'electionId': ObjectId('7fffffff0000000000000002'),\n",
       " 'n': 1,\n",
       " 'nModified': 1,\n",
       " 'ok': 1.0,\n",
       " 'opTime': {'t': 2, 'ts': Timestamp(1505749459, 2)},\n",
       " 'updatedExisting': True}"
      ]
     },
     "metadata": {},
     "output_type": "display_data"
    },
    {
     "data": {
      "text/plain": [
       "{'electionId': ObjectId('7fffffff0000000000000002'),\n",
       " 'n': 1,\n",
       " 'nModified': 1,\n",
       " 'ok': 1.0,\n",
       " 'opTime': {'t': 2, 'ts': Timestamp(1505749460, 1)},\n",
       " 'updatedExisting': True}"
      ]
     },
     "metadata": {},
     "output_type": "display_data"
    },
    {
     "data": {
      "text/plain": [
       "{'electionId': ObjectId('7fffffff0000000000000002'),\n",
       " 'n': 1,\n",
       " 'nModified': 1,\n",
       " 'ok': 1.0,\n",
       " 'opTime': {'t': 2, 'ts': Timestamp(1505749460, 2)},\n",
       " 'updatedExisting': True}"
      ]
     },
     "metadata": {},
     "output_type": "display_data"
    },
    {
     "data": {
      "text/plain": [
       "{'electionId': ObjectId('7fffffff0000000000000002'),\n",
       " 'n': 1,\n",
       " 'nModified': 1,\n",
       " 'ok': 1.0,\n",
       " 'opTime': {'t': 2, 'ts': Timestamp(1505749461, 1)},\n",
       " 'updatedExisting': True}"
      ]
     },
     "metadata": {},
     "output_type": "display_data"
    },
    {
     "data": {
      "text/plain": [
       "{'electionId': ObjectId('7fffffff0000000000000002'),\n",
       " 'n': 1,\n",
       " 'nModified': 1,\n",
       " 'ok': 1.0,\n",
       " 'opTime': {'t': 2, 'ts': Timestamp(1505749461, 2)},\n",
       " 'updatedExisting': True}"
      ]
     },
     "metadata": {},
     "output_type": "display_data"
    },
    {
     "data": {
      "text/plain": [
       "{'electionId': ObjectId('7fffffff0000000000000002'),\n",
       " 'n': 1,\n",
       " 'nModified': 1,\n",
       " 'ok': 1.0,\n",
       " 'opTime': {'t': 2, 'ts': Timestamp(1505749461, 3)},\n",
       " 'updatedExisting': True}"
      ]
     },
     "metadata": {},
     "output_type": "display_data"
    },
    {
     "data": {
      "text/plain": [
       "{'electionId': ObjectId('7fffffff0000000000000002'),\n",
       " 'n': 1,\n",
       " 'nModified': 1,\n",
       " 'ok': 1.0,\n",
       " 'opTime': {'t': 2, 'ts': Timestamp(1505749462, 1)},\n",
       " 'updatedExisting': True}"
      ]
     },
     "metadata": {},
     "output_type": "display_data"
    },
    {
     "data": {
      "text/plain": [
       "{'electionId': ObjectId('7fffffff0000000000000002'),\n",
       " 'n': 1,\n",
       " 'nModified': 1,\n",
       " 'ok': 1.0,\n",
       " 'opTime': {'t': 2, 'ts': Timestamp(1505749462, 2)},\n",
       " 'updatedExisting': True}"
      ]
     },
     "metadata": {},
     "output_type": "display_data"
    },
    {
     "data": {
      "text/plain": [
       "{'electionId': ObjectId('7fffffff0000000000000002'),\n",
       " 'n': 1,\n",
       " 'nModified': 1,\n",
       " 'ok': 1.0,\n",
       " 'opTime': {'t': 2, 'ts': Timestamp(1505749463, 1)},\n",
       " 'updatedExisting': True}"
      ]
     },
     "metadata": {},
     "output_type": "display_data"
    },
    {
     "data": {
      "text/plain": [
       "{'electionId': ObjectId('7fffffff0000000000000002'),\n",
       " 'n': 1,\n",
       " 'nModified': 1,\n",
       " 'ok': 1.0,\n",
       " 'opTime': {'t': 2, 'ts': Timestamp(1505749463, 2)},\n",
       " 'updatedExisting': True}"
      ]
     },
     "metadata": {},
     "output_type": "display_data"
    },
    {
     "data": {
      "text/plain": [
       "{'electionId': ObjectId('7fffffff0000000000000002'),\n",
       " 'n': 1,\n",
       " 'nModified': 1,\n",
       " 'ok': 1.0,\n",
       " 'opTime': {'t': 2, 'ts': Timestamp(1505749463, 3)},\n",
       " 'updatedExisting': True}"
      ]
     },
     "metadata": {},
     "output_type": "display_data"
    },
    {
     "data": {
      "text/plain": [
       "{'electionId': ObjectId('7fffffff0000000000000002'),\n",
       " 'n': 1,\n",
       " 'nModified': 1,\n",
       " 'ok': 1.0,\n",
       " 'opTime': {'t': 2, 'ts': Timestamp(1505749464, 1)},\n",
       " 'updatedExisting': True}"
      ]
     },
     "metadata": {},
     "output_type": "display_data"
    },
    {
     "data": {
      "text/plain": [
       "{'electionId': ObjectId('7fffffff0000000000000002'),\n",
       " 'n': 1,\n",
       " 'nModified': 1,\n",
       " 'ok': 1.0,\n",
       " 'opTime': {'t': 2, 'ts': Timestamp(1505749464, 2)},\n",
       " 'updatedExisting': True}"
      ]
     },
     "metadata": {},
     "output_type": "display_data"
    },
    {
     "data": {
      "text/plain": [
       "{'electionId': ObjectId('7fffffff0000000000000002'),\n",
       " 'n': 1,\n",
       " 'nModified': 1,\n",
       " 'ok': 1.0,\n",
       " 'opTime': {'t': 2, 'ts': Timestamp(1505749465, 1)},\n",
       " 'updatedExisting': True}"
      ]
     },
     "metadata": {},
     "output_type": "display_data"
    },
    {
     "data": {
      "text/plain": [
       "{'electionId': ObjectId('7fffffff0000000000000002'),\n",
       " 'n': 1,\n",
       " 'nModified': 1,\n",
       " 'ok': 1.0,\n",
       " 'opTime': {'t': 2, 'ts': Timestamp(1505749465, 2)},\n",
       " 'updatedExisting': True}"
      ]
     },
     "metadata": {},
     "output_type": "display_data"
    },
    {
     "data": {
      "text/plain": [
       "{'electionId': ObjectId('7fffffff0000000000000002'),\n",
       " 'n': 1,\n",
       " 'nModified': 1,\n",
       " 'ok': 1.0,\n",
       " 'opTime': {'t': 2, 'ts': Timestamp(1505749466, 1)},\n",
       " 'updatedExisting': True}"
      ]
     },
     "metadata": {},
     "output_type": "display_data"
    },
    {
     "data": {
      "text/plain": [
       "{'electionId': ObjectId('7fffffff0000000000000002'),\n",
       " 'n': 1,\n",
       " 'nModified': 1,\n",
       " 'ok': 1.0,\n",
       " 'opTime': {'t': 2, 'ts': Timestamp(1505749466, 2)},\n",
       " 'updatedExisting': True}"
      ]
     },
     "metadata": {},
     "output_type": "display_data"
    },
    {
     "data": {
      "text/plain": [
       "{'electionId': ObjectId('7fffffff0000000000000002'),\n",
       " 'n': 1,\n",
       " 'nModified': 1,\n",
       " 'ok': 1.0,\n",
       " 'opTime': {'t': 2, 'ts': Timestamp(1505749467, 1)},\n",
       " 'updatedExisting': True}"
      ]
     },
     "metadata": {},
     "output_type": "display_data"
    },
    {
     "data": {
      "text/plain": [
       "{'electionId': ObjectId('7fffffff0000000000000002'),\n",
       " 'n': 1,\n",
       " 'nModified': 1,\n",
       " 'ok': 1.0,\n",
       " 'opTime': {'t': 2, 'ts': Timestamp(1505749467, 2)},\n",
       " 'updatedExisting': True}"
      ]
     },
     "metadata": {},
     "output_type": "display_data"
    },
    {
     "data": {
      "text/plain": [
       "{'electionId': ObjectId('7fffffff0000000000000002'),\n",
       " 'n': 1,\n",
       " 'nModified': 1,\n",
       " 'ok': 1.0,\n",
       " 'opTime': {'t': 2, 'ts': Timestamp(1505749467, 3)},\n",
       " 'updatedExisting': True}"
      ]
     },
     "metadata": {},
     "output_type": "display_data"
    },
    {
     "data": {
      "text/plain": [
       "{'electionId': ObjectId('7fffffff0000000000000002'),\n",
       " 'n': 1,\n",
       " 'nModified': 1,\n",
       " 'ok': 1.0,\n",
       " 'opTime': {'t': 2, 'ts': Timestamp(1505749468, 1)},\n",
       " 'updatedExisting': True}"
      ]
     },
     "metadata": {},
     "output_type": "display_data"
    },
    {
     "data": {
      "text/plain": [
       "{'electionId': ObjectId('7fffffff0000000000000002'),\n",
       " 'n': 1,\n",
       " 'nModified': 1,\n",
       " 'ok': 1.0,\n",
       " 'opTime': {'t': 2, 'ts': Timestamp(1505749468, 2)},\n",
       " 'updatedExisting': True}"
      ]
     },
     "metadata": {},
     "output_type": "display_data"
    },
    {
     "data": {
      "text/plain": [
       "{'electionId': ObjectId('7fffffff0000000000000002'),\n",
       " 'n': 1,\n",
       " 'nModified': 1,\n",
       " 'ok': 1.0,\n",
       " 'opTime': {'t': 2, 'ts': Timestamp(1505749469, 1)},\n",
       " 'updatedExisting': True}"
      ]
     },
     "metadata": {},
     "output_type": "display_data"
    },
    {
     "data": {
      "text/plain": [
       "{'electionId': ObjectId('7fffffff0000000000000002'),\n",
       " 'n': 1,\n",
       " 'nModified': 1,\n",
       " 'ok': 1.0,\n",
       " 'opTime': {'t': 2, 'ts': Timestamp(1505749469, 2)},\n",
       " 'updatedExisting': True}"
      ]
     },
     "metadata": {},
     "output_type": "display_data"
    },
    {
     "data": {
      "text/plain": [
       "{'electionId': ObjectId('7fffffff0000000000000002'),\n",
       " 'n': 1,\n",
       " 'nModified': 1,\n",
       " 'ok': 1.0,\n",
       " 'opTime': {'t': 2, 'ts': Timestamp(1505749470, 1)},\n",
       " 'updatedExisting': True}"
      ]
     },
     "metadata": {},
     "output_type": "display_data"
    },
    {
     "data": {
      "text/plain": [
       "{'electionId': ObjectId('7fffffff0000000000000002'),\n",
       " 'n': 1,\n",
       " 'nModified': 1,\n",
       " 'ok': 1.0,\n",
       " 'opTime': {'t': 2, 'ts': Timestamp(1505749470, 2)},\n",
       " 'updatedExisting': True}"
      ]
     },
     "metadata": {},
     "output_type": "display_data"
    },
    {
     "data": {
      "text/plain": [
       "{'electionId': ObjectId('7fffffff0000000000000002'),\n",
       " 'n': 1,\n",
       " 'nModified': 1,\n",
       " 'ok': 1.0,\n",
       " 'opTime': {'t': 2, 'ts': Timestamp(1505749471, 1)},\n",
       " 'updatedExisting': True}"
      ]
     },
     "metadata": {},
     "output_type": "display_data"
    },
    {
     "data": {
      "text/plain": [
       "{'electionId': ObjectId('7fffffff0000000000000002'),\n",
       " 'n': 1,\n",
       " 'nModified': 1,\n",
       " 'ok': 1.0,\n",
       " 'opTime': {'t': 2, 'ts': Timestamp(1505749471, 2)},\n",
       " 'updatedExisting': True}"
      ]
     },
     "metadata": {},
     "output_type": "display_data"
    },
    {
     "data": {
      "text/plain": [
       "{'electionId': ObjectId('7fffffff0000000000000002'),\n",
       " 'n': 1,\n",
       " 'nModified': 1,\n",
       " 'ok': 1.0,\n",
       " 'opTime': {'t': 2, 'ts': Timestamp(1505749472, 1)},\n",
       " 'updatedExisting': True}"
      ]
     },
     "metadata": {},
     "output_type": "display_data"
    },
    {
     "data": {
      "text/plain": [
       "{'electionId': ObjectId('7fffffff0000000000000002'),\n",
       " 'n': 1,\n",
       " 'nModified': 1,\n",
       " 'ok': 1.0,\n",
       " 'opTime': {'t': 2, 'ts': Timestamp(1505749472, 2)},\n",
       " 'updatedExisting': True}"
      ]
     },
     "metadata": {},
     "output_type": "display_data"
    },
    {
     "data": {
      "text/plain": [
       "{'electionId': ObjectId('7fffffff0000000000000002'),\n",
       " 'n': 1,\n",
       " 'nModified': 1,\n",
       " 'ok': 1.0,\n",
       " 'opTime': {'t': 2, 'ts': Timestamp(1505749473, 1)},\n",
       " 'updatedExisting': True}"
      ]
     },
     "metadata": {},
     "output_type": "display_data"
    },
    {
     "data": {
      "text/plain": [
       "{'electionId': ObjectId('7fffffff0000000000000002'),\n",
       " 'n': 1,\n",
       " 'nModified': 1,\n",
       " 'ok': 1.0,\n",
       " 'opTime': {'t': 2, 'ts': Timestamp(1505749474, 1)},\n",
       " 'updatedExisting': True}"
      ]
     },
     "metadata": {},
     "output_type": "display_data"
    },
    {
     "data": {
      "text/plain": [
       "{'electionId': ObjectId('7fffffff0000000000000002'),\n",
       " 'n': 1,\n",
       " 'nModified': 1,\n",
       " 'ok': 1.0,\n",
       " 'opTime': {'t': 2, 'ts': Timestamp(1505749474, 2)},\n",
       " 'updatedExisting': True}"
      ]
     },
     "metadata": {},
     "output_type": "display_data"
    },
    {
     "data": {
      "text/plain": [
       "{'electionId': ObjectId('7fffffff0000000000000002'),\n",
       " 'n': 1,\n",
       " 'nModified': 1,\n",
       " 'ok': 1.0,\n",
       " 'opTime': {'t': 2, 'ts': Timestamp(1505749475, 1)},\n",
       " 'updatedExisting': True}"
      ]
     },
     "metadata": {},
     "output_type": "display_data"
    },
    {
     "data": {
      "text/plain": [
       "{'electionId': ObjectId('7fffffff0000000000000002'),\n",
       " 'n': 1,\n",
       " 'nModified': 1,\n",
       " 'ok': 1.0,\n",
       " 'opTime': {'t': 2, 'ts': Timestamp(1505749475, 2)},\n",
       " 'updatedExisting': True}"
      ]
     },
     "metadata": {},
     "output_type": "display_data"
    },
    {
     "data": {
      "text/plain": [
       "{'electionId': ObjectId('7fffffff0000000000000002'),\n",
       " 'n': 1,\n",
       " 'nModified': 1,\n",
       " 'ok': 1.0,\n",
       " 'opTime': {'t': 2, 'ts': Timestamp(1505749476, 1)},\n",
       " 'updatedExisting': True}"
      ]
     },
     "metadata": {},
     "output_type": "display_data"
    },
    {
     "data": {
      "text/plain": [
       "{'electionId': ObjectId('7fffffff0000000000000002'),\n",
       " 'n': 1,\n",
       " 'nModified': 1,\n",
       " 'ok': 1.0,\n",
       " 'opTime': {'t': 2, 'ts': Timestamp(1505749476, 2)},\n",
       " 'updatedExisting': True}"
      ]
     },
     "metadata": {},
     "output_type": "display_data"
    },
    {
     "data": {
      "text/plain": [
       "{'electionId': ObjectId('7fffffff0000000000000002'),\n",
       " 'n': 1,\n",
       " 'nModified': 1,\n",
       " 'ok': 1.0,\n",
       " 'opTime': {'t': 2, 'ts': Timestamp(1505749477, 1)},\n",
       " 'updatedExisting': True}"
      ]
     },
     "metadata": {},
     "output_type": "display_data"
    },
    {
     "data": {
      "text/plain": [
       "{'electionId': ObjectId('7fffffff0000000000000002'),\n",
       " 'n': 1,\n",
       " 'nModified': 1,\n",
       " 'ok': 1.0,\n",
       " 'opTime': {'t': 2, 'ts': Timestamp(1505749477, 2)},\n",
       " 'updatedExisting': True}"
      ]
     },
     "metadata": {},
     "output_type": "display_data"
    },
    {
     "data": {
      "text/plain": [
       "{'electionId': ObjectId('7fffffff0000000000000002'),\n",
       " 'n': 1,\n",
       " 'nModified': 1,\n",
       " 'ok': 1.0,\n",
       " 'opTime': {'t': 2, 'ts': Timestamp(1505749477, 3)},\n",
       " 'updatedExisting': True}"
      ]
     },
     "metadata": {},
     "output_type": "display_data"
    },
    {
     "data": {
      "text/plain": [
       "{'electionId': ObjectId('7fffffff0000000000000002'),\n",
       " 'n': 1,\n",
       " 'nModified': 1,\n",
       " 'ok': 1.0,\n",
       " 'opTime': {'t': 2, 'ts': Timestamp(1505749478, 1)},\n",
       " 'updatedExisting': True}"
      ]
     },
     "metadata": {},
     "output_type": "display_data"
    },
    {
     "data": {
      "text/plain": [
       "{'electionId': ObjectId('7fffffff0000000000000002'),\n",
       " 'n': 1,\n",
       " 'nModified': 1,\n",
       " 'ok': 1.0,\n",
       " 'opTime': {'t': 2, 'ts': Timestamp(1505749478, 2)},\n",
       " 'updatedExisting': True}"
      ]
     },
     "metadata": {},
     "output_type": "display_data"
    },
    {
     "data": {
      "text/plain": [
       "{'electionId': ObjectId('7fffffff0000000000000002'),\n",
       " 'n': 1,\n",
       " 'nModified': 1,\n",
       " 'ok': 1.0,\n",
       " 'opTime': {'t': 2, 'ts': Timestamp(1505749479, 1)},\n",
       " 'updatedExisting': True}"
      ]
     },
     "metadata": {},
     "output_type": "display_data"
    },
    {
     "data": {
      "text/plain": [
       "{'electionId': ObjectId('7fffffff0000000000000002'),\n",
       " 'n': 1,\n",
       " 'nModified': 1,\n",
       " 'ok': 1.0,\n",
       " 'opTime': {'t': 2, 'ts': Timestamp(1505749479, 2)},\n",
       " 'updatedExisting': True}"
      ]
     },
     "metadata": {},
     "output_type": "display_data"
    },
    {
     "data": {
      "text/plain": [
       "{'electionId': ObjectId('7fffffff0000000000000002'),\n",
       " 'n': 1,\n",
       " 'nModified': 1,\n",
       " 'ok': 1.0,\n",
       " 'opTime': {'t': 2, 'ts': Timestamp(1505749479, 3)},\n",
       " 'updatedExisting': True}"
      ]
     },
     "metadata": {},
     "output_type": "display_data"
    },
    {
     "data": {
      "text/plain": [
       "{'electionId': ObjectId('7fffffff0000000000000002'),\n",
       " 'n': 1,\n",
       " 'nModified': 1,\n",
       " 'ok': 1.0,\n",
       " 'opTime': {'t': 2, 'ts': Timestamp(1505749480, 1)},\n",
       " 'updatedExisting': True}"
      ]
     },
     "metadata": {},
     "output_type": "display_data"
    },
    {
     "data": {
      "text/plain": [
       "{'electionId': ObjectId('7fffffff0000000000000002'),\n",
       " 'n': 1,\n",
       " 'nModified': 1,\n",
       " 'ok': 1.0,\n",
       " 'opTime': {'t': 2, 'ts': Timestamp(1505749481, 1)},\n",
       " 'updatedExisting': True}"
      ]
     },
     "metadata": {},
     "output_type": "display_data"
    },
    {
     "data": {
      "text/plain": [
       "{'electionId': ObjectId('7fffffff0000000000000002'),\n",
       " 'n': 1,\n",
       " 'nModified': 1,\n",
       " 'ok': 1.0,\n",
       " 'opTime': {'t': 2, 'ts': Timestamp(1505749482, 1)},\n",
       " 'updatedExisting': True}"
      ]
     },
     "metadata": {},
     "output_type": "display_data"
    },
    {
     "data": {
      "text/plain": [
       "{'electionId': ObjectId('7fffffff0000000000000002'),\n",
       " 'n': 1,\n",
       " 'nModified': 1,\n",
       " 'ok': 1.0,\n",
       " 'opTime': {'t': 2, 'ts': Timestamp(1505749483, 1)},\n",
       " 'updatedExisting': True}"
      ]
     },
     "metadata": {},
     "output_type": "display_data"
    },
    {
     "data": {
      "text/plain": [
       "{'electionId': ObjectId('7fffffff0000000000000002'),\n",
       " 'n': 1,\n",
       " 'nModified': 1,\n",
       " 'ok': 1.0,\n",
       " 'opTime': {'t': 2, 'ts': Timestamp(1505749483, 2)},\n",
       " 'updatedExisting': True}"
      ]
     },
     "metadata": {},
     "output_type": "display_data"
    },
    {
     "data": {
      "text/plain": [
       "{'electionId': ObjectId('7fffffff0000000000000002'),\n",
       " 'n': 1,\n",
       " 'nModified': 1,\n",
       " 'ok': 1.0,\n",
       " 'opTime': {'t': 2, 'ts': Timestamp(1505749484, 1)},\n",
       " 'updatedExisting': True}"
      ]
     },
     "metadata": {},
     "output_type": "display_data"
    },
    {
     "data": {
      "text/plain": [
       "{'electionId': ObjectId('7fffffff0000000000000002'),\n",
       " 'n': 1,\n",
       " 'nModified': 1,\n",
       " 'ok': 1.0,\n",
       " 'opTime': {'t': 2, 'ts': Timestamp(1505749484, 2)},\n",
       " 'updatedExisting': True}"
      ]
     },
     "metadata": {},
     "output_type": "display_data"
    },
    {
     "data": {
      "text/plain": [
       "{'electionId': ObjectId('7fffffff0000000000000002'),\n",
       " 'n': 1,\n",
       " 'nModified': 1,\n",
       " 'ok': 1.0,\n",
       " 'opTime': {'t': 2, 'ts': Timestamp(1505749484, 3)},\n",
       " 'updatedExisting': True}"
      ]
     },
     "metadata": {},
     "output_type": "display_data"
    },
    {
     "data": {
      "text/plain": [
       "{'electionId': ObjectId('7fffffff0000000000000002'),\n",
       " 'n': 1,\n",
       " 'nModified': 1,\n",
       " 'ok': 1.0,\n",
       " 'opTime': {'t': 2, 'ts': Timestamp(1505749485, 1)},\n",
       " 'updatedExisting': True}"
      ]
     },
     "metadata": {},
     "output_type": "display_data"
    },
    {
     "data": {
      "text/plain": [
       "{'electionId': ObjectId('7fffffff0000000000000002'),\n",
       " 'n': 1,\n",
       " 'nModified': 1,\n",
       " 'ok': 1.0,\n",
       " 'opTime': {'t': 2, 'ts': Timestamp(1505749485, 2)},\n",
       " 'updatedExisting': True}"
      ]
     },
     "metadata": {},
     "output_type": "display_data"
    },
    {
     "data": {
      "text/plain": [
       "{'electionId': ObjectId('7fffffff0000000000000002'),\n",
       " 'n': 1,\n",
       " 'nModified': 1,\n",
       " 'ok': 1.0,\n",
       " 'opTime': {'t': 2, 'ts': Timestamp(1505749485, 3)},\n",
       " 'updatedExisting': True}"
      ]
     },
     "metadata": {},
     "output_type": "display_data"
    },
    {
     "data": {
      "text/plain": [
       "{'electionId': ObjectId('7fffffff0000000000000002'),\n",
       " 'n': 1,\n",
       " 'nModified': 1,\n",
       " 'ok': 1.0,\n",
       " 'opTime': {'t': 2, 'ts': Timestamp(1505749486, 1)},\n",
       " 'updatedExisting': True}"
      ]
     },
     "metadata": {},
     "output_type": "display_data"
    },
    {
     "data": {
      "text/plain": [
       "{'electionId': ObjectId('7fffffff0000000000000002'),\n",
       " 'n': 1,\n",
       " 'nModified': 1,\n",
       " 'ok': 1.0,\n",
       " 'opTime': {'t': 2, 'ts': Timestamp(1505749486, 2)},\n",
       " 'updatedExisting': True}"
      ]
     },
     "metadata": {},
     "output_type": "display_data"
    },
    {
     "data": {
      "text/plain": [
       "{'electionId': ObjectId('7fffffff0000000000000002'),\n",
       " 'n': 1,\n",
       " 'nModified': 1,\n",
       " 'ok': 1.0,\n",
       " 'opTime': {'t': 2, 'ts': Timestamp(1505749486, 3)},\n",
       " 'updatedExisting': True}"
      ]
     },
     "metadata": {},
     "output_type": "display_data"
    },
    {
     "data": {
      "text/plain": [
       "{'electionId': ObjectId('7fffffff0000000000000002'),\n",
       " 'n': 1,\n",
       " 'nModified': 1,\n",
       " 'ok': 1.0,\n",
       " 'opTime': {'t': 2, 'ts': Timestamp(1505749486, 4)},\n",
       " 'updatedExisting': True}"
      ]
     },
     "metadata": {},
     "output_type": "display_data"
    },
    {
     "data": {
      "text/plain": [
       "{'electionId': ObjectId('7fffffff0000000000000002'),\n",
       " 'n': 1,\n",
       " 'nModified': 1,\n",
       " 'ok': 1.0,\n",
       " 'opTime': {'t': 2, 'ts': Timestamp(1505749486, 5)},\n",
       " 'updatedExisting': True}"
      ]
     },
     "metadata": {},
     "output_type": "display_data"
    },
    {
     "data": {
      "text/plain": [
       "{'electionId': ObjectId('7fffffff0000000000000002'),\n",
       " 'n': 1,\n",
       " 'nModified': 1,\n",
       " 'ok': 1.0,\n",
       " 'opTime': {'t': 2, 'ts': Timestamp(1505749487, 1)},\n",
       " 'updatedExisting': True}"
      ]
     },
     "metadata": {},
     "output_type": "display_data"
    },
    {
     "data": {
      "text/plain": [
       "{'electionId': ObjectId('7fffffff0000000000000002'),\n",
       " 'n': 1,\n",
       " 'nModified': 1,\n",
       " 'ok': 1.0,\n",
       " 'opTime': {'t': 2, 'ts': Timestamp(1505749487, 2)},\n",
       " 'updatedExisting': True}"
      ]
     },
     "metadata": {},
     "output_type": "display_data"
    },
    {
     "data": {
      "text/plain": [
       "{'electionId': ObjectId('7fffffff0000000000000002'),\n",
       " 'n': 1,\n",
       " 'nModified': 1,\n",
       " 'ok': 1.0,\n",
       " 'opTime': {'t': 2, 'ts': Timestamp(1505749487, 3)},\n",
       " 'updatedExisting': True}"
      ]
     },
     "metadata": {},
     "output_type": "display_data"
    },
    {
     "data": {
      "text/plain": [
       "{'electionId': ObjectId('7fffffff0000000000000002'),\n",
       " 'n': 1,\n",
       " 'nModified': 1,\n",
       " 'ok': 1.0,\n",
       " 'opTime': {'t': 2, 'ts': Timestamp(1505749488, 1)},\n",
       " 'updatedExisting': True}"
      ]
     },
     "metadata": {},
     "output_type": "display_data"
    },
    {
     "data": {
      "text/plain": [
       "{'electionId': ObjectId('7fffffff0000000000000002'),\n",
       " 'n': 1,\n",
       " 'nModified': 1,\n",
       " 'ok': 1.0,\n",
       " 'opTime': {'t': 2, 'ts': Timestamp(1505749488, 2)},\n",
       " 'updatedExisting': True}"
      ]
     },
     "metadata": {},
     "output_type": "display_data"
    },
    {
     "data": {
      "text/plain": [
       "{'electionId': ObjectId('7fffffff0000000000000002'),\n",
       " 'n': 1,\n",
       " 'nModified': 1,\n",
       " 'ok': 1.0,\n",
       " 'opTime': {'t': 2, 'ts': Timestamp(1505749488, 3)},\n",
       " 'updatedExisting': True}"
      ]
     },
     "metadata": {},
     "output_type": "display_data"
    },
    {
     "data": {
      "text/plain": [
       "{'electionId': ObjectId('7fffffff0000000000000002'),\n",
       " 'n': 1,\n",
       " 'nModified': 1,\n",
       " 'ok': 1.0,\n",
       " 'opTime': {'t': 2, 'ts': Timestamp(1505749488, 4)},\n",
       " 'updatedExisting': True}"
      ]
     },
     "metadata": {},
     "output_type": "display_data"
    },
    {
     "data": {
      "text/plain": [
       "{'electionId': ObjectId('7fffffff0000000000000002'),\n",
       " 'n': 1,\n",
       " 'nModified': 1,\n",
       " 'ok': 1.0,\n",
       " 'opTime': {'t': 2, 'ts': Timestamp(1505749489, 1)},\n",
       " 'updatedExisting': True}"
      ]
     },
     "metadata": {},
     "output_type": "display_data"
    },
    {
     "data": {
      "text/plain": [
       "{'electionId': ObjectId('7fffffff0000000000000002'),\n",
       " 'n': 1,\n",
       " 'nModified': 1,\n",
       " 'ok': 1.0,\n",
       " 'opTime': {'t': 2, 'ts': Timestamp(1505749489, 2)},\n",
       " 'updatedExisting': True}"
      ]
     },
     "metadata": {},
     "output_type": "display_data"
    },
    {
     "data": {
      "text/plain": [
       "{'electionId': ObjectId('7fffffff0000000000000002'),\n",
       " 'n': 1,\n",
       " 'nModified': 1,\n",
       " 'ok': 1.0,\n",
       " 'opTime': {'t': 2, 'ts': Timestamp(1505749489, 3)},\n",
       " 'updatedExisting': True}"
      ]
     },
     "metadata": {},
     "output_type": "display_data"
    },
    {
     "data": {
      "text/plain": [
       "{'electionId': ObjectId('7fffffff0000000000000002'),\n",
       " 'n': 1,\n",
       " 'nModified': 1,\n",
       " 'ok': 1.0,\n",
       " 'opTime': {'t': 2, 'ts': Timestamp(1505749489, 4)},\n",
       " 'updatedExisting': True}"
      ]
     },
     "metadata": {},
     "output_type": "display_data"
    },
    {
     "data": {
      "text/plain": [
       "{'electionId': ObjectId('7fffffff0000000000000002'),\n",
       " 'n': 1,\n",
       " 'nModified': 1,\n",
       " 'ok': 1.0,\n",
       " 'opTime': {'t': 2, 'ts': Timestamp(1505749490, 1)},\n",
       " 'updatedExisting': True}"
      ]
     },
     "metadata": {},
     "output_type": "display_data"
    },
    {
     "data": {
      "text/plain": [
       "{'electionId': ObjectId('7fffffff0000000000000002'),\n",
       " 'n': 1,\n",
       " 'nModified': 1,\n",
       " 'ok': 1.0,\n",
       " 'opTime': {'t': 2, 'ts': Timestamp(1505749490, 2)},\n",
       " 'updatedExisting': True}"
      ]
     },
     "metadata": {},
     "output_type": "display_data"
    },
    {
     "data": {
      "text/plain": [
       "{'electionId': ObjectId('7fffffff0000000000000002'),\n",
       " 'n': 1,\n",
       " 'nModified': 1,\n",
       " 'ok': 1.0,\n",
       " 'opTime': {'t': 2, 'ts': Timestamp(1505749491, 1)},\n",
       " 'updatedExisting': True}"
      ]
     },
     "metadata": {},
     "output_type": "display_data"
    },
    {
     "data": {
      "text/plain": [
       "{'electionId': ObjectId('7fffffff0000000000000002'),\n",
       " 'n': 1,\n",
       " 'nModified': 1,\n",
       " 'ok': 1.0,\n",
       " 'opTime': {'t': 2, 'ts': Timestamp(1505749491, 2)},\n",
       " 'updatedExisting': True}"
      ]
     },
     "metadata": {},
     "output_type": "display_data"
    },
    {
     "data": {
      "text/plain": [
       "{'electionId': ObjectId('7fffffff0000000000000002'),\n",
       " 'n': 1,\n",
       " 'nModified': 1,\n",
       " 'ok': 1.0,\n",
       " 'opTime': {'t': 2, 'ts': Timestamp(1505749491, 3)},\n",
       " 'updatedExisting': True}"
      ]
     },
     "metadata": {},
     "output_type": "display_data"
    },
    {
     "data": {
      "text/plain": [
       "{'electionId': ObjectId('7fffffff0000000000000002'),\n",
       " 'n': 1,\n",
       " 'nModified': 1,\n",
       " 'ok': 1.0,\n",
       " 'opTime': {'t': 2, 'ts': Timestamp(1505749491, 4)},\n",
       " 'updatedExisting': True}"
      ]
     },
     "metadata": {},
     "output_type": "display_data"
    },
    {
     "data": {
      "text/plain": [
       "{'electionId': ObjectId('7fffffff0000000000000002'),\n",
       " 'n': 1,\n",
       " 'nModified': 1,\n",
       " 'ok': 1.0,\n",
       " 'opTime': {'t': 2, 'ts': Timestamp(1505749492, 1)},\n",
       " 'updatedExisting': True}"
      ]
     },
     "metadata": {},
     "output_type": "display_data"
    },
    {
     "data": {
      "text/plain": [
       "{'electionId': ObjectId('7fffffff0000000000000002'),\n",
       " 'n': 1,\n",
       " 'nModified': 1,\n",
       " 'ok': 1.0,\n",
       " 'opTime': {'t': 2, 'ts': Timestamp(1505749492, 2)},\n",
       " 'updatedExisting': True}"
      ]
     },
     "metadata": {},
     "output_type": "display_data"
    },
    {
     "data": {
      "text/plain": [
       "{'electionId': ObjectId('7fffffff0000000000000002'),\n",
       " 'n': 1,\n",
       " 'nModified': 1,\n",
       " 'ok': 1.0,\n",
       " 'opTime': {'t': 2, 'ts': Timestamp(1505749493, 1)},\n",
       " 'updatedExisting': True}"
      ]
     },
     "metadata": {},
     "output_type": "display_data"
    },
    {
     "data": {
      "text/plain": [
       "{'electionId': ObjectId('7fffffff0000000000000002'),\n",
       " 'n': 1,\n",
       " 'nModified': 1,\n",
       " 'ok': 1.0,\n",
       " 'opTime': {'t': 2, 'ts': Timestamp(1505749493, 2)},\n",
       " 'updatedExisting': True}"
      ]
     },
     "metadata": {},
     "output_type": "display_data"
    },
    {
     "data": {
      "text/plain": [
       "{'electionId': ObjectId('7fffffff0000000000000002'),\n",
       " 'n': 1,\n",
       " 'nModified': 1,\n",
       " 'ok': 1.0,\n",
       " 'opTime': {'t': 2, 'ts': Timestamp(1505749493, 3)},\n",
       " 'updatedExisting': True}"
      ]
     },
     "metadata": {},
     "output_type": "display_data"
    },
    {
     "data": {
      "text/plain": [
       "{'electionId': ObjectId('7fffffff0000000000000002'),\n",
       " 'n': 1,\n",
       " 'nModified': 1,\n",
       " 'ok': 1.0,\n",
       " 'opTime': {'t': 2, 'ts': Timestamp(1505749494, 1)},\n",
       " 'updatedExisting': True}"
      ]
     },
     "metadata": {},
     "output_type": "display_data"
    },
    {
     "data": {
      "text/plain": [
       "{'electionId': ObjectId('7fffffff0000000000000002'),\n",
       " 'n': 1,\n",
       " 'nModified': 1,\n",
       " 'ok': 1.0,\n",
       " 'opTime': {'t': 2, 'ts': Timestamp(1505749494, 2)},\n",
       " 'updatedExisting': True}"
      ]
     },
     "metadata": {},
     "output_type": "display_data"
    },
    {
     "data": {
      "text/plain": [
       "{'electionId': ObjectId('7fffffff0000000000000002'),\n",
       " 'n': 1,\n",
       " 'nModified': 1,\n",
       " 'ok': 1.0,\n",
       " 'opTime': {'t': 2, 'ts': Timestamp(1505749494, 3)},\n",
       " 'updatedExisting': True}"
      ]
     },
     "metadata": {},
     "output_type": "display_data"
    },
    {
     "data": {
      "text/plain": [
       "{'electionId': ObjectId('7fffffff0000000000000002'),\n",
       " 'n': 1,\n",
       " 'nModified': 1,\n",
       " 'ok': 1.0,\n",
       " 'opTime': {'t': 2, 'ts': Timestamp(1505749494, 4)},\n",
       " 'updatedExisting': True}"
      ]
     },
     "metadata": {},
     "output_type": "display_data"
    },
    {
     "data": {
      "text/plain": [
       "{'electionId': ObjectId('7fffffff0000000000000002'),\n",
       " 'n': 1,\n",
       " 'nModified': 1,\n",
       " 'ok': 1.0,\n",
       " 'opTime': {'t': 2, 'ts': Timestamp(1505749495, 1)},\n",
       " 'updatedExisting': True}"
      ]
     },
     "metadata": {},
     "output_type": "display_data"
    },
    {
     "data": {
      "text/plain": [
       "{'electionId': ObjectId('7fffffff0000000000000002'),\n",
       " 'n': 1,\n",
       " 'nModified': 1,\n",
       " 'ok': 1.0,\n",
       " 'opTime': {'t': 2, 'ts': Timestamp(1505749495, 2)},\n",
       " 'updatedExisting': True}"
      ]
     },
     "metadata": {},
     "output_type": "display_data"
    },
    {
     "data": {
      "text/plain": [
       "{'electionId': ObjectId('7fffffff0000000000000002'),\n",
       " 'n': 1,\n",
       " 'nModified': 1,\n",
       " 'ok': 1.0,\n",
       " 'opTime': {'t': 2, 'ts': Timestamp(1505749495, 3)},\n",
       " 'updatedExisting': True}"
      ]
     },
     "metadata": {},
     "output_type": "display_data"
    },
    {
     "data": {
      "text/plain": [
       "{'electionId': ObjectId('7fffffff0000000000000002'),\n",
       " 'n': 1,\n",
       " 'nModified': 1,\n",
       " 'ok': 1.0,\n",
       " 'opTime': {'t': 2, 'ts': Timestamp(1505749496, 1)},\n",
       " 'updatedExisting': True}"
      ]
     },
     "metadata": {},
     "output_type": "display_data"
    },
    {
     "data": {
      "text/plain": [
       "{'electionId': ObjectId('7fffffff0000000000000002'),\n",
       " 'n': 1,\n",
       " 'nModified': 1,\n",
       " 'ok': 1.0,\n",
       " 'opTime': {'t': 2, 'ts': Timestamp(1505749496, 2)},\n",
       " 'updatedExisting': True}"
      ]
     },
     "metadata": {},
     "output_type": "display_data"
    },
    {
     "data": {
      "text/plain": [
       "{'electionId': ObjectId('7fffffff0000000000000002'),\n",
       " 'n': 1,\n",
       " 'nModified': 1,\n",
       " 'ok': 1.0,\n",
       " 'opTime': {'t': 2, 'ts': Timestamp(1505749496, 3)},\n",
       " 'updatedExisting': True}"
      ]
     },
     "metadata": {},
     "output_type": "display_data"
    },
    {
     "data": {
      "text/plain": [
       "{'electionId': ObjectId('7fffffff0000000000000002'),\n",
       " 'n': 1,\n",
       " 'nModified': 1,\n",
       " 'ok': 1.0,\n",
       " 'opTime': {'t': 2, 'ts': Timestamp(1505749497, 1)},\n",
       " 'updatedExisting': True}"
      ]
     },
     "metadata": {},
     "output_type": "display_data"
    },
    {
     "data": {
      "text/plain": [
       "{'electionId': ObjectId('7fffffff0000000000000002'),\n",
       " 'n': 1,\n",
       " 'nModified': 1,\n",
       " 'ok': 1.0,\n",
       " 'opTime': {'t': 2, 'ts': Timestamp(1505749497, 2)},\n",
       " 'updatedExisting': True}"
      ]
     },
     "metadata": {},
     "output_type": "display_data"
    },
    {
     "data": {
      "text/plain": [
       "{'electionId': ObjectId('7fffffff0000000000000002'),\n",
       " 'n': 1,\n",
       " 'nModified': 1,\n",
       " 'ok': 1.0,\n",
       " 'opTime': {'t': 2, 'ts': Timestamp(1505749497, 3)},\n",
       " 'updatedExisting': True}"
      ]
     },
     "metadata": {},
     "output_type": "display_data"
    },
    {
     "data": {
      "text/plain": [
       "{'electionId': ObjectId('7fffffff0000000000000002'),\n",
       " 'n': 1,\n",
       " 'nModified': 1,\n",
       " 'ok': 1.0,\n",
       " 'opTime': {'t': 2, 'ts': Timestamp(1505749498, 1)},\n",
       " 'updatedExisting': True}"
      ]
     },
     "metadata": {},
     "output_type": "display_data"
    },
    {
     "data": {
      "text/plain": [
       "{'electionId': ObjectId('7fffffff0000000000000002'),\n",
       " 'n': 1,\n",
       " 'nModified': 1,\n",
       " 'ok': 1.0,\n",
       " 'opTime': {'t': 2, 'ts': Timestamp(1505749498, 2)},\n",
       " 'updatedExisting': True}"
      ]
     },
     "metadata": {},
     "output_type": "display_data"
    },
    {
     "data": {
      "text/plain": [
       "{'electionId': ObjectId('7fffffff0000000000000002'),\n",
       " 'n': 1,\n",
       " 'nModified': 1,\n",
       " 'ok': 1.0,\n",
       " 'opTime': {'t': 2, 'ts': Timestamp(1505749498, 3)},\n",
       " 'updatedExisting': True}"
      ]
     },
     "metadata": {},
     "output_type": "display_data"
    },
    {
     "data": {
      "text/plain": [
       "{'electionId': ObjectId('7fffffff0000000000000002'),\n",
       " 'n': 1,\n",
       " 'nModified': 1,\n",
       " 'ok': 1.0,\n",
       " 'opTime': {'t': 2, 'ts': Timestamp(1505749499, 1)},\n",
       " 'updatedExisting': True}"
      ]
     },
     "metadata": {},
     "output_type": "display_data"
    },
    {
     "data": {
      "text/plain": [
       "{'electionId': ObjectId('7fffffff0000000000000002'),\n",
       " 'n': 1,\n",
       " 'nModified': 1,\n",
       " 'ok': 1.0,\n",
       " 'opTime': {'t': 2, 'ts': Timestamp(1505749499, 2)},\n",
       " 'updatedExisting': True}"
      ]
     },
     "metadata": {},
     "output_type": "display_data"
    },
    {
     "data": {
      "text/plain": [
       "{'electionId': ObjectId('7fffffff0000000000000002'),\n",
       " 'n': 1,\n",
       " 'nModified': 1,\n",
       " 'ok': 1.0,\n",
       " 'opTime': {'t': 2, 'ts': Timestamp(1505749499, 3)},\n",
       " 'updatedExisting': True}"
      ]
     },
     "metadata": {},
     "output_type": "display_data"
    },
    {
     "data": {
      "text/plain": [
       "{'electionId': ObjectId('7fffffff0000000000000002'),\n",
       " 'n': 1,\n",
       " 'nModified': 1,\n",
       " 'ok': 1.0,\n",
       " 'opTime': {'t': 2, 'ts': Timestamp(1505749500, 1)},\n",
       " 'updatedExisting': True}"
      ]
     },
     "metadata": {},
     "output_type": "display_data"
    },
    {
     "data": {
      "text/plain": [
       "{'electionId': ObjectId('7fffffff0000000000000002'),\n",
       " 'n': 1,\n",
       " 'nModified': 1,\n",
       " 'ok': 1.0,\n",
       " 'opTime': {'t': 2, 'ts': Timestamp(1505749500, 2)},\n",
       " 'updatedExisting': True}"
      ]
     },
     "metadata": {},
     "output_type": "display_data"
    },
    {
     "data": {
      "text/plain": [
       "{'electionId': ObjectId('7fffffff0000000000000002'),\n",
       " 'n': 1,\n",
       " 'nModified': 1,\n",
       " 'ok': 1.0,\n",
       " 'opTime': {'t': 2, 'ts': Timestamp(1505749501, 1)},\n",
       " 'updatedExisting': True}"
      ]
     },
     "metadata": {},
     "output_type": "display_data"
    },
    {
     "data": {
      "text/plain": [
       "{'electionId': ObjectId('7fffffff0000000000000002'),\n",
       " 'n': 1,\n",
       " 'nModified': 1,\n",
       " 'ok': 1.0,\n",
       " 'opTime': {'t': 2, 'ts': Timestamp(1505749501, 2)},\n",
       " 'updatedExisting': True}"
      ]
     },
     "metadata": {},
     "output_type": "display_data"
    },
    {
     "data": {
      "text/plain": [
       "{'electionId': ObjectId('7fffffff0000000000000002'),\n",
       " 'n': 1,\n",
       " 'nModified': 1,\n",
       " 'ok': 1.0,\n",
       " 'opTime': {'t': 2, 'ts': Timestamp(1505749501, 3)},\n",
       " 'updatedExisting': True}"
      ]
     },
     "metadata": {},
     "output_type": "display_data"
    },
    {
     "data": {
      "text/plain": [
       "{'electionId': ObjectId('7fffffff0000000000000002'),\n",
       " 'n': 1,\n",
       " 'nModified': 1,\n",
       " 'ok': 1.0,\n",
       " 'opTime': {'t': 2, 'ts': Timestamp(1505749502, 1)},\n",
       " 'updatedExisting': True}"
      ]
     },
     "metadata": {},
     "output_type": "display_data"
    },
    {
     "data": {
      "text/plain": [
       "{'electionId': ObjectId('7fffffff0000000000000002'),\n",
       " 'n': 1,\n",
       " 'nModified': 1,\n",
       " 'ok': 1.0,\n",
       " 'opTime': {'t': 2, 'ts': Timestamp(1505749502, 2)},\n",
       " 'updatedExisting': True}"
      ]
     },
     "metadata": {},
     "output_type": "display_data"
    },
    {
     "data": {
      "text/plain": [
       "{'electionId': ObjectId('7fffffff0000000000000002'),\n",
       " 'n': 1,\n",
       " 'nModified': 1,\n",
       " 'ok': 1.0,\n",
       " 'opTime': {'t': 2, 'ts': Timestamp(1505749502, 3)},\n",
       " 'updatedExisting': True}"
      ]
     },
     "metadata": {},
     "output_type": "display_data"
    },
    {
     "data": {
      "text/plain": [
       "{'electionId': ObjectId('7fffffff0000000000000002'),\n",
       " 'n': 1,\n",
       " 'nModified': 1,\n",
       " 'ok': 1.0,\n",
       " 'opTime': {'t': 2, 'ts': Timestamp(1505749503, 1)},\n",
       " 'updatedExisting': True}"
      ]
     },
     "metadata": {},
     "output_type": "display_data"
    },
    {
     "data": {
      "text/plain": [
       "{'electionId': ObjectId('7fffffff0000000000000002'),\n",
       " 'n': 1,\n",
       " 'nModified': 1,\n",
       " 'ok': 1.0,\n",
       " 'opTime': {'t': 2, 'ts': Timestamp(1505749503, 2)},\n",
       " 'updatedExisting': True}"
      ]
     },
     "metadata": {},
     "output_type": "display_data"
    },
    {
     "data": {
      "text/plain": [
       "{'electionId': ObjectId('7fffffff0000000000000002'),\n",
       " 'n': 1,\n",
       " 'nModified': 1,\n",
       " 'ok': 1.0,\n",
       " 'opTime': {'t': 2, 'ts': Timestamp(1505749504, 1)},\n",
       " 'updatedExisting': True}"
      ]
     },
     "metadata": {},
     "output_type": "display_data"
    },
    {
     "data": {
      "text/plain": [
       "{'electionId': ObjectId('7fffffff0000000000000002'),\n",
       " 'n': 1,\n",
       " 'nModified': 1,\n",
       " 'ok': 1.0,\n",
       " 'opTime': {'t': 2, 'ts': Timestamp(1505749504, 2)},\n",
       " 'updatedExisting': True}"
      ]
     },
     "metadata": {},
     "output_type": "display_data"
    },
    {
     "data": {
      "text/plain": [
       "{'electionId': ObjectId('7fffffff0000000000000002'),\n",
       " 'n': 1,\n",
       " 'nModified': 1,\n",
       " 'ok': 1.0,\n",
       " 'opTime': {'t': 2, 'ts': Timestamp(1505749504, 3)},\n",
       " 'updatedExisting': True}"
      ]
     },
     "metadata": {},
     "output_type": "display_data"
    },
    {
     "data": {
      "text/plain": [
       "{'electionId': ObjectId('7fffffff0000000000000002'),\n",
       " 'n': 1,\n",
       " 'nModified': 1,\n",
       " 'ok': 1.0,\n",
       " 'opTime': {'t': 2, 'ts': Timestamp(1505749504, 4)},\n",
       " 'updatedExisting': True}"
      ]
     },
     "metadata": {},
     "output_type": "display_data"
    },
    {
     "data": {
      "text/plain": [
       "{'electionId': ObjectId('7fffffff0000000000000002'),\n",
       " 'n': 1,\n",
       " 'nModified': 1,\n",
       " 'ok': 1.0,\n",
       " 'opTime': {'t': 2, 'ts': Timestamp(1505749505, 1)},\n",
       " 'updatedExisting': True}"
      ]
     },
     "metadata": {},
     "output_type": "display_data"
    },
    {
     "data": {
      "text/plain": [
       "{'electionId': ObjectId('7fffffff0000000000000002'),\n",
       " 'n': 1,\n",
       " 'nModified': 1,\n",
       " 'ok': 1.0,\n",
       " 'opTime': {'t': 2, 'ts': Timestamp(1505749505, 2)},\n",
       " 'updatedExisting': True}"
      ]
     },
     "metadata": {},
     "output_type": "display_data"
    },
    {
     "data": {
      "text/plain": [
       "{'electionId': ObjectId('7fffffff0000000000000002'),\n",
       " 'n': 1,\n",
       " 'nModified': 1,\n",
       " 'ok': 1.0,\n",
       " 'opTime': {'t': 2, 'ts': Timestamp(1505749505, 3)},\n",
       " 'updatedExisting': True}"
      ]
     },
     "metadata": {},
     "output_type": "display_data"
    },
    {
     "data": {
      "text/plain": [
       "{'electionId': ObjectId('7fffffff0000000000000002'),\n",
       " 'n': 1,\n",
       " 'nModified': 1,\n",
       " 'ok': 1.0,\n",
       " 'opTime': {'t': 2, 'ts': Timestamp(1505749506, 1)},\n",
       " 'updatedExisting': True}"
      ]
     },
     "metadata": {},
     "output_type": "display_data"
    },
    {
     "data": {
      "text/plain": [
       "{'electionId': ObjectId('7fffffff0000000000000002'),\n",
       " 'n': 1,\n",
       " 'nModified': 1,\n",
       " 'ok': 1.0,\n",
       " 'opTime': {'t': 2, 'ts': Timestamp(1505749506, 2)},\n",
       " 'updatedExisting': True}"
      ]
     },
     "metadata": {},
     "output_type": "display_data"
    },
    {
     "data": {
      "text/plain": [
       "{'electionId': ObjectId('7fffffff0000000000000002'),\n",
       " 'n': 1,\n",
       " 'nModified': 1,\n",
       " 'ok': 1.0,\n",
       " 'opTime': {'t': 2, 'ts': Timestamp(1505749506, 3)},\n",
       " 'updatedExisting': True}"
      ]
     },
     "metadata": {},
     "output_type": "display_data"
    },
    {
     "data": {
      "text/plain": [
       "{'electionId': ObjectId('7fffffff0000000000000002'),\n",
       " 'n': 1,\n",
       " 'nModified': 1,\n",
       " 'ok': 1.0,\n",
       " 'opTime': {'t': 2, 'ts': Timestamp(1505749506, 4)},\n",
       " 'updatedExisting': True}"
      ]
     },
     "metadata": {},
     "output_type": "display_data"
    },
    {
     "data": {
      "text/plain": [
       "{'electionId': ObjectId('7fffffff0000000000000002'),\n",
       " 'n': 1,\n",
       " 'nModified': 1,\n",
       " 'ok': 1.0,\n",
       " 'opTime': {'t': 2, 'ts': Timestamp(1505749507, 1)},\n",
       " 'updatedExisting': True}"
      ]
     },
     "metadata": {},
     "output_type": "display_data"
    },
    {
     "data": {
      "text/plain": [
       "{'electionId': ObjectId('7fffffff0000000000000002'),\n",
       " 'n': 1,\n",
       " 'nModified': 1,\n",
       " 'ok': 1.0,\n",
       " 'opTime': {'t': 2, 'ts': Timestamp(1505749507, 2)},\n",
       " 'updatedExisting': True}"
      ]
     },
     "metadata": {},
     "output_type": "display_data"
    },
    {
     "data": {
      "text/plain": [
       "{'electionId': ObjectId('7fffffff0000000000000002'),\n",
       " 'n': 1,\n",
       " 'nModified': 1,\n",
       " 'ok': 1.0,\n",
       " 'opTime': {'t': 2, 'ts': Timestamp(1505749507, 3)},\n",
       " 'updatedExisting': True}"
      ]
     },
     "metadata": {},
     "output_type": "display_data"
    },
    {
     "data": {
      "text/plain": [
       "{'electionId': ObjectId('7fffffff0000000000000002'),\n",
       " 'n': 1,\n",
       " 'nModified': 1,\n",
       " 'ok': 1.0,\n",
       " 'opTime': {'t': 2, 'ts': Timestamp(1505749508, 1)},\n",
       " 'updatedExisting': True}"
      ]
     },
     "metadata": {},
     "output_type": "display_data"
    },
    {
     "data": {
      "text/plain": [
       "{'electionId': ObjectId('7fffffff0000000000000002'),\n",
       " 'n': 1,\n",
       " 'nModified': 1,\n",
       " 'ok': 1.0,\n",
       " 'opTime': {'t': 2, 'ts': Timestamp(1505749508, 2)},\n",
       " 'updatedExisting': True}"
      ]
     },
     "metadata": {},
     "output_type": "display_data"
    },
    {
     "data": {
      "text/plain": [
       "{'electionId': ObjectId('7fffffff0000000000000002'),\n",
       " 'n': 1,\n",
       " 'nModified': 1,\n",
       " 'ok': 1.0,\n",
       " 'opTime': {'t': 2, 'ts': Timestamp(1505749508, 3)},\n",
       " 'updatedExisting': True}"
      ]
     },
     "metadata": {},
     "output_type": "display_data"
    },
    {
     "data": {
      "text/plain": [
       "{'electionId': ObjectId('7fffffff0000000000000002'),\n",
       " 'n': 1,\n",
       " 'nModified': 1,\n",
       " 'ok': 1.0,\n",
       " 'opTime': {'t': 2, 'ts': Timestamp(1505749509, 1)},\n",
       " 'updatedExisting': True}"
      ]
     },
     "metadata": {},
     "output_type": "display_data"
    },
    {
     "data": {
      "text/plain": [
       "{'electionId': ObjectId('7fffffff0000000000000002'),\n",
       " 'n': 1,\n",
       " 'nModified': 1,\n",
       " 'ok': 1.0,\n",
       " 'opTime': {'t': 2, 'ts': Timestamp(1505749509, 2)},\n",
       " 'updatedExisting': True}"
      ]
     },
     "metadata": {},
     "output_type": "display_data"
    },
    {
     "data": {
      "text/plain": [
       "{'electionId': ObjectId('7fffffff0000000000000002'),\n",
       " 'n': 1,\n",
       " 'nModified': 1,\n",
       " 'ok': 1.0,\n",
       " 'opTime': {'t': 2, 'ts': Timestamp(1505749509, 3)},\n",
       " 'updatedExisting': True}"
      ]
     },
     "metadata": {},
     "output_type": "display_data"
    },
    {
     "data": {
      "text/plain": [
       "{'electionId': ObjectId('7fffffff0000000000000002'),\n",
       " 'n': 1,\n",
       " 'nModified': 1,\n",
       " 'ok': 1.0,\n",
       " 'opTime': {'t': 2, 'ts': Timestamp(1505749509, 4)},\n",
       " 'updatedExisting': True}"
      ]
     },
     "metadata": {},
     "output_type": "display_data"
    },
    {
     "data": {
      "text/plain": [
       "{'electionId': ObjectId('7fffffff0000000000000002'),\n",
       " 'n': 1,\n",
       " 'nModified': 1,\n",
       " 'ok': 1.0,\n",
       " 'opTime': {'t': 2, 'ts': Timestamp(1505749510, 1)},\n",
       " 'updatedExisting': True}"
      ]
     },
     "metadata": {},
     "output_type": "display_data"
    },
    {
     "data": {
      "text/plain": [
       "{'electionId': ObjectId('7fffffff0000000000000002'),\n",
       " 'n': 1,\n",
       " 'nModified': 1,\n",
       " 'ok': 1.0,\n",
       " 'opTime': {'t': 2, 'ts': Timestamp(1505749510, 2)},\n",
       " 'updatedExisting': True}"
      ]
     },
     "metadata": {},
     "output_type": "display_data"
    },
    {
     "data": {
      "text/plain": [
       "{'electionId': ObjectId('7fffffff0000000000000002'),\n",
       " 'n': 1,\n",
       " 'nModified': 1,\n",
       " 'ok': 1.0,\n",
       " 'opTime': {'t': 2, 'ts': Timestamp(1505749511, 1)},\n",
       " 'updatedExisting': True}"
      ]
     },
     "metadata": {},
     "output_type": "display_data"
    },
    {
     "data": {
      "text/plain": [
       "{'electionId': ObjectId('7fffffff0000000000000002'),\n",
       " 'n': 1,\n",
       " 'nModified': 1,\n",
       " 'ok': 1.0,\n",
       " 'opTime': {'t': 2, 'ts': Timestamp(1505749511, 2)},\n",
       " 'updatedExisting': True}"
      ]
     },
     "metadata": {},
     "output_type": "display_data"
    },
    {
     "data": {
      "text/plain": [
       "{'electionId': ObjectId('7fffffff0000000000000002'),\n",
       " 'n': 1,\n",
       " 'nModified': 1,\n",
       " 'ok': 1.0,\n",
       " 'opTime': {'t': 2, 'ts': Timestamp(1505749511, 3)},\n",
       " 'updatedExisting': True}"
      ]
     },
     "metadata": {},
     "output_type": "display_data"
    },
    {
     "data": {
      "text/plain": [
       "{'electionId': ObjectId('7fffffff0000000000000002'),\n",
       " 'n': 1,\n",
       " 'nModified': 1,\n",
       " 'ok': 1.0,\n",
       " 'opTime': {'t': 2, 'ts': Timestamp(1505749519, 1)},\n",
       " 'updatedExisting': True}"
      ]
     },
     "metadata": {},
     "output_type": "display_data"
    },
    {
     "data": {
      "text/plain": [
       "{'electionId': ObjectId('7fffffff0000000000000002'),\n",
       " 'n': 1,\n",
       " 'nModified': 1,\n",
       " 'ok': 1.0,\n",
       " 'opTime': {'t': 2, 'ts': Timestamp(1505749520, 1)},\n",
       " 'updatedExisting': True}"
      ]
     },
     "metadata": {},
     "output_type": "display_data"
    },
    {
     "data": {
      "text/plain": [
       "{'electionId': ObjectId('7fffffff0000000000000002'),\n",
       " 'n': 1,\n",
       " 'nModified': 1,\n",
       " 'ok': 1.0,\n",
       " 'opTime': {'t': 2, 'ts': Timestamp(1505749520, 2)},\n",
       " 'updatedExisting': True}"
      ]
     },
     "metadata": {},
     "output_type": "display_data"
    },
    {
     "data": {
      "text/plain": [
       "{'electionId': ObjectId('7fffffff0000000000000002'),\n",
       " 'n': 1,\n",
       " 'nModified': 1,\n",
       " 'ok': 1.0,\n",
       " 'opTime': {'t': 2, 'ts': Timestamp(1505749521, 1)},\n",
       " 'updatedExisting': True}"
      ]
     },
     "metadata": {},
     "output_type": "display_data"
    },
    {
     "data": {
      "text/plain": [
       "{'electionId': ObjectId('7fffffff0000000000000002'),\n",
       " 'n': 1,\n",
       " 'nModified': 1,\n",
       " 'ok': 1.0,\n",
       " 'opTime': {'t': 2, 'ts': Timestamp(1505749521, 2)},\n",
       " 'updatedExisting': True}"
      ]
     },
     "metadata": {},
     "output_type": "display_data"
    },
    {
     "data": {
      "text/plain": [
       "{'electionId': ObjectId('7fffffff0000000000000002'),\n",
       " 'n': 1,\n",
       " 'nModified': 1,\n",
       " 'ok': 1.0,\n",
       " 'opTime': {'t': 2, 'ts': Timestamp(1505749522, 1)},\n",
       " 'updatedExisting': True}"
      ]
     },
     "metadata": {},
     "output_type": "display_data"
    },
    {
     "data": {
      "text/plain": [
       "{'electionId': ObjectId('7fffffff0000000000000002'),\n",
       " 'n': 1,\n",
       " 'nModified': 1,\n",
       " 'ok': 1.0,\n",
       " 'opTime': {'t': 2, 'ts': Timestamp(1505749522, 2)},\n",
       " 'updatedExisting': True}"
      ]
     },
     "metadata": {},
     "output_type": "display_data"
    },
    {
     "data": {
      "text/plain": [
       "{'electionId': ObjectId('7fffffff0000000000000002'),\n",
       " 'n': 1,\n",
       " 'nModified': 1,\n",
       " 'ok': 1.0,\n",
       " 'opTime': {'t': 2, 'ts': Timestamp(1505749523, 1)},\n",
       " 'updatedExisting': True}"
      ]
     },
     "metadata": {},
     "output_type": "display_data"
    },
    {
     "data": {
      "text/plain": [
       "{'electionId': ObjectId('7fffffff0000000000000002'),\n",
       " 'n': 1,\n",
       " 'nModified': 1,\n",
       " 'ok': 1.0,\n",
       " 'opTime': {'t': 2, 'ts': Timestamp(1505749523, 2)},\n",
       " 'updatedExisting': True}"
      ]
     },
     "metadata": {},
     "output_type": "display_data"
    },
    {
     "data": {
      "text/plain": [
       "{'electionId': ObjectId('7fffffff0000000000000002'),\n",
       " 'n': 1,\n",
       " 'nModified': 1,\n",
       " 'ok': 1.0,\n",
       " 'opTime': {'t': 2, 'ts': Timestamp(1505749523, 3)},\n",
       " 'updatedExisting': True}"
      ]
     },
     "metadata": {},
     "output_type": "display_data"
    },
    {
     "data": {
      "text/plain": [
       "{'electionId': ObjectId('7fffffff0000000000000002'),\n",
       " 'n': 1,\n",
       " 'nModified': 1,\n",
       " 'ok': 1.0,\n",
       " 'opTime': {'t': 2, 'ts': Timestamp(1505749524, 1)},\n",
       " 'updatedExisting': True}"
      ]
     },
     "metadata": {},
     "output_type": "display_data"
    },
    {
     "data": {
      "text/plain": [
       "{'electionId': ObjectId('7fffffff0000000000000002'),\n",
       " 'n': 1,\n",
       " 'nModified': 1,\n",
       " 'ok': 1.0,\n",
       " 'opTime': {'t': 2, 'ts': Timestamp(1505749524, 2)},\n",
       " 'updatedExisting': True}"
      ]
     },
     "metadata": {},
     "output_type": "display_data"
    },
    {
     "data": {
      "text/plain": [
       "{'electionId': ObjectId('7fffffff0000000000000002'),\n",
       " 'n': 1,\n",
       " 'nModified': 1,\n",
       " 'ok': 1.0,\n",
       " 'opTime': {'t': 2, 'ts': Timestamp(1505749525, 1)},\n",
       " 'updatedExisting': True}"
      ]
     },
     "metadata": {},
     "output_type": "display_data"
    },
    {
     "data": {
      "text/plain": [
       "{'electionId': ObjectId('7fffffff0000000000000002'),\n",
       " 'n': 1,\n",
       " 'nModified': 1,\n",
       " 'ok': 1.0,\n",
       " 'opTime': {'t': 2, 'ts': Timestamp(1505749525, 2)},\n",
       " 'updatedExisting': True}"
      ]
     },
     "metadata": {},
     "output_type": "display_data"
    },
    {
     "data": {
      "text/plain": [
       "{'electionId': ObjectId('7fffffff0000000000000002'),\n",
       " 'n': 1,\n",
       " 'nModified': 1,\n",
       " 'ok': 1.0,\n",
       " 'opTime': {'t': 2, 'ts': Timestamp(1505749525, 3)},\n",
       " 'updatedExisting': True}"
      ]
     },
     "metadata": {},
     "output_type": "display_data"
    },
    {
     "data": {
      "text/plain": [
       "{'electionId': ObjectId('7fffffff0000000000000002'),\n",
       " 'n': 1,\n",
       " 'nModified': 1,\n",
       " 'ok': 1.0,\n",
       " 'opTime': {'t': 2, 'ts': Timestamp(1505749526, 1)},\n",
       " 'updatedExisting': True}"
      ]
     },
     "metadata": {},
     "output_type": "display_data"
    },
    {
     "data": {
      "text/plain": [
       "{'electionId': ObjectId('7fffffff0000000000000002'),\n",
       " 'n': 1,\n",
       " 'nModified': 1,\n",
       " 'ok': 1.0,\n",
       " 'opTime': {'t': 2, 'ts': Timestamp(1505749526, 2)},\n",
       " 'updatedExisting': True}"
      ]
     },
     "metadata": {},
     "output_type": "display_data"
    },
    {
     "data": {
      "text/plain": [
       "{'electionId': ObjectId('7fffffff0000000000000002'),\n",
       " 'n': 1,\n",
       " 'nModified': 1,\n",
       " 'ok': 1.0,\n",
       " 'opTime': {'t': 2, 'ts': Timestamp(1505749526, 3)},\n",
       " 'updatedExisting': True}"
      ]
     },
     "metadata": {},
     "output_type": "display_data"
    },
    {
     "data": {
      "text/plain": [
       "{'electionId': ObjectId('7fffffff0000000000000002'),\n",
       " 'n': 1,\n",
       " 'nModified': 1,\n",
       " 'ok': 1.0,\n",
       " 'opTime': {'t': 2, 'ts': Timestamp(1505749527, 1)},\n",
       " 'updatedExisting': True}"
      ]
     },
     "metadata": {},
     "output_type": "display_data"
    },
    {
     "data": {
      "text/plain": [
       "{'electionId': ObjectId('7fffffff0000000000000002'),\n",
       " 'n': 1,\n",
       " 'nModified': 1,\n",
       " 'ok': 1.0,\n",
       " 'opTime': {'t': 2, 'ts': Timestamp(1505749527, 2)},\n",
       " 'updatedExisting': True}"
      ]
     },
     "metadata": {},
     "output_type": "display_data"
    },
    {
     "data": {
      "text/plain": [
       "{'electionId': ObjectId('7fffffff0000000000000002'),\n",
       " 'n': 1,\n",
       " 'nModified': 1,\n",
       " 'ok': 1.0,\n",
       " 'opTime': {'t': 2, 'ts': Timestamp(1505749528, 1)},\n",
       " 'updatedExisting': True}"
      ]
     },
     "metadata": {},
     "output_type": "display_data"
    },
    {
     "data": {
      "text/plain": [
       "{'electionId': ObjectId('7fffffff0000000000000002'),\n",
       " 'n': 1,\n",
       " 'nModified': 1,\n",
       " 'ok': 1.0,\n",
       " 'opTime': {'t': 2, 'ts': Timestamp(1505749528, 4)},\n",
       " 'updatedExisting': True}"
      ]
     },
     "metadata": {},
     "output_type": "display_data"
    },
    {
     "data": {
      "text/plain": [
       "{'electionId': ObjectId('7fffffff0000000000000002'),\n",
       " 'n': 1,\n",
       " 'nModified': 1,\n",
       " 'ok': 1.0,\n",
       " 'opTime': {'t': 2, 'ts': Timestamp(1505749528, 7)},\n",
       " 'updatedExisting': True}"
      ]
     },
     "metadata": {},
     "output_type": "display_data"
    },
    {
     "data": {
      "text/plain": [
       "{'electionId': ObjectId('7fffffff0000000000000002'),\n",
       " 'n': 1,\n",
       " 'nModified': 1,\n",
       " 'ok': 1.0,\n",
       " 'opTime': {'t': 2, 'ts': Timestamp(1505749529, 4)},\n",
       " 'updatedExisting': True}"
      ]
     },
     "metadata": {},
     "output_type": "display_data"
    },
    {
     "data": {
      "text/plain": [
       "{'electionId': ObjectId('7fffffff0000000000000002'),\n",
       " 'n': 1,\n",
       " 'nModified': 1,\n",
       " 'ok': 1.0,\n",
       " 'opTime': {'t': 2, 'ts': Timestamp(1505749529, 5)},\n",
       " 'updatedExisting': True}"
      ]
     },
     "metadata": {},
     "output_type": "display_data"
    },
    {
     "data": {
      "text/plain": [
       "{'electionId': ObjectId('7fffffff0000000000000002'),\n",
       " 'n': 1,\n",
       " 'nModified': 1,\n",
       " 'ok': 1.0,\n",
       " 'opTime': {'t': 2, 'ts': Timestamp(1505749530, 1)},\n",
       " 'updatedExisting': True}"
      ]
     },
     "metadata": {},
     "output_type": "display_data"
    },
    {
     "data": {
      "text/plain": [
       "{'electionId': ObjectId('7fffffff0000000000000002'),\n",
       " 'n': 1,\n",
       " 'nModified': 1,\n",
       " 'ok': 1.0,\n",
       " 'opTime': {'t': 2, 'ts': Timestamp(1505749530, 2)},\n",
       " 'updatedExisting': True}"
      ]
     },
     "metadata": {},
     "output_type": "display_data"
    },
    {
     "data": {
      "text/plain": [
       "{'electionId': ObjectId('7fffffff0000000000000002'),\n",
       " 'n': 1,\n",
       " 'nModified': 1,\n",
       " 'ok': 1.0,\n",
       " 'opTime': {'t': 2, 'ts': Timestamp(1505749530, 3)},\n",
       " 'updatedExisting': True}"
      ]
     },
     "metadata": {},
     "output_type": "display_data"
    },
    {
     "data": {
      "text/plain": [
       "{'electionId': ObjectId('7fffffff0000000000000002'),\n",
       " 'n': 1,\n",
       " 'nModified': 1,\n",
       " 'ok': 1.0,\n",
       " 'opTime': {'t': 2, 'ts': Timestamp(1505749531, 1)},\n",
       " 'updatedExisting': True}"
      ]
     },
     "metadata": {},
     "output_type": "display_data"
    },
    {
     "data": {
      "text/plain": [
       "{'electionId': ObjectId('7fffffff0000000000000002'),\n",
       " 'n': 1,\n",
       " 'nModified': 1,\n",
       " 'ok': 1.0,\n",
       " 'opTime': {'t': 2, 'ts': Timestamp(1505749531, 2)},\n",
       " 'updatedExisting': True}"
      ]
     },
     "metadata": {},
     "output_type": "display_data"
    },
    {
     "data": {
      "text/plain": [
       "{'electionId': ObjectId('7fffffff0000000000000002'),\n",
       " 'n': 1,\n",
       " 'nModified': 1,\n",
       " 'ok': 1.0,\n",
       " 'opTime': {'t': 2, 'ts': Timestamp(1505749531, 3)},\n",
       " 'updatedExisting': True}"
      ]
     },
     "metadata": {},
     "output_type": "display_data"
    },
    {
     "data": {
      "text/plain": [
       "{'electionId': ObjectId('7fffffff0000000000000002'),\n",
       " 'n': 1,\n",
       " 'nModified': 1,\n",
       " 'ok': 1.0,\n",
       " 'opTime': {'t': 2, 'ts': Timestamp(1505749532, 1)},\n",
       " 'updatedExisting': True}"
      ]
     },
     "metadata": {},
     "output_type": "display_data"
    },
    {
     "data": {
      "text/plain": [
       "{'electionId': ObjectId('7fffffff0000000000000002'),\n",
       " 'n': 1,\n",
       " 'nModified': 1,\n",
       " 'ok': 1.0,\n",
       " 'opTime': {'t': 2, 'ts': Timestamp(1505749532, 2)},\n",
       " 'updatedExisting': True}"
      ]
     },
     "metadata": {},
     "output_type": "display_data"
    },
    {
     "data": {
      "text/plain": [
       "{'electionId': ObjectId('7fffffff0000000000000002'),\n",
       " 'n': 1,\n",
       " 'nModified': 1,\n",
       " 'ok': 1.0,\n",
       " 'opTime': {'t': 2, 'ts': Timestamp(1505749532, 3)},\n",
       " 'updatedExisting': True}"
      ]
     },
     "metadata": {},
     "output_type": "display_data"
    },
    {
     "data": {
      "text/plain": [
       "{'electionId': ObjectId('7fffffff0000000000000002'),\n",
       " 'n': 1,\n",
       " 'nModified': 1,\n",
       " 'ok': 1.0,\n",
       " 'opTime': {'t': 2, 'ts': Timestamp(1505749533, 1)},\n",
       " 'updatedExisting': True}"
      ]
     },
     "metadata": {},
     "output_type": "display_data"
    },
    {
     "data": {
      "text/plain": [
       "{'electionId': ObjectId('7fffffff0000000000000002'),\n",
       " 'n': 1,\n",
       " 'nModified': 1,\n",
       " 'ok': 1.0,\n",
       " 'opTime': {'t': 2, 'ts': Timestamp(1505749533, 2)},\n",
       " 'updatedExisting': True}"
      ]
     },
     "metadata": {},
     "output_type": "display_data"
    },
    {
     "data": {
      "text/plain": [
       "{'electionId': ObjectId('7fffffff0000000000000002'),\n",
       " 'n': 1,\n",
       " 'nModified': 1,\n",
       " 'ok': 1.0,\n",
       " 'opTime': {'t': 2, 'ts': Timestamp(1505749533, 3)},\n",
       " 'updatedExisting': True}"
      ]
     },
     "metadata": {},
     "output_type": "display_data"
    },
    {
     "data": {
      "text/plain": [
       "{'electionId': ObjectId('7fffffff0000000000000002'),\n",
       " 'n': 1,\n",
       " 'nModified': 1,\n",
       " 'ok': 1.0,\n",
       " 'opTime': {'t': 2, 'ts': Timestamp(1505749534, 1)},\n",
       " 'updatedExisting': True}"
      ]
     },
     "metadata": {},
     "output_type": "display_data"
    },
    {
     "data": {
      "text/plain": [
       "{'electionId': ObjectId('7fffffff0000000000000002'),\n",
       " 'n': 1,\n",
       " 'nModified': 1,\n",
       " 'ok': 1.0,\n",
       " 'opTime': {'t': 2, 'ts': Timestamp(1505749534, 2)},\n",
       " 'updatedExisting': True}"
      ]
     },
     "metadata": {},
     "output_type": "display_data"
    },
    {
     "data": {
      "text/plain": [
       "{'electionId': ObjectId('7fffffff0000000000000002'),\n",
       " 'n': 1,\n",
       " 'nModified': 1,\n",
       " 'ok': 1.0,\n",
       " 'opTime': {'t': 2, 'ts': Timestamp(1505749535, 1)},\n",
       " 'updatedExisting': True}"
      ]
     },
     "metadata": {},
     "output_type": "display_data"
    },
    {
     "data": {
      "text/plain": [
       "{'electionId': ObjectId('7fffffff0000000000000002'),\n",
       " 'n': 1,\n",
       " 'nModified': 1,\n",
       " 'ok': 1.0,\n",
       " 'opTime': {'t': 2, 'ts': Timestamp(1505749535, 2)},\n",
       " 'updatedExisting': True}"
      ]
     },
     "metadata": {},
     "output_type": "display_data"
    },
    {
     "data": {
      "text/plain": [
       "{'electionId': ObjectId('7fffffff0000000000000002'),\n",
       " 'n': 1,\n",
       " 'nModified': 1,\n",
       " 'ok': 1.0,\n",
       " 'opTime': {'t': 2, 'ts': Timestamp(1505749536, 1)},\n",
       " 'updatedExisting': True}"
      ]
     },
     "metadata": {},
     "output_type": "display_data"
    },
    {
     "data": {
      "text/plain": [
       "{'electionId': ObjectId('7fffffff0000000000000002'),\n",
       " 'n': 1,\n",
       " 'nModified': 1,\n",
       " 'ok': 1.0,\n",
       " 'opTime': {'t': 2, 'ts': Timestamp(1505749537, 1)},\n",
       " 'updatedExisting': True}"
      ]
     },
     "metadata": {},
     "output_type": "display_data"
    },
    {
     "data": {
      "text/plain": [
       "{'electionId': ObjectId('7fffffff0000000000000002'),\n",
       " 'n': 1,\n",
       " 'nModified': 1,\n",
       " 'ok': 1.0,\n",
       " 'opTime': {'t': 2, 'ts': Timestamp(1505749537, 2)},\n",
       " 'updatedExisting': True}"
      ]
     },
     "metadata": {},
     "output_type": "display_data"
    },
    {
     "data": {
      "text/plain": [
       "{'electionId': ObjectId('7fffffff0000000000000002'),\n",
       " 'n': 1,\n",
       " 'nModified': 1,\n",
       " 'ok': 1.0,\n",
       " 'opTime': {'t': 2, 'ts': Timestamp(1505749537, 3)},\n",
       " 'updatedExisting': True}"
      ]
     },
     "metadata": {},
     "output_type": "display_data"
    },
    {
     "data": {
      "text/plain": [
       "{'electionId': ObjectId('7fffffff0000000000000002'),\n",
       " 'n': 1,\n",
       " 'nModified': 1,\n",
       " 'ok': 1.0,\n",
       " 'opTime': {'t': 2, 'ts': Timestamp(1505749538, 1)},\n",
       " 'updatedExisting': True}"
      ]
     },
     "metadata": {},
     "output_type": "display_data"
    },
    {
     "data": {
      "text/plain": [
       "{'electionId': ObjectId('7fffffff0000000000000002'),\n",
       " 'n': 1,\n",
       " 'nModified': 1,\n",
       " 'ok': 1.0,\n",
       " 'opTime': {'t': 2, 'ts': Timestamp(1505749538, 2)},\n",
       " 'updatedExisting': True}"
      ]
     },
     "metadata": {},
     "output_type": "display_data"
    },
    {
     "data": {
      "text/plain": [
       "{'electionId': ObjectId('7fffffff0000000000000002'),\n",
       " 'n': 1,\n",
       " 'nModified': 1,\n",
       " 'ok': 1.0,\n",
       " 'opTime': {'t': 2, 'ts': Timestamp(1505749538, 3)},\n",
       " 'updatedExisting': True}"
      ]
     },
     "metadata": {},
     "output_type": "display_data"
    },
    {
     "data": {
      "text/plain": [
       "{'electionId': ObjectId('7fffffff0000000000000002'),\n",
       " 'n': 1,\n",
       " 'nModified': 1,\n",
       " 'ok': 1.0,\n",
       " 'opTime': {'t': 2, 'ts': Timestamp(1505749539, 1)},\n",
       " 'updatedExisting': True}"
      ]
     },
     "metadata": {},
     "output_type": "display_data"
    },
    {
     "data": {
      "text/plain": [
       "{'electionId': ObjectId('7fffffff0000000000000002'),\n",
       " 'n': 1,\n",
       " 'nModified': 1,\n",
       " 'ok': 1.0,\n",
       " 'opTime': {'t': 2, 'ts': Timestamp(1505749539, 2)},\n",
       " 'updatedExisting': True}"
      ]
     },
     "metadata": {},
     "output_type": "display_data"
    },
    {
     "data": {
      "text/plain": [
       "{'electionId': ObjectId('7fffffff0000000000000002'),\n",
       " 'n': 1,\n",
       " 'nModified': 1,\n",
       " 'ok': 1.0,\n",
       " 'opTime': {'t': 2, 'ts': Timestamp(1505749539, 3)},\n",
       " 'updatedExisting': True}"
      ]
     },
     "metadata": {},
     "output_type": "display_data"
    },
    {
     "data": {
      "text/plain": [
       "{'electionId': ObjectId('7fffffff0000000000000002'),\n",
       " 'n': 1,\n",
       " 'nModified': 1,\n",
       " 'ok': 1.0,\n",
       " 'opTime': {'t': 2, 'ts': Timestamp(1505749540, 1)},\n",
       " 'updatedExisting': True}"
      ]
     },
     "metadata": {},
     "output_type": "display_data"
    },
    {
     "data": {
      "text/plain": [
       "{'electionId': ObjectId('7fffffff0000000000000002'),\n",
       " 'n': 1,\n",
       " 'nModified': 1,\n",
       " 'ok': 1.0,\n",
       " 'opTime': {'t': 2, 'ts': Timestamp(1505749540, 2)},\n",
       " 'updatedExisting': True}"
      ]
     },
     "metadata": {},
     "output_type": "display_data"
    },
    {
     "data": {
      "text/plain": [
       "{'electionId': ObjectId('7fffffff0000000000000002'),\n",
       " 'n': 1,\n",
       " 'nModified': 1,\n",
       " 'ok': 1.0,\n",
       " 'opTime': {'t': 2, 'ts': Timestamp(1505749540, 3)},\n",
       " 'updatedExisting': True}"
      ]
     },
     "metadata": {},
     "output_type": "display_data"
    },
    {
     "data": {
      "text/plain": [
       "{'electionId': ObjectId('7fffffff0000000000000002'),\n",
       " 'n': 1,\n",
       " 'nModified': 1,\n",
       " 'ok': 1.0,\n",
       " 'opTime': {'t': 2, 'ts': Timestamp(1505749541, 1)},\n",
       " 'updatedExisting': True}"
      ]
     },
     "metadata": {},
     "output_type": "display_data"
    },
    {
     "data": {
      "text/plain": [
       "{'electionId': ObjectId('7fffffff0000000000000002'),\n",
       " 'n': 1,\n",
       " 'nModified': 1,\n",
       " 'ok': 1.0,\n",
       " 'opTime': {'t': 2, 'ts': Timestamp(1505749541, 2)},\n",
       " 'updatedExisting': True}"
      ]
     },
     "metadata": {},
     "output_type": "display_data"
    },
    {
     "data": {
      "text/plain": [
       "{'electionId': ObjectId('7fffffff0000000000000002'),\n",
       " 'n': 1,\n",
       " 'nModified': 1,\n",
       " 'ok': 1.0,\n",
       " 'opTime': {'t': 2, 'ts': Timestamp(1505749541, 3)},\n",
       " 'updatedExisting': True}"
      ]
     },
     "metadata": {},
     "output_type": "display_data"
    },
    {
     "data": {
      "text/plain": [
       "{'electionId': ObjectId('7fffffff0000000000000002'),\n",
       " 'n': 1,\n",
       " 'nModified': 1,\n",
       " 'ok': 1.0,\n",
       " 'opTime': {'t': 2, 'ts': Timestamp(1505749542, 1)},\n",
       " 'updatedExisting': True}"
      ]
     },
     "metadata": {},
     "output_type": "display_data"
    },
    {
     "data": {
      "text/plain": [
       "{'electionId': ObjectId('7fffffff0000000000000002'),\n",
       " 'n': 1,\n",
       " 'nModified': 1,\n",
       " 'ok': 1.0,\n",
       " 'opTime': {'t': 2, 'ts': Timestamp(1505749542, 2)},\n",
       " 'updatedExisting': True}"
      ]
     },
     "metadata": {},
     "output_type": "display_data"
    },
    {
     "data": {
      "text/plain": [
       "{'electionId': ObjectId('7fffffff0000000000000002'),\n",
       " 'n': 1,\n",
       " 'nModified': 1,\n",
       " 'ok': 1.0,\n",
       " 'opTime': {'t': 2, 'ts': Timestamp(1505749543, 1)},\n",
       " 'updatedExisting': True}"
      ]
     },
     "metadata": {},
     "output_type": "display_data"
    },
    {
     "data": {
      "text/plain": [
       "{'electionId': ObjectId('7fffffff0000000000000002'),\n",
       " 'n': 1,\n",
       " 'nModified': 1,\n",
       " 'ok': 1.0,\n",
       " 'opTime': {'t': 2, 'ts': Timestamp(1505749543, 2)},\n",
       " 'updatedExisting': True}"
      ]
     },
     "metadata": {},
     "output_type": "display_data"
    },
    {
     "data": {
      "text/plain": [
       "{'electionId': ObjectId('7fffffff0000000000000002'),\n",
       " 'n': 1,\n",
       " 'nModified': 1,\n",
       " 'ok': 1.0,\n",
       " 'opTime': {'t': 2, 'ts': Timestamp(1505749544, 1)},\n",
       " 'updatedExisting': True}"
      ]
     },
     "metadata": {},
     "output_type": "display_data"
    },
    {
     "data": {
      "text/plain": [
       "{'electionId': ObjectId('7fffffff0000000000000002'),\n",
       " 'n': 1,\n",
       " 'nModified': 1,\n",
       " 'ok': 1.0,\n",
       " 'opTime': {'t': 2, 'ts': Timestamp(1505749544, 2)},\n",
       " 'updatedExisting': True}"
      ]
     },
     "metadata": {},
     "output_type": "display_data"
    },
    {
     "data": {
      "text/plain": [
       "{'electionId': ObjectId('7fffffff0000000000000002'),\n",
       " 'n': 1,\n",
       " 'nModified': 1,\n",
       " 'ok': 1.0,\n",
       " 'opTime': {'t': 2, 'ts': Timestamp(1505749544, 3)},\n",
       " 'updatedExisting': True}"
      ]
     },
     "metadata": {},
     "output_type": "display_data"
    },
    {
     "data": {
      "text/plain": [
       "{'electionId': ObjectId('7fffffff0000000000000002'),\n",
       " 'n': 1,\n",
       " 'nModified': 1,\n",
       " 'ok': 1.0,\n",
       " 'opTime': {'t': 2, 'ts': Timestamp(1505749545, 1)},\n",
       " 'updatedExisting': True}"
      ]
     },
     "metadata": {},
     "output_type": "display_data"
    },
    {
     "data": {
      "text/plain": [
       "{'electionId': ObjectId('7fffffff0000000000000002'),\n",
       " 'n': 1,\n",
       " 'nModified': 1,\n",
       " 'ok': 1.0,\n",
       " 'opTime': {'t': 2, 'ts': Timestamp(1505749545, 2)},\n",
       " 'updatedExisting': True}"
      ]
     },
     "metadata": {},
     "output_type": "display_data"
    },
    {
     "data": {
      "text/plain": [
       "{'electionId': ObjectId('7fffffff0000000000000002'),\n",
       " 'n': 1,\n",
       " 'nModified': 1,\n",
       " 'ok': 1.0,\n",
       " 'opTime': {'t': 2, 'ts': Timestamp(1505749546, 1)},\n",
       " 'updatedExisting': True}"
      ]
     },
     "metadata": {},
     "output_type": "display_data"
    },
    {
     "data": {
      "text/plain": [
       "{'electionId': ObjectId('7fffffff0000000000000002'),\n",
       " 'n': 1,\n",
       " 'nModified': 1,\n",
       " 'ok': 1.0,\n",
       " 'opTime': {'t': 2, 'ts': Timestamp(1505749546, 2)},\n",
       " 'updatedExisting': True}"
      ]
     },
     "metadata": {},
     "output_type": "display_data"
    },
    {
     "data": {
      "text/plain": [
       "{'electionId': ObjectId('7fffffff0000000000000002'),\n",
       " 'n': 1,\n",
       " 'nModified': 1,\n",
       " 'ok': 1.0,\n",
       " 'opTime': {'t': 2, 'ts': Timestamp(1505749547, 1)},\n",
       " 'updatedExisting': True}"
      ]
     },
     "metadata": {},
     "output_type": "display_data"
    },
    {
     "data": {
      "text/plain": [
       "{'electionId': ObjectId('7fffffff0000000000000002'),\n",
       " 'n': 1,\n",
       " 'nModified': 1,\n",
       " 'ok': 1.0,\n",
       " 'opTime': {'t': 2, 'ts': Timestamp(1505749547, 2)},\n",
       " 'updatedExisting': True}"
      ]
     },
     "metadata": {},
     "output_type": "display_data"
    },
    {
     "data": {
      "text/plain": [
       "{'electionId': ObjectId('7fffffff0000000000000002'),\n",
       " 'n': 1,\n",
       " 'nModified': 1,\n",
       " 'ok': 1.0,\n",
       " 'opTime': {'t': 2, 'ts': Timestamp(1505749548, 1)},\n",
       " 'updatedExisting': True}"
      ]
     },
     "metadata": {},
     "output_type": "display_data"
    },
    {
     "data": {
      "text/plain": [
       "{'electionId': ObjectId('7fffffff0000000000000002'),\n",
       " 'n': 1,\n",
       " 'nModified': 1,\n",
       " 'ok': 1.0,\n",
       " 'opTime': {'t': 2, 'ts': Timestamp(1505749548, 2)},\n",
       " 'updatedExisting': True}"
      ]
     },
     "metadata": {},
     "output_type": "display_data"
    },
    {
     "data": {
      "text/plain": [
       "{'electionId': ObjectId('7fffffff0000000000000002'),\n",
       " 'n': 1,\n",
       " 'nModified': 1,\n",
       " 'ok': 1.0,\n",
       " 'opTime': {'t': 2, 'ts': Timestamp(1505749549, 1)},\n",
       " 'updatedExisting': True}"
      ]
     },
     "metadata": {},
     "output_type": "display_data"
    },
    {
     "data": {
      "text/plain": [
       "{'electionId': ObjectId('7fffffff0000000000000002'),\n",
       " 'n': 1,\n",
       " 'nModified': 1,\n",
       " 'ok': 1.0,\n",
       " 'opTime': {'t': 2, 'ts': Timestamp(1505749549, 2)},\n",
       " 'updatedExisting': True}"
      ]
     },
     "metadata": {},
     "output_type": "display_data"
    },
    {
     "data": {
      "text/plain": [
       "{'electionId': ObjectId('7fffffff0000000000000002'),\n",
       " 'n': 1,\n",
       " 'nModified': 1,\n",
       " 'ok': 1.0,\n",
       " 'opTime': {'t': 2, 'ts': Timestamp(1505749550, 1)},\n",
       " 'updatedExisting': True}"
      ]
     },
     "metadata": {},
     "output_type": "display_data"
    },
    {
     "data": {
      "text/plain": [
       "{'electionId': ObjectId('7fffffff0000000000000002'),\n",
       " 'n': 1,\n",
       " 'nModified': 1,\n",
       " 'ok': 1.0,\n",
       " 'opTime': {'t': 2, 'ts': Timestamp(1505749550, 2)},\n",
       " 'updatedExisting': True}"
      ]
     },
     "metadata": {},
     "output_type": "display_data"
    },
    {
     "data": {
      "text/plain": [
       "{'electionId': ObjectId('7fffffff0000000000000002'),\n",
       " 'n': 1,\n",
       " 'nModified': 1,\n",
       " 'ok': 1.0,\n",
       " 'opTime': {'t': 2, 'ts': Timestamp(1505749550, 3)},\n",
       " 'updatedExisting': True}"
      ]
     },
     "metadata": {},
     "output_type": "display_data"
    },
    {
     "data": {
      "text/plain": [
       "{'electionId': ObjectId('7fffffff0000000000000002'),\n",
       " 'n': 1,\n",
       " 'nModified': 1,\n",
       " 'ok': 1.0,\n",
       " 'opTime': {'t': 2, 'ts': Timestamp(1505749551, 1)},\n",
       " 'updatedExisting': True}"
      ]
     },
     "metadata": {},
     "output_type": "display_data"
    },
    {
     "data": {
      "text/plain": [
       "{'electionId': ObjectId('7fffffff0000000000000002'),\n",
       " 'n': 1,\n",
       " 'nModified': 1,\n",
       " 'ok': 1.0,\n",
       " 'opTime': {'t': 2, 'ts': Timestamp(1505749551, 2)},\n",
       " 'updatedExisting': True}"
      ]
     },
     "metadata": {},
     "output_type": "display_data"
    },
    {
     "data": {
      "text/plain": [
       "{'electionId': ObjectId('7fffffff0000000000000002'),\n",
       " 'n': 1,\n",
       " 'nModified': 1,\n",
       " 'ok': 1.0,\n",
       " 'opTime': {'t': 2, 'ts': Timestamp(1505749551, 3)},\n",
       " 'updatedExisting': True}"
      ]
     },
     "metadata": {},
     "output_type": "display_data"
    },
    {
     "data": {
      "text/plain": [
       "{'electionId': ObjectId('7fffffff0000000000000002'),\n",
       " 'n': 1,\n",
       " 'nModified': 1,\n",
       " 'ok': 1.0,\n",
       " 'opTime': {'t': 2, 'ts': Timestamp(1505749552, 1)},\n",
       " 'updatedExisting': True}"
      ]
     },
     "metadata": {},
     "output_type": "display_data"
    },
    {
     "data": {
      "text/plain": [
       "{'electionId': ObjectId('7fffffff0000000000000002'),\n",
       " 'n': 1,\n",
       " 'nModified': 1,\n",
       " 'ok': 1.0,\n",
       " 'opTime': {'t': 2, 'ts': Timestamp(1505749552, 2)},\n",
       " 'updatedExisting': True}"
      ]
     },
     "metadata": {},
     "output_type": "display_data"
    },
    {
     "data": {
      "text/plain": [
       "{'electionId': ObjectId('7fffffff0000000000000002'),\n",
       " 'n': 1,\n",
       " 'nModified': 1,\n",
       " 'ok': 1.0,\n",
       " 'opTime': {'t': 2, 'ts': Timestamp(1505749553, 1)},\n",
       " 'updatedExisting': True}"
      ]
     },
     "metadata": {},
     "output_type": "display_data"
    },
    {
     "data": {
      "text/plain": [
       "{'electionId': ObjectId('7fffffff0000000000000002'),\n",
       " 'n': 1,\n",
       " 'nModified': 1,\n",
       " 'ok': 1.0,\n",
       " 'opTime': {'t': 2, 'ts': Timestamp(1505749553, 2)},\n",
       " 'updatedExisting': True}"
      ]
     },
     "metadata": {},
     "output_type": "display_data"
    },
    {
     "data": {
      "text/plain": [
       "{'electionId': ObjectId('7fffffff0000000000000002'),\n",
       " 'n': 1,\n",
       " 'nModified': 1,\n",
       " 'ok': 1.0,\n",
       " 'opTime': {'t': 2, 'ts': Timestamp(1505749553, 3)},\n",
       " 'updatedExisting': True}"
      ]
     },
     "metadata": {},
     "output_type": "display_data"
    },
    {
     "data": {
      "text/plain": [
       "{'electionId': ObjectId('7fffffff0000000000000002'),\n",
       " 'n': 1,\n",
       " 'nModified': 1,\n",
       " 'ok': 1.0,\n",
       " 'opTime': {'t': 2, 'ts': Timestamp(1505749554, 1)},\n",
       " 'updatedExisting': True}"
      ]
     },
     "metadata": {},
     "output_type": "display_data"
    },
    {
     "data": {
      "text/plain": [
       "{'electionId': ObjectId('7fffffff0000000000000002'),\n",
       " 'n': 1,\n",
       " 'nModified': 1,\n",
       " 'ok': 1.0,\n",
       " 'opTime': {'t': 2, 'ts': Timestamp(1505749554, 2)},\n",
       " 'updatedExisting': True}"
      ]
     },
     "metadata": {},
     "output_type": "display_data"
    },
    {
     "data": {
      "text/plain": [
       "{'electionId': ObjectId('7fffffff0000000000000002'),\n",
       " 'n': 1,\n",
       " 'nModified': 1,\n",
       " 'ok': 1.0,\n",
       " 'opTime': {'t': 2, 'ts': Timestamp(1505749554, 3)},\n",
       " 'updatedExisting': True}"
      ]
     },
     "metadata": {},
     "output_type": "display_data"
    },
    {
     "data": {
      "text/plain": [
       "{'electionId': ObjectId('7fffffff0000000000000002'),\n",
       " 'n': 1,\n",
       " 'nModified': 1,\n",
       " 'ok': 1.0,\n",
       " 'opTime': {'t': 2, 'ts': Timestamp(1505749555, 1)},\n",
       " 'updatedExisting': True}"
      ]
     },
     "metadata": {},
     "output_type": "display_data"
    },
    {
     "data": {
      "text/plain": [
       "{'electionId': ObjectId('7fffffff0000000000000002'),\n",
       " 'n': 1,\n",
       " 'nModified': 1,\n",
       " 'ok': 1.0,\n",
       " 'opTime': {'t': 2, 'ts': Timestamp(1505749556, 1)},\n",
       " 'updatedExisting': True}"
      ]
     },
     "metadata": {},
     "output_type": "display_data"
    },
    {
     "data": {
      "text/plain": [
       "{'electionId': ObjectId('7fffffff0000000000000002'),\n",
       " 'n': 1,\n",
       " 'nModified': 1,\n",
       " 'ok': 1.0,\n",
       " 'opTime': {'t': 2, 'ts': Timestamp(1505749556, 2)},\n",
       " 'updatedExisting': True}"
      ]
     },
     "metadata": {},
     "output_type": "display_data"
    },
    {
     "data": {
      "text/plain": [
       "{'electionId': ObjectId('7fffffff0000000000000002'),\n",
       " 'n': 1,\n",
       " 'nModified': 1,\n",
       " 'ok': 1.0,\n",
       " 'opTime': {'t': 2, 'ts': Timestamp(1505749556, 3)},\n",
       " 'updatedExisting': True}"
      ]
     },
     "metadata": {},
     "output_type": "display_data"
    },
    {
     "data": {
      "text/plain": [
       "{'electionId': ObjectId('7fffffff0000000000000002'),\n",
       " 'n': 1,\n",
       " 'nModified': 1,\n",
       " 'ok': 1.0,\n",
       " 'opTime': {'t': 2, 'ts': Timestamp(1505749557, 1)},\n",
       " 'updatedExisting': True}"
      ]
     },
     "metadata": {},
     "output_type": "display_data"
    },
    {
     "data": {
      "text/plain": [
       "{'electionId': ObjectId('7fffffff0000000000000002'),\n",
       " 'n': 1,\n",
       " 'nModified': 1,\n",
       " 'ok': 1.0,\n",
       " 'opTime': {'t': 2, 'ts': Timestamp(1505749557, 2)},\n",
       " 'updatedExisting': True}"
      ]
     },
     "metadata": {},
     "output_type": "display_data"
    },
    {
     "data": {
      "text/plain": [
       "{'electionId': ObjectId('7fffffff0000000000000002'),\n",
       " 'n': 1,\n",
       " 'nModified': 1,\n",
       " 'ok': 1.0,\n",
       " 'opTime': {'t': 2, 'ts': Timestamp(1505749558, 1)},\n",
       " 'updatedExisting': True}"
      ]
     },
     "metadata": {},
     "output_type": "display_data"
    },
    {
     "data": {
      "text/plain": [
       "{'electionId': ObjectId('7fffffff0000000000000002'),\n",
       " 'n': 1,\n",
       " 'nModified': 1,\n",
       " 'ok': 1.0,\n",
       " 'opTime': {'t': 2, 'ts': Timestamp(1505749558, 2)},\n",
       " 'updatedExisting': True}"
      ]
     },
     "metadata": {},
     "output_type": "display_data"
    },
    {
     "data": {
      "text/plain": [
       "{'electionId': ObjectId('7fffffff0000000000000002'),\n",
       " 'n': 1,\n",
       " 'nModified': 1,\n",
       " 'ok': 1.0,\n",
       " 'opTime': {'t': 2, 'ts': Timestamp(1505749559, 1)},\n",
       " 'updatedExisting': True}"
      ]
     },
     "metadata": {},
     "output_type": "display_data"
    },
    {
     "data": {
      "text/plain": [
       "{'electionId': ObjectId('7fffffff0000000000000002'),\n",
       " 'n': 1,\n",
       " 'nModified': 1,\n",
       " 'ok': 1.0,\n",
       " 'opTime': {'t': 2, 'ts': Timestamp(1505749559, 2)},\n",
       " 'updatedExisting': True}"
      ]
     },
     "metadata": {},
     "output_type": "display_data"
    },
    {
     "data": {
      "text/plain": [
       "{'electionId': ObjectId('7fffffff0000000000000002'),\n",
       " 'n': 1,\n",
       " 'nModified': 1,\n",
       " 'ok': 1.0,\n",
       " 'opTime': {'t': 2, 'ts': Timestamp(1505749560, 1)},\n",
       " 'updatedExisting': True}"
      ]
     },
     "metadata": {},
     "output_type": "display_data"
    },
    {
     "data": {
      "text/plain": [
       "{'electionId': ObjectId('7fffffff0000000000000002'),\n",
       " 'n': 1,\n",
       " 'nModified': 1,\n",
       " 'ok': 1.0,\n",
       " 'opTime': {'t': 2, 'ts': Timestamp(1505749560, 2)},\n",
       " 'updatedExisting': True}"
      ]
     },
     "metadata": {},
     "output_type": "display_data"
    },
    {
     "data": {
      "text/plain": [
       "{'electionId': ObjectId('7fffffff0000000000000002'),\n",
       " 'n': 1,\n",
       " 'nModified': 1,\n",
       " 'ok': 1.0,\n",
       " 'opTime': {'t': 2, 'ts': Timestamp(1505749561, 1)},\n",
       " 'updatedExisting': True}"
      ]
     },
     "metadata": {},
     "output_type": "display_data"
    },
    {
     "data": {
      "text/plain": [
       "{'electionId': ObjectId('7fffffff0000000000000002'),\n",
       " 'n': 1,\n",
       " 'nModified': 1,\n",
       " 'ok': 1.0,\n",
       " 'opTime': {'t': 2, 'ts': Timestamp(1505749561, 2)},\n",
       " 'updatedExisting': True}"
      ]
     },
     "metadata": {},
     "output_type": "display_data"
    },
    {
     "data": {
      "text/plain": [
       "{'electionId': ObjectId('7fffffff0000000000000002'),\n",
       " 'n': 1,\n",
       " 'nModified': 1,\n",
       " 'ok': 1.0,\n",
       " 'opTime': {'t': 2, 'ts': Timestamp(1505749562, 1)},\n",
       " 'updatedExisting': True}"
      ]
     },
     "metadata": {},
     "output_type": "display_data"
    },
    {
     "data": {
      "text/plain": [
       "{'electionId': ObjectId('7fffffff0000000000000002'),\n",
       " 'n': 1,\n",
       " 'nModified': 1,\n",
       " 'ok': 1.0,\n",
       " 'opTime': {'t': 2, 'ts': Timestamp(1505749562, 2)},\n",
       " 'updatedExisting': True}"
      ]
     },
     "metadata": {},
     "output_type": "display_data"
    },
    {
     "data": {
      "text/plain": [
       "{'electionId': ObjectId('7fffffff0000000000000002'),\n",
       " 'n': 1,\n",
       " 'nModified': 1,\n",
       " 'ok': 1.0,\n",
       " 'opTime': {'t': 2, 'ts': Timestamp(1505749563, 1)},\n",
       " 'updatedExisting': True}"
      ]
     },
     "metadata": {},
     "output_type": "display_data"
    },
    {
     "data": {
      "text/plain": [
       "{'electionId': ObjectId('7fffffff0000000000000002'),\n",
       " 'n': 1,\n",
       " 'nModified': 1,\n",
       " 'ok': 1.0,\n",
       " 'opTime': {'t': 2, 'ts': Timestamp(1505749563, 3)},\n",
       " 'updatedExisting': True}"
      ]
     },
     "metadata": {},
     "output_type": "display_data"
    },
    {
     "data": {
      "text/plain": [
       "{'electionId': ObjectId('7fffffff0000000000000002'),\n",
       " 'n': 1,\n",
       " 'nModified': 1,\n",
       " 'ok': 1.0,\n",
       " 'opTime': {'t': 2, 'ts': Timestamp(1505749564, 1)},\n",
       " 'updatedExisting': True}"
      ]
     },
     "metadata": {},
     "output_type": "display_data"
    },
    {
     "data": {
      "text/plain": [
       "{'electionId': ObjectId('7fffffff0000000000000002'),\n",
       " 'n': 1,\n",
       " 'nModified': 1,\n",
       " 'ok': 1.0,\n",
       " 'opTime': {'t': 2, 'ts': Timestamp(1505749564, 2)},\n",
       " 'updatedExisting': True}"
      ]
     },
     "metadata": {},
     "output_type": "display_data"
    },
    {
     "data": {
      "text/plain": [
       "{'electionId': ObjectId('7fffffff0000000000000002'),\n",
       " 'n': 1,\n",
       " 'nModified': 1,\n",
       " 'ok': 1.0,\n",
       " 'opTime': {'t': 2, 'ts': Timestamp(1505749565, 1)},\n",
       " 'updatedExisting': True}"
      ]
     },
     "metadata": {},
     "output_type": "display_data"
    },
    {
     "data": {
      "text/plain": [
       "{'electionId': ObjectId('7fffffff0000000000000002'),\n",
       " 'n': 1,\n",
       " 'nModified': 1,\n",
       " 'ok': 1.0,\n",
       " 'opTime': {'t': 2, 'ts': Timestamp(1505749565, 2)},\n",
       " 'updatedExisting': True}"
      ]
     },
     "metadata": {},
     "output_type": "display_data"
    },
    {
     "data": {
      "text/plain": [
       "{'electionId': ObjectId('7fffffff0000000000000002'),\n",
       " 'n': 1,\n",
       " 'nModified': 1,\n",
       " 'ok': 1.0,\n",
       " 'opTime': {'t': 2, 'ts': Timestamp(1505749566, 1)},\n",
       " 'updatedExisting': True}"
      ]
     },
     "metadata": {},
     "output_type": "display_data"
    },
    {
     "data": {
      "text/plain": [
       "{'electionId': ObjectId('7fffffff0000000000000002'),\n",
       " 'n': 1,\n",
       " 'nModified': 1,\n",
       " 'ok': 1.0,\n",
       " 'opTime': {'t': 2, 'ts': Timestamp(1505749567, 1)},\n",
       " 'updatedExisting': True}"
      ]
     },
     "metadata": {},
     "output_type": "display_data"
    },
    {
     "data": {
      "text/plain": [
       "{'electionId': ObjectId('7fffffff0000000000000002'),\n",
       " 'n': 1,\n",
       " 'nModified': 1,\n",
       " 'ok': 1.0,\n",
       " 'opTime': {'t': 2, 'ts': Timestamp(1505749567, 2)},\n",
       " 'updatedExisting': True}"
      ]
     },
     "metadata": {},
     "output_type": "display_data"
    },
    {
     "data": {
      "text/plain": [
       "{'electionId': ObjectId('7fffffff0000000000000002'),\n",
       " 'n': 1,\n",
       " 'nModified': 1,\n",
       " 'ok': 1.0,\n",
       " 'opTime': {'t': 2, 'ts': Timestamp(1505749568, 1)},\n",
       " 'updatedExisting': True}"
      ]
     },
     "metadata": {},
     "output_type": "display_data"
    },
    {
     "data": {
      "text/plain": [
       "{'electionId': ObjectId('7fffffff0000000000000002'),\n",
       " 'n': 1,\n",
       " 'nModified': 1,\n",
       " 'ok': 1.0,\n",
       " 'opTime': {'t': 2, 'ts': Timestamp(1505749569, 1)},\n",
       " 'updatedExisting': True}"
      ]
     },
     "metadata": {},
     "output_type": "display_data"
    },
    {
     "data": {
      "text/plain": [
       "{'electionId': ObjectId('7fffffff0000000000000002'),\n",
       " 'n': 1,\n",
       " 'nModified': 1,\n",
       " 'ok': 1.0,\n",
       " 'opTime': {'t': 2, 'ts': Timestamp(1505749569, 2)},\n",
       " 'updatedExisting': True}"
      ]
     },
     "metadata": {},
     "output_type": "display_data"
    },
    {
     "data": {
      "text/plain": [
       "{'electionId': ObjectId('7fffffff0000000000000002'),\n",
       " 'n': 1,\n",
       " 'nModified': 1,\n",
       " 'ok': 1.0,\n",
       " 'opTime': {'t': 2, 'ts': Timestamp(1505749570, 1)},\n",
       " 'updatedExisting': True}"
      ]
     },
     "metadata": {},
     "output_type": "display_data"
    },
    {
     "data": {
      "text/plain": [
       "{'electionId': ObjectId('7fffffff0000000000000002'),\n",
       " 'n': 1,\n",
       " 'nModified': 1,\n",
       " 'ok': 1.0,\n",
       " 'opTime': {'t': 2, 'ts': Timestamp(1505749570, 2)},\n",
       " 'updatedExisting': True}"
      ]
     },
     "metadata": {},
     "output_type": "display_data"
    },
    {
     "data": {
      "text/plain": [
       "{'electionId': ObjectId('7fffffff0000000000000002'),\n",
       " 'n': 1,\n",
       " 'nModified': 1,\n",
       " 'ok': 1.0,\n",
       " 'opTime': {'t': 2, 'ts': Timestamp(1505749571, 1)},\n",
       " 'updatedExisting': True}"
      ]
     },
     "metadata": {},
     "output_type": "display_data"
    },
    {
     "data": {
      "text/plain": [
       "{'electionId': ObjectId('7fffffff0000000000000002'),\n",
       " 'n': 1,\n",
       " 'nModified': 1,\n",
       " 'ok': 1.0,\n",
       " 'opTime': {'t': 2, 'ts': Timestamp(1505749572, 1)},\n",
       " 'updatedExisting': True}"
      ]
     },
     "metadata": {},
     "output_type": "display_data"
    },
    {
     "data": {
      "text/plain": [
       "{'electionId': ObjectId('7fffffff0000000000000002'),\n",
       " 'n': 1,\n",
       " 'nModified': 1,\n",
       " 'ok': 1.0,\n",
       " 'opTime': {'t': 2, 'ts': Timestamp(1505749573, 1)},\n",
       " 'updatedExisting': True}"
      ]
     },
     "metadata": {},
     "output_type": "display_data"
    },
    {
     "data": {
      "text/plain": [
       "{'electionId': ObjectId('7fffffff0000000000000002'),\n",
       " 'n': 1,\n",
       " 'nModified': 1,\n",
       " 'ok': 1.0,\n",
       " 'opTime': {'t': 2, 'ts': Timestamp(1505749574, 1)},\n",
       " 'updatedExisting': True}"
      ]
     },
     "metadata": {},
     "output_type": "display_data"
    },
    {
     "data": {
      "text/plain": [
       "{'electionId': ObjectId('7fffffff0000000000000002'),\n",
       " 'n': 1,\n",
       " 'nModified': 1,\n",
       " 'ok': 1.0,\n",
       " 'opTime': {'t': 2, 'ts': Timestamp(1505749574, 2)},\n",
       " 'updatedExisting': True}"
      ]
     },
     "metadata": {},
     "output_type": "display_data"
    },
    {
     "data": {
      "text/plain": [
       "{'electionId': ObjectId('7fffffff0000000000000002'),\n",
       " 'n': 1,\n",
       " 'nModified': 1,\n",
       " 'ok': 1.0,\n",
       " 'opTime': {'t': 2, 'ts': Timestamp(1505749578, 1)},\n",
       " 'updatedExisting': True}"
      ]
     },
     "metadata": {},
     "output_type": "display_data"
    },
    {
     "data": {
      "text/plain": [
       "{'electionId': ObjectId('7fffffff0000000000000002'),\n",
       " 'n': 1,\n",
       " 'nModified': 1,\n",
       " 'ok': 1.0,\n",
       " 'opTime': {'t': 2, 'ts': Timestamp(1505749578, 2)},\n",
       " 'updatedExisting': True}"
      ]
     },
     "metadata": {},
     "output_type": "display_data"
    },
    {
     "data": {
      "text/plain": [
       "{'electionId': ObjectId('7fffffff0000000000000002'),\n",
       " 'n': 1,\n",
       " 'nModified': 1,\n",
       " 'ok': 1.0,\n",
       " 'opTime': {'t': 2, 'ts': Timestamp(1505749580, 1)},\n",
       " 'updatedExisting': True}"
      ]
     },
     "metadata": {},
     "output_type": "display_data"
    },
    {
     "data": {
      "text/plain": [
       "{'electionId': ObjectId('7fffffff0000000000000002'),\n",
       " 'n': 1,\n",
       " 'nModified': 1,\n",
       " 'ok': 1.0,\n",
       " 'opTime': {'t': 2, 'ts': Timestamp(1505749581, 1)},\n",
       " 'updatedExisting': True}"
      ]
     },
     "metadata": {},
     "output_type": "display_data"
    },
    {
     "data": {
      "text/plain": [
       "{'electionId': ObjectId('7fffffff0000000000000002'),\n",
       " 'n': 1,\n",
       " 'nModified': 1,\n",
       " 'ok': 1.0,\n",
       " 'opTime': {'t': 2, 'ts': Timestamp(1505749582, 1)},\n",
       " 'updatedExisting': True}"
      ]
     },
     "metadata": {},
     "output_type": "display_data"
    },
    {
     "data": {
      "text/plain": [
       "{'electionId': ObjectId('7fffffff0000000000000002'),\n",
       " 'n': 1,\n",
       " 'nModified': 1,\n",
       " 'ok': 1.0,\n",
       " 'opTime': {'t': 2, 'ts': Timestamp(1505749583, 1)},\n",
       " 'updatedExisting': True}"
      ]
     },
     "metadata": {},
     "output_type": "display_data"
    },
    {
     "data": {
      "text/plain": [
       "{'electionId': ObjectId('7fffffff0000000000000002'),\n",
       " 'n': 1,\n",
       " 'nModified': 1,\n",
       " 'ok': 1.0,\n",
       " 'opTime': {'t': 2, 'ts': Timestamp(1505749584, 1)},\n",
       " 'updatedExisting': True}"
      ]
     },
     "metadata": {},
     "output_type": "display_data"
    },
    {
     "data": {
      "text/plain": [
       "{'electionId': ObjectId('7fffffff0000000000000002'),\n",
       " 'n': 1,\n",
       " 'nModified': 1,\n",
       " 'ok': 1.0,\n",
       " 'opTime': {'t': 2, 'ts': Timestamp(1505749584, 2)},\n",
       " 'updatedExisting': True}"
      ]
     },
     "metadata": {},
     "output_type": "display_data"
    },
    {
     "data": {
      "text/plain": [
       "{'electionId': ObjectId('7fffffff0000000000000002'),\n",
       " 'n': 1,\n",
       " 'nModified': 1,\n",
       " 'ok': 1.0,\n",
       " 'opTime': {'t': 2, 'ts': Timestamp(1505749585, 1)},\n",
       " 'updatedExisting': True}"
      ]
     },
     "metadata": {},
     "output_type": "display_data"
    },
    {
     "data": {
      "text/plain": [
       "{'electionId': ObjectId('7fffffff0000000000000002'),\n",
       " 'n': 1,\n",
       " 'nModified': 1,\n",
       " 'ok': 1.0,\n",
       " 'opTime': {'t': 2, 'ts': Timestamp(1505749586, 1)},\n",
       " 'updatedExisting': True}"
      ]
     },
     "metadata": {},
     "output_type": "display_data"
    },
    {
     "data": {
      "text/plain": [
       "{'electionId': ObjectId('7fffffff0000000000000002'),\n",
       " 'n': 1,\n",
       " 'nModified': 1,\n",
       " 'ok': 1.0,\n",
       " 'opTime': {'t': 2, 'ts': Timestamp(1505749587, 1)},\n",
       " 'updatedExisting': True}"
      ]
     },
     "metadata": {},
     "output_type": "display_data"
    },
    {
     "data": {
      "text/plain": [
       "{'electionId': ObjectId('7fffffff0000000000000002'),\n",
       " 'n': 1,\n",
       " 'nModified': 1,\n",
       " 'ok': 1.0,\n",
       " 'opTime': {'t': 2, 'ts': Timestamp(1505749587, 2)},\n",
       " 'updatedExisting': True}"
      ]
     },
     "metadata": {},
     "output_type": "display_data"
    },
    {
     "data": {
      "text/plain": [
       "{'electionId': ObjectId('7fffffff0000000000000002'),\n",
       " 'n': 1,\n",
       " 'nModified': 1,\n",
       " 'ok': 1.0,\n",
       " 'opTime': {'t': 2, 'ts': Timestamp(1505749588, 1)},\n",
       " 'updatedExisting': True}"
      ]
     },
     "metadata": {},
     "output_type": "display_data"
    },
    {
     "data": {
      "text/plain": [
       "{'electionId': ObjectId('7fffffff0000000000000002'),\n",
       " 'n': 1,\n",
       " 'nModified': 1,\n",
       " 'ok': 1.0,\n",
       " 'opTime': {'t': 2, 'ts': Timestamp(1505749589, 1)},\n",
       " 'updatedExisting': True}"
      ]
     },
     "metadata": {},
     "output_type": "display_data"
    },
    {
     "data": {
      "text/plain": [
       "{'electionId': ObjectId('7fffffff0000000000000002'),\n",
       " 'n': 1,\n",
       " 'nModified': 1,\n",
       " 'ok': 1.0,\n",
       " 'opTime': {'t': 2, 'ts': Timestamp(1505749590, 1)},\n",
       " 'updatedExisting': True}"
      ]
     },
     "metadata": {},
     "output_type": "display_data"
    },
    {
     "data": {
      "text/plain": [
       "{'electionId': ObjectId('7fffffff0000000000000002'),\n",
       " 'n': 1,\n",
       " 'nModified': 1,\n",
       " 'ok': 1.0,\n",
       " 'opTime': {'t': 2, 'ts': Timestamp(1505749590, 2)},\n",
       " 'updatedExisting': True}"
      ]
     },
     "metadata": {},
     "output_type": "display_data"
    },
    {
     "data": {
      "text/plain": [
       "{'electionId': ObjectId('7fffffff0000000000000002'),\n",
       " 'n': 1,\n",
       " 'nModified': 1,\n",
       " 'ok': 1.0,\n",
       " 'opTime': {'t': 2, 'ts': Timestamp(1505749591, 1)},\n",
       " 'updatedExisting': True}"
      ]
     },
     "metadata": {},
     "output_type": "display_data"
    },
    {
     "data": {
      "text/plain": [
       "{'electionId': ObjectId('7fffffff0000000000000002'),\n",
       " 'n': 1,\n",
       " 'nModified': 1,\n",
       " 'ok': 1.0,\n",
       " 'opTime': {'t': 2, 'ts': Timestamp(1505749592, 1)},\n",
       " 'updatedExisting': True}"
      ]
     },
     "metadata": {},
     "output_type": "display_data"
    },
    {
     "data": {
      "text/plain": [
       "{'electionId': ObjectId('7fffffff0000000000000002'),\n",
       " 'n': 1,\n",
       " 'nModified': 1,\n",
       " 'ok': 1.0,\n",
       " 'opTime': {'t': 2, 'ts': Timestamp(1505749592, 2)},\n",
       " 'updatedExisting': True}"
      ]
     },
     "metadata": {},
     "output_type": "display_data"
    },
    {
     "data": {
      "text/plain": [
       "{'electionId': ObjectId('7fffffff0000000000000002'),\n",
       " 'n': 1,\n",
       " 'nModified': 1,\n",
       " 'ok': 1.0,\n",
       " 'opTime': {'t': 2, 'ts': Timestamp(1505749593, 1)},\n",
       " 'updatedExisting': True}"
      ]
     },
     "metadata": {},
     "output_type": "display_data"
    },
    {
     "data": {
      "text/plain": [
       "{'electionId': ObjectId('7fffffff0000000000000002'),\n",
       " 'n': 1,\n",
       " 'nModified': 1,\n",
       " 'ok': 1.0,\n",
       " 'opTime': {'t': 2, 'ts': Timestamp(1505749594, 1)},\n",
       " 'updatedExisting': True}"
      ]
     },
     "metadata": {},
     "output_type": "display_data"
    },
    {
     "data": {
      "text/plain": [
       "{'electionId': ObjectId('7fffffff0000000000000002'),\n",
       " 'n': 1,\n",
       " 'nModified': 1,\n",
       " 'ok': 1.0,\n",
       " 'opTime': {'t': 2, 'ts': Timestamp(1505749594, 2)},\n",
       " 'updatedExisting': True}"
      ]
     },
     "metadata": {},
     "output_type": "display_data"
    },
    {
     "data": {
      "text/plain": [
       "{'electionId': ObjectId('7fffffff0000000000000002'),\n",
       " 'n': 1,\n",
       " 'nModified': 1,\n",
       " 'ok': 1.0,\n",
       " 'opTime': {'t': 2, 'ts': Timestamp(1505749595, 1)},\n",
       " 'updatedExisting': True}"
      ]
     },
     "metadata": {},
     "output_type": "display_data"
    },
    {
     "data": {
      "text/plain": [
       "{'electionId': ObjectId('7fffffff0000000000000002'),\n",
       " 'n': 1,\n",
       " 'nModified': 1,\n",
       " 'ok': 1.0,\n",
       " 'opTime': {'t': 2, 'ts': Timestamp(1505749596, 1)},\n",
       " 'updatedExisting': True}"
      ]
     },
     "metadata": {},
     "output_type": "display_data"
    },
    {
     "data": {
      "text/plain": [
       "{'electionId': ObjectId('7fffffff0000000000000002'),\n",
       " 'n': 1,\n",
       " 'nModified': 1,\n",
       " 'ok': 1.0,\n",
       " 'opTime': {'t': 2, 'ts': Timestamp(1505749596, 2)},\n",
       " 'updatedExisting': True}"
      ]
     },
     "metadata": {},
     "output_type": "display_data"
    },
    {
     "data": {
      "text/plain": [
       "{'electionId': ObjectId('7fffffff0000000000000002'),\n",
       " 'n': 1,\n",
       " 'nModified': 1,\n",
       " 'ok': 1.0,\n",
       " 'opTime': {'t': 2, 'ts': Timestamp(1505749597, 1)},\n",
       " 'updatedExisting': True}"
      ]
     },
     "metadata": {},
     "output_type": "display_data"
    },
    {
     "data": {
      "text/plain": [
       "{'electionId': ObjectId('7fffffff0000000000000002'),\n",
       " 'n': 1,\n",
       " 'nModified': 1,\n",
       " 'ok': 1.0,\n",
       " 'opTime': {'t': 2, 'ts': Timestamp(1505749598, 1)},\n",
       " 'updatedExisting': True}"
      ]
     },
     "metadata": {},
     "output_type": "display_data"
    },
    {
     "data": {
      "text/plain": [
       "{'electionId': ObjectId('7fffffff0000000000000002'),\n",
       " 'n': 1,\n",
       " 'nModified': 1,\n",
       " 'ok': 1.0,\n",
       " 'opTime': {'t': 2, 'ts': Timestamp(1505749599, 1)},\n",
       " 'updatedExisting': True}"
      ]
     },
     "metadata": {},
     "output_type": "display_data"
    },
    {
     "data": {
      "text/plain": [
       "{'electionId': ObjectId('7fffffff0000000000000002'),\n",
       " 'n': 1,\n",
       " 'nModified': 1,\n",
       " 'ok': 1.0,\n",
       " 'opTime': {'t': 2, 'ts': Timestamp(1505749600, 1)},\n",
       " 'updatedExisting': True}"
      ]
     },
     "metadata": {},
     "output_type": "display_data"
    },
    {
     "data": {
      "text/plain": [
       "{'electionId': ObjectId('7fffffff0000000000000002'),\n",
       " 'n': 1,\n",
       " 'nModified': 1,\n",
       " 'ok': 1.0,\n",
       " 'opTime': {'t': 2, 'ts': Timestamp(1505749601, 1)},\n",
       " 'updatedExisting': True}"
      ]
     },
     "metadata": {},
     "output_type": "display_data"
    },
    {
     "data": {
      "text/plain": [
       "{'electionId': ObjectId('7fffffff0000000000000002'),\n",
       " 'n': 1,\n",
       " 'nModified': 1,\n",
       " 'ok': 1.0,\n",
       " 'opTime': {'t': 2, 'ts': Timestamp(1505749602, 1)},\n",
       " 'updatedExisting': True}"
      ]
     },
     "metadata": {},
     "output_type": "display_data"
    },
    {
     "data": {
      "text/plain": [
       "{'electionId': ObjectId('7fffffff0000000000000002'),\n",
       " 'n': 1,\n",
       " 'nModified': 1,\n",
       " 'ok': 1.0,\n",
       " 'opTime': {'t': 2, 'ts': Timestamp(1505749602, 2)},\n",
       " 'updatedExisting': True}"
      ]
     },
     "metadata": {},
     "output_type": "display_data"
    },
    {
     "data": {
      "text/plain": [
       "{'electionId': ObjectId('7fffffff0000000000000002'),\n",
       " 'n': 1,\n",
       " 'nModified': 1,\n",
       " 'ok': 1.0,\n",
       " 'opTime': {'t': 2, 'ts': Timestamp(1505749603, 1)},\n",
       " 'updatedExisting': True}"
      ]
     },
     "metadata": {},
     "output_type": "display_data"
    },
    {
     "data": {
      "text/plain": [
       "{'electionId': ObjectId('7fffffff0000000000000002'),\n",
       " 'n': 1,\n",
       " 'nModified': 1,\n",
       " 'ok': 1.0,\n",
       " 'opTime': {'t': 2, 'ts': Timestamp(1505749604, 1)},\n",
       " 'updatedExisting': True}"
      ]
     },
     "metadata": {},
     "output_type": "display_data"
    },
    {
     "data": {
      "text/plain": [
       "{'electionId': ObjectId('7fffffff0000000000000002'),\n",
       " 'n': 1,\n",
       " 'nModified': 1,\n",
       " 'ok': 1.0,\n",
       " 'opTime': {'t': 2, 'ts': Timestamp(1505749605, 1)},\n",
       " 'updatedExisting': True}"
      ]
     },
     "metadata": {},
     "output_type": "display_data"
    },
    {
     "data": {
      "text/plain": [
       "{'electionId': ObjectId('7fffffff0000000000000002'),\n",
       " 'n': 1,\n",
       " 'nModified': 1,\n",
       " 'ok': 1.0,\n",
       " 'opTime': {'t': 2, 'ts': Timestamp(1505749606, 1)},\n",
       " 'updatedExisting': True}"
      ]
     },
     "metadata": {},
     "output_type": "display_data"
    },
    {
     "data": {
      "text/plain": [
       "{'electionId': ObjectId('7fffffff0000000000000002'),\n",
       " 'n': 1,\n",
       " 'nModified': 1,\n",
       " 'ok': 1.0,\n",
       " 'opTime': {'t': 2, 'ts': Timestamp(1505749607, 1)},\n",
       " 'updatedExisting': True}"
      ]
     },
     "metadata": {},
     "output_type": "display_data"
    },
    {
     "data": {
      "text/plain": [
       "{'electionId': ObjectId('7fffffff0000000000000002'),\n",
       " 'n': 1,\n",
       " 'nModified': 1,\n",
       " 'ok': 1.0,\n",
       " 'opTime': {'t': 2, 'ts': Timestamp(1505749608, 1)},\n",
       " 'updatedExisting': True}"
      ]
     },
     "metadata": {},
     "output_type": "display_data"
    },
    {
     "data": {
      "text/plain": [
       "{'electionId': ObjectId('7fffffff0000000000000002'),\n",
       " 'n': 1,\n",
       " 'nModified': 1,\n",
       " 'ok': 1.0,\n",
       " 'opTime': {'t': 2, 'ts': Timestamp(1505749609, 1)},\n",
       " 'updatedExisting': True}"
      ]
     },
     "metadata": {},
     "output_type": "display_data"
    },
    {
     "data": {
      "text/plain": [
       "{'electionId': ObjectId('7fffffff0000000000000002'),\n",
       " 'n': 1,\n",
       " 'nModified': 1,\n",
       " 'ok': 1.0,\n",
       " 'opTime': {'t': 2, 'ts': Timestamp(1505749610, 1)},\n",
       " 'updatedExisting': True}"
      ]
     },
     "metadata": {},
     "output_type": "display_data"
    },
    {
     "data": {
      "text/plain": [
       "{'electionId': ObjectId('7fffffff0000000000000002'),\n",
       " 'n': 1,\n",
       " 'nModified': 1,\n",
       " 'ok': 1.0,\n",
       " 'opTime': {'t': 2, 'ts': Timestamp(1505749611, 1)},\n",
       " 'updatedExisting': True}"
      ]
     },
     "metadata": {},
     "output_type": "display_data"
    },
    {
     "data": {
      "text/plain": [
       "{'electionId': ObjectId('7fffffff0000000000000002'),\n",
       " 'n': 1,\n",
       " 'nModified': 1,\n",
       " 'ok': 1.0,\n",
       " 'opTime': {'t': 2, 'ts': Timestamp(1505749612, 1)},\n",
       " 'updatedExisting': True}"
      ]
     },
     "metadata": {},
     "output_type": "display_data"
    },
    {
     "data": {
      "text/plain": [
       "{'electionId': ObjectId('7fffffff0000000000000002'),\n",
       " 'n': 1,\n",
       " 'nModified': 1,\n",
       " 'ok': 1.0,\n",
       " 'opTime': {'t': 2, 'ts': Timestamp(1505749613, 1)},\n",
       " 'updatedExisting': True}"
      ]
     },
     "metadata": {},
     "output_type": "display_data"
    },
    {
     "data": {
      "text/plain": [
       "{'electionId': ObjectId('7fffffff0000000000000002'),\n",
       " 'n': 1,\n",
       " 'nModified': 1,\n",
       " 'ok': 1.0,\n",
       " 'opTime': {'t': 2, 'ts': Timestamp(1505749614, 1)},\n",
       " 'updatedExisting': True}"
      ]
     },
     "metadata": {},
     "output_type": "display_data"
    },
    {
     "data": {
      "text/plain": [
       "{'electionId': ObjectId('7fffffff0000000000000002'),\n",
       " 'n': 1,\n",
       " 'nModified': 1,\n",
       " 'ok': 1.0,\n",
       " 'opTime': {'t': 2, 'ts': Timestamp(1505749615, 1)},\n",
       " 'updatedExisting': True}"
      ]
     },
     "metadata": {},
     "output_type": "display_data"
    },
    {
     "data": {
      "text/plain": [
       "{'electionId': ObjectId('7fffffff0000000000000002'),\n",
       " 'n': 1,\n",
       " 'nModified': 1,\n",
       " 'ok': 1.0,\n",
       " 'opTime': {'t': 2, 'ts': Timestamp(1505749616, 1)},\n",
       " 'updatedExisting': True}"
      ]
     },
     "metadata": {},
     "output_type": "display_data"
    },
    {
     "data": {
      "text/plain": [
       "{'electionId': ObjectId('7fffffff0000000000000002'),\n",
       " 'n': 1,\n",
       " 'nModified': 1,\n",
       " 'ok': 1.0,\n",
       " 'opTime': {'t': 2, 'ts': Timestamp(1505749617, 1)},\n",
       " 'updatedExisting': True}"
      ]
     },
     "metadata": {},
     "output_type": "display_data"
    },
    {
     "data": {
      "text/plain": [
       "{'electionId': ObjectId('7fffffff0000000000000002'),\n",
       " 'n': 1,\n",
       " 'nModified': 1,\n",
       " 'ok': 1.0,\n",
       " 'opTime': {'t': 2, 'ts': Timestamp(1505749618, 1)},\n",
       " 'updatedExisting': True}"
      ]
     },
     "metadata": {},
     "output_type": "display_data"
    },
    {
     "data": {
      "text/plain": [
       "{'electionId': ObjectId('7fffffff0000000000000002'),\n",
       " 'n': 1,\n",
       " 'nModified': 1,\n",
       " 'ok': 1.0,\n",
       " 'opTime': {'t': 2, 'ts': Timestamp(1505749618, 2)},\n",
       " 'updatedExisting': True}"
      ]
     },
     "metadata": {},
     "output_type": "display_data"
    },
    {
     "data": {
      "text/plain": [
       "{'electionId': ObjectId('7fffffff0000000000000002'),\n",
       " 'n': 1,\n",
       " 'nModified': 1,\n",
       " 'ok': 1.0,\n",
       " 'opTime': {'t': 2, 'ts': Timestamp(1505749619, 1)},\n",
       " 'updatedExisting': True}"
      ]
     },
     "metadata": {},
     "output_type": "display_data"
    },
    {
     "data": {
      "text/plain": [
       "{'electionId': ObjectId('7fffffff0000000000000002'),\n",
       " 'n': 1,\n",
       " 'nModified': 1,\n",
       " 'ok': 1.0,\n",
       " 'opTime': {'t': 2, 'ts': Timestamp(1505749620, 1)},\n",
       " 'updatedExisting': True}"
      ]
     },
     "metadata": {},
     "output_type": "display_data"
    },
    {
     "data": {
      "text/plain": [
       "{'electionId': ObjectId('7fffffff0000000000000002'),\n",
       " 'n': 1,\n",
       " 'nModified': 1,\n",
       " 'ok': 1.0,\n",
       " 'opTime': {'t': 2, 'ts': Timestamp(1505749621, 1)},\n",
       " 'updatedExisting': True}"
      ]
     },
     "metadata": {},
     "output_type": "display_data"
    },
    {
     "data": {
      "text/plain": [
       "{'electionId': ObjectId('7fffffff0000000000000002'),\n",
       " 'n': 1,\n",
       " 'nModified': 1,\n",
       " 'ok': 1.0,\n",
       " 'opTime': {'t': 2, 'ts': Timestamp(1505749623, 1)},\n",
       " 'updatedExisting': True}"
      ]
     },
     "metadata": {},
     "output_type": "display_data"
    },
    {
     "data": {
      "text/plain": [
       "{'electionId': ObjectId('7fffffff0000000000000002'),\n",
       " 'n': 1,\n",
       " 'nModified': 1,\n",
       " 'ok': 1.0,\n",
       " 'opTime': {'t': 2, 'ts': Timestamp(1505749624, 1)},\n",
       " 'updatedExisting': True}"
      ]
     },
     "metadata": {},
     "output_type": "display_data"
    },
    {
     "data": {
      "text/plain": [
       "{'electionId': ObjectId('7fffffff0000000000000002'),\n",
       " 'n': 1,\n",
       " 'nModified': 1,\n",
       " 'ok': 1.0,\n",
       " 'opTime': {'t': 2, 'ts': Timestamp(1505749625, 1)},\n",
       " 'updatedExisting': True}"
      ]
     },
     "metadata": {},
     "output_type": "display_data"
    },
    {
     "data": {
      "text/plain": [
       "{'electionId': ObjectId('7fffffff0000000000000002'),\n",
       " 'n': 1,\n",
       " 'nModified': 1,\n",
       " 'ok': 1.0,\n",
       " 'opTime': {'t': 2, 'ts': Timestamp(1505749626, 1)},\n",
       " 'updatedExisting': True}"
      ]
     },
     "metadata": {},
     "output_type": "display_data"
    },
    {
     "data": {
      "text/plain": [
       "{'electionId': ObjectId('7fffffff0000000000000002'),\n",
       " 'n': 1,\n",
       " 'nModified': 1,\n",
       " 'ok': 1.0,\n",
       " 'opTime': {'t': 2, 'ts': Timestamp(1505749627, 1)},\n",
       " 'updatedExisting': True}"
      ]
     },
     "metadata": {},
     "output_type": "display_data"
    },
    {
     "data": {
      "text/plain": [
       "{'electionId': ObjectId('7fffffff0000000000000002'),\n",
       " 'n': 1,\n",
       " 'nModified': 1,\n",
       " 'ok': 1.0,\n",
       " 'opTime': {'t': 2, 'ts': Timestamp(1505749628, 1)},\n",
       " 'updatedExisting': True}"
      ]
     },
     "metadata": {},
     "output_type": "display_data"
    },
    {
     "data": {
      "text/plain": [
       "{'electionId': ObjectId('7fffffff0000000000000002'),\n",
       " 'n': 1,\n",
       " 'nModified': 1,\n",
       " 'ok': 1.0,\n",
       " 'opTime': {'t': 2, 'ts': Timestamp(1505749629, 1)},\n",
       " 'updatedExisting': True}"
      ]
     },
     "metadata": {},
     "output_type": "display_data"
    },
    {
     "data": {
      "text/plain": [
       "{'electionId': ObjectId('7fffffff0000000000000002'),\n",
       " 'n': 1,\n",
       " 'nModified': 1,\n",
       " 'ok': 1.0,\n",
       " 'opTime': {'t': 2, 'ts': Timestamp(1505749631, 1)},\n",
       " 'updatedExisting': True}"
      ]
     },
     "metadata": {},
     "output_type": "display_data"
    },
    {
     "data": {
      "text/plain": [
       "{'electionId': ObjectId('7fffffff0000000000000002'),\n",
       " 'n': 1,\n",
       " 'nModified': 1,\n",
       " 'ok': 1.0,\n",
       " 'opTime': {'t': 2, 'ts': Timestamp(1505749632, 1)},\n",
       " 'updatedExisting': True}"
      ]
     },
     "metadata": {},
     "output_type": "display_data"
    },
    {
     "data": {
      "text/plain": [
       "{'electionId': ObjectId('7fffffff0000000000000002'),\n",
       " 'n': 1,\n",
       " 'nModified': 1,\n",
       " 'ok': 1.0,\n",
       " 'opTime': {'t': 2, 'ts': Timestamp(1505749632, 2)},\n",
       " 'updatedExisting': True}"
      ]
     },
     "metadata": {},
     "output_type": "display_data"
    },
    {
     "data": {
      "text/plain": [
       "{'electionId': ObjectId('7fffffff0000000000000002'),\n",
       " 'n': 1,\n",
       " 'nModified': 1,\n",
       " 'ok': 1.0,\n",
       " 'opTime': {'t': 2, 'ts': Timestamp(1505749633, 1)},\n",
       " 'updatedExisting': True}"
      ]
     },
     "metadata": {},
     "output_type": "display_data"
    },
    {
     "data": {
      "text/plain": [
       "{'electionId': ObjectId('7fffffff0000000000000002'),\n",
       " 'n': 1,\n",
       " 'nModified': 1,\n",
       " 'ok': 1.0,\n",
       " 'opTime': {'t': 2, 'ts': Timestamp(1505749634, 1)},\n",
       " 'updatedExisting': True}"
      ]
     },
     "metadata": {},
     "output_type": "display_data"
    },
    {
     "data": {
      "text/plain": [
       "{'electionId': ObjectId('7fffffff0000000000000002'),\n",
       " 'n': 1,\n",
       " 'nModified': 1,\n",
       " 'ok': 1.0,\n",
       " 'opTime': {'t': 2, 'ts': Timestamp(1505749635, 1)},\n",
       " 'updatedExisting': True}"
      ]
     },
     "metadata": {},
     "output_type": "display_data"
    },
    {
     "data": {
      "text/plain": [
       "{'electionId': ObjectId('7fffffff0000000000000002'),\n",
       " 'n': 1,\n",
       " 'nModified': 1,\n",
       " 'ok': 1.0,\n",
       " 'opTime': {'t': 2, 'ts': Timestamp(1505749635, 2)},\n",
       " 'updatedExisting': True}"
      ]
     },
     "metadata": {},
     "output_type": "display_data"
    },
    {
     "data": {
      "text/plain": [
       "{'electionId': ObjectId('7fffffff0000000000000002'),\n",
       " 'n': 1,\n",
       " 'nModified': 1,\n",
       " 'ok': 1.0,\n",
       " 'opTime': {'t': 2, 'ts': Timestamp(1505749636, 1)},\n",
       " 'updatedExisting': True}"
      ]
     },
     "metadata": {},
     "output_type": "display_data"
    },
    {
     "data": {
      "text/plain": [
       "{'electionId': ObjectId('7fffffff0000000000000002'),\n",
       " 'n': 1,\n",
       " 'nModified': 1,\n",
       " 'ok': 1.0,\n",
       " 'opTime': {'t': 2, 'ts': Timestamp(1505749637, 1)},\n",
       " 'updatedExisting': True}"
      ]
     },
     "metadata": {},
     "output_type": "display_data"
    },
    {
     "data": {
      "text/plain": [
       "{'electionId': ObjectId('7fffffff0000000000000002'),\n",
       " 'n': 1,\n",
       " 'nModified': 1,\n",
       " 'ok': 1.0,\n",
       " 'opTime': {'t': 2, 'ts': Timestamp(1505749637, 2)},\n",
       " 'updatedExisting': True}"
      ]
     },
     "metadata": {},
     "output_type": "display_data"
    },
    {
     "data": {
      "text/plain": [
       "{'electionId': ObjectId('7fffffff0000000000000002'),\n",
       " 'n': 1,\n",
       " 'nModified': 1,\n",
       " 'ok': 1.0,\n",
       " 'opTime': {'t': 2, 'ts': Timestamp(1505749638, 1)},\n",
       " 'updatedExisting': True}"
      ]
     },
     "metadata": {},
     "output_type": "display_data"
    },
    {
     "data": {
      "text/plain": [
       "{'electionId': ObjectId('7fffffff0000000000000002'),\n",
       " 'n': 1,\n",
       " 'nModified': 1,\n",
       " 'ok': 1.0,\n",
       " 'opTime': {'t': 2, 'ts': Timestamp(1505749639, 1)},\n",
       " 'updatedExisting': True}"
      ]
     },
     "metadata": {},
     "output_type": "display_data"
    },
    {
     "data": {
      "text/plain": [
       "{'electionId': ObjectId('7fffffff0000000000000002'),\n",
       " 'n': 1,\n",
       " 'nModified': 1,\n",
       " 'ok': 1.0,\n",
       " 'opTime': {'t': 2, 'ts': Timestamp(1505749639, 2)},\n",
       " 'updatedExisting': True}"
      ]
     },
     "metadata": {},
     "output_type": "display_data"
    },
    {
     "data": {
      "text/plain": [
       "{'electionId': ObjectId('7fffffff0000000000000002'),\n",
       " 'n': 1,\n",
       " 'nModified': 1,\n",
       " 'ok': 1.0,\n",
       " 'opTime': {'t': 2, 'ts': Timestamp(1505749640, 1)},\n",
       " 'updatedExisting': True}"
      ]
     },
     "metadata": {},
     "output_type": "display_data"
    },
    {
     "data": {
      "text/plain": [
       "{'electionId': ObjectId('7fffffff0000000000000002'),\n",
       " 'n': 1,\n",
       " 'nModified': 1,\n",
       " 'ok': 1.0,\n",
       " 'opTime': {'t': 2, 'ts': Timestamp(1505749640, 2)},\n",
       " 'updatedExisting': True}"
      ]
     },
     "metadata": {},
     "output_type": "display_data"
    },
    {
     "data": {
      "text/plain": [
       "{'electionId': ObjectId('7fffffff0000000000000002'),\n",
       " 'n': 1,\n",
       " 'nModified': 1,\n",
       " 'ok': 1.0,\n",
       " 'opTime': {'t': 2, 'ts': Timestamp(1505749642, 1)},\n",
       " 'updatedExisting': True}"
      ]
     },
     "metadata": {},
     "output_type": "display_data"
    },
    {
     "data": {
      "text/plain": [
       "{'electionId': ObjectId('7fffffff0000000000000002'),\n",
       " 'n': 1,\n",
       " 'nModified': 1,\n",
       " 'ok': 1.0,\n",
       " 'opTime': {'t': 2, 'ts': Timestamp(1505749642, 2)},\n",
       " 'updatedExisting': True}"
      ]
     },
     "metadata": {},
     "output_type": "display_data"
    },
    {
     "data": {
      "text/plain": [
       "{'electionId': ObjectId('7fffffff0000000000000002'),\n",
       " 'n': 1,\n",
       " 'nModified': 1,\n",
       " 'ok': 1.0,\n",
       " 'opTime': {'t': 2, 'ts': Timestamp(1505749643, 1)},\n",
       " 'updatedExisting': True}"
      ]
     },
     "metadata": {},
     "output_type": "display_data"
    },
    {
     "data": {
      "text/plain": [
       "{'electionId': ObjectId('7fffffff0000000000000002'),\n",
       " 'n': 1,\n",
       " 'nModified': 1,\n",
       " 'ok': 1.0,\n",
       " 'opTime': {'t': 2, 'ts': Timestamp(1505749643, 2)},\n",
       " 'updatedExisting': True}"
      ]
     },
     "metadata": {},
     "output_type": "display_data"
    },
    {
     "data": {
      "text/plain": [
       "{'electionId': ObjectId('7fffffff0000000000000002'),\n",
       " 'n': 1,\n",
       " 'nModified': 1,\n",
       " 'ok': 1.0,\n",
       " 'opTime': {'t': 2, 'ts': Timestamp(1505749644, 1)},\n",
       " 'updatedExisting': True}"
      ]
     },
     "metadata": {},
     "output_type": "display_data"
    },
    {
     "data": {
      "text/plain": [
       "{'electionId': ObjectId('7fffffff0000000000000002'),\n",
       " 'n': 1,\n",
       " 'nModified': 1,\n",
       " 'ok': 1.0,\n",
       " 'opTime': {'t': 2, 'ts': Timestamp(1505749645, 1)},\n",
       " 'updatedExisting': True}"
      ]
     },
     "metadata": {},
     "output_type": "display_data"
    },
    {
     "data": {
      "text/plain": [
       "{'electionId': ObjectId('7fffffff0000000000000002'),\n",
       " 'n': 1,\n",
       " 'nModified': 1,\n",
       " 'ok': 1.0,\n",
       " 'opTime': {'t': 2, 'ts': Timestamp(1505749645, 2)},\n",
       " 'updatedExisting': True}"
      ]
     },
     "metadata": {},
     "output_type": "display_data"
    },
    {
     "data": {
      "text/plain": [
       "{'electionId': ObjectId('7fffffff0000000000000002'),\n",
       " 'n': 1,\n",
       " 'nModified': 1,\n",
       " 'ok': 1.0,\n",
       " 'opTime': {'t': 2, 'ts': Timestamp(1505749646, 1)},\n",
       " 'updatedExisting': True}"
      ]
     },
     "metadata": {},
     "output_type": "display_data"
    },
    {
     "data": {
      "text/plain": [
       "{'electionId': ObjectId('7fffffff0000000000000002'),\n",
       " 'n': 1,\n",
       " 'nModified': 1,\n",
       " 'ok': 1.0,\n",
       " 'opTime': {'t': 2, 'ts': Timestamp(1505749646, 2)},\n",
       " 'updatedExisting': True}"
      ]
     },
     "metadata": {},
     "output_type": "display_data"
    },
    {
     "data": {
      "text/plain": [
       "{'electionId': ObjectId('7fffffff0000000000000002'),\n",
       " 'n': 1,\n",
       " 'nModified': 1,\n",
       " 'ok': 1.0,\n",
       " 'opTime': {'t': 2, 'ts': Timestamp(1505749647, 1)},\n",
       " 'updatedExisting': True}"
      ]
     },
     "metadata": {},
     "output_type": "display_data"
    },
    {
     "data": {
      "text/plain": [
       "{'electionId': ObjectId('7fffffff0000000000000002'),\n",
       " 'n': 1,\n",
       " 'nModified': 1,\n",
       " 'ok': 1.0,\n",
       " 'opTime': {'t': 2, 'ts': Timestamp(1505749648, 1)},\n",
       " 'updatedExisting': True}"
      ]
     },
     "metadata": {},
     "output_type": "display_data"
    },
    {
     "data": {
      "text/plain": [
       "{'electionId': ObjectId('7fffffff0000000000000002'),\n",
       " 'n': 1,\n",
       " 'nModified': 1,\n",
       " 'ok': 1.0,\n",
       " 'opTime': {'t': 2, 'ts': Timestamp(1505749648, 2)},\n",
       " 'updatedExisting': True}"
      ]
     },
     "metadata": {},
     "output_type": "display_data"
    },
    {
     "data": {
      "text/plain": [
       "{'electionId': ObjectId('7fffffff0000000000000002'),\n",
       " 'n': 1,\n",
       " 'nModified': 1,\n",
       " 'ok': 1.0,\n",
       " 'opTime': {'t': 2, 'ts': Timestamp(1505749649, 1)},\n",
       " 'updatedExisting': True}"
      ]
     },
     "metadata": {},
     "output_type": "display_data"
    },
    {
     "data": {
      "text/plain": [
       "{'electionId': ObjectId('7fffffff0000000000000002'),\n",
       " 'n': 1,\n",
       " 'nModified': 1,\n",
       " 'ok': 1.0,\n",
       " 'opTime': {'t': 2, 'ts': Timestamp(1505749650, 1)},\n",
       " 'updatedExisting': True}"
      ]
     },
     "metadata": {},
     "output_type": "display_data"
    },
    {
     "data": {
      "text/plain": [
       "{'electionId': ObjectId('7fffffff0000000000000002'),\n",
       " 'n': 1,\n",
       " 'nModified': 1,\n",
       " 'ok': 1.0,\n",
       " 'opTime': {'t': 2, 'ts': Timestamp(1505749650, 2)},\n",
       " 'updatedExisting': True}"
      ]
     },
     "metadata": {},
     "output_type": "display_data"
    },
    {
     "data": {
      "text/plain": [
       "{'electionId': ObjectId('7fffffff0000000000000002'),\n",
       " 'n': 1,\n",
       " 'nModified': 1,\n",
       " 'ok': 1.0,\n",
       " 'opTime': {'t': 2, 'ts': Timestamp(1505749651, 1)},\n",
       " 'updatedExisting': True}"
      ]
     },
     "metadata": {},
     "output_type": "display_data"
    },
    {
     "data": {
      "text/plain": [
       "{'electionId': ObjectId('7fffffff0000000000000002'),\n",
       " 'n': 1,\n",
       " 'nModified': 1,\n",
       " 'ok': 1.0,\n",
       " 'opTime': {'t': 2, 'ts': Timestamp(1505749651, 2)},\n",
       " 'updatedExisting': True}"
      ]
     },
     "metadata": {},
     "output_type": "display_data"
    },
    {
     "data": {
      "text/plain": [
       "{'electionId': ObjectId('7fffffff0000000000000002'),\n",
       " 'n': 1,\n",
       " 'nModified': 1,\n",
       " 'ok': 1.0,\n",
       " 'opTime': {'t': 2, 'ts': Timestamp(1505749653, 1)},\n",
       " 'updatedExisting': True}"
      ]
     },
     "metadata": {},
     "output_type": "display_data"
    },
    {
     "data": {
      "text/plain": [
       "{'electionId': ObjectId('7fffffff0000000000000002'),\n",
       " 'n': 1,\n",
       " 'nModified': 1,\n",
       " 'ok': 1.0,\n",
       " 'opTime': {'t': 2, 'ts': Timestamp(1505749654, 1)},\n",
       " 'updatedExisting': True}"
      ]
     },
     "metadata": {},
     "output_type": "display_data"
    },
    {
     "data": {
      "text/plain": [
       "{'electionId': ObjectId('7fffffff0000000000000002'),\n",
       " 'n': 1,\n",
       " 'nModified': 1,\n",
       " 'ok': 1.0,\n",
       " 'opTime': {'t': 2, 'ts': Timestamp(1505749654, 2)},\n",
       " 'updatedExisting': True}"
      ]
     },
     "metadata": {},
     "output_type": "display_data"
    },
    {
     "data": {
      "text/plain": [
       "{'electionId': ObjectId('7fffffff0000000000000002'),\n",
       " 'n': 1,\n",
       " 'nModified': 1,\n",
       " 'ok': 1.0,\n",
       " 'opTime': {'t': 2, 'ts': Timestamp(1505749655, 1)},\n",
       " 'updatedExisting': True}"
      ]
     },
     "metadata": {},
     "output_type": "display_data"
    },
    {
     "data": {
      "text/plain": [
       "{'electionId': ObjectId('7fffffff0000000000000002'),\n",
       " 'n': 1,\n",
       " 'nModified': 1,\n",
       " 'ok': 1.0,\n",
       " 'opTime': {'t': 2, 'ts': Timestamp(1505749656, 1)},\n",
       " 'updatedExisting': True}"
      ]
     },
     "metadata": {},
     "output_type": "display_data"
    },
    {
     "data": {
      "text/plain": [
       "{'electionId': ObjectId('7fffffff0000000000000002'),\n",
       " 'n': 1,\n",
       " 'nModified': 1,\n",
       " 'ok': 1.0,\n",
       " 'opTime': {'t': 2, 'ts': Timestamp(1505749657, 1)},\n",
       " 'updatedExisting': True}"
      ]
     },
     "metadata": {},
     "output_type": "display_data"
    },
    {
     "data": {
      "text/plain": [
       "{'electionId': ObjectId('7fffffff0000000000000002'),\n",
       " 'n': 1,\n",
       " 'nModified': 1,\n",
       " 'ok': 1.0,\n",
       " 'opTime': {'t': 2, 'ts': Timestamp(1505749658, 1)},\n",
       " 'updatedExisting': True}"
      ]
     },
     "metadata": {},
     "output_type": "display_data"
    },
    {
     "data": {
      "text/plain": [
       "{'electionId': ObjectId('7fffffff0000000000000002'),\n",
       " 'n': 1,\n",
       " 'nModified': 1,\n",
       " 'ok': 1.0,\n",
       " 'opTime': {'t': 2, 'ts': Timestamp(1505749658, 2)},\n",
       " 'updatedExisting': True}"
      ]
     },
     "metadata": {},
     "output_type": "display_data"
    },
    {
     "data": {
      "text/plain": [
       "{'electionId': ObjectId('7fffffff0000000000000002'),\n",
       " 'n': 1,\n",
       " 'nModified': 1,\n",
       " 'ok': 1.0,\n",
       " 'opTime': {'t': 2, 'ts': Timestamp(1505749660, 1)},\n",
       " 'updatedExisting': True}"
      ]
     },
     "metadata": {},
     "output_type": "display_data"
    },
    {
     "data": {
      "text/plain": [
       "{'electionId': ObjectId('7fffffff0000000000000002'),\n",
       " 'n': 1,\n",
       " 'nModified': 1,\n",
       " 'ok': 1.0,\n",
       " 'opTime': {'t': 2, 'ts': Timestamp(1505749661, 1)},\n",
       " 'updatedExisting': True}"
      ]
     },
     "metadata": {},
     "output_type": "display_data"
    },
    {
     "data": {
      "text/plain": [
       "{'electionId': ObjectId('7fffffff0000000000000002'),\n",
       " 'n': 1,\n",
       " 'nModified': 1,\n",
       " 'ok': 1.0,\n",
       " 'opTime': {'t': 2, 'ts': Timestamp(1505749662, 1)},\n",
       " 'updatedExisting': True}"
      ]
     },
     "metadata": {},
     "output_type": "display_data"
    },
    {
     "data": {
      "text/plain": [
       "{'electionId': ObjectId('7fffffff0000000000000002'),\n",
       " 'n': 1,\n",
       " 'nModified': 1,\n",
       " 'ok': 1.0,\n",
       " 'opTime': {'t': 2, 'ts': Timestamp(1505749663, 1)},\n",
       " 'updatedExisting': True}"
      ]
     },
     "metadata": {},
     "output_type": "display_data"
    },
    {
     "data": {
      "text/plain": [
       "{'electionId': ObjectId('7fffffff0000000000000002'),\n",
       " 'n': 1,\n",
       " 'nModified': 1,\n",
       " 'ok': 1.0,\n",
       " 'opTime': {'t': 2, 'ts': Timestamp(1505749664, 1)},\n",
       " 'updatedExisting': True}"
      ]
     },
     "metadata": {},
     "output_type": "display_data"
    },
    {
     "data": {
      "text/plain": [
       "{'electionId': ObjectId('7fffffff0000000000000002'),\n",
       " 'n': 1,\n",
       " 'nModified': 1,\n",
       " 'ok': 1.0,\n",
       " 'opTime': {'t': 2, 'ts': Timestamp(1505749665, 1)},\n",
       " 'updatedExisting': True}"
      ]
     },
     "metadata": {},
     "output_type": "display_data"
    },
    {
     "data": {
      "text/plain": [
       "{'electionId': ObjectId('7fffffff0000000000000002'),\n",
       " 'n': 1,\n",
       " 'nModified': 1,\n",
       " 'ok': 1.0,\n",
       " 'opTime': {'t': 2, 'ts': Timestamp(1505749666, 1)},\n",
       " 'updatedExisting': True}"
      ]
     },
     "metadata": {},
     "output_type": "display_data"
    },
    {
     "data": {
      "text/plain": [
       "{'electionId': ObjectId('7fffffff0000000000000002'),\n",
       " 'n': 1,\n",
       " 'nModified': 1,\n",
       " 'ok': 1.0,\n",
       " 'opTime': {'t': 2, 'ts': Timestamp(1505749666, 2)},\n",
       " 'updatedExisting': True}"
      ]
     },
     "metadata": {},
     "output_type": "display_data"
    },
    {
     "data": {
      "text/plain": [
       "{'electionId': ObjectId('7fffffff0000000000000002'),\n",
       " 'n': 1,\n",
       " 'nModified': 1,\n",
       " 'ok': 1.0,\n",
       " 'opTime': {'t': 2, 'ts': Timestamp(1505749667, 1)},\n",
       " 'updatedExisting': True}"
      ]
     },
     "metadata": {},
     "output_type": "display_data"
    },
    {
     "data": {
      "text/plain": [
       "{'electionId': ObjectId('7fffffff0000000000000002'),\n",
       " 'n': 1,\n",
       " 'nModified': 1,\n",
       " 'ok': 1.0,\n",
       " 'opTime': {'t': 2, 'ts': Timestamp(1505749669, 1)},\n",
       " 'updatedExisting': True}"
      ]
     },
     "metadata": {},
     "output_type": "display_data"
    },
    {
     "data": {
      "text/plain": [
       "{'electionId': ObjectId('7fffffff0000000000000002'),\n",
       " 'n': 1,\n",
       " 'nModified': 1,\n",
       " 'ok': 1.0,\n",
       " 'opTime': {'t': 2, 'ts': Timestamp(1505749670, 1)},\n",
       " 'updatedExisting': True}"
      ]
     },
     "metadata": {},
     "output_type": "display_data"
    },
    {
     "data": {
      "text/plain": [
       "{'electionId': ObjectId('7fffffff0000000000000002'),\n",
       " 'n': 1,\n",
       " 'nModified': 1,\n",
       " 'ok': 1.0,\n",
       " 'opTime': {'t': 2, 'ts': Timestamp(1505749670, 2)},\n",
       " 'updatedExisting': True}"
      ]
     },
     "metadata": {},
     "output_type": "display_data"
    },
    {
     "data": {
      "text/plain": [
       "{'electionId': ObjectId('7fffffff0000000000000002'),\n",
       " 'n': 1,\n",
       " 'nModified': 1,\n",
       " 'ok': 1.0,\n",
       " 'opTime': {'t': 2, 'ts': Timestamp(1505749671, 1)},\n",
       " 'updatedExisting': True}"
      ]
     },
     "metadata": {},
     "output_type": "display_data"
    },
    {
     "data": {
      "text/plain": [
       "{'electionId': ObjectId('7fffffff0000000000000002'),\n",
       " 'n': 1,\n",
       " 'nModified': 1,\n",
       " 'ok': 1.0,\n",
       " 'opTime': {'t': 2, 'ts': Timestamp(1505749672, 1)},\n",
       " 'updatedExisting': True}"
      ]
     },
     "metadata": {},
     "output_type": "display_data"
    },
    {
     "data": {
      "text/plain": [
       "{'electionId': ObjectId('7fffffff0000000000000002'),\n",
       " 'n': 1,\n",
       " 'nModified': 1,\n",
       " 'ok': 1.0,\n",
       " 'opTime': {'t': 2, 'ts': Timestamp(1505749672, 2)},\n",
       " 'updatedExisting': True}"
      ]
     },
     "metadata": {},
     "output_type": "display_data"
    },
    {
     "data": {
      "text/plain": [
       "{'electionId': ObjectId('7fffffff0000000000000002'),\n",
       " 'n': 1,\n",
       " 'nModified': 1,\n",
       " 'ok': 1.0,\n",
       " 'opTime': {'t': 2, 'ts': Timestamp(1505749673, 1)},\n",
       " 'updatedExisting': True}"
      ]
     },
     "metadata": {},
     "output_type": "display_data"
    },
    {
     "data": {
      "text/plain": [
       "{'electionId': ObjectId('7fffffff0000000000000002'),\n",
       " 'n': 1,\n",
       " 'nModified': 1,\n",
       " 'ok': 1.0,\n",
       " 'opTime': {'t': 2, 'ts': Timestamp(1505749674, 1)},\n",
       " 'updatedExisting': True}"
      ]
     },
     "metadata": {},
     "output_type": "display_data"
    },
    {
     "data": {
      "text/plain": [
       "{'electionId': ObjectId('7fffffff0000000000000002'),\n",
       " 'n': 1,\n",
       " 'nModified': 1,\n",
       " 'ok': 1.0,\n",
       " 'opTime': {'t': 2, 'ts': Timestamp(1505749675, 1)},\n",
       " 'updatedExisting': True}"
      ]
     },
     "metadata": {},
     "output_type": "display_data"
    },
    {
     "data": {
      "text/plain": [
       "{'electionId': ObjectId('7fffffff0000000000000002'),\n",
       " 'n': 1,\n",
       " 'nModified': 1,\n",
       " 'ok': 1.0,\n",
       " 'opTime': {'t': 2, 'ts': Timestamp(1505749676, 1)},\n",
       " 'updatedExisting': True}"
      ]
     },
     "metadata": {},
     "output_type": "display_data"
    },
    {
     "data": {
      "text/plain": [
       "{'electionId': ObjectId('7fffffff0000000000000002'),\n",
       " 'n': 1,\n",
       " 'nModified': 1,\n",
       " 'ok': 1.0,\n",
       " 'opTime': {'t': 2, 'ts': Timestamp(1505749677, 1)},\n",
       " 'updatedExisting': True}"
      ]
     },
     "metadata": {},
     "output_type": "display_data"
    },
    {
     "data": {
      "text/plain": [
       "{'electionId': ObjectId('7fffffff0000000000000002'),\n",
       " 'n': 1,\n",
       " 'nModified': 1,\n",
       " 'ok': 1.0,\n",
       " 'opTime': {'t': 2, 'ts': Timestamp(1505749678, 1)},\n",
       " 'updatedExisting': True}"
      ]
     },
     "metadata": {},
     "output_type": "display_data"
    },
    {
     "data": {
      "text/plain": [
       "{'electionId': ObjectId('7fffffff0000000000000002'),\n",
       " 'n': 1,\n",
       " 'nModified': 1,\n",
       " 'ok': 1.0,\n",
       " 'opTime': {'t': 2, 'ts': Timestamp(1505749679, 1)},\n",
       " 'updatedExisting': True}"
      ]
     },
     "metadata": {},
     "output_type": "display_data"
    },
    {
     "data": {
      "text/plain": [
       "{'electionId': ObjectId('7fffffff0000000000000002'),\n",
       " 'n': 1,\n",
       " 'nModified': 1,\n",
       " 'ok': 1.0,\n",
       " 'opTime': {'t': 2, 'ts': Timestamp(1505749680, 1)},\n",
       " 'updatedExisting': True}"
      ]
     },
     "metadata": {},
     "output_type": "display_data"
    },
    {
     "data": {
      "text/plain": [
       "{'electionId': ObjectId('7fffffff0000000000000002'),\n",
       " 'n': 1,\n",
       " 'nModified': 1,\n",
       " 'ok': 1.0,\n",
       " 'opTime': {'t': 2, 'ts': Timestamp(1505749680, 2)},\n",
       " 'updatedExisting': True}"
      ]
     },
     "metadata": {},
     "output_type": "display_data"
    },
    {
     "data": {
      "text/plain": [
       "{'electionId': ObjectId('7fffffff0000000000000002'),\n",
       " 'n': 1,\n",
       " 'nModified': 1,\n",
       " 'ok': 1.0,\n",
       " 'opTime': {'t': 2, 'ts': Timestamp(1505749682, 1)},\n",
       " 'updatedExisting': True}"
      ]
     },
     "metadata": {},
     "output_type": "display_data"
    },
    {
     "data": {
      "text/plain": [
       "{'electionId': ObjectId('7fffffff0000000000000002'),\n",
       " 'n': 1,\n",
       " 'nModified': 1,\n",
       " 'ok': 1.0,\n",
       " 'opTime': {'t': 2, 'ts': Timestamp(1505749683, 1)},\n",
       " 'updatedExisting': True}"
      ]
     },
     "metadata": {},
     "output_type": "display_data"
    },
    {
     "data": {
      "text/plain": [
       "{'electionId': ObjectId('7fffffff0000000000000002'),\n",
       " 'n': 1,\n",
       " 'nModified': 1,\n",
       " 'ok': 1.0,\n",
       " 'opTime': {'t': 2, 'ts': Timestamp(1505749684, 1)},\n",
       " 'updatedExisting': True}"
      ]
     },
     "metadata": {},
     "output_type": "display_data"
    },
    {
     "data": {
      "text/plain": [
       "{'electionId': ObjectId('7fffffff0000000000000002'),\n",
       " 'n': 1,\n",
       " 'nModified': 1,\n",
       " 'ok': 1.0,\n",
       " 'opTime': {'t': 2, 'ts': Timestamp(1505749685, 1)},\n",
       " 'updatedExisting': True}"
      ]
     },
     "metadata": {},
     "output_type": "display_data"
    },
    {
     "data": {
      "text/plain": [
       "{'electionId': ObjectId('7fffffff0000000000000002'),\n",
       " 'n': 1,\n",
       " 'nModified': 1,\n",
       " 'ok': 1.0,\n",
       " 'opTime': {'t': 2, 'ts': Timestamp(1505749686, 1)},\n",
       " 'updatedExisting': True}"
      ]
     },
     "metadata": {},
     "output_type": "display_data"
    },
    {
     "data": {
      "text/plain": [
       "{'electionId': ObjectId('7fffffff0000000000000002'),\n",
       " 'n': 1,\n",
       " 'nModified': 1,\n",
       " 'ok': 1.0,\n",
       " 'opTime': {'t': 2, 'ts': Timestamp(1505749686, 2)},\n",
       " 'updatedExisting': True}"
      ]
     },
     "metadata": {},
     "output_type": "display_data"
    },
    {
     "data": {
      "text/plain": [
       "{'electionId': ObjectId('7fffffff0000000000000002'),\n",
       " 'n': 1,\n",
       " 'nModified': 1,\n",
       " 'ok': 1.0,\n",
       " 'opTime': {'t': 2, 'ts': Timestamp(1505749687, 1)},\n",
       " 'updatedExisting': True}"
      ]
     },
     "metadata": {},
     "output_type": "display_data"
    },
    {
     "data": {
      "text/plain": [
       "{'electionId': ObjectId('7fffffff0000000000000002'),\n",
       " 'n': 1,\n",
       " 'nModified': 1,\n",
       " 'ok': 1.0,\n",
       " 'opTime': {'t': 2, 'ts': Timestamp(1505749687, 2)},\n",
       " 'updatedExisting': True}"
      ]
     },
     "metadata": {},
     "output_type": "display_data"
    },
    {
     "data": {
      "text/plain": [
       "{'electionId': ObjectId('7fffffff0000000000000002'),\n",
       " 'n': 1,\n",
       " 'nModified': 1,\n",
       " 'ok': 1.0,\n",
       " 'opTime': {'t': 2, 'ts': Timestamp(1505749688, 1)},\n",
       " 'updatedExisting': True}"
      ]
     },
     "metadata": {},
     "output_type": "display_data"
    },
    {
     "data": {
      "text/plain": [
       "{'electionId': ObjectId('7fffffff0000000000000002'),\n",
       " 'n': 1,\n",
       " 'nModified': 1,\n",
       " 'ok': 1.0,\n",
       " 'opTime': {'t': 2, 'ts': Timestamp(1505749688, 2)},\n",
       " 'updatedExisting': True}"
      ]
     },
     "metadata": {},
     "output_type": "display_data"
    },
    {
     "data": {
      "text/plain": [
       "{'electionId': ObjectId('7fffffff0000000000000002'),\n",
       " 'n': 1,\n",
       " 'nModified': 1,\n",
       " 'ok': 1.0,\n",
       " 'opTime': {'t': 2, 'ts': Timestamp(1505749689, 1)},\n",
       " 'updatedExisting': True}"
      ]
     },
     "metadata": {},
     "output_type": "display_data"
    },
    {
     "data": {
      "text/plain": [
       "{'electionId': ObjectId('7fffffff0000000000000002'),\n",
       " 'n': 1,\n",
       " 'nModified': 1,\n",
       " 'ok': 1.0,\n",
       " 'opTime': {'t': 2, 'ts': Timestamp(1505749689, 2)},\n",
       " 'updatedExisting': True}"
      ]
     },
     "metadata": {},
     "output_type": "display_data"
    },
    {
     "data": {
      "text/plain": [
       "{'electionId': ObjectId('7fffffff0000000000000002'),\n",
       " 'n': 1,\n",
       " 'nModified': 1,\n",
       " 'ok': 1.0,\n",
       " 'opTime': {'t': 2, 'ts': Timestamp(1505749690, 1)},\n",
       " 'updatedExisting': True}"
      ]
     },
     "metadata": {},
     "output_type": "display_data"
    },
    {
     "data": {
      "text/plain": [
       "{'electionId': ObjectId('7fffffff0000000000000002'),\n",
       " 'n': 1,\n",
       " 'nModified': 1,\n",
       " 'ok': 1.0,\n",
       " 'opTime': {'t': 2, 'ts': Timestamp(1505749690, 2)},\n",
       " 'updatedExisting': True}"
      ]
     },
     "metadata": {},
     "output_type": "display_data"
    },
    {
     "data": {
      "text/plain": [
       "{'electionId': ObjectId('7fffffff0000000000000002'),\n",
       " 'n': 1,\n",
       " 'nModified': 1,\n",
       " 'ok': 1.0,\n",
       " 'opTime': {'t': 2, 'ts': Timestamp(1505749690, 3)},\n",
       " 'updatedExisting': True}"
      ]
     },
     "metadata": {},
     "output_type": "display_data"
    },
    {
     "data": {
      "text/plain": [
       "{'electionId': ObjectId('7fffffff0000000000000002'),\n",
       " 'n': 1,\n",
       " 'nModified': 1,\n",
       " 'ok': 1.0,\n",
       " 'opTime': {'t': 2, 'ts': Timestamp(1505749690, 4)},\n",
       " 'updatedExisting': True}"
      ]
     },
     "metadata": {},
     "output_type": "display_data"
    },
    {
     "data": {
      "text/plain": [
       "{'electionId': ObjectId('7fffffff0000000000000002'),\n",
       " 'n': 1,\n",
       " 'nModified': 1,\n",
       " 'ok': 1.0,\n",
       " 'opTime': {'t': 2, 'ts': Timestamp(1505749691, 1)},\n",
       " 'updatedExisting': True}"
      ]
     },
     "metadata": {},
     "output_type": "display_data"
    },
    {
     "data": {
      "text/plain": [
       "{'electionId': ObjectId('7fffffff0000000000000002'),\n",
       " 'n': 1,\n",
       " 'nModified': 1,\n",
       " 'ok': 1.0,\n",
       " 'opTime': {'t': 2, 'ts': Timestamp(1505749691, 2)},\n",
       " 'updatedExisting': True}"
      ]
     },
     "metadata": {},
     "output_type": "display_data"
    },
    {
     "data": {
      "text/plain": [
       "{'electionId': ObjectId('7fffffff0000000000000002'),\n",
       " 'n': 1,\n",
       " 'nModified': 1,\n",
       " 'ok': 1.0,\n",
       " 'opTime': {'t': 2, 'ts': Timestamp(1505749691, 3)},\n",
       " 'updatedExisting': True}"
      ]
     },
     "metadata": {},
     "output_type": "display_data"
    },
    {
     "data": {
      "text/plain": [
       "{'electionId': ObjectId('7fffffff0000000000000002'),\n",
       " 'n': 1,\n",
       " 'nModified': 1,\n",
       " 'ok': 1.0,\n",
       " 'opTime': {'t': 2, 'ts': Timestamp(1505749692, 1)},\n",
       " 'updatedExisting': True}"
      ]
     },
     "metadata": {},
     "output_type": "display_data"
    },
    {
     "data": {
      "text/plain": [
       "{'electionId': ObjectId('7fffffff0000000000000002'),\n",
       " 'n': 1,\n",
       " 'nModified': 1,\n",
       " 'ok': 1.0,\n",
       " 'opTime': {'t': 2, 'ts': Timestamp(1505749692, 2)},\n",
       " 'updatedExisting': True}"
      ]
     },
     "metadata": {},
     "output_type": "display_data"
    },
    {
     "data": {
      "text/plain": [
       "{'electionId': ObjectId('7fffffff0000000000000002'),\n",
       " 'n': 1,\n",
       " 'nModified': 1,\n",
       " 'ok': 1.0,\n",
       " 'opTime': {'t': 2, 'ts': Timestamp(1505749693, 1)},\n",
       " 'updatedExisting': True}"
      ]
     },
     "metadata": {},
     "output_type": "display_data"
    },
    {
     "data": {
      "text/plain": [
       "{'electionId': ObjectId('7fffffff0000000000000002'),\n",
       " 'n': 1,\n",
       " 'nModified': 1,\n",
       " 'ok': 1.0,\n",
       " 'opTime': {'t': 2, 'ts': Timestamp(1505749693, 2)},\n",
       " 'updatedExisting': True}"
      ]
     },
     "metadata": {},
     "output_type": "display_data"
    },
    {
     "data": {
      "text/plain": [
       "{'electionId': ObjectId('7fffffff0000000000000002'),\n",
       " 'n': 1,\n",
       " 'nModified': 1,\n",
       " 'ok': 1.0,\n",
       " 'opTime': {'t': 2, 'ts': Timestamp(1505749694, 1)},\n",
       " 'updatedExisting': True}"
      ]
     },
     "metadata": {},
     "output_type": "display_data"
    },
    {
     "data": {
      "text/plain": [
       "{'electionId': ObjectId('7fffffff0000000000000002'),\n",
       " 'n': 1,\n",
       " 'nModified': 1,\n",
       " 'ok': 1.0,\n",
       " 'opTime': {'t': 2, 'ts': Timestamp(1505749694, 2)},\n",
       " 'updatedExisting': True}"
      ]
     },
     "metadata": {},
     "output_type": "display_data"
    },
    {
     "data": {
      "text/plain": [
       "{'electionId': ObjectId('7fffffff0000000000000002'),\n",
       " 'n': 1,\n",
       " 'nModified': 1,\n",
       " 'ok': 1.0,\n",
       " 'opTime': {'t': 2, 'ts': Timestamp(1505749695, 1)},\n",
       " 'updatedExisting': True}"
      ]
     },
     "metadata": {},
     "output_type": "display_data"
    },
    {
     "data": {
      "text/plain": [
       "{'electionId': ObjectId('7fffffff0000000000000002'),\n",
       " 'n': 1,\n",
       " 'nModified': 1,\n",
       " 'ok': 1.0,\n",
       " 'opTime': {'t': 2, 'ts': Timestamp(1505749695, 2)},\n",
       " 'updatedExisting': True}"
      ]
     },
     "metadata": {},
     "output_type": "display_data"
    },
    {
     "data": {
      "text/plain": [
       "{'electionId': ObjectId('7fffffff0000000000000002'),\n",
       " 'n': 1,\n",
       " 'nModified': 1,\n",
       " 'ok': 1.0,\n",
       " 'opTime': {'t': 2, 'ts': Timestamp(1505749696, 1)},\n",
       " 'updatedExisting': True}"
      ]
     },
     "metadata": {},
     "output_type": "display_data"
    },
    {
     "data": {
      "text/plain": [
       "{'electionId': ObjectId('7fffffff0000000000000002'),\n",
       " 'n': 1,\n",
       " 'nModified': 1,\n",
       " 'ok': 1.0,\n",
       " 'opTime': {'t': 2, 'ts': Timestamp(1505749696, 2)},\n",
       " 'updatedExisting': True}"
      ]
     },
     "metadata": {},
     "output_type": "display_data"
    },
    {
     "data": {
      "text/plain": [
       "{'electionId': ObjectId('7fffffff0000000000000002'),\n",
       " 'n': 1,\n",
       " 'nModified': 1,\n",
       " 'ok': 1.0,\n",
       " 'opTime': {'t': 2, 'ts': Timestamp(1505749696, 3)},\n",
       " 'updatedExisting': True}"
      ]
     },
     "metadata": {},
     "output_type": "display_data"
    },
    {
     "data": {
      "text/plain": [
       "{'electionId': ObjectId('7fffffff0000000000000002'),\n",
       " 'n': 1,\n",
       " 'nModified': 1,\n",
       " 'ok': 1.0,\n",
       " 'opTime': {'t': 2, 'ts': Timestamp(1505749697, 1)},\n",
       " 'updatedExisting': True}"
      ]
     },
     "metadata": {},
     "output_type": "display_data"
    },
    {
     "data": {
      "text/plain": [
       "{'electionId': ObjectId('7fffffff0000000000000002'),\n",
       " 'n': 1,\n",
       " 'nModified': 1,\n",
       " 'ok': 1.0,\n",
       " 'opTime': {'t': 2, 'ts': Timestamp(1505749698, 1)},\n",
       " 'updatedExisting': True}"
      ]
     },
     "metadata": {},
     "output_type": "display_data"
    },
    {
     "data": {
      "text/plain": [
       "{'electionId': ObjectId('7fffffff0000000000000002'),\n",
       " 'n': 1,\n",
       " 'nModified': 1,\n",
       " 'ok': 1.0,\n",
       " 'opTime': {'t': 2, 'ts': Timestamp(1505749699, 1)},\n",
       " 'updatedExisting': True}"
      ]
     },
     "metadata": {},
     "output_type": "display_data"
    },
    {
     "data": {
      "text/plain": [
       "{'electionId': ObjectId('7fffffff0000000000000002'),\n",
       " 'n': 1,\n",
       " 'nModified': 1,\n",
       " 'ok': 1.0,\n",
       " 'opTime': {'t': 2, 'ts': Timestamp(1505749699, 2)},\n",
       " 'updatedExisting': True}"
      ]
     },
     "metadata": {},
     "output_type": "display_data"
    },
    {
     "data": {
      "text/plain": [
       "{'electionId': ObjectId('7fffffff0000000000000002'),\n",
       " 'n': 1,\n",
       " 'nModified': 1,\n",
       " 'ok': 1.0,\n",
       " 'opTime': {'t': 2, 'ts': Timestamp(1505749700, 1)},\n",
       " 'updatedExisting': True}"
      ]
     },
     "metadata": {},
     "output_type": "display_data"
    },
    {
     "data": {
      "text/plain": [
       "{'electionId': ObjectId('7fffffff0000000000000002'),\n",
       " 'n': 1,\n",
       " 'nModified': 1,\n",
       " 'ok': 1.0,\n",
       " 'opTime': {'t': 2, 'ts': Timestamp(1505749700, 2)},\n",
       " 'updatedExisting': True}"
      ]
     },
     "metadata": {},
     "output_type": "display_data"
    },
    {
     "data": {
      "text/plain": [
       "{'electionId': ObjectId('7fffffff0000000000000002'),\n",
       " 'n': 1,\n",
       " 'nModified': 1,\n",
       " 'ok': 1.0,\n",
       " 'opTime': {'t': 2, 'ts': Timestamp(1505749701, 1)},\n",
       " 'updatedExisting': True}"
      ]
     },
     "metadata": {},
     "output_type": "display_data"
    },
    {
     "data": {
      "text/plain": [
       "{'electionId': ObjectId('7fffffff0000000000000002'),\n",
       " 'n': 1,\n",
       " 'nModified': 1,\n",
       " 'ok': 1.0,\n",
       " 'opTime': {'t': 2, 'ts': Timestamp(1505749701, 2)},\n",
       " 'updatedExisting': True}"
      ]
     },
     "metadata": {},
     "output_type": "display_data"
    },
    {
     "data": {
      "text/plain": [
       "{'electionId': ObjectId('7fffffff0000000000000002'),\n",
       " 'n': 1,\n",
       " 'nModified': 1,\n",
       " 'ok': 1.0,\n",
       " 'opTime': {'t': 2, 'ts': Timestamp(1505749701, 3)},\n",
       " 'updatedExisting': True}"
      ]
     },
     "metadata": {},
     "output_type": "display_data"
    },
    {
     "data": {
      "text/plain": [
       "{'electionId': ObjectId('7fffffff0000000000000002'),\n",
       " 'n': 1,\n",
       " 'nModified': 1,\n",
       " 'ok': 1.0,\n",
       " 'opTime': {'t': 2, 'ts': Timestamp(1505749702, 1)},\n",
       " 'updatedExisting': True}"
      ]
     },
     "metadata": {},
     "output_type": "display_data"
    },
    {
     "data": {
      "text/plain": [
       "{'electionId': ObjectId('7fffffff0000000000000002'),\n",
       " 'n': 1,\n",
       " 'nModified': 1,\n",
       " 'ok': 1.0,\n",
       " 'opTime': {'t': 2, 'ts': Timestamp(1505749702, 2)},\n",
       " 'updatedExisting': True}"
      ]
     },
     "metadata": {},
     "output_type": "display_data"
    },
    {
     "data": {
      "text/plain": [
       "{'electionId': ObjectId('7fffffff0000000000000002'),\n",
       " 'n': 1,\n",
       " 'nModified': 1,\n",
       " 'ok': 1.0,\n",
       " 'opTime': {'t': 2, 'ts': Timestamp(1505749703, 1)},\n",
       " 'updatedExisting': True}"
      ]
     },
     "metadata": {},
     "output_type": "display_data"
    },
    {
     "data": {
      "text/plain": [
       "{'electionId': ObjectId('7fffffff0000000000000002'),\n",
       " 'n': 1,\n",
       " 'nModified': 1,\n",
       " 'ok': 1.0,\n",
       " 'opTime': {'t': 2, 'ts': Timestamp(1505749704, 1)},\n",
       " 'updatedExisting': True}"
      ]
     },
     "metadata": {},
     "output_type": "display_data"
    },
    {
     "data": {
      "text/plain": [
       "{'electionId': ObjectId('7fffffff0000000000000002'),\n",
       " 'n': 1,\n",
       " 'nModified': 1,\n",
       " 'ok': 1.0,\n",
       " 'opTime': {'t': 2, 'ts': Timestamp(1505749704, 2)},\n",
       " 'updatedExisting': True}"
      ]
     },
     "metadata": {},
     "output_type": "display_data"
    },
    {
     "data": {
      "text/plain": [
       "{'electionId': ObjectId('7fffffff0000000000000002'),\n",
       " 'n': 1,\n",
       " 'nModified': 1,\n",
       " 'ok': 1.0,\n",
       " 'opTime': {'t': 2, 'ts': Timestamp(1505749704, 3)},\n",
       " 'updatedExisting': True}"
      ]
     },
     "metadata": {},
     "output_type": "display_data"
    },
    {
     "data": {
      "text/plain": [
       "{'electionId': ObjectId('7fffffff0000000000000002'),\n",
       " 'n': 1,\n",
       " 'nModified': 1,\n",
       " 'ok': 1.0,\n",
       " 'opTime': {'t': 2, 'ts': Timestamp(1505749705, 1)},\n",
       " 'updatedExisting': True}"
      ]
     },
     "metadata": {},
     "output_type": "display_data"
    },
    {
     "data": {
      "text/plain": [
       "{'electionId': ObjectId('7fffffff0000000000000002'),\n",
       " 'n': 1,\n",
       " 'nModified': 1,\n",
       " 'ok': 1.0,\n",
       " 'opTime': {'t': 2, 'ts': Timestamp(1505749705, 2)},\n",
       " 'updatedExisting': True}"
      ]
     },
     "metadata": {},
     "output_type": "display_data"
    },
    {
     "data": {
      "text/plain": [
       "{'electionId': ObjectId('7fffffff0000000000000002'),\n",
       " 'n': 1,\n",
       " 'nModified': 1,\n",
       " 'ok': 1.0,\n",
       " 'opTime': {'t': 2, 'ts': Timestamp(1505749706, 1)},\n",
       " 'updatedExisting': True}"
      ]
     },
     "metadata": {},
     "output_type": "display_data"
    },
    {
     "data": {
      "text/plain": [
       "{'electionId': ObjectId('7fffffff0000000000000002'),\n",
       " 'n': 1,\n",
       " 'nModified': 1,\n",
       " 'ok': 1.0,\n",
       " 'opTime': {'t': 2, 'ts': Timestamp(1505749706, 2)},\n",
       " 'updatedExisting': True}"
      ]
     },
     "metadata": {},
     "output_type": "display_data"
    },
    {
     "data": {
      "text/plain": [
       "{'electionId': ObjectId('7fffffff0000000000000002'),\n",
       " 'n': 1,\n",
       " 'nModified': 1,\n",
       " 'ok': 1.0,\n",
       " 'opTime': {'t': 2, 'ts': Timestamp(1505749707, 1)},\n",
       " 'updatedExisting': True}"
      ]
     },
     "metadata": {},
     "output_type": "display_data"
    },
    {
     "data": {
      "text/plain": [
       "{'electionId': ObjectId('7fffffff0000000000000002'),\n",
       " 'n': 1,\n",
       " 'nModified': 1,\n",
       " 'ok': 1.0,\n",
       " 'opTime': {'t': 2, 'ts': Timestamp(1505749707, 2)},\n",
       " 'updatedExisting': True}"
      ]
     },
     "metadata": {},
     "output_type": "display_data"
    },
    {
     "data": {
      "text/plain": [
       "{'electionId': ObjectId('7fffffff0000000000000002'),\n",
       " 'n': 1,\n",
       " 'nModified': 1,\n",
       " 'ok': 1.0,\n",
       " 'opTime': {'t': 2, 'ts': Timestamp(1505749708, 1)},\n",
       " 'updatedExisting': True}"
      ]
     },
     "metadata": {},
     "output_type": "display_data"
    },
    {
     "data": {
      "text/plain": [
       "{'electionId': ObjectId('7fffffff0000000000000002'),\n",
       " 'n': 1,\n",
       " 'nModified': 1,\n",
       " 'ok': 1.0,\n",
       " 'opTime': {'t': 2, 'ts': Timestamp(1505749708, 2)},\n",
       " 'updatedExisting': True}"
      ]
     },
     "metadata": {},
     "output_type": "display_data"
    },
    {
     "data": {
      "text/plain": [
       "{'electionId': ObjectId('7fffffff0000000000000002'),\n",
       " 'n': 1,\n",
       " 'nModified': 1,\n",
       " 'ok': 1.0,\n",
       " 'opTime': {'t': 2, 'ts': Timestamp(1505749709, 1)},\n",
       " 'updatedExisting': True}"
      ]
     },
     "metadata": {},
     "output_type": "display_data"
    },
    {
     "data": {
      "text/plain": [
       "{'electionId': ObjectId('7fffffff0000000000000002'),\n",
       " 'n': 1,\n",
       " 'nModified': 1,\n",
       " 'ok': 1.0,\n",
       " 'opTime': {'t': 2, 'ts': Timestamp(1505749709, 2)},\n",
       " 'updatedExisting': True}"
      ]
     },
     "metadata": {},
     "output_type": "display_data"
    },
    {
     "data": {
      "text/plain": [
       "{'electionId': ObjectId('7fffffff0000000000000002'),\n",
       " 'n': 1,\n",
       " 'nModified': 1,\n",
       " 'ok': 1.0,\n",
       " 'opTime': {'t': 2, 'ts': Timestamp(1505749710, 1)},\n",
       " 'updatedExisting': True}"
      ]
     },
     "metadata": {},
     "output_type": "display_data"
    },
    {
     "data": {
      "text/plain": [
       "{'electionId': ObjectId('7fffffff0000000000000002'),\n",
       " 'n': 1,\n",
       " 'nModified': 1,\n",
       " 'ok': 1.0,\n",
       " 'opTime': {'t': 2, 'ts': Timestamp(1505749710, 2)},\n",
       " 'updatedExisting': True}"
      ]
     },
     "metadata": {},
     "output_type": "display_data"
    },
    {
     "data": {
      "text/plain": [
       "{'electionId': ObjectId('7fffffff0000000000000002'),\n",
       " 'n': 1,\n",
       " 'nModified': 1,\n",
       " 'ok': 1.0,\n",
       " 'opTime': {'t': 2, 'ts': Timestamp(1505749711, 1)},\n",
       " 'updatedExisting': True}"
      ]
     },
     "metadata": {},
     "output_type": "display_data"
    },
    {
     "data": {
      "text/plain": [
       "{'electionId': ObjectId('7fffffff0000000000000002'),\n",
       " 'n': 1,\n",
       " 'nModified': 1,\n",
       " 'ok': 1.0,\n",
       " 'opTime': {'t': 2, 'ts': Timestamp(1505749712, 1)},\n",
       " 'updatedExisting': True}"
      ]
     },
     "metadata": {},
     "output_type": "display_data"
    },
    {
     "data": {
      "text/plain": [
       "{'electionId': ObjectId('7fffffff0000000000000002'),\n",
       " 'n': 1,\n",
       " 'nModified': 1,\n",
       " 'ok': 1.0,\n",
       " 'opTime': {'t': 2, 'ts': Timestamp(1505749713, 1)},\n",
       " 'updatedExisting': True}"
      ]
     },
     "metadata": {},
     "output_type": "display_data"
    },
    {
     "data": {
      "text/plain": [
       "{'electionId': ObjectId('7fffffff0000000000000002'),\n",
       " 'n': 1,\n",
       " 'nModified': 1,\n",
       " 'ok': 1.0,\n",
       " 'opTime': {'t': 2, 'ts': Timestamp(1505749713, 2)},\n",
       " 'updatedExisting': True}"
      ]
     },
     "metadata": {},
     "output_type": "display_data"
    },
    {
     "data": {
      "text/plain": [
       "{'electionId': ObjectId('7fffffff0000000000000002'),\n",
       " 'n': 1,\n",
       " 'nModified': 1,\n",
       " 'ok': 1.0,\n",
       " 'opTime': {'t': 2, 'ts': Timestamp(1505749713, 3)},\n",
       " 'updatedExisting': True}"
      ]
     },
     "metadata": {},
     "output_type": "display_data"
    },
    {
     "data": {
      "text/plain": [
       "{'electionId': ObjectId('7fffffff0000000000000002'),\n",
       " 'n': 1,\n",
       " 'nModified': 1,\n",
       " 'ok': 1.0,\n",
       " 'opTime': {'t': 2, 'ts': Timestamp(1505749713, 4)},\n",
       " 'updatedExisting': True}"
      ]
     },
     "metadata": {},
     "output_type": "display_data"
    },
    {
     "data": {
      "text/plain": [
       "{'electionId': ObjectId('7fffffff0000000000000002'),\n",
       " 'n': 1,\n",
       " 'nModified': 1,\n",
       " 'ok': 1.0,\n",
       " 'opTime': {'t': 2, 'ts': Timestamp(1505749714, 1)},\n",
       " 'updatedExisting': True}"
      ]
     },
     "metadata": {},
     "output_type": "display_data"
    },
    {
     "data": {
      "text/plain": [
       "{'electionId': ObjectId('7fffffff0000000000000002'),\n",
       " 'n': 1,\n",
       " 'nModified': 1,\n",
       " 'ok': 1.0,\n",
       " 'opTime': {'t': 2, 'ts': Timestamp(1505749714, 2)},\n",
       " 'updatedExisting': True}"
      ]
     },
     "metadata": {},
     "output_type": "display_data"
    },
    {
     "data": {
      "text/plain": [
       "{'electionId': ObjectId('7fffffff0000000000000002'),\n",
       " 'n': 1,\n",
       " 'nModified': 1,\n",
       " 'ok': 1.0,\n",
       " 'opTime': {'t': 2, 'ts': Timestamp(1505749715, 1)},\n",
       " 'updatedExisting': True}"
      ]
     },
     "metadata": {},
     "output_type": "display_data"
    },
    {
     "data": {
      "text/plain": [
       "{'electionId': ObjectId('7fffffff0000000000000002'),\n",
       " 'n': 1,\n",
       " 'nModified': 1,\n",
       " 'ok': 1.0,\n",
       " 'opTime': {'t': 2, 'ts': Timestamp(1505749715, 2)},\n",
       " 'updatedExisting': True}"
      ]
     },
     "metadata": {},
     "output_type": "display_data"
    },
    {
     "data": {
      "text/plain": [
       "{'electionId': ObjectId('7fffffff0000000000000002'),\n",
       " 'n': 1,\n",
       " 'nModified': 1,\n",
       " 'ok': 1.0,\n",
       " 'opTime': {'t': 2, 'ts': Timestamp(1505749716, 1)},\n",
       " 'updatedExisting': True}"
      ]
     },
     "metadata": {},
     "output_type": "display_data"
    },
    {
     "data": {
      "text/plain": [
       "{'electionId': ObjectId('7fffffff0000000000000002'),\n",
       " 'n': 1,\n",
       " 'nModified': 1,\n",
       " 'ok': 1.0,\n",
       " 'opTime': {'t': 2, 'ts': Timestamp(1505749716, 3)},\n",
       " 'updatedExisting': True}"
      ]
     },
     "metadata": {},
     "output_type": "display_data"
    },
    {
     "data": {
      "text/plain": [
       "{'electionId': ObjectId('7fffffff0000000000000002'),\n",
       " 'n': 1,\n",
       " 'nModified': 1,\n",
       " 'ok': 1.0,\n",
       " 'opTime': {'t': 2, 'ts': Timestamp(1505749716, 4)},\n",
       " 'updatedExisting': True}"
      ]
     },
     "metadata": {},
     "output_type": "display_data"
    },
    {
     "data": {
      "text/plain": [
       "{'electionId': ObjectId('7fffffff0000000000000002'),\n",
       " 'n': 1,\n",
       " 'nModified': 1,\n",
       " 'ok': 1.0,\n",
       " 'opTime': {'t': 2, 'ts': Timestamp(1505749717, 1)},\n",
       " 'updatedExisting': True}"
      ]
     },
     "metadata": {},
     "output_type": "display_data"
    },
    {
     "data": {
      "text/plain": [
       "{'electionId': ObjectId('7fffffff0000000000000002'),\n",
       " 'n': 1,\n",
       " 'nModified': 1,\n",
       " 'ok': 1.0,\n",
       " 'opTime': {'t': 2, 'ts': Timestamp(1505749717, 2)},\n",
       " 'updatedExisting': True}"
      ]
     },
     "metadata": {},
     "output_type": "display_data"
    },
    {
     "data": {
      "text/plain": [
       "{'electionId': ObjectId('7fffffff0000000000000002'),\n",
       " 'n': 1,\n",
       " 'nModified': 1,\n",
       " 'ok': 1.0,\n",
       " 'opTime': {'t': 2, 'ts': Timestamp(1505749718, 1)},\n",
       " 'updatedExisting': True}"
      ]
     },
     "metadata": {},
     "output_type": "display_data"
    },
    {
     "data": {
      "text/plain": [
       "{'electionId': ObjectId('7fffffff0000000000000002'),\n",
       " 'n': 1,\n",
       " 'nModified': 1,\n",
       " 'ok': 1.0,\n",
       " 'opTime': {'t': 2, 'ts': Timestamp(1505749718, 2)},\n",
       " 'updatedExisting': True}"
      ]
     },
     "metadata": {},
     "output_type": "display_data"
    },
    {
     "data": {
      "text/plain": [
       "{'electionId': ObjectId('7fffffff0000000000000002'),\n",
       " 'n': 1,\n",
       " 'nModified': 1,\n",
       " 'ok': 1.0,\n",
       " 'opTime': {'t': 2, 'ts': Timestamp(1505749719, 1)},\n",
       " 'updatedExisting': True}"
      ]
     },
     "metadata": {},
     "output_type": "display_data"
    },
    {
     "data": {
      "text/plain": [
       "{'electionId': ObjectId('7fffffff0000000000000002'),\n",
       " 'n': 1,\n",
       " 'nModified': 1,\n",
       " 'ok': 1.0,\n",
       " 'opTime': {'t': 2, 'ts': Timestamp(1505749719, 2)},\n",
       " 'updatedExisting': True}"
      ]
     },
     "metadata": {},
     "output_type": "display_data"
    },
    {
     "data": {
      "text/plain": [
       "{'electionId': ObjectId('7fffffff0000000000000002'),\n",
       " 'n': 1,\n",
       " 'nModified': 1,\n",
       " 'ok': 1.0,\n",
       " 'opTime': {'t': 2, 'ts': Timestamp(1505749720, 1)},\n",
       " 'updatedExisting': True}"
      ]
     },
     "metadata": {},
     "output_type": "display_data"
    },
    {
     "data": {
      "text/plain": [
       "{'electionId': ObjectId('7fffffff0000000000000002'),\n",
       " 'n': 1,\n",
       " 'nModified': 1,\n",
       " 'ok': 1.0,\n",
       " 'opTime': {'t': 2, 'ts': Timestamp(1505749720, 2)},\n",
       " 'updatedExisting': True}"
      ]
     },
     "metadata": {},
     "output_type": "display_data"
    },
    {
     "data": {
      "text/plain": [
       "{'electionId': ObjectId('7fffffff0000000000000002'),\n",
       " 'n': 1,\n",
       " 'nModified': 1,\n",
       " 'ok': 1.0,\n",
       " 'opTime': {'t': 2, 'ts': Timestamp(1505749721, 1)},\n",
       " 'updatedExisting': True}"
      ]
     },
     "metadata": {},
     "output_type": "display_data"
    },
    {
     "data": {
      "text/plain": [
       "{'electionId': ObjectId('7fffffff0000000000000002'),\n",
       " 'n': 1,\n",
       " 'nModified': 1,\n",
       " 'ok': 1.0,\n",
       " 'opTime': {'t': 2, 'ts': Timestamp(1505749721, 2)},\n",
       " 'updatedExisting': True}"
      ]
     },
     "metadata": {},
     "output_type": "display_data"
    },
    {
     "data": {
      "text/plain": [
       "{'electionId': ObjectId('7fffffff0000000000000002'),\n",
       " 'n': 1,\n",
       " 'nModified': 1,\n",
       " 'ok': 1.0,\n",
       " 'opTime': {'t': 2, 'ts': Timestamp(1505749722, 1)},\n",
       " 'updatedExisting': True}"
      ]
     },
     "metadata": {},
     "output_type": "display_data"
    },
    {
     "data": {
      "text/plain": [
       "{'electionId': ObjectId('7fffffff0000000000000002'),\n",
       " 'n': 1,\n",
       " 'nModified': 1,\n",
       " 'ok': 1.0,\n",
       " 'opTime': {'t': 2, 'ts': Timestamp(1505749722, 2)},\n",
       " 'updatedExisting': True}"
      ]
     },
     "metadata": {},
     "output_type": "display_data"
    },
    {
     "data": {
      "text/plain": [
       "{'electionId': ObjectId('7fffffff0000000000000002'),\n",
       " 'n': 1,\n",
       " 'nModified': 1,\n",
       " 'ok': 1.0,\n",
       " 'opTime': {'t': 2, 'ts': Timestamp(1505749723, 1)},\n",
       " 'updatedExisting': True}"
      ]
     },
     "metadata": {},
     "output_type": "display_data"
    },
    {
     "data": {
      "text/plain": [
       "{'electionId': ObjectId('7fffffff0000000000000002'),\n",
       " 'n': 1,\n",
       " 'nModified': 1,\n",
       " 'ok': 1.0,\n",
       " 'opTime': {'t': 2, 'ts': Timestamp(1505749723, 2)},\n",
       " 'updatedExisting': True}"
      ]
     },
     "metadata": {},
     "output_type": "display_data"
    },
    {
     "data": {
      "text/plain": [
       "{'electionId': ObjectId('7fffffff0000000000000002'),\n",
       " 'n': 1,\n",
       " 'nModified': 1,\n",
       " 'ok': 1.0,\n",
       " 'opTime': {'t': 2, 'ts': Timestamp(1505749724, 1)},\n",
       " 'updatedExisting': True}"
      ]
     },
     "metadata": {},
     "output_type": "display_data"
    },
    {
     "data": {
      "text/plain": [
       "{'electionId': ObjectId('7fffffff0000000000000002'),\n",
       " 'n': 1,\n",
       " 'nModified': 1,\n",
       " 'ok': 1.0,\n",
       " 'opTime': {'t': 2, 'ts': Timestamp(1505749724, 2)},\n",
       " 'updatedExisting': True}"
      ]
     },
     "metadata": {},
     "output_type": "display_data"
    },
    {
     "data": {
      "text/plain": [
       "{'electionId': ObjectId('7fffffff0000000000000002'),\n",
       " 'n': 1,\n",
       " 'nModified': 1,\n",
       " 'ok': 1.0,\n",
       " 'opTime': {'t': 2, 'ts': Timestamp(1505749725, 1)},\n",
       " 'updatedExisting': True}"
      ]
     },
     "metadata": {},
     "output_type": "display_data"
    },
    {
     "data": {
      "text/plain": [
       "{'electionId': ObjectId('7fffffff0000000000000002'),\n",
       " 'n': 1,\n",
       " 'nModified': 1,\n",
       " 'ok': 1.0,\n",
       " 'opTime': {'t': 2, 'ts': Timestamp(1505749725, 2)},\n",
       " 'updatedExisting': True}"
      ]
     },
     "metadata": {},
     "output_type": "display_data"
    },
    {
     "data": {
      "text/plain": [
       "{'electionId': ObjectId('7fffffff0000000000000002'),\n",
       " 'n': 1,\n",
       " 'nModified': 1,\n",
       " 'ok': 1.0,\n",
       " 'opTime': {'t': 2, 'ts': Timestamp(1505749726, 1)},\n",
       " 'updatedExisting': True}"
      ]
     },
     "metadata": {},
     "output_type": "display_data"
    },
    {
     "data": {
      "text/plain": [
       "{'electionId': ObjectId('7fffffff0000000000000002'),\n",
       " 'n': 1,\n",
       " 'nModified': 1,\n",
       " 'ok': 1.0,\n",
       " 'opTime': {'t': 2, 'ts': Timestamp(1505749726, 2)},\n",
       " 'updatedExisting': True}"
      ]
     },
     "metadata": {},
     "output_type": "display_data"
    },
    {
     "data": {
      "text/plain": [
       "{'electionId': ObjectId('7fffffff0000000000000002'),\n",
       " 'n': 1,\n",
       " 'nModified': 1,\n",
       " 'ok': 1.0,\n",
       " 'opTime': {'t': 2, 'ts': Timestamp(1505749727, 1)},\n",
       " 'updatedExisting': True}"
      ]
     },
     "metadata": {},
     "output_type": "display_data"
    },
    {
     "data": {
      "text/plain": [
       "{'electionId': ObjectId('7fffffff0000000000000002'),\n",
       " 'n': 1,\n",
       " 'nModified': 1,\n",
       " 'ok': 1.0,\n",
       " 'opTime': {'t': 2, 'ts': Timestamp(1505749727, 2)},\n",
       " 'updatedExisting': True}"
      ]
     },
     "metadata": {},
     "output_type": "display_data"
    },
    {
     "data": {
      "text/plain": [
       "{'electionId': ObjectId('7fffffff0000000000000002'),\n",
       " 'n': 1,\n",
       " 'nModified': 1,\n",
       " 'ok': 1.0,\n",
       " 'opTime': {'t': 2, 'ts': Timestamp(1505749728, 1)},\n",
       " 'updatedExisting': True}"
      ]
     },
     "metadata": {},
     "output_type": "display_data"
    },
    {
     "data": {
      "text/plain": [
       "{'electionId': ObjectId('7fffffff0000000000000002'),\n",
       " 'n': 1,\n",
       " 'nModified': 1,\n",
       " 'ok': 1.0,\n",
       " 'opTime': {'t': 2, 'ts': Timestamp(1505749728, 2)},\n",
       " 'updatedExisting': True}"
      ]
     },
     "metadata": {},
     "output_type": "display_data"
    },
    {
     "data": {
      "text/plain": [
       "{'electionId': ObjectId('7fffffff0000000000000002'),\n",
       " 'n': 1,\n",
       " 'nModified': 1,\n",
       " 'ok': 1.0,\n",
       " 'opTime': {'t': 2, 'ts': Timestamp(1505749729, 1)},\n",
       " 'updatedExisting': True}"
      ]
     },
     "metadata": {},
     "output_type": "display_data"
    },
    {
     "data": {
      "text/plain": [
       "{'electionId': ObjectId('7fffffff0000000000000002'),\n",
       " 'n': 1,\n",
       " 'nModified': 1,\n",
       " 'ok': 1.0,\n",
       " 'opTime': {'t': 2, 'ts': Timestamp(1505749729, 2)},\n",
       " 'updatedExisting': True}"
      ]
     },
     "metadata": {},
     "output_type": "display_data"
    },
    {
     "data": {
      "text/plain": [
       "{'electionId': ObjectId('7fffffff0000000000000002'),\n",
       " 'n': 1,\n",
       " 'nModified': 1,\n",
       " 'ok': 1.0,\n",
       " 'opTime': {'t': 2, 'ts': Timestamp(1505749730, 1)},\n",
       " 'updatedExisting': True}"
      ]
     },
     "metadata": {},
     "output_type": "display_data"
    },
    {
     "data": {
      "text/plain": [
       "{'electionId': ObjectId('7fffffff0000000000000002'),\n",
       " 'n': 1,\n",
       " 'nModified': 1,\n",
       " 'ok': 1.0,\n",
       " 'opTime': {'t': 2, 'ts': Timestamp(1505749730, 2)},\n",
       " 'updatedExisting': True}"
      ]
     },
     "metadata": {},
     "output_type": "display_data"
    },
    {
     "data": {
      "text/plain": [
       "{'electionId': ObjectId('7fffffff0000000000000002'),\n",
       " 'n': 1,\n",
       " 'nModified': 1,\n",
       " 'ok': 1.0,\n",
       " 'opTime': {'t': 2, 'ts': Timestamp(1505749731, 1)},\n",
       " 'updatedExisting': True}"
      ]
     },
     "metadata": {},
     "output_type": "display_data"
    },
    {
     "data": {
      "text/plain": [
       "{'electionId': ObjectId('7fffffff0000000000000002'),\n",
       " 'n': 1,\n",
       " 'nModified': 1,\n",
       " 'ok': 1.0,\n",
       " 'opTime': {'t': 2, 'ts': Timestamp(1505749731, 2)},\n",
       " 'updatedExisting': True}"
      ]
     },
     "metadata": {},
     "output_type": "display_data"
    },
    {
     "data": {
      "text/plain": [
       "{'electionId': ObjectId('7fffffff0000000000000002'),\n",
       " 'n': 1,\n",
       " 'nModified': 1,\n",
       " 'ok': 1.0,\n",
       " 'opTime': {'t': 2, 'ts': Timestamp(1505749731, 3)},\n",
       " 'updatedExisting': True}"
      ]
     },
     "metadata": {},
     "output_type": "display_data"
    },
    {
     "data": {
      "text/plain": [
       "{'electionId': ObjectId('7fffffff0000000000000002'),\n",
       " 'n': 1,\n",
       " 'nModified': 1,\n",
       " 'ok': 1.0,\n",
       " 'opTime': {'t': 2, 'ts': Timestamp(1505749732, 1)},\n",
       " 'updatedExisting': True}"
      ]
     },
     "metadata": {},
     "output_type": "display_data"
    },
    {
     "data": {
      "text/plain": [
       "{'electionId': ObjectId('7fffffff0000000000000002'),\n",
       " 'n': 1,\n",
       " 'nModified': 1,\n",
       " 'ok': 1.0,\n",
       " 'opTime': {'t': 2, 'ts': Timestamp(1505749733, 1)},\n",
       " 'updatedExisting': True}"
      ]
     },
     "metadata": {},
     "output_type": "display_data"
    },
    {
     "data": {
      "text/plain": [
       "{'electionId': ObjectId('7fffffff0000000000000002'),\n",
       " 'n': 1,\n",
       " 'nModified': 1,\n",
       " 'ok': 1.0,\n",
       " 'opTime': {'t': 2, 'ts': Timestamp(1505749733, 2)},\n",
       " 'updatedExisting': True}"
      ]
     },
     "metadata": {},
     "output_type": "display_data"
    },
    {
     "data": {
      "text/plain": [
       "{'electionId': ObjectId('7fffffff0000000000000002'),\n",
       " 'n': 1,\n",
       " 'nModified': 1,\n",
       " 'ok': 1.0,\n",
       " 'opTime': {'t': 2, 'ts': Timestamp(1505749733, 3)},\n",
       " 'updatedExisting': True}"
      ]
     },
     "metadata": {},
     "output_type": "display_data"
    },
    {
     "data": {
      "text/plain": [
       "{'electionId': ObjectId('7fffffff0000000000000002'),\n",
       " 'n': 1,\n",
       " 'nModified': 1,\n",
       " 'ok': 1.0,\n",
       " 'opTime': {'t': 2, 'ts': Timestamp(1505749734, 1)},\n",
       " 'updatedExisting': True}"
      ]
     },
     "metadata": {},
     "output_type": "display_data"
    },
    {
     "data": {
      "text/plain": [
       "{'electionId': ObjectId('7fffffff0000000000000002'),\n",
       " 'n': 1,\n",
       " 'nModified': 1,\n",
       " 'ok': 1.0,\n",
       " 'opTime': {'t': 2, 'ts': Timestamp(1505749734, 2)},\n",
       " 'updatedExisting': True}"
      ]
     },
     "metadata": {},
     "output_type": "display_data"
    },
    {
     "data": {
      "text/plain": [
       "{'electionId': ObjectId('7fffffff0000000000000002'),\n",
       " 'n': 1,\n",
       " 'nModified': 1,\n",
       " 'ok': 1.0,\n",
       " 'opTime': {'t': 2, 'ts': Timestamp(1505749734, 3)},\n",
       " 'updatedExisting': True}"
      ]
     },
     "metadata": {},
     "output_type": "display_data"
    },
    {
     "data": {
      "text/plain": [
       "{'electionId': ObjectId('7fffffff0000000000000002'),\n",
       " 'n': 1,\n",
       " 'nModified': 1,\n",
       " 'ok': 1.0,\n",
       " 'opTime': {'t': 2, 'ts': Timestamp(1505749735, 1)},\n",
       " 'updatedExisting': True}"
      ]
     },
     "metadata": {},
     "output_type": "display_data"
    },
    {
     "data": {
      "text/plain": [
       "{'electionId': ObjectId('7fffffff0000000000000002'),\n",
       " 'n': 1,\n",
       " 'nModified': 1,\n",
       " 'ok': 1.0,\n",
       " 'opTime': {'t': 2, 'ts': Timestamp(1505749735, 2)},\n",
       " 'updatedExisting': True}"
      ]
     },
     "metadata": {},
     "output_type": "display_data"
    },
    {
     "data": {
      "text/plain": [
       "{'electionId': ObjectId('7fffffff0000000000000002'),\n",
       " 'n': 1,\n",
       " 'nModified': 1,\n",
       " 'ok': 1.0,\n",
       " 'opTime': {'t': 2, 'ts': Timestamp(1505749736, 1)},\n",
       " 'updatedExisting': True}"
      ]
     },
     "metadata": {},
     "output_type": "display_data"
    },
    {
     "data": {
      "text/plain": [
       "{'electionId': ObjectId('7fffffff0000000000000002'),\n",
       " 'n': 1,\n",
       " 'nModified': 1,\n",
       " 'ok': 1.0,\n",
       " 'opTime': {'t': 2, 'ts': Timestamp(1505749736, 2)},\n",
       " 'updatedExisting': True}"
      ]
     },
     "metadata": {},
     "output_type": "display_data"
    },
    {
     "data": {
      "text/plain": [
       "{'electionId': ObjectId('7fffffff0000000000000002'),\n",
       " 'n': 1,\n",
       " 'nModified': 1,\n",
       " 'ok': 1.0,\n",
       " 'opTime': {'t': 2, 'ts': Timestamp(1505749736, 3)},\n",
       " 'updatedExisting': True}"
      ]
     },
     "metadata": {},
     "output_type": "display_data"
    },
    {
     "data": {
      "text/plain": [
       "{'electionId': ObjectId('7fffffff0000000000000002'),\n",
       " 'n': 1,\n",
       " 'nModified': 1,\n",
       " 'ok': 1.0,\n",
       " 'opTime': {'t': 2, 'ts': Timestamp(1505749737, 1)},\n",
       " 'updatedExisting': True}"
      ]
     },
     "metadata": {},
     "output_type": "display_data"
    },
    {
     "data": {
      "text/plain": [
       "{'electionId': ObjectId('7fffffff0000000000000002'),\n",
       " 'n': 1,\n",
       " 'nModified': 1,\n",
       " 'ok': 1.0,\n",
       " 'opTime': {'t': 2, 'ts': Timestamp(1505749737, 2)},\n",
       " 'updatedExisting': True}"
      ]
     },
     "metadata": {},
     "output_type": "display_data"
    },
    {
     "data": {
      "text/plain": [
       "{'electionId': ObjectId('7fffffff0000000000000002'),\n",
       " 'n': 1,\n",
       " 'nModified': 1,\n",
       " 'ok': 1.0,\n",
       " 'opTime': {'t': 2, 'ts': Timestamp(1505749737, 3)},\n",
       " 'updatedExisting': True}"
      ]
     },
     "metadata": {},
     "output_type": "display_data"
    },
    {
     "data": {
      "text/plain": [
       "{'electionId': ObjectId('7fffffff0000000000000002'),\n",
       " 'n': 1,\n",
       " 'nModified': 1,\n",
       " 'ok': 1.0,\n",
       " 'opTime': {'t': 2, 'ts': Timestamp(1505749738, 1)},\n",
       " 'updatedExisting': True}"
      ]
     },
     "metadata": {},
     "output_type": "display_data"
    },
    {
     "data": {
      "text/plain": [
       "{'electionId': ObjectId('7fffffff0000000000000002'),\n",
       " 'n': 1,\n",
       " 'nModified': 1,\n",
       " 'ok': 1.0,\n",
       " 'opTime': {'t': 2, 'ts': Timestamp(1505749738, 2)},\n",
       " 'updatedExisting': True}"
      ]
     },
     "metadata": {},
     "output_type": "display_data"
    },
    {
     "data": {
      "text/plain": [
       "{'electionId': ObjectId('7fffffff0000000000000002'),\n",
       " 'n': 1,\n",
       " 'nModified': 1,\n",
       " 'ok': 1.0,\n",
       " 'opTime': {'t': 2, 'ts': Timestamp(1505749738, 3)},\n",
       " 'updatedExisting': True}"
      ]
     },
     "metadata": {},
     "output_type": "display_data"
    },
    {
     "data": {
      "text/plain": [
       "{'electionId': ObjectId('7fffffff0000000000000002'),\n",
       " 'n': 1,\n",
       " 'nModified': 1,\n",
       " 'ok': 1.0,\n",
       " 'opTime': {'t': 2, 'ts': Timestamp(1505749739, 1)},\n",
       " 'updatedExisting': True}"
      ]
     },
     "metadata": {},
     "output_type": "display_data"
    },
    {
     "data": {
      "text/plain": [
       "{'electionId': ObjectId('7fffffff0000000000000002'),\n",
       " 'n': 1,\n",
       " 'nModified': 1,\n",
       " 'ok': 1.0,\n",
       " 'opTime': {'t': 2, 'ts': Timestamp(1505749739, 2)},\n",
       " 'updatedExisting': True}"
      ]
     },
     "metadata": {},
     "output_type": "display_data"
    },
    {
     "data": {
      "text/plain": [
       "{'electionId': ObjectId('7fffffff0000000000000002'),\n",
       " 'n': 1,\n",
       " 'nModified': 1,\n",
       " 'ok': 1.0,\n",
       " 'opTime': {'t': 2, 'ts': Timestamp(1505749740, 1)},\n",
       " 'updatedExisting': True}"
      ]
     },
     "metadata": {},
     "output_type": "display_data"
    },
    {
     "data": {
      "text/plain": [
       "{'electionId': ObjectId('7fffffff0000000000000002'),\n",
       " 'n': 1,\n",
       " 'nModified': 1,\n",
       " 'ok': 1.0,\n",
       " 'opTime': {'t': 2, 'ts': Timestamp(1505749740, 2)},\n",
       " 'updatedExisting': True}"
      ]
     },
     "metadata": {},
     "output_type": "display_data"
    },
    {
     "data": {
      "text/plain": [
       "{'electionId': ObjectId('7fffffff0000000000000002'),\n",
       " 'n': 1,\n",
       " 'nModified': 1,\n",
       " 'ok': 1.0,\n",
       " 'opTime': {'t': 2, 'ts': Timestamp(1505749741, 1)},\n",
       " 'updatedExisting': True}"
      ]
     },
     "metadata": {},
     "output_type": "display_data"
    },
    {
     "data": {
      "text/plain": [
       "{'electionId': ObjectId('7fffffff0000000000000002'),\n",
       " 'n': 1,\n",
       " 'nModified': 1,\n",
       " 'ok': 1.0,\n",
       " 'opTime': {'t': 2, 'ts': Timestamp(1505749742, 1)},\n",
       " 'updatedExisting': True}"
      ]
     },
     "metadata": {},
     "output_type": "display_data"
    },
    {
     "data": {
      "text/plain": [
       "{'electionId': ObjectId('7fffffff0000000000000002'),\n",
       " 'n': 1,\n",
       " 'nModified': 1,\n",
       " 'ok': 1.0,\n",
       " 'opTime': {'t': 2, 'ts': Timestamp(1505749742, 2)},\n",
       " 'updatedExisting': True}"
      ]
     },
     "metadata": {},
     "output_type": "display_data"
    }
   ],
   "source": [
    "for itisRecord in itiscache.find():\n",
    "    itisDocs = []\n",
    "    itisSearchResults = requests.get(itisRecord[\"searchURL\"]).json()\n",
    "    if len(itisSearchResults[\"response\"][\"docs\"]) == 1:\n",
    "        itisData_initial = itis.packageITISJSON(itisSearchResults[\"response\"][\"docs\"][0])\n",
    "        itisDocs.append(itisData_initial.copy())\n",
    "        if itisData_initial[\"usage\"] in [\"invalid\",\"not accepted\"]:\n",
    "            itisSearchResults_secondary = requests.get(itis.getITISSearchURL(itisData_initial[\"acceptedTSN\"][0],False,False)).json()\n",
    "            if len(itisSearchResults_secondary[\"response\"][\"docs\"]) == 1:\n",
    "                itisData_secondary = itis.packageITISJSON(itisSearchResults_secondary[\"response\"][\"docs\"][0])\n",
    "                itisDocs.append(itisData_secondary.copy())\n",
    "    else:\n",
    "        itisSearchResults_fuzzy = requests.get(itisRecord[\"searchURL\"]+\"~0.5\").json()\n",
    "        if len(itisSearchResults_fuzzy[\"response\"][\"docs\"]) == 1:\n",
    "            itisData_fuzzy = itis.packageITISJSON(itisSearchResults_fuzzy[\"response\"][\"docs\"][0])\n",
    "            itisDocs.append(itisData_fuzzy.copy())\n",
    "            if itisData_fuzzy[\"usage\"] in [\"invalid\",\"not accepted\"]:\n",
    "                itisSearchResults_secondary = requests.get(itis.getITISSearchURL(itisData_fuzzy[\"acceptedTSN\"][0],False,False)).json()\n",
    "                if len(itisSearchResults_secondary[\"response\"][\"docs\"]) == 1:\n",
    "                    itisData_secondary = itis.packageITISJSON(itisSearchResults_secondary[\"response\"][\"docs\"][0])\n",
    "                    itisDocs.append(itisData_secondary.copy())\n",
    "        else:\n",
    "            itisDocs.append(itisSearchResults.copy())\n",
    "\n",
    "    display (itiscache.update_one({\"_id\":itisRecord[\"_id\"]},{\"$set\":{\"itisData\":itisDocs}},upsert=True).raw_result)"
   ]
  },
  {
   "cell_type": "code",
   "execution_count": null,
   "metadata": {
    "collapsed": true
   },
   "outputs": [],
   "source": []
  }
 ],
 "metadata": {
  "kernelspec": {
   "display_name": "Python 3",
   "language": "python",
   "name": "python3"
  },
  "language_info": {
   "codemirror_mode": {
    "name": "ipython",
    "version": 3
   },
   "file_extension": ".py",
   "mimetype": "text/x-python",
   "name": "python",
   "nbconvert_exporter": "python",
   "pygments_lexer": "ipython3",
   "version": "3.5.3"
  }
 },
 "nbformat": 4,
 "nbformat_minor": 0
}
