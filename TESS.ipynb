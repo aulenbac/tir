{
 "cells": [
  {
   "cell_type": "markdown",
   "metadata": {
    "deletable": true,
    "editable": true
   },
   "source": [
    "This notebook used ITIS TSNs discovered and cached in the Taxonomic Information Registry to look for information from the USFWS Threatened and Endangered Species System web service. It cached either a negative result or a set of key/value pairs from the TESS service of interest in characterizing species in the TIR."
   ]
  },
  {
   "cell_type": "code",
   "execution_count": 7,
   "metadata": {
    "collapsed": true,
    "deletable": true,
    "editable": true
   },
   "outputs": [],
   "source": [
    "import requests,re\n",
    "from IPython.display import display\n",
    "from bis import tir\n",
    "from bis import tess\n",
    "from bis2 import gc2"
   ]
  },
  {
   "cell_type": "code",
   "execution_count": 8,
   "metadata": {
    "collapsed": false,
    "deletable": true,
    "editable": true
   },
   "outputs": [],
   "source": [
    "# Set up the actions/targets for this particular instance\n",
    "thisRun = {}\n",
    "thisRun[\"instance\"] = \"DataDistillery\"\n",
    "thisRun[\"db\"] = \"BCB\"\n",
    "thisRun[\"baseURL\"] = gc2.sqlAPI(thisRun[\"instance\"],thisRun[\"db\"])\n",
    "thisRun[\"commitToDB\"] = True\n",
    "thisRun[\"totalRecordsToProcess\"] = 5\n",
    "thisRun[\"totalRecordsProcessed\"] = 0"
   ]
  },
  {
   "cell_type": "code",
   "execution_count": 9,
   "metadata": {
    "collapsed": false,
    "deletable": true,
    "editable": true
   },
   "outputs": [
    {
     "ename": "TypeError",
     "evalue": "Can't convert 'NoneType' object to str implicitly",
     "output_type": "error",
     "traceback": [
      "\u001b[0;31m---------------------------------------------------------------------------\u001b[0m",
      "\u001b[0;31mTypeError\u001b[0m                                 Traceback (most recent call last)",
      "\u001b[0;32m<ipython-input-9-5aaa718086e4>\u001b[0m in \u001b[0;36m<module>\u001b[0;34m()\u001b[0m\n\u001b[1;32m     17\u001b[0m \u001b[0;34m\u001b[0m\u001b[0m\n\u001b[1;32m     18\u001b[0m         \u001b[0;31m# Query based on discovered TSN and package data\u001b[0m\u001b[0;34m\u001b[0m\u001b[0;34m\u001b[0m\u001b[0m\n\u001b[0;32m---> 19\u001b[0;31m         \u001b[0mthisRecord\u001b[0m\u001b[0;34m[\u001b[0m\u001b[0;34m\"tessPairs\"\u001b[0m\u001b[0;34m]\u001b[0m \u001b[0;34m=\u001b[0m \u001b[0mtess\u001b[0m\u001b[0;34m.\u001b[0m\u001b[0mpackageTESSPairs\u001b[0m\u001b[0;34m(\u001b[0m\u001b[0mthisRecord\u001b[0m\u001b[0;34m[\u001b[0m\u001b[0;34m\"tsn\"\u001b[0m\u001b[0;34m]\u001b[0m\u001b[0;34m,\u001b[0m\u001b[0mtess\u001b[0m\u001b[0;34m.\u001b[0m\u001b[0mqueryTESSbyTSN\u001b[0m\u001b[0;34m(\u001b[0m\u001b[0mthisRecord\u001b[0m\u001b[0;34m[\u001b[0m\u001b[0;34m\"tsn\"\u001b[0m\u001b[0;34m]\u001b[0m\u001b[0;34m)\u001b[0m\u001b[0;34m)\u001b[0m\u001b[0;34m\u001b[0m\u001b[0m\n\u001b[0m\u001b[1;32m     20\u001b[0m \u001b[0;34m\u001b[0m\u001b[0m\n\u001b[1;32m     21\u001b[0m         \u001b[0;31m# If no records are returned for the primary TSN, try the accepted TSN for the record\u001b[0m\u001b[0;34m\u001b[0m\u001b[0;34m\u001b[0m\u001b[0m\n",
      "\u001b[0;32m/Users/sky/code/bis/bis/tess.py\u001b[0m in \u001b[0;36mqueryTESSbyTSN\u001b[0;34m(tsn)\u001b[0m\n\u001b[1;32m      2\u001b[0m     \u001b[0;32mimport\u001b[0m \u001b[0mrequests\u001b[0m\u001b[0;34m\u001b[0m\u001b[0m\n\u001b[1;32m      3\u001b[0m     \u001b[0mtessSpeciesQueryByTSNBaseURL\u001b[0m \u001b[0;34m=\u001b[0m \u001b[0;34m\"https://ecos.fws.gov/ecp0/TessQuery?request=query&xquery=/SPECIES_DETAIL[TSN=\"\u001b[0m\u001b[0;34m\u001b[0m\u001b[0m\n\u001b[0;32m----> 4\u001b[0;31m     \u001b[0;32mreturn\u001b[0m \u001b[0mrequests\u001b[0m\u001b[0;34m.\u001b[0m\u001b[0mget\u001b[0m\u001b[0;34m(\u001b[0m\u001b[0mtessSpeciesQueryByTSNBaseURL\u001b[0m\u001b[0;34m+\u001b[0m\u001b[0mtsn\u001b[0m\u001b[0;34m+\u001b[0m\u001b[0;34m\"]\"\u001b[0m\u001b[0;34m)\u001b[0m\u001b[0;34m.\u001b[0m\u001b[0mtext\u001b[0m\u001b[0;34m\u001b[0m\u001b[0m\n\u001b[0m\u001b[1;32m      5\u001b[0m \u001b[0;34m\u001b[0m\u001b[0m\n\u001b[1;32m      6\u001b[0m \u001b[0;32mdef\u001b[0m \u001b[0mpackageTESSPairs\u001b[0m\u001b[0;34m(\u001b[0m\u001b[0mtsn\u001b[0m\u001b[0;34m,\u001b[0m\u001b[0mtessData\u001b[0m\u001b[0;34m)\u001b[0m\u001b[0;34m:\u001b[0m\u001b[0;34m\u001b[0m\u001b[0m\n",
      "\u001b[0;31mTypeError\u001b[0m: Can't convert 'NoneType' object to str implicitly"
     ]
    }
   ],
   "source": [
    "numberWithoutTIRData = 1\n",
    "\n",
    "while numberWithoutTIRData == 1 and thisRun[\"totalRecordsProcessed\"] <= thisRun[\"totalRecordsToProcess\"]:\n",
    "    \n",
    "    q_recordToSearch = \"SELECT id, \\\n",
    "        itis->'tsn' AS tsn, \\\n",
    "        itis->'acceptedTSN' AS acceptedtsn \\\n",
    "        FROM tir.tir \\\n",
    "        WHERE tess IS NULL \\\n",
    "        AND itis->'itisMatchMethod' NOT LIKE 'NotMatched%' \\\n",
    "        LIMIT 1\"\n",
    "    recordToSearch = requests.get(gc2.sqlAPI(\"DataDistillery\",\"BCB\")+\"&q=\"+q_recordToSearch).json()\n",
    "\n",
    "    numberWithoutTIRData = len(recordToSearch[\"features\"])\n",
    "\n",
    "    if numberWithoutTIRData == 1:\n",
    "        tirRecord = recordToSearch[\"features\"][0]\n",
    "\n",
    "        thisRecord = {}\n",
    "        thisRecord[\"id\"] = tirRecord[\"properties\"][\"id\"]\n",
    "        thisRecord[\"tsn\"] = tirRecord[\"properties\"][\"tsn\"]\n",
    "        thisRecord[\"acceptedTSN\"] = tirRecord[\"properties\"][\"acceptedtsn\"]\n",
    "\n",
    "        # Query based on discovered TSN and package data\n",
    "        thisRecord[\"tessPairs\"] = tess.packageTESSPairs(thisRecord[\"tsn\"],tess.queryTESSbyTSN(thisRecord[\"tsn\"]))\n",
    "\n",
    "        # If no records are returned for the primary TSN, try the accepted TSN for the record\n",
    "        if '\"result\"=>\"none\"' in thisRecord[\"tessPairs\"] and type(thisRecord[\"acceptedTSN\"]) is str and thisRecord[\"tsn\"] != thisRecord[\"acceptedTSN\"]:\n",
    "            # Query based on discovered TSN and package data\n",
    "            thisRecord[\"tessPairs\"] = tess.packageTESSPairs(thisRecord[\"acceptedTSN\"],tess.queryTESSbyTSN(thisRecord[\"acceptedTSN\"]))\n",
    "\n",
    "        display (thisRecord)\n",
    "        if thisRun[\"commitToDB\"]:\n",
    "            print (tir.cacheToTIR(gc2.sqlAPI(\"DataDistillery\",\"BCB\"),thisRecord[\"id\"],\"tess\",thisRecord[\"tessPairs\"]))\n"
   ]
  },
  {
   "cell_type": "code",
   "execution_count": null,
   "metadata": {
    "collapsed": true,
    "deletable": true,
    "editable": true
   },
   "outputs": [],
   "source": []
  }
 ],
 "metadata": {
  "kernelspec": {
   "display_name": "Python 3",
   "language": "python",
   "name": "python3"
  },
  "language_info": {
   "codemirror_mode": {
    "name": "ipython",
    "version": 3
   },
   "file_extension": ".py",
   "mimetype": "text/x-python",
   "name": "python",
   "nbconvert_exporter": "python",
   "pygments_lexer": "ipython3",
   "version": "3.5.3"
  }
 },
 "nbformat": 4,
 "nbformat_minor": 0
}
