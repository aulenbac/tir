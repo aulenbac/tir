{
 "cells": [
  {
   "cell_type": "markdown",
   "metadata": {
    "deletable": true,
    "editable": true
   },
   "source": [
    "This notebook used ITIS TSNs discovered and cached in the Taxonomic Information Registry to look for information from the USFWS Threatened and Endangered Species System web service. It cached either a negative result or a set of key/value pairs from the TESS service of interest in characterizing species in the TIR."
   ]
  },
  {
   "cell_type": "code",
   "execution_count": 1,
   "metadata": {
    "collapsed": true,
    "deletable": true,
    "editable": true
   },
   "outputs": [],
   "source": [
    "import requests,re\n",
    "from IPython.display import display\n",
    "from bis import tir\n",
    "from bis import tess\n",
    "from bis2 import gc2"
   ]
  },
  {
   "cell_type": "markdown",
   "metadata": {
    "deletable": true,
    "editable": true
   },
   "source": [
    "### Get TSNs for processing\n",
    "Right now, we retrieve everything from the TIR table that has an ITIS TSN and does not currently have any TESS data. In future, we should come up with some other way of triggering this processing service and come up with a plan for periodic checks and updates."
   ]
  },
  {
   "cell_type": "code",
   "execution_count": 2,
   "metadata": {
    "collapsed": false,
    "deletable": true,
    "editable": true
   },
   "outputs": [],
   "source": [
    "q_tsns = \"SELECT id, \\\n",
    "    itis->'tsn' AS tsn, \\\n",
    "    itis->'acceptedTSN' AS acceptedtsn \\\n",
    "    FROM tir.tir \\\n",
    "    WHERE tess IS NULL AND itis->'itisMatchMethod' NOT LIKE 'NotMatched%' \\\n",
    "    LIMIT 10\"\n",
    "tsns = requests.get(gc2.sqlAPI(\"DataDistillery\",\"BCB\")+\"&q=\"+q_tsns).json()\n"
   ]
  },
  {
   "cell_type": "markdown",
   "metadata": {
    "deletable": true,
    "editable": true
   },
   "source": [
    "### Process the records to query and return information from TESS\n",
    "In this current process, I first check the discovered TSN from the ITIS cache. If that one does not return any results, I check the accepted TSN from that record (if it exists)."
   ]
  },
  {
   "cell_type": "code",
   "execution_count": 6,
   "metadata": {
    "collapsed": false,
    "deletable": true,
    "editable": true
   },
   "outputs": [
    {
     "data": {
      "text/plain": [
       "{'acceptedTSN': None,\n",
       " 'id': 944,\n",
       " 'tessPairs': '\"cacheDate\"=>\"2017-06-22T13:00:12.521868\",\"tsn\"=>\"177878\",\"result\"=>\"success\",\"result\"=>\"error\"',\n",
       " 'tsn': '177878'}"
      ]
     },
     "metadata": {},
     "output_type": "display_data"
    },
    {
     "name": "stdout",
     "output_type": "stream",
     "text": [
      "{'auth_check': {'session': None, 'success': True, 'auth_level': None}, 'affected_rows': 1, 'success': True, '_execution_time': 0.064}\n"
     ]
    },
    {
     "data": {
      "text/plain": [
       "{'acceptedTSN': None,\n",
       " 'id': 649,\n",
       " 'tessPairs': '\"cacheDate\"=>\"2017-06-22T13:00:13.808453\",\"tsn\"=>\"163893\",\"result\"=>\"none\"',\n",
       " 'tsn': '163893'}"
      ]
     },
     "metadata": {},
     "output_type": "display_data"
    },
    {
     "name": "stdout",
     "output_type": "stream",
     "text": [
      "{'auth_check': {'session': None, 'success': True, 'auth_level': None}, 'affected_rows': 1, 'success': True, '_execution_time': 0.082}\n"
     ]
    },
    {
     "data": {
      "text/plain": [
       "{'acceptedTSN': None,\n",
       " 'id': 1141,\n",
       " 'tessPairs': '\"cacheDate\"=>\"2017-06-22T13:00:14.589452\",\"tsn\"=>\"206991\",\"result\"=>\"success\",\"result\"=>\"error\"',\n",
       " 'tsn': '206991'}"
      ]
     },
     "metadata": {},
     "output_type": "display_data"
    },
    {
     "name": "stdout",
     "output_type": "stream",
     "text": [
      "{'auth_check': {'session': None, 'success': True, 'auth_level': None}, 'affected_rows': 1, 'success': True, '_execution_time': 0.065}\n"
     ]
    },
    {
     "data": {
      "text/plain": [
       "{'acceptedTSN': None,\n",
       " 'id': 868,\n",
       " 'tessPairs': '\"cacheDate\"=>\"2017-06-22T13:00:15.363334\",\"tsn\"=>\"775108\",\"result\"=>\"success\",\"result\"=>\"error\"',\n",
       " 'tsn': '775108'}"
      ]
     },
     "metadata": {},
     "output_type": "display_data"
    },
    {
     "name": "stdout",
     "output_type": "stream",
     "text": [
      "{'auth_check': {'session': None, 'success': True, 'auth_level': None}, 'affected_rows': 1, 'success': True, '_execution_time': 0.065}\n"
     ]
    },
    {
     "data": {
      "text/plain": [
       "{'acceptedTSN': None,\n",
       " 'id': 827,\n",
       " 'tessPairs': '\"cacheDate\"=>\"2017-06-22T13:00:16.324118\",\"tsn\"=>\"207283\",\"result\"=>\"success\",\"entityId\"=>\"9694\",\"SpeciesCode\"=>\"D03S\",\"CommonName\"=>\"Arizona Treefrog\",\"PopulationDescription\"=>\"Huachuca/Canelo Population\",\"Status\"=>\"RT\",\"StatusText\"=>\"Resolved Taxon\"',\n",
       " 'tsn': '207283'}"
      ]
     },
     "metadata": {},
     "output_type": "display_data"
    },
    {
     "name": "stdout",
     "output_type": "stream",
     "text": [
      "{'auth_check': {'session': None, 'success': True, 'auth_level': None}, 'affected_rows': 1, 'success': True, '_execution_time': 0.065}\n"
     ]
    },
    {
     "data": {
      "text/plain": [
       "{'acceptedTSN': None,\n",
       " 'id': 865,\n",
       " 'tessPairs': '\"cacheDate\"=>\"2017-06-22T13:00:17.128216\",\"tsn\"=>\"179223\",\"result\"=>\"success\",\"result\"=>\"error\"',\n",
       " 'tsn': '179223'}"
      ]
     },
     "metadata": {},
     "output_type": "display_data"
    },
    {
     "name": "stdout",
     "output_type": "stream",
     "text": [
      "{'auth_check': {'session': None, 'success': True, 'auth_level': None}, 'affected_rows': 1, 'success': True, '_execution_time': 0.094}\n"
     ]
    },
    {
     "data": {
      "text/plain": [
       "{'acceptedTSN': None,\n",
       " 'id': 798,\n",
       " 'tessPairs': '\"cacheDate\"=>\"2017-06-22T13:00:17.916324\",\"tsn\"=>\"179748\",\"result\"=>\"success\",\"entityId\"=>\"10411\",\"SpeciesCode\"=>\"B0I0\",\"CommonName\"=>\"Pinyon Jay\",\"PopulationDescription\"=>\"Wherever found\",\"Status\"=>\"SC\",\"StatusText\"=>\"Species of Concern\"',\n",
       " 'tsn': '179748'}"
      ]
     },
     "metadata": {},
     "output_type": "display_data"
    },
    {
     "name": "stdout",
     "output_type": "stream",
     "text": [
      "{'auth_check': {'session': None, 'success': True, 'auth_level': None}, 'affected_rows': 1, 'success': True, '_execution_time': 0.065}\n"
     ]
    },
    {
     "data": {
      "text/plain": [
       "{'acceptedTSN': None,\n",
       " 'id': 620,\n",
       " 'tessPairs': '\"cacheDate\"=>\"2017-06-22T13:00:18.865005\",\"tsn\"=>\"179530\",\"result\"=>\"success\",\"result\"=>\"error\"',\n",
       " 'tsn': '179530'}"
      ]
     },
     "metadata": {},
     "output_type": "display_data"
    },
    {
     "name": "stdout",
     "output_type": "stream",
     "text": [
      "{'auth_check': {'session': None, 'success': True, 'auth_level': None}, 'affected_rows': 1, 'success': True, '_execution_time': 0.064}\n"
     ]
    },
    {
     "data": {
      "text/plain": [
       "{'acceptedTSN': None,\n",
       " 'id': 1071,\n",
       " 'tessPairs': '\"cacheDate\"=>\"2017-06-22T13:00:20.198040\",\"tsn\"=>\"774570\",\"result\"=>\"success\",\"result\"=>\"error\"',\n",
       " 'tsn': '774570'}"
      ]
     },
     "metadata": {},
     "output_type": "display_data"
    },
    {
     "name": "stdout",
     "output_type": "stream",
     "text": [
      "{'auth_check': {'session': None, 'success': True, 'auth_level': None}, 'affected_rows': 1, 'success': True, '_execution_time': 0.064}\n"
     ]
    },
    {
     "data": {
      "text/plain": [
       "{'acceptedTSN': None,\n",
       " 'id': 1013,\n",
       " 'tessPairs': '\"cacheDate\"=>\"2017-06-22T13:00:20.946656\",\"tsn\"=>\"173525\",\"result\"=>\"none\"',\n",
       " 'tsn': '173525'}"
      ]
     },
     "metadata": {},
     "output_type": "display_data"
    },
    {
     "name": "stdout",
     "output_type": "stream",
     "text": [
      "{'auth_check': {'session': None, 'success': True, 'auth_level': None}, 'affected_rows': 1, 'success': True, '_execution_time': 0.068}\n"
     ]
    }
   ],
   "source": [
    "for feature in tsns[\"features\"]:\n",
    "    thisRecord = {}\n",
    "    thisRecord[\"id\"] = feature[\"properties\"][\"id\"]\n",
    "    thisRecord[\"tsn\"] = feature[\"properties\"][\"tsn\"]\n",
    "    thisRecord[\"acceptedTSN\"] = feature[\"properties\"][\"acceptedtsn\"]\n",
    "    \n",
    "    # Query based on discovered TSN and package data\n",
    "    thisRecord[\"tessPairs\"] = tess.packageTESSPairs(thisRecord[\"tsn\"],tess.queryTESSbyTSN(thisRecord[\"tsn\"]))\n",
    "\n",
    "    # If no records are returned for the primary TSN, try the accepted TSN for the record\n",
    "    if '\"result\"=>\"none\"' in thisRecord[\"tessPairs\"] and type(thisRecord[\"acceptedTSN\"]) is str:\n",
    "        # Query based on discovered TSN and package data\n",
    "        thisRecord[\"tessPairs\"] = tess.packageTESSPairs(thisRecord[\"acceptedTSN\"],tess.queryTESSbyTSN(thisRecord[\"acceptedTSN\"]))\n",
    "\n",
    "    display (thisRecord)\n",
    "    print (tir.cacheToTIR(gc2.sqlAPI(\"DataDistillery\",\"BCB\"),thisRecord[\"id\"],\"tess\",thisRecord[\"tessPairs\"]))\n"
   ]
  },
  {
   "cell_type": "code",
   "execution_count": null,
   "metadata": {
    "collapsed": true,
    "deletable": true,
    "editable": true
   },
   "outputs": [],
   "source": []
  }
 ],
 "metadata": {
  "kernelspec": {
   "display_name": "Python 3",
   "language": "python",
   "name": "python3"
  },
  "language_info": {
   "codemirror_mode": {
    "name": "ipython",
    "version": 3
   },
   "file_extension": ".py",
   "mimetype": "text/x-python",
   "name": "python",
   "nbconvert_exporter": "python",
   "pygments_lexer": "ipython3",
   "version": "3.5.3"
  }
 },
 "nbformat": 4,
 "nbformat_minor": 0
}
