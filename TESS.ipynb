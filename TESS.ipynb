{
 "cells": [
  {
   "cell_type": "markdown",
   "metadata": {
    "deletable": true,
    "editable": true
   },
   "source": [
    "This notebook works through Taxa Information Registry (TIR) records until all are processed to search for and cache information from the USFWS Threatened and Endangered Species System. It relies on a processing function in the tess module of the bis package that sets up and runs the query against the [TESS web service](https://ecos.fws.gov/ecp/species-query) and returns a dictionary of properties that are converted to a JSON string and cached in the TIR. Like all of the TIR processors, this code always returns at least a negative query result for caching in the TIR so that we know the record was checked at a particular date and time.\n",
    "\n",
    "The TESS service returns what is basically a set of rows from a database table or view that repeats high level information for each species along with one or more listing status records. To make this a little cleaner for our purposes, the tess module's tessQuery function creates a single JSON structure (Python dictionary) with the high level information as first order properties and listingStatus as a list of one or more listing status values.\n",
    "\n",
    "The tessQuery function uses ITIS TSNs when available for a TIR record as the primary search mechanism and then will use available scientific names from the registration data or from ITIS or WoRMS in an attempt to find a possible match."
   ]
  },
  {
   "cell_type": "code",
   "execution_count": 26,
   "metadata": {
    "collapsed": false,
    "deletable": true,
    "editable": true
   },
   "outputs": [],
   "source": [
    "%autoreload 2\n",
    "\n",
    "import requests,json\n",
    "from IPython.display import display\n",
    "from bis import tir\n",
    "from bis import tess\n",
    "from bis2 import gc2"
   ]
  },
  {
   "cell_type": "code",
   "execution_count": 27,
   "metadata": {
    "collapsed": false,
    "deletable": true,
    "editable": true,
    "scrolled": true
   },
   "outputs": [
    {
     "data": {
      "text/plain": [
       "{'criteria': 'Acer glabrum',\n",
       " 'dateCached': '2017-07-06T11:10:56.510052',\n",
       " 'queryType': 'SCINAME',\n",
       " 'result': False}"
      ]
     },
     "metadata": {},
     "output_type": "display_data"
    },
    {
     "name": "stdout",
     "output_type": "stream",
     "text": [
      "{'affected_rows': 1, 'success': True, 'auth_check': {'session': None, 'success': True, 'auth_level': None}, '_execution_time': 0.066}\n"
     ]
    },
    {
     "data": {
      "text/plain": [
       "{'criteria': 'Pterodroma heraldica',\n",
       " 'dateCached': '2017-07-06T11:10:58.536921',\n",
       " 'queryType': 'SCINAME',\n",
       " 'result': False}"
      ]
     },
     "metadata": {},
     "output_type": "display_data"
    },
    {
     "name": "stdout",
     "output_type": "stream",
     "text": [
      "{'affected_rows': 1, 'success': True, 'auth_check': {'session': None, 'success': True, 'auth_level': None}, '_execution_time': 0.087}\n"
     ]
    },
    {
     "data": {
      "text/plain": [
       "{'COMNAME': 'Black-capped petrel',\n",
       " 'COUNTRY': '1',\n",
       " 'DPS': '0',\n",
       " 'ENTITY_ID': '3492',\n",
       " 'FAMILY': 'Procellariidae',\n",
       " 'INVNAME': 'Petrel, black-capped',\n",
       " 'LEAD_AGENCY': '1',\n",
       " 'LEAD_REGION': '4',\n",
       " 'REFUGE_OCCURRENCE': None,\n",
       " 'SCINAME': 'Pterodroma hasitata',\n",
       " 'SPCODE': 'B0AS',\n",
       " 'STATUS': 'UR',\n",
       " 'TSN': '174567',\n",
       " 'VIPCODE': 'V01',\n",
       " 'criteria': '174567',\n",
       " 'dateCached': '2017-07-06T11:10:59.594198',\n",
       " 'listingStatus': [{'POP_ABBREV': 'Wherever found',\n",
       "   'POP_DESC': 'Wherever found',\n",
       "   'STATUS': 'Under Review in the Candidate or Petition Process'}],\n",
       " 'queryType': 'TSN',\n",
       " 'result': True}"
      ]
     },
     "metadata": {},
     "output_type": "display_data"
    },
    {
     "name": "stdout",
     "output_type": "stream",
     "text": [
      "{'affected_rows': 1, 'success': True, 'auth_check': {'session': None, 'success': True, 'auth_level': None}, '_execution_time': 0.068}\n"
     ]
    },
    {
     "data": {
      "text/plain": [
       "{'criteria': 'Microtus abbreviatus abbreviatus',\n",
       " 'dateCached': '2017-07-06T11:11:00.713484',\n",
       " 'queryType': 'SCINAME',\n",
       " 'result': False}"
      ]
     },
     "metadata": {},
     "output_type": "display_data"
    },
    {
     "name": "stdout",
     "output_type": "stream",
     "text": [
      "{'affected_rows': 1, 'success': True, 'auth_check': {'session': None, 'success': True, 'auth_level': None}, '_execution_time': 0.067}\n"
     ]
    },
    {
     "data": {
      "text/plain": [
       "{'criteria': 'Pterodroma hypoleuca',\n",
       " 'dateCached': '2017-07-06T11:11:02.712551',\n",
       " 'queryType': 'SCINAME',\n",
       " 'result': False}"
      ]
     },
     "metadata": {},
     "output_type": "display_data"
    },
    {
     "name": "stdout",
     "output_type": "stream",
     "text": [
      "{'affected_rows': 1, 'success': True, 'auth_check': {'session': None, 'success': True, 'auth_level': None}, '_execution_time': 0.087}\n"
     ]
    }
   ],
   "source": [
    "# Set up the actions/targets for this particular instance\n",
    "thisRun = {}\n",
    "thisRun[\"instance\"] = \"DataDistillery\"\n",
    "thisRun[\"db\"] = \"BCB\"\n",
    "thisRun[\"baseURL\"] = gc2.sqlAPI(thisRun[\"instance\"],thisRun[\"db\"])\n",
    "thisRun[\"commitToDB\"] = True\n",
    "thisRun[\"totalRecordsToProcess\"] = 5\n",
    "thisRun[\"totalRecordsProcessed\"] = 0\n",
    "\n",
    "numberWithoutTIRData = 1\n",
    "\n",
    "while numberWithoutTIRData == 1 and thisRun[\"totalRecordsProcessed\"] < thisRun[\"totalRecordsToProcess\"]:\n",
    "    \n",
    "    q_recordToSearch = \"SELECT id, \\\n",
    "        registration->>'scientificname' AS name_state, \\\n",
    "        itis->>'itisMatchMethod' AS matchmethod_itis, \\\n",
    "        itis->>'tsn' AS tsn, \\\n",
    "        itis->>'acceptedTSN' AS acceptedtsn, \\\n",
    "        itis->>'nameWInd' AS name_itis, \\\n",
    "        worms->>'MatchMethod' AS matchmethod_worms, \\\n",
    "        worms->>'valid_name' AS name_worms \\\n",
    "        FROM tir.tir \\\n",
    "        WHERE tess IS NULL \\\n",
    "        LIMIT 1\"\n",
    "    recordToSearch = requests.get(gc2.sqlAPI(\"DataDistillery\",\"BCB\")+\"&q=\"+q_recordToSearch).json()\n",
    "\n",
    "    numberWithoutTIRData = len(recordToSearch[\"features\"])\n",
    "\n",
    "    if numberWithoutTIRData == 1:\n",
    "        tirRecord = recordToSearch[\"features\"][0]\n",
    "\n",
    "        thisRecord = {}\n",
    "        thisRecord[\"id\"] = tirRecord[\"properties\"][\"id\"]\n",
    "        thisRecord[\"tsnsToSearch\"] = []\n",
    "        thisRecord[\"namesToSearch\"] = [tirRecord[\"properties\"][\"name_state\"]]\n",
    "        thisRecord[\"tessJSON\"] = tess.queryTESS()\n",
    "\n",
    "        if tirRecord[\"properties\"][\"matchmethod_itis\"] not in [None,\"Not Matched\"]:\n",
    "            if tirRecord[\"properties\"][\"tsn\"] is not None:\n",
    "                thisRecord[\"tsnsToSearch\"].append(tirRecord[\"properties\"][\"tsn\"])\n",
    "            if tirRecord[\"properties\"][\"acceptedtsn\"] not in [None,thisRecord[\"tsnsToSearch\"]]:\n",
    "                thisRecord[\"tsnsToSearch\"].append(tirRecord[\"properties\"][\"acceptedtsn\"])\n",
    "            if tirRecord[\"properties\"][\"name_itis\"] not in [None,thisRecord[\"namesToSearch\"]]:\n",
    "                thisRecord[\"namesToSearch\"].append(tirRecord[\"properties\"][\"name_itis\"])\n",
    "        \n",
    "        if tirRecord[\"properties\"][\"matchmethod_worms\"] not in [None,\"Not Matched\"]:\n",
    "            if tirRecord[\"properties\"][\"name_worms\"] not in [None,thisRecord[\"namesToSearch\"]]:\n",
    "                thisRecord[\"namesToSearch\"].append(tirRecord[\"properties\"][\"name_worms\"])\n",
    "\n",
    "        if len(thisRecord[\"tsnsToSearch\"]) > 0:\n",
    "            for tsn in thisRecord[\"tsnsToSearch\"]:\n",
    "                thisRecord[\"tessJSON\"] = tess.queryTESS(\"TSN\",tsn)\n",
    "                if thisRecord[\"tessJSON\"][\"result\"]:\n",
    "                    break\n",
    "\n",
    "        if not thisRecord[\"tessJSON\"][\"result\"] and len(thisRecord[\"namesToSearch\"]) > 0:\n",
    "            for name in thisRecord[\"namesToSearch\"]:\n",
    "                thisRecord[\"tessJSON\"] = tess.queryTESS(\"SCINAME\",name)\n",
    "                if thisRecord[\"tessJSON\"][\"result\"]:\n",
    "                    break\n",
    "\n",
    "        display (thisRecord[\"tessJSON\"])\n",
    "        if thisRun[\"commitToDB\"]:\n",
    "            print (tir.cacheToTIR(gc2.sqlAPI(\"DataDistillery\",\"BCB\"),thisRecord[\"id\"],\"tess\",json.dumps(thisRecord[\"tessJSON\"])))\n",
    "        thisRun[\"totalRecordsProcessed\"] = thisRun[\"totalRecordsProcessed\"] + 1\n"
   ]
  },
  {
   "cell_type": "code",
   "execution_count": null,
   "metadata": {
    "collapsed": true,
    "deletable": true,
    "editable": true
   },
   "outputs": [],
   "source": []
  }
 ],
 "metadata": {
  "kernelspec": {
   "display_name": "Python 3",
   "language": "python",
   "name": "python3"
  },
  "language_info": {
   "codemirror_mode": {
    "name": "ipython",
    "version": 3
   },
   "file_extension": ".py",
   "mimetype": "text/x-python",
   "name": "python",
   "nbconvert_exporter": "python",
   "pygments_lexer": "ipython3",
   "version": "3.5.3"
  }
 },
 "nbformat": 4,
 "nbformat_minor": 0
}
