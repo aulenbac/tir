{
 "cells": [
  {
   "cell_type": "markdown",
   "metadata": {
    "deletable": true,
    "editable": true
   },
   "source": [
    "This notebook used ITIS TSNs discovered and cached in the Taxonomic Information Registry to look for information from the USFWS Threatened and Endangered Species System web service. It cached either a negative result or a set of key/value pairs from the TESS service of interest in characterizing species in the TIR."
   ]
  },
  {
   "cell_type": "code",
   "execution_count": 7,
   "metadata": {
    "collapsed": true,
    "deletable": true,
    "editable": true
   },
   "outputs": [],
   "source": [
    "import requests,re\n",
    "from IPython.display import display\n",
    "from bis import tir\n",
    "from bis import tess\n",
    "from bis2 import gc2"
   ]
  },
  {
   "cell_type": "code",
   "execution_count": 20,
   "metadata": {
    "collapsed": false,
    "deletable": true,
    "editable": true
   },
   "outputs": [
    {
     "data": {
      "text/plain": [
       "{'acceptedTSN': None,\n",
       " 'id': 30665,\n",
       " 'tessPairs': '\"cacheDate\"=>\"2017-06-28T10:36:30.870741\",\"tsn\"=>\"862405\",\"result\"=>\"success\",\"entityId\"=>\"9899\",\"SpeciesCode\"=>\"J02W\",\"CommonName\"=>\"No common name\",\"PopulationDescription\"=>\"Wherever found\",\"Status\"=>\"RT\",\"StatusText\"=>\"Resolved Taxon\"',\n",
       " 'tsn': '862405'}"
      ]
     },
     "metadata": {},
     "output_type": "display_data"
    },
    {
     "name": "stdout",
     "output_type": "stream",
     "text": [
      "{'auth_check': {'session': None, 'success': True, 'auth_level': None}, 'affected_rows': 1, 'success': True, '_execution_time': 0.08}\n"
     ]
    },
    {
     "data": {
      "text/plain": [
       "{'acceptedTSN': None,\n",
       " 'id': 32963,\n",
       " 'tessPairs': '\"cacheDate\"=>\"2017-06-28T10:36:32.067670\",\"tsn\"=>\"777924\",\"result\"=>\"none\"',\n",
       " 'tsn': '777924'}"
      ]
     },
     "metadata": {},
     "output_type": "display_data"
    },
    {
     "name": "stdout",
     "output_type": "stream",
     "text": [
      "{'auth_check': {'session': None, 'success': True, 'auth_level': None}, 'affected_rows': 1, 'success': True, '_execution_time': 0.065}\n"
     ]
    },
    {
     "data": {
      "text/plain": [
       "{'acceptedTSN': None,\n",
       " 'id': 30667,\n",
       " 'tessPairs': '\"cacheDate\"=>\"2017-06-28T10:36:33.248894\",\"tsn\"=>\"862416\",\"result\"=>\"success\",\"entityId\"=>\"9900\",\"SpeciesCode\"=>\"J02X\",\"CommonName\"=>\"No common name\",\"PopulationDescription\"=>\"Wherever found\",\"Status\"=>\"RT\",\"StatusText\"=>\"Resolved Taxon\"',\n",
       " 'tsn': '862416'}"
      ]
     },
     "metadata": {},
     "output_type": "display_data"
    },
    {
     "name": "stdout",
     "output_type": "stream",
     "text": [
      "{'auth_check': {'session': None, 'success': True, 'auth_level': None}, 'affected_rows': 1, 'success': True, '_execution_time': 0.066}\n"
     ]
    },
    {
     "data": {
      "text/plain": [
       "{'acceptedTSN': None,\n",
       " 'id': 32964,\n",
       " 'tessPairs': '\"cacheDate\"=>\"2017-06-28T10:36:34.440303\",\"tsn\"=>\"778929\",\"result\"=>\"none\"',\n",
       " 'tsn': '778929'}"
      ]
     },
     "metadata": {},
     "output_type": "display_data"
    },
    {
     "name": "stdout",
     "output_type": "stream",
     "text": [
      "{'auth_check': {'session': None, 'success': True, 'auth_level': None}, 'affected_rows': 1, 'success': True, '_execution_time': 0.065}\n"
     ]
    },
    {
     "data": {
      "text/plain": [
       "{'acceptedTSN': None,\n",
       " 'id': 30669,\n",
       " 'tessPairs': '\"cacheDate\"=>\"2017-06-28T10:36:35.565935\",\"tsn\"=>\"862424\",\"result\"=>\"success\",\"entityId\"=>\"470\",\"SpeciesCode\"=>\"J018\",\"CommonName\"=>\"Government Canyon Bat Cave Spider\",\"PopulationDescription\"=>\"Wherever found\",\"Status\"=>\"E\",\"StatusText\"=>\"Endangered\",\"ListingDate\"=>\"2000-12-26\"',\n",
       " 'tsn': '862424'}"
      ]
     },
     "metadata": {},
     "output_type": "display_data"
    },
    {
     "name": "stdout",
     "output_type": "stream",
     "text": [
      "{'auth_check': {'session': None, 'success': True, 'auth_level': None}, 'affected_rows': 1, 'success': True, '_execution_time': 0.066}\n"
     ]
    },
    {
     "data": {
      "text/plain": [
       "{'acceptedTSN': None,\n",
       " 'id': 26925,\n",
       " 'tessPairs': '\"cacheDate\"=>\"2017-06-28T10:36:36.770138\",\"tsn\"=>\"93773\",\"result\"=>\"none\"',\n",
       " 'tsn': '93773'}"
      ]
     },
     "metadata": {},
     "output_type": "display_data"
    },
    {
     "name": "stdout",
     "output_type": "stream",
     "text": [
      "{'auth_check': {'session': None, 'success': True, 'auth_level': None}, 'affected_rows': 1, 'success': True, '_execution_time': 0.065}\n"
     ]
    }
   ],
   "source": [
    "# Set up the actions/targets for this particular instance\n",
    "thisRun = {}\n",
    "thisRun[\"instance\"] = \"DataDistillery\"\n",
    "thisRun[\"db\"] = \"BCB\"\n",
    "thisRun[\"baseURL\"] = gc2.sqlAPI(thisRun[\"instance\"],thisRun[\"db\"])\n",
    "thisRun[\"commitToDB\"] = True\n",
    "thisRun[\"totalRecordsToProcess\"] = 5\n",
    "thisRun[\"totalRecordsProcessed\"] = 0\n",
    "\n",
    "numberWithoutTIRData = 1\n",
    "\n",
    "while numberWithoutTIRData == 1 and thisRun[\"totalRecordsProcessed\"] <= thisRun[\"totalRecordsToProcess\"]:\n",
    "    \n",
    "    q_recordToSearch = \"SELECT id, \\\n",
    "        itis->'tsn' AS tsn, \\\n",
    "        itis->'acceptedTSN' AS acceptedtsn \\\n",
    "        FROM tir.tir \\\n",
    "        WHERE tess IS NULL \\\n",
    "        AND itis IS NOT NULL \\\n",
    "        AND itis->'itisMatchMethod' NOT LIKE 'Not Matched' \\\n",
    "        LIMIT 1\"\n",
    "    recordToSearch = requests.get(gc2.sqlAPI(\"DataDistillery\",\"BCB\")+\"&q=\"+q_recordToSearch).json()\n",
    "\n",
    "    numberWithoutTIRData = len(recordToSearch[\"features\"])\n",
    "\n",
    "    if numberWithoutTIRData == 1:\n",
    "        tirRecord = recordToSearch[\"features\"][0]\n",
    "\n",
    "        thisRecord = {}\n",
    "        thisRecord[\"id\"] = tirRecord[\"properties\"][\"id\"]\n",
    "        thisRecord[\"tsn\"] = tirRecord[\"properties\"][\"tsn\"]\n",
    "        thisRecord[\"acceptedTSN\"] = tirRecord[\"properties\"][\"acceptedtsn\"]\n",
    "        \n",
    "        # Query based on discovered TSN and package data\n",
    "        thisRecord[\"tessPairs\"] = tess.packageTESSPairs(thisRecord[\"tsn\"],tess.queryTESSbyTSN(thisRecord[\"tsn\"]))\n",
    "\n",
    "        # If no records are returned for the primary TSN, try the accepted TSN for the record\n",
    "        if '\"result\"=>\"none\"' in thisRecord[\"tessPairs\"] and type(thisRecord[\"acceptedTSN\"]) is str and thisRecord[\"tsn\"] != thisRecord[\"acceptedTSN\"]:\n",
    "            # Query based on discovered TSN and package data\n",
    "            thisRecord[\"tessPairs\"] = tess.packageTESSPairs(thisRecord[\"acceptedTSN\"],tess.queryTESSbyTSN(thisRecord[\"acceptedTSN\"]))\n",
    "\n",
    "        display (thisRecord)\n",
    "        if thisRun[\"commitToDB\"]:\n",
    "            print (tir.cacheToTIR(gc2.sqlAPI(\"DataDistillery\",\"BCB\"),thisRecord[\"id\"],\"tess\",thisRecord[\"tessPairs\"]))\n",
    "        thisRun[\"totalRecordsProcessed\"] = thisRun[\"totalRecordsProcessed\"] + 1\n"
   ]
  },
  {
   "cell_type": "code",
   "execution_count": null,
   "metadata": {
    "collapsed": true,
    "deletable": true,
    "editable": true
   },
   "outputs": [],
   "source": []
  }
 ],
 "metadata": {
  "kernelspec": {
   "display_name": "Python 3",
   "language": "python",
   "name": "python3"
  },
  "language_info": {
   "codemirror_mode": {
    "name": "ipython",
    "version": 3
   },
   "file_extension": ".py",
   "mimetype": "text/x-python",
   "name": "python",
   "nbconvert_exporter": "python",
   "pygments_lexer": "ipython3",
   "version": "3.5.3"
  }
 },
 "nbformat": 4,
 "nbformat_minor": 0
}
