{
 "cells": [
  {
   "cell_type": "markdown",
   "metadata": {
    "deletable": true,
    "editable": true
   },
   "source": [
    "This notebook works through Taxa Information Registry (TIR) records until all are processed to search for and cache information from the USFWS Threatened and Endangered Species System. It relies on a processing function in the tess module of the bis package that sets up and runs the query against the [TESS web service](https://ecos.fws.gov/ecp/species-query) and returns a dictionary of properties that are converted to a JSON string and cached in the TIR. Like all of the TIR processors, this code always returns at least a negative query result for caching in the TIR so that we know the record was checked at a particular date and time.\n",
    "\n",
    "The TESS service returns what is basically a set of rows from a database table or view that repeats high level information for each species along with one or more listing status records. To make this a little cleaner for our purposes, the tess module's tessQuery function creates a single JSON structure (Python dictionary) with the high level information as first order properties and listingStatus as a list of one or more listing status values.\n",
    "\n",
    "The tessQuery function uses ITIS TSNs when available for a TIR record as the primary search mechanism and then will use available scientific names from the registration data or from ITIS or WoRMS in an attempt to find a possible match."
   ]
  },
  {
   "cell_type": "code",
   "execution_count": 1,
   "metadata": {
    "collapsed": false,
    "deletable": true,
    "editable": true
   },
   "outputs": [],
   "source": [
    "import requests,json\n",
    "from IPython.display import display\n",
    "from bis import tir\n",
    "from bis import tess\n",
    "from bis2 import gc2"
   ]
  },
  {
   "cell_type": "code",
   "execution_count": 2,
   "metadata": {
    "collapsed": false,
    "deletable": true,
    "editable": true,
    "scrolled": true
   },
   "outputs": [
    {
     "data": {
      "text/plain": [
       "{'criteria': 'Phyciodes pictus',\n",
       " 'dateCached': '2017-07-10T11:56:44.892648',\n",
       " 'queryType': 'SCINAME',\n",
       " 'result': False}"
      ]
     },
     "metadata": {},
     "output_type": "display_data"
    },
    {
     "name": "stdout",
     "output_type": "stream",
     "text": [
      "{'affected_rows': 1, 'success': True, '_execution_time': 0.066, 'auth_check': {'auth_level': None, 'session': None, 'success': True}}\n"
     ]
    },
    {
     "ename": "KeyError",
     "evalue": "'results'",
     "output_type": "error",
     "traceback": [
      "\u001b[0;31m---------------------------------------------------------------------------\u001b[0m",
      "\u001b[0;31mKeyError\u001b[0m                                  Traceback (most recent call last)",
      "\u001b[0;32m<ipython-input-2-f3100f1b5d75>\u001b[0m in \u001b[0;36m<module>\u001b[0;34m()\u001b[0m\n\u001b[1;32m     46\u001b[0m         \u001b[0;32mif\u001b[0m \u001b[0;32mnot\u001b[0m \u001b[0mthisRecord\u001b[0m\u001b[0;34m[\u001b[0m\u001b[0;34m\"tessJSON\"\u001b[0m\u001b[0;34m]\u001b[0m\u001b[0;34m[\u001b[0m\u001b[0;34m\"result\"\u001b[0m\u001b[0;34m]\u001b[0m \u001b[0;32mand\u001b[0m \u001b[0mlen\u001b[0m\u001b[0;34m(\u001b[0m\u001b[0mthisRecord\u001b[0m\u001b[0;34m[\u001b[0m\u001b[0;34m\"namesToSearch\"\u001b[0m\u001b[0;34m]\u001b[0m\u001b[0;34m)\u001b[0m \u001b[0;34m>\u001b[0m \u001b[0;36m0\u001b[0m\u001b[0;34m:\u001b[0m\u001b[0;34m\u001b[0m\u001b[0m\n\u001b[1;32m     47\u001b[0m             \u001b[0;32mfor\u001b[0m \u001b[0mname\u001b[0m \u001b[0;32min\u001b[0m \u001b[0mthisRecord\u001b[0m\u001b[0;34m[\u001b[0m\u001b[0;34m\"namesToSearch\"\u001b[0m\u001b[0;34m]\u001b[0m\u001b[0;34m:\u001b[0m\u001b[0;34m\u001b[0m\u001b[0m\n\u001b[0;32m---> 48\u001b[0;31m                 \u001b[0mthisRecord\u001b[0m\u001b[0;34m[\u001b[0m\u001b[0;34m\"tessJSON\"\u001b[0m\u001b[0;34m]\u001b[0m \u001b[0;34m=\u001b[0m \u001b[0mtess\u001b[0m\u001b[0;34m.\u001b[0m\u001b[0mqueryTESS\u001b[0m\u001b[0;34m(\u001b[0m\u001b[0;34m\"SCINAME\"\u001b[0m\u001b[0;34m,\u001b[0m\u001b[0mname\u001b[0m\u001b[0;34m)\u001b[0m\u001b[0;34m\u001b[0m\u001b[0m\n\u001b[0m\u001b[1;32m     49\u001b[0m                 \u001b[0;32mif\u001b[0m \u001b[0mthisRecord\u001b[0m\u001b[0;34m[\u001b[0m\u001b[0;34m\"tessJSON\"\u001b[0m\u001b[0;34m]\u001b[0m\u001b[0;34m[\u001b[0m\u001b[0;34m\"result\"\u001b[0m\u001b[0;34m]\u001b[0m\u001b[0;34m:\u001b[0m\u001b[0;34m\u001b[0m\u001b[0m\n\u001b[1;32m     50\u001b[0m                     \u001b[0;32mbreak\u001b[0m\u001b[0;34m\u001b[0m\u001b[0m\n",
      "\u001b[0;32m/Users/sky/code/bis/bis/tess.py\u001b[0m in \u001b[0;36mqueryTESS\u001b[0;34m(queryType, criteria)\u001b[0m\n\u001b[1;32m     29\u001b[0m \u001b[0;34m\u001b[0m\u001b[0m\n\u001b[1;32m     30\u001b[0m         \u001b[0;31m# Handle cases where there is more than one listing designation for a species\u001b[0m\u001b[0;34m\u001b[0m\u001b[0;34m\u001b[0m\u001b[0m\n\u001b[0;32m---> 31\u001b[0;31m         \u001b[0;32mif\u001b[0m \u001b[0mtessDict\u001b[0m\u001b[0;34m[\u001b[0m\u001b[0;34m\"results\"\u001b[0m\u001b[0;34m]\u001b[0m \u001b[0;32mis\u001b[0m \u001b[0;32mnot\u001b[0m \u001b[0;32mNone\u001b[0m \u001b[0;32mand\u001b[0m \u001b[0mtype\u001b[0m\u001b[0;34m(\u001b[0m\u001b[0mtessDict\u001b[0m\u001b[0;34m[\u001b[0m\u001b[0;34m\"results\"\u001b[0m\u001b[0;34m]\u001b[0m\u001b[0;34m[\u001b[0m\u001b[0;34m\"SPECIES_DETAIL\"\u001b[0m\u001b[0;34m]\u001b[0m\u001b[0;34m)\u001b[0m \u001b[0;32mis\u001b[0m \u001b[0mlist\u001b[0m\u001b[0;34m:\u001b[0m\u001b[0;34m\u001b[0m\u001b[0m\n\u001b[0m\u001b[1;32m     32\u001b[0m             \u001b[0mtessData\u001b[0m\u001b[0;34m[\u001b[0m\u001b[0;34m\"result\"\u001b[0m\u001b[0;34m]\u001b[0m \u001b[0;34m=\u001b[0m \u001b[0;32mTrue\u001b[0m\u001b[0;34m\u001b[0m\u001b[0m\n\u001b[1;32m     33\u001b[0m             \u001b[0mtessData\u001b[0m\u001b[0;34m[\u001b[0m\u001b[0;34m\"ENTITY_ID\"\u001b[0m\u001b[0;34m]\u001b[0m \u001b[0;34m=\u001b[0m \u001b[0mtessDict\u001b[0m\u001b[0;34m[\u001b[0m\u001b[0;34m\"results\"\u001b[0m\u001b[0;34m]\u001b[0m\u001b[0;34m[\u001b[0m\u001b[0;34m\"SPECIES_DETAIL\"\u001b[0m\u001b[0;34m]\u001b[0m\u001b[0;34m[\u001b[0m\u001b[0;36m0\u001b[0m\u001b[0;34m]\u001b[0m\u001b[0;34m[\u001b[0m\u001b[0;34m\"ENTITY_ID\"\u001b[0m\u001b[0;34m]\u001b[0m\u001b[0;34m\u001b[0m\u001b[0m\n",
      "\u001b[0;31mKeyError\u001b[0m: 'results'"
     ]
    }
   ],
   "source": [
    "# Set up the actions/targets for this particular instance\n",
    "thisRun = {}\n",
    "thisRun[\"instance\"] = \"DataDistillery\"\n",
    "thisRun[\"db\"] = \"BCB\"\n",
    "thisRun[\"baseURL\"] = gc2.sqlAPI(thisRun[\"instance\"],thisRun[\"db\"])\n",
    "thisRun[\"commitToDB\"] = True\n",
    "thisRun[\"totalRecordsToProcess\"] = 5\n",
    "thisRun[\"totalRecordsProcessed\"] = 0\n",
    "\n",
    "numberWithoutTIRData = 1\n",
    "\n",
    "while numberWithoutTIRData == 1 and thisRun[\"totalRecordsProcessed\"] < thisRun[\"totalRecordsToProcess\"]:\n",
    "    \n",
    "    q_recordToSearch = \"SELECT id, \\\n",
    "        registration->>'scientificname' AS name_state, \\\n",
    "        itis->>'itisMatchMethod' AS matchmethod_itis, \\\n",
    "        itis->>'tsn' AS tsn, \\\n",
    "        itis->>'acceptedTSN' AS acceptedtsn, \\\n",
    "        itis->>'nameWInd' AS name_itis, \\\n",
    "        worms->>'MatchMethod' AS matchmethod_worms, \\\n",
    "        worms->>'valid_name' AS name_worms \\\n",
    "        FROM tir.tir \\\n",
    "        WHERE tess IS NULL \\\n",
    "        LIMIT 1\"\n",
    "    recordToSearch = requests.get(gc2.sqlAPI(\"DataDistillery\",\"BCB\")+\"&q=\"+q_recordToSearch).json()\n",
    "\n",
    "    numberWithoutTIRData = len(recordToSearch[\"features\"])\n",
    "\n",
    "    if numberWithoutTIRData == 1:\n",
    "        tirRecord = recordToSearch[\"features\"][0]\n",
    "\n",
    "        thisRecord = {}\n",
    "        thisRecord[\"id\"] = tirRecord[\"properties\"][\"id\"]\n",
    "        thisRecord[\"tsnsToSearch\"] = []\n",
    "        thisRecord[\"namesToSearch\"] = [tirRecord[\"properties\"][\"name_state\"]]\n",
    "        thisRecord[\"tessJSON\"] = tess.queryTESS()\n",
    "\n",
    "        if tirRecord[\"properties\"][\"matchmethod_itis\"] not in [None,\"Not Matched\"]:\n",
    "            if tirRecord[\"properties\"][\"tsn\"] is not None:\n",
    "                thisRecord[\"tsnsToSearch\"].append(tirRecord[\"properties\"][\"tsn\"])\n",
    "            if tirRecord[\"properties\"][\"acceptedtsn\"] not in [None,thisRecord[\"tsnsToSearch\"]]:\n",
    "                thisRecord[\"tsnsToSearch\"].append(tirRecord[\"properties\"][\"acceptedtsn\"])\n",
    "            if tirRecord[\"properties\"][\"name_itis\"] not in [None,thisRecord[\"namesToSearch\"]]:\n",
    "                thisRecord[\"namesToSearch\"].append(tirRecord[\"properties\"][\"name_itis\"])\n",
    "        \n",
    "        if tirRecord[\"properties\"][\"matchmethod_worms\"] not in [None,\"Not Matched\"]:\n",
    "            if tirRecord[\"properties\"][\"name_worms\"] not in [None,thisRecord[\"namesToSearch\"]]:\n",
    "                thisRecord[\"namesToSearch\"].append(tirRecord[\"properties\"][\"name_worms\"])\n",
    "\n",
    "        if len(thisRecord[\"tsnsToSearch\"]) > 0:\n",
    "            for tsn in thisRecord[\"tsnsToSearch\"]:\n",
    "                thisRecord[\"tessJSON\"] = tess.queryTESS(\"TSN\",tsn)\n",
    "                if thisRecord[\"tessJSON\"][\"result\"]:\n",
    "                    break\n",
    "\n",
    "        if not thisRecord[\"tessJSON\"][\"result\"] and len(thisRecord[\"namesToSearch\"]) > 0:\n",
    "            for name in thisRecord[\"namesToSearch\"]:\n",
    "                thisRecord[\"tessJSON\"] = tess.queryTESS(\"SCINAME\",name)\n",
    "                if thisRecord[\"tessJSON\"][\"result\"]:\n",
    "                    break\n",
    "\n",
    "        display (thisRecord[\"tessJSON\"])\n",
    "        if thisRun[\"commitToDB\"]:\n",
    "            r = tir.cacheToTIR(thisRun[\"baseURL\"],thisRecord[\"id\"],\"tess\",json.dumps(thisRecord[\"tessJSON\"]))\n",
    "            print (r)\n",
    "            if not r[\"success\"]:\n",
    "                thisRecord[\"tessJSON\"].pop(\"REFUGE_OCCURRENCE\",None)\n",
    "                print (tir.cacheToTIR(thisRun[\"baseURL\"],thisRecord[\"id\"],\"tess\",json.dumps(thisRecord[\"tessJSON\"])))\n",
    "        thisRun[\"totalRecordsProcessed\"] = thisRun[\"totalRecordsProcessed\"] + 1\n"
   ]
  },
  {
   "cell_type": "code",
   "execution_count": null,
   "metadata": {
    "collapsed": true,
    "deletable": true,
    "editable": true
   },
   "outputs": [],
   "source": []
  }
 ],
 "metadata": {
  "kernelspec": {
   "display_name": "Python 3",
   "language": "python",
   "name": "python3"
  },
  "language_info": {
   "codemirror_mode": {
    "name": "ipython",
    "version": 3
   },
   "file_extension": ".py",
   "mimetype": "text/x-python",
   "name": "python",
   "nbconvert_exporter": "python",
   "pygments_lexer": "ipython3",
   "version": "3.5.3"
  }
 },
 "nbformat": 4,
 "nbformat_minor": 0
}
