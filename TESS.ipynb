{
 "cells": [
  {
   "cell_type": "markdown",
   "metadata": {},
   "source": [
    "This notebook used ITIS TSNs discovered and cached in the Taxonomic Information Registry to look for information from the USFWS Threatened and Endangered Species System web service. It cached either a negative result or a set of key/value pairs from the TESS service of interest in characterizing species in the TIR."
   ]
  },
  {
   "cell_type": "code",
   "execution_count": 14,
   "metadata": {
    "collapsed": true
   },
   "outputs": [],
   "source": [
    "import requests,configparser,re\n",
    "from IPython.display import display"
   ]
  },
  {
   "cell_type": "code",
   "execution_count": 28,
   "metadata": {
    "collapsed": true
   },
   "outputs": [],
   "source": [
    "# Get API keys and any other config details from a file that is external to the code.\n",
    "config = configparser.RawConfigParser()\n",
    "config.read_file(open(r'../config/stuff.py'))"
   ]
  },
  {
   "cell_type": "code",
   "execution_count": 16,
   "metadata": {
    "collapsed": true
   },
   "outputs": [],
   "source": [
    "# Build base URL with API key using input from the external config.\n",
    "def getBaseURL():\n",
    "    gc2APIKey = config.get('apiKeys','apiKey_GC2_BCB').replace('\"','')\n",
    "    apiBaseURL = \"https://gc2.mapcentia.com/api/v1/sql/bcb?key=\"+gc2APIKey\n",
    "    return apiBaseURL"
   ]
  },
  {
   "cell_type": "code",
   "execution_count": 37,
   "metadata": {
    "collapsed": true
   },
   "outputs": [],
   "source": [
    "# Basic function to insert subject ID, property, and value into tircache\n",
    "def cacheToTIR(gid,infotype,pairs):\n",
    "    updateQ = \"UPDATE tir.tir2 SET \"+infotype+\" = '\"+pairs+\"' WHERE gid = \"+str(gid)\n",
    "    return requests.get(getBaseURL()+\"&q=\"+updateQ).json()"
   ]
  },
  {
   "cell_type": "markdown",
   "metadata": {},
   "source": [
    "### Query TESS by TSN\n",
    "There are several potential query points into TESS, but for now, we are just using the TSN-based search."
   ]
  },
  {
   "cell_type": "code",
   "execution_count": 30,
   "metadata": {
    "collapsed": false
   },
   "outputs": [],
   "source": [
    "def queryTESS(tsn):\n",
    "    tessSpeciesQueryByTSNBaseURL = \"https://ecos.fws.gov/ecp0/TessQuery?request=query&xquery=/SPECIES_DETAIL[TSN=\"\n",
    "    return requests.get(tessSpeciesQueryByTSNBaseURL+tsn+\"]\").text"
   ]
  },
  {
   "cell_type": "markdown",
   "metadata": {},
   "source": [
    "### Package up the TESS data\n",
    "This function works through the XML result from the TESS service. It will always return the data/time that the packaging step ran, the TSN that was used, and a result code. The result can be \"none\", \"error\" or \"success\". If successful, information is packaged from specific TESS attributes of interest into key/value pairs for later use."
   ]
  },
  {
   "cell_type": "code",
   "execution_count": 24,
   "metadata": {
    "collapsed": true
   },
   "outputs": [],
   "source": [
    "def packageTESSPairs(tsn,tessData):\n",
    "    import datetime\n",
    "    from lxml import etree\n",
    "    from io import StringIO\n",
    "    dt = datetime.datetime.utcnow().isoformat()\n",
    "    tessPairs = '\"cacheDate\"=>\"'+dt+'\"'\n",
    "    tessPairs = tessPairs+',\"tsn\"=>\"'+tsn+'\"'\n",
    "\n",
    "    if tessData.find('<results/>') > 0:\n",
    "        tessPairs = tessPairs+',\"result\"=>\"none\"'\n",
    "    else:\n",
    "        try:\n",
    "            rawXML = tessData.replace('<?xml version=\"1.0\" encoding=\"iso-8859-1\"?>', '')\n",
    "            f = StringIO(rawXML)\n",
    "            tree = etree.parse(f)\n",
    "            tessPairs = tessPairs+',\"result\"=>\"success\"'\n",
    "            tessPairs = tessPairs+',\"entityId\"=>\"'+tree.xpath('/results/SPECIES_DETAIL/ENTITY_ID')[0].text+'\"'\n",
    "            tessPairs = tessPairs+',\"SpeciesCode\"=>\"'+tree.xpath('/results/SPECIES_DETAIL/SPCODE')[0].text+'\"'\n",
    "            tessPairs = tessPairs+',\"CommonName\"=>\"'+tree.xpath('/results/SPECIES_DETAIL/COMNAME')[0].text+'\"'\n",
    "            tessPairs = tessPairs+',\"PopulationDescription\"=>\"'+tree.xpath('/results/SPECIES_DETAIL/POP_DESC')[0].text+'\"'\n",
    "            tessPairs = tessPairs+',\"Status\"=>\"'+tree.xpath('/results/SPECIES_DETAIL/STATUS')[0].text+'\"'\n",
    "            tessPairs = tessPairs+',\"StatusText\"=>\"'+tree.xpath('/results/SPECIES_DETAIL/STATUS_TEXT')[0].text+'\"'\n",
    "            rListingDate = tree.xpath('/results/SPECIES_DETAIL/LISTING_DATE')\n",
    "            if len(rListingDate) > 0:\n",
    "                tessPairs = tessPairs+',\"ListingDate\"=>\"'+rListingDate[0].text+'\"'\n",
    "            tessPairs = tessPairs.replace(\"\\'\",\"''\").replace(\";\",\"|\").replace(\"--\",\"-\")\n",
    "        except:\n",
    "            tessPairs = tessPairs+',\"result\"=>\"error\"'\n",
    "\n",
    "    return tessPairs\n"
   ]
  },
  {
   "cell_type": "markdown",
   "metadata": {},
   "source": [
    "### Get TSNs for processing\n",
    "Right now, we retrieve everything from the TIR table that has an ITIS TSN and does not currently have any TESS data. In future, we should come up with some other way of triggering this processing service and come up with a plan for periodic checks and updates."
   ]
  },
  {
   "cell_type": "code",
   "execution_count": 33,
   "metadata": {
    "collapsed": false
   },
   "outputs": [],
   "source": [
    "tsns = requests.get(getBaseURL()+\"&q=SELECT gid,itis->'discoveredTSN' AS discoveredtsn,itis->'acceptedTSN' AS acceptedtsn FROM tir.tir2 WHERE tess IS NULL AND itis->'itisMatchMethod' NOT LIKE 'NotMatched%' LIMIT 100\").json()\n"
   ]
  },
  {
   "cell_type": "markdown",
   "metadata": {},
   "source": [
    "### Process the records to query and return information from TESS\n",
    "In this current process, I first check the discovered TSN from the ITIS cache. If that one does not return any results, I check the accepted TSN from that record (if it exists)."
   ]
  },
  {
   "cell_type": "code",
   "execution_count": 36,
   "metadata": {
    "collapsed": false
   },
   "outputs": [
    {
     "data": {
      "text/plain": [
       "{'acceptedTSN': None,\n",
       " 'discoveredTSN': '173711',\n",
       " 'gid': 9748,\n",
       " 'tessPairs': '\"cacheDate\"=>\"2017-05-07T16:38:27.345660\",\"tsn\"=>\"173711\",\"result\"=>\"success\",\"entityId\"=>\"2423\",\"SpeciesCode\"=>\"D01J\",\"CommonName\"=>\"Techachapi slender salamander\",\"PopulationDescription\"=>\"Wherever found\",\"Status\"=>\"RT\",\"StatusText\"=>\"Resolved Taxon\"'}"
      ]
     },
     "metadata": {},
     "output_type": "display_data"
    },
    {
     "name": "stdout",
     "output_type": "stream",
     "text": [
      "{'_execution_time': 0.064, 'success': True, 'auth_check': {'auth_level': None, 'session': None, 'success': True}, 'affected_rows': 1}\n"
     ]
    },
    {
     "data": {
      "text/plain": [
       "{'acceptedTSN': None,\n",
       " 'discoveredTSN': '22200',\n",
       " 'gid': 16150,\n",
       " 'tessPairs': '\"cacheDate\"=>\"2017-05-07T16:38:28.823732\",\"tsn\"=>\"22200\",\"result\"=>\"success\",\"entityId\"=>\"564\",\"SpeciesCode\"=>\"Q109\",\"CommonName\"=>\"Aupaka\",\"PopulationDescription\"=>\"Wherever found\",\"Status\"=>\"T\",\"StatusText\"=>\"Threatened\",\"ListingDate\"=>\"1996-10-10\"'}"
      ]
     },
     "metadata": {},
     "output_type": "display_data"
    },
    {
     "name": "stdout",
     "output_type": "stream",
     "text": [
      "{'_execution_time': 0.063, 'success': True, 'auth_check': {'auth_level': None, 'session': None, 'success': True}, 'affected_rows': 1}\n"
     ]
    },
    {
     "data": {
      "text/plain": [
       "{'acceptedTSN': None,\n",
       " 'discoveredTSN': '771341',\n",
       " 'gid': 21,\n",
       " 'tessPairs': '\"cacheDate\"=>\"2017-05-07T16:38:30.346409\",\"tsn\"=>\"771341\",\"result\"=>\"none\"'}"
      ]
     },
     "metadata": {},
     "output_type": "display_data"
    },
    {
     "name": "stdout",
     "output_type": "stream",
     "text": [
      "{'_execution_time': 0.066, 'success': True, 'auth_check': {'auth_level': None, 'session': None, 'success': True}, 'affected_rows': 1}\n"
     ]
    },
    {
     "data": {
      "text/plain": [
       "{'acceptedTSN': None,\n",
       " 'discoveredTSN': '567703',\n",
       " 'gid': 2286,\n",
       " 'tessPairs': '\"cacheDate\"=>\"2017-05-07T16:38:31.876424\",\"tsn\"=>\"567703\",\"result\"=>\"none\"'}"
      ]
     },
     "metadata": {},
     "output_type": "display_data"
    },
    {
     "name": "stdout",
     "output_type": "stream",
     "text": [
      "{'_execution_time': 0.06, 'success': True, 'auth_check': {'auth_level': None, 'session': None, 'success': True}, 'affected_rows': 1}\n"
     ]
    },
    {
     "data": {
      "text/plain": [
       "{'acceptedTSN': None,\n",
       " 'discoveredTSN': '777912',\n",
       " 'gid': 1852,\n",
       " 'tessPairs': '\"cacheDate\"=>\"2017-05-07T16:38:33.155004\",\"tsn\"=>\"777912\",\"result\"=>\"none\"'}"
      ]
     },
     "metadata": {},
     "output_type": "display_data"
    },
    {
     "name": "stdout",
     "output_type": "stream",
     "text": [
      "{'_execution_time': 0.066, 'success': True, 'auth_check': {'auth_level': None, 'session': None, 'success': True}, 'affected_rows': 1}\n"
     ]
    },
    {
     "data": {
      "text/plain": [
       "{'acceptedTSN': None,\n",
       " 'discoveredTSN': '201922',\n",
       " 'gid': 6290,\n",
       " 'tessPairs': '\"cacheDate\"=>\"2017-05-07T16:38:34.510363\",\"tsn\"=>\"201922\",\"result\"=>\"success\",\"entityId\"=>\"226\",\"SpeciesCode\"=>\"E00R\",\"CommonName\"=>\"Pahranagat roundtail chub\",\"PopulationDescription\"=>\"Wherever found\",\"Status\"=>\"E\",\"StatusText\"=>\"Endangered\",\"ListingDate\"=>\"1970-10-13\"'}"
      ]
     },
     "metadata": {},
     "output_type": "display_data"
    },
    {
     "name": "stdout",
     "output_type": "stream",
     "text": [
      "{'_execution_time': 0.071, 'success': True, 'auth_check': {'auth_level': None, 'session': None, 'success': True}, 'affected_rows': 1}\n"
     ]
    },
    {
     "data": {
      "text/plain": [
       "{'acceptedTSN': None,\n",
       " 'discoveredTSN': '117389',\n",
       " 'gid': 6145,\n",
       " 'tessPairs': '\"cacheDate\"=>\"2017-05-07T16:38:36.000127\",\"tsn\"=>\"117389\",\"result\"=>\"none\"'}"
      ]
     },
     "metadata": {},
     "output_type": "display_data"
    },
    {
     "name": "stdout",
     "output_type": "stream",
     "text": [
      "{'_execution_time': 0.11, 'success': True, 'auth_check': {'auth_level': None, 'session': None, 'success': True}, 'affected_rows': 1}\n"
     ]
    },
    {
     "data": {
      "text/plain": [
       "{'acceptedTSN': None,\n",
       " 'discoveredTSN': '101205',\n",
       " 'gid': 7510,\n",
       " 'tessPairs': '\"cacheDate\"=>\"2017-05-07T16:38:37.439284\",\"tsn\"=>\"101205\",\"result\"=>\"none\"'}"
      ]
     },
     "metadata": {},
     "output_type": "display_data"
    },
    {
     "name": "stdout",
     "output_type": "stream",
     "text": [
      "{'_execution_time': 0.067, 'success': True, 'auth_check': {'auth_level': None, 'session': None, 'success': True}, 'affected_rows': 1}\n"
     ]
    },
    {
     "data": {
      "text/plain": [
       "{'acceptedTSN': None,\n",
       " 'discoveredTSN': '167233',\n",
       " 'gid': 10409,\n",
       " 'tessPairs': '\"cacheDate\"=>\"2017-05-07T16:38:38.867691\",\"tsn\"=>\"167233\",\"result\"=>\"none\"'}"
      ]
     },
     "metadata": {},
     "output_type": "display_data"
    },
    {
     "name": "stdout",
     "output_type": "stream",
     "text": [
      "{'_execution_time': 0.068, 'success': True, 'auth_check': {'auth_level': None, 'session': None, 'success': True}, 'affected_rows': 1}\n"
     ]
    },
    {
     "data": {
      "text/plain": [
       "{'acceptedTSN': None,\n",
       " 'discoveredTSN': '553110',\n",
       " 'gid': 11729,\n",
       " 'tessPairs': '\"cacheDate\"=>\"2017-05-07T16:38:40.712038\",\"tsn\"=>\"553110\",\"result\"=>\"none\"'}"
      ]
     },
     "metadata": {},
     "output_type": "display_data"
    },
    {
     "name": "stdout",
     "output_type": "stream",
     "text": [
      "{'_execution_time': 0.07, 'success': True, 'auth_check': {'auth_level': None, 'session': None, 'success': True}, 'affected_rows': 1}\n"
     ]
    },
    {
     "data": {
      "text/plain": [
       "{'acceptedTSN': None,\n",
       " 'discoveredTSN': '33306',\n",
       " 'gid': 7010,\n",
       " 'tessPairs': '\"cacheDate\"=>\"2017-05-07T16:38:42.496312\",\"tsn\"=>\"33306\",\"result\"=>\"none\"'}"
      ]
     },
     "metadata": {},
     "output_type": "display_data"
    },
    {
     "name": "stdout",
     "output_type": "stream",
     "text": [
      "{'_execution_time': 0.061, 'success': True, 'auth_check': {'auth_level': None, 'session': None, 'success': True}, 'affected_rows': 1}\n"
     ]
    },
    {
     "data": {
      "text/plain": [
       "{'acceptedTSN': None,\n",
       " 'discoveredTSN': '771359',\n",
       " 'gid': 22,\n",
       " 'tessPairs': '\"cacheDate\"=>\"2017-05-07T16:38:43.880272\",\"tsn\"=>\"771359\",\"result\"=>\"none\"'}"
      ]
     },
     "metadata": {},
     "output_type": "display_data"
    },
    {
     "name": "stdout",
     "output_type": "stream",
     "text": [
      "{'_execution_time': 0.059, 'success': True, 'auth_check': {'auth_level': None, 'session': None, 'success': True}, 'affected_rows': 1}\n"
     ]
    },
    {
     "data": {
      "text/plain": [
       "{'acceptedTSN': None,\n",
       " 'discoveredTSN': '102920',\n",
       " 'gid': 59,\n",
       " 'tessPairs': '\"cacheDate\"=>\"2017-05-07T16:38:45.033644\",\"tsn\"=>\"102920\",\"result\"=>\"none\"'}"
      ]
     },
     "metadata": {},
     "output_type": "display_data"
    },
    {
     "name": "stdout",
     "output_type": "stream",
     "text": [
      "{'_execution_time': 0.061, 'success': True, 'auth_check': {'auth_level': None, 'session': None, 'success': True}, 'affected_rows': 1}\n"
     ]
    },
    {
     "data": {
      "text/plain": [
       "{'acceptedTSN': None,\n",
       " 'discoveredTSN': '165682',\n",
       " 'gid': 75,\n",
       " 'tessPairs': '\"cacheDate\"=>\"2017-05-07T16:38:46.803157\",\"tsn\"=>\"165682\",\"result\"=>\"none\"'}"
      ]
     },
     "metadata": {},
     "output_type": "display_data"
    },
    {
     "name": "stdout",
     "output_type": "stream",
     "text": [
      "{'_execution_time': 0.059, 'success': True, 'auth_check': {'auth_level': None, 'session': None, 'success': True}, 'affected_rows': 1}\n"
     ]
    },
    {
     "data": {
      "text/plain": [
       "{'acceptedTSN': None,\n",
       " 'discoveredTSN': '177938',\n",
       " 'gid': 80,\n",
       " 'tessPairs': '\"cacheDate\"=>\"2017-05-07T16:38:47.976109\",\"tsn\"=>\"177938\",\"result\"=>\"none\"'}"
      ]
     },
     "metadata": {},
     "output_type": "display_data"
    },
    {
     "name": "stdout",
     "output_type": "stream",
     "text": [
      "{'_execution_time': 0.067, 'success': True, 'auth_check': {'auth_level': None, 'session': None, 'success': True}, 'affected_rows': 1}\n"
     ]
    },
    {
     "data": {
      "text/plain": [
       "{'acceptedTSN': None,\n",
       " 'discoveredTSN': '77051',\n",
       " 'gid': 2288,\n",
       " 'tessPairs': '\"cacheDate\"=>\"2017-05-07T16:38:49.551899\",\"tsn\"=>\"77051\",\"result\"=>\"none\"'}"
      ]
     },
     "metadata": {},
     "output_type": "display_data"
    },
    {
     "name": "stdout",
     "output_type": "stream",
     "text": [
      "{'_execution_time': 0.062, 'success': True, 'auth_check': {'auth_level': None, 'session': None, 'success': True}, 'affected_rows': 1}\n"
     ]
    },
    {
     "data": {
      "text/plain": [
       "{'acceptedTSN': None,\n",
       " 'discoveredTSN': '568206',\n",
       " 'gid': 3808,\n",
       " 'tessPairs': '\"cacheDate\"=>\"2017-05-07T16:38:50.749093\",\"tsn\"=>\"568206\",\"result\"=>\"success\",\"entityId\"=>\"5893\",\"SpeciesCode\"=>\"G056\",\"CommonName\"=>\"Verde Rim springsnail\",\"PopulationDescription\"=>\"Wherever found\",\"Status\"=>\"SC\",\"StatusText\"=>\"Species of Concern\"'}"
      ]
     },
     "metadata": {},
     "output_type": "display_data"
    },
    {
     "name": "stdout",
     "output_type": "stream",
     "text": [
      "{'_execution_time': 0.067, 'success': True, 'auth_check': {'auth_level': None, 'session': None, 'success': True}, 'affected_rows': 1}\n"
     ]
    },
    {
     "data": {
      "text/plain": [
       "{'acceptedTSN': None,\n",
       " 'discoveredTSN': '36657',\n",
       " 'gid': 6376,\n",
       " 'tessPairs': '\"cacheDate\"=>\"2017-05-07T16:38:51.891683\",\"tsn\"=>\"36657\",\"result\"=>\"none\"'}"
      ]
     },
     "metadata": {},
     "output_type": "display_data"
    },
    {
     "name": "stdout",
     "output_type": "stream",
     "text": [
      "{'_execution_time': 0.062, 'success': True, 'auth_check': {'auth_level': None, 'session': None, 'success': True}, 'affected_rows': 1}\n"
     ]
    },
    {
     "data": {
      "text/plain": [
       "{'acceptedTSN': None,\n",
       " 'discoveredTSN': '547735',\n",
       " 'gid': 14280,\n",
       " 'tessPairs': '\"cacheDate\"=>\"2017-05-07T16:38:53.069924\",\"tsn\"=>\"547735\",\"result\"=>\"none\"'}"
      ]
     },
     "metadata": {},
     "output_type": "display_data"
    },
    {
     "name": "stdout",
     "output_type": "stream",
     "text": [
      "{'_execution_time': 0.103, 'success': True, 'auth_check': {'auth_level': None, 'session': None, 'success': True}, 'affected_rows': 1}\n"
     ]
    },
    {
     "data": {
      "text/plain": [
       "{'acceptedTSN': None,\n",
       " 'discoveredTSN': '30483',\n",
       " 'gid': 16963,\n",
       " 'tessPairs': '\"cacheDate\"=>\"2017-05-07T16:38:54.242871\",\"tsn\"=>\"30483\",\"result\"=>\"success\",\"entityId\"=>\"6870\",\"SpeciesCode\"=>\"Q21R\",\"CommonName\"=>\"Popolo\",\"PopulationDescription\"=>\"Wherever found\",\"Status\"=>\"E\",\"StatusText\"=>\"Endangered\",\"ListingDate\"=>\"2016-10-31\"'}"
      ]
     },
     "metadata": {},
     "output_type": "display_data"
    },
    {
     "name": "stdout",
     "output_type": "stream",
     "text": [
      "{'_execution_time': 0.06, 'success': True, 'auth_check': {'auth_level': None, 'session': None, 'success': True}, 'affected_rows': 1}\n"
     ]
    },
    {
     "data": {
      "text/plain": [
       "{'acceptedTSN': None,\n",
       " 'discoveredTSN': '505370',\n",
       " 'gid': 17014,\n",
       " 'tessPairs': '\"cacheDate\"=>\"2017-05-07T16:38:55.466921\",\"tsn\"=>\"505370\",\"result\"=>\"none\"'}"
      ]
     },
     "metadata": {},
     "output_type": "display_data"
    },
    {
     "name": "stdout",
     "output_type": "stream",
     "text": [
      "{'_execution_time': 0.059, 'success': True, 'auth_check': {'auth_level': None, 'session': None, 'success': True}, 'affected_rows': 1}\n"
     ]
    },
    {
     "data": {
      "text/plain": [
       "{'acceptedTSN': None,\n",
       " 'discoveredTSN': '170046',\n",
       " 'gid': 23,\n",
       " 'tessPairs': '\"cacheDate\"=>\"2017-05-07T16:38:56.607212\",\"tsn\"=>\"170046\",\"result\"=>\"none\"'}"
      ]
     },
     "metadata": {},
     "output_type": "display_data"
    },
    {
     "name": "stdout",
     "output_type": "stream",
     "text": [
      "{'_execution_time': 0.068, 'success': True, 'auth_check': {'auth_level': None, 'session': None, 'success': True}, 'affected_rows': 1}\n"
     ]
    },
    {
     "data": {
      "text/plain": [
       "{'acceptedTSN': None,\n",
       " 'discoveredTSN': '158323',\n",
       " 'gid': 2289,\n",
       " 'tessPairs': '\"cacheDate\"=>\"2017-05-07T16:38:57.805341\",\"tsn\"=>\"158323\",\"result\"=>\"none\"'}"
      ]
     },
     "metadata": {},
     "output_type": "display_data"
    },
    {
     "name": "stdout",
     "output_type": "stream",
     "text": [
      "{'_execution_time': 0.062, 'success': True, 'auth_check': {'auth_level': None, 'session': None, 'success': True}, 'affected_rows': 1}\n"
     ]
    },
    {
     "data": {
      "text/plain": [
       "{'acceptedTSN': None,\n",
       " 'discoveredTSN': '80685',\n",
       " 'gid': 15289,\n",
       " 'tessPairs': '\"cacheDate\"=>\"2017-05-07T16:38:58.923262\",\"tsn\"=>\"80685\",\"result\"=>\"none\"'}"
      ]
     },
     "metadata": {},
     "output_type": "display_data"
    },
    {
     "name": "stdout",
     "output_type": "stream",
     "text": [
      "{'_execution_time': 0.065, 'success': True, 'auth_check': {'auth_level': None, 'session': None, 'success': True}, 'affected_rows': 1}\n"
     ]
    },
    {
     "data": {
      "text/plain": [
       "{'acceptedTSN': None,\n",
       " 'discoveredTSN': '100901',\n",
       " 'gid': 7506,\n",
       " 'tessPairs': '\"cacheDate\"=>\"2017-05-07T16:39:00.007703\",\"tsn\"=>\"100901\",\"result\"=>\"none\"'}"
      ]
     },
     "metadata": {},
     "output_type": "display_data"
    },
    {
     "name": "stdout",
     "output_type": "stream",
     "text": [
      "{'_execution_time': 0.066, 'success': True, 'auth_check': {'auth_level': None, 'session': None, 'success': True}, 'affected_rows': 1}\n"
     ]
    },
    {
     "data": {
      "text/plain": [
       "{'acceptedTSN': None,\n",
       " 'discoveredTSN': '571933',\n",
       " 'gid': 10050,\n",
       " 'tessPairs': '\"cacheDate\"=>\"2017-05-07T16:39:01.141717\",\"tsn\"=>\"571933\",\"result\"=>\"none\"'}"
      ]
     },
     "metadata": {},
     "output_type": "display_data"
    },
    {
     "name": "stdout",
     "output_type": "stream",
     "text": [
      "{'_execution_time': 0.059, 'success': True, 'auth_check': {'auth_level': None, 'session': None, 'success': True}, 'affected_rows': 1}\n"
     ]
    },
    {
     "data": {
      "text/plain": [
       "{'acceptedTSN': None,\n",
       " 'discoveredTSN': '25863',\n",
       " 'gid': 2567,\n",
       " 'tessPairs': '\"cacheDate\"=>\"2017-05-07T16:39:02.327368\",\"tsn\"=>\"25863\",\"result\"=>\"none\"'}"
      ]
     },
     "metadata": {},
     "output_type": "display_data"
    },
    {
     "name": "stdout",
     "output_type": "stream",
     "text": [
      "{'_execution_time': 0.067, 'success': True, 'auth_check': {'auth_level': None, 'session': None, 'success': True}, 'affected_rows': 1}\n"
     ]
    },
    {
     "data": {
      "text/plain": [
       "{'acceptedTSN': None,\n",
       " 'discoveredTSN': '112135',\n",
       " 'gid': 17272,\n",
       " 'tessPairs': '\"cacheDate\"=>\"2017-05-07T16:39:03.553886\",\"tsn\"=>\"112135\",\"result\"=>\"none\"'}"
      ]
     },
     "metadata": {},
     "output_type": "display_data"
    },
    {
     "name": "stdout",
     "output_type": "stream",
     "text": [
      "{'_execution_time': 0.068, 'success': True, 'auth_check': {'auth_level': None, 'session': None, 'success': True}, 'affected_rows': 1}\n"
     ]
    },
    {
     "data": {
      "text/plain": [
       "{'acceptedTSN': None,\n",
       " 'discoveredTSN': '938807',\n",
       " 'gid': 6146,\n",
       " 'tessPairs': '\"cacheDate\"=>\"2017-05-07T16:39:04.671645\",\"tsn\"=>\"938807\",\"result\"=>\"none\"'}"
      ]
     },
     "metadata": {},
     "output_type": "display_data"
    },
    {
     "name": "stdout",
     "output_type": "stream",
     "text": [
      "{'_execution_time': 0.1, 'success': True, 'auth_check': {'auth_level': None, 'session': None, 'success': True}, 'affected_rows': 1}\n"
     ]
    },
    {
     "data": {
      "text/plain": [
       "{'acceptedTSN': None,\n",
       " 'discoveredTSN': '170047',\n",
       " 'gid': 24,\n",
       " 'tessPairs': '\"cacheDate\"=>\"2017-05-07T16:39:05.770039\",\"tsn\"=>\"170047\",\"result\"=>\"none\"'}"
      ]
     },
     "metadata": {},
     "output_type": "display_data"
    },
    {
     "name": "stdout",
     "output_type": "stream",
     "text": [
      "{'_execution_time': 0.069, 'success': True, 'auth_check': {'auth_level': None, 'session': None, 'success': True}, 'affected_rows': 1}\n"
     ]
    },
    {
     "data": {
      "text/plain": [
       "{'acceptedTSN': None,\n",
       " 'discoveredTSN': '24048',\n",
       " 'gid': 2292,\n",
       " 'tessPairs': '\"cacheDate\"=>\"2017-05-07T16:39:06.897836\",\"tsn\"=>\"24048\",\"result\"=>\"none\"'}"
      ]
     },
     "metadata": {},
     "output_type": "display_data"
    },
    {
     "name": "stdout",
     "output_type": "stream",
     "text": [
      "{'_execution_time': 0.058, 'success': True, 'auth_check': {'auth_level': None, 'session': None, 'success': True}, 'affected_rows': 1}\n"
     ]
    },
    {
     "data": {
      "text/plain": [
       "{'acceptedTSN': None,\n",
       " 'discoveredTSN': '24250',\n",
       " 'gid': 3976,\n",
       " 'tessPairs': '\"cacheDate\"=>\"2017-05-07T16:39:08.043136\",\"tsn\"=>\"24250\",\"result\"=>\"none\"'}"
      ]
     },
     "metadata": {},
     "output_type": "display_data"
    },
    {
     "name": "stdout",
     "output_type": "stream",
     "text": [
      "{'_execution_time': 0.06, 'success': True, 'auth_check': {'auth_level': None, 'session': None, 'success': True}, 'affected_rows': 1}\n"
     ]
    },
    {
     "data": {
      "text/plain": [
       "{'acceptedTSN': None,\n",
       " 'discoveredTSN': '706618',\n",
       " 'gid': 6419,\n",
       " 'tessPairs': '\"cacheDate\"=>\"2017-05-07T16:39:09.152716\",\"tsn\"=>\"706618\",\"result\"=>\"success\",\"entityId\"=>\"3412\",\"SpeciesCode\"=>\"I011\",\"CommonName\"=>\"Dakota Skipper\",\"PopulationDescription\"=>\"Wherever found\",\"Status\"=>\"T\",\"StatusText\"=>\"Threatened\",\"ListingDate\"=>\"2014-11-24\"'}"
      ]
     },
     "metadata": {},
     "output_type": "display_data"
    },
    {
     "name": "stdout",
     "output_type": "stream",
     "text": [
      "{'_execution_time': 0.06, 'success': True, 'auth_check': {'auth_level': None, 'session': None, 'success': True}, 'affected_rows': 1}\n"
     ]
    },
    {
     "data": {
      "text/plain": [
       "{'acceptedTSN': None,\n",
       " 'discoveredTSN': '209441',\n",
       " 'gid': 8943,\n",
       " 'tessPairs': '\"cacheDate\"=>\"2017-05-07T16:39:10.292799\",\"tsn\"=>\"209441\",\"result\"=>\"none\"'}"
      ]
     },
     "metadata": {},
     "output_type": "display_data"
    },
    {
     "name": "stdout",
     "output_type": "stream",
     "text": [
      "{'_execution_time': 0.059, 'success': True, 'auth_check': {'auth_level': None, 'session': None, 'success': True}, 'affected_rows': 1}\n"
     ]
    },
    {
     "data": {
      "text/plain": [
       "{'acceptedTSN': None,\n",
       " 'discoveredTSN': '158032',\n",
       " 'gid': 2581,\n",
       " 'tessPairs': '\"cacheDate\"=>\"2017-05-07T16:39:11.360456\",\"tsn\"=>\"158032\",\"result\"=>\"none\"'}"
      ]
     },
     "metadata": {},
     "output_type": "display_data"
    },
    {
     "name": "stdout",
     "output_type": "stream",
     "text": [
      "{'_execution_time': 0.073, 'success': True, 'auth_check': {'auth_level': None, 'session': None, 'success': True}, 'affected_rows': 1}\n"
     ]
    },
    {
     "data": {
      "text/plain": [
       "{'acceptedTSN': None,\n",
       " 'discoveredTSN': '527979',\n",
       " 'gid': 17557,\n",
       " 'tessPairs': '\"cacheDate\"=>\"2017-05-07T16:39:12.407137\",\"tsn\"=>\"527979\",\"result\"=>\"none\"'}"
      ]
     },
     "metadata": {},
     "output_type": "display_data"
    },
    {
     "name": "stdout",
     "output_type": "stream",
     "text": [
      "{'_execution_time': 0.069, 'success': True, 'auth_check': {'auth_level': None, 'session': None, 'success': True}, 'affected_rows': 1}\n"
     ]
    },
    {
     "data": {
      "text/plain": [
       "{'acceptedTSN': None,\n",
       " 'discoveredTSN': '171450',\n",
       " 'gid': 29,\n",
       " 'tessPairs': '\"cacheDate\"=>\"2017-05-07T16:39:13.533534\",\"tsn\"=>\"171450\",\"result\"=>\"none\"'}"
      ]
     },
     "metadata": {},
     "output_type": "display_data"
    },
    {
     "name": "stdout",
     "output_type": "stream",
     "text": [
      "{'_execution_time': 0.1, 'success': True, 'auth_check': {'auth_level': None, 'session': None, 'success': True}, 'affected_rows': 1}\n"
     ]
    },
    {
     "data": {
      "text/plain": [
       "{'acceptedTSN': None,\n",
       " 'discoveredTSN': '35045',\n",
       " 'gid': 2293,\n",
       " 'tessPairs': '\"cacheDate\"=>\"2017-05-07T16:39:14.684690\",\"tsn\"=>\"35045\",\"result\"=>\"none\"'}"
      ]
     },
     "metadata": {},
     "output_type": "display_data"
    },
    {
     "name": "stdout",
     "output_type": "stream",
     "text": [
      "{'_execution_time': 0.065, 'success': True, 'auth_check': {'auth_level': None, 'session': None, 'success': True}, 'affected_rows': 1}\n"
     ]
    },
    {
     "data": {
      "text/plain": [
       "{'acceptedTSN': None,\n",
       " 'discoveredTSN': '76856',\n",
       " 'gid': 4609,\n",
       " 'tessPairs': '\"cacheDate\"=>\"2017-05-07T16:39:15.854950\",\"tsn\"=>\"76856\",\"result\"=>\"none\"'}"
      ]
     },
     "metadata": {},
     "output_type": "display_data"
    },
    {
     "name": "stdout",
     "output_type": "stream",
     "text": [
      "{'_execution_time': 0.065, 'success': True, 'auth_check': {'auth_level': None, 'session': None, 'success': True}, 'affected_rows': 1}\n"
     ]
    },
    {
     "data": {
      "text/plain": [
       "{'acceptedTSN': None,\n",
       " 'discoveredTSN': '169612',\n",
       " 'gid': 10099,\n",
       " 'tessPairs': '\"cacheDate\"=>\"2017-05-07T16:39:17.032536\",\"tsn\"=>\"169612\",\"result\"=>\"none\"'}"
      ]
     },
     "metadata": {},
     "output_type": "display_data"
    },
    {
     "name": "stdout",
     "output_type": "stream",
     "text": [
      "{'_execution_time': 0.063, 'success': True, 'auth_check': {'auth_level': None, 'session': None, 'success': True}, 'affected_rows': 1}\n"
     ]
    },
    {
     "data": {
      "text/plain": [
       "{'acceptedTSN': None,\n",
       " 'discoveredTSN': '103447',\n",
       " 'gid': 17315,\n",
       " 'tessPairs': '\"cacheDate\"=>\"2017-05-07T16:39:18.169708\",\"tsn\"=>\"103447\",\"result\"=>\"none\"'}"
      ]
     },
     "metadata": {},
     "output_type": "display_data"
    },
    {
     "name": "stdout",
     "output_type": "stream",
     "text": [
      "{'_execution_time': 0.056, 'success': True, 'auth_check': {'auth_level': None, 'session': None, 'success': True}, 'affected_rows': 1}\n"
     ]
    },
    {
     "data": {
      "text/plain": [
       "{'acceptedTSN': None,\n",
       " 'discoveredTSN': '528417',\n",
       " 'gid': 11296,\n",
       " 'tessPairs': '\"cacheDate\"=>\"2017-05-07T16:39:19.382092\",\"tsn\"=>\"528417\",\"result\"=>\"none\"'}"
      ]
     },
     "metadata": {},
     "output_type": "display_data"
    },
    {
     "name": "stdout",
     "output_type": "stream",
     "text": [
      "{'_execution_time': 0.057, 'success': True, 'auth_check': {'auth_level': None, 'session': None, 'success': True}, 'affected_rows': 1}\n"
     ]
    },
    {
     "data": {
      "text/plain": [
       "{'acceptedTSN': None,\n",
       " 'discoveredTSN': '33196',\n",
       " 'gid': 6337,\n",
       " 'tessPairs': '\"cacheDate\"=>\"2017-05-07T16:39:20.449697\",\"tsn\"=>\"33196\",\"result\"=>\"success\",\"entityId\"=>\"2263\",\"SpeciesCode\"=>\"Q0WY\",\"CommonName\"=>\"Boggs Lake hedge-hyssop\",\"PopulationDescription\"=>\"Wherever found\",\"Status\"=>\"RT\",\"StatusText\"=>\"Resolved Taxon\"'}"
      ]
     },
     "metadata": {},
     "output_type": "display_data"
    },
    {
     "name": "stdout",
     "output_type": "stream",
     "text": [
      "{'_execution_time': 0.069, 'success': True, 'auth_check': {'auth_level': None, 'session': None, 'success': True}, 'affected_rows': 1}\n"
     ]
    },
    {
     "data": {
      "text/plain": [
       "{'acceptedTSN': None,\n",
       " 'discoveredTSN': '179377',\n",
       " 'gid': 4759,\n",
       " 'tessPairs': '\"cacheDate\"=>\"2017-05-07T16:39:21.971270\",\"tsn\"=>\"179377\",\"result\"=>\"success\",\"entityId\"=>\"10684\",\"SpeciesCode\"=>\"B0MX\",\"CommonName\"=>\"Rufous-crowned Sparrow\",\"PopulationDescription\"=>\"Wherever found\",\"Status\"=>\"SC\",\"StatusText\"=>\"Species of Concern\"'}"
      ]
     },
     "metadata": {},
     "output_type": "display_data"
    },
    {
     "name": "stdout",
     "output_type": "stream",
     "text": [
      "{'_execution_time': 0.067, 'success': True, 'auth_check': {'auth_level': None, 'session': None, 'success': True}, 'affected_rows': 1}\n"
     ]
    },
    {
     "data": {
      "text/plain": [
       "{'acceptedTSN': None,\n",
       " 'discoveredTSN': '171452',\n",
       " 'gid': 30,\n",
       " 'tessPairs': '\"cacheDate\"=>\"2017-05-07T16:39:23.226723\",\"tsn\"=>\"171452\",\"result\"=>\"none\"'}"
      ]
     },
     "metadata": {},
     "output_type": "display_data"
    },
    {
     "name": "stdout",
     "output_type": "stream",
     "text": [
      "{'_execution_time': 0.067, 'success': True, 'auth_check': {'auth_level': None, 'session': None, 'success': True}, 'affected_rows': 1}\n"
     ]
    },
    {
     "data": {
      "text/plain": [
       "{'acceptedTSN': None,\n",
       " 'discoveredTSN': '35052',\n",
       " 'gid': 2295,\n",
       " 'tessPairs': '\"cacheDate\"=>\"2017-05-07T16:39:24.374447\",\"tsn\"=>\"35052\",\"result\"=>\"none\"'}"
      ]
     },
     "metadata": {},
     "output_type": "display_data"
    },
    {
     "name": "stdout",
     "output_type": "stream",
     "text": [
      "{'_execution_time': 0.1, 'success': True, 'auth_check': {'auth_level': None, 'session': None, 'success': True}, 'affected_rows': 1}\n"
     ]
    },
    {
     "data": {
      "text/plain": [
       "{'acceptedTSN': None,\n",
       " 'discoveredTSN': '76857',\n",
       " 'gid': 4610,\n",
       " 'tessPairs': '\"cacheDate\"=>\"2017-05-07T16:39:25.595411\",\"tsn\"=>\"76857\",\"result\"=>\"none\"'}"
      ]
     },
     "metadata": {},
     "output_type": "display_data"
    },
    {
     "name": "stdout",
     "output_type": "stream",
     "text": [
      "{'_execution_time': 0.07, 'success': True, 'auth_check': {'auth_level': None, 'session': None, 'success': True}, 'affected_rows': 1}\n"
     ]
    },
    {
     "data": {
      "text/plain": [
       "{'acceptedTSN': None,\n",
       " 'discoveredTSN': '777792',\n",
       " 'gid': 6803,\n",
       " 'tessPairs': '\"cacheDate\"=>\"2017-05-07T16:39:26.765944\",\"tsn\"=>\"777792\",\"result\"=>\"none\"'}"
      ]
     },
     "metadata": {},
     "output_type": "display_data"
    },
    {
     "name": "stdout",
     "output_type": "stream",
     "text": [
      "{'_execution_time': 0.068, 'success': True, 'auth_check': {'auth_level': None, 'session': None, 'success': True}, 'affected_rows': 1}\n"
     ]
    },
    {
     "data": {
      "text/plain": [
       "{'acceptedTSN': None,\n",
       " 'discoveredTSN': '26681',\n",
       " 'gid': 6150,\n",
       " 'tessPairs': '\"cacheDate\"=>\"2017-05-07T16:39:27.973222\",\"tsn\"=>\"26681\",\"result\"=>\"none\"'}"
      ]
     },
     "metadata": {},
     "output_type": "display_data"
    },
    {
     "name": "stdout",
     "output_type": "stream",
     "text": [
      "{'_execution_time': 0.063, 'success': True, 'auth_check': {'auth_level': None, 'session': None, 'success': True}, 'affected_rows': 1}\n"
     ]
    },
    {
     "data": {
      "text/plain": [
       "{'acceptedTSN': None,\n",
       " 'discoveredTSN': '528418',\n",
       " 'gid': 11297,\n",
       " 'tessPairs': '\"cacheDate\"=>\"2017-05-07T16:39:29.131107\",\"tsn\"=>\"528418\",\"result\"=>\"none\"'}"
      ]
     },
     "metadata": {},
     "output_type": "display_data"
    },
    {
     "name": "stdout",
     "output_type": "stream",
     "text": [
      "{'_execution_time': 0.058, 'success': True, 'auth_check': {'auth_level': None, 'session': None, 'success': True}, 'affected_rows': 1}\n"
     ]
    },
    {
     "data": {
      "text/plain": [
       "{'acceptedTSN': None,\n",
       " 'discoveredTSN': '88135',\n",
       " 'gid': 15477,\n",
       " 'tessPairs': '\"cacheDate\"=>\"2017-05-07T16:39:30.318239\",\"tsn\"=>\"88135\",\"result\"=>\"none\"'}"
      ]
     },
     "metadata": {},
     "output_type": "display_data"
    },
    {
     "name": "stdout",
     "output_type": "stream",
     "text": [
      "{'_execution_time': 0.069, 'success': True, 'auth_check': {'auth_level': None, 'session': None, 'success': True}, 'affected_rows': 1}\n"
     ]
    },
    {
     "data": {
      "text/plain": [
       "{'acceptedTSN': None,\n",
       " 'discoveredTSN': '79918',\n",
       " 'gid': 4761,\n",
       " 'tessPairs': '\"cacheDate\"=>\"2017-05-07T16:39:31.482866\",\"tsn\"=>\"79918\",\"result\"=>\"success\",\"entityId\"=>\"3087\",\"SpeciesCode\"=>\"F03Q\",\"CommonName\"=>\"[Unnamed] elktoe\",\"PopulationDescription\"=>\"Wherever found\",\"Status\"=>\"SC\",\"StatusText\"=>\"Species of Concern\"'}"
      ]
     },
     "metadata": {},
     "output_type": "display_data"
    },
    {
     "name": "stdout",
     "output_type": "stream",
     "text": [
      "{'_execution_time': 0.065, 'success': True, 'auth_check': {'auth_level': None, 'session': None, 'success': True}, 'affected_rows': 1}\n"
     ]
    },
    {
     "data": {
      "text/plain": [
       "{'acceptedTSN': None,\n",
       " 'discoveredTSN': '93981',\n",
       " 'gid': 32,\n",
       " 'tessPairs': '\"cacheDate\"=>\"2017-05-07T16:39:32.612840\",\"tsn\"=>\"93981\",\"result\"=>\"none\"'}"
      ]
     },
     "metadata": {},
     "output_type": "display_data"
    },
    {
     "name": "stdout",
     "output_type": "stream",
     "text": [
      "{'_execution_time': 0.062, 'success': True, 'auth_check': {'auth_level': None, 'session': None, 'success': True}, 'affected_rows': 1}\n"
     ]
    },
    {
     "data": {
      "text/plain": [
       "{'acceptedTSN': None,\n",
       " 'discoveredTSN': '22275',\n",
       " 'gid': 2296,\n",
       " 'tessPairs': '\"cacheDate\"=>\"2017-05-07T16:39:33.710000\",\"tsn\"=>\"22275\",\"result\"=>\"none\"'}"
      ]
     },
     "metadata": {},
     "output_type": "display_data"
    },
    {
     "name": "stdout",
     "output_type": "stream",
     "text": [
      "{'_execution_time': 0.057, 'success': True, 'auth_check': {'auth_level': None, 'session': None, 'success': True}, 'affected_rows': 1}\n"
     ]
    },
    {
     "data": {
      "text/plain": [
       "{'acceptedTSN': None,\n",
       " 'discoveredTSN': '117000',\n",
       " 'gid': 4744,\n",
       " 'tessPairs': '\"cacheDate\"=>\"2017-05-07T16:39:34.781062\",\"tsn\"=>\"117000\",\"result\"=>\"success\",\"entityId\"=>\"2637\",\"SpeciesCode\"=>\"I0J2\",\"CommonName\"=>\"Stannard\\'\\'s agarodes caddisfly\",\"PopulationDescription\"=>\"Wherever found\",\"Status\"=>\"SC\",\"StatusText\"=>\"Species of Concern\"'}"
      ]
     },
     "metadata": {},
     "output_type": "display_data"
    },
    {
     "name": "stdout",
     "output_type": "stream",
     "text": [
      "{'_execution_time': 0.067, 'success': True, 'auth_check': {'auth_level': None, 'session': None, 'success': True}, 'affected_rows': 1}\n"
     ]
    },
    {
     "data": {
      "text/plain": [
       "{'acceptedTSN': None,\n",
       " 'discoveredTSN': '102241',\n",
       " 'gid': 7350,\n",
       " 'tessPairs': '\"cacheDate\"=>\"2017-05-07T16:39:36.241581\",\"tsn\"=>\"102241\",\"result\"=>\"none\"'}"
      ]
     },
     "metadata": {},
     "output_type": "display_data"
    },
    {
     "name": "stdout",
     "output_type": "stream",
     "text": [
      "{'_execution_time': 0.066, 'success': True, 'auth_check': {'auth_level': None, 'session': None, 'success': True}, 'affected_rows': 1}\n"
     ]
    },
    {
     "data": {
      "text/plain": [
       "{'acceptedTSN': None,\n",
       " 'discoveredTSN': '175610',\n",
       " 'gid': 6151,\n",
       " 'tessPairs': '\"cacheDate\"=>\"2017-05-07T16:39:37.348128\",\"tsn\"=>\"175610\",\"result\"=>\"none\"'}"
      ]
     },
     "metadata": {},
     "output_type": "display_data"
    },
    {
     "name": "stdout",
     "output_type": "stream",
     "text": [
      "{'_execution_time': 0.064, 'success': True, 'auth_check': {'auth_level': None, 'session': None, 'success': True}, 'affected_rows': 1}\n"
     ]
    },
    {
     "data": {
      "text/plain": [
       "{'acceptedTSN': None,\n",
       " 'discoveredTSN': '564645',\n",
       " 'gid': 11298,\n",
       " 'tessPairs': '\"cacheDate\"=>\"2017-05-07T16:39:38.747821\",\"tsn\"=>\"564645\",\"result\"=>\"none\"'}"
      ]
     },
     "metadata": {},
     "output_type": "display_data"
    },
    {
     "name": "stdout",
     "output_type": "stream",
     "text": [
      "{'_execution_time': 0.067, 'success': True, 'auth_check': {'auth_level': None, 'session': None, 'success': True}, 'affected_rows': 1}\n"
     ]
    },
    {
     "data": {
      "text/plain": [
       "{'acceptedTSN': None,\n",
       " 'discoveredTSN': '32825',\n",
       " 'gid': 16051,\n",
       " 'tessPairs': '\"cacheDate\"=>\"2017-05-07T16:39:39.896558\",\"tsn\"=>\"32825\",\"result\"=>\"success\",\"entityId\"=>\"722\",\"SpeciesCode\"=>\"Q1WW\",\"CommonName\"=>\"Honohono\",\"PopulationDescription\"=>\"Wherever found\",\"Status\"=>\"E\",\"StatusText\"=>\"Endangered\",\"ListingDate\"=>\"1979-11-29\"'}"
      ]
     },
     "metadata": {},
     "output_type": "display_data"
    },
    {
     "name": "stdout",
     "output_type": "stream",
     "text": [
      "{'_execution_time': 0.059, 'success': True, 'auth_check': {'auth_level': None, 'session': None, 'success': True}, 'affected_rows': 1}\n"
     ]
    },
    {
     "data": {
      "text/plain": [
       "{'acceptedTSN': None,\n",
       " 'discoveredTSN': '79924',\n",
       " 'gid': 4762,\n",
       " 'tessPairs': '\"cacheDate\"=>\"2017-05-07T16:39:41.033875\",\"tsn\"=>\"79924\",\"result\"=>\"success\",\"entityId\"=>\"354\",\"SpeciesCode\"=>\"F01J\",\"CommonName\"=>\"Appalachian elktoe\",\"PopulationDescription\"=>\"Wherever found\",\"Status\"=>\"E\",\"StatusText\"=>\"Endangered\",\"ListingDate\"=>\"1994-11-23\"'}"
      ]
     },
     "metadata": {},
     "output_type": "display_data"
    },
    {
     "name": "stdout",
     "output_type": "stream",
     "text": [
      "{'_execution_time': 0.063, 'success': True, 'auth_check': {'auth_level': None, 'session': None, 'success': True}, 'affected_rows': 1}\n"
     ]
    },
    {
     "data": {
      "text/plain": [
       "{'acceptedTSN': None,\n",
       " 'discoveredTSN': '93984',\n",
       " 'gid': 34,\n",
       " 'tessPairs': '\"cacheDate\"=>\"2017-05-07T16:39:42.138832\",\"tsn\"=>\"93984\",\"result\"=>\"none\"'}"
      ]
     },
     "metadata": {},
     "output_type": "display_data"
    },
    {
     "name": "stdout",
     "output_type": "stream",
     "text": [
      "{'_execution_time': 0.098, 'success': True, 'auth_check': {'auth_level': None, 'session': None, 'success': True}, 'affected_rows': 1}\n"
     ]
    },
    {
     "data": {
      "text/plain": [
       "{'acceptedTSN': None,\n",
       " 'discoveredTSN': '22274',\n",
       " 'gid': 2297,\n",
       " 'tessPairs': '\"cacheDate\"=>\"2017-05-07T16:39:43.215327\",\"tsn\"=>\"22274\",\"result\"=>\"none\"'}"
      ]
     },
     "metadata": {},
     "output_type": "display_data"
    },
    {
     "name": "stdout",
     "output_type": "stream",
     "text": [
      "{'_execution_time': 0.071, 'success': True, 'auth_check': {'auth_level': None, 'session': None, 'success': True}, 'affected_rows': 1}\n"
     ]
    },
    {
     "data": {
      "text/plain": [
       "{'acceptedTSN': None,\n",
       " 'discoveredTSN': '594157',\n",
       " 'gid': 4826,\n",
       " 'tessPairs': '\"cacheDate\"=>\"2017-05-07T16:39:44.335180\",\"tsn\"=>\"594157\",\"result\"=>\"none\"'}"
      ]
     },
     "metadata": {},
     "output_type": "display_data"
    },
    {
     "name": "stdout",
     "output_type": "stream",
     "text": [
      "{'_execution_time': 0.065, 'success': True, 'auth_check': {'auth_level': None, 'session': None, 'success': True}, 'affected_rows': 1}\n"
     ]
    },
    {
     "data": {
      "text/plain": [
       "{'acceptedTSN': None,\n",
       " 'discoveredTSN': '570983',\n",
       " 'gid': 7398,\n",
       " 'tessPairs': '\"cacheDate\"=>\"2017-05-07T16:39:45.671085\",\"tsn\"=>\"570983\",\"result\"=>\"none\"'}"
      ]
     },
     "metadata": {},
     "output_type": "display_data"
    },
    {
     "name": "stdout",
     "output_type": "stream",
     "text": [
      "{'_execution_time': 0.066, 'success': True, 'auth_check': {'auth_level': None, 'session': None, 'success': True}, 'affected_rows': 1}\n"
     ]
    },
    {
     "data": {
      "text/plain": [
       "{'acceptedTSN': None,\n",
       " 'discoveredTSN': '567617',\n",
       " 'gid': 6214,\n",
       " 'tessPairs': '\"cacheDate\"=>\"2017-05-07T16:39:46.946099\",\"tsn\"=>\"567617\",\"result\"=>\"none\"'}"
      ]
     },
     "metadata": {},
     "output_type": "display_data"
    },
    {
     "name": "stdout",
     "output_type": "stream",
     "text": [
      "{'_execution_time': 0.07, 'success': True, 'auth_check': {'auth_level': None, 'session': None, 'success': True}, 'affected_rows': 1}\n"
     ]
    },
    {
     "data": {
      "text/plain": [
       "{'acceptedTSN': None,\n",
       " 'discoveredTSN': '707359',\n",
       " 'gid': 12984,\n",
       " 'tessPairs': '\"cacheDate\"=>\"2017-05-07T16:39:48.069589\",\"tsn\"=>\"707359\",\"result\"=>\"success\",\"entityId\"=>\"6634\",\"SpeciesCode\"=>\"I0DS\",\"CommonName\"=>\"Alkali skipper\",\"PopulationDescription\"=>\"Wherever found\",\"Status\"=>\"RT\",\"StatusText\"=>\"Resolved Taxon\"'}"
      ]
     },
     "metadata": {},
     "output_type": "display_data"
    },
    {
     "name": "stdout",
     "output_type": "stream",
     "text": [
      "{'_execution_time': 0.068, 'success': True, 'auth_check': {'auth_level': None, 'session': None, 'success': True}, 'affected_rows': 1}\n"
     ]
    },
    {
     "data": {
      "text/plain": [
       "{'acceptedTSN': None,\n",
       " 'discoveredTSN': '41424',\n",
       " 'gid': 423,\n",
       " 'tessPairs': '\"cacheDate\"=>\"2017-05-07T16:39:49.212254\",\"tsn\"=>\"41424\",\"result\"=>\"none\"'}"
      ]
     },
     "metadata": {},
     "output_type": "display_data"
    },
    {
     "name": "stdout",
     "output_type": "stream",
     "text": [
      "{'_execution_time': 0.059, 'success': True, 'auth_check': {'auth_level': None, 'session': None, 'success': True}, 'affected_rows': 1}\n"
     ]
    },
    {
     "data": {
      "text/plain": [
       "{'acceptedTSN': None,\n",
       " 'discoveredTSN': '180717',\n",
       " 'gid': 4896,\n",
       " 'tessPairs': '\"cacheDate\"=>\"2017-05-07T16:39:50.308142\",\"tsn\"=>\"180717\",\"result\"=>\"none\"'}"
      ]
     },
     "metadata": {},
     "output_type": "display_data"
    },
    {
     "name": "stdout",
     "output_type": "stream",
     "text": [
      "{'_execution_time': 0.066, 'success': True, 'auth_check': {'auth_level': None, 'session': None, 'success': True}, 'affected_rows': 1}\n"
     ]
    },
    {
     "data": {
      "text/plain": [
       "{'acceptedTSN': None,\n",
       " 'discoveredTSN': '658637',\n",
       " 'gid': 7399,\n",
       " 'tessPairs': '\"cacheDate\"=>\"2017-05-07T16:39:51.443766\",\"tsn\"=>\"658637\",\"result\"=>\"none\"'}"
      ]
     },
     "metadata": {},
     "output_type": "display_data"
    },
    {
     "name": "stdout",
     "output_type": "stream",
     "text": [
      "{'_execution_time': 0.101, 'success': True, 'auth_check': {'auth_level': None, 'session': None, 'success': True}, 'affected_rows': 1}\n"
     ]
    },
    {
     "data": {
      "text/plain": [
       "{'acceptedTSN': None,\n",
       " 'discoveredTSN': '77695',\n",
       " 'gid': 16521,\n",
       " 'tessPairs': '\"cacheDate\"=>\"2017-05-07T16:39:52.647573\",\"tsn\"=>\"77695\",\"result\"=>\"none\"'}"
      ]
     },
     "metadata": {},
     "output_type": "display_data"
    },
    {
     "name": "stdout",
     "output_type": "stream",
     "text": [
      "{'_execution_time': 0.062, 'success': True, 'auth_check': {'auth_level': None, 'session': None, 'success': True}, 'affected_rows': 1}\n"
     ]
    },
    {
     "data": {
      "text/plain": [
       "{'acceptedTSN': None,\n",
       " 'discoveredTSN': '79916',\n",
       " 'gid': 4765,\n",
       " 'tessPairs': '\"cacheDate\"=>\"2017-05-07T16:39:53.764875\",\"tsn\"=>\"79916\",\"result\"=>\"none\"'}"
      ]
     },
     "metadata": {},
     "output_type": "display_data"
    },
    {
     "name": "stdout",
     "output_type": "stream",
     "text": [
      "{'_execution_time': 0.062, 'success': True, 'auth_check': {'auth_level': None, 'session': None, 'success': True}, 'affected_rows': 1}\n"
     ]
    },
    {
     "data": {
      "text/plain": [
       "{'acceptedTSN': None,\n",
       " 'discoveredTSN': '172765',\n",
       " 'gid': 9806,\n",
       " 'tessPairs': '\"cacheDate\"=>\"2017-05-07T16:39:54.869451\",\"tsn\"=>\"172765\",\"result\"=>\"none\"'}"
      ]
     },
     "metadata": {},
     "output_type": "display_data"
    },
    {
     "name": "stdout",
     "output_type": "stream",
     "text": [
      "{'_execution_time': 0.066, 'success': True, 'auth_check': {'auth_level': None, 'session': None, 'success': True}, 'affected_rows': 1}\n"
     ]
    },
    {
     "data": {
      "text/plain": [
       "{'acceptedTSN': None,\n",
       " 'discoveredTSN': '15218',\n",
       " 'gid': 1955,\n",
       " 'tessPairs': '\"cacheDate\"=>\"2017-05-07T16:39:57.348756\",\"tsn\"=>\"15218\",\"result\"=>\"none\"'}"
      ]
     },
     "metadata": {},
     "output_type": "display_data"
    },
    {
     "name": "stdout",
     "output_type": "stream",
     "text": [
      "{'_execution_time': 0.067, 'success': True, 'auth_check': {'auth_level': None, 'session': None, 'success': True}, 'affected_rows': 1}\n"
     ]
    },
    {
     "data": {
      "text/plain": [
       "{'acceptedTSN': None,\n",
       " 'discoveredTSN': '20220',\n",
       " 'gid': 16904,\n",
       " 'tessPairs': '\"cacheDate\"=>\"2017-05-07T16:39:58.772730\",\"tsn\"=>\"20220\",\"result\"=>\"success\",\"entityId\"=>\"2036\",\"SpeciesCode\"=>\"Q2VZ\",\"CommonName\"=>\"Ma`oli`oli\",\"PopulationDescription\"=>\"Wherever found\",\"Status\"=>\"E\",\"StatusText\"=>\"Endangered\",\"ListingDate\"=>\"2016-10-31\"'}"
      ]
     },
     "metadata": {},
     "output_type": "display_data"
    },
    {
     "name": "stdout",
     "output_type": "stream",
     "text": [
      "{'_execution_time': 0.069, 'success': True, 'auth_check': {'auth_level': None, 'session': None, 'success': True}, 'affected_rows': 1}\n"
     ]
    },
    {
     "data": {
      "text/plain": [
       "{'acceptedTSN': None,\n",
       " 'discoveredTSN': '176971',\n",
       " 'gid': 4766,\n",
       " 'tessPairs': '\"cacheDate\"=>\"2017-05-07T16:39:59.926943\",\"tsn\"=>\"176971\",\"result\"=>\"none\"'}"
      ]
     },
     "metadata": {},
     "output_type": "display_data"
    },
    {
     "name": "stdout",
     "output_type": "stream",
     "text": [
      "{'_execution_time': 0.061, 'success': True, 'auth_check': {'auth_level': None, 'session': None, 'success': True}, 'affected_rows': 1}\n"
     ]
    },
    {
     "data": {
      "text/plain": [
       "{'acceptedTSN': None,\n",
       " 'discoveredTSN': '172254',\n",
       " 'gid': 38,\n",
       " 'tessPairs': '\"cacheDate\"=>\"2017-05-07T16:40:01.048216\",\"tsn\"=>\"172254\",\"result\"=>\"none\"'}"
      ]
     },
     "metadata": {},
     "output_type": "display_data"
    },
    {
     "name": "stdout",
     "output_type": "stream",
     "text": [
      "{'_execution_time': 0.059, 'success': True, 'auth_check': {'auth_level': None, 'session': None, 'success': True}, 'affected_rows': 1}\n"
     ]
    },
    {
     "data": {
      "text/plain": [
       "{'acceptedTSN': None,\n",
       " 'discoveredTSN': '163362',\n",
       " 'gid': 2303,\n",
       " 'tessPairs': '\"cacheDate\"=>\"2017-05-07T16:40:02.271019\",\"tsn\"=>\"163362\",\"result\"=>\"success\",\"entityId\"=>\"2570\",\"SpeciesCode\"=>\"E09C\",\"CommonName\"=>\"Western silvery minnow\",\"PopulationDescription\"=>\"Wherever found\",\"Status\"=>\"SC\",\"StatusText\"=>\"Species of Concern\"'}"
      ]
     },
     "metadata": {},
     "output_type": "display_data"
    },
    {
     "name": "stdout",
     "output_type": "stream",
     "text": [
      "{'_execution_time': 0.097, 'success': True, 'auth_check': {'auth_level': None, 'session': None, 'success': True}, 'affected_rows': 1}\n"
     ]
    },
    {
     "data": {
      "text/plain": [
       "{'acceptedTSN': None,\n",
       " 'discoveredTSN': '780825',\n",
       " 'gid': 5182,\n",
       " 'tessPairs': '\"cacheDate\"=>\"2017-05-07T16:40:03.627210\",\"tsn\"=>\"780825\",\"result\"=>\"none\"'}"
      ]
     },
     "metadata": {},
     "output_type": "display_data"
    },
    {
     "name": "stdout",
     "output_type": "stream",
     "text": [
      "{'_execution_time': 0.058, 'success': True, 'auth_check': {'auth_level': None, 'session': None, 'success': True}, 'affected_rows': 1}\n"
     ]
    },
    {
     "data": {
      "text/plain": [
       "{'acceptedTSN': None,\n",
       " 'discoveredTSN': '115831',\n",
       " 'gid': 7408,\n",
       " 'tessPairs': '\"cacheDate\"=>\"2017-05-07T16:40:04.817249\",\"tsn\"=>\"115831\",\"result\"=>\"none\"'}"
      ]
     },
     "metadata": {},
     "output_type": "display_data"
    },
    {
     "name": "stdout",
     "output_type": "stream",
     "text": [
      "{'_execution_time': 0.058, 'success': True, 'auth_check': {'auth_level': None, 'session': None, 'success': True}, 'affected_rows': 1}\n"
     ]
    },
    {
     "data": {
      "text/plain": [
       "{'acceptedTSN': None,\n",
       " 'discoveredTSN': '81317',\n",
       " 'gid': 15682,\n",
       " 'tessPairs': '\"cacheDate\"=>\"2017-05-07T16:40:05.963665\",\"tsn\"=>\"81317\",\"result\"=>\"none\"'}"
      ]
     },
     "metadata": {},
     "output_type": "display_data"
    },
    {
     "name": "stdout",
     "output_type": "stream",
     "text": [
      "{'_execution_time': 0.067, 'success': True, 'auth_check': {'auth_level': None, 'session': None, 'success': True}, 'affected_rows': 1}\n"
     ]
    },
    {
     "data": {
      "text/plain": [
       "{'acceptedTSN': None,\n",
       " 'discoveredTSN': '609650',\n",
       " 'gid': 7511,\n",
       " 'tessPairs': '\"cacheDate\"=>\"2017-05-07T16:40:07.090166\",\"tsn\"=>\"609650\",\"result\"=>\"none\"'}"
      ]
     },
     "metadata": {},
     "output_type": "display_data"
    },
    {
     "name": "stdout",
     "output_type": "stream",
     "text": [
      "{'_execution_time': 0.066, 'success': True, 'auth_check': {'auth_level': None, 'session': None, 'success': True}, 'affected_rows': 1}\n"
     ]
    },
    {
     "data": {
      "text/plain": [
       "{'acceptedTSN': None,\n",
       " 'discoveredTSN': '88148',\n",
       " 'gid': 15478,\n",
       " 'tessPairs': '\"cacheDate\"=>\"2017-05-07T16:40:08.253535\",\"tsn\"=>\"88148\",\"result\"=>\"none\"'}"
      ]
     },
     "metadata": {},
     "output_type": "display_data"
    },
    {
     "name": "stdout",
     "output_type": "stream",
     "text": [
      "{'_execution_time': 0.06, 'success': True, 'auth_check': {'auth_level': None, 'session': None, 'success': True}, 'affected_rows': 1}\n"
     ]
    },
    {
     "data": {
      "text/plain": [
       "{'acceptedTSN': None,\n",
       " 'discoveredTSN': '898198',\n",
       " 'gid': 4768,\n",
       " 'tessPairs': '\"cacheDate\"=>\"2017-05-07T16:40:09.404402\",\"tsn\"=>\"898198\",\"result\"=>\"none\"'}"
      ]
     },
     "metadata": {},
     "output_type": "display_data"
    },
    {
     "name": "stdout",
     "output_type": "stream",
     "text": [
      "{'_execution_time': 0.063, 'success': True, 'auth_check': {'auth_level': None, 'session': None, 'success': True}, 'affected_rows': 1}\n"
     ]
    },
    {
     "data": {
      "text/plain": [
       "{'acceptedTSN': '64702',\n",
       " 'discoveredTSN': '64703',\n",
       " 'gid': 16216,\n",
       " 'tessPairs': '\"cacheDate\"=>\"2017-05-07T16:40:11.048819\",\"tsn\"=>\"64702\",\"result\"=>\"none\"'}"
      ]
     },
     "metadata": {},
     "output_type": "display_data"
    },
    {
     "name": "stdout",
     "output_type": "stream",
     "text": [
      "{'_execution_time': 0.059, 'success': True, 'auth_check': {'auth_level': None, 'session': None, 'success': True}, 'affected_rows': 1}\n"
     ]
    },
    {
     "data": {
      "text/plain": [
       "{'acceptedTSN': None,\n",
       " 'discoveredTSN': '175300',\n",
       " 'gid': 39,\n",
       " 'tessPairs': '\"cacheDate\"=>\"2017-05-07T16:40:12.156514\",\"tsn\"=>\"175300\",\"result\"=>\"success\",\"entityId\"=>\"6353\",\"SpeciesCode\"=>\"B095\",\"CommonName\"=>\"Northern goshawk\",\"PopulationDescription\"=>\"Wherever found\",\"Status\"=>\"RT\",\"StatusText\"=>\"Resolved Taxon\"'}"
      ]
     },
     "metadata": {},
     "output_type": "display_data"
    },
    {
     "name": "stdout",
     "output_type": "stream",
     "text": [
      "{'_execution_time': 0.065, 'success': True, 'auth_check': {'auth_level': None, 'session': None, 'success': True}, 'affected_rows': 1}\n"
     ]
    },
    {
     "data": {
      "text/plain": [
       "{'acceptedTSN': None,\n",
       " 'discoveredTSN': '554138',\n",
       " 'gid': 527,\n",
       " 'tessPairs': '\"cacheDate\"=>\"2017-05-07T16:40:13.307309\",\"tsn\"=>\"554138\",\"result\"=>\"none\"'}"
      ]
     },
     "metadata": {},
     "output_type": "display_data"
    },
    {
     "name": "stdout",
     "output_type": "stream",
     "text": [
      "{'_execution_time': 0.057, 'success': True, 'auth_check': {'auth_level': None, 'session': None, 'success': True}, 'affected_rows': 1}\n"
     ]
    },
    {
     "data": {
      "text/plain": [
       "{'acceptedTSN': None,\n",
       " 'discoveredTSN': '101507',\n",
       " 'gid': 532,\n",
       " 'tessPairs': '\"cacheDate\"=>\"2017-05-07T16:40:14.420550\",\"tsn\"=>\"101507\",\"result\"=>\"none\"'}"
      ]
     },
     "metadata": {},
     "output_type": "display_data"
    },
    {
     "name": "stdout",
     "output_type": "stream",
     "text": [
      "{'_execution_time': 0.069, 'success': True, 'auth_check': {'auth_level': None, 'session': None, 'success': True}, 'affected_rows': 1}\n"
     ]
    },
    {
     "data": {
      "text/plain": [
       "{'acceptedTSN': None,\n",
       " 'discoveredTSN': '36892',\n",
       " 'gid': 5183,\n",
       " 'tessPairs': '\"cacheDate\"=>\"2017-05-07T16:40:15.518552\",\"tsn\"=>\"36892\",\"result\"=>\"none\"'}"
      ]
     },
     "metadata": {},
     "output_type": "display_data"
    },
    {
     "name": "stdout",
     "output_type": "stream",
     "text": [
      "{'_execution_time': 0.059, 'success': True, 'auth_check': {'auth_level': None, 'session': None, 'success': True}, 'affected_rows': 1}\n"
     ]
    },
    {
     "data": {
      "text/plain": [
       "{'acceptedTSN': None,\n",
       " 'discoveredTSN': '692444',\n",
       " 'gid': 11389,\n",
       " 'tessPairs': '\"cacheDate\"=>\"2017-05-07T16:40:16.644647\",\"tsn\"=>\"692444\",\"result\"=>\"none\"'}"
      ]
     },
     "metadata": {},
     "output_type": "display_data"
    },
    {
     "name": "stdout",
     "output_type": "stream",
     "text": [
      "{'_execution_time': 0.068, 'success': True, 'auth_check': {'auth_level': None, 'session': None, 'success': True}, 'affected_rows': 1}\n"
     ]
    },
    {
     "data": {
      "text/plain": [
       "{'acceptedTSN': None,\n",
       " 'discoveredTSN': '526935',\n",
       " 'gid': 580,\n",
       " 'tessPairs': '\"cacheDate\"=>\"2017-05-07T16:40:17.824972\",\"tsn\"=>\"526935\",\"result\"=>\"none\"'}"
      ]
     },
     "metadata": {},
     "output_type": "display_data"
    },
    {
     "name": "stdout",
     "output_type": "stream",
     "text": [
      "{'_execution_time': 0.062, 'success': True, 'auth_check': {'auth_level': None, 'session': None, 'success': True}, 'affected_rows': 1}\n"
     ]
    },
    {
     "data": {
      "text/plain": [
       "{'acceptedTSN': None,\n",
       " 'discoveredTSN': '170483',\n",
       " 'gid': 585,\n",
       " 'tessPairs': '\"cacheDate\"=>\"2017-05-07T16:40:18.973483\",\"tsn\"=>\"170483\",\"result\"=>\"none\"'}"
      ]
     },
     "metadata": {},
     "output_type": "display_data"
    },
    {
     "name": "stdout",
     "output_type": "stream",
     "text": [
      "{'_execution_time': 0.062, 'success': True, 'auth_check': {'auth_level': None, 'session': None, 'success': True}, 'affected_rows': 1}\n"
     ]
    },
    {
     "data": {
      "text/plain": [
       "{'acceptedTSN': None,\n",
       " 'discoveredTSN': '188567',\n",
       " 'gid': 592,\n",
       " 'tessPairs': '\"cacheDate\"=>\"2017-05-07T16:40:20.120380\",\"tsn\"=>\"188567\",\"result\"=>\"none\"'}"
      ]
     },
     "metadata": {},
     "output_type": "display_data"
    },
    {
     "name": "stdout",
     "output_type": "stream",
     "text": [
      "{'_execution_time': 0.063, 'success': True, 'auth_check': {'auth_level': None, 'session': None, 'success': True}, 'affected_rows': 1}\n"
     ]
    },
    {
     "data": {
      "text/plain": [
       "{'acceptedTSN': None,\n",
       " 'discoveredTSN': '163361',\n",
       " 'gid': 2306,\n",
       " 'tessPairs': '\"cacheDate\"=>\"2017-05-07T16:40:21.283005\",\"tsn\"=>\"163361\",\"result\"=>\"success\",\"entityId\"=>\"5775\",\"SpeciesCode\"=>\"E09B\",\"CommonName\"=>\"Plains minnow\",\"PopulationDescription\"=>\"Wherever found\",\"Status\"=>\"SC\",\"StatusText\"=>\"Species of Concern\"'}"
      ]
     },
     "metadata": {},
     "output_type": "display_data"
    },
    {
     "name": "stdout",
     "output_type": "stream",
     "text": [
      "{'_execution_time': 0.099, 'success': True, 'auth_check': {'auth_level': None, 'session': None, 'success': True}, 'affected_rows': 1}\n"
     ]
    },
    {
     "data": {
      "text/plain": [
       "{'acceptedTSN': None,\n",
       " 'discoveredTSN': '175350',\n",
       " 'gid': 5205,\n",
       " 'tessPairs': '\"cacheDate\"=>\"2017-05-07T16:40:22.560539\",\"tsn\"=>\"175350\",\"result\"=>\"none\"'}"
      ]
     },
     "metadata": {},
     "output_type": "display_data"
    },
    {
     "name": "stdout",
     "output_type": "stream",
     "text": [
      "{'_execution_time': 0.057, 'success': True, 'auth_check': {'auth_level': None, 'session': None, 'success': True}, 'affected_rows': 1}\n"
     ]
    },
    {
     "data": {
      "text/plain": [
       "{'acceptedTSN': None,\n",
       " 'discoveredTSN': '65782',\n",
       " 'gid': 16052,\n",
       " 'tessPairs': '\"cacheDate\"=>\"2017-05-07T16:40:23.687622\",\"tsn\"=>\"65782\",\"result\"=>\"none\"'}"
      ]
     },
     "metadata": {},
     "output_type": "display_data"
    },
    {
     "name": "stdout",
     "output_type": "stream",
     "text": [
      "{'_execution_time': 0.058, 'success': True, 'auth_check': {'auth_level': None, 'session': None, 'success': True}, 'affected_rows': 1}\n"
     ]
    },
    {
     "data": {
      "text/plain": [
       "{'acceptedTSN': None,\n",
       " 'discoveredTSN': '42635',\n",
       " 'gid': 4770,\n",
       " 'tessPairs': '\"cacheDate\"=>\"2017-05-07T16:40:24.865519\",\"tsn\"=>\"42635\",\"result\"=>\"none\"'}"
      ]
     },
     "metadata": {},
     "output_type": "display_data"
    },
    {
     "name": "stdout",
     "output_type": "stream",
     "text": [
      "{'_execution_time': 0.062, 'success': True, 'auth_check': {'auth_level': None, 'session': None, 'success': True}, 'affected_rows': 1}\n"
     ]
    },
    {
     "data": {
      "text/plain": [
       "{'acceptedTSN': '686658',\n",
       " 'discoveredTSN': '177856',\n",
       " 'gid': 7420,\n",
       " 'tessPairs': '\"cacheDate\"=>\"2017-05-07T16:40:26.389122\",\"tsn\"=>\"686658\",\"result\"=>\"none\"'}"
      ]
     },
     "metadata": {},
     "output_type": "display_data"
    },
    {
     "name": "stdout",
     "output_type": "stream",
     "text": [
      "{'_execution_time': 0.062, 'success': True, 'auth_check': {'auth_level': None, 'session': None, 'success': True}, 'affected_rows': 1}\n"
     ]
    },
    {
     "data": {
      "text/plain": [
       "{'acceptedTSN': None,\n",
       " 'discoveredTSN': '29783',\n",
       " 'gid': 16522,\n",
       " 'tessPairs': '\"cacheDate\"=>\"2017-05-07T16:40:27.517273\",\"tsn\"=>\"29783\",\"result\"=>\"success\",\"entityId\"=>\"9665\",\"SpeciesCode\"=>\"Q3M8\",\"CommonName\"=>\"Pikes Peak Spring parsley\",\"PopulationDescription\"=>\"Wherever found\",\"Status\"=>\"RT\",\"StatusText\"=>\"Resolved Taxon\"'}"
      ]
     },
     "metadata": {},
     "output_type": "display_data"
    },
    {
     "name": "stdout",
     "output_type": "stream",
     "text": [
      "{'_execution_time': 0.058, 'success': True, 'auth_check': {'auth_level': None, 'session': None, 'success': True}, 'affected_rows': 1}\n"
     ]
    },
    {
     "data": {
      "text/plain": [
       "{'acceptedTSN': None,\n",
       " 'discoveredTSN': '36399',\n",
       " 'gid': 15604,\n",
       " 'tessPairs': '\"cacheDate\"=>\"2017-05-07T16:40:28.768503\",\"tsn\"=>\"36399\",\"result\"=>\"none\"'}"
      ]
     },
     "metadata": {},
     "output_type": "display_data"
    },
    {
     "name": "stdout",
     "output_type": "stream",
     "text": [
      "{'_execution_time': 0.065, 'success': True, 'auth_check': {'auth_level': None, 'session': None, 'success': True}, 'affected_rows': 1}\n"
     ]
    },
    {
     "data": {
      "text/plain": [
       "{'acceptedTSN': None,\n",
       " 'discoveredTSN': '175304',\n",
       " 'gid': 41,\n",
       " 'tessPairs': '\"cacheDate\"=>\"2017-05-07T16:40:29.891921\",\"tsn\"=>\"175304\",\"result\"=>\"success\",\"entityId\"=>\"9554\",\"SpeciesCode\"=>\"B0G3\",\"CommonName\"=>\"Sharp shinned hawk\",\"PopulationDescription\"=>\"Wherever found\",\"Status\"=>\"SC\",\"StatusText\"=>\"Species of Concern\"'}"
      ]
     },
     "metadata": {},
     "output_type": "display_data"
    },
    {
     "name": "stdout",
     "output_type": "stream",
     "text": [
      "{'_execution_time': 0.063, 'success': True, 'auth_check': {'auth_level': None, 'session': None, 'success': True}, 'affected_rows': 1}\n"
     ]
    }
   ],
   "source": [
    "for feature in tsns[\"features\"]:\n",
    "    thisRecord = {}\n",
    "    thisRecord[\"gid\"] = feature[\"properties\"][\"gid\"]\n",
    "    thisRecord[\"discoveredTSN\"] = feature[\"properties\"][\"discoveredtsn\"]\n",
    "    thisRecord[\"acceptedTSN\"] = feature[\"properties\"][\"acceptedtsn\"]\n",
    "    \n",
    "    # Query based on discovered TSN and package data\n",
    "    thisRecord[\"tessPairs\"] = packageTESSPairs(thisRecord[\"discoveredTSN\"],queryTESS(thisRecord[\"discoveredTSN\"]))\n",
    "\n",
    "    if '\"result\"=>\"none\"' in thisRecord[\"tessPairs\"] and type(thisRecord[\"acceptedTSN\"]) is str:\n",
    "        # Query based on discovered TSN and package data\n",
    "        thisRecord[\"tessPairs\"] = packageTESSPairs(thisRecord[\"acceptedTSN\"],queryTESS(thisRecord[\"acceptedTSN\"]))\n",
    "\n",
    "    display (thisRecord)\n",
    "    print (cacheToTIR(thisRecord[\"gid\"],\"tess\",thisRecord[\"tessPairs\"]))\n"
   ]
  },
  {
   "cell_type": "code",
   "execution_count": null,
   "metadata": {
    "collapsed": true
   },
   "outputs": [],
   "source": []
  }
 ],
 "metadata": {
  "kernelspec": {
   "display_name": "Python 3",
   "language": "python",
   "name": "python3"
  },
  "language_info": {
   "codemirror_mode": {
    "name": "ipython",
    "version": 3
   },
   "file_extension": ".py",
   "mimetype": "text/x-python",
   "name": "python",
   "nbconvert_exporter": "python",
   "pygments_lexer": "ipython3",
   "version": "3.5.3"
  }
 },
 "nbformat": 4,
 "nbformat_minor": 0
}
