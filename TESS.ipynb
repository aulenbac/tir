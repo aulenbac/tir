{
 "cells": [
  {
   "cell_type": "markdown",
   "metadata": {
    "deletable": true,
    "editable": true
   },
   "source": [
    "This notebook used ITIS TSNs discovered and cached in the Taxonomic Information Registry to look for information from the USFWS Threatened and Endangered Species System web service. It cached either a negative result or a set of key/value pairs from the TESS service of interest in characterizing species in the TIR."
   ]
  },
  {
   "cell_type": "code",
   "execution_count": 1,
   "metadata": {
    "collapsed": true,
    "deletable": true,
    "editable": true
   },
   "outputs": [],
   "source": [
    "import requests,configparser,re\n",
    "from IPython.display import display"
   ]
  },
  {
   "cell_type": "code",
   "execution_count": 2,
   "metadata": {
    "collapsed": true,
    "deletable": true,
    "editable": true
   },
   "outputs": [],
   "source": [
    "# Get API keys and any other config details from a file that is external to the code.\n",
    "config = configparser.RawConfigParser()\n",
    "config.read_file(open(r'../config/stuff.py'))"
   ]
  },
  {
   "cell_type": "code",
   "execution_count": 3,
   "metadata": {
    "collapsed": true,
    "deletable": true,
    "editable": true
   },
   "outputs": [],
   "source": [
    "# Build base URL with API key using input from the external config.\n",
    "def getBaseURL():\n",
    "    gc2APIKey = config.get('apiKeys','apiKey_GC2_BCB').replace('\"','')\n",
    "    apiBaseURL = \"https://gc2.mapcentia.com/api/v1/sql/bcb?key=\"+gc2APIKey\n",
    "    return apiBaseURL"
   ]
  },
  {
   "cell_type": "code",
   "execution_count": 4,
   "metadata": {
    "collapsed": true,
    "deletable": true,
    "editable": true
   },
   "outputs": [],
   "source": [
    "# Basic function to insert subject ID, property, and value into tircache\n",
    "def cacheToTIR(gid,infotype,pairs):\n",
    "    updateQ = \"UPDATE tir.tir2 SET \"+infotype+\" = '\"+pairs+\"' WHERE gid = \"+str(gid)\n",
    "    return requests.get(getBaseURL()+\"&q=\"+updateQ).json()"
   ]
  },
  {
   "cell_type": "markdown",
   "metadata": {
    "deletable": true,
    "editable": true
   },
   "source": [
    "### Query TESS by TSN\n",
    "There are several potential query points into TESS, but for now, we are just using the TSN-based search."
   ]
  },
  {
   "cell_type": "code",
   "execution_count": 5,
   "metadata": {
    "collapsed": false,
    "deletable": true,
    "editable": true
   },
   "outputs": [],
   "source": [
    "def queryTESS(tsn):\n",
    "    tessSpeciesQueryByTSNBaseURL = \"https://ecos.fws.gov/ecp0/TessQuery?request=query&xquery=/SPECIES_DETAIL[TSN=\"\n",
    "    return requests.get(tessSpeciesQueryByTSNBaseURL+tsn+\"]\").text"
   ]
  },
  {
   "cell_type": "markdown",
   "metadata": {
    "deletable": true,
    "editable": true
   },
   "source": [
    "### Package up the TESS data\n",
    "This function works through the XML result from the TESS service. It will always return the data/time that the packaging step ran, the TSN that was used, and a result code. The result can be \"none\", \"error\" or \"success\". If successful, information is packaged from specific TESS attributes of interest into key/value pairs for later use."
   ]
  },
  {
   "cell_type": "code",
   "execution_count": 6,
   "metadata": {
    "collapsed": true,
    "deletable": true,
    "editable": true
   },
   "outputs": [],
   "source": [
    "def packageTESSPairs(tsn,tessData):\n",
    "    import datetime\n",
    "    from lxml import etree\n",
    "    from io import StringIO\n",
    "    dt = datetime.datetime.utcnow().isoformat()\n",
    "    tessPairs = '\"cacheDate\"=>\"'+dt+'\"'\n",
    "    tessPairs = tessPairs+',\"tsn\"=>\"'+tsn+'\"'\n",
    "\n",
    "    if tessData.find('<results/>') > 0:\n",
    "        tessPairs = tessPairs+',\"result\"=>\"none\"'\n",
    "    else:\n",
    "        try:\n",
    "            rawXML = tessData.replace('<?xml version=\"1.0\" encoding=\"iso-8859-1\"?>', '')\n",
    "            f = StringIO(rawXML)\n",
    "            tree = etree.parse(f)\n",
    "            tessPairs = tessPairs+',\"result\"=>\"success\"'\n",
    "            tessPairs = tessPairs+',\"entityId\"=>\"'+tree.xpath('/results/SPECIES_DETAIL/ENTITY_ID')[0].text+'\"'\n",
    "            tessPairs = tessPairs+',\"SpeciesCode\"=>\"'+tree.xpath('/results/SPECIES_DETAIL/SPCODE')[0].text+'\"'\n",
    "            tessPairs = tessPairs+',\"CommonName\"=>\"'+tree.xpath('/results/SPECIES_DETAIL/COMNAME')[0].text+'\"'\n",
    "            tessPairs = tessPairs+',\"PopulationDescription\"=>\"'+tree.xpath('/results/SPECIES_DETAIL/POP_DESC')[0].text+'\"'\n",
    "            tessPairs = tessPairs+',\"Status\"=>\"'+tree.xpath('/results/SPECIES_DETAIL/STATUS')[0].text+'\"'\n",
    "            tessPairs = tessPairs+',\"StatusText\"=>\"'+tree.xpath('/results/SPECIES_DETAIL/STATUS_TEXT')[0].text+'\"'\n",
    "            rListingDate = tree.xpath('/results/SPECIES_DETAIL/LISTING_DATE')\n",
    "            if len(rListingDate) > 0:\n",
    "                tessPairs = tessPairs+',\"ListingDate\"=>\"'+rListingDate[0].text+'\"'\n",
    "            tessPairs = tessPairs.replace(\"\\'\",\"''\").replace(\";\",\"|\").replace(\"--\",\"-\")\n",
    "        except:\n",
    "            tessPairs = tessPairs+',\"result\"=>\"error\"'\n",
    "\n",
    "    return tessPairs\n"
   ]
  },
  {
   "cell_type": "markdown",
   "metadata": {
    "deletable": true,
    "editable": true
   },
   "source": [
    "### Get TSNs for processing\n",
    "Right now, we retrieve everything from the TIR table that has an ITIS TSN and does not currently have any TESS data. In future, we should come up with some other way of triggering this processing service and come up with a plan for periodic checks and updates."
   ]
  },
  {
   "cell_type": "code",
   "execution_count": 7,
   "metadata": {
    "collapsed": false,
    "deletable": true,
    "editable": true
   },
   "outputs": [],
   "source": [
    "tsns = requests.get(getBaseURL()+\"&q=SELECT gid,itis->'tsn' AS tsn,itis->'acceptedTSN' AS acceptedtsn FROM tir.tir2 WHERE tess IS NULL AND itis->'itisMatchMethod' NOT LIKE 'NotMatched%' LIMIT 100\").json()\n"
   ]
  },
  {
   "cell_type": "markdown",
   "metadata": {
    "deletable": true,
    "editable": true
   },
   "source": [
    "### Process the records to query and return information from TESS\n",
    "In this current process, I first check the discovered TSN from the ITIS cache. If that one does not return any results, I check the accepted TSN from that record (if it exists)."
   ]
  },
  {
   "cell_type": "code",
   "execution_count": 8,
   "metadata": {
    "collapsed": false,
    "deletable": true,
    "editable": true
   },
   "outputs": [
    {
     "data": {
      "text/plain": [
       "{'acceptedTSN': None,\n",
       " 'gid': 7881,\n",
       " 'tessPairs': '\"cacheDate\"=>\"2017-05-12T16:01:15.542216\",\"tsn\"=>\"504475\",\"result\"=>\"success\",\"entityId\"=>\"7722\",\"SpeciesCode\"=>\"Q1IC\",\"CommonName\"=>\"Big Bend bluegrass\",\"PopulationDescription\"=>\"Wherever found\",\"Status\"=>\"RT\",\"StatusText\"=>\"Resolved Taxon\"',\n",
       " 'tsn': '504475'}"
      ]
     },
     "metadata": {},
     "output_type": "display_data"
    },
    {
     "name": "stdout",
     "output_type": "stream",
     "text": [
      "{'success': True, '_execution_time': 0.067, 'auth_check': {'auth_level': 'Write', 'success': True, 'checked_relations': ['tir.tir2'], 'session': None}, 'affected_rows': 1}\n"
     ]
    },
    {
     "data": {
      "text/plain": [
       "{'acceptedTSN': None,\n",
       " 'gid': 1852,\n",
       " 'tessPairs': '\"cacheDate\"=>\"2017-05-12T16:01:17.083163\",\"tsn\"=>\"777912\",\"result\"=>\"none\"',\n",
       " 'tsn': '777912'}"
      ]
     },
     "metadata": {},
     "output_type": "display_data"
    },
    {
     "name": "stdout",
     "output_type": "stream",
     "text": [
      "{'success': True, '_execution_time': 0.067, 'auth_check': {'auth_level': 'Write', 'success': True, 'checked_relations': ['tir.tir2'], 'session': None}, 'affected_rows': 1}\n"
     ]
    },
    {
     "data": {
      "text/plain": [
       "{'acceptedTSN': None,\n",
       " 'gid': 6290,\n",
       " 'tessPairs': '\"cacheDate\"=>\"2017-05-12T16:01:18.717508\",\"tsn\"=>\"201922\",\"result\"=>\"success\",\"entityId\"=>\"226\",\"SpeciesCode\"=>\"E00R\",\"CommonName\"=>\"Pahranagat roundtail chub\",\"PopulationDescription\"=>\"Wherever found\",\"Status\"=>\"E\",\"StatusText\"=>\"Endangered\",\"ListingDate\"=>\"1970-10-13\"',\n",
       " 'tsn': '201922'}"
      ]
     },
     "metadata": {},
     "output_type": "display_data"
    },
    {
     "name": "stdout",
     "output_type": "stream",
     "text": [
      "{'success': True, '_execution_time': 0.073, 'auth_check': {'auth_level': 'Write', 'success': True, 'checked_relations': ['tir.tir2'], 'session': None}, 'affected_rows': 1}\n"
     ]
    },
    {
     "data": {
      "text/plain": [
       "{'acceptedTSN': None,\n",
       " 'gid': 6145,\n",
       " 'tessPairs': '\"cacheDate\"=>\"2017-05-12T16:01:20.254403\",\"tsn\"=>\"117389\",\"result\"=>\"none\"',\n",
       " 'tsn': '117389'}"
      ]
     },
     "metadata": {},
     "output_type": "display_data"
    },
    {
     "name": "stdout",
     "output_type": "stream",
     "text": [
      "{'success': True, '_execution_time': 0.071, 'auth_check': {'auth_level': 'Write', 'success': True, 'checked_relations': ['tir.tir2'], 'session': None}, 'affected_rows': 1}\n"
     ]
    },
    {
     "data": {
      "text/plain": [
       "{'acceptedTSN': None,\n",
       " 'gid': 10409,\n",
       " 'tessPairs': '\"cacheDate\"=>\"2017-05-12T16:01:22.064816\",\"tsn\"=>\"167233\",\"result\"=>\"none\"',\n",
       " 'tsn': '167233'}"
      ]
     },
     "metadata": {},
     "output_type": "display_data"
    },
    {
     "name": "stdout",
     "output_type": "stream",
     "text": [
      "{'success': True, '_execution_time': 0.07, 'auth_check': {'auth_level': 'Write', 'success': True, 'checked_relations': ['tir.tir2'], 'session': None}, 'affected_rows': 1}\n"
     ]
    },
    {
     "data": {
      "text/plain": [
       "{'acceptedTSN': None,\n",
       " 'gid': 80,\n",
       " 'tessPairs': '\"cacheDate\"=>\"2017-05-12T16:01:23.498844\",\"tsn\"=>\"177938\",\"result\"=>\"none\"',\n",
       " 'tsn': '177938'}"
      ]
     },
     "metadata": {},
     "output_type": "display_data"
    },
    {
     "name": "stdout",
     "output_type": "stream",
     "text": [
      "{'success': True, '_execution_time': 0.078, 'auth_check': {'auth_level': 'Write', 'success': True, 'checked_relations': ['tir.tir2'], 'session': None}, 'affected_rows': 1}\n"
     ]
    },
    {
     "data": {
      "text/plain": [
       "{'acceptedTSN': None,\n",
       " 'gid': 6376,\n",
       " 'tessPairs': '\"cacheDate\"=>\"2017-05-12T16:01:24.792624\",\"tsn\"=>\"36657\",\"result\"=>\"none\"',\n",
       " 'tsn': '36657'}"
      ]
     },
     "metadata": {},
     "output_type": "display_data"
    },
    {
     "name": "stdout",
     "output_type": "stream",
     "text": [
      "{'success': True, '_execution_time': 0.076, 'auth_check': {'auth_level': 'Write', 'success': True, 'checked_relations': ['tir.tir2'], 'session': None}, 'affected_rows': 1}\n"
     ]
    },
    {
     "data": {
      "text/plain": [
       "{'acceptedTSN': None,\n",
       " 'gid': 2368,\n",
       " 'tessPairs': '\"cacheDate\"=>\"2017-05-12T16:01:26.174525\",\"tsn\"=>\"167812\",\"result\"=>\"none\"',\n",
       " 'tsn': '167812'}"
      ]
     },
     "metadata": {},
     "output_type": "display_data"
    },
    {
     "name": "stdout",
     "output_type": "stream",
     "text": [
      "{'success': True, '_execution_time': 0.066, 'auth_check': {'auth_level': 'Write', 'success': True, 'checked_relations': ['tir.tir2'], 'session': None}, 'affected_rows': 1}\n"
     ]
    },
    {
     "data": {
      "text/plain": [
       "{'acceptedTSN': None,\n",
       " 'gid': 7565,\n",
       " 'tessPairs': '\"cacheDate\"=>\"2017-05-12T16:01:27.392546\",\"tsn\"=>\"169319\",\"result\"=>\"none\"',\n",
       " 'tsn': '169319'}"
      ]
     },
     "metadata": {},
     "output_type": "display_data"
    },
    {
     "name": "stdout",
     "output_type": "stream",
     "text": [
      "{'success': True, '_execution_time': 0.078, 'auth_check': {'auth_level': 'Write', 'success': True, 'checked_relations': ['tir.tir2'], 'session': None}, 'affected_rows': 1}\n"
     ]
    },
    {
     "data": {
      "text/plain": [
       "{'acceptedTSN': None,\n",
       " 'gid': 16195,\n",
       " 'tessPairs': '\"cacheDate\"=>\"2017-05-12T16:01:28.686779\",\"tsn\"=>\"677703\",\"result\"=>\"success\",\"entityId\"=>\"10219\",\"SpeciesCode\"=>\"B0H8\",\"CommonName\"=>\"southern white-tailed ptarmigan\",\"PopulationDescription\"=>\"Wherever found\",\"Status\"=>\"UR\",\"StatusText\"=>\"Under Review in the Candidate or Petition Process\"',\n",
       " 'tsn': '677703'}"
      ]
     },
     "metadata": {},
     "output_type": "display_data"
    },
    {
     "name": "stdout",
     "output_type": "stream",
     "text": [
      "{'success': True, '_execution_time': 0.071, 'auth_check': {'auth_level': 'Write', 'success': True, 'checked_relations': ['tir.tir2'], 'session': None}, 'affected_rows': 1}\n"
     ]
    },
    {
     "data": {
      "text/plain": [
       "{'acceptedTSN': None,\n",
       " 'gid': 17108,\n",
       " 'tessPairs': '\"cacheDate\"=>\"2017-05-12T16:01:30.094460\",\"tsn\"=>\"19195\",\"result\"=>\"none\"',\n",
       " 'tsn': '19195'}"
      ]
     },
     "metadata": {},
     "output_type": "display_data"
    },
    {
     "name": "stdout",
     "output_type": "stream",
     "text": [
      "{'success': True, '_execution_time': 0.066, 'auth_check': {'auth_level': 'Write', 'success': True, 'checked_relations': ['tir.tir2'], 'session': None}, 'affected_rows': 1}\n"
     ]
    },
    {
     "data": {
      "text/plain": [
       "{'acceptedTSN': None,\n",
       " 'gid': 7937,\n",
       " 'tessPairs': '\"cacheDate\"=>\"2017-05-12T16:01:31.726532\",\"tsn\"=>\"504549\",\"result\"=>\"none\"',\n",
       " 'tsn': '504549'}"
      ]
     },
     "metadata": {},
     "output_type": "display_data"
    },
    {
     "name": "stdout",
     "output_type": "stream",
     "text": [
      "{'success': True, '_execution_time': 0.071, 'auth_check': {'auth_level': 'Write', 'success': True, 'checked_relations': ['tir.tir2'], 'session': None}, 'affected_rows': 1}\n"
     ]
    },
    {
     "data": {
      "text/plain": [
       "{'acceptedTSN': None,\n",
       " 'gid': 10050,\n",
       " 'tessPairs': '\"cacheDate\"=>\"2017-05-12T16:01:33.119919\",\"tsn\"=>\"571933\",\"result\"=>\"none\"',\n",
       " 'tsn': '571933'}"
      ]
     },
     "metadata": {},
     "output_type": "display_data"
    },
    {
     "name": "stdout",
     "output_type": "stream",
     "text": [
      "{'success': True, '_execution_time': 0.077, 'auth_check': {'auth_level': 'Write', 'success': True, 'checked_relations': ['tir.tir2'], 'session': None}, 'affected_rows': 1}\n"
     ]
    },
    {
     "data": {
      "text/plain": [
       "{'acceptedTSN': None,\n",
       " 'gid': 15289,\n",
       " 'tessPairs': '\"cacheDate\"=>\"2017-05-12T16:01:34.268715\",\"tsn\"=>\"80685\",\"result\"=>\"none\"',\n",
       " 'tsn': '80685'}"
      ]
     },
     "metadata": {},
     "output_type": "display_data"
    },
    {
     "name": "stdout",
     "output_type": "stream",
     "text": [
      "{'success': True, '_execution_time': 0.077, 'auth_check': {'auth_level': 'Write', 'success': True, 'checked_relations': ['tir.tir2'], 'session': None}, 'affected_rows': 1}\n"
     ]
    },
    {
     "data": {
      "text/plain": [
       "{'acceptedTSN': None,\n",
       " 'gid': 2299,\n",
       " 'tessPairs': '\"cacheDate\"=>\"2017-05-12T16:01:35.429098\",\"tsn\"=>\"202452\",\"result\"=>\"none\"',\n",
       " 'tsn': '202452'}"
      ]
     },
     "metadata": {},
     "output_type": "display_data"
    },
    {
     "name": "stdout",
     "output_type": "stream",
     "text": [
      "{'success': True, '_execution_time': 0.067, 'auth_check': {'auth_level': 'Write', 'success': True, 'checked_relations': ['tir.tir2'], 'session': None}, 'affected_rows': 1}\n"
     ]
    },
    {
     "data": {
      "text/plain": [
       "{'acceptedTSN': None,\n",
       " 'gid': 14402,\n",
       " 'tessPairs': '\"cacheDate\"=>\"2017-05-12T16:01:36.539381\",\"tsn\"=>\"165649\",\"result\"=>\"none\"',\n",
       " 'tsn': '165649'}"
      ]
     },
     "metadata": {},
     "output_type": "display_data"
    },
    {
     "name": "stdout",
     "output_type": "stream",
     "text": [
      "{'success': True, '_execution_time': 0.067, 'auth_check': {'auth_level': 'Write', 'success': True, 'checked_relations': ['tir.tir2'], 'session': None}, 'affected_rows': 1}\n"
     ]
    },
    {
     "data": {
      "text/plain": [
       "{'acceptedTSN': None,\n",
       " 'gid': 11113,\n",
       " 'tessPairs': '\"cacheDate\"=>\"2017-05-12T16:01:37.634956\",\"tsn\"=>\"185680\",\"result\"=>\"none\"',\n",
       " 'tsn': '185680'}"
      ]
     },
     "metadata": {},
     "output_type": "display_data"
    },
    {
     "name": "stdout",
     "output_type": "stream",
     "text": [
      "{'success': True, '_execution_time': 0.069, 'auth_check': {'auth_level': 'Write', 'success': True, 'checked_relations': ['tir.tir2'], 'session': None}, 'affected_rows': 1}\n"
     ]
    },
    {
     "data": {
      "text/plain": [
       "{'acceptedTSN': None,\n",
       " 'gid': 24,\n",
       " 'tessPairs': '\"cacheDate\"=>\"2017-05-12T16:01:38.705821\",\"tsn\"=>\"170047\",\"result\"=>\"none\"',\n",
       " 'tsn': '170047'}"
      ]
     },
     "metadata": {},
     "output_type": "display_data"
    },
    {
     "name": "stdout",
     "output_type": "stream",
     "text": [
      "{'success': True, '_execution_time': 0.069, 'auth_check': {'auth_level': 'Write', 'success': True, 'checked_relations': ['tir.tir2'], 'session': None}, 'affected_rows': 1}\n"
     ]
    },
    {
     "data": {
      "text/plain": [
       "{'acceptedTSN': None,\n",
       " 'gid': 6419,\n",
       " 'tessPairs': '\"cacheDate\"=>\"2017-05-12T16:01:40.086637\",\"tsn\"=>\"706618\",\"result\"=>\"success\",\"entityId\"=>\"3412\",\"SpeciesCode\"=>\"I011\",\"CommonName\"=>\"Dakota Skipper\",\"PopulationDescription\"=>\"Wherever found\",\"Status\"=>\"T\",\"StatusText\"=>\"Threatened\",\"ListingDate\"=>\"2014-11-24\"',\n",
       " 'tsn': '706618'}"
      ]
     },
     "metadata": {},
     "output_type": "display_data"
    },
    {
     "name": "stdout",
     "output_type": "stream",
     "text": [
      "{'success': True, '_execution_time': 0.067, 'auth_check': {'auth_level': 'Write', 'success': True, 'checked_relations': ['tir.tir2'], 'session': None}, 'affected_rows': 1}\n"
     ]
    },
    {
     "data": {
      "text/plain": [
       "{'acceptedTSN': None,\n",
       " 'gid': 13596,\n",
       " 'tessPairs': '\"cacheDate\"=>\"2017-05-12T16:01:41.164180\",\"tsn\"=>\"889962\",\"result\"=>\"none\"',\n",
       " 'tsn': '889962'}"
      ]
     },
     "metadata": {},
     "output_type": "display_data"
    },
    {
     "name": "stdout",
     "output_type": "stream",
     "text": [
      "{'success': True, '_execution_time': 0.067, 'auth_check': {'auth_level': 'Write', 'success': True, 'checked_relations': ['tir.tir2'], 'session': None}, 'affected_rows': 1}\n"
     ]
    },
    {
     "data": {
      "text/plain": [
       "{'acceptedTSN': None,\n",
       " 'gid': 5689,\n",
       " 'tessPairs': '\"cacheDate\"=>\"2017-05-12T16:01:42.255304\",\"tsn\"=>\"28269\",\"result\"=>\"none\"',\n",
       " 'tsn': '28269'}"
      ]
     },
     "metadata": {},
     "output_type": "display_data"
    },
    {
     "name": "stdout",
     "output_type": "stream",
     "text": [
      "{'success': True, '_execution_time': 0.068, 'auth_check': {'auth_level': 'Write', 'success': True, 'checked_relations': ['tir.tir2'], 'session': None}, 'affected_rows': 1}\n"
     ]
    },
    {
     "data": {
      "text/plain": [
       "{'acceptedTSN': None,\n",
       " 'gid': 6943,\n",
       " 'tessPairs': '\"cacheDate\"=>\"2017-05-12T16:01:43.393987\",\"tsn\"=>\"98813\",\"result\"=>\"none\"',\n",
       " 'tsn': '98813'}"
      ]
     },
     "metadata": {},
     "output_type": "display_data"
    },
    {
     "name": "stdout",
     "output_type": "stream",
     "text": [
      "{'success': True, '_execution_time': 0.066, 'auth_check': {'auth_level': 'Write', 'success': True, 'checked_relations': ['tir.tir2'], 'session': None}, 'affected_rows': 1}\n"
     ]
    },
    {
     "data": {
      "text/plain": [
       "{'acceptedTSN': None,\n",
       " 'gid': 3772,\n",
       " 'tessPairs': '\"cacheDate\"=>\"2017-05-12T16:01:44.465823\",\"tsn\"=>\"180035\",\"result\"=>\"none\"',\n",
       " 'tsn': '180035'}"
      ]
     },
     "metadata": {},
     "output_type": "display_data"
    },
    {
     "name": "stdout",
     "output_type": "stream",
     "text": [
      "{'success': True, '_execution_time': 0.068, 'auth_check': {'auth_level': 'Write', 'success': True, 'checked_relations': ['tir.tir2'], 'session': None}, 'affected_rows': 1}\n"
     ]
    },
    {
     "data": {
      "text/plain": [
       "{'acceptedTSN': None,\n",
       " 'gid': 3017,\n",
       " 'tessPairs': '\"cacheDate\"=>\"2017-05-12T16:01:45.618732\",\"tsn\"=>\"38998\",\"result\"=>\"none\"',\n",
       " 'tsn': '38998'}"
      ]
     },
     "metadata": {},
     "output_type": "display_data"
    },
    {
     "name": "stdout",
     "output_type": "stream",
     "text": [
      "{'success': True, '_execution_time': 0.068, 'auth_check': {'auth_level': 'Write', 'success': True, 'checked_relations': ['tir.tir2'], 'session': None}, 'affected_rows': 1}\n"
     ]
    },
    {
     "data": {
      "text/plain": [
       "{'acceptedTSN': None,\n",
       " 'gid': 10099,\n",
       " 'tessPairs': '\"cacheDate\"=>\"2017-05-12T16:01:46.762060\",\"tsn\"=>\"169612\",\"result\"=>\"none\"',\n",
       " 'tsn': '169612'}"
      ]
     },
     "metadata": {},
     "output_type": "display_data"
    },
    {
     "name": "stdout",
     "output_type": "stream",
     "text": [
      "{'success': True, '_execution_time': 0.07, 'auth_check': {'auth_level': 'Write', 'success': True, 'checked_relations': ['tir.tir2'], 'session': None}, 'affected_rows': 1}\n"
     ]
    },
    {
     "data": {
      "text/plain": [
       "{'acceptedTSN': None,\n",
       " 'gid': 4609,\n",
       " 'tessPairs': '\"cacheDate\"=>\"2017-05-12T16:01:47.891823\",\"tsn\"=>\"76856\",\"result\"=>\"none\"',\n",
       " 'tsn': '76856'}"
      ]
     },
     "metadata": {},
     "output_type": "display_data"
    },
    {
     "name": "stdout",
     "output_type": "stream",
     "text": [
      "{'success': True, '_execution_time': 0.079, 'auth_check': {'auth_level': 'Write', 'success': True, 'checked_relations': ['tir.tir2'], 'session': None}, 'affected_rows': 1}\n"
     ]
    },
    {
     "data": {
      "text/plain": [
       "{'acceptedTSN': None,\n",
       " 'gid': 11296,\n",
       " 'tessPairs': '\"cacheDate\"=>\"2017-05-12T16:01:49.027044\",\"tsn\"=>\"528417\",\"result\"=>\"none\"',\n",
       " 'tsn': '528417'}"
      ]
     },
     "metadata": {},
     "output_type": "display_data"
    },
    {
     "name": "stdout",
     "output_type": "stream",
     "text": [
      "{'success': True, '_execution_time': 0.079, 'auth_check': {'auth_level': 'Write', 'success': True, 'checked_relations': ['tir.tir2'], 'session': None}, 'affected_rows': 1}\n"
     ]
    },
    {
     "data": {
      "text/plain": [
       "{'acceptedTSN': None,\n",
       " 'gid': 16023,\n",
       " 'tessPairs': '\"cacheDate\"=>\"2017-05-12T16:01:50.220458\",\"tsn\"=>\"656682\",\"result\"=>\"none\"',\n",
       " 'tsn': '656682'}"
      ]
     },
     "metadata": {},
     "output_type": "display_data"
    },
    {
     "name": "stdout",
     "output_type": "stream",
     "text": [
      "{'success': True, '_execution_time': 0.067, 'auth_check': {'auth_level': 'Write', 'success': True, 'checked_relations': ['tir.tir2'], 'session': None}, 'affected_rows': 1}\n"
     ]
    },
    {
     "data": {
      "text/plain": [
       "{'acceptedTSN': None,\n",
       " 'gid': 6150,\n",
       " 'tessPairs': '\"cacheDate\"=>\"2017-05-12T16:01:51.326537\",\"tsn\"=>\"26681\",\"result\"=>\"none\"',\n",
       " 'tsn': '26681'}"
      ]
     },
     "metadata": {},
     "output_type": "display_data"
    },
    {
     "name": "stdout",
     "output_type": "stream",
     "text": [
      "{'success': True, '_execution_time': 0.076, 'auth_check': {'auth_level': 'Write', 'success': True, 'checked_relations': ['tir.tir2'], 'session': None}, 'affected_rows': 1}\n"
     ]
    },
    {
     "data": {
      "text/plain": [
       "{'acceptedTSN': None,\n",
       " 'gid': 3404,\n",
       " 'tessPairs': '\"cacheDate\"=>\"2017-05-12T16:01:52.424994\",\"tsn\"=>\"900888\",\"result\"=>\"success\",\"entityId\"=>\"4131\",\"SpeciesCode\"=>\"A0CD\",\"CommonName\"=>\"Wupatki Arizona pocket mouse\",\"PopulationDescription\"=>\"Wherever found\",\"Status\"=>\"SC\",\"StatusText\"=>\"Species of Concern\"',\n",
       " 'tsn': '900888'}"
      ]
     },
     "metadata": {},
     "output_type": "display_data"
    },
    {
     "name": "stdout",
     "output_type": "stream",
     "text": [
      "{'success': True, '_execution_time': 0.075, 'auth_check': {'auth_level': 'Write', 'success': True, 'checked_relations': ['tir.tir2'], 'session': None}, 'affected_rows': 1}\n"
     ]
    },
    {
     "data": {
      "text/plain": [
       "{'acceptedTSN': None,\n",
       " 'gid': 11367,\n",
       " 'tessPairs': '\"cacheDate\"=>\"2017-05-12T16:01:53.580078\",\"tsn\"=>\"606412\",\"result\"=>\"none\"',\n",
       " 'tsn': '606412'}"
      ]
     },
     "metadata": {},
     "output_type": "display_data"
    },
    {
     "name": "stdout",
     "output_type": "stream",
     "text": [
      "{'success': True, '_execution_time': 0.084, 'auth_check': {'auth_level': 'Write', 'success': True, 'checked_relations': ['tir.tir2'], 'session': None}, 'affected_rows': 1}\n"
     ]
    },
    {
     "data": {
      "text/plain": [
       "{'acceptedTSN': None,\n",
       " 'gid': 11399,\n",
       " 'tessPairs': '\"cacheDate\"=>\"2017-05-12T16:01:54.655490\",\"tsn\"=>\"162032\",\"result\"=>\"success\",\"entityId\"=>\"305\",\"SpeciesCode\"=>\"E070\",\"CommonName\"=>\"Delta smelt\",\"PopulationDescription\"=>\"Wherever found\",\"Status\"=>\"T\",\"StatusText\"=>\"Threatened\",\"ListingDate\"=>\"1993-03-05\"',\n",
       " 'tsn': '162032'}"
      ]
     },
     "metadata": {},
     "output_type": "display_data"
    },
    {
     "name": "stdout",
     "output_type": "stream",
     "text": [
      "{'success': True, '_execution_time': 0.072, 'auth_check': {'auth_level': 'Write', 'success': True, 'checked_relations': ['tir.tir2'], 'session': None}, 'affected_rows': 1}\n"
     ]
    },
    {
     "data": {
      "text/plain": [
       "{'acceptedTSN': None,\n",
       " 'gid': 766,\n",
       " 'tessPairs': '\"cacheDate\"=>\"2017-05-12T16:01:55.957274\",\"tsn\"=>\"178264\",\"result\"=>\"success\",\"entityId\"=>\"95\",\"SpeciesCode\"=>\"B03Q\",\"CommonName\"=>\"Ivory-billed woodpecker\",\"PopulationDescription\"=>\"Wherever found\",\"Status\"=>\"E\",\"StatusText\"=>\"Endangered\",\"ListingDate\"=>\"1967-03-11\"',\n",
       " 'tsn': '178264'}"
      ]
     },
     "metadata": {},
     "output_type": "display_data"
    },
    {
     "name": "stdout",
     "output_type": "stream",
     "text": [
      "{'success': True, '_execution_time': 0.068, 'auth_check': {'auth_level': 'Write', 'success': True, 'checked_relations': ['tir.tir2'], 'session': None}, 'affected_rows': 1}\n"
     ]
    },
    {
     "data": {
      "text/plain": [
       "{'acceptedTSN': None,\n",
       " 'gid': 2196,\n",
       " 'tessPairs': '\"cacheDate\"=>\"2017-05-12T16:01:57.381130\",\"tsn\"=>\"36690\",\"result\"=>\"none\"',\n",
       " 'tsn': '36690'}"
      ]
     },
     "metadata": {},
     "output_type": "display_data"
    },
    {
     "name": "stdout",
     "output_type": "stream",
     "text": [
      "{'success': True, '_execution_time': 0.072, 'auth_check': {'auth_level': 'Write', 'success': True, 'checked_relations': ['tir.tir2'], 'session': None}, 'affected_rows': 1}\n"
     ]
    },
    {
     "data": {
      "text/plain": [
       "{'acceptedTSN': None,\n",
       " 'gid': 7933,\n",
       " 'tessPairs': '\"cacheDate\"=>\"2017-05-12T16:01:58.565228\",\"tsn\"=>\"906932\",\"result\"=>\"none\"',\n",
       " 'tsn': '906932'}"
      ]
     },
     "metadata": {},
     "output_type": "display_data"
    },
    {
     "name": "stdout",
     "output_type": "stream",
     "text": [
      "{'success': True, '_execution_time': 0.078, 'auth_check': {'auth_level': 'Write', 'success': True, 'checked_relations': ['tir.tir2'], 'session': None}, 'affected_rows': 1}\n"
     ]
    },
    {
     "data": {
      "text/plain": [
       "{'acceptedTSN': None,\n",
       " 'gid': 11632,\n",
       " 'tessPairs': '\"cacheDate\"=>\"2017-05-12T16:01:59.740737\",\"tsn\"=>\"53041\",\"result\"=>\"none\"',\n",
       " 'tsn': '53041'}"
      ]
     },
     "metadata": {},
     "output_type": "display_data"
    },
    {
     "name": "stdout",
     "output_type": "stream",
     "text": [
      "{'success': True, '_execution_time': 0.066, 'auth_check': {'auth_level': 'Write', 'success': True, 'checked_relations': ['tir.tir2'], 'session': None}, 'affected_rows': 1}\n"
     ]
    },
    {
     "data": {
      "text/plain": [
       "{'acceptedTSN': None,\n",
       " 'gid': 11298,\n",
       " 'tessPairs': '\"cacheDate\"=>\"2017-05-12T16:02:01.136419\",\"tsn\"=>\"564645\",\"result\"=>\"none\"',\n",
       " 'tsn': '564645'}"
      ]
     },
     "metadata": {},
     "output_type": "display_data"
    },
    {
     "name": "stdout",
     "output_type": "stream",
     "text": [
      "{'success': True, '_execution_time': 0.077, 'auth_check': {'auth_level': 'Write', 'success': True, 'checked_relations': ['tir.tir2'], 'session': None}, 'affected_rows': 1}\n"
     ]
    },
    {
     "data": {
      "text/plain": [
       "{'acceptedTSN': None,\n",
       " 'gid': 2976,\n",
       " 'tessPairs': '\"cacheDate\"=>\"2017-05-12T16:02:03.154426\",\"tsn\"=>\"929871\",\"result\"=>\"none\"',\n",
       " 'tsn': '929871'}"
      ]
     },
     "metadata": {},
     "output_type": "display_data"
    },
    {
     "name": "stdout",
     "output_type": "stream",
     "text": [
      "{'success': True, '_execution_time': 0.067, 'auth_check': {'auth_level': 'Write', 'success': True, 'checked_relations': ['tir.tir2'], 'session': None}, 'affected_rows': 1}\n"
     ]
    },
    {
     "data": {
      "text/plain": [
       "{'acceptedTSN': None,\n",
       " 'gid': 7350,\n",
       " 'tessPairs': '\"cacheDate\"=>\"2017-05-12T16:02:04.232099\",\"tsn\"=>\"102241\",\"result\"=>\"none\"',\n",
       " 'tsn': '102241'}"
      ]
     },
     "metadata": {},
     "output_type": "display_data"
    },
    {
     "name": "stdout",
     "output_type": "stream",
     "text": [
      "{'success': True, '_execution_time': 0.069, 'auth_check': {'auth_level': 'Write', 'success': True, 'checked_relations': ['tir.tir2'], 'session': None}, 'affected_rows': 1}\n"
     ]
    },
    {
     "data": {
      "text/plain": [
       "{'acceptedTSN': None,\n",
       " 'gid': 7596,\n",
       " 'tessPairs': '\"cacheDate\"=>\"2017-05-12T16:02:05.390722\",\"tsn\"=>\"504184\",\"result\"=>\"success\",\"entityId\"=>\"1398\",\"SpeciesCode\"=>\"Q3F2\",\"CommonName\"=>\"Three-nerved scurf-pea\",\"PopulationDescription\"=>\"Wherever found\",\"Status\"=>\"UR\",\"StatusText\"=>\"Under Review in the Candidate or Petition Process\"',\n",
       " 'tsn': '504184'}"
      ]
     },
     "metadata": {},
     "output_type": "display_data"
    },
    {
     "name": "stdout",
     "output_type": "stream",
     "text": [
      "{'success': True, '_execution_time': 0.069, 'auth_check': {'auth_level': 'Write', 'success': True, 'checked_relations': ['tir.tir2'], 'session': None}, 'affected_rows': 1}\n"
     ]
    },
    {
     "data": {
      "text/plain": [
       "{'acceptedTSN': None,\n",
       " 'gid': 4826,\n",
       " 'tessPairs': '\"cacheDate\"=>\"2017-05-12T16:02:06.549582\",\"tsn\"=>\"594157\",\"result\"=>\"none\"',\n",
       " 'tsn': '594157'}"
      ]
     },
     "metadata": {},
     "output_type": "display_data"
    },
    {
     "name": "stdout",
     "output_type": "stream",
     "text": [
      "{'success': True, '_execution_time': 0.081, 'auth_check': {'auth_level': 'Write', 'success': True, 'checked_relations': ['tir.tir2'], 'session': None}, 'affected_rows': 1}\n"
     ]
    },
    {
     "data": {
      "text/plain": [
       "{'acceptedTSN': None,\n",
       " 'gid': 7398,\n",
       " 'tessPairs': '\"cacheDate\"=>\"2017-05-12T16:02:07.685595\",\"tsn\"=>\"570983\",\"result\"=>\"none\"',\n",
       " 'tsn': '570983'}"
      ]
     },
     "metadata": {},
     "output_type": "display_data"
    },
    {
     "name": "stdout",
     "output_type": "stream",
     "text": [
      "{'success': True, '_execution_time': 0.068, 'auth_check': {'auth_level': 'Write', 'success': True, 'checked_relations': ['tir.tir2'], 'session': None}, 'affected_rows': 1}\n"
     ]
    },
    {
     "data": {
      "text/plain": [
       "{'acceptedTSN': None,\n",
       " 'gid': 6214,\n",
       " 'tessPairs': '\"cacheDate\"=>\"2017-05-12T16:02:09.848532\",\"tsn\"=>\"567617\",\"result\"=>\"none\"',\n",
       " 'tsn': '567617'}"
      ]
     },
     "metadata": {},
     "output_type": "display_data"
    },
    {
     "name": "stdout",
     "output_type": "stream",
     "text": [
      "{'success': True, '_execution_time': 0.066, 'auth_check': {'auth_level': 'Write', 'success': True, 'checked_relations': ['tir.tir2'], 'session': None}, 'affected_rows': 1}\n"
     ]
    },
    {
     "data": {
      "text/plain": [
       "{'acceptedTSN': None,\n",
       " 'gid': 5441,\n",
       " 'tessPairs': '\"cacheDate\"=>\"2017-05-12T16:02:10.982297\",\"tsn\"=>\"28075\",\"result\"=>\"none\"',\n",
       " 'tsn': '28075'}"
      ]
     },
     "metadata": {},
     "output_type": "display_data"
    },
    {
     "name": "stdout",
     "output_type": "stream",
     "text": [
      "{'success': True, '_execution_time': 0.072, 'auth_check': {'auth_level': 'Write', 'success': True, 'checked_relations': ['tir.tir2'], 'session': None}, 'affected_rows': 1}\n"
     ]
    },
    {
     "data": {
      "text/plain": [
       "{'acceptedTSN': None,\n",
       " 'gid': 7961,\n",
       " 'tessPairs': '\"cacheDate\"=>\"2017-05-12T16:02:12.085848\",\"tsn\"=>\"160809\",\"result\"=>\"success\",\"entityId\"=>\"4881\",\"SpeciesCode\"=>\"E0A9\",\"CommonName\"=>\"Smalltooth sawfish\",\"PopulationDescription\"=>\"US DPS - Smalltooth sawfish originating from U.S. waters.\",\"Status\"=>\"E\",\"StatusText\"=>\"Endangered\",\"ListingDate\"=>\"2005-11-16\"',\n",
       " 'tsn': '160809'}"
      ]
     },
     "metadata": {},
     "output_type": "display_data"
    },
    {
     "name": "stdout",
     "output_type": "stream",
     "text": [
      "{'success': True, '_execution_time': 0.077, 'auth_check': {'auth_level': 'Write', 'success': True, 'checked_relations': ['tir.tir2'], 'session': None}, 'affected_rows': 1}\n"
     ]
    },
    {
     "data": {
      "text/plain": [
       "{'acceptedTSN': None,\n",
       " 'gid': 9806,\n",
       " 'tessPairs': '\"cacheDate\"=>\"2017-05-12T16:02:13.192226\",\"tsn\"=>\"172765\",\"result\"=>\"none\"',\n",
       " 'tsn': '172765'}"
      ]
     },
     "metadata": {},
     "output_type": "display_data"
    },
    {
     "name": "stdout",
     "output_type": "stream",
     "text": [
      "{'success': True, '_execution_time': 0.076, 'auth_check': {'auth_level': 'Write', 'success': True, 'checked_relations': ['tir.tir2'], 'session': None}, 'affected_rows': 1}\n"
     ]
    },
    {
     "data": {
      "text/plain": [
       "{'acceptedTSN': None,\n",
       " 'gid': 4821,\n",
       " 'tessPairs': '\"cacheDate\"=>\"2017-05-12T16:02:14.255910\",\"tsn\"=>\"174030\",\"result\"=>\"success\",\"entityId\"=>\"163\",\"SpeciesCode\"=>\"C01P\",\"CommonName\"=>\"St. Croix ground lizard\",\"PopulationDescription\"=>\"Wherever found\",\"Status\"=>\"E\",\"StatusText\"=>\"Endangered\",\"ListingDate\"=>\"1977-07-05\"',\n",
       " 'tsn': '174030'}"
      ]
     },
     "metadata": {},
     "output_type": "display_data"
    },
    {
     "name": "stdout",
     "output_type": "stream",
     "text": [
      "{'success': True, '_execution_time': 0.077, 'auth_check': {'auth_level': 'Write', 'success': True, 'checked_relations': ['tir.tir2'], 'session': None}, 'affected_rows': 1}\n"
     ]
    },
    {
     "data": {
      "text/plain": [
       "{'acceptedTSN': None,\n",
       " 'gid': 1955,\n",
       " 'tessPairs': '\"cacheDate\"=>\"2017-05-12T16:02:15.337639\",\"tsn\"=>\"15218\",\"result\"=>\"none\"',\n",
       " 'tsn': '15218'}"
      ]
     },
     "metadata": {},
     "output_type": "display_data"
    },
    {
     "name": "stdout",
     "output_type": "stream",
     "text": [
      "{'success': True, '_execution_time': 0.069, 'auth_check': {'auth_level': 'Write', 'success': True, 'checked_relations': ['tir.tir2'], 'session': None}, 'affected_rows': 1}\n"
     ]
    },
    {
     "data": {
      "text/plain": [
       "{'acceptedTSN': None,\n",
       " 'gid': 7605,\n",
       " 'tessPairs': '\"cacheDate\"=>\"2017-05-12T16:02:16.383541\",\"tsn\"=>\"42534\",\"result\"=>\"none\"',\n",
       " 'tsn': '42534'}"
      ]
     },
     "metadata": {},
     "output_type": "display_data"
    },
    {
     "name": "stdout",
     "output_type": "stream",
     "text": [
      "{'success': True, '_execution_time': 0.066, 'auth_check': {'auth_level': 'Write', 'success': True, 'checked_relations': ['tir.tir2'], 'session': None}, 'affected_rows': 1}\n"
     ]
    },
    {
     "data": {
      "text/plain": [
       "{'acceptedTSN': None,\n",
       " 'gid': 7408,\n",
       " 'tessPairs': '\"cacheDate\"=>\"2017-05-12T16:02:17.432107\",\"tsn\"=>\"115831\",\"result\"=>\"none\"',\n",
       " 'tsn': '115831'}"
      ]
     },
     "metadata": {},
     "output_type": "display_data"
    },
    {
     "name": "stdout",
     "output_type": "stream",
     "text": [
      "{'success': True, '_execution_time': 0.079, 'auth_check': {'auth_level': 'Write', 'success': True, 'checked_relations': ['tir.tir2'], 'session': None}, 'affected_rows': 1}\n"
     ]
    },
    {
     "data": {
      "text/plain": [
       "{'acceptedTSN': None,\n",
       " 'gid': 15682,\n",
       " 'tessPairs': '\"cacheDate\"=>\"2017-05-12T16:02:18.477702\",\"tsn\"=>\"81317\",\"result\"=>\"none\"',\n",
       " 'tsn': '81317'}"
      ]
     },
     "metadata": {},
     "output_type": "display_data"
    },
    {
     "name": "stdout",
     "output_type": "stream",
     "text": [
      "{'success': True, '_execution_time': 0.078, 'auth_check': {'auth_level': 'Write', 'success': True, 'checked_relations': ['tir.tir2'], 'session': None}, 'affected_rows': 1}\n"
     ]
    },
    {
     "data": {
      "text/plain": [
       "{'acceptedTSN': None,\n",
       " 'gid': 11369,\n",
       " 'tessPairs': '\"cacheDate\"=>\"2017-05-12T16:02:19.531903\",\"tsn\"=>\"115668\",\"result\"=>\"none\"',\n",
       " 'tsn': '115668'}"
      ]
     },
     "metadata": {},
     "output_type": "display_data"
    },
    {
     "name": "stdout",
     "output_type": "stream",
     "text": [
      "{'success': True, '_execution_time': 0.079, 'auth_check': {'auth_level': 'Write', 'success': True, 'checked_relations': ['tir.tir2'], 'session': None}, 'affected_rows': 1}\n"
     ]
    },
    {
     "data": {
      "text/plain": [
       "{'acceptedTSN': None,\n",
       " 'gid': 9168,\n",
       " 'tessPairs': '\"cacheDate\"=>\"2017-05-12T16:02:20.624100\",\"tsn\"=>\"891625\",\"result\"=>\"none\"',\n",
       " 'tsn': '891625'}"
      ]
     },
     "metadata": {},
     "output_type": "display_data"
    },
    {
     "name": "stdout",
     "output_type": "stream",
     "text": [
      "{'success': True, '_execution_time': 0.066, 'auth_check': {'auth_level': 'Write', 'success': True, 'checked_relations': ['tir.tir2'], 'session': None}, 'affected_rows': 1}\n"
     ]
    },
    {
     "data": {
      "text/plain": [
       "{'acceptedTSN': None,\n",
       " 'gid': 8443,\n",
       " 'tessPairs': '\"cacheDate\"=>\"2017-05-12T16:02:21.641145\",\"tsn\"=>\"888466\",\"result\"=>\"none\"',\n",
       " 'tsn': '888466'}"
      ]
     },
     "metadata": {},
     "output_type": "display_data"
    },
    {
     "name": "stdout",
     "output_type": "stream",
     "text": [
      "{'success': True, '_execution_time': 0.078, 'auth_check': {'auth_level': 'Write', 'success': True, 'checked_relations': ['tir.tir2'], 'session': None}, 'affected_rows': 1}\n"
     ]
    },
    {
     "data": {
      "text/plain": [
       "{'acceptedTSN': None,\n",
       " 'gid': 11377,\n",
       " 'tessPairs': '\"cacheDate\"=>\"2017-05-12T16:02:22.752869\",\"tsn\"=>\"112202\",\"result\"=>\"success\",\"entityId\"=>\"6768\",\"SpeciesCode\"=>\"I06J\",\"CommonName\"=>\"Curved-foot hygrotus diving beetle\",\"PopulationDescription\"=>\"Wherever found\",\"Status\"=>\"SC\",\"StatusText\"=>\"Species of Concern\"',\n",
       " 'tsn': '112202'}"
      ]
     },
     "metadata": {},
     "output_type": "display_data"
    },
    {
     "name": "stdout",
     "output_type": "stream",
     "text": [
      "{'success': True, '_execution_time': 0.078, 'auth_check': {'auth_level': 'Write', 'success': True, 'checked_relations': ['tir.tir2'], 'session': None}, 'affected_rows': 1}\n"
     ]
    },
    {
     "data": {
      "text/plain": [
       "{'acceptedTSN': None,\n",
       " 'gid': 532,\n",
       " 'tessPairs': '\"cacheDate\"=>\"2017-05-12T16:02:23.800438\",\"tsn\"=>\"101507\",\"result\"=>\"none\"',\n",
       " 'tsn': '101507'}"
      ]
     },
     "metadata": {},
     "output_type": "display_data"
    },
    {
     "name": "stdout",
     "output_type": "stream",
     "text": [
      "{'success': True, '_execution_time': 0.077, 'auth_check': {'auth_level': 'Write', 'success': True, 'checked_relations': ['tir.tir2'], 'session': None}, 'affected_rows': 1}\n"
     ]
    },
    {
     "data": {
      "text/plain": [
       "{'acceptedTSN': None,\n",
       " 'gid': 768,\n",
       " 'tessPairs': '\"cacheDate\"=>\"2017-05-12T16:02:24.895268\",\"tsn\"=>\"163510\",\"result\"=>\"success\",\"entityId\"=>\"5126\",\"SpeciesCode\"=>\"E04V\",\"CommonName\"=>\"Mexican stoneroller\",\"PopulationDescription\"=>\"Wherever found\",\"Status\"=>\"SC\",\"StatusText\"=>\"Species of Concern\"',\n",
       " 'tsn': '163510'}"
      ]
     },
     "metadata": {},
     "output_type": "display_data"
    },
    {
     "name": "stdout",
     "output_type": "stream",
     "text": [
      "{'success': True, '_execution_time': 0.077, 'auth_check': {'auth_level': 'Write', 'success': True, 'checked_relations': ['tir.tir2'], 'session': None}, 'affected_rows': 1}\n"
     ]
    },
    {
     "data": {
      "text/plain": [
       "{'acceptedTSN': None,\n",
       " 'gid': 16216,\n",
       " 'tessPairs': '\"cacheDate\"=>\"2017-05-12T16:02:25.952729\",\"tsn\"=>\"64703\",\"result\"=>\"none\"',\n",
       " 'tsn': '64703'}"
      ]
     },
     "metadata": {},
     "output_type": "display_data"
    },
    {
     "name": "stdout",
     "output_type": "stream",
     "text": [
      "{'success': True, '_execution_time': 0.078, 'auth_check': {'auth_level': 'Write', 'success': True, 'checked_relations': ['tir.tir2'], 'session': None}, 'affected_rows': 1}\n"
     ]
    },
    {
     "data": {
      "text/plain": [
       "{'acceptedTSN': None,\n",
       " 'gid': 12355,\n",
       " 'tessPairs': '\"cacheDate\"=>\"2017-05-12T16:02:26.975154\",\"tsn\"=>\"97441\",\"result\"=>\"none\"',\n",
       " 'tsn': '97441'}"
      ]
     },
     "metadata": {},
     "output_type": "display_data"
    },
    {
     "name": "stdout",
     "output_type": "stream",
     "text": [
      "{'success': True, '_execution_time': 0.077, 'auth_check': {'auth_level': 'Write', 'success': True, 'checked_relations': ['tir.tir2'], 'session': None}, 'affected_rows': 1}\n"
     ]
    },
    {
     "data": {
      "text/plain": [
       "{'acceptedTSN': None,\n",
       " 'gid': 16052,\n",
       " 'tessPairs': '\"cacheDate\"=>\"2017-05-12T16:02:27.963023\",\"tsn\"=>\"65782\",\"result\"=>\"none\"',\n",
       " 'tsn': '65782'}"
      ]
     },
     "metadata": {},
     "output_type": "display_data"
    },
    {
     "name": "stdout",
     "output_type": "stream",
     "text": [
      "{'success': True, '_execution_time': 0.079, 'auth_check': {'auth_level': 'Write', 'success': True, 'checked_relations': ['tir.tir2'], 'session': None}, 'affected_rows': 1}\n"
     ]
    },
    {
     "data": {
      "text/plain": [
       "{'acceptedTSN': None,\n",
       " 'gid': 17082,\n",
       " 'tessPairs': '\"cacheDate\"=>\"2017-05-12T16:02:28.974267\",\"tsn\"=>\"29404\",\"result\"=>\"none\"',\n",
       " 'tsn': '29404'}"
      ]
     },
     "metadata": {},
     "output_type": "display_data"
    },
    {
     "name": "stdout",
     "output_type": "stream",
     "text": [
      "{'success': True, '_execution_time': 0.071, 'auth_check': {'auth_level': 'Write', 'success': True, 'checked_relations': ['tir.tir2'], 'session': None}, 'affected_rows': 1}\n"
     ]
    },
    {
     "data": {
      "text/plain": [
       "{'acceptedTSN': None,\n",
       " 'gid': 592,\n",
       " 'tessPairs': '\"cacheDate\"=>\"2017-05-12T16:02:30.049672\",\"tsn\"=>\"188567\",\"result\"=>\"none\"',\n",
       " 'tsn': '188567'}"
      ]
     },
     "metadata": {},
     "output_type": "display_data"
    },
    {
     "name": "stdout",
     "output_type": "stream",
     "text": [
      "{'success': True, '_execution_time': 0.066, 'auth_check': {'auth_level': 'Write', 'success': True, 'checked_relations': ['tir.tir2'], 'session': None}, 'affected_rows': 1}\n"
     ]
    },
    {
     "data": {
      "text/plain": [
       "{'acceptedTSN': None,\n",
       " 'gid': 11235,\n",
       " 'tessPairs': '\"cacheDate\"=>\"2017-05-12T16:02:31.972316\",\"tsn\"=>\"567664\",\"result\"=>\"none\"',\n",
       " 'tsn': '567664'}"
      ]
     },
     "metadata": {},
     "output_type": "display_data"
    },
    {
     "name": "stdout",
     "output_type": "stream",
     "text": [
      "{'success': True, '_execution_time': 0.066, 'auth_check': {'auth_level': 'Write', 'success': True, 'checked_relations': ['tir.tir2'], 'session': None}, 'affected_rows': 1}\n"
     ]
    },
    {
     "data": {
      "text/plain": [
       "{'acceptedTSN': None,\n",
       " 'gid': 5205,\n",
       " 'tessPairs': '\"cacheDate\"=>\"2017-05-12T16:02:33.040124\",\"tsn\"=>\"175350\",\"result\"=>\"none\"',\n",
       " 'tsn': '175350'}"
      ]
     },
     "metadata": {},
     "output_type": "display_data"
    },
    {
     "name": "stdout",
     "output_type": "stream",
     "text": [
      "{'success': True, '_execution_time': 0.104, 'auth_check': {'auth_level': 'Write', 'success': True, 'checked_relations': ['tir.tir2'], 'session': None}, 'affected_rows': 1}\n"
     ]
    },
    {
     "data": {
      "text/plain": [
       "{'acceptedTSN': None,\n",
       " 'gid': 12358,\n",
       " 'tessPairs': '\"cacheDate\"=>\"2017-05-12T16:02:34.117951\",\"tsn\"=>\"97451\",\"result\"=>\"success\",\"entityId\"=>\"2402\",\"SpeciesCode\"=>\"K01R\",\"CommonName\"=>\"Louisville crayfish\",\"PopulationDescription\"=>\"Wherever found\",\"Status\"=>\"SC\",\"StatusText\"=>\"Species of Concern\"',\n",
       " 'tsn': '97451'}"
      ]
     },
     "metadata": {},
     "output_type": "display_data"
    },
    {
     "name": "stdout",
     "output_type": "stream",
     "text": [
      "{'success': True, '_execution_time': 0.109, 'auth_check': {'auth_level': 'Write', 'success': True, 'checked_relations': ['tir.tir2'], 'session': None}, 'affected_rows': 1}\n"
     ]
    },
    {
     "data": {
      "text/plain": [
       "{'acceptedTSN': None,\n",
       " 'gid': 1442,\n",
       " 'tessPairs': '\"cacheDate\"=>\"2017-05-12T16:02:35.158989\",\"tsn\"=>\"208266\",\"result\"=>\"none\"',\n",
       " 'tsn': '208266'}"
      ]
     },
     "metadata": {},
     "output_type": "display_data"
    },
    {
     "name": "stdout",
     "output_type": "stream",
     "text": [
      "{'success': True, '_execution_time': 0.108, 'auth_check': {'auth_level': 'Write', 'success': True, 'checked_relations': ['tir.tir2'], 'session': None}, 'affected_rows': 1}\n"
     ]
    },
    {
     "data": {
      "text/plain": [
       "{'acceptedTSN': None,\n",
       " 'gid': 9098,\n",
       " 'tessPairs': '\"cacheDate\"=>\"2017-05-12T16:02:36.210494\",\"tsn\"=>\"206643\",\"result\"=>\"none\"',\n",
       " 'tsn': '206643'}"
      ]
     },
     "metadata": {},
     "output_type": "display_data"
    },
    {
     "name": "stdout",
     "output_type": "stream",
     "text": [
      "{'success': True, '_execution_time': 0.073, 'auth_check': {'auth_level': 'Write', 'success': True, 'checked_relations': ['tir.tir2'], 'session': None}, 'affected_rows': 1}\n"
     ]
    },
    {
     "data": {
      "text/plain": [
       "{'acceptedTSN': None,\n",
       " 'gid': 6153,\n",
       " 'tessPairs': '\"cacheDate\"=>\"2017-05-12T16:02:37.233782\",\"tsn\"=>\"175604\",\"result\"=>\"success\",\"entityId\"=>\"9522\",\"SpeciesCode\"=>\"B0FU\",\"CommonName\"=>\"Peregrine Falcon\",\"PopulationDescription\"=>\"Wherever found\",\"Status\"=>\"SC\",\"StatusText\"=>\"Species of Concern\"',\n",
       " 'tsn': '175604'}"
      ]
     },
     "metadata": {},
     "output_type": "display_data"
    },
    {
     "name": "stdout",
     "output_type": "stream",
     "text": [
      "{'success': True, '_execution_time': 0.079, 'auth_check': {'auth_level': 'Write', 'success': True, 'checked_relations': ['tir.tir2'], 'session': None}, 'affected_rows': 1}\n"
     ]
    },
    {
     "data": {
      "text/plain": [
       "{'acceptedTSN': None,\n",
       " 'gid': 7512,\n",
       " 'tessPairs': '\"cacheDate\"=>\"2017-05-12T16:02:38.283572\",\"tsn\"=>\"101223\",\"result\"=>\"none\"',\n",
       " 'tsn': '101223'}"
      ]
     },
     "metadata": {},
     "output_type": "display_data"
    },
    {
     "name": "stdout",
     "output_type": "stream",
     "text": [
      "{'success': True, '_execution_time': 0.076, 'auth_check': {'auth_level': 'Write', 'success': True, 'checked_relations': ['tir.tir2'], 'session': None}, 'affected_rows': 1}\n"
     ]
    },
    {
     "data": {
      "text/plain": [
       "{'acceptedTSN': None,\n",
       " 'gid': 2204,\n",
       " 'tessPairs': '\"cacheDate\"=>\"2017-05-12T16:02:39.365441\",\"tsn\"=>\"726195\",\"result\"=>\"none\"',\n",
       " 'tsn': '726195'}"
      ]
     },
     "metadata": {},
     "output_type": "display_data"
    },
    {
     "name": "stdout",
     "output_type": "stream",
     "text": [
      "{'success': True, '_execution_time': 0.079, 'auth_check': {'auth_level': 'Write', 'success': True, 'checked_relations': ['tir.tir2'], 'session': None}, 'affected_rows': 1}\n"
     ]
    },
    {
     "data": {
      "text/plain": [
       "{'acceptedTSN': None,\n",
       " 'gid': 2309,\n",
       " 'tessPairs': '\"cacheDate\"=>\"2017-05-12T16:02:40.405277\",\"tsn\"=>\"163482\",\"result\"=>\"none\"',\n",
       " 'tsn': '163482'}"
      ]
     },
     "metadata": {},
     "output_type": "display_data"
    },
    {
     "name": "stdout",
     "output_type": "stream",
     "text": [
      "{'success': True, '_execution_time': 0.077, 'auth_check': {'auth_level': 'Write', 'success': True, 'checked_relations': ['tir.tir2'], 'session': None}, 'affected_rows': 1}\n"
     ]
    },
    {
     "data": {
      "text/plain": [
       "{'acceptedTSN': None,\n",
       " 'gid': 4849,\n",
       " 'tessPairs': '\"cacheDate\"=>\"2017-05-12T16:02:41.464037\",\"tsn\"=>\"874055\",\"result\"=>\"none\"',\n",
       " 'tsn': '874055'}"
      ]
     },
     "metadata": {},
     "output_type": "display_data"
    },
    {
     "name": "stdout",
     "output_type": "stream",
     "text": [
      "{'success': True, '_execution_time': 0.077, 'auth_check': {'auth_level': 'Write', 'success': True, 'checked_relations': ['tir.tir2'], 'session': None}, 'affected_rows': 1}\n"
     ]
    },
    {
     "data": {
      "text/plain": [
       "{'acceptedTSN': None,\n",
       " 'gid': 16192,\n",
       " 'tessPairs': '\"cacheDate\"=>\"2017-05-12T16:02:42.601868\",\"tsn\"=>\"101033\",\"result\"=>\"none\"',\n",
       " 'tsn': '101033'}"
      ]
     },
     "metadata": {},
     "output_type": "display_data"
    },
    {
     "name": "stdout",
     "output_type": "stream",
     "text": [
      "{'success': True, '_execution_time': 0.078, 'auth_check': {'auth_level': 'Write', 'success': True, 'checked_relations': ['tir.tir2'], 'session': None}, 'affected_rows': 1}\n"
     ]
    },
    {
     "data": {
      "text/plain": [
       "{'acceptedTSN': None,\n",
       " 'gid': 1035,\n",
       " 'tessPairs': '\"cacheDate\"=>\"2017-05-12T16:02:43.715827\",\"tsn\"=>\"20605\",\"result\"=>\"none\"',\n",
       " 'tsn': '20605'}"
      ]
     },
     "metadata": {},
     "output_type": "display_data"
    },
    {
     "name": "stdout",
     "output_type": "stream",
     "text": [
      "{'success': True, '_execution_time': 0.073, 'auth_check': {'auth_level': 'Write', 'success': True, 'checked_relations': ['tir.tir2'], 'session': None}, 'affected_rows': 1}\n"
     ]
    },
    {
     "data": {
      "text/plain": [
       "{'acceptedTSN': None,\n",
       " 'gid': 5246,\n",
       " 'tessPairs': '\"cacheDate\"=>\"2017-05-12T16:02:44.836219\",\"tsn\"=>\"176648\",\"result\"=>\"none\"',\n",
       " 'tsn': '176648'}"
      ]
     },
     "metadata": {},
     "output_type": "display_data"
    },
    {
     "name": "stdout",
     "output_type": "stream",
     "text": [
      "{'success': True, '_execution_time': 0.072, 'auth_check': {'auth_level': 'Write', 'success': True, 'checked_relations': ['tir.tir2'], 'session': None}, 'affected_rows': 1}\n"
     ]
    },
    {
     "data": {
      "text/plain": [
       "{'acceptedTSN': None,\n",
       " 'gid': 3410,\n",
       " 'tessPairs': '\"cacheDate\"=>\"2017-05-12T16:02:45.985393\",\"tsn\"=>\"180267\",\"result\"=>\"none\"',\n",
       " 'tsn': '180267'}"
      ]
     },
     "metadata": {},
     "output_type": "display_data"
    },
    {
     "name": "stdout",
     "output_type": "stream",
     "text": [
      "{'success': True, '_execution_time': 0.075, 'auth_check': {'auth_level': 'Write', 'success': True, 'checked_relations': ['tir.tir2'], 'session': None}, 'affected_rows': 1}\n"
     ]
    },
    {
     "data": {
      "text/plain": [
       "{'acceptedTSN': None,\n",
       " 'gid': 7612,\n",
       " 'tessPairs': '\"cacheDate\"=>\"2017-05-12T16:02:47.092366\",\"tsn\"=>\"33916\",\"result\"=>\"none\"',\n",
       " 'tsn': '33916'}"
      ]
     },
     "metadata": {},
     "output_type": "display_data"
    },
    {
     "name": "stdout",
     "output_type": "stream",
     "text": [
      "{'success': True, '_execution_time': 0.077, 'auth_check': {'auth_level': 'Write', 'success': True, 'checked_relations': ['tir.tir2'], 'session': None}, 'affected_rows': 1}\n"
     ]
    },
    {
     "data": {
      "text/plain": [
       "{'acceptedTSN': None,\n",
       " 'gid': 5452,\n",
       " 'tessPairs': '\"cacheDate\"=>\"2017-05-12T16:02:48.394164\",\"tsn\"=>\"175038\",\"result\"=>\"none\"',\n",
       " 'tsn': '175038'}"
      ]
     },
     "metadata": {},
     "output_type": "display_data"
    },
    {
     "name": "stdout",
     "output_type": "stream",
     "text": [
      "{'success': True, '_execution_time': 0.08, 'auth_check': {'auth_level': 'Write', 'success': True, 'checked_relations': ['tir.tir2'], 'session': None}, 'affected_rows': 1}\n"
     ]
    },
    {
     "data": {
      "text/plain": [
       "{'acceptedTSN': None,\n",
       " 'gid': 11593,\n",
       " 'tessPairs': '\"cacheDate\"=>\"2017-05-12T16:02:49.434402\",\"tsn\"=>\"51974\",\"result\"=>\"none\"',\n",
       " 'tsn': '51974'}"
      ]
     },
     "metadata": {},
     "output_type": "display_data"
    },
    {
     "name": "stdout",
     "output_type": "stream",
     "text": [
      "{'success': True, '_execution_time': 0.072, 'auth_check': {'auth_level': 'Write', 'success': True, 'checked_relations': ['tir.tir2'], 'session': None}, 'affected_rows': 1}\n"
     ]
    },
    {
     "data": {
      "text/plain": [
       "{'acceptedTSN': None,\n",
       " 'gid': 16658,\n",
       " 'tessPairs': '\"cacheDate\"=>\"2017-05-12T16:02:50.491471\",\"tsn\"=>\"76735\",\"result\"=>\"none\"',\n",
       " 'tsn': '76735'}"
      ]
     },
     "metadata": {},
     "output_type": "display_data"
    },
    {
     "name": "stdout",
     "output_type": "stream",
     "text": [
      "{'success': True, '_execution_time': 0.072, 'auth_check': {'auth_level': 'Write', 'success': True, 'checked_relations': ['tir.tir2'], 'session': None}, 'affected_rows': 1}\n"
     ]
    },
    {
     "data": {
      "text/plain": [
       "{'acceptedTSN': None,\n",
       " 'gid': 11381,\n",
       " 'tessPairs': '\"cacheDate\"=>\"2017-05-12T16:02:51.545362\",\"tsn\"=>\"655723\",\"result\"=>\"none\"',\n",
       " 'tsn': '655723'}"
      ]
     },
     "metadata": {},
     "output_type": "display_data"
    },
    {
     "name": "stdout",
     "output_type": "stream",
     "text": [
      "{'success': True, '_execution_time': 0.077, 'auth_check': {'auth_level': 'Write', 'success': True, 'checked_relations': ['tir.tir2'], 'session': None}, 'affected_rows': 1}\n"
     ]
    },
    {
     "data": {
      "text/plain": [
       "{'acceptedTSN': None,\n",
       " 'gid': 15460,\n",
       " 'tessPairs': '\"cacheDate\"=>\"2017-05-12T16:02:52.537790\",\"tsn\"=>\"155559\",\"result\"=>\"none\"',\n",
       " 'tsn': '155559'}"
      ]
     },
     "metadata": {},
     "output_type": "display_data"
    },
    {
     "name": "stdout",
     "output_type": "stream",
     "text": [
      "{'success': True, '_execution_time': 0.074, 'auth_check': {'auth_level': 'Write', 'success': True, 'checked_relations': ['tir.tir2'], 'session': None}, 'affected_rows': 1}\n"
     ]
    },
    {
     "data": {
      "text/plain": [
       "{'acceptedTSN': None,\n",
       " 'gid': 4272,\n",
       " 'tessPairs': '\"cacheDate\"=>\"2017-05-12T16:02:53.579058\",\"tsn\"=>\"530527\",\"result\"=>\"none\"',\n",
       " 'tsn': '530527'}"
      ]
     },
     "metadata": {},
     "output_type": "display_data"
    },
    {
     "name": "stdout",
     "output_type": "stream",
     "text": [
      "{'success': True, '_execution_time': 0.079, 'auth_check': {'auth_level': 'Write', 'success': True, 'checked_relations': ['tir.tir2'], 'session': None}, 'affected_rows': 1}\n"
     ]
    },
    {
     "data": {
      "text/plain": [
       "{'acceptedTSN': None,\n",
       " 'gid': 11464,\n",
       " 'tessPairs': '\"cacheDate\"=>\"2017-05-12T16:02:54.571238\",\"tsn\"=>\"103068\",\"result\"=>\"none\"',\n",
       " 'tsn': '103068'}"
      ]
     },
     "metadata": {},
     "output_type": "display_data"
    },
    {
     "name": "stdout",
     "output_type": "stream",
     "text": [
      "{'success': True, '_execution_time': 0.074, 'auth_check': {'auth_level': 'Write', 'success': True, 'checked_relations': ['tir.tir2'], 'session': None}, 'affected_rows': 1}\n"
     ]
    },
    {
     "data": {
      "text/plain": [
       "{'acceptedTSN': None,\n",
       " 'gid': 17558,\n",
       " 'tessPairs': '\"cacheDate\"=>\"2017-05-12T16:02:55.576325\",\"tsn\"=>\"41740\",\"result\"=>\"none\"',\n",
       " 'tsn': '41740'}"
      ]
     },
     "metadata": {},
     "output_type": "display_data"
    },
    {
     "name": "stdout",
     "output_type": "stream",
     "text": [
      "{'success': True, '_execution_time': 0.067, 'auth_check': {'auth_level': 'Write', 'success': True, 'checked_relations': ['tir.tir2'], 'session': None}, 'affected_rows': 1}\n"
     ]
    },
    {
     "data": {
      "text/plain": [
       "{'acceptedTSN': None,\n",
       " 'gid': 14989,\n",
       " 'tessPairs': '\"cacheDate\"=>\"2017-05-12T16:02:56.580563\",\"tsn\"=>\"15689\",\"result\"=>\"none\"',\n",
       " 'tsn': '15689'}"
      ]
     },
     "metadata": {},
     "output_type": "display_data"
    },
    {
     "name": "stdout",
     "output_type": "stream",
     "text": [
      "{'success': True, '_execution_time': 0.066, 'auth_check': {'auth_level': 'Write', 'success': True, 'checked_relations': ['tir.tir2'], 'session': None}, 'affected_rows': 1}\n"
     ]
    },
    {
     "data": {
      "text/plain": [
       "{'acceptedTSN': None,\n",
       " 'gid': 13893,\n",
       " 'tessPairs': '\"cacheDate\"=>\"2017-05-12T16:02:57.664052\",\"tsn\"=>\"178990\",\"result\"=>\"success\",\"entityId\"=>\"138\",\"SpeciesCode\"=>\"B07T\",\"CommonName\"=>\"Black-capped Vireo\",\"PopulationDescription\"=>\"Wherever found\",\"Status\"=>\"E\",\"StatusText\"=>\"Endangered\",\"ListingDate\"=>\"1987-10-06\"',\n",
       " 'tsn': '178990'}"
      ]
     },
     "metadata": {},
     "output_type": "display_data"
    },
    {
     "name": "stdout",
     "output_type": "stream",
     "text": [
      "{'success': True, '_execution_time': 0.07, 'auth_check': {'auth_level': 'Write', 'success': True, 'checked_relations': ['tir.tir2'], 'session': None}, 'affected_rows': 1}\n"
     ]
    },
    {
     "data": {
      "text/plain": [
       "{'acceptedTSN': None,\n",
       " 'gid': 5622,\n",
       " 'tessPairs': '\"cacheDate\"=>\"2017-05-12T16:02:58.737645\",\"tsn\"=>\"161948\",\"result\"=>\"success\",\"entityId\"=>\"3843\",\"SpeciesCode\"=>\"E038\",\"CommonName\"=>\"Shortjaw cisco\",\"PopulationDescription\"=>\"Wherever found\",\"Status\"=>\"SC\",\"StatusText\"=>\"Species of Concern\"',\n",
       " 'tsn': '161948'}"
      ]
     },
     "metadata": {},
     "output_type": "display_data"
    },
    {
     "name": "stdout",
     "output_type": "stream",
     "text": [
      "{'success': True, '_execution_time': 0.067, 'auth_check': {'auth_level': 'Write', 'success': True, 'checked_relations': ['tir.tir2'], 'session': None}, 'affected_rows': 1}\n"
     ]
    },
    {
     "data": {
      "text/plain": [
       "{'acceptedTSN': None,\n",
       " 'gid': 8021,\n",
       " 'tessPairs': '\"cacheDate\"=>\"2017-05-12T16:02:59.744796\",\"tsn\"=>\"162009\",\"result\"=>\"success\",\"entityId\"=>\"9112\",\"SpeciesCode\"=>\"E0AM\",\"CommonName\"=>\"mountain whitefish\",\"PopulationDescription\"=>\"Big Lost River Distinct Population\",\"Status\"=>\"RT\",\"StatusText\"=>\"Resolved Taxon\"',\n",
       " 'tsn': '162009'}"
      ]
     },
     "metadata": {},
     "output_type": "display_data"
    },
    {
     "name": "stdout",
     "output_type": "stream",
     "text": [
      "{'success': True, '_execution_time': 0.068, 'auth_check': {'auth_level': 'Write', 'success': True, 'checked_relations': ['tir.tir2'], 'session': None}, 'affected_rows': 1}\n"
     ]
    },
    {
     "data": {
      "text/plain": [
       "{'acceptedTSN': None,\n",
       " 'gid': 8945,\n",
       " 'tessPairs': '\"cacheDate\"=>\"2017-05-12T16:03:00.843364\",\"tsn\"=>\"747671\",\"result\"=>\"none\"',\n",
       " 'tsn': '747671'}"
      ]
     },
     "metadata": {},
     "output_type": "display_data"
    },
    {
     "name": "stdout",
     "output_type": "stream",
     "text": [
      "{'success': True, '_execution_time': 0.067, 'auth_check': {'auth_level': 'Write', 'success': True, 'checked_relations': ['tir.tir2'], 'session': None}, 'affected_rows': 1}\n"
     ]
    },
    {
     "data": {
      "text/plain": [
       "{'acceptedTSN': None,\n",
       " 'gid': 2286,\n",
       " 'tessPairs': '\"cacheDate\"=>\"2017-05-12T16:03:01.902141\",\"tsn\"=>\"567703\",\"result\"=>\"none\"',\n",
       " 'tsn': '567703'}"
      ]
     },
     "metadata": {},
     "output_type": "display_data"
    },
    {
     "name": "stdout",
     "output_type": "stream",
     "text": [
      "{'success': True, '_execution_time': 0.069, 'auth_check': {'auth_level': 'Write', 'success': True, 'checked_relations': ['tir.tir2'], 'session': None}, 'affected_rows': 1}\n"
     ]
    },
    {
     "data": {
      "text/plain": [
       "{'acceptedTSN': None,\n",
       " 'gid': 5969,\n",
       " 'tessPairs': '\"cacheDate\"=>\"2017-05-12T16:03:02.932521\",\"tsn\"=>\"694036\",\"result\"=>\"none\"',\n",
       " 'tsn': '694036'}"
      ]
     },
     "metadata": {},
     "output_type": "display_data"
    },
    {
     "name": "stdout",
     "output_type": "stream",
     "text": [
      "{'success': True, '_execution_time': 0.07, 'auth_check': {'auth_level': 'Write', 'success': True, 'checked_relations': ['tir.tir2'], 'session': None}, 'affected_rows': 1}\n"
     ]
    },
    {
     "data": {
      "text/plain": [
       "{'acceptedTSN': None,\n",
       " 'gid': 50,\n",
       " 'tessPairs': '\"cacheDate\"=>\"2017-05-12T16:03:03.902317\",\"tsn\"=>\"573257\",\"result\"=>\"none\"',\n",
       " 'tsn': '573257'}"
      ]
     },
     "metadata": {},
     "output_type": "display_data"
    },
    {
     "name": "stdout",
     "output_type": "stream",
     "text": [
      "{'success': True, '_execution_time': 0.067, 'auth_check': {'auth_level': 'Write', 'success': True, 'checked_relations': ['tir.tir2'], 'session': None}, 'affected_rows': 1}\n"
     ]
    },
    {
     "data": {
      "text/plain": [
       "{'acceptedTSN': None,\n",
       " 'gid': 4192,\n",
       " 'tessPairs': '\"cacheDate\"=>\"2017-05-12T16:03:04.879987\",\"tsn\"=>\"179946\",\"result\"=>\"none\"',\n",
       " 'tsn': '179946'}"
      ]
     },
     "metadata": {},
     "output_type": "display_data"
    },
    {
     "name": "stdout",
     "output_type": "stream",
     "text": [
      "{'success': True, '_execution_time': 0.068, 'auth_check': {'auth_level': 'Write', 'success': True, 'checked_relations': ['tir.tir2'], 'session': None}, 'affected_rows': 1}\n"
     ]
    },
    {
     "data": {
      "text/plain": [
       "{'acceptedTSN': None,\n",
       " 'gid': 78,\n",
       " 'tessPairs': '\"cacheDate\"=>\"2017-05-12T16:03:05.893424\",\"tsn\"=>\"177942\",\"result\"=>\"none\"',\n",
       " 'tsn': '177942'}"
      ]
     },
     "metadata": {},
     "output_type": "display_data"
    },
    {
     "name": "stdout",
     "output_type": "stream",
     "text": [
      "{'success': True, '_execution_time': 0.069, 'auth_check': {'auth_level': 'Write', 'success': True, 'checked_relations': ['tir.tir2'], 'session': None}, 'affected_rows': 1}\n"
     ]
    },
    {
     "data": {
      "text/plain": [
       "{'acceptedTSN': None,\n",
       " 'gid': 2451,\n",
       " 'tessPairs': '\"cacheDate\"=>\"2017-05-12T16:03:06.886491\",\"tsn\"=>\"39273\",\"result\"=>\"none\"',\n",
       " 'tsn': '39273'}"
      ]
     },
     "metadata": {},
     "output_type": "display_data"
    },
    {
     "name": "stdout",
     "output_type": "stream",
     "text": [
      "{'success': True, '_execution_time': 0.071, 'auth_check': {'auth_level': 'Write', 'success': True, 'checked_relations': ['tir.tir2'], 'session': None}, 'affected_rows': 1}\n"
     ]
    },
    {
     "data": {
      "text/plain": [
       "{'acceptedTSN': None,\n",
       " 'gid': 7518,\n",
       " 'tessPairs': '\"cacheDate\"=>\"2017-05-12T16:03:07.895925\",\"tsn\"=>\"656853\",\"result\"=>\"none\"',\n",
       " 'tsn': '656853'}"
      ]
     },
     "metadata": {},
     "output_type": "display_data"
    },
    {
     "name": "stdout",
     "output_type": "stream",
     "text": [
      "{'success': True, '_execution_time': 0.069, 'auth_check': {'auth_level': 'Write', 'success': True, 'checked_relations': ['tir.tir2'], 'session': None}, 'affected_rows': 1}\n"
     ]
    },
    {
     "data": {
      "text/plain": [
       "{'acceptedTSN': None,\n",
       " 'gid': 9209,\n",
       " 'tessPairs': '\"cacheDate\"=>\"2017-05-12T16:03:08.853906\",\"tsn\"=>\"76868\",\"result\"=>\"none\"',\n",
       " 'tsn': '76868'}"
      ]
     },
     "metadata": {},
     "output_type": "display_data"
    },
    {
     "name": "stdout",
     "output_type": "stream",
     "text": [
      "{'success': True, '_execution_time': 0.067, 'auth_check': {'auth_level': 'Write', 'success': True, 'checked_relations': ['tir.tir2'], 'session': None}, 'affected_rows': 1}\n"
     ]
    },
    {
     "data": {
      "text/plain": [
       "{'acceptedTSN': None,\n",
       " 'gid': 10171,\n",
       " 'tessPairs': '\"cacheDate\"=>\"2017-05-12T16:03:09.876620\",\"tsn\"=>\"170091\",\"result\"=>\"none\"',\n",
       " 'tsn': '170091'}"
      ]
     },
     "metadata": {},
     "output_type": "display_data"
    },
    {
     "name": "stdout",
     "output_type": "stream",
     "text": [
      "{'success': True, '_execution_time': 0.067, 'auth_check': {'auth_level': 'Write', 'success': True, 'checked_relations': ['tir.tir2'], 'session': None}, 'affected_rows': 1}\n"
     ]
    },
    {
     "data": {
      "text/plain": [
       "{'acceptedTSN': None,\n",
       " 'gid': 7519,\n",
       " 'tessPairs': '\"cacheDate\"=>\"2017-05-12T16:03:10.912673\",\"tsn\"=>\"167838\",\"result\"=>\"none\"',\n",
       " 'tsn': '167838'}"
      ]
     },
     "metadata": {},
     "output_type": "display_data"
    },
    {
     "name": "stdout",
     "output_type": "stream",
     "text": [
      "{'success': True, '_execution_time': 0.069, 'auth_check': {'auth_level': 'Write', 'success': True, 'checked_relations': ['tir.tir2'], 'session': None}, 'affected_rows': 1}\n"
     ]
    }
   ],
   "source": [
    "for feature in tsns[\"features\"]:\n",
    "    thisRecord = {}\n",
    "    thisRecord[\"gid\"] = feature[\"properties\"][\"gid\"]\n",
    "    thisRecord[\"tsn\"] = feature[\"properties\"][\"tsn\"]\n",
    "    thisRecord[\"acceptedTSN\"] = feature[\"properties\"][\"acceptedtsn\"]\n",
    "    \n",
    "    # Query based on discovered TSN and package data\n",
    "    thisRecord[\"tessPairs\"] = packageTESSPairs(thisRecord[\"tsn\"],queryTESS(thisRecord[\"tsn\"]))\n",
    "\n",
    "    if '\"result\"=>\"none\"' in thisRecord[\"tessPairs\"] and type(thisRecord[\"acceptedTSN\"]) is str:\n",
    "        # Query based on discovered TSN and package data\n",
    "        thisRecord[\"tessPairs\"] = packageTESSPairs(thisRecord[\"acceptedTSN\"],queryTESS(thisRecord[\"acceptedTSN\"]))\n",
    "\n",
    "    display (thisRecord)\n",
    "    print (cacheToTIR(thisRecord[\"gid\"],\"tess\",thisRecord[\"tessPairs\"]))\n"
   ]
  },
  {
   "cell_type": "code",
   "execution_count": null,
   "metadata": {
    "collapsed": true,
    "deletable": true,
    "editable": true
   },
   "outputs": [],
   "source": []
  }
 ],
 "metadata": {
  "kernelspec": {
   "display_name": "Python 3",
   "language": "python",
   "name": "python3"
  },
  "language_info": {
   "codemirror_mode": {
    "name": "ipython",
    "version": 3
   },
   "file_extension": ".py",
   "mimetype": "text/x-python",
   "name": "python",
   "nbconvert_exporter": "python",
   "pygments_lexer": "ipython3",
   "version": "3.5.3"
  }
 },
 "nbformat": 4,
 "nbformat_minor": 0
}
