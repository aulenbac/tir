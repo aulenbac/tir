{
 "cells": [
  {
   "cell_type": "code",
   "execution_count": 1,
   "metadata": {
    "collapsed": true
   },
   "outputs": [],
   "source": [
    "import requests\n",
    "from IPython.display import display\n",
    "from bis import itis\n",
    "from bis import bis\n",
    "from bis2 import mlab"
   ]
  },
  {
   "cell_type": "code",
   "execution_count": 2,
   "metadata": {
    "collapsed": false
   },
   "outputs": [],
   "source": [
    "bisDB = mlab.getDB(\"bis\")"
   ]
  },
  {
   "cell_type": "code",
   "execution_count": 3,
   "metadata": {
    "collapsed": true
   },
   "outputs": [],
   "source": [
    "itiscache = bisDB[\"itiscache\"]"
   ]
  },
  {
   "cell_type": "code",
   "execution_count": 6,
   "metadata": {
    "collapsed": false
   },
   "outputs": [],
   "source": [
    "for doc in itiscache.find({\"$and\":[{\"originCollection\":\"gc2.sgcn\"},{\"itisData\":{\"$exists\":True}},{\"itisData.searchURL\":{\"$exists\":False}}]}):\n",
    "    _cleanScientificName = bis.cleanScientificName(doc[\"scientificname\"])\n",
    "    _searchURL = itis.getITISSearchURL(_cleanScientificName,False,True)\n",
    "    itiscache.update_one({\"_id\":doc[\"_id\"]},{\"$set\":{\"cleanscientificname\":_cleanScientificName}},upsert=False)\n",
    "    itiscache.update_one({\"_id\":doc[\"_id\"]},{\"$set\":{\"searchURL\":_searchURL}},upsert=False)\n",
    "    \n",
    "#    newSearchURL = itis.getITISSearchURL(doc[\"cleanscientificname\"],True,False)\n",
    "#    try:\n",
    "#        print (newSearchURL)\n",
    "#        display (requests.get(newSearchURL).json())\n",
    "#    except:\n",
    "#        print (newSearchURL)\n",
    "#        display (doc)"
   ]
  },
  {
   "cell_type": "code",
   "execution_count": 9,
   "metadata": {
    "collapsed": false
   },
   "outputs": [
    {
     "name": "stdout",
     "output_type": "stream",
     "text": [
      "4703\n",
      "14405\n"
     ]
    }
   ],
   "source": [
    "print (itiscache.find({\"$and\":[{\"originCollection\":\"gc2.sgcn\"},{\"itisData\":{\"$exists\":True}},{\"itisData.searchURL\":{\"$exists\":False}}]}).count())\n",
    "print (itiscache.find({\"$and\":[{\"originCollection\":\"gc2.sgcn\"},{\"itisData\":{\"$exists\":True}},{\"itisData.searchURL\":{\"$exists\":True}}]}).count())\n"
   ]
  },
  {
   "cell_type": "code",
   "execution_count": null,
   "metadata": {
    "collapsed": false
   },
   "outputs": [],
   "source": [
    "display (bisDB.command(\"dbstats\"))\n",
    "display (bisDB.command(\"collstats\", \"itiscache\"))\n"
   ]
  },
  {
   "cell_type": "code",
   "execution_count": null,
   "metadata": {
    "collapsed": true
   },
   "outputs": [],
   "source": [
    "for doc in itiscache.find{\"cleanscientificname\":}"
   ]
  }
 ],
 "metadata": {
  "kernelspec": {
   "display_name": "Python 3",
   "language": "python",
   "name": "python3"
  },
  "language_info": {
   "codemirror_mode": {
    "name": "ipython",
    "version": 3
   },
   "file_extension": ".py",
   "mimetype": "text/x-python",
   "name": "python",
   "nbconvert_exporter": "python",
   "pygments_lexer": "ipython3",
   "version": "3.5.3"
  }
 },
 "nbformat": 4,
 "nbformat_minor": 0
}
