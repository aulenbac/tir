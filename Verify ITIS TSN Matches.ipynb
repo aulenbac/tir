{
 "cells": [
  {
   "cell_type": "code",
   "execution_count": 1,
   "metadata": {
    "collapsed": true
   },
   "outputs": [],
   "source": [
    "import tirutils,requests,configparser\n",
    "from IPython.display import display\n",
    "\n",
    "config = configparser.RawConfigParser()\n",
    "config.read_file(open(r'../config/stuff.py'))\n",
    "gc2APIKey = config.get('apiKeys','apiKey_GC2_BCB').replace('\"','')\n",
    "apiBaseURL = \"https://gc2.mapcentia.com/api/v1/sql/bcb?key=\"+gc2APIKey"
   ]
  },
  {
   "cell_type": "code",
   "execution_count": 22,
   "metadata": {
    "collapsed": false
   },
   "outputs": [
    {
     "data": {
      "text/plain": [
       "{'properties': {'acceptedtsn': '895435',\n",
       "  'commonname_submitted': 'pink sand-verbena',\n",
       "  'discoveredtsn': '19575',\n",
       "  'itis_species_name': 'Abronia umbellata',\n",
       "  'scientificname_accepted': '',\n",
       "  'scientificname_submitted': 'Abronia umbellata ssp. breviflora',\n",
       "  'taxonomicauthorityid_accepted': ''},\n",
       " 'type': 'Feature'}"
      ]
     },
     "metadata": {},
     "output_type": "display_data"
    },
    {
     "data": {
      "text/plain": [
       "{'properties': {'acceptedtsn': None,\n",
       "  'commonname_submitted': 'beach wormwort',\n",
       "  'discoveredtsn': '183750',\n",
       "  'itis_species_name': 'Artemisia campestris',\n",
       "  'scientificname_accepted': '',\n",
       "  'scientificname_submitted': 'Artemisia campestris ssp. caudata',\n",
       "  'taxonomicauthorityid_accepted': ''},\n",
       " 'type': 'Feature'}"
      ]
     },
     "metadata": {},
     "output_type": "display_data"
    },
    {
     "data": {
      "text/plain": [
       "{'properties': {'acceptedtsn': '513366',\n",
       "  'commonname_submitted': 'Three-tongue spurge',\n",
       "  'discoveredtsn': '531341',\n",
       "  'itis_species_name': 'Euphorbia chaetocalyx',\n",
       "  'scientificname_accepted': 'Euphorbia chaetocalyx var. triligulata',\n",
       "  'scientificname_submitted': 'Chamaesyce chaetocalyx var. triligulata',\n",
       "  'taxonomicauthorityid_accepted': 'http://services.itis.gov/?q=tsn:535335'},\n",
       " 'type': 'Feature'}"
      ]
     },
     "metadata": {},
     "output_type": "display_data"
    },
    {
     "data": {
      "text/plain": [
       "{'properties': {'acceptedtsn': '28122',\n",
       "  'commonname_submitted': 'Big Bend spurge',\n",
       "  'discoveredtsn': '533397',\n",
       "  'itis_species_name': 'Euphorbia polycarpa',\n",
       "  'scientificname_accepted': 'Euphorbia simulans',\n",
       "  'scientificname_submitted': 'Chamaesyce polycarpa var. simulans',\n",
       "  'taxonomicauthorityid_accepted': 'http://services.itis.gov/?q=tsn:28137'},\n",
       " 'type': 'Feature'}"
      ]
     },
     "metadata": {},
     "output_type": "display_data"
    },
    {
     "data": {
      "text/plain": [
       "{'properties': {'acceptedtsn': None,\n",
       "  'commonname_submitted': 'Fireweed',\n",
       "  'discoveredtsn': '566020',\n",
       "  'itis_species_name': 'Chamerion angustifolium',\n",
       "  'scientificname_accepted': '',\n",
       "  'scientificname_submitted': 'Chamerion angustifolium ssp. circumvagum',\n",
       "  'taxonomicauthorityid_accepted': ''},\n",
       " 'type': 'Feature'}"
      ]
     },
     "metadata": {},
     "output_type": "display_data"
    },
    {
     "data": {
      "text/plain": [
       "{'properties': {'acceptedtsn': None,\n",
       "  'commonname_submitted': \"Reakirt's Blue\",\n",
       "  'discoveredtsn': '777919',\n",
       "  'itis_species_name': 'Echinargus isola',\n",
       "  'scientificname_accepted': '',\n",
       "  'scientificname_submitted': 'Echinargus (Hemiargus) isola',\n",
       "  'taxonomicauthorityid_accepted': ''},\n",
       " 'type': 'Feature'}"
      ]
     },
     "metadata": {},
     "output_type": "display_data"
    },
    {
     "data": {
      "text/plain": [
       "{'properties': {'acceptedtsn': '19814',\n",
       "  'commonname_submitted': \"Bailey's hedgehog cactus\",\n",
       "  'discoveredtsn': '913338',\n",
       "  'itis_species_name': 'Echinocereus reichenbachii',\n",
       "  'scientificname_accepted': '',\n",
       "  'scientificname_submitted': 'Echinocereus reichenbachii subsp. baileyi',\n",
       "  'taxonomicauthorityid_accepted': ''},\n",
       " 'type': 'Feature'}"
      ]
     },
     "metadata": {},
     "output_type": "display_data"
    },
    {
     "data": {
      "text/plain": [
       "{'properties': {'acceptedtsn': None,\n",
       "  'commonname_submitted': 'Awned Slender Wheatgrass',\n",
       "  'discoveredtsn': '524040',\n",
       "  'itis_species_name': 'Elymus trachycaulus',\n",
       "  'scientificname_accepted': '',\n",
       "  'scientificname_submitted': 'Elymus trachycaulus ssp. subsecundus',\n",
       "  'taxonomicauthorityid_accepted': ''},\n",
       " 'type': 'Feature'}"
      ]
     },
     "metadata": {},
     "output_type": "display_data"
    },
    {
     "data": {
      "text/plain": [
       "{'properties': {'acceptedtsn': '33200',\n",
       "  'commonname_submitted': 'Hedge Hyssop',\n",
       "  'discoveredtsn': '914133',\n",
       "  'itis_species_name': 'Gratiola viscidula',\n",
       "  'scientificname_accepted': '',\n",
       "  'scientificname_submitted': 'Gratiola viscidula ssp. viscidula',\n",
       "  'taxonomicauthorityid_accepted': ''},\n",
       " 'type': 'Feature'}"
      ]
     },
     "metadata": {},
     "output_type": "display_data"
    },
    {
     "data": {
      "text/plain": [
       "{'properties': {'acceptedtsn': None,\n",
       "  'commonname_submitted': \"Shinner's sunflower\",\n",
       "  'discoveredtsn': '36668',\n",
       "  'itis_species_name': 'Helianthus occidentalis',\n",
       "  'scientificname_accepted': '',\n",
       "  'scientificname_submitted': 'Helianthus occidentalis subsp. plantagineus',\n",
       "  'taxonomicauthorityid_accepted': ''},\n",
       " 'type': 'Feature'}"
      ]
     },
     "metadata": {},
     "output_type": "display_data"
    },
    {
     "data": {
      "text/plain": [
       "{'properties': {'acceptedtsn': None,\n",
       "  'commonname_submitted': \"MITCHELL'S SATYR\",\n",
       "  'discoveredtsn': '779506',\n",
       "  'itis_species_name': 'Neonympha mitchellii',\n",
       "  'scientificname_accepted': '',\n",
       "  'scientificname_submitted': 'NEONYMPHA MITCHELLI MITCHELLI',\n",
       "  'taxonomicauthorityid_accepted': ''},\n",
       " 'type': 'Feature'}"
      ]
     },
     "metadata": {},
     "output_type": "display_data"
    },
    {
     "data": {
      "text/plain": [
       "{'properties': {'acceptedtsn': None,\n",
       "  'commonname_submitted': 'Bull Kelp',\n",
       "  'discoveredtsn': '11277',\n",
       "  'itis_species_name': 'Nereocystis luetkeanus',\n",
       "  'scientificname_accepted': 'Nereocystis luetkeana',\n",
       "  'scientificname_submitted': 'Nereocystis luetkeana',\n",
       "  'taxonomicauthorityid_accepted': 'http://www.marinespecies.org/rest/AphiaRecordByAphiaID/240752'},\n",
       " 'type': 'Feature'}"
      ]
     },
     "metadata": {},
     "output_type": "display_data"
    },
    {
     "data": {
      "text/plain": [
       "{'properties': {'acceptedtsn': None,\n",
       "  'commonname_submitted': 'Shrubby Sundrops',\n",
       "  'discoveredtsn': '524358',\n",
       "  'itis_species_name': 'Oenothera fruticosa',\n",
       "  'scientificname_accepted': '',\n",
       "  'scientificname_submitted': 'Oenothera fruticosa ssp. glauca',\n",
       "  'taxonomicauthorityid_accepted': ''},\n",
       " 'type': 'Feature'}"
      ]
     },
     "metadata": {},
     "output_type": "display_data"
    },
    {
     "data": {
      "text/plain": [
       "{'properties': {'acceptedtsn': None,\n",
       "  'commonname_submitted': 'no common name',\n",
       "  'discoveredtsn': '659837',\n",
       "  'itis_species_name': 'Procaris hawaiiana',\n",
       "  'scientificname_accepted': 'Procaris hawaiana',\n",
       "  'scientificname_submitted': 'Procaris hawaiana',\n",
       "  'taxonomicauthorityid_accepted': 'http://www.marinespecies.org/rest/AphiaRecordByAphiaID/514157'},\n",
       " 'type': 'Feature'}"
      ]
     },
     "metadata": {},
     "output_type": "display_data"
    },
    {
     "data": {
      "text/plain": [
       "{'properties': {'acceptedtsn': None,\n",
       "  'commonname_submitted': 'Five-toothed Sea Cucumber, West Indian Sea Cucumber',\n",
       "  'discoveredtsn': '158339',\n",
       "  'itis_species_name': 'Actinopyga agassizi',\n",
       "  'scientificname_accepted': 'Actinopyga agassizii',\n",
       "  'scientificname_submitted': 'Actinopyga agassizii',\n",
       "  'taxonomicauthorityid_accepted': 'http://www.marinespecies.org/rest/AphiaRecordByAphiaID/241768'},\n",
       " 'type': 'Feature'}"
      ]
     },
     "metadata": {},
     "output_type": "display_data"
    },
    {
     "data": {
      "text/plain": [
       "{'properties': {'acceptedtsn': None,\n",
       "  'commonname_submitted': 'orange sheath tunicate',\n",
       "  'discoveredtsn': '159237',\n",
       "  'itis_species_name': 'Botrylloides diegense',\n",
       "  'scientificname_accepted': 'Botrylloides diegensis',\n",
       "  'scientificname_submitted': 'Botrylloides diegensis',\n",
       "  'taxonomicauthorityid_accepted': 'http://www.marinespecies.org/rest/AphiaRecordByAphiaID/252278'},\n",
       " 'type': 'Feature'}"
      ]
     },
     "metadata": {},
     "output_type": "display_data"
    },
    {
     "data": {
      "text/plain": [
       "{'properties': {'acceptedtsn': '834233',\n",
       "  'commonname_submitted': \"saltmarsh bird's-beak\",\n",
       "  'discoveredtsn': '33567',\n",
       "  'itis_species_name': 'Chloropyron maritimum',\n",
       "  'scientificname_accepted': '',\n",
       "  'scientificname_submitted': 'Cordylanthus maritimus ssp. palustris',\n",
       "  'taxonomicauthorityid_accepted': ''},\n",
       " 'type': 'Feature'}"
      ]
     },
     "metadata": {},
     "output_type": "display_data"
    },
    {
     "data": {
      "text/plain": [
       "{'properties': {'acceptedtsn': None,\n",
       "  'commonname_submitted': 'A Sea Biscuit',\n",
       "  'discoveredtsn': '157992',\n",
       "  'itis_species_name': 'Clypeaster lutkeni',\n",
       "  'scientificname_accepted': 'Clypeaster luetkeni',\n",
       "  'scientificname_submitted': 'Clypeaster luetkeni',\n",
       "  'taxonomicauthorityid_accepted': 'http://www.marinespecies.org/rest/AphiaRecordByAphiaID/422496'},\n",
       " 'type': 'Feature'}"
      ]
     },
     "metadata": {},
     "output_type": "display_data"
    },
    {
     "data": {
      "text/plain": [
       "{'properties': {'acceptedtsn': None,\n",
       "  'commonname_submitted': 'abbreviated cone, pu pu ala',\n",
       "  'discoveredtsn': '152860',\n",
       "  'itis_species_name': 'Janus abbreviatus',\n",
       "  'scientificname_accepted': 'Conus abbreviatus',\n",
       "  'scientificname_submitted': 'Conus abbreviatus',\n",
       "  'taxonomicauthorityid_accepted': 'http://www.marinespecies.org/rest/AphiaRecordByAphiaID/426286'},\n",
       " 'type': 'Feature'}"
      ]
     },
     "metadata": {},
     "output_type": "display_data"
    },
    {
     "data": {
      "text/plain": [
       "{'properties': {'acceptedtsn': None,\n",
       "  'commonname_submitted': 'Canebrake rattlesnake',\n",
       "  'discoveredtsn': '174306',\n",
       "  'itis_species_name': 'Crotalus horridus',\n",
       "  'scientificname_accepted': '',\n",
       "  'scientificname_submitted': 'Crotalus horridus (canebrake)',\n",
       "  'taxonomicauthorityid_accepted': ''},\n",
       " 'type': 'Feature'}"
      ]
     },
     "metadata": {},
     "output_type": "display_data"
    },
    {
     "data": {
      "text/plain": [
       "{'properties': {'acceptedtsn': None,\n",
       "  'commonname_submitted': 'Timber rattlesnake',\n",
       "  'discoveredtsn': '174306',\n",
       "  'itis_species_name': 'Crotalus horridus',\n",
       "  'scientificname_accepted': '',\n",
       "  'scientificname_submitted': 'Crotalus horridus (timber)',\n",
       "  'taxonomicauthorityid_accepted': ''},\n",
       " 'type': 'Feature'}"
      ]
     },
     "metadata": {},
     "output_type": "display_data"
    },
    {
     "data": {
      "text/plain": [
       "{'properties': {'acceptedtsn': None,\n",
       "  'commonname_submitted': 'Pillar Coral',\n",
       "  'discoveredtsn': '53428',\n",
       "  'itis_species_name': 'Dendrogyra cylindricus',\n",
       "  'scientificname_accepted': 'Dendrogyra cylindrus',\n",
       "  'scientificname_submitted': 'Dendrogyra cylindrus',\n",
       "  'taxonomicauthorityid_accepted': 'http://www.marinespecies.org/rest/AphiaRecordByAphiaID/418865'},\n",
       " 'type': 'Feature'}"
      ]
     },
     "metadata": {},
     "output_type": "display_data"
    },
    {
     "data": {
      "text/plain": [
       "{'properties': {'acceptedtsn': None,\n",
       "  'commonname_submitted': 'Pillar Coral',\n",
       "  'discoveredtsn': '53428',\n",
       "  'itis_species_name': 'Dendrogyra cylindricus',\n",
       "  'scientificname_accepted': 'Dendrogyra cylindrus',\n",
       "  'scientificname_submitted': 'Dendrogyra cylindrus',\n",
       "  'taxonomicauthorityid_accepted': 'http://www.marinespecies.org/rest/AphiaRecordByAphiaID/418865'},\n",
       " 'type': 'Feature'}"
      ]
     },
     "metadata": {},
     "output_type": "display_data"
    },
    {
     "data": {
      "text/plain": [
       "{'properties': {'acceptedtsn': None,\n",
       "  'commonname_submitted': 'Elliptical Star Coral, Pineapple Coral',\n",
       "  'discoveredtsn': '53420',\n",
       "  'itis_species_name': 'Dichocoenia stokesi',\n",
       "  'scientificname_accepted': 'Dichocoenia stokesii',\n",
       "  'scientificname_submitted': 'Dichocoenia stokesii',\n",
       "  'taxonomicauthorityid_accepted': 'http://www.marinespecies.org/rest/AphiaRecordByAphiaID/289807'},\n",
       " 'type': 'Feature'}"
      ]
     },
     "metadata": {},
     "output_type": "display_data"
    },
    {
     "data": {
      "text/plain": [
       "{'properties': {'acceptedtsn': None,\n",
       "  'commonname_submitted': 'Umbrella Mushroom, Umbrella Corallimorph',\n",
       "  'discoveredtsn': '719240',\n",
       "  'itis_species_name': 'Discosoma neglectum',\n",
       "  'scientificname_accepted': 'Discosoma neglecta',\n",
       "  'scientificname_submitted': 'Discosoma neglecta',\n",
       "  'taxonomicauthorityid_accepted': 'http://www.marinespecies.org/rest/AphiaRecordByAphiaID/289834'},\n",
       " 'type': 'Feature'}"
      ]
     },
     "metadata": {},
     "output_type": "display_data"
    },
    {
     "data": {
      "text/plain": [
       "{'properties': {'acceptedtsn': None,\n",
       "  'commonname_submitted': 'Orangethroat Darter',\n",
       "  'discoveredtsn': '168368',\n",
       "  'itis_species_name': 'Etheostoma spectabile',\n",
       "  'scientificname_accepted': '',\n",
       "  'scientificname_submitted': 'Etheostoma spectabile',\n",
       "  'taxonomicauthorityid_accepted': ''},\n",
       " 'type': 'Feature'}"
      ]
     },
     "metadata": {},
     "output_type": "display_data"
    },
    {
     "data": {
      "text/plain": [
       "{'properties': {'acceptedtsn': None,\n",
       "  'commonname_submitted': 'Plains orangethroat darter',\n",
       "  'discoveredtsn': '168368',\n",
       "  'itis_species_name': 'Etheostoma spectabile',\n",
       "  'scientificname_accepted': '',\n",
       "  'scientificname_submitted': 'Etheostoma spectabile',\n",
       "  'taxonomicauthorityid_accepted': ''},\n",
       " 'type': 'Feature'}"
      ]
     },
     "metadata": {},
     "output_type": "display_data"
    },
    {
     "data": {
      "text/plain": [
       "{'properties': {'acceptedtsn': None,\n",
       "  'commonname_submitted': 'Orangethroat Darter',\n",
       "  'discoveredtsn': '168368',\n",
       "  'itis_species_name': 'Etheostoma spectabile',\n",
       "  'scientificname_accepted': '',\n",
       "  'scientificname_submitted': 'Etheostoma spectabile',\n",
       "  'taxonomicauthorityid_accepted': ''},\n",
       " 'type': 'Feature'}"
      ]
     },
     "metadata": {},
     "output_type": "display_data"
    },
    {
     "data": {
      "text/plain": [
       "{'properties': {'acceptedtsn': None,\n",
       "  'commonname_submitted': 'orangethroat darter',\n",
       "  'discoveredtsn': '168368',\n",
       "  'itis_species_name': 'Etheostoma spectabile',\n",
       "  'scientificname_accepted': '',\n",
       "  'scientificname_submitted': 'Etheostoma spectabile',\n",
       "  'taxonomicauthorityid_accepted': ''},\n",
       " 'type': 'Feature'}"
      ]
     },
     "metadata": {},
     "output_type": "display_data"
    },
    {
     "data": {
      "text/plain": [
       "{'properties': {'acceptedtsn': None,\n",
       "  'commonname_submitted': 'Orangethroat Darter',\n",
       "  'discoveredtsn': '168368',\n",
       "  'itis_species_name': 'Etheostoma spectabile',\n",
       "  'scientificname_accepted': '',\n",
       "  'scientificname_submitted': 'Etheostoma spectabile',\n",
       "  'taxonomicauthorityid_accepted': ''},\n",
       " 'type': 'Feature'}"
      ]
     },
     "metadata": {},
     "output_type": "display_data"
    },
    {
     "data": {
      "text/plain": [
       "{'properties': {'acceptedtsn': None,\n",
       "  'commonname_submitted': 'Orangethroat darter',\n",
       "  'discoveredtsn': '168368',\n",
       "  'itis_species_name': 'Etheostoma spectabile',\n",
       "  'scientificname_accepted': '',\n",
       "  'scientificname_submitted': 'Etheostoma spectabile',\n",
       "  'taxonomicauthorityid_accepted': ''},\n",
       " 'type': 'Feature'}"
      ]
     },
     "metadata": {},
     "output_type": "display_data"
    },
    {
     "data": {
      "text/plain": [
       "{'properties': {'acceptedtsn': None,\n",
       "  'commonname_submitted': 'Tansy Mustard',\n",
       "  'discoveredtsn': '22827',\n",
       "  'itis_species_name': 'Descurainia pinnata',\n",
       "  'scientificname_accepted': '',\n",
       "  'scientificname_submitted': 'Descurainia pinnata ssp. pinnata',\n",
       "  'taxonomicauthorityid_accepted': ''},\n",
       " 'type': 'Feature'}"
      ]
     },
     "metadata": {},
     "output_type": "display_data"
    },
    {
     "data": {
      "text/plain": [
       "{'properties': {'acceptedtsn': '102123592485',\n",
       "  'commonname_submitted': 'Last Best Place Damselfly',\n",
       "  'discoveredtsn': '721990',\n",
       "  'itis_species_name': 'Enallagma carunculatum',\n",
       "  'scientificname_accepted': 'Enallagma carunculatum',\n",
       "  'scientificname_submitted': 'Enallagma optimolocus',\n",
       "  'taxonomicauthorityid_accepted': 'https://services.itis.gov/?q=tsn:102123'},\n",
       " 'type': 'Feature'}"
      ]
     },
     "metadata": {},
     "output_type": "display_data"
    },
    {
     "data": {
      "text/plain": [
       "{'properties': {'acceptedtsn': '19814',\n",
       "  'commonname_submitted': \"Fitch's hedgehog cactus\",\n",
       "  'discoveredtsn': '913354',\n",
       "  'itis_species_name': 'Echinocereus reichenbachii',\n",
       "  'scientificname_accepted': '',\n",
       "  'scientificname_submitted': 'Echinocereus reichenbachii subsp. fitchii',\n",
       "  'taxonomicauthorityid_accepted': ''},\n",
       " 'type': 'Feature'}"
      ]
     },
     "metadata": {},
     "output_type": "display_data"
    },
    {
     "data": {
      "text/plain": [
       "{'properties': {'acceptedtsn': None,\n",
       "  'commonname_submitted': 'Rough Star Coral',\n",
       "  'discoveredtsn': '53495',\n",
       "  'itis_species_name': 'Isophyllastrea rigida',\n",
       "  'scientificname_accepted': 'Isophyllastrea rigida',\n",
       "  'scientificname_submitted': 'Isophyllastraea rigida',\n",
       "  'taxonomicauthorityid_accepted': 'http://www.marinespecies.org/rest/AphiaRecordByAphiaID/292162'},\n",
       " 'type': 'Feature'}"
      ]
     },
     "metadata": {},
     "output_type": "display_data"
    },
    {
     "data": {
      "text/plain": [
       "{'properties': {'acceptedtsn': None,\n",
       "  'commonname_submitted': 'Rough Star Coral',\n",
       "  'discoveredtsn': '53495',\n",
       "  'itis_species_name': 'Isophyllastrea rigida',\n",
       "  'scientificname_accepted': 'Isophyllastrea rigida',\n",
       "  'scientificname_submitted': 'Isophyllastraea rigida',\n",
       "  'taxonomicauthorityid_accepted': 'http://www.marinespecies.org/rest/AphiaRecordByAphiaID/292162'},\n",
       " 'type': 'Feature'}"
      ]
     },
     "metadata": {},
     "output_type": "display_data"
    },
    {
     "data": {
      "text/plain": [
       "{'properties': {'acceptedtsn': None,\n",
       "  'commonname_submitted': 'Red Lovegrass',\n",
       "  'discoveredtsn': '524048',\n",
       "  'itis_species_name': 'Eragrostis secundiflora',\n",
       "  'scientificname_accepted': '',\n",
       "  'scientificname_submitted': 'Eragrostis secundiflora ssp. oxylepis',\n",
       "  'taxonomicauthorityid_accepted': ''},\n",
       " 'type': 'Feature'}"
      ]
     },
     "metadata": {},
     "output_type": "display_data"
    },
    {
     "data": {
      "text/plain": [
       "{'properties': {'acceptedtsn': None,\n",
       "  'commonname_submitted': 'Burrowing Heart Urchin',\n",
       "  'discoveredtsn': '158086',\n",
       "  'itis_species_name': 'Moira atropos',\n",
       "  'scientificname_accepted': 'Moira atropos',\n",
       "  'scientificname_submitted': 'Moira atropus',\n",
       "  'taxonomicauthorityid_accepted': 'http://www.marinespecies.org/rest/AphiaRecordByAphiaID/158067'},\n",
       " 'type': 'Feature'}"
      ]
     },
     "metadata": {},
     "output_type": "display_data"
    },
    {
     "data": {
      "text/plain": [
       "{'properties': {'acceptedtsn': None,\n",
       "  'commonname_submitted': 'Low-ridge Cactus Coral',\n",
       "  'discoveredtsn': '53480',\n",
       "  'itis_species_name': 'Mycetophyllia daniana',\n",
       "  'scientificname_accepted': 'Mycetophyllia danaana',\n",
       "  'scientificname_submitted': 'Mycetophyllia danaana',\n",
       "  'taxonomicauthorityid_accepted': 'http://www.marinespecies.org/rest/AphiaRecordByAphiaID/290425'},\n",
       " 'type': 'Feature'}"
      ]
     },
     "metadata": {},
     "output_type": "display_data"
    },
    {
     "data": {
      "text/plain": [
       "{'properties': {'acceptedtsn': None,\n",
       "  'commonname_submitted': 'Low-ridge Cactus Coral',\n",
       "  'discoveredtsn': '53480',\n",
       "  'itis_species_name': 'Mycetophyllia daniana',\n",
       "  'scientificname_accepted': 'Mycetophyllia danaana',\n",
       "  'scientificname_submitted': 'Mycetophyllia danaana',\n",
       "  'taxonomicauthorityid_accepted': 'http://www.marinespecies.org/rest/AphiaRecordByAphiaID/290425'},\n",
       " 'type': 'Feature'}"
      ]
     },
     "metadata": {},
     "output_type": "display_data"
    },
    {
     "data": {
      "text/plain": [
       "{'properties': {'acceptedtsn': None,\n",
       "  'commonname_submitted': 'Superb grasshopper',\n",
       "  'discoveredtsn': '658204',\n",
       "  'itis_species_name': 'Eximacris superbum',\n",
       "  'scientificname_accepted': '',\n",
       "  'scientificname_submitted': 'Eximacris (Spharoagemon) superbum',\n",
       "  'taxonomicauthorityid_accepted': ''},\n",
       " 'type': 'Feature'}"
      ]
     },
     "metadata": {},
     "output_type": "display_data"
    },
    {
     "data": {
      "text/plain": [
       "{'properties': {'acceptedtsn': None,\n",
       "  'commonname_submitted': 'no common name',\n",
       "  'discoveredtsn': '11190',\n",
       "  'itis_species_name': 'Padina thivyi',\n",
       "  'scientificname_accepted': 'Padina thivyae',\n",
       "  'scientificname_submitted': 'Padina thivyae',\n",
       "  'taxonomicauthorityid_accepted': 'http://www.marinespecies.org/rest/AphiaRecordByAphiaID/495308'},\n",
       " 'type': 'Feature'}"
      ]
     },
     "metadata": {},
     "output_type": "display_data"
    },
    {
     "data": {
      "text/plain": [
       "{'properties': {'acceptedtsn': None,\n",
       "  'commonname_submitted': 'No common name',\n",
       "  'discoveredtsn': '57506',\n",
       "  'itis_species_name': 'Paranemertes biocellata',\n",
       "  'scientificname_accepted': 'Kirsteueriella biocellata',\n",
       "  'scientificname_submitted': 'Paranemertes biocellatus',\n",
       "  'taxonomicauthorityid_accepted': 'http://www.marinespecies.org/rest/AphiaRecordByAphiaID/162257'},\n",
       " 'type': 'Feature'}"
      ]
     },
     "metadata": {},
     "output_type": "display_data"
    },
    {
     "data": {
      "text/plain": [
       "{'properties': {'acceptedtsn': None,\n",
       "  'commonname_submitted': 'Texas sunflower',\n",
       "  'discoveredtsn': '36675',\n",
       "  'itis_species_name': 'Helianthus praecox',\n",
       "  'scientificname_accepted': '',\n",
       "  'scientificname_submitted': 'Helianthus praecox subsp. praecox',\n",
       "  'taxonomicauthorityid_accepted': ''},\n",
       " 'type': 'Feature'}"
      ]
     },
     "metadata": {},
     "output_type": "display_data"
    },
    {
     "data": {
      "text/plain": [
       "{'properties': {'acceptedtsn': None,\n",
       "  'commonname_submitted': 'big-flowered wooly meadowfoam',\n",
       "  'discoveredtsn': '196070',\n",
       "  'itis_species_name': 'Limnanthes floccosa',\n",
       "  'scientificname_accepted': '',\n",
       "  'scientificname_submitted': 'Limnanthes floccosa ssp. grandiflora',\n",
       "  'taxonomicauthorityid_accepted': ''},\n",
       " 'type': 'Feature'}"
      ]
     },
     "metadata": {},
     "output_type": "display_data"
    },
    {
     "data": {
      "text/plain": [
       "{'properties': {'acceptedtsn': None,\n",
       "  'commonname_submitted': 'dwarf meadowfoam',\n",
       "  'discoveredtsn': '196071',\n",
       "  'itis_species_name': 'Limnanthes floccosa',\n",
       "  'scientificname_accepted': '',\n",
       "  'scientificname_submitted': 'Limnanthes floccosa ssp. pumila',\n",
       "  'taxonomicauthorityid_accepted': ''},\n",
       " 'type': 'Feature'}"
      ]
     },
     "metadata": {},
     "output_type": "display_data"
    },
    {
     "data": {
      "text/plain": [
       "{'properties': {'acceptedtsn': None,\n",
       "  'commonname_submitted': \"Beller's ground beetle\",\n",
       "  'discoveredtsn': '110256',\n",
       "  'itis_species_name': 'Agonum belleri',\n",
       "  'scientificname_accepted': '',\n",
       "  'scientificname_submitted': 'Agonum belleri (Hatch)',\n",
       "  'taxonomicauthorityid_accepted': ''},\n",
       " 'type': 'Feature'}"
      ]
     },
     "metadata": {},
     "output_type": "display_data"
    },
    {
     "data": {
      "text/plain": [
       "{'properties': {'acceptedtsn': None,\n",
       "  'commonname_submitted': 'Hairy Parsley',\n",
       "  'discoveredtsn': '29700',\n",
       "  'itis_species_name': 'Lomatium foeniculaceum',\n",
       "  'scientificname_accepted': '',\n",
       "  'scientificname_submitted': 'Lomatium foeniculaceum ssp. foeniculaceum',\n",
       "  'taxonomicauthorityid_accepted': ''},\n",
       " 'type': 'Feature'}"
      ]
     },
     "metadata": {},
     "output_type": "display_data"
    },
    {
     "data": {
      "text/plain": [
       "{'properties': {'acceptedtsn': None,\n",
       "  'commonname_submitted': 'Great hammerhead',\n",
       "  'discoveredtsn': '160515',\n",
       "  'itis_species_name': 'Sphyrna mokarran',\n",
       "  'scientificname_accepted': 'Sphyrna mokarran',\n",
       "  'scientificname_submitted': 'Sphyrna mokorran',\n",
       "  'taxonomicauthorityid_accepted': 'http://www.marinespecies.org/rest/AphiaRecordByAphiaID/105817'},\n",
       " 'type': 'Feature'}"
      ]
     },
     "metadata": {},
     "output_type": "display_data"
    },
    {
     "data": {
      "text/plain": [
       "{'properties': {'acceptedtsn': None,\n",
       "  'commonname_submitted': 'Great hammerhead shark',\n",
       "  'discoveredtsn': '160515',\n",
       "  'itis_species_name': 'Sphyrna mokarran',\n",
       "  'scientificname_accepted': 'Sphyrna mokarran',\n",
       "  'scientificname_submitted': 'Sphyrna mokorran',\n",
       "  'taxonomicauthorityid_accepted': 'http://www.marinespecies.org/rest/AphiaRecordByAphiaID/105817'},\n",
       " 'type': 'Feature'}"
      ]
     },
     "metadata": {},
     "output_type": "display_data"
    },
    {
     "data": {
      "text/plain": [
       "{'properties': {'acceptedtsn': '529000',\n",
       "  'commonname_submitted': \"Kincaid's lupine\",\n",
       "  'discoveredtsn': '526095',\n",
       "  'itis_species_name': 'Lupinus oreganus',\n",
       "  'scientificname_accepted': '',\n",
       "  'scientificname_submitted': 'Lupinus sulphureus ssp. Kincaidii',\n",
       "  'taxonomicauthorityid_accepted': ''},\n",
       " 'type': 'Feature'}"
      ]
     },
     "metadata": {},
     "output_type": "display_data"
    },
    {
     "data": {
      "text/plain": [
       "{'properties': {'acceptedtsn': None,\n",
       "  'commonname_submitted': 'Glassy lyonsia',\n",
       "  'discoveredtsn': '81926',\n",
       "  'itis_species_name': 'Lyonsia hyalina',\n",
       "  'scientificname_accepted': '',\n",
       "  'scientificname_submitted': 'Lyonsia (Entodesma) hyalina',\n",
       "  'taxonomicauthorityid_accepted': ''},\n",
       " 'type': 'Feature'}"
      ]
     },
     "metadata": {},
     "output_type": "display_data"
    },
    {
     "data": {
      "text/plain": [
       "{'properties': {'acceptedtsn': None,\n",
       "  'commonname_submitted': 'no common name',\n",
       "  'discoveredtsn': '761955',\n",
       "  'itis_species_name': 'Megachile parksi',\n",
       "  'scientificname_accepted': '',\n",
       "  'scientificname_submitted': 'Megachile (Megachiloides) parksi (Mitchell)',\n",
       "  'taxonomicauthorityid_accepted': ''},\n",
       " 'type': 'Feature'}"
      ]
     },
     "metadata": {},
     "output_type": "display_data"
    },
    {
     "data": {
      "text/plain": [
       "{'properties': {'acceptedtsn': None,\n",
       "  'commonname_submitted': 'Needle-Leaf Navarretia',\n",
       "  'discoveredtsn': '524326',\n",
       "  'itis_species_name': 'Navarretia intertexta',\n",
       "  'scientificname_accepted': '',\n",
       "  'scientificname_submitted': 'Navarretia intertexta ssp. propinqua',\n",
       "  'taxonomicauthorityid_accepted': ''},\n",
       " 'type': 'Feature'}"
      ]
     },
     "metadata": {},
     "output_type": "display_data"
    },
    {
     "data": {
      "text/plain": [
       "{'properties': {'acceptedtsn': '778039',\n",
       "  'commonname_submitted': 'Compton Tortoiseshell',\n",
       "  'discoveredtsn': '188593',\n",
       "  'itis_species_name': 'Nymphalis l-album',\n",
       "  'scientificname_accepted': '',\n",
       "  'scientificname_submitted': 'Nymphalis vaualbum (l-album)',\n",
       "  'taxonomicauthorityid_accepted': ''},\n",
       " 'type': 'Feature'}"
      ]
     },
     "metadata": {},
     "output_type": "display_data"
    },
    {
     "data": {
      "text/plain": [
       "{'properties': {'acceptedtsn': None,\n",
       "  'commonname_submitted': \"Fremont's Evening-Primrose\",\n",
       "  'discoveredtsn': '524361',\n",
       "  'itis_species_name': 'Oenothera macrocarpa',\n",
       "  'scientificname_accepted': '',\n",
       "  'scientificname_submitted': 'Oenothera macrocarpa ssp. fremontii',\n",
       "  'taxonomicauthorityid_accepted': ''},\n",
       " 'type': 'Feature'}"
      ]
     },
     "metadata": {},
     "output_type": "display_data"
    },
    {
     "data": {
      "text/plain": [
       "{'properties': {'acceptedtsn': None,\n",
       "  'commonname_submitted': 'HARDIN CRAYFISH',\n",
       "  'discoveredtsn': '97489',\n",
       "  'itis_species_name': 'Orconectes wrighti',\n",
       "  'scientificname_accepted': '',\n",
       "  'scientificname_submitted': 'ORCONECTES WRIGHTII',\n",
       "  'taxonomicauthorityid_accepted': ''},\n",
       " 'type': 'Feature'}"
      ]
     },
     "metadata": {},
     "output_type": "display_data"
    },
    {
     "data": {
      "text/plain": [
       "{'properties': {'acceptedtsn': None,\n",
       "  'commonname_submitted': 'bentgrass',\n",
       "  'discoveredtsn': '523717',\n",
       "  'itis_species_name': 'Calamagrostis stricta',\n",
       "  'scientificname_accepted': '',\n",
       "  'scientificname_submitted': 'Calamagrostis stricta ssp. inexpansa',\n",
       "  'taxonomicauthorityid_accepted': ''},\n",
       " 'type': 'Feature'}"
      ]
     },
     "metadata": {},
     "output_type": "display_data"
    },
    {
     "data": {
      "text/plain": [
       "{'properties': {'acceptedtsn': None,\n",
       "  'commonname_submitted': 'Northern Reedgrass',\n",
       "  'discoveredtsn': '523717',\n",
       "  'itis_species_name': 'Calamagrostis stricta',\n",
       "  'scientificname_accepted': '',\n",
       "  'scientificname_submitted': 'Calamagrostis stricta ssp. inexpansa',\n",
       "  'taxonomicauthorityid_accepted': ''},\n",
       " 'type': 'Feature'}"
      ]
     },
     "metadata": {},
     "output_type": "display_data"
    },
    {
     "data": {
      "text/plain": [
       "{'properties': {'acceptedtsn': None,\n",
       "  'commonname_submitted': 'Goliath Grouper',\n",
       "  'discoveredtsn': '167695',\n",
       "  'itis_species_name': 'Epinephelus itajara',\n",
       "  'scientificname_accepted': 'Epinephelus itajara',\n",
       "  'scientificname_submitted': 'Epinephalus itajara',\n",
       "  'taxonomicauthorityid_accepted': 'http://www.marinespecies.org/rest/AphiaRecordByAphiaID/159353'},\n",
       " 'type': 'Feature'}"
      ]
     },
     "metadata": {},
     "output_type": "display_data"
    },
    {
     "data": {
      "text/plain": [
       "{'properties': {'acceptedtsn': None,\n",
       "  'commonname_submitted': 'Goliath grouper (jewfish)',\n",
       "  'discoveredtsn': '167695',\n",
       "  'itis_species_name': 'Epinephelus itajara',\n",
       "  'scientificname_accepted': 'Epinephelus itajara',\n",
       "  'scientificname_submitted': 'Epinephalus itajara',\n",
       "  'taxonomicauthorityid_accepted': 'http://www.marinespecies.org/rest/AphiaRecordByAphiaID/159353'},\n",
       " 'type': 'Feature'}"
      ]
     },
     "metadata": {},
     "output_type": "display_data"
    },
    {
     "data": {
      "text/plain": [
       "{'properties': {'acceptedtsn': None,\n",
       "  'commonname_submitted': 'Goliath grouper',\n",
       "  'discoveredtsn': '167695',\n",
       "  'itis_species_name': 'Epinephelus itajara',\n",
       "  'scientificname_accepted': 'Epinephelus itajara',\n",
       "  'scientificname_submitted': 'Epinephalus itajara',\n",
       "  'taxonomicauthorityid_accepted': 'http://www.marinespecies.org/rest/AphiaRecordByAphiaID/159353'},\n",
       " 'type': 'Feature'}"
      ]
     },
     "metadata": {},
     "output_type": "display_data"
    },
    {
     "data": {
      "text/plain": [
       "{'properties': {'acceptedtsn': None,\n",
       "  'commonname_submitted': 'Northern Redbelly Snake',\n",
       "  'discoveredtsn': '174131',\n",
       "  'itis_species_name': 'Storeria occipitomaculata',\n",
       "  'scientificname_accepted': 'Storeria occipitomaculata occipitomaculata',\n",
       "  'scientificname_submitted': 'Storeria o.occipitomaculata',\n",
       "  'taxonomicauthorityid_accepted': 'http://services.itis.gov/?q=tsn:174132'},\n",
       " 'type': 'Feature'}"
      ]
     },
     "metadata": {},
     "output_type": "display_data"
    },
    {
     "data": {
      "text/plain": [
       "{'properties': {'acceptedtsn': None,\n",
       "  'commonname_submitted': \"Howe's sedge\",\n",
       "  'discoveredtsn': '523748',\n",
       "  'itis_species_name': 'Carex atlantica',\n",
       "  'scientificname_accepted': '',\n",
       "  'scientificname_submitted': 'Carex atlantica ssp. capillacea',\n",
       "  'taxonomicauthorityid_accepted': ''},\n",
       " 'type': 'Feature'}"
      ]
     },
     "metadata": {},
     "output_type": "display_data"
    },
    {
     "data": {
      "text/plain": [
       "{'properties': {'acceptedtsn': None,\n",
       "  'commonname_submitted': 'Bayonet Grass',\n",
       "  'discoveredtsn': '525319',\n",
       "  'itis_species_name': 'Bolboschoenus maritimus',\n",
       "  'scientificname_accepted': '',\n",
       "  'scientificname_submitted': 'Bolboschoenus maritimus ssp. paludosus',\n",
       "  'taxonomicauthorityid_accepted': ''},\n",
       " 'type': 'Feature'}"
      ]
     },
     "metadata": {},
     "output_type": "display_data"
    },
    {
     "data": {
      "text/plain": [
       "{'properties': {'acceptedtsn': '28154',\n",
       "  'commonname_submitted': 'akoko',\n",
       "  'discoveredtsn': '195972',\n",
       "  'itis_species_name': 'Euphorbia celastroides',\n",
       "  'scientificname_accepted': 'Euphorbia celastroides var. kaenana',\n",
       "  'scientificname_submitted': 'Chamaesyce celastroides var. kaenana',\n",
       "  'taxonomicauthorityid_accepted': 'http://services.itis.gov/?q=tsn:535318'},\n",
       " 'type': 'Feature'}"
      ]
     },
     "metadata": {},
     "output_type": "display_data"
    },
    {
     "data": {
      "text/plain": [
       "{'properties': {'acceptedtsn': None,\n",
       "  'commonname_submitted': 'A Sedge',\n",
       "  'discoveredtsn': '808533',\n",
       "  'itis_species_name': 'Carex bromoides',\n",
       "  'scientificname_accepted': '',\n",
       "  'scientificname_submitted': 'Carex bromoides ssp. bromoides',\n",
       "  'taxonomicauthorityid_accepted': ''},\n",
       " 'type': 'Feature'}"
      ]
     },
     "metadata": {},
     "output_type": "display_data"
    },
    {
     "data": {
      "text/plain": [
       "{'properties': {'acceptedtsn': None,\n",
       "  'commonname_submitted': 'no common name',\n",
       "  'discoveredtsn': '502758',\n",
       "  'itis_species_name': 'Geranium hanaense',\n",
       "  'scientificname_accepted': 'Ceramium nakamurae',\n",
       "  'scientificname_submitted': 'Ceramium hanaense',\n",
       "  'taxonomicauthorityid_accepted': 'http://www.marinespecies.org/rest/AphiaRecordByAphiaID/372352'},\n",
       " 'type': 'Feature'}"
      ]
     },
     "metadata": {},
     "output_type": "display_data"
    },
    {
     "data": {
      "text/plain": [
       "{'properties': {'acceptedtsn': None,\n",
       "  'commonname_submitted': 'No common name',\n",
       "  'discoveredtsn': '876669',\n",
       "  'itis_species_name': 'Clubiona robusta',\n",
       "  'scientificname_accepted': 'Pione robusta',\n",
       "  'scientificname_submitted': 'Cliona robusta',\n",
       "  'taxonomicauthorityid_accepted': 'http://www.marinespecies.org/rest/AphiaRecordByAphiaID/255172'},\n",
       " 'type': 'Feature'}"
      ]
     },
     "metadata": {},
     "output_type": "display_data"
    },
    {
     "data": {
      "text/plain": [
       "{'properties': {'acceptedtsn': None,\n",
       "  'commonname_submitted': 'COMMON GROUND-DOVE',\n",
       "  'discoveredtsn': '177152',\n",
       "  'itis_species_name': 'Columbina passerina',\n",
       "  'scientificname_accepted': '',\n",
       "  'scientificname_submitted': 'COLUMBIA PASSERINA',\n",
       "  'taxonomicauthorityid_accepted': ''},\n",
       " 'type': 'Feature'}"
      ]
     },
     "metadata": {},
     "output_type": "display_data"
    },
    {
     "data": {
      "text/plain": [
       "{'properties': {'acceptedtsn': '523906',\n",
       "  'commonname_submitted': 'Curve-Pod Fumewort',\n",
       "  'discoveredtsn': '525523',\n",
       "  'itis_species_name': 'Corydalis aurea',\n",
       "  'scientificname_accepted': '',\n",
       "  'scientificname_submitted': 'Corydalis curvisiliqua ssp. occidentalis',\n",
       "  'taxonomicauthorityid_accepted': ''},\n",
       " 'type': 'Feature'}"
      ]
     },
     "metadata": {},
     "output_type": "display_data"
    },
    {
     "data": {
      "text/plain": [
       "{'properties': {'acceptedtsn': None,\n",
       "  'commonname_submitted': 'Loggerhead Sponge',\n",
       "  'discoveredtsn': '48462',\n",
       "  'itis_species_name': 'Spheciospongia vesparium',\n",
       "  'scientificname_accepted': 'Spheciospongia vesparium',\n",
       "  'scientificname_submitted': 'Spheciospongia vesparia',\n",
       "  'taxonomicauthorityid_accepted': 'http://www.marinespecies.org/rest/AphiaRecordByAphiaID/170566'},\n",
       " 'type': 'Feature'}"
      ]
     },
     "metadata": {},
     "output_type": "display_data"
    },
    {
     "data": {
      "text/plain": [
       "{'properties': {'acceptedtsn': None,\n",
       "  'commonname_submitted': 'A Sedge',\n",
       "  'discoveredtsn': '523747',\n",
       "  'itis_species_name': 'Carex atlantica',\n",
       "  'scientificname_accepted': '',\n",
       "  'scientificname_submitted': 'Carex atlantica ssp. atlantica',\n",
       "  'taxonomicauthorityid_accepted': ''},\n",
       " 'type': 'Feature'}"
      ]
     },
     "metadata": {},
     "output_type": "display_data"
    },
    {
     "data": {
      "text/plain": [
       "{'properties': {'acceptedtsn': '836085',\n",
       "  'commonname_submitted': 'Colorado Butterfly Plant',\n",
       "  'discoveredtsn': '27659',\n",
       "  'itis_species_name': 'Oenothera coloradensis',\n",
       "  'scientificname_accepted': '',\n",
       "  'scientificname_submitted': 'Gaura neomexicana ssp coloradensis',\n",
       "  'taxonomicauthorityid_accepted': ''},\n",
       " 'type': 'Feature'}"
      ]
     },
     "metadata": {},
     "output_type": "display_data"
    },
    {
     "data": {
      "text/plain": [
       "{'properties': {'acceptedtsn': '845106',\n",
       "  'commonname_submitted': \"Catesby's Bindweed\",\n",
       "  'discoveredtsn': '30662',\n",
       "  'itis_species_name': 'Calystegia catesbeiana',\n",
       "  'scientificname_accepted': '',\n",
       "  'scientificname_submitted': 'Calystegia catesbiana ssp. catesbiana',\n",
       "  'taxonomicauthorityid_accepted': ''},\n",
       " 'type': 'Feature'}"
      ]
     },
     "metadata": {},
     "output_type": "display_data"
    },
    {
     "data": {
      "text/plain": [
       "{'properties': {'acceptedtsn': None,\n",
       "  'commonname_submitted': 'no common name',\n",
       "  'discoveredtsn': '12582',\n",
       "  'itis_species_name': 'Grateloupia hawaiian',\n",
       "  'scientificname_accepted': 'Grateloupia hawaiiana',\n",
       "  'scientificname_submitted': 'Grateloupia hawaiiana',\n",
       "  'taxonomicauthorityid_accepted': 'http://www.marinespecies.org/rest/AphiaRecordByAphiaID/374563'},\n",
       " 'type': 'Feature'}"
      ]
     },
     "metadata": {},
     "output_type": "display_data"
    },
    {
     "data": {
      "text/plain": [
       "{'properties': {'acceptedtsn': None,\n",
       "  'commonname_submitted': 'Slender Spike Grass',\n",
       "  'discoveredtsn': '797322',\n",
       "  'itis_species_name': 'Chasmanthium laxum',\n",
       "  'scientificname_accepted': '',\n",
       "  'scientificname_submitted': 'Chasmanthium laxum ssp. laxum',\n",
       "  'taxonomicauthorityid_accepted': ''},\n",
       " 'type': 'Feature'}"
      ]
     },
     "metadata": {},
     "output_type": "display_data"
    },
    {
     "data": {
      "text/plain": [
       "{'properties': {'acceptedtsn': None,\n",
       "  'commonname_submitted': 'A Spike Grass',\n",
       "  'discoveredtsn': '525445',\n",
       "  'itis_species_name': 'Chasmanthium laxum',\n",
       "  'scientificname_accepted': '',\n",
       "  'scientificname_submitted': 'Chasmanthium laxum ssp. sessiliflorum',\n",
       "  'taxonomicauthorityid_accepted': ''},\n",
       " 'type': 'Feature'}"
      ]
     },
     "metadata": {},
     "output_type": "display_data"
    },
    {
     "data": {
      "text/plain": [
       "{'properties': {'acceptedtsn': None,\n",
       "  'commonname_submitted': \"SWAINSON'S WARBLER\",\n",
       "  'discoveredtsn': '178848',\n",
       "  'itis_species_name': 'Limnothlypis swainsonii',\n",
       "  'scientificname_accepted': '',\n",
       "  'scientificname_submitted': 'LIMOTHLYPIS SWAINSONII',\n",
       "  'taxonomicauthorityid_accepted': ''},\n",
       " 'type': 'Feature'}"
      ]
     },
     "metadata": {},
     "output_type": "display_data"
    },
    {
     "data": {
      "text/plain": [
       "{'properties': {'acceptedtsn': None,\n",
       "  'commonname_submitted': \"Wright's fishhook cactus\",\n",
       "  'discoveredtsn': '912721',\n",
       "  'itis_species_name': 'Mammillaria wrightii',\n",
       "  'scientificname_accepted': '',\n",
       "  'scientificname_submitted': 'Mammillaria wrightii subsp. Wrightii',\n",
       "  'taxonomicauthorityid_accepted': ''},\n",
       " 'type': 'Feature'}"
      ]
     },
     "metadata": {},
     "output_type": "display_data"
    },
    {
     "data": {
      "text/plain": [
       "{'properties': {'acceptedtsn': None,\n",
       "  'commonname_submitted': 'No common name',\n",
       "  'discoveredtsn': '155830',\n",
       "  'itis_species_name': 'Membranipora aborescens',\n",
       "  'scientificname_accepted': 'Biflustra arborescens',\n",
       "  'scientificname_submitted': 'Membranipora arborescens',\n",
       "  'taxonomicauthorityid_accepted': 'http://www.marinespecies.org/rest/AphiaRecordByAphiaID/240920'},\n",
       " 'type': 'Feature'}"
      ]
     },
     "metadata": {},
     "output_type": "display_data"
    },
    {
     "data": {
      "text/plain": [
       "{'properties': {'acceptedtsn': None,\n",
       "  'commonname_submitted': 'long-legged myotis',\n",
       "  'discoveredtsn': '179990',\n",
       "  'itis_species_name': 'Myotis volans',\n",
       "  'scientificname_accepted': 'Myotis volans longicrus',\n",
       "  'scientificname_submitted': 'Myotis volans (longicrus)',\n",
       "  'taxonomicauthorityid_accepted': 'http://services.itis.gov/?q=tsn:948630'},\n",
       " 'type': 'Feature'}"
      ]
     },
     "metadata": {},
     "output_type": "display_data"
    },
    {
     "data": {
      "text/plain": [
       "{'properties': {'acceptedtsn': None,\n",
       "  'commonname_submitted': 'Black Tern',\n",
       "  'discoveredtsn': '176959',\n",
       "  'itis_species_name': 'Chlidonias niger',\n",
       "  'scientificname_accepted': '',\n",
       "  'scientificname_submitted': 'Chlidonias niger (surinamensis)',\n",
       "  'taxonomicauthorityid_accepted': ''},\n",
       " 'type': 'Feature'}"
      ]
     },
     "metadata": {},
     "output_type": "display_data"
    },
    {
     "data": {
      "text/plain": [
       "{'properties': {'acceptedtsn': None,\n",
       "  'commonname_submitted': 'Screwstem',\n",
       "  'discoveredtsn': '30021',\n",
       "  'itis_species_name': 'Bartonia paniculata',\n",
       "  'scientificname_accepted': '',\n",
       "  'scientificname_submitted': 'Bartonia paniculata ssp. paniculata',\n",
       "  'taxonomicauthorityid_accepted': ''},\n",
       " 'type': 'Feature'}"
      ]
     },
     "metadata": {},
     "output_type": "display_data"
    },
    {
     "data": {
      "text/plain": [
       "{'properties': {'acceptedtsn': None,\n",
       "  'commonname_submitted': 'no common name',\n",
       "  'discoveredtsn': '659963',\n",
       "  'itis_species_name': 'Calliasmata pholidata',\n",
       "  'scientificname_accepted': 'Calliasmata pholidota',\n",
       "  'scientificname_submitted': 'Calliasmata pholidota',\n",
       "  'taxonomicauthorityid_accepted': 'http://www.marinespecies.org/rest/AphiaRecordByAphiaID/515220'},\n",
       " 'type': 'Feature'}"
      ]
     },
     "metadata": {},
     "output_type": "display_data"
    },
    {
     "data": {
      "text/plain": [
       "{'properties': {'acceptedtsn': None,\n",
       "  'commonname_submitted': 'A Corydalis',\n",
       "  'discoveredtsn': '523914',\n",
       "  'itis_species_name': 'Corydalis micrantha',\n",
       "  'scientificname_accepted': '',\n",
       "  'scientificname_submitted': 'Corydalis micrantha ssp. australis',\n",
       "  'taxonomicauthorityid_accepted': ''},\n",
       " 'type': 'Feature'}"
      ]
     },
     "metadata": {},
     "output_type": "display_data"
    },
    {
     "data": {
      "text/plain": [
       "{'properties': {'acceptedtsn': '912918',\n",
       "  'commonname_submitted': \"Scheer's cory cactus\",\n",
       "  'discoveredtsn': '913397',\n",
       "  'itis_species_name': 'Coryphantha robustispina',\n",
       "  'scientificname_accepted': '',\n",
       "  'scientificname_submitted': 'Coryphantha robustispina subsp. Uncinata',\n",
       "  'taxonomicauthorityid_accepted': ''},\n",
       " 'type': 'Feature'}"
      ]
     },
     "metadata": {},
     "output_type": "display_data"
    },
    {
     "data": {
      "text/plain": [
       "{'properties': {'acceptedtsn': None,\n",
       "  'commonname_submitted': 'SNOWY EGRET',\n",
       "  'discoveredtsn': '174813',\n",
       "  'itis_species_name': 'Egretta thula',\n",
       "  'scientificname_accepted': '',\n",
       "  'scientificname_submitted': 'EGETTA THULA',\n",
       "  'taxonomicauthorityid_accepted': ''},\n",
       " 'type': 'Feature'}"
      ]
     },
     "metadata": {},
     "output_type": "display_data"
    },
    {
     "data": {
      "text/plain": [
       "{'properties': {'acceptedtsn': None,\n",
       "  'commonname_submitted': 'Western pond turtle',\n",
       "  'discoveredtsn': '668668',\n",
       "  'itis_species_name': 'Actinemys marmorata',\n",
       "  'scientificname_accepted': '',\n",
       "  'scientificname_submitted': 'Actinemys (Clemmys) marmorata',\n",
       "  'taxonomicauthorityid_accepted': ''},\n",
       " 'type': 'Feature'}"
      ]
     },
     "metadata": {},
     "output_type": "display_data"
    },
    {
     "data": {
      "text/plain": [
       "{'properties': {'acceptedtsn': None,\n",
       "  'commonname_submitted': 'no common name',\n",
       "  'discoveredtsn': '762806',\n",
       "  'itis_species_name': 'Anthophora affinis',\n",
       "  'scientificname_accepted': 'Pithophora roettleri',\n",
       "  'scientificname_submitted': 'Pithophora affinis',\n",
       "  'taxonomicauthorityid_accepted': 'http://www.marinespecies.org/rest/AphiaRecordByAphiaID/623257'},\n",
       " 'type': 'Feature'}"
      ]
     },
     "metadata": {},
     "output_type": "display_data"
    },
    {
     "data": {
      "text/plain": [
       "{'properties': {'acceptedtsn': None,\n",
       "  'commonname_submitted': 'GULF STURGEON',\n",
       "  'discoveredtsn': '624005',\n",
       "  'itis_species_name': 'Acipenser oxyrinchus',\n",
       "  'scientificname_accepted': '',\n",
       "  'scientificname_submitted': 'ACIPENSER OXRINCHUS DESOTOI',\n",
       "  'taxonomicauthorityid_accepted': ''},\n",
       " 'type': 'Feature'}"
      ]
     },
     "metadata": {},
     "output_type": "display_data"
    },
    {
     "data": {
      "text/plain": [
       "{'properties': {'acceptedtsn': None,\n",
       "  'commonname_submitted': 'irregular rice coral',\n",
       "  'discoveredtsn': '52968',\n",
       "  'itis_species_name': 'Montipora digitata',\n",
       "  'scientificname_accepted': 'Montipora dilatata',\n",
       "  'scientificname_submitted': 'Montipora dilatata',\n",
       "  'taxonomicauthorityid_accepted': 'http://www.marinespecies.org/rest/AphiaRecordByAphiaID/411235'},\n",
       " 'type': 'Feature'}"
      ]
     },
     "metadata": {},
     "output_type": "display_data"
    },
    {
     "data": {
      "text/plain": [
       "{'properties': {'acceptedtsn': None,\n",
       "  'commonname_submitted': 'polished nerite, kupee',\n",
       "  'discoveredtsn': '716296',\n",
       "  'itis_species_name': 'Perdita polita',\n",
       "  'scientificname_accepted': 'Nerita polita',\n",
       "  'scientificname_submitted': 'Nerita polita',\n",
       "  'taxonomicauthorityid_accepted': 'http://www.marinespecies.org/rest/AphiaRecordByAphiaID/600671'},\n",
       " 'type': 'Feature'}"
      ]
     },
     "metadata": {},
     "output_type": "display_data"
    },
    {
     "data": {
      "text/plain": [
       "{'properties': {'acceptedtsn': '939595',\n",
       "  'commonname_submitted': 'Northern brocade moth',\n",
       "  'discoveredtsn': '117433',\n",
       "  'itis_species_name': 'Neoligia exhausta',\n",
       "  'scientificname_accepted': 'Neoligia semicana',\n",
       "  'scientificname_submitted': 'Oligia hausta',\n",
       "  'taxonomicauthorityid_accepted': 'http://services.itis.gov/?q=tsn:939603'},\n",
       " 'type': 'Feature'}"
      ]
     },
     "metadata": {},
     "output_type": "display_data"
    },
    {
     "data": {
      "text/plain": [
       "{'properties': {'acceptedtsn': None,\n",
       "  'commonname_submitted': 'KENTUCKY WARBLER',\n",
       "  'discoveredtsn': '950025',\n",
       "  'itis_species_name': 'Geothlypis formosa',\n",
       "  'scientificname_accepted': '',\n",
       "  'scientificname_submitted': 'GEOTHLYPIS FORMOSUS',\n",
       "  'taxonomicauthorityid_accepted': ''},\n",
       " 'type': 'Feature'}"
      ]
     },
     "metadata": {},
     "output_type": "display_data"
    },
    {
     "data": {
      "text/plain": [
       "{'properties': {'acceptedtsn': None,\n",
       "  'commonname_submitted': 'Brown Pelican',\n",
       "  'discoveredtsn': '174685',\n",
       "  'itis_species_name': 'Pelecanus occidentalis',\n",
       "  'scientificname_accepted': 'Pelecanus occidentalis carolinensis',\n",
       "  'scientificname_submitted': 'Pelicanus occidentalis',\n",
       "  'taxonomicauthorityid_accepted': 'http://services.itis.gov/?q=tsn:174687'},\n",
       " 'type': 'Feature'}"
      ]
     },
     "metadata": {},
     "output_type": "display_data"
    },
    {
     "data": {
      "text/plain": [
       "{'properties': {'acceptedtsn': None,\n",
       "  'commonname_submitted': 'Dimmit sunflower',\n",
       "  'discoveredtsn': '36676',\n",
       "  'itis_species_name': 'Helianthus praecox',\n",
       "  'scientificname_accepted': '',\n",
       "  'scientificname_submitted': 'Helianthus praecox subsp. hirtus',\n",
       "  'taxonomicauthorityid_accepted': ''},\n",
       " 'type': 'Feature'}"
      ]
     },
     "metadata": {},
     "output_type": "display_data"
    },
    {
     "data": {
      "text/plain": [
       "{'properties': {'acceptedtsn': None,\n",
       "  'commonname_submitted': 'brush mouse',\n",
       "  'discoveredtsn': '180282',\n",
       "  'itis_species_name': 'Peromyscus boylii',\n",
       "  'scientificname_accepted': 'Peromyscus attwateri',\n",
       "  'scientificname_submitted': 'Peromyscus boylei',\n",
       "  'taxonomicauthorityid_accepted': 'http://services.itis.gov/?q=tsn:180281'},\n",
       " 'type': 'Feature'}"
      ]
     },
     "metadata": {},
     "output_type": "display_data"
    },
    {
     "data": {
      "text/plain": [
       "{'properties': {'acceptedtsn': None,\n",
       "  'commonname_submitted': \"Great St. John's-wort\",\n",
       "  'discoveredtsn': '822460',\n",
       "  'itis_species_name': 'Hypericum ascyron',\n",
       "  'scientificname_accepted': '',\n",
       "  'scientificname_submitted': 'Hypericum ascyron ssp. pyramidatum',\n",
       "  'taxonomicauthorityid_accepted': ''},\n",
       " 'type': 'Feature'}"
      ]
     },
     "metadata": {},
     "output_type": "display_data"
    },
    {
     "data": {
      "text/plain": [
       "{'properties': {'acceptedtsn': None,\n",
       "  'commonname_submitted': 'Black-foot Quillwort',\n",
       "  'discoveredtsn': '897903',\n",
       "  'itis_species_name': 'Isoetes melanopoda',\n",
       "  'scientificname_accepted': '',\n",
       "  'scientificname_submitted': 'Isoetes melanopoda ssp. malanopoda',\n",
       "  'taxonomicauthorityid_accepted': ''},\n",
       " 'type': 'Feature'}"
      ]
     },
     "metadata": {},
     "output_type": "display_data"
    },
    {
     "data": {
      "text/plain": [
       "{'properties': {'acceptedtsn': None,\n",
       "  'commonname_submitted': 'Round Whitefish',\n",
       "  'discoveredtsn': '162008',\n",
       "  'itis_species_name': 'Prosopium cylindraceum',\n",
       "  'scientificname_accepted': 'Prosopium cylindraceum',\n",
       "  'scientificname_submitted': 'Prosopium cylindraceus',\n",
       "  'taxonomicauthorityid_accepted': 'http://www.marinespecies.org/rest/AphiaRecordByAphiaID/282373'},\n",
       " 'type': 'Feature'}"
      ]
     },
     "metadata": {},
     "output_type": "display_data"
    },
    {
     "data": {
      "text/plain": [
       "{'properties': {'acceptedtsn': '780457',\n",
       "  'commonname_submitted': 'Blue Lettuce',\n",
       "  'discoveredtsn': '526007',\n",
       "  'itis_species_name': 'Mulgedium oblongifolium',\n",
       "  'scientificname_accepted': '',\n",
       "  'scientificname_submitted': 'Lactuca tatarica ssp. pulchella',\n",
       "  'taxonomicauthorityid_accepted': ''},\n",
       " 'type': 'Feature'}"
      ]
     },
     "metadata": {},
     "output_type": "display_data"
    },
    {
     "data": {
      "text/plain": [
       "{'properties': {'acceptedtsn': None,\n",
       "  'commonname_submitted': 'FATMUCKET',\n",
       "  'discoveredtsn': '80028',\n",
       "  'itis_species_name': 'Lampsilis siliquoidea',\n",
       "  'scientificname_accepted': '',\n",
       "  'scientificname_submitted': 'LAMPSILIS  SILIQUOIDEA',\n",
       "  'taxonomicauthorityid_accepted': ''},\n",
       " 'type': 'Feature'}"
      ]
     },
     "metadata": {},
     "output_type": "display_data"
    },
    {
     "data": {
      "text/plain": [
       "{'properties': {'acceptedtsn': None,\n",
       "  'commonname_submitted': 'ALABAMA HEELSPLITTER',\n",
       "  'discoveredtsn': '983684',\n",
       "  'itis_species_name': 'Lasmigona alabamensis',\n",
       "  'scientificname_accepted': '',\n",
       "  'scientificname_submitted': 'LASMIGONIA ALABAMENSIS',\n",
       "  'taxonomicauthorityid_accepted': ''},\n",
       " 'type': 'Feature'}"
      ]
     },
     "metadata": {},
     "output_type": "display_data"
    },
    {
     "data": {
      "text/plain": [
       "{'properties': {'acceptedtsn': '38948',\n",
       "  'commonname_submitted': 'American Frogbit',\n",
       "  'discoveredtsn': '525094',\n",
       "  'itis_species_name': 'Limnobium spongia',\n",
       "  'scientificname_accepted': '',\n",
       "  'scientificname_submitted': 'Limnobium spongia ssp. spongia',\n",
       "  'taxonomicauthorityid_accepted': ''},\n",
       " 'type': 'Feature'}"
      ]
     },
     "metadata": {},
     "output_type": "display_data"
    },
    {
     "data": {
      "text/plain": [
       "{'properties': {'acceptedtsn': None,\n",
       "  'commonname_submitted': 'RIVER FROG',\n",
       "  'discoveredtsn': '775092',\n",
       "  'itis_species_name': 'Lithobates heckscheri',\n",
       "  'scientificname_accepted': '',\n",
       "  'scientificname_submitted': 'LITHOBATES  HECKSCHERI',\n",
       "  'taxonomicauthorityid_accepted': ''},\n",
       " 'type': 'Feature'}"
      ]
     },
     "metadata": {},
     "output_type": "display_data"
    },
    {
     "data": {
      "text/plain": [
       "{'properties': {'acceptedtsn': None,\n",
       "  'commonname_submitted': 'Willet',\n",
       "  'discoveredtsn': '824147',\n",
       "  'itis_species_name': 'Tringa semipalmata',\n",
       "  'scientificname_accepted': 'Tringa semipalmatus',\n",
       "  'scientificname_submitted': 'Tringa semipalmatus',\n",
       "  'taxonomicauthorityid_accepted': 'http://www.marinespecies.org/rest/AphiaRecordByAphiaID/567466'},\n",
       " 'type': 'Feature'}"
      ]
     },
     "metadata": {},
     "output_type": "display_data"
    },
    {
     "data": {
      "text/plain": [
       "{'properties': {'acceptedtsn': None,\n",
       "  'commonname_submitted': 'YELLOW-CROWNED NIGHT-HERON',\n",
       "  'discoveredtsn': '174842',\n",
       "  'itis_species_name': 'Nyctanassa violacea',\n",
       "  'scientificname_accepted': '',\n",
       "  'scientificname_submitted': 'NYCTANASSA VIOLACEUS',\n",
       "  'taxonomicauthorityid_accepted': ''},\n",
       " 'type': 'Feature'}"
      ]
     },
     "metadata": {},
     "output_type": "display_data"
    },
    {
     "data": {
      "text/plain": [
       "{'properties': {'acceptedtsn': None,\n",
       "  'commonname_submitted': 'Shrubby Sundrops',\n",
       "  'discoveredtsn': '524357',\n",
       "  'itis_species_name': 'Oenothera fruticosa',\n",
       "  'scientificname_accepted': '',\n",
       "  'scientificname_submitted': 'Oenothera fruticosa ssp. fruticosa',\n",
       "  'taxonomicauthorityid_accepted': ''},\n",
       " 'type': 'Feature'}"
      ]
     },
     "metadata": {},
     "output_type": "display_data"
    },
    {
     "data": {
      "text/plain": [
       "{'properties': {'acceptedtsn': '566390',\n",
       "  'commonname_submitted': 'Western Marble-Seed',\n",
       "  'discoveredtsn': '524375',\n",
       "  'itis_species_name': 'Onosmodium bejariense',\n",
       "  'scientificname_accepted': '',\n",
       "  'scientificname_submitted': 'Onosmodium molle ssp. occidentale',\n",
       "  'taxonomicauthorityid_accepted': ''},\n",
       " 'type': 'Feature'}"
      ]
     },
     "metadata": {},
     "output_type": "display_data"
    },
    {
     "data": {
      "text/plain": [
       "{'properties': {'acceptedtsn': None,\n",
       "  'commonname_submitted': 'Big Stone crayfish',\n",
       "  'discoveredtsn': '97337',\n",
       "  'itis_species_name': None,\n",
       "  'scientificname_accepted': '',\n",
       "  'scientificname_submitted': 'Cambarus spp.1',\n",
       "  'taxonomicauthorityid_accepted': ''},\n",
       " 'type': 'Feature'}"
      ]
     },
     "metadata": {},
     "output_type": "display_data"
    },
    {
     "data": {
      "text/plain": [
       "{'properties': {'acceptedtsn': None,\n",
       "  'commonname_submitted': 'Oferhollow Reed Grass',\n",
       "  'discoveredtsn': '523715',\n",
       "  'itis_species_name': 'Calamagrostis porteri',\n",
       "  'scientificname_accepted': '',\n",
       "  'scientificname_submitted': 'Calamagrostis porteri ssp. insperata',\n",
       "  'taxonomicauthorityid_accepted': ''},\n",
       " 'type': 'Feature'}"
      ]
     },
     "metadata": {},
     "output_type": "display_data"
    }
   ],
   "source": [
    "sgcnQ = \"SELECT s.scientificname_accepted, s.taxonomicauthorityid_accepted, \\\n",
    "    s.commonname_submitted, s.scientificname_submitted, \\\n",
    "    t.itis -> 'discoveredTSN' AS discoveredTSN, \\\n",
    "    t.itis -> 'acceptedTSN' AS acceptedTSN, \\\n",
    "    t.itis -> 'Species' AS itis_species_name \\\n",
    "    FROM public.sgcn s \\\n",
    "    LEFT JOIN tir.tir t \\\n",
    "    ON s.scientificname_submitted = t.registrationinfo -> 'SGCN_ScientificName_Submitted' \\\n",
    "    WHERE t.itis -> 'discoveredTSN' <> 'None'\"\n",
    "sgcnR = requests.get(apiBaseURL+\"&q=\"+sgcnQ).json()\n",
    "\n",
    "for feature in sgcnR['features']:\n",
    "    abbysTSN = feature['properties']['taxonomicauthorityid_accepted'].replace('http://services.itis.gov/?q=tsn:','')\n",
    "    if abbysTSN != feature['properties']['discoveredtsn'] and abbysTSN != feature['properties']['acceptedtsn']:\n",
    "        display (feature)"
   ]
  },
  {
   "cell_type": "code",
   "execution_count": null,
   "metadata": {
    "collapsed": true
   },
   "outputs": [],
   "source": []
  }
 ],
 "metadata": {
  "kernelspec": {
   "display_name": "Python 3",
   "language": "python",
   "name": "python3"
  },
  "language_info": {
   "codemirror_mode": {
    "name": "ipython",
    "version": 3
   },
   "file_extension": ".py",
   "mimetype": "text/x-python",
   "name": "python",
   "nbconvert_exporter": "python",
   "pygments_lexer": "ipython3",
   "version": "3.5.3"
  }
 },
 "nbformat": 4,
 "nbformat_minor": 0
}
