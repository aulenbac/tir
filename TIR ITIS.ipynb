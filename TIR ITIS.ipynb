{
 "cells": [
  {
   "cell_type": "markdown",
   "metadata": {},
   "source": [
    "This notebook retrieves registered species from a new attempt at what the Taxonomic Information Registry might look like, processes the species names through a little bit of logic, checks them against the ITIS Solr service, pairs up the properties we want to cache, and then commits them back to the \"tir2\" data table. It uses a number of common functions in the tirutils.py package that I'm working with.\n",
    "\n",
    "Right now, this is explicitly grabbing SGCN submitted scientific names, but it can be tweaked to retrieve any taxon string and do a lookup. We'll need to fiddle with the data from ITIS for our applications, but here's what I'm grabbing so far:\n",
    "\n",
    "* discovered and accepted TSN\n",
    "* taxonomic hierarchy (taking advantage of the nice way the Solr index includes the valid taxonomy without having to track down the accepted TSN record itself)\n",
    "* vernacular names (different languages)\n",
    "* rank of the discovered taxon, so that we can determine whether we only want to display cases where species or better is identified\n",
    "* create and update dates so we know how current the ITIS records are"
   ]
  },
  {
   "cell_type": "code",
   "execution_count": 13,
   "metadata": {
    "collapsed": false,
    "deletable": true,
    "editable": true
   },
   "outputs": [],
   "source": [
    "%reload_ext autoreload\n",
    "%autoreload 2\n",
    "\n",
    "import tirutils,requests,configparser,re\n",
    "from IPython.display import display\n",
    "\n",
    "config = configparser.RawConfigParser()\n",
    "config.read_file(open(r'../config/stuff.py'))\n",
    "gc2APIKey = config.get('apiKeys','apiKey_GC2_BCB').replace('\"','')\n",
    "apiBaseURL = \"https://gc2.mapcentia.com/api/v1/sql/bcb?key=\"+gc2APIKey"
   ]
  },
  {
   "cell_type": "code",
   "execution_count": 14,
   "metadata": {
    "collapsed": false,
    "deletable": true,
    "editable": true
   },
   "outputs": [],
   "source": [
    "# Retrieve target data from the TIR table where we do not yet have ITIS matched and cached\n",
    "targetDataSQL = \"SELECT gid, \\\n",
    "    registration -> 'SGCN_ScientificName_Submitted' AS scientificname \\\n",
    "    FROM tir.tir2 \\\n",
    "    WHERE itis IS NULL \\\n",
    "    ORDER BY gid\"\n",
    "\n",
    "targetData = requests.get(apiBaseURL+\"&q=\"+targetDataSQL).json()"
   ]
  },
  {
   "cell_type": "code",
   "execution_count": 15,
   "metadata": {
    "collapsed": false,
    "deletable": true,
    "editable": true
   },
   "outputs": [
    {
     "name": "stdout",
     "output_type": "stream",
     "text": [
      "Found an exact match for Abagrotis brunneipennis, so going to the next item\n",
      "{'affected_rows': 1, '_execution_time': 0.083, 'success': True, 'auth_check': {'auth_level': None, 'success': True, 'session': None}}\n",
      "Found an exact match for Abagrotis nefascia, so going to the next item\n",
      "{'affected_rows': 1, '_execution_time': 0.084, 'success': True, 'auth_check': {'auth_level': None, 'success': True, 'session': None}}\n",
      "Found an exact match for Abudefduf saxatilis, so going to the next item\n",
      "{'affected_rows': 1, '_execution_time': 0.059, 'success': True, 'auth_check': {'auth_level': None, 'success': True, 'session': None}}\n",
      "Found an exact match for Abudefduf taurus, so going to the next item\n",
      "{'affected_rows': 1, '_execution_time': 0.058, 'success': True, 'auth_check': {'auth_level': None, 'success': True, 'session': None}}\n",
      "Found an exact match for Acalypha gracilens, so going to the next item\n",
      "{'affected_rows': 1, '_execution_time': 0.062, 'success': True, 'auth_check': {'auth_level': None, 'success': True, 'session': None}}\n",
      "Found an exact match for Acalypha ostryifolia, so going to the next item\n",
      "{'affected_rows': 1, '_execution_time': 0.063, 'success': True, 'auth_check': {'auth_level': None, 'success': True, 'session': None}}\n",
      "Found an exact match for Acanthametropus pecatonica, so going to the next item\n",
      "{'affected_rows': 1, '_execution_time': 0.059, 'success': True, 'auth_check': {'auth_level': None, 'success': True, 'session': None}}\n",
      "Found an exact match for Acantharchus pomotis, so going to the next item\n",
      "{'affected_rows': 1, '_execution_time': 0.105, 'success': True, 'auth_check': {'auth_level': None, 'success': True, 'session': None}}\n",
      "Found an exact match for Acanthemblemaria aspera, so going to the next item\n",
      "{'affected_rows': 1, '_execution_time': 0.062, 'success': True, 'auth_check': {'auth_level': None, 'success': True, 'session': None}}\n",
      "Found an exact match for Acanthemblemaria chaplini, so going to the next item\n",
      "{'affected_rows': 1, '_execution_time': 0.061, 'success': True, 'auth_check': {'auth_level': None, 'success': True, 'session': None}}\n"
     ]
    }
   ],
   "source": [
    "# Set this flag to false to show the results but not commit data\n",
    "commitData = True\n",
    "\n",
    "for feature in targetData['features']:\n",
    "    gid = feature['properties']['gid']\n",
    "    scientificname = feature['properties']['scientificname']\n",
    "    itisTerm = \"nameWOInd\"\n",
    "    numFoundExact = 0\n",
    "    numFoundFuzzy = 0\n",
    "\n",
    "    # \"var.\" and \"ssp.\" indicate that the string has population and variation indicators and should use the WInd service\n",
    "    if scientificname.find(\"var.\") or scientificname.find(\"ssp.\"):\n",
    "        itisTerm = \"nameWInd\"\n",
    "\n",
    "    # Get rid of \"pop.\" from the string to enable the search to find a match without whatever population indicator is in the string\n",
    "    if scientificname.find(\"pop.\"):\n",
    "        nameParts = scientificname.split()\n",
    "        regex = re.compile(r'pop\\.[0-9]')\n",
    "        scientificname = ' '.join([i for i in nameParts if not regex.search(i)])\n",
    "\n",
    "    # Get rid of \"spp.\" from the string, and it should find a genus match\n",
    "    if scientificname.find(\"spp.\"):\n",
    "        nameParts = scientificname.split()\n",
    "        regex = re.compile(r'spp\\.')\n",
    "        scientificname = ' '.join([i for i in nameParts if not regex.search(i)])\n",
    "\n",
    "# Revisit this to cut out the actual stuff between the ()\n",
    "#    if scientificname.find(\"(\") and scientificname.find(\")\"):\n",
    "#        nameParts = scientificname.split()\n",
    "#        regex = re.compile(r'\\(')\n",
    "#        scientificname = ' '.join([i for i in nameParts if not regex.search(i)])\n",
    "\n",
    "    # Clean up all upper case strings because the ITIS service doesn't like them\n",
    "    if any(x.isupper() for x in scientificname[-(len(scientificname)-1):]):\n",
    "        scientificname = scientificname.lower().capitalize()\n",
    "\n",
    "    # First try an exact match on the name string\n",
    "    itisExactMatchURL = \"http://services.itis.gov/?wt=json&rows=10&q=\"+itisTerm+\":\"+scientificname.replace(\" \",\"\\%20\")\n",
    "    try:\n",
    "        itisExactMatchR = requests.get(itisExactMatchURL).json()\n",
    "        numFoundExact = int(itisExactMatchR['response']['numFound'])\n",
    "        if numFoundExact == 1:\n",
    "            itisPairs = tirutils.packageITISPairs('exact match on '+scientificname,itisExactMatchR)\n",
    "            print (\"Found an exact match for \"+scientificname+\", so going to the next item\")\n",
    "            if commitData:\n",
    "                print (tirutils.cacheToTIR(apiBaseURL,gid,\"itis\",itisPairs))\n",
    "            continue\n",
    "        elif numFoundExact > 1:\n",
    "            continue\n",
    "    except:\n",
    "        print (\"Problem with exact match: \"+itisExactMatchURL)\n",
    "        continue\n",
    "\n",
    "    # If an exact match doesn't work or has found more than one record, try a fuzzy match search\n",
    "    itisFuzzyMatchURL = \"http://services.itis.gov/?wt=json&rows=10&q=\"+itisTerm+\":\"+scientificname.replace(\" \",\"\\%20\")+\"~0.5\"\n",
    "    try:\n",
    "        itisFuzzyMatchR = requests.get(itisFuzzyMatchURL).json()\n",
    "        numFoundFuzzy = int(itisFuzzyMatchR['response']['numFound'])\n",
    "        if numFoundFuzzy == 1:\n",
    "            itisPairs = tirutils.packageITISPairs('fuzzy match on '+scientificname,itisFuzzyMatchR)\n",
    "            print (\"Found a fuzzy match for \"+scientificname+\", so going to the next item\")\n",
    "            if commitData:\n",
    "                print (tirutils.cacheToTIR(apiBaseURL,gid,\"itis\",itisPairs))\n",
    "            continue\n",
    "        elif numFoundFuzzy > 1:\n",
    "            continue\n",
    "    except:\n",
    "        print (\"Problem with fuzzy match: \"+itisFuzzyMatchURL)\n",
    "        continue\n",
    "\n",
    "    # Show an output indicating that the name string will still need some work and indicating cases where more than one match was found\n",
    "    print (\"Still need to work on: \"+scientificname+\" (\"+str(numFoundExact)+\",\"+str(numFoundFuzzy)+\")\")\n",
    "    "
   ]
  },
  {
   "cell_type": "code",
   "execution_count": null,
   "metadata": {
    "collapsed": true,
    "deletable": true,
    "editable": true
   },
   "outputs": [],
   "source": []
  }
 ],
 "metadata": {
  "anaconda-cloud": {},
  "kernelspec": {
   "display_name": "Python 3",
   "language": "python",
   "name": "python3"
  },
  "language_info": {
   "codemirror_mode": {
    "name": "ipython",
    "version": 3
   },
   "file_extension": ".py",
   "mimetype": "text/x-python",
   "name": "python",
   "nbconvert_exporter": "python",
   "pygments_lexer": "ipython3",
   "version": "3.5.3"
  }
 },
 "nbformat": 4,
 "nbformat_minor": 0
}
